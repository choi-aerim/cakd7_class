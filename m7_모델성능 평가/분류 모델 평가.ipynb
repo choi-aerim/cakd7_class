{
 "cells": [
  {
   "cell_type": "markdown",
   "id": "371a485b",
   "metadata": {},
   "source": [
    "# 머신러닝 분류 모델 평가"
   ]
  },
  {
   "cell_type": "markdown",
   "id": "5f3d0706",
   "metadata": {},
   "source": [
    "## 머신러닝\n",
    "- <b>데이터가공/변환 -> 모델 학습/예측 -> 평가</b> 프로세스로 구성됨\n",
    "- 분류의 평가 방법도 일반적으로 실제 결과 데이터와 예측 결가 데이터가 얼마나 정확하고 오류가 적게 발생하는가에 기반하지만, 단순히 정확도만 가지고 판단했다가는 잘못된 평가 결과에 빠질 수 있음\n",
    "```\n",
    "예시>\n",
    "\n",
    "    ex) 남 28명, 여2명인 집단에서 이 집단은 남성으로 구성되어있다 -> 이미 남자의 구성비율이 높기 때문에 예측이 90프로이상 맞게 됨\n",
    "    \n",
    "    -> 불균형한 레이블 값 분포에서 ML 모델의 성능을 판단할 경우, 정확도를 활용하는 것은 적합한 방법이 아니다.\n",
    "```\n"
   ]
  },
  {
   "cell_type": "markdown",
   "id": "9064cd9c",
   "metadata": {},
   "source": [
    "## 분류 성능 평가 지표\n",
    "\n",
    "<b>오차행렬</b>\n",
    "- 이진 분류에서 성능 지표로 활용됨\n",
    "- 학습된 분류 모델이 예측을 수행하면서 예측 오류가 얼마인지 더불어 어떠한 유형의 예측 오류가 발생하고 있는지를 나타냄\n",
    "\n",
    "<img src = 'https://velog.velcdn.com/images%2Fsset2323%2Fpost%2F2fb704cf-8556-40fc-87a2-75b8feb32986%2Fimage.png' width = '600px'> "
   ]
  },
  {
   "cell_type": "markdown",
   "id": "b9831171",
   "metadata": {},
   "source": [
    "일반적으로 불균형한 레이블 클래스를 가지는 이진 분류 모델에서는 많은 데이터 중에서 중점적으로 찾아야하는 매우 적은 수의 결괏값에 Positive를 설정해 1값을 부여하고, 그렇지 않은 경우는 Negative로 0을 부여하는 경우가 많음\n",
    "```\n",
    "    ex) 암이 양성 -> 1, 음성-> 0\n",
    "    ex2) 사기 행위 예측모델 사기 -> 1, 정상 -> 0\n",
    "```\n",
    "불균형한 이진 분류 세트에서 Positive 건수가 매우 적기 때문에 데이터에 기반한 ML 알고리즘은 Positive보다 Negative 예측 정확도가 높아지는 경향이 발생함. \n",
    "따라서, 불균형한 데이터 세트에서는 Positive 데이터 세트 예측에 초점을 맞춘 평가 지표인 정밀도/재현율이 더 선호됨\n",
    "\n",
    "<b>1. Accuracy(정확도): 실제 전체 데이터에서 예측 데이터가 얼마나 같은지 평가</b>\n",
    "\n",
    "    - (TN + TP)/(TN + TP + FN + FP)\n",
    "    \n",
    "<b>2. Recall(재현율, 민감도, TPR): 실제가 Positive인 대상 중에 예측과 실제 값이 Positive로 일치한 데이터의 비율</b>\n",
    "\n",
    "    - TP / (TP + FP)\n",
    "    \n",
    "<b>3. Precision(정밀도): 예측을 Positive로 한 대상 중에 예측과 실제 값이 Positive로 일치한 데이터의 비율</b>\n",
    "\n",
    "    - TP / (FN + TP)\n",
    "    \n",
    "<b>4. F1 Score: 정밀도와 재현율을 결합한 지표로, 정밀도와 재현율이 어느 한 쪽으로 치우치지 않는 수치를 나타낼 때 상대적으로 높은 값을 가짐</b>\n",
    "    \n",
    "    - (2* 재현율 * 정밀도)/(재현율 + 정밀도)\n",
    "    \n",
    "가장 좋은 성능 평가는 재현율과 정밀도 모두 높은 수치를 얻는 것\n",
    "\n"
   ]
  },
  {
   "cell_type": "code",
   "execution_count": null,
   "id": "0174fcf1",
   "metadata": {},
   "outputs": [],
   "source": [
    "import numpy as np\n",
    "import pandas as pd\n",
    "\n",
    "from sklearn.model_selection import train_test_split\n",
    "from sklearn.linear_model import LogisticRegression"
   ]
  },
  {
   "cell_type": "code",
   "execution_count": 7,
   "id": "e45e6fea",
   "metadata": {},
   "outputs": [
    {
     "data": {
      "text/html": [
       "<div>\n",
       "<style scoped>\n",
       "    .dataframe tbody tr th:only-of-type {\n",
       "        vertical-align: middle;\n",
       "    }\n",
       "\n",
       "    .dataframe tbody tr th {\n",
       "        vertical-align: top;\n",
       "    }\n",
       "\n",
       "    .dataframe thead th {\n",
       "        text-align: right;\n",
       "    }\n",
       "</style>\n",
       "<table border=\"1\" class=\"dataframe\">\n",
       "  <thead>\n",
       "    <tr style=\"text-align: right;\">\n",
       "      <th></th>\n",
       "      <th>PassengerId</th>\n",
       "      <th>Survived</th>\n",
       "      <th>Pclass</th>\n",
       "      <th>Name</th>\n",
       "      <th>Sex</th>\n",
       "      <th>Age</th>\n",
       "      <th>SibSp</th>\n",
       "      <th>Parch</th>\n",
       "      <th>Ticket</th>\n",
       "      <th>Fare</th>\n",
       "      <th>Cabin</th>\n",
       "      <th>Embarked</th>\n",
       "    </tr>\n",
       "  </thead>\n",
       "  <tbody>\n",
       "    <tr>\n",
       "      <th>0</th>\n",
       "      <td>1</td>\n",
       "      <td>0</td>\n",
       "      <td>3</td>\n",
       "      <td>Braund, Mr. Owen Harris</td>\n",
       "      <td>male</td>\n",
       "      <td>22.0</td>\n",
       "      <td>1</td>\n",
       "      <td>0</td>\n",
       "      <td>A/5 21171</td>\n",
       "      <td>7.2500</td>\n",
       "      <td>NaN</td>\n",
       "      <td>S</td>\n",
       "    </tr>\n",
       "    <tr>\n",
       "      <th>1</th>\n",
       "      <td>2</td>\n",
       "      <td>1</td>\n",
       "      <td>1</td>\n",
       "      <td>Cumings, Mrs. John Bradley (Florence Briggs Th...</td>\n",
       "      <td>female</td>\n",
       "      <td>38.0</td>\n",
       "      <td>1</td>\n",
       "      <td>0</td>\n",
       "      <td>PC 17599</td>\n",
       "      <td>71.2833</td>\n",
       "      <td>C85</td>\n",
       "      <td>C</td>\n",
       "    </tr>\n",
       "    <tr>\n",
       "      <th>2</th>\n",
       "      <td>3</td>\n",
       "      <td>1</td>\n",
       "      <td>3</td>\n",
       "      <td>Heikkinen, Miss. Laina</td>\n",
       "      <td>female</td>\n",
       "      <td>26.0</td>\n",
       "      <td>0</td>\n",
       "      <td>0</td>\n",
       "      <td>STON/O2. 3101282</td>\n",
       "      <td>7.9250</td>\n",
       "      <td>NaN</td>\n",
       "      <td>S</td>\n",
       "    </tr>\n",
       "    <tr>\n",
       "      <th>3</th>\n",
       "      <td>4</td>\n",
       "      <td>1</td>\n",
       "      <td>1</td>\n",
       "      <td>Futrelle, Mrs. Jacques Heath (Lily May Peel)</td>\n",
       "      <td>female</td>\n",
       "      <td>35.0</td>\n",
       "      <td>1</td>\n",
       "      <td>0</td>\n",
       "      <td>113803</td>\n",
       "      <td>53.1000</td>\n",
       "      <td>C123</td>\n",
       "      <td>S</td>\n",
       "    </tr>\n",
       "    <tr>\n",
       "      <th>4</th>\n",
       "      <td>5</td>\n",
       "      <td>0</td>\n",
       "      <td>3</td>\n",
       "      <td>Allen, Mr. William Henry</td>\n",
       "      <td>male</td>\n",
       "      <td>35.0</td>\n",
       "      <td>0</td>\n",
       "      <td>0</td>\n",
       "      <td>373450</td>\n",
       "      <td>8.0500</td>\n",
       "      <td>NaN</td>\n",
       "      <td>S</td>\n",
       "    </tr>\n",
       "  </tbody>\n",
       "</table>\n",
       "</div>"
      ],
      "text/plain": [
       "   PassengerId  Survived  Pclass  \\\n",
       "0            1         0       3   \n",
       "1            2         1       1   \n",
       "2            3         1       3   \n",
       "3            4         1       1   \n",
       "4            5         0       3   \n",
       "\n",
       "                                                Name     Sex   Age  SibSp  \\\n",
       "0                            Braund, Mr. Owen Harris    male  22.0      1   \n",
       "1  Cumings, Mrs. John Bradley (Florence Briggs Th...  female  38.0      1   \n",
       "2                             Heikkinen, Miss. Laina  female  26.0      0   \n",
       "3       Futrelle, Mrs. Jacques Heath (Lily May Peel)  female  35.0      1   \n",
       "4                           Allen, Mr. William Henry    male  35.0      0   \n",
       "\n",
       "   Parch            Ticket     Fare Cabin Embarked  \n",
       "0      0         A/5 21171   7.2500   NaN        S  \n",
       "1      0          PC 17599  71.2833   C85        C  \n",
       "2      0  STON/O2. 3101282   7.9250   NaN        S  \n",
       "3      0            113803  53.1000  C123        S  \n",
       "4      0            373450   8.0500   NaN        S  "
      ]
     },
     "execution_count": 7,
     "metadata": {},
     "output_type": "execute_result"
    }
   ],
   "source": [
    "tdf = pd.read_csv('titanic_train.csv')\n",
    "tdf.head()"
   ]
  },
  {
   "cell_type": "code",
   "execution_count": 8,
   "id": "c64478fb",
   "metadata": {},
   "outputs": [],
   "source": [
    "from sklearn.preprocessing import LabelEncoder\n",
    "\n",
    "# Null 처리 함수\n",
    "def fillna(df):\n",
    "    df['Age'].fillna(df['Age'].mean(), inplace=True)\n",
    "    df['Cabin'].fillna('N', inplace=True)\n",
    "    df['Embarked'].fillna('N', inplace=True)\n",
    "    df['Fare'].fillna(0, inplace=True)\n",
    "    return df\n",
    "\n",
    "# 머신러닝 알고리즘에 불필요한 피처 제거\n",
    "def drop_features(df):\n",
    "    df.drop(['PassengerId', 'Name', 'Ticket'], axis=1, inplace=True)\n",
    "    return df\n",
    "\n",
    "# 레이블 인코딩 수행.\n",
    "def format_features(df):\n",
    "    df['Cabin'] = df['Cabin'].str[:1]\n",
    "    features = ['Cabin', 'Sex', 'Embarked']\n",
    "    for feature in features:\n",
    "        le = LabelEncoder()\n",
    "        le = le.fit(df[feature])\n",
    "        df[feature] = le.transform(df[feature])\n",
    "    return df\n",
    "\n",
    "# 앞에서 설정한 데이터 전처리 함수 호출\n",
    "def transform_features(df):\n",
    "    df = fillna(df)\n",
    "    df = drop_features(df)\n",
    "    df = format_features(df)\n",
    "    return df"
   ]
  },
  {
   "cell_type": "code",
   "execution_count": 58,
   "id": "66815c51",
   "metadata": {},
   "outputs": [],
   "source": [
    "from sklearn.metrics import accuracy_score, precision_score , recall_score , confusion_matrix, f1_score\n",
    "\n",
    "# 평가 사용자함수\n",
    "def get_clf_eval(y_test , pred):\n",
    "    confusion = confusion_matrix(y_test, pred)\n",
    "    accuracy = accuracy_score(y_test , pred)\n",
    "    precision = precision_score(y_test , pred)\n",
    "    recall = recall_score(y_test , pred)\n",
    "    f1 = f1_score(y_test, pred)\n",
    "    print('오차 행렬')\n",
    "    print(confusion)\n",
    "    print('정확도: {0:.4f}, 정밀도: {1:.4f}, 재현율: {2:.4f}, f1: {3: .4f}'.format(accuracy , precision ,recall, f1))"
   ]
  },
  {
   "cell_type": "code",
   "execution_count": 21,
   "id": "092074ce",
   "metadata": {},
   "outputs": [
    {
     "name": "stdout",
     "output_type": "stream",
     "text": [
      "오차 행렬\n",
      "[[108  10]\n",
      " [ 14  47]]\n",
      "정확도: 0.8659, 정밀도: 0.8246, 재현율: 0.7705, f1:  0.7966\n"
     ]
    }
   ],
   "source": [
    "y_tdf = tdf['Survived']\n",
    "X_tdf = tdf.drop('Survived', axis = 1)\n",
    "X_tdf = transform_features(X_tdf)\n",
    "\n",
    "X_train, X_test, y_train, y_test = train_test_split(X_tdf, y_tdf, \n",
    "                                                    test_size= 0.2, random_state = 11)\n",
    "\n",
    "# solver: 최적화에 사용할 알고리즘 결정('newton-cg', 'lbfgs',' liblinear', 'sag','saga')\n",
    "lr_clf = LogisticRegression(solver = 'liblinear')\n",
    "\n",
    "lr_clf.fit(X_train, y_train)\n",
    "pred = lr_clf.predict(X_test)\n",
    "\n",
    "get_clf_eval(y_test, pred)"
   ]
  },
  {
   "cell_type": "markdown",
   "id": "8f6da52b",
   "metadata": {},
   "source": [
    "#### 과제 1: 정확도, 정밀도, 재현율, f1 score 수작업으로 구하기\n",
    "상기 오차 행렬로 수작업으로 정확도, 정밀도, 재현율, F1 score을 구하기"
   ]
  },
  {
   "cell_type": "code",
   "execution_count": 32,
   "id": "e58d2279",
   "metadata": {},
   "outputs": [
    {
     "name": "stdout",
     "output_type": "stream",
     "text": [
      "오차행렬:\n"
     ]
    },
    {
     "data": {
      "text/html": [
       "<div>\n",
       "<style scoped>\n",
       "    .dataframe tbody tr th:only-of-type {\n",
       "        vertical-align: middle;\n",
       "    }\n",
       "\n",
       "    .dataframe tbody tr th {\n",
       "        vertical-align: top;\n",
       "    }\n",
       "\n",
       "    .dataframe thead th {\n",
       "        text-align: right;\n",
       "    }\n",
       "</style>\n",
       "<table border=\"1\" class=\"dataframe\">\n",
       "  <thead>\n",
       "    <tr style=\"text-align: right;\">\n",
       "      <th></th>\n",
       "      <th>예측 N</th>\n",
       "      <th>예측 P</th>\n",
       "    </tr>\n",
       "  </thead>\n",
       "  <tbody>\n",
       "    <tr>\n",
       "      <th>실제 N</th>\n",
       "      <td>TN</td>\n",
       "      <td>FP</td>\n",
       "    </tr>\n",
       "    <tr>\n",
       "      <th>실제 P</th>\n",
       "      <td>FN</td>\n",
       "      <td>TP</td>\n",
       "    </tr>\n",
       "  </tbody>\n",
       "</table>\n",
       "</div>"
      ],
      "text/plain": [
       "     예측 N 예측 P\n",
       "실제 N   TN   FP\n",
       "실제 P   FN   TP"
      ]
     },
     "metadata": {},
     "output_type": "display_data"
    },
    {
     "data": {
      "text/html": [
       "<div>\n",
       "<style scoped>\n",
       "    .dataframe tbody tr th:only-of-type {\n",
       "        vertical-align: middle;\n",
       "    }\n",
       "\n",
       "    .dataframe tbody tr th {\n",
       "        vertical-align: top;\n",
       "    }\n",
       "\n",
       "    .dataframe thead th {\n",
       "        text-align: right;\n",
       "    }\n",
       "</style>\n",
       "<table border=\"1\" class=\"dataframe\">\n",
       "  <thead>\n",
       "    <tr style=\"text-align: right;\">\n",
       "      <th></th>\n",
       "      <th>예측 N</th>\n",
       "      <th>예측 P</th>\n",
       "    </tr>\n",
       "  </thead>\n",
       "  <tbody>\n",
       "    <tr>\n",
       "      <th>실제 N</th>\n",
       "      <td>108</td>\n",
       "      <td>10</td>\n",
       "    </tr>\n",
       "    <tr>\n",
       "      <th>실제 P</th>\n",
       "      <td>14</td>\n",
       "      <td>47</td>\n",
       "    </tr>\n",
       "  </tbody>\n",
       "</table>\n",
       "</div>"
      ],
      "text/plain": [
       "      예측 N  예측 P\n",
       "실제 N   108    10\n",
       "실제 P    14    47"
      ]
     },
     "metadata": {},
     "output_type": "display_data"
    },
    {
     "name": "stdout",
     "output_type": "stream",
     "text": [
      "정확도:  0.8659\n",
      "정밀도:  0.8246\n",
      "재현율:  0.7705\n",
      "f1 score : 0.7966\n"
     ]
    }
   ],
   "source": [
    "import pandas as pd\n",
    "import numpy as np\n",
    "cf = pd.DataFrame(np.array([['TN','FP'],['FN','TP']]), \n",
    "                  columns = ['예측 N', '예측 P'],\n",
    "                  index = ['실제 N', '실제 P'])\n",
    "cf_real = pd.DataFrame(np.array([[108,10],[14,47]]), \n",
    "                       columns = ['예측 N', '예측 P'],\n",
    "                       index = ['실제 N', '실제 P'])\n",
    "print(f'오차행렬:')\n",
    "display(cf, cf_real)\n",
    "\n",
    "\n",
    "\n",
    "# 정확도(True(실제 = 예측) / 전체)\n",
    "accuracy =  (cf_real.iloc[0,0] + cf_real.iloc[1,1]) / cf_real.sum().sum()\n",
    "print(f'정확도: {accuracy: .4f}')\n",
    "\n",
    "\n",
    "# 정밀도( Positive(실제, 예측) / Positive (예측) )\n",
    "precision = cf_real.iloc[1,1] / (cf_real.iloc[0,1] + cf_real.iloc[1,1])\n",
    "print(f'정밀도: {precision: .4f}')\n",
    "\n",
    "\n",
    "# 재현율( Positive(실제, 예측) / Positive (실제))\n",
    "recall = cf_real.iloc[1,1] / (cf_real.iloc[1,0] + cf_real.iloc[1,1])\n",
    "print(f'재현율: {recall: .4f}')\n",
    "\n",
    "\n",
    "#f1 score = 2*(정밀도 * 재현율)/(정밀도 + 재현율)\n",
    "f1 = 2*precision*recall / (precision + recall)\n",
    "print(f'f1 score : {f1:.4f}')"
   ]
  },
  {
   "cell_type": "markdown",
   "id": "d4ba5390",
   "metadata": {},
   "source": [
    "#### 과제2.\n",
    "Precision과 Recall 간의 Trade-off 관계를 시각화하여 설명하기\n",
    "\n",
    "p164 참고"
   ]
  },
  {
   "cell_type": "code",
   "execution_count": 46,
   "id": "235b7ae7",
   "metadata": {
    "scrolled": true
   },
   "outputs": [
    {
     "name": "stdout",
     "output_type": "stream",
     "text": [
      "오차 행렬\n",
      "[[108  10]\n",
      " [ 14  47]]\n",
      "정확도: 0.8659, 정밀도: 0.8246, 재현율: 0.7705, f1:  0.7966\n",
      "\n",
      "\n",
      "pred_proba() shape: (179, 2)\n",
      "pred_proba() 결과: \n",
      " [[0.44935228 0.55064772]\n",
      " [0.86335513 0.13664487]\n",
      " [0.86429645 0.13570355]]\n",
      "\n",
      "\n",
      "두 개의 class 중 더 큰 확률을 클래스 값으로 예측 \n",
      " [[0.44935228 0.55064772 1.        ]\n",
      " [0.86335513 0.13664487 0.        ]\n",
      " [0.86429645 0.13570355 0.        ]]\n"
     ]
    }
   ],
   "source": [
    "import pandas as pd\n",
    "from sklearn.model_selection import train_test_split\n",
    "from sklearn.linear_model import LogisticRegression\n",
    "\n",
    "# 원본 데이터 재로딩, 가공, 학습 데이터/테스트데이터 분할\n",
    "tit_df = pd.read_csv('titanic_train.csv')\n",
    "y_titanic_df = tit_df['Survived']\n",
    "X_titanic_df = tit_df.drop('Survived', axis = 1)\n",
    "X_titanic_df = transform_features(X_titanic_df)\n",
    "\n",
    "X_train, X_test, y_train, y_test = train_test_split(X_titanic_df, y_titanic_df,\n",
    "                                                    test_size = 0.2, random_state = 11)\n",
    "\n",
    "lr_clf = LogisticRegression(solver = 'liblinear')\n",
    "lr_clf.fit(X_train, y_train)\n",
    "pred = lr_clf.predict(X_test)\n",
    "get_clf_eval(y_test, pred)\n",
    "print('\\n')\n",
    "\n",
    "\n",
    "# 예측확률 array 생성\n",
    "pred_proba = lr_clf.predict_proba(X_test)\n",
    "pred = lr_clf.predict(X_test)\n",
    "print(f'pred_proba() shape: {pred_proba.shape}')\n",
    "print(f'pred_proba() 결과: \\n {pred_proba[:3]}')\n",
    "print('\\n')\n",
    "\n",
    "\n",
    "# 예측확률 array와 예측 결과값 array 병합\n",
    "pred_proba_result = np.concatenate([pred_proba, pred.reshape(-1,1)], axis = 1)\n",
    "print('두 개의 class 중 더 큰 확률을 클래스 값으로 예측 \\n', pred_proba_result[:3])"
   ]
  },
  {
   "cell_type": "code",
   "execution_count": 71,
   "id": "8de394a6",
   "metadata": {},
   "outputs": [
    {
     "name": "stdout",
     "output_type": "stream",
     "text": [
      "오차 행렬\n",
      "[[108  10]\n",
      " [ 14  47]]\n",
      "정확도: 0.8659, 정밀도: 0.8246, 재현율: 0.7705, f1:  0.7966\n"
     ]
    }
   ],
   "source": [
    "from sklearn.preprocessing import Binarizer\n",
    "\n",
    "# Binarizer의 threshold 설정값, 분류 결정 임곗값\n",
    "threshold = 0.5\n",
    "\n",
    "# predict_proba()에서 'Positive' 클래스 칼럼 하나만 추출\n",
    "pred_proba_1 = pred_proba[:, 1].reshape(-1,1)\n",
    "\n",
    "# Binarizer 적용 -> 0.5이상이면 1 반환, 아니면 0 반환\n",
    "binarizer = Binarizer(threshold = threshold).fit(pred_proba_1)\n",
    "predict = binarizer.transform(pred_proba_1)\n",
    "\n",
    "get_clf_eval(y_test, predict)"
   ]
  },
  {
   "cell_type": "code",
   "execution_count": 72,
   "id": "ebf15f0c",
   "metadata": {},
   "outputs": [
    {
     "name": "stdout",
     "output_type": "stream",
     "text": [
      "오차 행렬\n",
      "[[97 21]\n",
      " [11 50]]\n",
      "정확도: 0.8212, 정밀도: 0.7042, 재현율: 0.8197, f1:  0.7576\n"
     ]
    }
   ],
   "source": [
    "# Binarizer의 threshold 설정값, 분류 결정 임곗값\n",
    "threshold = 0.4\n",
    "\n",
    "binarizer = Binarizer(threshold = threshold).fit(pred_proba_1)\n",
    "predict = binarizer.transform(pred_proba_1)\n",
    "\n",
    "get_clf_eval(y_test, predict)"
   ]
  },
  {
   "cell_type": "markdown",
   "id": "746f44b2",
   "metadata": {},
   "source": [
    "- 임곗값 감소 -> TP, FP 증가, FN 감소, 정밀도 감소, 재현율 증가"
   ]
  },
  {
   "cell_type": "code",
   "execution_count": 84,
   "id": "e1f07e46",
   "metadata": {},
   "outputs": [
    {
     "name": "stdout",
     "output_type": "stream",
     "text": [
      "임곗값:  0.4\n",
      "오차 행렬\n",
      "[[97 21]\n",
      " [11 50]]\n",
      "정확도: 0.8212, 정밀도: 0.7042, 재현율: 0.8197, f1:  0.7576\n",
      "\n",
      "\n",
      "임곗값:  0.45\n",
      "오차 행렬\n",
      "[[105  13]\n",
      " [ 13  48]]\n",
      "정확도: 0.8547, 정밀도: 0.7869, 재현율: 0.7869, f1:  0.7869\n",
      "\n",
      "\n",
      "임곗값:  0.5\n",
      "오차 행렬\n",
      "[[108  10]\n",
      " [ 14  47]]\n",
      "정확도: 0.8659, 정밀도: 0.8246, 재현율: 0.7705, f1:  0.7966\n",
      "\n",
      "\n",
      "임곗값:  0.55\n",
      "오차 행렬\n",
      "[[111   7]\n",
      " [ 16  45]]\n",
      "정확도: 0.8715, 정밀도: 0.8654, 재현율: 0.7377, f1:  0.7965\n",
      "\n",
      "\n",
      "임곗값:  0.6\n",
      "오차 행렬\n",
      "[[113   5]\n",
      " [ 17  44]]\n",
      "정확도: 0.8771, 정밀도: 0.8980, 재현율: 0.7213, f1:  0.8000\n",
      "\n",
      "\n"
     ]
    }
   ],
   "source": [
    "# 최적 임곗값 찾기\n",
    "\n",
    "thresholds = [0.4, 0.45, 0.50, 0.55, 0.60]\n",
    "\n",
    "def get_eval_by_threshold(y_test, pred_proba_c1, threshold):\n",
    "    for t in thresholds:\n",
    "        binarizer = Binarizer(threshold = t).fit(pred_proba_c1)\n",
    "        predict = binarizer.transform(pred_proba_c1)\n",
    "        print('임곗값: ', t)\n",
    "        get_clf_eval(y_test, predict)\n",
    "        print('\\n')\n",
    "        \n",
    "get_eval_by_threshold(y_test, pred_proba[:,1].reshape(-1,1), thresholds)"
   ]
  },
  {
   "cell_type": "code",
   "execution_count": 98,
   "id": "0d25e821",
   "metadata": {},
   "outputs": [
    {
     "name": "stdout",
     "output_type": "stream",
     "text": [
      "반환된 분류결정 임곗값 배열의 shape:  (147,)\n",
      "샘플용 임곗값 10개: [0.12 0.13 0.15 0.17 0.26 0.38 0.49 0.63 0.76 0.9 ]\n",
      "임곗값별 정밀도:  [0.379 0.424 0.455 0.519 0.618 0.676 0.797 0.93  0.964 1.   ]\n",
      "임곗값별 재현율:  [1.    0.967 0.902 0.902 0.902 0.82  0.77  0.656 0.443 0.213]\n"
     ]
    }
   ],
   "source": [
    "from sklearn.metrics import precision_recall_curve\n",
    "\n",
    "# 로지스틱회귀방식으로 레이블 값이 1(Positive)일 때의 예측 확률 추출\n",
    "pred_proba_class1 = lr_clf.predict_proba(X_test)[:,1]\n",
    "\n",
    "\n",
    "# 다양한 확률 임곗값에 대한 정밀도<->재현율 쌍을 계산\n",
    "precisions, recalls, thresholds = precision_recall_curve(y_test, pred_proba_class1)\n",
    "print('반환된 분류결정 임곗값 배열의 shape: ', thresholds.shape)\n",
    "\n",
    "\n",
    "# 반환된 임곗값을 15개 간격으로 10개 추출\n",
    "thr_index = np.arange(0, thresholds.shape[0], 15)\n",
    "print('샘플용 임곗값 10개:', np.round(thresholds[thr_index], 2))\n",
    "\n",
    "\n",
    "# 임곗값에 따른 정밀도, 재현율 값\n",
    "print('임곗값별 정밀도: ', np.around(precisions[thr_index],3))\n",
    "print('임곗값별 재현율: ', np.around(recalls[thr_index],3))"
   ]
  },
  {
   "cell_type": "code",
   "execution_count": 107,
   "id": "9ddd39ed",
   "metadata": {},
   "outputs": [
    {
     "data": {
      "image/png": "[encoded data removed]",
      "text/plain": [
       "<Figure size 720x432 with 1 Axes>"
      ]
     },
     "metadata": {
      "needs_background": "light"
     },
     "output_type": "display_data"
    }
   ],
   "source": [
    "# 해당 정밀도와 재현율 시각화\n",
    "\n",
    "import matplotlib.pyplot as plt\n",
    "import matplotlib.ticker as ticker\n",
    "\n",
    "%matplotlib inline\n",
    "\n",
    "def precision_recall_curve_plot(y_test, pred_proba_c1):\n",
    "    \n",
    "    # 임곗값에 따른 정밀도, 재현율 계산\n",
    "    precisions, recalls, thresholds = precision_recall_curve(y_test, pred_proba_c1)\n",
    "    \n",
    "    # x축을 thresholds, y축을 정밀도, 재현율 값으로 plot화\n",
    "    fig = plt.figure(figsize = (10,6))\n",
    "    threshold_boundary = thresholds.shape[0]\n",
    "    \n",
    "    plt.plot(thresholds, precisions[0:threshold_boundary], linestyle = '--', label = 'precision')\n",
    "    plt.plot(thresholds, recalls[0:threshold_boundary], label = 'recall')\n",
    "    \n",
    "    # x축 단위를 0.1로 지장\n",
    "    start, end = plt.xlim()\n",
    "    plt.xticks(np.round(np.arange(start, end, 0.1), 2))\n",
    "    \n",
    "    # x축, y축 label과 legend, grid 지정\n",
    "    plt.xlabel('Threshold value')\n",
    "    plt.ylabel('Precision and Recall value')\n",
    "    plt.legend()\n",
    "    plt.grid()\n",
    "    plt.show()\n",
    "    \n",
    "precision_recall_curve_plot(y_test, lr_clf.predict_proba(X_test)[:,1])"
   ]
  },
  {
   "cell_type": "markdown",
   "id": "24c44945",
   "metadata": {},
   "source": [
    "<b> ROC 곡선과 AUC 스코어</b>\n",
    "- 이진 분류의 예측 성능 측정에서 중요하게 사용되는 지표\n",
    "- <b>ROC 곡선</b>\n",
    "    - FPR이 변할 때, TPR이 어떻게 변하는지 나타내는 곡선\n",
    "    - TPR(재현율,민감도, True Positive Rate(실제가 Positive이며 정확하게 예측되어야 하는 수준): TP/(FN + TP))\n",
    "    - FPR(False Positive Rate(실제가 Negative이며 정확하게 예측되지 않는 수준): FP/(FP + TN))\n",
    "    \n",
    "      = 1 - TNR(특이도, True Negative Rate(실제가 Negative이며 정확하게 예측되어야 하는 수준): TN/(FP + TN)\n",
    "    \n",
    "    - 아래의 사진은 ROC 곡선의 예로, 직선은 ROC곡선의 최저 값임\n",
    "    - ROC곡선이 가운데 직선에 가까울수록 성능이 떨어지는 것이며, 멀어질수록 성능이 뛰어난 것\n",
    "    - FPR을 0->1까지 변경하면서 TPR의 변화 값을 구함\n",
    "        -> 분류 결정 임곗값은 Positive 예측값을 결정하는 확률의 기준이기 때문에 FPR을 0으로 만들기 위해 임곗값을 1로 지정하면 됨\n",
    "- <b>ROC AUC 값</b>\n",
    "    - ROC 곡선 및의 면적을 구한 것으로 일반적으로 1에 가까울수록 좋은 수치임\n",
    "    - AUC값이 커지려면 FPR이 작은 상태에서 얼마나 큰 TPR을 얻을 수 있느냐가 관건임\n",
    "\n",
    "<img src = 'https://encrypted-tbn0.gstatic.com/images?q=tbn:ANd9GcSx6xyW1Rf_j_D2gIA1f4A_nw_tiUYUrvWDDw&usqp=CAU' width = '300px'>\n",
    "\n"
   ]
  },
  {
   "cell_type": "markdown",
   "id": "b66360bd",
   "metadata": {},
   "source": [
    "#### 과제3.\n",
    "ROC Curve, AUC를 시각화하여 의미를 설명하고 ROC, AUC 구하기"
   ]
  },
  {
   "cell_type": "code",
   "execution_count": 129,
   "id": "363d1a02",
   "metadata": {},
   "outputs": [
    {
     "name": "stdout",
     "output_type": "stream",
     "text": [
      "[0.94 0.73 0.62 0.52 0.44 0.28 0.15 0.14 0.13 0.12]\n",
      "FPR:  [0.    0.008 0.025 0.076 0.127 0.254 0.576 0.61  0.746 0.847]\n",
      "TPR:  [0.016 0.492 0.705 0.738 0.803 0.885 0.902 0.951 0.967 1.   ]\n"
     ]
    }
   ],
   "source": [
    "from sklearn.metrics import roc_curve\n",
    "\n",
    "# 로지스틱회귀방식으로 레이블 값이 1(Positive)일 때의 예측 확률 추출\n",
    "pred_proba_class1 = lr_clf.predict_proba(X_test)[:, 1]\n",
    "\n",
    "fprs, tprs, thresholds = roc_curve(y_test, pred_proba_class1)\n",
    "\n",
    "#반환된 임곗값 배열에서 5개 간격으로 추출\n",
    "thr_index = np.arange(1, thresholds.shape[0], 5)\n",
    "print(np.round(thresholds[thr_index], 2))\n",
    "\n",
    "print('FPR: ', np.round(fprs[thr_index], 3))\n",
    "print('TPR: ', np.round(tprs[thr_index], 3))"
   ]
  },
  {
   "cell_type": "code",
   "execution_count": 123,
   "id": "8897966e",
   "metadata": {},
   "outputs": [
    {
     "data": {
      "image/png": "[encoded data removed]",
      "text/plain": [
       "<Figure size 720x432 with 1 Axes>"
      ]
     },
     "metadata": {
      "needs_background": "light"
     },
     "output_type": "display_data"
    }
   ],
   "source": [
    "# 시각화\n",
    "\n",
    "def roc_curve_pot(y_test, pred_proba_c1):\n",
    "    # 임곗값에 따른, TPR, FPR 값 반환\n",
    "    fprs, tprs, thresholds = roc_curve(y_test, pred_proba_c1)\n",
    "    \n",
    "    plt.figure(figsize = (10,6))\n",
    "    \n",
    "    # ROC 곡선 그리기\n",
    "    plt.plot(fprs, tprs, label = 'ROC', color = 'purple')\n",
    "    \n",
    "    # 가운데 직선 그리기\n",
    "    plt.plot([0,1], [0,1], 'k--', label = 'Random')\n",
    "    \n",
    "    \n",
    "    start, end = plt.xlim()\n",
    "    plt.xticks(np.round(np.arange(start, end, 0.1),2))\n",
    "    plt.xlabel('FPR(1 - Specificity)')\n",
    "    plt.ylabel('TPR(Recall)')\n",
    "    plt.legend()\n",
    "    \n",
    "roc_curve_pot(y_test, pred_proba[:,1])"
   ]
  },
  {
   "cell_type": "code",
   "execution_count": 128,
   "id": "de14122e",
   "metadata": {},
   "outputs": [
    {
     "name": "stdout",
     "output_type": "stream",
     "text": [
      "ROC AUC 값:  0.899\n"
     ]
    }
   ],
   "source": [
    "from sklearn.metrics import roc_auc_score\n",
    "\n",
    "pred_proba = lr_clf.predict_proba(X_test)[:,1]\n",
    "roc_score = roc_auc_score(y_test, pred_proba)\n",
    "\n",
    "print(f'ROC AUC 값: {roc_score: .3f}')"
   ]
  },
  {
   "cell_type": "markdown",
   "id": "4d5e4025",
   "metadata": {},
   "source": [
    "## 피마 인디언 당뇨병 예측\n",
    "* 데이터 세트는 북아메리카 피마 지역 원주민의 Type-2 당뇨병 결과 데이터임.\n",
    "* 고립된 지역에서 인디언 고유의 혈통이 지속돼 왔지만 20세기 후반에 들어서면서 서구화된 식습관으로 많은 당뇨 환자 발생\n",
    "\n",
    "<b>[과제] diabetes.csv 데이터세트를 이용해 다음사항을 수행하여 당뇨병 여부를 판단하는 머신러닝 예측 모델을 작성하고 평가하세요.</b>\n",
    "- SkinThickness 와 Insulin의 0 값은 상당히 많기 때문에 일괄 삭제가 어려우며 평균값으로 대체\n",
    "- 정확도, 정밀도, 재현율, F1 Score, ROC_AUC Score를 포함하는 평가지표 사용자 함수 작성\n",
    "- 정밀도와 재현율의 임곗값에 따른 값 변화를 곡선 형태로 시각화\n",
    "- 전체적인 성능 평가 지표를 유지하면서 재현율을 약간 향상시키는 임계값 산출\n",
    "- 산출된 임계값을 적용한 평가\n",
    "\n",
    "<b>※ 피처 정보 </b>\n",
    "\n",
    "'Pregnancies'(임신 횟수), 'Glucose'(포도당 부하 검사 수치), 'BloodPressure'(혈압), \n",
    "'SkinThickness'(팔 삼두근 뒤쪽의 피하지방 측정값, 'Insulin'(혈청 인슈린),\n",
    "'BMI'(체질량 지수), 'DiabetesPedigreeFunction'(당뇨 내력 가중치 값), 'Age', 'Outcome'\n"
   ]
  },
  {
   "cell_type": "code",
   "execution_count": null,
   "id": "05ee4229",
   "metadata": {},
   "outputs": [],
   "source": []
  },
  {
   "cell_type": "code",
   "execution_count": null,
   "id": "a64d3d6b",
   "metadata": {},
   "outputs": [],
   "source": []
  },
  {
   "cell_type": "code",
   "execution_count": null,
   "id": "ab5491b1",
   "metadata": {},
   "outputs": [],
   "source": []
  }
 ],
 "metadata": {
  "kernelspec": {
   "display_name": "Python 3 (ipykernel)",
   "language": "python",
   "name": "python3"
  },
  "language_info": {
   "codemirror_mode": {
    "name": "ipython",
    "version": 3
   },
   "file_extension": ".py",
   "mimetype": "text/x-python",
   "name": "python",
   "nbconvert_exporter": "python",
   "pygments_lexer": "ipython3",
   "version": "3.8.13"
  },
  "toc": {
   "base_numbering": 1,
   "nav_menu": {},
   "number_sections": true,
   "sideBar": true,
   "skip_h1_title": false,
   "title_cell": "Table of Contents",
   "title_sidebar": "Contents",
   "toc_cell": false,
   "toc_position": {
    "height": "620px",
    "left": "36px",
    "top": "111.051px",
    "width": "296.009px"
   },
   "toc_section_display": true,
   "toc_window_display": true
  }
 },
 "nbformat": 4,
 "nbformat_minor": 5
}
