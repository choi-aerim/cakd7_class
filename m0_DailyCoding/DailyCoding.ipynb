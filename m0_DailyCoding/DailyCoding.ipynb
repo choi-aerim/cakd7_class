{
 "cells": [
  {
   "cell_type": "markdown",
   "id": "c7c20a27",
   "metadata": {},
   "source": [
    "# 07/13"
   ]
  },
  {
   "cell_type": "markdown",
   "id": "e16abb6f",
   "metadata": {},
   "source": [
    "#### Q. 남녀 파트너 정해주기 프로그램(zip) \n",
    "같은 수의 남녀 모임에서 파트너를 랜덤하게 정해주는 프로그램을 만들어 보세요\n",
    "\n",
    "male = ['철수','갑돌','로미오','이몽룡','온돌']\n",
    "\n",
    "female = ['미미','갑순','줄리엣','성춘향','평강']\n"
   ]
  },
  {
   "cell_type": "code",
   "execution_count": 5,
   "id": "1a43b260",
   "metadata": {
    "scrolled": false
   },
   "outputs": [],
   "source": [
    "male = ['철수','갑돌','로미오','이몽룡','온돌']\n",
    "female = ['미미','갑순','줄리엣','성춘향','평강']"
   ]
  },
  {
   "cell_type": "markdown",
   "id": "cf29973f",
   "metadata": {},
   "source": [
    "- male = 철수,갑돌,로미오,이몽룡,온돌\n",
    "- female = 미미,갑순,줄리엣,성춘향,평강"
   ]
  },
  {
   "cell_type": "code",
   "execution_count": null,
   "id": "1e476bdb",
   "metadata": {},
   "outputs": [],
   "source": [
    "#랜덤 커플 지정 함수 \n",
    "\n",
    "import random\n",
    "\n",
    "def couple_match(li_1,li_2):\n",
    "    try:        \n",
    "        random_m=random.sample(li_1,len(li_1))\n",
    "        random_f=random.sample(li_2,len(li_2))\n",
    "\n",
    "        couple=[]\n",
    "        for i in range(len(li_1)):\n",
    "            couple.append((random_m[i],random_f[i]))\n",
    "        return couple\n",
    "    except:\n",
    "        if IndexError:\n",
    "            print('※경고※ 같은 수의 남녀 리스트를 입력하세요!\\n')\n",
    "        \n",
    "\n",
    "couple_match(male,female)"
   ]
  },
  {
   "cell_type": "code",
   "execution_count": 28,
   "id": "c2fad9c3",
   "metadata": {},
   "outputs": [
    {
     "name": "stdout",
     "output_type": "stream",
     "text": [
      ">>랜덤 파트너 남자들의 이름을 ','로 분리하여 입력하세요. \n",
      "ex)갑돌,갑작,갑주 \n",
      "갑돌,갑작,갑주 \n",
      ">>랜덤 파트너 여자들의 이름을 ','로 분리하여 입력하세요. \n",
      "ex)갑돌,갑작,갑주 \n",
      "미미,갑순,줄리엣\n"
     ]
    },
    {
     "data": {
      "text/plain": [
       "[('갑돌', '줄리엣'), ('갑작', '갑순'), ('갑주 ', '미미')]"
      ]
     },
     "execution_count": 28,
     "metadata": {},
     "output_type": "execute_result"
    }
   ],
   "source": [
    "#프로그래밍\n",
    "\n",
    "male=input(\">>랜덤 파트너 남자들의 이름을 ','로 분리하여 입력하세요. \\nex)갑돌,갑작,갑주 \\n\")\n",
    "female=input(\">>랜덤 파트너 여자들의 이름을 ','로 분리하여 입력하세요. \\nex)갑돌,갑작,갑주 \\n\")\n",
    "\n",
    "male=list(male.split(','))\n",
    "female=list(female.split(','))\n",
    "\n",
    "couple_match(male, female)"
   ]
  },
  {
   "cell_type": "code",
   "execution_count": 6,
   "id": "0ab6285a",
   "metadata": {},
   "outputs": [
    {
     "name": "stdout",
     "output_type": "stream",
     "text": [
      "1번째 매칭: 갑돌 ♥ 줄리엣\n",
      "2번째 매칭: 로미오 ♥ 미미\n",
      "3번째 매칭: 온돌 ♥ 성춘향\n",
      "4번째 매칭: 이몽룡 ♥ 갑순\n",
      "5번째 매칭: 철수 ♥ 평강\n"
     ]
    }
   ],
   "source": [
    "#zip방식\n",
    "def couple_match(li_1,li_2):\n",
    "    try:        \n",
    "        random_m=random.sample(li_1,len(li_1))\n",
    "        random_f=random.sample(li_2,len(li_2))\n",
    "\n",
    "        r_zip=zip(random_m,random_f)\n",
    "        \n",
    "        for i,j in enumerate(r_zip):\n",
    "            print(f'{i+1}번째 매칭: {j[0]} ♥ {j[1]}')\n",
    "        \n",
    "    except:\n",
    "        if IndexError:\n",
    "            print('※경고※ 같은 수의 남녀 리스트를 입력하세요!')\n",
    "    \n"
   ]
  },
  {
   "cell_type": "code",
   "execution_count": 7,
   "id": "0e36643d",
   "metadata": {},
   "outputs": [
    {
     "name": "stdout",
     "output_type": "stream",
     "text": [
      ">>랜덤 파트너 남자들의 이름을 ','로 분리하여 입력하세요. \n",
      "ex)갑돌,갑작,갑주 \n",
      "갑돌,갑작,갑주 \n",
      ">>랜덤 파트너 여자들의 이름을 ','로 분리하여 입력하세요. \n",
      "ex)갑돌,갑작,갑주 \n",
      "갑돌,갑작,갑주 \n",
      "1번째 매칭: 갑돌 ♥ 갑주 \n",
      "2번째 매칭: 갑주  ♥ 갑작\n",
      "3번째 매칭: 갑작 ♥ 갑돌\n"
     ]
    }
   ],
   "source": [
    "#프로그래밍\n",
    "\n",
    "male=input(\">>랜덤 파트너 남자들의 이름을 ','로 분리하여 입력하세요. \\nex)갑돌,갑작,갑주 \\n\")\n",
    "female=input(\">>랜덤 파트너 여자들의 이름을 ','로 분리하여 입력하세요. \\nex)갑돌,갑작,갑주 \\n\")\n",
    "\n",
    "male=list(male.split(','))\n",
    "female=list(female.split(','))\n",
    "\n",
    "couple_match(male, female)\n"
   ]
  },
  {
   "cell_type": "markdown",
   "id": "9ac166d1",
   "metadata": {},
   "source": [
    "#### Q2. 사용자가 입력한 횟수만큼 로또 번호를 출력하는 프로그램 작성하세요.(중복 금지)"
   ]
  },
  {
   "cell_type": "code",
   "execution_count": 11,
   "id": "32f5feb8",
   "metadata": {},
   "outputs": [],
   "source": [
    "#로또번호 개수를 입력하는 경우\n",
    "\n",
    "#함수지정\n",
    "def lotto_num(x): \n",
    "    return sorted(random.sample(list(range(1,46)),x))\n"
   ]
  },
  {
   "cell_type": "code",
   "execution_count": 15,
   "id": "13597827",
   "metadata": {},
   "outputs": [
    {
     "name": "stdout",
     "output_type": "stream",
     "text": [
      ">>원하시는 번호의 개수를 입력하세요\n",
      "8\n"
     ]
    },
    {
     "data": {
      "text/plain": [
       "[3, 5, 14, 16, 22, 27, 29, 32]"
      ]
     },
     "execution_count": 15,
     "metadata": {},
     "output_type": "execute_result"
    }
   ],
   "source": [
    "#프로그래밍\n",
    "x=int(input(\">>원하시는 번호의 개수를 입력하세요\\n\"))\n",
    "lotto_num(x)\n"
   ]
  },
  {
   "cell_type": "code",
   "execution_count": 18,
   "id": "c5da8d45",
   "metadata": {},
   "outputs": [],
   "source": [
    "#로또번호 묶음 개수를 입력하는 경우\n",
    "\n",
    "#함수지정\n",
    "def lotto_count(c):\n",
    "    for i in range(c):\n",
    "        time.sleep(1)\n",
    "        print(f'{i+1}번째 로또번호 모음: {sorted(random.sample(list(range(1,46)),6))}')"
   ]
  },
  {
   "cell_type": "code",
   "execution_count": 19,
   "id": "73f6a0e5",
   "metadata": {},
   "outputs": [
    {
     "name": "stdout",
     "output_type": "stream",
     "text": [
      ">>원하시는 로또번호 묶음 개수를 입력하세요\n",
      "2\n",
      "1번째 로또번호 모음: [1, 4, 18, 24, 26, 35]\n",
      "2번째 로또번호 모음: [17, 21, 22, 23, 34, 37]\n"
     ]
    }
   ],
   "source": [
    "#프로그래밍\n",
    "x=int(input(\">>원하시는 로또번호 묶음 개수를 입력하세요\\n\"))\n",
    "        \n",
    "lotto_count(x)"
   ]
  },
  {
   "cell_type": "markdown",
   "id": "97f6845e",
   "metadata": {},
   "source": [
    "#### [도전과제] 발표자를 원하는 수만큼 랜덤하게 출력하는 프로그램 작성하기"
   ]
  },
  {
   "cell_type": "code",
   "execution_count": 58,
   "id": "c2b4849d",
   "metadata": {},
   "outputs": [],
   "source": [
    "#함수 정의\n",
    "import random\n",
    "import time\n",
    "\n",
    "def goodluck(n):\n",
    "    cakd7 = ['박영권','김현지','김덕현','변서연','한지웅','양주희','이호원','정지은',\n",
    "         '이정현A','이정현B','이명진','이상윤','조승현','강유한','김영선','최애림',\n",
    "         '김민섭','박혜린','윤정준','김진형','정승기','진청아','신창훈','김병석','박세희']\n",
    "    \n",
    "    r_s=random.sample(cakd7,n)\n",
    "    for i in range(n):\n",
    "        time.sleep(1)\n",
    "        print(f'{i+1}번째 발표자는 \"{r_s[i]}\"님 입니다.')\n"
   ]
  },
  {
   "cell_type": "code",
   "execution_count": 59,
   "id": "a0142bad",
   "metadata": {},
   "outputs": [
    {
     "name": "stdout",
     "output_type": "stream",
     "text": [
      ">>발표자 수를 입력하세요.\n",
      "1\n",
      "1번째 발표자는 \"이호원\"님 입니다.\n"
     ]
    }
   ],
   "source": [
    "#프로그래밍\n",
    "\n",
    "n=int(input('>>발표자 수를 입력하세요.\\n'))\n",
    "goodluck(n)"
   ]
  },
  {
   "cell_type": "code",
   "execution_count": 64,
   "id": "8b888897",
   "metadata": {},
   "outputs": [
    {
     "name": "stdout",
     "output_type": "stream",
     "text": [
      "1조 조원: ['박혜린', '진청아', '정지은']\n",
      "2조 조원: ['이정현B', '변서연', '이정현A']\n",
      "3조 조원: ['김영선', '김현지', '박세희']\n",
      "4조 조원: ['양주희', '최애림', '이명진']\n"
     ]
    }
   ],
   "source": [
    "import random\n",
    "import time\n",
    "\n",
    "cakd7 = ['김현지','변서연','양주희','정지은','이정현A','이정현B','이명진','김영선','최애림','박혜린','진청아','박세희']\n",
    "\n",
    "\n",
    "for i in range(4):\n",
    "    r_s=random.sample(cakd7,3)\n",
    "    time.sleep(2)\n",
    "    print(f'{i+1}조 조원: {r_s}')\n",
    "    for j in r_s:\n",
    "        cakd7.remove(j)"
   ]
  },
  {
   "cell_type": "markdown",
   "id": "b369da73",
   "metadata": {},
   "source": [
    "# 07/14"
   ]
  },
  {
   "cell_type": "markdown",
   "id": "a2a77f5c",
   "metadata": {},
   "source": [
    "#### Q3.입력받은 문자열의 각 문자를 그 다음 문자로 변경하여 출력하세요. ex) abc->bca"
   ]
  },
  {
   "cell_type": "code",
   "execution_count": 31,
   "id": "ca2bd185",
   "metadata": {},
   "outputs": [],
   "source": [
    "#다음문자를 출력하는 함수\n",
    "\n",
    "def next_text(x):\n",
    "    return x[-1]+x[:-1]\n",
    "            "
   ]
  },
  {
   "cell_type": "code",
   "execution_count": 32,
   "id": "06943949",
   "metadata": {},
   "outputs": [
    {
     "name": "stdout",
     "output_type": "stream",
     "text": [
      ">>문자를 입력하세요.\n",
      "가나다라\n",
      "\n",
      "\n"
     ]
    },
    {
     "data": {
      "text/plain": [
       "'라가나다'"
      ]
     },
     "execution_count": 32,
     "metadata": {},
     "output_type": "execute_result"
    }
   ],
   "source": [
    "x=input('>>문자를 입력하세요.\\n')\n",
    "print('\\n')\n",
    "next_text(x)"
   ]
  },
  {
   "cell_type": "code",
   "execution_count": 5,
   "id": "2f8f6688",
   "metadata": {},
   "outputs": [],
   "source": [
    "#문자를 반대로 출력해주는 함수\n",
    "\n",
    "def change(x):\n",
    "    r_idx_x=sorted(list(range(len(x))),reverse=True)\n",
    "    for r_idx in r_idx_x:\n",
    "        print(x[r_idx],end='')       \n",
    "            "
   ]
  },
  {
   "cell_type": "code",
   "execution_count": 6,
   "id": "9a938f96",
   "metadata": {
    "scrolled": true
   },
   "outputs": [
    {
     "name": "stdout",
     "output_type": "stream",
     "text": [
      ">>문자를 입력하세요. 반대로 출력해드립니다.문자를 반대로\n",
      "로대반 를자문"
     ]
    }
   ],
   "source": [
    "x=input('>>문자를 입력하세요. 반대로 출력해드립니다.\\n')\n",
    "\n",
    "change(x)"
   ]
  },
  {
   "cell_type": "markdown",
   "id": "06470c45",
   "metadata": {},
   "source": [
    "#### Q4.url에서 호스트 도메인을 추출하여 출력하세요.\n",
    "- url = 'http://news.naver.com/main/read.nhn?mode=LSD&mid=shm&sid1=105&oid=028&aid=0002334601'\n",
    "- 호스트 도메인: news.naver.com"
   ]
  },
  {
   "cell_type": "code",
   "execution_count": 22,
   "id": "eca0ac7c",
   "metadata": {},
   "outputs": [],
   "source": [
    "import re\n",
    "\n",
    "url='http://news.naver.com/main/read.nhn?mode=LSD&mid=shm&sid1=105&oid=028&aid=0002334601'"
   ]
  },
  {
   "cell_type": "code",
   "execution_count": 24,
   "id": "9525134e",
   "metadata": {},
   "outputs": [
    {
     "data": {
      "text/plain": [
       "'news.naver.com'"
      ]
     },
     "execution_count": 24,
     "metadata": {},
     "output_type": "execute_result"
    }
   ],
   "source": [
    "url.split('/')[2]"
   ]
  },
  {
   "cell_type": "code",
   "execution_count": 54,
   "id": "b0c57c15",
   "metadata": {},
   "outputs": [
    {
     "data": {
      "text/plain": [
       "['news.naver.com']"
      ]
     },
     "execution_count": 54,
     "metadata": {},
     "output_type": "execute_result"
    }
   ],
   "source": [
    "#findall로 찾기\n",
    "p=re.compile('http://([\\w.]+)')\n",
    "p.findall(url)"
   ]
  },
  {
   "cell_type": "code",
   "execution_count": 58,
   "id": "683c792a",
   "metadata": {},
   "outputs": [
    {
     "name": "stdout",
     "output_type": "stream",
     "text": [
      "news.naver.com\n"
     ]
    }
   ],
   "source": [
    "#finditer로 찾기\n",
    "\n",
    "for i in p.finditer(url):\n",
    "    print(i.group(1))"
   ]
  },
  {
   "cell_type": "code",
   "execution_count": 60,
   "id": "8af61b9c",
   "metadata": {},
   "outputs": [
    {
     "data": {
      "text/plain": [
       "'news.naver.com'"
      ]
     },
     "execution_count": 60,
     "metadata": {},
     "output_type": "execute_result"
    }
   ],
   "source": [
    "#search로 찾기\n",
    "\n",
    "p.search(url).group(1)"
   ]
  },
  {
   "cell_type": "code",
   "execution_count": 63,
   "id": "6e75e82b",
   "metadata": {},
   "outputs": [
    {
     "data": {
      "text/plain": [
       "'news.naver.com'"
      ]
     },
     "execution_count": 63,
     "metadata": {},
     "output_type": "execute_result"
    }
   ],
   "source": [
    "#match로 찾기\n",
    "\n",
    "p.match(url).group(1)"
   ]
  },
  {
   "cell_type": "code",
   "execution_count": 65,
   "id": "6c67a3df",
   "metadata": {},
   "outputs": [
    {
     "data": {
      "text/plain": [
       "[]"
      ]
     },
     "execution_count": 65,
     "metadata": {},
     "output_type": "execute_result"
    }
   ],
   "source": [
    "p2=re.compile('(?<=http://)(\\w+)(?=/)')\n",
    "p2.findall(url)"
   ]
  },
  {
   "cell_type": "markdown",
   "id": "b987ad76",
   "metadata": {},
   "source": [
    "#### Q5. url에서 쿼리문을 출력하기"
   ]
  },
  {
   "cell_type": "markdown",
   "id": "bc89124f",
   "metadata": {},
   "source": [
    "- url에서 '?'뒤에 표시되는 문자열을 쿼리 문자열이라고 하며 변수=값 사이 &로  구분되어 나열된다.\n",
    "- url = 'http://news.naver.com/main/read.nhn?mode=LSD&mid=shm&sid1=105&oid=028&aid=0002334601'\n"
   ]
  },
  {
   "cell_type": "code",
   "execution_count": 7,
   "id": "3c069f4c",
   "metadata": {},
   "outputs": [
    {
     "name": "stdout",
     "output_type": "stream",
     "text": [
      "1번째 쿼리문자열: mode=LSD\n",
      "2번째 쿼리문자열: mid=shm\n",
      "3번째 쿼리문자열: sid1=105\n",
      "4번째 쿼리문자열: oid=028\n",
      "5번째 쿼리문자열: aid=0002334601\n"
     ]
    }
   ],
   "source": [
    "import re\n",
    "\n",
    "url = 'http://news.naver.com/main/read.nhn?mode=LSD&mid=shm&sid1=105&oid=028&aid=0002334601'\n",
    "\n",
    "p=re.compile('[\\w./:]+[?]([\\w./:=&]+)')\n",
    "\n",
    "\n",
    "query=p.search(url).group(1).split('&')\n",
    "\n",
    "for i in range(len(query)):\n",
    "    print(f'{i+1}번째 쿼리문자열: {query[i]}')"
   ]
  },
  {
   "cell_type": "markdown",
   "id": "2cb44824",
   "metadata": {},
   "source": [
    "#### Q6. 텍스트 파일(mydata.txt)을 읽고  파일의 내용에서 나타나는 문자들에 대해 자주 나타나는 문자들을 아래와 같이 순서대로 출력하세요.\n",
    "- \\[ \\] -> [177]회 나타남\n",
    "- [e] -> [97]회 나타남\n",
    "- [t] -> [85]회 나타남\n"
   ]
  },
  {
   "cell_type": "code",
   "execution_count": 30,
   "id": "fe3f1528",
   "metadata": {},
   "outputs": [
    {
     "name": "stdout",
     "output_type": "stream",
     "text": [
      "[ ] -> 177개\n",
      "[e] -> 97개\n",
      "[t] -> 85개\n",
      "[a] -> 78개\n",
      "[o] -> 73개\n",
      "[n] -> 60개\n",
      "[s] -> 60개\n",
      "[r] -> 54개\n",
      "[i] -> 50개\n",
      "[h] -> 48개\n",
      "[l] -> 34개\n",
      "[u] -> 27개\n",
      "[d] -> 24개\n",
      "[c] -> 23개\n",
      "[w] -> 20개\n",
      "[m] -> 20개\n",
      "[f] -> 17개\n",
      "[y] -> 15개\n",
      "[p] -> 15개\n",
      "[b] -> 13개\n",
      "[g] -> 11개\n",
      "[v] -> 9개\n",
      "['] -> 8개\n",
      "[k] -> 7개\n",
      "[!] -> 2개\n"
     ]
    }
   ],
   "source": [
    "def text_contents(filename):\n",
    "    with open(filename, 'r') as f:\n",
    "        contents=f.read()\n",
    "        fa={}\n",
    "        for text in contents:\n",
    "            if text in fa:\n",
    "                fa[text]+=1F\n",
    "            else:\n",
    "                fa[text]=1\n",
    "        return fa\n",
    "\n",
    "dictionary=text_contents('dataset/mydata.txt').items()\n",
    "dictionary=sorted(dictionary, key=lambda x: x[1], reverse=True)\n",
    "dictionary\n",
    "\n",
    "for k,v in dictionary:\n",
    "    if k=='\\n':\n",
    "        pass\n",
    "    else:\n",
    "        print(f'[{k}] -> {v}개')"
   ]
  },
  {
   "cell_type": "markdown",
   "id": "cadbe2aa",
   "metadata": {},
   "source": [
    "## 07/18"
   ]
  },
  {
   "cell_type": "markdown",
   "id": "fba60170",
   "metadata": {},
   "source": [
    "#### Q7. 두 개의 수를 입력한 후 두 개의 수에 대한 사칙연산을 수행하세요. (0을 입력한 경우 다시 입력하도록 조치)"
   ]
  },
  {
   "cell_type": "code",
   "execution_count": 1,
   "id": "eb108d5a",
   "metadata": {},
   "outputs": [
    {
     "name": "stdout",
     "output_type": "stream",
     "text": [
      ">> 사칙연산을 수행할 숫자 두 개를 입력하세요\n",
      "ex) 4,5\n",
      "4,5\n",
      "**************************************************\n",
      "\n",
      "        1. 덧셈\n",
      "        2. 뺄셈\n",
      "        3. 나눗셈\n",
      "        4. 곱셈\n",
      "        \n",
      "**************************************************\n",
      ">> 수행하고 싶은 사칙연산을 고르세요.\n",
      "2\n",
      "9\n"
     ]
    }
   ],
   "source": [
    "# Cal4 클래스 만들어서 작성\n",
    "\n",
    "class Cal4():\n",
    "    def __init__(self, num1, num2):\n",
    "        self.num1=num1\n",
    "        self.num2=num2\n",
    "        \n",
    "    def add(self):\n",
    "        return self.num1+self.num2\n",
    "    \n",
    "    def sub(self):\n",
    "        return self.num1+self.num2\n",
    "    \n",
    "    def div(self):\n",
    "        return self.num1/self.num2\n",
    "    \n",
    "    def mul(self):\n",
    "        return self.num1*self.num2\n",
    "    \n",
    "while True:\n",
    "    digits=input('>> 사칙연산을 수행할 숫자 두 개를 입력하세요\\nex) 4,5\\n')\n",
    "    \n",
    "    if digits[0]=='0' or digits[1]==0:\n",
    "        print('>> 경고!!!!!! 0이 아닌 숫자를 두 개를 입력해주세요!!!')\n",
    "        continue\n",
    "        \n",
    "    else:\n",
    "        digit=digits.split(',')\n",
    "        c=Cal4(int(digit[0]),int(digit[1]))\n",
    "        \n",
    "        print('*'*50)\n",
    "        print('''\n",
    "        1. 덧셈\n",
    "        2. 뺄셈\n",
    "        3. 나눗셈\n",
    "        4. 곱셈\n",
    "        ''')\n",
    "        print('*'*50)\n",
    "        \n",
    "        cal=input('>> 수행하고 싶은 사칙연산을 고르세요.\\n')\n",
    "        if cal=='1':\n",
    "            print(c.add())\n",
    "        elif cal=='2':\n",
    "            print(c.sub())\n",
    "        elif cal=='3':\n",
    "            print(c.div())\n",
    "        elif cal=='4':\n",
    "            print(c.mul())\n",
    "        break"
   ]
  },
  {
   "cell_type": "markdown",
   "id": "9e3b3a20",
   "metadata": {},
   "source": [
    "#### Q8. Order 클래스를 상속받아 extraOrder 클래스에서 메서드 오버라이딩하여 출력가격에 원이 추가되도록 출력하세요."
   ]
  },
  {
   "cell_type": "code",
   "execution_count": 4,
   "id": "679c7dcf",
   "metadata": {},
   "outputs": [
    {
     "name": "stdout",
     "output_type": "stream",
     "text": [
      "1000\n"
     ]
    }
   ],
   "source": [
    "class Order: \n",
    "    def __init__(self, name): \n",
    "        self.customer = 0 \n",
    "        self.name = name \n",
    "        \n",
    "    def order(self, price): \n",
    "        self.customer += price \n",
    "        return self.customer\n",
    "\n",
    "order=Order('kevin')\n",
    "print(order.order(1000))\n",
    "\n",
    "\n",
    "class ExtraOrder(Order):\n",
    "    def __init__(self,name):\n",
    "        super().__init__(self)\n",
    "        \n",
    "    def order(self, price):   \n",
    "        super().order(price)\n",
    "#         self.customer += price \n",
    "        return f'{self.customer}원'        "
   ]
  },
  {
   "cell_type": "code",
   "execution_count": 5,
   "id": "83a8f403",
   "metadata": {},
   "outputs": [
    {
     "data": {
      "text/plain": [
       "'1000원'"
      ]
     },
     "execution_count": 5,
     "metadata": {},
     "output_type": "execute_result"
    }
   ],
   "source": [
    "order=ExtraOrder('kevin')\n",
    "order.order(1000)"
   ]
  },
  {
   "cell_type": "markdown",
   "id": "d8249c9a",
   "metadata": {},
   "source": [
    "#### Q9. 업무미팅이 2시임을 알려주는 자동 이메일 클래스 AutoEmail을 작성하여 아래와 같이 출력하세요.\n",
    "-안녕하세요. Kevin님, 업무미팅은 2시입니다.\n"
   ]
  },
  {
   "cell_type": "code",
   "execution_count": 86,
   "id": "add49d92",
   "metadata": {},
   "outputs": [
    {
     "name": "stdout",
     "output_type": "stream",
     "text": [
      "안녕하세요. Kevin님, 업무미팅은 2시입니다.\n"
     ]
    }
   ],
   "source": [
    "import time\n",
    "from datetime import datetime \n",
    "\n",
    "while True:\n",
    "    time.sleep(1)\n",
    "    now_time=datetime.now()\n",
    "    now_hours=now_time.hour\n",
    "    now_minutes=now_time.minute\n",
    "    if (now_hours==13) & (now_minutes==50):\n",
    "        print('안녕하세요. Kevin님, 업무미팅은 2시입니다.')\n",
    "        break"
   ]
  },
  {
   "cell_type": "code",
   "execution_count": 12,
   "id": "9e203baa",
   "metadata": {},
   "outputs": [],
   "source": [
    "import time\n",
    "from datetime import datetime \n",
    "\n",
    "class AutoEmail:\n",
    "    def __init__(self,task,name,time):\n",
    "        self.task=task\n",
    "        self.name=name\n",
    "        self.time=time\n",
    "    def alarm(self):\n",
    "        if datetime.now().hour==self.time:\n",
    "            print(f'{self.name}님, 업무미팅이 진행중입니다.')\n",
    "        else:\n",
    "            print(f'{self.name}님, {self.time}시에 {self.task}이 존재합니다.')"
   ]
  },
  {
   "cell_type": "code",
   "execution_count": 13,
   "id": "377e0e4c",
   "metadata": {},
   "outputs": [
    {
     "name": "stdout",
     "output_type": "stream",
     "text": [
      "애림님, 13시에 점심약속이 존재합니다.\n"
     ]
    }
   ],
   "source": [
    "a=AutoEmail('점심약속','애림',13)\n",
    "a.alarm()"
   ]
  },
  {
   "cell_type": "markdown",
   "id": "c934db56",
   "metadata": {},
   "source": [
    "## 07/19"
   ]
  },
  {
   "cell_type": "markdown",
   "id": "ce8dc4bf",
   "metadata": {},
   "source": [
    "#### Q10. 정규표현식을 사용하여 text에서 전화번호만 출력하세요.\n",
    "\n",
    "text=\"문의사항이 있으면 032-232-3245로 연락주시기 바랍니다.\""
   ]
  },
  {
   "cell_type": "code",
   "execution_count": 19,
   "id": "cab7d34f",
   "metadata": {},
   "outputs": [],
   "source": [
    "import re\n",
    "\n",
    "text=\"문의사항이 있으면 032-232-3245로 연락주시기 바랍니다.\""
   ]
  },
  {
   "cell_type": "code",
   "execution_count": 20,
   "id": "9d546cbc",
   "metadata": {},
   "outputs": [
    {
     "data": {
      "text/plain": [
       "'032-232-3245'"
      ]
     },
     "execution_count": 20,
     "metadata": {},
     "output_type": "execute_result"
    }
   ],
   "source": [
    "#search활용\n",
    "\n",
    "p=re.compile('\\d+[-]\\d+[-]\\d+')\n",
    "p.search(text).group()"
   ]
  },
  {
   "cell_type": "code",
   "execution_count": 26,
   "id": "860e6bf7",
   "metadata": {},
   "outputs": [
    {
     "name": "stdout",
     "output_type": "stream",
     "text": [
      "032-232-3245\n"
     ]
    }
   ],
   "source": [
    "#finditer 활용\n",
    "\n",
    "p=re.compile('\\d+[-]\\d+[-]\\d+')\n",
    "for i in p.finditer(text):\n",
    "    print(i.group())"
   ]
  },
  {
   "cell_type": "code",
   "execution_count": 32,
   "id": "c3025fdf",
   "metadata": {},
   "outputs": [
    {
     "data": {
      "text/plain": [
       "['032-232-3245']"
      ]
     },
     "execution_count": 32,
     "metadata": {},
     "output_type": "execute_result"
    }
   ],
   "source": [
    "#findall 활용\n",
    "p=re.compile('\\d+[-]\\d+[-]\\d+')\n",
    "p.findall(text)"
   ]
  },
  {
   "cell_type": "markdown",
   "id": "f7d8271a",
   "metadata": {},
   "source": [
    "#### Q11. 정규표현식을 사용하여 text 에서 에러가 들어간 부분만 포함하는 리스트 출력하세요.\n",
    "\n",
    "text=\"에러 1122, 레퍼런스 오류, 에러 1033, 아규먼트 오류, 에러 xxx\""
   ]
  },
  {
   "cell_type": "code",
   "execution_count": 17,
   "id": "52c3f7ab",
   "metadata": {},
   "outputs": [
    {
     "data": {
      "text/plain": [
       "['에러 1122', '에러 1033', '에러 xxx']"
      ]
     },
     "execution_count": 17,
     "metadata": {},
     "output_type": "execute_result"
    }
   ],
   "source": [
    "import re\n",
    "\n",
    "text=\"에러 1122, 레퍼런스 오류, 에러 1033, 아규먼트 오류, 에러 xxx\"\n",
    "\n",
    "p=re.compile('[에러][\\s\\w]+')\n",
    "p.findall(text)"
   ]
  },
  {
   "cell_type": "markdown",
   "id": "13611a04",
   "metadata": {},
   "source": [
    "#### Q12. 정규표현식을 사용하여 text 에서 지역코드만 출력하세요\n",
    "\n",
    "text=\"문의사항이 있으면 032-232-3245로 연락주시기 바랍니다.\""
   ]
  },
  {
   "cell_type": "code",
   "execution_count": 34,
   "id": "54991447",
   "metadata": {},
   "outputs": [],
   "source": [
    "import re\n",
    "\n",
    "text=\"문의사항이 있으면 032-232-3245로 연락주시기 바랍니다.\""
   ]
  },
  {
   "cell_type": "code",
   "execution_count": 39,
   "id": "52bbe7b2",
   "metadata": {},
   "outputs": [
    {
     "data": {
      "text/plain": [
       "'032'"
      ]
     },
     "execution_count": 39,
     "metadata": {},
     "output_type": "execute_result"
    }
   ],
   "source": [
    "#search 활용\n",
    "\n",
    "p=re.compile('\\d+')\n",
    "p.search(text).group()"
   ]
  },
  {
   "cell_type": "code",
   "execution_count": 55,
   "id": "b8323b5b",
   "metadata": {},
   "outputs": [
    {
     "name": "stdout",
     "output_type": "stream",
     "text": [
      "032\n"
     ]
    }
   ],
   "source": [
    "#finditer 활용\n",
    "\n",
    "p=re.compile('\\d+')\n",
    "\n",
    "li=[]\n",
    "for i in p.finditer(text):\n",
    "    li.append(i.group())\n",
    "print(li[0])\n",
    "   "
   ]
  },
  {
   "cell_type": "code",
   "execution_count": 56,
   "id": "00bef8e0",
   "metadata": {},
   "outputs": [
    {
     "data": {
      "text/plain": [
       "'032'"
      ]
     },
     "execution_count": 56,
     "metadata": {},
     "output_type": "execute_result"
    }
   ],
   "source": [
    "#findall 활용\n",
    "\n",
    "p=re.compile('\\d+')\n",
    "p.findall(text)[0]"
   ]
  },
  {
   "cell_type": "markdown",
   "id": "507a2736",
   "metadata": {},
   "source": [
    "#### Q13. 정규표현식을 사용하여 text 에서 지역코드를 제외한 번호만 출력하세요\n",
    "\n",
    "text=\"문의사항이 있으면 032-232-3245로 연락주시기 바랍니다.\""
   ]
  },
  {
   "cell_type": "code",
   "execution_count": 124,
   "id": "0f7c259a",
   "metadata": {},
   "outputs": [],
   "source": [
    "text=\"문의사항이 있으면 032-232-3245로 연락주시기 바랍니다.\""
   ]
  },
  {
   "cell_type": "code",
   "execution_count": 131,
   "id": "0e04b490",
   "metadata": {
    "scrolled": true
   },
   "outputs": [
    {
     "data": {
      "text/plain": [
       "['232', '3245']"
      ]
     },
     "execution_count": 131,
     "metadata": {},
     "output_type": "execute_result"
    }
   ],
   "source": [
    "#findall 활용\n",
    "\n",
    "p=re.compile('-([\\d]+)')\n",
    "p.findall(text)"
   ]
  },
  {
   "cell_type": "markdown",
   "id": "9b2b53eb",
   "metadata": {},
   "source": [
    "#### Q14. 'abcdefghij'에 대해 중첩을 적용한 서브그룹 5개로 컴파일하여 group()함수를 이용하여 'abcdefghi'와 e를 출력하세요."
   ]
  },
  {
   "cell_type": "code",
   "execution_count": 112,
   "id": "8e1a8b37",
   "metadata": {},
   "outputs": [],
   "source": [
    "text='abcdefghij'\n",
    "p=re.compile('(\\w(\\w(\\w(\\w(\\w)\\w)\\w)\\w)\\w)')"
   ]
  },
  {
   "cell_type": "code",
   "execution_count": 66,
   "id": "281bb212",
   "metadata": {},
   "outputs": [
    {
     "data": {
      "text/plain": [
       "('abcdefghi', 'e')"
      ]
     },
     "execution_count": 66,
     "metadata": {},
     "output_type": "execute_result"
    }
   ],
   "source": [
    "#search 활용\n",
    "\n",
    "s=p.search(text)\n",
    "s.group(1), s.group(5)"
   ]
  },
  {
   "cell_type": "code",
   "execution_count": 68,
   "id": "5fb1bafe",
   "metadata": {},
   "outputs": [
    {
     "data": {
      "text/plain": [
       "('abcdefghi', 'e')"
      ]
     },
     "execution_count": 68,
     "metadata": {},
     "output_type": "execute_result"
    }
   ],
   "source": [
    "#match 활용\n",
    "\n",
    "m=p.match(text)\n",
    "m.group(1),m.group(5)"
   ]
  },
  {
   "cell_type": "code",
   "execution_count": 82,
   "id": "87bcb623",
   "metadata": {},
   "outputs": [
    {
     "data": {
      "text/plain": [
       "('abcdefghi', 'e')"
      ]
     },
     "execution_count": 82,
     "metadata": {},
     "output_type": "execute_result"
    }
   ],
   "source": [
    "#findall 활용\n",
    "\n",
    "f=p.findall(text)\n",
    "f[0][0],f[0][4]"
   ]
  },
  {
   "cell_type": "markdown",
   "id": "c7ccdc43",
   "metadata": {},
   "source": [
    "#### Q15. 위 문제에서 모든 서브 그룹에 대한 문자열을 포함하는 튜플을 출력하세요."
   ]
  },
  {
   "cell_type": "code",
   "execution_count": null,
   "id": "0370f586",
   "metadata": {},
   "outputs": [],
   "source": [
    "text='abcdefghij'\n",
    "p=re.compile('(\\w(\\w(\\w(\\w(\\w)\\w)\\w)\\w)\\w)')"
   ]
  },
  {
   "cell_type": "code",
   "execution_count": 100,
   "id": "8434e7d3",
   "metadata": {},
   "outputs": [
    {
     "data": {
      "text/plain": [
       "('abcdefghi', 'bcdefgh', 'cdefg', 'def', 'e')"
      ]
     },
     "execution_count": 100,
     "metadata": {},
     "output_type": "execute_result"
    }
   ],
   "source": [
    "#findall 활용\n",
    "\n",
    "f=p.findall(text)\n",
    "f[0]"
   ]
  },
  {
   "cell_type": "markdown",
   "id": "5d6a2670",
   "metadata": {},
   "source": [
    "#### Q16. 이름으로 그룹을 참조하여 'Lots of punctuation'에서 Lots를 출력하세요."
   ]
  },
  {
   "cell_type": "code",
   "execution_count": 7,
   "id": "124c3157",
   "metadata": {},
   "outputs": [
    {
     "data": {
      "text/plain": [
       "'Lots'"
      ]
     },
     "execution_count": 7,
     "metadata": {},
     "output_type": "execute_result"
    }
   ],
   "source": [
    "import re\n",
    "\n",
    "text='Lots of punctuation'\n",
    "\n",
    "p=re.compile('(?P<그룹>\\w+)\\s\\w+\\s(?P<그룹2>\\w+)')\n",
    "p.search(text).group('그룹')"
   ]
  },
  {
   "cell_type": "markdown",
   "id": "00c9eda5",
   "metadata": {},
   "source": [
    "#### Q17. 'Paris is very very beautiful'에서 'very very'를 출력하기"
   ]
  },
  {
   "cell_type": "code",
   "execution_count": 14,
   "id": "ed3d2368",
   "metadata": {},
   "outputs": [
    {
     "data": {
      "text/plain": [
       "'very very'"
      ]
     },
     "execution_count": 14,
     "metadata": {},
     "output_type": "execute_result"
    }
   ],
   "source": [
    "import re\n",
    "\n",
    "text='Paris is very very beautiful'\n",
    "\n",
    "p=re.compile('\\w+\\s\\w+')\n",
    "p.findall(text)[1]"
   ]
  },
  {
   "cell_type": "markdown",
   "id": "08254ed6",
   "metadata": {},
   "source": [
    "#### Q18. 정규 표현식을 작성하여 아래와 같이 출력하세요.\n",
    "'1 apple', '5 oranges', '3 boys', '4 girls', '10 army', '11 mr'"
   ]
  },
  {
   "cell_type": "code",
   "execution_count": 8,
   "id": "f23f2abc",
   "metadata": {},
   "outputs": [],
   "source": [
    "text='1 apple,5 oranges,3 boys,4 girls;10 army|11 mr'"
   ]
  },
  {
   "cell_type": "code",
   "execution_count": 9,
   "id": "93f60917",
   "metadata": {},
   "outputs": [
    {
     "data": {
      "text/plain": [
       "['1 apple', '5 oranges', '3 boys', '4 girls', '0 army', '1 mr']"
      ]
     },
     "execution_count": 9,
     "metadata": {},
     "output_type": "execute_result"
    }
   ],
   "source": [
    "#findall 활용\n",
    "\n",
    "p=re.compile('\\d \\w+')\n",
    "p.findall(text)"
   ]
  },
  {
   "cell_type": "markdown",
   "id": "aa8e6b7a",
   "metadata": {},
   "source": [
    "#### Q19. text에서 'H,h'만 출력하세요."
   ]
  },
  {
   "cell_type": "code",
   "execution_count": 10,
   "id": "d37496a7",
   "metadata": {},
   "outputs": [
    {
     "data": {
      "text/plain": [
       "['H', 'h']"
      ]
     },
     "execution_count": 10,
     "metadata": {},
     "output_type": "execute_result"
    }
   ],
   "source": [
    "import re\n",
    "\n",
    "text='Hello my friend! Life is too short'\n",
    "\n",
    "p=re.compile('[Hh]')\n",
    "p.findall(text)"
   ]
  },
  {
   "cell_type": "markdown",
   "id": "38c2defd",
   "metadata": {},
   "source": [
    "#### Q20. text에서 'H,h'만 빼고 출력하세요."
   ]
  },
  {
   "cell_type": "code",
   "execution_count": 11,
   "id": "00748dea",
   "metadata": {},
   "outputs": [
    {
     "data": {
      "text/plain": [
       "['e',\n",
       " 'l',\n",
       " 'l',\n",
       " 'o',\n",
       " ' ',\n",
       " 'm',\n",
       " 'y',\n",
       " ' ',\n",
       " 'f',\n",
       " 'r',\n",
       " 'i',\n",
       " 'e',\n",
       " 'n',\n",
       " 'd',\n",
       " '!',\n",
       " ' ',\n",
       " 'L',\n",
       " 'i',\n",
       " 'f',\n",
       " 'e',\n",
       " ' ',\n",
       " 'i',\n",
       " 's',\n",
       " ' ',\n",
       " 't',\n",
       " 'o',\n",
       " 'o',\n",
       " ' ',\n",
       " 's',\n",
       " 'o',\n",
       " 'r',\n",
       " 't']"
      ]
     },
     "execution_count": 11,
     "metadata": {},
     "output_type": "execute_result"
    }
   ],
   "source": [
    "import re\n",
    "\n",
    "text='Hello my friend! Life is too short'\n",
    "\n",
    "p=re.compile('[^Hh]')\n",
    "p.findall(text)"
   ]
  },
  {
   "cell_type": "markdown",
   "id": "452d295e",
   "metadata": {},
   "source": [
    "# 7/21"
   ]
  },
  {
   "cell_type": "markdown",
   "id": "d886ab19",
   "metadata": {},
   "source": [
    "#### Q21.  'we are going home'에서 home만 출력하세요."
   ]
  },
  {
   "cell_type": "code",
   "execution_count": 16,
   "id": "e5e1c4b4",
   "metadata": {},
   "outputs": [
    {
     "data": {
      "text/plain": [
       "'home'"
      ]
     },
     "execution_count": 16,
     "metadata": {},
     "output_type": "execute_result"
    }
   ],
   "source": [
    "import re\n",
    "\n",
    "text='we are going home'\n",
    "\n",
    "p=re.compile('\\w+')\n",
    "p.findall(text)[-1]"
   ]
  },
  {
   "cell_type": "code",
   "execution_count": 1,
   "id": "16a0231f",
   "metadata": {},
   "outputs": [
    {
     "data": {
      "text/plain": [
       "['home']"
      ]
     },
     "execution_count": 1,
     "metadata": {},
     "output_type": "execute_result"
    }
   ],
   "source": [
    "import re\n",
    "\n",
    "text='we are going home'\n",
    "\n",
    "p=re.compile('\\w+$')\n",
    "p.findall(text)"
   ]
  },
  {
   "cell_type": "markdown",
   "id": "efa7d44b",
   "metadata": {},
   "source": [
    "#### Q22. '199305, 1923A, a93247'에서 '199305'만 출력하세요."
   ]
  },
  {
   "cell_type": "code",
   "execution_count": 28,
   "id": "8108ab71",
   "metadata": {},
   "outputs": [
    {
     "data": {
      "text/plain": [
       "'199305'"
      ]
     },
     "execution_count": 28,
     "metadata": {},
     "output_type": "execute_result"
    }
   ],
   "source": [
    "import re\n",
    "\n",
    "text='199305, 1923A, a93247'\n",
    "\n",
    "p=re.compile('(\\w+)')\n",
    "p.findall(text)[0]"
   ]
  },
  {
   "cell_type": "code",
   "execution_count": 2,
   "id": "e8e2b3a6",
   "metadata": {},
   "outputs": [
    {
     "data": {
      "text/plain": [
       "['199305']"
      ]
     },
     "execution_count": 2,
     "metadata": {},
     "output_type": "execute_result"
    }
   ],
   "source": [
    "import re\n",
    "\n",
    "text='199305, 1923A, a93247'\n",
    "\n",
    "p=re.compile('^\\w+')\n",
    "p.findall(text)"
   ]
  },
  {
   "cell_type": "markdown",
   "id": "1936c971",
   "metadata": {},
   "source": [
    "#### Q23. '12345abc'에서 'abc'만 출력하세요."
   ]
  },
  {
   "cell_type": "code",
   "execution_count": 29,
   "id": "05e5df6e",
   "metadata": {},
   "outputs": [
    {
     "data": {
      "text/plain": [
       "'abc'"
      ]
     },
     "execution_count": 29,
     "metadata": {},
     "output_type": "execute_result"
    }
   ],
   "source": [
    "import re\n",
    "\n",
    "text= '12345abc'\n",
    "p=re.compile('[a-z]+')\n",
    "p.search(text).group()"
   ]
  },
  {
   "cell_type": "markdown",
   "id": "1fa26933",
   "metadata": {},
   "source": [
    "#### Q24. 'abc12345Abc'에서 'a'만 출력하세요.\n"
   ]
  },
  {
   "cell_type": "code",
   "execution_count": 30,
   "id": "bfd9543f",
   "metadata": {},
   "outputs": [
    {
     "data": {
      "text/plain": [
       "'a'"
      ]
     },
     "execution_count": 30,
     "metadata": {},
     "output_type": "execute_result"
    }
   ],
   "source": [
    "import re\n",
    "\n",
    "text='abc12345Abc'\n",
    "\n",
    "p=re.compile('\\w')\n",
    "p.findall(text)[0]"
   ]
  },
  {
   "cell_type": "code",
   "execution_count": 7,
   "id": "0b275a7f",
   "metadata": {},
   "outputs": [
    {
     "data": {
      "text/plain": [
       "'12345'"
      ]
     },
     "execution_count": 7,
     "metadata": {},
     "output_type": "execute_result"
    }
   ],
   "source": [
    "#숫자가 아닌 것은 공백으로 대체하기\n",
    "\n",
    "import re\n",
    "\n",
    "text='12345abc'\n",
    "\n",
    "re.sub('[^0-9]','',text)"
   ]
  },
  {
   "cell_type": "markdown",
   "id": "e9a60ea9",
   "metadata": {},
   "source": [
    "#### Q25. 'abc12345Abc'에서 'A'만 출력하세요."
   ]
  },
  {
   "cell_type": "code",
   "execution_count": 31,
   "id": "8818f1ff",
   "metadata": {},
   "outputs": [
    {
     "data": {
      "text/plain": [
       "'A'"
      ]
     },
     "execution_count": 31,
     "metadata": {},
     "output_type": "execute_result"
    }
   ],
   "source": [
    "import re\n",
    "\n",
    "text='abc12345Abc'\n",
    "\n",
    "p=re.compile('[A-Z]')\n",
    "p.search(text).group()"
   ]
  },
  {
   "cell_type": "markdown",
   "id": "aa1779a6",
   "metadata": {},
   "source": [
    "# 7/22"
   ]
  },
  {
   "cell_type": "markdown",
   "id": "a819eb07",
   "metadata": {},
   "source": [
    "#### Q26. 'Banker'에서 'anker', 'banker123'에서 'banker'를 출력하세요"
   ]
  },
  {
   "cell_type": "code",
   "execution_count": 2,
   "id": "de555695",
   "metadata": {},
   "outputs": [
    {
     "data": {
      "text/plain": [
       "\"\\n'anker'\\n'banker'\\n\""
      ]
     },
     "execution_count": 2,
     "metadata": {},
     "output_type": "execute_result"
    }
   ],
   "source": [
    "import re\n",
    "text='Banker'\n",
    "text2='banker123'\n",
    "'''\n",
    "'anker'\n",
    "'banker'\n",
    "'''"
   ]
  },
  {
   "cell_type": "code",
   "execution_count": 10,
   "id": "30d78609",
   "metadata": {},
   "outputs": [
    {
     "data": {
      "text/plain": [
       "'anker'"
      ]
     },
     "execution_count": 10,
     "metadata": {},
     "output_type": "execute_result"
    }
   ],
   "source": [
    "re.sub('B','',text)"
   ]
  },
  {
   "cell_type": "code",
   "execution_count": 14,
   "id": "4a581dd5",
   "metadata": {},
   "outputs": [
    {
     "data": {
      "text/plain": [
       "'banker'"
      ]
     },
     "execution_count": 14,
     "metadata": {},
     "output_type": "execute_result"
    }
   ],
   "source": [
    "re.sub('\\d','',text2)"
   ]
  },
  {
   "cell_type": "markdown",
   "id": "8569c1b4",
   "metadata": {},
   "source": [
    "#### Q27. 'KOREA 대한민국'에서 '대'만 출력하세요."
   ]
  },
  {
   "cell_type": "code",
   "execution_count": 16,
   "id": "f1b30bc4",
   "metadata": {},
   "outputs": [
    {
     "data": {
      "text/plain": [
       "'대'"
      ]
     },
     "execution_count": 16,
     "metadata": {},
     "output_type": "execute_result"
    }
   ],
   "source": [
    "import re\n",
    "\n",
    "text='KOREA 대한민국'\n",
    "\n",
    "re.search('[가-힣]',text).group()"
   ]
  },
  {
   "cell_type": "markdown",
   "id": "e2327361",
   "metadata": {},
   "source": [
    "#### Q28. 'aaaaBBBcccDDDeee'을 모두 출력하세요.\n",
    "text = 'aaaBBccDDeeaaaaBBBcccDDDeeeeeeDDDcccBBBaaaa'\n"
   ]
  },
  {
   "cell_type": "code",
   "execution_count": 19,
   "id": "bacdaae7",
   "metadata": {},
   "outputs": [
    {
     "data": {
      "text/plain": [
       "'aaaaBBBcccDDDeee'"
      ]
     },
     "execution_count": 19,
     "metadata": {},
     "output_type": "execute_result"
    }
   ],
   "source": [
    "import re\n",
    "\n",
    "text = 'aaaBBccDDeeaaaaBBBcccDDDeeeeeeDDDcccBBBaaaa'\n",
    "\n",
    "re.search('a{4}B{3}c{3}D{3}e{3}',text).group()"
   ]
  },
  {
   "cell_type": "markdown",
   "id": "5de54f92",
   "metadata": {},
   "source": [
    "#### Q29. 아래의 경우에서 \\<html>만 출력하세요\n",
    "\n",
    "pattern = re.compile('<.*>')\n",
    "\n",
    "print(len(text)) p = pattern.search(text) p.group()"
   ]
  },
  {
   "cell_type": "code",
   "execution_count": 20,
   "id": "91a68978",
   "metadata": {},
   "outputs": [
    {
     "data": {
      "text/plain": [
       "'\\ntext = \"<html><head><title>Title</title></head><body></body></html>\\'\\n'"
      ]
     },
     "execution_count": 20,
     "metadata": {},
     "output_type": "execute_result"
    }
   ],
   "source": [
    "'''\n",
    "text = \"<html><head><title>Title</title></head><body></body></html>'\n",
    "'''"
   ]
  },
  {
   "cell_type": "code",
   "execution_count": 27,
   "id": "cc60d3fd",
   "metadata": {},
   "outputs": [
    {
     "name": "stdout",
     "output_type": "stream",
     "text": [
      "59\n"
     ]
    },
    {
     "data": {
      "text/plain": [
       "'<html>'"
      ]
     },
     "execution_count": 27,
     "metadata": {},
     "output_type": "execute_result"
    }
   ],
   "source": [
    "text = '<html><head><title>Title</title></head><body></body></html>'\n",
    "\n",
    "pattern = re.compile('<.*>')      # greedy 방식: '.*'\n",
    "print(len(text)) \n",
    "p = pattern.search(text)\n",
    "p.group()[:6]"
   ]
  },
  {
   "cell_type": "code",
   "execution_count": 3,
   "id": "2735f89b",
   "metadata": {},
   "outputs": [
    {
     "name": "stdout",
     "output_type": "stream",
     "text": [
      "59\n"
     ]
    },
    {
     "data": {
      "text/plain": [
       "'<html>'"
      ]
     },
     "execution_count": 3,
     "metadata": {},
     "output_type": "execute_result"
    }
   ],
   "source": [
    "text = '<html><head><title>Title</title></head><body></body></html>'\n",
    "\n",
    "pattern = re.compile('<.*?>')     # non-greedy 방식: '.*?'\n",
    "print(len(text)) \n",
    "p = pattern.search(text)\n",
    "p.group()[:6]"
   ]
  },
  {
   "cell_type": "markdown",
   "id": "8969a6e5",
   "metadata": {},
   "source": [
    "#### Q30. '1234a1234'에서  '1', '2', '3', '4'를 모두 출력하세요."
   ]
  },
  {
   "cell_type": "code",
   "execution_count": 21,
   "id": "6f7af902",
   "metadata": {},
   "outputs": [
    {
     "data": {
      "text/plain": [
       "['1', '2', '3', '4', '1', '2', '3', '4']"
      ]
     },
     "execution_count": 21,
     "metadata": {},
     "output_type": "execute_result"
    }
   ],
   "source": [
    "import re\n",
    "\n",
    "text='1234a1234'\n",
    "\n",
    "re.findall('\\d',text)"
   ]
  },
  {
   "cell_type": "markdown",
   "id": "8488f6b3",
   "metadata": {},
   "source": [
    "# 07/25"
   ]
  },
  {
   "cell_type": "markdown",
   "id": "90e70bcb",
   "metadata": {},
   "source": [
    "#### Q32. text에서 전체문장 모두 출력하세요."
   ]
  },
  {
   "cell_type": "markdown",
   "id": "6e338b88",
   "metadata": {},
   "source": [
    "```\n",
    "text = \"what are you doing?\\nit is going to be late for school\\nwe need to hurry up\"\n",
    "regex = re.compile('.*')\n",
    "mo = regex.search(text)\n",
    "print(mo.group())\n",
    "\n",
    "```"
   ]
  },
  {
   "cell_type": "code",
   "execution_count": 1,
   "id": "43947a8c",
   "metadata": {},
   "outputs": [],
   "source": [
    "import re\n",
    "\n",
    "text = \"what are you doing?\\nit is going to be late for school\\nwe need to hurry up\""
   ]
  },
  {
   "cell_type": "code",
   "execution_count": 2,
   "id": "2961d467",
   "metadata": {},
   "outputs": [
    {
     "name": "stdout",
     "output_type": "stream",
     "text": [
      "what are you doing?\n",
      "it is going to be late for school\n",
      "we need to hurry up\n"
     ]
    }
   ],
   "source": [
    "#방법2\n",
    "                                      #'.*': 줄바꿈 문자 전까지만 해당\n",
    "regex = re.compile('.*',re.DOTALL)    #re.DOTALL: dot(.)이 줄바꿈 문자도 포함해서 매치함\n",
    "mo = regex.search(text)\n",
    "\n",
    "print(mo.group())"
   ]
  },
  {
   "cell_type": "code",
   "execution_count": null,
   "id": "c9da39fe",
   "metadata": {},
   "outputs": [],
   "source": [
    "#방법1\n",
    "\n",
    "regex = re.compile('(.|\\n)*')    #greedy 방식(줄바꿈 포함)\n",
    "mo = regex.search(text)\n",
    "\n",
    "print(mo.group())"
   ]
  },
  {
   "cell_type": "markdown",
   "id": "c61f540d",
   "metadata": {},
   "source": [
    "#### Q33.  text에서 대소문자 구분없이 전체문장을 한 단어씩 모두 출력하세요"
   ]
  },
  {
   "cell_type": "code",
   "execution_count": 6,
   "id": "e55e5813",
   "metadata": {},
   "outputs": [],
   "source": [
    "import re\n",
    "\n",
    "text = 'Friend fRiend friEnd FRIEND'"
   ]
  },
  {
   "cell_type": "markdown",
   "id": "db1b57f1",
   "metadata": {},
   "source": [
    "- 모든단어 추출"
   ]
  },
  {
   "cell_type": "code",
   "execution_count": 30,
   "id": "49536174",
   "metadata": {},
   "outputs": [
    {
     "name": "stdout",
     "output_type": "stream",
     "text": [
      "Friend fRiend friEnd FRIEND\n"
     ]
    }
   ],
   "source": [
    "print(re.search('[\\s\\w]+',text).group())"
   ]
  },
  {
   "cell_type": "code",
   "execution_count": 31,
   "id": "92f809ab",
   "metadata": {
    "scrolled": false
   },
   "outputs": [
    {
     "name": "stdout",
     "output_type": "stream",
     "text": [
      "Friend fRiend friEnd FRIEND\n"
     ]
    }
   ],
   "source": [
    "print(re.search('.*',text).group())"
   ]
  },
  {
   "cell_type": "code",
   "execution_count": 32,
   "id": "765bcb5a",
   "metadata": {},
   "outputs": [
    {
     "name": "stdout",
     "output_type": "stream",
     "text": [
      "Friend fRiend friEnd FRIEND\n"
     ]
    }
   ],
   "source": [
    "print(re.match('[\\s\\w]+',text).group())"
   ]
  },
  {
   "cell_type": "markdown",
   "id": "461d6b85",
   "metadata": {},
   "source": [
    "- 한 단어씩 추출"
   ]
  },
  {
   "cell_type": "code",
   "execution_count": 12,
   "id": "9e2e9be3",
   "metadata": {},
   "outputs": [
    {
     "name": "stdout",
     "output_type": "stream",
     "text": [
      "Friend\n",
      "fRiend\n",
      "friEnd\n",
      "FRIEND\n"
     ]
    }
   ],
   "source": [
    "p=re.compile('friend*',re.I)\n",
    "\n",
    "for t in re.findall(p,text):\n",
    "    print(t)"
   ]
  },
  {
   "cell_type": "markdown",
   "id": "e591461b",
   "metadata": {},
   "source": [
    "- 한 글자씩 추출"
   ]
  },
  {
   "cell_type": "code",
   "execution_count": 34,
   "id": "7a445037",
   "metadata": {},
   "outputs": [
    {
     "name": "stdout",
     "output_type": "stream",
     "text": [
      "F r i e n d f R i e n d f r i E n d F R I E N D "
     ]
    }
   ],
   "source": [
    "#방법1\n",
    "\n",
    "words=re.findall('[\\w]',text)\n",
    "\n",
    "for w in words:\n",
    "    print(w,end=\" \")"
   ]
  },
  {
   "cell_type": "code",
   "execution_count": 9,
   "id": "24632005",
   "metadata": {},
   "outputs": [
    {
     "name": "stdout",
     "output_type": "stream",
     "text": [
      "F r i e n d f R i e n d f r i E n d F R I E N D "
     ]
    }
   ],
   "source": [
    "#방법2\n",
    "\n",
    "p=re.compile('[a-z]',re.IGNORECASE)\n",
    "\n",
    "for i in re.findall(p,text):\n",
    "    print(i,end=' ')"
   ]
  },
  {
   "cell_type": "markdown",
   "id": "c574d9aa",
   "metadata": {},
   "source": [
    "#### Q34. 1609160537.371015을 \"Sat Jun 26 08:35:03 2021\" 포멧으로 출력하세요."
   ]
  },
  {
   "cell_type": "code",
   "execution_count": 14,
   "id": "0e51dc11",
   "metadata": {},
   "outputs": [],
   "source": [
    "time=1609160537.371015"
   ]
  },
  {
   "cell_type": "code",
   "execution_count": 16,
   "id": "e39dd473",
   "metadata": {},
   "outputs": [
    {
     "data": {
      "text/plain": [
       "'Mon Dec 28 22:02:17 2020'"
      ]
     },
     "execution_count": 16,
     "metadata": {},
     "output_type": "execute_result"
    }
   ],
   "source": [
    "#방법1\n",
    "\n",
    "from datetime import datetime \n",
    "\n",
    "date=datetime.fromtimestamp(time)\n",
    "date.strftime('%c')"
   ]
  },
  {
   "cell_type": "code",
   "execution_count": 18,
   "id": "5de67832",
   "metadata": {},
   "outputs": [
    {
     "data": {
      "text/plain": [
       "'Mon Dec 28 22:02:17 2020'"
      ]
     },
     "execution_count": 18,
     "metadata": {},
     "output_type": "execute_result"
    }
   ],
   "source": [
    "#방법2\n",
    "import time\n",
    "\n",
    "timestring=time.ctime(1609160537.371015)\n",
    "timestring"
   ]
  },
  {
   "cell_type": "markdown",
   "id": "2945ff13",
   "metadata": {},
   "source": [
    "- ctime() 함수는 주어진 timestamp를 현지 시간대 기준으로 소위 미국에서 흔히 사용되는 요 월 일 시:분:초 년 포멧으로 변환해줍니다. 그냥 간단하게 timestamp가 나타내는 날짜와 시간을 확인해보는 용도로 쓰기에 좋습니다.\n"
   ]
  },
  {
   "cell_type": "code",
   "execution_count": 20,
   "id": "c2553f8f",
   "metadata": {},
   "outputs": [
    {
     "data": {
      "text/plain": [
       "'Mon Dec 28 22:17:17 2020'"
      ]
     },
     "execution_count": 20,
     "metadata": {},
     "output_type": "execute_result"
    }
   ],
   "source": [
    "#방법3\n",
    "\n",
    "from datetime import datetime\n",
    "\n",
    "time = datetime.fromtimestamp(1609160537.371015)\n",
    "time = time.strftime(\"%a %b %d %H:%S:%S %Y\")\n",
    "time"
   ]
  },
  {
   "cell_type": "markdown",
   "id": "3fb116cc",
   "metadata": {},
   "source": [
    "#### Q35.  현재 날짜와 시간을 \"Sat Jun 26 08:35:03 2021\" 포멧으로 출력하세요.\n"
   ]
  },
  {
   "cell_type": "code",
   "execution_count": 44,
   "id": "7b387d01",
   "metadata": {},
   "outputs": [
    {
     "data": {
      "text/plain": [
       "'Mon Jul 25 20:43:26 2022'"
      ]
     },
     "execution_count": 44,
     "metadata": {},
     "output_type": "execute_result"
    }
   ],
   "source": [
    "now=datetime.now()\n",
    "\n",
    "now.strftime('%c')    #Local version의 날짜와 시간"
   ]
  },
  {
   "cell_type": "markdown",
   "id": "7f29aa61",
   "metadata": {},
   "source": [
    "# 07/26"
   ]
  },
  {
   "cell_type": "markdown",
   "id": "8c378dfd",
   "metadata": {},
   "source": [
    "#### Q36. 현재 시간을 년-월-일 시:분:초로 출력하세요."
   ]
  },
  {
   "cell_type": "code",
   "execution_count": 31,
   "id": "5c360201",
   "metadata": {},
   "outputs": [
    {
     "name": "stdout",
     "output_type": "stream",
     "text": [
      "2022-07-26 17:38:39\n"
     ]
    }
   ],
   "source": [
    "from datetime import datetime \n",
    "\n",
    "now = datetime.now()\n",
    "\n",
    "print(now.strftime('%Y-%m-%d %H:%M:%S'))"
   ]
  },
  {
   "cell_type": "markdown",
   "id": "42ce1e0b",
   "metadata": {},
   "source": [
    "#### Q37. 현재 시간을 time.time을 불러와서 년-월-일 시:분:초로 출력하세요.\n"
   ]
  },
  {
   "cell_type": "code",
   "execution_count": 35,
   "id": "2e098b5b",
   "metadata": {},
   "outputs": [
    {
     "name": "stdout",
     "output_type": "stream",
     "text": [
      "2022-07-26 17:40:53\n"
     ]
    }
   ],
   "source": [
    "import time \n",
    "from datetime import datetime \n",
    "\n",
    "now = time.time()\n",
    "now_datetime = datetime.fromtimestamp(now)\n",
    "\n",
    "print(now_datetime.strftime('%Y-%m-%d %H:%M:%S'))"
   ]
  },
  {
   "cell_type": "markdown",
   "id": "ef8ff8ba",
   "metadata": {},
   "source": [
    "#### Q38. 올해 경과된 날짜수 계산하세요\n"
   ]
  },
  {
   "cell_type": "code",
   "execution_count": 64,
   "id": "6e7b595b",
   "metadata": {},
   "outputs": [
    {
     "name": "stdout",
     "output_type": "stream",
     "text": [
      "올해 경과된 날짜수는 206일 입니다.\n"
     ]
    }
   ],
   "source": [
    "from datetime import datetime \n",
    "\n",
    "startday = datetime.strptime('2022-01-01','%Y-%m-%d')\n",
    "now = datetime.now()\n",
    "\n",
    "days = now - startday\n",
    "\n",
    "print(f'올해 경과된 날짜수는 {days.days}일 입니다.')"
   ]
  },
  {
   "cell_type": "markdown",
   "id": "2f7c0ded",
   "metadata": {},
   "source": [
    "#### Q39. 현재 요일을 \"2021-6-26 오늘은 토요일입니다.\"와 같은 형식으로 출력하세요.\n"
   ]
  },
  {
   "cell_type": "code",
   "execution_count": 119,
   "id": "ad3e5853",
   "metadata": {
    "scrolled": true
   },
   "outputs": [],
   "source": [
    "now=datetime.now()"
   ]
  },
  {
   "cell_type": "code",
   "execution_count": 120,
   "id": "2be50056",
   "metadata": {},
   "outputs": [],
   "source": [
    "def get_yoil(x):\n",
    "    n = x.weekday()\n",
    "    \n",
    "    date = x.strftime('%Y-%m-%d')\n",
    "    yoil = ['월요일','화요일','수요일','목요일','금요일','토요일','일요일']\n",
    "    \n",
    "    return date, yoil[n]"
   ]
  },
  {
   "cell_type": "code",
   "execution_count": 122,
   "id": "36593145",
   "metadata": {},
   "outputs": [
    {
     "name": "stdout",
     "output_type": "stream",
     "text": [
      "2022-07-26 오늘은 화요일입니다.\n"
     ]
    }
   ],
   "source": [
    "print(f'{get_yoil(now)[0]} 오늘은 {get_yoil(now)[1]}입니다.')"
   ]
  },
  {
   "cell_type": "markdown",
   "id": "2c8218a0",
   "metadata": {},
   "source": [
    "#### Q40. 1에서 백만까지 더하는데 걸리는 프로그램 실행 시간을 밀리초(ms) 단위로 구하세요."
   ]
  },
  {
   "cell_type": "code",
   "execution_count": 1,
   "id": "a3aa4740",
   "metadata": {},
   "outputs": [
    {
     "name": "stdout",
     "output_type": "stream",
     "text": [
      "98789 밀리초(ms)\n"
     ]
    }
   ],
   "source": [
    "import time \n",
    "from datetime import datetime \n",
    "\n",
    "n=0\n",
    "\n",
    "start_time = datetime.now()\n",
    "\n",
    "for i in range(1000000):\n",
    "    n += 1\n",
    "    \n",
    "end_time = datetime.now()\n",
    "\n",
    "print(f'{(end_time - start_time).microseconds} 밀리초(ms)')"
   ]
  },
  {
   "cell_type": "code",
   "execution_count": 2,
   "id": "7aec4428",
   "metadata": {},
   "outputs": [
    {
     "name": "stdout",
     "output_type": "stream",
     "text": [
      "34861 밀리초(ms)\n"
     ]
    }
   ],
   "source": [
    "import time \n",
    "from datetime import datetime \n",
    "\n",
    "n=0\n",
    "\n",
    "start_time = datetime.now()\n",
    "\n",
    "sum(range(1,1000001))\n",
    "    \n",
    "end_time = datetime.now()\n",
    "\n",
    "print(f'{(end_time - start_time).microseconds} 밀리초(ms)')"
   ]
  },
  {
   "cell_type": "markdown",
   "id": "0e02c4df",
   "metadata": {},
   "source": [
    "# 07/27"
   ]
  },
  {
   "cell_type": "markdown",
   "id": "fb4d6ff8",
   "metadata": {},
   "source": [
    "#### Q41. 아래 코드를 보완하여 발생 가능한 모든 예외(정수, 인덱스, 미리 파악하지 못한 예외)를 처리한 후 마지막에  '모든 예외처리 완료'를 출력하세요.\n",
    "- list_num = [52,273,32,72,100]\n",
    "\n",
    "- num_input = int(input('정수 입력> '))\n",
    "- print(f'{num_input}번째 요소: {list_num[num_input-1]}')"
   ]
  },
  {
   "cell_type": "code",
   "execution_count": 13,
   "id": "35a37be1",
   "metadata": {},
   "outputs": [
    {
     "name": "stdout",
     "output_type": "stream",
     "text": [
      "정수 입력> 9\n",
      "※ 경고: 정수만 입력해주세요\n",
      "정수 입력> 45\n",
      "※ 경고: 정수만 입력해주세요\n",
      "정수 입력> 2\n",
      "2번째 요소: 273\n",
      "모든 예외처리 완료\n"
     ]
    }
   ],
   "source": [
    "# IndexError: list index out of range\n",
    "# ValueError: invalid literal for int() with base 10: '2.3'\n",
    "# ValueError: invalid literal for int() with base 10: '정수'\n",
    "\n",
    "while True:\n",
    "    try:\n",
    "        list_num = [52,273,32,72,100]\n",
    "        num_input = int(input('정수 입력> '))\n",
    "        print(f'{num_input}번째 요소: {list_num[num_input-1]}')  \n",
    "\n",
    "    except:\n",
    "        if (IndexError):\n",
    "            print('※ 경고: 정수만 입력해주세요')\n",
    "            continue\n",
    "            \n",
    "        if (ValueError):\n",
    "            print('※ 경고: -4 ~ 5 사이의 숫자만 입력해주세요.')\n",
    "            continue\n",
    "\n",
    "    finally:\n",
    "        if num_input>=-4 & num_input<=5:\n",
    "            print('모든 예외처리 완료')\n",
    "            break\n",
    "    \n"
   ]
  },
  {
   "cell_type": "markdown",
   "id": "f4e69365",
   "metadata": {},
   "source": [
    "#### Q42. 기본가격 1000원인 2개의 상품에 대하여 임의의 추가 가격을 입력시 가격 조정한 결과를 반환하는 Price 클래스를 생성 후 객체를 만들어 price1, price2를 수행하세요. \n",
    "- price1 : 기본가격 + 추가가격\n",
    "- price2 : (기본가격 + 추가가격) * 90%\n"
   ]
  },
  {
   "cell_type": "code",
   "execution_count": 55,
   "id": "9b048923",
   "metadata": {},
   "outputs": [],
   "source": [
    "#방법1\n",
    "\n",
    "class Price:\n",
    "    def __init__(self):\n",
    "        self.price1 = 1000      \n",
    "        self.price2 = 1000      \n",
    "        \n",
    "    def add(self, n, add):\n",
    "        self.add = add\n",
    "        self.n = n\n",
    "        \n",
    "        if self.n == 1:\n",
    "            self.price1 += self.add\n",
    "            return f'price1의 기본 가격이 \"{self.price1}원\"으로 변경되었습니다.'\n",
    "        elif self.n == 2:\n",
    "            self.price2 += self.add\n",
    "            self.price2 *= 0.9\n",
    "            self.price2 = int(self.price2)\n",
    "            return f'price2의 기본 가격이 \"{self.price2}원\"으로 변경되었습니다.'\n",
    "    \n"
   ]
  },
  {
   "cell_type": "code",
   "execution_count": 56,
   "id": "b52e0cbd",
   "metadata": {},
   "outputs": [
    {
     "data": {
      "text/plain": [
       "'price1의 기본 가격이 \"1300원\"으로 변경되었습니다.'"
      ]
     },
     "execution_count": 56,
     "metadata": {},
     "output_type": "execute_result"
    }
   ],
   "source": [
    "price = Price()\n",
    "price.add(1,300)"
   ]
  },
  {
   "cell_type": "code",
   "execution_count": 57,
   "id": "f89ae322",
   "metadata": {},
   "outputs": [
    {
     "data": {
      "text/plain": [
       "'price2의 기본 가격이 \"1800원\"으로 변경되었습니다.'"
      ]
     },
     "execution_count": 57,
     "metadata": {},
     "output_type": "execute_result"
    }
   ],
   "source": [
    "price = Price()\n",
    "price.add(2,1000)"
   ]
  },
  {
   "cell_type": "code",
   "execution_count": 70,
   "id": "fd419d9d",
   "metadata": {},
   "outputs": [],
   "source": [
    "#방법2\n",
    "\n",
    "class Price:\n",
    "    def __init__(self):\n",
    "        self.price1 = 1000      \n",
    "        self.price2 = 1000      \n",
    "        \n",
    "    def price1_add(self, add):\n",
    "        self.add = add\n",
    "        self.price1 += self.add\n",
    "        return f'price1의 기본 가격이 \"{str(self.price1)}원\"으로 변경되었습니다.'\n",
    "    \n",
    "    def price2_add(self, add):\n",
    "        self.add = add    \n",
    "        self.price2 = int((self.price2 + self.add)*0.9)\n",
    "        return f'price2의 기본 가격이 \"{str(self.price2)}원\"으로 변경되었습니다.'\n",
    "    "
   ]
  },
  {
   "cell_type": "code",
   "execution_count": 73,
   "id": "5b09b849",
   "metadata": {},
   "outputs": [
    {
     "data": {
      "text/plain": [
       "'price1의 기본 가격이 \"1500원\"으로 변경되었습니다.'"
      ]
     },
     "execution_count": 73,
     "metadata": {},
     "output_type": "execute_result"
    }
   ],
   "source": [
    "price = Price()\n",
    "price.price1_add(500)"
   ]
  },
  {
   "cell_type": "code",
   "execution_count": 74,
   "id": "1d28e14d",
   "metadata": {},
   "outputs": [
    {
     "data": {
      "text/plain": [
       "'price2의 기본 가격이 \"2700원\"으로 변경되었습니다.'"
      ]
     },
     "execution_count": 74,
     "metadata": {},
     "output_type": "execute_result"
    }
   ],
   "source": [
    "price.price2_add(2000)"
   ]
  },
  {
   "cell_type": "markdown",
   "id": "5af3a710",
   "metadata": {},
   "source": [
    "#### Q43. strings를 문자의 크기 순서로 내림차순 정렬하세요\n",
    "- strings = ['a', 'ca', 'bar', 'aaaa', 'ababa']\n"
   ]
  },
  {
   "cell_type": "code",
   "execution_count": 2,
   "id": "c3a4d23d",
   "metadata": {},
   "outputs": [],
   "source": [
    "strings = ['a', 'ca', 'bar', 'aaaa', 'ababa']"
   ]
  },
  {
   "cell_type": "code",
   "execution_count": 8,
   "id": "cc0c5f4c",
   "metadata": {},
   "outputs": [
    {
     "data": {
      "text/plain": [
       "['ababa', 'aaaa', 'bar', 'ca', 'a']"
      ]
     },
     "execution_count": 8,
     "metadata": {},
     "output_type": "execute_result"
    }
   ],
   "source": [
    "#방법1\n",
    "\n",
    "strings.sort(key = lambda x: len(x), reverse=True)\n",
    "strings"
   ]
  },
  {
   "cell_type": "code",
   "execution_count": 9,
   "id": "dcb1d4cc",
   "metadata": {},
   "outputs": [
    {
     "name": "stdout",
     "output_type": "stream",
     "text": [
      "['ababa', 'aaaa', 'bar', 'ca', 'a']\n"
     ]
    }
   ],
   "source": [
    "#방법2\n",
    "\n",
    "strings.sort(key = len)\n",
    "strings.reverse()\n",
    "print(strings)"
   ]
  },
  {
   "cell_type": "code",
   "execution_count": 10,
   "id": "af0ee819",
   "metadata": {},
   "outputs": [
    {
     "data": {
      "text/plain": [
       "['ababa', 'aaaa', 'bar', 'ca', 'a']"
      ]
     },
     "execution_count": 10,
     "metadata": {},
     "output_type": "execute_result"
    }
   ],
   "source": [
    "#방법3\n",
    "\n",
    "strings.sort(key = len, reverse=True)\n",
    "strings"
   ]
  },
  {
   "cell_type": "markdown",
   "id": "687dd13b",
   "metadata": {},
   "source": [
    "#### Q44. strings를 다양한 문자가 포함된 순서로 정렬하세요\n",
    "\n",
    "- strings = ['foo', 'card', 'bar', 'aaaa', 'abab']\n",
    "- strings.sort(key = lambda x:len(set(x)))\n",
    "- strings\n"
   ]
  },
  {
   "cell_type": "code",
   "execution_count": 21,
   "id": "df4cd07e",
   "metadata": {},
   "outputs": [
    {
     "data": {
      "text/plain": [
       "['card', 'bar', 'foo', 'abab', 'aaaa']"
      ]
     },
     "execution_count": 21,
     "metadata": {},
     "output_type": "execute_result"
    }
   ],
   "source": [
    "strings = ['foo', 'card', 'bar', 'aaaa', 'abab']\n",
    "\n",
    "strings.sort(key = lambda x:len(set(x)), reverse=True)\n",
    "strings"
   ]
  },
  {
   "cell_type": "markdown",
   "id": "0db53672",
   "metadata": {},
   "source": [
    "#### Q45. 'abcde' 를 'edcba'로 바꾸어 출력하세요.(5가지 방법)\n"
   ]
  },
  {
   "cell_type": "code",
   "execution_count": 12,
   "id": "ef5c4115",
   "metadata": {},
   "outputs": [],
   "source": [
    "word='abcde'"
   ]
  },
  {
   "cell_type": "code",
   "execution_count": 13,
   "id": "0e8c92b0",
   "metadata": {},
   "outputs": [
    {
     "data": {
      "text/plain": [
       "'edcba'"
      ]
     },
     "execution_count": 13,
     "metadata": {},
     "output_type": "execute_result"
    }
   ],
   "source": [
    "#방법1\n",
    "\n",
    "word[4]+word[3]+word[2]+word[1]+word[0]"
   ]
  },
  {
   "cell_type": "code",
   "execution_count": 14,
   "id": "1847617a",
   "metadata": {},
   "outputs": [
    {
     "data": {
      "text/plain": [
       "'edcba'"
      ]
     },
     "execution_count": 14,
     "metadata": {},
     "output_type": "execute_result"
    }
   ],
   "source": [
    "#방법2\n",
    "\n",
    "word[-1]+word[-2]+word[-3]+word[-4]+word[-5]"
   ]
  },
  {
   "cell_type": "code",
   "execution_count": 15,
   "id": "224699cb",
   "metadata": {},
   "outputs": [
    {
     "data": {
      "text/plain": [
       "'edcba'"
      ]
     },
     "execution_count": 15,
     "metadata": {},
     "output_type": "execute_result"
    }
   ],
   "source": [
    "#방법3\n",
    "\n",
    "word[-1::-1]"
   ]
  },
  {
   "cell_type": "code",
   "execution_count": 16,
   "id": "36dbddca",
   "metadata": {},
   "outputs": [
    {
     "data": {
      "text/plain": [
       "'edcba'"
      ]
     },
     "execution_count": 16,
     "metadata": {},
     "output_type": "execute_result"
    }
   ],
   "source": [
    "#방법4\n",
    "\n",
    "word[5::-1]"
   ]
  },
  {
   "cell_type": "code",
   "execution_count": 17,
   "id": "6de536f5",
   "metadata": {},
   "outputs": [
    {
     "data": {
      "text/plain": [
       "'edcba'"
      ]
     },
     "execution_count": 17,
     "metadata": {},
     "output_type": "execute_result"
    }
   ],
   "source": [
    "#방법5\n",
    "\n",
    "''.join(sorted(word, reverse=True))"
   ]
  },
  {
   "cell_type": "markdown",
   "id": "c8a4e9bb",
   "metadata": {},
   "source": [
    "# 07/28"
   ]
  },
  {
   "cell_type": "markdown",
   "id": "4b4a9a82",
   "metadata": {},
   "source": [
    "#### Q46. numbers 내부에 들어 있는 숫자가 몇 번 등장하는지를 출력하는 코드를 작성하세요.\n",
    "numbers = [3,6,3,5,8,2,9,7,4,3,6,3,5,8,2,9,7,4]\n"
   ]
  },
  {
   "cell_type": "code",
   "execution_count": 29,
   "id": "1713931a",
   "metadata": {},
   "outputs": [],
   "source": [
    "numbers = [3,6,3,5,8,2,9,7,4,3,6,3,5,8,2,9,7,4]"
   ]
  },
  {
   "cell_type": "code",
   "execution_count": 34,
   "id": "29d8cbff",
   "metadata": {},
   "outputs": [],
   "source": [
    "def numbering(x):\n",
    "    set_x = sorted(list(set(x)))\n",
    "    \n",
    "    for i in set_x:\n",
    "        print(f'입력하신 리스트에 \"{i}\"가 {x.count(i)}개 존재합니다.')"
   ]
  },
  {
   "cell_type": "code",
   "execution_count": 35,
   "id": "b0e74e00",
   "metadata": {},
   "outputs": [
    {
     "name": "stdout",
     "output_type": "stream",
     "text": [
      "입력하신 리스트에 \"2\"가 2개 존재합니다.\n",
      "입력하신 리스트에 \"3\"가 4개 존재합니다.\n",
      "입력하신 리스트에 \"4\"가 2개 존재합니다.\n",
      "입력하신 리스트에 \"5\"가 2개 존재합니다.\n",
      "입력하신 리스트에 \"6\"가 2개 존재합니다.\n",
      "입력하신 리스트에 \"7\"가 2개 존재합니다.\n",
      "입력하신 리스트에 \"8\"가 2개 존재합니다.\n",
      "입력하신 리스트에 \"9\"가 2개 존재합니다.\n"
     ]
    }
   ],
   "source": [
    "numbering(numbers)"
   ]
  },
  {
   "cell_type": "markdown",
   "id": "e011a76b",
   "metadata": {},
   "source": [
    "#### Q47. 코딩을 한줄로 작성해서 동일한 결과를 출력하세요"
   ]
  },
  {
   "cell_type": "code",
   "execution_count": null,
   "id": "d1b5de30",
   "metadata": {},
   "outputs": [],
   "source": [
    "list = []\n",
    "for i in range(0,20,2):\n",
    "    list.append(i*i)\n",
    "print(list())"
   ]
  },
  {
   "cell_type": "code",
   "execution_count": 36,
   "id": "9676d0da",
   "metadata": {},
   "outputs": [
    {
     "name": "stdout",
     "output_type": "stream",
     "text": [
      "[0, 2, 4, 6, 8, 10, 12, 14, 16, 18]\n"
     ]
    }
   ],
   "source": [
    "print([i for i in range(0,20,2)])"
   ]
  },
  {
   "cell_type": "markdown",
   "id": "9d6b6239",
   "metadata": {},
   "source": [
    "#### Q48. 반복문으로 팩토리얼을 구하는 사용자 함수를 작성하고 5!, 10!를 구하세요."
   ]
  },
  {
   "cell_type": "code",
   "execution_count": 43,
   "id": "ca9f9767",
   "metadata": {},
   "outputs": [],
   "source": [
    "def factorial_1(n):\n",
    "    y=1\n",
    "    for i in range(1,n+1):\n",
    "        y *= i\n",
    "    return y"
   ]
  },
  {
   "cell_type": "code",
   "execution_count": 44,
   "id": "4b87d27a",
   "metadata": {},
   "outputs": [
    {
     "data": {
      "text/plain": [
       "120"
      ]
     },
     "execution_count": 44,
     "metadata": {},
     "output_type": "execute_result"
    }
   ],
   "source": [
    "factorial_1(5) "
   ]
  },
  {
   "cell_type": "code",
   "execution_count": 46,
   "id": "497a989f",
   "metadata": {},
   "outputs": [
    {
     "data": {
      "text/plain": [
       "3628800"
      ]
     },
     "execution_count": 46,
     "metadata": {},
     "output_type": "execute_result"
    }
   ],
   "source": [
    "factorial_1(10)"
   ]
  },
  {
   "cell_type": "markdown",
   "id": "8cdfd3e1",
   "metadata": {},
   "source": [
    "#### Q49. 재귀란 '자기자신을 호출하는 것'을 의미한다. 재귀함수를 이용해서 팩토리얼을 구하는 사용자 함수를 작성하고 1!, 5!, 10!를 구하세요.\n",
    "factorial(n) = n * factorial(n-1) (n >= 1)\n"
   ]
  },
  {
   "cell_type": "code",
   "execution_count": 47,
   "id": "ada05208",
   "metadata": {},
   "outputs": [],
   "source": [
    "def factorial_2(n):\n",
    "    if n == 1:\n",
    "        return 1\n",
    "    return factorial(n-1)*n"
   ]
  },
  {
   "cell_type": "code",
   "execution_count": 48,
   "id": "2f2aba67",
   "metadata": {},
   "outputs": [
    {
     "data": {
      "text/plain": [
       "1"
      ]
     },
     "execution_count": 48,
     "metadata": {},
     "output_type": "execute_result"
    }
   ],
   "source": [
    "factorial_2(1)"
   ]
  },
  {
   "cell_type": "code",
   "execution_count": 49,
   "id": "432df8a2",
   "metadata": {},
   "outputs": [
    {
     "data": {
      "text/plain": [
       "120"
      ]
     },
     "execution_count": 49,
     "metadata": {},
     "output_type": "execute_result"
    }
   ],
   "source": [
    "factorial(5)"
   ]
  },
  {
   "cell_type": "code",
   "execution_count": 50,
   "id": "3578bdb3",
   "metadata": {
    "scrolled": true
   },
   "outputs": [
    {
     "data": {
      "text/plain": [
       "3628800"
      ]
     },
     "execution_count": 50,
     "metadata": {},
     "output_type": "execute_result"
    }
   ],
   "source": [
    "factorial(10)"
   ]
  },
  {
   "cell_type": "markdown",
   "id": "d12ecf06",
   "metadata": {},
   "source": [
    "#### Q50. list a의 모든 원소를 실수형으로 바꾸어 출력하세요\n",
    "a = [1,2,3,4,5]"
   ]
  },
  {
   "cell_type": "code",
   "execution_count": 1,
   "id": "62094c20",
   "metadata": {},
   "outputs": [],
   "source": [
    "a = [1,2,3,4,5]"
   ]
  },
  {
   "cell_type": "code",
   "execution_count": 2,
   "id": "2a443fe4",
   "metadata": {},
   "outputs": [
    {
     "data": {
      "text/plain": [
       "[1.0, 2.0, 3.0, 4.0, 5.0]"
      ]
     },
     "execution_count": 2,
     "metadata": {},
     "output_type": "execute_result"
    }
   ],
   "source": [
    "float_a = [ float(i) for i in a ]\n",
    "float_a"
   ]
  },
  {
   "cell_type": "code",
   "execution_count": 3,
   "id": "639373ba",
   "metadata": {},
   "outputs": [
    {
     "data": {
      "text/plain": [
       "[1.0, 2.0, 3.0, 4.0, 5.0]"
      ]
     },
     "execution_count": 3,
     "metadata": {},
     "output_type": "execute_result"
    }
   ],
   "source": [
    "for i, j in enumerate(a):\n",
    "    a[i] = float(j)\n",
    "a"
   ]
  },
  {
   "cell_type": "code",
   "execution_count": 4,
   "id": "0361ed25",
   "metadata": {},
   "outputs": [
    {
     "data": {
      "text/plain": [
       "[1.0, 2.0, 3.0, 4.0, 5.0]"
      ]
     },
     "execution_count": 4,
     "metadata": {},
     "output_type": "execute_result"
    }
   ],
   "source": [
    "list(map(lambda x: float(x),a))"
   ]
  },
  {
   "cell_type": "markdown",
   "id": "88b9cb83",
   "metadata": {},
   "source": [
    "# 07/29"
   ]
  },
  {
   "cell_type": "markdown",
   "id": "3cbcbd48",
   "metadata": {},
   "source": [
    "#### Q.31 [도전과제] 문자열 리스트 states를 정형화하여 아래와 같이 출력하세요.\n"
   ]
  },
  {
   "cell_type": "code",
   "execution_count": 18,
   "id": "5ae4d0f3",
   "metadata": {},
   "outputs": [
    {
     "data": {
      "text/plain": [
       "\"\\n[출력]\\n['Alabama',\\n 'Georgia',\\n 'Georgia',\\n 'Georgia',\\n 'Florida',\\n 'South   Carolina',\\n 'West Virginia']\\n \""
      ]
     },
     "execution_count": 18,
     "metadata": {},
     "output_type": "execute_result"
    }
   ],
   "source": [
    "states = ['   Alabama ', 'Georgia!', 'Georgia', 'georgia', 'FlOrIda',\n",
    "          'south   carolina##', 'West virginia?']\n",
    "'''\n",
    "[출력]\n",
    "['Alabama',\n",
    " 'Georgia',\n",
    " 'Georgia',\n",
    " 'Georgia',\n",
    " 'Florida',\n",
    " 'South   Carolina',\n",
    " 'West Virginia']\n",
    "'''"
   ]
  },
  {
   "cell_type": "code",
   "execution_count": 39,
   "id": "54e50b77",
   "metadata": {},
   "outputs": [],
   "source": [
    "import re\n",
    "def cleaning(x):\n",
    "    cleaned_data = []\n",
    "    for i in x:\n",
    "        i = re.search('[a-zA-Z\\s]+',i).group()        # 문자, 공백으로 이루어진 부분 찾기\n",
    "        i = i.strip()                             # 양 옆 공백 제거\n",
    "        i = i.lower().title()                     # 소문자화-> 단어 첫글자만 대문자화\n",
    "        cleaned_data.append(i)\n",
    "    return cleaned_data"
   ]
  },
  {
   "cell_type": "code",
   "execution_count": 40,
   "id": "1884d88a",
   "metadata": {},
   "outputs": [
    {
     "data": {
      "text/plain": [
       "['Alabama',\n",
       " 'Georgia',\n",
       " 'Georgia',\n",
       " 'Georgia',\n",
       " 'Florida',\n",
       " 'South   Carolina',\n",
       " 'West Virginia']"
      ]
     },
     "execution_count": 40,
     "metadata": {},
     "output_type": "execute_result"
    }
   ],
   "source": [
    "cleaning(states)"
   ]
  },
  {
   "cell_type": "markdown",
   "id": "ea394ad2",
   "metadata": {},
   "source": [
    "#### Q51. 게시물의 총 건수와 한 페이지에 보여 줄 게시물 수를 입력시 총 페이지 수를 출력하는 프로그램"
   ]
  },
  {
   "cell_type": "markdown",
   "id": "a2367932",
   "metadata": {},
   "source": [
    "인자:게시물의 총 건수,한 페이지에 보여 줄 게시물 수"
   ]
  },
  {
   "cell_type": "code",
   "execution_count": 61,
   "id": "0f6cdc9d",
   "metadata": {},
   "outputs": [],
   "source": [
    "def page_num(all_n, one_n):\n",
    "    return all_n // one_n +1"
   ]
  },
  {
   "cell_type": "code",
   "execution_count": 69,
   "id": "9414b864",
   "metadata": {},
   "outputs": [
    {
     "name": "stdout",
     "output_type": "stream",
     "text": [
      ">> 원하시는 게시물의 총 건수와 한 페이지에 보여줄 게시물 수를 출력해주세요.\n",
      "ex)10,4\n",
      "28,9\n",
      "\n",
      "총 페이지 수: 4p\n"
     ]
    }
   ],
   "source": [
    "x =input('>> 원하시는 게시물의 총 건수와 한 페이지에 보여줄 게시물 수를 출력해주세요.\\nex)10,4\\n')\n",
    "\n",
    "all_n = int(x.split(',')[0])\n",
    "one_n = int(x.split(',')[1])\n",
    "\n",
    "p = page_num(all_n, one_n)\n",
    "print('\\n총 페이지 수: '+str(p)+'p')"
   ]
  },
  {
   "cell_type": "markdown",
   "id": "d930fee3",
   "metadata": {},
   "source": [
    "#### Q52. 랜덤하게 1000명의 이름, 키와 몸무게 만들어 저장한 후 다시 불러내어 다음과 같이 출력하세요.\n",
    "\n",
    "- 이름 :라바\n",
    "- 몸무게: 80\n",
    "- 키: 146\n",
    "- BMI: 37.53049352598987\n",
    "- 결과: 과체중\n"
   ]
  },
  {
   "cell_type": "code",
   "execution_count": 59,
   "id": "0d5ad641",
   "metadata": {},
   "outputs": [
    {
     "data": {
      "text/html": [
       "<div>\n",
       "<style scoped>\n",
       "    .dataframe tbody tr th:only-of-type {\n",
       "        vertical-align: middle;\n",
       "    }\n",
       "\n",
       "    .dataframe tbody tr th {\n",
       "        vertical-align: top;\n",
       "    }\n",
       "\n",
       "    .dataframe thead th {\n",
       "        text-align: right;\n",
       "    }\n",
       "</style>\n",
       "<table border=\"1\" class=\"dataframe\">\n",
       "  <thead>\n",
       "    <tr style=\"text-align: right;\">\n",
       "      <th></th>\n",
       "      <th>Name</th>\n",
       "      <th>Weight</th>\n",
       "      <th>Height</th>\n",
       "      <th>BMI</th>\n",
       "      <th>Result</th>\n",
       "    </tr>\n",
       "  </thead>\n",
       "  <tbody>\n",
       "    <tr>\n",
       "      <th>0</th>\n",
       "      <td>정이매</td>\n",
       "      <td>77</td>\n",
       "      <td>187</td>\n",
       "      <td>22.02</td>\n",
       "      <td>정상</td>\n",
       "    </tr>\n",
       "    <tr>\n",
       "      <th>1</th>\n",
       "      <td>박투히</td>\n",
       "      <td>67</td>\n",
       "      <td>162</td>\n",
       "      <td>25.53</td>\n",
       "      <td>비만</td>\n",
       "    </tr>\n",
       "    <tr>\n",
       "      <th>2</th>\n",
       "      <td>이아사</td>\n",
       "      <td>70</td>\n",
       "      <td>189</td>\n",
       "      <td>19.60</td>\n",
       "      <td>정상</td>\n",
       "    </tr>\n",
       "    <tr>\n",
       "      <th>3</th>\n",
       "      <td>최자구</td>\n",
       "      <td>50</td>\n",
       "      <td>162</td>\n",
       "      <td>19.05</td>\n",
       "      <td>정상</td>\n",
       "    </tr>\n",
       "    <tr>\n",
       "      <th>4</th>\n",
       "      <td>윤다기</td>\n",
       "      <td>57</td>\n",
       "      <td>165</td>\n",
       "      <td>20.94</td>\n",
       "      <td>정상</td>\n",
       "    </tr>\n",
       "    <tr>\n",
       "      <th>5</th>\n",
       "      <td>이부라</td>\n",
       "      <td>94</td>\n",
       "      <td>152</td>\n",
       "      <td>40.69</td>\n",
       "      <td>비만</td>\n",
       "    </tr>\n",
       "    <tr>\n",
       "      <th>6</th>\n",
       "      <td>황아매</td>\n",
       "      <td>68</td>\n",
       "      <td>157</td>\n",
       "      <td>27.59</td>\n",
       "      <td>비만</td>\n",
       "    </tr>\n",
       "    <tr>\n",
       "      <th>7</th>\n",
       "      <td>최후채</td>\n",
       "      <td>65</td>\n",
       "      <td>161</td>\n",
       "      <td>25.08</td>\n",
       "      <td>비만</td>\n",
       "    </tr>\n",
       "    <tr>\n",
       "      <th>8</th>\n",
       "      <td>이바지</td>\n",
       "      <td>57</td>\n",
       "      <td>149</td>\n",
       "      <td>25.67</td>\n",
       "      <td>비만</td>\n",
       "    </tr>\n",
       "    <tr>\n",
       "      <th>9</th>\n",
       "      <td>김리차</td>\n",
       "      <td>47</td>\n",
       "      <td>142</td>\n",
       "      <td>23.31</td>\n",
       "      <td>과체중</td>\n",
       "    </tr>\n",
       "  </tbody>\n",
       "</table>\n",
       "</div>"
      ],
      "text/plain": [
       "  Name  Weight  Height    BMI Result\n",
       "0  정이매      77     187  22.02     정상\n",
       "1  박투히      67     162  25.53     비만\n",
       "2  이아사      70     189  19.60     정상\n",
       "3  최자구      50     162  19.05     정상\n",
       "4  윤다기      57     165  20.94     정상\n",
       "5  이부라      94     152  40.69     비만\n",
       "6  황아매      68     157  27.59     비만\n",
       "7  최후채      65     161  25.08     비만\n",
       "8  이바지      57     149  25.67     비만\n",
       "9  김리차      47     142  23.31    과체중"
      ]
     },
     "execution_count": 59,
     "metadata": {},
     "output_type": "execute_result"
    }
   ],
   "source": [
    "import random\n",
    "import numpy as np\n",
    "import pandas as pd\n",
    "\n",
    "word = '김이박최정윤황'\n",
    "word2 = '가나다라마바사아자차카타파하개내대래매배새애재채캐태패해기니디리미비시이지치키티피히구누두루무부수우주추쿠투푸후'\n",
    "\n",
    "#이름 랜덤 생성\n",
    "name = []\n",
    "for w in range(1000):\n",
    "    last_name = random.choice([i for i in word])\n",
    "    first_name = random.sample([i for i in word2],2)\n",
    "    full_name = last_name + ''.join(first_name)\n",
    "    name.append(full_name)\n",
    "    \n",
    "#몸무게 랜덤 생성\n",
    "weight = np.random.randint(40, 120, size = 1000)\n",
    "\n",
    "#키 랜덤 생성\n",
    "height = np.random.randint(140, 190, size = 1000)\n",
    "\n",
    "#기본 정보로 데이터프레임 생성\n",
    "df = pd.DataFrame(columns = ['Name','Weight','Height'])\n",
    "df['Name'] = name\n",
    "df['Weight'] = weight\n",
    "df['Height'] = height\n",
    "\n",
    "#BMI 컬럼 생성\n",
    "df['BMI'] = round(df['Weight']/(df['Height']/100*df['Height']/100),2)\n",
    "\n",
    "#비만도 컬럼 생성\n",
    "result = []\n",
    "for i in df['BMI']:\n",
    "    if i <= 18.5:\n",
    "        res = '저체중'\n",
    "    elif i < 23:\n",
    "        res = '정상'\n",
    "    elif i < 25:\n",
    "        res = '과체중'\n",
    "    else:\n",
    "        res = '비만'\n",
    "    result.append(res)\n",
    "df['Result'] = result\n",
    "\n",
    "df.head(10)"
   ]
  },
  {
   "cell_type": "markdown",
   "id": "d4bfcc2d",
   "metadata": {},
   "source": [
    "# 08/01"
   ]
  },
  {
   "cell_type": "markdown",
   "id": "b55b3aa8",
   "metadata": {},
   "source": [
    "#### Q53.입력한 숫자를 천 단위로 구분하여 출력하세요"
   ]
  },
  {
   "cell_type": "code",
   "execution_count": 1,
   "id": "130552bf",
   "metadata": {},
   "outputs": [],
   "source": [
    "def thousand(n):\n",
    "    return f'{n:,}'"
   ]
  },
  {
   "cell_type": "code",
   "execution_count": 2,
   "id": "195e370c",
   "metadata": {},
   "outputs": [
    {
     "data": {
      "text/plain": [
       "'4,512,145,878'"
      ]
     },
     "execution_count": 2,
     "metadata": {},
     "output_type": "execute_result"
    }
   ],
   "source": [
    "thousand(4512145878)"
   ]
  },
  {
   "cell_type": "markdown",
   "id": "010bf573",
   "metadata": {},
   "source": [
    "#### Q54. 카운터에서 거스름돈으로 사용할 500원,100원,50원,10원짜리 동전이 무한히 존재한다고 가정한다. 손님에게 거슬러 줘야할 돈이 N원일 때, 거슬러 줘야할 동전의 최소 개수를 구하세요. 단, 거슬러 줘야할 돈 N원은 항상 10의 배수이다. N은 2750원이다."
   ]
  },
  {
   "cell_type": "code",
   "execution_count": 8,
   "id": "23c3e836",
   "metadata": {},
   "outputs": [],
   "source": [
    "#방법1\n",
    "\n",
    "def change(price):\n",
    "    c1 = price//500\n",
    "    c2 = (price - 500*c1) // 100\n",
    "    c3 = (price - 500*c1 - 100*c2) //50\n",
    "    c4 = (price - 500*c1 - 100*c2 - 50*c3)//10\n",
    "    print('*****거스름돈*****\\n- 500원: '+str(c1)+'개\\n- 100원: '+str(c2)+'개\\n-  50원: '+str(c3)+'개\\n-  10원: '+str(c4)+'개')"
   ]
  },
  {
   "cell_type": "code",
   "execution_count": 15,
   "id": "d840b88e",
   "metadata": {},
   "outputs": [
    {
     "name": "stdout",
     "output_type": "stream",
     "text": [
      "*****거스름돈*****\n",
      "- 500원: 10개\n",
      "- 100원: 3개\n",
      "-  50원: 1개\n",
      "-  10원: 1개\n"
     ]
    }
   ],
   "source": [
    "change(5360)"
   ]
  },
  {
   "cell_type": "code",
   "execution_count": 7,
   "id": "f3add063",
   "metadata": {},
   "outputs": [],
   "source": [
    "#방법2\n",
    "\n",
    "def change(n):\n",
    "    n500, n100 = divmod(n,500)\n",
    "    n100, n50 = divmod(n100,100)\n",
    "    n50, n10 = divmod(n50,50)\n",
    "    n10, n = divmod(n10,10)\n",
    "    \n",
    "    print('*****거스름돈*****\\n- 500원: '+str(n500)+'개\\n- 100원: '+str(n100)+'개\\n-  50원: '+str(n50)+'개\\n-  10원: '+str(n10)+'개')\n"
   ]
  },
  {
   "cell_type": "code",
   "execution_count": 6,
   "id": "12f563da",
   "metadata": {},
   "outputs": [
    {
     "name": "stdout",
     "output_type": "stream",
     "text": [
      "*****거스름돈*****\n",
      "- 500원: 10개\n",
      "- 100원: 3개\n",
      "-  50원: 1개\n",
      "-  10원: 1개\n"
     ]
    }
   ],
   "source": [
    "change(5360)"
   ]
  },
  {
   "cell_type": "code",
   "execution_count": 11,
   "id": "448895ea",
   "metadata": {},
   "outputs": [
    {
     "name": "stdout",
     "output_type": "stream",
     "text": [
      "8\n"
     ]
    }
   ],
   "source": [
    "#방법3\n",
    "\n",
    "n = 2750\n",
    "count = 0\n",
    "\n",
    "# 큰 단위의 화폐부터 차례대로 확인하기\n",
    "coin_types = [500, 100, 50, 10]\n",
    "\n",
    "for coin in coin_types:\n",
    "    count += n // coin # 해당 화폐로 거슬러 줄 수 있는 동전의 개수 세기\n",
    "    n %= coin\n",
    "\n",
    "print(count)"
   ]
  },
  {
   "cell_type": "markdown",
   "id": "0961d9c8",
   "metadata": {},
   "source": [
    "# 08/02"
   ]
  },
  {
   "cell_type": "markdown",
   "id": "4d4f1886",
   "metadata": {},
   "source": [
    "#### Q55. dataset/mydata.txt 파일에 있는 단어 개수를 출력하세요."
   ]
  },
  {
   "cell_type": "code",
   "execution_count": 55,
   "id": "8f74fceb",
   "metadata": {},
   "outputs": [
    {
     "name": "stdout",
     "output_type": "stream",
     "text": [
      "총 단어의 개수: 213개\n"
     ]
    }
   ],
   "source": [
    "import re\n",
    "\n",
    "with open('dataset/mydata.txt','r') as fr:\n",
    "    mydata = fr.readlines()\n",
    "    mydata = ' '.join(mydata)\n",
    "    mydata = re.sub('\\s{1,}',' ',mydata)\n",
    "    mydata_list = re.findall('[\\w\\']+', mydata)\n",
    "# print(mydata_list)\n",
    "print('총 단어의 개수: '+ str(len([i for i in mydata_list])) + '개')"
   ]
  },
  {
   "cell_type": "code",
   "execution_count": 5,
   "id": "d34e765d",
   "metadata": {},
   "outputs": [
    {
     "name": "stdout",
     "output_type": "stream",
     "text": [
      "총 단어의 개수: 213개\n"
     ]
    }
   ],
   "source": [
    "import re\n",
    "with open('dataset/mydata.txt','r') as fr:\n",
    "    mydata = fr.read()\n",
    "    mydata = re.sub('\\s{1,}',' ',mydata)\n",
    "    mydata_list = re.findall('[\\w\\']+', mydata)\n",
    "print('총 단어의 개수: '+ str(len([i for i in mydata_list])) + '개')"
   ]
  },
  {
   "cell_type": "code",
   "execution_count": 9,
   "id": "545451da",
   "metadata": {},
   "outputs": [
    {
     "name": "stdout",
     "output_type": "stream",
     "text": [
      "we've\n",
      "there's\n",
      "won't\n",
      "don't\n",
      "you're\n",
      "it's\n",
      "it's\n",
      "it's\n",
      "총 단어의 개수: 219개\n"
     ]
    }
   ],
   "source": [
    "with open('dataset/mydata.txt','r') as fr:\n",
    "    mydata = fr.read()\n",
    "    mydata = re.sub('\\s{1,}',' ',mydata)\n",
    "    mydata_list = re.findall('[\\w\\']+', mydata)\n",
    "    mydata_word = []\n",
    "    for i in mydata_list:\n",
    "        try:\n",
    "            if len(re.search('[\\'](\\w+)',i).group(1)) > 0:\n",
    "                print(i)\n",
    "                if i[-1] == 't':\n",
    "                    if i == \"won't\":\n",
    "                        mydata_word.append('will','not')\n",
    "                    elif i == \"don't\":\n",
    "                        mydat_word.append('do','not')\n",
    "                else:\n",
    "                    mydata_word.append(i.split(\"'\")[0])\n",
    "                    if i.split(\"'\")[1] == 've':\n",
    "                        mydata_word.append('have')\n",
    "                    elif i.split(\"'\")[1] == 's':\n",
    "                        mydata_word.append('is')\n",
    "                    elif i.split(\"'\")[1]  == 're':\n",
    "                        mydata_word.append('are')\n",
    "        except:\n",
    "            mydata_word.append(i)\n",
    "# print(mydata_word)\n",
    "print('총 단어의 개수: '+ str(len(mydata_word)) + '개')"
   ]
  },
  {
   "cell_type": "markdown",
   "id": "65f2f258",
   "metadata": {},
   "source": [
    "#### Q56. 파일이름과 특정 단어를인자로 입력하면 그 파일에 있는 특정 단어의 개수를 반환하는 사용자 함수를 이용하여 mydata 파일에서 how의 개수를 출력하세요.\n"
   ]
  },
  {
   "cell_type": "code",
   "execution_count": 52,
   "id": "86f7e2e5",
   "metadata": {},
   "outputs": [],
   "source": [
    "def word_count(word):\n",
    "    with open('dataset/mydata.txt','r') as fr:\n",
    "        mydata = fr.readlines()\n",
    "        mydata = ' '.join(mydata)\n",
    "        mydata = re.sub('\\s{1,}',' ',mydata)\n",
    "        mydata_list = re.findall('[\\w\\']+', mydata)\n",
    "        cnt = mydata_list.count(word)\n",
    "        \n",
    "    print(f'단어 \"{word}\"의 개수: {cnt}개')\n",
    "    \n",
    "    "
   ]
  },
  {
   "cell_type": "code",
   "execution_count": 53,
   "id": "5ee7ee8e",
   "metadata": {},
   "outputs": [
    {
     "name": "stdout",
     "output_type": "stream",
     "text": [
      "단어 \"how\"의 개수: 2개\n"
     ]
    }
   ],
   "source": [
    "word_count('how')"
   ]
  },
  {
   "cell_type": "code",
   "execution_count": 15,
   "id": "1f4940fb",
   "metadata": {},
   "outputs": [],
   "source": [
    "def word_count(filename ,word):\n",
    "    with open('dataset/'+filename,'r') as fr:\n",
    "        mydata = fr.read()\n",
    "        mydata = re.sub('\\s{1,}',' ',mydata)\n",
    "        mydata_list = re.findall('[\\w\\']+', mydata)\n",
    "        \n",
    "    mydata_word = []\n",
    "    for i in mydata_list:\n",
    "        try:\n",
    "            if len(re.search('[\\'](\\w+)',i).group(1)) >= 1:\n",
    "#                 print(i)\n",
    "                if i[-1] == 't':\n",
    "                    if i == \"won't\":\n",
    "                        mydata_word.append('will','not')\n",
    "                    elif i == \"don't\":\n",
    "                        mydat_word.append('do','not')\n",
    "                else:\n",
    "                    mydata_word.append(i.split(\"'\")[0])\n",
    "                    if i.split(\"'\")[1] == 've':\n",
    "                        mydata_word.append('have')\n",
    "                    elif i.split(\"'\")[1] == 's':\n",
    "                        mydata_word.append('is')\n",
    "                    elif i.split(\"'\")[1]  == 're':\n",
    "                        mydata_word.append('are')\n",
    "        except:\n",
    "            mydata_word.append(i)\n",
    "            \n",
    "    cnt = mydata_word.count(word)\n",
    "\n",
    "    print(f'단어 \"{word}\"의 개수: {cnt}개')"
   ]
  },
  {
   "cell_type": "code",
   "execution_count": 16,
   "id": "307a8c32",
   "metadata": {},
   "outputs": [
    {
     "name": "stdout",
     "output_type": "stream",
     "text": [
      "단어 \"how\"의 개수: 2개\n"
     ]
    }
   ],
   "source": [
    "word_count('mydata.txt','how')"
   ]
  },
  {
   "cell_type": "code",
   "execution_count": 19,
   "id": "0a0c3a76",
   "metadata": {},
   "outputs": [],
   "source": [
    "def countWord(filename, word):\n",
    "    word = word.lower()\n",
    "    with open(filename, 'r') as f:\n",
    "        text = f.read()\n",
    "        text = text.lower()\n",
    "        pos = text.find(word)\n",
    "        count = 0\n",
    "        while pos != -1:\n",
    "            count += 1\n",
    "            pos = text.find(word, pos+1)\n",
    "    return count"
   ]
  },
  {
   "cell_type": "markdown",
   "id": "85e96d75",
   "metadata": {},
   "source": [
    "# 08/03"
   ]
  },
  {
   "cell_type": "markdown",
   "id": "81a1b9ce",
   "metadata": {},
   "source": [
    "#### Q57. 문자열을 입력받아 같은 문자가 연속적으로 반복되는 경우에 그 반복 횟수를 표시해 문자열을 압축하여 표시하세요.\n",
    "- 예) \"aaabbcccccca\" -> a3b2c6a1"
   ]
  },
  {
   "cell_type": "code",
   "execution_count": 25,
   "id": "a9cd34f2",
   "metadata": {},
   "outputs": [
    {
     "name": "stdout",
     "output_type": "stream",
     "text": [
      ">>문자를 입력하세요 aasnafsdddd\n",
      "a3d4n1s2f1\n"
     ]
    }
   ],
   "source": [
    "#전체 문자에 대해서\n",
    "\n",
    "word = input('>>문자를 입력하세요 ')\n",
    "word_set = set(word)\n",
    "\n",
    "w_c = ''\n",
    "if len(word_set) > 1:\n",
    "    for i in word_set:\n",
    "        word_name = i\n",
    "        word_cnt = str(word.count(i))\n",
    "        w_c += (word_name + word_cnt)\n",
    "print(w_c)"
   ]
  },
  {
   "cell_type": "code",
   "execution_count": 1,
   "id": "61311495",
   "metadata": {},
   "outputs": [
    {
     "name": "stdout",
     "output_type": "stream",
     "text": [
      "<<문자를 입력하세요.\n",
      "aaabbcccccca\n",
      "a3b2c6a1\n"
     ]
    }
   ],
   "source": [
    "#방법1\n",
    "\n",
    "word = input('<<문자를 입력하세요.\\n')\n",
    "word_cnt =''\n",
    "\n",
    "for i in range(len(word)):\n",
    "    if i == 0:\n",
    "        word_cnt = word[i]\n",
    "        cnt = 1\n",
    "    elif word_cnt[-1] == word[i]:\n",
    "        cnt += 1\n",
    "    elif word_cnt[-1] != word[i]:\n",
    "        word_cnt += str(cnt) + word[i]\n",
    "        cnt = 1\n",
    "    if i == len(word)-1:\n",
    "        word_cnt += str(cnt)\n",
    "        \n",
    "print(word_cnt)"
   ]
  },
  {
   "cell_type": "code",
   "execution_count": null,
   "id": "55278aed",
   "metadata": {},
   "outputs": [],
   "source": [
    "#방법2\n",
    "\n",
    "word = input('>>문자를 입력하세요.\\n')\n",
    "\n",
    "w = word[0]\n"
   ]
  },
  {
   "cell_type": "code",
   "execution_count": 8,
   "id": "108e98c6",
   "metadata": {},
   "outputs": [
    {
     "name": "stdout",
     "output_type": "stream",
     "text": [
      "a['a', 'a', 'a', 'a']b['b', 'b', 'b']c['c', 'c', 'c', 'c']d['d', 'd']a['a']\n",
      "a4b3c4d2a1\n"
     ]
    }
   ],
   "source": [
    "#방법3\n",
    "\n",
    "from itertools import groupby\n",
    "\n",
    "t = 'aaaabbbccccdda'\n",
    "\n",
    "print(\"\".join(f'{x}{list(y)}' for x, y in  groupby(t)))\n",
    "\n",
    "print(\"\".join(f'{x}{len(list(y))}' for x, y in  groupby(t)))\n"
   ]
  },
  {
   "cell_type": "markdown",
   "id": "5678a705",
   "metadata": {},
   "source": [
    "# 08/04"
   ]
  },
  {
   "cell_type": "markdown",
   "id": "2a42136b",
   "metadata": {},
   "source": [
    "#### Q58. N개의 요소로 이루어진 배열이 있을 때 주어진 수들을 M번 더하여 가장 큰 수를 만드는 프로그램을 작성하세요. 단 배열의 특정한 인덱스(번호)에 해당하는 수가 K번을 초과하여 더해질 수 없는 것이 특징이다.\n",
    "프로그램은 다음 조건을 만족하는 N, M, K를 공백으로 일차 입력하고 N개의 배열을 공백으로 이차 입력하면 결과물을 출력하는 방식으로 수행함.\n",
    "- 2 <= N <= 1000\n",
    "- 1 <= M <= 10000\n",
    "- 1 <= K <= 10000\n"
   ]
  },
  {
   "cell_type": "markdown",
   "id": "4495ec25",
   "metadata": {},
   "source": [
    "1. input('배열 요소로 이루어진 개수' '가장 큰 수가 되게 요소들을 총 M번 더하도록 함' '대신 한 요소당 k번이 최대로 더할 수 있음' )\n",
    "2. input(배열 요소 입력)\n",
    "3. 제일 큰 수를 더할 수 있는 제한이 k번"
   ]
  },
  {
   "cell_type": "code",
   "execution_count": 41,
   "id": "940a9061",
   "metadata": {},
   "outputs": [],
   "source": [
    "#함수 지정: for문, if문 포함\n",
    "def array_max(n,m,k, arr):\n",
    "    total = 0\n",
    "    while True:\n",
    "        for i in range(k):\n",
    "            arr_max = arr.max()    #제일 큰 수를 찾아서 k번 더하기\n",
    "            total += arr_max       \n",
    "        idx = np.where(arr==arr_max)  #제일 큰 수의 배열 속 인덱스 찾기\n",
    "        arr = np.delete(arr,idx)      #제일 큰 수 삭제\n",
    "        m -= k                #남아있는 덧셈 횟수 조정\n",
    "    \n",
    "        if m < k:             #남아있는 덧셈 횟수가 최대 덧셈횟수보다 작은 경우\n",
    "            for i in range(m):\n",
    "                arr_max = arr.max()\n",
    "                total += arr_max     #제일 큰 수를 남아있는 횟수 만큼 더하기\n",
    "            break                  #그럼 끝\n",
    "    return f'요소당 최대 덧셈 횟수가 {k}번, 총 덧셈 횟수가 {m}번 일 때, 주어진 배열을 가지고 만들 수 있는 최대값은 {total}입니다.'"
   ]
  },
  {
   "cell_type": "code",
   "execution_count": 30,
   "id": "923fb7eb",
   "metadata": {},
   "outputs": [],
   "source": [
    "#함수 지정: for문, if문 포함2\n",
    "def array_max(n,m,k, arr):\n",
    "    total = 0\n",
    "    x,y = divmod(m,k)\n",
    "    for i in range(x):\n",
    "        arr_max = arr.max()    #제일 큰 수를 찾아서 k번 더하기\n",
    "        total += arr_max*k       \n",
    "        idx = np.where(arr==arr_max)  #제일 큰 수의 배열 속 인덱스 찾기\n",
    "        arr = np.delete(arr,idx)      #제일 큰 수 삭제\n",
    "        \n",
    "        if i == x-1: \n",
    "            arr_max = arr.max()\n",
    "            total += arr_max*y    #제일 큰 수를 남아있는 횟수 만큼 더하기\n",
    "\n",
    "    return f'요소당 최대 덧셈 횟수가 {k}번, 총 덧셈 횟수가 {m}번 일 때, 주어진 배열을 가지고 만들 수 있는 최대값은 {total}입니다.'"
   ]
  },
  {
   "cell_type": "code",
   "execution_count": 50,
   "id": "c685886e",
   "metadata": {},
   "outputs": [],
   "source": [
    "#함수 지정: for문, if문 미포함\n",
    "\n",
    "def array_max(n,m,k,arr):\n",
    "    arr = sorted(arr, reverse = True)\n",
    "    x, y = divmod(m,k)\n",
    "    \n",
    "    if y == 0:\n",
    "        total = total = sum(arr[:x])*k\n",
    "    else:\n",
    "        total = sum(arr[:x])*k + arr[x]*y\n",
    "    \n",
    "    return f'요소당 최대 덧셈 횟수가 {k}번, 총 덧셈 횟수가 {m}번 일 때, 주어진 배열을 가지고 만들 수 있는 최대값은 {total}입니다.'"
   ]
  },
  {
   "cell_type": "code",
   "execution_count": 51,
   "id": "6e138ff8",
   "metadata": {
    "scrolled": false
   },
   "outputs": [
    {
     "name": "stdout",
     "output_type": "stream",
     "text": [
      ">> 배열 요소의 수, 덧셈할 횟수, 최대 덧셈이 가능한 횟수를 공백으로 분리하여 입력하세요.\n",
      "2 10 5\n",
      ">> 배열의 요소를 공백으로 분리하여 입력하세요.\n",
      "1 2\n"
     ]
    },
    {
     "data": {
      "text/plain": [
       "'요소당 최대 덧셈 횟수가 5번, 총 덧셈 횟수가 10번 일 때, 주어진 배열을 가지고 만들 수 있는 최대값은 15입니다.'"
      ]
     },
     "execution_count": 51,
     "metadata": {},
     "output_type": "execute_result"
    }
   ],
   "source": [
    "import numpy as np\n",
    "\n",
    "#함수 인자값을 제대로 받을 때까지 돌리자\n",
    "while True:     \n",
    "    x = input('>> 배열 요소의 수, 덧셈할 횟수, 최대 덧셈이 가능한 횟수를 공백으로 분리하여 입력하세요.\\n')\n",
    "    n = int(x.split(' ')[0])\n",
    "    m = int(x.split(' ')[1])\n",
    "    k = int(x.split(' ')[2])\n",
    "    \n",
    "    if n <= m//k and m % k >= 1:       \n",
    "        print(f'※경고: 배열 요소의 수를 {m//k+1} 이상의 값으로 입력해주세요')      \n",
    "        continue\n",
    "    else:\n",
    "        break\n",
    "        \n",
    "        \n",
    "#배열 요소값을 제대로 받을 때까지 돌리자\n",
    "while True:     \n",
    "    y = input('>> 배열의 요소를 공백으로 분리하여 입력하세요.\\n')\n",
    "    arr = np.array([int(i) for i in y.split(' ')])\n",
    "\n",
    "    \n",
    "    if len(arr) != n:    #배열 요소의 개수가 입력값과 다른 경우\n",
    "        print(f'※경고: 배열 요소의 수를 {n}개가 되도록 입력해주세요')\n",
    "        continue    \n",
    "    \n",
    "    #배열 요소의 개수가 입력값과 같은 경우 \n",
    "    elif len(set(arr)) == m//k and m%k > 0:   #고유 요소 개수가 총 덧셈 횟수를 최대 덧셈 횟수로 나눴을 때와 같은 경우\n",
    "            print(f'※경고: 고유한 요소가 {m//k+1}개 이상 되도록 입력해주세요.')\n",
    "            continue\n",
    "    elif len(set(arr)) < m//k:  #고유 요소 개수가 총 덧셈 횟수를 최대 덧셈 횟수로 나눴을 때보다 작은 경우\n",
    "        if m%k >= 1: \n",
    "            print(f'※경고: 고유한 요소가 {m//k+1}개 이상 되도록 입력해주세요.')\n",
    "            continue\n",
    "        elif m%k == 0: \n",
    "            print(f'※경고: 고유한 요소가 {m//k}개 이상 되도록 입력해주세요.')\n",
    "            continue\n",
    "    else:\n",
    "        break\n",
    "\n",
    "array_max(n,m,k,arr)  \n"
   ]
  },
  {
   "cell_type": "code",
   "execution_count": null,
   "id": "020db56d",
   "metadata": {},
   "outputs": [],
   "source": []
  },
  {
   "cell_type": "markdown",
   "id": "fa7cd5cc",
   "metadata": {},
   "source": [
    "#### Q58. N개의 요소로 이루어진 배열이 있을 때 주어진 수들을 M번 더하여 가장 큰 수를 만드는 프로그램을 작성하세요. 단 배열의 특정한 인덱스(번호)에 해당하는 수가 연속해서 K번을 초과하여 더해질 수 없는 것이 특징이다.\n",
    "프로그램은 다음 조건을 만족하는 N, M, K를 공백으로 일차 입력하고 N개의 배열을 공백으로 이차 입력하면 결과물을 출력하는 방식으로 수행함.\n",
    "- 2 <= N <= 1000\n",
    "- 1 <= M <= 10000\n",
    "- 1 <= K <= 10000\n"
   ]
  },
  {
   "cell_type": "code",
   "execution_count": null,
   "id": "c8d96578",
   "metadata": {},
   "outputs": [],
   "source": [
    "# N, M, K를 공백을 기준으로 구분하여 입력 받기\n",
    "n, m, k = map(int, input().split())\n",
    "# N개의 수를 공백을 기준으로 구분하여 입력 받기\n",
    "data = list(map(int, input().split()))\n",
    "\n",
    "data.sort() # 입력 받은 수들 정렬하기\n",
    "first = data[n - 1] # 가장 큰 수\n",
    "second = data[n - 2] # 두 번째로 큰 수\n",
    "\n",
    "# 가장 큰 수가 더해지는 횟수 계산\n",
    "count = m // (k + 1) * k\n",
    "count += m % (k + 1)\n",
    "\n",
    "result = 0\n",
    "result += (count) * first # 가장 큰 수 더하기\n",
    "result += (m - count) * second # 두 번째로 큰 수 더하기\n",
    "\n",
    "print(result) # 최종 답안 출력"
   ]
  },
  {
   "cell_type": "markdown",
   "id": "bb596be8",
   "metadata": {},
   "source": [
    "# 08/05"
   ]
  },
  {
   "cell_type": "markdown",
   "id": "b3eafa89",
   "metadata": {},
   "source": [
    "#### Q61. file1, 2의 파일 크기를 각각 구하세요.\n",
    "\n",
    "- file1 = 'data/stockcode.txt'\n",
    "- file2 = 'data/img_sample.jpg'"
   ]
  },
  {
   "cell_type": "code",
   "execution_count": 21,
   "id": "120c1b91",
   "metadata": {},
   "outputs": [
    {
     "data": {
      "text/plain": [
       "os.stat_result(st_mode=33206, st_ino=13229323905746951, st_dev=2550895225, st_nlink=1, st_uid=0, st_gid=0, st_size=16339, st_atime=1659914591, st_mtime=1659660150, st_ctime=1659660150)"
      ]
     },
     "execution_count": 21,
     "metadata": {},
     "output_type": "execute_result"
    }
   ],
   "source": [
    "from pathlib import Path\n",
    "\n",
    "Path(r'C:/cakd7/강의/m1_programming/dataset/stockcode.txt').stat()"
   ]
  },
  {
   "cell_type": "markdown",
   "id": "79095ad3",
   "metadata": {},
   "source": [
    "- st_mode: 파일 유형 및 파일 모드 비트(권한)\n",
    "- st_ino: 윈도우에서 파일 인덱스를 나타냄\n",
    "- st_dev: 파일이 있는 장치의 식별자를 나타냄\n",
    "- st_nlink: 하드 링크의 수를 나타냄\n",
    "- st_uid: 파일 소유자의 사용자 식별자를 나타냄\n",
    "- st_gid: 파일 소유자의 그룹 식별자를 나타냄\n",
    "- st_atime: 최근 액세스한 시간(초단위)\n",
    "- st_mtime: 최근 컨텐츠를 수정한 시간\n",
    "- st_ctime:  윈도우에서는 생성시간을 타나냄"
   ]
  },
  {
   "cell_type": "code",
   "execution_count": 18,
   "id": "deb8eb2e",
   "metadata": {},
   "outputs": [
    {
     "name": "stdout",
     "output_type": "stream",
     "text": [
      "stockcode.txt의 파일크기는  16,339 바이트 입니다.\n",
      "img_sample.jpg의 파일크기는  170,005 바이트 입니다.\n"
     ]
    }
   ],
   "source": [
    "#방법1\n",
    "\n",
    "from pathlib import Path\n",
    "\n",
    "\n",
    "file_size = Path(r'C:/cakd7/강의/m1_programming/dataset/stockcode.txt').stat().st_size\n",
    "print(f'stockcode.txt의 파일크기는 {file_size: ,} 바이트 입니다.')\n",
    "\n",
    "file_size2 = Path(r'C:/cakd7/강의/m1_programming/dataset/img_sample.jpg').stat().st_size\n",
    "print(f'img_sample.jpg의 파일크기는 {file_size2: ,} 바이트 입니다.')"
   ]
  },
  {
   "cell_type": "code",
   "execution_count": 19,
   "id": "0450ffe8",
   "metadata": {},
   "outputs": [
    {
     "name": "stdout",
     "output_type": "stream",
     "text": [
      "stockcode.txt의 파일크기는  16,339 바이트 입니다.\n",
      "img_sample.jpg의 파일크기는 170,005 바이트 입니다.\n"
     ]
    }
   ],
   "source": [
    "#방법2\n",
    "\n",
    "import os\n",
    "\n",
    "file_size = os.path.getsize('C:/cakd7/강의/m1_programming/dataset/stockcode.txt')\n",
    "print(f'stockcode.txt의 파일크기는 {file_size: ,} 바이트 입니다.')\n",
    "\n",
    "file_size2 = os.path.getsize('C:/cakd7/강의/m1_programming/dataset/img_sample.jpg')\n",
    "print(f'img_sample.jpg의 파일크기는 {file_size2:,} 바이트 입니다.')"
   ]
  },
  {
   "cell_type": "code",
   "execution_count": 20,
   "id": "11a0ada2",
   "metadata": {},
   "outputs": [
    {
     "name": "stdout",
     "output_type": "stream",
     "text": [
      "stockcode.txt의 파일크기는  16,339 바이트 입니다.\n",
      "img_sample.jpg의 파일크기는  170,005 바이트 입니다.\n"
     ]
    }
   ],
   "source": [
    "#방법3\n",
    "\n",
    "import os\n",
    "\n",
    "file_size = os.stat(r'C:/cakd7/강의/m1_programming/dataset/stockcode.txt').st_size\n",
    "print(f'stockcode.txt의 파일크기는 {file_size: ,} 바이트 입니다.')\n",
    "\n",
    "file_size2 = os.stat(r'C:/cakd7/강의/m1_programming/dataset/img_sample.jpg').st_size\n",
    "print(f'img_sample.jpg의 파일크기는 {file_size2: ,} 바이트 입니다.')"
   ]
  },
  {
   "cell_type": "markdown",
   "id": "b2cca344",
   "metadata": {},
   "source": [
    "#### Q62.stockcode.txt의 105바이트 위치에서 500바이트를 읽어 그 내용은 stock_part.txt에 저장 한 후 출력하세요.\n"
   ]
  },
  {
   "cell_type": "code",
   "execution_count": 10,
   "id": "2d49a175",
   "metadata": {},
   "outputs": [
    {
     "name": "stdout",
     "output_type": "stream",
     "text": [
      "605\n"
     ]
    }
   ],
   "source": [
    "with open('C:/cakd7/강의/m1_programming/dataset/stockcode.txt','rb') as fr:                    #바이트 타입으로 읽기\n",
    "    with open('stock_part.txt','wb') as fw:            #바이트 타입으로 쓰기\n",
    "        fr.seek(105)     #105바이트에 위치하는 곳에 커서 이동\n",
    "        fw.write(fr.read(500))     #500글자만 읽어서 쓰도록\n",
    "        print(fr.tell())        #현재 커서가 위치하는 곳"
   ]
  },
  {
   "cell_type": "code",
   "execution_count": 11,
   "id": "a46a59a4",
   "metadata": {},
   "outputs": [
    {
     "data": {
      "text/plain": [
       "500"
      ]
     },
     "execution_count": 11,
     "metadata": {},
     "output_type": "execute_result"
    }
   ],
   "source": [
    "#500바이트가 맞는지 확인\n",
    "import os\n",
    "\n",
    "os.stat(r'stock_part.txt').st_size"
   ]
  },
  {
   "cell_type": "code",
   "execution_count": 12,
   "id": "14c23510",
   "metadata": {},
   "outputs": [
    {
     "name": "stdout",
     "output_type": "stream",
     "text": [
      " 유한양행\n",
      "000101 유한양행우\n",
      "000120 대한통운\n",
      "000140 하이트홀딩스\n",
      "000141 하이트홀딩스우\n",
      "000150 두산\n",
      "000151 두산우\n",
      "000152 두산2우B\n",
      "000180 성창기업지주\n",
      "000210 대림산업\n",
      "000211 대림산업우\n",
      "000220 유유제약\n",
      "000221 유유제약1우\n",
      "000222 유유제약2우B\n",
      "000230 일동제약\n",
      "000240 한국타이어\n",
      "000270 기아차\n",
      "000300 대유신소재\n",
      "000320 디피아이홀딩스\n",
      "000321 디피아이홀딩스우\n",
      "000322 디피아이홀딩스2B\n",
      "000360 삼환기업\n",
      "000361 삼환기업우\n",
      "000370 한화손해보험\n",
      "000390 삼화페인트\n",
      "000400 롯데손해보험\n",
      "000420 로\n"
     ]
    }
   ],
   "source": [
    "#내용 확인\n",
    "\n",
    "with open('stock_part.txt', 'r') as fr:\n",
    "    print(fr.read())"
   ]
  },
  {
   "cell_type": "markdown",
   "id": "036ff0a6",
   "metadata": {},
   "source": [
    "#### Q63.네이버 검색에서 관심 주제와 기사 수를 입력하면 그만큼 출력하는 크롤링 프로그램을 작성하여 다음 사항을 수행하세요.\n",
    "\n",
    "기사 제목과 링크를 데이터프레임으로 가져온 후 본문 내용에서 한글 단어만 출력하여 형태소 분석\n",
    "최근 국내 'AI'와 관련하여 가장 많이 언급되는 단어에 대한 빈도분석 및 시각화\n",
    "AI 분야에서의 유의할 만한 트랜드 정보 및 인사이트 도출\n",
    "\n"
   ]
  },
  {
   "cell_type": "code",
   "execution_count": 27,
   "id": "8bdfd1b5",
   "metadata": {},
   "outputs": [],
   "source": [
    "import requests\n",
    "import urllib\n",
    "from bs4 import BeautifulSoup as BS\n",
    "import pandas as pd\n",
    "\n",
    "# 페이지 구조\n",
    "## 1p-> '&start=01'\n",
    "## 2p-> '&start=11'\n",
    "## 3p-> '&start=21' "
   ]
  },
  {
   "cell_type": "code",
   "execution_count": 28,
   "id": "d4242311",
   "metadata": {
    "scrolled": true
   },
   "outputs": [
    {
     "name": "stdout",
     "output_type": "stream",
     "text": [
      "> 검색 키워드를 입력해주세요\n",
      "ai\n",
      "> 필요한 뉴스기사 수를 입력해주세요\n",
      "10\n"
     ]
    },
    {
     "data": {
      "text/html": [
       "<div>\n",
       "<style scoped>\n",
       "    .dataframe tbody tr th:only-of-type {\n",
       "        vertical-align: middle;\n",
       "    }\n",
       "\n",
       "    .dataframe tbody tr th {\n",
       "        vertical-align: top;\n",
       "    }\n",
       "\n",
       "    .dataframe thead th {\n",
       "        text-align: right;\n",
       "    }\n",
       "</style>\n",
       "<table border=\"1\" class=\"dataframe\">\n",
       "  <thead>\n",
       "    <tr style=\"text-align: right;\">\n",
       "      <th></th>\n",
       "      <th>title</th>\n",
       "      <th>url</th>\n",
       "    </tr>\n",
       "  </thead>\n",
       "  <tbody>\n",
       "    <tr>\n",
       "      <th>1</th>\n",
       "      <td>AI로 신소재 개발 속도 높인다</td>\n",
       "      <td>http://www.fnnews.com/news/202208091117408193</td>\n",
       "    </tr>\n",
       "    <tr>\n",
       "      <th>2</th>\n",
       "      <td>“AI가 로또번호 예측” 가짜 후기로 600억원 가로챈 조직 검거</td>\n",
       "      <td>https://biz.chosun.com/topics/topics_social/20...</td>\n",
       "    </tr>\n",
       "    <tr>\n",
       "      <th>3</th>\n",
       "      <td>잡코리아 ‘AI 추천&amp;검색 서비스’ 론칭</td>\n",
       "      <td>https://www.sedaily.com/NewsView/269QB4Z3A3</td>\n",
       "    </tr>\n",
       "    <tr>\n",
       "      <th>4</th>\n",
       "      <td>카카오벤처스 \"AI 임상시험 분석기업 액트노바에 시드투자\"</td>\n",
       "      <td>https://www.yna.co.kr/view/AKR2022080903130001...</td>\n",
       "    </tr>\n",
       "    <tr>\n",
       "      <th>5</th>\n",
       "      <td>비투엔, 광주에 AI융합센터 개소···내년 디지털헬스 서비스 선보여</td>\n",
       "      <td>https://zdnet.co.kr/view/?no=20220809172036</td>\n",
       "    </tr>\n",
       "    <tr>\n",
       "      <th>6</th>\n",
       "      <td>하렉스인포텍 \"가맹점주에 AI 맞춤 서비스\"</td>\n",
       "      <td>http://news.mk.co.kr/newsRead.php?no=702316&amp;ye...</td>\n",
       "    </tr>\n",
       "    <tr>\n",
       "      <th>7</th>\n",
       "      <td>SKT 고객 절반이 5G…\"AI·구독과 연계 강화\"</td>\n",
       "      <td>https://www.hankyung.com/it/article/2022080906511</td>\n",
       "    </tr>\n",
       "    <tr>\n",
       "      <th>8</th>\n",
       "      <td>경남TP-인제대 AI복합교육장 활성화 협약</td>\n",
       "      <td>http://news.mt.co.kr/mtview.php?no=20220809162...</td>\n",
       "    </tr>\n",
       "    <tr>\n",
       "      <th>9</th>\n",
       "      <td>[AI-META 시대 '미래전략'] &lt;28&gt;AI 윤리</td>\n",
       "      <td>http://www.etnews.com/20220809000093</td>\n",
       "    </tr>\n",
       "    <tr>\n",
       "      <th>10</th>\n",
       "      <td>[경남소식] 도 교육청 'AI시대 대비' 수학 교사 연수</td>\n",
       "      <td>https://www.yna.co.kr/view/AKR2022080913110005...</td>\n",
       "    </tr>\n",
       "  </tbody>\n",
       "</table>\n",
       "</div>"
      ],
      "text/plain": [
       "                                    title  \\\n",
       "1                       AI로 신소재 개발 속도 높인다   \n",
       "2    “AI가 로또번호 예측” 가짜 후기로 600억원 가로챈 조직 검거   \n",
       "3                  잡코리아 ‘AI 추천&검색 서비스’ 론칭   \n",
       "4        카카오벤처스 \"AI 임상시험 분석기업 액트노바에 시드투자\"   \n",
       "5   비투엔, 광주에 AI융합센터 개소···내년 디지털헬스 서비스 선보여   \n",
       "6                하렉스인포텍 \"가맹점주에 AI 맞춤 서비스\"   \n",
       "7            SKT 고객 절반이 5G…\"AI·구독과 연계 강화\"   \n",
       "8                 경남TP-인제대 AI복합교육장 활성화 협약   \n",
       "9           [AI-META 시대 '미래전략'] <28>AI 윤리   \n",
       "10        [경남소식] 도 교육청 'AI시대 대비' 수학 교사 연수   \n",
       "\n",
       "                                                  url  \n",
       "1       http://www.fnnews.com/news/202208091117408193  \n",
       "2   https://biz.chosun.com/topics/topics_social/20...  \n",
       "3         https://www.sedaily.com/NewsView/269QB4Z3A3  \n",
       "4   https://www.yna.co.kr/view/AKR2022080903130001...  \n",
       "5         https://zdnet.co.kr/view/?no=20220809172036  \n",
       "6   http://news.mk.co.kr/newsRead.php?no=702316&ye...  \n",
       "7   https://www.hankyung.com/it/article/2022080906511  \n",
       "8   http://news.mt.co.kr/mtview.php?no=20220809162...  \n",
       "9                http://www.etnews.com/20220809000093  \n",
       "10  https://www.yna.co.kr/view/AKR2022080913110005...  "
      ]
     },
     "execution_count": 28,
     "metadata": {},
     "output_type": "execute_result"
    }
   ],
   "source": [
    "query = input('> 검색 키워드를 입력해주세요\\n')\n",
    "n = int(input('> 필요한 뉴스기사 수를 입력해주세요\\n'))\n",
    "\n",
    "# 검색어를 문자 -> 퍼센트 인코딩\n",
    "url='https://search.naver.com/search.naver?where=news&sm=tab_jum&query='\n",
    "query = urllib.parse.quote(query)     \n",
    "\n",
    "\n",
    "#### 한 페이지당 기사가 10개씩 존재함\n",
    "\n",
    "ten_n, one_n = divmod( n, 10)\n",
    "if one_n !=0:\n",
    "    ten_n += 1\n",
    "    \n",
    "# ten_n = n // 10 +1    #### ex) 35개의 뉴스 타이틀을 긁어오기 위해 4페이지의 5번째까지 긁어와야함\n",
    "# one_n = n % 10\n",
    "\n",
    "\n",
    "news_title = []\n",
    "news_url=[]\n",
    "\n",
    "for i in range(ten_n):\n",
    "    \n",
    "    #크롤링할 url 지정\n",
    "    query_url = url+query+'&start='+str(i)+'1'\n",
    "    \n",
    "    #페이지 소스 크롤링\n",
    "    res = requests.get(query_url)\n",
    "    html = res.content\n",
    "    bs = BS(html, 'html.parser')\n",
    "    \n",
    "    #마지막 페이지 소스 크롤링 개수 제한\n",
    "    if i == (ten_n-1):\n",
    "        a_url = bs.find_all('a', class_='news_tit', limit = one_n)\n",
    "    else:\n",
    "        a_url = bs.find_all('a', class_='news_tit')\n",
    "        \n",
    "    for a in a_url:\n",
    "        news_title.append(a.text)\n",
    "        news_url.append(a.get('href'))\n",
    "        \n",
    "#데이터프레임 만들기\n",
    "news_df = pd.DataFrame(columns = ['title', 'url'])\n",
    "news_df['title'] = news_title\n",
    "news_df['url'] = news_url\n",
    "#     news_df['descriptions'] = description\n",
    " \n",
    "news_df.index =  news_df.index +1\n",
    "news_df\n"
   ]
  },
  {
   "cell_type": "code",
   "execution_count": 29,
   "id": "b67974e7",
   "metadata": {
    "scrolled": false
   },
   "outputs": [
    {
     "name": "stdout",
     "output_type": "stream",
     "text": [
      "http://www.fnnews.com/news/202208091117408193\n",
      "https://biz.chosun.com/topics/topics_social/2022/08/09/P2BUCRQ3DRDVVHU3HSWUI4JRXU/?utm_source=naver&utm_medium=original&utm_campaign=biz\n",
      "https://www.sedaily.com/NewsView/269QB4Z3A3\n",
      "https://www.yna.co.kr/view/AKR20220809031300017?input=1195m\n",
      "https://zdnet.co.kr/view/?no=20220809172036\n",
      "http://news.mk.co.kr/newsRead.php?no=702316&year=2022\n",
      "https://www.hankyung.com/it/article/2022080906511\n",
      "http://news.mt.co.kr/mtview.php?no=2022080916263479746\n",
      "http://www.etnews.com/20220809000093\n",
      "https://www.yna.co.kr/view/AKR20220809131100052?input=1195m\n"
     ]
    }
   ],
   "source": [
    "for i in news_df['url']:\n",
    "    print(i)"
   ]
  },
  {
   "cell_type": "code",
   "execution_count": 38,
   "id": "276accd2",
   "metadata": {
    "scrolled": true
   },
   "outputs": [
    {
     "name": "stdout",
     "output_type": "stream",
     "text": [
      "\n",
      "\n",
      "\n",
      "\n",
      "\n",
      "\n",
      "\n",
      "\n",
      "\n",
      "\n",
      "\n",
      "\n",
      "\n",
      "\n",
      "\n",
      "\n",
      "\n",
      "\n",
      "\n",
      "\n",
      "\n",
      "\n",
      "\n",
      "\n",
      "\n",
      "\n",
      "\n",
      "\n",
      "\n",
      "\n",
      "\n",
      "\n",
      "\n",
      "\n",
      "\n",
      "\n",
      "\n",
      "\n",
      "\n",
      "\n",
      "\n",
      "\n",
      "\n",
      "\n",
      "\n",
      "\n",
      "\n",
      "\n",
      "\n",
      "\n",
      "\n",
      "\n",
      "\n",
      "\n",
      "\n",
      "\n",
      "\n",
      "\n",
      "\n",
      "\n",
      "\n",
      "\n",
      "\n",
      "\n",
      "\n",
      "\n",
      "\n",
      "\n",
      "\n",
      "\n",
      "\n",
      "\n",
      "\n",
      "\n",
      "\n",
      "\n",
      "\n",
      "\n",
      "\n",
      "\n",
      "\n",
      "\n",
      "\n",
      "\n",
      "\n",
      "\n",
      "\n",
      "\n",
      "\n",
      "\n",
      "\n",
      "\n",
      "\n",
      "\n",
      "\n",
      "\n",
      "\n",
      "\n",
      "\n",
      "\n",
      "\n",
      "\n",
      "\n",
      "\n",
      "\n",
      "\n",
      "\n",
      "\n",
      "\n",
      "\n",
      "\n",
      "\n",
      "\n",
      "\n",
      "\n",
      "\n",
      "\n",
      "\n",
      "\n",
      "\n",
      "\n",
      "\n",
      "\n",
      "\n",
      "\n",
      "\n",
      "\n",
      "\n",
      "\n",
      "\n",
      "\n",
      "\n",
      "\n",
      "\n",
      "\n",
      "\n",
      "\n",
      "\n",
      "\n",
      "\n",
      "\n",
      "\n",
      "\n",
      "\n",
      "\n",
      "\n",
      "\n",
      "\n",
      "\n",
      "\n",
      "\n",
      "\n",
      "\n",
      "\n",
      "\n",
      "\n",
      "\n",
      "\n",
      "\n",
      "\n",
      "\n",
      "\n",
      "\n",
      "\n",
      "\n",
      "\n",
      "\n",
      "\n",
      "\n",
      "\n",
      "\n",
      "\n",
      "\n",
      "\n",
      "\n",
      "\n",
      "\n",
      "\n",
      "\n",
      "\n",
      "\n",
      "\n",
      "\n",
      "\n",
      "\n",
      "\n",
      "\n",
      "\n",
      "\n",
      "\n",
      "\n",
      "\n",
      "\n",
      "\n",
      "\n",
      "\n",
      "\n",
      "\n",
      "\n",
      "\n",
      "\n",
      "\n",
      "\n",
      "\n",
      "\n",
      "\n",
      "\n",
      "\n",
      "\n",
      "\n",
      "\n",
      "\n",
      "\n",
      "\n",
      "\n",
      "\n",
      "\n",
      "\n",
      "\n",
      "\n",
      "\n",
      "\n",
      "\n",
      "\n",
      "\n",
      "\n",
      "\n",
      "\n",
      "\n",
      "\n",
      "\n",
      "\n",
      "\n",
      "\n",
      "\n",
      "\n",
      "\n",
      "\n",
      "\n",
      "\n",
      "\n",
      "\n",
      "\n",
      "\n",
      "\n",
      "\n",
      "\n",
      "\n",
      "\n",
      "\n",
      "\n",
      "\n",
      "\n",
      "\n",
      "\n",
      "\n",
      "\n",
      "\n",
      "\n",
      "\n",
      "\n",
      "\n",
      "\n",
      "\n",
      "\n",
      "\n",
      "\n",
      "\n",
      "\n",
      "\n",
      "\n",
      "\n",
      "\n",
      "\n",
      "\n",
      "\n",
      "\n",
      "\n",
      "\n",
      "\n",
      "\n",
      "\n",
      "\n",
      "\n",
      "\n",
      "\n",
      "\n",
      "\n",
      "\n",
      "\n",
      "\n",
      "\n",
      "\n",
      "\n",
      "\n",
      "\n",
      "\n",
      "\n",
      "\n",
      "\n",
      "\n",
      "\n",
      "\n",
      "\n",
      "\n",
      "\n",
      "\n",
      "\n",
      "\n",
      "\n",
      "\n",
      "\n",
      "\n",
      "\n",
      "\n",
      "\n",
      "\n",
      "\n",
      "\n",
      "\n",
      "\n",
      "\n",
      "\n",
      "\n",
      "\n",
      "\n",
      "\n",
      "\n",
      "\n",
      "\n",
      "\n",
      "\n",
      "\n",
      "\n",
      "\n",
      "\n",
      "\n",
      "\n",
      "\n",
      "\n",
      "\n",
      "\n",
      "\n",
      "\n",
      "\n",
      "\n",
      "\n",
      "\n",
      "\n",
      "\n",
      "\n",
      "\n",
      "\n",
      "\n",
      "\n",
      "\n",
      "\n",
      "\n",
      "\n",
      "\n",
      "\n",
      "\n",
      "\n",
      "\n",
      "\n",
      "\n",
      "\n",
      "\n",
      "\n",
      "\n",
      "\n",
      "\n",
      "\n",
      "\n",
      "\n",
      "\n",
      "\n",
      "\n",
      "\n",
      "\n",
      "\n",
      "\n",
      "\n",
      "\n",
      "\n",
      "\n",
      "\n",
      "\n",
      "\n",
      "\n",
      "\n",
      "\n",
      "\n",
      "\n",
      "\n",
      "\n",
      "\n",
      "\n",
      "\n",
      "\n",
      "\n",
      "\n",
      "\n",
      "\n",
      "\n",
      "\n",
      "\n",
      "\n",
      "\n",
      "\n",
      "\n",
      "\n",
      "\n",
      "\n",
      "\n",
      "\n",
      "\n",
      "\n",
      "\n",
      "\n",
      "\n",
      "\n",
      "\n",
      "\n",
      "\n",
      "\n",
      "\n",
      "\n",
      "\n",
      "\n",
      "\n",
      "\n",
      "\n",
      "\n",
      "\n",
      "\n",
      "\n",
      "\n",
      "\n",
      "\n",
      "\n",
      "\n",
      "\n",
      "\n",
      "\n",
      "\n",
      "\n",
      "\n",
      "\n",
      "\n",
      "\n",
      "\n",
      "\n",
      "\n",
      "\n",
      "\n",
      "\n",
      "\n",
      "\n",
      "\n",
      "\n",
      "\n",
      "\n",
      "\n",
      "\n",
      "\n",
      "\n",
      "\n",
      "\n",
      "\n",
      "\n",
      "\n",
      "\n",
      "\n",
      "\n",
      "\n",
      "\n",
      "\n",
      "\n",
      "\n",
      "\n",
      "\n",
      "\n",
      "\n",
      "\n",
      "\n",
      "\n",
      "\n",
      "\n",
      "\n",
      "\n",
      "\n",
      "\n",
      "\n",
      "\n",
      "\n",
      "\n",
      "\n",
      "\n",
      "\n",
      "\n",
      "\n",
      "\n",
      "\n",
      "\n",
      "\n",
      "\n",
      "\n",
      "\n",
      "\n",
      "\n",
      "\n",
      "\n",
      "\n",
      "\n",
      "\n",
      "\n",
      "\n",
      "\n",
      "\n",
      "\n",
      "\n",
      "\n",
      "\n",
      "\n",
      "\n",
      "\n",
      "\n",
      "\n",
      "\n",
      "\n",
      "\n",
      "\n",
      "\n",
      "\n",
      "\n",
      "\n",
      "\n",
      "\n",
      "\n",
      "\n",
      "\n",
      "\n",
      "\n",
      "\n",
      "\n",
      "\n",
      "\n",
      "\n",
      "\n",
      "\n",
      "\n",
      "\n",
      "\n",
      "\n",
      "\n",
      "\n",
      "\n",
      "\n",
      "\n",
      "\n",
      "\n",
      "\n",
      "\n",
      "\n",
      "\n",
      "\n",
      "\n",
      "\n",
      "\n",
      "\n",
      "\n",
      "\n",
      "\n",
      "\n",
      "\n",
      "\n",
      "\n",
      "\n",
      "\n",
      "\n",
      "\n",
      "\n",
      "\n",
      "\n",
      "\n",
      "\n",
      "\n",
      "\n",
      "\n",
      "\n",
      "\n",
      "\n",
      "\n",
      "\n",
      "\n",
      "\n",
      "\n",
      "\n",
      "\n",
      "\n",
      "\n",
      "\n",
      "\n",
      "\n",
      "\n",
      "\n",
      "\n",
      "\n",
      "\n",
      "\n",
      "\n",
      "\n",
      "\n",
      "\n",
      "\n",
      "\n",
      "\n",
      "\n",
      "\n",
      "\n",
      "\n",
      "\n",
      "\n",
      "\n",
      "\n",
      "\n",
      "\n",
      "\n",
      "\n",
      "\n",
      "\n",
      "\n",
      "\n",
      "\n",
      "\n",
      "\n",
      "\n",
      "\n",
      "\n",
      "\n",
      "\n",
      "\n",
      "\n",
      "\n",
      "\n",
      "\n",
      "\n",
      "\n",
      "\n",
      "\n",
      "\n",
      "\n",
      "\n",
      "\n",
      "\n",
      "\n",
      "\n",
      "\n",
      "\n",
      "\n",
      "\n",
      "\n",
      "\n",
      "\n",
      "\n",
      "\n",
      "\n",
      "\n",
      "\n",
      "\n",
      "\n",
      "\n",
      "\n",
      "\n",
      "\n",
      "\n",
      "\n",
      "\n",
      "\n",
      "\n",
      "\n",
      "\n",
      "\n",
      "\n",
      "\n",
      "\n",
      "\n",
      "\n",
      "\n",
      "\n",
      "\n",
      "\n",
      "\n",
      "\n",
      "\n",
      "\n",
      "\n",
      "\n",
      "\n",
      "\n",
      "\n",
      "\n",
      "\n",
      "\n",
      "\n",
      "\n",
      "\n",
      "\n",
      "\n",
      "\n",
      "\n",
      "\n",
      "\n",
      "\n",
      "\n",
      "\n",
      "\n",
      "\n",
      "\n",
      "\n",
      "\n",
      "\n",
      "\n",
      "\n",
      "\n",
      "\n",
      "\n",
      "\n",
      "\n",
      "\n",
      "\n",
      "\n",
      "\n",
      "\n",
      "\n",
      "\n",
      "\n",
      "\n",
      "\n",
      "\n",
      "\n",
      "\n",
      "\n",
      "\n",
      "\n",
      "\n",
      "\n",
      "\n",
      "\n",
      "\n",
      "\n",
      "\n",
      "\n",
      "\n",
      "\n",
      "\n",
      "\n",
      "\n",
      "\n",
      "\n",
      "\n",
      "\n",
      "\n",
      "\n",
      "\n",
      "\n",
      "\n",
      "\n",
      "\n",
      "\n",
      "\n",
      "\n",
      "\n",
      "\n",
      "\n",
      "\n",
      "\n",
      "\n",
      "\n",
      "\n",
      "\n",
      "\n",
      "\n",
      "\n",
      "\n",
      "\n",
      "\n",
      "\n",
      "\n",
      "\n",
      "\n",
      "\n",
      "\n",
      "\n",
      "\n",
      "\n",
      "\n",
      "\n",
      "\n",
      "\n",
      "\n",
      "\n",
      "\n",
      "\n",
      "\n",
      "\n",
      "\n",
      "\n",
      "\n",
      "\n",
      "\n",
      "\n",
      "\n",
      "\n",
      "\n",
      "\n",
      "\n",
      "\n",
      "\n",
      "\n",
      "\n",
      "\n",
      "\n",
      "\n",
      "\n",
      "\n",
      "\n",
      "\n",
      "\n",
      "\n",
      "\n",
      "\n",
      "\n",
      "\n",
      "\n",
      "\n",
      "\n",
      "\n",
      "\n",
      "\n",
      "\n",
      "\n",
      "\n",
      "\n",
      "\n",
      "\n",
      "\n",
      "\n",
      "\n",
      "\n",
      "\n",
      "\n",
      "\n",
      "\n",
      "\n",
      "\n",
      "\n",
      "\n",
      "\n",
      "\n",
      "\n",
      "\n",
      "\n",
      "\n",
      "\n",
      "\n",
      "\n",
      "\n",
      "\n",
      "\n",
      "\n",
      "\n",
      "\n",
      "\n",
      "\n",
      "\n",
      "\n",
      "\n",
      "\n",
      "\n",
      "\n",
      "\n",
      "\n",
      "\n",
      "\n",
      "\n",
      "\n",
      "\n",
      "\n",
      "\n",
      "\n",
      "\n",
      "\n",
      "\n",
      "\n",
      "\n",
      "\n",
      "\n",
      "\n",
      "\n",
      "\n",
      "\n",
      "\n",
      "\n",
      "\n",
      "\n",
      "\n",
      "\n",
      "\n",
      "\n",
      "\n",
      "\n",
      "\n",
      "\n",
      "\n",
      "\n",
      "\n",
      "\n",
      "\n",
      "\n",
      "\n",
      "\n",
      "\n",
      "\n",
      "\n",
      "\n",
      "\n",
      "\n",
      "\n",
      "\n",
      "\n",
      "\n",
      "\n",
      "\n",
      "\n",
      "\n",
      "\n",
      "\n",
      "\n",
      "\n",
      "\n",
      "\n",
      "\n",
      "\n",
      "\n",
      "\n",
      "\n",
      "\n",
      "\n",
      "\n",
      "\n",
      "\n",
      "\n",
      "\n",
      "\n",
      "\n",
      "\n",
      "\n",
      "\n",
      "\n",
      "\n",
      "\n",
      "\n",
      "\n",
      "\n",
      "\n",
      "\n",
      "\n",
      "\n",
      "\n",
      "\n",
      "\n",
      "\n",
      "\n",
      "\n",
      "\n",
      "\n",
      "\n",
      "\n",
      "\n",
      "\n",
      "\n",
      "\n",
      "\n",
      "\n",
      "\n",
      "\n",
      "\n",
      "\n",
      "\n",
      "\n",
      "\n",
      "\n",
      "\n",
      "\n",
      "\n",
      "\n",
      "\n",
      "\n",
      "\n",
      "\n",
      "\n",
      "\n",
      "\n",
      "\n",
      "\n",
      "\n",
      "\n",
      "\n",
      "\n",
      "\n",
      "\n",
      "\n",
      "\n",
      "\n",
      "\n",
      "\n",
      "\n",
      "\n",
      "\n",
      "\n",
      "\n",
      "\n",
      "\n",
      "\n",
      "\n",
      "\n",
      "\n",
      "\n",
      "\n",
      "\n",
      "\n",
      "\n",
      "\n",
      "\n",
      "\n",
      "\n",
      "\n",
      "\n",
      "\n",
      "\n",
      "\n",
      "\n",
      "\n",
      "\n",
      "\n",
      "\n",
      "\n",
      "\n",
      "\n",
      "\n",
      "\n",
      "\n",
      "\n",
      "\n",
      "\n",
      "\n",
      "\n",
      "\n",
      "\n",
      "\n",
      "\n",
      "\n",
      "\n",
      "\n",
      "\n",
      "\n",
      "\n",
      "\n",
      "\n",
      "\n",
      "\n",
      "\n",
      "\n",
      "\n",
      "\n",
      "\n",
      "\n",
      "\n",
      "\n",
      "\n",
      "\n",
      "\n",
      "\n",
      "\n",
      "\n",
      "\n",
      "\n",
      "\n",
      "\n",
      "\n",
      "\n",
      "\n",
      "\n",
      "\n",
      "\n",
      "\n",
      "\n",
      "\n",
      "\n",
      "\n",
      "\n",
      "\n",
      "\n",
      "\n",
      "\n",
      "\n",
      "\n",
      "\n",
      "\n",
      "\n",
      "\n",
      "\n",
      "\n",
      "\n",
      "\n",
      "\n",
      "\n",
      "\n",
      "\n",
      "\n",
      "\n",
      "\n",
      "\n",
      "\n",
      "\n",
      "\n",
      "\n",
      "\n",
      "\n",
      "\n",
      "\n",
      "\n",
      "\n",
      "\n",
      "\n",
      "\n",
      "\n",
      "\n",
      "\n",
      "\n",
      "\n",
      "\n",
      "\n",
      "\n",
      "\n",
      "\n",
      "\n",
      "\n",
      "\n",
      "\n",
      "\n",
      "\n",
      "\n",
      "\n",
      "\n",
      "\n",
      "\n",
      "\n",
      "\n",
      "\n",
      "\n",
      "\n",
      "\n",
      "\n",
      "\n",
      "\n",
      "\n",
      "\n",
      "\n",
      "\n",
      "\n",
      "\n",
      "\n",
      "\n",
      "\n",
      "\n",
      "\n",
      "\n",
      "\n",
      "\n",
      "\n",
      "\n",
      "\n",
      "\n",
      "\n",
      "\n",
      "\n",
      "\n",
      "\n",
      "\n",
      "\n",
      "\n",
      "\n",
      "\n",
      "\n",
      "\n",
      "\n",
      "\n",
      "\n",
      "\n",
      "\n",
      "\n",
      "\n",
      "\n",
      "\n",
      "\n",
      "\n",
      "\n",
      "\n",
      "\n",
      "\n",
      "\n",
      "\n",
      "\n",
      "\n",
      "\n",
      "\n",
      "\n",
      "\n",
      "\n",
      "\n",
      "\n",
      "\n",
      "\n",
      "\n",
      "\n",
      "\n",
      "\n",
      "\n",
      "\n",
      "\n",
      "\n",
      "\n",
      "\n",
      "\n",
      "\n",
      "\n",
      "\n",
      "\n",
      "\n",
      "\n",
      "\n",
      "\n",
      "\n",
      "\n",
      "\n",
      "\n",
      "\n",
      "\n",
      "\n",
      "\n",
      "\n",
      "\n",
      "\n",
      "\n",
      "\n",
      "\n",
      "\n",
      "\n",
      "\n",
      "\n",
      "\n",
      "\n",
      "\n",
      "\n",
      "\n",
      "\n",
      "\n",
      "\n",
      "\n",
      "\n",
      "\n",
      "\n",
      "\n",
      "\n",
      "\n",
      "\n",
      "\n",
      "\n",
      "\n",
      "\n",
      "\n",
      "\n",
      "\n",
      "\n",
      "\n",
      "\n",
      "\n",
      "\n",
      "\n",
      "\n",
      "\n",
      "\n",
      "\n",
      "\n",
      "\n",
      "\n",
      "\n",
      "\n",
      "\n",
      "\n",
      "\n",
      "\n",
      "\n",
      "\n",
      "\n",
      "\n",
      "\n",
      "\n",
      "\n",
      "\n",
      "\n",
      "\n",
      "\n",
      "\n",
      "\n",
      "\n",
      "\n",
      "\n",
      "\n",
      "\n",
      "\n",
      "\n",
      "\n",
      "\n",
      "\n",
      "\n",
      "\n",
      "\n",
      "\n",
      "\n",
      "\n",
      "\n",
      "\n",
      "\n",
      "\n",
      "\n",
      "\n",
      "\n",
      "\n",
      "\n",
      "\n",
      "\n",
      "\n",
      "\n",
      "\n",
      "\n",
      "\n",
      "\n",
      "\n",
      "\n",
      "\n",
      "\n",
      "\n",
      "\n",
      "\n",
      "\n",
      "\n",
      "\n",
      "\n",
      "\n",
      "\n",
      "\n",
      "\n",
      "\n",
      "\n",
      "\n",
      "\n",
      "\n",
      "\n",
      "\n",
      "\n",
      "\n",
      "\n",
      "\n",
      "\n",
      "\n",
      "\n",
      "\n",
      "\n",
      "\n",
      "\n",
      "\n",
      "\n",
      "\n",
      "\n",
      "\n",
      "\n",
      "\n",
      "\n",
      "\n",
      "\n",
      "\n",
      "\n",
      "\n",
      "\n",
      "\n",
      "\n",
      "\n",
      "\n",
      "\n",
      "\n",
      "\n",
      "\n",
      "\n",
      "\n",
      "\n",
      "\n",
      "\n",
      "\n",
      "\n",
      "\n",
      "\n",
      "\n",
      "\n",
      "\n",
      "\n",
      "\n",
      "\n",
      "\n",
      "\n",
      "\n",
      "\n",
      "\n",
      "\n",
      "\n",
      "\n",
      "\n",
      "\n",
      "\n",
      "\n",
      "\n",
      "\n",
      "\n",
      "\n",
      "\n",
      "\n",
      "\n",
      "\n",
      "\n",
      "\n",
      "\n",
      "\n",
      "\n",
      "\n",
      "\n",
      "\n",
      "\n",
      "\n",
      "\n",
      "\n",
      "\n",
      "\n",
      "\n",
      "\n",
      "\n",
      "\n",
      "\n",
      "\n",
      "\n",
      "\n",
      "\n",
      "\n",
      "\n",
      "\n",
      "\n",
      "\n",
      "\n",
      "\n",
      "\n",
      "\n",
      "\n",
      "\n",
      "\n",
      "\n",
      "\n",
      "\n",
      "\n",
      "\n",
      "\n",
      "\n",
      "\n",
      "\n",
      "\n",
      "\n",
      "\n",
      "\n",
      "\n",
      "\n",
      "\n",
      "\n",
      "\n",
      "\n",
      "\n",
      "\n",
      "\n",
      "\n",
      "\n",
      "\n",
      "\n",
      "\n",
      "\n",
      "\n",
      "\n",
      "\n",
      "\n",
      "\n",
      "\n",
      "\n",
      "\n",
      "\n",
      "\n",
      "\n",
      "\n",
      "\n",
      "\n",
      "\n",
      "\n",
      "\n",
      "\n",
      "\n",
      "\n",
      "\n",
      "\n",
      "\n",
      "\n",
      "\n",
      "\n",
      "\n",
      "\n",
      "\n",
      "\n",
      "\n",
      "\n",
      "\n",
      "\n",
      "\n",
      "\n",
      "\n",
      "\n",
      "\n",
      "\n",
      "\n",
      "\n",
      "\n",
      "\n",
      "\n",
      "\n",
      "\n",
      "\n",
      "\n",
      "\n",
      "\n",
      "\n",
      "\n",
      "\n",
      "\n",
      "\n",
      "\n",
      "\n",
      "\n",
      "\n",
      "\n",
      "\n",
      "\n",
      "\n",
      "\n",
      "\n",
      "\n",
      "\n",
      "\n",
      "\n",
      "\n",
      "\n",
      "\n",
      "\n",
      "\n",
      "\n",
      "\n",
      "\n",
      "\n",
      "\n",
      "\n",
      "\n",
      "\n",
      "\n",
      "\n",
      "\n",
      "\n",
      "\n",
      "\n",
      "\n",
      "\n",
      "\n",
      "\n",
      "\n",
      "\n",
      "\n",
      "\n",
      "\n",
      "\n",
      "\n",
      "\n",
      "\n",
      "\n",
      "\n",
      "\n",
      "\n",
      "\n",
      "\n",
      "\n",
      "\n",
      "\n",
      "\n",
      "\n",
      "\n",
      "\n",
      "\n",
      "\n",
      "\n",
      "\n",
      "\n",
      "\n",
      "\n",
      "\n",
      "\n",
      "\n",
      "\n",
      "\n",
      "\n",
      "\n",
      "\n",
      "\n",
      "\n",
      "\n",
      "\n",
      "\n",
      "\n",
      "\n",
      "\n",
      "\n",
      "\n",
      "\n",
      "\n",
      "\n",
      "\n"
     ]
    }
   ],
   "source": [
    "import re\n",
    "\n",
    "description = []\n",
    "headers = {\"User-Agent\":\"Mozilla/5.0 (Windows NT 10.0; Win64; x64) AppleWebKit/537.36 (KHTML, like Gecko) Chrome/96.0.4664.45 Safari/537.36\"}\n",
    "\n",
    "for url in news_url:\n",
    "    \n",
    "    res2 = requests.get(url, headers = headers)\n",
    "    html = res2.content\n",
    "    bs = BS(html, 'html.parser')\n",
    "    div = bs.find_all('div')\n",
    "    \n",
    "    \n",
    "    # 본문은 거의 '~다.' 형식으로 끝나기 때문에 크롤링한 p태그에서 해당 형태만 추출함\n",
    "    for d in div:  \n",
    "        des = ''\n",
    "        d = re.findall('.*다[.]',str(d))\n",
    "    \n",
    "        #일치하는 부분이 없을 때\n",
    "        if len(d) == 0:\n",
    "            new_p = ''\n",
    "        \n",
    "        #일치하는 부분이 있을 때\n",
    "        if len(d) > 0:\n",
    "            new_p = ''\n",
    "            for i in p:\n",
    "                i = re.sub('.*니다[.]','',i)    # '~니다.'의 경우는 광고, 경고문 등에 해당하기 때문에 삭제\n",
    "                new_p += i\n",
    "\n",
    "        new_p = re.sub('<.*>',' ',new_p)     #태그 삭제\n",
    "#         new_p = re.sub('\\(.*\\)',' ',new_p)\n",
    "#         new_p = re.sub('\\[.*\\]',' ',new_p)\n",
    "#         new_p = re.sub('\\s{1,}',' ',new_p)     \n",
    "        des += new_p\n",
    "        print(des)"
   ]
  },
  {
   "cell_type": "code",
   "execution_count": null,
   "id": "ba685a4d",
   "metadata": {},
   "outputs": [],
   "source": [
    "import re\n",
    "import requests \n",
    "from bs4 import BeautifulSoup\n",
    "import pandas as pd\n",
    "from collections import Counter\n",
    "import seaborn as sns\n",
    "from konlpy.tag import Okt\n",
    "from wordcloud import WordCloud\n",
    "import matplotlib.pyplot as plt\n",
    "from matplotlib import rc\n",
    "\n",
    "\n",
    "rc('font', family='AppleGothic')\n",
    "plt.rcParams['axes.unicode_minus'] = False\n",
    "\n",
    "# 기사 제목과 본문 모두 워드 클라우드로 분석\n",
    "for i in ['title','text']:\n",
    "    print(i)\n",
    "    title_list = news_df[i].tolist()\n",
    "    text = ' '.join(title_list)\n",
    "    text = re.sub('[^0-9가-힣]+',' ',text)\n",
    "    # 한글자 이상의 명사만 뽑아냄\n",
    "    okt = Okt()\n",
    "    morph = okt.pos(text)\n",
    "    noun_list = []\n",
    "    for word, tag in morph:\n",
    "        if (tag == 'Noun') & (len(word) > 1):\n",
    "            noun_list.append(word)\n",
    "\n",
    "    # 불용어 list 처리\n",
    "    # 불용어 링크 : https://www.ranks.nl/stopwords/korean\n",
    "    with open('./datasets/stopwords.txt', \"r\") as f:\n",
    "        stop_words = f.readlines()\n",
    "    stop_words = \"\".join(stop_words)\n",
    "    stop_words = stop_words.split('\\n')\n",
    "    noun_list = [noun for noun in noun_list if not noun in stop_words]\n",
    "    # 단어 빈도수 세기\n",
    "    count = Counter(noun_list)\n",
    "    data = dict(count.most_common())\n",
    "    series = pd.Series(data)\n",
    "    df = pd.DataFrame(series, columns=['cnt'])\n",
    "    df10 = df.sort_values(by='cnt',ascending=False)[:10]\n",
    "    df10.reset_index(inplace=True)\n",
    "    display(df10)\n",
    "    # 단어 빈도수 바 플롯\n",
    "    display(sns.barplot(y='index', x='cnt', data=df10, orient='h'))\n",
    "    plt.show();\n",
    "    wordcloud = WordCloud(font_path='../visualization/dataset/malgun.ttf', background_color='white',\n",
    "                         colormap='flare',width=2500,height=1800).generate_from_frequencies(data)\n",
    "\n",
    "    plt.imshow(wordcloud)\n",
    "    plt.axis('off')\n",
    "    plt.show();\n",
    "    print('-'*50)\n",
    "        "
   ]
  },
  {
   "cell_type": "markdown",
   "id": "48706182",
   "metadata": {},
   "source": [
    "#### Q64.어떠한 양의 정수 N이 1이 될 때까지 다음의 두 과정 중 하나를 반복적으로 선택하여 수행하려고 한다. 단 두번째 연산은 N이 K로 나누어 떨어질 때만 선택할 수 있다.  N과 K를 입력했을 때 N이 1이 될 때까지 1번 혹은 2번의 과정을 수행해야 하는 최소 횟수를 구하는 프로그램을 완성하세요.\n",
    "\n",
    "1. N에서 1을 뺀다.\n",
    "2. N을 K로 나눈다.\n"
   ]
  },
  {
   "cell_type": "code",
   "execution_count": 45,
   "id": "5f83ee89",
   "metadata": {},
   "outputs": [
    {
     "name": "stdout",
     "output_type": "stream",
     "text": [
      ">> 양의 정수 N과 K를 입력해주세yo\n",
      "150 3\n"
     ]
    },
    {
     "data": {
      "text/plain": [
       "\"입력값이 1이 될 때까지 1번 연산을 '5번', 2번 연산을 '4번', 최소 '9번' 수행해야합니다.\""
      ]
     },
     "execution_count": 45,
     "metadata": {},
     "output_type": "execute_result"
    }
   ],
   "source": [
    "x = input('>> 양의 정수 N과 K를 입력해주세yo\\n').split(' ')\n",
    "\n",
    "n = int(x[0])\n",
    "k = int(x[1])\n",
    "\n",
    "def gotoone(n, k):\n",
    "    cnt1 = 0\n",
    "    cnt2 = 0\n",
    "    \n",
    "    while True:        \n",
    "        if n % k == 0:\n",
    "            n = n // k\n",
    "            cnt2 += 1\n",
    "        else:\n",
    "            n -= 1\n",
    "            cnt1 += 1\n",
    "        if n != 1:\n",
    "            continue\n",
    "        \n",
    "        return f\"입력값이 1이 될 때까지 1번 연산을 '{cnt1}번', 2번 연산을 '{cnt2}번', 최소 '{cnt1 + cnt2}번' 수행해야합니다.\"\n",
    "    \n",
    "gotoone(n,k)"
   ]
  },
  {
   "cell_type": "markdown",
   "id": "8c45853b",
   "metadata": {},
   "source": [
    "#### Q65. 다음과 같이 출력되도록 만드세요."
   ]
  },
  {
   "cell_type": "code",
   "execution_count": 1,
   "id": "d9ef9454",
   "metadata": {},
   "outputs": [
    {
     "data": {
      "text/plain": [
       "'\\n*\\n**\\n***\\n****\\n*****\\n'"
      ]
     },
     "execution_count": 1,
     "metadata": {},
     "output_type": "execute_result"
    }
   ],
   "source": [
    "'''\n",
    "*\n",
    "**\n",
    "***\n",
    "****\n",
    "*****\n",
    "'''"
   ]
  },
  {
   "cell_type": "code",
   "execution_count": 2,
   "id": "5f3cd778",
   "metadata": {},
   "outputs": [
    {
     "name": "stdout",
     "output_type": "stream",
     "text": [
      "*\n",
      "**\n",
      "***\n",
      "****\n",
      "*****\n"
     ]
    }
   ],
   "source": [
    "for i in range(1,6):\n",
    "    print('*'*i)"
   ]
  },
  {
   "cell_type": "markdown",
   "id": "5ec3165d",
   "metadata": {},
   "source": [
    "#### Q66. 다음과 같이 출력되도록 만드세요."
   ]
  },
  {
   "cell_type": "code",
   "execution_count": 3,
   "id": "188315bd",
   "metadata": {},
   "outputs": [
    {
     "data": {
      "text/plain": [
       "'\\n     *\\n    ***\\n   *****\\n  *******\\n *********\\n  *******\\n   *****\\n    ***\\n     *\\n'"
      ]
     },
     "execution_count": 3,
     "metadata": {},
     "output_type": "execute_result"
    }
   ],
   "source": [
    "'''\n",
    "     * \n",
    "    ***\n",
    "   *****\n",
    "  *******\n",
    " *********\n",
    "  *******\n",
    "   *****\n",
    "    ***\n",
    "     *\n",
    "'''"
   ]
  },
  {
   "cell_type": "code",
   "execution_count": 12,
   "id": "abcde139",
   "metadata": {},
   "outputs": [
    {
     "name": "stdout",
     "output_type": "stream",
     "text": [
      "     *     \n",
      "    ***    \n",
      "   *****   \n",
      "  *******  \n",
      " ********* \n",
      "  *******  \n",
      "   *****   \n",
      "    ***    \n",
      "     *     \n"
     ]
    }
   ],
   "source": [
    "for i in range(1,10,2):\n",
    "    print(' '*int((9-i)/2),'*'*i,' '*int((9-i)/2))\n",
    "for i in range(7,0,-2):\n",
    "    print(' '*int((9-i)/2),'*'*i,' '*int((9-i)/2))"
   ]
  },
  {
   "cell_type": "markdown",
   "id": "4a8faa45",
   "metadata": {},
   "source": [
    "#### Q67. Tree 높이를 입력하면 만들어주는 프로그램을 만드세요."
   ]
  },
  {
   "cell_type": "code",
   "execution_count": 4,
   "id": "4c527ce1",
   "metadata": {},
   "outputs": [
    {
     "data": {
      "text/plain": [
       "'\\n         *\\n        ***\\n       *****\\n      *******\\n     *********\\n    ***********\\n   *************\\n  ***************\\n *****************\\n*******************\\n        ***\\n        ***\\n        ***\\n'"
      ]
     },
     "execution_count": 4,
     "metadata": {},
     "output_type": "execute_result"
    }
   ],
   "source": [
    "'''\n",
    "         *\n",
    "        ***\n",
    "       *****\n",
    "      *******\n",
    "     *********\n",
    "    ***********\n",
    "   *************\n",
    "  ***************\n",
    " *****************\n",
    "*******************\n",
    "        ***\n",
    "        ***\n",
    "        ***\n",
    "'''"
   ]
  },
  {
   "cell_type": "code",
   "execution_count": 18,
   "id": "6370d641",
   "metadata": {},
   "outputs": [
    {
     "name": "stdout",
     "output_type": "stream",
     "text": [
      ">> 나무의 높이를 입력하세요.\n",
      "10\n",
      "         *         \n",
      "        ***        \n",
      "       *****       \n",
      "      *******      \n",
      "     *********     \n",
      "    ***********    \n",
      "   *************   \n",
      "  ***************  \n",
      "       *****       \n",
      "       *****       \n"
     ]
    }
   ],
   "source": [
    "n = int(input('>> 나무의 높이를 입력하세요.\\n'))\n",
    "\n",
    "def tree(n):\n",
    "    root = int(n*0.2)   \n",
    "    height = n - root    \n",
    "\n",
    "    leaves_width = 2*height+1     \n",
    "    for i in range(height):\n",
    "        leaf_width = 2*i+1\n",
    "\n",
    "        blank =  int((leaves_width-leaf_width)/2)\n",
    "        print(blank*' ',leaf_width *'*',blank*' ')\n",
    "\n",
    "    root_width = int(leaves_width*0.3)\n",
    "    for j in range(root):\n",
    "        blank = int(((height*2+1)-root_width)/2)\n",
    "        print(blank*' ', root_width*'*', blank*' ')\n",
    "        \n",
    "tree(n)"
   ]
  },
  {
   "cell_type": "code",
   "execution_count": 14,
   "id": "4e6a3efc",
   "metadata": {
    "scrolled": false
   },
   "outputs": [
    {
     "name": "stdout",
     "output_type": "stream",
     "text": [
      ">> 나무의 높이를 입력하세요.\n",
      "20\n",
      "                 *\n",
      "                ***\n",
      "               *****\n",
      "              *******\n",
      "             *********\n",
      "            ***********\n",
      "           *************\n",
      "          ***************\n",
      "         *****************\n",
      "        *******************\n",
      "       *********************\n",
      "      ***********************\n",
      "     *************************\n",
      "    ***************************\n",
      "   *****************************\n",
      "  *******************************\n",
      "             *********\n",
      "             *********\n",
      "             *********\n",
      "             *********\n"
     ]
    }
   ],
   "source": [
    "n = int(input('>> 나무의 높이를 입력하세요.\\n'))\n",
    "\n",
    "def treemake(n):\n",
    "    root = int(n*0.2)   \n",
    "    height = n - root    \n",
    "\n",
    "    leaves_width = 2*height+1     \n",
    "    for i in range(height):\n",
    "        leaf_width = 2*i+1\n",
    "\n",
    "        blank =  int((leaves_width-leaf_width)/2)\n",
    "        print(blank*' ',leaf_width *'*')\n",
    "\n",
    "    root_width = int(leaves_width*0.3)\n",
    "    for j in range(root):\n",
    "        blank = int(((height*2+1)-root_width)/2)\n",
    "        print(blank*' ', root_width*'*')\n",
    "        \n",
    "treemake(n)"
   ]
  },
  {
   "cell_type": "markdown",
   "id": "af232ad7",
   "metadata": {},
   "source": [
    "#### Q68. 구구단을 출력하는 프로그램 작성하세요"
   ]
  },
  {
   "cell_type": "code",
   "execution_count": null,
   "id": "6caba41a",
   "metadata": {},
   "outputs": [],
   "source": [
    "#함수로 여러 인자 받아서 출력하기\n",
    "\n",
    "def gugudan(*n):\n",
    "    for i in n:\n",
    "        print(f'***** {i}단 *****')\n",
    "        for j in range(1,10):\n",
    "            print(f'{i} x {j} = {i*j}')\n",
    "        print('\\n')\n",
    "    \n",
    "\n",
    "gugudan(2,3)"
   ]
  },
  {
   "cell_type": "code",
   "execution_count": 1,
   "id": "c2ae0cab",
   "metadata": {},
   "outputs": [
    {
     "name": "stdout",
     "output_type": "stream",
     "text": [
      ">> 원하는 구구단의 숫자를 입력해주세요\n",
      "ex)2,3\n",
      "3,4,5\n",
      "\n",
      "\n",
      "***** 3단 *****\n",
      "3 x 1 = 3\n",
      "3 x 2 = 6\n",
      "3 x 3 = 9\n",
      "3 x 4 = 12\n",
      "3 x 5 = 15\n",
      "3 x 6 = 18\n",
      "3 x 7 = 21\n",
      "3 x 8 = 24\n",
      "3 x 9 = 27\n",
      "\n",
      "\n",
      "***** 4단 *****\n",
      "4 x 1 = 4\n",
      "4 x 2 = 8\n",
      "4 x 3 = 12\n",
      "4 x 4 = 16\n",
      "4 x 5 = 20\n",
      "4 x 6 = 24\n",
      "4 x 7 = 28\n",
      "4 x 8 = 32\n",
      "4 x 9 = 36\n",
      "\n",
      "\n",
      "***** 5단 *****\n",
      "5 x 1 = 5\n",
      "5 x 2 = 10\n",
      "5 x 3 = 15\n",
      "5 x 4 = 20\n",
      "5 x 5 = 25\n",
      "5 x 6 = 30\n",
      "5 x 7 = 35\n",
      "5 x 8 = 40\n",
      "5 x 9 = 45\n",
      "\n",
      "\n"
     ]
    }
   ],
   "source": [
    "#입력값 받아서 함수에 적용\n",
    "\n",
    "n = input('>> 원하는 구구단의 숫자를 입력해주세요\\nex)2,3\\n')\n",
    "\n",
    "def gugudan(n:str):\n",
    "    n_list = n.split(',')\n",
    "\n",
    "    for i in n_list:\n",
    "        i = int(i)\n",
    "        print(f'***** {i}단 *****')\n",
    "        \n",
    "        for j in range(1,10):\n",
    "            print(f'{i} x {j} = {i*j}')\n",
    "        print('\\n')\n",
    "\n",
    "print('\\n')\n",
    "gugudan(n)"
   ]
  },
  {
   "cell_type": "markdown",
   "id": "252b04d4",
   "metadata": {},
   "source": [
    "#### Q69. 아래와 같이 입력하면 N X M 행렬 형태의 숫자 카드 중에서 먼저 뽑고자 하는 카드가 포함되어 있는 행을 선택한 후 그 행에서 가장 숫자가 낮은 카드를 뽑아야 하는 규칙하에서 가장 높은 숫자가 쓰인 카드 한장의 숫자를 출력하는 프로그램을 작성하세요. \n",
    "- 첫번째 입력 : N X M 형열에 대하여 N(행), M(열)의 개수를 공백을 기준으로 입력(1<= N, M<=100)\n",
    "- 두번째 입력 : 각 행의 숫자를 공백을 기준으로 입력. 단, 각 숫자는 1 이상 10000 이하의 자연수임.\n"
   ]
  },
  {
   "cell_type": "markdown",
   "id": "2bc77a4e",
   "metadata": {},
   "source": [
    "1. 행열, 배열 요소 인자값 받아서 배열 만들기\n",
    "2. 배열의 행기준 가장 작은 값 반환\n",
    "3. 반환된 값들 중 가장 큰 값을 최종적으로 반환"
   ]
  },
  {
   "cell_type": "code",
   "execution_count": 17,
   "id": "e048f8ee",
   "metadata": {},
   "outputs": [
    {
     "name": "stdout",
     "output_type": "stream",
     "text": [
      ">> 만들고자 하는 행, 열의 숫자를 공백으로 분리하여 입력하세요.\n",
      "3 3\n",
      ">> 행, 열의 개수에 해당하는 요소를 공백으로 분리하여 입력하세요.\n",
      "1 2 3 4 5 6 7 8 9\n"
     ]
    },
    {
     "data": {
      "text/plain": [
       "' 입력하신 배열의 각 행의 최솟값중 최댓값은 \"7\" 입니다.'"
      ]
     },
     "execution_count": 17,
     "metadata": {},
     "output_type": "execute_result"
    }
   ],
   "source": [
    "#방법1\n",
    "\n",
    "import numpy as np\n",
    "\n",
    "nm = input('>> 만들고자 하는 행, 열의 숫자를 공백으로 분리하여 입력하세요.\\n')\n",
    "arr_str = input('>> 행, 열의 개수에 해당하는 요소를 공백으로 분리하여 입력하세요.\\n')\n",
    "\n",
    "def arr_maxofmin(nm,arr_str):\n",
    "    n,m = [ int(i) for i in nm.split()]\n",
    "    arr_str = [ int(i) for i in arr_str.split()]\n",
    "    arr = np.array(arr_str).reshape(n,m)\n",
    "    \n",
    "    return f' 입력하신 배열의 각 행의 최솟값 중 최댓값은 \"{a.min(axis = 1).max()}\" 입니다.'\n",
    "\n",
    "arr_maxofmin(nm, arr_str)"
   ]
  },
  {
   "cell_type": "code",
   "execution_count": 21,
   "id": "9922dc74",
   "metadata": {},
   "outputs": [
    {
     "name": "stdout",
     "output_type": "stream",
     "text": [
      ">>숫자를 입력하세요4 5\n",
      ">> 행, 열의 개수에 해당하는 요소를 공백으로 분리하여 입력하세요.\n",
      "1 3 4 5 8 55 44 1 3 4 5 8 10 55 165 10 55 165 11 22\n",
      "0행: 1\n",
      "1행: 1\n",
      "2행: 5\n",
      "3행: 10\n"
     ]
    }
   ],
   "source": [
    "#방법2\n",
    "\n",
    "import numpy as np\n",
    "\n",
    "n,m = map(int, input('>>만들고자 하는 행, 열의 숫자를 공백으로 분리하여 입력하세요.\\n').split())\n",
    "arr_ele = list(map(int, input('>> 행, 열의 개수에 해당하는 요소를 공백으로 분리하여 입력하세요.\\n').split()))\n",
    "\n",
    "arr = np.array(arr_ele).reshape(n,m)\n",
    "\n",
    "for i in range(len(arr)):\n",
    "    ar_m = arr[i].min()\n",
    "    print(f'{i+1}행: {ar_m}')"
   ]
  },
  {
   "cell_type": "markdown",
   "id": "3310b9e0",
   "metadata": {},
   "source": [
    "#### Q69_2. 혼자 응용해보기"
   ]
  },
  {
   "cell_type": "markdown",
   "id": "ea9bda6a",
   "metadata": {},
   "source": [
    "1. 배열 만들기\n",
    "2. 최댓값 가진 행 뽑기\n",
    "3. 최댓값 가진 행의 최솟값 추출"
   ]
  },
  {
   "cell_type": "code",
   "execution_count": 29,
   "id": "63cf9e85",
   "metadata": {},
   "outputs": [
    {
     "name": "stdout",
     "output_type": "stream",
     "text": [
      ">> 만들고자 하는 행, 열의 숫자를 공백으로 분리하여 입력하세요.\n",
      "4 5\n",
      ">> 행, 열의 개수에 해당하는 요소를 공백으로 분리하여 입력하세요.\n",
      "1 3 4 5 8 55 44 1 3 4 5 8 10 55 165 10 55 165 11 22\n"
     ]
    },
    {
     "data": {
      "text/plain": [
       "5"
      ]
     },
     "execution_count": 29,
     "metadata": {},
     "output_type": "execute_result"
    }
   ],
   "source": [
    "import numpy as np\n",
    "\n",
    "nm = input('>> 만들고자 하는 행, 열의 숫자를 공백으로 분리하여 입력하세요.\\n')\n",
    "arr_str = input('>> 행, 열의 개수에 해당하는 요소를 공백으로 분리하여 입력하세요.\\n')\n",
    "\n",
    "def arr_n_min(nm, arr_str):\n",
    "    n,m = [ int(i) for i in nm.split(' ') ]    #행열 공백분리 후 숫자화\n",
    "    arr = np.array([ int(i) for i in arr_str.split(' ') ]).reshape(n,m)   #배열요소 공백분리 후 숫자화하여 배열화\n",
    "    arr_n, arr_m = np.where(arr == arr.max())    #배열의 최댓값 인덱스 찾기 \n",
    "    \n",
    "    return arr[arr_n].min()      #최댓값이 존재하는 행의 최솟값 반환\n",
    "    \n",
    "arr_n_min(nm, arr_str)"
   ]
  },
  {
   "cell_type": "markdown",
   "id": "7f5a9bc7",
   "metadata": {},
   "source": [
    "#### Q70.아래와 같이 입력하면 N X M 행렬 형태의 숫자 카드 중에서 먼저 뽑고자 하는 카드가 포함되어 있는 행을 선택한 후 그 행에서 가장 숫자가 낮은 카드를 뽑아야 하는 규칙하에서 가장 높은 숫자가 쓰인 카드 한장의 숫자를 출력한는 프로그램을 작성하세요.  Q69는 MIN/MAX함수, 정렬 등의 방법으로 문제를 풀었다. 이 문제를 다중 for문을 사용하여 풀어보기\n",
    "- 첫번째 입력 : N X M 형열에 대하여 N(행), M(열)의 개수를 공백을 기준으로 입력(1<= N, M<=100)\n",
    "- 두번째 입력 : 각 행의 숫자를 공백을 기준으로 입력. 단, 각 숫자는 1 이상 10000 이하의 자연수임.\n"
   ]
  },
  {
   "cell_type": "code",
   "execution_count": 7,
   "id": "d8a63cf6",
   "metadata": {},
   "outputs": [
    {
     "name": "stdout",
     "output_type": "stream",
     "text": [
      ">> 만들고자 하는 행, 열의 숫자를 공백으로 분리하여 입력하세요.\n",
      "4 5\n",
      ">> 행, 열의 개수에 해당하는 요소를 공백으로 분리하여 입력하세요.\n",
      "1 3 4 5 8 55 44 1 3 4 5 8 10 55 165 10 55 165 11 22\n"
     ]
    },
    {
     "data": {
      "text/plain": [
       "10"
      ]
     },
     "execution_count": 7,
     "metadata": {},
     "output_type": "execute_result"
    }
   ],
   "source": [
    "import numpy as np\n",
    "\n",
    "nm = input('>> 만들고자 하는 행, 열의 숫자를 공백으로 분리하여 입력하세요.\\n')\n",
    "arr_str = input('>> 행, 열의 개수에 해당하는 요소를 공백으로 분리하여 입력하세요.\\n')\n",
    "\n",
    "def arr_maxofmin2(nm, arr_str):\n",
    "    n,m = [int(i) for i in nm.split()]\n",
    "    arr = np.array([int(i) for i in arr_str.split()]).reshape(n,m)\n",
    "\n",
    "    y_max = 0\n",
    "    for i in range(n):\n",
    "        x_min = 10001\n",
    "        x_max = 0\n",
    "\n",
    "        for j in range(m):\n",
    "            if arr[i,j]<x_min:\n",
    "                x_min = arr[i,j]\n",
    "        y_min = x_min\n",
    "\n",
    "        if y_min > y_max:\n",
    "            y_max = y_min\n",
    "\n",
    "    return y_max\n",
    "\n",
    "\n",
    "arr_maxofmin2(nm, arr_str)"
   ]
  },
  {
   "cell_type": "code",
   "execution_count": 11,
   "id": "58a0cf5c",
   "metadata": {},
   "outputs": [
    {
     "data": {
      "text/plain": [
       "array([[  1,   3,   4,   5,   8],\n",
       "       [  1,   3,   4,  44,  55],\n",
       "       [  5,   8,  10,  55, 165],\n",
       "       [ 10,  11,  22,  55, 165]])"
      ]
     },
     "execution_count": 11,
     "metadata": {},
     "output_type": "execute_result"
    }
   ],
   "source": [
    "#4 5\n",
    "#1 3 4 5 8 55 44 1 3 4 5 8 10 55 165 10 55 165 11 22\n",
    "arr"
   ]
  },
  {
   "cell_type": "markdown",
   "id": "5b3ce84c",
   "metadata": {},
   "source": [
    "#### Q71. 여행가 A는 N X N 크기의 정사각형 공간에 서 있다. A는 6개의 이동 명령 계획에 따라 움직이게 된다. 이동 명령은 L(왼쪽), R(오른쪽), U(윗쪽), D(아랫쪽)로 구성되며 R R R U D D와 같이 6개이다. 정사각형 공간을 벗어나는 움직임은 무시된다. 언급한 규칙에 따라 N과 이동 명령 계획으로 각각 5와 R R R U D D를 입력하면 A의 공간 좌표는 3 4가 된다. 이동 명력 계획서가 주어질 때 A가 최종적으로 도착할 지점의 좌표를 출력하는 프로그램을 작성하시오.\n"
   ]
  },
  {
   "cell_type": "markdown",
   "id": "7c184dbe",
   "metadata": {},
   "source": [
    "1. 이동명령 수 입력\n",
    "2. 이동명령 입력\n",
    "3. 정사각형을 벗어나지 않도록 명령어를 주어 최종 좌표를 반환하라"
   ]
  },
  {
   "cell_type": "code",
   "execution_count": 21,
   "id": "c918d197",
   "metadata": {},
   "outputs": [
    {
     "name": "stdout",
     "output_type": "stream",
     "text": [
      ">> 정사각형의 너비를 입력하세요.\n",
      "70\n",
      ">> 이동명령어를 입력하세요.\n",
      "R R R R R R R R R U U U U U D D D D D D D D\n"
     ]
    },
    {
     "data": {
      "text/plain": [
       "'최종 좌표는 \"(10, 9)\"입니다.'"
      ]
     },
     "execution_count": 21,
     "metadata": {},
     "output_type": "execute_result"
    }
   ],
   "source": [
    "n = int(input('>> 정사각형의 너비를 입력하세요.\\n'))\n",
    "move = input('>> 이동명령어를 입력하세요.\\n').split()\n",
    "\n",
    "def square(n, move):\n",
    "    x1 =1\n",
    "    x2 =1\n",
    "    for m in move:\n",
    "        if (m == 'R') and (x1 < n) :\n",
    "            x1 += 1\n",
    "        elif (m == 'L') and (x1 > 1):\n",
    "            x1 -= 1\n",
    "        elif (m == 'U') and (x2 > 1):\n",
    "            x2 -= 1\n",
    "        elif (m == 'D') and (x2 < n):\n",
    "            x2 += 1\n",
    "\n",
    "    return f'최종 좌표는 \"{(x1,x2)}\"입니다.'\n",
    "\n",
    "square(n, move)"
   ]
  },
  {
   "cell_type": "markdown",
   "id": "2c48fac9",
   "metadata": {},
   "source": [
    "#### Q72. 정수 N이 입력되면 00시 00분 00초부터 N시 59분 59초까지의 모든 시각 중에서 3이 하나라도 포함되는 모든 경우의 수를 구하는 프로그램을 작성하시오.(0<= N <=23)\n"
   ]
  },
  {
   "cell_type": "markdown",
   "id": "52c09642",
   "metadata": {},
   "source": [
    "```\n",
    "7입력 시 14625번 포함됨이 반환\n",
    "```"
   ]
  },
  {
   "cell_type": "code",
   "execution_count": 6,
   "id": "8a15e9cc",
   "metadata": {},
   "outputs": [
    {
     "name": "stdout",
     "output_type": "stream",
     "text": [
      ">> 시간을 입력하세요\n",
      "7\n"
     ]
    },
    {
     "data": {
      "text/plain": [
       "14625"
      ]
     },
     "execution_count": 6,
     "metadata": {},
     "output_type": "execute_result"
    }
   ],
   "source": [
    "n = int(input('>> 시간을 입력하세요\\n'))\n",
    "\n",
    "def time_three(n):\n",
    "    total = 0\n",
    "\n",
    "    for i in range(n+1):\n",
    "        for j in range(60):\n",
    "            for k in range(60):\n",
    "                if (str(i) + str(j) + str(k)).find('3') != -1:\n",
    "                    total += 1\n",
    "    \n",
    "    return total\n",
    "\n",
    "\n",
    "time_three(n)"
   ]
  },
  {
   "cell_type": "markdown",
   "id": "d337b292",
   "metadata": {},
   "source": [
    "#### Q73. 행 위치는 1~8로 열 위치는 a ~ h로 표현하는 8 x 8 좌표 평면상에서 특정 위치가 주어졌을 때 아래 조건하에서 그 위치에서 이동할 수 있는 경우의 수를 출력하는 프로그램을 작성하세요.\n",
    "- 수평으로 두 칸 이동한 뒤에 수직으로 한 칸 이동\n",
    "- 수직으로 두 칸 이동한 뒤에 수평으로 한 칸 이동\n",
    "- 8 x 8 좌표 평면을 나갈 수 없음\n"
   ]
  },
  {
   "cell_type": "markdown",
   "id": "07153573",
   "metadata": {},
   "source": [
    "1. 오른쪽, 왼쪽, 위쪽, 아래쪽 공백 개수를 0,1,2이상으로 구분\n",
    "2. 경우의수를 따져서 해당값 반환\n",
    "3. 경우의 수\n",
    "- 0개수, 1개수, 2개수\n",
    "- 1: 경우의수 없음\n",
    "- 2: 2, 0, 2\n",
    "- 3: 1, 1, 2\n",
    "- 4: 1, 0, 3\n",
    "- 5: 경우의수 없음\n",
    "- 6: 0, 1, 3\n",
    "- 7: 경우의수 없음\n",
    "- 8: 0, 0, 4"
   ]
  },
  {
   "cell_type": "code",
   "execution_count": 29,
   "id": "6afa10a3",
   "metadata": {},
   "outputs": [
    {
     "name": "stdout",
     "output_type": "stream",
     "text": [
      ">> 좌표를 입력하세요 \n",
      "b5\n",
      "[[0 0 0 0 0 0 0 0]\n",
      " [0 0 0 0 1 0 0 0]\n",
      " [0 0 0 0 0 0 0 0]\n",
      " [0 0 0 0 0 0 0 0]\n",
      " [0 0 0 0 0 0 0 0]\n",
      " [0 0 0 0 0 0 0 0]\n",
      " [0 0 0 0 0 0 0 0]\n",
      " [0 0 0 0 0 0 0 0]]\n"
     ]
    },
    {
     "data": {
      "text/plain": [
       "' 이동할 수 있는 경우의 수는 총 6개 입니다.'"
      ]
     },
     "execution_count": 29,
     "metadata": {},
     "output_type": "execute_result"
    }
   ],
   "source": [
    "import numpy as np\n",
    "\n",
    "que = input('>> 좌표를 입력하세요 \\n')\n",
    "\n",
    "def count_move(que):\n",
    "    col = 'abcdefgh'.index(que[0])+1\n",
    "    row = int(que[1])\n",
    "\n",
    "    space = np.array([row-1, 8-row, col-1, 8-col])   #left, right, up, down\n",
    "    space = list(np.where(space>2, 2, space))\n",
    "    cnt_0, cnt_1,cnt_2 = space.count(0), space.count(1), space.count(2) \n",
    "\n",
    "    if cnt_2 ==2:\n",
    "        if cnt_1 == 0:\n",
    "            total = 2\n",
    "        else: \n",
    "            total = 3\n",
    "    elif cnt_2 == 3:\n",
    "        if cnt_1 == 0:\n",
    "            total = 4\n",
    "        else: \n",
    "            total = 6\n",
    "    elif cnt_2 == 4:\n",
    "        total = 8\n",
    "    \n",
    "    #좌표\n",
    "    xy = np.zeros((8,8)).astype(np.int64)\n",
    "    xy[col-1, row-1] = 1\n",
    "    print(xy)\n",
    "    return f' 이동할 수 있는 경우의 수는 총 {total}개 입니다.'\n",
    "\n",
    "count_move(que)"
   ]
  },
  {
   "cell_type": "markdown",
   "id": "5163b0fa",
   "metadata": {},
   "source": [
    "#### Q74.\n",
    "캐릭터는 매뉴얼에 따라 이동한다. 아래 입력조건에 따라 캐릭터가 방문한 칸의 수를 출력하는 프로그램을 작성하세요.\n",
    "\n",
    "- 입력조건\n",
    "  - 첫째 줄에 맵의 세로 크기 N과 가로 크기 M을 공백으로 구분하여 입력 (3 <= N,M <=50)\n",
    "  - 둘째 줄에 게임 캐릭터가 있는 칸의 좌표 (A,B)와 바라보는 방향 d가 각각 서로 공백으로 구분하여 입력(방향 d의 값으로는 북, 동, 남, 서가 각각 0,1,2,3)\n",
    "  - 셋째 줄에 맵이 육지인지 바다인지에 대한 정보 입력(육지 0, 바다 1) N개의 줄에 맵의 상태가 북쪽으로 부터 남쪽순서대로 각 줄의 데이터는 서쪽부터 동쪽 순서대로 주어진다.\n",
    "  - 처음에 캐릭터가 위치한 칸의 상태는 항상 육지이다.\n",
    "\n",
    "\n",
    "- 매뉴얼<BR>\n",
    "  캐릭터가 있는 장소는 1 X 1 크기의 정사각형으로 이루어진 N X M 크기의 직사각형으로 각각의 칸은 육지 또는 바다이다.캐릭터는 동서남북 중 한 곳을 바라본다. 맵의 각 칸은 (A, B)로 나타낼 수 있고 A는 북쪽으로부터 떨어진 칸의 개수, B는 서쪽으로부터 떨어진 칸의 개수이다.캐릭터는 상하좌우로 움직일 수 있고 바다로 되어 있는 공간에는 갈 수 없다. 캐릭터의 움직임 설정을 위한 매뉴얼은 아래와 같다.\n",
    "  - 현재 위치에서 현재 방향을 기준으로 왼쪽 방향부터 차례대로 갈 곳을 정한다.\n",
    "  - 캐릭터의 바로 왼쪽 방향에 아직 가보지 않은 칸이 존재한다면 왼쪽 방향으로 회전한 다음 왼쪽으로 한 칸을 전진한다. 왼쪽 방향에 가보지 않은 칸이 없다면 왼쪽 방향으로 회전만 수행하고 1단계로 돌아간다.\n",
    "  - 만약 네 방향 모두 이미 가본 칸이거나 바다로 되어 있는 칸인 경우에는 바라보는 방향을 유지한 채로 한 칸 뒤로 가고 1단계로 돌아간다. 단, 이때 뒤쪽 방향이 바다인 칸이라 뒤로 갈수 없는 경우에는 움직임을 멈춘다.\n"
   ]
  },
  {
   "cell_type": "code",
   "execution_count": 7,
   "id": "82621529",
   "metadata": {},
   "outputs": [
    {
     "name": "stdout",
     "output_type": "stream",
     "text": [
      ">> 맵의 크기를 입력하세요.(가로 * 세로) \n",
      " ex)3 4\n",
      "4 4\n",
      ">> 게임 캐릭터의 위치와 바라보는 방향을 입력하세요\n",
      "     \" 북 : 0,  동 : 1,  남 : 2,  서 : 3 \"\n",
      "0 0 2\n",
      ">> 맵 구성 요소를 입력하세요.(육지: 0, 바다: 1)\n",
      "       ex) (4 * 4)\n",
      "            \" 1 1 1 1 1 0 0 1 1 1 1 1 1 1 1 0\"\n",
      "1 1 1 1 1 0 0 1 1 0 0 1 0 1 1 1\n"
     ]
    }
   ],
   "source": [
    "nm = input(\">> 맵의 크기를 입력하세요.(가로 * 세로) \\n ex)3 4\\n\")\n",
    "\n",
    "pin = input(\n",
    "'''>> 게임 캐릭터의 위치와 바라보는 방향을 입력하세요\n",
    "     \" 북 : 0,  동 : 1,  남 : 2,  서 : 3 \"\n",
    "''')\n",
    "\n",
    "mapmap = input(\n",
    "'''>> 맵 구성 요소를 입력하세요.(육지: 0, 바다: 1)\n",
    "       ex) (4 * 4)\n",
    "            \" 1 1 1 1 1 0 0 1 1 1 1 1 1 1 1 0\"\n",
    "''')\n",
    "\n",
    "\n",
    "\n",
    "# 4 4\n",
    "# 0 0 2\n",
    "# 1 1 1 1 1 0 0 1 1 0 0 1 0 1 1 1\n",
    "\n",
    "\n",
    "#4 4\n",
    "#1 1 2\n",
    "#0 0 0 0 0 1 1 0 0 0 1 0 0 0 0 0\n"
   ]
  },
  {
   "cell_type": "code",
   "execution_count": 8,
   "id": "bd97a68b",
   "metadata": {
    "scrolled": true
   },
   "outputs": [
    {
     "name": "stdout",
     "output_type": "stream",
     "text": [
      "[[1 1 1 1]\n",
      " [1 0 0 1]\n",
      " [1 0 0 1]\n",
      " [0 1 1 1]]\n",
      "인덱스 벗어남\n",
      "[True]\n",
      "인덱스 벗어남\n",
      "[True, True]\n",
      "1\n",
      "[[8 1 1 1]\n",
      " [1 0 0 1]\n",
      " [1 0 0 1]\n",
      " [0 1 1 1]]\n",
      "카운트: 1\n",
      "[]\n",
      "0\n",
      "바다\n",
      "[True]\n",
      "8\n",
      "이미 갔던 곳\n",
      "[True, True]\n",
      "인덱스 벗어남\n",
      "[True, True, True]\n",
      "1\n",
      "[[8 8 1 1]\n",
      " [1 0 0 1]\n",
      " [1 0 0 1]\n",
      " [0 1 1 1]]\n",
      "카운트: 2\n",
      "[]\n",
      "0\n",
      "바다\n",
      "[True]\n",
      "8\n",
      "이미 갔던 곳\n",
      "[True, True]\n",
      "인덱스 벗어남\n",
      "[True, True, True]\n",
      "1\n",
      "[[8 8 8 1]\n",
      " [1 0 0 1]\n",
      " [1 0 0 1]\n",
      " [0 1 1 1]]\n",
      "카운트: 3\n",
      "[]\n",
      "1\n",
      "[[8 8 8 8]\n",
      " [1 0 0 1]\n",
      " [1 0 0 1]\n",
      " [0 1 1 1]]\n",
      "카운트: 4\n",
      "[]\n",
      "0\n",
      "바다\n",
      "[True]\n",
      "8\n",
      "이미 갔던 곳\n",
      "[True, True]\n",
      "인덱스 벗어남\n",
      "[True, True, True]\n",
      "1\n",
      "[[8 8 8 8]\n",
      " [1 0 0 8]\n",
      " [1 0 0 1]\n",
      " [0 1 1 1]]\n",
      "카운트: 5\n",
      "[]\n",
      "0\n",
      "바다\n",
      "[True]\n",
      "8\n",
      "이미 갔던 곳\n",
      "[True, True]\n",
      "인덱스 벗어남\n",
      "[True, True, True]\n",
      "1\n",
      "[[8 8 8 8]\n",
      " [1 0 0 8]\n",
      " [1 0 0 8]\n",
      " [0 1 1 1]]\n",
      "카운트: 6\n",
      "[]\n",
      "1\n",
      "[[8 8 8 8]\n",
      " [1 0 0 8]\n",
      " [1 0 0 8]\n",
      " [0 1 1 8]]\n",
      "카운트: 7\n",
      "[]\n",
      "0\n",
      "바다\n",
      "[True]\n",
      "8\n",
      "이미 갔던 곳\n",
      "[True, True]\n",
      "인덱스 벗어남\n",
      "[True, True, True]\n",
      "1\n",
      "[[8 8 8 8]\n",
      " [1 0 0 8]\n",
      " [1 0 0 8]\n",
      " [0 1 8 8]]\n",
      "카운트: 8\n",
      "[]\n",
      "0\n",
      "바다\n",
      "[True]\n",
      "8\n",
      "이미 갔던 곳\n",
      "[True, True]\n",
      "인덱스 벗어남\n",
      "[True, True, True]\n",
      "0\n",
      "바다\n",
      "[True, True, True, True]\n",
      "[[8 8 8 8]\n",
      " [1 0 0 8]\n",
      " [1 0 0 8]\n",
      " [0 1 8 8]]\n",
      "[[8 8 8 8]\n",
      " [1 0 0 8]\n",
      " [1 0 0 8]\n",
      " [0 2 8 8]]\n",
      "[[8 8 8 8]\n",
      " [1 0 0 8]\n",
      " [1 0 0 8]\n",
      " [0 2 8 8]]\n",
      "[[8 8 8 8]\n",
      " [1 0 0 8]\n",
      " [1 0 0 8]\n",
      " [0 2 8 8]]\n",
      "9\n"
     ]
    }
   ],
   "source": [
    "import numpy as np\n",
    "\n",
    "n, m = int(nm.split()[0]), int(nm.split()[1])\n",
    "x1, y1, d= int(pin.split()[0]), int(pin.split()[1]), int(pin.split()[2])\n",
    "map_in = np.array([int(i) for i in mapmap.split()]).reshape(n,m)\n",
    "print(map_in)\n",
    "\n",
    "direction = [[-1,0], [0,1], [1,0], [0,-1]] # 북, 동, 남, 서\n",
    "\n",
    "cnt = 0\n",
    "doit = []\n",
    "while True:\n",
    "    d = (d+1) % 4\n",
    "    xm, ym = direction[d][0], direction[d][1]\n",
    "    \n",
    "    #다 가봤으면..후..진..\n",
    "    if doit == [True, True, True, True]:\n",
    "        print(map_in)\n",
    "        map_in[x1, y1] = 2\n",
    "        x1 += (-1)*xm\n",
    "        y1 += (-1)*ym\n",
    "        print(map_in)\n",
    "        cnt += 1\n",
    "        \n",
    "        print(map_in)\n",
    "        break\n",
    "        \n",
    "    # 인덱스 범위가 벗어나는 경우 pass\n",
    "    if (x1 + xm < 0) | (x1 + xm > n-1) | (y1 + ym < 0) | (y1 + ym > m-1):\n",
    "        outof_index = True\n",
    "        doit.append(outof_index)\n",
    "        print('인덱스 벗어남')\n",
    "        print(doit)\n",
    "        continue  \n",
    "\n",
    "    xy = map_in[x1 + xm, y1 + ym]\n",
    "    print(xy)\n",
    "    \n",
    "    # 돌린 방향으로 직진 시 1이 나오는 경우 전진 + 지나온 곳 8 표시\n",
    "    if xy == 1:\n",
    "        map_in[x1, y1] = 8\n",
    "        x1 += xm\n",
    "        y1 += ym\n",
    "        cnt += 1\n",
    "        doit = []\n",
    "        print(map_in)\n",
    "        print('카운트: '+str(cnt))\n",
    "        print(doit)\n",
    "        continue \n",
    "\n",
    "    #이미 가봤던 곳, 바다는 pass\n",
    "    elif ( xy == 8 ) or ( xy == 0 ):\n",
    "        if ( xy == 8 ):\n",
    "            already_go = True\n",
    "            doit.append(already_go)\n",
    "            print('이미 갔던 곳')\n",
    "            print(doit)\n",
    "        else:\n",
    "            sea = True\n",
    "            doit.append(sea)\n",
    "            print('바다')\n",
    "            print(doit)\n",
    "        continue\n",
    "    \n",
    "print(map_in)\n",
    "print(cnt)"
   ]
  },
  {
   "cell_type": "code",
   "execution_count": null,
   "id": "70347092",
   "metadata": {},
   "outputs": [],
   "source": []
  }
 ],
 "metadata": {
  "kernelspec": {
   "display_name": "Python 3 (ipykernel)",
   "language": "python",
   "name": "python3"
  },
  "language_info": {
   "codemirror_mode": {
    "name": "ipython",
    "version": 3
   },
   "file_extension": ".py",
   "mimetype": "text/x-python",
   "name": "python",
   "nbconvert_exporter": "python",
   "pygments_lexer": "ipython3",
   "version": "3.8.13"
  },
  "toc": {
   "base_numbering": 1,
   "nav_menu": {},
   "number_sections": true,
   "sideBar": true,
   "skip_h1_title": false,
   "title_cell": "Table of Contents",
   "title_sidebar": "Contents",
   "toc_cell": false,
   "toc_position": {
    "height": "calc(100% - 180px)",
    "left": "10px",
    "top": "150px",
    "width": "165px"
   },
   "toc_section_display": true,
   "toc_window_display": false
  }
 },
 "nbformat": 4,
 "nbformat_minor": 5
}
