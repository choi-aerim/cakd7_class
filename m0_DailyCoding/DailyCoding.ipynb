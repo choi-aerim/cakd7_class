{
 "cells": [
  {
   "cell_type": "markdown",
   "id": "c7c20a27",
   "metadata": {},
   "source": [
    "# 07/13"
   ]
  },
  {
   "cell_type": "markdown",
   "id": "e16abb6f",
   "metadata": {},
   "source": [
    "#### Q. 남녀 파트너 정해주기 프로그램(zip) \n",
    "같은 수의 남녀 모임에서 파트너를 랜덤하게 정해주는 프로그램을 만들어 보세요\n",
    "\n",
    "male = ['철수','갑돌','로미오','이몽룡','온돌']\n",
    "\n",
    "female = ['미미','갑순','줄리엣','성춘향','평강']\n"
   ]
  },
  {
   "cell_type": "code",
   "execution_count": 5,
   "id": "1a43b260",
   "metadata": {
    "scrolled": false
   },
   "outputs": [],
   "source": [
    "male = ['철수','갑돌','로미오','이몽룡','온돌']\n",
    "female = ['미미','갑순','줄리엣','성춘향','평강']"
   ]
  },
  {
   "cell_type": "markdown",
   "id": "cf29973f",
   "metadata": {},
   "source": [
    "- male = 철수,갑돌,로미오,이몽룡,온돌\n",
    "- female = 미미,갑순,줄리엣,성춘향,평강"
   ]
  },
  {
   "cell_type": "code",
   "execution_count": null,
   "id": "1e476bdb",
   "metadata": {},
   "outputs": [],
   "source": [
    "#랜덤 커플 지정 함수 \n",
    "\n",
    "import random\n",
    "\n",
    "def couple_match(li_1,li_2):\n",
    "    try:        \n",
    "        random_m=random.sample(li_1,len(li_1))\n",
    "        random_f=random.sample(li_2,len(li_2))\n",
    "\n",
    "        couple=[]\n",
    "        for i in range(len(li_1)):\n",
    "            couple.append((random_m[i],random_f[i]))\n",
    "        return couple\n",
    "    except:\n",
    "        if IndexError:\n",
    "            print('※경고※ 같은 수의 남녀 리스트를 입력하세요!\\n')\n",
    "        \n",
    "\n",
    "couple_match(male,female)"
   ]
  },
  {
   "cell_type": "code",
   "execution_count": 28,
   "id": "c2fad9c3",
   "metadata": {},
   "outputs": [
    {
     "name": "stdout",
     "output_type": "stream",
     "text": [
      ">>랜덤 파트너 남자들의 이름을 ','로 분리하여 입력하세요. \n",
      "ex)갑돌,갑작,갑주 \n",
      "갑돌,갑작,갑주 \n",
      ">>랜덤 파트너 여자들의 이름을 ','로 분리하여 입력하세요. \n",
      "ex)갑돌,갑작,갑주 \n",
      "미미,갑순,줄리엣\n"
     ]
    },
    {
     "data": {
      "text/plain": [
       "[('갑돌', '줄리엣'), ('갑작', '갑순'), ('갑주 ', '미미')]"
      ]
     },
     "execution_count": 28,
     "metadata": {},
     "output_type": "execute_result"
    }
   ],
   "source": [
    "#프로그래밍\n",
    "\n",
    "male=input(\">>랜덤 파트너 남자들의 이름을 ','로 분리하여 입력하세요. \\nex)갑돌,갑작,갑주 \\n\")\n",
    "female=input(\">>랜덤 파트너 여자들의 이름을 ','로 분리하여 입력하세요. \\nex)갑돌,갑작,갑주 \\n\")\n",
    "\n",
    "male=list(male.split(','))\n",
    "female=list(female.split(','))\n",
    "\n",
    "couple_match(male, female)"
   ]
  },
  {
   "cell_type": "code",
   "execution_count": 6,
   "id": "0ab6285a",
   "metadata": {},
   "outputs": [
    {
     "name": "stdout",
     "output_type": "stream",
     "text": [
      "1번째 매칭: 갑돌 ♥ 줄리엣\n",
      "2번째 매칭: 로미오 ♥ 미미\n",
      "3번째 매칭: 온돌 ♥ 성춘향\n",
      "4번째 매칭: 이몽룡 ♥ 갑순\n",
      "5번째 매칭: 철수 ♥ 평강\n"
     ]
    }
   ],
   "source": [
    "#zip방식\n",
    "def couple_match(li_1,li_2):\n",
    "    try:        \n",
    "        random_m=random.sample(li_1,len(li_1))\n",
    "        random_f=random.sample(li_2,len(li_2))\n",
    "\n",
    "        r_zip=zip(random_m,random_f)\n",
    "        \n",
    "        for i,j in enumerate(r_zip):\n",
    "            print(f'{i+1}번째 매칭: {j[0]} ♥ {j[1]}')\n",
    "        \n",
    "    except:\n",
    "        if IndexError:\n",
    "            print('※경고※ 같은 수의 남녀 리스트를 입력하세요!')\n",
    "    \n"
   ]
  },
  {
   "cell_type": "code",
   "execution_count": 7,
   "id": "0e36643d",
   "metadata": {},
   "outputs": [
    {
     "name": "stdout",
     "output_type": "stream",
     "text": [
      ">>랜덤 파트너 남자들의 이름을 ','로 분리하여 입력하세요. \n",
      "ex)갑돌,갑작,갑주 \n",
      "갑돌,갑작,갑주 \n",
      ">>랜덤 파트너 여자들의 이름을 ','로 분리하여 입력하세요. \n",
      "ex)갑돌,갑작,갑주 \n",
      "갑돌,갑작,갑주 \n",
      "1번째 매칭: 갑돌 ♥ 갑주 \n",
      "2번째 매칭: 갑주  ♥ 갑작\n",
      "3번째 매칭: 갑작 ♥ 갑돌\n"
     ]
    }
   ],
   "source": [
    "#프로그래밍\n",
    "\n",
    "male=input(\">>랜덤 파트너 남자들의 이름을 ','로 분리하여 입력하세요. \\nex)갑돌,갑작,갑주 \\n\")\n",
    "female=input(\">>랜덤 파트너 여자들의 이름을 ','로 분리하여 입력하세요. \\nex)갑돌,갑작,갑주 \\n\")\n",
    "\n",
    "male=list(male.split(','))\n",
    "female=list(female.split(','))\n",
    "\n",
    "couple_match(male, female)\n"
   ]
  },
  {
   "cell_type": "markdown",
   "id": "9ac166d1",
   "metadata": {},
   "source": [
    "#### Q2. 사용자가 입력한 횟수만큼 로또 번호를 출력하는 프로그램 작성하세요.(중복 금지)"
   ]
  },
  {
   "cell_type": "code",
   "execution_count": 11,
   "id": "32f5feb8",
   "metadata": {},
   "outputs": [],
   "source": [
    "#로또번호 개수를 입력하는 경우\n",
    "\n",
    "#함수지정\n",
    "def lotto_num(x): \n",
    "    return sorted(random.sample(list(range(1,46)),x))\n"
   ]
  },
  {
   "cell_type": "code",
   "execution_count": 15,
   "id": "13597827",
   "metadata": {},
   "outputs": [
    {
     "name": "stdout",
     "output_type": "stream",
     "text": [
      ">>원하시는 번호의 개수를 입력하세요\n",
      "8\n"
     ]
    },
    {
     "data": {
      "text/plain": [
       "[3, 5, 14, 16, 22, 27, 29, 32]"
      ]
     },
     "execution_count": 15,
     "metadata": {},
     "output_type": "execute_result"
    }
   ],
   "source": [
    "#프로그래밍\n",
    "x=int(input(\">>원하시는 번호의 개수를 입력하세요\\n\"))\n",
    "lotto_num(x)\n"
   ]
  },
  {
   "cell_type": "code",
   "execution_count": 18,
   "id": "c5da8d45",
   "metadata": {},
   "outputs": [],
   "source": [
    "#로또번호 묶음 개수를 입력하는 경우\n",
    "\n",
    "#함수지정\n",
    "def lotto_count(c):\n",
    "    for i in range(c):\n",
    "        time.sleep(1)\n",
    "        print(f'{i+1}번째 로또번호 모음: {sorted(random.sample(list(range(1,46)),6))}')"
   ]
  },
  {
   "cell_type": "code",
   "execution_count": 19,
   "id": "73f6a0e5",
   "metadata": {},
   "outputs": [
    {
     "name": "stdout",
     "output_type": "stream",
     "text": [
      ">>원하시는 로또번호 묶음 개수를 입력하세요\n",
      "2\n",
      "1번째 로또번호 모음: [1, 4, 18, 24, 26, 35]\n",
      "2번째 로또번호 모음: [17, 21, 22, 23, 34, 37]\n"
     ]
    }
   ],
   "source": [
    "#프로그래밍\n",
    "x=int(input(\">>원하시는 로또번호 묶음 개수를 입력하세요\\n\"))\n",
    "        \n",
    "lotto_count(x)"
   ]
  },
  {
   "cell_type": "markdown",
   "id": "97f6845e",
   "metadata": {},
   "source": [
    "#### [도전과제] 발표자를 원하는 수만큼 랜덤하게 출력하는 프로그램 작성하기"
   ]
  },
  {
   "cell_type": "code",
   "execution_count": 58,
   "id": "c2b4849d",
   "metadata": {},
   "outputs": [],
   "source": [
    "#함수 정의\n",
    "import random\n",
    "import time\n",
    "\n",
    "def goodluck(n):\n",
    "    cakd7 = ['박영권','김현지','김덕현','변서연','한지웅','양주희','이호원','정지은',\n",
    "         '이정현A','이정현B','이명진','이상윤','조승현','강유한','김영선','최애림',\n",
    "         '김민섭','박혜린','윤정준','김진형','정승기','진청아','신창훈','김병석','박세희']\n",
    "    \n",
    "    r_s=random.sample(cakd7,n)\n",
    "    for i in range(n):\n",
    "        time.sleep(1)\n",
    "        print(f'{i+1}번째 발표자는 \"{r_s[i]}\"님 입니다.')\n"
   ]
  },
  {
   "cell_type": "code",
   "execution_count": 59,
   "id": "a0142bad",
   "metadata": {},
   "outputs": [
    {
     "name": "stdout",
     "output_type": "stream",
     "text": [
      ">>발표자 수를 입력하세요.\n",
      "1\n",
      "1번째 발표자는 \"이호원\"님 입니다.\n"
     ]
    }
   ],
   "source": [
    "#프로그래밍\n",
    "\n",
    "n=int(input('>>발표자 수를 입력하세요.\\n'))\n",
    "goodluck(n)"
   ]
  },
  {
   "cell_type": "code",
   "execution_count": 64,
   "id": "8b888897",
   "metadata": {},
   "outputs": [
    {
     "name": "stdout",
     "output_type": "stream",
     "text": [
      "1조 조원: ['박혜린', '진청아', '정지은']\n",
      "2조 조원: ['이정현B', '변서연', '이정현A']\n",
      "3조 조원: ['김영선', '김현지', '박세희']\n",
      "4조 조원: ['양주희', '최애림', '이명진']\n"
     ]
    }
   ],
   "source": [
    "import random\n",
    "import time\n",
    "\n",
    "cakd7 = ['김현지','변서연','양주희','정지은','이정현A','이정현B','이명진','김영선','최애림','박혜린','진청아','박세희']\n",
    "\n",
    "\n",
    "for i in range(4):\n",
    "    r_s=random.sample(cakd7,3)\n",
    "    time.sleep(2)\n",
    "    print(f'{i+1}조 조원: {r_s}')\n",
    "    for j in r_s:\n",
    "        cakd7.remove(j)"
   ]
  },
  {
   "cell_type": "markdown",
   "id": "b369da73",
   "metadata": {},
   "source": [
    "# 07/14"
   ]
  },
  {
   "cell_type": "markdown",
   "id": "a2a77f5c",
   "metadata": {},
   "source": [
    "#### Q3.입력받은 문자열의 각 문자를 그 다음 문자로 변경하여 출력하세요. ex) abc->bca"
   ]
  },
  {
   "cell_type": "code",
   "execution_count": 31,
   "id": "ca2bd185",
   "metadata": {},
   "outputs": [],
   "source": [
    "#다음문자를 출력하는 함수\n",
    "\n",
    "def next_text(x):\n",
    "    return x[-1]+x[:-1]\n",
    "            "
   ]
  },
  {
   "cell_type": "code",
   "execution_count": 32,
   "id": "06943949",
   "metadata": {},
   "outputs": [
    {
     "name": "stdout",
     "output_type": "stream",
     "text": [
      ">>문자를 입력하세요.\n",
      "가나다라\n",
      "\n",
      "\n"
     ]
    },
    {
     "data": {
      "text/plain": [
       "'라가나다'"
      ]
     },
     "execution_count": 32,
     "metadata": {},
     "output_type": "execute_result"
    }
   ],
   "source": [
    "x=input('>>문자를 입력하세요.\\n')\n",
    "print('\\n')\n",
    "next_text(x)"
   ]
  },
  {
   "cell_type": "code",
   "execution_count": 5,
   "id": "2f8f6688",
   "metadata": {},
   "outputs": [],
   "source": [
    "#문자를 반대로 출력해주는 함수\n",
    "\n",
    "def change(x):\n",
    "    r_idx_x=sorted(list(range(len(x))),reverse=True)\n",
    "    for r_idx in r_idx_x:\n",
    "        print(x[r_idx],end='')       \n",
    "            "
   ]
  },
  {
   "cell_type": "code",
   "execution_count": 6,
   "id": "9a938f96",
   "metadata": {
    "scrolled": true
   },
   "outputs": [
    {
     "name": "stdout",
     "output_type": "stream",
     "text": [
      ">>문자를 입력하세요. 반대로 출력해드립니다.문자를 반대로\n",
      "로대반 를자문"
     ]
    }
   ],
   "source": [
    "x=input('>>문자를 입력하세요. 반대로 출력해드립니다.\\n')\n",
    "\n",
    "change(x)"
   ]
  },
  {
   "cell_type": "markdown",
   "id": "06470c45",
   "metadata": {},
   "source": [
    "#### Q4.url에서 호스트 도메인을 추출하여 출력하세요.\n",
    "- url = 'http://news.naver.com/main/read.nhn?mode=LSD&mid=shm&sid1=105&oid=028&aid=0002334601'\n",
    "- 호스트 도메인: news.naver.com"
   ]
  },
  {
   "cell_type": "code",
   "execution_count": 22,
   "id": "eca0ac7c",
   "metadata": {},
   "outputs": [],
   "source": [
    "import re\n",
    "\n",
    "url='http://news.naver.com/main/read.nhn?mode=LSD&mid=shm&sid1=105&oid=028&aid=0002334601'"
   ]
  },
  {
   "cell_type": "code",
   "execution_count": 24,
   "id": "9525134e",
   "metadata": {},
   "outputs": [
    {
     "data": {
      "text/plain": [
       "'news.naver.com'"
      ]
     },
     "execution_count": 24,
     "metadata": {},
     "output_type": "execute_result"
    }
   ],
   "source": [
    "url.split('/')[2]"
   ]
  },
  {
   "cell_type": "code",
   "execution_count": 54,
   "id": "b0c57c15",
   "metadata": {},
   "outputs": [
    {
     "data": {
      "text/plain": [
       "['news.naver.com']"
      ]
     },
     "execution_count": 54,
     "metadata": {},
     "output_type": "execute_result"
    }
   ],
   "source": [
    "#findall로 찾기\n",
    "p=re.compile('http://([\\w.]+)')\n",
    "p.findall(url)"
   ]
  },
  {
   "cell_type": "code",
   "execution_count": 58,
   "id": "683c792a",
   "metadata": {},
   "outputs": [
    {
     "name": "stdout",
     "output_type": "stream",
     "text": [
      "news.naver.com\n"
     ]
    }
   ],
   "source": [
    "#finditer로 찾기\n",
    "\n",
    "for i in p.finditer(url):\n",
    "    print(i.group(1))"
   ]
  },
  {
   "cell_type": "code",
   "execution_count": 60,
   "id": "8af61b9c",
   "metadata": {},
   "outputs": [
    {
     "data": {
      "text/plain": [
       "'news.naver.com'"
      ]
     },
     "execution_count": 60,
     "metadata": {},
     "output_type": "execute_result"
    }
   ],
   "source": [
    "#search로 찾기\n",
    "\n",
    "p.search(url).group(1)"
   ]
  },
  {
   "cell_type": "code",
   "execution_count": 63,
   "id": "6e75e82b",
   "metadata": {},
   "outputs": [
    {
     "data": {
      "text/plain": [
       "'news.naver.com'"
      ]
     },
     "execution_count": 63,
     "metadata": {},
     "output_type": "execute_result"
    }
   ],
   "source": [
    "#match로 찾기\n",
    "\n",
    "p.match(url).group(1)"
   ]
  },
  {
   "cell_type": "code",
   "execution_count": 65,
   "id": "6c67a3df",
   "metadata": {},
   "outputs": [
    {
     "data": {
      "text/plain": [
       "[]"
      ]
     },
     "execution_count": 65,
     "metadata": {},
     "output_type": "execute_result"
    }
   ],
   "source": [
    "p2=re.compile('(?<=http://)(\\w+)(?=/)')\n",
    "p2.findall(url)"
   ]
  },
  {
   "cell_type": "markdown",
   "id": "b987ad76",
   "metadata": {},
   "source": [
    "#### Q5. url에서 쿼리문을 출력하기"
   ]
  },
  {
   "cell_type": "markdown",
   "id": "bc89124f",
   "metadata": {},
   "source": [
    "- url에서 '?'뒤에 표시되는 문자열을 쿼리 문자열이라고 하며 변수=값 사이 &로  구분되어 나열된다.\n",
    "- url = 'http://news.naver.com/main/read.nhn?mode=LSD&mid=shm&sid1=105&oid=028&aid=0002334601'\n"
   ]
  },
  {
   "cell_type": "code",
   "execution_count": 7,
   "id": "3c069f4c",
   "metadata": {},
   "outputs": [
    {
     "name": "stdout",
     "output_type": "stream",
     "text": [
      "1번째 쿼리문자열: mode=LSD\n",
      "2번째 쿼리문자열: mid=shm\n",
      "3번째 쿼리문자열: sid1=105\n",
      "4번째 쿼리문자열: oid=028\n",
      "5번째 쿼리문자열: aid=0002334601\n"
     ]
    }
   ],
   "source": [
    "import re\n",
    "\n",
    "url = 'http://news.naver.com/main/read.nhn?mode=LSD&mid=shm&sid1=105&oid=028&aid=0002334601'\n",
    "\n",
    "p=re.compile('[\\w./:]+[?]([\\w./:=&]+)')\n",
    "\n",
    "\n",
    "query=p.search(url).group(1).split('&')\n",
    "\n",
    "for i in range(len(query)):\n",
    "    print(f'{i+1}번째 쿼리문자열: {query[i]}')"
   ]
  },
  {
   "cell_type": "markdown",
   "id": "2cb44824",
   "metadata": {},
   "source": [
    "#### Q6. 텍스트 파일(mydata.txt)을 읽고  파일의 내용에서 나타나는 문자들에 대해 자주 나타나는 문자들을 아래와 같이 순서대로 출력하세요.\n",
    "- \\[ \\] -> [177]회 나타남\n",
    "- [e] -> [97]회 나타남\n",
    "- [t] -> [85]회 나타남\n"
   ]
  },
  {
   "cell_type": "code",
   "execution_count": 30,
   "id": "fe3f1528",
   "metadata": {},
   "outputs": [
    {
     "name": "stdout",
     "output_type": "stream",
     "text": [
      "[ ] -> 177개\n",
      "[e] -> 97개\n",
      "[t] -> 85개\n",
      "[a] -> 78개\n",
      "[o] -> 73개\n",
      "[n] -> 60개\n",
      "[s] -> 60개\n",
      "[r] -> 54개\n",
      "[i] -> 50개\n",
      "[h] -> 48개\n",
      "[l] -> 34개\n",
      "[u] -> 27개\n",
      "[d] -> 24개\n",
      "[c] -> 23개\n",
      "[w] -> 20개\n",
      "[m] -> 20개\n",
      "[f] -> 17개\n",
      "[y] -> 15개\n",
      "[p] -> 15개\n",
      "[b] -> 13개\n",
      "[g] -> 11개\n",
      "[v] -> 9개\n",
      "['] -> 8개\n",
      "[k] -> 7개\n",
      "[!] -> 2개\n"
     ]
    }
   ],
   "source": [
    "def text_contents(filename):\n",
    "    with open(filename, 'r') as f:\n",
    "        contents=f.read()\n",
    "        fa={}\n",
    "        for text in contents:\n",
    "            if text in fa:\n",
    "                fa[text]+=1\n",
    "            else:\n",
    "                fa[text]=1\n",
    "        return fa\n",
    "\n",
    "dictionary=text_contents('dataset/mydata.txt').items()\n",
    "dictionary=sorted(dictionary, key=lambda x: x[1], reverse=True)\n",
    "dictionary\n",
    "\n",
    "for k,v in dictionary:\n",
    "    if k=='\\n':\n",
    "        pass\n",
    "    else:\n",
    "        print(f'[{k}] -> {v}개')"
   ]
  },
  {
   "cell_type": "markdown",
   "id": "cadbe2aa",
   "metadata": {},
   "source": [
    "## 07/18"
   ]
  },
  {
   "cell_type": "markdown",
   "id": "fba60170",
   "metadata": {},
   "source": [
    "#### Q7. 두 개의 수를 입력한 후 두 개의 수에 대한 사칙연산을 수행하세요. (0을 입력한 경우 다시 입력하도록 조치)"
   ]
  },
  {
   "cell_type": "code",
   "execution_count": 1,
   "id": "eb108d5a",
   "metadata": {},
   "outputs": [
    {
     "name": "stdout",
     "output_type": "stream",
     "text": [
      ">> 사칙연산을 수행할 숫자 두 개를 입력하세요\n",
      "ex) 4,5\n",
      "4,5\n",
      "**************************************************\n",
      "\n",
      "        1. 덧셈\n",
      "        2. 뺄셈\n",
      "        3. 나눗셈\n",
      "        4. 곱셈\n",
      "        \n",
      "**************************************************\n",
      ">> 수행하고 싶은 사칙연산을 고르세요.\n",
      "2\n",
      "9\n"
     ]
    }
   ],
   "source": [
    "# Cal4 클래스 만들어서 작성\n",
    "\n",
    "class Cal4():\n",
    "    def __init__(self, num1, num2):\n",
    "        self.num1=num1\n",
    "        self.num2=num2\n",
    "        \n",
    "    def add(self):\n",
    "        return self.num1+self.num2\n",
    "    \n",
    "    def sub(self):\n",
    "        return self.num1+self.num2\n",
    "    \n",
    "    def div(self):\n",
    "        return self.num1/self.num2\n",
    "    \n",
    "    def mul(self):\n",
    "        return self.num1*self.num2\n",
    "    \n",
    "while True:\n",
    "    digits=input('>> 사칙연산을 수행할 숫자 두 개를 입력하세요\\nex) 4,5\\n')\n",
    "    \n",
    "    if digits[0]=='0' or digits[1]==0:\n",
    "        print('>> 경고!!!!!! 0이 아닌 숫자를 두 개를 입력해주세요!!!')\n",
    "        continue\n",
    "        \n",
    "    else:\n",
    "        digit=digits.split(',')\n",
    "        c=Cal4(int(digit[0]),int(digit[1]))\n",
    "        \n",
    "        print('*'*50)\n",
    "        print('''\n",
    "        1. 덧셈\n",
    "        2. 뺄셈\n",
    "        3. 나눗셈\n",
    "        4. 곱셈\n",
    "        ''')\n",
    "        print('*'*50)\n",
    "        \n",
    "        cal=input('>> 수행하고 싶은 사칙연산을 고르세요.\\n')\n",
    "        if cal=='1':\n",
    "            print(c.add())\n",
    "        elif cal=='2':\n",
    "            print(c.sub())\n",
    "        elif cal=='3':\n",
    "            print(c.div())\n",
    "        elif cal=='4':\n",
    "            print(c.mul())\n",
    "        break"
   ]
  },
  {
   "cell_type": "markdown",
   "id": "9e3b3a20",
   "metadata": {},
   "source": [
    "#### Q8. Order 클래스를 상속받아 extraOrder 클래스에서 메서드 오버라이딩하여 출력가격에 원이 추가되도록 출력하세요."
   ]
  },
  {
   "cell_type": "code",
   "execution_count": 4,
   "id": "679c7dcf",
   "metadata": {},
   "outputs": [
    {
     "name": "stdout",
     "output_type": "stream",
     "text": [
      "1000\n"
     ]
    }
   ],
   "source": [
    "class Order: \n",
    "    def __init__(self, name): \n",
    "        self.customer = 0 \n",
    "        self.name = name \n",
    "        \n",
    "    def order(self, price): \n",
    "        self.customer += price \n",
    "        return self.customer\n",
    "\n",
    "order=Order('kevin')\n",
    "print(order.order(1000))\n",
    "\n",
    "\n",
    "class ExtraOrder(Order):\n",
    "    def __init__(self,name):\n",
    "        super().__init__(self)\n",
    "        \n",
    "    def order(self, price):   \n",
    "        super().order(price)\n",
    "#         self.customer += price \n",
    "        return f'{self.customer}원'        "
   ]
  },
  {
   "cell_type": "code",
   "execution_count": 5,
   "id": "83a8f403",
   "metadata": {},
   "outputs": [
    {
     "data": {
      "text/plain": [
       "'1000원'"
      ]
     },
     "execution_count": 5,
     "metadata": {},
     "output_type": "execute_result"
    }
   ],
   "source": [
    "order=ExtraOrder('kevin')\n",
    "order.order(1000)"
   ]
  },
  {
   "cell_type": "markdown",
   "id": "d8249c9a",
   "metadata": {},
   "source": [
    "#### Q9. 업무미팅이 2시임을 알려주는 자동 이메일 클래스 AutoEmail을 작성하여 아래와 같이 출력하세요.\n",
    "-안녕하세요. Kevin님, 업무미팅은 2시입니다.\n"
   ]
  },
  {
   "cell_type": "code",
   "execution_count": 86,
   "id": "add49d92",
   "metadata": {},
   "outputs": [
    {
     "name": "stdout",
     "output_type": "stream",
     "text": [
      "안녕하세요. Kevin님, 업무미팅은 2시입니다.\n"
     ]
    }
   ],
   "source": [
    "import time\n",
    "from datetime import datetime \n",
    "\n",
    "while True:\n",
    "    time.sleep(1)\n",
    "    now_time=datetime.now()\n",
    "    now_hours=now_time.hour\n",
    "    now_minutes=now_time.minute\n",
    "    if (now_hours==13) & (now_minutes==50):\n",
    "        print('안녕하세요. Kevin님, 업무미팅은 2시입니다.')\n",
    "        break"
   ]
  },
  {
   "cell_type": "code",
   "execution_count": 12,
   "id": "9e203baa",
   "metadata": {},
   "outputs": [],
   "source": [
    "import time\n",
    "from datetime import datetime \n",
    "\n",
    "class AutoEmail:\n",
    "    def __init__(self,task,name,time):\n",
    "        self.task=task\n",
    "        self.name=name\n",
    "        self.time=time\n",
    "    def alarm(self):\n",
    "        if datetime.now().hour==self.time:\n",
    "            print(f'{self.name}님, 업무미팅이 진행중입니다.')\n",
    "        else:\n",
    "            print(f'{self.name}님, {self.time}시에 {self.task}이 존재합니다.')"
   ]
  },
  {
   "cell_type": "code",
   "execution_count": 13,
   "id": "377e0e4c",
   "metadata": {},
   "outputs": [
    {
     "name": "stdout",
     "output_type": "stream",
     "text": [
      "애림님, 13시에 점심약속이 존재합니다.\n"
     ]
    }
   ],
   "source": [
    "a=AutoEmail('점심약속','애림',13)\n",
    "a.alarm()"
   ]
  },
  {
   "cell_type": "markdown",
   "id": "c934db56",
   "metadata": {},
   "source": [
    "## 07/19"
   ]
  },
  {
   "cell_type": "markdown",
   "id": "ce8dc4bf",
   "metadata": {},
   "source": [
    "#### Q10. 정규표현식을 사용하여 text에서 전화번호만 출력하세요.\n",
    "\n",
    "text=\"문의사항이 있으면 032-232-3245로 연락주시기 바랍니다.\""
   ]
  },
  {
   "cell_type": "code",
   "execution_count": 19,
   "id": "cab7d34f",
   "metadata": {},
   "outputs": [],
   "source": [
    "import re\n",
    "\n",
    "text=\"문의사항이 있으면 032-232-3245로 연락주시기 바랍니다.\""
   ]
  },
  {
   "cell_type": "code",
   "execution_count": 20,
   "id": "9d546cbc",
   "metadata": {},
   "outputs": [
    {
     "data": {
      "text/plain": [
       "'032-232-3245'"
      ]
     },
     "execution_count": 20,
     "metadata": {},
     "output_type": "execute_result"
    }
   ],
   "source": [
    "#search활용\n",
    "\n",
    "p=re.compile('\\d+[-]\\d+[-]\\d+')\n",
    "p.search(text).group()"
   ]
  },
  {
   "cell_type": "code",
   "execution_count": 26,
   "id": "860e6bf7",
   "metadata": {},
   "outputs": [
    {
     "name": "stdout",
     "output_type": "stream",
     "text": [
      "032-232-3245\n"
     ]
    }
   ],
   "source": [
    "#finditer 활용\n",
    "\n",
    "p=re.compile('\\d+[-]\\d+[-]\\d+')\n",
    "for i in p.finditer(text):\n",
    "    print(i.group())"
   ]
  },
  {
   "cell_type": "code",
   "execution_count": 32,
   "id": "c3025fdf",
   "metadata": {},
   "outputs": [
    {
     "data": {
      "text/plain": [
       "['032-232-3245']"
      ]
     },
     "execution_count": 32,
     "metadata": {},
     "output_type": "execute_result"
    }
   ],
   "source": [
    "#findall 활용\n",
    "p=re.compile('\\d+[-]\\d+[-]\\d+')\n",
    "p.findall(text)"
   ]
  },
  {
   "cell_type": "markdown",
   "id": "f7d8271a",
   "metadata": {},
   "source": [
    "#### Q11. 정규표현식을 사용하여 text 에서 에러가 들어간 부분만 포함하는 리스트 출력하세요.\n",
    "\n",
    "text=\"에러 1122, 레퍼런스 오류, 에러 1033, 아규먼트 오류, 에러 xxx\""
   ]
  },
  {
   "cell_type": "code",
   "execution_count": 17,
   "id": "52c3f7ab",
   "metadata": {},
   "outputs": [
    {
     "data": {
      "text/plain": [
       "['에러 1122', '에러 1033', '에러 xxx']"
      ]
     },
     "execution_count": 17,
     "metadata": {},
     "output_type": "execute_result"
    }
   ],
   "source": [
    "import re\n",
    "\n",
    "text=\"에러 1122, 레퍼런스 오류, 에러 1033, 아규먼트 오류, 에러 xxx\"\n",
    "\n",
    "p=re.compile('[에러][\\s\\w]+')\n",
    "p.findall(text)"
   ]
  },
  {
   "cell_type": "markdown",
   "id": "13611a04",
   "metadata": {},
   "source": [
    "#### Q12. 정규표현식을 사용하여 text 에서 지역코드만 출력하세요\n",
    "\n",
    "text=\"문의사항이 있으면 032-232-3245로 연락주시기 바랍니다.\""
   ]
  },
  {
   "cell_type": "code",
   "execution_count": 34,
   "id": "54991447",
   "metadata": {},
   "outputs": [],
   "source": [
    "import re\n",
    "\n",
    "text=\"문의사항이 있으면 032-232-3245로 연락주시기 바랍니다.\""
   ]
  },
  {
   "cell_type": "code",
   "execution_count": 39,
   "id": "52bbe7b2",
   "metadata": {},
   "outputs": [
    {
     "data": {
      "text/plain": [
       "'032'"
      ]
     },
     "execution_count": 39,
     "metadata": {},
     "output_type": "execute_result"
    }
   ],
   "source": [
    "#search 활용\n",
    "\n",
    "p=re.compile('\\d+')\n",
    "p.search(text).group()"
   ]
  },
  {
   "cell_type": "code",
   "execution_count": 55,
   "id": "b8323b5b",
   "metadata": {},
   "outputs": [
    {
     "name": "stdout",
     "output_type": "stream",
     "text": [
      "032\n"
     ]
    }
   ],
   "source": [
    "#finditer 활용\n",
    "\n",
    "p=re.compile('\\d+')\n",
    "\n",
    "li=[]\n",
    "for i in p.finditer(text):\n",
    "    li.append(i.group())\n",
    "print(li[0])\n",
    "   "
   ]
  },
  {
   "cell_type": "code",
   "execution_count": 56,
   "id": "00bef8e0",
   "metadata": {},
   "outputs": [
    {
     "data": {
      "text/plain": [
       "'032'"
      ]
     },
     "execution_count": 56,
     "metadata": {},
     "output_type": "execute_result"
    }
   ],
   "source": [
    "#findall 활용\n",
    "\n",
    "p=re.compile('\\d+')\n",
    "p.findall(text)[0]"
   ]
  },
  {
   "cell_type": "markdown",
   "id": "507a2736",
   "metadata": {},
   "source": [
    "#### Q13. 정규표현식을 사용하여 text 에서 지역코드를 제외한 번호만 출력하세요\n",
    "\n",
    "text=\"문의사항이 있으면 032-232-3245로 연락주시기 바랍니다.\""
   ]
  },
  {
   "cell_type": "code",
   "execution_count": 124,
   "id": "0f7c259a",
   "metadata": {},
   "outputs": [],
   "source": [
    "text=\"문의사항이 있으면 032-232-3245로 연락주시기 바랍니다.\""
   ]
  },
  {
   "cell_type": "code",
   "execution_count": 131,
   "id": "0e04b490",
   "metadata": {
    "scrolled": true
   },
   "outputs": [
    {
     "data": {
      "text/plain": [
       "['232', '3245']"
      ]
     },
     "execution_count": 131,
     "metadata": {},
     "output_type": "execute_result"
    }
   ],
   "source": [
    "#findall 활용\n",
    "\n",
    "p=re.compile('-([\\d]+)')\n",
    "p.findall(text)"
   ]
  },
  {
   "cell_type": "markdown",
   "id": "9b2b53eb",
   "metadata": {},
   "source": [
    "#### Q14. 'abcdefghij'에 대해 중첩을 적용한 서브그룹 5개로 컴파일하여 group()함수를 이용하여 'abcdefghi'와 e를 출력하세요."
   ]
  },
  {
   "cell_type": "code",
   "execution_count": 112,
   "id": "8e1a8b37",
   "metadata": {},
   "outputs": [],
   "source": [
    "text='abcdefghij'\n",
    "p=re.compile('(\\w(\\w(\\w(\\w(\\w)\\w)\\w)\\w)\\w)')"
   ]
  },
  {
   "cell_type": "code",
   "execution_count": 66,
   "id": "281bb212",
   "metadata": {},
   "outputs": [
    {
     "data": {
      "text/plain": [
       "('abcdefghi', 'e')"
      ]
     },
     "execution_count": 66,
     "metadata": {},
     "output_type": "execute_result"
    }
   ],
   "source": [
    "#search 활용\n",
    "\n",
    "s=p.search(text)\n",
    "s.group(1), s.group(5)"
   ]
  },
  {
   "cell_type": "code",
   "execution_count": 68,
   "id": "5fb1bafe",
   "metadata": {},
   "outputs": [
    {
     "data": {
      "text/plain": [
       "('abcdefghi', 'e')"
      ]
     },
     "execution_count": 68,
     "metadata": {},
     "output_type": "execute_result"
    }
   ],
   "source": [
    "#match 활용\n",
    "\n",
    "m=p.match(text)\n",
    "m.group(1),m.group(5)"
   ]
  },
  {
   "cell_type": "code",
   "execution_count": 82,
   "id": "87bcb623",
   "metadata": {},
   "outputs": [
    {
     "data": {
      "text/plain": [
       "('abcdefghi', 'e')"
      ]
     },
     "execution_count": 82,
     "metadata": {},
     "output_type": "execute_result"
    }
   ],
   "source": [
    "#findall 활용\n",
    "\n",
    "f=p.findall(text)\n",
    "f[0][0],f[0][4]"
   ]
  },
  {
   "cell_type": "markdown",
   "id": "c7ccdc43",
   "metadata": {},
   "source": [
    "#### Q15. 위 문제에서 모든 서브 그룹에 대한 문자열을 포함하는 튜플을 출력하세요."
   ]
  },
  {
   "cell_type": "code",
   "execution_count": null,
   "id": "0370f586",
   "metadata": {},
   "outputs": [],
   "source": [
    "text='abcdefghij'\n",
    "p=re.compile('(\\w(\\w(\\w(\\w(\\w)\\w)\\w)\\w)\\w)')"
   ]
  },
  {
   "cell_type": "code",
   "execution_count": 100,
   "id": "8434e7d3",
   "metadata": {},
   "outputs": [
    {
     "data": {
      "text/plain": [
       "('abcdefghi', 'bcdefgh', 'cdefg', 'def', 'e')"
      ]
     },
     "execution_count": 100,
     "metadata": {},
     "output_type": "execute_result"
    }
   ],
   "source": [
    "#findall 활용\n",
    "\n",
    "f=p.findall(text)\n",
    "f[0]"
   ]
  },
  {
   "cell_type": "markdown",
   "id": "5d6a2670",
   "metadata": {},
   "source": [
    "#### Q16. 이름으로 그룹을 참조하여 'Lots of punctuation'에서 Lots를 출력하세요."
   ]
  },
  {
   "cell_type": "code",
   "execution_count": 7,
   "id": "124c3157",
   "metadata": {},
   "outputs": [
    {
     "data": {
      "text/plain": [
       "'Lots'"
      ]
     },
     "execution_count": 7,
     "metadata": {},
     "output_type": "execute_result"
    }
   ],
   "source": [
    "import re\n",
    "\n",
    "text='Lots of punctuation'\n",
    "\n",
    "p=re.compile('(?P<그룹>\\w+)\\s\\w+\\s(?P<그룹2>\\w+)')\n",
    "p.search(text).group('그룹')"
   ]
  },
  {
   "cell_type": "markdown",
   "id": "00c9eda5",
   "metadata": {},
   "source": [
    "#### Q17. 'Paris is very very beautiful'에서 'very very'를 출력하기"
   ]
  },
  {
   "cell_type": "code",
   "execution_count": 14,
   "id": "ed3d2368",
   "metadata": {},
   "outputs": [
    {
     "data": {
      "text/plain": [
       "'very very'"
      ]
     },
     "execution_count": 14,
     "metadata": {},
     "output_type": "execute_result"
    }
   ],
   "source": [
    "import re\n",
    "\n",
    "text='Paris is very very beautiful'\n",
    "\n",
    "p=re.compile('\\w+\\s\\w+')\n",
    "p.findall(text)[1]"
   ]
  },
  {
   "cell_type": "markdown",
   "id": "08254ed6",
   "metadata": {},
   "source": [
    "#### Q18. 정규 표현식을 작성하여 아래와 같이 출력하세요.\n",
    "'1 apple', '5 oranges', '3 boys', '4 girls', '10 army', '11 mr'"
   ]
  },
  {
   "cell_type": "code",
   "execution_count": 8,
   "id": "f23f2abc",
   "metadata": {},
   "outputs": [],
   "source": [
    "text='1 apple,5 oranges,3 boys,4 girls;10 army|11 mr'"
   ]
  },
  {
   "cell_type": "code",
   "execution_count": 9,
   "id": "93f60917",
   "metadata": {},
   "outputs": [
    {
     "data": {
      "text/plain": [
       "['1 apple', '5 oranges', '3 boys', '4 girls', '0 army', '1 mr']"
      ]
     },
     "execution_count": 9,
     "metadata": {},
     "output_type": "execute_result"
    }
   ],
   "source": [
    "#findall 활용\n",
    "\n",
    "p=re.compile('\\d \\w+')\n",
    "p.findall(text)"
   ]
  },
  {
   "cell_type": "markdown",
   "id": "aa8e6b7a",
   "metadata": {},
   "source": [
    "#### Q19. text에서 'H,h'만 출력하세요."
   ]
  },
  {
   "cell_type": "code",
   "execution_count": 10,
   "id": "d37496a7",
   "metadata": {},
   "outputs": [
    {
     "data": {
      "text/plain": [
       "['H', 'h']"
      ]
     },
     "execution_count": 10,
     "metadata": {},
     "output_type": "execute_result"
    }
   ],
   "source": [
    "import re\n",
    "\n",
    "text='Hello my friend! Life is too short'\n",
    "\n",
    "p=re.compile('[Hh]')\n",
    "p.findall(text)"
   ]
  },
  {
   "cell_type": "markdown",
   "id": "38c2defd",
   "metadata": {},
   "source": [
    "#### Q20. text에서 'H,h'만 빼고 출력하세요."
   ]
  },
  {
   "cell_type": "code",
   "execution_count": 11,
   "id": "00748dea",
   "metadata": {},
   "outputs": [
    {
     "data": {
      "text/plain": [
       "['e',\n",
       " 'l',\n",
       " 'l',\n",
       " 'o',\n",
       " ' ',\n",
       " 'm',\n",
       " 'y',\n",
       " ' ',\n",
       " 'f',\n",
       " 'r',\n",
       " 'i',\n",
       " 'e',\n",
       " 'n',\n",
       " 'd',\n",
       " '!',\n",
       " ' ',\n",
       " 'L',\n",
       " 'i',\n",
       " 'f',\n",
       " 'e',\n",
       " ' ',\n",
       " 'i',\n",
       " 's',\n",
       " ' ',\n",
       " 't',\n",
       " 'o',\n",
       " 'o',\n",
       " ' ',\n",
       " 's',\n",
       " 'o',\n",
       " 'r',\n",
       " 't']"
      ]
     },
     "execution_count": 11,
     "metadata": {},
     "output_type": "execute_result"
    }
   ],
   "source": [
    "import re\n",
    "\n",
    "text='Hello my friend! Life is too short'\n",
    "\n",
    "p=re.compile('[^Hh]')\n",
    "p.findall(text)"
   ]
  },
  {
   "cell_type": "markdown",
   "id": "452d295e",
   "metadata": {},
   "source": [
    "# 7/21"
   ]
  },
  {
   "cell_type": "markdown",
   "id": "d886ab19",
   "metadata": {},
   "source": [
    "#### Q21.  'we are going home'에서 home만 출력하세요."
   ]
  },
  {
   "cell_type": "code",
   "execution_count": 16,
   "id": "e5e1c4b4",
   "metadata": {},
   "outputs": [
    {
     "data": {
      "text/plain": [
       "'home'"
      ]
     },
     "execution_count": 16,
     "metadata": {},
     "output_type": "execute_result"
    }
   ],
   "source": [
    "import re\n",
    "\n",
    "text='we are going home'\n",
    "\n",
    "p=re.compile('\\w+')\n",
    "p.findall(text)[-1]"
   ]
  },
  {
   "cell_type": "code",
   "execution_count": 1,
   "id": "16a0231f",
   "metadata": {},
   "outputs": [
    {
     "data": {
      "text/plain": [
       "['home']"
      ]
     },
     "execution_count": 1,
     "metadata": {},
     "output_type": "execute_result"
    }
   ],
   "source": [
    "import re\n",
    "\n",
    "text='we are going home'\n",
    "\n",
    "p=re.compile('\\w+$')\n",
    "p.findall(text)"
   ]
  },
  {
   "cell_type": "markdown",
   "id": "efa7d44b",
   "metadata": {},
   "source": [
    "#### Q22. '199305, 1923A, a93247'에서 '199305'만 출력하세요."
   ]
  },
  {
   "cell_type": "code",
   "execution_count": 28,
   "id": "8108ab71",
   "metadata": {},
   "outputs": [
    {
     "data": {
      "text/plain": [
       "'199305'"
      ]
     },
     "execution_count": 28,
     "metadata": {},
     "output_type": "execute_result"
    }
   ],
   "source": [
    "import re\n",
    "\n",
    "text='199305, 1923A, a93247'\n",
    "\n",
    "p=re.compile('(\\w+)')\n",
    "p.findall(text)[0]"
   ]
  },
  {
   "cell_type": "code",
   "execution_count": 2,
   "id": "e8e2b3a6",
   "metadata": {},
   "outputs": [
    {
     "data": {
      "text/plain": [
       "['199305']"
      ]
     },
     "execution_count": 2,
     "metadata": {},
     "output_type": "execute_result"
    }
   ],
   "source": [
    "import re\n",
    "\n",
    "text='199305, 1923A, a93247'\n",
    "\n",
    "p=re.compile('^\\w+')\n",
    "p.findall(text)"
   ]
  },
  {
   "cell_type": "markdown",
   "id": "1936c971",
   "metadata": {},
   "source": [
    "#### Q23. '12345abc'에서 'abc'만 출력하세요."
   ]
  },
  {
   "cell_type": "code",
   "execution_count": 29,
   "id": "05e5df6e",
   "metadata": {},
   "outputs": [
    {
     "data": {
      "text/plain": [
       "'abc'"
      ]
     },
     "execution_count": 29,
     "metadata": {},
     "output_type": "execute_result"
    }
   ],
   "source": [
    "import re\n",
    "\n",
    "text= '12345abc'\n",
    "p=re.compile('[a-z]+')\n",
    "p.search(text).group()"
   ]
  },
  {
   "cell_type": "markdown",
   "id": "1fa26933",
   "metadata": {},
   "source": [
    "#### Q24. 'abc12345Abc'에서 'a'만 출력하세요.\n"
   ]
  },
  {
   "cell_type": "code",
   "execution_count": 30,
   "id": "bfd9543f",
   "metadata": {},
   "outputs": [
    {
     "data": {
      "text/plain": [
       "'a'"
      ]
     },
     "execution_count": 30,
     "metadata": {},
     "output_type": "execute_result"
    }
   ],
   "source": [
    "import re\n",
    "\n",
    "text='abc12345Abc'\n",
    "\n",
    "p=re.compile('\\w')\n",
    "p.findall(text)[0]"
   ]
  },
  {
   "cell_type": "code",
   "execution_count": 7,
   "id": "0b275a7f",
   "metadata": {},
   "outputs": [
    {
     "data": {
      "text/plain": [
       "'12345'"
      ]
     },
     "execution_count": 7,
     "metadata": {},
     "output_type": "execute_result"
    }
   ],
   "source": [
    "#숫자가 아닌 것은 공백으로 대체하기\n",
    "\n",
    "import re\n",
    "\n",
    "text='12345abc'\n",
    "\n",
    "re.sub('[^0-9]','',text)"
   ]
  },
  {
   "cell_type": "markdown",
   "id": "e9a60ea9",
   "metadata": {},
   "source": [
    "#### Q25. 'abc12345Abc'에서 'A'만 출력하세요."
   ]
  },
  {
   "cell_type": "code",
   "execution_count": 31,
   "id": "8818f1ff",
   "metadata": {},
   "outputs": [
    {
     "data": {
      "text/plain": [
       "'A'"
      ]
     },
     "execution_count": 31,
     "metadata": {},
     "output_type": "execute_result"
    }
   ],
   "source": [
    "import re\n",
    "\n",
    "text='abc12345Abc'\n",
    "\n",
    "p=re.compile('[A-Z]')\n",
    "p.search(text).group()"
   ]
  },
  {
   "cell_type": "markdown",
   "id": "aa1779a6",
   "metadata": {},
   "source": [
    "# 7/22"
   ]
  },
  {
   "cell_type": "markdown",
   "id": "a819eb07",
   "metadata": {},
   "source": [
    "#### Q26. 'Banker'에서 'anker', 'banker123'에서 'banker'를 출력하세요"
   ]
  },
  {
   "cell_type": "code",
   "execution_count": 2,
   "id": "de555695",
   "metadata": {},
   "outputs": [
    {
     "data": {
      "text/plain": [
       "\"\\n'anker'\\n'banker'\\n\""
      ]
     },
     "execution_count": 2,
     "metadata": {},
     "output_type": "execute_result"
    }
   ],
   "source": [
    "import re\n",
    "text='Banker'\n",
    "text2='banker123'\n",
    "'''\n",
    "'anker'\n",
    "'banker'\n",
    "'''"
   ]
  },
  {
   "cell_type": "code",
   "execution_count": 10,
   "id": "30d78609",
   "metadata": {},
   "outputs": [
    {
     "data": {
      "text/plain": [
       "'anker'"
      ]
     },
     "execution_count": 10,
     "metadata": {},
     "output_type": "execute_result"
    }
   ],
   "source": [
    "re.sub('B','',text)"
   ]
  },
  {
   "cell_type": "code",
   "execution_count": 14,
   "id": "4a581dd5",
   "metadata": {},
   "outputs": [
    {
     "data": {
      "text/plain": [
       "'banker'"
      ]
     },
     "execution_count": 14,
     "metadata": {},
     "output_type": "execute_result"
    }
   ],
   "source": [
    "re.sub('\\d','',text2)"
   ]
  },
  {
   "cell_type": "markdown",
   "id": "8569c1b4",
   "metadata": {},
   "source": [
    "#### Q27. 'KOREA 대한민국'에서 '대'만 출력하세요."
   ]
  },
  {
   "cell_type": "code",
   "execution_count": 16,
   "id": "f1b30bc4",
   "metadata": {},
   "outputs": [
    {
     "data": {
      "text/plain": [
       "'대'"
      ]
     },
     "execution_count": 16,
     "metadata": {},
     "output_type": "execute_result"
    }
   ],
   "source": [
    "import re\n",
    "\n",
    "text='KOREA 대한민국'\n",
    "\n",
    "re.search('[가-힣]',text).group()"
   ]
  },
  {
   "cell_type": "markdown",
   "id": "e2327361",
   "metadata": {},
   "source": [
    "#### Q28. 'aaaaBBBcccDDDeee'을 모두 출력하세요.\n",
    "text = 'aaaBBccDDeeaaaaBBBcccDDDeeeeeeDDDcccBBBaaaa'\n"
   ]
  },
  {
   "cell_type": "code",
   "execution_count": 19,
   "id": "bacdaae7",
   "metadata": {},
   "outputs": [
    {
     "data": {
      "text/plain": [
       "'aaaaBBBcccDDDeee'"
      ]
     },
     "execution_count": 19,
     "metadata": {},
     "output_type": "execute_result"
    }
   ],
   "source": [
    "import re\n",
    "\n",
    "text = 'aaaBBccDDeeaaaaBBBcccDDDeeeeeeDDDcccBBBaaaa'\n",
    "\n",
    "re.search('a{4}B{3}c{3}D{3}e{3}',text).group()"
   ]
  },
  {
   "cell_type": "markdown",
   "id": "5de54f92",
   "metadata": {},
   "source": [
    "#### Q29. 아래의 경우에서 \\<html>만 출력하세요\n",
    "\n",
    "pattern = re.compile('<.*>')\n",
    "\n",
    "print(len(text)) p = pattern.search(text) p.group()"
   ]
  },
  {
   "cell_type": "code",
   "execution_count": 20,
   "id": "91a68978",
   "metadata": {},
   "outputs": [
    {
     "data": {
      "text/plain": [
       "'\\ntext = \"<html><head><title>Title</title></head><body></body></html>\\'\\n'"
      ]
     },
     "execution_count": 20,
     "metadata": {},
     "output_type": "execute_result"
    }
   ],
   "source": [
    "'''\n",
    "text = \"<html><head><title>Title</title></head><body></body></html>'\n",
    "'''"
   ]
  },
  {
   "cell_type": "code",
   "execution_count": 27,
   "id": "cc60d3fd",
   "metadata": {},
   "outputs": [
    {
     "name": "stdout",
     "output_type": "stream",
     "text": [
      "59\n"
     ]
    },
    {
     "data": {
      "text/plain": [
       "'<html>'"
      ]
     },
     "execution_count": 27,
     "metadata": {},
     "output_type": "execute_result"
    }
   ],
   "source": [
    "text = '<html><head><title>Title</title></head><body></body></html>'\n",
    "\n",
    "pattern = re.compile('<.*>')      # greedy 방식: '.*'\n",
    "print(len(text)) \n",
    "p = pattern.search(text)\n",
    "p.group()[:6]"
   ]
  },
  {
   "cell_type": "code",
   "execution_count": 3,
   "id": "2735f89b",
   "metadata": {},
   "outputs": [
    {
     "name": "stdout",
     "output_type": "stream",
     "text": [
      "59\n"
     ]
    },
    {
     "data": {
      "text/plain": [
       "'<html>'"
      ]
     },
     "execution_count": 3,
     "metadata": {},
     "output_type": "execute_result"
    }
   ],
   "source": [
    "text = '<html><head><title>Title</title></head><body></body></html>'\n",
    "\n",
    "pattern = re.compile('<.*?>')     # non-greedy 방식: '.*?'\n",
    "print(len(text)) \n",
    "p = pattern.search(text)\n",
    "p.group()[:6]"
   ]
  },
  {
   "cell_type": "markdown",
   "id": "8969a6e5",
   "metadata": {},
   "source": [
    "#### Q30. '1234a1234'에서  '1', '2', '3', '4'를 모두 출력하세요."
   ]
  },
  {
   "cell_type": "code",
   "execution_count": 21,
   "id": "6f7af902",
   "metadata": {},
   "outputs": [
    {
     "data": {
      "text/plain": [
       "['1', '2', '3', '4', '1', '2', '3', '4']"
      ]
     },
     "execution_count": 21,
     "metadata": {},
     "output_type": "execute_result"
    }
   ],
   "source": [
    "import re\n",
    "\n",
    "text='1234a1234'\n",
    "\n",
    "re.findall('\\d',text)"
   ]
  },
  {
   "cell_type": "markdown",
   "id": "8488f6b3",
   "metadata": {},
   "source": [
    "# 07/25"
   ]
  },
  {
   "cell_type": "markdown",
   "id": "90e70bcb",
   "metadata": {},
   "source": [
    "#### Q32. text에서 전체문장 모두 출력하세요."
   ]
  },
  {
   "cell_type": "markdown",
   "id": "6e338b88",
   "metadata": {},
   "source": [
    "```\n",
    "text = \"what are you doing?\\nit is going to be late for school\\nwe need to hurry up\"\n",
    "regex = re.compile('.*')\n",
    "mo = regex.search(text)\n",
    "print(mo.group())\n",
    "\n",
    "```"
   ]
  },
  {
   "cell_type": "code",
   "execution_count": 1,
   "id": "43947a8c",
   "metadata": {},
   "outputs": [],
   "source": [
    "import re\n",
    "\n",
    "text = \"what are you doing?\\nit is going to be late for school\\nwe need to hurry up\""
   ]
  },
  {
   "cell_type": "code",
   "execution_count": 2,
   "id": "2961d467",
   "metadata": {},
   "outputs": [
    {
     "name": "stdout",
     "output_type": "stream",
     "text": [
      "what are you doing?\n",
      "it is going to be late for school\n",
      "we need to hurry up\n"
     ]
    }
   ],
   "source": [
    "#방법2\n",
    "                                      #'.*': 줄바꿈 문자 전까지만 해당\n",
    "regex = re.compile('.*',re.DOTALL)    #re.DOTALL: dot(.)이 줄바꿈 문자도 포함해서 매치함\n",
    "mo = regex.search(text)\n",
    "\n",
    "print(mo.group())"
   ]
  },
  {
   "cell_type": "code",
   "execution_count": null,
   "id": "c9da39fe",
   "metadata": {},
   "outputs": [],
   "source": [
    "#방법1\n",
    "\n",
    "regex = re.compile('(.|\\n)*')    #greedy 방식(줄바꿈 포함)\n",
    "mo = regex.search(text)\n",
    "\n",
    "print(mo.group())"
   ]
  },
  {
   "cell_type": "markdown",
   "id": "c61f540d",
   "metadata": {},
   "source": [
    "#### Q33.  text에서 대소문자 구분없이 전체문장을 한 단어씩 모두 출력하세요"
   ]
  },
  {
   "cell_type": "code",
   "execution_count": 6,
   "id": "e55e5813",
   "metadata": {},
   "outputs": [],
   "source": [
    "import re\n",
    "\n",
    "text = 'Friend fRiend friEnd FRIEND'"
   ]
  },
  {
   "cell_type": "markdown",
   "id": "db1b57f1",
   "metadata": {},
   "source": [
    "- 모든단어 추출"
   ]
  },
  {
   "cell_type": "code",
   "execution_count": 30,
   "id": "49536174",
   "metadata": {},
   "outputs": [
    {
     "name": "stdout",
     "output_type": "stream",
     "text": [
      "Friend fRiend friEnd FRIEND\n"
     ]
    }
   ],
   "source": [
    "print(re.search('[\\s\\w]+',text).group())"
   ]
  },
  {
   "cell_type": "code",
   "execution_count": 31,
   "id": "92f809ab",
   "metadata": {
    "scrolled": false
   },
   "outputs": [
    {
     "name": "stdout",
     "output_type": "stream",
     "text": [
      "Friend fRiend friEnd FRIEND\n"
     ]
    }
   ],
   "source": [
    "print(re.search('.*',text).group())"
   ]
  },
  {
   "cell_type": "code",
   "execution_count": 32,
   "id": "765bcb5a",
   "metadata": {},
   "outputs": [
    {
     "name": "stdout",
     "output_type": "stream",
     "text": [
      "Friend fRiend friEnd FRIEND\n"
     ]
    }
   ],
   "source": [
    "print(re.match('[\\s\\w]+',text).group())"
   ]
  },
  {
   "cell_type": "markdown",
   "id": "461d6b85",
   "metadata": {},
   "source": [
    "- 한 단어씩 추출"
   ]
  },
  {
   "cell_type": "code",
   "execution_count": 12,
   "id": "9e2e9be3",
   "metadata": {},
   "outputs": [
    {
     "name": "stdout",
     "output_type": "stream",
     "text": [
      "Friend\n",
      "fRiend\n",
      "friEnd\n",
      "FRIEND\n"
     ]
    }
   ],
   "source": [
    "p=re.compile('friend*',re.I)\n",
    "\n",
    "for t in re.findall(p,text):\n",
    "    print(t)"
   ]
  },
  {
   "cell_type": "markdown",
   "id": "e591461b",
   "metadata": {},
   "source": [
    "- 한 글자씩 추출"
   ]
  },
  {
   "cell_type": "code",
   "execution_count": 34,
   "id": "7a445037",
   "metadata": {},
   "outputs": [
    {
     "name": "stdout",
     "output_type": "stream",
     "text": [
      "F r i e n d f R i e n d f r i E n d F R I E N D "
     ]
    }
   ],
   "source": [
    "#방법1\n",
    "\n",
    "words=re.findall('[\\w]',text)\n",
    "\n",
    "for w in words:\n",
    "    print(w,end=\" \")"
   ]
  },
  {
   "cell_type": "code",
   "execution_count": 9,
   "id": "24632005",
   "metadata": {},
   "outputs": [
    {
     "name": "stdout",
     "output_type": "stream",
     "text": [
      "F r i e n d f R i e n d f r i E n d F R I E N D "
     ]
    }
   ],
   "source": [
    "#방법2\n",
    "\n",
    "p=re.compile('[a-z]',re.IGNORECASE)\n",
    "\n",
    "for i in re.findall(p,text):\n",
    "    print(i,end=' ')"
   ]
  },
  {
   "cell_type": "markdown",
   "id": "c574d9aa",
   "metadata": {},
   "source": [
    "#### Q34. 1609160537.371015을 \"Sat Jun 26 08:35:03 2021\" 포멧으로 출력하세요."
   ]
  },
  {
   "cell_type": "code",
   "execution_count": 14,
   "id": "0e51dc11",
   "metadata": {},
   "outputs": [],
   "source": [
    "time=1609160537.371015"
   ]
  },
  {
   "cell_type": "code",
   "execution_count": 16,
   "id": "e39dd473",
   "metadata": {},
   "outputs": [
    {
     "data": {
      "text/plain": [
       "'Mon Dec 28 22:02:17 2020'"
      ]
     },
     "execution_count": 16,
     "metadata": {},
     "output_type": "execute_result"
    }
   ],
   "source": [
    "#방법1\n",
    "\n",
    "from datetime import datetime \n",
    "\n",
    "date=datetime.fromtimestamp(time)\n",
    "date.strftime('%c')"
   ]
  },
  {
   "cell_type": "code",
   "execution_count": 18,
   "id": "5de67832",
   "metadata": {},
   "outputs": [
    {
     "data": {
      "text/plain": [
       "'Mon Dec 28 22:02:17 2020'"
      ]
     },
     "execution_count": 18,
     "metadata": {},
     "output_type": "execute_result"
    }
   ],
   "source": [
    "#방법2\n",
    "import time\n",
    "\n",
    "timestring=time.ctime(1609160537.371015)\n",
    "timestring"
   ]
  },
  {
   "cell_type": "markdown",
   "id": "2945ff13",
   "metadata": {},
   "source": [
    "- ctime() 함수는 주어진 timestamp를 현지 시간대 기준으로 소위 미국에서 흔히 사용되는 요 월 일 시:분:초 년 포멧으로 변환해줍니다. 그냥 간단하게 timestamp가 나타내는 날짜와 시간을 확인해보는 용도로 쓰기에 좋습니다.\n"
   ]
  },
  {
   "cell_type": "code",
   "execution_count": 20,
   "id": "c2553f8f",
   "metadata": {},
   "outputs": [
    {
     "data": {
      "text/plain": [
       "'Mon Dec 28 22:17:17 2020'"
      ]
     },
     "execution_count": 20,
     "metadata": {},
     "output_type": "execute_result"
    }
   ],
   "source": [
    "#방법3\n",
    "\n",
    "from datetime import datetime\n",
    "\n",
    "time = datetime.fromtimestamp(1609160537.371015)\n",
    "time = time.strftime(\"%a %b %d %H:%S:%S %Y\")\n",
    "time"
   ]
  },
  {
   "cell_type": "markdown",
   "id": "3fb116cc",
   "metadata": {},
   "source": [
    "#### Q35.  현재 날짜와 시간을 \"Sat Jun 26 08:35:03 2021\" 포멧으로 출력하세요.\n"
   ]
  },
  {
   "cell_type": "code",
   "execution_count": 44,
   "id": "7b387d01",
   "metadata": {},
   "outputs": [
    {
     "data": {
      "text/plain": [
       "'Mon Jul 25 20:43:26 2022'"
      ]
     },
     "execution_count": 44,
     "metadata": {},
     "output_type": "execute_result"
    }
   ],
   "source": [
    "now=datetime.now()\n",
    "\n",
    "now.strftime('%c')    #Local version의 날짜와 시간"
   ]
  },
  {
   "cell_type": "markdown",
   "id": "7f29aa61",
   "metadata": {},
   "source": [
    "# 07/26"
   ]
  },
  {
   "cell_type": "markdown",
   "id": "8c378dfd",
   "metadata": {},
   "source": [
    "#### Q36. 현재 시간을 년-월-일 시:분:초로 출력하세요."
   ]
  },
  {
   "cell_type": "code",
   "execution_count": 31,
   "id": "5c360201",
   "metadata": {},
   "outputs": [
    {
     "name": "stdout",
     "output_type": "stream",
     "text": [
      "2022-07-26 17:38:39\n"
     ]
    }
   ],
   "source": [
    "from datetime import datetime \n",
    "\n",
    "now = datetime.now()\n",
    "\n",
    "print(now.strftime('%Y-%m-%d %H:%M:%S'))"
   ]
  },
  {
   "cell_type": "markdown",
   "id": "42ce1e0b",
   "metadata": {},
   "source": [
    "#### Q37. 현재 시간을 time.time을 불러와서 년-월-일 시:분:초로 출력하세요.\n"
   ]
  },
  {
   "cell_type": "code",
   "execution_count": 35,
   "id": "2e098b5b",
   "metadata": {},
   "outputs": [
    {
     "name": "stdout",
     "output_type": "stream",
     "text": [
      "2022-07-26 17:40:53\n"
     ]
    }
   ],
   "source": [
    "import time \n",
    "from datetime import datetime \n",
    "\n",
    "now = time.time()\n",
    "now_datetime = datetime.fromtimestamp(now)\n",
    "\n",
    "print(now_datetime.strftime('%Y-%m-%d %H:%M:%S'))"
   ]
  },
  {
   "cell_type": "markdown",
   "id": "ef8ff8ba",
   "metadata": {},
   "source": [
    "#### Q38. 올해 경과된 날짜수 계산하세요\n"
   ]
  },
  {
   "cell_type": "code",
   "execution_count": 64,
   "id": "6e7b595b",
   "metadata": {},
   "outputs": [
    {
     "name": "stdout",
     "output_type": "stream",
     "text": [
      "올해 경과된 날짜수는 206일 입니다.\n"
     ]
    }
   ],
   "source": [
    "from datetime import datetime \n",
    "\n",
    "startday = datetime.strptime('2022-01-01','%Y-%m-%d')\n",
    "now = datetime.now()\n",
    "\n",
    "days = now - startday\n",
    "\n",
    "print(f'올해 경과된 날짜수는 {days.days}일 입니다.')"
   ]
  },
  {
   "cell_type": "markdown",
   "id": "2f7c0ded",
   "metadata": {},
   "source": [
    "#### Q39. 현재 요일을 \"2021-6-26 오늘은 토요일입니다.\"와 같은 형식으로 출력하세요.\n"
   ]
  },
  {
   "cell_type": "code",
   "execution_count": 119,
   "id": "ad3e5853",
   "metadata": {
    "scrolled": true
   },
   "outputs": [],
   "source": [
    "now=datetime.now()"
   ]
  },
  {
   "cell_type": "code",
   "execution_count": 120,
   "id": "2be50056",
   "metadata": {},
   "outputs": [],
   "source": [
    "def get_yoil(x):\n",
    "    n = x.weekday()\n",
    "    \n",
    "    date = x.strftime('%Y-%m-%d')\n",
    "    yoil = ['월요일','화요일','수요일','목요일','금요일','토요일','일요일']\n",
    "    \n",
    "    return date, yoil[n]"
   ]
  },
  {
   "cell_type": "code",
   "execution_count": 122,
   "id": "36593145",
   "metadata": {},
   "outputs": [
    {
     "name": "stdout",
     "output_type": "stream",
     "text": [
      "2022-07-26 오늘은 화요일입니다.\n"
     ]
    }
   ],
   "source": [
    "print(f'{get_yoil(now)[0]} 오늘은 {get_yoil(now)[1]}입니다.')"
   ]
  },
  {
   "cell_type": "markdown",
   "id": "2c8218a0",
   "metadata": {},
   "source": [
    "#### Q40. 1에서 백만까지 더하는데 걸리는 프로그램 실행 시간을 밀리초(ms) 단위로 구하세요."
   ]
  },
  {
   "cell_type": "code",
   "execution_count": 1,
   "id": "a3aa4740",
   "metadata": {},
   "outputs": [
    {
     "name": "stdout",
     "output_type": "stream",
     "text": [
      "98789 밀리초(ms)\n"
     ]
    }
   ],
   "source": [
    "import time \n",
    "from datetime import datetime \n",
    "\n",
    "n=0\n",
    "\n",
    "start_time = datetime.now()\n",
    "\n",
    "for i in range(1000000):\n",
    "    n += 1\n",
    "    \n",
    "end_time = datetime.now()\n",
    "\n",
    "print(f'{(end_time - start_time).microseconds} 밀리초(ms)')"
   ]
  },
  {
   "cell_type": "code",
   "execution_count": 2,
   "id": "7aec4428",
   "metadata": {},
   "outputs": [
    {
     "name": "stdout",
     "output_type": "stream",
     "text": [
      "34861 밀리초(ms)\n"
     ]
    }
   ],
   "source": [
    "import time \n",
    "from datetime import datetime \n",
    "\n",
    "n=0\n",
    "\n",
    "start_time = datetime.now()\n",
    "\n",
    "sum(range(1,1000001))\n",
    "    \n",
    "end_time = datetime.now()\n",
    "\n",
    "print(f'{(end_time - start_time).microseconds} 밀리초(ms)')"
   ]
  },
  {
   "cell_type": "markdown",
   "id": "0e02c4df",
   "metadata": {},
   "source": [
    "# 07/27"
   ]
  },
  {
   "cell_type": "markdown",
   "id": "fb4d6ff8",
   "metadata": {},
   "source": [
    "#### Q41. 아래 코드를 보완하여 발생 가능한 모든 예외(정수, 인덱스, 미리 파악하지 못한 예외)를 처리한 후 마지막에  '모든 예외처리 완료'를 출력하세요.\n",
    "- list_num = [52,273,32,72,100]\n",
    "\n",
    "- num_input = int(input('정수 입력> '))\n",
    "- print(f'{num_input}번째 요소: {list_num[num_input-1]}')"
   ]
  },
  {
   "cell_type": "code",
   "execution_count": 13,
   "id": "35a37be1",
   "metadata": {},
   "outputs": [
    {
     "name": "stdout",
     "output_type": "stream",
     "text": [
      "정수 입력> 9\n",
      "※ 경고: 정수만 입력해주세요\n",
      "정수 입력> 45\n",
      "※ 경고: 정수만 입력해주세요\n",
      "정수 입력> 2\n",
      "2번째 요소: 273\n",
      "모든 예외처리 완료\n"
     ]
    }
   ],
   "source": [
    "# IndexError: list index out of range\n",
    "# ValueError: invalid literal for int() with base 10: '2.3'\n",
    "# ValueError: invalid literal for int() with base 10: '정수'\n",
    "\n",
    "while True:\n",
    "    try:\n",
    "        list_num = [52,273,32,72,100]\n",
    "        num_input = int(input('정수 입력> '))\n",
    "        print(f'{num_input}번째 요소: {list_num[num_input-1]}')  \n",
    "\n",
    "    except:\n",
    "        if (IndexError):\n",
    "            print('※ 경고: 정수만 입력해주세요')\n",
    "            continue\n",
    "            \n",
    "        if (ValueError):\n",
    "            print('※ 경고: -4 ~ 5 사이의 숫자만 입력해주세요.')\n",
    "            continue\n",
    "\n",
    "    finally:\n",
    "        if num_input>=-4 & num_input<=5:\n",
    "            print('모든 예외처리 완료')\n",
    "            break\n",
    "    \n"
   ]
  },
  {
   "cell_type": "markdown",
   "id": "f4e69365",
   "metadata": {},
   "source": [
    "#### Q42. 기본가격 1000원인 2개의 상품에 대하여 임의의 추가 가격을 입력시 가격 조정한 결과를 반환하는 Price 클래스를 생성 후 객체를 만들어 price1, price2를 수행하세요. \n",
    "- price1 : 기본가격 + 추가가격\n",
    "- price2 : (기본가격 + 추가가격) * 90%\n"
   ]
  },
  {
   "cell_type": "code",
   "execution_count": 55,
   "id": "9b048923",
   "metadata": {},
   "outputs": [],
   "source": [
    "#방법1\n",
    "\n",
    "class Price:\n",
    "    def __init__(self):\n",
    "        self.price1 = 1000      \n",
    "        self.price2 = 1000      \n",
    "        \n",
    "    def add(self, n, add):\n",
    "        self.add = add\n",
    "        self.n = n\n",
    "        \n",
    "        if self.n == 1:\n",
    "            self.price1 += self.add\n",
    "            return f'price1의 기본 가격이 \"{self.price1}원\"으로 변경되었습니다.'\n",
    "        elif self.n == 2:\n",
    "            self.price2 += self.add\n",
    "            self.price2 *= 0.9\n",
    "            self.price2 = int(self.price2)\n",
    "            return f'price2의 기본 가격이 \"{self.price2}원\"으로 변경되었습니다.'\n",
    "    \n"
   ]
  },
  {
   "cell_type": "code",
   "execution_count": 56,
   "id": "b52e0cbd",
   "metadata": {},
   "outputs": [
    {
     "data": {
      "text/plain": [
       "'price1의 기본 가격이 \"1300원\"으로 변경되었습니다.'"
      ]
     },
     "execution_count": 56,
     "metadata": {},
     "output_type": "execute_result"
    }
   ],
   "source": [
    "price = Price()\n",
    "price.add(1,300)"
   ]
  },
  {
   "cell_type": "code",
   "execution_count": 57,
   "id": "f89ae322",
   "metadata": {},
   "outputs": [
    {
     "data": {
      "text/plain": [
       "'price2의 기본 가격이 \"1800원\"으로 변경되었습니다.'"
      ]
     },
     "execution_count": 57,
     "metadata": {},
     "output_type": "execute_result"
    }
   ],
   "source": [
    "price = Price()\n",
    "price.add(2,1000)"
   ]
  },
  {
   "cell_type": "code",
   "execution_count": 70,
   "id": "fd419d9d",
   "metadata": {},
   "outputs": [],
   "source": [
    "#방법2\n",
    "\n",
    "class Price:\n",
    "    def __init__(self):\n",
    "        self.price1 = 1000      \n",
    "        self.price2 = 1000      \n",
    "        \n",
    "    def price1_add(self, add):\n",
    "        self.add = add\n",
    "        self.price1 += self.add\n",
    "        return f'price1의 기본 가격이 \"{str(self.price1)}원\"으로 변경되었습니다.'\n",
    "    \n",
    "    def price2_add(self, add):\n",
    "        self.add = add    \n",
    "        self.price2 = int((self.price2 + self.add)*0.9)\n",
    "        return f'price2의 기본 가격이 \"{str(self.price2)}원\"으로 변경되었습니다.'\n",
    "    "
   ]
  },
  {
   "cell_type": "code",
   "execution_count": 73,
   "id": "5b09b849",
   "metadata": {},
   "outputs": [
    {
     "data": {
      "text/plain": [
       "'price1의 기본 가격이 \"1500원\"으로 변경되었습니다.'"
      ]
     },
     "execution_count": 73,
     "metadata": {},
     "output_type": "execute_result"
    }
   ],
   "source": [
    "price = Price()\n",
    "price.price1_add(500)"
   ]
  },
  {
   "cell_type": "code",
   "execution_count": 74,
   "id": "1d28e14d",
   "metadata": {},
   "outputs": [
    {
     "data": {
      "text/plain": [
       "'price2의 기본 가격이 \"2700원\"으로 변경되었습니다.'"
      ]
     },
     "execution_count": 74,
     "metadata": {},
     "output_type": "execute_result"
    }
   ],
   "source": [
    "price.price2_add(2000)"
   ]
  },
  {
   "cell_type": "markdown",
   "id": "5af3a710",
   "metadata": {},
   "source": [
    "#### Q43. strings를 문자의 크기 순서로 내림차순 정렬하세요\n",
    "- strings = ['a', 'ca', 'bar', 'aaaa', 'ababa']\n"
   ]
  },
  {
   "cell_type": "code",
   "execution_count": 2,
   "id": "c3a4d23d",
   "metadata": {},
   "outputs": [],
   "source": [
    "strings = ['a', 'ca', 'bar', 'aaaa', 'ababa']"
   ]
  },
  {
   "cell_type": "code",
   "execution_count": 8,
   "id": "cc0c5f4c",
   "metadata": {},
   "outputs": [
    {
     "data": {
      "text/plain": [
       "['ababa', 'aaaa', 'bar', 'ca', 'a']"
      ]
     },
     "execution_count": 8,
     "metadata": {},
     "output_type": "execute_result"
    }
   ],
   "source": [
    "#방법1\n",
    "\n",
    "strings.sort(key = lambda x: len(x), reverse=True)\n",
    "strings"
   ]
  },
  {
   "cell_type": "code",
   "execution_count": 9,
   "id": "dcb1d4cc",
   "metadata": {},
   "outputs": [
    {
     "name": "stdout",
     "output_type": "stream",
     "text": [
      "['ababa', 'aaaa', 'bar', 'ca', 'a']\n"
     ]
    }
   ],
   "source": [
    "#방법2\n",
    "\n",
    "strings.sort(key = len)\n",
    "strings.reverse()\n",
    "print(strings)"
   ]
  },
  {
   "cell_type": "code",
   "execution_count": 10,
   "id": "af0ee819",
   "metadata": {},
   "outputs": [
    {
     "data": {
      "text/plain": [
       "['ababa', 'aaaa', 'bar', 'ca', 'a']"
      ]
     },
     "execution_count": 10,
     "metadata": {},
     "output_type": "execute_result"
    }
   ],
   "source": [
    "#방법3\n",
    "\n",
    "strings.sort(key = len, reverse=True)\n",
    "strings"
   ]
  },
  {
   "cell_type": "markdown",
   "id": "687dd13b",
   "metadata": {},
   "source": [
    "#### Q44. strings를 다양한 문자가 포함된 순서로 정렬하세요\n",
    "\n",
    "- strings = ['foo', 'card', 'bar', 'aaaa', 'abab']\n",
    "- strings.sort(key = lambda x:len(set(x)))\n",
    "- strings\n"
   ]
  },
  {
   "cell_type": "code",
   "execution_count": 21,
   "id": "df4cd07e",
   "metadata": {},
   "outputs": [
    {
     "data": {
      "text/plain": [
       "['card', 'bar', 'foo', 'abab', 'aaaa']"
      ]
     },
     "execution_count": 21,
     "metadata": {},
     "output_type": "execute_result"
    }
   ],
   "source": [
    "strings = ['foo', 'card', 'bar', 'aaaa', 'abab']\n",
    "\n",
    "strings.sort(key = lambda x:len(set(x)), reverse=True)\n",
    "strings"
   ]
  },
  {
   "cell_type": "markdown",
   "id": "0db53672",
   "metadata": {},
   "source": [
    "#### Q45. 'abcde' 를 'edcba'로 바꾸어 출력하세요.(5가지 방법)\n"
   ]
  },
  {
   "cell_type": "code",
   "execution_count": 12,
   "id": "ef5c4115",
   "metadata": {},
   "outputs": [],
   "source": [
    "word='abcde'"
   ]
  },
  {
   "cell_type": "code",
   "execution_count": 13,
   "id": "0e8c92b0",
   "metadata": {},
   "outputs": [
    {
     "data": {
      "text/plain": [
       "'edcba'"
      ]
     },
     "execution_count": 13,
     "metadata": {},
     "output_type": "execute_result"
    }
   ],
   "source": [
    "#방법1\n",
    "\n",
    "word[4]+word[3]+word[2]+word[1]+word[0]"
   ]
  },
  {
   "cell_type": "code",
   "execution_count": 14,
   "id": "1847617a",
   "metadata": {},
   "outputs": [
    {
     "data": {
      "text/plain": [
       "'edcba'"
      ]
     },
     "execution_count": 14,
     "metadata": {},
     "output_type": "execute_result"
    }
   ],
   "source": [
    "#방법2\n",
    "\n",
    "word[-1]+word[-2]+word[-3]+word[-4]+word[-5]"
   ]
  },
  {
   "cell_type": "code",
   "execution_count": 15,
   "id": "224699cb",
   "metadata": {},
   "outputs": [
    {
     "data": {
      "text/plain": [
       "'edcba'"
      ]
     },
     "execution_count": 15,
     "metadata": {},
     "output_type": "execute_result"
    }
   ],
   "source": [
    "#방법3\n",
    "\n",
    "word[-1::-1]"
   ]
  },
  {
   "cell_type": "code",
   "execution_count": 16,
   "id": "36dbddca",
   "metadata": {},
   "outputs": [
    {
     "data": {
      "text/plain": [
       "'edcba'"
      ]
     },
     "execution_count": 16,
     "metadata": {},
     "output_type": "execute_result"
    }
   ],
   "source": [
    "#방법4\n",
    "\n",
    "word[5::-1]"
   ]
  },
  {
   "cell_type": "code",
   "execution_count": 17,
   "id": "6de536f5",
   "metadata": {},
   "outputs": [
    {
     "data": {
      "text/plain": [
       "'edcba'"
      ]
     },
     "execution_count": 17,
     "metadata": {},
     "output_type": "execute_result"
    }
   ],
   "source": [
    "#방법5\n",
    "\n",
    "''.join(sorted(word, reverse=True))"
   ]
  },
  {
   "cell_type": "markdown",
   "id": "c8a4e9bb",
   "metadata": {},
   "source": [
    "# 07/28"
   ]
  },
  {
   "cell_type": "markdown",
   "id": "4b4a9a82",
   "metadata": {},
   "source": [
    "#### Q46. numbers 내부에 들어 있는 숫자가 몇 번 등장하는지를 출력하는 코드를 작성하세요.\n",
    "numbers = [3,6,3,5,8,2,9,7,4,3,6,3,5,8,2,9,7,4]\n"
   ]
  },
  {
   "cell_type": "code",
   "execution_count": 29,
   "id": "1713931a",
   "metadata": {},
   "outputs": [],
   "source": [
    "numbers = [3,6,3,5,8,2,9,7,4,3,6,3,5,8,2,9,7,4]"
   ]
  },
  {
   "cell_type": "code",
   "execution_count": 34,
   "id": "29d8cbff",
   "metadata": {},
   "outputs": [],
   "source": [
    "def numbering(x):\n",
    "    set_x = sorted(list(set(x)))\n",
    "    \n",
    "    for i in set_x:\n",
    "        print(f'입력하신 리스트에 \"{i}\"가 {x.count(i)}개 존재합니다.')"
   ]
  },
  {
   "cell_type": "code",
   "execution_count": 35,
   "id": "b0e74e00",
   "metadata": {},
   "outputs": [
    {
     "name": "stdout",
     "output_type": "stream",
     "text": [
      "입력하신 리스트에 \"2\"가 2개 존재합니다.\n",
      "입력하신 리스트에 \"3\"가 4개 존재합니다.\n",
      "입력하신 리스트에 \"4\"가 2개 존재합니다.\n",
      "입력하신 리스트에 \"5\"가 2개 존재합니다.\n",
      "입력하신 리스트에 \"6\"가 2개 존재합니다.\n",
      "입력하신 리스트에 \"7\"가 2개 존재합니다.\n",
      "입력하신 리스트에 \"8\"가 2개 존재합니다.\n",
      "입력하신 리스트에 \"9\"가 2개 존재합니다.\n"
     ]
    }
   ],
   "source": [
    "numbering(numbers)"
   ]
  },
  {
   "cell_type": "markdown",
   "id": "e011a76b",
   "metadata": {},
   "source": [
    "#### Q47. 코딩을 한줄로 작성해서 동일한 결과를 출력하세요"
   ]
  },
  {
   "cell_type": "code",
   "execution_count": null,
   "id": "d1b5de30",
   "metadata": {},
   "outputs": [],
   "source": [
    "list = []\n",
    "for i in range(0,20,2):\n",
    "    list.append(i*i)\n",
    "print(list())"
   ]
  },
  {
   "cell_type": "code",
   "execution_count": 36,
   "id": "9676d0da",
   "metadata": {},
   "outputs": [
    {
     "name": "stdout",
     "output_type": "stream",
     "text": [
      "[0, 2, 4, 6, 8, 10, 12, 14, 16, 18]\n"
     ]
    }
   ],
   "source": [
    "print([i for i in range(0,20,2)])"
   ]
  },
  {
   "cell_type": "markdown",
   "id": "9d6b6239",
   "metadata": {},
   "source": [
    "#### Q48. 반복문으로 팩토리얼을 구하는 사용자 함수를 작성하고 5!, 10!를 구하세요."
   ]
  },
  {
   "cell_type": "code",
   "execution_count": 43,
   "id": "ca9f9767",
   "metadata": {},
   "outputs": [],
   "source": [
    "def factorial_1(n):\n",
    "    y=1\n",
    "    for i in range(1,n+1):\n",
    "        y *= i\n",
    "    return y"
   ]
  },
  {
   "cell_type": "code",
   "execution_count": 44,
   "id": "4b87d27a",
   "metadata": {},
   "outputs": [
    {
     "data": {
      "text/plain": [
       "120"
      ]
     },
     "execution_count": 44,
     "metadata": {},
     "output_type": "execute_result"
    }
   ],
   "source": [
    "factorial_1(5) "
   ]
  },
  {
   "cell_type": "code",
   "execution_count": 46,
   "id": "497a989f",
   "metadata": {},
   "outputs": [
    {
     "data": {
      "text/plain": [
       "3628800"
      ]
     },
     "execution_count": 46,
     "metadata": {},
     "output_type": "execute_result"
    }
   ],
   "source": [
    "factorial_1(10)"
   ]
  },
  {
   "cell_type": "markdown",
   "id": "8cdfd3e1",
   "metadata": {},
   "source": [
    "#### Q49. 재귀란 '자기자신을 호출하는 것'을 의미한다. 재귀함수를 이용해서 팩토리얼을 구하는 사용자 함수를 작성하고 1!, 5!, 10!를 구하세요.\n",
    "factorial(n) = n * factorial(n-1) (n >= 1)\n"
   ]
  },
  {
   "cell_type": "code",
   "execution_count": 47,
   "id": "ada05208",
   "metadata": {},
   "outputs": [],
   "source": [
    "def factorial_2(n):\n",
    "    if n == 1:\n",
    "        return 1\n",
    "    return factorial(n-1)*n"
   ]
  },
  {
   "cell_type": "code",
   "execution_count": 48,
   "id": "2f2aba67",
   "metadata": {},
   "outputs": [
    {
     "data": {
      "text/plain": [
       "1"
      ]
     },
     "execution_count": 48,
     "metadata": {},
     "output_type": "execute_result"
    }
   ],
   "source": [
    "factorial_2(1)"
   ]
  },
  {
   "cell_type": "code",
   "execution_count": 49,
   "id": "432df8a2",
   "metadata": {},
   "outputs": [
    {
     "data": {
      "text/plain": [
       "120"
      ]
     },
     "execution_count": 49,
     "metadata": {},
     "output_type": "execute_result"
    }
   ],
   "source": [
    "factorial(5)"
   ]
  },
  {
   "cell_type": "code",
   "execution_count": 50,
   "id": "3578bdb3",
   "metadata": {
    "scrolled": true
   },
   "outputs": [
    {
     "data": {
      "text/plain": [
       "3628800"
      ]
     },
     "execution_count": 50,
     "metadata": {},
     "output_type": "execute_result"
    }
   ],
   "source": [
    "factorial(10)"
   ]
  },
  {
   "cell_type": "markdown",
   "id": "d12ecf06",
   "metadata": {},
   "source": [
    "#### Q50. list a의 모든 원소를 실수형으로 바꾸어 출력하세요\n",
    "a = [1,2,3,4,5]"
   ]
  },
  {
   "cell_type": "code",
   "execution_count": 1,
   "id": "62094c20",
   "metadata": {},
   "outputs": [],
   "source": [
    "a = [1,2,3,4,5]"
   ]
  },
  {
   "cell_type": "code",
   "execution_count": 2,
   "id": "2a443fe4",
   "metadata": {},
   "outputs": [
    {
     "data": {
      "text/plain": [
       "[1.0, 2.0, 3.0, 4.0, 5.0]"
      ]
     },
     "execution_count": 2,
     "metadata": {},
     "output_type": "execute_result"
    }
   ],
   "source": [
    "float_a = [ float(i) for i in a ]\n",
    "float_a"
   ]
  },
  {
   "cell_type": "code",
   "execution_count": 3,
   "id": "639373ba",
   "metadata": {},
   "outputs": [
    {
     "data": {
      "text/plain": [
       "[1.0, 2.0, 3.0, 4.0, 5.0]"
      ]
     },
     "execution_count": 3,
     "metadata": {},
     "output_type": "execute_result"
    }
   ],
   "source": [
    "for i, j in enumerate(a):\n",
    "    a[i] = float(j)\n",
    "a"
   ]
  },
  {
   "cell_type": "code",
   "execution_count": 4,
   "id": "0361ed25",
   "metadata": {},
   "outputs": [
    {
     "data": {
      "text/plain": [
       "[1.0, 2.0, 3.0, 4.0, 5.0]"
      ]
     },
     "execution_count": 4,
     "metadata": {},
     "output_type": "execute_result"
    }
   ],
   "source": [
    "list(map(lambda x: float(x),a))"
   ]
  },
  {
   "cell_type": "markdown",
   "id": "88b9cb83",
   "metadata": {},
   "source": [
    "# 07/29"
   ]
  },
  {
   "cell_type": "markdown",
   "id": "3cbcbd48",
   "metadata": {},
   "source": [
    "#### Q.31 [도전과제] 문자열 리스트 states를 정형화하여 아래와 같이 출력하세요.\n"
   ]
  },
  {
   "cell_type": "code",
   "execution_count": 18,
   "id": "5ae4d0f3",
   "metadata": {},
   "outputs": [
    {
     "data": {
      "text/plain": [
       "\"\\n[출력]\\n['Alabama',\\n 'Georgia',\\n 'Georgia',\\n 'Georgia',\\n 'Florida',\\n 'South   Carolina',\\n 'West Virginia']\\n \""
      ]
     },
     "execution_count": 18,
     "metadata": {},
     "output_type": "execute_result"
    }
   ],
   "source": [
    "states = ['   Alabama ', 'Georgia!', 'Georgia', 'georgia', 'FlOrIda',\n",
    "          'south   carolina##', 'West virginia?']\n",
    "'''\n",
    "[출력]\n",
    "['Alabama',\n",
    " 'Georgia',\n",
    " 'Georgia',\n",
    " 'Georgia',\n",
    " 'Florida',\n",
    " 'South   Carolina',\n",
    " 'West Virginia']\n",
    "'''"
   ]
  },
  {
   "cell_type": "code",
   "execution_count": 39,
   "id": "54e50b77",
   "metadata": {},
   "outputs": [],
   "source": [
    "import re\n",
    "def cleaning(x):\n",
    "    cleaned_data = []\n",
    "    for i in x:\n",
    "        i = re.search('[a-zA-Z\\s]+',i).group()        # 문자, 공백으로 이루어진 부분 찾기\n",
    "        i = i.strip()                             # 양 옆 공백 제거\n",
    "        i = i.lower().title()                     # 소문자화-> 단어 첫글자만 대문자화\n",
    "        cleaned_data.append(i)\n",
    "    return cleaned_data"
   ]
  },
  {
   "cell_type": "code",
   "execution_count": 40,
   "id": "1884d88a",
   "metadata": {},
   "outputs": [
    {
     "data": {
      "text/plain": [
       "['Alabama',\n",
       " 'Georgia',\n",
       " 'Georgia',\n",
       " 'Georgia',\n",
       " 'Florida',\n",
       " 'South   Carolina',\n",
       " 'West Virginia']"
      ]
     },
     "execution_count": 40,
     "metadata": {},
     "output_type": "execute_result"
    }
   ],
   "source": [
    "cleaning(states)"
   ]
  },
  {
   "cell_type": "markdown",
   "id": "ea394ad2",
   "metadata": {},
   "source": [
    "#### Q51. 게시물의 총 건수와 한 페이지에 보여 줄 게시물 수를 입력시 총 페이지 수를 출력하는 프로그램"
   ]
  },
  {
   "cell_type": "markdown",
   "id": "a2367932",
   "metadata": {},
   "source": [
    "인자:게시물의 총 건수,한 페이지에 보여 줄 게시물 수"
   ]
  },
  {
   "cell_type": "code",
   "execution_count": 61,
   "id": "0f6cdc9d",
   "metadata": {},
   "outputs": [],
   "source": [
    "def page_num(all_n, one_n):\n",
    "    return all_n // one_n +1"
   ]
  },
  {
   "cell_type": "code",
   "execution_count": 69,
   "id": "9414b864",
   "metadata": {},
   "outputs": [
    {
     "name": "stdout",
     "output_type": "stream",
     "text": [
      ">> 원하시는 게시물의 총 건수와 한 페이지에 보여줄 게시물 수를 출력해주세요.\n",
      "ex)10,4\n",
      "28,9\n",
      "\n",
      "총 페이지 수: 4p\n"
     ]
    }
   ],
   "source": [
    "x =input('>> 원하시는 게시물의 총 건수와 한 페이지에 보여줄 게시물 수를 출력해주세요.\\nex)10,4\\n')\n",
    "\n",
    "all_n = int(x.split(',')[0])\n",
    "one_n = int(x.split(',')[1])\n",
    "\n",
    "p = page_num(all_n, one_n)\n",
    "print('\\n총 페이지 수: '+str(p)+'p')"
   ]
  },
  {
   "cell_type": "markdown",
   "id": "d930fee3",
   "metadata": {},
   "source": [
    "#### Q52. 랜덤하게 1000명의 이름, 키와 몸무게 만들어 저장한 후 다시 불러내어 다음과 같이 출력하세요.\n",
    "\n",
    "- 이름 :라바\n",
    "- 몸무게: 80\n",
    "- 키: 146\n",
    "- BMI: 37.53049352598987\n",
    "- 결과: 과체중\n"
   ]
  },
  {
   "cell_type": "code",
   "execution_count": 59,
   "id": "0d5ad641",
   "metadata": {},
   "outputs": [
    {
     "data": {
      "text/html": [
       "<div>\n",
       "<style scoped>\n",
       "    .dataframe tbody tr th:only-of-type {\n",
       "        vertical-align: middle;\n",
       "    }\n",
       "\n",
       "    .dataframe tbody tr th {\n",
       "        vertical-align: top;\n",
       "    }\n",
       "\n",
       "    .dataframe thead th {\n",
       "        text-align: right;\n",
       "    }\n",
       "</style>\n",
       "<table border=\"1\" class=\"dataframe\">\n",
       "  <thead>\n",
       "    <tr style=\"text-align: right;\">\n",
       "      <th></th>\n",
       "      <th>Name</th>\n",
       "      <th>Weight</th>\n",
       "      <th>Height</th>\n",
       "      <th>BMI</th>\n",
       "      <th>Result</th>\n",
       "    </tr>\n",
       "  </thead>\n",
       "  <tbody>\n",
       "    <tr>\n",
       "      <th>0</th>\n",
       "      <td>정이매</td>\n",
       "      <td>77</td>\n",
       "      <td>187</td>\n",
       "      <td>22.02</td>\n",
       "      <td>정상</td>\n",
       "    </tr>\n",
       "    <tr>\n",
       "      <th>1</th>\n",
       "      <td>박투히</td>\n",
       "      <td>67</td>\n",
       "      <td>162</td>\n",
       "      <td>25.53</td>\n",
       "      <td>비만</td>\n",
       "    </tr>\n",
       "    <tr>\n",
       "      <th>2</th>\n",
       "      <td>이아사</td>\n",
       "      <td>70</td>\n",
       "      <td>189</td>\n",
       "      <td>19.60</td>\n",
       "      <td>정상</td>\n",
       "    </tr>\n",
       "    <tr>\n",
       "      <th>3</th>\n",
       "      <td>최자구</td>\n",
       "      <td>50</td>\n",
       "      <td>162</td>\n",
       "      <td>19.05</td>\n",
       "      <td>정상</td>\n",
       "    </tr>\n",
       "    <tr>\n",
       "      <th>4</th>\n",
       "      <td>윤다기</td>\n",
       "      <td>57</td>\n",
       "      <td>165</td>\n",
       "      <td>20.94</td>\n",
       "      <td>정상</td>\n",
       "    </tr>\n",
       "    <tr>\n",
       "      <th>5</th>\n",
       "      <td>이부라</td>\n",
       "      <td>94</td>\n",
       "      <td>152</td>\n",
       "      <td>40.69</td>\n",
       "      <td>비만</td>\n",
       "    </tr>\n",
       "    <tr>\n",
       "      <th>6</th>\n",
       "      <td>황아매</td>\n",
       "      <td>68</td>\n",
       "      <td>157</td>\n",
       "      <td>27.59</td>\n",
       "      <td>비만</td>\n",
       "    </tr>\n",
       "    <tr>\n",
       "      <th>7</th>\n",
       "      <td>최후채</td>\n",
       "      <td>65</td>\n",
       "      <td>161</td>\n",
       "      <td>25.08</td>\n",
       "      <td>비만</td>\n",
       "    </tr>\n",
       "    <tr>\n",
       "      <th>8</th>\n",
       "      <td>이바지</td>\n",
       "      <td>57</td>\n",
       "      <td>149</td>\n",
       "      <td>25.67</td>\n",
       "      <td>비만</td>\n",
       "    </tr>\n",
       "    <tr>\n",
       "      <th>9</th>\n",
       "      <td>김리차</td>\n",
       "      <td>47</td>\n",
       "      <td>142</td>\n",
       "      <td>23.31</td>\n",
       "      <td>과체중</td>\n",
       "    </tr>\n",
       "  </tbody>\n",
       "</table>\n",
       "</div>"
      ],
      "text/plain": [
       "  Name  Weight  Height    BMI Result\n",
       "0  정이매      77     187  22.02     정상\n",
       "1  박투히      67     162  25.53     비만\n",
       "2  이아사      70     189  19.60     정상\n",
       "3  최자구      50     162  19.05     정상\n",
       "4  윤다기      57     165  20.94     정상\n",
       "5  이부라      94     152  40.69     비만\n",
       "6  황아매      68     157  27.59     비만\n",
       "7  최후채      65     161  25.08     비만\n",
       "8  이바지      57     149  25.67     비만\n",
       "9  김리차      47     142  23.31    과체중"
      ]
     },
     "execution_count": 59,
     "metadata": {},
     "output_type": "execute_result"
    }
   ],
   "source": [
    "import random\n",
    "import numpy as np\n",
    "import pandas as pd\n",
    "\n",
    "word = '김이박최정윤황'\n",
    "word2 = '가나다라마바사아자차카타파하개내대래매배새애재채캐태패해기니디리미비시이지치키티피히구누두루무부수우주추쿠투푸후'\n",
    "\n",
    "#이름 랜덤 생성\n",
    "name = []\n",
    "for w in range(1000):\n",
    "    last_name = random.choice([i for i in word])\n",
    "    first_name = random.sample([i for i in word2],2)\n",
    "    full_name = last_name + ''.join(first_name)\n",
    "    name.append(full_name)\n",
    "    \n",
    "#몸무게 랜덤 생성\n",
    "weight = np.random.randint(40, 120, size = 1000)\n",
    "\n",
    "#키 랜덤 생성\n",
    "height = np.random.randint(140, 190, size = 1000)\n",
    "\n",
    "#기본 정보로 데이터프레임 생성\n",
    "df = pd.DataFrame(columns = ['Name','Weight','Height'])\n",
    "df['Name'] = name\n",
    "df['Weight'] = weight\n",
    "df['Height'] = height\n",
    "\n",
    "#BMI 컬럼 생성\n",
    "df['BMI'] = round(df['Weight']/(df['Height']/100*df['Height']/100),2)\n",
    "\n",
    "#비만도 컬럼 생성\n",
    "result = []\n",
    "for i in df['BMI']:\n",
    "    if i <= 18.5:\n",
    "        res = '저체중'\n",
    "    elif i < 23:\n",
    "        res = '정상'\n",
    "    elif i < 25:\n",
    "        res = '과체중'\n",
    "    else:\n",
    "        res = '비만'\n",
    "    result.append(res)\n",
    "df['Result'] = result\n",
    "\n",
    "df.head(10)"
   ]
  },
  {
   "cell_type": "markdown",
   "id": "d4bfcc2d",
   "metadata": {},
   "source": [
    "# 08/01"
   ]
  },
  {
   "cell_type": "markdown",
   "id": "b55b3aa8",
   "metadata": {},
   "source": [
    "#### Q53.입력한 숫자를 천 단위로 구분하여 출력하세요"
   ]
  },
  {
   "cell_type": "code",
   "execution_count": 1,
   "id": "130552bf",
   "metadata": {},
   "outputs": [],
   "source": [
    "def thousand(n):\n",
    "    return f'{n:,}'"
   ]
  },
  {
   "cell_type": "code",
   "execution_count": 2,
   "id": "195e370c",
   "metadata": {},
   "outputs": [
    {
     "data": {
      "text/plain": [
       "'4,512,145,878'"
      ]
     },
     "execution_count": 2,
     "metadata": {},
     "output_type": "execute_result"
    }
   ],
   "source": [
    "thousand(4512145878)"
   ]
  },
  {
   "cell_type": "markdown",
   "id": "010bf573",
   "metadata": {},
   "source": [
    "#### Q54. 카운터에서 거스름돈으로 사용할 500원,100원,50원,10원짜리 동전이 무한히 존재한다고 가정한다. 손님에게 거슬러 줘야할 돈이 N원일 때, 거슬러 줘야할 동전의 최소 개수를 구하세요. 단, 거슬러 줘야할 돈 N원은 항상 10의 배수이다. N은 2750원이다."
   ]
  },
  {
   "cell_type": "code",
   "execution_count": 8,
   "id": "23c3e836",
   "metadata": {},
   "outputs": [],
   "source": [
    "#방법1\n",
    "\n",
    "def change(price):\n",
    "    c1 = price//500\n",
    "    c2 = (price - 500*c1) // 100\n",
    "    c3 = (price - 500*c1 - 100*c2) //50\n",
    "    c4 = (price - 500*c1 - 100*c2 - 50*c3)//10\n",
    "    print('*****거스름돈*****\\n- 500원: '+str(c1)+'개\\n- 100원: '+str(c2)+'개\\n-  50원: '+str(c3)+'개\\n-  10원: '+str(c4)+'개')"
   ]
  },
  {
   "cell_type": "code",
   "execution_count": 15,
   "id": "d840b88e",
   "metadata": {},
   "outputs": [
    {
     "name": "stdout",
     "output_type": "stream",
     "text": [
      "*****거스름돈*****\n",
      "- 500원: 10개\n",
      "- 100원: 3개\n",
      "-  50원: 1개\n",
      "-  10원: 1개\n"
     ]
    }
   ],
   "source": [
    "change(5360)"
   ]
  },
  {
   "cell_type": "code",
   "execution_count": 7,
   "id": "f3add063",
   "metadata": {},
   "outputs": [],
   "source": [
    "#방법2\n",
    "\n",
    "def change(n):\n",
    "    n500, n100 = divmod(n,500)\n",
    "    n100, n50 = divmod(n100,100)\n",
    "    n50, n10 = divmod(n50,50)\n",
    "    n10, n = divmod(n10,10)\n",
    "    \n",
    "    print('*****거스름돈*****\\n- 500원: '+str(n500)+'개\\n- 100원: '+str(n100)+'개\\n-  50원: '+str(n50)+'개\\n-  10원: '+str(n10)+'개')\n"
   ]
  },
  {
   "cell_type": "code",
   "execution_count": 6,
   "id": "12f563da",
   "metadata": {},
   "outputs": [
    {
     "name": "stdout",
     "output_type": "stream",
     "text": [
      "*****거스름돈*****\n",
      "- 500원: 10개\n",
      "- 100원: 3개\n",
      "-  50원: 1개\n",
      "-  10원: 1개\n"
     ]
    }
   ],
   "source": [
    "change(5360)"
   ]
  },
  {
   "cell_type": "code",
   "execution_count": 11,
   "id": "448895ea",
   "metadata": {},
   "outputs": [
    {
     "name": "stdout",
     "output_type": "stream",
     "text": [
      "8\n"
     ]
    }
   ],
   "source": [
    "#방법3\n",
    "\n",
    "n = 2750\n",
    "count = 0\n",
    "\n",
    "# 큰 단위의 화폐부터 차례대로 확인하기\n",
    "coin_types = [500, 100, 50, 10]\n",
    "\n",
    "for coin in coin_types:\n",
    "    count += n // coin # 해당 화폐로 거슬러 줄 수 있는 동전의 개수 세기\n",
    "    n %= coin\n",
    "\n",
    "print(count)"
   ]
  },
  {
   "cell_type": "markdown",
   "id": "0961d9c8",
   "metadata": {},
   "source": [
    "# 08/02"
   ]
  },
  {
   "cell_type": "markdown",
   "id": "4d4f1886",
   "metadata": {},
   "source": [
    "#### Q55. dataset/mydata.txt 파일에 있는 단어 개수를 출력하세요."
   ]
  },
  {
   "cell_type": "code",
   "execution_count": 55,
   "id": "8f74fceb",
   "metadata": {},
   "outputs": [
    {
     "name": "stdout",
     "output_type": "stream",
     "text": [
      "총 단어의 개수: 213개\n"
     ]
    }
   ],
   "source": [
    "import re\n",
    "\n",
    "with open('dataset/mydata.txt','r') as fr:\n",
    "    mydata = fr.readlines()\n",
    "    mydata = ' '.join(mydata)\n",
    "    mydata = re.sub('\\s{1,}',' ',mydata)\n",
    "    mydata_list = re.findall('[\\w\\']+', mydata)\n",
    "# print(mydata_list)\n",
    "print('총 단어의 개수: '+ str(len([i for i in mydata_list])) + '개')"
   ]
  },
  {
   "cell_type": "code",
   "execution_count": 5,
   "id": "d34e765d",
   "metadata": {},
   "outputs": [
    {
     "name": "stdout",
     "output_type": "stream",
     "text": [
      "총 단어의 개수: 213개\n"
     ]
    }
   ],
   "source": [
    "import re\n",
    "with open('dataset/mydata.txt','r') as fr:\n",
    "    mydata = fr.read()\n",
    "    mydata = re.sub('\\s{1,}',' ',mydata)\n",
    "    mydata_list = re.findall('[\\w\\']+', mydata)\n",
    "print('총 단어의 개수: '+ str(len([i for i in mydata_list])) + '개')"
   ]
  },
  {
   "cell_type": "code",
   "execution_count": 9,
   "id": "545451da",
   "metadata": {},
   "outputs": [
    {
     "name": "stdout",
     "output_type": "stream",
     "text": [
      "we've\n",
      "there's\n",
      "won't\n",
      "don't\n",
      "you're\n",
      "it's\n",
      "it's\n",
      "it's\n",
      "총 단어의 개수: 219개\n"
     ]
    }
   ],
   "source": [
    "with open('dataset/mydata.txt','r') as fr:\n",
    "    mydata = fr.read()\n",
    "    mydata = re.sub('\\s{1,}',' ',mydata)\n",
    "    mydata_list = re.findall('[\\w\\']+', mydata)\n",
    "    mydata_word = []\n",
    "    for i in mydata_list:\n",
    "        try:\n",
    "            if len(re.search('[\\'](\\w+)',i).group(1)) > 0:\n",
    "                print(i)\n",
    "                if i[-1] == 't':\n",
    "                    if i == \"won't\":\n",
    "                        mydata_word.append('will','not')\n",
    "                    elif i == \"don't\":\n",
    "                        mydat_word.append('do','not')\n",
    "                else:\n",
    "                    mydata_word.append(i.split(\"'\")[0])\n",
    "                    if i.split(\"'\")[1] == 've':\n",
    "                        mydata_word.append('have')\n",
    "                    elif i.split(\"'\")[1] == 's':\n",
    "                        mydata_word.append('is')\n",
    "                    elif i.split(\"'\")[1]  == 're':\n",
    "                        mydata_word.append('are')\n",
    "        except:\n",
    "            mydata_word.append(i)\n",
    "# print(mydata_word)\n",
    "print('총 단어의 개수: '+ str(len(mydata_word)) + '개')"
   ]
  },
  {
   "cell_type": "markdown",
   "id": "65f2f258",
   "metadata": {},
   "source": [
    "#### Q56. 파일이름과 특정 단어를인자로 입력하면 그 파일에 있는 특정 단어의 개수를 반환하는 사용자 함수를 이용하여 mydata 파일에서 how의 개수를 출력하세요.\n"
   ]
  },
  {
   "cell_type": "code",
   "execution_count": 52,
   "id": "86f7e2e5",
   "metadata": {},
   "outputs": [],
   "source": [
    "def word_count(word):\n",
    "    with open('dataset/mydata.txt','r') as fr:\n",
    "        mydata = fr.readlines()\n",
    "        mydata = ' '.join(mydata)\n",
    "        mydata = re.sub('\\s{1,}',' ',mydata)\n",
    "        mydata_list = re.findall('[\\w\\']+', mydata)\n",
    "        cnt = mydata_list.count(word)\n",
    "        \n",
    "    print(f'단어 \"{word}\"의 개수: {cnt}개')\n",
    "    \n",
    "    "
   ]
  },
  {
   "cell_type": "code",
   "execution_count": 53,
   "id": "5ee7ee8e",
   "metadata": {},
   "outputs": [
    {
     "name": "stdout",
     "output_type": "stream",
     "text": [
      "단어 \"how\"의 개수: 2개\n"
     ]
    }
   ],
   "source": [
    "word_count('how')"
   ]
  },
  {
   "cell_type": "code",
   "execution_count": 15,
   "id": "1f4940fb",
   "metadata": {},
   "outputs": [],
   "source": [
    "def word_count(filename ,word):\n",
    "    with open('dataset/'+filename,'r') as fr:\n",
    "        mydata = fr.read()\n",
    "        mydata = re.sub('\\s{1,}',' ',mydata)\n",
    "        mydata_list = re.findall('[\\w\\']+', mydata)\n",
    "        \n",
    "    mydata_word = []\n",
    "    for i in mydata_list:\n",
    "        try:\n",
    "            if len(re.search('[\\'](\\w+)',i).group(1)) >= 1:\n",
    "#                 print(i)\n",
    "                if i[-1] == 't':\n",
    "                    if i == \"won't\":\n",
    "                        mydata_word.append('will','not')\n",
    "                    elif i == \"don't\":\n",
    "                        mydat_word.append('do','not')\n",
    "                else:\n",
    "                    mydata_word.append(i.split(\"'\")[0])\n",
    "                    if i.split(\"'\")[1] == 've':\n",
    "                        mydata_word.append('have')\n",
    "                    elif i.split(\"'\")[1] == 's':\n",
    "                        mydata_word.append('is')\n",
    "                    elif i.split(\"'\")[1]  == 're':\n",
    "                        mydata_word.append('are')\n",
    "        except:\n",
    "            mydata_word.append(i)\n",
    "            \n",
    "    cnt = mydata_word.count(word)\n",
    "\n",
    "    print(f'단어 \"{word}\"의 개수: {cnt}개')"
   ]
  },
  {
   "cell_type": "code",
   "execution_count": 16,
   "id": "307a8c32",
   "metadata": {},
   "outputs": [
    {
     "name": "stdout",
     "output_type": "stream",
     "text": [
      "단어 \"how\"의 개수: 2개\n"
     ]
    }
   ],
   "source": [
    "word_count('mydata.txt','how')"
   ]
  },
  {
   "cell_type": "code",
   "execution_count": 19,
   "id": "0a0c3a76",
   "metadata": {},
   "outputs": [],
   "source": [
    "def countWord(filename, word):\n",
    "    word = word.lower()\n",
    "    with open(filename, 'r') as f:\n",
    "        text = f.read()\n",
    "        text = text.lower()\n",
    "        pos = text.find(word)\n",
    "        count = 0\n",
    "        while pos != -1:\n",
    "            count += 1\n",
    "            pos = text.find(word, pos+1)\n",
    "    return count"
   ]
  },
  {
   "cell_type": "markdown",
   "id": "85e96d75",
   "metadata": {},
   "source": [
    "# 08/03"
   ]
  },
  {
   "cell_type": "markdown",
   "id": "81a1b9ce",
   "metadata": {},
   "source": [
    "#### Q57. 문자열을 입력받아 같은 문자가 연속적으로 반복되는 경우에 그 반복 횟수를 표시해 문자열을 압축하여 표시하세요.\n",
    "- 예) \"aaabbcccccca\" -> a3b2c6a1"
   ]
  },
  {
   "cell_type": "code",
   "execution_count": 25,
   "id": "a9cd34f2",
   "metadata": {},
   "outputs": [
    {
     "name": "stdout",
     "output_type": "stream",
     "text": [
      ">>문자를 입력하세요 aasnafsdddd\n",
      "a3d4n1s2f1\n"
     ]
    }
   ],
   "source": [
    "#전체 문자에 대해서\n",
    "\n",
    "word = input('>>문자를 입력하세요 ')\n",
    "word_set = set(word)\n",
    "\n",
    "w_c = ''\n",
    "if len(word_set) > 1:\n",
    "    for i in word_set:\n",
    "        word_name = i\n",
    "        word_cnt = str(word.count(i))\n",
    "        w_c += (word_name + word_cnt)\n",
    "print(w_c)"
   ]
  },
  {
   "cell_type": "code",
   "execution_count": 1,
   "id": "61311495",
   "metadata": {},
   "outputs": [
    {
     "name": "stdout",
     "output_type": "stream",
     "text": [
      "<<문자를 입력하세요.\n",
      "aaabbcccccca\n",
      "a3b2c6a1\n"
     ]
    }
   ],
   "source": [
    "#방법1\n",
    "\n",
    "word = input('<<문자를 입력하세요.\\n')\n",
    "word_cnt =''\n",
    "\n",
    "for i in range(len(word)):\n",
    "    if i == 0:\n",
    "        word_cnt = word[i]\n",
    "        cnt = 1\n",
    "    elif word_cnt[-1] == word[i]:\n",
    "        cnt += 1\n",
    "    elif word_cnt[-1] != word[i]:\n",
    "        word_cnt += str(cnt) + word[i]\n",
    "        cnt = 1\n",
    "    if i == len(word)-1:\n",
    "        word_cnt += str(cnt)\n",
    "        \n",
    "print(word_cnt)"
   ]
  },
  {
   "cell_type": "code",
   "execution_count": null,
   "id": "55278aed",
   "metadata": {},
   "outputs": [],
   "source": [
    "#방법2\n",
    "\n",
    "word = input('>>문자를 입력하세요.\\n')\n",
    "\n",
    "w = word[0]\n"
   ]
  },
  {
   "cell_type": "code",
   "execution_count": 8,
   "id": "108e98c6",
   "metadata": {},
   "outputs": [
    {
     "name": "stdout",
     "output_type": "stream",
     "text": [
      "a['a', 'a', 'a', 'a']b['b', 'b', 'b']c['c', 'c', 'c', 'c']d['d', 'd']a['a']\n",
      "a4b3c4d2a1\n"
     ]
    }
   ],
   "source": [
    "#방법3\n",
    "\n",
    "from itertools import groupby\n",
    "\n",
    "t = 'aaaabbbccccdda'\n",
    "\n",
    "print(\"\".join(f'{x}{list(y)}' for x, y in  groupby(t)))\n",
    "\n",
    "print(\"\".join(f'{x}{len(list(y))}' for x, y in  groupby(t)))\n"
   ]
  },
  {
   "cell_type": "markdown",
   "id": "5678a705",
   "metadata": {},
   "source": [
    "# 08/04"
   ]
  },
  {
   "cell_type": "markdown",
   "id": "2a42136b",
   "metadata": {},
   "source": [
    "#### Q58. N개의 요소로 이루어진 배열이 있을 때 주어진 수들을 M번 더하여 가장 큰 수를 만드는 프로그램을 작성하세요. 단 배열의 특정한 인덱스(번호)에 해당하는 수가 K번을 초과하여 더해질 수 없는 것이 특징이다.\n",
    "프로그램은 다음 조건을 만족하는 N, M, K를 공백으로 일차 입력하고 N개의 배열을 공백으로 이차 입력하면 결과물을 출력하는 방식으로 수행함.\n",
    "- 2 <= N <= 1000\n",
    "- 1 <= M <= 10000\n",
    "- 1 <= K <= 10000\n"
   ]
  },
  {
   "cell_type": "markdown",
   "id": "4495ec25",
   "metadata": {},
   "source": [
    "1. input('배열 요소로 이루어진 개수' '가장 큰 수가 되게 요소들을 총 M번 더하도록 함' '대신 한 요소당 k번이 최대로 더할 수 있음' )\n",
    "2. input(배열 요소 입력)\n",
    "3. 제일 큰 수를 더할 수 있는 제한이 k번"
   ]
  },
  {
   "cell_type": "code",
   "execution_count": 41,
   "id": "940a9061",
   "metadata": {},
   "outputs": [],
   "source": [
    "#함수 지정: for문, if문 포함\n",
    "def array_max(n,m,k, arr):\n",
    "    total = 0\n",
    "    while True:\n",
    "        for i in range(k):\n",
    "            arr_max = arr.max()    #제일 큰 수를 찾아서 k번 더하기\n",
    "            total += arr_max       \n",
    "        idx = np.where(arr==arr_max)  #제일 큰 수의 배열 속 인덱스 찾기\n",
    "        arr = np.delete(arr,idx)      #제일 큰 수 삭제\n",
    "        m -= k                #남아있는 덧셈 횟수 조정\n",
    "    \n",
    "        if m < k:             #남아있는 덧셈 횟수가 최대 덧셈횟수보다 작은 경우\n",
    "            for i in range(m):\n",
    "                arr_max = arr.max()\n",
    "                total += arr_max     #제일 큰 수를 남아있는 횟수 만큼 더하기\n",
    "            break                  #그럼 끝\n",
    "    return f'요소당 최대 덧셈 횟수가 {k}번, 총 덧셈 횟수가 {m}번 일 때, 주어진 배열을 가지고 만들 수 있는 최대값은 {total}입니다.'"
   ]
  },
  {
   "cell_type": "code",
   "execution_count": 30,
   "id": "923fb7eb",
   "metadata": {},
   "outputs": [],
   "source": [
    "#함수 지정: for문, if문 포함2\n",
    "def array_max(n,m,k, arr):\n",
    "    total = 0\n",
    "    x,y = divmod(m,k)\n",
    "    for i in range(x):\n",
    "        arr_max = arr.max()    #제일 큰 수를 찾아서 k번 더하기\n",
    "        total += arr_max*k       \n",
    "        idx = np.where(arr==arr_max)  #제일 큰 수의 배열 속 인덱스 찾기\n",
    "        arr = np.delete(arr,idx)      #제일 큰 수 삭제\n",
    "        \n",
    "        if i == x-1: \n",
    "            arr_max = arr.max()\n",
    "            total += arr_max*y    #제일 큰 수를 남아있는 횟수 만큼 더하기\n",
    "\n",
    "    return f'요소당 최대 덧셈 횟수가 {k}번, 총 덧셈 횟수가 {m}번 일 때, 주어진 배열을 가지고 만들 수 있는 최대값은 {total}입니다.'"
   ]
  },
  {
   "cell_type": "code",
   "execution_count": 50,
   "id": "c685886e",
   "metadata": {},
   "outputs": [],
   "source": [
    "#함수 지정: for문, if문 미포함\n",
    "\n",
    "def array_max(n,m,k,arr):\n",
    "    arr = sorted(arr, reverse = True)\n",
    "    x, y = divmod(m,k)\n",
    "    \n",
    "    if y == 0:\n",
    "        total = total = sum(arr[:x])*k\n",
    "    else:\n",
    "        total = sum(arr[:x])*k + arr[x]*y\n",
    "    \n",
    "    return f'요소당 최대 덧셈 횟수가 {k}번, 총 덧셈 횟수가 {m}번 일 때, 주어진 배열을 가지고 만들 수 있는 최대값은 {total}입니다.'"
   ]
  },
  {
   "cell_type": "code",
   "execution_count": 51,
   "id": "6e138ff8",
   "metadata": {
    "scrolled": false
   },
   "outputs": [
    {
     "name": "stdout",
     "output_type": "stream",
     "text": [
      ">> 배열 요소의 수, 덧셈할 횟수, 최대 덧셈이 가능한 횟수를 공백으로 분리하여 입력하세요.\n",
      "2 10 5\n",
      ">> 배열의 요소를 공백으로 분리하여 입력하세요.\n",
      "1 2\n"
     ]
    },
    {
     "data": {
      "text/plain": [
       "'요소당 최대 덧셈 횟수가 5번, 총 덧셈 횟수가 10번 일 때, 주어진 배열을 가지고 만들 수 있는 최대값은 15입니다.'"
      ]
     },
     "execution_count": 51,
     "metadata": {},
     "output_type": "execute_result"
    }
   ],
   "source": [
    "import numpy as np\n",
    "\n",
    "#함수 인자값을 제대로 받을 때까지 돌리자\n",
    "while True:     \n",
    "    x = input('>> 배열 요소의 수, 덧셈할 횟수, 최대 덧셈이 가능한 횟수를 공백으로 분리하여 입력하세요.\\n')\n",
    "    n = int(x.split(' ')[0])\n",
    "    m = int(x.split(' ')[1])\n",
    "    k = int(x.split(' ')[2])\n",
    "    \n",
    "    if n <= m//k and m % k >= 1:       \n",
    "        print(f'※경고: 배열 요소의 수를 {m//k+1} 이상의 값으로 입력해주세요')      \n",
    "        continue\n",
    "    else:\n",
    "        break\n",
    "        \n",
    "        \n",
    "#배열 요소값을 제대로 받을 때까지 돌리자\n",
    "while True:     \n",
    "    y = input('>> 배열의 요소를 공백으로 분리하여 입력하세요.\\n')\n",
    "    arr = np.array([int(i) for i in y.split(' ')])\n",
    "\n",
    "    \n",
    "    if len(arr) != n:    #배열 요소의 개수가 입력값과 다른 경우\n",
    "        print(f'※경고: 배열 요소의 수를 {n}개가 되도록 입력해주세요')\n",
    "        continue    \n",
    "    \n",
    "    #배열 요소의 개수가 입력값과 같은 경우 \n",
    "    elif len(set(arr)) == m//k and m%k > 0:   #고유 요소 개수가 총 덧셈 횟수를 최대 덧셈 횟수로 나눴을 때와 같은 경우\n",
    "            print(f'※경고: 고유한 요소가 {m//k+1}개 이상 되도록 입력해주세요.')\n",
    "            continue\n",
    "    elif len(set(arr)) < m//k:  #고유 요소 개수가 총 덧셈 횟수를 최대 덧셈 횟수로 나눴을 때보다 작은 경우\n",
    "        if m%k >= 1: \n",
    "            print(f'※경고: 고유한 요소가 {m//k+1}개 이상 되도록 입력해주세요.')\n",
    "            continue\n",
    "        elif m%k == 0: \n",
    "            print(f'※경고: 고유한 요소가 {m//k}개 이상 되도록 입력해주세요.')\n",
    "            continue\n",
    "    else:\n",
    "        break\n",
    "\n",
    "array_max(n,m,k,arr)  \n"
   ]
  },
  {
   "cell_type": "code",
   "execution_count": null,
   "id": "020db56d",
   "metadata": {},
   "outputs": [],
   "source": []
  },
  {
   "cell_type": "markdown",
   "id": "fa7cd5cc",
   "metadata": {},
   "source": [
    "#### Q58. N개의 요소로 이루어진 배열이 있을 때 주어진 수들을 M번 더하여 가장 큰 수를 만드는 프로그램을 작성하세요. 단 배열의 특정한 인덱스(번호)에 해당하는 수가 연속해서 K번을 초과하여 더해질 수 없는 것이 특징이다.\n",
    "프로그램은 다음 조건을 만족하는 N, M, K를 공백으로 일차 입력하고 N개의 배열을 공백으로 이차 입력하면 결과물을 출력하는 방식으로 수행함.\n",
    "- 2 <= N <= 1000\n",
    "- 1 <= M <= 10000\n",
    "- 1 <= K <= 10000\n"
   ]
  },
  {
   "cell_type": "code",
   "execution_count": null,
   "id": "c8d96578",
   "metadata": {},
   "outputs": [],
   "source": [
    "# N, M, K를 공백을 기준으로 구분하여 입력 받기\n",
    "n, m, k = map(int, input().split())\n",
    "# N개의 수를 공백을 기준으로 구분하여 입력 받기\n",
    "data = list(map(int, input().split()))\n",
    "\n",
    "data.sort() # 입력 받은 수들 정렬하기\n",
    "first = data[n - 1] # 가장 큰 수\n",
    "second = data[n - 2] # 두 번째로 큰 수\n",
    "\n",
    "# 가장 큰 수가 더해지는 횟수 계산\n",
    "count = m // (k + 1) * k\n",
    "count += m % (k + 1)\n",
    "\n",
    "result = 0\n",
    "result += (count) * first # 가장 큰 수 더하기\n",
    "result += (m - count) * second # 두 번째로 큰 수 더하기\n",
    "\n",
    "print(result) # 최종 답안 출력"
   ]
  },
  {
   "cell_type": "markdown",
   "id": "bb596be8",
   "metadata": {},
   "source": [
    "# 08/05"
   ]
  },
  {
   "cell_type": "markdown",
   "id": "b3eafa89",
   "metadata": {},
   "source": [
    "#### Q61. file1, 2의 파일 크기를 각각 구하세요.\n",
    "\n",
    "- file1 = 'data/stockcode.txt'\n",
    "- file2 = 'data/img_sample.jpg'"
   ]
  },
  {
   "cell_type": "code",
   "execution_count": 21,
   "id": "120c1b91",
   "metadata": {},
   "outputs": [
    {
     "data": {
      "text/plain": [
       "os.stat_result(st_mode=33206, st_ino=13229323905746951, st_dev=2550895225, st_nlink=1, st_uid=0, st_gid=0, st_size=16339, st_atime=1659914591, st_mtime=1659660150, st_ctime=1659660150)"
      ]
     },
     "execution_count": 21,
     "metadata": {},
     "output_type": "execute_result"
    }
   ],
   "source": [
    "from pathlib import Path\n",
    "\n",
    "Path(r'C:/cakd7/강의/m1_programming/dataset/stockcode.txt').stat()"
   ]
  },
  {
   "cell_type": "markdown",
   "id": "79095ad3",
   "metadata": {},
   "source": [
    "- st_mode: 파일 유형 및 파일 모드 비트(권한)\n",
    "- st_ino: 윈도우에서 파일 인덱스를 나타냄\n",
    "- st_dev: 파일이 있는 장치의 식별자를 나타냄\n",
    "- st_nlink: 하드 링크의 수를 나타냄\n",
    "- st_uid: 파일 소유자의 사용자 식별자를 나타냄\n",
    "- st_gid: 파일 소유자의 그룹 식별자를 나타냄\n",
    "- st_atime: 최근 액세스한 시간(초단위)\n",
    "- st_mtime: 최근 컨텐츠를 수정한 시간\n",
    "- st_ctime:  윈도우에서는 생성시간을 타나냄"
   ]
  },
  {
   "cell_type": "code",
   "execution_count": 18,
   "id": "deb8eb2e",
   "metadata": {},
   "outputs": [
    {
     "name": "stdout",
     "output_type": "stream",
     "text": [
      "stockcode.txt의 파일크기는  16,339 바이트 입니다.\n",
      "img_sample.jpg의 파일크기는  170,005 바이트 입니다.\n"
     ]
    }
   ],
   "source": [
    "#방법1\n",
    "\n",
    "from pathlib import Path\n",
    "\n",
    "\n",
    "file_size = Path(r'C:/cakd7/강의/m1_programming/dataset/stockcode.txt').stat().st_size\n",
    "print(f'stockcode.txt의 파일크기는 {file_size: ,} 바이트 입니다.')\n",
    "\n",
    "file_size2 = Path(r'C:/cakd7/강의/m1_programming/dataset/img_sample.jpg').stat().st_size\n",
    "print(f'img_sample.jpg의 파일크기는 {file_size2: ,} 바이트 입니다.')"
   ]
  },
  {
   "cell_type": "code",
   "execution_count": 19,
   "id": "0450ffe8",
   "metadata": {},
   "outputs": [
    {
     "name": "stdout",
     "output_type": "stream",
     "text": [
      "stockcode.txt의 파일크기는  16,339 바이트 입니다.\n",
      "img_sample.jpg의 파일크기는 170,005 바이트 입니다.\n"
     ]
    }
   ],
   "source": [
    "#방법2\n",
    "\n",
    "import os\n",
    "\n",
    "file_size = os.path.getsize('C:/cakd7/강의/m1_programming/dataset/stockcode.txt')\n",
    "print(f'stockcode.txt의 파일크기는 {file_size: ,} 바이트 입니다.')\n",
    "\n",
    "file_size2 = os.path.getsize('C:/cakd7/강의/m1_programming/dataset/img_sample.jpg')\n",
    "print(f'img_sample.jpg의 파일크기는 {file_size2:,} 바이트 입니다.')"
   ]
  },
  {
   "cell_type": "code",
   "execution_count": 20,
   "id": "11a0ada2",
   "metadata": {},
   "outputs": [
    {
     "name": "stdout",
     "output_type": "stream",
     "text": [
      "stockcode.txt의 파일크기는  16,339 바이트 입니다.\n",
      "img_sample.jpg의 파일크기는  170,005 바이트 입니다.\n"
     ]
    }
   ],
   "source": [
    "#방법3\n",
    "\n",
    "import os\n",
    "\n",
    "file_size = os.stat(r'C:/cakd7/강의/m1_programming/dataset/stockcode.txt').st_size\n",
    "print(f'stockcode.txt의 파일크기는 {file_size: ,} 바이트 입니다.')\n",
    "\n",
    "file_size2 = os.stat(r'C:/cakd7/강의/m1_programming/dataset/img_sample.jpg').st_size\n",
    "print(f'img_sample.jpg의 파일크기는 {file_size2: ,} 바이트 입니다.')"
   ]
  },
  {
   "cell_type": "markdown",
   "id": "b2cca344",
   "metadata": {},
   "source": [
    "#### Q62.stockcode.txt의 105바이트 위치에서 500바이트를 읽어 그 내용은 stock_part.txt에 저장 한 후 출력하세요.\n"
   ]
  },
  {
   "cell_type": "code",
   "execution_count": 10,
   "id": "2d49a175",
   "metadata": {},
   "outputs": [
    {
     "name": "stdout",
     "output_type": "stream",
     "text": [
      "605\n"
     ]
    }
   ],
   "source": [
    "with open('C:/cakd7/강의/m1_programming/dataset/stockcode.txt','rb') as fr:                    #바이트 타입으로 읽기\n",
    "    with open('stock_part.txt','wb') as fw:            #바이트 타입으로 쓰기\n",
    "        fr.seek(105)     #105바이트에 위치하는 곳에 커서 이동\n",
    "        fw.write(fr.read(500))     #500글자만 읽어서 쓰도록\n",
    "        print(fr.tell())        #현재 커서가 위치하는 곳"
   ]
  },
  {
   "cell_type": "code",
   "execution_count": 11,
   "id": "a46a59a4",
   "metadata": {},
   "outputs": [
    {
     "data": {
      "text/plain": [
       "500"
      ]
     },
     "execution_count": 11,
     "metadata": {},
     "output_type": "execute_result"
    }
   ],
   "source": [
    "#500바이트가 맞는지 확인\n",
    "import os\n",
    "\n",
    "os.stat(r'stock_part.txt').st_size"
   ]
  },
  {
   "cell_type": "code",
   "execution_count": 12,
   "id": "14c23510",
   "metadata": {},
   "outputs": [
    {
     "name": "stdout",
     "output_type": "stream",
     "text": [
      " 유한양행\n",
      "000101 유한양행우\n",
      "000120 대한통운\n",
      "000140 하이트홀딩스\n",
      "000141 하이트홀딩스우\n",
      "000150 두산\n",
      "000151 두산우\n",
      "000152 두산2우B\n",
      "000180 성창기업지주\n",
      "000210 대림산업\n",
      "000211 대림산업우\n",
      "000220 유유제약\n",
      "000221 유유제약1우\n",
      "000222 유유제약2우B\n",
      "000230 일동제약\n",
      "000240 한국타이어\n",
      "000270 기아차\n",
      "000300 대유신소재\n",
      "000320 디피아이홀딩스\n",
      "000321 디피아이홀딩스우\n",
      "000322 디피아이홀딩스2B\n",
      "000360 삼환기업\n",
      "000361 삼환기업우\n",
      "000370 한화손해보험\n",
      "000390 삼화페인트\n",
      "000400 롯데손해보험\n",
      "000420 로\n"
     ]
    }
   ],
   "source": [
    "#내용 확인\n",
    "\n",
    "with open('stock_part.txt', 'r') as fr:\n",
    "    print(fr.read())"
   ]
  },
  {
   "cell_type": "markdown",
   "id": "036ff0a6",
   "metadata": {},
   "source": [
    "#### Q63.네이버 검색에서 관심 주제와 기사 수를 입력하면 그만큼 출력하는 크롤링 프로그램을 작성하여 다음 사항을 수행하세요.\n",
    "\n",
    "기사 제목과 링크를 데이터프레임으로 가져온 후 본문 내용에서 한글 단어만 출력하여 형태소 분석\n",
    "최근 국내 'AI'와 관련하여 가장 많이 언급되는 단어에 대한 빈도분석 및 시각화\n",
    "AI 분야에서의 유의할 만한 트랜드 정보 및 인사이트 도출\n",
    "\n"
   ]
  },
  {
   "cell_type": "code",
   "execution_count": 165,
   "id": "29719065",
   "metadata": {
    "scrolled": true
   },
   "outputs": [
    {
     "data": {
      "text/plain": [
       "'10대 정책 목표는 ▲ (인공지능) 기반 교육 ▲글로컬(글로벌＋로컬) 융합인재 육성 ▲학생 맞춤형 직업·진로 교육 ▲누구도 소외되지 않는 교육 ▲교사 적극 지원 ▲혁신 교육 재구조화 ▲정치·이념 편향성 해소 ▲돌봄... '"
      ]
     },
     "execution_count": 165,
     "metadata": {},
     "output_type": "execute_result"
    }
   ],
   "source": [
    "news_df.loc[0,'Description']"
   ]
  },
  {
   "cell_type": "code",
   "execution_count": 154,
   "id": "48d2674c",
   "metadata": {},
   "outputs": [
    {
     "data": {
      "text/plain": [
       "'10대 정책 목표는 ▲ (인공지능) 기반 교육 ▲글로컬(글로벌＋로컬) 융합인재 육성 ▲학생 맞춤형 직업·진로 교육 ▲누구도 소외되지 않는 교육 ▲교사 적극 지원 ▲혁신 교육 재구조화 ▲정치·이념 편향성 해소 ▲돌봄...  1000여개사 언론기사,  (인공지능) 지원’을 제공하기로 했다. 주요 글로벌 기업들이 공급망 내 협력사에도 강도 높은 ESG...  ◆딥노이드,  알고리즘)를 통한‘흉부 X레이진단 논문’이 네이처 파트너 저널(Nature Partner...  인공지능( ‧Artificial Intelligence) 기술을 활용한 이상 탐지 및 예측 설루션(Solution‧문제 처리 시스템) 제품을 출시하고 있다. 이날 코스피는 전 거래일(2490.80)보다 0.39%(9.63포인트) 떨어진 2481.17로 하락...  김 과장은 “현재 스타트업 기업 입주를 포함해   기발 헬스케어 플랫폼 조성, 소공인들을 위한 공동기반시설 운영 등 지역의 상공인들과 지역경제를 위한 다양한 사업을 추진중에 있다”며 “최초로 예비창업자들의...  한편, 전남대병원은 연구중심병원육성 R D 사업, 데이터중심병원사업, 임상데이터 기반 근골격계 인체모사 융합기술 지원사업 등 빅데이터·  기술과 융합된 대형국책사업을 추진 중이다. / #2022080801000290000008781# 10대 정책 목표는   하이테크 기반 학생 맞춤 교육, 글로컬 융합 인재 양성, 맞춤형 진업·진로교육, 교육 사각지대 해소, 교원 역량 확보와 교권보호, 미래학교 확산, 돌봄·유야교육·방과후 공교육 책임 강화, 미래지향적...  그러니까\\xa0실제로\\xa0제가\\xa0전북대\\xa0총장님한테\\xa0직접\\xa0들은\\xa0얘기인데,\\xa0 \\xa0담당할\\xa0교수님을\\xa0그렇게\\xa0공을\\xa0들여서\\xa0섭외를\\xa0해놓았는데,\\xa0결국\\xa0마지막에\\xa0수도권\\xa0대학으로\\xa0가더라는\\xa0거죠. 그래서\\xa0제가\\xa0생각하는\\xa0해법은...  인공지능(  관련 연구 과제의 발굴 및 진행에도 공동 참여한다. 나군호...  SK케미칼은 인공지능(  플랫폼으로 NASH 치료제 후보물질을 발굴한 후 특허 출원을 마쳤다. 현재...  또한 금융‧비금융‧공공간 데이터 개방‧결합을 확대하고, 금융분야   활용을 활성화하기 위한 데이터 인프라도 구축할 예정이다. 또한 신사업 등 금융 관련 인‧허가를 신속히 처리하고, 제재에 대해서는 제재상대방...  조선대학교 정보통신공학부 김영식 교수가 서울대학교 및 대구경북대학교 연구팀과 프라이버시 보장   기술을 자체 개발하고, 인공지능 분야 최우수 학술대회인  ICML 2022 에서 논문을 발표했다. 8일 조선대에 따르면...  또 라이나생명보험과의 제휴를 통해 ▲ 기술을 활용해 스마트폰 카메라로 촬영한 얼굴 영상을 보고 호흡수, 심박수, 스트레스 지수 등 활력징후를 알려주는 건강신호 측정 ▲건강 설문을 통해 임상 데이터를 기반으로...  /동강대 제궁 동강대학교(총장 이민숙)는 인공지능(  산타  플랫폼을...  특히 엔비디아 지포스 RTX 3060 GDDR6 6GB 115W 그래픽카드는 CREATIVE MAESTRO 등급으로 고급  가속 기능, 6K HDR 영상편집, 3D 애니메이션 제작, Adobe Creative Cloud 최적화 등 전문적인 작업이 가능해 크리에이터용...  금융·비금융·공공 간 데이터 개방·결합을 확대하고, 금융 분야 인공지능( ) 활용을 활성화하기 위한 데이터 인프라도 구축한다. 물적분할 회사의 자회사 상장 시 분할 반대주주 주식매수청구권 부여 등을 통해 모회사...  유치 △  (인공지능) 영재고 설립도 필수불가결한 사업이다 라며 적극적인 지원과 협조를 요청하였다. 이어 2027년...  아울러 이상헌 의원은 인공지능( ...  또 금융과 비금융, 공공 간 데이터 개방‧결합을 확대하고, 금융분야 인공지능( ) 활용 활성화를 위한 데이터 인프라를 구축한다. 체감도 향상을 위해 감독·검사 관행을 개선하고 금유의 글로벌화도 지원한다. 특히...  조선대학교 정보통신공학부 김영식 교수가 서울대학교 및 대구경북대학교 연구팀과 프라이버시 보장   기술을 자체 개발하고, 인공지능 분야 최우수 학술대회인 ‘ICML 2022’에서 논문을 발표했다. 8일 조선대에...   메이저맵 은 2018년 시작된  로 분석한 데이터기반 학과 검색엔진을 보유하고 있고, 34만 명이 넘는 유저를 확보하고 있다. 또 전국 65%가 넘는 고등학교에서 교사들이 사용하는 서비스이다.  메이저맵  검색엔진은...  경진대회 요강은 ▲스마트팜 작물재배 분야는   활용 등 생산성 향상을 위해 다양한 기술을 스마트팜에 적용해 토마토와 딸기 작물을 재배하는 중소·청년농업인이 참가 가능(단체나 대학, 법인의 참여는 제한)...  금융·비금융·공공간 데이터 개방·결합을 확대하고 금융 분야   활용을 활성화하기 위한 데이터 인프라를 구축한다. 특히 우리 경제·기업이 실적에 합당한 평가를 받고 향후 자본시장이 더욱 빠르고 강하게 반등할 수...  에듀테크 대표 기업 아이스크림에듀(대표 이윤석)가 지난 1일, 서울 서초구청에서  서리풀 샘  ...  영진전문대학교(총장 최재영)  융합기계계열...  포레의 eFMS는 데이터 기반의 스마트 AIoT( 와 IoT기술을 접목해 음식물쓰레기를 버리기만 하면 자동으로 보관, 처리하고...  한  독서플랫폼 스타트업이다. 젤리페이지의 가장 큰 강점은 ‘페어런트테크(Parent ? tech)’ 기능을...  업무를 보다 빠르고 효율적으로 수행하기 위해 개발한 인공지능( )이 사이버범죄에 악용될 수 있음도 널리 알려져 있다. ICT의 발전에 따라 빛과 어둠이 모두 나타나고 있는 상황이다. 주지할 사실은, ICT 자체에는 선악이...  나만의   추천 서비스나 삼성 퀀트, 고수들의 종목 등 리포트가 매우 유용해 참고하기 좋습니다. 특히 고수들의 종목은 상위 1000명의 데이터를 주기적으로 보여주고 있습니다. 계좌를 개설할 때 알뜰폰으로는 인증이 되지...  KB국민카드 디지털 이지 교실은 농산어촌 지역 청소년을 대상으로 ▲빅데이터 ▲사물인터넷 ▲인공지능( ) ▲증강현실(AR) ▲가상현실(VR) 등 다양한 이론 및 체험교육을 지원하는 프로그램이다. KB국민카드는 미래...  대상으로 ▲빅데이터 ▲사물인터넷 ▲인공지능( ), 가상현실(VR) 등 디지털 교육을 통해 농산어촌 청소년들이 우수한 디지털 인재로 성장하기를...  국내 1위   소프트웨어에 대한 수요도 꾸준히 증가하며 에쓰오일, 포스코ICT, 국내 대표 글로벌 대기업 A사, B사...  홍준표 대구시장이 8일  과학기술정보통신부가 2030년까지 수성알파시티에 2조2천억원을 투자해 대구를 국내 ABB( , 빅데이터, 블록체인) 분야 중심으로 육성하기로 했다 고 밝혔다. ABB는 대구시에서 집중 육성하려는 5대...  Their latest collaboration is for the media content,   services, 5G 5G platform for Turkish 5G commercialization plans.  We plan to cooperate with Turk Telecom to develop services tailored to...  평택교육지원청 이용주 교육장은  평택교육지원청은 지난해와 올해 전국에서 가장 많은 공동교육과정을 개설한 사례가 있으며, 앞으로 더욱 발전해 경기도   하이테크 기반 맞춤형 교육, 경기형 IB 프로그램, DQ...  ▶ 수도권 최대 300㎜ 이상 비…곳곳 비 피해 내일까지 수도권과 강원 지역에 많게는 300mm 이상의 비가 내리는 등 중부지방을 중심으로 매우 많은 비가 내리겠습니다. 강풍을 동반한 폭우에 지하차도가 물에 잠기거나...  금융·비금융·공공 간 데이터 개방과 결합을 확대하고, 금융 분야 인공지능( ) 활용을 활성화하기 위한 데이터 인프라를 구축할 계획이다. 자본시장과 관련해 물적 분할 시 공시·상장심사를 강화하고 분할 반대주주에...  인공지능( ) 활용 인프라를 구축하고, 검사·제재관행도 선진화할 계획이다. ◇자본시장 채질하고 디지털자산기본법 제정 금융위는 자본시장 체질도 개선해나가기로 했다. 자본시장에서는 물적분할 자회사 상장시...  삼성전자 모델이  제트랜드 와  비스포크 제트 봇   자율주행 기능을...  인공지능(  등...  경남도청, 경남테크노파크, 진주시, 통영시, 사천시 등 5개 기관 참여경남도  융합인재교육연구단은 가좌캠퍼스 항공우주산학협력관에서 을...  금융산업 경쟁력을 위해 디지털 혁신을 위한 플랫폼 금융서비스와 관련된 제도개선과 인공지능( ) 데이터 인프라를 구축한다. 자본시장에서는 물적분할 자회사 상장 시 공시와 상장심사를 강화하고, 분할 반대주주...  소재)에서  , IoT 등 4차 산업혁명 기술의 중부권 전진기지로 나가는 데 이바지하고 있다. 본 사업을 총괄하는 (재)...  유치 △ (인공지능) 영재고 설립도 필수불가결한 사업이다 라며 적극적인 협조를 요청했다. 이어 2027년 준공이...  엠로, 상반기 매출 285억....2분기 영업익, 1분기보다 188.7% 증가 인공지능( ) 기반 공급망 관리 소프트웨어 기업 엠로는 올해 상반기 연결 기준 매출 285억원, 영업이익 24억1000만원, 당기 순이익 29억6000만원으로...  또한 라이나생명보험과의 제휴를 통해 ▲ 기술을 활용해 스마트폰 카메라로 촬영한 얼굴 영상을 보고 호흡수, 심박수, 스트레스 지수 등 활력징후를 알려주는 건강신호 측정 ▲건강 설문을 통해 임상 데이터를 기반으로...  하림 관계자는  지난해 말 조류인플루엔자( ) 영향으로 생계 시세가 올라 실적이 개선됐다 며  2020년부터 가동하고 있는 익산 공장에 최신식 설비를 지속해서 도입하는 등 생산성도 높아졌다 고 말했다. 제트랜드 곳곳에 숨겨진 황금 제트봇을 찾으면 할인코드를 획득할 수 있으며, 해당 코드로 삼성닷컴에서 로봇청소기 신제품 ‘비스포크 제트 봇  ...  [사진=엠로] \\xa0  기반 공급망관리 소프트웨어 기업 엠로가 2분기 매출 151억 원, 영업이익 17억 9000만원을 기록했다고 8일 밝혔다. 영업이익은 전분기 대비 188.7% 증가했다. 자회사  인포와이즈 도 2분기 매출액과...  대상으로 ▷빅데이터 ▷사물인터넷 ▷인공지능( ), 가상현실(VR) 등 디지털 교육을 통해 농산어촌 청소년들이 우수한 디지털 인재로 성장하기를...  인공지능( ·무인이동체 같은 민간의 기술·서비스 개발 단계부터 개인정보 중심 설계가 작동하도록...  이하, NIPA)과 KT(대표 구현모)가 디지털전환(DX)\\xa0관련 사업 및 인공지능( ·DX\\xa0인재...  국내 1위   소프트웨어에 대한 수요도 꾸준히 증가하며 에쓰오일, 포스코ICT, 국내 대표 글로벌 대기업 A사, B사...  이를 위해 금융, 비금융, 공공간 데이터 개방 및 결합을 확대하고, 금융분야 인공지능( ) 활용을 활성화하기 위한 데이터 인프라를 구축한다. 금융업의 빅블러 현상 및 디지털 전환에 맞춰 플랫폼 금융서비스 활성화를 위해...  이를 위해 금융과 비금융, 공공 간 데이터 개방결합을 확대하고, 금융분야 인공지능( ) 활용 활성화를 위한 데이터 인프라를 구축한다. 특히 신사업 등 금융 관련 인허가를 신속히 처리하고 제재에 대해서는 제재상대방...  또 금융 분야 인공지능( 나 빅데이터 등 기술발전이 빠르게 이뤄지고 있다. 우리...  삼성전자 모델이 모델이  제트랜드 와  비스포크 제트 봇   자율주행 기능을 탑재한...  제트랜드 곳곳에 숨겨진 황금 제트봇을 찾으면 할인코드를 획득할 수 있으며, 해당 코드로 삼성닷컴에서 로봇청소기 신제품  비스포크 제트 봇  ...  네이버와 네이버클라우드, 충북대학교병원이 인공지능(  관련 연구 과제 발굴 및 진행에도 공동 참여한다. 나군호 네이버...  인공지능( ·DX 인재 양성을 함께...  메가존클라우드는 국내 1위 MSP로 클라우드·인공지능( ...  김동규 한글과컴퓨터학원장은   , 로봇 등 4차산업혁명의 근간을 이루는 정보 과학 인재는 국가 경쟁력에서 매우 중요하다 며  프로그래밍 능력이 그 자체로 진학과 취업에 도움이 되겠지만, 더 넓게 보면 빠르게...  하림 관계자는  지난해 겨울 조류인플루엔자(  영향으로 살처분 된 닭이 늘면서 올해 상반기 공급 부족으로 생계 시세가...  GS네오텍이 출시한  사이트디펜더  대시보드 \\xa0GS네오텍(대표 남기정)은  /ML(머신러닝) 기반 차세대 서비스형 보안 서비스  사이트디펜더(Site Defender) 를 출시했다고 8일 밝혔다. 사이트디펜더는 경량화된 차세대...  에듀윌은  쉬토공 패스  수강생들을 위한 무료 추가 혜택도 마련했다. 토익 핵심 빈출 교재 2종과 쉬운 영문법 인강 및 교재를 제공하고, 에듀윌 토익  앱을 무료로 이용할 수 있다. 대상으로 △빅데이터 △사물인터넷 △인공지능( ), 가상현실(VR) 등 디지털 교육을 통해 농산어촌 청소년들이 우수한 디지털 인재로 성장하기를...  이는 곧 많은 중국 내 기업들에 기회를 제공하고 있으며 특히 최근 중국 내에서 수요가 급증하고 있는 전기차,   관련 시 스템 반도체는 중국 팹리 스 기업의 성장에 촉진제 역할을 하고 있다. 다음으로 정부 차원의...  업무자동화 3단계 발전 로드맵을 수립해 대상 업무를 단계적으로 확대하고 인공지능( ) 기술과 접목해 사람의 인지능력이 필요한 업무에도 확대 적용할 계획이다. 김종호 기보 이사장은  포스트 코로나 시대를 맞아...  입은 투자 손실이 실적 악화의 주요한 원인이라는 평가다. 니혼게이자이신문(닛케이)은 지난 4∼6월 인공지능( ) 관련 신흥 기업에 투자하는 비전펀드 사업에서 2조9000억엔의 투자 손실이 발생했다고 밝혔다. 요즘에 메타버스니  , IOT니 여러 가지 새로운 문명들에 대해서 많이 접하고 있으면서도, 과연 그러면 이런 새로운 문명에 의해서 만들어지는 새로운 사회에 필요한 인력들은 과연 어떤 자격을 갖춰야 되나라는 거를 사실...  SK네트웍스는 2022년 들어 인공지능( ), 친환경 신소재, 모빌리티(전기차충전), 블록체인, 인테리어플랫폼, 트랙터 무인자동화솔루션 등의 분야에서 국내외 투자를 확대하며  사업형 투자사  역할을 본격적으로...  황 대표는 “디지털 헬스케어를 구성하는 4가지 요소인 인공지능( )·사물인터넷(IoT)·클라우드·모바일 중 카카오는 24시간 옆에 두는 모바일부터 사업을 전개하고 있다”며  병원이 환자에게 해줬으면 좋겠지만...  “인공지능(  캐릭터였다면 헛된...  그밖에 인공지능(  교육을 필수화 등 교육 과제가 첩첩산중 쌓여 있다. 교육계 관계자는  교육 철학을 가지고 산적한 교육 과제를...  이날 건의한 사업은 충북 미래 100년의 성장 발판이 될 △KAIST 오송 바이오메디컬 캠퍼스타운 유치 △  영재고 설립도 꼭 필요한 사업 이라고 말했다. 2027년 준공 예정인 오창 방사광가속기 등의 사업 추진에도...  세계 각국이 파격적인 지원책을 동원해 반도체산업 육성에 혈안이 될 정도로, 인공지능( ), 빅데이터, 6G, 자율주행 자동차, 바이오, 배터리 등 4차 산업혁명의 근간이다. 정부의 반도체산업 육성 의지는  반도체 초강대국...  이에 따라 금융위는 전업주의 규제를 완화하고 금융·비금융·공공 간 데이터 개방과 결합을 확대하고, 금융 분야 인공지능( ) 활용을 활성화하기 위한 데이터 인프라를 구축할 방침이다. 아울러 신사업 등 금융 관련...  메타버스(Metaverse)란 가상현실(VR), 증강현실(AR), 인공지능( ) 기술을 통한 침해 단속을 포함한 주도적인 대비와 대응이 필수적이라고 O’Reilly 변호사는...  금융·비금융·공공 간 데이터 개방·결합을 확대하고, 금융 분야   활용을 활성화하기 위한 데이터 인프라도 구축한다. 금융·행정과 관련해 검사·감독 관행을 개선하고, 금융의 글로벌화를 지원한다. 신사업 등 금융 관련...  이번 채용은   활용 화상...  로완의 자체 개발 인지훈련 프로그램인  슈퍼브레인 은 앱을 통해 다양한 과제를 수행하여 치매환자의 뇌를 자극하는 훈련과  를 활용해 환자의 상태를 분석한 맞춤형 훈련 등으로 구성됐다. 이를 통해 경도치매 환자가...  ▶ 수도권 최대 300㎜ 이상 비…곳곳 비 피해 내일까지 수도권과 강원 지역에 많게는 300mm 이상의 비가 내리는 등 중부지방을 중심으로 매우 많은 비가 내리겠습니다. 강풍을 동반한 폭우에 지하차도가 물에 잠기거나...  7% 급증했다. 당기순이익은 228억1600만원으로 1년 전보다 245.5% 뛰었다. 하림 측은  지난해 말 조류독감( )으로 살처분 된 물량이 생겨 올해 생계시세가 높아졌다 고 설명했다. [EBN ()] 김영환 충청북도지사가 8일 세종에서 이종호 과학기술정보통신부 장관을 만나   영재고도 필수 불가결한 사업 이라고 강조했다. 또 오창 방사광가속기 적기 구축과 최첨단 연구 인프라...  금융위원회는 금융·비금융·공공 간 데이터 개방과 결합을 확대하고, 금융 분야 인공지능( ) 활용을 활성화하기 위한 데이터 인프라를 구축할 계획이다. 아울러 신사업 등 금융 관련 인허가를 신속히 처리하고 제재에...  인공지능( ·DX 인재 양성...  금융·비금융 간 데이터 개방 및 결합을 확대하고 금융 분야 인공지능( ) 활용을 활성화하기 위한 데이터 인프라를 구축한다. 금융회사가 신사업을 빠른 속도로 할 수 있게 금융감독원이 인허가를 신속히 처리하고 검사...  핀테크, 바이오의료 등 다양한 기업에서 인공지능( ) 전문교육을 진행하는 프로그램이다. 지자체 최초의...    모델 개발 과정에서 밝혀진 사실...  현재 디지털 전환 이뤄지고 있고  (인공지능)과 빅데이터 등 기술 발전도 매우 빠르게 진행되고 있다. 그래서 우리 금융기관들도 디지털 전환이나 첨단 기술 이용해 새로운 분양에 진출할 수 있도록 하겠다는 것이다. 다만...  3D 모델링  는 휴대폰 영상만으로...  인공지능( ) 활용을 활성화하기 위한 데이터 인프라를 구축할 계획 이라고 말했다. 금융사 영업 활동을 제약하는 금융당국의 검사·감독 관행도 개선하기로 했다. 김 위원장은  신사업 등 금융 관련 인·허가를 신속히...  또 인공지능( ) 기술을 활용한 다양한 기능으로 화상회의 몰입감을 높이고 업무 생산성 향상에 기여한다. LG 스마트TV 이용자들은 넓고 선명한 화면에서 리모트미팅으로 더 쉽고 편리하게 생동감 있는 커뮤니케이션을...  이하, 마우저)가 협업을 통한 혁신(Empowering Innovation Together) 프로그램의 최신 에피소드   )의 비약적 성장을...  해당 코드는 삼성닷컴에서 로봇청소기 신제품  비스포크 제트 봇 인공지능(  SE가 앞서 출시된 로봇청소기  비스포크...  금융과 비금융·공공 간 데이터 개방·결합을 확대하고, 금융 분야 인공지능( ) 활용을 활성화하기 위한 데이터 인프라도 구축한다. 금융·행정 관련 검사·감독 관행을 개선하고, 금융의 글로벌화도 지원한다. 신사업 등...  금융·비금융·공공 간의 데이터 개방·결합을 확대하고 금융 분야 인공지능( ) 활용을 활성화하기 위해 데이터 인프라도 구축한다. 자본시장에서는 투자자 권익 보호 강화와 신뢰를 제고하기 위해 물적분할 자회사 상장 시...  로완의 자체 개발 인지훈련 프로그램인  슈퍼브레인 은 앱을 통해 다양한 과제를 수행해 치매환자의 뇌를 자극하는 훈련과  (인공지능)를 활용해 환자의 상태를 분석한 맞춤형 훈련 등으로 구성되어 있다. 이를 통해...  10대 정책목표는 △ (인공지능) 기반 교육 △글로컬(글로벌＋로컬) 융합인재 육성 △학생 맞춤형 직업·진로 교육 △누구도 소외되지 않는 교육 △교사 적극 지원 △혁신교육 재구조화 △정치·이념 편향성 해소 △돌봄...  2분기 매출액 151억, 영업이익 17.9억, 당기순이익 12.9억 기록 이복현 기자, 국내   소프트웨어에 대한 수요도 증가하며 에쓰오일, 포스코ICT, 국내 대표 글로벌 대기업 A사, B사 등과... '"
      ]
     },
     "execution_count": 154,
     "metadata": {},
     "output_type": "execute_result"
    }
   ],
   "source": [
    "#전체 타이틀 문자화\n",
    "\n",
    "des_str = ' '.join(list(news_df['Description']))\n",
    "des_str"
   ]
  },
  {
   "cell_type": "code",
   "execution_count": 155,
   "id": "9a16adf6",
   "metadata": {},
   "outputs": [
    {
     "data": {
      "text/plain": [
       "2212"
      ]
     },
     "execution_count": 155,
     "metadata": {},
     "output_type": "execute_result"
    }
   ],
   "source": [
    "#띄어쓰기 기반\n",
    "\n",
    "word_list_bl = des_str.split(' ')\n",
    "len(word_list_bl)"
   ]
  },
  {
   "cell_type": "code",
   "execution_count": 156,
   "id": "f751a3bc",
   "metadata": {},
   "outputs": [
    {
     "data": {
      "text/plain": [
       "2095"
      ]
     },
     "execution_count": 156,
     "metadata": {},
     "output_type": "execute_result"
    }
   ],
   "source": [
    "#문자, 숫자, %,& 포함한 모든 단어\n",
    "\n",
    "word_list = re.findall('[\\w%&]+',des_str)\n",
    "len(word_list)"
   ]
  },
  {
   "cell_type": "code",
   "execution_count": 157,
   "id": "aa110ae3",
   "metadata": {},
   "outputs": [
    {
     "data": {
      "text/plain": [
       "['10대',\n",
       " '정책',\n",
       " '목표는',\n",
       " '인공지능',\n",
       " '기반',\n",
       " '교육',\n",
       " '글로컬',\n",
       " '글로벌',\n",
       " '로컬',\n",
       " '융합인재',\n",
       " '육성',\n",
       " '학생',\n",
       " '맞춤형',\n",
       " '직업',\n",
       " '진로',\n",
       " '교육',\n",
       " '누구도',\n",
       " '소외되지',\n",
       " '않는',\n",
       " '교육',\n",
       " '교사',\n",
       " '적극',\n",
       " '지원',\n",
       " '혁신',\n",
       " '교육',\n",
       " '재구조화',\n",
       " '정치',\n",
       " '이념',\n",
       " '편향성',\n",
       " '해소',\n",
       " '돌봄',\n",
       " '1000여개사',\n",
       " '언론기사',\n",
       " '인공지능',\n",
       " '지원',\n",
       " '을',\n",
       " '제공하기로',\n",
       " '했다',\n",
       " '주요',\n",
       " '글로벌',\n",
       " '기업들이',\n",
       " '공급망',\n",
       " '내',\n",
       " '협력사에도',\n",
       " '강도',\n",
       " '높은',\n",
       " 'ESG',\n",
       " '딥노이드',\n",
       " '알고리즘',\n",
       " '를',\n",
       " '통한',\n",
       " '흉부',\n",
       " 'X레이진단',\n",
       " '논문',\n",
       " '이',\n",
       " '네이처',\n",
       " '파트너',\n",
       " '저널',\n",
       " 'Nature',\n",
       " 'Partner',\n",
       " '인공지능',\n",
       " 'Artificial',\n",
       " 'Intelligence',\n",
       " '기술을',\n",
       " '활용한',\n",
       " '이상',\n",
       " '탐지',\n",
       " '및',\n",
       " '예측',\n",
       " '설루션',\n",
       " 'Solution',\n",
       " '문제',\n",
       " '처리',\n",
       " '시스템',\n",
       " '제품을',\n",
       " '출시하고',\n",
       " '있다',\n",
       " '이날',\n",
       " '코스피는',\n",
       " '전',\n",
       " '거래일',\n",
       " '2490',\n",
       " '80',\n",
       " '보다',\n",
       " '0',\n",
       " '39%',\n",
       " '9',\n",
       " '63포인트',\n",
       " '떨어진',\n",
       " '2481',\n",
       " '17로',\n",
       " '하락',\n",
       " '김',\n",
       " '과장은',\n",
       " '현재',\n",
       " '스타트업',\n",
       " '기업',\n",
       " '입주를',\n",
       " '포함해',\n",
       " '기발',\n",
       " '헬스케어',\n",
       " '플랫폼',\n",
       " '조성',\n",
       " '소공인들을',\n",
       " '위한',\n",
       " '공동기반시설',\n",
       " '운영',\n",
       " '등',\n",
       " '지역의',\n",
       " '상공인들과',\n",
       " '지역경제를',\n",
       " '위한',\n",
       " '다양한',\n",
       " '사업을',\n",
       " '추진중에',\n",
       " '있다',\n",
       " '며',\n",
       " '최초로',\n",
       " '예비창업자들의',\n",
       " '한편',\n",
       " '전남대병원은',\n",
       " '연구중심병원육성',\n",
       " 'R',\n",
       " 'D',\n",
       " '사업',\n",
       " '데이터중심병원사업',\n",
       " '임상데이터',\n",
       " '기반',\n",
       " '근골격계',\n",
       " '인체모사',\n",
       " '융합기술',\n",
       " '지원사업',\n",
       " '등',\n",
       " '빅데이터',\n",
       " '기술과',\n",
       " '융합된',\n",
       " '대형국책사업을',\n",
       " '추진',\n",
       " '중이다',\n",
       " '2022080801000290000008781',\n",
       " '10대',\n",
       " '정책',\n",
       " '목표는',\n",
       " '하이테크',\n",
       " '기반',\n",
       " '학생',\n",
       " '맞춤',\n",
       " '교육',\n",
       " '글로컬',\n",
       " '융합',\n",
       " '인재',\n",
       " '양성',\n",
       " '맞춤형',\n",
       " '진업',\n",
       " '진로교육',\n",
       " '교육',\n",
       " '사각지대',\n",
       " '해소',\n",
       " '교원',\n",
       " '역량',\n",
       " '확보와',\n",
       " '교권보호',\n",
       " '미래학교',\n",
       " '확산',\n",
       " '돌봄',\n",
       " '유야교육',\n",
       " '방과후',\n",
       " '공교육',\n",
       " '책임',\n",
       " '강화',\n",
       " '미래지향적',\n",
       " '그러니까',\n",
       " '실제로',\n",
       " '제가',\n",
       " '전북대',\n",
       " '총장님한테',\n",
       " '직접',\n",
       " '들은',\n",
       " '얘기인데',\n",
       " '담당할',\n",
       " '교수님을',\n",
       " '그렇게',\n",
       " '공을',\n",
       " '들여서',\n",
       " '섭외를',\n",
       " '해놓았는데',\n",
       " '결국',\n",
       " '마지막에',\n",
       " '수도권',\n",
       " '대학으로',\n",
       " '가더라는',\n",
       " '거죠',\n",
       " '그래서',\n",
       " '제가',\n",
       " '생각하는',\n",
       " '해법은',\n",
       " '인공지능',\n",
       " '관련',\n",
       " '연구',\n",
       " '과제의',\n",
       " '발굴',\n",
       " '및',\n",
       " '진행에도',\n",
       " '공동',\n",
       " '참여한다',\n",
       " '나군호',\n",
       " 'SK케미칼은',\n",
       " '인공지능',\n",
       " '플랫폼으로',\n",
       " 'NASH',\n",
       " '치료제',\n",
       " '후보물질을',\n",
       " '발굴한',\n",
       " '후',\n",
       " '특허',\n",
       " '출원을',\n",
       " '마쳤다',\n",
       " '현재',\n",
       " '또한',\n",
       " '금융',\n",
       " '비금융',\n",
       " '공공간',\n",
       " '데이터',\n",
       " '개방',\n",
       " '결합을',\n",
       " '확대하고',\n",
       " '금융분야',\n",
       " '활용을',\n",
       " '활성화하기',\n",
       " '위한',\n",
       " '데이터',\n",
       " '인프라도',\n",
       " '구축할',\n",
       " '예정이다',\n",
       " '또한',\n",
       " '신사업',\n",
       " '등',\n",
       " '금융',\n",
       " '관련',\n",
       " '인',\n",
       " '허가를',\n",
       " '신속히',\n",
       " '처리하고',\n",
       " '제재에',\n",
       " '대해서는',\n",
       " '제재상대방',\n",
       " '조선대학교',\n",
       " '정보통신공학부',\n",
       " '김영식',\n",
       " '교수가',\n",
       " '서울대학교',\n",
       " '및',\n",
       " '대구경북대학교',\n",
       " '연구팀과',\n",
       " '프라이버시',\n",
       " '보장',\n",
       " '기술을',\n",
       " '자체',\n",
       " '개발하고',\n",
       " '인공지능',\n",
       " '분야',\n",
       " '최우수',\n",
       " '학술대회인',\n",
       " 'ICML',\n",
       " '2022',\n",
       " '에서',\n",
       " '논문을',\n",
       " '발표했다',\n",
       " '8일',\n",
       " '조선대에',\n",
       " '따르면',\n",
       " '또',\n",
       " '라이나생명보험과의',\n",
       " '제휴를',\n",
       " '통해',\n",
       " '기술을',\n",
       " '활용해',\n",
       " '스마트폰',\n",
       " '카메라로',\n",
       " '촬영한',\n",
       " '얼굴',\n",
       " '영상을',\n",
       " '보고',\n",
       " '호흡수',\n",
       " '심박수',\n",
       " '스트레스',\n",
       " '지수',\n",
       " '등',\n",
       " '활력징후를',\n",
       " '알려주는',\n",
       " '건강신호',\n",
       " '측정',\n",
       " '건강',\n",
       " '설문을',\n",
       " '통해',\n",
       " '임상',\n",
       " '데이터를',\n",
       " '기반으로',\n",
       " '동강대',\n",
       " '제궁',\n",
       " '동강대학교',\n",
       " '총장',\n",
       " '이민숙',\n",
       " '는',\n",
       " '인공지능',\n",
       " '산타',\n",
       " '플랫폼을',\n",
       " '특히',\n",
       " '엔비디아',\n",
       " '지포스',\n",
       " 'RTX',\n",
       " '3060',\n",
       " 'GDDR6',\n",
       " '6GB',\n",
       " '115W',\n",
       " '그래픽카드는',\n",
       " 'CREATIVE',\n",
       " 'MAESTRO',\n",
       " '등급으로',\n",
       " '고급',\n",
       " '가속',\n",
       " '기능',\n",
       " '6K',\n",
       " 'HDR',\n",
       " '영상편집',\n",
       " '3D',\n",
       " '애니메이션',\n",
       " '제작',\n",
       " 'Adobe',\n",
       " 'Creative',\n",
       " 'Cloud',\n",
       " '최적화',\n",
       " '등',\n",
       " '전문적인',\n",
       " '작업이',\n",
       " '가능해',\n",
       " '크리에이터용',\n",
       " '금융',\n",
       " '비금융',\n",
       " '공공',\n",
       " '간',\n",
       " '데이터',\n",
       " '개방',\n",
       " '결합을',\n",
       " '확대하고',\n",
       " '금융',\n",
       " '분야',\n",
       " '인공지능',\n",
       " '활용을',\n",
       " '활성화하기',\n",
       " '위한',\n",
       " '데이터',\n",
       " '인프라도',\n",
       " '구축한다',\n",
       " '물적분할',\n",
       " '회사의',\n",
       " '자회사',\n",
       " '상장',\n",
       " '시',\n",
       " '분할',\n",
       " '반대주주',\n",
       " '주식매수청구권',\n",
       " '부여',\n",
       " '등을',\n",
       " '통해',\n",
       " '모회사',\n",
       " '유치',\n",
       " '인공지능',\n",
       " '영재고',\n",
       " '설립도',\n",
       " '필수불가결한',\n",
       " '사업이다',\n",
       " '라며',\n",
       " '적극적인',\n",
       " '지원과',\n",
       " '협조를',\n",
       " '요청하였다',\n",
       " '이어',\n",
       " '2027년',\n",
       " '아울러',\n",
       " '이상헌',\n",
       " '의원은',\n",
       " '인공지능',\n",
       " '또',\n",
       " '금융과',\n",
       " '비금융',\n",
       " '공공',\n",
       " '간',\n",
       " '데이터',\n",
       " '개방',\n",
       " '결합을',\n",
       " '확대하고',\n",
       " '금융분야',\n",
       " '인공지능',\n",
       " '활용',\n",
       " '활성화를',\n",
       " '위한',\n",
       " '데이터',\n",
       " '인프라를',\n",
       " '구축한다',\n",
       " '체감도',\n",
       " '향상을',\n",
       " '위해',\n",
       " '감독',\n",
       " '검사',\n",
       " '관행을',\n",
       " '개선하고',\n",
       " '금유의',\n",
       " '글로벌화도',\n",
       " '지원한다',\n",
       " '특히',\n",
       " '조선대학교',\n",
       " '정보통신공학부',\n",
       " '김영식',\n",
       " '교수가',\n",
       " '서울대학교',\n",
       " '및',\n",
       " '대구경북대학교',\n",
       " '연구팀과',\n",
       " '프라이버시',\n",
       " '보장',\n",
       " '기술을',\n",
       " '자체',\n",
       " '개발하고',\n",
       " '인공지능',\n",
       " '분야',\n",
       " '최우수',\n",
       " '학술대회인',\n",
       " 'ICML',\n",
       " '2022',\n",
       " '에서',\n",
       " '논문을',\n",
       " '발표했다',\n",
       " '8일',\n",
       " '조선대에',\n",
       " '메이저맵',\n",
       " '은',\n",
       " '2018년',\n",
       " '시작된',\n",
       " '로',\n",
       " '분석한',\n",
       " '데이터기반',\n",
       " '학과',\n",
       " '검색엔진을',\n",
       " '보유하고',\n",
       " '있고',\n",
       " '34만',\n",
       " '명이',\n",
       " '넘는',\n",
       " '유저를',\n",
       " '확보하고',\n",
       " '있다',\n",
       " '또',\n",
       " '전국',\n",
       " '65%가',\n",
       " '넘는',\n",
       " '고등학교에서',\n",
       " '교사들이',\n",
       " '사용하는',\n",
       " '서비스이다',\n",
       " '메이저맵',\n",
       " '검색엔진은',\n",
       " '경진대회',\n",
       " '요강은',\n",
       " '스마트팜',\n",
       " '작물재배',\n",
       " '분야는',\n",
       " '활용',\n",
       " '등',\n",
       " '생산성',\n",
       " '향상을',\n",
       " '위해',\n",
       " '다양한',\n",
       " '기술을',\n",
       " '스마트팜에',\n",
       " '적용해',\n",
       " '토마토와',\n",
       " '딸기',\n",
       " '작물을',\n",
       " '재배하는',\n",
       " '중소',\n",
       " '청년농업인이',\n",
       " '참가',\n",
       " '가능',\n",
       " '단체나',\n",
       " '대학',\n",
       " '법인의',\n",
       " '참여는',\n",
       " '제한',\n",
       " '금융',\n",
       " '비금융',\n",
       " '공공간',\n",
       " '데이터',\n",
       " '개방',\n",
       " '결합을',\n",
       " '확대하고',\n",
       " '금융',\n",
       " '분야',\n",
       " '활용을',\n",
       " '활성화하기',\n",
       " '위한',\n",
       " '데이터',\n",
       " '인프라를',\n",
       " '구축한다',\n",
       " '특히',\n",
       " '우리',\n",
       " '경제',\n",
       " '기업이',\n",
       " '실적에',\n",
       " '합당한',\n",
       " '평가를',\n",
       " '받고',\n",
       " '향후',\n",
       " '자본시장이',\n",
       " '더욱',\n",
       " '빠르고',\n",
       " '강하게',\n",
       " '반등할',\n",
       " '수',\n",
       " '에듀테크',\n",
       " '대표',\n",
       " '기업',\n",
       " '아이스크림에듀',\n",
       " '대표',\n",
       " '이윤석',\n",
       " '가',\n",
       " '지난',\n",
       " '1일',\n",
       " '서울',\n",
       " '서초구청에서',\n",
       " '서리풀',\n",
       " '샘',\n",
       " '영진전문대학교',\n",
       " '총장',\n",
       " '최재영',\n",
       " '융합기계계열',\n",
       " '포레의',\n",
       " 'eFMS는',\n",
       " '데이터',\n",
       " '기반의',\n",
       " '스마트',\n",
       " 'AIoT',\n",
       " '와',\n",
       " 'IoT기술을',\n",
       " '접목해',\n",
       " '음식물쓰레기를',\n",
       " '버리기만',\n",
       " '하면',\n",
       " '자동으로',\n",
       " '보관',\n",
       " '처리하고',\n",
       " '한',\n",
       " '독서플랫폼',\n",
       " '스타트업이다',\n",
       " '젤리페이지의',\n",
       " '가장',\n",
       " '큰',\n",
       " '강점은',\n",
       " '페어런트테크',\n",
       " 'Parent',\n",
       " 'tech',\n",
       " '기능을',\n",
       " '업무를',\n",
       " '보다',\n",
       " '빠르고',\n",
       " '효율적으로',\n",
       " '수행하기',\n",
       " '위해',\n",
       " '개발한',\n",
       " '인공지능',\n",
       " '이',\n",
       " '사이버범죄에',\n",
       " '악용될',\n",
       " '수',\n",
       " '있음도',\n",
       " '널리',\n",
       " '알려져',\n",
       " '있다',\n",
       " 'ICT의',\n",
       " '발전에',\n",
       " '따라',\n",
       " '빛과',\n",
       " '어둠이',\n",
       " '모두',\n",
       " '나타나고',\n",
       " '있는',\n",
       " '상황이다',\n",
       " '주지할',\n",
       " '사실은',\n",
       " 'ICT',\n",
       " '자체에는',\n",
       " '선악이',\n",
       " '나만의',\n",
       " '추천',\n",
       " '서비스나',\n",
       " '삼성',\n",
       " '퀀트',\n",
       " '고수들의',\n",
       " '종목',\n",
       " '등',\n",
       " '리포트가',\n",
       " '매우',\n",
       " '유용해',\n",
       " '참고하기',\n",
       " '좋습니다',\n",
       " '특히',\n",
       " '고수들의',\n",
       " '종목은',\n",
       " '상위',\n",
       " '1000명의',\n",
       " '데이터를',\n",
       " '주기적으로',\n",
       " '보여주고',\n",
       " '있습니다',\n",
       " '계좌를',\n",
       " '개설할',\n",
       " '때',\n",
       " '알뜰폰으로는',\n",
       " '인증이',\n",
       " '되지',\n",
       " 'KB국민카드',\n",
       " '디지털',\n",
       " '이지',\n",
       " '교실은',\n",
       " '농산어촌',\n",
       " '지역',\n",
       " '청소년을',\n",
       " '대상으로',\n",
       " '빅데이터',\n",
       " '사물인터넷',\n",
       " '인공지능',\n",
       " '증강현실',\n",
       " 'AR',\n",
       " '가상현실',\n",
       " 'VR',\n",
       " '등',\n",
       " '다양한',\n",
       " '이론',\n",
       " '및',\n",
       " '체험교육을',\n",
       " '지원하는',\n",
       " '프로그램이다',\n",
       " 'KB국민카드는',\n",
       " '미래',\n",
       " '대상으로',\n",
       " '빅데이터',\n",
       " '사물인터넷',\n",
       " '인공지능',\n",
       " '가상현실',\n",
       " 'VR',\n",
       " '등',\n",
       " '디지털',\n",
       " '교육을',\n",
       " '통해',\n",
       " '농산어촌',\n",
       " '청소년들이',\n",
       " '우수한',\n",
       " '디지털',\n",
       " '인재로',\n",
       " '성장하기를',\n",
       " '국내',\n",
       " '1위',\n",
       " '소프트웨어에',\n",
       " '대한',\n",
       " '수요도',\n",
       " '꾸준히',\n",
       " '증가하며',\n",
       " '에쓰오일',\n",
       " '포스코ICT',\n",
       " '국내',\n",
       " '대표',\n",
       " '글로벌',\n",
       " '대기업',\n",
       " 'A사',\n",
       " 'B사',\n",
       " '홍준표',\n",
       " '대구시장이',\n",
       " '8일',\n",
       " '과학기술정보통신부가',\n",
       " '2030년까지',\n",
       " '수성알파시티에',\n",
       " '2조2천억원을',\n",
       " '투자해',\n",
       " '대구를',\n",
       " '국내',\n",
       " 'ABB',\n",
       " '빅데이터',\n",
       " '블록체인',\n",
       " '분야',\n",
       " '중심으로',\n",
       " '육성하기로',\n",
       " '했다',\n",
       " '고',\n",
       " '밝혔다',\n",
       " 'ABB는',\n",
       " '대구시에서',\n",
       " '집중',\n",
       " '육성하려는',\n",
       " '5대',\n",
       " 'Their',\n",
       " 'latest',\n",
       " 'collaboration',\n",
       " 'is',\n",
       " 'for',\n",
       " 'the',\n",
       " 'media',\n",
       " 'content',\n",
       " 'services',\n",
       " '5G',\n",
       " '5G',\n",
       " 'platform',\n",
       " 'for',\n",
       " 'Turkish',\n",
       " '5G',\n",
       " 'commercialization',\n",
       " 'plans',\n",
       " 'We',\n",
       " 'plan',\n",
       " 'to',\n",
       " 'cooperate',\n",
       " 'with',\n",
       " 'Turk',\n",
       " 'Telecom',\n",
       " 'to',\n",
       " 'develop',\n",
       " 'services',\n",
       " 'tailored',\n",
       " 'to',\n",
       " '평택교육지원청',\n",
       " '이용주',\n",
       " '교육장은',\n",
       " '평택교육지원청은',\n",
       " '지난해와',\n",
       " '올해',\n",
       " '전국에서',\n",
       " '가장',\n",
       " '많은',\n",
       " '공동교육과정을',\n",
       " '개설한',\n",
       " '사례가',\n",
       " '있으며',\n",
       " '앞으로',\n",
       " '더욱',\n",
       " '발전해',\n",
       " '경기도',\n",
       " '하이테크',\n",
       " '기반',\n",
       " '맞춤형',\n",
       " '교육',\n",
       " '경기형',\n",
       " 'IB',\n",
       " '프로그램',\n",
       " 'DQ',\n",
       " '수도권',\n",
       " '최대',\n",
       " '300',\n",
       " '이상',\n",
       " '비',\n",
       " '곳곳',\n",
       " '비',\n",
       " '피해',\n",
       " '내일까지',\n",
       " '수도권과',\n",
       " '강원',\n",
       " '지역에',\n",
       " '많게는',\n",
       " '300mm',\n",
       " '이상의',\n",
       " '비가',\n",
       " '내리는',\n",
       " '등',\n",
       " '중부지방을',\n",
       " '중심으로',\n",
       " '매우',\n",
       " '많은',\n",
       " '비가',\n",
       " '내리겠습니다',\n",
       " '강풍을',\n",
       " '동반한',\n",
       " '폭우에',\n",
       " '지하차도가',\n",
       " '물에',\n",
       " '잠기거나',\n",
       " '금융',\n",
       " '비금융',\n",
       " '공공',\n",
       " '간',\n",
       " '데이터',\n",
       " '개방과',\n",
       " '결합을',\n",
       " '확대하고',\n",
       " '금융',\n",
       " '분야',\n",
       " '인공지능',\n",
       " '활용을',\n",
       " '활성화하기',\n",
       " '위한',\n",
       " '데이터',\n",
       " '인프라를',\n",
       " '구축할',\n",
       " '계획이다',\n",
       " '자본시장과',\n",
       " '관련해',\n",
       " '물적',\n",
       " '분할',\n",
       " '시',\n",
       " '공시',\n",
       " '상장심사를',\n",
       " '강화하고',\n",
       " '분할',\n",
       " '반대주주에',\n",
       " '인공지능',\n",
       " '활용',\n",
       " '인프라를',\n",
       " '구축하고',\n",
       " '검사',\n",
       " '제재관행도',\n",
       " '선진화할',\n",
       " '계획이다',\n",
       " '자본시장',\n",
       " '채질하고',\n",
       " '디지털자산기본법',\n",
       " '제정',\n",
       " '금융위는',\n",
       " '자본시장',\n",
       " '체질도',\n",
       " '개선해나가기로',\n",
       " '했다',\n",
       " '자본시장에서는',\n",
       " '물적분할',\n",
       " '자회사',\n",
       " '상장시',\n",
       " '삼성전자',\n",
       " '모델이',\n",
       " '제트랜드',\n",
       " '와',\n",
       " '비스포크',\n",
       " '제트',\n",
       " '봇',\n",
       " '자율주행',\n",
       " '기능을',\n",
       " '인공지능',\n",
       " '등',\n",
       " '경남도청',\n",
       " '경남테크노파크',\n",
       " '진주시',\n",
       " '통영시',\n",
       " '사천시',\n",
       " '등',\n",
       " '5개',\n",
       " '기관',\n",
       " '참여경남도',\n",
       " '융합인재교육연구단은',\n",
       " '가좌캠퍼스',\n",
       " '항공우주산학협력관에서',\n",
       " '을',\n",
       " '금융산업',\n",
       " '경쟁력을',\n",
       " '위해',\n",
       " '디지털',\n",
       " '혁신을',\n",
       " '위한',\n",
       " '플랫폼',\n",
       " '금융서비스와',\n",
       " '관련된',\n",
       " '제도개선과',\n",
       " '인공지능',\n",
       " '데이터',\n",
       " '인프라를',\n",
       " '구축한다',\n",
       " '자본시장에서는',\n",
       " '물적분할',\n",
       " '자회사',\n",
       " '상장',\n",
       " '시',\n",
       " '공시와',\n",
       " '상장심사를',\n",
       " '강화하고',\n",
       " '분할',\n",
       " '반대주주',\n",
       " '소재',\n",
       " '에서',\n",
       " 'IoT',\n",
       " '등',\n",
       " '4차',\n",
       " '산업혁명',\n",
       " '기술의',\n",
       " '중부권',\n",
       " '전진기지로',\n",
       " '나가는',\n",
       " '데',\n",
       " '이바지하고',\n",
       " '있다',\n",
       " '본',\n",
       " '사업을',\n",
       " '총괄하는',\n",
       " '재',\n",
       " '유치',\n",
       " '인공지능',\n",
       " '영재고',\n",
       " '설립도',\n",
       " '필수불가결한',\n",
       " '사업이다',\n",
       " '라며',\n",
       " '적극적인',\n",
       " '협조를',\n",
       " '요청했다',\n",
       " '이어',\n",
       " '2027년',\n",
       " '준공이',\n",
       " '엠로',\n",
       " '상반기',\n",
       " '매출',\n",
       " '285억',\n",
       " '2분기',\n",
       " '영업익',\n",
       " '1분기보다',\n",
       " '188',\n",
       " '7%',\n",
       " '증가',\n",
       " '인공지능',\n",
       " '기반',\n",
       " '공급망',\n",
       " '관리',\n",
       " '소프트웨어',\n",
       " '기업',\n",
       " '엠로는',\n",
       " '올해',\n",
       " '상반기',\n",
       " '연결',\n",
       " '기준',\n",
       " '매출',\n",
       " '285억원',\n",
       " '영업이익',\n",
       " '24억1000만원',\n",
       " '당기',\n",
       " '순이익',\n",
       " '29억6000만원으로',\n",
       " '또한',\n",
       " '라이나생명보험과의',\n",
       " '제휴를',\n",
       " '통해',\n",
       " '기술을',\n",
       " '활용해',\n",
       " '스마트폰',\n",
       " '카메라로',\n",
       " '촬영한',\n",
       " '얼굴',\n",
       " '영상을',\n",
       " '보고',\n",
       " '호흡수',\n",
       " '심박수',\n",
       " '스트레스',\n",
       " '지수',\n",
       " '등',\n",
       " '활력징후를',\n",
       " '알려주는',\n",
       " '건강신호',\n",
       " '측정',\n",
       " '건강',\n",
       " '설문을',\n",
       " '통해',\n",
       " '임상',\n",
       " '데이터를',\n",
       " '기반으로',\n",
       " '하림',\n",
       " '관계자는',\n",
       " '지난해',\n",
       " '말',\n",
       " '조류인플루엔자',\n",
       " '영향으로',\n",
       " '생계',\n",
       " '시세가',\n",
       " '올라',\n",
       " '실적이',\n",
       " '개선됐다',\n",
       " '며',\n",
       " '2020년부터',\n",
       " '가동하고',\n",
       " '있는',\n",
       " '익산',\n",
       " '공장에',\n",
       " '최신식',\n",
       " '설비를',\n",
       " '지속해서',\n",
       " '도입하는',\n",
       " '등',\n",
       " '생산성도',\n",
       " '높아졌다',\n",
       " '고',\n",
       " '말했다',\n",
       " '제트랜드',\n",
       " '곳곳에',\n",
       " '숨겨진',\n",
       " '황금',\n",
       " '제트봇을',\n",
       " '찾으면',\n",
       " '할인코드를',\n",
       " '획득할',\n",
       " '수',\n",
       " ...]"
      ]
     },
     "execution_count": 157,
     "metadata": {},
     "output_type": "execute_result"
    }
   ],
   "source": [
    "word_list"
   ]
  },
  {
   "cell_type": "code",
   "execution_count": 159,
   "id": "aa681d8a",
   "metadata": {},
   "outputs": [
    {
     "data": {
      "text/plain": [
       "'10대 정책 목표는 인공지능 기반 교육 글로컬 글로벌 로컬 융합인재 육성 학생 맞춤형 직업 진로 교육 누구도 소외되지 않는 교육 교사 적극 지원 혁신 교육 재구조화 정치 이념 편향성 해소 돌봄 1000여개사 언론기사 인공지능 지원 을 제공하기로 했다 주요 글로벌 기업들이 공급망 내 협력사에도 강도 높은 ESG 딥노이드 알고리즘 를 통한 흉부 X레이진단 논문 이 네이처 파트너 저널 Nature Partner 인공지능 Artificial Intelligence 기술을 활용한 이상 탐지 및 예측 설루션 Solution 문제 처리 시스템 제품을 출시하고 있다 이날 코스피는 전 거래일 2490 80 보다 0 39% 9 63포인트 떨어진 2481 17로 하락 김 과장은 현재 스타트업 기업 입주를 포함해 기발 헬스케어 플랫폼 조성 소공인들을 위한 공동기반시설 운영 등 지역의 상공인들과 지역경제를 위한 다양한 사업을 추진중에 있다 며 최초로 예비창업자들의 한편 전남대병원은 연구중심병원육성 R D 사업 데이터중심병원사업 임상데이터 기반 근골격계 인체모사 융합기술 지원사업 등 빅데이터 기술과 융합된 대형국책사업을 추진 중이다 2022080801000290000008781 10대 정책 목표는 하이테크 기반 학생 맞춤 교육 글로컬 융합 인재 양성 맞춤형 진업 진로교육 교육 사각지대 해소 교원 역량 확보와 교권보호 미래학교 확산 돌봄 유야교육 방과후 공교육 책임 강화 미래지향적 그러니까 실제로 제가 전북대 총장님한테 직접 들은 얘기인데 담당할 교수님을 그렇게 공을 들여서 섭외를 해놓았는데 결국 마지막에 수도권 대학으로 가더라는 거죠 그래서 제가 생각하는 해법은 인공지능 관련 연구 과제의 발굴 및 진행에도 공동 참여한다 나군호 SK케미칼은 인공지능 플랫폼으로 NASH 치료제 후보물질을 발굴한 후 특허 출원을 마쳤다 현재 또한 금융 비금융 공공간 데이터 개방 결합을 확대하고 금융분야 활용을 활성화하기 위한 데이터 인프라도 구축할 예정이다 또한 신사업 등 금융 관련 인 허가를 신속히 처리하고 제재에 대해서는 제재상대방 조선대학교 정보통신공학부 김영식 교수가 서울대학교 및 대구경북대학교 연구팀과 프라이버시 보장 기술을 자체 개발하고 인공지능 분야 최우수 학술대회인 ICML 2022 에서 논문을 발표했다 8일 조선대에 따르면 또 라이나생명보험과의 제휴를 통해 기술을 활용해 스마트폰 카메라로 촬영한 얼굴 영상을 보고 호흡수 심박수 스트레스 지수 등 활력징후를 알려주는 건강신호 측정 건강 설문을 통해 임상 데이터를 기반으로 동강대 제궁 동강대학교 총장 이민숙 는 인공지능 산타 플랫폼을 특히 엔비디아 지포스 RTX 3060 GDDR6 6GB 115W 그래픽카드는 CREATIVE MAESTRO 등급으로 고급 가속 기능 6K HDR 영상편집 3D 애니메이션 제작 Adobe Creative Cloud 최적화 등 전문적인 작업이 가능해 크리에이터용 금융 비금융 공공 간 데이터 개방 결합을 확대하고 금융 분야 인공지능 활용을 활성화하기 위한 데이터 인프라도 구축한다 물적분할 회사의 자회사 상장 시 분할 반대주주 주식매수청구권 부여 등을 통해 모회사 유치 인공지능 영재고 설립도 필수불가결한 사업이다 라며 적극적인 지원과 협조를 요청하였다 이어 2027년 아울러 이상헌 의원은 인공지능 또 금융과 비금융 공공 간 데이터 개방 결합을 확대하고 금융분야 인공지능 활용 활성화를 위한 데이터 인프라를 구축한다 체감도 향상을 위해 감독 검사 관행을 개선하고 금유의 글로벌화도 지원한다 특히 조선대학교 정보통신공학부 김영식 교수가 서울대학교 및 대구경북대학교 연구팀과 프라이버시 보장 기술을 자체 개발하고 인공지능 분야 최우수 학술대회인 ICML 2022 에서 논문을 발표했다 8일 조선대에 메이저맵 은 2018년 시작된 로 분석한 데이터기반 학과 검색엔진을 보유하고 있고 34만 명이 넘는 유저를 확보하고 있다 또 전국 65%가 넘는 고등학교에서 교사들이 사용하는 서비스이다 메이저맵 검색엔진은 경진대회 요강은 스마트팜 작물재배 분야는 활용 등 생산성 향상을 위해 다양한 기술을 스마트팜에 적용해 토마토와 딸기 작물을 재배하는 중소 청년농업인이 참가 가능 단체나 대학 법인의 참여는 제한 금융 비금융 공공간 데이터 개방 결합을 확대하고 금융 분야 활용을 활성화하기 위한 데이터 인프라를 구축한다 특히 우리 경제 기업이 실적에 합당한 평가를 받고 향후 자본시장이 더욱 빠르고 강하게 반등할 수 에듀테크 대표 기업 아이스크림에듀 대표 이윤석 가 지난 1일 서울 서초구청에서 서리풀 샘 영진전문대학교 총장 최재영 융합기계계열 포레의 eFMS는 데이터 기반의 스마트 AIoT 와 IoT기술을 접목해 음식물쓰레기를 버리기만 하면 자동으로 보관 처리하고 한 독서플랫폼 스타트업이다 젤리페이지의 가장 큰 강점은 페어런트테크 Parent tech 기능을 업무를 보다 빠르고 효율적으로 수행하기 위해 개발한 인공지능 이 사이버범죄에 악용될 수 있음도 널리 알려져 있다 ICT의 발전에 따라 빛과 어둠이 모두 나타나고 있는 상황이다 주지할 사실은 ICT 자체에는 선악이 나만의 추천 서비스나 삼성 퀀트 고수들의 종목 등 리포트가 매우 유용해 참고하기 좋습니다 특히 고수들의 종목은 상위 1000명의 데이터를 주기적으로 보여주고 있습니다 계좌를 개설할 때 알뜰폰으로는 인증이 되지 KB국민카드 디지털 이지 교실은 농산어촌 지역 청소년을 대상으로 빅데이터 사물인터넷 인공지능 증강현실 AR 가상현실 VR 등 다양한 이론 및 체험교육을 지원하는 프로그램이다 KB국민카드는 미래 대상으로 빅데이터 사물인터넷 인공지능 가상현실 VR 등 디지털 교육을 통해 농산어촌 청소년들이 우수한 디지털 인재로 성장하기를 국내 1위 소프트웨어에 대한 수요도 꾸준히 증가하며 에쓰오일 포스코ICT 국내 대표 글로벌 대기업 A사 B사 홍준표 대구시장이 8일 과학기술정보통신부가 2030년까지 수성알파시티에 2조2천억원을 투자해 대구를 국내 ABB 빅데이터 블록체인 분야 중심으로 육성하기로 했다 고 밝혔다 ABB는 대구시에서 집중 육성하려는 5대 Their latest collaboration is for the media content services 5G 5G platform for Turkish 5G commercialization plans We plan to cooperate with Turk Telecom to develop services tailored to 평택교육지원청 이용주 교육장은 평택교육지원청은 지난해와 올해 전국에서 가장 많은 공동교육과정을 개설한 사례가 있으며 앞으로 더욱 발전해 경기도 하이테크 기반 맞춤형 교육 경기형 IB 프로그램 DQ 수도권 최대 300 이상 비 곳곳 비 피해 내일까지 수도권과 강원 지역에 많게는 300mm 이상의 비가 내리는 등 중부지방을 중심으로 매우 많은 비가 내리겠습니다 강풍을 동반한 폭우에 지하차도가 물에 잠기거나 금융 비금융 공공 간 데이터 개방과 결합을 확대하고 금융 분야 인공지능 활용을 활성화하기 위한 데이터 인프라를 구축할 계획이다 자본시장과 관련해 물적 분할 시 공시 상장심사를 강화하고 분할 반대주주에 인공지능 활용 인프라를 구축하고 검사 제재관행도 선진화할 계획이다 자본시장 채질하고 디지털자산기본법 제정 금융위는 자본시장 체질도 개선해나가기로 했다 자본시장에서는 물적분할 자회사 상장시 삼성전자 모델이 제트랜드 와 비스포크 제트 봇 자율주행 기능을 인공지능 등 경남도청 경남테크노파크 진주시 통영시 사천시 등 5개 기관 참여경남도 융합인재교육연구단은 가좌캠퍼스 항공우주산학협력관에서 을 금융산업 경쟁력을 위해 디지털 혁신을 위한 플랫폼 금융서비스와 관련된 제도개선과 인공지능 데이터 인프라를 구축한다 자본시장에서는 물적분할 자회사 상장 시 공시와 상장심사를 강화하고 분할 반대주주 소재 에서 IoT 등 4차 산업혁명 기술의 중부권 전진기지로 나가는 데 이바지하고 있다 본 사업을 총괄하는 재 유치 인공지능 영재고 설립도 필수불가결한 사업이다 라며 적극적인 협조를 요청했다 이어 2027년 준공이 엠로 상반기 매출 285억 2분기 영업익 1분기보다 188 7% 증가 인공지능 기반 공급망 관리 소프트웨어 기업 엠로는 올해 상반기 연결 기준 매출 285억원 영업이익 24억1000만원 당기 순이익 29억6000만원으로 또한 라이나생명보험과의 제휴를 통해 기술을 활용해 스마트폰 카메라로 촬영한 얼굴 영상을 보고 호흡수 심박수 스트레스 지수 등 활력징후를 알려주는 건강신호 측정 건강 설문을 통해 임상 데이터를 기반으로 하림 관계자는 지난해 말 조류인플루엔자 영향으로 생계 시세가 올라 실적이 개선됐다 며 2020년부터 가동하고 있는 익산 공장에 최신식 설비를 지속해서 도입하는 등 생산성도 높아졌다 고 말했다 제트랜드 곳곳에 숨겨진 황금 제트봇을 찾으면 할인코드를 획득할 수 있으며 해당 코드로 삼성닷컴에서 로봇청소기 신제품 비스포크 제트 봇 사진 엠로 기반 공급망관리 소프트웨어 기업 엠로가 2분기 매출 151억 원 영업이익 17억 9000만원을 기록했다고 8일 밝혔다 영업이익은 전분기 대비 188 7% 증가했다 자회사 인포와이즈 도 2분기 매출액과 대상으로 빅데이터 사물인터넷 인공지능 가상현실 VR 등 디지털 교육을 통해 농산어촌 청소년들이 우수한 디지털 인재로 성장하기를 인공지능 무인이동체 같은 민간의 기술 서비스 개발 단계부터 개인정보 중심 설계가 작동하도록 이하 NIPA 과 KT 대표 구현모 가 디지털전환 DX 관련 사업 및 인공지능 DX 인재 국내 1위 소프트웨어에 대한 수요도 꾸준히 증가하며 에쓰오일 포스코ICT 국내 대표 글로벌 대기업 A사 B사 이를 위해 금융 비금융 공공간 데이터 개방 및 결합을 확대하고 금융분야 인공지능 활용을 활성화하기 위한 데이터 인프라를 구축한다 금융업의 빅블러 현상 및 디지털 전환에 맞춰 플랫폼 금융서비스 활성화를 위해 이를 위해 금융과 비금융 공공 간 데이터 개방결합을 확대하고 금융분야 인공지능 활용 활성화를 위한 데이터 인프라를 구축한다 특히 신사업 등 금융 관련 인허가를 신속히 처리하고 제재에 대해서는 제재상대방 또 금융 분야 인공지능 나 빅데이터 등 기술발전이 빠르게 이뤄지고 있다 우리 삼성전자 모델이 모델이 제트랜드 와 비스포크 제트 봇 자율주행 기능을 탑재한 제트랜드 곳곳에 숨겨진 황금 제트봇을 찾으면 할인코드를 획득할 수 있으며 해당 코드로 삼성닷컴에서 로봇청소기 신제품 비스포크 제트 봇 네이버와 네이버클라우드 충북대학교병원이 인공지능 관련 연구 과제 발굴 및 진행에도 공동 참여한다 나군호 네이버 인공지능 DX 인재 양성을 함께 메가존클라우드는 국내 1위 MSP로 클라우드 인공지능 김동규 한글과컴퓨터학원장은 로봇 등 4차산업혁명의 근간을 이루는 정보 과학 인재는 국가 경쟁력에서 매우 중요하다 며 프로그래밍 능력이 그 자체로 진학과 취업에 도움이 되겠지만 더 넓게 보면 빠르게 하림 관계자는 지난해 겨울 조류인플루엔자 영향으로 살처분 된 닭이 늘면서 올해 상반기 공급 부족으로 생계 시세가 GS네오텍이 출시한 사이트디펜더 대시보드 GS네오텍 대표 남기정 은 ML 머신러닝 기반 차세대 서비스형 보안 서비스 사이트디펜더 Site Defender 를 출시했다고 8일 밝혔다 사이트디펜더는 경량화된 차세대 에듀윌은 쉬토공 패스 수강생들을 위한 무료 추가 혜택도 마련했다 토익 핵심 빈출 교재 2종과 쉬운 영문법 인강 및 교재를 제공하고 에듀윌 토익 앱을 무료로 이용할 수 있다 대상으로 빅데이터 사물인터넷 인공지능 가상현실 VR 등 디지털 교육을 통해 농산어촌 청소년들이 우수한 디지털 인재로 성장하기를 이는 곧 많은 중국 내 기업들에 기회를 제공하고 있으며 특히 최근 중국 내에서 수요가 급증하고 있는 전기차 관련 시 스템 반도체는 중국 팹리 스 기업의 성장에 촉진제 역할을 하고 있다 다음으로 정부 차원의 업무자동화 3단계 발전 로드맵을 수립해 대상 업무를 단계적으로 확대하고 인공지능 기술과 접목해 사람의 인지능력이 필요한 업무에도 확대 적용할 계획이다 김종호 기보 이사장은 포스트 코로나 시대를 맞아 입은 투자 손실이 실적 악화의 주요한 원인이라는 평가다 니혼게이자이신문 닛케이 은 지난 4 6월 인공지능 관련 신흥 기업에 투자하는 비전펀드 사업에서 2조9000억엔의 투자 손실이 발생했다고 밝혔다 요즘에 메타버스니 IOT니 여러 가지 새로운 문명들에 대해서 많이 접하고 있으면서도 과연 그러면 이런 새로운 문명에 의해서 만들어지는 새로운 사회에 필요한 인력들은 과연 어떤 자격을 갖춰야 되나라는 거를 사실 SK네트웍스는 2022년 들어 인공지능 친환경 신소재 모빌리티 전기차충전 블록체인 인테리어플랫폼 트랙터 무인자동화솔루션 등의 분야에서 국내외 투자를 확대하며 사업형 투자사 역할을 본격적으로 황 대표는 디지털 헬스케어를 구성하는 4가지 요소인 인공지능 사물인터넷 IoT 클라우드 모바일 중 카카오는 24시간 옆에 두는 모바일부터 사업을 전개하고 있다 며 병원이 환자에게 해줬으면 좋겠지만 인공지능 캐릭터였다면 헛된 그밖에 인공지능 교육을 필수화 등 교육 과제가 첩첩산중 쌓여 있다 교육계 관계자는 교육 철학을 가지고 산적한 교육 과제를 이날 건의한 사업은 충북 미래 100년의 성장 발판이 될 KAIST 오송 바이오메디컬 캠퍼스타운 유치 영재고 설립도 꼭 필요한 사업 이라고 말했다 2027년 준공 예정인 오창 방사광가속기 등의 사업 추진에도 세계 각국이 파격적인 지원책을 동원해 반도체산업 육성에 혈안이 될 정도로 인공지능 빅데이터 6G 자율주행 자동차 바이오 배터리 등 4차 산업혁명의 근간이다 정부의 반도체산업 육성 의지는 반도체 초강대국 이에 따라 금융위는 전업주의 규제를 완화하고 금융 비금융 공공 간 데이터 개방과 결합을 확대하고 금융 분야 인공지능 활용을 활성화하기 위한 데이터 인프라를 구축할 방침이다 아울러 신사업 등 금융 관련 메타버스 Metaverse 란 가상현실 VR 증강현실 AR 인공지능 기술을 통한 침해 단속을 포함한 주도적인 대비와 대응이 필수적이라고 O Reilly 변호사는 금융 비금융 공공 간 데이터 개방 결합을 확대하고 금융 분야 활용을 활성화하기 위한 데이터 인프라도 구축한다 금융 행정과 관련해 검사 감독 관행을 개선하고 금융의 글로벌화를 지원한다 신사업 등 금융 관련 이번 채용은 활용 화상 로완의 자체 개발 인지훈련 프로그램인 슈퍼브레인 은 앱을 통해 다양한 과제를 수행하여 치매환자의 뇌를 자극하는 훈련과 를 활용해 환자의 상태를 분석한 맞춤형 훈련 등으로 구성됐다 이를 통해 경도치매 환자가 수도권 최대 300 이상 비 곳곳 비 피해 내일까지 수도권과 강원 지역에 많게는 300mm 이상의 비가 내리는 등 중부지방을 중심으로 매우 많은 비가 내리겠습니다 강풍을 동반한 폭우에 지하차도가 물에 잠기거나 7% 급증했다 당기순이익은 228억1600만원으로 1년 전보다 245 5% 뛰었다 하림 측은 지난해 말 조류독감 으로 살처분 된 물량이 생겨 올해 생계시세가 높아졌다 고 설명했다 EBN 김영환 충청북도지사가 8일 세종에서 이종호 과학기술정보통신부 장관을 만나 영재고도 필수 불가결한 사업 이라고 강조했다 또 오창 방사광가속기 적기 구축과 최첨단 연구 인프라 금융위원회는 금융 비금융 공공 간 데이터 개방과 결합을 확대하고 금융 분야 인공지능 활용을 활성화하기 위한 데이터 인프라를 구축할 계획이다 아울러 신사업 등 금융 관련 인허가를 신속히 처리하고 제재에 인공지능 DX 인재 양성 금융 비금융 간 데이터 개방 및 결합을 확대하고 금융 분야 인공지능 활용을 활성화하기 위한 데이터 인프라를 구축한다 금융회사가 신사업을 빠른 속도로 할 수 있게 금융감독원이 인허가를 신속히 처리하고 검사 핀테크 바이오의료 등 다양한 기업에서 인공지능 전문교육을 진행하는 프로그램이다 지자체 최초의 모델 개발 과정에서 밝혀진 사실 현재 디지털 전환 이뤄지고 있고 인공지능 과 빅데이터 등 기술 발전도 매우 빠르게 진행되고 있다 그래서 우리 금융기관들도 디지털 전환이나 첨단 기술 이용해 새로운 분양에 진출할 수 있도록 하겠다는 것이다 다만 3D 모델링 는 휴대폰 영상만으로 인공지능 활용을 활성화하기 위한 데이터 인프라를 구축할 계획 이라고 말했다 금융사 영업 활동을 제약하는 금융당국의 검사 감독 관행도 개선하기로 했다 김 위원장은 신사업 등 금융 관련 인 허가를 신속히 또 인공지능 기술을 활용한 다양한 기능으로 화상회의 몰입감을 높이고 업무 생산성 향상에 기여한다 LG 스마트TV 이용자들은 넓고 선명한 화면에서 리모트미팅으로 더 쉽고 편리하게 생동감 있는 커뮤니케이션을 이하 마우저 가 협업을 통한 혁신 Empowering Innovation Together 프로그램의 최신 에피소드 의 비약적 성장을 해당 코드는 삼성닷컴에서 로봇청소기 신제품 비스포크 제트 봇 인공지능 SE가 앞서 출시된 로봇청소기 비스포크 금융과 비금융 공공 간 데이터 개방 결합을 확대하고 금융 분야 인공지능 활용을 활성화하기 위한 데이터 인프라도 구축한다 금융 행정 관련 검사 감독 관행을 개선하고 금융의 글로벌화도 지원한다 신사업 등 금융 비금융 공공 간의 데이터 개방 결합을 확대하고 금융 분야 인공지능 활용을 활성화하기 위해 데이터 인프라도 구축한다 자본시장에서는 투자자 권익 보호 강화와 신뢰를 제고하기 위해 물적분할 자회사 상장 시 로완의 자체 개발 인지훈련 프로그램인 슈퍼브레인 은 앱을 통해 다양한 과제를 수행해 치매환자의 뇌를 자극하는 훈련과 인공지능 를 활용해 환자의 상태를 분석한 맞춤형 훈련 등으로 구성되어 있다 이를 통해 10대 정책목표는 인공지능 기반 교육 글로컬 글로벌 로컬 융합인재 육성 학생 맞춤형 직업 진로 교육 누구도 소외되지 않는 교육 교사 적극 지원 혁신교육 재구조화 정치 이념 편향성 해소 돌봄 2분기 매출액 151억 영업이익 17 9억 당기순이익 12 9억 기록 이복현 기자 국내 소프트웨어에 대한 수요도 증가하며 에쓰오일 포스코ICT 국내 대표 글로벌 대기업 A사 B사 등과'"
      ]
     },
     "execution_count": 159,
     "metadata": {},
     "output_type": "execute_result"
    }
   ],
   "source": [
    "word_str_clean = ' '.join(word_list)\n",
    "word_str_clean"
   ]
  },
  {
   "cell_type": "code",
   "execution_count": 160,
   "id": "996515b0",
   "metadata": {},
   "outputs": [
    {
     "data": {
      "text/plain": [
       "[('10대', 'N'),\n",
       " ('정책', 'N'),\n",
       " ('목표', 'N'),\n",
       " ('는', 'J'),\n",
       " ('인공지능', 'N'),\n",
       " ('기반', 'N'),\n",
       " ('교육', 'N'),\n",
       " ('글로컬', 'N'),\n",
       " ('글로벌', 'N'),\n",
       " ('로컬', 'N'),\n",
       " ('융합인재', 'N'),\n",
       " ('육성', 'N'),\n",
       " ('학생', 'N'),\n",
       " ('맞춤형', 'N'),\n",
       " ('직업', 'N'),\n",
       " ('진', 'N'),\n",
       " ('로', 'J'),\n",
       " ('교육', 'N'),\n",
       " ('누구', 'N'),\n",
       " ('도', 'J'),\n",
       " ('소외', 'N'),\n",
       " ('되', 'X'),\n",
       " ('지', 'E'),\n",
       " ('않', 'P'),\n",
       " ('는', 'E'),\n",
       " ('교육', 'N'),\n",
       " ('교사', 'N'),\n",
       " ('적극', 'N'),\n",
       " ('지원', 'N'),\n",
       " ('혁신', 'N'),\n",
       " ('교육', 'N'),\n",
       " ('재구조화', 'N'),\n",
       " ('정치', 'N'),\n",
       " ('이념', 'N'),\n",
       " ('편향성', 'N'),\n",
       " ('해소', 'N'),\n",
       " ('돌보', 'P'),\n",
       " ('ㅁ', 'E'),\n",
       " ('1000여개사', 'N'),\n",
       " ('언론기사', 'N'),\n",
       " ('인공지능', 'N'),\n",
       " ('지원', 'N'),\n",
       " ('을', 'N'),\n",
       " ('제공', 'N'),\n",
       " ('하', 'X'),\n",
       " ('기', 'E'),\n",
       " ('로', 'J'),\n",
       " ('하', 'P'),\n",
       " ('었다', 'E'),\n",
       " ('주요', 'N'),\n",
       " ('글로벌', 'N'),\n",
       " ('기업들', 'N'),\n",
       " ('이', 'J'),\n",
       " ('공급망', 'N'),\n",
       " ('내', 'N'),\n",
       " ('협력사', 'N'),\n",
       " ('에도', 'J'),\n",
       " ('강', 'N'),\n",
       " ('도', 'J'),\n",
       " ('높', 'P'),\n",
       " ('은', 'E'),\n",
       " ('ESG', 'F'),\n",
       " ('딥노이드', 'N'),\n",
       " ('알고리즘', 'N'),\n",
       " ('를', 'N'),\n",
       " ('통하', 'P'),\n",
       " ('ㄴ', 'E'),\n",
       " ('흉부', 'N'),\n",
       " ('X레이진단', 'N'),\n",
       " ('논문', 'N'),\n",
       " ('이', 'M'),\n",
       " ('네이처', 'N'),\n",
       " ('파트너', 'N'),\n",
       " ('저널', 'N'),\n",
       " ('Nature', 'F'),\n",
       " ('Partner', 'F'),\n",
       " ('인공지능', 'N'),\n",
       " ('Artificial', 'F'),\n",
       " ('Intelligence', 'F'),\n",
       " ('기술', 'N'),\n",
       " ('을', 'J'),\n",
       " ('활용', 'N'),\n",
       " ('하', 'X'),\n",
       " ('ㄴ', 'E'),\n",
       " ('이상', 'N'),\n",
       " ('탐지', 'N'),\n",
       " ('및', 'M'),\n",
       " ('예측', 'N'),\n",
       " ('설루션', 'N'),\n",
       " ('Solution', 'F'),\n",
       " ('문제', 'N'),\n",
       " ('처리', 'N'),\n",
       " ('시스템', 'N'),\n",
       " ('제품', 'N'),\n",
       " ('을', 'J'),\n",
       " ('출시', 'N'),\n",
       " ('하고', 'J'),\n",
       " ('있', 'P'),\n",
       " ('다', 'E'),\n",
       " ('이날', 'N'),\n",
       " ('코스피', 'N'),\n",
       " ('는', 'J'),\n",
       " ('전', 'N'),\n",
       " ('거래', 'N'),\n",
       " ('이', 'J'),\n",
       " ('ㄹ', 'E'),\n",
       " ('2490', 'N'),\n",
       " ('80', 'N'),\n",
       " ('보다', 'M'),\n",
       " ('0', 'N'),\n",
       " ('39', 'N'),\n",
       " ('%', 'S'),\n",
       " ('9', 'N'),\n",
       " ('63포인트', 'N'),\n",
       " ('떨', 'P'),\n",
       " ('어', 'E'),\n",
       " ('지', 'P'),\n",
       " ('ㄴ', 'E'),\n",
       " ('2481', 'N'),\n",
       " ('17', 'N'),\n",
       " ('로', 'J'),\n",
       " ('하락', 'N'),\n",
       " ('길', 'P'),\n",
       " ('ㅁ', 'E'),\n",
       " ('과장', 'N'),\n",
       " ('은', 'J'),\n",
       " ('현재', 'M'),\n",
       " ('스타트업', 'N'),\n",
       " ('기업', 'N'),\n",
       " ('입주', 'N'),\n",
       " ('를', 'J'),\n",
       " ('포함', 'N'),\n",
       " ('하', 'X'),\n",
       " ('어', 'E'),\n",
       " ('기발', 'N'),\n",
       " ('헬스케어', 'N'),\n",
       " ('플랫폼', 'N'),\n",
       " ('조성', 'N'),\n",
       " ('소공인들', 'N'),\n",
       " ('을', 'J'),\n",
       " ('위하', 'P'),\n",
       " ('ㄴ', 'E'),\n",
       " ('공동기반시설', 'N'),\n",
       " ('운영', 'N'),\n",
       " ('등', 'N'),\n",
       " ('지역', 'N'),\n",
       " ('의', 'J'),\n",
       " ('상공', 'N'),\n",
       " ('이', 'J'),\n",
       " ('ㄴ', 'E'),\n",
       " ('들', 'N'),\n",
       " ('과', 'J'),\n",
       " ('지역경제', 'N'),\n",
       " ('를', 'J'),\n",
       " ('위하', 'P'),\n",
       " ('ㄴ', 'E'),\n",
       " ('다양한', 'N'),\n",
       " ('사업', 'N'),\n",
       " ('을', 'J'),\n",
       " ('추진중', 'N'),\n",
       " ('에', 'J'),\n",
       " ('있', 'P'),\n",
       " ('다', 'E'),\n",
       " ('며', 'N'),\n",
       " ('최초', 'N'),\n",
       " ('로', 'J'),\n",
       " ('예비창업자들', 'N'),\n",
       " ('의', 'J'),\n",
       " ('한편', 'N'),\n",
       " ('전', 'X'),\n",
       " ('남대병원', 'N'),\n",
       " ('은', 'J'),\n",
       " ('연구중심병원육성', 'N'),\n",
       " ('R', 'F'),\n",
       " ('D', 'F'),\n",
       " ('사업', 'N'),\n",
       " ('데이터중심병원사업', 'N'),\n",
       " ('임상데이터', 'N'),\n",
       " ('기반', 'N'),\n",
       " ('근골격계', 'N'),\n",
       " ('인체모사', 'N'),\n",
       " ('융합기술', 'N'),\n",
       " ('지원사업', 'N'),\n",
       " ('등', 'N'),\n",
       " ('빅데이터', 'N'),\n",
       " ('기술', 'N'),\n",
       " ('과', 'J'),\n",
       " ('융합', 'N'),\n",
       " ('되', 'X'),\n",
       " ('ㄴ', 'E'),\n",
       " ('대형국책사업', 'N'),\n",
       " ('을', 'J'),\n",
       " ('추진', 'N'),\n",
       " ('중', 'N'),\n",
       " ('이', 'J'),\n",
       " ('다', 'E'),\n",
       " ('20220808010002900000', 'N'),\n",
       " ('08781', 'N'),\n",
       " ('10대', 'N'),\n",
       " ('정책', 'N'),\n",
       " ('목표', 'N'),\n",
       " ('는', 'J'),\n",
       " ('하이테크', 'N'),\n",
       " ('기반', 'N'),\n",
       " ('학생', 'N'),\n",
       " ('맞추', 'P'),\n",
       " ('ㅁ', 'E'),\n",
       " ('교육', 'N'),\n",
       " ('글로컬', 'N'),\n",
       " ('융합', 'N'),\n",
       " ('인재', 'N'),\n",
       " ('양성', 'N'),\n",
       " ('맞춤형', 'N'),\n",
       " ('진업', 'N'),\n",
       " ('진로교육', 'N'),\n",
       " ('교육', 'N'),\n",
       " ('사각지대', 'N'),\n",
       " ('해소', 'N'),\n",
       " ('교원', 'N'),\n",
       " ('역량', 'N'),\n",
       " ('확보', 'N'),\n",
       " ('와', 'J'),\n",
       " ('교권보호', 'N'),\n",
       " ('미래학교', 'N'),\n",
       " ('확산', 'N'),\n",
       " ('돌보', 'P'),\n",
       " ('ㅁ', 'E'),\n",
       " ('유야교육', 'N'),\n",
       " ('방과후', 'N'),\n",
       " ('공교육', 'N'),\n",
       " ('책', 'N'),\n",
       " ('이', 'J'),\n",
       " ('ㅁ', 'E'),\n",
       " ('강화', 'N'),\n",
       " ('미래지향적', 'N'),\n",
       " ('그러', 'P'),\n",
       " ('니까', 'E'),\n",
       " ('실제로', 'M'),\n",
       " ('저', 'N'),\n",
       " ('가', 'J'),\n",
       " ('전북대', 'N'),\n",
       " ('총장님', 'N'),\n",
       " ('한테', 'J'),\n",
       " ('직접', 'M'),\n",
       " ('들', 'P'),\n",
       " ('ㄴ', 'E'),\n",
       " ('얘', 'N'),\n",
       " ('이', 'J'),\n",
       " ('기', 'E'),\n",
       " ('이', 'J'),\n",
       " ('ㄴ데', 'E'),\n",
       " ('담당', 'N'),\n",
       " ('하', 'X'),\n",
       " ('ㄹ', 'E'),\n",
       " ('교수님', 'N'),\n",
       " ('을', 'J'),\n",
       " ('그렇', 'P'),\n",
       " ('게', 'E'),\n",
       " ('공', 'N'),\n",
       " ('을', 'J'),\n",
       " ('들이', 'P'),\n",
       " ('어서', 'E'),\n",
       " ('섭외', 'N'),\n",
       " ('를', 'J'),\n",
       " ('하', 'P'),\n",
       " ('어', 'E'),\n",
       " ('놓', 'P'),\n",
       " ('아ㄴ데', 'E'),\n",
       " ('결국', 'M'),\n",
       " ('마지막', 'N'),\n",
       " ('에', 'J'),\n",
       " ('수도권', 'N'),\n",
       " ('대학', 'N'),\n",
       " ('으로', 'J'),\n",
       " ('가', 'P'),\n",
       " ('더라는', 'E'),\n",
       " ('거', 'N'),\n",
       " ('이', 'J'),\n",
       " ('죠', 'E'),\n",
       " ('그래서', 'M'),\n",
       " ('저', 'N'),\n",
       " ('가', 'J'),\n",
       " ('생각', 'N'),\n",
       " ('하', 'X'),\n",
       " ('는', 'E'),\n",
       " ('해법', 'N'),\n",
       " ('은', 'J'),\n",
       " ('인공지능', 'N'),\n",
       " ('관련', 'N'),\n",
       " ('연구', 'N'),\n",
       " ('과제', 'N'),\n",
       " ('의', 'J'),\n",
       " ('발굴', 'N'),\n",
       " ('및', 'M'),\n",
       " ('진행', 'N'),\n",
       " ('에도', 'J'),\n",
       " ('공동', 'N'),\n",
       " ('참여', 'N'),\n",
       " ('하', 'X'),\n",
       " ('ㄴ다', 'E'),\n",
       " ('나군호', 'N'),\n",
       " ('SK케미칼', 'N'),\n",
       " ('은', 'J'),\n",
       " ('인공지능', 'N'),\n",
       " ('플랫폼', 'N'),\n",
       " ('으로', 'J'),\n",
       " ('NASH', 'F'),\n",
       " ('치료제', 'N'),\n",
       " ('후보물질', 'N'),\n",
       " ('을', 'J'),\n",
       " ('발굴', 'N'),\n",
       " ('하', 'X'),\n",
       " ('ㄴ', 'E'),\n",
       " ('후', 'N'),\n",
       " ('특허', 'N'),\n",
       " ('출원', 'N'),\n",
       " ('을', 'J'),\n",
       " ('마치', 'P'),\n",
       " ('었다', 'E'),\n",
       " ('현재', 'M'),\n",
       " ('또한', 'M'),\n",
       " ('금융', 'N'),\n",
       " ('비', 'X'),\n",
       " ('금융', 'N'),\n",
       " ('공공간', 'N'),\n",
       " ('데이터', 'N'),\n",
       " ('개방', 'N'),\n",
       " ('결합', 'N'),\n",
       " ('을', 'J'),\n",
       " ('확대', 'N'),\n",
       " ('하고', 'J'),\n",
       " ('금융분야', 'N'),\n",
       " ('활용', 'N'),\n",
       " ('을', 'J'),\n",
       " ('활성화하기', 'N'),\n",
       " ('위하', 'P'),\n",
       " ('ㄴ', 'E'),\n",
       " ('데이터', 'N'),\n",
       " ('인프라', 'N'),\n",
       " ('도', 'J'),\n",
       " ('구축', 'N'),\n",
       " ('하', 'X'),\n",
       " ('ㄹ', 'E'),\n",
       " ('예정', 'N'),\n",
       " ('이', 'J'),\n",
       " ('다', 'E'),\n",
       " ('또한', 'M'),\n",
       " ('신', 'X'),\n",
       " ('사업', 'N'),\n",
       " ('등', 'N'),\n",
       " ('금융', 'N'),\n",
       " ('관련', 'N'),\n",
       " ('일', 'P'),\n",
       " ('ㄴ', 'E'),\n",
       " ('허가', 'N'),\n",
       " ('를', 'J'),\n",
       " ('신속히', 'M'),\n",
       " ('처', 'N'),\n",
       " ('이', 'J'),\n",
       " ('리', 'E'),\n",
       " ('하고', 'J'),\n",
       " ('제재', 'N'),\n",
       " ('에', 'J'),\n",
       " ('대', 'P'),\n",
       " ('어', 'E'),\n",
       " ('하', 'P'),\n",
       " ('어서', 'E'),\n",
       " ('는', 'J'),\n",
       " ('제재상대방', 'N'),\n",
       " ('조선대학교', 'N'),\n",
       " ('정보통신공학부', 'N'),\n",
       " ('김영식', 'N'),\n",
       " ('교수', 'N'),\n",
       " ('가', 'J'),\n",
       " ('서울대학교', 'N'),\n",
       " ('및', 'M'),\n",
       " ('대구경북대학교', 'N'),\n",
       " ('연구팀', 'N'),\n",
       " ('과', 'J'),\n",
       " ('프라이버시', 'N'),\n",
       " ('보장', 'N'),\n",
       " ('기술', 'N'),\n",
       " ('을', 'J'),\n",
       " ('자체', 'N'),\n",
       " ('개발', 'N'),\n",
       " ('하고', 'J'),\n",
       " ('인공지능', 'N'),\n",
       " ('분야', 'N'),\n",
       " ('최우수', 'N'),\n",
       " ('학술대회', 'N'),\n",
       " ('이', 'J'),\n",
       " ('ㄴ', 'E'),\n",
       " ('ICML', 'F'),\n",
       " ('2022', 'N'),\n",
       " ('에', 'P'),\n",
       " ('어서', 'E'),\n",
       " ('논문', 'N'),\n",
       " ('을', 'J'),\n",
       " ('발표', 'N'),\n",
       " ('하', 'X'),\n",
       " ('었다', 'E'),\n",
       " ('8일', 'N'),\n",
       " ('조선대', 'N'),\n",
       " ('에', 'J'),\n",
       " ('따르', 'P'),\n",
       " ('면', 'E'),\n",
       " ('또', 'M'),\n",
       " ('라이나생명보험과', 'N'),\n",
       " ('의', 'J'),\n",
       " ('제휴', 'N'),\n",
       " ('를', 'J'),\n",
       " ('통하', 'P'),\n",
       " ('어', 'E'),\n",
       " ('기술', 'N'),\n",
       " ('을', 'J'),\n",
       " ('활용', 'N'),\n",
       " ('하', 'X'),\n",
       " ('어', 'E'),\n",
       " ('스마트폰', 'N'),\n",
       " ('카메라', 'N'),\n",
       " ('로', 'J'),\n",
       " ('촬영', 'N'),\n",
       " ('하', 'X'),\n",
       " ('ㄴ', 'E'),\n",
       " ('얼굴', 'N'),\n",
       " ('영상', 'N'),\n",
       " ('을', 'J'),\n",
       " ('보', 'P'),\n",
       " ('고', 'E'),\n",
       " ('호흡수', 'N'),\n",
       " ('심박수', 'N'),\n",
       " ('스트레스', 'N'),\n",
       " ('지수', 'N'),\n",
       " ('등', 'N'),\n",
       " ('활력징후', 'N'),\n",
       " ('를', 'J'),\n",
       " ('알리', 'P'),\n",
       " ('어', 'E'),\n",
       " ('주', 'P'),\n",
       " ('는', 'E'),\n",
       " ('건강신호', 'N'),\n",
       " ('측정', 'N'),\n",
       " ('건강', 'N'),\n",
       " ('설문', 'N'),\n",
       " ('을', 'J'),\n",
       " ('통하', 'P'),\n",
       " ('어', 'E'),\n",
       " ('임상', 'N'),\n",
       " ('데이터', 'N'),\n",
       " ('를', 'J'),\n",
       " ('기반', 'N'),\n",
       " ('으로', 'J'),\n",
       " ('동강대', 'N'),\n",
       " ('제', 'X'),\n",
       " ('궁', 'N'),\n",
       " ('동강대학교', 'N'),\n",
       " ('총장', 'N'),\n",
       " ('이민숙', 'N'),\n",
       " ('늘', 'P'),\n",
       " ('ㄴ', 'E'),\n",
       " ('인공지능', 'N'),\n",
       " ('산타', 'N'),\n",
       " ('플랫폼', 'N'),\n",
       " ('을', 'J'),\n",
       " ('특히', 'M'),\n",
       " ('엔비디아', 'N'),\n",
       " ('지포스', 'N'),\n",
       " ('RTX', 'F'),\n",
       " ('3060', 'N'),\n",
       " ('GDDR6', 'N'),\n",
       " ('6GB', 'N'),\n",
       " ('115W', 'N'),\n",
       " ('그래픽카드', 'N'),\n",
       " ('는', 'J'),\n",
       " ('CREATIVE', 'F'),\n",
       " ('MAESTRO', 'F'),\n",
       " ('등급', 'N'),\n",
       " ('으로', 'J'),\n",
       " ('고급', 'N'),\n",
       " ('가속', 'N'),\n",
       " ('기능', 'N'),\n",
       " ('6K', 'N'),\n",
       " ('HDR', 'F'),\n",
       " ('영상편집', 'N'),\n",
       " ('3D', 'N'),\n",
       " ('애니메이션', 'N'),\n",
       " ('제작', 'N'),\n",
       " ('Adobe', 'F'),\n",
       " ('Creative', 'F'),\n",
       " ('Cloud', 'F'),\n",
       " ('최적화', 'N'),\n",
       " ('등', 'N'),\n",
       " ('전문적', 'N'),\n",
       " ('이', 'J'),\n",
       " ('ㄴ', 'E'),\n",
       " ('작업', 'N'),\n",
       " ('이', 'J'),\n",
       " ('가능', 'N'),\n",
       " ('하', 'X'),\n",
       " ('어', 'E'),\n",
       " ('크리에이터용', 'N'),\n",
       " ('금융', 'N'),\n",
       " ('비', 'X'),\n",
       " ('금융', 'N'),\n",
       " ('공공', 'N'),\n",
       " ('가', 'P'),\n",
       " ('ㄴ', 'E'),\n",
       " ('데이터', 'N'),\n",
       " ('개방', 'N'),\n",
       " ('결합', 'N'),\n",
       " ('을', 'J'),\n",
       " ('확대', 'N'),\n",
       " ('하고', 'J'),\n",
       " ('금융', 'N'),\n",
       " ('분야', 'N'),\n",
       " ('인공지능', 'N'),\n",
       " ('활용', 'N'),\n",
       " ('을', 'J'),\n",
       " ('활성화하기', 'N'),\n",
       " ('위하', 'P'),\n",
       " ('ㄴ', 'E'),\n",
       " ('데이터', 'N'),\n",
       " ('인프라', 'N'),\n",
       " ('도', 'J'),\n",
       " ('구축', 'N'),\n",
       " ('하', 'X'),\n",
       " ('ㄴ다', 'E'),\n",
       " ('물적분할', 'N'),\n",
       " ('회사', 'N'),\n",
       " ('의', 'J'),\n",
       " ('자회사', 'N'),\n",
       " ('상장', 'N'),\n",
       " ('시', 'N'),\n",
       " ('분하', 'P'),\n",
       " ('ㄹ', 'E'),\n",
       " ('반대주주', 'N'),\n",
       " ('주식매수청구권', 'N'),\n",
       " ('부', 'N'),\n",
       " ('이', 'J'),\n",
       " ('어', 'E'),\n",
       " ('등', 'N'),\n",
       " ('을', 'J'),\n",
       " ('통하', 'P'),\n",
       " ('어', 'E'),\n",
       " ('모회사', 'N'),\n",
       " ('유치', 'N'),\n",
       " ('인공지능', 'N'),\n",
       " ('영재', 'N'),\n",
       " ('이', 'J'),\n",
       " ('고', 'E'),\n",
       " ('설립', 'N'),\n",
       " ('도', 'J'),\n",
       " ('필수불가결', 'N'),\n",
       " ('하', 'X'),\n",
       " ('ㄴ', 'E'),\n",
       " ('사업', 'N'),\n",
       " ('이', 'J'),\n",
       " ('다', 'E'),\n",
       " ('라', 'N'),\n",
       " ('이', 'J'),\n",
       " ('며', 'E'),\n",
       " ('적극적', 'N'),\n",
       " ('이', 'J'),\n",
       " ('ㄴ', 'E'),\n",
       " ('지원', 'N'),\n",
       " ('과', 'J'),\n",
       " ('협조', 'N'),\n",
       " ('를', 'J'),\n",
       " ('요청', 'N'),\n",
       " ('하', 'X'),\n",
       " ('었다', 'E'),\n",
       " ('이', 'N'),\n",
       " ('이', 'J'),\n",
       " ('어', 'E'),\n",
       " ('2027년', 'N'),\n",
       " ('아우르', 'P'),\n",
       " ('어', 'E'),\n",
       " ('이상헌', 'N'),\n",
       " ('의원', 'N'),\n",
       " ('은', 'J'),\n",
       " ('인공지능', 'N'),\n",
       " ('또', 'M'),\n",
       " ('금융', 'N'),\n",
       " ('과', 'J'),\n",
       " ('비', 'X'),\n",
       " ('금융', 'N'),\n",
       " ('공공', 'N'),\n",
       " ('가', 'P'),\n",
       " ('ㄴ', 'E'),\n",
       " ('데이터', 'N'),\n",
       " ('개방', 'N'),\n",
       " ('결합', 'N'),\n",
       " ('을', 'J'),\n",
       " ('확대', 'N'),\n",
       " ('하고', 'J'),\n",
       " ('금융분야', 'N'),\n",
       " ('인공지능', 'N'),\n",
       " ('활용', 'N'),\n",
       " ('활성화', 'N'),\n",
       " ('를', 'J'),\n",
       " ('위하', 'P'),\n",
       " ('ㄴ', 'E'),\n",
       " ('데이터', 'N'),\n",
       " ('인프라', 'N'),\n",
       " ('를', 'J'),\n",
       " ('구축', 'N'),\n",
       " ('하', 'X'),\n",
       " ('ㄴ다', 'E'),\n",
       " ('체감', 'N'),\n",
       " ('도', 'J'),\n",
       " ('향상', 'N'),\n",
       " ('을', 'J'),\n",
       " ('위하', 'P'),\n",
       " ('어', 'E'),\n",
       " ('감독', 'N'),\n",
       " ('검사', 'N'),\n",
       " ('관행', 'N'),\n",
       " ('을', 'J'),\n",
       " ('개선', 'N'),\n",
       " ('하고', 'J'),\n",
       " ('금유', 'N'),\n",
       " ('의', 'J'),\n",
       " ('글로벌화', 'N'),\n",
       " ('도', 'J'),\n",
       " ('지원', 'N'),\n",
       " ('하', 'X'),\n",
       " ('ㄴ다', 'E'),\n",
       " ('특히', 'M'),\n",
       " ('조선대학교', 'N'),\n",
       " ('정보통신공학부', 'N'),\n",
       " ('김영식', 'N'),\n",
       " ('교수', 'N'),\n",
       " ('가', 'J'),\n",
       " ('서울대학교', 'N'),\n",
       " ('및', 'M'),\n",
       " ('대구경북대학교', 'N'),\n",
       " ('연구팀', 'N'),\n",
       " ('과', 'J'),\n",
       " ('프라이버시', 'N'),\n",
       " ('보장', 'N'),\n",
       " ('기술', 'N'),\n",
       " ('을', 'J'),\n",
       " ('자체', 'N'),\n",
       " ('개발', 'N'),\n",
       " ('하고', 'J'),\n",
       " ('인공지능', 'N'),\n",
       " ('분야', 'N'),\n",
       " ('최우수', 'N'),\n",
       " ('학술대회', 'N'),\n",
       " ('이', 'J'),\n",
       " ('ㄴ', 'E'),\n",
       " ('ICML', 'F'),\n",
       " ('2022', 'N'),\n",
       " ('에', 'P'),\n",
       " ('어서', 'E'),\n",
       " ('논문', 'N'),\n",
       " ('을', 'J'),\n",
       " ('발표', 'N'),\n",
       " ('하', 'X'),\n",
       " ('었다', 'E'),\n",
       " ('8일', 'N'),\n",
       " ('조선대', 'N'),\n",
       " ('에', 'J'),\n",
       " ('메이저맵', 'N'),\n",
       " ('은', 'N'),\n",
       " ('2018년', 'N'),\n",
       " ('시작', 'N'),\n",
       " ('되', 'X'),\n",
       " ('ㄴ', 'E'),\n",
       " ('로', 'N'),\n",
       " ('분석', 'N'),\n",
       " ('하', 'X'),\n",
       " ('ㄴ', 'E'),\n",
       " ('데이터기반', 'N'),\n",
       " ('학', 'N'),\n",
       " ('과', 'J'),\n",
       " ('검색엔진', 'N'),\n",
       " ('을', 'J'),\n",
       " ('보유', 'N'),\n",
       " ('하고', 'J'),\n",
       " ('있', 'P'),\n",
       " ('고', 'E'),\n",
       " ('34', 'N'),\n",
       " ('만', 'J'),\n",
       " ('명', 'N'),\n",
       " ('이', 'J'),\n",
       " ('넘', 'P'),\n",
       " ('는', 'E'),\n",
       " ('유저', 'N'),\n",
       " ('를', 'J'),\n",
       " ('확보', 'N'),\n",
       " ('하고', 'J'),\n",
       " ('있', 'P'),\n",
       " ('다', 'E'),\n",
       " ('또', 'M'),\n",
       " ('전국', 'N'),\n",
       " ('65', 'N'),\n",
       " ('%', 'S'),\n",
       " ('가', 'J'),\n",
       " ('넘', 'P'),\n",
       " ('는', 'E'),\n",
       " ('고등학교', 'N'),\n",
       " ('에서', 'J'),\n",
       " ('교사', 'N'),\n",
       " ('들', 'X'),\n",
       " ('이', 'J'),\n",
       " ('사용', 'N'),\n",
       " ('하', 'X'),\n",
       " ('는', 'E'),\n",
       " ('서비스', 'N'),\n",
       " ('이', 'J'),\n",
       " ('다', 'E'),\n",
       " ('메이저맵', 'N'),\n",
       " ('검색엔진', 'N'),\n",
       " ('은', 'J'),\n",
       " ('경진대회', 'N'),\n",
       " ('요강', 'N'),\n",
       " ('은', 'J'),\n",
       " ('스마트팜', 'N'),\n",
       " ('작물재배', 'N'),\n",
       " ('분야', 'N'),\n",
       " ('는', 'J'),\n",
       " ('활용', 'N'),\n",
       " ('등', 'N'),\n",
       " ('생산성', 'N'),\n",
       " ('향상', 'N'),\n",
       " ('을', 'J'),\n",
       " ('위하', 'P'),\n",
       " ('어', 'E'),\n",
       " ('다양', 'N'),\n",
       " ('하', 'X'),\n",
       " ('ㄴ', 'E'),\n",
       " ('기술', 'N'),\n",
       " ('을', 'J'),\n",
       " ('스마트팜', 'N'),\n",
       " ('에', 'J'),\n",
       " ('적용', 'N'),\n",
       " ('하', 'X'),\n",
       " ('어', 'E'),\n",
       " ('토마토', 'N'),\n",
       " ('와', 'J'),\n",
       " ('딸기', 'N'),\n",
       " ('작물', 'N'),\n",
       " ('을', 'J'),\n",
       " ('재배', 'N'),\n",
       " ('하', 'X'),\n",
       " ('는', 'E'),\n",
       " ('중소', 'N'),\n",
       " ('청년농업인', 'N'),\n",
       " ('이', 'J'),\n",
       " ('차', 'P'),\n",
       " ('ㅁ', 'E'),\n",
       " ('가', 'J'),\n",
       " ('가능', 'N'),\n",
       " ('단체', 'N'),\n",
       " ('나', 'J'),\n",
       " ('대학', 'N'),\n",
       " ('법인', 'N'),\n",
       " ('의', 'J'),\n",
       " ('참여', 'N'),\n",
       " ('는', 'J'),\n",
       " ('제하', 'P'),\n",
       " ('ㄴ', 'E'),\n",
       " ('금융', 'N'),\n",
       " ('비', 'X'),\n",
       " ('금융', 'N'),\n",
       " ('공공간', 'N'),\n",
       " ('데이터', 'N'),\n",
       " ('개방', 'N'),\n",
       " ('결합', 'N'),\n",
       " ('을', 'J'),\n",
       " ('확대', 'N'),\n",
       " ('하고', 'J'),\n",
       " ('금융', 'N'),\n",
       " ('분야', 'N'),\n",
       " ('활용', 'N'),\n",
       " ('을', 'J'),\n",
       " ('활성화하기', 'N'),\n",
       " ('위하', 'P'),\n",
       " ('ㄴ', 'E'),\n",
       " ('데이터', 'N'),\n",
       " ('인프라', 'N'),\n",
       " ('를', 'J'),\n",
       " ('구축', 'N'),\n",
       " ('하', 'X'),\n",
       " ('ㄴ다', 'E'),\n",
       " ('특히', 'M'),\n",
       " ('우리', 'N'),\n",
       " ('경제', 'N'),\n",
       " ('기업', 'N'),\n",
       " ('이', 'J'),\n",
       " ('실적', 'N'),\n",
       " ('에', 'J'),\n",
       " ('합당', 'N'),\n",
       " ('하', 'X'),\n",
       " ('ㄴ', 'E'),\n",
       " ('평가', 'N'),\n",
       " ('를', 'J'),\n",
       " ('받', 'P'),\n",
       " ('고', 'E'),\n",
       " ('향후', 'M'),\n",
       " ('자본시장', 'N'),\n",
       " ('이', 'J'),\n",
       " ('더욱', 'M'),\n",
       " ('빠르', 'P'),\n",
       " ('고', 'E'),\n",
       " ('강하', 'P'),\n",
       " ('게', 'E'),\n",
       " ('반등할', 'N'),\n",
       " ('수', 'N'),\n",
       " ('에듀테크', 'N'),\n",
       " ('대표', 'N'),\n",
       " ('기업', 'N'),\n",
       " ('아이스크림에듀', 'N'),\n",
       " ('대표', 'N'),\n",
       " ('이윤석', 'N'),\n",
       " ('가', 'J'),\n",
       " ('지나', 'P'),\n",
       " ('ㄴ', 'E'),\n",
       " ('1일', 'N'),\n",
       " ('서울', 'N'),\n",
       " ('서초구청', 'N'),\n",
       " ('에서', 'J'),\n",
       " ('서리풀', 'N'),\n",
       " ('새', 'P'),\n",
       " ('ㅁ', 'E'),\n",
       " ('영진전문대학교', 'N'),\n",
       " ('총장', 'N'),\n",
       " ('최재영', 'N'),\n",
       " ('융합기계계열', 'N'),\n",
       " ('포레', 'N'),\n",
       " ('의', 'J'),\n",
       " ('eFMS', 'F'),\n",
       " ('는', 'J'),\n",
       " ('데이터', 'N'),\n",
       " ('기반', 'N'),\n",
       " ('의', 'J'),\n",
       " ('스마트', 'N'),\n",
       " ('AIoT', 'F'),\n",
       " ('오', 'P'),\n",
       " ('아', 'E'),\n",
       " ('IoT', 'F'),\n",
       " ('기술', 'N'),\n",
       " ('을', 'J'),\n",
       " ('접목', 'N'),\n",
       " ('하', 'X'),\n",
       " ('어', 'E'),\n",
       " ('음식물쓰레기', 'N'),\n",
       " ('를', 'J'),\n",
       " ('버리', 'P'),\n",
       " ('기', 'E'),\n",
       " ('만', 'J'),\n",
       " ('하', 'P'),\n",
       " ('면', 'E'),\n",
       " ('자동', 'N'),\n",
       " ('으로', 'J'),\n",
       " ('보관', 'N'),\n",
       " ('처', 'N'),\n",
       " ('이', 'J'),\n",
       " ('리', 'E'),\n",
       " ('하고', 'J'),\n",
       " ('하', 'P'),\n",
       " ('ㄴ', 'E'),\n",
       " ('독서플랫폼', 'N'),\n",
       " ('스타트업', 'N'),\n",
       " ('이', 'J'),\n",
       " ('다', 'E'),\n",
       " ('젤리페이지', 'N'),\n",
       " ('의', 'J'),\n",
       " ('가장', 'M'),\n",
       " ('크', 'P'),\n",
       " ('ㄴ', 'E'),\n",
       " ('강점', 'N'),\n",
       " ('은', 'J'),\n",
       " ('페어런트테크', 'N'),\n",
       " ('Parent', 'F'),\n",
       " ('tech', 'F'),\n",
       " ('기능', 'N'),\n",
       " ('을', 'J'),\n",
       " ('업무', 'N'),\n",
       " ('를', 'J'),\n",
       " ('보다', 'M'),\n",
       " ('빠르', 'P'),\n",
       " ('고', 'E'),\n",
       " ('효율적', 'N'),\n",
       " ('으로', 'J'),\n",
       " ('수행', 'N'),\n",
       " ('하', 'X'),\n",
       " ('기', 'E'),\n",
       " ('위하', 'P'),\n",
       " ('어', 'E'),\n",
       " ('개발', 'N'),\n",
       " ('하', 'X'),\n",
       " ('ㄴ', 'E'),\n",
       " ('인공지능', 'N'),\n",
       " ('이', 'M'),\n",
       " ('사이버범죄', 'N'),\n",
       " ('에', 'J'),\n",
       " ('악용', 'N'),\n",
       " ('되', 'X'),\n",
       " ('ㄹ', 'E'),\n",
       " ('수', 'N'),\n",
       " ('있', 'P'),\n",
       " ('음', 'E'),\n",
       " ('도', 'J'),\n",
       " ('널리', 'M'),\n",
       " ('알리', 'P'),\n",
       " ('어', 'E'),\n",
       " ('지', 'P'),\n",
       " ('어', 'E'),\n",
       " ('있', 'P'),\n",
       " ('다', 'E'),\n",
       " ('ICT', 'F'),\n",
       " ('의', 'J'),\n",
       " ('발전', 'N'),\n",
       " ('에', 'J'),\n",
       " ('따르', 'P'),\n",
       " ('아', 'E'),\n",
       " ('빛', 'N'),\n",
       " ('과', 'J'),\n",
       " ('어둠', 'N'),\n",
       " ('이', 'J'),\n",
       " ('모두', 'M'),\n",
       " ('나타나', 'P'),\n",
       " ('고', 'E'),\n",
       " ('있', 'P'),\n",
       " ('는', 'E'),\n",
       " ('상황', 'N'),\n",
       " ('이', 'J'),\n",
       " ('다', 'E'),\n",
       " ('주', 'P'),\n",
       " ('지', 'E'),\n",
       " ('하', 'P'),\n",
       " ('ㄹ', 'E'),\n",
       " ('사실', 'N'),\n",
       " ('은', 'J'),\n",
       " ('ICT', 'F'),\n",
       " ('자체', 'N'),\n",
       " ('에는', 'J'),\n",
       " ('선악', 'N'),\n",
       " ('이', 'J'),\n",
       " ('나', 'N'),\n",
       " ('만의', 'J'),\n",
       " ('추천', 'N'),\n",
       " ('서비스', 'N'),\n",
       " ('나', 'J'),\n",
       " ('삼성', 'N'),\n",
       " ('퀀트', 'N'),\n",
       " ('고수들', 'N'),\n",
       " ('의', 'J'),\n",
       " ('종목', 'N'),\n",
       " ('등', 'N'),\n",
       " ('리포트', 'N'),\n",
       " ('가', 'J'),\n",
       " ('매우', 'M'),\n",
       " ('유용', 'N'),\n",
       " ('하', 'X'),\n",
       " ('어', 'E'),\n",
       " ('참', 'P'),\n",
       " ('고', 'E'),\n",
       " ('하', 'P'),\n",
       " ('기', 'E'),\n",
       " ('좋', 'P'),\n",
       " ('습니다', 'E'),\n",
       " ('특히', 'M'),\n",
       " ('고수들', 'N'),\n",
       " ('의', 'J'),\n",
       " ('종목', 'N'),\n",
       " ('은', 'J'),\n",
       " ('상위', 'N'),\n",
       " ('1000명', 'N'),\n",
       " ('의', 'J'),\n",
       " ('데이터', 'N'),\n",
       " ('를', 'J'),\n",
       " ('주기적', 'N'),\n",
       " ('으로', 'J'),\n",
       " ('보이', 'P'),\n",
       " ('어', 'E'),\n",
       " ('주', 'P'),\n",
       " ('고', 'E'),\n",
       " ('있', 'P'),\n",
       " ('습니다', 'E'),\n",
       " ('계좌', 'N'),\n",
       " ('를', 'J'),\n",
       " ('개설', 'N'),\n",
       " ('하', 'X'),\n",
       " ('ㄹ', 'E'),\n",
       " ('때', 'N'),\n",
       " ('알뜰폰으로', 'N'),\n",
       " ('는', 'J'),\n",
       " ('인증', 'N'),\n",
       " ('이', 'J'),\n",
       " ('되', 'P'),\n",
       " ('지', 'E'),\n",
       " ('KB', 'F'),\n",
       " ('국민카드', 'N'),\n",
       " ('디지털', 'N'),\n",
       " ('이', 'N'),\n",
       " ('이', 'J'),\n",
       " ('지', 'E'),\n",
       " ...]"
      ]
     },
     "execution_count": 160,
     "metadata": {},
     "output_type": "execute_result"
    }
   ],
   "source": [
    "from konlpy.tag import Hannanum, Okt\n",
    "from collections import Counter\n",
    "\n",
    "#한나눔 활용\n",
    "han = Hannanum()\n",
    "morph_han = han.pos(word_str_clean)\n",
    "morph_han"
   ]
  },
  {
   "cell_type": "code",
   "execution_count": 161,
   "id": "ef7b1653",
   "metadata": {},
   "outputs": [
    {
     "data": {
      "text/plain": [
       "[('10대', 'N'),\n",
       " ('정책', 'N'),\n",
       " ('목표', 'N'),\n",
       " ('는', 'J'),\n",
       " ('인공지능', 'N'),\n",
       " ('기반', 'N'),\n",
       " ('교육', 'N'),\n",
       " ('글로컬', 'N'),\n",
       " ('글로벌', 'N'),\n",
       " ('로컬', 'N'),\n",
       " ('융합인재', 'N'),\n",
       " ('육성', 'N'),\n",
       " ('학생', 'N'),\n",
       " ('맞춤형', 'N'),\n",
       " ('직업', 'N'),\n",
       " ('진', 'N'),\n",
       " ('로', 'J'),\n",
       " ('교육', 'N'),\n",
       " ('누구', 'N'),\n",
       " ('도', 'J'),\n",
       " ('소외', 'N'),\n",
       " ('되', 'X'),\n",
       " ('지', 'E'),\n",
       " ('않', 'P'),\n",
       " ('는', 'E'),\n",
       " ('교육', 'N'),\n",
       " ('교사', 'N'),\n",
       " ('적극', 'N'),\n",
       " ('지원', 'N'),\n",
       " ('혁신', 'N'),\n",
       " ('교육', 'N'),\n",
       " ('재구조화', 'N'),\n",
       " ('정치', 'N'),\n",
       " ('이념', 'N'),\n",
       " ('편향성', 'N'),\n",
       " ('해소', 'N'),\n",
       " ('돌보', 'P'),\n",
       " ('ㅁ', 'E'),\n",
       " ('1000여개사', 'N'),\n",
       " ('언론기사', 'N'),\n",
       " ('인공지능', 'N'),\n",
       " ('지원', 'N'),\n",
       " ('을', 'N'),\n",
       " ('제공', 'N'),\n",
       " ('하', 'X'),\n",
       " ('기', 'E'),\n",
       " ('로', 'J'),\n",
       " ('하', 'P'),\n",
       " ('었다', 'E'),\n",
       " ('주요', 'N'),\n",
       " ('글로벌', 'N'),\n",
       " ('기업들', 'N'),\n",
       " ('이', 'J'),\n",
       " ('공급망', 'N'),\n",
       " ('내', 'N'),\n",
       " ('협력사', 'N'),\n",
       " ('에도', 'J'),\n",
       " ('강', 'N'),\n",
       " ('도', 'J'),\n",
       " ('높', 'P'),\n",
       " ('은', 'E'),\n",
       " ('ESG', 'F'),\n",
       " ('딥노이드', 'N'),\n",
       " ('알고리즘', 'N'),\n",
       " ('를', 'N'),\n",
       " ('통하', 'P'),\n",
       " ('ㄴ', 'E'),\n",
       " ('흉부', 'N'),\n",
       " ('X레이진단', 'N'),\n",
       " ('논문', 'N'),\n",
       " ('이', 'M'),\n",
       " ('네이처', 'N'),\n",
       " ('파트너', 'N'),\n",
       " ('저널', 'N'),\n",
       " ('Nature', 'F'),\n",
       " ('Partner', 'F'),\n",
       " ('인공지능', 'N'),\n",
       " ('Artificial', 'F'),\n",
       " ('Intelligence', 'F'),\n",
       " ('기술', 'N'),\n",
       " ('을', 'J'),\n",
       " ('활용', 'N'),\n",
       " ('하', 'X'),\n",
       " ('ㄴ', 'E'),\n",
       " ('이상', 'N'),\n",
       " ('탐지', 'N'),\n",
       " ('및', 'M'),\n",
       " ('예측', 'N'),\n",
       " ('설루션', 'N'),\n",
       " ('Solution', 'F'),\n",
       " ('문제', 'N'),\n",
       " ('처리', 'N'),\n",
       " ('시스템', 'N'),\n",
       " ('제품', 'N'),\n",
       " ('을', 'J'),\n",
       " ('출시', 'N'),\n",
       " ('하고', 'J'),\n",
       " ('있', 'P'),\n",
       " ('다', 'E'),\n",
       " ('이날', 'N'),\n",
       " ('코스피', 'N'),\n",
       " ('는', 'J'),\n",
       " ('전', 'N'),\n",
       " ('거래', 'N'),\n",
       " ('이', 'J'),\n",
       " ('ㄹ', 'E'),\n",
       " ('2490', 'N'),\n",
       " ('80', 'N'),\n",
       " ('보다', 'M'),\n",
       " ('0', 'N'),\n",
       " ('39', 'N'),\n",
       " ('%', 'S'),\n",
       " ('9', 'N'),\n",
       " ('63포인트', 'N'),\n",
       " ('떨', 'P'),\n",
       " ('어', 'E'),\n",
       " ('지', 'P'),\n",
       " ('ㄴ', 'E'),\n",
       " ('2481', 'N'),\n",
       " ('17', 'N'),\n",
       " ('로', 'J'),\n",
       " ('하락', 'N'),\n",
       " ('길', 'P'),\n",
       " ('ㅁ', 'E'),\n",
       " ('과장', 'N'),\n",
       " ('은', 'J'),\n",
       " ('현재', 'M'),\n",
       " ('스타트업', 'N'),\n",
       " ('기업', 'N'),\n",
       " ('입주', 'N'),\n",
       " ('를', 'J'),\n",
       " ('포함', 'N'),\n",
       " ('하', 'X'),\n",
       " ('어', 'E'),\n",
       " ('기발', 'N'),\n",
       " ('헬스케어', 'N'),\n",
       " ('플랫폼', 'N'),\n",
       " ('조성', 'N'),\n",
       " ('소공인들', 'N'),\n",
       " ('을', 'J'),\n",
       " ('위하', 'P'),\n",
       " ('ㄴ', 'E'),\n",
       " ('공동기반시설', 'N'),\n",
       " ('운영', 'N'),\n",
       " ('등', 'N'),\n",
       " ('지역', 'N'),\n",
       " ('의', 'J'),\n",
       " ('상공', 'N'),\n",
       " ('이', 'J'),\n",
       " ('ㄴ', 'E'),\n",
       " ('들', 'N'),\n",
       " ('과', 'J'),\n",
       " ('지역경제', 'N'),\n",
       " ('를', 'J'),\n",
       " ('위하', 'P'),\n",
       " ('ㄴ', 'E'),\n",
       " ('다양한', 'N'),\n",
       " ('사업', 'N'),\n",
       " ('을', 'J'),\n",
       " ('추진중', 'N'),\n",
       " ('에', 'J'),\n",
       " ('있', 'P'),\n",
       " ('다', 'E'),\n",
       " ('며', 'N'),\n",
       " ('최초', 'N'),\n",
       " ('로', 'J'),\n",
       " ('예비창업자들', 'N'),\n",
       " ('의', 'J'),\n",
       " ('한편', 'N'),\n",
       " ('전', 'X'),\n",
       " ('남대병원', 'N'),\n",
       " ('은', 'J'),\n",
       " ('연구중심병원육성', 'N'),\n",
       " ('R', 'F'),\n",
       " ('D', 'F'),\n",
       " ('사업', 'N'),\n",
       " ('데이터중심병원사업', 'N'),\n",
       " ('임상데이터', 'N'),\n",
       " ('기반', 'N'),\n",
       " ('근골격계', 'N'),\n",
       " ('인체모사', 'N'),\n",
       " ('융합기술', 'N'),\n",
       " ('지원사업', 'N'),\n",
       " ('등', 'N'),\n",
       " ('빅데이터', 'N'),\n",
       " ('기술', 'N'),\n",
       " ('과', 'J'),\n",
       " ('융합', 'N'),\n",
       " ('되', 'X'),\n",
       " ('ㄴ', 'E'),\n",
       " ('대형국책사업', 'N'),\n",
       " ('을', 'J'),\n",
       " ('추진', 'N'),\n",
       " ('중', 'N'),\n",
       " ('이', 'J'),\n",
       " ('다', 'E'),\n",
       " ('20220808010002900000', 'N'),\n",
       " ('08781', 'N'),\n",
       " ('10대', 'N'),\n",
       " ('정책', 'N'),\n",
       " ('목표', 'N'),\n",
       " ('는', 'J'),\n",
       " ('하이테크', 'N'),\n",
       " ('기반', 'N'),\n",
       " ('학생', 'N'),\n",
       " ('맞추', 'P'),\n",
       " ('ㅁ', 'E'),\n",
       " ('교육', 'N'),\n",
       " ('글로컬', 'N'),\n",
       " ('융합', 'N'),\n",
       " ('인재', 'N'),\n",
       " ('양성', 'N'),\n",
       " ('맞춤형', 'N'),\n",
       " ('진업', 'N'),\n",
       " ('진로교육', 'N'),\n",
       " ('교육', 'N'),\n",
       " ('사각지대', 'N'),\n",
       " ('해소', 'N'),\n",
       " ('교원', 'N'),\n",
       " ('역량', 'N'),\n",
       " ('확보', 'N'),\n",
       " ('와', 'J'),\n",
       " ('교권보호', 'N'),\n",
       " ('미래학교', 'N'),\n",
       " ('확산', 'N'),\n",
       " ('돌보', 'P'),\n",
       " ('ㅁ', 'E'),\n",
       " ('유야교육', 'N'),\n",
       " ('방과후', 'N'),\n",
       " ('공교육', 'N'),\n",
       " ('책', 'N'),\n",
       " ('이', 'J'),\n",
       " ('ㅁ', 'E'),\n",
       " ('강화', 'N'),\n",
       " ('미래지향적', 'N'),\n",
       " ('그러', 'P'),\n",
       " ('니까', 'E'),\n",
       " ('실제로', 'M'),\n",
       " ('저', 'N'),\n",
       " ('가', 'J'),\n",
       " ('전북대', 'N'),\n",
       " ('총장님', 'N'),\n",
       " ('한테', 'J'),\n",
       " ('직접', 'M'),\n",
       " ('들', 'P'),\n",
       " ('ㄴ', 'E'),\n",
       " ('얘', 'N'),\n",
       " ('이', 'J'),\n",
       " ('기', 'E'),\n",
       " ('이', 'J'),\n",
       " ('ㄴ데', 'E'),\n",
       " ('담당', 'N'),\n",
       " ('하', 'X'),\n",
       " ('ㄹ', 'E'),\n",
       " ('교수님', 'N'),\n",
       " ('을', 'J'),\n",
       " ('그렇', 'P'),\n",
       " ('게', 'E'),\n",
       " ('공', 'N'),\n",
       " ('을', 'J'),\n",
       " ('들이', 'P'),\n",
       " ('어서', 'E'),\n",
       " ('섭외', 'N'),\n",
       " ('를', 'J'),\n",
       " ('하', 'P'),\n",
       " ('어', 'E'),\n",
       " ('놓', 'P'),\n",
       " ('아ㄴ데', 'E'),\n",
       " ('결국', 'M'),\n",
       " ('마지막', 'N'),\n",
       " ('에', 'J'),\n",
       " ('수도권', 'N'),\n",
       " ('대학', 'N'),\n",
       " ('으로', 'J'),\n",
       " ('가', 'P'),\n",
       " ('더라는', 'E'),\n",
       " ('거', 'N'),\n",
       " ('이', 'J'),\n",
       " ('죠', 'E'),\n",
       " ('그래서', 'M'),\n",
       " ('저', 'N'),\n",
       " ('가', 'J'),\n",
       " ('생각', 'N'),\n",
       " ('하', 'X'),\n",
       " ('는', 'E'),\n",
       " ('해법', 'N'),\n",
       " ('은', 'J'),\n",
       " ('인공지능', 'N'),\n",
       " ('관련', 'N'),\n",
       " ('연구', 'N'),\n",
       " ('과제', 'N'),\n",
       " ('의', 'J'),\n",
       " ('발굴', 'N'),\n",
       " ('및', 'M'),\n",
       " ('진행', 'N'),\n",
       " ('에도', 'J'),\n",
       " ('공동', 'N'),\n",
       " ('참여', 'N'),\n",
       " ('하', 'X'),\n",
       " ('ㄴ다', 'E'),\n",
       " ('나군호', 'N'),\n",
       " ('SK케미칼', 'N'),\n",
       " ('은', 'J'),\n",
       " ('인공지능', 'N'),\n",
       " ('플랫폼', 'N'),\n",
       " ('으로', 'J'),\n",
       " ('NASH', 'F'),\n",
       " ('치료제', 'N'),\n",
       " ('후보물질', 'N'),\n",
       " ('을', 'J'),\n",
       " ('발굴', 'N'),\n",
       " ('하', 'X'),\n",
       " ('ㄴ', 'E'),\n",
       " ('후', 'N'),\n",
       " ('특허', 'N'),\n",
       " ('출원', 'N'),\n",
       " ('을', 'J'),\n",
       " ('마치', 'P'),\n",
       " ('었다', 'E'),\n",
       " ('현재', 'M'),\n",
       " ('또한', 'M'),\n",
       " ('금융', 'N'),\n",
       " ('비', 'X'),\n",
       " ('금융', 'N'),\n",
       " ('공공간', 'N'),\n",
       " ('데이터', 'N'),\n",
       " ('개방', 'N'),\n",
       " ('결합', 'N'),\n",
       " ('을', 'J'),\n",
       " ('확대', 'N'),\n",
       " ('하고', 'J'),\n",
       " ('금융분야', 'N'),\n",
       " ('활용', 'N'),\n",
       " ('을', 'J'),\n",
       " ('활성화하기', 'N'),\n",
       " ('위하', 'P'),\n",
       " ('ㄴ', 'E'),\n",
       " ('데이터', 'N'),\n",
       " ('인프라', 'N'),\n",
       " ('도', 'J'),\n",
       " ('구축', 'N'),\n",
       " ('하', 'X'),\n",
       " ('ㄹ', 'E'),\n",
       " ('예정', 'N'),\n",
       " ('이', 'J'),\n",
       " ('다', 'E'),\n",
       " ('또한', 'M'),\n",
       " ('신', 'X'),\n",
       " ('사업', 'N'),\n",
       " ('등', 'N'),\n",
       " ('금융', 'N'),\n",
       " ('관련', 'N'),\n",
       " ('일', 'P'),\n",
       " ('ㄴ', 'E'),\n",
       " ('허가', 'N'),\n",
       " ('를', 'J'),\n",
       " ('신속히', 'M'),\n",
       " ('처', 'N'),\n",
       " ('이', 'J'),\n",
       " ('리', 'E'),\n",
       " ('하고', 'J'),\n",
       " ('제재', 'N'),\n",
       " ('에', 'J'),\n",
       " ('대', 'P'),\n",
       " ('어', 'E'),\n",
       " ('하', 'P'),\n",
       " ('어서', 'E'),\n",
       " ('는', 'J'),\n",
       " ('제재상대방', 'N'),\n",
       " ('조선대학교', 'N'),\n",
       " ('정보통신공학부', 'N'),\n",
       " ('김영식', 'N'),\n",
       " ('교수', 'N'),\n",
       " ('가', 'J'),\n",
       " ('서울대학교', 'N'),\n",
       " ('및', 'M'),\n",
       " ('대구경북대학교', 'N'),\n",
       " ('연구팀', 'N'),\n",
       " ('과', 'J'),\n",
       " ('프라이버시', 'N'),\n",
       " ('보장', 'N'),\n",
       " ('기술', 'N'),\n",
       " ('을', 'J'),\n",
       " ('자체', 'N'),\n",
       " ('개발', 'N'),\n",
       " ('하고', 'J'),\n",
       " ('인공지능', 'N'),\n",
       " ('분야', 'N'),\n",
       " ('최우수', 'N'),\n",
       " ('학술대회', 'N'),\n",
       " ('이', 'J'),\n",
       " ('ㄴ', 'E'),\n",
       " ('ICML', 'F'),\n",
       " ('2022', 'N'),\n",
       " ('에', 'P'),\n",
       " ('어서', 'E'),\n",
       " ('논문', 'N'),\n",
       " ('을', 'J'),\n",
       " ('발표', 'N'),\n",
       " ('하', 'X'),\n",
       " ('었다', 'E'),\n",
       " ('8일', 'N'),\n",
       " ('조선대', 'N'),\n",
       " ('에', 'J'),\n",
       " ('따르', 'P'),\n",
       " ('면', 'E'),\n",
       " ('또', 'M'),\n",
       " ('라이나생명보험과', 'N'),\n",
       " ('의', 'J'),\n",
       " ('제휴', 'N'),\n",
       " ('를', 'J'),\n",
       " ('통하', 'P'),\n",
       " ('어', 'E'),\n",
       " ('기술', 'N'),\n",
       " ('을', 'J'),\n",
       " ('활용', 'N'),\n",
       " ('하', 'X'),\n",
       " ('어', 'E'),\n",
       " ('스마트폰', 'N'),\n",
       " ('카메라', 'N'),\n",
       " ('로', 'J'),\n",
       " ('촬영', 'N'),\n",
       " ('하', 'X'),\n",
       " ('ㄴ', 'E'),\n",
       " ('얼굴', 'N'),\n",
       " ('영상', 'N'),\n",
       " ('을', 'J'),\n",
       " ('보', 'P'),\n",
       " ('고', 'E'),\n",
       " ('호흡수', 'N'),\n",
       " ('심박수', 'N'),\n",
       " ('스트레스', 'N'),\n",
       " ('지수', 'N'),\n",
       " ('등', 'N'),\n",
       " ('활력징후', 'N'),\n",
       " ('를', 'J'),\n",
       " ('알리', 'P'),\n",
       " ('어', 'E'),\n",
       " ('주', 'P'),\n",
       " ('는', 'E'),\n",
       " ('건강신호', 'N'),\n",
       " ('측정', 'N'),\n",
       " ('건강', 'N'),\n",
       " ('설문', 'N'),\n",
       " ('을', 'J'),\n",
       " ('통하', 'P'),\n",
       " ('어', 'E'),\n",
       " ('임상', 'N'),\n",
       " ('데이터', 'N'),\n",
       " ('를', 'J'),\n",
       " ('기반', 'N'),\n",
       " ('으로', 'J'),\n",
       " ('동강대', 'N'),\n",
       " ('제', 'X'),\n",
       " ('궁', 'N'),\n",
       " ('동강대학교', 'N'),\n",
       " ('총장', 'N'),\n",
       " ('이민숙', 'N'),\n",
       " ('늘', 'P'),\n",
       " ('ㄴ', 'E'),\n",
       " ('인공지능', 'N'),\n",
       " ('산타', 'N'),\n",
       " ('플랫폼', 'N'),\n",
       " ('을', 'J'),\n",
       " ('특히', 'M'),\n",
       " ('엔비디아', 'N'),\n",
       " ('지포스', 'N'),\n",
       " ('RTX', 'F'),\n",
       " ('3060', 'N'),\n",
       " ('GDDR6', 'N'),\n",
       " ('6GB', 'N'),\n",
       " ('115W', 'N'),\n",
       " ('그래픽카드', 'N'),\n",
       " ('는', 'J'),\n",
       " ('CREATIVE', 'F'),\n",
       " ('MAESTRO', 'F'),\n",
       " ('등급', 'N'),\n",
       " ('으로', 'J'),\n",
       " ('고급', 'N'),\n",
       " ('가속', 'N'),\n",
       " ('기능', 'N'),\n",
       " ('6K', 'N'),\n",
       " ('HDR', 'F'),\n",
       " ('영상편집', 'N'),\n",
       " ('3D', 'N'),\n",
       " ('애니메이션', 'N'),\n",
       " ('제작', 'N'),\n",
       " ('Adobe', 'F'),\n",
       " ('Creative', 'F'),\n",
       " ('Cloud', 'F'),\n",
       " ('최적화', 'N'),\n",
       " ('등', 'N'),\n",
       " ('전문적', 'N'),\n",
       " ('이', 'J'),\n",
       " ('ㄴ', 'E'),\n",
       " ('작업', 'N'),\n",
       " ('이', 'J'),\n",
       " ('가능', 'N'),\n",
       " ('하', 'X'),\n",
       " ('어', 'E'),\n",
       " ('크리에이터용', 'N'),\n",
       " ('금융', 'N'),\n",
       " ('비', 'X'),\n",
       " ('금융', 'N'),\n",
       " ('공공', 'N'),\n",
       " ('가', 'P'),\n",
       " ('ㄴ', 'E'),\n",
       " ('데이터', 'N'),\n",
       " ('개방', 'N'),\n",
       " ('결합', 'N'),\n",
       " ('을', 'J'),\n",
       " ('확대', 'N'),\n",
       " ('하고', 'J'),\n",
       " ('금융', 'N'),\n",
       " ('분야', 'N'),\n",
       " ('인공지능', 'N'),\n",
       " ('활용', 'N'),\n",
       " ('을', 'J'),\n",
       " ('활성화하기', 'N'),\n",
       " ('위하', 'P'),\n",
       " ('ㄴ', 'E'),\n",
       " ('데이터', 'N'),\n",
       " ('인프라', 'N'),\n",
       " ('도', 'J'),\n",
       " ('구축', 'N'),\n",
       " ('하', 'X'),\n",
       " ('ㄴ다', 'E'),\n",
       " ('물적분할', 'N'),\n",
       " ('회사', 'N'),\n",
       " ('의', 'J'),\n",
       " ('자회사', 'N'),\n",
       " ('상장', 'N'),\n",
       " ('시', 'N'),\n",
       " ('분하', 'P'),\n",
       " ('ㄹ', 'E'),\n",
       " ('반대주주', 'N'),\n",
       " ('주식매수청구권', 'N'),\n",
       " ('부', 'N'),\n",
       " ('이', 'J'),\n",
       " ('어', 'E'),\n",
       " ('등', 'N'),\n",
       " ('을', 'J'),\n",
       " ('통하', 'P'),\n",
       " ('어', 'E'),\n",
       " ('모회사', 'N'),\n",
       " ('유치', 'N'),\n",
       " ('인공지능', 'N'),\n",
       " ('영재', 'N'),\n",
       " ('이', 'J'),\n",
       " ('고', 'E'),\n",
       " ('설립', 'N'),\n",
       " ('도', 'J'),\n",
       " ('필수불가결', 'N'),\n",
       " ('하', 'X'),\n",
       " ('ㄴ', 'E'),\n",
       " ('사업', 'N'),\n",
       " ('이', 'J'),\n",
       " ('다', 'E'),\n",
       " ('라', 'N'),\n",
       " ('이', 'J'),\n",
       " ('며', 'E'),\n",
       " ('적극적', 'N'),\n",
       " ('이', 'J'),\n",
       " ('ㄴ', 'E'),\n",
       " ('지원', 'N'),\n",
       " ('과', 'J'),\n",
       " ('협조', 'N'),\n",
       " ('를', 'J'),\n",
       " ('요청', 'N'),\n",
       " ('하', 'X'),\n",
       " ('었다', 'E'),\n",
       " ('이', 'N'),\n",
       " ('이', 'J'),\n",
       " ('어', 'E'),\n",
       " ('2027년', 'N'),\n",
       " ('아우르', 'P'),\n",
       " ('어', 'E'),\n",
       " ('이상헌', 'N'),\n",
       " ('의원', 'N'),\n",
       " ('은', 'J'),\n",
       " ('인공지능', 'N'),\n",
       " ('또', 'M'),\n",
       " ('금융', 'N'),\n",
       " ('과', 'J'),\n",
       " ('비', 'X'),\n",
       " ('금융', 'N'),\n",
       " ('공공', 'N'),\n",
       " ('가', 'P'),\n",
       " ('ㄴ', 'E'),\n",
       " ('데이터', 'N'),\n",
       " ('개방', 'N'),\n",
       " ('결합', 'N'),\n",
       " ('을', 'J'),\n",
       " ('확대', 'N'),\n",
       " ('하고', 'J'),\n",
       " ('금융분야', 'N'),\n",
       " ('인공지능', 'N'),\n",
       " ('활용', 'N'),\n",
       " ('활성화', 'N'),\n",
       " ('를', 'J'),\n",
       " ('위하', 'P'),\n",
       " ('ㄴ', 'E'),\n",
       " ('데이터', 'N'),\n",
       " ('인프라', 'N'),\n",
       " ('를', 'J'),\n",
       " ('구축', 'N'),\n",
       " ('하', 'X'),\n",
       " ('ㄴ다', 'E'),\n",
       " ('체감', 'N'),\n",
       " ('도', 'J'),\n",
       " ('향상', 'N'),\n",
       " ('을', 'J'),\n",
       " ('위하', 'P'),\n",
       " ('어', 'E'),\n",
       " ('감독', 'N'),\n",
       " ('검사', 'N'),\n",
       " ('관행', 'N'),\n",
       " ('을', 'J'),\n",
       " ('개선', 'N'),\n",
       " ('하고', 'J'),\n",
       " ('금유', 'N'),\n",
       " ('의', 'J'),\n",
       " ('글로벌화', 'N'),\n",
       " ('도', 'J'),\n",
       " ('지원', 'N'),\n",
       " ('하', 'X'),\n",
       " ('ㄴ다', 'E'),\n",
       " ('특히', 'M'),\n",
       " ('조선대학교', 'N'),\n",
       " ('정보통신공학부', 'N'),\n",
       " ('김영식', 'N'),\n",
       " ('교수', 'N'),\n",
       " ('가', 'J'),\n",
       " ('서울대학교', 'N'),\n",
       " ('및', 'M'),\n",
       " ('대구경북대학교', 'N'),\n",
       " ('연구팀', 'N'),\n",
       " ('과', 'J'),\n",
       " ('프라이버시', 'N'),\n",
       " ('보장', 'N'),\n",
       " ('기술', 'N'),\n",
       " ('을', 'J'),\n",
       " ('자체', 'N'),\n",
       " ('개발', 'N'),\n",
       " ('하고', 'J'),\n",
       " ('인공지능', 'N'),\n",
       " ('분야', 'N'),\n",
       " ('최우수', 'N'),\n",
       " ('학술대회', 'N'),\n",
       " ('이', 'J'),\n",
       " ('ㄴ', 'E'),\n",
       " ('ICML', 'F'),\n",
       " ('2022', 'N'),\n",
       " ('에', 'P'),\n",
       " ('어서', 'E'),\n",
       " ('논문', 'N'),\n",
       " ('을', 'J'),\n",
       " ('발표', 'N'),\n",
       " ('하', 'X'),\n",
       " ('었다', 'E'),\n",
       " ('8일', 'N'),\n",
       " ('조선대', 'N'),\n",
       " ('에', 'J'),\n",
       " ('메이저맵', 'N'),\n",
       " ('은', 'N'),\n",
       " ('2018년', 'N'),\n",
       " ('시작', 'N'),\n",
       " ('되', 'X'),\n",
       " ('ㄴ', 'E'),\n",
       " ('로', 'N'),\n",
       " ('분석', 'N'),\n",
       " ('하', 'X'),\n",
       " ('ㄴ', 'E'),\n",
       " ('데이터기반', 'N'),\n",
       " ('학', 'N'),\n",
       " ('과', 'J'),\n",
       " ('검색엔진', 'N'),\n",
       " ('을', 'J'),\n",
       " ('보유', 'N'),\n",
       " ('하고', 'J'),\n",
       " ('있', 'P'),\n",
       " ('고', 'E'),\n",
       " ('34', 'N'),\n",
       " ('만', 'J'),\n",
       " ('명', 'N'),\n",
       " ('이', 'J'),\n",
       " ('넘', 'P'),\n",
       " ('는', 'E'),\n",
       " ('유저', 'N'),\n",
       " ('를', 'J'),\n",
       " ('확보', 'N'),\n",
       " ('하고', 'J'),\n",
       " ('있', 'P'),\n",
       " ('다', 'E'),\n",
       " ('또', 'M'),\n",
       " ('전국', 'N'),\n",
       " ('65', 'N'),\n",
       " ('%', 'S'),\n",
       " ('가', 'J'),\n",
       " ('넘', 'P'),\n",
       " ('는', 'E'),\n",
       " ('고등학교', 'N'),\n",
       " ('에서', 'J'),\n",
       " ('교사', 'N'),\n",
       " ('들', 'X'),\n",
       " ('이', 'J'),\n",
       " ('사용', 'N'),\n",
       " ('하', 'X'),\n",
       " ('는', 'E'),\n",
       " ('서비스', 'N'),\n",
       " ('이', 'J'),\n",
       " ('다', 'E'),\n",
       " ('메이저맵', 'N'),\n",
       " ('검색엔진', 'N'),\n",
       " ('은', 'J'),\n",
       " ('경진대회', 'N'),\n",
       " ('요강', 'N'),\n",
       " ('은', 'J'),\n",
       " ('스마트팜', 'N'),\n",
       " ('작물재배', 'N'),\n",
       " ('분야', 'N'),\n",
       " ('는', 'J'),\n",
       " ('활용', 'N'),\n",
       " ('등', 'N'),\n",
       " ('생산성', 'N'),\n",
       " ('향상', 'N'),\n",
       " ('을', 'J'),\n",
       " ('위하', 'P'),\n",
       " ('어', 'E'),\n",
       " ('다양', 'N'),\n",
       " ('하', 'X'),\n",
       " ('ㄴ', 'E'),\n",
       " ('기술', 'N'),\n",
       " ('을', 'J'),\n",
       " ('스마트팜', 'N'),\n",
       " ('에', 'J'),\n",
       " ('적용', 'N'),\n",
       " ('하', 'X'),\n",
       " ('어', 'E'),\n",
       " ('토마토', 'N'),\n",
       " ('와', 'J'),\n",
       " ('딸기', 'N'),\n",
       " ('작물', 'N'),\n",
       " ('을', 'J'),\n",
       " ('재배', 'N'),\n",
       " ('하', 'X'),\n",
       " ('는', 'E'),\n",
       " ('중소', 'N'),\n",
       " ('청년농업인', 'N'),\n",
       " ('이', 'J'),\n",
       " ('차', 'P'),\n",
       " ('ㅁ', 'E'),\n",
       " ('가', 'J'),\n",
       " ('가능', 'N'),\n",
       " ('단체', 'N'),\n",
       " ('나', 'J'),\n",
       " ('대학', 'N'),\n",
       " ('법인', 'N'),\n",
       " ('의', 'J'),\n",
       " ('참여', 'N'),\n",
       " ('는', 'J'),\n",
       " ('제하', 'P'),\n",
       " ('ㄴ', 'E'),\n",
       " ('금융', 'N'),\n",
       " ('비', 'X'),\n",
       " ('금융', 'N'),\n",
       " ('공공간', 'N'),\n",
       " ('데이터', 'N'),\n",
       " ('개방', 'N'),\n",
       " ('결합', 'N'),\n",
       " ('을', 'J'),\n",
       " ('확대', 'N'),\n",
       " ('하고', 'J'),\n",
       " ('금융', 'N'),\n",
       " ('분야', 'N'),\n",
       " ('활용', 'N'),\n",
       " ('을', 'J'),\n",
       " ('활성화하기', 'N'),\n",
       " ('위하', 'P'),\n",
       " ('ㄴ', 'E'),\n",
       " ('데이터', 'N'),\n",
       " ('인프라', 'N'),\n",
       " ('를', 'J'),\n",
       " ('구축', 'N'),\n",
       " ('하', 'X'),\n",
       " ('ㄴ다', 'E'),\n",
       " ('특히', 'M'),\n",
       " ('우리', 'N'),\n",
       " ('경제', 'N'),\n",
       " ('기업', 'N'),\n",
       " ('이', 'J'),\n",
       " ('실적', 'N'),\n",
       " ('에', 'J'),\n",
       " ('합당', 'N'),\n",
       " ('하', 'X'),\n",
       " ('ㄴ', 'E'),\n",
       " ('평가', 'N'),\n",
       " ('를', 'J'),\n",
       " ('받', 'P'),\n",
       " ('고', 'E'),\n",
       " ('향후', 'M'),\n",
       " ('자본시장', 'N'),\n",
       " ('이', 'J'),\n",
       " ('더욱', 'M'),\n",
       " ('빠르', 'P'),\n",
       " ('고', 'E'),\n",
       " ('강하', 'P'),\n",
       " ('게', 'E'),\n",
       " ('반등할', 'N'),\n",
       " ('수', 'N'),\n",
       " ('에듀테크', 'N'),\n",
       " ('대표', 'N'),\n",
       " ('기업', 'N'),\n",
       " ('아이스크림에듀', 'N'),\n",
       " ('대표', 'N'),\n",
       " ('이윤석', 'N'),\n",
       " ('가', 'J'),\n",
       " ('지나', 'P'),\n",
       " ('ㄴ', 'E'),\n",
       " ('1일', 'N'),\n",
       " ('서울', 'N'),\n",
       " ('서초구청', 'N'),\n",
       " ('에서', 'J'),\n",
       " ('서리풀', 'N'),\n",
       " ('새', 'P'),\n",
       " ('ㅁ', 'E'),\n",
       " ('영진전문대학교', 'N'),\n",
       " ('총장', 'N'),\n",
       " ('최재영', 'N'),\n",
       " ('융합기계계열', 'N'),\n",
       " ('포레', 'N'),\n",
       " ('의', 'J'),\n",
       " ('eFMS', 'F'),\n",
       " ('는', 'J'),\n",
       " ('데이터', 'N'),\n",
       " ('기반', 'N'),\n",
       " ('의', 'J'),\n",
       " ('스마트', 'N'),\n",
       " ('AIoT', 'F'),\n",
       " ('오', 'P'),\n",
       " ('아', 'E'),\n",
       " ('IoT', 'F'),\n",
       " ('기술', 'N'),\n",
       " ('을', 'J'),\n",
       " ('접목', 'N'),\n",
       " ('하', 'X'),\n",
       " ('어', 'E'),\n",
       " ('음식물쓰레기', 'N'),\n",
       " ('를', 'J'),\n",
       " ('버리', 'P'),\n",
       " ('기', 'E'),\n",
       " ('만', 'J'),\n",
       " ('하', 'P'),\n",
       " ('면', 'E'),\n",
       " ('자동', 'N'),\n",
       " ('으로', 'J'),\n",
       " ('보관', 'N'),\n",
       " ('처', 'N'),\n",
       " ('이', 'J'),\n",
       " ('리', 'E'),\n",
       " ('하고', 'J'),\n",
       " ('하', 'P'),\n",
       " ('ㄴ', 'E'),\n",
       " ('독서플랫폼', 'N'),\n",
       " ('스타트업', 'N'),\n",
       " ('이', 'J'),\n",
       " ('다', 'E'),\n",
       " ('젤리페이지', 'N'),\n",
       " ('의', 'J'),\n",
       " ('가장', 'M'),\n",
       " ('크', 'P'),\n",
       " ('ㄴ', 'E'),\n",
       " ('강점', 'N'),\n",
       " ('은', 'J'),\n",
       " ('페어런트테크', 'N'),\n",
       " ('Parent', 'F'),\n",
       " ('tech', 'F'),\n",
       " ('기능', 'N'),\n",
       " ('을', 'J'),\n",
       " ('업무', 'N'),\n",
       " ('를', 'J'),\n",
       " ('보다', 'M'),\n",
       " ('빠르', 'P'),\n",
       " ('고', 'E'),\n",
       " ('효율적', 'N'),\n",
       " ('으로', 'J'),\n",
       " ('수행', 'N'),\n",
       " ('하', 'X'),\n",
       " ('기', 'E'),\n",
       " ('위하', 'P'),\n",
       " ('어', 'E'),\n",
       " ('개발', 'N'),\n",
       " ('하', 'X'),\n",
       " ('ㄴ', 'E'),\n",
       " ('인공지능', 'N'),\n",
       " ('이', 'M'),\n",
       " ('사이버범죄', 'N'),\n",
       " ('에', 'J'),\n",
       " ('악용', 'N'),\n",
       " ('되', 'X'),\n",
       " ('ㄹ', 'E'),\n",
       " ('수', 'N'),\n",
       " ('있', 'P'),\n",
       " ('음', 'E'),\n",
       " ('도', 'J'),\n",
       " ('널리', 'M'),\n",
       " ('알리', 'P'),\n",
       " ('어', 'E'),\n",
       " ('지', 'P'),\n",
       " ('어', 'E'),\n",
       " ('있', 'P'),\n",
       " ('다', 'E'),\n",
       " ('ICT', 'F'),\n",
       " ('의', 'J'),\n",
       " ('발전', 'N'),\n",
       " ('에', 'J'),\n",
       " ('따르', 'P'),\n",
       " ('아', 'E'),\n",
       " ('빛', 'N'),\n",
       " ('과', 'J'),\n",
       " ('어둠', 'N'),\n",
       " ('이', 'J'),\n",
       " ('모두', 'M'),\n",
       " ('나타나', 'P'),\n",
       " ('고', 'E'),\n",
       " ('있', 'P'),\n",
       " ('는', 'E'),\n",
       " ('상황', 'N'),\n",
       " ('이', 'J'),\n",
       " ('다', 'E'),\n",
       " ('주', 'P'),\n",
       " ('지', 'E'),\n",
       " ('하', 'P'),\n",
       " ('ㄹ', 'E'),\n",
       " ('사실', 'N'),\n",
       " ('은', 'J'),\n",
       " ('ICT', 'F'),\n",
       " ('자체', 'N'),\n",
       " ('에는', 'J'),\n",
       " ('선악', 'N'),\n",
       " ('이', 'J'),\n",
       " ('나', 'N'),\n",
       " ('만의', 'J'),\n",
       " ('추천', 'N'),\n",
       " ('서비스', 'N'),\n",
       " ('나', 'J'),\n",
       " ('삼성', 'N'),\n",
       " ('퀀트', 'N'),\n",
       " ('고수들', 'N'),\n",
       " ('의', 'J'),\n",
       " ('종목', 'N'),\n",
       " ('등', 'N'),\n",
       " ('리포트', 'N'),\n",
       " ('가', 'J'),\n",
       " ('매우', 'M'),\n",
       " ('유용', 'N'),\n",
       " ('하', 'X'),\n",
       " ('어', 'E'),\n",
       " ('참', 'P'),\n",
       " ('고', 'E'),\n",
       " ('하', 'P'),\n",
       " ('기', 'E'),\n",
       " ('좋', 'P'),\n",
       " ('습니다', 'E'),\n",
       " ('특히', 'M'),\n",
       " ('고수들', 'N'),\n",
       " ('의', 'J'),\n",
       " ('종목', 'N'),\n",
       " ('은', 'J'),\n",
       " ('상위', 'N'),\n",
       " ('1000명', 'N'),\n",
       " ('의', 'J'),\n",
       " ('데이터', 'N'),\n",
       " ('를', 'J'),\n",
       " ('주기적', 'N'),\n",
       " ('으로', 'J'),\n",
       " ('보이', 'P'),\n",
       " ('어', 'E'),\n",
       " ('주', 'P'),\n",
       " ('고', 'E'),\n",
       " ('있', 'P'),\n",
       " ('습니다', 'E'),\n",
       " ('계좌', 'N'),\n",
       " ('를', 'J'),\n",
       " ('개설', 'N'),\n",
       " ('하', 'X'),\n",
       " ('ㄹ', 'E'),\n",
       " ('때', 'N'),\n",
       " ('알뜰폰으로', 'N'),\n",
       " ('는', 'J'),\n",
       " ('인증', 'N'),\n",
       " ('이', 'J'),\n",
       " ('되', 'P'),\n",
       " ('지', 'E'),\n",
       " ('KB', 'F'),\n",
       " ('국민카드', 'N'),\n",
       " ('디지털', 'N'),\n",
       " ('이', 'N'),\n",
       " ('이', 'J'),\n",
       " ('지', 'E'),\n",
       " ...]"
      ]
     },
     "execution_count": 161,
     "metadata": {},
     "output_type": "execute_result"
    }
   ],
   "source": [
    "#okt 활용\n",
    "\n",
    "okt = Okt()\n",
    "morph_okt = han.pos(word_str_clean)\n",
    "morph_okt\n",
    "\n",
    "#너무 단어를 쪼개는 느낌-> 한나눔으로.."
   ]
  },
  {
   "cell_type": "code",
   "execution_count": 162,
   "id": "252a3c22",
   "metadata": {
    "scrolled": true
   },
   "outputs": [
    {
     "name": "stdout",
     "output_type": "stream",
     "text": [
      "진\n",
      "을\n",
      "내\n",
      "강\n",
      "를\n",
      "전\n",
      "0\n",
      "9\n",
      "등\n",
      "들\n",
      "며\n",
      "R\n",
      "D\n",
      "등\n",
      "중\n",
      "책\n",
      "저\n",
      "얘\n",
      "공\n",
      "거\n",
      "저\n",
      "후\n",
      "등\n",
      "처\n",
      "등\n",
      "궁\n",
      "등\n",
      "시\n",
      "부\n",
      "등\n",
      "라\n",
      "이\n",
      "은\n",
      "로\n",
      "학\n",
      "명\n",
      "등\n",
      "수\n",
      "처\n",
      "수\n",
      "빛\n",
      "나\n",
      "등\n",
      "때\n",
      "이\n",
      "등\n",
      "등\n",
      "8\n",
      "한\n",
      "앞\n",
      "비\n",
      "비\n",
      "비\n",
      "등\n",
      "비\n",
      "물\n",
      "적\n",
      "시\n",
      "봇\n",
      "등\n",
      "등\n",
      "을\n",
      "시\n",
      "등\n",
      "데\n",
      "재\n",
      "라\n",
      "이\n",
      "엠\n",
      "7\n",
      "증\n",
      "엠\n",
      "등\n",
      "며\n",
      "등\n",
      "말\n",
      "수\n",
      "봇\n",
      "엠\n",
      "엠\n",
      "원\n",
      "7\n",
      "도\n",
      "등\n",
      "과\n",
      "이\n",
      "이\n",
      "등\n",
      "처\n",
      "나\n",
      "등\n",
      "봇\n",
      "수\n",
      "봇\n",
      "등\n",
      "국\n",
      "며\n",
      "닭\n",
      "은\n",
      "를\n",
      "추\n",
      "앱\n",
      "수\n",
      "등\n",
      "이\n",
      "내\n",
      "내\n",
      "시\n",
      "스\n",
      "코\n",
      "입\n",
      "투\n",
      "은\n",
      "4\n",
      "투\n",
      "등\n",
      "황\n",
      "중\n",
      "옆\n",
      "며\n",
      "그\n",
      "등\n",
      "이\n",
      "말\n",
      "등\n",
      "바\n",
      "등\n",
      "이\n",
      "등\n",
      "란\n",
      "O\n",
      "등\n",
      "은\n",
      "앱\n",
      "뇌\n",
      "를\n",
      "등\n",
      "이\n",
      "비\n",
      "비\n",
      "비\n",
      "등\n",
      "비\n",
      "물\n",
      "7\n",
      "전\n",
      "5\n",
      "으\n",
      "수\n",
      "이\n",
      "등\n",
      "처\n",
      "수\n",
      "처\n",
      "등\n",
      "과\n",
      "등\n",
      "양\n",
      "수\n",
      "것\n",
      "이\n",
      "말\n",
      "등\n",
      "의\n",
      "봇\n",
      "등\n",
      "간\n",
      "제\n",
      "시\n",
      "은\n",
      "앱\n",
      "뇌\n",
      "를\n",
      "등\n",
      "이\n",
      "진\n",
      "기\n",
      "등\n"
     ]
    }
   ],
   "source": [
    "for word, tag in morph_han:\n",
    "    if (tag == 'N') or (tag == 'F'):\n",
    "        if (len(word) == 1):\n",
    "            print(word)"
   ]
  },
  {
   "cell_type": "code",
   "execution_count": 163,
   "id": "89fb4df5",
   "metadata": {},
   "outputs": [],
   "source": [
    "word_clean = []\n",
    "\n",
    "for word, tag in morph_han:\n",
    "    if (tag == 'N' or tag == 'F') and len(word)>1:\n",
    "        word_clean.append(word)"
   ]
  },
  {
   "cell_type": "code",
   "execution_count": 164,
   "id": "88b66cd5",
   "metadata": {},
   "outputs": [
    {
     "data": {
      "text/plain": [
       "{'인공지능': 52,\n",
       " '금융': 46,\n",
       " '데이터': 32,\n",
       " '활용': 21,\n",
       " '사업': 20,\n",
       " '교육': 17,\n",
       " '인프라': 17,\n",
       " '구축': 17,\n",
       " '확대': 16,\n",
       " '기술': 15,\n",
       " '분야': 15,\n",
       " '관련': 13,\n",
       " '개방': 12,\n",
       " '결합': 12,\n",
       " '활성화하기': 12,\n",
       " '디지털': 12,\n",
       " '기반': 11,\n",
       " '빅데이터': 9,\n",
       " '공공': 9,\n",
       " '지원': 8,\n",
       " '기업': 8,\n",
       " '인재': 8,\n",
       " '대표': 8,\n",
       " '국내': 8,\n",
       " '개발': 7,\n",
       " '자본시장': 7,\n",
       " '글로벌': 6,\n",
       " '맞춤형': 6,\n",
       " '과제': 6,\n",
       " '자체': 6,\n",
       " '검사': 6,\n",
       " '개선': 6,\n",
       " '프로그램': 6,\n",
       " '성장': 6,\n",
       " '비스포크': 6,\n",
       " '육성': 5,\n",
       " '이상': 5,\n",
       " '플랫폼': 5,\n",
       " '수도권': 5,\n",
       " '8일': 5,\n",
       " '기능': 5,\n",
       " '자회사': 5,\n",
       " '대상': 5,\n",
       " '사물인터넷': 5,\n",
       " '가상현실': 5,\n",
       " 'VR': 5,\n",
       " '소프트웨어': 5,\n",
       " '계획': 5,\n",
       " '제트': 5,\n",
       " '출시': 4,\n",
       " '지역': 4,\n",
       " '다양한': 4,\n",
       " '강화': 4,\n",
       " '진행': 4,\n",
       " '금융분야': 4,\n",
       " '물적분할': 4,\n",
       " '영재': 4,\n",
       " '감독': 4,\n",
       " '관행': 4,\n",
       " '서비스': 4,\n",
       " '업무': 4,\n",
       " '농산어촌': 4,\n",
       " '수요': 4,\n",
       " '증가': 4,\n",
       " '중심': 4,\n",
       " '지난해': 4,\n",
       " '올해': 4,\n",
       " '곳곳': 4,\n",
       " '모델': 4,\n",
       " '제트랜드': 4,\n",
       " '2분기': 4,\n",
       " '영업이익': 4,\n",
       " '로봇청소기': 4,\n",
       " 'DX': 4,\n",
       " '환자': 4,\n",
       " '훈련': 4,\n",
       " '10대': 3,\n",
       " '글로컬': 3,\n",
       " '학생': 3,\n",
       " '교사': 3,\n",
       " '혁신': 3,\n",
       " '해소': 3,\n",
       " '제공': 3,\n",
       " '논문': 3,\n",
       " '양성': 3,\n",
       " '연구': 3,\n",
       " '발굴': 3,\n",
       " '참여': 3,\n",
       " '공공간': 3,\n",
       " '제재': 3,\n",
       " '상장': 3,\n",
       " '반대주주': 3,\n",
       " '유치': 3,\n",
       " '설립': 3,\n",
       " '2027년': 3,\n",
       " '활성화': 3,\n",
       " '향상': 3,\n",
       " '글로벌화': 3,\n",
       " '분석': 3,\n",
       " '생산성': 3,\n",
       " '다양': 3,\n",
       " '우리': 3,\n",
       " '실적': 3,\n",
       " 'IoT': 3,\n",
       " '수행': 3,\n",
       " '발전': 3,\n",
       " '사실': 3,\n",
       " '청소년들': 3,\n",
       " '우수': 3,\n",
       " '1위': 3,\n",
       " '에쓰오': 3,\n",
       " '포스코ICT': 3,\n",
       " '대기업': 3,\n",
       " 'A사': 3,\n",
       " 'B사': 3,\n",
       " '5G': 3,\n",
       " 'to': 3,\n",
       " '자율주행': 3,\n",
       " '상반기': 3,\n",
       " '매출': 3,\n",
       " '관계자': 3,\n",
       " '해당': 3,\n",
       " '코드': 3,\n",
       " '삼성닷컴': 3,\n",
       " '신제품': 3,\n",
       " '전환': 3,\n",
       " '인허가': 3,\n",
       " '사이트디펜더': 3,\n",
       " '중국': 3,\n",
       " '필요': 3,\n",
       " '구성': 3,\n",
       " '정책': 2,\n",
       " '목표': 2,\n",
       " '로컬': 2,\n",
       " '융합인재': 2,\n",
       " '직업': 2,\n",
       " '누구': 2,\n",
       " '소외': 2,\n",
       " '적극': 2,\n",
       " '재구조화': 2,\n",
       " '정치': 2,\n",
       " '이념': 2,\n",
       " '편향성': 2,\n",
       " '주요': 2,\n",
       " '기업들': 2,\n",
       " '공급망': 2,\n",
       " '이날': 2,\n",
       " '17': 2,\n",
       " '스타트업': 2,\n",
       " '포함': 2,\n",
       " '헬스케어': 2,\n",
       " '최초': 2,\n",
       " '융합': 2,\n",
       " '추진': 2,\n",
       " '하이테크': 2,\n",
       " '확보': 2,\n",
       " '대학': 2,\n",
       " '공동': 2,\n",
       " '나군호': 2,\n",
       " '예정': 2,\n",
       " '허가': 2,\n",
       " '제재상대방': 2,\n",
       " '조선대학교': 2,\n",
       " '정보통신공학부': 2,\n",
       " '김영식': 2,\n",
       " '교수': 2,\n",
       " '서울대학교': 2,\n",
       " '대구경북대학교': 2,\n",
       " '연구팀': 2,\n",
       " '프라이버시': 2,\n",
       " '보장': 2,\n",
       " '최우수': 2,\n",
       " '학술대회': 2,\n",
       " 'ICML': 2,\n",
       " '2022': 2,\n",
       " '발표': 2,\n",
       " '조선대': 2,\n",
       " '라이나생명보험과': 2,\n",
       " '제휴': 2,\n",
       " '스마트폰': 2,\n",
       " '카메라': 2,\n",
       " '촬영': 2,\n",
       " '얼굴': 2,\n",
       " '영상': 2,\n",
       " '호흡수': 2,\n",
       " '심박수': 2,\n",
       " '스트레스': 2,\n",
       " '지수': 2,\n",
       " '활력징후': 2,\n",
       " '건강신호': 2,\n",
       " '측정': 2,\n",
       " '건강': 2,\n",
       " '설문': 2,\n",
       " '임상': 2,\n",
       " '총장': 2,\n",
       " '3D': 2,\n",
       " '가능': 2,\n",
       " '필수불가결': 2,\n",
       " '적극적': 2,\n",
       " '협조': 2,\n",
       " '요청': 2,\n",
       " '메이저맵': 2,\n",
       " '검색엔진': 2,\n",
       " '전국': 2,\n",
       " '스마트팜': 2,\n",
       " '적용': 2,\n",
       " '평가': 2,\n",
       " '접목': 2,\n",
       " 'ICT': 2,\n",
       " '고수들': 2,\n",
       " '종목': 2,\n",
       " 'KB': 2,\n",
       " '국민카드': 2,\n",
       " '증강현실': 2,\n",
       " 'AR': 2,\n",
       " '미래': 2,\n",
       " '과학기술정보통신부': 2,\n",
       " '투자': 2,\n",
       " 'ABB': 2,\n",
       " '블록체': 2,\n",
       " 'for': 2,\n",
       " 'services': 2,\n",
       " '평택교육지원청': 2,\n",
       " '최대': 2,\n",
       " '300': 2,\n",
       " '내일': 2,\n",
       " '강원': 2,\n",
       " '300mm': 2,\n",
       " '중부지방': 2,\n",
       " '강풍': 2,\n",
       " '동반한': 2,\n",
       " '폭우': 2,\n",
       " '지하차도': 2,\n",
       " '관련해': 2,\n",
       " '공시': 2,\n",
       " '상장심사': 2,\n",
       " '금융위': 2,\n",
       " '삼성전자': 2,\n",
       " '경쟁력': 2,\n",
       " '금융서비스': 2,\n",
       " '4차': 2,\n",
       " '산업혁명': 2,\n",
       " '준공': 2,\n",
       " '188': 2,\n",
       " '조류인플루엔자': 2,\n",
       " '영향': 2,\n",
       " '생계': 2,\n",
       " '시세': 2,\n",
       " '황금': 2,\n",
       " '제트봇': 2,\n",
       " '할인코드': 2,\n",
       " '획득': 2,\n",
       " '151억': 2,\n",
       " '기록': 2,\n",
       " '대비': 2,\n",
       " '매출액': 2,\n",
       " '이하': 2,\n",
       " '네이버': 2,\n",
       " '클라우드': 2,\n",
       " '근간': 2,\n",
       " '살처분': 2,\n",
       " 'GS네오텍': 2,\n",
       " '차세대': 2,\n",
       " '에듀윌': 2,\n",
       " '무료': 2,\n",
       " '토익': 2,\n",
       " '교재': 2,\n",
       " '이용': 2,\n",
       " '급증': 2,\n",
       " '반도체': 2,\n",
       " '역할': 2,\n",
       " '정부': 2,\n",
       " '손실': 2,\n",
       " '메타버스': 2,\n",
       " '오창': 2,\n",
       " '방사광가속기': 2,\n",
       " '반도체산업': 2,\n",
       " '행정': 2,\n",
       " '로완': 2,\n",
       " '인지훈련': 2,\n",
       " '슈퍼브레인': 2,\n",
       " '치매환자': 2,\n",
       " '자극': 2,\n",
       " '활용해': 2,\n",
       " '상태': 2,\n",
       " '당기순이익': 2,\n",
       " '9억': 2,\n",
       " '1000여개사': 1,\n",
       " '언론기사': 1,\n",
       " '협력사': 1,\n",
       " 'ESG': 1,\n",
       " '딥노이드': 1,\n",
       " '알고리즘': 1,\n",
       " '흉부': 1,\n",
       " 'X레이진단': 1,\n",
       " '네이처': 1,\n",
       " '파트너': 1,\n",
       " '저널': 1,\n",
       " 'Nature': 1,\n",
       " 'Partner': 1,\n",
       " 'Artificial': 1,\n",
       " 'Intelligence': 1,\n",
       " '탐지': 1,\n",
       " '예측': 1,\n",
       " '설루션': 1,\n",
       " 'Solution': 1,\n",
       " '문제': 1,\n",
       " '처리': 1,\n",
       " '시스템': 1,\n",
       " '제품': 1,\n",
       " '코스피': 1,\n",
       " '거래': 1,\n",
       " '2490': 1,\n",
       " '80': 1,\n",
       " '39': 1,\n",
       " '63포인트': 1,\n",
       " '2481': 1,\n",
       " '하락': 1,\n",
       " '과장': 1,\n",
       " '입주': 1,\n",
       " '기발': 1,\n",
       " '조성': 1,\n",
       " '소공인들': 1,\n",
       " '공동기반시설': 1,\n",
       " '운영': 1,\n",
       " '상공': 1,\n",
       " '지역경제': 1,\n",
       " '추진중': 1,\n",
       " '예비창업자들': 1,\n",
       " '한편': 1,\n",
       " '남대병원': 1,\n",
       " '연구중심병원육성': 1,\n",
       " '데이터중심병원사업': 1,\n",
       " '임상데이터': 1,\n",
       " '근골격계': 1,\n",
       " '인체모사': 1,\n",
       " '융합기술': 1,\n",
       " '지원사업': 1,\n",
       " '대형국책사업': 1,\n",
       " '20220808010002900000': 1,\n",
       " '08781': 1,\n",
       " '진업': 1,\n",
       " '진로교육': 1,\n",
       " '사각지대': 1,\n",
       " '교원': 1,\n",
       " '역량': 1,\n",
       " '교권보호': 1,\n",
       " '미래학교': 1,\n",
       " '확산': 1,\n",
       " '유야교육': 1,\n",
       " '방과후': 1,\n",
       " '공교육': 1,\n",
       " '미래지향적': 1,\n",
       " '전북대': 1,\n",
       " '총장님': 1,\n",
       " '담당': 1,\n",
       " '교수님': 1,\n",
       " '섭외': 1,\n",
       " '마지막': 1,\n",
       " '생각': 1,\n",
       " '해법': 1,\n",
       " 'SK케미칼': 1,\n",
       " 'NASH': 1,\n",
       " '치료제': 1,\n",
       " '후보물질': 1,\n",
       " '특허': 1,\n",
       " '출원': 1,\n",
       " '동강대': 1,\n",
       " '동강대학교': 1,\n",
       " '이민숙': 1,\n",
       " '산타': 1,\n",
       " '엔비디아': 1,\n",
       " '지포스': 1,\n",
       " 'RTX': 1,\n",
       " '3060': 1,\n",
       " 'GDDR6': 1,\n",
       " '6GB': 1,\n",
       " '115W': 1,\n",
       " '그래픽카드': 1,\n",
       " 'CREATIVE': 1,\n",
       " 'MAESTRO': 1,\n",
       " '등급': 1,\n",
       " '고급': 1,\n",
       " '가속': 1,\n",
       " '6K': 1,\n",
       " 'HDR': 1,\n",
       " '영상편집': 1,\n",
       " '애니메이션': 1,\n",
       " '제작': 1,\n",
       " 'Adobe': 1,\n",
       " 'Creative': 1,\n",
       " 'Cloud': 1,\n",
       " '최적화': 1,\n",
       " '전문적': 1,\n",
       " '작업': 1,\n",
       " '크리에이터용': 1,\n",
       " '회사': 1,\n",
       " '주식매수청구권': 1,\n",
       " '모회사': 1,\n",
       " '이상헌': 1,\n",
       " '의원': 1,\n",
       " '체감': 1,\n",
       " '금유': 1,\n",
       " '2018년': 1,\n",
       " '시작': 1,\n",
       " '데이터기반': 1,\n",
       " '보유': 1,\n",
       " '34': 1,\n",
       " '유저': 1,\n",
       " '65': 1,\n",
       " '고등학교': 1,\n",
       " '사용': 1,\n",
       " '경진대회': 1,\n",
       " '요강': 1,\n",
       " '작물재배': 1,\n",
       " '토마토': 1,\n",
       " '딸기': 1,\n",
       " '작물': 1,\n",
       " '재배': 1,\n",
       " '중소': 1,\n",
       " '청년농업인': 1,\n",
       " '단체': 1,\n",
       " '법인': 1,\n",
       " '경제': 1,\n",
       " '합당': 1,\n",
       " '반등할': 1,\n",
       " '에듀테크': 1,\n",
       " '아이스크림에듀': 1,\n",
       " '이윤석': 1,\n",
       " '1일': 1,\n",
       " '서울': 1,\n",
       " '서초구청': 1,\n",
       " '서리풀': 1,\n",
       " '영진전문대학교': 1,\n",
       " '최재영': 1,\n",
       " '융합기계계열': 1,\n",
       " '포레': 1,\n",
       " 'eFMS': 1,\n",
       " '스마트': 1,\n",
       " 'AIoT': 1,\n",
       " '음식물쓰레기': 1,\n",
       " '자동': 1,\n",
       " '보관': 1,\n",
       " '독서플랫폼': 1,\n",
       " '젤리페이지': 1,\n",
       " '강점': 1,\n",
       " '페어런트테크': 1,\n",
       " 'Parent': 1,\n",
       " 'tech': 1,\n",
       " '효율적': 1,\n",
       " '사이버범죄': 1,\n",
       " '악용': 1,\n",
       " '어둠': 1,\n",
       " '상황': 1,\n",
       " '선악': 1,\n",
       " '추천': 1,\n",
       " '삼성': 1,\n",
       " '퀀트': 1,\n",
       " '리포트': 1,\n",
       " '유용': 1,\n",
       " '상위': 1,\n",
       " '1000명': 1,\n",
       " '주기적': 1,\n",
       " '계좌': 1,\n",
       " '개설': 1,\n",
       " '알뜰폰으로': 1,\n",
       " '인증': 1,\n",
       " '교실': 1,\n",
       " '청소년': 1,\n",
       " '이론': 1,\n",
       " '체험교육': 1,\n",
       " '홍준표': 1,\n",
       " '대구시장': 1,\n",
       " '2030년': 1,\n",
       " '수성알파시티': 1,\n",
       " '2조2천억원': 1,\n",
       " '대구': 1,\n",
       " '육성하기': 1,\n",
       " '대구시': 1,\n",
       " '집중': 1,\n",
       " '5대': 1,\n",
       " 'Their': 1,\n",
       " 'latest': 1,\n",
       " 'collaboration': 1,\n",
       " 'is': 1,\n",
       " 'the': 1,\n",
       " 'media': 1,\n",
       " 'content': 1,\n",
       " 'platform': 1,\n",
       " 'Turkish': 1,\n",
       " 'commercialization': 1,\n",
       " 'plans': 1,\n",
       " 'We': 1,\n",
       " 'plan': 1,\n",
       " 'cooperate': 1,\n",
       " 'with': 1,\n",
       " 'Turk': 1,\n",
       " 'Telecom': 1,\n",
       " 'develop': 1,\n",
       " 'tailored': 1,\n",
       " '이용주': 1,\n",
       " '교육장': 1,\n",
       " '공동교육과정': 1,\n",
       " '사례': 1,\n",
       " '경기': 1,\n",
       " '경기형': 1,\n",
       " 'IB': 1,\n",
       " 'DQ': 1,\n",
       " '제재관행': 1,\n",
       " '선진화할': 1,\n",
       " '채질하': 1,\n",
       " '디지털자산기본법': 1,\n",
       " '제정': 1,\n",
       " '체질': 1,\n",
       " '상장시': 1,\n",
       " '경남도청': 1,\n",
       " '경남테크노파크': 1,\n",
       " '진주시': 1,\n",
       " '통영시': 1,\n",
       " '사천시': 1,\n",
       " '5개': 1,\n",
       " '기관': 1,\n",
       " '참여경남도': 1,\n",
       " '융합인재교육연구단': 1,\n",
       " '가좌캠퍼스': 1,\n",
       " '항공우주산학협력관': 1,\n",
       " '금융산업': 1,\n",
       " '제도개선': 1,\n",
       " '소재': 1,\n",
       " '중부권': 1,\n",
       " '전진기지': 1,\n",
       " '이바': 1,\n",
       " '총괄': 1,\n",
       " '285억': 1,\n",
       " '영업익': 1,\n",
       " '1분기': 1,\n",
       " '관리': 1,\n",
       " '연결': 1,\n",
       " '기준': 1,\n",
       " '285억원': 1,\n",
       " '24억1000만원': 1,\n",
       " '당기': 1,\n",
       " '순이익': 1,\n",
       " '29억6000만원': 1,\n",
       " '2020년': 1,\n",
       " '가동': 1,\n",
       " '익산': 1,\n",
       " '공장': 1,\n",
       " '최신식': 1,\n",
       " '설비': 1,\n",
       " '지속': 1,\n",
       " '도입': 1,\n",
       " '공급망관리': 1,\n",
       " '17억': 1,\n",
       " '9000만원': 1,\n",
       " '전분기': 1,\n",
       " '인포와이즈': 1,\n",
       " '무인이동체': 1,\n",
       " '민간': 1,\n",
       " '단계': 1,\n",
       " '개인정보': 1,\n",
       " '설계가': 1,\n",
       " '작동': 1,\n",
       " 'NIPA': 1,\n",
       " 'KT': 1,\n",
       " '구현모': 1,\n",
       " '디지털전환': 1,\n",
       " '금융업': 1,\n",
       " '빅블러': 1,\n",
       " '현상': 1,\n",
       " '개방결합': 1,\n",
       " '기술발전': 1,\n",
       " '탑재한': 1,\n",
       " '네이버클라우드': 1,\n",
       " '충북대학교병원': 1,\n",
       " '메가존클라우드': 1,\n",
       " 'MSP': 1,\n",
       " '김동규': 1,\n",
       " '한글과컴퓨터학원장': 1,\n",
       " '로봇': 1,\n",
       " '4차산업혁명': 1,\n",
       " '정보': 1,\n",
       " '과학': 1,\n",
       " '중요': 1,\n",
       " '프로그래밍': 1,\n",
       " '능력': 1,\n",
       " '진학': 1,\n",
       " '취업': 1,\n",
       " '도움': 1,\n",
       " '겨울': 1,\n",
       " '공급': 1,\n",
       " '부족': 1,\n",
       " '대시보드': 1,\n",
       " '남기정': 1,\n",
       " 'ML': 1,\n",
       " '머신러닝': 1,\n",
       " '서비스형': 1,\n",
       " '보안': 1,\n",
       " 'Site': 1,\n",
       " 'Defender': 1,\n",
       " '경량화': 1,\n",
       " '쉬토공': 1,\n",
       " '패스': 1,\n",
       " '수강생들': 1,\n",
       " '혜택': 1,\n",
       " '마련': 1,\n",
       " '핵심': 1,\n",
       " '빈출': 1,\n",
       " '2종': 1,\n",
       " '영문법': 1,\n",
       " '인강': 1,\n",
       " '기회': 1,\n",
       " '전기차': 1,\n",
       " '스템': 1,\n",
       " '팹리': 1,\n",
       " '촉진제': 1,\n",
       " '다음': 1,\n",
       " '차원': 1,\n",
       " '업무자동화': 1,\n",
       " '3단계': 1,\n",
       " '로드맵': 1,\n",
       " '수립': 1,\n",
       " '단계적': 1,\n",
       " '사람': 1,\n",
       " '인지능력': 1,\n",
       " '김종호': 1,\n",
       " '기보': 1,\n",
       " '이사장': 1,\n",
       " '포스트': 1,\n",
       " '시대': 1,\n",
       " '악화': 1,\n",
       " '원인': 1,\n",
       " '니혼게이자이신문': 1,\n",
       " '닛케': 1,\n",
       " '6월': 1,\n",
       " '신흥': 1,\n",
       " '투자하': 1,\n",
       " '비전펀드': 1,\n",
       " '2조9000억엔': 1,\n",
       " '발생': 1,\n",
       " '요즘': 1,\n",
       " 'IOT니': 1,\n",
       " '가지': 1,\n",
       " '문명들': 1,\n",
       " '문명': 1,\n",
       " '사회': 1,\n",
       " '인력들': 1,\n",
       " '자격': 1,\n",
       " 'SK네트웍스': 1,\n",
       " '2022년': 1,\n",
       " '친환경': 1,\n",
       " '신소재': 1,\n",
       " '모빌리티': 1,\n",
       " '기차충전': 1,\n",
       " '인테리어플랫폼': 1,\n",
       " '트랙터': 1,\n",
       " '무인자동화솔루션': 1,\n",
       " '국내외': 1,\n",
       " '사업형': 1,\n",
       " '투자사': 1,\n",
       " '본격적': 1,\n",
       " '4가지': 1,\n",
       " '요소': 1,\n",
       " '모바': 1,\n",
       " '카카오': 1,\n",
       " '24시간': 1,\n",
       " '모바일부터': 1,\n",
       " '전개': 1,\n",
       " '병원': 1,\n",
       " '캐릭터': 1,\n",
       " '필수화': 1,\n",
       " '첩첩산중': 1,\n",
       " '교육계': 1,\n",
       " '철학': 1,\n",
       " '산적한': 1,\n",
       " '건의': 1,\n",
       " '충북': 1,\n",
       " '100년': 1,\n",
       " '발판': 1,\n",
       " 'KAIST': 1,\n",
       " '오송': 1,\n",
       " '바이오메디컬': 1,\n",
       " '캠퍼스타운': 1,\n",
       " '세계': 1,\n",
       " '각국': 1,\n",
       " '파격적': 1,\n",
       " '지원책': 1,\n",
       " '동원해': 1,\n",
       " '혈안': 1,\n",
       " '정도': 1,\n",
       " '6G': 1,\n",
       " '자동차': 1,\n",
       " '배터리': 1,\n",
       " '의지': 1,\n",
       " '초강대국': 1,\n",
       " '전업주의': 1,\n",
       " '규제': 1,\n",
       " '완화': 1,\n",
       " '방침': 1,\n",
       " 'Metaverse': 1,\n",
       " '침해': 1,\n",
       " '단속': 1,\n",
       " '주도적': 1,\n",
       " '대응': 1,\n",
       " '필수적': 1,\n",
       " 'Reilly': 1,\n",
       " '변호사': 1,\n",
       " '이번': 1,\n",
       " '채용': 1,\n",
       " '화상': 1,\n",
       " '경도치매': 1,\n",
       " '228억1600만원': 1,\n",
       " '1년': 1,\n",
       " '245': 1,\n",
       " '측은': 1,\n",
       " '조류독감': 1,\n",
       " '물량': 1,\n",
       " '생계시세': 1,\n",
       " '설명': 1,\n",
       " 'EBN': 1,\n",
       " '김영환': 1,\n",
       " '충청북도지사': 1,\n",
       " '세종': 1,\n",
       " '이종호': 1,\n",
       " '장관': 1,\n",
       " '불가결': 1,\n",
       " '강조': 1,\n",
       " '최첨단': 1,\n",
       " '금융위원회': 1,\n",
       " '금융회사': 1,\n",
       " '속도': 1,\n",
       " '금융감독원': 1,\n",
       " '핀테크': 1,\n",
       " '바이오의료': 1,\n",
       " '전문교육': 1,\n",
       " '지자체': 1,\n",
       " '과정': 1,\n",
       " '현재': 1,\n",
       " '발전도': 1,\n",
       " '금융기관들': 1,\n",
       " '첨단': 1,\n",
       " '진출': 1,\n",
       " '모델링': 1,\n",
       " '휴대폰': 1,\n",
       " '영상만': 1,\n",
       " '금융사': 1,\n",
       " '영업': 1,\n",
       " '활동': 1,\n",
       " '제약하': 1,\n",
       " '금융당국': 1,\n",
       " '위원장': 1,\n",
       " '화상회의': 1,\n",
       " '몰입감': 1,\n",
       " 'LG': 1,\n",
       " '스마트TV': 1,\n",
       " '이용자들': 1,\n",
       " '선명': 1,\n",
       " '화면': 1,\n",
       " '리모트미팅': 1,\n",
       " '편리': 1,\n",
       " '생동감': 1,\n",
       " '커뮤니케이션': 1,\n",
       " '마우저': 1,\n",
       " '협업': 1,\n",
       " 'Empowering': 1,\n",
       " 'Innovation': 1,\n",
       " 'Together': 1,\n",
       " '최신': 1,\n",
       " '에피소드': 1,\n",
       " '비약적': 1,\n",
       " 'SE': 1,\n",
       " '투자자': 1,\n",
       " '권익': 1,\n",
       " '보호': 1,\n",
       " '신뢰': 1,\n",
       " '정책목표': 1,\n",
       " '혁신교육': 1,\n",
       " '12': 1,\n",
       " '이복현': 1}"
      ]
     },
     "execution_count": 164,
     "metadata": {},
     "output_type": "execute_result"
    }
   ],
   "source": [
    "word_clean_dict = dict((Counter(word_clean).most_common()))\n",
    "word_clean_dict"
   ]
  },
  {
   "cell_type": "code",
   "execution_count": 148,
   "id": "b36c0b00",
   "metadata": {},
   "outputs": [],
   "source": [
    "#시각화\n",
    "\n",
    "from matplotlib import rc\n",
    "import matplotlib.pyplot as plt\n",
    "import seaborn as sns\n",
    "\n",
    "rc('font', family = 'Malgun Gothic')\n",
    "plt.rcParams['axes.unicode_minus'] = False\n",
    "\n",
    "se = pd.Series(word_clean_dict)\n",
    "df = pd.DataFrame(se, columns = ['cnt'])\n",
    "df_sort = df.sort_values(by = 'cnt', ascending = False)\n"
   ]
  },
  {
   "cell_type": "code",
   "execution_count": 149,
   "id": "28dc46a8",
   "metadata": {},
   "outputs": [
    {
     "data": {
      "text/html": [
       "<div>\n",
       "<style scoped>\n",
       "    .dataframe tbody tr th:only-of-type {\n",
       "        vertical-align: middle;\n",
       "    }\n",
       "\n",
       "    .dataframe tbody tr th {\n",
       "        vertical-align: top;\n",
       "    }\n",
       "\n",
       "    .dataframe thead th {\n",
       "        text-align: right;\n",
       "    }\n",
       "</style>\n",
       "<table border=\"1\" class=\"dataframe\">\n",
       "  <thead>\n",
       "    <tr style=\"text-align: right;\">\n",
       "      <th></th>\n",
       "      <th>cnt</th>\n",
       "    </tr>\n",
       "  </thead>\n",
       "  <tbody>\n",
       "    <tr>\n",
       "      <th>인공지능</th>\n",
       "      <td>4</td>\n",
       "    </tr>\n",
       "    <tr>\n",
       "      <th>사업</th>\n",
       "      <td>3</td>\n",
       "    </tr>\n",
       "    <tr>\n",
       "      <th>기반</th>\n",
       "      <td>3</td>\n",
       "    </tr>\n",
       "    <tr>\n",
       "      <th>기술</th>\n",
       "      <td>3</td>\n",
       "    </tr>\n",
       "    <tr>\n",
       "      <th>금융</th>\n",
       "      <td>3</td>\n",
       "    </tr>\n",
       "    <tr>\n",
       "      <th>...</th>\n",
       "      <td>...</td>\n",
       "    </tr>\n",
       "    <tr>\n",
       "      <th>빅데이터</th>\n",
       "      <td>1</td>\n",
       "    </tr>\n",
       "    <tr>\n",
       "      <th>지원사업</th>\n",
       "      <td>1</td>\n",
       "    </tr>\n",
       "    <tr>\n",
       "      <th>융합기술</th>\n",
       "      <td>1</td>\n",
       "    </tr>\n",
       "    <tr>\n",
       "      <th>인체모사</th>\n",
       "      <td>1</td>\n",
       "    </tr>\n",
       "    <tr>\n",
       "      <th>산타</th>\n",
       "      <td>1</td>\n",
       "    </tr>\n",
       "  </tbody>\n",
       "</table>\n",
       "<p>144 rows × 1 columns</p>\n",
       "</div>"
      ],
      "text/plain": [
       "      cnt\n",
       "인공지능    4\n",
       "사업      3\n",
       "기반      3\n",
       "기술      3\n",
       "금융      3\n",
       "...   ...\n",
       "빅데이터    1\n",
       "지원사업    1\n",
       "융합기술    1\n",
       "인체모사    1\n",
       "산타      1\n",
       "\n",
       "[144 rows x 1 columns]"
      ]
     },
     "execution_count": 149,
     "metadata": {},
     "output_type": "execute_result"
    }
   ],
   "source": [
    "df_sort"
   ]
  },
  {
   "cell_type": "code",
   "execution_count": null,
   "id": "275bc1bb",
   "metadata": {},
   "outputs": [],
   "source": []
  },
  {
   "cell_type": "code",
   "execution_count": 150,
   "id": "2d231319",
   "metadata": {},
   "outputs": [
    {
     "data": {
      "text/plain": [
       "<AxesSubplot:>"
      ]
     },
     "execution_count": 150,
     "metadata": {},
     "output_type": "execute_result"
    },
    {
     "data": {
      "image/png": "[encoded data removed]",
      "text/plain": [
       "<Figure size 720x360 with 1 Axes>"
      ]
     },
     "metadata": {
      "needs_background": "light"
     },
     "output_type": "display_data"
    }
   ],
   "source": [
    "df_sort[:30].plot(kind = 'bar',color = 'skyblue', figsize = (10,5))"
   ]
  },
  {
   "cell_type": "code",
   "execution_count": null,
   "id": "22714817",
   "metadata": {},
   "outputs": [],
   "source": []
  },
  {
   "cell_type": "code",
   "execution_count": 1,
   "id": "8bdfd1b5",
   "metadata": {},
   "outputs": [],
   "source": [
    "import requests\n",
    "import urllib\n",
    "from bs4 import BeautifulSoup as BS\n",
    "import pandas as pd\n",
    "\n",
    "# 페이지 구조\n",
    "## 1p-> '&start=01'\n",
    "## 2p-> '&start=11'\n",
    "## 3p-> '&start=21' "
   ]
  },
  {
   "cell_type": "code",
   "execution_count": 20,
   "id": "d4242311",
   "metadata": {
    "scrolled": true
   },
   "outputs": [
    {
     "name": "stdout",
     "output_type": "stream",
     "text": [
      "> 검색 키워드를 입력해주세요\n",
      "ai\n",
      "> 필요한 뉴스기사 수를 입력해주세요\n",
      "10\n"
     ]
    },
    {
     "data": {
      "text/html": [
       "<div>\n",
       "<style scoped>\n",
       "    .dataframe tbody tr th:only-of-type {\n",
       "        vertical-align: middle;\n",
       "    }\n",
       "\n",
       "    .dataframe tbody tr th {\n",
       "        vertical-align: top;\n",
       "    }\n",
       "\n",
       "    .dataframe thead th {\n",
       "        text-align: right;\n",
       "    }\n",
       "</style>\n",
       "<table border=\"1\" class=\"dataframe\">\n",
       "  <thead>\n",
       "    <tr style=\"text-align: right;\">\n",
       "      <th></th>\n",
       "      <th>title</th>\n",
       "      <th>url</th>\n",
       "    </tr>\n",
       "  </thead>\n",
       "  <tbody>\n",
       "    <tr>\n",
       "      <th>1</th>\n",
       "      <td>카카오벤처스 \"AI 임상시험 분석기업 액트노바에 시드투자\"</td>\n",
       "      <td>https://www.yna.co.kr/view/AKR2022080903130001...</td>\n",
       "    </tr>\n",
       "    <tr>\n",
       "      <th>2</th>\n",
       "      <td>충북도, AI영재고 카이스트 산하 고교로 설립 추진</td>\n",
       "      <td>https://www.wikitree.co.kr/articles/778793</td>\n",
       "    </tr>\n",
       "    <tr>\n",
       "      <th>3</th>\n",
       "      <td>KT·서울성모병원, 당뇨 관리 돕는 AI 기술 개발</td>\n",
       "      <td>https://biz.chosun.com/it-science/ict/2022/08/...</td>\n",
       "    </tr>\n",
       "    <tr>\n",
       "      <th>4</th>\n",
       "      <td>삼성전자 ‘AI 챌린지’</td>\n",
       "      <td>https://www.chosun.com/economy/tech_it/2022/08...</td>\n",
       "    </tr>\n",
       "    <tr>\n",
       "      <th>5</th>\n",
       "      <td>삼성전자, AI인재 키워 반도체·디스플레이 연구한다</td>\n",
       "      <td>https://zdnet.co.kr/view/?no=20220807083406</td>\n",
       "    </tr>\n",
       "    <tr>\n",
       "      <th>6</th>\n",
       "      <td>'2022 스마트농업 AI 경진대회' 개최</td>\n",
       "      <td>http://www.aflnews.co.kr/news/articleView.html...</td>\n",
       "    </tr>\n",
       "    <tr>\n",
       "      <th>7</th>\n",
       "      <td>코트라, 'AI 활용'…중견기업 ESG 모니터링 지원</td>\n",
       "      <td>http://www.edaily.co.kr/news/newspath.asp?news...</td>\n",
       "    </tr>\n",
       "    <tr>\n",
       "      <th>8</th>\n",
       "      <td>빅데이터·AI 기술로 교통사고 막는다… 도로교통공단, 위험도로예측 서비스 ...</td>\n",
       "      <td>https://www.donga.com/news/article/all/2022080...</td>\n",
       "    </tr>\n",
       "    <tr>\n",
       "      <th>9</th>\n",
       "      <td>영남중·대구고 SW동아리, MS 주최 AI 경진대회 수상</td>\n",
       "      <td>https://www.pressian.com/pages/articles/202208...</td>\n",
       "    </tr>\n",
       "    <tr>\n",
       "      <th>10</th>\n",
       "      <td>\"AI로 기초학력 진단·혁신학교 재구조화\"...경기교육감직 인수위, 백서발간</td>\n",
       "      <td>http://www.newsis.com/view/?id=NISX20220808_00...</td>\n",
       "    </tr>\n",
       "  </tbody>\n",
       "</table>\n",
       "</div>"
      ],
      "text/plain": [
       "                                           title  \\\n",
       "1               카카오벤처스 \"AI 임상시험 분석기업 액트노바에 시드투자\"   \n",
       "2                   충북도, AI영재고 카이스트 산하 고교로 설립 추진   \n",
       "3                   KT·서울성모병원, 당뇨 관리 돕는 AI 기술 개발   \n",
       "4                                  삼성전자 ‘AI 챌린지’   \n",
       "5                   삼성전자, AI인재 키워 반도체·디스플레이 연구한다   \n",
       "6                        '2022 스마트농업 AI 경진대회' 개최   \n",
       "7                  코트라, 'AI 활용'…중견기업 ESG 모니터링 지원   \n",
       "8   빅데이터·AI 기술로 교통사고 막는다… 도로교통공단, 위험도로예측 서비스 ...   \n",
       "9                영남중·대구고 SW동아리, MS 주최 AI 경진대회 수상   \n",
       "10    \"AI로 기초학력 진단·혁신학교 재구조화\"...경기교육감직 인수위, 백서발간   \n",
       "\n",
       "                                                  url  \n",
       "1   https://www.yna.co.kr/view/AKR2022080903130001...  \n",
       "2          https://www.wikitree.co.kr/articles/778793  \n",
       "3   https://biz.chosun.com/it-science/ict/2022/08/...  \n",
       "4   https://www.chosun.com/economy/tech_it/2022/08...  \n",
       "5         https://zdnet.co.kr/view/?no=20220807083406  \n",
       "6   http://www.aflnews.co.kr/news/articleView.html...  \n",
       "7   http://www.edaily.co.kr/news/newspath.asp?news...  \n",
       "8   https://www.donga.com/news/article/all/2022080...  \n",
       "9   https://www.pressian.com/pages/articles/202208...  \n",
       "10  http://www.newsis.com/view/?id=NISX20220808_00...  "
      ]
     },
     "execution_count": 20,
     "metadata": {},
     "output_type": "execute_result"
    }
   ],
   "source": [
    "query = input('> 검색 키워드를 입력해주세요\\n')\n",
    "n = int(input('> 필요한 뉴스기사 수를 입력해주세요\\n'))\n",
    "\n",
    "# 검색어를 문자 -> 퍼센트 인코딩\n",
    "url='https://search.naver.com/search.naver?where=news&sm=tab_jum&query='\n",
    "query = urllib.parse.quote(query)     \n",
    "\n",
    "\n",
    "#### 한 페이지당 기사가 10개씩 존재함\n",
    "\n",
    "ten_n, one_n = divmod( n, 10)\n",
    "if one_n !=0:\n",
    "    ten_n += 1\n",
    "    \n",
    "# ten_n = n // 10 +1    #### ex) 35개의 뉴스 타이틀을 긁어오기 위해 4페이지의 5번째까지 긁어와야함\n",
    "# one_n = n % 10\n",
    "\n",
    "\n",
    "news_title = []\n",
    "news_url=[]\n",
    "\n",
    "for i in range(ten_n):\n",
    "    \n",
    "    #크롤링할 url 지정\n",
    "    query_url = url+query+'&start='+str(i)+'1'\n",
    "    \n",
    "    #페이지 소스 크롤링\n",
    "    res = requests.get(query_url)\n",
    "    html = res.content\n",
    "    bs = BS(html, 'html.parser')\n",
    "    \n",
    "    #마지막 페이지 소스 크롤링 개수 제한\n",
    "    if i == (ten_n-1):\n",
    "        a_url = bs.find_all('a', class_='news_tit', limit = one_n)\n",
    "    else:\n",
    "        a_url = bs.find_all('a', class_='news_tit')\n",
    "        \n",
    "    for a in a_url:\n",
    "        news_title.append(a.text)\n",
    "        news_url.append(a.get('href'))\n",
    "        \n",
    "#데이터프레임 만들기\n",
    "news_df = pd.DataFrame(columns = ['title', 'url'])\n",
    "news_df['title'] = news_title\n",
    "news_df['url'] = news_url\n",
    "#     news_df['descriptions'] = description\n",
    " \n",
    "news_df.index =  news_df.index +1\n",
    "news_df\n"
   ]
  },
  {
   "cell_type": "code",
   "execution_count": 21,
   "id": "b67974e7",
   "metadata": {
    "scrolled": false
   },
   "outputs": [
    {
     "name": "stdout",
     "output_type": "stream",
     "text": [
      "https://www.yna.co.kr/view/AKR20220809031300017?input=1195m\n",
      "https://www.wikitree.co.kr/articles/778793\n",
      "https://biz.chosun.com/it-science/ict/2022/08/08/ZVJ4ORCNU5CJZANJYPPPWUJXRU/?utm_source=naver&utm_medium=original&utm_campaign=biz\n",
      "https://www.chosun.com/economy/tech_it/2022/08/08/QS27D46LSVEMFG7MLMIM2AEKHY/?utm_source=naver&utm_medium=referral&utm_campaign=naver-news\n",
      "https://zdnet.co.kr/view/?no=20220807083406\n",
      "http://www.aflnews.co.kr/news/articleView.html?idxno=231192\n",
      "http://www.edaily.co.kr/news/newspath.asp?newsid=02296006632425352\n",
      "https://www.donga.com/news/article/all/20220808/114864381/2\n",
      "https://www.pressian.com/pages/articles/2022080810481739873?utm_source=naver&utm_medium=search\n",
      "http://www.newsis.com/view/?id=NISX20220808_0001971313&cID=10803&pID=14000\n"
     ]
    }
   ],
   "source": [
    "for i in news_df['url']:\n",
    "    print(i)"
   ]
  },
  {
   "cell_type": "code",
   "execution_count": null,
   "id": "04439a8d",
   "metadata": {},
   "outputs": [],
   "source": [
    "        \n",
    "#         p = ' '.join(p)\n",
    "#         #기자, 언론사 관련 내용 삭제\n",
    "#         p = re.sub('\\w+ 기자','',p)       #기자님 성함 삭제\n",
    "#         p = re.sub('.*[@|:|…].*','',p)         #기자님 메일,시간,타뉴스 제목\n",
    "#         p = re.sub('.*copyright.*','',p.lower())  \n",
    "#         p = re.sub('.*[corp|ltd][.].*','',p)\n",
    "        \n",
    "#         #p태그 안의 태그내용 삭제\n",
    "#         p = re.sub('<span.*</span>','',p)                    #span 태그 내용 삭제\n",
    "#         p = re.sub('<strong.*</strong>','',p)                #strong 태그 내 태그 내용 삭제\n",
    "#         p = re.sub('<a.*</a>','',p)\n",
    "#         p = re.sub('<em>.*</em>','',p)\n",
    "        \n",
    "#         p = re.sub('<!--.*-->','',p)\n",
    "#         p = re.sub('.*class=\"blind\".*','',p) \n",
    "#         p = re.sub('.*class=\"tit.*','',p)\n",
    "#         p = re.sub('.*[\\t\\n]{2,}.*', ' ', p)"
   ]
  },
  {
   "cell_type": "code",
   "execution_count": 105,
   "id": "276accd2",
   "metadata": {
    "scrolled": true
   },
   "outputs": [
    {
     "name": "stdout",
     "output_type": "stream",
     "text": [
      "\n",
      "\n",
      "\n",
      "\n",
      "\n",
      "\n",
      " (서울=연합뉴스) 조승한 기자 = 카카오벤처스는 인공지능(AI) 기반 임상·비임상 행동시험 분석 기업 액트노바에 5억 원 규모 시드 투자(창업 후 극초기 단계 투자)를 했다고 9일 밝혔다.\n",
      " 액트노바는 신약개발 단계인 안정성·약효성 시험 과정을 AI 영상처리로 자동화하는 기술을 개발하는 회사다.\n",
      " 연구원이 동물이나 환자를 직접 관찰하던 것을 분석기술로 대체해 데이터 질을 높이고 인력 투입을 줄여 치료제 개발 개간을 단축할 수 있다고 회사는 설명했다.\n",
      " 한국과학기술원(KAIST) 생명과학과 연구교수 출신인 김대건 대표를 주축으로 김대수 KAIST 생명과학과 교수와 동물실험장비회사 쓰리샤인 박천귀 대표가 설립했다.\n",
      " 액트노바는 AI 분석기술 '아바타 3D 시스템'을 개발해 뇌 질환 증상 분석에 활용하고 있으며 연내 구독형 행동 분석 점수 서비스 '액트버스'를 출시할 계획이라고 밝혔다.\n",
      " 김대건 액트노바 대표는 \"관찰과 평가가 어려운 임상·비임상 행동 실험 분야에서 AI 기반 디지털 트렌스포메이션을 통해 신약·치료제 개발 프로세스를 단축하고자 한다\"며 \"행동 실험 연구원과 의료진, 실험 대상의 스트레스와 희생을 줄이고 다양한 뇌 질환 치료제 개발에 보탬이 될 수 있길 기대한다\"고 밝혔다.\n",
      "\n",
      "\n",
      "\n",
      "\n",
      "\n",
      " (충북=위키트리) 김성호 기자 = 충북도내 기초정부간 유치 경쟁이 불붙은 AI영재고(인공지능 영재고)가 KAIST(이하 카이스트) 산하 고등학교로 설립 추진된다.\n",
      "\n",
      " 카이스트가 과학시술정보통신부 산하 대학교인 점을 감안하면 충북도는 AI영재고 설립을 위해 우리나라 과학기술 분야 컨트롤타워인 과기부의 인적·물적 지원을 이끌어내겠다는 전략으로 읽힌다.\n",
      "\n",
      "\n",
      "\n",
      " AI 영재고는 현재까진 용역을 통한 논리 개발이나 설립 방향, 교사(교수)진 구성, 특화전략 등이 마련돼 있지 않는 상태다. 말 그대로 'AI영재고'란 다섯 글자 가칭만 있을 뿐이다.\n",
      "\n",
      "\n",
      " 김영환 충북지사는 지난달 28일 과기부 제1차관 면담에 이어 8일에는 이종호 과학기술정보통신부 장관을 세종정부청사 인근에서 만나 AI영재고의 카이스트 산하 고등학교 설립을 건의했다.\n",
      " 또 충북 미래 100년의 성장 발판이 될 △ KAIST(카이스트) 오송 바이오메디컬 캠퍼스타운 유치 △ 방사광가속기 적기 구축과 최첨단 연구인프라 구축 △ 충청권 공동 인공지능·메타버스 기반 재난안전관리 등 주요 현안사업 추진을 위한 전폭적인 지원을 요청했다.\n",
      "\n",
      "\n",
      "\n",
      " 김 지사는 이 자리에서 “대한민국 바이오 발전을 견인하고 있는 충북이 한단계 더 발전하기 위해서는 의과학 교육시설인 카이스트 오송캠퍼스 타운 조성이 반드시 필요하다”며 “현 정부의 반도체 인력양성 기조에 부합하는 첨단산업분야 인재양성을 위한 카이스트 부설 충북 AI(인공지능) 영재고 설립도 필수불가결한 사업”이라고 적극적인 지원과 협조를 요청했다.\n",
      "\n",
      "\n",
      " 김 지사는 또 “오는 2027년 준공이 예정돼 있는 오창 방사광가속기 사업과 핵심지원시설의 적기 구축, ICT 기술을 활용한 재난사전예방 시스템 구축 역시 중요하다”면서 “충청권 공동 인공지능·메타버스 기반 재난안전관리 사업 추진에도 과기부 차원의 관심과 지원을 절실하다”고 강조했다.\n",
      "\n",
      "\n",
      " 이에 이종호 과기부 장관은 “충북은 바이오, 반도체, 이차전지 산업의 중심으로 대한민국 첨단산업의 미래를 견인하고 있다고 생각한다”면서 “충북 발전을 위해 (김영환 충북지시가)건의해주신 사업에 대해 긍정적으로 검토하겠다”고 통상적 답변만 내놓은채 자리를 마무리 했다.\n",
      "\n",
      "\n",
      " 이런 가운데 과기부 산하 카이스트는 반세기 동안 배출한 과학기술 인력만 박사 1만4418명을 포함해 6만9388명에 달한다.\n",
      "\n",
      "\n",
      " 지난 1982년 아시아·태평양 지역 최초 인터넷 시스템 구축, 1990년 국내 첫 인공지능(AI) 연구센터 설립, 1992년 인공위성 우리별 1호 발사 등 국내 과학 발전 역사에서 최초·최고의 성과를 써왔다.\n",
      "\n",
      "\n",
      " 또 1995년 386 마이크로프로세서 개발, 2002년 휴머노이드 로봇(휴보) 개발, 2008년 한국인 최초 우주비행사 이소연 씨 배출, 2009년 무선 충전 전기버스 개발, 2020년 사이배슬론 국제대회 착용형 로봇 분야 금·동메달 수상 등도 대표적인 성과로 꼽힌다.\n",
      "\n",
      "\n",
      " 지난 2000년대 초까지도 100위권 밖에서 머물던 세계대학 순위는 지난해 39위(영국 고등교육 평가기관 'QS' 발표)로 껑충 뛰어오르는 등 괄목할만한 성장을 거뒀다. 미리보는 AI영재고인 셈이다.\n",
      "\n",
      "\n",
      "\n",
      "\n",
      "\n",
      " 삼성전자가 인공지능(AI) 분야 우수 인력을 발굴해 반도체·디스플레이를 연구하기로 했다.\n",
      " 삼성전자는 다음 달 16일까지 대학생 경진대회 ‘삼성 AI 챌린지’를 개최한다고 7일 밝혔다.\n",
      " 공모 과제는 AI 기술을 활용한 신소재 연구와 컴퓨터 비전이다.\n",
      " 신소재 연구 주제는 ‘유기분자 구조로부터 재편성 에너지를 예측하는 알고리즘 개발’이다. 유기 디스플레이 소재 발광 효율에 영향을 주는 것으로 알려진 분자 구조 변화 에너지를 예측하는 AI 모델을 개발해야 한다. 삼성전자는 효율이 높고 수명이 긴 유기 디스플레이 발광 소재를 찾는데 드는 시간과 비용이 줄어들 것으로 기대했다.\n",
      " 컴퓨터 비전 부문은 전자현미경(SEM) 이미지로 깊이를 예측하는 알고리즘을 개발해야 한다. 2차원 전자 현미경 영상에서 반도체 3차원 구조 깊이를 계측하고 반도체 공정에서 활용할 수 있는 AI 알고리즘을 찾아야 한다.\n",
      " 응모 결과는 10월 7일 삼성전자 종합기술원 홈페이지에 발표한다. 11월 ‘삼성 AI포럼’에서 시상한다. 부문별 최우수상을 포함해 총 8개 수상팀에 상금과 함께 삼성전자 AI 연구원과 만날 기회를 준다. 종합기술원 연구소를 둘러보고 수상자가 교류하는 ‘삼성 AI 챌린지 캠프’에도 참가할 수 있다.\n",
      " 최창규 삼성전자 종합기술원 AI연구센터장(부사장)은 “종합기술원은 반도체를 중심으로 소재, 카메라, 자율주행 등에 AI 기술을 적용하고 있다”며 “AI로 기술의 한계를 뛰어넘을 대학생이 많이 참여하기 바란다”고 말했다.\n",
      "\n",
      "\n",
      "\n",
      "\n",
      "\n",
      "\n",
      " 농림축산식품부와 농촌진흥청, 농림수산식품교육문화정보원은 농업 분야 인공지능(AI) 기술 역량을 겨루는 ‘2022 스마트농업 AI 경진대회’를 개최한다.\n",
      " 스마트농업 AI 경진대회는 농업 분야의 데이터·AI 관련 기업, 학계 등의 관심을 높이고 농업 현장에서 AI 기술을 활용해 해결할 수 있는 과제를 발굴하기 위해 지난해에 이어 올해 두 번째로 열린다.\n",
      " 올해 스마트농업 AI 경진대회는 오는 29일부터 다음달 23일 예선기간 동안 생육예측 해커톤(해킹과 마라톤의 합성어로 참여자가 팀을 구성해 한정된 기간 내에 결과 모델을 만들어내는 것)과 재배전략 기획안 평가를 거쳐 본선 진출 4팀을 선정한다. 이후 10월부터 12월 중순까지 약 2개월 반의 본선기간 동안에는 본선 4팀이 동일한 조건의 대회 온실을 AI 기술을 활용한 원격제어로 토마토 작물을 재배해 결과를 평가하는 방식으로 진행될 계획이다.\n",
      " 참가 접수는 오는 28일까지 온라인(aifactory.space/page/epis)을 통해 진행되며, 농업 분야 인공지능 기술 적용에 관심 있는 19세 이상 내외국인 누구나 농업인, 스마트팜 재배 전문가, AI 개발자 등으로 자유롭게 팀(3인 이상, 10인 이하)을 이뤄 참가할 수 있다.\n",
      " 대회의 총 상금은 1억 원에 달하며, 영예의 대상팀에게는 농식품부 장관상과 상금이 수여된다. 이 외 수상팀에게는 농진청장상 및 농정원장상과 상금이 주어진다.\n",
      " 세부 내용은 ‘2022 스마트농업 인공지능(AI) 경진대회’ 홈페이지를 통해 확인할 수 있으며, 대회의 사전 설명회는 오는 26일 광주 컨벤션센터에서 ‘Green &amp; Agritech Asia 2022’ 행사기간에 진행될 예정이다.\n",
      "\n",
      "\n",
      "\n",
      "\n",
      "\n",
      "\n",
      "\n",
      "\n",
      "\n",
      "\n",
      "\n",
      "\n",
      "\n",
      "\n",
      "\n",
      "\n",
      "\n",
      "\n",
      "\n",
      "\n",
      "\n",
      "\n",
      "\n",
      "\n",
      "\n",
      "\n",
      "\n",
      "\n",
      "\n",
      "\n",
      "\n",
      "\n",
      "\n",
      "\n",
      "\n",
      "\n",
      "\n",
      "\n",
      "\n",
      "\n",
      "\n",
      "\n",
      "\n",
      "\n",
      "\n",
      "\n",
      "\n",
      "\n",
      "\n",
      "\n",
      "\n",
      "\n",
      "\n",
      "\n",
      "\n",
      " 마이크로소프트(MS) 주최 IT 경진대회에서 국내 TOP3에 영남중, 대구고 소프트웨어(SW) 동아리가 선정됐다.\n",
      "\n",
      " 이들 동아리는 대구시교육청이 지난해부터 운영해 온 SW융합 자율동아리 지원 사업 20개 팀 중 2개 팀이다.\n",
      "\n",
      " 8일 대구시교육청에 따르면 지난 5일 MS 주최 '이매진 컵 주니어'에서 국내 TOP3에 영남중학교 SW 자율동아리 '영남짱'팀과 대구고등학교 SW 자율동아리' AI for All'이 수상했다.\n",
      "\n",
      " 올해로 3회째를 맞이한 대회는 13세부터 18세까지 학생들을 대상으로 마이크로소프트사가 주체하는 글로벌 인공지능(AI) 아이디어 경진대회로 한국은 올해 약 40여 개 팀(학생 160명, 지도교사 40명)이 참가했다.\n",
      "\n",
      " 대회에 참가한 학생들은 주어진 학습자료를 활용하여 토론을 통해 해결해야 할 문제를 도출하고, 인공지능 기술이 어떻게 문제들을 해결하는 방법은 물론 더불어 살아갈 수 있는 방안에 대한 AI솔루션을 제안하게 된다.\n",
      "\n",
      " 영남중학교 김후옥 지도교사와 박진석(3학년), 강지환(2학년), 김건희(2학년), 조현민(2학년) 학생들은 더 많은 사람들에게 더 많은 편의를 제공하는 차세대 AI 기반 교통 시스템 AI 솔류션을 제안했다.\n",
      "\n",
      " 대구고등학교 박주희 지도교사와 김지윤(3학년), 나윤환(3학년), 이수혁(3학년), 황주혁(3학년) 학생으로 구성된 'AI for All'팀은 색각 이상자를 돕는 색 감지 응용 프로그램을 제안했다.\n",
      "\n",
      " 영남중학교 박진석 학생은 \"시험기간과 겹쳐서 시간이 부족해 늦은 밤까지 회의하다 보니 피곤하고 힘들기도 했지만 서로의 의견에 자극받아 아이디어가 계속 이어졌을 때는 정말 재미있었다.”며, “대회 참여만으로도 좋은 경험인데 결과까지 잘 나와서 너무 기쁘다\"고 소감을 밝혔다.\n",
      "\n",
      " 대구고등학교 김지윤 학생은 \"지인과의 인터뷰를 통해 실제 색각 이상자들이 느끼는 어려움을 알 수 있었고, 팀원들과 아이디어 도출을 통해 인공지능을 적용한 색각 이상자들을 위한 색상 감지 프로그램을 제안하게 되어 기쁘다\"고 소감을 밝혔다.\n",
      "\n",
      " 강은희 교육감은 \"이번 대회에서 수상한 학생들에게 축하를 보낸다\"며, \"앞으로도 SW·AI 기반 교육의 활성화를 위해 지속적으로 노력하겠다\"고 말했다.\n",
      "\n",
      "\n",
      "\n",
      "\n",
      "\n",
      "\n",
      "\n",
      "\n",
      "\n",
      "\n",
      "\n",
      "\n",
      "\n",
      "\n",
      "\n",
      "\n",
      "\n",
      " [수원=뉴시스] 임태희 경기도교육감이 8일 경기도교육청 방촌홀에서 열린 민선5기 경기도교육감직 인수위 백서 전수식에 참석했다.\n",
      " [수원=뉴시스] 임태희 경기도교육감이 8일 경기도교육청 방촌홀에서 열린 민선5기 경기도교육감직 인수위 백서 전수식에 참석했다.\n",
      "\n",
      "\n",
      "\n",
      "\n",
      "\n",
      "\n",
      "\n",
      "\n",
      "\n",
      "\n",
      "\n",
      "\n",
      "\n",
      "\n",
      "\n",
      "\n",
      "\n",
      "\n",
      "\n",
      "\n",
      "\n",
      "\n",
      "\n",
      "\n",
      "\n",
      "\n",
      "\n",
      "\n",
      "\n",
      "\n",
      "\n",
      "개그우먼 이경실(56)이 손주를 공개했다.이경실은 8일 인스타그램에 손주 사진 여러 장을 올렸다. \"드디어 만났네 손주 이훈이\"라며 \"어느 별에서 왔니? 어릴 적 너의 아빠(탤런트 손보승)를 많이 닮았구나. 건강하게 잘 자라주길 바라. 아빠, 엄마가 너를 잘 보살피는구나. 맘이 좀 녹구나. 잘 지내자 우리\"라고 남겼다. \"#첫 손주 #보승이 아들#손이훈\"이라고 덧붙였다.동료들의 축하도 이어졌다. 아나운서 강수정은 \"언니 어쩜 저리 예쁜 아기가 있어요\"라며 놀랐고, 개그맨 손헌수는 \"오우~축하드립니다\"라고 전했다.\n",
      "\n",
      "\n",
      "\n",
      "\n",
      "\n",
      " 지난 8일부터 이어진 기록적 폭우에 7명이 숨지고 6명이 실종됐다. 부상자는 9명, 이재민은 107세대 163명이 발생했다.행정안전부 중앙재난안전대책본부(중대본)에 따르면 9일 오전 6시 기준 잠정 집계된 인명 피해는 사망 7명, 실종 6명, 부상 9명이다.전날 오후 6시50분께 서울 동작구에서 폭우로 쓰러진 가로수를 정리 작업하던 구청 직원 A(63)씨가 감전돼 숨졌다. 이보다 앞선 오후 5시40분께 같은 구의 침수 주택에서 고립된 여성 B씨도 익수돼 사망했다.\n",
      "\n",
      "\n",
      "\n",
      "\n",
      "\n",
      "미국 뉴욕증시의 주요 지수가 8일(현지시간) 혼조세로 마감했다.이날 뉴욕증권거래소(NYSE)에서 다우존스30산업평균지수는 전장보다 29.07포인트(0.09%) 오른 3만2832.54로 거래를 마쳤다.반면 대형주 중심의 스탠다드앤푸어스(S&amp;P)500지수는 5.13포인트(0.12%) 내린 4140.06, 기술주 중심의 나스닥지수는 13.10포인트(0.10%) 밀린 1만2644.46로 장을 마감했다.종목별로는 엔비디아가 실적 가이던스를 낮춘 여파로 반도체주가 일제히 약세를 보였다.\n",
      "\n",
      "\n",
      "\n",
      "\n",
      "\n",
      "지난 8일 서울·인천 등 수도권을 중심으로 기록적인 폭우가 쏟아진 가운데, 강남·서초 일대 고급 아파트 단지들에서도 침수피해가 속출했다.9일 부동산 업계에 따르면 서울 강남권을 중심으로 폭우가 쏟아지면서 강남3구 일대 국내 주요 고급 아파트 단지들에서도 침수피해가 발생했다.먼저 윤 대통령의 자택인 서울 서초구 서초동 '아크로비스타'에서는 아파트 지하주차장이 잠기고 엘리베이터 문으로 빗물이 쏟아진다는 등의 피해 신고가 속출했다.\n",
      "\n",
      "\n",
      "\n",
      "\n",
      "\n",
      "한국투자증권의 트레이딩시스템이 폭우가 쏟아졌던 지난 8일 오후부터 밤 사이 전산 장애가 발생했지만, 현재는 복구가 완료돼 정상작동하는 것으로 나타났다. 사측은 전산장애로 손실을 본 투자자들에게 보상하겠다고 약속했다.한국투자증권은 9일 \"전일 오후 4시부터 발생한 자사의 시스템 장애가 이날 아침 7시15분께 복구가 완료돼 정상화됐다\"며 \"해외주식 거래 등 이용에 큰 불편을 끼쳐드려 죄송하다\"고 말했다.\n",
      "\n",
      "\n",
      "\n",
      "\n",
      "\n",
      "청와대가 특정업체의 소파 홍보에 이용됐다는 논란이 일고 있는 가운데 문화재청이 9일 \"청와대를 배경으로 특정 브랜드가 노출된 것은 문제\"라며 \"재발방지책을 마련하겠다\"는 입장을 밝혔다.논란이 된 영상은 지난 5일 공개된 IHQ의 웹예능 '에브리웨어' 1회다. 신세계그룹 계열사인 신세계까사와 협업해 제작된 이 웹예능은 거실이 아닌 의외의 장소에 가구를 뒀을 때 시민들의 반응을 보는 리얼리티 프로그램이다.\n",
      "\n",
      "\n",
      "\n",
      "\n",
      "\n",
      "방송통신위원회가 구글에 대해 기존의 실태점검을 사실조사로 전환한다. 웹결제 아웃링크 방식을 안내한 카카오톡을 상대로 업데이트를 중지한 행위가 금지행위를 위반했다고 판단한 것이다. 구글을 상대로 제재 수순에 돌입했다는 분석이 나온다.방통위 관계자는 \"구글에 대한 실태점검을 사실조사로 전환한다\"고 9일 밝혔다. 사실조사에서 구체적 위법 행위가 확인될 경우 방통위는 시정명령이나 과태료 등의 행정조치를 내릴 수 있다.사실조사로의 전환은 구글의 카카오톡 앱 업데이트 중단 사태가 계기가 됐다.\n",
      "\n",
      "\n",
      "\n",
      "\n",
      "\n",
      "기록적인 폭우로 강남을 비롯한 서울 전역에 침수 피해가 잇따른 가운데 쓰레기로 막힌 도로 배수관을 맨손으로 치운 의인이 등장했다.9일 여러 온라인 커뮤니티에는 '실시간 강남역 히어로', '실시간 강남역 슈퍼맨' 이라는 제목과 함께 사진이 올라왔다.사진을 공개한 A씨는 \"아저씨 한 분이 폭우로 침수된 강남역 한복판에서 배수로에 쌓인 쓰레기를 맨손으로 건져냈다\"며 \"덕분에 종아리까지 차올랐던 물도 금방 내려갔다. 슈퍼맨이 따로 없다\"고 밝혔다.\n",
      "\n",
      "\n",
      "\n",
      "\n",
      "\n",
      "기록적인 폭우로 강남을 비롯한 서울 전역에 침수 피해가 잇따른 가운데 쓰레기로 막힌 도로 배수관을 맨손으로 치운 의인이 등장했다.9일 여러 온라인 커뮤니티에는 '실시간 강남역 히어로', '실시간 강남역 슈퍼맨' 이라는 제목과 함께 사진이 올라왔다.사진을 공개한 A씨는 \"아저씨 한 분이 폭우로 침수된 강남역 한복판에서 배수로에 쌓인 쓰레기를 맨손으로 건져냈다\"며 \"덕분에 종아리까지 차올랐던 물도 금방 내려갔다. 슈퍼맨이 따로 없다\"고 밝혔다.\n",
      "\n",
      "\n",
      "\n",
      "\n",
      "\n",
      " 광주 광산경찰서는 9일 경찰관에게 주먹을 휘두른 혐의(공무집행방해)로 A(36)씨를 붙잡아 조사하고 있다.A씨는 이날 오전 2시 30분께 광주 광산구 월계동 한 공원에서 지인과 말다툼을 하다 신고를 받고 출동한 지구대 소속 B경사의 얼굴을 주먹으로 때린 혐의다.조사 결과 만취한 A씨는 지인과 언성을 높이며 싸우던 중 출동한 B경사가 만류한다는 이유로 이 같은 행패를 부린 것으로 드러났다.경찰은 A씨를 상대로 구체적인 경위를 조사하고 있다.\n",
      "\n",
      "\n",
      "\n",
      "\n",
      "\n",
      "청와대가 특정업체의 소파 홍보에 이용됐다는 논란이 일고 있는 가운데 문화재청이 9일 \"청와대를 배경으로 특정 브랜드가 노출된 것은 문제\"라며 \"재발방지책을 마련하겠다\"는 입장을 밝혔다.논란이 된 영상은 지난 5일 공개된 IHQ의 웹예능 '에브리웨어' 1회다. 신세계그룹 계열사인 신세계까사와 협업해 제작된 이 웹예능은 거실이 아닌 의외의 장소에 가구를 뒀을 때 시민들의 반응을 보는 리얼리티 프로그램이다.\n",
      "\n",
      "\n",
      "\n",
      "\n",
      "\n",
      " 이탈리아 프로축구 세리에A에 진출한 국가대표 괴물 수비수 김민재(26·나폴리)가 자신의 롤 모델이자 전설적인 수비수인 파비오 칸나바로(49)의 칭찬을 받았다.칸나바로는 8일(현지시간) 이탈리아 매체 일 마티노를 통해 \"중국에서 감독을 할 때 (베이징궈안에서 뛰던) 김민재를 잘 알고 있었다\"며 \"당시 우리 팀에도 한국 선수인 박지수(김천)가 있어 김민재에 대해 자주 들었다\"고 말했다.이어 \"김민재는 빠르고 신체적인 조건도 뛰어나다.\n",
      "\n",
      "\n",
      "\n",
      "\n",
      "\n",
      "개그우먼 이경실(56)이 손주를 공개했다.이경실은 8일 인스타그램에 손주 사진 여러 장을 올렸다. \"드디어 만났네 손주 이훈이\"라며 \"어느 별에서 왔니? 어릴 적 너의 아빠(탤런트 손보승)를 많이 닮았구나. 건강하게 잘 자라주길 바라. 아빠, 엄마가 너를 잘 보살피는구나. 맘이 좀 녹구나. 잘 지내자 우리\"라고 남겼다. \"#첫 손주 #보승이 아들#손이훈\"이라고 덧붙였다.동료들의 축하도 이어졌다. 아나운서 강수정은 \"언니 어쩜 저리 예쁜 아기가 있어요\"라며 놀랐고, 개그맨 손헌수는 \"오우~축하드립니다\"라고 전했다.\n",
      "\n",
      "\n",
      "\n",
      "\n",
      "\n",
      "\n",
      "\n",
      "\n",
      "\n",
      "\n",
      "\n",
      "\n",
      "\n",
      "\n",
      "\n",
      "\n",
      "\n",
      "\n",
      "\n",
      "\n",
      "\n",
      "\n",
      "\n",
      "\n",
      "\n",
      "\n",
      "\n",
      "\n",
      "\n",
      "\n",
      "\n",
      "\n",
      "\n",
      "\n",
      "\n",
      "\n",
      "\n",
      "\n",
      "\n",
      "\n",
      "\n",
      "\n",
      "\n",
      "\n",
      "\n"
     ]
    }
   ],
   "source": [
    "import re\n",
    "\n",
    "description = []\n",
    "headers = {\"User-Agent\":\"Mozilla/5.0 (Windows NT 10.0; Win64; x64) AppleWebKit/537.36 (KHTML, like Gecko) Chrome/96.0.4664.45 Safari/537.36\"}\n",
    "\n",
    "for url in news_url:\n",
    "    \n",
    "    res2 = requests.get(url, headers = headers)\n",
    "    html = res2.content\n",
    "    bs = BS(html, 'html.parser')\n",
    "    ps = bs.find_all('p')\n",
    "    \n",
    "    \n",
    "    \n",
    "    # 본문은 거의 '~다.' 형식으로 끝나기 때문에 크롤링한 p태그에서 해당 형태만 추출함\n",
    "    for p in ps:  \n",
    "        des = ''\n",
    "        p = re.findall('.*다[.]',str(p))\n",
    "#         print(p)\n",
    "        \n",
    "        if len(p) == 0:\n",
    "            new_p = ''\n",
    "        if len(p) > 0:\n",
    "            new_p = ''\n",
    "            \n",
    "            # '~니다.'의 경우는 광고, 경고문 등에 해당하기 때문에 삭제\n",
    "            for i in p:\n",
    "                i = re.sub('.*니다[.]','',i)\n",
    "                new_p += i\n",
    "#         print(new_p)\n",
    "        new_p = re.sub('<.*>',' ',new_p)     #태그 삭제\n",
    "#         new_p = re.sub('\\(.*\\)',' ',new_p)\n",
    "#         new_p = re.sub('\\[.*\\]',' ',new_p)\n",
    "        new_p = re.sub('\\s{1,}',' ',new_p)     #\n",
    "        des += new_p\n",
    "        print(des)"
   ]
  },
  {
   "cell_type": "code",
   "execution_count": null,
   "id": "8c19078d",
   "metadata": {},
   "outputs": [],
   "source": []
  },
  {
   "cell_type": "code",
   "execution_count": null,
   "id": "ba685a4d",
   "metadata": {},
   "outputs": [],
   "source": [
    "import re\n",
    "import requests \n",
    "from bs4 import BeautifulSoup\n",
    "import pandas as pd\n",
    "from collections import Counter\n",
    "import seaborn as sns\n",
    "from konlpy.tag import Okt\n",
    "from wordcloud import WordCloud\n",
    "import matplotlib.pyplot as plt\n",
    "from matplotlib import rc\n",
    "\n",
    "\n",
    "rc('font', family='AppleGothic')\n",
    "plt.rcParams['axes.unicode_minus'] = False\n",
    "\n",
    "# 기사 제목과 본문 모두 워드 클라우드로 분석\n",
    "for i in ['title','text']:\n",
    "    print(i)\n",
    "    title_list = news_df[i].tolist()\n",
    "    text = ' '.join(title_list)\n",
    "    text = re.sub('[^0-9가-힣]+',' ',text)\n",
    "    # 한글자 이상의 명사만 뽑아냄\n",
    "    okt = Okt()\n",
    "    morph = okt.pos(text)\n",
    "    noun_list = []\n",
    "    for word, tag in morph:\n",
    "        if (tag == 'Noun') & (len(word) > 1):\n",
    "            noun_list.append(word)\n",
    "\n",
    "    # 불용어 list 처리\n",
    "    # 불용어 링크 : https://www.ranks.nl/stopwords/korean\n",
    "    with open('./datasets/stopwords.txt', \"r\") as f:\n",
    "        stop_words = f.readlines()\n",
    "    stop_words = \"\".join(stop_words)\n",
    "    stop_words = stop_words.split('\\n')\n",
    "    noun_list = [noun for noun in noun_list if not noun in stop_words]\n",
    "    # 단어 빈도수 세기\n",
    "    count = Counter(noun_list)\n",
    "    data = dict(count.most_common())\n",
    "    series = pd.Series(data)\n",
    "    df = pd.DataFrame(series, columns=['cnt'])\n",
    "    df10 = df.sort_values(by='cnt',ascending=False)[:10]\n",
    "    df10.reset_index(inplace=True)\n",
    "    display(df10)\n",
    "    # 단어 빈도수 바 플롯\n",
    "    display(sns.barplot(y='index', x='cnt', data=df10, orient='h'))\n",
    "    plt.show();\n",
    "    wordcloud = WordCloud(font_path='../visualization/dataset/malgun.ttf', background_color='white',\n",
    "                         colormap='flare',width=2500,height=1800).generate_from_frequencies(data)\n",
    "\n",
    "    plt.imshow(wordcloud)\n",
    "    plt.axis('off')\n",
    "    plt.show();\n",
    "    print('-'*50)\n",
    "        "
   ]
  },
  {
   "cell_type": "markdown",
   "id": "48706182",
   "metadata": {},
   "source": [
    "#### Q64.어떠한 양의 정수 N이 1이 될 때까지 다음의 두 과정 중 하나를 반복적으로 선택하여 수행하려고 한다. 단 두번째 연산은 N이 K로 나누어 떨어질 때만 선택할 수 있다.  N과 K를 입력했을 때 N이 1이 될 때까지 1번 혹은 2번의 과정을 수행해야 하는 최소 횟수를 구하는 프로그램을 완성하세요.\n",
    "\n",
    "1. N에서 1을 뺀다.\n",
    "2. N을 K로 나눈다.\n"
   ]
  },
  {
   "cell_type": "code",
   "execution_count": null,
   "id": "4c527ce1",
   "metadata": {},
   "outputs": [],
   "source": []
  }
 ],
 "metadata": {
  "kernelspec": {
   "display_name": "Python 3 (ipykernel)",
   "language": "python",
   "name": "python3"
  },
  "language_info": {
   "codemirror_mode": {
    "name": "ipython",
    "version": 3
   },
   "file_extension": ".py",
   "mimetype": "text/x-python",
   "name": "python",
   "nbconvert_exporter": "python",
   "pygments_lexer": "ipython3",
   "version": "3.8.13"
  },
  "toc": {
   "base_numbering": 1,
   "nav_menu": {},
   "number_sections": true,
   "sideBar": true,
   "skip_h1_title": false,
   "title_cell": "Table of Contents",
   "title_sidebar": "Contents",
   "toc_cell": false,
   "toc_position": {
    "height": "calc(100% - 180px)",
    "left": "10px",
    "top": "150px",
    "width": "165px"
   },
   "toc_section_display": true,
   "toc_window_display": false
  }
 },
 "nbformat": 4,
 "nbformat_minor": 5
}
