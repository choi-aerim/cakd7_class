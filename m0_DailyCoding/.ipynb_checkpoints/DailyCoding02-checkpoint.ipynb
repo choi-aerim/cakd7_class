{
 "cells": [
  {
   "cell_type": "markdown",
   "id": "688643ce",
   "metadata": {},
   "source": [
    "#### Q75. N X M 크기의 얼음 틀로 한번에 만들 수 있는 아이스크림의 개수를 아래 입력조건에 따라 출력하는 프로그램을 DFS(Depth First Search)를 이용하여 작성하세요.\n",
    " \n",
    "- 입력조건\n",
    "  - 첫번째 줄에 얼음 틀의 세로 길이 N과 가로 길이 M이 주어진다.(1 <= N,M <= 1000)\n",
    "  - 두번째 줄부터 N+1번째 줄까지 얼음 틀의 형태가 주어진다.\n",
    "  - 이때 구멍이 뚫려있는 부분은 0 그렇지 않은 부분은 1이다.\n",
    "  - 구멍이 뚫려 있는 부분끼리 상, 하, 좌, 우로 붙어 있는 경우 서로 연결되어 있는 것으로 간주한다.\n"
   ]
  },
  {
   "cell_type": "markdown",
   "id": "07232856",
   "metadata": {},
   "source": [
    "* <b>DFS</b>\n",
    "    - 깊이를 우선시 하여 탐색하는 방법 \n",
    "    - '한 우물만 판다' 라는 느낌처럼 한 길만 계속 깊이 파고드는 방식\n",
    "    <img src = \"https://img1.daumcdn.net/thumb/R1280x0/?scode=mtistory2&fname=https%3A%2F%2Fblog.kakaocdn.net%2Fdn%2FoiVuV%2FbtqYusdiOdX%2FK4nhzcjlxt80MbIpWjsyrk%2Fimg.png\" width = 400>\n",
    "    \n",
    "* <b>BFS</b>\n",
    "    - 넓이를 우선시\n",
    "    - 특정 노드와 연결된 모든 노드를 한번씩 거친 다음에 다음 노드로 이동하는 방식\n",
    "    - 주로 최단거리를 구할 때 사용\n",
    "    - 재귀적으로 동작하지 않음\n",
    "    - 그래프 탐색의 경우 어떤 노드를 방문했었는지 여부를 반드시 검사해야 함\n",
    "    <img src = \"https://img1.daumcdn.net/thumb/R1280x0/?scode=mtistory2&fname=https%3A%2F%2Fblog.kakaocdn.net%2Fdn%2Fni4Mn%2FbtqYn4EMNlG%2FVF5gXF41YWOfRGWoixkUT0%2Fimg.png\" width = 400>\n",
    "    \n",
    "    \n",
    "참고: https://lotuslee.tistory.com/48"
   ]
  },
  {
   "cell_type": "markdown",
   "id": "b1f3f575",
   "metadata": {},
   "source": [
    "============================스택, 큐 설명==========================="
   ]
  },
  {
   "cell_type": "code",
   "execution_count": 10,
   "id": "5446db65",
   "metadata": {},
   "outputs": [
    {
     "data": {
      "text/plain": [
       "[5, 2, 3, 1]"
      ]
     },
     "execution_count": 10,
     "metadata": {},
     "output_type": "execute_result"
    }
   ],
   "source": [
    "# 스택: 선입후출\n",
    "\n",
    "stack = []\n",
    "stack.append(5)\n",
    "stack.append(2)\n",
    "stack.append(3)\n",
    "stack.append(7)\n",
    "stack.pop(3)\n",
    "stack.append(1)\n",
    "\n",
    "stack"
   ]
  },
  {
   "cell_type": "code",
   "execution_count": 20,
   "id": "79629678",
   "metadata": {
    "scrolled": true
   },
   "outputs": [
    {
     "name": "stdout",
     "output_type": "stream",
     "text": [
      "deque([3, 7, 1, 4])\n"
     ]
    }
   ],
   "source": [
    "# 큐: 선입선출\n",
    "from collections import deque\n",
    "queue = deque()\n",
    "\n",
    "queue.append(5)\n",
    "queue.append(2)\n",
    "queue.append(3)\n",
    "queue.append(7)\n",
    "queue.popleft()\n",
    "queue.append(1)\n",
    "queue.append(4)\n",
    "queue.popleft()\n",
    "\n",
    "print(queue)"
   ]
  },
  {
   "cell_type": "markdown",
   "id": "fbd3fc93",
   "metadata": {},
   "source": [
    "========================================================================"
   ]
  },
  {
   "cell_type": "markdown",
   "id": "3c056c5d",
   "metadata": {},
   "source": [
    "##### 풀이\n",
    "```\n",
    "예시: \n",
    "nm = 5 5\n",
    "\n",
    "00110\n",
    "00011\n",
    "11111\n",
    "00111\n",
    "11000\n",
    "\n",
    "cnt = 4\n",
    "```"
   ]
  },
  {
   "cell_type": "code",
   "execution_count": 22,
   "id": "f01275d8",
   "metadata": {},
   "outputs": [
    {
     "name": "stdout",
     "output_type": "stream",
     "text": [
      ">>n,m을 입력하세요.\n",
      "5 5\n",
      ">>얼음틀 모양을 입력하세요\n",
      "0 0 1 1 0 0 0 0 1 1 1 1 1 1 1 0 0 1 1 1 1 1 0 0 0\n"
     ]
    }
   ],
   "source": [
    "import numpy as np\n",
    "\n",
    "nm = input(\">>n,m을 입력하세요.\\n\")\n",
    "shape = input(\">>얼음틀 모양을 입력하세요\\n\")\n",
    "\n",
    "n, m = int(nm.split()[0]), int(nm.split()[1])\n",
    "shape = np.array([ int(i) for i in shape.split()]).reshape(n,m)\n",
    "\n",
    "# 5 5\n",
    "# 0 0 1 1 0 0 0 0 1 1 1 1 1 1 1 0 0 1 1 1 1 1 0 0 0"
   ]
  },
  {
   "cell_type": "code",
   "execution_count": 23,
   "id": "75e93584",
   "metadata": {
    "scrolled": true
   },
   "outputs": [
    {
     "data": {
      "text/plain": [
       "(5,\n",
       " 5,\n",
       " array([[0, 0, 1, 1, 0],\n",
       "        [0, 0, 0, 1, 1],\n",
       "        [1, 1, 1, 1, 1],\n",
       "        [0, 0, 1, 1, 1],\n",
       "        [1, 1, 0, 0, 0]]))"
      ]
     },
     "execution_count": 23,
     "metadata": {},
     "output_type": "execute_result"
    }
   ],
   "source": [
    "n, m, shape"
   ]
  },
  {
   "cell_type": "code",
   "execution_count": 24,
   "id": "81d0fc7b",
   "metadata": {
    "scrolled": true
   },
   "outputs": [
    {
     "name": "stdout",
     "output_type": "stream",
     "text": [
      "채워야할 총 얼음 틀 개수: 4\n"
     ]
    }
   ],
   "source": [
    "# dfs함수 만들기\n",
    "## 특정 노드 방문한 뒤에 연결된 모든 노드들 방문\n",
    "\n",
    "def dfs(x,y):\n",
    "    \n",
    "    # 행렬 인덱스 값에서 벗어난 경우\n",
    "    if x<0 or x>=n or y<0 or y>=m:\n",
    "        return False\n",
    "    \n",
    "    # 행렬 인덱싱 값이 0인 경우(비어있는 틀인 경우) 채우기\n",
    "    elif shape[x,y] == 0:\n",
    "        shape[x,y] = 1    # stack 된 요소를 pop처리하는 것\n",
    "        dfs(x,y-1)  # 왼  \n",
    "        dfs(x,y+1)  # 오\n",
    "        dfs(x-1,y)  # 아\n",
    "        dfs(x+1,y)  # 위\n",
    "        return True\n",
    "    \n",
    "    # 행렬 인덱싱 값이 1인 경우\n",
    "    return False\n",
    "\n",
    "\n",
    "cnt = 0\n",
    "for i in range(n):\n",
    "    for j in range(m):\n",
    "        if dfs(i,j) == True:\n",
    "            cnt += 1\n",
    "\n",
    "print(f'채워야할 총 얼음 틀 개수: {cnt}')"
   ]
  },
  {
   "cell_type": "markdown",
   "id": "d034eeb4",
   "metadata": {},
   "source": [
    "#### Q76. 10!을 재귀함수를 이용해 출력하세요."
   ]
  },
  {
   "cell_type": "markdown",
   "id": "f8107331",
   "metadata": {},
   "source": [
    "============================재귀함수 활용 예시==========================="
   ]
  },
  {
   "cell_type": "code",
   "execution_count": 28,
   "id": "93dc5f46",
   "metadata": {},
   "outputs": [],
   "source": [
    "def recursive_function(i):\n",
    "    if i == 5:\n",
    "        return \n",
    "    print(i, '번째 재귀함수에서', i+1, '번째 재귀함수를 호출합니다.')\n",
    "    recursive_function(i+1)\n",
    "    print(i, '번째 재귀함수를 호출합니다.')\n",
    "    "
   ]
  },
  {
   "cell_type": "code",
   "execution_count": 29,
   "id": "a3363322",
   "metadata": {
    "scrolled": true
   },
   "outputs": [
    {
     "name": "stdout",
     "output_type": "stream",
     "text": [
      "1 번째 재귀함수에서 2 번째 재귀함수를 호출합니다.\n",
      "2 번째 재귀함수에서 3 번째 재귀함수를 호출합니다.\n",
      "3 번째 재귀함수에서 4 번째 재귀함수를 호출합니다.\n",
      "4 번째 재귀함수에서 5 번째 재귀함수를 호출합니다.\n",
      "4 번째 재귀함수를 호출합니다.\n",
      "3 번째 재귀함수를 호출합니다.\n",
      "2 번째 재귀함수를 호출합니다.\n",
      "1 번째 재귀함수를 호출합니다.\n"
     ]
    }
   ],
   "source": [
    "recursive_function(1)"
   ]
  },
  {
   "cell_type": "markdown",
   "id": "ab78c0df",
   "metadata": {},
   "source": [
    "====================================================================="
   ]
  },
  {
   "cell_type": "code",
   "execution_count": 39,
   "id": "d49bbcaf",
   "metadata": {},
   "outputs": [
    {
     "data": {
      "text/plain": [
       "3628800"
      ]
     },
     "execution_count": 39,
     "metadata": {},
     "output_type": "execute_result"
    }
   ],
   "source": [
    "# for문을 활용한 팩토리얼 계산\n",
    "\n",
    "def factorial_iterative(n):\n",
    "    result = 1\n",
    "    for i in range(1,n+1):\n",
    "        result *= i\n",
    "    return result\n",
    "    \n",
    "factorial_iterative(10)"
   ]
  },
  {
   "cell_type": "code",
   "execution_count": 40,
   "id": "b53d3e16",
   "metadata": {},
   "outputs": [
    {
     "data": {
      "text/plain": [
       "3628800"
      ]
     },
     "execution_count": 40,
     "metadata": {},
     "output_type": "execute_result"
    }
   ],
   "source": [
    "# 재귀함수를 활용한 팩토리얼 계산\n",
    "\n",
    "def factorial(n):\n",
    "    if n == 1:\n",
    "        return 1\n",
    "    else:\n",
    "        return n * factorial(n-1)\n",
    "    \n",
    "factorial(10)"
   ]
  },
  {
   "cell_type": "markdown",
   "id": "6c5580bf",
   "metadata": {},
   "source": [
    "#### Q77. N X M 크기의 미로에는 여러마리의 괴물이 있어 이를 피해 탈출해야 한다. 주인공의 위치는 (0,0)이고 미로의 출구는 (N-1,M-1)의 위치에 존재하며 한번에 한칸씩 이동할 수 있다. 괴물이 있는 부분은 0, 없는 부분은 1로 표시되어 있으며 미로는 반드시 탈출할 수 있는 형태로 제시된다. 주인공이 탈출하기 위해 움직여야 하는 최소 칸의 개수를 구하세요. 칸을 셀 때는 시작 칸과 마지막 칸을 모두 포함하여 계산하고 입력 조건은 아래와 같다.(BFS를 이용)\n",
    "- 첫째 줄에 두 정수 N,M(4<=N,M<=200)이 주어진다. \n",
    "- 다음 N개의 줄에는 각각 M개의 정수(0 혹은 1)로 미로의 정보가 주어진다. 각각의 수들은 공백없이 붙여서 입력으로 제시된다. \n",
    "- 또한 시작칸과 마지막칸은 항상 1이다.\n"
   ]
  },
  {
   "cell_type": "markdown",
   "id": "8ae1dabb",
   "metadata": {},
   "source": [
    "참고: https://casa-de-feel.tistory.com/33"
   ]
  },
  {
   "cell_type": "code",
   "execution_count": 2,
   "id": "cdf54731",
   "metadata": {},
   "outputs": [
    {
     "name": "stdout",
     "output_type": "stream",
     "text": [
      ">> 행, 열을 입력하세요. \n",
      "5 5\n",
      ">> 미로 구조를 입력하세요. \n",
      "1 1 0 1 1 0 1 0 1 1 0 1 1 1 1 1 1 0 1 1 1 0 1 1 1\n"
     ]
    },
    {
     "data": {
      "text/plain": [
       "(5,\n",
       " 5,\n",
       " array([[1, 1, 0, 1, 1],\n",
       "        [0, 1, 0, 1, 1],\n",
       "        [0, 1, 1, 1, 1],\n",
       "        [1, 1, 0, 1, 1],\n",
       "        [1, 0, 1, 1, 1]]))"
      ]
     },
     "execution_count": 2,
     "metadata": {},
     "output_type": "execute_result"
    }
   ],
   "source": [
    "import numpy as np\n",
    "import pandas as pd\n",
    "\n",
    "# 입력값 받기\n",
    "nm = list(map(int, input('>> 행, 열을 입력하세요. \\n').split()))\n",
    "n,m = nm[0], nm[1]\n",
    "\n",
    "shape = np.array([ int(i) for i in input('>> 미로 구조를 입력하세요. \\n').split() ]).reshape(n, m)\n",
    "\n",
    "n,m,shape\n",
    "\n",
    "# 5 5\n",
    "# 1 1 0 1 1 0 1 0 1 1 0 1 1 1 1 1 1 0 1 1 1 0 1 1 1"
   ]
  },
  {
   "cell_type": "markdown",
   "id": "e7b7668a",
   "metadata": {},
   "source": [
    "참고: https://wooono.tistory.com/498"
   ]
  },
  {
   "cell_type": "code",
   "execution_count": 27,
   "id": "0813f1e5",
   "metadata": {
    "scrolled": true
   },
   "outputs": [
    {
     "name": "stdout",
     "output_type": "stream",
     "text": [
      ">> 행, 열을 입력하세요. \n",
      "5 5\n",
      ">> 미로 구조를 입력하세요. \n",
      "1 1 0 1 1 0 1 0 1 1 0 1 1 1 1 1 1 0 1 1 1 0 1 1 1\n",
      "[[1 2 0 1 1]\n",
      " [0 1 0 1 1]\n",
      " [0 1 1 1 1]\n",
      " [1 1 0 1 1]\n",
      " [1 0 1 1 1]]\n",
      "[[1 2 0 1 1]\n",
      " [0 3 0 1 1]\n",
      " [0 1 1 1 1]\n",
      " [1 1 0 1 1]\n",
      " [1 0 1 1 1]]\n",
      "[[3 2 0 1 1]\n",
      " [0 3 0 1 1]\n",
      " [0 1 1 1 1]\n",
      " [1 1 0 1 1]\n",
      " [1 0 1 1 1]]\n",
      "[[3 2 0 1 1]\n",
      " [0 3 0 1 1]\n",
      " [0 4 1 1 1]\n",
      " [1 1 0 1 1]\n",
      " [1 0 1 1 1]]\n",
      "[[3 2 0 1 1]\n",
      " [0 3 0 1 1]\n",
      " [0 4 1 1 1]\n",
      " [1 5 0 1 1]\n",
      " [1 0 1 1 1]]\n",
      "[[3 2 0 1 1]\n",
      " [0 3 0 1 1]\n",
      " [0 4 5 1 1]\n",
      " [1 5 0 1 1]\n",
      " [1 0 1 1 1]]\n",
      "[[3 2 0 1 1]\n",
      " [0 3 0 1 1]\n",
      " [0 4 5 1 1]\n",
      " [6 5 0 1 1]\n",
      " [1 0 1 1 1]]\n",
      "[[3 2 0 1 1]\n",
      " [0 3 0 1 1]\n",
      " [0 4 5 6 1]\n",
      " [6 5 0 1 1]\n",
      " [1 0 1 1 1]]\n",
      "[[3 2 0 1 1]\n",
      " [0 3 0 1 1]\n",
      " [0 4 5 6 1]\n",
      " [6 5 0 1 1]\n",
      " [7 0 1 1 1]]\n",
      "[[3 2 0 1 1]\n",
      " [0 3 0 7 1]\n",
      " [0 4 5 6 1]\n",
      " [6 5 0 1 1]\n",
      " [7 0 1 1 1]]\n",
      "[[3 2 0 1 1]\n",
      " [0 3 0 7 1]\n",
      " [0 4 5 6 1]\n",
      " [6 5 0 7 1]\n",
      " [7 0 1 1 1]]\n",
      "[[3 2 0 1 1]\n",
      " [0 3 0 7 1]\n",
      " [0 4 5 6 7]\n",
      " [6 5 0 7 1]\n",
      " [7 0 1 1 1]]\n",
      "[[3 2 0 8 1]\n",
      " [0 3 0 7 1]\n",
      " [0 4 5 6 7]\n",
      " [6 5 0 7 1]\n",
      " [7 0 1 1 1]]\n",
      "[[3 2 0 8 1]\n",
      " [0 3 0 7 8]\n",
      " [0 4 5 6 7]\n",
      " [6 5 0 7 1]\n",
      " [7 0 1 1 1]]\n",
      "[[3 2 0 8 1]\n",
      " [0 3 0 7 8]\n",
      " [0 4 5 6 7]\n",
      " [6 5 0 7 1]\n",
      " [7 0 1 8 1]]\n",
      "[[3 2 0 8 1]\n",
      " [0 3 0 7 8]\n",
      " [0 4 5 6 7]\n",
      " [6 5 0 7 8]\n",
      " [7 0 1 8 1]]\n",
      "[[3 2 0 8 9]\n",
      " [0 3 0 7 8]\n",
      " [0 4 5 6 7]\n",
      " [6 5 0 7 8]\n",
      " [7 0 1 8 1]]\n",
      "[[3 2 0 8 9]\n",
      " [0 3 0 7 8]\n",
      " [0 4 5 6 7]\n",
      " [6 5 0 7 8]\n",
      " [7 0 9 8 1]]\n",
      "[[3 2 0 8 9]\n",
      " [0 3 0 7 8]\n",
      " [0 4 5 6 7]\n",
      " [6 5 0 7 8]\n",
      " [7 0 9 8 9]]\n"
     ]
    },
    {
     "data": {
      "text/plain": [
       "'미로를 빠져나가기 위해 이동한 칸 수: 9 칸'"
      ]
     },
     "execution_count": 27,
     "metadata": {},
     "output_type": "execute_result"
    }
   ],
   "source": [
    "import numpy as np\n",
    "import pandas as pd\n",
    "from collections import deque\n",
    "\n",
    "nm = list(map(int, input('>> 행, 열을 입력하세요. \\n').split()))\n",
    "n,m = nm[0], nm[1]\n",
    "\n",
    "# 2차원 리스트의 맵 정보 입력 받기\n",
    "shape = np.array([ int(i) for i in input('>> 미로 구조를 입력하세요. \\n').split()]).reshape(n, m)\n",
    "\n",
    "\n",
    "def bfs(x, y):\n",
    "    queue = deque()\n",
    "    queue.append([x,y])\n",
    "    \n",
    "    d = [[-1,0],[1,0],[0,-1],[0,1]] #상, 하, 좌, 우\n",
    "    \n",
    "    # queue가 빌 때까지 실행\n",
    "    while queue:\n",
    "        x, y = queue.popleft()\n",
    "        \n",
    "        # 상하좌우 다 살펴보기\n",
    "        for i in range(4):\n",
    "            xm = x + d[i][0]\n",
    "            ym = y + d[i][1]\n",
    "\n",
    "            # 미로 인덱스 범위를 벗어난 경우\n",
    "            if xm < 0 or xm >=n or ym < 0 or ym >= m:\n",
    "                continue\n",
    "\n",
    "            # 괴물이 있는 경우\n",
    "            if shape[xm, ym] == 0:\n",
    "                continue\n",
    "\n",
    "            # 괴물이 없는 경우\n",
    "            if shape[xm, ym] == 1:\n",
    "                shape[xm, ym] = shape[x, y] + 1\n",
    "                print(shape)\n",
    "                queue.append([xm,ym])\n",
    "            \n",
    "    return f'미로를 빠져나가기 위해 이동한 칸 수: {shape[n-1, m-1]} 칸'\n",
    "\n",
    "bfs(0,0)     \n",
    "\n",
    "#####예시\n",
    "# 5 5\n",
    "# 1 1 0 1 1 0 1 0 1 1 0 1 1 1 1 1 1 0 1 1 1 0 1 1 1"
   ]
  },
  {
   "cell_type": "markdown",
   "id": "c62b59f4",
   "metadata": {
    "scrolled": true
   },
   "source": [
    "#### Q78. 소수란 2보다 큰 자연수 중에서 1과 자기자신을 제외한 자연수로는 나누어떨어지지 않는 자연수이다. 어떠한 자연수가 소수인지 아닌지 판별하는 프로그램을 작성하세요."
   ]
  },
  {
   "cell_type": "code",
   "execution_count": 14,
   "id": "21aba119",
   "metadata": {},
   "outputs": [
    {
     "name": "stdout",
     "output_type": "stream",
     "text": [
      "55은/는 소수가 아닙니다.\n"
     ]
    }
   ],
   "source": [
    "#방법1\n",
    "\n",
    "def sosu(x):\n",
    "    \n",
    "    # 2부터 (x - 1)까지의 모든 수를 확인\n",
    "    for i in range(2, x):\n",
    "        \n",
    "        # x가 해당 수로 나누어떨어진다면 소수가 아님\n",
    "        if x % i == 0:\n",
    "            return f'{x}은/는 소수가 아닙니다.' \n",
    "        \n",
    "    return f'{x}은/는 소수입니다.'\n",
    "\n",
    "print(sosu(55)) "
   ]
  },
  {
   "cell_type": "code",
   "execution_count": 15,
   "id": "f8cf277f",
   "metadata": {},
   "outputs": [
    {
     "name": "stdout",
     "output_type": "stream",
     "text": [
      "3은/는 소수입니다.\n"
     ]
    }
   ],
   "source": [
    "#방법2\n",
    "\n",
    "def sosu2(x):\n",
    "    is_divided = [ x % i for i in range(2,x) ]\n",
    "    \n",
    "    if len(is_divided) > 2:\n",
    "        return f'{x}은/는 소수가 아닙니다.'\n",
    "    else:\n",
    "        return f'{x}은/는 소수입니다.'\n",
    "    \n",
    "print(sosu2(3))"
   ]
  },
  {
   "cell_type": "markdown",
   "id": "fe5bf6bf",
   "metadata": {
    "scrolled": true
   },
   "source": [
    "#### Q79. M 이상 N 이하의 소수를 모두 출력하는 프로그램을 작성하세요.\n",
    "- 입력조건\n",
    "  - 첫째 줄에 자연수 M과 N이 빈칸을 사이에 두고 주어진다.(1<=M<=N<=1,000,000)\n",
    "  - 단 M이상 N 이하의 소수가 하나 이상 있는 입력만 주어진다.\n"
   ]
  },
  {
   "cell_type": "code",
   "execution_count": 6,
   "id": "434b09b8",
   "metadata": {},
   "outputs": [
    {
     "name": "stdout",
     "output_type": "stream",
     "text": [
      "50 70\n",
      "53\n",
      "59\n",
      "61\n",
      "67\n"
     ]
    }
   ],
   "source": [
    "def isprime_all(x):\n",
    "    if x == 1:\n",
    "        return False\n",
    "    else:\n",
    "        for i in range(2, x-1):\n",
    "            if x % i == 0:\n",
    "                return False\n",
    "        return True\n",
    "\n",
    "n, m = map(int, input().split())\n",
    "\n",
    "for i in range(n, m + 1):\n",
    "    if isprime_all(i):\n",
    "        print(i)"
   ]
  },
  {
   "cell_type": "markdown",
   "id": "2a73aca9",
   "metadata": {},
   "source": [
    "#### Q80.\n",
    "\n",
    "암호는 서로 다른 L개의 알파벳 소문자들로 구성되며 최소 한 개의 모음(a, e, i, o, u)과 최소 두 개의 자음으로 구성되어 있다고 알려져 있다. 또한 정렬된 문자열을 선호하는 직원들의 성향으로 미루어 보아 암호를 이루는 알파벳이 암호에서 증가하는 순서로 배열되었을 것이라고 추측된다. 즉, abc는 가능성이 있는 암호이지만 bac는 그렇지 않다. 새 보안 시스템에서 직원들이 암호로 사용했을 법한 문자의 종류는 C가지가 있다고 한다. 이 알파벳을 입수한 james, kevin 형제는 직원들의 방에 침투하기 위해 암호를 추측해 보려고 한다. C개의 문자들이 모두 주어졌을 때, 가능성 있는 암호들을 모두 구하는 프로그램을 다음 사항에 유의하여 작성하시오.\n",
    "- 첫째 줄에 두 정수 L, C가 주어진다. (3 ≤ L ≤ C ≤ 15) 다음 줄에는 C개의 문자들이 공백으로 구분되어 주어진다. 주어지는 문자들은 알파벳 소문자이며, 중복되는 것은 없다.\n",
    "- 각 줄에 하나씩, 사전식으로 가능성 있는 암호를 모두 출력한다.\n"
   ]
  },
  {
   "cell_type": "markdown",
   "id": "562eff5e",
   "metadata": {},
   "source": [
    "<b>input1:</b>\n",
    "\n",
    "L: 암호자릿수\n",
    "\n",
    "C: 입력문자수\n",
    "\n",
    "<b>input2:</b>\n",
    "\n",
    "word: 암호에 들어갈 문자 입력\n",
    "\n",
    "    1) 모음 1개 이상\n",
    "    \n",
    "    2) 자음 2개 이상\n",
    "    \n",
    "    3) 소문자\n",
    "    \n",
    "    4) 중복 안됨\n",
    "\n",
    "\n",
    "<b>output: </b>\n",
    "\n",
    "가능성 있는 암호 모두 출력\n",
    "\n",
    "<b>예시)</b>\n",
    "4 6\n",
    "a t c i s w\n",
    "14개"
   ]
  },
  {
   "cell_type": "code",
   "execution_count": 30,
   "id": "3143b765",
   "metadata": {},
   "outputs": [],
   "source": [
    "# 사용자함수 생성\n",
    "\n",
    "from itertools import combinations\n",
    "\n",
    "def find_password(L, word):    \n",
    "    \n",
    "    # 조건1: 중복 출력 안됨 -> 조합 배열\n",
    "    combination = list(combinations(word, L))\n",
    "\n",
    "    # 모음 리스트\n",
    "    vowel = ['a','e','i','o','u']\n",
    "    \n",
    "    for password in combination:\n",
    "        \n",
    "        # 조건2: 모음1개 이상, 자음 2개 이상\n",
    "        if any(p in vowel for p in password) and sum(p not in vowel for p in password) >= 2:\n",
    "            \n",
    "            # 순서대로 정렬 후, 하나씩 출력\n",
    "            print(\" \".join(sorted(password)))"
   ]
  },
  {
   "cell_type": "code",
   "execution_count": null,
   "id": "502df2d9",
   "metadata": {},
   "outputs": [],
   "source": [
    "# input 예외처리\n",
    "while True:\n",
    "    try:\n",
    "        L, C = map(int,input(\">> 암호 자릿수와 문자수를 입력하세요.\\n\").split())\n",
    "\n",
    "        # 두번째 인자가 더 크거나 같아야함\n",
    "        if L > C:\n",
    "            print('※ 두 번째 인자를 더 크게 입력해주세요.')\n",
    "            continue\n",
    "        break\n",
    "                  \n",
    "    except:          \n",
    "        # 숫자만                 \n",
    "        print('※ 숫자만 입력해주세요.')\n",
    "        continue\n",
    "                  \n",
    "while True:                 \n",
    "    word = input(\">> 암호에 들어갈 문자를 입력하세요.\").split()  \n",
    "    vowel = ['a','e','i','o','u']\n",
    "                  \n",
    "    # 소문자만\n",
    "    if ' '.join(word).islower() == False:\n",
    "        print('※ 소문자만 입력해주세요.')\n",
    "        continue\n",
    "\n",
    "    # 중복 안됨\n",
    "    elif len(set(word)) < len(word):\n",
    "        print('※ 중복되는 문자가 없도록 입력해주세요.')\n",
    "        continue\n",
    "\n",
    "    # 모음 1개 이상, 자음 2개 이상\n",
    "    elif any(w in vowel for w in word) == False and sum(w not in vowel for w in word) < 2:\n",
    "        print('※ 모음 1개 이상, 자음 2개 이상 입력해주세요.')\n",
    "        continue\n",
    "    \n",
    "    # 두번째 인자값 만큼 받기\n",
    "    elif len(word) != C:\n",
    "        print('※ 입력한 인자 수 만큼 문자를 입력해주세요.')\n",
    "        continue\n",
    "        \n",
    "    else:\n",
    "        break              \n",
    "         \n",
    "find_password(L, word)"
   ]
  },
  {
   "cell_type": "markdown",
   "id": "019b1cbb",
   "metadata": {},
   "source": [
    "#### Q81.\n",
    "파이썬의 itertools 라이브러리를 활용하여 리스트 data = ['A','B','C']로 부터 아래 문제를 풀어보세요.\n",
    "\n",
    "<b>1. 순열</b>\n",
    "\n",
    "- 3개를 뽑아 나열하는 모든 경우를 출력하세요(중복 허용안됨)\n",
    "- 3개를 뽑아 나열하는 모든 경우를 출력하세요(중복 허용)\n",
    "\n",
    "<b>2. 조합</b>\n",
    "- 3개를 뽑아 순서에 상관없이 나열하는 모든 경우를 출력하세요(중복 허용안됨)\n",
    "- 3개를 뽑아 순서에 상관없이 나열하는 모든 경우를 출력하세요(중복 허용)\n"
   ]
  },
  {
   "cell_type": "code",
   "execution_count": 4,
   "id": "d76ef4f0",
   "metadata": {},
   "outputs": [
    {
     "data": {
      "text/plain": [
       "[('A', 'B', 'C'),\n",
       " ('A', 'C', 'B'),\n",
       " ('B', 'A', 'C'),\n",
       " ('B', 'C', 'A'),\n",
       " ('C', 'A', 'B'),\n",
       " ('C', 'B', 'A')]"
      ]
     },
     "execution_count": 4,
     "metadata": {},
     "output_type": "execute_result"
    }
   ],
   "source": [
    "#1. 3개를 뽑아 나열하는 모든 경우를 출력하기(중복 허용안됨)\n",
    "\n",
    "from itertools import permutations\n",
    "\n",
    "data = ['A','B','C']\n",
    "list(permutations(data, 3))"
   ]
  },
  {
   "cell_type": "code",
   "execution_count": 10,
   "id": "02749c70",
   "metadata": {},
   "outputs": [
    {
     "data": {
      "text/plain": [
       "[('A', 'A', 'A'),\n",
       " ('A', 'A', 'B'),\n",
       " ('A', 'A', 'C'),\n",
       " ('A', 'B', 'A'),\n",
       " ('A', 'B', 'B'),\n",
       " ('A', 'B', 'C'),\n",
       " ('A', 'C', 'A'),\n",
       " ('A', 'C', 'B'),\n",
       " ('A', 'C', 'C'),\n",
       " ('B', 'A', 'A'),\n",
       " ('B', 'A', 'B'),\n",
       " ('B', 'A', 'C'),\n",
       " ('B', 'B', 'A'),\n",
       " ('B', 'B', 'B'),\n",
       " ('B', 'B', 'C'),\n",
       " ('B', 'C', 'A'),\n",
       " ('B', 'C', 'B'),\n",
       " ('B', 'C', 'C'),\n",
       " ('C', 'A', 'A'),\n",
       " ('C', 'A', 'B'),\n",
       " ('C', 'A', 'C'),\n",
       " ('C', 'B', 'A'),\n",
       " ('C', 'B', 'B'),\n",
       " ('C', 'B', 'C'),\n",
       " ('C', 'C', 'A'),\n",
       " ('C', 'C', 'B'),\n",
       " ('C', 'C', 'C')]"
      ]
     },
     "execution_count": 10,
     "metadata": {},
     "output_type": "execute_result"
    }
   ],
   "source": [
    "#2. 3개를 뽑아 나열하는 모든 경우를 출력하기(중복 허용)\n",
    "\n",
    "from itertools import product\n",
    "\n",
    "data = ['A','B','C']\n",
    "list(product(data, repeat = 3))"
   ]
  },
  {
   "cell_type": "code",
   "execution_count": 5,
   "id": "cd6377bd",
   "metadata": {},
   "outputs": [
    {
     "data": {
      "text/plain": [
       "[('A', 'B', 'C')]"
      ]
     },
     "execution_count": 5,
     "metadata": {},
     "output_type": "execute_result"
    }
   ],
   "source": [
    "#3. 3개를 뽑아 순서에 상관없이 나열하는 모든 경우를 출력하세요(중복 허용안됨)\n",
    "\n",
    "from itertools import combinations\n",
    "\n",
    "data = ['A','B','C']\n",
    "list(combinations(data, 3))"
   ]
  },
  {
   "cell_type": "code",
   "execution_count": 12,
   "id": "4b713eca",
   "metadata": {},
   "outputs": [
    {
     "data": {
      "text/plain": [
       "[('A', 'A', 'A'),\n",
       " ('A', 'A', 'B'),\n",
       " ('A', 'A', 'C'),\n",
       " ('A', 'B', 'B'),\n",
       " ('A', 'B', 'C'),\n",
       " ('A', 'C', 'C'),\n",
       " ('B', 'B', 'B'),\n",
       " ('B', 'B', 'C'),\n",
       " ('B', 'C', 'C'),\n",
       " ('C', 'C', 'C')]"
      ]
     },
     "execution_count": 12,
     "metadata": {},
     "output_type": "execute_result"
    }
   ],
   "source": [
    "#4. 3개를 뽑아 순서에 상관없이 나열하는 모든 경우를 출력하세요(중복 허용)\n",
    "\n",
    "from itertools import combinations_with_replacement\n",
    "\n",
    "data = ['A','B','C']\n",
    "list(combinations_with_replacement(data, 3))"
   ]
  },
  {
   "cell_type": "markdown",
   "id": "31a3f634",
   "metadata": {},
   "source": [
    "#### Q82.\n",
    "아래사항을 참조, 파이썬의 heapq 라이브러리를 활용하여 주어진 리스트 iterable = [1,3,5,7,9,2,4,6,8,0]을 힙 정렬하여 출력하세요.\n",
    "- 최소 힙 : heap 역할을 할 빈 리스트를 선언해주고, heappush 메소드의 매개변수로 해당 리스트와 추가하고자 하는 값을 넣어주면 리스트에 힙 정렬이 되게 원하는 값이 삽입된다.\n",
    "- 최대 힙 : heapq에서는 최대 힙을 제공하지 않는다. 따라서 부호를 변경하는 방법을 사용해서 최대 힙을 구현한다.\n"
   ]
  },
  {
   "cell_type": "markdown",
   "id": "4f8ea803",
   "metadata": {},
   "source": [
    "<img src = 'https://img1.daumcdn.net/thumb/R1280x0/?scode=mtistory2&fname=https%3A%2F%2Fblog.kakaocdn.net%2Fdn%2FbbaE6G%2FbtqCd0Jdb4a%2FCkug8Iw2TvL4K3xdQadSX0%2Fimg.png'>"
   ]
  },
  {
   "cell_type": "markdown",
   "id": "b3e916db",
   "metadata": {},
   "source": [
    "##### Min_Heapq"
   ]
  },
  {
   "cell_type": "code",
   "execution_count": 7,
   "id": "95b34fc4",
   "metadata": {},
   "outputs": [
    {
     "data": {
      "text/plain": [
       "[0, 1, 2, 6, 3, 5, 4, 7, 8, 9]"
      ]
     },
     "execution_count": 7,
     "metadata": {},
     "output_type": "execute_result"
    }
   ],
   "source": [
    "import heapq\n",
    "\n",
    "iterable = [1,3,5,7,9,2,4,6,8,0]\n",
    "# iterable = [9,1,3,5,7,2,4,6,8,0]\n",
    "\n",
    "\n",
    "min_heap = []\n",
    "\n",
    "for i in iterable:\n",
    "    heapq.heappush(min_heap, i)\n",
    "    \n",
    "min_heap"
   ]
  },
  {
   "cell_type": "code",
   "execution_count": 8,
   "id": "37f5afec",
   "metadata": {},
   "outputs": [
    {
     "data": {
      "text/plain": [
       "0"
      ]
     },
     "execution_count": 8,
     "metadata": {},
     "output_type": "execute_result"
    }
   ],
   "source": [
    "heapq.heappop(min_heap)"
   ]
  },
  {
   "cell_type": "code",
   "execution_count": 9,
   "id": "327eca99",
   "metadata": {},
   "outputs": [
    {
     "data": {
      "text/plain": [
       "1"
      ]
     },
     "execution_count": 9,
     "metadata": {},
     "output_type": "execute_result"
    }
   ],
   "source": [
    "heapq.heappop(min_heap)"
   ]
  },
  {
   "cell_type": "code",
   "execution_count": 10,
   "id": "0e128eab",
   "metadata": {},
   "outputs": [
    {
     "data": {
      "text/plain": [
       "2"
      ]
     },
     "execution_count": 10,
     "metadata": {},
     "output_type": "execute_result"
    }
   ],
   "source": [
    "heapq.heappop(min_heap)"
   ]
  },
  {
   "cell_type": "code",
   "execution_count": 11,
   "id": "18ce8f5b",
   "metadata": {},
   "outputs": [
    {
     "data": {
      "text/plain": [
       "3"
      ]
     },
     "execution_count": 11,
     "metadata": {},
     "output_type": "execute_result"
    }
   ],
   "source": [
    "heapq.heappop(min_heap)"
   ]
  },
  {
   "cell_type": "code",
   "execution_count": 12,
   "id": "e9c96351",
   "metadata": {},
   "outputs": [
    {
     "data": {
      "text/plain": [
       "4"
      ]
     },
     "execution_count": 12,
     "metadata": {},
     "output_type": "execute_result"
    }
   ],
   "source": [
    "heapq.heappop(min_heap)"
   ]
  },
  {
   "cell_type": "code",
   "execution_count": 15,
   "id": "2b8f0b8b",
   "metadata": {},
   "outputs": [
    {
     "data": {
      "text/plain": [
       "[0, 1, 2, 3, 4, 5, 6, 7, 8, 9]"
      ]
     },
     "execution_count": 15,
     "metadata": {},
     "output_type": "execute_result"
    }
   ],
   "source": [
    "import heapq\n",
    "\n",
    "# 힙정렬 후, 오름차순 리스트 반환하는 사용자함수 만들기\n",
    "\n",
    "def sort_heap(nums):\n",
    "    \n",
    "    # 힙정렬 리스트 만들기\n",
    "    heap = []\n",
    "    for i in nums:\n",
    "        heapq.heappush(heap, i)\n",
    "    \n",
    "    # 힙정렬된 리스트를 오름차순 정렬하기\n",
    "    sort_heap = []\n",
    "    while heap:\n",
    "        sort_heap.append(heapq.heappop(heap))\n",
    "    \n",
    "    # 오름차순 정렬된 리스트 반환\n",
    "    return sort_heap\n",
    "\n",
    "\n",
    "\n",
    "\n",
    "\n",
    "iterable = [1,3,5,7,9,2,4,6,8,0]\n",
    "sort_heap(iterable)"
   ]
  },
  {
   "cell_type": "markdown",
   "id": "f64383b7",
   "metadata": {},
   "source": [
    "##### Max_Heapq"
   ]
  },
  {
   "cell_type": "code",
   "execution_count": 8,
   "id": "bd663b0f",
   "metadata": {},
   "outputs": [
    {
     "data": {
      "text/plain": [
       "[(-9, 9),\n",
       " (-8, 8),\n",
       " (-4, 4),\n",
       " (-7, 7),\n",
       " (-5, 5),\n",
       " (-2, 2),\n",
       " (-3, 3),\n",
       " (-1, 1),\n",
       " (-6, 6),\n",
       " (0, 0)]"
      ]
     },
     "execution_count": 8,
     "metadata": {},
     "output_type": "execute_result"
    }
   ],
   "source": [
    "import heapq\n",
    "\n",
    "iterable = [1,3,5,7,9,2,4,6,8,0]\n",
    "# iterable = [9,1,3,5,7,2,4,6,8,0]\n",
    "\n",
    "max_heap = []\n",
    "\n",
    "for i in iterable:\n",
    "    heapq.heappush(max_heap, (-i,i))\n",
    "\n",
    "max_heap"
   ]
  },
  {
   "cell_type": "code",
   "execution_count": 9,
   "id": "5e555593",
   "metadata": {},
   "outputs": [
    {
     "data": {
      "text/plain": [
       "9"
      ]
     },
     "execution_count": 9,
     "metadata": {},
     "output_type": "execute_result"
    }
   ],
   "source": [
    "heapq.heappop(max_heap)[1]"
   ]
  },
  {
   "cell_type": "code",
   "execution_count": 10,
   "id": "6f476ac6",
   "metadata": {},
   "outputs": [
    {
     "data": {
      "text/plain": [
       "8"
      ]
     },
     "execution_count": 10,
     "metadata": {},
     "output_type": "execute_result"
    }
   ],
   "source": [
    "heapq.heappop(max_heap)[1]"
   ]
  },
  {
   "cell_type": "code",
   "execution_count": 11,
   "id": "7abdd056",
   "metadata": {},
   "outputs": [
    {
     "data": {
      "text/plain": [
       "7"
      ]
     },
     "execution_count": 11,
     "metadata": {},
     "output_type": "execute_result"
    }
   ],
   "source": [
    "heapq.heappop(max_heap)[1]"
   ]
  },
  {
   "cell_type": "code",
   "execution_count": 12,
   "id": "17e33eb8",
   "metadata": {},
   "outputs": [
    {
     "data": {
      "text/plain": [
       "6"
      ]
     },
     "execution_count": 12,
     "metadata": {},
     "output_type": "execute_result"
    }
   ],
   "source": [
    "heapq.heappop(max_heap)[1]"
   ]
  },
  {
   "cell_type": "code",
   "execution_count": 13,
   "id": "a6892822",
   "metadata": {},
   "outputs": [
    {
     "data": {
      "text/plain": [
       "5"
      ]
     },
     "execution_count": 13,
     "metadata": {},
     "output_type": "execute_result"
    }
   ],
   "source": [
    "heapq.heappop(max_heap)[1]"
   ]
  },
  {
   "cell_type": "code",
   "execution_count": 14,
   "id": "ffea52a0",
   "metadata": {},
   "outputs": [
    {
     "data": {
      "text/plain": [
       "4"
      ]
     },
     "execution_count": 14,
     "metadata": {},
     "output_type": "execute_result"
    }
   ],
   "source": [
    "heapq.heappop(max_heap)[1]"
   ]
  },
  {
   "cell_type": "code",
   "execution_count": 15,
   "id": "437e5610",
   "metadata": {},
   "outputs": [
    {
     "data": {
      "text/plain": [
       "3"
      ]
     },
     "execution_count": 15,
     "metadata": {},
     "output_type": "execute_result"
    }
   ],
   "source": [
    "heapq.heappop(max_heap)[1]"
   ]
  },
  {
   "cell_type": "markdown",
   "id": "87076266",
   "metadata": {},
   "source": [
    "#### Q83. 파이썬 bisect 라이브러리를 활용하여 리스트 a = [1,2,3,3,3,4,4,8,9] 로 부터 아래 문제들을 풀어보세요.\n",
    "- 값이 4인 데이터 개수 출력\n",
    "- 값이 [-1,3] 범위에 있는 데이터 개수 출력\n"
   ]
  },
  {
   "cell_type": "code",
   "execution_count": 15,
   "id": "a110f3bf",
   "metadata": {},
   "outputs": [],
   "source": [
    "a = [1,2,3,3,3,4,4,8,9] \n",
    "\n",
    "# b = [4,8,9,2,3,3,1,2]"
   ]
  },
  {
   "cell_type": "code",
   "execution_count": 23,
   "id": "873f7469",
   "metadata": {},
   "outputs": [],
   "source": [
    "import bisect\n",
    "\n",
    "def length_n(li, m, n):\n",
    "    li.sort()\n",
    "    for i in range(m, n+1):\n",
    "        bi_ri = bisect.bisect_right(li, i)\n",
    "#         print(f'오른쪽 인덱스:{bi_ri}')\n",
    "        bi_le = bisect.bisect_left(li, i)\n",
    "#         print(f'왼쪽 인덱스:{bi_le}')\n",
    "        print(f'해당 리스트에서 {i}의 개수: {bi_ri - bi_le}')"
   ]
  },
  {
   "cell_type": "code",
   "execution_count": 5,
   "id": "2a665708",
   "metadata": {},
   "outputs": [
    {
     "name": "stdout",
     "output_type": "stream",
     "text": [
      "해당 리스트에서 4의 개수: 2\n"
     ]
    }
   ],
   "source": [
    "length_n(a, 4, 4)"
   ]
  },
  {
   "cell_type": "code",
   "execution_count": 6,
   "id": "739e10d7",
   "metadata": {},
   "outputs": [
    {
     "name": "stdout",
     "output_type": "stream",
     "text": [
      "해당 리스트에서 -1의 개수: 0\n",
      "해당 리스트에서 0의 개수: 0\n",
      "해당 리스트에서 1의 개수: 1\n",
      "해당 리스트에서 2의 개수: 1\n",
      "해당 리스트에서 3의 개수: 3\n"
     ]
    }
   ],
   "source": [
    "length_n(a, -1, 3)"
   ]
  },
  {
   "cell_type": "code",
   "execution_count": 20,
   "id": "35d75e7c",
   "metadata": {},
   "outputs": [],
   "source": [
    "import bisect\n",
    "\n",
    "def count_n(li, m , n):\n",
    "    li.sort()\n",
    "    bi_ri = bisect.bisect_right(li, n)\n",
    "    bi_le = bisect.bisect_left(li, m)\n",
    "    \n",
    "    return f'[{m}, {n}] 인덱스 범위에 있는 숫자의 개수: {bi_ri - bi_le}'"
   ]
  },
  {
   "cell_type": "code",
   "execution_count": 21,
   "id": "f7d10840",
   "metadata": {},
   "outputs": [
    {
     "data": {
      "text/plain": [
       "'[4, 4] 인덱스 범위에 있는 숫자의 개수: 2'"
      ]
     },
     "execution_count": 21,
     "metadata": {},
     "output_type": "execute_result"
    }
   ],
   "source": [
    "count_n(a, 4, 4)"
   ]
  },
  {
   "cell_type": "code",
   "execution_count": 22,
   "id": "497718d4",
   "metadata": {},
   "outputs": [
    {
     "data": {
      "text/plain": [
       "'[-1, 3] 인덱스 범위에 있는 숫자의 개수: 5'"
      ]
     },
     "execution_count": 22,
     "metadata": {},
     "output_type": "execute_result"
    }
   ],
   "source": [
    "count_n(a, -1, 3)"
   ]
  },
  {
   "cell_type": "markdown",
   "id": "2b6473b6",
   "metadata": {},
   "source": [
    "#### Q84.\n",
    "파이썬 collections 라이브러리를 활용하여 아래 문제들을 풀어보세요.<br>\n",
    "deque는 스택이나 큐의 기능을 모두 포함하며 스택 혹은 큐 자료구조의 대용으로 사용할 수 있다"
   ]
  },
  {
   "cell_type": "markdown",
   "id": "3daf444e",
   "metadata": {},
   "source": [
    "참고: https://velog.io/@ddusi/python-1"
   ]
  },
  {
   "cell_type": "markdown",
   "id": "d8edc16d",
   "metadata": {},
   "source": [
    "- 리스트 [2,3,4]에 첫번째 자리에는 1, 마지막 자리에는 5를 삽입하여 출력"
   ]
  },
  {
   "cell_type": "code",
   "execution_count": 38,
   "id": "56ef7163",
   "metadata": {},
   "outputs": [
    {
     "name": "stdout",
     "output_type": "stream",
     "text": [
      "deque([2, 3, 4, 5])\n",
      "deque([1, 2, 3, 4, 5])\n"
     ]
    }
   ],
   "source": [
    "import collections\n",
    "\n",
    "de = collections.deque([2,3,4])\n",
    "\n",
    "# 오른쪽에 5 추가\n",
    "de.append(5)\n",
    "print(de)\n",
    "\n",
    "# 왼쪽에 1 추가\n",
    "de.appendleft(1)\n",
    "print(de)"
   ]
  },
  {
   "cell_type": "markdown",
   "id": "3886ec24",
   "metadata": {},
   "source": [
    "- 리스트 [2,3,4]에서 2와 4를 삭제하고 1과 6을 삽입하여 리스트 [1,3,6]을 출력"
   ]
  },
  {
   "cell_type": "code",
   "execution_count": 44,
   "id": "a8476880",
   "metadata": {},
   "outputs": [
    {
     "name": "stdout",
     "output_type": "stream",
     "text": [
      "deque([3])\n",
      "deque([1, 3, 6])\n"
     ]
    }
   ],
   "source": [
    "de2 = collections.deque([2,3,4])\n",
    "\n",
    "# 2,4 삭제\n",
    "de2.pop()\n",
    "de2.popleft()\n",
    "print(de2)\n",
    "\n",
    "# 1,6 삽입\n",
    "de2.append(6)\n",
    "de2.appendleft(1)\n",
    "print(de2)"
   ]
  },
  {
   "cell_type": "markdown",
   "id": "2e37f878",
   "metadata": {},
   "source": [
    "- 리스트 ['red','blue','red','green','blue','blue']에서 'blue'와 'green'의 갯수를 출력"
   ]
  },
  {
   "cell_type": "code",
   "execution_count": 50,
   "id": "aec8ef85",
   "metadata": {},
   "outputs": [
    {
     "name": "stdout",
     "output_type": "stream",
     "text": [
      "red: 2, blue: 3, green: 1\n"
     ]
    }
   ],
   "source": [
    "li = ['red','blue','red','green','blue','blue']\n",
    "\n",
    "red_cnt, blue_cnt, green_cnt = 0, 0, 0\n",
    "while li:\n",
    "    a = li.pop()\n",
    "    if a == 'red':\n",
    "        red_cnt += 1\n",
    "    elif a == 'blue':\n",
    "        blue_cnt += 1\n",
    "    elif a == 'green':\n",
    "        green_cnt += 1\n",
    "        \n",
    "print(f'red: {red_cnt}, blue: {blue_cnt}, green: {green_cnt}')"
   ]
  },
  {
   "cell_type": "markdown",
   "id": "426eaaec",
   "metadata": {},
   "source": [
    "- 리스트 ['red','blue','red','green','blue','blue']에서 칼러별 개수를 사전 타입으로 출력"
   ]
  },
  {
   "cell_type": "code",
   "execution_count": 46,
   "id": "6227b780",
   "metadata": {},
   "outputs": [
    {
     "data": {
      "text/plain": [
       "Counter({'red': 2, 'blue': 3, 'green': 1})"
      ]
     },
     "execution_count": 46,
     "metadata": {},
     "output_type": "execute_result"
    }
   ],
   "source": [
    "from collections import Counter\n",
    "\n",
    "li = ['red','blue','red','green','blue','blue']\n",
    "\n",
    "Counter(li)"
   ]
  },
  {
   "cell_type": "markdown",
   "id": "e20cbdd2",
   "metadata": {},
   "source": [
    "#### Q85.\n",
    "파이썬 math 라이브러리를 활용하여 아래 문제들을 풀어보세요.\n",
    "- 10에 대한 팩토리얼, 제곱근, 최대 공약수 를 출력\n",
    "- pi, e 값 출력\n",
    "- 10의 3 제곱 출력\n",
    "- 2에 대한 지수함수 값 및 그 출력값에 로그함수를 적용한 결과 출력\n"
   ]
  },
  {
   "cell_type": "code",
   "execution_count": 11,
   "id": "ffe6de0a",
   "metadata": {
    "scrolled": true
   },
   "outputs": [
    {
     "name": "stdout",
     "output_type": "stream",
     "text": [
      "3628800\n",
      "3.1622776601683795\n",
      "5\n"
     ]
    }
   ],
   "source": [
    "from math import factorial, sqrt, gcd\n",
    "\n",
    "# 팩토리얼\n",
    "print(factorial(10))\n",
    "\n",
    "# 제곱근\n",
    "print(sqrt(10))\n",
    "\n",
    "# 최대공약수\n",
    "print(gcd(10, 15))"
   ]
  },
  {
   "cell_type": "code",
   "execution_count": 12,
   "id": "038c478e",
   "metadata": {},
   "outputs": [
    {
     "name": "stdout",
     "output_type": "stream",
     "text": [
      "3.141592653589793\n",
      "2.718281828459045\n"
     ]
    }
   ],
   "source": [
    "from math import pi, e\n",
    "\n",
    "# 파이\n",
    "print(pi)\n",
    "\n",
    "# e\n",
    "print(e)"
   ]
  },
  {
   "cell_type": "code",
   "execution_count": 13,
   "id": "8767e5ee",
   "metadata": {},
   "outputs": [
    {
     "name": "stdout",
     "output_type": "stream",
     "text": [
      "1000.0\n"
     ]
    }
   ],
   "source": [
    "from math import pow\n",
    "\n",
    "# 10의 세제곱\n",
    "print(pow(10,3))"
   ]
  },
  {
   "cell_type": "code",
   "execution_count": 16,
   "id": "4fc2668e",
   "metadata": {},
   "outputs": [
    {
     "name": "stdout",
     "output_type": "stream",
     "text": [
      "7.38905609893065\n",
      "2.0\n"
     ]
    }
   ],
   "source": [
    "from math import exp, log\n",
    "\n",
    "# 2의 지수함수\n",
    "print(exp(2))\n",
    "\n",
    "# 2의 지수함수에 로그값\n",
    "print(log(exp(2)))"
   ]
  },
  {
   "cell_type": "markdown",
   "id": "42333a18",
   "metadata": {},
   "source": [
    "#### Q. 86\n",
    "1 ~ 1000,000 사이의 홀수로 구성된 리스트에서 [1, 4, 9, 16, 25,... ]와 같이 구간 합을 구한다. 구간 합으로 구성된 리스트에서 n번째 원소에서 m번째 원소의 차이를 구하는 프로그램을 작성하고 n=10, m=5일때의 값을 구하세요."
   ]
  },
  {
   "cell_type": "markdown",
   "id": "665c42ad",
   "metadata": {},
   "source": [
    "순서\n",
    "- 1~100,000 사이에 홀수 생성\n",
    "- 인덱스 0을 제외한 모든 인덱스에 이전 인덱스와의 합으로 구성\n",
    "- 인덱스 n에 해당하는 값 - 인덱스 m에 해당하는 값"
   ]
  },
  {
   "cell_type": "code",
   "execution_count": 9,
   "id": "cb91615b",
   "metadata": {
    "scrolled": false
   },
   "outputs": [
    {
     "data": {
      "text/plain": [
       "75"
      ]
     },
     "execution_count": 9,
     "metadata": {},
     "output_type": "execute_result"
    }
   ],
   "source": [
    "# 1~1000000 구간합 리스트에서 해당 인덱스들의 차이를 구해주는 사용자함수 만들기\n",
    "\n",
    "def diff_odd(n, m):\n",
    "    # 1~1000000 사이 리스트\n",
    "    li = [i for i in range(1, 1000000, 2)]\n",
    "    \n",
    "    # 구간합 구해주기\n",
    "    for idx in range(len(li)):\n",
    "        if idx != 0:\n",
    "            li[idx] += li[idx - 1]\n",
    "    \n",
    "    return li[n-1] - li[m-1]\n",
    "\n",
    "\n",
    "# 확인\n",
    "diff_odd(10,5)"
   ]
  },
  {
   "cell_type": "markdown",
   "id": "83aa9286",
   "metadata": {},
   "source": [
    "#### Q87.\n",
    "각 자리가 숫자(0부터 9)로만 이루어진 문자열 S가 주어졌을 때 왼쪽부터 오른쪽으로 하나씩 모든 숫자를 확인하며 숫자 사이에 'x' 혹은 '+' 연산자를 넣어 결과적으로 만들어질 수 있는 가장 큰 수를 구하는 프로그램을 작성하세요. 출력된 수는 20억 이하여야함\n",
    "\n",
    "((((0+2) x 9) x 8) x 4) = 576\n"
   ]
  },
  {
   "cell_type": "markdown",
   "id": "292e2f7e",
   "metadata": {},
   "source": [
    "- 각자리가 숫자로 이루어진 문자열 입력\n",
    "- 숫자에 해당하는 글자를 정규표현식으로 추출\n",
    "- 0, 1은 더하기로 처리, 나머지(조합)는 20억 이하가 되도록 곱셈 처리"
   ]
  },
  {
   "cell_type": "code",
   "execution_count": 45,
   "id": "4a5df514",
   "metadata": {},
   "outputs": [
    {
     "name": "stdout",
     "output_type": "stream",
     "text": [
      ">> 숫자를 입력하세요print('+'*50)\n",
      "5 곱하기 완료! 5\n",
      "0 더하기 완료! 5\n"
     ]
    },
    {
     "data": {
      "text/plain": [
       "5"
      ]
     },
     "execution_count": 45,
     "metadata": {},
     "output_type": "execute_result"
    }
   ],
   "source": [
    "import re\n",
    "from math import pow\n",
    "\n",
    "n = input('>> 숫자를 입력하세요')\n",
    "\n",
    "def max_comb(n):\n",
    "    # 숫자 역정렬\n",
    "    num_li = sorted([int(i) for i in re.findall('\\d',n)], reverse = True)\n",
    "    \n",
    "    \n",
    "    # 상한선 지정\n",
    "    range_num = 2 * pow(10, 9)\n",
    "    \n",
    "    \n",
    "    # 최대 조합 선정\n",
    "    total_num = 1\n",
    "    for num in num_li:\n",
    "        \n",
    "        # 0,1이 아니고 곱한 값이 20억을 넘지 않는다면 곱하기\n",
    "        if num not in [0,1] and num * total_num < range_num:\n",
    "            total_num *= num\n",
    "            print(f'{num} 곱하기 완료! {total_num}')\n",
    "\n",
    "        # 나머지는 더하기\n",
    "        else:\n",
    "            total_num += num\n",
    "            print(f'{num} 더하기 완료! {total_num}')\n",
    "    \n",
    "    return total_num\n",
    "\n",
    "max_comb(n)\n",
    "# 예시: 99999999999999999"
   ]
  },
  {
   "cell_type": "markdown",
   "id": "eec2c5d4",
   "metadata": {},
   "source": [
    "#### Q88.\n",
    "\n",
    "공포도가 높은 모험가는 쉽게 공포를 느껴 위험 상황에서 제대로 대처할 능력이 떨어진다. 모험가 그룹을 안전하게 구성하고자 공포도가 X인 모험가는 반드시 X명 이상으로 구성한 모험가 그룹에 참여해야 여행을 떠날 수 있도록 규정한다.N명의 모험가에 대한 정보가 주어졌을 때 여행을 떠날 수 있는 그룹 수의 최댓값을 구하는 프로그램을 작성하세요.\n",
    "\n",
    "N = 5   첫째줄에 모험가 수 이 주어짐<BR> \n",
    "2 3 1 2 2   둘째줄에 각 모험가의 공포도의 값이 N이하의 자연수로 주어진다<BR>\n",
    "출력 : 그룹 수 최댓값 2\n"
   ]
  },
  {
   "cell_type": "code",
   "execution_count": null,
   "id": "da70163b",
   "metadata": {},
   "outputs": [],
   "source": []
  },
  {
   "cell_type": "markdown",
   "id": "3d49b3a1",
   "metadata": {},
   "source": [
    "#### Q89.\n",
    "<스태킹문제><br>\n",
    "0과 1로만 이루어진 문자열 S가 있다. 문자 S에 있는 모든 숫자를 전부 같게 만들려고 한다. 허용된 행동은 S에서 연속된 하나 이상의 숫자를 잡고 모두 뒤집는 것이다. 주어진 입력조건하에서 모두 같은 숫자로 만들기 위한 행동의 최소 횟수를 출력하세요.\n",
    "- 입력 : 첫째 줄에 0과 1로만 이루어진 문자열 S가 주어지고 S는 100만보다 작다.\n",
    "- 예시: 100011 -> 1번, 101010 -> 3번\n"
   ]
  },
  {
   "cell_type": "code",
   "execution_count": 11,
   "id": "9589799a",
   "metadata": {},
   "outputs": [
    {
     "name": "stdout",
     "output_type": "stream",
     "text": [
      ">>0과 1로만 이루어진 문자열을 입력해주세요.1010101\n",
      ">>0과 1로만 이루어진 문자열을 입력해주세요.101000\n"
     ]
    },
    {
     "data": {
      "text/plain": [
       "2"
      ]
     },
     "execution_count": 11,
     "metadata": {},
     "output_type": "execute_result"
    }
   ],
   "source": [
    "def minimum_span():\n",
    "    while True:\n",
    "        s = input('>>0과 1로만 이루어진 문자열을 입력해주세요.')\n",
    "        if int(s) < 1000000 and set([i for i in s]) == {'0','1'}:\n",
    "            break\n",
    "\n",
    "    change = s[0]\n",
    "    cnt = 0\n",
    "    for i in range(len(s)-1):\n",
    "        if s[i] != s[i+1]:\n",
    "            change = s[i+1]\n",
    "            cnt += 1\n",
    "\n",
    "    if cnt % 2 == 1:\n",
    "        cnt = cnt//2 + 1\n",
    "    else:\n",
    "        cnt = cnt//2\n",
    "        \n",
    "    return cnt\n",
    "\n",
    "\n",
    "minimum_span()"
   ]
  },
  {
   "cell_type": "markdown",
   "id": "262c5573",
   "metadata": {},
   "source": [
    "#### Q90.\n",
    "N개의 동전을 이용하여 만들 수 없는 양의 정수 금액 중 최솟값을 구하는 프로그램을 작성하세요.\n",
    "\n",
    "<입력 조건>\n",
    "\n",
    "첫째 줄에는 동전의 개수를 나타내는 양의 정수 N이 주어진다 (1<=N<=1,000)\n",
    "둘째 줄에는 각 동전의 화폐 단위를 나타내는 N개의 자연수가 주어지며 각 자연수는 공백으로 구분한다. (각 화폐단위는 1,000,000 이하)\n"
   ]
  },
  {
   "cell_type": "markdown",
   "id": "d4a9bba1",
   "metadata": {},
   "source": [
    "```\n",
    "INPUT:\n",
    "N = 5\n",
    "화폐 = 1 2 3 4 5 \n",
    "\n",
    "OUTPUT:\n",
    "16\n",
    "```"
   ]
  },
  {
   "cell_type": "markdown",
   "id": "2edb6a00",
   "metadata": {},
   "source": [
    "1. 모든 조합으로 더한 리스트 생성\n",
    "2. while문을 한 번 돌 때, 0부터 하나씩 더하고 값이 일치하면 멈춤 "
   ]
  },
  {
   "cell_type": "code",
   "execution_count": 5,
   "id": "56a27f88",
   "metadata": {},
   "outputs": [
    {
     "name": "stdout",
     "output_type": "stream",
     "text": [
      ">> 동전 개수 입력하시오.5\n",
      ">> 5개의 화폐 단위 입력하시오.1 2 3 4 5\n"
     ]
    },
    {
     "data": {
      "text/plain": [
       "16"
      ]
     },
     "execution_count": 5,
     "metadata": {},
     "output_type": "execute_result"
    }
   ],
   "source": [
    "from itertools import combinations as comb\n",
    "\n",
    "n = int(input('>> 동전 개수 입력하시오.'))\n",
    "coins = list(map(int, input(f'>> {n}개의 화폐 단위 입력하시오.').split()))\n",
    "\n",
    "def minimum_coin(n, coins):\n",
    "    total = []\n",
    "    for i in range(1, n+1):\n",
    "        total += [sum(i) for i in list(comb(coins,i))]\n",
    "\n",
    "    cnt = 1\n",
    "    while True:\n",
    "        if cnt in total:\n",
    "            cnt += 1 \n",
    "            pass \n",
    "    \n",
    "        else:\n",
    "            return(cnt)\n",
    "            \n",
    "            \n",
    "minimum_coin(n, coins)"
   ]
  },
  {
   "cell_type": "code",
   "execution_count": 6,
   "id": "ea2e71a1",
   "metadata": {},
   "outputs": [],
   "source": [
    "n = int(input('>> 동전 개수 입력하시오.'))\n",
    "coins = list(map(int, input(f'>> {n}개의 화폐 단위 입력하시오.').split()))\n",
    "\n",
    "def minimum_coin2(n, coin):\n",
    "    cnt = 1\n",
    "    for i in sorted(coins):\n",
    "        if i > cnt:\n",
    "            return(cnt)\n",
    "        else:\n",
    "            cnt += 1\n",
    "        \n",
    "minimum_coin2(n, coins)"
   ]
  },
  {
   "cell_type": "markdown",
   "id": "07248319",
   "metadata": {},
   "source": [
    "#### Q91.\n",
    "클래스 Country와 Korea를 완성하여 아래와 같이 출력하세요.\n",
    "단, obj = Korea('한국',5,'서울')을 만들어서 활용"
   ]
  },
  {
   "cell_type": "markdown",
   "id": "793c747c",
   "metadata": {},
   "source": [
    "```\n",
    "class Country:\n",
    "    def __init__(self, name, pop, capital):\n",
    "\n",
    "\n",
    "class Korea(Country):\n",
    "    \n",
    "    \n",
    "[출력]\n",
    "한국 인구는 5천만명이며 수도는 서울입니다.\n",
    "1인당 gnp는 USD 3만입니다.\n",
    "\n",
    "미국 인구는 30천만명이며, 수도는 워싱턴입니다.\n",
    "1인당 gnp는 USD 5만입니다.\n",
    "\n",
    "```"
   ]
  },
  {
   "cell_type": "code",
   "execution_count": 51,
   "id": "059a7816",
   "metadata": {},
   "outputs": [],
   "source": [
    "class Country:\n",
    "    def __init__(self, name, pop, capital):\n",
    "        self.name = name\n",
    "        self.pop = pop\n",
    "        self.capital = capital        \n",
    "\n",
    "class Korea(Country):\n",
    "    def __init__(self, name, pop, capital, gnp):\n",
    "        super().__init__(name, pop, capital)\n",
    "        self.gnp = gnp\n",
    "        \n",
    "    def print_(self):\n",
    "        return(f'{self.name} 인구는 {self.pop}천명이며, 수도는 {self.capital}입니다. 1인당 gnp는 USD {self.gnp}만입니다.')"
   ]
  },
  {
   "cell_type": "code",
   "execution_count": 50,
   "id": "eecc2082",
   "metadata": {},
   "outputs": [
    {
     "data": {
      "text/plain": [
       "'한국 인구는 5천명이며, 수도는 서울입니다. 1인당 gnp는 3만입니다.'"
      ]
     },
     "execution_count": 50,
     "metadata": {},
     "output_type": "execute_result"
    }
   ],
   "source": [
    "Korea('한국','5','서울','3').print_()"
   ]
  },
  {
   "cell_type": "code",
   "execution_count": 59,
   "id": "2997c911",
   "metadata": {},
   "outputs": [
    {
     "name": "stdout",
     "output_type": "stream",
     "text": [
      "한국 인구는 3천만명이며, 수도는 서울 입니다.\n",
      "1인당 gnp는 3만입니다.\n"
     ]
    },
    {
     "data": {
      "text/plain": [
       "<__main__.Korea at 0x1e4f70e9ee0>"
      ]
     },
     "execution_count": 59,
     "metadata": {},
     "output_type": "execute_result"
    }
   ],
   "source": [
    "class Country:\n",
    "    def __init__(self, name, pop, capital):\n",
    "        self.name = name\n",
    "        self.pop = pop\n",
    "        self.capital = capital\n",
    "        print(f'{name} 인구는 {pop}천만명이며, 수도는 {capital} 입니다.')\n",
    "        \n",
    "class Korea(Country):\n",
    "    def __init__(self, name, pop, capital, gnp):\n",
    "        super().__init__(name, pop, capital)\n",
    "        self.gnp = gnp\n",
    "        print(f'1인당 gnp는 {gnp}만입니다.')\n",
    "        \n",
    "        \n",
    "Korea('한국','3','서울','3')"
   ]
  },
  {
   "cell_type": "markdown",
   "id": "f99fa811",
   "metadata": {},
   "source": [
    "#### Q 92. 사칙연산 기능을 포함한 모듈을 작성 후 임포트해서 사칙연산을 수행하세요."
   ]
  },
  {
   "cell_type": "code",
   "execution_count": null,
   "id": "d86363d1",
   "metadata": {},
   "outputs": [],
   "source": []
  },
  {
   "cell_type": "markdown",
   "id": "805dd709",
   "metadata": {},
   "source": [
    "#### Q 93. player가 3승할때까지 계속하는 가위바위보 프로그램 "
   ]
  },
  {
   "cell_type": "code",
   "execution_count": null,
   "id": "dea5408c",
   "metadata": {},
   "outputs": [],
   "source": []
  },
  {
   "cell_type": "markdown",
   "id": "ecdbd3d3",
   "metadata": {},
   "source": [
    "#### Q94. join() 메소드는 두 데이터프레임의 행 인덱스를 기준으로 결합한다. 2개의 주식데이터를 가져와서 join() 메소드로 아래와 같이 결합한 후 다음 사항을 수행하세요."
   ]
  },
  {
   "cell_type": "code",
   "execution_count": 1,
   "id": "3991151a",
   "metadata": {},
   "outputs": [
    {
     "data": {
      "text/html": [
       "<div>\n",
       "<style scoped>\n",
       "    .dataframe tbody tr th:only-of-type {\n",
       "        vertical-align: middle;\n",
       "    }\n",
       "\n",
       "    .dataframe tbody tr th {\n",
       "        vertical-align: top;\n",
       "    }\n",
       "\n",
       "    .dataframe thead th {\n",
       "        text-align: right;\n",
       "    }\n",
       "</style>\n",
       "<table border=\"1\" class=\"dataframe\">\n",
       "  <thead>\n",
       "    <tr style=\"text-align: right;\">\n",
       "      <th></th>\n",
       "      <th>stock_name</th>\n",
       "      <th>value</th>\n",
       "      <th>price</th>\n",
       "    </tr>\n",
       "    <tr>\n",
       "      <th>id</th>\n",
       "      <th></th>\n",
       "      <th></th>\n",
       "      <th></th>\n",
       "    </tr>\n",
       "  </thead>\n",
       "  <tbody>\n",
       "    <tr>\n",
       "      <th>128940</th>\n",
       "      <td>한미약품</td>\n",
       "      <td>59385.666667</td>\n",
       "      <td>421000</td>\n",
       "    </tr>\n",
       "    <tr>\n",
       "      <th>130960</th>\n",
       "      <td>CJ E&amp;M</td>\n",
       "      <td>58540.666667</td>\n",
       "      <td>98900</td>\n",
       "    </tr>\n",
       "    <tr>\n",
       "      <th>138250</th>\n",
       "      <td>엔에스쇼핑</td>\n",
       "      <td>14558.666667</td>\n",
       "      <td>13200</td>\n",
       "    </tr>\n",
       "    <tr>\n",
       "      <th>139480</th>\n",
       "      <td>이마트</td>\n",
       "      <td>239230.833333</td>\n",
       "      <td>254500</td>\n",
       "    </tr>\n",
       "    <tr>\n",
       "      <th>142280</th>\n",
       "      <td>녹십자엠에스</td>\n",
       "      <td>468.833333</td>\n",
       "      <td>10200</td>\n",
       "    </tr>\n",
       "    <tr>\n",
       "      <th>145990</th>\n",
       "      <td>삼양사</td>\n",
       "      <td>82750.000000</td>\n",
       "      <td>82000</td>\n",
       "    </tr>\n",
       "    <tr>\n",
       "      <th>185750</th>\n",
       "      <td>종근당</td>\n",
       "      <td>40293.666667</td>\n",
       "      <td>100500</td>\n",
       "    </tr>\n",
       "    <tr>\n",
       "      <th>192400</th>\n",
       "      <td>쿠쿠홀딩스</td>\n",
       "      <td>179204.666667</td>\n",
       "      <td>177500</td>\n",
       "    </tr>\n",
       "    <tr>\n",
       "      <th>199800</th>\n",
       "      <td>툴젠</td>\n",
       "      <td>-2514.333333</td>\n",
       "      <td>115400</td>\n",
       "    </tr>\n",
       "    <tr>\n",
       "      <th>204210</th>\n",
       "      <td>모두투어리츠</td>\n",
       "      <td>3093.333333</td>\n",
       "      <td>3475</td>\n",
       "    </tr>\n",
       "  </tbody>\n",
       "</table>\n",
       "</div>"
      ],
      "text/plain": [
       "       stock_name          value   price\n",
       "id                                      \n",
       "128940       한미약품   59385.666667  421000\n",
       "130960     CJ E&M   58540.666667   98900\n",
       "138250      엔에스쇼핑   14558.666667   13200\n",
       "139480        이마트  239230.833333  254500\n",
       "142280     녹십자엠에스     468.833333   10200\n",
       "145990        삼양사   82750.000000   82000\n",
       "185750        종근당   40293.666667  100500\n",
       "192400      쿠쿠홀딩스  179204.666667  177500\n",
       "199800         툴젠   -2514.333333  115400\n",
       "204210     모두투어리츠    3093.333333    3475"
      ]
     },
     "metadata": {},
     "output_type": "display_data"
    },
    {
     "data": {
      "text/html": [
       "<div>\n",
       "<style scoped>\n",
       "    .dataframe tbody tr th:only-of-type {\n",
       "        vertical-align: middle;\n",
       "    }\n",
       "\n",
       "    .dataframe tbody tr th {\n",
       "        vertical-align: top;\n",
       "    }\n",
       "\n",
       "    .dataframe thead th {\n",
       "        text-align: right;\n",
       "    }\n",
       "</style>\n",
       "<table border=\"1\" class=\"dataframe\">\n",
       "  <thead>\n",
       "    <tr style=\"text-align: right;\">\n",
       "      <th></th>\n",
       "      <th>name</th>\n",
       "      <th>eps</th>\n",
       "      <th>bps</th>\n",
       "      <th>per</th>\n",
       "      <th>pbr</th>\n",
       "    </tr>\n",
       "    <tr>\n",
       "      <th>id</th>\n",
       "      <th></th>\n",
       "      <th></th>\n",
       "      <th></th>\n",
       "      <th></th>\n",
       "      <th></th>\n",
       "    </tr>\n",
       "  </thead>\n",
       "  <tbody>\n",
       "    <tr>\n",
       "      <th>130960</th>\n",
       "      <td>CJ E&amp;M</td>\n",
       "      <td>6301.333333</td>\n",
       "      <td>54068</td>\n",
       "      <td>15.695091</td>\n",
       "      <td>1.829178</td>\n",
       "    </tr>\n",
       "    <tr>\n",
       "      <th>136480</th>\n",
       "      <td>하림</td>\n",
       "      <td>274.166667</td>\n",
       "      <td>3551</td>\n",
       "      <td>11.489362</td>\n",
       "      <td>0.887074</td>\n",
       "    </tr>\n",
       "    <tr>\n",
       "      <th>138040</th>\n",
       "      <td>메리츠금융지주</td>\n",
       "      <td>2122.333333</td>\n",
       "      <td>14894</td>\n",
       "      <td>6.313806</td>\n",
       "      <td>0.899691</td>\n",
       "    </tr>\n",
       "    <tr>\n",
       "      <th>139480</th>\n",
       "      <td>이마트</td>\n",
       "      <td>18268.166667</td>\n",
       "      <td>295780</td>\n",
       "      <td>13.931338</td>\n",
       "      <td>0.860437</td>\n",
       "    </tr>\n",
       "    <tr>\n",
       "      <th>145990</th>\n",
       "      <td>삼양사</td>\n",
       "      <td>5741.000000</td>\n",
       "      <td>108090</td>\n",
       "      <td>14.283226</td>\n",
       "      <td>0.758627</td>\n",
       "    </tr>\n",
       "    <tr>\n",
       "      <th>161390</th>\n",
       "      <td>한국타이어</td>\n",
       "      <td>5648.500000</td>\n",
       "      <td>51341</td>\n",
       "      <td>7.453306</td>\n",
       "      <td>0.820007</td>\n",
       "    </tr>\n",
       "    <tr>\n",
       "      <th>181710</th>\n",
       "      <td>NHN엔터테인먼트</td>\n",
       "      <td>2110.166667</td>\n",
       "      <td>78434</td>\n",
       "      <td>30.755864</td>\n",
       "      <td>0.827447</td>\n",
       "    </tr>\n",
       "    <tr>\n",
       "      <th>185750</th>\n",
       "      <td>종근당</td>\n",
       "      <td>3990.333333</td>\n",
       "      <td>40684</td>\n",
       "      <td>25.185866</td>\n",
       "      <td>2.470259</td>\n",
       "    </tr>\n",
       "    <tr>\n",
       "      <th>204210</th>\n",
       "      <td>모두투어리츠</td>\n",
       "      <td>85.166667</td>\n",
       "      <td>5335</td>\n",
       "      <td>40.802348</td>\n",
       "      <td>0.651359</td>\n",
       "    </tr>\n",
       "    <tr>\n",
       "      <th>207940</th>\n",
       "      <td>삼성바이오로직스</td>\n",
       "      <td>4644.166667</td>\n",
       "      <td>60099</td>\n",
       "      <td>89.790059</td>\n",
       "      <td>6.938551</td>\n",
       "    </tr>\n",
       "  </tbody>\n",
       "</table>\n",
       "</div>"
      ],
      "text/plain": [
       "             name           eps     bps        per       pbr\n",
       "id                                                          \n",
       "130960     CJ E&M   6301.333333   54068  15.695091  1.829178\n",
       "136480         하림    274.166667    3551  11.489362  0.887074\n",
       "138040    메리츠금융지주   2122.333333   14894   6.313806  0.899691\n",
       "139480        이마트  18268.166667  295780  13.931338  0.860437\n",
       "145990        삼양사   5741.000000  108090  14.283226  0.758627\n",
       "161390      한국타이어   5648.500000   51341   7.453306  0.820007\n",
       "181710  NHN엔터테인먼트   2110.166667   78434  30.755864  0.827447\n",
       "185750        종근당   3990.333333   40684  25.185866  2.470259\n",
       "204210     모두투어리츠     85.166667    5335  40.802348  0.651359\n",
       "207940   삼성바이오로직스   4644.166667   60099  89.790059  6.938551"
      ]
     },
     "metadata": {},
     "output_type": "display_data"
    }
   ],
   "source": [
    "import pandas as pd\n",
    "df1 = pd.read_excel('stock_price.xlsx', index_col = 'id')\n",
    "df2 = pd.read_excel('stock valuation.xlsx', index_col = 'id')\n",
    "\n",
    "display(df1)\n",
    "display(df2)"
   ]
  },
  {
   "cell_type": "markdown",
   "id": "e6dcb5ca",
   "metadata": {},
   "source": [
    "- df1과 df2의 교집합만 출력되도록 결합하여 df3에 저장하고 출력"
   ]
  },
  {
   "cell_type": "markdown",
   "id": "d1cf9431",
   "metadata": {},
   "source": [
    "##### 방법1"
   ]
  },
  {
   "cell_type": "code",
   "execution_count": 2,
   "id": "538311f0",
   "metadata": {},
   "outputs": [
    {
     "data": {
      "text/html": [
       "<div>\n",
       "<style scoped>\n",
       "    .dataframe tbody tr th:only-of-type {\n",
       "        vertical-align: middle;\n",
       "    }\n",
       "\n",
       "    .dataframe tbody tr th {\n",
       "        vertical-align: top;\n",
       "    }\n",
       "\n",
       "    .dataframe thead th {\n",
       "        text-align: right;\n",
       "    }\n",
       "</style>\n",
       "<table border=\"1\" class=\"dataframe\">\n",
       "  <thead>\n",
       "    <tr style=\"text-align: right;\">\n",
       "      <th></th>\n",
       "      <th>stock_name</th>\n",
       "      <th>value</th>\n",
       "      <th>price</th>\n",
       "      <th>name</th>\n",
       "      <th>eps</th>\n",
       "      <th>bps</th>\n",
       "      <th>per</th>\n",
       "      <th>pbr</th>\n",
       "    </tr>\n",
       "    <tr>\n",
       "      <th>id</th>\n",
       "      <th></th>\n",
       "      <th></th>\n",
       "      <th></th>\n",
       "      <th></th>\n",
       "      <th></th>\n",
       "      <th></th>\n",
       "      <th></th>\n",
       "      <th></th>\n",
       "    </tr>\n",
       "  </thead>\n",
       "  <tbody>\n",
       "    <tr>\n",
       "      <th>130960</th>\n",
       "      <td>CJ E&amp;M</td>\n",
       "      <td>58540.666667</td>\n",
       "      <td>98900</td>\n",
       "      <td>CJ E&amp;M</td>\n",
       "      <td>6301.333333</td>\n",
       "      <td>54068</td>\n",
       "      <td>15.695091</td>\n",
       "      <td>1.829178</td>\n",
       "    </tr>\n",
       "    <tr>\n",
       "      <th>139480</th>\n",
       "      <td>이마트</td>\n",
       "      <td>239230.833333</td>\n",
       "      <td>254500</td>\n",
       "      <td>이마트</td>\n",
       "      <td>18268.166667</td>\n",
       "      <td>295780</td>\n",
       "      <td>13.931338</td>\n",
       "      <td>0.860437</td>\n",
       "    </tr>\n",
       "    <tr>\n",
       "      <th>145990</th>\n",
       "      <td>삼양사</td>\n",
       "      <td>82750.000000</td>\n",
       "      <td>82000</td>\n",
       "      <td>삼양사</td>\n",
       "      <td>5741.000000</td>\n",
       "      <td>108090</td>\n",
       "      <td>14.283226</td>\n",
       "      <td>0.758627</td>\n",
       "    </tr>\n",
       "    <tr>\n",
       "      <th>185750</th>\n",
       "      <td>종근당</td>\n",
       "      <td>40293.666667</td>\n",
       "      <td>100500</td>\n",
       "      <td>종근당</td>\n",
       "      <td>3990.333333</td>\n",
       "      <td>40684</td>\n",
       "      <td>25.185866</td>\n",
       "      <td>2.470259</td>\n",
       "    </tr>\n",
       "    <tr>\n",
       "      <th>204210</th>\n",
       "      <td>모두투어리츠</td>\n",
       "      <td>3093.333333</td>\n",
       "      <td>3475</td>\n",
       "      <td>모두투어리츠</td>\n",
       "      <td>85.166667</td>\n",
       "      <td>5335</td>\n",
       "      <td>40.802348</td>\n",
       "      <td>0.651359</td>\n",
       "    </tr>\n",
       "  </tbody>\n",
       "</table>\n",
       "</div>"
      ],
      "text/plain": [
       "       stock_name          value   price    name           eps     bps  \\\n",
       "id                                                                       \n",
       "130960     CJ E&M   58540.666667   98900  CJ E&M   6301.333333   54068   \n",
       "139480        이마트  239230.833333  254500     이마트  18268.166667  295780   \n",
       "145990        삼양사   82750.000000   82000     삼양사   5741.000000  108090   \n",
       "185750        종근당   40293.666667  100500     종근당   3990.333333   40684   \n",
       "204210     모두투어리츠    3093.333333    3475  모두투어리츠     85.166667    5335   \n",
       "\n",
       "              per       pbr  \n",
       "id                           \n",
       "130960  15.695091  1.829178  \n",
       "139480  13.931338  0.860437  \n",
       "145990  14.283226  0.758627  \n",
       "185750  25.185866  2.470259  \n",
       "204210  40.802348  0.651359  "
      ]
     },
     "execution_count": 2,
     "metadata": {},
     "output_type": "execute_result"
    }
   ],
   "source": [
    "df3 = pd.merge(df1, df2, on = 'id',how = 'inner')\n",
    "df3"
   ]
  },
  {
   "cell_type": "markdown",
   "id": "1a456029",
   "metadata": {},
   "source": [
    "##### 방법2"
   ]
  },
  {
   "cell_type": "code",
   "execution_count": 3,
   "id": "183f005d",
   "metadata": {},
   "outputs": [
    {
     "data": {
      "text/html": [
       "<div>\n",
       "<style scoped>\n",
       "    .dataframe tbody tr th:only-of-type {\n",
       "        vertical-align: middle;\n",
       "    }\n",
       "\n",
       "    .dataframe tbody tr th {\n",
       "        vertical-align: top;\n",
       "    }\n",
       "\n",
       "    .dataframe thead th {\n",
       "        text-align: right;\n",
       "    }\n",
       "</style>\n",
       "<table border=\"1\" class=\"dataframe\">\n",
       "  <thead>\n",
       "    <tr style=\"text-align: right;\">\n",
       "      <th></th>\n",
       "      <th>stock_name</th>\n",
       "      <th>value</th>\n",
       "      <th>price</th>\n",
       "      <th>name</th>\n",
       "      <th>eps</th>\n",
       "      <th>bps</th>\n",
       "      <th>per</th>\n",
       "      <th>pbr</th>\n",
       "    </tr>\n",
       "  </thead>\n",
       "  <tbody>\n",
       "    <tr>\n",
       "      <th>0</th>\n",
       "      <td>CJ E&amp;M</td>\n",
       "      <td>58540.666667</td>\n",
       "      <td>98900</td>\n",
       "      <td>CJ E&amp;M</td>\n",
       "      <td>6301.333333</td>\n",
       "      <td>54068</td>\n",
       "      <td>15.695091</td>\n",
       "      <td>1.829178</td>\n",
       "    </tr>\n",
       "    <tr>\n",
       "      <th>1</th>\n",
       "      <td>이마트</td>\n",
       "      <td>239230.833333</td>\n",
       "      <td>254500</td>\n",
       "      <td>이마트</td>\n",
       "      <td>18268.166667</td>\n",
       "      <td>295780</td>\n",
       "      <td>13.931338</td>\n",
       "      <td>0.860437</td>\n",
       "    </tr>\n",
       "    <tr>\n",
       "      <th>2</th>\n",
       "      <td>삼양사</td>\n",
       "      <td>82750.000000</td>\n",
       "      <td>82000</td>\n",
       "      <td>삼양사</td>\n",
       "      <td>5741.000000</td>\n",
       "      <td>108090</td>\n",
       "      <td>14.283226</td>\n",
       "      <td>0.758627</td>\n",
       "    </tr>\n",
       "    <tr>\n",
       "      <th>3</th>\n",
       "      <td>종근당</td>\n",
       "      <td>40293.666667</td>\n",
       "      <td>100500</td>\n",
       "      <td>종근당</td>\n",
       "      <td>3990.333333</td>\n",
       "      <td>40684</td>\n",
       "      <td>25.185866</td>\n",
       "      <td>2.470259</td>\n",
       "    </tr>\n",
       "    <tr>\n",
       "      <th>4</th>\n",
       "      <td>모두투어리츠</td>\n",
       "      <td>3093.333333</td>\n",
       "      <td>3475</td>\n",
       "      <td>모두투어리츠</td>\n",
       "      <td>85.166667</td>\n",
       "      <td>5335</td>\n",
       "      <td>40.802348</td>\n",
       "      <td>0.651359</td>\n",
       "    </tr>\n",
       "  </tbody>\n",
       "</table>\n",
       "</div>"
      ],
      "text/plain": [
       "  stock_name          value   price    name           eps     bps        per  \\\n",
       "0     CJ E&M   58540.666667   98900  CJ E&M   6301.333333   54068  15.695091   \n",
       "1        이마트  239230.833333  254500     이마트  18268.166667  295780  13.931338   \n",
       "2        삼양사   82750.000000   82000     삼양사   5741.000000  108090  14.283226   \n",
       "3        종근당   40293.666667  100500     종근당   3990.333333   40684  25.185866   \n",
       "4     모두투어리츠    3093.333333    3475  모두투어리츠     85.166667    5335  40.802348   \n",
       "\n",
       "        pbr  \n",
       "0  1.829178  \n",
       "1  0.860437  \n",
       "2  0.758627  \n",
       "3  2.470259  \n",
       "4  0.651359  "
      ]
     },
     "execution_count": 3,
     "metadata": {},
     "output_type": "execute_result"
    }
   ],
   "source": [
    "df3 = pd.merge(df1, df2, left_on = 'stock_name', right_on = 'name',how = 'inner')\n",
    "df3"
   ]
  },
  {
   "cell_type": "markdown",
   "id": "9b58dd9a",
   "metadata": {},
   "source": [
    "- df3에서 중복된 칼럼을 삭제한 후 블린 인덱싱을 이용하여 eps가 3000 보다 적거나 stock_name이 이마트인 데이터를 선택하여 데이터프레임을 생성하고 df4 이름으로 저장 및 출력하세요.(단, '<' 와 '==' 를 반드시 사용해야 함)"
   ]
  },
  {
   "cell_type": "code",
   "execution_count": 13,
   "id": "e17e8d9a",
   "metadata": {},
   "outputs": [
    {
     "data": {
      "text/html": [
       "<div>\n",
       "<style scoped>\n",
       "    .dataframe tbody tr th:only-of-type {\n",
       "        vertical-align: middle;\n",
       "    }\n",
       "\n",
       "    .dataframe tbody tr th {\n",
       "        vertical-align: top;\n",
       "    }\n",
       "\n",
       "    .dataframe thead th {\n",
       "        text-align: right;\n",
       "    }\n",
       "</style>\n",
       "<table border=\"1\" class=\"dataframe\">\n",
       "  <thead>\n",
       "    <tr style=\"text-align: right;\">\n",
       "      <th></th>\n",
       "      <th>stock_name</th>\n",
       "      <th>value</th>\n",
       "      <th>price</th>\n",
       "      <th>name</th>\n",
       "      <th>eps</th>\n",
       "      <th>bps</th>\n",
       "      <th>per</th>\n",
       "      <th>pbr</th>\n",
       "    </tr>\n",
       "  </thead>\n",
       "  <tbody>\n",
       "    <tr>\n",
       "      <th>0</th>\n",
       "      <td>CJ E&amp;M</td>\n",
       "      <td>58540.666667</td>\n",
       "      <td>98900</td>\n",
       "      <td>CJ E&amp;M</td>\n",
       "      <td>6301.333333</td>\n",
       "      <td>54068</td>\n",
       "      <td>15.695091</td>\n",
       "      <td>1.829178</td>\n",
       "    </tr>\n",
       "    <tr>\n",
       "      <th>1</th>\n",
       "      <td>이마트</td>\n",
       "      <td>239230.833333</td>\n",
       "      <td>254500</td>\n",
       "      <td>이마트</td>\n",
       "      <td>18268.166667</td>\n",
       "      <td>295780</td>\n",
       "      <td>13.931338</td>\n",
       "      <td>0.860437</td>\n",
       "    </tr>\n",
       "    <tr>\n",
       "      <th>2</th>\n",
       "      <td>삼양사</td>\n",
       "      <td>82750.000000</td>\n",
       "      <td>82000</td>\n",
       "      <td>삼양사</td>\n",
       "      <td>5741.000000</td>\n",
       "      <td>108090</td>\n",
       "      <td>14.283226</td>\n",
       "      <td>0.758627</td>\n",
       "    </tr>\n",
       "    <tr>\n",
       "      <th>3</th>\n",
       "      <td>종근당</td>\n",
       "      <td>40293.666667</td>\n",
       "      <td>100500</td>\n",
       "      <td>종근당</td>\n",
       "      <td>3990.333333</td>\n",
       "      <td>40684</td>\n",
       "      <td>25.185866</td>\n",
       "      <td>2.470259</td>\n",
       "    </tr>\n",
       "    <tr>\n",
       "      <th>4</th>\n",
       "      <td>모두투어리츠</td>\n",
       "      <td>3093.333333</td>\n",
       "      <td>3475</td>\n",
       "      <td>모두투어리츠</td>\n",
       "      <td>85.166667</td>\n",
       "      <td>5335</td>\n",
       "      <td>40.802348</td>\n",
       "      <td>0.651359</td>\n",
       "    </tr>\n",
       "  </tbody>\n",
       "</table>\n",
       "</div>"
      ],
      "text/plain": [
       "  stock_name          value   price    name           eps     bps        per  \\\n",
       "0     CJ E&M   58540.666667   98900  CJ E&M   6301.333333   54068  15.695091   \n",
       "1        이마트  239230.833333  254500     이마트  18268.166667  295780  13.931338   \n",
       "2        삼양사   82750.000000   82000     삼양사   5741.000000  108090  14.283226   \n",
       "3        종근당   40293.666667  100500     종근당   3990.333333   40684  25.185866   \n",
       "4     모두투어리츠    3093.333333    3475  모두투어리츠     85.166667    5335  40.802348   \n",
       "\n",
       "        pbr  \n",
       "0  1.829178  \n",
       "1  0.860437  \n",
       "2  0.758627  \n",
       "3  2.470259  \n",
       "4  0.651359  "
      ]
     },
     "metadata": {},
     "output_type": "display_data"
    },
    {
     "data": {
      "text/html": [
       "<div>\n",
       "<style scoped>\n",
       "    .dataframe tbody tr th:only-of-type {\n",
       "        vertical-align: middle;\n",
       "    }\n",
       "\n",
       "    .dataframe tbody tr th {\n",
       "        vertical-align: top;\n",
       "    }\n",
       "\n",
       "    .dataframe thead th {\n",
       "        text-align: right;\n",
       "    }\n",
       "</style>\n",
       "<table border=\"1\" class=\"dataframe\">\n",
       "  <thead>\n",
       "    <tr style=\"text-align: right;\">\n",
       "      <th></th>\n",
       "      <th>stock_name</th>\n",
       "      <th>value</th>\n",
       "      <th>price</th>\n",
       "      <th>name</th>\n",
       "      <th>eps</th>\n",
       "      <th>bps</th>\n",
       "      <th>per</th>\n",
       "      <th>pbr</th>\n",
       "    </tr>\n",
       "  </thead>\n",
       "  <tbody>\n",
       "    <tr>\n",
       "      <th>1</th>\n",
       "      <td>이마트</td>\n",
       "      <td>239230.833333</td>\n",
       "      <td>254500</td>\n",
       "      <td>이마트</td>\n",
       "      <td>18268.166667</td>\n",
       "      <td>295780</td>\n",
       "      <td>13.931338</td>\n",
       "      <td>0.860437</td>\n",
       "    </tr>\n",
       "    <tr>\n",
       "      <th>4</th>\n",
       "      <td>모두투어리츠</td>\n",
       "      <td>3093.333333</td>\n",
       "      <td>3475</td>\n",
       "      <td>모두투어리츠</td>\n",
       "      <td>85.166667</td>\n",
       "      <td>5335</td>\n",
       "      <td>40.802348</td>\n",
       "      <td>0.651359</td>\n",
       "    </tr>\n",
       "  </tbody>\n",
       "</table>\n",
       "</div>"
      ],
      "text/plain": [
       "  stock_name          value   price    name           eps     bps        per  \\\n",
       "1        이마트  239230.833333  254500     이마트  18268.166667  295780  13.931338   \n",
       "4     모두투어리츠    3093.333333    3475  모두투어리츠     85.166667    5335  40.802348   \n",
       "\n",
       "        pbr  \n",
       "1  0.860437  \n",
       "4  0.651359  "
      ]
     },
     "metadata": {},
     "output_type": "display_data"
    }
   ],
   "source": [
    "display(df3)\n",
    "\n",
    "df4 = df3.drop('name', axis = 1)\n",
    "df4 = df3[(df3['eps'] < 3000) | (df3['stock_name'] == '이마트')]\n",
    "\n",
    "display(df4)"
   ]
  },
  {
   "cell_type": "markdown",
   "id": "531c692a",
   "metadata": {},
   "source": [
    "- df2의 name 컬럼을 stock_name으로 변경한 후 df1과 df2를 stock_name을 기준으로 결합(합집합)"
   ]
  },
  {
   "cell_type": "code",
   "execution_count": 14,
   "id": "7d73c00a",
   "metadata": {},
   "outputs": [
    {
     "data": {
      "text/html": [
       "<div>\n",
       "<style scoped>\n",
       "    .dataframe tbody tr th:only-of-type {\n",
       "        vertical-align: middle;\n",
       "    }\n",
       "\n",
       "    .dataframe tbody tr th {\n",
       "        vertical-align: top;\n",
       "    }\n",
       "\n",
       "    .dataframe thead th {\n",
       "        text-align: right;\n",
       "    }\n",
       "</style>\n",
       "<table border=\"1\" class=\"dataframe\">\n",
       "  <thead>\n",
       "    <tr style=\"text-align: right;\">\n",
       "      <th></th>\n",
       "      <th>stock_name</th>\n",
       "      <th>value</th>\n",
       "      <th>price</th>\n",
       "      <th>eps</th>\n",
       "      <th>bps</th>\n",
       "      <th>per</th>\n",
       "      <th>pbr</th>\n",
       "    </tr>\n",
       "  </thead>\n",
       "  <tbody>\n",
       "    <tr>\n",
       "      <th>0</th>\n",
       "      <td>한미약품</td>\n",
       "      <td>59385.666667</td>\n",
       "      <td>421000.0</td>\n",
       "      <td>NaN</td>\n",
       "      <td>NaN</td>\n",
       "      <td>NaN</td>\n",
       "      <td>NaN</td>\n",
       "    </tr>\n",
       "    <tr>\n",
       "      <th>1</th>\n",
       "      <td>CJ E&amp;M</td>\n",
       "      <td>58540.666667</td>\n",
       "      <td>98900.0</td>\n",
       "      <td>6301.333333</td>\n",
       "      <td>54068.0</td>\n",
       "      <td>15.695091</td>\n",
       "      <td>1.829178</td>\n",
       "    </tr>\n",
       "    <tr>\n",
       "      <th>2</th>\n",
       "      <td>엔에스쇼핑</td>\n",
       "      <td>14558.666667</td>\n",
       "      <td>13200.0</td>\n",
       "      <td>NaN</td>\n",
       "      <td>NaN</td>\n",
       "      <td>NaN</td>\n",
       "      <td>NaN</td>\n",
       "    </tr>\n",
       "    <tr>\n",
       "      <th>3</th>\n",
       "      <td>이마트</td>\n",
       "      <td>239230.833333</td>\n",
       "      <td>254500.0</td>\n",
       "      <td>18268.166667</td>\n",
       "      <td>295780.0</td>\n",
       "      <td>13.931338</td>\n",
       "      <td>0.860437</td>\n",
       "    </tr>\n",
       "    <tr>\n",
       "      <th>4</th>\n",
       "      <td>녹십자엠에스</td>\n",
       "      <td>468.833333</td>\n",
       "      <td>10200.0</td>\n",
       "      <td>NaN</td>\n",
       "      <td>NaN</td>\n",
       "      <td>NaN</td>\n",
       "      <td>NaN</td>\n",
       "    </tr>\n",
       "    <tr>\n",
       "      <th>5</th>\n",
       "      <td>삼양사</td>\n",
       "      <td>82750.000000</td>\n",
       "      <td>82000.0</td>\n",
       "      <td>5741.000000</td>\n",
       "      <td>108090.0</td>\n",
       "      <td>14.283226</td>\n",
       "      <td>0.758627</td>\n",
       "    </tr>\n",
       "    <tr>\n",
       "      <th>6</th>\n",
       "      <td>종근당</td>\n",
       "      <td>40293.666667</td>\n",
       "      <td>100500.0</td>\n",
       "      <td>3990.333333</td>\n",
       "      <td>40684.0</td>\n",
       "      <td>25.185866</td>\n",
       "      <td>2.470259</td>\n",
       "    </tr>\n",
       "    <tr>\n",
       "      <th>7</th>\n",
       "      <td>쿠쿠홀딩스</td>\n",
       "      <td>179204.666667</td>\n",
       "      <td>177500.0</td>\n",
       "      <td>NaN</td>\n",
       "      <td>NaN</td>\n",
       "      <td>NaN</td>\n",
       "      <td>NaN</td>\n",
       "    </tr>\n",
       "    <tr>\n",
       "      <th>8</th>\n",
       "      <td>툴젠</td>\n",
       "      <td>-2514.333333</td>\n",
       "      <td>115400.0</td>\n",
       "      <td>NaN</td>\n",
       "      <td>NaN</td>\n",
       "      <td>NaN</td>\n",
       "      <td>NaN</td>\n",
       "    </tr>\n",
       "    <tr>\n",
       "      <th>9</th>\n",
       "      <td>모두투어리츠</td>\n",
       "      <td>3093.333333</td>\n",
       "      <td>3475.0</td>\n",
       "      <td>85.166667</td>\n",
       "      <td>5335.0</td>\n",
       "      <td>40.802348</td>\n",
       "      <td>0.651359</td>\n",
       "    </tr>\n",
       "    <tr>\n",
       "      <th>10</th>\n",
       "      <td>하림</td>\n",
       "      <td>NaN</td>\n",
       "      <td>NaN</td>\n",
       "      <td>274.166667</td>\n",
       "      <td>3551.0</td>\n",
       "      <td>11.489362</td>\n",
       "      <td>0.887074</td>\n",
       "    </tr>\n",
       "    <tr>\n",
       "      <th>11</th>\n",
       "      <td>메리츠금융지주</td>\n",
       "      <td>NaN</td>\n",
       "      <td>NaN</td>\n",
       "      <td>2122.333333</td>\n",
       "      <td>14894.0</td>\n",
       "      <td>6.313806</td>\n",
       "      <td>0.899691</td>\n",
       "    </tr>\n",
       "    <tr>\n",
       "      <th>12</th>\n",
       "      <td>한국타이어</td>\n",
       "      <td>NaN</td>\n",
       "      <td>NaN</td>\n",
       "      <td>5648.500000</td>\n",
       "      <td>51341.0</td>\n",
       "      <td>7.453306</td>\n",
       "      <td>0.820007</td>\n",
       "    </tr>\n",
       "    <tr>\n",
       "      <th>13</th>\n",
       "      <td>NHN엔터테인먼트</td>\n",
       "      <td>NaN</td>\n",
       "      <td>NaN</td>\n",
       "      <td>2110.166667</td>\n",
       "      <td>78434.0</td>\n",
       "      <td>30.755864</td>\n",
       "      <td>0.827447</td>\n",
       "    </tr>\n",
       "    <tr>\n",
       "      <th>14</th>\n",
       "      <td>삼성바이오로직스</td>\n",
       "      <td>NaN</td>\n",
       "      <td>NaN</td>\n",
       "      <td>4644.166667</td>\n",
       "      <td>60099.0</td>\n",
       "      <td>89.790059</td>\n",
       "      <td>6.938551</td>\n",
       "    </tr>\n",
       "  </tbody>\n",
       "</table>\n",
       "</div>"
      ],
      "text/plain": [
       "   stock_name          value     price           eps       bps        per  \\\n",
       "0        한미약품   59385.666667  421000.0           NaN       NaN        NaN   \n",
       "1      CJ E&M   58540.666667   98900.0   6301.333333   54068.0  15.695091   \n",
       "2       엔에스쇼핑   14558.666667   13200.0           NaN       NaN        NaN   \n",
       "3         이마트  239230.833333  254500.0  18268.166667  295780.0  13.931338   \n",
       "4      녹십자엠에스     468.833333   10200.0           NaN       NaN        NaN   \n",
       "5         삼양사   82750.000000   82000.0   5741.000000  108090.0  14.283226   \n",
       "6         종근당   40293.666667  100500.0   3990.333333   40684.0  25.185866   \n",
       "7       쿠쿠홀딩스  179204.666667  177500.0           NaN       NaN        NaN   \n",
       "8          툴젠   -2514.333333  115400.0           NaN       NaN        NaN   \n",
       "9      모두투어리츠    3093.333333    3475.0     85.166667    5335.0  40.802348   \n",
       "10         하림            NaN       NaN    274.166667    3551.0  11.489362   \n",
       "11    메리츠금융지주            NaN       NaN   2122.333333   14894.0   6.313806   \n",
       "12      한국타이어            NaN       NaN   5648.500000   51341.0   7.453306   \n",
       "13  NHN엔터테인먼트            NaN       NaN   2110.166667   78434.0  30.755864   \n",
       "14   삼성바이오로직스            NaN       NaN   4644.166667   60099.0  89.790059   \n",
       "\n",
       "         pbr  \n",
       "0        NaN  \n",
       "1   1.829178  \n",
       "2        NaN  \n",
       "3   0.860437  \n",
       "4        NaN  \n",
       "5   0.758627  \n",
       "6   2.470259  \n",
       "7        NaN  \n",
       "8        NaN  \n",
       "9   0.651359  \n",
       "10  0.887074  \n",
       "11  0.899691  \n",
       "12  0.820007  \n",
       "13  0.827447  \n",
       "14  6.938551  "
      ]
     },
     "execution_count": 14,
     "metadata": {},
     "output_type": "execute_result"
    }
   ],
   "source": [
    "# 컬럼명 변경\n",
    "df2.rename(columns = {'name': 'stock_name'}, inplace = True)\n",
    "\n",
    "\n",
    "# 합집합\n",
    "pd.merge(df1, df2, how = 'outer')"
   ]
  },
  {
   "cell_type": "markdown",
   "id": "eb991afc",
   "metadata": {},
   "source": [
    "#### Q 96. 아래 사항을 수행하세요.\n",
    "- 주어진 텍스트에서 단어 빈도 카운트\n",
    "- 빈도순으로 단어별 카운트를 사전 형식으로 반환, 가장 빈도가 높은 단어 5개 출력"
   ]
  },
  {
   "cell_type": "code",
   "execution_count": 43,
   "id": "b5837f50",
   "metadata": {},
   "outputs": [
    {
     "name": "stdout",
     "output_type": "stream",
     "text": [
      "['카카오', '다음', '카카오', '먹통', '피해', '사례', '접수', '시작', '유료', '무료', '이용자', '피해', '보상', '방안', '검토', '전례', '일인', '만큼', '실질', '보상', '시간', '전망', '홍은택', '카카오', '대표', '경기', '성남시', '판교', '사옥', '간담', '유료', '서비스', '이용자', '이번', '장애', '피해', '이용자', '파트너', '이해관계자', '대한', '보상', '검토', '카카오', '주간', '피해', '신고', '채널', '사례', '이용자', '서비스', '피해', '사례', '근거', '자료', '접수', '바탕', '보상', '수립', '방침', '앞서', '카카오', '쇼핑', '웹툰', '멜론', '유료', '서비스', '이용권', '유효', '기간', '연장', '캐시', '지급', '피해', '보상', '발표', '다만', '무료', '이용자', '경우', '보상', '시간', '전망', '대표', '무료', '서비스', '이용자', '보상', '선례', '기준', '사례', '보고', '판단', '사례', '확인', '정책', '시간', '카카오', '보상', '요구', '목소리', '거세', '전날', '택시', '단체', '카카오', '먹통', '손해', '일반', '중개', '택시', '피해', '보상', '하라', '지적', '대리', '운전', '기사도', '피해', '사례', '취합', '가장', '복구', '다음', '카카오', '메일', '채널', '이용자', '불만', '빗발', '서울', '강남구', '근무', '중요', '행사', '회사', '메일', '다음', '이번', '내내', '업무', '마비', '토로', '카카오', '보상', '마련', '민심', '미지수', '지난해', '전국', '네트', '워트', '장애', '사고', '발생', '당시', '상공', '평균', '개인', '기업', '가입자', '회선', '안팎', '피해', '보상', '발표', '보상', '수준', '평가', '소상', '공인', '매출', '손실', '대한', '보상', '안이', '반발', '카카오', '보상', '안이', '경우', '대규모', '소송', '법무', '법인', '파트너', '손해배상', '청구', '소송', '카페', '가입자', '무료', '서비스', '사업자', '과실', '피해', '발생', '민법', '채무불이행', '대한', '손해배상', '청구', '입장', '구체', '피해', '입증', '경우', '위해', '위자료', '소송도', '검토', '중이', '카카오', '보상', '책정', '경우', '배임', '소송', '우려', '제기', '보상', '규모', '추가', '법률', '리스크', '한편', '이번', '화재', '카카오', '자체', '피해', '최대', '증권', '분석', '카카오', '기업', '휴지', '보험', '가입', '파악', '기업', '휴지', '보험', '보험', '사고', '기업', '영업', '중단', '피해', '보상', '상품', '더욱이', '대표', '구상권', '청구', '문제', '사고', '처리', '시작', '라며', '책임', '소재', '앞서', '먼저', '보상', '양사', '책임', '방이', '장기', '만큼', '카카오', '기적', '비용', '부담', '급증']\n",
      "보상\n",
      "카카오\n",
      "피해\n",
      "이용자\n",
      "사례\n"
     ]
    }
   ],
   "source": [
    "import re\n",
    "from collections import Counter\n",
    "from konlpy.tag import Okt\n",
    "import string\n",
    "\n",
    "# 텍스트 파일 읽어오기\n",
    "with open('text.txt', 'rb') as fr:\n",
    "    # 내용 바이트->문자화\n",
    "    contents = fr.read().decode()\n",
    "    \n",
    "    # 문자가 아닌 내용 삭제\n",
    "#     contents = re.sub(f'[{string.punctuation}]', ' ', contents)\n",
    "    contents = re.sub('[^\\w]', ' ', contents)\n",
    "#     contents = re.sub('[\\r{1:}]', ' ', contents)\n",
    "    \n",
    "    # 형태소 분석: 단어와 품사 구분\n",
    "    noun_list = []\n",
    "    for word, pos in Okt().pos(contents):\n",
    "        if pos == 'Noun' and len(word) > 1:\n",
    "            noun_list.append(word)\n",
    "    print(noun_list)\n",
    "#     print(len(noun_list))\n",
    "    \n",
    "    \n",
    "    # 불용어 지정\n",
    "    stopwords = ['만큼', '앞서', '거세', '가장', '안팎', '한편', '이번', '더욱이', '라며', '앞서', '먼저','방이']\n",
    "    new_noun_list = [noun for noun in noun_list if noun not in stopwords]\n",
    "#     print(len(new_noun_list))\n",
    "    \n",
    "    # 각 단어의 빈도수 세기\n",
    "    counter = (Counter(new_noun_list).most_common())\n",
    "#     print(counter)\n",
    "    \n",
    "    # 빈도수가 가장 큰 상위 5개 단어 추출\n",
    "    [print(word) for word, cnt in counter[:5]]\n",
    "        "
   ]
  },
  {
   "cell_type": "code",
   "execution_count": 52,
   "id": "bf74fd89",
   "metadata": {},
   "outputs": [
    {
     "name": "stdout",
     "output_type": "stream",
     "text": [
      "보상\n",
      "카카오\n",
      "피해\n",
      "이용자\n",
      "사례\n"
     ]
    }
   ],
   "source": [
    "import re\n",
    "from collections import Counter\n",
    "from konlpy.tag import Okt\n",
    "import string\n",
    "\n",
    "# 텍스트 파일 읽어오기\n",
    "with open('text.txt', 'rb') as fr:\n",
    "    # 내용 바이트->문자화\n",
    "    contents = fr.read().decode()\n",
    "    \n",
    "    # 문자/숫자가 아닌 내용 삭제\n",
    "    contents = re.sub('[^\\w]', ' ', contents)\n",
    "    \n",
    "    # 형태소 분석: 단어와 품사 구분\n",
    "    noun_list = []\n",
    "    for word, pos in Okt().pos(contents):\n",
    "        if pos == 'Noun' and len(word) > 1:\n",
    "            noun_list.append(word)\n",
    "    \n",
    "    \n",
    "    # 불용어 지정\n",
    "    stopwords = ['만큼', '앞서', '거세', '가장', '안팎', '한편', '이번', '더욱이', '라며', '앞서', '먼저','방이']\n",
    "    new_noun_list = [noun for noun in noun_list if noun not in stopwords]\n",
    "    \n",
    "    # 각 단어의 빈도수 세기\n",
    "    counter = (Counter(new_noun_list).most_common())\n",
    "    \n",
    "    # 빈도수가 가장 큰 상위 5개 단어 추출\n",
    "    [print(word) for word, cnt in counter[:5]]\n",
    "        "
   ]
  },
  {
   "cell_type": "code",
   "execution_count": 51,
   "id": "268ffd59",
   "metadata": {},
   "outputs": [
    {
     "data": {
      "image/png": "[encoded data removed]",
      "text/plain": [
       "<Figure size 432x288 with 1 Axes>"
      ]
     },
     "metadata": {
      "needs_background": "light"
     },
     "output_type": "display_data"
    }
   ],
   "source": [
    "from wordcloud import WordCloud\n",
    "import matplotlib.pyplot as plt\n",
    "from matplotlib import rc\n",
    "rc('font', family='AppleGothic')\n",
    "plt.rcParams['axes.unicode_minus'] = False\n",
    "\n",
    "data = dict((word, cnt) for word, cnt in counter if cnt > 1)\n",
    "wordcloud = WordCloud(font_path='../visualization/dataset/malgun.ttf', background_color='white',\n",
    "                      width=2500,height=1800).generate_from_frequencies(data)\n",
    "plt.imshow(wordcloud)\n",
    "plt.axis('off')\n",
    "plt.show();"
   ]
  },
  {
   "cell_type": "code",
   "execution_count": null,
   "id": "6a036eb0",
   "metadata": {},
   "outputs": [],
   "source": []
  }
 ],
 "metadata": {
  "kernelspec": {
   "display_name": "Python 3 (ipykernel)",
   "language": "python",
   "name": "python3"
  },
  "language_info": {
   "codemirror_mode": {
    "name": "ipython",
    "version": 3
   },
   "file_extension": ".py",
   "mimetype": "text/x-python",
   "name": "python",
   "nbconvert_exporter": "python",
   "pygments_lexer": "ipython3",
   "version": "3.8.13"
  },
  "toc": {
   "base_numbering": 1,
   "nav_menu": {},
   "number_sections": true,
   "sideBar": true,
   "skip_h1_title": false,
   "title_cell": "Table of Contents",
   "title_sidebar": "Contents",
   "toc_cell": false,
   "toc_position": {},
   "toc_section_display": true,
   "toc_window_display": false
  }
 },
 "nbformat": 4,
 "nbformat_minor": 5
}
