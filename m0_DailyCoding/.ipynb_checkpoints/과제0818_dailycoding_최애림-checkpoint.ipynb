{
 "cells": [
  {
   "cell_type": "markdown",
   "id": "2c48fac9",
   "metadata": {},
   "source": [
    "#### Q72. 정수 N이 입력되면 00시 00분 00초부터 N시 59분 59초까지의 모든 시각 중에서 3이 하나라도 포함되는 모든 경우의 수를 구하는 프로그램을 작성하시오.(0<= N <=23)\n"
   ]
  },
  {
   "cell_type": "markdown",
   "id": "52c09642",
   "metadata": {},
   "source": [
    "```\n",
    "7입력 시 14625번 포함됨이 반환\n",
    "```"
   ]
  },
  {
   "cell_type": "code",
   "execution_count": 6,
   "id": "8a15e9cc",
   "metadata": {
    "scrolled": true
   },
   "outputs": [
    {
     "name": "stdout",
     "output_type": "stream",
     "text": [
      ">> 시간을 입력하세요\n",
      "7\n"
     ]
    },
    {
     "data": {
      "text/plain": [
       "14625"
      ]
     },
     "execution_count": 6,
     "metadata": {},
     "output_type": "execute_result"
    }
   ],
   "source": [
    "n = int(input('>> 시간을 입력하세요\\n'))\n",
    "\n",
    "def time_three(n):\n",
    "    total = 0\n",
    "\n",
    "    for i in range(n+1):\n",
    "        for j in range(60):\n",
    "            for k in range(60):\n",
    "                if (str(i)+str(j)+str(k)).find('3') != -1:\n",
    "                    total += 1\n",
    "    \n",
    "    return total\n",
    "\n",
    "\n",
    "time_three(n)   "
   ]
  }
 ],
 "metadata": {
  "kernelspec": {
   "display_name": "Python 3 (ipykernel)",
   "language": "python",
   "name": "python3"
  },
  "language_info": {
   "codemirror_mode": {
    "name": "ipython",
    "version": 3
   },
   "file_extension": ".py",
   "mimetype": "text/x-python",
   "name": "python",
   "nbconvert_exporter": "python",
   "pygments_lexer": "ipython3",
   "version": "3.8.13"
  },
  "toc": {
   "base_numbering": 1,
   "nav_menu": {},
   "number_sections": true,
   "sideBar": true,
   "skip_h1_title": false,
   "title_cell": "Table of Contents",
   "title_sidebar": "Contents",
   "toc_cell": false,
   "toc_position": {},
   "toc_section_display": true,
   "toc_window_display": false
  }
 },
 "nbformat": 4,
 "nbformat_minor": 5
}
