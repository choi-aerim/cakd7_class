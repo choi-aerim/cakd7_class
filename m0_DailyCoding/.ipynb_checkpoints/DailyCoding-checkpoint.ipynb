{
 "cells": [
  {
   "cell_type": "markdown",
   "id": "c7c20a27",
   "metadata": {},
   "source": [
    "# 07/13"
   ]
  },
  {
   "cell_type": "markdown",
   "id": "e16abb6f",
   "metadata": {},
   "source": [
    "#### Q. 남녀 파트너 정해주기 프로그램(zip) \n",
    "같은 수의 남녀 모임에서 파트너를 랜덤하게 정해주는 프로그램을 만들어 보세요\n",
    "\n",
    "male = ['철수','갑돌','로미오','이몽룡','온돌']\n",
    "\n",
    "female = ['미미','갑순','줄리엣','성춘향','평강']\n"
   ]
  },
  {
   "cell_type": "code",
   "execution_count": 5,
   "id": "1a43b260",
   "metadata": {
    "scrolled": false
   },
   "outputs": [],
   "source": [
    "male = ['철수','갑돌','로미오','이몽룡','온돌']\n",
    "female = ['미미','갑순','줄리엣','성춘향','평강']"
   ]
  },
  {
   "cell_type": "markdown",
   "id": "cf29973f",
   "metadata": {},
   "source": [
    "- male = 철수,갑돌,로미오,이몽룡,온돌\n",
    "- female = 미미,갑순,줄리엣,성춘향,평강"
   ]
  },
  {
   "cell_type": "code",
   "execution_count": null,
   "id": "1e476bdb",
   "metadata": {},
   "outputs": [],
   "source": [
    "#랜덤 커플 지정 함수 \n",
    "\n",
    "import random\n",
    "\n",
    "def couple_match(li_1,li_2):\n",
    "    try:        \n",
    "        random_m=random.sample(li_1,len(li_1))\n",
    "        random_f=random.sample(li_2,len(li_2))\n",
    "\n",
    "        couple=[]\n",
    "        for i in range(len(li_1)):\n",
    "            couple.append((random_m[i],random_f[i]))\n",
    "        return couple\n",
    "    except:\n",
    "        if IndexError:\n",
    "            print('※경고※ 같은 수의 남녀 리스트를 입력하세요!\\n')\n",
    "        \n",
    "\n",
    "couple_match(male,female)"
   ]
  },
  {
   "cell_type": "code",
   "execution_count": 28,
   "id": "c2fad9c3",
   "metadata": {},
   "outputs": [
    {
     "name": "stdout",
     "output_type": "stream",
     "text": [
      ">>랜덤 파트너 남자들의 이름을 ','로 분리하여 입력하세요. \n",
      "ex)갑돌,갑작,갑주 \n",
      "갑돌,갑작,갑주 \n",
      ">>랜덤 파트너 여자들의 이름을 ','로 분리하여 입력하세요. \n",
      "ex)갑돌,갑작,갑주 \n",
      "미미,갑순,줄리엣\n"
     ]
    },
    {
     "data": {
      "text/plain": [
       "[('갑돌', '줄리엣'), ('갑작', '갑순'), ('갑주 ', '미미')]"
      ]
     },
     "execution_count": 28,
     "metadata": {},
     "output_type": "execute_result"
    }
   ],
   "source": [
    "#프로그래밍\n",
    "\n",
    "male=input(\">>랜덤 파트너 남자들의 이름을 ','로 분리하여 입력하세요. \\nex)갑돌,갑작,갑주 \\n\")\n",
    "female=input(\">>랜덤 파트너 여자들의 이름을 ','로 분리하여 입력하세요. \\nex)갑돌,갑작,갑주 \\n\")\n",
    "\n",
    "male=list(male.split(','))\n",
    "female=list(female.split(','))\n",
    "\n",
    "couple_match(male, female)"
   ]
  },
  {
   "cell_type": "code",
   "execution_count": 6,
   "id": "0ab6285a",
   "metadata": {},
   "outputs": [
    {
     "name": "stdout",
     "output_type": "stream",
     "text": [
      "1번째 매칭: 갑돌 ♥ 줄리엣\n",
      "2번째 매칭: 로미오 ♥ 미미\n",
      "3번째 매칭: 온돌 ♥ 성춘향\n",
      "4번째 매칭: 이몽룡 ♥ 갑순\n",
      "5번째 매칭: 철수 ♥ 평강\n"
     ]
    }
   ],
   "source": [
    "#zip방식\n",
    "def couple_match(li_1,li_2):\n",
    "    try:        \n",
    "        random_m=random.sample(li_1,len(li_1))\n",
    "        random_f=random.sample(li_2,len(li_2))\n",
    "\n",
    "        r_zip=zip(random_m,random_f)\n",
    "        \n",
    "        for i,j in enumerate(r_zip):\n",
    "            print(f'{i+1}번째 매칭: {j[0]} ♥ {j[1]}')\n",
    "        \n",
    "    except:\n",
    "        if IndexError:\n",
    "            print('※경고※ 같은 수의 남녀 리스트를 입력하세요!')\n",
    "    \n"
   ]
  },
  {
   "cell_type": "code",
   "execution_count": 7,
   "id": "0e36643d",
   "metadata": {},
   "outputs": [
    {
     "name": "stdout",
     "output_type": "stream",
     "text": [
      ">>랜덤 파트너 남자들의 이름을 ','로 분리하여 입력하세요. \n",
      "ex)갑돌,갑작,갑주 \n",
      "갑돌,갑작,갑주 \n",
      ">>랜덤 파트너 여자들의 이름을 ','로 분리하여 입력하세요. \n",
      "ex)갑돌,갑작,갑주 \n",
      "갑돌,갑작,갑주 \n",
      "1번째 매칭: 갑돌 ♥ 갑주 \n",
      "2번째 매칭: 갑주  ♥ 갑작\n",
      "3번째 매칭: 갑작 ♥ 갑돌\n"
     ]
    }
   ],
   "source": [
    "#프로그래밍\n",
    "\n",
    "male=input(\">>랜덤 파트너 남자들의 이름을 ','로 분리하여 입력하세요. \\nex)갑돌,갑작,갑주 \\n\")\n",
    "female=input(\">>랜덤 파트너 여자들의 이름을 ','로 분리하여 입력하세요. \\nex)갑돌,갑작,갑주 \\n\")\n",
    "\n",
    "male=list(male.split(','))\n",
    "female=list(female.split(','))\n",
    "\n",
    "couple_match(male, female)\n"
   ]
  },
  {
   "cell_type": "markdown",
   "id": "9ac166d1",
   "metadata": {},
   "source": [
    "#### Q2. 사용자가 입력한 횟수만큼 로또 번호를 출력하는 프로그램 작성하세요.(중복 금지)"
   ]
  },
  {
   "cell_type": "code",
   "execution_count": 11,
   "id": "32f5feb8",
   "metadata": {},
   "outputs": [],
   "source": [
    "#로또번호 개수를 입력하는 경우\n",
    "\n",
    "#함수지정\n",
    "def lotto_num(x): \n",
    "    return sorted(random.sample(list(range(1,46)),x))\n"
   ]
  },
  {
   "cell_type": "code",
   "execution_count": 15,
   "id": "13597827",
   "metadata": {},
   "outputs": [
    {
     "name": "stdout",
     "output_type": "stream",
     "text": [
      ">>원하시는 번호의 개수를 입력하세요\n",
      "8\n"
     ]
    },
    {
     "data": {
      "text/plain": [
       "[3, 5, 14, 16, 22, 27, 29, 32]"
      ]
     },
     "execution_count": 15,
     "metadata": {},
     "output_type": "execute_result"
    }
   ],
   "source": [
    "#프로그래밍\n",
    "x=int(input(\">>원하시는 번호의 개수를 입력하세요\\n\"))\n",
    "lotto_num(x)\n"
   ]
  },
  {
   "cell_type": "code",
   "execution_count": 18,
   "id": "c5da8d45",
   "metadata": {},
   "outputs": [],
   "source": [
    "#로또번호 묶음 개수를 입력하는 경우\n",
    "\n",
    "#함수지정\n",
    "def lotto_count(c):\n",
    "    for i in range(c):\n",
    "        time.sleep(1)\n",
    "        print(f'{i+1}번째 로또번호 모음: {sorted(random.sample(list(range(1,46)),6))}')"
   ]
  },
  {
   "cell_type": "code",
   "execution_count": 19,
   "id": "73f6a0e5",
   "metadata": {},
   "outputs": [
    {
     "name": "stdout",
     "output_type": "stream",
     "text": [
      ">>원하시는 로또번호 묶음 개수를 입력하세요\n",
      "2\n",
      "1번째 로또번호 모음: [1, 4, 18, 24, 26, 35]\n",
      "2번째 로또번호 모음: [17, 21, 22, 23, 34, 37]\n"
     ]
    }
   ],
   "source": [
    "#프로그래밍\n",
    "x=int(input(\">>원하시는 로또번호 묶음 개수를 입력하세요\\n\"))\n",
    "        \n",
    "lotto_count(x)"
   ]
  },
  {
   "cell_type": "markdown",
   "id": "97f6845e",
   "metadata": {},
   "source": [
    "#### [도전과제] 발표자를 원하는 수만큼 랜덤하게 출력하는 프로그램 작성하기"
   ]
  },
  {
   "cell_type": "code",
   "execution_count": 58,
   "id": "c2b4849d",
   "metadata": {},
   "outputs": [],
   "source": [
    "#함수 정의\n",
    "import random\n",
    "import time\n",
    "\n",
    "def goodluck(n):\n",
    "    cakd7 = ['박영권','김현지','김덕현','변서연','한지웅','양주희','이호원','정지은',\n",
    "         '이정현A','이정현B','이명진','이상윤','조승현','강유한','김영선','최애림',\n",
    "         '김민섭','박혜린','윤정준','김진형','정승기','진청아','신창훈','김병석','박세희']\n",
    "    \n",
    "    r_s=random.sample(cakd7,n)\n",
    "    for i in range(n):\n",
    "        time.sleep(1)\n",
    "        print(f'{i+1}번째 발표자는 \"{r_s[i]}\"님 입니다.')\n"
   ]
  },
  {
   "cell_type": "code",
   "execution_count": 59,
   "id": "a0142bad",
   "metadata": {},
   "outputs": [
    {
     "name": "stdout",
     "output_type": "stream",
     "text": [
      ">>발표자 수를 입력하세요.\n",
      "1\n",
      "1번째 발표자는 \"이호원\"님 입니다.\n"
     ]
    }
   ],
   "source": [
    "#프로그래밍\n",
    "\n",
    "n=int(input('>>발표자 수를 입력하세요.\\n'))\n",
    "goodluck(n)"
   ]
  },
  {
   "cell_type": "code",
   "execution_count": 64,
   "id": "8b888897",
   "metadata": {},
   "outputs": [
    {
     "name": "stdout",
     "output_type": "stream",
     "text": [
      "1조 조원: ['박혜린', '진청아', '정지은']\n",
      "2조 조원: ['이정현B', '변서연', '이정현A']\n",
      "3조 조원: ['김영선', '김현지', '박세희']\n",
      "4조 조원: ['양주희', '최애림', '이명진']\n"
     ]
    }
   ],
   "source": [
    "import random\n",
    "import time\n",
    "\n",
    "cakd7 = ['김현지','변서연','양주희','정지은','이정현A','이정현B','이명진','김영선','최애림','박혜린','진청아','박세희']\n",
    "\n",
    "\n",
    "for i in range(4):\n",
    "    r_s=random.sample(cakd7,3)\n",
    "    time.sleep(2)\n",
    "    print(f'{i+1}조 조원: {r_s}')\n",
    "    for j in r_s:\n",
    "        cakd7.remove(j)"
   ]
  },
  {
   "cell_type": "markdown",
   "id": "b369da73",
   "metadata": {},
   "source": [
    "# 07/14"
   ]
  },
  {
   "cell_type": "markdown",
   "id": "a2a77f5c",
   "metadata": {},
   "source": [
    "#### Q3.입력받은 문자열의 각 문자를 그 다음 문자로 변경하여 출력하세요. ex) abc->bca"
   ]
  },
  {
   "cell_type": "code",
   "execution_count": 31,
   "id": "ca2bd185",
   "metadata": {},
   "outputs": [],
   "source": [
    "#다음문자를 출력하는 함수\n",
    "\n",
    "def next_text(x):\n",
    "    return x[-1]+x[:-1]\n",
    "            "
   ]
  },
  {
   "cell_type": "code",
   "execution_count": 32,
   "id": "06943949",
   "metadata": {},
   "outputs": [
    {
     "name": "stdout",
     "output_type": "stream",
     "text": [
      ">>문자를 입력하세요.\n",
      "가나다라\n",
      "\n",
      "\n"
     ]
    },
    {
     "data": {
      "text/plain": [
       "'라가나다'"
      ]
     },
     "execution_count": 32,
     "metadata": {},
     "output_type": "execute_result"
    }
   ],
   "source": [
    "x=input('>>문자를 입력하세요.\\n')\n",
    "print('\\n')\n",
    "next_text(x)"
   ]
  },
  {
   "cell_type": "code",
   "execution_count": 5,
   "id": "2f8f6688",
   "metadata": {},
   "outputs": [],
   "source": [
    "#문자를 반대로 출력해주는 함수\n",
    "\n",
    "def change(x):\n",
    "    r_idx_x=sorted(list(range(len(x))),reverse=True)\n",
    "    for r_idx in r_idx_x:\n",
    "        print(x[r_idx],end='')       \n",
    "            "
   ]
  },
  {
   "cell_type": "code",
   "execution_count": 6,
   "id": "9a938f96",
   "metadata": {
    "scrolled": true
   },
   "outputs": [
    {
     "name": "stdout",
     "output_type": "stream",
     "text": [
      ">>문자를 입력하세요. 반대로 출력해드립니다.문자를 반대로\n",
      "로대반 를자문"
     ]
    }
   ],
   "source": [
    "x=input('>>문자를 입력하세요. 반대로 출력해드립니다.\\n')\n",
    "\n",
    "change(x)"
   ]
  },
  {
   "cell_type": "markdown",
   "id": "06470c45",
   "metadata": {},
   "source": [
    "#### Q4.url에서 호스트 도메인을 추출하여 출력하세요.\n",
    "- url = 'http://news.naver.com/main/read.nhn?mode=LSD&mid=shm&sid1=105&oid=028&aid=0002334601'\n",
    "- 호스트 도메인: news.naver.com"
   ]
  },
  {
   "cell_type": "code",
   "execution_count": 22,
   "id": "eca0ac7c",
   "metadata": {},
   "outputs": [],
   "source": [
    "import re\n",
    "\n",
    "url='http://news.naver.com/main/read.nhn?mode=LSD&mid=shm&sid1=105&oid=028&aid=0002334601'"
   ]
  },
  {
   "cell_type": "code",
   "execution_count": 24,
   "id": "9525134e",
   "metadata": {},
   "outputs": [
    {
     "data": {
      "text/plain": [
       "'news.naver.com'"
      ]
     },
     "execution_count": 24,
     "metadata": {},
     "output_type": "execute_result"
    }
   ],
   "source": [
    "url.split('/')[2]"
   ]
  },
  {
   "cell_type": "code",
   "execution_count": 54,
   "id": "b0c57c15",
   "metadata": {},
   "outputs": [
    {
     "data": {
      "text/plain": [
       "['news.naver.com']"
      ]
     },
     "execution_count": 54,
     "metadata": {},
     "output_type": "execute_result"
    }
   ],
   "source": [
    "#findall로 찾기\n",
    "p=re.compile('http://([\\w.]+)')\n",
    "p.findall(url)"
   ]
  },
  {
   "cell_type": "code",
   "execution_count": 58,
   "id": "683c792a",
   "metadata": {},
   "outputs": [
    {
     "name": "stdout",
     "output_type": "stream",
     "text": [
      "news.naver.com\n"
     ]
    }
   ],
   "source": [
    "#finditer로 찾기\n",
    "\n",
    "for i in p.finditer(url):\n",
    "    print(i.group(1))"
   ]
  },
  {
   "cell_type": "code",
   "execution_count": 60,
   "id": "8af61b9c",
   "metadata": {},
   "outputs": [
    {
     "data": {
      "text/plain": [
       "'news.naver.com'"
      ]
     },
     "execution_count": 60,
     "metadata": {},
     "output_type": "execute_result"
    }
   ],
   "source": [
    "#search로 찾기\n",
    "\n",
    "p.search(url).group(1)"
   ]
  },
  {
   "cell_type": "code",
   "execution_count": 63,
   "id": "6e75e82b",
   "metadata": {},
   "outputs": [
    {
     "data": {
      "text/plain": [
       "'news.naver.com'"
      ]
     },
     "execution_count": 63,
     "metadata": {},
     "output_type": "execute_result"
    }
   ],
   "source": [
    "#match로 찾기\n",
    "\n",
    "p.match(url).group(1)"
   ]
  },
  {
   "cell_type": "code",
   "execution_count": 65,
   "id": "6c67a3df",
   "metadata": {},
   "outputs": [
    {
     "data": {
      "text/plain": [
       "[]"
      ]
     },
     "execution_count": 65,
     "metadata": {},
     "output_type": "execute_result"
    }
   ],
   "source": [
    "p2=re.compile('(?<=http://)(\\w+)(?=/)')\n",
    "p2.findall(url)"
   ]
  },
  {
   "cell_type": "markdown",
   "id": "b987ad76",
   "metadata": {},
   "source": [
    "#### Q5. url에서 쿼리문을 출력하기"
   ]
  },
  {
   "cell_type": "markdown",
   "id": "bc89124f",
   "metadata": {},
   "source": [
    "- url에서 '?'뒤에 표시되는 문자열을 쿼리 문자열이라고 하며 변수=값 사이 &로  구분되어 나열된다.\n",
    "- url = 'http://news.naver.com/main/read.nhn?mode=LSD&mid=shm&sid1=105&oid=028&aid=0002334601'\n"
   ]
  },
  {
   "cell_type": "code",
   "execution_count": 7,
   "id": "3c069f4c",
   "metadata": {},
   "outputs": [
    {
     "name": "stdout",
     "output_type": "stream",
     "text": [
      "1번째 쿼리문자열: mode=LSD\n",
      "2번째 쿼리문자열: mid=shm\n",
      "3번째 쿼리문자열: sid1=105\n",
      "4번째 쿼리문자열: oid=028\n",
      "5번째 쿼리문자열: aid=0002334601\n"
     ]
    }
   ],
   "source": [
    "import re\n",
    "\n",
    "url = 'http://news.naver.com/main/read.nhn?mode=LSD&mid=shm&sid1=105&oid=028&aid=0002334601'\n",
    "\n",
    "p=re.compile('[\\w./:]+[?]([\\w./:=&]+)')\n",
    "\n",
    "\n",
    "query=p.search(url).group(1).split('&')\n",
    "\n",
    "for i in range(len(query)):\n",
    "    print(f'{i+1}번째 쿼리문자열: {query[i]}')"
   ]
  },
  {
   "cell_type": "markdown",
   "id": "2cb44824",
   "metadata": {},
   "source": [
    "#### Q6. 텍스트 파일(mydata.txt)을 읽고  파일의 내용에서 나타나는 문자들에 대해 자주 나타나는 문자들을 아래와 같이 순서대로 출력하세요.\n",
    "- \\[ \\] -> [177]회 나타남\n",
    "- [e] -> [97]회 나타남\n",
    "- [t] -> [85]회 나타남\n"
   ]
  },
  {
   "cell_type": "code",
   "execution_count": 30,
   "id": "fe3f1528",
   "metadata": {},
   "outputs": [
    {
     "name": "stdout",
     "output_type": "stream",
     "text": [
      "[ ] -> 177개\n",
      "[e] -> 97개\n",
      "[t] -> 85개\n",
      "[a] -> 78개\n",
      "[o] -> 73개\n",
      "[n] -> 60개\n",
      "[s] -> 60개\n",
      "[r] -> 54개\n",
      "[i] -> 50개\n",
      "[h] -> 48개\n",
      "[l] -> 34개\n",
      "[u] -> 27개\n",
      "[d] -> 24개\n",
      "[c] -> 23개\n",
      "[w] -> 20개\n",
      "[m] -> 20개\n",
      "[f] -> 17개\n",
      "[y] -> 15개\n",
      "[p] -> 15개\n",
      "[b] -> 13개\n",
      "[g] -> 11개\n",
      "[v] -> 9개\n",
      "['] -> 8개\n",
      "[k] -> 7개\n",
      "[!] -> 2개\n"
     ]
    }
   ],
   "source": [
    "def text_contents(filename):\n",
    "    with open(filename, 'r') as f:\n",
    "        contents=f.read()\n",
    "        fa={}\n",
    "        for text in contents:\n",
    "            if text in fa:\n",
    "                fa[text]+=1\n",
    "            else:\n",
    "                fa[text]=1\n",
    "        return fa\n",
    "\n",
    "dictionary=text_contents('dataset/mydata.txt').items()\n",
    "dictionary=sorted(dictionary, key=lambda x: x[1], reverse=True)\n",
    "dictionary\n",
    "\n",
    "for k,v in dictionary:\n",
    "    if k=='\\n':\n",
    "        pass\n",
    "    else:\n",
    "        print(f'[{k}] -> {v}개')"
   ]
  },
  {
   "cell_type": "markdown",
   "id": "cadbe2aa",
   "metadata": {},
   "source": [
    "## 07/18"
   ]
  },
  {
   "cell_type": "markdown",
   "id": "fba60170",
   "metadata": {},
   "source": [
    "#### Q7. 두 개의 수를 입력한 후 두 개의 수에 대한 사칙연산을 수행하세요. (0을 입력한 경우 다시 입력하도록 조치)"
   ]
  },
  {
   "cell_type": "code",
   "execution_count": 1,
   "id": "eb108d5a",
   "metadata": {},
   "outputs": [
    {
     "name": "stdout",
     "output_type": "stream",
     "text": [
      ">> 사칙연산을 수행할 숫자 두 개를 입력하세요\n",
      "ex) 4,5\n",
      "4,5\n",
      "**************************************************\n",
      "\n",
      "        1. 덧셈\n",
      "        2. 뺄셈\n",
      "        3. 나눗셈\n",
      "        4. 곱셈\n",
      "        \n",
      "**************************************************\n",
      ">> 수행하고 싶은 사칙연산을 고르세요.\n",
      "2\n",
      "9\n"
     ]
    }
   ],
   "source": [
    "# Cal4 클래스 만들어서 작성\n",
    "\n",
    "class Cal4():\n",
    "    def __init__(self, num1, num2):\n",
    "        self.num1=num1\n",
    "        self.num2=num2\n",
    "        \n",
    "    def add(self):\n",
    "        return self.num1+self.num2\n",
    "    \n",
    "    def sub(self):\n",
    "        return self.num1+self.num2\n",
    "    \n",
    "    def div(self):\n",
    "        return self.num1/self.num2\n",
    "    \n",
    "    def mul(self):\n",
    "        return self.num1*self.num2\n",
    "    \n",
    "while True:\n",
    "    digits=input('>> 사칙연산을 수행할 숫자 두 개를 입력하세요\\nex) 4,5\\n')\n",
    "    \n",
    "    if digits[0]=='0' or digits[1]==0:\n",
    "        print('>> 경고!!!!!! 0이 아닌 숫자를 두 개를 입력해주세요!!!')\n",
    "        continue\n",
    "        \n",
    "    else:\n",
    "        digit=digits.split(',')\n",
    "        c=Cal4(int(digit[0]),int(digit[1]))\n",
    "        \n",
    "        print('*'*50)\n",
    "        print('''\n",
    "        1. 덧셈\n",
    "        2. 뺄셈\n",
    "        3. 나눗셈\n",
    "        4. 곱셈\n",
    "        ''')\n",
    "        print('*'*50)\n",
    "        \n",
    "        cal=input('>> 수행하고 싶은 사칙연산을 고르세요.\\n')\n",
    "        if cal=='1':\n",
    "            print(c.add())\n",
    "        elif cal=='2':\n",
    "            print(c.sub())\n",
    "        elif cal=='3':\n",
    "            print(c.div())\n",
    "        elif cal=='4':\n",
    "            print(c.mul())\n",
    "        break"
   ]
  },
  {
   "cell_type": "markdown",
   "id": "9e3b3a20",
   "metadata": {},
   "source": [
    "#### Q8. Order 클래스를 상속받아 extraOrder 클래스에서 메서드 오버라이딩하여 출력가격에 원이 추가되도록 출력하세요."
   ]
  },
  {
   "cell_type": "code",
   "execution_count": 4,
   "id": "679c7dcf",
   "metadata": {},
   "outputs": [
    {
     "name": "stdout",
     "output_type": "stream",
     "text": [
      "1000\n"
     ]
    }
   ],
   "source": [
    "class Order: \n",
    "    def __init__(self, name): \n",
    "        self.customer = 0 \n",
    "        self.name = name \n",
    "        \n",
    "    def order(self, price): \n",
    "        self.customer += price \n",
    "        return self.customer\n",
    "\n",
    "order=Order('kevin')\n",
    "print(order.order(1000))\n",
    "\n",
    "\n",
    "class ExtraOrder(Order):\n",
    "    def __init__(self,name):\n",
    "        super().__init__(self)\n",
    "        \n",
    "    def order(self, price):   \n",
    "        super().order(price)\n",
    "#         self.customer += price \n",
    "        return f'{self.customer}원'        "
   ]
  },
  {
   "cell_type": "code",
   "execution_count": 5,
   "id": "83a8f403",
   "metadata": {},
   "outputs": [
    {
     "data": {
      "text/plain": [
       "'1000원'"
      ]
     },
     "execution_count": 5,
     "metadata": {},
     "output_type": "execute_result"
    }
   ],
   "source": [
    "order=ExtraOrder('kevin')\n",
    "order.order(1000)"
   ]
  },
  {
   "cell_type": "markdown",
   "id": "d8249c9a",
   "metadata": {},
   "source": [
    "#### Q9. 업무미팅이 2시임을 알려주는 자동 이메일 클래스 AutoEmail을 작성하여 아래와 같이 출력하세요.\n",
    "-안녕하세요. Kevin님, 업무미팅은 2시입니다.\n"
   ]
  },
  {
   "cell_type": "code",
   "execution_count": 86,
   "id": "add49d92",
   "metadata": {},
   "outputs": [
    {
     "name": "stdout",
     "output_type": "stream",
     "text": [
      "안녕하세요. Kevin님, 업무미팅은 2시입니다.\n"
     ]
    }
   ],
   "source": [
    "import time\n",
    "from datetime import datetime \n",
    "\n",
    "while True:\n",
    "    time.sleep(1)\n",
    "    now_time=datetime.now()\n",
    "    now_hours=now_time.hour\n",
    "    now_minutes=now_time.minute\n",
    "    if (now_hours==13) & (now_minutes==50):\n",
    "        print('안녕하세요. Kevin님, 업무미팅은 2시입니다.')\n",
    "        break"
   ]
  },
  {
   "cell_type": "code",
   "execution_count": 12,
   "id": "9e203baa",
   "metadata": {},
   "outputs": [],
   "source": [
    "import time\n",
    "from datetime import datetime \n",
    "\n",
    "class AutoEmail:\n",
    "    def __init__(self,task,name,time):\n",
    "        self.task=task\n",
    "        self.name=name\n",
    "        self.time=time\n",
    "    def alarm(self):\n",
    "        if datetime.now().hour==self.time:\n",
    "            print(f'{self.name}님, 업무미팅이 진행중입니다.')\n",
    "        else:\n",
    "            print(f'{self.name}님, {self.time}시에 {self.task}이 존재합니다.')"
   ]
  },
  {
   "cell_type": "code",
   "execution_count": 13,
   "id": "377e0e4c",
   "metadata": {},
   "outputs": [
    {
     "name": "stdout",
     "output_type": "stream",
     "text": [
      "애림님, 13시에 점심약속이 존재합니다.\n"
     ]
    }
   ],
   "source": [
    "a=AutoEmail('점심약속','애림',13)\n",
    "a.alarm()"
   ]
  },
  {
   "cell_type": "markdown",
   "id": "c934db56",
   "metadata": {},
   "source": [
    "## 07/19"
   ]
  },
  {
   "cell_type": "markdown",
   "id": "ce8dc4bf",
   "metadata": {},
   "source": [
    "#### Q10. 정규표현식을 사용하여 text에서 전화번호만 출력하세요.\n",
    "\n",
    "text=\"문의사항이 있으면 032-232-3245로 연락주시기 바랍니다.\""
   ]
  },
  {
   "cell_type": "code",
   "execution_count": 19,
   "id": "cab7d34f",
   "metadata": {},
   "outputs": [],
   "source": [
    "import re\n",
    "\n",
    "text=\"문의사항이 있으면 032-232-3245로 연락주시기 바랍니다.\""
   ]
  },
  {
   "cell_type": "code",
   "execution_count": 20,
   "id": "9d546cbc",
   "metadata": {},
   "outputs": [
    {
     "data": {
      "text/plain": [
       "'032-232-3245'"
      ]
     },
     "execution_count": 20,
     "metadata": {},
     "output_type": "execute_result"
    }
   ],
   "source": [
    "#search활용\n",
    "\n",
    "p=re.compile('\\d+[-]\\d+[-]\\d+')\n",
    "p.search(text).group()"
   ]
  },
  {
   "cell_type": "code",
   "execution_count": 26,
   "id": "860e6bf7",
   "metadata": {},
   "outputs": [
    {
     "name": "stdout",
     "output_type": "stream",
     "text": [
      "032-232-3245\n"
     ]
    }
   ],
   "source": [
    "#finditer 활용\n",
    "\n",
    "p=re.compile('\\d+[-]\\d+[-]\\d+')\n",
    "for i in p.finditer(text):\n",
    "    print(i.group())"
   ]
  },
  {
   "cell_type": "code",
   "execution_count": 32,
   "id": "c3025fdf",
   "metadata": {},
   "outputs": [
    {
     "data": {
      "text/plain": [
       "['032-232-3245']"
      ]
     },
     "execution_count": 32,
     "metadata": {},
     "output_type": "execute_result"
    }
   ],
   "source": [
    "#findall 활용\n",
    "p=re.compile('\\d+[-]\\d+[-]\\d+')\n",
    "p.findall(text)"
   ]
  },
  {
   "cell_type": "markdown",
   "id": "f7d8271a",
   "metadata": {},
   "source": [
    "#### Q11. 정규표현식을 사용하여 text 에서 에러가 들어간 부분만 포함하는 리스트 출력하세요.\n",
    "\n",
    "text=\"에러 1122, 레퍼런스 오류, 에러 1033, 아규먼트 오류, 에러 xxx\""
   ]
  },
  {
   "cell_type": "code",
   "execution_count": 17,
   "id": "52c3f7ab",
   "metadata": {},
   "outputs": [
    {
     "data": {
      "text/plain": [
       "['에러 1122', '에러 1033', '에러 xxx']"
      ]
     },
     "execution_count": 17,
     "metadata": {},
     "output_type": "execute_result"
    }
   ],
   "source": [
    "import re\n",
    "\n",
    "text=\"에러 1122, 레퍼런스 오류, 에러 1033, 아규먼트 오류, 에러 xxx\"\n",
    "\n",
    "p=re.compile('[에러][\\s\\w]+')\n",
    "p.findall(text)"
   ]
  },
  {
   "cell_type": "markdown",
   "id": "13611a04",
   "metadata": {},
   "source": [
    "#### Q12. 정규표현식을 사용하여 text 에서 지역코드만 출력하세요\n",
    "\n",
    "text=\"문의사항이 있으면 032-232-3245로 연락주시기 바랍니다.\""
   ]
  },
  {
   "cell_type": "code",
   "execution_count": 34,
   "id": "54991447",
   "metadata": {},
   "outputs": [],
   "source": [
    "import re\n",
    "\n",
    "text=\"문의사항이 있으면 032-232-3245로 연락주시기 바랍니다.\""
   ]
  },
  {
   "cell_type": "code",
   "execution_count": 39,
   "id": "52bbe7b2",
   "metadata": {},
   "outputs": [
    {
     "data": {
      "text/plain": [
       "'032'"
      ]
     },
     "execution_count": 39,
     "metadata": {},
     "output_type": "execute_result"
    }
   ],
   "source": [
    "#search 활용\n",
    "\n",
    "p=re.compile('\\d+')\n",
    "p.search(text).group()"
   ]
  },
  {
   "cell_type": "code",
   "execution_count": 55,
   "id": "b8323b5b",
   "metadata": {},
   "outputs": [
    {
     "name": "stdout",
     "output_type": "stream",
     "text": [
      "032\n"
     ]
    }
   ],
   "source": [
    "#finditer 활용\n",
    "\n",
    "p=re.compile('\\d+')\n",
    "\n",
    "li=[]\n",
    "for i in p.finditer(text):\n",
    "    li.append(i.group())\n",
    "print(li[0])\n",
    "   "
   ]
  },
  {
   "cell_type": "code",
   "execution_count": 56,
   "id": "00bef8e0",
   "metadata": {},
   "outputs": [
    {
     "data": {
      "text/plain": [
       "'032'"
      ]
     },
     "execution_count": 56,
     "metadata": {},
     "output_type": "execute_result"
    }
   ],
   "source": [
    "#findall 활용\n",
    "\n",
    "p=re.compile('\\d+')\n",
    "p.findall(text)[0]"
   ]
  },
  {
   "cell_type": "markdown",
   "id": "507a2736",
   "metadata": {},
   "source": [
    "#### Q13. 정규표현식을 사용하여 text 에서 지역코드를 제외한 번호만 출력하세요\n",
    "\n",
    "text=\"문의사항이 있으면 032-232-3245로 연락주시기 바랍니다.\""
   ]
  },
  {
   "cell_type": "code",
   "execution_count": 124,
   "id": "0f7c259a",
   "metadata": {},
   "outputs": [],
   "source": [
    "text=\"문의사항이 있으면 032-232-3245로 연락주시기 바랍니다.\""
   ]
  },
  {
   "cell_type": "code",
   "execution_count": 131,
   "id": "0e04b490",
   "metadata": {
    "scrolled": true
   },
   "outputs": [
    {
     "data": {
      "text/plain": [
       "['232', '3245']"
      ]
     },
     "execution_count": 131,
     "metadata": {},
     "output_type": "execute_result"
    }
   ],
   "source": [
    "#findall 활용\n",
    "\n",
    "p=re.compile('-([\\d]+)')\n",
    "p.findall(text)"
   ]
  },
  {
   "cell_type": "markdown",
   "id": "9b2b53eb",
   "metadata": {},
   "source": [
    "#### Q14. 'abcdefghij'에 대해 중첩을 적용한 서브그룹 5개로 컴파일하여 group()함수를 이용하여 'abcdefghi'와 e를 출력하세요."
   ]
  },
  {
   "cell_type": "code",
   "execution_count": 112,
   "id": "8e1a8b37",
   "metadata": {},
   "outputs": [],
   "source": [
    "text='abcdefghij'\n",
    "p=re.compile('(\\w(\\w(\\w(\\w(\\w)\\w)\\w)\\w)\\w)')"
   ]
  },
  {
   "cell_type": "code",
   "execution_count": 66,
   "id": "281bb212",
   "metadata": {},
   "outputs": [
    {
     "data": {
      "text/plain": [
       "('abcdefghi', 'e')"
      ]
     },
     "execution_count": 66,
     "metadata": {},
     "output_type": "execute_result"
    }
   ],
   "source": [
    "#search 활용\n",
    "\n",
    "s=p.search(text)\n",
    "s.group(1), s.group(5)"
   ]
  },
  {
   "cell_type": "code",
   "execution_count": 68,
   "id": "5fb1bafe",
   "metadata": {},
   "outputs": [
    {
     "data": {
      "text/plain": [
       "('abcdefghi', 'e')"
      ]
     },
     "execution_count": 68,
     "metadata": {},
     "output_type": "execute_result"
    }
   ],
   "source": [
    "#match 활용\n",
    "\n",
    "m=p.match(text)\n",
    "m.group(1),m.group(5)"
   ]
  },
  {
   "cell_type": "code",
   "execution_count": 82,
   "id": "87bcb623",
   "metadata": {},
   "outputs": [
    {
     "data": {
      "text/plain": [
       "('abcdefghi', 'e')"
      ]
     },
     "execution_count": 82,
     "metadata": {},
     "output_type": "execute_result"
    }
   ],
   "source": [
    "#findall 활용\n",
    "\n",
    "f=p.findall(text)\n",
    "f[0][0],f[0][4]"
   ]
  },
  {
   "cell_type": "markdown",
   "id": "c7ccdc43",
   "metadata": {},
   "source": [
    "#### Q15. 위 문제에서 모든 서브 그룹에 대한 문자열을 포함하는 튜플을 출력하세요."
   ]
  },
  {
   "cell_type": "code",
   "execution_count": null,
   "id": "0370f586",
   "metadata": {},
   "outputs": [],
   "source": [
    "text='abcdefghij'\n",
    "p=re.compile('(\\w(\\w(\\w(\\w(\\w)\\w)\\w)\\w)\\w)')"
   ]
  },
  {
   "cell_type": "code",
   "execution_count": 100,
   "id": "8434e7d3",
   "metadata": {},
   "outputs": [
    {
     "data": {
      "text/plain": [
       "('abcdefghi', 'bcdefgh', 'cdefg', 'def', 'e')"
      ]
     },
     "execution_count": 100,
     "metadata": {},
     "output_type": "execute_result"
    }
   ],
   "source": [
    "#findall 활용\n",
    "\n",
    "f=p.findall(text)\n",
    "f[0]"
   ]
  },
  {
   "cell_type": "markdown",
   "id": "5d6a2670",
   "metadata": {},
   "source": [
    "#### Q16. 이름으로 그룹을 참조하여 'Lots of punctuation'에서 Lots를 출력하세요."
   ]
  },
  {
   "cell_type": "code",
   "execution_count": 7,
   "id": "124c3157",
   "metadata": {},
   "outputs": [
    {
     "data": {
      "text/plain": [
       "'Lots'"
      ]
     },
     "execution_count": 7,
     "metadata": {},
     "output_type": "execute_result"
    }
   ],
   "source": [
    "import re\n",
    "\n",
    "text='Lots of punctuation'\n",
    "\n",
    "p=re.compile('(?P<그룹>\\w+)\\s\\w+\\s(?P<그룹2>\\w+)')\n",
    "p.search(text).group('그룹')"
   ]
  },
  {
   "cell_type": "markdown",
   "id": "00c9eda5",
   "metadata": {},
   "source": [
    "#### Q17. 'Paris is very very beautiful'에서 'very very'를 출력하기"
   ]
  },
  {
   "cell_type": "code",
   "execution_count": 14,
   "id": "ed3d2368",
   "metadata": {},
   "outputs": [
    {
     "data": {
      "text/plain": [
       "'very very'"
      ]
     },
     "execution_count": 14,
     "metadata": {},
     "output_type": "execute_result"
    }
   ],
   "source": [
    "import re\n",
    "\n",
    "text='Paris is very very beautiful'\n",
    "\n",
    "p=re.compile('\\w+\\s\\w+')\n",
    "p.findall(text)[1]"
   ]
  },
  {
   "cell_type": "markdown",
   "id": "08254ed6",
   "metadata": {},
   "source": [
    "#### Q18. 정규 표현식을 작성하여 아래와 같이 출력하세요.\n",
    "'1 apple', '5 oranges', '3 boys', '4 girls', '10 army', '11 mr'"
   ]
  },
  {
   "cell_type": "code",
   "execution_count": 8,
   "id": "f23f2abc",
   "metadata": {},
   "outputs": [],
   "source": [
    "text='1 apple,5 oranges,3 boys,4 girls;10 army|11 mr'"
   ]
  },
  {
   "cell_type": "code",
   "execution_count": 9,
   "id": "93f60917",
   "metadata": {},
   "outputs": [
    {
     "data": {
      "text/plain": [
       "['1 apple', '5 oranges', '3 boys', '4 girls', '0 army', '1 mr']"
      ]
     },
     "execution_count": 9,
     "metadata": {},
     "output_type": "execute_result"
    }
   ],
   "source": [
    "#findall 활용\n",
    "\n",
    "p=re.compile('\\d \\w+')\n",
    "p.findall(text)"
   ]
  },
  {
   "cell_type": "markdown",
   "id": "aa8e6b7a",
   "metadata": {},
   "source": [
    "#### Q19. text에서 'H,h'만 출력하세요."
   ]
  },
  {
   "cell_type": "code",
   "execution_count": 10,
   "id": "d37496a7",
   "metadata": {},
   "outputs": [
    {
     "data": {
      "text/plain": [
       "['H', 'h']"
      ]
     },
     "execution_count": 10,
     "metadata": {},
     "output_type": "execute_result"
    }
   ],
   "source": [
    "import re\n",
    "\n",
    "text='Hello my friend! Life is too short'\n",
    "\n",
    "p=re.compile('[Hh]')\n",
    "p.findall(text)"
   ]
  },
  {
   "cell_type": "markdown",
   "id": "38c2defd",
   "metadata": {},
   "source": [
    "#### Q20. text에서 'H,h'만 빼고 출력하세요."
   ]
  },
  {
   "cell_type": "code",
   "execution_count": 11,
   "id": "00748dea",
   "metadata": {},
   "outputs": [
    {
     "data": {
      "text/plain": [
       "['e',\n",
       " 'l',\n",
       " 'l',\n",
       " 'o',\n",
       " ' ',\n",
       " 'm',\n",
       " 'y',\n",
       " ' ',\n",
       " 'f',\n",
       " 'r',\n",
       " 'i',\n",
       " 'e',\n",
       " 'n',\n",
       " 'd',\n",
       " '!',\n",
       " ' ',\n",
       " 'L',\n",
       " 'i',\n",
       " 'f',\n",
       " 'e',\n",
       " ' ',\n",
       " 'i',\n",
       " 's',\n",
       " ' ',\n",
       " 't',\n",
       " 'o',\n",
       " 'o',\n",
       " ' ',\n",
       " 's',\n",
       " 'o',\n",
       " 'r',\n",
       " 't']"
      ]
     },
     "execution_count": 11,
     "metadata": {},
     "output_type": "execute_result"
    }
   ],
   "source": [
    "import re\n",
    "\n",
    "text='Hello my friend! Life is too short'\n",
    "\n",
    "p=re.compile('[^Hh]')\n",
    "p.findall(text)"
   ]
  },
  {
   "cell_type": "markdown",
   "id": "452d295e",
   "metadata": {},
   "source": [
    "# 7/21"
   ]
  },
  {
   "cell_type": "markdown",
   "id": "d886ab19",
   "metadata": {},
   "source": [
    "#### Q21.  'we are going home'에서 home만 출력하세요."
   ]
  },
  {
   "cell_type": "code",
   "execution_count": 16,
   "id": "e5e1c4b4",
   "metadata": {},
   "outputs": [
    {
     "data": {
      "text/plain": [
       "'home'"
      ]
     },
     "execution_count": 16,
     "metadata": {},
     "output_type": "execute_result"
    }
   ],
   "source": [
    "import re\n",
    "\n",
    "text='we are going home'\n",
    "\n",
    "p=re.compile('\\w+')\n",
    "p.findall(text)[-1]"
   ]
  },
  {
   "cell_type": "code",
   "execution_count": 1,
   "id": "16a0231f",
   "metadata": {},
   "outputs": [
    {
     "data": {
      "text/plain": [
       "['home']"
      ]
     },
     "execution_count": 1,
     "metadata": {},
     "output_type": "execute_result"
    }
   ],
   "source": [
    "import re\n",
    "\n",
    "text='we are going home'\n",
    "\n",
    "p=re.compile('\\w+$')\n",
    "p.findall(text)"
   ]
  },
  {
   "cell_type": "markdown",
   "id": "efa7d44b",
   "metadata": {},
   "source": [
    "#### Q22. '199305, 1923A, a93247'에서 '199305'만 출력하세요."
   ]
  },
  {
   "cell_type": "code",
   "execution_count": 28,
   "id": "8108ab71",
   "metadata": {},
   "outputs": [
    {
     "data": {
      "text/plain": [
       "'199305'"
      ]
     },
     "execution_count": 28,
     "metadata": {},
     "output_type": "execute_result"
    }
   ],
   "source": [
    "import re\n",
    "\n",
    "text='199305, 1923A, a93247'\n",
    "\n",
    "p=re.compile('(\\w+)')\n",
    "p.findall(text)[0]"
   ]
  },
  {
   "cell_type": "code",
   "execution_count": 2,
   "id": "e8e2b3a6",
   "metadata": {},
   "outputs": [
    {
     "data": {
      "text/plain": [
       "['199305']"
      ]
     },
     "execution_count": 2,
     "metadata": {},
     "output_type": "execute_result"
    }
   ],
   "source": [
    "import re\n",
    "\n",
    "text='199305, 1923A, a93247'\n",
    "\n",
    "p=re.compile('^\\w+')\n",
    "p.findall(text)"
   ]
  },
  {
   "cell_type": "markdown",
   "id": "1936c971",
   "metadata": {},
   "source": [
    "#### Q23. '12345abc'에서 'abc'만 출력하세요."
   ]
  },
  {
   "cell_type": "code",
   "execution_count": 29,
   "id": "05e5df6e",
   "metadata": {},
   "outputs": [
    {
     "data": {
      "text/plain": [
       "'abc'"
      ]
     },
     "execution_count": 29,
     "metadata": {},
     "output_type": "execute_result"
    }
   ],
   "source": [
    "import re\n",
    "\n",
    "text= '12345abc'\n",
    "p=re.compile('[a-z]+')\n",
    "p.search(text).group()"
   ]
  },
  {
   "cell_type": "markdown",
   "id": "1fa26933",
   "metadata": {},
   "source": [
    "#### Q24. 'abc12345Abc'에서 'a'만 출력하세요.\n"
   ]
  },
  {
   "cell_type": "code",
   "execution_count": 30,
   "id": "bfd9543f",
   "metadata": {},
   "outputs": [
    {
     "data": {
      "text/plain": [
       "'a'"
      ]
     },
     "execution_count": 30,
     "metadata": {},
     "output_type": "execute_result"
    }
   ],
   "source": [
    "import re\n",
    "\n",
    "text='abc12345Abc'\n",
    "\n",
    "p=re.compile('\\w')\n",
    "p.findall(text)[0]"
   ]
  },
  {
   "cell_type": "code",
   "execution_count": 7,
   "id": "0b275a7f",
   "metadata": {},
   "outputs": [
    {
     "data": {
      "text/plain": [
       "'12345'"
      ]
     },
     "execution_count": 7,
     "metadata": {},
     "output_type": "execute_result"
    }
   ],
   "source": [
    "#숫자가 아닌 것은 공백으로 대체하기\n",
    "\n",
    "import re\n",
    "\n",
    "text='12345abc'\n",
    "\n",
    "re.sub('[^0-9]','',text)"
   ]
  },
  {
   "cell_type": "markdown",
   "id": "e9a60ea9",
   "metadata": {},
   "source": [
    "#### Q25. 'abc12345Abc'에서 'A'만 출력하세요."
   ]
  },
  {
   "cell_type": "code",
   "execution_count": 31,
   "id": "8818f1ff",
   "metadata": {},
   "outputs": [
    {
     "data": {
      "text/plain": [
       "'A'"
      ]
     },
     "execution_count": 31,
     "metadata": {},
     "output_type": "execute_result"
    }
   ],
   "source": [
    "import re\n",
    "\n",
    "text='abc12345Abc'\n",
    "\n",
    "p=re.compile('[A-Z]')\n",
    "p.search(text).group()"
   ]
  },
  {
   "cell_type": "markdown",
   "id": "aa1779a6",
   "metadata": {},
   "source": [
    "# 7/22"
   ]
  },
  {
   "cell_type": "markdown",
   "id": "a819eb07",
   "metadata": {},
   "source": [
    "#### Q26. 'Banker'에서 'anker', 'banker123'에서 'banker'를 출력하세요"
   ]
  },
  {
   "cell_type": "code",
   "execution_count": 2,
   "id": "de555695",
   "metadata": {},
   "outputs": [
    {
     "data": {
      "text/plain": [
       "\"\\n'anker'\\n'banker'\\n\""
      ]
     },
     "execution_count": 2,
     "metadata": {},
     "output_type": "execute_result"
    }
   ],
   "source": [
    "import re\n",
    "text='Banker'\n",
    "text2='banker123'\n",
    "'''\n",
    "'anker'\n",
    "'banker'\n",
    "'''"
   ]
  },
  {
   "cell_type": "code",
   "execution_count": 10,
   "id": "30d78609",
   "metadata": {},
   "outputs": [
    {
     "data": {
      "text/plain": [
       "'anker'"
      ]
     },
     "execution_count": 10,
     "metadata": {},
     "output_type": "execute_result"
    }
   ],
   "source": [
    "re.sub('B','',text)"
   ]
  },
  {
   "cell_type": "code",
   "execution_count": 14,
   "id": "4a581dd5",
   "metadata": {},
   "outputs": [
    {
     "data": {
      "text/plain": [
       "'banker'"
      ]
     },
     "execution_count": 14,
     "metadata": {},
     "output_type": "execute_result"
    }
   ],
   "source": [
    "re.sub('\\d','',text2)"
   ]
  },
  {
   "cell_type": "markdown",
   "id": "8569c1b4",
   "metadata": {},
   "source": [
    "#### Q27. 'KOREA 대한민국'에서 '대'만 출력하세요."
   ]
  },
  {
   "cell_type": "code",
   "execution_count": 16,
   "id": "f1b30bc4",
   "metadata": {},
   "outputs": [
    {
     "data": {
      "text/plain": [
       "'대'"
      ]
     },
     "execution_count": 16,
     "metadata": {},
     "output_type": "execute_result"
    }
   ],
   "source": [
    "import re\n",
    "\n",
    "text='KOREA 대한민국'\n",
    "\n",
    "re.search('[가-힣]',text).group()"
   ]
  },
  {
   "cell_type": "markdown",
   "id": "e2327361",
   "metadata": {},
   "source": [
    "#### Q28. 'aaaaBBBcccDDDeee'을 모두 출력하세요.\n",
    "text = 'aaaBBccDDeeaaaaBBBcccDDDeeeeeeDDDcccBBBaaaa'\n"
   ]
  },
  {
   "cell_type": "code",
   "execution_count": 19,
   "id": "bacdaae7",
   "metadata": {},
   "outputs": [
    {
     "data": {
      "text/plain": [
       "'aaaaBBBcccDDDeee'"
      ]
     },
     "execution_count": 19,
     "metadata": {},
     "output_type": "execute_result"
    }
   ],
   "source": [
    "import re\n",
    "\n",
    "text = 'aaaBBccDDeeaaaaBBBcccDDDeeeeeeDDDcccBBBaaaa'\n",
    "\n",
    "re.search('a{4}B{3}c{3}D{3}e{3}',text).group()"
   ]
  },
  {
   "cell_type": "markdown",
   "id": "5de54f92",
   "metadata": {},
   "source": [
    "#### Q29. 아래의 경우에서 \\<html>만 출력하세요\n",
    "\n",
    "pattern = re.compile('<.*>')\n",
    "\n",
    "print(len(text)) p = pattern.search(text) p.group()"
   ]
  },
  {
   "cell_type": "code",
   "execution_count": 20,
   "id": "91a68978",
   "metadata": {},
   "outputs": [
    {
     "data": {
      "text/plain": [
       "'\\ntext = \"<html><head><title>Title</title></head><body></body></html>\\'\\n'"
      ]
     },
     "execution_count": 20,
     "metadata": {},
     "output_type": "execute_result"
    }
   ],
   "source": [
    "'''\n",
    "text = \"<html><head><title>Title</title></head><body></body></html>'\n",
    "'''"
   ]
  },
  {
   "cell_type": "code",
   "execution_count": 27,
   "id": "cc60d3fd",
   "metadata": {},
   "outputs": [
    {
     "name": "stdout",
     "output_type": "stream",
     "text": [
      "59\n"
     ]
    },
    {
     "data": {
      "text/plain": [
       "'<html>'"
      ]
     },
     "execution_count": 27,
     "metadata": {},
     "output_type": "execute_result"
    }
   ],
   "source": [
    "text = '<html><head><title>Title</title></head><body></body></html>'\n",
    "\n",
    "pattern = re.compile('<.*>')      # greedy 방식: '.*'\n",
    "print(len(text)) \n",
    "p = pattern.search(text)\n",
    "p.group()[:6]"
   ]
  },
  {
   "cell_type": "code",
   "execution_count": 3,
   "id": "2735f89b",
   "metadata": {},
   "outputs": [
    {
     "name": "stdout",
     "output_type": "stream",
     "text": [
      "59\n"
     ]
    },
    {
     "data": {
      "text/plain": [
       "'<html>'"
      ]
     },
     "execution_count": 3,
     "metadata": {},
     "output_type": "execute_result"
    }
   ],
   "source": [
    "text = '<html><head><title>Title</title></head><body></body></html>'\n",
    "\n",
    "pattern = re.compile('<.*?>')     # non-greedy 방식: '.*?'\n",
    "print(len(text)) \n",
    "p = pattern.search(text)\n",
    "p.group()[:6]"
   ]
  },
  {
   "cell_type": "markdown",
   "id": "8969a6e5",
   "metadata": {},
   "source": [
    "#### Q30. '1234a1234'에서  '1', '2', '3', '4'를 모두 출력하세요."
   ]
  },
  {
   "cell_type": "code",
   "execution_count": 21,
   "id": "6f7af902",
   "metadata": {},
   "outputs": [
    {
     "data": {
      "text/plain": [
       "['1', '2', '3', '4', '1', '2', '3', '4']"
      ]
     },
     "execution_count": 21,
     "metadata": {},
     "output_type": "execute_result"
    }
   ],
   "source": [
    "import re\n",
    "\n",
    "text='1234a1234'\n",
    "\n",
    "re.findall('\\d',text)"
   ]
  },
  {
   "cell_type": "markdown",
   "id": "8488f6b3",
   "metadata": {},
   "source": [
    "# 07/25"
   ]
  },
  {
   "cell_type": "markdown",
   "id": "90e70bcb",
   "metadata": {},
   "source": [
    "#### Q32. text에서 전체문장 모두 출력하세요."
   ]
  },
  {
   "cell_type": "markdown",
   "id": "6e338b88",
   "metadata": {},
   "source": [
    "```\n",
    "text = \"what are you doing?\\nit is going to be late for school\\nwe need to hurry up\"\n",
    "regex = re.compile('.*')\n",
    "mo = regex.search(text)\n",
    "print(mo.group())\n",
    "\n",
    "```"
   ]
  },
  {
   "cell_type": "code",
   "execution_count": 1,
   "id": "43947a8c",
   "metadata": {},
   "outputs": [],
   "source": [
    "import re\n",
    "\n",
    "text = \"what are you doing?\\nit is going to be late for school\\nwe need to hurry up\""
   ]
  },
  {
   "cell_type": "code",
   "execution_count": 2,
   "id": "2961d467",
   "metadata": {},
   "outputs": [
    {
     "name": "stdout",
     "output_type": "stream",
     "text": [
      "what are you doing?\n",
      "it is going to be late for school\n",
      "we need to hurry up\n"
     ]
    }
   ],
   "source": [
    "#방법2\n",
    "                                      #'.*': 줄바꿈 문자 전까지만 해당\n",
    "regex = re.compile('.*',re.DOTALL)    #re.DOTALL: dot(.)이 줄바꿈 문자도 포함해서 매치함\n",
    "mo = regex.search(text)\n",
    "\n",
    "print(mo.group())"
   ]
  },
  {
   "cell_type": "code",
   "execution_count": null,
   "id": "c9da39fe",
   "metadata": {},
   "outputs": [],
   "source": [
    "#방법1\n",
    "\n",
    "regex = re.compile('(.|\\n)*')    #greedy 방식(줄바꿈 포함)\n",
    "mo = regex.search(text)\n",
    "\n",
    "print(mo.group())"
   ]
  },
  {
   "cell_type": "markdown",
   "id": "c61f540d",
   "metadata": {},
   "source": [
    "#### Q33.  text에서 대소문자 구분없이 전체문장을 한 단어씩 모두 출력하세요"
   ]
  },
  {
   "cell_type": "code",
   "execution_count": 6,
   "id": "e55e5813",
   "metadata": {},
   "outputs": [],
   "source": [
    "import re\n",
    "\n",
    "text = 'Friend fRiend friEnd FRIEND'"
   ]
  },
  {
   "cell_type": "markdown",
   "id": "db1b57f1",
   "metadata": {},
   "source": [
    "- 모든단어 추출"
   ]
  },
  {
   "cell_type": "code",
   "execution_count": 30,
   "id": "49536174",
   "metadata": {},
   "outputs": [
    {
     "name": "stdout",
     "output_type": "stream",
     "text": [
      "Friend fRiend friEnd FRIEND\n"
     ]
    }
   ],
   "source": [
    "print(re.search('[\\s\\w]+',text).group())"
   ]
  },
  {
   "cell_type": "code",
   "execution_count": 31,
   "id": "92f809ab",
   "metadata": {
    "scrolled": false
   },
   "outputs": [
    {
     "name": "stdout",
     "output_type": "stream",
     "text": [
      "Friend fRiend friEnd FRIEND\n"
     ]
    }
   ],
   "source": [
    "print(re.search('.*',text).group())"
   ]
  },
  {
   "cell_type": "code",
   "execution_count": 32,
   "id": "765bcb5a",
   "metadata": {},
   "outputs": [
    {
     "name": "stdout",
     "output_type": "stream",
     "text": [
      "Friend fRiend friEnd FRIEND\n"
     ]
    }
   ],
   "source": [
    "print(re.match('[\\s\\w]+',text).group())"
   ]
  },
  {
   "cell_type": "markdown",
   "id": "461d6b85",
   "metadata": {},
   "source": [
    "- 한 단어씩 추출"
   ]
  },
  {
   "cell_type": "code",
   "execution_count": 12,
   "id": "9e2e9be3",
   "metadata": {},
   "outputs": [
    {
     "name": "stdout",
     "output_type": "stream",
     "text": [
      "Friend\n",
      "fRiend\n",
      "friEnd\n",
      "FRIEND\n"
     ]
    }
   ],
   "source": [
    "p=re.compile('friend*',re.I)\n",
    "\n",
    "for t in re.findall(p,text):\n",
    "    print(t)"
   ]
  },
  {
   "cell_type": "markdown",
   "id": "e591461b",
   "metadata": {},
   "source": [
    "- 한 글자씩 추출"
   ]
  },
  {
   "cell_type": "code",
   "execution_count": 34,
   "id": "7a445037",
   "metadata": {},
   "outputs": [
    {
     "name": "stdout",
     "output_type": "stream",
     "text": [
      "F r i e n d f R i e n d f r i E n d F R I E N D "
     ]
    }
   ],
   "source": [
    "#방법1\n",
    "\n",
    "words=re.findall('[\\w]',text)\n",
    "\n",
    "for w in words:\n",
    "    print(w,end=\" \")"
   ]
  },
  {
   "cell_type": "code",
   "execution_count": 9,
   "id": "24632005",
   "metadata": {},
   "outputs": [
    {
     "name": "stdout",
     "output_type": "stream",
     "text": [
      "F r i e n d f R i e n d f r i E n d F R I E N D "
     ]
    }
   ],
   "source": [
    "#방법2\n",
    "\n",
    "p=re.compile('[a-z]',re.IGNORECASE)\n",
    "\n",
    "for i in re.findall(p,text):\n",
    "    print(i,end=' ')"
   ]
  },
  {
   "cell_type": "markdown",
   "id": "c574d9aa",
   "metadata": {},
   "source": [
    "#### Q34. 1609160537.371015을 \"Sat Jun 26 08:35:03 2021\" 포멧으로 출력하세요."
   ]
  },
  {
   "cell_type": "code",
   "execution_count": 14,
   "id": "0e51dc11",
   "metadata": {},
   "outputs": [],
   "source": [
    "time=1609160537.371015"
   ]
  },
  {
   "cell_type": "code",
   "execution_count": 16,
   "id": "e39dd473",
   "metadata": {},
   "outputs": [
    {
     "data": {
      "text/plain": [
       "'Mon Dec 28 22:02:17 2020'"
      ]
     },
     "execution_count": 16,
     "metadata": {},
     "output_type": "execute_result"
    }
   ],
   "source": [
    "#방법1\n",
    "\n",
    "from datetime import datetime \n",
    "\n",
    "date=datetime.fromtimestamp(time)\n",
    "date.strftime('%c')"
   ]
  },
  {
   "cell_type": "code",
   "execution_count": 18,
   "id": "5de67832",
   "metadata": {},
   "outputs": [
    {
     "data": {
      "text/plain": [
       "'Mon Dec 28 22:02:17 2020'"
      ]
     },
     "execution_count": 18,
     "metadata": {},
     "output_type": "execute_result"
    }
   ],
   "source": [
    "#방법2\n",
    "import time\n",
    "\n",
    "timestring=time.ctime(1609160537.371015)\n",
    "timestring"
   ]
  },
  {
   "cell_type": "markdown",
   "id": "2945ff13",
   "metadata": {},
   "source": [
    "- ctime() 함수는 주어진 timestamp를 현지 시간대 기준으로 소위 미국에서 흔히 사용되는 요 월 일 시:분:초 년 포멧으로 변환해줍니다. 그냥 간단하게 timestamp가 나타내는 날짜와 시간을 확인해보는 용도로 쓰기에 좋습니다.\n"
   ]
  },
  {
   "cell_type": "code",
   "execution_count": 20,
   "id": "c2553f8f",
   "metadata": {},
   "outputs": [
    {
     "data": {
      "text/plain": [
       "'Mon Dec 28 22:17:17 2020'"
      ]
     },
     "execution_count": 20,
     "metadata": {},
     "output_type": "execute_result"
    }
   ],
   "source": [
    "#방법3\n",
    "\n",
    "from datetime import datetime\n",
    "\n",
    "time = datetime.fromtimestamp(1609160537.371015)\n",
    "time = time.strftime(\"%a %b %d %H:%S:%S %Y\")\n",
    "time"
   ]
  },
  {
   "cell_type": "markdown",
   "id": "3fb116cc",
   "metadata": {},
   "source": [
    "#### Q35.  현재 날짜와 시간을 \"Sat Jun 26 08:35:03 2021\" 포멧으로 출력하세요.\n"
   ]
  },
  {
   "cell_type": "code",
   "execution_count": 44,
   "id": "7b387d01",
   "metadata": {},
   "outputs": [
    {
     "data": {
      "text/plain": [
       "'Mon Jul 25 20:43:26 2022'"
      ]
     },
     "execution_count": 44,
     "metadata": {},
     "output_type": "execute_result"
    }
   ],
   "source": [
    "now=datetime.now()\n",
    "\n",
    "now.strftime('%c')    #Local version의 날짜와 시간"
   ]
  },
  {
   "cell_type": "markdown",
   "id": "7f29aa61",
   "metadata": {},
   "source": [
    "# 07/26"
   ]
  },
  {
   "cell_type": "markdown",
   "id": "8c378dfd",
   "metadata": {},
   "source": [
    "#### Q36. 현재 시간을 년-월-일 시:분:초로 출력하세요."
   ]
  },
  {
   "cell_type": "code",
   "execution_count": 31,
   "id": "5c360201",
   "metadata": {},
   "outputs": [
    {
     "name": "stdout",
     "output_type": "stream",
     "text": [
      "2022-07-26 17:38:39\n"
     ]
    }
   ],
   "source": [
    "from datetime import datetime \n",
    "\n",
    "now = datetime.now()\n",
    "\n",
    "print(now.strftime('%Y-%m-%d %H:%M:%S'))"
   ]
  },
  {
   "cell_type": "markdown",
   "id": "42ce1e0b",
   "metadata": {},
   "source": [
    "#### Q37. 현재 시간을 time.time을 불러와서 년-월-일 시:분:초로 출력하세요.\n"
   ]
  },
  {
   "cell_type": "code",
   "execution_count": 35,
   "id": "2e098b5b",
   "metadata": {},
   "outputs": [
    {
     "name": "stdout",
     "output_type": "stream",
     "text": [
      "2022-07-26 17:40:53\n"
     ]
    }
   ],
   "source": [
    "import time \n",
    "from datetime import datetime \n",
    "\n",
    "now = time.time()\n",
    "now_datetime = datetime.fromtimestamp(now)\n",
    "\n",
    "print(now_datetime.strftime('%Y-%m-%d %H:%M:%S'))"
   ]
  },
  {
   "cell_type": "markdown",
   "id": "ef8ff8ba",
   "metadata": {},
   "source": [
    "#### Q38. 올해 경과된 날짜수 계산하세요\n"
   ]
  },
  {
   "cell_type": "code",
   "execution_count": 64,
   "id": "6e7b595b",
   "metadata": {},
   "outputs": [
    {
     "name": "stdout",
     "output_type": "stream",
     "text": [
      "올해 경과된 날짜수는 206일 입니다.\n"
     ]
    }
   ],
   "source": [
    "from datetime import datetime \n",
    "\n",
    "startday = datetime.strptime('2022-01-01','%Y-%m-%d')\n",
    "now = datetime.now()\n",
    "\n",
    "days = now - startday\n",
    "\n",
    "print(f'올해 경과된 날짜수는 {days.days}일 입니다.')"
   ]
  },
  {
   "cell_type": "markdown",
   "id": "2f7c0ded",
   "metadata": {},
   "source": [
    "#### Q39. 현재 요일을 \"2021-6-26 오늘은 토요일입니다.\"와 같은 형식으로 출력하세요.\n"
   ]
  },
  {
   "cell_type": "code",
   "execution_count": 119,
   "id": "ad3e5853",
   "metadata": {
    "scrolled": true
   },
   "outputs": [],
   "source": [
    "now=datetime.now()"
   ]
  },
  {
   "cell_type": "code",
   "execution_count": 120,
   "id": "2be50056",
   "metadata": {},
   "outputs": [],
   "source": [
    "def get_yoil(x):\n",
    "    n = x.weekday()\n",
    "    \n",
    "    date = x.strftime('%Y-%m-%d')\n",
    "    yoil = ['월요일','화요일','수요일','목요일','금요일','토요일','일요일']\n",
    "    \n",
    "    return date, yoil[n]"
   ]
  },
  {
   "cell_type": "code",
   "execution_count": 122,
   "id": "36593145",
   "metadata": {},
   "outputs": [
    {
     "name": "stdout",
     "output_type": "stream",
     "text": [
      "2022-07-26 오늘은 화요일입니다.\n"
     ]
    }
   ],
   "source": [
    "print(f'{get_yoil(now)[0]} 오늘은 {get_yoil(now)[1]}입니다.')"
   ]
  },
  {
   "cell_type": "markdown",
   "id": "2c8218a0",
   "metadata": {},
   "source": [
    "#### Q40. 1에서 백만까지 더하는데 걸리는 프로그램 실행 시간을 밀리초(ms) 단위로 구하세요."
   ]
  },
  {
   "cell_type": "code",
   "execution_count": 1,
   "id": "a3aa4740",
   "metadata": {},
   "outputs": [
    {
     "name": "stdout",
     "output_type": "stream",
     "text": [
      "98789 밀리초(ms)\n"
     ]
    }
   ],
   "source": [
    "import time \n",
    "from datetime import datetime \n",
    "\n",
    "n=0\n",
    "\n",
    "start_time = datetime.now()\n",
    "\n",
    "for i in range(1000000):\n",
    "    n += 1\n",
    "    \n",
    "end_time = datetime.now()\n",
    "\n",
    "print(f'{(end_time - start_time).microseconds} 밀리초(ms)')"
   ]
  },
  {
   "cell_type": "code",
   "execution_count": 2,
   "id": "7aec4428",
   "metadata": {},
   "outputs": [
    {
     "name": "stdout",
     "output_type": "stream",
     "text": [
      "34861 밀리초(ms)\n"
     ]
    }
   ],
   "source": [
    "import time \n",
    "from datetime import datetime \n",
    "\n",
    "n=0\n",
    "\n",
    "start_time = datetime.now()\n",
    "\n",
    "sum(range(1,1000001))\n",
    "    \n",
    "end_time = datetime.now()\n",
    "\n",
    "print(f'{(end_time - start_time).microseconds} 밀리초(ms)')"
   ]
  },
  {
   "cell_type": "markdown",
   "id": "0e02c4df",
   "metadata": {},
   "source": [
    "# 07/27"
   ]
  },
  {
   "cell_type": "markdown",
   "id": "fb4d6ff8",
   "metadata": {},
   "source": [
    "#### Q41. 아래 코드를 보완하여 발생 가능한 모든 예외(정수, 인덱스, 미리 파악하지 못한 예외)를 처리한 후 마지막에  '모든 예외처리 완료'를 출력하세요.\n",
    "- list_num = [52,273,32,72,100]\n",
    "\n",
    "- num_input = int(input('정수 입력> '))\n",
    "- print(f'{num_input}번째 요소: {list_num[num_input-1]}')"
   ]
  },
  {
   "cell_type": "code",
   "execution_count": 13,
   "id": "35a37be1",
   "metadata": {},
   "outputs": [
    {
     "name": "stdout",
     "output_type": "stream",
     "text": [
      "정수 입력> 9\n",
      "※ 경고: 정수만 입력해주세요\n",
      "정수 입력> 45\n",
      "※ 경고: 정수만 입력해주세요\n",
      "정수 입력> 2\n",
      "2번째 요소: 273\n",
      "모든 예외처리 완료\n"
     ]
    }
   ],
   "source": [
    "# IndexError: list index out of range\n",
    "# ValueError: invalid literal for int() with base 10: '2.3'\n",
    "# ValueError: invalid literal for int() with base 10: '정수'\n",
    "\n",
    "while True:\n",
    "    try:\n",
    "        list_num = [52,273,32,72,100]\n",
    "        num_input = int(input('정수 입력> '))\n",
    "        print(f'{num_input}번째 요소: {list_num[num_input-1]}')  \n",
    "\n",
    "    except:\n",
    "        if (IndexError):\n",
    "            print('※ 경고: 정수만 입력해주세요')\n",
    "            continue\n",
    "            \n",
    "        if (ValueError):\n",
    "            print('※ 경고: -4 ~ 5 사이의 숫자만 입력해주세요.')\n",
    "            continue\n",
    "\n",
    "    finally:\n",
    "        if num_input>=-4 & num_input<=5:\n",
    "            print('모든 예외처리 완료')\n",
    "            break\n",
    "    \n"
   ]
  },
  {
   "cell_type": "markdown",
   "id": "f4e69365",
   "metadata": {},
   "source": [
    "#### Q42. 기본가격 1000원인 2개의 상품에 대하여 임의의 추가 가격을 입력시 가격 조정한 결과를 반환하는 Price 클래스를 생성 후 객체를 만들어 price1, price2를 수행하세요. \n",
    "- price1 : 기본가격 + 추가가격\n",
    "- price2 : (기본가격 + 추가가격) * 90%\n"
   ]
  },
  {
   "cell_type": "code",
   "execution_count": 55,
   "id": "9b048923",
   "metadata": {},
   "outputs": [],
   "source": [
    "#방법1\n",
    "\n",
    "class Price:\n",
    "    def __init__(self):\n",
    "        self.price1 = 1000      \n",
    "        self.price2 = 1000      \n",
    "        \n",
    "    def add(self, n, add):\n",
    "        self.add = add\n",
    "        self.n = n\n",
    "        \n",
    "        if self.n == 1:\n",
    "            self.price1 += self.add\n",
    "            return f'price1의 기본 가격이 \"{self.price1}원\"으로 변경되었습니다.'\n",
    "        elif self.n == 2:\n",
    "            self.price2 += self.add\n",
    "            self.price2 *= 0.9\n",
    "            self.price2 = int(self.price2)\n",
    "            return f'price2의 기본 가격이 \"{self.price2}원\"으로 변경되었습니다.'\n",
    "    \n"
   ]
  },
  {
   "cell_type": "code",
   "execution_count": 56,
   "id": "b52e0cbd",
   "metadata": {},
   "outputs": [
    {
     "data": {
      "text/plain": [
       "'price1의 기본 가격이 \"1300원\"으로 변경되었습니다.'"
      ]
     },
     "execution_count": 56,
     "metadata": {},
     "output_type": "execute_result"
    }
   ],
   "source": [
    "price = Price()\n",
    "price.add(1,300)"
   ]
  },
  {
   "cell_type": "code",
   "execution_count": 57,
   "id": "f89ae322",
   "metadata": {},
   "outputs": [
    {
     "data": {
      "text/plain": [
       "'price2의 기본 가격이 \"1800원\"으로 변경되었습니다.'"
      ]
     },
     "execution_count": 57,
     "metadata": {},
     "output_type": "execute_result"
    }
   ],
   "source": [
    "price = Price()\n",
    "price.add(2,1000)"
   ]
  },
  {
   "cell_type": "code",
   "execution_count": 70,
   "id": "fd419d9d",
   "metadata": {},
   "outputs": [],
   "source": [
    "#방법2\n",
    "\n",
    "class Price:\n",
    "    def __init__(self):\n",
    "        self.price1 = 1000      \n",
    "        self.price2 = 1000      \n",
    "        \n",
    "    def price1_add(self, add):\n",
    "        self.add = add\n",
    "        self.price1 += self.add\n",
    "        return f'price1의 기본 가격이 \"{str(self.price1)}원\"으로 변경되었습니다.'\n",
    "    \n",
    "    def price2_add(self, add):\n",
    "        self.add = add    \n",
    "        self.price2 = int((self.price2 + self.add)*0.9)\n",
    "        return f'price2의 기본 가격이 \"{str(self.price2)}원\"으로 변경되었습니다.'\n",
    "    "
   ]
  },
  {
   "cell_type": "code",
   "execution_count": 73,
   "id": "5b09b849",
   "metadata": {},
   "outputs": [
    {
     "data": {
      "text/plain": [
       "'price1의 기본 가격이 \"1500원\"으로 변경되었습니다.'"
      ]
     },
     "execution_count": 73,
     "metadata": {},
     "output_type": "execute_result"
    }
   ],
   "source": [
    "price = Price()\n",
    "price.price1_add(500)"
   ]
  },
  {
   "cell_type": "code",
   "execution_count": 74,
   "id": "1d28e14d",
   "metadata": {},
   "outputs": [
    {
     "data": {
      "text/plain": [
       "'price2의 기본 가격이 \"2700원\"으로 변경되었습니다.'"
      ]
     },
     "execution_count": 74,
     "metadata": {},
     "output_type": "execute_result"
    }
   ],
   "source": [
    "price.price2_add(2000)"
   ]
  },
  {
   "cell_type": "markdown",
   "id": "5af3a710",
   "metadata": {},
   "source": [
    "#### Q43. strings를 문자의 크기 순서로 내림차순 정렬하세요\n",
    "- strings = ['a', 'ca', 'bar', 'aaaa', 'ababa']\n"
   ]
  },
  {
   "cell_type": "code",
   "execution_count": 2,
   "id": "c3a4d23d",
   "metadata": {},
   "outputs": [],
   "source": [
    "strings = ['a', 'ca', 'bar', 'aaaa', 'ababa']"
   ]
  },
  {
   "cell_type": "code",
   "execution_count": 8,
   "id": "cc0c5f4c",
   "metadata": {},
   "outputs": [
    {
     "data": {
      "text/plain": [
       "['ababa', 'aaaa', 'bar', 'ca', 'a']"
      ]
     },
     "execution_count": 8,
     "metadata": {},
     "output_type": "execute_result"
    }
   ],
   "source": [
    "#방법1\n",
    "\n",
    "strings.sort(key = lambda x: len(x), reverse=True)\n",
    "strings"
   ]
  },
  {
   "cell_type": "code",
   "execution_count": 9,
   "id": "dcb1d4cc",
   "metadata": {},
   "outputs": [
    {
     "name": "stdout",
     "output_type": "stream",
     "text": [
      "['ababa', 'aaaa', 'bar', 'ca', 'a']\n"
     ]
    }
   ],
   "source": [
    "#방법2\n",
    "\n",
    "strings.sort(key = len)\n",
    "strings.reverse()\n",
    "print(strings)"
   ]
  },
  {
   "cell_type": "code",
   "execution_count": 10,
   "id": "af0ee819",
   "metadata": {},
   "outputs": [
    {
     "data": {
      "text/plain": [
       "['ababa', 'aaaa', 'bar', 'ca', 'a']"
      ]
     },
     "execution_count": 10,
     "metadata": {},
     "output_type": "execute_result"
    }
   ],
   "source": [
    "#방법3\n",
    "\n",
    "strings.sort(key = len, reverse=True)\n",
    "strings"
   ]
  },
  {
   "cell_type": "markdown",
   "id": "687dd13b",
   "metadata": {},
   "source": [
    "#### Q44. strings를 다양한 문자가 포함된 순서로 정렬하세요\n",
    "\n",
    "- strings = ['foo', 'card', 'bar', 'aaaa', 'abab']\n",
    "- strings.sort(key = lambda x:len(set(x)))\n",
    "- strings\n"
   ]
  },
  {
   "cell_type": "code",
   "execution_count": 21,
   "id": "df4cd07e",
   "metadata": {},
   "outputs": [
    {
     "data": {
      "text/plain": [
       "['card', 'bar', 'foo', 'abab', 'aaaa']"
      ]
     },
     "execution_count": 21,
     "metadata": {},
     "output_type": "execute_result"
    }
   ],
   "source": [
    "strings = ['foo', 'card', 'bar', 'aaaa', 'abab']\n",
    "\n",
    "strings.sort(key = lambda x:len(set(x)), reverse=True)\n",
    "strings"
   ]
  },
  {
   "cell_type": "markdown",
   "id": "0db53672",
   "metadata": {},
   "source": [
    "#### Q45. 'abcde' 를 'edcba'로 바꾸어 출력하세요.(5가지 방법)\n"
   ]
  },
  {
   "cell_type": "code",
   "execution_count": 12,
   "id": "ef5c4115",
   "metadata": {},
   "outputs": [],
   "source": [
    "word='abcde'"
   ]
  },
  {
   "cell_type": "code",
   "execution_count": 13,
   "id": "0e8c92b0",
   "metadata": {},
   "outputs": [
    {
     "data": {
      "text/plain": [
       "'edcba'"
      ]
     },
     "execution_count": 13,
     "metadata": {},
     "output_type": "execute_result"
    }
   ],
   "source": [
    "#방법1\n",
    "\n",
    "word[4]+word[3]+word[2]+word[1]+word[0]"
   ]
  },
  {
   "cell_type": "code",
   "execution_count": 14,
   "id": "1847617a",
   "metadata": {},
   "outputs": [
    {
     "data": {
      "text/plain": [
       "'edcba'"
      ]
     },
     "execution_count": 14,
     "metadata": {},
     "output_type": "execute_result"
    }
   ],
   "source": [
    "#방법2\n",
    "\n",
    "word[-1]+word[-2]+word[-3]+word[-4]+word[-5]"
   ]
  },
  {
   "cell_type": "code",
   "execution_count": 15,
   "id": "224699cb",
   "metadata": {},
   "outputs": [
    {
     "data": {
      "text/plain": [
       "'edcba'"
      ]
     },
     "execution_count": 15,
     "metadata": {},
     "output_type": "execute_result"
    }
   ],
   "source": [
    "#방법3\n",
    "\n",
    "word[-1::-1]"
   ]
  },
  {
   "cell_type": "code",
   "execution_count": 16,
   "id": "36dbddca",
   "metadata": {},
   "outputs": [
    {
     "data": {
      "text/plain": [
       "'edcba'"
      ]
     },
     "execution_count": 16,
     "metadata": {},
     "output_type": "execute_result"
    }
   ],
   "source": [
    "#방법4\n",
    "\n",
    "word[5::-1]"
   ]
  },
  {
   "cell_type": "code",
   "execution_count": 17,
   "id": "6de536f5",
   "metadata": {},
   "outputs": [
    {
     "data": {
      "text/plain": [
       "'edcba'"
      ]
     },
     "execution_count": 17,
     "metadata": {},
     "output_type": "execute_result"
    }
   ],
   "source": [
    "#방법5\n",
    "\n",
    "''.join(sorted(word, reverse=True))"
   ]
  },
  {
   "cell_type": "markdown",
   "id": "c8a4e9bb",
   "metadata": {},
   "source": [
    "# 07/28"
   ]
  },
  {
   "cell_type": "markdown",
   "id": "4b4a9a82",
   "metadata": {},
   "source": [
    "#### Q46. numbers 내부에 들어 있는 숫자가 몇 번 등장하는지를 출력하는 코드를 작성하세요.\n",
    "numbers = [3,6,3,5,8,2,9,7,4,3,6,3,5,8,2,9,7,4]\n"
   ]
  },
  {
   "cell_type": "code",
   "execution_count": 29,
   "id": "1713931a",
   "metadata": {},
   "outputs": [],
   "source": [
    "numbers = [3,6,3,5,8,2,9,7,4,3,6,3,5,8,2,9,7,4]"
   ]
  },
  {
   "cell_type": "code",
   "execution_count": 34,
   "id": "29d8cbff",
   "metadata": {},
   "outputs": [],
   "source": [
    "def numbering(x):\n",
    "    set_x = sorted(list(set(x)))\n",
    "    \n",
    "    for i in set_x:\n",
    "        print(f'입력하신 리스트에 \"{i}\"가 {x.count(i)}개 존재합니다.')"
   ]
  },
  {
   "cell_type": "code",
   "execution_count": 35,
   "id": "b0e74e00",
   "metadata": {},
   "outputs": [
    {
     "name": "stdout",
     "output_type": "stream",
     "text": [
      "입력하신 리스트에 \"2\"가 2개 존재합니다.\n",
      "입력하신 리스트에 \"3\"가 4개 존재합니다.\n",
      "입력하신 리스트에 \"4\"가 2개 존재합니다.\n",
      "입력하신 리스트에 \"5\"가 2개 존재합니다.\n",
      "입력하신 리스트에 \"6\"가 2개 존재합니다.\n",
      "입력하신 리스트에 \"7\"가 2개 존재합니다.\n",
      "입력하신 리스트에 \"8\"가 2개 존재합니다.\n",
      "입력하신 리스트에 \"9\"가 2개 존재합니다.\n"
     ]
    }
   ],
   "source": [
    "numbering(numbers)"
   ]
  },
  {
   "cell_type": "markdown",
   "id": "e011a76b",
   "metadata": {},
   "source": [
    "#### Q47. 코딩을 한줄로 작성해서 동일한 결과를 출력하세요"
   ]
  },
  {
   "cell_type": "code",
   "execution_count": null,
   "id": "d1b5de30",
   "metadata": {},
   "outputs": [],
   "source": [
    "list = []\n",
    "for i in range(0,20,2):\n",
    "    list.append(i*i)\n",
    "print(list())"
   ]
  },
  {
   "cell_type": "code",
   "execution_count": 36,
   "id": "9676d0da",
   "metadata": {},
   "outputs": [
    {
     "name": "stdout",
     "output_type": "stream",
     "text": [
      "[0, 2, 4, 6, 8, 10, 12, 14, 16, 18]\n"
     ]
    }
   ],
   "source": [
    "print([i for i in range(0,20,2)])"
   ]
  },
  {
   "cell_type": "markdown",
   "id": "9d6b6239",
   "metadata": {},
   "source": [
    "#### Q48. 반복문으로 팩토리얼을 구하는 사용자 함수를 작성하고 5!, 10!를 구하세요."
   ]
  },
  {
   "cell_type": "code",
   "execution_count": 43,
   "id": "ca9f9767",
   "metadata": {},
   "outputs": [],
   "source": [
    "def factorial_1(n):\n",
    "    y=1\n",
    "    for i in range(1,n+1):\n",
    "        y *= i\n",
    "    return y"
   ]
  },
  {
   "cell_type": "code",
   "execution_count": 44,
   "id": "4b87d27a",
   "metadata": {},
   "outputs": [
    {
     "data": {
      "text/plain": [
       "120"
      ]
     },
     "execution_count": 44,
     "metadata": {},
     "output_type": "execute_result"
    }
   ],
   "source": [
    "factorial_1(5) "
   ]
  },
  {
   "cell_type": "code",
   "execution_count": 46,
   "id": "497a989f",
   "metadata": {},
   "outputs": [
    {
     "data": {
      "text/plain": [
       "3628800"
      ]
     },
     "execution_count": 46,
     "metadata": {},
     "output_type": "execute_result"
    }
   ],
   "source": [
    "factorial_1(10)"
   ]
  },
  {
   "cell_type": "markdown",
   "id": "8cdfd3e1",
   "metadata": {},
   "source": [
    "#### Q49. 재귀란 '자기자신을 호출하는 것'을 의미한다. 재귀함수를 이용해서 팩토리얼을 구하는 사용자 함수를 작성하고 1!, 5!, 10!를 구하세요.\n",
    "factorial(n) = n * factorial(n-1) (n >= 1)\n"
   ]
  },
  {
   "cell_type": "code",
   "execution_count": 47,
   "id": "ada05208",
   "metadata": {},
   "outputs": [],
   "source": [
    "def factorial_2(n):\n",
    "    if n == 1:\n",
    "        return 1\n",
    "    return factorial(n-1)*n"
   ]
  },
  {
   "cell_type": "code",
   "execution_count": 48,
   "id": "2f2aba67",
   "metadata": {},
   "outputs": [
    {
     "data": {
      "text/plain": [
       "1"
      ]
     },
     "execution_count": 48,
     "metadata": {},
     "output_type": "execute_result"
    }
   ],
   "source": [
    "factorial_2(1)"
   ]
  },
  {
   "cell_type": "code",
   "execution_count": 49,
   "id": "432df8a2",
   "metadata": {},
   "outputs": [
    {
     "data": {
      "text/plain": [
       "120"
      ]
     },
     "execution_count": 49,
     "metadata": {},
     "output_type": "execute_result"
    }
   ],
   "source": [
    "factorial(5)"
   ]
  },
  {
   "cell_type": "code",
   "execution_count": 50,
   "id": "3578bdb3",
   "metadata": {
    "scrolled": true
   },
   "outputs": [
    {
     "data": {
      "text/plain": [
       "3628800"
      ]
     },
     "execution_count": 50,
     "metadata": {},
     "output_type": "execute_result"
    }
   ],
   "source": [
    "factorial(10)"
   ]
  },
  {
   "cell_type": "markdown",
   "id": "d12ecf06",
   "metadata": {},
   "source": [
    "#### Q50. list a의 모든 원소를 실수형으로 바꾸어 출력하세요\n",
    "a = [1,2,3,4,5]"
   ]
  },
  {
   "cell_type": "code",
   "execution_count": 1,
   "id": "62094c20",
   "metadata": {},
   "outputs": [],
   "source": [
    "a = [1,2,3,4,5]"
   ]
  },
  {
   "cell_type": "code",
   "execution_count": 2,
   "id": "2a443fe4",
   "metadata": {},
   "outputs": [
    {
     "data": {
      "text/plain": [
       "[1.0, 2.0, 3.0, 4.0, 5.0]"
      ]
     },
     "execution_count": 2,
     "metadata": {},
     "output_type": "execute_result"
    }
   ],
   "source": [
    "float_a = [ float(i) for i in a ]\n",
    "float_a"
   ]
  },
  {
   "cell_type": "code",
   "execution_count": 3,
   "id": "639373ba",
   "metadata": {},
   "outputs": [
    {
     "data": {
      "text/plain": [
       "[1.0, 2.0, 3.0, 4.0, 5.0]"
      ]
     },
     "execution_count": 3,
     "metadata": {},
     "output_type": "execute_result"
    }
   ],
   "source": [
    "for i, j in enumerate(a):\n",
    "    a[i] = float(j)\n",
    "a"
   ]
  },
  {
   "cell_type": "code",
   "execution_count": 4,
   "id": "0361ed25",
   "metadata": {},
   "outputs": [
    {
     "data": {
      "text/plain": [
       "[1.0, 2.0, 3.0, 4.0, 5.0]"
      ]
     },
     "execution_count": 4,
     "metadata": {},
     "output_type": "execute_result"
    }
   ],
   "source": [
    "list(map(lambda x: float(x),a))"
   ]
  },
  {
   "cell_type": "markdown",
   "id": "88b9cb83",
   "metadata": {},
   "source": [
    "# 07/29"
   ]
  },
  {
   "cell_type": "markdown",
   "id": "3cbcbd48",
   "metadata": {},
   "source": [
    "#### Q.31 [도전과제] 문자열 리스트 states를 정형화하여 아래와 같이 출력하세요.\n"
   ]
  },
  {
   "cell_type": "code",
   "execution_count": 18,
   "id": "5ae4d0f3",
   "metadata": {},
   "outputs": [
    {
     "data": {
      "text/plain": [
       "\"\\n[출력]\\n['Alabama',\\n 'Georgia',\\n 'Georgia',\\n 'Georgia',\\n 'Florida',\\n 'South   Carolina',\\n 'West Virginia']\\n \""
      ]
     },
     "execution_count": 18,
     "metadata": {},
     "output_type": "execute_result"
    }
   ],
   "source": [
    "states = ['   Alabama ', 'Georgia!', 'Georgia', 'georgia', 'FlOrIda',\n",
    "          'south   carolina##', 'West virginia?']\n",
    "'''\n",
    "[출력]\n",
    "['Alabama',\n",
    " 'Georgia',\n",
    " 'Georgia',\n",
    " 'Georgia',\n",
    " 'Florida',\n",
    " 'South   Carolina',\n",
    " 'West Virginia']\n",
    "'''"
   ]
  },
  {
   "cell_type": "code",
   "execution_count": 39,
   "id": "54e50b77",
   "metadata": {},
   "outputs": [],
   "source": [
    "import re\n",
    "def cleaning(x):\n",
    "    cleaned_data = []\n",
    "    for i in x:\n",
    "        i = re.search('[a-zA-Z\\s]+',i).group()        # 문자, 공백으로 이루어진 부분 찾기\n",
    "        i = i.strip()                             # 양 옆 공백 제거\n",
    "        i = i.lower().title()                     # 소문자화-> 단어 첫글자만 대문자화\n",
    "        cleaned_data.append(i)\n",
    "    return cleaned_data"
   ]
  },
  {
   "cell_type": "code",
   "execution_count": 40,
   "id": "1884d88a",
   "metadata": {},
   "outputs": [
    {
     "data": {
      "text/plain": [
       "['Alabama',\n",
       " 'Georgia',\n",
       " 'Georgia',\n",
       " 'Georgia',\n",
       " 'Florida',\n",
       " 'South   Carolina',\n",
       " 'West Virginia']"
      ]
     },
     "execution_count": 40,
     "metadata": {},
     "output_type": "execute_result"
    }
   ],
   "source": [
    "cleaning(states)"
   ]
  },
  {
   "cell_type": "markdown",
   "id": "ea394ad2",
   "metadata": {},
   "source": [
    "#### Q51. 게시물의 총 건수와 한 페이지에 보여 줄 게시물 수를 입력시 총 페이지 수를 출력하는 프로그램"
   ]
  },
  {
   "cell_type": "markdown",
   "id": "a2367932",
   "metadata": {},
   "source": [
    "인자:게시물의 총 건수,한 페이지에 보여 줄 게시물 수"
   ]
  },
  {
   "cell_type": "code",
   "execution_count": 61,
   "id": "0f6cdc9d",
   "metadata": {},
   "outputs": [],
   "source": [
    "def page_num(all_n, one_n):\n",
    "    return all_n // one_n +1"
   ]
  },
  {
   "cell_type": "code",
   "execution_count": 69,
   "id": "9414b864",
   "metadata": {},
   "outputs": [
    {
     "name": "stdout",
     "output_type": "stream",
     "text": [
      ">> 원하시는 게시물의 총 건수와 한 페이지에 보여줄 게시물 수를 출력해주세요.\n",
      "ex)10,4\n",
      "28,9\n",
      "\n",
      "총 페이지 수: 4p\n"
     ]
    }
   ],
   "source": [
    "x =input('>> 원하시는 게시물의 총 건수와 한 페이지에 보여줄 게시물 수를 출력해주세요.\\nex)10,4\\n')\n",
    "\n",
    "all_n = int(x.split(',')[0])\n",
    "one_n = int(x.split(',')[1])\n",
    "\n",
    "p = page_num(all_n, one_n)\n",
    "print('\\n총 페이지 수: '+str(p)+'p')"
   ]
  },
  {
   "cell_type": "markdown",
   "id": "d930fee3",
   "metadata": {},
   "source": [
    "#### Q52. 랜덤하게 1000명의 이름, 키와 몸무게 만들어 저장한 후 다시 불러내어 다음과 같이 출력하세요.\n",
    "\n",
    "- 이름 :라바\n",
    "- 몸무게: 80\n",
    "- 키: 146\n",
    "- BMI: 37.53049352598987\n",
    "- 결과: 과체중\n"
   ]
  },
  {
   "cell_type": "code",
   "execution_count": 59,
   "id": "0d5ad641",
   "metadata": {},
   "outputs": [
    {
     "data": {
      "text/html": [
       "<div>\n",
       "<style scoped>\n",
       "    .dataframe tbody tr th:only-of-type {\n",
       "        vertical-align: middle;\n",
       "    }\n",
       "\n",
       "    .dataframe tbody tr th {\n",
       "        vertical-align: top;\n",
       "    }\n",
       "\n",
       "    .dataframe thead th {\n",
       "        text-align: right;\n",
       "    }\n",
       "</style>\n",
       "<table border=\"1\" class=\"dataframe\">\n",
       "  <thead>\n",
       "    <tr style=\"text-align: right;\">\n",
       "      <th></th>\n",
       "      <th>Name</th>\n",
       "      <th>Weight</th>\n",
       "      <th>Height</th>\n",
       "      <th>BMI</th>\n",
       "      <th>Result</th>\n",
       "    </tr>\n",
       "  </thead>\n",
       "  <tbody>\n",
       "    <tr>\n",
       "      <th>0</th>\n",
       "      <td>정이매</td>\n",
       "      <td>77</td>\n",
       "      <td>187</td>\n",
       "      <td>22.02</td>\n",
       "      <td>정상</td>\n",
       "    </tr>\n",
       "    <tr>\n",
       "      <th>1</th>\n",
       "      <td>박투히</td>\n",
       "      <td>67</td>\n",
       "      <td>162</td>\n",
       "      <td>25.53</td>\n",
       "      <td>비만</td>\n",
       "    </tr>\n",
       "    <tr>\n",
       "      <th>2</th>\n",
       "      <td>이아사</td>\n",
       "      <td>70</td>\n",
       "      <td>189</td>\n",
       "      <td>19.60</td>\n",
       "      <td>정상</td>\n",
       "    </tr>\n",
       "    <tr>\n",
       "      <th>3</th>\n",
       "      <td>최자구</td>\n",
       "      <td>50</td>\n",
       "      <td>162</td>\n",
       "      <td>19.05</td>\n",
       "      <td>정상</td>\n",
       "    </tr>\n",
       "    <tr>\n",
       "      <th>4</th>\n",
       "      <td>윤다기</td>\n",
       "      <td>57</td>\n",
       "      <td>165</td>\n",
       "      <td>20.94</td>\n",
       "      <td>정상</td>\n",
       "    </tr>\n",
       "    <tr>\n",
       "      <th>5</th>\n",
       "      <td>이부라</td>\n",
       "      <td>94</td>\n",
       "      <td>152</td>\n",
       "      <td>40.69</td>\n",
       "      <td>비만</td>\n",
       "    </tr>\n",
       "    <tr>\n",
       "      <th>6</th>\n",
       "      <td>황아매</td>\n",
       "      <td>68</td>\n",
       "      <td>157</td>\n",
       "      <td>27.59</td>\n",
       "      <td>비만</td>\n",
       "    </tr>\n",
       "    <tr>\n",
       "      <th>7</th>\n",
       "      <td>최후채</td>\n",
       "      <td>65</td>\n",
       "      <td>161</td>\n",
       "      <td>25.08</td>\n",
       "      <td>비만</td>\n",
       "    </tr>\n",
       "    <tr>\n",
       "      <th>8</th>\n",
       "      <td>이바지</td>\n",
       "      <td>57</td>\n",
       "      <td>149</td>\n",
       "      <td>25.67</td>\n",
       "      <td>비만</td>\n",
       "    </tr>\n",
       "    <tr>\n",
       "      <th>9</th>\n",
       "      <td>김리차</td>\n",
       "      <td>47</td>\n",
       "      <td>142</td>\n",
       "      <td>23.31</td>\n",
       "      <td>과체중</td>\n",
       "    </tr>\n",
       "  </tbody>\n",
       "</table>\n",
       "</div>"
      ],
      "text/plain": [
       "  Name  Weight  Height    BMI Result\n",
       "0  정이매      77     187  22.02     정상\n",
       "1  박투히      67     162  25.53     비만\n",
       "2  이아사      70     189  19.60     정상\n",
       "3  최자구      50     162  19.05     정상\n",
       "4  윤다기      57     165  20.94     정상\n",
       "5  이부라      94     152  40.69     비만\n",
       "6  황아매      68     157  27.59     비만\n",
       "7  최후채      65     161  25.08     비만\n",
       "8  이바지      57     149  25.67     비만\n",
       "9  김리차      47     142  23.31    과체중"
      ]
     },
     "execution_count": 59,
     "metadata": {},
     "output_type": "execute_result"
    }
   ],
   "source": [
    "import random\n",
    "import numpy as np\n",
    "import pandas as pd\n",
    "\n",
    "word = '김이박최정윤황'\n",
    "word2 = '가나다라마바사아자차카타파하개내대래매배새애재채캐태패해기니디리미비시이지치키티피히구누두루무부수우주추쿠투푸후'\n",
    "\n",
    "#이름 랜덤 생성\n",
    "name = []\n",
    "for w in range(1000):\n",
    "    last_name = random.choice([i for i in word])\n",
    "    first_name = random.sample([i for i in word2],2)\n",
    "    full_name = last_name + ''.join(first_name)\n",
    "    name.append(full_name)\n",
    "    \n",
    "#몸무게 랜덤 생성\n",
    "weight = np.random.randint(40, 120, size = 1000)\n",
    "\n",
    "#키 랜덤 생성\n",
    "height = np.random.randint(140, 190, size = 1000)\n",
    "\n",
    "#기본 정보로 데이터프레임 생성\n",
    "df = pd.DataFrame(columns = ['Name','Weight','Height'])\n",
    "df['Name'] = name\n",
    "df['Weight'] = weight\n",
    "df['Height'] = height\n",
    "\n",
    "#BMI 컬럼 생성\n",
    "df['BMI'] = round(df['Weight']/(df['Height']/100*df['Height']/100),2)\n",
    "\n",
    "#비만도 컬럼 생성\n",
    "result = []\n",
    "for i in df['BMI']:\n",
    "    if i <= 18.5:\n",
    "        res = '저체중'\n",
    "    elif i < 23:\n",
    "        res = '정상'\n",
    "    elif i < 25:\n",
    "        res = '과체중'\n",
    "    else:\n",
    "        res = '비만'\n",
    "    result.append(res)\n",
    "df['Result'] = result\n",
    "\n",
    "df.head(10)"
   ]
  },
  {
   "cell_type": "markdown",
   "id": "d4bfcc2d",
   "metadata": {},
   "source": [
    "# 08/01"
   ]
  },
  {
   "cell_type": "markdown",
   "id": "b55b3aa8",
   "metadata": {},
   "source": [
    "#### Q53.입력한 숫자를 천 단위로 구분하여 출력하세요"
   ]
  },
  {
   "cell_type": "code",
   "execution_count": 1,
   "id": "130552bf",
   "metadata": {},
   "outputs": [],
   "source": [
    "def thousand(n):\n",
    "    return f'{n:,}'"
   ]
  },
  {
   "cell_type": "code",
   "execution_count": 2,
   "id": "195e370c",
   "metadata": {},
   "outputs": [
    {
     "data": {
      "text/plain": [
       "'4,512,145,878'"
      ]
     },
     "execution_count": 2,
     "metadata": {},
     "output_type": "execute_result"
    }
   ],
   "source": [
    "thousand(4512145878)"
   ]
  },
  {
   "cell_type": "markdown",
   "id": "010bf573",
   "metadata": {},
   "source": [
    "#### Q54. 카운터에서 거스름돈으로 사용할 500원,100원,50원,10원짜리 동전이 무한히 존재한다고 가정한다. 손님에게 거슬러 줘야할 돈이 N원일 때, 거슬러 줘야할 동전의 최소 개수를 구하세요. 단, 거슬러 줘야할 돈 N원은 항상 10의 배수이다. N은 2750원이다."
   ]
  },
  {
   "cell_type": "code",
   "execution_count": 8,
   "id": "23c3e836",
   "metadata": {},
   "outputs": [],
   "source": [
    "#방법1\n",
    "\n",
    "def change(price):\n",
    "    c1 = price//500\n",
    "    c2 = (price - 500*c1) // 100\n",
    "    c3 = (price - 500*c1 - 100*c2) //50\n",
    "    c4 = (price - 500*c1 - 100*c2 - 50*c3)//10\n",
    "    print('*****거스름돈*****\\n- 500원: '+str(c1)+'개\\n- 100원: '+str(c2)+'개\\n-  50원: '+str(c3)+'개\\n-  10원: '+str(c4)+'개')"
   ]
  },
  {
   "cell_type": "code",
   "execution_count": 15,
   "id": "d840b88e",
   "metadata": {},
   "outputs": [
    {
     "name": "stdout",
     "output_type": "stream",
     "text": [
      "*****거스름돈*****\n",
      "- 500원: 10개\n",
      "- 100원: 3개\n",
      "-  50원: 1개\n",
      "-  10원: 1개\n"
     ]
    }
   ],
   "source": [
    "change(5360)"
   ]
  },
  {
   "cell_type": "code",
   "execution_count": 7,
   "id": "f3add063",
   "metadata": {},
   "outputs": [],
   "source": [
    "#방법2\n",
    "\n",
    "def change(n):\n",
    "    n500, n100 = divmod(n,500)\n",
    "    n100, n50 = divmod(n100,100)\n",
    "    n50, n10 = divmod(n50,50)\n",
    "    n10, n = divmod(n10,10)\n",
    "    \n",
    "    print('*****거스름돈*****\\n- 500원: '+str(n500)+'개\\n- 100원: '+str(n100)+'개\\n-  50원: '+str(n50)+'개\\n-  10원: '+str(n10)+'개')\n"
   ]
  },
  {
   "cell_type": "code",
   "execution_count": 6,
   "id": "12f563da",
   "metadata": {},
   "outputs": [
    {
     "name": "stdout",
     "output_type": "stream",
     "text": [
      "*****거스름돈*****\n",
      "- 500원: 10개\n",
      "- 100원: 3개\n",
      "-  50원: 1개\n",
      "-  10원: 1개\n"
     ]
    }
   ],
   "source": [
    "change(5360)"
   ]
  },
  {
   "cell_type": "code",
   "execution_count": 11,
   "id": "448895ea",
   "metadata": {},
   "outputs": [
    {
     "name": "stdout",
     "output_type": "stream",
     "text": [
      "8\n"
     ]
    }
   ],
   "source": [
    "#방법3\n",
    "\n",
    "n = 2750\n",
    "count = 0\n",
    "\n",
    "# 큰 단위의 화폐부터 차례대로 확인하기\n",
    "coin_types = [500, 100, 50, 10]\n",
    "\n",
    "for coin in coin_types:\n",
    "    count += n // coin # 해당 화폐로 거슬러 줄 수 있는 동전의 개수 세기\n",
    "    n %= coin\n",
    "\n",
    "print(count)"
   ]
  },
  {
   "cell_type": "markdown",
   "id": "0961d9c8",
   "metadata": {},
   "source": [
    "# 08/02"
   ]
  },
  {
   "cell_type": "markdown",
   "id": "4d4f1886",
   "metadata": {},
   "source": [
    "#### Q55. dataset/mydata.txt 파일에 있는 단어 개수를 출력하세요."
   ]
  },
  {
   "cell_type": "code",
   "execution_count": 55,
   "id": "8f74fceb",
   "metadata": {},
   "outputs": [
    {
     "name": "stdout",
     "output_type": "stream",
     "text": [
      "총 단어의 개수: 213개\n"
     ]
    }
   ],
   "source": [
    "import re\n",
    "\n",
    "with open('dataset/mydata.txt','r') as fr:\n",
    "    mydata = fr.readlines()\n",
    "    mydata = ' '.join(mydata)\n",
    "    mydata = re.sub('\\s{1,}',' ',mydata)\n",
    "    mydata_list = re.findall('[\\w\\']+', mydata)\n",
    "# print(mydata_list)\n",
    "print('총 단어의 개수: '+ str(len([i for i in mydata_list])) + '개')"
   ]
  },
  {
   "cell_type": "code",
   "execution_count": 5,
   "id": "d34e765d",
   "metadata": {},
   "outputs": [
    {
     "name": "stdout",
     "output_type": "stream",
     "text": [
      "총 단어의 개수: 213개\n"
     ]
    }
   ],
   "source": [
    "import re\n",
    "with open('dataset/mydata.txt','r') as fr:\n",
    "    mydata = fr.read()\n",
    "    mydata = re.sub('\\s{1,}',' ',mydata)\n",
    "    mydata_list = re.findall('[\\w\\']+', mydata)\n",
    "print('총 단어의 개수: '+ str(len([i for i in mydata_list])) + '개')"
   ]
  },
  {
   "cell_type": "code",
   "execution_count": 9,
   "id": "545451da",
   "metadata": {},
   "outputs": [
    {
     "name": "stdout",
     "output_type": "stream",
     "text": [
      "we've\n",
      "there's\n",
      "won't\n",
      "don't\n",
      "you're\n",
      "it's\n",
      "it's\n",
      "it's\n",
      "총 단어의 개수: 219개\n"
     ]
    }
   ],
   "source": [
    "with open('dataset/mydata.txt','r') as fr:\n",
    "    mydata = fr.read()\n",
    "    mydata = re.sub('\\s{1,}',' ',mydata)\n",
    "    mydata_list = re.findall('[\\w\\']+', mydata)\n",
    "    mydata_word = []\n",
    "    for i in mydata_list:\n",
    "        try:\n",
    "            if len(re.search('[\\'](\\w+)',i).group(1)) > 0:\n",
    "                print(i)\n",
    "                if i[-1] == 't':\n",
    "                    if i == \"won't\":\n",
    "                        mydata_word.append('will','not')\n",
    "                    elif i == \"don't\":\n",
    "                        mydat_word.append('do','not')\n",
    "                else:\n",
    "                    mydata_word.append(i.split(\"'\")[0])\n",
    "                    if i.split(\"'\")[1] == 've':\n",
    "                        mydata_word.append('have')\n",
    "                    elif i.split(\"'\")[1] == 's':\n",
    "                        mydata_word.append('is')\n",
    "                    elif i.split(\"'\")[1]  == 're':\n",
    "                        mydata_word.append('are')\n",
    "        except:\n",
    "            mydata_word.append(i)\n",
    "# print(mydata_word)\n",
    "print('총 단어의 개수: '+ str(len(mydata_word)) + '개')"
   ]
  },
  {
   "cell_type": "markdown",
   "id": "65f2f258",
   "metadata": {},
   "source": [
    "#### Q56. 파일이름과 특정 단어를인자로 입력하면 그 파일에 있는 특정 단어의 개수를 반환하는 사용자 함수를 이용하여 mydata 파일에서 how의 개수를 출력하세요.\n"
   ]
  },
  {
   "cell_type": "code",
   "execution_count": 52,
   "id": "86f7e2e5",
   "metadata": {},
   "outputs": [],
   "source": [
    "def word_count(word):\n",
    "    with open('dataset/mydata.txt','r') as fr:\n",
    "        mydata = fr.readlines()\n",
    "        mydata = ' '.join(mydata)\n",
    "        mydata = re.sub('\\s{1,}',' ',mydata)\n",
    "        mydata_list = re.findall('[\\w\\']+', mydata)\n",
    "        cnt = mydata_list.count(word)\n",
    "        \n",
    "    print(f'단어 \"{word}\"의 개수: {cnt}개')\n",
    "    \n",
    "    "
   ]
  },
  {
   "cell_type": "code",
   "execution_count": 53,
   "id": "5ee7ee8e",
   "metadata": {},
   "outputs": [
    {
     "name": "stdout",
     "output_type": "stream",
     "text": [
      "단어 \"how\"의 개수: 2개\n"
     ]
    }
   ],
   "source": [
    "word_count('how')"
   ]
  },
  {
   "cell_type": "code",
   "execution_count": 15,
   "id": "1f4940fb",
   "metadata": {},
   "outputs": [],
   "source": [
    "def word_count(filename ,word):\n",
    "    with open('dataset/'+filename,'r') as fr:\n",
    "        mydata = fr.read()\n",
    "        mydata = re.sub('\\s{1,}',' ',mydata)\n",
    "        mydata_list = re.findall('[\\w\\']+', mydata)\n",
    "        \n",
    "    mydata_word = []\n",
    "    for i in mydata_list:\n",
    "        try:\n",
    "            if len(re.search('[\\'](\\w+)',i).group(1)) >= 1:\n",
    "#                 print(i)\n",
    "                if i[-1] == 't':\n",
    "                    if i == \"won't\":\n",
    "                        mydata_word.append('will','not')\n",
    "                    elif i == \"don't\":\n",
    "                        mydat_word.append('do','not')\n",
    "                else:\n",
    "                    mydata_word.append(i.split(\"'\")[0])\n",
    "                    if i.split(\"'\")[1] == 've':\n",
    "                        mydata_word.append('have')\n",
    "                    elif i.split(\"'\")[1] == 's':\n",
    "                        mydata_word.append('is')\n",
    "                    elif i.split(\"'\")[1]  == 're':\n",
    "                        mydata_word.append('are')\n",
    "        except:\n",
    "            mydata_word.append(i)\n",
    "            \n",
    "    cnt = mydata_word.count(word)\n",
    "\n",
    "    print(f'단어 \"{word}\"의 개수: {cnt}개')"
   ]
  },
  {
   "cell_type": "code",
   "execution_count": 16,
   "id": "307a8c32",
   "metadata": {},
   "outputs": [
    {
     "name": "stdout",
     "output_type": "stream",
     "text": [
      "단어 \"how\"의 개수: 2개\n"
     ]
    }
   ],
   "source": [
    "word_count('mydata.txt','how')"
   ]
  },
  {
   "cell_type": "code",
   "execution_count": 19,
   "id": "0a0c3a76",
   "metadata": {},
   "outputs": [],
   "source": [
    "def countWord(filename, word):\n",
    "    word = word.lower()\n",
    "    with open(filename, 'r') as f:\n",
    "        text = f.read()\n",
    "        text = text.lower()\n",
    "        pos = text.find(word)\n",
    "        count = 0\n",
    "        while pos != -1:\n",
    "            count += 1\n",
    "            pos = text.find(word, pos+1)\n",
    "    return count"
   ]
  },
  {
   "cell_type": "markdown",
   "id": "85e96d75",
   "metadata": {},
   "source": [
    "# 08/03"
   ]
  },
  {
   "cell_type": "markdown",
   "id": "81a1b9ce",
   "metadata": {},
   "source": [
    "#### Q57. 문자열을 입력받아 같은 문자가 연속적으로 반복되는 경우에 그 반복 횟수를 표시해 문자열을 압축하여 표시하세요.\n",
    "- 예) \"aaabbcccccca\" -> a3b2c6a1"
   ]
  },
  {
   "cell_type": "code",
   "execution_count": 25,
   "id": "a9cd34f2",
   "metadata": {},
   "outputs": [
    {
     "name": "stdout",
     "output_type": "stream",
     "text": [
      ">>문자를 입력하세요 aasnafsdddd\n",
      "a3d4n1s2f1\n"
     ]
    }
   ],
   "source": [
    "#전체 문자에 대해서\n",
    "\n",
    "word = input('>>문자를 입력하세요 ')\n",
    "word_set = set(word)\n",
    "\n",
    "w_c = ''\n",
    "if len(word_set) > 1:\n",
    "    for i in word_set:\n",
    "        word_name = i\n",
    "        word_cnt = str(word.count(i))\n",
    "        w_c += (word_name + word_cnt)\n",
    "print(w_c)"
   ]
  },
  {
   "cell_type": "code",
   "execution_count": 1,
   "id": "61311495",
   "metadata": {},
   "outputs": [
    {
     "name": "stdout",
     "output_type": "stream",
     "text": [
      "<<문자를 입력하세요.\n",
      "aaabbcccccca\n",
      "a3b2c6a1\n"
     ]
    }
   ],
   "source": [
    "#방법1\n",
    "\n",
    "word = input('<<문자를 입력하세요.\\n')\n",
    "word_cnt =''\n",
    "\n",
    "for i in range(len(word)):\n",
    "    if i == 0:\n",
    "        word_cnt = word[i]\n",
    "        cnt = 1\n",
    "    elif word_cnt[-1] == word[i]:\n",
    "        cnt += 1\n",
    "    elif word_cnt[-1] != word[i]:\n",
    "        word_cnt += str(cnt) + word[i]\n",
    "        cnt = 1\n",
    "    if i == len(word)-1:\n",
    "        word_cnt += str(cnt)\n",
    "        \n",
    "print(word_cnt)"
   ]
  },
  {
   "cell_type": "code",
   "execution_count": null,
   "id": "55278aed",
   "metadata": {},
   "outputs": [],
   "source": [
    "#방법2\n",
    "\n",
    "word = input('>>문자를 입력하세요.\\n')\n",
    "\n",
    "w = word[0]\n"
   ]
  },
  {
   "cell_type": "code",
   "execution_count": 8,
   "id": "108e98c6",
   "metadata": {},
   "outputs": [
    {
     "name": "stdout",
     "output_type": "stream",
     "text": [
      "a['a', 'a', 'a', 'a']b['b', 'b', 'b']c['c', 'c', 'c', 'c']d['d', 'd']a['a']\n",
      "a4b3c4d2a1\n"
     ]
    }
   ],
   "source": [
    "#방법3\n",
    "\n",
    "from itertools import groupby\n",
    "\n",
    "t = 'aaaabbbccccdda'\n",
    "\n",
    "print(\"\".join(f'{x}{list(y)}' for x, y in  groupby(t)))\n",
    "\n",
    "print(\"\".join(f'{x}{len(list(y))}' for x, y in  groupby(t)))\n"
   ]
  },
  {
   "cell_type": "markdown",
   "id": "5678a705",
   "metadata": {},
   "source": [
    "# 08/04"
   ]
  },
  {
   "cell_type": "markdown",
   "id": "2a42136b",
   "metadata": {},
   "source": [
    "#### Q58. N개의 요소로 이루어진 배열이 있을 때 주어진 수들을 M번 더하여 가장 큰 수를 만드는 프로그램을 작성하세요. 단 배열의 특정한 인덱스(번호)에 해당하는 수가 K번을 초과하여 더해질 수 없는 것이 특징이다.\n",
    "프로그램은 다음 조건을 만족하는 N, M, K를 공백으로 일차 입력하고 N개의 배열을 공백으로 이차 입력하면 결과물을 출력하는 방식으로 수행함.\n",
    "- 2 <= N <= 1000\n",
    "- 1 <= M <= 10000\n",
    "- 1 <= K <= 10000\n"
   ]
  },
  {
   "cell_type": "markdown",
   "id": "4495ec25",
   "metadata": {},
   "source": [
    "1. input('배열 요소로 이루어진 개수' '가장 큰 수가 되게 요소들을 총 M번 더하도록 함' '대신 한 요소당 k번이 최대로 더할 수 있음' )\n",
    "2. input(배열 요소 입력)\n",
    "3. 제일 큰 수를 더할 수 있는 제한이 k번"
   ]
  },
  {
   "cell_type": "code",
   "execution_count": 41,
   "id": "940a9061",
   "metadata": {},
   "outputs": [],
   "source": [
    "#함수 지정: for문, if문 포함\n",
    "def array_max(n,m,k, arr):\n",
    "    total = 0\n",
    "    while True:\n",
    "        for i in range(k):\n",
    "            arr_max = arr.max()    #제일 큰 수를 찾아서 k번 더하기\n",
    "            total += arr_max       \n",
    "        idx = np.where(arr==arr_max)  #제일 큰 수의 배열 속 인덱스 찾기\n",
    "        arr = np.delete(arr,idx)      #제일 큰 수 삭제\n",
    "        m -= k                #남아있는 덧셈 횟수 조정\n",
    "    \n",
    "        if m < k:             #남아있는 덧셈 횟수가 최대 덧셈횟수보다 작은 경우\n",
    "            for i in range(m):\n",
    "                arr_max = arr.max()\n",
    "                total += arr_max     #제일 큰 수를 남아있는 횟수 만큼 더하기\n",
    "            break                  #그럼 끝\n",
    "    return f'요소당 최대 덧셈 횟수가 {k}번, 총 덧셈 횟수가 {m}번 일 때, 주어진 배열을 가지고 만들 수 있는 최대값은 {total}입니다.'"
   ]
  },
  {
   "cell_type": "code",
   "execution_count": 30,
   "id": "923fb7eb",
   "metadata": {},
   "outputs": [],
   "source": [
    "#함수 지정: for문, if문 포함2\n",
    "def array_max(n,m,k, arr):\n",
    "    total = 0\n",
    "    x,y = divmod(m,k)\n",
    "    for i in range(x):\n",
    "        arr_max = arr.max()    #제일 큰 수를 찾아서 k번 더하기\n",
    "        total += arr_max*k       \n",
    "        idx = np.where(arr==arr_max)  #제일 큰 수의 배열 속 인덱스 찾기\n",
    "        arr = np.delete(arr,idx)      #제일 큰 수 삭제\n",
    "        \n",
    "        if i == x-1: \n",
    "            arr_max = arr.max()\n",
    "            total += arr_max*y    #제일 큰 수를 남아있는 횟수 만큼 더하기\n",
    "\n",
    "    return f'요소당 최대 덧셈 횟수가 {k}번, 총 덧셈 횟수가 {m}번 일 때, 주어진 배열을 가지고 만들 수 있는 최대값은 {total}입니다.'"
   ]
  },
  {
   "cell_type": "code",
   "execution_count": 50,
   "id": "c685886e",
   "metadata": {},
   "outputs": [],
   "source": [
    "#함수 지정: for문, if문 미포함\n",
    "\n",
    "def array_max(n,m,k,arr):\n",
    "    arr = sorted(arr, reverse = True)\n",
    "    x, y = divmod(m,k)\n",
    "    \n",
    "    if y == 0:\n",
    "        total = total = sum(arr[:x])*k\n",
    "    else:\n",
    "        total = sum(arr[:x])*k + arr[x]*y\n",
    "    \n",
    "    return f'요소당 최대 덧셈 횟수가 {k}번, 총 덧셈 횟수가 {m}번 일 때, 주어진 배열을 가지고 만들 수 있는 최대값은 {total}입니다.'"
   ]
  },
  {
   "cell_type": "code",
   "execution_count": 51,
   "id": "6e138ff8",
   "metadata": {
    "scrolled": false
   },
   "outputs": [
    {
     "name": "stdout",
     "output_type": "stream",
     "text": [
      ">> 배열 요소의 수, 덧셈할 횟수, 최대 덧셈이 가능한 횟수를 공백으로 분리하여 입력하세요.\n",
      "2 10 5\n",
      ">> 배열의 요소를 공백으로 분리하여 입력하세요.\n",
      "1 2\n"
     ]
    },
    {
     "data": {
      "text/plain": [
       "'요소당 최대 덧셈 횟수가 5번, 총 덧셈 횟수가 10번 일 때, 주어진 배열을 가지고 만들 수 있는 최대값은 15입니다.'"
      ]
     },
     "execution_count": 51,
     "metadata": {},
     "output_type": "execute_result"
    }
   ],
   "source": [
    "import numpy as np\n",
    "\n",
    "#함수 인자값을 제대로 받을 때까지 돌리자\n",
    "while True:     \n",
    "    x = input('>> 배열 요소의 수, 덧셈할 횟수, 최대 덧셈이 가능한 횟수를 공백으로 분리하여 입력하세요.\\n')\n",
    "    n = int(x.split(' ')[0])\n",
    "    m = int(x.split(' ')[1])\n",
    "    k = int(x.split(' ')[2])\n",
    "    \n",
    "    if n <= m//k and m % k >= 1:       \n",
    "        print(f'※경고: 배열 요소의 수를 {m//k+1} 이상의 값으로 입력해주세요')      \n",
    "        continue\n",
    "    else:\n",
    "        break\n",
    "        \n",
    "        \n",
    "#배열 요소값을 제대로 받을 때까지 돌리자\n",
    "while True:     \n",
    "    y = input('>> 배열의 요소를 공백으로 분리하여 입력하세요.\\n')\n",
    "    arr = np.array([int(i) for i in y.split(' ')])\n",
    "\n",
    "    \n",
    "    if len(arr) != n:    #배열 요소의 개수가 입력값과 다른 경우\n",
    "        print(f'※경고: 배열 요소의 수를 {n}개가 되도록 입력해주세요')\n",
    "        continue    \n",
    "    \n",
    "    #배열 요소의 개수가 입력값과 같은 경우 \n",
    "    elif len(set(arr)) == m//k and m%k > 0:   #고유 요소 개수가 총 덧셈 횟수를 최대 덧셈 횟수로 나눴을 때와 같은 경우\n",
    "            print(f'※경고: 고유한 요소가 {m//k+1}개 이상 되도록 입력해주세요.')\n",
    "            continue\n",
    "    elif len(set(arr)) < m//k:  #고유 요소 개수가 총 덧셈 횟수를 최대 덧셈 횟수로 나눴을 때보다 작은 경우\n",
    "        if m%k >= 1: \n",
    "            print(f'※경고: 고유한 요소가 {m//k+1}개 이상 되도록 입력해주세요.')\n",
    "            continue\n",
    "        elif m%k == 0: \n",
    "            print(f'※경고: 고유한 요소가 {m//k}개 이상 되도록 입력해주세요.')\n",
    "            continue\n",
    "    else:\n",
    "        break\n",
    "\n",
    "array_max(n,m,k,arr)  \n"
   ]
  },
  {
   "cell_type": "code",
   "execution_count": null,
   "id": "020db56d",
   "metadata": {},
   "outputs": [],
   "source": []
  },
  {
   "cell_type": "markdown",
   "id": "fa7cd5cc",
   "metadata": {},
   "source": [
    "#### Q58. N개의 요소로 이루어진 배열이 있을 때 주어진 수들을 M번 더하여 가장 큰 수를 만드는 프로그램을 작성하세요. 단 배열의 특정한 인덱스(번호)에 해당하는 수가 연속해서 K번을 초과하여 더해질 수 없는 것이 특징이다.\n",
    "프로그램은 다음 조건을 만족하는 N, M, K를 공백으로 일차 입력하고 N개의 배열을 공백으로 이차 입력하면 결과물을 출력하는 방식으로 수행함.\n",
    "- 2 <= N <= 1000\n",
    "- 1 <= M <= 10000\n",
    "- 1 <= K <= 10000\n"
   ]
  },
  {
   "cell_type": "code",
   "execution_count": null,
   "id": "c8d96578",
   "metadata": {},
   "outputs": [],
   "source": [
    "# N, M, K를 공백을 기준으로 구분하여 입력 받기\n",
    "n, m, k = map(int, input().split())\n",
    "# N개의 수를 공백을 기준으로 구분하여 입력 받기\n",
    "data = list(map(int, input().split()))\n",
    "\n",
    "data.sort() # 입력 받은 수들 정렬하기\n",
    "first = data[n - 1] # 가장 큰 수\n",
    "second = data[n - 2] # 두 번째로 큰 수\n",
    "\n",
    "# 가장 큰 수가 더해지는 횟수 계산\n",
    "count = m // (k + 1) * k\n",
    "count += m % (k + 1)\n",
    "\n",
    "result = 0\n",
    "result += (count) * first # 가장 큰 수 더하기\n",
    "result += (m - count) * second # 두 번째로 큰 수 더하기\n",
    "\n",
    "print(result) # 최종 답안 출력"
   ]
  },
  {
   "cell_type": "markdown",
   "id": "bb596be8",
   "metadata": {},
   "source": [
    "# 08/05"
   ]
  },
  {
   "cell_type": "markdown",
   "id": "b3eafa89",
   "metadata": {},
   "source": [
    "#### Q61. file1, 2의 파일 크기를 각각 구하세요.\n",
    "\n",
    "- file1 = 'data/stockcode.txt'\n",
    "- file2 = 'data/img_sample.jpg'"
   ]
  },
  {
   "cell_type": "code",
   "execution_count": 21,
   "id": "120c1b91",
   "metadata": {},
   "outputs": [
    {
     "data": {
      "text/plain": [
       "os.stat_result(st_mode=33206, st_ino=13229323905746951, st_dev=2550895225, st_nlink=1, st_uid=0, st_gid=0, st_size=16339, st_atime=1659914591, st_mtime=1659660150, st_ctime=1659660150)"
      ]
     },
     "execution_count": 21,
     "metadata": {},
     "output_type": "execute_result"
    }
   ],
   "source": [
    "from pathlib import Path\n",
    "\n",
    "Path(r'C:/cakd7/강의/m1_programming/dataset/stockcode.txt').stat()"
   ]
  },
  {
   "cell_type": "markdown",
   "id": "79095ad3",
   "metadata": {},
   "source": [
    "- st_mode: 파일 유형 및 파일 모드 비트(권한)\n",
    "- st_ino: 윈도우에서 파일 인덱스를 나타냄\n",
    "- st_dev: 파일이 있는 장치의 식별자를 나타냄\n",
    "- st_nlink: 하드 링크의 수를 나타냄\n",
    "- st_uid: 파일 소유자의 사용자 식별자를 나타냄\n",
    "- st_gid: 파일 소유자의 그룹 식별자를 나타냄\n",
    "- st_atime: 최근 액세스한 시간(초단위)\n",
    "- st_mtime: 최근 컨텐츠를 수정한 시간\n",
    "- st_ctime:  윈도우에서는 생성시간을 타나냄"
   ]
  },
  {
   "cell_type": "code",
   "execution_count": 18,
   "id": "deb8eb2e",
   "metadata": {},
   "outputs": [
    {
     "name": "stdout",
     "output_type": "stream",
     "text": [
      "stockcode.txt의 파일크기는  16,339 바이트 입니다.\n",
      "img_sample.jpg의 파일크기는  170,005 바이트 입니다.\n"
     ]
    }
   ],
   "source": [
    "#방법1\n",
    "\n",
    "from pathlib import Path\n",
    "\n",
    "\n",
    "file_size = Path(r'C:/cakd7/강의/m1_programming/dataset/stockcode.txt').stat().st_size\n",
    "print(f'stockcode.txt의 파일크기는 {file_size: ,} 바이트 입니다.')\n",
    "\n",
    "file_size2 = Path(r'C:/cakd7/강의/m1_programming/dataset/img_sample.jpg').stat().st_size\n",
    "print(f'img_sample.jpg의 파일크기는 {file_size2: ,} 바이트 입니다.')"
   ]
  },
  {
   "cell_type": "code",
   "execution_count": 19,
   "id": "0450ffe8",
   "metadata": {},
   "outputs": [
    {
     "name": "stdout",
     "output_type": "stream",
     "text": [
      "stockcode.txt의 파일크기는  16,339 바이트 입니다.\n",
      "img_sample.jpg의 파일크기는 170,005 바이트 입니다.\n"
     ]
    }
   ],
   "source": [
    "#방법2\n",
    "\n",
    "import os\n",
    "\n",
    "file_size = os.path.getsize('C:/cakd7/강의/m1_programming/dataset/stockcode.txt')\n",
    "print(f'stockcode.txt의 파일크기는 {file_size: ,} 바이트 입니다.')\n",
    "\n",
    "file_size2 = os.path.getsize('C:/cakd7/강의/m1_programming/dataset/img_sample.jpg')\n",
    "print(f'img_sample.jpg의 파일크기는 {file_size2:,} 바이트 입니다.')"
   ]
  },
  {
   "cell_type": "code",
   "execution_count": 20,
   "id": "11a0ada2",
   "metadata": {},
   "outputs": [
    {
     "name": "stdout",
     "output_type": "stream",
     "text": [
      "stockcode.txt의 파일크기는  16,339 바이트 입니다.\n",
      "img_sample.jpg의 파일크기는  170,005 바이트 입니다.\n"
     ]
    }
   ],
   "source": [
    "#방법3\n",
    "\n",
    "import os\n",
    "\n",
    "file_size = os.stat(r'C:/cakd7/강의/m1_programming/dataset/stockcode.txt').st_size\n",
    "print(f'stockcode.txt의 파일크기는 {file_size: ,} 바이트 입니다.')\n",
    "\n",
    "file_size2 = os.stat(r'C:/cakd7/강의/m1_programming/dataset/img_sample.jpg').st_size\n",
    "print(f'img_sample.jpg의 파일크기는 {file_size2: ,} 바이트 입니다.')"
   ]
  },
  {
   "cell_type": "markdown",
   "id": "b2cca344",
   "metadata": {},
   "source": [
    "#### Q62.stockcode.txt의 105바이트 위치에서 500바이트를 읽어 그 내용은 stock_part.txt에 저장 한 후 출력하세요.\n"
   ]
  },
  {
   "cell_type": "code",
   "execution_count": 10,
   "id": "2d49a175",
   "metadata": {},
   "outputs": [
    {
     "name": "stdout",
     "output_type": "stream",
     "text": [
      "605\n"
     ]
    }
   ],
   "source": [
    "with open('C:/cakd7/강의/m1_programming/dataset/stockcode.txt','rb') as fr:                    #바이트 타입으로 읽기\n",
    "    with open('stock_part.txt','wb') as fw:            #바이트 타입으로 쓰기\n",
    "        fr.seek(105)     #105바이트에 위치하는 곳에 커서 이동\n",
    "        fw.write(fr.read(500))     #500글자만 읽어서 쓰도록\n",
    "        print(fr.tell())        #현재 커서가 위치하는 곳"
   ]
  },
  {
   "cell_type": "code",
   "execution_count": 11,
   "id": "a46a59a4",
   "metadata": {},
   "outputs": [
    {
     "data": {
      "text/plain": [
       "500"
      ]
     },
     "execution_count": 11,
     "metadata": {},
     "output_type": "execute_result"
    }
   ],
   "source": [
    "#500바이트가 맞는지 확인\n",
    "import os\n",
    "\n",
    "os.stat(r'stock_part.txt').st_size"
   ]
  },
  {
   "cell_type": "code",
   "execution_count": 12,
   "id": "14c23510",
   "metadata": {},
   "outputs": [
    {
     "name": "stdout",
     "output_type": "stream",
     "text": [
      " 유한양행\n",
      "000101 유한양행우\n",
      "000120 대한통운\n",
      "000140 하이트홀딩스\n",
      "000141 하이트홀딩스우\n",
      "000150 두산\n",
      "000151 두산우\n",
      "000152 두산2우B\n",
      "000180 성창기업지주\n",
      "000210 대림산업\n",
      "000211 대림산업우\n",
      "000220 유유제약\n",
      "000221 유유제약1우\n",
      "000222 유유제약2우B\n",
      "000230 일동제약\n",
      "000240 한국타이어\n",
      "000270 기아차\n",
      "000300 대유신소재\n",
      "000320 디피아이홀딩스\n",
      "000321 디피아이홀딩스우\n",
      "000322 디피아이홀딩스2B\n",
      "000360 삼환기업\n",
      "000361 삼환기업우\n",
      "000370 한화손해보험\n",
      "000390 삼화페인트\n",
      "000400 롯데손해보험\n",
      "000420 로\n"
     ]
    }
   ],
   "source": [
    "#내용 확인\n",
    "\n",
    "with open('stock_part.txt', 'r') as fr:\n",
    "    print(fr.read())"
   ]
  },
  {
   "cell_type": "markdown",
   "id": "036ff0a6",
   "metadata": {},
   "source": [
    "#### Q63.네이버 검색에서 관심 주제와 기사 수를 입력하면 그만큼 출력하는 크롤링 프로그램을 작성하여 다음 사항을 수행하세요.\n",
    "\n",
    "기사 제목과 링크를 데이터프레임으로 가져온 후 본문 내용에서 한글 단어만 출력하여 형태소 분석\n",
    "최근 국내 'AI'와 관련하여 가장 많이 언급되는 단어에 대한 빈도분석 및 시각화\n",
    "AI 분야에서의 유의할 만한 트랜드 정보 및 인사이트 도출\n",
    "\n"
   ]
  },
  {
   "cell_type": "code",
   "execution_count": 1,
   "id": "8bdfd1b5",
   "metadata": {},
   "outputs": [],
   "source": [
    "import requests\n",
    "import urllib\n",
    "from bs4 import BeautifulSoup as BS\n",
    "import pandas as pd\n",
    "\n",
    "# 페이지 구조\n",
    "## 1p-> '&start=01'\n",
    "## 2p-> '&start=11'\n",
    "## 3p-> '&start=21' "
   ]
  },
  {
   "cell_type": "code",
   "execution_count": 20,
   "id": "d4242311",
   "metadata": {
    "scrolled": true
   },
   "outputs": [
    {
     "name": "stdout",
     "output_type": "stream",
     "text": [
      "> 검색 키워드를 입력해주세요\n",
      "ai\n",
      "> 필요한 뉴스기사 수를 입력해주세요\n",
      "10\n"
     ]
    },
    {
     "data": {
      "text/html": [
       "<div>\n",
       "<style scoped>\n",
       "    .dataframe tbody tr th:only-of-type {\n",
       "        vertical-align: middle;\n",
       "    }\n",
       "\n",
       "    .dataframe tbody tr th {\n",
       "        vertical-align: top;\n",
       "    }\n",
       "\n",
       "    .dataframe thead th {\n",
       "        text-align: right;\n",
       "    }\n",
       "</style>\n",
       "<table border=\"1\" class=\"dataframe\">\n",
       "  <thead>\n",
       "    <tr style=\"text-align: right;\">\n",
       "      <th></th>\n",
       "      <th>title</th>\n",
       "      <th>url</th>\n",
       "    </tr>\n",
       "  </thead>\n",
       "  <tbody>\n",
       "    <tr>\n",
       "      <th>1</th>\n",
       "      <td>카카오벤처스 \"AI 임상시험 분석기업 액트노바에 시드투자\"</td>\n",
       "      <td>https://www.yna.co.kr/view/AKR2022080903130001...</td>\n",
       "    </tr>\n",
       "    <tr>\n",
       "      <th>2</th>\n",
       "      <td>충북도, AI영재고 카이스트 산하 고교로 설립 추진</td>\n",
       "      <td>https://www.wikitree.co.kr/articles/778793</td>\n",
       "    </tr>\n",
       "    <tr>\n",
       "      <th>3</th>\n",
       "      <td>KT·서울성모병원, 당뇨 관리 돕는 AI 기술 개발</td>\n",
       "      <td>https://biz.chosun.com/it-science/ict/2022/08/...</td>\n",
       "    </tr>\n",
       "    <tr>\n",
       "      <th>4</th>\n",
       "      <td>삼성전자 ‘AI 챌린지’</td>\n",
       "      <td>https://www.chosun.com/economy/tech_it/2022/08...</td>\n",
       "    </tr>\n",
       "    <tr>\n",
       "      <th>5</th>\n",
       "      <td>삼성전자, AI인재 키워 반도체·디스플레이 연구한다</td>\n",
       "      <td>https://zdnet.co.kr/view/?no=20220807083406</td>\n",
       "    </tr>\n",
       "    <tr>\n",
       "      <th>6</th>\n",
       "      <td>'2022 스마트농업 AI 경진대회' 개최</td>\n",
       "      <td>http://www.aflnews.co.kr/news/articleView.html...</td>\n",
       "    </tr>\n",
       "    <tr>\n",
       "      <th>7</th>\n",
       "      <td>코트라, 'AI 활용'…중견기업 ESG 모니터링 지원</td>\n",
       "      <td>http://www.edaily.co.kr/news/newspath.asp?news...</td>\n",
       "    </tr>\n",
       "    <tr>\n",
       "      <th>8</th>\n",
       "      <td>빅데이터·AI 기술로 교통사고 막는다… 도로교통공단, 위험도로예측 서비스 ...</td>\n",
       "      <td>https://www.donga.com/news/article/all/2022080...</td>\n",
       "    </tr>\n",
       "    <tr>\n",
       "      <th>9</th>\n",
       "      <td>영남중·대구고 SW동아리, MS 주최 AI 경진대회 수상</td>\n",
       "      <td>https://www.pressian.com/pages/articles/202208...</td>\n",
       "    </tr>\n",
       "    <tr>\n",
       "      <th>10</th>\n",
       "      <td>\"AI로 기초학력 진단·혁신학교 재구조화\"...경기교육감직 인수위, 백서발간</td>\n",
       "      <td>http://www.newsis.com/view/?id=NISX20220808_00...</td>\n",
       "    </tr>\n",
       "  </tbody>\n",
       "</table>\n",
       "</div>"
      ],
      "text/plain": [
       "                                           title  \\\n",
       "1               카카오벤처스 \"AI 임상시험 분석기업 액트노바에 시드투자\"   \n",
       "2                   충북도, AI영재고 카이스트 산하 고교로 설립 추진   \n",
       "3                   KT·서울성모병원, 당뇨 관리 돕는 AI 기술 개발   \n",
       "4                                  삼성전자 ‘AI 챌린지’   \n",
       "5                   삼성전자, AI인재 키워 반도체·디스플레이 연구한다   \n",
       "6                        '2022 스마트농업 AI 경진대회' 개최   \n",
       "7                  코트라, 'AI 활용'…중견기업 ESG 모니터링 지원   \n",
       "8   빅데이터·AI 기술로 교통사고 막는다… 도로교통공단, 위험도로예측 서비스 ...   \n",
       "9                영남중·대구고 SW동아리, MS 주최 AI 경진대회 수상   \n",
       "10    \"AI로 기초학력 진단·혁신학교 재구조화\"...경기교육감직 인수위, 백서발간   \n",
       "\n",
       "                                                  url  \n",
       "1   https://www.yna.co.kr/view/AKR2022080903130001...  \n",
       "2          https://www.wikitree.co.kr/articles/778793  \n",
       "3   https://biz.chosun.com/it-science/ict/2022/08/...  \n",
       "4   https://www.chosun.com/economy/tech_it/2022/08...  \n",
       "5         https://zdnet.co.kr/view/?no=20220807083406  \n",
       "6   http://www.aflnews.co.kr/news/articleView.html...  \n",
       "7   http://www.edaily.co.kr/news/newspath.asp?news...  \n",
       "8   https://www.donga.com/news/article/all/2022080...  \n",
       "9   https://www.pressian.com/pages/articles/202208...  \n",
       "10  http://www.newsis.com/view/?id=NISX20220808_00...  "
      ]
     },
     "execution_count": 20,
     "metadata": {},
     "output_type": "execute_result"
    }
   ],
   "source": [
    "query = input('> 검색 키워드를 입력해주세요\\n')\n",
    "n = int(input('> 필요한 뉴스기사 수를 입력해주세요\\n'))\n",
    "\n",
    "# 검색어를 문자 -> 퍼센트 인코딩\n",
    "url='https://search.naver.com/search.naver?where=news&sm=tab_jum&query='\n",
    "query = urllib.parse.quote(query)     \n",
    "\n",
    "\n",
    "#### 한 페이지당 기사가 10개씩 존재함\n",
    "\n",
    "ten_n, one_n = divmod( n, 10)\n",
    "if one_n !=0:\n",
    "    ten_n += 1\n",
    "    \n",
    "# ten_n = n // 10 +1    #### ex) 35개의 뉴스 타이틀을 긁어오기 위해 4페이지의 5번째까지 긁어와야함\n",
    "# one_n = n % 10\n",
    "\n",
    "\n",
    "news_title = []\n",
    "news_url=[]\n",
    "\n",
    "for i in range(ten_n):\n",
    "    \n",
    "    #크롤링할 url 지정\n",
    "    query_url = url+query+'&start='+str(i)+'1'\n",
    "    \n",
    "    #페이지 소스 크롤링\n",
    "    res = requests.get(query_url)\n",
    "    html = res.content\n",
    "    bs = BS(html, 'html.parser')\n",
    "    \n",
    "    #마지막 페이지 소스 크롤링 개수 제한\n",
    "    if i == (ten_n-1):\n",
    "        a_url = bs.find_all('a', class_='news_tit', limit = one_n)\n",
    "    else:\n",
    "        a_url = bs.find_all('a', class_='news_tit')\n",
    "        \n",
    "    for a in a_url:\n",
    "        news_title.append(a.text)\n",
    "        news_url.append(a.get('href'))\n",
    "        \n",
    "#데이터프레임 만들기\n",
    "news_df = pd.DataFrame(columns = ['title', 'url'])\n",
    "news_df['title'] = news_title\n",
    "news_df['url'] = news_url\n",
    "#     news_df['descriptions'] = description\n",
    " \n",
    "news_df.index =  news_df.index +1\n",
    "news_df\n"
   ]
  },
  {
   "cell_type": "code",
   "execution_count": 21,
   "id": "b67974e7",
   "metadata": {
    "scrolled": false
   },
   "outputs": [
    {
     "name": "stdout",
     "output_type": "stream",
     "text": [
      "https://www.yna.co.kr/view/AKR20220809031300017?input=1195m\n",
      "https://www.wikitree.co.kr/articles/778793\n",
      "https://biz.chosun.com/it-science/ict/2022/08/08/ZVJ4ORCNU5CJZANJYPPPWUJXRU/?utm_source=naver&utm_medium=original&utm_campaign=biz\n",
      "https://www.chosun.com/economy/tech_it/2022/08/08/QS27D46LSVEMFG7MLMIM2AEKHY/?utm_source=naver&utm_medium=referral&utm_campaign=naver-news\n",
      "https://zdnet.co.kr/view/?no=20220807083406\n",
      "http://www.aflnews.co.kr/news/articleView.html?idxno=231192\n",
      "http://www.edaily.co.kr/news/newspath.asp?newsid=02296006632425352\n",
      "https://www.donga.com/news/article/all/20220808/114864381/2\n",
      "https://www.pressian.com/pages/articles/2022080810481739873?utm_source=naver&utm_medium=search\n",
      "http://www.newsis.com/view/?id=NISX20220808_0001971313&cID=10803&pID=14000\n"
     ]
    }
   ],
   "source": [
    "for i in news_df['url']:\n",
    "    print(i)"
   ]
  },
  {
   "cell_type": "code",
   "execution_count": null,
   "id": "04439a8d",
   "metadata": {},
   "outputs": [],
   "source": [
    "#         p = ' '.join(p)\n",
    "#         #기자, 언론사 관련 내용 삭제\n",
    "#         p = re.sub('\\w+ 기자','',p)       #기자님 성함 삭제\n",
    "#         p = re.sub('.*[@|:|…].*','',p)         #기자님 메일,시간,타뉴스 제목\n",
    "#         p = re.sub('.*copyright.*','',p.lower())  \n",
    "#         p = re.sub('.*[corp|ltd][.].*','',p)\n",
    "        \n",
    "#         #p태그 안의 태그내용 삭제\n",
    "#         p = re.sub('<span.*</span>','',p)                    #span 태그 내용 삭제\n",
    "#         p = re.sub('<strong.*</strong>','',p)                #strong 태그 내 태그 내용 삭제\n",
    "#         p = re.sub('<a.*</a>','',p)\n",
    "#         p = re.sub('<em>.*</em>','',p)\n",
    "        \n",
    "#         p = re.sub('<!--.*-->','',p)\n",
    "#         p = re.sub('.*class=\"blind\".*','',p) \n",
    "#         p = re.sub('.*class=\"tit.*','',p)\n",
    "#         p = re.sub('.*[\\t\\n]{2,}.*', ' ', p)"
   ]
  },
  {
   "cell_type": "code",
   "execution_count": 105,
   "id": "276accd2",
   "metadata": {
    "scrolled": true
   },
   "outputs": [
    {
     "name": "stdout",
     "output_type": "stream",
     "text": [
      "\n",
      "\n",
      "\n",
      "\n",
      "\n",
      "\n",
      " (서울=연합뉴스) 조승한 기자 = 카카오벤처스는 인공지능(AI) 기반 임상·비임상 행동시험 분석 기업 액트노바에 5억 원 규모 시드 투자(창업 후 극초기 단계 투자)를 했다고 9일 밝혔다.\n",
      " 액트노바는 신약개발 단계인 안정성·약효성 시험 과정을 AI 영상처리로 자동화하는 기술을 개발하는 회사다.\n",
      " 연구원이 동물이나 환자를 직접 관찰하던 것을 분석기술로 대체해 데이터 질을 높이고 인력 투입을 줄여 치료제 개발 개간을 단축할 수 있다고 회사는 설명했다.\n",
      " 한국과학기술원(KAIST) 생명과학과 연구교수 출신인 김대건 대표를 주축으로 김대수 KAIST 생명과학과 교수와 동물실험장비회사 쓰리샤인 박천귀 대표가 설립했다.\n",
      " 액트노바는 AI 분석기술 '아바타 3D 시스템'을 개발해 뇌 질환 증상 분석에 활용하고 있으며 연내 구독형 행동 분석 점수 서비스 '액트버스'를 출시할 계획이라고 밝혔다.\n",
      " 김대건 액트노바 대표는 \"관찰과 평가가 어려운 임상·비임상 행동 실험 분야에서 AI 기반 디지털 트렌스포메이션을 통해 신약·치료제 개발 프로세스를 단축하고자 한다\"며 \"행동 실험 연구원과 의료진, 실험 대상의 스트레스와 희생을 줄이고 다양한 뇌 질환 치료제 개발에 보탬이 될 수 있길 기대한다\"고 밝혔다.\n",
      "\n",
      "\n",
      "\n",
      "\n",
      "\n",
      " (충북=위키트리) 김성호 기자 = 충북도내 기초정부간 유치 경쟁이 불붙은 AI영재고(인공지능 영재고)가 KAIST(이하 카이스트) 산하 고등학교로 설립 추진된다.\n",
      "\n",
      " 카이스트가 과학시술정보통신부 산하 대학교인 점을 감안하면 충북도는 AI영재고 설립을 위해 우리나라 과학기술 분야 컨트롤타워인 과기부의 인적·물적 지원을 이끌어내겠다는 전략으로 읽힌다.\n",
      "\n",
      "\n",
      "\n",
      " AI 영재고는 현재까진 용역을 통한 논리 개발이나 설립 방향, 교사(교수)진 구성, 특화전략 등이 마련돼 있지 않는 상태다. 말 그대로 'AI영재고'란 다섯 글자 가칭만 있을 뿐이다.\n",
      "\n",
      "\n",
      " 김영환 충북지사는 지난달 28일 과기부 제1차관 면담에 이어 8일에는 이종호 과학기술정보통신부 장관을 세종정부청사 인근에서 만나 AI영재고의 카이스트 산하 고등학교 설립을 건의했다.\n",
      " 또 충북 미래 100년의 성장 발판이 될 △ KAIST(카이스트) 오송 바이오메디컬 캠퍼스타운 유치 △ 방사광가속기 적기 구축과 최첨단 연구인프라 구축 △ 충청권 공동 인공지능·메타버스 기반 재난안전관리 등 주요 현안사업 추진을 위한 전폭적인 지원을 요청했다.\n",
      "\n",
      "\n",
      "\n",
      " 김 지사는 이 자리에서 “대한민국 바이오 발전을 견인하고 있는 충북이 한단계 더 발전하기 위해서는 의과학 교육시설인 카이스트 오송캠퍼스 타운 조성이 반드시 필요하다”며 “현 정부의 반도체 인력양성 기조에 부합하는 첨단산업분야 인재양성을 위한 카이스트 부설 충북 AI(인공지능) 영재고 설립도 필수불가결한 사업”이라고 적극적인 지원과 협조를 요청했다.\n",
      "\n",
      "\n",
      " 김 지사는 또 “오는 2027년 준공이 예정돼 있는 오창 방사광가속기 사업과 핵심지원시설의 적기 구축, ICT 기술을 활용한 재난사전예방 시스템 구축 역시 중요하다”면서 “충청권 공동 인공지능·메타버스 기반 재난안전관리 사업 추진에도 과기부 차원의 관심과 지원을 절실하다”고 강조했다.\n",
      "\n",
      "\n",
      " 이에 이종호 과기부 장관은 “충북은 바이오, 반도체, 이차전지 산업의 중심으로 대한민국 첨단산업의 미래를 견인하고 있다고 생각한다”면서 “충북 발전을 위해 (김영환 충북지시가)건의해주신 사업에 대해 긍정적으로 검토하겠다”고 통상적 답변만 내놓은채 자리를 마무리 했다.\n",
      "\n",
      "\n",
      " 이런 가운데 과기부 산하 카이스트는 반세기 동안 배출한 과학기술 인력만 박사 1만4418명을 포함해 6만9388명에 달한다.\n",
      "\n",
      "\n",
      " 지난 1982년 아시아·태평양 지역 최초 인터넷 시스템 구축, 1990년 국내 첫 인공지능(AI) 연구센터 설립, 1992년 인공위성 우리별 1호 발사 등 국내 과학 발전 역사에서 최초·최고의 성과를 써왔다.\n",
      "\n",
      "\n",
      " 또 1995년 386 마이크로프로세서 개발, 2002년 휴머노이드 로봇(휴보) 개발, 2008년 한국인 최초 우주비행사 이소연 씨 배출, 2009년 무선 충전 전기버스 개발, 2020년 사이배슬론 국제대회 착용형 로봇 분야 금·동메달 수상 등도 대표적인 성과로 꼽힌다.\n",
      "\n",
      "\n",
      " 지난 2000년대 초까지도 100위권 밖에서 머물던 세계대학 순위는 지난해 39위(영국 고등교육 평가기관 'QS' 발표)로 껑충 뛰어오르는 등 괄목할만한 성장을 거뒀다. 미리보는 AI영재고인 셈이다.\n",
      "\n",
      "\n",
      "\n",
      "\n",
      "\n",
      " 삼성전자가 인공지능(AI) 분야 우수 인력을 발굴해 반도체·디스플레이를 연구하기로 했다.\n",
      " 삼성전자는 다음 달 16일까지 대학생 경진대회 ‘삼성 AI 챌린지’를 개최한다고 7일 밝혔다.\n",
      " 공모 과제는 AI 기술을 활용한 신소재 연구와 컴퓨터 비전이다.\n",
      " 신소재 연구 주제는 ‘유기분자 구조로부터 재편성 에너지를 예측하는 알고리즘 개발’이다. 유기 디스플레이 소재 발광 효율에 영향을 주는 것으로 알려진 분자 구조 변화 에너지를 예측하는 AI 모델을 개발해야 한다. 삼성전자는 효율이 높고 수명이 긴 유기 디스플레이 발광 소재를 찾는데 드는 시간과 비용이 줄어들 것으로 기대했다.\n",
      " 컴퓨터 비전 부문은 전자현미경(SEM) 이미지로 깊이를 예측하는 알고리즘을 개발해야 한다. 2차원 전자 현미경 영상에서 반도체 3차원 구조 깊이를 계측하고 반도체 공정에서 활용할 수 있는 AI 알고리즘을 찾아야 한다.\n",
      " 응모 결과는 10월 7일 삼성전자 종합기술원 홈페이지에 발표한다. 11월 ‘삼성 AI포럼’에서 시상한다. 부문별 최우수상을 포함해 총 8개 수상팀에 상금과 함께 삼성전자 AI 연구원과 만날 기회를 준다. 종합기술원 연구소를 둘러보고 수상자가 교류하는 ‘삼성 AI 챌린지 캠프’에도 참가할 수 있다.\n",
      " 최창규 삼성전자 종합기술원 AI연구센터장(부사장)은 “종합기술원은 반도체를 중심으로 소재, 카메라, 자율주행 등에 AI 기술을 적용하고 있다”며 “AI로 기술의 한계를 뛰어넘을 대학생이 많이 참여하기 바란다”고 말했다.\n",
      "\n",
      "\n",
      "\n",
      "\n",
      "\n",
      "\n",
      " 농림축산식품부와 농촌진흥청, 농림수산식품교육문화정보원은 농업 분야 인공지능(AI) 기술 역량을 겨루는 ‘2022 스마트농업 AI 경진대회’를 개최한다.\n",
      " 스마트농업 AI 경진대회는 농업 분야의 데이터·AI 관련 기업, 학계 등의 관심을 높이고 농업 현장에서 AI 기술을 활용해 해결할 수 있는 과제를 발굴하기 위해 지난해에 이어 올해 두 번째로 열린다.\n",
      " 올해 스마트농업 AI 경진대회는 오는 29일부터 다음달 23일 예선기간 동안 생육예측 해커톤(해킹과 마라톤의 합성어로 참여자가 팀을 구성해 한정된 기간 내에 결과 모델을 만들어내는 것)과 재배전략 기획안 평가를 거쳐 본선 진출 4팀을 선정한다. 이후 10월부터 12월 중순까지 약 2개월 반의 본선기간 동안에는 본선 4팀이 동일한 조건의 대회 온실을 AI 기술을 활용한 원격제어로 토마토 작물을 재배해 결과를 평가하는 방식으로 진행될 계획이다.\n",
      " 참가 접수는 오는 28일까지 온라인(aifactory.space/page/epis)을 통해 진행되며, 농업 분야 인공지능 기술 적용에 관심 있는 19세 이상 내외국인 누구나 농업인, 스마트팜 재배 전문가, AI 개발자 등으로 자유롭게 팀(3인 이상, 10인 이하)을 이뤄 참가할 수 있다.\n",
      " 대회의 총 상금은 1억 원에 달하며, 영예의 대상팀에게는 농식품부 장관상과 상금이 수여된다. 이 외 수상팀에게는 농진청장상 및 농정원장상과 상금이 주어진다.\n",
      " 세부 내용은 ‘2022 스마트농업 인공지능(AI) 경진대회’ 홈페이지를 통해 확인할 수 있으며, 대회의 사전 설명회는 오는 26일 광주 컨벤션센터에서 ‘Green &amp; Agritech Asia 2022’ 행사기간에 진행될 예정이다.\n",
      "\n",
      "\n",
      "\n",
      "\n",
      "\n",
      "\n",
      "\n",
      "\n",
      "\n",
      "\n",
      "\n",
      "\n",
      "\n",
      "\n",
      "\n",
      "\n",
      "\n",
      "\n",
      "\n",
      "\n",
      "\n",
      "\n",
      "\n",
      "\n",
      "\n",
      "\n",
      "\n",
      "\n",
      "\n",
      "\n",
      "\n",
      "\n",
      "\n",
      "\n",
      "\n",
      "\n",
      "\n",
      "\n",
      "\n",
      "\n",
      "\n",
      "\n",
      "\n",
      "\n",
      "\n",
      "\n",
      "\n",
      "\n",
      "\n",
      "\n",
      "\n",
      "\n",
      "\n",
      "\n",
      "\n",
      " 마이크로소프트(MS) 주최 IT 경진대회에서 국내 TOP3에 영남중, 대구고 소프트웨어(SW) 동아리가 선정됐다.\n",
      "\n",
      " 이들 동아리는 대구시교육청이 지난해부터 운영해 온 SW융합 자율동아리 지원 사업 20개 팀 중 2개 팀이다.\n",
      "\n",
      " 8일 대구시교육청에 따르면 지난 5일 MS 주최 '이매진 컵 주니어'에서 국내 TOP3에 영남중학교 SW 자율동아리 '영남짱'팀과 대구고등학교 SW 자율동아리' AI for All'이 수상했다.\n",
      "\n",
      " 올해로 3회째를 맞이한 대회는 13세부터 18세까지 학생들을 대상으로 마이크로소프트사가 주체하는 글로벌 인공지능(AI) 아이디어 경진대회로 한국은 올해 약 40여 개 팀(학생 160명, 지도교사 40명)이 참가했다.\n",
      "\n",
      " 대회에 참가한 학생들은 주어진 학습자료를 활용하여 토론을 통해 해결해야 할 문제를 도출하고, 인공지능 기술이 어떻게 문제들을 해결하는 방법은 물론 더불어 살아갈 수 있는 방안에 대한 AI솔루션을 제안하게 된다.\n",
      "\n",
      " 영남중학교 김후옥 지도교사와 박진석(3학년), 강지환(2학년), 김건희(2학년), 조현민(2학년) 학생들은 더 많은 사람들에게 더 많은 편의를 제공하는 차세대 AI 기반 교통 시스템 AI 솔류션을 제안했다.\n",
      "\n",
      " 대구고등학교 박주희 지도교사와 김지윤(3학년), 나윤환(3학년), 이수혁(3학년), 황주혁(3학년) 학생으로 구성된 'AI for All'팀은 색각 이상자를 돕는 색 감지 응용 프로그램을 제안했다.\n",
      "\n",
      " 영남중학교 박진석 학생은 \"시험기간과 겹쳐서 시간이 부족해 늦은 밤까지 회의하다 보니 피곤하고 힘들기도 했지만 서로의 의견에 자극받아 아이디어가 계속 이어졌을 때는 정말 재미있었다.”며, “대회 참여만으로도 좋은 경험인데 결과까지 잘 나와서 너무 기쁘다\"고 소감을 밝혔다.\n",
      "\n",
      " 대구고등학교 김지윤 학생은 \"지인과의 인터뷰를 통해 실제 색각 이상자들이 느끼는 어려움을 알 수 있었고, 팀원들과 아이디어 도출을 통해 인공지능을 적용한 색각 이상자들을 위한 색상 감지 프로그램을 제안하게 되어 기쁘다\"고 소감을 밝혔다.\n",
      "\n",
      " 강은희 교육감은 \"이번 대회에서 수상한 학생들에게 축하를 보낸다\"며, \"앞으로도 SW·AI 기반 교육의 활성화를 위해 지속적으로 노력하겠다\"고 말했다.\n",
      "\n",
      "\n",
      "\n",
      "\n",
      "\n",
      "\n",
      "\n",
      "\n",
      "\n",
      "\n",
      "\n",
      "\n",
      "\n",
      "\n",
      "\n",
      "\n",
      "\n",
      " [수원=뉴시스] 임태희 경기도교육감이 8일 경기도교육청 방촌홀에서 열린 민선5기 경기도교육감직 인수위 백서 전수식에 참석했다.\n",
      " [수원=뉴시스] 임태희 경기도교육감이 8일 경기도교육청 방촌홀에서 열린 민선5기 경기도교육감직 인수위 백서 전수식에 참석했다.\n",
      "\n",
      "\n",
      "\n",
      "\n",
      "\n",
      "\n",
      "\n",
      "\n",
      "\n",
      "\n",
      "\n",
      "\n",
      "\n",
      "\n",
      "\n",
      "\n",
      "\n",
      "\n",
      "\n",
      "\n",
      "\n",
      "\n",
      "\n",
      "\n",
      "\n",
      "\n",
      "\n",
      "\n",
      "\n",
      "\n",
      "\n",
      "개그우먼 이경실(56)이 손주를 공개했다.이경실은 8일 인스타그램에 손주 사진 여러 장을 올렸다. \"드디어 만났네 손주 이훈이\"라며 \"어느 별에서 왔니? 어릴 적 너의 아빠(탤런트 손보승)를 많이 닮았구나. 건강하게 잘 자라주길 바라. 아빠, 엄마가 너를 잘 보살피는구나. 맘이 좀 녹구나. 잘 지내자 우리\"라고 남겼다. \"#첫 손주 #보승이 아들#손이훈\"이라고 덧붙였다.동료들의 축하도 이어졌다. 아나운서 강수정은 \"언니 어쩜 저리 예쁜 아기가 있어요\"라며 놀랐고, 개그맨 손헌수는 \"오우~축하드립니다\"라고 전했다.\n",
      "\n",
      "\n",
      "\n",
      "\n",
      "\n",
      " 지난 8일부터 이어진 기록적 폭우에 7명이 숨지고 6명이 실종됐다. 부상자는 9명, 이재민은 107세대 163명이 발생했다.행정안전부 중앙재난안전대책본부(중대본)에 따르면 9일 오전 6시 기준 잠정 집계된 인명 피해는 사망 7명, 실종 6명, 부상 9명이다.전날 오후 6시50분께 서울 동작구에서 폭우로 쓰러진 가로수를 정리 작업하던 구청 직원 A(63)씨가 감전돼 숨졌다. 이보다 앞선 오후 5시40분께 같은 구의 침수 주택에서 고립된 여성 B씨도 익수돼 사망했다.\n",
      "\n",
      "\n",
      "\n",
      "\n",
      "\n",
      "미국 뉴욕증시의 주요 지수가 8일(현지시간) 혼조세로 마감했다.이날 뉴욕증권거래소(NYSE)에서 다우존스30산업평균지수는 전장보다 29.07포인트(0.09%) 오른 3만2832.54로 거래를 마쳤다.반면 대형주 중심의 스탠다드앤푸어스(S&amp;P)500지수는 5.13포인트(0.12%) 내린 4140.06, 기술주 중심의 나스닥지수는 13.10포인트(0.10%) 밀린 1만2644.46로 장을 마감했다.종목별로는 엔비디아가 실적 가이던스를 낮춘 여파로 반도체주가 일제히 약세를 보였다.\n",
      "\n",
      "\n",
      "\n",
      "\n",
      "\n",
      "지난 8일 서울·인천 등 수도권을 중심으로 기록적인 폭우가 쏟아진 가운데, 강남·서초 일대 고급 아파트 단지들에서도 침수피해가 속출했다.9일 부동산 업계에 따르면 서울 강남권을 중심으로 폭우가 쏟아지면서 강남3구 일대 국내 주요 고급 아파트 단지들에서도 침수피해가 발생했다.먼저 윤 대통령의 자택인 서울 서초구 서초동 '아크로비스타'에서는 아파트 지하주차장이 잠기고 엘리베이터 문으로 빗물이 쏟아진다는 등의 피해 신고가 속출했다.\n",
      "\n",
      "\n",
      "\n",
      "\n",
      "\n",
      "한국투자증권의 트레이딩시스템이 폭우가 쏟아졌던 지난 8일 오후부터 밤 사이 전산 장애가 발생했지만, 현재는 복구가 완료돼 정상작동하는 것으로 나타났다. 사측은 전산장애로 손실을 본 투자자들에게 보상하겠다고 약속했다.한국투자증권은 9일 \"전일 오후 4시부터 발생한 자사의 시스템 장애가 이날 아침 7시15분께 복구가 완료돼 정상화됐다\"며 \"해외주식 거래 등 이용에 큰 불편을 끼쳐드려 죄송하다\"고 말했다.\n",
      "\n",
      "\n",
      "\n",
      "\n",
      "\n",
      "청와대가 특정업체의 소파 홍보에 이용됐다는 논란이 일고 있는 가운데 문화재청이 9일 \"청와대를 배경으로 특정 브랜드가 노출된 것은 문제\"라며 \"재발방지책을 마련하겠다\"는 입장을 밝혔다.논란이 된 영상은 지난 5일 공개된 IHQ의 웹예능 '에브리웨어' 1회다. 신세계그룹 계열사인 신세계까사와 협업해 제작된 이 웹예능은 거실이 아닌 의외의 장소에 가구를 뒀을 때 시민들의 반응을 보는 리얼리티 프로그램이다.\n",
      "\n",
      "\n",
      "\n",
      "\n",
      "\n",
      "방송통신위원회가 구글에 대해 기존의 실태점검을 사실조사로 전환한다. 웹결제 아웃링크 방식을 안내한 카카오톡을 상대로 업데이트를 중지한 행위가 금지행위를 위반했다고 판단한 것이다. 구글을 상대로 제재 수순에 돌입했다는 분석이 나온다.방통위 관계자는 \"구글에 대한 실태점검을 사실조사로 전환한다\"고 9일 밝혔다. 사실조사에서 구체적 위법 행위가 확인될 경우 방통위는 시정명령이나 과태료 등의 행정조치를 내릴 수 있다.사실조사로의 전환은 구글의 카카오톡 앱 업데이트 중단 사태가 계기가 됐다.\n",
      "\n",
      "\n",
      "\n",
      "\n",
      "\n",
      "기록적인 폭우로 강남을 비롯한 서울 전역에 침수 피해가 잇따른 가운데 쓰레기로 막힌 도로 배수관을 맨손으로 치운 의인이 등장했다.9일 여러 온라인 커뮤니티에는 '실시간 강남역 히어로', '실시간 강남역 슈퍼맨' 이라는 제목과 함께 사진이 올라왔다.사진을 공개한 A씨는 \"아저씨 한 분이 폭우로 침수된 강남역 한복판에서 배수로에 쌓인 쓰레기를 맨손으로 건져냈다\"며 \"덕분에 종아리까지 차올랐던 물도 금방 내려갔다. 슈퍼맨이 따로 없다\"고 밝혔다.\n",
      "\n",
      "\n",
      "\n",
      "\n",
      "\n",
      "기록적인 폭우로 강남을 비롯한 서울 전역에 침수 피해가 잇따른 가운데 쓰레기로 막힌 도로 배수관을 맨손으로 치운 의인이 등장했다.9일 여러 온라인 커뮤니티에는 '실시간 강남역 히어로', '실시간 강남역 슈퍼맨' 이라는 제목과 함께 사진이 올라왔다.사진을 공개한 A씨는 \"아저씨 한 분이 폭우로 침수된 강남역 한복판에서 배수로에 쌓인 쓰레기를 맨손으로 건져냈다\"며 \"덕분에 종아리까지 차올랐던 물도 금방 내려갔다. 슈퍼맨이 따로 없다\"고 밝혔다.\n",
      "\n",
      "\n",
      "\n",
      "\n",
      "\n",
      " 광주 광산경찰서는 9일 경찰관에게 주먹을 휘두른 혐의(공무집행방해)로 A(36)씨를 붙잡아 조사하고 있다.A씨는 이날 오전 2시 30분께 광주 광산구 월계동 한 공원에서 지인과 말다툼을 하다 신고를 받고 출동한 지구대 소속 B경사의 얼굴을 주먹으로 때린 혐의다.조사 결과 만취한 A씨는 지인과 언성을 높이며 싸우던 중 출동한 B경사가 만류한다는 이유로 이 같은 행패를 부린 것으로 드러났다.경찰은 A씨를 상대로 구체적인 경위를 조사하고 있다.\n",
      "\n",
      "\n",
      "\n",
      "\n",
      "\n",
      "청와대가 특정업체의 소파 홍보에 이용됐다는 논란이 일고 있는 가운데 문화재청이 9일 \"청와대를 배경으로 특정 브랜드가 노출된 것은 문제\"라며 \"재발방지책을 마련하겠다\"는 입장을 밝혔다.논란이 된 영상은 지난 5일 공개된 IHQ의 웹예능 '에브리웨어' 1회다. 신세계그룹 계열사인 신세계까사와 협업해 제작된 이 웹예능은 거실이 아닌 의외의 장소에 가구를 뒀을 때 시민들의 반응을 보는 리얼리티 프로그램이다.\n",
      "\n",
      "\n",
      "\n",
      "\n",
      "\n",
      " 이탈리아 프로축구 세리에A에 진출한 국가대표 괴물 수비수 김민재(26·나폴리)가 자신의 롤 모델이자 전설적인 수비수인 파비오 칸나바로(49)의 칭찬을 받았다.칸나바로는 8일(현지시간) 이탈리아 매체 일 마티노를 통해 \"중국에서 감독을 할 때 (베이징궈안에서 뛰던) 김민재를 잘 알고 있었다\"며 \"당시 우리 팀에도 한국 선수인 박지수(김천)가 있어 김민재에 대해 자주 들었다\"고 말했다.이어 \"김민재는 빠르고 신체적인 조건도 뛰어나다.\n",
      "\n",
      "\n",
      "\n",
      "\n",
      "\n",
      "개그우먼 이경실(56)이 손주를 공개했다.이경실은 8일 인스타그램에 손주 사진 여러 장을 올렸다. \"드디어 만났네 손주 이훈이\"라며 \"어느 별에서 왔니? 어릴 적 너의 아빠(탤런트 손보승)를 많이 닮았구나. 건강하게 잘 자라주길 바라. 아빠, 엄마가 너를 잘 보살피는구나. 맘이 좀 녹구나. 잘 지내자 우리\"라고 남겼다. \"#첫 손주 #보승이 아들#손이훈\"이라고 덧붙였다.동료들의 축하도 이어졌다. 아나운서 강수정은 \"언니 어쩜 저리 예쁜 아기가 있어요\"라며 놀랐고, 개그맨 손헌수는 \"오우~축하드립니다\"라고 전했다.\n",
      "\n",
      "\n",
      "\n",
      "\n",
      "\n",
      "\n",
      "\n",
      "\n",
      "\n",
      "\n",
      "\n",
      "\n",
      "\n",
      "\n",
      "\n",
      "\n",
      "\n",
      "\n",
      "\n",
      "\n",
      "\n",
      "\n",
      "\n",
      "\n",
      "\n",
      "\n",
      "\n",
      "\n",
      "\n",
      "\n",
      "\n",
      "\n",
      "\n",
      "\n",
      "\n",
      "\n",
      "\n",
      "\n",
      "\n",
      "\n",
      "\n",
      "\n",
      "\n",
      "\n",
      "\n"
     ]
    }
   ],
   "source": [
    "import re\n",
    "\n",
    "description = []\n",
    "headers = {\"User-Agent\":\"Mozilla/5.0 (Windows NT 10.0; Win64; x64) AppleWebKit/537.36 (KHTML, like Gecko) Chrome/96.0.4664.45 Safari/537.36\"}\n",
    "\n",
    "for url in news_url:\n",
    "    \n",
    "    res2 = requests.get(url, headers = headers)\n",
    "    html = res2.content\n",
    "    bs = BS(html, 'html.parser')\n",
    "    ps = bs.find_all('p')\n",
    "    \n",
    "    \n",
    "    \n",
    "    # 본문은 거의 '~다.' 형식으로 끝나기 때문에 크롤링한 p태그에서 해당 형태만 추출함\n",
    "    for p in ps:  \n",
    "        des = ''\n",
    "        p = re.findall('.*다[.]',str(p))\n",
    "#         print(p)\n",
    "        \n",
    "        if len(p) == 0:\n",
    "            new_p = ''\n",
    "        if len(p) > 0:\n",
    "            new_p = ''\n",
    "            \n",
    "            # '~니다.'의 경우는 광고, 경고문 등에 해당하기 때문에 삭제\n",
    "            for i in p:\n",
    "                i = re.sub('.*니다[.]','',i)\n",
    "                new_p += i\n",
    "#         print(new_p)\n",
    "        new_p = re.sub('<.*>',' ',new_p)     #태그 삭제\n",
    "#         new_p = re.sub('\\(.*\\)',' ',new_p)\n",
    "#         new_p = re.sub('\\[.*\\]',' ',new_p)\n",
    "        new_p = re.sub('\\s{1,}',' ',new_p)     #\n",
    "        des += new_p\n",
    "        print(des)"
   ]
  },
  {
   "cell_type": "code",
   "execution_count": null,
   "id": "ba685a4d",
   "metadata": {},
   "outputs": [],
   "source": [
    "import re\n",
    "import requests \n",
    "from bs4 import BeautifulSoup\n",
    "import pandas as pd\n",
    "from collections import Counter\n",
    "import seaborn as sns\n",
    "from konlpy.tag import Okt\n",
    "from wordcloud import WordCloud\n",
    "import matplotlib.pyplot as plt\n",
    "from matplotlib import rc\n",
    "\n",
    "\n",
    "rc('font', family='AppleGothic')\n",
    "plt.rcParams['axes.unicode_minus'] = False\n",
    "\n",
    "# 기사 제목과 본문 모두 워드 클라우드로 분석\n",
    "for i in ['title','text']:\n",
    "    print(i)\n",
    "    title_list = news_df[i].tolist()\n",
    "    text = ' '.join(title_list)\n",
    "    text = re.sub('[^0-9가-힣]+',' ',text)\n",
    "    # 한글자 이상의 명사만 뽑아냄\n",
    "    okt = Okt()\n",
    "    morph = okt.pos(text)\n",
    "    noun_list = []\n",
    "    for word, tag in morph:\n",
    "        if (tag == 'Noun') & (len(word) > 1):\n",
    "            noun_list.append(word)\n",
    "\n",
    "    # 불용어 list 처리\n",
    "    # 불용어 링크 : https://www.ranks.nl/stopwords/korean\n",
    "    with open('./datasets/stopwords.txt', \"r\") as f:\n",
    "        stop_words = f.readlines()\n",
    "    stop_words = \"\".join(stop_words)\n",
    "    stop_words = stop_words.split('\\n')\n",
    "    noun_list = [noun for noun in noun_list if not noun in stop_words]\n",
    "    # 단어 빈도수 세기\n",
    "    count = Counter(noun_list)\n",
    "    data = dict(count.most_common())\n",
    "    series = pd.Series(data)\n",
    "    df = pd.DataFrame(series, columns=['cnt'])\n",
    "    df10 = df.sort_values(by='cnt',ascending=False)[:10]\n",
    "    df10.reset_index(inplace=True)\n",
    "    display(df10)\n",
    "    # 단어 빈도수 바 플롯\n",
    "    display(sns.barplot(y='index', x='cnt', data=df10, orient='h'))\n",
    "    plt.show();\n",
    "    wordcloud = WordCloud(font_path='../visualization/dataset/malgun.ttf', background_color='white',\n",
    "                         colormap='flare',width=2500,height=1800).generate_from_frequencies(data)\n",
    "\n",
    "    plt.imshow(wordcloud)\n",
    "    plt.axis('off')\n",
    "    plt.show();\n",
    "    print('-'*50)\n",
    "        "
   ]
  },
  {
   "cell_type": "markdown",
   "id": "48706182",
   "metadata": {},
   "source": [
    "#### Q64.어떠한 양의 정수 N이 1이 될 때까지 다음의 두 과정 중 하나를 반복적으로 선택하여 수행하려고 한다. 단 두번째 연산은 N이 K로 나누어 떨어질 때만 선택할 수 있다.  N과 K를 입력했을 때 N이 1이 될 때까지 1번 혹은 2번의 과정을 수행해야 하는 최소 횟수를 구하는 프로그램을 완성하세요.\n",
    "\n",
    "1. N에서 1을 뺀다.\n",
    "2. N을 K로 나눈다.\n"
   ]
  },
  {
   "cell_type": "code",
   "execution_count": null,
   "id": "36400970",
   "metadata": {},
   "outputs": [],
   "source": []
  },
  {
   "cell_type": "code",
   "execution_count": null,
   "id": "6f84915e",
   "metadata": {},
   "outputs": [],
   "source": []
  },
  {
   "cell_type": "code",
   "execution_count": null,
   "id": "185e8683",
   "metadata": {},
   "outputs": [],
   "source": []
  },
  {
   "cell_type": "code",
   "execution_count": null,
   "id": "73f0548f",
   "metadata": {},
   "outputs": [],
   "source": []
  },
  {
   "cell_type": "code",
   "execution_count": null,
   "id": "51c656a6",
   "metadata": {},
   "outputs": [],
   "source": []
  },
  {
   "cell_type": "code",
   "execution_count": null,
   "id": "fc6b99a3",
   "metadata": {},
   "outputs": [],
   "source": []
  },
  {
   "cell_type": "code",
   "execution_count": null,
   "id": "c84963c2",
   "metadata": {},
   "outputs": [],
   "source": []
  },
  {
   "cell_type": "code",
   "execution_count": null,
   "id": "7e569398",
   "metadata": {},
   "outputs": [],
   "source": []
  },
  {
   "cell_type": "code",
   "execution_count": null,
   "id": "666b3b2a",
   "metadata": {},
   "outputs": [],
   "source": []
  },
  {
   "cell_type": "code",
   "execution_count": null,
   "id": "4c527ce1",
   "metadata": {},
   "outputs": [],
   "source": []
  }
 ],
 "metadata": {
  "kernelspec": {
   "display_name": "Python 3 (ipykernel)",
   "language": "python",
   "name": "python3"
  },
  "language_info": {
   "codemirror_mode": {
    "name": "ipython",
    "version": 3
   },
   "file_extension": ".py",
   "mimetype": "text/x-python",
   "name": "python",
   "nbconvert_exporter": "python",
   "pygments_lexer": "ipython3",
   "version": "3.8.13"
  },
  "toc": {
   "base_numbering": 1,
   "nav_menu": {},
   "number_sections": true,
   "sideBar": true,
   "skip_h1_title": false,
   "title_cell": "Table of Contents",
   "title_sidebar": "Contents",
   "toc_cell": false,
   "toc_position": {
    "height": "calc(100% - 180px)",
    "left": "10px",
    "top": "150px",
    "width": "165px"
   },
   "toc_section_display": true,
   "toc_window_display": false
  }
 },
 "nbformat": 4,
 "nbformat_minor": 5
}
