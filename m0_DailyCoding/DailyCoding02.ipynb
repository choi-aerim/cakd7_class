{
 "cells": [
  {
   "cell_type": "markdown",
   "id": "688643ce",
   "metadata": {},
   "source": [
    "#### Q75. N X M 크기의 얼음 틀로 한번에 만들 수 있는 아이스크림의 개수를 아래 입력조건에 따라 출력하는 프로그램을 DFS(Depth First Search)를 이용하여 작성하세요.\n",
    " \n",
    "- 입력조건\n",
    "  - 첫번째 줄에 얼음 틀의 세로 길이 N과 가로 길이 M이 주어진다.(1 <= N,M <= 1000)\n",
    "  - 두번째 줄부터 N+1번째 줄까지 얼음 틀의 형태가 주어진다.\n",
    "  - 이때 구멍이 뚫려있는 부분은 0 그렇지 않은 부분은 1이다.\n",
    "  - 구멍이 뚫려 있는 부분끼리 상, 하, 좌, 우로 붙어 있는 경우 서로 연결되어 있는 것으로 간주한다.\n"
   ]
  },
  {
   "cell_type": "markdown",
   "id": "07232856",
   "metadata": {},
   "source": [
    "* <b>DFS</b>\n",
    "    - 깊이를 우선시 하여 탐색하는 방법 \n",
    "    - '한 우물만 판다' 라는 느낌처럼 한 길만 계속 깊이 파고드는 방식\n",
    "    <img src = \"https://img1.daumcdn.net/thumb/R1280x0/?scode=mtistory2&fname=https%3A%2F%2Fblog.kakaocdn.net%2Fdn%2FoiVuV%2FbtqYusdiOdX%2FK4nhzcjlxt80MbIpWjsyrk%2Fimg.png\" width = 400>\n",
    "    \n",
    "* <b>BFS</b>\n",
    "    - 넓이를 우선시\n",
    "    - 특정 노드와 연결된 모든 노드를 한번씩 거친 다음에 다음 노드로 이동하는 방식\n",
    "    - 주로 최단거리를 구할 때 사용\n",
    "    <img src = \"https://img1.daumcdn.net/thumb/R1280x0/?scode=mtistory2&fname=https%3A%2F%2Fblog.kakaocdn.net%2Fdn%2Fni4Mn%2FbtqYn4EMNlG%2FVF5gXF41YWOfRGWoixkUT0%2Fimg.png\" width = 400>\n",
    "    \n",
    "    \n",
    "참고: https://lotuslee.tistory.com/48"
   ]
  },
  {
   "cell_type": "markdown",
   "id": "b1f3f575",
   "metadata": {},
   "source": [
    "============================스택, 큐 설명==========================="
   ]
  },
  {
   "cell_type": "code",
   "execution_count": 10,
   "id": "5446db65",
   "metadata": {},
   "outputs": [
    {
     "data": {
      "text/plain": [
       "[5, 2, 3, 1]"
      ]
     },
     "execution_count": 10,
     "metadata": {},
     "output_type": "execute_result"
    }
   ],
   "source": [
    "# 스택: 선입후출\n",
    "\n",
    "stack = []\n",
    "stack.append(5)\n",
    "stack.append(2)\n",
    "stack.append(3)\n",
    "stack.append(7)\n",
    "stack.pop(3)\n",
    "stack.append(1)\n",
    "\n",
    "stack"
   ]
  },
  {
   "cell_type": "code",
   "execution_count": 11,
   "id": "79629678",
   "metadata": {
    "scrolled": true
   },
   "outputs": [
    {
     "name": "stdout",
     "output_type": "stream",
     "text": [
      "deque([3, 7, 1, 4])\n"
     ]
    }
   ],
   "source": [
    "# 큐: 선입선출\n",
    "from collections import deque\n",
    "queue = deque()\n",
    "\n",
    "queue.append(5)\n",
    "queue.append(2)\n",
    "queue.append(3)\n",
    "queue.append(7)\n",
    "queue.popleft()\n",
    "queue.append(1)\n",
    "queue.append(4)\n",
    "queue.popleft()\n",
    "\n",
    "print(queue)"
   ]
  },
  {
   "cell_type": "markdown",
   "id": "fbd3fc93",
   "metadata": {},
   "source": [
    "========================================================================"
   ]
  },
  {
   "cell_type": "markdown",
   "id": "3c056c5d",
   "metadata": {},
   "source": [
    "##### 풀이\n",
    "```\n",
    "예시: \n",
    "nm = 5 5\n",
    "\n",
    "00110\n",
    "00011\n",
    "11111\n",
    "00111\n",
    "11000\n",
    "\n",
    "cnt = 4\n",
    "```"
   ]
  },
  {
   "cell_type": "code",
   "execution_count": 22,
   "id": "f01275d8",
   "metadata": {},
   "outputs": [
    {
     "name": "stdout",
     "output_type": "stream",
     "text": [
      ">>n,m을 입력하세요.\n",
      "5 5\n",
      ">>얼음틀 모양을 입력하세요\n",
      "0 0 1 1 0 0 0 0 1 1 1 1 1 1 1 0 0 1 1 1 1 1 0 0 0\n"
     ]
    }
   ],
   "source": [
    "import numpy as np\n",
    "\n",
    "nm = input(\">>n,m을 입력하세요.\\n\")\n",
    "shape = input(\">>얼음틀 모양을 입력하세요\\n\")\n",
    "\n",
    "n, m = int(nm.split()[0]), int(nm.split()[1])\n",
    "shape = np.array([ int(i) for i in shape.split()]).reshape(n,m)\n",
    "\n",
    "# 5 5\n",
    "# 0 0 1 1 0 0 0 0 1 1 1 1 1 1 1 0 0 1 1 1 1 1 0 0 0"
   ]
  },
  {
   "cell_type": "code",
   "execution_count": 23,
   "id": "75e93584",
   "metadata": {
    "scrolled": true
   },
   "outputs": [
    {
     "data": {
      "text/plain": [
       "(5,\n",
       " 5,\n",
       " array([[0, 0, 1, 1, 0],\n",
       "        [0, 0, 0, 1, 1],\n",
       "        [1, 1, 1, 1, 1],\n",
       "        [0, 0, 1, 1, 1],\n",
       "        [1, 1, 0, 0, 0]]))"
      ]
     },
     "execution_count": 23,
     "metadata": {},
     "output_type": "execute_result"
    }
   ],
   "source": [
    "n, m, shape"
   ]
  },
  {
   "cell_type": "code",
   "execution_count": 24,
   "id": "81d0fc7b",
   "metadata": {
    "scrolled": true
   },
   "outputs": [
    {
     "name": "stdout",
     "output_type": "stream",
     "text": [
      "채워야할 총 얼음 틀 개수: 4\n"
     ]
    }
   ],
   "source": [
    "# dfs함수 만들기\n",
    "## 특정 노드 방문한 뒤에 연결된 모든 노드들 방문\n",
    "def dfs(x,y):\n",
    "    \n",
    "    # 행렬 인덱스 값에서 벗어난 경우\n",
    "    if x<0 or x>=n or y<0 or y>=m:\n",
    "        return False\n",
    "    \n",
    "    # 행렬 인덱싱 값이 0인 경우(비어있는 틀인 경우) 채우기\n",
    "    elif shape[x,y] == 0:\n",
    "        shape[x,y] = 1    # stack 된 요소를 pop처리하는 것\n",
    "        dfs(x,y-1)  # 왼  \n",
    "        dfs(x,y+1)  # 오\n",
    "        dfs(x-1,y)  # 아\n",
    "        dfs(x+1,y)  # 위\n",
    "        return True\n",
    "    \n",
    "    # 행렬 인덱싱 값이 1인 경우\n",
    "    return False\n",
    "\n",
    "\n",
    "cnt = 0\n",
    "for i in range(n):\n",
    "    for j in range(m):\n",
    "        if dfs(i,j) == True:\n",
    "            cnt += 1\n",
    "\n",
    "print(f'채워야할 총 얼음 틀 개수: {cnt}')"
   ]
  },
  {
   "cell_type": "markdown",
   "id": "d034eeb4",
   "metadata": {},
   "source": [
    "#### Q76. 10!을 재귀함수를 이용해 출력하세요."
   ]
  },
  {
   "cell_type": "markdown",
   "id": "f8107331",
   "metadata": {},
   "source": [
    "============================재귀함수 활용 예시==========================="
   ]
  },
  {
   "cell_type": "code",
   "execution_count": 28,
   "id": "93dc5f46",
   "metadata": {},
   "outputs": [],
   "source": [
    "def recursive_function(i):\n",
    "    if i == 5:\n",
    "        return \n",
    "    print(i, '번째 재귀함수에서', i+1, '번째 재귀함수를 호출합니다.')\n",
    "    recursive_function(i+1)\n",
    "    print(i, '번째 재귀함수를 호출합니다.')\n",
    "    "
   ]
  },
  {
   "cell_type": "code",
   "execution_count": 29,
   "id": "a3363322",
   "metadata": {
    "scrolled": true
   },
   "outputs": [
    {
     "name": "stdout",
     "output_type": "stream",
     "text": [
      "1 번째 재귀함수에서 2 번째 재귀함수를 호출합니다.\n",
      "2 번째 재귀함수에서 3 번째 재귀함수를 호출합니다.\n",
      "3 번째 재귀함수에서 4 번째 재귀함수를 호출합니다.\n",
      "4 번째 재귀함수에서 5 번째 재귀함수를 호출합니다.\n",
      "4 번째 재귀함수를 호출합니다.\n",
      "3 번째 재귀함수를 호출합니다.\n",
      "2 번째 재귀함수를 호출합니다.\n",
      "1 번째 재귀함수를 호출합니다.\n"
     ]
    }
   ],
   "source": [
    "recursive_function(1)"
   ]
  },
  {
   "cell_type": "markdown",
   "id": "ab78c0df",
   "metadata": {},
   "source": [
    "====================================================================="
   ]
  },
  {
   "cell_type": "code",
   "execution_count": 39,
   "id": "d49bbcaf",
   "metadata": {},
   "outputs": [
    {
     "data": {
      "text/plain": [
       "3628800"
      ]
     },
     "execution_count": 39,
     "metadata": {},
     "output_type": "execute_result"
    }
   ],
   "source": [
    "# for문을 활용한 팩토리얼 계산\n",
    "\n",
    "def factorial_iterative(n):\n",
    "    result = 1\n",
    "    for i in range(1,n+1):\n",
    "        result *= i\n",
    "    return result\n",
    "    \n",
    "factorial_iterative(10)"
   ]
  },
  {
   "cell_type": "code",
   "execution_count": 40,
   "id": "b53d3e16",
   "metadata": {},
   "outputs": [
    {
     "data": {
      "text/plain": [
       "3628800"
      ]
     },
     "execution_count": 40,
     "metadata": {},
     "output_type": "execute_result"
    }
   ],
   "source": [
    "# 재귀함수를 활용한 팩토리얼 계산\n",
    "\n",
    "def factorial(n):\n",
    "    if n == 1:\n",
    "        return 1\n",
    "    else:\n",
    "        return n * factorial(n-1)\n",
    "    \n",
    "factorial(10)"
   ]
  },
  {
   "cell_type": "markdown",
   "id": "f65ee04b",
   "metadata": {},
   "source": [
    "#### Q77. N X M 크기의 미로에는 여러마리의 괴물이 있어 이를 피해 탈출해야 한다. 주인공의 위치는 (0,0)이고 미로의 출구는 (N-1,M-1)의 위치에 존재하며 한번에 한칸씩 이동할 수 있다. 괴물이 있는 부분은 0, 없는 부분은 1로 표시되어 있으며 미로는 반드시 탈출할 수 있는 형태로 제시된다. 주인공이 탈출하기 위해 움직여야 하는 최소 칸의 개수를 구하세요. 칸을 셀 때는 시작 칸과 마지막 칸을 모두 포함하여 계산하고 입력 조건은 아래와 같다.(BFS를 이용)\n",
    "- 첫째 줄에 두 정수 N,M(4<=N,M<=200)이 주어진다. \n",
    "- 다음 N개의 줄에는 각각 M개의 정수(0 혹은 1)로 미로의 정보가 주어진다. 각각의 수들은 공백없이 붙여서 입력으로 제시된다. \n",
    "- 또한 시작칸과 마지막칸은 항상 1이다.\n"
   ]
  },
  {
   "cell_type": "code",
   "execution_count": null,
   "id": "bd1d6da6",
   "metadata": {},
   "outputs": [],
   "source": []
  },
  {
   "cell_type": "code",
   "execution_count": null,
   "id": "cdf54731",
   "metadata": {},
   "outputs": [],
   "source": []
  }
 ],
 "metadata": {
  "kernelspec": {
   "display_name": "Python 3 (ipykernel)",
   "language": "python",
   "name": "python3"
  },
  "language_info": {
   "codemirror_mode": {
    "name": "ipython",
    "version": 3
   },
   "file_extension": ".py",
   "mimetype": "text/x-python",
   "name": "python",
   "nbconvert_exporter": "python",
   "pygments_lexer": "ipython3",
   "version": "3.8.13"
  },
  "toc": {
   "base_numbering": 1,
   "nav_menu": {},
   "number_sections": true,
   "sideBar": true,
   "skip_h1_title": false,
   "title_cell": "Table of Contents",
   "title_sidebar": "Contents",
   "toc_cell": false,
   "toc_position": {},
   "toc_section_display": true,
   "toc_window_display": false
  }
 },
 "nbformat": 4,
 "nbformat_minor": 5
}
