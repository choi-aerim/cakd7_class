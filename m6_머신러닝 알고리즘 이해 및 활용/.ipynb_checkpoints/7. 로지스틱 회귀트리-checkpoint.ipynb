{
 "cells": [
  {
   "cell_type": "code",
   "execution_count": 1,
   "id": "abebab24",
   "metadata": {},
   "outputs": [],
   "source": [
    "import pandas as pd\n",
    "import matplotlib.pyplot as plt\n",
    "import warnings\n",
    "warnings.filterwarnings('ignore')\n",
    "\n",
    "from sklearn.datasets import load_breast_cancer\n",
    "from sklearn.linear_model import LogisticRegression\n"
   ]
  },
  {
   "cell_type": "code",
   "execution_count": 4,
   "id": "c12f5076",
   "metadata": {},
   "outputs": [
    {
     "data": {
      "text/plain": [
       "(array([[1.799e+01, 1.038e+01, 1.228e+02, ..., 2.654e-01, 4.601e-01,\n",
       "         1.189e-01],\n",
       "        [2.057e+01, 1.777e+01, 1.329e+02, ..., 1.860e-01, 2.750e-01,\n",
       "         8.902e-02],\n",
       "        [1.969e+01, 2.125e+01, 1.300e+02, ..., 2.430e-01, 3.613e-01,\n",
       "         8.758e-02],\n",
       "        ...,\n",
       "        [1.660e+01, 2.808e+01, 1.083e+02, ..., 1.418e-01, 2.218e-01,\n",
       "         7.820e-02],\n",
       "        [2.060e+01, 2.933e+01, 1.401e+02, ..., 2.650e-01, 4.087e-01,\n",
       "         1.240e-01],\n",
       "        [7.760e+00, 2.454e+01, 4.792e+01, ..., 0.000e+00, 2.871e-01,\n",
       "         7.039e-02]]),\n",
       " array([0, 0, 0, 0, 0, 0, 0, 0, 0, 0, 0, 0, 0, 0, 0, 0, 0, 0, 0, 1, 1, 1,\n",
       "        0, 0, 0, 0, 0, 0, 0, 0, 0, 0, 0, 0, 0, 0, 0, 1, 0, 0, 0, 0, 0, 0,\n",
       "        0, 0, 1, 0, 1, 1, 1, 1, 1, 0, 0, 1, 0, 0, 1, 1, 1, 1, 0, 1, 0, 0,\n",
       "        1, 1, 1, 1, 0, 1, 0, 0, 1, 0, 1, 0, 0, 1, 1, 1, 0, 0, 1, 0, 0, 0,\n",
       "        1, 1, 1, 0, 1, 1, 0, 0, 1, 1, 1, 0, 0, 1, 1, 1, 1, 0, 1, 1, 0, 1,\n",
       "        1, 1, 1, 1, 1, 1, 1, 0, 0, 0, 1, 0, 0, 1, 1, 1, 0, 0, 1, 0, 1, 0,\n",
       "        0, 1, 0, 0, 1, 1, 0, 1, 1, 0, 1, 1, 1, 1, 0, 1, 1, 1, 1, 1, 1, 1,\n",
       "        1, 1, 0, 1, 1, 1, 1, 0, 0, 1, 0, 1, 1, 0, 0, 1, 1, 0, 0, 1, 1, 1,\n",
       "        1, 0, 1, 1, 0, 0, 0, 1, 0, 1, 0, 1, 1, 1, 0, 1, 1, 0, 0, 1, 0, 0,\n",
       "        0, 0, 1, 0, 0, 0, 1, 0, 1, 0, 1, 1, 0, 1, 0, 0, 0, 0, 1, 1, 0, 0,\n",
       "        1, 1, 1, 0, 1, 1, 1, 1, 1, 0, 0, 1, 1, 0, 1, 1, 0, 0, 1, 0, 1, 1,\n",
       "        1, 1, 0, 1, 1, 1, 1, 1, 0, 1, 0, 0, 0, 0, 0, 0, 0, 0, 0, 0, 0, 0,\n",
       "        0, 0, 1, 1, 1, 1, 1, 1, 0, 1, 0, 1, 1, 0, 1, 1, 0, 1, 0, 0, 1, 1,\n",
       "        1, 1, 1, 1, 1, 1, 1, 1, 1, 1, 1, 0, 1, 1, 0, 1, 0, 1, 1, 1, 1, 1,\n",
       "        1, 1, 1, 1, 1, 1, 1, 1, 1, 0, 1, 1, 1, 0, 1, 0, 1, 1, 1, 1, 0, 0,\n",
       "        0, 1, 1, 1, 1, 0, 1, 0, 1, 0, 1, 1, 1, 0, 1, 1, 1, 1, 1, 1, 1, 0,\n",
       "        0, 0, 1, 1, 1, 1, 1, 1, 1, 1, 1, 1, 1, 0, 0, 1, 0, 0, 0, 1, 0, 0,\n",
       "        1, 1, 1, 1, 1, 0, 1, 1, 1, 1, 1, 0, 1, 1, 1, 0, 1, 1, 0, 0, 1, 1,\n",
       "        1, 1, 1, 1, 0, 1, 1, 1, 1, 1, 1, 1, 0, 1, 1, 1, 1, 1, 0, 1, 1, 0,\n",
       "        1, 1, 1, 1, 1, 1, 1, 1, 1, 1, 1, 1, 0, 1, 0, 0, 1, 0, 1, 1, 1, 1,\n",
       "        1, 0, 1, 1, 0, 1, 0, 1, 1, 0, 1, 0, 1, 1, 1, 1, 1, 1, 1, 1, 0, 0,\n",
       "        1, 1, 1, 1, 1, 1, 0, 1, 1, 1, 1, 1, 1, 1, 1, 1, 1, 0, 1, 1, 1, 1,\n",
       "        1, 1, 1, 0, 1, 0, 1, 1, 0, 1, 1, 1, 1, 1, 0, 0, 1, 0, 1, 0, 1, 1,\n",
       "        1, 1, 1, 0, 1, 1, 0, 1, 0, 1, 0, 0, 1, 1, 1, 0, 1, 1, 1, 1, 1, 1,\n",
       "        1, 1, 1, 1, 1, 0, 1, 0, 0, 1, 1, 1, 1, 1, 1, 1, 1, 1, 1, 1, 1, 1,\n",
       "        1, 1, 1, 1, 1, 1, 1, 1, 1, 1, 1, 1, 0, 0, 0, 0, 0, 0, 1]))"
      ]
     },
     "execution_count": 4,
     "metadata": {},
     "output_type": "execute_result"
    }
   ],
   "source": [
    "cancer = load_breast_cancer()\n",
    "cancer.data, cancer.target"
   ]
  },
  {
   "cell_type": "markdown",
   "id": "9d5254cc",
   "metadata": {},
   "source": [
    "- 선형 회귀 계열의 로지스틱 회귀는 데이터의 정규 분포도에 따라 예측 성능 영향을 받을 수 있음\n",
    "- 데이터에 먼주 정규 분포 형태의 표준 스케일링을 적용한 후, 데이터 세트 분리 필요"
   ]
  },
  {
   "cell_type": "code",
   "execution_count": 6,
   "id": "ef5f6bda",
   "metadata": {},
   "outputs": [],
   "source": [
    "from sklearn.preprocessing import StandardScaler\n",
    "from sklearn.model_selection import train_test_split\n",
    "\n",
    "scaler = StandardScaler()\n",
    "data_scaled = scaler.fit_transform(cancer.data)\n",
    "\n",
    "X_train, X_test, y_train, y_test = train_test_split(data_scaled, cancer.target, \n",
    "                                                    test_size = 0.3,\n",
    "                                                    random_state = 0)"
   ]
  },
  {
   "cell_type": "code",
   "execution_count": 9,
   "id": "c5a0f083",
   "metadata": {},
   "outputs": [
    {
     "name": "stdout",
     "output_type": "stream",
     "text": [
      "accuracy: 0.9766, roc_auc: 0.9716\n"
     ]
    }
   ],
   "source": [
    "# 모델링 및 평가\n",
    "\n",
    "from sklearn.metrics import accuracy_score, roc_auc_score\n",
    "\n",
    "# 모델링\n",
    "lr_clf = LogisticRegression()\n",
    "\n",
    "# 학습\n",
    "lr_clf.fit(X_train, y_train)\n",
    "\n",
    "# 예측\n",
    "lr_preds = lr_clf.predict(X_test)\n",
    "\n",
    "print(f'accuracy: {round(accuracy_score(y_test, lr_preds),4)}, roc_auc: {round(roc_auc_score(y_test,lr_preds),4)}')\n"
   ]
  },
  {
   "cell_type": "markdown",
   "id": "55fe5463",
   "metadata": {},
   "source": [
    "#### 과제1: \n",
    "여러개의 solver 값 별로 LogisticRegression 학습 후 성능 평가(최적화 방안 찾기 )- accuracy, roc\n",
    "- 특정 solver는 최적화에 상대적으로 많은 반복 횟수가 필요할 수 있으므로, max_iter값을 600으로 설정하여 회귀 계수를 최적화 하도록 함"
   ]
  },
  {
   "cell_type": "code",
   "execution_count": 89,
   "id": "ba1aa376",
   "metadata": {},
   "outputs": [
    {
     "data": {
      "text/plain": [
       "dict_keys(['data', 'target', 'frame', 'target_names', 'DESCR', 'feature_names', 'filename', 'data_module'])"
      ]
     },
     "execution_count": 89,
     "metadata": {},
     "output_type": "execute_result"
    }
   ],
   "source": [
    "cancer.keys()"
   ]
  },
  {
   "cell_type": "code",
   "execution_count": 94,
   "id": "5765fe69",
   "metadata": {},
   "outputs": [
    {
     "name": "stdout",
     "output_type": "stream",
     "text": [
      "solver: lbfgs, accuracy :0.9766, roc_auc: 0.9716\n",
      "\n",
      "\n",
      "solver: liblinear, accuracy :0.9825, roc_auc: 0.9795\n",
      "\n",
      "\n",
      "solver: newton-cg, accuracy :0.9766, roc_auc: 0.9716\n",
      "\n",
      "\n",
      "solver: sag, accuracy :0.9825, roc_auc: 0.9795\n",
      "\n",
      "\n",
      "solver: saga, accuracy :0.9825, roc_auc: 0.9795\n",
      "\n",
      "\n"
     ]
    }
   ],
   "source": [
    "from sklearn.datasets import load_breast_cancer\n",
    "from sklearn.linear_model import LogisticRegression\n",
    "from sklearn.preprocessing import StandardScaler\n",
    "from sklearn.model_selection import train_test_split\n",
    "from sklearn.metrics import accuracy_score, roc_auc_score\n",
    "\n",
    "# cancer클래스 객체화\n",
    "cancer = load_breast_cancer()\n",
    "\n",
    "# 데이터 정규화: \n",
    "## 선형 회귀 계열의 로지스틱 회귀는 데이터의 정규 분포도에 따라 예측 성능에 영향을 받을 수 있으므로 데이터 표준화 필요\n",
    "scaler = StandardScaler()\n",
    "data_scaled = scaler.fit_transform(cancer.data)\n",
    "\n",
    "# 학습/검증용 데이터 나누기\n",
    "X_train, X_test, y_train, y_test = train_test_split(data_scaled, cancer.target, \n",
    "                                                    test_size = 0.3,\n",
    "                                                    random_state = 0)\n",
    "\n",
    "# 모델링 및 학습과 예측\n",
    "solvers = ['lbfgs' ,'liblinear','newton-cg','sag','saga']\n",
    "\n",
    "for solver in solvers:\n",
    "    lr_clf = LogisticRegression(solver = solver, max_iter = 600)\n",
    "    lr_clf.fit(X_train, y_train)\n",
    "    lr_preds = lr_clf.predict(X_test)\n",
    "    \n",
    "    # 정확도, roc곡선 측정\n",
    "    accuracy = accuracy_score(y_test, lr_preds)\n",
    "    roc_auc = roc_auc_score(y_test, lr_preds)\n",
    "    \n",
    "    print(f'solver: {solver}, accuracy :{round(accuracy, 4)}, roc_auc: {round(roc_auc, 4)}')\n",
    "    print('\\n')"
   ]
  },
  {
   "cell_type": "markdown",
   "id": "9e80cdab",
   "metadata": {},
   "source": [
    "- solver 파라미터를 liblinear, sag, saga일 경우 정확도가 0.9825, ROC-AUC가 0.797FH lbfgs, newton-cg에 비해 상대적으로 성능 수치가 높게 나옴\n",
    "- 다만, 데이터 세트가 워낙 작기 때문에 크게 의미있는 결과는 아님"
   ]
  },
  {
   "cell_type": "markdown",
   "id": "05f39bc2",
   "metadata": {},
   "source": [
    "#### 과제2: \n",
    "parameter을 이용해 gridsearchcv로 최적 하이퍼파라미터 및 평균 정확도를 구하기\n",
    "- penalty 파라미터: 규제의 유형 설정, L2/ L1\n",
    "- c 파라미터: 규제 강도 조절하는 alpha 값의 역수, c값이 작을수록 규제 강도가 크고 모델이 복잡도가 덜함"
   ]
  },
  {
   "cell_type": "code",
   "execution_count": 97,
   "id": "3fe615d8",
   "metadata": {},
   "outputs": [
    {
     "name": "stdout",
     "output_type": "stream",
     "text": [
      "최적 하이퍼 파라미터: {'C': 0.1, 'penalty': 'l2', 'solver': 'liblinear'}, 최적 평균 정확도: 0.979\n"
     ]
    }
   ],
   "source": [
    "from sklearn.model_selection import GridSearchCV\n",
    "\n",
    "params = {'solver': ['liblinear', 'lbfgs'],\n",
    "          'penalty': ['l2','l1'],\n",
    "          'C': [0.01, 0.1, 1, 5, 10]}\n",
    "\n",
    "# 모델 객체화\n",
    "lr_clf = LogisticRegression()\n",
    "\n",
    "# gridsearchcv 실행\n",
    "grid_clf = GridSearchCV(lr_clf, param_grid = params, scoring = 'accuracy', cv = 3)\n",
    "\n",
    "# 모델 최적화\n",
    "grid_clf.fit(data_scaled, cancer.target)\n",
    "print(f'최적 하이퍼 파라미터: {grid_clf.best_params_}, 최적 평균 정확도: {grid_clf.best_score_:.3f}')"
   ]
  },
  {
   "cell_type": "markdown",
   "id": "edbec2f6",
   "metadata": {},
   "source": [
    "## 회귀트리"
   ]
  },
  {
   "cell_type": "markdown",
   "id": "ea7d0859",
   "metadata": {},
   "source": [
    "### 회귀트리 모델로 교차 검증 후 평가"
   ]
  },
  {
   "cell_type": "code",
   "execution_count": 11,
   "id": "9db7d2cf",
   "metadata": {},
   "outputs": [],
   "source": [
    "from sklearn.datasets import load_boston\n",
    "from sklearn.model_selection import cross_val_score\n",
    "from sklearn.ensemble import RandomForestRegressor\n",
    "import numpy as np\n",
    "import pandas as pd"
   ]
  },
  {
   "cell_type": "code",
   "execution_count": 12,
   "id": "c6a81a12",
   "metadata": {},
   "outputs": [
    {
     "data": {
      "text/plain": [
       "dict_keys(['data', 'target', 'feature_names', 'DESCR', 'filename', 'data_module'])"
      ]
     },
     "execution_count": 12,
     "metadata": {},
     "output_type": "execute_result"
    }
   ],
   "source": [
    "boston = load_boston()\n",
    "boston.keys()"
   ]
  },
  {
   "cell_type": "code",
   "execution_count": 15,
   "id": "b4bb7b6b",
   "metadata": {},
   "outputs": [
    {
     "data": {
      "text/plain": [
       "array(['CRIM', 'ZN', 'INDUS', 'CHAS', 'NOX', 'RM', 'AGE', 'DIS', 'RAD',\n",
       "       'TAX', 'PTRATIO', 'B', 'LSTAT'], dtype='<U7')"
      ]
     },
     "execution_count": 15,
     "metadata": {},
     "output_type": "execute_result"
    }
   ],
   "source": [
    "boston.feature_names"
   ]
  },
  {
   "cell_type": "code",
   "execution_count": 16,
   "id": "2711be23",
   "metadata": {},
   "outputs": [
    {
     "data": {
      "text/html": [
       "<div>\n",
       "<style scoped>\n",
       "    .dataframe tbody tr th:only-of-type {\n",
       "        vertical-align: middle;\n",
       "    }\n",
       "\n",
       "    .dataframe tbody tr th {\n",
       "        vertical-align: top;\n",
       "    }\n",
       "\n",
       "    .dataframe thead th {\n",
       "        text-align: right;\n",
       "    }\n",
       "</style>\n",
       "<table border=\"1\" class=\"dataframe\">\n",
       "  <thead>\n",
       "    <tr style=\"text-align: right;\">\n",
       "      <th></th>\n",
       "      <th>CRIM</th>\n",
       "      <th>ZN</th>\n",
       "      <th>INDUS</th>\n",
       "      <th>CHAS</th>\n",
       "      <th>NOX</th>\n",
       "      <th>RM</th>\n",
       "      <th>AGE</th>\n",
       "      <th>DIS</th>\n",
       "      <th>RAD</th>\n",
       "      <th>TAX</th>\n",
       "      <th>PTRATIO</th>\n",
       "      <th>B</th>\n",
       "      <th>LSTAT</th>\n",
       "      <th>PRICE</th>\n",
       "    </tr>\n",
       "  </thead>\n",
       "  <tbody>\n",
       "    <tr>\n",
       "      <th>0</th>\n",
       "      <td>0.00632</td>\n",
       "      <td>18.0</td>\n",
       "      <td>2.31</td>\n",
       "      <td>0.0</td>\n",
       "      <td>0.538</td>\n",
       "      <td>6.575</td>\n",
       "      <td>65.2</td>\n",
       "      <td>4.0900</td>\n",
       "      <td>1.0</td>\n",
       "      <td>296.0</td>\n",
       "      <td>15.3</td>\n",
       "      <td>396.90</td>\n",
       "      <td>4.98</td>\n",
       "      <td>24.0</td>\n",
       "    </tr>\n",
       "    <tr>\n",
       "      <th>1</th>\n",
       "      <td>0.02731</td>\n",
       "      <td>0.0</td>\n",
       "      <td>7.07</td>\n",
       "      <td>0.0</td>\n",
       "      <td>0.469</td>\n",
       "      <td>6.421</td>\n",
       "      <td>78.9</td>\n",
       "      <td>4.9671</td>\n",
       "      <td>2.0</td>\n",
       "      <td>242.0</td>\n",
       "      <td>17.8</td>\n",
       "      <td>396.90</td>\n",
       "      <td>9.14</td>\n",
       "      <td>21.6</td>\n",
       "    </tr>\n",
       "    <tr>\n",
       "      <th>2</th>\n",
       "      <td>0.02729</td>\n",
       "      <td>0.0</td>\n",
       "      <td>7.07</td>\n",
       "      <td>0.0</td>\n",
       "      <td>0.469</td>\n",
       "      <td>7.185</td>\n",
       "      <td>61.1</td>\n",
       "      <td>4.9671</td>\n",
       "      <td>2.0</td>\n",
       "      <td>242.0</td>\n",
       "      <td>17.8</td>\n",
       "      <td>392.83</td>\n",
       "      <td>4.03</td>\n",
       "      <td>34.7</td>\n",
       "    </tr>\n",
       "    <tr>\n",
       "      <th>3</th>\n",
       "      <td>0.03237</td>\n",
       "      <td>0.0</td>\n",
       "      <td>2.18</td>\n",
       "      <td>0.0</td>\n",
       "      <td>0.458</td>\n",
       "      <td>6.998</td>\n",
       "      <td>45.8</td>\n",
       "      <td>6.0622</td>\n",
       "      <td>3.0</td>\n",
       "      <td>222.0</td>\n",
       "      <td>18.7</td>\n",
       "      <td>394.63</td>\n",
       "      <td>2.94</td>\n",
       "      <td>33.4</td>\n",
       "    </tr>\n",
       "    <tr>\n",
       "      <th>4</th>\n",
       "      <td>0.06905</td>\n",
       "      <td>0.0</td>\n",
       "      <td>2.18</td>\n",
       "      <td>0.0</td>\n",
       "      <td>0.458</td>\n",
       "      <td>7.147</td>\n",
       "      <td>54.2</td>\n",
       "      <td>6.0622</td>\n",
       "      <td>3.0</td>\n",
       "      <td>222.0</td>\n",
       "      <td>18.7</td>\n",
       "      <td>396.90</td>\n",
       "      <td>5.33</td>\n",
       "      <td>36.2</td>\n",
       "    </tr>\n",
       "  </tbody>\n",
       "</table>\n",
       "</div>"
      ],
      "text/plain": [
       "      CRIM    ZN  INDUS  CHAS    NOX     RM   AGE     DIS  RAD    TAX  \\\n",
       "0  0.00632  18.0   2.31   0.0  0.538  6.575  65.2  4.0900  1.0  296.0   \n",
       "1  0.02731   0.0   7.07   0.0  0.469  6.421  78.9  4.9671  2.0  242.0   \n",
       "2  0.02729   0.0   7.07   0.0  0.469  7.185  61.1  4.9671  2.0  242.0   \n",
       "3  0.03237   0.0   2.18   0.0  0.458  6.998  45.8  6.0622  3.0  222.0   \n",
       "4  0.06905   0.0   2.18   0.0  0.458  7.147  54.2  6.0622  3.0  222.0   \n",
       "\n",
       "   PTRATIO       B  LSTAT  PRICE  \n",
       "0     15.3  396.90   4.98   24.0  \n",
       "1     17.8  396.90   9.14   21.6  \n",
       "2     17.8  392.83   4.03   34.7  \n",
       "3     18.7  394.63   2.94   33.4  \n",
       "4     18.7  396.90   5.33   36.2  "
      ]
     },
     "execution_count": 16,
     "metadata": {},
     "output_type": "execute_result"
    }
   ],
   "source": [
    "# 보스턴데이터로 데이터프레임 형성\n",
    "\n",
    "bostonDF = pd.DataFrame(boston.data, columns = boston.feature_names)\n",
    "bostonDF['PRICE'] = boston.target\n",
    "\n",
    "bostonDF.head()"
   ]
  },
  {
   "cell_type": "code",
   "execution_count": 19,
   "id": "c301471b",
   "metadata": {},
   "outputs": [
    {
     "name": "stdout",
     "output_type": "stream",
     "text": [
      "[ -7.88 -13.14 -20.57 -46.23 -18.88]\n",
      "[2.81 3.63 4.54 6.8  4.34]\n",
      "4.42\n"
     ]
    }
   ],
   "source": [
    "# x, y 데이터 분류(데이터프레임형태)\n",
    "y_target = bostonDF['PRICE']\n",
    "X_data = bostonDF.drop('PRICE', axis = 1)\n",
    "\n",
    "# 랜덤포레스트회귀트리 모델링\n",
    "rf = RandomForestRegressor(random_state = 0, n_estimators = 1000)\n",
    "\n",
    "# 5개의 폴드별 최소오차제곱합 구하기( 마이너스로 나옴 )\n",
    "neg_mse_scores = cross_val_score(rf, X_data, y_target, \n",
    "                                 scoring = 'neg_mean_squared_error', \n",
    "                                 cv = 5)\n",
    "\n",
    "# 5개의 폴드별 최소오차제곱합의 제곱근값 구하기\n",
    "rmse_scores = np.sqrt(-1 * neg_mse_scores)\n",
    "\n",
    "# 전체 폴드의 평균 오차제곱합 구하기\n",
    "avg_mse = np.mean(rmse_scores)\n",
    "\n",
    "\n",
    "print(np.round(neg_mse_scores, 2))\n",
    "print(np.round(rmse_scores, 2))\n",
    "print(np.round(avg_mse, 2))"
   ]
  },
  {
   "cell_type": "markdown",
   "id": "93e16355",
   "metadata": {},
   "source": [
    "#### 과제3: \n",
    "회귀트리 모델들을 이용하여 모델링 및 평가 수행하기\n",
    "(사용자함수 생성: def get_model_cv_prediction(model, X_data, y_target))"
   ]
  },
  {
   "cell_type": "code",
   "execution_count": 11,
   "id": "2c76e81a",
   "metadata": {},
   "outputs": [
    {
     "name": "stdout",
     "output_type": "stream",
     "text": [
      "5 교차 검증의 개별 MSE scores: [ 7.88 13.14 20.57 46.23 18.88]\n",
      "5 교차 검증의 개별 RMSE scores: [2.81 3.63 4.54 6.8  4.34]\n",
      "5 교차 검증의 개별 평균 RMSE: 4.42\n"
     ]
    }
   ],
   "source": [
    "from sklearn.tree import DecisionTreeRegressor\n",
    "from sklearn.ensemble import RandomForestRegressor\n",
    "from sklearn.ensemble import GradientBoostingRegressor\n",
    "from xgboost import XGBRegressor\n",
    "from lightgbm import LGBMRegressor\n",
    "from sklearn.model_selection import cross_val_score\n",
    "\n",
    "from sklearn.datasets import load_boston\n",
    "import pandas as pd\n",
    "import numpy as np\n",
    "import warnings\n",
    "warnings.filterwarnings('ignore')\n",
    "\n",
    "\n",
    "# 보스턴 데이터 세트 로드\n",
    "boston = load_boston()\n",
    "bostonDF = pd.DataFrame(boston.data, columns = boston.feature_names)\n",
    "bostonDF['PRICE'] = boston.target\n",
    "\n",
    "y_target = bostonDF['PRICE']\n",
    "X_data = bostonDF.drop('PRICE', axis = 1)\n",
    "\n",
    "\n",
    "# 모델링\n",
    "rf = RandomForestRegressor(random_state = 0, n_estimators = 1000)\n",
    "\n",
    "# 교차검증으로 평균 오차제곱합 구하기\n",
    "neg_mse_scores = cross_val_score(rf, X_data, y_target, \n",
    "                                 scoring = 'neg_mean_squared_error', cv = 5)\n",
    "rmse_scores = np.sqrt(-1 * neg_mse_scores)\n",
    "avg_scores = np.mean(rmse_scores)\n",
    "\n",
    "print(f'5 교차 검증의 개별 MSE scores: {np.round(-1 * neg_mse_scores,2)}')\n",
    "print(f'5 교차 검증의 개별 RMSE scores: {np.round(rmse_scores,2)}')\n",
    "print(f'5 교차 검증의 개별 평균 RMSE: {np.round(avg_scores,2)}')"
   ]
  },
  {
   "cell_type": "code",
   "execution_count": 13,
   "id": "27a098bf",
   "metadata": {},
   "outputs": [],
   "source": [
    "# 결정트리, GBM, XGBOOST, LIGHTGBM의 Regressor 을 모두 이용해 보스턴 주택 가격 예측 수행\n",
    "# 모델을 넣으면 RMSE 평가지수를 출력해주는 사용자함수 생성\n",
    "\n",
    "def get_model_cv_prediction(model, X_data, y_target):\n",
    "    neg_mse_scores = cross_val_score(model, X_data, y_target, \n",
    "                                     scoring = 'neg_mean_squared_error' ,cv = 5)\n",
    "    rmse_scores = np.sqrt(-1 * neg_mse_scores)\n",
    "    avg_rmse = np.mean(rmse_scores)\n",
    "    print(f'####{model.__class__.__name__}####')\n",
    "    print(f'5개 교차 검증의 평균 RMSE: {avg_rmse: .3f}')"
   ]
  },
  {
   "cell_type": "code",
   "execution_count": 15,
   "id": "c48d1886",
   "metadata": {},
   "outputs": [
    {
     "name": "stdout",
     "output_type": "stream",
     "text": [
      "####DecisionTreeRegressor####\n",
      "5개 교차 검증의 평균 RMSE:  5.978\n",
      "####RandomForestRegressor####\n",
      "5개 교차 검증의 평균 RMSE:  4.423\n",
      "####GradientBoostingRegressor####\n",
      "5개 교차 검증의 평균 RMSE:  4.269\n",
      "####XGBRegressor####\n",
      "5개 교차 검증의 평균 RMSE:  4.251\n",
      "####LGBMRegressor####\n",
      "5개 교차 검증의 평균 RMSE:  4.646\n"
     ]
    }
   ],
   "source": [
    "# 다양한 모델 객체 생성\n",
    "\n",
    "dt_reg = DecisionTreeRegressor(random_state = 0, max_depth = 4)\n",
    "rf_reg = RandomForestRegressor(random_state = 0, n_estimators = 1000)\n",
    "gb_reg = GradientBoostingRegressor(random_state = 0, n_estimators = 1000)\n",
    "xgb_reg = XGBRegressor(n_estimators = 1000)\n",
    "lgb_reg = LGBMRegressor(n_estimators = 1000)\n",
    "\n",
    "# 생성한 사용자함수를 통해 트리 기반의 모델 반복하면서 평가 수행\n",
    "models = [dt_reg, rf_reg, gb_reg, xgb_reg, lgb_reg]\n",
    "for model in models:\n",
    "    get_model_cv_prediction(model, X_data, y_target)"
   ]
  },
  {
   "cell_type": "markdown",
   "id": "777f0154",
   "metadata": {},
   "source": [
    "### 피처별 중요도 시각화"
   ]
  },
  {
   "cell_type": "markdown",
   "id": "e5d7cfb4",
   "metadata": {},
   "source": [
    "- 회귀트리 Regressor 클래스는 선형 회귀와 다른 처리 방식이므로 회귀 계수를 제공하는 coef_속성이 없음\n",
    "- 대신 feature_importances를 이용해 피처별 중요도를 파악할 수 있음"
   ]
  },
  {
   "cell_type": "code",
   "execution_count": 20,
   "id": "7ed9a974",
   "metadata": {},
   "outputs": [
    {
     "name": "stdout",
     "output_type": "stream",
     "text": [
      "[0.03856297 0.00107351 0.00610772 0.00085443 0.02292214 0.42410417\n",
      " 0.0136147  0.06631144 0.00365046 0.01388214 0.01658665 0.01163997\n",
      " 0.38068971]\n",
      "CRIM       0.038563\n",
      "ZN         0.001074\n",
      "INDUS      0.006108\n",
      "CHAS       0.000854\n",
      "NOX        0.022922\n",
      "RM         0.424104\n",
      "AGE        0.013615\n",
      "DIS        0.066311\n",
      "RAD        0.003650\n",
      "TAX        0.013882\n",
      "PTRATIO    0.016587\n",
      "B          0.011640\n",
      "LSTAT      0.380690\n",
      "dtype: float64\n",
      "RM         0.424104\n",
      "LSTAT      0.380690\n",
      "DIS        0.066311\n",
      "CRIM       0.038563\n",
      "NOX        0.022922\n",
      "PTRATIO    0.016587\n",
      "TAX        0.013882\n",
      "AGE        0.013615\n",
      "B          0.011640\n",
      "INDUS      0.006108\n",
      "RAD        0.003650\n",
      "ZN         0.001074\n",
      "CHAS       0.000854\n",
      "dtype: float64\n"
     ]
    },
    {
     "data": {
      "text/plain": [
       "<AxesSubplot:>"
      ]
     },
     "execution_count": 20,
     "metadata": {},
     "output_type": "execute_result"
    },
    {
     "data": {
      "image/png": "[encoded data removed]",
      "text/plain": [
       "<Figure size 432x288 with 1 Axes>"
      ]
     },
     "metadata": {
      "needs_background": "light"
     },
     "output_type": "display_data"
    }
   ],
   "source": [
    "import seaborn as sns\n",
    "\n",
    "# 모델 객체 생성\n",
    "rf_reg = RandomForestRegressor(n_estimators = 1000)\n",
    "\n",
    "# 학습\n",
    "rf_reg.fit(X_data,y_target)\n",
    "\n",
    "# 피처중요도 계산\n",
    "print(rf_reg.feature_importances_)\n",
    "feature_series = pd.Series(data = rf_reg.feature_importances_, index = X_data.columns)\n",
    "print(feature_series)\n",
    "feature_series = feature_series.sort_values(ascending = False)\n",
    "print(feature_series)\n",
    "\n",
    "# 시각화\n",
    "sns.barplot(x = feature_series, y = feature_series.index)"
   ]
  },
  {
   "cell_type": "markdown",
   "id": "c74b972f",
   "metadata": {},
   "source": [
    "### 회귀 트리 Regressor 와 선형 회귀 비교"
   ]
  },
  {
   "cell_type": "markdown",
   "id": "61d34a7c",
   "metadata": {},
   "source": [
    "#### 예측값 판단 비교 시각화"
   ]
  },
  {
   "cell_type": "markdown",
   "id": "bb1a9d14",
   "metadata": {},
   "source": [
    "- 결정 트리의 하이퍼 파라미터인 max_depth의 크기를 변화시키면서 회귀 트리 예측선의 변화 살펴보기"
   ]
  },
  {
   "cell_type": "code",
   "execution_count": 22,
   "id": "e1aa90fc",
   "metadata": {},
   "outputs": [
    {
     "data": {
      "text/plain": [
       "CRIM      -0.388305\n",
       "ZN         0.360445\n",
       "INDUS     -0.483725\n",
       "CHAS       0.175260\n",
       "NOX       -0.427321\n",
       "RM         0.695360\n",
       "AGE       -0.376955\n",
       "DIS        0.249929\n",
       "RAD       -0.381626\n",
       "TAX       -0.468536\n",
       "PTRATIO   -0.507787\n",
       "B          0.333461\n",
       "LSTAT     -0.737663\n",
       "PRICE      1.000000\n",
       "Name: PRICE, dtype: float64"
      ]
     },
     "execution_count": 22,
     "metadata": {},
     "output_type": "execute_result"
    }
   ],
   "source": [
    "bostonDF.corr().loc['PRICE']"
   ]
  },
  {
   "cell_type": "code",
   "execution_count": 26,
   "id": "fdcff4eb",
   "metadata": {},
   "outputs": [
    {
     "name": "stdout",
     "output_type": "stream",
     "text": [
      "(100, 2)\n"
     ]
    },
    {
     "data": {
      "text/plain": [
       "<matplotlib.collections.PathCollection at 0x1b9c308fcd0>"
      ]
     },
     "execution_count": 26,
     "metadata": {},
     "output_type": "execute_result"
    },
    {
     "data": {
      "image/png": "[encoded data removed]",
      "text/plain": [
       "<Figure size 432x288 with 1 Axes>"
      ]
     },
     "metadata": {
      "needs_background": "light"
     },
     "output_type": "display_data"
    }
   ],
   "source": [
    "# 2차원 평면상에서의 회귀 예측선을 쉽게 표현하기 위해 단 1개만의 변수 추출\n",
    "## 위의 피처 중요도에서 가장 높은 중요도가 높고, \n",
    "## 양의 상관관계가 가장 높은 RM 피처만 활용해 선형회귀 및 결정 트리 회귀 PRICE 예측 회귀선 표현하기\n",
    "import matplotlib.pyplot as plt\n",
    "\n",
    "bostonDF_sample = bostonDF[['RM','PRICE']]\n",
    "bostonDF_sample = bostonDF_sample.sample(n = 100, random_state = 0)\n",
    "\n",
    "print(bostonDF_sample.shape)\n",
    "plt.figure()\n",
    "plt.scatter(bostonDF_sample.RM, bostonDF_sample.PRICE, c = 'darkorange')"
   ]
  },
  {
   "cell_type": "code",
   "execution_count": 38,
   "id": "fc5fe9bc",
   "metadata": {},
   "outputs": [],
   "source": [
    "# 보스턴 데이터 세트에 대해 LinearRegression 과 DecisionTreeRegressor를 max_depth를 각각 2,7로 해서 학습하기\n",
    "import numpy as np\n",
    "from sklearn.linear_model import LinearRegression\n",
    "from sklearn.tree import DecisionTreeRegressor\n",
    "\n",
    "lr_reg = LinearRegression()\n",
    "dt_reg2 = DecisionTreeRegressor(max_depth = 2)\n",
    "dt_reg7 = DecisionTreeRegressor(max_depth = 7)\n",
    "\n",
    "\n",
    "# 학습 된 Regressor에 RM 값을 4.5~8.5까지 100개의 테스트 데이터 세트로 제공했을 때 예측값 구하기\n",
    "## 실제 예측을 적용할 테스트용 데이터 세트 생성\n",
    "X_test = np.arange(4.5, 8.5, 0.04).reshape(-1,1)\n",
    "\n",
    "## 보스턴 주택 가격 데이터에서 시각화를 위해 피처는 RM만, 그리고 결정 데이터이 PRICE 추출\n",
    "X_feature = bostonDF_sample['RM'].values.reshape(-1,1)\n",
    "y_target = bostonDF_sample['PRICE'].values.reshape(-1,1)\n",
    "\n",
    "## 학습 및 예측 수행\n",
    "lr_reg.fit(X_feature, y_target)\n",
    "dt_reg2.fit(X_feature, y_target)\n",
    "dt_reg7.fit(X_feature, y_target)\n",
    "\n",
    "\n",
    "pred_lr = lr_reg.predict(X_test)\n",
    "pred_dt2 = dt_reg2.predict(X_test)\n",
    "pred_dt7 = dt_reg7.predict(X_test)"
   ]
  },
  {
   "cell_type": "markdown",
   "id": "8ee3a577",
   "metadata": {},
   "source": [
    "#### Price 회귀선 시각화"
   ]
  },
  {
   "cell_type": "code",
   "execution_count": 41,
   "id": "b9e60331",
   "metadata": {},
   "outputs": [
    {
     "data": {
      "text/plain": [
       "[<matplotlib.lines.Line2D at 0x1b9c660bf10>]"
      ]
     },
     "execution_count": 41,
     "metadata": {},
     "output_type": "execute_result"
    },
    {
     "data": {
      "image/png": "[encoded data removed]",
      "text/plain": [
       "<Figure size 1008x288 with 3 Axes>"
      ]
     },
     "metadata": {
      "needs_background": "light"
     },
     "output_type": "display_data"
    }
   ],
   "source": [
    "fig, (ax1, ax2, ax3) = plt.subplots(figsize = (14, 4), ncols = 3)\n",
    "\n",
    "# X축 값을 4.5~8.5로 변환하며, 입력했을 때 선형회귀와 트리 회귀 예측선 시각화\n",
    "## 선형회귀\n",
    "ax1.set_title('Linear Regression')\n",
    "ax1.scatter(bostonDF_sample.RM, bostonDF_sample.PRICE, c = \"darkorange\")\n",
    "ax1.plot(X_test, pred_lr, label = 'Linear', c = 'red',  linewidth = 2)\n",
    "\n",
    "## max_depth가 2인 결정트리\n",
    "ax2.set_title('Decision Tree(max_depth = 2)')\n",
    "ax2.scatter(bostonDF_sample.RM, bostonDF_sample.PRICE, c = \"orange\")\n",
    "ax2.plot(X_test, pred_dt2, label = 'Decision Tree(2)', c = 'red',  linewidth = 2)\n",
    "\n",
    "## max_depth가 7인 결정트리\n",
    "ax3.set_title('Decision Tree(max_depth = 7)')\n",
    "ax3.scatter(bostonDF_sample.RM, bostonDF_sample.PRICE, c = \"orange\")\n",
    "ax3.plot(X_test, pred_dt7, label = 'Decision Tree(7)', c = 'red', linewidth = 2)"
   ]
  },
  {
   "cell_type": "markdown",
   "id": "4ebac2c1",
   "metadata": {},
   "source": [
    "- 선형회귀는 직선으로 예측 회귀선을 표현\n",
    "- 회귀트리의 경우는 분할되는 데이터 지점에 따라 브랜치를 만들면서 계단 형태로 회귀선을 그림\n",
    "- <b>max_depth = 7인 결정트리회귀</b>의 경우, 학습데이터 세트의 이상치 데이터도 학습하면서 복잡한 계단 형태의 회귀선을 만들어 <b>과적합이 되기 쉬운 모델이 됨</b>을 알 수 있음"
   ]
  },
  {
   "cell_type": "markdown",
   "id": "e36b7abc",
   "metadata": {},
   "source": [
    "## Regression 실습_ Bike Sharing Demand\n",
    "\n",
    "https://www.kaggle.com/datasets/lakshmi25npathi/bike-sharing-dataset\n",
    "```\n",
    "datetime : 날짜\n",
    "    - year : 년 (0: 2011, 1:2012)\n",
    "    - mnth : 월 ( 1 ~ 12)\n",
    "    - hr : 시(0 ~ 23)\n",
    "season : 계절 (1:봄철, 2:여름, 3:가을, 4:겨울)\n",
    "holiday : 날씨의 날이 휴일인지 아닌지\n",
    "workingday : 요일이 주말도 공휴일도 아닌 경우 1, 그렇지 않은 경우 0\n",
    "weather:\n",
    "    - 1: 맑음, 약간 흐림, 약간 흐림\n",
    "    - 2: 안개 + 흐림, 안개 + 부서진 구름, 안개 + 약간의 구름, 안개\n",
    "    - 3: 가벼운 눈, 가벼운 비 + 뇌우 + 흩어진 구름, 가벼운 비 + 흩어진 구름\n",
    "    - 4: 폭우 + 얼음 팔레트 + 뇌우 + 안개, 눈 + 안개\n",
    "temp : 섭씨로 나타낸 표준화된 온도, 값은 (tt min)/(t max-t min), t min=-8, t_max=+39(시간 단위로만 )를 통해 파생됨\n",
    "atemp: 섭씨 단위로 표준화된 느낌 온도, 값은 (tt min)/(t max-t min), t min=-16, t_max=+50(시간 단위로만 )을 통해 파생됨\n",
    "humidity: 표준화된 습도, 값은 100(최대)\n",
    "windspeed: 정규화된 풍속, 값은 67(최대)\n",
    "casual: 캐주얼 사용자 수\n",
    "register: 등록된 사용자 수\n",
    "count: 일반 및 등록 자전거를 포함한 총 대여 자전거 수\n",
    "```"
   ]
  },
  {
   "cell_type": "code",
   "execution_count": 41,
   "id": "4e890e36",
   "metadata": {},
   "outputs": [],
   "source": [
    "import numpy as np\n",
    "import pandas as pd\n",
    "import seaborn as sns\n",
    "import matplotlib.pyplot as plt"
   ]
  },
  {
   "cell_type": "code",
   "execution_count": 42,
   "id": "36ae2dc6",
   "metadata": {},
   "outputs": [
    {
     "name": "stdout",
     "output_type": "stream",
     "text": [
      "(10886, 12)\n"
     ]
    },
    {
     "data": {
      "text/html": [
       "<div>\n",
       "<style scoped>\n",
       "    .dataframe tbody tr th:only-of-type {\n",
       "        vertical-align: middle;\n",
       "    }\n",
       "\n",
       "    .dataframe tbody tr th {\n",
       "        vertical-align: top;\n",
       "    }\n",
       "\n",
       "    .dataframe thead th {\n",
       "        text-align: right;\n",
       "    }\n",
       "</style>\n",
       "<table border=\"1\" class=\"dataframe\">\n",
       "  <thead>\n",
       "    <tr style=\"text-align: right;\">\n",
       "      <th></th>\n",
       "      <th>datetime</th>\n",
       "      <th>season</th>\n",
       "      <th>holiday</th>\n",
       "      <th>workingday</th>\n",
       "      <th>weather</th>\n",
       "      <th>temp</th>\n",
       "      <th>atemp</th>\n",
       "      <th>humidity</th>\n",
       "      <th>windspeed</th>\n",
       "      <th>casual</th>\n",
       "      <th>registered</th>\n",
       "      <th>count</th>\n",
       "    </tr>\n",
       "  </thead>\n",
       "  <tbody>\n",
       "    <tr>\n",
       "      <th>0</th>\n",
       "      <td>2011-01-01 00:00:00</td>\n",
       "      <td>1</td>\n",
       "      <td>0</td>\n",
       "      <td>0</td>\n",
       "      <td>1</td>\n",
       "      <td>9.84</td>\n",
       "      <td>14.395</td>\n",
       "      <td>81</td>\n",
       "      <td>0.0</td>\n",
       "      <td>3</td>\n",
       "      <td>13</td>\n",
       "      <td>16</td>\n",
       "    </tr>\n",
       "    <tr>\n",
       "      <th>1</th>\n",
       "      <td>2011-01-01 01:00:00</td>\n",
       "      <td>1</td>\n",
       "      <td>0</td>\n",
       "      <td>0</td>\n",
       "      <td>1</td>\n",
       "      <td>9.02</td>\n",
       "      <td>13.635</td>\n",
       "      <td>80</td>\n",
       "      <td>0.0</td>\n",
       "      <td>8</td>\n",
       "      <td>32</td>\n",
       "      <td>40</td>\n",
       "    </tr>\n",
       "    <tr>\n",
       "      <th>2</th>\n",
       "      <td>2011-01-01 02:00:00</td>\n",
       "      <td>1</td>\n",
       "      <td>0</td>\n",
       "      <td>0</td>\n",
       "      <td>1</td>\n",
       "      <td>9.02</td>\n",
       "      <td>13.635</td>\n",
       "      <td>80</td>\n",
       "      <td>0.0</td>\n",
       "      <td>5</td>\n",
       "      <td>27</td>\n",
       "      <td>32</td>\n",
       "    </tr>\n",
       "    <tr>\n",
       "      <th>3</th>\n",
       "      <td>2011-01-01 03:00:00</td>\n",
       "      <td>1</td>\n",
       "      <td>0</td>\n",
       "      <td>0</td>\n",
       "      <td>1</td>\n",
       "      <td>9.84</td>\n",
       "      <td>14.395</td>\n",
       "      <td>75</td>\n",
       "      <td>0.0</td>\n",
       "      <td>3</td>\n",
       "      <td>10</td>\n",
       "      <td>13</td>\n",
       "    </tr>\n",
       "    <tr>\n",
       "      <th>4</th>\n",
       "      <td>2011-01-01 04:00:00</td>\n",
       "      <td>1</td>\n",
       "      <td>0</td>\n",
       "      <td>0</td>\n",
       "      <td>1</td>\n",
       "      <td>9.84</td>\n",
       "      <td>14.395</td>\n",
       "      <td>75</td>\n",
       "      <td>0.0</td>\n",
       "      <td>0</td>\n",
       "      <td>1</td>\n",
       "      <td>1</td>\n",
       "    </tr>\n",
       "  </tbody>\n",
       "</table>\n",
       "</div>"
      ],
      "text/plain": [
       "              datetime  season  holiday  workingday  weather  temp   atemp  \\\n",
       "0  2011-01-01 00:00:00       1        0           0        1  9.84  14.395   \n",
       "1  2011-01-01 01:00:00       1        0           0        1  9.02  13.635   \n",
       "2  2011-01-01 02:00:00       1        0           0        1  9.02  13.635   \n",
       "3  2011-01-01 03:00:00       1        0           0        1  9.84  14.395   \n",
       "4  2011-01-01 04:00:00       1        0           0        1  9.84  14.395   \n",
       "\n",
       "   humidity  windspeed  casual  registered  count  \n",
       "0        81        0.0       3          13     16  \n",
       "1        80        0.0       8          32     40  \n",
       "2        80        0.0       5          27     32  \n",
       "3        75        0.0       3          10     13  \n",
       "4        75        0.0       0           1      1  "
      ]
     },
     "execution_count": 42,
     "metadata": {},
     "output_type": "execute_result"
    }
   ],
   "source": [
    "bike_df = pd.read_csv('bike_train.csv')\n",
    "print(bike_df.shape)\n",
    "bike_df.head()"
   ]
  },
  {
   "cell_type": "code",
   "execution_count": 43,
   "id": "390a6f1a",
   "metadata": {},
   "outputs": [
    {
     "name": "stdout",
     "output_type": "stream",
     "text": [
      "<class 'pandas.core.frame.DataFrame'>\n",
      "RangeIndex: 10886 entries, 0 to 10885\n",
      "Data columns (total 12 columns):\n",
      " #   Column      Non-Null Count  Dtype  \n",
      "---  ------      --------------  -----  \n",
      " 0   datetime    10886 non-null  object \n",
      " 1   season      10886 non-null  int64  \n",
      " 2   holiday     10886 non-null  int64  \n",
      " 3   workingday  10886 non-null  int64  \n",
      " 4   weather     10886 non-null  int64  \n",
      " 5   temp        10886 non-null  float64\n",
      " 6   atemp       10886 non-null  float64\n",
      " 7   humidity    10886 non-null  int64  \n",
      " 8   windspeed   10886 non-null  float64\n",
      " 9   casual      10886 non-null  int64  \n",
      " 10  registered  10886 non-null  int64  \n",
      " 11  count       10886 non-null  int64  \n",
      "dtypes: float64(3), int64(8), object(1)\n",
      "memory usage: 1020.7+ KB\n"
     ]
    }
   ],
   "source": [
    "bike_df.info()"
   ]
  },
  {
   "cell_type": "markdown",
   "id": "fee383fe",
   "metadata": {},
   "source": [
    "### 데이터 전처리"
   ]
  },
  {
   "cell_type": "markdown",
   "id": "49249dce",
   "metadata": {},
   "source": [
    "#### 새로운 컬럼 생성"
   ]
  },
  {
   "cell_type": "code",
   "execution_count": 45,
   "id": "0b42c4e7",
   "metadata": {},
   "outputs": [
    {
     "data": {
      "text/html": [
       "<div>\n",
       "<style scoped>\n",
       "    .dataframe tbody tr th:only-of-type {\n",
       "        vertical-align: middle;\n",
       "    }\n",
       "\n",
       "    .dataframe tbody tr th {\n",
       "        vertical-align: top;\n",
       "    }\n",
       "\n",
       "    .dataframe thead th {\n",
       "        text-align: right;\n",
       "    }\n",
       "</style>\n",
       "<table border=\"1\" class=\"dataframe\">\n",
       "  <thead>\n",
       "    <tr style=\"text-align: right;\">\n",
       "      <th></th>\n",
       "      <th>datetime</th>\n",
       "      <th>season</th>\n",
       "      <th>holiday</th>\n",
       "      <th>workingday</th>\n",
       "      <th>weather</th>\n",
       "      <th>temp</th>\n",
       "      <th>atemp</th>\n",
       "      <th>humidity</th>\n",
       "      <th>windspeed</th>\n",
       "      <th>casual</th>\n",
       "      <th>registered</th>\n",
       "      <th>count</th>\n",
       "      <th>year</th>\n",
       "      <th>month</th>\n",
       "      <th>day</th>\n",
       "      <th>hour</th>\n",
       "    </tr>\n",
       "  </thead>\n",
       "  <tbody>\n",
       "    <tr>\n",
       "      <th>0</th>\n",
       "      <td>2011-01-01 00:00:00</td>\n",
       "      <td>1</td>\n",
       "      <td>0</td>\n",
       "      <td>0</td>\n",
       "      <td>1</td>\n",
       "      <td>9.84</td>\n",
       "      <td>14.395</td>\n",
       "      <td>81</td>\n",
       "      <td>0.0</td>\n",
       "      <td>3</td>\n",
       "      <td>13</td>\n",
       "      <td>16</td>\n",
       "      <td>2011</td>\n",
       "      <td>1</td>\n",
       "      <td>1</td>\n",
       "      <td>0</td>\n",
       "    </tr>\n",
       "    <tr>\n",
       "      <th>1</th>\n",
       "      <td>2011-01-01 01:00:00</td>\n",
       "      <td>1</td>\n",
       "      <td>0</td>\n",
       "      <td>0</td>\n",
       "      <td>1</td>\n",
       "      <td>9.02</td>\n",
       "      <td>13.635</td>\n",
       "      <td>80</td>\n",
       "      <td>0.0</td>\n",
       "      <td>8</td>\n",
       "      <td>32</td>\n",
       "      <td>40</td>\n",
       "      <td>2011</td>\n",
       "      <td>1</td>\n",
       "      <td>1</td>\n",
       "      <td>1</td>\n",
       "    </tr>\n",
       "    <tr>\n",
       "      <th>2</th>\n",
       "      <td>2011-01-01 02:00:00</td>\n",
       "      <td>1</td>\n",
       "      <td>0</td>\n",
       "      <td>0</td>\n",
       "      <td>1</td>\n",
       "      <td>9.02</td>\n",
       "      <td>13.635</td>\n",
       "      <td>80</td>\n",
       "      <td>0.0</td>\n",
       "      <td>5</td>\n",
       "      <td>27</td>\n",
       "      <td>32</td>\n",
       "      <td>2011</td>\n",
       "      <td>1</td>\n",
       "      <td>1</td>\n",
       "      <td>2</td>\n",
       "    </tr>\n",
       "    <tr>\n",
       "      <th>3</th>\n",
       "      <td>2011-01-01 03:00:00</td>\n",
       "      <td>1</td>\n",
       "      <td>0</td>\n",
       "      <td>0</td>\n",
       "      <td>1</td>\n",
       "      <td>9.84</td>\n",
       "      <td>14.395</td>\n",
       "      <td>75</td>\n",
       "      <td>0.0</td>\n",
       "      <td>3</td>\n",
       "      <td>10</td>\n",
       "      <td>13</td>\n",
       "      <td>2011</td>\n",
       "      <td>1</td>\n",
       "      <td>1</td>\n",
       "      <td>3</td>\n",
       "    </tr>\n",
       "    <tr>\n",
       "      <th>4</th>\n",
       "      <td>2011-01-01 04:00:00</td>\n",
       "      <td>1</td>\n",
       "      <td>0</td>\n",
       "      <td>0</td>\n",
       "      <td>1</td>\n",
       "      <td>9.84</td>\n",
       "      <td>14.395</td>\n",
       "      <td>75</td>\n",
       "      <td>0.0</td>\n",
       "      <td>0</td>\n",
       "      <td>1</td>\n",
       "      <td>1</td>\n",
       "      <td>2011</td>\n",
       "      <td>1</td>\n",
       "      <td>1</td>\n",
       "      <td>4</td>\n",
       "    </tr>\n",
       "  </tbody>\n",
       "</table>\n",
       "</div>"
      ],
      "text/plain": [
       "             datetime  season  holiday  workingday  weather  temp   atemp  \\\n",
       "0 2011-01-01 00:00:00       1        0           0        1  9.84  14.395   \n",
       "1 2011-01-01 01:00:00       1        0           0        1  9.02  13.635   \n",
       "2 2011-01-01 02:00:00       1        0           0        1  9.02  13.635   \n",
       "3 2011-01-01 03:00:00       1        0           0        1  9.84  14.395   \n",
       "4 2011-01-01 04:00:00       1        0           0        1  9.84  14.395   \n",
       "\n",
       "   humidity  windspeed  casual  registered  count  year  month  day  hour  \n",
       "0        81        0.0       3          13     16  2011      1    1     0  \n",
       "1        80        0.0       8          32     40  2011      1    1     1  \n",
       "2        80        0.0       5          27     32  2011      1    1     2  \n",
       "3        75        0.0       3          10     13  2011      1    1     3  \n",
       "4        75        0.0       0           1      1  2011      1    1     4  "
      ]
     },
     "execution_count": 45,
     "metadata": {},
     "output_type": "execute_result"
    }
   ],
   "source": [
    "# 문자열을 datetime 타입으로 변경\n",
    "\n",
    "bike_df['datetime'] = bike_df.datetime.apply(pd.to_datetime)\n",
    "\n",
    "# 연, 월, 일로 나누어줌\n",
    "bike_df['year'] = bike_df['datetime'].apply(lambda x: x.year)\n",
    "bike_df['month'] = bike_df['datetime'].apply(lambda x: x.month)\n",
    "bike_df['day'] = bike_df['datetime'].apply(lambda x: x.day)\n",
    "bike_df['hour'] = bike_df['datetime'].apply(lambda x: x.hour)\n",
    "\n",
    "bike_df.head()"
   ]
  },
  {
   "cell_type": "markdown",
   "id": "07fa6da9",
   "metadata": {},
   "source": [
    "#### 불필요한 컬럼 삭제"
   ]
  },
  {
   "cell_type": "code",
   "execution_count": 43,
   "id": "bd909c5e",
   "metadata": {},
   "outputs": [
    {
     "data": {
      "text/html": [
       "<div>\n",
       "<style scoped>\n",
       "    .dataframe tbody tr th:only-of-type {\n",
       "        vertical-align: middle;\n",
       "    }\n",
       "\n",
       "    .dataframe tbody tr th {\n",
       "        vertical-align: top;\n",
       "    }\n",
       "\n",
       "    .dataframe thead th {\n",
       "        text-align: right;\n",
       "    }\n",
       "</style>\n",
       "<table border=\"1\" class=\"dataframe\">\n",
       "  <thead>\n",
       "    <tr style=\"text-align: right;\">\n",
       "      <th></th>\n",
       "      <th>season</th>\n",
       "      <th>holiday</th>\n",
       "      <th>workingday</th>\n",
       "      <th>weather</th>\n",
       "      <th>temp</th>\n",
       "      <th>atemp</th>\n",
       "      <th>humidity</th>\n",
       "      <th>windspeed</th>\n",
       "      <th>count</th>\n",
       "    </tr>\n",
       "  </thead>\n",
       "  <tbody>\n",
       "    <tr>\n",
       "      <th>0</th>\n",
       "      <td>1</td>\n",
       "      <td>0</td>\n",
       "      <td>0</td>\n",
       "      <td>1</td>\n",
       "      <td>9.84</td>\n",
       "      <td>14.395</td>\n",
       "      <td>81</td>\n",
       "      <td>0.0</td>\n",
       "      <td>16</td>\n",
       "    </tr>\n",
       "    <tr>\n",
       "      <th>1</th>\n",
       "      <td>1</td>\n",
       "      <td>0</td>\n",
       "      <td>0</td>\n",
       "      <td>1</td>\n",
       "      <td>9.02</td>\n",
       "      <td>13.635</td>\n",
       "      <td>80</td>\n",
       "      <td>0.0</td>\n",
       "      <td>40</td>\n",
       "    </tr>\n",
       "    <tr>\n",
       "      <th>2</th>\n",
       "      <td>1</td>\n",
       "      <td>0</td>\n",
       "      <td>0</td>\n",
       "      <td>1</td>\n",
       "      <td>9.02</td>\n",
       "      <td>13.635</td>\n",
       "      <td>80</td>\n",
       "      <td>0.0</td>\n",
       "      <td>32</td>\n",
       "    </tr>\n",
       "    <tr>\n",
       "      <th>3</th>\n",
       "      <td>1</td>\n",
       "      <td>0</td>\n",
       "      <td>0</td>\n",
       "      <td>1</td>\n",
       "      <td>9.84</td>\n",
       "      <td>14.395</td>\n",
       "      <td>75</td>\n",
       "      <td>0.0</td>\n",
       "      <td>13</td>\n",
       "    </tr>\n",
       "    <tr>\n",
       "      <th>4</th>\n",
       "      <td>1</td>\n",
       "      <td>0</td>\n",
       "      <td>0</td>\n",
       "      <td>1</td>\n",
       "      <td>9.84</td>\n",
       "      <td>14.395</td>\n",
       "      <td>75</td>\n",
       "      <td>0.0</td>\n",
       "      <td>1</td>\n",
       "    </tr>\n",
       "  </tbody>\n",
       "</table>\n",
       "</div>"
      ],
      "text/plain": [
       "   season  holiday  workingday  weather  temp   atemp  humidity  windspeed  \\\n",
       "0       1        0           0        1  9.84  14.395        81        0.0   \n",
       "1       1        0           0        1  9.02  13.635        80        0.0   \n",
       "2       1        0           0        1  9.02  13.635        80        0.0   \n",
       "3       1        0           0        1  9.84  14.395        75        0.0   \n",
       "4       1        0           0        1  9.84  14.395        75        0.0   \n",
       "\n",
       "   count  \n",
       "0     16  \n",
       "1     40  \n",
       "2     32  \n",
       "3     13  \n",
       "4      1  "
      ]
     },
     "execution_count": 43,
     "metadata": {},
     "output_type": "execute_result"
    }
   ],
   "source": [
    "# datetime 컬럼은 이미 데이트타입으로 바꾼 컬럼을 생성했으므로 삭제\n",
    "# casual은 사전에 등록하지 않은 자전거 대여 횟수 , registered는 사전에 등록한 자전거 대여 횟수로\n",
    "# count = casual + registered이므로 삭제\n",
    "\n",
    "bike_df.drop(['datetime','casual','registered'], axis = 1, inplace = True)\n",
    "bike_df.head()"
   ]
  },
  {
   "cell_type": "markdown",
   "id": "5e73193e",
   "metadata": {},
   "source": [
    "#### 시각화"
   ]
  },
  {
   "cell_type": "code",
   "execution_count": 47,
   "id": "2d433806",
   "metadata": {
    "scrolled": false
   },
   "outputs": [
    {
     "data": {
      "text/plain": [
       "Index(['season', 'holiday', 'workingday', 'weather', 'temp', 'atemp',\n",
       "       'humidity', 'windspeed', 'count', 'year', 'month', 'day', 'hour'],\n",
       "      dtype='object')"
      ]
     },
     "execution_count": 47,
     "metadata": {},
     "output_type": "execute_result"
    }
   ],
   "source": [
    "bike_df.columns"
   ]
  },
  {
   "cell_type": "markdown",
   "id": "535d5342",
   "metadata": {},
   "source": [
    "- 범주화 컬럼에 대해서 전체 대여횟수인 count값을 시각화 함"
   ]
  },
  {
   "cell_type": "code",
   "execution_count": 48,
   "id": "cafbc372",
   "metadata": {},
   "outputs": [
    {
     "data": {
      "image/png": "[encoded data removed]",
      "text/plain": [
       "<Figure size 1152x576 with 8 Axes>"
      ]
     },
     "metadata": {
      "needs_background": "light"
     },
     "output_type": "display_data"
    }
   ],
   "source": [
    "# 범주화 컬럼에 대해서 전체 대여횟수 시각화\n",
    "\n",
    "fig, axs = plt.subplots(figsize = (16,8), ncols = 4, nrows = 2)\n",
    "cat_features = ['season', 'holiday', 'workingday', 'weather',\n",
    "                'windspeed', 'month', 'day', 'hour']\n",
    "\n",
    "for i,feature in enumerate(cat_features):\n",
    "    row = int(i // 4)\n",
    "    col = i % 4\n",
    "    sns.barplot(x = feature, y = 'count', data = bike_df, ax = axs[row][col])"
   ]
  },
  {
   "cell_type": "code",
   "execution_count": 85,
   "id": "3852c497",
   "metadata": {
    "scrolled": true
   },
   "outputs": [
    {
     "data": {
      "text/plain": [
       "<AxesSubplot:xlabel='temp', ylabel='count'>"
      ]
     },
     "execution_count": 85,
     "metadata": {},
     "output_type": "execute_result"
    },
    {
     "data": {
      "image/png": "[encoded data removed]",
      "text/plain": [
       "<Figure size 432x288 with 1 Axes>"
      ]
     },
     "metadata": {
      "needs_background": "light"
     },
     "output_type": "display_data"
    }
   ],
   "source": [
    "sns.regplot(x = 'temp', y = 'count', data = bike_df)"
   ]
  },
  {
   "cell_type": "code",
   "execution_count": 87,
   "id": "2b23f927",
   "metadata": {},
   "outputs": [
    {
     "data": {
      "text/plain": [
       "<seaborn.axisgrid.FacetGrid at 0x17b86dea430>"
      ]
     },
     "execution_count": 87,
     "metadata": {},
     "output_type": "execute_result"
    },
    {
     "data": {
      "image/png": "[encoded data removed]",
      "text/plain": [
       "<Figure size 360x360 with 1 Axes>"
      ]
     },
     "metadata": {
      "needs_background": "light"
     },
     "output_type": "display_data"
    }
   ],
   "source": [
    "sns.lmplot(x = 'atemp', y = 'count', data = bike_df)"
   ]
  },
  {
   "cell_type": "code",
   "execution_count": 88,
   "id": "c893fbf6",
   "metadata": {},
   "outputs": [
    {
     "data": {
      "text/plain": [
       "<seaborn.axisgrid.FacetGrid at 0x17b86dea370>"
      ]
     },
     "execution_count": 88,
     "metadata": {},
     "output_type": "execute_result"
    },
    {
     "data": {
      "image/png": "[encoded data removed]",
      "text/plain": [
       "<Figure size 360x360 with 1 Axes>"
      ]
     },
     "metadata": {
      "needs_background": "light"
     },
     "output_type": "display_data"
    }
   ],
   "source": [
    "sns.lmplot(x = 'humidity', y = 'count', data = bike_df)"
   ]
  },
  {
   "cell_type": "code",
   "execution_count": 49,
   "id": "a21692a4",
   "metadata": {},
   "outputs": [],
   "source": [
    "from sklearn.metrics import mean_squared_error, mean_absolute_error\n",
    "\n",
    "# log 값 변환시 null값 등의 이슈로 log()가 아닌 log1p()를 이용하여 RMSLE를 계산\n",
    "# 로그변환 후 오차제곱합\n",
    "def rmsle(y, pred):\n",
    "    log_y = np.log1p(y)\n",
    "    log_pred = np.log1p(pred)\n",
    "    \n",
    "    squared_error = (log_y - log_pred) ** 2\n",
    "    rmsle = np.sqrt(np.mean(squared_error))\n",
    "    return rmsle\n",
    "\n",
    "# 로그변환 안했을 경우 오차제곱합\n",
    "def rmse(y, pred):\n",
    "    return np.sqrt(mean_squared_error(y, pred))\n",
    "\n",
    "\n",
    "# 로그변환 한/안한 경우 오차제곱합 출력\n",
    "def evaluate_regr(y, pred):\n",
    "    rmsle_val = rmsle(y, pred)\n",
    "    rmse_val = rmse(y, pred)\n",
    "    mae_val = mean_absolute_error(y, pred) #실제값 - 예측값의 절댓값을 취해서 더하는 방식\n",
    "    \n",
    "    print(f'rmsle: {round(rmsle_val, 4)}, rmse: {round(rmse_val, 4)}, mae:{round(mae_val,4)}')"
   ]
  },
  {
   "cell_type": "markdown",
   "id": "589d4801",
   "metadata": {},
   "source": [
    "- mean_squared_log_error() 또는 np.log 함수를 가지고 rmsle를 구할 수 있지만, 데이터 값의 크기에 따라 오버플로/언더플로 오류가 발생하기 쉬움\n",
    "- 따라서, np.log1p() 함수를 사용하게 되는데, log1p()는  1+log()값으로 log 변환값이 1을 더함으로써 그러한 문제를 해결함\n",
    "- log1p()로 변환된 값은 다시 넘파이 expm1()함수로 십게 원래의 스케일로 복원될 수 있음"
   ]
  },
  {
   "cell_type": "code",
   "execution_count": 83,
   "id": "7ec58034",
   "metadata": {},
   "outputs": [
    {
     "name": "stdout",
     "output_type": "stream",
     "text": [
      "rmsle: 1.1647, rmse: 140.8996, mae:105.9244\n"
     ]
    }
   ],
   "source": [
    "# 로그변환, 모델 학습/예측/평가\n",
    "from sklearn.model_selection import train_test_split, GridSearchCV\n",
    "from sklearn.linear_model import LinearRegression, Ridge, Lasso\n",
    "\n",
    "# 학습/테스트용 데이터 나누기\n",
    "y_target = bike_df['count']\n",
    "X_features = bike_df.drop('count', axis = 1)\n",
    "\n",
    "X_train, X_test, y_train, y_test = train_test_split(X_features, y_target, \n",
    "                                                    test_size = 0.3,\n",
    "                                                    random_state = 0)\n",
    "\n",
    "# 모델링\n",
    "lr_reg = LinearRegression()\n",
    "\n",
    "# 학습\n",
    "lr_reg.fit(X_train, y_train)\n",
    "\n",
    "# 예측\n",
    "pred = lr_reg.predict(X_test)\n",
    "\n",
    "# 평가\n",
    "evaluate_regr(y_test, pred)"
   ]
  },
  {
   "cell_type": "markdown",
   "id": "708aa25f",
   "metadata": {},
   "source": [
    "#### 과제4 : \n",
    "상기 사례에 대해 로그변환을 수행한 후 모델링 및 평가 수행"
   ]
  },
  {
   "cell_type": "code",
   "execution_count": 51,
   "id": "fc50a3e5",
   "metadata": {},
   "outputs": [
    {
     "name": "stdout",
     "output_type": "stream",
     "text": [
      "rmsle: 1.3509, rmse: 154.6378, mae:116.4787\n"
     ]
    }
   ],
   "source": [
    "from sklearn.model_selection import train_test_split, GridSearchCV\n",
    "from sklearn.linear_model import LinearRegression, Ridge, Lasso\n",
    "\n",
    "# 피처 데이터/종속 데이터 활용\n",
    "y_target = bike_df['count']\n",
    "X_features = bike_df.drop(['count'], axis = 1, inplace = False)\n",
    "\n",
    "# 학습용/테스트용 데이터 나누기\n",
    "X_train, X_test, y_train, y_test = train_test_split(X_features, y_target,\n",
    "                                                   test_size = 0.3,\n",
    "                                                   random_state = 0)\n",
    "\n",
    "# 모델링\n",
    "lr_reg = LinearRegression()\n",
    "\n",
    "# 학습\n",
    "lr_reg.fit(X_train, y_train)\n",
    "\n",
    "# 예측\n",
    "pred = lr_reg.predict(X_test)\n",
    "\n",
    "# 평가\n",
    "evaluate_regr(y_test, pred)"
   ]
  },
  {
   "cell_type": "markdown",
   "id": "b52b1139",
   "metadata": {},
   "source": [
    "- RMSLE: 1.35, RMSE: 154.64, MAE: 116.48은 실제 target 데이터 값인 대여횟수(count)를 감안하면 예측 오류로서 비교적 큰 값임"
   ]
  },
  {
   "cell_type": "code",
   "execution_count": 57,
   "id": "b6ab0604",
   "metadata": {},
   "outputs": [
    {
     "name": "stdout",
     "output_type": "stream",
     "text": [
      "      real_count  predicted_count  difference\n",
      "2277         813            166.0       647.0\n",
      "966          884            242.0       642.0\n",
      "1618         890            257.0       633.0\n",
      "1181         891            301.0       590.0\n",
      "2817         856            266.0       590.0\n"
     ]
    }
   ],
   "source": [
    "# 실제와 예측값이 얼마나 차이나는지 데이터프레임의 칼름으로 만들어서 오류 값이 가장 큰 순으로 5개 확인\n",
    "\n",
    "def get_top_error_data(y_test, pred, n_tops = 5):\n",
    "    #새로운 데이터 프레임 생성\n",
    "    result_df = pd.DataFrame(y_test.values, columns = ['real_count'])\n",
    "    result_df['predicted_count'] = np.round(pred)\n",
    "    result_df['difference'] = np.abs(result_df['real_count'] - result_df['predicted_count'])\n",
    "    \n",
    "    # 예측값과 실제값 차이가 가장 큰 순서대로 출력\n",
    "    print(result_df.sort_values('difference', ascending = False)[:n_tops])\n",
    "\n",
    "get_top_error_data(y_test, pred, n_tops = 5)"
   ]
  },
  {
   "cell_type": "markdown",
   "id": "e594bff4",
   "metadata": {},
   "source": [
    "- 실제값을 감안하면 오류가 엄청 큼\n",
    "- 회귀에서 이렇게 큰 예측 오류가 발생할 경우 가장 먼저 살펴볼 것은 target 데이터(count 컬럼)의 분포가 왜곡된 형태를 이루고 있는지 확인하는 것임\n",
    "- target 데이터분포는 정규분포 형태가 가장 좋음\n",
    "- 그렇지 않고, 왜곡된 경우에는 회귀 예측 성능이 저하되는 경우가 발생하기 쉬움"
   ]
  },
  {
   "cell_type": "code",
   "execution_count": 60,
   "id": "e88fef6a",
   "metadata": {
    "scrolled": true
   },
   "outputs": [
    {
     "data": {
      "text/plain": [
       "<AxesSubplot:>"
      ]
     },
     "execution_count": 60,
     "metadata": {},
     "output_type": "execute_result"
    },
    {
     "data": {
      "image/png": "[encoded data removed]",
      "text/plain": [
       "<Figure size 432x288 with 1 Axes>"
      ]
     },
     "metadata": {
      "needs_background": "light"
     },
     "output_type": "display_data"
    }
   ],
   "source": [
    "# Pandas DataFrame의 hist()를 이용해 자전거 대여 모델의 count 컬럼이 정규 분포를 이루는지 확인\n",
    "\n",
    "y_target = bike_df['count']\n",
    "y_target.hist(color = 'purple')"
   ]
  },
  {
   "cell_type": "code",
   "execution_count": 61,
   "id": "f79b09be",
   "metadata": {
    "scrolled": true
   },
   "outputs": [
    {
     "data": {
      "text/plain": [
       "<AxesSubplot:>"
      ]
     },
     "execution_count": 61,
     "metadata": {},
     "output_type": "execute_result"
    },
    {
     "data": {
      "image/png": "[encoded data removed]",
      "text/plain": [
       "<Figure size 432x288 with 1 Axes>"
      ]
     },
     "metadata": {
      "needs_background": "light"
     },
     "output_type": "display_data"
    }
   ],
   "source": [
    "y_log_transform = np.log1p(y_target)\n",
    "\n",
    "y_log_transform.hist(color = 'purple')"
   ]
  },
  {
   "cell_type": "markdown",
   "id": "9e73fd50",
   "metadata": {},
   "source": [
    "- 로그로 target값을 변환한 후에 원하는 정규분포 형태는 아니지만, 변환하기 전보다 왜곡 정도가 많이 향상됨\n",
    "- 이를 이용해 다시 학습한 후, 평가 수행하기"
   ]
  },
  {
   "cell_type": "code",
   "execution_count": null,
   "id": "336a01fd",
   "metadata": {},
   "outputs": [],
   "source": []
  },
  {
   "cell_type": "markdown",
   "id": "8ff4c803",
   "metadata": {},
   "source": [
    "#### 과제5:\n",
    "상기 사례에 대해 추가로 카테고리형 변수에 대해 인코딩 적용 후 모델링 및 평가 수행하기(lr, ridge, lasso 적용)"
   ]
  },
  {
   "cell_type": "code",
   "execution_count": null,
   "id": "6cc3eca3",
   "metadata": {},
   "outputs": [],
   "source": []
  },
  {
   "cell_type": "markdown",
   "id": "c679ce1f",
   "metadata": {},
   "source": [
    "#### 과제 6:\n",
    "회귀트리 모델들을 적용하여 모델링 및 평가 수행하기"
   ]
  },
  {
   "cell_type": "code",
   "execution_count": null,
   "id": "8ae33745",
   "metadata": {},
   "outputs": [],
   "source": []
  },
  {
   "cell_type": "code",
   "execution_count": null,
   "id": "87b6c71e",
   "metadata": {},
   "outputs": [],
   "source": []
  }
 ],
 "metadata": {
  "kernelspec": {
   "display_name": "Python 3 (ipykernel)",
   "language": "python",
   "name": "python3"
  },
  "language_info": {
   "codemirror_mode": {
    "name": "ipython",
    "version": 3
   },
   "file_extension": ".py",
   "mimetype": "text/x-python",
   "name": "python",
   "nbconvert_exporter": "python",
   "pygments_lexer": "ipython3",
   "version": "3.8.13"
  },
  "toc": {
   "base_numbering": 1,
   "nav_menu": {},
   "number_sections": true,
   "sideBar": true,
   "skip_h1_title": false,
   "title_cell": "Table of Contents",
   "title_sidebar": "Contents",
   "toc_cell": false,
   "toc_position": {
    "height": "calc(100% - 180px)",
    "left": "10px",
    "top": "150px",
    "width": "170px"
   },
   "toc_section_display": true,
   "toc_window_display": true
  }
 },
 "nbformat": 4,
 "nbformat_minor": 5
}
