{
 "cells": [
  {
   "cell_type": "markdown",
   "id": "a019d26b",
   "metadata": {},
   "source": [
    "###  앙상블 학습\n",
    "\n",
    "* 앙상블 학습의 유형은 보팅, 배깅, 부스팅 세가지로 나눌 수 있으며 이외에도 스태깅을 포함한 다양한 앙상블 방법이 있다.\n",
    "    - 보팅의 경우 서로 다른 알고리즘을 가진 분류기를 결합하는 것\n",
    "    - 배깅의 경우 각각의 분류기가 모두 같은 유형의 알고리즘 기반\n",
    "* 정형 데이터의 예측 분석 영역에서는 매우 높은 예측 성능\n",
    "\n",
    "\n",
    "* 앙상블의 기본 알고리즘은 결정 트리\n",
    "\n",
    "\n",
    "* 배깅 방식의 대표인 Random Forest는 뛰어난 예측 성능, 상대적으로 빠른 수행시간, 유연성 등으로 애용\n",
    "* 부스팅의 효시는 Gradient Boosting, 한 단계 발전시키면서도 시간 단축시킨 XgBoost, LightGBM이 정형 데이터의 분류 영역에서 \n",
    "  활용도 확대\n",
    "* 앙상블의 앙상블이라고 불리는 스태킹 기법\n",
    "\n"
   ]
  },
  {
   "cell_type": "markdown",
   "id": "4189cb03",
   "metadata": {},
   "source": [
    "### Voting Classifier\n",
    "- 하드 보팅 : 다수결 원칙, 다수의 분류기가 결정한 예측값을 최종 보팅 결과값으로 선정\n",
    "- 소프트 보팅 : 분류기들의 레이블 값 결정 확률을 모두 더해서 평균하고 이들 중 가장 높은 레이블 값을 최종 보팅 결과값으로 선정\n"
   ]
  },
  {
   "cell_type": "code",
   "execution_count": 2,
   "id": "07dbb8de",
   "metadata": {},
   "outputs": [],
   "source": [
    "import pandas as pd\n",
    "from sklearn.ensemble import VotingClassifier\n",
    "from sklearn.linear_model import LogisticRegression\n",
    "from sklearn.neighbors import KNeighborsClassifier\n",
    "from sklearn.datasets import load_breast_cancer\n",
    "from sklearn.model_selection import train_test_split\n",
    "from sklearn.metrics import accuracy_score\n",
    "import warnings\n",
    "warnings.filterwarnings('ignore')\n",
    "\n",
    "cancer = load_breast_cancer()"
   ]
  },
  {
   "cell_type": "code",
   "execution_count": 4,
   "id": "32834e71",
   "metadata": {},
   "outputs": [
    {
     "name": "stdout",
     "output_type": "stream",
     "text": [
      "Voting 분류기 정확도: 0.9474\n"
     ]
    }
   ],
   "source": [
    "# 로지스틱 회귀모델\n",
    "lr_clf = LogisticRegression()\n",
    "\n",
    "# knn 모델\n",
    "knn_clf = KNeighborsClassifier(n_neighbors = 8)\n",
    "\n",
    "# 앙상블 내 보팅 모델\n",
    "vo_clf = VotingClassifier(estimators = [('LR', lr_clf), ('KNN', knn_clf)], voting = 'soft')\n",
    "\n",
    "X_train, X_test, y_train, y_test = train_test_split(cancer.data, cancer.target, \n",
    "                                                    test_size = 0.2,\n",
    "                                                    random_state = 156)\n",
    "\n",
    "vo_clf.fit(X_train, y_train)\n",
    "pred = vo_clf.predict(X_test)\n",
    "print(f'Voting 분류기 정확도: {accuracy_score(y_test, pred):.4f}')"
   ]
  },
  {
   "cell_type": "code",
   "execution_count": 6,
   "id": "1453b741",
   "metadata": {},
   "outputs": [
    {
     "name": "stdout",
     "output_type": "stream",
     "text": [
      "LogisticRegression 예측 정확도:  0.9386\n",
      "KNeighborsClassifier 예측 정확도:  0.9386\n"
     ]
    }
   ],
   "source": [
    "# 개별 모델의 학습/예측/평가\n",
    "\n",
    "classifiers = [lr_clf, knn_clf]\n",
    "\n",
    "for cl in classifiers:\n",
    "    cl.fit(X_train, y_train)\n",
    "    pred = cl.predict(X_test)\n",
    "    class_name = cl.__class__.__name__\n",
    "    print(f'{class_name} 예측 정확도: {accuracy_score(y_test, pred): .4f}')"
   ]
  },
  {
   "cell_type": "markdown",
   "id": "5ba0f667",
   "metadata": {},
   "source": [
    "## 랜덤포레스트\n",
    "\n",
    "https://eunsukimme.github.io/ml/2019/11/26/Random-Forest/\n"
   ]
  },
  {
   "cell_type": "code",
   "execution_count": 10,
   "id": "97403763",
   "metadata": {},
   "outputs": [],
   "source": [
    "def get_new_feature_name_df(old_feature_name_df):\n",
    "    feature_dup_df = pd.DataFrame(data=old_feature_name_df.groupby('column_name').cumcount(),\n",
    "                                  columns=['dup_cnt'])\n",
    "    feature_dup_df = feature_dup_df.reset_index()\n",
    "    new_feature_name_df = pd.merge(old_feature_name_df.reset_index(), feature_dup_df, how='outer')\n",
    "    new_feature_name_df['column_name'] = new_feature_name_df[['column_name', 'dup_cnt']].apply(lambda x : x[0]+'_'+str(x[1]) \n",
    "                                                                                         if x[1] >0 else x[0] ,  axis=1)\n",
    "    new_feature_name_df = new_feature_name_df.drop(['index'], axis=1)\n",
    "    return new_feature_name_df"
   ]
  },
  {
   "cell_type": "code",
   "execution_count": 13,
   "id": "cd6e1874",
   "metadata": {},
   "outputs": [],
   "source": [
    "import pandas as pd\n",
    "\n",
    "def get_human_dataset( ):\n",
    "    \n",
    "    # 각 데이터 파일들은 공백으로 분리되어 있으므로 read_csv에서 공백 문자를 sep으로 할당.\n",
    "    feature_name_df = pd.read_csv('./human_activity/features.txt',sep='\\s+',\n",
    "                        header=None,names=['column_index','column_name'])\n",
    "    \n",
    "    # 중복된 피처명을 수정하는 get_new_feature_name_df()를 이용, 신규 피처명 DataFrame생성. \n",
    "    new_feature_name_df = get_new_feature_name_df(feature_name_df)\n",
    "    \n",
    "    # DataFrame에 피처명을 컬럼으로 부여하기 위해 리스트 객체로 다시 변환\n",
    "    feature_name = new_feature_name_df.iloc[:, 1].values.tolist()\n",
    "    \n",
    "    # 학습 피처 데이터 셋과 테스트 피처 데이터을 DataFrame으로 로딩. 컬럼명은 feature_name 적용\n",
    "    X_train = pd.read_csv('./human_activity/train/X_train.txt',sep='\\s+', names=feature_name )\n",
    "    X_test = pd.read_csv('./human_activity/test/X_test.txt',sep='\\s+', names=feature_name)\n",
    "    \n",
    "    # 학습 레이블과 테스트 레이블 데이터을 DataFrame으로 로딩하고 컬럼명은 action으로 부여\n",
    "    y_train = pd.read_csv('./human_activity/train/y_train.txt',sep='\\s+',header=None,names=['action'])\n",
    "    y_test = pd.read_csv('./human_activity/test/y_test.txt',sep='\\s+',header=None,names=['action'])\n",
    "    \n",
    "    # 로드된 학습/테스트용 DataFrame을 모두 반환 \n",
    "    return X_train, X_test, y_train, y_test\n"
   ]
  },
  {
   "cell_type": "code",
   "execution_count": 16,
   "id": "b68c54c5",
   "metadata": {},
   "outputs": [
    {
     "name": "stdout",
     "output_type": "stream",
     "text": [
      "(561, 3)\n"
     ]
    },
    {
     "data": {
      "text/html": [
       "<div>\n",
       "<style scoped>\n",
       "    .dataframe tbody tr th:only-of-type {\n",
       "        vertical-align: middle;\n",
       "    }\n",
       "\n",
       "    .dataframe tbody tr th {\n",
       "        vertical-align: top;\n",
       "    }\n",
       "\n",
       "    .dataframe thead th {\n",
       "        text-align: right;\n",
       "    }\n",
       "</style>\n",
       "<table border=\"1\" class=\"dataframe\">\n",
       "  <thead>\n",
       "    <tr style=\"text-align: right;\">\n",
       "      <th></th>\n",
       "      <th>column_index</th>\n",
       "      <th>column_name</th>\n",
       "      <th>dup_cnt</th>\n",
       "    </tr>\n",
       "  </thead>\n",
       "  <tbody>\n",
       "    <tr>\n",
       "      <th>0</th>\n",
       "      <td>1</td>\n",
       "      <td>tBodyAcc-mean()-X</td>\n",
       "      <td>0</td>\n",
       "    </tr>\n",
       "    <tr>\n",
       "      <th>1</th>\n",
       "      <td>2</td>\n",
       "      <td>tBodyAcc-mean()-Y</td>\n",
       "      <td>0</td>\n",
       "    </tr>\n",
       "    <tr>\n",
       "      <th>2</th>\n",
       "      <td>3</td>\n",
       "      <td>tBodyAcc-mean()-Z</td>\n",
       "      <td>0</td>\n",
       "    </tr>\n",
       "    <tr>\n",
       "      <th>3</th>\n",
       "      <td>4</td>\n",
       "      <td>tBodyAcc-std()-X</td>\n",
       "      <td>0</td>\n",
       "    </tr>\n",
       "    <tr>\n",
       "      <th>4</th>\n",
       "      <td>5</td>\n",
       "      <td>tBodyAcc-std()-Y</td>\n",
       "      <td>0</td>\n",
       "    </tr>\n",
       "  </tbody>\n",
       "</table>\n",
       "</div>"
      ],
      "text/plain": [
       "   column_index        column_name  dup_cnt\n",
       "0             1  tBodyAcc-mean()-X        0\n",
       "1             2  tBodyAcc-mean()-Y        0\n",
       "2             3  tBodyAcc-mean()-Z        0\n",
       "3             4   tBodyAcc-std()-X        0\n",
       "4             5   tBodyAcc-std()-Y        0"
      ]
     },
     "execution_count": 16,
     "metadata": {},
     "output_type": "execute_result"
    }
   ],
   "source": [
    "#데이터셋 불러오기\n",
    "feature_name_df = pd.read_csv('./human_activity/features.txt',sep='\\s+',\n",
    "                        header=None,names=['column_index','column_name'])\n",
    "\n",
    "\n",
    "# 중복제거 함수 사용\n",
    "new_feature_name_df = get_new_feature_name_df(feature_name_df)\n",
    "print(new_feature_name_df.shape)\n",
    "new_feature_name_df.head()"
   ]
  },
  {
   "cell_type": "code",
   "execution_count": 17,
   "id": "2a3b942a",
   "metadata": {},
   "outputs": [
    {
     "data": {
      "text/plain": [
       "column_index    0\n",
       "dup_cnt         0\n",
       "dtype: int64"
      ]
     },
     "execution_count": 17,
     "metadata": {},
     "output_type": "execute_result"
    }
   ],
   "source": [
    "# 중복제거가 잘되었는지 확인\n",
    "\n",
    "fdd = new_feature_name_df.groupby('column_name').count()\n",
    "fdd[fdd.column_index > 1].count()"
   ]
  },
  {
   "cell_type": "code",
   "execution_count": 19,
   "id": "e446aee9",
   "metadata": {},
   "outputs": [
    {
     "name": "stdout",
     "output_type": "stream",
     "text": [
      "랜덤포레스트 정확도: 0.9253\n"
     ]
    }
   ],
   "source": [
    "from sklearn.ensemble import RandomForestClassifier\n",
    "from sklearn.metrics import accuracy_score\n",
    "import pandas as pd\n",
    "\n",
    "# 학습/테스트용 데이터 분류\n",
    "X_train, X_test, y_train, y_test = get_human_dataset()\n",
    "\n",
    "# 랜덤포레스트 모델링\n",
    "rf_clf = RandomForestClassifier(random_state = 0)\n",
    "rf_clf.fit(X_train, y_train)\n",
    "\n",
    "# 예측\n",
    "pred = rf_clf.predict(X_test)\n",
    "\n",
    "# 평가\n",
    "accuracy = accuracy_score(y_test, pred)\n",
    "\n",
    "print(f'랜덤포레스트 정확도: {accuracy:.4f}')"
   ]
  },
  {
   "cell_type": "code",
   "execution_count": 22,
   "id": "4da84518",
   "metadata": {},
   "outputs": [
    {
     "name": "stdout",
     "output_type": "stream",
     "text": [
      "최적의 하이퍼파라미터: \n",
      " {'max_depth': 10, 'min_samples_leaf': 8, 'min_samples_split': 8, 'n_estimators': 100}\n",
      "c최고 예측 정확도: \n",
      "  0.9180\n"
     ]
    }
   ],
   "source": [
    "from sklearn.model_selection import GridSearchCV\n",
    "\n",
    "# 하이퍼파라미터 지정\n",
    "params = {\n",
    "    'n_estimators': [100],    # 의사결정 트리 분류기 개수\n",
    "    'max_depth': [6, 8, 10, 12],  \n",
    "    'min_samples_leaf': [8, 12, 18],\n",
    "    'min_samples_split': [8, 16, 20]\n",
    "}\n",
    "\n",
    "rf_clf = RandomForestClassifier(n_estimators = 100, random_state = 0, n_jobs = -1)  \n",
    "    # njobs: 분류기가 돌아가는 모습을 보여주는 것\n",
    "grid_cv = GridSearchCV(rf_clf, param_grid = params, cv = 2, n_jobs = -1)\n",
    "grid_cv.fit(X_train, y_train)\n",
    "\n",
    "print(f'최적의 하이퍼파라미터: \\n {grid_cv.best_params_}')\n",
    "print(f'c최고 예측 정확도: \\n {grid_cv.best_score_: .4f}')"
   ]
  },
  {
   "cell_type": "markdown",
   "id": "607368b1",
   "metadata": {},
   "source": [
    "#### 과제: 랜덤포레스트\n",
    "수작업으로 하이퍼 파라미터를 3가지 유형으로 변환하여 모델 학습 후 평가 결과를 비교하기"
   ]
  },
  {
   "cell_type": "code",
   "execution_count": 49,
   "id": "6b2ccf9a",
   "metadata": {},
   "outputs": [
    {
     "name": "stdout",
     "output_type": "stream",
     "text": [
      "n_estimators: 100\n",
      "max_depth: 10\n",
      "min_samples_leaf: 8\n",
      "min_samples_split: 8\n",
      "정확도: 0.9196\n",
      "****************************************\n",
      "n_estimators: 100\n",
      "max_depth: 8\n",
      "min_samples_leaf: 12\n",
      "min_samples_split: 8\n",
      "정확도: 0.9152\n",
      "****************************************\n",
      "n_estimators: 100\n",
      "max_depth: 8\n",
      "min_samples_leaf: 16\n",
      "min_samples_split: 8\n",
      "정확도: 0.9152\n",
      "****************************************\n"
     ]
    }
   ],
   "source": [
    "from sklearn.ensemble import RandomForestClassifier\n",
    "from sklearn.metrics import accuracy_score\n",
    "\n",
    "# 학습/테스트용 데이터 분류\n",
    "X_train, X_test, y_train, y_test = get_human_dataset()\n",
    "\n",
    "params = [[100, 10, 8, 8], [100, 8, 12, 8], [100, 8, 16, 8]]\n",
    "\n",
    "\n",
    "for n_esti, m_d, m_s_l, m_s_s in params:\n",
    "    # 모델링\n",
    "    ## 트리 분류기 수 \n",
    "    ## 트리 깊이\n",
    "    ## 노드에서 가져야 할 최소한의 샘플 수\n",
    "    ## 노드 분할을 위한 최소한의 샘플 수\n",
    "    rf_clf = RandomForestClassifier(n_estimators = n_esti, \n",
    "                                    max_depth = m_d, \n",
    "                                    min_samples_leaf = m_s_l,\n",
    "                                    min_samples_split = m_s_s, \n",
    "                                    random_state = 0)\n",
    "    # 학습\n",
    "    rf_clf.fit(X_train, y_train)\n",
    "    \n",
    "    # 예측\n",
    "    pred = rf_clf.predict(X_test)\n",
    "    \n",
    "    # 정확도 측정\n",
    "    accuracy = accuracy_score(y_test, pred)\n",
    "    \n",
    "    print(f'n_estimators: {n_esti}\\nmax_depth: {m_d}\\nmin_samples_leaf: {m_s_l}\\nmin_samples_split: {m_s_s}\\n정확도: {accuracy:.4f}')\n",
    "    print('*'*40)"
   ]
  },
  {
   "cell_type": "markdown",
   "id": "b302a9f3",
   "metadata": {},
   "source": [
    "n_estimators: 100, max_depth: 10, min_samples_leaf: 8, min_samples_split: 8인 경우 정확도가 제일 높게 나옴"
   ]
  },
  {
   "cell_type": "code",
   "execution_count": 27,
   "id": "d30a269d",
   "metadata": {},
   "outputs": [
    {
     "data": {
      "text/plain": [
       "<AxesSubplot:title={'center':'Feature importance Top 20'}>"
      ]
     },
     "execution_count": 27,
     "metadata": {},
     "output_type": "execute_result"
    },
    {
     "data": {
      "image/png": "[encoded data removed]",
      "text/plain": [
       "<Figure size 576x432 with 1 Axes>"
      ]
     },
     "metadata": {
      "needs_background": "light"
     },
     "output_type": "display_data"
    }
   ],
   "source": [
    "# 예측성능이 높은 하이퍼파라미터를 활용해 피처 중요도 시각화\n",
    "\n",
    "import matplotlib.pyplot as plt\n",
    "import seaborn as sns\n",
    "\n",
    "best_df_clf = grid_cv.best_estimator_\n",
    "\n",
    "ftr_importance_values = best_df_clf.feature_importances_\n",
    "ftr_importances = pd.Series(ftr_importance_values, index = X_train.columns)\n",
    "ftr_top20 = ftr_importances.sort_values(ascending = False)[:20]\n",
    "\n",
    "plt.figure(figsize = (8,6))\n",
    "plt.title('Feature importance Top 20')\n",
    "\n",
    "sns.barplot(x = ftr_top20, y = ftr_top20.index)"
   ]
  },
  {
   "cell_type": "markdown",
   "id": "da7324fc",
   "metadata": {},
   "source": [
    "## GBM(Gradient Boosting Machine)\n",
    "- 부스팅 알고리즘은 여러 개의 약한 학습기(weak learner)를 순차적으로 학습-예측하면서 잘못 예측한 데이터에 가중치 부여를 통해 오류를 개선해 나가면서 학습하는 방식\n",
    "- 가중치 업데이트를 경사 하강법(Gradient Descent)를 이용한다.\n",
    "- 분류는 물론이고 회귀도 가능\n",
    "- 파라미터 : n_estimators, max_depth, max_features\n",
    " - loss : 경사하강법에서 사용할 비용함수 지정. 기본값 deviance 적용\n",
    " - learning_rate : GBM이 학습할 때마다 적용할 학습률.오류값 보정 시 적용하는 계수로 0 ~ 1 사이의 값 지정. 기본값은 0.1. 작게 설정하면 예측성능이 높아지나 수행시간이 오래 걸리고 큰 값을 적용하면 예측 성능이 떨어질 가능성이 높으나 빠른 수행이 가능. n_estimator와 상호 보완적으로 조합해 사용\n",
    " - n_estimator : weak learner(부분집합)의 개수\n",
    " - subsample : weak learner가 학습에 사용하는 데이터의 샘플링 비율. 기본값은 1"
   ]
  },
  {
   "cell_type": "code",
   "execution_count": 29,
   "id": "677417b0",
   "metadata": {},
   "outputs": [
    {
     "name": "stdout",
     "output_type": "stream",
     "text": [
      "GBM 정확도: 0.9389\n",
      "수행 시간:  1101.4 초\n"
     ]
    }
   ],
   "source": [
    "from sklearn.ensemble import GradientBoostingClassifier\n",
    "from sklearn.metrics import accuracy_score\n",
    "import time\n",
    "\n",
    "X_train, X_test, y_train, y_test = get_human_dataset()\n",
    "start_time = time.time()\n",
    "\n",
    "gb_clf = GradientBoostingClassifier(random_state = 0)\n",
    "gb_clf.fit(X_train, y_train)\n",
    "gb_pred = gb_clf.predict(X_test)\n",
    "gb_accuracy = accuracy_score(y_test, gb_pred)\n",
    "\n",
    "print(f'GBM 정확도: {gb_accuracy:.4f}')\n",
    "\n",
    "end_time = time.time()\n",
    "print(f'수행 시간: {end_time - start_time: .1f} 초')"
   ]
  },
  {
   "cell_type": "markdown",
   "id": "f40e774c",
   "metadata": {},
   "source": [
    "#### 과제2: \n",
    "위 문제에 대해 성능 개선을 수행하기\n",
    "\n",
    "```\n",
    "params = {\n",
    "'n_estimators': [100,500],\n",
    "'learning_rate': [0.05, 0.1]\n",
    "}\n",
    "```"
   ]
  },
  {
   "cell_type": "code",
   "execution_count": 32,
   "id": "9c712562",
   "metadata": {},
   "outputs": [],
   "source": [
    "from sklearn.model_selection import GridSearchCV\n",
    "from sklearn.ensemble import GradientBoostingClassifier\n",
    "\n",
    "# 하이퍼파라미터 지정\n",
    "params = {\n",
    "    'n_estimators': [100,500],\n",
    "    'learning_rate': [0.05, 0.1]\n",
    "}"
   ]
  },
  {
   "cell_type": "code",
   "execution_count": 37,
   "id": "9dd85e45",
   "metadata": {},
   "outputs": [
    {
     "data": {
      "text/plain": [
       "GridSearchCV(cv=2, estimator=GradientBoostingClassifier(), n_jobs=-1,\n",
       "             param_grid={'learning_rate': [0.05, 0.1],\n",
       "                         'n_estimators': [100, 500]})"
      ]
     },
     "execution_count": 37,
     "metadata": {},
     "output_type": "execute_result"
    }
   ],
   "source": [
    "# GBM \n",
    "## n_jobs = -1 추가하면 모든 CPU 코어를 이용해 학습할 수 있음 \n",
    "\n",
    "# 쮸뱀 모델\n",
    "gbm_clf = GradientBoostingClassifier()\n",
    "\n",
    "# 최적의 하이퍼파라미터 찾기\n",
    "gbm_grid = GridSearchCV(gbm_clf, param_grid = params, cv = 2, n_jobs = -1)\n",
    "gbm_grid.fit(X_train, y_train)"
   ]
  },
  {
   "cell_type": "code",
   "execution_count": 58,
   "id": "48e5ef79",
   "metadata": {},
   "outputs": [
    {
     "data": {
      "text/plain": [
       "GradientBoostingClassifier(learning_rate=0.05, n_estimators=500)"
      ]
     },
     "execution_count": 58,
     "metadata": {},
     "output_type": "execute_result"
    }
   ],
   "source": [
    "# 예측성능이 제일 좋은 하이퍼파라미터 추출\n",
    "\n",
    "best_gbm_clf = gbm_grid.best_estimator_\n",
    "best_gbm_clf "
   ]
  },
  {
   "cell_type": "code",
   "execution_count": 57,
   "id": "22964ce3",
   "metadata": {},
   "outputs": [
    {
     "data": {
      "text/html": [
       "<div>\n",
       "<style scoped>\n",
       "    .dataframe tbody tr th:only-of-type {\n",
       "        vertical-align: middle;\n",
       "    }\n",
       "\n",
       "    .dataframe tbody tr th {\n",
       "        vertical-align: top;\n",
       "    }\n",
       "\n",
       "    .dataframe thead th {\n",
       "        text-align: right;\n",
       "    }\n",
       "</style>\n",
       "<table border=\"1\" class=\"dataframe\">\n",
       "  <thead>\n",
       "    <tr style=\"text-align: right;\">\n",
       "      <th></th>\n",
       "      <th>params</th>\n",
       "      <th>mean_test_score</th>\n",
       "      <th>rank_test_score</th>\n",
       "      <th>split0_test_score</th>\n",
       "      <th>split1_test_score</th>\n",
       "    </tr>\n",
       "  </thead>\n",
       "  <tbody>\n",
       "    <tr>\n",
       "      <th>0</th>\n",
       "      <td>{'learning_rate': 0.05, 'n_estimators': 100}</td>\n",
       "      <td>0.898259</td>\n",
       "      <td>4</td>\n",
       "      <td>0.885745</td>\n",
       "      <td>0.910773</td>\n",
       "    </tr>\n",
       "    <tr>\n",
       "      <th>1</th>\n",
       "      <td>{'learning_rate': 0.05, 'n_estimators': 500}</td>\n",
       "      <td>0.900299</td>\n",
       "      <td>1</td>\n",
       "      <td>0.890370</td>\n",
       "      <td>0.910229</td>\n",
       "    </tr>\n",
       "    <tr>\n",
       "      <th>2</th>\n",
       "      <td>{'learning_rate': 0.1, 'n_estimators': 100}</td>\n",
       "      <td>0.899347</td>\n",
       "      <td>3</td>\n",
       "      <td>0.886017</td>\n",
       "      <td>0.912677</td>\n",
       "    </tr>\n",
       "    <tr>\n",
       "      <th>3</th>\n",
       "      <td>{'learning_rate': 0.1, 'n_estimators': 500}</td>\n",
       "      <td>0.899619</td>\n",
       "      <td>2</td>\n",
       "      <td>0.889282</td>\n",
       "      <td>0.909956</td>\n",
       "    </tr>\n",
       "  </tbody>\n",
       "</table>\n",
       "</div>"
      ],
      "text/plain": [
       "                                         params  mean_test_score  \\\n",
       "0  {'learning_rate': 0.05, 'n_estimators': 100}         0.898259   \n",
       "1  {'learning_rate': 0.05, 'n_estimators': 500}         0.900299   \n",
       "2   {'learning_rate': 0.1, 'n_estimators': 100}         0.899347   \n",
       "3   {'learning_rate': 0.1, 'n_estimators': 500}         0.899619   \n",
       "\n",
       "   rank_test_score  split0_test_score  split1_test_score  \n",
       "0                4           0.885745           0.910773  \n",
       "1                1           0.890370           0.910229  \n",
       "2                3           0.886017           0.912677  \n",
       "3                2           0.889282           0.909956  "
      ]
     },
     "execution_count": 57,
     "metadata": {},
     "output_type": "execute_result"
    }
   ],
   "source": [
    "# 하이퍼파라미터별 검증 결과 출력\n",
    "\n",
    "pd.DataFrame(gbm_grid.cv_results_)[['params', 'mean_test_score', 'rank_test_score','split0_test_score','split1_test_score']]"
   ]
  },
  {
   "cell_type": "code",
   "execution_count": 61,
   "id": "a16cf4ef",
   "metadata": {},
   "outputs": [
    {
     "data": {
      "text/plain": [
       "<AxesSubplot:title={'center':'Feature importance Top 20'}>"
      ]
     },
     "execution_count": 61,
     "metadata": {},
     "output_type": "execute_result"
    },
    {
     "data": {
      "image/png": "[encoded data removed]",
      "text/plain": [
       "<Figure size 576x432 with 1 Axes>"
      ]
     },
     "metadata": {
      "needs_background": "light"
     },
     "output_type": "display_data"
    }
   ],
   "source": [
    "# 피처중요도 시각화\n",
    "\n",
    "ftr_importance_values = best_gbm_clf.feature_importances_\n",
    "ftr_importances = pd.Series(ftr_importance_values, index = X_train.columns)\n",
    "\n",
    "# top20만 추출\n",
    "ftr_top20 = ftr_importances.sort_values(ascending = False)[:20]\n",
    "\n",
    "\n",
    "plt.figure(figsize = (8,6))\n",
    "plt.title('Feature importance Top 20')\n",
    "\n",
    "sns.barplot(x = ftr_top20, y = ftr_top20.index)"
   ]
  },
  {
   "cell_type": "code",
   "execution_count": null,
   "id": "03a9508c",
   "metadata": {},
   "outputs": [],
   "source": []
  }
 ],
 "metadata": {
  "kernelspec": {
   "display_name": "Python 3 (ipykernel)",
   "language": "python",
   "name": "python3"
  },
  "language_info": {
   "codemirror_mode": {
    "name": "ipython",
    "version": 3
   },
   "file_extension": ".py",
   "mimetype": "text/x-python",
   "name": "python",
   "nbconvert_exporter": "python",
   "pygments_lexer": "ipython3",
   "version": "3.8.13"
  },
  "toc": {
   "base_numbering": 1,
   "nav_menu": {},
   "number_sections": true,
   "sideBar": true,
   "skip_h1_title": false,
   "title_cell": "Table of Contents",
   "title_sidebar": "Contents",
   "toc_cell": false,
   "toc_position": {
    "height": "calc(100% - 180px)",
    "left": "10px",
    "top": "150px",
    "width": "218.038px"
   },
   "toc_section_display": true,
   "toc_window_display": true
  }
 },
 "nbformat": 4,
 "nbformat_minor": 5
}
