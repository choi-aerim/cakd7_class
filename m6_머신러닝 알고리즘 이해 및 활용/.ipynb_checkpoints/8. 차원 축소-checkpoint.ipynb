{
 "cells": [
  {
   "cell_type": "markdown",
   "id": "ae9e2664",
   "metadata": {},
   "source": [
    "# PCA"
   ]
  },
  {
   "cell_type": "markdown",
   "id": "8d314a1f",
   "metadata": {},
   "source": [
    "### 붓꽃 데이터로 실습"
   ]
  },
  {
   "cell_type": "markdown",
   "id": "d60aea8d",
   "metadata": {},
   "source": [
    "#### 데이터 불러오기"
   ]
  },
  {
   "cell_type": "code",
   "execution_count": 5,
   "id": "2999e33e",
   "metadata": {},
   "outputs": [
    {
     "data": {
      "text/html": [
       "<div>\n",
       "<style scoped>\n",
       "    .dataframe tbody tr th:only-of-type {\n",
       "        vertical-align: middle;\n",
       "    }\n",
       "\n",
       "    .dataframe tbody tr th {\n",
       "        vertical-align: top;\n",
       "    }\n",
       "\n",
       "    .dataframe thead th {\n",
       "        text-align: right;\n",
       "    }\n",
       "</style>\n",
       "<table border=\"1\" class=\"dataframe\">\n",
       "  <thead>\n",
       "    <tr style=\"text-align: right;\">\n",
       "      <th></th>\n",
       "      <th>sepal length (cm)</th>\n",
       "      <th>sepal width (cm)</th>\n",
       "      <th>petal length (cm)</th>\n",
       "      <th>petal width (cm)</th>\n",
       "      <th>target</th>\n",
       "    </tr>\n",
       "  </thead>\n",
       "  <tbody>\n",
       "    <tr>\n",
       "      <th>0</th>\n",
       "      <td>5.1</td>\n",
       "      <td>3.5</td>\n",
       "      <td>1.4</td>\n",
       "      <td>0.2</td>\n",
       "      <td>0</td>\n",
       "    </tr>\n",
       "    <tr>\n",
       "      <th>1</th>\n",
       "      <td>4.9</td>\n",
       "      <td>3.0</td>\n",
       "      <td>1.4</td>\n",
       "      <td>0.2</td>\n",
       "      <td>0</td>\n",
       "    </tr>\n",
       "    <tr>\n",
       "      <th>2</th>\n",
       "      <td>4.7</td>\n",
       "      <td>3.2</td>\n",
       "      <td>1.3</td>\n",
       "      <td>0.2</td>\n",
       "      <td>0</td>\n",
       "    </tr>\n",
       "    <tr>\n",
       "      <th>3</th>\n",
       "      <td>4.6</td>\n",
       "      <td>3.1</td>\n",
       "      <td>1.5</td>\n",
       "      <td>0.2</td>\n",
       "      <td>0</td>\n",
       "    </tr>\n",
       "    <tr>\n",
       "      <th>4</th>\n",
       "      <td>5.0</td>\n",
       "      <td>3.6</td>\n",
       "      <td>1.4</td>\n",
       "      <td>0.2</td>\n",
       "      <td>0</td>\n",
       "    </tr>\n",
       "    <tr>\n",
       "      <th>...</th>\n",
       "      <td>...</td>\n",
       "      <td>...</td>\n",
       "      <td>...</td>\n",
       "      <td>...</td>\n",
       "      <td>...</td>\n",
       "    </tr>\n",
       "    <tr>\n",
       "      <th>145</th>\n",
       "      <td>6.7</td>\n",
       "      <td>3.0</td>\n",
       "      <td>5.2</td>\n",
       "      <td>2.3</td>\n",
       "      <td>2</td>\n",
       "    </tr>\n",
       "    <tr>\n",
       "      <th>146</th>\n",
       "      <td>6.3</td>\n",
       "      <td>2.5</td>\n",
       "      <td>5.0</td>\n",
       "      <td>1.9</td>\n",
       "      <td>2</td>\n",
       "    </tr>\n",
       "    <tr>\n",
       "      <th>147</th>\n",
       "      <td>6.5</td>\n",
       "      <td>3.0</td>\n",
       "      <td>5.2</td>\n",
       "      <td>2.0</td>\n",
       "      <td>2</td>\n",
       "    </tr>\n",
       "    <tr>\n",
       "      <th>148</th>\n",
       "      <td>6.2</td>\n",
       "      <td>3.4</td>\n",
       "      <td>5.4</td>\n",
       "      <td>2.3</td>\n",
       "      <td>2</td>\n",
       "    </tr>\n",
       "    <tr>\n",
       "      <th>149</th>\n",
       "      <td>5.9</td>\n",
       "      <td>3.0</td>\n",
       "      <td>5.1</td>\n",
       "      <td>1.8</td>\n",
       "      <td>2</td>\n",
       "    </tr>\n",
       "  </tbody>\n",
       "</table>\n",
       "<p>150 rows × 5 columns</p>\n",
       "</div>"
      ],
      "text/plain": [
       "     sepal length (cm)  sepal width (cm)  petal length (cm)  petal width (cm)  \\\n",
       "0                  5.1               3.5                1.4               0.2   \n",
       "1                  4.9               3.0                1.4               0.2   \n",
       "2                  4.7               3.2                1.3               0.2   \n",
       "3                  4.6               3.1                1.5               0.2   \n",
       "4                  5.0               3.6                1.4               0.2   \n",
       "..                 ...               ...                ...               ...   \n",
       "145                6.7               3.0                5.2               2.3   \n",
       "146                6.3               2.5                5.0               1.9   \n",
       "147                6.5               3.0                5.2               2.0   \n",
       "148                6.2               3.4                5.4               2.3   \n",
       "149                5.9               3.0                5.1               1.8   \n",
       "\n",
       "     target  \n",
       "0         0  \n",
       "1         0  \n",
       "2         0  \n",
       "3         0  \n",
       "4         0  \n",
       "..      ...  \n",
       "145       2  \n",
       "146       2  \n",
       "147       2  \n",
       "148       2  \n",
       "149       2  \n",
       "\n",
       "[150 rows x 5 columns]"
      ]
     },
     "execution_count": 5,
     "metadata": {},
     "output_type": "execute_result"
    }
   ],
   "source": [
    "from sklearn.datasets import load_iris\n",
    "import pandas as pd\n",
    "\n",
    "# 데이터프레임 형성\n",
    "iris = load_iris()\n",
    "iris_df = pd.DataFrame(iris.data, columns = iris.feature_names)\n",
    "iris_df['target'] = iris.target\n",
    "\n",
    "iris_df"
   ]
  },
  {
   "cell_type": "markdown",
   "id": "98e9a7e5",
   "metadata": {},
   "source": [
    "#### 스케일링"
   ]
  },
  {
   "cell_type": "code",
   "execution_count": 6,
   "id": "9b2f90ba",
   "metadata": {},
   "outputs": [
    {
     "data": {
      "text/plain": [
       "array([[-9.00681170e-01,  1.01900435e+00, -1.34022653e+00,\n",
       "        -1.31544430e+00],\n",
       "       [-1.14301691e+00, -1.31979479e-01, -1.34022653e+00,\n",
       "        -1.31544430e+00],\n",
       "       [-1.38535265e+00,  3.28414053e-01, -1.39706395e+00,\n",
       "        -1.31544430e+00],\n",
       "       [-1.50652052e+00,  9.82172869e-02, -1.28338910e+00,\n",
       "        -1.31544430e+00],\n",
       "       [-1.02184904e+00,  1.24920112e+00, -1.34022653e+00,\n",
       "        -1.31544430e+00],\n",
       "       [-5.37177559e-01,  1.93979142e+00, -1.16971425e+00,\n",
       "        -1.05217993e+00],\n",
       "       [-1.50652052e+00,  7.88807586e-01, -1.34022653e+00,\n",
       "        -1.18381211e+00],\n",
       "       [-1.02184904e+00,  7.88807586e-01, -1.28338910e+00,\n",
       "        -1.31544430e+00],\n",
       "       [-1.74885626e+00, -3.62176246e-01, -1.34022653e+00,\n",
       "        -1.31544430e+00],\n",
       "       [-1.14301691e+00,  9.82172869e-02, -1.28338910e+00,\n",
       "        -1.44707648e+00],\n",
       "       [-5.37177559e-01,  1.47939788e+00, -1.28338910e+00,\n",
       "        -1.31544430e+00],\n",
       "       [-1.26418478e+00,  7.88807586e-01, -1.22655167e+00,\n",
       "        -1.31544430e+00],\n",
       "       [-1.26418478e+00, -1.31979479e-01, -1.34022653e+00,\n",
       "        -1.44707648e+00],\n",
       "       [-1.87002413e+00, -1.31979479e-01, -1.51073881e+00,\n",
       "        -1.44707648e+00],\n",
       "       [-5.25060772e-02,  2.16998818e+00, -1.45390138e+00,\n",
       "        -1.31544430e+00],\n",
       "       [-1.73673948e-01,  3.09077525e+00, -1.28338910e+00,\n",
       "        -1.05217993e+00],\n",
       "       [-5.37177559e-01,  1.93979142e+00, -1.39706395e+00,\n",
       "        -1.05217993e+00],\n",
       "       [-9.00681170e-01,  1.01900435e+00, -1.34022653e+00,\n",
       "        -1.18381211e+00],\n",
       "       [-1.73673948e-01,  1.70959465e+00, -1.16971425e+00,\n",
       "        -1.18381211e+00],\n",
       "       [-9.00681170e-01,  1.70959465e+00, -1.28338910e+00,\n",
       "        -1.18381211e+00],\n",
       "       [-5.37177559e-01,  7.88807586e-01, -1.16971425e+00,\n",
       "        -1.31544430e+00],\n",
       "       [-9.00681170e-01,  1.47939788e+00, -1.28338910e+00,\n",
       "        -1.05217993e+00],\n",
       "       [-1.50652052e+00,  1.24920112e+00, -1.56757623e+00,\n",
       "        -1.31544430e+00],\n",
       "       [-9.00681170e-01,  5.58610819e-01, -1.16971425e+00,\n",
       "        -9.20547742e-01],\n",
       "       [-1.26418478e+00,  7.88807586e-01, -1.05603939e+00,\n",
       "        -1.31544430e+00],\n",
       "       [-1.02184904e+00, -1.31979479e-01, -1.22655167e+00,\n",
       "        -1.31544430e+00],\n",
       "       [-1.02184904e+00,  7.88807586e-01, -1.22655167e+00,\n",
       "        -1.05217993e+00],\n",
       "       [-7.79513300e-01,  1.01900435e+00, -1.28338910e+00,\n",
       "        -1.31544430e+00],\n",
       "       [-7.79513300e-01,  7.88807586e-01, -1.34022653e+00,\n",
       "        -1.31544430e+00],\n",
       "       [-1.38535265e+00,  3.28414053e-01, -1.22655167e+00,\n",
       "        -1.31544430e+00],\n",
       "       [-1.26418478e+00,  9.82172869e-02, -1.22655167e+00,\n",
       "        -1.31544430e+00],\n",
       "       [-5.37177559e-01,  7.88807586e-01, -1.28338910e+00,\n",
       "        -1.05217993e+00],\n",
       "       [-7.79513300e-01,  2.40018495e+00, -1.28338910e+00,\n",
       "        -1.44707648e+00],\n",
       "       [-4.16009689e-01,  2.63038172e+00, -1.34022653e+00,\n",
       "        -1.31544430e+00],\n",
       "       [-1.14301691e+00,  9.82172869e-02, -1.28338910e+00,\n",
       "        -1.31544430e+00],\n",
       "       [-1.02184904e+00,  3.28414053e-01, -1.45390138e+00,\n",
       "        -1.31544430e+00],\n",
       "       [-4.16009689e-01,  1.01900435e+00, -1.39706395e+00,\n",
       "        -1.31544430e+00],\n",
       "       [-1.14301691e+00,  1.24920112e+00, -1.34022653e+00,\n",
       "        -1.44707648e+00],\n",
       "       [-1.74885626e+00, -1.31979479e-01, -1.39706395e+00,\n",
       "        -1.31544430e+00],\n",
       "       [-9.00681170e-01,  7.88807586e-01, -1.28338910e+00,\n",
       "        -1.31544430e+00],\n",
       "       [-1.02184904e+00,  1.01900435e+00, -1.39706395e+00,\n",
       "        -1.18381211e+00],\n",
       "       [-1.62768839e+00, -1.74335684e+00, -1.39706395e+00,\n",
       "        -1.18381211e+00],\n",
       "       [-1.74885626e+00,  3.28414053e-01, -1.39706395e+00,\n",
       "        -1.31544430e+00],\n",
       "       [-1.02184904e+00,  1.01900435e+00, -1.22655167e+00,\n",
       "        -7.88915558e-01],\n",
       "       [-9.00681170e-01,  1.70959465e+00, -1.05603939e+00,\n",
       "        -1.05217993e+00],\n",
       "       [-1.26418478e+00, -1.31979479e-01, -1.34022653e+00,\n",
       "        -1.18381211e+00],\n",
       "       [-9.00681170e-01,  1.70959465e+00, -1.22655167e+00,\n",
       "        -1.31544430e+00],\n",
       "       [-1.50652052e+00,  3.28414053e-01, -1.34022653e+00,\n",
       "        -1.31544430e+00],\n",
       "       [-6.58345429e-01,  1.47939788e+00, -1.28338910e+00,\n",
       "        -1.31544430e+00],\n",
       "       [-1.02184904e+00,  5.58610819e-01, -1.34022653e+00,\n",
       "        -1.31544430e+00],\n",
       "       [ 1.40150837e+00,  3.28414053e-01,  5.35408562e-01,\n",
       "         2.64141916e-01],\n",
       "       [ 6.74501145e-01,  3.28414053e-01,  4.21733708e-01,\n",
       "         3.95774101e-01],\n",
       "       [ 1.28034050e+00,  9.82172869e-02,  6.49083415e-01,\n",
       "         3.95774101e-01],\n",
       "       [-4.16009689e-01, -1.74335684e+00,  1.37546573e-01,\n",
       "         1.32509732e-01],\n",
       "       [ 7.95669016e-01, -5.92373012e-01,  4.78571135e-01,\n",
       "         3.95774101e-01],\n",
       "       [-1.73673948e-01, -5.92373012e-01,  4.21733708e-01,\n",
       "         1.32509732e-01],\n",
       "       [ 5.53333275e-01,  5.58610819e-01,  5.35408562e-01,\n",
       "         5.27406285e-01],\n",
       "       [-1.14301691e+00, -1.51316008e+00, -2.60315415e-01,\n",
       "        -2.62386821e-01],\n",
       "       [ 9.16836886e-01, -3.62176246e-01,  4.78571135e-01,\n",
       "         1.32509732e-01],\n",
       "       [-7.79513300e-01, -8.22569778e-01,  8.07091462e-02,\n",
       "         2.64141916e-01],\n",
       "       [-1.02184904e+00, -2.43394714e+00, -1.46640561e-01,\n",
       "        -2.62386821e-01],\n",
       "       [ 6.86617933e-02, -1.31979479e-01,  2.51221427e-01,\n",
       "         3.95774101e-01],\n",
       "       [ 1.89829664e-01, -1.97355361e+00,  1.37546573e-01,\n",
       "        -2.62386821e-01],\n",
       "       [ 3.10997534e-01, -3.62176246e-01,  5.35408562e-01,\n",
       "         2.64141916e-01],\n",
       "       [-2.94841818e-01, -3.62176246e-01, -8.98031345e-02,\n",
       "         1.32509732e-01],\n",
       "       [ 1.03800476e+00,  9.82172869e-02,  3.64896281e-01,\n",
       "         2.64141916e-01],\n",
       "       [-2.94841818e-01, -1.31979479e-01,  4.21733708e-01,\n",
       "         3.95774101e-01],\n",
       "       [-5.25060772e-02, -8.22569778e-01,  1.94384000e-01,\n",
       "        -2.62386821e-01],\n",
       "       [ 4.32165405e-01, -1.97355361e+00,  4.21733708e-01,\n",
       "         3.95774101e-01],\n",
       "       [-2.94841818e-01, -1.28296331e+00,  8.07091462e-02,\n",
       "        -1.30754636e-01],\n",
       "       [ 6.86617933e-02,  3.28414053e-01,  5.92245988e-01,\n",
       "         7.90670654e-01],\n",
       "       [ 3.10997534e-01, -5.92373012e-01,  1.37546573e-01,\n",
       "         1.32509732e-01],\n",
       "       [ 5.53333275e-01, -1.28296331e+00,  6.49083415e-01,\n",
       "         3.95774101e-01],\n",
       "       [ 3.10997534e-01, -5.92373012e-01,  5.35408562e-01,\n",
       "         8.77547895e-04],\n",
       "       [ 6.74501145e-01, -3.62176246e-01,  3.08058854e-01,\n",
       "         1.32509732e-01],\n",
       "       [ 9.16836886e-01, -1.31979479e-01,  3.64896281e-01,\n",
       "         2.64141916e-01],\n",
       "       [ 1.15917263e+00, -5.92373012e-01,  5.92245988e-01,\n",
       "         2.64141916e-01],\n",
       "       [ 1.03800476e+00, -1.31979479e-01,  7.05920842e-01,\n",
       "         6.59038469e-01],\n",
       "       [ 1.89829664e-01, -3.62176246e-01,  4.21733708e-01,\n",
       "         3.95774101e-01],\n",
       "       [-1.73673948e-01, -1.05276654e+00, -1.46640561e-01,\n",
       "        -2.62386821e-01],\n",
       "       [-4.16009689e-01, -1.51316008e+00,  2.38717193e-02,\n",
       "        -1.30754636e-01],\n",
       "       [-4.16009689e-01, -1.51316008e+00, -3.29657076e-02,\n",
       "        -2.62386821e-01],\n",
       "       [-5.25060772e-02, -8.22569778e-01,  8.07091462e-02,\n",
       "         8.77547895e-04],\n",
       "       [ 1.89829664e-01, -8.22569778e-01,  7.62758269e-01,\n",
       "         5.27406285e-01],\n",
       "       [-5.37177559e-01, -1.31979479e-01,  4.21733708e-01,\n",
       "         3.95774101e-01],\n",
       "       [ 1.89829664e-01,  7.88807586e-01,  4.21733708e-01,\n",
       "         5.27406285e-01],\n",
       "       [ 1.03800476e+00,  9.82172869e-02,  5.35408562e-01,\n",
       "         3.95774101e-01],\n",
       "       [ 5.53333275e-01, -1.74335684e+00,  3.64896281e-01,\n",
       "         1.32509732e-01],\n",
       "       [-2.94841818e-01, -1.31979479e-01,  1.94384000e-01,\n",
       "         1.32509732e-01],\n",
       "       [-4.16009689e-01, -1.28296331e+00,  1.37546573e-01,\n",
       "         1.32509732e-01],\n",
       "       [-4.16009689e-01, -1.05276654e+00,  3.64896281e-01,\n",
       "         8.77547895e-04],\n",
       "       [ 3.10997534e-01, -1.31979479e-01,  4.78571135e-01,\n",
       "         2.64141916e-01],\n",
       "       [-5.25060772e-02, -1.05276654e+00,  1.37546573e-01,\n",
       "         8.77547895e-04],\n",
       "       [-1.02184904e+00, -1.74335684e+00, -2.60315415e-01,\n",
       "        -2.62386821e-01],\n",
       "       [-2.94841818e-01, -8.22569778e-01,  2.51221427e-01,\n",
       "         1.32509732e-01],\n",
       "       [-1.73673948e-01, -1.31979479e-01,  2.51221427e-01,\n",
       "         8.77547895e-04],\n",
       "       [-1.73673948e-01, -3.62176246e-01,  2.51221427e-01,\n",
       "         1.32509732e-01],\n",
       "       [ 4.32165405e-01, -3.62176246e-01,  3.08058854e-01,\n",
       "         1.32509732e-01],\n",
       "       [-9.00681170e-01, -1.28296331e+00, -4.30827696e-01,\n",
       "        -1.30754636e-01],\n",
       "       [-1.73673948e-01, -5.92373012e-01,  1.94384000e-01,\n",
       "         1.32509732e-01],\n",
       "       [ 5.53333275e-01,  5.58610819e-01,  1.27429511e+00,\n",
       "         1.71209594e+00],\n",
       "       [-5.25060772e-02, -8.22569778e-01,  7.62758269e-01,\n",
       "         9.22302838e-01],\n",
       "       [ 1.52267624e+00, -1.31979479e-01,  1.21745768e+00,\n",
       "         1.18556721e+00],\n",
       "       [ 5.53333275e-01, -3.62176246e-01,  1.04694540e+00,\n",
       "         7.90670654e-01],\n",
       "       [ 7.95669016e-01, -1.31979479e-01,  1.16062026e+00,\n",
       "         1.31719939e+00],\n",
       "       [ 2.12851559e+00, -1.31979479e-01,  1.61531967e+00,\n",
       "         1.18556721e+00],\n",
       "       [-1.14301691e+00, -1.28296331e+00,  4.21733708e-01,\n",
       "         6.59038469e-01],\n",
       "       [ 1.76501198e+00, -3.62176246e-01,  1.44480739e+00,\n",
       "         7.90670654e-01],\n",
       "       [ 1.03800476e+00, -1.28296331e+00,  1.16062026e+00,\n",
       "         7.90670654e-01],\n",
       "       [ 1.64384411e+00,  1.24920112e+00,  1.33113254e+00,\n",
       "         1.71209594e+00],\n",
       "       [ 7.95669016e-01,  3.28414053e-01,  7.62758269e-01,\n",
       "         1.05393502e+00],\n",
       "       [ 6.74501145e-01, -8.22569778e-01,  8.76433123e-01,\n",
       "         9.22302838e-01],\n",
       "       [ 1.15917263e+00, -1.31979479e-01,  9.90107977e-01,\n",
       "         1.18556721e+00],\n",
       "       [-1.73673948e-01, -1.28296331e+00,  7.05920842e-01,\n",
       "         1.05393502e+00],\n",
       "       [-5.25060772e-02, -5.92373012e-01,  7.62758269e-01,\n",
       "         1.58046376e+00],\n",
       "       [ 6.74501145e-01,  3.28414053e-01,  8.76433123e-01,\n",
       "         1.44883158e+00],\n",
       "       [ 7.95669016e-01, -1.31979479e-01,  9.90107977e-01,\n",
       "         7.90670654e-01],\n",
       "       [ 2.24968346e+00,  1.70959465e+00,  1.67215710e+00,\n",
       "         1.31719939e+00],\n",
       "       [ 2.24968346e+00, -1.05276654e+00,  1.78583195e+00,\n",
       "         1.44883158e+00],\n",
       "       [ 1.89829664e-01, -1.97355361e+00,  7.05920842e-01,\n",
       "         3.95774101e-01],\n",
       "       [ 1.28034050e+00,  3.28414053e-01,  1.10378283e+00,\n",
       "         1.44883158e+00],\n",
       "       [-2.94841818e-01, -5.92373012e-01,  6.49083415e-01,\n",
       "         1.05393502e+00],\n",
       "       [ 2.24968346e+00, -5.92373012e-01,  1.67215710e+00,\n",
       "         1.05393502e+00],\n",
       "       [ 5.53333275e-01, -8.22569778e-01,  6.49083415e-01,\n",
       "         7.90670654e-01],\n",
       "       [ 1.03800476e+00,  5.58610819e-01,  1.10378283e+00,\n",
       "         1.18556721e+00],\n",
       "       [ 1.64384411e+00,  3.28414053e-01,  1.27429511e+00,\n",
       "         7.90670654e-01],\n",
       "       [ 4.32165405e-01, -5.92373012e-01,  5.92245988e-01,\n",
       "         7.90670654e-01],\n",
       "       [ 3.10997534e-01, -1.31979479e-01,  6.49083415e-01,\n",
       "         7.90670654e-01],\n",
       "       [ 6.74501145e-01, -5.92373012e-01,  1.04694540e+00,\n",
       "         1.18556721e+00],\n",
       "       [ 1.64384411e+00, -1.31979479e-01,  1.16062026e+00,\n",
       "         5.27406285e-01],\n",
       "       [ 1.88617985e+00, -5.92373012e-01,  1.33113254e+00,\n",
       "         9.22302838e-01],\n",
       "       [ 2.49201920e+00,  1.70959465e+00,  1.50164482e+00,\n",
       "         1.05393502e+00],\n",
       "       [ 6.74501145e-01, -5.92373012e-01,  1.04694540e+00,\n",
       "         1.31719939e+00],\n",
       "       [ 5.53333275e-01, -5.92373012e-01,  7.62758269e-01,\n",
       "         3.95774101e-01],\n",
       "       [ 3.10997534e-01, -1.05276654e+00,  1.04694540e+00,\n",
       "         2.64141916e-01],\n",
       "       [ 2.24968346e+00, -1.31979479e-01,  1.33113254e+00,\n",
       "         1.44883158e+00],\n",
       "       [ 5.53333275e-01,  7.88807586e-01,  1.04694540e+00,\n",
       "         1.58046376e+00],\n",
       "       [ 6.74501145e-01,  9.82172869e-02,  9.90107977e-01,\n",
       "         7.90670654e-01],\n",
       "       [ 1.89829664e-01, -1.31979479e-01,  5.92245988e-01,\n",
       "         7.90670654e-01],\n",
       "       [ 1.28034050e+00,  9.82172869e-02,  9.33270550e-01,\n",
       "         1.18556721e+00],\n",
       "       [ 1.03800476e+00,  9.82172869e-02,  1.04694540e+00,\n",
       "         1.58046376e+00],\n",
       "       [ 1.28034050e+00,  9.82172869e-02,  7.62758269e-01,\n",
       "         1.44883158e+00],\n",
       "       [-5.25060772e-02, -8.22569778e-01,  7.62758269e-01,\n",
       "         9.22302838e-01],\n",
       "       [ 1.15917263e+00,  3.28414053e-01,  1.21745768e+00,\n",
       "         1.44883158e+00],\n",
       "       [ 1.03800476e+00,  5.58610819e-01,  1.10378283e+00,\n",
       "         1.71209594e+00],\n",
       "       [ 1.03800476e+00, -1.31979479e-01,  8.19595696e-01,\n",
       "         1.44883158e+00],\n",
       "       [ 5.53333275e-01, -1.28296331e+00,  7.05920842e-01,\n",
       "         9.22302838e-01],\n",
       "       [ 7.95669016e-01, -1.31979479e-01,  8.19595696e-01,\n",
       "         1.05393502e+00],\n",
       "       [ 4.32165405e-01,  7.88807586e-01,  9.33270550e-01,\n",
       "         1.44883158e+00],\n",
       "       [ 6.86617933e-02, -1.31979479e-01,  7.62758269e-01,\n",
       "         7.90670654e-01]])"
      ]
     },
     "execution_count": 6,
     "metadata": {},
     "output_type": "execute_result"
    }
   ],
   "source": [
    "from sklearn.preprocessing import StandardScaler\n",
    "\n",
    "# 표준정규분포를 따르는 값으로 스케일링\n",
    "iris_scaled = StandardScaler().fit_transform(iris_df.iloc[:,:-1])\n",
    "iris_scaled"
   ]
  },
  {
   "cell_type": "markdown",
   "id": "560d9b61",
   "metadata": {},
   "source": [
    "#### PCA 변환"
   ]
  },
  {
   "cell_type": "code",
   "execution_count": 13,
   "id": "ed4b0b28",
   "metadata": {},
   "outputs": [
    {
     "data": {
      "text/html": [
       "<div>\n",
       "<style scoped>\n",
       "    .dataframe tbody tr th:only-of-type {\n",
       "        vertical-align: middle;\n",
       "    }\n",
       "\n",
       "    .dataframe tbody tr th {\n",
       "        vertical-align: top;\n",
       "    }\n",
       "\n",
       "    .dataframe thead th {\n",
       "        text-align: right;\n",
       "    }\n",
       "</style>\n",
       "<table border=\"1\" class=\"dataframe\">\n",
       "  <thead>\n",
       "    <tr style=\"text-align: right;\">\n",
       "      <th></th>\n",
       "      <th>pca1</th>\n",
       "      <th>pca2</th>\n",
       "      <th>target</th>\n",
       "    </tr>\n",
       "  </thead>\n",
       "  <tbody>\n",
       "    <tr>\n",
       "      <th>0</th>\n",
       "      <td>-2.264703</td>\n",
       "      <td>0.480027</td>\n",
       "      <td>0</td>\n",
       "    </tr>\n",
       "    <tr>\n",
       "      <th>1</th>\n",
       "      <td>-2.080961</td>\n",
       "      <td>-0.674134</td>\n",
       "      <td>0</td>\n",
       "    </tr>\n",
       "    <tr>\n",
       "      <th>2</th>\n",
       "      <td>-2.364229</td>\n",
       "      <td>-0.341908</td>\n",
       "      <td>0</td>\n",
       "    </tr>\n",
       "    <tr>\n",
       "      <th>3</th>\n",
       "      <td>-2.299384</td>\n",
       "      <td>-0.597395</td>\n",
       "      <td>0</td>\n",
       "    </tr>\n",
       "    <tr>\n",
       "      <th>4</th>\n",
       "      <td>-2.389842</td>\n",
       "      <td>0.646835</td>\n",
       "      <td>0</td>\n",
       "    </tr>\n",
       "    <tr>\n",
       "      <th>...</th>\n",
       "      <td>...</td>\n",
       "      <td>...</td>\n",
       "      <td>...</td>\n",
       "    </tr>\n",
       "    <tr>\n",
       "      <th>145</th>\n",
       "      <td>1.870503</td>\n",
       "      <td>0.386966</td>\n",
       "      <td>2</td>\n",
       "    </tr>\n",
       "    <tr>\n",
       "      <th>146</th>\n",
       "      <td>1.564580</td>\n",
       "      <td>-0.896687</td>\n",
       "      <td>2</td>\n",
       "    </tr>\n",
       "    <tr>\n",
       "      <th>147</th>\n",
       "      <td>1.521170</td>\n",
       "      <td>0.269069</td>\n",
       "      <td>2</td>\n",
       "    </tr>\n",
       "    <tr>\n",
       "      <th>148</th>\n",
       "      <td>1.372788</td>\n",
       "      <td>1.011254</td>\n",
       "      <td>2</td>\n",
       "    </tr>\n",
       "    <tr>\n",
       "      <th>149</th>\n",
       "      <td>0.960656</td>\n",
       "      <td>-0.024332</td>\n",
       "      <td>2</td>\n",
       "    </tr>\n",
       "  </tbody>\n",
       "</table>\n",
       "<p>150 rows × 3 columns</p>\n",
       "</div>"
      ],
      "text/plain": [
       "         pca1      pca2  target\n",
       "0   -2.264703  0.480027       0\n",
       "1   -2.080961 -0.674134       0\n",
       "2   -2.364229 -0.341908       0\n",
       "3   -2.299384 -0.597395       0\n",
       "4   -2.389842  0.646835       0\n",
       "..        ...       ...     ...\n",
       "145  1.870503  0.386966       2\n",
       "146  1.564580 -0.896687       2\n",
       "147  1.521170  0.269069       2\n",
       "148  1.372788  1.011254       2\n",
       "149  0.960656 -0.024332       2\n",
       "\n",
       "[150 rows x 3 columns]"
      ]
     },
     "metadata": {},
     "output_type": "display_data"
    }
   ],
   "source": [
    "from sklearn.decomposition import PCA\n",
    "\n",
    "# PCA변환\n",
    "pca = PCA(n_components = 2) \n",
    "pca.fit(iris_scaled)\n",
    "iris_pca = pca.transform(iris_scaled)\n",
    "\n",
    "# 변환된 데이터로 데이터프레임 형성\n",
    "iris_df_pca = pd.DataFrame(iris_pca, columns = ['pca1', 'pca2'])\n",
    "iris_df_pca['target'] = iris.target\n",
    "display(iris_df_pca)\n",
    "                           \n"
   ]
  },
  {
   "cell_type": "markdown",
   "id": "9e528de8",
   "metadata": {},
   "source": [
    "#### 개별 PCA 컴포넌트별 변동성 비율 확인"
   ]
  },
  {
   "cell_type": "code",
   "execution_count": 12,
   "id": "e4ceb41c",
   "metadata": {},
   "outputs": [
    {
     "data": {
      "text/plain": [
       "array([0.72962445, 0.22850762])"
      ]
     },
     "execution_count": 12,
     "metadata": {},
     "output_type": "execute_result"
    }
   ],
   "source": [
    "# 개별 PCA 컴포넌트별 차지하는 변동성 비율 확인\n",
    "pca.explained_variance_ratio_"
   ]
  },
  {
   "cell_type": "markdown",
   "id": "f34ddf08",
   "metadata": {},
   "source": [
    "#### 시각화"
   ]
  },
  {
   "cell_type": "code",
   "execution_count": 16,
   "id": "e7975071",
   "metadata": {},
   "outputs": [
    {
     "data": {
      "text/plain": [
       "Text(0, 0.5, 'pca2')"
      ]
     },
     "execution_count": 16,
     "metadata": {},
     "output_type": "execute_result"
    },
    {
     "data": {
      "image/png": "[encoded data removed]",
      "text/plain": [
       "<Figure size 432x288 with 1 Axes>"
      ]
     },
     "metadata": {
      "needs_background": "light"
     },
     "output_type": "display_data"
    }
   ],
   "source": [
    "import matplotlib.pyplot as plt\n",
    "\n",
    "\n",
    "markers = ['^','s','o']\n",
    "\n",
    "for i, marker in enumerate(markers):\n",
    "    x = iris_df_pca[iris_df_pca['target'] == i]['pca1']\n",
    "    y = iris_df_pca[iris_df_pca['target'] == i]['pca2']\n",
    "    \n",
    "    plt.scatter(x, y, marker = marker, label = iris.target_names[i])\n",
    "    \n",
    "plt.legend()\n",
    "plt.xlabel('pca1')\n",
    "plt.ylabel('pca2')"
   ]
  },
  {
   "cell_type": "markdown",
   "id": "1460be1e",
   "metadata": {},
   "source": [
    "#### 원본 붓꽃데이터 교차검증"
   ]
  },
  {
   "cell_type": "code",
   "execution_count": 26,
   "id": "5a86fee1",
   "metadata": {},
   "outputs": [
    {
     "name": "stdout",
     "output_type": "stream",
     "text": [
      "원본 데이터 정확도: [0.98 0.94 0.94]\n",
      "원본 데이터 평균 정확도: 0.953\n"
     ]
    }
   ],
   "source": [
    "from sklearn.ensemble import RandomForestClassifier\n",
    "from sklearn.model_selection import cross_val_score\n",
    "import numpy as np\n",
    "\n",
    "rcf = RandomForestClassifier()\n",
    "scores = cross_val_score(rcf, iris.data, iris.target,\n",
    "                         scoring = 'accuracy',\n",
    "                         cv = 3)\n",
    "\n",
    "print(f'원본 데이터 정확도: {np.round(scores,3)}')\n",
    "print(f'원본 데이터 평균 정확도: {np.round(np.mean(scores),3)}')"
   ]
  },
  {
   "cell_type": "markdown",
   "id": "40402e88",
   "metadata": {},
   "source": [
    "#### PCA 변환 데이터 교차검증"
   ]
  },
  {
   "cell_type": "code",
   "execution_count": 27,
   "id": "ed1fb061",
   "metadata": {},
   "outputs": [
    {
     "name": "stdout",
     "output_type": "stream",
     "text": [
      "원본 데이터 정확도: [0.88 0.88 0.88]\n",
      "원본 데이터 평균 정확도: 0.88\n"
     ]
    }
   ],
   "source": [
    "scores_pca = cross_val_score(rcf, iris_pca, iris.target,\n",
    "                             scoring = 'accuracy',\n",
    "                             cv = 3)\n",
    "\n",
    "print(f'원본 데이터 정확도: {np.round(scores_pca,3)}')\n",
    "print(f'원본 데이터 평균 정확도: {np.round(np.mean(scores_pca),3)}')"
   ]
  },
  {
   "cell_type": "markdown",
   "id": "a25ff890",
   "metadata": {},
   "source": [
    "- 원본 데이터 세트 대비 예측 정확도는 pca 변환 차원 개수에 따라 예측 성능이 떨어질 수 밖에 없음\n",
    "- 정확도가 약 8% 하락해서, 비교적 큰 성능 수치 감소지만, 4개의 속성이 2개로 속성 개수가 50% 감소한 것을 고려한다면, pca 변환 후에도 원본 데이터의 특성을 상당 부분 유지하고 있음을 알 수 있음"
   ]
  },
  {
   "cell_type": "markdown",
   "id": "5b6b8a94",
   "metadata": {},
   "source": [
    "# LDA\n",
    "- PCA와 유사하게 입력 데이터 세트를 저차원 공간에 투영해 차원을 축소하는 기법\n",
    "- 중요한 차이는 **지도학습의 분류**에서 사용하기 쉽도록 **개별 클래스를 분별할 수 있는 기준을 최대한 유지하면서 차원을 축소**한다는 점"
   ]
  },
  {
   "cell_type": "markdown",
   "id": "b4a49b36",
   "metadata": {},
   "source": [
    "#### 과제 1: \n",
    "붓꽃 데이터 셋에 LDA 방식을 적용하여 표준화 및 학습 후 2개의 components로 시각화하기"
   ]
  },
  {
   "cell_type": "code",
   "execution_count": 30,
   "id": "d10d91ca",
   "metadata": {},
   "outputs": [],
   "source": [
    "# 사이킷런의 LDA를 LinearDiscriminantAnalysis 클래스로 제공\n",
    "from sklearn.discriminant_analysis import LinearDiscriminantAnalysis\n",
    "from sklearn.preprocessing import StandardScaler\n",
    "from sklearn.datasets import load_iris\n",
    "import pandas as pd"
   ]
  },
  {
   "cell_type": "markdown",
   "id": "bf566e61",
   "metadata": {},
   "source": [
    "### 붓꽃 데이터로 실습"
   ]
  },
  {
   "cell_type": "markdown",
   "id": "2391a415",
   "metadata": {},
   "source": [
    "#### 데이터 불러오기"
   ]
  },
  {
   "cell_type": "code",
   "execution_count": 36,
   "id": "a35a5f6b",
   "metadata": {
    "scrolled": false
   },
   "outputs": [],
   "source": [
    "# 붓꽃 데이터 불러오기\n",
    "iris = load_iris()"
   ]
  },
  {
   "cell_type": "markdown",
   "id": "2b73d7f3",
   "metadata": {},
   "source": [
    "#### 정규화"
   ]
  },
  {
   "cell_type": "code",
   "execution_count": 37,
   "id": "2fff4c56",
   "metadata": {},
   "outputs": [],
   "source": [
    "# 표준정규분포로 스케일링\n",
    "iris_scaled = StandardScaler().fit_transform(iris.data)"
   ]
  },
  {
   "cell_type": "markdown",
   "id": "8e4355b0",
   "metadata": {},
   "source": [
    "#### LDA 변환"
   ]
  },
  {
   "cell_type": "code",
   "execution_count": 38,
   "id": "6b8a030e",
   "metadata": {},
   "outputs": [
    {
     "name": "stdout",
     "output_type": "stream",
     "text": [
      "[[ 8.06179978e+00  3.00420621e-01]\n",
      " [ 7.12868772e+00 -7.86660426e-01]\n",
      " [ 7.48982797e+00 -2.65384488e-01]\n",
      " [ 6.81320057e+00 -6.70631068e-01]\n",
      " [ 8.13230933e+00  5.14462530e-01]\n",
      " [ 7.70194674e+00  1.46172097e+00]\n",
      " [ 7.21261762e+00  3.55836209e-01]\n",
      " [ 7.60529355e+00 -1.16338380e-02]\n",
      " [ 6.56055159e+00 -1.01516362e+00]\n",
      " [ 7.34305989e+00 -9.47319209e-01]\n",
      " [ 8.39738652e+00  6.47363392e-01]\n",
      " [ 7.21929685e+00 -1.09646389e-01]\n",
      " [ 7.32679599e+00 -1.07298943e+00]\n",
      " [ 7.57247066e+00 -8.05464137e-01]\n",
      " [ 9.84984300e+00  1.58593698e+00]\n",
      " [ 9.15823890e+00  2.73759647e+00]\n",
      " [ 8.58243141e+00  1.83448945e+00]\n",
      " [ 7.78075375e+00  5.84339407e-01]\n",
      " [ 8.07835876e+00  9.68580703e-01]\n",
      " [ 8.02097451e+00  1.14050366e+00]\n",
      " [ 7.49680227e+00 -1.88377220e-01]\n",
      " [ 7.58648117e+00  1.20797032e+00]\n",
      " [ 8.68104293e+00  8.77590154e-01]\n",
      " [ 6.25140358e+00  4.39696367e-01]\n",
      " [ 6.55893336e+00 -3.89222752e-01]\n",
      " [ 6.77138315e+00 -9.70634453e-01]\n",
      " [ 6.82308032e+00  4.63011612e-01]\n",
      " [ 7.92461638e+00  2.09638715e-01]\n",
      " [ 7.99129024e+00  8.63787128e-02]\n",
      " [ 6.82946447e+00 -5.44960851e-01]\n",
      " [ 6.75895493e+00 -7.59002759e-01]\n",
      " [ 7.37495254e+00  5.65844592e-01]\n",
      " [ 9.12634625e+00  1.22443267e+00]\n",
      " [ 9.46768199e+00  1.82522635e+00]\n",
      " [ 7.06201386e+00 -6.63400423e-01]\n",
      " [ 7.95876243e+00 -1.64961722e-01]\n",
      " [ 8.61367201e+00  4.03253602e-01]\n",
      " [ 8.33041759e+00  2.28133530e-01]\n",
      " [ 6.93412007e+00 -7.05519379e-01]\n",
      " [ 7.68823131e+00 -9.22362309e-03]\n",
      " [ 7.91793715e+00  6.75121313e-01]\n",
      " [ 5.66188065e+00 -1.93435524e+00]\n",
      " [ 7.24101468e+00 -2.72615132e-01]\n",
      " [ 6.41443556e+00  1.24730131e+00]\n",
      " [ 6.85944381e+00  1.05165396e+00]\n",
      " [ 6.76470393e+00 -5.05151855e-01]\n",
      " [ 8.08189937e+00  7.63392750e-01]\n",
      " [ 7.18676904e+00 -3.60986823e-01]\n",
      " [ 8.31444876e+00  6.44953177e-01]\n",
      " [ 7.67196741e+00 -1.34893840e-01]\n",
      " [-1.45927545e+00  2.85437643e-02]\n",
      " [-1.79770574e+00  4.84385502e-01]\n",
      " [-2.41694888e+00 -9.27840307e-02]\n",
      " [-2.26247349e+00 -1.58725251e+00]\n",
      " [-2.54867836e+00 -4.72204898e-01]\n",
      " [-2.42996725e+00 -9.66132066e-01]\n",
      " [-2.44848456e+00  7.95961954e-01]\n",
      " [-2.22666513e-01 -1.58467318e+00]\n",
      " [-1.75020123e+00 -8.21180130e-01]\n",
      " [-1.95842242e+00 -3.51563753e-01]\n",
      " [-1.19376031e+00 -2.63445570e+00]\n",
      " [-1.85892567e+00  3.19006544e-01]\n",
      " [-1.15809388e+00 -2.64340991e+00]\n",
      " [-2.66605725e+00 -6.42504540e-01]\n",
      " [-3.78367218e-01  8.66389312e-02]\n",
      " [-1.20117255e+00  8.44373592e-02]\n",
      " [-2.76810246e+00  3.21995363e-02]\n",
      " [-7.76854039e-01 -1.65916185e+00]\n",
      " [-3.49805433e+00 -1.68495616e+00]\n",
      " [-1.09042788e+00 -1.62658350e+00]\n",
      " [-3.71589615e+00  1.04451442e+00]\n",
      " [-9.97610366e-01 -4.90530602e-01]\n",
      " [-3.83525931e+00 -1.40595806e+00]\n",
      " [-2.25741249e+00 -1.42679423e+00]\n",
      " [-1.25571326e+00 -5.46424197e-01]\n",
      " [-1.43755762e+00 -1.34424979e-01]\n",
      " [-2.45906137e+00 -9.35277280e-01]\n",
      " [-3.51848495e+00  1.60588866e-01]\n",
      " [-2.58979871e+00 -1.74611728e-01]\n",
      " [ 3.07487884e-01 -1.31887146e+00]\n",
      " [-1.10669179e+00 -1.75225371e+00]\n",
      " [-6.05524589e-01 -1.94298038e+00]\n",
      " [-8.98703769e-01 -9.04940034e-01]\n",
      " [-4.49846635e+00 -8.82749915e-01]\n",
      " [-2.93397799e+00  2.73791065e-02]\n",
      " [-2.10360821e+00  1.19156767e+00]\n",
      " [-2.14258208e+00  8.87797815e-02]\n",
      " [-2.47945603e+00 -1.94073927e+00]\n",
      " [-1.32552574e+00 -1.62869550e-01]\n",
      " [-1.95557887e+00 -1.15434826e+00]\n",
      " [-2.40157020e+00 -1.59458341e+00]\n",
      " [-2.29248878e+00 -3.32860296e-01]\n",
      " [-1.27227224e+00 -1.21458428e+00]\n",
      " [-2.93176055e-01 -1.79871509e+00]\n",
      " [-2.00598883e+00 -9.05418042e-01]\n",
      " [-1.18166311e+00 -5.37570242e-01]\n",
      " [-1.61615645e+00 -4.70103580e-01]\n",
      " [-1.42158879e+00 -5.51244626e-01]\n",
      " [ 4.75973788e-01 -7.99905482e-01]\n",
      " [-1.54948259e+00 -5.93363582e-01]\n",
      " [-7.83947399e+00  2.13973345e+00]\n",
      " [-5.50747997e+00 -3.58139892e-02]\n",
      " [-6.29200850e+00  4.67175777e-01]\n",
      " [-5.60545633e+00 -3.40738058e-01]\n",
      " [-6.85055995e+00  8.29825394e-01]\n",
      " [-7.41816784e+00 -1.73117995e-01]\n",
      " [-4.67799541e+00 -4.99095015e-01]\n",
      " [-6.31692685e+00 -9.68980756e-01]\n",
      " [-6.32773684e+00 -1.38328993e+00]\n",
      " [-6.85281335e+00  2.71758963e+00]\n",
      " [-4.44072512e+00  1.34723692e+00]\n",
      " [-5.45009572e+00 -2.07736942e-01]\n",
      " [-5.66033713e+00  8.32713617e-01]\n",
      " [-5.95823722e+00 -9.40175447e-02]\n",
      " [-6.75926282e+00  1.60023206e+00]\n",
      " [-5.80704331e+00  2.01019882e+00]\n",
      " [-5.06601233e+00 -2.62733839e-02]\n",
      " [-6.60881882e+00  1.75163587e+00]\n",
      " [-9.17147486e+00 -7.48255067e-01]\n",
      " [-4.76453569e+00 -2.15573720e+00]\n",
      " [-6.27283915e+00  1.64948141e+00]\n",
      " [-5.36071189e+00  6.46120732e-01]\n",
      " [-7.58119982e+00 -9.80722934e-01]\n",
      " [-4.37150279e+00 -1.21297458e-01]\n",
      " [-5.72317531e+00  1.29327553e+00]\n",
      " [-5.27915920e+00 -4.24582377e-02]\n",
      " [-4.08087208e+00  1.85936572e-01]\n",
      " [-4.07703640e+00  5.23238483e-01]\n",
      " [-6.51910397e+00  2.96976389e-01]\n",
      " [-4.58371942e+00 -8.56815813e-01]\n",
      " [-6.22824009e+00 -7.12719638e-01]\n",
      " [-5.22048773e+00  1.46819509e+00]\n",
      " [-6.80015000e+00  5.80895175e-01]\n",
      " [-3.81515972e+00 -9.42985932e-01]\n",
      " [-5.10748966e+00 -2.13059000e+00]\n",
      " [-6.79671631e+00  8.63090395e-01]\n",
      " [-6.52449599e+00  2.44503527e+00]\n",
      " [-4.99550279e+00  1.87768525e-01]\n",
      " [-3.93985300e+00  6.14020389e-01]\n",
      " [-5.20383090e+00  1.14476808e+00]\n",
      " [-6.65308685e+00  1.80531976e+00]\n",
      " [-5.10555946e+00  1.99218201e+00]\n",
      " [-5.50747997e+00 -3.58139892e-02]\n",
      " [-6.79601924e+00  1.46068695e+00]\n",
      " [-6.84735943e+00  2.42895067e+00]\n",
      " [-5.64500346e+00  1.67771734e+00]\n",
      " [-5.17956460e+00 -3.63475041e-01]\n",
      " [-4.96774090e+00  8.21140550e-01]\n",
      " [-5.88614539e+00  2.34509051e+00]\n",
      " [-4.68315426e+00  3.32033811e-01]]\n"
     ]
    }
   ],
   "source": [
    "# 2개의 컴포넌트로 LDA변환\n",
    "## 컴포넌트 개수는 2개\n",
    "lda = LinearDiscriminantAnalysis(n_components = 2)\n",
    "\n",
    "## 변환 시, 클래스의 결정값이 필요함 -> iris.target이 클래스의 결정값이 됨\n",
    "lda.fit(iris_scaled, iris.target)     \n",
    "\n",
    "## LDA 변환\n",
    "iris_lda = lda.transform(iris_scaled)    \n",
    "print(iris_lda)"
   ]
  },
  {
   "cell_type": "markdown",
   "id": "f1bf9aa4",
   "metadata": {},
   "source": [
    "#### 시각화"
   ]
  },
  {
   "cell_type": "code",
   "execution_count": 42,
   "id": "27e4dc49",
   "metadata": {},
   "outputs": [
    {
     "data": {
      "image/png": "[encoded data removed]",
      "text/plain": [
       "<Figure size 432x288 with 1 Axes>"
      ]
     },
     "metadata": {
      "needs_background": "light"
     },
     "output_type": "display_data"
    }
   ],
   "source": [
    "import pandas as pd\n",
    "import matplotlib.pyplot as plt\n",
    "\n",
    "# 스케일링한 데이터로 데이터프레임 생성\n",
    "lda_columns = ['LDA_component1','LDA_component2']\n",
    "iris_df = pd.DataFrame(iris_lda, columns = lda_columns)\n",
    "\n",
    "# target 컬럼 추가\n",
    "iris_df['target'] = iris.target\n",
    "\n",
    "\n",
    "# setosa의 target 값은 0, versicolor: 1, virginica: 2\n",
    "# setosa는 세모,  versicolor는 네모, virginica는 동그라미로 표현\n",
    "markers = ['^', 's', 'o']\n",
    "\n",
    "for i, marker in enumerate(markers):\n",
    "    x = iris_df[iris_df['target'] == i]['LDA_component1']\n",
    "    y = iris_df[iris_df['target'] == i]['LDA_component2']\n",
    "    plt.scatter(x, y, marker = marker, label = iris.target_names[i])\n",
    "\n",
    "plt.legend(loc = 'upper right')\n",
    "plt.xlabel('LDA_component1')\n",
    "plt.ylabel('LDA_component2')\n",
    "\n",
    "plt.show()"
   ]
  },
  {
   "cell_type": "markdown",
   "id": "f446687f",
   "metadata": {},
   "source": [
    "# SVD\n",
    "\n",
    "<img src = 'SVD.jpg' STYLE = 'width: 500px;'>"
   ]
  },
  {
   "cell_type": "markdown",
   "id": "38406a28",
   "metadata": {},
   "source": [
    "#### 임의의 4X4 행렬 생성"
   ]
  },
  {
   "cell_type": "code",
   "execution_count": 50,
   "id": "25c7d75b",
   "metadata": {},
   "outputs": [
    {
     "name": "stdout",
     "output_type": "stream",
     "text": [
      "[[-0.212 -0.285 -0.574 -0.44 ]\n",
      " [-0.33   1.184  1.615  0.367]\n",
      " [-0.014  0.63   1.71  -1.327]\n",
      " [ 0.402 -0.191  1.404 -1.969]]\n"
     ]
    }
   ],
   "source": [
    "import numpy as np\n",
    "\n",
    "np.random.seed(121)\n",
    "\n",
    "# 표준정규분포를 따르는 인자를 가진 4행 4열의 행렬 생성\n",
    "a = np.random.randn(4,4)\n",
    "\n",
    "print(np.round(a,3))"
   ]
  },
  {
   "cell_type": "markdown",
   "id": "79c918cd",
   "metadata": {},
   "source": [
    "#### 특이벡터 및 시그마행렬 구하기"
   ]
  },
  {
   "cell_type": "code",
   "execution_count": 51,
   "id": "d3489163",
   "metadata": {},
   "outputs": [
    {
     "name": "stdout",
     "output_type": "stream",
     "text": [
      "[[-0.079 -0.318  0.867  0.376]\n",
      " [ 0.383  0.787  0.12   0.469]\n",
      " [ 0.656  0.022  0.357 -0.664]\n",
      " [ 0.645 -0.529 -0.328  0.444]] \n",
      "\n",
      " [3.423 2.023 0.463 0.079] \n",
      "\n",
      " [[ 0.041  0.224  0.786 -0.574]\n",
      " [-0.2    0.562  0.37   0.712]\n",
      " [-0.778  0.395 -0.333 -0.357]\n",
      " [-0.593 -0.692  0.366  0.189]]\n"
     ]
    }
   ],
   "source": [
    "from numpy.linalg import svd\n",
    "\n",
    "# U, V는 특이벡터이며, 직교 성질을 가짐\n",
    "## 직교: 전치벡터와 내적 시 단위행렬이 됨\n",
    "U, Sigma, Vt = svd(a)\n",
    "\n",
    "print(np.round(U,3), '\\n\\n', np.round(Sigma,3), '\\n\\n', np.round(Vt,3))"
   ]
  },
  {
   "cell_type": "markdown",
   "id": "7288a4bb",
   "metadata": {},
   "source": [
    "#### 원래 행렬 복원"
   ]
  },
  {
   "cell_type": "code",
   "execution_count": 52,
   "id": "b8f35370",
   "metadata": {},
   "outputs": [
    {
     "data": {
      "text/plain": [
       "array([[-0.21203317, -0.28492917, -0.57389821, -0.44031017],\n",
       "       [-0.33011056,  1.18369457,  1.61537293,  0.36706247],\n",
       "       [-0.01411931,  0.6296418 ,  1.70964074, -1.32698736],\n",
       "       [ 0.40187312, -0.19142667,  1.40382596, -1.96876855]])"
      ]
     },
     "execution_count": 52,
     "metadata": {},
     "output_type": "execute_result"
    }
   ],
   "source": [
    "# 시그마행렬은 대각행렬로 변환 후에 내적해야함\n",
    "\n",
    "np.dot(np.dot(U, np.diag(Sigma)),Vt )"
   ]
  },
  {
   "cell_type": "markdown",
   "id": "1448d608",
   "metadata": {},
   "source": [
    "### 행 간 의존성 부여"
   ]
  },
  {
   "cell_type": "code",
   "execution_count": 53,
   "id": "57dc6198",
   "metadata": {
    "scrolled": true
   },
   "outputs": [
    {
     "data": {
      "text/plain": [
       "array([[-0.21203317, -0.28492917, -0.57389821, -0.44031017],\n",
       "       [-0.33011056,  1.18369457,  1.61537293,  0.36706247],\n",
       "       [-0.01411931,  0.6296418 ,  1.70964074, -1.32698736],\n",
       "       [ 0.40187312, -0.19142667,  1.40382596, -1.96876855]])"
      ]
     },
     "execution_count": 53,
     "metadata": {},
     "output_type": "execute_result"
    }
   ],
   "source": [
    "a"
   ]
  },
  {
   "cell_type": "markdown",
   "id": "33bf35a0",
   "metadata": {},
   "source": [
    "#### 의존성 부여"
   ]
  },
  {
   "cell_type": "code",
   "execution_count": 54,
   "id": "ea8b6eec",
   "metadata": {},
   "outputs": [
    {
     "name": "stdout",
     "output_type": "stream",
     "text": [
      "[-0.01411931  0.6296418   1.70964074 -1.32698736] \n",
      "\n",
      "[-0.54214372  0.8987654   1.04147472 -0.0732477 ] \n",
      "\n",
      "[ 0.40187312 -0.19142667  1.40382596 -1.96876855] \n",
      "\n",
      "[-0.21203317 -0.28492917 -0.57389821 -0.44031017] \n",
      "\n"
     ]
    },
    {
     "data": {
      "text/plain": [
       "array([[-0.21203317, -0.28492917, -0.57389821, -0.44031017],\n",
       "       [-0.33011056,  1.18369457,  1.61537293,  0.36706247],\n",
       "       [-0.54214372,  0.8987654 ,  1.04147472, -0.0732477 ],\n",
       "       [-0.21203317, -0.28492917, -0.57389821, -0.44031017]])"
      ]
     },
     "execution_count": 54,
     "metadata": {},
     "output_type": "execute_result"
    }
   ],
   "source": [
    "print(a[2],'\\n')\n",
    "\n",
    "# 3행이 1행 + 2행이 되도록\n",
    "a[2] = a[0] + a[1]\n",
    "print(a[2],'\\n')\n",
    "\n",
    "\n",
    "print(a[3],'\\n')\n",
    "# 4행은 1행과 같도록\n",
    "a[3] = a[0]\n",
    "print(a[3],'\\n')\n",
    "\n",
    "a"
   ]
  },
  {
   "cell_type": "markdown",
   "id": "c68a2014",
   "metadata": {},
   "source": [
    "#### 특이벡터 및 시그마행렬 구하기"
   ]
  },
  {
   "cell_type": "code",
   "execution_count": 55,
   "id": "49ed283d",
   "metadata": {},
   "outputs": [
    {
     "name": "stdout",
     "output_type": "stream",
     "text": [
      "[[ 0.246  0.583 -0.071 -0.771]\n",
      " [-0.774 -0.017  0.551 -0.31 ]\n",
      " [-0.529  0.566 -0.551  0.31 ]\n",
      " [ 0.246  0.583  0.623  0.461]] \n",
      "\n",
      " [2.663 0.807 0.    0.   ] \n",
      "\n",
      " [[ 0.164 -0.575 -0.782 -0.173]\n",
      " [-0.68   0.194 -0.132 -0.695]\n",
      " [-0.703 -0.444  0.056  0.553]\n",
      " [-0.129  0.659 -0.606  0.426]]\n"
     ]
    }
   ],
   "source": [
    "U, Sigma, Vt = svd(a)\n",
    "print(np.round(U,3), '\\n\\n', np.round(Sigma,3), '\\n\\n', np.round(Vt,3))"
   ]
  },
  {
   "cell_type": "markdown",
   "id": "6e37aecf",
   "metadata": {},
   "source": [
    "- 시그마 대각요소들의 값 중 2개가 0으로 바뀜\n",
    "- 선형 독립인 로우 벡터 개수가 2개라는 의미임"
   ]
  },
  {
   "cell_type": "markdown",
   "id": "6109d2ed",
   "metadata": {},
   "source": [
    "#### 원래 행렬 복원"
   ]
  },
  {
   "cell_type": "code",
   "execution_count": 56,
   "id": "ca642632",
   "metadata": {},
   "outputs": [
    {
     "name": "stdout",
     "output_type": "stream",
     "text": [
      "[[ 0.24568427  0.58278576]\n",
      " [-0.77441642 -0.01670951]\n",
      " [-0.52873215  0.56607625]\n",
      " [ 0.24568427  0.58278576]] \n",
      "\n",
      " [[2.66335286 0.        ]\n",
      " [0.         0.80703506]] \n",
      "\n",
      " [[ 0.16449395 -0.57517122 -0.78233269 -0.17342252]\n",
      " [-0.67967123  0.19439734 -0.13178782 -0.69490191]]\n"
     ]
    }
   ],
   "source": [
    "# U 행렬의 경우는 Sigma와 내적을 수행하므로, Sigma와 앞 2행에 대응되는 앞 2열만 추출\n",
    "\n",
    "U_ = U[:,:2]\n",
    "Sigma_ = np.diag(Sigma[:2])\n",
    "\n",
    "\n",
    "# v전치 행렬의 경우는 앞의 2행만 추출\n",
    "Vt_ = Vt[:2]\n",
    "\n",
    "print(U_, '\\n\\n', Sigma_, '\\n\\n',Vt_)"
   ]
  },
  {
   "cell_type": "code",
   "execution_count": 57,
   "id": "b5fd92b6",
   "metadata": {},
   "outputs": [
    {
     "data": {
      "text/plain": [
       "array([[-0.21203317, -0.28492917, -0.57389821, -0.44031017],\n",
       "       [-0.33011056,  1.18369457,  1.61537293,  0.36706247],\n",
       "       [-0.54214372,  0.8987654 ,  1.04147472, -0.0732477 ],\n",
       "       [-0.21203317, -0.28492917, -0.57389821, -0.44031017]])"
      ]
     },
     "execution_count": 57,
     "metadata": {},
     "output_type": "execute_result"
    }
   ],
   "source": [
    "# 내적 수행\n",
    "a_ = np.dot(np.dot(U_, Sigma_), Vt_)\n",
    "a_"
   ]
  },
  {
   "cell_type": "markdown",
   "id": "84124ab5",
   "metadata": {},
   "source": [
    "### Truncated SVD\n",
    "- Truncate SVD는 Σ의 대각원소 중 상위 몇 개만 추출해서 여기에 대응하는 U와 V의 원소도 함께 제거해 더욱 차원을 줄인 형태로 분해함\n",
    "- 인위적으로 더 작은 차원의 U, Sigma, Vt로 분해하기 때문에 원본 행렬을 정확하게 다시 원복할 수는 없음\n",
    "- 하지만, 데이터 정보가 압축되어 불구하고 상당한 수준으로 원본 행렬을 근사할 수 있음\n",
    "- 차수가 원래 차원가 가까워질 수록, 원본 행렬에 더 가깝게 복원할 수 있음"
   ]
  },
  {
   "cell_type": "code",
   "execution_count": 58,
   "id": "9e826b80",
   "metadata": {},
   "outputs": [],
   "source": [
    "import numpy as np\n",
    "from scipy.sparse.linalg import svds\n",
    "from scipy.linalg import svd"
   ]
  },
  {
   "cell_type": "code",
   "execution_count": 59,
   "id": "c3627199",
   "metadata": {},
   "outputs": [
    {
     "name": "stdout",
     "output_type": "stream",
     "text": [
      "원본행렬:\n",
      " [[0.11133083 0.21076757 0.23296249 0.15194456 0.83017814 0.40791941]\n",
      " [0.5557906  0.74552394 0.24849976 0.9686594  0.95268418 0.48984885]\n",
      " [0.01829731 0.85760612 0.40493829 0.62247394 0.29537149 0.92958852]\n",
      " [0.4056155  0.56730065 0.24575605 0.22573721 0.03827786 0.58098021]\n",
      " [0.82925331 0.77326256 0.94693849 0.73632338 0.67328275 0.74517176]\n",
      " [0.51161442 0.46920965 0.6439515  0.82081228 0.14548493 0.01806415]]\n",
      "\n",
      "U의 차원: (6, 6), Sigma 차원: (6,), Vt 차원: (6, 6)\n",
      "\n",
      "Sigma값 행렬: [3.2535007  0.88116505 0.83865238 0.55463089 0.35834824 0.0349925 ]\n"
     ]
    }
   ],
   "source": [
    "# 원본 행렬을 출력\n",
    "np.random.seed(121)\n",
    "matrix = np.random.random((6,6))\n",
    "print(f'원본행렬:\\n {matrix}')\n",
    "\n",
    "\n",
    "\n",
    "# SVD 적용할 경우, U, Sigma, Vt 차원 확인\n",
    "U, Sigma, Vt = svd(matrix)\n",
    "print(f'\\nU의 차원: {U.shape}, Sigma 차원: {Sigma.shape}, Vt 차원: {Vt.shape}')\n",
    "print(f'\\nSigma값 행렬: {Sigma}')\n"
   ]
  },
  {
   "cell_type": "code",
   "execution_count": 60,
   "id": "0f3ec7cf",
   "metadata": {},
   "outputs": [
    {
     "name": "stdout",
     "output_type": "stream",
     "text": [
      "\n",
      "Truncated SVD 분해 행렬 차원: (6, 4)\n",
      "Truncated SVD Sigma 차원: (4,)\n",
      "Truncated SVD Vt 차원: (4, 6)\n",
      "\n",
      "Truncated SVD로 분해 후 복원된 행렬: \n",
      "[[0.19222941 0.21792946 0.15951023 0.14084013 0.81641405 0.42533093]\n",
      " [0.44874275 0.72204422 0.34594106 0.99148577 0.96866325 0.4754868 ]\n",
      " [0.12656662 0.88860729 0.30625735 0.59517439 0.28036734 0.93961948]\n",
      " [0.23989012 0.51026588 0.39697353 0.27308905 0.05971563 0.57156395]\n",
      " [0.83806144 0.78847467 0.93868685 0.72673231 0.6740867  0.73812389]\n",
      " [0.59726589 0.47953891 0.56613544 0.80746028 0.13135039 0.03479656]]\n"
     ]
    }
   ],
   "source": [
    "# Truncated SVD의 Sigma 행렬의 특이값을 4개로 하여 Truncated SVD 수행\n",
    "num_components = 4\n",
    "U_tr, Sigma_tr, Vt_tr = svds(matrix, num_components)\n",
    "print(f'\\nTruncated SVD 분해 행렬 차원: {U_tr.shape}')\n",
    "print(f'Truncated SVD Sigma 차원: {Sigma_tr.shape}')\n",
    "print(f'Truncated SVD Vt 차원: {Vt_tr.shape}')\n",
    "matrix_tr = np.dot(np.dot(U_tr, np.diag(Sigma_tr)), Vt_tr)\n",
    "# 복원\n",
    "print(f'\\nTruncated SVD로 분해 후 복원된 행렬: \\n{matrix_tr}')"
   ]
  },
  {
   "cell_type": "markdown",
   "id": "125a4bd4",
   "metadata": {},
   "source": [
    "#### 과제 2:\n",
    "사이킷런 TruncatedSVD 클래스를 이용한 변환을 수행하고 PCA방식과 시각화하여 비교하기"
   ]
  },
  {
   "cell_type": "code",
   "execution_count": 28,
   "id": "cc0cbc69",
   "metadata": {},
   "outputs": [],
   "source": [
    "from sklearn.decomposition import TruncatedSVD, PCA\n",
    "from sklearn.datasets import load_iris\n",
    "import matplotlib.pyplot as plt"
   ]
  },
  {
   "cell_type": "code",
   "execution_count": 29,
   "id": "82649ce2",
   "metadata": {},
   "outputs": [
    {
     "data": {
      "text/plain": [
       "Text(0, 0.5, 'TruncatedSVD Component 2')"
      ]
     },
     "execution_count": 29,
     "metadata": {},
     "output_type": "execute_result"
    },
    {
     "data": {
      "image/png": "[encoded data removed]",
      "text/plain": [
       "<Figure size 432x288 with 1 Axes>"
      ]
     },
     "metadata": {
      "needs_background": "light"
     },
     "output_type": "display_data"
    }
   ],
   "source": [
    "iris = load_iris()\n",
    "iris_ftrs = iris.data\n",
    "\n",
    "#TruncatedSVD 변환\n",
    "tsvd = TruncatedSVD(n_components = 2)\n",
    "tsvd.fit(iris_ftrs)\n",
    "iris_tsvd = tsvd.transform(iris_ftrs)\n",
    "\n",
    "# 산점도를 2차원으로 TruncatedSVD 변환된 데이터 표현, 품종은 색깔로 구분\n",
    "plt.scatter(x = iris_tsvd[:, 0], y = iris_tsvd[:, 1], c = iris.target)\n",
    "plt.xlabel('TruncatedSVD Component 1')\n",
    "plt.ylabel('TruncatedSVD Component 2')"
   ]
  },
  {
   "cell_type": "markdown",
   "id": "a34cd55f",
   "metadata": {},
   "source": [
    "#### PCA와 비교"
   ]
  },
  {
   "cell_type": "code",
   "execution_count": 35,
   "id": "cda0194b",
   "metadata": {},
   "outputs": [
    {
     "data": {
      "text/plain": [
       "Text(0.5, 1.0, 'PCA Transformed')"
      ]
     },
     "execution_count": 35,
     "metadata": {},
     "output_type": "execute_result"
    },
    {
     "data": {
      "image/png": "[encoded data removed]",
      "text/plain": [
       "<Figure size 648x288 with 2 Axes>"
      ]
     },
     "metadata": {
      "needs_background": "light"
     },
     "output_type": "display_data"
    }
   ],
   "source": [
    "# 원본데이터를 기반으로 TruncatedSVD 변환수행\n",
    "tvsd = TruncatedSVD(n_components = 2)\n",
    "tvsd.fit(iris_ftrs)\n",
    "iris_tsvd = tvsd.transform(iris_ftrs)\n",
    "\n",
    "# 원본데이터를 기반으로 PCA 수행\n",
    "pca = PCA(n_components = 2)\n",
    "pca.fit(iris_ftrs)\n",
    "iris_pca = pca.transform(iris_ftrs)\n",
    "\n",
    "# 산점도에 시각화\n",
    "fig, (ax1, ax2) = plt.subplots(figsize = (9,4), ncols = 2)\n",
    "\n",
    "ax1.scatter(iris_tsvd[:,0], iris_tsvd[:,1], c = iris.target)\n",
    "ax2.scatter(iris_pca[:,0], iris_pca[:,1], c = iris.target)\n",
    "\n",
    "ax1.set_title('TruncatedSVD Transformed')\n",
    "ax2.set_title('PCA Transformed')"
   ]
  },
  {
   "cell_type": "markdown",
   "id": "b66caeea",
   "metadata": {},
   "source": [
    "- 사이킷런의 TruncatedSVD, PCA 클래스 모두 SVD를 이용해 행렬을 분해함\n",
    "- 붓꽃 데이터를 스케일링으로 변환한 뒤, TruncatedSVDDHK PCA 클래스 변환을 해보면 두개가 거의 동일함"
   ]
  },
  {
   "cell_type": "code",
   "execution_count": 38,
   "id": "61da5247",
   "metadata": {},
   "outputs": [
    {
     "data": {
      "text/plain": [
       "Text(0.5, 1.0, 'PCA Transformed')"
      ]
     },
     "execution_count": 38,
     "metadata": {},
     "output_type": "execute_result"
    },
    {
     "data": {
      "image/png": "[encoded data removed]",
      "text/plain": [
       "<Figure size 648x288 with 2 Axes>"
      ]
     },
     "metadata": {
      "needs_background": "light"
     },
     "output_type": "display_data"
    }
   ],
   "source": [
    "from sklearn.preprocessing import StandardScaler\n",
    "\n",
    "\n",
    "# 표준정규분포를 따르도록 스케일링\n",
    "scaler = StandardScaler()\n",
    "iris_scaled = scaler.fit_transform(iris_ftrs)\n",
    "\n",
    "# 스케일링된 데이터를 기반으로 TruncatedSVD 변환수행\n",
    "tvsd = TruncatedSVD(n_components = 2)\n",
    "tvsd.fit(iris_scaled)\n",
    "iris_tsvd = tvsd.transform(iris_scaled)\n",
    "\n",
    "# 스케일링된 데이터를 기반으로 PCA 수행\n",
    "pca = PCA(n_components = 2)\n",
    "pca.fit(iris_scaled)\n",
    "iris_pca = pca.transform(iris_scaled)\n",
    "\n",
    "# 산점도에 시각화\n",
    "fig, (ax1, ax2) = plt.subplots(figsize = (9,4), ncols = 2)\n",
    "\n",
    "ax1.scatter(iris_tsvd[:,0], iris_tsvd[:,1], c = iris.target)\n",
    "ax2.scatter(iris_pca[:,0], iris_pca[:,1], c = iris.target)\n",
    "\n",
    "ax1.set_title('TruncatedSVD Transformed')\n",
    "ax2.set_title('PCA Transformed')"
   ]
  },
  {
   "cell_type": "code",
   "execution_count": 42,
   "id": "dbd78293",
   "metadata": {},
   "outputs": [
    {
     "name": "stdout",
     "output_type": "stream",
     "text": [
      "2.3369963371896083e-15\n"
     ]
    }
   ],
   "source": [
    "print((iris_pca - iris_tsvd).mean())"
   ]
  },
  {
   "cell_type": "code",
   "execution_count": 43,
   "id": "fcbf185d",
   "metadata": {},
   "outputs": [
    {
     "name": "stdout",
     "output_type": "stream",
     "text": [
      "0.14980502560478304\n"
     ]
    }
   ],
   "source": [
    "print((pca.components_ - tsvd.components_).mean())"
   ]
  },
  {
   "cell_type": "markdown",
   "id": "1eff0bdd",
   "metadata": {},
   "source": [
    "- 모두 0에 가까운 값으로 2개의 변환이 서로 동일함을 알 수 있음\n",
    "- 데이터 세트가 스케일링으로 데이터 중심이 동일해지면 사이킷런의 SVD와 PCA는 동일한 변환을 수행함\n",
    "- 이는 PCA가 SVD 알고리즘으로 구현됐음을 의미\n",
    "- 하지만 PCA는 밀집 행렬에 대한 변환만 가능하고, SVD는 희소 행렬에 대한 변환도 가능함\n",
    "    - 희소행렬(sparse matrix)은 행렬의 값이 대부분 0인 경우를 가리키는 표현\n",
    "    <img src = \"https://wikimedia.org/api/rest_v1/media/math/render/svg/dbbd270e3e174daa36d9c2460211fe6f8569c0e6\"\n",
    "         style = 'width:200px;'>\n",
    "    - 밀집행렬은 그 반대"
   ]
  },
  {
   "cell_type": "markdown",
   "id": "d458e1bb",
   "metadata": {},
   "source": [
    "# NMF\n",
    "- Truncated SVD와 같이 낮은 랭크를 통한 행렬근사 방식\n",
    "- 원본 행렬 내 모든 원소 값이 양수(0 이상)이라는게 보장되면, 두 개의 양수 행렬로 분해될 수 있는 기법을 지칭함\n",
    "<img src = 'data:image/png;base64,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' style = 'width:600px;'>\n",
    "\n",
    "- 이렇게 행렬 분해를 하게 되면 일반적으로, 길고 가는 행렬인 W 행렬, 작고 넓은 행렬인 H행렬로 분해됨\n",
    "- 이렇게 분해된 행렬은 잠재 요소를 특성으로 갖게 됨\n",
    "- 분해 행렬 W는 원본에 대해 이 잠재 요소 값이 얼마나 되는지 대응함\n",
    "- 분해 행렬 H는 이 잠재 요소가 원본 열(즉, 원본 속성)로 어떻게 구성됐는지를 나타내는 행렬"
   ]
  },
  {
   "cell_type": "markdown",
   "id": "4eb0f7f0",
   "metadata": {},
   "source": [
    "#### 과제 3:\n",
    "사이킷런 NMF 클래스를 이용한 변환 수행 시각화"
   ]
  },
  {
   "cell_type": "code",
   "execution_count": 45,
   "id": "f502c5eb",
   "metadata": {},
   "outputs": [
    {
     "name": "stderr",
     "output_type": "stream",
     "text": [
      "C:\\Users\\NEW\\anaconda3\\envs\\cakd7\\lib\\site-packages\\sklearn\\decomposition\\_nmf.py:1692: ConvergenceWarning: Maximum number of iterations 200 reached. Increase it to improve convergence.\n",
      "  warnings.warn(\n"
     ]
    },
    {
     "data": {
      "image/png": "[encoded data removed]",
      "text/plain": [
       "<Figure size 432x288 with 1 Axes>"
      ]
     },
     "metadata": {
      "needs_background": "light"
     },
     "output_type": "display_data"
    }
   ],
   "source": [
    "from sklearn.decomposition import NMF\n",
    "from sklearn.datasets import load_iris\n",
    "import matplotlib.pyplot as plt\n",
    "\n",
    "\n",
    "# 데이터 불러오기\n",
    "iris = load_iris()\n",
    "iris_ftrs = iris.data\n",
    "\n",
    "# NMF 변환\n",
    "nmf = NMF(n_components = 2)\n",
    "nmf.fit(iris_ftrs)\n",
    "iris_nmf = nmf.transform(iris_ftrs)\n",
    "\n",
    "# 시각화\n",
    "plt.scatter(iris_nmf[:,0], iris_nmf[:,1], c = iris.target)\n",
    "plt.xlabel('NMF Component 1')\n",
    "plt.ylabel('NMF Component 2')\n",
    "\n",
    "plt.show()"
   ]
  }
 ],
 "metadata": {
  "kernelspec": {
   "display_name": "Python 3 (ipykernel)",
   "language": "python",
   "name": "python3"
  },
  "language_info": {
   "codemirror_mode": {
    "name": "ipython",
    "version": 3
   },
   "file_extension": ".py",
   "mimetype": "text/x-python",
   "name": "python",
   "nbconvert_exporter": "python",
   "pygments_lexer": "ipython3",
   "version": "3.8.13"
  },
  "toc": {
   "base_numbering": 1,
   "nav_menu": {},
   "number_sections": true,
   "sideBar": true,
   "skip_h1_title": false,
   "title_cell": "Table of Contents",
   "title_sidebar": "Contents",
   "toc_cell": false,
   "toc_position": {
    "height": "calc(100% - 180px)",
    "left": "10px",
    "top": "150px",
    "width": "349.087px"
   },
   "toc_section_display": true,
   "toc_window_display": true
  }
 },
 "nbformat": 4,
 "nbformat_minor": 5
}
