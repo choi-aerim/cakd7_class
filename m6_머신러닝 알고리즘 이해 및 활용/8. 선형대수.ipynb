{
 "cells": [
  {
   "cell_type": "markdown",
   "id": "59de673f",
   "metadata": {},
   "source": [
    "## 데이터와 행렬\n",
    "- 스칼라 : 숫자 하나만으로 이루어진 데이터\n",
    "- 벡터 : 여러 숫자가 특정한 순서대로 모여 있는 것을 의미. 하나의 벡터를 이루는 데이터 수가 n개이면 n-차원 벡터라고 함\n",
    "- 열벡터는 열의 수가 1인 행렬\n",
    "- 하나의 데이터 레코드를 단독으로 벡터로 나타낼 때는 하나의 열로 나타내고,\n",
    "복수의 데이터 레코드 집합을 행렬로 나타낼 때는 하나의 데이터 레코드가 하나의 행으로 표기하는 것은 데이터 분석에서 일반적인 관례\n",
    "- 스칼라와 벡터도 수학적으로는 행렬에 속한다.\n",
    "- 스칼라는 열과 행의 수가 각각 1인 행렬이고 벡터는 열의 수가 1인 행렬이다.\n",
    "![nn](cf1.png)"
   ]
  },
  {
   "cell_type": "markdown",
   "id": "41cc3cda",
   "metadata": {},
   "source": [
    "## Python Numpy 선형대수\n",
    "#### 전체 cf) https://rfriend.tistory.com/380\n",
    "- 단위행렬 (Unit matrix): np.eye(n)\n",
    "- 대각행렬 (Diagonal matrix): np.diag(x)\n",
    "- 내적 (Dot product, Inner product): np.dot(a, b)\n",
    "- 대각합 (Trace): np.trace(x)\n",
    "cf)https://jimmy-ai.tistory.com/212\n",
    "- 행렬식 (Matrix Determinant): np.linalg.det(x)\n",
    "- 역행렬 (Inverse of a matrix): np.linalg.inv(x)\n",
    "- 고유값 (Eigenvalue), 고유벡터 (Eigenvector): w, v = np.linalg.eig(x)\n",
    "- 특이값 분해 (Singular Value Decomposition): u, s, vh = np.linalg.svd(A)\n",
    "\n"
   ]
  },
  {
   "cell_type": "code",
   "execution_count": 2,
   "id": "7717512a",
   "metadata": {},
   "outputs": [
    {
     "data": {
      "text/plain": [
       "array([[1., 0., 0., 0., 0.],\n",
       "       [0., 1., 0., 0., 0.],\n",
       "       [0., 0., 1., 0., 0.],\n",
       "       [0., 0., 0., 1., 0.],\n",
       "       [0., 0., 0., 0., 1.]])"
      ]
     },
     "execution_count": 2,
     "metadata": {},
     "output_type": "execute_result"
    }
   ],
   "source": [
    "#단위행렬(항등행렬) \n",
    "#np.eye()의 인자값은 대각선 1들의 합, 정방행렬\n",
    "import numpy as np\n",
    "\n",
    "np.eye(5)"
   ]
  },
  {
   "cell_type": "markdown",
   "id": "26da8bae",
   "metadata": {},
   "source": [
    "#### [과제_1013_1] 상기 각 항목에 대한 예제를 풀어보세요."
   ]
  },
  {
   "cell_type": "code",
   "execution_count": 6,
   "id": "13699db8",
   "metadata": {},
   "outputs": [
    {
     "data": {
      "text/plain": [
       "array([[5, 0, 0],\n",
       "       [0, 2, 0],\n",
       "       [0, 0, 1]])"
      ]
     },
     "execution_count": 6,
     "metadata": {},
     "output_type": "execute_result"
    }
   ],
   "source": [
    "#대각행렬 - 대각행렬은 주대각선 원소를 제외한 모든 원소들이 0인 정방행렬\n",
    "#1차원 혹은 2차원 배열이 들어가야함 \n",
    "np.diag((5, 2, 1))"
   ]
  },
  {
   "cell_type": "code",
   "execution_count": 8,
   "id": "065f9422",
   "metadata": {},
   "outputs": [
    {
     "name": "stdout",
     "output_type": "stream",
     "text": [
      "[[1 2 3]\n",
      " [4 5 6]] \n",
      "\n",
      "[[ 7  8]\n",
      " [ 9 10]\n",
      " [11 12]] \n",
      "\n",
      "[[ 58  64]\n",
      " [139 154]]\n"
     ]
    }
   ],
   "source": [
    "#내적\n",
    "#우선 두 벡터의 차원(길이)이 같아야 함\n",
    "#앞의 벡터가 행 벡터이고 뒤의 벡터가 열 벡터여야 함\n",
    "\n",
    "a = np.arange(1,7).reshape(2,3)\n",
    "b = np.arange(7,13).reshape(3,2)\n",
    "print(a, '\\n')\n",
    "print(b, '\\n')\n",
    "\n",
    "print(np.dot(a, b))"
   ]
  },
  {
   "cell_type": "code",
   "execution_count": 10,
   "id": "017052e4",
   "metadata": {},
   "outputs": [
    {
     "name": "stdout",
     "output_type": "stream",
     "text": [
      "15\n",
      "8\n",
      "12\n"
     ]
    }
   ],
   "source": [
    "# 대각합 - 2차원일때 \n",
    "# np.trace(배열, 숫자) 형태로 숫자가 양수면 우측으로 해당 칸만큼 이동한 방향의 대각합,\n",
    "# 음수면 같은 식으로 왼쪽으로 움직인 방향의 대각합도 구할 수 있습니다\n",
    "\n",
    "import numpy as np\n",
    "\n",
    "a = np.array([[1, 2, 3],\n",
    "              [4, 5, 6],\n",
    "              [7, 8, 9]])\n",
    "\n",
    "print(np.trace(a)) # 15\n",
    "print(np.trace(a, 1)) # 8\n",
    "print(np.trace(a, -1)) # 12"
   ]
  },
  {
   "cell_type": "code",
   "execution_count": 11,
   "id": "0843fed8",
   "metadata": {},
   "outputs": [
    {
     "name": "stdout",
     "output_type": "stream",
     "text": [
      "7\n",
      "9\n",
      "11\n"
     ]
    }
   ],
   "source": [
    "#2차원에서 정방행렬이 아닌 경우\n",
    "b = np.array([[1, 2, 3, 4],\n",
    "              [5, 6, 7, 8]])\n",
    "\n",
    "print(np.trace(b)) # 7  처음기준은 첫행의 대각선 \n",
    "print(np.trace(b, 1)) # 9\n",
    "print(np.trace(b, 2)) # 11"
   ]
  },
  {
   "cell_type": "code",
   "execution_count": 3,
   "id": "4c17b8d1",
   "metadata": {},
   "outputs": [
    {
     "data": {
      "text/plain": [
       "array([ 5, 13])"
      ]
     },
     "execution_count": 3,
     "metadata": {},
     "output_type": "execute_result"
    }
   ],
   "source": [
    "#3차원 이상\n",
    "\n",
    "c = np.array([[[1, 2],\n",
    "              [3, 4]],\n",
    "              \n",
    "              [[5, 6],\n",
    "               [7, 8]]])\n",
    "\n",
    "np.trace(c, axis1 = 1, axis2 = 2) # array([ 5, 13])\n",
    "\n"
   ]
  },
  {
   "cell_type": "markdown",
   "id": "ce111b65",
   "metadata": {},
   "source": [
    "넵 안녕하세요. 대각합은 원래 2차원 행렬에 대하여 정의되는 연산이죠. 3차원 이상이라면 2차원 배열 여러 개가 붙어있는 식으로 볼 수 있는데요. 이 때 어느 축을 기준으로 2차원 배열이 붙어있다고 가정할 것인지를 정하는 것입니다. 위 예에서 axis1 = 1, axis2 = 2로 지정 시에는 내부의 1, 2, 3, 4 행렬과 5, 6, 7, 8 행렬 두 개가 붙어있는 것으로 보아 각 행렬에서의 대각합인 1 + 4 = 5와 5 + 8 = 13이 반환되는 것입니다. 더 자세한 내용이 궁금하시면 위 예에서 axis1, axis2의 값을 바꿔가면서 한 번 코드를 실행해보세요!"
   ]
  },
  {
   "cell_type": "code",
   "execution_count": 13,
   "id": "ce445076",
   "metadata": {},
   "outputs": [
    {
     "data": {
      "text/plain": [
       "-2.0000000000000004"
      ]
     },
     "execution_count": 13,
     "metadata": {},
     "output_type": "execute_result"
    }
   ],
   "source": [
    "# 행렬식 - 정방행렬이 아닌 경우는 사용이 불가능\n",
    "# 역행렬이 존재하는지 여부를 확인하는 방법으로 행렬식(determinant, 줄여서 det)이라는 지표를 사용함 \n",
    "# 이 행렬식이 '0'이 아니면 역행렬이 존재하고, 이 행렬식이 '0'이면 역행렬이 존재하지 않음\n",
    "\n",
    "a = np.array([[1, 2], \n",
    "              [3, 4]])\n",
    "\n",
    "np.linalg.det(a)"
   ]
  },
  {
   "cell_type": "code",
   "execution_count": 14,
   "id": "44c5326c",
   "metadata": {},
   "outputs": [
    {
     "name": "stdout",
     "output_type": "stream",
     "text": [
      "[[1 2 1]\n",
      " [2 2 3]\n",
      " [1 3 1]] \n",
      "\n",
      "[[ 7. -1. -4.]\n",
      " [-1.  0.  1.]\n",
      " [-4.  1.  2.]]\n"
     ]
    }
   ],
   "source": [
    "#역행렬\n",
    "# 어떤 행렬 A와 곱했을 때, 곱셈에 대한 항등원인 항등 행렬 E가 나오는 행렬을 행렬 A의 역행렬이라 함. (모든 행렬이 역행렬을 갖는건 아니다.)\n",
    "np.random.seed(0)\n",
    "mt1 = np.random.randint(1, 4, size = (3, 3))\n",
    "print(mt1, '\\n')\n",
    "\n",
    "mt2 = np.linalg.inv(mt1)    #역행렬 구하는 함수\n",
    "print(mt2)"
   ]
  },
  {
   "cell_type": "code",
   "execution_count": 15,
   "id": "251dfc3b",
   "metadata": {},
   "outputs": [
    {
     "data": {
      "text/plain": [
       "array([[1., 0., 0.],\n",
       "       [0., 1., 0.],\n",
       "       [0., 0., 1.]])"
      ]
     },
     "execution_count": 15,
     "metadata": {},
     "output_type": "execute_result"
    }
   ],
   "source": [
    "np.dot(mt1, mt2) #항등 행렬 나옴 ~! "
   ]
  },
  {
   "cell_type": "markdown",
   "id": "589bfe08",
   "metadata": {},
   "source": [
    "cf) 어떤 평면 a가 있고 이 평면위에 도형 A가 있으면 이도형의 모든 점에서 평면에 수선의 발을 내렸을 때, 이 수선의 발들로 이루어진 도형 b가 도형 A의 평면 a위로의 정사영 \n",
    "![nn](내적.jpg)"
   ]
  },
  {
   "cell_type": "markdown",
   "id": "2b5fb68f",
   "metadata": {},
   "source": [
    "벡터 a를 벡터 b와 같은 방향의 성분과 그렇지 않은 성분으로 분해한다고 할 때 $|a|cosθ$의 길이는 벡터 b와 같은 방향의 성분 길이와 같다.  \n",
    "\n",
    "벡터 a와 b의 내적은 벡터 b의 길이와 벡터 a에서 벡터 b와 같은 방향의 성분 길이를 곱한 것이다.\n",
    "\n",
    "- 행렬 내적은 행렬 곱이며 두 행렬 A와 B의 내적은 np.dot()을 이용해 계산이 가능\n",
    "- 행렬 내적의 특성으로 왼쪽 행렬의 열개수와 오른쪽 행렬의 행개수가 동일해야 내적 연산 가능\n",
    "\n",
    "\n"
   ]
  },
  {
   "cell_type": "code",
   "execution_count": null,
   "id": "816eb98d",
   "metadata": {},
   "outputs": [],
   "source": []
  },
  {
   "cell_type": "code",
   "execution_count": null,
   "id": "178eaa03",
   "metadata": {},
   "outputs": [],
   "source": []
  },
  {
   "cell_type": "code",
   "execution_count": null,
   "id": "0dd3821a",
   "metadata": {},
   "outputs": [],
   "source": []
  },
  {
   "cell_type": "markdown",
   "id": "c3144052",
   "metadata": {},
   "source": [
    "행렬 곱을 응용하여 신경망에 적용\n",
    "<img src = '행렬곱.jpg' STYLE = 'width: 300px;'> "
   ]
  },
  {
   "cell_type": "code",
   "execution_count": null,
   "id": "6b2d8b55",
   "metadata": {},
   "outputs": [],
   "source": []
  },
  {
   "cell_type": "code",
   "execution_count": null,
   "id": "646d06ac",
   "metadata": {},
   "outputs": [],
   "source": []
  },
  {
   "cell_type": "code",
   "execution_count": null,
   "id": "f5b3304e",
   "metadata": {},
   "outputs": [],
   "source": []
  },
  {
   "cell_type": "code",
   "execution_count": null,
   "id": "65b708b9",
   "metadata": {},
   "outputs": [],
   "source": []
  }
 ],
 "metadata": {
  "kernelspec": {
   "display_name": "Python 3 (ipykernel)",
   "language": "python",
   "name": "python3"
  },
  "language_info": {
   "codemirror_mode": {
    "name": "ipython",
    "version": 3
   },
   "file_extension": ".py",
   "mimetype": "text/x-python",
   "name": "python",
   "nbconvert_exporter": "python",
   "pygments_lexer": "ipython3",
   "version": "3.8.13"
  },
  "toc": {
   "base_numbering": 1,
   "nav_menu": {},
   "number_sections": true,
   "sideBar": true,
   "skip_h1_title": false,
   "title_cell": "Table of Contents",
   "title_sidebar": "Contents",
   "toc_cell": false,
   "toc_position": {},
   "toc_section_display": true,
   "toc_window_display": false
  }
 },
 "nbformat": 4,
 "nbformat_minor": 5
}
