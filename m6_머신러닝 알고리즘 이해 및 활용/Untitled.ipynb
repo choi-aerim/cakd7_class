{
 "cells": [
  {
   "cell_type": "markdown",
   "id": "d1278aa7",
   "metadata": {},
   "source": [
    "## 데이터 불러오기"
   ]
  },
  {
   "cell_type": "markdown",
   "id": "a396d1c9",
   "metadata": {},
   "source": [
    "<b>targetdata<br></b>\n",
    "- Class: 0(사기가 아닌 정상적 신용카드 트랜잭션), 1(사기 트랜잭션)"
   ]
  },
  {
   "cell_type": "code",
   "execution_count": 1,
   "id": "04227ce4",
   "metadata": {},
   "outputs": [
    {
     "data": {
      "text/html": [
       "<div>\n",
       "<style scoped>\n",
       "    .dataframe tbody tr th:only-of-type {\n",
       "        vertical-align: middle;\n",
       "    }\n",
       "\n",
       "    .dataframe tbody tr th {\n",
       "        vertical-align: top;\n",
       "    }\n",
       "\n",
       "    .dataframe thead th {\n",
       "        text-align: right;\n",
       "    }\n",
       "</style>\n",
       "<table border=\"1\" class=\"dataframe\">\n",
       "  <thead>\n",
       "    <tr style=\"text-align: right;\">\n",
       "      <th></th>\n",
       "      <th>Time</th>\n",
       "      <th>V1</th>\n",
       "      <th>V2</th>\n",
       "      <th>V3</th>\n",
       "      <th>V4</th>\n",
       "      <th>V5</th>\n",
       "      <th>V6</th>\n",
       "      <th>V7</th>\n",
       "      <th>V8</th>\n",
       "      <th>V9</th>\n",
       "      <th>...</th>\n",
       "      <th>V21</th>\n",
       "      <th>V22</th>\n",
       "      <th>V23</th>\n",
       "      <th>V24</th>\n",
       "      <th>V25</th>\n",
       "      <th>V26</th>\n",
       "      <th>V27</th>\n",
       "      <th>V28</th>\n",
       "      <th>Amount</th>\n",
       "      <th>Class</th>\n",
       "    </tr>\n",
       "  </thead>\n",
       "  <tbody>\n",
       "    <tr>\n",
       "      <th>0</th>\n",
       "      <td>0.0</td>\n",
       "      <td>-1.359807</td>\n",
       "      <td>-0.072781</td>\n",
       "      <td>2.536347</td>\n",
       "      <td>1.378155</td>\n",
       "      <td>-0.338321</td>\n",
       "      <td>0.462388</td>\n",
       "      <td>0.239599</td>\n",
       "      <td>0.098698</td>\n",
       "      <td>0.363787</td>\n",
       "      <td>...</td>\n",
       "      <td>-0.018307</td>\n",
       "      <td>0.277838</td>\n",
       "      <td>-0.110474</td>\n",
       "      <td>0.066928</td>\n",
       "      <td>0.128539</td>\n",
       "      <td>-0.189115</td>\n",
       "      <td>0.133558</td>\n",
       "      <td>-0.021053</td>\n",
       "      <td>149.62</td>\n",
       "      <td>0</td>\n",
       "    </tr>\n",
       "    <tr>\n",
       "      <th>1</th>\n",
       "      <td>0.0</td>\n",
       "      <td>1.191857</td>\n",
       "      <td>0.266151</td>\n",
       "      <td>0.166480</td>\n",
       "      <td>0.448154</td>\n",
       "      <td>0.060018</td>\n",
       "      <td>-0.082361</td>\n",
       "      <td>-0.078803</td>\n",
       "      <td>0.085102</td>\n",
       "      <td>-0.255425</td>\n",
       "      <td>...</td>\n",
       "      <td>-0.225775</td>\n",
       "      <td>-0.638672</td>\n",
       "      <td>0.101288</td>\n",
       "      <td>-0.339846</td>\n",
       "      <td>0.167170</td>\n",
       "      <td>0.125895</td>\n",
       "      <td>-0.008983</td>\n",
       "      <td>0.014724</td>\n",
       "      <td>2.69</td>\n",
       "      <td>0</td>\n",
       "    </tr>\n",
       "    <tr>\n",
       "      <th>2</th>\n",
       "      <td>1.0</td>\n",
       "      <td>-1.358354</td>\n",
       "      <td>-1.340163</td>\n",
       "      <td>1.773209</td>\n",
       "      <td>0.379780</td>\n",
       "      <td>-0.503198</td>\n",
       "      <td>1.800499</td>\n",
       "      <td>0.791461</td>\n",
       "      <td>0.247676</td>\n",
       "      <td>-1.514654</td>\n",
       "      <td>...</td>\n",
       "      <td>0.247998</td>\n",
       "      <td>0.771679</td>\n",
       "      <td>0.909412</td>\n",
       "      <td>-0.689281</td>\n",
       "      <td>-0.327642</td>\n",
       "      <td>-0.139097</td>\n",
       "      <td>-0.055353</td>\n",
       "      <td>-0.059752</td>\n",
       "      <td>378.66</td>\n",
       "      <td>0</td>\n",
       "    </tr>\n",
       "    <tr>\n",
       "      <th>3</th>\n",
       "      <td>1.0</td>\n",
       "      <td>-0.966272</td>\n",
       "      <td>-0.185226</td>\n",
       "      <td>1.792993</td>\n",
       "      <td>-0.863291</td>\n",
       "      <td>-0.010309</td>\n",
       "      <td>1.247203</td>\n",
       "      <td>0.237609</td>\n",
       "      <td>0.377436</td>\n",
       "      <td>-1.387024</td>\n",
       "      <td>...</td>\n",
       "      <td>-0.108300</td>\n",
       "      <td>0.005274</td>\n",
       "      <td>-0.190321</td>\n",
       "      <td>-1.175575</td>\n",
       "      <td>0.647376</td>\n",
       "      <td>-0.221929</td>\n",
       "      <td>0.062723</td>\n",
       "      <td>0.061458</td>\n",
       "      <td>123.50</td>\n",
       "      <td>0</td>\n",
       "    </tr>\n",
       "    <tr>\n",
       "      <th>4</th>\n",
       "      <td>2.0</td>\n",
       "      <td>-1.158233</td>\n",
       "      <td>0.877737</td>\n",
       "      <td>1.548718</td>\n",
       "      <td>0.403034</td>\n",
       "      <td>-0.407193</td>\n",
       "      <td>0.095921</td>\n",
       "      <td>0.592941</td>\n",
       "      <td>-0.270533</td>\n",
       "      <td>0.817739</td>\n",
       "      <td>...</td>\n",
       "      <td>-0.009431</td>\n",
       "      <td>0.798278</td>\n",
       "      <td>-0.137458</td>\n",
       "      <td>0.141267</td>\n",
       "      <td>-0.206010</td>\n",
       "      <td>0.502292</td>\n",
       "      <td>0.219422</td>\n",
       "      <td>0.215153</td>\n",
       "      <td>69.99</td>\n",
       "      <td>0</td>\n",
       "    </tr>\n",
       "  </tbody>\n",
       "</table>\n",
       "<p>5 rows × 31 columns</p>\n",
       "</div>"
      ],
      "text/plain": [
       "   Time        V1        V2        V3        V4        V5        V6        V7  \\\n",
       "0   0.0 -1.359807 -0.072781  2.536347  1.378155 -0.338321  0.462388  0.239599   \n",
       "1   0.0  1.191857  0.266151  0.166480  0.448154  0.060018 -0.082361 -0.078803   \n",
       "2   1.0 -1.358354 -1.340163  1.773209  0.379780 -0.503198  1.800499  0.791461   \n",
       "3   1.0 -0.966272 -0.185226  1.792993 -0.863291 -0.010309  1.247203  0.237609   \n",
       "4   2.0 -1.158233  0.877737  1.548718  0.403034 -0.407193  0.095921  0.592941   \n",
       "\n",
       "         V8        V9  ...       V21       V22       V23       V24       V25  \\\n",
       "0  0.098698  0.363787  ... -0.018307  0.277838 -0.110474  0.066928  0.128539   \n",
       "1  0.085102 -0.255425  ... -0.225775 -0.638672  0.101288 -0.339846  0.167170   \n",
       "2  0.247676 -1.514654  ...  0.247998  0.771679  0.909412 -0.689281 -0.327642   \n",
       "3  0.377436 -1.387024  ... -0.108300  0.005274 -0.190321 -1.175575  0.647376   \n",
       "4 -0.270533  0.817739  ... -0.009431  0.798278 -0.137458  0.141267 -0.206010   \n",
       "\n",
       "        V26       V27       V28  Amount  Class  \n",
       "0 -0.189115  0.133558 -0.021053  149.62      0  \n",
       "1  0.125895 -0.008983  0.014724    2.69      0  \n",
       "2 -0.139097 -0.055353 -0.059752  378.66      0  \n",
       "3 -0.221929  0.062723  0.061458  123.50      0  \n",
       "4  0.502292  0.219422  0.215153   69.99      0  \n",
       "\n",
       "[5 rows x 31 columns]"
      ]
     },
     "execution_count": 1,
     "metadata": {},
     "output_type": "execute_result"
    }
   ],
   "source": [
    "import pandas as pd\n",
    "import numpy as np\n",
    "import matplotlib.pyplot as plt\n",
    "import warnings\n",
    "warnings.filterwarnings('ignore')\n",
    "\n",
    "\n",
    "card_df = pd.read_csv('creditcard.csv')\n",
    "card_df.head()"
   ]
  },
  {
   "cell_type": "markdown",
   "id": "71d9d118",
   "metadata": {},
   "source": [
    "## 데이터 전처리"
   ]
  },
  {
   "cell_type": "markdown",
   "id": "44de3855",
   "metadata": {},
   "source": [
    "### 데이터 일차 가공 후 모델 학습/예측/평가"
   ]
  },
  {
   "cell_type": "markdown",
   "id": "1c795974",
   "metadata": {},
   "source": [
    "#### 불필요한 피처 삭제"
   ]
  },
  {
   "cell_type": "code",
   "execution_count": 2,
   "id": "fb3cdf92",
   "metadata": {},
   "outputs": [],
   "source": [
    "# 인자로 입력받은 데이터프레임을 복사하여 time 컬럼만 삭제하고 복사된 dataFrame 반환\n",
    "def get_preprocessed_df(df = None):\n",
    "    \n",
    "    df_copy = df.copy()\n",
    "    df_copy.drop('Time', axis = 1, inplace = True)\n",
    "    \n",
    "    return df_copy"
   ]
  },
  {
   "cell_type": "code",
   "execution_count": 3,
   "id": "9b7f7512",
   "metadata": {},
   "outputs": [],
   "source": [
    "from sklearn.model_selection import train_test_split\n",
    "\n",
    "# 사전 데이터 가공 후 학습과 테스트 데이터 세트 반환하는 함수 생성\n",
    "def get_train_test_dataset(df = None):\n",
    "    # 데이터프레임의 사전 데이터 가공이 완료된 복사 데이터프레임 생성\n",
    "    df_copy = get_preprocessed_df(df)\n",
    "    \n",
    "    # 데이터프레임의 피처, 레이블 나누기\n",
    "    X_features = df_copy.iloc[:,:-1]\n",
    "    y_target = df_copy.iloc[:,-1]\n",
    "    \n",
    "    # 학습/테스트 데이터 분할\n",
    "    ## Stratified 방식으로 분할\n",
    "    X_train, X_test, y_train, y_test = train_test_split(X_features, y_target,\n",
    "                                                        test_size = 0.3,\n",
    "                                                        random_state = 0,\n",
    "                                                        stratify = y_target)\n",
    "    \n",
    "    #학습/테스트 데이터셋 변환\n",
    "    return X_train, X_test, y_train, y_test"
   ]
  },
  {
   "cell_type": "code",
   "execution_count": 4,
   "id": "cf01add0",
   "metadata": {},
   "outputs": [
    {
     "name": "stdout",
     "output_type": "stream",
     "text": [
      "학습 데이터 비율\n",
      "0    99.827451\n",
      "1     0.172549\n",
      "Name: Class, dtype: float64\n",
      "테스트 데이터 비율\n",
      "0    99.826785\n",
      "1     0.173215\n",
      "Name: Class, dtype: float64\n"
     ]
    }
   ],
   "source": [
    "# 학습/테스트 데이터셋 불러오기\n",
    "X_train, X_test, y_train, y_test = get_train_test_dataset(card_df)\n",
    "\n",
    "# 학습/테스트 데이터 레이블 값 비율 확인\n",
    "print('학습 데이터 비율')\n",
    "print(y_train.value_counts() /y_train.shape[0] * 100)\n",
    "\n",
    "print('테스트 데이터 비율')\n",
    "print(y_test.value_counts() /y_test.shape[0] * 100)"
   ]
  },
  {
   "cell_type": "code",
   "execution_count": 5,
   "id": "2f4c6130",
   "metadata": {},
   "outputs": [],
   "source": [
    "# 오차행렬, 정확도, 정밀도, 재현율, f1, AUC 평가 함수\n",
    "from sklearn.metrics import confusion_matrix, accuracy_score, precision_score, recall_score, f1_score\n",
    "from sklearn.metrics import roc_auc_score\n",
    "\n",
    "def get_clf_eval(y_test, pred, pred_proba):\n",
    "    confusion = confusion_matrix( y_test, pred)\n",
    "    accuracy = accuracy_score(y_test , pred)\n",
    "    precision = precision_score(y_test , pred)\n",
    "    recall = recall_score(y_test , pred)\n",
    "    f1 = f1_score(y_test,pred)\n",
    "    # ROC-AUC 추가 \n",
    "    roc_auc = roc_auc_score(y_test, pred_proba)\n",
    "    print('오차 행렬')\n",
    "    print(confusion)\n",
    "    # ROC-AUC print 추가\n",
    "    print('정확도: {0:.4f}, 정밀도: {1:.4f}, 재현율: {2:.4f},\\\n",
    "    F1: {3:.4f}, AUC:{4:.4f}'.format(accuracy, precision, recall, f1, roc_auc))\n"
   ]
  },
  {
   "cell_type": "markdown",
   "id": "4d13aacc",
   "metadata": {},
   "source": [
    "#### 로지스틱 회귀 평가"
   ]
  },
  {
   "cell_type": "code",
   "execution_count": 6,
   "id": "262a1f54",
   "metadata": {
    "scrolled": false
   },
   "outputs": [
    {
     "name": "stdout",
     "output_type": "stream",
     "text": [
      "오차 행렬\n",
      "[[85281    14]\n",
      " [   56    92]]\n",
      "정확도: 0.9992, 정밀도: 0.8679, 재현율: 0.6216,    F1: 0.7244, AUC:0.9704\n"
     ]
    }
   ],
   "source": [
    "from sklearn.linear_model import LogisticRegression\n",
    "\n",
    "lr_clf = LogisticRegression(max_iter = 1000)\n",
    "lr_clf.fit(X_train, y_train)\n",
    "lr_pred = lr_clf.predict(X_test)\n",
    "lr_pred_proba = lr_clf.predict_proba(X_test)[:,1]\n",
    "\n",
    "get_clf_eval(y_test, lr_pred, lr_pred_proba)"
   ]
  },
  {
   "cell_type": "markdown",
   "id": "131ae933",
   "metadata": {},
   "source": [
    "테스트 데이터 세트로 측정시 재현율이 0.6149, roc-auc가 0.9702임"
   ]
  },
  {
   "cell_type": "markdown",
   "id": "e1b4b67c",
   "metadata": {},
   "source": [
    "#### LGBM 평가"
   ]
  },
  {
   "cell_type": "code",
   "execution_count": null,
   "id": "d2f133a0",
   "metadata": {},
   "outputs": [],
   "source": [
    "def get_model_train_eval(model, ftr_train = None, ftr_test = None, tgt_train = None, tgt_test = None):\n",
    "    model.fit(ftr_train, tgt_train)\n",
    "    pred = model.predict(ftr_test)\n",
    "    pred_proba = model.predict_proba(ftr_test)[:,1]\n",
    "    \n",
    "    get_clf_eval(tgt_test, pred, pred_proba)"
   ]
  },
  {
   "cell_type": "code",
   "execution_count": null,
   "id": "d8ab2647",
   "metadata": {},
   "outputs": [],
   "source": [
    "from lightgbm import LGBMClassifier\n",
    "\n",
    "lgbm_clf = LGBMClassifier(n_estimators = 1000,\n",
    "                          num_leaves = 64,\n",
    "                          n_jobs = -1,\n",
    "                          boost_from_average = False)\n",
    "\n",
    "get_model_train_eval(lgbm_clf, X_train, X_test, y_train, y_test)"
   ]
  },
  {
   "cell_type": "markdown",
   "id": "a63ebd9a",
   "metadata": {},
   "source": [
    "### 데이터 분포도 변환 후 모델 학습/예측/평가"
   ]
  },
  {
   "cell_type": "markdown",
   "id": "d8662b9c",
   "metadata": {},
   "source": [
    "#### 중요 피처의 분포도 살펴보기\n",
    "- Amount 피처는 신용카드 사기금액으로 정상/사기 트랜잭션을 결정하는 매우 중요한 속성일 가능성이 높음"
   ]
  },
  {
   "cell_type": "code",
   "execution_count": null,
   "id": "b4dd780e",
   "metadata": {},
   "outputs": [],
   "source": [
    "# Amount 피처의 기술통계 확인\n",
    "\n",
    "card_df['Amount'].describe()"
   ]
  },
  {
   "cell_type": "code",
   "execution_count": null,
   "id": "b29e8342",
   "metadata": {},
   "outputs": [],
   "source": [
    "# Amount 피처의 분포도 확인해보기\n",
    "\n",
    "import seaborn as sns\n",
    "import matplotlib.pyplot as plt\n",
    "\n",
    "\n",
    "plt.figure(figsize = (10,8))\n",
    "\n",
    "# Amount 피처의 최솟값이 0, 최댓값을 고려해 범위 설정\n",
    "plt.xticks(range(0, 300000, 1000), rotation = 60)\n",
    "\n",
    "# 막대 개수 100개로 설정, kde 곡선그래프 보여주기\n",
    "sns.histplot(card_df['Amount'], bins = 100, kde = True, color = 'red')\n",
    "\n",
    "plt.show()"
   ]
  },
  {
   "cell_type": "markdown",
   "id": "a477f7d4",
   "metadata": {},
   "source": [
    "신용카드 사용금액이 1000불 이하인 데이터가 대부분임"
   ]
  },
  {
   "cell_type": "markdown",
   "id": "07455355",
   "metadata": {},
   "source": [
    "##### 정규화하기"
   ]
  },
  {
   "cell_type": "code",
   "execution_count": null,
   "id": "b5918139",
   "metadata": {},
   "outputs": [],
   "source": [
    "from sklearn.preprocessing import StandardScaler\n",
    "\n",
    "# amount 피처값 정규화 사용자함수 생성\n",
    "def get_preprocessed_df(df = None):\n",
    "     \n",
    "    df_copy = df.copy()\n",
    "    \n",
    "    # 정규화\n",
    "    scaler = StandardScaler()\n",
    "    amount_n = scaler.fit_transform(df_copy['Amount'].values.reshape(-1,1))\n",
    "    \n",
    "    # 변환된 Amount를 데이터프레임 맨 앞 컬럼으로 입력\n",
    "    df_copy.insert(0, 'Amount_Scaled', amount_n)\n",
    "    \n",
    "    # 기존의 Time, Amount 피처 삭제\n",
    "    df_copy.drop(['Time', 'Amount'], axis = 1, inplace = True)\n",
    "    \n",
    "    return df_copy"
   ]
  },
  {
   "cell_type": "code",
   "execution_count": null,
   "id": "4753a1b3",
   "metadata": {},
   "outputs": [],
   "source": [
    "# amount 정규화\n",
    "X_train, X_test, y_train, y_test = get_train_test_dataset(card_df)\n",
    "\n",
    "\n",
    "# 로지스틱 회귀 및 LightGBM 수행\n",
    "print('****로지스틱 회귀 예측 성능****')\n",
    "lr_clf = LogisticRegression(max_iter = 1000)\n",
    "get_model_train_eval(lr_clf, X_train, X_test, y_train, y_test)\n",
    "\n",
    "print('\\n****LightGBM 예측 성능(boost_from_average = True)****')\n",
    "lgbm_clf = LGBMClassifier(n_estimators = 1000, num_leaves = 64, n_jobs = -1)\n",
    "get_model_train_eval(lgbm_clf, X_train, X_test, y_train, y_test)\n",
    "\n",
    "print('\\n****LightGBM 예측 성능(boost_from_average = False)****')\n",
    "lgbm_clf = LGBMClassifier(n_estimators = 1000, num_leaves = 64, n_jobs = -1,\n",
    "                          boost_from_average = False)\n",
    "get_model_train_eval(lgbm_clf, X_train, X_test, y_train, y_test)"
   ]
  },
  {
   "cell_type": "markdown",
   "id": "2f32add3",
   "metadata": {},
   "source": [
    "<b><span style = 'background-color: #fff5b1'>boost_from_average</span></b>\n",
    "\n",
    "boosting 계열 알고리즘은 최초로 만들어진 Tree에서 오류를 보정하면서 지속적으로 Tree를 update함<br>\n",
    "이때 최초 Tree를 만들때 오류를 update하기 위해 어떤 score값을 만드는데 이때 타겟값의 특정 평균값을 사용할것인지 아닌지를 나타내는 파라미터로 알고 있음<br>\n",
    "\n",
    "boost_from_average 파라미터의 기능상 imbalanced dataset의 이진 분류에서 그 하나의 파라미터로 인하여 성능을 그렇게 크게 저하시키는 것은 어렵게 때문에  파라미터의 특성 때문에 발생하는 현상이 아니라 일종의 버그로 간주해도 좋을 것 같다고 함"
   ]
  },
  {
   "cell_type": "markdown",
   "id": "3ef5b993",
   "metadata": {},
   "source": [
    "<b>기존 평가:</b>\n",
    "```\n",
    "오차 행렬\n",
    "[[85290     5]\n",
    " [   36   112]]\n",
    "정확도: 0.9995, 정밀도: 0.9573, 재현율: 0.7568,    F1: 0.8453, AUC:0.9790\n",
    "```\n",
    "로지스틱 회귀의 경우 정밀도와 재현율이 많이 저하됨\n",
    "반면, LightGBM의 경우는 약간의 정밀도와 재현도가 저하되긴 했지만 큰 차이 없음\n"
   ]
  },
  {
   "cell_type": "markdown",
   "id": "609030c1",
   "metadata": {},
   "source": [
    "##### 로그변환하기"
   ]
  },
  {
   "cell_type": "code",
   "execution_count": null,
   "id": "86816f6f",
   "metadata": {},
   "outputs": [],
   "source": [
    "import numpy as np\n",
    "\n",
    "def get_processed_df(df = None):\n",
    "    df_copy = df.copy()\n",
    "    \n",
    "    # 넘파이의 log1p()함수로 Amount 로그변환\n",
    "    amount_n = np.log1p(df_copy['Amount'])\n",
    "    \n",
    "    # 변환된 Amount를 데이터프레임 맨 앞 컬럼으로 입력\n",
    "    df_copy.insert(0, 'Amount_Scaled', amount_n)\n",
    "    \n",
    "    # 불필요한 컬럼 삭제\n",
    "    df_copy.drop(['Time','Amount'], axis = 1, inplace = True)\n",
    "    \n",
    "    return df_copy"
   ]
  },
  {
   "cell_type": "code",
   "execution_count": null,
   "id": "4ff607e0",
   "metadata": {},
   "outputs": [],
   "source": [
    "# amount 로그변환\n",
    "X_train, X_test, y_train, y_test = get_train_test_dataset(card_df)\n",
    "\n",
    "\n",
    "# 로지스틱 회귀 및 LightGBM 수행\n",
    "print('****로지스틱 회귀 예측 성능****')\n",
    "lr_clf = LogisticRegression(max_iter = 1000)\n",
    "get_model_train_eval(lr_clf, X_train, X_test, y_train, y_test)\n",
    "\n",
    "print('\\n****LightGBM 예측 성능(boost_from_average = True)****')\n",
    "lgbm_clf = LGBMClassifier(n_estimators = 1000, num_leaves = 64, n_jobs = -1)\n",
    "get_model_train_eval(lgbm_clf, X_train, X_test, y_train, y_test)\n",
    "\n",
    "print('\\n****LightGBM 예측 성능(boost_from_average = False)****')\n",
    "lgbm_clf = LGBMClassifier(n_estimators = 1000, num_leaves = 64, n_jobs = -1,\n",
    "                          boost_from_average = False)\n",
    "get_model_train_eval(lgbm_clf, X_train, X_test, y_train, y_test)"
   ]
  },
  {
   "cell_type": "markdown",
   "id": "18e92653",
   "metadata": {},
   "source": [
    "<b>기존 평가:</b>\n",
    "```\n",
    "오차 행렬\n",
    "[[85290     5]\n",
    " [   36   112]]\n",
    "정확도: 0.9995, 정밀도: 0.9573, 재현율: 0.7568,    F1: 0.8453, AUC:0.9790\n",
    "```\n",
    "로지스틱 회귀의 경우 정밀도와 재현율이 많이 저하됨\n",
    "반면, LightGBM의 경우는 약간의 정밀도와 재현도가 저하되긴 했지만 큰 차이 없음"
   ]
  },
  {
   "cell_type": "markdown",
   "id": "187a8ba6",
   "metadata": {},
   "source": [
    "<b><span style = 'background-color: #f5f0ff'>결론</span></b>\n",
    "\n",
    "<span style = 'background-color: #f6f8fa'>레이블이 극도로 불균일한 데이터 세트에서 로지스틱 회귀는 데이터 변환 시 불완전한 성능 결과를 보여주고 있음</span>"
   ]
  },
  {
   "cell_type": "markdown",
   "id": "50244d3f",
   "metadata": {},
   "source": [
    "### 이상치 데이터 제거 후 모델 학습/예측/평가"
   ]
  },
  {
   "cell_type": "markdown",
   "id": "8f3094d1",
   "metadata": {},
   "source": [
    "#### IQR을 활용하여 이상치 제거"
   ]
  },
  {
   "cell_type": "code",
   "execution_count": null,
   "id": "9fd90791",
   "metadata": {},
   "outputs": [],
   "source": [
    "copy_df = get_preprocessed_df(card_df)\n",
    "\n",
    "pd.DataFrame(round(copy_df.corr().iloc[:,-1],3))"
   ]
  },
  {
   "cell_type": "code",
   "execution_count": null,
   "id": "5cd8773d",
   "metadata": {},
   "outputs": [],
   "source": [
    "import seaborn as sns\n",
    "\n",
    "plt.figure(figsize = (9,9))\n",
    "\n",
    "# 히트맵그리기\n",
    "# 음의 상관관계 높을수록 빨간색, 양의 상관관계 높을수록 파란색\n",
    "sns.heatmap(card_df.corr(), cmap = 'RdBu')"
   ]
  },
  {
   "cell_type": "markdown",
   "id": "b08d510a",
   "metadata": {},
   "source": [
    "v14, v17피처가 음이 상관관계가 높게 나타남"
   ]
  },
  {
   "cell_type": "code",
   "execution_count": null,
   "id": "910b3f66",
   "metadata": {},
   "outputs": [],
   "source": [
    "# V14에 대해서 이상치 처리하기\n",
    "\n",
    "import numpy as np\n",
    "\n",
    "def get_outlier(df = None, column = None, weight = 1.5):\n",
    "    \n",
    "    # fraud에 해당하는 column 데이터만 추출\n",
    "    fraud = df[df['Class'] == 1][column]\n",
    "    \n",
    "    quantile_25 = np.percentile(fraud.values, 25)\n",
    "    quantile_75 = np.percentile(fraud.values, 75)\n",
    "    \n",
    "    # IQR을 구하고, IQR에 1.5를 곱해 최댓값과 최솟값 지점 구함\n",
    "    iqr = quantile_75 - quantile_25\n",
    "    iqr_weight = iqr * weight\n",
    "    \n",
    "    lowest_val = quantile_25 - iqr_weight\n",
    "    highest_val = quantile_75 + iqr_weight\n",
    "    \n",
    "    # 최댓값보다 크거나, 최솟값보다 작은 값을 이상치 데이터로 설정\n",
    "    outlier_index = fraud[(fraud > highest_val) | (fraud < lowest_val)].index\n",
    "    \n",
    "    return outlier_index"
   ]
  },
  {
   "cell_type": "code",
   "execution_count": null,
   "id": "c478c813",
   "metadata": {},
   "outputs": [],
   "source": [
    "outlier_index = get_outlier(df = card_df, column = 'V14', weight = 1.5)\n",
    "print(outlier_index)"
   ]
  },
  {
   "cell_type": "code",
   "execution_count": null,
   "id": "a2867417",
   "metadata": {},
   "outputs": [],
   "source": [
    "# get_processed_df를 로그 변환 후 v14 피처의 이상치 데이터를 삭제하는 로직으로 변경\n",
    "\n",
    "def get_preprocessed_df(df = None):\n",
    "    df_copy = df.copy()\n",
    "    \n",
    "    # 로그변환 후 컬럼생성\n",
    "    amount_n = np.log1p(df_copy['Amount'])\n",
    "    df_copy.insert(0, 'Amount_Scaled', amount_n)\n",
    "    \n",
    "    # 불필요한 컬럼 삭제\n",
    "    df_copy.drop(['Time','Amount'], axis = 1, inplace = True)\n",
    "    \n",
    "    # 이상치 데이터 삭제 로직 추가\n",
    "    outlier_index = get_outlier(df = df_copy, column = 'V14', weight = 1.5)\n",
    "    df_copy.drop(outlier_index, axis = 0, inplace = True)\n",
    "    \n",
    "    return df_copy\n",
    "\n",
    "X_train, X_test, y_train, y_test = get_train_test_dataset(card_df)\n",
    "print('****로지스틱 회귀 예측 성능****')\n",
    "get_model_train_eval(lr_clf, X_train, X_test, y_train, y_test)\n",
    "\n",
    "print('\\n****LightGBM 예측 성능****')\n",
    "get_model_train_eval(lgbm_clf, X_train, X_test, y_train, y_test)\n"
   ]
  },
  {
   "cell_type": "markdown",
   "id": "8bca5946",
   "metadata": {},
   "source": [
    "<b>기존 성능:</b>\n",
    "```\n",
    "오차 행렬\n",
    "\n",
    "[[85290     5]\n",
    " [   36   112]]\n",
    "정확도: 0.9995, 정밀도: 0.9573, 재현율: 0.7568,    F1: 0.8453, AUC:0.9790\n",
    "```\n",
    "\n",
    "<b>로그변환 후 예측 성능:</b>\n",
    "```\n",
    "오차 행렬\n",
    "[[85281    14]\n",
    " [   58    90]]\n",
    "정확도: 0.9992, 정밀도: 0.8654, 재현율: 0.6081,    F1: 0.7143, AUC:0.9702\n",
    "\n",
    "\n",
    "오차 행렬\n",
    "[[85290     5]\n",
    " [   37   111]]\n",
    "정확도: 0.9995, 정밀도: 0.9569, 재현율: 0.7500,    F1: 0.8409, AUC:0.9779\n",
    "```\n",
    "\n",
    "로지스틱 회귀, LightGBM 모두 정밀도와 재현율이 상승함\n",
    "\n"
   ]
  },
  {
   "cell_type": "code",
   "execution_count": null,
   "id": "5776e47d",
   "metadata": {},
   "outputs": [],
   "source": [
    "from imblearn.over_sampling import SMOTE"
   ]
  },
  {
   "cell_type": "code",
   "execution_count": null,
   "id": "1b865c94",
   "metadata": {},
   "outputs": [],
   "source": []
  },
  {
   "cell_type": "code",
   "execution_count": null,
   "id": "b692f11b",
   "metadata": {},
   "outputs": [],
   "source": []
  },
  {
   "cell_type": "code",
   "execution_count": null,
   "id": "2832f590",
   "metadata": {},
   "outputs": [],
   "source": []
  }
 ],
 "metadata": {
  "kernelspec": {
   "display_name": "Python 3 (ipykernel)",
   "language": "python",
   "name": "python3"
  },
  "language_info": {
   "codemirror_mode": {
    "name": "ipython",
    "version": 3
   },
   "file_extension": ".py",
   "mimetype": "text/x-python",
   "name": "python",
   "nbconvert_exporter": "python",
   "pygments_lexer": "ipython3",
   "version": "3.8.13"
  },
  "toc": {
   "base_numbering": 1,
   "nav_menu": {},
   "number_sections": true,
   "sideBar": true,
   "skip_h1_title": false,
   "title_cell": "Table of Contents",
   "title_sidebar": "Contents",
   "toc_cell": false,
   "toc_position": {},
   "toc_section_display": true,
   "toc_window_display": false
  }
 },
 "nbformat": 4,
 "nbformat_minor": 5
}
