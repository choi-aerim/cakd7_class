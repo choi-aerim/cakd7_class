{
 "cells": [
  {
   "cell_type": "markdown",
   "id": "5708832d-874f-4e63-8e5d-e783e6dd8011",
   "metadata": {},
   "source": [
    "# 변수 종류\n",
    "- 질적변수와 양적변수\n",
    "- 척도수준 : 명의, 순서, 간격, 비례 척도\n",
    "- 이산형 변수와 연속형 변수"
   ]
  },
  {
   "cell_type": "markdown",
   "id": "1901b8bd-adbd-4cb0-b60b-0d0510598d76",
   "metadata": {
    "tags": [],
    "toc-hr-collapsed": true
   },
   "source": [
    "## 1차원 데이터의 정리\n",
    "- 평균값(기댓값), 표본분산, 불편분산(ddof=1), 표준편차\n",
    "- 표본분산은 표본의 평균을 사용해서 분산을 계산한 값으로 분산을 과소 추정하는 경향이 있으며 그 경향을 없애기 위한 것이 불편분산임. 표본분산 보다 조금 큰 값이 된다.\n",
    "- 표준화 : 평균값이 큰 변수와 작은 변수가 섞여 있으면 다루기 어려우므로 표준화로 데이터를 비교하기 쉽게 한다.\n",
    "- 최댓값, 최솟값, 중앙값, 사분위수\n",
    "- 표본분산과 비편향 분산\n",
    "  - 분산은 표본 분산과 불편분산(unbiased variance)의 두 종류가 존재 \n",
    "  - 표본 분산은 표본에서 계산된 분산이며 모집단에 비해 표본수가 적을 때는 표본 분산이 모분산보다 작아진다.\n",
    "  - 즉 표본 분산이 모집단 분산에 맞춰서 동일하게 보정한 것을 비편향 분산이라 한다.\n",
    "  - 통계학에서는 이 비편향분산을 사용하는 경우가 많다.\n",
    "  - 불편분산은 n대신 n-1로 나누어 구할 수 있다.\n",
    "<br>\n",
    "## [표분분산이 분산을 과소 평가하는 이유]\n",
    "- 호수안에 물고기가 7마리가 있다. 몸길이 {1,2,3,4,5,6,7}, 모평균 4, 샘플링1 3마리{1,2,3} 표본평균 2, 샘플링2 {5,6,7} 표본평균 6\n",
    "- 이때 분산은 모평균을 모르기 때문에 표본평균과의 거리를 계산하며 분산을 과소평가 하게된다.\n",
    "- 표본 분산 보다 조금 더 큰 값이 되도록 보정하기 위하여 N대신 N-1로 나누어 불편분산을 구할 수 있다.\n"
   ]
  },
  {
   "cell_type": "code",
   "execution_count": 1,
   "id": "6db34078-7b52-4a1f-989b-a759b12a273a",
   "metadata": {
    "tags": []
   },
   "outputs": [],
   "source": [
    "import pandas as pd\n",
    "import numpy as np\n",
    "%precision 3\n",
    "pd.set_option('display.precision', 3)\n",
    "np.set_printoptions(precision=3)\n",
    "import warnings\n",
    "warnings.filterwarnings('ignore')"
   ]
  },
  {
   "cell_type": "code",
   "execution_count": 2,
   "id": "27826929-a3c5-4826-90ee-959fd9e5d0da",
   "metadata": {
    "tags": []
   },
   "outputs": [
    {
     "data": {
      "text/html": [
       "<div>\n",
       "<style scoped>\n",
       "    .dataframe tbody tr th:only-of-type {\n",
       "        vertical-align: middle;\n",
       "    }\n",
       "\n",
       "    .dataframe tbody tr th {\n",
       "        vertical-align: top;\n",
       "    }\n",
       "\n",
       "    .dataframe thead th {\n",
       "        text-align: right;\n",
       "    }\n",
       "</style>\n",
       "<table border=\"1\" class=\"dataframe\">\n",
       "  <thead>\n",
       "    <tr style=\"text-align: right;\">\n",
       "      <th></th>\n",
       "      <th>score</th>\n",
       "    </tr>\n",
       "    <tr>\n",
       "      <th>student</th>\n",
       "      <th></th>\n",
       "    </tr>\n",
       "  </thead>\n",
       "  <tbody>\n",
       "    <tr>\n",
       "      <th>A</th>\n",
       "      <td>42</td>\n",
       "    </tr>\n",
       "    <tr>\n",
       "      <th>B</th>\n",
       "      <td>69</td>\n",
       "    </tr>\n",
       "    <tr>\n",
       "      <th>C</th>\n",
       "      <td>56</td>\n",
       "    </tr>\n",
       "    <tr>\n",
       "      <th>D</th>\n",
       "      <td>41</td>\n",
       "    </tr>\n",
       "    <tr>\n",
       "      <th>E</th>\n",
       "      <td>57</td>\n",
       "    </tr>\n",
       "    <tr>\n",
       "      <th>F</th>\n",
       "      <td>48</td>\n",
       "    </tr>\n",
       "    <tr>\n",
       "      <th>G</th>\n",
       "      <td>65</td>\n",
       "    </tr>\n",
       "    <tr>\n",
       "      <th>H</th>\n",
       "      <td>49</td>\n",
       "    </tr>\n",
       "    <tr>\n",
       "      <th>I</th>\n",
       "      <td>65</td>\n",
       "    </tr>\n",
       "    <tr>\n",
       "      <th>J</th>\n",
       "      <td>58</td>\n",
       "    </tr>\n",
       "  </tbody>\n",
       "</table>\n",
       "</div>"
      ],
      "text/plain": [
       "         score\n",
       "student       \n",
       "A           42\n",
       "B           69\n",
       "C           56\n",
       "D           41\n",
       "E           57\n",
       "F           48\n",
       "G           65\n",
       "H           49\n",
       "I           65\n",
       "J           58"
      ]
     },
     "execution_count": 2,
     "metadata": {},
     "output_type": "execute_result"
    }
   ],
   "source": [
    "df = pd.read_csv('./python_stat_sample-master/data/ch2_scores_em.csv',index_col='student number')\n",
    "scores = np.array(df['english'])[:10]\n",
    "scores_df = pd.DataFrame({'score':scores},index=pd.Index(['A','B','C','D','E','F','G','H','I','J'],name='student'))\n",
    "scores_df"
   ]
  },
  {
   "cell_type": "code",
   "execution_count": 3,
   "id": "dd95aa9a-6b6b-43a8-b1c5-d2376104c7e4",
   "metadata": {
    "tags": []
   },
   "outputs": [
    {
     "data": {
      "text/html": [
       "<style type=\"text/css\">\n",
       "#T_351be_row0_col0 {\n",
       "  width: 10em;\n",
       "  background: linear-gradient(90deg, #03e3fc 60.9%, transparent 60.9%);\n",
       "}\n",
       "#T_351be_row1_col0 {\n",
       "  width: 10em;\n",
       "  background: linear-gradient(90deg, #03e3fc 100.0%, transparent 100.0%);\n",
       "}\n",
       "#T_351be_row2_col0 {\n",
       "  width: 10em;\n",
       "  background: linear-gradient(90deg, #03e3fc 81.2%, transparent 81.2%);\n",
       "}\n",
       "#T_351be_row3_col0 {\n",
       "  width: 10em;\n",
       "  background: linear-gradient(90deg, #03e3fc 59.4%, transparent 59.4%);\n",
       "}\n",
       "#T_351be_row4_col0 {\n",
       "  width: 10em;\n",
       "  background: linear-gradient(90deg, #03e3fc 82.6%, transparent 82.6%);\n",
       "}\n",
       "#T_351be_row5_col0 {\n",
       "  width: 10em;\n",
       "  background: linear-gradient(90deg, #03e3fc 69.6%, transparent 69.6%);\n",
       "}\n",
       "#T_351be_row6_col0, #T_351be_row8_col0 {\n",
       "  width: 10em;\n",
       "  background: linear-gradient(90deg, #03e3fc 94.2%, transparent 94.2%);\n",
       "}\n",
       "#T_351be_row7_col0 {\n",
       "  width: 10em;\n",
       "  background: linear-gradient(90deg, #03e3fc 71.0%, transparent 71.0%);\n",
       "}\n",
       "#T_351be_row9_col0 {\n",
       "  width: 10em;\n",
       "  background: linear-gradient(90deg, #03e3fc 84.1%, transparent 84.1%);\n",
       "}\n",
       "</style>\n",
       "<table id=\"T_351be\">\n",
       "  <thead>\n",
       "    <tr>\n",
       "      <th class=\"blank level0\" >&nbsp;</th>\n",
       "      <th id=\"T_351be_level0_col0\" class=\"col_heading level0 col0\" >score</th>\n",
       "    </tr>\n",
       "    <tr>\n",
       "      <th class=\"index_name level0\" >student</th>\n",
       "      <th class=\"blank col0\" >&nbsp;</th>\n",
       "    </tr>\n",
       "  </thead>\n",
       "  <tbody>\n",
       "    <tr>\n",
       "      <th id=\"T_351be_level0_row0\" class=\"row_heading level0 row0\" >A</th>\n",
       "      <td id=\"T_351be_row0_col0\" class=\"data row0 col0\" >42</td>\n",
       "    </tr>\n",
       "    <tr>\n",
       "      <th id=\"T_351be_level0_row1\" class=\"row_heading level0 row1\" >B</th>\n",
       "      <td id=\"T_351be_row1_col0\" class=\"data row1 col0\" >69</td>\n",
       "    </tr>\n",
       "    <tr>\n",
       "      <th id=\"T_351be_level0_row2\" class=\"row_heading level0 row2\" >C</th>\n",
       "      <td id=\"T_351be_row2_col0\" class=\"data row2 col0\" >56</td>\n",
       "    </tr>\n",
       "    <tr>\n",
       "      <th id=\"T_351be_level0_row3\" class=\"row_heading level0 row3\" >D</th>\n",
       "      <td id=\"T_351be_row3_col0\" class=\"data row3 col0\" >41</td>\n",
       "    </tr>\n",
       "    <tr>\n",
       "      <th id=\"T_351be_level0_row4\" class=\"row_heading level0 row4\" >E</th>\n",
       "      <td id=\"T_351be_row4_col0\" class=\"data row4 col0\" >57</td>\n",
       "    </tr>\n",
       "    <tr>\n",
       "      <th id=\"T_351be_level0_row5\" class=\"row_heading level0 row5\" >F</th>\n",
       "      <td id=\"T_351be_row5_col0\" class=\"data row5 col0\" >48</td>\n",
       "    </tr>\n",
       "    <tr>\n",
       "      <th id=\"T_351be_level0_row6\" class=\"row_heading level0 row6\" >G</th>\n",
       "      <td id=\"T_351be_row6_col0\" class=\"data row6 col0\" >65</td>\n",
       "    </tr>\n",
       "    <tr>\n",
       "      <th id=\"T_351be_level0_row7\" class=\"row_heading level0 row7\" >H</th>\n",
       "      <td id=\"T_351be_row7_col0\" class=\"data row7 col0\" >49</td>\n",
       "    </tr>\n",
       "    <tr>\n",
       "      <th id=\"T_351be_level0_row8\" class=\"row_heading level0 row8\" >I</th>\n",
       "      <td id=\"T_351be_row8_col0\" class=\"data row8 col0\" >65</td>\n",
       "    </tr>\n",
       "    <tr>\n",
       "      <th id=\"T_351be_level0_row9\" class=\"row_heading level0 row9\" >J</th>\n",
       "      <td id=\"T_351be_row9_col0\" class=\"data row9 col0\" >58</td>\n",
       "    </tr>\n",
       "  </tbody>\n",
       "</table>\n"
      ],
      "text/plain": [
       "<pandas.io.formats.style.Styler at 0x7fbfaabdc8e0>"
      ]
     },
     "execution_count": 3,
     "metadata": {},
     "output_type": "execute_result"
    }
   ],
   "source": [
    "scores_df.style.bar(color=['#a103fc','#03e3fc'])"
   ]
  },
  {
   "cell_type": "code",
   "execution_count": 4,
   "id": "611712ad-3f8a-4666-941e-0ee1d7167247",
   "metadata": {},
   "outputs": [
    {
     "data": {
      "text/plain": [
       "array([-13.,  14.,   1., -14.,   2.,  -7.,  10.,  -6.,  10.,   3.])"
      ]
     },
     "execution_count": 4,
     "metadata": {},
     "output_type": "execute_result"
    }
   ],
   "source": [
    "mean = np.mean(scores)\n",
    "deviation = scores - mean\n",
    "deviation"
   ]
  },
  {
   "cell_type": "code",
   "execution_count": 5,
   "id": "2cfe36e9-228c-430f-86a5-9e55b5bb74dc",
   "metadata": {},
   "outputs": [
    {
     "data": {
      "text/plain": [
       "0.000"
      ]
     },
     "execution_count": 5,
     "metadata": {},
     "output_type": "execute_result"
    }
   ],
   "source": [
    "np.mean(deviation)"
   ]
  },
  {
   "cell_type": "code",
   "execution_count": 6,
   "id": "be8fd021-2151-4578-9283-d3ee7bc846c4",
   "metadata": {},
   "outputs": [
    {
     "data": {
      "text/html": [
       "<div>\n",
       "<style scoped>\n",
       "    .dataframe tbody tr th:only-of-type {\n",
       "        vertical-align: middle;\n",
       "    }\n",
       "\n",
       "    .dataframe tbody tr th {\n",
       "        vertical-align: top;\n",
       "    }\n",
       "\n",
       "    .dataframe thead th {\n",
       "        text-align: right;\n",
       "    }\n",
       "</style>\n",
       "<table border=\"1\" class=\"dataframe\">\n",
       "  <thead>\n",
       "    <tr style=\"text-align: right;\">\n",
       "      <th></th>\n",
       "      <th>score</th>\n",
       "      <th>deviation</th>\n",
       "    </tr>\n",
       "    <tr>\n",
       "      <th>student</th>\n",
       "      <th></th>\n",
       "      <th></th>\n",
       "    </tr>\n",
       "  </thead>\n",
       "  <tbody>\n",
       "    <tr>\n",
       "      <th>A</th>\n",
       "      <td>42</td>\n",
       "      <td>-13.0</td>\n",
       "    </tr>\n",
       "    <tr>\n",
       "      <th>B</th>\n",
       "      <td>69</td>\n",
       "      <td>14.0</td>\n",
       "    </tr>\n",
       "    <tr>\n",
       "      <th>C</th>\n",
       "      <td>56</td>\n",
       "      <td>1.0</td>\n",
       "    </tr>\n",
       "    <tr>\n",
       "      <th>D</th>\n",
       "      <td>41</td>\n",
       "      <td>-14.0</td>\n",
       "    </tr>\n",
       "    <tr>\n",
       "      <th>E</th>\n",
       "      <td>57</td>\n",
       "      <td>2.0</td>\n",
       "    </tr>\n",
       "    <tr>\n",
       "      <th>F</th>\n",
       "      <td>48</td>\n",
       "      <td>-7.0</td>\n",
       "    </tr>\n",
       "    <tr>\n",
       "      <th>G</th>\n",
       "      <td>65</td>\n",
       "      <td>10.0</td>\n",
       "    </tr>\n",
       "    <tr>\n",
       "      <th>H</th>\n",
       "      <td>49</td>\n",
       "      <td>-6.0</td>\n",
       "    </tr>\n",
       "    <tr>\n",
       "      <th>I</th>\n",
       "      <td>65</td>\n",
       "      <td>10.0</td>\n",
       "    </tr>\n",
       "    <tr>\n",
       "      <th>J</th>\n",
       "      <td>58</td>\n",
       "      <td>3.0</td>\n",
       "    </tr>\n",
       "  </tbody>\n",
       "</table>\n",
       "</div>"
      ],
      "text/plain": [
       "         score  deviation\n",
       "student                  \n",
       "A           42      -13.0\n",
       "B           69       14.0\n",
       "C           56        1.0\n",
       "D           41      -14.0\n",
       "E           57        2.0\n",
       "F           48       -7.0\n",
       "G           65       10.0\n",
       "H           49       -6.0\n",
       "I           65       10.0\n",
       "J           58        3.0"
      ]
     },
     "execution_count": 6,
     "metadata": {},
     "output_type": "execute_result"
    }
   ],
   "source": [
    "summary_df = scores_df.copy()\n",
    "summary_df['deviation'] = deviation\n",
    "summary_df"
   ]
  },
  {
   "cell_type": "code",
   "execution_count": 7,
   "id": "a69718cb-53ba-4791-8e4d-1070a03c7f41",
   "metadata": {},
   "outputs": [
    {
     "data": {
      "text/plain": [
       "86.000"
      ]
     },
     "execution_count": 7,
     "metadata": {},
     "output_type": "execute_result"
    }
   ],
   "source": [
    "np.var(scores)"
   ]
  },
  {
   "cell_type": "code",
   "execution_count": 8,
   "id": "aeed2d53-d306-46da-ab36-90af1e471216",
   "metadata": {},
   "outputs": [
    {
     "data": {
      "text/html": [
       "<div>\n",
       "<style scoped>\n",
       "    .dataframe tbody tr th:only-of-type {\n",
       "        vertical-align: middle;\n",
       "    }\n",
       "\n",
       "    .dataframe tbody tr th {\n",
       "        vertical-align: top;\n",
       "    }\n",
       "\n",
       "    .dataframe thead th {\n",
       "        text-align: right;\n",
       "    }\n",
       "</style>\n",
       "<table border=\"1\" class=\"dataframe\">\n",
       "  <thead>\n",
       "    <tr style=\"text-align: right;\">\n",
       "      <th></th>\n",
       "      <th>score</th>\n",
       "      <th>deviation</th>\n",
       "      <th>squre of deviation</th>\n",
       "    </tr>\n",
       "    <tr>\n",
       "      <th>student</th>\n",
       "      <th></th>\n",
       "      <th></th>\n",
       "      <th></th>\n",
       "    </tr>\n",
       "  </thead>\n",
       "  <tbody>\n",
       "    <tr>\n",
       "      <th>A</th>\n",
       "      <td>42</td>\n",
       "      <td>-13.0</td>\n",
       "      <td>169.0</td>\n",
       "    </tr>\n",
       "    <tr>\n",
       "      <th>B</th>\n",
       "      <td>69</td>\n",
       "      <td>14.0</td>\n",
       "      <td>196.0</td>\n",
       "    </tr>\n",
       "    <tr>\n",
       "      <th>C</th>\n",
       "      <td>56</td>\n",
       "      <td>1.0</td>\n",
       "      <td>1.0</td>\n",
       "    </tr>\n",
       "    <tr>\n",
       "      <th>D</th>\n",
       "      <td>41</td>\n",
       "      <td>-14.0</td>\n",
       "      <td>196.0</td>\n",
       "    </tr>\n",
       "    <tr>\n",
       "      <th>E</th>\n",
       "      <td>57</td>\n",
       "      <td>2.0</td>\n",
       "      <td>4.0</td>\n",
       "    </tr>\n",
       "    <tr>\n",
       "      <th>F</th>\n",
       "      <td>48</td>\n",
       "      <td>-7.0</td>\n",
       "      <td>49.0</td>\n",
       "    </tr>\n",
       "    <tr>\n",
       "      <th>G</th>\n",
       "      <td>65</td>\n",
       "      <td>10.0</td>\n",
       "      <td>100.0</td>\n",
       "    </tr>\n",
       "    <tr>\n",
       "      <th>H</th>\n",
       "      <td>49</td>\n",
       "      <td>-6.0</td>\n",
       "      <td>36.0</td>\n",
       "    </tr>\n",
       "    <tr>\n",
       "      <th>I</th>\n",
       "      <td>65</td>\n",
       "      <td>10.0</td>\n",
       "      <td>100.0</td>\n",
       "    </tr>\n",
       "    <tr>\n",
       "      <th>J</th>\n",
       "      <td>58</td>\n",
       "      <td>3.0</td>\n",
       "      <td>9.0</td>\n",
       "    </tr>\n",
       "  </tbody>\n",
       "</table>\n",
       "</div>"
      ],
      "text/plain": [
       "         score  deviation  squre of deviation\n",
       "student                                      \n",
       "A           42      -13.0               169.0\n",
       "B           69       14.0               196.0\n",
       "C           56        1.0                 1.0\n",
       "D           41      -14.0               196.0\n",
       "E           57        2.0                 4.0\n",
       "F           48       -7.0                49.0\n",
       "G           65       10.0               100.0\n",
       "H           49       -6.0                36.0\n",
       "I           65       10.0               100.0\n",
       "J           58        3.0                 9.0"
      ]
     },
     "execution_count": 8,
     "metadata": {},
     "output_type": "execute_result"
    }
   ],
   "source": [
    "summary_df['squre of deviation'] = np.square(deviation)\n",
    "summary_df"
   ]
  },
  {
   "cell_type": "code",
   "execution_count": 9,
   "id": "d759041e-91c5-4831-b7af-40524c94bfc2",
   "metadata": {},
   "outputs": [
    {
     "data": {
      "text/plain": [
       "score                 55.0\n",
       "deviation              0.0\n",
       "squre of deviation    86.0\n",
       "dtype: float64"
      ]
     },
     "execution_count": 9,
     "metadata": {},
     "output_type": "execute_result"
    }
   ],
   "source": [
    "summary_df.mean()"
   ]
  },
  {
   "cell_type": "code",
   "execution_count": 10,
   "id": "bc44fb94-cc83-48b3-8d53-4081ea36dcd0",
   "metadata": {},
   "outputs": [
    {
     "data": {
      "text/plain": [
       "9.274"
      ]
     },
     "execution_count": 10,
     "metadata": {},
     "output_type": "execute_result"
    }
   ],
   "source": [
    "np.std(scores, ddof=0)"
   ]
  },
  {
   "cell_type": "code",
   "execution_count": 11,
   "id": "d0b38c76-35b5-41d3-871a-192517ba37ee",
   "metadata": {},
   "outputs": [
    {
     "data": {
      "text/plain": [
       "count    10.000\n",
       "mean     55.000\n",
       "std       9.775\n",
       "min      41.000\n",
       "25%      48.250\n",
       "50%      56.500\n",
       "75%      63.250\n",
       "max      69.000\n",
       "dtype: float64"
      ]
     },
     "execution_count": 11,
     "metadata": {},
     "output_type": "execute_result"
    }
   ],
   "source": [
    "pd.Series(scores).describe()"
   ]
  },
  {
   "cell_type": "code",
   "execution_count": 12,
   "id": "0dec2a53-f059-408f-a102-cc0dece4a860",
   "metadata": {},
   "outputs": [
    {
     "data": {
      "text/plain": [
       "15.000"
      ]
     },
     "execution_count": 12,
     "metadata": {},
     "output_type": "execute_result"
    }
   ],
   "source": [
    "scores_IQR = np.percentile(scores,75) - np.percentile(scores,25)\n",
    "scores_IQR"
   ]
  },
  {
   "cell_type": "code",
   "execution_count": 13,
   "id": "ac1133fe-1342-4d03-ae12-1f9563b547ff",
   "metadata": {},
   "outputs": [],
   "source": [
    "# [과제] 교재 ~ 51page 코드 문제 풀기"
   ]
  },
  {
   "cell_type": "markdown",
   "id": "8ba5d9f1-710d-472d-82d9-6e42c76b3821",
   "metadata": {},
   "source": [
    "#### [과제] 20개 원소로 구성되는 배열을 만든 후 평균, 편차 및 편차의 합을 구하세요."
   ]
  },
  {
   "cell_type": "code",
   "execution_count": 15,
   "id": "a477ddda-6523-49f1-bfa4-d019388156b0",
   "metadata": {},
   "outputs": [
    {
     "name": "stdout",
     "output_type": "stream",
     "text": [
      "[ 5 11 12  8  9 11  5 15  0 16  1 12  7 13  6 18  5 18 11 10]\n",
      "평균: 9.65\n",
      "분산: 24.6275\n",
      "표준편차: 4.962610200287748\n"
     ]
    }
   ],
   "source": [
    "np.random.seed(1)\n",
    "arr = np.array(np.random.randint(20,size=20))\n",
    "print(arr)\n",
    "print(f'평균: {np.mean(arr)}\\n분산: {np.var(arr)}\\n표준편차: {np.std(arr)}')"
   ]
  },
  {
   "cell_type": "markdown",
   "id": "cd3cb5e7-8385-4d78-9e6e-170904c8d6e7",
   "metadata": {},
   "source": [
    "#### [과제] 중앙값 > 평균값 인 경우와 중앙값 < 평균값인 두가지 집합에서 나타나는 가능성이 있는 특징을 사례로 설명하세요"
   ]
  },
  {
   "cell_type": "code",
   "execution_count": 17,
   "id": "5d0bfcff-725d-490b-8966-4f246897838f",
   "metadata": {},
   "outputs": [
    {
     "name": "stdout",
     "output_type": "stream",
     "text": [
      "[  1   2   3 100]\n",
      "평균값 > 중앙값\n",
      "26.5 > 2.5\n",
      "\n",
      "[-100    1    2    3]\n",
      "평균값 < 중앙값\n",
      "-23.5 < 1.5\n"
     ]
    }
   ],
   "source": [
    "# np.random.seed(1)\n",
    "arr = np.array([1,2,3,100])\n",
    "arr2 = np.array([-100,1,2,3])\n",
    "\n",
    "print(arr)\n",
    "print(f'평균값 > 중앙값\\n{np.mean(arr)} > {np.median(arr)}')\n",
    "print('')\n",
    "print(arr2)\n",
    "print(f'평균값 < 중앙값\\n{np.mean(arr2)} < {np.median(arr2)}')\n",
    "\n",
    "# 평균값은 이상치에 크게 영향을 받는편, 중앙값은 영향은 적게 받음"
   ]
  },
  {
   "cell_type": "markdown",
   "id": "94cd2c1a-6ac9-4e50-b65e-fd3c0481f519",
   "metadata": {},
   "source": [
    "#### [과제] 4분위를 이용하여 이상치를 구하는 사례를 작성하세요"
   ]
  },
  {
   "cell_type": "code",
   "execution_count": 19,
   "id": "a9b784c4-e46c-4ff0-a6a4-1dd8ac235e7e",
   "metadata": {},
   "outputs": [
    {
     "data": {
      "text/html": [
       "<div>\n",
       "<style scoped>\n",
       "    .dataframe tbody tr th:only-of-type {\n",
       "        vertical-align: middle;\n",
       "    }\n",
       "\n",
       "    .dataframe tbody tr th {\n",
       "        vertical-align: top;\n",
       "    }\n",
       "\n",
       "    .dataframe thead th {\n",
       "        text-align: right;\n",
       "    }\n",
       "</style>\n",
       "<table border=\"1\" class=\"dataframe\">\n",
       "  <thead>\n",
       "    <tr style=\"text-align: right;\">\n",
       "      <th></th>\n",
       "      <th>english</th>\n",
       "      <th>mathematics</th>\n",
       "    </tr>\n",
       "  </thead>\n",
       "  <tbody>\n",
       "    <tr>\n",
       "      <th>count</th>\n",
       "      <td>50.00</td>\n",
       "      <td>50.000</td>\n",
       "    </tr>\n",
       "    <tr>\n",
       "      <th>mean</th>\n",
       "      <td>58.38</td>\n",
       "      <td>78.880</td>\n",
       "    </tr>\n",
       "    <tr>\n",
       "      <th>std</th>\n",
       "      <td>9.80</td>\n",
       "      <td>8.414</td>\n",
       "    </tr>\n",
       "    <tr>\n",
       "      <th>min</th>\n",
       "      <td>37.00</td>\n",
       "      <td>57.000</td>\n",
       "    </tr>\n",
       "    <tr>\n",
       "      <th>25%</th>\n",
       "      <td>54.00</td>\n",
       "      <td>76.000</td>\n",
       "    </tr>\n",
       "    <tr>\n",
       "      <th>50%</th>\n",
       "      <td>57.50</td>\n",
       "      <td>80.000</td>\n",
       "    </tr>\n",
       "    <tr>\n",
       "      <th>75%</th>\n",
       "      <td>65.00</td>\n",
       "      <td>84.000</td>\n",
       "    </tr>\n",
       "    <tr>\n",
       "      <th>max</th>\n",
       "      <td>79.00</td>\n",
       "      <td>94.000</td>\n",
       "    </tr>\n",
       "  </tbody>\n",
       "</table>\n",
       "</div>"
      ],
      "text/plain": [
       "       english  mathematics\n",
       "count    50.00       50.000\n",
       "mean     58.38       78.880\n",
       "std       9.80        8.414\n",
       "min      37.00       57.000\n",
       "25%      54.00       76.000\n",
       "50%      57.50       80.000\n",
       "75%      65.00       84.000\n",
       "max      79.00       94.000"
      ]
     },
     "execution_count": 19,
     "metadata": {},
     "output_type": "execute_result"
    }
   ],
   "source": [
    "df.describe()"
   ]
  },
  {
   "cell_type": "code",
   "execution_count": 20,
   "id": "b0ddaad2-a276-4593-9733-c6f335b0b240",
   "metadata": {},
   "outputs": [
    {
     "name": "stdout",
     "output_type": "stream",
     "text": [
      "english\n",
      "11.0\n",
      "student number\n",
      "20    37\n",
      "35    37\n",
      "Name: english, dtype: int64\n",
      "\n",
      "mathematics\n",
      "8.0\n",
      "student number\n",
      "3     63\n",
      "4     63\n",
      "6     60\n",
      "35    57\n",
      "Name: mathematics, dtype: int64\n",
      "\n"
     ]
    }
   ],
   "source": [
    "# 성적이상치\n",
    "for i in df.columns:\n",
    "    print(i)\n",
    "    Q1 = np.percentile(df[i],25)\n",
    "    Q3 = np.percentile(df[i],75)\n",
    "    IQR = Q3 - Q1 \n",
    "    print(IQR)\n",
    "    mask = (df[i] <= (Q1 - IQR*1.5))| (df[i] >= (Q3 + IQR*1.5))\n",
    "    print(df[i][mask])\n",
    "    print('')"
   ]
  },
  {
   "cell_type": "markdown",
   "id": "9a4f474c-292a-4e5c-80d6-9cdd52f94d70",
   "metadata": {},
   "source": [
    "#### Box plot 의미 해석\n",
    "\n",
    "* IQR(Inter Quartile Range): 제 3사분위수 - 제1사분위수\n",
    "* lower whisker: Q1 - 1.5 x IQR 이내인 값중에서 최솟값\n",
    "* upper whisker: Q3 + 1.5 x IQR 이내인 값중에서 최댓값\n",
    "* 이상치: lower whisker, upper whisker를 벗어나는 값"
   ]
  },
  {
   "cell_type": "code",
   "execution_count": 21,
   "id": "3c798a14-89c8-4177-bc07-cf022cedac45",
   "metadata": {},
   "outputs": [
    {
     "data": {
      "text/plain": [
       "<AxesSubplot:>"
      ]
     },
     "execution_count": 21,
     "metadata": {},
     "output_type": "execute_result"
    },
    {
     "data": {
      "image/png": "[encoded data removed]",
      "text/plain": [
       "<Figure size 432x288 with 1 Axes>"
      ]
     },
     "metadata": {
      "needs_background": "light"
     },
     "output_type": "display_data"
    }
   ],
   "source": [
    "import seaborn as sns\n",
    "sns.boxplot(data=df)"
   ]
  },
  {
   "cell_type": "markdown",
   "id": "d6e7677c-93ce-4f4a-8f62-38d4b5ac44ec",
   "metadata": {},
   "source": [
    "#### [과제] 표본분산과 불편분산의 차이를 사례를 들어 설명하세요"
   ]
  },
  {
   "cell_type": "code",
   "execution_count": 38,
   "id": "a7395f62-e5c9-4014-a8c0-c50a2d04ff48",
   "metadata": {},
   "outputs": [
    {
     "name": "stdout",
     "output_type": "stream",
     "text": [
      "[14 16 19  1  8  0  4  6 13  7 15  9 18  8 15 11  6 15  1 12]\n",
      "평균: 9.9\n",
      "표본분산: 31.69\n",
      "표준편차: 5.63\n",
      "\n",
      "평균: 9.9\n",
      "불편분산: 33.36\n",
      "표준편차: 5.78\n"
     ]
    }
   ],
   "source": [
    "# np.random.seed(0)\n",
    "arr = np.array(np.random.randint(20,size=20))\n",
    "print(arr)\n",
    "print(f'평균: {np.mean(arr)}\\n표본분산: {np.var(arr):.2f}\\n표준편차: {np.std(arr):.2f}')\n",
    "print('')\n",
    "print(f'평균: {np.mean(arr)}\\n불편분산: {np.var(arr,ddof=1):.2f}\\n표준편차: {np.std(arr,ddof=1):.2f}')"
   ]
  },
  {
   "cell_type": "raw",
   "id": "27efe057-e48b-4038-be04-a805c7d2e17e",
   "metadata": {},
   "source": [
    "즉, 표본분산은 불편성을 만족하는 불편 추정량이 아니다! 다시 말해 표본분산은 '좋은 추정량'이 아니다. 따라서 우리는 표본분산이 좋은 추정량이 되게 하기 위해 정의를 약간 수정해주어야 한다. 그것은 바로 분모 n을 n−1로 바꾸어주는 것이다. 바꾸고 위 계산과정을 따르면 정확하게 \n",
    "σ2 이 나온다. 이것이 바로 표본분산을 구할 때 n이 아닌 n−1로 나누어주는 이유가 되겠다."
   ]
  },
  {
   "cell_type": "code",
   "execution_count": 28,
   "id": "d4b516e1-ecd8-47ca-9cc2-ee3c0947bf85",
   "metadata": {},
   "outputs": [
    {
     "data": {
      "text/html": [
       "<div>\n",
       "<style scoped>\n",
       "    .dataframe tbody tr th:only-of-type {\n",
       "        vertical-align: middle;\n",
       "    }\n",
       "\n",
       "    .dataframe tbody tr th {\n",
       "        vertical-align: top;\n",
       "    }\n",
       "\n",
       "    .dataframe thead th {\n",
       "        text-align: right;\n",
       "    }\n",
       "</style>\n",
       "<table border=\"1\" class=\"dataframe\">\n",
       "  <thead>\n",
       "    <tr style=\"text-align: right;\">\n",
       "      <th></th>\n",
       "      <th>score</th>\n",
       "    </tr>\n",
       "    <tr>\n",
       "      <th>student</th>\n",
       "      <th></th>\n",
       "    </tr>\n",
       "  </thead>\n",
       "  <tbody>\n",
       "    <tr>\n",
       "      <th>A</th>\n",
       "      <td>42</td>\n",
       "    </tr>\n",
       "    <tr>\n",
       "      <th>B</th>\n",
       "      <td>69</td>\n",
       "    </tr>\n",
       "    <tr>\n",
       "      <th>C</th>\n",
       "      <td>56</td>\n",
       "    </tr>\n",
       "    <tr>\n",
       "      <th>D</th>\n",
       "      <td>41</td>\n",
       "    </tr>\n",
       "    <tr>\n",
       "      <th>E</th>\n",
       "      <td>57</td>\n",
       "    </tr>\n",
       "    <tr>\n",
       "      <th>F</th>\n",
       "      <td>48</td>\n",
       "    </tr>\n",
       "    <tr>\n",
       "      <th>G</th>\n",
       "      <td>65</td>\n",
       "    </tr>\n",
       "    <tr>\n",
       "      <th>H</th>\n",
       "      <td>49</td>\n",
       "    </tr>\n",
       "    <tr>\n",
       "      <th>I</th>\n",
       "      <td>65</td>\n",
       "    </tr>\n",
       "    <tr>\n",
       "      <th>J</th>\n",
       "      <td>58</td>\n",
       "    </tr>\n",
       "  </tbody>\n",
       "</table>\n",
       "</div>"
      ],
      "text/plain": [
       "         score\n",
       "student       \n",
       "A           42\n",
       "B           69\n",
       "C           56\n",
       "D           41\n",
       "E           57\n",
       "F           48\n",
       "G           65\n",
       "H           49\n",
       "I           65\n",
       "J           58"
      ]
     },
     "execution_count": 28,
     "metadata": {},
     "output_type": "execute_result"
    }
   ],
   "source": [
    "import pandas as pd\n",
    "import numpy as np\n",
    "df = pd.read_csv('./python_stat_sample-master/data/ch2_scores_em.csv',index_col='student number')\n",
    "scores = np.array(df['english'])[:10]\n",
    "scores_df = pd.DataFrame({'score':scores},index=pd.Index(['A','B','C','D','E','F','G','H','I','J'],name='student'))\n",
    "scores_df"
   ]
  },
  {
   "cell_type": "code",
   "execution_count": null,
   "id": "16f73aee-26a6-401b-811e-cc99669997b2",
   "metadata": {},
   "outputs": [],
   "source": [
    "# [과제] p52 ~p83 예제 문제 풀어보기"
   ]
  },
  {
   "cell_type": "code",
   "execution_count": 39,
   "id": "c42f5bb9-bef4-43fd-83ef-1b03ed1aae06",
   "metadata": {},
   "outputs": [
    {
     "data": {
      "text/plain": [
       "array([-1.402,  1.51 ,  0.108, -1.51 ,  0.216, -0.755,  1.078, -0.647,\n",
       "        1.078,  0.323])"
      ]
     },
     "execution_count": 39,
     "metadata": {},
     "output_type": "execute_result"
    }
   ],
   "source": [
    "z = (scores - np.mean(scores))/np.std(scores)\n",
    "z"
   ]
  },
  {
   "cell_type": "code",
   "execution_count": 40,
   "id": "cc755632-3699-4beb-9b3e-49685e287da2",
   "metadata": {},
   "outputs": [
    {
     "data": {
      "text/plain": [
       "array([35.982, 65.097, 51.078, 34.903, 52.157, 42.452, 60.783, 43.53 ,\n",
       "       60.783, 53.235])"
      ]
     },
     "execution_count": 40,
     "metadata": {},
     "output_type": "execute_result"
    }
   ],
   "source": [
    "z = 50 + 10 * ( scores - np.mean(scores)) / np.std(scores)\n",
    "z"
   ]
  },
  {
   "cell_type": "code",
   "execution_count": 42,
   "id": "76db527c-e3e8-4a61-8e4b-1072f0b7921b",
   "metadata": {},
   "outputs": [
    {
     "data": {
      "text/html": [
       "<div>\n",
       "<style scoped>\n",
       "    .dataframe tbody tr th:only-of-type {\n",
       "        vertical-align: middle;\n",
       "    }\n",
       "\n",
       "    .dataframe tbody tr th {\n",
       "        vertical-align: top;\n",
       "    }\n",
       "\n",
       "    .dataframe thead th {\n",
       "        text-align: right;\n",
       "    }\n",
       "</style>\n",
       "<table border=\"1\" class=\"dataframe\">\n",
       "  <thead>\n",
       "    <tr style=\"text-align: right;\">\n",
       "      <th></th>\n",
       "      <th>score</th>\n",
       "      <th>deviation value</th>\n",
       "    </tr>\n",
       "  </thead>\n",
       "  <tbody>\n",
       "    <tr>\n",
       "      <th>count</th>\n",
       "      <td>10.000</td>\n",
       "      <td>10.000</td>\n",
       "    </tr>\n",
       "    <tr>\n",
       "      <th>mean</th>\n",
       "      <td>55.000</td>\n",
       "      <td>50.000</td>\n",
       "    </tr>\n",
       "    <tr>\n",
       "      <th>std</th>\n",
       "      <td>9.775</td>\n",
       "      <td>10.541</td>\n",
       "    </tr>\n",
       "    <tr>\n",
       "      <th>min</th>\n",
       "      <td>41.000</td>\n",
       "      <td>34.903</td>\n",
       "    </tr>\n",
       "    <tr>\n",
       "      <th>25%</th>\n",
       "      <td>48.250</td>\n",
       "      <td>42.721</td>\n",
       "    </tr>\n",
       "    <tr>\n",
       "      <th>50%</th>\n",
       "      <td>56.500</td>\n",
       "      <td>51.617</td>\n",
       "    </tr>\n",
       "    <tr>\n",
       "      <th>75%</th>\n",
       "      <td>63.250</td>\n",
       "      <td>58.896</td>\n",
       "    </tr>\n",
       "    <tr>\n",
       "      <th>max</th>\n",
       "      <td>69.000</td>\n",
       "      <td>65.097</td>\n",
       "    </tr>\n",
       "  </tbody>\n",
       "</table>\n",
       "</div>"
      ],
      "text/plain": [
       "        score  deviation value\n",
       "count  10.000           10.000\n",
       "mean   55.000           50.000\n",
       "std     9.775           10.541\n",
       "min    41.000           34.903\n",
       "25%    48.250           42.721\n",
       "50%    56.500           51.617\n",
       "75%    63.250           58.896\n",
       "max    69.000           65.097"
      ]
     },
     "execution_count": 42,
     "metadata": {},
     "output_type": "execute_result"
    }
   ],
   "source": [
    "# 평균이 50 , 표준편차가 10 으로 정규화\n",
    "scores_df['deviation value'] = z\n",
    "scores_df.describe()"
   ]
  },
  {
   "cell_type": "markdown",
   "id": "235d6d9a-574e-4431-87ea-272b0e204a4f",
   "metadata": {},
   "source": [
    "## 1차원 데이터의 시각화"
   ]
  },
  {
   "cell_type": "code",
   "execution_count": 44,
   "id": "304a6411-c322-494a-aa3c-8ebba31486e0",
   "metadata": {},
   "outputs": [
    {
     "data": {
      "text/plain": [
       "count    50.00\n",
       "mean     58.38\n",
       "std       9.80\n",
       "min      37.00\n",
       "25%      54.00\n",
       "50%      57.50\n",
       "75%      65.00\n",
       "max      79.00\n",
       "dtype: float64"
      ]
     },
     "execution_count": 44,
     "metadata": {},
     "output_type": "execute_result"
    }
   ],
   "source": [
    "english_scores = np.array(df['english'])\n",
    "pd.Series(english_scores).describe()"
   ]
  },
  {
   "cell_type": "code",
   "execution_count": 47,
   "id": "583d9cbc-0725-49f7-9eba-ef8024939fbe",
   "metadata": {},
   "outputs": [
    {
     "data": {
      "text/plain": [
       "array([42, 69, 56, 41, 57, 48, 65, 49, 65, 58, 70, 47, 51, 64, 62, 70, 71,\n",
       "       68, 73, 37, 65, 65, 61, 52, 57, 57, 75, 61, 47, 54, 66, 54, 54, 42,\n",
       "       37, 79, 56, 62, 62, 55, 63, 57, 57, 67, 55, 45, 66, 55, 64, 66])"
      ]
     },
     "execution_count": 47,
     "metadata": {},
     "output_type": "execute_result"
    }
   ],
   "source": [
    "english_scores"
   ]
  },
  {
   "cell_type": "code",
   "execution_count": 48,
   "id": "fee55283-74ff-4507-a0e2-d8404c42ee14",
   "metadata": {},
   "outputs": [
    {
     "data": {
      "text/plain": [
       "array([ 0,  0,  0,  2,  8, 16, 18,  6,  0,  0])"
      ]
     },
     "execution_count": 48,
     "metadata": {},
     "output_type": "execute_result"
    }
   ],
   "source": [
    "# bins = 계급수, range = 최소,최대값 지정\n",
    "freq,_ = np.histogram(english_scores,bins=10,range=(0,100))\n",
    "freq"
   ]
  },
  {
   "cell_type": "code",
   "execution_count": 50,
   "id": "43e40144-8903-4076-bdd7-1bc6f3558944",
   "metadata": {},
   "outputs": [
    {
     "data": {
      "text/html": [
       "<div>\n",
       "<style scoped>\n",
       "    .dataframe tbody tr th:only-of-type {\n",
       "        vertical-align: middle;\n",
       "    }\n",
       "\n",
       "    .dataframe tbody tr th {\n",
       "        vertical-align: top;\n",
       "    }\n",
       "\n",
       "    .dataframe thead th {\n",
       "        text-align: right;\n",
       "    }\n",
       "</style>\n",
       "<table border=\"1\" class=\"dataframe\">\n",
       "  <thead>\n",
       "    <tr style=\"text-align: right;\">\n",
       "      <th></th>\n",
       "      <th>frequency</th>\n",
       "    </tr>\n",
       "    <tr>\n",
       "      <th>class</th>\n",
       "      <th></th>\n",
       "    </tr>\n",
       "  </thead>\n",
       "  <tbody>\n",
       "    <tr>\n",
       "      <th>0~10</th>\n",
       "      <td>0</td>\n",
       "    </tr>\n",
       "    <tr>\n",
       "      <th>10~20</th>\n",
       "      <td>0</td>\n",
       "    </tr>\n",
       "    <tr>\n",
       "      <th>20~30</th>\n",
       "      <td>0</td>\n",
       "    </tr>\n",
       "    <tr>\n",
       "      <th>30~40</th>\n",
       "      <td>2</td>\n",
       "    </tr>\n",
       "    <tr>\n",
       "      <th>40~50</th>\n",
       "      <td>8</td>\n",
       "    </tr>\n",
       "    <tr>\n",
       "      <th>50~60</th>\n",
       "      <td>16</td>\n",
       "    </tr>\n",
       "    <tr>\n",
       "      <th>60~70</th>\n",
       "      <td>18</td>\n",
       "    </tr>\n",
       "    <tr>\n",
       "      <th>70~80</th>\n",
       "      <td>6</td>\n",
       "    </tr>\n",
       "    <tr>\n",
       "      <th>80~90</th>\n",
       "      <td>0</td>\n",
       "    </tr>\n",
       "    <tr>\n",
       "      <th>90~100</th>\n",
       "      <td>0</td>\n",
       "    </tr>\n",
       "  </tbody>\n",
       "</table>\n",
       "</div>"
      ],
      "text/plain": [
       "        frequency\n",
       "class            \n",
       "0~10            0\n",
       "10~20           0\n",
       "20~30           0\n",
       "30~40           2\n",
       "40~50           8\n",
       "50~60          16\n",
       "60~70          18\n",
       "70~80           6\n",
       "80~90           0\n",
       "90~100          0"
      ]
     },
     "execution_count": 50,
     "metadata": {},
     "output_type": "execute_result"
    }
   ],
   "source": [
    "freq_class = [f'{i}~{i+10}' for i in range(0,100,10)]\n",
    "freq_dist_df = pd.DataFrame({'frequency':freq},\n",
    "                           index=pd.Index(freq_class,name='class'))\n",
    "freq_dist_df"
   ]
  },
  {
   "cell_type": "code",
   "execution_count": 51,
   "id": "c34b4898-a639-4af8-a58b-3393d38b278a",
   "metadata": {},
   "outputs": [
    {
     "data": {
      "text/plain": [
       "[5, 15, 25, 35, 45, 55, 65, 75, 85, 95]"
      ]
     },
     "execution_count": 51,
     "metadata": {},
     "output_type": "execute_result"
    }
   ],
   "source": [
    "# 계급값\n",
    "class_value = [(i+(i+10))//2 for i in range(0,100,10)]\n",
    "class_value"
   ]
  },
  {
   "cell_type": "code",
   "execution_count": 53,
   "id": "5e8946fa-36c9-452b-9bd5-3a4236dce30c",
   "metadata": {},
   "outputs": [
    {
     "data": {
      "text/plain": [
       "array([0.  , 0.  , 0.  , 0.04, 0.16, 0.32, 0.36, 0.12, 0.  , 0.  ])"
      ]
     },
     "execution_count": 53,
     "metadata": {},
     "output_type": "execute_result"
    }
   ],
   "source": [
    "# 상대도수\n",
    "rel_freq = freq / freq.sum()\n",
    "rel_freq"
   ]
  },
  {
   "cell_type": "code",
   "execution_count": 54,
   "id": "5e846e34-c225-442c-9fe8-bdbf69d9e2ab",
   "metadata": {},
   "outputs": [
    {
     "data": {
      "text/plain": [
       "array([0.  , 0.  , 0.  , 0.04, 0.2 , 0.52, 0.88, 1.  , 1.  , 1.  ])"
      ]
     },
     "execution_count": 54,
     "metadata": {},
     "output_type": "execute_result"
    }
   ],
   "source": [
    "# 누적상대도수\n",
    "cum_rel_freq = np.cumsum(rel_freq)\n",
    "cum_rel_freq"
   ]
  },
  {
   "cell_type": "code",
   "execution_count": 55,
   "id": "6fa897e6-0374-4539-8f0f-3559cd225c49",
   "metadata": {},
   "outputs": [
    {
     "data": {
      "text/html": [
       "<div>\n",
       "<style scoped>\n",
       "    .dataframe tbody tr th:only-of-type {\n",
       "        vertical-align: middle;\n",
       "    }\n",
       "\n",
       "    .dataframe tbody tr th {\n",
       "        vertical-align: top;\n",
       "    }\n",
       "\n",
       "    .dataframe thead th {\n",
       "        text-align: right;\n",
       "    }\n",
       "</style>\n",
       "<table border=\"1\" class=\"dataframe\">\n",
       "  <thead>\n",
       "    <tr style=\"text-align: right;\">\n",
       "      <th></th>\n",
       "      <th>class value</th>\n",
       "      <th>frequency</th>\n",
       "      <th>relative frequency</th>\n",
       "      <th>cumulative relative frequency</th>\n",
       "    </tr>\n",
       "    <tr>\n",
       "      <th>class</th>\n",
       "      <th></th>\n",
       "      <th></th>\n",
       "      <th></th>\n",
       "      <th></th>\n",
       "    </tr>\n",
       "  </thead>\n",
       "  <tbody>\n",
       "    <tr>\n",
       "      <th>0~10</th>\n",
       "      <td>5</td>\n",
       "      <td>0</td>\n",
       "      <td>0.00</td>\n",
       "      <td>0.00</td>\n",
       "    </tr>\n",
       "    <tr>\n",
       "      <th>10~20</th>\n",
       "      <td>15</td>\n",
       "      <td>0</td>\n",
       "      <td>0.00</td>\n",
       "      <td>0.00</td>\n",
       "    </tr>\n",
       "    <tr>\n",
       "      <th>20~30</th>\n",
       "      <td>25</td>\n",
       "      <td>0</td>\n",
       "      <td>0.00</td>\n",
       "      <td>0.00</td>\n",
       "    </tr>\n",
       "    <tr>\n",
       "      <th>30~40</th>\n",
       "      <td>35</td>\n",
       "      <td>2</td>\n",
       "      <td>0.04</td>\n",
       "      <td>0.04</td>\n",
       "    </tr>\n",
       "    <tr>\n",
       "      <th>40~50</th>\n",
       "      <td>45</td>\n",
       "      <td>8</td>\n",
       "      <td>0.16</td>\n",
       "      <td>0.20</td>\n",
       "    </tr>\n",
       "    <tr>\n",
       "      <th>50~60</th>\n",
       "      <td>55</td>\n",
       "      <td>16</td>\n",
       "      <td>0.32</td>\n",
       "      <td>0.52</td>\n",
       "    </tr>\n",
       "    <tr>\n",
       "      <th>60~70</th>\n",
       "      <td>65</td>\n",
       "      <td>18</td>\n",
       "      <td>0.36</td>\n",
       "      <td>0.88</td>\n",
       "    </tr>\n",
       "    <tr>\n",
       "      <th>70~80</th>\n",
       "      <td>75</td>\n",
       "      <td>6</td>\n",
       "      <td>0.12</td>\n",
       "      <td>1.00</td>\n",
       "    </tr>\n",
       "    <tr>\n",
       "      <th>80~90</th>\n",
       "      <td>85</td>\n",
       "      <td>0</td>\n",
       "      <td>0.00</td>\n",
       "      <td>1.00</td>\n",
       "    </tr>\n",
       "    <tr>\n",
       "      <th>90~100</th>\n",
       "      <td>95</td>\n",
       "      <td>0</td>\n",
       "      <td>0.00</td>\n",
       "      <td>1.00</td>\n",
       "    </tr>\n",
       "  </tbody>\n",
       "</table>\n",
       "</div>"
      ],
      "text/plain": [
       "        class value  frequency  relative frequency  \\\n",
       "class                                                \n",
       "0~10              5          0                0.00   \n",
       "10~20            15          0                0.00   \n",
       "20~30            25          0                0.00   \n",
       "30~40            35          2                0.04   \n",
       "40~50            45          8                0.16   \n",
       "50~60            55         16                0.32   \n",
       "60~70            65         18                0.36   \n",
       "70~80            75          6                0.12   \n",
       "80~90            85          0                0.00   \n",
       "90~100           95          0                0.00   \n",
       "\n",
       "        cumulative relative frequency  \n",
       "class                                  \n",
       "0~10                             0.00  \n",
       "10~20                            0.00  \n",
       "20~30                            0.00  \n",
       "30~40                            0.04  \n",
       "40~50                            0.20  \n",
       "50~60                            0.52  \n",
       "60~70                            0.88  \n",
       "70~80                            1.00  \n",
       "80~90                            1.00  \n",
       "90~100                           1.00  "
      ]
     },
     "execution_count": 55,
     "metadata": {},
     "output_type": "execute_result"
    }
   ],
   "source": [
    "freq_dist_df['class value'] = class_value\n",
    "freq_dist_df['relative frequency'] = rel_freq\n",
    "freq_dist_df['cumulative relative frequency'] = cum_rel_freq\n",
    "freq_dist_df = freq_dist_df[['class value','frequency','relative frequency','cumulative relative frequency']]\n",
    "freq_dist_df"
   ]
  },
  {
   "cell_type": "code",
   "execution_count": 56,
   "id": "052118c4-2b45-4b82-8484-ceaa2d16f293",
   "metadata": {},
   "outputs": [
    {
     "data": {
      "text/plain": [
       "65"
      ]
     },
     "execution_count": 56,
     "metadata": {},
     "output_type": "execute_result"
    }
   ],
   "source": [
    "# 최빈값 재검토\n",
    "freq_dist_df.loc[freq_dist_df['frequency'].idxmax(),'class value']"
   ]
  },
  {
   "cell_type": "markdown",
   "id": "c54c3eea-972a-4fd2-b547-296251b3d55f",
   "metadata": {},
   "source": [
    "### 히스토그램"
   ]
  },
  {
   "cell_type": "code",
   "execution_count": 70,
   "id": "693cb6e1-0434-4358-8d54-7e6bf2a70c10",
   "metadata": {},
   "outputs": [
    {
     "data": {
      "image/png": "[encoded data removed]",
      "text/plain": [
       "<Figure size 720x432 with 1 Axes>"
      ]
     },
     "metadata": {
      "needs_background": "light"
     },
     "output_type": "display_data"
    }
   ],
   "source": [
    "# 히스토그램\n",
    "import matplotlib.pyplot as plt\n",
    "%matplotlib inline\n",
    "\n",
    "fig = plt.figure(figsize=(10,6))\n",
    "# 1x1영역에 1개 그린다는 의미\n",
    "ax = fig.add_subplot(111) \n",
    "# 계급수를 10으로 하여 히스토그램을 그림\n",
    "freq,_,_ = ax.hist(english_scores,bins=10,range=(0,100))\n",
    "ax.set_xlabel('score')\n",
    "ax.set_ylabel('person number')\n",
    "# 구간을 10개 나눠야하 하니 숫자 11개 뽑아야함\n",
    "ax.set_xticks(np.linspace(0,100,10+1)) \n",
    "ax.set_yticks(np.arange(0,freq.max()+1))\n",
    "plt.show()\n",
    "\n"
   ]
  },
  {
   "cell_type": "code",
   "execution_count": 72,
   "id": "d9e880fd-edbf-4d88-951d-75f03ad25367",
   "metadata": {},
   "outputs": [
    {
     "data": {
      "image/png": "[encoded data removed]",
      "text/plain": [
       "<Figure size 720x432 with 1 Axes>"
      ]
     },
     "metadata": {
      "needs_background": "light"
     },
     "output_type": "display_data"
    }
   ],
   "source": [
    "# 계급수를 25으로 하여 히스토그램을 그림\n",
    "\n",
    "import matplotlib.pyplot as plt\n",
    "%matplotlib inline\n",
    "\n",
    "fig = plt.figure(figsize=(10,6))\n",
    "# 1x1영역에 1개 그린다는 의미\n",
    "ax = fig.add_subplot(111) \n",
    "\n",
    "freq,_,_ = ax.hist(english_scores,bins=25,range=(0,100))\n",
    "ax.set_xlabel('score')\n",
    "ax.set_ylabel('person number')\n",
    "# 구간을 10개 나눠야하 하니 숫자 11개 뽑아야함\n",
    "ax.set_xticks(np.linspace(0,100,25+1)) \n",
    "ax.set_yticks(np.arange(0,freq.max()+1))\n",
    "plt.show()\n",
    "\n"
   ]
  },
  {
   "cell_type": "markdown",
   "id": "48e181d7-3a2d-4590-869b-4ea34d2c3a36",
   "metadata": {},
   "source": [
    "### 상대도수의 히스토그램을 누적상대도수의 꺽은선 그래프와 함께 그림"
   ]
  },
  {
   "cell_type": "code",
   "execution_count": 86,
   "id": "36f44c57-89ee-4be0-9850-0ab037177428",
   "metadata": {},
   "outputs": [
    {
     "data": {
      "image/png": "[encoded data removed]",
      "text/plain": [
       "<Figure size 720x432 with 2 Axes>"
      ]
     },
     "metadata": {
      "needs_background": "light"
     },
     "output_type": "display_data"
    }
   ],
   "source": [
    "# 상대도수의 히스토그램을 누적상대도수의 꺽은선 그래프와 함께 그림\n",
    "\n",
    "import matplotlib.pyplot as plt\n",
    "%matplotlib inline\n",
    "\n",
    "fig = plt.figure(figsize=(10,6))\n",
    "# 1x1영역에 1개 그린다는 의미\n",
    "ax1 = fig.add_subplot(111) \n",
    "# Y축 스케일이 다른 그래프를 ax1과 동일한 영역에 생성\n",
    "ax2 = ax1.twinx()\n",
    "\n",
    "# 상대도수의 히스토그램으로 하기 위해서는 도수를 데이터의 수로 나눌 필요가 있음\n",
    "# 이것은 hist의 인수 weight를 지정하면 실현 가능\n",
    "weights = np.ones_like(english_scores) / len(english_scores)\n",
    "# print(weights)\n",
    "rel_freq ,_,_ = ax1.hist(english_scores,bins=25,range=(0,100),weights=weights)\n",
    "\n",
    "cum_rel_freq = np.cumsum(rel_freq)\n",
    "class_value = [(i+(i+4))//2 for i in range(0,100,4)]\n",
    "\n",
    "# 꺽은선 그래프를 그림\n",
    "# 인수 ls를 '--'로 하면 점선이 그려짐\n",
    "# 인수 marker 를 'o'으로 하면 데이터 점을 그림\n",
    "# 인수 color를 'gray'로 하면 회색을 지정\n",
    "ax2.plot(class_value,cum_rel_freq,ls='--',marker='o',color='gray')\n",
    "# 꺽은선 그래프의 눈금선을 제거\n",
    "ax2.grid(visible=False)\n",
    "\n",
    "ax1.set_xlabel('score')\n",
    "ax1.set_ylabel('relative frequency')\n",
    "ax2.set_ylabel('cumulative relative frequency')\n",
    "\n",
    "ax1.set_xticks(np.linspace(0,100,25+1)) \n",
    "plt.show()\n",
    "\n"
   ]
  },
  {
   "cell_type": "markdown",
   "id": "29bd347f-38bb-4931-b22c-050df149fdd8",
   "metadata": {},
   "source": [
    "### 박스 플롯"
   ]
  },
  {
   "cell_type": "code",
   "execution_count": 89,
   "id": "13704bc7-aa41-498d-83ac-a0d034892adc",
   "metadata": {},
   "outputs": [
    {
     "data": {
      "image/png": "[encoded data removed]",
      "text/plain": [
       "<Figure size 360x432 with 1 Axes>"
      ]
     },
     "metadata": {
      "needs_background": "light"
     },
     "output_type": "display_data"
    }
   ],
   "source": [
    "# 박스 플롯\n",
    "\n",
    "fig = plt.figure(figsize=(5,6))\n",
    "ax = fig.add_subplot(111)\n",
    "ax.boxplot(english_scores,labels=['english'])\n",
    "\n",
    "plt.show()"
   ]
  },
  {
   "cell_type": "markdown",
   "id": "5f6aceee-e295-4f93-8ac8-bc080046aa63",
   "metadata": {
    "tags": []
   },
   "source": [
    "## 2차원 데이터의 정리"
   ]
  },
  {
   "cell_type": "markdown",
   "id": "55d64a64-4dbd-41b6-acc3-a732453af251",
   "metadata": {},
   "source": [
    "## 두 데이터 사이의 관계를 나타내는 지표"
   ]
  },
  {
   "cell_type": "code",
   "execution_count": 91,
   "id": "24a3ae95-d573-43e3-9a03-86a3d92ffa6f",
   "metadata": {
    "ExecuteTime": {
     "end_time": "2018-08-14T06:40:19.527554Z",
     "start_time": "2018-08-14T06:40:19.362974Z"
    }
   },
   "outputs": [],
   "source": [
    "import pandas as pd\n",
    "import numpy as np\n",
    "%precision 3\n",
    "pd.set_option('display.precision', 3)\n",
    "np.set_printoptions(precision=3)\n",
    "import warnings\n",
    "warnings.filterwarnings('ignore')"
   ]
  },
  {
   "cell_type": "code",
   "execution_count": 93,
   "id": "32e2ac0a-8741-4b34-ba50-1f496ab288d8",
   "metadata": {
    "ExecuteTime": {
     "end_time": "2018-08-14T06:40:19.532933Z",
     "start_time": "2018-08-14T06:40:19.528592Z"
    }
   },
   "outputs": [],
   "source": [
    "df = pd.read_csv('./python_stat_sample-master/data/ch2_scores_em.csv',index_col='student number')"
   ]
  },
  {
   "cell_type": "code",
   "execution_count": 94,
   "id": "881addf7-c682-4314-b316-259197a39c60",
   "metadata": {
    "ExecuteTime": {
     "end_time": "2018-08-14T06:40:19.544111Z",
     "start_time": "2018-08-14T06:40:19.534006Z"
    }
   },
   "outputs": [
    {
     "data": {
      "text/html": [
       "<div>\n",
       "<style scoped>\n",
       "    .dataframe tbody tr th:only-of-type {\n",
       "        vertical-align: middle;\n",
       "    }\n",
       "\n",
       "    .dataframe tbody tr th {\n",
       "        vertical-align: top;\n",
       "    }\n",
       "\n",
       "    .dataframe thead th {\n",
       "        text-align: right;\n",
       "    }\n",
       "</style>\n",
       "<table border=\"1\" class=\"dataframe\">\n",
       "  <thead>\n",
       "    <tr style=\"text-align: right;\">\n",
       "      <th></th>\n",
       "      <th>english</th>\n",
       "      <th>mathematics</th>\n",
       "    </tr>\n",
       "    <tr>\n",
       "      <th>student</th>\n",
       "      <th></th>\n",
       "      <th></th>\n",
       "    </tr>\n",
       "  </thead>\n",
       "  <tbody>\n",
       "    <tr>\n",
       "      <th>A</th>\n",
       "      <td>42</td>\n",
       "      <td>65</td>\n",
       "    </tr>\n",
       "    <tr>\n",
       "      <th>B</th>\n",
       "      <td>69</td>\n",
       "      <td>80</td>\n",
       "    </tr>\n",
       "    <tr>\n",
       "      <th>C</th>\n",
       "      <td>56</td>\n",
       "      <td>63</td>\n",
       "    </tr>\n",
       "    <tr>\n",
       "      <th>D</th>\n",
       "      <td>41</td>\n",
       "      <td>63</td>\n",
       "    </tr>\n",
       "    <tr>\n",
       "      <th>E</th>\n",
       "      <td>57</td>\n",
       "      <td>76</td>\n",
       "    </tr>\n",
       "    <tr>\n",
       "      <th>F</th>\n",
       "      <td>48</td>\n",
       "      <td>60</td>\n",
       "    </tr>\n",
       "    <tr>\n",
       "      <th>G</th>\n",
       "      <td>65</td>\n",
       "      <td>81</td>\n",
       "    </tr>\n",
       "    <tr>\n",
       "      <th>H</th>\n",
       "      <td>49</td>\n",
       "      <td>66</td>\n",
       "    </tr>\n",
       "    <tr>\n",
       "      <th>I</th>\n",
       "      <td>65</td>\n",
       "      <td>78</td>\n",
       "    </tr>\n",
       "    <tr>\n",
       "      <th>J</th>\n",
       "      <td>58</td>\n",
       "      <td>82</td>\n",
       "    </tr>\n",
       "  </tbody>\n",
       "</table>\n",
       "</div>"
      ],
      "text/plain": [
       "         english  mathematics\n",
       "student                      \n",
       "A             42           65\n",
       "B             69           80\n",
       "C             56           63\n",
       "D             41           63\n",
       "E             57           76\n",
       "F             48           60\n",
       "G             65           81\n",
       "H             49           66\n",
       "I             65           78\n",
       "J             58           82"
      ]
     },
     "execution_count": 94,
     "metadata": {},
     "output_type": "execute_result"
    }
   ],
   "source": [
    "en_scores = np.array(df['english'])[:10]\n",
    "ma_scores = np.array(df['mathematics'])[:10]\n",
    "\n",
    "scores_df = pd.DataFrame({'english':en_scores,\n",
    "                          'mathematics':ma_scores},\n",
    "                         index=pd.Index(['A', 'B', 'C', 'D', 'E',\n",
    "                                         'F', 'G', 'H', 'I', 'J'],\n",
    "                                        name='student'))\n",
    "scores_df"
   ]
  },
  {
   "cell_type": "markdown",
   "id": "756ebff5-4c97-4997-ae00-aebef84dc77d",
   "metadata": {},
   "source": [
    "### 共分散 공분산"
   ]
  },
  {
   "cell_type": "code",
   "execution_count": 95,
   "id": "d17fb8c9-fa09-4542-bdf6-7fd78e76f3c8",
   "metadata": {
    "ExecuteTime": {
     "end_time": "2018-08-14T06:40:19.566635Z",
     "start_time": "2018-08-14T06:40:19.545215Z"
    }
   },
   "outputs": [
    {
     "data": {
      "text/html": [
       "<div>\n",
       "<style scoped>\n",
       "    .dataframe tbody tr th:only-of-type {\n",
       "        vertical-align: middle;\n",
       "    }\n",
       "\n",
       "    .dataframe tbody tr th {\n",
       "        vertical-align: top;\n",
       "    }\n",
       "\n",
       "    .dataframe thead th {\n",
       "        text-align: right;\n",
       "    }\n",
       "</style>\n",
       "<table border=\"1\" class=\"dataframe\">\n",
       "  <thead>\n",
       "    <tr style=\"text-align: right;\">\n",
       "      <th></th>\n",
       "      <th>english</th>\n",
       "      <th>mathematics</th>\n",
       "      <th>english_deviation</th>\n",
       "      <th>mathematics_deviation</th>\n",
       "      <th>product of deviations</th>\n",
       "    </tr>\n",
       "    <tr>\n",
       "      <th>student</th>\n",
       "      <th></th>\n",
       "      <th></th>\n",
       "      <th></th>\n",
       "      <th></th>\n",
       "      <th></th>\n",
       "    </tr>\n",
       "  </thead>\n",
       "  <tbody>\n",
       "    <tr>\n",
       "      <th>A</th>\n",
       "      <td>42</td>\n",
       "      <td>65</td>\n",
       "      <td>-13.0</td>\n",
       "      <td>-6.4</td>\n",
       "      <td>83.2</td>\n",
       "    </tr>\n",
       "    <tr>\n",
       "      <th>B</th>\n",
       "      <td>69</td>\n",
       "      <td>80</td>\n",
       "      <td>14.0</td>\n",
       "      <td>8.6</td>\n",
       "      <td>120.4</td>\n",
       "    </tr>\n",
       "    <tr>\n",
       "      <th>C</th>\n",
       "      <td>56</td>\n",
       "      <td>63</td>\n",
       "      <td>1.0</td>\n",
       "      <td>-8.4</td>\n",
       "      <td>-8.4</td>\n",
       "    </tr>\n",
       "    <tr>\n",
       "      <th>D</th>\n",
       "      <td>41</td>\n",
       "      <td>63</td>\n",
       "      <td>-14.0</td>\n",
       "      <td>-8.4</td>\n",
       "      <td>117.6</td>\n",
       "    </tr>\n",
       "    <tr>\n",
       "      <th>E</th>\n",
       "      <td>57</td>\n",
       "      <td>76</td>\n",
       "      <td>2.0</td>\n",
       "      <td>4.6</td>\n",
       "      <td>9.2</td>\n",
       "    </tr>\n",
       "    <tr>\n",
       "      <th>F</th>\n",
       "      <td>48</td>\n",
       "      <td>60</td>\n",
       "      <td>-7.0</td>\n",
       "      <td>-11.4</td>\n",
       "      <td>79.8</td>\n",
       "    </tr>\n",
       "    <tr>\n",
       "      <th>G</th>\n",
       "      <td>65</td>\n",
       "      <td>81</td>\n",
       "      <td>10.0</td>\n",
       "      <td>9.6</td>\n",
       "      <td>96.0</td>\n",
       "    </tr>\n",
       "    <tr>\n",
       "      <th>H</th>\n",
       "      <td>49</td>\n",
       "      <td>66</td>\n",
       "      <td>-6.0</td>\n",
       "      <td>-5.4</td>\n",
       "      <td>32.4</td>\n",
       "    </tr>\n",
       "    <tr>\n",
       "      <th>I</th>\n",
       "      <td>65</td>\n",
       "      <td>78</td>\n",
       "      <td>10.0</td>\n",
       "      <td>6.6</td>\n",
       "      <td>66.0</td>\n",
       "    </tr>\n",
       "    <tr>\n",
       "      <th>J</th>\n",
       "      <td>58</td>\n",
       "      <td>82</td>\n",
       "      <td>3.0</td>\n",
       "      <td>10.6</td>\n",
       "      <td>31.8</td>\n",
       "    </tr>\n",
       "  </tbody>\n",
       "</table>\n",
       "</div>"
      ],
      "text/plain": [
       "         english  mathematics  english_deviation  mathematics_deviation  \\\n",
       "student                                                                   \n",
       "A             42           65              -13.0                   -6.4   \n",
       "B             69           80               14.0                    8.6   \n",
       "C             56           63                1.0                   -8.4   \n",
       "D             41           63              -14.0                   -8.4   \n",
       "E             57           76                2.0                    4.6   \n",
       "F             48           60               -7.0                  -11.4   \n",
       "G             65           81               10.0                    9.6   \n",
       "H             49           66               -6.0                   -5.4   \n",
       "I             65           78               10.0                    6.6   \n",
       "J             58           82                3.0                   10.6   \n",
       "\n",
       "         product of deviations  \n",
       "student                         \n",
       "A                         83.2  \n",
       "B                        120.4  \n",
       "C                         -8.4  \n",
       "D                        117.6  \n",
       "E                          9.2  \n",
       "F                         79.8  \n",
       "G                         96.0  \n",
       "H                         32.4  \n",
       "I                         66.0  \n",
       "J                         31.8  "
      ]
     },
     "execution_count": 95,
     "metadata": {},
     "output_type": "execute_result"
    }
   ],
   "source": [
    "summary_df = scores_df.copy()\n",
    "summary_df['english_deviation'] =\\\n",
    "    summary_df['english'] - summary_df['english'].mean()\n",
    "summary_df['mathematics_deviation'] =\\\n",
    "    summary_df['mathematics'] - summary_df['mathematics'].mean()\n",
    "summary_df['product of deviations'] =\\\n",
    "    summary_df['english_deviation'] * summary_df['mathematics_deviation']\n",
    "summary_df"
   ]
  },
  {
   "cell_type": "code",
   "execution_count": 5,
   "id": "9443d572-058f-4ef5-8228-66874a1d6928",
   "metadata": {
    "ExecuteTime": {
     "end_time": "2018-08-14T06:40:19.570409Z",
     "start_time": "2018-08-14T06:40:19.567674Z"
    }
   },
   "outputs": [
    {
     "data": {
      "text/plain": [
       "62.800"
      ]
     },
     "execution_count": 5,
     "metadata": {},
     "output_type": "execute_result"
    }
   ],
   "source": [
    "summary_df['product of deviations'].mean()"
   ]
  },
  {
   "cell_type": "code",
   "execution_count": 96,
   "id": "d20d61ee-6f02-4965-9fa8-1d09a726c394",
   "metadata": {
    "ExecuteTime": {
     "end_time": "2018-08-14T06:40:19.575907Z",
     "start_time": "2018-08-14T06:40:19.571427Z"
    }
   },
   "outputs": [
    {
     "data": {
      "text/plain": [
       "array([[86.  , 62.8 ],\n",
       "       [62.8 , 68.44]])"
      ]
     },
     "execution_count": 96,
     "metadata": {},
     "output_type": "execute_result"
    }
   ],
   "source": [
    "cov_mat = np.cov(en_scores, ma_scores, ddof=0)\n",
    "cov_mat"
   ]
  },
  {
   "cell_type": "code",
   "execution_count": 97,
   "id": "a1144aa9-1760-4adc-9920-2e5dad754f5d",
   "metadata": {
    "ExecuteTime": {
     "end_time": "2018-08-14T06:40:19.580080Z",
     "start_time": "2018-08-14T06:40:19.577571Z"
    }
   },
   "outputs": [
    {
     "data": {
      "text/plain": [
       "(62.800, 62.800)"
      ]
     },
     "execution_count": 97,
     "metadata": {},
     "output_type": "execute_result"
    }
   ],
   "source": [
    "cov_mat[0, 1], cov_mat[1, 0]"
   ]
  },
  {
   "cell_type": "code",
   "execution_count": 98,
   "id": "d96944af-2aa7-4a95-ba61-f41f63ebbe82",
   "metadata": {
    "ExecuteTime": {
     "end_time": "2018-08-14T06:40:19.583685Z",
     "start_time": "2018-08-14T06:40:19.581281Z"
    }
   },
   "outputs": [
    {
     "data": {
      "text/plain": [
       "(86.000, 68.440)"
      ]
     },
     "execution_count": 98,
     "metadata": {},
     "output_type": "execute_result"
    }
   ],
   "source": [
    "cov_mat[0, 0], cov_mat[1, 1]"
   ]
  },
  {
   "cell_type": "code",
   "execution_count": 99,
   "id": "cc981622-559a-41bc-a517-f08ad63985b8",
   "metadata": {
    "ExecuteTime": {
     "end_time": "2018-08-14T06:40:19.588330Z",
     "start_time": "2018-08-14T06:40:19.584646Z"
    }
   },
   "outputs": [
    {
     "data": {
      "text/plain": [
       "(86.000, 68.440)"
      ]
     },
     "execution_count": 99,
     "metadata": {},
     "output_type": "execute_result"
    }
   ],
   "source": [
    "np.var(en_scores, ddof=0), np.var(ma_scores, ddof=0)"
   ]
  },
  {
   "cell_type": "markdown",
   "id": "bb41c709-ad51-4bec-9e68-991d4d85cdec",
   "metadata": {},
   "source": [
    "### 상관계수"
   ]
  },
  {
   "cell_type": "code",
   "execution_count": 100,
   "id": "7f48294e-c826-4b66-b56b-f6b80435bfa6",
   "metadata": {
    "ExecuteTime": {
     "end_time": "2018-08-14T06:40:19.592372Z",
     "start_time": "2018-08-14T06:40:19.589231Z"
    }
   },
   "outputs": [
    {
     "data": {
      "text/plain": [
       "0.819"
      ]
     },
     "execution_count": 100,
     "metadata": {},
     "output_type": "execute_result"
    }
   ],
   "source": [
    "np.cov(en_scores, ma_scores, ddof=0)[0, 1] /\\\n",
    "    (np.std(en_scores) * np.std(ma_scores))"
   ]
  },
  {
   "cell_type": "code",
   "execution_count": 101,
   "id": "c8d4c813-f4f7-4632-8838-460a3c35bf03",
   "metadata": {
    "ExecuteTime": {
     "end_time": "2018-08-14T06:40:19.597039Z",
     "start_time": "2018-08-14T06:40:19.593315Z"
    }
   },
   "outputs": [
    {
     "data": {
      "text/plain": [
       "array([[1.   , 0.819],\n",
       "       [0.819, 1.   ]])"
      ]
     },
     "execution_count": 101,
     "metadata": {},
     "output_type": "execute_result"
    }
   ],
   "source": [
    "np.corrcoef(en_scores, ma_scores)"
   ]
  },
  {
   "cell_type": "code",
   "execution_count": 102,
   "id": "34cdf093-e955-4804-9fc7-246cff5b33c9",
   "metadata": {
    "ExecuteTime": {
     "end_time": "2018-08-14T06:40:19.602887Z",
     "start_time": "2018-08-14T06:40:19.598025Z"
    }
   },
   "outputs": [
    {
     "data": {
      "text/html": [
       "<div>\n",
       "<style scoped>\n",
       "    .dataframe tbody tr th:only-of-type {\n",
       "        vertical-align: middle;\n",
       "    }\n",
       "\n",
       "    .dataframe tbody tr th {\n",
       "        vertical-align: top;\n",
       "    }\n",
       "\n",
       "    .dataframe thead th {\n",
       "        text-align: right;\n",
       "    }\n",
       "</style>\n",
       "<table border=\"1\" class=\"dataframe\">\n",
       "  <thead>\n",
       "    <tr style=\"text-align: right;\">\n",
       "      <th></th>\n",
       "      <th>english</th>\n",
       "      <th>mathematics</th>\n",
       "    </tr>\n",
       "  </thead>\n",
       "  <tbody>\n",
       "    <tr>\n",
       "      <th>english</th>\n",
       "      <td>1.000</td>\n",
       "      <td>0.819</td>\n",
       "    </tr>\n",
       "    <tr>\n",
       "      <th>mathematics</th>\n",
       "      <td>0.819</td>\n",
       "      <td>1.000</td>\n",
       "    </tr>\n",
       "  </tbody>\n",
       "</table>\n",
       "</div>"
      ],
      "text/plain": [
       "             english  mathematics\n",
       "english        1.000        0.819\n",
       "mathematics    0.819        1.000"
      ]
     },
     "execution_count": 102,
     "metadata": {},
     "output_type": "execute_result"
    }
   ],
   "source": [
    "scores_df.corr()"
   ]
  },
  {
   "cell_type": "markdown",
   "id": "618e3a61-d4a8-4ff0-957b-232aa09569ce",
   "metadata": {
    "tags": []
   },
   "source": [
    "## 2차원 데이터의 시각화"
   ]
  },
  {
   "cell_type": "markdown",
   "id": "c5ec9390-c71e-4168-9ff9-b765ca704211",
   "metadata": {},
   "source": [
    "### 산점도"
   ]
  },
  {
   "cell_type": "code",
   "execution_count": 103,
   "id": "9895facd-9677-4570-bf90-4223738a739f",
   "metadata": {
    "ExecuteTime": {
     "end_time": "2018-08-14T06:40:19.675926Z",
     "start_time": "2018-08-14T06:40:19.603899Z"
    }
   },
   "outputs": [],
   "source": [
    "import matplotlib.pyplot as plt\n",
    "\n",
    "%matplotlib inline"
   ]
  },
  {
   "cell_type": "code",
   "execution_count": 104,
   "id": "1c5f1a3c-18b6-4db5-8a2c-50dd3818fd4d",
   "metadata": {
    "ExecuteTime": {
     "end_time": "2018-08-14T06:40:19.805306Z",
     "start_time": "2018-08-14T06:40:19.677328Z"
    }
   },
   "outputs": [
    {
     "data": {
      "image/png": "[encoded data removed]",
      "text/plain": [
       "<Figure size 576x576 with 1 Axes>"
      ]
     },
     "metadata": {
      "needs_background": "light"
     },
     "output_type": "display_data"
    }
   ],
   "source": [
    "english_scores = np.array(df['english'])\n",
    "math_scores = np.array(df['mathematics'])\n",
    "\n",
    "fig = plt.figure(figsize=(8, 8))\n",
    "ax = fig.add_subplot(111)\n",
    "# 산점도\n",
    "ax.scatter(english_scores, math_scores)\n",
    "ax.set_xlabel('english')\n",
    "ax.set_ylabel('mathematics')\n",
    "\n",
    "plt.show()"
   ]
  },
  {
   "cell_type": "markdown",
   "id": "38f3f385-c89e-4454-ba44-00a9e78d2d1d",
   "metadata": {},
   "source": [
    "### 회귀직선"
   ]
  },
  {
   "cell_type": "code",
   "execution_count": 109,
   "id": "723d8963-847c-40e8-86ea-0e8cd9fc954a",
   "metadata": {
    "ExecuteTime": {
     "end_time": "2018-08-14T06:40:19.900171Z",
     "start_time": "2018-08-14T06:40:19.806854Z"
    }
   },
   "outputs": [
    {
     "name": "stdout",
     "output_type": "stream",
     "text": [
      "[ 0.621 42.601]\n"
     ]
    },
    {
     "data": {
      "image/png": "[encoded data removed]",
      "text/plain": [
       "<Figure size 576x576 with 1 Axes>"
      ]
     },
     "metadata": {
      "needs_background": "light"
     },
     "output_type": "display_data"
    }
   ],
   "source": [
    "# 계수β_0와 β_1를 구한다\n",
    "poly_fit = np.polyfit(english_scores, math_scores, 1)\n",
    "print(poly_fit)\n",
    "# β_0+β_1 x를 반환하는 함수를 작성\n",
    "poly_1d = np.poly1d(poly_fit)\n",
    "# 직선을 그리기 위해 x좌표를 생성\n",
    "xs = np.linspace(english_scores.min(), english_scores.max())\n",
    "# xs에 대응하는 y좌표를 구한다\n",
    "ys = poly_1d(xs)\n",
    "\n",
    "fig = plt.figure(figsize=(8, 8))\n",
    "ax = fig.add_subplot(111)\n",
    "ax.set_xlabel('english')\n",
    "ax.set_ylabel('mathematics')\n",
    "ax.scatter(english_scores, math_scores, label='score')\n",
    "ax.plot(xs, ys, color='gray',\n",
    "        label=f'{poly_fit[1]:.2f}+{poly_fit[0]:.2f}x')\n",
    "# 범례의 표시\n",
    "ax.legend(loc='upper left')\n",
    "\n",
    "plt.show()"
   ]
  },
  {
   "cell_type": "markdown",
   "id": "f51ef961-c009-464a-98f9-28a0da092d72",
   "metadata": {},
   "source": [
    "### 히트맵"
   ]
  },
  {
   "cell_type": "code",
   "execution_count": 106,
   "id": "5bc5242e-fac9-43b8-ae60-f9dc22f3e8da",
   "metadata": {
    "ExecuteTime": {
     "end_time": "2018-08-14T06:40:20.028133Z",
     "start_time": "2018-08-14T06:40:19.901235Z"
    }
   },
   "outputs": [
    {
     "data": {
      "image/png": "[encoded data removed]",
      "text/plain": [
       "<Figure size 720x576 with 2 Axes>"
      ]
     },
     "metadata": {
      "needs_background": "light"
     },
     "output_type": "display_data"
    }
   ],
   "source": [
    "fig = plt.figure(figsize=(10, 8))\n",
    "ax = fig.add_subplot(111)\n",
    "\n",
    "c = ax.hist2d(english_scores, math_scores,\n",
    "              bins=[9, 8], range=[(35, 80), (55, 95)])\n",
    "ax.set_xlabel('english')\n",
    "ax.set_ylabel('mathematics')\n",
    "ax.set_xticks(c[1])\n",
    "ax.set_yticks(c[2])\n",
    "# 컬러 바의 표시\n",
    "fig.colorbar(c[3], ax=ax)\n",
    "plt.show()"
   ]
  },
  {
   "cell_type": "markdown",
   "id": "a21f63d9-a4d2-4fc4-b5d7-ba1015711cbf",
   "metadata": {
    "tags": [],
    "toc-hr-collapsed": true
   },
   "source": [
    "#### [과제] 0823_2\n",
    "일차원 데이터로 다음을 수행하세요.\n",
    "- 도수분포표를 만들고 히스토그램으로 시각화 하세요.(계급을 변경하여 2개 이상)\n",
    "- 상대도수 및 누적상대도수를 도수분포표에 추가하고 히스토그램과 누적상대도수를 시각화하세요."
   ]
  },
  {
   "cell_type": "code",
   "execution_count": 179,
   "id": "d166933b-6967-49f5-9d79-16cec1120a64",
   "metadata": {
    "collapsed": true,
    "jupyter": {
     "outputs_hidden": true
    },
    "tags": []
   },
   "outputs": [
    {
     "data": {
      "image/png": "[encoded data removed]",
      "text/plain": [
       "<Figure size 720x432 with 1 Axes>"
      ]
     },
     "metadata": {
      "needs_background": "light"
     },
     "output_type": "display_data"
    }
   ],
   "source": [
    "# 계급수를 20으로 하여 히스토그램을 그림\n",
    "import matplotlib.pyplot as plt\n",
    "%matplotlib inline\n",
    "np.random.seed(1)\n",
    "\n",
    "# 점수 데이터 만들기 ( 평균이 60, 표준편차가 10 )\n",
    "scores = np.random.randn(100)*10 + 60\n",
    "# 그릴 피규어 만들기\n",
    "fig = plt.figure(figsize=(10,6))\n",
    "# 1x1영역에 1개 그린다는 의미\n",
    "ax = fig.add_subplot(111) \n",
    "\n",
    "freq,_,_ = ax.hist(scores,bins=20,range=(0,100))\n",
    "ax.set_xlabel('score')\n",
    "ax.set_ylabel('person number')\n",
    "# 구간을 10개 나눠야하 하니 숫자 11개 뽑아야함\n",
    "ax.set_xticks(np.linspace(0,100,20+1)) \n",
    "ax.set_yticks(np.arange(0,freq.max()+1))\n",
    "plt.show()"
   ]
  },
  {
   "cell_type": "code",
   "execution_count": 180,
   "id": "4beca6b4-85d1-4a00-9c41-5f1857e1e15c",
   "metadata": {
    "collapsed": true,
    "jupyter": {
     "outputs_hidden": true
    },
    "tags": []
   },
   "outputs": [
    {
     "data": {
      "image/png": "[encoded data removed]",
      "text/plain": [
       "<Figure size 1008x432 with 1 Axes>"
      ]
     },
     "metadata": {
      "needs_background": "light"
     },
     "output_type": "display_data"
    }
   ],
   "source": [
    "# 계급수를 50으로 하여 히스토그램을 그림\n",
    "import matplotlib.pyplot as plt\n",
    "%matplotlib inline\n",
    "np.random.seed(1)\n",
    "\n",
    "# 점수 데이터 만들기 ( 평균이 60, 표준편차가 10 )\n",
    "scores = np.random.randn(100)*10 + 60\n",
    "# 그릴 피규어 만들기\n",
    "fig = plt.figure(figsize=(14,6))\n",
    "# 1x1영역에 1개 그린다는 의미\n",
    "ax = fig.add_subplot(111) \n",
    "\n",
    "freq,_,_ = ax.hist(scores,bins=50,range=(0,100))\n",
    "ax.set_xlabel('score')\n",
    "ax.set_ylabel('person number')\n",
    "# 구간을 10개 나눠야하 하니 숫자 11개 뽑아야함\n",
    "ax.set_xticks(np.linspace(0,100,50+1)) \n",
    "ax.set_yticks(np.arange(0,freq.max()+1))\n",
    "plt.show()"
   ]
  },
  {
   "cell_type": "code",
   "execution_count": 207,
   "id": "2995fa1f-53e3-4002-b770-994d7a8aaa15",
   "metadata": {},
   "outputs": [
    {
     "data": {
      "text/plain": [
       "20"
      ]
     },
     "execution_count": 207,
     "metadata": {},
     "output_type": "execute_result"
    }
   ],
   "source": [
    "# 점수 만들기\n",
    "np.random.seed(1)\n",
    "scores = np.random.randn(100)*10 + 60\n",
    "\n",
    "df = pd.DataFrame(columns=['scores'])\n",
    "df['scores'] = scores\n",
    "# display(df)\n",
    "# 계급수 20개로 해서 히스토그램\n",
    "rel_freq ,_,_ = ax1.hist(scores,bins=20,range=(0,100),weights=weights)\n",
    "len(rel_freq)"
   ]
  },
  {
   "cell_type": "code",
   "execution_count": 220,
   "id": "9e059679-baca-404c-816e-a1f64be1f48f",
   "metadata": {},
   "outputs": [
    {
     "data": {
      "text/plain": [
       "[2, 7, 12, 17, 22, 27, 32, 37, 42, 47, 52, 57, 62, 67, 72, 77, 82, 87, 92, 97]"
      ]
     },
     "execution_count": 220,
     "metadata": {},
     "output_type": "execute_result"
    }
   ],
   "source": [
    "# 계급값\n",
    "class_value = [(i+(i+5))//2 for i in range(0,100,5)]\n",
    "class_value"
   ]
  },
  {
   "cell_type": "code",
   "execution_count": 200,
   "id": "6f396d92-3c2b-49bf-adcd-6fa77e110107",
   "metadata": {},
   "outputs": [
    {
     "data": {
      "text/html": [
       "<div>\n",
       "<style scoped>\n",
       "    .dataframe tbody tr th:only-of-type {\n",
       "        vertical-align: middle;\n",
       "    }\n",
       "\n",
       "    .dataframe tbody tr th {\n",
       "        vertical-align: top;\n",
       "    }\n",
       "\n",
       "    .dataframe thead th {\n",
       "        text-align: right;\n",
       "    }\n",
       "</style>\n",
       "<table border=\"1\" class=\"dataframe\">\n",
       "  <thead>\n",
       "    <tr style=\"text-align: right;\">\n",
       "      <th></th>\n",
       "      <th>relative frequency</th>\n",
       "    </tr>\n",
       "    <tr>\n",
       "      <th>class</th>\n",
       "      <th></th>\n",
       "    </tr>\n",
       "  </thead>\n",
       "  <tbody>\n",
       "    <tr>\n",
       "      <th>0~5</th>\n",
       "      <td>0.00</td>\n",
       "    </tr>\n",
       "    <tr>\n",
       "      <th>5~10</th>\n",
       "      <td>0.00</td>\n",
       "    </tr>\n",
       "    <tr>\n",
       "      <th>10~15</th>\n",
       "      <td>0.00</td>\n",
       "    </tr>\n",
       "    <tr>\n",
       "      <th>15~20</th>\n",
       "      <td>0.00</td>\n",
       "    </tr>\n",
       "    <tr>\n",
       "      <th>20~25</th>\n",
       "      <td>0.00</td>\n",
       "    </tr>\n",
       "    <tr>\n",
       "      <th>25~30</th>\n",
       "      <td>0.00</td>\n",
       "    </tr>\n",
       "    <tr>\n",
       "      <th>30~35</th>\n",
       "      <td>0.00</td>\n",
       "    </tr>\n",
       "    <tr>\n",
       "      <th>35~40</th>\n",
       "      <td>0.03</td>\n",
       "    </tr>\n",
       "    <tr>\n",
       "      <th>40~45</th>\n",
       "      <td>0.00</td>\n",
       "    </tr>\n",
       "    <tr>\n",
       "      <th>45~50</th>\n",
       "      <td>0.07</td>\n",
       "    </tr>\n",
       "    <tr>\n",
       "      <th>50~55</th>\n",
       "      <td>0.18</td>\n",
       "    </tr>\n",
       "    <tr>\n",
       "      <th>55~60</th>\n",
       "      <td>0.19</td>\n",
       "    </tr>\n",
       "    <tr>\n",
       "      <th>60~65</th>\n",
       "      <td>0.22</td>\n",
       "    </tr>\n",
       "    <tr>\n",
       "      <th>65~70</th>\n",
       "      <td>0.17</td>\n",
       "    </tr>\n",
       "    <tr>\n",
       "      <th>70~75</th>\n",
       "      <td>0.07</td>\n",
       "    </tr>\n",
       "    <tr>\n",
       "      <th>75~80</th>\n",
       "      <td>0.05</td>\n",
       "    </tr>\n",
       "    <tr>\n",
       "      <th>80~85</th>\n",
       "      <td>0.02</td>\n",
       "    </tr>\n",
       "    <tr>\n",
       "      <th>85~90</th>\n",
       "      <td>0.00</td>\n",
       "    </tr>\n",
       "    <tr>\n",
       "      <th>90~95</th>\n",
       "      <td>0.00</td>\n",
       "    </tr>\n",
       "    <tr>\n",
       "      <th>95~100</th>\n",
       "      <td>0.00</td>\n",
       "    </tr>\n",
       "  </tbody>\n",
       "</table>\n",
       "</div>"
      ],
      "text/plain": [
       "        relative frequency\n",
       "class                     \n",
       "0~5                   0.00\n",
       "5~10                  0.00\n",
       "10~15                 0.00\n",
       "15~20                 0.00\n",
       "20~25                 0.00\n",
       "25~30                 0.00\n",
       "30~35                 0.00\n",
       "35~40                 0.03\n",
       "40~45                 0.00\n",
       "45~50                 0.07\n",
       "50~55                 0.18\n",
       "55~60                 0.19\n",
       "60~65                 0.22\n",
       "65~70                 0.17\n",
       "70~75                 0.07\n",
       "75~80                 0.05\n",
       "80~85                 0.02\n",
       "85~90                 0.00\n",
       "90~95                 0.00\n",
       "95~100                0.00"
      ]
     },
     "execution_count": 200,
     "metadata": {},
     "output_type": "execute_result"
    }
   ],
   "source": [
    "# 상대도수\n",
    "freq_class = [f'{i}~{i+5}' for i in range(0,100,5)]\n",
    "freq_dist_df = pd.DataFrame({'relative frequency':rel_freq},\n",
    "                           index=pd.Index(freq_class,name='class'))\n",
    "freq_dist_df"
   ]
  },
  {
   "cell_type": "code",
   "execution_count": 203,
   "id": "1112c02b-47eb-4f87-a81f-b4b3d941e294",
   "metadata": {},
   "outputs": [
    {
     "data": {
      "text/plain": [
       "array([0.  , 0.  , 0.  , 0.  , 0.  , 0.  , 0.  , 0.03, 0.03, 0.1 , 0.28,\n",
       "       0.47, 0.69, 0.86, 0.93, 0.98, 1.  , 1.  , 1.  , 1.  ])"
      ]
     },
     "execution_count": 203,
     "metadata": {},
     "output_type": "execute_result"
    }
   ],
   "source": [
    "# 누적상대도수\n",
    "cum_rel_freq = np.cumsum(rel_freq)\n",
    "cum_rel_freq"
   ]
  },
  {
   "cell_type": "code",
   "execution_count": 221,
   "id": "91ca467c-7a5c-43a8-8cef-65f7aca216bd",
   "metadata": {},
   "outputs": [
    {
     "data": {
      "text/html": [
       "<div>\n",
       "<style scoped>\n",
       "    .dataframe tbody tr th:only-of-type {\n",
       "        vertical-align: middle;\n",
       "    }\n",
       "\n",
       "    .dataframe tbody tr th {\n",
       "        vertical-align: top;\n",
       "    }\n",
       "\n",
       "    .dataframe thead th {\n",
       "        text-align: right;\n",
       "    }\n",
       "</style>\n",
       "<table border=\"1\" class=\"dataframe\">\n",
       "  <thead>\n",
       "    <tr style=\"text-align: right;\">\n",
       "      <th></th>\n",
       "      <th>relative frequency</th>\n",
       "      <th>cumulative relative frequency</th>\n",
       "      <th>class_value</th>\n",
       "    </tr>\n",
       "    <tr>\n",
       "      <th>class</th>\n",
       "      <th></th>\n",
       "      <th></th>\n",
       "      <th></th>\n",
       "    </tr>\n",
       "  </thead>\n",
       "  <tbody>\n",
       "    <tr>\n",
       "      <th>0~5</th>\n",
       "      <td>0.00</td>\n",
       "      <td>0.00</td>\n",
       "      <td>2</td>\n",
       "    </tr>\n",
       "    <tr>\n",
       "      <th>5~10</th>\n",
       "      <td>0.00</td>\n",
       "      <td>0.00</td>\n",
       "      <td>7</td>\n",
       "    </tr>\n",
       "    <tr>\n",
       "      <th>10~15</th>\n",
       "      <td>0.00</td>\n",
       "      <td>0.00</td>\n",
       "      <td>12</td>\n",
       "    </tr>\n",
       "    <tr>\n",
       "      <th>15~20</th>\n",
       "      <td>0.00</td>\n",
       "      <td>0.00</td>\n",
       "      <td>17</td>\n",
       "    </tr>\n",
       "    <tr>\n",
       "      <th>20~25</th>\n",
       "      <td>0.00</td>\n",
       "      <td>0.00</td>\n",
       "      <td>22</td>\n",
       "    </tr>\n",
       "    <tr>\n",
       "      <th>25~30</th>\n",
       "      <td>0.00</td>\n",
       "      <td>0.00</td>\n",
       "      <td>27</td>\n",
       "    </tr>\n",
       "    <tr>\n",
       "      <th>30~35</th>\n",
       "      <td>0.00</td>\n",
       "      <td>0.00</td>\n",
       "      <td>32</td>\n",
       "    </tr>\n",
       "    <tr>\n",
       "      <th>35~40</th>\n",
       "      <td>0.03</td>\n",
       "      <td>0.03</td>\n",
       "      <td>37</td>\n",
       "    </tr>\n",
       "    <tr>\n",
       "      <th>40~45</th>\n",
       "      <td>0.00</td>\n",
       "      <td>0.03</td>\n",
       "      <td>42</td>\n",
       "    </tr>\n",
       "    <tr>\n",
       "      <th>45~50</th>\n",
       "      <td>0.07</td>\n",
       "      <td>0.10</td>\n",
       "      <td>47</td>\n",
       "    </tr>\n",
       "    <tr>\n",
       "      <th>50~55</th>\n",
       "      <td>0.18</td>\n",
       "      <td>0.28</td>\n",
       "      <td>52</td>\n",
       "    </tr>\n",
       "    <tr>\n",
       "      <th>55~60</th>\n",
       "      <td>0.19</td>\n",
       "      <td>0.47</td>\n",
       "      <td>57</td>\n",
       "    </tr>\n",
       "    <tr>\n",
       "      <th>60~65</th>\n",
       "      <td>0.22</td>\n",
       "      <td>0.69</td>\n",
       "      <td>62</td>\n",
       "    </tr>\n",
       "    <tr>\n",
       "      <th>65~70</th>\n",
       "      <td>0.17</td>\n",
       "      <td>0.86</td>\n",
       "      <td>67</td>\n",
       "    </tr>\n",
       "    <tr>\n",
       "      <th>70~75</th>\n",
       "      <td>0.07</td>\n",
       "      <td>0.93</td>\n",
       "      <td>72</td>\n",
       "    </tr>\n",
       "    <tr>\n",
       "      <th>75~80</th>\n",
       "      <td>0.05</td>\n",
       "      <td>0.98</td>\n",
       "      <td>77</td>\n",
       "    </tr>\n",
       "    <tr>\n",
       "      <th>80~85</th>\n",
       "      <td>0.02</td>\n",
       "      <td>1.00</td>\n",
       "      <td>82</td>\n",
       "    </tr>\n",
       "    <tr>\n",
       "      <th>85~90</th>\n",
       "      <td>0.00</td>\n",
       "      <td>1.00</td>\n",
       "      <td>87</td>\n",
       "    </tr>\n",
       "    <tr>\n",
       "      <th>90~95</th>\n",
       "      <td>0.00</td>\n",
       "      <td>1.00</td>\n",
       "      <td>92</td>\n",
       "    </tr>\n",
       "    <tr>\n",
       "      <th>95~100</th>\n",
       "      <td>0.00</td>\n",
       "      <td>1.00</td>\n",
       "      <td>97</td>\n",
       "    </tr>\n",
       "  </tbody>\n",
       "</table>\n",
       "</div>"
      ],
      "text/plain": [
       "        relative frequency  cumulative relative frequency  class_value\n",
       "class                                                                 \n",
       "0~5                   0.00                           0.00            2\n",
       "5~10                  0.00                           0.00            7\n",
       "10~15                 0.00                           0.00           12\n",
       "15~20                 0.00                           0.00           17\n",
       "20~25                 0.00                           0.00           22\n",
       "25~30                 0.00                           0.00           27\n",
       "30~35                 0.00                           0.00           32\n",
       "35~40                 0.03                           0.03           37\n",
       "40~45                 0.00                           0.03           42\n",
       "45~50                 0.07                           0.10           47\n",
       "50~55                 0.18                           0.28           52\n",
       "55~60                 0.19                           0.47           57\n",
       "60~65                 0.22                           0.69           62\n",
       "65~70                 0.17                           0.86           67\n",
       "70~75                 0.07                           0.93           72\n",
       "75~80                 0.05                           0.98           77\n",
       "80~85                 0.02                           1.00           82\n",
       "85~90                 0.00                           1.00           87\n",
       "90~95                 0.00                           1.00           92\n",
       "95~100                0.00                           1.00           97"
      ]
     },
     "execution_count": 221,
     "metadata": {},
     "output_type": "execute_result"
    }
   ],
   "source": [
    "freq_dist_df['cumulative relative frequency'] = cum_rel_freq\n",
    "freq_dist_df['class_value'] = class_value\n",
    "freq_dist_df"
   ]
  },
  {
   "cell_type": "code",
   "execution_count": 213,
   "id": "b150628a-e62f-434e-8660-815f1ca22ef4",
   "metadata": {},
   "outputs": [
    {
     "data": {
      "image/png": "[encoded data removed]",
      "text/plain": [
       "<Figure size 720x432 with 2 Axes>"
      ]
     },
     "metadata": {
      "needs_background": "light"
     },
     "output_type": "display_data"
    }
   ],
   "source": [
    "# 상대도수의 히스토그램을 누적상대도수의 꺽은선 그래프와 함께 그림\n",
    "\n",
    "import matplotlib.pyplot as plt\n",
    "%matplotlib inline\n",
    "np.random.seed(1)\n",
    "\n",
    "fig = plt.figure(figsize=(10,6))\n",
    "# 1x1영역에 1개 그린다는 의미\n",
    "ax1 = fig.add_subplot(111) \n",
    "# Y축 스케일이 다른 그래프를 ax1과 동일한 영역에 생성\n",
    "ax2 = ax1.twinx()\n",
    "\n",
    "# 상대도수의 히스토그램으로 하기 위해서는 도수를 데이터의 수로 나눌 필요가 있음\n",
    "# 이것은 hist의 인수 weight를 지정하면 실현 가능\n",
    "scores = np.random.randn(100)*10 + 60\n",
    "\n",
    "weights = np.ones_like(scores) / len(scores)\n",
    "# 계급수 = 20, 상대도수 계산\n",
    "rel_freq ,_,_ = ax1.hist(scores,bins=20,range=(0,100),weights=weights)\n",
    "# 누적 상대도수\n",
    "cum_rel_freq = np.cumsum(rel_freq)\n",
    "# 계급값\n",
    "class_value = [(i+(i+5))//2 for i in range(0,100,5)]\n",
    "\n",
    "# 꺽은선 그래프를 그림\n",
    "# 인수 ls를 '--'로 하면 점선이 그려짐\n",
    "# 인수 marker 를 'o'으로 하면 데이터 점을 그림\n",
    "# 인수 color를 'gray'로 하면 회색을 지정\n",
    "ax2.plot(class_value,cum_rel_freq,ls='--',marker='o',color='gray')\n",
    "# 꺽은선 그래프의 눈금선을 제거\n",
    "ax2.grid(visible=False)\n",
    "\n",
    "ax1.set_xlabel('score')\n",
    "ax1.set_ylabel('relative frequency')\n",
    "ax2.set_ylabel('cumulative relative frequency')\n",
    "\n",
    "ax1.set_xticks(np.linspace(0,100,20+1)) \n",
    "plt.show()"
   ]
  },
  {
   "cell_type": "markdown",
   "id": "074eb5a6-9a12-4d0d-bf22-ea153b093878",
   "metadata": {},
   "source": [
    "#### [과제] 0823_3\n",
    "이차원 데이터를 생성하여 다음을 수행하세요.\n",
    "- 공분산 및 상관계수를 구하세요.(데이터수 1000개 이상)\n",
    "- 이차원 데이터를 산점도, 히트맵으로 시각화한 후 인사이트를 기술하세요."
   ]
  },
  {
   "cell_type": "code",
   "execution_count": 590,
   "id": "a7d410c5-3ebb-4228-9037-0b4d47b79ec5",
   "metadata": {
    "ExecuteTime": {
     "end_time": "2018-08-14T06:40:19.544111Z",
     "start_time": "2018-08-14T06:40:19.534006Z"
    }
   },
   "outputs": [
    {
     "data": {
      "text/html": [
       "<div>\n",
       "<style scoped>\n",
       "    .dataframe tbody tr th:only-of-type {\n",
       "        vertical-align: middle;\n",
       "    }\n",
       "\n",
       "    .dataframe tbody tr th {\n",
       "        vertical-align: top;\n",
       "    }\n",
       "\n",
       "    .dataframe thead th {\n",
       "        text-align: right;\n",
       "    }\n",
       "</style>\n",
       "<table border=\"1\" class=\"dataframe\">\n",
       "  <thead>\n",
       "    <tr style=\"text-align: right;\">\n",
       "      <th></th>\n",
       "      <th>english</th>\n",
       "      <th>mathematics</th>\n",
       "    </tr>\n",
       "  </thead>\n",
       "  <tbody>\n",
       "    <tr>\n",
       "      <th>0</th>\n",
       "      <td>71.1</td>\n",
       "      <td>59.5</td>\n",
       "    </tr>\n",
       "    <tr>\n",
       "      <th>1</th>\n",
       "      <td>90.9</td>\n",
       "      <td>65.7</td>\n",
       "    </tr>\n",
       "    <tr>\n",
       "      <th>2</th>\n",
       "      <td>91.8</td>\n",
       "      <td>68.0</td>\n",
       "    </tr>\n",
       "    <tr>\n",
       "      <th>3</th>\n",
       "      <td>72.8</td>\n",
       "      <td>56.9</td>\n",
       "    </tr>\n",
       "    <tr>\n",
       "      <th>4</th>\n",
       "      <td>61.0</td>\n",
       "      <td>41.1</td>\n",
       "    </tr>\n",
       "    <tr>\n",
       "      <th>...</th>\n",
       "      <td>...</td>\n",
       "      <td>...</td>\n",
       "    </tr>\n",
       "    <tr>\n",
       "      <th>95</th>\n",
       "      <td>66.7</td>\n",
       "      <td>66.7</td>\n",
       "    </tr>\n",
       "    <tr>\n",
       "      <th>96</th>\n",
       "      <td>68.0</td>\n",
       "      <td>71.2</td>\n",
       "    </tr>\n",
       "    <tr>\n",
       "      <th>97</th>\n",
       "      <td>75.9</td>\n",
       "      <td>78.1</td>\n",
       "    </tr>\n",
       "    <tr>\n",
       "      <th>98</th>\n",
       "      <td>79.7</td>\n",
       "      <td>66.6</td>\n",
       "    </tr>\n",
       "    <tr>\n",
       "      <th>99</th>\n",
       "      <td>66.0</td>\n",
       "      <td>58.2</td>\n",
       "    </tr>\n",
       "  </tbody>\n",
       "</table>\n",
       "<p>100 rows × 2 columns</p>\n",
       "</div>"
      ],
      "text/plain": [
       "    english  mathematics\n",
       "0      71.1         59.5\n",
       "1      90.9         65.7\n",
       "2      91.8         68.0\n",
       "3      72.8         56.9\n",
       "4      61.0         41.1\n",
       "..      ...          ...\n",
       "95     66.7         66.7\n",
       "96     68.0         71.2\n",
       "97     75.9         78.1\n",
       "98     79.7         66.6\n",
       "99     66.0         58.2\n",
       "\n",
       "[100 rows x 2 columns]"
      ]
     },
     "execution_count": 590,
     "metadata": {},
     "output_type": "execute_result"
    }
   ],
   "source": [
    "# 데이터 만들기\n",
    "import random\n",
    "# 경향성 만들기 y = 0.8x + 10 이런꼴\n",
    "en_scores = np.random.randn(100)*10 + 70\n",
    "ma_scores = en_scores # 일단 복붙해서 대강 만들기\n",
    "for i in range(100):\n",
    "    x = round(random.uniform(0.5,0.9),2)\n",
    "    y = np.random.randint(10,15)\n",
    "    ma_scores[i] = en_scores[i]*x + y # 경향을 랜덤으로 만들되, 설정한 범위 내에서 만들기\n",
    "\n",
    "scores_df = pd.DataFrame({'english':en_scores,\n",
    "                          'mathematics':ma_scores})\n",
    "scores_df=scores_df.apply(lambda x:round(x,1))\n",
    "scores_df"
   ]
  },
  {
   "cell_type": "raw",
   "id": "713123b2-626c-4c93-b995-7041c006c117",
   "metadata": {
    "tags": []
   },
   "source": [
    "### 共分散 공분산"
   ]
  },
  {
   "cell_type": "code",
   "execution_count": 563,
   "id": "9a9217d5-1ffb-4f0d-9b61-0640a9ffbda5",
   "metadata": {
    "ExecuteTime": {
     "end_time": "2018-08-14T06:40:19.566635Z",
     "start_time": "2018-08-14T06:40:19.545215Z"
    }
   },
   "outputs": [
    {
     "data": {
      "text/html": [
       "<div>\n",
       "<style scoped>\n",
       "    .dataframe tbody tr th:only-of-type {\n",
       "        vertical-align: middle;\n",
       "    }\n",
       "\n",
       "    .dataframe tbody tr th {\n",
       "        vertical-align: top;\n",
       "    }\n",
       "\n",
       "    .dataframe thead th {\n",
       "        text-align: right;\n",
       "    }\n",
       "</style>\n",
       "<table border=\"1\" class=\"dataframe\">\n",
       "  <thead>\n",
       "    <tr style=\"text-align: right;\">\n",
       "      <th></th>\n",
       "      <th>english</th>\n",
       "      <th>mathematics</th>\n",
       "      <th>english_deviation</th>\n",
       "      <th>mathematics_deviation</th>\n",
       "      <th>product of deviations</th>\n",
       "    </tr>\n",
       "  </thead>\n",
       "  <tbody>\n",
       "    <tr>\n",
       "      <th>0</th>\n",
       "      <td>69.4</td>\n",
       "      <td>75.5</td>\n",
       "      <td>-0.423</td>\n",
       "      <td>13.746</td>\n",
       "      <td>-5.815</td>\n",
       "    </tr>\n",
       "    <tr>\n",
       "      <th>1</th>\n",
       "      <td>76.7</td>\n",
       "      <td>52.4</td>\n",
       "      <td>6.877</td>\n",
       "      <td>-9.354</td>\n",
       "      <td>-64.327</td>\n",
       "    </tr>\n",
       "    <tr>\n",
       "      <th>2</th>\n",
       "      <td>83.2</td>\n",
       "      <td>66.8</td>\n",
       "      <td>13.377</td>\n",
       "      <td>5.046</td>\n",
       "      <td>67.500</td>\n",
       "    </tr>\n",
       "    <tr>\n",
       "      <th>3</th>\n",
       "      <td>68.0</td>\n",
       "      <td>50.7</td>\n",
       "      <td>-1.823</td>\n",
       "      <td>-11.054</td>\n",
       "      <td>20.151</td>\n",
       "    </tr>\n",
       "    <tr>\n",
       "      <th>4</th>\n",
       "      <td>61.3</td>\n",
       "      <td>57.4</td>\n",
       "      <td>-8.523</td>\n",
       "      <td>-4.354</td>\n",
       "      <td>37.109</td>\n",
       "    </tr>\n",
       "    <tr>\n",
       "      <th>...</th>\n",
       "      <td>...</td>\n",
       "      <td>...</td>\n",
       "      <td>...</td>\n",
       "      <td>...</td>\n",
       "      <td>...</td>\n",
       "    </tr>\n",
       "    <tr>\n",
       "      <th>95</th>\n",
       "      <td>86.7</td>\n",
       "      <td>79.7</td>\n",
       "      <td>16.877</td>\n",
       "      <td>17.946</td>\n",
       "      <td>302.875</td>\n",
       "    </tr>\n",
       "    <tr>\n",
       "      <th>96</th>\n",
       "      <td>59.6</td>\n",
       "      <td>53.5</td>\n",
       "      <td>-10.223</td>\n",
       "      <td>-8.254</td>\n",
       "      <td>84.381</td>\n",
       "    </tr>\n",
       "    <tr>\n",
       "      <th>97</th>\n",
       "      <td>79.7</td>\n",
       "      <td>65.6</td>\n",
       "      <td>9.877</td>\n",
       "      <td>3.846</td>\n",
       "      <td>37.987</td>\n",
       "    </tr>\n",
       "    <tr>\n",
       "      <th>98</th>\n",
       "      <td>62.0</td>\n",
       "      <td>68.6</td>\n",
       "      <td>-7.823</td>\n",
       "      <td>6.846</td>\n",
       "      <td>-53.556</td>\n",
       "    </tr>\n",
       "    <tr>\n",
       "      <th>99</th>\n",
       "      <td>53.9</td>\n",
       "      <td>49.8</td>\n",
       "      <td>-15.923</td>\n",
       "      <td>-11.954</td>\n",
       "      <td>190.344</td>\n",
       "    </tr>\n",
       "  </tbody>\n",
       "</table>\n",
       "<p>100 rows × 5 columns</p>\n",
       "</div>"
      ],
      "text/plain": [
       "    english  mathematics  english_deviation  mathematics_deviation  \\\n",
       "0      69.4         75.5             -0.423                 13.746   \n",
       "1      76.7         52.4              6.877                 -9.354   \n",
       "2      83.2         66.8             13.377                  5.046   \n",
       "3      68.0         50.7             -1.823                -11.054   \n",
       "4      61.3         57.4             -8.523                 -4.354   \n",
       "..      ...          ...                ...                    ...   \n",
       "95     86.7         79.7             16.877                 17.946   \n",
       "96     59.6         53.5            -10.223                 -8.254   \n",
       "97     79.7         65.6              9.877                  3.846   \n",
       "98     62.0         68.6             -7.823                  6.846   \n",
       "99     53.9         49.8            -15.923                -11.954   \n",
       "\n",
       "    product of deviations  \n",
       "0                  -5.815  \n",
       "1                 -64.327  \n",
       "2                  67.500  \n",
       "3                  20.151  \n",
       "4                  37.109  \n",
       "..                    ...  \n",
       "95                302.875  \n",
       "96                 84.381  \n",
       "97                 37.987  \n",
       "98                -53.556  \n",
       "99                190.344  \n",
       "\n",
       "[100 rows x 5 columns]"
      ]
     },
     "execution_count": 563,
     "metadata": {},
     "output_type": "execute_result"
    }
   ],
   "source": [
    "summary_df = scores_df.copy()\n",
    "summary_df['english_deviation'] =\\\n",
    "    summary_df['english'] - summary_df['english'].mean()\n",
    "summary_df['mathematics_deviation'] =\\\n",
    "    summary_df['mathematics'] - summary_df['mathematics'].mean()\n",
    "summary_df['product of deviations'] =\\\n",
    "    summary_df['english_deviation'] * summary_df['mathematics_deviation']\n",
    "summary_df"
   ]
  },
  {
   "cell_type": "code",
   "execution_count": 564,
   "id": "3ec68d81-4b2f-4f8c-b4a5-e2ed1671dc90",
   "metadata": {
    "ExecuteTime": {
     "end_time": "2018-08-14T06:40:19.570409Z",
     "start_time": "2018-08-14T06:40:19.567674Z"
    }
   },
   "outputs": [
    {
     "data": {
      "text/plain": [
       "82.693"
      ]
     },
     "execution_count": 564,
     "metadata": {},
     "output_type": "execute_result"
    }
   ],
   "source": [
    "summary_df['product of deviations'].mean()"
   ]
  },
  {
   "cell_type": "code",
   "execution_count": 565,
   "id": "906f57d3-9baa-451e-891c-e9b2d9bd6e90",
   "metadata": {
    "ExecuteTime": {
     "end_time": "2018-08-14T06:40:19.575907Z",
     "start_time": "2018-08-14T06:40:19.571427Z"
    }
   },
   "outputs": [
    {
     "data": {
      "text/plain": [
       "array([[119.963,  82.662],\n",
       "       [ 82.662, 132.741]])"
      ]
     },
     "execution_count": 565,
     "metadata": {},
     "output_type": "execute_result"
    }
   ],
   "source": [
    "cov_mat = np.cov(en_scores, ma_scores, ddof=0)\n",
    "cov_mat"
   ]
  },
  {
   "cell_type": "code",
   "execution_count": 566,
   "id": "30ef67be-09d8-4d4d-9e48-f126d67e1b76",
   "metadata": {
    "ExecuteTime": {
     "end_time": "2018-08-14T06:40:19.580080Z",
     "start_time": "2018-08-14T06:40:19.577571Z"
    }
   },
   "outputs": [
    {
     "data": {
      "text/plain": [
       "(82.662, 82.662)"
      ]
     },
     "execution_count": 566,
     "metadata": {},
     "output_type": "execute_result"
    }
   ],
   "source": [
    "cov_mat[0, 1], cov_mat[1, 0]"
   ]
  },
  {
   "cell_type": "code",
   "execution_count": 567,
   "id": "3cf21106-f3d6-49cf-b1e1-8285edb0d101",
   "metadata": {
    "ExecuteTime": {
     "end_time": "2018-08-14T06:40:19.583685Z",
     "start_time": "2018-08-14T06:40:19.581281Z"
    }
   },
   "outputs": [
    {
     "data": {
      "text/plain": [
       "(119.963, 132.741)"
      ]
     },
     "execution_count": 567,
     "metadata": {},
     "output_type": "execute_result"
    }
   ],
   "source": [
    "cov_mat[0, 0], cov_mat[1, 1]"
   ]
  },
  {
   "cell_type": "code",
   "execution_count": 568,
   "id": "2731cea5-feac-4434-a948-1492d87e8ec4",
   "metadata": {
    "ExecuteTime": {
     "end_time": "2018-08-14T06:40:19.588330Z",
     "start_time": "2018-08-14T06:40:19.584646Z"
    }
   },
   "outputs": [
    {
     "data": {
      "text/plain": [
       "(119.963, 132.741)"
      ]
     },
     "execution_count": 568,
     "metadata": {},
     "output_type": "execute_result"
    }
   ],
   "source": [
    "np.var(en_scores, ddof=0), np.var(ma_scores, ddof=0)"
   ]
  },
  {
   "cell_type": "raw",
   "id": "9e3256cb-28eb-4703-9f43-094898105ea4",
   "metadata": {},
   "source": [
    "### 상관계수"
   ]
  },
  {
   "cell_type": "code",
   "execution_count": 569,
   "id": "fd323708-9871-4ec6-95d4-6fd28dcde0d2",
   "metadata": {
    "ExecuteTime": {
     "end_time": "2018-08-14T06:40:19.592372Z",
     "start_time": "2018-08-14T06:40:19.589231Z"
    }
   },
   "outputs": [
    {
     "data": {
      "text/plain": [
       "0.655"
      ]
     },
     "execution_count": 569,
     "metadata": {},
     "output_type": "execute_result"
    }
   ],
   "source": [
    "np.cov(en_scores, ma_scores, ddof=0)[0, 1] /\\\n",
    "    (np.std(en_scores) * np.std(ma_scores))"
   ]
  },
  {
   "cell_type": "code",
   "execution_count": 570,
   "id": "a63db336-da7c-4b69-8637-769f581ce69e",
   "metadata": {
    "ExecuteTime": {
     "end_time": "2018-08-14T06:40:19.597039Z",
     "start_time": "2018-08-14T06:40:19.593315Z"
    }
   },
   "outputs": [
    {
     "data": {
      "text/plain": [
       "array([[1.   , 0.655],\n",
       "       [0.655, 1.   ]])"
      ]
     },
     "execution_count": 570,
     "metadata": {},
     "output_type": "execute_result"
    }
   ],
   "source": [
    "np.corrcoef(en_scores, ma_scores)"
   ]
  },
  {
   "cell_type": "code",
   "execution_count": 571,
   "id": "e99f3199-d3a7-405c-9d0c-b8b9bea8c415",
   "metadata": {
    "ExecuteTime": {
     "end_time": "2018-08-14T06:40:19.602887Z",
     "start_time": "2018-08-14T06:40:19.598025Z"
    }
   },
   "outputs": [
    {
     "data": {
      "text/html": [
       "<div>\n",
       "<style scoped>\n",
       "    .dataframe tbody tr th:only-of-type {\n",
       "        vertical-align: middle;\n",
       "    }\n",
       "\n",
       "    .dataframe tbody tr th {\n",
       "        vertical-align: top;\n",
       "    }\n",
       "\n",
       "    .dataframe thead th {\n",
       "        text-align: right;\n",
       "    }\n",
       "</style>\n",
       "<table border=\"1\" class=\"dataframe\">\n",
       "  <thead>\n",
       "    <tr style=\"text-align: right;\">\n",
       "      <th></th>\n",
       "      <th>english</th>\n",
       "      <th>mathematics</th>\n",
       "    </tr>\n",
       "  </thead>\n",
       "  <tbody>\n",
       "    <tr>\n",
       "      <th>english</th>\n",
       "      <td>1.000</td>\n",
       "      <td>0.655</td>\n",
       "    </tr>\n",
       "    <tr>\n",
       "      <th>mathematics</th>\n",
       "      <td>0.655</td>\n",
       "      <td>1.000</td>\n",
       "    </tr>\n",
       "  </tbody>\n",
       "</table>\n",
       "</div>"
      ],
      "text/plain": [
       "             english  mathematics\n",
       "english        1.000        0.655\n",
       "mathematics    0.655        1.000"
      ]
     },
     "execution_count": 571,
     "metadata": {},
     "output_type": "execute_result"
    }
   ],
   "source": [
    "scores_df.corr()"
   ]
  },
  {
   "cell_type": "raw",
   "id": "ef988b26-ffad-41dc-ab3b-9d27c9f255b5",
   "metadata": {},
   "source": [
    "## 2차원 데이터의 시각화"
   ]
  },
  {
   "cell_type": "raw",
   "id": "da997b88-b454-4990-a681-d5f7f8cd1376",
   "metadata": {
    "jp-MarkdownHeadingCollapsed": true,
    "tags": []
   },
   "source": [
    "### 산점도"
   ]
  },
  {
   "cell_type": "code",
   "execution_count": 572,
   "id": "38f5debd-1c59-4c2b-af5b-579d1fee6623",
   "metadata": {
    "ExecuteTime": {
     "end_time": "2018-08-14T06:40:19.675926Z",
     "start_time": "2018-08-14T06:40:19.603899Z"
    }
   },
   "outputs": [],
   "source": [
    "import matplotlib.pyplot as plt\n",
    "\n",
    "%matplotlib inline"
   ]
  },
  {
   "cell_type": "code",
   "execution_count": 573,
   "id": "dfde6c36-c23d-4bbd-a126-72da61326cf1",
   "metadata": {
    "ExecuteTime": {
     "end_time": "2018-08-14T06:40:19.805306Z",
     "start_time": "2018-08-14T06:40:19.677328Z"
    }
   },
   "outputs": [
    {
     "data": {
      "image/png": "[encoded data removed]",
      "text/plain": [
       "<Figure size 576x576 with 1 Axes>"
      ]
     },
     "metadata": {
      "needs_background": "light"
     },
     "output_type": "display_data"
    }
   ],
   "source": [
    "fig = plt.figure(figsize=(8, 8))\n",
    "ax = fig.add_subplot(111)\n",
    "# 산점도\n",
    "ax.scatter(en_scores, ma_scores)\n",
    "ax.set_xlabel('english')\n",
    "ax.set_ylabel('mathematics')\n",
    "\n",
    "plt.show()"
   ]
  },
  {
   "cell_type": "raw",
   "id": "bcd1c822-6ac0-408c-b393-aa06665d61a5",
   "metadata": {},
   "source": [
    "### 회귀직선"
   ]
  },
  {
   "cell_type": "code",
   "execution_count": 574,
   "id": "02030196-3746-4d00-bff2-46e20d5271e3",
   "metadata": {
    "ExecuteTime": {
     "end_time": "2018-08-14T06:40:19.900171Z",
     "start_time": "2018-08-14T06:40:19.806854Z"
    }
   },
   "outputs": [
    {
     "name": "stdout",
     "output_type": "stream",
     "text": [
      "[ 0.689 13.638]\n"
     ]
    },
    {
     "data": {
      "image/png": "[encoded data removed]",
      "text/plain": [
       "<Figure size 576x576 with 1 Axes>"
      ]
     },
     "metadata": {
      "needs_background": "light"
     },
     "output_type": "display_data"
    }
   ],
   "source": [
    "# 계수β_0와 β_1를 구한다\n",
    "poly_fit = np.polyfit(en_scores, ma_scores, 1)\n",
    "print(poly_fit)\n",
    "# β_0+β_1 x를 반환하는 함수를 작성\n",
    "poly_1d = np.poly1d(poly_fit)\n",
    "# 직선을 그리기 위해 x좌표를 생성\n",
    "xs = np.linspace(en_scores.min(), ma_scores.max())\n",
    "# xs에 대응하는 y좌표를 구한다\n",
    "ys = poly_1d(xs)\n",
    "\n",
    "fig = plt.figure(figsize=(8, 8))\n",
    "ax = fig.add_subplot(111)\n",
    "ax.set_xlabel('english')\n",
    "ax.set_ylabel('mathematics')\n",
    "ax.scatter(en_scores, ma_scores, label='score')\n",
    "ax.plot(xs, ys, color='gray',\n",
    "        label=f'{poly_fit[1]:.2f}+{poly_fit[0]:.2f}x')\n",
    "# 범례의 표시\n",
    "ax.legend(loc='upper left')\n",
    "\n",
    "plt.show()"
   ]
  },
  {
   "cell_type": "raw",
   "id": "0eba4a69-9fc7-4494-a018-b5410458c249",
   "metadata": {},
   "source": [
    "### 히트맵"
   ]
  },
  {
   "cell_type": "code",
   "execution_count": 596,
   "id": "902863f6-9fb9-461d-a758-dcedaea35534",
   "metadata": {
    "ExecuteTime": {
     "end_time": "2018-08-14T06:40:20.028133Z",
     "start_time": "2018-08-14T06:40:19.901235Z"
    }
   },
   "outputs": [
    {
     "data": {
      "image/png": "[encoded data removed]",
      "text/plain": [
       "<Figure size 720x576 with 2 Axes>"
      ]
     },
     "metadata": {
      "needs_background": "light"
     },
     "output_type": "display_data"
    }
   ],
   "source": [
    "fig = plt.figure(figsize=(10, 8))\n",
    "ax = fig.add_subplot(111)\n",
    "\n",
    "c = ax.hist2d(en_scores, ma_scores,\n",
    "              bins=[10, 10], range=[(40, 100), (40, 100)])\n",
    "ax.set_xlabel('english')\n",
    "ax.set_ylabel('mathematics')\n",
    "ax.set_xticks(c[1])\n",
    "ax.set_yticks(c[2])\n",
    "# 컬러 바의 표시\n",
    "fig.colorbar(c[3], ax=ax)\n",
    "plt.show()"
   ]
  },
  {
   "cell_type": "markdown",
   "id": "88dc1ffc-2e90-4210-a1d2-cbc2b5de4add",
   "metadata": {
    "tags": []
   },
   "source": [
    "## 앤스컴의 예"
   ]
  },
  {
   "cell_type": "code",
   "execution_count": 585,
   "id": "22bee4ec-59d0-4eea-9798-60cc49caee81",
   "metadata": {
    "ExecuteTime": {
     "end_time": "2018-08-14T06:40:20.034280Z",
     "start_time": "2018-08-14T06:40:20.029676Z"
    },
    "scrolled": true
   },
   "outputs": [
    {
     "name": "stdout",
     "output_type": "stream",
     "text": [
      "(4, 11, 2)\n"
     ]
    },
    {
     "data": {
      "text/plain": [
       "array([[10.  ,  8.04],\n",
       "       [ 8.  ,  6.95],\n",
       "       [13.  ,  7.58],\n",
       "       [ 9.  ,  8.81],\n",
       "       [11.  ,  8.33],\n",
       "       [14.  ,  9.96],\n",
       "       [ 6.  ,  7.24],\n",
       "       [ 4.  ,  4.26],\n",
       "       [12.  , 10.84],\n",
       "       [ 7.  ,  4.82],\n",
       "       [ 5.  ,  5.68]])"
      ]
     },
     "execution_count": 585,
     "metadata": {},
     "output_type": "execute_result"
    }
   ],
   "source": [
    "# npy 형식으로 저장된 NumPy array를 읽어들인다\n",
    "anscombe_data = np.load('./python_stat_sample-master/data/ch3_anscombe.npy')\n",
    "print(anscombe_data.shape)\n",
    "anscombe_data[0]"
   ]
  },
  {
   "cell_type": "code",
   "execution_count": 586,
   "id": "d42c5e81-abfa-4add-a60b-35781fa6e8c7",
   "metadata": {
    "ExecuteTime": {
     "end_time": "2018-08-14T06:40:20.052006Z",
     "start_time": "2018-08-14T06:40:20.035614Z"
    }
   },
   "outputs": [
    {
     "data": {
      "text/html": [
       "<div>\n",
       "<style scoped>\n",
       "    .dataframe tbody tr th:only-of-type {\n",
       "        vertical-align: middle;\n",
       "    }\n",
       "\n",
       "    .dataframe tbody tr th {\n",
       "        vertical-align: top;\n",
       "    }\n",
       "\n",
       "    .dataframe thead th {\n",
       "        text-align: right;\n",
       "    }\n",
       "</style>\n",
       "<table border=\"1\" class=\"dataframe\">\n",
       "  <thead>\n",
       "    <tr style=\"text-align: right;\">\n",
       "      <th></th>\n",
       "      <th>data1</th>\n",
       "      <th>data2</th>\n",
       "      <th>data3</th>\n",
       "      <th>data4</th>\n",
       "    </tr>\n",
       "  </thead>\n",
       "  <tbody>\n",
       "    <tr>\n",
       "      <th>X_mean</th>\n",
       "      <td>9.00</td>\n",
       "      <td>9.00</td>\n",
       "      <td>9.00</td>\n",
       "      <td>9.00</td>\n",
       "    </tr>\n",
       "    <tr>\n",
       "      <th>X_variance</th>\n",
       "      <td>10.00</td>\n",
       "      <td>10.00</td>\n",
       "      <td>10.00</td>\n",
       "      <td>10.00</td>\n",
       "    </tr>\n",
       "    <tr>\n",
       "      <th>Y_mean</th>\n",
       "      <td>7.50</td>\n",
       "      <td>7.50</td>\n",
       "      <td>7.50</td>\n",
       "      <td>7.50</td>\n",
       "    </tr>\n",
       "    <tr>\n",
       "      <th>Y_variance</th>\n",
       "      <td>3.75</td>\n",
       "      <td>3.75</td>\n",
       "      <td>3.75</td>\n",
       "      <td>3.75</td>\n",
       "    </tr>\n",
       "    <tr>\n",
       "      <th>X&amp;Y_correlation</th>\n",
       "      <td>0.82</td>\n",
       "      <td>0.82</td>\n",
       "      <td>0.82</td>\n",
       "      <td>0.82</td>\n",
       "    </tr>\n",
       "    <tr>\n",
       "      <th>X&amp;Y_regression line</th>\n",
       "      <td>3.00+0.50x</td>\n",
       "      <td>3.00+0.50x</td>\n",
       "      <td>3.00+0.50x</td>\n",
       "      <td>3.00+0.50x</td>\n",
       "    </tr>\n",
       "  </tbody>\n",
       "</table>\n",
       "</div>"
      ],
      "text/plain": [
       "                          data1       data2       data3       data4\n",
       "X_mean                     9.00        9.00        9.00        9.00\n",
       "X_variance                10.00       10.00       10.00       10.00\n",
       "Y_mean                     7.50        7.50        7.50        7.50\n",
       "Y_variance                 3.75        3.75        3.75        3.75\n",
       "X&Y_correlation            0.82        0.82        0.82        0.82\n",
       "X&Y_regression line  3.00+0.50x  3.00+0.50x  3.00+0.50x  3.00+0.50x"
      ]
     },
     "execution_count": 586,
     "metadata": {},
     "output_type": "execute_result"
    }
   ],
   "source": [
    "stats_df = pd.DataFrame(index=['X_mean', 'X_variance', 'Y_mean',\n",
    "                               'Y_variance', 'X&Y_correlation',\n",
    "                               'X&Y_regression line'])\n",
    "for i, data in enumerate(anscombe_data):\n",
    "    dataX = data[:, 0]\n",
    "    dataY = data[:, 1]\n",
    "    poly_fit = np.polyfit(dataX, dataY, 1)\n",
    "    stats_df[f'data{i+1}'] =\\\n",
    "        [f'{np.mean(dataX):.2f}',\n",
    "         f'{np.var(dataX):.2f}',\n",
    "         f'{np.mean(dataY):.2f}',\n",
    "         f'{np.var(dataY):.2f}',\n",
    "         f'{np.corrcoef(dataX, dataY)[0, 1]:.2f}',\n",
    "         f'{poly_fit[1]:.2f}+{poly_fit[0]:.2f}x']\n",
    "stats_df"
   ]
  },
  {
   "cell_type": "code",
   "execution_count": 587,
   "id": "34242b0d-9c18-481a-a1d7-ff086a049217",
   "metadata": {
    "ExecuteTime": {
     "end_time": "2018-08-14T06:40:20.368592Z",
     "start_time": "2018-08-14T06:40:20.053270Z"
    }
   },
   "outputs": [
    {
     "data": {
      "image/png": "[encoded data removed]",
      "text/plain": [
       "<Figure size 720x720 with 4 Axes>"
      ]
     },
     "metadata": {
      "needs_background": "light"
     },
     "output_type": "display_data"
    }
   ],
   "source": [
    "# 그래프를 그리기 위한 영역을 2x2개 생성\n",
    "fig, axes = plt.subplots(nrows=2, ncols=2, figsize=(10, 10),\n",
    "                         sharex=True, sharey=True)\n",
    "\n",
    "xs = np.linspace(0, 30, 100)\n",
    "for i, data in enumerate(anscombe_data):\n",
    "    poly_fit = np.polyfit(data[:,0], data[:,1], 1)\n",
    "    poly_1d = np.poly1d(poly_fit)\n",
    "    ys = poly_1d(xs)\n",
    "    # 그리는 영역을 선택\n",
    "    ax = axes[i//2, i%2]\n",
    "    ax.set_xlim([4, 20])\n",
    "    ax.set_ylim([3, 13])\n",
    "    # 타이틀을 부여\n",
    "    ax.set_title(f'data{i+1}')\n",
    "    ax.scatter(data[:,0], data[:,1])\n",
    "    ax.plot(xs, ys, color='gray')\n",
    "\n",
    "# 그래프 사이의 간격을 좁힘\n",
    "plt.tight_layout()\n",
    "plt.show()"
   ]
  },
  {
   "cell_type": "markdown",
   "id": "767a0003-4d2f-4e27-8f68-5d84075eb8fc",
   "metadata": {},
   "source": [
    "#### polyfit 의 이해"
   ]
  },
  {
   "cell_type": "code",
   "execution_count": 610,
   "id": "aaefc8ca-e429-49e7-ba16-32bacb588526",
   "metadata": {},
   "outputs": [],
   "source": [
    "import matplotlib.pyplot as plt"
   ]
  },
  {
   "cell_type": "code",
   "execution_count": 611,
   "id": "a90b9b53-3f83-4a5f-8202-aa460774775e",
   "metadata": {},
   "outputs": [
    {
     "name": "stdout",
     "output_type": "stream",
     "text": [
      "[ 3.314 -3.6  ]\n"
     ]
    }
   ],
   "source": [
    "# 1차 회귀식\n",
    "x = [i for i in range(1,7)]\n",
    "y = [1,3,6,8,11,19]\n",
    "\n",
    "print(np.polyfit(x,y,1))"
   ]
  },
  {
   "cell_type": "code",
   "execution_count": 612,
   "id": "54b66b30-c0e8-4f8c-ae03-5ad9454b3fb7",
   "metadata": {},
   "outputs": [
    {
     "data": {
      "image/png": "[encoded data removed]",
      "text/plain": [
       "<Figure size 432x288 with 1 Axes>"
      ]
     },
     "metadata": {
      "needs_background": "light"
     },
     "output_type": "display_data"
    }
   ],
   "source": [
    "poly = np.polyfit(x,y,1)\n",
    "y_pred = np.array(x)*poly[0]+poly[1]\n",
    "\n",
    "plt.plot(x,y_pred,color='b')\n",
    "plt.scatter(x,y,color='r')\n",
    "plt.show()"
   ]
  },
  {
   "cell_type": "code",
   "execution_count": 613,
   "id": "5c495eab-e62e-46e5-917f-97aac2292152",
   "metadata": {},
   "outputs": [
    {
     "name": "stdout",
     "output_type": "stream",
     "text": [
      "[ 0.536 -0.436  1.4  ]\n"
     ]
    }
   ],
   "source": [
    "# 2차 회귀식 및 시각화\n",
    "print(np.polyfit(x,y,2))"
   ]
  },
  {
   "cell_type": "code",
   "execution_count": 616,
   "id": "1ddee5a1-ff8d-4644-8301-c3e59796aa68",
   "metadata": {},
   "outputs": [
    {
     "data": {
      "image/png": "[encoded data removed]",
      "text/plain": [
       "<Figure size 432x288 with 1 Axes>"
      ]
     },
     "metadata": {
      "needs_background": "light"
     },
     "output_type": "display_data"
    }
   ],
   "source": [
    "poly = np.polyfit(x,y,2)\n",
    "# 곡선을 완만하게 그리기 위한 linspace 객체 선언\n",
    "x_line = np.linspace(1,6,100)\n",
    "y_pred = x_line**2*poly[0] + x_line*poly[1] + poly[2]\n",
    "\n",
    "plt.plot(x_line, y_pred, color='b')\n",
    "plt.scatter(x,y,color='r')\n",
    "plt.show()"
   ]
  },
  {
   "cell_type": "code",
   "execution_count": 617,
   "id": "b2b0e341-3d5b-4f1f-8805-3b6a149fc694",
   "metadata": {},
   "outputs": [
    {
     "name": "stdout",
     "output_type": "stream",
     "text": [
      "[ -0.017   0.417  -3.417  12.083 -16.067   8.   ]\n"
     ]
    },
    {
     "data": {
      "image/png": "[encoded data removed]",
      "text/plain": [
       "<Figure size 432x288 with 1 Axes>"
      ]
     },
     "metadata": {
      "needs_background": "light"
     },
     "output_type": "display_data"
    }
   ],
   "source": [
    "# 3차 이상 회귀식 및 시각화\n",
    "print(np.polyfit(x,y,5))\n",
    "poly = np.polyfit(x,y,5)\n",
    "# 곡선을 완만하게 그리기 위한 linspace 객체 선언\n",
    "x_line = np.linspace(1,6,100)\n",
    "y_pred = np.zeros_like(x_line) # 예측값을 담을 그릇(모든 값이 0인 배열)\n",
    "for i in range(6):\n",
    "    y_pred += x_line**(5-i)*poly[i]\n",
    "\n",
    "plt.plot(x_line, y_pred, color='b')\n",
    "plt.scatter(x,y,color='r')\n",
    "plt.show()"
   ]
  },
  {
   "cell_type": "markdown",
   "id": "b91cc204-2bf3-486a-8e21-66fcd261f5e8",
   "metadata": {
    "tags": []
   },
   "source": [
    "#### [과제] 0824_1\n",
    "p84~p112 코드문제를 모두 풀어보세요."
   ]
  },
  {
   "cell_type": "markdown",
   "id": "8f09899b-90db-46b2-9b32-fb0cb4c07425",
   "metadata": {},
   "source": [
    "# 추측통계의 기본"
   ]
  },
  {
   "cell_type": "markdown",
   "id": "c75cf48c-5b8b-49a7-b67d-fe536ed7d747",
   "metadata": {
    "ExecuteTime": {
     "end_time": "2018-03-06T03:37:40.696920Z",
     "start_time": "2018-03-06T03:37:40.690655Z"
    }
   },
   "source": [
    "## 모집단과 표본"
   ]
  },
  {
   "cell_type": "markdown",
   "id": "e246b5c0-776e-4b5d-a3dc-d0e00b4a75be",
   "metadata": {},
   "source": [
    "### 표본의 추출방법"
   ]
  },
  {
   "cell_type": "code",
   "execution_count": 1,
   "id": "c822411d-4406-4a08-b180-45599798ae0a",
   "metadata": {
    "ExecuteTime": {
     "end_time": "2018-08-18T08:14:56.358857Z",
     "start_time": "2018-08-18T08:14:56.124816Z"
    }
   },
   "outputs": [],
   "source": [
    "import numpy as np\n",
    "import pandas as pd\n",
    "import matplotlib.pyplot as plt\n",
    "\n",
    "%precision 3\n",
    "%matplotlib inline"
   ]
  },
  {
   "cell_type": "code",
   "execution_count": 627,
   "id": "ccfd2e99-7c0f-45aa-b1d1-1e58f5ce7f63",
   "metadata": {
    "ExecuteTime": {
     "end_time": "2018-08-18T08:15:59.206470Z",
     "start_time": "2018-08-18T08:15:59.202081Z"
    }
   },
   "outputs": [
    {
     "data": {
      "text/plain": [
       "array([76, 55, 80, 80, 74, 61, 81, 76, 23, 80])"
      ]
     },
     "execution_count": 627,
     "metadata": {},
     "output_type": "execute_result"
    }
   ],
   "source": [
    "df = pd.read_csv('./python_stat_sample-master/data/ch4_scores400.csv')\n",
    "scores = np.array(df['score'])\n",
    "scores[:10]"
   ]
  },
  {
   "cell_type": "code",
   "execution_count": 628,
   "id": "56c1f51f-f6bf-4c65-ae97-329fda7d58fc",
   "metadata": {
    "ExecuteTime": {
     "end_time": "2018-08-14T06:47:18.710063Z",
     "start_time": "2018-08-14T06:47:18.706621Z"
    }
   },
   "outputs": [
    {
     "data": {
      "text/plain": [
       "array([2, 3, 2])"
      ]
     },
     "execution_count": 628,
     "metadata": {},
     "output_type": "execute_result"
    }
   ],
   "source": [
    "np.random.choice([1, 2, 3], 3)"
   ]
  },
  {
   "cell_type": "code",
   "execution_count": 629,
   "id": "93af2c85-529b-4878-b1db-c48711ad2a5b",
   "metadata": {
    "ExecuteTime": {
     "end_time": "2018-08-14T06:47:18.714348Z",
     "start_time": "2018-08-14T06:47:18.711029Z"
    }
   },
   "outputs": [
    {
     "data": {
      "text/plain": [
       "array([1, 3, 2])"
      ]
     },
     "execution_count": 629,
     "metadata": {},
     "output_type": "execute_result"
    }
   ],
   "source": [
    "np.random.choice([1, 2, 3], 3, replace=False)"
   ]
  },
  {
   "cell_type": "code",
   "execution_count": 630,
   "id": "454a796c-bc20-4c14-8b6f-9b47c647fbc9",
   "metadata": {
    "ExecuteTime": {
     "end_time": "2018-08-14T06:47:18.718669Z",
     "start_time": "2018-08-14T06:47:18.715323Z"
    }
   },
   "outputs": [
    {
     "data": {
      "text/plain": [
       "array([1, 2, 1])"
      ]
     },
     "execution_count": 630,
     "metadata": {},
     "output_type": "execute_result"
    }
   ],
   "source": [
    "np.random.seed(0)\n",
    "np.random.choice([1, 2, 3], 3)"
   ]
  },
  {
   "cell_type": "code",
   "execution_count": 632,
   "id": "fa18c8e3-4dc1-48f1-9c8a-f080afd578db",
   "metadata": {
    "ExecuteTime": {
     "end_time": "2018-08-14T06:47:18.722968Z",
     "start_time": "2018-08-14T06:47:18.719676Z"
    }
   },
   "outputs": [
    {
     "data": {
      "text/plain": [
       "70.400"
      ]
     },
     "execution_count": 632,
     "metadata": {},
     "output_type": "execute_result"
    }
   ],
   "source": [
    "np.random.seed(0)\n",
    "sample = np.random.choice(scores, 20)\n",
    "\n",
    "sample.mean()"
   ]
  },
  {
   "cell_type": "code",
   "execution_count": 634,
   "id": "bbf2c9fd-0a16-428c-839b-c8fe4866d624",
   "metadata": {
    "ExecuteTime": {
     "end_time": "2018-08-14T06:47:18.726978Z",
     "start_time": "2018-08-14T06:47:18.724063Z"
    }
   },
   "outputs": [
    {
     "data": {
      "text/plain": [
       "69.530"
      ]
     },
     "execution_count": 634,
     "metadata": {},
     "output_type": "execute_result"
    }
   ],
   "source": [
    "scores.mean()"
   ]
  },
  {
   "cell_type": "code",
   "execution_count": 635,
   "id": "c0b8cec0-7d65-4248-8d82-77246506c99a",
   "metadata": {
    "ExecuteTime": {
     "end_time": "2018-08-14T06:47:18.731373Z",
     "start_time": "2018-08-14T06:47:18.727854Z"
    }
   },
   "outputs": [
    {
     "name": "stdout",
     "output_type": "stream",
     "text": [
      "1번째 무작위 추출로 얻은 표본평균 72.45\n",
      "2번째 무작위 추출로 얻은 표본평균 63.7\n",
      "3번째 무작위 추출로 얻은 표본평균 66.05\n",
      "4번째 무작위 추출로 얻은 표본평균 71.7\n",
      "5번째 무작위 추출로 얻은 표본평균 74.15\n"
     ]
    }
   ],
   "source": [
    "for i in range(5):\n",
    "    sample = np.random.choice(scores, 20)\n",
    "    print(f'{i+1}번째 무작위 추출로 얻은 표본평균', sample.mean())"
   ]
  },
  {
   "cell_type": "markdown",
   "id": "0b9b3235-0ad6-45f9-9b97-0b87c3f94ccd",
   "metadata": {},
   "source": [
    "## 확률 모델"
   ]
  },
  {
   "cell_type": "markdown",
   "id": "6d0227e1-e4a8-4395-86a5-3397707bc7bc",
   "metadata": {},
   "source": [
    "### 확률의 기본"
   ]
  },
  {
   "cell_type": "markdown",
   "id": "d6897dd6-933d-4c3d-8534-7a4f044bb16e",
   "metadata": {
    "ExecuteTime": {
     "end_time": "2018-03-06T10:06:25.135659Z",
     "start_time": "2018-03-06T10:06:25.129307Z"
    }
   },
   "source": [
    "### 확률분포"
   ]
  },
  {
   "cell_type": "code",
   "execution_count": 636,
   "id": "8fc29581-3113-4c46-a892-4504afb1e00f",
   "metadata": {
    "ExecuteTime": {
     "end_time": "2018-08-14T06:47:18.735390Z",
     "start_time": "2018-08-14T06:47:18.732292Z"
    }
   },
   "outputs": [],
   "source": [
    "dice = [1, 2, 3, 4, 5, 6]\n",
    "prob = [1/21, 2/21, 3/21, 4/21, 5/21, 6/21]"
   ]
  },
  {
   "cell_type": "code",
   "execution_count": 638,
   "id": "9ee3018c-0b04-44b7-be3a-f831d592620d",
   "metadata": {
    "ExecuteTime": {
     "end_time": "2018-08-14T06:47:18.740013Z",
     "start_time": "2018-08-14T06:47:18.736262Z"
    }
   },
   "outputs": [
    {
     "data": {
      "text/plain": [
       "4"
      ]
     },
     "execution_count": 638,
     "metadata": {},
     "output_type": "execute_result"
    }
   ],
   "source": [
    "np.random.choice(dice, p=prob)"
   ]
  },
  {
   "cell_type": "code",
   "execution_count": 643,
   "id": "006e6bba-2267-404d-819e-7f5c96700855",
   "metadata": {
    "ExecuteTime": {
     "end_time": "2018-08-14T06:47:18.744199Z",
     "start_time": "2018-08-14T06:47:18.741030Z"
    }
   },
   "outputs": [
    {
     "data": {
      "text/plain": [
       "array([3, 2, 5, 5, 5, 5, 4, 5, 4, 2, 6, 2, 1, 6, 3, 3, 3, 5, 6, 3, 6, 1,\n",
       "       6, 5, 3, 6, 1, 5, 4, 6, 3, 6, 4, 6, 5, 5, 4, 5, 6, 6, 5, 5, 5, 3,\n",
       "       3, 6, 5, 4, 4, 1, 5, 4, 5, 3, 4, 6, 1, 6, 5, 2, 4, 5, 6, 4, 3, 4,\n",
       "       6, 6, 6, 5, 4, 5, 5, 1, 6, 5, 6, 4, 6, 4, 6, 5, 6, 6, 4, 4, 5, 5,\n",
       "       4, 5, 2, 5, 4, 1, 2, 2, 4, 3, 5, 6])"
      ]
     },
     "execution_count": 643,
     "metadata": {},
     "output_type": "execute_result"
    }
   ],
   "source": [
    "num_trial = 100\n",
    "sample = np.random.choice(dice, num_trial, p=prob)\n",
    "sample"
   ]
  },
  {
   "cell_type": "code",
   "execution_count": 645,
   "id": "5f8f0610-0b44-4304-97d9-7518cb1dea5f",
   "metadata": {
    "ExecuteTime": {
     "end_time": "2018-08-14T06:47:18.752137Z",
     "start_time": "2018-08-14T06:47:18.745175Z"
    }
   },
   "outputs": [
    {
     "data": {
      "text/html": [
       "<div>\n",
       "<style scoped>\n",
       "    .dataframe tbody tr th:only-of-type {\n",
       "        vertical-align: middle;\n",
       "    }\n",
       "\n",
       "    .dataframe tbody tr th {\n",
       "        vertical-align: top;\n",
       "    }\n",
       "\n",
       "    .dataframe thead th {\n",
       "        text-align: right;\n",
       "    }\n",
       "</style>\n",
       "<table border=\"1\" class=\"dataframe\">\n",
       "  <thead>\n",
       "    <tr style=\"text-align: right;\">\n",
       "      <th></th>\n",
       "      <th>frequency</th>\n",
       "      <th>relative frequency</th>\n",
       "    </tr>\n",
       "    <tr>\n",
       "      <th>dice</th>\n",
       "      <th></th>\n",
       "      <th></th>\n",
       "    </tr>\n",
       "  </thead>\n",
       "  <tbody>\n",
       "    <tr>\n",
       "      <th>1</th>\n",
       "      <td>7</td>\n",
       "      <td>0.07</td>\n",
       "    </tr>\n",
       "    <tr>\n",
       "      <th>2</th>\n",
       "      <td>7</td>\n",
       "      <td>0.07</td>\n",
       "    </tr>\n",
       "    <tr>\n",
       "      <th>3</th>\n",
       "      <td>12</td>\n",
       "      <td>0.12</td>\n",
       "    </tr>\n",
       "    <tr>\n",
       "      <th>4</th>\n",
       "      <td>20</td>\n",
       "      <td>0.20</td>\n",
       "    </tr>\n",
       "    <tr>\n",
       "      <th>5</th>\n",
       "      <td>29</td>\n",
       "      <td>0.29</td>\n",
       "    </tr>\n",
       "    <tr>\n",
       "      <th>6</th>\n",
       "      <td>25</td>\n",
       "      <td>0.25</td>\n",
       "    </tr>\n",
       "  </tbody>\n",
       "</table>\n",
       "</div>"
      ],
      "text/plain": [
       "      frequency  relative frequency\n",
       "dice                               \n",
       "1             7                0.07\n",
       "2             7                0.07\n",
       "3            12                0.12\n",
       "4            20                0.20\n",
       "5            29                0.29\n",
       "6            25                0.25"
      ]
     },
     "execution_count": 645,
     "metadata": {},
     "output_type": "execute_result"
    }
   ],
   "source": [
    "freq, _ = np.histogram(sample, bins=6, range=(1, 7))\n",
    "pd.DataFrame({'frequency':freq,\n",
    "              'relative frequency':freq / num_trial},\n",
    "              index = pd.Index(np.arange(1, 7), name='dice'))"
   ]
  },
  {
   "cell_type": "code",
   "execution_count": 673,
   "id": "cd61d2b2-b4f0-4e9c-a97f-8f6962d4f210",
   "metadata": {
    "ExecuteTime": {
     "end_time": "2018-08-14T06:47:18.839357Z",
     "start_time": "2018-08-14T06:47:18.753130Z"
    }
   },
   "outputs": [
    {
     "data": {
      "image/png": "[encoded data removed]",
      "text/plain": [
       "<Figure size 720x432 with 1 Axes>"
      ]
     },
     "metadata": {
      "needs_background": "light"
     },
     "output_type": "display_data"
    }
   ],
   "source": [
    "fig = plt.figure(figsize=(10, 6))\n",
    "ax = fig.add_subplot(111)\n",
    "ax.hist(sample, bins=6, range=(1, 7), density=True, rwidth=0.8)\n",
    "# 실제의 확률분포를 가로선으로 표시\n",
    "ax.hlines(prob, np.arange(1, 7), np.arange(2, 8), colors='gray')\n",
    "# 막대 그래프의 [1.5, 2.5, ..., 6.5]에 눈금을 표시\n",
    "ax.set_xticks(np.linspace(1.5, 6.5, 6))\n",
    "# # 주사위 눈의 값은 [1, 2, 3, 4, 5, 6]\n",
    "ax.set_xticklabels(np.arange(1, 7))\n",
    "ax.set_xlabel('dice')\n",
    "ax.set_ylabel('relative frequency')\n",
    "plt.show()"
   ]
  },
  {
   "cell_type": "code",
   "execution_count": 674,
   "id": "e3133e6a-ce3d-4ba1-a140-6cc177283637",
   "metadata": {
    "ExecuteTime": {
     "end_time": "2018-08-14T06:47:18.937910Z",
     "start_time": "2018-08-14T06:47:18.840450Z"
    }
   },
   "outputs": [
    {
     "data": {
      "image/png": "[encoded data removed]",
      "text/plain": [
       "<Figure size 720x432 with 1 Axes>"
      ]
     },
     "metadata": {
      "needs_background": "light"
     },
     "output_type": "display_data"
    }
   ],
   "source": [
    "num_trial = 10000\n",
    "sample = np.random.choice(dice, size=num_trial, p=prob)\n",
    "\n",
    "fig = plt.figure(figsize=(10, 6))\n",
    "ax = fig.add_subplot(111)\n",
    "ax.hist(sample, bins=6, range=(1, 7), density=True, rwidth=0.8)\n",
    "ax.hlines(prob, np.arange(1, 7), np.arange(2, 8), colors='gray')\n",
    "ax.set_xticks(np.linspace(1.5, 6.5, 6))\n",
    "ax.set_xticklabels(np.arange(1, 7))\n",
    "ax.set_xlabel('dice')\n",
    "ax.set_ylabel('relative frequency')\n",
    "plt.show()"
   ]
  },
  {
   "cell_type": "markdown",
   "id": "ae387ef5-8d22-4612-8ecd-01022a971694",
   "metadata": {},
   "source": [
    "## 추측통계에서의 확률"
   ]
  },
  {
   "cell_type": "code",
   "execution_count": 19,
   "id": "58575296-da04-4f5a-b83b-ee68b4cad98d",
   "metadata": {
    "ExecuteTime": {
     "end_time": "2018-08-14T06:47:19.099892Z",
     "start_time": "2018-08-14T06:47:18.939207Z"
    }
   },
   "outputs": [
    {
     "data": {
      "image/png": "[encoded data removed]",
      "text/plain": [
       "<Figure size 720x432 with 1 Axes>"
      ]
     },
     "metadata": {
      "needs_background": "light"
     },
     "output_type": "display_data"
    }
   ],
   "source": [
    "fig = plt.figure(figsize=(10, 6))\n",
    "ax = fig.add_subplot(111)\n",
    "ax.hist(scores, bins=100, range=(0, 100), density=True)\n",
    "ax.set_xlim(20, 100)\n",
    "ax.set_ylim(0, 0.042)\n",
    "ax.set_xlabel('score')\n",
    "ax.set_ylabel('relative frequency')\n",
    "plt.show()"
   ]
  },
  {
   "cell_type": "code",
   "execution_count": 20,
   "id": "429f9ecd-63a6-4b95-8f47-c93693420238",
   "metadata": {
    "ExecuteTime": {
     "end_time": "2018-08-14T06:47:19.103313Z",
     "start_time": "2018-08-14T06:47:19.100842Z"
    }
   },
   "outputs": [
    {
     "data": {
      "text/plain": [
       "63"
      ]
     },
     "execution_count": 20,
     "metadata": {},
     "output_type": "execute_result"
    }
   ],
   "source": [
    "np.random.choice(scores)"
   ]
  },
  {
   "cell_type": "code",
   "execution_count": 21,
   "id": "de645682-316b-4f2d-be82-497129c0c472",
   "metadata": {
    "ExecuteTime": {
     "end_time": "2018-08-14T06:47:19.265020Z",
     "start_time": "2018-08-14T06:47:19.104243Z"
    }
   },
   "outputs": [
    {
     "data": {
      "image/png": "[encoded data removed]",
      "text/plain": [
       "<Figure size 720x432 with 1 Axes>"
      ]
     },
     "metadata": {
      "needs_background": "light"
     },
     "output_type": "display_data"
    }
   ],
   "source": [
    "sample = np.random.choice(scores, 10000)\n",
    "\n",
    "fig = plt.figure(figsize=(10, 6))\n",
    "ax = fig.add_subplot(111)\n",
    "ax.hist(sample, bins=100, range=(0, 100), density=True)\n",
    "ax.set_xlim(20, 100)\n",
    "ax.set_ylim(0, 0.042)\n",
    "ax.set_xlabel('score')\n",
    "ax.set_ylabel('relative frequency')\n",
    "plt.show()"
   ]
  },
  {
   "cell_type": "code",
   "execution_count": 693,
   "id": "04a01831-8e15-4713-9d65-482c0b2d9b9d",
   "metadata": {
    "ExecuteTime": {
     "end_time": "2018-08-14T06:47:19.591784Z",
     "start_time": "2018-08-14T06:47:19.266201Z"
    }
   },
   "outputs": [
    {
     "data": {
      "image/png": "[encoded data removed]",
      "text/plain": [
       "<Figure size 720x432 with 1 Axes>"
      ]
     },
     "metadata": {
      "needs_background": "light"
     },
     "output_type": "display_data"
    }
   ],
   "source": [
    "# 표본의 크기 20개로 표본평균을 계산하는 작업을 10000번 수행\n",
    "sample_means = [np.random.choice(scores, 20).mean()\n",
    "                for _ in range(10000)]\n",
    "\n",
    "fig = plt.figure(figsize=(10, 6))\n",
    "ax = fig.add_subplot(111)\n",
    "ax.hist(sample_means, bins=100, range=(0, 100), density=True)\n",
    "# 모평균을 세로선으로 표시\n",
    "ax.vlines(np.mean(scores), 0, 1, 'gray')\n",
    "ax.set_xlim(50, 90)\n",
    "ax.set_ylim(0, 0.13)\n",
    "ax.set_xlabel('score')\n",
    "ax.set_ylabel('relative frequency')\n",
    "plt.show()"
   ]
  },
  {
   "cell_type": "markdown",
   "id": "44dece47-7bd4-47b6-af40-6b74413c3d1f",
   "metadata": {},
   "source": [
    "#### [과제] 0824_2\n",
    "적절한 데이터를 생성하고 polyfit을 이용하여 2,3차 방정식을 만든 후 산점도 및 회귀식을 시각화하여 그 의미를 해석하세요."
   ]
  },
  {
   "cell_type": "code",
   "execution_count": 610,
   "id": "b76db396-36a3-48a8-9fad-5cbe40632ef5",
   "metadata": {},
   "outputs": [],
   "source": [
    "import matplotlib.pyplot as plt"
   ]
  },
  {
   "cell_type": "code",
   "execution_count": 965,
   "id": "d6404775-b6d7-41b7-b6dc-89b6de61082c",
   "metadata": {},
   "outputs": [
    {
     "data": {
      "text/plain": [
       "array([-30.269,  23.464,  28.562,  37.936,  46.631,  15.35 ,  51.663,\n",
       "        58.484,  80.73 ,  75.987, 147.025, 152.976, 183.689, 169.279,\n",
       "       239.195, 261.217, 269.218, 326.743, 367.282, 381.155])"
      ]
     },
     "execution_count": 965,
     "metadata": {},
     "output_type": "execute_result"
    }
   ],
   "source": [
    "# 적절한 데이터 만들기\n",
    "x = np.arange(1,21)\n",
    "y = x**2\n",
    "# print(y)\n",
    "y_noise = y + np.random.randn(len(y))*20\n",
    "y_noise"
   ]
  },
  {
   "cell_type": "code",
   "execution_count": 966,
   "id": "042a5b51-6eb0-4810-8948-b886038858dd",
   "metadata": {},
   "outputs": [
    {
     "name": "stdout",
     "output_type": "stream",
     "text": [
      "[ 1  2  3  4  5  6  7  8  9 10 11 12 13 14 15 16 17 18 19 20]\n",
      "[  1   4   9  16  25  36  49  64  81 100 121 144 169 196 225 256 289 324\n",
      " 361 400]\n",
      "[-30.269  23.464  28.562  37.936  46.631  15.35   51.663  58.484  80.73\n",
      "  75.987 147.025 152.976 183.689 169.279 239.195 261.217 269.218 326.743\n",
      " 367.282 381.155]\n"
     ]
    }
   ],
   "source": [
    "# for i in range(10):\n",
    "#     a = round(random.uniform(0.5,0.9),2)\n",
    "#     b = np.random.randint(5)\n",
    "#     c = np.random.randint(5)\n",
    "#     y[i] = a*(x[i]**2) + b*x[i] + c # 경향을 랜덤으로 만들되, 설정한 범위 내에서 만들기\n",
    "\n",
    "print(x)\n",
    "print(y)\n",
    "print(y_noise)"
   ]
  },
  {
   "cell_type": "code",
   "execution_count": 967,
   "id": "e2a8c6a2-b685-4788-881c-0bc19a1c2a0a",
   "metadata": {},
   "outputs": [
    {
     "name": "stdout",
     "output_type": "stream",
     "text": [
      "[0.921 1.16  0.036]\n"
     ]
    }
   ],
   "source": [
    "# 2차 회귀식 및 시각화\n",
    "print(np.polyfit(x,y_noise,2))"
   ]
  },
  {
   "cell_type": "code",
   "execution_count": 968,
   "id": "37d15aba-781f-4527-bbbf-da9889a45ac5",
   "metadata": {},
   "outputs": [
    {
     "data": {
      "text/plain": [
       "poly1d([-0.,  1., -0.,  0.])"
      ]
     },
     "execution_count": 968,
     "metadata": {},
     "output_type": "execute_result"
    }
   ],
   "source": [
    "poly1d = np.poly1d(poly_fit)\n",
    "poly1d"
   ]
  },
  {
   "cell_type": "code",
   "execution_count": 977,
   "id": "893c6acd-dd82-4014-8859-58f9496f4fe5",
   "metadata": {},
   "outputs": [
    {
     "name": "stdout",
     "output_type": "stream",
     "text": [
      "[0.921 1.16  0.036]\n"
     ]
    },
    {
     "data": {
      "image/png": "[encoded data removed]",
      "text/plain": [
       "<Figure size 432x288 with 1 Axes>"
      ]
     },
     "metadata": {
      "needs_background": "light"
     },
     "output_type": "display_data"
    }
   ],
   "source": [
    "poly_fit = np.polyfit(x,y_noise,2)\n",
    "poly1d = np.poly1d(poly_fit)\n",
    "# 곡선을 완만하게 그리기 위한 linspace 객체 선언\n",
    "x_line = np.linspace(0,20,100)\n",
    "y_pred = poly1d(x_line)\n",
    "plt.plot(x, y, label='original',color='g')\n",
    "plt.plot(x_line, y_pred, label=f'{poly_fit[2]:.2f}+{poly_fit[1]:.2f}x+{poly_fit[0]:.2f}x^2',color='b')\n",
    "plt.scatter(x,y_noise,color='r')\n",
    "plt.legend(loc='upper left')\n",
    "plt.show()"
   ]
  },
  {
   "cell_type": "code",
   "execution_count": 986,
   "id": "82e8fbfe-664e-4146-ad14-06bd2fe534b1",
   "metadata": {},
   "outputs": [
    {
     "name": "stdout",
     "output_type": "stream",
     "text": [
      "          3          2\n",
      "0.008426 x + 0.6551 x + 3.445 x - 4.44\n"
     ]
    },
    {
     "data": {
      "image/png": "[encoded data removed]",
      "text/plain": [
       "<Figure size 432x288 with 1 Axes>"
      ]
     },
     "metadata": {
      "needs_background": "light"
     },
     "output_type": "display_data"
    }
   ],
   "source": [
    "# 3차 회귀식 및 시각화\n",
    "poly_fit = np.polyfit(x,y_noise,3)\n",
    "# print(poly_fit)\n",
    "poly1d = np.poly1d(poly_fit)\n",
    "print(poly1d)\n",
    "# 곡선을 완만하게 그리기 위한 linspace 객체 선언\n",
    "x_line = np.linspace(0,20,100)\n",
    "# y_pred = np.zeros_like(x_line) # 예측값을 담을 그릇(모든 값이 0인 배열)\n",
    "# for i in range(4):\n",
    "#     y_pred += x_line**(3-i)*poly_fit[i]\n",
    "y_pred = poly1d(x_line)\n",
    "# print(y_pred)\n",
    "plt.plot(x, y, label='original',color='g')\n",
    "plt.plot(x_line, y_pred, label=f'{poly_fit[3]:.2f}+{poly_fit[2]:.2f}x+{poly_fit[1]:.2f}x^2+{poly_fit[0]:.2f}x^3' ,color='b')\n",
    "plt.scatter(x,y_noise,color='r')\n",
    "plt.legend(loc='upper left')\n",
    "plt.show()"
   ]
  },
  {
   "cell_type": "markdown",
   "id": "03220d5c-1860-459e-8559-bcb529ef01a8",
   "metadata": {},
   "source": [
    "#### [과제] 0824_3\n",
    "\"어떤 모집단에서 표본을 랜덤하게 추출하여 표본평균을 구하면 그 표본평균은 모평균을 중심으로 분포한다.\" 라는 주장을 사례로 만들어서 설득력 있게 설명하세요."
   ]
  },
  {
   "cell_type": "code",
   "execution_count": 992,
   "id": "53488cae-5d91-4737-839d-4ab399c21668",
   "metadata": {
    "tags": []
   },
   "outputs": [
    {
     "data": {
      "text/plain": [
       "99"
      ]
     },
     "execution_count": 992,
     "metadata": {},
     "output_type": "execute_result"
    }
   ],
   "source": [
    "np.random.seed(0)\n",
    "# scores = np.random.randn(400)*10 + 60\n",
    "scores = np.random.randint(1,100,400)\n",
    "# scores.min()\n",
    "scores.max()\n",
    "# scores"
   ]
  },
  {
   "cell_type": "code",
   "execution_count": 993,
   "id": "a3fc5cf9-e85f-470b-a0a7-abffdbc4bc58",
   "metadata": {},
   "outputs": [
    {
     "data": {
      "text/plain": [
       "49.057"
      ]
     },
     "execution_count": 993,
     "metadata": {},
     "output_type": "execute_result"
    }
   ],
   "source": [
    "scores.mean()"
   ]
  },
  {
   "cell_type": "code",
   "execution_count": 994,
   "id": "faea2434-c4f5-4f7e-a4f8-7fa960393084",
   "metadata": {},
   "outputs": [
    {
     "data": {
      "image/png": "[encoded data removed]",
      "text/plain": [
       "<Figure size 720x432 with 1 Axes>"
      ]
     },
     "metadata": {
      "needs_background": "light"
     },
     "output_type": "display_data"
    }
   ],
   "source": [
    "# 표본의 크기 20개로 표본평균을 계산하는 작업을 10000번 수행\n",
    "sample_means = [np.random.choice(scores, 20).mean()\n",
    "                for _ in range(10000)]\n",
    "\n",
    "fig = plt.figure(figsize=(10, 6))\n",
    "ax = fig.add_subplot(111)\n",
    "ax.hist(sample_means, bins=100, range=(0, 100), density=True)\n",
    "# 모평균을 세로선으로 표시\n",
    "ax.vlines(np.mean(scores), 0, 1, 'gray')\n",
    "ax.set_xlim(20, 80)\n",
    "ax.set_ylim(0, 0.1)\n",
    "ax.set_xlabel('score')\n",
    "ax.set_ylabel('relative frequency')\n",
    "plt.show()"
   ]
  },
  {
   "cell_type": "markdown",
   "id": "4f72f32b-274d-4eba-b9a3-639fb180483c",
   "metadata": {},
   "source": [
    "## 이산형 확률변수"
   ]
  },
  {
   "cell_type": "code",
   "execution_count": 995,
   "id": "34e466e8-fcd5-4578-a6c4-1eeaa42130ac",
   "metadata": {},
   "outputs": [
    {
     "data": {
      "text/plain": [
       "'%.3f'"
      ]
     },
     "execution_count": 995,
     "metadata": {},
     "output_type": "execute_result"
    }
   ],
   "source": [
    "# 1차원\n",
    "import numpy as np\n",
    "import matplotlib.pyplot as plt\n",
    "%precision 3"
   ]
  },
  {
   "cell_type": "code",
   "execution_count": 996,
   "id": "29a19889-f888-48cd-b115-1d3b16ea7c7b",
   "metadata": {},
   "outputs": [],
   "source": [
    "x_set = np.array([1,2,3,4,5,6])\n",
    "def f(x):\n",
    "    if x in x_set:\n",
    "        return x / 21\n",
    "    else:\n",
    "        return 0"
   ]
  },
  {
   "cell_type": "code",
   "execution_count": 1005,
   "id": "0bf50904-908a-438a-9811-6f6a70452f55",
   "metadata": {},
   "outputs": [
    {
     "data": {
      "text/plain": [
       "[array([1, 2, 3, 4, 5, 6]), <function __main__.f(x)>]"
      ]
     },
     "execution_count": 1005,
     "metadata": {},
     "output_type": "execute_result"
    }
   ],
   "source": [
    "x"
   ]
  },
  {
   "cell_type": "code",
   "execution_count": 1029,
   "id": "40b49541-d364-4375-b8c2-59913db483d1",
   "metadata": {},
   "outputs": [
    {
     "name": "stdout",
     "output_type": "stream",
     "text": [
      "[0.048 0.095 0.143 0.19  0.238 0.286]\n"
     ]
    },
    {
     "data": {
      "text/plain": [
       "{1: 0.048, 2: 0.095, 3: 0.143, 4: 0.190, 5: 0.238, 6: 0.286}"
      ]
     },
     "execution_count": 1029,
     "metadata": {},
     "output_type": "execute_result"
    }
   ],
   "source": [
    "X = [x_set, f]\n",
    "prob = np.array([f(x_k) for x_k in x_set])\n",
    "print(prob)\n",
    "dict(zip(x_set,prob))"
   ]
  },
  {
   "cell_type": "code",
   "execution_count": 999,
   "id": "11a38b8d-2b1f-421b-a431-6823fec6b5f9",
   "metadata": {},
   "outputs": [
    {
     "data": {
      "text/plain": [
       "Text(0.5, 1.0, 'Bar Graph')"
      ]
     },
     "execution_count": 999,
     "metadata": {},
     "output_type": "execute_result"
    },
    {
     "data": {
      "image/png": "[encoded data removed]",
      "text/plain": [
       "<Figure size 720x432 with 1 Axes>"
      ]
     },
     "metadata": {
      "needs_background": "light"
     },
     "output_type": "display_data"
    }
   ],
   "source": [
    "import seaborn as sns\n",
    "import warnings\n",
    "warnings.filterwarnings('ignore')\n",
    "plt.figure(figsize=(10,6))\n",
    "sns.barplot(x_set,prob)\n",
    "plt.title('Bar Graph',fontsize=30)"
   ]
  },
  {
   "cell_type": "code",
   "execution_count": 1000,
   "id": "4c46d28c-286a-4bd9-9d71-d447481efa7c",
   "metadata": {},
   "outputs": [
    {
     "data": {
      "text/plain": [
       "True"
      ]
     },
     "execution_count": 1000,
     "metadata": {},
     "output_type": "execute_result"
    }
   ],
   "source": [
    "np.all(prob >= 0)"
   ]
  },
  {
   "cell_type": "code",
   "execution_count": 1001,
   "id": "d4d2ae0b-6cf2-4ee5-a730-be45f54c7da5",
   "metadata": {},
   "outputs": [
    {
     "data": {
      "text/plain": [
       "1.000"
      ]
     },
     "execution_count": 1001,
     "metadata": {},
     "output_type": "execute_result"
    }
   ],
   "source": [
    "np.sum(prob)"
   ]
  },
  {
   "cell_type": "code",
   "execution_count": 1014,
   "id": "84895e5c-1851-4c2d-a821-3ef169db458e",
   "metadata": {},
   "outputs": [],
   "source": [
    "# 누적분포함수\n",
    "def F(x):\n",
    "    return np.sum([f(x_k) for x_k in x_set if x_k <= x])"
   ]
  },
  {
   "cell_type": "code",
   "execution_count": 1015,
   "id": "736d7a78-8062-481b-8394-4834f1446358",
   "metadata": {},
   "outputs": [
    {
     "data": {
      "text/plain": [
       "1.000"
      ]
     },
     "execution_count": 1015,
     "metadata": {},
     "output_type": "execute_result"
    }
   ],
   "source": [
    "F(6)"
   ]
  },
  {
   "cell_type": "code",
   "execution_count": 1008,
   "id": "204b23a2-3ed8-4b19-ba4c-498d29ff2ba4",
   "metadata": {},
   "outputs": [
    {
     "data": {
      "text/plain": [
       "{5: 0.048, 7: 0.095, 9: 0.143, 11: 0.190, 13: 0.238, 15: 0.286}"
      ]
     },
     "execution_count": 1008,
     "metadata": {},
     "output_type": "execute_result"
    }
   ],
   "source": [
    "# 확률변수의 변환 : 확률변수 x에 2를 곱하고 3을 더한 2x+3 도 확률변수가 된다.\n",
    "y_set = np.array([2*x_k + 3 for x_k in x_set])\n",
    "prob = np.array([f(x_k) for x_k in x_set])\n",
    "dict(zip(y_set,prob))"
   ]
  },
  {
   "cell_type": "code",
   "execution_count": 1020,
   "id": "0d9f6a40-2752-434e-be16-56820dec7ec4",
   "metadata": {},
   "outputs": [
    {
     "data": {
      "text/plain": [
       "4.333"
      ]
     },
     "execution_count": 1020,
     "metadata": {},
     "output_type": "execute_result"
    }
   ],
   "source": [
    "# 1차원 이산형 확률변수의 지표\n",
    "np.sum([x_k * f(x_k) for x_k in x_set])"
   ]
  },
  {
   "cell_type": "code",
   "execution_count": 1044,
   "id": "a3bf3458-2165-4c33-9cca-8de01619d0cc",
   "metadata": {},
   "outputs": [
    {
     "data": {
      "text/plain": [
       "4.332"
      ]
     },
     "execution_count": 1044,
     "metadata": {},
     "output_type": "execute_result"
    }
   ],
   "source": [
    "sample = np.random.choice(x_set, int(1e6), p=prob)\n",
    "np.mean(sample)"
   ]
  },
  {
   "cell_type": "code",
   "execution_count": 1032,
   "id": "d4900dda-8ccc-442f-91d8-466720126aa5",
   "metadata": {},
   "outputs": [
    {
     "data": {
      "text/plain": [
       "[array([1, 2, 3, 4, 5, 6]), <function __main__.f(x)>]"
      ]
     },
     "execution_count": 1032,
     "metadata": {},
     "output_type": "execute_result"
    }
   ],
   "source": [
    "X"
   ]
  },
  {
   "cell_type": "code",
   "execution_count": 1045,
   "id": "5103a4f5-92b3-4f67-af98-d9bafe50b9fa",
   "metadata": {},
   "outputs": [],
   "source": [
    "# 일반화\n",
    "def E(X, g=lambda x:x):\n",
    "    x_set, f = X\n",
    "    return np.sum([g(x_k) * f(x_k) for x_k in x_set])"
   ]
  },
  {
   "cell_type": "code",
   "execution_count": 1046,
   "id": "2051a8d2-2cee-442c-8ab2-52ccdf266168",
   "metadata": {},
   "outputs": [
    {
     "data": {
      "text/plain": [
       "4.333"
      ]
     },
     "execution_count": 1046,
     "metadata": {},
     "output_type": "execute_result"
    }
   ],
   "source": [
    "E(X)"
   ]
  },
  {
   "cell_type": "code",
   "execution_count": 1047,
   "id": "29b45960-000f-473c-b201-cd403ecb001f",
   "metadata": {},
   "outputs": [
    {
     "data": {
      "text/plain": [
       "11.667"
      ]
     },
     "execution_count": 1047,
     "metadata": {},
     "output_type": "execute_result"
    }
   ],
   "source": [
    "E(X, g=lambda x:2*x+3)"
   ]
  },
  {
   "cell_type": "code",
   "execution_count": 1048,
   "id": "bd2da1a8-bc70-4fea-a73d-c68299a67e46",
   "metadata": {},
   "outputs": [
    {
     "data": {
      "text/plain": [
       "11.667"
      ]
     },
     "execution_count": 1048,
     "metadata": {},
     "output_type": "execute_result"
    }
   ],
   "source": [
    "# 기대값의 선형성\n",
    "2 * E(X)  + 3"
   ]
  },
  {
   "cell_type": "code",
   "execution_count": 1051,
   "id": "f3458d9e-0c11-426b-a774-d0a3df43559e",
   "metadata": {},
   "outputs": [
    {
     "data": {
      "text/plain": [
       "2.222"
      ]
     },
     "execution_count": 1051,
     "metadata": {},
     "output_type": "execute_result"
    }
   ],
   "source": [
    "# 분산\n",
    "mean = E(X)\n",
    "np.sum([(x_k - mean)**2*f(x_k) for x_k in x_set])"
   ]
  },
  {
   "cell_type": "code",
   "execution_count": 1052,
   "id": "4afcfbd9-8956-4197-a021-143852da92aa",
   "metadata": {},
   "outputs": [],
   "source": [
    "def V(X, g=lambda x:x):\n",
    "    x_set, f = X\n",
    "    mean = E(X,g)\n",
    "    return np.sum([(g(x_k)-mean)**2 * f(x_k) for x_k in x_set])"
   ]
  },
  {
   "cell_type": "code",
   "execution_count": 1053,
   "id": "9a3310cd-ee96-4365-9d8b-cf820cae19d9",
   "metadata": {},
   "outputs": [
    {
     "data": {
      "text/plain": [
       "2.222"
      ]
     },
     "execution_count": 1053,
     "metadata": {},
     "output_type": "execute_result"
    }
   ],
   "source": [
    "V(X)"
   ]
  },
  {
   "cell_type": "code",
   "execution_count": 1056,
   "id": "85c889c5-4d40-4343-9851-56ce7173eba6",
   "metadata": {},
   "outputs": [
    {
     "data": {
      "text/plain": [
       "8.889"
      ]
     },
     "execution_count": 1056,
     "metadata": {},
     "output_type": "execute_result"
    }
   ],
   "source": [
    "V(X,lambda x:2*x+3)"
   ]
  },
  {
   "cell_type": "code",
   "execution_count": 1058,
   "id": "83740669-84ef-4c64-b1c2-68d2523f4c28",
   "metadata": {},
   "outputs": [
    {
     "data": {
      "text/plain": [
       "8.889"
      ]
     },
     "execution_count": 1058,
     "metadata": {},
     "output_type": "execute_result"
    }
   ],
   "source": [
    "2**2*V(X)"
   ]
  },
  {
   "cell_type": "markdown",
   "id": "5692bdb8-9961-47f2-940a-2b1f274b9745",
   "metadata": {},
   "source": [
    "#### [과제] 0825_1 \n",
    "p114 ~ p142 예제를 모두 풀어보세요."
   ]
  },
  {
   "cell_type": "markdown",
   "id": "d911ff0c-2af9-4a73-a179-4139977fcb99",
   "metadata": {},
   "source": [
    "## 2차원 이산형 확률분포"
   ]
  },
  {
   "cell_type": "markdown",
   "id": "b8bab1f4-dae6-41f6-9bb8-116512128f88",
   "metadata": {},
   "source": [
    "### 2차원 이산형 확률분포의 정의"
   ]
  },
  {
   "cell_type": "code",
   "execution_count": 1060,
   "id": "a33ee34b-257a-4853-a301-871ee56c7733",
   "metadata": {
    "ExecuteTime": {
     "end_time": "2018-08-06T11:25:17.783029Z",
     "start_time": "2018-08-06T11:25:17.780291Z"
    }
   },
   "outputs": [],
   "source": [
    "x_set = np.arange(2, 13)\n",
    "y_set = np.arange(1, 7)"
   ]
  },
  {
   "cell_type": "code",
   "execution_count": 1061,
   "id": "8f1fd36c-25ad-4a41-b4c6-c33ae1c7bae2",
   "metadata": {
    "ExecuteTime": {
     "end_time": "2018-08-06T11:25:17.788516Z",
     "start_time": "2018-08-06T11:25:17.784611Z"
    }
   },
   "outputs": [],
   "source": [
    "def f_XY(x, y):\n",
    "    if 1 <= y <=6 and 1 <= x - y <= 6:\n",
    "        return y * (x-y) / 441\n",
    "    else:\n",
    "        return 0"
   ]
  },
  {
   "cell_type": "code",
   "execution_count": 1062,
   "id": "33c9ffda-d0ac-431f-a61f-83b2af670f29",
   "metadata": {
    "ExecuteTime": {
     "end_time": "2018-08-06T11:25:17.793487Z",
     "start_time": "2018-08-06T11:25:17.789901Z"
    }
   },
   "outputs": [],
   "source": [
    "XY = [x_set, y_set, f_XY]"
   ]
  },
  {
   "cell_type": "code",
   "execution_count": 1063,
   "id": "c76a8729-97a1-4b36-ad7f-8b56eacb8670",
   "metadata": {
    "ExecuteTime": {
     "end_time": "2018-08-06T11:25:17.932737Z",
     "start_time": "2018-08-06T11:25:17.794592Z"
    }
   },
   "outputs": [
    {
     "data": {
      "image/png": "[encoded data removed]",
      "text/plain": [
       "<Figure size 720x576 with 2 Axes>"
      ]
     },
     "metadata": {
      "needs_background": "light"
     },
     "output_type": "display_data"
    }
   ],
   "source": [
    "prob = np.array([[f_XY(x_i, y_j) for y_j in y_set]\n",
    "                 for x_i in x_set])\n",
    "\n",
    "fig = plt.figure(figsize=(10, 8))\n",
    "ax = fig.add_subplot(111)\n",
    "\n",
    "c = ax.pcolor(prob)\n",
    "ax.set_xticks(np.arange(prob.shape[1]) + 0.5, minor=False)\n",
    "ax.set_yticks(np.arange(prob.shape[0]) + 0.5, minor=False)\n",
    "ax.set_xticklabels(np.arange(1, 7), minor=False)\n",
    "ax.set_yticklabels(np.arange(2, 13), minor=False)\n",
    "# y축을 내림차순의 숫자가 되게 하여, 위 아래를 역전시킨다\n",
    "ax.invert_yaxis()\n",
    "# x축의 눈금을 그래프 위쪽에 표시\n",
    "ax.xaxis.tick_top()\n",
    "fig.colorbar(c, ax=ax)\n",
    "plt.show()"
   ]
  },
  {
   "cell_type": "code",
   "execution_count": 1064,
   "id": "22d96cda-36ee-4177-8359-30d191248d91",
   "metadata": {
    "ExecuteTime": {
     "end_time": "2018-08-06T11:25:17.937185Z",
     "start_time": "2018-08-06T11:25:17.934188Z"
    }
   },
   "outputs": [
    {
     "data": {
      "text/plain": [
       "True"
      ]
     },
     "execution_count": 1064,
     "metadata": {},
     "output_type": "execute_result"
    }
   ],
   "source": [
    "np.all(prob >= 0)"
   ]
  },
  {
   "cell_type": "code",
   "execution_count": 1065,
   "id": "87d06066-b2eb-463f-9a3f-5860442cdad2",
   "metadata": {
    "ExecuteTime": {
     "end_time": "2018-08-06T11:25:17.942400Z",
     "start_time": "2018-08-06T11:25:17.938424Z"
    }
   },
   "outputs": [
    {
     "data": {
      "text/plain": [
       "1.000"
      ]
     },
     "execution_count": 1065,
     "metadata": {},
     "output_type": "execute_result"
    }
   ],
   "source": [
    "np.sum(prob)"
   ]
  },
  {
   "cell_type": "code",
   "execution_count": 1066,
   "id": "b096522e-70a6-4adb-88c5-e5f0f93d1df1",
   "metadata": {
    "ExecuteTime": {
     "end_time": "2018-08-06T11:25:17.948437Z",
     "start_time": "2018-08-06T11:25:17.943951Z"
    }
   },
   "outputs": [],
   "source": [
    "def f_X(x):\n",
    "    return np.sum([f_XY(x, y_k) for y_k in y_set])"
   ]
  },
  {
   "cell_type": "code",
   "execution_count": 1067,
   "id": "edd5d88c-c10e-4a2a-9cfe-09239678133f",
   "metadata": {
    "ExecuteTime": {
     "end_time": "2018-08-06T11:25:17.953066Z",
     "start_time": "2018-08-06T11:25:17.949777Z"
    }
   },
   "outputs": [],
   "source": [
    "def f_Y(y):\n",
    "    return np.sum([f_XY(x_k, y) for x_k in x_set])"
   ]
  },
  {
   "cell_type": "code",
   "execution_count": 1068,
   "id": "7837565f-b10a-4d7f-af3a-834c812bc2e5",
   "metadata": {
    "ExecuteTime": {
     "end_time": "2018-08-06T11:25:17.957088Z",
     "start_time": "2018-08-06T11:25:17.954497Z"
    }
   },
   "outputs": [],
   "source": [
    "X = [x_set, f_X]\n",
    "Y = [y_set, f_Y]"
   ]
  },
  {
   "cell_type": "code",
   "execution_count": 1069,
   "id": "8d9162db-466d-4d30-a585-2b7373f2f13a",
   "metadata": {
    "ExecuteTime": {
     "end_time": "2018-08-06T11:25:18.155840Z",
     "start_time": "2018-08-06T11:25:17.958366Z"
    }
   },
   "outputs": [
    {
     "data": {
      "image/png": "[encoded data removed]",
      "text/plain": [
       "<Figure size 864x288 with 2 Axes>"
      ]
     },
     "metadata": {
      "needs_background": "light"
     },
     "output_type": "display_data"
    }
   ],
   "source": [
    "prob_x = np.array([f_X(x_k) for x_k in x_set])\n",
    "prob_y = np.array([f_Y(y_k) for y_k in y_set])\n",
    "\n",
    "fig = plt.figure(figsize=(12, 4))\n",
    "ax1 = fig.add_subplot(121)\n",
    "ax2 = fig.add_subplot(122)\n",
    "\n",
    "ax1.bar(x_set, prob_x)\n",
    "ax1.set_title('X_marginal probability distribution')\n",
    "ax1.set_xlabel('X_value')\n",
    "ax1.set_ylabel('probability')\n",
    "ax1.set_xticks(x_set)\n",
    "\n",
    "ax2.bar(y_set, prob_y)\n",
    "ax2.set_title('Y_marginal probability distribution')\n",
    "ax2.set_xlabel('Y_value')\n",
    "ax2.set_ylabel('probability')\n",
    "\n",
    "plt.show()"
   ]
  },
  {
   "cell_type": "markdown",
   "id": "8dabae57-90d2-4285-a83e-a06cacffcf7c",
   "metadata": {},
   "source": [
    "### 2차원 이산형 확률분포의 지표"
   ]
  },
  {
   "cell_type": "code",
   "execution_count": 1070,
   "id": "c92295d1-df1e-40f5-9456-ee150a053fe7",
   "metadata": {
    "ExecuteTime": {
     "end_time": "2018-08-06T11:25:18.160597Z",
     "start_time": "2018-08-06T11:25:18.157222Z"
    }
   },
   "outputs": [
    {
     "data": {
      "text/plain": [
       "8.667"
      ]
     },
     "execution_count": 1070,
     "metadata": {},
     "output_type": "execute_result"
    }
   ],
   "source": [
    "np.sum([x_i * f_XY(x_i, y_j) for x_i in x_set for y_j in y_set])"
   ]
  },
  {
   "cell_type": "code",
   "execution_count": 1071,
   "id": "5177d8f3-c28b-4911-94d1-581dbc5a7667",
   "metadata": {
    "ExecuteTime": {
     "end_time": "2018-08-06T11:25:18.165682Z",
     "start_time": "2018-08-06T11:25:18.161951Z"
    }
   },
   "outputs": [],
   "source": [
    "def E(XY, g):\n",
    "    x_set, y_set, f_XY = XY\n",
    "    return np.sum([g(x_i, y_j) * f_XY(x_i, y_j)\n",
    "                   for x_i in x_set for y_j in y_set])"
   ]
  },
  {
   "cell_type": "code",
   "execution_count": 1072,
   "id": "8f870207-d152-49ed-8ec0-12a962ecc9aa",
   "metadata": {
    "ExecuteTime": {
     "end_time": "2018-08-06T11:25:18.171317Z",
     "start_time": "2018-08-06T11:25:18.166922Z"
    }
   },
   "outputs": [
    {
     "data": {
      "text/plain": [
       "8.667"
      ]
     },
     "execution_count": 1072,
     "metadata": {},
     "output_type": "execute_result"
    }
   ],
   "source": [
    "mean_X = E(XY, lambda x, y: x)\n",
    "mean_X"
   ]
  },
  {
   "cell_type": "code",
   "execution_count": 1073,
   "id": "0a81d6cf-92f9-4fa0-ae33-d12658e64dd2",
   "metadata": {
    "ExecuteTime": {
     "end_time": "2018-08-06T11:25:18.176800Z",
     "start_time": "2018-08-06T11:25:18.172606Z"
    }
   },
   "outputs": [
    {
     "data": {
      "text/plain": [
       "4.333"
      ]
     },
     "execution_count": 1073,
     "metadata": {},
     "output_type": "execute_result"
    }
   ],
   "source": [
    "mean_Y = E(XY, lambda x, y: y)\n",
    "mean_Y"
   ]
  },
  {
   "cell_type": "code",
   "execution_count": 1074,
   "id": "9621e2e2-affe-4044-b010-bcc7eab930c1",
   "metadata": {
    "ExecuteTime": {
     "end_time": "2018-08-06T11:25:18.181411Z",
     "start_time": "2018-08-06T11:25:18.179270Z"
    }
   },
   "outputs": [],
   "source": [
    "a, b = 2, 3"
   ]
  },
  {
   "cell_type": "code",
   "execution_count": 1075,
   "id": "f1d21df4-0a54-4c9b-85f7-2c3c335fc7fe",
   "metadata": {
    "ExecuteTime": {
     "end_time": "2018-08-06T11:25:18.188112Z",
     "start_time": "2018-08-06T11:25:18.182684Z"
    }
   },
   "outputs": [
    {
     "data": {
      "text/plain": [
       "30.333"
      ]
     },
     "execution_count": 1075,
     "metadata": {},
     "output_type": "execute_result"
    }
   ],
   "source": [
    "E(XY, lambda x, y: a*x + b*y)"
   ]
  },
  {
   "cell_type": "code",
   "execution_count": 1076,
   "id": "01e61ded-8691-4cba-b0b1-2179f9c501c7",
   "metadata": {
    "ExecuteTime": {
     "end_time": "2018-08-06T11:25:18.192651Z",
     "start_time": "2018-08-06T11:25:18.189335Z"
    }
   },
   "outputs": [
    {
     "data": {
      "text/plain": [
       "30.333"
      ]
     },
     "execution_count": 1076,
     "metadata": {},
     "output_type": "execute_result"
    }
   ],
   "source": [
    "a * mean_X + b * mean_Y"
   ]
  },
  {
   "cell_type": "code",
   "execution_count": 1077,
   "id": "80775479-61aa-4752-ae19-0ccae016e62d",
   "metadata": {
    "ExecuteTime": {
     "end_time": "2018-08-06T11:25:18.198072Z",
     "start_time": "2018-08-06T11:25:18.193879Z"
    }
   },
   "outputs": [
    {
     "data": {
      "text/plain": [
       "4.444"
      ]
     },
     "execution_count": 1077,
     "metadata": {},
     "output_type": "execute_result"
    }
   ],
   "source": [
    "np.sum([(x_i-mean_X)**2 * f_XY(x_i, y_j)\n",
    "       for x_i in x_set for y_j in y_set])"
   ]
  },
  {
   "cell_type": "code",
   "execution_count": 1078,
   "id": "905dd79c-c9f6-4edc-be93-f3d008214c6d",
   "metadata": {
    "ExecuteTime": {
     "end_time": "2018-08-06T11:25:18.202487Z",
     "start_time": "2018-08-06T11:25:18.199151Z"
    }
   },
   "outputs": [],
   "source": [
    "def V(XY, g):\n",
    "    x_set, y_set, f_XY = XY\n",
    "    mean = E(XY, g)\n",
    "    return np.sum([(g(x_i, y_j)-mean)**2 * f_XY(x_i, y_j)\n",
    "                   for x_i in x_set for y_j in y_set])"
   ]
  },
  {
   "cell_type": "code",
   "execution_count": 1079,
   "id": "fddc53f0-a787-4697-b576-6606b1c545f5",
   "metadata": {
    "ExecuteTime": {
     "end_time": "2018-08-06T11:25:18.208121Z",
     "start_time": "2018-08-06T11:25:18.203578Z"
    }
   },
   "outputs": [
    {
     "data": {
      "text/plain": [
       "4.444"
      ]
     },
     "execution_count": 1079,
     "metadata": {},
     "output_type": "execute_result"
    }
   ],
   "source": [
    "var_X = V(XY, g=lambda x, y: x)\n",
    "var_X"
   ]
  },
  {
   "cell_type": "code",
   "execution_count": 1080,
   "id": "38b7bef6-9285-4ebf-b3c7-bb5a01385772",
   "metadata": {
    "ExecuteTime": {
     "end_time": "2018-08-06T11:25:18.214829Z",
     "start_time": "2018-08-06T11:25:18.209153Z"
    }
   },
   "outputs": [
    {
     "data": {
      "text/plain": [
       "2.222"
      ]
     },
     "execution_count": 1080,
     "metadata": {},
     "output_type": "execute_result"
    }
   ],
   "source": [
    "var_Y = V(XY, g=lambda x, y: y)\n",
    "var_Y"
   ]
  },
  {
   "cell_type": "code",
   "execution_count": 1081,
   "id": "2d022d82-80cd-46af-bdc3-20cc0a162a85",
   "metadata": {
    "ExecuteTime": {
     "end_time": "2018-08-06T11:25:18.220141Z",
     "start_time": "2018-08-06T11:25:18.215853Z"
    }
   },
   "outputs": [],
   "source": [
    "def Cov(XY):\n",
    "    x_set, y_set, f_XY = XY\n",
    "    mean_X = E(XY, lambda x, y: x)\n",
    "    mean_Y = E(XY, lambda x, y: y)\n",
    "    return np.sum([(x_i-mean_X) * (y_j-mean_Y) * f_XY(x_i, y_j)\n",
    "                    for x_i in x_set for y_j in y_set])"
   ]
  },
  {
   "cell_type": "code",
   "execution_count": 1082,
   "id": "e4779b61-9d07-4d2d-8802-2cb52a4d3fb8",
   "metadata": {
    "ExecuteTime": {
     "end_time": "2018-08-06T11:25:18.226352Z",
     "start_time": "2018-08-06T11:25:18.221226Z"
    }
   },
   "outputs": [
    {
     "data": {
      "text/plain": [
       "2.222"
      ]
     },
     "execution_count": 1082,
     "metadata": {},
     "output_type": "execute_result"
    }
   ],
   "source": [
    "cov_xy = Cov(XY)\n",
    "cov_xy"
   ]
  },
  {
   "cell_type": "code",
   "execution_count": 1083,
   "id": "3a9a1b84-102a-4fe0-8853-6ef253889028",
   "metadata": {
    "ExecuteTime": {
     "end_time": "2018-08-06T11:25:18.232830Z",
     "start_time": "2018-08-06T11:25:18.227964Z"
    }
   },
   "outputs": [
    {
     "data": {
      "text/plain": [
       "64.444"
      ]
     },
     "execution_count": 1083,
     "metadata": {},
     "output_type": "execute_result"
    }
   ],
   "source": [
    "V(XY, lambda x, y: a*x + b*y)"
   ]
  },
  {
   "cell_type": "code",
   "execution_count": 1084,
   "id": "b9c6ed59-fb3c-45c8-a42a-ccc343ba2114",
   "metadata": {
    "ExecuteTime": {
     "end_time": "2018-08-06T11:25:18.238309Z",
     "start_time": "2018-08-06T11:25:18.234241Z"
    }
   },
   "outputs": [
    {
     "data": {
      "text/plain": [
       "64.444"
      ]
     },
     "execution_count": 1084,
     "metadata": {},
     "output_type": "execute_result"
    }
   ],
   "source": [
    "a**2 * var_X + b**2 * var_Y + 2*a*b * cov_xy"
   ]
  },
  {
   "cell_type": "code",
   "execution_count": 1085,
   "id": "f5d0b4da-2b40-4c48-b814-2258c4e5cbf6",
   "metadata": {
    "ExecuteTime": {
     "end_time": "2018-08-06T11:25:18.243046Z",
     "start_time": "2018-08-06T11:25:18.239669Z"
    }
   },
   "outputs": [
    {
     "data": {
      "text/plain": [
       "0.707"
      ]
     },
     "execution_count": 1085,
     "metadata": {},
     "output_type": "execute_result"
    }
   ],
   "source": [
    "cov_xy / np.sqrt(var_X * var_Y)"
   ]
  },
  {
   "cell_type": "markdown",
   "id": "773cd4b1-fafe-4222-b49b-aa391f770973",
   "metadata": {},
   "source": [
    "#### [과제]0825_2\n",
    "1차원 이산형 확률변수의 변환 사례를 생성하여 기댓값의 선형성과 분산의 공식을 입증하세요."
   ]
  },
  {
   "cell_type": "markdown",
   "id": "4f528880-5485-4409-8ee3-ff7cce9b93d7",
   "metadata": {},
   "source": [
    "#### [과제]0825_3\n",
    "2차원 이산형 확률변수의 변환 사례를 생성하여 기댓값의 선형성과 분산과 공분산의 공식을 입증하세요."
   ]
  },
  {
   "cell_type": "code",
   "execution_count": null,
   "id": "1d68cb2a-526b-4af0-a8d9-6a4c6e67a020",
   "metadata": {},
   "outputs": [],
   "source": []
  }
 ],
 "metadata": {
  "kernelspec": {
   "display_name": "Python 3 (ipykernel)",
   "language": "python",
   "name": "python3"
  },
  "language_info": {
   "codemirror_mode": {
    "name": "ipython",
    "version": 3
   },
   "file_extension": ".py",
   "mimetype": "text/x-python",
   "name": "python",
   "nbconvert_exporter": "python",
   "pygments_lexer": "ipython3",
   "version": "3.8.13"
  },
  "toc": {
   "base_numbering": 1,
   "nav_menu": {},
   "number_sections": true,
   "sideBar": true,
   "skip_h1_title": false,
   "title_cell": "Table of Contents",
   "title_sidebar": "Contents",
   "toc_cell": false,
   "toc_position": {},
   "toc_section_display": true,
   "toc_window_display": false
  },
  "toc-autonumbering": false
 },
 "nbformat": 4,
 "nbformat_minor": 5
}
