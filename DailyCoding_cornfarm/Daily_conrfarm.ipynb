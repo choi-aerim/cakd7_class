{
 "cells": [
  {
   "cell_type": "markdown",
   "id": "d0ee88f2",
   "metadata": {},
   "source": [
    "<b>2022/09/10</b>\n",
    "\n",
    "##  <b>2841 : Minimum Sum (Tiny)</b>\n",
    "\n",
    "Q1.\n",
    "n*n개의 수가 주어진다. (1<=n<=10)\n",
    "이때 <b>겹치지 않는 각 열과 각 행에서 수를 하나씩 뽑는다</b>. (즉, 총 n개의 수를 뽑을 것이다, 그리고 각 수는 100이하의 값이다.)\n",
    "이 n개의 수의 합이 최소가 되게하여라.\n",
    "\n",
    "- 입력: 첫 줄에 n이 입력된다. 다음 줄 부터 n+1줄 까지 n개씩의 정수가 입력된다.\n",
    "- 출력: 구한 최소 합을 출력한다\n",
    "\n",
    "예시)\n",
    "```\n",
    "입력:\n",
    "3\n",
    "1 2 5\n",
    "2 4 3\n",
    "5 4 3\n",
    "\n",
    "출력:\n",
    "7\n",
    "```\n"
   ]
  },
  {
   "cell_type": "markdown",
   "id": "10d2c638",
   "metadata": {},
   "source": [
    "애림정리)\n",
    "\n",
    "입력-> 행열 수, 배열요소\n",
    "\n",
    "로직->\n",
    "(행, 열) 모든 조합 만들기 \n",
    "[(1,1),(2,2),(3,3)], [(1,1),(2,3),(3,2)], \n",
    "[(1,2),(2,1),(3,3)], [(1,2),(2,3),(3,1)], \n",
    "[(1,3),(2,1),(3,2)], [(1,3),(2,2),(3,1)]\n",
    "\n",
    "열 = np.aragne(n) -> 모든 조합 만들어주기위해 열.remove 활용"
   ]
  },
  {
   "cell_type": "code",
   "execution_count": 28,
   "id": "396238ae",
   "metadata": {},
   "outputs": [
    {
     "name": "stdout",
     "output_type": "stream",
     "text": [
      ">> 행, 열의 수를 입력(1이상 10이하의 수)\n",
      "3\n",
      ">> 행, 열 요소를 입력(100 이하의 수)\n",
      "1 2 5 2 4 3 5 4 3\n"
     ]
    }
   ],
   "source": [
    "from itertools import combinations\n",
    "from itertools import product\n",
    "import numpy as np\n",
    "\n",
    "n = int(input('>> 행, 열의 수를 입력(1이상 10이하의 수)\\n'))\n",
    "arr = np.array(list(map(int, input('>> 행, 열 요소를 입력(100 이하의 수)\\n').split()))).reshape(n,-1)\n",
    "\n",
    "#1 2 5 2 4 3 5 4 3"
   ]
  },
  {
   "cell_type": "code",
   "execution_count": 47,
   "id": "5c6301ca",
   "metadata": {},
   "outputs": [
    {
     "name": "stdout",
     "output_type": "stream",
     "text": [
      "[0 0]\n",
      "[0 1]\n",
      "[0 2]\n",
      "[1 0]\n",
      "[1 1]\n",
      "[1 2]\n",
      "[2 0]\n",
      "[2 1]\n",
      "[2 2]\n"
     ]
    }
   ],
   "source": [
    "comb = np.array(list(product(list(range(n)), repeat = 2))).reshape(n,n,2)\n",
    "for c in comb:\n",
    "    for rc in c:\n",
    "        r = rc[0]\n",
    "        c = rc[1]"
   ]
  },
  {
   "cell_type": "code",
   "execution_count": 44,
   "id": "53e7f463",
   "metadata": {},
   "outputs": [
    {
     "data": {
      "text/plain": [
       "array([[[1, 1],\n",
       "        [1, 2],\n",
       "        [1, 3]],\n",
       "\n",
       "       [[2, 1],\n",
       "        [2, 2],\n",
       "        [2, 3]],\n",
       "\n",
       "       [[3, 1],\n",
       "        [3, 2],\n",
       "        [3, 3]]])"
      ]
     },
     "execution_count": 44,
     "metadata": {},
     "output_type": "execute_result"
    }
   ],
   "source": [
    "np.array(list(product([1,2,3], repeat = 2))).reshape(3,3,2)"
   ]
  },
  {
   "cell_type": "markdown",
   "id": "b7c655a4",
   "metadata": {},
   "source": [
    "<b>2022/09/11</b>\n",
    "\n",
    "## <b>2832 : [상태 정의를 통한 탐색] 계단 오르기 1-1</b>\n",
    "\n",
    "Q2.\n",
    "OO이가 계단을 올라가려고 한다.\n",
    "\n",
    "계단은 모두 n칸으로 구성되어 있다.\n",
    "\n",
    "OO이는 한 번에 1칸, 2칸을 오를 수 있다.\n",
    "\n",
    "OO이가 k번의 이동 이하를 이동하여 0번째 칸에서 출발하여 n번째 칸으로 올라가는 서로 다른 방법의 수를 구하는 프로그램을 작성하시오.\n",
    "\n",
    "만약 n = 3, k = 3 이면\n",
    "\n",
    "- 1 2 : 0번째, 1번째, 3번째 계단을 이용하여 목표에 도달\n",
    "- 2 1 : 0번째, 2번째, 3번째 계단을 이용하여 목표에 도달\n",
    "\n",
    "로 모두 2가지 경우가 있다."
   ]
  },
  {
   "cell_type": "markdown",
   "id": "0dc3f5fd",
   "metadata": {},
   "source": [
    "<b><애림 note></b>\n",
    "1. 모든 중복가능한 조합을 구하기\n",
    "2. 합이 k가 되는 경우의 수만 출력\n",
    "3. 총 경우의수 출력"
   ]
  },
  {
   "cell_type": "code",
   "execution_count": 86,
   "id": "44086117",
   "metadata": {},
   "outputs": [
    {
     "name": "stdout",
     "output_type": "stream",
     "text": [
      ">> 도착지점 칸을 입력하세요.\n",
      "3\n",
      ">> 이동 횟수를 입력하세요.\n",
      "3\n",
      "[1, 2]\n",
      "[2, 1]\n"
     ]
    },
    {
     "data": {
      "text/plain": [
       "'0번째 칸에서 3번째 칸까지 이동할 수 있는 경우의 수는 총 2가지입니다.'"
      ]
     },
     "execution_count": 86,
     "metadata": {},
     "output_type": "execute_result"
    }
   ],
   "source": [
    "from itertools import product\n",
    "\n",
    "n = int(input('>> 도착지점 칸을 입력하세요.\\n'))\n",
    "k = int(input('>> 이동 횟수를 입력하세요.\\n'))\n",
    "\n",
    "\n",
    "def move_stairs(n,k):\n",
    "    d1, d2 = 1, 2\n",
    "    move = []\n",
    "    for i in range(1, k):\n",
    "        for p in list(product([d1, d2], repeat = i)):\n",
    "            move.append(list(p))\n",
    "\n",
    "    cnt = 0\n",
    "    for m in move:\n",
    "        if sum(m) == n:\n",
    "            cnt += 1\n",
    "            print(m)\n",
    "    \n",
    "    return f'0번째 칸에서 {n}번째 칸까지 이동할 수 있는 경우의 수는 총 {cnt}가지입니다.'\n",
    "\n",
    "\n",
    "move_stairs(n, k)"
   ]
  },
  {
   "cell_type": "markdown",
   "id": "28799f73",
   "metadata": {},
   "source": [
    "<b>2022/09/11</b>\n",
    "\n",
    "## <b>2826 : 자연수 분할 (S)</b>\n",
    "\n",
    "Q3.\n",
    "자연수 n을 입력받아서 n이하의 자연수 합으로 분할할 수 있는 서로 다른 경우의 수를 구하는 프로그램을 작성하시오.\n",
    "\n",
    "n이 5인 경우의 서로 다른 분할 방법은 다음과 같다.\n",
    "```\n",
    "5\n",
    "4 1\n",
    "3 2\n",
    "3 1 1\n",
    "2 2 1\n",
    "2 1 1 1\n",
    "1 1 1 1 1\n",
    "```\n",
    "따라서 모두 7가지이다.\n",
    "\n",
    "<b>input></b>\n",
    "첫 번째 줄에 자연수 n이 주어진다.\n",
    "\n",
    "[입력값의 정의역]\n",
    "\n",
    "1 <= n <= 20\n",
    "\n",
    "<b>output></b>\n",
    "n의 자연수 분할 방법의 개수를 출력한다."
   ]
  },
  {
   "cell_type": "code",
   "execution_count": 110,
   "id": "1c218cc7",
   "metadata": {},
   "outputs": [
    {
     "data": {
      "text/plain": [
       "(7, [[5], [1, 4], [2, 3], [1, 1, 3], [1, 2, 2], [1, 1, 1, 2], [1, 1, 1, 1, 1]])"
      ]
     },
     "execution_count": 110,
     "metadata": {},
     "output_type": "execute_result"
    }
   ],
   "source": [
    "from itertools import product\n",
    "\n",
    "def n_cases(n):\n",
    "    cases = []\n",
    "    cnt = 0\n",
    "    for i in range(1, n+1):\n",
    "        prod = list(product(list(range(1,n+1)), repeat = i))    \n",
    "        \n",
    "        for p in prod:\n",
    "            s = sorted(list(p))\n",
    "            if sum(s) == n and s not in cases:\n",
    "                cases.append(s)\n",
    "                cnt += 1\n",
    "                \n",
    "    return cnt, cases\n",
    "\n",
    "n_cases(5)"
   ]
  },
  {
   "cell_type": "markdown",
   "id": "56182cd8",
   "metadata": {},
   "source": [
    "<b>2022/09/12</b>\n",
    "\n",
    "## <b>2834 : [상태 정의를 통한 탐색] 계단 오르기 3-1</b>\n",
    "\n",
    "OO이와 XX가 계단을 올라가려고 한다.\n",
    "\n",
    "계단은 모두 n칸으로 구성되어 있다.\n",
    "\n",
    "OO이와 XX는 한 번에 1칸, 2칸을 오를 수 있다.\n",
    "\n",
    "OO이와 xx가 각각 k개 이하의 칸을 이용하면서 0번째 칸에서 출발하여 동시에 n번째 칸으로 올라가는 서로 다른 방법의 수를 구하는 프로그램을 작성하시오.\n",
    "\n",
    "만약 n = 3, k = 3이면\n",
    "\n",
    "- (1, 1), (3, 3) : OO이와 XX는 0번째, 1번째, 3번째 계단을 이용하여 목표에 도달\n",
    "- (1, 2), (3, 3) : OO이는 0번째, 1번째, 3번째 계단을 이용하여 목표에 도달, XX는 0번째, 2번째, 3번째 계단을 이용하여 목표에 도달\n",
    "- (2, 1), (3, 3) : OO이는 0번째, 2번째, 3번째 계단을 이용하여 목표에 도달, XX는 0번째, 1번째, 3번째 계단을 이용하여 목표에 도달\n",
    "- (2, 2), (3, 3) : OO이와 XX는 0번째, 2번째, 3번째 계단을 이용하여 목표에 도달\n",
    "\n",
    "로 모두 4가지 경우가 있다.\n",
    "\n",
    "<b>input></b>\n",
    "첫 번째 줄에 n과 k가 공백을 기준으로 입력된다.\n",
    "\n",
    "[입력값의 정의역]\n",
    "[1 ≤ n ≤ 30]\n",
    "[1 ≤ k ≤ 15]\n",
    "\n",
    "\n",
    "<b>output></b>\n",
    "\n",
    "계단을 올라가는 서로 다른 경로의 수를 출력한다."
   ]
  },
  {
   "cell_type": "code",
   "execution_count": null,
   "id": "e4a5e134",
   "metadata": {},
   "outputs": [],
   "source": [
    "from itertools import product\n",
    "\n",
    "n, k = list(map(int, input(\">> 올라가야하는 계단 수, 최대 이동 횟수를 입력하세요.\\n\")))\n",
    "\n",
    "list(product([1,2], repeat = k-1))"
   ]
  },
  {
   "cell_type": "code",
   "execution_count": 8,
   "id": "c8217af4",
   "metadata": {},
   "outputs": [
    {
     "data": {
      "text/plain": [
       "[array([1, 2, 3, 5]),\n",
       " array([1, 2, 4, 5]),\n",
       " array([1, 3, 4, 5]),\n",
       " array([2, 3, 4, 5])]"
      ]
     },
     "execution_count": 8,
     "metadata": {},
     "output_type": "execute_result"
    }
   ],
   "source": [
    "from itertools import product\n",
    "import numpy as np\n",
    "\n",
    "prod = list(product([1,2], repeat = 5-1))\n",
    "prod_n = []\n",
    "\n",
    "for p in prod:\n",
    "    p = np.array(p).cumsum()\n",
    "    if p[3] == 5:\n",
    "        prod_n.append(p)\n",
    "\n"
   ]
  },
  {
   "cell_type": "markdown",
   "id": "bbd13a79",
   "metadata": {},
   "source": [
    "<b>2022/09/18</b>\n",
    "\n",
    "## 10글자씩 끊어서 출력하기\n",
    "알파벳 소문자와 대문자로만 이루어진 길이가 N인 단어가 주어진다.\n",
    "\n",
    "한 줄에 10글자씩 끊어서 출력하는 프로그램을 작성하시오.\n",
    "\n",
    "<b>입력</b>\n",
    "\n",
    "첫째 줄에 단어가 주어진다. 단어는 알파벳 소문자와 대문자로만 이루어져 있으며, 길이는 100을 넘지 않는다. 길이가 0인 단어는 주어지지 않는다.\n",
    "\n",
    "\n",
    "<b>출력</b>\n",
    "\n",
    "입력으로 주어진 단어를 열 개씩 끊어서 한 줄에 하나씩 출력한다. 단어의 길이가 10의 배수가 아닌 경우에는 마지막 줄에는 10개 미만의 글자만 출력할 수도 있다."
   ]
  },
  {
   "cell_type": "code",
   "execution_count": null,
   "id": "68bee376",
   "metadata": {},
   "outputs": [],
   "source": [
    "word = input(\">> 단어를 입력해주세요.\")\n",
    "\n",
    "n = len(word)\n",
    "for i in range(n // 10 + 1):\n",
    "    print(word[i*10:(i+1)*10])"
   ]
  },
  {
   "cell_type": "markdown",
   "id": "a005aa7d",
   "metadata": {},
   "source": [
    "<b>2022/09/29</b>\n",
    "\n",
    "## 2321 : 자녀의 혈액형0\n",
    "\n",
    "ABO 혈액형 분류식을 기준으로, 부모의 혈액형 인자 정보를 알고 있을 때 나올 수 있는 자녀의 혈액형을 판단하는 기준은 다음과 같다.<br>\n",
    "<img src = \"https://www.codeup.kr/upload/pimg6119_1.png\" style = \"width: 500px\"><br>\n",
    "부모의 혈액형 인자가 AB와 OO일 때, 나올 수 있는 자녀의 혈액형을 출력해보자.<br>\n",
    "*본 문제는 주어진 문제에 대한 답을 출력하는 문제로서 출력 예시가 없다. 문제에 대한 답을 출력하면 된다."
   ]
  },
  {
   "cell_type": "code",
   "execution_count": null,
   "id": "dbd115e3",
   "metadata": {},
   "outputs": [],
   "source": []
  },
  {
   "cell_type": "code",
   "execution_count": null,
   "id": "3850bdff",
   "metadata": {},
   "outputs": [],
   "source": []
  },
  {
   "cell_type": "code",
   "execution_count": null,
   "id": "1502979d",
   "metadata": {},
   "outputs": [],
   "source": []
  }
 ],
 "metadata": {
  "kernelspec": {
   "display_name": "Python 3 (ipykernel)",
   "language": "python",
   "name": "python3"
  },
  "language_info": {
   "codemirror_mode": {
    "name": "ipython",
    "version": 3
   },
   "file_extension": ".py",
   "mimetype": "text/x-python",
   "name": "python",
   "nbconvert_exporter": "python",
   "pygments_lexer": "ipython3",
   "version": "3.8.13"
  },
  "toc": {
   "base_numbering": 1,
   "nav_menu": {},
   "number_sections": true,
   "sideBar": true,
   "skip_h1_title": false,
   "title_cell": "Table of Contents",
   "title_sidebar": "Contents",
   "toc_cell": false,
   "toc_position": {},
   "toc_section_display": true,
   "toc_window_display": false
  }
 },
 "nbformat": 4,
 "nbformat_minor": 5
}
