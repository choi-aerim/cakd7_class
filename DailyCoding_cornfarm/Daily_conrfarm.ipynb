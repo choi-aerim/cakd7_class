{
 "cells": [
  {
   "cell_type": "markdown",
   "id": "d0ee88f2",
   "metadata": {},
   "source": [
    "<b>2022/09/10</b>\n",
    "\n",
    "##  <b>2841 : Minimum Sum (Tiny)</b>\n",
    "\n",
    "Q1.\n",
    "n*n개의 수가 주어진다. (1<=n<=10)\n",
    "이때 <b>겹치지 않는 각 열과 각 행에서 수를 하나씩 뽑는다</b>. (즉, 총 n개의 수를 뽑을 것이다, 그리고 각 수는 100이하의 값이다.)\n",
    "이 n개의 수의 합이 최소가 되게하여라.\n",
    "\n",
    "- 입력: 첫 줄에 n이 입력된다. 다음 줄 부터 n+1줄 까지 n개씩의 정수가 입력된다.\n",
    "- 출력: 구한 최소 합을 출력한다\n",
    "\n",
    "예시)\n",
    "```\n",
    "입력:\n",
    "3\n",
    "1 2 5\n",
    "2 4 3\n",
    "5 4 3\n",
    "\n",
    "출력:\n",
    "7\n",
    "```\n"
   ]
  },
  {
   "cell_type": "markdown",
   "id": "10d2c638",
   "metadata": {},
   "source": [
    "애림정리)\n",
    "\n",
    "입력-> 행열 수, 배열요소\n",
    "\n",
    "로직->\n",
    "(행, 열) 모든 조합 만들기 \n",
    "[(1,1),(2,2),(3,3)], [(1,1),(2,3),(3,2)], \n",
    "[(1,2),(2,1),(3,3)], [(1,2),(2,3),(3,1)], \n",
    "[(1,3),(2,1),(3,2)], [(1,3),(2,2),(3,1)]\n",
    "\n",
    "열 = np.aragne(n) -> 모든 조합 만들어주기위해 열.remove 활용"
   ]
  },
  {
   "cell_type": "code",
   "execution_count": 28,
   "id": "396238ae",
   "metadata": {},
   "outputs": [
    {
     "name": "stdout",
     "output_type": "stream",
     "text": [
      ">> 행, 열의 수를 입력(1이상 10이하의 수)\n",
      "3\n",
      ">> 행, 열 요소를 입력(100 이하의 수)\n",
      "1 2 5 2 4 3 5 4 3\n"
     ]
    }
   ],
   "source": [
    "from itertools import combinations\n",
    "from itertools import product\n",
    "import numpy as np\n",
    "\n",
    "n = int(input('>> 행, 열의 수를 입력(1이상 10이하의 수)\\n'))\n",
    "arr = np.array(list(map(int, input('>> 행, 열 요소를 입력(100 이하의 수)\\n').split()))).reshape(n,-1)\n",
    "\n",
    "#1 2 5 2 4 3 5 4 3"
   ]
  },
  {
   "cell_type": "code",
   "execution_count": 47,
   "id": "5c6301ca",
   "metadata": {},
   "outputs": [
    {
     "name": "stdout",
     "output_type": "stream",
     "text": [
      "[0 0]\n",
      "[0 1]\n",
      "[0 2]\n",
      "[1 0]\n",
      "[1 1]\n",
      "[1 2]\n",
      "[2 0]\n",
      "[2 1]\n",
      "[2 2]\n"
     ]
    }
   ],
   "source": [
    "comb = np.array(list(product(list(range(n)), repeat = 2))).reshape(n,n,2)\n",
    "for c in comb:\n",
    "    for rc in c:\n",
    "        r = rc[0]\n",
    "        c = rc[1]"
   ]
  },
  {
   "cell_type": "code",
   "execution_count": 44,
   "id": "53e7f463",
   "metadata": {},
   "outputs": [
    {
     "data": {
      "text/plain": [
       "array([[[1, 1],\n",
       "        [1, 2],\n",
       "        [1, 3]],\n",
       "\n",
       "       [[2, 1],\n",
       "        [2, 2],\n",
       "        [2, 3]],\n",
       "\n",
       "       [[3, 1],\n",
       "        [3, 2],\n",
       "        [3, 3]]])"
      ]
     },
     "execution_count": 44,
     "metadata": {},
     "output_type": "execute_result"
    }
   ],
   "source": [
    "np.array(list(product([1,2,3], repeat = 2))).reshape(3,3,2)"
   ]
  },
  {
   "cell_type": "markdown",
   "id": "b7c655a4",
   "metadata": {},
   "source": [
    "<b>2022/09/11</b>\n",
    "\n",
    "## <b>2832 : [상태 정의를 통한 탐색] 계단 오르기 1-1</b>\n",
    "\n",
    "Q2.\n",
    "OO이가 계단을 올라가려고 한다.\n",
    "\n",
    "계단은 모두 n칸으로 구성되어 있다.\n",
    "\n",
    "OO이는 한 번에 1칸, 2칸을 오를 수 있다.\n",
    "\n",
    "OO이가 k번의 이동 이하를 이동하여 0번째 칸에서 출발하여 n번째 칸으로 올라가는 서로 다른 방법의 수를 구하는 프로그램을 작성하시오.\n",
    "\n",
    "만약 n = 3, k = 3 이면\n",
    "\n",
    "- 1 2 : 0번째, 1번째, 3번째 계단을 이용하여 목표에 도달\n",
    "- 2 1 : 0번째, 2번째, 3번째 계단을 이용하여 목표에 도달\n",
    "\n",
    "로 모두 2가지 경우가 있다."
   ]
  },
  {
   "cell_type": "markdown",
   "id": "0dc3f5fd",
   "metadata": {},
   "source": [
    "<b><애림 note></b>\n",
    "1. 모든 중복가능한 조합을 구하기\n",
    "2. 합이 k가 되는 경우의 수만 출력\n",
    "3. 총 경우의수 출력"
   ]
  },
  {
   "cell_type": "code",
   "execution_count": 86,
   "id": "44086117",
   "metadata": {},
   "outputs": [
    {
     "name": "stdout",
     "output_type": "stream",
     "text": [
      ">> 도착지점 칸을 입력하세요.\n",
      "3\n",
      ">> 이동 횟수를 입력하세요.\n",
      "3\n",
      "[1, 2]\n",
      "[2, 1]\n"
     ]
    },
    {
     "data": {
      "text/plain": [
       "'0번째 칸에서 3번째 칸까지 이동할 수 있는 경우의 수는 총 2가지입니다.'"
      ]
     },
     "execution_count": 86,
     "metadata": {},
     "output_type": "execute_result"
    }
   ],
   "source": [
    "from itertools import product\n",
    "\n",
    "n = int(input('>> 도착지점 칸을 입력하세요.\\n'))\n",
    "k = int(input('>> 이동 횟수를 입력하세요.\\n'))\n",
    "\n",
    "\n",
    "def move_stairs(n,k):\n",
    "    d1, d2 = 1, 2\n",
    "    move = []\n",
    "    for i in range(1, k):\n",
    "        for p in list(product([d1, d2], repeat = i)):\n",
    "            move.append(list(p))\n",
    "\n",
    "    cnt = 0\n",
    "    for m in move:\n",
    "        if sum(m) == n:\n",
    "            cnt += 1\n",
    "            print(m)\n",
    "    \n",
    "    return f'0번째 칸에서 {n}번째 칸까지 이동할 수 있는 경우의 수는 총 {cnt}가지입니다.'\n",
    "\n",
    "\n",
    "move_stairs(n, k)"
   ]
  },
  {
   "cell_type": "markdown",
   "id": "28799f73",
   "metadata": {},
   "source": [
    "<b>2022/09/11</b>\n",
    "\n",
    "## <b>2826 : 자연수 분할 (S)</b>\n",
    "\n",
    "Q3.\n",
    "자연수 n을 입력받아서 n이하의 자연수 합으로 분할할 수 있는 서로 다른 경우의 수를 구하는 프로그램을 작성하시오.\n",
    "\n",
    "n이 5인 경우의 서로 다른 분할 방법은 다음과 같다.\n",
    "```\n",
    "5\n",
    "4 1\n",
    "3 2\n",
    "3 1 1\n",
    "2 2 1\n",
    "2 1 1 1\n",
    "1 1 1 1 1\n",
    "```\n",
    "따라서 모두 7가지이다.\n",
    "\n",
    "<b>input></b>\n",
    "첫 번째 줄에 자연수 n이 주어진다.\n",
    "\n",
    "[입력값의 정의역]\n",
    "\n",
    "1 <= n <= 20\n",
    "\n",
    "<b>output></b>\n",
    "n의 자연수 분할 방법의 개수를 출력한다."
   ]
  },
  {
   "cell_type": "code",
   "execution_count": 110,
   "id": "1c218cc7",
   "metadata": {},
   "outputs": [
    {
     "data": {
      "text/plain": [
       "(7, [[5], [1, 4], [2, 3], [1, 1, 3], [1, 2, 2], [1, 1, 1, 2], [1, 1, 1, 1, 1]])"
      ]
     },
     "execution_count": 110,
     "metadata": {},
     "output_type": "execute_result"
    }
   ],
   "source": [
    "from itertools import product\n",
    "\n",
    "def n_cases(n):\n",
    "    cases = []\n",
    "    cnt = 0\n",
    "    for i in range(1, n+1):\n",
    "        prod = list(product(list(range(1,n+1)), repeat = i))    \n",
    "        \n",
    "        for p in prod:\n",
    "            s = sorted(list(p))\n",
    "            if sum(s) == n and s not in cases:\n",
    "                cases.append(s)\n",
    "                cnt += 1\n",
    "                \n",
    "    return cnt, cases\n",
    "\n",
    "n_cases(5)"
   ]
  },
  {
   "cell_type": "markdown",
   "id": "56182cd8",
   "metadata": {},
   "source": [
    "<b>2022/09/12</b>\n",
    "\n",
    "## <b>2834 : [상태 정의를 통한 탐색] 계단 오르기 3-1</b>\n",
    "\n",
    "OO이와 XX가 계단을 올라가려고 한다.\n",
    "\n",
    "계단은 모두 n칸으로 구성되어 있다.\n",
    "\n",
    "OO이와 XX는 한 번에 1칸, 2칸을 오를 수 있다.\n",
    "\n",
    "OO이와 xx가 각각 k개 이하의 칸을 이용하면서 0번째 칸에서 출발하여 동시에 n번째 칸으로 올라가는 서로 다른 방법의 수를 구하는 프로그램을 작성하시오.\n",
    "\n",
    "만약 n = 3, k = 3이면\n",
    "\n",
    "- (1, 1), (3, 3) : OO이와 XX는 0번째, 1번째, 3번째 계단을 이용하여 목표에 도달\n",
    "- (1, 2), (3, 3) : OO이는 0번째, 1번째, 3번째 계단을 이용하여 목표에 도달, XX는 0번째, 2번째, 3번째 계단을 이용하여 목표에 도달\n",
    "- (2, 1), (3, 3) : OO이는 0번째, 2번째, 3번째 계단을 이용하여 목표에 도달, XX는 0번째, 1번째, 3번째 계단을 이용하여 목표에 도달\n",
    "- (2, 2), (3, 3) : OO이와 XX는 0번째, 2번째, 3번째 계단을 이용하여 목표에 도달\n",
    "\n",
    "로 모두 4가지 경우가 있다.\n",
    "\n",
    "<b>input></b>\n",
    "첫 번째 줄에 n과 k가 공백을 기준으로 입력된다.\n",
    "\n",
    "[입력값의 정의역]\n",
    "[1 ≤ n ≤ 30]\n",
    "[1 ≤ k ≤ 15]\n",
    "\n",
    "\n",
    "<b>output></b>\n",
    "\n",
    "계단을 올라가는 서로 다른 경로의 수를 출력한다."
   ]
  },
  {
   "cell_type": "code",
   "execution_count": null,
   "id": "e4a5e134",
   "metadata": {},
   "outputs": [],
   "source": [
    "from itertools import product\n",
    "\n",
    "n, k = list(map(int, input(\">> 올라가야하는 계단 수, 최대 이동 횟수를 입력하세요.\\n\")))\n",
    "\n",
    "list(product([1,2], repeat = k-1))"
   ]
  },
  {
   "cell_type": "code",
   "execution_count": 8,
   "id": "c8217af4",
   "metadata": {},
   "outputs": [
    {
     "data": {
      "text/plain": [
       "[array([1, 2, 3, 5]),\n",
       " array([1, 2, 4, 5]),\n",
       " array([1, 3, 4, 5]),\n",
       " array([2, 3, 4, 5])]"
      ]
     },
     "execution_count": 8,
     "metadata": {},
     "output_type": "execute_result"
    }
   ],
   "source": [
    "from itertools import product\n",
    "import numpy as np\n",
    "\n",
    "prod = list(product([1,2], repeat = 5-1))\n",
    "prod_n = []\n",
    "\n",
    "for p in prod:\n",
    "    p = np.array(p).cumsum()\n",
    "    if p[3] == 5:\n",
    "        prod_n.append(p)\n",
    "\n"
   ]
  },
  {
   "cell_type": "markdown",
   "id": "bbd13a79",
   "metadata": {},
   "source": [
    "<b>2022/09/18</b>\n",
    "\n",
    "## 10글자씩 끊어서 출력하기\n",
    "알파벳 소문자와 대문자로만 이루어진 길이가 N인 단어가 주어진다.\n",
    "\n",
    "한 줄에 10글자씩 끊어서 출력하는 프로그램을 작성하시오.\n",
    "\n",
    "<b>입력</b>\n",
    "\n",
    "첫째 줄에 단어가 주어진다. 단어는 알파벳 소문자와 대문자로만 이루어져 있으며, 길이는 100을 넘지 않는다. 길이가 0인 단어는 주어지지 않는다.\n",
    "\n",
    "\n",
    "<b>출력</b>\n",
    "\n",
    "입력으로 주어진 단어를 열 개씩 끊어서 한 줄에 하나씩 출력한다. 단어의 길이가 10의 배수가 아닌 경우에는 마지막 줄에는 10개 미만의 글자만 출력할 수도 있다."
   ]
  },
  {
   "cell_type": "code",
   "execution_count": null,
   "id": "68bee376",
   "metadata": {},
   "outputs": [],
   "source": [
    "word = input(\">> 단어를 입력해주세요.\")\n",
    "\n",
    "n = len(word)\n",
    "for i in range(n // 10 + 1):\n",
    "    print(word[i*10:(i+1)*10])"
   ]
  },
  {
   "cell_type": "markdown",
   "id": "a005aa7d",
   "metadata": {},
   "source": [
    "<b>2022/09/29</b>\n",
    "\n",
    "## 2321 : 자녀의 혈액형0\n",
    "\n",
    "ABO 혈액형 분류식을 기준으로, 부모의 혈액형 인자 정보를 알고 있을 때 나올 수 있는 자녀의 혈액형을 판단하는 기준은 다음과 같다.<br>\n",
    "<img src = \"https://www.codeup.kr/upload/pimg6119_1.png\" style = \"width: 500px\"><br>\n",
    "부모의 혈액형 인자가 AB와 OO일 때, 나올 수 있는 자녀의 혈액형을 출력해보자.<br>\n",
    "*본 문제는 주어진 문제에 대한 답을 출력하는 문제로서 출력 예시가 없다. 문제에 대한 답을 출력하면 된다."
   ]
  },
  {
   "cell_type": "code",
   "execution_count": 32,
   "id": "dbd115e3",
   "metadata": {
    "scrolled": true
   },
   "outputs": [
    {
     "name": "stdout",
     "output_type": "stream",
     "text": [
      ">> 부모의 혈액형을 입력하세요.\n",
      " ex)AB OO\n",
      "AB BB\n"
     ]
    }
   ],
   "source": [
    "bloodtype = input('>> 부모의 혈액형을 입력하세요.\\n ex)AB OO\\n')"
   ]
  },
  {
   "cell_type": "code",
   "execution_count": 41,
   "id": "b533da00",
   "metadata": {},
   "outputs": [
    {
     "data": {
      "text/plain": [
       "['B형(BB)', 'AB형(AB)']"
      ]
     },
     "execution_count": 41,
     "metadata": {},
     "output_type": "execute_result"
    }
   ],
   "source": [
    "from itertools import product\n",
    "\n",
    "bloods = bloodtype.split()\n",
    "\n",
    "parents_bloods = []\n",
    "for bl in bloods:\n",
    "    parents_blood = []\n",
    "    for b in bl:\n",
    "        parents_blood.append(b)\n",
    "    parents_bloods.append(parents_blood)\n",
    "\n",
    "all_prob = list(set(product(*parents_bloods)))\n",
    "\n",
    "types = []\n",
    "for prob in all_prob:\n",
    "    p_type = ''.join(prob)\n",
    "    \n",
    "    if p_type == 'AB':\n",
    "        types.append(f\"AB형({p_type})\")\n",
    "        \n",
    "    elif p_type == 'AO' or p_type == 'AA':\n",
    "        types.append(f\"A형({p_type})\")\n",
    "        \n",
    "    elif p_type == 'BO' or p_type == 'BB':\n",
    "        types.append(f\"B형({p_type})\")\n",
    "        \n",
    "    else:\n",
    "        types.append(f\"O형({p_type})\")      \n",
    "types"
   ]
  },
  {
   "cell_type": "markdown",
   "id": "f4eef261",
   "metadata": {},
   "source": [
    "<b>2022/12/08</b>\n",
    "\n",
    "## 2821 : 가장 긴 막대기의 길이는?\n",
    "\n",
    "세종이는 길이가 n이고 각 부분이 흰색 또는 검은색으로 칠해진 나무 막대가 있다. \n",
    "각 부분의 길이는 최소 1이고 각 색깔의 길이는 1의 배수이다.\n",
    "이 나무 막대를 원하는 부분을 잘라 하나의 막대기를 만들려고 한다.\n",
    "잘린 조각을 연결하여 막대를 만들 수는 없다.\n",
    "같은 색깔로 만들 수 있는 가장 긴 막대의 길이를 구하는 프로그램을 작성하시오.\n",
    "\n",
    "<b>입력</b><br>\n",
    "첫 번째 줄에는 나무의 길이 n이 주어진다.\n",
    "두 번째 줄에는 각 부분의 색깔을 나타내는 길이가 n인 문자열 s가 주어진다.\n",
    "\n",
    "[입력값의 정의역]\n",
    "\n",
    "1 <= n <= 1,000\n",
    "s_i = { 1, 0 } (1=검은색, 0=흰색)\n",
    "\n",
    "<br><b>출력</b><br>\n",
    "한 가지 색으로 만들 수 있는 가장 긴 막대의 길이를 출력한다.\n",
    "<br>\n",
    "<br>\n",
    "<br>\n",
    "아래 그림과 같이 검은색으로 부분 5, 6, 7로 하나의 막대롤 만들면 길이가 3인 막대를 만들 수 있고 이보다 더 긴 막대를 만들 수 있는 방법은 없다.<br>\n",
    "<b>입력 예시</b><br>\n",
    "10<br>\n",
    "0100111010<br><br>\n",
    "<b>출력예시</b>\n",
    "3<br>\n",
    "<img src = 'https://codeup.kr/upload/20220608223723_stick01.png'>"
   ]
  },
  {
   "cell_type": "code",
   "execution_count": 24,
   "id": "18ca17aa",
   "metadata": {},
   "outputs": [
    {
     "name": "stdout",
     "output_type": "stream",
     "text": [
      ">>나무막대기의 총 길이를 입력하세요.\n",
      "15\n",
      ">>나무막대기의 색을 입력하세요.\n",
      "  흰색: 0, 검정색: 1\n",
      "000000001111111\n"
     ]
    }
   ],
   "source": [
    "# 입력조건 설정\n",
    "\n",
    "while True:\n",
    "    width = int(input('>>나무막대기의 총 길이를 입력하세요.\\n'))\n",
    "    if 1 <= width <= 1000:\n",
    "        break\n",
    "    else:\n",
    "        print('다시 입력해주세요.')\n",
    "        \n",
    "while True:\n",
    "    colors = [int(i) for i in input('>>나무막대기의 색을 입력하세요.\\n  흰색: 0, 검정색: 1\\n')]\n",
    "    if len(colors) == width and set(colors) == {0, 1}:\n",
    "        break\n",
    "    else:\n",
    "        print('다시 입력해주세요.')"
   ]
  },
  {
   "cell_type": "code",
   "execution_count": 26,
   "id": "b2b26be4",
   "metadata": {},
   "outputs": [],
   "source": [
    "cnt, cnt_max = (0, 0)\n",
    "me = colors[0]\n",
    "\n",
    "for i in colors:\n",
    "    if me == i:\n",
    "        cnt += 1\n",
    "        cnt_max = max(cnt, cnt_max)\n",
    "    else:\n",
    "        me = i\n",
    "        cnt = 1     "
   ]
  },
  {
   "attachments": {},
   "cell_type": "markdown",
   "id": "0af6a8c0",
   "metadata": {},
   "source": [
    "<b>2022/12/08</b>\n",
    "\n",
    "## 2827 : 담벼락 이동하기\n",
    "\n",
    "송죽마을에는 벽돌로 이루어진 커다란 담벼락이 있다.\n",
    "담벼락의 크기는 가로축에 놓인 벽돌의 최대 개수 W, 세로축에 놓인 벽돌 개수 H개로 아래와 같은 모양으로 되어 있다.\n",
    "(담벼락의 가장 아랫줄의 벽돌 개수가 W개이다.)\n",
    "W(6) H(7) 모양의 담벼락<br>\n",
    "\n",
    "<img src = 'https://codeup.kr/upload/20220607224855_2887_1.png'><br>\n",
    "\n",
    "경곽이는 담벼락의 임의의 시작지점 S(s1, s2)에서 목표지점 G(g1, g2)로 이동할 수 있는 방법의 수를 알고 싶다.\n",
    "경곽이는 아래와 같은 방법으로 다른 벽돌로 이동할 수 있으며, 벽돌이 없는 곳으로는 이동할 수 없다.<br>\n",
    "\n",
    "<img src = 'https://codeup.kr/upload/20220607224914_2887_2.png'><br>\n",
    "\n",
    "(담벼락 임의의 벽돌위치에서 인접한 벽돌로 이동할 때는 인접한 오른쪽, 왼쪽 상단, 오른쪽 상단 세가지 방향으로만 이동할 수 있다.)\n",
    "시작지점 S에서 목표지점 G로 이동하는 서로 다른 방법의 개수를 출력하는 프로그램을 작성하시오.<br>\n",
    "\n",
    "<b>입력</b><br>\n",
    "첫줄에는 담벼락의 크기 1<=W, H<=10가 공백을 기준으로 주어진다.\n",
    "두 번째 줄에는 시작지점 좌표 s1, s2와 목표지점 좌표 g1, g2가 공백을 기준으로 주어진다.\n",
    "<br><br>\n",
    "<b>출력</b><br>\n",
    "시작지점 S에서 목표지점 G로 이동하는 서로 다른 방법의 개수를 출력한다.\n",
    "<br><br>\n",
    "<b>입력 예시</b>   <br>\n",
    "6 7<br>\n",
    "2 3 6 7<br>\n",
    "\n",
    "<b>출력 예시</b><br>\n",
    "878"
   ]
  },
  {
   "cell_type": "code",
   "execution_count": 31,
   "id": "e53c7b49",
   "metadata": {},
   "outputs": [
    {
     "name": "stdout",
     "output_type": "stream",
     "text": [
      ">> 벽돌의 너비를 입력하시오.1\n",
      ">> 벽돌의 높이를 입력하시오.10\n"
     ]
    }
   ],
   "source": [
    "while True:\n",
    "    width = int(input('>> 벽돌의 너비를 입력하시오.'))\n",
    "    if 1 <= width <= 10:\n",
    "        break\n",
    "    else:\n",
    "        continue\n",
    "\n",
    "while True:\n",
    "    height = int(input('>> 벽돌의 높이를 입력하시오.'))\n",
    "    if 1 <= height <= 10:\n",
    "        break\n",
    "    else:\n",
    "        continue"
   ]
  },
  {
   "cell_type": "code",
   "execution_count": null,
   "id": "9da5521c",
   "metadata": {},
   "outputs": [],
   "source": []
  },
  {
   "cell_type": "code",
   "execution_count": null,
   "id": "438ffa0b",
   "metadata": {},
   "outputs": [],
   "source": []
  },
  {
   "cell_type": "code",
   "execution_count": null,
   "id": "f202979f",
   "metadata": {},
   "outputs": [],
   "source": []
  }
 ],
 "metadata": {
  "kernelspec": {
   "display_name": "Python 3 (ipykernel)",
   "language": "python",
   "name": "python3"
  },
  "language_info": {
   "codemirror_mode": {
    "name": "ipython",
    "version": 3
   },
   "file_extension": ".py",
   "mimetype": "text/x-python",
   "name": "python",
   "nbconvert_exporter": "python",
   "pygments_lexer": "ipython3",
   "version": "3.8.13"
  },
  "toc": {
   "base_numbering": 1,
   "nav_menu": {},
   "number_sections": true,
   "sideBar": true,
   "skip_h1_title": false,
   "title_cell": "Table of Contents",
   "title_sidebar": "Contents",
   "toc_cell": false,
   "toc_position": {},
   "toc_section_display": true,
   "toc_window_display": false
  }
 },
 "nbformat": 4,
 "nbformat_minor": 5
}
