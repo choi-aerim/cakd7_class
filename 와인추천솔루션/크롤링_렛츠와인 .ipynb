{
 "cells": [
  {
   "cell_type": "code",
   "execution_count": 36,
   "id": "7a90225a",
   "metadata": {},
   "outputs": [],
   "source": [
    "import selenium\n",
    "import os \n",
    "from bs4 import BeautifulSoup as bs\n",
    "from urllib import request as rq\n",
    "from urllib.request import urlopen\n",
    "import pandas as pd\n",
    "from time import sleep\n",
    "from selenium import webdriver\n",
    "from selenium.webdriver.common.keys import Keys\n",
    "from selenium.webdriver.common.by import By\n",
    "from selenium.webdriver.support.ui import WebDriverWait\n",
    "from selenium.webdriver.support import expected_conditions as EC\n",
    "import warnings\n",
    "warnings.filterwarnings('ignore')"
   ]
  },
  {
   "cell_type": "markdown",
   "id": "e6a5f802",
   "metadata": {},
   "source": [
    "### 샴페인/스파클링 크롤링"
   ]
  },
  {
   "cell_type": "code",
   "execution_count": 2,
   "id": "e526afc1",
   "metadata": {},
   "outputs": [],
   "source": [
    "# 빈데이터프레임 만들기\n",
    "wine_df = pd.DataFrame(columns = ['name_ko','name_en','nation','alcohol','variety',\n",
    "                                  'capacity','price','description1','description2','description3','des_variety',\n",
    "                                  'aroma','glass','decanting','temp','body','acid','sweet','tannin'])"
   ]
  },
  {
   "cell_type": "code",
   "execution_count": 56,
   "id": "ec935a97",
   "metadata": {},
   "outputs": [],
   "source": [
    "# 크롬드라이버 경로 지정\n",
    "path = 'C:/cakd7/tool/chromedriver.exe'  \n",
    "\n",
    "\n",
    "# base url 지정\n",
    "url = 'https://letswine.co.kr/product/detail.html?product_no=1454&cate_no=140&display_group=1'\n",
    "\n",
    "\n",
    "# url 주소창 열기\n",
    "driver = webdriver.Chrome(path)\n",
    "driver.get(url)                   \n",
    "\n",
    "\n",
    "\n",
    "# 크롤링 내용 빈 리스트 만들기\n",
    "name_en = []\n",
    "name_ko = []\n",
    "nation = []\n",
    "alcohol = []\n",
    "variety = []\n",
    "capacity = []\n",
    "price = []\n",
    "description1 = []\n",
    "description2 = []\n",
    "description3 = []\n",
    "des_variety = []\n",
    "aroma = []\n",
    "glass = []\n",
    "decanting = []\n",
    "temp = []\n",
    "body = []\n",
    "acid = []\n",
    "sweet = []\n",
    "tannin = []\n",
    "\n",
    "\n",
    "\n",
    "#크롤링\n",
    "## 텍스트\n",
    "name_en.append(driver.find_element(By.XPATH,'//*[@id=\"infoArea_fixed\"]/div[1]/div[1]/p[1]').text)\n",
    "name_ko.append(driver.find_element(By.XPATH,'//*[@id=\"infoArea_fixed\"]/div[1]/div[1]/p[2]').text)\n",
    "nation.append(driver.find_element(By.XPATH,'//*[@id=\"infoArea_fixed\"]/div[1]/div[1]/p[5]/span[1]').text)\n",
    "alcohol.append(driver.find_element(By.XPATH,'//*[@id=\"infoArea_fixed\"]/div[1]/div[1]/p[5]/span[3]').text)\n",
    "variety.append(driver.find_element(By.XPATH,'//*[@id=\"infoArea_fixed\"]/div[1]/div[1]/p[5]/span[5]').text)\n",
    "capacity.append(driver.find_element(By.XPATH,'//*[@id=\"infoArea_fixed\"]/div[1]/div[1]/p[5]/span[7]').text)\n",
    "price.append(driver.find_element(By.XPATH,'//*[@id=\"totalPrice\"]/span[2]/strong/em').text)\n",
    "description1.append(driver.find_element(By.XPATH,'//*[@id=\"result\"]/section[2]/article/dl/dd[1]').text)\n",
    "description2.append(driver.find_element(By.XPATH,'//*[@id=\"result\"]/section[2]/article/dl/dd[2]').text)\n",
    "description3.append(driver.find_element(By.XPATH,'//*[@id=\"result\"]/section[2]/article/dl/dd[3]').text)\n",
    "des_variety.append(driver.find_element(By.XPATH,'//*[@id=\"result\"]/section[3]/article/p').text)\n",
    "aroma.append(driver.find_element(By.XPATH,'//*[@id=\"result\"]/section[4]/article/p').text)\n",
    "glass.append(driver.find_element(By.XPATH,'//*[@id=\"result\"]/section[5]/article/div[1]/h6').text)\n",
    "decanting.append(driver.find_element(By.XPATH,'//*[@id=\"result\"]/section[5]/article/div[2]/div[1]/h6').text)\n",
    "temp.append(driver.find_element(By.XPATH,'//*[@id=\"result\"]/section[5]/article/div[2]/div[2]/h6').text)\n",
    "\n",
    "# 전체 소스 긁어와서 src 추출\n",
    "body.append(driver.find_element(By.XPATH,'//*[@id=\"result\"]/section[5]/article/div[3]/ul/li[1]/div/img').get_attribute('ec-data-src').split('_')[1][0])\n",
    "acid.append(driver.find_element(By.XPATH,'//*[@id=\"result\"]/section[5]/article/div[3]/ul/li[2]/div/img').get_attribute('ec-data-src').split('_')[1][0])\n",
    "sweet.append(driver.find_element(By.XPATH,'//*[@id=\"result\"]/section[5]/article/div[3]/ul/li[3]/div/img').get_attribute('ec-data-src').split('_')[1][0])\n",
    "tannin.append(driver.find_element(By.XPATH,'//*[@id=\"result\"]/section[5]/article/div[3]/ul/li[4]/div/img').get_attribute('ec-data-src').split('_')[1][0])\n",
    "\n",
    "## 이미지\n",
    "image_label = driver.find_element(By.XPATH,'//*[@id=\"content\"]/article/div[2]/div[2]/div/div[1]/div[1]/img').get_attribute('src')\n",
    "rq.urlretrieve(image_label, f'./렛츠와인_와인사진/{name_ko[0]}.png')\n",
    "\n",
    "\n",
    "driver.close()"
   ]
  },
  {
   "cell_type": "code",
   "execution_count": 57,
   "id": "80782ecc",
   "metadata": {},
   "outputs": [
    {
     "data": {
      "text/plain": [
       "(['샴페인 뽀므리 브뤼 로제'],\n",
       " ['Pommery,Seasonal Brut Rose'],\n",
       " ['프랑스 상파뉴'],\n",
       " ['12~13% Vol'],\n",
       " ['Chardonnay, Pinot Noir, Pinot Meunier'],\n",
       " ['750ml'],\n",
       " ['100,000원'],\n",
       " ['핑크빛 포일과 전통을 상징하는 문장. 달콤한 꽃향기와 섬세한 버블. 보이는 모습처럼 화사하고 고급스러운 풍미의 샴페인으로 사랑하는 사람과 함께 마시기 좋은 샴페인입니다. 특히 끝부분에 도드라지는 산도는 상쾌함마저 느껴집니다.'],\n",
       " ['뽀므리 브륏 로제에 가장 추천하는 음식은 굴 요리입니다. 다소 교과서적이지만 잘 만든 샴페인과 굴이 얼마나 훌륭한 조화를 이루는지 뽀므리 브륏 로제가 다시금 느끼게 해줍니다. 그 밖에 연어 스테이크나 고등어 등 기름진 생선 요리도 잘 어울립니다.'],\n",
       " ['뽀므리 샴페인은 정통성과 역사성 그리고 높은 품질 덕분에 세계 3대 샴페인으로 꼽힙니다. 1956년에는 배우 그레이스 켈리가 모나코의 왕 레니에 3세와의 결혼식 축하주로 뽀므리 샴페인을 선택하기도 했죠. 오랜 시간 검증받은 뽀므리 샴페인으로 샹파뉴 스파클링의 진가를 느껴보세요.'],\n",
       " ['피노 누아는 껍질이 얇고 온도 변화에 민감해 재배가 어려운 품종입니다. 그럼에도 불구하고 레드 와인을 논할 때 빠지지 않는, 필수 품종입니다. 프랑스 부르고뉴 지방이 세계 최고의 산지로 꼽히며 미국 캘리포니아도 짙은 안개 덕에 뛰어난 피노 누아를 생산합니다. 피노 누아는 가벼운 바디감과 투명한 색감을 지닌 맑고 영롱한 와인입니다. 알코올 도수도 상대적으로 낮아 부드러운 질감과 긴 여운을 원할 때 적합합니다.'],\n",
       " ['체리, 산딸기, 정향, 버섯, 바닐라'],\n",
       " ['기포가 유지되는 얇고 긴 잔'],\n",
       " ['하지 않음'],\n",
       " ['8~10°C'],\n",
       " ['2'],\n",
       " ['2'],\n",
       " ['1'],\n",
       " ['1'])"
      ]
     },
     "execution_count": 57,
     "metadata": {},
     "output_type": "execute_result"
    }
   ],
   "source": [
    "name_ko,name_en,nation,alcohol,variety,capacity,price,description1,description2,description3,des_variety,aroma,glass,decanting,temp, body, acid, sweet, tannin"
   ]
  },
  {
   "cell_type": "code",
   "execution_count": null,
   "id": "6babfe39",
   "metadata": {},
   "outputs": [],
   "source": []
  }
 ],
 "metadata": {
  "kernelspec": {
   "display_name": "Python 3 (ipykernel)",
   "language": "python",
   "name": "python3"
  },
  "language_info": {
   "codemirror_mode": {
    "name": "ipython",
    "version": 3
   },
   "file_extension": ".py",
   "mimetype": "text/x-python",
   "name": "python",
   "nbconvert_exporter": "python",
   "pygments_lexer": "ipython3",
   "version": "3.8.13"
  },
  "toc": {
   "base_numbering": 1,
   "nav_menu": {},
   "number_sections": true,
   "sideBar": true,
   "skip_h1_title": false,
   "title_cell": "Table of Contents",
   "title_sidebar": "Contents",
   "toc_cell": false,
   "toc_position": {},
   "toc_section_display": true,
   "toc_window_display": false
  }
 },
 "nbformat": 4,
 "nbformat_minor": 5
}
