{
 "cells": [
  {
   "cell_type": "markdown",
   "id": "6fd077af",
   "metadata": {},
   "source": [
    "### numpy random 함수\n",
    "- np.random.seed: seed를 통한 난수 생성\n",
    "- np.random.randint: 정수 난수 생성\n",
    "- np.random.rand: 0-1까지 균일분포에서 난수 매트릭스 배열 생성\n",
    "- np.random.randn: 가우시안 표준 정규분포에서 난수 매트릭스 배열 생성\n",
    "- np.random.shuffle: 기존 데이터의 순서 바꾸기\n",
    "- np.random.choice: 기존 데이터에서 sampling"
   ]
  },
  {
   "cell_type": "markdown",
   "id": "579bcaf5",
   "metadata": {},
   "source": [
    "#### random 라이브러리"
   ]
  },
  {
   "cell_type": "code",
   "execution_count": 2,
   "id": "d54587d1",
   "metadata": {},
   "outputs": [],
   "source": [
    "import random"
   ]
  },
  {
   "cell_type": "code",
   "execution_count": 6,
   "id": "bede5328",
   "metadata": {},
   "outputs": [
    {
     "name": "stdout",
     "output_type": "stream",
     "text": [
      "0.3045167866849232 \n",
      "\n",
      "8 \n",
      "\n",
      "9 \n",
      "\n",
      "11.228507945462853 \n",
      "\n"
     ]
    }
   ],
   "source": [
    "print(random.random(),'\\n')            #0-1 사이 랜덤 float 추출\n",
    "\n",
    "print(random.randint(1,10),'\\n')       #1-10 사이 랜덤 int추출\n",
    "\n",
    "print(random.randrange(1,10),'\\n')       #0-(지정범위-1) 랜덤 int 추출\n",
    "\n",
    "print(random.uniform(10,20),'\\n')      #10-20 사이 랜덤 float 추출\n"
   ]
  },
  {
   "cell_type": "code",
   "execution_count": 465,
   "id": "e50d6fe6",
   "metadata": {},
   "outputs": [
    {
     "name": "stdout",
     "output_type": "stream",
     "text": [
      "3\n",
      "[9, 4, 14]\n",
      "[7, 12, 13, 11, 3, 5, 15, 16, 0, 2, 3, 6, 10, 14, 8, 1, 4, 19, 9, 2, 18, 17, 1]\n"
     ]
    }
   ],
   "source": [
    "li=list(range(20))+[1,2,3]\n",
    "\n",
    "print(random.choice(li))       #리스트 내 랜덤 추출\n",
    "\n",
    "print(random.sample(li,3))     #리스트 내 랜덤으로 중복 없이 n개 추출\n",
    "\n",
    "random.shuffle(li)             #리스트 데이터 섞어줌, 리스트를 따로 출력해서 알아볼 수 있음\n",
    "print(li)\n"
   ]
  },
  {
   "cell_type": "markdown",
   "id": "3bc4ea36",
   "metadata": {},
   "source": [
    "#### randint\n",
    "- 파이썬 random 라이브러리 내 는 끝 구간을 포함하는데, numpy에서는 끝 구간을 포함하지 않음"
   ]
  },
  {
   "cell_type": "code",
   "execution_count": 290,
   "id": "ee42da3f",
   "metadata": {},
   "outputs": [
    {
     "data": {
      "text/plain": [
       "array([5, 8, 5, 2, 1, 9, 2, 5, 2, 1])"
      ]
     },
     "execution_count": 290,
     "metadata": {},
     "output_type": "execute_result"
    }
   ],
   "source": [
    "np.random.randint(1,10,10)"
   ]
  },
  {
   "cell_type": "markdown",
   "id": "70a12ab1",
   "metadata": {},
   "source": [
    "#### rand\n",
    "- [0,1] 균일분포 내 난수 생성"
   ]
  },
  {
   "cell_type": "code",
   "execution_count": 13,
   "id": "165fbdce",
   "metadata": {},
   "outputs": [],
   "source": [
    "import numpy as np"
   ]
  },
  {
   "cell_type": "code",
   "execution_count": 14,
   "id": "b4051045",
   "metadata": {},
   "outputs": [
    {
     "data": {
      "text/plain": [
       "array([[0.20561845, 0.76627777, 0.8648064 ],\n",
       "       [0.77304048, 0.28150533, 0.46406015],\n",
       "       [0.38542755, 0.67734352, 0.81853972]])"
      ]
     },
     "execution_count": 14,
     "metadata": {},
     "output_type": "execute_result"
    }
   ],
   "source": [
    "r=np.random.rand(3,3)\n",
    "r"
   ]
  },
  {
   "cell_type": "code",
   "execution_count": 15,
   "id": "bc8f612c",
   "metadata": {},
   "outputs": [
    {
     "data": {
      "text/plain": [
       "0.5818465973523529"
      ]
     },
     "execution_count": 15,
     "metadata": {},
     "output_type": "execute_result"
    }
   ],
   "source": [
    "#평균 알아보기\n",
    "\n",
    "r.mean()     #0.5에 가까움"
   ]
  },
  {
   "cell_type": "code",
   "execution_count": 16,
   "id": "9d1fba70",
   "metadata": {},
   "outputs": [],
   "source": [
    "#난수 개수 늘리기\n",
    "\n",
    "r2=np.random.rand(10000,10000)"
   ]
  },
  {
   "cell_type": "code",
   "execution_count": 17,
   "id": "980dde91",
   "metadata": {},
   "outputs": [
    {
     "data": {
      "text/plain": [
       "0.4999754190022042"
      ]
     },
     "execution_count": 17,
     "metadata": {},
     "output_type": "execute_result"
    }
   ],
   "source": [
    "r2.mean()     #0.5에 한층 더 가까워짐"
   ]
  },
  {
   "cell_type": "markdown",
   "id": "7c1a4cfb",
   "metadata": {},
   "source": [
    "#### randn\n",
    "- 표준정규분포 내 난수 생성"
   ]
  },
  {
   "cell_type": "code",
   "execution_count": 18,
   "id": "f3832fc8",
   "metadata": {},
   "outputs": [
    {
     "data": {
      "text/plain": [
       "array([ 0.33459453,  0.05238293,  0.14700894,  0.73272876,  0.44684252,\n",
       "       -0.5373432 , -1.32960097])"
      ]
     },
     "execution_count": 18,
     "metadata": {},
     "output_type": "execute_result"
    }
   ],
   "source": [
    "r=np.random.randn(7)\n",
    "r"
   ]
  },
  {
   "cell_type": "code",
   "execution_count": 19,
   "id": "5599c962",
   "metadata": {},
   "outputs": [
    {
     "data": {
      "text/plain": [
       "-0.021912357439344245"
      ]
     },
     "execution_count": 19,
     "metadata": {},
     "output_type": "execute_result"
    }
   ],
   "source": [
    "#평균 알아보기\n",
    "\n",
    "r.mean()"
   ]
  },
  {
   "cell_type": "code",
   "execution_count": 20,
   "id": "11a8eb13",
   "metadata": {},
   "outputs": [],
   "source": [
    "#난수 개수를 늘리기\n",
    "\n",
    "r2=np.random.randn(1000000)"
   ]
  },
  {
   "cell_type": "code",
   "execution_count": 23,
   "id": "d9f35a9b",
   "metadata": {},
   "outputs": [
    {
     "data": {
      "text/plain": [
       "'-0.00117'"
      ]
     },
     "execution_count": 23,
     "metadata": {},
     "output_type": "execute_result"
    }
   ],
   "source": [
    "r2.mean()  #평균이 0에 가까워짐\n",
    "'%.5f'%r2.mean()"
   ]
  },
  {
   "cell_type": "markdown",
   "id": "89c99714",
   "metadata": {},
   "source": [
    "#### uniform\n",
    "- 지정 구간 내 float 난수 생성"
   ]
  },
  {
   "cell_type": "code",
   "execution_count": 24,
   "id": "ee4c4f64",
   "metadata": {},
   "outputs": [
    {
     "data": {
      "text/plain": [
       "array([[4.94555322, 4.67033371, 4.86792041, 4.56015923, 4.95790005],\n",
       "       [4.84743068, 4.95641842, 4.14163155, 4.06128598, 4.05899398],\n",
       "       [4.29386029, 4.78359568, 4.06866064, 4.19778525, 4.47693672],\n",
       "       [4.9315742 , 4.34800986, 4.24134645, 4.04069028, 4.62788495],\n",
       "       [4.30540344, 4.96775531, 4.03108299, 4.37537362, 4.11678262]])"
      ]
     },
     "execution_count": 24,
     "metadata": {},
     "output_type": "execute_result"
    }
   ],
   "source": [
    "r=np.random.uniform(4,5,size=(5,5))\n",
    "r"
   ]
  },
  {
   "cell_type": "code",
   "execution_count": 25,
   "id": "60064b79",
   "metadata": {},
   "outputs": [
    {
     "data": {
      "text/plain": [
       "array([[1.21562156, 1.34471199, 1.94841984],\n",
       "       [1.52466068, 1.85440374, 1.83516706],\n",
       "       [1.61684375, 1.7453046 , 1.56223805]])"
      ]
     },
     "execution_count": 25,
     "metadata": {},
     "output_type": "execute_result"
    }
   ],
   "source": [
    "r=np.random.uniform(1,2,(3,3))\n",
    "r"
   ]
  },
  {
   "cell_type": "markdown",
   "id": "bbc3cdd8",
   "metadata": {},
   "source": [
    "#### random_sample\n",
    "- 0-1 구간 내 난수 생성\n",
    "- uniform 함수의 구간을 0,1로 지정한것과 같음\n",
    "- random 함수와 같음"
   ]
  },
  {
   "cell_type": "code",
   "execution_count": 198,
   "id": "c68f8459",
   "metadata": {
    "scrolled": true
   },
   "outputs": [
    {
     "data": {
      "text/plain": [
       "array([[0.37867345, 0.45674386, 0.16568636, 0.68565481, 0.39645794],\n",
       "       [0.82256637, 0.07313181, 0.3813022 , 0.04255891, 0.62383639],\n",
       "       [0.50505959, 0.49454356, 0.87647111, 0.73174829, 0.03098709],\n",
       "       [0.21648283, 0.2726576 , 0.86315884, 0.29331338, 0.13411857],\n",
       "       [0.86098261, 0.2844522 , 0.98554799, 0.22053714, 0.95401649]])"
      ]
     },
     "execution_count": 198,
     "metadata": {},
     "output_type": "execute_result"
    }
   ],
   "source": [
    "np.random.random_sample((5,5))"
   ]
  },
  {
   "cell_type": "code",
   "execution_count": 193,
   "id": "f82d8263",
   "metadata": {},
   "outputs": [
    {
     "data": {
      "text/plain": [
       "array([[0.68878665, 0.13786821, 0.10883145, 0.45830322, 0.57317737],\n",
       "       [0.41215315, 0.05470162, 0.22319959, 0.69291803, 0.16763301],\n",
       "       [0.4708954 , 0.78783358, 0.55134363, 0.42094179, 0.7644009 ],\n",
       "       [0.93223014, 0.75901273, 0.98409489, 0.53570853, 0.32360154],\n",
       "       [0.32183428, 0.97607016, 0.14971885, 0.96309668, 0.10179592]])"
      ]
     },
     "execution_count": 193,
     "metadata": {},
     "output_type": "execute_result"
    }
   ],
   "source": [
    "np.random.random((5,5))"
   ]
  },
  {
   "cell_type": "code",
   "execution_count": 199,
   "id": "e1f13ed9",
   "metadata": {},
   "outputs": [
    {
     "data": {
      "text/plain": [
       "array([[0.20186562, 0.86376593, 0.57670727, 0.10329041, 0.4105371 ],\n",
       "       [0.15624883, 0.26776169, 0.62871956, 0.52117574, 0.49414941],\n",
       "       [0.36637457, 0.67214063, 0.70482601, 0.60739515, 0.85362103],\n",
       "       [0.26516287, 0.49750635, 0.28859845, 0.90926721, 0.94743571],\n",
       "       [0.94053747, 0.10965041, 0.53107031, 0.91892917, 0.21117213]])"
      ]
     },
     "execution_count": 199,
     "metadata": {},
     "output_type": "execute_result"
    }
   ],
   "source": [
    "np.random.uniform(0,1,(5,5))"
   ]
  },
  {
   "cell_type": "markdown",
   "id": "0cd65215",
   "metadata": {},
   "source": [
    "#### 실습"
   ]
  },
  {
   "cell_type": "code",
   "execution_count": 212,
   "id": "af2a910e",
   "metadata": {},
   "outputs": [],
   "source": [
    "import pandas as pd"
   ]
  },
  {
   "cell_type": "code",
   "execution_count": 26,
   "id": "9e938c9a",
   "metadata": {
    "scrolled": true
   },
   "outputs": [
    {
     "data": {
      "text/plain": [
       "array([[0.0476233 , 0.62017686, 0.38509564, 0.20840971, 0.1771956 ,\n",
       "        0.28963432, 0.96730855, 0.87853694],\n",
       "       [0.20255691, 0.1794864 , 0.94129588, 0.16067389, 0.47878717,\n",
       "        0.84567841, 0.14982646, 0.97666973],\n",
       "       [0.7802154 , 0.15701602, 0.68515368, 0.19024897, 0.66196011,\n",
       "        0.1784976 , 0.55517745, 0.52669605],\n",
       "       [0.6447858 , 0.34588943, 0.6628911 , 0.73008348, 0.96057648,\n",
       "        0.58614247, 0.09558851, 0.95442209],\n",
       "       [0.19749288, 0.87323435, 0.23475711, 0.91697159, 0.97120414,\n",
       "        0.5107577 , 0.30857826, 0.18383766],\n",
       "       [0.33168442, 0.77924113, 0.64526511, 0.27250492, 0.70884444,\n",
       "        0.18358098, 0.02707767, 0.84211027],\n",
       "       [0.2134772 , 0.73511377, 0.54093243, 0.48025144, 0.08297487,\n",
       "        0.1270501 , 0.12105139, 0.76361749],\n",
       "       [0.39536851, 0.43236378, 0.66885613, 0.56927374, 0.39376159,\n",
       "        0.00970754, 0.44285545, 0.62643667]])"
      ]
     },
     "execution_count": 26,
     "metadata": {},
     "output_type": "execute_result"
    }
   ],
   "source": [
    "ar=np.random.random_sample((8,8))\n",
    "ar"
   ]
  },
  {
   "cell_type": "code",
   "execution_count": 228,
   "id": "0ca82ea5",
   "metadata": {
    "scrolled": true
   },
   "outputs": [
    {
     "data": {
      "text/html": [
       "<div>\n",
       "<style scoped>\n",
       "    .dataframe tbody tr th:only-of-type {\n",
       "        vertical-align: middle;\n",
       "    }\n",
       "\n",
       "    .dataframe tbody tr th {\n",
       "        vertical-align: top;\n",
       "    }\n",
       "\n",
       "    .dataframe thead th {\n",
       "        text-align: right;\n",
       "    }\n",
       "</style>\n",
       "<table border=\"1\" class=\"dataframe\">\n",
       "  <thead>\n",
       "    <tr style=\"text-align: right;\">\n",
       "      <th></th>\n",
       "      <th>id</th>\n",
       "      <th>gender</th>\n",
       "      <th>age</th>\n",
       "      <th>region</th>\n",
       "      <th>product</th>\n",
       "      <th>price</th>\n",
       "      <th>qty</th>\n",
       "      <th>time</th>\n",
       "    </tr>\n",
       "  </thead>\n",
       "  <tbody>\n",
       "    <tr>\n",
       "      <th>0</th>\n",
       "      <td>0.257137</td>\n",
       "      <td>0.147867</td>\n",
       "      <td>0.358871</td>\n",
       "      <td>0.276558</td>\n",
       "      <td>0.537922</td>\n",
       "      <td>0.175251</td>\n",
       "      <td>0.929622</td>\n",
       "      <td>0.035585</td>\n",
       "    </tr>\n",
       "    <tr>\n",
       "      <th>1</th>\n",
       "      <td>0.598527</td>\n",
       "      <td>0.963408</td>\n",
       "      <td>0.199136</td>\n",
       "      <td>0.770164</td>\n",
       "      <td>0.880941</td>\n",
       "      <td>0.865397</td>\n",
       "      <td>0.270121</td>\n",
       "      <td>0.139073</td>\n",
       "    </tr>\n",
       "    <tr>\n",
       "      <th>2</th>\n",
       "      <td>0.905512</td>\n",
       "      <td>0.027777</td>\n",
       "      <td>0.201325</td>\n",
       "      <td>0.151019</td>\n",
       "      <td>0.771609</td>\n",
       "      <td>0.889105</td>\n",
       "      <td>0.523992</td>\n",
       "      <td>0.509250</td>\n",
       "    </tr>\n",
       "    <tr>\n",
       "      <th>3</th>\n",
       "      <td>0.925869</td>\n",
       "      <td>0.769423</td>\n",
       "      <td>0.744661</td>\n",
       "      <td>0.718995</td>\n",
       "      <td>0.563445</td>\n",
       "      <td>0.104435</td>\n",
       "      <td>0.255231</td>\n",
       "      <td>0.996359</td>\n",
       "    </tr>\n",
       "    <tr>\n",
       "      <th>4</th>\n",
       "      <td>0.988649</td>\n",
       "      <td>0.947582</td>\n",
       "      <td>0.404001</td>\n",
       "      <td>0.739200</td>\n",
       "      <td>0.147398</td>\n",
       "      <td>0.881623</td>\n",
       "      <td>0.014951</td>\n",
       "      <td>0.428737</td>\n",
       "    </tr>\n",
       "    <tr>\n",
       "      <th>5</th>\n",
       "      <td>0.458763</td>\n",
       "      <td>0.250081</td>\n",
       "      <td>0.100104</td>\n",
       "      <td>0.164503</td>\n",
       "      <td>0.611119</td>\n",
       "      <td>0.839969</td>\n",
       "      <td>0.938163</td>\n",
       "      <td>0.576881</td>\n",
       "    </tr>\n",
       "    <tr>\n",
       "      <th>6</th>\n",
       "      <td>0.741441</td>\n",
       "      <td>0.032725</td>\n",
       "      <td>0.626340</td>\n",
       "      <td>0.314652</td>\n",
       "      <td>0.301880</td>\n",
       "      <td>0.010815</td>\n",
       "      <td>0.452675</td>\n",
       "      <td>0.660005</td>\n",
       "    </tr>\n",
       "    <tr>\n",
       "      <th>7</th>\n",
       "      <td>0.398605</td>\n",
       "      <td>0.045936</td>\n",
       "      <td>0.504287</td>\n",
       "      <td>0.315209</td>\n",
       "      <td>0.952258</td>\n",
       "      <td>0.702382</td>\n",
       "      <td>0.465140</td>\n",
       "      <td>0.862764</td>\n",
       "    </tr>\n",
       "  </tbody>\n",
       "</table>\n",
       "</div>"
      ],
      "text/plain": [
       "         id    gender       age    region   product     price       qty  \\\n",
       "0  0.257137  0.147867  0.358871  0.276558  0.537922  0.175251  0.929622   \n",
       "1  0.598527  0.963408  0.199136  0.770164  0.880941  0.865397  0.270121   \n",
       "2  0.905512  0.027777  0.201325  0.151019  0.771609  0.889105  0.523992   \n",
       "3  0.925869  0.769423  0.744661  0.718995  0.563445  0.104435  0.255231   \n",
       "4  0.988649  0.947582  0.404001  0.739200  0.147398  0.881623  0.014951   \n",
       "5  0.458763  0.250081  0.100104  0.164503  0.611119  0.839969  0.938163   \n",
       "6  0.741441  0.032725  0.626340  0.314652  0.301880  0.010815  0.452675   \n",
       "7  0.398605  0.045936  0.504287  0.315209  0.952258  0.702382  0.465140   \n",
       "\n",
       "       time  \n",
       "0  0.035585  \n",
       "1  0.139073  \n",
       "2  0.509250  \n",
       "3  0.996359  \n",
       "4  0.428737  \n",
       "5  0.576881  \n",
       "6  0.660005  \n",
       "7  0.862764  "
      ]
     },
     "execution_count": 228,
     "metadata": {},
     "output_type": "execute_result"
    }
   ],
   "source": [
    "#생성된 난수들로 데이터프레임 만들기\n",
    "\n",
    "df=pd.DataFrame(ar,columns=['id','gender','age','region',\n",
    "                           'product','price','qty','time'])\n",
    "df"
   ]
  },
  {
   "cell_type": "code",
   "execution_count": 229,
   "id": "17438e75",
   "metadata": {},
   "outputs": [
    {
     "data": {
      "text/html": [
       "<div>\n",
       "<style scoped>\n",
       "    .dataframe tbody tr th:only-of-type {\n",
       "        vertical-align: middle;\n",
       "    }\n",
       "\n",
       "    .dataframe tbody tr th {\n",
       "        vertical-align: top;\n",
       "    }\n",
       "\n",
       "    .dataframe thead th {\n",
       "        text-align: right;\n",
       "    }\n",
       "</style>\n",
       "<table border=\"1\" class=\"dataframe\">\n",
       "  <thead>\n",
       "    <tr style=\"text-align: right;\">\n",
       "      <th></th>\n",
       "      <th>id</th>\n",
       "      <th>gender</th>\n",
       "      <th>age</th>\n",
       "    </tr>\n",
       "  </thead>\n",
       "  <tbody>\n",
       "    <tr>\n",
       "      <th>0</th>\n",
       "      <td>0</td>\n",
       "      <td>female</td>\n",
       "      <td>36.0</td>\n",
       "    </tr>\n",
       "    <tr>\n",
       "      <th>1</th>\n",
       "      <td>1</td>\n",
       "      <td>female</td>\n",
       "      <td>50.0</td>\n",
       "    </tr>\n",
       "    <tr>\n",
       "      <th>2</th>\n",
       "      <td>2</td>\n",
       "      <td>female</td>\n",
       "      <td>10.0</td>\n",
       "    </tr>\n",
       "    <tr>\n",
       "      <th>3</th>\n",
       "      <td>3</td>\n",
       "      <td>male</td>\n",
       "      <td>20.0</td>\n",
       "    </tr>\n",
       "    <tr>\n",
       "      <th>4</th>\n",
       "      <td>4</td>\n",
       "      <td>female</td>\n",
       "      <td>63.0</td>\n",
       "    </tr>\n",
       "  </tbody>\n",
       "</table>\n",
       "</div>"
      ],
      "text/plain": [
       "   id  gender   age\n",
       "0   0  female  36.0\n",
       "1   1  female  50.0\n",
       "2   2  female  10.0\n",
       "3   3    male  20.0\n",
       "4   4  female  63.0"
      ]
     },
     "execution_count": 229,
     "metadata": {},
     "output_type": "execute_result"
    }
   ],
   "source": [
    "#id, gender, age를 의미 있는 데이터로 바꾸기\n",
    "\n",
    "#id 고유화하기\n",
    "from sklearn.preprocessing import LabelEncoder\n",
    "\n",
    "le=LabelEncoder()\n",
    "df['id']=le.fit_transform(df['id'])\n",
    "df=df.sort_values('id',ignore_index=True)  # 정렬 순서대로 인덱스 세팅 다시~\n",
    "\n",
    "\n",
    "#gender 삼항식으로 이분화하기\n",
    "df['gender']=np.where(df['gender']>0.5,'male','female')\n",
    "\n",
    "\n",
    "#age 나이 계산하기\n",
    "df['age']=round(df['age']*100)\n",
    "\n",
    "df3=df.iloc[:,:3]\n",
    "df3.head()"
   ]
  },
  {
   "cell_type": "code",
   "execution_count": 243,
   "id": "036cc06f",
   "metadata": {
    "scrolled": false
   },
   "outputs": [
    {
     "data": {
      "text/plain": [
       "female    5\n",
       "male      3\n",
       "Name: gender, dtype: int64"
      ]
     },
     "execution_count": 243,
     "metadata": {},
     "output_type": "execute_result"
    }
   ],
   "source": [
    "df3.gender.value_counts()"
   ]
  },
  {
   "cell_type": "code",
   "execution_count": 242,
   "id": "0f6811b3",
   "metadata": {},
   "outputs": [
    {
     "data": {
      "text/plain": [
       "array(['female', 'male'], dtype=object)"
      ]
     },
     "execution_count": 242,
     "metadata": {},
     "output_type": "execute_result"
    }
   ],
   "source": [
    "df3.gender.unique()"
   ]
  },
  {
   "cell_type": "markdown",
   "id": "93dd5676",
   "metadata": {},
   "source": [
    "#### 실습2"
   ]
  },
  {
   "cell_type": "code",
   "execution_count": 230,
   "id": "6e76084e",
   "metadata": {},
   "outputs": [
    {
     "data": {
      "text/plain": [
       "array([-0.35408288, -1.29815075, -0.27534205, -0.93603391,  1.88363041,\n",
       "       -0.02953076, -0.32595228,  2.16634053, -1.24673995, -2.35607717,\n",
       "       -1.50046226,  0.05228149,  0.85280106, -0.9148975 , -0.17408592,\n",
       "       -0.66648111, -0.51138476, -0.56004803,  0.91883903, -0.70079521])"
      ]
     },
     "execution_count": 230,
     "metadata": {},
     "output_type": "execute_result"
    }
   ],
   "source": [
    "#배열 정렬 후, 상위 50% 원소 추출\n",
    "\n",
    "ar=np.random.randn(20)\n",
    "ar"
   ]
  },
  {
   "cell_type": "code",
   "execution_count": 233,
   "id": "ceff7189",
   "metadata": {},
   "outputs": [
    {
     "data": {
      "text/plain": [
       "array([-2.35607717, -1.50046226, -1.29815075, -1.24673995, -0.93603391,\n",
       "       -0.9148975 , -0.70079521, -0.66648111, -0.56004803, -0.51138476,\n",
       "       -0.35408288, -0.32595228, -0.27534205, -0.17408592, -0.02953076,\n",
       "        0.05228149,  0.85280106,  0.91883903,  1.88363041,  2.16634053])"
      ]
     },
     "execution_count": 233,
     "metadata": {},
     "output_type": "execute_result"
    }
   ],
   "source": [
    "ar.sort()\n",
    "ar"
   ]
  },
  {
   "cell_type": "code",
   "execution_count": 236,
   "id": "49c6deea",
   "metadata": {},
   "outputs": [
    {
     "data": {
      "text/plain": [
       "-0.3540828760065148"
      ]
     },
     "execution_count": 236,
     "metadata": {},
     "output_type": "execute_result"
    }
   ],
   "source": [
    "ar[int(len(ar)*0.5)]       #0.5를 곱하면서 실수가 되므로, 정수화가 필요함"
   ]
  },
  {
   "cell_type": "markdown",
   "id": "51bb7867",
   "metadata": {},
   "source": [
    "#### 실습3"
   ]
  },
  {
   "cell_type": "code",
   "execution_count": 291,
   "id": "b1aa161b",
   "metadata": {},
   "outputs": [],
   "source": [
    "#배열의 집합 연산\n",
    "\n",
    "names=np.array(['Joe','Bob','Andrew','Joe','Joe'])"
   ]
  },
  {
   "cell_type": "code",
   "execution_count": 293,
   "id": "8cb790fe",
   "metadata": {},
   "outputs": [
    {
     "data": {
      "text/plain": [
       "array(['Andrew', 'Bob', 'Joe'], dtype='<U6')"
      ]
     },
     "execution_count": 293,
     "metadata": {},
     "output_type": "execute_result"
    }
   ],
   "source": [
    "np.unique(names)  #원소 value 확인"
   ]
  },
  {
   "cell_type": "code",
   "execution_count": 301,
   "id": "9fc479b6",
   "metadata": {},
   "outputs": [
    {
     "data": {
      "text/plain": [
       "['Andrew', 'Bob', 'Joe']"
      ]
     },
     "execution_count": 301,
     "metadata": {},
     "output_type": "execute_result"
    }
   ],
   "source": [
    "sorted(set(names))   #sorted 내장함수를 사용함으로써 list화 됨"
   ]
  },
  {
   "cell_type": "markdown",
   "id": "e6c138d8",
   "metadata": {},
   "source": [
    "#### save, load\n",
    "- 데이터 저장,출력(입출력)"
   ]
  },
  {
   "cell_type": "code",
   "execution_count": 302,
   "id": "5c6e2241",
   "metadata": {},
   "outputs": [
    {
     "data": {
      "text/plain": [
       "array([0, 1, 2, 3, 4, 5, 6, 7, 8, 9])"
      ]
     },
     "execution_count": 302,
     "metadata": {},
     "output_type": "execute_result"
    }
   ],
   "source": [
    "ar=np.arange(10)\n",
    "ar"
   ]
  },
  {
   "cell_type": "code",
   "execution_count": 303,
   "id": "27ac3a69",
   "metadata": {},
   "outputs": [],
   "source": [
    "np.save('저장한닷',ar)     #저장"
   ]
  },
  {
   "cell_type": "code",
   "execution_count": 304,
   "id": "2a3b43f8",
   "metadata": {},
   "outputs": [
    {
     "data": {
      "text/plain": [
       "array([0, 1, 2, 3, 4, 5, 6, 7, 8, 9])"
      ]
     },
     "execution_count": 304,
     "metadata": {},
     "output_type": "execute_result"
    }
   ],
   "source": [
    "np.load('저장한닷.npy')     #불러오기"
   ]
  },
  {
   "cell_type": "markdown",
   "id": "6775f219",
   "metadata": {},
   "source": [
    "#### savez\n",
    "- 여러개 배열을 압축된 형식으로 저장"
   ]
  },
  {
   "cell_type": "code",
   "execution_count": 311,
   "id": "6cd16335",
   "metadata": {},
   "outputs": [],
   "source": [
    "np.savez('저장한닷닷',a=ar,b=ar*2,c=ar*3) #저장"
   ]
  },
  {
   "cell_type": "code",
   "execution_count": 316,
   "id": "cf4ddd6a",
   "metadata": {},
   "outputs": [
    {
     "data": {
      "text/plain": [
       "(array([0, 1, 2, 3, 4, 5, 6, 7, 8, 9]),\n",
       " array([ 0,  2,  4,  6,  8, 10, 12, 14, 16, 18]),\n",
       " array([ 0,  3,  6,  9, 12, 15, 18, 21, 24, 27]))"
      ]
     },
     "execution_count": 316,
     "metadata": {},
     "output_type": "execute_result"
    }
   ],
   "source": [
    "load=np.load('저장한닷닷.npz')\n",
    "load['a'], load['b'], load['c']"
   ]
  },
  {
   "cell_type": "markdown",
   "id": "f7aedc62",
   "metadata": {},
   "source": [
    "#### argsort\n",
    "- 정렬된 데이터들의 원본 인덱스 주소를 출력"
   ]
  },
  {
   "cell_type": "code",
   "execution_count": 318,
   "id": "f7314e13",
   "metadata": {},
   "outputs": [
    {
     "data": {
      "text/plain": [
       "array([25, 35, 33, 21, 22, 21, 25, 34, 30, 15, 26, 21, 46, 12, 25, 38, 39,\n",
       "       21, 32, 25, 44, 11, 47, 33, 13, 47, 45, 26, 31, 12])"
      ]
     },
     "execution_count": 318,
     "metadata": {},
     "output_type": "execute_result"
    }
   ],
   "source": [
    "ar=np.random.randint(10,50,30)\n",
    "ar"
   ]
  },
  {
   "cell_type": "code",
   "execution_count": 319,
   "id": "d49a5da3",
   "metadata": {},
   "outputs": [
    {
     "data": {
      "text/plain": [
       "array([21, 29, 13, 24,  9,  3,  5, 17, 11,  4, 19,  0, 14,  6, 10, 27,  8,\n",
       "       28, 18,  2, 23,  7,  1, 15, 16, 20, 26, 12, 22, 25], dtype=int64)"
      ]
     },
     "execution_count": 319,
     "metadata": {},
     "output_type": "execute_result"
    }
   ],
   "source": [
    "np.argsort(ar)"
   ]
  },
  {
   "cell_type": "code",
   "execution_count": 322,
   "id": "941008de",
   "metadata": {},
   "outputs": [
    {
     "data": {
      "text/plain": [
       "array([25, 22, 12, 26, 20, 16, 15,  1,  7, 23,  2, 18, 28,  8, 27, 10,  6,\n",
       "       14,  0, 19,  4, 11, 17,  5,  3,  9, 24, 13, 29, 21], dtype=int64)"
      ]
     },
     "execution_count": 322,
     "metadata": {},
     "output_type": "execute_result"
    }
   ],
   "source": [
    "#역으로 정렬된 인덱스 주소 출력\n",
    "\n",
    "np.argsort(ar)[::-1]"
   ]
  },
  {
   "cell_type": "markdown",
   "id": "ecfdac4e",
   "metadata": {},
   "source": [
    "#### 실습"
   ]
  },
  {
   "cell_type": "code",
   "execution_count": 326,
   "id": "88fe87bf",
   "metadata": {},
   "outputs": [
    {
     "name": "stdout",
     "output_type": "stream",
     "text": [
      "[[10 10  4  8  4]\n",
      " [ 3  2  6  9  7]\n",
      " [ 9  0  6  0  2]\n",
      " [ 9  0  2  7  4]\n",
      " [ 6  4  9  8  2]]\n",
      "[[ 0.01790963 -0.06247864  0.04573108  0.07532982 -0.01353476]\n",
      " [ 0.10940597  0.00382801 -0.00499009 -0.10089548 -0.02542894]\n",
      " [-0.03937385  0.03048739  0.06740037 -0.08927473  0.08319092]\n",
      " [-0.03322168 -0.03677627 -0.13063094  0.11217445  0.10144234]\n",
      " [ 0.0375282   0.18969171  0.09200902 -0.07116002 -0.18866635]]\n"
     ]
    },
    {
     "data": {
      "text/plain": [
       "array([[ 1.,  0.,  0., -0.,  0.],\n",
       "       [ 0.,  1., -0., -0., -0.],\n",
       "       [-0.,  0.,  1.,  0.,  0.],\n",
       "       [-0., -0., -0.,  1.,  0.],\n",
       "       [ 0.,  0., -0., -0.,  1.]])"
      ]
     },
     "execution_count": 326,
     "metadata": {},
     "output_type": "execute_result"
    }
   ],
   "source": [
    "#0-10 정수(5,5) 행렬의 역행렬 구하고, 두 행렬간 곱 구하기\n",
    "\n",
    "rand=np.random.randint(0,11,(5,5))\n",
    "print(rand)\n",
    "\n",
    "rand_inv=np.linalg.inv(rand)\n",
    "print(rand_inv)\n",
    "\n",
    "np.dot(rand,rand_inv).round()"
   ]
  },
  {
   "cell_type": "markdown",
   "id": "15c4ab3a",
   "metadata": {},
   "source": [
    "### 도전과제(7/6)\n",
    "- np.arange(336).reshape(6,7,8)에서 100번째 요소의 인덱스 구하기"
   ]
  },
  {
   "cell_type": "code",
   "execution_count": 334,
   "id": "2a68cb6d",
   "metadata": {},
   "outputs": [
    {
     "data": {
      "text/plain": [
       "array([[ 0,  1,  2,  3,  4,  5,  6,  7],\n",
       "       [ 8,  9, 10, 11, 12, 13, 14, 15],\n",
       "       [16, 17, 18, 19, 20, 21, 22, 23],\n",
       "       [24, 25, 26, 27, 28, 29, 30, 31],\n",
       "       [32, 33, 34, 35, 36, 37, 38, 39],\n",
       "       [40, 41, 42, 43, 44, 45, 46, 47],\n",
       "       [48, 49, 50, 51, 52, 53, 54, 55]])"
      ]
     },
     "execution_count": 334,
     "metadata": {},
     "output_type": "execute_result"
    }
   ],
   "source": [
    "ar=np.arange(336).reshape(6,7,8)\n",
    "ar[0]"
   ]
  },
  {
   "cell_type": "code",
   "execution_count": 330,
   "id": "a9a950e9",
   "metadata": {},
   "outputs": [
    {
     "name": "stdout",
     "output_type": "stream",
     "text": [
      "원소 100의 인덱스 번호는 (1,5,4)입니다.\n"
     ]
    }
   ],
   "source": [
    "for i in range(6):\n",
    "    for j in range(7):\n",
    "        for k in range(8):\n",
    "            if ar[i,j,k]==100:\n",
    "                print(f'원소 100의 인덱스 번호는 ({i},{j},{k})입니다.')"
   ]
  },
  {
   "cell_type": "code",
   "execution_count": 331,
   "id": "8be3a427",
   "metadata": {},
   "outputs": [
    {
     "data": {
      "text/plain": [
       "100"
      ]
     },
     "execution_count": 331,
     "metadata": {},
     "output_type": "execute_result"
    }
   ],
   "source": [
    "#확인하기\n",
    "ar[1,5,4]"
   ]
  },
  {
   "cell_type": "markdown",
   "id": "c8487d5f",
   "metadata": {},
   "source": [
    "### 과제2\n",
    "아래 가이드에 따라 고객별 연간 구매데이터를 생성하고 아래사항을 수행하기(관측치 1,000개)"
   ]
  },
  {
   "cell_type": "markdown",
   "id": "021e523a",
   "metadata": {},
   "source": [
    "#### Q1. 고객 속성(id, 성별, 연령, 거주지역) 데이터와 거래 데이터를 통합한 데이터 프레임 df를 생성하세요.\n",
    "\n",
    "거래 번호\n",
    "- id : 1 ~ 1000번 일련번호 - 개시 후 1천 건의 거래가 있었고 걍 거기에 넘버링한 거라고 이해해보자\n",
    "\n",
    "고객별 속성 데이터\n",
    "- cusno : 고객번호 1000개 랜덤\n",
    "- gender : 0,1 정수 난수 생성\n",
    "- age : 0 ~ 80사이 정수 난수 생성\n",
    "- region : 1 ~ 10 사이 정수 난수 생성\n",
    "\n",
    "거래 데이터\n",
    "- (day : 요일)\n",
    "- (date : 2020-01-01 ~ 2021-12-31 사이의 날짜 1000개 생성)\n",
    "- product_20 : 고가제품(10), 중가제품(20), 저가제품(30)로 구분제품코드 10,20,30\n",
    "- product_21 : 고가제품(10), 중가제품(20), 저가제품(30)로 구분제품코드 10,20,30\n",
    "- price_20 : 1000 ~ 50000 사이 실수 난수 생성\n",
    "- price_21 : 1000 ~ 50000 사이 실수 난수 생성\n",
    "- quantity_20 : 1 ~ 100 사이 정수 난수 생성\n",
    "- quantity_21 : 1 ~ 100 사이 정수 난수 생성\n",
    "- (time_20 : 01 ~ 24 사이 정수 난수 생성)\n",
    "- (time_21 : 01 ~ 24 사이 정수 난수 생성)\n",
    "- amount_20 : price_20 * quantity_20\n",
    "- amount_21 : price_21 * quantity_21\n",
    "- sales : 20년 대비 21년구매금액이 증가면 1, 감소면 0\n",
    "\n"
   ]
  },
  {
   "cell_type": "markdown",
   "id": "5c199d92",
   "metadata": {},
   "source": [
    "※주의할 점\n",
    "- date는 product20,21에 주의해서 작성\n",
    "    - day는 date의 요일\n",
    "    - time_20,21는 date의 시간"
   ]
  },
  {
   "cell_type": "code",
   "execution_count": 30,
   "id": "e5965d8e",
   "metadata": {
    "scrolled": true
   },
   "outputs": [
    {
     "data": {
      "text/html": [
       "<div>\n",
       "<style scoped>\n",
       "    .dataframe tbody tr th:only-of-type {\n",
       "        vertical-align: middle;\n",
       "    }\n",
       "\n",
       "    .dataframe tbody tr th {\n",
       "        vertical-align: top;\n",
       "    }\n",
       "\n",
       "    .dataframe thead th {\n",
       "        text-align: right;\n",
       "    }\n",
       "</style>\n",
       "<table border=\"1\" class=\"dataframe\">\n",
       "  <thead>\n",
       "    <tr style=\"text-align: right;\">\n",
       "      <th></th>\n",
       "      <th>id</th>\n",
       "      <th>cusno</th>\n",
       "      <th>gender</th>\n",
       "      <th>age</th>\n",
       "      <th>region</th>\n",
       "      <th>product_20</th>\n",
       "      <th>product_21</th>\n",
       "      <th>price_20</th>\n",
       "      <th>price_21</th>\n",
       "      <th>quantity_20</th>\n",
       "      <th>quantity_21</th>\n",
       "      <th>amount_20</th>\n",
       "      <th>amount_21</th>\n",
       "    </tr>\n",
       "  </thead>\n",
       "  <tbody>\n",
       "    <tr>\n",
       "      <th>0</th>\n",
       "      <td>1</td>\n",
       "      <td>2544</td>\n",
       "      <td>1</td>\n",
       "      <td>48</td>\n",
       "      <td>1</td>\n",
       "      <td>20</td>\n",
       "      <td>10</td>\n",
       "      <td>23225.68</td>\n",
       "      <td>96</td>\n",
       "      <td>91</td>\n",
       "      <td>2229665.28</td>\n",
       "      <td>2183282.01</td>\n",
       "      <td>0</td>\n",
       "    </tr>\n",
       "    <tr>\n",
       "      <th>1</th>\n",
       "      <td>2</td>\n",
       "      <td>3840</td>\n",
       "      <td>0</td>\n",
       "      <td>20</td>\n",
       "      <td>8</td>\n",
       "      <td>10</td>\n",
       "      <td>20</td>\n",
       "      <td>27716.36</td>\n",
       "      <td>92</td>\n",
       "      <td>5</td>\n",
       "      <td>2549905.12</td>\n",
       "      <td>52445.30</td>\n",
       "      <td>0</td>\n",
       "    </tr>\n",
       "    <tr>\n",
       "      <th>2</th>\n",
       "      <td>3</td>\n",
       "      <td>2859</td>\n",
       "      <td>0</td>\n",
       "      <td>54</td>\n",
       "      <td>7</td>\n",
       "      <td>10</td>\n",
       "      <td>10</td>\n",
       "      <td>24624.63</td>\n",
       "      <td>7</td>\n",
       "      <td>92</td>\n",
       "      <td>172372.41</td>\n",
       "      <td>2348875.00</td>\n",
       "      <td>1</td>\n",
       "    </tr>\n",
       "    <tr>\n",
       "      <th>3</th>\n",
       "      <td>4</td>\n",
       "      <td>4943</td>\n",
       "      <td>1</td>\n",
       "      <td>79</td>\n",
       "      <td>1</td>\n",
       "      <td>30</td>\n",
       "      <td>20</td>\n",
       "      <td>44141.70</td>\n",
       "      <td>51</td>\n",
       "      <td>20</td>\n",
       "      <td>2251226.70</td>\n",
       "      <td>204012.80</td>\n",
       "      <td>0</td>\n",
       "    </tr>\n",
       "    <tr>\n",
       "      <th>4</th>\n",
       "      <td>5</td>\n",
       "      <td>4927</td>\n",
       "      <td>0</td>\n",
       "      <td>10</td>\n",
       "      <td>3</td>\n",
       "      <td>30</td>\n",
       "      <td>20</td>\n",
       "      <td>26712.91</td>\n",
       "      <td>68</td>\n",
       "      <td>38</td>\n",
       "      <td>1816477.88</td>\n",
       "      <td>590478.20</td>\n",
       "      <td>0</td>\n",
       "    </tr>\n",
       "  </tbody>\n",
       "</table>\n",
       "</div>"
      ],
      "text/plain": [
       "   id  cusno  gender  age  region  product_20  product_21  price_20  price_21  \\\n",
       "0   1   2544       1   48       1          20          10  23225.68        96   \n",
       "1   2   3840       0   20       8          10          20  27716.36        92   \n",
       "2   3   2859       0   54       7          10          10  24624.63         7   \n",
       "3   4   4943       1   79       1          30          20  44141.70        51   \n",
       "4   5   4927       0   10       3          30          20  26712.91        68   \n",
       "\n",
       "   quantity_20  quantity_21   amount_20  amount_21  \n",
       "0           91   2229665.28  2183282.01          0  \n",
       "1            5   2549905.12    52445.30          0  \n",
       "2           92    172372.41  2348875.00          1  \n",
       "3           20   2251226.70   204012.80          0  \n",
       "4           38   1816477.88   590478.20          0  "
      ]
     },
     "execution_count": 30,
     "metadata": {},
     "output_type": "execute_result"
    }
   ],
   "source": [
    "import numpy as np\n",
    "import pandas as pd\n",
    "import random\n",
    "\n",
    "np.random.seed(100)\n",
    "\n",
    "#고객 데이터프레임 생성\n",
    "id=pd.Series(np.arange(1,1001))\n",
    "cusno=pd.Series(np.random.randint(1000,5000,size=1000))\n",
    "gender=pd.Series(np.random.randint(0,2,size=1000))\n",
    "age=pd.Series(np.random.randint(0,80,size=1000))\n",
    "region=pd.Series(np.random.randint(1,11,size=1000))\n",
    "\n",
    "customer=pd.concat([id,cusno,gender,age,region],axis=1)\n",
    "customer.rename(columns={0:'id',1:'cusno',2:'gender',3:'age',4:'region'},\n",
    "               inplace=True)\n",
    "\n",
    "\n",
    "#구매 데이터프레임 생성\n",
    "product_20=pd.Series(np.random.choice([10,20,30],size=1000))\n",
    "product_21=pd.Series(np.random.choice([10,20,30],size=1000))\n",
    "price_20=pd.Series(np.random.uniform(1000,50000,size=1000).round(2))\n",
    "price_21=pd.Series(np.random.uniform(1000,50000,size=1000).round(2))\n",
    "quantity_20=pd.Series(np.random.randint(1,100,size=1000) )\n",
    "quantity_21=pd.Series(np.random.randint(1,100,size=1000))\n",
    "amount_20=pd.Series(np.array(price_20*quantity_20).round(2))\n",
    "amount_21=pd.Series(np.array(price_21*quantity_21).round(2))\n",
    "sales=pd.Series(np.where(amount_20<amount_21,1,0))\n",
    "\n",
    "purchase=pd.concat([product_20,product_21,price_20,\n",
    "                    quantity_20,quantity_21,amount_20,\n",
    "                    amount_21,sales],axis=1)\n",
    "purchase.rename(columns={0:'product_20',\n",
    "                         1:'product_21',\n",
    "                         2:'price_20',\n",
    "                         3:'price_21',\n",
    "                         4:'quantity_20',\n",
    "                         5:'quantity_21',\n",
    "                         6:'amount_20',\n",
    "                         7:'amount_21',\n",
    "                         8:'sales'},\n",
    "               inplace=True)\n",
    "\n",
    "\n",
    "#데이터프레임 합치기\n",
    "df=customer.join(purchase,how='outer')\n",
    "df.head()"
   ]
  },
  {
   "cell_type": "code",
   "execution_count": 31,
   "id": "b8148e63",
   "metadata": {},
   "outputs": [
    {
     "name": "stdout",
     "output_type": "stream",
     "text": [
      "<class 'pandas.core.frame.DataFrame'>\n",
      "RangeIndex: 1000 entries, 0 to 999\n",
      "Data columns (total 13 columns):\n",
      " #   Column       Non-Null Count  Dtype  \n",
      "---  ------       --------------  -----  \n",
      " 0   id           1000 non-null   int32  \n",
      " 1   cusno        1000 non-null   int32  \n",
      " 2   gender       1000 non-null   int32  \n",
      " 3   age          1000 non-null   int32  \n",
      " 4   region       1000 non-null   int32  \n",
      " 5   product_20   1000 non-null   int32  \n",
      " 6   product_21   1000 non-null   int32  \n",
      " 7   price_20     1000 non-null   float64\n",
      " 8   price_21     1000 non-null   int32  \n",
      " 9   quantity_20  1000 non-null   int32  \n",
      " 10  quantity_21  1000 non-null   float64\n",
      " 11  amount_20    1000 non-null   float64\n",
      " 12  amount_21    1000 non-null   int32  \n",
      "dtypes: float64(3), int32(10)\n",
      "memory usage: 62.6 KB\n"
     ]
    }
   ],
   "source": [
    "df.info()"
   ]
  },
  {
   "cell_type": "code",
   "execution_count": 32,
   "id": "517108c1",
   "metadata": {},
   "outputs": [
    {
     "data": {
      "text/plain": [
       "118"
      ]
     },
     "execution_count": 32,
     "metadata": {},
     "output_type": "execute_result"
    }
   ],
   "source": [
    "df['cusno'].duplicated().sum()"
   ]
  },
  {
   "cell_type": "markdown",
   "id": "24496432",
   "metadata": {},
   "source": [
    "#### Q2.data 유의미하게 5가지 도출"
   ]
  },
  {
   "cell_type": "markdown",
   "id": "d461ceed",
   "metadata": {},
   "source": [
    "1. 코로나로 인해, 21년도에 새로 유입된 소비자는 20년도보다 10%p 상승\n",
    "    - product_20 데이터 90개를 np.nan화,cusno 200개 중복 x\n",
    "2. 21년도 이탈 고객은 주로 남성들\n",
    "    - product_20가 np.nan이 아니고, product_21 데이터 90개를 np.nan화, gender을 거의 남성으로 전환\n",
    "3. 코로나로 인해, 생필품 구비율이 증가해 20년도 대비 21년도 중저가 소비가 증가함\n",
    "    - product_21이 10,20이면, quantity_21 증가\n",
    "4. 재구매가 자주 이루어진 고객은 보통 여성들\n",
    "    - cusno의 랜덤 범위를 줄이고, 중복된 cusno의 gender을 거의 여성으로 전환\n",
    "5. "
   ]
  },
  {
   "cell_type": "markdown",
   "id": "9f27f87f",
   "metadata": {},
   "source": [
    "##### 1. 20년도, 21년도 재구매가 이루어진 고객수의 80%가 여성"
   ]
  },
  {
   "cell_type": "code",
   "execution_count": 33,
   "id": "08620bdf",
   "metadata": {
    "scrolled": true
   },
   "outputs": [
    {
     "name": "stdout",
     "output_type": "stream",
     "text": [
      "142    1\n",
      "796    1\n",
      "871    1\n",
      "866    1\n",
      "864    1\n",
      "853    1\n",
      "846    1\n",
      "844    1\n",
      "839    1\n",
      "837    1\n",
      "826    1\n",
      "820    1\n",
      "818    1\n",
      "804    1\n",
      "788    1\n",
      "875    1\n",
      "787    1\n",
      "783    1\n",
      "777    1\n",
      "769    1\n",
      "767    1\n",
      "760    1\n",
      "759    1\n",
      "755    1\n",
      "751    1\n",
      "743    1\n",
      "741    1\n",
      "736    1\n",
      "872    1\n",
      "877    1\n",
      "158    1\n",
      "950    1\n",
      "987    1\n",
      "981    1\n",
      "980    1\n",
      "975    1\n",
      "974    1\n",
      "971    1\n",
      "969    1\n",
      "964    1\n",
      "959    1\n",
      "953    1\n",
      "952    1\n",
      "951    1\n",
      "949    1\n",
      "888    1\n",
      "942    1\n",
      "936    1\n",
      "935    1\n",
      "932    1\n",
      "929    1\n",
      "917    1\n",
      "915    1\n",
      "914    1\n",
      "910    1\n",
      "905    1\n",
      "901    1\n",
      "896    1\n",
      "733    1\n",
      "725    1\n",
      "720    1\n",
      "387    1\n",
      "541    1\n",
      "540    1\n",
      "531    1\n",
      "523    1\n",
      "515    1\n",
      "513    1\n",
      "485    1\n",
      "481    1\n",
      "446    1\n",
      "440    1\n",
      "430    1\n",
      "398    1\n",
      "341    1\n",
      "715    1\n",
      "340    1\n",
      "324    1\n",
      "319    1\n",
      "311    1\n",
      "301    1\n",
      "298    1\n",
      "291    1\n",
      "286    1\n",
      "266    1\n",
      "255    1\n",
      "243    1\n",
      "228    1\n",
      "549    1\n",
      "555    1\n",
      "561    1\n",
      "563    1\n",
      "707    1\n",
      "705    1\n",
      "700    1\n",
      "699    1\n",
      "698    1\n",
      "695    1\n",
      "691    1\n",
      "685    1\n",
      "684    1\n",
      "680    1\n",
      "676    1\n",
      "672    1\n",
      "661    1\n",
      "660    1\n",
      "652    1\n",
      "641    1\n",
      "636    1\n",
      "634    1\n",
      "632    1\n",
      "624    1\n",
      "619    1\n",
      "602    1\n",
      "583    1\n",
      "580    1\n",
      "573    1\n",
      "988    1\n",
      "Name: id, dtype: int64\n",
      "[1]\n"
     ]
    }
   ],
   "source": [
    "#재구매 횟수\n",
    "pd.set_option('display.max_row',120)\n",
    "\n",
    "re_purchase=df['cusno'].duplicated()\n",
    "print(df.loc[re_purchase,'id'].value_counts())\n",
    "print(df.loc[re_purchase,'id'].value_counts().unique())\n"
   ]
  },
  {
   "cell_type": "code",
   "execution_count": 34,
   "id": "8e70fb6b",
   "metadata": {},
   "outputs": [
    {
     "name": "stdout",
     "output_type": "stream",
     "text": [
      "총 재구매 고객 수:  118\n",
      "재구매 고객의 80%:  94\n",
      "재구매 고객 중 여성 수:  59\n",
      "재구매 고객 중 남성 수:  59\n"
     ]
    }
   ],
   "source": [
    "#재구매 고객\n",
    "\n",
    "before_all=len(df[re_purchase])   #재구매 고객수\n",
    "print('총 재구매 고객 수: ',before_all)\n",
    "\n",
    "print('재구매 고객의 80%: ',int(before_all*0.8))\n",
    "pd.set_option('display.max_row',120)\n",
    "\n",
    "df.loc[re_purchase,'id'].value_counts().unique()\n",
    "before_f=len(df.loc[(re_purchase)&(df['gender']==1),'gender']) #그 중 여성의 수\n",
    "before_m=len(df.loc[(re_purchase)&(df['gender']==0),'gender'])\n",
    "print('재구매 고객 중 여성 수: ',before_f)\n",
    "print('재구매 고객 중 남성 수: ',before_m)"
   ]
  },
  {
   "cell_type": "code",
   "execution_count": 35,
   "id": "59faa442",
   "metadata": {},
   "outputs": [
    {
     "name": "stdout",
     "output_type": "stream",
     "text": [
      "[900, 719, 714, 776, 323, 290, 825, 740, 874, 974, 803, 951, 540, 560, 735, 754, 539, 950, 651, 671, 683, 697, 227, 871, 863, 913, 562, 631, 635, 732, 931, 618, 310, 980, 750]\n",
      "35\n"
     ]
    }
   ],
   "source": [
    "#재구매 남성 인덱스 사용하여 36개를 랜덤 추출 \n",
    "rep_g_idx=df.loc[(re_purchase)&(df['gender']==0)].index.tolist()\n",
    "rep_g_idx=random.sample(rep_g_idx,35)\n",
    "\n",
    "print(rep_g_idx)\n",
    "print(len(rep_g_idx))"
   ]
  },
  {
   "cell_type": "code",
   "execution_count": 36,
   "id": "2e390703",
   "metadata": {},
   "outputs": [
    {
     "name": "stdout",
     "output_type": "stream",
     "text": [
      "변환 후 재구매 여성 고객 수:  94\n",
      "변환 후 재구매 남성 고객 수:  24\n"
     ]
    }
   ],
   "source": [
    "#인덱스를 활용하여 여성으로 변환\n",
    "\n",
    "df.loc[rep_g_idx,'gender']=1\n",
    "\n",
    "after_f=len(df[(re_purchase)&(df['gender']==1)])\n",
    "after_m=len(df[(re_purchase)&(df['gender']==0)])\n",
    "print('변환 후 재구매 여성 고객 수: ',after_f)\n",
    "print('변환 후 재구매 남성 고객 수: ',after_m)"
   ]
  },
  {
   "cell_type": "code",
   "execution_count": 37,
   "id": "547e23b7",
   "metadata": {},
   "outputs": [
    {
     "name": "stdout",
     "output_type": "stream",
     "text": [
      "0      0\n",
      "1      0\n",
      "2      0\n",
      "3      0\n",
      "4      0\n",
      "      ..\n",
      "995    0\n",
      "996    0\n",
      "997    0\n",
      "998    0\n",
      "999    0\n",
      "Name: re_purchase, Length: 1000, dtype: int64\n"
     ]
    }
   ],
   "source": [
    "#재구매여부 변수를 데이터프레임에 추가\n",
    "\n",
    "df['re_purchase']=re_purchase.replace([False,True],[0,1])\n",
    "print(df['re_purchase'])"
   ]
  },
  {
   "cell_type": "code",
   "execution_count": 38,
   "id": "22f21b7a",
   "metadata": {},
   "outputs": [
    {
     "data": {
      "text/html": [
       "<div>\n",
       "<style scoped>\n",
       "    .dataframe tbody tr th:only-of-type {\n",
       "        vertical-align: middle;\n",
       "    }\n",
       "\n",
       "    .dataframe tbody tr th {\n",
       "        vertical-align: top;\n",
       "    }\n",
       "\n",
       "    .dataframe thead th {\n",
       "        text-align: right;\n",
       "    }\n",
       "</style>\n",
       "<table border=\"1\" class=\"dataframe\">\n",
       "  <thead>\n",
       "    <tr style=\"text-align: right;\">\n",
       "      <th></th>\n",
       "      <th>id</th>\n",
       "      <th>cusno</th>\n",
       "      <th>gender</th>\n",
       "      <th>age</th>\n",
       "      <th>region</th>\n",
       "      <th>product_20</th>\n",
       "      <th>product_21</th>\n",
       "      <th>price_20</th>\n",
       "      <th>price_21</th>\n",
       "      <th>quantity_20</th>\n",
       "      <th>quantity_21</th>\n",
       "      <th>amount_20</th>\n",
       "      <th>amount_21</th>\n",
       "      <th>re_purchase</th>\n",
       "    </tr>\n",
       "  </thead>\n",
       "  <tbody>\n",
       "    <tr>\n",
       "      <th>0</th>\n",
       "      <td>1</td>\n",
       "      <td>2544</td>\n",
       "      <td>1</td>\n",
       "      <td>48</td>\n",
       "      <td>1</td>\n",
       "      <td>20</td>\n",
       "      <td>10</td>\n",
       "      <td>23225.68</td>\n",
       "      <td>96</td>\n",
       "      <td>91</td>\n",
       "      <td>2229665.28</td>\n",
       "      <td>2183282.01</td>\n",
       "      <td>0</td>\n",
       "      <td>0</td>\n",
       "    </tr>\n",
       "    <tr>\n",
       "      <th>1</th>\n",
       "      <td>2</td>\n",
       "      <td>3840</td>\n",
       "      <td>0</td>\n",
       "      <td>20</td>\n",
       "      <td>8</td>\n",
       "      <td>10</td>\n",
       "      <td>20</td>\n",
       "      <td>27716.36</td>\n",
       "      <td>92</td>\n",
       "      <td>5</td>\n",
       "      <td>2549905.12</td>\n",
       "      <td>52445.30</td>\n",
       "      <td>0</td>\n",
       "      <td>0</td>\n",
       "    </tr>\n",
       "    <tr>\n",
       "      <th>2</th>\n",
       "      <td>3</td>\n",
       "      <td>2859</td>\n",
       "      <td>0</td>\n",
       "      <td>54</td>\n",
       "      <td>7</td>\n",
       "      <td>10</td>\n",
       "      <td>10</td>\n",
       "      <td>24624.63</td>\n",
       "      <td>7</td>\n",
       "      <td>92</td>\n",
       "      <td>172372.41</td>\n",
       "      <td>2348875.00</td>\n",
       "      <td>1</td>\n",
       "      <td>0</td>\n",
       "    </tr>\n",
       "    <tr>\n",
       "      <th>3</th>\n",
       "      <td>4</td>\n",
       "      <td>4943</td>\n",
       "      <td>1</td>\n",
       "      <td>79</td>\n",
       "      <td>1</td>\n",
       "      <td>30</td>\n",
       "      <td>20</td>\n",
       "      <td>44141.70</td>\n",
       "      <td>51</td>\n",
       "      <td>20</td>\n",
       "      <td>2251226.70</td>\n",
       "      <td>204012.80</td>\n",
       "      <td>0</td>\n",
       "      <td>0</td>\n",
       "    </tr>\n",
       "    <tr>\n",
       "      <th>4</th>\n",
       "      <td>5</td>\n",
       "      <td>4927</td>\n",
       "      <td>0</td>\n",
       "      <td>10</td>\n",
       "      <td>3</td>\n",
       "      <td>30</td>\n",
       "      <td>20</td>\n",
       "      <td>26712.91</td>\n",
       "      <td>68</td>\n",
       "      <td>38</td>\n",
       "      <td>1816477.88</td>\n",
       "      <td>590478.20</td>\n",
       "      <td>0</td>\n",
       "      <td>0</td>\n",
       "    </tr>\n",
       "  </tbody>\n",
       "</table>\n",
       "</div>"
      ],
      "text/plain": [
       "   id  cusno  gender  age  region  product_20  product_21  price_20  price_21  \\\n",
       "0   1   2544       1   48       1          20          10  23225.68        96   \n",
       "1   2   3840       0   20       8          10          20  27716.36        92   \n",
       "2   3   2859       0   54       7          10          10  24624.63         7   \n",
       "3   4   4943       1   79       1          30          20  44141.70        51   \n",
       "4   5   4927       0   10       3          30          20  26712.91        68   \n",
       "\n",
       "   quantity_20  quantity_21   amount_20  amount_21  re_purchase  \n",
       "0           91   2229665.28  2183282.01          0            0  \n",
       "1            5   2549905.12    52445.30          0            0  \n",
       "2           92    172372.41  2348875.00          1            0  \n",
       "3           20   2251226.70   204012.80          0            0  \n",
       "4           38   1816477.88   590478.20          0            0  "
      ]
     },
     "execution_count": 38,
     "metadata": {},
     "output_type": "execute_result"
    }
   ],
   "source": [
    "df.head()"
   ]
  },
  {
   "cell_type": "code",
   "execution_count": 39,
   "id": "6604ee0c",
   "metadata": {},
   "outputs": [
    {
     "name": "stdout",
     "output_type": "stream",
     "text": [
      "<class 'pandas.core.frame.DataFrame'>\n",
      "RangeIndex: 1000 entries, 0 to 999\n",
      "Data columns (total 14 columns):\n",
      " #   Column       Non-Null Count  Dtype  \n",
      "---  ------       --------------  -----  \n",
      " 0   id           1000 non-null   int32  \n",
      " 1   cusno        1000 non-null   int32  \n",
      " 2   gender       1000 non-null   int32  \n",
      " 3   age          1000 non-null   int32  \n",
      " 4   region       1000 non-null   int32  \n",
      " 5   product_20   1000 non-null   int32  \n",
      " 6   product_21   1000 non-null   int32  \n",
      " 7   price_20     1000 non-null   float64\n",
      " 8   price_21     1000 non-null   int32  \n",
      " 9   quantity_20  1000 non-null   int32  \n",
      " 10  quantity_21  1000 non-null   float64\n",
      " 11  amount_20    1000 non-null   float64\n",
      " 12  amount_21    1000 non-null   int32  \n",
      " 13  re_purchase  1000 non-null   int64  \n",
      "dtypes: float64(3), int32(10), int64(1)\n",
      "memory usage: 70.4 KB\n"
     ]
    }
   ],
   "source": [
    "df.info()"
   ]
  },
  {
   "cell_type": "markdown",
   "id": "9c67adcd",
   "metadata": {},
   "source": [
    "##### 2. 20년도에 구매가 이루어졌으나, 21년도 구매 이력이 없는 이탈 고객 수의 80%가 남자\n",
    "- 조건: 재구매 고객 제외"
   ]
  },
  {
   "cell_type": "code",
   "execution_count": 40,
   "id": "63388b52",
   "metadata": {},
   "outputs": [
    {
     "name": "stdout",
     "output_type": "stream",
     "text": [
      "재구매 고객이 아닌 총 고객수:  882\n"
     ]
    }
   ],
   "source": [
    "#재구매 고객이 아닌 고객 확인\n",
    "\n",
    "n_all_re_purchase=len(df[(re_purchase==False)])\n",
    "print('재구매 고객이 아닌 총 고객수: ',n_all_re_purchase)"
   ]
  },
  {
   "cell_type": "code",
   "execution_count": 41,
   "id": "c010848d",
   "metadata": {},
   "outputs": [
    {
     "name": "stdout",
     "output_type": "stream",
     "text": [
      "이탈 남자 고객 수:\n",
      " product_21    0\n",
      "dtype: int64\n",
      "이탈 여자 고객 수:\n",
      " product_21    0\n",
      "dtype: int64\n"
     ]
    }
   ],
   "source": [
    "#현재 데이터 내 21년도 구매이력이 없는 고객 수 확인\n",
    "\n",
    "before_m=df.loc[(re_purchase==False)&(df['gender']==0),\n",
    "                ['product_21']].isnull().sum()\n",
    "before_f=df.loc[(re_purchase==False)&(df['gender']==1),\n",
    "                ['product_21']].isnull().sum()\n",
    "\n",
    "print('이탈 남자 고객 수:\\n',before_m)\n",
    "print('이탈 여자 고객 수:\\n',before_f)"
   ]
  },
  {
   "cell_type": "code",
   "execution_count": 42,
   "id": "dc27af80",
   "metadata": {
    "scrolled": true
   },
   "outputs": [
    {
     "name": "stdout",
     "output_type": "stream",
     "text": [
      "이탈 해야할 남자 고객 수:  72 명\n",
      "이탈 해야할 여자 고객 수:  18 명\n"
     ]
    }
   ],
   "source": [
    "#21년도 구매이력 없는 90명의 이탈고객 만들기\n",
    "\n",
    "print('이탈 해야할 남자 고객 수: ',int(90*0.8),'명')\n",
    "print('이탈 해야할 여자 고객 수: ',int(90*0.2),'명')"
   ]
  },
  {
   "cell_type": "code",
   "execution_count": 43,
   "id": "13c22116",
   "metadata": {},
   "outputs": [],
   "source": [
    "#90명의 이탈 고객: 남자:72명, 여자:12명의 인덱스 랜덤 추출\n",
    "bye_m_idx=df.loc[(re_purchase==False)&(df['gender']==0)].index.tolist()\n",
    "bye_m_idx=random.sample(bye_m_idx,72)\n",
    "\n",
    "bye_f_idx=df.loc[(re_purchase==False)&(df['gender']==1)].index.tolist()\n",
    "bye_f_idx=random.sample(bye_f_idx,18)"
   ]
  },
  {
   "cell_type": "code",
   "execution_count": 44,
   "id": "172b7b34",
   "metadata": {
    "scrolled": true
   },
   "outputs": [
    {
     "name": "stdout",
     "output_type": "stream",
     "text": [
      "이탈한 남자 고객 수:\n",
      " product_21    72\n",
      "dtype: int64\n",
      "이탈한 여자 고객 수:\n",
      " product_21    18\n",
      "dtype: int64\n"
     ]
    }
   ],
   "source": [
    "#추출된 인덱스로 21년도 구매이력 지우기 \n",
    "df.loc[bye_m_idx,['product_21','price_21','quantity_21','amount_21']]=np.nan\n",
    "df.loc[bye_f_idx,['product_21','price_21','quantity_21','amount_21']]=np.nan\n",
    "\n",
    "after_m=df.loc[(re_purchase==False)&(df['gender']==0),\n",
    "                ['product_21']].isnull().sum()\n",
    "after_f=df.loc[(re_purchase==False)&(df['gender']==1),\n",
    "                ['product_21']].isnull().sum()\n",
    "\n",
    "print('이탈한 남자 고객 수:\\n',after_m)\n",
    "print('이탈한 여자 고객 수:\\n',after_f)"
   ]
  },
  {
   "cell_type": "code",
   "execution_count": 45,
   "id": "648dcb22",
   "metadata": {},
   "outputs": [
    {
     "data": {
      "text/plain": [
       "0    910\n",
       "1     90\n",
       "Name: bye_purchase, dtype: int64"
      ]
     },
     "execution_count": 45,
     "metadata": {},
     "output_type": "execute_result"
    }
   ],
   "source": [
    "#이탈 고객 여부 변수 생성\n",
    "\n",
    "df['bye_purchase']=np.where(df['product_21'].isnull(),1,0)\n",
    "df['bye_purchase'].value_counts()"
   ]
  },
  {
   "cell_type": "markdown",
   "id": "85a1832f",
   "metadata": {},
   "source": [
    "#### Q3. df 를 탐색적 분석을 통하여 인사이트를 도출하세요."
   ]
  },
  {
   "cell_type": "code",
   "execution_count": 46,
   "id": "1884f133",
   "metadata": {},
   "outputs": [
    {
     "data": {
      "text/html": [
       "<div>\n",
       "<style scoped>\n",
       "    .dataframe tbody tr th:only-of-type {\n",
       "        vertical-align: middle;\n",
       "    }\n",
       "\n",
       "    .dataframe tbody tr th {\n",
       "        vertical-align: top;\n",
       "    }\n",
       "\n",
       "    .dataframe thead th {\n",
       "        text-align: right;\n",
       "    }\n",
       "</style>\n",
       "<table border=\"1\" class=\"dataframe\">\n",
       "  <thead>\n",
       "    <tr style=\"text-align: right;\">\n",
       "      <th></th>\n",
       "      <th>id</th>\n",
       "      <th>cusno</th>\n",
       "      <th>gender</th>\n",
       "      <th>age</th>\n",
       "      <th>region</th>\n",
       "      <th>product_20</th>\n",
       "      <th>product_21</th>\n",
       "      <th>price_20</th>\n",
       "      <th>price_21</th>\n",
       "      <th>quantity_20</th>\n",
       "      <th>quantity_21</th>\n",
       "      <th>amount_20</th>\n",
       "      <th>amount_21</th>\n",
       "      <th>re_purchase</th>\n",
       "      <th>bye_purchase</th>\n",
       "    </tr>\n",
       "  </thead>\n",
       "  <tbody>\n",
       "    <tr>\n",
       "      <th>id</th>\n",
       "      <td>1.000000</td>\n",
       "      <td>-0.033492</td>\n",
       "      <td>0.044722</td>\n",
       "      <td>0.010530</td>\n",
       "      <td>0.010237</td>\n",
       "      <td>-0.021646</td>\n",
       "      <td>0.038882</td>\n",
       "      <td>-0.032281</td>\n",
       "      <td>0.014808</td>\n",
       "      <td>-0.018543</td>\n",
       "      <td>-0.025738</td>\n",
       "      <td>0.002609</td>\n",
       "      <td>-0.003711</td>\n",
       "      <td>0.243007</td>\n",
       "      <td>-0.004721</td>\n",
       "    </tr>\n",
       "    <tr>\n",
       "      <th>cusno</th>\n",
       "      <td>-0.033492</td>\n",
       "      <td>1.000000</td>\n",
       "      <td>-0.031681</td>\n",
       "      <td>-0.018124</td>\n",
       "      <td>0.045879</td>\n",
       "      <td>0.050931</td>\n",
       "      <td>0.015965</td>\n",
       "      <td>-0.003011</td>\n",
       "      <td>0.021398</td>\n",
       "      <td>0.023929</td>\n",
       "      <td>0.001942</td>\n",
       "      <td>0.062306</td>\n",
       "      <td>0.055870</td>\n",
       "      <td>-0.043672</td>\n",
       "      <td>-0.012586</td>\n",
       "    </tr>\n",
       "    <tr>\n",
       "      <th>gender</th>\n",
       "      <td>0.044722</td>\n",
       "      <td>-0.031681</td>\n",
       "      <td>1.000000</td>\n",
       "      <td>-0.027116</td>\n",
       "      <td>-0.001476</td>\n",
       "      <td>0.039173</td>\n",
       "      <td>-0.027668</td>\n",
       "      <td>0.019647</td>\n",
       "      <td>0.009751</td>\n",
       "      <td>0.013351</td>\n",
       "      <td>0.026344</td>\n",
       "      <td>0.047681</td>\n",
       "      <td>0.042548</td>\n",
       "      <td>0.215520</td>\n",
       "      <td>-0.189951</td>\n",
       "    </tr>\n",
       "    <tr>\n",
       "      <th>age</th>\n",
       "      <td>0.010530</td>\n",
       "      <td>-0.018124</td>\n",
       "      <td>-0.027116</td>\n",
       "      <td>1.000000</td>\n",
       "      <td>-0.046480</td>\n",
       "      <td>0.007771</td>\n",
       "      <td>-0.057740</td>\n",
       "      <td>-0.028799</td>\n",
       "      <td>0.019117</td>\n",
       "      <td>0.008729</td>\n",
       "      <td>-0.029064</td>\n",
       "      <td>0.026291</td>\n",
       "      <td>-0.001762</td>\n",
       "      <td>-0.022512</td>\n",
       "      <td>-0.023282</td>\n",
       "    </tr>\n",
       "    <tr>\n",
       "      <th>region</th>\n",
       "      <td>0.010237</td>\n",
       "      <td>0.045879</td>\n",
       "      <td>-0.001476</td>\n",
       "      <td>-0.046480</td>\n",
       "      <td>1.000000</td>\n",
       "      <td>-0.065325</td>\n",
       "      <td>0.034207</td>\n",
       "      <td>-0.019255</td>\n",
       "      <td>-0.055529</td>\n",
       "      <td>0.008131</td>\n",
       "      <td>-0.050789</td>\n",
       "      <td>0.020932</td>\n",
       "      <td>0.024129</td>\n",
       "      <td>0.024482</td>\n",
       "      <td>0.058905</td>\n",
       "    </tr>\n",
       "    <tr>\n",
       "      <th>product_20</th>\n",
       "      <td>-0.021646</td>\n",
       "      <td>0.050931</td>\n",
       "      <td>0.039173</td>\n",
       "      <td>0.007771</td>\n",
       "      <td>-0.065325</td>\n",
       "      <td>1.000000</td>\n",
       "      <td>0.018110</td>\n",
       "      <td>0.018662</td>\n",
       "      <td>0.051633</td>\n",
       "      <td>0.000444</td>\n",
       "      <td>0.028182</td>\n",
       "      <td>-0.036980</td>\n",
       "      <td>-0.033714</td>\n",
       "      <td>-0.055099</td>\n",
       "      <td>0.005815</td>\n",
       "    </tr>\n",
       "    <tr>\n",
       "      <th>product_21</th>\n",
       "      <td>0.038882</td>\n",
       "      <td>0.015965</td>\n",
       "      <td>-0.027668</td>\n",
       "      <td>-0.057740</td>\n",
       "      <td>0.034207</td>\n",
       "      <td>0.018110</td>\n",
       "      <td>1.000000</td>\n",
       "      <td>-0.026793</td>\n",
       "      <td>0.024106</td>\n",
       "      <td>-0.031712</td>\n",
       "      <td>-0.004420</td>\n",
       "      <td>-0.007087</td>\n",
       "      <td>-0.002529</td>\n",
       "      <td>-0.009147</td>\n",
       "      <td>NaN</td>\n",
       "    </tr>\n",
       "    <tr>\n",
       "      <th>price_20</th>\n",
       "      <td>-0.032281</td>\n",
       "      <td>-0.003011</td>\n",
       "      <td>0.019647</td>\n",
       "      <td>-0.028799</td>\n",
       "      <td>-0.019255</td>\n",
       "      <td>0.018662</td>\n",
       "      <td>-0.026793</td>\n",
       "      <td>1.000000</td>\n",
       "      <td>-0.012461</td>\n",
       "      <td>-0.002285</td>\n",
       "      <td>0.651844</td>\n",
       "      <td>-0.054399</td>\n",
       "      <td>-0.395212</td>\n",
       "      <td>0.002984</td>\n",
       "      <td>0.008108</td>\n",
       "    </tr>\n",
       "    <tr>\n",
       "      <th>price_21</th>\n",
       "      <td>0.014808</td>\n",
       "      <td>0.021398</td>\n",
       "      <td>0.009751</td>\n",
       "      <td>0.019117</td>\n",
       "      <td>-0.055529</td>\n",
       "      <td>0.051633</td>\n",
       "      <td>0.024106</td>\n",
       "      <td>-0.012461</td>\n",
       "      <td>1.000000</td>\n",
       "      <td>0.011452</td>\n",
       "      <td>0.648802</td>\n",
       "      <td>-0.050820</td>\n",
       "      <td>-0.443529</td>\n",
       "      <td>0.014290</td>\n",
       "      <td>NaN</td>\n",
       "    </tr>\n",
       "    <tr>\n",
       "      <th>quantity_20</th>\n",
       "      <td>-0.018543</td>\n",
       "      <td>0.023929</td>\n",
       "      <td>0.013351</td>\n",
       "      <td>0.008729</td>\n",
       "      <td>0.008131</td>\n",
       "      <td>0.000444</td>\n",
       "      <td>-0.031712</td>\n",
       "      <td>-0.002285</td>\n",
       "      <td>0.011452</td>\n",
       "      <td>1.000000</td>\n",
       "      <td>0.002630</td>\n",
       "      <td>0.667178</td>\n",
       "      <td>0.362150</td>\n",
       "      <td>-0.029415</td>\n",
       "      <td>0.033992</td>\n",
       "    </tr>\n",
       "    <tr>\n",
       "      <th>quantity_21</th>\n",
       "      <td>-0.025738</td>\n",
       "      <td>0.001942</td>\n",
       "      <td>0.026344</td>\n",
       "      <td>-0.029064</td>\n",
       "      <td>-0.050789</td>\n",
       "      <td>0.028182</td>\n",
       "      <td>-0.004420</td>\n",
       "      <td>0.651844</td>\n",
       "      <td>0.648802</td>\n",
       "      <td>0.002630</td>\n",
       "      <td>1.000000</td>\n",
       "      <td>-0.068767</td>\n",
       "      <td>-0.585611</td>\n",
       "      <td>0.008153</td>\n",
       "      <td>NaN</td>\n",
       "    </tr>\n",
       "    <tr>\n",
       "      <th>amount_20</th>\n",
       "      <td>0.002609</td>\n",
       "      <td>0.062306</td>\n",
       "      <td>0.047681</td>\n",
       "      <td>0.026291</td>\n",
       "      <td>0.020932</td>\n",
       "      <td>-0.036980</td>\n",
       "      <td>-0.007087</td>\n",
       "      <td>-0.054399</td>\n",
       "      <td>-0.050820</td>\n",
       "      <td>0.667178</td>\n",
       "      <td>-0.068767</td>\n",
       "      <td>1.000000</td>\n",
       "      <td>0.571251</td>\n",
       "      <td>-0.028865</td>\n",
       "      <td>0.011218</td>\n",
       "    </tr>\n",
       "    <tr>\n",
       "      <th>amount_21</th>\n",
       "      <td>-0.003711</td>\n",
       "      <td>0.055870</td>\n",
       "      <td>0.042548</td>\n",
       "      <td>-0.001762</td>\n",
       "      <td>0.024129</td>\n",
       "      <td>-0.033714</td>\n",
       "      <td>-0.002529</td>\n",
       "      <td>-0.395212</td>\n",
       "      <td>-0.443529</td>\n",
       "      <td>0.362150</td>\n",
       "      <td>-0.585611</td>\n",
       "      <td>0.571251</td>\n",
       "      <td>1.000000</td>\n",
       "      <td>-0.028471</td>\n",
       "      <td>NaN</td>\n",
       "    </tr>\n",
       "    <tr>\n",
       "      <th>re_purchase</th>\n",
       "      <td>0.243007</td>\n",
       "      <td>-0.043672</td>\n",
       "      <td>0.215520</td>\n",
       "      <td>-0.022512</td>\n",
       "      <td>0.024482</td>\n",
       "      <td>-0.055099</td>\n",
       "      <td>-0.009147</td>\n",
       "      <td>0.002984</td>\n",
       "      <td>0.014290</td>\n",
       "      <td>-0.029415</td>\n",
       "      <td>0.008153</td>\n",
       "      <td>-0.028865</td>\n",
       "      <td>-0.028471</td>\n",
       "      <td>1.000000</td>\n",
       "      <td>-0.115029</td>\n",
       "    </tr>\n",
       "    <tr>\n",
       "      <th>bye_purchase</th>\n",
       "      <td>-0.004721</td>\n",
       "      <td>-0.012586</td>\n",
       "      <td>-0.189951</td>\n",
       "      <td>-0.023282</td>\n",
       "      <td>0.058905</td>\n",
       "      <td>0.005815</td>\n",
       "      <td>NaN</td>\n",
       "      <td>0.008108</td>\n",
       "      <td>NaN</td>\n",
       "      <td>0.033992</td>\n",
       "      <td>NaN</td>\n",
       "      <td>0.011218</td>\n",
       "      <td>NaN</td>\n",
       "      <td>-0.115029</td>\n",
       "      <td>1.000000</td>\n",
       "    </tr>\n",
       "  </tbody>\n",
       "</table>\n",
       "</div>"
      ],
      "text/plain": [
       "                    id     cusno    gender       age    region  product_20  \\\n",
       "id            1.000000 -0.033492  0.044722  0.010530  0.010237   -0.021646   \n",
       "cusno        -0.033492  1.000000 -0.031681 -0.018124  0.045879    0.050931   \n",
       "gender        0.044722 -0.031681  1.000000 -0.027116 -0.001476    0.039173   \n",
       "age           0.010530 -0.018124 -0.027116  1.000000 -0.046480    0.007771   \n",
       "region        0.010237  0.045879 -0.001476 -0.046480  1.000000   -0.065325   \n",
       "product_20   -0.021646  0.050931  0.039173  0.007771 -0.065325    1.000000   \n",
       "product_21    0.038882  0.015965 -0.027668 -0.057740  0.034207    0.018110   \n",
       "price_20     -0.032281 -0.003011  0.019647 -0.028799 -0.019255    0.018662   \n",
       "price_21      0.014808  0.021398  0.009751  0.019117 -0.055529    0.051633   \n",
       "quantity_20  -0.018543  0.023929  0.013351  0.008729  0.008131    0.000444   \n",
       "quantity_21  -0.025738  0.001942  0.026344 -0.029064 -0.050789    0.028182   \n",
       "amount_20     0.002609  0.062306  0.047681  0.026291  0.020932   -0.036980   \n",
       "amount_21    -0.003711  0.055870  0.042548 -0.001762  0.024129   -0.033714   \n",
       "re_purchase   0.243007 -0.043672  0.215520 -0.022512  0.024482   -0.055099   \n",
       "bye_purchase -0.004721 -0.012586 -0.189951 -0.023282  0.058905    0.005815   \n",
       "\n",
       "              product_21  price_20  price_21  quantity_20  quantity_21  \\\n",
       "id              0.038882 -0.032281  0.014808    -0.018543    -0.025738   \n",
       "cusno           0.015965 -0.003011  0.021398     0.023929     0.001942   \n",
       "gender         -0.027668  0.019647  0.009751     0.013351     0.026344   \n",
       "age            -0.057740 -0.028799  0.019117     0.008729    -0.029064   \n",
       "region          0.034207 -0.019255 -0.055529     0.008131    -0.050789   \n",
       "product_20      0.018110  0.018662  0.051633     0.000444     0.028182   \n",
       "product_21      1.000000 -0.026793  0.024106    -0.031712    -0.004420   \n",
       "price_20       -0.026793  1.000000 -0.012461    -0.002285     0.651844   \n",
       "price_21        0.024106 -0.012461  1.000000     0.011452     0.648802   \n",
       "quantity_20    -0.031712 -0.002285  0.011452     1.000000     0.002630   \n",
       "quantity_21    -0.004420  0.651844  0.648802     0.002630     1.000000   \n",
       "amount_20      -0.007087 -0.054399 -0.050820     0.667178    -0.068767   \n",
       "amount_21      -0.002529 -0.395212 -0.443529     0.362150    -0.585611   \n",
       "re_purchase    -0.009147  0.002984  0.014290    -0.029415     0.008153   \n",
       "bye_purchase         NaN  0.008108       NaN     0.033992          NaN   \n",
       "\n",
       "              amount_20  amount_21  re_purchase  bye_purchase  \n",
       "id             0.002609  -0.003711     0.243007     -0.004721  \n",
       "cusno          0.062306   0.055870    -0.043672     -0.012586  \n",
       "gender         0.047681   0.042548     0.215520     -0.189951  \n",
       "age            0.026291  -0.001762    -0.022512     -0.023282  \n",
       "region         0.020932   0.024129     0.024482      0.058905  \n",
       "product_20    -0.036980  -0.033714    -0.055099      0.005815  \n",
       "product_21    -0.007087  -0.002529    -0.009147           NaN  \n",
       "price_20      -0.054399  -0.395212     0.002984      0.008108  \n",
       "price_21      -0.050820  -0.443529     0.014290           NaN  \n",
       "quantity_20    0.667178   0.362150    -0.029415      0.033992  \n",
       "quantity_21   -0.068767  -0.585611     0.008153           NaN  \n",
       "amount_20      1.000000   0.571251    -0.028865      0.011218  \n",
       "amount_21      0.571251   1.000000    -0.028471           NaN  \n",
       "re_purchase   -0.028865  -0.028471     1.000000     -0.115029  \n",
       "bye_purchase   0.011218        NaN    -0.115029      1.000000  "
      ]
     },
     "execution_count": 46,
     "metadata": {},
     "output_type": "execute_result"
    }
   ],
   "source": [
    "df.corr()"
   ]
  },
  {
   "cell_type": "code",
   "execution_count": 47,
   "id": "d4519dec",
   "metadata": {
    "scrolled": false
   },
   "outputs": [
    {
     "data": {
      "text/html": [
       "<div>\n",
       "<style scoped>\n",
       "    .dataframe tbody tr th:only-of-type {\n",
       "        vertical-align: middle;\n",
       "    }\n",
       "\n",
       "    .dataframe tbody tr th {\n",
       "        vertical-align: top;\n",
       "    }\n",
       "\n",
       "    .dataframe thead th {\n",
       "        text-align: right;\n",
       "    }\n",
       "</style>\n",
       "<table border=\"1\" class=\"dataframe\">\n",
       "  <thead>\n",
       "    <tr style=\"text-align: right;\">\n",
       "      <th></th>\n",
       "      <th>gender</th>\n",
       "    </tr>\n",
       "  </thead>\n",
       "  <tbody>\n",
       "    <tr>\n",
       "      <th>id</th>\n",
       "      <td>0.04</td>\n",
       "    </tr>\n",
       "    <tr>\n",
       "      <th>cusno</th>\n",
       "      <td>-0.03</td>\n",
       "    </tr>\n",
       "    <tr>\n",
       "      <th>gender</th>\n",
       "      <td>1.00</td>\n",
       "    </tr>\n",
       "    <tr>\n",
       "      <th>age</th>\n",
       "      <td>-0.03</td>\n",
       "    </tr>\n",
       "    <tr>\n",
       "      <th>region</th>\n",
       "      <td>-0.00</td>\n",
       "    </tr>\n",
       "    <tr>\n",
       "      <th>product_20</th>\n",
       "      <td>0.04</td>\n",
       "    </tr>\n",
       "    <tr>\n",
       "      <th>product_21</th>\n",
       "      <td>-0.03</td>\n",
       "    </tr>\n",
       "    <tr>\n",
       "      <th>price_20</th>\n",
       "      <td>0.02</td>\n",
       "    </tr>\n",
       "    <tr>\n",
       "      <th>price_21</th>\n",
       "      <td>0.01</td>\n",
       "    </tr>\n",
       "    <tr>\n",
       "      <th>quantity_20</th>\n",
       "      <td>0.01</td>\n",
       "    </tr>\n",
       "    <tr>\n",
       "      <th>quantity_21</th>\n",
       "      <td>0.03</td>\n",
       "    </tr>\n",
       "    <tr>\n",
       "      <th>amount_20</th>\n",
       "      <td>0.05</td>\n",
       "    </tr>\n",
       "    <tr>\n",
       "      <th>amount_21</th>\n",
       "      <td>0.04</td>\n",
       "    </tr>\n",
       "    <tr>\n",
       "      <th>re_purchase</th>\n",
       "      <td>0.22</td>\n",
       "    </tr>\n",
       "    <tr>\n",
       "      <th>bye_purchase</th>\n",
       "      <td>-0.19</td>\n",
       "    </tr>\n",
       "  </tbody>\n",
       "</table>\n",
       "</div>"
      ],
      "text/plain": [
       "              gender\n",
       "id              0.04\n",
       "cusno          -0.03\n",
       "gender          1.00\n",
       "age            -0.03\n",
       "region         -0.00\n",
       "product_20      0.04\n",
       "product_21     -0.03\n",
       "price_20        0.02\n",
       "price_21        0.01\n",
       "quantity_20     0.01\n",
       "quantity_21     0.03\n",
       "amount_20       0.05\n",
       "amount_21       0.04\n",
       "re_purchase     0.22\n",
       "bye_purchase   -0.19"
      ]
     },
     "execution_count": 47,
     "metadata": {},
     "output_type": "execute_result"
    }
   ],
   "source": [
    "df.corr().loc[:,['gender']].round(2)"
   ]
  },
  {
   "cell_type": "markdown",
   "id": "426173b4",
   "metadata": {},
   "source": [
    "gender와 다른 변수들 간의 상관관계가 절대값 0.05 미만으로 연관성이 낮게 나타난 것과 달리,\n",
    "re_purchase(재구매 여부)의 상관관계 계수는 0.22, bye_purchase(21년도 구매 이탈 여부)의 상관계수는 -0.19로 어느정도 상관관계를 유추할 수 있는 값이 나옴\n",
    "\n",
    "따라서, 성별과 재구매여부, 성별과 이탈 고객 여부 등 범주형 자료의 탐색적 분석이 필요함"
   ]
  },
  {
   "cell_type": "code",
   "execution_count": null,
   "id": "9a58eab5",
   "metadata": {},
   "outputs": [],
   "source": []
  },
  {
   "cell_type": "code",
   "execution_count": null,
   "id": "f1c5e734",
   "metadata": {},
   "outputs": [],
   "source": []
  },
  {
   "cell_type": "code",
   "execution_count": null,
   "id": "344e3884",
   "metadata": {},
   "outputs": [],
   "source": []
  }
 ],
 "metadata": {
  "kernelspec": {
   "display_name": "Python 3 (ipykernel)",
   "language": "python",
   "name": "python3"
  },
  "language_info": {
   "codemirror_mode": {
    "name": "ipython",
    "version": 3
   },
   "file_extension": ".py",
   "mimetype": "text/x-python",
   "name": "python",
   "nbconvert_exporter": "python",
   "pygments_lexer": "ipython3",
   "version": "3.8.13"
  }
 },
 "nbformat": 4,
 "nbformat_minor": 5
}
