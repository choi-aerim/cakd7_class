{
 "cells": [
  {
   "cell_type": "markdown",
   "id": "46c4fd2b",
   "metadata": {},
   "source": [
    "1. 크롬드라이버 설치: https://chromedriver.chromium.org/downloads\n",
    "2. 크롬->도움말-> chrome정보 확인 후 다운로드 후 압축풀기"
   ]
  },
  {
   "cell_type": "code",
   "execution_count": null,
   "id": "0db8bbe5",
   "metadata": {},
   "outputs": [],
   "source": [
    "!pip install Selenium"
   ]
  },
  {
   "cell_type": "markdown",
   "id": "bb32c28f",
   "metadata": {},
   "source": [
    "# Selenium 함수\n",
    "\n",
    "\n",
    "- from selenium.webdriver.common.by import By\n",
    "- find_element(By.ID, \" \"): id 속성을 사용하여 접근\n",
    "- find_element(s)(By.CLASS_NAME, \" \"): 클래스를 사용하여 접근\n",
    "- find_element(s)(By.NAME, \" \"): name 속성을 사용하여 접근\n",
    "- find_element(s)(By.XPATH, \" \"): xpath 속성을 사용하여 접근\n",
    "    - ex) //*[@id=\"contentarea_left\"]/div[2]/img[2]\n",
    "- find_element(s)(By.LINK_TEXT, \" \"): 앵커태그(a 태그)에 사용되는 텍스트로 접근 \n",
    "- find_element(s)(By.PARTIAL_LINK_TEXT, \" \"): 앵커태그(a 태그)에 사용되는 일부 텍스트로 접근\n",
    "- find_element(s)(By.TAG_NAME, \" \"): 태그를 사용하여 접근\n",
    "- find_element(s)(By.CSS_SELECTOR, \" \"): CSS 선택자를 사용하여 접근<br><br>\n",
    "<br>\n",
    "- 셀레니움 사용법 : https://greeksharifa.github.io/references/2020/10/30/python-selenium-usage/ <br>\n",
    "- 셀레니움 사용법 : https://workingwithpython.com/howtouseselenium-3/\n",
    "- 셀레니움 새로운 사용법:\\ https://goodthings4me.tistory.com/696"
   ]
  },
  {
   "cell_type": "markdown",
   "id": "685772d6",
   "metadata": {},
   "source": [
    "## webdriver.Chrome(path)"
   ]
  },
  {
   "cell_type": "markdown",
   "id": "83b87c77",
   "metadata": {},
   "source": [
    "### get(url):  창 열기"
   ]
  },
  {
   "cell_type": "code",
   "execution_count": 2,
   "id": "9026c3b7",
   "metadata": {},
   "outputs": [],
   "source": [
    "import selenium\n",
    "from selenium import webdriver\n",
    "from selenium.webdriver.common.keys import Keys\n",
    "import warnings\n",
    "warnings.filterwarnings('ignore')\n",
    "\n",
    "path = 'C:/cakd7/tool/chromedriver.exe'   #크롬드라이버가 있는 경로 지정\n",
    "url = 'http://naver.com'\n",
    "\n",
    "driver = webdriver.Chrome(path)\n",
    "driver.get(url)                    #url주소를 받아서 열기"
   ]
  },
  {
   "cell_type": "markdown",
   "id": "8762afab",
   "metadata": {},
   "source": [
    "### close() 창 닫기"
   ]
  },
  {
   "cell_type": "code",
   "execution_count": 3,
   "id": "7fa32b6c",
   "metadata": {},
   "outputs": [
    {
     "data": {
      "text/plain": [
       "'https://www.naver.com/'"
      ]
     },
     "execution_count": 3,
     "metadata": {},
     "output_type": "execute_result"
    }
   ],
   "source": [
    "driver.current_url    #현재 웹페이지의 url 주소 출력"
   ]
  },
  {
   "cell_type": "code",
   "execution_count": 7,
   "id": "db6758c1",
   "metadata": {},
   "outputs": [],
   "source": [
    "driver.close()"
   ]
  },
  {
   "cell_type": "markdown",
   "id": "1be3bf93",
   "metadata": {},
   "source": [
    "## webdriver.ChromeOptions()"
   ]
  },
  {
   "cell_type": "markdown",
   "id": "a465f179",
   "metadata": {},
   "source": [
    "### .add_argument('headless'): 창 뜨지 않게 하기"
   ]
  },
  {
   "cell_type": "code",
   "execution_count": 5,
   "id": "fca912a5",
   "metadata": {},
   "outputs": [],
   "source": [
    "options = webdriver.ChromeOptions()\n",
    "options.add_argument('headless')      #창없는 크롬으로 크롤링하기"
   ]
  },
  {
   "cell_type": "code",
   "execution_count": 8,
   "id": "c03769c6",
   "metadata": {},
   "outputs": [],
   "source": [
    "driver = webdriver.Chrome(path, options = options)\n",
    "driver.get(url)"
   ]
  },
  {
   "cell_type": "code",
   "execution_count": 9,
   "id": "f911d96b",
   "metadata": {},
   "outputs": [
    {
     "name": "stdout",
     "output_type": "stream",
     "text": [
      "https://www.naver.com/\n"
     ]
    }
   ],
   "source": [
    "print(driver.current_url)"
   ]
  },
  {
   "cell_type": "code",
   "execution_count": 10,
   "id": "552fd041",
   "metadata": {},
   "outputs": [],
   "source": [
    "driver.close()       #크롬창이 뜨지 않게 해놨지만 닫기는 꼭 해야함!"
   ]
  },
  {
   "cell_type": "markdown",
   "id": "92b34db2",
   "metadata": {},
   "source": [
    "### .add_argument('window_size=n1,n2): 윈도우 사이즈 지정"
   ]
  },
  {
   "cell_type": "code",
   "execution_count": 19,
   "id": "cd653cfd",
   "metadata": {},
   "outputs": [],
   "source": [
    "options = webdriver.ChromeOptions()\n",
    "options.add_argument('window_size=1920,1080')"
   ]
  },
  {
   "cell_type": "code",
   "execution_count": 26,
   "id": "5c802c1e",
   "metadata": {},
   "outputs": [],
   "source": [
    "driver = webdriver.Chrome(path, options = options)\n",
    "driver.maximize_window()\n",
    "\n",
    "driver.get(url)"
   ]
  },
  {
   "cell_type": "code",
   "execution_count": 27,
   "id": "570c71a3",
   "metadata": {},
   "outputs": [],
   "source": [
    "driver.close()"
   ]
  },
  {
   "cell_type": "markdown",
   "id": "93995906",
   "metadata": {},
   "source": [
    "## implicit waits(암묵적 대기)\n",
    "- 찾으려는 element가 로드될 때까지 지정한 시간만큼 대기할 수 있도록 설정\n",
    "- 쉽게 설명하자면 페이지 이동등의 명령어를 줬을 때 다음 웹페이지가 넘어올때까지 기다리라는 뜻\n",
    "- 웹페이지가 로딩되면, n초까지 안기다리고 바로 다음 명령어 실행\n",
    "- 이 때 웹페이지의 일부분이 자바스크립트로 구현되어 잇어서 일부분이 화면상에서 렌더링 되느라 비교적 늦게 브라우저에 표시되는 경우가 있는데 그래도 넘어감"
   ]
  },
  {
   "cell_type": "code",
   "execution_count": 17,
   "id": "005caa64",
   "metadata": {},
   "outputs": [],
   "source": [
    "import selenium\n",
    "from selenium import webdriver\n",
    "from selenium.webdriver.common.keys import Keys\n",
    "from selenium.webdriver.common.by import By\n",
    "\n",
    "driver = webdriver.Chrome(path)\n",
    "driver.implicitly_wait(time_to_wait = 5)  #암묵적 대기\n",
    "\n",
    "driver.get(url)\n",
    "\n",
    "driver.quit()"
   ]
  },
  {
   "cell_type": "markdown",
   "id": "0479c9ac",
   "metadata": {},
   "source": [
    "## explicit waits\n",
    "- 위의 implicit waits를 해결\n",
    "- n초까지 필요한 부분이 표시될때까지 기다리라는 의미"
   ]
  },
  {
   "cell_type": "code",
   "execution_count": 18,
   "id": "ae4c15db",
   "metadata": {},
   "outputs": [],
   "source": [
    "from selenium.webdriver.support.ui import WebDriverWait\n",
    "from selenium.webdriver.support import expected_conditions as EC\n",
    "from selenium.webdriver.common.by import By\n",
    "\n",
    "driver = webdriver.Chrome(path)\n",
    "driver.get('http://google.com')\n",
    "\n",
    "try:\n",
    "    element = WebDriverWait(driver,10).until(\n",
    "        EC.presence_of_element_loacated((By.CLASS_NAME, 'gLFyf'))\n",
    "    )     # 클래스 이름이 'gLFyf'인 부분이 로딩 될 때까지 10초간 기다린다\n",
    "    \n",
    "except:\n",
    "    driver.quit()\n",
    "    \n",
    "    #해당 클래스가 구현이 되면, 10초가 안되어도 driver.quit()가 실행됨"
   ]
  },
  {
   "cell_type": "markdown",
   "id": "fba5c584",
   "metadata": {},
   "source": [
    "## find_element(By.명령어,' ')\n"
   ]
  },
  {
   "cell_type": "markdown",
   "id": "69141c25",
   "metadata": {},
   "source": [
    "### send_keys('검색어')\n",
    "- 해당 검색어를 입력"
   ]
  },
  {
   "cell_type": "markdown",
   "id": "f11eaa10",
   "metadata": {},
   "source": [
    "### send_keys(Keys.RETURN), send_keys(Keys.ENTER)\n",
    "- 엔터치기"
   ]
  },
  {
   "cell_type": "code",
   "execution_count": 31,
   "id": "a9880331",
   "metadata": {},
   "outputs": [
    {
     "name": "stdout",
     "output_type": "stream",
     "text": [
      "빅데이터란? | 고급 빅데이터 분석 | SAP Insights\n",
      "빅 데이터 프로세싱 - 나무위키:대문\n",
      "빅데이터(Big Data)란? | 알테어\n",
      "공간빅데이터 분석플랫폼\n",
      "K-ICT 빅데이터 센터\n"
     ]
    }
   ],
   "source": [
    "from time import sleep\n",
    "import selenium \n",
    "from selenium import webdriver\n",
    "from selenium.webdriver.common.by import By\n",
    "from selenium.webdriver.common.keys import Keys\n",
    "\n",
    "#옵션 지정\n",
    "options = webdriver.ChromeOptions()\n",
    "options.add_argument('window_size=1920,1080')\n",
    "\n",
    "driver = webdriver.Chrome(path, options = options)\n",
    "driver.maximize_window()\n",
    "\n",
    "#암묵적 대기\n",
    "driver.implicitly_wait(time_to_wait = 5)\n",
    "\n",
    "#페이지 열기\n",
    "driver.get('https://google.com')\n",
    "\n",
    "\n",
    "\n",
    "#빅데이터 검색 및 저장\n",
    "search_box = driver.find_element(By.XPATH, '/html/body/div[1]/div[3]/form/div[1]/div[1]/div[1]/div/div[2]/input')\n",
    "search_box.send_keys('빅데이터')\n",
    "search_box.send_keys(Keys.RETURN)  #엔터 기능 1\n",
    "# search_box.send_keys(Keys.ENTER)   #엔터 기능 2\n",
    "# search_box.send_keys('KeysToSend') #엔터 기능 3\n",
    "# element.submit()\n",
    "\n",
    "#광고 제외한 헤드 크롤링\n",
    "elements = driver.find_elements(By.XPATH, '//*[@id=\"rso\"]/div/div/div/div/a/h3')\n",
    "            #하나만 뽑을게 아니기때문에 XPATH copy 후 클래스, 아이디 다 지워줌\n",
    "\n",
    "for element in elements:\n",
    "    print(element.text)\n",
    "\n",
    "sleep(10)     #타임슬립 설정 안하면, 크롤링하다가 끊김\n",
    "driver.close()"
   ]
  },
  {
   "cell_type": "markdown",
   "id": "dd3ca44c",
   "metadata": {},
   "source": [
    "### .click()\n",
    "- 클릭하기"
   ]
  },
  {
   "cell_type": "markdown",
   "id": "a193418d",
   "metadata": {},
   "source": [
    "## refresh()\n",
    "- 새로고침"
   ]
  },
  {
   "cell_type": "code",
   "execution_count": 36,
   "id": "671c2b1d",
   "metadata": {},
   "outputs": [],
   "source": [
    "# 네이버사이트 -> 다음사이트 이동\n",
    "\n",
    "import selenium\n",
    "from selenium import webdriver\n",
    "from selenium.webdriver.common.by import By\n",
    "from selenium.webdriver.common.keys import Keys\n",
    "import time\n",
    "\n",
    "# 1. 네이버사이트 열기\n",
    "path = 'C:/cakd7/tool/chromedriver.exe'\n",
    "url = 'http://naver.com'\n",
    "\n",
    "driver = webdriver.Chrome(path)\n",
    "driver.get(url)\n",
    "\n",
    "\n",
    "# 2. 다음사이트로 이동\n",
    "driver.get('https://www.daum.net/')\n",
    "\n",
    "# 3. 검색하기\n",
    "search = driver.find_element(By.ID, 'q')\n",
    "search.send_keys('사람')\n",
    "\n",
    "element = driver.find_element(By.CSS_SELECTOR, '#daumSearch > fieldset > div > div > button.ico_pctop.btn_search')\n",
    "element.click()      # 돋보기 클릭으로 검색 실행\n",
    "\n",
    "driver.refresh()     #새로고침\n",
    "time.sleep(3)\n",
    "\n",
    "# 4. 홈으로 다시 이동\n",
    "driver.back()\n",
    "\n",
    "driver.close()"
   ]
  },
  {
   "cell_type": "markdown",
   "id": "bbe4654e",
   "metadata": {},
   "source": [
    "---"
   ]
  },
  {
   "cell_type": "markdown",
   "id": "da13af67",
   "metadata": {},
   "source": [
    "#### 과제 07/27_3\n",
    "- Q. 네이버 사이트 불러오기 -> 로그인 이동 -> 홈 이동 -> 검색어 ('빅데이터') 입력, 실행 -> 'a'태그 href 속성 모두 출력"
   ]
  },
  {
   "cell_type": "code",
   "execution_count": 4,
   "id": "a8e9dc35",
   "metadata": {
    "scrolled": true
   },
   "outputs": [
    {
     "name": "stderr",
     "output_type": "stream",
     "text": [
      "C:\\Users\\admin\\AppData\\Local\\Temp\\ipykernel_11528\\1704650438.py:10: DeprecationWarning: executable_path has been deprecated, please pass in a Service object\n",
      "  driver = webdriver.Chrome(path)\n"
     ]
    },
    {
     "name": "stdout",
     "output_type": "stream",
     "text": [
      "https://search.naver.com/search.naver?where=nexearch&sm=top_hty&fbm=0&ie=utf8&query=%EB%B9%85%EB%8D%B0%EC%9D%B4%ED%84%B0#lnb\n",
      "https://search.naver.com/search.naver?where=nexearch&sm=top_hty&fbm=0&ie=utf8&query=%EB%B9%85%EB%8D%B0%EC%9D%B4%ED%84%B0#content\n",
      "https://www.naver.com/\n",
      "https://search.naver.com/search.naver?where=nexearch&sm=top_hty&fbm=0&ie=utf8&query=%EB%B9%85%EB%8D%B0%EC%9D%B4%ED%84%B0#\n",
      "https://search.naver.com/search.naver?where=nexearch&sm=top_hty&fbm=0&ie=utf8&query=%EB%B9%85%EB%8D%B0%EC%9D%B4%ED%84%B0#\n",
      "https://search.naver.com/search.naver?where=nexearch&sm=top_hty&fbm=0&ie=utf8&query=%EB%B9%85%EB%8D%B0%EC%9D%B4%ED%84%B0#\n",
      "https://search.naver.com/search.naver?where=nexearch&sm=top_hty&fbm=0&ie=utf8&query=%EB%B9%85%EB%8D%B0%EC%9D%B4%ED%84%B0#\n",
      "https://search.naver.com/search.naver?where=nexearch&sm=top_hty&fbm=0&ie=utf8&query=%EB%B9%85%EB%8D%B0%EC%9D%B4%ED%84%B0#\n",
      "https://help.naver.com/support/alias/search/word/word_29.naver\n",
      "https://help.naver.com/support/alias/search/word/word_29.naver\n",
      "https://help.naver.com/support/alias/search/word/word_29.naver\n",
      "https://search.naver.com/search.naver?where=nexearch&sm=top_hty&fbm=0&ie=utf8&query=%EB%B9%85%EB%8D%B0%EC%9D%B4%ED%84%B0#\n",
      "https://search.naver.com/search.naver?where=nexearch&sm=top_hty&fbm=0&ie=utf8&query=%EB%B9%85%EB%8D%B0%EC%9D%B4%ED%84%B0#\n",
      "https://help.naver.com/support/alias/search/word/word_16.naver\n",
      "https://search.naver.com/search.naver?where=nexearch&sm=top_hty&fbm=0&ie=utf8&query=%EB%B9%85%EB%8D%B0%EC%9D%B4%ED%84%B0#\n",
      "https://help.naver.com/support/alias/search/word/word_16.naver\n",
      "https://nid.naver.com/nidlogin.login?url=https%3A%2F%2Fsearch.naver.com%2Fsearch.naver%3Fwhere%3Dnexearch%26sm%3Dtop_hty%26fbm%3D0%26ie%3Dutf8%26query%3D%25EB%25B9%2585%25EB%258D%25B0%25EC%259D%25B4%25ED%2584%25B0\n",
      "https://help.naver.com/support/alias/search/word/word_16.naver\n",
      "https://search.naver.com/search.naver?where=nexearch&sm=top_hty&fbm=0&ie=utf8&query=%EB%B9%85%EB%8D%B0%EC%9D%B4%ED%84%B0#\n",
      "https://help.naver.com/support/alias/search/word/word_17.naver\n",
      "https://help.naver.com/support/alias/search/word/word_18.naver\n",
      "https://search.naver.com/search.naver?where=nexearch&sm=top_hty&fbm=0&ie=utf8&query=%EB%B9%85%EB%8D%B0%EC%9D%B4%ED%84%B0#\n",
      "https://nid.naver.com/nidlogin.login?url=https%3A%2F%2Fsearch.naver.com%2Fsearch.naver%3Fwhere%3Dnexearch%26sm%3Dtop_hty%26fbm%3D0%26ie%3Dutf8%26query%3D%25EB%25B9%2585%25EB%258D%25B0%25EC%259D%25B4%25ED%2584%25B0\n",
      "https://search.naver.com/search.naver?where=nexearch&sm=top_hty&fbm=0&ie=utf8&query=%EB%B9%85%EB%8D%B0%EC%9D%B4%ED%84%B0#\n",
      "https://nid.naver.com/user2/api/naverProfile?m=checkIdType\n",
      "https://nid.naver.com/user2/api/naverProfile?m=checkIdType\n",
      "https://nid.naver.com/nidlogin.logout?returl=https%3A%2F%2Fsearch.naver.com%2Fsearch.naver%3Fwhere%3Dnexearch%26sm%3Dtop_hty%26fbm%3D0%26ie%3Dutf8%26query%3D%25EB%25B9%2585%25EB%258D%25B0%25EC%259D%25B4%25ED%2584%25B0\n",
      "https://mail.naver.com/\n",
      "https://nid.naver.com/user2/help/myInfo?menu=home\n",
      "https://nid.naver.com/user2/help/myInfo?m=viewSecurity&menu=security\n",
      "https://nid.naver.com/user2/eSign/v1/home/land\n",
      "https://nid.naver.com/membership/my\n",
      "https://pay.naver.com/\n",
      "https://blog.naver.com/MyBlog.naver\n",
      "https://section.cafe.naver.com/\n",
      "https://pay.naver.com/\n",
      "https://search.naver.com/search.naver?where=nexearch&sm=top_hty&fbm=0&ie=utf8&query=%EB%B9%85%EB%8D%B0%EC%9D%B4%ED%84%B0#\n",
      "https://noti.naver.com/index.nhn\n",
      "https://mail.naver.com/\n",
      "https://search.naver.com/search.naver?where=nexearch&sm=top_hty&fbm=0&ie=utf8&query=%EB%B9%85%EB%8D%B0%EC%9D%B4%ED%84%B0#\n",
      "https://search.naver.com/search.naver?where=nexearch&sm=top_hty&fbm=0&ie=utf8&query=%EB%B9%85%EB%8D%B0%EC%9D%B4%ED%84%B0#\n",
      "https://search.naver.com/search.naver?where=nexearch&sm=top_hty&fbm=0&ie=utf8&query=%EB%B9%85%EB%8D%B0%EC%9D%B4%ED%84%B0#\n",
      "https://search.naver.com/search.naver?where=nexearch&sm=top_hty&fbm=0&ie=utf8&query=%EB%B9%85%EB%8D%B0%EC%9D%B4%ED%84%B0#\n",
      "https://search.naver.com/search.naver?where=nexearch&sm=top_hty&fbm=0&ie=utf8&query=%EB%B9%85%EB%8D%B0%EC%9D%B4%ED%84%B0#\n",
      "https://search.naver.com/search.naver?where=nexearch&sm=top_hty&fbm=0&ie=utf8&query=%EB%B9%85%EB%8D%B0%EC%9D%B4%ED%84%B0#\n",
      "https://search.naver.com/search.naver?where=nexearch&sm=top_hty&fbm=0&ie=utf8&query=%EB%B9%85%EB%8D%B0%EC%9D%B4%ED%84%B0#\n",
      "https://cafe.naver.com/\n",
      "https://news.naver.com/\n",
      "https://map.naver.com/\n",
      "https://sports.news.naver.com/\n",
      "https://game.naver.com/\n",
      "https://section.blog.naver.com/\n",
      "https://post.naver.com/main.nhn\n",
      "https://dict.naver.com/\n",
      "https://kin.naver.com/\n",
      "https://weather.naver.com/\n",
      "https://mail.naver.com/\n",
      "https://stock.naver.com/\n",
      "https://land.naver.com/\n",
      "https://vibe.naver.com/today/\n",
      "https://book.naver.com/\n",
      "https://shopping.naver.com/\n",
      "https://comic.naver.com/\n",
      "https://movie.naver.com/\n",
      "https://mybox.naver.com/\n",
      "https://auto.naver.com/\n",
      "https://campaign.naver.com/npay/rediret/index.nhn\n",
      "https://www.naver.com/more.html\n",
      "https://www.naver.com/more.html\n",
      "https://dict.naver.com/\n",
      "https://search.naver.com/search.naver?where=nexearch&sm=tab_jum&query=%EB%B9%85%EB%8D%B0%EC%9D%B4%ED%84%B0\n",
      "https://search.naver.com/search.naver?where=image&sm=tab_jum&query=%EB%B9%85%EB%8D%B0%EC%9D%B4%ED%84%B0\n",
      "https://dict.naver.com/search.nhn?dicQuery=%EB%B9%85%EB%8D%B0%EC%9D%B4%ED%84%B0&query=%EB%B9%85%EB%8D%B0%EC%9D%B4%ED%84%B0&target=dic&query_utf=&isOnlyViewEE=\n",
      "https://search.naver.com/search.naver?where=news&sm=tab_jum&query=%EB%B9%85%EB%8D%B0%EC%9D%B4%ED%84%B0\n",
      "https://search.naver.com/search.naver?where=view&sm=tab_jum&query=%EB%B9%85%EB%8D%B0%EC%9D%B4%ED%84%B0\n",
      "https://search.naver.com/search.naver?where=kin&sm=tab_jum&query=%EB%B9%85%EB%8D%B0%EC%9D%B4%ED%84%B0\n",
      "https://search.naver.com/search.naver?where=influencer&sm=tab_jum&query=%EB%B9%85%EB%8D%B0%EC%9D%B4%ED%84%B0\n",
      "https://search.naver.com/search.naver?where=video&sm=tab_jum&query=%EB%B9%85%EB%8D%B0%EC%9D%B4%ED%84%B0\n",
      "https://search.shopping.naver.com/search/all?where=all&frm=NVSCTAB&query=%EB%B9%85%EB%8D%B0%EC%9D%B4%ED%84%B0\n",
      "https://map.naver.com/v5/search/%EB%B9%85%EB%8D%B0%EC%9D%B4%ED%84%B0\n",
      "https://search.naver.com/search.naver?where=nexearch&sm=top_hty&fbm=0&ie=utf8&query=%EB%B9%85%EB%8D%B0%EC%9D%B4%ED%84%B0#\n",
      "https://search.shopping.naver.com/book/search?query=%EB%B9%85%EB%8D%B0%EC%9D%B4%ED%84%B0\n",
      "https://vibe.naver.com/search?query=%EB%B9%85%EB%8D%B0%EC%9D%B4%ED%84%B0\n",
      "https://search.naver.com/search.naver?where=kdic&sm=tab_jum&query=%EB%B9%85%EB%8D%B0%EC%9D%B4%ED%84%B0\n",
      "https://audioclip.naver.com/search/all?keyword=%EB%B9%85%EB%8D%B0%EC%9D%B4%ED%84%B0\n",
      "https://academic.naver.com/search.naver?field=0&query=%EB%B9%85%EB%8D%B0%EC%9D%B4%ED%84%B0\n",
      "https://search.naver.com/search.naver?where=nexearch&sm=top_hty&fbm=0&ie=utf8&query=%EB%B9%85%EB%8D%B0%EC%9D%B4%ED%84%B0#\n",
      "https://search.naver.com/search.naver?where=nexearch&sm=top_hty&fbm=0&ie=utf8&query=%EB%B9%85%EB%8D%B0%EC%9D%B4%ED%84%B0#\n",
      "https://search.naver.com/search.naver?where=nexearch&sm=tab_opt&query=%EB%B9%85%EB%8D%B0%EC%9D%B4%ED%84%B0&nso=so%3Ar&nso_open=1\n",
      "https://search.naver.com/search.naver?where=nexearch&sm=tab_opt&query=%EB%B9%85%EB%8D%B0%EC%9D%B4%ED%84%B0&nso=so%3Add&nso_open=1\n",
      "https://search.naver.com/search.naver?where=nexearch&sm=tab_opt&query=%EB%B9%85%EB%8D%B0%EC%9D%B4%ED%84%B0&nso=p%3Aall&nso_open=1\n",
      "https://search.naver.com/search.naver?where=nexearch&sm=tab_opt&query=%EB%B9%85%EB%8D%B0%EC%9D%B4%ED%84%B0&nso=p%3A1h&nso_open=1\n",
      "https://search.naver.com/search.naver?where=nexearch&sm=tab_opt&query=%EB%B9%85%EB%8D%B0%EC%9D%B4%ED%84%B0&nso=p%3A1d&nso_open=1\n",
      "https://search.naver.com/search.naver?where=nexearch&sm=tab_opt&query=%EB%B9%85%EB%8D%B0%EC%9D%B4%ED%84%B0&nso=p%3A1w&nso_open=1\n",
      "https://search.naver.com/search.naver?where=nexearch&sm=tab_opt&query=%EB%B9%85%EB%8D%B0%EC%9D%B4%ED%84%B0&nso=p%3A1m&nso_open=1\n",
      "https://search.naver.com/search.naver?where=nexearch&sm=tab_opt&query=%EB%B9%85%EB%8D%B0%EC%9D%B4%ED%84%B0&nso=p%3A3m&nso_open=1\n",
      "https://search.naver.com/search.naver?where=nexearch&sm=tab_opt&query=%EB%B9%85%EB%8D%B0%EC%9D%B4%ED%84%B0&nso=p%3A6m&nso_open=1\n",
      "https://search.naver.com/search.naver?where=nexearch&sm=tab_opt&query=%EB%B9%85%EB%8D%B0%EC%9D%B4%ED%84%B0&nso=p%3A1y&nso_open=1\n",
      "https://search.naver.com/search.naver?where=nexearch&sm=top_hty&fbm=0&ie=utf8&query=%EB%B9%85%EB%8D%B0%EC%9D%B4%ED%84%B0#\n",
      "https://search.naver.com/search.naver?where=nexearch&sm=top_hty&fbm=0&ie=utf8&query=%EB%B9%85%EB%8D%B0%EC%9D%B4%ED%84%B0#\n",
      "https://search.naver.com/search.naver?where=nexearch&sm=top_hty&fbm=0&ie=utf8&query=%EB%B9%85%EB%8D%B0%EC%9D%B4%ED%84%B0#\n",
      "https://search.naver.com/search.naver?where=nexearch&sm=top_hty&fbm=0&ie=utf8&query=%EB%B9%85%EB%8D%B0%EC%9D%B4%ED%84%B0#\n",
      "https://search.naver.com/search.naver?where=nexearch&sm=top_hty&fbm=0&ie=utf8&query=%EB%B9%85%EB%8D%B0%EC%9D%B4%ED%84%B0#\n",
      "https://search.naver.com/search.naver?where=nexearch&sm=top_hty&fbm=0&ie=utf8&query=%EB%B9%85%EB%8D%B0%EC%9D%B4%ED%84%B0#\n",
      "https://search.naver.com/search.naver?where=nexearch&sm=top_hty&fbm=0&ie=utf8&query=%EB%B9%85%EB%8D%B0%EC%9D%B4%ED%84%B0#\n",
      "https://search.naver.com/search.naver?where=nexearch&sm=top_hty&fbm=0&ie=utf8&query=%EB%B9%85%EB%8D%B0%EC%9D%B4%ED%84%B0#\n",
      "https://search.naver.com/search.naver?where=nexearch&sm=top_hty&fbm=0&ie=utf8&query=%EB%B9%85%EB%8D%B0%EC%9D%B4%ED%84%B0#\n",
      "https://search.naver.com/search.naver?where=nexearch&sm=top_hty&fbm=0&ie=utf8&query=%EB%B9%85%EB%8D%B0%EC%9D%B4%ED%84%B0#\n",
      "https://search.naver.com/search.naver?where=nexearch&sm=top_hty&fbm=0&ie=utf8&query=%EB%B9%85%EB%8D%B0%EC%9D%B4%ED%84%B0#\n",
      "https://search.naver.com/search.naver?where=nexearch&sm=top_hty&fbm=0&ie=utf8&query=%EB%B9%85%EB%8D%B0%EC%9D%B4%ED%84%B0#\n",
      "https://search.naver.com/search.naver?where=nexearch&sm=top_hty&fbm=0&ie=utf8&query=%EB%B9%85%EB%8D%B0%EC%9D%B4%ED%84%B0#\n",
      "https://search.naver.com/search.naver?where=nexearch&sm=top_hty&fbm=0&ie=utf8&query=%EB%B9%85%EB%8D%B0%EC%9D%B4%ED%84%B0#\n",
      "https://search.naver.com/search.naver?where=nexearch&sm=top_hty&fbm=0&ie=utf8&query=%EB%B9%85%EB%8D%B0%EC%9D%B4%ED%84%B0#\n",
      "https://search.naver.com/search.naver?where=nexearch&sm=top_hty&fbm=0&ie=utf8&query=%EB%B9%85%EB%8D%B0%EC%9D%B4%ED%84%B0#\n",
      "https://search.naver.com/search.naver?where=nexearch&sm=top_hty&fbm=0&ie=utf8&query=%EB%B9%85%EB%8D%B0%EC%9D%B4%ED%84%B0#\n",
      "https://search.naver.com/search.naver?where=nexearch&sm=top_hty&fbm=0&ie=utf8&query=%EB%B9%85%EB%8D%B0%EC%9D%B4%ED%84%B0#\n",
      "https://search.naver.com/search.naver?where=nexearch&sm=top_hty&fbm=0&ie=utf8&query=%EB%B9%85%EB%8D%B0%EC%9D%B4%ED%84%B0#\n",
      "https://search.naver.com/search.naver?where=nexearch&sm=top_hty&fbm=0&ie=utf8&query=%EB%B9%85%EB%8D%B0%EC%9D%B4%ED%84%B0#\n",
      "https://search.naver.com/search.naver?where=nexearch&sm=top_hty&fbm=0&ie=utf8&query=%EB%B9%85%EB%8D%B0%EC%9D%B4%ED%84%B0#\n"
     ]
    },
    {
     "name": "stdout",
     "output_type": "stream",
     "text": [
      "https://search.naver.com/search.naver?where=nexearch&sm=top_hty&fbm=0&ie=utf8&query=%EB%B9%85%EB%8D%B0%EC%9D%B4%ED%84%B0#\n",
      "https://search.naver.com/search.naver?where=nexearch&sm=top_hty&fbm=0&ie=utf8&query=%EB%B9%85%EB%8D%B0%EC%9D%B4%ED%84%B0#\n",
      "https://search.naver.com/search.naver?where=nexearch&sm=top_hty&fbm=0&ie=utf8&query=%EB%B9%85%EB%8D%B0%EC%9D%B4%ED%84%B0#\n",
      "https://search.naver.com/search.naver?where=nexearch&sm=top_hty&fbm=0&ie=utf8&query=%EB%B9%85%EB%8D%B0%EC%9D%B4%ED%84%B0#\n",
      "https://search.naver.com/search.naver?where=nexearch&sm=top_hty&fbm=0&ie=utf8&query=%EB%B9%85%EB%8D%B0%EC%9D%B4%ED%84%B0#\n",
      "https://search.naver.com/search.naver?where=nexearch&sm=top_hty&fbm=0&ie=utf8&query=%EB%B9%85%EB%8D%B0%EC%9D%B4%ED%84%B0#\n",
      "https://search.naver.com/search.naver?where=nexearch&sm=top_hty&fbm=0&ie=utf8&query=%EB%B9%85%EB%8D%B0%EC%9D%B4%ED%84%B0#\n",
      "https://search.naver.com/search.naver?where=nexearch&sm=top_hty&fbm=0&ie=utf8&query=%EB%B9%85%EB%8D%B0%EC%9D%B4%ED%84%B0#\n",
      "https://search.naver.com/search.naver?where=nexearch&sm=top_hty&fbm=0&ie=utf8&query=%EB%B9%85%EB%8D%B0%EC%9D%B4%ED%84%B0#\n",
      "https://search.naver.com/search.naver?where=nexearch&sm=top_hty&fbm=0&ie=utf8&query=%EB%B9%85%EB%8D%B0%EC%9D%B4%ED%84%B0#\n",
      "https://search.naver.com/search.naver?where=nexearch&sm=top_hty&fbm=0&ie=utf8&query=%EB%B9%85%EB%8D%B0%EC%9D%B4%ED%84%B0#\n",
      "https://search.naver.com/search.naver?where=nexearch&sm=top_hty&fbm=0&ie=utf8&query=%EB%B9%85%EB%8D%B0%EC%9D%B4%ED%84%B0#\n",
      "https://search.naver.com/search.naver?where=nexearch&sm=top_hty&fbm=0&ie=utf8&query=%EB%B9%85%EB%8D%B0%EC%9D%B4%ED%84%B0#\n",
      "https://search.naver.com/search.naver?where=nexearch&sm=top_hty&fbm=0&ie=utf8&query=%EB%B9%85%EB%8D%B0%EC%9D%B4%ED%84%B0#\n",
      "https://search.naver.com/search.naver?where=nexearch&sm=top_hty&fbm=0&ie=utf8&query=%EB%B9%85%EB%8D%B0%EC%9D%B4%ED%84%B0#\n",
      "https://search.naver.com/search.naver?where=nexearch&sm=top_hty&fbm=0&ie=utf8&query=%EB%B9%85%EB%8D%B0%EC%9D%B4%ED%84%B0#\n",
      "https://search.naver.com/search.naver?where=nexearch&sm=top_hty&fbm=0&ie=utf8&query=%EB%B9%85%EB%8D%B0%EC%9D%B4%ED%84%B0#\n",
      "https://search.naver.com/search.naver?where=nexearch&sm=top_hty&fbm=0&ie=utf8&query=%EB%B9%85%EB%8D%B0%EC%9D%B4%ED%84%B0#\n",
      "https://search.naver.com/search.naver?where=nexearch&sm=top_hty&fbm=0&ie=utf8&query=%EB%B9%85%EB%8D%B0%EC%9D%B4%ED%84%B0#\n",
      "https://search.naver.com/search.naver?where=nexearch&sm=top_hty&fbm=0&ie=utf8&query=%EB%B9%85%EB%8D%B0%EC%9D%B4%ED%84%B0#\n",
      "https://search.naver.com/search.naver?where=nexearch&sm=top_hty&fbm=0&ie=utf8&query=%EB%B9%85%EB%8D%B0%EC%9D%B4%ED%84%B0#\n",
      "https://search.naver.com/search.naver?where=nexearch&sm=top_hty&fbm=0&ie=utf8&query=%EB%B9%85%EB%8D%B0%EC%9D%B4%ED%84%B0#\n",
      "https://search.naver.com/search.naver?where=nexearch&sm=top_hty&fbm=0&ie=utf8&query=%EB%B9%85%EB%8D%B0%EC%9D%B4%ED%84%B0#\n",
      "https://search.naver.com/search.naver?where=nexearch&sm=top_hty&fbm=0&ie=utf8&query=%EB%B9%85%EB%8D%B0%EC%9D%B4%ED%84%B0#\n",
      "https://search.naver.com/search.naver?where=nexearch&sm=top_hty&fbm=0&ie=utf8&query=%EB%B9%85%EB%8D%B0%EC%9D%B4%ED%84%B0#\n",
      "https://search.naver.com/search.naver?where=nexearch&sm=top_hty&fbm=0&ie=utf8&query=%EB%B9%85%EB%8D%B0%EC%9D%B4%ED%84%B0#\n",
      "https://search.naver.com/search.naver?where=nexearch&sm=top_hty&fbm=0&ie=utf8&query=%EB%B9%85%EB%8D%B0%EC%9D%B4%ED%84%B0#\n",
      "https://search.naver.com/search.naver?where=nexearch&sm=top_hty&fbm=0&ie=utf8&query=%EB%B9%85%EB%8D%B0%EC%9D%B4%ED%84%B0#\n",
      "https://search.naver.com/search.naver?where=nexearch&sm=top_hty&fbm=0&ie=utf8&query=%EB%B9%85%EB%8D%B0%EC%9D%B4%ED%84%B0#\n",
      "https://search.naver.com/search.naver?where=nexearch&sm=top_hty&fbm=0&ie=utf8&query=%EB%B9%85%EB%8D%B0%EC%9D%B4%ED%84%B0#\n",
      "https://search.naver.com/search.naver?where=nexearch&sm=top_hty&fbm=0&ie=utf8&query=%EB%B9%85%EB%8D%B0%EC%9D%B4%ED%84%B0#\n",
      "https://search.naver.com/search.naver?where=nexearch&sm=top_hty&fbm=0&ie=utf8&query=%EB%B9%85%EB%8D%B0%EC%9D%B4%ED%84%B0#\n",
      "https://search.naver.com/search.naver?where=nexearch&sm=top_hty&fbm=0&ie=utf8&query=%EB%B9%85%EB%8D%B0%EC%9D%B4%ED%84%B0#\n",
      "https://search.naver.com/search.naver?where=nexearch&sm=top_hty&fbm=0&ie=utf8&query=%EB%B9%85%EB%8D%B0%EC%9D%B4%ED%84%B0#\n",
      "https://search.naver.com/search.naver?where=nexearch&sm=top_hty&fbm=0&ie=utf8&query=%EB%B9%85%EB%8D%B0%EC%9D%B4%ED%84%B0#\n",
      "https://search.naver.com/search.naver?where=nexearch&sm=top_hty&fbm=0&ie=utf8&query=%EB%B9%85%EB%8D%B0%EC%9D%B4%ED%84%B0#\n",
      "https://search.naver.com/search.naver?where=nexearch&sm=top_hty&fbm=0&ie=utf8&query=%EB%B9%85%EB%8D%B0%EC%9D%B4%ED%84%B0#\n",
      "https://search.naver.com/search.naver?where=nexearch&sm=top_hty&fbm=0&ie=utf8&query=%EB%B9%85%EB%8D%B0%EC%9D%B4%ED%84%B0#\n",
      "https://search.naver.com/search.naver?where=nexearch&sm=top_hty&fbm=0&ie=utf8&query=%EB%B9%85%EB%8D%B0%EC%9D%B4%ED%84%B0#\n",
      "https://search.naver.com/search.naver?where=nexearch&sm=top_hty&fbm=0&ie=utf8&query=%EB%B9%85%EB%8D%B0%EC%9D%B4%ED%84%B0#\n",
      "https://search.naver.com/search.naver?where=nexearch&sm=top_hty&fbm=0&ie=utf8&query=%EB%B9%85%EB%8D%B0%EC%9D%B4%ED%84%B0#\n",
      "https://search.naver.com/search.naver?where=nexearch&sm=top_hty&fbm=0&ie=utf8&query=%EB%B9%85%EB%8D%B0%EC%9D%B4%ED%84%B0#\n",
      "https://search.naver.com/search.naver?where=nexearch&sm=top_hty&fbm=0&ie=utf8&query=%EB%B9%85%EB%8D%B0%EC%9D%B4%ED%84%B0#\n",
      "https://search.naver.com/search.naver?where=nexearch&sm=top_hty&fbm=0&ie=utf8&query=%EB%B9%85%EB%8D%B0%EC%9D%B4%ED%84%B0#\n",
      "https://search.naver.com/search.naver?where=nexearch&sm=top_hty&fbm=0&ie=utf8&query=%EB%B9%85%EB%8D%B0%EC%9D%B4%ED%84%B0#\n",
      "https://search.naver.com/search.naver?where=nexearch&sm=top_hty&fbm=0&ie=utf8&query=%EB%B9%85%EB%8D%B0%EC%9D%B4%ED%84%B0#\n",
      "https://search.naver.com/search.naver?where=nexearch&sm=top_hty&fbm=0&ie=utf8&query=%EB%B9%85%EB%8D%B0%EC%9D%B4%ED%84%B0#\n",
      "https://search.naver.com/search.naver?where=nexearch&sm=top_hty&fbm=0&ie=utf8&query=%EB%B9%85%EB%8D%B0%EC%9D%B4%ED%84%B0#\n",
      "https://search.naver.com/search.naver?where=nexearch&sm=top_hty&fbm=0&ie=utf8&query=%EB%B9%85%EB%8D%B0%EC%9D%B4%ED%84%B0#\n",
      "https://search.naver.com/search.naver?where=nexearch&sm=top_hty&fbm=0&ie=utf8&query=%EB%B9%85%EB%8D%B0%EC%9D%B4%ED%84%B0#\n",
      "https://search.naver.com/search.naver?where=nexearch&sm=tab_opt&query=%EB%B9%85%EB%8D%B0%EC%9D%B4%ED%84%B0&nso_open=1\n",
      "https://help.naver.com/support/alias/search/integration/intergration_84.naver\n",
      "https://saedu.naver.com/help/faq/ncc/view.nhn?faqSeq=704\n",
      "https://saedu.naver.com/adbiz/searchad/intro.nhn\n",
      "https://adcr.naver.com/adcr?x=jUtnPltuS/DRl2Zrhd7wTf///w==km1vF7hJ8BSXbPS59+ObuIhB7f/U8AS/ngpV+lgz+/eN8zj+tEdWx9wjifVZDOxa8EoD+8ottsZhwZa5Y6BgUjTZ5KSEjzUyQNXUGr5oeSNWUkIzX5P8MuNQfKwJfurQqvAUGAQei+3Y8kBqL0Mzkcd7c2WGhVi+2ERMzttTJhcj/t9R3uh5lCztNcwujYxjBLgjaj43xwuMY95wyP7Dg9rH/DMkUSyCHsSKynKxPyl/zLyEI2C5G9h42TWZuAk36YiP3XV9QkkPtfnLCzkxFLrxmNZi5FtHirhtKFpIblWDg37UjLXRsQAtv1NgdCCe5vohu94UnT88rcx6tJoMbIlC+6mxb9NSKaZyvCpi9CmDGgicMDU5Zt75C5Qk6bxke/nkMVw0iUdNGUbNHfCp7CjKpP26Bugh40/TuHA8boFKkmviLfIVUFvTQ7FBycXHh3dyWpH5Jwfu/QIBk8p7KwNw/TD6WQNsrHOH3Kj0osssQSe832X5m4kUsHJ6ccCl//wQShea8D+eKFPl5Zf9svIR7Z6bOtpuJFFdAsq6hd+Bi3E/QmqyJ5KCeeZifYq/4YS7Izw6tcI97N4D4wPM6/rZDVayOja+DrWesHD3WjO4Zqkj38cR7OxtB31H0PPNDbaJQOGqTi6EXmjcV0+p7G0VYf+/Zc1TD01ZTdS37cmtL43ULXv06UhlE2kjzqGlM8FVf8RhupXPnHxctKiaDxIHJBg1AcuAZqCHs18Y+v/tupt1teL6G+txTzkqkbHbp6w/DdyW5FZow8nEREFQmOMP0e+wbRlFAiIk78NqZ/Vaim9PqA9M3EWMLdtpGnXwPHskw2KN6u8Aq9ZWlP94lvcIThAcwvVsW56kkxmBlwlTZFyPRXuzlqW55X3DTEtdL\n",
      "https://adcr.naver.com/adcr?x=eyh1rqDa4TcyfIqenEi4oP///w==km1vF7hJ8BSXbPS59+ObuIhB7f/U8AS/ngpV+lgz+/eN8zj+tEdWx9wjifVZDOxa8EoD+8ottsZhwZa5Y6BgUjYBkPaGvUNMmer/H2PPoTeyUkIzX5P8MuNQfKwJfurQqvAUGAQei+3Y8kBqL0Mzkcd7c2WGhVi+2ERMzttTJhcj/t9R3uh5lCztNcwujYxjBLgjaj43xwuMY95wyP7Dg9rH/DMkUSyCHsSKynKxPyl/zLyEI2C5G9h42TWZuAk36YiP3XV9QkkPtfnLCzkxFLrxmNZi5FtHirhtKFpIblWAhvYnKGtE9lETmBf2J6dsdIbfXKxEvE5qrgcV6pdFEQYlEx75Vzl3yw42iTu6VWCbqkIPKVtilBkGxqAzc8anXuCNffs4bFZi3uP6JHKutGLVsPceqIPPbSyzrrqPcJImBUXdyywBLXBzBcuh+rU8BTxQWhusVhusCM+01baAsQfaczLKS43OcQJ4srlFwnCgapd3T6LnfHA02iwy9yKoZ/wQShea8D+eKFPl5Zf9svC2PEaIorjkjQPsBGjDtbyRKUlVrr23oBf7cUSXQ2NqdzsHY0FddJhwzZMFARMApbQrMYZFe3gHakhmOGS+NP43Jzv8A7D2TJgJOPkx5JLujI6iXl2WF7j0Q5sOnr7lHd3CVW7DN6EkfbkVNN5sE9q3vTM7BcqqovrCfB9tpIFHVeNvxIE4o0RVlMkLORq0KYZGs12YswJHgSlrfGODmBTGp+DIgEpufw+N7hfTVNbh9k2LG+w8rLqC1Hvs1HZBbhcKpmOiuItmqxyNV75zUr/gBtvDQSpyZ1YxwVRrgvyTTw4kyVwUTAE23EvAiwSWXdhwpZZV8LD1u7ijH+r+YDHgxfCk87HudfsavW2RbwGn6&p=0\n",
      "https://adcr.naver.com/adcr?x=eyh1rqDa4TcyfIqenEi4oP///w==km1vF7hJ8BSXbPS59+ObuIhB7f/U8AS/ngpV+lgz+/eN8zj+tEdWx9wjifVZDOxa8EoD+8ottsZhwZa5Y6BgUjYBkPaGvUNMmer/H2PPoTeyUkIzX5P8MuNQfKwJfurQqvAUGAQei+3Y8kBqL0Mzkcd7c2WGhVi+2ERMzttTJhcj/t9R3uh5lCztNcwujYxjBLgjaj43xwuMY95wyP7Dg9rH/DMkUSyCHsSKynKxPyl/zLyEI2C5G9h42TWZuAk36YiP3XV9QkkPtfnLCzkxFLrxmNZi5FtHirhtKFpIblWAhvYnKGtE9lETmBf2J6dsdIbfXKxEvE5qrgcV6pdFEQYlEx75Vzl3yw42iTu6VWCbqkIPKVtilBkGxqAzc8anXuCNffs4bFZi3uP6JHKutGLVsPceqIPPbSyzrrqPcJImBUXdyywBLXBzBcuh+rU8BTxQWhusVhusCM+01baAsQfaczLKS43OcQJ4srlFwnCgapd3T6LnfHA02iwy9yKoZ/wQShea8D+eKFPl5Zf9svC2PEaIorjkjQPsBGjDtbyRKUlVrr23oBf7cUSXQ2NqdzsHY0FddJhwzZMFARMApbQrMYZFe3gHakhmOGS+NP43Jzv8A7D2TJgJOPkx5JLujI6iXl2WF7j0Q5sOnr7lHd3CVW7DN6EkfbkVNN5sE9q3vTM7BcqqovrCfB9tpIFHVeNvxIE4o0RVlMkLORq0KYZGs12YswJHgSlrfGODmBTGp+DIgEpufw+N7hfTVNbh9k2LG+w8rLqC1Hvs1HZBbhcKpmOiuItmqxyNV75zUr/gBtvDQSpyZ1YxwVRrgvyTTw4kyVwUTAE23EvAiwSWXdhwpZZV8LD1u7ijH+r+YDHgxfCk87HudfsavW2RbwGn6&p=1\n",
      "https://adcr.naver.com/adcr?x=KmSiJVkW97uVTGLwlREv6////w==keJhjWpLVNwrykBhhxPvx9ZJ2l/ge9aT47kegkBvgoqK9pMNBcDpfB4V9DdAPWvg4Nov6hqg/oTGbkW3mumIM1WfPN9pX4oxQfDNuYA9QDiQX2cvduenClszRd6vMxUbKPDDjnYKosQHXaSq3coGxY7ke78jxgb7RjTE+5/ESfuvy5gAD2enBmp7huJk7oA8DGfA0ppaNfeKVlO1/X/7/vWlFXqc2H1Yc3yh0lK4eOHn6Sqn5XjtufzOHQXb7+OPYGAJEEyrPK1vXzPdAPy54LYBR5bReTJAC+S8eFsNBS/EyDuBj9x8DbzH/nd6AVbKkNmy9MfrXNgFeK0clWQ8PpxIKZD9BaBQzTGs+AsQADcfLUovvyrByJywcuwVjgAooOphubUj6AMpMvo1tKVuxkSBypmvIa6QaWkAfaYkA/iKmLz5zLkPdr5lzCWtINh4rmIOjIzSd3f1wWcwF+ArH6zXXovEcs8/0p3ppRY9GdQ/tF1YHhVEgFBLViDzP0CFyQ9yGU+PrMuMgS4hyYkxOrNg4bnwpbiJd1raEGHxauE7LgdLRb9Z35zI7by0TpkXHYItzrsIJb/FZzRMuDtOPvfhWX+O2vEZwk3y6nSrfY+y3ne8IDTf3xrbsenrtvZWPSazP6KSHf+f2/1H2f21VUrbkZ8kNIdYgTFS63UEvT8MNlFrL6hFFWig530N11F8zt3A2z2p0R8BePiiUFcXYQhn8EbTx7bPBk8VqCtQJqB7HB+4XwV2NqJFTxX6q+zpHUP+KZAH/SEaluJlLhrbEAdfb8SJ0qDuPdbMWFl0Oz5FyP7ro7YbKnIJT2nyVzWL40JLG6ek8E0v+efemKzohKDJxtrHB1OdpHO3aJ+i3bWVIhp2ASOLBIzA5jiMx2vWQ+cUssq/2o9Xf+R/gh9ShJLO1A//L8pu20sZpoMBNbmgehDjHjNwm5hLgAzcucT51shtWQmOQvAFUMH203KUXMDLF2lp6/TbGfkz4b3cIzCg=\n",
      "https://adcr.naver.com/adcr?x=NaOYBbKtgXObAV0VWW1qef///w==keJhjWpLVNwrykBhhxPvx9ZJ2l/ge9aT47kegkBvgoqK9pMNBcDpfB4V9DdAPWvg4Nov6hqg/oTGbkW3mumIM1WfPN9pX4oxQfDNuYA9QDiQX2cvduenClszRd6vMxUbKPDDjnYKosQHXaSq3coGxY7ke78jxgb7RjTE+5/ESfuvy5gAD2enBmp7huJk7oA8DGfA0ppaNfeKVlO1/X/7/vWlFXqc2H1Yc3yh0lK4eOHn6Sqn5XjtufzOHQXb7+OPYGAJEEyrPK1vXzPdAPy54LYBR5bReTJAC+S8eFsNBS/EyDuBj9x8DbzH/nd6AVbKkNmy9MfrXNgFeK0clWQ8PpxIKZD9BaBQzTGs+AsQADcfLUovvyrByJywcuwVjgAooOphubUj6AMpMvo1tKVuxkSBypmvIa6QaWkAfaYkA/iKmLz5zLkPdr5lzCWtINh4rmIOjIzSd3f1wWcwF+ArH6zXXovEcs8/0p3ppRY9GdQ/tF1YHhVEgFBLViDzP0CFyQ9yGU+PrMuMgS4hyYkxOrNg4bnwpbiJd1raEGHxauE7LgdLRb9Z35zI7by0TpkXHYItzrsIJb/FZzRMuDtOPvfhWX+O2vEZwk3y6nSrfY+y3ne8IDTf3xrbsenrtvZWPSazP6KSHf+f2/1H2f21VUrbkZ8kNIdYgTFS63UEvT8MNlFrL6hFFWig530N11F8zt3A2z2p0R8BePiiUFcXYQhn8EbTx7bPBk8VqCtQJqB7HB+4XwV2NqJFTxX6q+zpHUP+KZAH/SEaluJlLhrbEATkIwEdpeTUK0eHoXkl8PXuIlG1xPI77sWuogXp71eIj1pvI1TyAwWAylpREUTcJXpUXhzVeVcmYU45Zl/6NVEtX6MeW1zUo2zZ3lLfHZ8Z7MvPgXtGPqbN53IOLU4W/ctd3DhPf6aZ97HL/hHZbw0Reg1sjBBQe9jcjOGUM3G5p+RE7D3pMJRPw8MgEXEHpC0QM30xNQEk3/HoBTiv3iWk=&p=0\n",
      "https://adcr.naver.com/adcr?x=NaOYBbKtgXObAV0VWW1qef///w==keJhjWpLVNwrykBhhxPvx9ZJ2l/ge9aT47kegkBvgoqK9pMNBcDpfB4V9DdAPWvg4Nov6hqg/oTGbkW3mumIM1WfPN9pX4oxQfDNuYA9QDiQX2cvduenClszRd6vMxUbKPDDjnYKosQHXaSq3coGxY7ke78jxgb7RjTE+5/ESfuvy5gAD2enBmp7huJk7oA8DGfA0ppaNfeKVlO1/X/7/vWlFXqc2H1Yc3yh0lK4eOHn6Sqn5XjtufzOHQXb7+OPYGAJEEyrPK1vXzPdAPy54LYBR5bReTJAC+S8eFsNBS/EyDuBj9x8DbzH/nd6AVbKkNmy9MfrXNgFeK0clWQ8PpxIKZD9BaBQzTGs+AsQADcfLUovvyrByJywcuwVjgAooOphubUj6AMpMvo1tKVuxkSBypmvIa6QaWkAfaYkA/iKmLz5zLkPdr5lzCWtINh4rmIOjIzSd3f1wWcwF+ArH6zXXovEcs8/0p3ppRY9GdQ/tF1YHhVEgFBLViDzP0CFyQ9yGU+PrMuMgS4hyYkxOrNg4bnwpbiJd1raEGHxauE7LgdLRb9Z35zI7by0TpkXHYItzrsIJb/FZzRMuDtOPvfhWX+O2vEZwk3y6nSrfY+y3ne8IDTf3xrbsenrtvZWPSazP6KSHf+f2/1H2f21VUrbkZ8kNIdYgTFS63UEvT8MNlFrL6hFFWig530N11F8zt3A2z2p0R8BePiiUFcXYQhn8EbTx7bPBk8VqCtQJqB7HB+4XwV2NqJFTxX6q+zpHUP+KZAH/SEaluJlLhrbEATkIwEdpeTUK0eHoXkl8PXuIlG1xPI77sWuogXp71eIj1pvI1TyAwWAylpREUTcJXpUXhzVeVcmYU45Zl/6NVEtX6MeW1zUo2zZ3lLfHZ8Z7MvPgXtGPqbN53IOLU4W/ctd3DhPf6aZ97HL/hHZbw0Reg1sjBBQe9jcjOGUM3G5p+RE7D3pMJRPw8MgEXEHpC0QM30xNQEk3/HoBTiv3iWk=&p=1\n",
      "https://adcr.naver.com/adcr?x=84lrqGGNNt605y1vANKfpv///w==ktnqQybnTSZDwlDMS5JdggK60U3tZx8AFUWYSyxXhFYxUDvaib8FbkrGl3c+saYm48BcKtaKu8SaYFBZKE6OE+Jj2C4kubTZohuGxI6QlmKqK4Qal3XqvELMTlCi0PuP/zdptdlzN2DUqIYKfB3CGriWmx5bcZte88ng1rwN/v6S1iRTbv2Qj/H3ne33YQvOb+rK9TPKkwVST2h3U7T4M/iBP9JAsHy7/Zcpmvicfso9UmPvpwFRlq4WF39FrmHyw75KNyIvSj30ljTKQTZwvQdDXDTTlnkT8F66oCM11spcz8dkXTg04P1H+7e1WUG9BJBBxZU77gHJsL1d+91Ofdtidf0EtfH8dsXkDmlBjhrYRXYWwSHIi7fImNWITBPX+sHg/u7CayAhb+Z0GsoVrA1nDTNplmq4T0yCopfHUmDgfoY83+Ww4WqvpqfXeaqeGCMqo9lmbpuodMRDddjlKiH7d1uytCuTrlwQB31T0Qa10cXf4e0Ji0SUrRVxyHeKHR9KjrvEoEVNX4NT/247Y/kEYF1CNFhFvFN42zOksgd5FaJGKrfSqN27Tl6SHVAWpLS8kiOl0C4eJu8VqwlQiCYdNFJKNfIhxfoz2SH68vDCNuyZ4ReIYkzumEOAwnX2HEkGOg5RabWmay8of7GyvznJ1Ia9R/sqluYbDIL2wZlXQCoGRTYWhB3hKOmrdDeESFtYFQ+01eIDV0dUTSvg8CJXqk5WnTLLAVsWMb1BDgqTUXRJl76xa0Kwj2CtZr4fb7SIY8kBQ+P2KjXhbWinKkxHo+jqjxx+xqiuMTI694cDc+auzgqbzSHQBFmU3gv9Ri260fpRCVv4B8hdmqdlxg6c53M4hhiXChgYVokFF9PUbzhhpk18EGufxx1zeI3J4C5BwZyzncf6LkMquEp9RDbjRp5Fz9iQMFXaTtjggE+EPvp74wRgnGCtgfbbTl3neBe44HNmJCrJya2ATBOSUwWuQNZWd9BHtzBeEnkrvEVEfe17QzmJQeBkzTnIbuBPp\n",
      "https://adcr.naver.com/adcr?x=rCbM3DwvoJEBZ+tjdGCX2v///w==keJhjWpLVNwrykBhhxPvx9VK2KxdxWPaXh3sdqKbXzkboDa73ylbeWN8bTYTKsOf0mvNIks42hV5vStCAEgwvaGC0YNsO8Sf7G5UdUJ8krKqlwv63NnLBcpJWYdk9giMqd2t37vA2A7TklSNzlaEruZCue0dN7E21X2DtLGOnhz1mQ/mAWijZhKOaZ6iYdCjUSsmY5uZBAyPafzAya2pynna21GtPp5f6Xu3yQBmurfDZWhs2yw9ZGRyOo5mOEyqcmDMB+5GYD1iBGwzH2mlKGSgelv0dthdc8xPOSHX7HEMsLe6INYgoo9osTW122nGSQkM4++clodxhhN/iTZihsOAYnZ66GGs7UwQOF+8ZS5nkKgTpyoi8jo00YyR84SuR20EsdUc2YQ6nbHRvvuCGc7OPum0i64wnPHUHvTLj8MnsNam/ATQjuRvjSQ9+vvvb4S3n3RSltCUrvM4NR4Czmh3lCXr/mg7To6kO3UhsvAO/fN/2fHzLnoGL0inD3ZHV6y6H7WH6qtmpMO4+e7qxpI0odUrD5si3zlgWrFRISfRkYMiypk57tY82tYj624FWmfo7bz614HuS6GCNC28MRoT37cSLP6T/5rJ5TD5XO4bsRn12NigOU7fr9PMnbi48chK3oY3QVhRTVki7XQ5s0gJokXpVbaU7rXJ/Q356dX9xiHfmIV14Cf0aBW61PAbsDxElC5Vpl0f+So5Zu4clNV88wRyCq2Kk09MxN/S1DvVa7r6zku6t5TpBbFmtmK3FvtMtMR9UJ4h79x8jC9vbe4VoC2FiPRT9myiDVg8Xp2+V5r51mkknGsbFQIVOWCB7XPol18ib49Bna9A3RGYuv1Mu9cSMJXYSXsNBGrQ/ysaSObc17VmnGF8qvC7XUS9ksuM3oYpNw7tZDMqJS1Q91R2ul/VqO/6qKYRcs1tekazgfFfjnheaZTBj8ffcQ05/odeWYdMNkCtiENGPjJJTOoTEIznVijm0VrOS3GgNcmaoOi1158Z5tWZYVXDVZqRd\n",
      "https://adcr.naver.com/adcr?x=Gf8dllaJUQUre3mCpXlY9////w==ktnqQybnTSZDwlDMS5JdggK60U3tZx8AFUWYSyxXhFYxUDvaib8FbkrGl3c+saYm48BcKtaKu8SaYFBZKE6OE+LOQGuQ6w/NgwwYlZTEJMpaYTtF7zYQozBFblHXwg3n1y1LlqcZQmE21wn6NiX/PwFTEdfHzf0DKuXnceG1FwJJFcWkDalca436ZDfI6gH+fe6VAcjEHvAzLAoBGU1D/5gzB3/9ke7dvYB0ZdyBhmfYUILocf/FrbLTUoWa2uy/rVCSwS7Hb1SbhuXGeRJpGdt/DSbCC3xHLkajVaphmQ2PQ0TDKjnGmQq72YR9t0kO5ze4ocX52DTWapXnjgYfN0HXdaB04rt6c0Uptk03cVUkeqCUnnTYJhS5ChpZLhI61iY3PhGsOW+45mOd61x3TJEFuTrPGAQd1DXaIJH1OiTU1/T9n4ywa0bD1NEEn0e5i/BcpvQBmof2XsBxXyhHKl2TcNVAPie/37vszAILRhrDFMKDrG1f3x/69BSZ8H9WpMqxq4ORB87F56k9bq3BPe83vD3gM3PXYvB6E1jTkJJJZg+VbSGoyMDiohAlVHSj6K6YPvjMW2kxGJlMk+WzW6xjIuw1S0UL4lDQUXFlBd+FwDUIPeNfFMBi7nHdVj0Sriml5ZKlAObzgzRPaQxV1KLCsJSOsOyEcwNbRRAX6RtUvWrJmxlacbeLykhR5vF+hWZNKj05jH5oyBflM6uSKkCBcD6ZD7w2DLUnHYs8FAGcZOHq7bpd+F1HkaQcZLZttPYR4xdA+AHoDCwAW5xrWJ6oOrZEABe13LHKAU/HInLodz+qzXbcCBmZzKBPuG3vryt+9rZZtdX+hfRW/zmEgoeL80IzG6hDv/3rfJD8yvKXPDtznEUDh3Bd2+P3m7TrP5gxFpV8HZTRJsRcvo2PydlN4RTE+uwU7QW7MaNrt7hBkSjzGDSypOGrXEFkJOz/14ksseCD/5daBL1EP149IZ4TuZLS1ZlkqUsMF+eP5u+7H+ItFAg556Wr0409/esDW\n",
      "https://adcr.naver.com/adcr?x=fTqH5UglSBcCEGuPJTjvjP///w==kDdAEEP5aOKLZak08jTKuTD59JngWpyv/9t46oKkrBMwiQNr9IU32bP//XhrDLkmaX/3YAhh2SOKA6HVpwR/uaHpN5W9Toju6BZUbZCcjE181HiedhNexkC7/itlx6n9NDB9eTWJkVwtqdZHorXzqssl0aoSP0msShNwrKO0WoNrl6StT2ijBXV+OJsxRl442UcpnCY7PyWxlTsll+QuJ4P8ILnKUnVqDAhYT2rC4Y4hWLJdu1SyhT5rHxlU3fXygz/KykZISGduruIPKLxPBCgq7WKfGHwakq3e8Bfiq7D1So9k1owKaVvOzEWF/IB0wrCP9nlV4/2BR8AJwomOzaMl8xDEejJYxVvE6R69pUZod6MjSI0+MLxvztb1nljJ6T6IBBvlb5n9TuTzPX7ws0oLWxwCckU6FLKetTystg2oO1X8MqBZXAzAVFvz6BXvUCmIQv8cwmXu916AEiWuS+bY3GQZhYk7INI0rYu1PYA8kUngx2nSK1S1tFpVUngoWRdFVbdYbX34xMt88aO34RA1SQk0NXrkzqI4SbZJ0gmkEUKUxXt4Zpb2RhhfmSIEs1WCxUsWNEJPuB790xnfUf7q9fx4hGZ+BZcjpvwKxw7XsYC25FrTqICMGD5LNmw3jtfej7b69dIZaqAe+4EU/z1BkzF1iX1xbWAkhHSFdSVGWwoiT53k/SlbgxwkouHXk8cntv9jD+99sNt5QPfRjNAKgoS6oTYs/RyC6KZP3L0IlThiJKntd2wcZy3eTPu4TnNFflF2Huu8YSaXJjb62M5JA4zv5202RHfi1ntv08r6pkgTZS2bTo6HLY0xeU0wsxxJgcQFFkgYrt3VXvQbA/UE+vqeAag/mVCHMf9Vk/Y7n9VVEOaZCG3Cxf3NJjaxk00HeDmb6mPFNq4UjFUY2NFIAw7qb5g/34kySLUT4A375+xoNSjEfbq0pOvBv0ln3S2gJkKZtZZ086Yu0iZ70QrZV3h0BXf8Ua1Ig2PWmK0hZvLBiKcDM+x0de8hUb+0f\n",
      "https://adcr.naver.com/adcr?x=wlyCsQ2nJGW5Y26VLgA4Ev///w==kESSUbxZ3NMNsq6EikmnFEFJF9fisiJ0ecj1M4CWQUUpLUNmoWo2Ql4UqRL3FlipQjemAZ+AhF9UMFa6wfQ9py5VrGMqqrdI65TnLYrUApRCVK4yxI0WLgE2YeV1Pw1kTq34f/i4HyNao6YxEd40/bDMlrKPqXaMxSWmDTgPcauMPCphvTvF+UBGd1jUmQgk3CQ6jx1w5huNwPawJkhXhumvG2cW2LOi2pigxcgzIbRJCypQzmgGeEe2WJrBZ9GPeIB4mhbLhJJUkyj9Z3xm2bwe8xMxG08EmYgrry4HVrTvRvXQ//YOiyddnQjYsS5mzVktHXSMn/FKGccmJLyFAAwNzzknt4efXxiK+kQfhSV9L3TgJLGsAd9otImbxHAWr8+7q5W7f1CRgyKQ2rljBParhbFqgxEafHv9diGIC/IaQdfuHb7eZgUwpB2TvURTEd5nSvppGeJuO9cT6YdsBQf8vD2vnJKAUDoHgqF7cDz5ZjPoRypUcB57OHi700rR08o7cykLpUkit7X0JyzdpDgMl3KOlKa5mEoaiDYWTBjbI5zgcBoZE8ES6EUGW+VPByTIkRQa36tYtB5Cr4gW8hQFlBer7G5JQD2UUEj4zOcCondpczzQ4TW229Z7HWyLvZg0CEcGQqBP8d/ih7coMFiGKEPnhSHQm6+QTRWB5yY4tCOpZCybzdiohJSdJ9CDmRMbEPTQF5UR+IBRwZcAAf6YIJLdO8ncW8Csk97OO+s3iv6tB3jXAw//pTWC1Q7I7SHmYiq2yTiG1w8HGv7t7N7pBZsWGNjcp3ty6Tl2YaVquA+s/Fst6+zZoNsRNfGgqnLLJZGDRiSfDg156lc2fphdhICi//apXwAsAODqFxOevS39rqtFGKLaAKe3Liw6rVRAlIQKYZp9qxz1Zssd7ZCZfBrMbFqj7HQI24KV/9aCuDXcoQHSY7vj3HVB+sy17GDmyJVlB3m/Q5WIoNz95PbOVDKmx3J72K4NZjOyX6Ek/+g5xw6euUKQYGAz3B1s0rjGtebQJAoM/u7w2vIc1zQ==\n",
      "https://adcr.naver.com/adcr?x=+St+APK7BPhTbKzJ9rw0af///w==kESSUbxZ3NMNsq6EikmnFEFJF9fisiJ0ecj1M4CWQUUpLUNmoWo2Ql4UqRL3FlipQjemAZ+AhF9UMFa6wfQ9py0c47DDlEarB2KjUyah+2U2VK4yxI0WLgE2YeV1Pw1kTq34f/i4HyNao6YxEd40/bDMlrKPqXaMxSWmDTgPcauMxiS5n2LicUQ01tp9rW9FaCQ6jx1w5huNwPawJkhXhul/CHhHPF+N6b705BcianyFCypQzmgGeEe2WJrBZ9GPeIB4mhbLhJJUkyj9Z3xm2bwe8xMxG08EmYgrry4HVrTuueg6ec1UmdP2+AAtvdrpA3vVpAeZVvOMMvPCsLkbRfQNzzknt4efXxiK+kQfhSV9fa0HT/C+AGCtKth/4XtEIQ2YcOEq3pmEnphyMlRSKiPyDc5wIAuHALYLu+WGXA7RD2XhP+r5XLai0yR+g9cW56wd81B4pKR/+7PBdBEqEjiQVzTpC0Bdfk47bNS3Bx0bqx5CjYdWjdqjKKzjxoMRQTsvNUsdtIdNMFHRDmAVbS8rX3VXKX2E1GyfNRDI4ve74XBw+EuNUu7sGP9uO0Hsx26zJzLB2jDy5Fhbr5zA42qFRQDmPxwRb8Oz3G2uxIoj7J3DwQqWyKd2W45va5fYLipdMVd8E9vcLlnQMyPgwyXcedkARdxQyrT7uBrqRtWjnjunoYbEJkoFCfuTVOxSoGlp/x7BJSX4RBfjoM49yfCtkQmPkWIcu7CURi9h7g8q/gqD+qK51JMIdujxC9ZND4Tki/Gx5/zx4CXYzXvSm/rpBZsWGNjcp3ty6Tl2YaVoRD7Hh8Oa2Sk5vsYs/BsouMwrAFITh57eIFsjirVMRnMIpyFGne3gCWyu8RvuEdaPEerGFGVMsHrJHh5LKya3gg/YZNYel/KZ+RvEVQH+6tW++8nr4M8P0ufHYOH3+puCqBRijMJ1l9JbJ793RIsk2V8WCmR25GjTT33yh0Zx1++93/qDp/qE2Oy+pYI40HqYk2/wtfq6CZFp2VSZCkPKAGI4pBg54BCydLi6uACVj5g==&p=0\n"
     ]
    },
    {
     "name": "stdout",
     "output_type": "stream",
     "text": [
      "https://adcr.naver.com/adcr?x=+St+APK7BPhTbKzJ9rw0af///w==kESSUbxZ3NMNsq6EikmnFEFJF9fisiJ0ecj1M4CWQUUpLUNmoWo2Ql4UqRL3FlipQjemAZ+AhF9UMFa6wfQ9py0c47DDlEarB2KjUyah+2U2VK4yxI0WLgE2YeV1Pw1kTq34f/i4HyNao6YxEd40/bDMlrKPqXaMxSWmDTgPcauMxiS5n2LicUQ01tp9rW9FaCQ6jx1w5huNwPawJkhXhul/CHhHPF+N6b705BcianyFCypQzmgGeEe2WJrBZ9GPeIB4mhbLhJJUkyj9Z3xm2bwe8xMxG08EmYgrry4HVrTuueg6ec1UmdP2+AAtvdrpA3vVpAeZVvOMMvPCsLkbRfQNzzknt4efXxiK+kQfhSV9fa0HT/C+AGCtKth/4XtEIQ2YcOEq3pmEnphyMlRSKiPyDc5wIAuHALYLu+WGXA7RD2XhP+r5XLai0yR+g9cW56wd81B4pKR/+7PBdBEqEjiQVzTpC0Bdfk47bNS3Bx0bqx5CjYdWjdqjKKzjxoMRQTsvNUsdtIdNMFHRDmAVbS8rX3VXKX2E1GyfNRDI4ve74XBw+EuNUu7sGP9uO0Hsx26zJzLB2jDy5Fhbr5zA42qFRQDmPxwRb8Oz3G2uxIoj7J3DwQqWyKd2W45va5fYLipdMVd8E9vcLlnQMyPgwyXcedkARdxQyrT7uBrqRtWjnjunoYbEJkoFCfuTVOxSoGlp/x7BJSX4RBfjoM49yfCtkQmPkWIcu7CURi9h7g8q/gqD+qK51JMIdujxC9ZND4Tki/Gx5/zx4CXYzXvSm/rpBZsWGNjcp3ty6Tl2YaVoRD7Hh8Oa2Sk5vsYs/BsouMwrAFITh57eIFsjirVMRnMIpyFGne3gCWyu8RvuEdaPEerGFGVMsHrJHh5LKya3gg/YZNYel/KZ+RvEVQH+6tW++8nr4M8P0ufHYOH3+puCqBRijMJ1l9JbJ793RIsk2V8WCmR25GjTT33yh0Zx1++93/qDp/qE2Oy+pYI40HqYk2/wtfq6CZFp2VSZCkPKAGI4pBg54BCydLi6uACVj5g==&p=1\n",
      "https://adcr.naver.com/adcr?x=ULim/AXacdvkdQMdZNczqv///w==kAg0Q0bq8LjOOZ5f5BeKbnuN8DIy7nlFiHRBQo47n4hMxggVy7I7b2/Ci++WT0DUNhsigN5hv1nzb2D/Rp6fUm+vjJVbXb+p1h0pgyWWaHd7ScoZa0vybGpJNzTMdyiWZI5GUDSVMDSH/DkahnKsowracaLBUkI4gLjiPrH/l8Lf5/mFdTL/dd77FsCPn2tFB6B3fNw6avhC+amounHxaWY5V/eWBeH6YQab6prkv4XUPpfaBaRhlR1x5w8iVVg4kUs/T/t0hj+fEwlUxFqh7jpW35GPq2z6lVwInjMHF44r3Yh1bqAXEuYNlkMrvNdpeCf/8QKmeQXGdJE0k88sncFiP8I1ls3TGn+CXuGEzBW3rgVwTDyFMg5B0WNqiZRaweooVRF/c3oAG0nGD9LmBIpiQh+OjXlSWB9b6UfWhLsBAM2fdGeIP+NNOsQwiq4tLHiWNrP0FJ6haWidUNzXGpp4eEwxRrigAGTOvsiwS7CR5liAsucUmXjMPqvDHADkYgdanTCVCLoSEbhR/funaQY/eXxvpH1EWtnNEUIfMTQ+mtd7DeWJ4X9WbsS4axcV9aJen7I1K7SidRFuYcHCbsl5XcjA2sqeaAIMqeulP2EWUp4d9P/qSwyMAhBOJM1W38R3onmy2AfhbNGBra00v1pqAW4uPyaPyQMFxPK0ygXfut+DGmMz1s56AHZpeQonaPZqdcLhXbX/W1ofNbADAVkjoynDpoJ4k13co8ORlFBt8SsCjt+nqwzb4GO9F5848gpM5vvamolJ8rO3dn8CDxJSMufgNcge9ZqylhmB6yKUfAUYEaXyzP1mW+Na0BXebHOyFfZBEPsiLnC4btvKO6D6OF7VIG+SE9fmHlKw6MozIgeaQTYc6Uv2+gMdSSWB2aqAv//4Xc5PzjSXQhWhuvmNv77jpLC36br4/IlFytFPbQPqBr4AADZjEDmfSjKzUOOB0jeVwxhODTfrOHrTpxTrXHU0unbfYWTkx+GhS/To=\n",
      "https://adcr.naver.com/adcr?x=heXYYY+Du3Hb9bBku+uqf////w==kdgPnI8qNFtx+SjVvgkGuKK0TDTfUhVsgDkQc98nnLcFjnpu3bZD0T46cXgnHKWJZuOpm9TNt7GPhWVsREwPqWcwKh1GN0RByyM/i6et6Lrd+Fmt9OUwGg+SDKmrKjJNbAFZH3E+Bii+J9AvnSkDmRKYe2az9NwWvvSOe31nHOYoWNWvVwn3FaOXlG+x+Pd6luL3T7e9GDsOXhM/VV6dmbEsn7eGYiUz1dOJkGiF3EqCP7vBfghwg2NBOTYPqsVfzKZYNS1FW5AZuswzLdc9YX5h26KhKEp6HdKKg8u+17oL51JazTJ9SG+sbD5XCk64AlqSieRNsUxZJ7ktJ1j0wB15CWXjJYcze9+ZpnKHjfZD5A+xC8nEZnuhOAYvOKIOuIlJHvURgjcom35w0d18utlp0XdUqPGGOnJrvEdE3a+e7Ow17bx/jSw0lcS6fGTiUhglfbt1BbRkpaHB6peQCtM84su7vkkZffPe4Z85M3PCmTZemaHvWVg1xMhK4LvJF8aWom6YcChdgMYASfq0ig0pFxQ/8fZuGuSeb9JQLTsSeT2UuBjZw/8tidWNlhlRytYq6DyY/FOz4dsbCQzRS/3npkvFu1r8gs48s7nAMguWsr+5pmv0zNsoJoFU6ztps+6LgbbSNfM9vJNbqxy3aJ4E7AYQvoW2fka9MGGPd7GSKcOJFcTQJuOdwmu2eCU1gJhL6FkwiYzVV+E89xGdw2kM+x79zQIoy7yr+WdBvLRj4TJOlnAxC6mMGYpoW0U3TfEDZxP4qwTfqMORpR8ZMEesJIcxW876qQJrnXI7QREtNDFbdoSV1mOqj2wM4WexjUVOVs2KNYZTb0y7TdU1c9LOLfrLXjwe+NIRO7addDNsdtSGjdvKIgSczIYIuEyWKpdBLWimjoQq65j/m0FQxuspJoUBDBgtx/2D+2xM16n3DE9JpkRYyh8blr0Gikiy+UY6r83MUleb+7vCEbKgJ8lB57SN3dvBsGOeZINtEZs4=\n",
      "https://adcr.naver.com/adcr?x=shuZuBNl7G9njXiqDPtTwv///w==kEzFCKBVia24uTUsjRmlhnYakBjNkAREG3oa8BFQys/7i0xSNaGL8zS1TuBpKDXihcx7hCPa/m1RD97b6B4GB23UjxJdAusBYbyhQS/YW8CTFigkU26sxuIIFVwV0aFzKTycojpue3aNd3HYUnSo0wDA0YrQEYakNmLNzI16k9m+Y7n8LXlwebX/S616o0oFsTRZRKWVAmRtfjxZDMQB7OmjY9REqHfu9/XjWsCpYzKUbCcueo/iJGEPsTiuH/NWjzF8Ro4YnTYNDz+kzB0g+PisqNBNd1tjJcGJLjrw7380ZYDP+KTZdL7IgveigciUHCrQYOYh5xNsYH2Fxf+iC8qID4qKUGcUv7yeYGviB1Ey9yZceN9ZEjoOiNpDP7e/2SO4aaQF6hAmraZZKxpKjGRiv8XrZtmiZfmCDOrjTkBJUFBBm2Oq24wHJkiWkzwwEpggqqrMPl1pzZ96wLbtnNjE7IAMyG4pJ90GLniGo0yMGYiXiyRgm7K65+yJxHif2zQNzezymCFXEp8LkWZt+V6fw9FmvSep7f9Nsy8eT90+7mOMNKeL8BOmGhyK+QUkbznnfUQNBUthm84zzbwIw84UX66o1HVpQA71ttJJ0SDj3GqR6X5vHE5FedlIPopXUwMyZtN3K383vWSXOG8E+icwknwSww7ggqLcR1jm1nGBsobA75dV9u26aWifwNEZbN6+Fgus2uFXjCNihqY8SL/1mXizJRPBX4w8yaqes7/PJIrTfsQefEB3k6r/ENWeDkf8d/H62mGzi2Ao5+q/Am43XxkwcT2AsxGNGKGt06/kd1mqb05hWQmS4QCHVEiThQy+qnImoBy+nPKxk/wr1P4A8IIRPCajQwODEylxlZ8t7nVZZovSxqQ42L91Gu4TcrXYFVq1DK4OGn1BjLYdcvtCrHSVYy/bPXOeyiqncixdJxs1CGeT/TQUkr/1r699j43gD6bPRiX0pWFF0S5X3o6nJM8tIFXSKQJXHTnGFIoY=\n",
      "https://adcr.naver.com/adcr?x=ze+w3g/UNff667664/hHUv///w==ksnAR2ZkEbYzaIHGwGHz3IlAKM4cXdovVyjfKG7GLsR+/IsLabnDM9pxB7qG8aIGoSec28T3MTFEMTHFadFWiDYFxhjH83cNLw8lZx4PcBV/Lr4vZiEHnCTW+YhDHyEvDKeJbgcIh+VhMaMw2RbKEueKKIO+kcC8Ts9Twncia7bq4A3AsRC3znoUO7Ot43GnRRuhY1jWdlz/HMvyXtp4g5Oqv5J43q1Ro6IeNgE6BgrLbal4RC6ksLoSQWWoYh0Jn0GxnzlvaXlZ1k8XLwL0CqAP3Ksx86O8jt89ij7rIuZOTzQoZdKKEtBQYQ4zwLq+zKgZOBbJSqy2syOs6gucwBXLVcEkbu0/tyN4mz46/m5K8/BBJefnlgQBH2s+vNF0RaJWdk47wHOYqhwrReAfGEpq3drAR67ma+n6TlpSKTQ/XWbi9GdGfk8Wwbsv4WQ2b3s6lHe7O36cVVgHhqEV/vs7uCY16yDzdZH5nqfNGERifl+5v4WZ0MBVnfcLuazTG9QdEunLkBJqGiM2xbeCosC79z1NUDgf23koEfvYuYkdTVh3dAB69m74n4aUCkh/gpRyQFCEjc1RAyYrVIJAHjaakwCSqWkZdVexp3rVss4xyCBYppttI7K456O1dHC74E7vn1ozAGdhezi6t4km3mMQIqVd9NHDd+2zDe3EaAuxUDsRvwGVm7Owu5yZAQRgr+oLWHFKihCSnqoOA0gJs+fglHzcBeL9tVj2DG0xKE03rPIjDLznFeRPwscT23TpXoppOqBGHU4Vf7oIyWN1m8pankGD7H2XinpxVY8kJazI76Vaq1hFWq/RaUmkV30dRMsTBecMcJhiHWcRji6KR70GfAdNVlXVboIiaOMTZQI7R0KBoU5X1UjTHQpKYpPJwDqtlBIPrIYU5Zga/sWfO+TSMzgui0LvxBYiwOVYkMFDR33N80xXS4XlLRlv1Ag9+XMDyK/6WIoZ00yICmtMqgyNeFIPs7apcsHDcQRt6xYg=\n",
      "https://adcr.naver.com/adcr?x=qKNyLT5P89ng3NvyiQOcnv///w==kz8jtXlz72cUEax6MgVi4TDsAttrr3X05mdI+DjDc8WNSp8teR9v4RISwQIioHZkxJJskajnMYZ1r9fIYh4ddkmIx1EdwfaQWMrAjGsmPX4e6aWu48Eui0UPA3sNFySvkmEfWLDr9oHRKvaK1jtT5N9ICEhD85b8iCPzrkGyVKIW4OstevNL47B2h5WN5SngVCfHJbDv+kspgvgBnk8cSJf5qM5qYBYKAq8LS88l8ssfyVp2wU6wu8ujIJT6UyBkdTfHZvs5dNNMWNOn6XIP9Ep9WSGm5+pQwsxAG8+zPnARaLSorEPgPpjy9eU7do0W2qkeXfsuS4vXoH+8FAW8yUlkDvExsge7o/a/8hGQ77dr+MO8bYFxrhUTvdxgR/7gPd4BOcrzQlgO1xrHB1V3Hgw/vTR76bFDkMNIgBkjkh2RCaVCqR+BdhAZACoySz5WfzRFArmhvoXNPyCnl+0cRpMlLhJjUN1l+oW80R4/WTppn9P8puhn+9xmtpawfNxe6FIea0TdTU5rLcRGSHnkdNpe9j3TsKUYOj89qkuTJA/bfBxos1ZTUPAK2CHtXaA0yMwYYbKNYu3fpijIXGKL8xbxn+9daxdwmgAGkKsizEhFOHdhIaDugoipXzwju2VXpv7eS4yCP+2+51CXVDlR+kzS58desGduwSKk7olY37wssBGSJBr3wp3dTqqf4U47eiHUo19vr/08RPPRVruErxX18Cfbpos4vx6VNzGilqi72jZb12o1zgCB1mBaDy3mACz8uua7fkmB28HOI6UcIfuU4OsuShfJzkTvxy9Eff0eSNZXUgIMYYgs/ljLlTc3PCUsy3KgPZvwS52yrhBd2+TTddg9JaScc2NabkvXxS1gX5Wjo9HlSBxijI9lrXRXJWmjO690yzJVlj0oGd3uxy9CMwL+0pZXU/8/Da5v6R7cOCRbemviahjbZTSCMiQWx\n",
      "https://adcr.naver.com/adcr?x=PWtopgxlU4Hc0VV3v8S+/P///w==kz8jtXlz72cUEax6MgVi4TDsAttrr3X05mdI+DjDc8WNSp8teR9v4RISwQIioHZkxJJskajnMYZ1r9fIYh4ddkjb6Td92nsd1Pn0QASWuBNa6aWu48Eui0UPA3sNFySvkmEfWLDr9oHRKvaK1jtT5N9ICEhD85b8iCPzrkGyVKIW4OstevNL47B2h5WN5SngVCfHJbDv+kspgvgBnk8cSJf5qM5qYBYKAq8LS88l8ssfyVp2wU6wu8ujIJT6UyBkdTfHZvs5dNNMWNOn6XIP9Ep9WSGm5+pQwsxAG8+zPnARaLSorEPgPpjy9eU7do0W2qkeXfsuS4vXoH+8FAW8yUlkDvExsge7o/a/8hGQ77dr+MO8bYFxrhUTvdxgR/7gPd4BOcrzQlgO1xrHB1V3Hgw/vTR76bFDkMNIgBkjkh2RCaVCqR+BdhAZACoySz5WfzRFArmhvoXNPyCnl+0cRpMlLhJjUN1l+oW80R4/WTpqfop3r9wJT2J6TLMvmPimqFIea0TdTU5rLcRGSHnkdNpe9j3TsKUYOj89qkuTJA/aO4fNwygCVrD5Cl3wtO0McOa7lm9QkAENKFMqjOvWm6QkCEnt+Css8pWNBSGg7Qlm9fotrc7JidG34ydbn8nlAuZKzjJ9P2OY9mbJ+UhbbiUlJ1vOgxn5gGJUhw7SSUTEypyqmFgADqojemh7YnsuY8pFH/nEVrfcprK3uE7oC3pHM7obLHVUiL8ienwbSseB5SWQZuUZnDKyRe5/w+q1E94SaZ1qt0xu1xm8oAdYwW/OAMBs3XOqdYgtcqYstG7JRkEndcmMLD0Mjz1msGcPDoOdr2c7PFs3j0W1Jwfvlet9zXIlbiM4DO0m0AdhlnGKZVps4uMjN6SDBsj2Svhg/aNMr29FIcYS9OiQCottOecQ2UmZxAti56KW8cPUpkZIayNcTTe7ZyfITF6Ymdli5&p=0\n",
      "https://adcr.naver.com/adcr?x=PWtopgxlU4Hc0VV3v8S+/P///w==kz8jtXlz72cUEax6MgVi4TDsAttrr3X05mdI+DjDc8WNSp8teR9v4RISwQIioHZkxJJskajnMYZ1r9fIYh4ddkjb6Td92nsd1Pn0QASWuBNa6aWu48Eui0UPA3sNFySvkmEfWLDr9oHRKvaK1jtT5N9ICEhD85b8iCPzrkGyVKIW4OstevNL47B2h5WN5SngVCfHJbDv+kspgvgBnk8cSJf5qM5qYBYKAq8LS88l8ssfyVp2wU6wu8ujIJT6UyBkdTfHZvs5dNNMWNOn6XIP9Ep9WSGm5+pQwsxAG8+zPnARaLSorEPgPpjy9eU7do0W2qkeXfsuS4vXoH+8FAW8yUlkDvExsge7o/a/8hGQ77dr+MO8bYFxrhUTvdxgR/7gPd4BOcrzQlgO1xrHB1V3Hgw/vTR76bFDkMNIgBkjkh2RCaVCqR+BdhAZACoySz5WfzRFArmhvoXNPyCnl+0cRpMlLhJjUN1l+oW80R4/WTpqfop3r9wJT2J6TLMvmPimqFIea0TdTU5rLcRGSHnkdNpe9j3TsKUYOj89qkuTJA/aO4fNwygCVrD5Cl3wtO0McOa7lm9QkAENKFMqjOvWm6QkCEnt+Css8pWNBSGg7Qlm9fotrc7JidG34ydbn8nlAuZKzjJ9P2OY9mbJ+UhbbiUlJ1vOgxn5gGJUhw7SSUTEypyqmFgADqojemh7YnsuY8pFH/nEVrfcprK3uE7oC3pHM7obLHVUiL8ienwbSseB5SWQZuUZnDKyRe5/w+q1E94SaZ1qt0xu1xm8oAdYwW/OAMBs3XOqdYgtcqYstG7JRkEndcmMLD0Mjz1msGcPDoOdr2c7PFs3j0W1Jwfvlet9zXIlbiM4DO0m0AdhlnGKZVps4uMjN6SDBsj2Svhg/aNMr29FIcYS9OiQCottOecQ2UmZxAti56KW8cPUpkZIayNcTTe7ZyfITF6Ymdli5&p=1\n",
      "https://adcr.naver.com/adcr?x=1a43wIjg/Cvzgn8njCIi0P///w==kZu1mgcYK/xWPJ7FiN/qvYU14jM8JmrXC7veHJHKKtSOGvXhs1cTk6K/r1++Wk2F7DDdafa2Lw7qmQHx+lbGbtfw4EI4T0rZlGfWl/05rb1yTZRKjkIsL8sSeatnUJ+7awNn3ybrkjr2XWb1NJmp0/+vATiAGRMtOpIYNeZR1xR9SMMq9TFmHkkQvo1nUZJOMjOcHnoJvdu9dZTZeZoo6e5WgzvF+Pff3hbFeBz8HWYe8v63lc0uw2Daep23e5OHmOFedpJT62RI1lSJ55BgLj8SlCzr4NMrvK/8AKQfpwS2LBTbZj7ZcTImvSrPHKURzsih/JrXglKLHEyZt04TfgD9xAmGVimye9c+sBaOewLrhJf+sk5nBFPWzGl5gRwrieEEYKGpcfesA0/W0Tujhkh4MiEAGTD9MjbUt0HdqRJ65/ADD4es8YWxGmgcpVRNohvImjUv+OcatbIZahhLa1APR5vJbUOmn052RStdaMBo/QdHHrrLL+6pfK1QIq71f1CLYtw+pCMwTk1ld9H3V3SBaFjpWnHtU9TplWtgNAu63s0hR3o/2/PHXiNhOqn4VFJ4AMjkkjgVV6iW0yNEsrw8loPs6ZgaJW/MEzSEOtH9d1qYYr/zqO3AjAnjmCnFv/ThD3OauxfP203Y18tX4pawkNWMeiZfJaVmvHQQh18OpehjrXtn4m+RbpYZNZp8ZsubhwPXIvzzGCBDvDVmx9+4Oii1e4bN+8ktMBat8Fw0GodbyZW6+l00lvOQsw6m1EJyqDGHI3ZvRGInzDvWPcUIoTO8qQTeRvmlbblWfZyPI/HSlXgJIe+7maZfVyDSPRYcdSSoADi2iwJnly8g9Q2jKXvtgXnvfZftOlS43tiQh3QsjJen+mo6cWx7FN78ZukCda4McVpw65cDX9Ma2MdcnPpVAVgHlOvrBLOvwhG8mm/ZQ8g1RFjyIBBWXAseOpce1I7VL/euUS0BUA7O9OQ==\n",
      "https://adcr.naver.com/adcr?x=GjMrKvswxnSMGWhr501npv///w==kdgPnI8qNFtx+SjVvgkGuKKcWcAhNBc7KW8TNQ6CXzG0M8EqobegoZQdJo9bMmUnrABC492sRz65yx6vW3VZwDRPWZxt/vU1Uy6M5NgbHuJ2pzQo4Jhxgccv+kyeF2xhIrcsYVvLUpv30//8NOawCy5hPE7mWfpYekgN8NgLAduR1nZv9OsLhiW/A7NZBELttzm36rtsvVE8bNxNCH1w1YqxAuox1ehm68Qmvb/KslJrMaHT+ZejHuC/WoObMpZvKh8W2ZtI1GkYDobwaucSbxkZtqSPVOA5pB2ScpakKuO/lJuN1ljcWYuNrfnRYZsKRDHn2XhKBk3UJk8/UZUh+1zSSy3rfMGZHQJfx/lg95S+9CpE7K5Tzq7gKk3Kgr/hMWMltwfbRxJCmBzcpXXhDECuR+C8Yh7+Of5raN9lwvNnvEU/ygQRpNgx5u7TjvweUQgzHb7HtfV2BpzariHPDxQtqIvYhpg+RvQddidGIj8oXqiWtDYxE5RaH4szLDodmbk9XNI7hmwHBQz1AirFV2lQ6jp4k6Cx/sHo2rjxqTVQKm8hBZ1hIbx+HAVv9jeKgHnJSBGkSyydxBwd3p6+rMlRiOIFhlrHCbczR8FY/DeelNE2Zz5hIDjzzxwWL11UmRrWnHixLtHqZgYd6Y6zwO5oVbGhi+RsbXLO3eCVHryfUw7TD82/3YdmerOogDqyylR2uOqLcxDCbZJitAdsXgpMJhRAX5LHPT089Ih9G+cFdxLjTg2LZz9ixTP5Q86WtfdUyFYufHT6cpMVMckrK4tVriXrudvpPxHxBpcTWq8A0hf2ITqAQJvQG9RlmQmis6h/51Y98hnYs8Gnw/yOlb08yZ+XSFM1D+B/fRIZ/DfnDNRRIOIgDw2gbhoEudEI5CQf11bMCtOjoiI9ITnN4UiT0XK3TU4y4Zp8pUTHu7N6rpmTUIlDZ4EFID3YUSzFksOknkid0m1HEh6k77+0jSw==\n",
      "https://adcr.naver.com/adcr?x=hjuavxbabXQ49kQqYr0I4////w==kGxxKmA8zPerel87WsXPL6ZlzcSLTranCq1jqwbOFE0gsBqfLXwsQB/FTWtDSsoiSRPTKJkLd0CWdo92OcmCR6jTOBCv+LSZaVaNTCC2NEsZEpyiid0yYLFuUQxJn7VfQTZy9MDF0ZbOe8zHrzYTb5fDqw1j8eLqdGYJa54AtrGgRhXd8rLhRbTdaImHcRW6jusgJ1w8DFmPOOpgiMsAB+NelCmhL5491qVCK0WAte83hoSC8qTYHYyiWezcw0cu4o0NCIwOSqtWDHOxbeF5+bVGO9m6CDqltkYjO6So32Y4FIC10GbGUNUAd6LRiDPIb0op/Lsm05PJyL0tpzYg87wRyDe5TTh3gf1FAwRadAawHIxFUrEkCuUxsKO1jtSxbM8UlAGbTQRpIpywvVnT+tHpxgKbScVoIIHAUfiaLvg/+qt8IQg/oM+TjWVHpCgfCKUpYwv/x/5bc3OJlgM3eEouYDdALBcglqgy1IbHTb5cND67ajpen2BVC8hs1J1wYlBJJ+Hll7MBy4OdojQXUTk50KAh35W4LJrBImX6Eu1Lg3covasaa+4pSUDMmdgmR+JahCp0YenDLRXrQwL5ORYtLTlmRqHl1KLR81TAs4SKLBBwFaO1TLpcpup1hMukrVR2FRGJsWPLUFP/21Rbi+gz+Fgxpz+Q5rTU3CVYil60jLeplQYGCVsIB4sRi+hk2P359eDSDcXZxQ5krehhqsGgs2ER5sj1tDy4aSiGmpyQUNZIiNnBVx/zPRIL60sh/GlhhhNEHTfhhTKPuLHrg5DjtQBPxqQ/a+s0GgvaAy65wEM1HAhhSWzchGUd9OpiAdRdajVbcJJbb7eklLPTEZa2XaCcvXiVcPugyTP4uZGxk1YRc3MvJE31t0cf/KYpDv33TUOXhRvbnWVsVuekPcWr09kPj0mnP/F1qARUsaohnTjd6K/ep0gEJrejUa3V+olLbtn5bDOfk9hpLuoTVRNyAhU39ulNQScTZWWqusc2HHsanMU0MdQgsuoHu4kR7rFvLG9BacUT4/wSHkeSJBA==\n",
      "https://adcr.naver.com/adcr?x=MAyrDZT/Y8NFSjKY7e8BR////w==kZu1mgcYK/xWPJ7FiN/qvYezAdRijgyroXHehj2MKGQQMzcLSvcrjNAT0EQ07/RQylP9RZwUVWEVSuv6Qm6BgbIN9HJkKe2q71drXSiKh0b2wso7d3KfCTmPb8MWf8SMykTbDq3mGHKvn7X2qzPmuDV3XnFnYMAy8+1EvNImjkYs7xsbrR3cvumcETorRs3aDjbVFPO6QLyCBVijuOTgFKar9KuKTDzm275GcshwtK6JVYoHiQowXyGC5sweOUHydW/c9ZF45Y7VxzLwJoZTfE7Io8vjyPYDlr+tI1x3sop66tVafgRHwmJcQO9Srmo+bl8XYutX0/EYKhUrPOXdcSsdpK/4lgmnS3v0BRMtKm+BTQ7p2xxiC8WlKtmO4pHiRnY4JP5f7bTi7ciDotHwn1lqRbdsRvTf7Uvh99DtxP1v5tbSEAAis8at09fWtcDT2fqodm1KwEdTe+3xMRlKW2OLDToLiAOT0rlyALVwfwx3zR+Runsp+sL0J+1GgzvxTwVT7MDUNSJYODqqPqJuuJq4tCjpu/dIKIDMS7PggTMQm2gYeJltwlPohmjwnZ2yEyffa7bAPqOvEyBp6VIXuNo1AchD852Ubo9XfzoUhXjuutsX1PA2awKpcri7H5X+oA736tox79T5b2KORy84nvJJ+oO47gx+t1jBAXIX0T9TBDA+fLvI+aCqnxaE0+DvZuffrPAFGfzuX5ILENiEg6VrdOY4UXjgIDNKcPrK3Q3/0ydI5oouvtQpZn5PWn9MpFpFBb+tBWvxjq+uTzLpsO9SXOCJWiWlyrs+GHYVMqNHkQbGCrC6Mbvql4X1bqV+4XNwaGv1NTiCWSbRWDrUvxahKAgXZA0B7kM9UQY1yQtq2ElbfHvzbYjJIJH23ZuuOJDXhCo57f5jM3hGtaWgmAokztw1Af/lt0doafCqu7C/AlAU16JN7TW7gsHqhCafWvKB5QlkAIltxpPlhrQMd7A==\n",
      "https://adcr.naver.com/adcr?x=kc45obd3vzSUEyd9GzYjIP///w==kA1n+UOEt45a45o8e3gUzQRSz9td/KOzVfvnBgQK7025SDtbu0Xm1Pgm7oUE4iL/pUS7sXBsoG7K3rvcbz4wYjBCo56h/0FtoaY9HLwoBt9oVZ4Ekk/ikLnDW9PaZAOmHC3BSwixuQ0MeZpik1d3e6ZgqxI4fJor0tIPZb05WmyBnL1g2d1djrSO7P1u4yGgNpVFQmePIqyicCg0JuoraaD/QO7czne8OAIeEDu9pK0AniZzdy1b+fu8oati9y0tcRDFkE5BkCHUdsdvToo4W6f8jGvhzuLVBzyfnhVqiWmoMctVaqGbFXD74hRFuh1oZia3PURewCWAdfx2OUo9CCJtOvRx2LKvmbfRbtWXqHCJgaByigaWTPpCE9Q37lhot1PGzbAG4lPUr8VI1wCO0LLbtTarXc5Bq7IgegGlGjCOLAaPw2ExK5wYolQ4aJSlJ/O7uRLxLIQCT4wfzY9dRdIYCf1ZlHGsydYh34U6hmG5OZ8gd1DcOCQe7wDyeIJlFzriv57AarRc5gs4RLXSQy6wcCezVALrSbihUU69VX7c96GYiAG5PVkhXicVGrEzDEOUc9cxcMFYsRsI86g3HFaiBYtydWbjlYtpyGCQAnvmbH23sCrrQn2v3qlkxWhw4mprWqhZmMiAJe2BFPUA/LOSULhqdSykaNWi1rAT5y8/0PEdNVYELjhqfkj5aSl3bGHPfUlfycFUfOxnseN3bM3bxESWjTtXCegYXs2JvFCUtxKydBEfbg36Xmh3bcueNm5KiEPu+UmiwZStMsPFjNsOhtDcd7Y6y+03E1aKi7vFN7/BUtZac0KOaRSioK1eEVqqtdOW54pmlQb8Rdeq0BxWGIhtaNIyeqA7MEWjU6uVbHGXTuhUsqk/wKFjLVQXR\n",
      "https://adcr.naver.com/adcr?x=x8fTJOR5YEnQbLBz8iwYJf///w==kLJ9NZx3HKf/m6+JVXyFXepNYTQfpUVyMc5HiR3sgnmGCcKwC2OGEaZ1Caem1+x//ieKqPne1HX1RzGT2wMUHzBQ71ICrqNQ2OxahixNEKI+mIEWot00/nEUJ4f936XllXfDT3xI7kNFt9JbF8mb4pDt39SI6CGCKuV8fPwv9VD/02/AohOQdrdZzx+ES4uUEmhY6EWhznSPQbNa8MWBHHksusb8mwK6/gDPWwL98Zz6J5pxyJa0sXzthM53KDaWvzHZiTuq/ahbsc845IzGeBnSIo3g0vEan3u4RAjdqXev4yGqxHxzFBYwYerPoe7PaE6TZu9R4BMRb9Scamb1Vc4W/WXech/4FRdvtzTXFdLeXlMIowse607LCqiJte8qRQkcb1sU04LuyXUwiGkaJciuN+avfxjSx7tKG6HZxK+FtjxWsvr5JdsZqnZ0vYRjpVd30ZDpgRtPF+sA+T7IZZyLyy7OkQBJaDbsfcbeDipGOOBhdDT8tPe9nTIN4FFzQImoJnPU6pCmCS7sud+o8Y9JdLf04eN0INJJSbr354wlAXKnlDcEUFUc+unokaV9KRNm0vUPg8GWBJ+/e/wpPvQv6/U8C1KiGzQOLwR/0Cx5+N/Ku/UMAbHznkS6ojtp5KHOhUVSEnCSGbppEVjo2Ter49HEX/9c6gm86d6TlsoynlCBLIa3N7npnF2Ugqk5PIVYbd4PXix7PlZAopEG/4dwm/AzQKOgGZfQbkZ/4FmOCCqD1bxY+D1qraZCxZYuQKbGDr3JCqHC5PCHksAibOnAMBE4ArWPD22IRM+ZXaRymonVu36T4fTGaQ30LYBbu9mO9zf2No8a9UqtM1Pc1laKdhwgZFHhGldBesu+AYbC7P/xr0K4iGHsZb6H/fdYj&p=0\n",
      "https://adcr.naver.com/adcr?x=x8fTJOR5YEnQbLBz8iwYJf///w==kLJ9NZx3HKf/m6+JVXyFXepNYTQfpUVyMc5HiR3sgnmGCcKwC2OGEaZ1Caem1+x//ieKqPne1HX1RzGT2wMUHzBQ71ICrqNQ2OxahixNEKI+mIEWot00/nEUJ4f936XllXfDT3xI7kNFt9JbF8mb4pDt39SI6CGCKuV8fPwv9VD/02/AohOQdrdZzx+ES4uUEmhY6EWhznSPQbNa8MWBHHksusb8mwK6/gDPWwL98Zz6J5pxyJa0sXzthM53KDaWvzHZiTuq/ahbsc845IzGeBnSIo3g0vEan3u4RAjdqXev4yGqxHxzFBYwYerPoe7PaE6TZu9R4BMRb9Scamb1Vc4W/WXech/4FRdvtzTXFdLeXlMIowse607LCqiJte8qRQkcb1sU04LuyXUwiGkaJciuN+avfxjSx7tKG6HZxK+FtjxWsvr5JdsZqnZ0vYRjpVd30ZDpgRtPF+sA+T7IZZyLyy7OkQBJaDbsfcbeDipGOOBhdDT8tPe9nTIN4FFzQImoJnPU6pCmCS7sud+o8Y9JdLf04eN0INJJSbr354wlAXKnlDcEUFUc+unokaV9KRNm0vUPg8GWBJ+/e/wpPvQv6/U8C1KiGzQOLwR/0Cx5+N/Ku/UMAbHznkS6ojtp5KHOhUVSEnCSGbppEVjo2Ter49HEX/9c6gm86d6TlsoynlCBLIa3N7npnF2Ugqk5PIVYbd4PXix7PlZAopEG/4dwm/AzQKOgGZfQbkZ/4FmOCCqD1bxY+D1qraZCxZYuQKbGDr3JCqHC5PCHksAibOnAMBE4ArWPD22IRM+ZXaRymonVu36T4fTGaQ30LYBbu9mO9zf2No8a9UqtM1Pc1laKdhwgZFHhGldBesu+AYbC7P/xr0K4iGHsZb6H/fdYj&p=1\n",
      "https://adcr.naver.com/adcr?x=cTkMBw2iPxwigJrTZZ3EEf///w==kILch8EtwKTAXzEmLZfl0uizFEV6FQXvERgJ60756J6HHjZIH+bCqt3zII/NO2MUJADmqPYrq6i6V0d+TYQIf/A6OlJtDXCe/o+9EBiY2It3mgCJK9S8INXWKGai0g8WHEqnHMVGXNwG/82VhVzpFBt9+8lv5hBvl5I0DWbUFZXmrKoSimRKRBYSSc9JYiDD7GYFWU+rqvyEkceQU0Qwvi8SaBCLNKTPdBWg4pXLT/NbLccqH+b/VvSDb5Nrj6NuMwa7849HE+AvFFD0W5WXoIRO6wCpMXMcKMK82aLJCl8RX9lGwtuSFHaTTvbWjZ4oRTMRq38b+qS+YGX4CbEFW8XiEK5eB4L0GWyVVQHLguOeaeVQi5sWJsnT4n8EvcrNmxDpWPhOZOHjLGYli7yTjXENWfa5v8VaZg0rM/em3X+HN7czx9AYMxVhEdrkjwATL7LmRCpa83ds2uQV4TXkFeuMiefyFZkiIkbqgarRnO+/wthURADbxcvT8E1dCkJooqt53aekx04yL7CLXaBV/92AkTus1MusZHPsU/XwN3FKjujZ8hVT0VZCP8AYoG+urFLzKGRbDt+KOoEw+U9SL8Od2h8h+jis5wxbnZnXYyKpiYh+Ewo6NLLvD7JA+AfhzrFKXh+dKNCygXEY86lWZkSj5+2bjyO30z9xnY+AO7wtoRJJwTwuq9X3qt/sg196h7j4tnC9Qd5goPlkBWLBbLknDoly3iCY88Tb7s5Q1BO3+P+Z5sajTLbo+gX2cWClSXr+DIt6UUv89G4jym/gzHeUztpNJMFBePzP6BQNgxQk1Yy77Gy931VwMarT8a0GujW46o2lylhfKkuEEeFUySx3H3waUvdW0eVorkdRUrhnByuZD4kGurFlEBPIPy4hg\n",
      "https://adcr.naver.com/adcr?x=4bQULnUoqAEdS7MJp5C9Hv///w==k4mgn+uI5oSF5a9mazu8tXzahXs3bnCRMIqH2+U6fkBg0QMDkWdWeerS2pwvV3PuPsFeo6QztOEU0S0uig+XLwYyANrzfbBRDVv2HP+/ISZsKgKaXhJf0GinlTX9Ggy/oRaf6X1PztuyKNraHrLHxM7Nb1WhQYOPRCE9wWS62jN2iIbjt8N74l2OcGDTL0i4H0OEy6iMjm9Y88zI6ByEpO+kdKJI/ulagnesCIcSaHz89Ha/zAVN+07M1H5c39DGYepRmFoUsJZAxZDHcPEbieRKJott8xpc3ZJEtYhBftlTaB5/2t99vtF1YpwFcg/8L4YOwEyJSG3oWvX9vQ4UQHCIVtgc0leopj/xW0TyJRSdzY03y/ir3j/tLmbi0jTWmwwRig+h+bvYfbGmp8oeSnOXXEyl6y/tcxKFJvQjxH5h6zso+Q4gwI23+pdFf37QXjZiggCAPpZ3X0X2SMAysPXifBemXADqMQ0ELAIN8bW+eWmrotoVuKOKCCvvMQ5LNfF9prLoEpjKYvcmf/mLeL1Di7WvJYIxkx4FjGBEYPk4oPjC3ftadfyawvYYDAmq+h3OmtXdiPYCrXDK2Ml/39PPiqLZoz6ene3dbJBeQN64LDqoC3PoH1bs6y/3kcpgIYSXNYSoZB/j00/LppxwEzagAJ8uO9oMIyNntcuGh3T3LvFszyc7rzthbpRIKw/NlwgL1CdF9hmoxGXwT3MqJ/UGEh9cfV7fA30kl11z7CAaWgSKrTlTZ8JxB3yNIZD6gQmDBmsHKq2Mro8PjcLqo54dKwJAX9BRwqfXugFzUYEEjeflo3OYxLR9VIRJDAePBD0bO4Iobx1vp9OTKrJU++3GDThTziQtxQJcamqXW38eB5gjpwQhqNs3c3lhmfLA6\n",
      "https://adcr.naver.com/adcr?x=Zd06t0IwEyOhnZaQ1fVGOf///w==kILch8EtwKTAXzEmLZfl0uizFEV6FQXvERgJ60756J6HHjZIH+bCqt3zII/NO2MUJADmqPYrq6i6V0d+TYQIf/A6OlJtDXCe/o+9EBiY2It3mgCJK9S8INXWKGai0g8WHEqnHMVGXNwG/82VhVzpFBt9+8lv5hBvl5I0DWbUFZXmrKoSimRKRBYSSc9JYiDD7GYFWU+rqvyEkceQU0Qwvi8SaBCLNKTPdBWg4pXLT/NaeMtxokQE3x8FAaJMLImlDBLkccYaq7gfoahEix6q1QS9UFcofVQQQGNetDMlXyBRfb6eu6IlfBU5aTjyG678Ry0qHyFIZymSsOMkTIy+fhRFeYoLUhhdjK8oSdI/bvc3mWwZctETlXlglNtv/4XR4cLI0vGRwHo5ZmrwA8d1PigWsGdeO0inceC3E/xiln6xR/saLXfrNmvyDibzSmT8yMbbSw3MzxgIeF7jvTN9M3y/RBUNDOabJzxAJmkkEsCimrq/oK2WwBbQcowY8tCnT855l5u/SL22VR+EKQobCrW7GTNAkcd6Txc4Ds86IUVVjQIqAX41jYXxfzQifwHQJA5QQU6OI+zbO8OqUpwBuP3jxcfvll9/dDmv6X5qpUkerLKlla8nUE4P+jpTZ8PcxVVFVkLKkmtLxIMsITwK+Xx0qQBHXDAWKtame/j+c+WBZfag0oVUJ7key46lpDsPvYiLJR839h4lqJ0ZJ8SF31B06oK6NexuY5ec0O0PM2hNwRr5AGVSj1IlNDOW3HYRHAVbVYZdbZeUuA7Ke33Ieki45X/i78HpfbbsgUBgOrD7F8pGYK7j4IWygPuz4QE4iK1encadpFLyodG2CnLEQDhyeXYNxgNnnlxUaIY72qeA8MT+vdZHKGWfhM8mV7rOY\n",
      "https://adcr.naver.com/adcr?x=ys+vfGYoeiA2NVYWqoWCJv///w==kILch8EtwKTAXzEmLZfl0uizFEV6FQXvERgJ60756J6HHjZIH+bCqt3zII/NO2MUJADmqPYrq6i6V0d+TYQIf/A6OlJtDXCe/o+9EBiY2It3mgCJK9S8INXWKGai0g8WHEqnHMVGXNwG/82VhVzpFBt9+8lv5hBvl5I0DWbUFZXmrKoSimRKRBYSSc9JYiDD7GYFWU+rqvyEkceQU0Qwvi8SaBCLNKTPdBWg4pXLT/NaLYcupG09HWqp9kTzeLdbX2Z6yEkimcUKwNhwYuqJafQP3wKxPmjk2JAQMeD8OBS+9kd1bCdCSmCTt4CytJQc0W07lSChvkNo8/h1FQVkjOp2UbNiT1RVMdeNsrHnCUc809GkeVfEcQicd0W50v9Fv/jwOkU0vl0KwjiRu0dT3EjnrEEtQpA8Mo+jauqWwPbBNxqfkrkTHfT8ldgMQu5VT5D6SAcpdkeQD/9xRrio8UMCuSsehsM3Y3DJw+HidE6RDmrC17P+xv/ncCkHRH7TdV/fLcXNK2yS/iCR534djxeaUKS45V8GCoLafbN86WBnn4OfDmWbiu34VCsljocrxDdlyeCO9rGD0s1pW11/MIzybRf0jHlMUvrMwPjumMyqOZRUPgSaSNHBcKapDHpSdQFhjnLT9bIB1EpncdoQg0TZe2twgh+AYF/4rAVvDjL9DuRRZeznIePXjPzZX6wgsSqPObdwQDwp2cGRrRnc5orfMXKeMQkuT8o+tIp5ZezPckCS5yHnEgHGtXzXu4IOxb+8MwBS51mbPXenTdqnha9fak+bhoFil0SB7sHfGBj37DRrTNlL9y0BfUPHn8n/gxPg3cs5X22tlMJAjoUqs/aLRt59bJBDcqioMVTUILkkfDADtozbATxy0edvZ1Gr/\n",
      "https://adcr.naver.com/adcr?x=QvGM9yxmhU1w5gqLkic41f///w==k3r4diyLKnMteyiN7sPGEi7/QQWimQRxuk/NPAMu0MNg0Za1OobGjLu8q0plfFnABqCk1h/VWaEN9poIN6cpXmlzMyoOjBXYutARAsdBoWBjOBKHlhswiLE/GFJHE1FgqXX5+26PcM0cgeQS8wM3Nm3ctGlAWDkUzW/zC5ooG53+0yYtkWaNI1NoiH4OlT51ZDew2+3Rd/R+zB5DgHX9BFmY412GgqId9p32/mZNzvJps+R60z3xnRcwO2ch1Vs47qTTCU1ExLHUMCQaw56ViB7cEZ9MkoKSwJxpFduS6QKdjsrIl/VC7P0o8uE8hYICpFKFCDJn1jfiHpXhGFisd590OOxarWe5xcKKi0C64QhxhzzIRD0+jF56RGpQyB19e7GRBMUIzl+7IJDx3tsrTaftW1TLlJceCC+TAQBdcZBsSwQhrnva4WjAL6RZyBqOKEgYMWvnADxMJTcRpaYiFhyDzR9/yeGawm4nzpHk5rEXcVpAmYStfqb6bD3GPjUe5gALL+TqoSJRCeLBVzbTTyikL5j0HMklp18Cc4iYRpqpELdyMWz9dI/DlDITXpjvNwQTHUHMVSYKOHSSd4APgLYPeAyDrim6tz3jO8MsEw0zYwyNMvEblWu+vmU281F8x0vrjRk7sMOt6Qfj3CztAN3OcAVsF50n5wElM+otOXg0gxsZPfs3Ao68Obi+aVsc77PpXP1XtgnbjW+0Ta3tkL8Nhapus+lXI+/UApZ6NjHz+mPLVCyFmMxGDmaOrKfywoejCuk8PsxxcOl0+kC0bTO3mhE3G85kdq+crXsWZxq4ihdNrn1ufehD82/3IT+lUsKtjKGgaETEpb/UeOPfXF1ohaE0CCQgwVZzj4Pdnaxao47oj0nLX+DixFfdLtK9BpiFMUt0ASLJcjGFazqomNOg0Nd7fHJrh8E5bzh4Xyfk=\n"
     ]
    },
    {
     "name": "stdout",
     "output_type": "stream",
     "text": [
      "https://adcr.naver.com/adcr?x=53uQwaDFuI5yJAlZ6X5vo////w==k3r4diyLKnMteyiN7sPGEi7/QQWimQRxuk/NPAMu0MNg0Za1OobGjLu8q0plfFnABqCk1h/VWaEN9poIN6cpXmlzMyoOjBXYutARAsdBoWBjOBKHlhswiLE/GFJHE1FgqXX5+26PcM0cgeQS8wM3Nm3ctGlAWDkUzW/zC5ooG53+0yYtkWaNI1NoiH4OlT51ZDew2+3Rd/R+zB5DgHX9BFmY412GgqId9p32/mZNzvJps+R60z3xnRcwO2ch1Vs47qTTCU1ExLHUMCQaw56ViB7cEZ9MkoKSwJxpFduS6QKdjsrIl/VC7P0o8uE8hYICpFKFCDJn1jfiHpXhGFisd590OOxarWe5xcKKi0C64QhxhzzIRD0+jF56RGpQyB19e7GRBMUIzl+7IJDx3tsrTaftW1TLlJceCC+TAQBdcZBsSwQhrnva4WjAL6RZyBqOKEgYMWvnADxMJTcRpaYiFhyDzR9/yeGawm4nzpHk5rEXcVpAmYStfqb6bD3GPjUe5gALL+TqoSJRCeLBVzbTTyikL5j0HMklp18Cc4iYRpqpELdyMWz9dI/DlDITXpjvNwQTHUHMVSYKOHSSd4APgLYPeAyDrim6tz3jO8MsEw0zYwyNMvEblWu+vmU281F8x0vrjRk7sMOt6Qfj3CztAN3OcAVsF50n5wElM+otOXg0gxsZPfs3Ao68Obi+aVsc77PpXP1XtgnbjW+0Ta3tkL3HcE6B1kAgIXtDYZrXLVPv+mPLVCyFmMxGDmaOrKfywrXW+dcrRVpwk9Le1tAR0L+3mhE3G85kdq+crXsWZxq4ihdNrn1ufehD82/3IT+lUsKtjKGgaETEpb/UeOPfXF1ohaE0CCQgwVZzj4Pdnaxao47oj0nLX+DixFfdLtK9BpiFMUt0ASLJcjGFazqomNAuGtOZ8tkQKpr2pMTUNUN8=&p=0\n",
      "https://adcr.naver.com/adcr?x=53uQwaDFuI5yJAlZ6X5vo////w==k3r4diyLKnMteyiN7sPGEi7/QQWimQRxuk/NPAMu0MNg0Za1OobGjLu8q0plfFnABqCk1h/VWaEN9poIN6cpXmlzMyoOjBXYutARAsdBoWBjOBKHlhswiLE/GFJHE1FgqXX5+26PcM0cgeQS8wM3Nm3ctGlAWDkUzW/zC5ooG53+0yYtkWaNI1NoiH4OlT51ZDew2+3Rd/R+zB5DgHX9BFmY412GgqId9p32/mZNzvJps+R60z3xnRcwO2ch1Vs47qTTCU1ExLHUMCQaw56ViB7cEZ9MkoKSwJxpFduS6QKdjsrIl/VC7P0o8uE8hYICpFKFCDJn1jfiHpXhGFisd590OOxarWe5xcKKi0C64QhxhzzIRD0+jF56RGpQyB19e7GRBMUIzl+7IJDx3tsrTaftW1TLlJceCC+TAQBdcZBsSwQhrnva4WjAL6RZyBqOKEgYMWvnADxMJTcRpaYiFhyDzR9/yeGawm4nzpHk5rEXcVpAmYStfqb6bD3GPjUe5gALL+TqoSJRCeLBVzbTTyikL5j0HMklp18Cc4iYRpqpELdyMWz9dI/DlDITXpjvNwQTHUHMVSYKOHSSd4APgLYPeAyDrim6tz3jO8MsEw0zYwyNMvEblWu+vmU281F8x0vrjRk7sMOt6Qfj3CztAN3OcAVsF50n5wElM+otOXg0gxsZPfs3Ao68Obi+aVsc77PpXP1XtgnbjW+0Ta3tkL3HcE6B1kAgIXtDYZrXLVPv+mPLVCyFmMxGDmaOrKfywrXW+dcrRVpwk9Le1tAR0L+3mhE3G85kdq+crXsWZxq4ihdNrn1ufehD82/3IT+lUsKtjKGgaETEpb/UeOPfXF1ohaE0CCQgwVZzj4Pdnaxao47oj0nLX+DixFfdLtK9BpiFMUt0ASLJcjGFazqomNAuGtOZ8tkQKpr2pMTUNUN8=&p=1\n",
      "https://adcr.naver.com/adcr?x=vgSqMOXHA+dLvyVJQsSmCf///w==kRqE7j3LphJaLgPfDcJAEkcxRIsCwkZWAUFzqofLoh8rtFj6Y5FGZlrGGIhu8QLqN9XN69hL6Pufzvibgh0ccBZekiTE/EqSRez8odzxkDNSMq5ta0vCLe2UyZ1tbBxtK4WJD5thYLeQLJTkrLhrDOI3AAidPWdZNjJSU3adew9r2I/Fw5HW3dzfeQ7mXYfmlH773Z1iOapxIR+Skoybj1xtHsXi239AGtF6zLBRWTIcvrW35YUCvIgz+tTxafHDxiYAd44Pf3VOtzQ8EVcETN+2YKCs5cEO834Gm3Mqr1x5bVz+M/H48ANrBuJJnNQ4uaPh4etnKc6OhNO+DXaylFk/KcAznqWB3viY7XxYZKqdtQDu8FlPzO+ilt5J+5UUeg+uT+O4gk4PMNQawlMEuevvjkgO0CBmR/7TMbAf7+8ELXgSu8A50wVSyCNGWYIVjw04oKB5ADflYALEb3Lfz1zPqOhOtzAklp89gW0cmoN6fspTaQQNnOmUwBwj+4ukGG7RDwcMnJXdD+3nRBBc6hO7BqqFsG32W3yCq4pVxCfzTTVw1l7R3A+f98Oiy+WiHXPoPxuklVONyQQ3SYYEAR25Vrtct0hyrhds0xIYawWbjkFLxXtBj5VG6FhYFSJlh9U9Rt/S6G8hTCm9XbQW97Z/SEbPLpBBdLQn88OZAkmgR5govjBno5AfwaXKkt0HOx/bySQPoCP45cfFf3vsXk2vDNTGYyvwBrZ7pAHJ+3vUl3HB8sEGqCMhrTxMuLDTEaBh/Wml4mkCw5KlpcbeCJpkR0+A0AgUd2tdB5/dCsgDrDH+6FUe9++ijWK6CElKv3CfSqPyiVbU/VFyHSJnzCQwhxoScsTlcDKVPY98CzLv0D7AaJWFQsHl5BLR9FvIofKiwz4QRA8C6c/68agh590WThjwMBI22+G2LsX9SSMZsccbqzlPXI7coUSi4TJNG2J8DnAoZboWyO3X5m0psW+B6SkopFXB1o6U1+N6Y0NCeCr95raLcKH/8omJnQmyP+iltuYOueAvYhQjCwQRzaj1aXyBLwmvJhLNJTT+cH2ZuN4YDdX+f70UJG5U3xlTIfMnsreHRPscf+cDRCnUsOv8rHVE1iSIyTebgzEppnADDvdmEMqwcLH5X4f/arYtxBWtWFFl21dzK18Wu27//EooEbJQBsJqUh2E6zSe6LqWq8Xcg5ZqyKHe6VmlcJIhg4bZn4OhvP+mE37xhfjNY8/C1SMf4s52TVdiyIZPfpZ8=&p=0\n",
      "https://adcr.naver.com/adcr?x=vgSqMOXHA+dLvyVJQsSmCf///w==kRqE7j3LphJaLgPfDcJAEkcxRIsCwkZWAUFzqofLoh8rtFj6Y5FGZlrGGIhu8QLqN9XN69hL6Pufzvibgh0ccBZekiTE/EqSRez8odzxkDNSMq5ta0vCLe2UyZ1tbBxtK4WJD5thYLeQLJTkrLhrDOI3AAidPWdZNjJSU3adew9r2I/Fw5HW3dzfeQ7mXYfmlH773Z1iOapxIR+Skoybj1xtHsXi239AGtF6zLBRWTIcvrW35YUCvIgz+tTxafHDxiYAd44Pf3VOtzQ8EVcETN+2YKCs5cEO834Gm3Mqr1x5bVz+M/H48ANrBuJJnNQ4uaPh4etnKc6OhNO+DXaylFk/KcAznqWB3viY7XxYZKqdtQDu8FlPzO+ilt5J+5UUeg+uT+O4gk4PMNQawlMEuevvjkgO0CBmR/7TMbAf7+8ELXgSu8A50wVSyCNGWYIVjw04oKB5ADflYALEb3Lfz1zPqOhOtzAklp89gW0cmoN6fspTaQQNnOmUwBwj+4ukGG7RDwcMnJXdD+3nRBBc6hO7BqqFsG32W3yCq4pVxCfzTTVw1l7R3A+f98Oiy+WiHXPoPxuklVONyQQ3SYYEAR25Vrtct0hyrhds0xIYawWbjkFLxXtBj5VG6FhYFSJlh9U9Rt/S6G8hTCm9XbQW97Z/SEbPLpBBdLQn88OZAkmgR5govjBno5AfwaXKkt0HOx/bySQPoCP45cfFf3vsXk2vDNTGYyvwBrZ7pAHJ+3vUl3HB8sEGqCMhrTxMuLDTEaBh/Wml4mkCw5KlpcbeCJpkR0+A0AgUd2tdB5/dCsgDrDH+6FUe9++ijWK6CElKv3CfSqPyiVbU/VFyHSJnzCQwhxoScsTlcDKVPY98CzLv0D7AaJWFQsHl5BLR9FvIofKiwz4QRA8C6c/68agh590WThjwMBI22+G2LsX9SSMZsccbqzlPXI7coUSi4TJNG2J8DnAoZboWyO3X5m0psW+B6SkopFXB1o6U1+N6Y0NCeCr95raLcKH/8omJnQmyP+iltuYOueAvYhQjCwQRzaj1aXyBLwmvJhLNJTT+cH2ZuN4YDdX+f70UJG5U3xlTIfMnsreHRPscf+cDRCnUsOv8rHVE1iSIyTebgzEppnADDvdmEMqwcLH5X4f/arYtxBWtWFFl21dzK18Wu27//EooEbJQBsJqUh2E6zSe6LqWq8Xcg5ZqyKHe6VmlcJIhg4bZn4OhvP+mE37xhfjNY8/C1SMf4s52TVdiyIZPfpZ8=&p=1\n",
      "https://adcr.naver.com/adcr?x=A94rUdqq49OzzvhaONa/rP///w==k74wkO65DaNMHc1jDBSF/TN4NSxtVUpKgGeUJEsYvTHD3vKVRnKgBOHEhcUloUFKqD072l4km16gN0Fnj/wttO2c1dabt3aF/xeCXC/TVUr1zusPWJT0z3AD97tKDijF4N2c82k9yQj5e1YjiraOiMtH1ieuYZvdTrROsf+sinTQw+5/oMTDGXkvWRoV0cxXpGXnup2VILmovqCJkGjAhkY3su92hlKGxuUIsaLylG27H18AJa/QTIosMIzZozaSHwufdTQ6VFTaySPd8Z2EUDKwaFgPbf8L21cI4iQfN4ht+6JVPqYgRru79wJZOBqpuwf/JngtHiNmhGrzFbhqTgVhKLNK6Ngb8hjDSRs97alL16aNbsUlY8U51CQGVkgTHhjj5ZcqUHFjK/ujH10xhwXIltxIQFR/4NN2kt6aqCh5JZo+/iFKLozEmLKFA92Qzr5lJwDd2i5081/ZyKyn7LG+9b1jGAYjDkzr3gT5lcUXpnnQu+mDIDjeo3IeJJeEgRbV+eUIsjGNfgcMUzLDCSCJGjwlCY5EjZi+HyiaGZSIpJQbWbnnHl8bla9fRxm7LFophIxHq3GTRy/u0Uwo26m8nKvSGr35WW3+jRsT9JQz7VsDPqylGD6yltPL3ysDSzi5m1s3DG565SYhpeTmYV/QLvn0YbCYImiD6FKj+vJNmtyJl6p1Ew+VMI3jmmirNt8dBAYlXoAW9jeSYk0WwJQm58920Tcszb5k6wjXUZqkcAu8O/pljUGaDN8QEG20z2v/Wc163ZD7L5YOJ2z5H2veobSX8qaWTnRo6FMdMiMyhmcS8acp56p2EGXHUtngpZ6wYkk1Pp8xUZApaIytQbeA5KVWIFPeYLHVSn7JBYG6goHTZFLk/RuK26XMcO9ZA0H3vE1iRGUflkZYyEnJ2FRL8UsS4QKJVZVwtcw697tyYJ1trxc3wtUSzdpMFKl7eFoV3mrar4Vm2uV0mR/6mEw==&p=0\n",
      "https://adcr.naver.com/adcr?x=A94rUdqq49OzzvhaONa/rP///w==k74wkO65DaNMHc1jDBSF/TN4NSxtVUpKgGeUJEsYvTHD3vKVRnKgBOHEhcUloUFKqD072l4km16gN0Fnj/wttO2c1dabt3aF/xeCXC/TVUr1zusPWJT0z3AD97tKDijF4N2c82k9yQj5e1YjiraOiMtH1ieuYZvdTrROsf+sinTQw+5/oMTDGXkvWRoV0cxXpGXnup2VILmovqCJkGjAhkY3su92hlKGxuUIsaLylG27H18AJa/QTIosMIzZozaSHwufdTQ6VFTaySPd8Z2EUDKwaFgPbf8L21cI4iQfN4ht+6JVPqYgRru79wJZOBqpuwf/JngtHiNmhGrzFbhqTgVhKLNK6Ngb8hjDSRs97alL16aNbsUlY8U51CQGVkgTHhjj5ZcqUHFjK/ujH10xhwXIltxIQFR/4NN2kt6aqCh5JZo+/iFKLozEmLKFA92Qzr5lJwDd2i5081/ZyKyn7LG+9b1jGAYjDkzr3gT5lcUXpnnQu+mDIDjeo3IeJJeEgRbV+eUIsjGNfgcMUzLDCSCJGjwlCY5EjZi+HyiaGZSIpJQbWbnnHl8bla9fRxm7LFophIxHq3GTRy/u0Uwo26m8nKvSGr35WW3+jRsT9JQz7VsDPqylGD6yltPL3ysDSzi5m1s3DG565SYhpeTmYV/QLvn0YbCYImiD6FKj+vJNmtyJl6p1Ew+VMI3jmmirNt8dBAYlXoAW9jeSYk0WwJQm58920Tcszb5k6wjXUZqkcAu8O/pljUGaDN8QEG20z2v/Wc163ZD7L5YOJ2z5H2veobSX8qaWTnRo6FMdMiMyhmcS8acp56p2EGXHUtngpZ6wYkk1Pp8xUZApaIytQbeA5KVWIFPeYLHVSn7JBYG6goHTZFLk/RuK26XMcO9ZA0H3vE1iRGUflkZYyEnJ2FRL8UsS4QKJVZVwtcw697tyYJ1trxc3wtUSzdpMFKl7eFoV3mrar4Vm2uV0mR/6mEw==&p=1\n",
      "https://adcr.naver.com/adcr?x=AYmn+3HOnZI4DSREoI1nXP///w==k3r4diyLKnMteyiN7sPGEi8EHE9ry/SBEzm1/S3gi6dAB5WAvtbPXgQMHzOjTWQLnr+s7tpcKJDSo9BXbu2+4fpD9F0rR33tK4oPBnCjFuk0hMmLv10gvJAO/oUQkbzalJQEth8z3DfYt8TljXFtdlghnspQrkmuIAXw6dOHpHtTR/9XxMTOuCrXKBO8wkNE7vf+fmA+EjyYMwKeNTvh5ieNaYxC+a3kfP7R24JqRE5yyDW6mTAGKYmXQ7PXFab+83WxL8wYsk2sWYd5NdLgWexYFG4D5nOIf+nMzoVCRpyv2+2ulk/ZIwx667BVNJhHX4lRDuIKV6P9ePE552MMvDRf0vb8MIUgx599wta1TsT354Dht8TrnMb0OeP5CtCmlsAXXa2ddWeOyeOi4dehGMB1y+mVvST4OL6qhxycjSVXHAgD4kqs4H5BbT5exvtgySPXtKlQNJMSH4UpPmkJMrYHgdDIlg/wfwVKTpNfm0HVL+Tp6hO9tkzZibDEHGtmyi4+2St6P9IynAQeGt4KI1z2cLpt03UMH68P3FCZNNzjW3PTiNrwVWAlNcKo8BPSRd3uaYCDazmpcCsFyjNchAaUusVqoiwQE9EcuSBjO0/DPc2EXKEUohNmd31isMJDJ3Gaq9OLX1kgAOrH7OVf6QjcFbTtPv3LMfghE/motrAhLZmbW9/d3aVhnPy7K/ih6rRuSQ/VLILWKycyjA/8vMOIz9/vS/z1sI+z0+c6MK9Y0gF1lFsThtebKJNpBAVmpN3Ae0Vcz6wXCaYv5wzn1PfjcSpJtY1Vxx+sbLI0VLr/vJUYCLkOB/VsicN+kiqBEc9L7t92/Uf8aII7Y2gSfm+9DROilo21X1RfFDBfub411dLFni3RDSqnSf+uxcu9vOMpC5ScTMqvKYet2wY6mbr+eHgajzXCorE4vpFdVkXhmjC7h6TndHTGsmhP1V3op43PnYEWNjw9cQHW810fSpaLaEeaZiV5xJiysbpzeDzA=&p=0\n",
      "https://adcr.naver.com/adcr?x=AYmn+3HOnZI4DSREoI1nXP///w==k3r4diyLKnMteyiN7sPGEi8EHE9ry/SBEzm1/S3gi6dAB5WAvtbPXgQMHzOjTWQLnr+s7tpcKJDSo9BXbu2+4fpD9F0rR33tK4oPBnCjFuk0hMmLv10gvJAO/oUQkbzalJQEth8z3DfYt8TljXFtdlghnspQrkmuIAXw6dOHpHtTR/9XxMTOuCrXKBO8wkNE7vf+fmA+EjyYMwKeNTvh5ieNaYxC+a3kfP7R24JqRE5yyDW6mTAGKYmXQ7PXFab+83WxL8wYsk2sWYd5NdLgWexYFG4D5nOIf+nMzoVCRpyv2+2ulk/ZIwx667BVNJhHX4lRDuIKV6P9ePE552MMvDRf0vb8MIUgx599wta1TsT354Dht8TrnMb0OeP5CtCmlsAXXa2ddWeOyeOi4dehGMB1y+mVvST4OL6qhxycjSVXHAgD4kqs4H5BbT5exvtgySPXtKlQNJMSH4UpPmkJMrYHgdDIlg/wfwVKTpNfm0HVL+Tp6hO9tkzZibDEHGtmyi4+2St6P9IynAQeGt4KI1z2cLpt03UMH68P3FCZNNzjW3PTiNrwVWAlNcKo8BPSRd3uaYCDazmpcCsFyjNchAaUusVqoiwQE9EcuSBjO0/DPc2EXKEUohNmd31isMJDJ3Gaq9OLX1kgAOrH7OVf6QjcFbTtPv3LMfghE/motrAhLZmbW9/d3aVhnPy7K/ih6rRuSQ/VLILWKycyjA/8vMOIz9/vS/z1sI+z0+c6MK9Y0gF1lFsThtebKJNpBAVmpN3Ae0Vcz6wXCaYv5wzn1PfjcSpJtY1Vxx+sbLI0VLr/vJUYCLkOB/VsicN+kiqBEc9L7t92/Uf8aII7Y2gSfm+9DROilo21X1RfFDBfub411dLFni3RDSqnSf+uxcu9vOMpC5ScTMqvKYet2wY6mbr+eHgajzXCorE4vpFdVkXhmjC7h6TndHTGsmhP1V3op43PnYEWNjw9cQHW810fSpaLaEeaZiV5xJiysbpzeDzA=&p=1\n",
      "https://adcr.naver.com/adcr?x=g6RJ84h4n8vWEIa6RtQloP///w==k5KTo5jZe6RZl/EO1mkik+IHNAf4IBgNfH2xBH0getGZA1hLUHysjj82DF7YvtcfjePVJo+KfwxUioV+SCMOiB7ZU/yRW3qS7XbO/nrRfSDsgSM5hFP2XaKpUBR3fsLSKhdyw2UaJwDdFJu6dnoKEpros/QPRxWUejyk4rgDbwfzmQ/Cco0wEoYJPClb6uv0Dc/GfC/8B5y1NvY74qFCg5l3GiObybP2b/zPPHOb7YfnptegpMo+MI15eet1c1axdGAcu9FXjbZxUp6asmbiU2CadtyNqCGzub6BAk3+N5DKkE7kGxJl9GGTzBapD623yrU1V+5BX2kzmMo82w6IDtoMwVyvY++vkdLMJ+Mb/RwaohLh8SxqR7JQrSDhFGj45bG84uBz3gZlCOyy9BQjsMtpauLk+M9jdWHbR5GFbkshADbEq8ZN9eI9794XS/cSDw08sVx99z9WqPf0w3C1Gw+DnI4OCMlsKY8QQqLJ3AwcYtoX9RtXsvflIVZwLQtwcc9bOGlbjI+kGLgvE9zTgM55NInYtqLBExFgCUcizHq3audopeplGZYA/5ckAPVJHi6grVeT2ZQmwF7TGqcrjxFLX3nFWf3cb9XEaFFOeUEdzqhYhk88TAECOD3rmyQq+MoT7x6ktNUh9Nn+2lQUrj/Lkx/+z0KPuRek/PWuUH8XatSpzCfyiI//a/RRaQUpjyj9PgdU94VmQZWN4GAOC6Kakui0cPCpUFHMacrTqKeo=&p=0\n",
      "https://adcr.naver.com/adcr?x=g6RJ84h4n8vWEIa6RtQloP///w==k5KTo5jZe6RZl/EO1mkik+IHNAf4IBgNfH2xBH0getGZA1hLUHysjj82DF7YvtcfjePVJo+KfwxUioV+SCMOiB7ZU/yRW3qS7XbO/nrRfSDsgSM5hFP2XaKpUBR3fsLSKhdyw2UaJwDdFJu6dnoKEpros/QPRxWUejyk4rgDbwfzmQ/Cco0wEoYJPClb6uv0Dc/GfC/8B5y1NvY74qFCg5l3GiObybP2b/zPPHOb7YfnptegpMo+MI15eet1c1axdGAcu9FXjbZxUp6asmbiU2CadtyNqCGzub6BAk3+N5DKkE7kGxJl9GGTzBapD623yrU1V+5BX2kzmMo82w6IDtoMwVyvY++vkdLMJ+Mb/RwaohLh8SxqR7JQrSDhFGj45bG84uBz3gZlCOyy9BQjsMtpauLk+M9jdWHbR5GFbkshADbEq8ZN9eI9794XS/cSDw08sVx99z9WqPf0w3C1Gw+DnI4OCMlsKY8QQqLJ3AwcYtoX9RtXsvflIVZwLQtwcc9bOGlbjI+kGLgvE9zTgM55NInYtqLBExFgCUcizHq3audopeplGZYA/5ckAPVJHi6grVeT2ZQmwF7TGqcrjxFLX3nFWf3cb9XEaFFOeUEdzqhYhk88TAECOD3rmyQq+MoT7x6ktNUh9Nn+2lQUrj/Lkx/+z0KPuRek/PWuUH8XatSpzCfyiI//a/RRaQUpjyj9PgdU94VmQZWN4GAOC6Kakui0cPCpUFHMacrTqKeo=&p=1\n",
      "https://ad.search.naver.com/search.naver?where=ad&query=%EB%B9%85%EB%8D%B0%EC%9D%B4%ED%84%B0&referenceId=hXchGsp0YiRsss%2Bei0lssssstQh-517855&bucketTest=impression-neo-94&bucket=3\n"
     ]
    },
    {
     "ename": "AttributeError",
     "evalue": "'NoneType' object has no attribute 'startswith'",
     "output_type": "error",
     "traceback": [
      "\u001b[1;31m---------------------------------------------------------------------------\u001b[0m",
      "\u001b[1;31mAttributeError\u001b[0m                            Traceback (most recent call last)",
      "Input \u001b[1;32mIn [4]\u001b[0m, in \u001b[0;36m<cell line: 32>\u001b[1;34m()\u001b[0m\n\u001b[0;32m     32\u001b[0m \u001b[38;5;28;01mfor\u001b[39;00m a_tag \u001b[38;5;129;01min\u001b[39;00m a_tags:\n\u001b[0;32m     33\u001b[0m     href \u001b[38;5;241m=\u001b[39m a_tag\u001b[38;5;241m.\u001b[39mget_attribute(\u001b[38;5;124m'\u001b[39m\u001b[38;5;124mhref\u001b[39m\u001b[38;5;124m'\u001b[39m)\n\u001b[1;32m---> 34\u001b[0m     \u001b[38;5;28;01mif\u001b[39;00m \u001b[43mhref\u001b[49m\u001b[38;5;241;43m.\u001b[39;49m\u001b[43mstartswith\u001b[49m(\u001b[38;5;124m'\u001b[39m\u001b[38;5;124mhttp\u001b[39m\u001b[38;5;124m'\u001b[39m):\n\u001b[0;32m     35\u001b[0m         \u001b[38;5;28mprint\u001b[39m(href)\n\u001b[0;32m     38\u001b[0m driver\u001b[38;5;241m.\u001b[39mclose()\n",
      "\u001b[1;31mAttributeError\u001b[0m: 'NoneType' object has no attribute 'startswith'"
     ]
    }
   ],
   "source": [
    "from selenium import webdriver\n",
    "from selenium.webdriver.common.keys import Keys\n",
    "from selenium.webdriver.common.by import By\n",
    "import time\n",
    "\n",
    "\n",
    "# 1. 네이버 사이트 크롬창 열기\n",
    "path = 'C:/cakd7/tool/chromedriver.exe'\n",
    "\n",
    "driver = webdriver.Chrome(path)\n",
    "driver.implicitly_wait(time_to_wait = 3)\n",
    "driver.get('http://naver.com')\n",
    "\n",
    "# 2. 로그인 이동\n",
    "login = driver.find_element(By.XPATH, '//*[@id=\"account\"]/a')\n",
    "login.click()\n",
    "time.sleep(2)\n",
    "\n",
    "# 3. 홈으로 이동\n",
    "driver.back()\n",
    "time.sleep(2)\n",
    "\n",
    "# 4. 검색어 ('빅데이터') 입력, 실행\n",
    "search = driver.find_element(By.XPATH, '//*[@id=\"query\"]')\n",
    "search.send_keys('빅데이터')\n",
    "search.send_keys(Keys.RETURN)\n",
    "time.sleep(2)\n",
    "\n",
    "# 6.'a'태그 href 속성 모두 출력\n",
    "a_tags = driver.find_elements(By.TAG_NAME, \"a\")\n",
    "\n",
    "for a_tag in a_tags:\n",
    "    href = a_tag.get_attribute('href')\n",
    "    if href.startswith('http'):\n",
    "        print(href)\n",
    "\n",
    "\n",
    "driver.close()"
   ]
  },
  {
   "cell_type": "markdown",
   "id": "d203e971",
   "metadata": {},
   "source": [
    "---"
   ]
  },
  {
   "cell_type": "markdown",
   "id": "2084b5ca",
   "metadata": {},
   "source": [
    "#### 과제 07/27_4"
   ]
  },
  {
   "cell_type": "code",
   "execution_count": 37,
   "id": "b88cc87c",
   "metadata": {},
   "outputs": [
    {
     "name": "stdout",
     "output_type": "stream",
     "text": [
      "최애림님의 적립금은 2,000원 입니다.\n"
     ]
    }
   ],
   "source": [
    "#### 과제 07/27_3# 한빛네트워크 로그인 -> 적립포인트 크롤링\n",
    "\n",
    "import time\n",
    "import selenium\n",
    "from selenium import webdriver\n",
    "\n",
    "# 1. 한빛출판사 홈페이지 들어가기\n",
    "driver = webdriver.Chrome(path)\n",
    "driver.get('https://www.hanbit.co.kr/index.html')\n",
    "\n",
    "\n",
    "# 2. 로그인하기\n",
    "element = driver.find_element(By.CLASS_NAME, 'login')\n",
    "element.click()\n",
    "\n",
    "m_id = '**'\n",
    "m_pw = '**'\n",
    "\n",
    "element = driver.find_element(By.ID,'m_id')\n",
    "element.send_keys(m_id)\n",
    "\n",
    "time.sleep(2)\n",
    "\n",
    "element = driver.find_element(By.ID, 'm_passwd')\n",
    "element.send_keys(m_pw)\n",
    "\n",
    "element = driver.find_element(By.CLASS_NAME, 'btn_login')\n",
    "element.click()\n",
    "\n",
    "time.sleep(2)\n",
    "\n",
    "\n",
    "# 3. 적립금 확인하기\n",
    "element = driver.find_element(By.CLASS_NAME, 'myhanbit')\n",
    "element.click()\n",
    "\n",
    "time.sleep(2)\n",
    "\n",
    "#4. 적립금 크롤링\n",
    "element = driver.find_element(By.CSS_SELECTOR, '#container > div > div.sm_mymileage > dl.mileage_section1 > dd > span')\n",
    "\n",
    "print(f'최애림님의 적립금은 {element.text}원 입니다.')\n",
    "\n",
    "driver.close()"
   ]
  },
  {
   "cell_type": "markdown",
   "id": "41288009",
   "metadata": {},
   "source": [
    "#### [도전 과제] 07/27\n",
    " - 네이버 로그인 이후, 메일 리스트 크롤링"
   ]
  },
  {
   "cell_type": "markdown",
   "id": "85954be5",
   "metadata": {},
   "source": [
    "##### pyperclip 사용"
   ]
  },
  {
   "cell_type": "code",
   "execution_count": 10,
   "id": "9a72e83b",
   "metadata": {},
   "outputs": [
    {
     "name": "stdout",
     "output_type": "stream",
     "text": [
      "Collecting pyperclip\n",
      "  Downloading pyperclip-1.8.2.tar.gz (20 kB)\n",
      "Building wheels for collected packages: pyperclip\n",
      "  Building wheel for pyperclip (setup.py): started\n",
      "  Building wheel for pyperclip (setup.py): finished with status 'done'\n",
      "  Created wheel for pyperclip: filename=pyperclip-1.8.2-py3-none-any.whl size=11137 sha256=c4c37572d5fd1375cb36ccc63cde172d495f2856c9152c3f08aa82185eab4677\n",
      "  Stored in directory: c:\\users\\admin\\appdata\\local\\pip\\cache\\wheels\\7f\\1a\\65\\84ff8c386bec21fca6d220ea1f5498a0367883a78dd5ba6122\n",
      "Successfully built pyperclip\n",
      "Installing collected packages: pyperclip\n",
      "Successfully installed pyperclip-1.8.2\n"
     ]
    }
   ],
   "source": [
    "!pip install pyperclip         # 네이버 자동로그인 방지-> id,pw 복사기능을 이용할 수 있는 pyperchlib라이브러리 설치"
   ]
  },
  {
   "cell_type": "code",
   "execution_count": 7,
   "id": "92c78bb0",
   "metadata": {},
   "outputs": [],
   "source": [
    "import selenium \n",
    "from selenium import webdriver\n",
    "from selenium.webdriver.common.by import By\n",
    "from selenium.webdriver.common.keys import Keys\n",
    "import time\n",
    "import pyperclip\n",
    "import pandas as pd\n",
    "import warnings\n",
    "warnings.filterwarnings('ignore')"
   ]
  },
  {
   "cell_type": "code",
   "execution_count": 8,
   "id": "10eccb0d",
   "metadata": {
    "scrolled": false
   },
   "outputs": [
    {
     "data": {
      "text/html": [
       "<div>\n",
       "<style scoped>\n",
       "    .dataframe tbody tr th:only-of-type {\n",
       "        vertical-align: middle;\n",
       "    }\n",
       "\n",
       "    .dataframe tbody tr th {\n",
       "        vertical-align: top;\n",
       "    }\n",
       "\n",
       "    .dataframe thead th {\n",
       "        text-align: right;\n",
       "    }\n",
       "</style>\n",
       "<table border=\"1\" class=\"dataframe\">\n",
       "  <thead>\n",
       "    <tr style=\"text-align: right;\">\n",
       "      <th></th>\n",
       "      <th>who</th>\n",
       "      <th>contents</th>\n",
       "    </tr>\n",
       "  </thead>\n",
       "  <tbody>\n",
       "    <tr>\n",
       "      <th>0</th>\n",
       "      <td>네이버</td>\n",
       "      <td>비밀번호가 변경되었습니다.</td>\n",
       "    </tr>\n",
       "    <tr>\n",
       "      <th>1</th>\n",
       "      <td>한빛출판네트워크</td>\n",
       "      <td>[한빛출판네트워크] 가입해주셔서 감사합니다.</td>\n",
       "    </tr>\n",
       "    <tr>\n",
       "      <th>2</th>\n",
       "      <td>신한카드</td>\n",
       "      <td>[신한카드,기타안내] 서울페이플러스 약관 변경 안내</td>\n",
       "    </tr>\n",
       "    <tr>\n",
       "      <th>3</th>\n",
       "      <td>SPARKPLUS 시청점</td>\n",
       "      <td>[SPARKPLUS 시청점] 2022년 하반기 소방시설 종합정밀점검 안내</td>\n",
       "    </tr>\n",
       "    <tr>\n",
       "      <th>4</th>\n",
       "      <td>DB손해보험</td>\n",
       "      <td>(DB손해보험) 최애림님 보험료 자동이체 출금결과 안내입니다.</td>\n",
       "    </tr>\n",
       "    <tr>\n",
       "      <th>5</th>\n",
       "      <td>스파크플러스</td>\n",
       "      <td>[스플매거진] 카페 분위기는 살리고 오피스 효율은 높이고! 스파크플러스 신논현점🚪</td>\n",
       "    </tr>\n",
       "    <tr>\n",
       "      <th>6</th>\n",
       "      <td>네이버</td>\n",
       "      <td>새로운 환경에서 로그인 되었습니다.</td>\n",
       "    </tr>\n",
       "    <tr>\n",
       "      <th>7</th>\n",
       "      <td>G마켓</td>\n",
       "      <td>[지마켓] 구매회원 약관 변경 공지</td>\n",
       "    </tr>\n",
       "    <tr>\n",
       "      <th>8</th>\n",
       "      <td>G마켓</td>\n",
       "      <td>[G마켓] 장기 미이용 회원 개인정보 파기/분리 안내</td>\n",
       "    </tr>\n",
       "    <tr>\n",
       "      <th>9</th>\n",
       "      <td>다이소</td>\n",
       "      <td>다이소 멤버십 - 소멸예정포인트 안내</td>\n",
       "    </tr>\n",
       "    <tr>\n",
       "      <th>10</th>\n",
       "      <td>AccountPM</td>\n",
       "      <td>[삼성계정] 개인정보 이용내역 정기 안내</td>\n",
       "    </tr>\n",
       "    <tr>\n",
       "      <th>11</th>\n",
       "      <td>롯데멤버스</td>\n",
       "      <td>[롯데멤버스] 서비스 이용약관 개정 안내</td>\n",
       "    </tr>\n",
       "    <tr>\n",
       "      <th>12</th>\n",
       "      <td>흥국화재</td>\n",
       "      <td>[흥국화재] 최용찬님 홈페이지 웹회원이 되신걸 축하드립니다.</td>\n",
       "    </tr>\n",
       "    <tr>\n",
       "      <th>13</th>\n",
       "      <td>야놀자</td>\n",
       "      <td>[야놀자] 서비스 이용약관 개정 안내</td>\n",
       "    </tr>\n",
       "    <tr>\n",
       "      <th>14</th>\n",
       "      <td>SPARKPLUS 시청점</td>\n",
       "      <td>[SPARKPLUS 시청점] 금요일 퇴근 전 확인사항 안내 (창문, 우편, 냉장고 등)</td>\n",
       "    </tr>\n",
       "  </tbody>\n",
       "</table>\n",
       "</div>"
      ],
      "text/plain": [
       "              who                                          contents\n",
       "0             네이버                                    비밀번호가 변경되었습니다.\n",
       "1        한빛출판네트워크                          [한빛출판네트워크] 가입해주셔서 감사합니다.\n",
       "2            신한카드                      [신한카드,기타안내] 서울페이플러스 약관 변경 안내\n",
       "3   SPARKPLUS 시청점          [SPARKPLUS 시청점] 2022년 하반기 소방시설 종합정밀점검 안내\n",
       "4          DB손해보험                (DB손해보험) 최애림님 보험료 자동이체 출금결과 안내입니다.\n",
       "5          스파크플러스     [스플매거진] 카페 분위기는 살리고 오피스 효율은 높이고! 스파크플러스 신논현점🚪\n",
       "6             네이버                               새로운 환경에서 로그인 되었습니다.\n",
       "7             G마켓                               [지마켓] 구매회원 약관 변경 공지\n",
       "8             G마켓                     [G마켓] 장기 미이용 회원 개인정보 파기/분리 안내\n",
       "9             다이소                              다이소 멤버십 - 소멸예정포인트 안내\n",
       "10      AccountPM                            [삼성계정] 개인정보 이용내역 정기 안내\n",
       "11          롯데멤버스                            [롯데멤버스] 서비스 이용약관 개정 안내\n",
       "12           흥국화재                 [흥국화재] 최용찬님 홈페이지 웹회원이 되신걸 축하드립니다.\n",
       "13            야놀자                              [야놀자] 서비스 이용약관 개정 안내\n",
       "14  SPARKPLUS 시청점  [SPARKPLUS 시청점] 금요일 퇴근 전 확인사항 안내 (창문, 우편, 냉장고 등)"
      ]
     },
     "execution_count": 8,
     "metadata": {},
     "output_type": "execute_result"
    }
   ],
   "source": [
    "path = 'C:/cakd7/tool/chromedriver.exe'\n",
    "url = 'http://naver.com'\n",
    "\n",
    "# 1. 네이버 열기\n",
    "driver = webdriver.Chrome(path)\n",
    "driver.get(url)\n",
    "\n",
    "# 2. 메일 창 열기\n",
    "mail = driver.find_element(By.CSS_SELECTOR,'div.group_nav li.nav_item a.nav')\n",
    "mail.click()\n",
    "time.sleep(3)\n",
    "\n",
    "# 3. 로그인하기\n",
    "aerim_id = '**'\n",
    "aerim_pw = '**'\n",
    "\n",
    "### id\n",
    "naver_id = driver.find_element(By.ID, 'id')\n",
    "naver_id.click()\n",
    "pyperclip.copy(aerim_id)\n",
    "naver_id.send_keys(Keys.CONTROL, 'v')  # Keys.CONTROL:컨트롤 키 누르기 'v': v누르기 => ctrl + v: copy한 아이디 붙여넣기\n",
    "time.sleep(3)\n",
    "\n",
    "### password\n",
    "naver_pw = driver.find_element(By.ID, 'pw')\n",
    "naver_pw.click()\n",
    "pyperclip.copy(aerim_pw)\n",
    "naver_pw.send_keys(Keys.CONTROL, 'v') # Keys.CONTROL:컨트롤 키 누르기 'v': v누르기 => ctrl + v: copy한 아이디 붙여넣기\n",
    "time.sleep(3)\n",
    "\n",
    "###로그인 클릭\n",
    "login_click = driver.find_element(By.ID, 'log.login')\n",
    "login_click.click()\n",
    "time.sleep(3)\n",
    "\n",
    "\n",
    "# 4. 1페이지 메일 리스트 크롤링\n",
    "who = driver.find_elements(By.CSS_SELECTOR,'#list_for_view div.name._ccr\\(lst\\.from\\) > a')\n",
    "header = driver.find_elements(By.CSS_SELECTOR, '#list_for_view div.subject > a._d2\\(mcDragndrop\\|html5DragStart\\) > span > strong')\n",
    "\n",
    "# 5.데이터프레임화\n",
    "mail_df = pd.DataFrame(columns = ['who','contents'])\n",
    "\n",
    "mail_who = []\n",
    "mail_contents = []\n",
    "\n",
    "for i in range(len(who)):\n",
    "    mail_who.append(who[i].text)\n",
    "    mail_contents.append(header[i].text)\n",
    "    \n",
    "mail_df['who'] = mail_who\n",
    "mail_df['contents'] = mail_contents\n",
    "\n",
    "\n",
    "driver.close()\n",
    "mail_df"
   ]
  },
  {
   "cell_type": "markdown",
   "id": "21a78b1c",
   "metadata": {},
   "source": [
    "##### javascript 사용"
   ]
  },
  {
   "cell_type": "code",
   "execution_count": 9,
   "id": "c96ed55b",
   "metadata": {},
   "outputs": [
    {
     "name": "stdout",
     "output_type": "stream",
     "text": [
      "비밀번호가 변경되었습니다.\n",
      "[한빛출판네트워크] 가입해주셔서 감사합니다.\n",
      "[신한카드,기타안내] 서울페이플러스 약관 변경 안내\n",
      "[SPARKPLUS 시청점] 2022년 하반기 소방시설 종합정밀점검 안내\n",
      "(DB손해보험) 최애림님 보험료 자동이체 출금결과 안내입니다.\n",
      "[스플매거진] 카페 분위기는 살리고 오피스 효율은 높이고! 스파크플러스 신논현점🚪\n",
      "새로운 환경에서 로그인 되었습니다.\n",
      "[지마켓] 구매회원 약관 변경 공지\n",
      "[G마켓] 장기 미이용 회원 개인정보 파기/분리 안내\n",
      "다이소 멤버십 - 소멸예정포인트 안내\n",
      "[삼성계정] 개인정보 이용내역 정기 안내\n",
      "[롯데멤버스] 서비스 이용약관 개정 안내\n",
      "[흥국화재] 최용찬님 홈페이지 웹회원이 되신걸 축하드립니다.\n",
      "[야놀자] 서비스 이용약관 개정 안내\n",
      "[SPARKPLUS 시청점] 금요일 퇴근 전 확인사항 안내 (창문, 우편, 냉장고 등)\n"
     ]
    }
   ],
   "source": [
    "import time\n",
    "import selenium\n",
    "from selenium import webdriver\n",
    "from selenium.webdriver.common.by import By\n",
    "\n",
    "path = 'C:/cakd7/tool/chromedriver.exe'\n",
    "driver = webdriver.Chrome(path)\n",
    "driver.get('https://www.naver.com')\n",
    "driver.maximize_window()\n",
    "time.sleep(1)\n",
    "element = driver.find_element(By.CLASS_NAME, 'link_login')\n",
    "element.click()\n",
    "\n",
    "aerim_id = '**'\n",
    "aerim_pw = '**'\n",
    "\n",
    "# execute_script 함수를 사용하면 자바스크립트 코드를 실행\n",
    "# js는 getElementById('id').value로 값을 가져올 수 있다.\n",
    "driver.execute_script(\"document.getElementById('id').value=\\'\" + aerim_id + \"\\'\") # text \n",
    "\n",
    "time.sleep(1)\n",
    "driver.execute_script(\"document.getElementById('pw').value=\\'\" + aerim_pw + \"\\'\")\n",
    "time.sleep(1)\n",
    "\n",
    "\n",
    "element = driver.find_element(By.CLASS_NAME, 'btn_login')\n",
    "element.click()\n",
    "# print(driver.page_source)\n",
    "\n",
    "# 이메일\n",
    "driver.maximize_window()\n",
    "driver.find_element(By.CSS_SELECTOR, '#NM_FAVORITE > div.group_nav > ul.list_nav.type_fix > li:nth-child(1) > a').click()\n",
    "\n",
    "elements = driver.find_elements(By.CSS_SELECTOR,'#list_for_view > ol > li> div > div.subject')\n",
    "for e in elements:\n",
    "    print(e.text)\n",
    "    \n",
    "driver.close()\n",
    "driver.quit()\n"
   ]
  },
  {
   "cell_type": "code",
   "execution_count": null,
   "id": "36e8cf69",
   "metadata": {},
   "outputs": [],
   "source": []
  },
  {
   "cell_type": "code",
   "execution_count": null,
   "id": "2f5978ea",
   "metadata": {},
   "outputs": [],
   "source": []
  },
  {
   "cell_type": "code",
   "execution_count": null,
   "id": "01120c60",
   "metadata": {},
   "outputs": [],
   "source": []
  },
  {
   "cell_type": "code",
   "execution_count": null,
   "id": "b0c81227",
   "metadata": {},
   "outputs": [],
   "source": []
  },
  {
   "cell_type": "code",
   "execution_count": null,
   "id": "3bad45a4",
   "metadata": {},
   "outputs": [],
   "source": []
  },
  {
   "cell_type": "code",
   "execution_count": null,
   "id": "16c88dc4",
   "metadata": {},
   "outputs": [],
   "source": []
  },
  {
   "cell_type": "code",
   "execution_count": null,
   "id": "a830fb31",
   "metadata": {},
   "outputs": [],
   "source": []
  },
  {
   "cell_type": "code",
   "execution_count": null,
   "id": "c75b3322",
   "metadata": {},
   "outputs": [],
   "source": []
  },
  {
   "cell_type": "code",
   "execution_count": null,
   "id": "d265ac6e",
   "metadata": {},
   "outputs": [],
   "source": []
  }
 ],
 "metadata": {
  "kernelspec": {
   "display_name": "Python 3 (ipykernel)",
   "language": "python",
   "name": "python3"
  },
  "language_info": {
   "codemirror_mode": {
    "name": "ipython",
    "version": 3
   },
   "file_extension": ".py",
   "mimetype": "text/x-python",
   "name": "python",
   "nbconvert_exporter": "python",
   "pygments_lexer": "ipython3",
   "version": "3.8.13"
  },
  "toc": {
   "base_numbering": 1,
   "nav_menu": {},
   "number_sections": true,
   "sideBar": true,
   "skip_h1_title": false,
   "title_cell": "Table of Contents",
   "title_sidebar": "Contents",
   "toc_cell": false,
   "toc_position": {
    "height": "calc(100% - 180px)",
    "left": "10px",
    "top": "150px",
    "width": "165px"
   },
   "toc_section_display": true,
   "toc_window_display": false
  }
 },
 "nbformat": 4,
 "nbformat_minor": 5
}
