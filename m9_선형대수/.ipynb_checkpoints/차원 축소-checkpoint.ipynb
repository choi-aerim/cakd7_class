{
 "cells": [
  {
   "cell_type": "markdown",
   "id": "5b6b8a94",
   "metadata": {},
   "source": [
    "# LDA"
   ]
  },
  {
   "cell_type": "markdown",
   "id": "b4a49b36",
   "metadata": {},
   "source": [
    "#### 과제 1: \n",
    "붓꽃 데이터 셋에 LDA 방식을 적용하여 표준화 및 학습 후 2개의 components로 시각화하기"
   ]
  },
  {
   "cell_type": "code",
   "execution_count": 30,
   "id": "d10d91ca",
   "metadata": {},
   "outputs": [],
   "source": [
    "# 사이킷런의 LDA를 LinearDiscriminantAnalysis 클래스로 제공\n",
    "from sklearn.discriminant_analysis import LinearDiscriminantAnalysis\n",
    "from sklearn.preprocessing import StandardScaler\n",
    "from sklearn.datasets import load_iris\n",
    "import pandas as pd"
   ]
  },
  {
   "cell_type": "markdown",
   "id": "bf566e61",
   "metadata": {},
   "source": [
    "### 붓꽃 데이터로 실습"
   ]
  },
  {
   "cell_type": "markdown",
   "id": "2391a415",
   "metadata": {},
   "source": [
    "#### 데이터 불러오기"
   ]
  },
  {
   "cell_type": "code",
   "execution_count": 36,
   "id": "a35a5f6b",
   "metadata": {
    "scrolled": false
   },
   "outputs": [],
   "source": [
    "# 붓꽃 데이터 불러오기\n",
    "iris = load_iris()"
   ]
  },
  {
   "cell_type": "markdown",
   "id": "2b73d7f3",
   "metadata": {},
   "source": [
    "#### 정규화"
   ]
  },
  {
   "cell_type": "code",
   "execution_count": 37,
   "id": "2fff4c56",
   "metadata": {},
   "outputs": [],
   "source": [
    "# 표준정규분포로 스케일링\n",
    "iris_scaled = StandardScaler().fit_transform(iris.data)"
   ]
  },
  {
   "cell_type": "markdown",
   "id": "8e4355b0",
   "metadata": {},
   "source": [
    "#### LDA 변환"
   ]
  },
  {
   "cell_type": "code",
   "execution_count": 38,
   "id": "6b8a030e",
   "metadata": {},
   "outputs": [
    {
     "name": "stdout",
     "output_type": "stream",
     "text": [
      "[[ 8.06179978e+00  3.00420621e-01]\n",
      " [ 7.12868772e+00 -7.86660426e-01]\n",
      " [ 7.48982797e+00 -2.65384488e-01]\n",
      " [ 6.81320057e+00 -6.70631068e-01]\n",
      " [ 8.13230933e+00  5.14462530e-01]\n",
      " [ 7.70194674e+00  1.46172097e+00]\n",
      " [ 7.21261762e+00  3.55836209e-01]\n",
      " [ 7.60529355e+00 -1.16338380e-02]\n",
      " [ 6.56055159e+00 -1.01516362e+00]\n",
      " [ 7.34305989e+00 -9.47319209e-01]\n",
      " [ 8.39738652e+00  6.47363392e-01]\n",
      " [ 7.21929685e+00 -1.09646389e-01]\n",
      " [ 7.32679599e+00 -1.07298943e+00]\n",
      " [ 7.57247066e+00 -8.05464137e-01]\n",
      " [ 9.84984300e+00  1.58593698e+00]\n",
      " [ 9.15823890e+00  2.73759647e+00]\n",
      " [ 8.58243141e+00  1.83448945e+00]\n",
      " [ 7.78075375e+00  5.84339407e-01]\n",
      " [ 8.07835876e+00  9.68580703e-01]\n",
      " [ 8.02097451e+00  1.14050366e+00]\n",
      " [ 7.49680227e+00 -1.88377220e-01]\n",
      " [ 7.58648117e+00  1.20797032e+00]\n",
      " [ 8.68104293e+00  8.77590154e-01]\n",
      " [ 6.25140358e+00  4.39696367e-01]\n",
      " [ 6.55893336e+00 -3.89222752e-01]\n",
      " [ 6.77138315e+00 -9.70634453e-01]\n",
      " [ 6.82308032e+00  4.63011612e-01]\n",
      " [ 7.92461638e+00  2.09638715e-01]\n",
      " [ 7.99129024e+00  8.63787128e-02]\n",
      " [ 6.82946447e+00 -5.44960851e-01]\n",
      " [ 6.75895493e+00 -7.59002759e-01]\n",
      " [ 7.37495254e+00  5.65844592e-01]\n",
      " [ 9.12634625e+00  1.22443267e+00]\n",
      " [ 9.46768199e+00  1.82522635e+00]\n",
      " [ 7.06201386e+00 -6.63400423e-01]\n",
      " [ 7.95876243e+00 -1.64961722e-01]\n",
      " [ 8.61367201e+00  4.03253602e-01]\n",
      " [ 8.33041759e+00  2.28133530e-01]\n",
      " [ 6.93412007e+00 -7.05519379e-01]\n",
      " [ 7.68823131e+00 -9.22362309e-03]\n",
      " [ 7.91793715e+00  6.75121313e-01]\n",
      " [ 5.66188065e+00 -1.93435524e+00]\n",
      " [ 7.24101468e+00 -2.72615132e-01]\n",
      " [ 6.41443556e+00  1.24730131e+00]\n",
      " [ 6.85944381e+00  1.05165396e+00]\n",
      " [ 6.76470393e+00 -5.05151855e-01]\n",
      " [ 8.08189937e+00  7.63392750e-01]\n",
      " [ 7.18676904e+00 -3.60986823e-01]\n",
      " [ 8.31444876e+00  6.44953177e-01]\n",
      " [ 7.67196741e+00 -1.34893840e-01]\n",
      " [-1.45927545e+00  2.85437643e-02]\n",
      " [-1.79770574e+00  4.84385502e-01]\n",
      " [-2.41694888e+00 -9.27840307e-02]\n",
      " [-2.26247349e+00 -1.58725251e+00]\n",
      " [-2.54867836e+00 -4.72204898e-01]\n",
      " [-2.42996725e+00 -9.66132066e-01]\n",
      " [-2.44848456e+00  7.95961954e-01]\n",
      " [-2.22666513e-01 -1.58467318e+00]\n",
      " [-1.75020123e+00 -8.21180130e-01]\n",
      " [-1.95842242e+00 -3.51563753e-01]\n",
      " [-1.19376031e+00 -2.63445570e+00]\n",
      " [-1.85892567e+00  3.19006544e-01]\n",
      " [-1.15809388e+00 -2.64340991e+00]\n",
      " [-2.66605725e+00 -6.42504540e-01]\n",
      " [-3.78367218e-01  8.66389312e-02]\n",
      " [-1.20117255e+00  8.44373592e-02]\n",
      " [-2.76810246e+00  3.21995363e-02]\n",
      " [-7.76854039e-01 -1.65916185e+00]\n",
      " [-3.49805433e+00 -1.68495616e+00]\n",
      " [-1.09042788e+00 -1.62658350e+00]\n",
      " [-3.71589615e+00  1.04451442e+00]\n",
      " [-9.97610366e-01 -4.90530602e-01]\n",
      " [-3.83525931e+00 -1.40595806e+00]\n",
      " [-2.25741249e+00 -1.42679423e+00]\n",
      " [-1.25571326e+00 -5.46424197e-01]\n",
      " [-1.43755762e+00 -1.34424979e-01]\n",
      " [-2.45906137e+00 -9.35277280e-01]\n",
      " [-3.51848495e+00  1.60588866e-01]\n",
      " [-2.58979871e+00 -1.74611728e-01]\n",
      " [ 3.07487884e-01 -1.31887146e+00]\n",
      " [-1.10669179e+00 -1.75225371e+00]\n",
      " [-6.05524589e-01 -1.94298038e+00]\n",
      " [-8.98703769e-01 -9.04940034e-01]\n",
      " [-4.49846635e+00 -8.82749915e-01]\n",
      " [-2.93397799e+00  2.73791065e-02]\n",
      " [-2.10360821e+00  1.19156767e+00]\n",
      " [-2.14258208e+00  8.87797815e-02]\n",
      " [-2.47945603e+00 -1.94073927e+00]\n",
      " [-1.32552574e+00 -1.62869550e-01]\n",
      " [-1.95557887e+00 -1.15434826e+00]\n",
      " [-2.40157020e+00 -1.59458341e+00]\n",
      " [-2.29248878e+00 -3.32860296e-01]\n",
      " [-1.27227224e+00 -1.21458428e+00]\n",
      " [-2.93176055e-01 -1.79871509e+00]\n",
      " [-2.00598883e+00 -9.05418042e-01]\n",
      " [-1.18166311e+00 -5.37570242e-01]\n",
      " [-1.61615645e+00 -4.70103580e-01]\n",
      " [-1.42158879e+00 -5.51244626e-01]\n",
      " [ 4.75973788e-01 -7.99905482e-01]\n",
      " [-1.54948259e+00 -5.93363582e-01]\n",
      " [-7.83947399e+00  2.13973345e+00]\n",
      " [-5.50747997e+00 -3.58139892e-02]\n",
      " [-6.29200850e+00  4.67175777e-01]\n",
      " [-5.60545633e+00 -3.40738058e-01]\n",
      " [-6.85055995e+00  8.29825394e-01]\n",
      " [-7.41816784e+00 -1.73117995e-01]\n",
      " [-4.67799541e+00 -4.99095015e-01]\n",
      " [-6.31692685e+00 -9.68980756e-01]\n",
      " [-6.32773684e+00 -1.38328993e+00]\n",
      " [-6.85281335e+00  2.71758963e+00]\n",
      " [-4.44072512e+00  1.34723692e+00]\n",
      " [-5.45009572e+00 -2.07736942e-01]\n",
      " [-5.66033713e+00  8.32713617e-01]\n",
      " [-5.95823722e+00 -9.40175447e-02]\n",
      " [-6.75926282e+00  1.60023206e+00]\n",
      " [-5.80704331e+00  2.01019882e+00]\n",
      " [-5.06601233e+00 -2.62733839e-02]\n",
      " [-6.60881882e+00  1.75163587e+00]\n",
      " [-9.17147486e+00 -7.48255067e-01]\n",
      " [-4.76453569e+00 -2.15573720e+00]\n",
      " [-6.27283915e+00  1.64948141e+00]\n",
      " [-5.36071189e+00  6.46120732e-01]\n",
      " [-7.58119982e+00 -9.80722934e-01]\n",
      " [-4.37150279e+00 -1.21297458e-01]\n",
      " [-5.72317531e+00  1.29327553e+00]\n",
      " [-5.27915920e+00 -4.24582377e-02]\n",
      " [-4.08087208e+00  1.85936572e-01]\n",
      " [-4.07703640e+00  5.23238483e-01]\n",
      " [-6.51910397e+00  2.96976389e-01]\n",
      " [-4.58371942e+00 -8.56815813e-01]\n",
      " [-6.22824009e+00 -7.12719638e-01]\n",
      " [-5.22048773e+00  1.46819509e+00]\n",
      " [-6.80015000e+00  5.80895175e-01]\n",
      " [-3.81515972e+00 -9.42985932e-01]\n",
      " [-5.10748966e+00 -2.13059000e+00]\n",
      " [-6.79671631e+00  8.63090395e-01]\n",
      " [-6.52449599e+00  2.44503527e+00]\n",
      " [-4.99550279e+00  1.87768525e-01]\n",
      " [-3.93985300e+00  6.14020389e-01]\n",
      " [-5.20383090e+00  1.14476808e+00]\n",
      " [-6.65308685e+00  1.80531976e+00]\n",
      " [-5.10555946e+00  1.99218201e+00]\n",
      " [-5.50747997e+00 -3.58139892e-02]\n",
      " [-6.79601924e+00  1.46068695e+00]\n",
      " [-6.84735943e+00  2.42895067e+00]\n",
      " [-5.64500346e+00  1.67771734e+00]\n",
      " [-5.17956460e+00 -3.63475041e-01]\n",
      " [-4.96774090e+00  8.21140550e-01]\n",
      " [-5.88614539e+00  2.34509051e+00]\n",
      " [-4.68315426e+00  3.32033811e-01]]\n"
     ]
    }
   ],
   "source": [
    "# 2개의 컴포넌트로 LDA변환\n",
    "## 컴포넌트 개수는 2개\n",
    "lda = LinearDiscriminantAnalysis(n_components = 2)\n",
    "\n",
    "## 변환 시, 클래스의 결정값이 필요함 -> iris.target이 클래스의 결정값이 됨\n",
    "lda.fit(iris_scaled, iris.target)     \n",
    "\n",
    "## LDA 변환\n",
    "iris_lda = lda.transform(iris_scaled)    \n",
    "print(iris_lda)"
   ]
  },
  {
   "cell_type": "markdown",
   "id": "f1bf9aa4",
   "metadata": {},
   "source": [
    "#### 시각화"
   ]
  },
  {
   "cell_type": "code",
   "execution_count": 42,
   "id": "27e4dc49",
   "metadata": {},
   "outputs": [
    {
     "data": {
      "image/png": "[encoded data removed]",
      "text/plain": [
       "<Figure size 432x288 with 1 Axes>"
      ]
     },
     "metadata": {
      "needs_background": "light"
     },
     "output_type": "display_data"
    }
   ],
   "source": [
    "import pandas as pd\n",
    "import matplotlib.pyplot as plt\n",
    "\n",
    "# 스케일링한 데이터로 데이터프레임 생성\n",
    "lda_columns = ['LDA_component1','LDA_component2']\n",
    "iris_df = pd.DataFrame(iris_lda, columns = lda_columns)\n",
    "\n",
    "# target 컬럼 추가\n",
    "iris_df['target'] = iris.target\n",
    "\n",
    "\n",
    "# setosa의 target 값은 0, versicolor: 1, virginica: 2\n",
    "# setosa는 세모,  versicolor는 네모, virginica는 동그라미로 표현\n",
    "markers = ['^', 's', 'o']\n",
    "\n",
    "for i, marker in enumerate(markers):\n",
    "    x = iris_df[iris_df['target'] == i]['LDA_component1']\n",
    "    y = iris_df[iris_df['target'] == i]['LDA_component2']\n",
    "    plt.scatter(x, y, marker = marker, label = iris.target_names[i])\n",
    "\n",
    "plt.legend(loc = 'upper right')\n",
    "plt.xlabel('LDA_component1')\n",
    "plt.ylabel('LDA_component2')\n",
    "\n",
    "plt.show()"
   ]
  },
  {
   "cell_type": "markdown",
   "id": "f446687f",
   "metadata": {},
   "source": [
    "# SVD\n",
    "\n",
    "<img src = 'SVD.jpg' STYLE = 'width: 500px;'>"
   ]
  },
  {
   "cell_type": "markdown",
   "id": "38406a28",
   "metadata": {},
   "source": [
    "#### 임의의 4X4 행렬 생성"
   ]
  },
  {
   "cell_type": "code",
   "execution_count": 50,
   "id": "25c7d75b",
   "metadata": {},
   "outputs": [
    {
     "name": "stdout",
     "output_type": "stream",
     "text": [
      "[[-0.212 -0.285 -0.574 -0.44 ]\n",
      " [-0.33   1.184  1.615  0.367]\n",
      " [-0.014  0.63   1.71  -1.327]\n",
      " [ 0.402 -0.191  1.404 -1.969]]\n"
     ]
    }
   ],
   "source": [
    "import numpy as np\n",
    "\n",
    "np.random.seed(121)\n",
    "\n",
    "# 표준정규분포를 따르는 인자를 가진 4행 4열의 행렬 생성\n",
    "a = np.random.randn(4,4)\n",
    "\n",
    "print(np.round(a,3))"
   ]
  },
  {
   "cell_type": "markdown",
   "id": "79c918cd",
   "metadata": {},
   "source": [
    "#### 특이벡터 및 시그마행렬 구하기"
   ]
  },
  {
   "cell_type": "code",
   "execution_count": 51,
   "id": "d3489163",
   "metadata": {},
   "outputs": [
    {
     "name": "stdout",
     "output_type": "stream",
     "text": [
      "[[-0.079 -0.318  0.867  0.376]\n",
      " [ 0.383  0.787  0.12   0.469]\n",
      " [ 0.656  0.022  0.357 -0.664]\n",
      " [ 0.645 -0.529 -0.328  0.444]] \n",
      "\n",
      " [3.423 2.023 0.463 0.079] \n",
      "\n",
      " [[ 0.041  0.224  0.786 -0.574]\n",
      " [-0.2    0.562  0.37   0.712]\n",
      " [-0.778  0.395 -0.333 -0.357]\n",
      " [-0.593 -0.692  0.366  0.189]]\n"
     ]
    }
   ],
   "source": [
    "from numpy.linalg import svd\n",
    "\n",
    "# U, V는 특이벡터이며, 직교 성질을 가짐\n",
    "## 직교: 전치벡터와 내적 시 단위행렬이 됨\n",
    "U, Sigma, Vt = svd(a)\n",
    "\n",
    "print(np.round(U,3), '\\n\\n', np.round(Sigma,3), '\\n\\n', np.round(Vt,3))"
   ]
  },
  {
   "cell_type": "markdown",
   "id": "7288a4bb",
   "metadata": {},
   "source": [
    "#### 원래 행렬 복원"
   ]
  },
  {
   "cell_type": "code",
   "execution_count": 52,
   "id": "b8f35370",
   "metadata": {},
   "outputs": [
    {
     "data": {
      "text/plain": [
       "array([[-0.21203317, -0.28492917, -0.57389821, -0.44031017],\n",
       "       [-0.33011056,  1.18369457,  1.61537293,  0.36706247],\n",
       "       [-0.01411931,  0.6296418 ,  1.70964074, -1.32698736],\n",
       "       [ 0.40187312, -0.19142667,  1.40382596, -1.96876855]])"
      ]
     },
     "execution_count": 52,
     "metadata": {},
     "output_type": "execute_result"
    }
   ],
   "source": [
    "# 시그마행렬은 대각행렬로 변환 후에 내적해야함\n",
    "\n",
    "np.dot(np.dot(U, np.diag(Sigma)),Vt )"
   ]
  },
  {
   "cell_type": "markdown",
   "id": "1448d608",
   "metadata": {},
   "source": [
    "### 행 간 의존성 부여"
   ]
  },
  {
   "cell_type": "code",
   "execution_count": 53,
   "id": "57dc6198",
   "metadata": {
    "scrolled": true
   },
   "outputs": [
    {
     "data": {
      "text/plain": [
       "array([[-0.21203317, -0.28492917, -0.57389821, -0.44031017],\n",
       "       [-0.33011056,  1.18369457,  1.61537293,  0.36706247],\n",
       "       [-0.01411931,  0.6296418 ,  1.70964074, -1.32698736],\n",
       "       [ 0.40187312, -0.19142667,  1.40382596, -1.96876855]])"
      ]
     },
     "execution_count": 53,
     "metadata": {},
     "output_type": "execute_result"
    }
   ],
   "source": [
    "a"
   ]
  },
  {
   "cell_type": "markdown",
   "id": "33bf35a0",
   "metadata": {},
   "source": [
    "#### 의존성 부여"
   ]
  },
  {
   "cell_type": "code",
   "execution_count": 54,
   "id": "ea8b6eec",
   "metadata": {},
   "outputs": [
    {
     "name": "stdout",
     "output_type": "stream",
     "text": [
      "[-0.01411931  0.6296418   1.70964074 -1.32698736] \n",
      "\n",
      "[-0.54214372  0.8987654   1.04147472 -0.0732477 ] \n",
      "\n",
      "[ 0.40187312 -0.19142667  1.40382596 -1.96876855] \n",
      "\n",
      "[-0.21203317 -0.28492917 -0.57389821 -0.44031017] \n",
      "\n"
     ]
    },
    {
     "data": {
      "text/plain": [
       "array([[-0.21203317, -0.28492917, -0.57389821, -0.44031017],\n",
       "       [-0.33011056,  1.18369457,  1.61537293,  0.36706247],\n",
       "       [-0.54214372,  0.8987654 ,  1.04147472, -0.0732477 ],\n",
       "       [-0.21203317, -0.28492917, -0.57389821, -0.44031017]])"
      ]
     },
     "execution_count": 54,
     "metadata": {},
     "output_type": "execute_result"
    }
   ],
   "source": [
    "print(a[2],'\\n')\n",
    "\n",
    "# 3행이 1행 + 2행이 되도록\n",
    "a[2] = a[0] + a[1]\n",
    "print(a[2],'\\n')\n",
    "\n",
    "\n",
    "print(a[3],'\\n')\n",
    "# 4행은 1행과 같도록\n",
    "a[3] = a[0]\n",
    "print(a[3],'\\n')\n",
    "\n",
    "a"
   ]
  },
  {
   "cell_type": "markdown",
   "id": "c68a2014",
   "metadata": {},
   "source": [
    "#### 특이벡터 및 시그마행렬 구하기"
   ]
  },
  {
   "cell_type": "code",
   "execution_count": 55,
   "id": "49ed283d",
   "metadata": {},
   "outputs": [
    {
     "name": "stdout",
     "output_type": "stream",
     "text": [
      "[[ 0.246  0.583 -0.071 -0.771]\n",
      " [-0.774 -0.017  0.551 -0.31 ]\n",
      " [-0.529  0.566 -0.551  0.31 ]\n",
      " [ 0.246  0.583  0.623  0.461]] \n",
      "\n",
      " [2.663 0.807 0.    0.   ] \n",
      "\n",
      " [[ 0.164 -0.575 -0.782 -0.173]\n",
      " [-0.68   0.194 -0.132 -0.695]\n",
      " [-0.703 -0.444  0.056  0.553]\n",
      " [-0.129  0.659 -0.606  0.426]]\n"
     ]
    }
   ],
   "source": [
    "U, Sigma, Vt = svd(a)\n",
    "print(np.round(U,3), '\\n\\n', np.round(Sigma,3), '\\n\\n', np.round(Vt,3))"
   ]
  },
  {
   "cell_type": "markdown",
   "id": "6e37aecf",
   "metadata": {},
   "source": [
    "- 시그마 대각요소들의 값 중 2개가 0으로 바뀜\n",
    "- 선형 독립인 로우 벡터 개수가 2개라는 의미임"
   ]
  },
  {
   "cell_type": "markdown",
   "id": "6109d2ed",
   "metadata": {},
   "source": [
    "#### 원래 행렬 복원"
   ]
  },
  {
   "cell_type": "code",
   "execution_count": 56,
   "id": "ca642632",
   "metadata": {},
   "outputs": [
    {
     "name": "stdout",
     "output_type": "stream",
     "text": [
      "[[ 0.24568427  0.58278576]\n",
      " [-0.77441642 -0.01670951]\n",
      " [-0.52873215  0.56607625]\n",
      " [ 0.24568427  0.58278576]] \n",
      "\n",
      " [[2.66335286 0.        ]\n",
      " [0.         0.80703506]] \n",
      "\n",
      " [[ 0.16449395 -0.57517122 -0.78233269 -0.17342252]\n",
      " [-0.67967123  0.19439734 -0.13178782 -0.69490191]]\n"
     ]
    }
   ],
   "source": [
    "# U 행렬의 경우는 Sigma와 내적을 수행하므로, Sigma와 앞 2행에 대응되는 앞 2열만 추출\n",
    "\n",
    "U_ = U[:,:2]\n",
    "Sigma_ = np.diag(Sigma[:2])\n",
    "\n",
    "\n",
    "# v전치 행렬의 경우는 앞의 2행만 추출\n",
    "Vt_ = Vt[:2]\n",
    "\n",
    "print(U_, '\\n\\n', Sigma_, '\\n\\n',Vt_)"
   ]
  },
  {
   "cell_type": "code",
   "execution_count": 57,
   "id": "b5fd92b6",
   "metadata": {},
   "outputs": [
    {
     "data": {
      "text/plain": [
       "array([[-0.21203317, -0.28492917, -0.57389821, -0.44031017],\n",
       "       [-0.33011056,  1.18369457,  1.61537293,  0.36706247],\n",
       "       [-0.54214372,  0.8987654 ,  1.04147472, -0.0732477 ],\n",
       "       [-0.21203317, -0.28492917, -0.57389821, -0.44031017]])"
      ]
     },
     "execution_count": 57,
     "metadata": {},
     "output_type": "execute_result"
    }
   ],
   "source": [
    "# 내적 수행\n",
    "a_ = np.dot(np.dot(U_, Sigma_), Vt_)\n",
    "a_"
   ]
  },
  {
   "cell_type": "markdown",
   "id": "84124ab5",
   "metadata": {},
   "source": [
    "### Truncated SVD"
   ]
  },
  {
   "cell_type": "code",
   "execution_count": 58,
   "id": "9e826b80",
   "metadata": {},
   "outputs": [],
   "source": [
    "import numpy as np\n",
    "from scipy.sparse.linalg import svds\n",
    "from scipy.linalg import svd"
   ]
  },
  {
   "cell_type": "code",
   "execution_count": 59,
   "id": "c3627199",
   "metadata": {},
   "outputs": [
    {
     "name": "stdout",
     "output_type": "stream",
     "text": [
      "원본행렬:\n",
      " [[0.11133083 0.21076757 0.23296249 0.15194456 0.83017814 0.40791941]\n",
      " [0.5557906  0.74552394 0.24849976 0.9686594  0.95268418 0.48984885]\n",
      " [0.01829731 0.85760612 0.40493829 0.62247394 0.29537149 0.92958852]\n",
      " [0.4056155  0.56730065 0.24575605 0.22573721 0.03827786 0.58098021]\n",
      " [0.82925331 0.77326256 0.94693849 0.73632338 0.67328275 0.74517176]\n",
      " [0.51161442 0.46920965 0.6439515  0.82081228 0.14548493 0.01806415]]\n",
      "\n",
      "U의 차원: (6, 6), Sigma 차원: (6,), Vt 차원: (6, 6)\n",
      "\n",
      "Sigma값 행렬: [3.2535007  0.88116505 0.83865238 0.55463089 0.35834824 0.0349925 ]\n"
     ]
    }
   ],
   "source": [
    "# 원본 행렬을 출력\n",
    "np.random.seed(121)\n",
    "matrix = np.random.random((6,6))\n",
    "print(f'원본행렬:\\n {matrix}')\n",
    "\n",
    "\n",
    "\n",
    "# SVD 적용할 경우, U, Sigma, Vt 차원 확인\n",
    "U, Sigma, Vt = svd(matrix)\n",
    "print(f'\\nU의 차원: {U.shape}, Sigma 차원: {Sigma.shape}, Vt 차원: {Vt.shape}')\n",
    "print(f'\\nSigma값 행렬: {Sigma}')\n"
   ]
  },
  {
   "cell_type": "code",
   "execution_count": 60,
   "id": "0f3ec7cf",
   "metadata": {},
   "outputs": [
    {
     "name": "stdout",
     "output_type": "stream",
     "text": [
      "\n",
      "Truncated SVD 분해 행렬 차원: (6, 4)\n",
      "Truncated SVD Sigma 차원: (4,)\n",
      "Truncated SVD Vt 차원: (4, 6)\n",
      "\n",
      "Truncated SVD로 분해 후 복원된 행렬: \n",
      "[[0.19222941 0.21792946 0.15951023 0.14084013 0.81641405 0.42533093]\n",
      " [0.44874275 0.72204422 0.34594106 0.99148577 0.96866325 0.4754868 ]\n",
      " [0.12656662 0.88860729 0.30625735 0.59517439 0.28036734 0.93961948]\n",
      " [0.23989012 0.51026588 0.39697353 0.27308905 0.05971563 0.57156395]\n",
      " [0.83806144 0.78847467 0.93868685 0.72673231 0.6740867  0.73812389]\n",
      " [0.59726589 0.47953891 0.56613544 0.80746028 0.13135039 0.03479656]]\n"
     ]
    }
   ],
   "source": [
    "# Truncated SVD의 Sigma 행렬의 특이값을 4개로 하여 Truncated SVD 수행\n",
    "num_components = 4\n",
    "U_tr, Sigma_tr, Vt_tr = svds(matrix, num_components)\n",
    "print(f'\\nTruncated SVD 분해 행렬 차원: {U_tr.shape}')\n",
    "print(f'Truncated SVD Sigma 차원: {Sigma_tr.shape}')\n",
    "print(f'Truncated SVD Vt 차원: {Vt_tr.shape}')\n",
    "matrix_tr = np.dot(np.dot(U_tr, np.diag(Sigma_tr)), Vt_tr)\n",
    "# 복원\n",
    "print(f'\\nTruncated SVD로 분해 후 복원된 행렬: \\n{matrix_tr}')"
   ]
  },
  {
   "cell_type": "markdown",
   "id": "125a4bd4",
   "metadata": {},
   "source": [
    "#### 과제 2:\n",
    "사이킷런 TruncatedSVD 클래스를 이용한 변환을 수행하고 PCA방식과 시각화하여 비교하기"
   ]
  },
  {
   "cell_type": "code",
   "execution_count": 61,
   "id": "cc0cbc69",
   "metadata": {},
   "outputs": [],
   "source": [
    "from sklearn.decomposition import TruncatedSVD, PCA\n",
    "from sklearn.datasets import load_iris\n",
    "import matplotlib.pyplot as plt"
   ]
  },
  {
   "cell_type": "code",
   "execution_count": null,
   "id": "82649ce2",
   "metadata": {},
   "outputs": [],
   "source": [
    "iris = load_iris()\n",
    "iris"
   ]
  },
  {
   "cell_type": "markdown",
   "id": "4eb0f7f0",
   "metadata": {},
   "source": [
    "#### 과제 3:\n",
    "사이킷런 NMF 클래스를 이용한 변환 수행하고 PCA 방식과 시각화하여 비교하기"
   ]
  },
  {
   "cell_type": "code",
   "execution_count": null,
   "id": "f502c5eb",
   "metadata": {},
   "outputs": [],
   "source": []
  },
  {
   "cell_type": "code",
   "execution_count": null,
   "id": "5620a65e",
   "metadata": {},
   "outputs": [],
   "source": []
  },
  {
   "cell_type": "code",
   "execution_count": null,
   "id": "efe5317d",
   "metadata": {},
   "outputs": [],
   "source": []
  },
  {
   "cell_type": "code",
   "execution_count": null,
   "id": "1465bcbb",
   "metadata": {},
   "outputs": [],
   "source": []
  }
 ],
 "metadata": {
  "kernelspec": {
   "display_name": "Python 3 (ipykernel)",
   "language": "python",
   "name": "python3"
  },
  "language_info": {
   "codemirror_mode": {
    "name": "ipython",
    "version": 3
   },
   "file_extension": ".py",
   "mimetype": "text/x-python",
   "name": "python",
   "nbconvert_exporter": "python",
   "pygments_lexer": "ipython3",
   "version": "3.8.13"
  },
  "toc": {
   "base_numbering": 1,
   "nav_menu": {},
   "number_sections": true,
   "sideBar": true,
   "skip_h1_title": false,
   "title_cell": "Table of Contents",
   "title_sidebar": "Contents",
   "toc_cell": false,
   "toc_position": {
    "height": "calc(100% - 180px)",
    "left": "10px",
    "top": "150px",
    "width": "349.091px"
   },
   "toc_section_display": true,
   "toc_window_display": true
  }
 },
 "nbformat": 4,
 "nbformat_minor": 5
}
