{
 "cells": [
  {
   "cell_type": "markdown",
   "metadata": {},
   "source": [
    "## 빅데이터 기반 AI 응용 솔루션 개발자 전문과정\n",
    "\n",
    "### 교과목명 : 선형대수학 \n",
    "- 평가일 : 22.11.04\n",
    "- 성명 : 최애림\n",
    "- 점수 :"
   ]
  },
  {
   "cell_type": "markdown",
   "metadata": {},
   "source": [
    "Q1. 다음을 수행하세요.\n",
    "1. np.arange(9)로 구성된 정방행렬\n",
    "2. 주대각선 원소가 [1,2,3]인 대각 정방행렬 \n",
    "3. 3행 3열로 구성된 항등행렬(단위행렬)\n",
    "4. 3행 1열로 구성된 영벡터"
   ]
  },
  {
   "cell_type": "code",
   "execution_count": 1,
   "metadata": {},
   "outputs": [
    {
     "data": {
      "text/plain": [
       "array([[0, 1, 2],\n",
       "       [3, 4, 5],\n",
       "       [6, 7, 8]])"
      ]
     },
     "execution_count": 1,
     "metadata": {},
     "output_type": "execute_result"
    }
   ],
   "source": [
    "import numpy as np\n",
    "\n",
    "# 1번\n",
    "np.arange(9).reshape(3,3)"
   ]
  },
  {
   "cell_type": "code",
   "execution_count": 2,
   "metadata": {},
   "outputs": [
    {
     "data": {
      "text/plain": [
       "array([[1, 0, 0],\n",
       "       [0, 2, 0],\n",
       "       [0, 0, 3]])"
      ]
     },
     "execution_count": 2,
     "metadata": {},
     "output_type": "execute_result"
    }
   ],
   "source": [
    "# 2번\n",
    "np.diag([1,2,3])"
   ]
  },
  {
   "cell_type": "code",
   "execution_count": 3,
   "metadata": {},
   "outputs": [
    {
     "data": {
      "text/plain": [
       "array([[1., 0., 0.],\n",
       "       [0., 1., 0.],\n",
       "       [0., 0., 1.]])"
      ]
     },
     "execution_count": 3,
     "metadata": {},
     "output_type": "execute_result"
    }
   ],
   "source": [
    "#3번\n",
    "np.eye(3,3)"
   ]
  },
  {
   "cell_type": "code",
   "execution_count": 4,
   "metadata": {},
   "outputs": [
    {
     "data": {
      "text/plain": [
       "array([[0.],\n",
       "       [0.],\n",
       "       [0.]])"
      ]
     },
     "execution_count": 4,
     "metadata": {},
     "output_type": "execute_result"
    }
   ],
   "source": [
    "#4번\n",
    "np.zeros((3,1))"
   ]
  },
  {
   "cell_type": "markdown",
   "metadata": {},
   "source": [
    "Q2. mt1 행렬에 대하여 다음을 수행하세요.\n",
    "1. 역행렬 mt2를 구하고 \n",
    "2. mt1과 mt2를 내적하여 단위행렬을 출력 "
   ]
  },
  {
   "cell_type": "code",
   "execution_count": 5,
   "metadata": {},
   "outputs": [
    {
     "data": {
      "text/plain": [
       "array([[1, 2, 1],\n",
       "       [2, 2, 3],\n",
       "       [1, 3, 1]])"
      ]
     },
     "execution_count": 5,
     "metadata": {},
     "output_type": "execute_result"
    }
   ],
   "source": [
    "np.random.seed(0)\n",
    "\n",
    "mt1 = np.random.randint(1,4,size = (3,3))\n",
    "mt1"
   ]
  },
  {
   "cell_type": "code",
   "execution_count": 8,
   "metadata": {},
   "outputs": [
    {
     "data": {
      "text/plain": [
       "array([[ 7., -1., -4.],\n",
       "       [-1.,  0.,  1.],\n",
       "       [-4.,  1.,  2.]])"
      ]
     },
     "execution_count": 8,
     "metadata": {},
     "output_type": "execute_result"
    }
   ],
   "source": [
    "from numpy import linalg\n",
    "\n",
    "# 1번 역행렬 mt2\n",
    "mt2 = linalg.inv(mt1)\n",
    "mt2"
   ]
  },
  {
   "cell_type": "code",
   "execution_count": 9,
   "metadata": {},
   "outputs": [
    {
     "data": {
      "text/plain": [
       "array([[1., 0., 0.],\n",
       "       [0., 1., 0.],\n",
       "       [0., 0., 1.]])"
      ]
     },
     "execution_count": 9,
     "metadata": {},
     "output_type": "execute_result"
    }
   ],
   "source": [
    "# 2번 단위행렬\n",
    "np.dot(mt1, mt2)"
   ]
  },
  {
   "cell_type": "markdown",
   "metadata": {},
   "source": [
    "Q3. 행렬식의 기하학적 성질은 부피를 의미하며 2 * 2 행렬 A의 행렬식은 일종의 넓이로 이해할 수 있다.\n",
    "[[2,0],[0,2]] 배열에 대하여 행렬식을 이용하여 면적을 구하세요."
   ]
  },
  {
   "cell_type": "code",
   "execution_count": 13,
   "metadata": {},
   "outputs": [
    {
     "data": {
      "text/plain": [
       "4.0"
      ]
     },
     "execution_count": 13,
     "metadata": {},
     "output_type": "execute_result"
    }
   ],
   "source": [
    "a_array = np.array([[2,0], [0,2]])\n",
    "linalg.det(a_array)"
   ]
  },
  {
   "cell_type": "markdown",
   "metadata": {},
   "source": [
    "Q4. f(x) = x**2 -4*x 방정식에 대하여 점(3,-3)에서 접선의 기울기를 구하고 그래프로 표현하면 아래와 같다. \n",
    "scipy.misc 패키지를 이용하여 그 점에서의 기울기를 구하세요."
   ]
  },
  {
   "cell_type": "code",
   "execution_count": 14,
   "metadata": {},
   "outputs": [],
   "source": [
    "import matplotlib.pylab as plt\n",
    "\n",
    "import numpy as np\n",
    "import scipy as sp\n",
    "import pandas as pd\n",
    "import statsmodels.api as sm\n",
    "import sklearn as sk\n",
    "import matplotlib as mpl\n",
    "mpl.rc('font', family='Malgun Gothic') #한글 폰트 설정\n",
    "mpl.rcParams['axes.unicode_minus'] = False # 마이너스 단위 처리"
   ]
  },
  {
   "cell_type": "code",
   "execution_count": 15,
   "metadata": {},
   "outputs": [
    {
     "data": {
      "image/png": "[encoded data removed]",
      "text/plain": [
       "<Figure size 432x432 with 1 Axes>"
      ]
     },
     "metadata": {
      "needs_background": "light"
     },
     "output_type": "display_data"
    }
   ],
   "source": [
    "# 접선의 방정식 : 미분의 정의에 따라 y = f(x)라는 그래상의 점 (a,f(a))에서 접선이 기울기는 f'(a) 이다.\n",
    "def f(x):\n",
    "    return(x**2 - 4*x)\n",
    "def g(x):\n",
    "    return(2*x -9)\n",
    "\n",
    "x = np.linspace(-4, 8, 500)\n",
    "fig = plt.figure(figsize=(6,6))\n",
    "\n",
    "plt.scatter([3],[-3], c='b')\n",
    "plt.plot(x, f(x), '-', lw=1, c='b')\n",
    "plt.plot(x, g(x), '-', lw=1, c='r')\n",
    "plt.plot([x.min(), x.max()], [0, 0], lw=2, c='k')\n",
    "plt.plot([0, 0], [g(x).min(), f(x).max()], lw=2, c='k')\n",
    "\n",
    "plt.grid()"
   ]
  },
  {
   "cell_type": "code",
   "execution_count": 17,
   "metadata": {},
   "outputs": [
    {
     "data": {
      "text/plain": [
       "2.0"
      ]
     },
     "execution_count": 17,
     "metadata": {},
     "output_type": "execute_result"
    }
   ],
   "source": [
    "from scipy.misc import derivative\n",
    "\n",
    "derivative(f, 3)"
   ]
  },
  {
   "cell_type": "markdown",
   "metadata": {},
   "source": [
    "Q5. 아래 지수함수에 대응하는 로그함수를 그래프로 표현하세요."
   ]
  },
  {
   "cell_type": "code",
   "execution_count": 18,
   "metadata": {},
   "outputs": [
    {
     "data": {
      "image/png": "[encoded data removed]",
      "text/plain": [
       "<Figure size 720x432 with 1 Axes>"
      ]
     },
     "metadata": {
      "needs_background": "light"
     },
     "output_type": "display_data"
    }
   ],
   "source": [
    "import numpy as np\n",
    "import matplotlib as mpl\n",
    "import matplotlib.pyplot as plt\n",
    "mpl.rc('font', family='Malgun Gothic') #한글 폰트 설정\n",
    "mpl.rcParams['axes.unicode_minus'] = False # 마이너스 단위 처리\n",
    "\n",
    "# 지수함수의 그래프 1\n",
    "xx = np.linspace(-2, 2, 100)\n",
    "yy = np.exp(xx)\n",
    "\n",
    "plt.figure(figsize=(10,6))\n",
    "plt.title(\"지수함수\")\n",
    "plt.plot(xx, yy)\n",
    "\n",
    "plt.axhline(1, c='r', ls=\"--\")\n",
    "plt.axhline(0, c='r', ls=\"--\")\n",
    "plt.axvline(0, c='r', ls=\"--\")\n",
    "\n",
    "plt.xlabel(\"$x$\")\n",
    "plt.ylabel(\"$\\exp(x)$\")\n",
    "plt.show()"
   ]
  },
  {
   "cell_type": "code",
   "execution_count": 19,
   "metadata": {},
   "outputs": [
    {
     "name": "stderr",
     "output_type": "stream",
     "text": [
      "C:\\Users\\NEW\\AppData\\Local\\Temp\\ipykernel_4612\\948053798.py:10: RuntimeWarning: invalid value encountered in log\n",
      "  yy2 = np.log(xx)\n"
     ]
    },
    {
     "data": {
      "image/png": "[encoded data removed]",
      "text/plain": [
       "<Figure size 720x432 with 1 Axes>"
      ]
     },
     "metadata": {
      "needs_background": "light"
     },
     "output_type": "display_data"
    }
   ],
   "source": [
    "import numpy as np\n",
    "import matplotlib as mpl\n",
    "import matplotlib.pyplot as plt\n",
    "mpl.rc('font', family='Malgun Gothic') #한글 폰트 설정\n",
    "mpl.rcParams['axes.unicode_minus'] = False # 마이너스 단위 처리\n",
    "\n",
    "# 지수함수의 그래프 1\n",
    "xx = np.linspace(-2, 2, 100)\n",
    "yy = np.exp(xx)\n",
    "yy2 = np.log(xx)\n",
    "\n",
    "plt.figure(figsize=(10,6))\n",
    "plt.title(\"지수함수\")\n",
    "plt.plot(xx, yy)\n",
    "plt.plot(xx, yy2, color = 'lightblue')\n",
    "\n",
    "plt.axhline(1, c='r', ls=\"--\")\n",
    "plt.axhline(0, c='r', ls=\"--\")\n",
    "plt.axvline(0, c='r', ls=\"--\")\n",
    "\n",
    "plt.xlabel(\"$x$\")\n",
    "plt.ylabel(\"$\\exp(x)$\")\n",
    "plt.show()"
   ]
  },
  {
   "cell_type": "code",
   "execution_count": null,
   "metadata": {},
   "outputs": [],
   "source": []
  }
 ],
 "metadata": {
  "kernelspec": {
   "display_name": "Python 3 (ipykernel)",
   "language": "python",
   "name": "python3"
  },
  "language_info": {
   "codemirror_mode": {
    "name": "ipython",
    "version": 3
   },
   "file_extension": ".py",
   "mimetype": "text/x-python",
   "name": "python",
   "nbconvert_exporter": "python",
   "pygments_lexer": "ipython3",
   "version": "3.8.13"
  },
  "toc": {
   "base_numbering": 1,
   "nav_menu": {},
   "number_sections": true,
   "sideBar": true,
   "skip_h1_title": false,
   "title_cell": "Table of Contents",
   "title_sidebar": "Contents",
   "toc_cell": false,
   "toc_position": {},
   "toc_section_display": true,
   "toc_window_display": false
  }
 },
 "nbformat": 4,
 "nbformat_minor": 4
}
