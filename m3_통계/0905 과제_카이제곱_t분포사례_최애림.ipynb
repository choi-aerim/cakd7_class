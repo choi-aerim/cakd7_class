{
 "cells": [
  {
   "cell_type": "markdown",
   "id": "51167b96",
   "metadata": {},
   "source": [
    "#### 과제2:\n",
    "<b>카이제곱분포 구간 추정에 활용된 사례를 만들어 설명하기</b>"
   ]
  },
  {
   "cell_type": "markdown",
   "id": "c9ab4140",
   "metadata": {},
   "source": [
    "A 공장에서 철판 표면의 코팅 두께의 변동이 크기 않게 조절하고자 한다. 이를 위해 철판 표면 코팅 분산에 대해 추정하기 위해 8개의 샘플을 뽑아 두께를 측정하였다. 철판두께의 모분산에 대한 95% 신뢰구간은?\n",
    "           thick = [19.3, 19.5, 20.0, 20.3, 20.4, 20.8, 21.2, 21.4]\n"
   ]
  },
  {
   "cell_type": "code",
   "execution_count": 3,
   "id": "6ca76855",
   "metadata": {},
   "outputs": [
    {
     "data": {
      "text/plain": [
       "(0.24847365088012563, 2.3544721955371597)"
      ]
     },
     "execution_count": 3,
     "metadata": {},
     "output_type": "execute_result"
    }
   ],
   "source": [
    "import numpy as np\n",
    "from scipy import stats\n",
    "\n",
    "thick = [19.3, 19.5, 20.0, 20.3, 20.4, 20.8, 21.2, 21.4]\n",
    "\n",
    "# 표본(n = 8) 불편분산\n",
    "u_var = np.var(thick, ddof = 1)\n",
    "\n",
    "# 자유도가 7인 카이제곱분포\n",
    "rv = stats.chi2(df = 7)\n",
    "\n",
    "#신뢰구간\n",
    "lcl = (7) * u_var / rv.isf(0.025)\n",
    "ucl = (7) * u_var / rv.isf(0.975)\n",
    "\n",
    "lcl, ucl "
   ]
  },
  {
   "cell_type": "markdown",
   "id": "dbba35c6",
   "metadata": {},
   "source": [
    "<b> t분포가 구간 추정에 활용된 사례를 만들어 설명하기</b>\n",
    "\n",
    "모분산, 모평균을 모르고, 표본의 크기가 작을 때 t분포를가지고 모평균을 추정함\n",
    "\n",
    "예시)\n",
    "\n",
    "서울시 중학교 3학년 남학생의 체중 평균값을 구하기 위해 학생 10명을 무작위로 추출하여 체중을 측정해서 얻은 수치가 [53.0, 51.5, 47.0, 54.5, 44.0, 53.0, 56.0, 45.5, 49.0, 55.1]일 때, 이 표본에서 해당 남학생의 체중 평균값을 95% 신뢰구간으로 추정해보기"
   ]
  },
  {
   "cell_type": "code",
   "execution_count": 4,
   "id": "2ebfc6d6",
   "metadata": {},
   "outputs": [
    {
     "data": {
      "text/plain": [
       "(47.8309611409082, 53.8890388590918)"
      ]
     },
     "execution_count": 4,
     "metadata": {},
     "output_type": "execute_result"
    }
   ],
   "source": [
    "middle = np.array([53.0, 51.5, 47.0, 54.5, 44.0, 53.0, 56.0, 45.5, 49.0, 55.1])\n",
    "\n",
    "# 표본(n = 10) 평균\n",
    "middle_mean = np.mean(middle)\n",
    "\n",
    "# 분산\n",
    "middle_var = np.var(middle, ddof = 1)\n",
    "\n",
    "# 자유도가 9인 t분포\n",
    "rv = stats.t(9)\n",
    "\n",
    "# 신뢰구간\n",
    "lcl = middle_mean - rv.isf(0.025) * np.sqrt(middle_var/10) \n",
    "ucl = middle_mean - rv.isf(0.975) * np.sqrt(middle_var/10)\n",
    "\n",
    "# 동일한 방법으로 수차례 표본추출해서 구간추정을 하면, 그 중 95%의 구간추정에는 모평균이 포함되어 있음\n",
    "lcl, ucl "
   ]
  },
  {
   "cell_type": "code",
   "execution_count": null,
   "id": "08fbe187",
   "metadata": {},
   "outputs": [],
   "source": []
  }
 ],
 "metadata": {
  "kernelspec": {
   "display_name": "Python 3 (ipykernel)",
   "language": "python",
   "name": "python3"
  },
  "language_info": {
   "codemirror_mode": {
    "name": "ipython",
    "version": 3
   },
   "file_extension": ".py",
   "mimetype": "text/x-python",
   "name": "python",
   "nbconvert_exporter": "python",
   "pygments_lexer": "ipython3",
   "version": "3.8.13"
  },
  "toc": {
   "base_numbering": 1,
   "nav_menu": {},
   "number_sections": true,
   "sideBar": true,
   "skip_h1_title": false,
   "title_cell": "Table of Contents",
   "title_sidebar": "Contents",
   "toc_cell": false,
   "toc_position": {},
   "toc_section_display": true,
   "toc_window_display": false
  }
 },
 "nbformat": 4,
 "nbformat_minor": 5
}
