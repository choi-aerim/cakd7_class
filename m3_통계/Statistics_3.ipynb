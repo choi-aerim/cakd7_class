{
 "cells": [
  {
   "cell_type": "markdown",
   "id": "c6787fff",
   "metadata": {},
   "source": [
    "## 통계적 추정"
   ]
  },
  {
   "cell_type": "code",
   "execution_count": 1,
   "id": "ac82f0c2",
   "metadata": {},
   "outputs": [
    {
     "data": {
      "text/plain": [
       "'%.3f'"
      ]
     },
     "execution_count": 1,
     "metadata": {},
     "output_type": "execute_result"
    }
   ],
   "source": [
    "import numpy as np\n",
    "import pandas as pd\n",
    "import matplotlib.pyplot as plt\n",
    "from scipy import stats\n",
    "\n",
    "%precision 3"
   ]
  },
  {
   "cell_type": "code",
   "execution_count": 5,
   "id": "2512e681",
   "metadata": {},
   "outputs": [
    {
     "data": {
      "text/html": [
       "<div>\n",
       "<style scoped>\n",
       "    .dataframe tbody tr th:only-of-type {\n",
       "        vertical-align: middle;\n",
       "    }\n",
       "\n",
       "    .dataframe tbody tr th {\n",
       "        vertical-align: top;\n",
       "    }\n",
       "\n",
       "    .dataframe thead th {\n",
       "        text-align: right;\n",
       "    }\n",
       "</style>\n",
       "<table border=\"1\" class=\"dataframe\">\n",
       "  <thead>\n",
       "    <tr style=\"text-align: right;\">\n",
       "      <th></th>\n",
       "      <th>score</th>\n",
       "    </tr>\n",
       "  </thead>\n",
       "  <tbody>\n",
       "    <tr>\n",
       "      <th>0</th>\n",
       "      <td>76</td>\n",
       "    </tr>\n",
       "    <tr>\n",
       "      <th>1</th>\n",
       "      <td>55</td>\n",
       "    </tr>\n",
       "    <tr>\n",
       "      <th>2</th>\n",
       "      <td>80</td>\n",
       "    </tr>\n",
       "    <tr>\n",
       "      <th>3</th>\n",
       "      <td>80</td>\n",
       "    </tr>\n",
       "    <tr>\n",
       "      <th>4</th>\n",
       "      <td>74</td>\n",
       "    </tr>\n",
       "  </tbody>\n",
       "</table>\n",
       "</div>"
      ],
      "text/plain": [
       "   score\n",
       "0     76\n",
       "1     55\n",
       "2     80\n",
       "3     80\n",
       "4     74"
      ]
     },
     "execution_count": 5,
     "metadata": {},
     "output_type": "execute_result"
    }
   ],
   "source": [
    "df = pd.read_csv('ch4_scores400.csv')\n",
    "df.head()"
   ]
  },
  {
   "cell_type": "code",
   "execution_count": 8,
   "id": "115b81f5",
   "metadata": {},
   "outputs": [
    {
     "data": {
      "text/plain": [
       "array([76, 55, 80, 80, 74], dtype=int64)"
      ]
     },
     "execution_count": 8,
     "metadata": {},
     "output_type": "execute_result"
    }
   ],
   "source": [
    "scores = np.array(df['score'])\n",
    "scores[:5]"
   ]
  },
  {
   "cell_type": "code",
   "execution_count": 9,
   "id": "e0a66d32",
   "metadata": {},
   "outputs": [
    {
     "data": {
      "text/plain": [
       "(69.530, 206.669)"
      ]
     },
     "execution_count": 9,
     "metadata": {},
     "output_type": "execute_result"
    }
   ],
   "source": [
    "# 모집단의 평균, 분산\n",
    "\n",
    "p_mean = np.mean(scores)\n",
    "p_var = np.var(scores)\n",
    "\n",
    "p_mean, p_var"
   ]
  },
  {
   "cell_type": "code",
   "execution_count": 14,
   "id": "62955e84",
   "metadata": {},
   "outputs": [
    {
     "data": {
      "image/png": "[encoded data removed]",
      "text/plain": [
       "<Figure size 720x432 with 1 Axes>"
      ]
     },
     "metadata": {
      "needs_background": "light"
     },
     "output_type": "display_data"
    }
   ],
   "source": [
    "# 모집단의 분포 살펴보기\n",
    "# 정규분포를 이룬다고 가정하여 추정하기\n",
    "\n",
    "fig = plt.figure(figsize = (10,6))\n",
    "ax = fig.add_subplot(111)\n",
    "\n",
    "xs = np.arange(101)\n",
    "rv = stats.norm(p_mean, np.sqrt(p_var))\n",
    "\n",
    "ax.plot(xs, rv.pdf(xs), color = 'gray')\n",
    "ax.hist(scores, bins = 100, range =(0,100), density = True, color = 'pink')\n",
    "\n",
    "plt.show()"
   ]
  },
  {
   "cell_type": "markdown",
   "id": "40f66ca7",
   "metadata": {},
   "source": [
    "### 점추정\n",
    "- 모평균이나 모분산 등의 모수를 하나의 수치로 추정\n",
    "- 추정량의 기댓값이 추측하려는 모수가 되는 성질을 불편성이라고 하며 불편성을 가진 추정량을 불편추정량이라고 함\n",
    "- 표본평균이 모평균을 잘 추정할 수 있는 근거 중 하나가 바로 불편성임\n",
    "- 표본크기 n을 증가시키면 추측하기 원하는 모수에 수렴해가는 성질을 일치성이라고 하며 일치성을 지닌 추정량을 일치추정량이라고 함\n",
    "- 표본평균은 불편성과 일치성을 모두 가지고 있기 때문에 모평균을 잘 추정한다고 말할 수 있음\n"
   ]
  },
  {
   "cell_type": "code",
   "execution_count": 15,
   "id": "267299e3",
   "metadata": {},
   "outputs": [
    {
     "data": {
      "text/plain": [
       "array([49, 60, 72, 86, 52, 61, 77, 91, 80, 56, 69, 67, 90, 56, 75, 79, 60,\n",
       "       79, 68, 81], dtype=int64)"
      ]
     },
     "execution_count": 15,
     "metadata": {},
     "output_type": "execute_result"
    }
   ],
   "source": [
    "# 무작위추출한 20명의 표본 추출\n",
    "\n",
    "np.random.seed(0)\n",
    "n = 20\n",
    "sample = np.random.choice(scores, n)\n",
    "sample"
   ]
  },
  {
   "cell_type": "code",
   "execution_count": 18,
   "id": "349db1d0",
   "metadata": {},
   "outputs": [],
   "source": [
    "# 무작위추출한 20명의 표본을 1만개 추출\n",
    "\n",
    "np.random.seed(1111)\n",
    "n_sample = 10000\n",
    "samples = np.random.choice(scores, (n_sample, n))"
   ]
  },
  {
   "cell_type": "code",
   "execution_count": 30,
   "id": "f963c97e",
   "metadata": {},
   "outputs": [
    {
     "name": "stdout",
     "output_type": "stream",
     "text": [
      "1번째 표본평균: 67.0\n",
      "2번째 표본평균: 72.85\n",
      "3번째 표본평균: 69.2\n",
      "4번째 표본평균: 64.45\n",
      "5번째 표본평균: 72.65\n"
     ]
    }
   ],
   "source": [
    "# 5개의 표본을 뽑아 평균 확인해보기\n",
    "\n",
    "for i in range(5):\n",
    "    s_mean = np.mean(samples[i])\n",
    "    print(f'{i+1}번째 표본평균: {s_mean}')"
   ]
  },
  {
   "cell_type": "code",
   "execution_count": 31,
   "id": "48c1a971",
   "metadata": {},
   "outputs": [
    {
     "data": {
      "text/plain": [
       "69.538"
      ]
     },
     "execution_count": 31,
     "metadata": {},
     "output_type": "execute_result"
    }
   ],
   "source": [
    "# 표본크기가 20인 1만개 표본의 기댓값 확인해보기\n",
    "\n",
    "sample_means = np.mean(samples, axis = 1)\n",
    "np.mean(sample_means)"
   ]
  },
  {
   "cell_type": "code",
   "execution_count": 32,
   "id": "0ddac050",
   "metadata": {},
   "outputs": [
    {
     "data": {
      "text/plain": [
       "69.547"
      ]
     },
     "execution_count": 32,
     "metadata": {},
     "output_type": "execute_result"
    }
   ],
   "source": [
    "# 표본 크기 n이 100만개일 때 기댓값 확인해보기\n",
    "\n",
    "samples2 = np.random.choice(scores, int(1e6))\n",
    "np.mean(samples2)"
   ]
  },
  {
   "cell_type": "code",
   "execution_count": 34,
   "id": "f68765d6",
   "metadata": {},
   "outputs": [
    {
     "name": "stdout",
     "output_type": "stream",
     "text": [
      "1번째 표본분산: 116.800\n",
      "2번째 표본분산: 162.928\n",
      "3번째 표본분산: 187.060\n",
      "4번째 표본분산: 149.148\n",
      "5번째 표본분산: 111.528\n"
     ]
    }
   ],
   "source": [
    "# 5개의 표본을 뽑아 분산 확인해보기\n",
    "\n",
    "for i in range(5):\n",
    "    s_var = np.var(samples[i])\n",
    "    print(f'{i+1}번째 표본분산: {s_var:.3f}')"
   ]
  },
  {
   "cell_type": "code",
   "execution_count": 38,
   "id": "40b4e687",
   "metadata": {},
   "outputs": [
    {
     "data": {
      "text/plain": [
       "196.344"
      ]
     },
     "execution_count": 38,
     "metadata": {},
     "output_type": "execute_result"
    }
   ],
   "source": [
    "# 표본크기가 20인 1만개 표본의 분산 확인해보기\n",
    "\n",
    "sample_vars = np.var(samples, axis = 1)\n",
    "np.mean(sample_vars)"
   ]
  },
  {
   "cell_type": "code",
   "execution_count": 40,
   "id": "6770f35f",
   "metadata": {},
   "outputs": [
    {
     "data": {
      "text/plain": [
       "206.678"
      ]
     },
     "execution_count": 40,
     "metadata": {},
     "output_type": "execute_result"
    }
   ],
   "source": [
    "# 표본크기가 20인 1만개 표본의 '불편'분산 확인해보기\n",
    "\n",
    "samples_u_vars = np.var(samples, axis = 1, ddof = 1)\n",
    "np.mean(samples_u_vars)"
   ]
  },
  {
   "cell_type": "code",
   "execution_count": 41,
   "id": "586de028",
   "metadata": {},
   "outputs": [
    {
     "data": {
      "text/plain": [
       "206.657"
      ]
     },
     "execution_count": 41,
     "metadata": {},
     "output_type": "execute_result"
    }
   ],
   "source": [
    "# 표본 크기 n이 100만개일 때 '불편'분산 확인해보기\n",
    "\n",
    "np.var(np.random.choice(scores, int(1e6)), ddof = 1)"
   ]
  },
  {
   "cell_type": "code",
   "execution_count": 43,
   "id": "6082c0a5",
   "metadata": {},
   "outputs": [
    {
     "data": {
      "text/plain": [
       "158.253"
      ]
     },
     "execution_count": 43,
     "metadata": {},
     "output_type": "execute_result"
    }
   ],
   "source": [
    "u_var = np.var(sample, ddof = 1)\n",
    "u_var"
   ]
  },
  {
   "cell_type": "markdown",
   "id": "efd62d34",
   "metadata": {},
   "source": [
    "### 구간추정"
   ]
  },
  {
   "cell_type": "markdown",
   "id": "f9cb0640",
   "metadata": {},
   "source": [
    "- 구간추정을 100번 하더라도 모평균은 실제 값이 하나로 정해져있기 때문에 \n",
    "- 신뢰구간 95%의 뜻은 <b>'동일한 방법으로 수차례 표본추출하여 구간추정을 하면 그 중 95%의 구간추정에는 모평균이 포함되어 있다'</b>임"
   ]
  },
  {
   "cell_type": "code",
   "execution_count": 47,
   "id": "a623a975",
   "metadata": {},
   "outputs": [
    {
     "data": {
      "text/plain": [
       "'%.3f'"
      ]
     },
     "execution_count": 47,
     "metadata": {},
     "output_type": "execute_result"
    }
   ],
   "source": [
    "%precision 3"
   ]
  },
  {
   "cell_type": "code",
   "execution_count": 48,
   "id": "df84697e",
   "metadata": {},
   "outputs": [
    {
     "data": {
      "text/plain": [
       "(69.530, 206.669)"
      ]
     },
     "execution_count": 48,
     "metadata": {},
     "output_type": "execute_result"
    }
   ],
   "source": [
    "import pandas as pd\n",
    "import numpy as np\n",
    "\n",
    "df = pd.read_csv('ch4_scores400.csv')\n",
    "scores = np.array(df['score'])\n",
    "\n",
    "# 모집단의 평균, 분산\n",
    "p_mean = np.mean(scores)\n",
    "p_var = np.var(scores)\n",
    "\n",
    "p_mean, p_var"
   ]
  },
  {
   "cell_type": "code",
   "execution_count": 49,
   "id": "67fb6bdc",
   "metadata": {},
   "outputs": [],
   "source": [
    "np.random.seed(0)\n",
    "\n",
    "\n",
    "# 표본 수가 20개\n",
    "n = 20\n",
    "sample = np.random.choice(scores, n)\n",
    "s_mean = np.mean(sample)\n",
    "\n",
    "\n",
    "# 표본 집단 수가 10000개\n",
    "samples = np.random.choice(scores, (10000, n))\n",
    "\n",
    "\n",
    "# 표본 수가 1000000개\n",
    "samples2 = np.random.choice(scores, int(1e6))"
   ]
  },
  {
   "cell_type": "code",
   "execution_count": 50,
   "id": "8069a749",
   "metadata": {},
   "outputs": [
    {
     "data": {
      "text/plain": [
       "(64.100, 76.700)"
      ]
     },
     "execution_count": 50,
     "metadata": {},
     "output_type": "execute_result"
    }
   ],
   "source": [
    "from scipy import stats\n",
    "\n",
    "rv = stats.norm()\n",
    "lcl = s_mean - rv.isf(0.025)*np.sqrt(p_var/n)\n",
    "ucl = s_mean - rv.isf(0.975)*np.sqrt(p_var/n)\n",
    "\n",
    "lcl, ucl"
   ]
  },
  {
   "cell_type": "code",
   "execution_count": 51,
   "id": "2e7657a6",
   "metadata": {},
   "outputs": [
    {
     "data": {
      "image/png": "[encoded data removed]",
      "text/plain": [
       "<Figure size 720x720 with 1 Axes>"
      ]
     },
     "metadata": {
      "needs_background": "light"
     },
     "output_type": "display_data"
    }
   ],
   "source": [
    "import matplotlib.pyplot as plt\n",
    "\n",
    "fig = plt.figure(figsize = (10,10))\n",
    "ax = fig.add_subplot(111)\n",
    "\n",
    "rv = stats.norm()\n",
    "n_samples = 20\n",
    "ax.vlines(p_mean, 0, 21, color = 'black')\n",
    "\n",
    "for i in range(n_samples):\n",
    "    sample_ = samples[i+20]\n",
    "    s_mean_ = np.mean(sample_)\n",
    "    lcl = s_mean_ - rv.isf(0.025)*np.sqrt(p_var/n)\n",
    "    ucl = s_mean_ - rv.isf(0.975)*np.sqrt(p_var/n)\n",
    "    \n",
    "    if lcl <= p_mean <= ucl:\n",
    "        ax.scatter(s_mean_, n_samples-i, color = 'gray')\n",
    "        ax.hlines(n_samples-i, lcl, ucl, color = 'gray')\n",
    "    else:\n",
    "        ax.scatter(s_mean_, n_samples-i, color = 'lightgreen')\n",
    "        ax.hlines(n_samples-i, lcl, ucl, color = 'lightgreen')\n",
    "    \n",
    "    ax.set_xticks([p_mean])\n",
    "    ax.set_xticklabels(['Population Mean'])\n",
    "\n",
    "plt.show()"
   ]
  },
  {
   "cell_type": "markdown",
   "id": "5d651511",
   "metadata": {},
   "source": [
    "- 20번 중 1번 모평균을 포함하지 않는 구간추정이 수행됨 -> 95% 신뢰구간의 이미지임"
   ]
  },
  {
   "cell_type": "code",
   "execution_count": 52,
   "id": "867d4d5f",
   "metadata": {},
   "outputs": [
    {
     "data": {
      "text/plain": [
       "0.949"
      ]
     },
     "execution_count": 52,
     "metadata": {},
     "output_type": "execute_result"
    }
   ],
   "source": [
    "rv = stats.norm()\n",
    "cnt = 0\n",
    "\n",
    "for sample_ in samples:\n",
    "    s_mean_ = np.mean(sample_)\n",
    "    lcl = s_mean_ - rv.isf(0.025) * np.sqrt(p_var/n)\n",
    "    ucl = s_mean_ - rv.isf(0.975) * np.sqrt(p_var/n)\n",
    "    \n",
    "    if lcl <= p_mean <= ucl:\n",
    "        cnt += 1\n",
    "        \n",
    "cnt / len(samples)"
   ]
  },
  {
   "cell_type": "markdown",
   "id": "092a7212",
   "metadata": {},
   "source": [
    "- 신뢰구간의 약 95%가 모평균을 포함하고 있음"
   ]
  },
  {
   "cell_type": "markdown",
   "id": "1b509a76",
   "metadata": {},
   "source": [
    "#### 정규분포의 모분산 구간추정\n",
    "- 모집단으로 정규분포를 가정하고, 모평균은 모르는 상태일 때, \n",
    "Y = (n-1)s^2/σ^2  ~ X^2(n-1)"
   ]
  },
  {
   "cell_type": "code",
   "execution_count": 53,
   "id": "eedf8bdf",
   "metadata": {},
   "outputs": [
    {
     "data": {
      "text/plain": [
       "array([17.501, 22.143, 21.701, ..., 24.744, 14.681, 17.892])"
      ]
     },
     "execution_count": 53,
     "metadata": {},
     "output_type": "execute_result"
    }
   ],
   "source": [
    "# 1만개의 X 표본데이터를 가지고  Y의 표본 데이터 생성\n",
    "\n",
    "samples_u_vars = np.var(samples, axis = 1, ddof = 1)  # 불편분산\n",
    "\n",
    "sample_y = samples_u_vars * (n-1) / p_var\n",
    "sample_y"
   ]
  },
  {
   "cell_type": "code",
   "execution_count": 54,
   "id": "66c81b77",
   "metadata": {},
   "outputs": [
    {
     "data": {
      "image/png": "[encoded data removed]",
      "text/plain": [
       "<Figure size 720x432 with 1 Axes>"
      ]
     },
     "metadata": {
      "needs_background": "light"
     },
     "output_type": "display_data"
    }
   ],
   "source": [
    "# Y의 표본 데이터 히스토그램, X^2(n-1) 밀도함수 그리기\n",
    "\n",
    "fig = plt.figure(figsize = (10,6))\n",
    "ax = fig.add_subplot(111)\n",
    "\n",
    "\n",
    "n = 20\n",
    "xs = np.linspace(0, 40, 100)\n",
    "\n",
    "# X^2(n-1) 밀도함수 그리기\n",
    "rv = stats.chi2(df = n-1)\n",
    "ax.plot(xs, rv.pdf(xs), color = 'gray')\n",
    "\n",
    "# Y의 표본 데이터 히스토그램\n",
    "hist, _, _ = ax.hist(sample_y, bins = 100, range = (0,40), density = True, color = 'violet')"
   ]
  },
  {
   "cell_type": "code",
   "execution_count": 55,
   "id": "62844334",
   "metadata": {},
   "outputs": [
    {
     "data": {
      "text/plain": [
       "(91.525, 337.596)"
      ]
     },
     "execution_count": 55,
     "metadata": {},
     "output_type": "execute_result"
    }
   ],
   "source": [
    "# 모분산의 신뢰구간 구하기\n",
    "\n",
    "u_var = np.var(sample, ddof = 1)\n",
    "rv = stats.chi2(df = n-1)\n",
    "\n",
    "\n",
    "lcl = (n-1) * u_var / rv.isf(0.025)\n",
    "ucl = (n-1) * u_var / rv.isf(0.975)\n",
    "\n",
    "lcl, ucl"
   ]
  },
  {
   "cell_type": "code",
   "execution_count": 56,
   "id": "57dd52ed",
   "metadata": {},
   "outputs": [
    {
     "data": {
      "image/png": "[encoded data removed]",
      "text/plain": [
       "<Figure size 720x720 with 1 Axes>"
      ]
     },
     "metadata": {
      "needs_background": "light"
     },
     "output_type": "display_data"
    }
   ],
   "source": [
    "fig = plt.figure(figsize = (10,10))\n",
    "ax = fig.add_subplot(111)\n",
    "\n",
    "n = 20\n",
    "\n",
    "rv = stats.chi2(df = n-1)\n",
    "\n",
    "ax.vlines(p_var, 0, 21, color = 'black')\n",
    "\n",
    "for i in range(20):\n",
    "    sample_ = samples[20 + i]\n",
    "    u_var_ = np.var(sample_, ddof = 1)\n",
    "    \n",
    "    lcl = (n-1) * u_var_ / rv.isf(0.025)\n",
    "    ucl = (n-1) * u_var_ / rv.isf(0.975)\n",
    "    \n",
    "    if lcl <= p_var <= ucl:\n",
    "        ax.scatter(u_var_, 20-i, color = 'gray')\n",
    "        ax.hlines(20-i, lcl, ucl, color = 'gray')\n",
    "    else:\n",
    "        ax.scatter(u_var_, 20-i, color = 'pink')\n",
    "        ax.hlines(20-i, lcl, ucl, color = 'pink')\n",
    "\n",
    "ax.set_xticks([p_var])\n",
    "ax.set_xticklabels([' Population Varience'])\n",
    "\n",
    "plt.show()"
   ]
  },
  {
   "cell_type": "code",
   "execution_count": 57,
   "id": "44383eda",
   "metadata": {},
   "outputs": [
    {
     "data": {
      "text/plain": [
       "0.962"
      ]
     },
     "execution_count": 57,
     "metadata": {},
     "output_type": "execute_result"
    }
   ],
   "source": [
    "rv = stats.chi2(df = n-1)\n",
    "\n",
    "cnt = 0\n",
    "\n",
    "for sample_ in samples:\n",
    "    u_var_ = np.var(sample_, ddof = 1)\n",
    "    \n",
    "    lcl = (n-1) * u_var_ / rv.isf(0.025)\n",
    "    ucl = (n-1) * u_var_ / rv.isf(0.975)\n",
    "    \n",
    "    if lcl <= p_var <= ucl:\n",
    "        cnt += 1\n",
    "    \n",
    "cnt / len(samples)"
   ]
  },
  {
   "cell_type": "markdown",
   "id": "1d30bfff",
   "metadata": {},
   "source": [
    "- 신뢰구간의 약 96%가 모분산을 포함하고 있음을 확인할 수 있음"
   ]
  },
  {
   "cell_type": "markdown",
   "id": "bc64d99b",
   "metadata": {},
   "source": [
    "#### 정규분포의 모평균 구간추정: 모분산을 모르는 경우\n",
    "- 모분산을 알지 못하는 상황에서는 표준오차를 불편분산을 사용해서 구함"
   ]
  },
  {
   "cell_type": "code",
   "execution_count": 58,
   "id": "3a811dde",
   "metadata": {},
   "outputs": [
    {
     "data": {
      "text/plain": [
       "(64.512, 76.288)"
      ]
     },
     "execution_count": 58,
     "metadata": {},
     "output_type": "execute_result"
    }
   ],
   "source": [
    "rv = stats.t(df = n-1)\n",
    "\n",
    "lcl = s_mean - rv.isf(0.025) * np.sqrt(u_var/n)\n",
    "ucl = s_mean - rv.isf(0.975) * np.sqrt(u_var/n)\n",
    "\n",
    "lcl, ucl"
   ]
  },
  {
   "cell_type": "markdown",
   "id": "e9eb85f5",
   "metadata": {},
   "source": [
    "#### 베르누이분포의 모평균 구간추정"
   ]
  },
  {
   "cell_type": "code",
   "execution_count": 59,
   "id": "13ecbb9e",
   "metadata": {},
   "outputs": [
    {
     "data": {
      "text/html": [
       "<div>\n",
       "<style scoped>\n",
       "    .dataframe tbody tr th:only-of-type {\n",
       "        vertical-align: middle;\n",
       "    }\n",
       "\n",
       "    .dataframe tbody tr th {\n",
       "        vertical-align: top;\n",
       "    }\n",
       "\n",
       "    .dataframe thead th {\n",
       "        text-align: right;\n",
       "    }\n",
       "</style>\n",
       "<table border=\"1\" class=\"dataframe\">\n",
       "  <thead>\n",
       "    <tr style=\"text-align: right;\">\n",
       "      <th></th>\n",
       "      <th>known</th>\n",
       "    </tr>\n",
       "  </thead>\n",
       "  <tbody>\n",
       "    <tr>\n",
       "      <th>0</th>\n",
       "      <td>1</td>\n",
       "    </tr>\n",
       "    <tr>\n",
       "      <th>1</th>\n",
       "      <td>0</td>\n",
       "    </tr>\n",
       "    <tr>\n",
       "      <th>2</th>\n",
       "      <td>1</td>\n",
       "    </tr>\n",
       "    <tr>\n",
       "      <th>3</th>\n",
       "      <td>1</td>\n",
       "    </tr>\n",
       "    <tr>\n",
       "      <th>4</th>\n",
       "      <td>1</td>\n",
       "    </tr>\n",
       "  </tbody>\n",
       "</table>\n",
       "</div>"
      ],
      "text/plain": [
       "   known\n",
       "0      1\n",
       "1      0\n",
       "2      1\n",
       "3      1\n",
       "4      1"
      ]
     },
     "metadata": {},
     "output_type": "display_data"
    },
    {
     "data": {
      "text/plain": [
       "array([1, 0, 1, 1, 1, 1, 1, 0, 0, 1], dtype=int64)"
      ]
     },
     "execution_count": 59,
     "metadata": {},
     "output_type": "execute_result"
    }
   ],
   "source": [
    "# 자료 불러오기\n",
    "## 1. 상품 A를 알고 있음, 0. 상품 A를 알지 못함 \n",
    "\n",
    "enquete_df = pd.read_csv('ch10_enquete.csv')\n",
    "display(enquete_df.head())\n",
    "\n",
    "\n",
    "# 데이터프레임 -> 배열화\n",
    "\n",
    "enquete = np.array(enquete_df['known'])\n",
    "n = len(enquete)\n",
    "enquete[:10]"
   ]
  },
  {
   "cell_type": "code",
   "execution_count": 62,
   "id": "0d64cd19",
   "metadata": {},
   "outputs": [
    {
     "name": "stdout",
     "output_type": "stream",
     "text": [
      "평균(p): 0.709\n"
     ]
    },
    {
     "data": {
      "text/plain": [
       "(0.681, 0.737)"
      ]
     },
     "execution_count": 62,
     "metadata": {},
     "output_type": "execute_result"
    }
   ],
   "source": [
    "## X ~ Bern(p)\n",
    "\n",
    "## 평균(p) 구하기 \n",
    "s_mean = enquete.mean()\n",
    "print(f'평균(p): {s_mean}')\n",
    "\n",
    "\n",
    "## 신뢰구간 구하기\n",
    "rv = stats.norm()\n",
    "\n",
    "lcl = s_mean - rv.isf(0.025) * np.sqrt(s_mean * (1 - s_mean)/len(enquete))\n",
    "ucl = s_mean - rv.isf(0.975) * np.sqrt(s_mean * (1 - s_mean)/len(enquete))\n",
    "\n",
    "lcl, ucl"
   ]
  },
  {
   "cell_type": "markdown",
   "id": "b0d550d0",
   "metadata": {},
   "source": [
    "#### 포아송분포의 모평균 구간추정"
   ]
  },
  {
   "cell_type": "code",
   "execution_count": 65,
   "id": "36cf9d9e",
   "metadata": {},
   "outputs": [
    {
     "data": {
      "text/html": [
       "<div>\n",
       "<style scoped>\n",
       "    .dataframe tbody tr th:only-of-type {\n",
       "        vertical-align: middle;\n",
       "    }\n",
       "\n",
       "    .dataframe tbody tr th {\n",
       "        vertical-align: top;\n",
       "    }\n",
       "\n",
       "    .dataframe thead th {\n",
       "        text-align: right;\n",
       "    }\n",
       "</style>\n",
       "<table border=\"1\" class=\"dataframe\">\n",
       "  <thead>\n",
       "    <tr style=\"text-align: right;\">\n",
       "      <th></th>\n",
       "      <th>access number</th>\n",
       "    </tr>\n",
       "  </thead>\n",
       "  <tbody>\n",
       "    <tr>\n",
       "      <th>0</th>\n",
       "      <td>10</td>\n",
       "    </tr>\n",
       "    <tr>\n",
       "      <th>1</th>\n",
       "      <td>11</td>\n",
       "    </tr>\n",
       "    <tr>\n",
       "      <th>2</th>\n",
       "      <td>9</td>\n",
       "    </tr>\n",
       "    <tr>\n",
       "      <th>3</th>\n",
       "      <td>9</td>\n",
       "    </tr>\n",
       "    <tr>\n",
       "      <th>4</th>\n",
       "      <td>18</td>\n",
       "    </tr>\n",
       "  </tbody>\n",
       "</table>\n",
       "</div>"
      ],
      "text/plain": [
       "   access number\n",
       "0             10\n",
       "1             11\n",
       "2              9\n",
       "3              9\n",
       "4             18"
      ]
     },
     "metadata": {},
     "output_type": "display_data"
    },
    {
     "data": {
      "text/plain": [
       "array([10, 11,  9,  9, 18, 13,  4, 10, 10,  8], dtype=int64)"
      ]
     },
     "execution_count": 65,
     "metadata": {},
     "output_type": "execute_result"
    }
   ],
   "source": [
    "# 자료 불러오기\n",
    "## 사이트에 대한 1시간당 액세스 수가 72시간 분량이 들어있음\n",
    "\n",
    "n_access_df= pd.read_csv('ch10_access.csv')\n",
    "display(n_access_df.head())\n",
    "\n",
    "\n",
    "# 데이터프레임 -> 배열화\n",
    "\n",
    "n_access = np.array(n_access_df['access number'])\n",
    "n = len(n_access)\n",
    "n_access[:10]"
   ]
  },
  {
   "cell_type": "code",
   "execution_count": 69,
   "id": "4d89bc31",
   "metadata": {},
   "outputs": [
    {
     "name": "stdout",
     "output_type": "stream",
     "text": [
      "평균:  10.444\n"
     ]
    },
    {
     "data": {
      "text/plain": [
       "(9.698, 11.191)"
      ]
     },
     "execution_count": 69,
     "metadata": {},
     "output_type": "execute_result"
    }
   ],
   "source": [
    "# λ(1시간당 평균 액세스 수) 구하기\n",
    "\n",
    "s_mean = n_access.mean()\n",
    "print(f'평균: {s_mean: .3f}')\n",
    "\n",
    "\n",
    "# 신뢰구간 구하기\n",
    "rv = stats.norm()\n",
    "\n",
    "lcl = s_mean - rv.isf(0.025) * np.sqrt(s_mean/n)\n",
    "ucl = s_mean - rv.isf(0.975) * np.sqrt(s_mean/n)\n",
    "\n",
    "lcl, ucl"
   ]
  },
  {
   "cell_type": "markdown",
   "id": "8f93bbe3",
   "metadata": {},
   "source": [
    "#### 과제1: 다음 용어를 예를 들어 설명하기"
   ]
  },
  {
   "cell_type": "code",
   "execution_count": 86,
   "id": "5d3ba792",
   "metadata": {},
   "outputs": [
    {
     "name": "stdout",
     "output_type": "stream",
     "text": [
      "모집단 평균: 149.00\n",
      "모집단 분산: 825.68\n"
     ]
    }
   ],
   "source": [
    "# 모집단 생성\n",
    "\n",
    "population = np.array(np.random.choice(np.arange(100, 200),2000))\n",
    "population_mean = np.mean(population)\n",
    "population_var = np.var(population)\n",
    "print(f'모집단 평균: {population_mean:.2f}')\n",
    "print(f'모집단 분산: {population_var:.2f}')"
   ]
  },
  {
   "cell_type": "markdown",
   "id": "7afd07a9",
   "metadata": {},
   "source": [
    "##### 1. 불편성\n",
    "- 표본으로부터 구한 통계량의 기대치가 추정하려 하는 모수의 실제 값에 같거나 가까워지는 성질"
   ]
  },
  {
   "cell_type": "code",
   "execution_count": 106,
   "id": "be8e8c1a",
   "metadata": {},
   "outputs": [
    {
     "name": "stdout",
     "output_type": "stream",
     "text": [
      "표본의 평균:147.44\n",
      "표본의 평균:149.28\n"
     ]
    }
   ],
   "source": [
    "# 표본 생성\n",
    "sample = np.random.choice(population, (20,20))\n",
    "sample_mean = np.mean(np.mean(sample, axis = 1))\n",
    "print(f'표본의 평균:{sample_mean:.2f}')\n",
    "\n",
    "sample = np.random.choice(population, (200,20))\n",
    "sample_mean = np.mean(np.mean(sample, axis = 1))\n",
    "print(f'표본의 평균:{sample_mean:.2f}')"
   ]
  },
  {
   "cell_type": "markdown",
   "id": "f5dffa31",
   "metadata": {},
   "source": [
    "##### 2. 일치성\n",
    "- 표본의 수가 늘어날 수록 추정치가 모수에 가까워지려하는 특성"
   ]
  },
  {
   "cell_type": "code",
   "execution_count": 114,
   "id": "0f7c7b71",
   "metadata": {},
   "outputs": [
    {
     "name": "stdout",
     "output_type": "stream",
     "text": [
      "표본의 평균: 147.85\n",
      "표본의 평균: 149.01\n"
     ]
    }
   ],
   "source": [
    "# 표본 생성\n",
    "sample2 = np.random.choice(population, 500)\n",
    "sample2_mean = np.mean(sample2)\n",
    "print(f'표본의 평균: {sample2_mean:.2f}')\n",
    "\n",
    "sample2 = np.random.choice(population, 5000000)\n",
    "sample2_mean = np.mean(sample2)\n",
    "print(f'표본의 평균: {sample2_mean:.2f}')"
   ]
  },
  {
   "cell_type": "markdown",
   "id": "9389dc2b",
   "metadata": {},
   "source": [
    "##### 3. 불편분산:"
   ]
  },
  {
   "cell_type": "markdown",
   "id": "dddb198f",
   "metadata": {},
   "source": [
    "<img src = '불편분산설명.png' width = 800px>"
   ]
  },
  {
   "cell_type": "code",
   "execution_count": 123,
   "id": "8757918b",
   "metadata": {},
   "outputs": [
    {
     "name": "stdout",
     "output_type": "stream",
     "text": [
      "모집단 분산: 825.68\n",
      "표본평균의 분산: 780.51\n",
      "표본평균의 불편분산: 821.59\n",
      "표본 2의 분산: 825.89\n",
      "표본 2의 분산: 825.89\n"
     ]
    }
   ],
   "source": [
    "# 모집단 분산\n",
    "print(f'모집단 분산: {population_var:.2f}')\n",
    "\n",
    "\n",
    "# 표본평균들(n = 20)\n",
    "## 분산 \n",
    "sample_var1_1 = np.var(sample, axis = 1)\n",
    "print(f'표본평균의 분산:{np.mean(sample_var1_1): .2f}')\n",
    "\n",
    "## 불편분산\n",
    "sample_var1_2 = np.var(sample, axis = 1, ddof = 1) \n",
    "print(f'표본평균의 불편분산:{np.mean(sample_var1_2): .2f}')\n",
    "\n",
    "\n",
    "\n",
    "# 표본(n = 5000000)\n",
    "## 분산 \n",
    "sample_var2_1 = np.var(sample2)\n",
    "print(f'표본 2의 분산:{sample_var2_1: .2f}')\n",
    "\n",
    "## 불편분산\n",
    "sample_var2_2 = np.var(sample2, ddof = 1)\n",
    "print(f'표본 2의 분산:{sample_var2_2: .2f}')\n"
   ]
  },
  {
   "cell_type": "markdown",
   "id": "5467a5da",
   "metadata": {},
   "source": [
    "구간추정을 100번 하더라도 모평균은 실제 값이 하나로 정해져있기 때문에\n",
    "신뢰구간 95%의 뜻은 '동일한 방법으로 수차례 표본추출하여 구간추정을 하면 그 중 95%의 구간추정에는 모평균이 포함되어 있다'임"
   ]
  },
  {
   "cell_type": "markdown",
   "id": "51167b96",
   "metadata": {},
   "source": [
    "#### 과제2:\n",
    "<b>카이제곱분포 구간 추정에 활용된 사례를 만들어 설명하기</b>"
   ]
  },
  {
   "cell_type": "markdown",
   "id": "c9ab4140",
   "metadata": {},
   "source": [
    "A 공장에서 철판 표면의 코팅 두께의 변동이 크기 않게 조절하고자 한다. 이를 위해 철판 표면 코팅 분산에 대해 추정하기 위해 8개의 샘플을 뽑아 두께를 측정하였다. 철판두께의 모분산에 대한 95% 신뢰구간은?\n",
    "           thick = [19.3, 19.5, 20.0, 20.3, 20.4, 20.8, 21.2, 21.4]\n"
   ]
  },
  {
   "cell_type": "code",
   "execution_count": 3,
   "id": "6ca76855",
   "metadata": {},
   "outputs": [
    {
     "data": {
      "text/plain": [
       "(0.24847365088012563, 2.3544721955371597)"
      ]
     },
     "execution_count": 3,
     "metadata": {},
     "output_type": "execute_result"
    }
   ],
   "source": [
    "import numpy as np\n",
    "from scipy import stats\n",
    "\n",
    "thick = [19.3, 19.5, 20.0, 20.3, 20.4, 20.8, 21.2, 21.4]\n",
    "\n",
    "# 표본(n = 8) 불편분산\n",
    "u_var = np.var(thick, ddof = 1)\n",
    "\n",
    "# 자유도가 7인 카이제곱분포\n",
    "rv = stats.chi2(df = 7)\n",
    "\n",
    "#신뢰구간\n",
    "lcl = (7) * u_var / rv.isf(0.025)\n",
    "ucl = (7) * u_var / rv.isf(0.975)\n",
    "\n",
    "lcl, ucl "
   ]
  },
  {
   "cell_type": "markdown",
   "id": "dbba35c6",
   "metadata": {},
   "source": [
    "<b> t분포가 구간 추정에 활용된 사례를 만들어 설명하기</b>\n",
    "\n",
    "모분산, 모평균을 모르고, 표본의 크기가 작을 때 t분포를가지고 모평균을 추정함\n",
    "\n",
    "예시)\n",
    "\n",
    "서울시 중학교 3학년 남학생의 체중 평균값을 구하기 위해 학생 10명을 무작위로 추출하여 체중을 측정해서 얻은 수치가 [53.0, 51.5, 47.0, 54.5, 44.0, 53.0, 56.0, 45.5, 49.0, 55.1]일 때, 이 표본에서 해당 남학생의 체중 평균값을 95% 신뢰구간으로 추정해보기"
   ]
  },
  {
   "cell_type": "code",
   "execution_count": 4,
   "id": "2ebfc6d6",
   "metadata": {},
   "outputs": [
    {
     "data": {
      "text/plain": [
       "(47.8309611409082, 53.8890388590918)"
      ]
     },
     "execution_count": 4,
     "metadata": {},
     "output_type": "execute_result"
    }
   ],
   "source": [
    "middle = np.array([53.0, 51.5, 47.0, 54.5, 44.0, 53.0, 56.0, 45.5, 49.0, 55.1])\n",
    "\n",
    "# 표본(n = 10) 평균\n",
    "middle_mean = np.mean(middle)\n",
    "\n",
    "# 분산\n",
    "middle_var = np.var(middle, ddof = 1)\n",
    "\n",
    "# 자유도가 9인 t분포\n",
    "rv = stats.t(9)\n",
    "\n",
    "# 신뢰구간\n",
    "lcl = middle_mean - rv.isf(0.025) * np.sqrt(middle_var/10) \n",
    "ucl = middle_mean - rv.isf(0.975) * np.sqrt(middle_var/10)\n",
    "\n",
    "# 동일한 방법으로 수차례 표본추출해서 구간추정을 하면, 그 중 95%의 구간추정에는 모평균이 포함되어 있음\n",
    "lcl, ucl "
   ]
  },
  {
   "cell_type": "markdown",
   "id": "0f6a69bb",
   "metadata": {},
   "source": [
    "## 통계적 가설검정\n",
    "\n",
    "- 모집단의 모수에 관해 두가지 가설을 세우고 표본으로부터 계산되는 통계량을 이용하여 어느 가설이 옳은지 판단하는 통계적인 방법\n",
    "\n",
    "- 표본을 가지고 모수를 판단하기 때문에 확률이 기반이 됨, 따라서 100% 옳고 그름을 확인할 수 없음\n",
    "- 이런 상황에서 우연인지 여부를 판단하는 도구가 통계적 가설검정임\n",
    "\n",
    "\n",
    "- 검정통계량 vs 임곗값\n",
    "- p값 vs 임의수준"
   ]
  },
  {
   "cell_type": "code",
   "execution_count": 5,
   "id": "e58c017f",
   "metadata": {},
   "outputs": [
    {
     "data": {
      "text/plain": [
       "'%.3f'"
      ]
     },
     "execution_count": 5,
     "metadata": {},
     "output_type": "execute_result"
    }
   ],
   "source": [
    "import numpy as np\n",
    "import pandas as pd\n",
    "from scipy import stats\n",
    "\n",
    "%precision 3"
   ]
  },
  {
   "cell_type": "code",
   "execution_count": 14,
   "id": "d601e4b8",
   "metadata": {},
   "outputs": [
    {
     "data": {
      "text/html": [
       "<div>\n",
       "<style scoped>\n",
       "    .dataframe tbody tr th:only-of-type {\n",
       "        vertical-align: middle;\n",
       "    }\n",
       "\n",
       "    .dataframe tbody tr th {\n",
       "        vertical-align: top;\n",
       "    }\n",
       "\n",
       "    .dataframe thead th {\n",
       "        text-align: right;\n",
       "    }\n",
       "</style>\n",
       "<table border=\"1\" class=\"dataframe\">\n",
       "  <thead>\n",
       "    <tr style=\"text-align: right;\">\n",
       "      <th></th>\n",
       "      <th>무게</th>\n",
       "    </tr>\n",
       "  </thead>\n",
       "  <tbody>\n",
       "    <tr>\n",
       "      <th>0</th>\n",
       "      <td>122.02</td>\n",
       "    </tr>\n",
       "    <tr>\n",
       "      <th>1</th>\n",
       "      <td>131.73</td>\n",
       "    </tr>\n",
       "    <tr>\n",
       "      <th>2</th>\n",
       "      <td>130.60</td>\n",
       "    </tr>\n",
       "    <tr>\n",
       "      <th>3</th>\n",
       "      <td>131.82</td>\n",
       "    </tr>\n",
       "    <tr>\n",
       "      <th>4</th>\n",
       "      <td>132.05</td>\n",
       "    </tr>\n",
       "    <tr>\n",
       "      <th>5</th>\n",
       "      <td>126.12</td>\n",
       "    </tr>\n",
       "    <tr>\n",
       "      <th>6</th>\n",
       "      <td>124.43</td>\n",
       "    </tr>\n",
       "    <tr>\n",
       "      <th>7</th>\n",
       "      <td>132.89</td>\n",
       "    </tr>\n",
       "    <tr>\n",
       "      <th>8</th>\n",
       "      <td>122.79</td>\n",
       "    </tr>\n",
       "    <tr>\n",
       "      <th>9</th>\n",
       "      <td>129.95</td>\n",
       "    </tr>\n",
       "    <tr>\n",
       "      <th>10</th>\n",
       "      <td>126.14</td>\n",
       "    </tr>\n",
       "    <tr>\n",
       "      <th>11</th>\n",
       "      <td>134.45</td>\n",
       "    </tr>\n",
       "    <tr>\n",
       "      <th>12</th>\n",
       "      <td>127.64</td>\n",
       "    </tr>\n",
       "    <tr>\n",
       "      <th>13</th>\n",
       "      <td>125.68</td>\n",
       "    </tr>\n",
       "  </tbody>\n",
       "</table>\n",
       "</div>"
      ],
      "text/plain": [
       "        무게\n",
       "0   122.02\n",
       "1   131.73\n",
       "2   130.60\n",
       "3   131.82\n",
       "4   132.05\n",
       "5   126.12\n",
       "6   124.43\n",
       "7   132.89\n",
       "8   122.79\n",
       "9   129.95\n",
       "10  126.14\n",
       "11  134.45\n",
       "12  127.64\n",
       "13  125.68"
      ]
     },
     "metadata": {},
     "output_type": "display_data"
    },
    {
     "data": {
      "text/plain": [
       "(None, 14)"
      ]
     },
     "execution_count": 14,
     "metadata": {},
     "output_type": "execute_result"
    }
   ],
   "source": [
    "df = pd.read_csv('ch11_potato.csv')\n",
    "display(df), len(df)"
   ]
  },
  {
   "cell_type": "code",
   "execution_count": 12,
   "id": "17012ab7",
   "metadata": {},
   "outputs": [
    {
     "data": {
      "text/plain": [
       "128.451"
      ]
     },
     "execution_count": 12,
     "metadata": {},
     "output_type": "execute_result"
    }
   ],
   "source": [
    "# 배열화\n",
    "sample = np.array(df['무게'])\n",
    "\n",
    "\n",
    "# 표본평균 구하기\n",
    "s_mean = np.mean(sample)\n",
    "s_mean"
   ]
  },
  {
   "cell_type": "code",
   "execution_count": 17,
   "id": "0fcb0a90",
   "metadata": {},
   "outputs": [
    {
     "name": "stdout",
     "output_type": "stream",
     "text": [
      "130.0 0.8017837257372732\n",
      "[130.631 130.174 130.331 129.439 130.664 130.562 130.208 129.816 129.807\n",
      " 130.32 ]\n"
     ]
    },
    {
     "data": {
      "text/plain": [
       "128.681"
      ]
     },
     "execution_count": 17,
     "metadata": {},
     "output_type": "execute_result"
    }
   ],
   "source": [
    "# 모평균이 알려진 감자튀김의 무게 평균 130g 보다 적은지 여부\n",
    "## 모집단은 모분산은 9인 정규분포를 따름\n",
    "\n",
    "rv = stats.norm(130, np.sqrt(9/14))\n",
    "\n",
    "print(rv.mean(), rv.std())\n",
    "print(rv.rvs(10))\n",
    "\n",
    "rv.isf(0.95)"
   ]
  },
  {
   "cell_type": "code",
   "execution_count": 20,
   "id": "c17cb691",
   "metadata": {},
   "outputs": [
    {
     "data": {
      "image/png": "[encoded data removed]",
      "text/plain": [
       "<Figure size 720x432 with 2 Axes>"
      ]
     },
     "metadata": {
      "needs_background": "light"
     },
     "output_type": "display_data"
    }
   ],
   "source": [
    "import matplotlib.pyplot as plt\n",
    "\n",
    "fig = plt.figure(figsize=(10,6))\n",
    "ax1 = fig.add_subplot(111)\n",
    "ax2 = ax1.twinx()\n",
    "\n",
    "# x축: 양옆에 표준편차를 빼고 더해준 값으로 구간 설정\n",
    "xs = np.linspace(127,133,60)\n",
    "\n",
    "ax1.plot(xs,rv.pdf(xs), color = 'purple')  # 확률밀도함수\n",
    "ax2.plot(xs,rv.cdf(xs), color = 'black')   # 누적분포함수\n",
    "\n",
    "ax1.vlines(rv.ppf(0.05), 0, 0.5, color='gray',ls = '--')  # rv.ppf(0.05): 누적분포가 0.05인 확률변수값 = 임곗값\n",
    "\n",
    "ax1.set_xlabel(\"x\", fontsize = 20)\n",
    "ax1.set_ylabel('pdf', rotation = 0, fontsize = 20)\n",
    "ax2.set_ylabel('cdf', rotation = 0, fontsize = 20) \n",
    "ax1.set_ylim\n",
    "\n",
    "plt.show()"
   ]
  },
  {
   "cell_type": "code",
   "execution_count": 34,
   "id": "1da284cf",
   "metadata": {},
   "outputs": [
    {
     "name": "stdout",
     "output_type": "stream",
     "text": [
      "검정통계량: -1.932\n",
      "임곗값: -1.645, -1.645\n",
      "임계값 > z값이므로 귀무가설은 기각한다.\n"
     ]
    }
   ],
   "source": [
    "# 검정통계량 z: 표본평균을 표준화한 값\n",
    "z = (s_mean - 130) / np.sqrt(9/14)\n",
    "print(f'검정통계량: {z:.3f}')\n",
    "\n",
    "# 임곗값\n",
    "rv = stats.norm()\n",
    "print(f'임곗값: {rv.isf(0.95):.3f}, {rv.ppf(0.05):.3f}')\n",
    "\n",
    "# 검정\n",
    "print(f'임계값 > z값이므로 귀무가설은 기각한다.')"
   ]
  },
  {
   "cell_type": "code",
   "execution_count": 46,
   "id": "d362cf15",
   "metadata": {},
   "outputs": [
    {
     "name": "stdout",
     "output_type": "stream",
     "text": [
      "p값: 0.026661319523126635\n",
      "유의수준 > p값이므로 귀무가설은 기각한다.\n"
     ]
    }
   ],
   "source": [
    "# p값 산출\n",
    "p = rv.cdf(z)\n",
    "print(f'p값: {p}')\n",
    "\n",
    "# 검정\n",
    "print(f'유의수준 > p값이므로 귀무가설은 기각한다.')"
   ]
  },
  {
   "cell_type": "markdown",
   "id": "9bbb44ab",
   "metadata": {},
   "source": [
    "### 단측검정과 양측검정\n",
    "귀무가설 : 감자튀김의 무게는 130g이다.\n",
    "- 단측검정 : 감자튀김의 무게가 130g보다 <b>작다/크다</b>를 대립가설로 수행\n",
    "- 양측검정 : 감자튀김의 무게는 130g이 <b>아니다</b>를 대립가설로 수행\n"
   ]
  },
  {
   "cell_type": "code",
   "execution_count": 47,
   "id": "443ea1fd",
   "metadata": {},
   "outputs": [
    {
     "name": "stdout",
     "output_type": "stream",
     "text": [
      "검정통계량: -1.932\n",
      "양측검정 임곗값: (-1.959963984540054, 1.959963984540054)\n",
      "임계값 < z값이므로 귀무가설은 채택한다.\n"
     ]
    }
   ],
   "source": [
    "# 검정통계량\n",
    "z = (s_mean - 130) / np.sqrt(9/14)\n",
    "print(f'검정통계량: {z:.3f}')\n",
    "\n",
    "# 임곗값\n",
    "rv = stats.norm()\n",
    "print(f'양측검정 임곗값: {rv.interval(0.95)}')\n",
    "\n",
    "# 검정\n",
    "print(f'임계값 < z값이므로 귀무가설은 채택한다.')"
   ]
  },
  {
   "cell_type": "code",
   "execution_count": 48,
   "id": "a65cce28",
   "metadata": {},
   "outputs": [
    {
     "name": "stdout",
     "output_type": "stream",
     "text": [
      "양측검정 p값: 0.053\n",
      "유의수준 < p값이므로 귀무가설은 채택한다.\n"
     ]
    }
   ],
   "source": [
    "# 양측검정의 p값 \n",
    "## 상단과 하단의 양쪽 면적을 고려해야 하므로, 누적밀도함수의 2배로 함\n",
    "p = rv.cdf(z) *2\n",
    "print(f'양측검정 p값: {p:.3f}')\n",
    "\n",
    "# 검정\n",
    "print(f'유의수준 < p값이므로 귀무가설은 채택한다.')"
   ]
  },
  {
   "cell_type": "markdown",
   "id": "a62b47e2",
   "metadata": {},
   "source": [
    "#### 가설검정에서의 두 가지 오류\n",
    "- 제1종 오류 : 귀무가설이 옳을 때 귀무가설을 기각하는 오류\n",
    "  - 유의수준은 연구자가 지정하는 부분이기 때문에 제어가 가능한 부분임\n",
    "  - '실제로 평균이 130g'인데도 평균은 130g 보다 작다라는 결론을 내리는 상황 \n",
    "  \n",
    "- 제2종 오류 : 대립가설이 옳을 때 귀무가설을 채택하는 오류\n",
    "  - '모평균은 130g 보다 작다'인데도 모평균은 130g 보다 작다라는 결론을 얻을 수 없는 비율\n",
    "- 통계적 가설검정에서는 제1종 오류는 제어할 수 있지만 제2종 오류는 제어할 수 없는 비대칭성이 있다.\n"
   ]
  },
  {
   "cell_type": "code",
   "execution_count": 49,
   "id": "3179cb60",
   "metadata": {},
   "outputs": [],
   "source": [
    "# 실제 평균 130g인 상황 고려 N(130,9)\n",
    "\n",
    "rv = stats.norm(130,3)"
   ]
  },
  {
   "cell_type": "code",
   "execution_count": 55,
   "id": "22e8f181",
   "metadata": {},
   "outputs": [
    {
     "name": "stdout",
     "output_type": "stream",
     "text": [
      "임곗값: -1.645\n"
     ]
    },
    {
     "data": {
      "text/plain": [
       "0.047"
      ]
     },
     "execution_count": 55,
     "metadata": {},
     "output_type": "execute_result"
    }
   ],
   "source": [
    "# 제 1종 오류를 범할 비율\n",
    "## '평균이 130g'인데도 '평균이 130g보다 작다'라는 결론을 내려버리는 비율\n",
    "\n",
    "# 임곗값 구하기\n",
    "c = stats.norm().isf(0.95)\n",
    "print(f'임곗값: {c:.3f}')\n",
    "\n",
    "\n",
    "# 14개의 표본을 추출하여 가설검정 수행작업 10000번 시행\n",
    "cnt = 0\n",
    "for _ in range(10000):\n",
    "    sample_ = np.round(rv.rvs(14),2)\n",
    "    s_mean_ = np.mean(sample_)\n",
    "    z = (s_mean_ - 130) / np.sqrt(9/14)\n",
    "    \n",
    "    if z < c :\n",
    "        cnt += 1\n",
    "\n",
    "cnt / 10000"
   ]
  },
  {
   "cell_type": "markdown",
   "id": "376eefc6",
   "metadata": {},
   "source": [
    "제 1종 오류를 범한 비율이 0.047이 나옴. 대략 5%비율로 '130g보다 작다.'라고 잘못 탐지함"
   ]
  },
  {
   "cell_type": "code",
   "execution_count": 56,
   "id": "c535d5b1",
   "metadata": {},
   "outputs": [],
   "source": [
    "# 실제 평균 128g인 상황 고려 N(128,9)\n",
    "\n",
    "rv = stats.norm(128,3)"
   ]
  },
  {
   "cell_type": "code",
   "execution_count": 57,
   "id": "96d782a7",
   "metadata": {},
   "outputs": [
    {
     "name": "stdout",
     "output_type": "stream",
     "text": [
      "임곗값: -1.645\n"
     ]
    },
    {
     "data": {
      "text/plain": [
       "0.195"
      ]
     },
     "execution_count": 57,
     "metadata": {},
     "output_type": "execute_result"
    }
   ],
   "source": [
    "# 제 2종 오류를 범할 비율\n",
    "## '모평균은 130g보다 작다'인데도 '모펴균은 130g'보다 작다 라는 결론을 얻을 수 없는 상황\n",
    "\n",
    "# 임곗값 구하기\n",
    "c = stats.norm().isf(0.95)\n",
    "print(f'임곗값: {c:.3f}')\n",
    "\n",
    "# 14개의 표본을 추출하여 가설검정 수행작업 10000번 시행\n",
    "cnt = 0\n",
    "for _ in range(10000):\n",
    "    sample_ = np.round(rv.rvs(14),2)\n",
    "    s_mean_ = np.mean(sample_)\n",
    "    z = (s_mean_ - 130) / np.sqrt(9/14)\n",
    "    if z >= c :\n",
    "        cnt += 1\n",
    "\n",
    "cnt / 10000"
   ]
  },
  {
   "cell_type": "markdown",
   "id": "64db8994",
   "metadata": {},
   "source": [
    "### 기본적인 가설검정"
   ]
  },
  {
   "cell_type": "markdown",
   "id": "1063ec4a",
   "metadata": {},
   "source": [
    "#### 정규분포의 모평균에 대한 검정: 모분산을 알고 있는 경우\n",
    "\n",
    "H0: μ = μ0\n",
    "\n",
    "H1: μ != μ0"
   ]
  },
  {
   "cell_type": "code",
   "execution_count": 109,
   "id": "7aec26f9",
   "metadata": {},
   "outputs": [],
   "source": [
    "def pmean_test(sample, mean0, p_var, alpha = 0.05):\n",
    "    s_mean = np.mean(sample)\n",
    "    n = len(sample)\n",
    "    rv = stats.norm()\n",
    "    interval = rv.interval(1 - alpha)\n",
    "    \n",
    "    z = (s_mean - mean0) / np.sqrt(p_var/n)\n",
    "    \n",
    "    if interval[0] <= z <= interval[1]:\n",
    "        print('귀무가설 채택')\n",
    "    else:\n",
    "        print('귀무가설 기각')\n",
    "        \n",
    "    if z < 0:\n",
    "        p = rv.cdf(z) * 2\n",
    "    else:\n",
    "        p = (1 - rv.cdf(z) * 2)\n",
    "    print(f'p값은 {p:.3f}')      "
   ]
  },
  {
   "cell_type": "code",
   "execution_count": 111,
   "id": "ec092426",
   "metadata": {},
   "outputs": [
    {
     "name": "stdout",
     "output_type": "stream",
     "text": [
      "귀무가설 채택\n",
      "p값은  0.053\n"
     ]
    }
   ],
   "source": [
    "# H0: μ = 130 , H1: μ != 130\n",
    "# 감자 무게의 평균은 130이다, 아니다\n",
    "\n",
    "df = pd.read_csv('ch11_potato.csv')\n",
    "sample = np.array(df['무게'])\n",
    "\n",
    "pmean_test(sample, 130, 9)"
   ]
  },
  {
   "cell_type": "markdown",
   "id": "fc24969e",
   "metadata": {},
   "source": [
    "#### 정규분포의 모분산에 대한 검정\n",
    "\n",
    "H0: σ2 = σ20\n",
    "\n",
    "H1: σ2 != σ20"
   ]
  },
  {
   "cell_type": "code",
   "execution_count": 123,
   "id": "00d4fffa",
   "metadata": {},
   "outputs": [],
   "source": [
    "def pvar_test(sample, var0, alpha = 0.05):\n",
    "    u_var = np.var(sample, ddof = 1)    # 표본의 불편분산\n",
    "    n = len(sample)\n",
    "    rv = stats.chi2(df = n-1)   \n",
    "    \n",
    "    interval = rv.interval(1 - alpha)\n",
    "    \n",
    "    y = (n - 1) * u_var / var0\n",
    "    \n",
    "    if interval[0] <= y <= interval[1] :\n",
    "        print('귀무가설 채택')\n",
    "    else:\n",
    "        print('귀무가설 기각')\n",
    "    \n",
    "\n",
    "    if y < rv.isf(0.5):\n",
    "        p = rv.cdf(y) * 2\n",
    "    else:\n",
    "        p = (1 - rv.cdf(y)) * 2\n",
    "    print(f'p값은 {p:.3f}')"
   ]
  },
  {
   "cell_type": "code",
   "execution_count": 124,
   "id": "149aceb1",
   "metadata": {},
   "outputs": [
    {
     "name": "stdout",
     "output_type": "stream",
     "text": [
      "귀무가설 채택\n",
      "p값은 0.085\n"
     ]
    }
   ],
   "source": [
    "# H0: σ2 = σ20, H1: σ2 != σ20\n",
    "\n",
    "df = pd.read_csv('ch11_potato.csv')\n",
    "sample = np.array(df['무게'])\n",
    "\n",
    "pvar_test(sample, 9)"
   ]
  },
  {
   "cell_type": "markdown",
   "id": "900d66fd",
   "metadata": {},
   "source": [
    "#### 정규분포의 모평균에 대한 검정: 모분산을 모르고 있는 경우  -> 1표본 t검정\n",
    "\n",
    "H0: μ = μ0\n",
    "\n",
    "H1: μ != μ0"
   ]
  },
  {
   "cell_type": "markdown",
   "id": "28444799",
   "metadata": {},
   "source": [
    "<b>사용자함수 생성 후 직접 구하기</b> "
   ]
  },
  {
   "cell_type": "code",
   "execution_count": 127,
   "id": "5563f4c8",
   "metadata": {},
   "outputs": [],
   "source": [
    "def pmean_test(sample, mean0, alpha = 0.05):\n",
    "    s_mean = np.mean(sample)\n",
    "    u_var = np.var(sample, ddof = 1)\n",
    "    n = len(sample)\n",
    "    \n",
    "    rv = stats.t(df = n - 1)\n",
    "    interval = rv.interval(1 - alpha)\n",
    "    \n",
    "    t = (s_mean - mean0) / np.sqrt(u_var/n)\n",
    "    \n",
    "    if interval[0] <= t <= interval[1]:\n",
    "        print('귀무가설 채택')\n",
    "    else:\n",
    "        print('귀무가설 기각')\n",
    "        \n",
    "    if t < 0 :\n",
    "        p = rv.cdf(t) * 2\n",
    "    else:\n",
    "        p = (1 - rv.cdf(t)) * 2\n",
    "    print(f'p값은 {p:.3f}')"
   ]
  },
  {
   "cell_type": "code",
   "execution_count": 128,
   "id": "c8ed157f",
   "metadata": {},
   "outputs": [
    {
     "name": "stdout",
     "output_type": "stream",
     "text": [
      "귀무가설 채택\n",
      "p값은 0.169\n"
     ]
    }
   ],
   "source": [
    "pmean_test(sample, 130)"
   ]
  },
  {
   "cell_type": "markdown",
   "id": "d0db8aab",
   "metadata": {},
   "source": [
    "<b>stats의 ttest_1samp 메서드 활용</b>"
   ]
  },
  {
   "cell_type": "code",
   "execution_count": 131,
   "id": "8651f587",
   "metadata": {},
   "outputs": [
    {
     "name": "stdout",
     "output_type": "stream",
     "text": [
      "t 검정통계량: -1.455\n",
      "p값: 0.169\n"
     ]
    }
   ],
   "source": [
    "t, p = stats.ttest_1samp(sample, 130)\n",
    "\n",
    "print(f't 검정통계량: {t: .3f}')\n",
    "print(f'p값: {p:.3f}')"
   ]
  },
  {
   "cell_type": "markdown",
   "id": "7aff2a8c",
   "metadata": {},
   "source": [
    "### 2표본 문제에 관한 가설검정"
   ]
  },
  {
   "cell_type": "markdown",
   "id": "be47800f",
   "metadata": {},
   "source": [
    "#### 대응비교 t검정\n",
    "- 대응표본은 두 데이터에서 서로 대응하는 동일한 개체에 대해 각각 다른 조건(반응 전, 반응 후)으로 측정한 것"
   ]
  },
  {
   "cell_type": "markdown",
   "id": "d78d64d4",
   "metadata": {},
   "source": [
    "예시)친구 20명에게 1주일간 근력운동을 하게하고, 운동 전후에 집중력을 측정하는 테스트를 받게 함. 집중력 테스트에 유의한 차이가 있는가?\n",
    "\n",
    "H0: μ1 - μ2 = 0\n",
    "\n",
    "H1: μ1 - μ2 != 0\n",
    "\n",
    "      또는\n",
    "      \n",
    "H0: μd = 0\n",
    "\n",
    "H1: μd != 0"
   ]
  },
  {
   "cell_type": "code",
   "execution_count": 148,
   "id": "a240c7f8",
   "metadata": {},
   "outputs": [
    {
     "data": {
      "text/html": [
       "<div>\n",
       "<style scoped>\n",
       "    .dataframe tbody tr th:only-of-type {\n",
       "        vertical-align: middle;\n",
       "    }\n",
       "\n",
       "    .dataframe tbody tr th {\n",
       "        vertical-align: top;\n",
       "    }\n",
       "\n",
       "    .dataframe thead th {\n",
       "        text-align: right;\n",
       "    }\n",
       "</style>\n",
       "<table border=\"1\" class=\"dataframe\">\n",
       "  <thead>\n",
       "    <tr style=\"text-align: right;\">\n",
       "      <th></th>\n",
       "      <th>전</th>\n",
       "      <th>후</th>\n",
       "    </tr>\n",
       "  </thead>\n",
       "  <tbody>\n",
       "    <tr>\n",
       "      <th>0</th>\n",
       "      <td>59</td>\n",
       "      <td>41</td>\n",
       "    </tr>\n",
       "    <tr>\n",
       "      <th>1</th>\n",
       "      <td>52</td>\n",
       "      <td>63</td>\n",
       "    </tr>\n",
       "    <tr>\n",
       "      <th>2</th>\n",
       "      <td>55</td>\n",
       "      <td>68</td>\n",
       "    </tr>\n",
       "    <tr>\n",
       "      <th>3</th>\n",
       "      <td>61</td>\n",
       "      <td>59</td>\n",
       "    </tr>\n",
       "    <tr>\n",
       "      <th>4</th>\n",
       "      <td>59</td>\n",
       "      <td>84</td>\n",
       "    </tr>\n",
       "    <tr>\n",
       "      <th>5</th>\n",
       "      <td>45</td>\n",
       "      <td>37</td>\n",
       "    </tr>\n",
       "    <tr>\n",
       "      <th>6</th>\n",
       "      <td>55</td>\n",
       "      <td>60</td>\n",
       "    </tr>\n",
       "    <tr>\n",
       "      <th>7</th>\n",
       "      <td>49</td>\n",
       "      <td>52</td>\n",
       "    </tr>\n",
       "    <tr>\n",
       "      <th>8</th>\n",
       "      <td>49</td>\n",
       "      <td>68</td>\n",
       "    </tr>\n",
       "    <tr>\n",
       "      <th>9</th>\n",
       "      <td>52</td>\n",
       "      <td>70</td>\n",
       "    </tr>\n",
       "    <tr>\n",
       "      <th>10</th>\n",
       "      <td>51</td>\n",
       "      <td>57</td>\n",
       "    </tr>\n",
       "    <tr>\n",
       "      <th>11</th>\n",
       "      <td>57</td>\n",
       "      <td>65</td>\n",
       "    </tr>\n",
       "    <tr>\n",
       "      <th>12</th>\n",
       "      <td>54</td>\n",
       "      <td>51</td>\n",
       "    </tr>\n",
       "    <tr>\n",
       "      <th>13</th>\n",
       "      <td>51</td>\n",
       "      <td>38</td>\n",
       "    </tr>\n",
       "    <tr>\n",
       "      <th>14</th>\n",
       "      <td>52</td>\n",
       "      <td>54</td>\n",
       "    </tr>\n",
       "    <tr>\n",
       "      <th>15</th>\n",
       "      <td>52</td>\n",
       "      <td>58</td>\n",
       "    </tr>\n",
       "    <tr>\n",
       "      <th>16</th>\n",
       "      <td>57</td>\n",
       "      <td>73</td>\n",
       "    </tr>\n",
       "    <tr>\n",
       "      <th>17</th>\n",
       "      <td>49</td>\n",
       "      <td>65</td>\n",
       "    </tr>\n",
       "    <tr>\n",
       "      <th>18</th>\n",
       "      <td>52</td>\n",
       "      <td>54</td>\n",
       "    </tr>\n",
       "    <tr>\n",
       "      <th>19</th>\n",
       "      <td>46</td>\n",
       "      <td>48</td>\n",
       "    </tr>\n",
       "  </tbody>\n",
       "</table>\n",
       "</div>"
      ],
      "text/plain": [
       "     전   후\n",
       "0   59  41\n",
       "1   52  63\n",
       "2   55  68\n",
       "3   61  59\n",
       "4   59  84\n",
       "5   45  37\n",
       "6   55  60\n",
       "7   49  52\n",
       "8   49  68\n",
       "9   52  70\n",
       "10  51  57\n",
       "11  57  65\n",
       "12  54  51\n",
       "13  51  38\n",
       "14  52  54\n",
       "15  52  58\n",
       "16  57  73\n",
       "17  49  65\n",
       "18  52  54\n",
       "19  46  48"
      ]
     },
     "execution_count": 148,
     "metadata": {},
     "output_type": "execute_result"
    }
   ],
   "source": [
    "df = pd.read_csv('ch11_training_rel.csv')\n",
    "df"
   ]
  },
  {
   "cell_type": "code",
   "execution_count": 149,
   "id": "ccf3a75b",
   "metadata": {},
   "outputs": [
    {
     "data": {
      "text/html": [
       "<div>\n",
       "<style scoped>\n",
       "    .dataframe tbody tr th:only-of-type {\n",
       "        vertical-align: middle;\n",
       "    }\n",
       "\n",
       "    .dataframe tbody tr th {\n",
       "        vertical-align: top;\n",
       "    }\n",
       "\n",
       "    .dataframe thead th {\n",
       "        text-align: right;\n",
       "    }\n",
       "</style>\n",
       "<table border=\"1\" class=\"dataframe\">\n",
       "  <thead>\n",
       "    <tr style=\"text-align: right;\">\n",
       "      <th></th>\n",
       "      <th>전</th>\n",
       "      <th>후</th>\n",
       "      <th>차이</th>\n",
       "    </tr>\n",
       "  </thead>\n",
       "  <tbody>\n",
       "    <tr>\n",
       "      <th>0</th>\n",
       "      <td>59</td>\n",
       "      <td>41</td>\n",
       "      <td>-18</td>\n",
       "    </tr>\n",
       "    <tr>\n",
       "      <th>1</th>\n",
       "      <td>52</td>\n",
       "      <td>63</td>\n",
       "      <td>11</td>\n",
       "    </tr>\n",
       "    <tr>\n",
       "      <th>2</th>\n",
       "      <td>55</td>\n",
       "      <td>68</td>\n",
       "      <td>13</td>\n",
       "    </tr>\n",
       "    <tr>\n",
       "      <th>3</th>\n",
       "      <td>61</td>\n",
       "      <td>59</td>\n",
       "      <td>-2</td>\n",
       "    </tr>\n",
       "    <tr>\n",
       "      <th>4</th>\n",
       "      <td>59</td>\n",
       "      <td>84</td>\n",
       "      <td>25</td>\n",
       "    </tr>\n",
       "  </tbody>\n",
       "</table>\n",
       "</div>"
      ],
      "text/plain": [
       "    전   후  차이\n",
       "0  59  41 -18\n",
       "1  52  63  11\n",
       "2  55  68  13\n",
       "3  61  59  -2\n",
       "4  59  84  25"
      ]
     },
     "execution_count": 149,
     "metadata": {},
     "output_type": "execute_result"
    }
   ],
   "source": [
    "df['차이'] = df['후'] - df['전']\n",
    "df.head()"
   ]
  },
  {
   "cell_type": "code",
   "execution_count": 150,
   "id": "516251c6",
   "metadata": {},
   "outputs": [
    {
     "name": "stdout",
     "output_type": "stream",
     "text": [
      "t 검정통계량: 2.204\n",
      "p값: 0.040\n",
      "0.040값이 유의수준 0.05보다 작기 때문에 귀무가설을 기각함.\n",
      "근력운동은 집중력 테스트에 유의한 차이를 보임\n"
     ]
    }
   ],
   "source": [
    "t, p = stats.ttest_1samp(df['차이'], 0)\n",
    "\n",
    "print(f't 검정통계량: {t:.3f}')\n",
    "print(f'p값: {p:.3f}')\n",
    "print(f'{p:.3f}값이 유의수준 0.05보다 작기 때문에 귀무가설을 기각함.\\n근력운동은 집중력 테스트에 유의한 차이를 보임')"
   ]
  },
  {
   "cell_type": "markdown",
   "id": "b3757d27",
   "metadata": {},
   "source": [
    "#### 독립비교 t검정\n",
    "- 대응하는 데이터가 없고 독립된 2표본 모집단에 정규분포를 가정할 수 있는 경우 평균값의 차이에 대한 검정\n",
    "\n",
    "예시) 근력운동이 집중력을 향상시키는 효과가 유의한지, 근력운동을 시킨 자신의 학급 20명과 다른 반 학급 20명 사이에서 확인해보기\n",
    "\n",
    "H0: μ1 - μ2 = 0\n",
    "\n",
    "H1: μ1 - μ2 != 0"
   ]
  },
  {
   "cell_type": "code",
   "execution_count": 153,
   "id": "64a539b6",
   "metadata": {},
   "outputs": [
    {
     "data": {
      "text/html": [
       "<div>\n",
       "<style scoped>\n",
       "    .dataframe tbody tr th:only-of-type {\n",
       "        vertical-align: middle;\n",
       "    }\n",
       "\n",
       "    .dataframe tbody tr th {\n",
       "        vertical-align: top;\n",
       "    }\n",
       "\n",
       "    .dataframe thead th {\n",
       "        text-align: right;\n",
       "    }\n",
       "</style>\n",
       "<table border=\"1\" class=\"dataframe\">\n",
       "  <thead>\n",
       "    <tr style=\"text-align: right;\">\n",
       "      <th></th>\n",
       "      <th>A</th>\n",
       "      <th>B</th>\n",
       "    </tr>\n",
       "  </thead>\n",
       "  <tbody>\n",
       "    <tr>\n",
       "      <th>0</th>\n",
       "      <td>47</td>\n",
       "      <td>49</td>\n",
       "    </tr>\n",
       "    <tr>\n",
       "      <th>1</th>\n",
       "      <td>50</td>\n",
       "      <td>52</td>\n",
       "    </tr>\n",
       "    <tr>\n",
       "      <th>2</th>\n",
       "      <td>37</td>\n",
       "      <td>54</td>\n",
       "    </tr>\n",
       "    <tr>\n",
       "      <th>3</th>\n",
       "      <td>60</td>\n",
       "      <td>48</td>\n",
       "    </tr>\n",
       "    <tr>\n",
       "      <th>4</th>\n",
       "      <td>39</td>\n",
       "      <td>51</td>\n",
       "    </tr>\n",
       "  </tbody>\n",
       "</table>\n",
       "</div>"
      ],
      "text/plain": [
       "    A   B\n",
       "0  47  49\n",
       "1  50  52\n",
       "2  37  54\n",
       "3  60  48\n",
       "4  39  51"
      ]
     },
     "execution_count": 153,
     "metadata": {},
     "output_type": "execute_result"
    }
   ],
   "source": [
    "df = pd.read_csv('ch11_training_ind.csv')\n",
    "df.head()"
   ]
  },
  {
   "cell_type": "code",
   "execution_count": 157,
   "id": "45e4e6bd",
   "metadata": {},
   "outputs": [
    {
     "name": "stdout",
     "output_type": "stream",
     "text": [
      "t 검정통계량: -1.761\n",
      "p값: 0.087\n",
      "p값이 0.05보다 크므로 귀무가설을 채택함. \n",
      "따라서, 근력운동 시 두 집단의 집중력에 유의한 차이가 없음을 알 수 있음\n"
     ]
    }
   ],
   "source": [
    "t, p = stats.ttest_ind(df['A'], df['B'], equal_var = False)  #equal_val = False: 웰치의 방법\n",
    "\n",
    "print(f't 검정통계량: {t:.3f}')\n",
    "print(f'p값: {p:.3f}')\n",
    "print(f'p값이 0.05보다 크므로 귀무가설을 채택함. \\n따라서, 근력운동 시 두 집단의 집중력에 유의한 차이가 없음을 알 수 있음')"
   ]
  },
  {
   "cell_type": "markdown",
   "id": "db462d80",
   "metadata": {},
   "source": [
    "#### 카이제곱검정\n",
    "- 독립성 검정\n",
    "    - 귀무가설: 두 변수 'X,Y에 관해서 X와 Y가 독립이다.'\n",
    "    - 대립가설: 'X,Y에 관해서 X와 Y가 독립이 아니다.'\n",
    "- 독립성 검정에 카이제곱분포가 사용되기 때문에 카이제곱검정이라고도 부른다.\n",
    " \n",
    "  예시)광고A와 광고B간의 구입 비율에 유의한 차이가 있는지 확인하는 경우 사용할 수 있음."
   ]
  },
  {
   "cell_type": "code",
   "execution_count": 60,
   "id": "12edcee4",
   "metadata": {},
   "outputs": [
    {
     "data": {
      "text/html": [
       "<div>\n",
       "<style scoped>\n",
       "    .dataframe tbody tr th:only-of-type {\n",
       "        vertical-align: middle;\n",
       "    }\n",
       "\n",
       "    .dataframe tbody tr th {\n",
       "        vertical-align: top;\n",
       "    }\n",
       "\n",
       "    .dataframe thead th {\n",
       "        text-align: right;\n",
       "    }\n",
       "</style>\n",
       "<table border=\"1\" class=\"dataframe\">\n",
       "  <thead>\n",
       "    <tr style=\"text-align: right;\">\n",
       "      <th></th>\n",
       "      <th>광고</th>\n",
       "      <th>구입</th>\n",
       "    </tr>\n",
       "  </thead>\n",
       "  <tbody>\n",
       "    <tr>\n",
       "      <th>0</th>\n",
       "      <td>B</td>\n",
       "      <td>하지 않았다</td>\n",
       "    </tr>\n",
       "    <tr>\n",
       "      <th>1</th>\n",
       "      <td>B</td>\n",
       "      <td>하지 않았다</td>\n",
       "    </tr>\n",
       "    <tr>\n",
       "      <th>2</th>\n",
       "      <td>A</td>\n",
       "      <td>했다</td>\n",
       "    </tr>\n",
       "    <tr>\n",
       "      <th>3</th>\n",
       "      <td>A</td>\n",
       "      <td>했다</td>\n",
       "    </tr>\n",
       "    <tr>\n",
       "      <th>4</th>\n",
       "      <td>B</td>\n",
       "      <td>하지 않았다</td>\n",
       "    </tr>\n",
       "    <tr>\n",
       "      <th>...</th>\n",
       "      <td>...</td>\n",
       "      <td>...</td>\n",
       "    </tr>\n",
       "    <tr>\n",
       "      <th>995</th>\n",
       "      <td>B</td>\n",
       "      <td>하지 않았다</td>\n",
       "    </tr>\n",
       "    <tr>\n",
       "      <th>996</th>\n",
       "      <td>B</td>\n",
       "      <td>하지 않았다</td>\n",
       "    </tr>\n",
       "    <tr>\n",
       "      <th>997</th>\n",
       "      <td>B</td>\n",
       "      <td>하지 않았다</td>\n",
       "    </tr>\n",
       "    <tr>\n",
       "      <th>998</th>\n",
       "      <td>B</td>\n",
       "      <td>하지 않았다</td>\n",
       "    </tr>\n",
       "    <tr>\n",
       "      <th>999</th>\n",
       "      <td>A</td>\n",
       "      <td>했다</td>\n",
       "    </tr>\n",
       "  </tbody>\n",
       "</table>\n",
       "<p>1000 rows × 2 columns</p>\n",
       "</div>"
      ],
      "text/plain": [
       "    광고      구입\n",
       "0    B  하지 않았다\n",
       "1    B  하지 않았다\n",
       "2    A      했다\n",
       "3    A      했다\n",
       "4    B  하지 않았다\n",
       "..  ..     ...\n",
       "995  B  하지 않았다\n",
       "996  B  하지 않았다\n",
       "997  B  하지 않았다\n",
       "998  B  하지 않았다\n",
       "999  A      했다\n",
       "\n",
       "[1000 rows x 2 columns]"
      ]
     },
     "execution_count": 60,
     "metadata": {},
     "output_type": "execute_result"
    }
   ],
   "source": [
    "ad_df = pd.read_csv('ch11_ad.csv')\n",
    "ad_df"
   ]
  },
  {
   "cell_type": "markdown",
   "id": "a746ce82",
   "metadata": {},
   "source": [
    "<b>직접 구해보기 </b>"
   ]
  },
  {
   "cell_type": "code",
   "execution_count": 61,
   "id": "f849217b",
   "metadata": {},
   "outputs": [
    {
     "data": {
      "text/html": [
       "<div>\n",
       "<style scoped>\n",
       "    .dataframe tbody tr th:only-of-type {\n",
       "        vertical-align: middle;\n",
       "    }\n",
       "\n",
       "    .dataframe tbody tr th {\n",
       "        vertical-align: top;\n",
       "    }\n",
       "\n",
       "    .dataframe thead th {\n",
       "        text-align: right;\n",
       "    }\n",
       "</style>\n",
       "<table border=\"1\" class=\"dataframe\">\n",
       "  <thead>\n",
       "    <tr style=\"text-align: right;\">\n",
       "      <th>구입</th>\n",
       "      <th>하지 않았다</th>\n",
       "      <th>했다</th>\n",
       "    </tr>\n",
       "    <tr>\n",
       "      <th>광고</th>\n",
       "      <th></th>\n",
       "      <th></th>\n",
       "    </tr>\n",
       "  </thead>\n",
       "  <tbody>\n",
       "    <tr>\n",
       "      <th>A</th>\n",
       "      <td>351</td>\n",
       "      <td>49</td>\n",
       "    </tr>\n",
       "    <tr>\n",
       "      <th>B</th>\n",
       "      <td>549</td>\n",
       "      <td>51</td>\n",
       "    </tr>\n",
       "  </tbody>\n",
       "</table>\n",
       "</div>"
      ],
      "text/plain": [
       "구입  하지 않았다  했다\n",
       "광고            \n",
       "A      351  49\n",
       "B      549  51"
      ]
     },
     "execution_count": 61,
     "metadata": {},
     "output_type": "execute_result"
    }
   ],
   "source": [
    "# 교차집계표 작성\n",
    "\n",
    "ad_cross = pd.crosstab(ad_df['광고'], ad_df['구입'])\n",
    "ad_cross"
   ]
  },
  {
   "cell_type": "code",
   "execution_count": 63,
   "id": "71270a5f",
   "metadata": {},
   "outputs": [
    {
     "data": {
      "text/plain": [
       "광고\n",
       "A    0.1225\n",
       "B    0.0850\n",
       "dtype: float64"
      ]
     },
     "execution_count": 63,
     "metadata": {},
     "output_type": "execute_result"
    }
   ],
   "source": [
    "# 구입비율 알아보기\n",
    "\n",
    "ad_cross['했다'] / (ad_cross['했다'] + ad_cross['하지 않았다'])"
   ]
  },
  {
   "cell_type": "markdown",
   "id": "8ce57fa2",
   "metadata": {},
   "source": [
    "A의 구입비율이 더 높게 나타남"
   ]
  },
  {
   "cell_type": "code",
   "execution_count": 81,
   "id": "6f1a17ad",
   "metadata": {},
   "outputs": [
    {
     "name": "stdout",
     "output_type": "stream",
     "text": [
      "구임안함: 900\n",
      "구입함: 100\n",
      "A광고를 본 사람 수: 400\n",
      "B광고를 본 사람 수: 600\n"
     ]
    }
   ],
   "source": [
    "# 구입여부에 대한 빈도수 계산\n",
    "\n",
    "n_not, n_yes = ad_cross.sum()\n",
    "print(f'구임안함: {n_not}')\n",
    "print(f'구입함: {n_yes}')\n",
    "\n",
    "\n",
    "\n",
    "# A광고, B광고를 본 빈도수\n",
    "\n",
    "n_adA, n_adB = ad_cross.sum(axis = 1)\n",
    "print(f'A광고를 본 사람 수: {n_adA}')\n",
    "print(f'B광고를 본 사람 수: {n_adB}')"
   ]
  },
  {
   "cell_type": "code",
   "execution_count": 89,
   "id": "efd9187a",
   "metadata": {},
   "outputs": [
    {
     "data": {
      "text/html": [
       "<div>\n",
       "<style scoped>\n",
       "    .dataframe tbody tr th:only-of-type {\n",
       "        vertical-align: middle;\n",
       "    }\n",
       "\n",
       "    .dataframe tbody tr th {\n",
       "        vertical-align: top;\n",
       "    }\n",
       "\n",
       "    .dataframe thead th {\n",
       "        text-align: right;\n",
       "    }\n",
       "</style>\n",
       "<table border=\"1\" class=\"dataframe\">\n",
       "  <thead>\n",
       "    <tr style=\"text-align: right;\">\n",
       "      <th></th>\n",
       "      <th>했다</th>\n",
       "      <th>하지 않았다</th>\n",
       "    </tr>\n",
       "  </thead>\n",
       "  <tbody>\n",
       "    <tr>\n",
       "      <th>A</th>\n",
       "      <td>40.0</td>\n",
       "      <td>360.0</td>\n",
       "    </tr>\n",
       "    <tr>\n",
       "      <th>B</th>\n",
       "      <td>60.0</td>\n",
       "      <td>540.0</td>\n",
       "    </tr>\n",
       "  </tbody>\n",
       "</table>\n",
       "</div>"
      ],
      "text/plain": [
       "     했다  하지 않았다\n",
       "A  40.0   360.0\n",
       "B  60.0   540.0"
      ]
     },
     "execution_count": 89,
     "metadata": {},
     "output_type": "execute_result"
    }
   ],
   "source": [
    "# 기대도수 구하기\n",
    "\n",
    "n = 1000\n",
    "ad_ef = pd.DataFrame({'했다' : [n_adA * n_yes / n,\n",
    "                                n_adB * n_yes / n],\n",
    "                     '하지 않았다' : [n_adA * n_not / n,\n",
    "                                     n_adB * n_not / n]},\n",
    "                    index = ['A', 'B'])\n",
    "\n",
    "ad_ef"
   ]
  },
  {
   "cell_type": "markdown",
   "id": "0b2a4d77",
   "metadata": {},
   "source": [
    "- 귀무가설: 광고종류와 상품구입유무는 독립이 아니다.\n",
    "- 대립가설: 광고종류와 상품구입유무는 독립이다."
   ]
  },
  {
   "cell_type": "code",
   "execution_count": 100,
   "id": "1baea699",
   "metadata": {},
   "outputs": [
    {
     "name": "stdout",
     "output_type": "stream",
     "text": [
      "검정통계량: 3.75\n",
      "p값: 0.053 \n",
      "\n",
      "p값은 유의수준 0.05보다 크므로 귀무가설을 채택한다.\n",
      "따라서, 광고종류와 상품구입유무는 독립이 아님을 알 수 있다.\n"
     ]
    }
   ],
   "source": [
    "# 카이제곱 검정(관측도수 - 기대도수)^2/기대도수\n",
    "\n",
    "y = ((ad_cross - ad_ef)**2 / ad_ef).sum().sum()\n",
    "print(f'검정통계량: {y}')\n",
    "\n",
    "\n",
    "\n",
    "# 카이제곱분포 객체화 X~ X^2(n-1)*(m-1)\n",
    "\n",
    "rv = stats.chi2(1)\n",
    "print(f'p값: {1 - rv.cdf(y):.3f}', '\\n')\n",
    "\n",
    "\n",
    "\n",
    "print(f'p값은 유의수준 0.05보다 크므로 귀무가설을 채택한다.\\n따라서, 광고종류와 상품구입유무는 독립이 아님을 알 수 있다.')"
   ]
  },
  {
   "cell_type": "markdown",
   "id": "e606ecb1",
   "metadata": {},
   "source": [
    "<b>stats 메서드 활용</b>"
   ]
  },
  {
   "cell_type": "code",
   "execution_count": 108,
   "id": "8c3fc36e",
   "metadata": {},
   "outputs": [
    {
     "name": "stdout",
     "output_type": "stream",
     "text": [
      "검정통계량: 3.75, \n",
      "p값:  0.053,\n",
      "자유도: 1,\n",
      "기대도수:\n",
      " [[360.  40.]\n",
      " [540.  60.]]\n"
     ]
    }
   ],
   "source": [
    "# 검정통계량, p값, 자유도, 기대도수\n",
    "\n",
    "chi2, p, dof, ef = stats.chi2_contingency(ad_cross, correction = False)\n",
    "\n",
    "print(f'검정통계량: {chi2}, \\np값: {p: .3f},\\n자유도: {dof},\\n기대도수:\\n {ef}')"
   ]
  },
  {
   "cell_type": "markdown",
   "id": "96b714a1",
   "metadata": {},
   "source": [
    "#### 과제: 카이제곱 검정\n",
    "카이제곱 검정을 이용하여 독립성 검정을 수행하는 사례 작성하여 설명하기"
   ]
  },
  {
   "cell_type": "markdown",
   "id": "378c612e",
   "metadata": {},
   "source": [
    "H0: 영화장르와 간식구매여부는 독립이다.\n",
    "\n",
    "H1: 영화장르와 간식구매여부는 독립이 아니다."
   ]
  },
  {
   "cell_type": "code",
   "execution_count": 158,
   "id": "d026a4d9",
   "metadata": {},
   "outputs": [
    {
     "data": {
      "text/html": [
       "<div>\n",
       "<style scoped>\n",
       "    .dataframe tbody tr th:only-of-type {\n",
       "        vertical-align: middle;\n",
       "    }\n",
       "\n",
       "    .dataframe tbody tr th {\n",
       "        vertical-align: top;\n",
       "    }\n",
       "\n",
       "    .dataframe thead th {\n",
       "        text-align: right;\n",
       "    }\n",
       "</style>\n",
       "<table border=\"1\" class=\"dataframe\">\n",
       "  <thead>\n",
       "    <tr style=\"text-align: right;\">\n",
       "      <th></th>\n",
       "      <th>간식류</th>\n",
       "      <th>간식류 비구매</th>\n",
       "    </tr>\n",
       "  </thead>\n",
       "  <tbody>\n",
       "    <tr>\n",
       "      <th>작업</th>\n",
       "      <td>50</td>\n",
       "      <td>75</td>\n",
       "    </tr>\n",
       "    <tr>\n",
       "      <th>코미디</th>\n",
       "      <td>125</td>\n",
       "      <td>175</td>\n",
       "    </tr>\n",
       "    <tr>\n",
       "      <th>가족</th>\n",
       "      <td>90</td>\n",
       "      <td>30</td>\n",
       "    </tr>\n",
       "    <tr>\n",
       "      <th>공포</th>\n",
       "      <td>45</td>\n",
       "      <td>10</td>\n",
       "    </tr>\n",
       "  </tbody>\n",
       "</table>\n",
       "</div>"
      ],
      "text/plain": [
       "     간식류  간식류 비구매\n",
       "작업    50       75\n",
       "코미디  125      175\n",
       "가족    90       30\n",
       "공포    45       10"
      ]
     },
     "execution_count": 158,
     "metadata": {},
     "output_type": "execute_result"
    }
   ],
   "source": [
    "import pandas as pd\n",
    "\n",
    "# 관측도수 데이터프레임 만들기\n",
    "df_o = pd.DataFrame({'간식류':[50, 125, 90, 45],\n",
    "                     '간식류 비구매': [75, 175, 30, 10]},\n",
    "                     index = ['작업', '코미디', '가족', '공포'])\n",
    "df_o"
   ]
  },
  {
   "cell_type": "code",
   "execution_count": 162,
   "id": "a07fc508",
   "metadata": {},
   "outputs": [
    {
     "data": {
      "text/plain": [
       "간식류        310\n",
       "간식류 비구매    290\n",
       "dtype: int64"
      ]
     },
     "metadata": {},
     "output_type": "display_data"
    },
    {
     "data": {
      "text/plain": [
       "작업     125\n",
       "코미디    300\n",
       "가족     120\n",
       "공포      55\n",
       "dtype: int64"
      ]
     },
     "metadata": {},
     "output_type": "display_data"
    }
   ],
   "source": [
    "# 간식류 구매여부별 합계 구하기\n",
    "snack = df_o.sum()\n",
    "display(snack)\n",
    "\n",
    "\n",
    "# 영화 장르별 합계 구하기\n",
    "movie = df_o.sum(axis = 1)\n",
    "display(movie)"
   ]
  },
  {
   "cell_type": "code",
   "execution_count": 189,
   "id": "775bd7da",
   "metadata": {},
   "outputs": [
    {
     "name": "stdout",
     "output_type": "stream",
     "text": [
      "기대도수:\n"
     ]
    },
    {
     "data": {
      "text/html": [
       "<div>\n",
       "<style scoped>\n",
       "    .dataframe tbody tr th:only-of-type {\n",
       "        vertical-align: middle;\n",
       "    }\n",
       "\n",
       "    .dataframe tbody tr th {\n",
       "        vertical-align: top;\n",
       "    }\n",
       "\n",
       "    .dataframe thead th {\n",
       "        text-align: right;\n",
       "    }\n",
       "</style>\n",
       "<table border=\"1\" class=\"dataframe\">\n",
       "  <thead>\n",
       "    <tr style=\"text-align: right;\">\n",
       "      <th></th>\n",
       "      <th>간식류</th>\n",
       "      <th>간식류 비구매</th>\n",
       "    </tr>\n",
       "  </thead>\n",
       "  <tbody>\n",
       "    <tr>\n",
       "      <th>작업</th>\n",
       "      <td>64.58</td>\n",
       "      <td>60.42</td>\n",
       "    </tr>\n",
       "    <tr>\n",
       "      <th>코미디</th>\n",
       "      <td>155.00</td>\n",
       "      <td>145.00</td>\n",
       "    </tr>\n",
       "    <tr>\n",
       "      <th>가족</th>\n",
       "      <td>62.00</td>\n",
       "      <td>58.00</td>\n",
       "    </tr>\n",
       "    <tr>\n",
       "      <th>공포</th>\n",
       "      <td>28.42</td>\n",
       "      <td>26.58</td>\n",
       "    </tr>\n",
       "  </tbody>\n",
       "</table>\n",
       "</div>"
      ],
      "text/plain": [
       "        간식류  간식류 비구매\n",
       "작업    64.58    60.42\n",
       "코미디  155.00   145.00\n",
       "가족    62.00    58.00\n",
       "공포    28.42    26.58"
      ]
     },
     "metadata": {},
     "output_type": "display_data"
    },
    {
     "name": "stdout",
     "output_type": "stream",
     "text": [
      "카이제곱 검정량: 65.012 \n",
      "\n",
      "p값: 0.000 \n",
      "\n",
      "p값이 유의수준 0.05보다 작기 때문에 귀무가설을 기각한다.\n",
      "따라서, 영화장르와 간식구매여부는 독립이 아님을 알 수 있다.\n"
     ]
    }
   ],
   "source": [
    "# 기대도수 차트 만들기\n",
    "\n",
    "chi_square, p, df, df_e =  stats.chi2_contingency(df_o, correction = True)\n",
    "\n",
    "df_e = pd.DataFrame(df_e, columns = df_o.columns, index = df_o.index).round(2)\n",
    "\n",
    "print(f'기대도수:')\n",
    "display(df_e)\n",
    "\n",
    "print(f'카이제곱 검정량: {chi_square:.3f}','\\n')\n",
    "\n",
    "\n",
    "print(f'p값: {p:.3f}','\\n')\n",
    "print('p값이 유의수준 0.05보다 작기 때문에 귀무가설을 기각한다.\\n따라서, 영화장르와 간식구매여부는 독립이 아님을 알 수 있다.')"
   ]
  }
 ],
 "metadata": {
  "kernelspec": {
   "display_name": "Python 3 (ipykernel)",
   "language": "python",
   "name": "python3"
  },
  "language_info": {
   "codemirror_mode": {
    "name": "ipython",
    "version": 3
   },
   "file_extension": ".py",
   "mimetype": "text/x-python",
   "name": "python",
   "nbconvert_exporter": "python",
   "pygments_lexer": "ipython3",
   "version": "3.8.13"
  },
  "toc": {
   "base_numbering": 1,
   "nav_menu": {},
   "number_sections": true,
   "sideBar": true,
   "skip_h1_title": false,
   "title_cell": "Table of Contents",
   "title_sidebar": "Contents",
   "toc_cell": false,
   "toc_position": {
    "height": "calc(100% - 180px)",
    "left": "10px",
    "top": "150px",
    "width": "283.011px"
   },
   "toc_section_display": true,
   "toc_window_display": true
  }
 },
 "nbformat": 4,
 "nbformat_minor": 5
}
