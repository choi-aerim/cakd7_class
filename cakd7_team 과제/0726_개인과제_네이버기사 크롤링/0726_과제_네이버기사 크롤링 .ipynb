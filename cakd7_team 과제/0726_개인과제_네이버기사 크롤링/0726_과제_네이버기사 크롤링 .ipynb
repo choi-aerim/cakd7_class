{
 "cells": [
  {
   "cell_type": "markdown",
   "id": "7cf98c74",
   "metadata": {},
   "source": [
    "#### 과제 07/26_2_3:  내가 크롤링한 파일\n",
    "\n",
    "##### 네이버 카테고리별 기사를 아래 카테고리 정의를 기준으로 크롤링한 후 불필요한 공백을 제거하고 한글만으로 된 데이터 프레임을 출력하세요.\n",
    "- 카테고리 정의\n",
    "    - 100 정치\n",
    "        - (청와대[264] + 국회/정당[265] + 북한[268] + 국방/외교[267])\n",
    "\n",
    "    - 101 경제\n",
    "        - (금융[259] + 증권[258] + 산업/재계[261] + 글로벌 경제[262] + 부동산[260])\n",
    "\n",
    "    - 103 생활/문화\n",
    "        - (건강정보[241] + 여행/레저[237] + 공연/전시[242] + 날씨[248] + 생활문화 일반[245])\n",
    "\n",
    "    - 105 IT/과학\n",
    "        - (통신/뉴미디어[227] + IT 일반[230] + 컴퓨터[283] + 과학 일반[228])\n",
    "        \n",
    "- 카테고리별 1000개, 총 4천개로 구성된 데이터프레임 생성\n"
   ]
  },
  {
   "cell_type": "code",
   "execution_count": 2,
   "id": "60e11447",
   "metadata": {},
   "outputs": [],
   "source": [
    "#카테고리별 기사를 잘 크롤링했는지 확인 후 중복 삭제"
   ]
  },
  {
   "cell_type": "code",
   "execution_count": 3,
   "id": "8ac9778a",
   "metadata": {},
   "outputs": [],
   "source": [
    "###정치"
   ]
  },
  {
   "cell_type": "code",
   "execution_count": 44,
   "id": "68d6dfcc",
   "metadata": {},
   "outputs": [
    {
     "data": {
      "text/html": [
       "<div>\n",
       "<style scoped>\n",
       "    .dataframe tbody tr th:only-of-type {\n",
       "        vertical-align: middle;\n",
       "    }\n",
       "\n",
       "    .dataframe tbody tr th {\n",
       "        vertical-align: top;\n",
       "    }\n",
       "\n",
       "    .dataframe thead th {\n",
       "        text-align: right;\n",
       "    }\n",
       "</style>\n",
       "<table border=\"1\" class=\"dataframe\">\n",
       "  <thead>\n",
       "    <tr style=\"text-align: right;\">\n",
       "      <th></th>\n",
       "      <th>news</th>\n",
       "      <th>category</th>\n",
       "    </tr>\n",
       "  </thead>\n",
       "  <tbody>\n",
       "    <tr>\n",
       "      <th>0</th>\n",
       "      <td>“당 대표 바뀌니 (당이) 달라져”권성동에 보낸 문자메시지 포착이준석에 불편했던 심...</td>\n",
       "      <td>264</td>\n",
       "    </tr>\n",
       "    <tr>\n",
       "      <th>1</th>\n",
       "      <td>\"민생 챙기기보다 당무개입 우선인가…기가 막힌다\"박용진 \"좌표부대 총사령관 尹\"…정...</td>\n",
       "      <td>264</td>\n",
       "    </tr>\n",
       "    <tr>\n",
       "      <th>2</th>\n",
       "      <td>국회 본회의장서 尹과 문자…대화 내용 언론에 포착\"이유 막론하고 당원동지들, 국민께...</td>\n",
       "      <td>264</td>\n",
       "    </tr>\n",
       "    <tr>\n",
       "      <th>3</th>\n",
       "      <td>26일 오후 국회 본회의장에서 열린 제 398회 임시회 6차 본회의 대정부 질문 도...</td>\n",
       "      <td>264</td>\n",
       "    </tr>\n",
       "    <tr>\n",
       "      <th>4</th>\n",
       "      <td>6월 28일 추모 음악회 참석 감사 편지에 답장故(고) 심정민 소령, 김건희 여사....</td>\n",
       "      <td>264</td>\n",
       "    </tr>\n",
       "  </tbody>\n",
       "</table>\n",
       "</div>"
      ],
      "text/plain": [
       "                                                news  category\n",
       "0  “당 대표 바뀌니 (당이) 달라져”권성동에 보낸 문자메시지 포착이준석에 불편했던 심...       264\n",
       "1  \"민생 챙기기보다 당무개입 우선인가…기가 막힌다\"박용진 \"좌표부대 총사령관 尹\"…정...       264\n",
       "2  국회 본회의장서 尹과 문자…대화 내용 언론에 포착\"이유 막론하고 당원동지들, 국민께...       264\n",
       "3  26일 오후 국회 본회의장에서 열린 제 398회 임시회 6차 본회의 대정부 질문 도...       264\n",
       "4  6월 28일 추모 음악회 참석 감사 편지에 답장故(고) 심정민 소령, 김건희 여사....       264"
      ]
     },
     "execution_count": 44,
     "metadata": {},
     "output_type": "execute_result"
    }
   ],
   "source": [
    "import pandas as pd\n",
    "\n",
    "news_df1 = pd.read_pickle('news_df.pkl')\n",
    "news_df1.head()"
   ]
  },
  {
   "cell_type": "code",
   "execution_count": 45,
   "id": "ad2d6825",
   "metadata": {},
   "outputs": [
    {
     "name": "stdout",
     "output_type": "stream",
     "text": [
      "<class 'pandas.core.frame.DataFrame'>\n",
      "Int64Index: 1030 entries, 0 to 1029\n",
      "Data columns (total 2 columns):\n",
      " #   Column    Non-Null Count  Dtype \n",
      "---  ------    --------------  ----- \n",
      " 0   news      1030 non-null   object\n",
      " 1   category  1030 non-null   int64 \n",
      "dtypes: int64(1), object(1)\n",
      "memory usage: 24.1+ KB\n",
      "None\n",
      "[264 265 268 267]\n"
     ]
    }
   ],
   "source": [
    "print(news_df1.info())\n",
    "print(news_df1.category.unique())"
   ]
  },
  {
   "cell_type": "code",
   "execution_count": 46,
   "id": "d9304fa9",
   "metadata": {},
   "outputs": [
    {
     "data": {
      "text/plain": [
       "348"
      ]
     },
     "execution_count": 46,
     "metadata": {},
     "output_type": "execute_result"
    }
   ],
   "source": [
    "#중복 개수 확인\n",
    "\n",
    "news_df1.duplicated(subset = \"news\").sum()"
   ]
  },
  {
   "cell_type": "code",
   "execution_count": 47,
   "id": "fd5836bb",
   "metadata": {},
   "outputs": [
    {
     "name": "stdout",
     "output_type": "stream",
     "text": [
      "<class 'pandas.core.frame.DataFrame'>\n",
      "Int64Index: 682 entries, 0 to 1023\n",
      "Data columns (total 2 columns):\n",
      " #   Column    Non-Null Count  Dtype \n",
      "---  ------    --------------  ----- \n",
      " 0   news      682 non-null    object\n",
      " 1   category  682 non-null    int64 \n",
      "dtypes: int64(1), object(1)\n",
      "memory usage: 16.0+ KB\n"
     ]
    }
   ],
   "source": [
    "#중복 삭제\n",
    "\n",
    "news_df1.drop_duplicates(subset = \"news\", inplace=True)\n",
    "news_df1.info()"
   ]
  },
  {
   "cell_type": "code",
   "execution_count": 48,
   "id": "d4d5f139",
   "metadata": {},
   "outputs": [],
   "source": [
    "###경제"
   ]
  },
  {
   "cell_type": "code",
   "execution_count": 49,
   "id": "3709bb7c",
   "metadata": {},
   "outputs": [
    {
     "data": {
      "text/html": [
       "<div>\n",
       "<style scoped>\n",
       "    .dataframe tbody tr th:only-of-type {\n",
       "        vertical-align: middle;\n",
       "    }\n",
       "\n",
       "    .dataframe tbody tr th {\n",
       "        vertical-align: top;\n",
       "    }\n",
       "\n",
       "    .dataframe thead th {\n",
       "        text-align: right;\n",
       "    }\n",
       "</style>\n",
       "<table border=\"1\" class=\"dataframe\">\n",
       "  <thead>\n",
       "    <tr style=\"text-align: right;\">\n",
       "      <th></th>\n",
       "      <th>news</th>\n",
       "      <th>category</th>\n",
       "    </tr>\n",
       "  </thead>\n",
       "  <tbody>\n",
       "    <tr>\n",
       "      <th>0</th>\n",
       "      <td>금감원, 우리은행 횡령사고 수시검사 결과 발표10년 이상 같은 부서에서 근무…횡령 ...</td>\n",
       "      <td>259</td>\n",
       "    </tr>\n",
       "    <tr>\n",
       "      <th>1</th>\n",
       "      <td>지난 25일 최문섭 NH농협손보 대표이사(앞줄 왼쪽 세번째)와 직원들이 기념촬영을 ...</td>\n",
       "      <td>259</td>\n",
       "    </tr>\n",
       "    <tr>\n",
       "      <th>2</th>\n",
       "      <td>금감원 제재 수위에 관심대우일렉 인천공장 매각금 59억24억 출자전환주식 횡령정황 ...</td>\n",
       "      <td>259</td>\n",
       "    </tr>\n",
       "    <tr>\n",
       "      <th>3</th>\n",
       "      <td>26일 국회 대정부질문에서 답변 \"민생안정 대책, 끝이 아니라 시작\"김주현 금융위원...</td>\n",
       "      <td>259</td>\n",
       "    </tr>\n",
       "    <tr>\n",
       "      <th>4</th>\n",
       "      <td>가상 화폐 (CG)[연합뉴스TV 제공]    (서울=연합뉴스) 박규리 기자 = 10...</td>\n",
       "      <td>259</td>\n",
       "    </tr>\n",
       "  </tbody>\n",
       "</table>\n",
       "</div>"
      ],
      "text/plain": [
       "                                                news  category\n",
       "0  금감원, 우리은행 횡령사고 수시검사 결과 발표10년 이상 같은 부서에서 근무…횡령 ...       259\n",
       "1  지난 25일 최문섭 NH농협손보 대표이사(앞줄 왼쪽 세번째)와 직원들이 기념촬영을 ...       259\n",
       "2  금감원 제재 수위에 관심대우일렉 인천공장 매각금 59억24억 출자전환주식 횡령정황 ...       259\n",
       "3  26일 국회 대정부질문에서 답변 \"민생안정 대책, 끝이 아니라 시작\"김주현 금융위원...       259\n",
       "4  가상 화폐 (CG)[연합뉴스TV 제공]    (서울=연합뉴스) 박규리 기자 = 10...       259"
      ]
     },
     "execution_count": 49,
     "metadata": {},
     "output_type": "execute_result"
    }
   ],
   "source": [
    "news_df2 = pd.read_pickle('news_df2.pkl')\n",
    "news_df2.head()"
   ]
  },
  {
   "cell_type": "code",
   "execution_count": 50,
   "id": "f6b2b260",
   "metadata": {},
   "outputs": [
    {
     "name": "stdout",
     "output_type": "stream",
     "text": [
      "<class 'pandas.core.frame.DataFrame'>\n",
      "Int64Index: 1460 entries, 0 to 1459\n",
      "Data columns (total 2 columns):\n",
      " #   Column    Non-Null Count  Dtype \n",
      "---  ------    --------------  ----- \n",
      " 0   news      1460 non-null   object\n",
      " 1   category  1460 non-null   int64 \n",
      "dtypes: int64(1), object(1)\n",
      "memory usage: 34.2+ KB\n",
      "None\n",
      "[259 258 261 262 260]\n"
     ]
    }
   ],
   "source": [
    "print(news_df2.info())\n",
    "print(news_df2.category.unique())"
   ]
  },
  {
   "cell_type": "code",
   "execution_count": 51,
   "id": "62c2b80e",
   "metadata": {},
   "outputs": [
    {
     "data": {
      "text/plain": [
       "251"
      ]
     },
     "execution_count": 51,
     "metadata": {},
     "output_type": "execute_result"
    }
   ],
   "source": [
    "#중복 개수 확인\n",
    "\n",
    "news_df2.duplicated(subset = \"news\").sum()"
   ]
  },
  {
   "cell_type": "code",
   "execution_count": 52,
   "id": "8fd64bf9",
   "metadata": {},
   "outputs": [
    {
     "data": {
      "text/html": [
       "<div>\n",
       "<style scoped>\n",
       "    .dataframe tbody tr th:only-of-type {\n",
       "        vertical-align: middle;\n",
       "    }\n",
       "\n",
       "    .dataframe tbody tr th {\n",
       "        vertical-align: top;\n",
       "    }\n",
       "\n",
       "    .dataframe thead th {\n",
       "        text-align: right;\n",
       "    }\n",
       "</style>\n",
       "<table border=\"1\" class=\"dataframe\">\n",
       "  <thead>\n",
       "    <tr style=\"text-align: right;\">\n",
       "      <th></th>\n",
       "      <th>news</th>\n",
       "      <th>category</th>\n",
       "    </tr>\n",
       "  </thead>\n",
       "  <tbody>\n",
       "    <tr>\n",
       "      <th>0</th>\n",
       "      <td>금감원, 우리은행 횡령사고 수시검사 결과 발표10년 이상 같은 부서에서 근무…횡령 ...</td>\n",
       "      <td>259</td>\n",
       "    </tr>\n",
       "    <tr>\n",
       "      <th>1</th>\n",
       "      <td>지난 25일 최문섭 NH농협손보 대표이사(앞줄 왼쪽 세번째)와 직원들이 기념촬영을 ...</td>\n",
       "      <td>259</td>\n",
       "    </tr>\n",
       "    <tr>\n",
       "      <th>2</th>\n",
       "      <td>금감원 제재 수위에 관심대우일렉 인천공장 매각금 59억24억 출자전환주식 횡령정황 ...</td>\n",
       "      <td>259</td>\n",
       "    </tr>\n",
       "    <tr>\n",
       "      <th>3</th>\n",
       "      <td>26일 국회 대정부질문에서 답변 \"민생안정 대책, 끝이 아니라 시작\"김주현 금융위원...</td>\n",
       "      <td>259</td>\n",
       "    </tr>\n",
       "    <tr>\n",
       "      <th>4</th>\n",
       "      <td>가상 화폐 (CG)[연합뉴스TV 제공]    (서울=연합뉴스) 박규리 기자 = 10...</td>\n",
       "      <td>259</td>\n",
       "    </tr>\n",
       "    <tr>\n",
       "      <th>...</th>\n",
       "      <td>...</td>\n",
       "      <td>...</td>\n",
       "    </tr>\n",
       "    <tr>\n",
       "      <th>1455</th>\n",
       "      <td>초고층건물·공원…'용적률 최대 3000% 허드슨야드'공중엔 브릿지, 지하엔 보행로…...</td>\n",
       "      <td>260</td>\n",
       "    </tr>\n",
       "    <tr>\n",
       "      <th>1456</th>\n",
       "      <td>작년 6∼12월 대비 올해 1∼5월 월세 1.2%↑, 전세 2.2%↓서울 시내 한 ...</td>\n",
       "      <td>260</td>\n",
       "    </tr>\n",
       "    <tr>\n",
       "      <th>1457</th>\n",
       "      <td>서울시, '용산국제업무지구 개발구상' 발표…용적률 1500% 이상 상향오세훈 \"더 ...</td>\n",
       "      <td>260</td>\n",
       "    </tr>\n",
       "    <tr>\n",
       "      <th>1458</th>\n",
       "      <td>전용 84~210㎡ 총 503가구'한화 포레나 제주에듀시티' 조감도. /한화건설 제...</td>\n",
       "      <td>260</td>\n",
       "    </tr>\n",
       "    <tr>\n",
       "      <th>1459</th>\n",
       "      <td>경기도 1만1864가구로 가장 많아…서울은 1711가구 입주부동산 R114 \"전세시...</td>\n",
       "      <td>260</td>\n",
       "    </tr>\n",
       "  </tbody>\n",
       "</table>\n",
       "<p>1209 rows × 2 columns</p>\n",
       "</div>"
      ],
      "text/plain": [
       "                                                   news  category\n",
       "0     금감원, 우리은행 횡령사고 수시검사 결과 발표10년 이상 같은 부서에서 근무…횡령 ...       259\n",
       "1     지난 25일 최문섭 NH농협손보 대표이사(앞줄 왼쪽 세번째)와 직원들이 기념촬영을 ...       259\n",
       "2     금감원 제재 수위에 관심대우일렉 인천공장 매각금 59억24억 출자전환주식 횡령정황 ...       259\n",
       "3     26일 국회 대정부질문에서 답변 \"민생안정 대책, 끝이 아니라 시작\"김주현 금융위원...       259\n",
       "4     가상 화폐 (CG)[연합뉴스TV 제공]    (서울=연합뉴스) 박규리 기자 = 10...       259\n",
       "...                                                 ...       ...\n",
       "1455  초고층건물·공원…'용적률 최대 3000% 허드슨야드'공중엔 브릿지, 지하엔 보행로…...       260\n",
       "1456  작년 6∼12월 대비 올해 1∼5월 월세 1.2%↑, 전세 2.2%↓서울 시내 한 ...       260\n",
       "1457  서울시, '용산국제업무지구 개발구상' 발표…용적률 1500% 이상 상향오세훈 \"더 ...       260\n",
       "1458  전용 84~210㎡ 총 503가구'한화 포레나 제주에듀시티' 조감도. /한화건설 제...       260\n",
       "1459  경기도 1만1864가구로 가장 많아…서울은 1711가구 입주부동산 R114 \"전세시...       260\n",
       "\n",
       "[1209 rows x 2 columns]"
      ]
     },
     "execution_count": 52,
     "metadata": {},
     "output_type": "execute_result"
    }
   ],
   "source": [
    "#중복 삭제\n",
    "\n",
    "news_df2.drop_duplicates(subset = \"news\", inplace=True)\n",
    "news_df2"
   ]
  },
  {
   "cell_type": "code",
   "execution_count": 53,
   "id": "d2a277b1",
   "metadata": {},
   "outputs": [],
   "source": [
    "###생활/문화"
   ]
  },
  {
   "cell_type": "code",
   "execution_count": 54,
   "id": "67eaec34",
   "metadata": {
    "scrolled": true
   },
   "outputs": [
    {
     "data": {
      "text/html": [
       "<div>\n",
       "<style scoped>\n",
       "    .dataframe tbody tr th:only-of-type {\n",
       "        vertical-align: middle;\n",
       "    }\n",
       "\n",
       "    .dataframe tbody tr th {\n",
       "        vertical-align: top;\n",
       "    }\n",
       "\n",
       "    .dataframe thead th {\n",
       "        text-align: right;\n",
       "    }\n",
       "</style>\n",
       "<table border=\"1\" class=\"dataframe\">\n",
       "  <thead>\n",
       "    <tr style=\"text-align: right;\">\n",
       "      <th></th>\n",
       "      <th>news</th>\n",
       "      <th>category</th>\n",
       "    </tr>\n",
       "  </thead>\n",
       "  <tbody>\n",
       "    <tr>\n",
       "      <th>0</th>\n",
       "      <td>게티이미지뱅크췌장암은 5년 생존율이 13.9%에 불과해 ‘최악의 암’을 꼽힌다(20...</td>\n",
       "      <td>241</td>\n",
       "    </tr>\n",
       "    <tr>\n",
       "      <th>1</th>\n",
       "      <td>성인 남녀 비만 인구 급증…30, 40대 남성 절반 이상이 비만, 50대 고혈압 유...</td>\n",
       "      <td>241</td>\n",
       "    </tr>\n",
       "    <tr>\n",
       "      <th>2</th>\n",
       "      <td>코로나19 신규확진자가 9만9327명으로 다시 10만명에 근접한 26일 오전 서울 ...</td>\n",
       "      <td>241</td>\n",
       "    </tr>\n",
       "    <tr>\n",
       "      <th>3</th>\n",
       "      <td>가공된 것보다 천연식품이 더 좋다는 믿음, 어릴 때 확립 가능해아이들도 천연 음식을...</td>\n",
       "      <td>241</td>\n",
       "    </tr>\n",
       "    <tr>\n",
       "      <th>4</th>\n",
       "      <td>[사진=클립아트코리아]신체의 목과 머리에 해당하는 두경부는 가장 기본 기능인 숨쉬고...</td>\n",
       "      <td>241</td>\n",
       "    </tr>\n",
       "  </tbody>\n",
       "</table>\n",
       "</div>"
      ],
      "text/plain": [
       "                                                news  category\n",
       "0  게티이미지뱅크췌장암은 5년 생존율이 13.9%에 불과해 ‘최악의 암’을 꼽힌다(20...       241\n",
       "1  성인 남녀 비만 인구 급증…30, 40대 남성 절반 이상이 비만, 50대 고혈압 유...       241\n",
       "2  코로나19 신규확진자가 9만9327명으로 다시 10만명에 근접한 26일 오전 서울 ...       241\n",
       "3  가공된 것보다 천연식품이 더 좋다는 믿음, 어릴 때 확립 가능해아이들도 천연 음식을...       241\n",
       "4  [사진=클립아트코리아]신체의 목과 머리에 해당하는 두경부는 가장 기본 기능인 숨쉬고...       241"
      ]
     },
     "execution_count": 54,
     "metadata": {},
     "output_type": "execute_result"
    }
   ],
   "source": [
    "news_df3 = pd.read_pickle('news_df3.pkl')\n",
    "news_df3.head()"
   ]
  },
  {
   "cell_type": "code",
   "execution_count": 55,
   "id": "7b6fb9f4",
   "metadata": {},
   "outputs": [
    {
     "name": "stdout",
     "output_type": "stream",
     "text": [
      "<class 'pandas.core.frame.DataFrame'>\n",
      "Int64Index: 1433 entries, 0 to 1432\n",
      "Data columns (total 2 columns):\n",
      " #   Column    Non-Null Count  Dtype \n",
      "---  ------    --------------  ----- \n",
      " 0   news      1433 non-null   object\n",
      " 1   category  1433 non-null   int64 \n",
      "dtypes: int64(1), object(1)\n",
      "memory usage: 33.6+ KB\n",
      "None\n",
      "[241 237 242 248 245 260]\n"
     ]
    }
   ],
   "source": [
    "print(news_df3.info())\n",
    "print(news_df3.category.unique())"
   ]
  },
  {
   "cell_type": "code",
   "execution_count": 56,
   "id": "84b185b3",
   "metadata": {},
   "outputs": [
    {
     "data": {
      "text/html": [
       "<div>\n",
       "<style scoped>\n",
       "    .dataframe tbody tr th:only-of-type {\n",
       "        vertical-align: middle;\n",
       "    }\n",
       "\n",
       "    .dataframe tbody tr th {\n",
       "        vertical-align: top;\n",
       "    }\n",
       "\n",
       "    .dataframe thead th {\n",
       "        text-align: right;\n",
       "    }\n",
       "</style>\n",
       "<table border=\"1\" class=\"dataframe\">\n",
       "  <thead>\n",
       "    <tr style=\"text-align: right;\">\n",
       "      <th></th>\n",
       "      <th>news</th>\n",
       "      <th>category</th>\n",
       "    </tr>\n",
       "  </thead>\n",
       "  <tbody>\n",
       "    <tr>\n",
       "      <th>1143</th>\n",
       "      <td>둔촌주공 재건축 시공사업단이 26일 조합에 사업비 대출을 상환하지 못하면 대위변...</td>\n",
       "      <td>260</td>\n",
       "    </tr>\n",
       "    <tr>\n",
       "      <th>1144</th>\n",
       "      <td>(서울=연합뉴스) 서울 한복판의 마지막 남은 '금싸라기땅'으로 불리는 용산정...</td>\n",
       "      <td>260</td>\n",
       "    </tr>\n",
       "    <tr>\n",
       "      <th>1145</th>\n",
       "      <td>(서울=연합뉴스) 서울 한복판의 마지막 남은 '금싸라기땅'으로 불리는 용산정...</td>\n",
       "      <td>260</td>\n",
       "    </tr>\n",
       "    <tr>\n",
       "      <th>1146</th>\n",
       "      <td>[앵커] 세금은 여전하고 금리는 뛰는데 미래 경기는 불안하다보니 집 거래가 꽉 막히...</td>\n",
       "      <td>260</td>\n",
       "    </tr>\n",
       "    <tr>\n",
       "      <th>1147</th>\n",
       "      <td>[용산 국제업무지구 재추진]◆총사업비 12.5조···개발 방법·재원은SH·코레일 공...</td>\n",
       "      <td>260</td>\n",
       "    </tr>\n",
       "    <tr>\n",
       "      <th>...</th>\n",
       "      <td>...</td>\n",
       "      <td>...</td>\n",
       "    </tr>\n",
       "    <tr>\n",
       "      <th>1428</th>\n",
       "      <td>오세훈 '용산국제업무지구 개발구상' 발표…'입지규제최소' 특례 적용융복합국제·녹지생...</td>\n",
       "      <td>260</td>\n",
       "    </tr>\n",
       "    <tr>\n",
       "      <th>1429</th>\n",
       "      <td>초고층건물·공원…'용적률 최대 3000% 허드슨야드'공중엔 브릿지, 지하엔 보행로…...</td>\n",
       "      <td>260</td>\n",
       "    </tr>\n",
       "    <tr>\n",
       "      <th>1430</th>\n",
       "      <td>개발 신속성 위해 국·공유지 중심 공공개발마천루·각종 시설은 규제완화 통해 민간 적...</td>\n",
       "      <td>260</td>\n",
       "    </tr>\n",
       "    <tr>\n",
       "      <th>1431</th>\n",
       "      <td>- 원자재 상승, 분양가 상한제 개편안 등 영향으로 분양가 상승 전망- 신규 공급 ...</td>\n",
       "      <td>260</td>\n",
       "    </tr>\n",
       "    <tr>\n",
       "      <th>1432</th>\n",
       "      <td>금호건설은 부패방지경영시스템에 대한 공식 인증인 'ISO37001'을 획득했다고 2...</td>\n",
       "      <td>260</td>\n",
       "    </tr>\n",
       "  </tbody>\n",
       "</table>\n",
       "<p>290 rows × 2 columns</p>\n",
       "</div>"
      ],
      "text/plain": [
       "                                                   news  category\n",
       "1143    둔촌주공 재건축 시공사업단이 26일 조합에 사업비 대출을 상환하지 못하면 대위변...       260\n",
       "1144      (서울=연합뉴스) 서울 한복판의 마지막 남은 '금싸라기땅'으로 불리는 용산정...       260\n",
       "1145      (서울=연합뉴스) 서울 한복판의 마지막 남은 '금싸라기땅'으로 불리는 용산정...       260\n",
       "1146  [앵커] 세금은 여전하고 금리는 뛰는데 미래 경기는 불안하다보니 집 거래가 꽉 막히...       260\n",
       "1147  [용산 국제업무지구 재추진]◆총사업비 12.5조···개발 방법·재원은SH·코레일 공...       260\n",
       "...                                                 ...       ...\n",
       "1428  오세훈 '용산국제업무지구 개발구상' 발표…'입지규제최소' 특례 적용융복합국제·녹지생...       260\n",
       "1429  초고층건물·공원…'용적률 최대 3000% 허드슨야드'공중엔 브릿지, 지하엔 보행로…...       260\n",
       "1430  개발 신속성 위해 국·공유지 중심 공공개발마천루·각종 시설은 규제완화 통해 민간 적...       260\n",
       "1431  - 원자재 상승, 분양가 상한제 개편안 등 영향으로 분양가 상승 전망- 신규 공급 ...       260\n",
       "1432  금호건설은 부패방지경영시스템에 대한 공식 인증인 'ISO37001'을 획득했다고 2...       260\n",
       "\n",
       "[290 rows x 2 columns]"
      ]
     },
     "execution_count": 56,
     "metadata": {},
     "output_type": "execute_result"
    }
   ],
   "source": [
    "cate_260 = news_df3[news_df3['category']==260]\n",
    "cate_260"
   ]
  },
  {
   "cell_type": "code",
   "execution_count": 57,
   "id": "0f7a4234",
   "metadata": {},
   "outputs": [],
   "source": [
    "news_df3.drop(cate_260.index, inplace=True)   #잘못 들어간 부동산 데이터 삭제"
   ]
  },
  {
   "cell_type": "code",
   "execution_count": 58,
   "id": "cbd5bb32",
   "metadata": {},
   "outputs": [
    {
     "data": {
      "text/html": [
       "<div>\n",
       "<style scoped>\n",
       "    .dataframe tbody tr th:only-of-type {\n",
       "        vertical-align: middle;\n",
       "    }\n",
       "\n",
       "    .dataframe tbody tr th {\n",
       "        vertical-align: top;\n",
       "    }\n",
       "\n",
       "    .dataframe thead th {\n",
       "        text-align: right;\n",
       "    }\n",
       "</style>\n",
       "<table border=\"1\" class=\"dataframe\">\n",
       "  <thead>\n",
       "    <tr style=\"text-align: right;\">\n",
       "      <th></th>\n",
       "      <th>news</th>\n",
       "      <th>category</th>\n",
       "    </tr>\n",
       "  </thead>\n",
       "  <tbody>\n",
       "  </tbody>\n",
       "</table>\n",
       "</div>"
      ],
      "text/plain": [
       "Empty DataFrame\n",
       "Columns: [news, category]\n",
       "Index: []"
      ]
     },
     "execution_count": 58,
     "metadata": {},
     "output_type": "execute_result"
    }
   ],
   "source": [
    "cate_260 = news_df3[news_df3['category']==260]\n",
    "cate_260"
   ]
  },
  {
   "cell_type": "code",
   "execution_count": 59,
   "id": "87adc6e9",
   "metadata": {},
   "outputs": [
    {
     "data": {
      "text/plain": [
       "397"
      ]
     },
     "execution_count": 59,
     "metadata": {},
     "output_type": "execute_result"
    }
   ],
   "source": [
    "#중복 확인\n",
    "\n",
    "news_df3.duplicated(subset = \"news\").sum()"
   ]
  },
  {
   "cell_type": "code",
   "execution_count": 60,
   "id": "fdcc46fc",
   "metadata": {},
   "outputs": [
    {
     "name": "stdout",
     "output_type": "stream",
     "text": [
      "<class 'pandas.core.frame.DataFrame'>\n",
      "Int64Index: 746 entries, 0 to 1142\n",
      "Data columns (total 2 columns):\n",
      " #   Column    Non-Null Count  Dtype \n",
      "---  ------    --------------  ----- \n",
      " 0   news      746 non-null    object\n",
      " 1   category  746 non-null    int64 \n",
      "dtypes: int64(1), object(1)\n",
      "memory usage: 17.5+ KB\n"
     ]
    }
   ],
   "source": [
    "#중복 삭제\n",
    "\n",
    "news_df3.drop_duplicates(subset = \"news\", inplace = True)\n",
    "news_df3.info()"
   ]
  },
  {
   "cell_type": "code",
   "execution_count": 61,
   "id": "45aa87e9",
   "metadata": {},
   "outputs": [],
   "source": [
    "###IT/과학"
   ]
  },
  {
   "cell_type": "code",
   "execution_count": 62,
   "id": "fc5f290b",
   "metadata": {
    "scrolled": true
   },
   "outputs": [
    {
     "data": {
      "text/html": [
       "<div>\n",
       "<style scoped>\n",
       "    .dataframe tbody tr th:only-of-type {\n",
       "        vertical-align: middle;\n",
       "    }\n",
       "\n",
       "    .dataframe tbody tr th {\n",
       "        vertical-align: top;\n",
       "    }\n",
       "\n",
       "    .dataframe thead th {\n",
       "        text-align: right;\n",
       "    }\n",
       "</style>\n",
       "<table border=\"1\" class=\"dataframe\">\n",
       "  <thead>\n",
       "    <tr style=\"text-align: right;\">\n",
       "      <th></th>\n",
       "      <th>news</th>\n",
       "      <th>category</th>\n",
       "    </tr>\n",
       "  </thead>\n",
       "  <tbody>\n",
       "    <tr>\n",
       "      <th>0</th>\n",
       "      <td>17년차 마케팅 달인 유두호 CMO다양한 비즈니스 귀재 이기호 CPO개발업무 총괄하...</td>\n",
       "      <td>227</td>\n",
       "    </tr>\n",
       "    <tr>\n",
       "      <th>1</th>\n",
       "      <td>캄보디아 IT 인재 육성 10년졸업생은 '현지 최고 인재'우수 인재는 자회사 채용해...</td>\n",
       "      <td>227</td>\n",
       "    </tr>\n",
       "    <tr>\n",
       "      <th>2</th>\n",
       "      <td>KB국민·신한·하나·NH농협 등 알뜰폰 진출 잇따라...토스 9월 진출 준비금융당국...</td>\n",
       "      <td>227</td>\n",
       "    </tr>\n",
       "    <tr>\n",
       "      <th>3</th>\n",
       "      <td>개인정보위, 1기 리더 발대식윤종인 개인정보보호위원회 위원장이 7월 26일 오후 정...</td>\n",
       "      <td>227</td>\n",
       "    </tr>\n",
       "    <tr>\n",
       "      <th>4</th>\n",
       "      <td>스카이TV가 '이상한 변호사 우영우'를 이을 하반기 ENA 채널 드라마 라인업을 공...</td>\n",
       "      <td>227</td>\n",
       "    </tr>\n",
       "  </tbody>\n",
       "</table>\n",
       "</div>"
      ],
      "text/plain": [
       "                                                news  category\n",
       "0  17년차 마케팅 달인 유두호 CMO다양한 비즈니스 귀재 이기호 CPO개발업무 총괄하...       227\n",
       "1  캄보디아 IT 인재 육성 10년졸업생은 '현지 최고 인재'우수 인재는 자회사 채용해...       227\n",
       "2  KB국민·신한·하나·NH농협 등 알뜰폰 진출 잇따라...토스 9월 진출 준비금융당국...       227\n",
       "3  개인정보위, 1기 리더 발대식윤종인 개인정보보호위원회 위원장이 7월 26일 오후 정...       227\n",
       "4  스카이TV가 '이상한 변호사 우영우'를 이을 하반기 ENA 채널 드라마 라인업을 공...       227"
      ]
     },
     "execution_count": 62,
     "metadata": {},
     "output_type": "execute_result"
    }
   ],
   "source": [
    "news_df4 = pd.read_pickle('news_df4.pkl')\n",
    "news_df4.head()"
   ]
  },
  {
   "cell_type": "code",
   "execution_count": 23,
   "id": "37d87fe4",
   "metadata": {},
   "outputs": [
    {
     "name": "stdout",
     "output_type": "stream",
     "text": [
      "<class 'pandas.core.frame.DataFrame'>\n",
      "Int64Index: 845 entries, 0 to 844\n",
      "Data columns (total 2 columns):\n",
      " #   Column    Non-Null Count  Dtype \n",
      "---  ------    --------------  ----- \n",
      " 0   news      845 non-null    object\n",
      " 1   category  845 non-null    int64 \n",
      "dtypes: int64(1), object(1)\n",
      "memory usage: 19.8+ KB\n",
      "None\n",
      "[227 230 283 228]\n"
     ]
    }
   ],
   "source": [
    "print(news_df4.info())\n",
    "print(news_df4.category.unique())\n"
   ]
  },
  {
   "cell_type": "code",
   "execution_count": 63,
   "id": "82e43174",
   "metadata": {},
   "outputs": [
    {
     "data": {
      "text/plain": [
       "337"
      ]
     },
     "execution_count": 63,
     "metadata": {},
     "output_type": "execute_result"
    }
   ],
   "source": [
    "# 중복 확인\n",
    "\n",
    "news_df4.duplicated(subset = 'news').sum()"
   ]
  },
  {
   "cell_type": "code",
   "execution_count": 64,
   "id": "c0548a07",
   "metadata": {
    "scrolled": true
   },
   "outputs": [
    {
     "name": "stdout",
     "output_type": "stream",
     "text": [
      "<class 'pandas.core.frame.DataFrame'>\n",
      "Int64Index: 508 entries, 0 to 754\n",
      "Data columns (total 2 columns):\n",
      " #   Column    Non-Null Count  Dtype \n",
      "---  ------    --------------  ----- \n",
      " 0   news      508 non-null    object\n",
      " 1   category  508 non-null    int64 \n",
      "dtypes: int64(1), object(1)\n",
      "memory usage: 11.9+ KB\n"
     ]
    }
   ],
   "source": [
    "#중복 삭제\n",
    "\n",
    "news_df4.drop_duplicates(subset = 'news', inplace = True)\n",
    "news_df4.info()"
   ]
  },
  {
   "cell_type": "code",
   "execution_count": 65,
   "id": "33d7acf3",
   "metadata": {},
   "outputs": [
    {
     "data": {
      "text/html": [
       "<div>\n",
       "<style scoped>\n",
       "    .dataframe tbody tr th:only-of-type {\n",
       "        vertical-align: middle;\n",
       "    }\n",
       "\n",
       "    .dataframe tbody tr th {\n",
       "        vertical-align: top;\n",
       "    }\n",
       "\n",
       "    .dataframe thead th {\n",
       "        text-align: right;\n",
       "    }\n",
       "</style>\n",
       "<table border=\"1\" class=\"dataframe\">\n",
       "  <thead>\n",
       "    <tr style=\"text-align: right;\">\n",
       "      <th></th>\n",
       "      <th>news</th>\n",
       "      <th>category</th>\n",
       "    </tr>\n",
       "  </thead>\n",
       "  <tbody>\n",
       "    <tr>\n",
       "      <th>0</th>\n",
       "      <td>“당 대표 바뀌니 (당이) 달라져”권성동에 보낸 문자메시지 포착이준석에 불편했던 심...</td>\n",
       "      <td>264</td>\n",
       "    </tr>\n",
       "    <tr>\n",
       "      <th>1</th>\n",
       "      <td>\"민생 챙기기보다 당무개입 우선인가…기가 막힌다\"박용진 \"좌표부대 총사령관 尹\"…정...</td>\n",
       "      <td>264</td>\n",
       "    </tr>\n",
       "    <tr>\n",
       "      <th>2</th>\n",
       "      <td>국회 본회의장서 尹과 문자…대화 내용 언론에 포착\"이유 막론하고 당원동지들, 국민께...</td>\n",
       "      <td>264</td>\n",
       "    </tr>\n",
       "    <tr>\n",
       "      <th>3</th>\n",
       "      <td>26일 오후 국회 본회의장에서 열린 제 398회 임시회 6차 본회의 대정부 질문 도...</td>\n",
       "      <td>264</td>\n",
       "    </tr>\n",
       "    <tr>\n",
       "      <th>4</th>\n",
       "      <td>6월 28일 추모 음악회 참석 감사 편지에 답장故(고) 심정민 소령, 김건희 여사....</td>\n",
       "      <td>264</td>\n",
       "    </tr>\n",
       "  </tbody>\n",
       "</table>\n",
       "</div>"
      ],
      "text/plain": [
       "                                                news  category\n",
       "0  “당 대표 바뀌니 (당이) 달라져”권성동에 보낸 문자메시지 포착이준석에 불편했던 심...       264\n",
       "1  \"민생 챙기기보다 당무개입 우선인가…기가 막힌다\"박용진 \"좌표부대 총사령관 尹\"…정...       264\n",
       "2  국회 본회의장서 尹과 문자…대화 내용 언론에 포착\"이유 막론하고 당원동지들, 국민께...       264\n",
       "3  26일 오후 국회 본회의장에서 열린 제 398회 임시회 6차 본회의 대정부 질문 도...       264\n",
       "4  6월 28일 추모 음악회 참석 감사 편지에 답장故(고) 심정민 소령, 김건희 여사....       264"
      ]
     },
     "execution_count": 65,
     "metadata": {},
     "output_type": "execute_result"
    }
   ],
   "source": [
    "#데이터프레임 합치기\n",
    "import warnings\n",
    "warnings.filterwarnings('ignore')\n",
    "\n",
    "news_df = news_df1.append(news_df2).append(news_df3).append(news_df4).reset_index()     #인덱스 리셋\n",
    "news_df.drop('index', axis = 1, inplace = True)     #리셋후 컬럼이 된 인덱스 열 삭제\n",
    "news_df.head()"
   ]
  },
  {
   "cell_type": "code",
   "execution_count": 66,
   "id": "256c3484",
   "metadata": {},
   "outputs": [
    {
     "name": "stdout",
     "output_type": "stream",
     "text": [
      "<class 'pandas.core.frame.DataFrame'>\n",
      "RangeIndex: 3145 entries, 0 to 3144\n",
      "Data columns (total 2 columns):\n",
      " #   Column    Non-Null Count  Dtype \n",
      "---  ------    --------------  ----- \n",
      " 0   news      3145 non-null   object\n",
      " 1   category  3145 non-null   int64 \n",
      "dtypes: int64(1), object(1)\n",
      "memory usage: 49.3+ KB\n"
     ]
    }
   ],
   "source": [
    "#총 데이터 개수 확인\n",
    "\n",
    "news_df.info()"
   ]
  },
  {
   "cell_type": "code",
   "execution_count": 67,
   "id": "9144e7a6",
   "metadata": {},
   "outputs": [
    {
     "data": {
      "text/plain": [
       "array([264, 265, 268, 267, 259, 258, 261, 262, 260, 241, 237, 242, 248,\n",
       "       245, 227, 230, 283, 228], dtype=int64)"
      ]
     },
     "execution_count": 67,
     "metadata": {},
     "output_type": "execute_result"
    }
   ],
   "source": [
    "#카테고리 종류 확인\n",
    "\n",
    "news_df.category.unique()"
   ]
  },
  {
   "cell_type": "markdown",
   "id": "0bd908b3",
   "metadata": {},
   "source": [
    "\n",
    "- 카테고리 정의\n",
    "    - 100 정치\n",
    "        - (청와대[264] + 국회/정당[265] + 북한[268] + 국방/외교[267])\n",
    "\n",
    "    - 101 경제\n",
    "        - (금융[259] + 증권[258] + 산업/재계[261] + 글로벌 경제[262] + 부동산[260])\n",
    "\n",
    "    - 103 생활/문화\n",
    "        - (건강정보[241] + 여행/레저[237] + 공연/전시[242] + 날씨[248] + 생활문화 일반[245])\n",
    "\n",
    "    - 105 IT/과학\n",
    "        - (통신/뉴미디어[227] + IT 일반[230] + 컴퓨터[283] + 과학 일반[228])"
   ]
  },
  {
   "cell_type": "code",
   "execution_count": 77,
   "id": "4b7c9576",
   "metadata": {
    "scrolled": true
   },
   "outputs": [
    {
     "data": {
      "text/html": [
       "<div>\n",
       "<style scoped>\n",
       "    .dataframe tbody tr th:only-of-type {\n",
       "        vertical-align: middle;\n",
       "    }\n",
       "\n",
       "    .dataframe tbody tr th {\n",
       "        vertical-align: top;\n",
       "    }\n",
       "\n",
       "    .dataframe thead th {\n",
       "        text-align: right;\n",
       "    }\n",
       "</style>\n",
       "<table border=\"1\" class=\"dataframe\">\n",
       "  <thead>\n",
       "    <tr style=\"text-align: right;\">\n",
       "      <th></th>\n",
       "      <th>news</th>\n",
       "      <th>category</th>\n",
       "      <th>main_cate</th>\n",
       "    </tr>\n",
       "  </thead>\n",
       "  <tbody>\n",
       "    <tr>\n",
       "      <th>0</th>\n",
       "      <td>“당 대표 바뀌니 (당이) 달라져”권성동에 보낸 문자메시지 포착이준석에 불편했던 심...</td>\n",
       "      <td>264</td>\n",
       "      <td>정치</td>\n",
       "    </tr>\n",
       "    <tr>\n",
       "      <th>1</th>\n",
       "      <td>\"민생 챙기기보다 당무개입 우선인가…기가 막힌다\"박용진 \"좌표부대 총사령관 尹\"…정...</td>\n",
       "      <td>264</td>\n",
       "      <td>정치</td>\n",
       "    </tr>\n",
       "    <tr>\n",
       "      <th>2</th>\n",
       "      <td>국회 본회의장서 尹과 문자…대화 내용 언론에 포착\"이유 막론하고 당원동지들, 국민께...</td>\n",
       "      <td>264</td>\n",
       "      <td>정치</td>\n",
       "    </tr>\n",
       "    <tr>\n",
       "      <th>3</th>\n",
       "      <td>26일 오후 국회 본회의장에서 열린 제 398회 임시회 6차 본회의 대정부 질문 도...</td>\n",
       "      <td>264</td>\n",
       "      <td>정치</td>\n",
       "    </tr>\n",
       "    <tr>\n",
       "      <th>4</th>\n",
       "      <td>6월 28일 추모 음악회 참석 감사 편지에 답장故(고) 심정민 소령, 김건희 여사....</td>\n",
       "      <td>264</td>\n",
       "      <td>정치</td>\n",
       "    </tr>\n",
       "    <tr>\n",
       "      <th>...</th>\n",
       "      <td>...</td>\n",
       "      <td>...</td>\n",
       "      <td>...</td>\n",
       "    </tr>\n",
       "    <tr>\n",
       "      <th>3140</th>\n",
       "      <td>IBS 연구팀, \"수십 년간 베일에 쌓여 있던 반도체 나노클러스터 구조 밝혀\"원자 ...</td>\n",
       "      <td>228</td>\n",
       "      <td>IT/과학</td>\n",
       "    </tr>\n",
       "    <tr>\n",
       "      <th>3141</th>\n",
       "      <td>동물연구서 안전성 등 확인크리스탈지노믹스는 제이앤씨사이언스와 코로나19 치료제 후보...</td>\n",
       "      <td>228</td>\n",
       "      <td>IT/과학</td>\n",
       "    </tr>\n",
       "    <tr>\n",
       "      <th>3142</th>\n",
       "      <td>지난달 인천공항 제1터미널 입국장 TV에 원숭이두창 관련 뉴스가 나오고 있다. /뉴...</td>\n",
       "      <td>228</td>\n",
       "      <td>IT/과학</td>\n",
       "    </tr>\n",
       "    <tr>\n",
       "      <th>3143</th>\n",
       "      <td>생물진화 40억년사 밝힌 '자연은 어떻게 발명하는가' 출간 (서울=연합뉴스) 송광호...</td>\n",
       "      <td>228</td>\n",
       "      <td>IT/과학</td>\n",
       "    </tr>\n",
       "    <tr>\n",
       "      <th>3144</th>\n",
       "      <td>IBS 나노입자 연구단, 관련 연구 논문 발표수십 년 동안 베일에 싸였던 세상에서 ...</td>\n",
       "      <td>228</td>\n",
       "      <td>IT/과학</td>\n",
       "    </tr>\n",
       "  </tbody>\n",
       "</table>\n",
       "<p>3145 rows × 3 columns</p>\n",
       "</div>"
      ],
      "text/plain": [
       "                                                   news  category main_cate\n",
       "0     “당 대표 바뀌니 (당이) 달라져”권성동에 보낸 문자메시지 포착이준석에 불편했던 심...       264        정치\n",
       "1     \"민생 챙기기보다 당무개입 우선인가…기가 막힌다\"박용진 \"좌표부대 총사령관 尹\"…정...       264        정치\n",
       "2     국회 본회의장서 尹과 문자…대화 내용 언론에 포착\"이유 막론하고 당원동지들, 국민께...       264        정치\n",
       "3     26일 오후 국회 본회의장에서 열린 제 398회 임시회 6차 본회의 대정부 질문 도...       264        정치\n",
       "4     6월 28일 추모 음악회 참석 감사 편지에 답장故(고) 심정민 소령, 김건희 여사....       264        정치\n",
       "...                                                 ...       ...       ...\n",
       "3140  IBS 연구팀, \"수십 년간 베일에 쌓여 있던 반도체 나노클러스터 구조 밝혀\"원자 ...       228     IT/과학\n",
       "3141  동물연구서 안전성 등 확인크리스탈지노믹스는 제이앤씨사이언스와 코로나19 치료제 후보...       228     IT/과학\n",
       "3142  지난달 인천공항 제1터미널 입국장 TV에 원숭이두창 관련 뉴스가 나오고 있다. /뉴...       228     IT/과학\n",
       "3143  생물진화 40억년사 밝힌 '자연은 어떻게 발명하는가' 출간 (서울=연합뉴스) 송광호...       228     IT/과학\n",
       "3144  IBS 나노입자 연구단, 관련 연구 논문 발표수십 년 동안 베일에 싸였던 세상에서 ...       228     IT/과학\n",
       "\n",
       "[3145 rows x 3 columns]"
      ]
     },
     "execution_count": 77,
     "metadata": {},
     "output_type": "execute_result"
    }
   ],
   "source": [
    "#메인 카테고리 분류\n",
    "import numpy as np\n",
    "\n",
    "news_df['main_cate'] = np.nan\n",
    "\n",
    "for i in range(len(news_df)):\n",
    "    \n",
    "    if news_df.loc[i, 'category'] in [264,265,268,267]:\n",
    "        news_df.loc[i, 'main_cate'] = '정치'\n",
    "        \n",
    "    elif news_df.loc[i, 'category'] in [259,258,261,262,260]:\n",
    "        news_df.loc[i, 'main_cate'] = '경제'\n",
    "        \n",
    "    elif news_df.loc[i, 'category'] in [241,237,242,248,245]:\n",
    "        news_df.loc[i, 'main_cate'] = '생활/문화'\n",
    "        \n",
    "    elif news_df.loc[i, 'category'] in [227,230,283,228]:\n",
    "        news_df.loc[i, 'main_cate'] = 'IT/과학'\n",
    "\n",
    "news_df"
   ]
  },
  {
   "cell_type": "code",
   "execution_count": 80,
   "id": "dd111e9a",
   "metadata": {},
   "outputs": [
    {
     "data": {
      "text/html": [
       "<div>\n",
       "<style scoped>\n",
       "    .dataframe tbody tr th:only-of-type {\n",
       "        vertical-align: middle;\n",
       "    }\n",
       "\n",
       "    .dataframe tbody tr th {\n",
       "        vertical-align: top;\n",
       "    }\n",
       "\n",
       "    .dataframe thead th {\n",
       "        text-align: right;\n",
       "    }\n",
       "</style>\n",
       "<table border=\"1\" class=\"dataframe\">\n",
       "  <thead>\n",
       "    <tr style=\"text-align: right;\">\n",
       "      <th></th>\n",
       "      <th>news</th>\n",
       "      <th>category</th>\n",
       "      <th>main_cate</th>\n",
       "    </tr>\n",
       "  </thead>\n",
       "  <tbody>\n",
       "    <tr>\n",
       "      <th>0</th>\n",
       "      <td>“당 대표 바뀌니 (당이) 달라져”권성동에 보낸 문자메시지 포착이준석에 불편했던 심...</td>\n",
       "      <td>264</td>\n",
       "      <td>정치</td>\n",
       "    </tr>\n",
       "    <tr>\n",
       "      <th>1</th>\n",
       "      <td>\"민생 챙기기보다 당무개입 우선인가…기가 막힌다\"박용진 \"좌표부대 총사령관 尹\"…정...</td>\n",
       "      <td>264</td>\n",
       "      <td>정치</td>\n",
       "    </tr>\n",
       "    <tr>\n",
       "      <th>2</th>\n",
       "      <td>국회 본회의장서 尹과 문자…대화 내용 언론에 포착\"이유 막론하고 당원동지들, 국민께...</td>\n",
       "      <td>264</td>\n",
       "      <td>정치</td>\n",
       "    </tr>\n",
       "    <tr>\n",
       "      <th>3</th>\n",
       "      <td>26일 오후 국회 본회의장에서 열린 제 398회 임시회 6차 본회의 대정부 질문 도...</td>\n",
       "      <td>264</td>\n",
       "      <td>정치</td>\n",
       "    </tr>\n",
       "    <tr>\n",
       "      <th>4</th>\n",
       "      <td>6월 28일 추모 음악회 참석 감사 편지에 답장故(고) 심정민 소령, 김건희 여사....</td>\n",
       "      <td>264</td>\n",
       "      <td>정치</td>\n",
       "    </tr>\n",
       "    <tr>\n",
       "      <th>5</th>\n",
       "      <td>尹 \"내부 총질이나 하던 당 대표\"…'윤심 개입설' 재점화 가능성문자하는 권성동 당...</td>\n",
       "      <td>264</td>\n",
       "      <td>정치</td>\n",
       "    </tr>\n",
       "    <tr>\n",
       "      <th>6</th>\n",
       "      <td>尹대통령 \"경찰국서 인사·경찰 제도 개선…장관-경찰 지휘부 소통\"이상민 \"반발은 정...</td>\n",
       "      <td>264</td>\n",
       "      <td>정치</td>\n",
       "    </tr>\n",
       "    <tr>\n",
       "      <th>7</th>\n",
       "      <td>경제분야 대정부질문 野 공세 막아선  한덕수병사 월급 200만원 등 일부 공약 속도...</td>\n",
       "      <td>264</td>\n",
       "      <td>정치</td>\n",
       "    </tr>\n",
       "    <tr>\n",
       "      <th>8</th>\n",
       "      <td>26일 오후 국회 본회의장에서 열린 제 398회 임시회 6차 본회의 대정부 질문도중...</td>\n",
       "      <td>264</td>\n",
       "      <td>정치</td>\n",
       "    </tr>\n",
       "    <tr>\n",
       "      <th>9</th>\n",
       "      <td>불편한 심기 드러낸 듯…앞서 李 윤리위 중징계에 \"조폭\" 비판'친유계' 김웅도 페이...</td>\n",
       "      <td>264</td>\n",
       "      <td>정치</td>\n",
       "    </tr>\n",
       "    <tr>\n",
       "      <th>10</th>\n",
       "      <td>26일 대정부 질문이 열리는 국회에서 권성동 국민의힘 대표 직무대행 겸 원내대표가...</td>\n",
       "      <td>264</td>\n",
       "      <td>정치</td>\n",
       "    </tr>\n",
       "    <tr>\n",
       "      <th>11</th>\n",
       "      <td>[뉴스리뷰][앵커] 윤석열 대통령이 '최측근'인 한동훈 법무부 장관, 이상민 행정안...</td>\n",
       "      <td>264</td>\n",
       "      <td>정치</td>\n",
       "    </tr>\n",
       "    <tr>\n",
       "      <th>12</th>\n",
       "      <td>권성동 국민의힘 대표 직무대행 겸 원내대표가 26일 오전 서울 여의도 국회에서 열린...</td>\n",
       "      <td>264</td>\n",
       "      <td>정치</td>\n",
       "    </tr>\n",
       "    <tr>\n",
       "      <th>13</th>\n",
       "      <td>윤석열 대통령이 이준석 국민의힘 대표에 대해 \"내부 총질이나 하던 당 대표\"라고 표...</td>\n",
       "      <td>264</td>\n",
       "      <td>정치</td>\n",
       "    </tr>\n",
       "    <tr>\n",
       "      <th>14</th>\n",
       "      <td>윤대통령 문자보도 50여분 뒤 SNS 게시하면서도 직접 반응 없어울릉도 방문한 이준...</td>\n",
       "      <td>264</td>\n",
       "      <td>정치</td>\n",
       "    </tr>\n",
       "    <tr>\n",
       "      <th>15</th>\n",
       "      <td>홍성국 대정부질문서 \"50억 때문에 안 하겠다는 얘기냐\"총리 \"분명히 말씀드린다. ...</td>\n",
       "      <td>264</td>\n",
       "      <td>정치</td>\n",
       "    </tr>\n",
       "    <tr>\n",
       "      <th>16</th>\n",
       "      <td>권성동 국민의힘 대표 직무대행 겸 원내대표가 26일 오전 서울 여의도 국회에서 열린...</td>\n",
       "      <td>264</td>\n",
       "      <td>정치</td>\n",
       "    </tr>\n",
       "    <tr>\n",
       "      <th>17</th>\n",
       "      <td>26일 오후 국회 본회의장에서 열린 제 398회 임시회 6차 본회의 대정부 질문 도...</td>\n",
       "      <td>264</td>\n",
       "      <td>정치</td>\n",
       "    </tr>\n",
       "    <tr>\n",
       "      <th>18</th>\n",
       "      <td>[뉴스리뷰][앵커]행정안전부 경찰국 신설을 위한 시행령 개정안이 오늘(26일) 국무...</td>\n",
       "      <td>264</td>\n",
       "      <td>정치</td>\n",
       "    </tr>\n",
       "    <tr>\n",
       "      <th>19</th>\n",
       "      <td>'내부총질' 문자 보도 50여분 지나도 언급 없이 \"울릉도\"\"사동항 잘 자리잡는 게...</td>\n",
       "      <td>264</td>\n",
       "      <td>정치</td>\n",
       "    </tr>\n",
       "  </tbody>\n",
       "</table>\n",
       "</div>"
      ],
      "text/plain": [
       "                                                 news  category main_cate\n",
       "0   “당 대표 바뀌니 (당이) 달라져”권성동에 보낸 문자메시지 포착이준석에 불편했던 심...       264        정치\n",
       "1   \"민생 챙기기보다 당무개입 우선인가…기가 막힌다\"박용진 \"좌표부대 총사령관 尹\"…정...       264        정치\n",
       "2   국회 본회의장서 尹과 문자…대화 내용 언론에 포착\"이유 막론하고 당원동지들, 국민께...       264        정치\n",
       "3   26일 오후 국회 본회의장에서 열린 제 398회 임시회 6차 본회의 대정부 질문 도...       264        정치\n",
       "4   6월 28일 추모 음악회 참석 감사 편지에 답장故(고) 심정민 소령, 김건희 여사....       264        정치\n",
       "5   尹 \"내부 총질이나 하던 당 대표\"…'윤심 개입설' 재점화 가능성문자하는 권성동 당...       264        정치\n",
       "6   尹대통령 \"경찰국서 인사·경찰 제도 개선…장관-경찰 지휘부 소통\"이상민 \"반발은 정...       264        정치\n",
       "7   경제분야 대정부질문 野 공세 막아선  한덕수병사 월급 200만원 등 일부 공약 속도...       264        정치\n",
       "8   26일 오후 국회 본회의장에서 열린 제 398회 임시회 6차 본회의 대정부 질문도중...       264        정치\n",
       "9   불편한 심기 드러낸 듯…앞서 李 윤리위 중징계에 \"조폭\" 비판'친유계' 김웅도 페이...       264        정치\n",
       "10   26일 대정부 질문이 열리는 국회에서 권성동 국민의힘 대표 직무대행 겸 원내대표가...       264        정치\n",
       "11  [뉴스리뷰][앵커] 윤석열 대통령이 '최측근'인 한동훈 법무부 장관, 이상민 행정안...       264        정치\n",
       "12  권성동 국민의힘 대표 직무대행 겸 원내대표가 26일 오전 서울 여의도 국회에서 열린...       264        정치\n",
       "13  윤석열 대통령이 이준석 국민의힘 대표에 대해 \"내부 총질이나 하던 당 대표\"라고 표...       264        정치\n",
       "14  윤대통령 문자보도 50여분 뒤 SNS 게시하면서도 직접 반응 없어울릉도 방문한 이준...       264        정치\n",
       "15  홍성국 대정부질문서 \"50억 때문에 안 하겠다는 얘기냐\"총리 \"분명히 말씀드린다. ...       264        정치\n",
       "16  권성동 국민의힘 대표 직무대행 겸 원내대표가 26일 오전 서울 여의도 국회에서 열린...       264        정치\n",
       "17  26일 오후 국회 본회의장에서 열린 제 398회 임시회 6차 본회의 대정부 질문 도...       264        정치\n",
       "18  [뉴스리뷰][앵커]행정안전부 경찰국 신설을 위한 시행령 개정안이 오늘(26일) 국무...       264        정치\n",
       "19  '내부총질' 문자 보도 50여분 지나도 언급 없이 \"울릉도\"\"사동항 잘 자리잡는 게...       264        정치"
      ]
     },
     "execution_count": 80,
     "metadata": {},
     "output_type": "execute_result"
    }
   ],
   "source": [
    "news_df[:20]"
   ]
  },
  {
   "cell_type": "code",
   "execution_count": 85,
   "id": "ef37e40f",
   "metadata": {},
   "outputs": [
    {
     "data": {
      "text/html": [
       "<div>\n",
       "<style scoped>\n",
       "    .dataframe tbody tr th:only-of-type {\n",
       "        vertical-align: middle;\n",
       "    }\n",
       "\n",
       "    .dataframe tbody tr th {\n",
       "        vertical-align: top;\n",
       "    }\n",
       "\n",
       "    .dataframe thead th {\n",
       "        text-align: right;\n",
       "    }\n",
       "</style>\n",
       "<table border=\"1\" class=\"dataframe\">\n",
       "  <thead>\n",
       "    <tr style=\"text-align: right;\">\n",
       "      <th></th>\n",
       "      <th>news</th>\n",
       "      <th>category</th>\n",
       "      <th>main_cate</th>\n",
       "    </tr>\n",
       "  </thead>\n",
       "  <tbody>\n",
       "    <tr>\n",
       "      <th>0</th>\n",
       "      <td>“당 대표 바뀌니   이 대표를 징계하고 내치는데 배후 역할을 맡지 않으셨나 의구심...</td>\n",
       "      <td>264</td>\n",
       "      <td>정치</td>\n",
       "    </tr>\n",
       "    <tr>\n",
       "      <th>1</th>\n",
       "      <td>\"민생 챙기기보다 당무개입 우선인가…기가 막힌다\"박용진 \"좌표부대 총사령관 尹\"…정...</td>\n",
       "      <td>264</td>\n",
       "      <td>정치</td>\n",
       "    </tr>\n",
       "    <tr>\n",
       "      <th>2</th>\n",
       "      <td>국회 본회의장서 尹과 문자…대화 내용 언론에 포착\"이유 막론하고 당원동지들, 국민께...</td>\n",
       "      <td>264</td>\n",
       "      <td>정치</td>\n",
       "    </tr>\n",
       "    <tr>\n",
       "      <th>3</th>\n",
       "      <td>26일 오후 국회 본회의장에서 열린 제 398회 임시회 6차 본회의 대정부 질문 도...</td>\n",
       "      <td>264</td>\n",
       "      <td>정치</td>\n",
       "    </tr>\n",
       "    <tr>\n",
       "      <th>4</th>\n",
       "      <td>6월 28일 추모 음악회 참석 감사 편지에 답장故  심정민 소령 유족에게 윤석열 대...</td>\n",
       "      <td>264</td>\n",
       "      <td>정치</td>\n",
       "    </tr>\n",
       "    <tr>\n",
       "      <th>...</th>\n",
       "      <td>...</td>\n",
       "      <td>...</td>\n",
       "      <td>...</td>\n",
       "    </tr>\n",
       "    <tr>\n",
       "      <th>3140</th>\n",
       "      <td>IBS 연구팀, \"수십 년간 베일에 쌓여 있던 반도체 나노클러스터 구조 밝혀\"원자 ...</td>\n",
       "      <td>228</td>\n",
       "      <td>IT/과학</td>\n",
       "    </tr>\n",
       "    <tr>\n",
       "      <th>3141</th>\n",
       "      <td>동물연구서 안전성 등 확인크리스탈지노믹스는 제이앤씨사이언스와 코로나19 치료제 후보...</td>\n",
       "      <td>228</td>\n",
       "      <td>IT/과학</td>\n",
       "    </tr>\n",
       "    <tr>\n",
       "      <th>3142</th>\n",
       "      <td>지난달 인천공항 제1터미널 입국장 TV에 원숭이두창 관련 뉴스가 나오고 있다. /뉴...</td>\n",
       "      <td>228</td>\n",
       "      <td>IT/과학</td>\n",
       "    </tr>\n",
       "    <tr>\n",
       "      <th>3143</th>\n",
       "      <td>생물진화 40억년사 밝힌 '자연은 어떻게 발명하는가' 출간      buff27@y...</td>\n",
       "      <td>228</td>\n",
       "      <td>IT/과학</td>\n",
       "    </tr>\n",
       "    <tr>\n",
       "      <th>3144</th>\n",
       "      <td>IBS 나노입자 연구단, 관련 연구 논문 발표수십 년 동안 베일에 싸였던 세상에서 ...</td>\n",
       "      <td>228</td>\n",
       "      <td>IT/과학</td>\n",
       "    </tr>\n",
       "  </tbody>\n",
       "</table>\n",
       "<p>3145 rows × 3 columns</p>\n",
       "</div>"
      ],
      "text/plain": [
       "                                                   news  category main_cate\n",
       "0     “당 대표 바뀌니   이 대표를 징계하고 내치는데 배후 역할을 맡지 않으셨나 의구심...       264        정치\n",
       "1     \"민생 챙기기보다 당무개입 우선인가…기가 막힌다\"박용진 \"좌표부대 총사령관 尹\"…정...       264        정치\n",
       "2     국회 본회의장서 尹과 문자…대화 내용 언론에 포착\"이유 막론하고 당원동지들, 국민께...       264        정치\n",
       "3     26일 오후 국회 본회의장에서 열린 제 398회 임시회 6차 본회의 대정부 질문 도...       264        정치\n",
       "4     6월 28일 추모 음악회 참석 감사 편지에 답장故  심정민 소령 유족에게 윤석열 대...       264        정치\n",
       "...                                                 ...       ...       ...\n",
       "3140  IBS 연구팀, \"수십 년간 베일에 쌓여 있던 반도체 나노클러스터 구조 밝혀\"원자 ...       228     IT/과학\n",
       "3141  동물연구서 안전성 등 확인크리스탈지노믹스는 제이앤씨사이언스와 코로나19 치료제 후보...       228     IT/과학\n",
       "3142  지난달 인천공항 제1터미널 입국장 TV에 원숭이두창 관련 뉴스가 나오고 있다. /뉴...       228     IT/과학\n",
       "3143  생물진화 40억년사 밝힌 '자연은 어떻게 발명하는가' 출간      buff27@y...       228     IT/과학\n",
       "3144  IBS 나노입자 연구단, 관련 연구 논문 발표수십 년 동안 베일에 싸였던 세상에서 ...       228     IT/과학\n",
       "\n",
       "[3145 rows x 3 columns]"
      ]
     },
     "execution_count": 85,
     "metadata": {},
     "output_type": "execute_result"
    }
   ],
   "source": [
    "#불필요한 내용 삭제\n",
    "\n",
    "#1. 괄호 안의 내용 삭제    ex) [속보], (당이), (서울=연합뉴스) 등\n",
    "news_df.replace('[\\[|\\(]+.*[\\]\\)]+',' ', regex = True)\n",
    "\n",
    "#2. ...삭제\n",
    "news_df.replace('…',' ', regex = True)\n",
    "\n",
    "#3. "
   ]
  },
  {
   "cell_type": "code",
   "execution_count": null,
   "id": "cb57b56c",
   "metadata": {},
   "outputs": [],
   "source": []
  },
  {
   "cell_type": "code",
   "execution_count": null,
   "id": "16ef1844",
   "metadata": {},
   "outputs": [],
   "source": []
  },
  {
   "cell_type": "code",
   "execution_count": null,
   "id": "1421d77b",
   "metadata": {},
   "outputs": [],
   "source": []
  },
  {
   "cell_type": "code",
   "execution_count": null,
   "id": "2609132f",
   "metadata": {},
   "outputs": [],
   "source": []
  },
  {
   "cell_type": "code",
   "execution_count": null,
   "id": "44cdab4d",
   "metadata": {},
   "outputs": [],
   "source": []
  },
  {
   "cell_type": "code",
   "execution_count": null,
   "id": "3788b9be",
   "metadata": {},
   "outputs": [],
   "source": []
  },
  {
   "cell_type": "code",
   "execution_count": null,
   "id": "6e8a136b",
   "metadata": {},
   "outputs": [],
   "source": []
  },
  {
   "cell_type": "code",
   "execution_count": null,
   "id": "8b6d1120",
   "metadata": {},
   "outputs": [],
   "source": []
  },
  {
   "cell_type": "code",
   "execution_count": null,
   "id": "d74787fb",
   "metadata": {},
   "outputs": [],
   "source": []
  },
  {
   "cell_type": "code",
   "execution_count": null,
   "id": "8329dec4",
   "metadata": {},
   "outputs": [],
   "source": []
  }
 ],
 "metadata": {
  "kernelspec": {
   "display_name": "Python 3 (ipykernel)",
   "language": "python",
   "name": "python3"
  },
  "language_info": {
   "codemirror_mode": {
    "name": "ipython",
    "version": 3
   },
   "file_extension": ".py",
   "mimetype": "text/x-python",
   "name": "python",
   "nbconvert_exporter": "python",
   "pygments_lexer": "ipython3",
   "version": "3.8.13"
  },
  "toc": {
   "base_numbering": 1,
   "nav_menu": {},
   "number_sections": true,
   "sideBar": true,
   "skip_h1_title": false,
   "title_cell": "Table of Contents",
   "title_sidebar": "Contents",
   "toc_cell": false,
   "toc_position": {},
   "toc_section_display": true,
   "toc_window_display": false
  }
 },
 "nbformat": 4,
 "nbformat_minor": 5
}
