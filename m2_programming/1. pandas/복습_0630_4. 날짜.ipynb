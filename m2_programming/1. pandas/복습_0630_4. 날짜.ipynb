{
 "cells": [
  {
   "cell_type": "markdown",
   "id": "c812c2d9",
   "metadata": {},
   "source": [
    "## 날짜"
   ]
  },
  {
   "cell_type": "markdown",
   "id": "3e18f523",
   "metadata": {},
   "source": [
    "- 날짜, 시간 클래스\n",
    "   - datetime 은 파이썬 설치 시 기본적으로 내장된 라이브러리\n",
    "        - 날짜, 시간, 날짜 시간 등 쓰임새에 따라 클래스가 분화되어 있음\n",
    "        - 날짜: date클래스\n",
    "        - 날짜 시간: datetime클래스\n",
    "    - datetime64는 numpy라이브러리에서 정의한 날짜시간 클래스\n",
    "    - Timestamp는 pandas  라이브러리에서 정의한 날짜시간 클래스\n",
    "        - numpy, pandas 라이브러리는 한 클래스로 날짜, 시간, 날짜 시간을 모두 정의할 수 있음\n",
    "- 날짜의 기간, 시간 차이를 표시\n",
    "    - timedelta"
   ]
  },
  {
   "cell_type": "markdown",
   "id": "821bd5ce",
   "metadata": {},
   "source": [
    "#### 파이썬의 날짜, 시간"
   ]
  },
  {
   "cell_type": "markdown",
   "id": "f15272e8",
   "metadata": {},
   "source": [
    "##### - timestamp-> str "
   ]
  },
  {
   "cell_type": "code",
   "execution_count": 2,
   "id": "b4f7d358",
   "metadata": {},
   "outputs": [
    {
     "name": "stdout",
     "output_type": "stream",
     "text": [
      "1656564693.1127126 <class 'float'>\n"
     ]
    }
   ],
   "source": [
    "import time\n",
    "t=time.time()\n",
    "print(t, type(t))   #1970년 1월 1일부터 초를 센 것"
   ]
  },
  {
   "cell_type": "code",
   "execution_count": 3,
   "id": "1ab359aa",
   "metadata": {},
   "outputs": [
    {
     "name": "stdout",
     "output_type": "stream",
     "text": [
      "1656564693.1127126 <class 'str'>\n"
     ]
    }
   ],
   "source": [
    "s=str(t)\n",
    "print(s, type(s))"
   ]
  },
  {
   "cell_type": "markdown",
   "id": "64c8d56d",
   "metadata": {},
   "source": [
    "##### - timestamp-> datetime"
   ]
  },
  {
   "cell_type": "code",
   "execution_count": 35,
   "id": "62a81f2e",
   "metadata": {},
   "outputs": [
    {
     "name": "stdout",
     "output_type": "stream",
     "text": [
      "1656565741.5549035 <class 'float'>\n"
     ]
    }
   ],
   "source": [
    "t=time.time()\n",
    "print(t,type(t))"
   ]
  },
  {
   "cell_type": "code",
   "execution_count": 37,
   "id": "af1c9ef1",
   "metadata": {},
   "outputs": [
    {
     "name": "stdout",
     "output_type": "stream",
     "text": [
      "2022-06-30 14:09:01.554904 <class 'datetime.datetime'>\n"
     ]
    }
   ],
   "source": [
    "from datetime import datetime\n",
    "\n",
    "d=datetime.fromtimestamp(t)\n",
    "print(d,type)"
   ]
  },
  {
   "cell_type": "markdown",
   "id": "c783c384",
   "metadata": {},
   "source": [
    "##### - datetime -> str"
   ]
  },
  {
   "cell_type": "code",
   "execution_count": 7,
   "id": "f0b57671",
   "metadata": {},
   "outputs": [
    {
     "name": "stdout",
     "output_type": "stream",
     "text": [
      "2022-06-30 13:53:16.882256 <class 'datetime.datetime'>\n"
     ]
    }
   ],
   "source": [
    "from datetime import datetime \n",
    "\n",
    "d=datetime.now()\n",
    "print(d,type(d))"
   ]
  },
  {
   "cell_type": "code",
   "execution_count": 15,
   "id": "b4894ff3",
   "metadata": {},
   "outputs": [
    {
     "name": "stdout",
     "output_type": "stream",
     "text": [
      "2022-06-30 13:53:16 <class 'str'>\n"
     ]
    }
   ],
   "source": [
    "ds=d.strftime('%Y-%m-%d %H:%M:%S')    #데이터타임 타입의 변수를 바꾸고 싶은 문자형으로 변환\n",
    "print(ds, type(ds))"
   ]
  },
  {
   "cell_type": "markdown",
   "id": "a9ee9a20",
   "metadata": {},
   "source": [
    "##### - str -> datetime "
   ]
  },
  {
   "cell_type": "code",
   "execution_count": 22,
   "id": "476212df",
   "metadata": {},
   "outputs": [
    {
     "name": "stdout",
     "output_type": "stream",
     "text": [
      "2009-11-16 <class 'str'>\n"
     ]
    }
   ],
   "source": [
    "s1='2009-11-16'\n",
    "print(s1, type(s1))"
   ]
  },
  {
   "cell_type": "code",
   "execution_count": 23,
   "id": "490fe4f1",
   "metadata": {},
   "outputs": [
    {
     "name": "stdout",
     "output_type": "stream",
     "text": [
      "2009-11-16 00:00:00 <class 'datetime.datetime'>\n"
     ]
    }
   ],
   "source": [
    "sd=datetime.strptime(s1,'%Y-%m-%d')    #문자 타입의 변수와 문자의 날짜 포맷 입력 후 데이터타임으로 변환\n",
    "print(sd,type(sd))"
   ]
  },
  {
   "cell_type": "markdown",
   "id": "1570afe8",
   "metadata": {},
   "source": [
    "##### - str-> datetime -> timestamp"
   ]
  },
  {
   "cell_type": "code",
   "execution_count": 25,
   "id": "59463481",
   "metadata": {},
   "outputs": [],
   "source": [
    "from datetime import datetime\n",
    "import time"
   ]
  },
  {
   "cell_type": "code",
   "execution_count": 26,
   "id": "812384dd",
   "metadata": {},
   "outputs": [
    {
     "name": "stdout",
     "output_type": "stream",
     "text": [
      "2022-07-01 11:13:58 <class 'str'>\n"
     ]
    }
   ],
   "source": [
    "s='2022-07-01 11:13:58'\n",
    "print(s, type(s))"
   ]
  },
  {
   "cell_type": "code",
   "execution_count": 27,
   "id": "b108e9f0",
   "metadata": {},
   "outputs": [
    {
     "name": "stdout",
     "output_type": "stream",
     "text": [
      "2022-07-01 11:13:58 <class 'datetime.datetime'>\n"
     ]
    }
   ],
   "source": [
    "d=datetime.strptime(s,'%Y-%m-%d %H:%M:%S')\n",
    "print(d,type(d))"
   ]
  },
  {
   "cell_type": "code",
   "execution_count": 31,
   "id": "c471af25",
   "metadata": {},
   "outputs": [
    {
     "name": "stdout",
     "output_type": "stream",
     "text": [
      "1656641638.0 <class 'float'>\n"
     ]
    }
   ],
   "source": [
    "t=time.mktime(d.timetuple())\n",
    "print(t,type(t))"
   ]
  },
  {
   "cell_type": "code",
   "execution_count": 34,
   "id": "f91a1430",
   "metadata": {},
   "outputs": [
    {
     "name": "stdout",
     "output_type": "stream",
     "text": [
      "2022-06-30 14:07:00.374032\n"
     ]
    },
    {
     "data": {
      "text/plain": [
       "time.struct_time(tm_year=2022, tm_mon=6, tm_mday=30, tm_hour=14, tm_min=7, tm_sec=0, tm_wday=3, tm_yday=181, tm_isdst=-1)"
      ]
     },
     "execution_count": 34,
     "metadata": {},
     "output_type": "execute_result"
    }
   ],
   "source": [
    "###timetuple에 대해\n",
    "today=datetime.today()\n",
    "print(today)\n",
    "\n",
    "print(today.timetuple())   #연,월,일,시,분,초,요일,연초~현재 기간 등을 보여줌"
   ]
  },
  {
   "cell_type": "markdown",
   "id": "7130ea97",
   "metadata": {},
   "source": [
    "#### 파이썬의 timedelta"
   ]
  },
  {
   "cell_type": "markdown",
   "id": "114d5cc3",
   "metadata": {},
   "source": [
    "##### - 1년전 datetime 값 구하기"
   ]
  },
  {
   "cell_type": "code",
   "execution_count": 46,
   "id": "68c8a467",
   "metadata": {},
   "outputs": [
    {
     "name": "stdout",
     "output_type": "stream",
     "text": [
      "2021-06-30 14:38:40.096644\n"
     ]
    }
   ],
   "source": [
    "from datetime import datetime, timedelta\n",
    "\n",
    "now=datetime.now()\n",
    "days=timedelta(days=-365)\n",
    "\n",
    "one_year_ago=now+days\n",
    "print(one_year_ago)"
   ]
  },
  {
   "cell_type": "markdown",
   "id": "070485a2",
   "metadata": {},
   "source": [
    "##### - 두 날짜 간 일 수 구하기"
   ]
  },
  {
   "cell_type": "code",
   "execution_count": 48,
   "id": "54f4d6ab",
   "metadata": {},
   "outputs": [],
   "source": [
    "#날짜 지정하기\n",
    "since=datetime.strptime('19951116','%Y%m%d')\n",
    "until=datetime.strptime('06/30/2022','%m/%d/%Y')"
   ]
  },
  {
   "cell_type": "code",
   "execution_count": 59,
   "id": "857dd997",
   "metadata": {},
   "outputs": [
    {
     "name": "stdout",
     "output_type": "stream",
     "text": [
      "9723 days, 0:00:00\n",
      "9723\n"
     ]
    }
   ],
   "source": [
    "#날짜 간격 구하기\n",
    "birth_day=until-since\n",
    "print(birth_day)\n",
    "\n",
    "print(birth_day.days)"
   ]
  },
  {
   "cell_type": "markdown",
   "id": "01c355dc",
   "metadata": {},
   "source": [
    "##### - 특정 요일 구하기"
   ]
  },
  {
   "cell_type": "code",
   "execution_count": 70,
   "id": "cc3be860",
   "metadata": {},
   "outputs": [],
   "source": [
    "import datetime\n",
    "\n",
    "#방법1\n",
    "def get_yoil_(y,m,d):\n",
    "    w=datetime.date(y,m,d).weekday()\n",
    "    days=['Mon','Tue','Wed','Thur','Fri','Sat','Sun']\n",
    "    return days[w]"
   ]
  },
  {
   "cell_type": "code",
   "execution_count": 71,
   "id": "782b6a67",
   "metadata": {},
   "outputs": [
    {
     "data": {
      "text/plain": [
       "'Thur'"
      ]
     },
     "execution_count": 71,
     "metadata": {},
     "output_type": "execute_result"
    }
   ],
   "source": [
    "get_yoil_(2022,6,30)"
   ]
  },
  {
   "cell_type": "code",
   "execution_count": 73,
   "id": "c81f6c7a",
   "metadata": {},
   "outputs": [],
   "source": [
    "from datetime import datetime\n",
    "\n",
    "#방법2: 굳이 안써도되는..\n",
    "def get_yoil(y,m,d):\n",
    "    w=datetime.strptime(str(y)+str(m)+str(d),'%Y%m%d').weekday()\n",
    "    days=['Mon','Tue','Wed','Thur','Fri','Sat','Sun']\n",
    "    return days[w]"
   ]
  },
  {
   "cell_type": "code",
   "execution_count": 74,
   "id": "21316940",
   "metadata": {},
   "outputs": [
    {
     "data": {
      "text/plain": [
       "'Thur'"
      ]
     },
     "execution_count": 74,
     "metadata": {},
     "output_type": "execute_result"
    }
   ],
   "source": [
    "get_yoil(2022,6,30)"
   ]
  },
  {
   "cell_type": "markdown",
   "id": "12ad2844",
   "metadata": {},
   "source": [
    "#### 판다스의 날짜\n",
    "##### *주의: 판다스의 timestamp= 파이썬의 datetime"
   ]
  },
  {
   "cell_type": "code",
   "execution_count": 76,
   "id": "4dcda90d",
   "metadata": {},
   "outputs": [],
   "source": [
    "import pandas as pd\n",
    "import numpy"
   ]
  },
  {
   "cell_type": "markdown",
   "id": "06959263",
   "metadata": {},
   "source": [
    "##### to_datetime,  Timestamp\n",
    "##### - 파이썬의 timestamp -> 판다스의 timestamp"
   ]
  },
  {
   "cell_type": "code",
   "execution_count": 88,
   "id": "f3330a35",
   "metadata": {},
   "outputs": [
    {
     "data": {
      "text/plain": [
       "Timestamp('2022-06-30 06:05:29.163765504')"
      ]
     },
     "execution_count": 88,
     "metadata": {},
     "output_type": "execute_result"
    }
   ],
   "source": [
    "pd.to_datetime(time.time(), unit='s')    #1970년 1월 1일부터  초 단위로 계산"
   ]
  },
  {
   "cell_type": "code",
   "execution_count": 90,
   "id": "b02d7951",
   "metadata": {
    "scrolled": true
   },
   "outputs": [
    {
     "data": {
      "text/plain": [
       "Timestamp('2022-06-30 15:07:31.885098696+0900', tz='Asia/Seoul')"
      ]
     },
     "execution_count": 90,
     "metadata": {},
     "output_type": "execute_result"
    }
   ],
   "source": [
    "pd.Timestamp(time.time(),unit='s',tz='Asia/Seoul')  #타임 존을 서울시로 지정"
   ]
  },
  {
   "cell_type": "markdown",
   "id": "d5a4450d",
   "metadata": {},
   "source": [
    "#### 일정 기간 내 동일 간격의 날짜 출력"
   ]
  },
  {
   "cell_type": "markdown",
   "id": "90571907",
   "metadata": {},
   "source": [
    "##### date_range"
   ]
  },
  {
   "cell_type": "code",
   "execution_count": 160,
   "id": "2336ab29",
   "metadata": {
    "scrolled": true
   },
   "outputs": [
    {
     "data": {
      "text/plain": [
       "DatetimeIndex(['2018-06-30 00:00:00', '2018-12-09 08:00:00',\n",
       "               '2019-05-20 16:00:00', '2019-10-30 00:00:00',\n",
       "               '2020-04-09 08:00:00', '2020-09-18 16:00:00',\n",
       "               '2021-02-28 00:00:00', '2021-08-09 08:00:00',\n",
       "               '2022-01-18 16:00:00', '2022-06-30 00:00:00'],\n",
       "              dtype='datetime64[ns]', freq=None)"
      ]
     },
     "execution_count": 160,
     "metadata": {},
     "output_type": "execute_result"
    }
   ],
   "source": [
    "pd.date_range('2018-06-30','2022-06-30', periods=10)       #동일 간격으로 10개 날짜 출력됨"
   ]
  },
  {
   "cell_type": "code",
   "execution_count": 167,
   "id": "6b669dce",
   "metadata": {},
   "outputs": [
    {
     "data": {
      "text/plain": [
       "DatetimeIndex(['2022-06-28 00:00:00', '2022-06-28 01:00:00',\n",
       "               '2022-06-28 02:00:00', '2022-06-28 03:00:00',\n",
       "               '2022-06-28 04:00:00', '2022-06-28 05:00:00',\n",
       "               '2022-06-28 06:00:00', '2022-06-28 07:00:00',\n",
       "               '2022-06-28 08:00:00', '2022-06-28 09:00:00'],\n",
       "              dtype='datetime64[ns]', freq='H')"
      ]
     },
     "execution_count": 167,
     "metadata": {},
     "output_type": "execute_result"
    }
   ],
   "source": [
    "pd.date_range('2022-06-28',periods=10, freq='1h')     #지정 날짜부터 freq 간격대로 preiods개 뽑아내라"
   ]
  },
  {
   "cell_type": "code",
   "execution_count": 165,
   "id": "14de1845",
   "metadata": {
    "scrolled": true
   },
   "outputs": [
    {
     "data": {
      "text/plain": [
       "DatetimeIndex(['2022-06-28 23:59:00', '2022-06-29 03:59:00',\n",
       "               '2022-06-29 07:59:00', '2022-06-29 11:59:00',\n",
       "               '2022-06-29 15:59:00', '2022-06-29 19:59:00',\n",
       "               '2022-06-29 23:59:00', '2022-06-30 03:59:00',\n",
       "               '2022-06-30 07:59:00', '2022-06-30 11:59:00',\n",
       "               '2022-06-30 15:59:00', '2022-06-30 19:59:00'],\n",
       "              dtype='datetime64[ns]', freq='4H')"
      ]
     },
     "execution_count": 165,
     "metadata": {},
     "output_type": "execute_result"
    }
   ],
   "source": [
    "pd.date_range('2022-06-28 23:59','2022-06-30 21:00',freq='4h')   #4시간 간격으로 출력됨"
   ]
  },
  {
   "cell_type": "markdown",
   "id": "5fe871e0",
   "metadata": {},
   "source": [
    "#### stock-data파일로 실습"
   ]
  },
  {
   "cell_type": "code",
   "execution_count": 133,
   "id": "fc45801f",
   "metadata": {},
   "outputs": [],
   "source": [
    "import os\n",
    "os.getcwd()\n",
    "os.chdir('C:\\cakd7\\m2_분석라이브러리활용\\pandas\\dataset')"
   ]
  },
  {
   "cell_type": "code",
   "execution_count": 143,
   "id": "579df276",
   "metadata": {},
   "outputs": [
    {
     "data": {
      "text/html": [
       "<div>\n",
       "<style scoped>\n",
       "    .dataframe tbody tr th:only-of-type {\n",
       "        vertical-align: middle;\n",
       "    }\n",
       "\n",
       "    .dataframe tbody tr th {\n",
       "        vertical-align: top;\n",
       "    }\n",
       "\n",
       "    .dataframe thead th {\n",
       "        text-align: right;\n",
       "    }\n",
       "</style>\n",
       "<table border=\"1\" class=\"dataframe\">\n",
       "  <thead>\n",
       "    <tr style=\"text-align: right;\">\n",
       "      <th></th>\n",
       "      <th>Date</th>\n",
       "      <th>Close</th>\n",
       "      <th>Start</th>\n",
       "      <th>High</th>\n",
       "      <th>Low</th>\n",
       "      <th>Volume</th>\n",
       "    </tr>\n",
       "  </thead>\n",
       "  <tbody>\n",
       "    <tr>\n",
       "      <th>0</th>\n",
       "      <td>2018-07-02</td>\n",
       "      <td>10100</td>\n",
       "      <td>10850</td>\n",
       "      <td>10900</td>\n",
       "      <td>10000</td>\n",
       "      <td>137977</td>\n",
       "    </tr>\n",
       "    <tr>\n",
       "      <th>1</th>\n",
       "      <td>2018-06-29</td>\n",
       "      <td>10700</td>\n",
       "      <td>10550</td>\n",
       "      <td>10900</td>\n",
       "      <td>9990</td>\n",
       "      <td>170253</td>\n",
       "    </tr>\n",
       "    <tr>\n",
       "      <th>2</th>\n",
       "      <td>2018-06-28</td>\n",
       "      <td>10400</td>\n",
       "      <td>10900</td>\n",
       "      <td>10950</td>\n",
       "      <td>10150</td>\n",
       "      <td>155769</td>\n",
       "    </tr>\n",
       "    <tr>\n",
       "      <th>3</th>\n",
       "      <td>2018-06-27</td>\n",
       "      <td>10900</td>\n",
       "      <td>10800</td>\n",
       "      <td>11050</td>\n",
       "      <td>10500</td>\n",
       "      <td>133548</td>\n",
       "    </tr>\n",
       "    <tr>\n",
       "      <th>4</th>\n",
       "      <td>2018-06-26</td>\n",
       "      <td>10800</td>\n",
       "      <td>10900</td>\n",
       "      <td>11000</td>\n",
       "      <td>10700</td>\n",
       "      <td>63039</td>\n",
       "    </tr>\n",
       "  </tbody>\n",
       "</table>\n",
       "</div>"
      ],
      "text/plain": [
       "         Date  Close  Start   High    Low  Volume\n",
       "0  2018-07-02  10100  10850  10900  10000  137977\n",
       "1  2018-06-29  10700  10550  10900   9990  170253\n",
       "2  2018-06-28  10400  10900  10950  10150  155769\n",
       "3  2018-06-27  10900  10800  11050  10500  133548\n",
       "4  2018-06-26  10800  10900  11000  10700   63039"
      ]
     },
     "execution_count": 143,
     "metadata": {},
     "output_type": "execute_result"
    }
   ],
   "source": [
    "#파일 불러오기\n",
    "import pandas as pd\n",
    "\n",
    "df=pd.read_csv('stock-data.csv')\n",
    "df.head()"
   ]
  },
  {
   "cell_type": "code",
   "execution_count": 144,
   "id": "f62b5376",
   "metadata": {},
   "outputs": [
    {
     "name": "stdout",
     "output_type": "stream",
     "text": [
      "<class 'pandas.core.frame.DataFrame'>\n",
      "RangeIndex: 20 entries, 0 to 19\n",
      "Data columns (total 6 columns):\n",
      " #   Column  Non-Null Count  Dtype \n",
      "---  ------  --------------  ----- \n",
      " 0   Date    20 non-null     object\n",
      " 1   Close   20 non-null     int64 \n",
      " 2   Start   20 non-null     int64 \n",
      " 3   High    20 non-null     int64 \n",
      " 4   Low     20 non-null     int64 \n",
      " 5   Volume  20 non-null     int64 \n",
      "dtypes: int64(5), object(1)\n",
      "memory usage: 1.1+ KB\n"
     ]
    }
   ],
   "source": [
    "#데이터 살펴보기\n",
    "df.info()    #Date가 문자로 되어 있음"
   ]
  },
  {
   "cell_type": "code",
   "execution_count": 145,
   "id": "3ca9adba",
   "metadata": {},
   "outputs": [
    {
     "data": {
      "text/html": [
       "<div>\n",
       "<style scoped>\n",
       "    .dataframe tbody tr th:only-of-type {\n",
       "        vertical-align: middle;\n",
       "    }\n",
       "\n",
       "    .dataframe tbody tr th {\n",
       "        vertical-align: top;\n",
       "    }\n",
       "\n",
       "    .dataframe thead th {\n",
       "        text-align: right;\n",
       "    }\n",
       "</style>\n",
       "<table border=\"1\" class=\"dataframe\">\n",
       "  <thead>\n",
       "    <tr style=\"text-align: right;\">\n",
       "      <th></th>\n",
       "      <th>Date</th>\n",
       "      <th>Close</th>\n",
       "      <th>Start</th>\n",
       "      <th>High</th>\n",
       "      <th>Low</th>\n",
       "      <th>Volume</th>\n",
       "      <th>n_Date</th>\n",
       "    </tr>\n",
       "  </thead>\n",
       "  <tbody>\n",
       "    <tr>\n",
       "      <th>0</th>\n",
       "      <td>2018-07-02</td>\n",
       "      <td>10100</td>\n",
       "      <td>10850</td>\n",
       "      <td>10900</td>\n",
       "      <td>10000</td>\n",
       "      <td>137977</td>\n",
       "      <td>2018-07-02</td>\n",
       "    </tr>\n",
       "    <tr>\n",
       "      <th>1</th>\n",
       "      <td>2018-06-29</td>\n",
       "      <td>10700</td>\n",
       "      <td>10550</td>\n",
       "      <td>10900</td>\n",
       "      <td>9990</td>\n",
       "      <td>170253</td>\n",
       "      <td>2018-06-29</td>\n",
       "    </tr>\n",
       "    <tr>\n",
       "      <th>2</th>\n",
       "      <td>2018-06-28</td>\n",
       "      <td>10400</td>\n",
       "      <td>10900</td>\n",
       "      <td>10950</td>\n",
       "      <td>10150</td>\n",
       "      <td>155769</td>\n",
       "      <td>2018-06-28</td>\n",
       "    </tr>\n",
       "    <tr>\n",
       "      <th>3</th>\n",
       "      <td>2018-06-27</td>\n",
       "      <td>10900</td>\n",
       "      <td>10800</td>\n",
       "      <td>11050</td>\n",
       "      <td>10500</td>\n",
       "      <td>133548</td>\n",
       "      <td>2018-06-27</td>\n",
       "    </tr>\n",
       "    <tr>\n",
       "      <th>4</th>\n",
       "      <td>2018-06-26</td>\n",
       "      <td>10800</td>\n",
       "      <td>10900</td>\n",
       "      <td>11000</td>\n",
       "      <td>10700</td>\n",
       "      <td>63039</td>\n",
       "      <td>2018-06-26</td>\n",
       "    </tr>\n",
       "  </tbody>\n",
       "</table>\n",
       "</div>"
      ],
      "text/plain": [
       "         Date  Close  Start   High    Low  Volume     n_Date\n",
       "0  2018-07-02  10100  10850  10900  10000  137977 2018-07-02\n",
       "1  2018-06-29  10700  10550  10900   9990  170253 2018-06-29\n",
       "2  2018-06-28  10400  10900  10950  10150  155769 2018-06-28\n",
       "3  2018-06-27  10900  10800  11050  10500  133548 2018-06-27\n",
       "4  2018-06-26  10800  10900  11000  10700   63039 2018-06-26"
      ]
     },
     "execution_count": 145,
     "metadata": {},
     "output_type": "execute_result"
    }
   ],
   "source": [
    "#Date컬럼을 날짜형태로 변환하여 새로운 컬럼 생성\n",
    "\n",
    "df['n_Date']=pd.to_datetime(df['Date'])\n",
    "df.head()"
   ]
  },
  {
   "cell_type": "code",
   "execution_count": 146,
   "id": "3b98da36",
   "metadata": {},
   "outputs": [
    {
     "name": "stdout",
     "output_type": "stream",
     "text": [
      "<class 'pandas.core.frame.DataFrame'>\n",
      "RangeIndex: 20 entries, 0 to 19\n",
      "Data columns (total 7 columns):\n",
      " #   Column  Non-Null Count  Dtype         \n",
      "---  ------  --------------  -----         \n",
      " 0   Date    20 non-null     object        \n",
      " 1   Close   20 non-null     int64         \n",
      " 2   Start   20 non-null     int64         \n",
      " 3   High    20 non-null     int64         \n",
      " 4   Low     20 non-null     int64         \n",
      " 5   Volume  20 non-null     int64         \n",
      " 6   n_Date  20 non-null     datetime64[ns]\n",
      "dtypes: datetime64[ns](1), int64(5), object(1)\n",
      "memory usage: 1.2+ KB\n"
     ]
    }
   ],
   "source": [
    "df.info()"
   ]
  },
  {
   "cell_type": "code",
   "execution_count": 147,
   "id": "1c96ec81",
   "metadata": {},
   "outputs": [
    {
     "data": {
      "text/html": [
       "<div>\n",
       "<style scoped>\n",
       "    .dataframe tbody tr th:only-of-type {\n",
       "        vertical-align: middle;\n",
       "    }\n",
       "\n",
       "    .dataframe tbody tr th {\n",
       "        vertical-align: top;\n",
       "    }\n",
       "\n",
       "    .dataframe thead th {\n",
       "        text-align: right;\n",
       "    }\n",
       "</style>\n",
       "<table border=\"1\" class=\"dataframe\">\n",
       "  <thead>\n",
       "    <tr style=\"text-align: right;\">\n",
       "      <th></th>\n",
       "      <th>Close</th>\n",
       "      <th>Start</th>\n",
       "      <th>High</th>\n",
       "      <th>Low</th>\n",
       "      <th>Volume</th>\n",
       "      <th>n_Date</th>\n",
       "    </tr>\n",
       "  </thead>\n",
       "  <tbody>\n",
       "    <tr>\n",
       "      <th>0</th>\n",
       "      <td>10100</td>\n",
       "      <td>10850</td>\n",
       "      <td>10900</td>\n",
       "      <td>10000</td>\n",
       "      <td>137977</td>\n",
       "      <td>2018-07-02</td>\n",
       "    </tr>\n",
       "    <tr>\n",
       "      <th>1</th>\n",
       "      <td>10700</td>\n",
       "      <td>10550</td>\n",
       "      <td>10900</td>\n",
       "      <td>9990</td>\n",
       "      <td>170253</td>\n",
       "      <td>2018-06-29</td>\n",
       "    </tr>\n",
       "    <tr>\n",
       "      <th>2</th>\n",
       "      <td>10400</td>\n",
       "      <td>10900</td>\n",
       "      <td>10950</td>\n",
       "      <td>10150</td>\n",
       "      <td>155769</td>\n",
       "      <td>2018-06-28</td>\n",
       "    </tr>\n",
       "    <tr>\n",
       "      <th>3</th>\n",
       "      <td>10900</td>\n",
       "      <td>10800</td>\n",
       "      <td>11050</td>\n",
       "      <td>10500</td>\n",
       "      <td>133548</td>\n",
       "      <td>2018-06-27</td>\n",
       "    </tr>\n",
       "    <tr>\n",
       "      <th>4</th>\n",
       "      <td>10800</td>\n",
       "      <td>10900</td>\n",
       "      <td>11000</td>\n",
       "      <td>10700</td>\n",
       "      <td>63039</td>\n",
       "      <td>2018-06-26</td>\n",
       "    </tr>\n",
       "  </tbody>\n",
       "</table>\n",
       "</div>"
      ],
      "text/plain": [
       "   Close  Start   High    Low  Volume     n_Date\n",
       "0  10100  10850  10900  10000  137977 2018-07-02\n",
       "1  10700  10550  10900   9990  170253 2018-06-29\n",
       "2  10400  10900  10950  10150  155769 2018-06-28\n",
       "3  10900  10800  11050  10500  133548 2018-06-27\n",
       "4  10800  10900  11000  10700   63039 2018-06-26"
      ]
     },
     "execution_count": 147,
     "metadata": {},
     "output_type": "execute_result"
    }
   ],
   "source": [
    "#Date 컬럼 삭제\n",
    "\n",
    "df.drop('Date', axis=1,inplace=True)\n",
    "df.head()"
   ]
  },
  {
   "cell_type": "code",
   "execution_count": 148,
   "id": "0ba5897b",
   "metadata": {},
   "outputs": [
    {
     "data": {
      "text/html": [
       "<div>\n",
       "<style scoped>\n",
       "    .dataframe tbody tr th:only-of-type {\n",
       "        vertical-align: middle;\n",
       "    }\n",
       "\n",
       "    .dataframe tbody tr th {\n",
       "        vertical-align: top;\n",
       "    }\n",
       "\n",
       "    .dataframe thead th {\n",
       "        text-align: right;\n",
       "    }\n",
       "</style>\n",
       "<table border=\"1\" class=\"dataframe\">\n",
       "  <thead>\n",
       "    <tr style=\"text-align: right;\">\n",
       "      <th></th>\n",
       "      <th>Close</th>\n",
       "      <th>Start</th>\n",
       "      <th>High</th>\n",
       "      <th>Low</th>\n",
       "      <th>Volume</th>\n",
       "      <th>n_Date</th>\n",
       "      <th>year</th>\n",
       "      <th>month</th>\n",
       "      <th>day</th>\n",
       "    </tr>\n",
       "  </thead>\n",
       "  <tbody>\n",
       "    <tr>\n",
       "      <th>0</th>\n",
       "      <td>10100</td>\n",
       "      <td>10850</td>\n",
       "      <td>10900</td>\n",
       "      <td>10000</td>\n",
       "      <td>137977</td>\n",
       "      <td>2018-07-02</td>\n",
       "      <td>2018</td>\n",
       "      <td>7</td>\n",
       "      <td>2</td>\n",
       "    </tr>\n",
       "    <tr>\n",
       "      <th>1</th>\n",
       "      <td>10700</td>\n",
       "      <td>10550</td>\n",
       "      <td>10900</td>\n",
       "      <td>9990</td>\n",
       "      <td>170253</td>\n",
       "      <td>2018-06-29</td>\n",
       "      <td>2018</td>\n",
       "      <td>6</td>\n",
       "      <td>29</td>\n",
       "    </tr>\n",
       "    <tr>\n",
       "      <th>2</th>\n",
       "      <td>10400</td>\n",
       "      <td>10900</td>\n",
       "      <td>10950</td>\n",
       "      <td>10150</td>\n",
       "      <td>155769</td>\n",
       "      <td>2018-06-28</td>\n",
       "      <td>2018</td>\n",
       "      <td>6</td>\n",
       "      <td>28</td>\n",
       "    </tr>\n",
       "    <tr>\n",
       "      <th>3</th>\n",
       "      <td>10900</td>\n",
       "      <td>10800</td>\n",
       "      <td>11050</td>\n",
       "      <td>10500</td>\n",
       "      <td>133548</td>\n",
       "      <td>2018-06-27</td>\n",
       "      <td>2018</td>\n",
       "      <td>6</td>\n",
       "      <td>27</td>\n",
       "    </tr>\n",
       "    <tr>\n",
       "      <th>4</th>\n",
       "      <td>10800</td>\n",
       "      <td>10900</td>\n",
       "      <td>11000</td>\n",
       "      <td>10700</td>\n",
       "      <td>63039</td>\n",
       "      <td>2018-06-26</td>\n",
       "      <td>2018</td>\n",
       "      <td>6</td>\n",
       "      <td>26</td>\n",
       "    </tr>\n",
       "  </tbody>\n",
       "</table>\n",
       "</div>"
      ],
      "text/plain": [
       "   Close  Start   High    Low  Volume     n_Date  year  month  day\n",
       "0  10100  10850  10900  10000  137977 2018-07-02  2018      7    2\n",
       "1  10700  10550  10900   9990  170253 2018-06-29  2018      6   29\n",
       "2  10400  10900  10950  10150  155769 2018-06-28  2018      6   28\n",
       "3  10900  10800  11050  10500  133548 2018-06-27  2018      6   27\n",
       "4  10800  10900  11000  10700   63039 2018-06-26  2018      6   26"
      ]
     },
     "execution_count": 148,
     "metadata": {},
     "output_type": "execute_result"
    }
   ],
   "source": [
    "#연도, 월, 일  컬럼 생성\n",
    "df['year']=df.n_Date.dt.year\n",
    "df['month']=df['n_Date'].dt.month\n",
    "df['day']=df['n_Date'].dt.day\n",
    "df.head()\n"
   ]
  },
  {
   "cell_type": "code",
   "execution_count": 149,
   "id": "b5bed0f8",
   "metadata": {},
   "outputs": [],
   "source": [
    "#n_Date를 인덱스로 지정\n",
    "df.set_index('n_Date',inplace=True)"
   ]
  },
  {
   "cell_type": "code",
   "execution_count": 150,
   "id": "f58bd910",
   "metadata": {},
   "outputs": [
    {
     "data": {
      "text/html": [
       "<div>\n",
       "<style scoped>\n",
       "    .dataframe tbody tr th:only-of-type {\n",
       "        vertical-align: middle;\n",
       "    }\n",
       "\n",
       "    .dataframe tbody tr th {\n",
       "        vertical-align: top;\n",
       "    }\n",
       "\n",
       "    .dataframe thead th {\n",
       "        text-align: right;\n",
       "    }\n",
       "</style>\n",
       "<table border=\"1\" class=\"dataframe\">\n",
       "  <thead>\n",
       "    <tr style=\"text-align: right;\">\n",
       "      <th></th>\n",
       "      <th>Close</th>\n",
       "      <th>Start</th>\n",
       "      <th>High</th>\n",
       "      <th>Low</th>\n",
       "      <th>Volume</th>\n",
       "      <th>year</th>\n",
       "      <th>month</th>\n",
       "      <th>day</th>\n",
       "    </tr>\n",
       "    <tr>\n",
       "      <th>n_Date</th>\n",
       "      <th></th>\n",
       "      <th></th>\n",
       "      <th></th>\n",
       "      <th></th>\n",
       "      <th></th>\n",
       "      <th></th>\n",
       "      <th></th>\n",
       "      <th></th>\n",
       "    </tr>\n",
       "  </thead>\n",
       "  <tbody>\n",
       "    <tr>\n",
       "      <th>2018-07-02</th>\n",
       "      <td>10100</td>\n",
       "      <td>10850</td>\n",
       "      <td>10900</td>\n",
       "      <td>10000</td>\n",
       "      <td>137977</td>\n",
       "      <td>2018</td>\n",
       "      <td>7</td>\n",
       "      <td>2</td>\n",
       "    </tr>\n",
       "    <tr>\n",
       "      <th>2018-06-29</th>\n",
       "      <td>10700</td>\n",
       "      <td>10550</td>\n",
       "      <td>10900</td>\n",
       "      <td>9990</td>\n",
       "      <td>170253</td>\n",
       "      <td>2018</td>\n",
       "      <td>6</td>\n",
       "      <td>29</td>\n",
       "    </tr>\n",
       "    <tr>\n",
       "      <th>2018-06-28</th>\n",
       "      <td>10400</td>\n",
       "      <td>10900</td>\n",
       "      <td>10950</td>\n",
       "      <td>10150</td>\n",
       "      <td>155769</td>\n",
       "      <td>2018</td>\n",
       "      <td>6</td>\n",
       "      <td>28</td>\n",
       "    </tr>\n",
       "    <tr>\n",
       "      <th>2018-06-27</th>\n",
       "      <td>10900</td>\n",
       "      <td>10800</td>\n",
       "      <td>11050</td>\n",
       "      <td>10500</td>\n",
       "      <td>133548</td>\n",
       "      <td>2018</td>\n",
       "      <td>6</td>\n",
       "      <td>27</td>\n",
       "    </tr>\n",
       "    <tr>\n",
       "      <th>2018-06-26</th>\n",
       "      <td>10800</td>\n",
       "      <td>10900</td>\n",
       "      <td>11000</td>\n",
       "      <td>10700</td>\n",
       "      <td>63039</td>\n",
       "      <td>2018</td>\n",
       "      <td>6</td>\n",
       "      <td>26</td>\n",
       "    </tr>\n",
       "  </tbody>\n",
       "</table>\n",
       "</div>"
      ],
      "text/plain": [
       "            Close  Start   High    Low  Volume  year  month  day\n",
       "n_Date                                                          \n",
       "2018-07-02  10100  10850  10900  10000  137977  2018      7    2\n",
       "2018-06-29  10700  10550  10900   9990  170253  2018      6   29\n",
       "2018-06-28  10400  10900  10950  10150  155769  2018      6   28\n",
       "2018-06-27  10900  10800  11050  10500  133548  2018      6   27\n",
       "2018-06-26  10800  10900  11000  10700   63039  2018      6   26"
      ]
     },
     "execution_count": 150,
     "metadata": {},
     "output_type": "execute_result"
    }
   ],
   "source": [
    "df.head()"
   ]
  },
  {
   "cell_type": "code",
   "execution_count": 151,
   "id": "5937f1fb",
   "metadata": {},
   "outputs": [
    {
     "data": {
      "text/plain": [
       "DatetimeIndex(['2018-07-02', '2018-06-29', '2018-06-28', '2018-06-27',\n",
       "               '2018-06-26', '2018-06-25', '2018-06-22', '2018-06-21',\n",
       "               '2018-06-20', '2018-06-19', '2018-06-18', '2018-06-15',\n",
       "               '2018-06-14', '2018-06-12', '2018-06-11', '2018-06-08',\n",
       "               '2018-06-07', '2018-06-05', '2018-06-04', '2018-06-01'],\n",
       "              dtype='datetime64[ns]', name='n_Date', freq=None)"
      ]
     },
     "execution_count": 151,
     "metadata": {},
     "output_type": "execute_result"
    }
   ],
   "source": [
    "#데이터프레임의 인덱스 요소 살펴보기\n",
    "df.index"
   ]
  },
  {
   "cell_type": "code",
   "execution_count": 154,
   "id": "c796d701",
   "metadata": {
    "scrolled": true
   },
   "outputs": [
    {
     "data": {
      "text/html": [
       "<div>\n",
       "<style scoped>\n",
       "    .dataframe tbody tr th:only-of-type {\n",
       "        vertical-align: middle;\n",
       "    }\n",
       "\n",
       "    .dataframe tbody tr th {\n",
       "        vertical-align: top;\n",
       "    }\n",
       "\n",
       "    .dataframe thead th {\n",
       "        text-align: right;\n",
       "    }\n",
       "</style>\n",
       "<table border=\"1\" class=\"dataframe\">\n",
       "  <thead>\n",
       "    <tr style=\"text-align: right;\">\n",
       "      <th></th>\n",
       "      <th>Close</th>\n",
       "      <th>Start</th>\n",
       "      <th>High</th>\n",
       "      <th>Low</th>\n",
       "    </tr>\n",
       "    <tr>\n",
       "      <th>n_Date</th>\n",
       "      <th></th>\n",
       "      <th></th>\n",
       "      <th></th>\n",
       "      <th></th>\n",
       "    </tr>\n",
       "  </thead>\n",
       "  <tbody>\n",
       "    <tr>\n",
       "      <th>2018-07-02</th>\n",
       "      <td>10100</td>\n",
       "      <td>10850</td>\n",
       "      <td>10900</td>\n",
       "      <td>10000</td>\n",
       "    </tr>\n",
       "  </tbody>\n",
       "</table>\n",
       "</div>"
      ],
      "text/plain": [
       "            Close  Start   High    Low\n",
       "n_Date                                \n",
       "2018-07-02  10100  10850  10900  10000"
      ]
     },
     "execution_count": 154,
     "metadata": {},
     "output_type": "execute_result"
    }
   ],
   "source": [
    "#조건 출력\n",
    "df.loc['2018-07','Close':'Low']     #인덱스"
   ]
  },
  {
   "cell_type": "code",
   "execution_count": null,
   "id": "4ea7b32a",
   "metadata": {},
   "outputs": [],
   "source": [
    "os.chdir('C:\\cakd7\\복습')"
   ]
  },
  {
   "cell_type": "markdown",
   "id": "1818a1eb",
   "metadata": {},
   "source": [
    "## 과제"
   ]
  },
  {
   "cell_type": "markdown",
   "id": "39c45b79",
   "metadata": {},
   "source": [
    "#### 1.현재 시간을 timestamp로 불러와서 datetime, str로 타입 변경 후, 다시 timestamp로 변경"
   ]
  },
  {
   "cell_type": "code",
   "execution_count": 101,
   "id": "a10c456a",
   "metadata": {},
   "outputs": [
    {
     "name": "stdout",
     "output_type": "stream",
     "text": [
      "<module 'time' (built-in)> <class 'module'>\n"
     ]
    }
   ],
   "source": [
    "#현재 시간을 timestamp으로 불러오기\n",
    "import time\n",
    "\n",
    "now=time.time()\n",
    "print(time, type(time))"
   ]
  },
  {
   "cell_type": "code",
   "execution_count": 106,
   "id": "45ab7ded",
   "metadata": {},
   "outputs": [
    {
     "name": "stdout",
     "output_type": "stream",
     "text": [
      "2022-06-30 14:13:58.818978 <class 'datetime.datetime'>\n"
     ]
    }
   ],
   "source": [
    "#1_1. datetime으로 변환\n",
    "from datetime import datetime\n",
    "\n",
    "d_now=datetime.fromtimestamp(now)\n",
    "print(d_now,type(d_now))"
   ]
  },
  {
   "cell_type": "code",
   "execution_count": 107,
   "id": "71ede563",
   "metadata": {},
   "outputs": [
    {
     "name": "stdout",
     "output_type": "stream",
     "text": [
      "1656566038.8189776 <class 'str'>\n"
     ]
    }
   ],
   "source": [
    "#1_2. str로 변환\n",
    "\n",
    "s_now=str(now)\n",
    "print(s_now, type(s_now))"
   ]
  },
  {
   "cell_type": "code",
   "execution_count": 110,
   "id": "81e8443b",
   "metadata": {
    "scrolled": true
   },
   "outputs": [
    {
     "name": "stdout",
     "output_type": "stream",
     "text": [
      "1656566038.0 <class 'float'>\n"
     ]
    }
   ],
   "source": [
    "#2_1. 다시 timestamp로 변환\n",
    "\n",
    "now_dt=time.mktime(d_now.timetuple())\n",
    "print(now_dt,type(now_dt))"
   ]
  },
  {
   "cell_type": "code",
   "execution_count": 121,
   "id": "2d645dd7",
   "metadata": {
    "scrolled": true
   },
   "outputs": [
    {
     "name": "stdout",
     "output_type": "stream",
     "text": [
      "1656566038.8189776 <class 'float'>\n"
     ]
    }
   ],
   "source": [
    "#2_2. 다시 timestamp로 변환\n",
    "\n",
    "now_st=float(s_now)\n",
    "print(now_st, type(now_st))"
   ]
  },
  {
   "cell_type": "markdown",
   "id": "fd7837cd",
   "metadata": {},
   "source": [
    "#### 2. 원하는 날짜+시간을 5개 str로 만든 후 datetime, timestamp 타입으로 변경"
   ]
  },
  {
   "cell_type": "code",
   "execution_count": 189,
   "id": "55b3375f",
   "metadata": {},
   "outputs": [],
   "source": [
    "import pandas as pd\n",
    "import time\n",
    "from datetime import datetime "
   ]
  },
  {
   "cell_type": "code",
   "execution_count": 184,
   "id": "6b139881",
   "metadata": {},
   "outputs": [],
   "source": [
    "#5개의 날짜 생성\n",
    "five_date=pd.date_range('2022-06-10',periods=5,freq='2d')"
   ]
  },
  {
   "cell_type": "code",
   "execution_count": 185,
   "id": "80d5efc3",
   "metadata": {},
   "outputs": [
    {
     "name": "stdout",
     "output_type": "stream",
     "text": [
      "2022-06-10 00:00:00 <class 'str'>\n",
      "2022-06-12 00:00:00 <class 'str'>\n",
      "2022-06-14 00:00:00 <class 'str'>\n",
      "2022-06-16 00:00:00 <class 'str'>\n",
      "2022-06-18 00:00:00 <class 'str'>\n"
     ]
    }
   ],
   "source": [
    "#판다스 timestamp를 str로 변환\n",
    "\n",
    "s_five_date=[]\n",
    "for i in five_date:\n",
    "    s=str(i)\n",
    "    s_five_date.append(s)\n",
    "    print(s, type(s))"
   ]
  },
  {
   "cell_type": "code",
   "execution_count": 192,
   "id": "62636b3d",
   "metadata": {},
   "outputs": [
    {
     "name": "stdout",
     "output_type": "stream",
     "text": [
      "2022-06-10 00:00:00\n",
      "2022-06-12 00:00:00\n",
      "2022-06-14 00:00:00\n",
      "2022-06-16 00:00:00\n",
      "2022-06-18 00:00:00\n"
     ]
    }
   ],
   "source": [
    "#str을 datetime으로 변환\n",
    "\n",
    "d_five_date=[]\n",
    "for i in s_five_date:\n",
    "    d=datetime.strptime(i,'%Y-%m-%d %H:%M:%S')\n",
    "    d_five_date.append(d)\n",
    "    print(d)"
   ]
  },
  {
   "cell_type": "code",
   "execution_count": 195,
   "id": "c37ee6ef",
   "metadata": {},
   "outputs": [
    {
     "name": "stdout",
     "output_type": "stream",
     "text": [
      "1654786800.0\n",
      "1654959600.0\n",
      "1655132400.0\n",
      "1655305200.0\n",
      "1655478000.0\n"
     ]
    }
   ],
   "source": [
    "#str을 timestamp 타입으로 변경\n",
    "\n",
    "t_five_date=[]\n",
    "for i in s_five_date:\n",
    "    t=time.mktime(datetime.strptime(i,'%Y-%m-%d %H:%M:%S').timetuple())\n",
    "    t_five_date.append(t)\n",
    "    print(t)"
   ]
  }
 ],
 "metadata": {
  "kernelspec": {
   "display_name": "Python 3 (ipykernel)",
   "language": "python",
   "name": "python3"
  },
  "language_info": {
   "codemirror_mode": {
    "name": "ipython",
    "version": 3
   },
   "file_extension": ".py",
   "mimetype": "text/x-python",
   "name": "python",
   "nbconvert_exporter": "python",
   "pygments_lexer": "ipython3",
   "version": "3.8.13"
  }
 },
 "nbformat": 4,
 "nbformat_minor": 5
}
