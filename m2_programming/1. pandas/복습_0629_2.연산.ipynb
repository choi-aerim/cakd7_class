{
 "cells": [
  {
   "cell_type": "markdown",
   "id": "c6295b85",
   "metadata": {},
   "source": [
    "## 자료형별 연산\n"
   ]
  },
  {
   "cell_type": "code",
   "execution_count": 1,
   "id": "1fa4e52b",
   "metadata": {},
   "outputs": [],
   "source": [
    "import pandas as pd\n",
    "import numpy as np"
   ]
  },
  {
   "cell_type": "markdown",
   "id": "2ffb0ed2",
   "metadata": {},
   "source": [
    "#### 1.시리즈의 사칙연산"
   ]
  },
  {
   "cell_type": "code",
   "execution_count": 28,
   "id": "26dbf906",
   "metadata": {},
   "outputs": [
    {
     "name": "stdout",
     "output_type": "stream",
     "text": [
      "국어    187\n",
      "수학    150\n",
      "영어    180\n",
      "dtype: int64\n",
      "\n",
      "국어    13\n",
      "수학    20\n",
      "영어   -20\n",
      "dtype: int64\n",
      "\n",
      "국어    8700\n",
      "수학    5525\n",
      "영어    8000\n",
      "dtype: int64\n",
      "\n",
      "국어    1.15\n",
      "수학    1.31\n",
      "영어    0.80\n",
      "dtype: float64\n"
     ]
    }
   ],
   "source": [
    "st1=pd.Series({'국어':100,'수학':85,'영어':80})   # 국어, 수학, 영어 가 인덱스인 3행 1열 \n",
    "st2=pd.Series({'국어':87,'수학': 65, '영어':100})\n",
    "\n",
    "add=st1+st2\n",
    "sub=st1-st2\n",
    "mul=st1*st2\n",
    "div=np.round(st1/st2,2)       #소수점자리  둘째까지\n",
    "print(add,  sub, mul, div ,sep='\\n\\n',)"
   ]
  },
  {
   "cell_type": "code",
   "execution_count": 33,
   "id": "7b0b446c",
   "metadata": {},
   "outputs": [
    {
     "data": {
      "text/html": [
       "<div>\n",
       "<style scoped>\n",
       "    .dataframe tbody tr th:only-of-type {\n",
       "        vertical-align: middle;\n",
       "    }\n",
       "\n",
       "    .dataframe tbody tr th {\n",
       "        vertical-align: top;\n",
       "    }\n",
       "\n",
       "    .dataframe thead th {\n",
       "        text-align: right;\n",
       "    }\n",
       "</style>\n",
       "<table border=\"1\" class=\"dataframe\">\n",
       "  <thead>\n",
       "    <tr style=\"text-align: right;\">\n",
       "      <th></th>\n",
       "      <th>국어</th>\n",
       "      <th>수학</th>\n",
       "      <th>영어</th>\n",
       "    </tr>\n",
       "  </thead>\n",
       "  <tbody>\n",
       "    <tr>\n",
       "      <th>add</th>\n",
       "      <td>187.00</td>\n",
       "      <td>150.00</td>\n",
       "      <td>180.0</td>\n",
       "    </tr>\n",
       "    <tr>\n",
       "      <th>sub</th>\n",
       "      <td>13.00</td>\n",
       "      <td>20.00</td>\n",
       "      <td>-20.0</td>\n",
       "    </tr>\n",
       "    <tr>\n",
       "      <th>mul</th>\n",
       "      <td>8700.00</td>\n",
       "      <td>5525.00</td>\n",
       "      <td>8000.0</td>\n",
       "    </tr>\n",
       "    <tr>\n",
       "      <th>div</th>\n",
       "      <td>1.15</td>\n",
       "      <td>1.31</td>\n",
       "      <td>0.8</td>\n",
       "    </tr>\n",
       "  </tbody>\n",
       "</table>\n",
       "</div>"
      ],
      "text/plain": [
       "          국어       수학      영어\n",
       "add   187.00   150.00   180.0\n",
       "sub    13.00    20.00   -20.0\n",
       "mul  8700.00  5525.00  8000.0\n",
       "div     1.15     1.31     0.8"
      ]
     },
     "execution_count": 33,
     "metadata": {},
     "output_type": "execute_result"
    }
   ],
   "source": [
    "#사칙연산된 Series를 DataFrame으로 변환\n",
    "df=pd.concat([add,sub,mul,div], axis=1)    #열 기준 변환이라고 지정이 필요함\n",
    "df.rename(columns={0:'add',1:'sub',2:'mul',3:'div'},inplace=True)\n",
    "df\n",
    "\n",
    "df2=pd.DataFrame([add,sub,mul,div],index=['add','sub','mul','div'])    #key값이 열로 가게 변환됨\n",
    "df2"
   ]
  },
  {
   "cell_type": "markdown",
   "id": "392c26ae",
   "metadata": {},
   "source": [
    "#### 2. 배열의 연산"
   ]
  },
  {
   "cell_type": "code",
   "execution_count": 43,
   "id": "00a07775",
   "metadata": {},
   "outputs": [
    {
     "data": {
      "text/plain": [
       "array([-11, -10,  -9,  -8,  -7,  -6,  -5,  -4,  -3,  -2])"
      ]
     },
     "execution_count": 43,
     "metadata": {},
     "output_type": "execute_result"
    }
   ],
   "source": [
    "#1차원 배열\n",
    "ar=np.arange(1,11)\n",
    "ar2=np.arange(11,21)\n",
    "\n",
    "add=ar+ar2\n",
    "sub=ar-ar2\n",
    "mul=ar*ar2\n",
    "div=np.round(ar/ar2,2)\n",
    "\n",
    "#broad casting\n",
    "ar-ar2[1]"
   ]
  },
  {
   "cell_type": "code",
   "execution_count": 48,
   "id": "c95095b3",
   "metadata": {},
   "outputs": [
    {
     "data": {
      "text/plain": [
       "array([[ 8, 23, 29, 13, 14],\n",
       "       [12, -2,  8, 18,  0],\n",
       "       [26, 27,  8, 35, -4],\n",
       "       [39, 18, 33,  8, 25]])"
      ]
     },
     "execution_count": 48,
     "metadata": {},
     "output_type": "execute_result"
    }
   ],
   "source": [
    "#2차원 배열\n",
    "ar1=ar.reshape(2,5)[1]\n",
    "ar3=np.random.randint(1,50,size=(4,5))\n",
    "\n",
    "\n",
    "#broad casting\n",
    "ar3-ar1\n",
    "ar3-ar1[0]\n"
   ]
  },
  {
   "cell_type": "markdown",
   "id": "6080b1c5",
   "metadata": {},
   "source": [
    "#### 3. 데이터프레임과 시리즈의 연산"
   ]
  },
  {
   "cell_type": "code",
   "execution_count": 60,
   "id": "400ed2c0",
   "metadata": {},
   "outputs": [
    {
     "name": "stdout",
     "output_type": "stream",
     "text": [
      "    a   b   c   d   e\n",
      "0  45  48   1   4   4\n",
      "1  40  10  20  22  37\n",
      "2  24   7  25  25  13\n",
      "3   2  39  40  24  47\n",
      "    a   b   c   d   e\n",
      "0  90  96   2   8   8\n",
      "1  80  20  40  44  74\n",
      "2  48  14  50  50  26\n",
      "3   4  78  80  48  94 \n",
      "\n",
      "   a  b  c  d  e\n",
      "0  0  0  0  0  0\n",
      "1  0  0  0  0  0\n",
      "2  0  0  0  0  0\n",
      "3  0  0  0  0  0 \n",
      "\n",
      "      a     b     c    d     e\n",
      "0  2025  2304     1   16    16\n",
      "1  1600   100   400  484  1369\n",
      "2   576    49   625  625   169\n",
      "3     4  1521  1600  576  2209 \n",
      "\n",
      "     a    b    c    d    e\n",
      "0  1.0  1.0  1.0  1.0  1.0\n",
      "1  1.0  1.0  1.0  1.0  1.0\n",
      "2  1.0  1.0  1.0  1.0  1.0\n",
      "3  1.0  1.0  1.0  1.0  1.0 \n",
      "\n",
      "a    14\n",
      "b    -3\n",
      "c    15\n",
      "d    15\n",
      "e     3\n",
      "Name: 2, dtype: int32\n"
     ]
    },
    {
     "data": {
      "text/html": [
       "<div>\n",
       "<style scoped>\n",
       "    .dataframe tbody tr th:only-of-type {\n",
       "        vertical-align: middle;\n",
       "    }\n",
       "\n",
       "    .dataframe tbody tr th {\n",
       "        vertical-align: top;\n",
       "    }\n",
       "\n",
       "    .dataframe thead th {\n",
       "        text-align: right;\n",
       "    }\n",
       "</style>\n",
       "<table border=\"1\" class=\"dataframe\">\n",
       "  <thead>\n",
       "    <tr style=\"text-align: right;\">\n",
       "      <th></th>\n",
       "      <th>a</th>\n",
       "      <th>b</th>\n",
       "      <th>c</th>\n",
       "      <th>d</th>\n",
       "      <th>e</th>\n",
       "    </tr>\n",
       "  </thead>\n",
       "  <tbody>\n",
       "    <tr>\n",
       "      <th>0</th>\n",
       "      <td>31</td>\n",
       "      <td>51</td>\n",
       "      <td>-14</td>\n",
       "      <td>-11</td>\n",
       "      <td>1</td>\n",
       "    </tr>\n",
       "    <tr>\n",
       "      <th>1</th>\n",
       "      <td>26</td>\n",
       "      <td>13</td>\n",
       "      <td>5</td>\n",
       "      <td>7</td>\n",
       "      <td>34</td>\n",
       "    </tr>\n",
       "    <tr>\n",
       "      <th>2</th>\n",
       "      <td>10</td>\n",
       "      <td>10</td>\n",
       "      <td>10</td>\n",
       "      <td>10</td>\n",
       "      <td>10</td>\n",
       "    </tr>\n",
       "    <tr>\n",
       "      <th>3</th>\n",
       "      <td>-12</td>\n",
       "      <td>42</td>\n",
       "      <td>25</td>\n",
       "      <td>9</td>\n",
       "      <td>44</td>\n",
       "    </tr>\n",
       "  </tbody>\n",
       "</table>\n",
       "</div>"
      ],
      "text/plain": [
       "    a   b   c   d   e\n",
       "0  31  51 -14 -11   1\n",
       "1  26  13   5   7  34\n",
       "2  10  10  10  10  10\n",
       "3 -12  42  25   9  44"
      ]
     },
     "execution_count": 60,
     "metadata": {},
     "output_type": "execute_result"
    }
   ],
   "source": [
    "#데이터프레임의 연산\n",
    "np.random.seed(0)\n",
    "df=pd.DataFrame(np.random.randint(1,50,size=(4,5)), columns=['a','b','c','d','e'])\n",
    "print(df)\n",
    "\n",
    "print(df+df,'\\n')\n",
    "print(df-df,'\\n')\n",
    "print(df*df,'\\n')\n",
    "print(np.round(df/df,1),'\\n')\n",
    "\n",
    "\n",
    "#broad casting\n",
    "s3=df.iloc[2]-10\n",
    "print(s3)\n",
    "\n",
    "df-s3"
   ]
  },
  {
   "cell_type": "markdown",
   "id": "cecf8f9b",
   "metadata": {},
   "source": [
    "## 함수의 매핑\n",
    "\n",
    "- 커스텀 함수를 데이터프레임에 적용하기 위해\n",
    "    - map 함수: 시리즈 타입에서만 함수 적용\n",
    "    - apply 함수:  데이터 프레임의 복수개의 행/열마다 요소들에 함수 적용\n",
    "    - mapapply 함수: 데이터프레임 내 모든 요소들에 함수 적용"
   ]
  },
  {
   "cell_type": "code",
   "execution_count": 130,
   "id": "2a3506d2",
   "metadata": {},
   "outputs": [
    {
     "data": {
      "text/html": [
       "<div>\n",
       "<style scoped>\n",
       "    .dataframe tbody tr th:only-of-type {\n",
       "        vertical-align: middle;\n",
       "    }\n",
       "\n",
       "    .dataframe tbody tr th {\n",
       "        vertical-align: top;\n",
       "    }\n",
       "\n",
       "    .dataframe thead th {\n",
       "        text-align: right;\n",
       "    }\n",
       "</style>\n",
       "<table border=\"1\" class=\"dataframe\">\n",
       "  <thead>\n",
       "    <tr style=\"text-align: right;\">\n",
       "      <th></th>\n",
       "      <th>a</th>\n",
       "      <th>b</th>\n",
       "      <th>c</th>\n",
       "      <th>d</th>\n",
       "      <th>e</th>\n",
       "    </tr>\n",
       "  </thead>\n",
       "  <tbody>\n",
       "    <tr>\n",
       "      <th>0</th>\n",
       "      <td>4</td>\n",
       "      <td>16</td>\n",
       "      <td>14</td>\n",
       "      <td>17</td>\n",
       "      <td>18</td>\n",
       "    </tr>\n",
       "    <tr>\n",
       "      <th>1</th>\n",
       "      <td>6</td>\n",
       "      <td>10</td>\n",
       "      <td>4</td>\n",
       "      <td>1</td>\n",
       "      <td>6</td>\n",
       "    </tr>\n",
       "    <tr>\n",
       "      <th>2</th>\n",
       "      <td>1</td>\n",
       "      <td>18</td>\n",
       "      <td>19</td>\n",
       "      <td>5</td>\n",
       "      <td>3</td>\n",
       "    </tr>\n",
       "    <tr>\n",
       "      <th>3</th>\n",
       "      <td>17</td>\n",
       "      <td>4</td>\n",
       "      <td>3</td>\n",
       "      <td>11</td>\n",
       "      <td>14</td>\n",
       "    </tr>\n",
       "  </tbody>\n",
       "</table>\n",
       "</div>"
      ],
      "text/plain": [
       "    a   b   c   d   e\n",
       "0   4  16  14  17  18\n",
       "1   6  10   4   1   6\n",
       "2   1  18  19   5   3\n",
       "3  17   4   3  11  14"
      ]
     },
     "execution_count": 130,
     "metadata": {},
     "output_type": "execute_result"
    }
   ],
   "source": [
    "#데이터프레임 생성\n",
    "df=pd.DataFrame(np.random.randint(1,20,size=(4,5)),columns=list('abcde'))\n",
    "df"
   ]
  },
  {
   "cell_type": "code",
   "execution_count": 131,
   "id": "861054ef",
   "metadata": {},
   "outputs": [
    {
     "data": {
      "text/plain": [
       "16.0"
      ]
     },
     "execution_count": 131,
     "metadata": {},
     "output_type": "execute_result"
    }
   ],
   "source": [
    "#시리즈에 메서드 적용해보기\n",
    "s1= df.iloc[0]\n",
    "s1.max()\n",
    "s1.min()\n",
    "s1.mean()\n",
    "s1.sum()\n",
    "s1.median()"
   ]
  },
  {
   "cell_type": "markdown",
   "id": "359c7ae2",
   "metadata": {},
   "source": [
    "#### apply: 시리즈(행/열)에 함수를 적용해 하나의 요소(value) 값으로 반환  "
   ]
  },
  {
   "cell_type": "markdown",
   "id": "0d7c58a5",
   "metadata": {},
   "source": [
    "#### - 람다함수를 데이터프레임에 적용"
   ]
  },
  {
   "cell_type": "code",
   "execution_count": 134,
   "id": "e957c554",
   "metadata": {},
   "outputs": [],
   "source": [
    "#람다함수 만들기\n",
    "fx=lambda x: x.max()-x.mean()\n",
    "\n",
    "\n",
    "fx2=lambda x: x.max()-x"
   ]
  },
  {
   "cell_type": "code",
   "execution_count": 135,
   "id": "d7471a96",
   "metadata": {},
   "outputs": [
    {
     "data": {
      "text/plain": [
       "a    10.00\n",
       "b     6.00\n",
       "c     9.00\n",
       "d     8.50\n",
       "e     7.75\n",
       "dtype: float64"
      ]
     },
     "execution_count": 135,
     "metadata": {},
     "output_type": "execute_result"
    }
   ],
   "source": [
    "df.apply(fx)   #열에 대해 반환(default)"
   ]
  },
  {
   "cell_type": "code",
   "execution_count": 136,
   "id": "4492bf43",
   "metadata": {
    "scrolled": true
   },
   "outputs": [
    {
     "data": {
      "text/html": [
       "<div>\n",
       "<style scoped>\n",
       "    .dataframe tbody tr th:only-of-type {\n",
       "        vertical-align: middle;\n",
       "    }\n",
       "\n",
       "    .dataframe tbody tr th {\n",
       "        vertical-align: top;\n",
       "    }\n",
       "\n",
       "    .dataframe thead th {\n",
       "        text-align: right;\n",
       "    }\n",
       "</style>\n",
       "<table border=\"1\" class=\"dataframe\">\n",
       "  <thead>\n",
       "    <tr style=\"text-align: right;\">\n",
       "      <th></th>\n",
       "      <th>a</th>\n",
       "      <th>b</th>\n",
       "      <th>c</th>\n",
       "      <th>d</th>\n",
       "      <th>e</th>\n",
       "    </tr>\n",
       "  </thead>\n",
       "  <tbody>\n",
       "    <tr>\n",
       "      <th>0</th>\n",
       "      <td>13</td>\n",
       "      <td>2</td>\n",
       "      <td>5</td>\n",
       "      <td>0</td>\n",
       "      <td>0</td>\n",
       "    </tr>\n",
       "    <tr>\n",
       "      <th>1</th>\n",
       "      <td>11</td>\n",
       "      <td>8</td>\n",
       "      <td>15</td>\n",
       "      <td>16</td>\n",
       "      <td>12</td>\n",
       "    </tr>\n",
       "    <tr>\n",
       "      <th>2</th>\n",
       "      <td>16</td>\n",
       "      <td>0</td>\n",
       "      <td>0</td>\n",
       "      <td>12</td>\n",
       "      <td>15</td>\n",
       "    </tr>\n",
       "    <tr>\n",
       "      <th>3</th>\n",
       "      <td>0</td>\n",
       "      <td>14</td>\n",
       "      <td>16</td>\n",
       "      <td>6</td>\n",
       "      <td>4</td>\n",
       "    </tr>\n",
       "  </tbody>\n",
       "</table>\n",
       "</div>"
      ],
      "text/plain": [
       "    a   b   c   d   e\n",
       "0  13   2   5   0   0\n",
       "1  11   8  15  16  12\n",
       "2  16   0   0  12  15\n",
       "3   0  14  16   6   4"
      ]
     },
     "execution_count": 136,
     "metadata": {},
     "output_type": "execute_result"
    }
   ],
   "source": [
    "df.apply(fx2)"
   ]
  },
  {
   "cell_type": "code",
   "execution_count": 82,
   "id": "58ef2e1d",
   "metadata": {},
   "outputs": [
    {
     "data": {
      "text/plain": [
       "0    8.2\n",
       "1    4.0\n",
       "2    8.6\n",
       "3    4.4\n",
       "dtype: float64"
      ]
     },
     "execution_count": 82,
     "metadata": {},
     "output_type": "execute_result"
    }
   ],
   "source": [
    "df.apply(fx,axis=1) #행에 대해 반환 (열끼리 함수 적용)"
   ]
  },
  {
   "cell_type": "code",
   "execution_count": 137,
   "id": "c95caa38",
   "metadata": {},
   "outputs": [
    {
     "data": {
      "text/html": [
       "<div>\n",
       "<style scoped>\n",
       "    .dataframe tbody tr th:only-of-type {\n",
       "        vertical-align: middle;\n",
       "    }\n",
       "\n",
       "    .dataframe tbody tr th {\n",
       "        vertical-align: top;\n",
       "    }\n",
       "\n",
       "    .dataframe thead th {\n",
       "        text-align: right;\n",
       "    }\n",
       "</style>\n",
       "<table border=\"1\" class=\"dataframe\">\n",
       "  <thead>\n",
       "    <tr style=\"text-align: right;\">\n",
       "      <th></th>\n",
       "      <th>a</th>\n",
       "      <th>b</th>\n",
       "      <th>c</th>\n",
       "      <th>d</th>\n",
       "      <th>e</th>\n",
       "    </tr>\n",
       "  </thead>\n",
       "  <tbody>\n",
       "    <tr>\n",
       "      <th>0</th>\n",
       "      <td>14</td>\n",
       "      <td>2</td>\n",
       "      <td>4</td>\n",
       "      <td>1</td>\n",
       "      <td>0</td>\n",
       "    </tr>\n",
       "    <tr>\n",
       "      <th>1</th>\n",
       "      <td>4</td>\n",
       "      <td>0</td>\n",
       "      <td>6</td>\n",
       "      <td>9</td>\n",
       "      <td>4</td>\n",
       "    </tr>\n",
       "    <tr>\n",
       "      <th>2</th>\n",
       "      <td>18</td>\n",
       "      <td>1</td>\n",
       "      <td>0</td>\n",
       "      <td>14</td>\n",
       "      <td>16</td>\n",
       "    </tr>\n",
       "    <tr>\n",
       "      <th>3</th>\n",
       "      <td>0</td>\n",
       "      <td>13</td>\n",
       "      <td>14</td>\n",
       "      <td>6</td>\n",
       "      <td>3</td>\n",
       "    </tr>\n",
       "  </tbody>\n",
       "</table>\n",
       "</div>"
      ],
      "text/plain": [
       "    a   b   c   d   e\n",
       "0  14   2   4   1   0\n",
       "1   4   0   6   9   4\n",
       "2  18   1   0  14  16\n",
       "3   0  13  14   6   3"
      ]
     },
     "execution_count": 137,
     "metadata": {},
     "output_type": "execute_result"
    }
   ],
   "source": [
    "df.apply(fx2,axis=1)"
   ]
  },
  {
   "cell_type": "markdown",
   "id": "bdf30c7d",
   "metadata": {},
   "source": [
    "#### - 사용자정의 함수를 데이터프레임에 적용"
   ]
  },
  {
   "cell_type": "code",
   "execution_count": 87,
   "id": "dca01c85",
   "metadata": {},
   "outputs": [],
   "source": [
    "#사용자정의 함수 만들기\n",
    "def f(x):\n",
    "    return pd.Series([x.max(),x.min()],index=['max','min'])"
   ]
  },
  {
   "cell_type": "code",
   "execution_count": 88,
   "id": "cf3f701b",
   "metadata": {},
   "outputs": [
    {
     "data": {
      "text/html": [
       "<div>\n",
       "<style scoped>\n",
       "    .dataframe tbody tr th:only-of-type {\n",
       "        vertical-align: middle;\n",
       "    }\n",
       "\n",
       "    .dataframe tbody tr th {\n",
       "        vertical-align: top;\n",
       "    }\n",
       "\n",
       "    .dataframe thead th {\n",
       "        text-align: right;\n",
       "    }\n",
       "</style>\n",
       "<table border=\"1\" class=\"dataframe\">\n",
       "  <thead>\n",
       "    <tr style=\"text-align: right;\">\n",
       "      <th></th>\n",
       "      <th>a</th>\n",
       "      <th>b</th>\n",
       "      <th>c</th>\n",
       "      <th>d</th>\n",
       "      <th>e</th>\n",
       "    </tr>\n",
       "  </thead>\n",
       "  <tbody>\n",
       "    <tr>\n",
       "      <th>max</th>\n",
       "      <td>15</td>\n",
       "      <td>12</td>\n",
       "      <td>15</td>\n",
       "      <td>19</td>\n",
       "      <td>16</td>\n",
       "    </tr>\n",
       "    <tr>\n",
       "      <th>min</th>\n",
       "      <td>5</td>\n",
       "      <td>4</td>\n",
       "      <td>5</td>\n",
       "      <td>11</td>\n",
       "      <td>1</td>\n",
       "    </tr>\n",
       "  </tbody>\n",
       "</table>\n",
       "</div>"
      ],
      "text/plain": [
       "      a   b   c   d   e\n",
       "max  15  12  15  19  16\n",
       "min   5   4   5  11   1"
      ]
     },
     "execution_count": 88,
     "metadata": {},
     "output_type": "execute_result"
    }
   ],
   "source": [
    "df.apply(lambda x: f(x))  #열에 대해 반환"
   ]
  },
  {
   "cell_type": "code",
   "execution_count": 89,
   "id": "919e1bc3",
   "metadata": {},
   "outputs": [
    {
     "data": {
      "text/html": [
       "<div>\n",
       "<style scoped>\n",
       "    .dataframe tbody tr th:only-of-type {\n",
       "        vertical-align: middle;\n",
       "    }\n",
       "\n",
       "    .dataframe tbody tr th {\n",
       "        vertical-align: top;\n",
       "    }\n",
       "\n",
       "    .dataframe thead th {\n",
       "        text-align: right;\n",
       "    }\n",
       "</style>\n",
       "<table border=\"1\" class=\"dataframe\">\n",
       "  <thead>\n",
       "    <tr style=\"text-align: right;\">\n",
       "      <th></th>\n",
       "      <th>max</th>\n",
       "      <th>min</th>\n",
       "    </tr>\n",
       "  </thead>\n",
       "  <tbody>\n",
       "    <tr>\n",
       "      <th>0</th>\n",
       "      <td>19</td>\n",
       "      <td>1</td>\n",
       "    </tr>\n",
       "    <tr>\n",
       "      <th>1</th>\n",
       "      <td>15</td>\n",
       "      <td>4</td>\n",
       "    </tr>\n",
       "    <tr>\n",
       "      <th>2</th>\n",
       "      <td>16</td>\n",
       "      <td>4</td>\n",
       "    </tr>\n",
       "    <tr>\n",
       "      <th>3</th>\n",
       "      <td>16</td>\n",
       "      <td>5</td>\n",
       "    </tr>\n",
       "  </tbody>\n",
       "</table>\n",
       "</div>"
      ],
      "text/plain": [
       "   max  min\n",
       "0   19    1\n",
       "1   15    4\n",
       "2   16    4\n",
       "3   16    5"
      ]
     },
     "execution_count": 89,
     "metadata": {},
     "output_type": "execute_result"
    }
   ],
   "source": [
    "df.apply(lambda x:f(x),axis=1)  #행에 대해 반환"
   ]
  },
  {
   "cell_type": "markdown",
   "id": "17464107",
   "metadata": {},
   "source": [
    "#### map: 함수를 시리즈에 적용해서 시리즈 요소값 전체가 나옴"
   ]
  },
  {
   "cell_type": "markdown",
   "id": "dd2528ca",
   "metadata": {},
   "source": [
    "#### - 람다함수를 데이터프레임에 적용"
   ]
  },
  {
   "cell_type": "code",
   "execution_count": 96,
   "id": "2de0f828",
   "metadata": {},
   "outputs": [
    {
     "data": {
      "text/plain": [
       "0     7\n",
       "1    15\n",
       "2     5\n",
       "3    13\n",
       "Name: a, dtype: int32"
      ]
     },
     "execution_count": 96,
     "metadata": {},
     "output_type": "execute_result"
    }
   ],
   "source": [
    "#람다함수 만들기\n",
    "format=lambda x: '%.2f'%x     #[.2]:소수점자리 두자리\n",
    "                                                      #[f]: 실수\n",
    "#### - 람다함수를 데이터프레임에 적용"
   ]
  },
  {
   "cell_type": "code",
   "execution_count": 97,
   "id": "c4731dc6",
   "metadata": {},
   "outputs": [
    {
     "data": {
      "text/plain": [
       "0     7.00\n",
       "1    15.00\n",
       "2     5.00\n",
       "3    13.00\n",
       "Name: a, dtype: object"
      ]
     },
     "execution_count": 97,
     "metadata": {},
     "output_type": "execute_result"
    }
   ],
   "source": [
    "df['a']\n",
    "df.iloc[:,0]\n",
    "df.loc[:,'a']      #열에 함수 적용\n",
    "\n",
    "df['a'].map(format)"
   ]
  },
  {
   "cell_type": "markdown",
   "id": "eaa8d016",
   "metadata": {},
   "source": [
    "#### - 사용자정의 함수를 데이터프레임에 적용"
   ]
  },
  {
   "cell_type": "code",
   "execution_count": 104,
   "id": "b79d7f3e",
   "metadata": {},
   "outputs": [],
   "source": [
    "#사용자정의함수 만들기: %로 만들기\n",
    "def percent(x):\n",
    "    if x/100>0.1:\n",
    "        y='높음'\n",
    "    else:\n",
    "        y='낮음'\n",
    "    return f'{y}: {x}%' #### - 사용자정의 함수를 데이터프레임에 적용"
   ]
  },
  {
   "cell_type": "code",
   "execution_count": 105,
   "id": "4006405a",
   "metadata": {},
   "outputs": [
    {
     "data": {
      "text/plain": [
       "a    높음: 15%\n",
       "b     낮음: 4%\n",
       "c    높음: 13%\n",
       "d    높음: 11%\n",
       "e    높음: 12%\n",
       "Name: 1, dtype: object"
      ]
     },
     "execution_count": 105,
     "metadata": {},
     "output_type": "execute_result"
    }
   ],
   "source": [
    "df.iloc[1,].map(lambda x: percent(x))"
   ]
  },
  {
   "cell_type": "markdown",
   "id": "17e1d262",
   "metadata": {},
   "source": [
    "#### applymap: 데이터프레임 모든 요소값들에 함수 적용"
   ]
  },
  {
   "cell_type": "markdown",
   "id": "acd6730d",
   "metadata": {},
   "source": [
    "#### - 람다함수를 데이터프레임에 적용"
   ]
  },
  {
   "cell_type": "code",
   "execution_count": 106,
   "id": "9dffad52",
   "metadata": {},
   "outputs": [],
   "source": [
    "f=lambda x: x**2"
   ]
  },
  {
   "cell_type": "code",
   "execution_count": 107,
   "id": "052c40b7",
   "metadata": {},
   "outputs": [
    {
     "data": {
      "text/html": [
       "<div>\n",
       "<style scoped>\n",
       "    .dataframe tbody tr th:only-of-type {\n",
       "        vertical-align: middle;\n",
       "    }\n",
       "\n",
       "    .dataframe tbody tr th {\n",
       "        vertical-align: top;\n",
       "    }\n",
       "\n",
       "    .dataframe thead th {\n",
       "        text-align: right;\n",
       "    }\n",
       "</style>\n",
       "<table border=\"1\" class=\"dataframe\">\n",
       "  <thead>\n",
       "    <tr style=\"text-align: right;\">\n",
       "      <th></th>\n",
       "      <th>a</th>\n",
       "      <th>b</th>\n",
       "      <th>c</th>\n",
       "      <th>d</th>\n",
       "      <th>e</th>\n",
       "    </tr>\n",
       "  </thead>\n",
       "  <tbody>\n",
       "    <tr>\n",
       "      <th>0</th>\n",
       "      <td>49</td>\n",
       "      <td>144</td>\n",
       "      <td>225</td>\n",
       "      <td>361</td>\n",
       "      <td>1</td>\n",
       "    </tr>\n",
       "    <tr>\n",
       "      <th>1</th>\n",
       "      <td>225</td>\n",
       "      <td>16</td>\n",
       "      <td>169</td>\n",
       "      <td>121</td>\n",
       "      <td>144</td>\n",
       "    </tr>\n",
       "    <tr>\n",
       "      <th>2</th>\n",
       "      <td>25</td>\n",
       "      <td>49</td>\n",
       "      <td>25</td>\n",
       "      <td>256</td>\n",
       "      <td>16</td>\n",
       "    </tr>\n",
       "    <tr>\n",
       "      <th>3</th>\n",
       "      <td>169</td>\n",
       "      <td>25</td>\n",
       "      <td>81</td>\n",
       "      <td>225</td>\n",
       "      <td>256</td>\n",
       "    </tr>\n",
       "  </tbody>\n",
       "</table>\n",
       "</div>"
      ],
      "text/plain": [
       "     a    b    c    d    e\n",
       "0   49  144  225  361    1\n",
       "1  225   16  169  121  144\n",
       "2   25   49   25  256   16\n",
       "3  169   25   81  225  256"
      ]
     },
     "execution_count": 107,
     "metadata": {},
     "output_type": "execute_result"
    }
   ],
   "source": [
    "df.applymap(f)"
   ]
  },
  {
   "cell_type": "markdown",
   "id": "dbd8d46a",
   "metadata": {},
   "source": [
    "#### - 사용자정의 함수를 데이터프레임에 적용"
   ]
  },
  {
   "cell_type": "code",
   "execution_count": 138,
   "id": "e7029849",
   "metadata": {},
   "outputs": [
    {
     "data": {
      "text/html": [
       "<div>\n",
       "<style scoped>\n",
       "    .dataframe tbody tr th:only-of-type {\n",
       "        vertical-align: middle;\n",
       "    }\n",
       "\n",
       "    .dataframe tbody tr th {\n",
       "        vertical-align: top;\n",
       "    }\n",
       "\n",
       "    .dataframe thead th {\n",
       "        text-align: right;\n",
       "    }\n",
       "</style>\n",
       "<table border=\"1\" class=\"dataframe\">\n",
       "  <thead>\n",
       "    <tr style=\"text-align: right;\">\n",
       "      <th></th>\n",
       "      <th>a</th>\n",
       "      <th>b</th>\n",
       "      <th>c</th>\n",
       "      <th>d</th>\n",
       "      <th>e</th>\n",
       "    </tr>\n",
       "  </thead>\n",
       "  <tbody>\n",
       "    <tr>\n",
       "      <th>0</th>\n",
       "      <td>00004.00</td>\n",
       "      <td>00016.00</td>\n",
       "      <td>00014.00</td>\n",
       "      <td>00017.00</td>\n",
       "      <td>00018.00</td>\n",
       "    </tr>\n",
       "    <tr>\n",
       "      <th>1</th>\n",
       "      <td>00006.00</td>\n",
       "      <td>00010.00</td>\n",
       "      <td>00004.00</td>\n",
       "      <td>00001.00</td>\n",
       "      <td>00006.00</td>\n",
       "    </tr>\n",
       "    <tr>\n",
       "      <th>2</th>\n",
       "      <td>00001.00</td>\n",
       "      <td>00018.00</td>\n",
       "      <td>00019.00</td>\n",
       "      <td>00005.00</td>\n",
       "      <td>00003.00</td>\n",
       "    </tr>\n",
       "    <tr>\n",
       "      <th>3</th>\n",
       "      <td>00017.00</td>\n",
       "      <td>00004.00</td>\n",
       "      <td>00003.00</td>\n",
       "      <td>00011.00</td>\n",
       "      <td>00014.00</td>\n",
       "    </tr>\n",
       "  </tbody>\n",
       "</table>\n",
       "</div>"
      ],
      "text/plain": [
       "          a         b         c         d         e\n",
       "0  00004.00  00016.00  00014.00  00017.00  00018.00\n",
       "1  00006.00  00010.00  00004.00  00001.00  00006.00\n",
       "2  00001.00  00018.00  00019.00  00005.00  00003.00\n",
       "3  00017.00  00004.00  00003.00  00011.00  00014.00"
      ]
     },
     "execution_count": 138,
     "metadata": {},
     "output_type": "execute_result"
    }
   ],
   "source": [
    "def f(x):\n",
    "    return f'{x:08.2f}'\n",
    "\n",
    "df.applymap(lambda x: f(x))"
   ]
  },
  {
   "cell_type": "markdown",
   "id": "ff6fe67a",
   "metadata": {},
   "source": [
    "## 과제\n",
    "#### 최대한 복잡한 사용자 함수를 생성한 후 데이터프레임에 적용하여 결과를 출력할 것\n"
   ]
  },
  {
   "cell_type": "code",
   "execution_count": 154,
   "id": "d6ab3d84",
   "metadata": {},
   "outputs": [
    {
     "data": {
      "text/html": [
       "<div>\n",
       "<style scoped>\n",
       "    .dataframe tbody tr th:only-of-type {\n",
       "        vertical-align: middle;\n",
       "    }\n",
       "\n",
       "    .dataframe tbody tr th {\n",
       "        vertical-align: top;\n",
       "    }\n",
       "\n",
       "    .dataframe thead th {\n",
       "        text-align: right;\n",
       "    }\n",
       "</style>\n",
       "<table border=\"1\" class=\"dataframe\">\n",
       "  <thead>\n",
       "    <tr style=\"text-align: right;\">\n",
       "      <th></th>\n",
       "      <th>국어</th>\n",
       "      <th>수학</th>\n",
       "      <th>사회</th>\n",
       "      <th>과학</th>\n",
       "      <th>영어</th>\n",
       "    </tr>\n",
       "  </thead>\n",
       "  <tbody>\n",
       "    <tr>\n",
       "      <th>0</th>\n",
       "      <td>59</td>\n",
       "      <td>86</td>\n",
       "      <td>65</td>\n",
       "      <td>50</td>\n",
       "      <td>99</td>\n",
       "    </tr>\n",
       "    <tr>\n",
       "      <th>1</th>\n",
       "      <td>78</td>\n",
       "      <td>75</td>\n",
       "      <td>79</td>\n",
       "      <td>98</td>\n",
       "      <td>79</td>\n",
       "    </tr>\n",
       "    <tr>\n",
       "      <th>2</th>\n",
       "      <td>99</td>\n",
       "      <td>58</td>\n",
       "      <td>59</td>\n",
       "      <td>50</td>\n",
       "      <td>92</td>\n",
       "    </tr>\n",
       "    <tr>\n",
       "      <th>3</th>\n",
       "      <td>90</td>\n",
       "      <td>86</td>\n",
       "      <td>66</td>\n",
       "      <td>86</td>\n",
       "      <td>97</td>\n",
       "    </tr>\n",
       "    <tr>\n",
       "      <th>4</th>\n",
       "      <td>61</td>\n",
       "      <td>74</td>\n",
       "      <td>93</td>\n",
       "      <td>83</td>\n",
       "      <td>58</td>\n",
       "    </tr>\n",
       "  </tbody>\n",
       "</table>\n",
       "</div>"
      ],
      "text/plain": [
       "   국어  수학  사회  과학  영어\n",
       "0  59  86  65  50  99\n",
       "1  78  75  79  98  79\n",
       "2  99  58  59  50  92\n",
       "3  90  86  66  86  97\n",
       "4  61  74  93  83  58"
      ]
     },
     "execution_count": 154,
     "metadata": {},
     "output_type": "execute_result"
    }
   ],
   "source": [
    "# 데이터프레임 생성\n",
    "import numpy as np\n",
    "import pandas as pd\n",
    "\n",
    "np.random.seed(10)\n",
    "df=pd.DataFrame(np.random.randint(50,100,size=(10,5)),columns=['국어','수학','사회','과학','영어'])\n",
    "df.head()"
   ]
  },
  {
   "cell_type": "code",
   "execution_count": 158,
   "id": "133b6cd2",
   "metadata": {},
   "outputs": [],
   "source": [
    "#함수 생성\n",
    "def su_ga(x):\n",
    "    score=''\n",
    "    if x<50:\n",
    "        score= '가'\n",
    "    elif x<60:\n",
    "        score= '양'\n",
    "    elif x<70:\n",
    "        score= '미'\n",
    "    elif x<80:\n",
    "        score= '우'\n",
    "    elif x>=80:\n",
    "        score= '수'    \n",
    "    return score"
   ]
  },
  {
   "cell_type": "code",
   "execution_count": 157,
   "id": "d0430635",
   "metadata": {},
   "outputs": [
    {
     "data": {
      "text/html": [
       "<div>\n",
       "<style scoped>\n",
       "    .dataframe tbody tr th:only-of-type {\n",
       "        vertical-align: middle;\n",
       "    }\n",
       "\n",
       "    .dataframe tbody tr th {\n",
       "        vertical-align: top;\n",
       "    }\n",
       "\n",
       "    .dataframe thead th {\n",
       "        text-align: right;\n",
       "    }\n",
       "</style>\n",
       "<table border=\"1\" class=\"dataframe\">\n",
       "  <thead>\n",
       "    <tr style=\"text-align: right;\">\n",
       "      <th></th>\n",
       "      <th>국어</th>\n",
       "      <th>수학</th>\n",
       "      <th>사회</th>\n",
       "      <th>과학</th>\n",
       "      <th>영어</th>\n",
       "    </tr>\n",
       "  </thead>\n",
       "  <tbody>\n",
       "    <tr>\n",
       "      <th>0</th>\n",
       "      <td>양</td>\n",
       "      <td>수</td>\n",
       "      <td>미</td>\n",
       "      <td>양</td>\n",
       "      <td>수</td>\n",
       "    </tr>\n",
       "    <tr>\n",
       "      <th>1</th>\n",
       "      <td>우</td>\n",
       "      <td>우</td>\n",
       "      <td>우</td>\n",
       "      <td>수</td>\n",
       "      <td>우</td>\n",
       "    </tr>\n",
       "    <tr>\n",
       "      <th>2</th>\n",
       "      <td>수</td>\n",
       "      <td>양</td>\n",
       "      <td>양</td>\n",
       "      <td>양</td>\n",
       "      <td>수</td>\n",
       "    </tr>\n",
       "    <tr>\n",
       "      <th>3</th>\n",
       "      <td>수</td>\n",
       "      <td>수</td>\n",
       "      <td>미</td>\n",
       "      <td>수</td>\n",
       "      <td>수</td>\n",
       "    </tr>\n",
       "    <tr>\n",
       "      <th>4</th>\n",
       "      <td>미</td>\n",
       "      <td>우</td>\n",
       "      <td>수</td>\n",
       "      <td>수</td>\n",
       "      <td>양</td>\n",
       "    </tr>\n",
       "    <tr>\n",
       "      <th>5</th>\n",
       "      <td>수</td>\n",
       "      <td>미</td>\n",
       "      <td>수</td>\n",
       "      <td>미</td>\n",
       "      <td>양</td>\n",
       "    </tr>\n",
       "    <tr>\n",
       "      <th>6</th>\n",
       "      <td>미</td>\n",
       "      <td>우</td>\n",
       "      <td>미</td>\n",
       "      <td>우</td>\n",
       "      <td>우</td>\n",
       "    </tr>\n",
       "    <tr>\n",
       "      <th>7</th>\n",
       "      <td>수</td>\n",
       "      <td>수</td>\n",
       "      <td>우</td>\n",
       "      <td>미</td>\n",
       "      <td>양</td>\n",
       "    </tr>\n",
       "    <tr>\n",
       "      <th>8</th>\n",
       "      <td>수</td>\n",
       "      <td>수</td>\n",
       "      <td>우</td>\n",
       "      <td>미</td>\n",
       "      <td>우</td>\n",
       "    </tr>\n",
       "    <tr>\n",
       "      <th>9</th>\n",
       "      <td>미</td>\n",
       "      <td>우</td>\n",
       "      <td>우</td>\n",
       "      <td>수</td>\n",
       "      <td>미</td>\n",
       "    </tr>\n",
       "  </tbody>\n",
       "</table>\n",
       "</div>"
      ],
      "text/plain": [
       "  국어 수학 사회 과학 영어\n",
       "0  양  수  미  양  수\n",
       "1  우  우  우  수  우\n",
       "2  수  양  양  양  수\n",
       "3  수  수  미  수  수\n",
       "4  미  우  수  수  양\n",
       "5  수  미  수  미  양\n",
       "6  미  우  미  우  우\n",
       "7  수  수  우  미  양\n",
       "8  수  수  우  미  우\n",
       "9  미  우  우  수  미"
      ]
     },
     "execution_count": 157,
     "metadata": {},
     "output_type": "execute_result"
    }
   ],
   "source": [
    "#적용 결과\n",
    "df.applymap(lambda x: su_ga(x))"
   ]
  },
  {
   "cell_type": "code",
   "execution_count": null,
   "id": "44159e18",
   "metadata": {},
   "outputs": [],
   "source": []
  }
 ],
 "metadata": {
  "kernelspec": {
   "display_name": "Python 3 (ipykernel)",
   "language": "python",
   "name": "python3"
  },
  "language_info": {
   "codemirror_mode": {
    "name": "ipython",
    "version": 3
   },
   "file_extension": ".py",
   "mimetype": "text/x-python",
   "name": "python",
   "nbconvert_exporter": "python",
   "pygments_lexer": "ipython3",
   "version": "3.8.13"
  }
 },
 "nbformat": 4,
 "nbformat_minor": 5
}
