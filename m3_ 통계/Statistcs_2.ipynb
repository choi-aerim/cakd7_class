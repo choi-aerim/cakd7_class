{
 "cells": [
  {
   "cell_type": "markdown",
   "id": "4f2973a9",
   "metadata": {},
   "source": [
    "## 참고: 미적분 관계\n",
    "\n",
    "- 총효용과 한계효용간의 관계를 미적분으로 설명할 수 있다.\n",
    "- 총효용곡선의 특정 x에 대한 y값은 한계효용곡선의 하방면적과 같고 한계효용곡선의 특정 x에 대한 y값은 총효용곡선의 x에서의 기울기와 같다.\n",
    "\n",
    "<img src = '미적분관계1.jpg' STYLE='width 100px;'>\n",
    "<img src = '미적분관계3.jpg' STYLE='width 100px;'>\n"
   ]
  },
  {
   "cell_type": "code",
   "execution_count": 6,
   "id": "3184ef9e",
   "metadata": {},
   "outputs": [
    {
     "name": "stderr",
     "output_type": "stream",
     "text": [
      "C:\\Users\\NEW\\AppData\\Local\\Temp\\ipykernel_21300\\3421472858.py:15: UserWarning: color is redundantly defined by the 'color' keyword argument and the fmt string \"b-\" (-> color='b'). The keyword argument will take precedence.\n",
      "  plt.plot(x, f(x), 'b-', lw = 1, c = 'k')\n",
      "C:\\Users\\NEW\\AppData\\Local\\Temp\\ipykernel_21300\\3421472858.py:16: UserWarning: color is redundantly defined by the 'color' keyword argument and the fmt string \"b-\" (-> color='b'). The keyword argument will take precedence.\n",
      "  plt.plot(x, g(x), 'b-', lw = 1, c = 'b')\n"
     ]
    },
    {
     "data": {
      "image/png": "[encoded data removed]",
      "text/plain": [
       "<Figure size 360x360 with 1 Axes>"
      ]
     },
     "metadata": {
      "needs_background": "light"
     },
     "output_type": "display_data"
    }
   ],
   "source": [
    "import numpy as np\n",
    "import matplotlib.pyplot as plt\n",
    "\n",
    "def f(x):\n",
    "    return(x**2)\n",
    "\n",
    "def g(x):\n",
    "    return(2*x -1)\n",
    "\n",
    "# x가 1일때의 접선의 방정식 2x -1, 기울기는 1\n",
    "x = np.linspace(-3, 3, 100)\n",
    "fig = plt.figure(figsize = (5,5))\n",
    "\n",
    "plt.scatter([1],[1],c = 'k')\n",
    "plt.plot(x, f(x), 'b-', lw = 1, c = 'k')\n",
    "plt.plot(x, g(x), 'b-', lw = 1, c = 'b')\n",
    "plt.plot([x.min(), x.max()], [0, 0], lw = 2, c = 'k')\n",
    "plt.plot([0, 0], [g(x).min(), f(x).max()], lw = 2, c = 'k')\n",
    "plt.ylim(-1, 3)\n",
    "plt.xlim(-2, 2)\n",
    "plt.grid(lw = 1)\n",
    "\n",
    "# plt.tick_params(labelbottom=False, labelleft=False, labelright=False, labeltop=False)\n",
    "plt.tick_params(color='white')\n",
    "plt.show()\n"
   ]
  },
  {
   "cell_type": "code",
   "execution_count": 7,
   "id": "77c0a11d",
   "metadata": {},
   "outputs": [
    {
     "name": "stderr",
     "output_type": "stream",
     "text": [
      "C:\\Users\\NEW\\AppData\\Local\\Temp\\ipykernel_21300\\4251504804.py:7: UserWarning: color is redundantly defined by the 'color' keyword argument and the fmt string \"b-\" (-> color='b'). The keyword argument will take precedence.\n",
      "  plt.plot(x, g(x), 'b-', lw = 1, c = 'b')\n"
     ]
    },
    {
     "data": {
      "image/png": "[encoded data removed]",
      "text/plain": [
       "<Figure size 360x360 with 1 Axes>"
      ]
     },
     "metadata": {
      "needs_background": "light"
     },
     "output_type": "display_data"
    }
   ],
   "source": [
    "def g(x):\n",
    "    return(2*x) \n",
    "\n",
    "x = np.linspace(-3, 3, 100)\n",
    "fig = plt.figure(figsize = (5,5))\n",
    "\n",
    "plt.plot(x, g(x), 'b-', lw = 1, c = 'b')\n",
    "plt.plot([x.min(), x.max()], [0, 0], lw = 2, c = 'k')\n",
    "plt.plot([0, 0], [g(x).min(), f(x).max()], lw = 2, c = 'k')\n",
    "plt.ylim(0, 2)\n",
    "plt.xlim(0, 1)\n",
    "plt.grid(lw = 1)\n",
    "# plt.tick_params(labelbottom=False, labelleft=False, labelright=False, labeltop=False)\n",
    "plt.tick_params(color = 'white')\n",
    "plt.show()\n"
   ]
  },
  {
   "cell_type": "markdown",
   "id": "c8154b0d",
   "metadata": {},
   "source": [
    "## 연속형 확률변수\n",
    "\n",
    "- 확률변수가 취할 수 있는 값은 구간 [a,b]로 정의 됨\n",
    "- 밀도함수 등으로 둘러싸인 영역의 면적이 확률이 됨\n",
    "- 확률은 <b>확률밀도함수</b>, 또는 <b>밀도함수</b>라고 부르는 f(x)에 의해 정의됨\n",
    "   \n",
    "   P(x0 <= X <= x1) =  ∫ f(x)dx\n",
    "- integrate.quad(f(x), x0, x1)함수 사용\n",
    "\n",
    "\n",
    "-  SciPy의 integral 모듈을 사용하여 구현함\n",
    "\n",
    "\n",
    "- 확률은 다음을 만족해야함\n",
    "    - f(x) >= 0\n",
    "    - ∫ f(x)dx = 1            \n",
    "            - integrate.quad(f(x),- np.inf, np.inf)[0]"
   ]
  },
  {
   "cell_type": "markdown",
   "id": "fb17e964",
   "metadata": {},
   "source": [
    "### 1차원 연속형 확률변수"
   ]
  },
  {
   "cell_type": "code",
   "execution_count": 8,
   "id": "a98b9c8a",
   "metadata": {},
   "outputs": [],
   "source": [
    "import numpy as np\n",
    "import matplotlib.pyplot as plt\n",
    "from scipy import integrate\n",
    "import warnings\n",
    "\n",
    "# warnings.filterwarnings('ignore', category = integrate.IntegrationWarning)\n",
    "warnings.filterwarnings('ignore')\n",
    "\n",
    "%precision 3\n",
    "%matplotlib inline"
   ]
  },
  {
   "cell_type": "markdown",
   "id": "f14902b0",
   "metadata": {},
   "source": [
    "#### 확률변수, 확률밀도함수 구하기"
   ]
  },
  {
   "cell_type": "code",
   "execution_count": 9,
   "id": "f564b8cd",
   "metadata": {},
   "outputs": [],
   "source": [
    "# 구간 정하기\n",
    "x_range = np.array([0,1])\n",
    "\n",
    "# 밀도함수 지정\n",
    "def f(x):\n",
    "    if x_range[0] <= x <= x_range[1]:\n",
    "        return 2 * x\n",
    "    else:\n",
    "        return 0\n",
    "  \n",
    "\n",
    "# 확률분포: 구간과 확률변수\n",
    "X = [x_range, f]   "
   ]
  },
  {
   "cell_type": "markdown",
   "id": "1c4adac0",
   "metadata": {},
   "source": [
    "#### 확률 구하기"
   ]
  },
  {
   "cell_type": "code",
   "execution_count": 10,
   "id": "9efdf6b5",
   "metadata": {},
   "outputs": [
    {
     "data": {
      "image/png": "[encoded data removed]",
      "text/plain": [
       "<Figure size 720x432 with 1 Axes>"
      ]
     },
     "metadata": {
      "needs_background": "light"
     },
     "output_type": "display_data"
    }
   ],
   "source": [
    "# 1.면적 넓이로 확률 구하기\n",
    "\n",
    "\n",
    "## 시각화\n",
    "xs = np.linspace(x_range[0], x_range[1], 100)\n",
    "ys = [f(x) for x in xs]\n",
    "\n",
    "fig = plt.figure(figsize = (10,6))\n",
    "ax = fig.add_subplot(111)\n",
    "\n",
    "ax.plot(xs, ys, label = 'f(x)', color = 'purple')\n",
    "ax.hlines(0, -0.1 , 1.1, color = 'gray', alpha = 0.3)     # y = 0\n",
    "ax.vlines(0, -0.1 , 2.1, color = 'gray', alpha = 0.3)     # x = 0\n",
    "ax.vlines(xs.max(), 0, 2.1, linestyle = ':', color = 'purple')   # x = xs.max()\n",
    "\n",
    "\n",
    "# 0.4 ~ 0.6까지 x좌표 준비\n",
    "xs = np.linspace(0.4, 0.6, 100)\n",
    "ys = [f(x) for x in xs]\n",
    "\n",
    "# xs의 범위로 f(X)와 x축으로 둘러싸인 영역에 색 지정\n",
    "ax.fill_between(xs, ys, color = 'pink', label = 'Probability')\n",
    "\n",
    "ax.set_xticks(np.arange(-0.2, 1.3,0.1))\n",
    "ax.set_xlim(-0.1,1.1)\n",
    "ax.set_ylim(-0.1,2.1)\n",
    "ax.legend()\n",
    "\n",
    "plt.show()"
   ]
  },
  {
   "cell_type": "code",
   "execution_count": 11,
   "id": "6646b4c0",
   "metadata": {},
   "outputs": [
    {
     "name": "stdout",
     "output_type": "stream",
     "text": [
      "적분값(확률) : 0.200\n",
      "추정오차 : 0.000\n"
     ]
    }
   ],
   "source": [
    "# 확률 구하기\n",
    "# 2. integrate quad 함수를 이용하여 구하기\n",
    "\n",
    "q_uad = integrate.quad(f, 0.4, 0.6)\n",
    "\n",
    "print(f'적분값(확률) : {q_uad[0]:.3f}')\n",
    "print(f'추정오차 : {q_uad[1]:.3f}')"
   ]
  },
  {
   "cell_type": "markdown",
   "id": "f25812b5",
   "metadata": {},
   "source": [
    "#### 확률의 성질 만족하는지 확인\n",
    "\n",
    "1. f(X) >=0\n",
    "\n",
    "    - minimize_scaler 함수 사용: 함수의 최솟값을 구해주는 함수"
   ]
  },
  {
   "cell_type": "code",
   "execution_count": 12,
   "id": "375965a3",
   "metadata": {},
   "outputs": [
    {
     "data": {
      "text/plain": [
       "0"
      ]
     },
     "execution_count": 12,
     "metadata": {},
     "output_type": "execute_result"
    }
   ],
   "source": [
    "from scipy.optimize import minimize_scalar\n",
    "\n",
    "res = minimize_scalar(f)\n",
    "res.fun"
   ]
  },
  {
   "cell_type": "markdown",
   "id": "5cdf5122",
   "metadata": {},
   "source": [
    "2. ∫f(X)dx = 1\n",
    "    - [-∞,∞] 밀도함수 구하기"
   ]
  },
  {
   "cell_type": "code",
   "execution_count": 13,
   "id": "51ef224d",
   "metadata": {},
   "outputs": [
    {
     "data": {
      "text/plain": [
       "1.000"
      ]
     },
     "execution_count": 13,
     "metadata": {},
     "output_type": "execute_result"
    }
   ],
   "source": [
    "integrate.quad(f, -np.inf, np.inf)[0]"
   ]
  },
  {
   "cell_type": "markdown",
   "id": "c8db955d",
   "metadata": {},
   "source": [
    "#### 누적분포함수\n",
    "- 확률변수 X가 x 이하가 될 때의 확률을 반환하는 함수\n",
    "- F(x) = P(X <= x) = ∫ f(x)dx,  [x, -∞]\n",
    "- 분포함수 F(x)를 그리면, 반드시 단조증가함수가 됨"
   ]
  },
  {
   "cell_type": "code",
   "execution_count": 14,
   "id": "989cbdb9",
   "metadata": {},
   "outputs": [
    {
     "data": {
      "text/plain": [
       "0.200"
      ]
     },
     "execution_count": 14,
     "metadata": {},
     "output_type": "execute_result"
    }
   ],
   "source": [
    "def f(x):\n",
    "    if x_range[0] <= x <= x_range[1]:\n",
    "        return 2*x\n",
    "    else:\n",
    "        return 0\n",
    "\n",
    "def F(x):\n",
    "    return integrate.quad(f, -np.inf, x)[0]\n",
    "\n",
    "F(0.6) - F(0.4)"
   ]
  },
  {
   "cell_type": "code",
   "execution_count": 15,
   "id": "f0e5b81e",
   "metadata": {},
   "outputs": [
    {
     "data": {
      "image/png": "[encoded data removed]",
      "text/plain": [
       "<Figure size 720x432 with 1 Axes>"
      ]
     },
     "metadata": {
      "needs_background": "light"
     },
     "output_type": "display_data"
    }
   ],
   "source": [
    "# 누적분포함수 시각화\n",
    "\n",
    "x_range = [0,1]\n",
    "\n",
    "xs = np.linspace(x_range[0], x_range[1])\n",
    "ys = [F(x) for x in xs]\n",
    "\n",
    "fig = plt.figure(figsize = (10,6))\n",
    "ax = fig.add_subplot(111)\n",
    "\n",
    "ax.plot(xs, ys, label = 'F(x)', color = 'purple')\n",
    "ax.hlines(0, -0.1, 1.1, color = 'gray', alpha = 0.3)\n",
    "ax.vlines(0, -0.1, 1.1, color = 'gray', alpha = 0.3)\n",
    "ax.vlines(xs.max(), 0, 1.0, color = 'purple', linestyle = ':')\n",
    "\n",
    "\n",
    "ax.set_xticks(np.arange(-0.1, 1.2, 0.1))\n",
    "ax.set_xlim(-0.1, 1.1)\n",
    "ax.set_ylim(-0.1, 1.1)\n",
    "ax.legend(loc = 'upper left')\n",
    "\n",
    "plt.show()"
   ]
  },
  {
   "cell_type": "markdown",
   "id": "ee111cde",
   "metadata": {},
   "source": [
    "#### 확률변수의 변환\n",
    "\n",
    "- Y = 2X + 3\n",
    "- Y의 밀도함수를 g(y)라 했을 때, g(y)는 다음과 같음\n",
    "\n",
    "     g(y) = (y-3)/2 (3 <= y <= 5)  \n",
    "     \n",
    "         =  0      (otherwise)\n",
    "- 누적분포함수 G(y)는\n",
    "\n",
    "    G(y) = P(Y<=y) = ∫g(y)dy\n"
   ]
  },
  {
   "cell_type": "code",
   "execution_count": 16,
   "id": "18676abd",
   "metadata": {},
   "outputs": [],
   "source": [
    "# 구간 정하기\n",
    "y_range = [3,5]\n",
    "\n",
    "\n",
    "# y의 밀도함수 구하기\n",
    "def g(y):\n",
    "    if y_range[0] <= y <= y_range[1]:\n",
    "        return (y-3)/2\n",
    "    else:\n",
    "        return 0\n",
    "\n",
    "\n",
    "# y의 누적분포함수 구하기\n",
    "def G(y):\n",
    "    return integrate.quad(g, -np.inf, y)[0]\n"
   ]
  },
  {
   "cell_type": "code",
   "execution_count": 17,
   "id": "ff9651fb",
   "metadata": {},
   "outputs": [
    {
     "data": {
      "image/png": "[encoded data removed]",
      "text/plain": [
       "<Figure size 720x432 with 1 Axes>"
      ]
     },
     "metadata": {
      "needs_background": "light"
     },
     "output_type": "display_data"
    }
   ],
   "source": [
    "# 밀도함수, 분포함수, 시각화\n",
    "\n",
    "xs = np.linspace(y_range[0], y_range[1], 100)\n",
    "ys1 = [g(x) for x in xs]\n",
    "ys2 = [G(x) for x in xs]\n",
    "\n",
    "fig = plt.figure(figsize = (10,6))\n",
    "ax = fig.add_subplot(111)\n",
    "\n",
    "ax.plot(xs, ys1, label = 'g(y)', color = 'purple')\n",
    "ax.plot(xs, ys2, label = 'G(y)', color = 'purple', linestyle = '--')\n",
    "ax.hlines(0, 2.8, 5.2, color = 'gray', alpha = 0.3)\n",
    "ax.vlines(xs.max(), 0, 1, color = 'violet', linestyle = ':')\n",
    "\n",
    "ax.set_xticks(np.arange(2.8, 5.2,0.2))\n",
    "ax.set_xlim(2.8, 5.2)\n",
    "ax.set_ylim(-0.1,1.1)\n",
    "ax.legend()\n",
    "\n",
    "plt.show()"
   ]
  },
  {
   "cell_type": "markdown",
   "id": "4f282f8a",
   "metadata": {},
   "source": [
    "#### 기댓값\n",
    "- E(X) = ∫ xf(x) dx"
   ]
  },
  {
   "cell_type": "code",
   "execution_count": 18,
   "id": "ce3c8b3e",
   "metadata": {},
   "outputs": [],
   "source": [
    "x_range = [0,1]\n",
    "\n",
    "def f(x):\n",
    "    if x_range[0] <= x <= x_range[1]:\n",
    "        return 2*x\n",
    "    else:\n",
    "        return 0\n",
    "    \n",
    "X = [x_range, f]"
   ]
  },
  {
   "cell_type": "code",
   "execution_count": 19,
   "id": "4905d4e9",
   "metadata": {},
   "outputs": [
    {
     "data": {
      "text/plain": [
       "0.667"
      ]
     },
     "execution_count": 19,
     "metadata": {},
     "output_type": "execute_result"
    }
   ],
   "source": [
    "#기댓값 구하기\n",
    "\n",
    "def integrand(x):\n",
    "    return x * f(x)\n",
    "\n",
    "integrate.quad(integrand, -np.inf, np.inf)[0]"
   ]
  },
  {
   "cell_type": "code",
   "execution_count": 20,
   "id": "bfb60ff4",
   "metadata": {},
   "outputs": [
    {
     "data": {
      "text/plain": [
       "0.667"
      ]
     },
     "execution_count": 20,
     "metadata": {},
     "output_type": "execute_result"
    }
   ],
   "source": [
    "# 기댓값 구하는 사용자함수 만들기\n",
    "\n",
    "def E(X, g = lambda x: x):\n",
    "    x_range, f = X\n",
    "    \n",
    "    def integrand(x):\n",
    "        return g(x) * f(x)\n",
    "    \n",
    "    return integrate.quad(integrand, -np.inf, np.inf)[0]\n",
    "\n",
    "E(X)"
   ]
  },
  {
   "cell_type": "markdown",
   "id": "85c6c2e2",
   "metadata": {},
   "source": [
    "- E(Y) = E(2X+3) = ∫ (2x+3)*f(x) dx"
   ]
  },
  {
   "cell_type": "code",
   "execution_count": 21,
   "id": "01c46767",
   "metadata": {},
   "outputs": [
    {
     "data": {
      "text/plain": [
       "4.333"
      ]
     },
     "execution_count": 21,
     "metadata": {},
     "output_type": "execute_result"
    }
   ],
   "source": [
    "# 기댓값 구하는 사용자함수 만들기\n",
    "\n",
    "def E(X, g = lambda x: x):\n",
    "    x_range, f = X\n",
    "    \n",
    "    def integrand(x):\n",
    "        return g(x) * f(x)\n",
    "    \n",
    "    return integrate.quad(integrand, -np.inf, np.inf)[0]\n",
    "\n",
    "\n",
    "# 변환된 확률변수의 기댓값\n",
    "E(X, g = lambda x:2*x + 3)"
   ]
  },
  {
   "cell_type": "code",
   "execution_count": 22,
   "id": "362defc4",
   "metadata": {},
   "outputs": [
    {
     "data": {
      "text/plain": [
       "4.333"
      ]
     },
     "execution_count": 22,
     "metadata": {},
     "output_type": "execute_result"
    }
   ],
   "source": [
    "# E(2X + 3) = 2*E(X) + 3\n",
    "\n",
    "2* E(X) + 3"
   ]
  },
  {
   "cell_type": "markdown",
   "id": "a8db9284",
   "metadata": {},
   "source": [
    "#### 분산\n",
    "- V(X) = ∫ (x - EX)^2 *  f(x) dx"
   ]
  },
  {
   "cell_type": "code",
   "execution_count": 23,
   "id": "6210cf04",
   "metadata": {},
   "outputs": [
    {
     "data": {
      "text/plain": [
       "0.056"
      ]
     },
     "execution_count": 23,
     "metadata": {},
     "output_type": "execute_result"
    }
   ],
   "source": [
    "# 기댓값 계산\n",
    "mean = E(X)\n",
    "\n",
    "\n",
    "#분산 구하기\n",
    "def integrand(x):\n",
    "    return (x - mean)**2 * f(x)\n",
    "\n",
    "integrate.quad(integrand, -np.inf, np.inf)[0]"
   ]
  },
  {
   "cell_type": "code",
   "execution_count": 24,
   "id": "60b490a5",
   "metadata": {},
   "outputs": [
    {
     "data": {
      "text/plain": [
       "0.056"
      ]
     },
     "execution_count": 24,
     "metadata": {},
     "output_type": "execute_result"
    }
   ],
   "source": [
    "# 분산 만드는 사용자함수 생성\n",
    "\n",
    "def V(X, g = lambda x: x):\n",
    "    x_range, f = X\n",
    "    mean = E(X, g)\n",
    "    \n",
    "    def integrand(x):\n",
    "        return (g(x) - mean)**2 * f(x)\n",
    "    \n",
    "    return integrate.quad(integrand, -np.inf, np.inf)[0]\n",
    "\n",
    "V(X)"
   ]
  },
  {
   "cell_type": "markdown",
   "id": "6b534148",
   "metadata": {},
   "source": [
    "- V(X) = V(2X+3) = ∫ ((2x+3) - EX)^2 * f(x) dx"
   ]
  },
  {
   "cell_type": "code",
   "execution_count": 25,
   "id": "7b29fdb5",
   "metadata": {},
   "outputs": [
    {
     "data": {
      "text/plain": [
       "0.222"
      ]
     },
     "execution_count": 25,
     "metadata": {},
     "output_type": "execute_result"
    }
   ],
   "source": [
    "# 분산 만드는 사용자함수 생성\n",
    "\n",
    "def V(X, g = lambda x: x):\n",
    "    x_range, f = X\n",
    "    mean = E(X, g)\n",
    "    \n",
    "    def integrand(x):\n",
    "        return (g(x) - mean)**2 * f(x)\n",
    "    \n",
    "    return integrate.quad(integrand, -np.inf, np.inf)[0]\n",
    "\n",
    "\n",
    "# 변환된 확률변수의 분산 구하기\n",
    "V(X, g = lambda x: 2*x + 3)"
   ]
  },
  {
   "cell_type": "code",
   "execution_count": 26,
   "id": "8359dd40",
   "metadata": {
    "scrolled": true
   },
   "outputs": [
    {
     "data": {
      "text/plain": [
       "0.222"
      ]
     },
     "execution_count": 26,
     "metadata": {},
     "output_type": "execute_result"
    }
   ],
   "source": [
    "# 확인: V(2X + 3) = 4V(X)\n",
    "\n",
    "4*V(X)"
   ]
  },
  {
   "cell_type": "markdown",
   "id": "a16c60d7",
   "metadata": {},
   "source": [
    "### 2차원 연속형 확률변수"
   ]
  },
  {
   "cell_type": "markdown",
   "id": "47c5c4b9",
   "metadata": {},
   "source": [
    "#### 2차원 연속형 확률변수의 정의"
   ]
  },
  {
   "cell_type": "markdown",
   "id": "a70486b8",
   "metadata": {},
   "source": [
    "##### 결합확률밀도함수"
   ]
  },
  {
   "cell_type": "code",
   "execution_count": 62,
   "id": "6d9d3c4e",
   "metadata": {},
   "outputs": [],
   "source": [
    "x_range = [0,2]\n",
    "x_range = [0,1]\n",
    "\n",
    "def f_xy(x,y):\n",
    "    if 0 <= y <= 1 and 0 <= x-y <= 1:\n",
    "        return 4 * y * (x-y)\n",
    "    else:\n",
    "        return 0\n",
    "    \n",
    "XY = [x_range, x_range, f_xy]"
   ]
  },
  {
   "cell_type": "code",
   "execution_count": 60,
   "id": "c80cca4c",
   "metadata": {},
   "outputs": [
    {
     "ename": "ValueError",
     "evalue": "too many values to unpack (expected 2)",
     "output_type": "error",
     "traceback": [
      "\u001b[1;31m---------------------------------------------------------------------------\u001b[0m",
      "\u001b[1;31mValueError\u001b[0m                                Traceback (most recent call last)",
      "Input \u001b[1;32mIn [60]\u001b[0m, in \u001b[0;36m<cell line: 8>\u001b[1;34m()\u001b[0m\n\u001b[0;32m      5\u001b[0m fig \u001b[38;5;241m=\u001b[39m plt\u001b[38;5;241m.\u001b[39mfigure(figsize \u001b[38;5;241m=\u001b[39m (\u001b[38;5;241m10\u001b[39m,\u001b[38;5;241m8\u001b[39m))\n\u001b[0;32m      6\u001b[0m ax \u001b[38;5;241m=\u001b[39m fig\u001b[38;5;241m.\u001b[39madd_subplot(\u001b[38;5;241m111\u001b[39m)\n\u001b[1;32m----> 8\u001b[0m c \u001b[38;5;241m=\u001b[39m \u001b[43max\u001b[49m\u001b[38;5;241;43m.\u001b[39;49m\u001b[43mpcolor\u001b[49m\u001b[43m(\u001b[49m\u001b[43mpd\u001b[49m\u001b[43m)\u001b[49m\n\u001b[0;32m      9\u001b[0m ax\u001b[38;5;241m.\u001b[39mset_xticks(np\u001b[38;5;241m.\u001b[39mlinspace(\u001b[38;5;241m0\u001b[39m,\u001b[38;5;241m200\u001b[39m,\u001b[38;5;241m3\u001b[39m), minor \u001b[38;5;241m=\u001b[39m \u001b[38;5;28;01mFalse\u001b[39;00m)\n\u001b[0;32m     10\u001b[0m ax\u001b[38;5;241m.\u001b[39mset_yticks(np\u001b[38;5;241m.\u001b[39mlinspace(\u001b[38;5;241m0\u001b[39m,\u001b[38;5;241m200\u001b[39m,\u001b[38;5;241m3\u001b[39m), minor \u001b[38;5;241m=\u001b[39m \u001b[38;5;28;01mFalse\u001b[39;00m)\n",
      "File \u001b[1;32m~\\anaconda3\\envs\\cakd7\\lib\\site-packages\\matplotlib\\__init__.py:1412\u001b[0m, in \u001b[0;36m_preprocess_data.<locals>.inner\u001b[1;34m(ax, data, *args, **kwargs)\u001b[0m\n\u001b[0;32m   1409\u001b[0m \u001b[38;5;129m@functools\u001b[39m\u001b[38;5;241m.\u001b[39mwraps(func)\n\u001b[0;32m   1410\u001b[0m \u001b[38;5;28;01mdef\u001b[39;00m \u001b[38;5;21minner\u001b[39m(ax, \u001b[38;5;241m*\u001b[39margs, data\u001b[38;5;241m=\u001b[39m\u001b[38;5;28;01mNone\u001b[39;00m, \u001b[38;5;241m*\u001b[39m\u001b[38;5;241m*\u001b[39mkwargs):\n\u001b[0;32m   1411\u001b[0m     \u001b[38;5;28;01mif\u001b[39;00m data \u001b[38;5;129;01mis\u001b[39;00m \u001b[38;5;28;01mNone\u001b[39;00m:\n\u001b[1;32m-> 1412\u001b[0m         \u001b[38;5;28;01mreturn\u001b[39;00m \u001b[43mfunc\u001b[49m\u001b[43m(\u001b[49m\u001b[43max\u001b[49m\u001b[43m,\u001b[49m\u001b[43m \u001b[49m\u001b[38;5;241;43m*\u001b[39;49m\u001b[38;5;28;43mmap\u001b[39;49m\u001b[43m(\u001b[49m\u001b[43msanitize_sequence\u001b[49m\u001b[43m,\u001b[49m\u001b[43m \u001b[49m\u001b[43margs\u001b[49m\u001b[43m)\u001b[49m\u001b[43m,\u001b[49m\u001b[43m \u001b[49m\u001b[38;5;241;43m*\u001b[39;49m\u001b[38;5;241;43m*\u001b[39;49m\u001b[43mkwargs\u001b[49m\u001b[43m)\u001b[49m\n\u001b[0;32m   1414\u001b[0m     bound \u001b[38;5;241m=\u001b[39m new_sig\u001b[38;5;241m.\u001b[39mbind(ax, \u001b[38;5;241m*\u001b[39margs, \u001b[38;5;241m*\u001b[39m\u001b[38;5;241m*\u001b[39mkwargs)\n\u001b[0;32m   1415\u001b[0m     auto_label \u001b[38;5;241m=\u001b[39m (bound\u001b[38;5;241m.\u001b[39marguments\u001b[38;5;241m.\u001b[39mget(label_namer)\n\u001b[0;32m   1416\u001b[0m                   \u001b[38;5;129;01mor\u001b[39;00m bound\u001b[38;5;241m.\u001b[39mkwargs\u001b[38;5;241m.\u001b[39mget(label_namer))\n",
      "File \u001b[1;32m~\\anaconda3\\envs\\cakd7\\lib\\site-packages\\matplotlib\\axes\\_axes.py:5787\u001b[0m, in \u001b[0;36mAxes.pcolor\u001b[1;34m(self, shading, alpha, norm, cmap, vmin, vmax, *args, **kwargs)\u001b[0m\n\u001b[0;32m   5785\u001b[0m     shading \u001b[38;5;241m=\u001b[39m rcParams[\u001b[38;5;124m'\u001b[39m\u001b[38;5;124mpcolor.shading\u001b[39m\u001b[38;5;124m'\u001b[39m]\n\u001b[0;32m   5786\u001b[0m shading \u001b[38;5;241m=\u001b[39m shading\u001b[38;5;241m.\u001b[39mlower()\n\u001b[1;32m-> 5787\u001b[0m X, Y, C, shading \u001b[38;5;241m=\u001b[39m \u001b[38;5;28;43mself\u001b[39;49m\u001b[38;5;241;43m.\u001b[39;49m\u001b[43m_pcolorargs\u001b[49m\u001b[43m(\u001b[49m\u001b[38;5;124;43m'\u001b[39;49m\u001b[38;5;124;43mpcolor\u001b[39;49m\u001b[38;5;124;43m'\u001b[39;49m\u001b[43m,\u001b[49m\u001b[43m \u001b[49m\u001b[38;5;241;43m*\u001b[39;49m\u001b[43margs\u001b[49m\u001b[43m,\u001b[49m\u001b[43m \u001b[49m\u001b[43mshading\u001b[49m\u001b[38;5;241;43m=\u001b[39;49m\u001b[43mshading\u001b[49m\u001b[43m,\u001b[49m\n\u001b[0;32m   5788\u001b[0m \u001b[43m                                    \u001b[49m\u001b[43mkwargs\u001b[49m\u001b[38;5;241;43m=\u001b[39;49m\u001b[43mkwargs\u001b[49m\u001b[43m)\u001b[49m\n\u001b[0;32m   5789\u001b[0m Ny, Nx \u001b[38;5;241m=\u001b[39m X\u001b[38;5;241m.\u001b[39mshape\n\u001b[0;32m   5791\u001b[0m \u001b[38;5;66;03m# convert to MA, if necessary.\u001b[39;00m\n",
      "File \u001b[1;32m~\\anaconda3\\envs\\cakd7\\lib\\site-packages\\matplotlib\\axes\\_axes.py:5521\u001b[0m, in \u001b[0;36mAxes._pcolorargs\u001b[1;34m(self, funcname, shading, *args, **kwargs)\u001b[0m\n\u001b[0;32m   5519\u001b[0m \u001b[38;5;28;01mif\u001b[39;00m \u001b[38;5;28mlen\u001b[39m(args) \u001b[38;5;241m==\u001b[39m \u001b[38;5;241m1\u001b[39m:\n\u001b[0;32m   5520\u001b[0m     C \u001b[38;5;241m=\u001b[39m np\u001b[38;5;241m.\u001b[39masanyarray(args[\u001b[38;5;241m0\u001b[39m])\n\u001b[1;32m-> 5521\u001b[0m     nrows, ncols \u001b[38;5;241m=\u001b[39m C\u001b[38;5;241m.\u001b[39mshape\n\u001b[0;32m   5522\u001b[0m     \u001b[38;5;28;01mif\u001b[39;00m shading \u001b[38;5;129;01min\u001b[39;00m [\u001b[38;5;124m'\u001b[39m\u001b[38;5;124mgouraud\u001b[39m\u001b[38;5;124m'\u001b[39m, \u001b[38;5;124m'\u001b[39m\u001b[38;5;124mnearest\u001b[39m\u001b[38;5;124m'\u001b[39m]:\n\u001b[0;32m   5523\u001b[0m         X, Y \u001b[38;5;241m=\u001b[39m np\u001b[38;5;241m.\u001b[39mmeshgrid(np\u001b[38;5;241m.\u001b[39marange(ncols), np\u001b[38;5;241m.\u001b[39marange(nrows))\n",
      "\u001b[1;31mValueError\u001b[0m: too many values to unpack (expected 2)"
     ]
    },
    {
     "data": {
      "image/png": "[encoded data removed]",
      "text/plain": [
       "<Figure size 720x576 with 1 Axes>"
      ]
     },
     "metadata": {
      "needs_background": "light"
     },
     "output_type": "display_data"
    }
   ],
   "source": [
    "xs = np.linspace(x_range[0], x_range[1], 200)\n",
    "ys = np.linspace(y_range[0], y_range[1], 200)\n",
    "pd = np.array([[[f_xy(x,y) for y in ys] for x in xs]])\n",
    "\n",
    "fig = plt.figure(figsize = (10,8))\n",
    "ax = fig.add_subplot(111)\n",
    "\n",
    "c = ax.pcolor(pd)\n",
    "ax.set_xticks(np.linspace(0,200,3), minor = False)\n",
    "ax.set_yticks(np.linspace(0,200,3), minor = False)\n",
    "ax.set_xticklabels(np.linspace(0,2,3))\n",
    "ax.set_yticklabels(np.linspace(0,1,3))\n",
    "# ax.invert_yaxis()\n",
    "ax.xaxis.tick_top()\n",
    "fig.colorbar(c, ax)\n",
    "\n",
    "plt.show()"
   ]
  },
  {
   "cell_type": "code",
   "execution_count": 63,
   "id": "737035db",
   "metadata": {},
   "outputs": [
    {
     "data": {
      "text/plain": [
       "1.326"
      ]
     },
     "execution_count": 63,
     "metadata": {},
     "output_type": "execute_result"
    }
   ],
   "source": [
    "# 파이썬 버전에 따라 답이 안나옴, 원래 1.000이 나와야 정상!!!!!\n",
    "\n",
    "\n",
    "integrate.nquad(f_xy, [[-np.inf, np.inf],[-np.inf, np.inf]])[0]"
   ]
  },
  {
   "cell_type": "markdown",
   "id": "62d9be14",
   "metadata": {},
   "source": [
    "##### 주변확률밀도함수"
   ]
  },
  {
   "cell_type": "code",
   "execution_count": 64,
   "id": "3a661e25",
   "metadata": {},
   "outputs": [],
   "source": [
    "from functools import partial\n",
    "\n",
    "def f_X(x):\n",
    "    return integrate.quad(partial(f_xy, x), -np.inf, np.inf)[0]\n",
    "\n",
    "def f_Y(y):\n",
    "    return integrate.quad(partial(f_xy, y = y), -np.inf, np.inf)[0]"
   ]
  },
  {
   "cell_type": "code",
   "execution_count": 65,
   "id": "64d24954",
   "metadata": {},
   "outputs": [],
   "source": [
    "X = [x_range, f_X]\n",
    "Y = [y_range, f_Y]"
   ]
  },
  {
   "cell_type": "code",
   "execution_count": 66,
   "id": "fd70aed5",
   "metadata": {},
   "outputs": [
    {
     "data": {
      "image/png": "[encoded data removed]",
      "text/plain": [
       "<Figure size 864x288 with 2 Axes>"
      ]
     },
     "metadata": {
      "needs_background": "light"
     },
     "output_type": "display_data"
    }
   ],
   "source": [
    "xs = np.linspace(*x_range, 100)\n",
    "ys = np.linspace(*y_range, 100)\n",
    "\n",
    "fig = plt. figure(figsize = (12,4))\n",
    "ax1 = fig.add_subplot(121)\n",
    "ax2 = fig.add_subplot(122)\n",
    "\n",
    "ax1.plot(xs, [f_X(x) for x in xs], color = 'gray')\n",
    "ax2.plot(ys, [f_Y(y) for y in ys], color = 'gray')\n",
    "\n",
    "ax1.set_title('X_marginal density function')\n",
    "ax2.set_title('Y_marginal density function')\n",
    "\n",
    "plt.show()"
   ]
  },
  {
   "cell_type": "markdown",
   "id": "452d3ca5",
   "metadata": {},
   "source": [
    "### 2차원 연속형 확률변수의 지표"
   ]
  },
  {
   "cell_type": "code",
   "execution_count": null,
   "id": "d0b57349",
   "metadata": {},
   "outputs": [],
   "source": []
  },
  {
   "cell_type": "markdown",
   "id": "06e67be6",
   "metadata": {},
   "source": [
    "## 대표적인 연속형 확률분포"
   ]
  },
  {
   "cell_type": "markdown",
   "id": "3c2ad115",
   "metadata": {},
   "source": [
    "확률분포함수\n",
    "\n",
    "- pmf 확률질량함수(probability mass function)\n",
    "- pdf 확률밀도함수(probability density function)\n",
    "- cdf 누적분포함수(cumulative distribution function)\n",
    "- ppf 누적분포함수의 역함수(inverse cumulative distribution function)\n",
    "- sf 생존함수(survival function) = 1 - 누적분포함수\n",
    "- isf 생존함수의 역함수(inverse survival function)\n",
    "- rvs 랜덤 표본 생성(random variable sampling)\n",
    "\n",
    "참고: https://docs.scipy.org/doc/scipy/reference/generated/scipy.stats.norm.html\n"
   ]
  },
  {
   "cell_type": "code",
   "execution_count": 69,
   "id": "57903775",
   "metadata": {},
   "outputs": [
    {
     "data": {
      "text/plain": [
       "'%.3f'"
      ]
     },
     "execution_count": 69,
     "metadata": {},
     "output_type": "execute_result"
    }
   ],
   "source": [
    "import numpy as np\n",
    "import matplotlib.pyplot as plt\n",
    "from scipy import stats, integrate\n",
    "from scipy.optimize import minimize_scalar\n",
    "\n",
    "%precision 3"
   ]
  },
  {
   "cell_type": "code",
   "execution_count": 1,
   "id": "84c93ccc",
   "metadata": {},
   "outputs": [],
   "source": [
    "linestyles = ['-','--',':']\n",
    "\n",
    "def E(X, g = lambda x: x):\n",
    "    x_range, f = X\n",
    "\n",
    "    def integrand(x):\n",
    "        return g(x) * f(x)\n",
    "    return integrate.quad(integrand, -np.inf, np.inf)[0]\n",
    "\n",
    "\n",
    "def V(X, g = lambda x: x):\n",
    "    x_range, f = X\n",
    "    mean = E(X, g)\n",
    "    \n",
    "    def integrand(x):\n",
    "        return (g(x) - mean)**2 * f(x)\n",
    "    return integrate.quad(integrand, -np.inf, np.inf)[0]\n",
    "\n",
    "def check_prob(x):\n",
    "    x_range, f = X\n",
    "    f_min = minimize_scalar(f).fun\n",
    "    assert f_min >= 0, 'Density Function is minus value'\n",
    "    prob_sum = np.round(integrate.quad(f, -np.inf, np.inf)[0], 6)\n",
    "    assert prob_sum == 1, f'Sum of probability is {prob_sum}'\n",
    "    \n",
    "    print(f'expected value: { E(X):.3f}')\n",
    "    print(f'variance: {V(X):.3f}')\n",
    "    \n",
    "def plot_prob(X, x_min, x_max):\n",
    "    x_range, f = X\n",
    "    def F(x):\n",
    "        return integrate.quad(f, -np.inf, x)[0]\n",
    "    \n",
    "    xs = np.linspace(x_min, x_max, 100)\n",
    "    \n",
    "    fig = plt.figure(figsize = (10,6))\n",
    "    ax = fig.add_subplot(111)\n",
    "    ax.plot(xs, [f(x) for x in xs], label = 'f(x)', color = 'gray')\n",
    "    ax.plot(xs, [F(x) for x in xs], label = 'F(x)', color = 'gray', linestyle = '--')\n",
    "    \n",
    "    ax.legend()\n",
    "    plt.show()"
   ]
  },
  {
   "cell_type": "markdown",
   "id": "f7f99039",
   "metadata": {},
   "source": [
    "### 정규분포\n",
    "- 통계분석에서 자주 사용되는 중요한 확률분포로 자연계에서 일어나는 수많은 현상을 표현. 가우스 분포라고도 부름\n",
    "- 정규분포가 취할 수 있는 값은 실수 전체로 파라미터는 $평균(\\mu)과 분산(\\sigma^2)$ 두가지이다. $N(\\mu,\\sigma^2)$으로 표기\n",
    "\n",
    "    X ~ N(μ, σ2)\n",
    "\n",
    "- 정규분포변수에 평균을 빼주고, 표준편차로 나누어주면 표준정규분포를 따르게됨\n",
    "    \n",
    "    Z = (X - μ)/σ ~ N(0,1)\n",
    "    \n",
    "    \n",
    "    \n",
    "- 정규분포의 밀도 함수\n",
    "<img src = '정규분포.jpg' STYLE='width 200px;'>\n",
    "\n"
   ]
  },
  {
   "cell_type": "markdown",
   "id": "5bdd6642",
   "metadata": {},
   "source": [
    "##### 사용자함수 생성"
   ]
  },
  {
   "cell_type": "code",
   "execution_count": 88,
   "id": "d04386ba",
   "metadata": {},
   "outputs": [],
   "source": [
    "# 정규분포 밀도함수 반환 함수 생성\n",
    "\n",
    "def Norm(mu, sigma):\n",
    "    x_range = [-np.inf, np.inf]\n",
    "    \n",
    "    def f(x):\n",
    "        return 1/np.sqrt(2 * np.pi * sigma**2)*np.exp(-(x-mu)**2/(2*sigma**2))\n",
    "    \n",
    "    return x_range, f"
   ]
  },
  {
   "cell_type": "code",
   "execution_count": 89,
   "id": "797cfd95",
   "metadata": {},
   "outputs": [
    {
     "name": "stdout",
     "output_type": "stream",
     "text": [
      "expected value: 2.000\n",
      "variance: 0.250\n"
     ]
    }
   ],
   "source": [
    "mu, sigma = 2, 0.5\n",
    "X = Norm(mu, sigma)\n",
    "\n",
    "check_prob(X)"
   ]
  },
  {
   "cell_type": "code",
   "execution_count": 90,
   "id": "85664392",
   "metadata": {},
   "outputs": [
    {
     "data": {
      "image/png": "[encoded data removed]",
      "text/plain": [
       "<Figure size 720x432 with 1 Axes>"
      ]
     },
     "metadata": {
      "needs_background": "light"
     },
     "output_type": "display_data"
    }
   ],
   "source": [
    "# 시각화\n",
    "\n",
    "plot_prob(X, 0, 4)"
   ]
  },
  {
   "cell_type": "markdown",
   "id": "32bced1f",
   "metadata": {},
   "source": [
    "##### scyipy.stats 함수 사용"
   ]
  },
  {
   "cell_type": "code",
   "execution_count": 95,
   "id": "0719e7a7",
   "metadata": {},
   "outputs": [
    {
     "name": "stdout",
     "output_type": "stream",
     "text": [
      "기댓값: 2.0\n",
      "분산:  0.25\n"
     ]
    }
   ],
   "source": [
    "import scipy.stats \n",
    "\n",
    "rv = stats.norm(2, 0.5)\n",
    "\n",
    "# 정규분포의 기댓값, 분산\n",
    "print(f'기댓값: {rv.mean()}')\n",
    "print(f'분산:  {rv.var()}')"
   ]
  },
  {
   "cell_type": "code",
   "execution_count": 96,
   "id": "79acab46",
   "metadata": {},
   "outputs": [
    {
     "data": {
      "text/plain": [
       "0.798"
      ]
     },
     "execution_count": 96,
     "metadata": {},
     "output_type": "execute_result"
    }
   ],
   "source": [
    "# 확률변수 X 값이 2일 때 확률밀도함수\n",
    "\n",
    "rv.pdf(2)"
   ]
  },
  {
   "cell_type": "code",
   "execution_count": 98,
   "id": "1f6a236b",
   "metadata": {},
   "outputs": [
    {
     "data": {
      "text/plain": [
       "0.274"
      ]
     },
     "execution_count": 98,
     "metadata": {},
     "output_type": "execute_result"
    }
   ],
   "source": [
    "# 확률변수 X 값이 2일 때 누적분포함수\n",
    "\n",
    "rv.cdf(1.7)"
   ]
  },
  {
   "cell_type": "code",
   "execution_count": 101,
   "id": "107df114",
   "metadata": {},
   "outputs": [
    {
     "data": {
      "text/plain": [
       "(2.262, 3.163)"
      ]
     },
     "execution_count": 101,
     "metadata": {},
     "output_type": "execute_result"
    }
   ],
   "source": [
    "# 상위 100α% 구하기\n",
    "# P(X >= x) = α를 만족하는 x값 구하기\n",
    "# 정규분포에서 칠해진 면적이 α인 x값 구하기\n",
    "\n",
    "rv.isf(0.3), rv.isf(0.01)"
   ]
  },
  {
   "cell_type": "code",
   "execution_count": 110,
   "id": "22a4a336",
   "metadata": {},
   "outputs": [
    {
     "name": "stdout",
     "output_type": "stream",
     "text": [
      "(1.1775731865242636, 2.822426813475736)\n",
      "1.1775731865242638 2.8224268134757367\n"
     ]
    }
   ],
   "source": [
    "# P(x1 <= X <= x2) = α를 만족하는 x1,x2 값 구하기\n",
    "# 양 옆을 제외한 가운데 부분의 칠해진 면적이 α인 x1,x2값 구하기\n",
    "\n",
    "#방법1: inteval메서드 활용\n",
    "print(rv.interval(0.9))\n",
    "\n",
    "#방법2: isf 메서드로 빼기\n",
    "print(rv.isf(0.95) , rv.isf(0.05))"
   ]
  },
  {
   "cell_type": "code",
   "execution_count": 114,
   "id": "528fed0b",
   "metadata": {
    "scrolled": false
   },
   "outputs": [
    {
     "data": {
      "image/png": "[encoded data removed]",
      "text/plain": [
       "<Figure size 720x432 with 1 Axes>"
      ]
     },
     "metadata": {
      "needs_background": "light"
     },
     "output_type": "display_data"
    }
   ],
   "source": [
    "# 시각화하기\n",
    "linestyles = ['-','--',':']\n",
    "\n",
    "fig = plt.figure(figsize = (10,6))\n",
    "ax = fig.add_subplot(111)\n",
    "\n",
    "xs = np.linspace(-5,5,100)\n",
    "params = [(0,1),(0,2),(1,1)]\n",
    "\n",
    "for param, ls in zip(params, linestyles):\n",
    "    mu, sigma = param\n",
    "    rv = stats.norm(mu, sigma)\n",
    "    ax.plot(xs, rv.pdf(xs), label = f' N({mu}, {sigma**2})', ls = ls, color = 'gray')\n",
    "\n",
    "ax.legend()\n",
    "\n",
    "plt.show()"
   ]
  },
  {
   "cell_type": "markdown",
   "id": "cf8174db",
   "metadata": {},
   "source": [
    "#### 과제: 정규분포 곡선 그리기\n",
    "\n",
    "x :1-7.1, 평균 4, 표준편차 0.8인 정규분포 곡선 출력"
   ]
  },
  {
   "cell_type": "code",
   "execution_count": 116,
   "id": "4466f5fe",
   "metadata": {},
   "outputs": [
    {
     "data": {
      "text/plain": [
       "[<matplotlib.lines.Line2D at 0x200fd0c2ee0>]"
      ]
     },
     "execution_count": 116,
     "metadata": {},
     "output_type": "execute_result"
    },
    {
     "data": {
      "image/png": "[encoded data removed]",
      "text/plain": [
       "<Figure size 432x288 with 1 Axes>"
      ]
     },
     "metadata": {
      "needs_background": "light"
     },
     "output_type": "display_data"
    }
   ],
   "source": [
    "x_plot = np.arange(1,7.1, 0.1)\n",
    "\n",
    "plt.plot(x_plot, stats.norm.pdf(x = x_plot, loc = 4, scale = 0.8), color = 'black')"
   ]
  },
  {
   "cell_type": "markdown",
   "id": "0bed4664",
   "metadata": {},
   "source": [
    "#### 과제1: 정규분포 누적분포함수 그리기\n",
    "\n",
    "- x :1-7.1, 평균 4, 표준편차 0.8인 정규분포 곡선 출력"
   ]
  },
  {
   "cell_type": "code",
   "execution_count": 6,
   "id": "fc5e1b5c",
   "metadata": {},
   "outputs": [],
   "source": [
    "import scipy.stats \n",
    "import numpy as np\n",
    "import matplotlib.pyplot as plt\n",
    "import matplotlib.font_manager as fm\n",
    "from matplotlib import rc"
   ]
  },
  {
   "cell_type": "code",
   "execution_count": 7,
   "id": "50878d42",
   "metadata": {},
   "outputs": [
    {
     "data": {
      "image/png": "[encoded data removed]",
      "text/plain": [
       "<Figure size 720x432 with 1 Axes>"
      ]
     },
     "metadata": {
      "needs_background": "light"
     },
     "output_type": "display_data"
    }
   ],
   "source": [
    "rc('font', family='Malgun Gothic')\n",
    "plt.rcParams['axes.unicode_minus']=False     # 마이너스 부호 깨짐 방지\n",
    "\n",
    "rv = scipy.stats.norm(4, 0.8)\n",
    "\n",
    "xs = np.linspace(1, 7.1, 100)\n",
    "ys = rv.pdf(xs)\n",
    "ys2 = rv.cdf(xs)\n",
    "\n",
    "fig = plt.figure(figsize = (10,6))\n",
    "ax = fig.add_subplot(111)\n",
    "\n",
    "ax.plot(xs, ys, color = 'pink', label = 'f(x): m = 4, s = 0.8')\n",
    "ax.plot(xs, ys2, color = 'red',label = 'F(x): m = 4, s = 0.8', linestyle = '--')\n",
    "ax.set_title('정규분포')\n",
    "ax.legend()\n",
    "\n",
    "plt.show()"
   ]
  },
  {
   "cell_type": "markdown",
   "id": "b6096c4a",
   "metadata": {},
   "source": [
    "- 확률변수가 4일때 누적분포값(확률)"
   ]
  },
  {
   "cell_type": "code",
   "execution_count": 159,
   "id": "21960581",
   "metadata": {},
   "outputs": [
    {
     "data": {
      "text/plain": [
       "0.500"
      ]
     },
     "execution_count": 159,
     "metadata": {},
     "output_type": "execute_result"
    }
   ],
   "source": [
    "rv.cdf(4)"
   ]
  },
  {
   "cell_type": "markdown",
   "id": "7227e1c0",
   "metadata": {},
   "source": [
    "- 확률이 0.5일 때 확률변수"
   ]
  },
  {
   "cell_type": "code",
   "execution_count": 160,
   "id": "c1dbb4b6",
   "metadata": {},
   "outputs": [
    {
     "data": {
      "text/plain": [
       "4.000"
      ]
     },
     "execution_count": 160,
     "metadata": {},
     "output_type": "execute_result"
    }
   ],
   "source": [
    "rv.isf(0.5)"
   ]
  },
  {
   "cell_type": "markdown",
   "id": "57474341",
   "metadata": {},
   "source": [
    "#### 과제2: 정규분포 사례\n",
    "1. 어느 회사에서 종업원들의 근무기간을 조사하였는데, 종업원들의 근무기간은 평균이 11년이고 표준편차가 4년인 정규분포를 따른다고 한다. 그럼 이 회사에서 14년 이상 근무한 종업원의 비율을 구하시오 "
   ]
  },
  {
   "cell_type": "code",
   "execution_count": 161,
   "id": "3b2e8a1f",
   "metadata": {},
   "outputs": [],
   "source": [
    "import scipy.stats"
   ]
  },
  {
   "cell_type": "code",
   "execution_count": 163,
   "id": "54f1c6b9",
   "metadata": {},
   "outputs": [
    {
     "data": {
      "text/plain": [
       "0.227"
      ]
     },
     "execution_count": 163,
     "metadata": {},
     "output_type": "execute_result"
    }
   ],
   "source": [
    "# X ~ N(11,4^2), P(x>=14)?\n",
    "\n",
    "rv = stats.norm(11,4)\n",
    "\n",
    "1 - rv.cdf(14)"
   ]
  },
  {
   "cell_type": "markdown",
   "id": "5f4b9c81",
   "metadata": {},
   "source": [
    "2. 어느 전구회사의 전구의 수명은 평균 800일, 표준편차 30일인 정규분포를 따른다. 전구의 수명이 760일 이하일 확률 구하시오 "
   ]
  },
  {
   "cell_type": "code",
   "execution_count": 164,
   "id": "504a28c1",
   "metadata": {},
   "outputs": [
    {
     "data": {
      "text/plain": [
       "0.091"
      ]
     },
     "execution_count": 164,
     "metadata": {},
     "output_type": "execute_result"
    }
   ],
   "source": [
    "# X ~ N(800,30^2), P(x<=760)?\n",
    "\n",
    "rv = stats.norm(800,30)\n",
    "\n",
    "rv.cdf(760)"
   ]
  },
  {
   "cell_type": "markdown",
   "id": "75c5d950",
   "metadata": {},
   "source": [
    "3. 어느 고등학교 3학년 학생들의 수학 성적은 평균이 70점이고 분산이 64점인 정규분포를 따른다고 한다. 그럼 점수가 80점 이상이고 90점 이하일 확률을 구하시오"
   ]
  },
  {
   "cell_type": "code",
   "execution_count": 165,
   "id": "3f1a4ab2",
   "metadata": {},
   "outputs": [
    {
     "data": {
      "text/plain": [
       "0.099"
      ]
     },
     "execution_count": 165,
     "metadata": {},
     "output_type": "execute_result"
    }
   ],
   "source": [
    "# X ~ N(70,8^2), P(80<=X<=90)?\n",
    "\n",
    "rv = stats.norm(70,8)\n",
    "\n",
    "rv.cdf(90) - rv.cdf(80)"
   ]
  },
  {
   "cell_type": "markdown",
   "id": "35da820c",
   "metadata": {},
   "source": [
    "### 지수분포\n",
    "- 어떤 사건이 발생하는 간격이 따르는 분포\n",
    "- 간격이라는 시간이 따르는 분포이므로, 확률변수가 취할 수 있는 값은 0이상의 실수임\n",
    "\n",
    "\n",
    "- X ~ Ex(λ)\n",
    "\n",
    "- 지수분포의 밀도함수\n",
    "    \n",
    "    단위시간당 평균 λ번 발생하는 사건의 발생간격을 따르는 확률분포\n",
    "\n",
    "     f(x) = λe^(-λx) (x>=0)\n",
    "          = 0        (otherwise)\n",
    "          \n",
    "     ex)하루당 평균 2건의 교통사고가 발생하는 지역에서 하루 교통사고 발생 간격일때,\n",
    "        교통사고가 일어난 뒤 다음 교통사고가 일어날 때까지의 시간은 Ex(2)를 따른다고 할 수 있음\n",
    "        \n",
    "        교통사고가 일어난 뒤 3일 이내 또 교통사고가 일어날 확률:\n",
    "              P(x<=3) = ∫ 2e^(-2x)dx ~ 0.998\n",
    "              \n",
    "     ex2)1시간당 평균 10번 액세스하는 사이트에 대한 액세스 간격\n",
    "         사이트에 대한 액세스를 완전한 임의의 사건으로 인식하면, 액세스 간격은 Ex(10)을 따름\n",
    "         \n",
    "         이 사이트에 대한 액세스가 있은 뒤 1분 이내에 또 애게슷할 확률\n",
    "             P(x<=1/60) = ∫ 10e^(-10x)dx ~ 0.154\n",
    "             \n",
    "- E(X) = 1/λ\n",
    "- V(X) = 1/λ^2"
   ]
  },
  {
   "cell_type": "markdown",
   "id": "8337a96c",
   "metadata": {},
   "source": [
    "##### 사용자함수 생성"
   ]
  },
  {
   "cell_type": "code",
   "execution_count": 120,
   "id": "e723920b",
   "metadata": {},
   "outputs": [],
   "source": [
    "def Ex(lam):\n",
    "    x_range = [0, np.inf]\n",
    "    \n",
    "    def f(x):\n",
    "        if x >= 0:\n",
    "            return lam * np.exp(-lam * x)\n",
    "        else:\n",
    "            return 0\n",
    "        \n",
    "    return x_range, f"
   ]
  },
  {
   "cell_type": "code",
   "execution_count": 121,
   "id": "9eea6721",
   "metadata": {},
   "outputs": [
    {
     "name": "stdout",
     "output_type": "stream",
     "text": [
      "expected value: 0.333\n",
      "variance: 0.111\n"
     ]
    }
   ],
   "source": [
    "lam = 3\n",
    "X = Ex(lam)\n",
    "\n",
    "check_prob(X)"
   ]
  },
  {
   "cell_type": "code",
   "execution_count": 124,
   "id": "6dd6a4eb",
   "metadata": {},
   "outputs": [
    {
     "data": {
      "image/png": "[encoded data removed]",
      "text/plain": [
       "<Figure size 720x432 with 1 Axes>"
      ]
     },
     "metadata": {
      "needs_background": "light"
     },
     "output_type": "display_data"
    }
   ],
   "source": [
    "# 시각화\n",
    "\n",
    "plot_prob(X, 0, 2)"
   ]
  },
  {
   "cell_type": "markdown",
   "id": "dee2811e",
   "metadata": {},
   "source": [
    "##### scipy.stats 함수 사용"
   ]
  },
  {
   "cell_type": "code",
   "execution_count": 128,
   "id": "51efc4f4",
   "metadata": {},
   "outputs": [
    {
     "data": {
      "image/png": "[encoded data removed]",
      "text/plain": [
       "<Figure size 720x432 with 1 Axes>"
      ]
     },
     "metadata": {
      "needs_background": "light"
     },
     "output_type": "display_data"
    }
   ],
   "source": [
    "import scipy.stats\n",
    "\n",
    "fig = plt.figure(figsize = (10,6))\n",
    "ax = fig.add_subplot(111)\n",
    "\n",
    "xs = np.linspace(0,3,100)\n",
    "for lam, ls in zip([1,2,3], linestyles):\n",
    "    rv = stats.expon(scale = 1/lam)\n",
    "    ax.plot(xs, rv.pdf(xs), label = f'lambda = {lam}', ls = ls, color = 'orange')\n",
    "\n",
    "ax.legend()\n",
    "\n",
    "plt.show()"
   ]
  },
  {
   "cell_type": "markdown",
   "id": "90063926",
   "metadata": {},
   "source": [
    "### 카이제곱분포"
   ]
  },
  {
   "cell_type": "code",
   "execution_count": null,
   "id": "c5428f3d",
   "metadata": {},
   "outputs": [],
   "source": []
  },
  {
   "cell_type": "markdown",
   "id": "c428b826",
   "metadata": {},
   "source": [
    "### t분포"
   ]
  },
  {
   "cell_type": "code",
   "execution_count": null,
   "id": "83b17fac",
   "metadata": {},
   "outputs": [],
   "source": []
  },
  {
   "cell_type": "markdown",
   "id": "0c73b54f",
   "metadata": {},
   "source": [
    "### F분포"
   ]
  },
  {
   "cell_type": "code",
   "execution_count": null,
   "id": "1750bb3c",
   "metadata": {},
   "outputs": [],
   "source": []
  }
 ],
 "metadata": {
  "kernelspec": {
   "display_name": "Python 3 (ipykernel)",
   "language": "python",
   "name": "python3"
  },
  "language_info": {
   "codemirror_mode": {
    "name": "ipython",
    "version": 3
   },
   "file_extension": ".py",
   "mimetype": "text/x-python",
   "name": "python",
   "nbconvert_exporter": "python",
   "pygments_lexer": "ipython3",
   "version": "3.8.13"
  },
  "toc": {
   "base_numbering": 1,
   "nav_menu": {},
   "number_sections": true,
   "sideBar": true,
   "skip_h1_title": false,
   "title_cell": "Table of Contents",
   "title_sidebar": "Contents",
   "toc_cell": false,
   "toc_position": {
    "height": "calc(100% - 180px)",
    "left": "10px",
    "top": "150px",
    "width": "212.475px"
   },
   "toc_section_display": true,
   "toc_window_display": true
  }
 },
 "nbformat": 4,
 "nbformat_minor": 5
}
