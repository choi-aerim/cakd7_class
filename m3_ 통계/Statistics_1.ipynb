{
 "cells": [
  {
   "cell_type": "markdown",
   "id": "b059e9f9",
   "metadata": {},
   "source": [
    "## 1차원 데이터\n",
    "- 평균값(기댓값), 표본분산, 불편분산(ddof=1), 표준편차\n",
    "- 표본분산은 표본의 평균을 사용해서 분산을 계산한 값으로 분산을 과소 추정하는 경향이 있으며 그 경향을 없애기 위한 것이 불편분산임. 표본분산 보다 조금 큰 값이 된다.\n",
    "- 표준화 : 평균값이 큰 변수와 작은 변수가 섞여 있으면 다루기 어려우므로 표준화로 데이터를 비교하기 쉽게 한다.\n",
    "- 최댓값, 최솟값, 중앙값, 사분위수\n",
    "- 표본분산과 비편향 분산\n",
    "    - 분산은 표본 분산과 불편분산(unbiased variance)의 두 종류가 존재\n",
    "    - 표본 분산은 표본에서 계산된 분산이며 모집단에 비해 표본수가 적을 때는 표본 분산이 모분산보다 작아진다.\n",
    "    - 즉 표본 분산이 모집단 분산에 맞춰서 동일하게 보정한 것을 비편향 분산이라 한다.\n",
    "    - 통계학에서는 이 비편향분산을 사용하는 경우가 많다.\n",
    "    - 불편분산은 n대신 n-1로 나누어 구할 수 있다.\n",
    "\n",
    "\n",
    "[표분분산이 분산을 과소 평가하는 이유]\n",
    "    \n",
    "    호수안에 물고기가 7마리가 있다. 몸길이 {1,2,3,4,5,6,7}, 모평균 4, 샘플링1 3마리{1,2,3} 표본평균 2, 샘플링2 {5,6,7} 표본평균 6\n",
    "    이때 분산은 모평균을 모르기 때문에 표본평균과의 거리를 계산하며 분산을 과소평가 하게된다.\n",
    "    표본 분산 보다 조금 더 큰 값이 되도록 보정하기 위하여 N대신 N-1로 나누어 불편분산을 구할 수 있다.\n"
   ]
  },
  {
   "cell_type": "markdown",
   "id": "03d8e15c",
   "metadata": {},
   "source": [
    "### 데이터불러오기"
   ]
  },
  {
   "cell_type": "code",
   "execution_count": 41,
   "id": "5c20ea97",
   "metadata": {
    "scrolled": true
   },
   "outputs": [
    {
     "data": {
      "text/html": [
       "<div>\n",
       "<style scoped>\n",
       "    .dataframe tbody tr th:only-of-type {\n",
       "        vertical-align: middle;\n",
       "    }\n",
       "\n",
       "    .dataframe tbody tr th {\n",
       "        vertical-align: top;\n",
       "    }\n",
       "\n",
       "    .dataframe thead th {\n",
       "        text-align: right;\n",
       "    }\n",
       "</style>\n",
       "<table border=\"1\" class=\"dataframe\">\n",
       "  <thead>\n",
       "    <tr style=\"text-align: right;\">\n",
       "      <th></th>\n",
       "      <th>student number</th>\n",
       "      <th>english</th>\n",
       "      <th>mathematics</th>\n",
       "    </tr>\n",
       "  </thead>\n",
       "  <tbody>\n",
       "    <tr>\n",
       "      <th>0</th>\n",
       "      <td>1</td>\n",
       "      <td>42</td>\n",
       "      <td>65</td>\n",
       "    </tr>\n",
       "    <tr>\n",
       "      <th>1</th>\n",
       "      <td>2</td>\n",
       "      <td>69</td>\n",
       "      <td>80</td>\n",
       "    </tr>\n",
       "    <tr>\n",
       "      <th>2</th>\n",
       "      <td>3</td>\n",
       "      <td>56</td>\n",
       "      <td>63</td>\n",
       "    </tr>\n",
       "    <tr>\n",
       "      <th>3</th>\n",
       "      <td>4</td>\n",
       "      <td>41</td>\n",
       "      <td>63</td>\n",
       "    </tr>\n",
       "    <tr>\n",
       "      <th>4</th>\n",
       "      <td>5</td>\n",
       "      <td>57</td>\n",
       "      <td>76</td>\n",
       "    </tr>\n",
       "  </tbody>\n",
       "</table>\n",
       "</div>"
      ],
      "text/plain": [
       "   student number  english  mathematics\n",
       "0               1       42           65\n",
       "1               2       69           80\n",
       "2               3       56           63\n",
       "3               4       41           63\n",
       "4               5       57           76"
      ]
     },
     "execution_count": 41,
     "metadata": {},
     "output_type": "execute_result"
    }
   ],
   "source": [
    "import pandas as pd\n",
    "import numpy as np\n",
    "\n",
    "df = pd.read_csv('ch2_scores_em.csv')\n",
    "df.head()"
   ]
  },
  {
   "cell_type": "code",
   "execution_count": 42,
   "id": "7269eca9",
   "metadata": {},
   "outputs": [
    {
     "data": {
      "text/plain": [
       "array([42, 69, 56, 41, 57, 48, 65, 49, 65, 58], dtype=int64)"
      ]
     },
     "execution_count": 42,
     "metadata": {},
     "output_type": "execute_result"
    }
   ],
   "source": [
    "scores = np.array(df['english'])[:10]\n",
    "scores"
   ]
  },
  {
   "cell_type": "code",
   "execution_count": 43,
   "id": "ea52ed4f",
   "metadata": {},
   "outputs": [
    {
     "data": {
      "text/html": [
       "<div>\n",
       "<style scoped>\n",
       "    .dataframe tbody tr th:only-of-type {\n",
       "        vertical-align: middle;\n",
       "    }\n",
       "\n",
       "    .dataframe tbody tr th {\n",
       "        vertical-align: top;\n",
       "    }\n",
       "\n",
       "    .dataframe thead th {\n",
       "        text-align: right;\n",
       "    }\n",
       "</style>\n",
       "<table border=\"1\" class=\"dataframe\">\n",
       "  <thead>\n",
       "    <tr style=\"text-align: right;\">\n",
       "      <th></th>\n",
       "      <th>score</th>\n",
       "    </tr>\n",
       "    <tr>\n",
       "      <th>student</th>\n",
       "      <th></th>\n",
       "    </tr>\n",
       "  </thead>\n",
       "  <tbody>\n",
       "    <tr>\n",
       "      <th>A</th>\n",
       "      <td>42</td>\n",
       "    </tr>\n",
       "    <tr>\n",
       "      <th>B</th>\n",
       "      <td>69</td>\n",
       "    </tr>\n",
       "    <tr>\n",
       "      <th>C</th>\n",
       "      <td>56</td>\n",
       "    </tr>\n",
       "    <tr>\n",
       "      <th>D</th>\n",
       "      <td>41</td>\n",
       "    </tr>\n",
       "    <tr>\n",
       "      <th>E</th>\n",
       "      <td>57</td>\n",
       "    </tr>\n",
       "    <tr>\n",
       "      <th>F</th>\n",
       "      <td>48</td>\n",
       "    </tr>\n",
       "    <tr>\n",
       "      <th>G</th>\n",
       "      <td>65</td>\n",
       "    </tr>\n",
       "    <tr>\n",
       "      <th>H</th>\n",
       "      <td>49</td>\n",
       "    </tr>\n",
       "    <tr>\n",
       "      <th>I</th>\n",
       "      <td>65</td>\n",
       "    </tr>\n",
       "    <tr>\n",
       "      <th>J</th>\n",
       "      <td>58</td>\n",
       "    </tr>\n",
       "  </tbody>\n",
       "</table>\n",
       "</div>"
      ],
      "text/plain": [
       "         score\n",
       "student       \n",
       "A           42\n",
       "B           69\n",
       "C           56\n",
       "D           41\n",
       "E           57\n",
       "F           48\n",
       "G           65\n",
       "H           49\n",
       "I           65\n",
       "J           58"
      ]
     },
     "execution_count": 43,
     "metadata": {},
     "output_type": "execute_result"
    }
   ],
   "source": [
    "scores_df = pd.DataFrame({'score': scores}, \n",
    "                         index = pd.Index([i for i in 'ABCDEFGHIJ'], name = 'student'))\n",
    "scores_df"
   ]
  },
  {
   "cell_type": "markdown",
   "id": "a3842b33",
   "metadata": {},
   "source": [
    "### 데이터 중심의 지표"
   ]
  },
  {
   "cell_type": "markdown",
   "id": "21b3f4e8",
   "metadata": {},
   "source": [
    "#### 평균값"
   ]
  },
  {
   "cell_type": "code",
   "execution_count": 44,
   "id": "1680512d",
   "metadata": {},
   "outputs": [
    {
     "data": {
      "text/plain": [
       "55.0"
      ]
     },
     "execution_count": 44,
     "metadata": {},
     "output_type": "execute_result"
    }
   ],
   "source": [
    "#방법1\n",
    "\n",
    "sum(scores)/len(scores)"
   ]
  },
  {
   "cell_type": "code",
   "execution_count": 45,
   "id": "f62b63d4",
   "metadata": {},
   "outputs": [
    {
     "data": {
      "text/plain": [
       "(55.0,\n",
       " score    55.0\n",
       " dtype: float64)"
      ]
     },
     "execution_count": 45,
     "metadata": {},
     "output_type": "execute_result"
    }
   ],
   "source": [
    "#방법2\n",
    "\n",
    "scores.mean(), scores_df.mean()"
   ]
  },
  {
   "cell_type": "code",
   "execution_count": 46,
   "id": "642c8bd5",
   "metadata": {},
   "outputs": [
    {
     "data": {
      "text/plain": [
       "55.0"
      ]
     },
     "execution_count": 46,
     "metadata": {},
     "output_type": "execute_result"
    }
   ],
   "source": [
    "#방법3\n",
    "\n",
    "np.mean(scores)"
   ]
  },
  {
   "cell_type": "markdown",
   "id": "b96a50b9",
   "metadata": {},
   "source": [
    "#### 중앙값"
   ]
  },
  {
   "cell_type": "code",
   "execution_count": 47,
   "id": "32cd7ebb",
   "metadata": {},
   "outputs": [
    {
     "data": {
      "text/plain": [
       "56.5"
      ]
     },
     "execution_count": 47,
     "metadata": {},
     "output_type": "execute_result"
    }
   ],
   "source": [
    "#방법1\n",
    "\n",
    "sorted_scores = sorted(scores)   #정렬방법1\n",
    "sorted_scores = np.sort(scores)  #정렬방법2\n",
    "\n",
    "n = len(sorted_scores)\n",
    "\n",
    "if n//2 == 0:\n",
    "    median = sorted_scores[int(n/2+1)]\n",
    "else:\n",
    "    m1 = sorted_scores[int((n-1)/2)]\n",
    "    m2 = sorted_scores[int((n+1)/2)]\n",
    "    median = (m1+m2)/2\n",
    "    \n",
    "median"
   ]
  },
  {
   "cell_type": "code",
   "execution_count": 48,
   "id": "b810eb4d",
   "metadata": {},
   "outputs": [
    {
     "data": {
      "text/plain": [
       "score    56.5\n",
       "dtype: float64"
      ]
     },
     "execution_count": 48,
     "metadata": {},
     "output_type": "execute_result"
    }
   ],
   "source": [
    "#방법2\n",
    "\n",
    "scores_df.median()"
   ]
  },
  {
   "cell_type": "code",
   "execution_count": 49,
   "id": "694f8846",
   "metadata": {},
   "outputs": [
    {
     "data": {
      "text/plain": [
       "56.5"
      ]
     },
     "execution_count": 49,
     "metadata": {},
     "output_type": "execute_result"
    }
   ],
   "source": [
    "#방법3\n",
    "\n",
    "np.median(sorted_scores)"
   ]
  },
  {
   "cell_type": "markdown",
   "id": "58c54691",
   "metadata": {},
   "source": [
    "#### 최빈값"
   ]
  },
  {
   "cell_type": "code",
   "execution_count": 50,
   "id": "e95cda38",
   "metadata": {},
   "outputs": [
    {
     "data": {
      "text/plain": [
       "0    1\n",
       "dtype: int64"
      ]
     },
     "execution_count": 50,
     "metadata": {},
     "output_type": "execute_result"
    }
   ],
   "source": [
    "pd.Series([1,1,1,2,2,3]).mode()"
   ]
  },
  {
   "cell_type": "code",
   "execution_count": 51,
   "id": "97924425",
   "metadata": {},
   "outputs": [
    {
     "data": {
      "text/plain": [
       "0    1\n",
       "1    2\n",
       "2    3\n",
       "3    4\n",
       "4    5\n",
       "5    6\n",
       "dtype: int64"
      ]
     },
     "execution_count": 51,
     "metadata": {},
     "output_type": "execute_result"
    }
   ],
   "source": [
    "pd.Series([1,2,3,4,5,6]).mode()"
   ]
  },
  {
   "cell_type": "markdown",
   "id": "88e85198",
   "metadata": {},
   "source": [
    "### 데이터의 산포도 지표"
   ]
  },
  {
   "cell_type": "markdown",
   "id": "21bb4ef8",
   "metadata": {},
   "source": [
    "#### 편차\n",
    "- 각 데이터가 평균으로부터 어느정도 떨어져 있는가를 나타내는 지표"
   ]
  },
  {
   "cell_type": "code",
   "execution_count": 52,
   "id": "2865ec41",
   "metadata": {},
   "outputs": [
    {
     "data": {
      "text/plain": [
       "array([-13.,  14.,   1., -14.,   2.,  -7.,  10.,  -6.,  10.,   3.])"
      ]
     },
     "execution_count": 52,
     "metadata": {},
     "output_type": "execute_result"
    }
   ],
   "source": [
    "#방법1\n",
    "\n",
    "mean = np.mean(scores)\n",
    "deviation = scores - mean\n",
    "deviation"
   ]
  },
  {
   "cell_type": "code",
   "execution_count": 53,
   "id": "cf37d7c0",
   "metadata": {
    "scrolled": true
   },
   "outputs": [
    {
     "data": {
      "text/plain": [
       "0.0"
      ]
     },
     "execution_count": 53,
     "metadata": {},
     "output_type": "execute_result"
    }
   ],
   "source": [
    "## 편차의 평균\n",
    "np.mean(deviation)"
   ]
  },
  {
   "cell_type": "code",
   "execution_count": 54,
   "id": "c9609641",
   "metadata": {},
   "outputs": [
    {
     "data": {
      "text/plain": [
       "[<matplotlib.lines.Line2D at 0x21baa2c3880>]"
      ]
     },
     "execution_count": 54,
     "metadata": {},
     "output_type": "execute_result"
    },
    {
     "data": {
      "image/png": "[encoded data removed]",
      "text/plain": [
       "<Figure size 432x288 with 1 Axes>"
      ]
     },
     "metadata": {
      "needs_background": "light"
     },
     "output_type": "display_data"
    }
   ],
   "source": [
    "## raw 값과 편차 값을 도표화\n",
    "\n",
    "import matplotlib.pyplot as plt\n",
    "\n",
    "summary_df = scores_df.copy()\n",
    "summary_df['deviation'] = deviation\n",
    "\n",
    "plt.plot(summary_df['score'], marker = 'o', color = 'pink')\n",
    "plt.plot(summary_df['deviation'], marker = 'o', color = 'red')"
   ]
  },
  {
   "cell_type": "code",
   "execution_count": 55,
   "id": "52d5cbf8",
   "metadata": {},
   "outputs": [
    {
     "data": {
      "text/plain": [
       "score        55.0\n",
       "deviation     0.0\n",
       "dtype: float64"
      ]
     },
     "execution_count": 55,
     "metadata": {},
     "output_type": "execute_result"
    }
   ],
   "source": [
    "## 데이터프레임의 평균\n",
    "\n",
    "summary_df.mean()"
   ]
  },
  {
   "cell_type": "markdown",
   "id": "31155619",
   "metadata": {},
   "source": [
    "#### 분산\n",
    "- 편차의 제곱\n",
    "- 편차의 평균이 항상 0이 되는 것 때문에 사용하는 지표"
   ]
  },
  {
   "cell_type": "code",
   "execution_count": 56,
   "id": "6d8ee0db",
   "metadata": {},
   "outputs": [
    {
     "data": {
      "text/plain": [
       "86.0"
      ]
     },
     "execution_count": 56,
     "metadata": {},
     "output_type": "execute_result"
    }
   ],
   "source": [
    "# 방법1\n",
    "\n",
    "np.var(scores)"
   ]
  },
  {
   "cell_type": "code",
   "execution_count": 57,
   "id": "1d8b5c86",
   "metadata": {},
   "outputs": [
    {
     "data": {
      "text/plain": [
       "86.0"
      ]
     },
     "execution_count": 57,
     "metadata": {},
     "output_type": "execute_result"
    }
   ],
   "source": [
    "# 방법2\n",
    "\n",
    "np.mean(deviation**2)"
   ]
  },
  {
   "cell_type": "code",
   "execution_count": 58,
   "id": "fbd9f31d",
   "metadata": {},
   "outputs": [
    {
     "data": {
      "text/plain": [
       "score    86.0\n",
       "dtype: float64"
      ]
     },
     "execution_count": 58,
     "metadata": {},
     "output_type": "execute_result"
    }
   ],
   "source": [
    "# 방법3\n",
    "\n",
    "scores_df.var(ddof = 0)   # pandas var함수의 default는 불편분산임\n",
    "                          # 따라서, ddof = 0으로 표본분산을 계산하도록 함"
   ]
  },
  {
   "cell_type": "code",
   "execution_count": 59,
   "id": "eba44b02",
   "metadata": {},
   "outputs": [
    {
     "data": {
      "text/plain": [
       "score                  55.0\n",
       "deviation               0.0\n",
       "square of deviation    86.0\n",
       "dtype: float64"
      ]
     },
     "execution_count": 59,
     "metadata": {},
     "output_type": "execute_result"
    }
   ],
   "source": [
    "# 방법4\n",
    "\n",
    "summary_df['square of deviation'] = np.square(deviation)\n",
    "summary_df.mean()"
   ]
  },
  {
   "cell_type": "markdown",
   "id": "e852ff14",
   "metadata": {},
   "source": [
    "#### 표준편차\n",
    "- 분산의 양의 제곱근\n",
    "- raw 데이터의 단위와 통일해주기 위한 지표"
   ]
  },
  {
   "cell_type": "code",
   "execution_count": 60,
   "id": "186ced89",
   "metadata": {},
   "outputs": [
    {
     "data": {
      "text/plain": [
       "9.273618495495704"
      ]
     },
     "execution_count": 60,
     "metadata": {},
     "output_type": "execute_result"
    }
   ],
   "source": [
    "# 방법1\n",
    "\n",
    "np.sqrt(np.var(scores, ddof = 0))"
   ]
  },
  {
   "cell_type": "code",
   "execution_count": 61,
   "id": "179853bb",
   "metadata": {},
   "outputs": [
    {
     "data": {
      "text/plain": [
       "9.273618495495704"
      ]
     },
     "execution_count": 61,
     "metadata": {},
     "output_type": "execute_result"
    }
   ],
   "source": [
    "# 방법2\n",
    "\n",
    "np.std(scores, ddof = 0)"
   ]
  },
  {
   "cell_type": "markdown",
   "id": "85901ade",
   "metadata": {},
   "source": [
    "#### 범위\n",
    "- 데이터 전체가 아닌 최댓값, 최솟값으로 산포도를 표현\n",
    "- 최댓값-최솟값"
   ]
  },
  {
   "cell_type": "code",
   "execution_count": 62,
   "id": "c983f464",
   "metadata": {},
   "outputs": [
    {
     "data": {
      "text/plain": [
       "28"
      ]
     },
     "execution_count": 62,
     "metadata": {},
     "output_type": "execute_result"
    }
   ],
   "source": [
    "np.max(scores) - np.min(scores)"
   ]
  },
  {
   "cell_type": "markdown",
   "id": "98c4fd9f",
   "metadata": {},
   "source": [
    "#### 사분위범위\n",
    "- 75% 상위수에 위치하는 값과 25% 하위수에 위치하는 값의 차이를 취함\n",
    "- Q3-Q1"
   ]
  },
  {
   "cell_type": "code",
   "execution_count": 63,
   "id": "c2f50535",
   "metadata": {},
   "outputs": [
    {
     "data": {
      "text/plain": [
       "15.0"
      ]
     },
     "execution_count": 63,
     "metadata": {},
     "output_type": "execute_result"
    }
   ],
   "source": [
    "# 방법1\n",
    "\n",
    "scores_q1 = np.percentile(scores, 25)\n",
    "scores_q3 = np.percentile(scores, 75)\n",
    "scores_iqr = scores_q3 - scores_q1\n",
    "scores_iqr"
   ]
  },
  {
   "cell_type": "code",
   "execution_count": 64,
   "id": "4617aafe",
   "metadata": {},
   "outputs": [
    {
     "data": {
      "text/plain": [
       "15.0"
      ]
     },
     "execution_count": 64,
     "metadata": {},
     "output_type": "execute_result"
    }
   ],
   "source": [
    "# 방법2\n",
    "\n",
    "scores_des = pd.Series(scores).describe()\n",
    "scores_des['75%'] - scores_des['25%']"
   ]
  },
  {
   "cell_type": "markdown",
   "id": "a1664bb1",
   "metadata": {},
   "source": [
    "### 과제"
   ]
  },
  {
   "cell_type": "markdown",
   "id": "e43fe0b0",
   "metadata": {},
   "source": [
    "#### 20개 원소로 구성되는 배열을 만든 후 평균, 편차 및 편차의 합을 구하기"
   ]
  },
  {
   "cell_type": "code",
   "execution_count": 65,
   "id": "6c173d68",
   "metadata": {},
   "outputs": [
    {
     "name": "stdout",
     "output_type": "stream",
     "text": [
      "배열의 평균: 44.4\n",
      "배열의 편차: [-11.4 -21.4 -20.4 -17.4  38.6  11.6 -10.4 -32.4  41.6   0.6   9.6  25.6\n",
      " -19.4 -26.4  28.6  -8.4  -0.4  47.6  -1.4 -34.4]\n",
      "편차의 합: 0.0\n"
     ]
    }
   ],
   "source": [
    "import numpy as np\n",
    "import random\n",
    "\n",
    "arr = np.array(np.random.randint(0,100,20))\n",
    "\n",
    "print(f'배열의 평균: {arr.mean().round(1)}')\n",
    "print(f'배열의 편차: {(arr - arr.mean()).round(1)}')\n",
    "print(f'편차의 합: {(arr - arr.mean()).sum().round(1)}')"
   ]
  },
  {
   "cell_type": "markdown",
   "id": "f5a0b579",
   "metadata": {},
   "source": [
    "#### 중앙값 > 평균값인 경우와 중앙값 < 평균값인 두가지 집합에서 나타나는 가능성 있는 특징을 사례로 설명하기"
   ]
  },
  {
   "cell_type": "code",
   "execution_count": 66,
   "id": "ff459b3b",
   "metadata": {},
   "outputs": [
    {
     "name": "stdout",
     "output_type": "stream",
     "text": [
      "2.0 -9.555555555555555\n",
      "4.0 14.0\n"
     ]
    }
   ],
   "source": [
    "#중앙값 > 평균값\n",
    "arr1 = np.array([-100,1,1,1,2,2,2,2,3])\n",
    "print(np.median(arr1), np.mean(arr1))\n",
    "\n",
    "\n",
    "#중앙값 < 평균값\n",
    "arr2 = np.array([1,2,3,3,4,4,4,5,100])\n",
    "print(np.median(arr2), np.mean(arr2))   "
   ]
  },
  {
   "cell_type": "markdown",
   "id": "498a7df3",
   "metadata": {},
   "source": [
    "#### 4분위를 이용하여 이상치를 구하는 사례를 생성하고 시각화 및 이상치 산출하는 과정을 설명하기"
   ]
  },
  {
   "cell_type": "code",
   "execution_count": 67,
   "id": "4f4c0c07",
   "metadata": {},
   "outputs": [
    {
     "name": "stdout",
     "output_type": "stream",
     "text": [
      "1분위수: 1.5\n",
      "3분위수: 4.5\n",
      "사분위범위: 3.0\n",
      "-3.0 보다 작은 수, 9.0 보다 큰 수는 이상치로 분류됨\n",
      "이상치: [20.0]\n"
     ]
    }
   ],
   "source": [
    "arr = np.array([0.1,1,1,1,1,1,2,2,2,2,2,3,3,3,3,3,4,5,5,6,6,6,20])\n",
    "\n",
    "arr_q1 = np.percentile(arr, 25)\n",
    "arr_q3 = np.percentile(arr, 75)\n",
    "arr_iqr = arr_q3 - arr_q1\n",
    "lower_whisker = arr_q1 - 1.5*arr_iqr\n",
    "upper_whisker = arr_q3 + 1.5*arr_iqr\n",
    "\n",
    "print(f'1분위수: {arr_q1}')\n",
    "print(f'3분위수: {arr_q3}')\n",
    "print(f'사분위범위: {arr_iqr}')\n",
    "print(f'{lower_whisker} 보다 작은 수, {upper_whisker} 보다 큰 수는 이상치로 분류됨')\n",
    "\n",
    "outlier = []\n",
    "for i in arr:\n",
    "    if i < lower_whisker or i > upper_whisker:\n",
    "        outlier.append(i)\n",
    "        \n",
    "print(f'이상치: {outlier}')"
   ]
  },
  {
   "cell_type": "code",
   "execution_count": 68,
   "id": "bb7f513e",
   "metadata": {},
   "outputs": [
    {
     "data": {
      "text/plain": [
       "<AxesSubplot:xlabel='arr'>"
      ]
     },
     "execution_count": 68,
     "metadata": {},
     "output_type": "execute_result"
    },
    {
     "data": {
      "image/png": "[encoded data removed]",
      "text/plain": [
       "<Figure size 1440x216 with 2 Axes>"
      ]
     },
     "metadata": {
      "needs_background": "light"
     },
     "output_type": "display_data"
    }
   ],
   "source": [
    "# 시각화\n",
    "\n",
    "import seaborn as sns\n",
    "import warnings\n",
    "warnings.filterwarnings('ignore')\n",
    "\n",
    "df = pd.DataFrame(columns = ['arr'])\n",
    "df['arr'] = arr\n",
    "\n",
    "fig, ax = plt.subplots(1,2, figsize = (20,3))\n",
    "sns.boxplot('arr', data = df, ax = ax[0], color = 'lightsalmon')\n",
    "sns.stripplot('arr', data = df, ax = ax[1], color = 'red')"
   ]
  },
  {
   "cell_type": "markdown",
   "id": "51f795e5",
   "metadata": {},
   "source": [
    "#### 표본분산과 불편분산의 차이를 사례를 들어 설명하기"
   ]
  },
  {
   "cell_type": "code",
   "execution_count": 69,
   "id": "e0a1c65d",
   "metadata": {
    "scrolled": true
   },
   "outputs": [
    {
     "data": {
      "text/html": [
       "<div>\n",
       "<style scoped>\n",
       "    .dataframe tbody tr th:only-of-type {\n",
       "        vertical-align: middle;\n",
       "    }\n",
       "\n",
       "    .dataframe tbody tr th {\n",
       "        vertical-align: top;\n",
       "    }\n",
       "\n",
       "    .dataframe thead th {\n",
       "        text-align: right;\n",
       "    }\n",
       "</style>\n",
       "<table border=\"1\" class=\"dataframe\">\n",
       "  <thead>\n",
       "    <tr style=\"text-align: right;\">\n",
       "      <th></th>\n",
       "      <th>student number</th>\n",
       "      <th>english</th>\n",
       "      <th>mathematics</th>\n",
       "    </tr>\n",
       "  </thead>\n",
       "  <tbody>\n",
       "    <tr>\n",
       "      <th>0</th>\n",
       "      <td>1</td>\n",
       "      <td>42</td>\n",
       "      <td>65</td>\n",
       "    </tr>\n",
       "    <tr>\n",
       "      <th>1</th>\n",
       "      <td>2</td>\n",
       "      <td>69</td>\n",
       "      <td>80</td>\n",
       "    </tr>\n",
       "    <tr>\n",
       "      <th>2</th>\n",
       "      <td>3</td>\n",
       "      <td>56</td>\n",
       "      <td>63</td>\n",
       "    </tr>\n",
       "    <tr>\n",
       "      <th>3</th>\n",
       "      <td>4</td>\n",
       "      <td>41</td>\n",
       "      <td>63</td>\n",
       "    </tr>\n",
       "    <tr>\n",
       "      <th>4</th>\n",
       "      <td>5</td>\n",
       "      <td>57</td>\n",
       "      <td>76</td>\n",
       "    </tr>\n",
       "    <tr>\n",
       "      <th>5</th>\n",
       "      <td>6</td>\n",
       "      <td>48</td>\n",
       "      <td>60</td>\n",
       "    </tr>\n",
       "    <tr>\n",
       "      <th>6</th>\n",
       "      <td>7</td>\n",
       "      <td>65</td>\n",
       "      <td>81</td>\n",
       "    </tr>\n",
       "    <tr>\n",
       "      <th>7</th>\n",
       "      <td>8</td>\n",
       "      <td>49</td>\n",
       "      <td>66</td>\n",
       "    </tr>\n",
       "    <tr>\n",
       "      <th>8</th>\n",
       "      <td>9</td>\n",
       "      <td>65</td>\n",
       "      <td>78</td>\n",
       "    </tr>\n",
       "    <tr>\n",
       "      <th>9</th>\n",
       "      <td>10</td>\n",
       "      <td>58</td>\n",
       "      <td>82</td>\n",
       "    </tr>\n",
       "    <tr>\n",
       "      <th>10</th>\n",
       "      <td>11</td>\n",
       "      <td>70</td>\n",
       "      <td>94</td>\n",
       "    </tr>\n",
       "    <tr>\n",
       "      <th>11</th>\n",
       "      <td>12</td>\n",
       "      <td>47</td>\n",
       "      <td>75</td>\n",
       "    </tr>\n",
       "    <tr>\n",
       "      <th>12</th>\n",
       "      <td>13</td>\n",
       "      <td>51</td>\n",
       "      <td>70</td>\n",
       "    </tr>\n",
       "    <tr>\n",
       "      <th>13</th>\n",
       "      <td>14</td>\n",
       "      <td>64</td>\n",
       "      <td>77</td>\n",
       "    </tr>\n",
       "    <tr>\n",
       "      <th>14</th>\n",
       "      <td>15</td>\n",
       "      <td>62</td>\n",
       "      <td>84</td>\n",
       "    </tr>\n",
       "    <tr>\n",
       "      <th>15</th>\n",
       "      <td>16</td>\n",
       "      <td>70</td>\n",
       "      <td>84</td>\n",
       "    </tr>\n",
       "    <tr>\n",
       "      <th>16</th>\n",
       "      <td>17</td>\n",
       "      <td>71</td>\n",
       "      <td>82</td>\n",
       "    </tr>\n",
       "    <tr>\n",
       "      <th>17</th>\n",
       "      <td>18</td>\n",
       "      <td>68</td>\n",
       "      <td>85</td>\n",
       "    </tr>\n",
       "    <tr>\n",
       "      <th>18</th>\n",
       "      <td>19</td>\n",
       "      <td>73</td>\n",
       "      <td>90</td>\n",
       "    </tr>\n",
       "    <tr>\n",
       "      <th>19</th>\n",
       "      <td>20</td>\n",
       "      <td>37</td>\n",
       "      <td>70</td>\n",
       "    </tr>\n",
       "    <tr>\n",
       "      <th>20</th>\n",
       "      <td>21</td>\n",
       "      <td>65</td>\n",
       "      <td>78</td>\n",
       "    </tr>\n",
       "    <tr>\n",
       "      <th>21</th>\n",
       "      <td>22</td>\n",
       "      <td>65</td>\n",
       "      <td>93</td>\n",
       "    </tr>\n",
       "    <tr>\n",
       "      <th>22</th>\n",
       "      <td>23</td>\n",
       "      <td>61</td>\n",
       "      <td>77</td>\n",
       "    </tr>\n",
       "    <tr>\n",
       "      <th>23</th>\n",
       "      <td>24</td>\n",
       "      <td>52</td>\n",
       "      <td>88</td>\n",
       "    </tr>\n",
       "    <tr>\n",
       "      <th>24</th>\n",
       "      <td>25</td>\n",
       "      <td>57</td>\n",
       "      <td>82</td>\n",
       "    </tr>\n",
       "    <tr>\n",
       "      <th>25</th>\n",
       "      <td>26</td>\n",
       "      <td>57</td>\n",
       "      <td>76</td>\n",
       "    </tr>\n",
       "    <tr>\n",
       "      <th>26</th>\n",
       "      <td>27</td>\n",
       "      <td>75</td>\n",
       "      <td>87</td>\n",
       "    </tr>\n",
       "    <tr>\n",
       "      <th>27</th>\n",
       "      <td>28</td>\n",
       "      <td>61</td>\n",
       "      <td>84</td>\n",
       "    </tr>\n",
       "    <tr>\n",
       "      <th>28</th>\n",
       "      <td>29</td>\n",
       "      <td>47</td>\n",
       "      <td>77</td>\n",
       "    </tr>\n",
       "    <tr>\n",
       "      <th>29</th>\n",
       "      <td>30</td>\n",
       "      <td>54</td>\n",
       "      <td>82</td>\n",
       "    </tr>\n",
       "    <tr>\n",
       "      <th>30</th>\n",
       "      <td>31</td>\n",
       "      <td>66</td>\n",
       "      <td>91</td>\n",
       "    </tr>\n",
       "    <tr>\n",
       "      <th>31</th>\n",
       "      <td>32</td>\n",
       "      <td>54</td>\n",
       "      <td>75</td>\n",
       "    </tr>\n",
       "    <tr>\n",
       "      <th>32</th>\n",
       "      <td>33</td>\n",
       "      <td>54</td>\n",
       "      <td>76</td>\n",
       "    </tr>\n",
       "    <tr>\n",
       "      <th>33</th>\n",
       "      <td>34</td>\n",
       "      <td>42</td>\n",
       "      <td>78</td>\n",
       "    </tr>\n",
       "    <tr>\n",
       "      <th>34</th>\n",
       "      <td>35</td>\n",
       "      <td>37</td>\n",
       "      <td>57</td>\n",
       "    </tr>\n",
       "    <tr>\n",
       "      <th>35</th>\n",
       "      <td>36</td>\n",
       "      <td>79</td>\n",
       "      <td>89</td>\n",
       "    </tr>\n",
       "    <tr>\n",
       "      <th>36</th>\n",
       "      <td>37</td>\n",
       "      <td>56</td>\n",
       "      <td>83</td>\n",
       "    </tr>\n",
       "    <tr>\n",
       "      <th>37</th>\n",
       "      <td>38</td>\n",
       "      <td>62</td>\n",
       "      <td>69</td>\n",
       "    </tr>\n",
       "    <tr>\n",
       "      <th>38</th>\n",
       "      <td>39</td>\n",
       "      <td>62</td>\n",
       "      <td>86</td>\n",
       "    </tr>\n",
       "    <tr>\n",
       "      <th>39</th>\n",
       "      <td>40</td>\n",
       "      <td>55</td>\n",
       "      <td>81</td>\n",
       "    </tr>\n",
       "    <tr>\n",
       "      <th>40</th>\n",
       "      <td>41</td>\n",
       "      <td>63</td>\n",
       "      <td>81</td>\n",
       "    </tr>\n",
       "    <tr>\n",
       "      <th>41</th>\n",
       "      <td>42</td>\n",
       "      <td>57</td>\n",
       "      <td>80</td>\n",
       "    </tr>\n",
       "    <tr>\n",
       "      <th>42</th>\n",
       "      <td>43</td>\n",
       "      <td>57</td>\n",
       "      <td>79</td>\n",
       "    </tr>\n",
       "    <tr>\n",
       "      <th>43</th>\n",
       "      <td>44</td>\n",
       "      <td>67</td>\n",
       "      <td>87</td>\n",
       "    </tr>\n",
       "    <tr>\n",
       "      <th>44</th>\n",
       "      <td>45</td>\n",
       "      <td>55</td>\n",
       "      <td>84</td>\n",
       "    </tr>\n",
       "    <tr>\n",
       "      <th>45</th>\n",
       "      <td>46</td>\n",
       "      <td>45</td>\n",
       "      <td>71</td>\n",
       "    </tr>\n",
       "    <tr>\n",
       "      <th>46</th>\n",
       "      <td>47</td>\n",
       "      <td>66</td>\n",
       "      <td>80</td>\n",
       "    </tr>\n",
       "    <tr>\n",
       "      <th>47</th>\n",
       "      <td>48</td>\n",
       "      <td>55</td>\n",
       "      <td>77</td>\n",
       "    </tr>\n",
       "    <tr>\n",
       "      <th>48</th>\n",
       "      <td>49</td>\n",
       "      <td>64</td>\n",
       "      <td>83</td>\n",
       "    </tr>\n",
       "    <tr>\n",
       "      <th>49</th>\n",
       "      <td>50</td>\n",
       "      <td>66</td>\n",
       "      <td>88</td>\n",
       "    </tr>\n",
       "  </tbody>\n",
       "</table>\n",
       "</div>"
      ],
      "text/plain": [
       "    student number  english  mathematics\n",
       "0                1       42           65\n",
       "1                2       69           80\n",
       "2                3       56           63\n",
       "3                4       41           63\n",
       "4                5       57           76\n",
       "5                6       48           60\n",
       "6                7       65           81\n",
       "7                8       49           66\n",
       "8                9       65           78\n",
       "9               10       58           82\n",
       "10              11       70           94\n",
       "11              12       47           75\n",
       "12              13       51           70\n",
       "13              14       64           77\n",
       "14              15       62           84\n",
       "15              16       70           84\n",
       "16              17       71           82\n",
       "17              18       68           85\n",
       "18              19       73           90\n",
       "19              20       37           70\n",
       "20              21       65           78\n",
       "21              22       65           93\n",
       "22              23       61           77\n",
       "23              24       52           88\n",
       "24              25       57           82\n",
       "25              26       57           76\n",
       "26              27       75           87\n",
       "27              28       61           84\n",
       "28              29       47           77\n",
       "29              30       54           82\n",
       "30              31       66           91\n",
       "31              32       54           75\n",
       "32              33       54           76\n",
       "33              34       42           78\n",
       "34              35       37           57\n",
       "35              36       79           89\n",
       "36              37       56           83\n",
       "37              38       62           69\n",
       "38              39       62           86\n",
       "39              40       55           81\n",
       "40              41       63           81\n",
       "41              42       57           80\n",
       "42              43       57           79\n",
       "43              44       67           87\n",
       "44              45       55           84\n",
       "45              46       45           71\n",
       "46              47       66           80\n",
       "47              48       55           77\n",
       "48              49       64           83\n",
       "49              50       66           88"
      ]
     },
     "execution_count": 69,
     "metadata": {},
     "output_type": "execute_result"
    }
   ],
   "source": [
    "import pandas as pd\n",
    "import numpy as np\n",
    "\n",
    "df = pd.read_csv('ch2_scores_em.csv')\n",
    "df"
   ]
  },
  {
   "cell_type": "code",
   "execution_count": 70,
   "id": "42f0592e",
   "metadata": {},
   "outputs": [],
   "source": [
    "df_1 = df['english']\n",
    "df_2 = df['mathematics']"
   ]
  },
  {
   "cell_type": "markdown",
   "id": "426c83ed",
   "metadata": {},
   "source": [
    "<b>1. 표본분산</b>\n",
    "<img src = \"https://img1.daumcdn.net/thumb/R1280x0/?scode=mtistory2&fname=https%3A%2F%2Fblog.kakaocdn.net%2Fdn%2Fd9lrbo%2FbtqDnwhttDQ%2FGpyLIK1ENoaLAR4rgEVuuK%2Fimg.png\">\n",
    "\n",
    "<b>2. 불편분산(비편향분산)</b>\n",
    "<img src = \"https://img1.daumcdn.net/thumb/R1280x0/?scode=mtistory2&fname=https%3A%2F%2Fblog.kakaocdn.net%2Fdn%2FRFAbv%2FbtqDmWAM3DP%2Fq2A9mSkKqBm6rZ17xPT4Fk%2Fimg.png\">\n",
    "\n",
    "참고:https://1992jhlee.tistory.com/19"
   ]
  },
  {
   "cell_type": "code",
   "execution_count": 71,
   "id": "d3e3de94",
   "metadata": {},
   "outputs": [
    {
     "name": "stdout",
     "output_type": "stream",
     "text": [
      "94.11560000000001\n",
      "69.38559999999995\n"
     ]
    }
   ],
   "source": [
    "# 표본분산 s^2 = 1/n* Σ(xi-xm)^2\n",
    "\n",
    "print(df_1.var(ddof = 0))   # pandas var함수의 default는 불편분산임. 따라서, ddof = 0으로 표본분산을 계산하도록 함\n",
    "print(df_2.var(ddof = 0))   "
   ]
  },
  {
   "cell_type": "code",
   "execution_count": 72,
   "id": "6a4cd022",
   "metadata": {
    "scrolled": true
   },
   "outputs": [
    {
     "name": "stdout",
     "output_type": "stream",
     "text": [
      "94.1156\n",
      "69.38560000000001\n"
     ]
    }
   ],
   "source": [
    "print((1/(len(df_1)))*((df_1 - df_1.mean())*(df_1 - df_1.mean())).sum())\n",
    "print((1/(len(df_2)))*((df_2 - df_2.mean())*(df_2 - df_2.mean())).sum())"
   ]
  },
  {
   "cell_type": "code",
   "execution_count": 73,
   "id": "a5985257",
   "metadata": {
    "scrolled": false
   },
   "outputs": [
    {
     "name": "stdout",
     "output_type": "stream",
     "text": [
      "94.11560000000001\n",
      "69.38559999999995\n"
     ]
    }
   ],
   "source": [
    "print(np.var(df_1, ddof = 0))\n",
    "print(np.var(df_2, ddof = 0))"
   ]
  },
  {
   "cell_type": "code",
   "execution_count": 74,
   "id": "99748c52",
   "metadata": {},
   "outputs": [
    {
     "name": "stdout",
     "output_type": "stream",
     "text": [
      "96.03632653061226\n",
      "70.80163265306118\n"
     ]
    }
   ],
   "source": [
    "# 불편분산: 1/(n-1)* Σ(xi-xm)^2 \n",
    "## 표본 분산은 표본에서 계산된 분산\n",
    "## 모집단에 비해 표본수가 적을 때는 표본 분산이 모분산보다 작아짐\n",
    "## 즉, 표본 분산이 모집단 분산에 맞춰서 동일하게 보정 한 것을 비편향 분산(불편분산)이라 함\n",
    "\n",
    "print(df_1.var(ddof = 1))   # pandas var함수의 default는 불편분산\n",
    "print(df_2.var(ddof = 1))"
   ]
  },
  {
   "cell_type": "code",
   "execution_count": 75,
   "id": "991f201c",
   "metadata": {},
   "outputs": [
    {
     "name": "stdout",
     "output_type": "stream",
     "text": [
      "96.03632653061223\n",
      "70.80163265306122\n"
     ]
    }
   ],
   "source": [
    "print((1/(len(df_1)-1))*((df_1 - df_1.mean())*(df_1 - df_1.mean())).sum())\n",
    "print((1/(len(df_2)-1))*((df_2 - df_2.mean())*(df_2 - df_2.mean())).sum())"
   ]
  },
  {
   "cell_type": "code",
   "execution_count": 76,
   "id": "a9b90e7d",
   "metadata": {},
   "outputs": [
    {
     "name": "stdout",
     "output_type": "stream",
     "text": [
      "96.03632653061226\n",
      "70.80163265306118\n"
     ]
    }
   ],
   "source": [
    "print(np.var(df_1, ddof = 1))\n",
    "print(np.var(df_2, ddof = 1))"
   ]
  },
  {
   "cell_type": "markdown",
   "id": "add3ed26",
   "metadata": {},
   "source": [
    "### 데이터의 정규화"
   ]
  },
  {
   "cell_type": "code",
   "execution_count": 77,
   "id": "7ccdf68c",
   "metadata": {},
   "outputs": [
    {
     "data": {
      "text/html": [
       "<div>\n",
       "<style scoped>\n",
       "    .dataframe tbody tr th:only-of-type {\n",
       "        vertical-align: middle;\n",
       "    }\n",
       "\n",
       "    .dataframe tbody tr th {\n",
       "        vertical-align: top;\n",
       "    }\n",
       "\n",
       "    .dataframe thead th {\n",
       "        text-align: right;\n",
       "    }\n",
       "</style>\n",
       "<table border=\"1\" class=\"dataframe\">\n",
       "  <thead>\n",
       "    <tr style=\"text-align: right;\">\n",
       "      <th></th>\n",
       "      <th>student number</th>\n",
       "      <th>english</th>\n",
       "      <th>mathematics</th>\n",
       "    </tr>\n",
       "  </thead>\n",
       "  <tbody>\n",
       "    <tr>\n",
       "      <th>0</th>\n",
       "      <td>1</td>\n",
       "      <td>42</td>\n",
       "      <td>65</td>\n",
       "    </tr>\n",
       "    <tr>\n",
       "      <th>1</th>\n",
       "      <td>2</td>\n",
       "      <td>69</td>\n",
       "      <td>80</td>\n",
       "    </tr>\n",
       "    <tr>\n",
       "      <th>2</th>\n",
       "      <td>3</td>\n",
       "      <td>56</td>\n",
       "      <td>63</td>\n",
       "    </tr>\n",
       "    <tr>\n",
       "      <th>3</th>\n",
       "      <td>4</td>\n",
       "      <td>41</td>\n",
       "      <td>63</td>\n",
       "    </tr>\n",
       "    <tr>\n",
       "      <th>4</th>\n",
       "      <td>5</td>\n",
       "      <td>57</td>\n",
       "      <td>76</td>\n",
       "    </tr>\n",
       "  </tbody>\n",
       "</table>\n",
       "</div>"
      ],
      "text/plain": [
       "   student number  english  mathematics\n",
       "0               1       42           65\n",
       "1               2       69           80\n",
       "2               3       56           63\n",
       "3               4       41           63\n",
       "4               5       57           76"
      ]
     },
     "execution_count": 77,
     "metadata": {},
     "output_type": "execute_result"
    }
   ],
   "source": [
    "import pandas as pd\n",
    "import numpy as np\n",
    "\n",
    "df = pd.read_csv('ch2_scores_em.csv')\n",
    "df.head()"
   ]
  },
  {
   "cell_type": "code",
   "execution_count": 78,
   "id": "7c5e9949",
   "metadata": {},
   "outputs": [
    {
     "data": {
      "text/plain": [
       "array([42, 69, 56, 41, 57, 48, 65, 49, 65, 58], dtype=int64)"
      ]
     },
     "execution_count": 78,
     "metadata": {},
     "output_type": "execute_result"
    }
   ],
   "source": [
    "scores = np.array(df['english'])[:10]\n",
    "scores"
   ]
  },
  {
   "cell_type": "code",
   "execution_count": 79,
   "id": "0a0a182f",
   "metadata": {},
   "outputs": [
    {
     "data": {
      "text/html": [
       "<div>\n",
       "<style scoped>\n",
       "    .dataframe tbody tr th:only-of-type {\n",
       "        vertical-align: middle;\n",
       "    }\n",
       "\n",
       "    .dataframe tbody tr th {\n",
       "        vertical-align: top;\n",
       "    }\n",
       "\n",
       "    .dataframe thead th {\n",
       "        text-align: right;\n",
       "    }\n",
       "</style>\n",
       "<table border=\"1\" class=\"dataframe\">\n",
       "  <thead>\n",
       "    <tr style=\"text-align: right;\">\n",
       "      <th></th>\n",
       "      <th>score</th>\n",
       "    </tr>\n",
       "    <tr>\n",
       "      <th>student</th>\n",
       "      <th></th>\n",
       "    </tr>\n",
       "  </thead>\n",
       "  <tbody>\n",
       "    <tr>\n",
       "      <th>A</th>\n",
       "      <td>42</td>\n",
       "    </tr>\n",
       "    <tr>\n",
       "      <th>B</th>\n",
       "      <td>69</td>\n",
       "    </tr>\n",
       "    <tr>\n",
       "      <th>C</th>\n",
       "      <td>56</td>\n",
       "    </tr>\n",
       "    <tr>\n",
       "      <th>D</th>\n",
       "      <td>41</td>\n",
       "    </tr>\n",
       "    <tr>\n",
       "      <th>E</th>\n",
       "      <td>57</td>\n",
       "    </tr>\n",
       "    <tr>\n",
       "      <th>F</th>\n",
       "      <td>48</td>\n",
       "    </tr>\n",
       "    <tr>\n",
       "      <th>G</th>\n",
       "      <td>65</td>\n",
       "    </tr>\n",
       "    <tr>\n",
       "      <th>H</th>\n",
       "      <td>49</td>\n",
       "    </tr>\n",
       "    <tr>\n",
       "      <th>I</th>\n",
       "      <td>65</td>\n",
       "    </tr>\n",
       "    <tr>\n",
       "      <th>J</th>\n",
       "      <td>58</td>\n",
       "    </tr>\n",
       "  </tbody>\n",
       "</table>\n",
       "</div>"
      ],
      "text/plain": [
       "         score\n",
       "student       \n",
       "A           42\n",
       "B           69\n",
       "C           56\n",
       "D           41\n",
       "E           57\n",
       "F           48\n",
       "G           65\n",
       "H           49\n",
       "I           65\n",
       "J           58"
      ]
     },
     "execution_count": 79,
     "metadata": {},
     "output_type": "execute_result"
    }
   ],
   "source": [
    "scores_df = pd.DataFrame({'score':scores},\n",
    "                          index = pd.Index([i for i in 'ABCDEFGHIJ'], \n",
    "                                           name = 'student'))\n",
    "scores_df"
   ]
  },
  {
   "cell_type": "markdown",
   "id": "9469cced",
   "metadata": {},
   "source": [
    "#### 표준화\n",
    "- 데이터를 비교가 용이하도록 통일된 지표로 변환하는 것\n",
    "- z = (rawdata - 평균)/ 표준편차 ~ N(0,1)"
   ]
  },
  {
   "cell_type": "code",
   "execution_count": 80,
   "id": "896d0a01",
   "metadata": {},
   "outputs": [
    {
     "data": {
      "text/plain": [
       "array([-1.40182605,  1.50965882,  0.10783277, -1.50965882,  0.21566555,\n",
       "       -0.75482941,  1.07832773, -0.64699664,  1.07832773,  0.32349832])"
      ]
     },
     "execution_count": 80,
     "metadata": {},
     "output_type": "execute_result"
    }
   ],
   "source": [
    "#표준화 변량, z-score 구하기\n",
    "\n",
    "z = (scores - np.mean(scores)) / np.std(scores)\n",
    "z"
   ]
  },
  {
   "cell_type": "code",
   "execution_count": 81,
   "id": "b80bbfa2",
   "metadata": {},
   "outputs": [
    {
     "data": {
      "text/plain": [
       "(-1.6653345369377347e-17, 0.9999999999999999)"
      ]
     },
     "execution_count": 81,
     "metadata": {},
     "output_type": "execute_result"
    }
   ],
   "source": [
    "# 표준화 변량의 평균 및 표준편차 구하기\n",
    "\n",
    "np.mean(z), np.std(z)     "
   ]
  },
  {
   "cell_type": "code",
   "execution_count": 82,
   "id": "967418a9",
   "metadata": {},
   "outputs": [
    {
     "data": {
      "text/plain": [
       "(-1.6653345369377347e-17, 1.0540925533894596)"
      ]
     },
     "execution_count": 82,
     "metadata": {},
     "output_type": "execute_result"
    }
   ],
   "source": [
    "# 표준화 변량의 평균 및 불편표준편차 구하기\n",
    "\n",
    "np.mean(z), np.std(z, ddof = 1)"
   ]
  },
  {
   "cell_type": "markdown",
   "id": "9470a80e",
   "metadata": {},
   "source": [
    "#### 편찻값\n",
    "- 평균이 50, 표준편차가 10이 되도록 정규화한 값\n",
    "- z = 50 + 10*(rawdata - 평균)/표준편차 ~ N(50,10^2)"
   ]
  },
  {
   "cell_type": "code",
   "execution_count": 83,
   "id": "21bd01ca",
   "metadata": {},
   "outputs": [
    {
     "data": {
      "text/plain": [
       "array([35.98173948, 65.09658825, 51.07832773, 34.90341175, 52.15665546,\n",
       "       42.45170588, 60.78327732, 43.53003361, 60.78327732, 53.2349832 ])"
      ]
     },
     "execution_count": 83,
     "metadata": {},
     "output_type": "execute_result"
    }
   ],
   "source": [
    "z2 = 50 + 10*z\n",
    "z2"
   ]
  },
  {
   "cell_type": "code",
   "execution_count": 84,
   "id": "13045426",
   "metadata": {},
   "outputs": [
    {
     "data": {
      "text/plain": [
       "(50.0, 10.000000000000002)"
      ]
     },
     "execution_count": 84,
     "metadata": {},
     "output_type": "execute_result"
    }
   ],
   "source": [
    "# 표준화 변량의 평균 및 표준편차 구하기\n",
    "\n",
    "np.mean(z2), np.std(z2)     "
   ]
  },
  {
   "cell_type": "code",
   "execution_count": 85,
   "id": "17125cfb",
   "metadata": {},
   "outputs": [
    {
     "data": {
      "text/plain": [
       "(50.0, 10.5409255338946)"
      ]
     },
     "execution_count": 85,
     "metadata": {},
     "output_type": "execute_result"
    }
   ],
   "source": [
    "# 표준화 변량의 평균 및 불편표준편차 구하기\n",
    "\n",
    "np.mean(z2), np.std(z2, ddof = 1)     "
   ]
  },
  {
   "cell_type": "markdown",
   "id": "6638a901",
   "metadata": {},
   "source": [
    "### 1차원 데이터의 시각화"
   ]
  },
  {
   "cell_type": "markdown",
   "id": "7564a626",
   "metadata": {},
   "source": [
    "#### 도수분포표\n",
    "- 분할된 구간과 데이터의 개수를 표로 정리한 것\n",
    "- np.histogram(bins = n, range = (min,max)) 함수 사용\n",
    "\n",
    "\n",
    "- 계급: 구간\n",
    "- 계급값: 계급을 대표하는 값으로, 구간 내 중앙값을 말함\n",
    "- 상대도수: 전체 도수에서 해당 계급의 데이터가 차지하는 비율\n",
    "- 누적상대도수: 해당 계급까지의 상대도수의 합 \n",
    "                np.cumsum 함수 사용"
   ]
  },
  {
   "cell_type": "markdown",
   "id": "fe68cc72",
   "metadata": {},
   "source": [
    "##### 영어성적을 가지고 도수분포표 작성하기"
   ]
  },
  {
   "cell_type": "code",
   "execution_count": 86,
   "id": "927e5e0f",
   "metadata": {},
   "outputs": [
    {
     "data": {
      "text/plain": [
       "(array([ 0,  0,  0,  2,  8, 16, 18,  6,  0,  0], dtype=int64),\n",
       " array([  0.,  10.,  20.,  30.,  40.,  50.,  60.,  70.,  80.,  90., 100.]))"
      ]
     },
     "execution_count": 86,
     "metadata": {},
     "output_type": "execute_result"
    }
   ],
   "source": [
    "# step = 구간, freq = 데이터 개수\n",
    "\n",
    "freq, step = np.histogram(df['english'], bins = 10, range = (0 ,100))\n",
    "freq, step"
   ]
  },
  {
   "cell_type": "code",
   "execution_count": 87,
   "id": "addc64e5",
   "metadata": {},
   "outputs": [
    {
     "data": {
      "text/html": [
       "<div>\n",
       "<style scoped>\n",
       "    .dataframe tbody tr th:only-of-type {\n",
       "        vertical-align: middle;\n",
       "    }\n",
       "\n",
       "    .dataframe tbody tr th {\n",
       "        vertical-align: top;\n",
       "    }\n",
       "\n",
       "    .dataframe thead th {\n",
       "        text-align: right;\n",
       "    }\n",
       "</style>\n",
       "<table border=\"1\" class=\"dataframe\">\n",
       "  <thead>\n",
       "    <tr style=\"text-align: right;\">\n",
       "      <th></th>\n",
       "      <th>frequency</th>\n",
       "    </tr>\n",
       "    <tr>\n",
       "      <th>class</th>\n",
       "      <th></th>\n",
       "    </tr>\n",
       "  </thead>\n",
       "  <tbody>\n",
       "    <tr>\n",
       "      <th>0 ~ 10</th>\n",
       "      <td>0</td>\n",
       "    </tr>\n",
       "    <tr>\n",
       "      <th>10 ~ 20</th>\n",
       "      <td>0</td>\n",
       "    </tr>\n",
       "    <tr>\n",
       "      <th>20 ~ 30</th>\n",
       "      <td>0</td>\n",
       "    </tr>\n",
       "    <tr>\n",
       "      <th>30 ~ 40</th>\n",
       "      <td>2</td>\n",
       "    </tr>\n",
       "    <tr>\n",
       "      <th>40 ~ 50</th>\n",
       "      <td>8</td>\n",
       "    </tr>\n",
       "    <tr>\n",
       "      <th>50 ~ 60</th>\n",
       "      <td>16</td>\n",
       "    </tr>\n",
       "    <tr>\n",
       "      <th>60 ~ 70</th>\n",
       "      <td>18</td>\n",
       "    </tr>\n",
       "    <tr>\n",
       "      <th>70 ~ 80</th>\n",
       "      <td>6</td>\n",
       "    </tr>\n",
       "    <tr>\n",
       "      <th>80 ~ 90</th>\n",
       "      <td>0</td>\n",
       "    </tr>\n",
       "    <tr>\n",
       "      <th>90 ~ 100</th>\n",
       "      <td>0</td>\n",
       "    </tr>\n",
       "  </tbody>\n",
       "</table>\n",
       "</div>"
      ],
      "text/plain": [
       "          frequency\n",
       "class              \n",
       "0 ~ 10            0\n",
       "10 ~ 20           0\n",
       "20 ~ 30           0\n",
       "30 ~ 40           2\n",
       "40 ~ 50           8\n",
       "50 ~ 60          16\n",
       "60 ~ 70          18\n",
       "70 ~ 80           6\n",
       "80 ~ 90           0\n",
       "90 ~ 100          0"
      ]
     },
     "execution_count": 87,
     "metadata": {},
     "output_type": "execute_result"
    }
   ],
   "source": [
    "# 도수분포표 데이터프레임화\n",
    "\n",
    "freq_class = [f'{int(step[i])} ~ {int(step[i+1])}' for i in range(10)]\n",
    "\n",
    "freq_dist_df = pd.DataFrame({'frequency': freq,},\n",
    "                             index = pd.Index(freq_class, name = 'class'))\n",
    "freq_dist_df"
   ]
  },
  {
   "cell_type": "code",
   "execution_count": 88,
   "id": "fba75604",
   "metadata": {},
   "outputs": [
    {
     "data": {
      "text/html": [
       "<div>\n",
       "<style scoped>\n",
       "    .dataframe tbody tr th:only-of-type {\n",
       "        vertical-align: middle;\n",
       "    }\n",
       "\n",
       "    .dataframe tbody tr th {\n",
       "        vertical-align: top;\n",
       "    }\n",
       "\n",
       "    .dataframe thead th {\n",
       "        text-align: right;\n",
       "    }\n",
       "</style>\n",
       "<table border=\"1\" class=\"dataframe\">\n",
       "  <thead>\n",
       "    <tr style=\"text-align: right;\">\n",
       "      <th></th>\n",
       "      <th>frequency</th>\n",
       "      <th>class_value</th>\n",
       "    </tr>\n",
       "    <tr>\n",
       "      <th>class</th>\n",
       "      <th></th>\n",
       "      <th></th>\n",
       "    </tr>\n",
       "  </thead>\n",
       "  <tbody>\n",
       "    <tr>\n",
       "      <th>0 ~ 10</th>\n",
       "      <td>0</td>\n",
       "      <td>5</td>\n",
       "    </tr>\n",
       "    <tr>\n",
       "      <th>10 ~ 20</th>\n",
       "      <td>0</td>\n",
       "      <td>15</td>\n",
       "    </tr>\n",
       "    <tr>\n",
       "      <th>20 ~ 30</th>\n",
       "      <td>0</td>\n",
       "      <td>25</td>\n",
       "    </tr>\n",
       "    <tr>\n",
       "      <th>30 ~ 40</th>\n",
       "      <td>2</td>\n",
       "      <td>35</td>\n",
       "    </tr>\n",
       "    <tr>\n",
       "      <th>40 ~ 50</th>\n",
       "      <td>8</td>\n",
       "      <td>45</td>\n",
       "    </tr>\n",
       "    <tr>\n",
       "      <th>50 ~ 60</th>\n",
       "      <td>16</td>\n",
       "      <td>55</td>\n",
       "    </tr>\n",
       "    <tr>\n",
       "      <th>60 ~ 70</th>\n",
       "      <td>18</td>\n",
       "      <td>65</td>\n",
       "    </tr>\n",
       "    <tr>\n",
       "      <th>70 ~ 80</th>\n",
       "      <td>6</td>\n",
       "      <td>75</td>\n",
       "    </tr>\n",
       "    <tr>\n",
       "      <th>80 ~ 90</th>\n",
       "      <td>0</td>\n",
       "      <td>85</td>\n",
       "    </tr>\n",
       "    <tr>\n",
       "      <th>90 ~ 100</th>\n",
       "      <td>0</td>\n",
       "      <td>95</td>\n",
       "    </tr>\n",
       "  </tbody>\n",
       "</table>\n",
       "</div>"
      ],
      "text/plain": [
       "          frequency  class_value\n",
       "class                           \n",
       "0 ~ 10            0            5\n",
       "10 ~ 20           0           15\n",
       "20 ~ 30           0           25\n",
       "30 ~ 40           2           35\n",
       "40 ~ 50           8           45\n",
       "50 ~ 60          16           55\n",
       "60 ~ 70          18           65\n",
       "70 ~ 80           6           75\n",
       "80 ~ 90           0           85\n",
       "90 ~ 100          0           95"
      ]
     },
     "execution_count": 88,
     "metadata": {},
     "output_type": "execute_result"
    }
   ],
   "source": [
    "#계급값\n",
    "\n",
    "class_value = []\n",
    "for i in range(10):\n",
    "    class_value.append(int((step[i+1]-step[i])/2+step[i]))\n",
    "\n",
    "freq_dist_df['class_value'] = class_value\n",
    "freq_dist_df"
   ]
  },
  {
   "cell_type": "code",
   "execution_count": 89,
   "id": "59896156",
   "metadata": {},
   "outputs": [
    {
     "data": {
      "text/html": [
       "<div>\n",
       "<style scoped>\n",
       "    .dataframe tbody tr th:only-of-type {\n",
       "        vertical-align: middle;\n",
       "    }\n",
       "\n",
       "    .dataframe tbody tr th {\n",
       "        vertical-align: top;\n",
       "    }\n",
       "\n",
       "    .dataframe thead th {\n",
       "        text-align: right;\n",
       "    }\n",
       "</style>\n",
       "<table border=\"1\" class=\"dataframe\">\n",
       "  <thead>\n",
       "    <tr style=\"text-align: right;\">\n",
       "      <th></th>\n",
       "      <th>frequency</th>\n",
       "      <th>class_value</th>\n",
       "      <th>relative frequency</th>\n",
       "    </tr>\n",
       "    <tr>\n",
       "      <th>class</th>\n",
       "      <th></th>\n",
       "      <th></th>\n",
       "      <th></th>\n",
       "    </tr>\n",
       "  </thead>\n",
       "  <tbody>\n",
       "    <tr>\n",
       "      <th>0 ~ 10</th>\n",
       "      <td>0</td>\n",
       "      <td>5</td>\n",
       "      <td>0.00</td>\n",
       "    </tr>\n",
       "    <tr>\n",
       "      <th>10 ~ 20</th>\n",
       "      <td>0</td>\n",
       "      <td>15</td>\n",
       "      <td>0.00</td>\n",
       "    </tr>\n",
       "    <tr>\n",
       "      <th>20 ~ 30</th>\n",
       "      <td>0</td>\n",
       "      <td>25</td>\n",
       "      <td>0.00</td>\n",
       "    </tr>\n",
       "    <tr>\n",
       "      <th>30 ~ 40</th>\n",
       "      <td>2</td>\n",
       "      <td>35</td>\n",
       "      <td>0.04</td>\n",
       "    </tr>\n",
       "    <tr>\n",
       "      <th>40 ~ 50</th>\n",
       "      <td>8</td>\n",
       "      <td>45</td>\n",
       "      <td>0.16</td>\n",
       "    </tr>\n",
       "    <tr>\n",
       "      <th>50 ~ 60</th>\n",
       "      <td>16</td>\n",
       "      <td>55</td>\n",
       "      <td>0.32</td>\n",
       "    </tr>\n",
       "    <tr>\n",
       "      <th>60 ~ 70</th>\n",
       "      <td>18</td>\n",
       "      <td>65</td>\n",
       "      <td>0.36</td>\n",
       "    </tr>\n",
       "    <tr>\n",
       "      <th>70 ~ 80</th>\n",
       "      <td>6</td>\n",
       "      <td>75</td>\n",
       "      <td>0.12</td>\n",
       "    </tr>\n",
       "    <tr>\n",
       "      <th>80 ~ 90</th>\n",
       "      <td>0</td>\n",
       "      <td>85</td>\n",
       "      <td>0.00</td>\n",
       "    </tr>\n",
       "    <tr>\n",
       "      <th>90 ~ 100</th>\n",
       "      <td>0</td>\n",
       "      <td>95</td>\n",
       "      <td>0.00</td>\n",
       "    </tr>\n",
       "  </tbody>\n",
       "</table>\n",
       "</div>"
      ],
      "text/plain": [
       "          frequency  class_value  relative frequency\n",
       "class                                               \n",
       "0 ~ 10            0            5                0.00\n",
       "10 ~ 20           0           15                0.00\n",
       "20 ~ 30           0           25                0.00\n",
       "30 ~ 40           2           35                0.04\n",
       "40 ~ 50           8           45                0.16\n",
       "50 ~ 60          16           55                0.32\n",
       "60 ~ 70          18           65                0.36\n",
       "70 ~ 80           6           75                0.12\n",
       "80 ~ 90           0           85                0.00\n",
       "90 ~ 100          0           95                0.00"
      ]
     },
     "execution_count": 89,
     "metadata": {},
     "output_type": "execute_result"
    }
   ],
   "source": [
    "# 상대도수\n",
    "\n",
    "relative_freq = freq/freq.sum()\n",
    "freq_dist_df['relative frequency'] = relative_freq\n",
    "freq_dist_df"
   ]
  },
  {
   "cell_type": "code",
   "execution_count": 121,
   "id": "ce3ef04f",
   "metadata": {},
   "outputs": [
    {
     "data": {
      "text/html": [
       "<div>\n",
       "<style scoped>\n",
       "    .dataframe tbody tr th:only-of-type {\n",
       "        vertical-align: middle;\n",
       "    }\n",
       "\n",
       "    .dataframe tbody tr th {\n",
       "        vertical-align: top;\n",
       "    }\n",
       "\n",
       "    .dataframe thead th {\n",
       "        text-align: right;\n",
       "    }\n",
       "</style>\n",
       "<table border=\"1\" class=\"dataframe\">\n",
       "  <thead>\n",
       "    <tr style=\"text-align: right;\">\n",
       "      <th></th>\n",
       "      <th>frequency</th>\n",
       "      <th>class_value</th>\n",
       "      <th>relative frequency</th>\n",
       "      <th>cumulative relative freequency</th>\n",
       "    </tr>\n",
       "    <tr>\n",
       "      <th>class</th>\n",
       "      <th></th>\n",
       "      <th></th>\n",
       "      <th></th>\n",
       "      <th></th>\n",
       "    </tr>\n",
       "  </thead>\n",
       "  <tbody>\n",
       "    <tr>\n",
       "      <th>0 ~ 10</th>\n",
       "      <td>0</td>\n",
       "      <td>5</td>\n",
       "      <td>0.00</td>\n",
       "      <td>0.00</td>\n",
       "    </tr>\n",
       "    <tr>\n",
       "      <th>10 ~ 20</th>\n",
       "      <td>0</td>\n",
       "      <td>15</td>\n",
       "      <td>0.00</td>\n",
       "      <td>0.00</td>\n",
       "    </tr>\n",
       "    <tr>\n",
       "      <th>20 ~ 30</th>\n",
       "      <td>0</td>\n",
       "      <td>25</td>\n",
       "      <td>0.00</td>\n",
       "      <td>0.00</td>\n",
       "    </tr>\n",
       "    <tr>\n",
       "      <th>30 ~ 40</th>\n",
       "      <td>2</td>\n",
       "      <td>35</td>\n",
       "      <td>0.04</td>\n",
       "      <td>0.04</td>\n",
       "    </tr>\n",
       "    <tr>\n",
       "      <th>40 ~ 50</th>\n",
       "      <td>8</td>\n",
       "      <td>45</td>\n",
       "      <td>0.16</td>\n",
       "      <td>0.20</td>\n",
       "    </tr>\n",
       "    <tr>\n",
       "      <th>50 ~ 60</th>\n",
       "      <td>16</td>\n",
       "      <td>55</td>\n",
       "      <td>0.32</td>\n",
       "      <td>0.52</td>\n",
       "    </tr>\n",
       "    <tr>\n",
       "      <th>60 ~ 70</th>\n",
       "      <td>18</td>\n",
       "      <td>65</td>\n",
       "      <td>0.36</td>\n",
       "      <td>0.88</td>\n",
       "    </tr>\n",
       "    <tr>\n",
       "      <th>70 ~ 80</th>\n",
       "      <td>6</td>\n",
       "      <td>75</td>\n",
       "      <td>0.12</td>\n",
       "      <td>1.00</td>\n",
       "    </tr>\n",
       "    <tr>\n",
       "      <th>80 ~ 90</th>\n",
       "      <td>0</td>\n",
       "      <td>85</td>\n",
       "      <td>0.00</td>\n",
       "      <td>1.00</td>\n",
       "    </tr>\n",
       "    <tr>\n",
       "      <th>90 ~ 100</th>\n",
       "      <td>0</td>\n",
       "      <td>95</td>\n",
       "      <td>0.00</td>\n",
       "      <td>1.00</td>\n",
       "    </tr>\n",
       "  </tbody>\n",
       "</table>\n",
       "</div>"
      ],
      "text/plain": [
       "          frequency  class_value  relative frequency  \\\n",
       "class                                                  \n",
       "0 ~ 10            0            5                0.00   \n",
       "10 ~ 20           0           15                0.00   \n",
       "20 ~ 30           0           25                0.00   \n",
       "30 ~ 40           2           35                0.04   \n",
       "40 ~ 50           8           45                0.16   \n",
       "50 ~ 60          16           55                0.32   \n",
       "60 ~ 70          18           65                0.36   \n",
       "70 ~ 80           6           75                0.12   \n",
       "80 ~ 90           0           85                0.00   \n",
       "90 ~ 100          0           95                0.00   \n",
       "\n",
       "          cumulative relative freequency  \n",
       "class                                     \n",
       "0 ~ 10                              0.00  \n",
       "10 ~ 20                             0.00  \n",
       "20 ~ 30                             0.00  \n",
       "30 ~ 40                             0.04  \n",
       "40 ~ 50                             0.20  \n",
       "50 ~ 60                             0.52  \n",
       "60 ~ 70                             0.88  \n",
       "70 ~ 80                             1.00  \n",
       "80 ~ 90                             1.00  \n",
       "90 ~ 100                            1.00  "
      ]
     },
     "execution_count": 121,
     "metadata": {},
     "output_type": "execute_result"
    }
   ],
   "source": [
    "# 누적 상대도수\n",
    "\n",
    "cumsum_relative_freq = np.cumsum(relative_freq)\n",
    "freq_dist_df['cumulative relative freequency'] = cumsum_relative_freq\n",
    "freq_dist_df"
   ]
  },
  {
   "cell_type": "code",
   "execution_count": 122,
   "id": "7ca92eee",
   "metadata": {},
   "outputs": [
    {
     "data": {
      "text/html": [
       "<div>\n",
       "<style scoped>\n",
       "    .dataframe tbody tr th:only-of-type {\n",
       "        vertical-align: middle;\n",
       "    }\n",
       "\n",
       "    .dataframe tbody tr th {\n",
       "        vertical-align: top;\n",
       "    }\n",
       "\n",
       "    .dataframe thead th {\n",
       "        text-align: right;\n",
       "    }\n",
       "</style>\n",
       "<table border=\"1\" class=\"dataframe\">\n",
       "  <thead>\n",
       "    <tr style=\"text-align: right;\">\n",
       "      <th></th>\n",
       "      <th>class_value</th>\n",
       "      <th>frequency</th>\n",
       "      <th>relative frequency</th>\n",
       "      <th>cumulative relative freequency</th>\n",
       "    </tr>\n",
       "    <tr>\n",
       "      <th>class</th>\n",
       "      <th></th>\n",
       "      <th></th>\n",
       "      <th></th>\n",
       "      <th></th>\n",
       "    </tr>\n",
       "  </thead>\n",
       "  <tbody>\n",
       "    <tr>\n",
       "      <th>0 ~ 10</th>\n",
       "      <td>5</td>\n",
       "      <td>0</td>\n",
       "      <td>0.00</td>\n",
       "      <td>0.00</td>\n",
       "    </tr>\n",
       "    <tr>\n",
       "      <th>10 ~ 20</th>\n",
       "      <td>15</td>\n",
       "      <td>0</td>\n",
       "      <td>0.00</td>\n",
       "      <td>0.00</td>\n",
       "    </tr>\n",
       "    <tr>\n",
       "      <th>20 ~ 30</th>\n",
       "      <td>25</td>\n",
       "      <td>0</td>\n",
       "      <td>0.00</td>\n",
       "      <td>0.00</td>\n",
       "    </tr>\n",
       "    <tr>\n",
       "      <th>30 ~ 40</th>\n",
       "      <td>35</td>\n",
       "      <td>2</td>\n",
       "      <td>0.04</td>\n",
       "      <td>0.04</td>\n",
       "    </tr>\n",
       "    <tr>\n",
       "      <th>40 ~ 50</th>\n",
       "      <td>45</td>\n",
       "      <td>8</td>\n",
       "      <td>0.16</td>\n",
       "      <td>0.20</td>\n",
       "    </tr>\n",
       "    <tr>\n",
       "      <th>50 ~ 60</th>\n",
       "      <td>55</td>\n",
       "      <td>16</td>\n",
       "      <td>0.32</td>\n",
       "      <td>0.52</td>\n",
       "    </tr>\n",
       "    <tr>\n",
       "      <th>60 ~ 70</th>\n",
       "      <td>65</td>\n",
       "      <td>18</td>\n",
       "      <td>0.36</td>\n",
       "      <td>0.88</td>\n",
       "    </tr>\n",
       "    <tr>\n",
       "      <th>70 ~ 80</th>\n",
       "      <td>75</td>\n",
       "      <td>6</td>\n",
       "      <td>0.12</td>\n",
       "      <td>1.00</td>\n",
       "    </tr>\n",
       "    <tr>\n",
       "      <th>80 ~ 90</th>\n",
       "      <td>85</td>\n",
       "      <td>0</td>\n",
       "      <td>0.00</td>\n",
       "      <td>1.00</td>\n",
       "    </tr>\n",
       "    <tr>\n",
       "      <th>90 ~ 100</th>\n",
       "      <td>95</td>\n",
       "      <td>0</td>\n",
       "      <td>0.00</td>\n",
       "      <td>1.00</td>\n",
       "    </tr>\n",
       "  </tbody>\n",
       "</table>\n",
       "</div>"
      ],
      "text/plain": [
       "          class_value  frequency  relative frequency  \\\n",
       "class                                                  \n",
       "0 ~ 10              5          0                0.00   \n",
       "10 ~ 20            15          0                0.00   \n",
       "20 ~ 30            25          0                0.00   \n",
       "30 ~ 40            35          2                0.04   \n",
       "40 ~ 50            45          8                0.16   \n",
       "50 ~ 60            55         16                0.32   \n",
       "60 ~ 70            65         18                0.36   \n",
       "70 ~ 80            75          6                0.12   \n",
       "80 ~ 90            85          0                0.00   \n",
       "90 ~ 100           95          0                0.00   \n",
       "\n",
       "          cumulative relative freequency  \n",
       "class                                     \n",
       "0 ~ 10                              0.00  \n",
       "10 ~ 20                             0.00  \n",
       "20 ~ 30                             0.00  \n",
       "30 ~ 40                             0.04  \n",
       "40 ~ 50                             0.20  \n",
       "50 ~ 60                             0.52  \n",
       "60 ~ 70                             0.88  \n",
       "70 ~ 80                             1.00  \n",
       "80 ~ 90                             1.00  \n",
       "90 ~ 100                            1.00  "
      ]
     },
     "execution_count": 122,
     "metadata": {},
     "output_type": "execute_result"
    }
   ],
   "source": [
    "#최종 데이터프레임\n",
    "\n",
    "freq_dist_df = freq_dist_df[['class_value','frequency','relative frequency', 'cumulative relative freequency']]\n",
    "freq_dist_df"
   ]
  },
  {
   "cell_type": "markdown",
   "id": "6ed40e0b",
   "metadata": {},
   "source": [
    "#### 히스토그램\n",
    "- 도수분포표를 막대그래프로 나타낸 것"
   ]
  },
  {
   "cell_type": "markdown",
   "id": "45502108",
   "metadata": {},
   "source": [
    "#####  영어성적을 가지고 히스토그램 만들기\n",
    "i) 계급폭을 10으로 한 경우"
   ]
  },
  {
   "cell_type": "code",
   "execution_count": 123,
   "id": "5044797b",
   "metadata": {},
   "outputs": [
    {
     "data": {
      "image/png": "[encoded data removed]",
      "text/plain": [
       "<Figure size 720x360 with 1 Axes>"
      ]
     },
     "metadata": {
      "needs_background": "light"
     },
     "output_type": "display_data"
    }
   ],
   "source": [
    "import matplotlib.pyplot as plt\n",
    "\n",
    "# 그래프 사이즈 설정\n",
    "fig = plt.figure(figsize = (10,5))\n",
    "\n",
    "# subplot 개수 설정(행개수, 열개수, 위치)\n",
    "ax = fig.add_subplot(111)\n",
    "\n",
    "# 격자 생성\n",
    "axes = plt.gca()\n",
    "axes.xaxis.grid(True)\n",
    "axes.yaxis.grid(True)\n",
    "\n",
    "# 히스토그램 그리기\n",
    "freq, step, _ = ax.hist(df['english'], bins = 10, range = (0,100), color = 'skyblue')\n",
    "\n",
    "ax.set_xlabel('Score_10*n')\n",
    "ax.set_ylabel('Numbers of Person')\n",
    "ax.set_xticks(np.linspace(0,100,10+1))\n",
    "ax.set_yticks(np.arange(0,max(freq)+1))\n",
    "\n",
    "\n",
    "plt.show()   #이상한 잡다구리한 설명 삭제됨"
   ]
  },
  {
   "cell_type": "markdown",
   "id": "e89bf86d",
   "metadata": {},
   "source": [
    "#####  영어성적을 가지고 히스토그램 만들기\n",
    "i) 계급폭을 4으로 한 경우"
   ]
  },
  {
   "cell_type": "code",
   "execution_count": 124,
   "id": "a28a17c2",
   "metadata": {},
   "outputs": [
    {
     "data": {
      "image/png": "[encoded data removed]",
      "text/plain": [
       "<Figure size 720x360 with 1 Axes>"
      ]
     },
     "metadata": {
      "needs_background": "light"
     },
     "output_type": "display_data"
    }
   ],
   "source": [
    "import matplotlib.pyplot as plt\n",
    "\n",
    "#그래프 사이즈 설정\n",
    "fig = plt.figure(figsize = (10,5))\n",
    "\n",
    "# subplot 개수 설정(행개수, 열개수, 위치)\n",
    "ax = fig.add_subplot(111)\n",
    "\n",
    "# 격자 생성\n",
    "axes = fig.gca()\n",
    "axes.xaxis.grid(True)\n",
    "axes.yaxis.grid(True)\n",
    "\n",
    "# 히스토그램 그리기\n",
    "freq, step, _ = ax.hist(df['english'], bins = 25, range = (0,100), color = 'lightblue')\n",
    "\n",
    "ax.set_xlabel('Score_4*n')\n",
    "ax.set_ylabel('Numbers of Person')\n",
    "ax.set_xticks(np.linspace(0,100,25+1))\n",
    "ax.set_yticks(np.arange(0,max(freq)+1))\n",
    "\n",
    "plt.show()"
   ]
  },
  {
   "cell_type": "markdown",
   "id": "0b458e3f",
   "metadata": {},
   "source": [
    "##### 누적 꺾은선 그래프 그리기"
   ]
  },
  {
   "cell_type": "markdown",
   "id": "91724d00",
   "metadata": {},
   "source": [
    "**Markers**\n",
    "```\n",
    "=============   ===============================\n",
    "character       description\n",
    "=============   ===============================\n",
    "``'.'``         point marker\n",
    "``','``         pixel marker\n",
    "``'o'``         circle marker\n",
    "``'v'``         triangle_down marker\n",
    "``'^'``         triangle_up marker\n",
    "``'<'``         triangle_left marker\n",
    "``'>'``         triangle_right marker\n",
    "``'1'``         tri_down marker\n",
    "``'2'``         tri_up marker\n",
    "``'3'``         tri_left marker\n",
    "``'4'``         tri_right marker\n",
    "``'8'``         octagon marker\n",
    "``'s'``         square marker\n",
    "``'p'``         pentagon marker\n",
    "``'P'``         plus (filled) marker\n",
    "``'*'``         star marker\n",
    "``'h'``         hexagon1 marker\n",
    "``'H'``         hexagon2 marker\n",
    "``'+'``         plus marker\n",
    "``'x'``         x marker\n",
    "``'X'``         x (filled) marker\n",
    "``'D'``         diamond marker\n",
    "``'d'``         thin_diamond marker\n",
    "``'|'``         vline marker\n",
    "``'_'``         hline marker\n",
    "=============   ===============================\n",
    "```"
   ]
  },
  {
   "cell_type": "code",
   "execution_count": 125,
   "id": "de58b02c",
   "metadata": {},
   "outputs": [
    {
     "data": {
      "image/png": "[encoded data removed]",
      "text/plain": [
       "<Figure size 720x360 with 2 Axes>"
      ]
     },
     "metadata": {
      "needs_background": "light"
     },
     "output_type": "display_data"
    }
   ],
   "source": [
    "import matplotlib.pyplot as plt\n",
    "\n",
    "fig = plt.figure(figsize = (10,5))\n",
    "\n",
    "ax1 = fig.add_subplot(111)\n",
    "# ax2: y축의 스케일이 다른 그래프를 ax1과 동일한 영역에 생성\n",
    "ax2 = ax1.twinx()\n",
    "\n",
    "# 상대도수의 히스토그램 그리기\n",
    "## weights: 도수에 가중치를 주는 것\n",
    "## 1로 구성된 원소 배열을 df['english']요소의 개수만큼 만들어주고 가중치로 부여\n",
    "weights = np.ones_like(df['english'])/len(df)\n",
    "rel_freq, step, _ = ax1.hist(df['english'], bins = 25, range = (0,100), weights = weights, color = 'pink')\n",
    "\n",
    "# 누적 상대도수의 꺾은선그래프 그리기\n",
    "## x축값: 계급값\n",
    "class_value = [ (i+(i+4))//2 for i in range(0, 100, 4)]\n",
    "## y축값: 누적상대도수 \n",
    "cum_rel_freq = np.cumsum(rel_freq)\n",
    "\n",
    "ax2.plot(class_value, cum_rel_freq, marker = 's', color = 'red')\n",
    "\n",
    "\n",
    "ax1.set_xlabel('Score')\n",
    "ax1.set_ylabel('Relative Frequency')\n",
    "ax1.set_xticks(np.linspace(0,100,25+1))\n",
    "ax2.set_ylabel('Cumsum Relative Frequency')\n",
    "\n",
    "plt.show()"
   ]
  },
  {
   "cell_type": "markdown",
   "id": "1069746c",
   "metadata": {},
   "source": [
    "##### Box plot 그리기\n",
    "- 데이터의 산포도를 나타내는 plot\n",
    "- 사분위범위와 이상값\n",
    "    * IQR(Inter Quartile Range): 제 3사분위수 - 제1사분위수\n",
    "    * lower whisker: Q1 - 1.5 x IQR 이내인 값중에서 최솟값\n",
    "    * upper whisker: Q3 + 1.5 x IQR 이내인 값중에서 최댓값\n",
    "    * 이상치: lower whisker, upper whisker를 벗어나는 값\n",
    "\n"
   ]
  },
  {
   "cell_type": "code",
   "execution_count": 126,
   "id": "219a0cd9",
   "metadata": {},
   "outputs": [
    {
     "data": {
      "image/png": "[encoded data removed]",
      "text/plain": [
       "<Figure size 720x360 with 1 Axes>"
      ]
     },
     "metadata": {
      "needs_background": "light"
     },
     "output_type": "display_data"
    }
   ],
   "source": [
    "import matplotlib.pyplot as plt\n",
    "\n",
    "fig = plt.figure(figsize = (10,5))\n",
    "\n",
    "ax = fig.add_subplot(111)\n",
    "ax.boxplot(df['english'], labels = ['english'])\n",
    "\n",
    "plt.show()"
   ]
  },
  {
   "cell_type": "markdown",
   "id": "9e719e96",
   "metadata": {},
   "source": [
    "## 2차원 데이터"
   ]
  },
  {
   "cell_type": "markdown",
   "id": "95c15d8c",
   "metadata": {},
   "source": [
    "### 두 데이터 사이의 관계를 나타내는 지표"
   ]
  },
  {
   "cell_type": "code",
   "execution_count": 127,
   "id": "171f02d9",
   "metadata": {},
   "outputs": [
    {
     "data": {
      "text/html": [
       "<div>\n",
       "<style scoped>\n",
       "    .dataframe tbody tr th:only-of-type {\n",
       "        vertical-align: middle;\n",
       "    }\n",
       "\n",
       "    .dataframe tbody tr th {\n",
       "        vertical-align: top;\n",
       "    }\n",
       "\n",
       "    .dataframe thead th {\n",
       "        text-align: right;\n",
       "    }\n",
       "</style>\n",
       "<table border=\"1\" class=\"dataframe\">\n",
       "  <thead>\n",
       "    <tr style=\"text-align: right;\">\n",
       "      <th></th>\n",
       "      <th>english</th>\n",
       "      <th>math</th>\n",
       "    </tr>\n",
       "    <tr>\n",
       "      <th>student</th>\n",
       "      <th></th>\n",
       "      <th></th>\n",
       "    </tr>\n",
       "  </thead>\n",
       "  <tbody>\n",
       "    <tr>\n",
       "      <th>A</th>\n",
       "      <td>42</td>\n",
       "      <td>65</td>\n",
       "    </tr>\n",
       "    <tr>\n",
       "      <th>B</th>\n",
       "      <td>69</td>\n",
       "      <td>80</td>\n",
       "    </tr>\n",
       "    <tr>\n",
       "      <th>C</th>\n",
       "      <td>56</td>\n",
       "      <td>63</td>\n",
       "    </tr>\n",
       "    <tr>\n",
       "      <th>D</th>\n",
       "      <td>41</td>\n",
       "      <td>63</td>\n",
       "    </tr>\n",
       "    <tr>\n",
       "      <th>E</th>\n",
       "      <td>57</td>\n",
       "      <td>76</td>\n",
       "    </tr>\n",
       "    <tr>\n",
       "      <th>F</th>\n",
       "      <td>48</td>\n",
       "      <td>60</td>\n",
       "    </tr>\n",
       "    <tr>\n",
       "      <th>G</th>\n",
       "      <td>65</td>\n",
       "      <td>81</td>\n",
       "    </tr>\n",
       "    <tr>\n",
       "      <th>H</th>\n",
       "      <td>49</td>\n",
       "      <td>66</td>\n",
       "    </tr>\n",
       "    <tr>\n",
       "      <th>I</th>\n",
       "      <td>65</td>\n",
       "      <td>78</td>\n",
       "    </tr>\n",
       "    <tr>\n",
       "      <th>J</th>\n",
       "      <td>58</td>\n",
       "      <td>82</td>\n",
       "    </tr>\n",
       "  </tbody>\n",
       "</table>\n",
       "</div>"
      ],
      "text/plain": [
       "         english  math\n",
       "student               \n",
       "A             42    65\n",
       "B             69    80\n",
       "C             56    63\n",
       "D             41    63\n",
       "E             57    76\n",
       "F             48    60\n",
       "G             65    81\n",
       "H             49    66\n",
       "I             65    78\n",
       "J             58    82"
      ]
     },
     "execution_count": 127,
     "metadata": {},
     "output_type": "execute_result"
    }
   ],
   "source": [
    "import numpy as np\n",
    "import pandas as pd\n",
    "\n",
    "df = pd.read_csv('ch2_scores_em.csv')\n",
    "\n",
    "en_scores = np.array(df['english'][:10])\n",
    "ma_scores = np.array(df['mathematics'][:10])\n",
    "scores_df = pd.DataFrame({'english': en_scores,\n",
    "                          'math': ma_scores},\n",
    "                          index = pd.Index([i for i in 'ABCDEFGHIJ'], name = 'student'))\n",
    "scores_df"
   ]
  },
  {
   "cell_type": "markdown",
   "id": "38ea1bf7",
   "metadata": {},
   "source": [
    "#### (미리)산점도"
   ]
  },
  {
   "cell_type": "code",
   "execution_count": 128,
   "id": "824986be",
   "metadata": {},
   "outputs": [
    {
     "data": {
      "text/plain": [
       "<matplotlib.collections.PathCollection at 0x21bad1632e0>"
      ]
     },
     "execution_count": 128,
     "metadata": {},
     "output_type": "execute_result"
    },
    {
     "data": {
      "image/png": "[encoded data removed]",
      "text/plain": [
       "<Figure size 432x288 with 1 Axes>"
      ]
     },
     "metadata": {
      "needs_background": "light"
     },
     "output_type": "display_data"
    }
   ],
   "source": [
    "plt.scatter(scores_df['english'], scores_df['math'], color = 'purple')"
   ]
  },
  {
   "cell_type": "markdown",
   "id": "0a67de6e",
   "metadata": {},
   "source": [
    "#### 공분산\n",
    "- Sxy = 1/n* Σ(Xi-Xm)*(Yi-Ym)\n",
    "- np.cov(x, y, ddof = 0) 함수\n",
    "    - 반환값은 행렬\n",
    "    - 공분산: [0,1], [1,0]\n",
    "    - x분산:[0,0], y분산:[1,1]"
   ]
  },
  {
   "cell_type": "code",
   "execution_count": 129,
   "id": "cdf6213a",
   "metadata": {},
   "outputs": [
    {
     "name": "stdout",
     "output_type": "stream",
     "text": [
      "[[86.   62.8 ]\n",
      " [62.8  68.44]]\n",
      "\n",
      "\n",
      "영어 성적의 표본분산: 86.0\n",
      "수학 성적의 표본분산: 68.44\n",
      "영어성적과 수학성적의 공분산: 62.8\n"
     ]
    }
   ],
   "source": [
    "# 공분산 구하기\n",
    "# 방법1\n",
    "\n",
    "cov_map = np.cov(scores_df['english'], scores_df['math'], ddof = 0).round(2)\n",
    "\n",
    "\n",
    "print(cov_map)\n",
    "print('\\n')\n",
    "print(f'영어 성적의 표본분산: {cov_map[0,0]}')\n",
    "print(f'수학 성적의 표본분산: {cov_map[1,1]}')\n",
    "print(f'영어성적과 수학성적의 공분산: {cov_map[0,1]}')"
   ]
  },
  {
   "cell_type": "code",
   "execution_count": 130,
   "id": "b1041431",
   "metadata": {},
   "outputs": [
    {
     "name": "stdout",
     "output_type": "stream",
     "text": [
      "86.0\n",
      "68.44000000000001\n"
     ]
    }
   ],
   "source": [
    "# 분산을 따로 구해보기\n",
    "\n",
    "print(np.var(scores_df['english']))\n",
    "print(np.var(scores_df['math']))"
   ]
  },
  {
   "cell_type": "code",
   "execution_count": 131,
   "id": "6e02ab7b",
   "metadata": {},
   "outputs": [
    {
     "data": {
      "text/html": [
       "<div>\n",
       "<style scoped>\n",
       "    .dataframe tbody tr th:only-of-type {\n",
       "        vertical-align: middle;\n",
       "    }\n",
       "\n",
       "    .dataframe tbody tr th {\n",
       "        vertical-align: top;\n",
       "    }\n",
       "\n",
       "    .dataframe thead th {\n",
       "        text-align: right;\n",
       "    }\n",
       "</style>\n",
       "<table border=\"1\" class=\"dataframe\">\n",
       "  <thead>\n",
       "    <tr style=\"text-align: right;\">\n",
       "      <th></th>\n",
       "      <th>english</th>\n",
       "      <th>math</th>\n",
       "    </tr>\n",
       "  </thead>\n",
       "  <tbody>\n",
       "    <tr>\n",
       "      <th>english</th>\n",
       "      <td>86.0</td>\n",
       "      <td>62.80</td>\n",
       "    </tr>\n",
       "    <tr>\n",
       "      <th>math</th>\n",
       "      <td>62.8</td>\n",
       "      <td>68.44</td>\n",
       "    </tr>\n",
       "  </tbody>\n",
       "</table>\n",
       "</div>"
      ],
      "text/plain": [
       "         english   math\n",
       "english     86.0  62.80\n",
       "math        62.8  68.44"
      ]
     },
     "metadata": {},
     "output_type": "display_data"
    },
    {
     "name": "stdout",
     "output_type": "stream",
     "text": [
      "\n",
      "\n",
      "영어 성적의 표본분산: 86.0\n",
      "수학 성적의 표본분산: 68.4\n",
      "영어성적과 수학성적의 공분산: 62.8\n"
     ]
    }
   ],
   "source": [
    "# 공분산 구하기\n",
    "# 방법2\n",
    "\n",
    "cov_map = scores_df.cov(ddof = 0)\n",
    "display(cov_map)\n",
    "\n",
    "print('\\n')\n",
    "print(f'영어 성적의 표본분산: {cov_map.iloc[0,0].round(1)}')\n",
    "print(f'수학 성적의 표본분산: {cov_map.iloc[1,1].round(1)}')\n",
    "print(f'영어성적과 수학성적의 공분산: {cov_map.iloc[0,1].round(1)}')"
   ]
  },
  {
   "cell_type": "markdown",
   "id": "3beafde2",
   "metadata": {},
   "source": [
    "#### 상관계수\n",
    "- rxy = Sxy / (Sx*Sy)\n",
    "- -1 < rxy < 1\n",
    "- np.corrcoef(x,y) 함수, corr() 함수\n",
    "    - 상관계수: [0,1], [1,0]"
   ]
  },
  {
   "cell_type": "code",
   "execution_count": 132,
   "id": "606a96fc",
   "metadata": {},
   "outputs": [
    {
     "data": {
      "text/plain": [
       "0.820"
      ]
     },
     "execution_count": 132,
     "metadata": {},
     "output_type": "execute_result"
    }
   ],
   "source": [
    "# 방법1: Sxy/(Sx*Sy) 직접 구하기\n",
    "\n",
    "(np.cov(scores_df['english'], scores_df['math'], ddof = 0)[0,1]/(np.std(scores_df['english'])*np.std(scores_df['math']))).round(2)"
   ]
  },
  {
   "cell_type": "code",
   "execution_count": 133,
   "id": "38438ff7",
   "metadata": {},
   "outputs": [
    {
     "data": {
      "text/plain": [
       "array([[1.  , 0.82],\n",
       "       [0.82, 1.  ]])"
      ]
     },
     "execution_count": 133,
     "metadata": {},
     "output_type": "execute_result"
    }
   ],
   "source": [
    "# 방법2: np.corrcoef 함수 사용\n",
    "\n",
    "np.corrcoef(scores_df['english'], scores_df['math']).round(2)"
   ]
  },
  {
   "cell_type": "code",
   "execution_count": 134,
   "id": "985680c4",
   "metadata": {},
   "outputs": [
    {
     "data": {
      "text/html": [
       "<div>\n",
       "<style scoped>\n",
       "    .dataframe tbody tr th:only-of-type {\n",
       "        vertical-align: middle;\n",
       "    }\n",
       "\n",
       "    .dataframe tbody tr th {\n",
       "        vertical-align: top;\n",
       "    }\n",
       "\n",
       "    .dataframe thead th {\n",
       "        text-align: right;\n",
       "    }\n",
       "</style>\n",
       "<table border=\"1\" class=\"dataframe\">\n",
       "  <thead>\n",
       "    <tr style=\"text-align: right;\">\n",
       "      <th></th>\n",
       "      <th>english</th>\n",
       "      <th>math</th>\n",
       "    </tr>\n",
       "  </thead>\n",
       "  <tbody>\n",
       "    <tr>\n",
       "      <th>english</th>\n",
       "      <td>1.00</td>\n",
       "      <td>0.82</td>\n",
       "    </tr>\n",
       "    <tr>\n",
       "      <th>math</th>\n",
       "      <td>0.82</td>\n",
       "      <td>1.00</td>\n",
       "    </tr>\n",
       "  </tbody>\n",
       "</table>\n",
       "</div>"
      ],
      "text/plain": [
       "         english  math\n",
       "english     1.00  0.82\n",
       "math        0.82  1.00"
      ]
     },
     "execution_count": 134,
     "metadata": {},
     "output_type": "execute_result"
    }
   ],
   "source": [
    "# 방법3: corr() 함수 사용\n",
    "\n",
    "scores_df.corr().round(2)"
   ]
  },
  {
   "cell_type": "markdown",
   "id": "8fbf0919",
   "metadata": {},
   "source": [
    "### 2차원 데이터 시각화"
   ]
  },
  {
   "cell_type": "code",
   "execution_count": 135,
   "id": "41c8c80c",
   "metadata": {},
   "outputs": [],
   "source": [
    "df = pd.read_csv('ch2_scores_em.csv')\n",
    "df_english = np.array(df['english'])\n",
    "df_math = np.array(df['mathematics'])"
   ]
  },
  {
   "cell_type": "markdown",
   "id": "af8c298f",
   "metadata": {},
   "source": [
    "#### 산점도"
   ]
  },
  {
   "cell_type": "code",
   "execution_count": 136,
   "id": "13e6db58",
   "metadata": {},
   "outputs": [
    {
     "data": {
      "image/png": "[encoded data removed]",
      "text/plain": [
       "<Figure size 360x360 with 1 Axes>"
      ]
     },
     "metadata": {
      "needs_background": "light"
     },
     "output_type": "display_data"
    }
   ],
   "source": [
    "import matplotlib.pyplot as plt\n",
    "\n",
    "fig = plt.figure(figsize = (5,5))\n",
    "\n",
    "ax = fig.add_subplot(111)\n",
    "\n",
    "#산점도 그리기\n",
    "ax.scatter(df_english, df_math, marker = '^', color = 'purple')\n",
    "\n",
    "ax.set_xlabel('English')\n",
    "ax.set_ylabel('Math')\n",
    "\n",
    "plt.show()"
   ]
  },
  {
   "cell_type": "markdown",
   "id": "6b6c47ac",
   "metadata": {},
   "source": [
    "#### 회귀직선\n",
    "- y  = B0 + B1*x\n",
    "- np.polyfit함수, np.poly1d함수"
   ]
  },
  {
   "cell_type": "code",
   "execution_count": 137,
   "id": "5e4676ac",
   "metadata": {},
   "outputs": [
    {
     "data": {
      "image/png": "[encoded data removed]",
      "text/plain": [
       "<Figure size 576x576 with 1 Axes>"
      ]
     },
     "metadata": {
      "needs_background": "light"
     },
     "output_type": "display_data"
    }
   ],
   "source": [
    "# B0, B1 계수 구하기\n",
    "poly_fit = np.polyfit(df_english, df_math, 1)\n",
    "\n",
    "# B0 + B1*x 반환하는 함수 작성\n",
    "poly_1d = np.poly1d(poly_fit)\n",
    "\n",
    "# 직선 그리기\n",
    "## x축\n",
    "xs = np.linspace(df_english.min(), df_english.max())\n",
    "## y축\n",
    "ys = poly_1d(xs)\n",
    "\n",
    "\n",
    "fig = plt.figure(figsize = (8,8))\n",
    "ax = fig.add_subplot(111)\n",
    "\n",
    "# 산점도 그리기\n",
    "ax.scatter(df_english, df_math, marker = \"o\", label = \"Score\", color = \"purple\")\n",
    "# 회귀직선 그리기\n",
    "ax.plot(xs, ys, color = \"black\", label = f'y = {poly_fit[1]:.2f} + {poly_fit[0]:.2f}x')\n",
    "\n",
    "ax.set_xlabel('English')\n",
    "ax.set_ylabel('Mathematics')\n",
    "\n",
    "# 범례표시\n",
    "ax.legend(loc = \"upper left\")\n",
    "\n",
    "plt.show()"
   ]
  },
  {
   "cell_type": "markdown",
   "id": "5f7c8a58",
   "metadata": {},
   "source": [
    "#### polyfit 함수 사용법\n",
    "- poly(x,y,차수) 형태"
   ]
  },
  {
   "cell_type": "code",
   "execution_count": 138,
   "id": "3d0a663f",
   "metadata": {},
   "outputs": [
    {
     "name": "stdout",
     "output_type": "stream",
     "text": [
      "[ 3.314 -3.6  ]\n",
      "y = -3.60 + 3.31*x\n"
     ]
    }
   ],
   "source": [
    "x = [1,2,3,4,5,6]\n",
    "y = [1,3,6,8,11,19]\n",
    "\n",
    "# 1차원 회귀식 계수 생성: Y = B0 + B1X\n",
    "poly = np.polyfit(x,y,1)\n",
    "print(poly)\n",
    "\n",
    "b0 = poly[1]\n",
    "b1 = poly[0]\n",
    "\n",
    "# 회귀식 작성\n",
    "y = f'y = {b0:.2f} + {b1:.2f}*x'\n",
    "print(y)"
   ]
  },
  {
   "cell_type": "markdown",
   "id": "9754cb25",
   "metadata": {},
   "source": [
    "##### 1차원 회귀식\n",
    "np.polyfit(x,y,<span style = 'color:red'>1</span>)"
   ]
  },
  {
   "cell_type": "code",
   "execution_count": 139,
   "id": "f8086160",
   "metadata": {},
   "outputs": [
    {
     "data": {
      "image/png": "[encoded data removed]",
      "text/plain": [
       "<Figure size 432x288 with 1 Axes>"
      ]
     },
     "metadata": {
      "needs_background": "light"
     },
     "output_type": "display_data"
    }
   ],
   "source": [
    "x = [1,2,3,4,5,6]\n",
    "y = [1,3,6,8,11,19]\n",
    "\n",
    "# 1차원 회귀계수 구하기\n",
    "## 회귀식: Y = B0 + B1X\n",
    "poly = np.polyfit(x,y,1)\n",
    "\n",
    "\n",
    "# 회귀계수로 y예측값 만들기\n",
    "y_pred = np.array(x) * poly[0] + poly[1]\n",
    "\n",
    "\n",
    "#시각화\n",
    "plt.plot(x,y_pred, color = 'pink')   # 직선은 예측값으로\n",
    "plt.scatter(x,y,color = 'red')    # 산점도는 실제값으로 \n",
    "plt.show()"
   ]
  },
  {
   "cell_type": "markdown",
   "id": "9918605b",
   "metadata": {},
   "source": [
    "##### 2차원 회귀식\n",
    "np.polyfit(x,y,<span style = 'color:red'>2</span>)"
   ]
  },
  {
   "cell_type": "code",
   "execution_count": 140,
   "id": "ea2d3042",
   "metadata": {
    "scrolled": true
   },
   "outputs": [
    {
     "name": "stdout",
     "output_type": "stream",
     "text": [
      "[ 0.536 -0.436  1.4  ]\n"
     ]
    },
    {
     "data": {
      "image/png": "[encoded data removed]",
      "text/plain": [
       "<Figure size 432x288 with 1 Axes>"
      ]
     },
     "metadata": {
      "needs_background": "light"
     },
     "output_type": "display_data"
    }
   ],
   "source": [
    "x = [1,2,3,4,5,6]\n",
    "y = [1,3,6,8,11,19]\n",
    "\n",
    "# 2차원 회귀계수 만들기\n",
    "## 회귀식: Y = B0 + B1X + B2X^2\n",
    "poly = np.polyfit(x,y,2)\n",
    "print(poly)   # [B2, B1, B0]\n",
    "\n",
    "\n",
    "# 시각화\n",
    "## 곡선을 완만하게 그리기 위해 X값을 세분화\n",
    "x_line = np.linspace(1,6,100)   \n",
    "y_pred = x_line**2*poly[0] + x_line*poly[1] + poly[2]\n",
    "\n",
    "\n",
    "plt.plot(x_line,y_pred, color = 'pink')   # 예측값은 곡선으로\n",
    "plt.scatter(x, y, color = 'red')       #실제값은 산점도로\n",
    "plt.show()"
   ]
  },
  {
   "cell_type": "markdown",
   "id": "7fc3bcd8",
   "metadata": {},
   "source": [
    "##### 5차원 회귀식\n",
    "np.polyfit(x,y,<span style = 'color:red'>5</span>)"
   ]
  },
  {
   "cell_type": "code",
   "execution_count": 141,
   "id": "bfcd75b5",
   "metadata": {},
   "outputs": [
    {
     "name": "stdout",
     "output_type": "stream",
     "text": [
      "[ -0.017   0.417  -3.417  12.083 -16.067   8.   ]\n"
     ]
    },
    {
     "data": {
      "text/plain": [
       "<matplotlib.collections.PathCollection at 0x21bad74aa90>"
      ]
     },
     "execution_count": 141,
     "metadata": {},
     "output_type": "execute_result"
    },
    {
     "data": {
      "image/png": "[encoded data removed]",
      "text/plain": [
       "<Figure size 432x288 with 1 Axes>"
      ]
     },
     "metadata": {
      "needs_background": "light"
     },
     "output_type": "display_data"
    }
   ],
   "source": [
    "x = [1,2,3,4,5,6]\n",
    "y = [1,3,6,8,11,19]\n",
    "\n",
    "# 5차원 회귀계수 만들기: Y = B0 + B1X + B2X^2 + B3X^3 + B4X^4 + B5X^5\n",
    "poly = np.polyfit(x,y,5)\n",
    "print(poly)   # [B5, B4, B3, B2, B1, B0]\n",
    "\n",
    "\n",
    "#시각화\n",
    "\n",
    "## 곡선을 완만하게 그리기 위해 X값을 세분화\n",
    "x_line = np.linspace(1,6,100)\n",
    "y_pred = np.zeros_like(x_line)\n",
    "\n",
    "## 배열은 전체값을 알아서 계산해줌. 따로 요소값마다 돌리는 다중 for문 안돌려도됨\n",
    "for i in range(6):\n",
    "    y_pred += x_line**(5-i)*poly[i]  \n",
    "\n",
    "plt.plot(x_line, y_pred, color = 'pink')\n",
    "plt.scatter(x,y, color = 'red')"
   ]
  },
  {
   "cell_type": "markdown",
   "id": "d7193fa2",
   "metadata": {},
   "source": [
    "- <b> <span style = 'color:red'> 차원이 높아질 수록, 예측률을 높아지지만 과적합 문제가 생김.</span></b>\n",
    "- <b> <span style = 'color:red'> 일반화할 수 없어짐.</span></b>"
   ]
  },
  {
   "cell_type": "markdown",
   "id": "6d4adcbc",
   "metadata": {},
   "source": [
    "#### 히트맵"
   ]
  },
  {
   "cell_type": "code",
   "execution_count": 142,
   "id": "6789c6c9",
   "metadata": {},
   "outputs": [
    {
     "data": {
      "text/plain": [
       "(37, 79)"
      ]
     },
     "execution_count": 142,
     "metadata": {},
     "output_type": "execute_result"
    }
   ],
   "source": [
    "df_english.min(), df_english.max()"
   ]
  },
  {
   "cell_type": "code",
   "execution_count": 143,
   "id": "c29562ef",
   "metadata": {},
   "outputs": [
    {
     "data": {
      "text/plain": [
       "(57, 94)"
      ]
     },
     "execution_count": 143,
     "metadata": {},
     "output_type": "execute_result"
    }
   ],
   "source": [
    "df_math.min(), df_math.max()"
   ]
  },
  {
   "cell_type": "code",
   "execution_count": 144,
   "id": "aaae4a09",
   "metadata": {},
   "outputs": [
    {
     "data": {
      "image/png": "[encoded data removed]",
      "text/plain": [
       "<Figure size 720x576 with 2 Axes>"
      ]
     },
     "metadata": {
      "needs_background": "light"
     },
     "output_type": "display_data"
    }
   ],
   "source": [
    "fig = plt.figure(figsize = (10,8))\n",
    "\n",
    "ax = fig.add_subplot(111)\n",
    "\n",
    "\n",
    "## 각 배열의 최소, 최댓값과 가까운 값으로 구간을 정해줌\n",
    "c = ax.hist2d(df_english, df_math,\n",
    "              bins = [9,8], range = [(35,80), (55,95)])    \n",
    "\n",
    "ax.set_xlabel('English')\n",
    "ax.set_ylabel('Mathematics')\n",
    "ax.set_xticks(c[1])\n",
    "ax.set_yticks(c[2])\n",
    "\n",
    "# 컬러바 표시\n",
    "fig.colorbar(c[3], ax = ax)\n",
    "\n",
    "plt.show()"
   ]
  },
  {
   "cell_type": "markdown",
   "id": "10a9cafc",
   "metadata": {},
   "source": [
    "### 과제"
   ]
  },
  {
   "cell_type": "markdown",
   "id": "2fa1b213",
   "metadata": {},
   "source": [
    "#### 일차원 데이터를 생성\n",
    "해서  다음을 수행\n",
    "- 도수분포표를 만들고 히스토그램으로 시각화하세요\n",
    "- 상대도수 및 누적상대도수를 도수분포표에 추가하고 히스토그램과 누적상대도수를 시각화하세요"
   ]
  },
  {
   "cell_type": "code",
   "execution_count": 145,
   "id": "7cf74859",
   "metadata": {},
   "outputs": [
    {
     "data": {
      "text/html": [
       "<div>\n",
       "<style scoped>\n",
       "    .dataframe tbody tr th:only-of-type {\n",
       "        vertical-align: middle;\n",
       "    }\n",
       "\n",
       "    .dataframe tbody tr th {\n",
       "        vertical-align: top;\n",
       "    }\n",
       "\n",
       "    .dataframe thead th {\n",
       "        text-align: right;\n",
       "    }\n",
       "</style>\n",
       "<table border=\"1\" class=\"dataframe\">\n",
       "  <thead>\n",
       "    <tr style=\"text-align: right;\">\n",
       "      <th></th>\n",
       "      <th>freq</th>\n",
       "    </tr>\n",
       "    <tr>\n",
       "      <th>petal length</th>\n",
       "      <th></th>\n",
       "    </tr>\n",
       "  </thead>\n",
       "  <tbody>\n",
       "    <tr>\n",
       "      <th>0 ~ 1 cm</th>\n",
       "      <td>0</td>\n",
       "    </tr>\n",
       "    <tr>\n",
       "      <th>1 ~ 2 cm</th>\n",
       "      <td>50</td>\n",
       "    </tr>\n",
       "    <tr>\n",
       "      <th>2 ~ 3 cm</th>\n",
       "      <td>0</td>\n",
       "    </tr>\n",
       "    <tr>\n",
       "      <th>3 ~ 4 cm</th>\n",
       "      <td>11</td>\n",
       "    </tr>\n",
       "    <tr>\n",
       "      <th>4 ~ 5 cm</th>\n",
       "      <td>43</td>\n",
       "    </tr>\n",
       "    <tr>\n",
       "      <th>5 ~ 6 cm</th>\n",
       "      <td>35</td>\n",
       "    </tr>\n",
       "    <tr>\n",
       "      <th>6 ~ 7 cm</th>\n",
       "      <td>11</td>\n",
       "    </tr>\n",
       "    <tr>\n",
       "      <th>7 ~ 8 cm</th>\n",
       "      <td>0</td>\n",
       "    </tr>\n",
       "  </tbody>\n",
       "</table>\n",
       "</div>"
      ],
      "text/plain": [
       "              freq\n",
       "petal length      \n",
       "0 ~ 1 cm         0\n",
       "1 ~ 2 cm        50\n",
       "2 ~ 3 cm         0\n",
       "3 ~ 4 cm        11\n",
       "4 ~ 5 cm        43\n",
       "5 ~ 6 cm        35\n",
       "6 ~ 7 cm        11\n",
       "7 ~ 8 cm         0"
      ]
     },
     "metadata": {},
     "output_type": "display_data"
    },
    {
     "data": {
      "text/html": [
       "<div>\n",
       "<style scoped>\n",
       "    .dataframe tbody tr th:only-of-type {\n",
       "        vertical-align: middle;\n",
       "    }\n",
       "\n",
       "    .dataframe tbody tr th {\n",
       "        vertical-align: top;\n",
       "    }\n",
       "\n",
       "    .dataframe thead th {\n",
       "        text-align: right;\n",
       "    }\n",
       "</style>\n",
       "<table border=\"1\" class=\"dataframe\">\n",
       "  <thead>\n",
       "    <tr style=\"text-align: right;\">\n",
       "      <th></th>\n",
       "      <th>freq</th>\n",
       "      <th>relative freq</th>\n",
       "      <th>cumulative relative freq</th>\n",
       "    </tr>\n",
       "    <tr>\n",
       "      <th>petal length</th>\n",
       "      <th></th>\n",
       "      <th></th>\n",
       "      <th></th>\n",
       "    </tr>\n",
       "  </thead>\n",
       "  <tbody>\n",
       "    <tr>\n",
       "      <th>0 ~ 1 cm</th>\n",
       "      <td>0</td>\n",
       "      <td>0.000000</td>\n",
       "      <td>0.00</td>\n",
       "    </tr>\n",
       "    <tr>\n",
       "      <th>1 ~ 2 cm</th>\n",
       "      <td>50</td>\n",
       "      <td>0.333333</td>\n",
       "      <td>0.33</td>\n",
       "    </tr>\n",
       "    <tr>\n",
       "      <th>2 ~ 3 cm</th>\n",
       "      <td>0</td>\n",
       "      <td>0.000000</td>\n",
       "      <td>0.33</td>\n",
       "    </tr>\n",
       "    <tr>\n",
       "      <th>3 ~ 4 cm</th>\n",
       "      <td>11</td>\n",
       "      <td>0.073333</td>\n",
       "      <td>0.41</td>\n",
       "    </tr>\n",
       "    <tr>\n",
       "      <th>4 ~ 5 cm</th>\n",
       "      <td>43</td>\n",
       "      <td>0.286667</td>\n",
       "      <td>0.69</td>\n",
       "    </tr>\n",
       "    <tr>\n",
       "      <th>5 ~ 6 cm</th>\n",
       "      <td>35</td>\n",
       "      <td>0.233333</td>\n",
       "      <td>0.93</td>\n",
       "    </tr>\n",
       "    <tr>\n",
       "      <th>6 ~ 7 cm</th>\n",
       "      <td>11</td>\n",
       "      <td>0.073333</td>\n",
       "      <td>1.00</td>\n",
       "    </tr>\n",
       "    <tr>\n",
       "      <th>7 ~ 8 cm</th>\n",
       "      <td>0</td>\n",
       "      <td>0.000000</td>\n",
       "      <td>1.00</td>\n",
       "    </tr>\n",
       "  </tbody>\n",
       "</table>\n",
       "</div>"
      ],
      "text/plain": [
       "              freq  relative freq  cumulative relative freq\n",
       "petal length                                               \n",
       "0 ~ 1 cm         0       0.000000                      0.00\n",
       "1 ~ 2 cm        50       0.333333                      0.33\n",
       "2 ~ 3 cm         0       0.000000                      0.33\n",
       "3 ~ 4 cm        11       0.073333                      0.41\n",
       "4 ~ 5 cm        43       0.286667                      0.69\n",
       "5 ~ 6 cm        35       0.233333                      0.93\n",
       "6 ~ 7 cm        11       0.073333                      1.00\n",
       "7 ~ 8 cm         0       0.000000                      1.00"
      ]
     },
     "metadata": {},
     "output_type": "display_data"
    },
    {
     "data": {
      "image/png": "[encoded data removed]",
      "text/plain": [
       "<Figure size 1080x360 with 3 Axes>"
      ]
     },
     "metadata": {
      "needs_background": "light"
     },
     "output_type": "display_data"
    }
   ],
   "source": [
    "from sklearn.datasets import load_iris # scikit-learn의 샘플 데이터 로드를 위해 import\n",
    "import matplotlib.pyplot as plt\n",
    "import pandas as pd\n",
    "import numpy as np\n",
    "\n",
    "# 꽃잎 길이 데이터 추출\n",
    "iris = load_iris() \n",
    "df = pd.DataFrame(data=iris.data, columns=iris.feature_names)\n",
    "petal_length = df[['petal length (cm)']]\n",
    "# display(petal_length)\n",
    "\n",
    "\n",
    "\n",
    "# 도수분포표 만들기\n",
    "## 계급 설정\n",
    "# print(petal_length.describe().round(2))  # 꽃잎길이 최솟값, 최댓값 확인\n",
    "freq, step = np.histogram(petal_length, bins = 8, range = (0 ,8))\n",
    "step = [f'{i} ~ {i+1} cm' for i in range(0,8)]\n",
    "# print(freq, step)\n",
    "petal_len_df = pd.DataFrame({'freq': freq }, pd.Index( step , name = 'petal length'))\n",
    "display(petal_len_df)\n",
    "\n",
    "\n",
    "# 히스토그램 그리기\n",
    "fig = plt.figure(figsize = (15,5))\n",
    "ax1 = fig.add_subplot(1,2,1)\n",
    "ax1.hist(petal_length, bins = 8, range = (0,8), color = 'skyblue')\n",
    "\n",
    "\n",
    "\n",
    "# 상대도수 만들기\n",
    "petal_len_df['relative freq'] = petal_len_df['freq']/petal_len_df['freq'].sum()\n",
    "\n",
    "# 누적상대도수 만들기\n",
    "petal_len_df['cumulative relative freq'] = petal_len_df['relative freq'].cumsum().round(2)\n",
    "display(petal_len_df)\n",
    "\n",
    "\n",
    "# 히스토그램과 누적상대도수 선그래프 그리기\n",
    "ax2 = fig.add_subplot(1,2,2)\n",
    "ax3 = ax2.twinx()\n",
    "\n",
    "## 히스토그램\n",
    "weights = np.ones_like(petal_length)/len(petal_length)\n",
    "ax2.hist(petal_length, bins = 8, range = (0,8), weights = weights, color = 'pink')\n",
    "\n",
    "### x축값: 계급값\n",
    "class_value = [ (i+(i+1))/2 for i in range(0, 8)]\n",
    "### y축값: 누적상대도수 \n",
    "cumsum = petal_len_df['cumulative relative freq']\n",
    "\n",
    "## 꺾은선 그래프\n",
    "ax3.plot(class_value, cumsum, marker = 's', color = 'red')\n",
    "\n",
    "\n",
    "plt.show()"
   ]
  },
  {
   "cell_type": "markdown",
   "id": "2086665a",
   "metadata": {},
   "source": [
    "\n",
    "#### 이차원 데이터 생성\n",
    "해(1000개) 다음을 수행하세요 \n",
    "- 공분산 및 상관계수를 구하세요.\n",
    "- 이차원 데이터를 산점도, 히트맵으로 시각화한 후 인사이트를 기술하세요. "
   ]
  },
  {
   "cell_type": "code",
   "execution_count": 146,
   "id": "6443a539",
   "metadata": {},
   "outputs": [
    {
     "name": "stdout",
     "output_type": "stream",
     "text": [
      "x,y의 공분산: 215022.65\n",
      "x,y의 상관계수: 0.81\n",
      "\n",
      "\n",
      "B1 계수: 2.58\n",
      "B0 계수: 309.89\n",
      "\n",
      "\n",
      "회귀식: y = 309.89 +  2.58x\n",
      "\n",
      "\n"
     ]
    },
    {
     "data": {
      "image/png": "[encoded data removed]",
      "text/plain": [
       "<Figure size 1080x504 with 2 Axes>"
      ]
     },
     "metadata": {
      "needs_background": "light"
     },
     "output_type": "display_data"
    }
   ],
   "source": [
    "# 랜덤 데이터 생성\n",
    "# 방법1 ============================================================\n",
    "import numpy as np\n",
    "\n",
    "x = np.arange(1,1001)\n",
    "y = np.random.randint(1,3000,1000)\n",
    "\n",
    "# 데이터의 경향성 만들기 (y = 3x에 가깝게..)\n",
    "for i in np.random.randint(0,300,300):\n",
    "    y[i]= x[i] * 3 - np.random.randint(1,400,1)    \n",
    "for i in np.random.randint(0,300,300):\n",
    "    y[i]= x[i] * 3 + np.random.randint(1,400,1)    \n",
    "for i in np.random.randint(300,750,300):\n",
    "    y[i]= x[i] * 3 - np.random.randint(1,800,1)   \n",
    "for i in np.random.randint(300,750,300):\n",
    "    y[i]= x[i] * 3 + np.random.randint(1,800,1)\n",
    "for i in np.random.randint(750,1000,300):\n",
    "    y[i]= x[i] * 3 - np.random.randint(1,400,1)\n",
    "for i in np.random.randint(750,1000,300):\n",
    "    y[i]= x[i] * 3 + np.random.randint(1,400,1)\n",
    "\n",
    "    \n",
    "## 방법2 ============================================================\n",
    "\n",
    "# x = np.arange(1,1001)\n",
    "# y = x.copy()\n",
    "# for i in range(1000):\n",
    "#     if i<250 or i>750:\n",
    "#         x_move = np.random.uniform(2.5,3.5)\n",
    "#         y_move = np.random.randint(0,500)\n",
    "#     else: \n",
    "#         x_move = np.random.uniform(2.2,3.8)\n",
    "#         y_move = np.random.randint(0,1000)\n",
    "#     y[i] = x[i]*x_move + y_move\n",
    "\n",
    "\n",
    "    \n",
    "    \n",
    "# 공분산, 상관계수 구하기\n",
    "cov_xy = np.cov(x,y, ddof = 0)[0,1].round(2)\n",
    "r_xy = np.corrcoef(x, y)[0,1].round(2)\n",
    "\n",
    "print(f'x,y의 공분산: {cov_xy}')\n",
    "print(f'x,y의 상관계수: {r_xy}')\n",
    "print('\\n')\n",
    "\n",
    "\n",
    "\n",
    "# 산점도 그리기\n",
    "import matplotlib.pyplot as plt\n",
    "\n",
    "fig = plt.figure(figsize = (15,7))\n",
    "ax1 = fig.add_subplot(1,2,1)\n",
    "ax1.scatter(x, y, color = 'skyblue')\n",
    "ax1.set_xlabel('X')\n",
    "ax1.set_ylabel('Y')\n",
    "\n",
    "\n",
    "\n",
    "# 회귀선 추가\n",
    "## B0, B1 계수 구하기\n",
    "poly_fit = np.polyfit(x, y, 1)\n",
    "print(f'B1 계수: {poly_fit[0]:.2f}')\n",
    "print(f'B0 계수: {poly_fit[1]:.2f}')\n",
    "print('\\n')\n",
    "print(f'회귀식: y = {poly_fit[1]:.2f} +  {poly_fit[0]:.2f}x')\n",
    "print('\\n')\n",
    "\n",
    "## B0 + B1*x 반환하는 함수 작성\n",
    "poly_1d = np.poly1d(poly_fit)\n",
    "\n",
    "## x축\n",
    "xs = np.linspace(x.min(), x.max())\n",
    "## y축\n",
    "ys = poly_1d(xs)\n",
    "ax1.plot(xs, ys, color = 'black' )\n",
    "\n",
    "\n",
    "\n",
    "\n",
    "# 히트맵 그리기\n",
    "ax2 = fig.add_subplot(1,2,2)\n",
    "ax2.hist2d(x, y)\n",
    "ax2.set_xlabel('X')\n",
    "ax2.set_ylabel('Y')\n",
    "\n",
    "\n",
    "\n",
    "plt.show()"
   ]
  },
  {
   "cell_type": "markdown",
   "id": "fda16082",
   "metadata": {},
   "source": [
    "### 앤스컴의 예"
   ]
  },
  {
   "cell_type": "code",
   "execution_count": 147,
   "id": "ff86a276",
   "metadata": {
    "scrolled": true
   },
   "outputs": [
    {
     "name": "stdout",
     "output_type": "stream",
     "text": [
      "(4, 11, 2)\n",
      "[[[10.    8.04]\n",
      "  [ 8.    6.95]\n",
      "  [13.    7.58]\n",
      "  [ 9.    8.81]\n",
      "  [11.    8.33]\n",
      "  [14.    9.96]\n",
      "  [ 6.    7.24]\n",
      "  [ 4.    4.26]\n",
      "  [12.   10.84]\n",
      "  [ 7.    4.82]\n",
      "  [ 5.    5.68]]\n",
      "\n",
      " [[10.    9.14]\n",
      "  [ 8.    8.14]\n",
      "  [13.    8.74]\n",
      "  [ 9.    8.77]\n",
      "  [11.    9.26]\n",
      "  [14.    8.1 ]\n",
      "  [ 6.    6.13]\n",
      "  [ 4.    3.1 ]\n",
      "  [12.    9.13]\n",
      "  [ 7.    7.26]\n",
      "  [ 5.    4.74]]\n",
      "\n",
      " [[10.    7.46]\n",
      "  [ 8.    6.77]\n",
      "  [13.   12.74]\n",
      "  [ 9.    7.11]\n",
      "  [11.    7.81]\n",
      "  [14.    8.84]\n",
      "  [ 6.    6.08]\n",
      "  [ 4.    5.39]\n",
      "  [12.    8.15]\n",
      "  [ 7.    6.42]\n",
      "  [ 5.    5.73]]\n",
      "\n",
      " [[ 8.    6.58]\n",
      "  [ 8.    5.76]\n",
      "  [ 8.    7.71]\n",
      "  [ 8.    8.84]\n",
      "  [ 8.    8.47]\n",
      "  [ 8.    7.04]\n",
      "  [ 8.    5.25]\n",
      "  [19.   12.5 ]\n",
      "  [ 8.    5.56]\n",
      "  [ 8.    7.91]\n",
      "  [ 8.    6.89]]]\n"
     ]
    }
   ],
   "source": [
    "# npy 형식으로 저장된 Numpy array 불러오기\n",
    "\n",
    "import numpy as np\n",
    "anscombe_data = np.load('ch3_anscombe.npy')\n",
    "\n",
    "print(anscombe_data.shape)  # 11행 2열이 4개\n",
    "print(anscombe_data)"
   ]
  },
  {
   "cell_type": "code",
   "execution_count": 148,
   "id": "fefc412e",
   "metadata": {},
   "outputs": [
    {
     "data": {
      "text/html": [
       "<div>\n",
       "<style scoped>\n",
       "    .dataframe tbody tr th:only-of-type {\n",
       "        vertical-align: middle;\n",
       "    }\n",
       "\n",
       "    .dataframe tbody tr th {\n",
       "        vertical-align: top;\n",
       "    }\n",
       "\n",
       "    .dataframe thead th {\n",
       "        text-align: right;\n",
       "    }\n",
       "</style>\n",
       "<table border=\"1\" class=\"dataframe\">\n",
       "  <thead>\n",
       "    <tr style=\"text-align: right;\">\n",
       "      <th></th>\n",
       "      <th>data1</th>\n",
       "      <th>data2</th>\n",
       "      <th>data3</th>\n",
       "      <th>data4</th>\n",
       "    </tr>\n",
       "  </thead>\n",
       "  <tbody>\n",
       "    <tr>\n",
       "      <th>X_mean</th>\n",
       "      <td>9.00</td>\n",
       "      <td>9.00</td>\n",
       "      <td>9.00</td>\n",
       "      <td>9.00</td>\n",
       "    </tr>\n",
       "    <tr>\n",
       "      <th>X_variance</th>\n",
       "      <td>10.00</td>\n",
       "      <td>10.00</td>\n",
       "      <td>10.00</td>\n",
       "      <td>10.00</td>\n",
       "    </tr>\n",
       "    <tr>\n",
       "      <th>Y_mean</th>\n",
       "      <td>7.50</td>\n",
       "      <td>7.50</td>\n",
       "      <td>7.50</td>\n",
       "      <td>7.50</td>\n",
       "    </tr>\n",
       "    <tr>\n",
       "      <th>Y_variance</th>\n",
       "      <td>3.75</td>\n",
       "      <td>3.75</td>\n",
       "      <td>3.75</td>\n",
       "      <td>3.75</td>\n",
       "    </tr>\n",
       "    <tr>\n",
       "      <th>X&amp;Y_correlation</th>\n",
       "      <td>0.82</td>\n",
       "      <td>0.82</td>\n",
       "      <td>0.82</td>\n",
       "      <td>0.82</td>\n",
       "    </tr>\n",
       "    <tr>\n",
       "      <th>X&amp;Y_regression line</th>\n",
       "      <td>3.00 + 0.50x</td>\n",
       "      <td>3.00 + 0.50x</td>\n",
       "      <td>3.00 + 0.50x</td>\n",
       "      <td>3.00 + 0.50x</td>\n",
       "    </tr>\n",
       "  </tbody>\n",
       "</table>\n",
       "</div>"
      ],
      "text/plain": [
       "                            data1         data2         data3         data4\n",
       "X_mean                       9.00          9.00          9.00          9.00\n",
       "X_variance                  10.00         10.00         10.00         10.00\n",
       "Y_mean                       7.50          7.50          7.50          7.50\n",
       "Y_variance                   3.75          3.75          3.75          3.75\n",
       "X&Y_correlation              0.82          0.82          0.82          0.82\n",
       "X&Y_regression line  3.00 + 0.50x  3.00 + 0.50x  3.00 + 0.50x  3.00 + 0.50x"
      ]
     },
     "execution_count": 148,
     "metadata": {},
     "output_type": "execute_result"
    }
   ],
   "source": [
    "import pandas as pd\n",
    "\n",
    "stats_df = pd.DataFrame(index = ['X_mean', 'X_variance', 'Y_mean','Y_variance', 'X&Y_correlation','X&Y_regression line'])\n",
    "\n",
    "for i, data in enumerate(anscombe_data):\n",
    "    dataX = data[:,0]\n",
    "    dataY = data[:,1]\n",
    "    poly_fit = np.polyfit(dataX, dataY, 1)\n",
    "    \n",
    "    stats_df[f'data{i+1}'] = [f'{np.mean(dataX): .2f}',\n",
    "                              f'{np.var(dataX): .2f}',\n",
    "                              f'{np.mean(dataY): .2f}',\n",
    "                              f'{np.var(dataY): .2f}',\n",
    "                              f'{np.corrcoef(dataX,dataY)[0,1]: .2f}',\n",
    "                              f'{poly_fit[1]:.2f} + {poly_fit[0]:.2f}x']\n",
    "    \n",
    "stats_df"
   ]
  },
  {
   "cell_type": "code",
   "execution_count": 149,
   "id": "4242e8f2",
   "metadata": {},
   "outputs": [
    {
     "data": {
      "image/png": "[encoded data removed]",
      "text/plain": [
       "<Figure size 720x720 with 4 Axes>"
      ]
     },
     "metadata": {
      "needs_background": "light"
     },
     "output_type": "display_data"
    }
   ],
   "source": [
    "import matplotlib.pyplot as plt\n",
    "\n",
    "fig, axes = plt.subplots(nrows = 2, ncols = 2, figsize = (10,10), \n",
    "                         sharex = True, sharey = True)\n",
    "\n",
    "xs = np.linspace(0, 30, 100)\n",
    "\n",
    "for i, data in enumerate(anscombe_data):\n",
    "    poly_fit = np.polyfit(data[:,0], data[:,1], 1)\n",
    "    poly_1d = np.poly1d(poly_fit)\n",
    "    ys = poly_1d(xs)\n",
    "    \n",
    "    ax = axes[i // 2, i % 2]\n",
    "    ax.set_xlim([4,20])\n",
    "    ax.set_ylim([3,13])\n",
    "    \n",
    "    ax.set_title(f'data{i+1}')\n",
    "    ax.scatter(data[:,0], data[:,1], color = 'lightblue')\n",
    "    ax.plot(xs, ys, color = 'purple')\n",
    "    \n",
    "plt.tight_layout()\n",
    "plt.show()"
   ]
  },
  {
   "cell_type": "markdown",
   "id": "11a6dabb",
   "metadata": {},
   "source": [
    "## 추측통계의 기본"
   ]
  },
  {
   "cell_type": "markdown",
   "id": "cdd731b2",
   "metadata": {},
   "source": [
    "### 모집단과 표본"
   ]
  },
  {
   "cell_type": "markdown",
   "id": "902c03bf",
   "metadata": {},
   "source": [
    "- 모집단: 추측하고 싶은 관측 대상 전체\n",
    "- 표본: 추측에 사용하는 관측 대상의 일부분\n",
    "- 표본추출: 모집단에서 표본을 골라내는 일\n",
    "- 모수: 모집단의 평균, 분산, 상관계수 등\n",
    "- 표본통계량: 표본을 바탕으로 계산한 평균이나 분산, 상관계수 등 \n",
    "- 추정량: 표본통계량으로 모수를 추측할 때 표본통계량\n",
    "\n",
    "\n",
    "\n",
    "- 무작위추출: 임의로 표본을 추출하는 방법  \n",
    "    - 복원추출: 여러차례 동일한 표본 선택 가능 -> <b>np.random.choice(list, n)</b>\n",
    "    - 비복원추출: 동일한 표본은 한 번만 선택 가능 -> <b>np.random.choice(list, n, replace = False)</b>\n",
    "    - 반복 무작위추출 시, 통계량이 달라지는 것 방지 -> np.random.seed(0)\n",
    "        - 위치에 따라서 고정되는 값이 달라짐"
   ]
  },
  {
   "cell_type": "code",
   "execution_count": 150,
   "id": "4fdf93bd",
   "metadata": {},
   "outputs": [
    {
     "name": "stdout",
     "output_type": "stream",
     "text": [
      "[4 1]\n",
      "[5 3]\n",
      "[4 1]\n",
      "[1 4]\n",
      "[5 4]\n"
     ]
    }
   ],
   "source": [
    "import numpy as np\n",
    "\n",
    "for i in range(5):\n",
    "    print(np.random.choice([1,2,3,4,5],2))"
   ]
  },
  {
   "cell_type": "code",
   "execution_count": 151,
   "id": "ccd7acaa",
   "metadata": {},
   "outputs": [
    {
     "name": "stdout",
     "output_type": "stream",
     "text": [
      "[5 1]\n",
      "[4 4]\n",
      "[4 2]\n",
      "[4 3]\n",
      "[5 1]\n"
     ]
    }
   ],
   "source": [
    "np.random.seed(0)\n",
    "\n",
    "for i in range(5):\n",
    "    print(np.random.choice([1,2,3,4,5],2))"
   ]
  },
  {
   "cell_type": "code",
   "execution_count": 152,
   "id": "8b0634bc",
   "metadata": {},
   "outputs": [
    {
     "name": "stdout",
     "output_type": "stream",
     "text": [
      "[5 1]\n",
      "[5 1]\n",
      "[5 1]\n",
      "[5 1]\n",
      "[5 1]\n"
     ]
    }
   ],
   "source": [
    "for i in range(5):\n",
    "    np.random.seed(0)\n",
    "    print(np.random.choice([1,2,3,4,5],2))"
   ]
  },
  {
   "cell_type": "code",
   "execution_count": 153,
   "id": "848c1c2c",
   "metadata": {},
   "outputs": [
    {
     "data": {
      "text/html": [
       "<div>\n",
       "<style scoped>\n",
       "    .dataframe tbody tr th:only-of-type {\n",
       "        vertical-align: middle;\n",
       "    }\n",
       "\n",
       "    .dataframe tbody tr th {\n",
       "        vertical-align: top;\n",
       "    }\n",
       "\n",
       "    .dataframe thead th {\n",
       "        text-align: right;\n",
       "    }\n",
       "</style>\n",
       "<table border=\"1\" class=\"dataframe\">\n",
       "  <thead>\n",
       "    <tr style=\"text-align: right;\">\n",
       "      <th></th>\n",
       "      <th>score</th>\n",
       "    </tr>\n",
       "  </thead>\n",
       "  <tbody>\n",
       "    <tr>\n",
       "      <th>0</th>\n",
       "      <td>76</td>\n",
       "    </tr>\n",
       "    <tr>\n",
       "      <th>1</th>\n",
       "      <td>55</td>\n",
       "    </tr>\n",
       "    <tr>\n",
       "      <th>2</th>\n",
       "      <td>80</td>\n",
       "    </tr>\n",
       "    <tr>\n",
       "      <th>3</th>\n",
       "      <td>80</td>\n",
       "    </tr>\n",
       "    <tr>\n",
       "      <th>4</th>\n",
       "      <td>74</td>\n",
       "    </tr>\n",
       "    <tr>\n",
       "      <th>...</th>\n",
       "      <td>...</td>\n",
       "    </tr>\n",
       "    <tr>\n",
       "      <th>395</th>\n",
       "      <td>77</td>\n",
       "    </tr>\n",
       "    <tr>\n",
       "      <th>396</th>\n",
       "      <td>60</td>\n",
       "    </tr>\n",
       "    <tr>\n",
       "      <th>397</th>\n",
       "      <td>83</td>\n",
       "    </tr>\n",
       "    <tr>\n",
       "      <th>398</th>\n",
       "      <td>80</td>\n",
       "    </tr>\n",
       "    <tr>\n",
       "      <th>399</th>\n",
       "      <td>85</td>\n",
       "    </tr>\n",
       "  </tbody>\n",
       "</table>\n",
       "<p>400 rows × 1 columns</p>\n",
       "</div>"
      ],
      "text/plain": [
       "     score\n",
       "0       76\n",
       "1       55\n",
       "2       80\n",
       "3       80\n",
       "4       74\n",
       "..     ...\n",
       "395     77\n",
       "396     60\n",
       "397     83\n",
       "398     80\n",
       "399     85\n",
       "\n",
       "[400 rows x 1 columns]"
      ]
     },
     "execution_count": 153,
     "metadata": {},
     "output_type": "execute_result"
    }
   ],
   "source": [
    "import numpy as np\n",
    "import pandas as pd\n",
    "import matplotlib.pyplot as plt\n",
    "\n",
    "df = pd.read_csv('ch4_scores400.csv')\n",
    "df"
   ]
  },
  {
   "cell_type": "code",
   "execution_count": 154,
   "id": "1e92ce50",
   "metadata": {},
   "outputs": [
    {
     "data": {
      "text/plain": [
       "array([49, 60, 72, 86, 52, 61, 77, 91, 80, 56, 69, 67, 90, 56, 75, 79, 60,\n",
       "       79, 68, 81], dtype=int64)"
      ]
     },
     "execution_count": 154,
     "metadata": {},
     "output_type": "execute_result"
    }
   ],
   "source": [
    "np.random.seed(0)\n",
    "\n",
    "scores = np.array(df['score'])\n",
    "sample = np.random.choice(scores, 20)\n",
    "sample"
   ]
  },
  {
   "cell_type": "code",
   "execution_count": 155,
   "id": "b0e67556",
   "metadata": {},
   "outputs": [
    {
     "data": {
      "text/plain": [
       "70.400"
      ]
     },
     "execution_count": 155,
     "metadata": {},
     "output_type": "execute_result"
    }
   ],
   "source": [
    "sample.mean()"
   ]
  },
  {
   "cell_type": "code",
   "execution_count": 156,
   "id": "436f79b2",
   "metadata": {},
   "outputs": [
    {
     "data": {
      "text/plain": [
       "69.530"
      ]
     },
     "execution_count": 156,
     "metadata": {},
     "output_type": "execute_result"
    }
   ],
   "source": [
    "scores.mean()"
   ]
  },
  {
   "cell_type": "code",
   "execution_count": 157,
   "id": "477876a9",
   "metadata": {},
   "outputs": [
    {
     "data": {
      "text/plain": [
       "array([56, 55, 79, 91, 86, 79, 83, 55, 85, 76, 81, 57, 77, 99, 61, 57, 81,\n",
       "       73, 59, 59], dtype=int64)"
      ]
     },
     "execution_count": 157,
     "metadata": {},
     "output_type": "execute_result"
    }
   ],
   "source": [
    "scores = np.array(df['score'])\n",
    "sample = np.random.choice(scores, 20)\n",
    "sample"
   ]
  },
  {
   "cell_type": "markdown",
   "id": "26f5ead7",
   "metadata": {},
   "source": [
    "### 확률모형\n",
    "- 확률변수: 취하는 값과 그 값이 나올 확률이 결정되어 있는 것\n",
    "    - 사건이 서로 배반이라면, 그 중에 적어도 하나 일어나는 사건은 각 사건의 확률의 합과 같음\n",
    "- 확률분포: 확률변수가 어떻게 움직이는지를 나타냄\n",
    "    - 각 요소의 확률을 지정해주는 함수 np.random.choice(변수, p = 확률정의 변수)"
   ]
  },
  {
   "cell_type": "code",
   "execution_count": 158,
   "id": "2fb96f88",
   "metadata": {},
   "outputs": [],
   "source": [
    "# 주사위 눈과 각 요소가 나올 확률 지정\n",
    "\n",
    "dice = [1, 2, 3, 4, 5, 6]\n",
    "prob = [1/21, 2/21, 3/21, 4/21, 5/21, 6/21]"
   ]
  },
  {
   "cell_type": "code",
   "execution_count": 159,
   "id": "ff0e0fd7",
   "metadata": {},
   "outputs": [
    {
     "data": {
      "text/plain": [
       "array([2, 5, 3, 6, 5, 4, 3, 6, 4, 5, 1, 5, 5, 5, 6, 5, 4, 4, 5, 2, 5, 5,\n",
       "       3, 2, 4, 4, 5, 4, 6, 2, 3, 3, 5, 3, 4, 3, 3, 2, 5, 2, 3, 4, 6, 2,\n",
       "       6, 2, 6, 4, 6, 5, 6, 1, 3, 2, 4, 2, 4, 4, 2, 5, 5, 3, 5, 2, 5, 6,\n",
       "       4, 5, 2, 6, 4, 3, 5, 1, 6, 1, 5, 3, 6, 6, 3, 5, 5, 5, 3, 6, 4, 6,\n",
       "       5, 4, 6, 4, 6, 5, 6, 5, 6, 5, 6, 5])"
      ]
     },
     "execution_count": 159,
     "metadata": {},
     "output_type": "execute_result"
    }
   ],
   "source": [
    "# 100개 랜덤추출\n",
    "\n",
    "num_trial = 100\n",
    "sample = np.random.choice(dice, num_trial, p = prob)\n",
    "sample"
   ]
  },
  {
   "cell_type": "code",
   "execution_count": 160,
   "id": "97fe8b24",
   "metadata": {
    "scrolled": true
   },
   "outputs": [
    {
     "data": {
      "text/html": [
       "<div>\n",
       "<style scoped>\n",
       "    .dataframe tbody tr th:only-of-type {\n",
       "        vertical-align: middle;\n",
       "    }\n",
       "\n",
       "    .dataframe tbody tr th {\n",
       "        vertical-align: top;\n",
       "    }\n",
       "\n",
       "    .dataframe thead th {\n",
       "        text-align: right;\n",
       "    }\n",
       "</style>\n",
       "<table border=\"1\" class=\"dataframe\">\n",
       "  <thead>\n",
       "    <tr style=\"text-align: right;\">\n",
       "      <th></th>\n",
       "      <th>freq</th>\n",
       "      <th>relative freq</th>\n",
       "    </tr>\n",
       "    <tr>\n",
       "      <th>dice</th>\n",
       "      <th></th>\n",
       "      <th></th>\n",
       "    </tr>\n",
       "  </thead>\n",
       "  <tbody>\n",
       "    <tr>\n",
       "      <th>1</th>\n",
       "      <td>4</td>\n",
       "      <td>0.04</td>\n",
       "    </tr>\n",
       "    <tr>\n",
       "      <th>2</th>\n",
       "      <td>13</td>\n",
       "      <td>0.13</td>\n",
       "    </tr>\n",
       "    <tr>\n",
       "      <th>3</th>\n",
       "      <td>15</td>\n",
       "      <td>0.15</td>\n",
       "    </tr>\n",
       "    <tr>\n",
       "      <th>4</th>\n",
       "      <td>18</td>\n",
       "      <td>0.18</td>\n",
       "    </tr>\n",
       "    <tr>\n",
       "      <th>5</th>\n",
       "      <td>29</td>\n",
       "      <td>0.29</td>\n",
       "    </tr>\n",
       "    <tr>\n",
       "      <th>6</th>\n",
       "      <td>21</td>\n",
       "      <td>0.21</td>\n",
       "    </tr>\n",
       "  </tbody>\n",
       "</table>\n",
       "</div>"
      ],
      "text/plain": [
       "      freq  relative freq\n",
       "dice                     \n",
       "1        4           0.04\n",
       "2       13           0.13\n",
       "3       15           0.15\n",
       "4       18           0.18\n",
       "5       29           0.29\n",
       "6       21           0.21"
      ]
     },
     "execution_count": 160,
     "metadata": {},
     "output_type": "execute_result"
    }
   ],
   "source": [
    "# 각 계급별 도수 및 상대도수 측정\n",
    "freq, _ = np.histogram(sample, bins = 6, range = (1,7))\n",
    "\n",
    "pd.DataFrame({'freq': freq, 'relative freq': freq/num_trial}, \n",
    "              pd.Index(list(range(1,7)), name = 'dice'))"
   ]
  },
  {
   "cell_type": "code",
   "execution_count": 161,
   "id": "5b63d2e6",
   "metadata": {},
   "outputs": [
    {
     "data": {
      "image/png": "[encoded data removed]",
      "text/plain": [
       "<Figure size 720x432 with 1 Axes>"
      ]
     },
     "metadata": {
      "needs_background": "light"
     },
     "output_type": "display_data"
    }
   ],
   "source": [
    "# 히스토그램 그리기\n",
    "\n",
    "fig = plt.figure(figsize = (10,6))\n",
    "ax = fig.add_subplot(111)\n",
    "\n",
    "# 히스토그램 그리기\n",
    "ax.hist(sample, bins = 6, range = (1,7), density = True, rwidth = 0.8, color = 'salmon')\n",
    "# ax.hist(sample, bins = 6, range = (1,7), weights = np.ones_like(sample)/len(sample), rwidth = 0.8)\n",
    "\n",
    "# 실제 확률분포 가로선으로 표시\n",
    "ax.hlines(prob, np.arange(1,7), np.arange(2,8), color = 'gray')\n",
    "\n",
    "\n",
    "# 막대그래프의 [1.5,2.5,...,6.5]에 눈금표시하기\n",
    "ax.set_xticks(np.linspace(1.5,6.5,6))  # 눈금 위치\n",
    "ax.set_xticklabels(np.arange(1,7)) # 눈금 내용\n",
    "ax.set_xlabel('Dice')\n",
    "ax.set_ylabel('Relative Frequency')\n",
    "\n",
    "plt.show()"
   ]
  },
  {
   "cell_type": "code",
   "execution_count": 162,
   "id": "aee66711",
   "metadata": {},
   "outputs": [
    {
     "data": {
      "image/png": "[encoded data removed]",
      "text/plain": [
       "<Figure size 720x432 with 1 Axes>"
      ]
     },
     "metadata": {
      "needs_background": "light"
     },
     "output_type": "display_data"
    }
   ],
   "source": [
    "# 10000개 랜덤추출\n",
    "\n",
    "num_trial2 = 10000\n",
    "sample2 = np.random.choice(list(range(1,7)), num_trial2, p = prob)\n",
    "\n",
    "\n",
    "# 시각화\n",
    "fig = plt.figure(figsize = (10,6))\n",
    "ax = fig.add_subplot(111)\n",
    "\n",
    "# 히스토그램 그리기\n",
    "ax.hlines(prob, np.arange(1,7), np.arange(2,8), color = 'gray')\n",
    "ax.set_xticks(np.linspace(1.5, 6.5, 6))\n",
    "ax.set_xticklabels(np.arange(1,7))\n",
    "ax.set_xlabel('Dice')\n",
    "ax.set_ylabel('Relative Frequency')\n",
    "plt.show()"
   ]
  },
  {
   "cell_type": "markdown",
   "id": "f21a9e95",
   "metadata": {},
   "source": [
    "시행횟수를 늘릴 수록 상대도수가 확률분포에 수렴해감"
   ]
  },
  {
   "cell_type": "markdown",
   "id": "31d1f911",
   "metadata": {},
   "source": [
    "### 추측통계의 확률\n",
    "- 무작위추출은 확률분포를 따르는 확률변수의 시행임\n",
    "- 히스토그램의 x 구간(점수)을 세분화하고 y인 상대도수(해당 점수를 얻은 사람 수)를 y축으로 두면, 이 히스토그램을 모집단의 확률분포로 간주할 수 있음 "
   ]
  },
  {
   "cell_type": "code",
   "execution_count": 163,
   "id": "8ee34cd4",
   "metadata": {},
   "outputs": [
    {
     "data": {
      "image/png": "[encoded data removed]",
      "text/plain": [
       "<Figure size 720x432 with 1 Axes>"
      ]
     },
     "metadata": {
      "needs_background": "light"
     },
     "output_type": "display_data"
    }
   ],
   "source": [
    "# 400개의 성적을 가지고 히스토그램(확률분포) 만들기\n",
    "\n",
    "fig = plt.figure(figsize = (10,6))\n",
    "ax = fig.add_subplot(111)\n",
    "\n",
    "# 계급폭을 1로 하는 히스토그램 그리기\n",
    "ax.hist(scores, bins = 100, range = (0,100), density = True, color = 'purple')\n",
    "\n",
    "# x, y축 구간 제한\n",
    "ax.set_xlim(20,110)\n",
    "ax.set_ylim(0,0.042)\n",
    "\n",
    "ax.set_xlabel('Score')\n",
    "ax.set_ylabel('Relative Frequency')\n",
    "\n",
    "plt.show()"
   ]
  },
  {
   "cell_type": "code",
   "execution_count": 164,
   "id": "943eb29e",
   "metadata": {},
   "outputs": [
    {
     "data": {
      "image/png": "[encoded data removed]",
      "text/plain": [
       "<Figure size 720x432 with 1 Axes>"
      ]
     },
     "metadata": {
      "needs_background": "light"
     },
     "output_type": "display_data"
    }
   ],
   "source": [
    "# 점수 표본의 크기를 늘리기\n",
    "\n",
    "sample = np.random.choice(scores, 10000)\n",
    "\n",
    "fig = plt.figure(figsize = (10,6))\n",
    "ax = fig.add_subplot(111)\n",
    "\n",
    "ax.hist(sample, bins = 100, range = (0,100), density = True, color = 'lightgray')\n",
    "\n",
    "ax.set_xlim(20,110)\n",
    "ax.set_ylim(0,0.05)\n",
    "ax.set_xlabel('Score')\n",
    "ax.set_ylabel('Relative Frequency')\n",
    "\n",
    "plt.show()"
   ]
  },
  {
   "cell_type": "markdown",
   "id": "1aa374a7",
   "metadata": {},
   "source": [
    "표본수를 늘려도 히스토그램의 실제 점수 분포에 매우 가까운 형태로 나타남"
   ]
  },
  {
   "cell_type": "code",
   "execution_count": 165,
   "id": "1655dec6",
   "metadata": {},
   "outputs": [
    {
     "data": {
      "image/png": "[encoded data removed]",
      "text/plain": [
       "<Figure size 720x432 with 1 Axes>"
      ]
     },
     "metadata": {
      "needs_background": "light"
     },
     "output_type": "display_data"
    }
   ],
   "source": [
    "# 무작위추출로 표본크기가 20인 표본을 추출하여 표본평균을 계산\n",
    "\n",
    "sample_means = [np.random.choice(scores, 20).mean() for _ in range(10000)]\n",
    "\n",
    "fig = plt.figure(figsize = (10,6))\n",
    "ax = fig.add_subplot(111)\n",
    "ax.hist(sample_means, bins = 100, range = (0,100), density = True, color = 'lightblue')\n",
    "\n",
    "# 모평균을 세로선으로 표시\n",
    "ax.vlines(np.mean(scores),0,1, color ='black')\n",
    "\n",
    "ax.set_xlim(50,90)\n",
    "ax.set_ylim(0,0.15)\n",
    "ax.set_xlabel('Score')\n",
    "ax.set_ylabel('Relative Frequency')\n",
    "\n",
    "plt.show()"
   ]
  },
  {
   "cell_type": "markdown",
   "id": "3f213323",
   "metadata": {},
   "source": [
    "- 표본평균은 산포도 그자체로, 모평균을 중심으로 분포하는 것을 알 수 있음\n",
    "- 무작위추출에 의한 표본평균으로 모평균을 추측할 수 있는 근거가 됨"
   ]
  },
  {
   "cell_type": "markdown",
   "id": "07837a78",
   "metadata": {},
   "source": [
    "### 과제"
   ]
  },
  {
   "cell_type": "markdown",
   "id": "f199d25f",
   "metadata": {},
   "source": [
    "#### 적절한 데이터를 생성하고 polyfit을 이용\n",
    "하여 2,3차 방정식을 만든 후 산점도 및 회귀식을 시각화하여 의미를 해석하기\n",
    "\n",
    "<img src = \"https://t1.daumcdn.net/cfile/blog/99FBA44C5AD897502E\" width = 300>"
   ]
  },
  {
   "cell_type": "code",
   "execution_count": 166,
   "id": "27b514f5",
   "metadata": {},
   "outputs": [
    {
     "data": {
      "text/html": [
       "<div>\n",
       "<style scoped>\n",
       "    .dataframe tbody tr th:only-of-type {\n",
       "        vertical-align: middle;\n",
       "    }\n",
       "\n",
       "    .dataframe tbody tr th {\n",
       "        vertical-align: top;\n",
       "    }\n",
       "\n",
       "    .dataframe thead th {\n",
       "        text-align: right;\n",
       "    }\n",
       "</style>\n",
       "<table border=\"1\" class=\"dataframe\">\n",
       "  <thead>\n",
       "    <tr style=\"text-align: right;\">\n",
       "      <th></th>\n",
       "      <th>sepal length (cm)</th>\n",
       "      <th>sepal width (cm)</th>\n",
       "      <th>petal length (cm)</th>\n",
       "      <th>petal width (cm)</th>\n",
       "    </tr>\n",
       "  </thead>\n",
       "  <tbody>\n",
       "    <tr>\n",
       "      <th>0</th>\n",
       "      <td>5.1</td>\n",
       "      <td>3.5</td>\n",
       "      <td>1.4</td>\n",
       "      <td>0.2</td>\n",
       "    </tr>\n",
       "    <tr>\n",
       "      <th>1</th>\n",
       "      <td>4.9</td>\n",
       "      <td>3.0</td>\n",
       "      <td>1.4</td>\n",
       "      <td>0.2</td>\n",
       "    </tr>\n",
       "    <tr>\n",
       "      <th>2</th>\n",
       "      <td>4.7</td>\n",
       "      <td>3.2</td>\n",
       "      <td>1.3</td>\n",
       "      <td>0.2</td>\n",
       "    </tr>\n",
       "    <tr>\n",
       "      <th>3</th>\n",
       "      <td>4.6</td>\n",
       "      <td>3.1</td>\n",
       "      <td>1.5</td>\n",
       "      <td>0.2</td>\n",
       "    </tr>\n",
       "    <tr>\n",
       "      <th>4</th>\n",
       "      <td>5.0</td>\n",
       "      <td>3.6</td>\n",
       "      <td>1.4</td>\n",
       "      <td>0.2</td>\n",
       "    </tr>\n",
       "    <tr>\n",
       "      <th>...</th>\n",
       "      <td>...</td>\n",
       "      <td>...</td>\n",
       "      <td>...</td>\n",
       "      <td>...</td>\n",
       "    </tr>\n",
       "    <tr>\n",
       "      <th>145</th>\n",
       "      <td>6.7</td>\n",
       "      <td>3.0</td>\n",
       "      <td>5.2</td>\n",
       "      <td>2.3</td>\n",
       "    </tr>\n",
       "    <tr>\n",
       "      <th>146</th>\n",
       "      <td>6.3</td>\n",
       "      <td>2.5</td>\n",
       "      <td>5.0</td>\n",
       "      <td>1.9</td>\n",
       "    </tr>\n",
       "    <tr>\n",
       "      <th>147</th>\n",
       "      <td>6.5</td>\n",
       "      <td>3.0</td>\n",
       "      <td>5.2</td>\n",
       "      <td>2.0</td>\n",
       "    </tr>\n",
       "    <tr>\n",
       "      <th>148</th>\n",
       "      <td>6.2</td>\n",
       "      <td>3.4</td>\n",
       "      <td>5.4</td>\n",
       "      <td>2.3</td>\n",
       "    </tr>\n",
       "    <tr>\n",
       "      <th>149</th>\n",
       "      <td>5.9</td>\n",
       "      <td>3.0</td>\n",
       "      <td>5.1</td>\n",
       "      <td>1.8</td>\n",
       "    </tr>\n",
       "  </tbody>\n",
       "</table>\n",
       "<p>150 rows × 4 columns</p>\n",
       "</div>"
      ],
      "text/plain": [
       "     sepal length (cm)  sepal width (cm)  petal length (cm)  petal width (cm)\n",
       "0                  5.1               3.5                1.4               0.2\n",
       "1                  4.9               3.0                1.4               0.2\n",
       "2                  4.7               3.2                1.3               0.2\n",
       "3                  4.6               3.1                1.5               0.2\n",
       "4                  5.0               3.6                1.4               0.2\n",
       "..                 ...               ...                ...               ...\n",
       "145                6.7               3.0                5.2               2.3\n",
       "146                6.3               2.5                5.0               1.9\n",
       "147                6.5               3.0                5.2               2.0\n",
       "148                6.2               3.4                5.4               2.3\n",
       "149                5.9               3.0                5.1               1.8\n",
       "\n",
       "[150 rows x 4 columns]"
      ]
     },
     "metadata": {},
     "output_type": "display_data"
    },
    {
     "name": "stdout",
     "output_type": "stream",
     "text": [
      "       petal length (cm)  petal width (cm)\n",
      "count         150.000000        150.000000\n",
      "mean            3.758000          1.199333\n",
      "std             1.765298          0.762238\n",
      "min             1.000000          0.100000\n",
      "25%             1.600000          0.300000\n",
      "50%             4.350000          1.300000\n",
      "75%             5.100000          1.800000\n",
      "max             6.900000          2.500000\n",
      "=======================================================\n",
      "2차 회귀 방정식 Y = B0 + B1x + B2x^2: \n",
      "\n",
      "Y = 0.68+3.45X+-0.53X^2\n",
      "=======================================================\n",
      "3차 회귀 방정식 Y = B0 + B1x + B2x^2 + B3x^3: \n",
      "\n",
      "Y = 1.10+1.15X+1.71X^2 + -0.58X^3\n",
      "=======================================================\n"
     ]
    },
    {
     "data": {
      "image/png": "[encoded data removed]",
      "text/plain": [
       "<Figure size 1080x504 with 2 Axes>"
      ]
     },
     "metadata": {
      "needs_background": "light"
     },
     "output_type": "display_data"
    }
   ],
   "source": [
    "from sklearn.datasets import load_iris \n",
    "import matplotlib.pyplot as plt\n",
    "import pandas as pd\n",
    "import numpy as np\n",
    "\n",
    "# 꽃잎 길이, 폭 데이터 추출\n",
    "iris = load_iris() \n",
    "df = pd.DataFrame(data = iris.data, columns = iris.feature_names)\n",
    "display(df)\n",
    "petal = df[['petal length (cm)', 'petal width (cm)']]\n",
    "# display(petal)\n",
    "print(petal.describe())\n",
    "\n",
    "\n",
    "print('=======================================================')\n",
    "# 2차원 회귀방정식 만들기\n",
    "## 회귀계수 생성\n",
    "poly2d = np.polyfit(petal.iloc[:,1], petal.iloc[:,0], 2)\n",
    "\n",
    "B0, B1, B2 = poly2d[2], poly2d[1], poly2d[0]\n",
    "\n",
    "## 회귀방정식\n",
    "print(f'2차 회귀 방정식 Y = B0 + B1x + B2x^2: \\n')\n",
    "print(f'Y = {B0:.2f}+{B1:.2f}X+{B2:.2f}X^2')\n",
    "\n",
    "\n",
    "# 시각화\n",
    "fig = plt.figure(figsize = (15,7))\n",
    "ax1 = fig.add_subplot(1,2,1)\n",
    "\n",
    "## 산점도 그리기\n",
    "ax1.scatter(petal.iloc[:,1], petal.iloc[:,0], color = 'pink')\n",
    "\n",
    "## 회귀선 그리기\n",
    "x = np.linspace(0,2.5,100)\n",
    "y_pred = B0 + B1 * x + B2 * x**2\n",
    "ax1.plot(x, y_pred, color = 'red')\n",
    "\n",
    "\n",
    "print('=======================================================')\n",
    "# 3차원 회귀방정식 만들기\n",
    "## 회귀계수 생성\n",
    "poly3d = np.polyfit(petal.iloc[:,1],petal.iloc[:,0], 3)\n",
    "\n",
    "B0, B1, B2, B3 = poly3d[3], poly3d[2], poly3d[1], poly3d[0]\n",
    "\n",
    "## 회귀방정식 생성\n",
    "print(f'3차 회귀 방정식 Y = B0 + B1x + B2x^2 + B3x^3: \\n')\n",
    "print(f'Y = {B0:.2f}+{B1:.2f}X+{B2:.2f}X^2 + {B3:.2f}X^3')\n",
    "\n",
    "# 시각화\n",
    "ax2 = fig.add_subplot(1,2,2)\n",
    "\n",
    "## 산점도 그리기\n",
    "ax2.scatter(petal.iloc[:,1], petal.iloc[:,0], color = 'lightblue')\n",
    "\n",
    "## 회귀선 그리기\n",
    "x = np.linspace(0,2.5,100)\n",
    "y_pred = B0 + B1 * x + B2 * x**2 + B3 * x**3\n",
    "ax2.plot(x, y_pred, color = 'blue')\n",
    "\n",
    "print('=======================================================')"
   ]
  },
  {
   "cell_type": "markdown",
   "id": "529ed210",
   "metadata": {},
   "source": [
    "#### 표본평균은 모평균을 중심으로 분포\n",
    "어떤 모집단에서 표본을 랜덤하게 추출하여 표본평균을 구하면 그 표본평균은 모평균을 중심으로 분포한다 라는 주장을 사례를 만들어서 설득력있게 설명하기"
   ]
  },
  {
   "cell_type": "code",
   "execution_count": 167,
   "id": "437658ef",
   "metadata": {},
   "outputs": [
    {
     "name": "stdout",
     "output_type": "stream",
     "text": [
      "[51.56666666666667, 62.43333333333333, 61.166666666666664, 57.03333333333333, 57.8, 61.96666666666667, 55.86666666666667, 62.13333333333333, 61.06666666666667, 56.13333333333333, 60.0, 51.63333333333333, 49.9, 57.0, 63.36666666666667, 61.8, 52.86666666666667, 58.93333333333333, 55.5, 60.6]\n"
     ]
    },
    {
     "data": {
      "image/png": "[encoded data removed]",
      "text/plain": [
       "<Figure size 720x360 with 1 Axes>"
      ]
     },
     "metadata": {
      "needs_background": "light"
     },
     "output_type": "display_data"
    }
   ],
   "source": [
    "np.random.seed(0)\n",
    "\n",
    "scores = np.random.randint(20,100, 400)\n",
    "\n",
    "f'랜덤 생성된 데이터의 평균(모평균):{scores.mean()}'\n",
    "\n",
    "# 10000개의 표본의 평균 생성\n",
    "scores_n = [np.random.choice(scores, 30).mean() for _ in range(10000)]\n",
    "print(scores_n[:20])\n",
    "# 시각화\n",
    "fig = plt.figure(figsize = (10,5))\n",
    "ax = fig.add_subplot(111)\n",
    "\n",
    "## 히스토그램\n",
    "ax.hist(scores_n, bins = 80, range = (20,100), density = True, color = 'lightgreen')\n",
    "\n",
    "## 모평균 수직선\n",
    "ax.vlines(scores.mean(), 0,1, color = 'black')\n",
    "\n",
    "ax.set_xlim(40,80)\n",
    "ax.set_ylim(0,0.125)\n",
    "ax.set_xticks(np.arange(40,80,2))\n",
    "\n",
    "plt.show()\n",
    "\n",
    "# 표본평균은 산포도 그자체로, 모평균을 중심으로 분포하는 것을 알 수 있음\n",
    "# 무작위추출에 의한 표본평균으로 모평균을 추측할 수 있는 근거가 됨"
   ]
  },
  {
   "cell_type": "markdown",
   "id": "39debd7b",
   "metadata": {},
   "source": [
    "## 이산형 확률변수"
   ]
  },
  {
   "cell_type": "markdown",
   "id": "ba8dbea8",
   "metadata": {},
   "source": [
    "### 1차원 이산형 확률변수"
   ]
  },
  {
   "cell_type": "markdown",
   "id": "79ecb8f1",
   "metadata": {},
   "source": [
    "#### 확률질량함수"
   ]
  },
  {
   "cell_type": "code",
   "execution_count": 168,
   "id": "0db2a5c5",
   "metadata": {},
   "outputs": [
    {
     "data": {
      "text/plain": [
       "'%.3f'"
      ]
     },
     "execution_count": 168,
     "metadata": {},
     "output_type": "execute_result"
    }
   ],
   "source": [
    "import numpy as np\n",
    "import matplotlib.pyplot as plt\n",
    "\n",
    "%precision 3"
   ]
  },
  {
   "cell_type": "code",
   "execution_count": 169,
   "id": "1b873a7f",
   "metadata": {},
   "outputs": [
    {
     "data": {
      "text/plain": [
       "(array([0.048, 0.095, 0.143, 0.19 , 0.238, 0.286]),\n",
       " array([0.286, 0.238, 0.19 , 0.143, 0.095, 0.048]))"
      ]
     },
     "execution_count": 169,
     "metadata": {},
     "output_type": "execute_result"
    }
   ],
   "source": [
    "# 주사위 눈에 따라 확률이 달라지는 확률변수 만들기\n",
    "\n",
    "# X 지정\n",
    "x_set = np.array([1,2,3,4,5,6])\n",
    "\n",
    "# P(X) 지정\n",
    "def f(x):\n",
    "    if x in x_set:\n",
    "        return x / 21\n",
    "    else:\n",
    "        return 0\n",
    "\n",
    "prob = np.array([f(x_k) for x_k in x_set])\n",
    "prob2 = np.array([f(7-x_k) for x_k in x_set])\n",
    "prob, prob2"
   ]
  },
  {
   "cell_type": "code",
   "execution_count": 170,
   "id": "1996a8e9",
   "metadata": {},
   "outputs": [
    {
     "data": {
      "image/png": "[encoded data removed]",
      "text/plain": [
       "<Figure size 720x360 with 1 Axes>"
      ]
     },
     "metadata": {
      "needs_background": "light"
     },
     "output_type": "display_data"
    }
   ],
   "source": [
    "import seaborn as sns\n",
    "import matplotlib.pyplot as plt\n",
    "import warnings\n",
    "warnings.filterwarnings('ignore')\n",
    "\n",
    "plt.figure(figsize = (10,5))\n",
    "sns.barplot(x_set, prob, color = 'salmon')\n",
    "plt.title('Bar Graph', fontsize = 30)\n",
    "\n",
    "plt.show()"
   ]
  },
  {
   "cell_type": "code",
   "execution_count": 171,
   "id": "70b3c35c",
   "metadata": {},
   "outputs": [
    {
     "data": {
      "text/plain": [
       "[0.048, 0.143, 0.286, 0.476, 0.714, 1.000]"
      ]
     },
     "execution_count": 171,
     "metadata": {},
     "output_type": "execute_result"
    }
   ],
   "source": [
    "# 누적분포함수 만들기(확률변수-> 누적확률)\n",
    "\n",
    "x_set = np.array([1,2,3,4,5,6])\n",
    "\n",
    "def F(x):\n",
    "    return np.sum(f(x_k) for x_k in x_set if x_k <= x)\n",
    "\n",
    "\n",
    "cum = []\n",
    "for i in range(1,7):\n",
    "    cum.append(F(i))\n",
    "cum"
   ]
  },
  {
   "cell_type": "code",
   "execution_count": 172,
   "id": "bd9fb969",
   "metadata": {},
   "outputs": [
    {
     "data": {
      "text/plain": [
       "{5: 0.048, 7: 0.095, 9: 0.143, 11: 0.190, 13: 0.238, 15: 0.286}"
      ]
     },
     "execution_count": 172,
     "metadata": {},
     "output_type": "execute_result"
    }
   ],
   "source": [
    "# 확률변수의 변환\n",
    "## 확률변수 x에 2를 곱하고 3을 더한 2x + 3 역시 확률변수가 됨\n",
    "\n",
    "y_set = np.array([2 * x_k + 3 for x_k in x_set])\n",
    "prob = np.array([f(x_k) for x_k in x_set])\n",
    "\n",
    "## 딕셔너리형태로 변형\n",
    "dict(zip(y_set, prob))"
   ]
  },
  {
   "cell_type": "markdown",
   "id": "d3531a7c",
   "metadata": {},
   "source": [
    "#### 1차원 이산형 확률변수의 지표"
   ]
  },
  {
   "cell_type": "markdown",
   "id": "8c69d655",
   "metadata": {},
   "source": [
    "이산형 확률변수의 경우\n",
    "- 기댓값 = 확률변수의 평균\n",
    "    1. 확률변수를 몇 번이나 무제한으로 시행하여 얻어진 실현값의 평균임\n",
    "    2. 확률변수가 취할 수 있는 값과 그 확률의 곱의 총합\n",
    "    "
   ]
  },
  {
   "cell_type": "markdown",
   "id": "16e6d9a7",
   "metadata": {},
   "source": [
    "<b>1. 확률값이 일어날 확률이 <span style = \"color :red\"> 동일한</span> 경우</b>"
   ]
  },
  {
   "cell_type": "code",
   "execution_count": 173,
   "id": "c8978e85",
   "metadata": {},
   "outputs": [
    {
     "data": {
      "text/plain": [
       "3.500"
      ]
     },
     "execution_count": 173,
     "metadata": {},
     "output_type": "execute_result"
    }
   ],
   "source": [
    "# 확률변수를 공식으로 기댓값 계산하기\n",
    "\n",
    "np.sum([x_k * 1/len(x_set) for x_k in x_set])"
   ]
  },
  {
   "cell_type": "code",
   "execution_count": 174,
   "id": "bf7abd2f",
   "metadata": {},
   "outputs": [
    {
     "name": "stdout",
     "output_type": "stream",
     "text": [
      "표본을 백만개 뽑았을 때: 3.4959\n",
      "표본을 천만개 뽑았을 때: 3.4992\n",
      "표본을 일억개 뽑았을 때: 3.5002\n"
     ]
    }
   ],
   "source": [
    "# 무제한으로 표본을 뽑고 평균 계산해보기\n",
    "\n",
    "sample = np.random.choice(x_set, int(1e6))\n",
    "print(f'표본을 백만개 뽑았을 때: {sample.mean():.4f}')\n",
    "\n",
    "sample = np.random.choice(x_set, int(1e7))\n",
    "print(f'표본을 천만개 뽑았을 때: {sample.mean():.4f}')\n",
    "\n",
    "sample = np.random.choice(x_set, int(1e8))\n",
    "print(f'표본을 일억개 뽑았을 때: {sample.mean():.4f}')\n"
   ]
  },
  {
   "cell_type": "markdown",
   "id": "19db55fa",
   "metadata": {},
   "source": [
    "<b>2. 확률값이 일어날 확률이 <span style = \"color :red\"> 다른</span> 경우</b>"
   ]
  },
  {
   "cell_type": "code",
   "execution_count": 175,
   "id": "7977de3c",
   "metadata": {},
   "outputs": [
    {
     "data": {
      "text/plain": [
       "(4.333, 2.667)"
      ]
     },
     "execution_count": 175,
     "metadata": {},
     "output_type": "execute_result"
    }
   ],
   "source": [
    "# 공식으로 기댓값 계산하기\n",
    "\n",
    "# X값에 대해 확률을 오름차순 지정\n",
    "ex1 = np.sum([x_k * f(x_k) for x_k in x_set])\n",
    "\n",
    "# X값에 대해 확률을 내림차순 지정\n",
    "ex2 = np.sum([x_k * f(7-x_k) for x_k in x_set])\n",
    "ex1, ex2"
   ]
  },
  {
   "cell_type": "code",
   "execution_count": 176,
   "id": "dd474f20",
   "metadata": {},
   "outputs": [
    {
     "name": "stdout",
     "output_type": "stream",
     "text": [
      "표본을 백만개 뽑았을 때: 4.3341\n",
      "표본을 천만개 뽑았을 때: 4.3331\n",
      "표본을 일억개 뽑았을 때: 4.3333\n",
      "\n",
      "\n",
      "\n",
      "표본을 백만개 뽑았을 때: 2.6669\n",
      "표본을 천만개 뽑았을 때: 2.6663\n",
      "표본을 일억개 뽑았을 때: 2.6667\n"
     ]
    }
   ],
   "source": [
    "# 무제한으로 표본을 뽑고 평균 계산해보기\n",
    "\n",
    "## X값 올라갈 수록 확률 올라감\n",
    "sample = np.random.choice(x_set, int(1e6), p = prob)\n",
    "print(f'표본을 백만개 뽑았을 때: {sample.mean():.4f}')\n",
    "\n",
    "sample = np.random.choice(x_set, int(1e7), p = prob)\n",
    "print(f'표본을 천만개 뽑았을 때: {sample.mean():.4f}')\n",
    "\n",
    "sample = np.random.choice(x_set, int(1e8), p = prob)\n",
    "print(f'표본을 일억개 뽑았을 때: {sample.mean():.4f}')\n",
    "\n",
    "print('\\n\\n')\n",
    "\n",
    "\n",
    "## X값 올라갈 수록 확률 내려감\n",
    "sample = np.random.choice(x_set, int(1e6), p = prob2)\n",
    "print(f'표본을 백만개 뽑았을 때: {sample.mean():.4f}')\n",
    "\n",
    "sample = np.random.choice(x_set, int(1e7), p = prob2)\n",
    "print(f'표본을 천만개 뽑았을 때: {sample.mean():.4f}')\n",
    "\n",
    "sample = np.random.choice(x_set, int(1e8), p = prob2)\n",
    "print(f'표본을 일억개 뽑았을 때: {sample.mean():.4f}')"
   ]
  },
  {
   "cell_type": "markdown",
   "id": "655aa611",
   "metadata": {},
   "source": [
    "표본을 뽑아서 계산한 평균값과 공식을 활용해 계산한 값이 거의 일치함"
   ]
  },
  {
   "cell_type": "markdown",
   "id": "4cd60752",
   "metadata": {},
   "source": [
    "#### 기댓값 일반화 식 만들기"
   ]
  },
  {
   "cell_type": "code",
   "execution_count": 177,
   "id": "565cbd63",
   "metadata": {},
   "outputs": [],
   "source": [
    "# X값\n",
    "x_set = np.array([1,2,3,4,5,6])\n",
    "\n",
    "# X값에 해당하는 확률 함수 지정\n",
    "def f(x):\n",
    "    if x in x_set:\n",
    "        return x / 21\n",
    "    else:\n",
    "        return 0\n",
    "\n",
    "# (X dataset과 X에 부여할 확률값를 지정해주는 함수) SET 만들기\n",
    "X = x_set, f"
   ]
  },
  {
   "cell_type": "markdown",
   "id": "d771db19",
   "metadata": {},
   "source": [
    "- <b> 1. E(X) </b>"
   ]
  },
  {
   "cell_type": "code",
   "execution_count": 178,
   "id": "c69873b4",
   "metadata": {},
   "outputs": [],
   "source": [
    "# 기댓값 함수 생성\n",
    "## 인자1: X dataset과 X에 부여할 확률값를 지정해주는 함수\n",
    "## 인자2: X의 형태\n",
    "\n",
    "def E(X, g = lambda x: x):\n",
    "    x_set, f = X\n",
    "    return np.sum([g(x_k) * f(x_k) for x_k in x_set])"
   ]
  },
  {
   "cell_type": "code",
   "execution_count": 179,
   "id": "5cd76a59",
   "metadata": {},
   "outputs": [
    {
     "data": {
      "text/plain": [
       "4.333"
      ]
     },
     "execution_count": 179,
     "metadata": {},
     "output_type": "execute_result"
    }
   ],
   "source": [
    "E(X, g = lambda x: x)"
   ]
  },
  {
   "cell_type": "code",
   "execution_count": 180,
   "id": "2dafeeae",
   "metadata": {},
   "outputs": [
    {
     "data": {
      "text/plain": [
       "4.333"
      ]
     },
     "execution_count": 180,
     "metadata": {},
     "output_type": "execute_result"
    }
   ],
   "source": [
    "E(X)"
   ]
  },
  {
   "cell_type": "markdown",
   "id": "e05fa99f",
   "metadata": {},
   "source": [
    "- <b> 1_2. E(2X + 3) <b>"
   ]
  },
  {
   "cell_type": "code",
   "execution_count": 181,
   "id": "d24e1c13",
   "metadata": {},
   "outputs": [
    {
     "data": {
      "text/plain": [
       "11.667"
      ]
     },
     "execution_count": 181,
     "metadata": {},
     "output_type": "execute_result"
    }
   ],
   "source": [
    "E(X, g = lambda x: 2*x+3)"
   ]
  },
  {
   "cell_type": "markdown",
   "id": "476a8f62",
   "metadata": {},
   "source": [
    "#### 분산 일반화 식 만들기"
   ]
  },
  {
   "cell_type": "code",
   "execution_count": 182,
   "id": "db1c0623",
   "metadata": {},
   "outputs": [
    {
     "data": {
      "text/plain": [
       "2.222"
      ]
     },
     "execution_count": 182,
     "metadata": {},
     "output_type": "execute_result"
    }
   ],
   "source": [
    "mean = E(X)\n",
    "np.sum([(x_k - mean)**2*f(x_k) for x_k in x_set])"
   ]
  },
  {
   "cell_type": "markdown",
   "id": "e9ba5d29",
   "metadata": {},
   "source": [
    "- <b> 2. V(X) <b>"
   ]
  },
  {
   "cell_type": "code",
   "execution_count": 183,
   "id": "3f09c5f0",
   "metadata": {},
   "outputs": [],
   "source": [
    "# 분산값 함수 생성\n",
    "## 인자1: X dataset과 X에 부여할 확률값를 지정해주는 함수\n",
    "## 인자2: X의 형태\n",
    "\n",
    "def V(X, g = lambda x: x):\n",
    "    x_set, f = X\n",
    "    mean = E(X,g)\n",
    "    return np.sum([(g(x_k) - mean)**2*f(x_k) for x_k in x_set])"
   ]
  },
  {
   "cell_type": "code",
   "execution_count": 184,
   "id": "d80e3e5b",
   "metadata": {
    "scrolled": true
   },
   "outputs": [
    {
     "data": {
      "text/plain": [
       "2.222"
      ]
     },
     "execution_count": 184,
     "metadata": {},
     "output_type": "execute_result"
    }
   ],
   "source": [
    "V(X)"
   ]
  },
  {
   "cell_type": "markdown",
   "id": "b8355eaf",
   "metadata": {},
   "source": [
    "<b> 2. V(2X + 3) <b>"
   ]
  },
  {
   "cell_type": "code",
   "execution_count": 185,
   "id": "306b3d53",
   "metadata": {
    "scrolled": true
   },
   "outputs": [
    {
     "data": {
      "text/plain": [
       "8.889"
      ]
     },
     "execution_count": 185,
     "metadata": {},
     "output_type": "execute_result"
    }
   ],
   "source": [
    "V(X, g = lambda x: 2*x+3)"
   ]
  },
  {
   "cell_type": "code",
   "execution_count": 186,
   "id": "f38f7c23",
   "metadata": {},
   "outputs": [
    {
     "data": {
      "text/plain": [
       "8.889"
      ]
     },
     "execution_count": 186,
     "metadata": {},
     "output_type": "execute_result"
    }
   ],
   "source": [
    "2**2*V(X)"
   ]
  },
  {
   "cell_type": "markdown",
   "id": "536882bd",
   "metadata": {},
   "source": [
    "### 2차원 이산형 확률변수의 지표\n",
    "- 1차원 확률분포 2개를 동시에 다룸"
   ]
  },
  {
   "cell_type": "markdown",
   "id": "55118f1b",
   "metadata": {},
   "source": [
    "#### 결합확률분포\n",
    "\n",
    "- 확률변수의 움직임은 취할 수 있는 값의 조합으로 이루어진 집합과 그 확률에 의해 정해짐\n",
    "- 확률변수 (X,Y)의 움직임을 동시에 고려한 분포\n",
    "    - <b>{(xi, yi)| i = 1,2,...;, j = 1,2,...;}</b>\n",
    "    - <b>P(X = xi, Y = yi) = pij      (i = 1,2,...;, j = 1,2,...;)</b>\n",
    "    - <b>1. ΣΣFxy(xi,yj) = 1</b>, <b>2. Fxy(xi,yj) >0 을 만족해야함</b> \n",
    "    \n",
    "\n",
    "    - EX) \n",
    "     \n",
    "     \n",
    "         X: A주사위 눈 + B주사위 눈,    Y: A주사위 눈\n",
    "         \n",
    "         X = {2,3,4,5,6,7,8,9,10,11,12}\n",
    "         Y = {1,2,3,4,5,6}\n",
    "         \n",
    "         만약 x가 9이고 y가 4라면 A주사위가 4, B주사위가 5인 결합확률을 구하는 것. \n",
    "         즉, 4/21 * 5/21 = 20/441\n",
    "         \n",
    "         따라서,\n",
    "         Fxy(x,y) = y(x-y)/441 (y in {1,2,3,4,5,6}, x-y in {1,2,3,4,5,6}\n",
    "                  = 0          (otherwise)"
   ]
  },
  {
   "cell_type": "code",
   "execution_count": 187,
   "id": "37260287",
   "metadata": {},
   "outputs": [],
   "source": [
    "# x값, y값 지정\n",
    "x_set = np.arange(2,13)\n",
    "y_set = np.arange(1,7)\n",
    "\n",
    "# 결합확률값 지정\n",
    "def f_XY(x,y):\n",
    "    if 1 <= y <=6 and 1 <= x-y <= 6:\n",
    "        return y * (x-y) / 441\n",
    "    else:\n",
    "        return 0\n",
    "    \n",
    "# (X dataset, Y dataset 과 X,y에 부여할 결합확률값를 지정해주는 함수) SET 만들기\n",
    "XY = [x_set, y_set, f_XY]"
   ]
  },
  {
   "cell_type": "code",
   "execution_count": 188,
   "id": "e1f40de3",
   "metadata": {},
   "outputs": [
    {
     "data": {
      "text/plain": [
       "[array([ 2,  3,  4,  5,  6,  7,  8,  9, 10, 11, 12]),\n",
       " array([1, 2, 3, 4, 5, 6]),\n",
       " <function __main__.f_XY(x, y)>]"
      ]
     },
     "execution_count": 188,
     "metadata": {},
     "output_type": "execute_result"
    }
   ],
   "source": [
    "XY"
   ]
  },
  {
   "cell_type": "code",
   "execution_count": 189,
   "id": "7b01a792",
   "metadata": {
    "scrolled": true
   },
   "outputs": [
    {
     "data": {
      "text/plain": [
       "array([[0.002, 0.   , 0.   , 0.   , 0.   , 0.   ],\n",
       "       [0.005, 0.005, 0.   , 0.   , 0.   , 0.   ],\n",
       "       [0.007, 0.009, 0.007, 0.   , 0.   , 0.   ],\n",
       "       [0.009, 0.014, 0.014, 0.009, 0.   , 0.   ],\n",
       "       [0.011, 0.018, 0.02 , 0.018, 0.011, 0.   ],\n",
       "       [0.014, 0.023, 0.027, 0.027, 0.023, 0.014],\n",
       "       [0.   , 0.027, 0.034, 0.036, 0.034, 0.027],\n",
       "       [0.   , 0.   , 0.041, 0.045, 0.045, 0.041],\n",
       "       [0.   , 0.   , 0.   , 0.054, 0.057, 0.054],\n",
       "       [0.   , 0.   , 0.   , 0.   , 0.068, 0.068],\n",
       "       [0.   , 0.   , 0.   , 0.   , 0.   , 0.082]])"
      ]
     },
     "execution_count": 189,
     "metadata": {},
     "output_type": "execute_result"
    }
   ],
   "source": [
    "prob = np.array([[f_XY(x_i, y_j) for y_j in y_set] for x_i in x_set])\n",
    "prob"
   ]
  },
  {
   "cell_type": "code",
   "execution_count": 190,
   "id": "093e0005",
   "metadata": {},
   "outputs": [
    {
     "data": {
      "image/png": "[encoded data removed]",
      "text/plain": [
       "<Figure size 720x576 with 2 Axes>"
      ]
     },
     "metadata": {
      "needs_background": "light"
     },
     "output_type": "display_data"
    }
   ],
   "source": [
    "# 결합분포관련 히트맵 그리기\n",
    "\n",
    "prob = np.array([[f_XY(x_i, y_j) for y_j in y_set] for x_i in x_set])\n",
    "\n",
    "fig = plt.figure(figsize = (10,8))\n",
    "ax = fig.add_subplot(111)\n",
    "\n",
    "# 히트맵\n",
    "c = ax.pcolor(prob)\n",
    "\n",
    "# 눈금 위치 조정\n",
    "ax.set_xticks(np.arange(prob.shape[1]) + 0.5, minor = False)\n",
    "ax.set_yticks(np.arange(prob.shape[0]) + 0.5, minor = False)\n",
    "\n",
    "# 눈금 라벨 조정\n",
    "# ax.set_xticklabels(np.arange(1,7), minor = False) #실제로는 y값\n",
    "ax.set_xticklabels(y_set, minor = False)\n",
    "# ax.set_yticklabels(np.arange(2,13), minor = False) #실제로는 x값\n",
    "ax.set_yticklabels(x_set, minor = False)\n",
    "\n",
    "\n",
    "# y축을 내림차순의 숫자가 되게 하여, 위 아래를 역전시킴\n",
    "ax.invert_yaxis()\n",
    "\n",
    "# x축 눈금을 그래프 위쪽에 표시\n",
    "ax.xaxis.tick_top()\n",
    "\n",
    "fig.colorbar(c, ax=ax)\n",
    "plt.show()"
   ]
  },
  {
   "cell_type": "code",
   "execution_count": 191,
   "id": "f2fc044b",
   "metadata": {},
   "outputs": [
    {
     "data": {
      "text/plain": [
       "True"
      ]
     },
     "execution_count": 191,
     "metadata": {},
     "output_type": "execute_result"
    }
   ],
   "source": [
    "np.all(prob >= 0)"
   ]
  },
  {
   "cell_type": "code",
   "execution_count": 192,
   "id": "83f89d59",
   "metadata": {},
   "outputs": [
    {
     "data": {
      "text/plain": [
       "1.000"
      ]
     },
     "execution_count": 192,
     "metadata": {},
     "output_type": "execute_result"
    }
   ],
   "source": [
    "np.sum(prob)"
   ]
  },
  {
   "cell_type": "markdown",
   "id": "ea62f4a7",
   "metadata": {},
   "source": [
    "#### 주변확률분포\n",
    "- 결합함수 Fxy에서 확률변수 Y가 취할 수 있는 값 모두를 대입하고 y의 영향을 제거한 것이 Fx(x), x의 주변확률분포임\n",
    "    - <b>{(xi, yi)| i = 1,2,...;, j = 1,2,...;}</b>\n",
    "    - <b>P(X = xi, Y = yi) = pij      (i = 1,2,...;, j = 1,2,...;)</b>\n",
    "    - <b>Fx(x) = ΣFxy(x,yi)</b>\n",
    "    - <b>Fy(y) = ΣFxy(xi,y)</b>\n",
    "    \n",
    "\n",
    "    - EX) \n",
    "     \n",
    "     \n",
    "         X: A주사위 눈 + B주사위 눈,    Y: A주사위 눈\n",
    "         \n",
    "         X = {2,3,4,5,6,7,8,9,10,11,12}\n",
    "         Y = {1,2,3,4,5,6}\n",
    "         \n",
    "         만약 x가 9이고 y가 4라면 A주사위가 4, B주사위가 5인 결합확률을 구하는 것. \n",
    "         즉, 4/21 * 5/21 = 20/441\n",
    "         \n",
    "         따라서,\n",
    "         Fxy(x,y) = y(x-y)/441 (y in {1,2,3,4,5,6}, x-y in {1,2,3,4,5,6}\n",
    "                  = 0          (otherwise)"
   ]
  },
  {
   "cell_type": "code",
   "execution_count": 193,
   "id": "63d1b642",
   "metadata": {},
   "outputs": [],
   "source": [
    "# 주변확률값 구하는 함수 생성\n",
    "\n",
    "def f_X(x):\n",
    "    return np.sum([f_XY(x,y_k) for y_k in y_set])\n",
    "\n",
    "def f_Y(y):\n",
    "    return np.sum([f_XY(x_k,y) for x_k in x_set])\n",
    "\n",
    "\n",
    "# (X,Y dataset과 X,Y에 부여할 주변확률값를 지정해주는 함수) SET 만들기\n",
    "X = [x_set, f_X]\n",
    "Y = [y_set, f_Y]"
   ]
  },
  {
   "cell_type": "code",
   "execution_count": 194,
   "id": "b2eba970",
   "metadata": {},
   "outputs": [
    {
     "data": {
      "image/png": "[encoded data removed]",
      "text/plain": [
       "<Figure size 864x288 with 2 Axes>"
      ]
     },
     "metadata": {
      "needs_background": "light"
     },
     "output_type": "display_data"
    }
   ],
   "source": [
    "# 주변확률분포 막대그래프 그리기\n",
    "\n",
    "prob_x = np.array([f_X(x_k) for x_k in x_set])\n",
    "prob_y = np.array([f_Y(y_k) for y_k in y_set])\n",
    "\n",
    "fig = plt.figure(figsize = (12,4))\n",
    "ax1 = fig.add_subplot(121)\n",
    "ax2 = fig.add_subplot(122)\n",
    "\n",
    "# x의 주변확률분포 막대그래프 그리기\n",
    "ax1.bar(x_set, prob_x, color = 'lightsalmon')\n",
    "\n",
    "ax1.set_title('X_Marginal Probability Distribution')\n",
    "ax1.set_xlabel('X value')\n",
    "ax1.set_ylabel('Probability')\n",
    "ax1.set_xticks(x_set)\n",
    "\n",
    "# y의 주변확률분포 막대그래프 그리기\n",
    "ax2.bar(y_set, prob_y, color = ['red','salmon','lightpink','pink','violet','purple'])\n",
    "\n",
    "ax2.set_title('Y_Marginal Probability Distribution')\n",
    "ax2.set_xlabel('Y value')\n",
    "ax2.set_ylabel('Probability')\n",
    "ax2.set_xticks(y_set)\n",
    "\n",
    "plt.show()"
   ]
  },
  {
   "cell_type": "markdown",
   "id": "d6a1c8d0",
   "metadata": {},
   "source": [
    "####  2차원 이산형 확률변수의 지표"
   ]
  },
  {
   "cell_type": "markdown",
   "id": "21e8294c",
   "metadata": {},
   "source": [
    "- <b> 1. E(X) </b>\n",
    "    - E(X) = ΣΣxiFxy(xi,yj)"
   ]
  },
  {
   "cell_type": "code",
   "execution_count": 195,
   "id": "4d3275ba",
   "metadata": {},
   "outputs": [
    {
     "data": {
      "text/plain": [
       "8.667"
      ]
     },
     "execution_count": 195,
     "metadata": {},
     "output_type": "execute_result"
    }
   ],
   "source": [
    "np.sum([x_i * f_XY(x_i, y_j) for x_i in x_set for y_j in y_set])"
   ]
  },
  {
   "cell_type": "markdown",
   "id": "aea71312",
   "metadata": {},
   "source": [
    "- <b> 1. E(X,Y) </b>\n",
    "    - E(g(X,Y)) = ΣΣg(xi,yj)fxy(xi, yj)"
   ]
  },
  {
   "cell_type": "code",
   "execution_count": 196,
   "id": "2b2c2619",
   "metadata": {},
   "outputs": [],
   "source": [
    "# x값, y값 지정\n",
    "x_set = np.arange(2,13)\n",
    "y_set = np.arange(1,7)\n",
    "\n",
    "# 결합확률값 지정\n",
    "def f_XY(x,y):\n",
    "    if 1 <= y <=6 and 1 <= x-y <= 6:\n",
    "        return y * (x-y) / 441\n",
    "    else:\n",
    "        return 0\n",
    "    \n",
    "# (X dataset, Y dataset 과 X,y에 부여할 결합확률값를 지정해주는 함수) SET 만들기\n",
    "XY = [x_set, y_set, f_XY]"
   ]
  },
  {
   "cell_type": "code",
   "execution_count": 197,
   "id": "b8a1e11b",
   "metadata": {},
   "outputs": [],
   "source": [
    "# X, Y의 기댓값\n",
    "\n",
    "def E(XY, g):\n",
    "    x_set, y_set, f_XY = XY\n",
    "    return np.sum([g(x_i,y_j) * f_XY(x_i, y_j) for x_i in x_set for y_j in y_set])"
   ]
  },
  {
   "cell_type": "code",
   "execution_count": 198,
   "id": "f292ad65",
   "metadata": {},
   "outputs": [
    {
     "data": {
      "text/plain": [
       "8.667"
      ]
     },
     "execution_count": 198,
     "metadata": {},
     "output_type": "execute_result"
    }
   ],
   "source": [
    "# X의 기댓값\n",
    "\n",
    "mean_X = E(XY, lambda x, y : x)\n",
    "mean_X"
   ]
  },
  {
   "cell_type": "code",
   "execution_count": 199,
   "id": "dcd922ab",
   "metadata": {},
   "outputs": [
    {
     "data": {
      "text/plain": [
       "4.333"
      ]
     },
     "execution_count": 199,
     "metadata": {},
     "output_type": "execute_result"
    }
   ],
   "source": [
    "# Y의 기댓값\n",
    "\n",
    "mean_Y = E(XY, lambda x, y : y)\n",
    "mean_Y"
   ]
  },
  {
   "cell_type": "markdown",
   "id": "b0bc747b",
   "metadata": {},
   "source": [
    "- <b>1-2. 기댓값의 선형성</b>\n",
    "    - E(aX + bY) = aE(X) + bE(Y)"
   ]
  },
  {
   "cell_type": "code",
   "execution_count": 200,
   "id": "b7b8cd52",
   "metadata": {},
   "outputs": [
    {
     "data": {
      "text/plain": [
       "30.333"
      ]
     },
     "execution_count": 200,
     "metadata": {},
     "output_type": "execute_result"
    }
   ],
   "source": [
    "E(XY, lambda x, y: 2*x + 3*y)"
   ]
  },
  {
   "cell_type": "code",
   "execution_count": 201,
   "id": "9057c0f7",
   "metadata": {},
   "outputs": [
    {
     "data": {
      "text/plain": [
       "30.333"
      ]
     },
     "execution_count": 201,
     "metadata": {},
     "output_type": "execute_result"
    }
   ],
   "source": [
    "2 * E(XY, lambda x,y: x) + 3 * E(XY, lambda x,y: y)"
   ]
  },
  {
   "cell_type": "markdown",
   "id": "60cc78bd",
   "metadata": {},
   "source": [
    "- <b> 2. V(X), V(Y) </b>\n",
    "    - V(X) = ΣΣ(xi-xm)^2Fxy(xi,yj)\n",
    "    - V(Y) = ΣΣ(yi-ym)^2Fxy(xi,yj)"
   ]
  },
  {
   "cell_type": "code",
   "execution_count": 202,
   "id": "d413c7ce",
   "metadata": {},
   "outputs": [
    {
     "data": {
      "text/plain": [
       "4.444"
      ]
     },
     "execution_count": 202,
     "metadata": {},
     "output_type": "execute_result"
    }
   ],
   "source": [
    "np.sum([(x_i - mean_X)**2 * f_XY(x_i, y_j) for x_i in x_set for y_j in y_set])"
   ]
  },
  {
   "cell_type": "markdown",
   "id": "8018e512",
   "metadata": {},
   "source": [
    "- <b> 2_2. V(X,Y) </b>\n",
    "    - V(X,Y) = ΣΣ(g(xi, yi)-E(g(X,Y)))^2Fxy(xi,yj)"
   ]
  },
  {
   "cell_type": "code",
   "execution_count": 203,
   "id": "7dec64ca",
   "metadata": {},
   "outputs": [],
   "source": [
    "def V(XY, g):\n",
    "    x_set, y_set, f_XY = XY\n",
    "    mean = E(XY, g)\n",
    "    return np.sum([( g(x_i, y_j) - mean)**2 * f_XY(x_i, y_j) for x_i in x_set for y_j in y_set ]) "
   ]
  },
  {
   "cell_type": "code",
   "execution_count": 204,
   "id": "7c86ad45",
   "metadata": {},
   "outputs": [
    {
     "data": {
      "text/plain": [
       "4.444"
      ]
     },
     "execution_count": 204,
     "metadata": {},
     "output_type": "execute_result"
    }
   ],
   "source": [
    "var_X = V(XY, g = lambda x, y : x)\n",
    "var_X"
   ]
  },
  {
   "cell_type": "code",
   "execution_count": 205,
   "id": "7c71a5cb",
   "metadata": {},
   "outputs": [
    {
     "data": {
      "text/plain": [
       "2.222"
      ]
     },
     "execution_count": 205,
     "metadata": {},
     "output_type": "execute_result"
    }
   ],
   "source": [
    "var_Y = V(XY, g = lambda x, y : y)\n",
    "var_Y"
   ]
  },
  {
   "cell_type": "markdown",
   "id": "4bf6bdb7",
   "metadata": {},
   "source": [
    "- <b> 3. COV(X,Y) </b>\n",
    "    - Cov(X,Y) = ΣΣ(xi - xm)(yj - ym)Fxy(xi, yj)"
   ]
  },
  {
   "cell_type": "code",
   "execution_count": 206,
   "id": "e5ba93d7",
   "metadata": {},
   "outputs": [],
   "source": [
    "def Cov(XY):\n",
    "    mean_X = E(XY, g = lambda x, y: x)\n",
    "    mean_Y = E(XY, g = lambda x, y: y)\n",
    "    return np.sum([ (x_i - mean_X) * (y_j - mean_Y) * f_XY(x_i, y_j) for x_i in x_set for y_j in y_set ])"
   ]
  },
  {
   "cell_type": "code",
   "execution_count": 207,
   "id": "76995d22",
   "metadata": {},
   "outputs": [
    {
     "data": {
      "text/plain": [
       "2.222"
      ]
     },
     "execution_count": 207,
     "metadata": {},
     "output_type": "execute_result"
    }
   ],
   "source": [
    "cov_xy= Cov(XY)\n",
    "cov_xy"
   ]
  },
  {
   "cell_type": "markdown",
   "id": "a5bd45fb",
   "metadata": {},
   "source": [
    "- <b>분산과 공분산의 공식</b>\n",
    "    - V(aX + bY) = a^2V(X) + b^2V(Y) + 2abCov(X,Y)"
   ]
  },
  {
   "cell_type": "code",
   "execution_count": 208,
   "id": "16732468",
   "metadata": {},
   "outputs": [
    {
     "data": {
      "text/plain": [
       "64.444"
      ]
     },
     "execution_count": 208,
     "metadata": {},
     "output_type": "execute_result"
    }
   ],
   "source": [
    "V(XY, g = lambda x, y: 2*x + 3*y)"
   ]
  },
  {
   "cell_type": "code",
   "execution_count": 209,
   "id": "e032495e",
   "metadata": {},
   "outputs": [
    {
     "data": {
      "text/plain": [
       "64.444"
      ]
     },
     "execution_count": 209,
     "metadata": {},
     "output_type": "execute_result"
    }
   ],
   "source": [
    "2**2 * var_X + 3**2 * var_Y + 12 * Cov(XY)"
   ]
  },
  {
   "cell_type": "markdown",
   "id": "dd0347d2",
   "metadata": {},
   "source": [
    "- <b>상관계수</b>\n",
    "    - Corr(X,Y) = Cov(XY)/Var(X)^1/2 * Var(Y)^1/2"
   ]
  },
  {
   "cell_type": "code",
   "execution_count": 210,
   "id": "71cc5b0b",
   "metadata": {},
   "outputs": [
    {
     "data": {
      "text/plain": [
       "0.707"
      ]
     },
     "execution_count": 210,
     "metadata": {},
     "output_type": "execute_result"
    }
   ],
   "source": [
    "Cov(XY) / np.sqrt(V(XY, lambda x,y: x) * V(XY, lambda x,y:y))"
   ]
  },
  {
   "cell_type": "markdown",
   "id": "773cd4b1-fafe-4222-b49b-aa391f770973",
   "metadata": {},
   "source": [
    "### 과제"
   ]
  },
  {
   "cell_type": "markdown",
   "id": "f637e711",
   "metadata": {},
   "source": [
    "#### 1차원 이산형 확률변수\n",
    "1차원 이산형 확률변수의 변환 사례를 생성하여 기댓값의 선형성과 분산의 공식을 입증하세요."
   ]
  },
  {
   "cell_type": "code",
   "execution_count": 212,
   "id": "3d9ab158",
   "metadata": {},
   "outputs": [
    {
     "name": "stdout",
     "output_type": "stream",
     "text": [
      "=================================================\n",
      "첫번째 방법으로 기댓값 구하기:  76.97\n",
      "두번째 방법으로 기댓값 구하기:  76.97\n",
      "첫번째 방법으로 분산 구하기:  200.74\n",
      "=================================================\n",
      "첫번째 방법으로 기댓값 구하기:  233.92\n",
      "세번째 방법으로 기댓값 구하기:  233.92\n"
     ]
    },
    {
     "ename": "NameError",
     "evalue": "name 'x2' is not defined",
     "output_type": "error",
     "traceback": [
      "\u001b[1;31m---------------------------------------------------------------------------\u001b[0m",
      "\u001b[1;31mNameError\u001b[0m                                 Traceback (most recent call last)",
      "Input \u001b[1;32mIn [212]\u001b[0m, in \u001b[0;36m<cell line: 52>\u001b[1;34m()\u001b[0m\n\u001b[0;32m     47\u001b[0m \u001b[38;5;28mprint\u001b[39m(\u001b[38;5;124m'\u001b[39m\u001b[38;5;124m세번째 방법으로 기댓값 구하기: \u001b[39m\u001b[38;5;124m'\u001b[39m, EX2_3\u001b[38;5;241m.\u001b[39mround(\u001b[38;5;241m2\u001b[39m))\n\u001b[0;32m     50\u001b[0m \u001b[38;5;66;03m# 분산\u001b[39;00m\n\u001b[0;32m     51\u001b[0m \u001b[38;5;66;03m## 방법1\u001b[39;00m\n\u001b[1;32m---> 52\u001b[0m Var_2_1 \u001b[38;5;241m=\u001b[39m V(\u001b[43mx2\u001b[49m, g \u001b[38;5;241m=\u001b[39m \u001b[38;5;241m3\u001b[39m\u001b[38;5;241m*\u001b[39mx \u001b[38;5;241m+\u001b[39m \u001b[38;5;241m3\u001b[39m)\n\u001b[0;32m     53\u001b[0m \u001b[38;5;28mprint\u001b[39m(\u001b[38;5;124m'\u001b[39m\u001b[38;5;124m첫번째 방법으로 분산 구하기: \u001b[39m\u001b[38;5;124m'\u001b[39m, Var_2_1\u001b[38;5;241m.\u001b[39mround(\u001b[38;5;241m2\u001b[39m))\n\u001b[0;32m     55\u001b[0m \u001b[38;5;66;03m## 방법2: 선형성\u001b[39;00m\n",
      "\u001b[1;31mNameError\u001b[0m: name 'x2' is not defined"
     ]
    }
   ],
   "source": [
    "import numpy as np\n",
    "np.random.seed(0)\n",
    "\n",
    "print('=================================================')\n",
    "\n",
    "# 1차원 이산형 확률변수 생성\n",
    "x = np.random.choice(list(range(50,100)),1000)\n",
    "prob = [ i/np.sum(x) for i in x ]\n",
    "\n",
    "\n",
    "# 기댓값\n",
    "## 방법1: 함수 생성\n",
    "def E(X, g = lambda x: x):\n",
    "    return np.sum( g(i) * (i / np.sum(X)) for i in X)\n",
    "\n",
    "EX1_1 = E(x)\n",
    "print('첫번째 방법으로 기댓값 구하기: ', EX1_1.round(2))\n",
    "\n",
    "\n",
    "## 방법2\n",
    "EX1_2 = np.sum([ i * (i / np.sum(x)) for i in x ])\n",
    "print('두번째 방법으로 기댓값 구하기: ', EX1_2.round(2))\n",
    "\n",
    "\n",
    "# 분산\n",
    "def V(X, g = lambda x: x):\n",
    "    return np.sum( (i - E(X))**2 *(i/np.sum(X))  for i in X )\n",
    "\n",
    "Var_1_1 = V(x, lambda x: x)\n",
    "print('첫번째 방법으로 분산 구하기: ', Var_1_1.round(2))\n",
    "\n",
    "\n",
    "\n",
    "print('=================================================')\n",
    "\n",
    "# 변환 사례: 3x + 3\n",
    "# x2 = 3* x + 3\n",
    "# prob2 = [ i/np.sum(x2) for i in x2 ]\n",
    "\n",
    "# 기댓값\n",
    "## 방법1\n",
    "EX2_1 = E(x, g = lambda x: 3*x + 3)\n",
    "print('첫번째 방법으로 기댓값 구하기: ', EX2_1.round(2))\n",
    "\n",
    "## 방법2\n",
    "EX2_3 = 3 * EX1_1 + 3\n",
    "print('세번째 방법으로 기댓값 구하기: ', EX2_3.round(2))\n",
    "\n",
    "\n",
    "# 분산\n",
    "## 방법1\n",
    "Var_2_1 = V(x2, g = 3*x + 3)\n",
    "print('첫번째 방법으로 분산 구하기: ', Var_2_1.round(2))\n",
    "\n",
    "## 방법2: 선형성\n",
    "Var_2_2 = 9*Var_1_1\n",
    "print('두번째 방법으로 분산 구하기: ', Var_2_2.round(2))\n",
    "\n",
    "print('=================================================')"
   ]
  },
  {
   "cell_type": "markdown",
   "id": "9982a747",
   "metadata": {},
   "source": [
    "#### 2차원 이산형 확률변수\n",
    " 2차원 이산형 확률변수의 변환 사례를 생성하여 기댓값의 선형성과 분산과 공분산의 공식을 입증하세요."
   ]
  },
  {
   "cell_type": "code",
   "execution_count": 213,
   "id": "6e1729bd",
   "metadata": {},
   "outputs": [],
   "source": [
    "# y값 지정: a주사위눈\n",
    "y = [1,2,3,4,5,6]\n",
    "\n",
    "# x값 지정: a주사위눈 * b주사위눈\n",
    "x = []\n",
    "for i in range(1,7):\n",
    "    for j in range(1,7):\n",
    "        x.append(i*j)\n",
    "x = sorted(list(set(x)))\n",
    "\n",
    "\n",
    "# x의값 확률, y값 확률 구하는 함수 생성\n",
    "def f_XY(x,y,g):\n",
    "    if (1<= x <= 6) and (1 <= y/x <= 6):\n",
    "        return x/21*(y/x)/21\n",
    "    else:\n",
    "        return 0\n",
    "    \n",
    "\n",
    "# 기댓값 구하기\n",
    "def E_XY(XY, g):\n",
    "    x, y, f_XY = XY\n",
    "    return np.sum([g(x_i,y_j) * f_XY(x_i,y_j) for x_i in x for y_j in y])\n",
    "\n",
    "\n",
    "# 분산 구하기\n",
    "def V(XY, g):\n",
    "    x, y, f_XY = XY\n",
    "    mean = E_XY(XY)\n",
    "    return np.sum([(g(x_i, y_j) - mean)**2 * f_XY(x_i, y_j) for x_i in x for y_j in y])\n",
    "\n"
   ]
  },
  {
   "cell_type": "markdown",
   "id": "92e61c46",
   "metadata": {},
   "source": [
    "## 대표적인 이산형 확률분포"
   ]
  },
  {
   "cell_type": "code",
   "execution_count": 214,
   "id": "f2e9a664",
   "metadata": {},
   "outputs": [],
   "source": [
    "import numpy as np\n",
    "import matplotlib.pyplot as plt\n",
    "from scipy import stats\n",
    "\n",
    "%precision 3\n",
    "%matplotlib inline"
   ]
  },
  {
   "cell_type": "markdown",
   "id": "bc6bdfa7",
   "metadata": {},
   "source": [
    "### 이산형 확률분포 성질 확인하는  E(X), V(X), Check_Prob, Plot_Prob 함수 생성"
   ]
  },
  {
   "cell_type": "code",
   "execution_count": 215,
   "id": "b83ce4f8",
   "metadata": {},
   "outputs": [],
   "source": [
    "linestyles = ['-', '--', ':']\n",
    "\n",
    "def E(X, g = lambda x: x):\n",
    "    x_set, f = X\n",
    "    return np.sum([g(x_i) * f(x_i) for x_i in x_set])\n",
    "\n",
    "def V(X, g = lambda x: x):\n",
    "    x_set, f = X\n",
    "    mean = E(X, g)\n",
    "    return np.sum([(g(x_i) - mean)**2*f(x_i) for x_i in x_set])\n",
    "\n",
    "def check_prob(X):\n",
    "    x_set, f = X\n",
    "    prob = np.array([f(x_i) for x_i in x_set])\n",
    "    assert np.all(prob >= 0), 'Minus Probability'\n",
    "    prob_sum = np.sum(prob).round(6)\n",
    "    assert prob_sum == 1, f'Sum of Probability{prob_sum}'\n",
    "    \n",
    "    print(f' Expected value: {E(X):.4f}')\n",
    "    print(f' Variance: {V(X):.4f}')\n",
    "    \n",
    "def plot_prob(X):\n",
    "    x_set, f = X\n",
    "    prob = np.array([f(x_i) for x_i in x_set])\n",
    "    \n",
    "    fig = plt.figure(figsize = (10,5))\n",
    "    ax = fig.add_subplot(111)\n",
    "    \n",
    "    randomcolor = np.random.choice(['pink','salmon','purple','lightblue','skyblue','lightgreen'],1)\n",
    "    # 확률을 막대그래프로 표현\n",
    "    ax.bar(x_set, prob, label = 'Probability', color = randomcolor)\n",
    "    # 평균값을 수직선으로 표현\n",
    "    ax.vlines(E(X), 0, 1, label = 'Mean', color = 'black')\n",
    "    \n",
    "    ax.set_xticks(np.append(x_set, E(X)))\n",
    "    ax.set_ylim(0, prob.max()*1.2)\n",
    "    ax.legend()\n",
    "    \n",
    "    plt.show()    "
   ]
  },
  {
   "cell_type": "markdown",
   "id": "1526d568",
   "metadata": {},
   "source": [
    "### 베르누이 분포\n",
    "- 가장 기본적인 이산형 확률분포로 확률변수가 취할 수 있는 값이 0과 1밖에 없는 분포\n",
    "- 베르누이 분포를 따르는 확률변수의 시행을 베르누이 시행이라하며 1이 나오면 성공 0이 나오면 실패라고 함\n",
    "- f(x) = $p^x(1-p)^{1-x}$ $(x \\in \\{0,1\\}$)         \n",
    "       = 0                     (otherwise)\n",
    "    \n",
    "    ex) 동전을 던져 앞면이 나올 확률, 주사위를 한 번 굴려 6이 나오지 않을 확률\n",
    "    \n",
    "<b>X ~ B(p)</b>    \n",
    "- E(X) = p \n",
    "- V(X) = p(1-p)"
   ]
  },
  {
   "cell_type": "code",
   "execution_count": 216,
   "id": "edde6abe",
   "metadata": {},
   "outputs": [],
   "source": [
    "# 베르누이의 x dataset, p(x)반환하는 함수 생성\n",
    "def Bern(p):\n",
    "    x_set = np.array([0,1])\n",
    "    \n",
    "    def f(x):\n",
    "        if x in x_set:\n",
    "            return p**x * (1-p)**(1-x)\n",
    "    \n",
    "    return x_set, f"
   ]
  },
  {
   "cell_type": "code",
   "execution_count": 217,
   "id": "aff7aaa6",
   "metadata": {},
   "outputs": [
    {
     "name": "stdout",
     "output_type": "stream",
     "text": [
      " Expected value: 0.3000\n",
      " Variance: 0.2100\n"
     ]
    }
   ],
   "source": [
    "# 성공확률이 0.3인 베르누이분포의 기댓값, 분산 확인하기\n",
    "\n",
    "p = 0.3\n",
    "X = Bern(p)\n",
    "\n",
    "check_prob(X)"
   ]
  },
  {
   "cell_type": "code",
   "execution_count": 218,
   "id": "3afbb8c6",
   "metadata": {},
   "outputs": [
    {
     "data": {
      "image/png": "[encoded data removed]",
      "text/plain": [
       "<Figure size 720x360 with 1 Axes>"
      ]
     },
     "metadata": {
      "needs_background": "light"
     },
     "output_type": "display_data"
    }
   ],
   "source": [
    "# 성공확률이 0.3인 베르누이분포의 분포 그려보기\n",
    "\n",
    "plot_prob(X)"
   ]
  },
  {
   "cell_type": "code",
   "execution_count": 219,
   "id": "e464d5ad",
   "metadata": {},
   "outputs": [],
   "source": [
    "# 베르누이 분포를 따르는 확률변수를 생성할 수 있는 bernoulli함수 사용\n",
    "rv = stats.bernoulli(p)"
   ]
  },
  {
   "cell_type": "code",
   "execution_count": 220,
   "id": "6b47df53",
   "metadata": {},
   "outputs": [
    {
     "name": "stdout",
     "output_type": "stream",
     "text": [
      "실패확률: 0.7, 성공확률: 0.3\n",
      "실패확률: 0.7, 성공확률: 0.3\n"
     ]
    }
   ],
   "source": [
    "# 해당 변수값의 확률값을 반환하는 pmf(확률함수)메서드 사용\n",
    "##방법1\n",
    "print(f'실패확률: {rv.pmf(0)}, 성공확률: {rv.pmf(1)}')\n",
    "\n",
    "##방법2\n",
    "print(f'실패확률: {rv.pmf([0,1])[0]}, 성공확률: {rv.pmf([0,1])[1]}')"
   ]
  },
  {
   "cell_type": "code",
   "execution_count": 221,
   "id": "a954652f",
   "metadata": {},
   "outputs": [
    {
     "name": "stdout",
     "output_type": "stream",
     "text": [
      "실패확률, 전체확률: [0.7 1. ]\n"
     ]
    }
   ],
   "source": [
    "# 해당 변수값의 확률값을 누적해서 반환하는 cdf(누적밀도함수)메서드 사용\n",
    "\n",
    "print(f'실패확률, 전체확률: {rv.cdf([0,1])}')"
   ]
  },
  {
   "cell_type": "code",
   "execution_count": 222,
   "id": "45963494",
   "metadata": {},
   "outputs": [
    {
     "name": "stdout",
     "output_type": "stream",
     "text": [
      "기댓값: 0.3, 분산:0.21\n"
     ]
    }
   ],
   "source": [
    "# 해당 분포의 기댓값, 분산 계산\n",
    "\n",
    "print(f'기댓값: {rv.mean()}, 분산:{rv.var()}')"
   ]
  },
  {
   "cell_type": "markdown",
   "id": "d7d35ca9",
   "metadata": {},
   "source": [
    "### 이항분포\n",
    "- 성공 확률이 p인 베르누이 시행을 n번 했을 때의 성공 횟수가 따르는 분포  \n",
    "- f(x) = $_{n}\\mathrm{C}_{x}p^x(1-p)^{n-x}$ $(x \\in \\{0,1,..,n\\}$) \n",
    "       = 0                     (otherwise)\n",
    "       \n",
    "\n",
    "<b>X ~ B(n,p)</b>\n",
    "- E(X) = np\n",
    "- V(X) = np(1-p)\n",
    "\n",
    "\n"
   ]
  },
  {
   "cell_type": "code",
   "execution_count": 223,
   "id": "fead14e9",
   "metadata": {},
   "outputs": [],
   "source": [
    "from scipy.special import comb\n",
    "\n",
    "# 이항분포의 x dataset, p(x)반환하는 함수 생성 \n",
    "def Bin(n, p):\n",
    "    x_set = np.arange(n + 1)\n",
    "    \n",
    "    def f(x):\n",
    "        if x in x_set:\n",
    "            return comb(n, x) * p**x * (1-p)**(n-x)\n",
    "        else:\n",
    "            return 0\n",
    "    return x_set, f"
   ]
  },
  {
   "cell_type": "code",
   "execution_count": 224,
   "id": "a17ebf94",
   "metadata": {},
   "outputs": [
    {
     "name": "stdout",
     "output_type": "stream",
     "text": [
      " Expected value: 3.0000\n",
      " Variance: 2.1000\n"
     ]
    }
   ],
   "source": [
    "# 시행횟수가 10, 성공확률이 0.3인 이항분포의 기댓값, 분산 확인하기\n",
    "\n",
    "n = 10\n",
    "p = 0.3\n",
    "\n",
    "X = Bin(n,p)\n",
    "\n",
    "check_prob(X)"
   ]
  },
  {
   "cell_type": "code",
   "execution_count": 225,
   "id": "9ac9a521",
   "metadata": {},
   "outputs": [
    {
     "data": {
      "image/png": "[encoded data removed]",
      "text/plain": [
       "<Figure size 720x360 with 1 Axes>"
      ]
     },
     "metadata": {
      "needs_background": "light"
     },
     "output_type": "display_data"
    }
   ],
   "source": [
    "plot_prob(X)"
   ]
  },
  {
   "cell_type": "markdown",
   "id": "9538e830",
   "metadata": {},
   "source": [
    "막대그래프와 수직선(평균) 그래프를 그려보면, 기댓값이 정상이 되는 산 모양의 분포를 이룸"
   ]
  },
  {
   "cell_type": "code",
   "execution_count": 226,
   "id": "d8d2f2c9",
   "metadata": {},
   "outputs": [
    {
     "data": {
      "image/png": "[encoded data removed]",
      "text/plain": [
       "<Figure size 720x432 with 1 Axes>"
      ]
     },
     "metadata": {
      "needs_background": "light"
     },
     "output_type": "display_data"
    }
   ],
   "source": [
    "# 시행횟수는 10으로 고정, p = [0.3, 0.5, 0.7]이 되도록 해서 그래프 그려보기\n",
    "\n",
    "from scipy.stats import binom\n",
    "\n",
    "\n",
    "fig = plt.figure(figsize = (10,6))\n",
    "ax = fig.add_subplot(111)\n",
    "\n",
    "\n",
    "x_set = np.arange(n + 1)\n",
    "linestyles = ['-', '--', ':']\n",
    "randomcolor = np.random.choice(['pink','red','purple','blue','green','gray','black'])\n",
    "\n",
    "for p, ls in zip([0.3, 0.5, 0.7], linestyles):\n",
    "    # 이항분포를 따르는 확률변수를 생성할 수 있는 binom함수 사용\n",
    "    rv = stats.binom(10, p)\n",
    "    ax.plot(x_set, rv.pmf(x_set), ls = ls, color = randomcolor, label = f'p = {p}')\n",
    "\n",
    "ax.set_xticks(x_set)\n",
    "ax.legend()\n",
    "\n",
    "\n",
    "plt.show()"
   ]
  },
  {
   "cell_type": "markdown",
   "id": "09a9ffa0",
   "metadata": {},
   "source": [
    "p값이 커질수록, 정상이 되는 변수값이 커짐\n",
    "\n",
    "p = 0.5 일 때 좌우대칭 형태로 분포하게 됨"
   ]
  },
  {
   "cell_type": "markdown",
   "id": "56b1b321",
   "metadata": {},
   "source": [
    "### 기하분포\n",
    "\n",
    "- 베르누이 시행에서 처음 성공할 때까지 반복한 시행 횟수가 따르는 분포\n",
    "- 기하분포의 파라미터는 베르누이 시행의 성공 확률 파라미터 p가 되며 파라미터 p의 기하분포를 Ge(p)로 표기  \n",
    "\n",
    "f(x) = $(1-p)^{x-1}p$ $(x \\in \\{1,2,3,..\\})$\n",
    "\n",
    "       0              (otherwise) \n",
    "\n",
    "<b>X ~ Ge(p)</b>\n",
    "- E(X) = $1/p$\n",
    "- V(X) = $(1-p)/p^2$"
   ]
  },
  {
   "cell_type": "code",
   "execution_count": 227,
   "id": "2173fa63",
   "metadata": {},
   "outputs": [
    {
     "name": "stdout",
     "output_type": "stream",
     "text": [
      " Expected value: 2.0000\n",
      " Variance: 2.0000\n"
     ]
    }
   ],
   "source": [
    "# 성공확률이 0.5인 기하분포의 기댓값, 분산 확인하기\n",
    "\n",
    "p = 0.5\n",
    "X = Ge(p)\n",
    "\n",
    "check_prob(X)"
   ]
  },
  {
   "cell_type": "code",
   "execution_count": 228,
   "id": "067a91f4",
   "metadata": {},
   "outputs": [
    {
     "data": {
      "image/png": "[encoded data removed]",
      "text/plain": [
       "<Figure size 720x360 with 1 Axes>"
      ]
     },
     "metadata": {
      "needs_background": "light"
     },
     "output_type": "display_data"
    }
   ],
   "source": [
    "plot_prob(X)"
   ]
  },
  {
   "cell_type": "code",
   "execution_count": 229,
   "id": "325da6bf",
   "metadata": {},
   "outputs": [
    {
     "data": {
      "image/png": "[encoded data removed]",
      "text/plain": [
       "<Figure size 720x360 with 1 Axes>"
      ]
     },
     "metadata": {
      "needs_background": "light"
     },
     "output_type": "display_data"
    }
   ],
   "source": [
    "# 시행횟수는 1 ~ 14로 제한, p = [0.3, 0.5, 0.7]이 되도록 해서 그래프 그려보기\n",
    "\n",
    "fig = plt.figure(figsize = (10,5))\n",
    "ax = fig.add_subplot(111)\n",
    "\n",
    "x_set  = np.arange(1,15)\n",
    "\n",
    "linestyles = ['-', '--', ':']\n",
    "randomcolor = np.random.choice(['pink','red','purple','blue','green','gray','black'])\n",
    "\n",
    "for p, ls in zip([0.3, 0.5, 0.7],linestyles):\n",
    "    # 기하분포를 따르는 확률변수를 생성할 수 있는 geom함수 사용\n",
    "    rv = stats.geom(p)\n",
    "    ax.plot(x_set, rv.pmf(x_set), ls = ls, color = randomcolor, label = f'p = {p}')\n",
    "    \n",
    "    ax.set_xticks(x_set)\n",
    "    ax.legend()"
   ]
  },
  {
   "cell_type": "markdown",
   "id": "5148a293",
   "metadata": {},
   "source": [
    "p값에 상관없이 변수값이 커지면 지수적으로 감소하는 분포가 되며, 0에 수렴함"
   ]
  },
  {
   "cell_type": "markdown",
   "id": "e0d937c4",
   "metadata": {},
   "source": [
    "### 포아송분포\n",
    "- 임의의 사건이 단위 시간당 발생하는 건수가 따르는 확률분포이며 포아송 분포의 파라미터는 $\\lambda$로 나타낸다.\n",
    "    \n",
    "    ex) 하루에 평균 2건의 교통사고가 발생하는 지역에서 하루 교통사고 발생 건수는 Poi(2)를 따른다.  \n",
    "    \n",
    "        P(X=0) = 2!/0! * $e^{-2}$ = 0.135\n",
    "\n",
    "\n",
    "f(x) = $\\lambda^x/x!*e^{-\\lambda}$ $(x \\in \\{0,1,2,...\\})$\n",
    "\n",
    "     =  0               (otherwise)\n",
    "     \n",
    "     \n",
    "\n",
    "<b>X ~ Poi($\\lambda$)</b>\n",
    "- E(X) = $\\lambda$\n",
    "- V(X) =  $\\lambda$\n",
    "- 포아송 분포의 기댓값과 분산을 모두 $\\lambda$ 가 된다.  \n"
   ]
  },
  {
   "cell_type": "code",
   "execution_count": 230,
   "id": "87121e71",
   "metadata": {},
   "outputs": [],
   "source": [
    "# 포아송분포의 x dataset, p(x)반환하는 함수 생성 \n",
    "## 편의상 n은 1 ~ 19까지로 함\n",
    "\n",
    "from scipy.special import factorial\n",
    "\n",
    "def Poi(lam):\n",
    "    x_set = np.arange(20)\n",
    "    \n",
    "    def f(x):\n",
    "        if x in x_set:\n",
    "            return np.power(lam, x)/ factorial(x) * np.exp(-lam)\n",
    "        else:\n",
    "            return 0\n",
    "    return x_set, f\n"
   ]
  },
  {
   "cell_type": "code",
   "execution_count": 231,
   "id": "a97ddcdb",
   "metadata": {},
   "outputs": [
    {
     "name": "stdout",
     "output_type": "stream",
     "text": [
      " Expected value: 3.0000\n",
      " Variance: 3.0000\n"
     ]
    }
   ],
   "source": [
    "# 단위면적당 평균 발생건수가 3건인 포아송분포의 기댓값, 분산 확인하기\n",
    "\n",
    "lam = 3\n",
    "X = Poi(lam)\n",
    "\n",
    "check_prob(X)"
   ]
  },
  {
   "cell_type": "code",
   "execution_count": 232,
   "id": "33f17245",
   "metadata": {},
   "outputs": [
    {
     "data": {
      "image/png": "[encoded data removed]",
      "text/plain": [
       "<Figure size 720x360 with 1 Axes>"
      ]
     },
     "metadata": {
      "needs_background": "light"
     },
     "output_type": "display_data"
    }
   ],
   "source": [
    "plot_prob(X)"
   ]
  },
  {
   "cell_type": "code",
   "execution_count": 233,
   "id": "595e856e",
   "metadata": {},
   "outputs": [
    {
     "data": {
      "image/png": "[encoded data removed]",
      "text/plain": [
       "<Figure size 720x360 with 1 Axes>"
      ]
     },
     "metadata": {
      "needs_background": "light"
     },
     "output_type": "display_data"
    }
   ],
   "source": [
    "# 단위면적당 발생건수는 1 ~ 19건, 평균 발생건수 = [3, 5, 8]일 때 그래프 그려보기\n",
    "\n",
    "fig = plt.figure(figsize = (10,5))\n",
    "ax = fig.add_subplot(111)\n",
    "\n",
    "x_set = np.arange(20)\n",
    "\n",
    "linestyles = ['-', '--', ':']\n",
    "randomcolor = np.random.choice(['pink','red','purple','blue','green','gray','black'])\n",
    "\n",
    "for lam, ls in zip([3, 5, 8],linestyles):\n",
    "    rv = stats.poisson(lam)\n",
    "    ax.plot(x_set, rv.pmf(x_set), ls = ls, color = randomcolor, label = f'lambda = {lam}')\n",
    "\n",
    "ax.set_xticks(x_set)\n",
    "ax.legend()\n",
    "\n",
    "plt.show()"
   ]
  },
  {
   "cell_type": "markdown",
   "id": "136298c7",
   "metadata": {},
   "source": [
    "### 과제"
   ]
  },
  {
   "cell_type": "code",
   "execution_count": 234,
   "id": "f3f00ae8",
   "metadata": {},
   "outputs": [],
   "source": [
    "import numpy as np\n",
    "import warnings\n",
    "warnings.filterwarnings('ignore')\n",
    "\n",
    "# 기댓값\n",
    "def E(X, g = lambda x: x):\n",
    "    x_dataset, f = X\n",
    "\n",
    "    return np.sum(g(x_i) * f(x_i) for x_i in x_dataset)\n",
    "\n",
    "# 분산\n",
    "def V(X, g = lambda x: x):\n",
    "    x_dataset, f = X\n",
    "    EX = E(X, g)\n",
    "    \n",
    "    return np.sum((g(x_i) - EX)**2 * f(x_i) for x_i in x_dataset)\n",
    "    \n",
    "    \n",
    "#기댓값, 분산 checkcheck    \n",
    "def check_prob(X):\n",
    "    x_dataset, f = X\n",
    "    x_probability = np.array([f(x_i) for x_i in x_dataset])\n",
    "    assert np.all(x_probability >= 0), f'※ 음수{np.where(x_probability >= 0)}를 가지는 확률이 있음.' \n",
    "    \n",
    "    x_prob_sum = np.sum(x_probability).round(4)\n",
    "    assert x_prob_sum == 1, f'※ 확률의 합이 {x_prob_sum}임.'\n",
    "    \n",
    "    print(f' 기댓값: {E(X):.2f}')\n",
    "    print(f' 분산:   {V(X):.2f}')"
   ]
  },
  {
   "cell_type": "markdown",
   "id": "91af63ed",
   "metadata": {},
   "source": [
    "#### 과제: 베르누이분포\n",
    "베르누이분포의 사례를 생성하여 각각의 경우에 대한 기댓값과 분산을 산출하세요."
   ]
  },
  {
   "cell_type": "code",
   "execution_count": 235,
   "id": "00a5a8a7",
   "metadata": {},
   "outputs": [
    {
     "name": "stdout",
     "output_type": "stream",
     "text": [
      " 기댓값: 0.38\n",
      " 분산:   0.24\n"
     ]
    }
   ],
   "source": [
    "# 사례: 배가 침몰 시 생존율(P)은 0.38197임\n",
    "\n",
    "def Bern(p):\n",
    "    x_dataset = np.array([0,1])\n",
    "    \n",
    "    def f(x):\n",
    "        if x in x_dataset:    \n",
    "            return p**x * (1-p)**(1-x)\n",
    "            \n",
    "    return x_dataset, f\n",
    "    \n",
    "X = Bern(0.38197)\n",
    "check_prob(X)"
   ]
  },
  {
   "cell_type": "markdown",
   "id": "c04eaa53",
   "metadata": {},
   "source": [
    "#### 과제: 이항분포\n",
    "이항분포의 사례를 생성하여 각각의 경우에 대한 기댓값과 분산을 산출하세요."
   ]
  },
  {
   "cell_type": "code",
   "execution_count": 236,
   "id": "e4280c61",
   "metadata": {},
   "outputs": [
    {
     "name": "stdout",
     "output_type": "stream",
     "text": [
      " 기댓값: 10.00\n",
      " 분산:   9.50\n"
     ]
    }
   ],
   "source": [
    "# 사례: 제조회사에서 부품의 불랑품 제조율(P)은 0.05%임. 부품 200개(N)를 조사했을 때의 불량품 개수의 기댓값과 분산은?  \n",
    "\n",
    "from scipy.special import comb \n",
    "\n",
    "def Binom(n,p):\n",
    "    x_dataset = np.arange(n + 1)\n",
    "    \n",
    "    def f(x):\n",
    "        if x in x_dataset:\n",
    "            return comb(n,x) * p**(x) * (1-p)**(n-x)\n",
    "        else:\n",
    "            return 0\n",
    "        \n",
    "    return x_dataset, f\n",
    "\n",
    "X = Binom(200, 0.05)\n",
    "check_prob(X)"
   ]
  },
  {
   "cell_type": "markdown",
   "id": "bb925fda",
   "metadata": {},
   "source": [
    "#### 과제: 기하분포\n",
    "기하분포의 사례를 생성하여 각각의 경우에 대한 기댓값과 분산을 산출하세요."
   ]
  },
  {
   "cell_type": "code",
   "execution_count": 237,
   "id": "6c1a4beb",
   "metadata": {},
   "outputs": [
    {
     "name": "stdout",
     "output_type": "stream",
     "text": [
      " 기댓값: 19.99\n",
      " 분산:   378.52\n"
     ]
    }
   ],
   "source": [
    "#사례: 내가 야구장에서 홈런칠 확률(P)은 0.05임. 내가 홈런을 칠 확률에 대한 기댓값과 분산은?\n",
    "\n",
    "def Ge(p):\n",
    "    x_dataset = np.arange(1,200)\n",
    "    \n",
    "    def f(x):\n",
    "        if x in x_dataset:\n",
    "            return (1-p)**(x-1) * p\n",
    "        else:\n",
    "            return 0\n",
    "        \n",
    "    return x_dataset, f\n",
    "\n",
    "X = Ge(0.05)\n",
    "check_prob(X)"
   ]
  },
  {
   "cell_type": "markdown",
   "id": "1b92db85",
   "metadata": {},
   "source": [
    "#### 과제: 포아송분포\n",
    "포아송분포의 사례를 생성하여 각각의 경우에 대한 기댓값과 분산을 산출하세요."
   ]
  },
  {
   "cell_type": "code",
   "execution_count": 238,
   "id": "c17d29f7",
   "metadata": {},
   "outputs": [
    {
     "name": "stdout",
     "output_type": "stream",
     "text": [
      " 기댓값: 4.00\n",
      " 분산:   4.00\n"
     ]
    }
   ],
   "source": [
    "# 사례: 택배회사의 전화 상담실에 1시간당 평균 240건의 전화요청이 들어옴. 그럼 1분 동안 걸려올 전화요청의 기댓값과 분산은?\n",
    "\n",
    "from scipy.special import factorial\n",
    "\n",
    "def Poi(lam):\n",
    "    x_dataset = np.arange(20)\n",
    "    \n",
    "    def f(x):\n",
    "        if x in x_dataset:\n",
    "            return (np.power(lam, x) * np.exp(-lam))/factorial(x)\n",
    "        else:\n",
    "            return 0\n",
    "    return x_dataset, f\n",
    "\n",
    "X = Poi(4)\n",
    "\n",
    "check_prob(X)"
   ]
  }
 ],
 "metadata": {
  "kernelspec": {
   "display_name": "Python 3 (ipykernel)",
   "language": "python",
   "name": "python3"
  },
  "language_info": {
   "codemirror_mode": {
    "name": "ipython",
    "version": 3
   },
   "file_extension": ".py",
   "mimetype": "text/x-python",
   "name": "python",
   "nbconvert_exporter": "python",
   "pygments_lexer": "ipython3",
   "version": "3.8.13"
  },
  "toc": {
   "base_numbering": 1,
   "nav_menu": {},
   "number_sections": true,
   "sideBar": true,
   "skip_h1_title": false,
   "title_cell": "Table of Contents",
   "title_sidebar": "Contents",
   "toc_cell": false,
   "toc_position": {
    "height": "calc(100% - 180px)",
    "left": "10px",
    "top": "150px",
    "width": "249px"
   },
   "toc_section_display": true,
   "toc_window_display": true
  }
 },
 "nbformat": 4,
 "nbformat_minor": 5
}
