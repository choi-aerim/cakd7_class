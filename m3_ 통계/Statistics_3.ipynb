{
 "cells": [
  {
   "cell_type": "markdown",
   "id": "c6787fff",
   "metadata": {},
   "source": [
    "## 통계적 추정"
   ]
  },
  {
   "cell_type": "code",
   "execution_count": 1,
   "id": "ac82f0c2",
   "metadata": {},
   "outputs": [
    {
     "data": {
      "text/plain": [
       "'%.3f'"
      ]
     },
     "execution_count": 1,
     "metadata": {},
     "output_type": "execute_result"
    }
   ],
   "source": [
    "import numpy as np\n",
    "import pandas as pd\n",
    "import matplotlib.pyplot as plt\n",
    "from scipy import stats\n",
    "\n",
    "%precision 3"
   ]
  },
  {
   "cell_type": "code",
   "execution_count": 5,
   "id": "2512e681",
   "metadata": {},
   "outputs": [
    {
     "data": {
      "text/html": [
       "<div>\n",
       "<style scoped>\n",
       "    .dataframe tbody tr th:only-of-type {\n",
       "        vertical-align: middle;\n",
       "    }\n",
       "\n",
       "    .dataframe tbody tr th {\n",
       "        vertical-align: top;\n",
       "    }\n",
       "\n",
       "    .dataframe thead th {\n",
       "        text-align: right;\n",
       "    }\n",
       "</style>\n",
       "<table border=\"1\" class=\"dataframe\">\n",
       "  <thead>\n",
       "    <tr style=\"text-align: right;\">\n",
       "      <th></th>\n",
       "      <th>score</th>\n",
       "    </tr>\n",
       "  </thead>\n",
       "  <tbody>\n",
       "    <tr>\n",
       "      <th>0</th>\n",
       "      <td>76</td>\n",
       "    </tr>\n",
       "    <tr>\n",
       "      <th>1</th>\n",
       "      <td>55</td>\n",
       "    </tr>\n",
       "    <tr>\n",
       "      <th>2</th>\n",
       "      <td>80</td>\n",
       "    </tr>\n",
       "    <tr>\n",
       "      <th>3</th>\n",
       "      <td>80</td>\n",
       "    </tr>\n",
       "    <tr>\n",
       "      <th>4</th>\n",
       "      <td>74</td>\n",
       "    </tr>\n",
       "  </tbody>\n",
       "</table>\n",
       "</div>"
      ],
      "text/plain": [
       "   score\n",
       "0     76\n",
       "1     55\n",
       "2     80\n",
       "3     80\n",
       "4     74"
      ]
     },
     "execution_count": 5,
     "metadata": {},
     "output_type": "execute_result"
    }
   ],
   "source": [
    "df = pd.read_csv('ch4_scores400.csv')\n",
    "df.head()"
   ]
  },
  {
   "cell_type": "code",
   "execution_count": 8,
   "id": "115b81f5",
   "metadata": {},
   "outputs": [
    {
     "data": {
      "text/plain": [
       "array([76, 55, 80, 80, 74], dtype=int64)"
      ]
     },
     "execution_count": 8,
     "metadata": {},
     "output_type": "execute_result"
    }
   ],
   "source": [
    "scores = np.array(df['score'])\n",
    "scores[:5]"
   ]
  },
  {
   "cell_type": "code",
   "execution_count": 9,
   "id": "e0a66d32",
   "metadata": {},
   "outputs": [
    {
     "data": {
      "text/plain": [
       "(69.530, 206.669)"
      ]
     },
     "execution_count": 9,
     "metadata": {},
     "output_type": "execute_result"
    }
   ],
   "source": [
    "# 모집단의 평균, 분산\n",
    "\n",
    "p_mean = np.mean(scores)\n",
    "p_var = np.var(scores)\n",
    "\n",
    "p_mean, p_var"
   ]
  },
  {
   "cell_type": "code",
   "execution_count": 14,
   "id": "62955e84",
   "metadata": {},
   "outputs": [
    {
     "data": {
      "image/png": "[encoded data removed]",
      "text/plain": [
       "<Figure size 720x432 with 1 Axes>"
      ]
     },
     "metadata": {
      "needs_background": "light"
     },
     "output_type": "display_data"
    }
   ],
   "source": [
    "# 모집단의 분포 살펴보기\n",
    "# 정규분포를 이룬다고 가정하여 추정하기\n",
    "\n",
    "fig = plt.figure(figsize = (10,6))\n",
    "ax = fig.add_subplot(111)\n",
    "\n",
    "xs = np.arange(101)\n",
    "rv = stats.norm(p_mean, np.sqrt(p_var))\n",
    "\n",
    "ax.plot(xs, rv.pdf(xs), color = 'gray')\n",
    "ax.hist(scores, bins = 100, range =(0,100), density = True, color = 'pink')\n",
    "\n",
    "plt.show()"
   ]
  },
  {
   "cell_type": "markdown",
   "id": "40f66ca7",
   "metadata": {},
   "source": [
    "### 점추정\n",
    "- 모평균이나 모분산 등의 모수를 하나의 수치로 추정\n",
    "- 추정량의 기댓값이 추측하려는 모수가 되는 성질을 불편성이라고 하며 불편성을 가진 추정량을 불편추정량이라고 함\n",
    "- 표본평균이 모평균을 잘 추정할 수 있는 근거 중 하나가 바로 불편성임\n",
    "- 표본크기 n을 증가시키면 추측하기 원하는 모수에 수렴해가는 성질을 일치성이라고 하며 일치성을 지닌 추정량을 일치추정량이라고 함\n",
    "- 표본평균은 불편성과 일치성을 모두 가지고 있기 때문에 모평균을 잘 추정한다고 말할 수 있음\n"
   ]
  },
  {
   "cell_type": "code",
   "execution_count": 15,
   "id": "267299e3",
   "metadata": {},
   "outputs": [
    {
     "data": {
      "text/plain": [
       "array([49, 60, 72, 86, 52, 61, 77, 91, 80, 56, 69, 67, 90, 56, 75, 79, 60,\n",
       "       79, 68, 81], dtype=int64)"
      ]
     },
     "execution_count": 15,
     "metadata": {},
     "output_type": "execute_result"
    }
   ],
   "source": [
    "# 무작위추출한 20명의 표본 추출\n",
    "\n",
    "np.random.seed(0)\n",
    "n = 20\n",
    "sample = np.random.choice(scores, n)\n",
    "sample"
   ]
  },
  {
   "cell_type": "code",
   "execution_count": 18,
   "id": "349db1d0",
   "metadata": {},
   "outputs": [],
   "source": [
    "# 무작위추출한 20명의 표본을 1만개 추출\n",
    "\n",
    "np.random.seed(1111)\n",
    "n_sample = 10000\n",
    "samples = np.random.choice(scores, (n_sample, n))"
   ]
  },
  {
   "cell_type": "code",
   "execution_count": 30,
   "id": "f963c97e",
   "metadata": {},
   "outputs": [
    {
     "name": "stdout",
     "output_type": "stream",
     "text": [
      "1번째 표본평균: 67.0\n",
      "2번째 표본평균: 72.85\n",
      "3번째 표본평균: 69.2\n",
      "4번째 표본평균: 64.45\n",
      "5번째 표본평균: 72.65\n"
     ]
    }
   ],
   "source": [
    "# 5개의 표본을 뽑아 평균 확인해보기\n",
    "\n",
    "for i in range(5):\n",
    "    s_mean = np.mean(samples[i])\n",
    "    print(f'{i+1}번째 표본평균: {s_mean}')"
   ]
  },
  {
   "cell_type": "code",
   "execution_count": 31,
   "id": "48c1a971",
   "metadata": {},
   "outputs": [
    {
     "data": {
      "text/plain": [
       "69.538"
      ]
     },
     "execution_count": 31,
     "metadata": {},
     "output_type": "execute_result"
    }
   ],
   "source": [
    "# 표본크기가 20인 1만개 표본의 기댓값 확인해보기\n",
    "\n",
    "sample_means = np.mean(samples, axis = 1)\n",
    "np.mean(sample_means)"
   ]
  },
  {
   "cell_type": "code",
   "execution_count": 32,
   "id": "0ddac050",
   "metadata": {},
   "outputs": [
    {
     "data": {
      "text/plain": [
       "69.547"
      ]
     },
     "execution_count": 32,
     "metadata": {},
     "output_type": "execute_result"
    }
   ],
   "source": [
    "# 표본 크기 n이 100만개일 때 기댓값 확인해보기\n",
    "\n",
    "samples2 = np.random.choice(scores, int(1e6))\n",
    "np.mean(samples2)"
   ]
  },
  {
   "cell_type": "code",
   "execution_count": 34,
   "id": "f68765d6",
   "metadata": {},
   "outputs": [
    {
     "name": "stdout",
     "output_type": "stream",
     "text": [
      "1번째 표본분산: 116.800\n",
      "2번째 표본분산: 162.928\n",
      "3번째 표본분산: 187.060\n",
      "4번째 표본분산: 149.148\n",
      "5번째 표본분산: 111.528\n"
     ]
    }
   ],
   "source": [
    "# 5개의 표본을 뽑아 분산 확인해보기\n",
    "\n",
    "for i in range(5):\n",
    "    s_var = np.var(samples[i])\n",
    "    print(f'{i+1}번째 표본분산: {s_var:.3f}')"
   ]
  },
  {
   "cell_type": "code",
   "execution_count": 38,
   "id": "40b4e687",
   "metadata": {},
   "outputs": [
    {
     "data": {
      "text/plain": [
       "196.344"
      ]
     },
     "execution_count": 38,
     "metadata": {},
     "output_type": "execute_result"
    }
   ],
   "source": [
    "# 표본크기가 20인 1만개 표본의 분산 확인해보기\n",
    "\n",
    "sample_vars = np.var(samples, axis = 1)\n",
    "np.mean(sample_vars)"
   ]
  },
  {
   "cell_type": "code",
   "execution_count": 40,
   "id": "6770f35f",
   "metadata": {},
   "outputs": [
    {
     "data": {
      "text/plain": [
       "206.678"
      ]
     },
     "execution_count": 40,
     "metadata": {},
     "output_type": "execute_result"
    }
   ],
   "source": [
    "# 표본크기가 20인 1만개 표본의 '불편'분산 확인해보기\n",
    "\n",
    "samples_u_vars = np.var(samples, axis = 1, ddof = 1)\n",
    "np.mean(samples_u_vars)"
   ]
  },
  {
   "cell_type": "code",
   "execution_count": 41,
   "id": "586de028",
   "metadata": {},
   "outputs": [
    {
     "data": {
      "text/plain": [
       "206.657"
      ]
     },
     "execution_count": 41,
     "metadata": {},
     "output_type": "execute_result"
    }
   ],
   "source": [
    "# 표본 크기 n이 100만개일 때 '불편'분산 확인해보기\n",
    "\n",
    "np.var(np.random.choice(scores, int(1e6)), ddof = 1)"
   ]
  },
  {
   "cell_type": "code",
   "execution_count": 43,
   "id": "6082c0a5",
   "metadata": {},
   "outputs": [
    {
     "data": {
      "text/plain": [
       "158.253"
      ]
     },
     "execution_count": 43,
     "metadata": {},
     "output_type": "execute_result"
    }
   ],
   "source": [
    "u_var = np.var(sample, ddof = 1)\n",
    "u_var"
   ]
  },
  {
   "cell_type": "markdown",
   "id": "efd62d34",
   "metadata": {},
   "source": [
    "### 구간추정"
   ]
  },
  {
   "cell_type": "markdown",
   "id": "f9cb0640",
   "metadata": {},
   "source": [
    "- 구간추정을 100번 하더라도 모평균은 실제 값이 하나로 정해져있기 때문에 \n",
    "- 신뢰구간 95%의 뜻은 <b>'동일한 방법으로 수차례 표본추출하여 구간추정을 하면 그 중 95%의 구간추정에는 모평균이 포함되어 있다'</b>임"
   ]
  },
  {
   "cell_type": "code",
   "execution_count": 97,
   "id": "df84697e",
   "metadata": {},
   "outputs": [
    {
     "data": {
      "text/plain": [
       "(69.530, 206.669)"
      ]
     },
     "execution_count": 97,
     "metadata": {},
     "output_type": "execute_result"
    }
   ],
   "source": [
    "df = pd.read_csv('ch4_scores400.csv')\n",
    "scores = np.array(df['score'])\n",
    "\n",
    "# 모집단의 평균, 분산\n",
    "p_mean = np.mean(scores)\n",
    "p_var = np.var(scores)\n",
    "\n",
    "p_mean, p_var"
   ]
  },
  {
   "cell_type": "code",
   "execution_count": 88,
   "id": "67fb6bdc",
   "metadata": {},
   "outputs": [],
   "source": [
    "np.random.seed(0)\n",
    "\n",
    "\n",
    "# 표본 수가 20개\n",
    "n = 20\n",
    "sample = np.random.choice(scores, n)\n",
    "s_mean = np.mean(sample)\n",
    "\n",
    "\n",
    "# 표본 집단 수가 10000개\n",
    "samples = np.random.choice(scores, (10000, n))\n",
    "\n",
    "\n",
    "# 표본 수가 1000000개\n",
    "samples2 = np.random.choice(scores, int(1e6))"
   ]
  },
  {
   "cell_type": "code",
   "execution_count": 89,
   "id": "8069a749",
   "metadata": {},
   "outputs": [
    {
     "data": {
      "text/plain": [
       "(64.100, 76.700)"
      ]
     },
     "execution_count": 89,
     "metadata": {},
     "output_type": "execute_result"
    }
   ],
   "source": [
    "rv = stats.norm()\n",
    "lcl = s_mean - rv.isf(0.025)*np.sqrt(p_var/n)\n",
    "ucl = s_mean - rv.isf(0.975)*np.sqrt(p_var/n)\n",
    "\n",
    "lcl, ucl"
   ]
  },
  {
   "cell_type": "code",
   "execution_count": 106,
   "id": "2e7657a6",
   "metadata": {},
   "outputs": [
    {
     "data": {
      "image/png": "[encoded data removed]",
      "text/plain": [
       "<Figure size 720x720 with 1 Axes>"
      ]
     },
     "metadata": {
      "needs_background": "light"
     },
     "output_type": "display_data"
    }
   ],
   "source": [
    "fig = plt.figure(figsize = (10,10))\n",
    "ax = fig.add_subplot(111)\n",
    "\n",
    "rv = stats.norm()\n",
    "n_samples = 20\n",
    "ax.vlines(p_mean, 0, 21, color = 'black')\n",
    "\n",
    "for i in range(n_samples):\n",
    "    sample_ = samples[i+20]\n",
    "    s_mean_ = np.mean(sample_)\n",
    "    lcl = s_mean_ - rv.isf(0.025)*np.sqrt(p_var/n)\n",
    "    ucl = s_mean_ - rv.isf(0.975)*np.sqrt(p_var/n)\n",
    "    \n",
    "    if lcl <= p_mean <= ucl:\n",
    "        ax.scatter(s_mean_, n_samples-i, color = 'gray')\n",
    "        ax.hlines(n_samples-i, lcl, ucl, color = 'gray')\n",
    "    else:\n",
    "        ax.scatter(s_mean_, n_samples-i, color = 'lightgreen')\n",
    "        ax.hlines(n_samples-i, lcl, ucl, color = 'lightgreen')\n",
    "    \n",
    "    ax.set_xticks([p_mean])\n",
    "    ax.set_xticklabels(['Population Mean'])\n",
    "\n",
    "plt.show()"
   ]
  },
  {
   "cell_type": "markdown",
   "id": "1b509a76",
   "metadata": {},
   "source": [
    "#### 정규분포의 모분산 구간추정"
   ]
  },
  {
   "cell_type": "code",
   "execution_count": null,
   "id": "62844334",
   "metadata": {},
   "outputs": [],
   "source": []
  },
  {
   "cell_type": "markdown",
   "id": "bc64d99b",
   "metadata": {},
   "source": [
    "#### 정규분포의 모평균 구간추정: 모분산을 모르는 경우"
   ]
  },
  {
   "cell_type": "code",
   "execution_count": null,
   "id": "3a811dde",
   "metadata": {},
   "outputs": [],
   "source": []
  },
  {
   "cell_type": "markdown",
   "id": "e9eb85f5",
   "metadata": {},
   "source": [
    "#### 베르누이분포의 모평균 구간추정"
   ]
  },
  {
   "cell_type": "code",
   "execution_count": null,
   "id": "13ecbb9e",
   "metadata": {},
   "outputs": [],
   "source": []
  },
  {
   "cell_type": "markdown",
   "id": "b0d550d0",
   "metadata": {},
   "source": [
    "#### 포아송분포의 모평균 구간추정"
   ]
  },
  {
   "cell_type": "code",
   "execution_count": null,
   "id": "36cf9d9e",
   "metadata": {},
   "outputs": [],
   "source": []
  },
  {
   "cell_type": "markdown",
   "id": "8f93bbe3",
   "metadata": {},
   "source": [
    "#### 과제:\n",
    "- 다음 용어를 예를 들어 설명하기\n",
    "    - 불편성, 일치성, 불편분산\n",
    "- 카이제곱분포, t분포가 구간 추정에 활용된 사례를 만들어 설명하기"
   ]
  },
  {
   "cell_type": "code",
   "execution_count": null,
   "id": "2ebfc6d6",
   "metadata": {},
   "outputs": [],
   "source": []
  }
 ],
 "metadata": {
  "kernelspec": {
   "display_name": "Python 3 (ipykernel)",
   "language": "python",
   "name": "python3"
  },
  "language_info": {
   "codemirror_mode": {
    "name": "ipython",
    "version": 3
   },
   "file_extension": ".py",
   "mimetype": "text/x-python",
   "name": "python",
   "nbconvert_exporter": "python",
   "pygments_lexer": "ipython3",
   "version": "3.8.13"
  },
  "toc": {
   "base_numbering": 1,
   "nav_menu": {},
   "number_sections": true,
   "sideBar": true,
   "skip_h1_title": false,
   "title_cell": "Table of Contents",
   "title_sidebar": "Contents",
   "toc_cell": false,
   "toc_position": {},
   "toc_section_display": true,
   "toc_window_display": false
  }
 },
 "nbformat": 4,
 "nbformat_minor": 5
}
