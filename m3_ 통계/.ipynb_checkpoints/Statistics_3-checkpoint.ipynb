{
 "cells": [
  {
   "cell_type": "markdown",
   "id": "c6787fff",
   "metadata": {},
   "source": [
    "## 통계적 추정"
   ]
  },
  {
   "cell_type": "code",
   "execution_count": 1,
   "id": "ac82f0c2",
   "metadata": {},
   "outputs": [
    {
     "data": {
      "text/plain": [
       "'%.3f'"
      ]
     },
     "execution_count": 1,
     "metadata": {},
     "output_type": "execute_result"
    }
   ],
   "source": [
    "import numpy as np\n",
    "import pandas as pd\n",
    "import matplotlib.pyplot as plt\n",
    "from scipy import stats\n",
    "\n",
    "%precision 3"
   ]
  },
  {
   "cell_type": "code",
   "execution_count": 5,
   "id": "2512e681",
   "metadata": {},
   "outputs": [
    {
     "data": {
      "text/html": [
       "<div>\n",
       "<style scoped>\n",
       "    .dataframe tbody tr th:only-of-type {\n",
       "        vertical-align: middle;\n",
       "    }\n",
       "\n",
       "    .dataframe tbody tr th {\n",
       "        vertical-align: top;\n",
       "    }\n",
       "\n",
       "    .dataframe thead th {\n",
       "        text-align: right;\n",
       "    }\n",
       "</style>\n",
       "<table border=\"1\" class=\"dataframe\">\n",
       "  <thead>\n",
       "    <tr style=\"text-align: right;\">\n",
       "      <th></th>\n",
       "      <th>score</th>\n",
       "    </tr>\n",
       "  </thead>\n",
       "  <tbody>\n",
       "    <tr>\n",
       "      <th>0</th>\n",
       "      <td>76</td>\n",
       "    </tr>\n",
       "    <tr>\n",
       "      <th>1</th>\n",
       "      <td>55</td>\n",
       "    </tr>\n",
       "    <tr>\n",
       "      <th>2</th>\n",
       "      <td>80</td>\n",
       "    </tr>\n",
       "    <tr>\n",
       "      <th>3</th>\n",
       "      <td>80</td>\n",
       "    </tr>\n",
       "    <tr>\n",
       "      <th>4</th>\n",
       "      <td>74</td>\n",
       "    </tr>\n",
       "  </tbody>\n",
       "</table>\n",
       "</div>"
      ],
      "text/plain": [
       "   score\n",
       "0     76\n",
       "1     55\n",
       "2     80\n",
       "3     80\n",
       "4     74"
      ]
     },
     "execution_count": 5,
     "metadata": {},
     "output_type": "execute_result"
    }
   ],
   "source": [
    "df = pd.read_csv('ch4_scores400.csv')\n",
    "df.head()"
   ]
  },
  {
   "cell_type": "code",
   "execution_count": 8,
   "id": "115b81f5",
   "metadata": {},
   "outputs": [
    {
     "data": {
      "text/plain": [
       "array([76, 55, 80, 80, 74], dtype=int64)"
      ]
     },
     "execution_count": 8,
     "metadata": {},
     "output_type": "execute_result"
    }
   ],
   "source": [
    "scores = np.array(df['score'])\n",
    "scores[:5]"
   ]
  },
  {
   "cell_type": "code",
   "execution_count": 9,
   "id": "e0a66d32",
   "metadata": {},
   "outputs": [
    {
     "data": {
      "text/plain": [
       "(69.530, 206.669)"
      ]
     },
     "execution_count": 9,
     "metadata": {},
     "output_type": "execute_result"
    }
   ],
   "source": [
    "# 모집단의 평균, 분산\n",
    "\n",
    "p_mean = np.mean(scores)\n",
    "p_var = np.var(scores)\n",
    "\n",
    "p_mean, p_var"
   ]
  },
  {
   "cell_type": "code",
   "execution_count": 14,
   "id": "62955e84",
   "metadata": {},
   "outputs": [
    {
     "data": {
      "image/png": "[encoded data removed]",
      "text/plain": [
       "<Figure size 720x432 with 1 Axes>"
      ]
     },
     "metadata": {
      "needs_background": "light"
     },
     "output_type": "display_data"
    }
   ],
   "source": [
    "# 모집단의 분포 살펴보기\n",
    "# 정규분포를 이룬다고 가정하여 추정하기\n",
    "\n",
    "fig = plt.figure(figsize = (10,6))\n",
    "ax = fig.add_subplot(111)\n",
    "\n",
    "xs = np.arange(101)\n",
    "rv = stats.norm(p_mean, np.sqrt(p_var))\n",
    "\n",
    "ax.plot(xs, rv.pdf(xs), color = 'gray')\n",
    "ax.hist(scores, bins = 100, range =(0,100), density = True, color = 'pink')\n",
    "\n",
    "plt.show()"
   ]
  },
  {
   "cell_type": "markdown",
   "id": "40f66ca7",
   "metadata": {},
   "source": [
    "### 점추정\n",
    "- 모평균이나 모분산 등의 모수를 하나의 수치로 추정\n",
    "- 추정량의 기댓값이 추측하려는 모수가 되는 성질을 불편성이라고 하며 불편성을 가진 추정량을 불편추정량이라고 함\n",
    "- 표본평균이 모평균을 잘 추정할 수 있는 근거 중 하나가 바로 불편성임\n",
    "- 표본크기 n을 증가시키면 추측하기 원하는 모수에 수렴해가는 성질을 일치성이라고 하며 일치성을 지닌 추정량을 일치추정량이라고 함\n",
    "- 표본평균은 불편성과 일치성을 모두 가지고 있기 때문에 모평균을 잘 추정한다고 말할 수 있음\n"
   ]
  },
  {
   "cell_type": "code",
   "execution_count": 15,
   "id": "267299e3",
   "metadata": {},
   "outputs": [
    {
     "data": {
      "text/plain": [
       "array([49, 60, 72, 86, 52, 61, 77, 91, 80, 56, 69, 67, 90, 56, 75, 79, 60,\n",
       "       79, 68, 81], dtype=int64)"
      ]
     },
     "execution_count": 15,
     "metadata": {},
     "output_type": "execute_result"
    }
   ],
   "source": [
    "# 무작위추출한 20명의 표본 추출\n",
    "\n",
    "np.random.seed(0)\n",
    "n = 20\n",
    "sample = np.random.choice(scores, n)\n",
    "sample"
   ]
  },
  {
   "cell_type": "code",
   "execution_count": 18,
   "id": "349db1d0",
   "metadata": {},
   "outputs": [],
   "source": [
    "# 무작위추출한 20명의 표본을 1만개 추출\n",
    "\n",
    "np.random.seed(1111)\n",
    "n_sample = 10000\n",
    "samples = np.random.choice(scores, (n_sample, n))"
   ]
  },
  {
   "cell_type": "code",
   "execution_count": 30,
   "id": "f963c97e",
   "metadata": {},
   "outputs": [
    {
     "name": "stdout",
     "output_type": "stream",
     "text": [
      "1번째 표본평균: 67.0\n",
      "2번째 표본평균: 72.85\n",
      "3번째 표본평균: 69.2\n",
      "4번째 표본평균: 64.45\n",
      "5번째 표본평균: 72.65\n"
     ]
    }
   ],
   "source": [
    "# 5개의 표본을 뽑아 평균 확인해보기\n",
    "\n",
    "for i in range(5):\n",
    "    s_mean = np.mean(samples[i])\n",
    "    print(f'{i+1}번째 표본평균: {s_mean}')"
   ]
  },
  {
   "cell_type": "code",
   "execution_count": 31,
   "id": "48c1a971",
   "metadata": {},
   "outputs": [
    {
     "data": {
      "text/plain": [
       "69.538"
      ]
     },
     "execution_count": 31,
     "metadata": {},
     "output_type": "execute_result"
    }
   ],
   "source": [
    "# 표본크기가 20인 1만개 표본의 기댓값 확인해보기\n",
    "\n",
    "sample_means = np.mean(samples, axis = 1)\n",
    "np.mean(sample_means)"
   ]
  },
  {
   "cell_type": "code",
   "execution_count": 32,
   "id": "0ddac050",
   "metadata": {},
   "outputs": [
    {
     "data": {
      "text/plain": [
       "69.547"
      ]
     },
     "execution_count": 32,
     "metadata": {},
     "output_type": "execute_result"
    }
   ],
   "source": [
    "# 표본 크기 n이 100만개일 때 기댓값 확인해보기\n",
    "\n",
    "samples2 = np.random.choice(scores, int(1e6))\n",
    "np.mean(samples2)"
   ]
  },
  {
   "cell_type": "code",
   "execution_count": 34,
   "id": "f68765d6",
   "metadata": {},
   "outputs": [
    {
     "name": "stdout",
     "output_type": "stream",
     "text": [
      "1번째 표본분산: 116.800\n",
      "2번째 표본분산: 162.928\n",
      "3번째 표본분산: 187.060\n",
      "4번째 표본분산: 149.148\n",
      "5번째 표본분산: 111.528\n"
     ]
    }
   ],
   "source": [
    "# 5개의 표본을 뽑아 분산 확인해보기\n",
    "\n",
    "for i in range(5):\n",
    "    s_var = np.var(samples[i])\n",
    "    print(f'{i+1}번째 표본분산: {s_var:.3f}')"
   ]
  },
  {
   "cell_type": "code",
   "execution_count": 38,
   "id": "40b4e687",
   "metadata": {},
   "outputs": [
    {
     "data": {
      "text/plain": [
       "196.344"
      ]
     },
     "execution_count": 38,
     "metadata": {},
     "output_type": "execute_result"
    }
   ],
   "source": [
    "# 표본크기가 20인 1만개 표본의 분산 확인해보기\n",
    "\n",
    "sample_vars = np.var(samples, axis = 1)\n",
    "np.mean(sample_vars)"
   ]
  },
  {
   "cell_type": "code",
   "execution_count": 40,
   "id": "6770f35f",
   "metadata": {},
   "outputs": [
    {
     "data": {
      "text/plain": [
       "206.678"
      ]
     },
     "execution_count": 40,
     "metadata": {},
     "output_type": "execute_result"
    }
   ],
   "source": [
    "# 표본크기가 20인 1만개 표본의 '불편'분산 확인해보기\n",
    "\n",
    "samples_u_vars = np.var(samples, axis = 1, ddof = 1)\n",
    "np.mean(samples_u_vars)"
   ]
  },
  {
   "cell_type": "code",
   "execution_count": 41,
   "id": "586de028",
   "metadata": {},
   "outputs": [
    {
     "data": {
      "text/plain": [
       "206.657"
      ]
     },
     "execution_count": 41,
     "metadata": {},
     "output_type": "execute_result"
    }
   ],
   "source": [
    "# 표본 크기 n이 100만개일 때 '불편'분산 확인해보기\n",
    "\n",
    "np.var(np.random.choice(scores, int(1e6)), ddof = 1)"
   ]
  },
  {
   "cell_type": "code",
   "execution_count": 43,
   "id": "6082c0a5",
   "metadata": {},
   "outputs": [
    {
     "data": {
      "text/plain": [
       "158.253"
      ]
     },
     "execution_count": 43,
     "metadata": {},
     "output_type": "execute_result"
    }
   ],
   "source": [
    "u_var = np.var(sample, ddof = 1)\n",
    "u_var"
   ]
  },
  {
   "cell_type": "markdown",
   "id": "efd62d34",
   "metadata": {},
   "source": [
    "### 구간추정"
   ]
  },
  {
   "cell_type": "markdown",
   "id": "f9cb0640",
   "metadata": {},
   "source": [
    "- 구간추정을 100번 하더라도 모평균은 실제 값이 하나로 정해져있기 때문에 \n",
    "- 신뢰구간 95%의 뜻은 <b>'동일한 방법으로 수차례 표본추출하여 구간추정을 하면 그 중 95%의 구간추정에는 모평균이 포함되어 있다'</b>임"
   ]
  },
  {
   "cell_type": "code",
   "execution_count": 47,
   "id": "a623a975",
   "metadata": {},
   "outputs": [
    {
     "data": {
      "text/plain": [
       "'%.3f'"
      ]
     },
     "execution_count": 47,
     "metadata": {},
     "output_type": "execute_result"
    }
   ],
   "source": [
    "%precision 3"
   ]
  },
  {
   "cell_type": "code",
   "execution_count": 48,
   "id": "df84697e",
   "metadata": {},
   "outputs": [
    {
     "data": {
      "text/plain": [
       "(69.530, 206.669)"
      ]
     },
     "execution_count": 48,
     "metadata": {},
     "output_type": "execute_result"
    }
   ],
   "source": [
    "import pandas as pd\n",
    "import numpy as np\n",
    "\n",
    "df = pd.read_csv('ch4_scores400.csv')\n",
    "scores = np.array(df['score'])\n",
    "\n",
    "# 모집단의 평균, 분산\n",
    "p_mean = np.mean(scores)\n",
    "p_var = np.var(scores)\n",
    "\n",
    "p_mean, p_var"
   ]
  },
  {
   "cell_type": "code",
   "execution_count": 49,
   "id": "67fb6bdc",
   "metadata": {},
   "outputs": [],
   "source": [
    "np.random.seed(0)\n",
    "\n",
    "\n",
    "# 표본 수가 20개\n",
    "n = 20\n",
    "sample = np.random.choice(scores, n)\n",
    "s_mean = np.mean(sample)\n",
    "\n",
    "\n",
    "# 표본 집단 수가 10000개\n",
    "samples = np.random.choice(scores, (10000, n))\n",
    "\n",
    "\n",
    "# 표본 수가 1000000개\n",
    "samples2 = np.random.choice(scores, int(1e6))"
   ]
  },
  {
   "cell_type": "code",
   "execution_count": 50,
   "id": "8069a749",
   "metadata": {},
   "outputs": [
    {
     "data": {
      "text/plain": [
       "(64.100, 76.700)"
      ]
     },
     "execution_count": 50,
     "metadata": {},
     "output_type": "execute_result"
    }
   ],
   "source": [
    "from scipy import stats\n",
    "\n",
    "rv = stats.norm()\n",
    "lcl = s_mean - rv.isf(0.025)*np.sqrt(p_var/n)\n",
    "ucl = s_mean - rv.isf(0.975)*np.sqrt(p_var/n)\n",
    "\n",
    "lcl, ucl"
   ]
  },
  {
   "cell_type": "code",
   "execution_count": 51,
   "id": "2e7657a6",
   "metadata": {},
   "outputs": [
    {
     "data": {
      "image/png": "[encoded data removed]",
      "text/plain": [
       "<Figure size 720x720 with 1 Axes>"
      ]
     },
     "metadata": {
      "needs_background": "light"
     },
     "output_type": "display_data"
    }
   ],
   "source": [
    "import matplotlib.pyplot as plt\n",
    "\n",
    "fig = plt.figure(figsize = (10,10))\n",
    "ax = fig.add_subplot(111)\n",
    "\n",
    "rv = stats.norm()\n",
    "n_samples = 20\n",
    "ax.vlines(p_mean, 0, 21, color = 'black')\n",
    "\n",
    "for i in range(n_samples):\n",
    "    sample_ = samples[i+20]\n",
    "    s_mean_ = np.mean(sample_)\n",
    "    lcl = s_mean_ - rv.isf(0.025)*np.sqrt(p_var/n)\n",
    "    ucl = s_mean_ - rv.isf(0.975)*np.sqrt(p_var/n)\n",
    "    \n",
    "    if lcl <= p_mean <= ucl:\n",
    "        ax.scatter(s_mean_, n_samples-i, color = 'gray')\n",
    "        ax.hlines(n_samples-i, lcl, ucl, color = 'gray')\n",
    "    else:\n",
    "        ax.scatter(s_mean_, n_samples-i, color = 'lightgreen')\n",
    "        ax.hlines(n_samples-i, lcl, ucl, color = 'lightgreen')\n",
    "    \n",
    "    ax.set_xticks([p_mean])\n",
    "    ax.set_xticklabels(['Population Mean'])\n",
    "\n",
    "plt.show()"
   ]
  },
  {
   "cell_type": "markdown",
   "id": "5d651511",
   "metadata": {},
   "source": [
    "- 20번 중 1번 모평균을 포함하지 않는 구간추정이 수행됨 -> 95% 신뢰구간의 이미지임"
   ]
  },
  {
   "cell_type": "code",
   "execution_count": 52,
   "id": "867d4d5f",
   "metadata": {},
   "outputs": [
    {
     "data": {
      "text/plain": [
       "0.949"
      ]
     },
     "execution_count": 52,
     "metadata": {},
     "output_type": "execute_result"
    }
   ],
   "source": [
    "rv = stats.norm()\n",
    "cnt = 0\n",
    "\n",
    "for sample_ in samples:\n",
    "    s_mean_ = np.mean(sample_)\n",
    "    lcl = s_mean_ - rv.isf(0.025) * np.sqrt(p_var/n)\n",
    "    ucl = s_mean_ - rv.isf(0.975) * np.sqrt(p_var/n)\n",
    "    \n",
    "    if lcl <= p_mean <= ucl:\n",
    "        cnt += 1\n",
    "        \n",
    "cnt / len(samples)"
   ]
  },
  {
   "cell_type": "markdown",
   "id": "092a7212",
   "metadata": {},
   "source": [
    "- 신뢰구간의 약 95%가 모평균을 포함하고 있음"
   ]
  },
  {
   "cell_type": "markdown",
   "id": "1b509a76",
   "metadata": {},
   "source": [
    "#### 정규분포의 모분산 구간추정\n",
    "- 모집단으로 정규분포를 가정하고, 모평균은 모르는 상태일 때, \n",
    "Y = (n-1)s^2/σ^2  ~ X^2(n-1)"
   ]
  },
  {
   "cell_type": "code",
   "execution_count": 53,
   "id": "eedf8bdf",
   "metadata": {},
   "outputs": [
    {
     "data": {
      "text/plain": [
       "array([17.501, 22.143, 21.701, ..., 24.744, 14.681, 17.892])"
      ]
     },
     "execution_count": 53,
     "metadata": {},
     "output_type": "execute_result"
    }
   ],
   "source": [
    "# 1만개의 X 표본데이터를 가지고  Y의 표본 데이터 생성\n",
    "\n",
    "samples_u_vars = np.var(samples, axis = 1, ddof = 1)  # 불편분산\n",
    "\n",
    "sample_y = samples_u_vars * (n-1) / p_var\n",
    "sample_y"
   ]
  },
  {
   "cell_type": "code",
   "execution_count": 54,
   "id": "66c81b77",
   "metadata": {},
   "outputs": [
    {
     "data": {
      "image/png": "[encoded data removed]",
      "text/plain": [
       "<Figure size 720x432 with 1 Axes>"
      ]
     },
     "metadata": {
      "needs_background": "light"
     },
     "output_type": "display_data"
    }
   ],
   "source": [
    "# Y의 표본 데이터 히스토그램, X^2(n-1) 밀도함수 그리기\n",
    "\n",
    "fig = plt.figure(figsize = (10,6))\n",
    "ax = fig.add_subplot(111)\n",
    "\n",
    "\n",
    "n = 20\n",
    "xs = np.linspace(0, 40, 100)\n",
    "\n",
    "# X^2(n-1) 밀도함수 그리기\n",
    "rv = stats.chi2(df = n-1)\n",
    "ax.plot(xs, rv.pdf(xs), color = 'gray')\n",
    "\n",
    "# Y의 표본 데이터 히스토그램\n",
    "hist, _, _ = ax.hist(sample_y, bins = 100, range = (0,40), density = True, color = 'violet')"
   ]
  },
  {
   "cell_type": "code",
   "execution_count": 55,
   "id": "62844334",
   "metadata": {},
   "outputs": [
    {
     "data": {
      "text/plain": [
       "(91.525, 337.596)"
      ]
     },
     "execution_count": 55,
     "metadata": {},
     "output_type": "execute_result"
    }
   ],
   "source": [
    "# 모분산의 신뢰구간 구하기\n",
    "\n",
    "u_var = np.var(sample, ddof = 1)\n",
    "rv = stats.chi2(df = n-1)\n",
    "\n",
    "\n",
    "lcl = (n-1) * u_var / rv.isf(0.025)\n",
    "ucl = (n-1) * u_var / rv.isf(0.975)\n",
    "\n",
    "lcl, ucl"
   ]
  },
  {
   "cell_type": "code",
   "execution_count": 56,
   "id": "57dd52ed",
   "metadata": {},
   "outputs": [
    {
     "data": {
      "image/png": "[encoded data removed]",
      "text/plain": [
       "<Figure size 720x720 with 1 Axes>"
      ]
     },
     "metadata": {
      "needs_background": "light"
     },
     "output_type": "display_data"
    }
   ],
   "source": [
    "fig = plt.figure(figsize = (10,10))\n",
    "ax = fig.add_subplot(111)\n",
    "\n",
    "n = 20\n",
    "\n",
    "rv = stats.chi2(df = n-1)\n",
    "\n",
    "ax.vlines(p_var, 0, 21, color = 'black')\n",
    "\n",
    "for i in range(20):\n",
    "    sample_ = samples[20 + i]\n",
    "    u_var_ = np.var(sample_, ddof = 1)\n",
    "    \n",
    "    lcl = (n-1) * u_var_ / rv.isf(0.025)\n",
    "    ucl = (n-1) * u_var_ / rv.isf(0.975)\n",
    "    \n",
    "    if lcl <= p_var <= ucl:\n",
    "        ax.scatter(u_var_, 20-i, color = 'gray')\n",
    "        ax.hlines(20-i, lcl, ucl, color = 'gray')\n",
    "    else:\n",
    "        ax.scatter(u_var_, 20-i, color = 'pink')\n",
    "        ax.hlines(20-i, lcl, ucl, color = 'pink')\n",
    "\n",
    "ax.set_xticks([p_var])\n",
    "ax.set_xticklabels([' Population Varience'])\n",
    "\n",
    "plt.show()"
   ]
  },
  {
   "cell_type": "code",
   "execution_count": 57,
   "id": "44383eda",
   "metadata": {},
   "outputs": [
    {
     "data": {
      "text/plain": [
       "0.962"
      ]
     },
     "execution_count": 57,
     "metadata": {},
     "output_type": "execute_result"
    }
   ],
   "source": [
    "rv = stats.chi2(df = n-1)\n",
    "\n",
    "cnt = 0\n",
    "\n",
    "for sample_ in samples:\n",
    "    u_var_ = np.var(sample_, ddof = 1)\n",
    "    \n",
    "    lcl = (n-1) * u_var_ / rv.isf(0.025)\n",
    "    ucl = (n-1) * u_var_ / rv.isf(0.975)\n",
    "    \n",
    "    if lcl <= p_var <= ucl:\n",
    "        cnt += 1\n",
    "    \n",
    "cnt / len(samples)"
   ]
  },
  {
   "cell_type": "markdown",
   "id": "1d30bfff",
   "metadata": {},
   "source": [
    "- 신뢰구간의 약 96%가 모분산을 포함하고 있음을 확인할 수 있음"
   ]
  },
  {
   "cell_type": "markdown",
   "id": "bc64d99b",
   "metadata": {},
   "source": [
    "#### 정규분포의 모평균 구간추정: 모분산을 모르는 경우\n",
    "- 모분산을 알지 못하는 상황에서는 표준오차를 불편분산을 사용해서 구함"
   ]
  },
  {
   "cell_type": "code",
   "execution_count": 58,
   "id": "3a811dde",
   "metadata": {},
   "outputs": [
    {
     "data": {
      "text/plain": [
       "(64.512, 76.288)"
      ]
     },
     "execution_count": 58,
     "metadata": {},
     "output_type": "execute_result"
    }
   ],
   "source": [
    "rv = stats.t(df = n-1)\n",
    "\n",
    "lcl = s_mean - rv.isf(0.025) * np.sqrt(u_var/n)\n",
    "ucl = s_mean - rv.isf(0.975) * np.sqrt(u_var/n)\n",
    "\n",
    "lcl, ucl"
   ]
  },
  {
   "cell_type": "markdown",
   "id": "e9eb85f5",
   "metadata": {},
   "source": [
    "#### 베르누이분포의 모평균 구간추정"
   ]
  },
  {
   "cell_type": "code",
   "execution_count": 59,
   "id": "13ecbb9e",
   "metadata": {},
   "outputs": [
    {
     "data": {
      "text/html": [
       "<div>\n",
       "<style scoped>\n",
       "    .dataframe tbody tr th:only-of-type {\n",
       "        vertical-align: middle;\n",
       "    }\n",
       "\n",
       "    .dataframe tbody tr th {\n",
       "        vertical-align: top;\n",
       "    }\n",
       "\n",
       "    .dataframe thead th {\n",
       "        text-align: right;\n",
       "    }\n",
       "</style>\n",
       "<table border=\"1\" class=\"dataframe\">\n",
       "  <thead>\n",
       "    <tr style=\"text-align: right;\">\n",
       "      <th></th>\n",
       "      <th>known</th>\n",
       "    </tr>\n",
       "  </thead>\n",
       "  <tbody>\n",
       "    <tr>\n",
       "      <th>0</th>\n",
       "      <td>1</td>\n",
       "    </tr>\n",
       "    <tr>\n",
       "      <th>1</th>\n",
       "      <td>0</td>\n",
       "    </tr>\n",
       "    <tr>\n",
       "      <th>2</th>\n",
       "      <td>1</td>\n",
       "    </tr>\n",
       "    <tr>\n",
       "      <th>3</th>\n",
       "      <td>1</td>\n",
       "    </tr>\n",
       "    <tr>\n",
       "      <th>4</th>\n",
       "      <td>1</td>\n",
       "    </tr>\n",
       "  </tbody>\n",
       "</table>\n",
       "</div>"
      ],
      "text/plain": [
       "   known\n",
       "0      1\n",
       "1      0\n",
       "2      1\n",
       "3      1\n",
       "4      1"
      ]
     },
     "metadata": {},
     "output_type": "display_data"
    },
    {
     "data": {
      "text/plain": [
       "array([1, 0, 1, 1, 1, 1, 1, 0, 0, 1], dtype=int64)"
      ]
     },
     "execution_count": 59,
     "metadata": {},
     "output_type": "execute_result"
    }
   ],
   "source": [
    "# 자료 불러오기\n",
    "## 1. 상품 A를 알고 있음, 0. 상품 A를 알지 못함 \n",
    "\n",
    "enquete_df = pd.read_csv('ch10_enquete.csv')\n",
    "display(enquete_df.head())\n",
    "\n",
    "\n",
    "# 데이터프레임 -> 배열화\n",
    "\n",
    "enquete = np.array(enquete_df['known'])\n",
    "n = len(enquete)\n",
    "enquete[:10]"
   ]
  },
  {
   "cell_type": "code",
   "execution_count": 62,
   "id": "0d64cd19",
   "metadata": {},
   "outputs": [
    {
     "name": "stdout",
     "output_type": "stream",
     "text": [
      "평균(p): 0.709\n"
     ]
    },
    {
     "data": {
      "text/plain": [
       "(0.681, 0.737)"
      ]
     },
     "execution_count": 62,
     "metadata": {},
     "output_type": "execute_result"
    }
   ],
   "source": [
    "## X ~ Bern(p)\n",
    "\n",
    "## 평균(p) 구하기 \n",
    "s_mean = enquete.mean()\n",
    "print(f'평균(p): {s_mean}')\n",
    "\n",
    "\n",
    "## 신뢰구간 구하기\n",
    "rv = stats.norm()\n",
    "\n",
    "lcl = s_mean - rv.isf(0.025) * np.sqrt(s_mean * (1 - s_mean)/len(enquete))\n",
    "ucl = s_mean - rv.isf(0.975) * np.sqrt(s_mean * (1 - s_mean)/len(enquete))\n",
    "\n",
    "lcl, ucl"
   ]
  },
  {
   "cell_type": "markdown",
   "id": "b0d550d0",
   "metadata": {},
   "source": [
    "#### 포아송분포의 모평균 구간추정"
   ]
  },
  {
   "cell_type": "code",
   "execution_count": 65,
   "id": "36cf9d9e",
   "metadata": {},
   "outputs": [
    {
     "data": {
      "text/html": [
       "<div>\n",
       "<style scoped>\n",
       "    .dataframe tbody tr th:only-of-type {\n",
       "        vertical-align: middle;\n",
       "    }\n",
       "\n",
       "    .dataframe tbody tr th {\n",
       "        vertical-align: top;\n",
       "    }\n",
       "\n",
       "    .dataframe thead th {\n",
       "        text-align: right;\n",
       "    }\n",
       "</style>\n",
       "<table border=\"1\" class=\"dataframe\">\n",
       "  <thead>\n",
       "    <tr style=\"text-align: right;\">\n",
       "      <th></th>\n",
       "      <th>access number</th>\n",
       "    </tr>\n",
       "  </thead>\n",
       "  <tbody>\n",
       "    <tr>\n",
       "      <th>0</th>\n",
       "      <td>10</td>\n",
       "    </tr>\n",
       "    <tr>\n",
       "      <th>1</th>\n",
       "      <td>11</td>\n",
       "    </tr>\n",
       "    <tr>\n",
       "      <th>2</th>\n",
       "      <td>9</td>\n",
       "    </tr>\n",
       "    <tr>\n",
       "      <th>3</th>\n",
       "      <td>9</td>\n",
       "    </tr>\n",
       "    <tr>\n",
       "      <th>4</th>\n",
       "      <td>18</td>\n",
       "    </tr>\n",
       "  </tbody>\n",
       "</table>\n",
       "</div>"
      ],
      "text/plain": [
       "   access number\n",
       "0             10\n",
       "1             11\n",
       "2              9\n",
       "3              9\n",
       "4             18"
      ]
     },
     "metadata": {},
     "output_type": "display_data"
    },
    {
     "data": {
      "text/plain": [
       "array([10, 11,  9,  9, 18, 13,  4, 10, 10,  8], dtype=int64)"
      ]
     },
     "execution_count": 65,
     "metadata": {},
     "output_type": "execute_result"
    }
   ],
   "source": [
    "# 자료 불러오기\n",
    "## 사이트에 대한 1시간당 액세스 수가 72시간 분량이 들어있음\n",
    "\n",
    "n_access_df= pd.read_csv('ch10_access.csv')\n",
    "display(n_access_df.head())\n",
    "\n",
    "\n",
    "# 데이터프레임 -> 배열화\n",
    "\n",
    "n_access = np.array(n_access_df['access number'])\n",
    "n = len(n_access)\n",
    "n_access[:10]"
   ]
  },
  {
   "cell_type": "code",
   "execution_count": 69,
   "id": "4d89bc31",
   "metadata": {},
   "outputs": [
    {
     "name": "stdout",
     "output_type": "stream",
     "text": [
      "평균:  10.444\n"
     ]
    },
    {
     "data": {
      "text/plain": [
       "(9.698, 11.191)"
      ]
     },
     "execution_count": 69,
     "metadata": {},
     "output_type": "execute_result"
    }
   ],
   "source": [
    "# λ(1시간당 평균 액세스 수) 구하기\n",
    "\n",
    "s_mean = n_access.mean()\n",
    "print(f'평균: {s_mean: .3f}')\n",
    "\n",
    "\n",
    "# 신뢰구간 구하기\n",
    "rv = stats.norm()\n",
    "\n",
    "lcl = s_mean - rv.isf(0.025) * np.sqrt(s_mean/n)\n",
    "ucl = s_mean - rv.isf(0.975) * np.sqrt(s_mean/n)\n",
    "\n",
    "lcl, ucl"
   ]
  },
  {
   "cell_type": "markdown",
   "id": "8f93bbe3",
   "metadata": {},
   "source": [
    "#### 과제1: 다음 용어를 예를 들어 설명하기"
   ]
  },
  {
   "cell_type": "code",
   "execution_count": 86,
   "id": "5d3ba792",
   "metadata": {},
   "outputs": [
    {
     "name": "stdout",
     "output_type": "stream",
     "text": [
      "모집단 평균: 149.00\n",
      "모집단 분산: 825.68\n"
     ]
    }
   ],
   "source": [
    "# 모집단 생성\n",
    "\n",
    "population = np.array(np.random.choice(np.arange(100, 200),2000))\n",
    "population_mean = np.mean(population)\n",
    "population_var = np.var(population)\n",
    "print(f'모집단 평균: {population_mean:.2f}')\n",
    "print(f'모집단 분산: {population_var:.2f}')"
   ]
  },
  {
   "cell_type": "markdown",
   "id": "7afd07a9",
   "metadata": {},
   "source": [
    "##### 1. 불편성\n",
    "- 표본으로부터 구한 통계량의 기대치가 추정하려 하는 모수의 실제 값에 같거나 가까워지는 성질"
   ]
  },
  {
   "cell_type": "code",
   "execution_count": 106,
   "id": "be8e8c1a",
   "metadata": {},
   "outputs": [
    {
     "name": "stdout",
     "output_type": "stream",
     "text": [
      "표본의 평균:147.44\n",
      "표본의 평균:149.28\n"
     ]
    }
   ],
   "source": [
    "# 표본 생성\n",
    "sample = np.random.choice(population, (20,20))\n",
    "sample_mean = np.mean(np.mean(sample, axis = 1))\n",
    "print(f'표본의 평균:{sample_mean:.2f}')\n",
    "\n",
    "sample = np.random.choice(population, (200,20))\n",
    "sample_mean = np.mean(np.mean(sample, axis = 1))\n",
    "print(f'표본의 평균:{sample_mean:.2f}')"
   ]
  },
  {
   "cell_type": "markdown",
   "id": "f5dffa31",
   "metadata": {},
   "source": [
    "##### 2. 일치성\n",
    "- 표본의 수가 늘어날 수록 추정치가 모수에 가까워지려하는 특성"
   ]
  },
  {
   "cell_type": "code",
   "execution_count": 114,
   "id": "0f7c7b71",
   "metadata": {},
   "outputs": [
    {
     "name": "stdout",
     "output_type": "stream",
     "text": [
      "표본의 평균: 147.85\n",
      "표본의 평균: 149.01\n"
     ]
    }
   ],
   "source": [
    "# 표본 생성\n",
    "sample2 = np.random.choice(population, 500)\n",
    "sample2_mean = np.mean(sample2)\n",
    "print(f'표본의 평균: {sample2_mean:.2f}')\n",
    "\n",
    "sample2 = np.random.choice(population, 5000000)\n",
    "sample2_mean = np.mean(sample2)\n",
    "print(f'표본의 평균: {sample2_mean:.2f}')"
   ]
  },
  {
   "cell_type": "markdown",
   "id": "9389dc2b",
   "metadata": {},
   "source": [
    "##### 3. 불편분산:"
   ]
  },
  {
   "cell_type": "markdown",
   "id": "dddb198f",
   "metadata": {},
   "source": [
    "<img src = '불편분산설명.png' width = 800px>"
   ]
  },
  {
   "cell_type": "code",
   "execution_count": 123,
   "id": "8757918b",
   "metadata": {},
   "outputs": [
    {
     "name": "stdout",
     "output_type": "stream",
     "text": [
      "모집단 분산: 825.68\n",
      "표본평균의 분산: 780.51\n",
      "표본평균의 불편분산: 821.59\n",
      "표본 2의 분산: 825.89\n",
      "표본 2의 분산: 825.89\n"
     ]
    }
   ],
   "source": [
    "# 모집단 분산\n",
    "print(f'모집단 분산: {population_var:.2f}')\n",
    "\n",
    "\n",
    "\n",
    "# 표본평균들(n = 20)\n",
    "## 분산 \n",
    "sample_var1_1 = np.var(sample, axis = 1)\n",
    "print(f'표본평균의 분산:{np.mean(sample_var1_1): .2f}')\n",
    "\n",
    "## 불편분산\n",
    "sample_var1_2 = np.var(sample, axis = 1, ddof = 1) \n",
    "print(f'표본평균의 불편분산:{np.mean(sample_var1_2): .2f}')\n",
    "\n",
    "\n",
    "\n",
    "# 표본(n = 5000000)\n",
    "## 분산 \n",
    "sample_var2_1 = np.var(sample2)\n",
    "print(f'표본 2의 분산:{sample_var2_1: .2f}')\n",
    "\n",
    "## 불편분산\n",
    "sample_var2_2 = np.var(sample2, ddof = 1)\n",
    "print(f'표본 2의 분산:{sample_var2_2: .2f}')\n"
   ]
  },
  {
   "cell_type": "markdown",
   "id": "51167b96",
   "metadata": {},
   "source": [
    "#### 과제2:\n",
    "<b>카이제곱분포 구간 추정에 활용된 사례를 만들어 설명하기</b>"
   ]
  },
  {
   "cell_type": "markdown",
   "id": "c9ab4140",
   "metadata": {},
   "source": [
    "A 공장에서 철판 표면의 코팅 두께의 변동이 크기 않게 조절하고자 한다. 이를 위해 철판 표면 코팅 분산에 대해 추정하기 위해 9개의 샘플을 뽑아 두께를 측정하였다. 철판두께의 모분산에 대한 95% 신뢰구간은?\n",
    "           두께: 19.3mm,19.5mm, 20.0mm, 20.3mm, 20.4mm, 20.8mm, 21.2mm, 21.4mm"
   ]
  },
  {
   "cell_type": "code",
   "execution_count": 127,
   "id": "6ca76855",
   "metadata": {},
   "outputs": [
    {
     "data": {
      "text/plain": [
       "(2.520, 23.881)"
      ]
     },
     "execution_count": 127,
     "metadata": {},
     "output_type": "execute_result"
    }
   ],
   "source": [
    "thick = [19.3, 19.5, 20.0, 20.3, 20.4, 20.8, 21.2, 21.4]\n",
    "\n",
    "# 표본(n = 8) 불편분산\n",
    "u_var = np.var(thick, ddof = 1)\n",
    "\n",
    "# 자유도가 7인 카이제곱분포\n",
    "rv = stats.chi2(df = 7)\n",
    "\n",
    "#신뢰구간\n",
    "lcl = (n-1) * u_var / rv.isf(0.025)\n",
    "ucl = (n-1) * u_var / rv.isf(0.975)\n",
    "\n",
    "lcl, ucl"
   ]
  },
  {
   "cell_type": "markdown",
   "id": "dbba35c6",
   "metadata": {},
   "source": [
    "<b> t분포가 구간 추정에 활용된 사례를 만들어 설명하기</b>\n",
    "\n",
    "표본의 크기가 작을 때 t분포를가지고 모평균을 추정함\n",
    "\n",
    "예시)\n",
    "\n",
    "서울시 중학교 3학년 남학생의 체중 평균값을 구하기 위해 학생 10명을 무작위로 추출하여 체중을 측정해서 얻은 수치가 [53.0, 51.5, 47.0, 54.5, 44.0, 53.0, 56.0, 45.5, 49.0, 55.1]일 때, 이 표본에서 해당 남학생의 체중 평균값을 95% 신뢰구간으로 추정해보기"
   ]
  },
  {
   "cell_type": "code",
   "execution_count": 124,
   "id": "2ebfc6d6",
   "metadata": {},
   "outputs": [
    {
     "data": {
      "text/plain": [
       "(47.986, 53.734)"
      ]
     },
     "execution_count": 124,
     "metadata": {},
     "output_type": "execute_result"
    }
   ],
   "source": [
    "middle = np.array([53.0, 51.5, 47.0, 54.5, 44.0, 53.0, 56.0, 45.5, 49.0, 55.1])\n",
    "\n",
    "# 표본(n = 10) 평균\n",
    "middle_mean = np.mean(middle)\n",
    "# 분산\n",
    "middle_var = np.var(middle)\n",
    "\n",
    "# 자유도가 9인 t분포\n",
    "rv = stats.t(9)\n",
    "\n",
    "# 신뢰구간\n",
    "lcl = middle_mean - rv.isf(0.025) * np.sqrt(middle_var/10) \n",
    "ucl = middle_mean - rv.isf(0.975) * np.sqrt(middle_var/10)\n",
    "\n",
    "# 동일한 방법으로 수차례 표본추출해서 구간추정을 하면, 그 중 95%의 구간추정에는 모평균이 포마되어 있음\n",
    "lcl, ucl"
   ]
  },
  {
   "cell_type": "code",
   "execution_count": null,
   "id": "17012ab7",
   "metadata": {},
   "outputs": [],
   "source": []
  }
 ],
 "metadata": {
  "kernelspec": {
   "display_name": "Python 3 (ipykernel)",
   "language": "python",
   "name": "python3"
  },
  "language_info": {
   "codemirror_mode": {
    "name": "ipython",
    "version": 3
   },
   "file_extension": ".py",
   "mimetype": "text/x-python",
   "name": "python",
   "nbconvert_exporter": "python",
   "pygments_lexer": "ipython3",
   "version": "3.8.13"
  },
  "toc": {
   "base_numbering": 1,
   "nav_menu": {},
   "number_sections": true,
   "sideBar": true,
   "skip_h1_title": false,
   "title_cell": "Table of Contents",
   "title_sidebar": "Contents",
   "toc_cell": false,
   "toc_position": {},
   "toc_section_display": true,
   "toc_window_display": true
  }
 },
 "nbformat": 4,
 "nbformat_minor": 5
}
