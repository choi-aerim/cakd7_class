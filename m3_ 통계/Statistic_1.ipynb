{
 "cells": [
  {
   "cell_type": "markdown",
   "id": "b059e9f9",
   "metadata": {},
   "source": [
    "## 1차원 데이터\n",
    "- 평균값(기댓값), 표본분산, 불편분산(ddof=1), 표준편차\n",
    "- 표본분산은 표본의 평균을 사용해서 분산을 계산한 값으로 분산을 과소 추정하는 경향이 있으며 그 경향을 없애기 위한 것이 불편분산임. 표본분산 보다 조금 큰 값이 된다.\n",
    "- 표준화 : 평균값이 큰 변수와 작은 변수가 섞여 있으면 다루기 어려우므로 표준화로 데이터를 비교하기 쉽게 한다.\n",
    "- 최댓값, 최솟값, 중앙값, 사분위수\n",
    "- 표본분산과 비편향 분산\n",
    "    - 분산은 표본 분산과 불편분산(unbiased variance)의 두 종류가 존재\n",
    "    - 표본 분산은 표본에서 계산된 분산이며 모집단에 비해 표본수가 적을 때는 표본 분산이 모분산보다 작아진다.\n",
    "    - 즉 표본 분산이 모집단 분산에 맞춰서 동일하게 보정한 것을 비편향 분산이라 한다.\n",
    "    - 통계학에서는 이 비편향분산을 사용하는 경우가 많다.\n",
    "    - 불편분산은 n대신 n-1로 나누어 구할 수 있다.\n",
    "\n",
    "\n",
    "[표분분산이 분산을 과소 평가하는 이유]\n",
    "    \n",
    "    호수안에 물고기가 7마리가 있다. 몸길이 {1,2,3,4,5,6,7}, 모평균 4, 샘플링1 3마리{1,2,3} 표본평균 2, 샘플링2 {5,6,7} 표본평균 6\n",
    "    이때 분산은 모평균을 모르기 때문에 표본평균과의 거리를 계산하며 분산을 과소평가 하게된다.\n",
    "    표본 분산 보다 조금 더 큰 값이 되도록 보정하기 위하여 N대신 N-1로 나누어 불편분산을 구할 수 있다.\n"
   ]
  },
  {
   "cell_type": "markdown",
   "id": "03d8e15c",
   "metadata": {},
   "source": [
    "### 데이터불러오기"
   ]
  },
  {
   "cell_type": "code",
   "execution_count": 12,
   "id": "5c20ea97",
   "metadata": {
    "scrolled": true
   },
   "outputs": [
    {
     "data": {
      "text/html": [
       "<div>\n",
       "<style scoped>\n",
       "    .dataframe tbody tr th:only-of-type {\n",
       "        vertical-align: middle;\n",
       "    }\n",
       "\n",
       "    .dataframe tbody tr th {\n",
       "        vertical-align: top;\n",
       "    }\n",
       "\n",
       "    .dataframe thead th {\n",
       "        text-align: right;\n",
       "    }\n",
       "</style>\n",
       "<table border=\"1\" class=\"dataframe\">\n",
       "  <thead>\n",
       "    <tr style=\"text-align: right;\">\n",
       "      <th></th>\n",
       "      <th>student number</th>\n",
       "      <th>english</th>\n",
       "      <th>mathematics</th>\n",
       "    </tr>\n",
       "  </thead>\n",
       "  <tbody>\n",
       "    <tr>\n",
       "      <th>0</th>\n",
       "      <td>1</td>\n",
       "      <td>42</td>\n",
       "      <td>65</td>\n",
       "    </tr>\n",
       "    <tr>\n",
       "      <th>1</th>\n",
       "      <td>2</td>\n",
       "      <td>69</td>\n",
       "      <td>80</td>\n",
       "    </tr>\n",
       "    <tr>\n",
       "      <th>2</th>\n",
       "      <td>3</td>\n",
       "      <td>56</td>\n",
       "      <td>63</td>\n",
       "    </tr>\n",
       "    <tr>\n",
       "      <th>3</th>\n",
       "      <td>4</td>\n",
       "      <td>41</td>\n",
       "      <td>63</td>\n",
       "    </tr>\n",
       "    <tr>\n",
       "      <th>4</th>\n",
       "      <td>5</td>\n",
       "      <td>57</td>\n",
       "      <td>76</td>\n",
       "    </tr>\n",
       "  </tbody>\n",
       "</table>\n",
       "</div>"
      ],
      "text/plain": [
       "   student number  english  mathematics\n",
       "0               1       42           65\n",
       "1               2       69           80\n",
       "2               3       56           63\n",
       "3               4       41           63\n",
       "4               5       57           76"
      ]
     },
     "execution_count": 12,
     "metadata": {},
     "output_type": "execute_result"
    }
   ],
   "source": [
    "import pandas as pd\n",
    "import numpy as np\n",
    "\n",
    "df = pd.read_csv('ch2_scores_em.csv')\n",
    "df.head()"
   ]
  },
  {
   "cell_type": "code",
   "execution_count": 13,
   "id": "7269eca9",
   "metadata": {},
   "outputs": [
    {
     "data": {
      "text/plain": [
       "array([42, 69, 56, 41, 57, 48, 65, 49, 65, 58], dtype=int64)"
      ]
     },
     "execution_count": 13,
     "metadata": {},
     "output_type": "execute_result"
    }
   ],
   "source": [
    "scores = np.array(df['english'])[:10]\n",
    "scores"
   ]
  },
  {
   "cell_type": "code",
   "execution_count": 14,
   "id": "ea52ed4f",
   "metadata": {},
   "outputs": [
    {
     "data": {
      "text/html": [
       "<div>\n",
       "<style scoped>\n",
       "    .dataframe tbody tr th:only-of-type {\n",
       "        vertical-align: middle;\n",
       "    }\n",
       "\n",
       "    .dataframe tbody tr th {\n",
       "        vertical-align: top;\n",
       "    }\n",
       "\n",
       "    .dataframe thead th {\n",
       "        text-align: right;\n",
       "    }\n",
       "</style>\n",
       "<table border=\"1\" class=\"dataframe\">\n",
       "  <thead>\n",
       "    <tr style=\"text-align: right;\">\n",
       "      <th></th>\n",
       "      <th>score</th>\n",
       "    </tr>\n",
       "    <tr>\n",
       "      <th>student</th>\n",
       "      <th></th>\n",
       "    </tr>\n",
       "  </thead>\n",
       "  <tbody>\n",
       "    <tr>\n",
       "      <th>A</th>\n",
       "      <td>42</td>\n",
       "    </tr>\n",
       "    <tr>\n",
       "      <th>B</th>\n",
       "      <td>69</td>\n",
       "    </tr>\n",
       "    <tr>\n",
       "      <th>C</th>\n",
       "      <td>56</td>\n",
       "    </tr>\n",
       "    <tr>\n",
       "      <th>D</th>\n",
       "      <td>41</td>\n",
       "    </tr>\n",
       "    <tr>\n",
       "      <th>E</th>\n",
       "      <td>57</td>\n",
       "    </tr>\n",
       "    <tr>\n",
       "      <th>F</th>\n",
       "      <td>48</td>\n",
       "    </tr>\n",
       "    <tr>\n",
       "      <th>G</th>\n",
       "      <td>65</td>\n",
       "    </tr>\n",
       "    <tr>\n",
       "      <th>H</th>\n",
       "      <td>49</td>\n",
       "    </tr>\n",
       "    <tr>\n",
       "      <th>I</th>\n",
       "      <td>65</td>\n",
       "    </tr>\n",
       "    <tr>\n",
       "      <th>J</th>\n",
       "      <td>58</td>\n",
       "    </tr>\n",
       "  </tbody>\n",
       "</table>\n",
       "</div>"
      ],
      "text/plain": [
       "         score\n",
       "student       \n",
       "A           42\n",
       "B           69\n",
       "C           56\n",
       "D           41\n",
       "E           57\n",
       "F           48\n",
       "G           65\n",
       "H           49\n",
       "I           65\n",
       "J           58"
      ]
     },
     "execution_count": 14,
     "metadata": {},
     "output_type": "execute_result"
    }
   ],
   "source": [
    "scores_df = pd.DataFrame({'score': scores}, \n",
    "                         index = pd.Index([i for i in 'ABCDEFGHIJ'], name = 'student'))\n",
    "scores_df"
   ]
  },
  {
   "cell_type": "markdown",
   "id": "a3842b33",
   "metadata": {},
   "source": [
    "### 데이터 중심의 지표"
   ]
  },
  {
   "cell_type": "markdown",
   "id": "21b3f4e8",
   "metadata": {},
   "source": [
    "#### 평균값"
   ]
  },
  {
   "cell_type": "code",
   "execution_count": 16,
   "id": "1680512d",
   "metadata": {},
   "outputs": [
    {
     "data": {
      "text/plain": [
       "55.0"
      ]
     },
     "execution_count": 16,
     "metadata": {},
     "output_type": "execute_result"
    }
   ],
   "source": [
    "#방법1\n",
    "\n",
    "sum(scores)/len(scores)"
   ]
  },
  {
   "cell_type": "code",
   "execution_count": 20,
   "id": "f62b63d4",
   "metadata": {},
   "outputs": [
    {
     "data": {
      "text/plain": [
       "(55.0,\n",
       " score    55.0\n",
       " dtype: float64)"
      ]
     },
     "execution_count": 20,
     "metadata": {},
     "output_type": "execute_result"
    }
   ],
   "source": [
    "#방법2\n",
    "\n",
    "scores.mean(), scores_df.mean()"
   ]
  },
  {
   "cell_type": "code",
   "execution_count": 18,
   "id": "642c8bd5",
   "metadata": {},
   "outputs": [
    {
     "data": {
      "text/plain": [
       "55.0"
      ]
     },
     "execution_count": 18,
     "metadata": {},
     "output_type": "execute_result"
    }
   ],
   "source": [
    "#방법3\n",
    "\n",
    "np.mean(scores)"
   ]
  },
  {
   "cell_type": "markdown",
   "id": "b96a50b9",
   "metadata": {},
   "source": [
    "#### 중앙값"
   ]
  },
  {
   "cell_type": "code",
   "execution_count": 27,
   "id": "32cd7ebb",
   "metadata": {},
   "outputs": [
    {
     "data": {
      "text/plain": [
       "56.5"
      ]
     },
     "execution_count": 27,
     "metadata": {},
     "output_type": "execute_result"
    }
   ],
   "source": [
    "#방법1\n",
    "\n",
    "sorted_scores = sorted(scores)   #정렬방법1\n",
    "sorted_scores = np.sort(scores)  #정렬방법2\n",
    "\n",
    "n = len(sorted_scores)\n",
    "\n",
    "if n//2 == 0:\n",
    "    median = sorted_scores[int(n/2+1)]\n",
    "else:\n",
    "    m1 = sorted_scores[int((n-1)/2)]\n",
    "    m2 = sorted_scores[int((n+1)/2)]\n",
    "    median = (m1+m2)/2\n",
    "    \n",
    "median"
   ]
  },
  {
   "cell_type": "code",
   "execution_count": 29,
   "id": "b810eb4d",
   "metadata": {},
   "outputs": [
    {
     "data": {
      "text/plain": [
       "score    56.5\n",
       "dtype: float64"
      ]
     },
     "execution_count": 29,
     "metadata": {},
     "output_type": "execute_result"
    }
   ],
   "source": [
    "#방법2\n",
    "\n",
    "scores_df.median()"
   ]
  },
  {
   "cell_type": "code",
   "execution_count": 69,
   "id": "694f8846",
   "metadata": {},
   "outputs": [
    {
     "data": {
      "text/plain": [
       "56.5"
      ]
     },
     "execution_count": 69,
     "metadata": {},
     "output_type": "execute_result"
    }
   ],
   "source": [
    "#방법3\n",
    "\n",
    "np.median(sorted_scores)"
   ]
  },
  {
   "cell_type": "markdown",
   "id": "58c54691",
   "metadata": {},
   "source": [
    "#### 최빈값"
   ]
  },
  {
   "cell_type": "code",
   "execution_count": 37,
   "id": "e95cda38",
   "metadata": {},
   "outputs": [
    {
     "data": {
      "text/plain": [
       "0    1\n",
       "dtype: int64"
      ]
     },
     "execution_count": 37,
     "metadata": {},
     "output_type": "execute_result"
    }
   ],
   "source": [
    "pd.Series([1,1,1,2,2,3]).mode()"
   ]
  },
  {
   "cell_type": "code",
   "execution_count": 39,
   "id": "97924425",
   "metadata": {},
   "outputs": [
    {
     "data": {
      "text/plain": [
       "0    1\n",
       "1    2\n",
       "2    3\n",
       "3    4\n",
       "4    5\n",
       "5    6\n",
       "dtype: int64"
      ]
     },
     "execution_count": 39,
     "metadata": {},
     "output_type": "execute_result"
    }
   ],
   "source": [
    "pd.Series([1,2,3,4,5,6]).mode()"
   ]
  },
  {
   "cell_type": "markdown",
   "id": "88e85198",
   "metadata": {},
   "source": [
    "### 데이터의 산포도 지표"
   ]
  },
  {
   "cell_type": "markdown",
   "id": "21bb4ef8",
   "metadata": {},
   "source": [
    "#### 편차\n",
    "- 각 데이터가 평균으로부터 어느정도 떨어져 있는가를 나타내는 지표"
   ]
  },
  {
   "cell_type": "code",
   "execution_count": 46,
   "id": "2865ec41",
   "metadata": {},
   "outputs": [
    {
     "data": {
      "text/plain": [
       "array([-13.,  14.,   1., -14.,   2.,  -7.,  10.,  -6.,  10.,   3.])"
      ]
     },
     "execution_count": 46,
     "metadata": {},
     "output_type": "execute_result"
    }
   ],
   "source": [
    "#방법1\n",
    "\n",
    "mean = np.mean(scores)\n",
    "deviation = scores - mean\n",
    "deviation"
   ]
  },
  {
   "cell_type": "code",
   "execution_count": 57,
   "id": "cf37d7c0",
   "metadata": {
    "scrolled": true
   },
   "outputs": [
    {
     "data": {
      "text/plain": [
       "0.0"
      ]
     },
     "execution_count": 57,
     "metadata": {},
     "output_type": "execute_result"
    }
   ],
   "source": [
    "## 편차의 평균\n",
    "np.mean(deviation)"
   ]
  },
  {
   "cell_type": "code",
   "execution_count": 58,
   "id": "c9609641",
   "metadata": {},
   "outputs": [
    {
     "data": {
      "text/plain": [
       "[<matplotlib.lines.Line2D at 0x188c229f970>]"
      ]
     },
     "execution_count": 58,
     "metadata": {},
     "output_type": "execute_result"
    },
    {
     "data": {
      "image/png": "[encoded data removed]",
      "text/plain": [
       "<Figure size 432x288 with 1 Axes>"
      ]
     },
     "metadata": {
      "needs_background": "light"
     },
     "output_type": "display_data"
    }
   ],
   "source": [
    "## raw 값과 편차 값을 도표화\n",
    "\n",
    "import matplotlib.pyplot as plt\n",
    "\n",
    "summary_df = scores_df.copy()\n",
    "summary_df['deviation'] = deviation\n",
    "\n",
    "plt.plot(summary_df['score'], marker = 'o', color = 'pink')\n",
    "plt.plot(summary_df['deviation'], marker = 'o', color = 'red')"
   ]
  },
  {
   "cell_type": "code",
   "execution_count": 62,
   "id": "52d5cbf8",
   "metadata": {},
   "outputs": [
    {
     "data": {
      "text/plain": [
       "score        55.0\n",
       "deviation     0.0\n",
       "dtype: float64"
      ]
     },
     "execution_count": 62,
     "metadata": {},
     "output_type": "execute_result"
    }
   ],
   "source": [
    "## 데이터프레임의 평균\n",
    "\n",
    "summary_df.mean()"
   ]
  },
  {
   "cell_type": "markdown",
   "id": "31155619",
   "metadata": {},
   "source": [
    "#### 분산\n",
    "- 편차의 제곱\n",
    "- 편차의 평균이 항상 0이 되는 것 때문에 사용하는 지표"
   ]
  },
  {
   "cell_type": "code",
   "execution_count": 64,
   "id": "6d8ee0db",
   "metadata": {},
   "outputs": [
    {
     "data": {
      "text/plain": [
       "86.0"
      ]
     },
     "execution_count": 64,
     "metadata": {},
     "output_type": "execute_result"
    }
   ],
   "source": [
    "# 방법1\n",
    "\n",
    "np.var(scores)"
   ]
  },
  {
   "cell_type": "code",
   "execution_count": 66,
   "id": "1d8b5c86",
   "metadata": {},
   "outputs": [
    {
     "data": {
      "text/plain": [
       "86.0"
      ]
     },
     "execution_count": 66,
     "metadata": {},
     "output_type": "execute_result"
    }
   ],
   "source": [
    "# 방법2\n",
    "\n",
    "np.mean(deviation**2)"
   ]
  },
  {
   "cell_type": "code",
   "execution_count": 72,
   "id": "fbd9f31d",
   "metadata": {},
   "outputs": [
    {
     "data": {
      "text/plain": [
       "score    86.0\n",
       "dtype: float64"
      ]
     },
     "execution_count": 72,
     "metadata": {},
     "output_type": "execute_result"
    }
   ],
   "source": [
    "# 방법3\n",
    "\n",
    "scores_df.var(ddof = 0)   # pandas var함수의 default는 불편분산임\n",
    "                          # 따라서, ddof = 0으로 표본분산을 계산하도록 함"
   ]
  },
  {
   "cell_type": "code",
   "execution_count": 74,
   "id": "eba44b02",
   "metadata": {},
   "outputs": [
    {
     "data": {
      "text/plain": [
       "score                  55.0\n",
       "deviation               0.0\n",
       "square of deviation    86.0\n",
       "dtype: float64"
      ]
     },
     "execution_count": 74,
     "metadata": {},
     "output_type": "execute_result"
    }
   ],
   "source": [
    "# 방법4\n",
    "\n",
    "summary_df['square of deviation'] = np.square(deviation)\n",
    "summary_df.mean()"
   ]
  },
  {
   "cell_type": "markdown",
   "id": "e852ff14",
   "metadata": {},
   "source": [
    "#### 표준편차\n",
    "- 분산의 양의 제곱근\n",
    "- raw 데이터의 단위와 통일해주기 위한 지표"
   ]
  },
  {
   "cell_type": "code",
   "execution_count": 83,
   "id": "186ced89",
   "metadata": {},
   "outputs": [
    {
     "data": {
      "text/plain": [
       "9.273618495495704"
      ]
     },
     "execution_count": 83,
     "metadata": {},
     "output_type": "execute_result"
    }
   ],
   "source": [
    "# 방법1\n",
    "\n",
    "np.sqrt(np.var(scores, ddof = 0))"
   ]
  },
  {
   "cell_type": "code",
   "execution_count": 85,
   "id": "179853bb",
   "metadata": {},
   "outputs": [
    {
     "data": {
      "text/plain": [
       "9.273618495495704"
      ]
     },
     "execution_count": 85,
     "metadata": {},
     "output_type": "execute_result"
    }
   ],
   "source": [
    "# 방법2\n",
    "\n",
    "np.std(scores, ddof = 0)"
   ]
  },
  {
   "cell_type": "markdown",
   "id": "85901ade",
   "metadata": {},
   "source": [
    "#### 범위\n",
    "- 데이터 전체가 아닌 최댓값, 최솟값으로 산포도를 표현\n",
    "- 최댓값-최솟값"
   ]
  },
  {
   "cell_type": "code",
   "execution_count": 87,
   "id": "c983f464",
   "metadata": {},
   "outputs": [
    {
     "data": {
      "text/plain": [
       "28"
      ]
     },
     "execution_count": 87,
     "metadata": {},
     "output_type": "execute_result"
    }
   ],
   "source": [
    "np.max(scores) - np.min(scores)"
   ]
  },
  {
   "cell_type": "markdown",
   "id": "98c4fd9f",
   "metadata": {},
   "source": [
    "#### 사분위범위\n",
    "- 75% 상위수에 위치하는 값과 25% 하위수에 위치하는 값의 차이를 취함\n",
    "- Q3-Q1"
   ]
  },
  {
   "cell_type": "code",
   "execution_count": 88,
   "id": "c2f50535",
   "metadata": {},
   "outputs": [
    {
     "data": {
      "text/plain": [
       "15.0"
      ]
     },
     "execution_count": 88,
     "metadata": {},
     "output_type": "execute_result"
    }
   ],
   "source": [
    "# 방법1\n",
    "\n",
    "scores_q1 = np.percentile(scores, 25)\n",
    "scores_q3 = np.percentile(scores, 75)\n",
    "scores_iqr = scores_q3 - scores_q1\n",
    "scores_iqr"
   ]
  },
  {
   "cell_type": "code",
   "execution_count": 91,
   "id": "4617aafe",
   "metadata": {},
   "outputs": [
    {
     "data": {
      "text/plain": [
       "15.0"
      ]
     },
     "execution_count": 91,
     "metadata": {},
     "output_type": "execute_result"
    }
   ],
   "source": [
    "# 방법2\n",
    "\n",
    "scores_des = pd.Series(scores).describe()\n",
    "scores_des['75%'] - scores_des['25%']"
   ]
  },
  {
   "cell_type": "markdown",
   "id": "a1664bb1",
   "metadata": {},
   "source": [
    "### 과제"
   ]
  },
  {
   "cell_type": "markdown",
   "id": "e43fe0b0",
   "metadata": {},
   "source": [
    "#### 20개 원소로 구성되는 배열을 만든 후 평균, 편차 및 편차의 합을 구하기"
   ]
  },
  {
   "cell_type": "code",
   "execution_count": 122,
   "id": "6c173d68",
   "metadata": {},
   "outputs": [
    {
     "name": "stdout",
     "output_type": "stream",
     "text": [
      "배열의 평균:43.8\n",
      "배열의 편차: [ 11.2   4.2  31.2 -30.8  10.2 -39.8 -39.8 -35.8  -4.8  52.2  12.2 -10.8\n",
      " -36.8 -22.8  50.2  10.2  55.2   6.2  -9.8 -11.8]\n",
      "편차의 합: 0.0\n"
     ]
    }
   ],
   "source": [
    "import numpy as np\n",
    "import random\n",
    "\n",
    "arr = np.array(np.random.randint(0,100,20))\n",
    "\n",
    "print(f'배열의 평균:{arr.mean().round(1)}')\n",
    "print(f'배열의 편차: {(arr - arr.mean()).round(1)}')\n",
    "print(f'편차의 합: {(arr - arr.mean()).sum().round(1)}')"
   ]
  },
  {
   "cell_type": "markdown",
   "id": "f5a0b579",
   "metadata": {},
   "source": [
    "#### 중앙값 > 평균값인 경우와 중앙값 < 평균값인 두가지 집합에서 나타나는 가능성 있는 특징을 사례로 설명하기"
   ]
  },
  {
   "cell_type": "code",
   "execution_count": 112,
   "id": "ff459b3b",
   "metadata": {},
   "outputs": [
    {
     "name": "stdout",
     "output_type": "stream",
     "text": [
      "2.0 1.75\n",
      "4.0 14.0\n"
     ]
    }
   ],
   "source": [
    "#중앙값 > 평균값\n",
    "arr1 = np.array([1,1,1,2,2,2,2,3])\n",
    "print(np.median(arr1), np.mean(arr1))\n",
    "\n",
    "\n",
    "#중앙값 < 평균값\n",
    "arr2 = np.array([1,2,3,3,4,4,4,5,100])\n",
    "print(np.median(arr2), np.mean(arr2))   "
   ]
  },
  {
   "cell_type": "markdown",
   "id": "498a7df3",
   "metadata": {},
   "source": [
    "#### 4분위를 이용하여 이상치를 구하는 사례를 생성하고 시각화 및 이상치 산출하는 과정을 설명하기"
   ]
  },
  {
   "cell_type": "code",
   "execution_count": 173,
   "id": "4f4c0c07",
   "metadata": {},
   "outputs": [
    {
     "name": "stdout",
     "output_type": "stream",
     "text": [
      "1분위수: 1.5\n",
      "3분위수: 4.5\n",
      "사분위 범위: 3.0\n",
      "이상치: (-3.0, 9.0)\n"
     ]
    }
   ],
   "source": [
    "arr = np.array([0.1,1,1,1,1,1,2,2,2,2,2,3,3,3,3,3,4,5,5,6,6,6,20])\n",
    "\n",
    "arr_q1 = np.percentile(arr, 25)\n",
    "arr_q3 = np.percentile(arr, 75)\n",
    "arr_iqr = arr_q3 - arr_q1\n",
    "lower_whisker = arr_q1 - 1.5*arr_iqr\n",
    "upper_whisker = arr_q3 + 1.5*arr_iqr\n",
    "\n",
    "print(f'1분위수: {arr_q1}')\n",
    "print(f'3분위수: {arr_q3}')\n",
    "print(f'사분위 범위: {arr_iqr}')\n",
    "print(f'이상치: {lower_whisker,upper_whisker}')"
   ]
  },
  {
   "cell_type": "code",
   "execution_count": 170,
   "id": "bb7f513e",
   "metadata": {},
   "outputs": [
    {
     "data": {
      "text/plain": [
       "<AxesSubplot:xlabel='arr'>"
      ]
     },
     "execution_count": 170,
     "metadata": {},
     "output_type": "execute_result"
    },
    {
     "data": {
      "image/png": "[encoded data removed]",
      "text/plain": [
       "<Figure size 1440x216 with 2 Axes>"
      ]
     },
     "metadata": {
      "needs_background": "light"
     },
     "output_type": "display_data"
    }
   ],
   "source": [
    "# 시각화\n",
    "\n",
    "import seaborn as sns\n",
    "import warnings\n",
    "warnings.filterwarnings('ignore')\n",
    "\n",
    "df = pd.DataFrame(columns = ['arr'])\n",
    "df['arr'] = arr\n",
    "\n",
    "fig, ax = plt.subplots(1,2, figsize = (20,3))\n",
    "sns.boxplot('arr', data = df, ax = ax[0], color = 'lightsalmon')\n",
    "sns.stripplot('arr', data = df, ax = ax[1], color = 'red')"
   ]
  },
  {
   "cell_type": "markdown",
   "id": "51f795e5",
   "metadata": {},
   "source": [
    "#### 표본분산과 불편분산의 차이를 사례를 들어 설명하기"
   ]
  },
  {
   "cell_type": "code",
   "execution_count": 176,
   "id": "e0a1c65d",
   "metadata": {},
   "outputs": [
    {
     "data": {
      "text/html": [
       "<div>\n",
       "<style scoped>\n",
       "    .dataframe tbody tr th:only-of-type {\n",
       "        vertical-align: middle;\n",
       "    }\n",
       "\n",
       "    .dataframe tbody tr th {\n",
       "        vertical-align: top;\n",
       "    }\n",
       "\n",
       "    .dataframe thead th {\n",
       "        text-align: right;\n",
       "    }\n",
       "</style>\n",
       "<table border=\"1\" class=\"dataframe\">\n",
       "  <thead>\n",
       "    <tr style=\"text-align: right;\">\n",
       "      <th></th>\n",
       "      <th>student number</th>\n",
       "      <th>english</th>\n",
       "      <th>mathematics</th>\n",
       "    </tr>\n",
       "  </thead>\n",
       "  <tbody>\n",
       "    <tr>\n",
       "      <th>0</th>\n",
       "      <td>1</td>\n",
       "      <td>42</td>\n",
       "      <td>65</td>\n",
       "    </tr>\n",
       "    <tr>\n",
       "      <th>1</th>\n",
       "      <td>2</td>\n",
       "      <td>69</td>\n",
       "      <td>80</td>\n",
       "    </tr>\n",
       "    <tr>\n",
       "      <th>2</th>\n",
       "      <td>3</td>\n",
       "      <td>56</td>\n",
       "      <td>63</td>\n",
       "    </tr>\n",
       "    <tr>\n",
       "      <th>3</th>\n",
       "      <td>4</td>\n",
       "      <td>41</td>\n",
       "      <td>63</td>\n",
       "    </tr>\n",
       "    <tr>\n",
       "      <th>4</th>\n",
       "      <td>5</td>\n",
       "      <td>57</td>\n",
       "      <td>76</td>\n",
       "    </tr>\n",
       "  </tbody>\n",
       "</table>\n",
       "</div>"
      ],
      "text/plain": [
       "   student number  english  mathematics\n",
       "0               1       42           65\n",
       "1               2       69           80\n",
       "2               3       56           63\n",
       "3               4       41           63\n",
       "4               5       57           76"
      ]
     },
     "execution_count": 176,
     "metadata": {},
     "output_type": "execute_result"
    }
   ],
   "source": [
    "import pandas as pd\n",
    "import numpy as np\n",
    "\n",
    "df = pd.read_csv('ch2_scores_em.csv')\n",
    "df.head()"
   ]
  },
  {
   "cell_type": "code",
   "execution_count": 175,
   "id": "d3e3de94",
   "metadata": {},
   "outputs": [],
   "source": [
    "# 표본분산\n",
    "\n"
   ]
  },
  {
   "cell_type": "code",
   "execution_count": 174,
   "id": "99748c52",
   "metadata": {},
   "outputs": [],
   "source": [
    "# 불편분산\n",
    "\n"
   ]
  },
  {
   "cell_type": "code",
   "execution_count": null,
   "id": "6a4cd022",
   "metadata": {},
   "outputs": [],
   "source": []
  },
  {
   "cell_type": "code",
   "execution_count": null,
   "id": "5548695f",
   "metadata": {},
   "outputs": [],
   "source": []
  },
  {
   "cell_type": "code",
   "execution_count": null,
   "id": "49369ef8",
   "metadata": {},
   "outputs": [],
   "source": []
  },
  {
   "cell_type": "code",
   "execution_count": null,
   "id": "b14ad20e",
   "metadata": {},
   "outputs": [],
   "source": []
  },
  {
   "cell_type": "code",
   "execution_count": null,
   "id": "a41c9c76",
   "metadata": {},
   "outputs": [],
   "source": []
  }
 ],
 "metadata": {
  "kernelspec": {
   "display_name": "Python 3 (ipykernel)",
   "language": "python",
   "name": "python3"
  },
  "language_info": {
   "codemirror_mode": {
    "name": "ipython",
    "version": 3
   },
   "file_extension": ".py",
   "mimetype": "text/x-python",
   "name": "python",
   "nbconvert_exporter": "python",
   "pygments_lexer": "ipython3",
   "version": "3.8.13"
  },
  "toc": {
   "base_numbering": 1,
   "nav_menu": {},
   "number_sections": true,
   "sideBar": true,
   "skip_h1_title": false,
   "title_cell": "Table of Contents",
   "title_sidebar": "Contents",
   "toc_cell": false,
   "toc_position": {},
   "toc_section_display": true,
   "toc_window_display": false
  }
 },
 "nbformat": 4,
 "nbformat_minor": 5
}
