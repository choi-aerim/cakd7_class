{
 "cells": [
  {
   "cell_type": "markdown",
   "id": "b059e9f9",
   "metadata": {},
   "source": [
    "## 1차원 데이터\n",
    "- 평균값(기댓값), 표본분산, 불편분산(ddof=1), 표준편차\n",
    "- 표본분산은 표본의 평균을 사용해서 분산을 계산한 값으로 분산을 과소 추정하는 경향이 있으며 그 경향을 없애기 위한 것이 불편분산임. 표본분산 보다 조금 큰 값이 된다.\n",
    "- 표준화 : 평균값이 큰 변수와 작은 변수가 섞여 있으면 다루기 어려우므로 표준화로 데이터를 비교하기 쉽게 한다.\n",
    "- 최댓값, 최솟값, 중앙값, 사분위수\n",
    "- 표본분산과 비편향 분산\n",
    "    - 분산은 표본 분산과 불편분산(unbiased variance)의 두 종류가 존재\n",
    "    - 표본 분산은 표본에서 계산된 분산이며 모집단에 비해 표본수가 적을 때는 표본 분산이 모분산보다 작아진다.\n",
    "    - 즉 표본 분산이 모집단 분산에 맞춰서 동일하게 보정한 것을 비편향 분산이라 한다.\n",
    "    - 통계학에서는 이 비편향분산을 사용하는 경우가 많다.\n",
    "    - 불편분산은 n대신 n-1로 나누어 구할 수 있다.\n",
    "\n",
    "\n",
    "[표분분산이 분산을 과소 평가하는 이유]\n",
    "    \n",
    "    호수안에 물고기가 7마리가 있다. 몸길이 {1,2,3,4,5,6,7}, 모평균 4, 샘플링1 3마리{1,2,3} 표본평균 2, 샘플링2 {5,6,7} 표본평균 6\n",
    "    이때 분산은 모평균을 모르기 때문에 표본평균과의 거리를 계산하며 분산을 과소평가 하게된다.\n",
    "    표본 분산 보다 조금 더 큰 값이 되도록 보정하기 위하여 N대신 N-1로 나누어 불편분산을 구할 수 있다.\n"
   ]
  },
  {
   "cell_type": "markdown",
   "id": "03d8e15c",
   "metadata": {},
   "source": [
    "### 데이터불러오기"
   ]
  },
  {
   "cell_type": "code",
   "execution_count": 75,
   "id": "5c20ea97",
   "metadata": {
    "scrolled": true
   },
   "outputs": [
    {
     "data": {
      "text/html": [
       "<div>\n",
       "<style scoped>\n",
       "    .dataframe tbody tr th:only-of-type {\n",
       "        vertical-align: middle;\n",
       "    }\n",
       "\n",
       "    .dataframe tbody tr th {\n",
       "        vertical-align: top;\n",
       "    }\n",
       "\n",
       "    .dataframe thead th {\n",
       "        text-align: right;\n",
       "    }\n",
       "</style>\n",
       "<table border=\"1\" class=\"dataframe\">\n",
       "  <thead>\n",
       "    <tr style=\"text-align: right;\">\n",
       "      <th></th>\n",
       "      <th>student number</th>\n",
       "      <th>english</th>\n",
       "      <th>mathematics</th>\n",
       "    </tr>\n",
       "  </thead>\n",
       "  <tbody>\n",
       "    <tr>\n",
       "      <th>0</th>\n",
       "      <td>1</td>\n",
       "      <td>42</td>\n",
       "      <td>65</td>\n",
       "    </tr>\n",
       "    <tr>\n",
       "      <th>1</th>\n",
       "      <td>2</td>\n",
       "      <td>69</td>\n",
       "      <td>80</td>\n",
       "    </tr>\n",
       "    <tr>\n",
       "      <th>2</th>\n",
       "      <td>3</td>\n",
       "      <td>56</td>\n",
       "      <td>63</td>\n",
       "    </tr>\n",
       "    <tr>\n",
       "      <th>3</th>\n",
       "      <td>4</td>\n",
       "      <td>41</td>\n",
       "      <td>63</td>\n",
       "    </tr>\n",
       "    <tr>\n",
       "      <th>4</th>\n",
       "      <td>5</td>\n",
       "      <td>57</td>\n",
       "      <td>76</td>\n",
       "    </tr>\n",
       "  </tbody>\n",
       "</table>\n",
       "</div>"
      ],
      "text/plain": [
       "   student number  english  mathematics\n",
       "0               1       42           65\n",
       "1               2       69           80\n",
       "2               3       56           63\n",
       "3               4       41           63\n",
       "4               5       57           76"
      ]
     },
     "execution_count": 75,
     "metadata": {},
     "output_type": "execute_result"
    }
   ],
   "source": [
    "import pandas as pd\n",
    "import numpy as np\n",
    "\n",
    "df = pd.read_csv('ch2_scores_em.csv')\n",
    "df.head()"
   ]
  },
  {
   "cell_type": "code",
   "execution_count": 76,
   "id": "7269eca9",
   "metadata": {},
   "outputs": [
    {
     "data": {
      "text/plain": [
       "array([42, 69, 56, 41, 57, 48, 65, 49, 65, 58], dtype=int64)"
      ]
     },
     "execution_count": 76,
     "metadata": {},
     "output_type": "execute_result"
    }
   ],
   "source": [
    "scores = np.array(df['english'])[:10]\n",
    "scores"
   ]
  },
  {
   "cell_type": "code",
   "execution_count": 77,
   "id": "ea52ed4f",
   "metadata": {},
   "outputs": [
    {
     "data": {
      "text/html": [
       "<div>\n",
       "<style scoped>\n",
       "    .dataframe tbody tr th:only-of-type {\n",
       "        vertical-align: middle;\n",
       "    }\n",
       "\n",
       "    .dataframe tbody tr th {\n",
       "        vertical-align: top;\n",
       "    }\n",
       "\n",
       "    .dataframe thead th {\n",
       "        text-align: right;\n",
       "    }\n",
       "</style>\n",
       "<table border=\"1\" class=\"dataframe\">\n",
       "  <thead>\n",
       "    <tr style=\"text-align: right;\">\n",
       "      <th></th>\n",
       "      <th>score</th>\n",
       "    </tr>\n",
       "    <tr>\n",
       "      <th>student</th>\n",
       "      <th></th>\n",
       "    </tr>\n",
       "  </thead>\n",
       "  <tbody>\n",
       "    <tr>\n",
       "      <th>A</th>\n",
       "      <td>42</td>\n",
       "    </tr>\n",
       "    <tr>\n",
       "      <th>B</th>\n",
       "      <td>69</td>\n",
       "    </tr>\n",
       "    <tr>\n",
       "      <th>C</th>\n",
       "      <td>56</td>\n",
       "    </tr>\n",
       "    <tr>\n",
       "      <th>D</th>\n",
       "      <td>41</td>\n",
       "    </tr>\n",
       "    <tr>\n",
       "      <th>E</th>\n",
       "      <td>57</td>\n",
       "    </tr>\n",
       "    <tr>\n",
       "      <th>F</th>\n",
       "      <td>48</td>\n",
       "    </tr>\n",
       "    <tr>\n",
       "      <th>G</th>\n",
       "      <td>65</td>\n",
       "    </tr>\n",
       "    <tr>\n",
       "      <th>H</th>\n",
       "      <td>49</td>\n",
       "    </tr>\n",
       "    <tr>\n",
       "      <th>I</th>\n",
       "      <td>65</td>\n",
       "    </tr>\n",
       "    <tr>\n",
       "      <th>J</th>\n",
       "      <td>58</td>\n",
       "    </tr>\n",
       "  </tbody>\n",
       "</table>\n",
       "</div>"
      ],
      "text/plain": [
       "         score\n",
       "student       \n",
       "A           42\n",
       "B           69\n",
       "C           56\n",
       "D           41\n",
       "E           57\n",
       "F           48\n",
       "G           65\n",
       "H           49\n",
       "I           65\n",
       "J           58"
      ]
     },
     "execution_count": 77,
     "metadata": {},
     "output_type": "execute_result"
    }
   ],
   "source": [
    "scores_df = pd.DataFrame({'score': scores}, \n",
    "                         index = pd.Index([i for i in 'ABCDEFGHIJ'], name = 'student'))\n",
    "scores_df"
   ]
  },
  {
   "cell_type": "markdown",
   "id": "a3842b33",
   "metadata": {},
   "source": [
    "### 데이터 중심의 지표"
   ]
  },
  {
   "cell_type": "markdown",
   "id": "21b3f4e8",
   "metadata": {},
   "source": [
    "#### 평균값"
   ]
  },
  {
   "cell_type": "code",
   "execution_count": 78,
   "id": "1680512d",
   "metadata": {},
   "outputs": [
    {
     "data": {
      "text/plain": [
       "55.0"
      ]
     },
     "execution_count": 78,
     "metadata": {},
     "output_type": "execute_result"
    }
   ],
   "source": [
    "#방법1\n",
    "\n",
    "sum(scores)/len(scores)"
   ]
  },
  {
   "cell_type": "code",
   "execution_count": 79,
   "id": "f62b63d4",
   "metadata": {},
   "outputs": [
    {
     "data": {
      "text/plain": [
       "(55.0,\n",
       " score    55.0\n",
       " dtype: float64)"
      ]
     },
     "execution_count": 79,
     "metadata": {},
     "output_type": "execute_result"
    }
   ],
   "source": [
    "#방법2\n",
    "\n",
    "scores.mean(), scores_df.mean()"
   ]
  },
  {
   "cell_type": "code",
   "execution_count": 80,
   "id": "642c8bd5",
   "metadata": {},
   "outputs": [
    {
     "data": {
      "text/plain": [
       "55.0"
      ]
     },
     "execution_count": 80,
     "metadata": {},
     "output_type": "execute_result"
    }
   ],
   "source": [
    "#방법3\n",
    "\n",
    "np.mean(scores)"
   ]
  },
  {
   "cell_type": "markdown",
   "id": "b96a50b9",
   "metadata": {},
   "source": [
    "#### 중앙값"
   ]
  },
  {
   "cell_type": "code",
   "execution_count": 81,
   "id": "32cd7ebb",
   "metadata": {},
   "outputs": [
    {
     "data": {
      "text/plain": [
       "56.5"
      ]
     },
     "execution_count": 81,
     "metadata": {},
     "output_type": "execute_result"
    }
   ],
   "source": [
    "#방법1\n",
    "\n",
    "sorted_scores = sorted(scores)   #정렬방법1\n",
    "sorted_scores = np.sort(scores)  #정렬방법2\n",
    "\n",
    "n = len(sorted_scores)\n",
    "\n",
    "if n//2 == 0:\n",
    "    median = sorted_scores[int(n/2+1)]\n",
    "else:\n",
    "    m1 = sorted_scores[int((n-1)/2)]\n",
    "    m2 = sorted_scores[int((n+1)/2)]\n",
    "    median = (m1+m2)/2\n",
    "    \n",
    "median"
   ]
  },
  {
   "cell_type": "code",
   "execution_count": 82,
   "id": "b810eb4d",
   "metadata": {},
   "outputs": [
    {
     "data": {
      "text/plain": [
       "score    56.5\n",
       "dtype: float64"
      ]
     },
     "execution_count": 82,
     "metadata": {},
     "output_type": "execute_result"
    }
   ],
   "source": [
    "#방법2\n",
    "\n",
    "scores_df.median()"
   ]
  },
  {
   "cell_type": "code",
   "execution_count": 83,
   "id": "694f8846",
   "metadata": {},
   "outputs": [
    {
     "data": {
      "text/plain": [
       "56.5"
      ]
     },
     "execution_count": 83,
     "metadata": {},
     "output_type": "execute_result"
    }
   ],
   "source": [
    "#방법3\n",
    "\n",
    "np.median(sorted_scores)"
   ]
  },
  {
   "cell_type": "markdown",
   "id": "58c54691",
   "metadata": {},
   "source": [
    "#### 최빈값"
   ]
  },
  {
   "cell_type": "code",
   "execution_count": 84,
   "id": "e95cda38",
   "metadata": {},
   "outputs": [
    {
     "data": {
      "text/plain": [
       "0    1\n",
       "dtype: int64"
      ]
     },
     "execution_count": 84,
     "metadata": {},
     "output_type": "execute_result"
    }
   ],
   "source": [
    "pd.Series([1,1,1,2,2,3]).mode()"
   ]
  },
  {
   "cell_type": "code",
   "execution_count": 85,
   "id": "97924425",
   "metadata": {},
   "outputs": [
    {
     "data": {
      "text/plain": [
       "0    1\n",
       "1    2\n",
       "2    3\n",
       "3    4\n",
       "4    5\n",
       "5    6\n",
       "dtype: int64"
      ]
     },
     "execution_count": 85,
     "metadata": {},
     "output_type": "execute_result"
    }
   ],
   "source": [
    "pd.Series([1,2,3,4,5,6]).mode()"
   ]
  },
  {
   "cell_type": "markdown",
   "id": "88e85198",
   "metadata": {},
   "source": [
    "### 데이터의 산포도 지표"
   ]
  },
  {
   "cell_type": "markdown",
   "id": "21bb4ef8",
   "metadata": {},
   "source": [
    "#### 편차\n",
    "- 각 데이터가 평균으로부터 어느정도 떨어져 있는가를 나타내는 지표"
   ]
  },
  {
   "cell_type": "code",
   "execution_count": 86,
   "id": "2865ec41",
   "metadata": {},
   "outputs": [
    {
     "data": {
      "text/plain": [
       "array([-13.,  14.,   1., -14.,   2.,  -7.,  10.,  -6.,  10.,   3.])"
      ]
     },
     "execution_count": 86,
     "metadata": {},
     "output_type": "execute_result"
    }
   ],
   "source": [
    "#방법1\n",
    "\n",
    "mean = np.mean(scores)\n",
    "deviation = scores - mean\n",
    "deviation"
   ]
  },
  {
   "cell_type": "code",
   "execution_count": 87,
   "id": "cf37d7c0",
   "metadata": {
    "scrolled": true
   },
   "outputs": [
    {
     "data": {
      "text/plain": [
       "0.0"
      ]
     },
     "execution_count": 87,
     "metadata": {},
     "output_type": "execute_result"
    }
   ],
   "source": [
    "## 편차의 평균\n",
    "np.mean(deviation)"
   ]
  },
  {
   "cell_type": "code",
   "execution_count": 88,
   "id": "c9609641",
   "metadata": {},
   "outputs": [
    {
     "data": {
      "text/plain": [
       "[<matplotlib.lines.Line2D at 0x279f6d02e20>]"
      ]
     },
     "execution_count": 88,
     "metadata": {},
     "output_type": "execute_result"
    },
    {
     "data": {
      "image/png": "[encoded data removed]",
      "text/plain": [
       "<Figure size 432x288 with 1 Axes>"
      ]
     },
     "metadata": {
      "needs_background": "light"
     },
     "output_type": "display_data"
    }
   ],
   "source": [
    "## raw 값과 편차 값을 도표화\n",
    "\n",
    "import matplotlib.pyplot as plt\n",
    "\n",
    "summary_df = scores_df.copy()\n",
    "summary_df['deviation'] = deviation\n",
    "\n",
    "plt.plot(summary_df['score'], marker = 'o', color = 'pink')\n",
    "plt.plot(summary_df['deviation'], marker = 'o', color = 'red')"
   ]
  },
  {
   "cell_type": "code",
   "execution_count": 89,
   "id": "52d5cbf8",
   "metadata": {},
   "outputs": [
    {
     "data": {
      "text/plain": [
       "score        55.0\n",
       "deviation     0.0\n",
       "dtype: float64"
      ]
     },
     "execution_count": 89,
     "metadata": {},
     "output_type": "execute_result"
    }
   ],
   "source": [
    "## 데이터프레임의 평균\n",
    "\n",
    "summary_df.mean()"
   ]
  },
  {
   "cell_type": "markdown",
   "id": "31155619",
   "metadata": {},
   "source": [
    "#### 분산\n",
    "- 편차의 제곱\n",
    "- 편차의 평균이 항상 0이 되는 것 때문에 사용하는 지표"
   ]
  },
  {
   "cell_type": "code",
   "execution_count": 90,
   "id": "6d8ee0db",
   "metadata": {},
   "outputs": [
    {
     "data": {
      "text/plain": [
       "86.0"
      ]
     },
     "execution_count": 90,
     "metadata": {},
     "output_type": "execute_result"
    }
   ],
   "source": [
    "# 방법1\n",
    "\n",
    "np.var(scores)"
   ]
  },
  {
   "cell_type": "code",
   "execution_count": 91,
   "id": "1d8b5c86",
   "metadata": {},
   "outputs": [
    {
     "data": {
      "text/plain": [
       "86.0"
      ]
     },
     "execution_count": 91,
     "metadata": {},
     "output_type": "execute_result"
    }
   ],
   "source": [
    "# 방법2\n",
    "\n",
    "np.mean(deviation**2)"
   ]
  },
  {
   "cell_type": "code",
   "execution_count": 92,
   "id": "fbd9f31d",
   "metadata": {},
   "outputs": [
    {
     "data": {
      "text/plain": [
       "score    86.0\n",
       "dtype: float64"
      ]
     },
     "execution_count": 92,
     "metadata": {},
     "output_type": "execute_result"
    }
   ],
   "source": [
    "# 방법3\n",
    "\n",
    "scores_df.var(ddof = 0)   # pandas var함수의 default는 불편분산임\n",
    "                          # 따라서, ddof = 0으로 표본분산을 계산하도록 함"
   ]
  },
  {
   "cell_type": "code",
   "execution_count": 93,
   "id": "eba44b02",
   "metadata": {},
   "outputs": [
    {
     "data": {
      "text/plain": [
       "score                  55.0\n",
       "deviation               0.0\n",
       "square of deviation    86.0\n",
       "dtype: float64"
      ]
     },
     "execution_count": 93,
     "metadata": {},
     "output_type": "execute_result"
    }
   ],
   "source": [
    "# 방법4\n",
    "\n",
    "summary_df['square of deviation'] = np.square(deviation)\n",
    "summary_df.mean()"
   ]
  },
  {
   "cell_type": "markdown",
   "id": "e852ff14",
   "metadata": {},
   "source": [
    "#### 표준편차\n",
    "- 분산의 양의 제곱근\n",
    "- raw 데이터의 단위와 통일해주기 위한 지표"
   ]
  },
  {
   "cell_type": "code",
   "execution_count": 94,
   "id": "186ced89",
   "metadata": {},
   "outputs": [
    {
     "data": {
      "text/plain": [
       "9.273618495495704"
      ]
     },
     "execution_count": 94,
     "metadata": {},
     "output_type": "execute_result"
    }
   ],
   "source": [
    "# 방법1\n",
    "\n",
    "np.sqrt(np.var(scores, ddof = 0))"
   ]
  },
  {
   "cell_type": "code",
   "execution_count": 95,
   "id": "179853bb",
   "metadata": {},
   "outputs": [
    {
     "data": {
      "text/plain": [
       "9.273618495495704"
      ]
     },
     "execution_count": 95,
     "metadata": {},
     "output_type": "execute_result"
    }
   ],
   "source": [
    "# 방법2\n",
    "\n",
    "np.std(scores, ddof = 0)"
   ]
  },
  {
   "cell_type": "markdown",
   "id": "85901ade",
   "metadata": {},
   "source": [
    "#### 범위\n",
    "- 데이터 전체가 아닌 최댓값, 최솟값으로 산포도를 표현\n",
    "- 최댓값-최솟값"
   ]
  },
  {
   "cell_type": "code",
   "execution_count": 96,
   "id": "c983f464",
   "metadata": {},
   "outputs": [
    {
     "data": {
      "text/plain": [
       "28"
      ]
     },
     "execution_count": 96,
     "metadata": {},
     "output_type": "execute_result"
    }
   ],
   "source": [
    "np.max(scores) - np.min(scores)"
   ]
  },
  {
   "cell_type": "markdown",
   "id": "98c4fd9f",
   "metadata": {},
   "source": [
    "#### 사분위범위\n",
    "- 75% 상위수에 위치하는 값과 25% 하위수에 위치하는 값의 차이를 취함\n",
    "- Q3-Q1"
   ]
  },
  {
   "cell_type": "code",
   "execution_count": 97,
   "id": "c2f50535",
   "metadata": {},
   "outputs": [
    {
     "data": {
      "text/plain": [
       "15.0"
      ]
     },
     "execution_count": 97,
     "metadata": {},
     "output_type": "execute_result"
    }
   ],
   "source": [
    "# 방법1\n",
    "\n",
    "scores_q1 = np.percentile(scores, 25)\n",
    "scores_q3 = np.percentile(scores, 75)\n",
    "scores_iqr = scores_q3 - scores_q1\n",
    "scores_iqr"
   ]
  },
  {
   "cell_type": "code",
   "execution_count": 98,
   "id": "4617aafe",
   "metadata": {},
   "outputs": [
    {
     "data": {
      "text/plain": [
       "15.0"
      ]
     },
     "execution_count": 98,
     "metadata": {},
     "output_type": "execute_result"
    }
   ],
   "source": [
    "# 방법2\n",
    "\n",
    "scores_des = pd.Series(scores).describe()\n",
    "scores_des['75%'] - scores_des['25%']"
   ]
  },
  {
   "cell_type": "markdown",
   "id": "a1664bb1",
   "metadata": {},
   "source": [
    "### 과제"
   ]
  },
  {
   "cell_type": "markdown",
   "id": "e43fe0b0",
   "metadata": {},
   "source": [
    "#### 20개 원소로 구성되는 배열을 만든 후 평균, 편차 및 편차의 합을 구하기"
   ]
  },
  {
   "cell_type": "code",
   "execution_count": 99,
   "id": "6c173d68",
   "metadata": {},
   "outputs": [
    {
     "name": "stdout",
     "output_type": "stream",
     "text": [
      "배열의 평균: 50.6\n",
      "배열의 편차: [ 16.5  -6.5  40.4  19.5 -16.5 -39.6  19.5  26.4  33.4 -40.6  -6.5 -15.5\n",
      "  42.4 -41.6  17.5 -50.6  38.4 -49.6  12.5   0.5]\n",
      "편차의 합: 0.0\n"
     ]
    }
   ],
   "source": [
    "import numpy as np\n",
    "import random\n",
    "\n",
    "arr = np.array(np.random.randint(0,100,20))\n",
    "\n",
    "print(f'배열의 평균: {arr.mean().round(1)}')\n",
    "print(f'배열의 편차: {(arr - arr.mean()).round(1)}')\n",
    "print(f'편차의 합: {(arr - arr.mean()).sum().round(1)}')"
   ]
  },
  {
   "cell_type": "markdown",
   "id": "f5a0b579",
   "metadata": {},
   "source": [
    "#### 중앙값 > 평균값인 경우와 중앙값 < 평균값인 두가지 집합에서 나타나는 가능성 있는 특징을 사례로 설명하기"
   ]
  },
  {
   "cell_type": "code",
   "execution_count": 100,
   "id": "ff459b3b",
   "metadata": {},
   "outputs": [
    {
     "name": "stdout",
     "output_type": "stream",
     "text": [
      "2.0 -9.555555555555555\n",
      "4.0 14.0\n"
     ]
    }
   ],
   "source": [
    "#중앙값 > 평균값\n",
    "arr1 = np.array([-100,1,1,1,2,2,2,2,3])\n",
    "print(np.median(arr1), np.mean(arr1))\n",
    "\n",
    "\n",
    "#중앙값 < 평균값\n",
    "arr2 = np.array([1,2,3,3,4,4,4,5,100])\n",
    "print(np.median(arr2), np.mean(arr2))   "
   ]
  },
  {
   "cell_type": "markdown",
   "id": "498a7df3",
   "metadata": {},
   "source": [
    "#### 4분위를 이용하여 이상치를 구하는 사례를 생성하고 시각화 및 이상치 산출하는 과정을 설명하기"
   ]
  },
  {
   "cell_type": "code",
   "execution_count": 101,
   "id": "4f4c0c07",
   "metadata": {},
   "outputs": [
    {
     "name": "stdout",
     "output_type": "stream",
     "text": [
      "1분위수: 1.5\n",
      "3분위수: 4.5\n",
      "사분위범위: 3.0\n",
      "-3.0 보다 작은 수, 9.0 보다 큰 수는 이상치로 분류됨\n",
      "이상치: [20.0]\n"
     ]
    }
   ],
   "source": [
    "arr = np.array([0.1,1,1,1,1,1,2,2,2,2,2,3,3,3,3,3,4,5,5,6,6,6,20])\n",
    "\n",
    "arr_q1 = np.percentile(arr, 25)\n",
    "arr_q3 = np.percentile(arr, 75)\n",
    "arr_iqr = arr_q3 - arr_q1\n",
    "lower_whisker = arr_q1 - 1.5*arr_iqr\n",
    "upper_whisker = arr_q3 + 1.5*arr_iqr\n",
    "\n",
    "print(f'1분위수: {arr_q1}')\n",
    "print(f'3분위수: {arr_q3}')\n",
    "print(f'사분위범위: {arr_iqr}')\n",
    "print(f'{lower_whisker} 보다 작은 수, {upper_whisker} 보다 큰 수는 이상치로 분류됨')\n",
    "\n",
    "outlier = []\n",
    "for i in arr:\n",
    "    if i < lower_whisker or i > upper_whisker:\n",
    "        outlier.append(i)\n",
    "        \n",
    "print(f'이상치: {outlier}')"
   ]
  },
  {
   "cell_type": "code",
   "execution_count": 102,
   "id": "bb7f513e",
   "metadata": {},
   "outputs": [
    {
     "data": {
      "text/plain": [
       "<AxesSubplot:xlabel='arr'>"
      ]
     },
     "execution_count": 102,
     "metadata": {},
     "output_type": "execute_result"
    },
    {
     "data": {
      "image/png": "[encoded data removed]",
      "text/plain": [
       "<Figure size 1440x216 with 2 Axes>"
      ]
     },
     "metadata": {
      "needs_background": "light"
     },
     "output_type": "display_data"
    }
   ],
   "source": [
    "# 시각화\n",
    "\n",
    "import seaborn as sns\n",
    "import warnings\n",
    "warnings.filterwarnings('ignore')\n",
    "\n",
    "df = pd.DataFrame(columns = ['arr'])\n",
    "df['arr'] = arr\n",
    "\n",
    "fig, ax = plt.subplots(1,2, figsize = (20,3))\n",
    "sns.boxplot('arr', data = df, ax = ax[0], color = 'lightsalmon')\n",
    "sns.stripplot('arr', data = df, ax = ax[1], color = 'red')"
   ]
  },
  {
   "cell_type": "markdown",
   "id": "51f795e5",
   "metadata": {},
   "source": [
    "#### 표본분산과 불편분산의 차이를 사례를 들어 설명하기"
   ]
  },
  {
   "cell_type": "code",
   "execution_count": 103,
   "id": "e0a1c65d",
   "metadata": {
    "scrolled": true
   },
   "outputs": [
    {
     "data": {
      "text/html": [
       "<div>\n",
       "<style scoped>\n",
       "    .dataframe tbody tr th:only-of-type {\n",
       "        vertical-align: middle;\n",
       "    }\n",
       "\n",
       "    .dataframe tbody tr th {\n",
       "        vertical-align: top;\n",
       "    }\n",
       "\n",
       "    .dataframe thead th {\n",
       "        text-align: right;\n",
       "    }\n",
       "</style>\n",
       "<table border=\"1\" class=\"dataframe\">\n",
       "  <thead>\n",
       "    <tr style=\"text-align: right;\">\n",
       "      <th></th>\n",
       "      <th>student number</th>\n",
       "      <th>english</th>\n",
       "      <th>mathematics</th>\n",
       "    </tr>\n",
       "  </thead>\n",
       "  <tbody>\n",
       "    <tr>\n",
       "      <th>0</th>\n",
       "      <td>1</td>\n",
       "      <td>42</td>\n",
       "      <td>65</td>\n",
       "    </tr>\n",
       "    <tr>\n",
       "      <th>1</th>\n",
       "      <td>2</td>\n",
       "      <td>69</td>\n",
       "      <td>80</td>\n",
       "    </tr>\n",
       "    <tr>\n",
       "      <th>2</th>\n",
       "      <td>3</td>\n",
       "      <td>56</td>\n",
       "      <td>63</td>\n",
       "    </tr>\n",
       "    <tr>\n",
       "      <th>3</th>\n",
       "      <td>4</td>\n",
       "      <td>41</td>\n",
       "      <td>63</td>\n",
       "    </tr>\n",
       "    <tr>\n",
       "      <th>4</th>\n",
       "      <td>5</td>\n",
       "      <td>57</td>\n",
       "      <td>76</td>\n",
       "    </tr>\n",
       "    <tr>\n",
       "      <th>5</th>\n",
       "      <td>6</td>\n",
       "      <td>48</td>\n",
       "      <td>60</td>\n",
       "    </tr>\n",
       "    <tr>\n",
       "      <th>6</th>\n",
       "      <td>7</td>\n",
       "      <td>65</td>\n",
       "      <td>81</td>\n",
       "    </tr>\n",
       "    <tr>\n",
       "      <th>7</th>\n",
       "      <td>8</td>\n",
       "      <td>49</td>\n",
       "      <td>66</td>\n",
       "    </tr>\n",
       "    <tr>\n",
       "      <th>8</th>\n",
       "      <td>9</td>\n",
       "      <td>65</td>\n",
       "      <td>78</td>\n",
       "    </tr>\n",
       "    <tr>\n",
       "      <th>9</th>\n",
       "      <td>10</td>\n",
       "      <td>58</td>\n",
       "      <td>82</td>\n",
       "    </tr>\n",
       "    <tr>\n",
       "      <th>10</th>\n",
       "      <td>11</td>\n",
       "      <td>70</td>\n",
       "      <td>94</td>\n",
       "    </tr>\n",
       "    <tr>\n",
       "      <th>11</th>\n",
       "      <td>12</td>\n",
       "      <td>47</td>\n",
       "      <td>75</td>\n",
       "    </tr>\n",
       "    <tr>\n",
       "      <th>12</th>\n",
       "      <td>13</td>\n",
       "      <td>51</td>\n",
       "      <td>70</td>\n",
       "    </tr>\n",
       "    <tr>\n",
       "      <th>13</th>\n",
       "      <td>14</td>\n",
       "      <td>64</td>\n",
       "      <td>77</td>\n",
       "    </tr>\n",
       "    <tr>\n",
       "      <th>14</th>\n",
       "      <td>15</td>\n",
       "      <td>62</td>\n",
       "      <td>84</td>\n",
       "    </tr>\n",
       "    <tr>\n",
       "      <th>15</th>\n",
       "      <td>16</td>\n",
       "      <td>70</td>\n",
       "      <td>84</td>\n",
       "    </tr>\n",
       "    <tr>\n",
       "      <th>16</th>\n",
       "      <td>17</td>\n",
       "      <td>71</td>\n",
       "      <td>82</td>\n",
       "    </tr>\n",
       "    <tr>\n",
       "      <th>17</th>\n",
       "      <td>18</td>\n",
       "      <td>68</td>\n",
       "      <td>85</td>\n",
       "    </tr>\n",
       "    <tr>\n",
       "      <th>18</th>\n",
       "      <td>19</td>\n",
       "      <td>73</td>\n",
       "      <td>90</td>\n",
       "    </tr>\n",
       "    <tr>\n",
       "      <th>19</th>\n",
       "      <td>20</td>\n",
       "      <td>37</td>\n",
       "      <td>70</td>\n",
       "    </tr>\n",
       "    <tr>\n",
       "      <th>20</th>\n",
       "      <td>21</td>\n",
       "      <td>65</td>\n",
       "      <td>78</td>\n",
       "    </tr>\n",
       "    <tr>\n",
       "      <th>21</th>\n",
       "      <td>22</td>\n",
       "      <td>65</td>\n",
       "      <td>93</td>\n",
       "    </tr>\n",
       "    <tr>\n",
       "      <th>22</th>\n",
       "      <td>23</td>\n",
       "      <td>61</td>\n",
       "      <td>77</td>\n",
       "    </tr>\n",
       "    <tr>\n",
       "      <th>23</th>\n",
       "      <td>24</td>\n",
       "      <td>52</td>\n",
       "      <td>88</td>\n",
       "    </tr>\n",
       "    <tr>\n",
       "      <th>24</th>\n",
       "      <td>25</td>\n",
       "      <td>57</td>\n",
       "      <td>82</td>\n",
       "    </tr>\n",
       "    <tr>\n",
       "      <th>25</th>\n",
       "      <td>26</td>\n",
       "      <td>57</td>\n",
       "      <td>76</td>\n",
       "    </tr>\n",
       "    <tr>\n",
       "      <th>26</th>\n",
       "      <td>27</td>\n",
       "      <td>75</td>\n",
       "      <td>87</td>\n",
       "    </tr>\n",
       "    <tr>\n",
       "      <th>27</th>\n",
       "      <td>28</td>\n",
       "      <td>61</td>\n",
       "      <td>84</td>\n",
       "    </tr>\n",
       "    <tr>\n",
       "      <th>28</th>\n",
       "      <td>29</td>\n",
       "      <td>47</td>\n",
       "      <td>77</td>\n",
       "    </tr>\n",
       "    <tr>\n",
       "      <th>29</th>\n",
       "      <td>30</td>\n",
       "      <td>54</td>\n",
       "      <td>82</td>\n",
       "    </tr>\n",
       "    <tr>\n",
       "      <th>30</th>\n",
       "      <td>31</td>\n",
       "      <td>66</td>\n",
       "      <td>91</td>\n",
       "    </tr>\n",
       "    <tr>\n",
       "      <th>31</th>\n",
       "      <td>32</td>\n",
       "      <td>54</td>\n",
       "      <td>75</td>\n",
       "    </tr>\n",
       "    <tr>\n",
       "      <th>32</th>\n",
       "      <td>33</td>\n",
       "      <td>54</td>\n",
       "      <td>76</td>\n",
       "    </tr>\n",
       "    <tr>\n",
       "      <th>33</th>\n",
       "      <td>34</td>\n",
       "      <td>42</td>\n",
       "      <td>78</td>\n",
       "    </tr>\n",
       "    <tr>\n",
       "      <th>34</th>\n",
       "      <td>35</td>\n",
       "      <td>37</td>\n",
       "      <td>57</td>\n",
       "    </tr>\n",
       "    <tr>\n",
       "      <th>35</th>\n",
       "      <td>36</td>\n",
       "      <td>79</td>\n",
       "      <td>89</td>\n",
       "    </tr>\n",
       "    <tr>\n",
       "      <th>36</th>\n",
       "      <td>37</td>\n",
       "      <td>56</td>\n",
       "      <td>83</td>\n",
       "    </tr>\n",
       "    <tr>\n",
       "      <th>37</th>\n",
       "      <td>38</td>\n",
       "      <td>62</td>\n",
       "      <td>69</td>\n",
       "    </tr>\n",
       "    <tr>\n",
       "      <th>38</th>\n",
       "      <td>39</td>\n",
       "      <td>62</td>\n",
       "      <td>86</td>\n",
       "    </tr>\n",
       "    <tr>\n",
       "      <th>39</th>\n",
       "      <td>40</td>\n",
       "      <td>55</td>\n",
       "      <td>81</td>\n",
       "    </tr>\n",
       "    <tr>\n",
       "      <th>40</th>\n",
       "      <td>41</td>\n",
       "      <td>63</td>\n",
       "      <td>81</td>\n",
       "    </tr>\n",
       "    <tr>\n",
       "      <th>41</th>\n",
       "      <td>42</td>\n",
       "      <td>57</td>\n",
       "      <td>80</td>\n",
       "    </tr>\n",
       "    <tr>\n",
       "      <th>42</th>\n",
       "      <td>43</td>\n",
       "      <td>57</td>\n",
       "      <td>79</td>\n",
       "    </tr>\n",
       "    <tr>\n",
       "      <th>43</th>\n",
       "      <td>44</td>\n",
       "      <td>67</td>\n",
       "      <td>87</td>\n",
       "    </tr>\n",
       "    <tr>\n",
       "      <th>44</th>\n",
       "      <td>45</td>\n",
       "      <td>55</td>\n",
       "      <td>84</td>\n",
       "    </tr>\n",
       "    <tr>\n",
       "      <th>45</th>\n",
       "      <td>46</td>\n",
       "      <td>45</td>\n",
       "      <td>71</td>\n",
       "    </tr>\n",
       "    <tr>\n",
       "      <th>46</th>\n",
       "      <td>47</td>\n",
       "      <td>66</td>\n",
       "      <td>80</td>\n",
       "    </tr>\n",
       "    <tr>\n",
       "      <th>47</th>\n",
       "      <td>48</td>\n",
       "      <td>55</td>\n",
       "      <td>77</td>\n",
       "    </tr>\n",
       "    <tr>\n",
       "      <th>48</th>\n",
       "      <td>49</td>\n",
       "      <td>64</td>\n",
       "      <td>83</td>\n",
       "    </tr>\n",
       "    <tr>\n",
       "      <th>49</th>\n",
       "      <td>50</td>\n",
       "      <td>66</td>\n",
       "      <td>88</td>\n",
       "    </tr>\n",
       "  </tbody>\n",
       "</table>\n",
       "</div>"
      ],
      "text/plain": [
       "    student number  english  mathematics\n",
       "0                1       42           65\n",
       "1                2       69           80\n",
       "2                3       56           63\n",
       "3                4       41           63\n",
       "4                5       57           76\n",
       "5                6       48           60\n",
       "6                7       65           81\n",
       "7                8       49           66\n",
       "8                9       65           78\n",
       "9               10       58           82\n",
       "10              11       70           94\n",
       "11              12       47           75\n",
       "12              13       51           70\n",
       "13              14       64           77\n",
       "14              15       62           84\n",
       "15              16       70           84\n",
       "16              17       71           82\n",
       "17              18       68           85\n",
       "18              19       73           90\n",
       "19              20       37           70\n",
       "20              21       65           78\n",
       "21              22       65           93\n",
       "22              23       61           77\n",
       "23              24       52           88\n",
       "24              25       57           82\n",
       "25              26       57           76\n",
       "26              27       75           87\n",
       "27              28       61           84\n",
       "28              29       47           77\n",
       "29              30       54           82\n",
       "30              31       66           91\n",
       "31              32       54           75\n",
       "32              33       54           76\n",
       "33              34       42           78\n",
       "34              35       37           57\n",
       "35              36       79           89\n",
       "36              37       56           83\n",
       "37              38       62           69\n",
       "38              39       62           86\n",
       "39              40       55           81\n",
       "40              41       63           81\n",
       "41              42       57           80\n",
       "42              43       57           79\n",
       "43              44       67           87\n",
       "44              45       55           84\n",
       "45              46       45           71\n",
       "46              47       66           80\n",
       "47              48       55           77\n",
       "48              49       64           83\n",
       "49              50       66           88"
      ]
     },
     "execution_count": 103,
     "metadata": {},
     "output_type": "execute_result"
    }
   ],
   "source": [
    "import pandas as pd\n",
    "import numpy as np\n",
    "\n",
    "df = pd.read_csv('ch2_scores_em.csv')\n",
    "df"
   ]
  },
  {
   "cell_type": "code",
   "execution_count": 104,
   "id": "42f0592e",
   "metadata": {},
   "outputs": [],
   "source": [
    "df_1 = df['english']\n",
    "df_2 = df['mathematics']"
   ]
  },
  {
   "cell_type": "markdown",
   "id": "426c83ed",
   "metadata": {},
   "source": [
    "<b>1. 표본분산</b>\n",
    "<img src = \"https://img1.daumcdn.net/thumb/R1280x0/?scode=mtistory2&fname=https%3A%2F%2Fblog.kakaocdn.net%2Fdn%2Fd9lrbo%2FbtqDnwhttDQ%2FGpyLIK1ENoaLAR4rgEVuuK%2Fimg.png\">\n",
    "\n",
    "<b>2. 불편분산(비편향분산)</b>\n",
    "<img src = \"https://img1.daumcdn.net/thumb/R1280x0/?scode=mtistory2&fname=https%3A%2F%2Fblog.kakaocdn.net%2Fdn%2FRFAbv%2FbtqDmWAM3DP%2Fq2A9mSkKqBm6rZ17xPT4Fk%2Fimg.png\">\n",
    "\n",
    "참고:https://1992jhlee.tistory.com/19"
   ]
  },
  {
   "cell_type": "code",
   "execution_count": 105,
   "id": "d3e3de94",
   "metadata": {},
   "outputs": [
    {
     "name": "stdout",
     "output_type": "stream",
     "text": [
      "94.11560000000001\n",
      "69.38559999999995\n"
     ]
    }
   ],
   "source": [
    "# 표본분산 s^2 = 1/n* Σ(xi-xm)^2\n",
    "\n",
    "print(df_1.var(ddof = 0))   # pandas var함수의 default는 불편분산임. 따라서, ddof = 0으로 표본분산을 계산하도록 함\n",
    "print(df_2.var(ddof = 0))   "
   ]
  },
  {
   "cell_type": "code",
   "execution_count": 106,
   "id": "6a4cd022",
   "metadata": {
    "scrolled": true
   },
   "outputs": [
    {
     "name": "stdout",
     "output_type": "stream",
     "text": [
      "94.1156\n",
      "69.38560000000001\n"
     ]
    }
   ],
   "source": [
    "print((1/(len(df_1)))*((df_1 - df_1.mean())*(df_1 - df_1.mean())).sum())\n",
    "print((1/(len(df_2)))*((df_2 - df_2.mean())*(df_2 - df_2.mean())).sum())"
   ]
  },
  {
   "cell_type": "code",
   "execution_count": 107,
   "id": "a5985257",
   "metadata": {
    "scrolled": false
   },
   "outputs": [
    {
     "name": "stdout",
     "output_type": "stream",
     "text": [
      "94.11560000000001\n",
      "69.38559999999995\n"
     ]
    }
   ],
   "source": [
    "print(np.var(df_1, ddof = 0))\n",
    "print(np.var(df_2, ddof = 0))"
   ]
  },
  {
   "cell_type": "code",
   "execution_count": 108,
   "id": "99748c52",
   "metadata": {},
   "outputs": [
    {
     "name": "stdout",
     "output_type": "stream",
     "text": [
      "96.03632653061226\n",
      "70.80163265306118\n"
     ]
    }
   ],
   "source": [
    "# 불편분산: 1/(n-1)* Σ(xi-xm)^2 \n",
    "## 표본 분산은 표본에서 계산된 분산\n",
    "## 모집단에 비해 표본수가 적을 때는 표본 분산이 모분산보다 작아짐\n",
    "## 즉, 표본 분산이 모집단 분산에 맞춰서 동일하게 보정 한 것을 비편향 분산(불편분산)이라 함\n",
    "\n",
    "print(df_1.var(ddof = 1))   # pandas var함수의 default는 불편분산\n",
    "print(df_2.var(ddof = 1))"
   ]
  },
  {
   "cell_type": "code",
   "execution_count": 109,
   "id": "991f201c",
   "metadata": {},
   "outputs": [
    {
     "name": "stdout",
     "output_type": "stream",
     "text": [
      "96.03632653061223\n",
      "70.80163265306122\n"
     ]
    }
   ],
   "source": [
    "print((1/(len(df_1)-1))*((df_1 - df_1.mean())*(df_1 - df_1.mean())).sum())\n",
    "print((1/(len(df_2)-1))*((df_2 - df_2.mean())*(df_2 - df_2.mean())).sum())"
   ]
  },
  {
   "cell_type": "code",
   "execution_count": 110,
   "id": "a9b90e7d",
   "metadata": {},
   "outputs": [
    {
     "name": "stdout",
     "output_type": "stream",
     "text": [
      "96.03632653061226\n",
      "70.80163265306118\n"
     ]
    }
   ],
   "source": [
    "print(np.var(df_1, ddof = 1))\n",
    "print(np.var(df_2, ddof = 1))"
   ]
  },
  {
   "cell_type": "markdown",
   "id": "add3ed26",
   "metadata": {},
   "source": [
    "### 데이터의 정규화"
   ]
  },
  {
   "cell_type": "code",
   "execution_count": 123,
   "id": "7ccdf68c",
   "metadata": {},
   "outputs": [
    {
     "data": {
      "text/html": [
       "<div>\n",
       "<style scoped>\n",
       "    .dataframe tbody tr th:only-of-type {\n",
       "        vertical-align: middle;\n",
       "    }\n",
       "\n",
       "    .dataframe tbody tr th {\n",
       "        vertical-align: top;\n",
       "    }\n",
       "\n",
       "    .dataframe thead th {\n",
       "        text-align: right;\n",
       "    }\n",
       "</style>\n",
       "<table border=\"1\" class=\"dataframe\">\n",
       "  <thead>\n",
       "    <tr style=\"text-align: right;\">\n",
       "      <th></th>\n",
       "      <th>student number</th>\n",
       "      <th>english</th>\n",
       "      <th>mathematics</th>\n",
       "    </tr>\n",
       "  </thead>\n",
       "  <tbody>\n",
       "    <tr>\n",
       "      <th>0</th>\n",
       "      <td>1</td>\n",
       "      <td>42</td>\n",
       "      <td>65</td>\n",
       "    </tr>\n",
       "    <tr>\n",
       "      <th>1</th>\n",
       "      <td>2</td>\n",
       "      <td>69</td>\n",
       "      <td>80</td>\n",
       "    </tr>\n",
       "    <tr>\n",
       "      <th>2</th>\n",
       "      <td>3</td>\n",
       "      <td>56</td>\n",
       "      <td>63</td>\n",
       "    </tr>\n",
       "    <tr>\n",
       "      <th>3</th>\n",
       "      <td>4</td>\n",
       "      <td>41</td>\n",
       "      <td>63</td>\n",
       "    </tr>\n",
       "    <tr>\n",
       "      <th>4</th>\n",
       "      <td>5</td>\n",
       "      <td>57</td>\n",
       "      <td>76</td>\n",
       "    </tr>\n",
       "  </tbody>\n",
       "</table>\n",
       "</div>"
      ],
      "text/plain": [
       "   student number  english  mathematics\n",
       "0               1       42           65\n",
       "1               2       69           80\n",
       "2               3       56           63\n",
       "3               4       41           63\n",
       "4               5       57           76"
      ]
     },
     "execution_count": 123,
     "metadata": {},
     "output_type": "execute_result"
    }
   ],
   "source": [
    "import pandas as pd\n",
    "import numpy as np\n",
    "\n",
    "df = pd.read_csv('ch2_scores_em.csv')\n",
    "df.head()"
   ]
  },
  {
   "cell_type": "code",
   "execution_count": 124,
   "id": "7c5e9949",
   "metadata": {},
   "outputs": [
    {
     "data": {
      "text/plain": [
       "array([42, 69, 56, 41, 57, 48, 65, 49, 65, 58], dtype=int64)"
      ]
     },
     "execution_count": 124,
     "metadata": {},
     "output_type": "execute_result"
    }
   ],
   "source": [
    "scores = np.array(df['english'])[:10]\n",
    "scores"
   ]
  },
  {
   "cell_type": "code",
   "execution_count": 125,
   "id": "0a0a182f",
   "metadata": {},
   "outputs": [
    {
     "data": {
      "text/html": [
       "<div>\n",
       "<style scoped>\n",
       "    .dataframe tbody tr th:only-of-type {\n",
       "        vertical-align: middle;\n",
       "    }\n",
       "\n",
       "    .dataframe tbody tr th {\n",
       "        vertical-align: top;\n",
       "    }\n",
       "\n",
       "    .dataframe thead th {\n",
       "        text-align: right;\n",
       "    }\n",
       "</style>\n",
       "<table border=\"1\" class=\"dataframe\">\n",
       "  <thead>\n",
       "    <tr style=\"text-align: right;\">\n",
       "      <th></th>\n",
       "      <th>score</th>\n",
       "    </tr>\n",
       "    <tr>\n",
       "      <th>student</th>\n",
       "      <th></th>\n",
       "    </tr>\n",
       "  </thead>\n",
       "  <tbody>\n",
       "    <tr>\n",
       "      <th>A</th>\n",
       "      <td>42</td>\n",
       "    </tr>\n",
       "    <tr>\n",
       "      <th>B</th>\n",
       "      <td>69</td>\n",
       "    </tr>\n",
       "    <tr>\n",
       "      <th>C</th>\n",
       "      <td>56</td>\n",
       "    </tr>\n",
       "    <tr>\n",
       "      <th>D</th>\n",
       "      <td>41</td>\n",
       "    </tr>\n",
       "    <tr>\n",
       "      <th>E</th>\n",
       "      <td>57</td>\n",
       "    </tr>\n",
       "    <tr>\n",
       "      <th>F</th>\n",
       "      <td>48</td>\n",
       "    </tr>\n",
       "    <tr>\n",
       "      <th>G</th>\n",
       "      <td>65</td>\n",
       "    </tr>\n",
       "    <tr>\n",
       "      <th>H</th>\n",
       "      <td>49</td>\n",
       "    </tr>\n",
       "    <tr>\n",
       "      <th>I</th>\n",
       "      <td>65</td>\n",
       "    </tr>\n",
       "    <tr>\n",
       "      <th>J</th>\n",
       "      <td>58</td>\n",
       "    </tr>\n",
       "  </tbody>\n",
       "</table>\n",
       "</div>"
      ],
      "text/plain": [
       "         score\n",
       "student       \n",
       "A           42\n",
       "B           69\n",
       "C           56\n",
       "D           41\n",
       "E           57\n",
       "F           48\n",
       "G           65\n",
       "H           49\n",
       "I           65\n",
       "J           58"
      ]
     },
     "execution_count": 125,
     "metadata": {},
     "output_type": "execute_result"
    }
   ],
   "source": [
    "scores_df = pd.DataFrame({'score':scores},\n",
    "                          index = pd.Index([i for i in 'ABCDEFGHIJ'], \n",
    "                                           name = 'student'))\n",
    "scores_df"
   ]
  },
  {
   "cell_type": "markdown",
   "id": "9469cced",
   "metadata": {},
   "source": [
    "#### 표준화\n",
    "- 데이터를 비교가 용이하도록 통일된 지표로 변환하는 것\n",
    "- z = (rawdata - 평균)/ 표준편차 ~ N(0,1)"
   ]
  },
  {
   "cell_type": "code",
   "execution_count": 129,
   "id": "896d0a01",
   "metadata": {},
   "outputs": [
    {
     "data": {
      "text/plain": [
       "array([-1.40182605,  1.50965882,  0.10783277, -1.50965882,  0.21566555,\n",
       "       -0.75482941,  1.07832773, -0.64699664,  1.07832773,  0.32349832])"
      ]
     },
     "execution_count": 129,
     "metadata": {},
     "output_type": "execute_result"
    }
   ],
   "source": [
    "#표준화 변량, z-score 구하기\n",
    "\n",
    "z = (scores - np.mean(scores)) / np.std(scores)\n",
    "z"
   ]
  },
  {
   "cell_type": "code",
   "execution_count": 132,
   "id": "b80bbfa2",
   "metadata": {},
   "outputs": [
    {
     "data": {
      "text/plain": [
       "(-1.6653345369377347e-17, 0.9999999999999999)"
      ]
     },
     "execution_count": 132,
     "metadata": {},
     "output_type": "execute_result"
    }
   ],
   "source": [
    "# 표준화 변량의 평균 및 표준편차 구하기\n",
    "\n",
    "np.mean(z), np.std(z)     "
   ]
  },
  {
   "cell_type": "code",
   "execution_count": 133,
   "id": "967418a9",
   "metadata": {},
   "outputs": [
    {
     "data": {
      "text/plain": [
       "(-1.6653345369377347e-17, 1.0540925533894596)"
      ]
     },
     "execution_count": 133,
     "metadata": {},
     "output_type": "execute_result"
    }
   ],
   "source": [
    "# 표준화 변량의 평균 및 불편표준편차 구하기\n",
    "\n",
    "np.mean(z), np.std(z, ddof = 1)"
   ]
  },
  {
   "cell_type": "markdown",
   "id": "9470a80e",
   "metadata": {},
   "source": [
    "#### 편찻값\n",
    "- 평균이 50, 표준편차가 10이 되도록 정규화한 값\n",
    "- z = 50 + 10*(rawdata - 평균)/표준편차 ~ N(50,10^2)"
   ]
  },
  {
   "cell_type": "code",
   "execution_count": 134,
   "id": "21bd01ca",
   "metadata": {},
   "outputs": [
    {
     "data": {
      "text/plain": [
       "array([35.98173948, 65.09658825, 51.07832773, 34.90341175, 52.15665546,\n",
       "       42.45170588, 60.78327732, 43.53003361, 60.78327732, 53.2349832 ])"
      ]
     },
     "execution_count": 134,
     "metadata": {},
     "output_type": "execute_result"
    }
   ],
   "source": [
    "z2 = 50 + 10*z\n",
    "z2"
   ]
  },
  {
   "cell_type": "code",
   "execution_count": 135,
   "id": "13045426",
   "metadata": {},
   "outputs": [
    {
     "data": {
      "text/plain": [
       "(50.0, 10.000000000000002)"
      ]
     },
     "execution_count": 135,
     "metadata": {},
     "output_type": "execute_result"
    }
   ],
   "source": [
    "# 표준화 변량의 평균 및 표준편차 구하기\n",
    "\n",
    "np.mean(z2), np.std(z2)     "
   ]
  },
  {
   "cell_type": "code",
   "execution_count": 138,
   "id": "17125cfb",
   "metadata": {},
   "outputs": [
    {
     "data": {
      "text/plain": [
       "(50.0, 10.5409255338946)"
      ]
     },
     "execution_count": 138,
     "metadata": {},
     "output_type": "execute_result"
    }
   ],
   "source": [
    "# 표준화 변량의 평균 및 불편표준편차 구하기\n",
    "\n",
    "np.mean(z2), np.std(z2, ddof = 1)     "
   ]
  },
  {
   "cell_type": "markdown",
   "id": "6638a901",
   "metadata": {},
   "source": [
    "### 1차원 데이터의 시각화"
   ]
  },
  {
   "cell_type": "markdown",
   "id": "7564a626",
   "metadata": {},
   "source": [
    "#### 도수분포표\n",
    "- 분할된 구간과 데이터의 개수를 표로 정리한 것\n",
    "- np.histogram(bins = n, range = (min,max)) 함수 사용\n",
    "\n",
    "\n",
    "- 계급: 구간\n",
    "- 계급값: 계급을 대표하는 값으로, 구간 내 중앙값을 말함\n",
    "- 상대도수: 전체 도수에서 해당 계급의 데이터가 차지하는 비율\n",
    "- 누적상대도수: 해당 계급까지의 상대도수의 합 \n",
    "                np.cumsum 함수 사용"
   ]
  },
  {
   "cell_type": "markdown",
   "id": "fe68cc72",
   "metadata": {},
   "source": [
    "##### 영어성적을 가지고 도수분포표 작성하기"
   ]
  },
  {
   "cell_type": "code",
   "execution_count": 188,
   "id": "927e5e0f",
   "metadata": {},
   "outputs": [
    {
     "data": {
      "text/plain": [
       "(array([ 0,  0,  0,  2,  8, 16, 18,  6,  0,  0], dtype=int64),\n",
       " array([  0.,  10.,  20.,  30.,  40.,  50.,  60.,  70.,  80.,  90., 100.]))"
      ]
     },
     "execution_count": 188,
     "metadata": {},
     "output_type": "execute_result"
    }
   ],
   "source": [
    "# step = 구간, freq = 데이터 개수\n",
    "\n",
    "freq, step = np.histogram(df['english'], bins = 10, range = (0 ,100))\n",
    "freq, step"
   ]
  },
  {
   "cell_type": "code",
   "execution_count": 182,
   "id": "addc64e5",
   "metadata": {},
   "outputs": [
    {
     "data": {
      "text/html": [
       "<div>\n",
       "<style scoped>\n",
       "    .dataframe tbody tr th:only-of-type {\n",
       "        vertical-align: middle;\n",
       "    }\n",
       "\n",
       "    .dataframe tbody tr th {\n",
       "        vertical-align: top;\n",
       "    }\n",
       "\n",
       "    .dataframe thead th {\n",
       "        text-align: right;\n",
       "    }\n",
       "</style>\n",
       "<table border=\"1\" class=\"dataframe\">\n",
       "  <thead>\n",
       "    <tr style=\"text-align: right;\">\n",
       "      <th></th>\n",
       "      <th>frequency</th>\n",
       "    </tr>\n",
       "    <tr>\n",
       "      <th>class</th>\n",
       "      <th></th>\n",
       "    </tr>\n",
       "  </thead>\n",
       "  <tbody>\n",
       "    <tr>\n",
       "      <th>0 ~ 10</th>\n",
       "      <td>0</td>\n",
       "    </tr>\n",
       "    <tr>\n",
       "      <th>10 ~ 20</th>\n",
       "      <td>0</td>\n",
       "    </tr>\n",
       "    <tr>\n",
       "      <th>20 ~ 30</th>\n",
       "      <td>0</td>\n",
       "    </tr>\n",
       "    <tr>\n",
       "      <th>30 ~ 40</th>\n",
       "      <td>2</td>\n",
       "    </tr>\n",
       "    <tr>\n",
       "      <th>40 ~ 50</th>\n",
       "      <td>8</td>\n",
       "    </tr>\n",
       "    <tr>\n",
       "      <th>50 ~ 60</th>\n",
       "      <td>16</td>\n",
       "    </tr>\n",
       "    <tr>\n",
       "      <th>60 ~ 70</th>\n",
       "      <td>18</td>\n",
       "    </tr>\n",
       "    <tr>\n",
       "      <th>70 ~ 80</th>\n",
       "      <td>6</td>\n",
       "    </tr>\n",
       "    <tr>\n",
       "      <th>80 ~ 90</th>\n",
       "      <td>0</td>\n",
       "    </tr>\n",
       "    <tr>\n",
       "      <th>90 ~ 100</th>\n",
       "      <td>0</td>\n",
       "    </tr>\n",
       "  </tbody>\n",
       "</table>\n",
       "</div>"
      ],
      "text/plain": [
       "          frequency\n",
       "class              \n",
       "0 ~ 10            0\n",
       "10 ~ 20           0\n",
       "20 ~ 30           0\n",
       "30 ~ 40           2\n",
       "40 ~ 50           8\n",
       "50 ~ 60          16\n",
       "60 ~ 70          18\n",
       "70 ~ 80           6\n",
       "80 ~ 90           0\n",
       "90 ~ 100          0"
      ]
     },
     "execution_count": 182,
     "metadata": {},
     "output_type": "execute_result"
    }
   ],
   "source": [
    "# 도수분포표 데이터프레임화\n",
    "\n",
    "freq_class = [f'{int(step[i])} ~ {int(step[i+1])}' for i in range(10)]\n",
    "\n",
    "freq_dist_df = pd.DataFrame({'frequency': freq,},\n",
    "                             index = pd.Index(freq_class, name = 'class'))\n",
    "freq_dist_df"
   ]
  },
  {
   "cell_type": "code",
   "execution_count": 183,
   "id": "fba75604",
   "metadata": {},
   "outputs": [
    {
     "data": {
      "text/html": [
       "<div>\n",
       "<style scoped>\n",
       "    .dataframe tbody tr th:only-of-type {\n",
       "        vertical-align: middle;\n",
       "    }\n",
       "\n",
       "    .dataframe tbody tr th {\n",
       "        vertical-align: top;\n",
       "    }\n",
       "\n",
       "    .dataframe thead th {\n",
       "        text-align: right;\n",
       "    }\n",
       "</style>\n",
       "<table border=\"1\" class=\"dataframe\">\n",
       "  <thead>\n",
       "    <tr style=\"text-align: right;\">\n",
       "      <th></th>\n",
       "      <th>frequency</th>\n",
       "      <th>class_value</th>\n",
       "    </tr>\n",
       "    <tr>\n",
       "      <th>class</th>\n",
       "      <th></th>\n",
       "      <th></th>\n",
       "    </tr>\n",
       "  </thead>\n",
       "  <tbody>\n",
       "    <tr>\n",
       "      <th>0 ~ 10</th>\n",
       "      <td>0</td>\n",
       "      <td>5</td>\n",
       "    </tr>\n",
       "    <tr>\n",
       "      <th>10 ~ 20</th>\n",
       "      <td>0</td>\n",
       "      <td>15</td>\n",
       "    </tr>\n",
       "    <tr>\n",
       "      <th>20 ~ 30</th>\n",
       "      <td>0</td>\n",
       "      <td>25</td>\n",
       "    </tr>\n",
       "    <tr>\n",
       "      <th>30 ~ 40</th>\n",
       "      <td>2</td>\n",
       "      <td>35</td>\n",
       "    </tr>\n",
       "    <tr>\n",
       "      <th>40 ~ 50</th>\n",
       "      <td>8</td>\n",
       "      <td>45</td>\n",
       "    </tr>\n",
       "    <tr>\n",
       "      <th>50 ~ 60</th>\n",
       "      <td>16</td>\n",
       "      <td>55</td>\n",
       "    </tr>\n",
       "    <tr>\n",
       "      <th>60 ~ 70</th>\n",
       "      <td>18</td>\n",
       "      <td>65</td>\n",
       "    </tr>\n",
       "    <tr>\n",
       "      <th>70 ~ 80</th>\n",
       "      <td>6</td>\n",
       "      <td>75</td>\n",
       "    </tr>\n",
       "    <tr>\n",
       "      <th>80 ~ 90</th>\n",
       "      <td>0</td>\n",
       "      <td>85</td>\n",
       "    </tr>\n",
       "    <tr>\n",
       "      <th>90 ~ 100</th>\n",
       "      <td>0</td>\n",
       "      <td>95</td>\n",
       "    </tr>\n",
       "  </tbody>\n",
       "</table>\n",
       "</div>"
      ],
      "text/plain": [
       "          frequency  class_value\n",
       "class                           \n",
       "0 ~ 10            0            5\n",
       "10 ~ 20           0           15\n",
       "20 ~ 30           0           25\n",
       "30 ~ 40           2           35\n",
       "40 ~ 50           8           45\n",
       "50 ~ 60          16           55\n",
       "60 ~ 70          18           65\n",
       "70 ~ 80           6           75\n",
       "80 ~ 90           0           85\n",
       "90 ~ 100          0           95"
      ]
     },
     "execution_count": 183,
     "metadata": {},
     "output_type": "execute_result"
    }
   ],
   "source": [
    "#계급값\n",
    "\n",
    "class_value = []\n",
    "for i in range(10):\n",
    "    class_value.append(int((step[i+1]-step[i])/2+step[i]))\n",
    "\n",
    "freq_dist_df['class_value'] = class_value\n",
    "freq_dist_df"
   ]
  },
  {
   "cell_type": "code",
   "execution_count": 184,
   "id": "59896156",
   "metadata": {},
   "outputs": [
    {
     "data": {
      "text/html": [
       "<div>\n",
       "<style scoped>\n",
       "    .dataframe tbody tr th:only-of-type {\n",
       "        vertical-align: middle;\n",
       "    }\n",
       "\n",
       "    .dataframe tbody tr th {\n",
       "        vertical-align: top;\n",
       "    }\n",
       "\n",
       "    .dataframe thead th {\n",
       "        text-align: right;\n",
       "    }\n",
       "</style>\n",
       "<table border=\"1\" class=\"dataframe\">\n",
       "  <thead>\n",
       "    <tr style=\"text-align: right;\">\n",
       "      <th></th>\n",
       "      <th>frequency</th>\n",
       "      <th>class_value</th>\n",
       "      <th>relative frequency</th>\n",
       "    </tr>\n",
       "    <tr>\n",
       "      <th>class</th>\n",
       "      <th></th>\n",
       "      <th></th>\n",
       "      <th></th>\n",
       "    </tr>\n",
       "  </thead>\n",
       "  <tbody>\n",
       "    <tr>\n",
       "      <th>0 ~ 10</th>\n",
       "      <td>0</td>\n",
       "      <td>5</td>\n",
       "      <td>0.00</td>\n",
       "    </tr>\n",
       "    <tr>\n",
       "      <th>10 ~ 20</th>\n",
       "      <td>0</td>\n",
       "      <td>15</td>\n",
       "      <td>0.00</td>\n",
       "    </tr>\n",
       "    <tr>\n",
       "      <th>20 ~ 30</th>\n",
       "      <td>0</td>\n",
       "      <td>25</td>\n",
       "      <td>0.00</td>\n",
       "    </tr>\n",
       "    <tr>\n",
       "      <th>30 ~ 40</th>\n",
       "      <td>2</td>\n",
       "      <td>35</td>\n",
       "      <td>0.04</td>\n",
       "    </tr>\n",
       "    <tr>\n",
       "      <th>40 ~ 50</th>\n",
       "      <td>8</td>\n",
       "      <td>45</td>\n",
       "      <td>0.16</td>\n",
       "    </tr>\n",
       "    <tr>\n",
       "      <th>50 ~ 60</th>\n",
       "      <td>16</td>\n",
       "      <td>55</td>\n",
       "      <td>0.32</td>\n",
       "    </tr>\n",
       "    <tr>\n",
       "      <th>60 ~ 70</th>\n",
       "      <td>18</td>\n",
       "      <td>65</td>\n",
       "      <td>0.36</td>\n",
       "    </tr>\n",
       "    <tr>\n",
       "      <th>70 ~ 80</th>\n",
       "      <td>6</td>\n",
       "      <td>75</td>\n",
       "      <td>0.12</td>\n",
       "    </tr>\n",
       "    <tr>\n",
       "      <th>80 ~ 90</th>\n",
       "      <td>0</td>\n",
       "      <td>85</td>\n",
       "      <td>0.00</td>\n",
       "    </tr>\n",
       "    <tr>\n",
       "      <th>90 ~ 100</th>\n",
       "      <td>0</td>\n",
       "      <td>95</td>\n",
       "      <td>0.00</td>\n",
       "    </tr>\n",
       "  </tbody>\n",
       "</table>\n",
       "</div>"
      ],
      "text/plain": [
       "          frequency  class_value  relative frequency\n",
       "class                                               \n",
       "0 ~ 10            0            5                0.00\n",
       "10 ~ 20           0           15                0.00\n",
       "20 ~ 30           0           25                0.00\n",
       "30 ~ 40           2           35                0.04\n",
       "40 ~ 50           8           45                0.16\n",
       "50 ~ 60          16           55                0.32\n",
       "60 ~ 70          18           65                0.36\n",
       "70 ~ 80           6           75                0.12\n",
       "80 ~ 90           0           85                0.00\n",
       "90 ~ 100          0           95                0.00"
      ]
     },
     "execution_count": 184,
     "metadata": {},
     "output_type": "execute_result"
    }
   ],
   "source": [
    "# 상대도수\n",
    "\n",
    "relative_freq = freq/freq.sum()\n",
    "freq_dist_df['relative frequency'] = relative_freq\n",
    "freq_dist_df"
   ]
  },
  {
   "cell_type": "code",
   "execution_count": 185,
   "id": "ce3ef04f",
   "metadata": {},
   "outputs": [
    {
     "data": {
      "text/html": [
       "<div>\n",
       "<style scoped>\n",
       "    .dataframe tbody tr th:only-of-type {\n",
       "        vertical-align: middle;\n",
       "    }\n",
       "\n",
       "    .dataframe tbody tr th {\n",
       "        vertical-align: top;\n",
       "    }\n",
       "\n",
       "    .dataframe thead th {\n",
       "        text-align: right;\n",
       "    }\n",
       "</style>\n",
       "<table border=\"1\" class=\"dataframe\">\n",
       "  <thead>\n",
       "    <tr style=\"text-align: right;\">\n",
       "      <th></th>\n",
       "      <th>frequency</th>\n",
       "      <th>class_value</th>\n",
       "      <th>relative frequency</th>\n",
       "      <th>cumulative relative freequency</th>\n",
       "    </tr>\n",
       "    <tr>\n",
       "      <th>class</th>\n",
       "      <th></th>\n",
       "      <th></th>\n",
       "      <th></th>\n",
       "      <th></th>\n",
       "    </tr>\n",
       "  </thead>\n",
       "  <tbody>\n",
       "    <tr>\n",
       "      <th>0 ~ 10</th>\n",
       "      <td>0</td>\n",
       "      <td>5</td>\n",
       "      <td>0.00</td>\n",
       "      <td>0.00</td>\n",
       "    </tr>\n",
       "    <tr>\n",
       "      <th>10 ~ 20</th>\n",
       "      <td>0</td>\n",
       "      <td>15</td>\n",
       "      <td>0.00</td>\n",
       "      <td>0.00</td>\n",
       "    </tr>\n",
       "    <tr>\n",
       "      <th>20 ~ 30</th>\n",
       "      <td>0</td>\n",
       "      <td>25</td>\n",
       "      <td>0.00</td>\n",
       "      <td>0.00</td>\n",
       "    </tr>\n",
       "    <tr>\n",
       "      <th>30 ~ 40</th>\n",
       "      <td>2</td>\n",
       "      <td>35</td>\n",
       "      <td>0.04</td>\n",
       "      <td>0.04</td>\n",
       "    </tr>\n",
       "    <tr>\n",
       "      <th>40 ~ 50</th>\n",
       "      <td>8</td>\n",
       "      <td>45</td>\n",
       "      <td>0.16</td>\n",
       "      <td>0.20</td>\n",
       "    </tr>\n",
       "    <tr>\n",
       "      <th>50 ~ 60</th>\n",
       "      <td>16</td>\n",
       "      <td>55</td>\n",
       "      <td>0.32</td>\n",
       "      <td>0.52</td>\n",
       "    </tr>\n",
       "    <tr>\n",
       "      <th>60 ~ 70</th>\n",
       "      <td>18</td>\n",
       "      <td>65</td>\n",
       "      <td>0.36</td>\n",
       "      <td>0.88</td>\n",
       "    </tr>\n",
       "    <tr>\n",
       "      <th>70 ~ 80</th>\n",
       "      <td>6</td>\n",
       "      <td>75</td>\n",
       "      <td>0.12</td>\n",
       "      <td>1.00</td>\n",
       "    </tr>\n",
       "    <tr>\n",
       "      <th>80 ~ 90</th>\n",
       "      <td>0</td>\n",
       "      <td>85</td>\n",
       "      <td>0.00</td>\n",
       "      <td>1.00</td>\n",
       "    </tr>\n",
       "    <tr>\n",
       "      <th>90 ~ 100</th>\n",
       "      <td>0</td>\n",
       "      <td>95</td>\n",
       "      <td>0.00</td>\n",
       "      <td>1.00</td>\n",
       "    </tr>\n",
       "  </tbody>\n",
       "</table>\n",
       "</div>"
      ],
      "text/plain": [
       "          frequency  class_value  relative frequency  \\\n",
       "class                                                  \n",
       "0 ~ 10            0            5                0.00   \n",
       "10 ~ 20           0           15                0.00   \n",
       "20 ~ 30           0           25                0.00   \n",
       "30 ~ 40           2           35                0.04   \n",
       "40 ~ 50           8           45                0.16   \n",
       "50 ~ 60          16           55                0.32   \n",
       "60 ~ 70          18           65                0.36   \n",
       "70 ~ 80           6           75                0.12   \n",
       "80 ~ 90           0           85                0.00   \n",
       "90 ~ 100          0           95                0.00   \n",
       "\n",
       "          cumulative relative freequency  \n",
       "class                                     \n",
       "0 ~ 10                              0.00  \n",
       "10 ~ 20                             0.00  \n",
       "20 ~ 30                             0.00  \n",
       "30 ~ 40                             0.04  \n",
       "40 ~ 50                             0.20  \n",
       "50 ~ 60                             0.52  \n",
       "60 ~ 70                             0.88  \n",
       "70 ~ 80                             1.00  \n",
       "80 ~ 90                             1.00  \n",
       "90 ~ 100                            1.00  "
      ]
     },
     "execution_count": 185,
     "metadata": {},
     "output_type": "execute_result"
    }
   ],
   "source": [
    "# 누적 상대도수\n",
    "\n",
    "cumsum_relative_freq = np.cumsum(relative_frequency)\n",
    "freq_dist_df['cumulative relative freequency'] = cumsum_relative_freq\n",
    "freq_dist_df"
   ]
  },
  {
   "cell_type": "code",
   "execution_count": 187,
   "id": "7ca92eee",
   "metadata": {},
   "outputs": [
    {
     "data": {
      "text/html": [
       "<div>\n",
       "<style scoped>\n",
       "    .dataframe tbody tr th:only-of-type {\n",
       "        vertical-align: middle;\n",
       "    }\n",
       "\n",
       "    .dataframe tbody tr th {\n",
       "        vertical-align: top;\n",
       "    }\n",
       "\n",
       "    .dataframe thead th {\n",
       "        text-align: right;\n",
       "    }\n",
       "</style>\n",
       "<table border=\"1\" class=\"dataframe\">\n",
       "  <thead>\n",
       "    <tr style=\"text-align: right;\">\n",
       "      <th></th>\n",
       "      <th>class_value</th>\n",
       "      <th>frequency</th>\n",
       "      <th>relative frequency</th>\n",
       "      <th>cumulative relative freequency</th>\n",
       "    </tr>\n",
       "    <tr>\n",
       "      <th>class</th>\n",
       "      <th></th>\n",
       "      <th></th>\n",
       "      <th></th>\n",
       "      <th></th>\n",
       "    </tr>\n",
       "  </thead>\n",
       "  <tbody>\n",
       "    <tr>\n",
       "      <th>0 ~ 10</th>\n",
       "      <td>5</td>\n",
       "      <td>0</td>\n",
       "      <td>0.00</td>\n",
       "      <td>0.00</td>\n",
       "    </tr>\n",
       "    <tr>\n",
       "      <th>10 ~ 20</th>\n",
       "      <td>15</td>\n",
       "      <td>0</td>\n",
       "      <td>0.00</td>\n",
       "      <td>0.00</td>\n",
       "    </tr>\n",
       "    <tr>\n",
       "      <th>20 ~ 30</th>\n",
       "      <td>25</td>\n",
       "      <td>0</td>\n",
       "      <td>0.00</td>\n",
       "      <td>0.00</td>\n",
       "    </tr>\n",
       "    <tr>\n",
       "      <th>30 ~ 40</th>\n",
       "      <td>35</td>\n",
       "      <td>2</td>\n",
       "      <td>0.04</td>\n",
       "      <td>0.04</td>\n",
       "    </tr>\n",
       "    <tr>\n",
       "      <th>40 ~ 50</th>\n",
       "      <td>45</td>\n",
       "      <td>8</td>\n",
       "      <td>0.16</td>\n",
       "      <td>0.20</td>\n",
       "    </tr>\n",
       "    <tr>\n",
       "      <th>50 ~ 60</th>\n",
       "      <td>55</td>\n",
       "      <td>16</td>\n",
       "      <td>0.32</td>\n",
       "      <td>0.52</td>\n",
       "    </tr>\n",
       "    <tr>\n",
       "      <th>60 ~ 70</th>\n",
       "      <td>65</td>\n",
       "      <td>18</td>\n",
       "      <td>0.36</td>\n",
       "      <td>0.88</td>\n",
       "    </tr>\n",
       "    <tr>\n",
       "      <th>70 ~ 80</th>\n",
       "      <td>75</td>\n",
       "      <td>6</td>\n",
       "      <td>0.12</td>\n",
       "      <td>1.00</td>\n",
       "    </tr>\n",
       "    <tr>\n",
       "      <th>80 ~ 90</th>\n",
       "      <td>85</td>\n",
       "      <td>0</td>\n",
       "      <td>0.00</td>\n",
       "      <td>1.00</td>\n",
       "    </tr>\n",
       "    <tr>\n",
       "      <th>90 ~ 100</th>\n",
       "      <td>95</td>\n",
       "      <td>0</td>\n",
       "      <td>0.00</td>\n",
       "      <td>1.00</td>\n",
       "    </tr>\n",
       "  </tbody>\n",
       "</table>\n",
       "</div>"
      ],
      "text/plain": [
       "          class_value  frequency  relative frequency  \\\n",
       "class                                                  \n",
       "0 ~ 10              5          0                0.00   \n",
       "10 ~ 20            15          0                0.00   \n",
       "20 ~ 30            25          0                0.00   \n",
       "30 ~ 40            35          2                0.04   \n",
       "40 ~ 50            45          8                0.16   \n",
       "50 ~ 60            55         16                0.32   \n",
       "60 ~ 70            65         18                0.36   \n",
       "70 ~ 80            75          6                0.12   \n",
       "80 ~ 90            85          0                0.00   \n",
       "90 ~ 100           95          0                0.00   \n",
       "\n",
       "          cumulative relative freequency  \n",
       "class                                     \n",
       "0 ~ 10                              0.00  \n",
       "10 ~ 20                             0.00  \n",
       "20 ~ 30                             0.00  \n",
       "30 ~ 40                             0.04  \n",
       "40 ~ 50                             0.20  \n",
       "50 ~ 60                             0.52  \n",
       "60 ~ 70                             0.88  \n",
       "70 ~ 80                             1.00  \n",
       "80 ~ 90                             1.00  \n",
       "90 ~ 100                            1.00  "
      ]
     },
     "execution_count": 187,
     "metadata": {},
     "output_type": "execute_result"
    }
   ],
   "source": [
    "#최종 데이터프레임\n",
    "\n",
    "freq_dist_df = freq_dist_df[['class_value','frequency','relative frequency', 'cumulative relative freequency']]\n",
    "freq_dist_df"
   ]
  },
  {
   "cell_type": "markdown",
   "id": "6ed40e0b",
   "metadata": {},
   "source": [
    "#### 히스토그램\n",
    "- 도수분포표를 막대그래프로 나타낸 것"
   ]
  },
  {
   "cell_type": "markdown",
   "id": "45502108",
   "metadata": {},
   "source": [
    "#####  영어성적을 가지고 히스토그램 만들기\n",
    "i) 계급폭을 10으로 한 경우"
   ]
  },
  {
   "cell_type": "code",
   "execution_count": 222,
   "id": "5044797b",
   "metadata": {},
   "outputs": [
    {
     "data": {
      "image/png": "[encoded data removed]",
      "text/plain": [
       "<Figure size 720x360 with 1 Axes>"
      ]
     },
     "metadata": {
      "needs_background": "light"
     },
     "output_type": "display_data"
    }
   ],
   "source": [
    "import matplotlib.pyplot as plt\n",
    "\n",
    "# 그래프 사이즈 설정\n",
    "fig = plt.figure(figsize = (10,5))\n",
    "\n",
    "# subplot 개수 설정(행개수, 열개수, 위치)\n",
    "ax = fig.add_subplot(111)\n",
    "\n",
    "# 격자 생성\n",
    "axes = plt.gca()\n",
    "axes.xaxis.grid(True)\n",
    "axes.yaxis.grid(True)\n",
    "\n",
    "# 히스토그램 그리기\n",
    "freq, step, _ = ax.hist(df['english'], bins = 10, range = (0,100), color = 'skyblue')\n",
    "\n",
    "ax.set_xlabel('Score_10*n')\n",
    "ax.set_ylabel('Numbers of Person')\n",
    "ax.set_xticks(np.linspace(0,100,10+1))\n",
    "ax.set_yticks(np.arange(0,max(freq)+1))\n",
    "\n",
    "\n",
    "plt.show()   #이상한 잡다구리한 설명 삭제됨"
   ]
  },
  {
   "cell_type": "markdown",
   "id": "e89bf86d",
   "metadata": {},
   "source": [
    "#####  영어성적을 가지고 히스토그램 만들기\n",
    "i) 계급폭을 4으로 한 경우"
   ]
  },
  {
   "cell_type": "code",
   "execution_count": 227,
   "id": "a28a17c2",
   "metadata": {},
   "outputs": [
    {
     "data": {
      "image/png": "[encoded data removed]",
      "text/plain": [
       "<Figure size 720x360 with 1 Axes>"
      ]
     },
     "metadata": {
      "needs_background": "light"
     },
     "output_type": "display_data"
    }
   ],
   "source": [
    "import matplotlib.pyplot as plt\n",
    "\n",
    "#그래프 사이즈 설정\n",
    "fig = plt.figure(figsize = (10,5))\n",
    "\n",
    "# subplot 개수 설정(행개수, 열개수, 위치)\n",
    "ax = fig.add_subplot(111)\n",
    "\n",
    "# 격자 생성\n",
    "axes = fig.gca()\n",
    "axes.xaxis.grid(True)\n",
    "axes.yaxis.grid(True)\n",
    "\n",
    "# 히스토그램 그리기\n",
    "freq, step, _ = ax.hist(df['english'], bins = 25, range = (0,100), color = 'lightblue')\n",
    "\n",
    "ax.set_xlabel('Score_4*n')\n",
    "ax.set_ylabel('Numbers of Person')\n",
    "ax.set_xticks(np.linspace(0,100,25+1))\n",
    "ax.set_yticks(np.arange(0,max(freq)+1))\n",
    "\n",
    "plt.show()"
   ]
  },
  {
   "cell_type": "markdown",
   "id": "0b458e3f",
   "metadata": {},
   "source": [
    "##### 누적 꺾은선 그래프 그리기"
   ]
  },
  {
   "cell_type": "markdown",
   "id": "91724d00",
   "metadata": {},
   "source": [
    "**Markers**\n",
    "```\n",
    "=============   ===============================\n",
    "character       description\n",
    "=============   ===============================\n",
    "``'.'``         point marker\n",
    "``','``         pixel marker\n",
    "``'o'``         circle marker\n",
    "``'v'``         triangle_down marker\n",
    "``'^'``         triangle_up marker\n",
    "``'<'``         triangle_left marker\n",
    "``'>'``         triangle_right marker\n",
    "``'1'``         tri_down marker\n",
    "``'2'``         tri_up marker\n",
    "``'3'``         tri_left marker\n",
    "``'4'``         tri_right marker\n",
    "``'8'``         octagon marker\n",
    "``'s'``         square marker\n",
    "``'p'``         pentagon marker\n",
    "``'P'``         plus (filled) marker\n",
    "``'*'``         star marker\n",
    "``'h'``         hexagon1 marker\n",
    "``'H'``         hexagon2 marker\n",
    "``'+'``         plus marker\n",
    "``'x'``         x marker\n",
    "``'X'``         x (filled) marker\n",
    "``'D'``         diamond marker\n",
    "``'d'``         thin_diamond marker\n",
    "``'|'``         vline marker\n",
    "``'_'``         hline marker\n",
    "=============   ===============================\n",
    "```"
   ]
  },
  {
   "cell_type": "code",
   "execution_count": 272,
   "id": "de58b02c",
   "metadata": {},
   "outputs": [
    {
     "data": {
      "image/png": "[encoded data removed]",
      "text/plain": [
       "<Figure size 720x360 with 2 Axes>"
      ]
     },
     "metadata": {
      "needs_background": "light"
     },
     "output_type": "display_data"
    }
   ],
   "source": [
    "import matplotlib.pyplot as plt\n",
    "\n",
    "fig = plt.figure(figsize = (10,5))\n",
    "\n",
    "ax1 = fig.add_subplot(111)\n",
    "# ax2: y축의 스케일이 다른 그래프를 ax1과 동일한 영역에 생성\n",
    "ax2 = ax1.twinx()\n",
    "\n",
    "# 상대도수의 히스토그램 그리기\n",
    "## weights: 도수에 가중치를 주는 것\n",
    "## 1로 구성된 원소 배열을 df['english']요소의 개수만큼 만들어주고 가중치로 부여\n",
    "weights = np.ones_like(df['english'])/len(df)\n",
    "rel_freq, step, _ = ax1.hist(df['english'], bins = 25, range = (0,100), weights = weights, color = 'pink')\n",
    "\n",
    "# 누적 상대도수의 꺾은선그래프 그리기\n",
    "## x축값: 계급값\n",
    "class_value = [ (i+(i+4))//2 for i in range(0, 100, 4)]\n",
    "## y축값: 누적상대도수 \n",
    "cum_rel_freq = np.cumsum(rel_freq)\n",
    "\n",
    "ax2.plot(class_value, cum_rel_freq, marker = 's', color = 'red')\n",
    "\n",
    "\n",
    "ax1.set_xlabel('Score')\n",
    "ax1.set_ylabel('Relative Frequency')\n",
    "ax1.set_xticks(np.linspace(0,100,25+1))\n",
    "ax2.set_ylabel('Cumsum Relative Frequency')\n",
    "\n",
    "plt.show()"
   ]
  },
  {
   "cell_type": "markdown",
   "id": "1069746c",
   "metadata": {},
   "source": [
    "##### Box plot 그리기\n",
    "- 데이터의 산포도를 나타내는 plot\n",
    "- 사분위범위와 이상값\n",
    "    * IQR(Inter Quartile Range): 제 3사분위수 - 제1사분위수\n",
    "    * lower whisker: Q1 - 1.5 x IQR 이내인 값중에서 최솟값\n",
    "    * upper whisker: Q3 + 1.5 x IQR 이내인 값중에서 최댓값\n",
    "    * 이상치: lower whisker, upper whisker를 벗어나는 값\n",
    "\n"
   ]
  },
  {
   "cell_type": "code",
   "execution_count": 276,
   "id": "219a0cd9",
   "metadata": {},
   "outputs": [
    {
     "data": {
      "image/png": "[encoded data removed]",
      "text/plain": [
       "<Figure size 720x360 with 1 Axes>"
      ]
     },
     "metadata": {
      "needs_background": "light"
     },
     "output_type": "display_data"
    }
   ],
   "source": [
    "import matplotlib.pyplot as plt\n",
    "\n",
    "fig = plt.figure(figsize = (10,5))\n",
    "\n",
    "ax = fig.add_subplot(111)\n",
    "ax.boxplot(df['english'], labels = ['english'])\n",
    "\n",
    "plt.show()"
   ]
  },
  {
   "cell_type": "markdown",
   "id": "9e719e96",
   "metadata": {},
   "source": [
    "## 2차원 데이터"
   ]
  },
  {
   "cell_type": "markdown",
   "id": "95c15d8c",
   "metadata": {},
   "source": [
    "### 두 데이터 사이의 관계를 나타내는 지표"
   ]
  },
  {
   "cell_type": "code",
   "execution_count": 294,
   "id": "171f02d9",
   "metadata": {},
   "outputs": [
    {
     "data": {
      "text/html": [
       "<div>\n",
       "<style scoped>\n",
       "    .dataframe tbody tr th:only-of-type {\n",
       "        vertical-align: middle;\n",
       "    }\n",
       "\n",
       "    .dataframe tbody tr th {\n",
       "        vertical-align: top;\n",
       "    }\n",
       "\n",
       "    .dataframe thead th {\n",
       "        text-align: right;\n",
       "    }\n",
       "</style>\n",
       "<table border=\"1\" class=\"dataframe\">\n",
       "  <thead>\n",
       "    <tr style=\"text-align: right;\">\n",
       "      <th></th>\n",
       "      <th>english</th>\n",
       "      <th>math</th>\n",
       "    </tr>\n",
       "    <tr>\n",
       "      <th>student</th>\n",
       "      <th></th>\n",
       "      <th></th>\n",
       "    </tr>\n",
       "  </thead>\n",
       "  <tbody>\n",
       "    <tr>\n",
       "      <th>A</th>\n",
       "      <td>42</td>\n",
       "      <td>65</td>\n",
       "    </tr>\n",
       "    <tr>\n",
       "      <th>B</th>\n",
       "      <td>69</td>\n",
       "      <td>80</td>\n",
       "    </tr>\n",
       "    <tr>\n",
       "      <th>C</th>\n",
       "      <td>56</td>\n",
       "      <td>63</td>\n",
       "    </tr>\n",
       "    <tr>\n",
       "      <th>D</th>\n",
       "      <td>41</td>\n",
       "      <td>63</td>\n",
       "    </tr>\n",
       "    <tr>\n",
       "      <th>E</th>\n",
       "      <td>57</td>\n",
       "      <td>76</td>\n",
       "    </tr>\n",
       "    <tr>\n",
       "      <th>F</th>\n",
       "      <td>48</td>\n",
       "      <td>60</td>\n",
       "    </tr>\n",
       "    <tr>\n",
       "      <th>G</th>\n",
       "      <td>65</td>\n",
       "      <td>81</td>\n",
       "    </tr>\n",
       "    <tr>\n",
       "      <th>H</th>\n",
       "      <td>49</td>\n",
       "      <td>66</td>\n",
       "    </tr>\n",
       "    <tr>\n",
       "      <th>I</th>\n",
       "      <td>65</td>\n",
       "      <td>78</td>\n",
       "    </tr>\n",
       "    <tr>\n",
       "      <th>J</th>\n",
       "      <td>58</td>\n",
       "      <td>82</td>\n",
       "    </tr>\n",
       "  </tbody>\n",
       "</table>\n",
       "</div>"
      ],
      "text/plain": [
       "         english  math\n",
       "student               \n",
       "A             42    65\n",
       "B             69    80\n",
       "C             56    63\n",
       "D             41    63\n",
       "E             57    76\n",
       "F             48    60\n",
       "G             65    81\n",
       "H             49    66\n",
       "I             65    78\n",
       "J             58    82"
      ]
     },
     "execution_count": 294,
     "metadata": {},
     "output_type": "execute_result"
    }
   ],
   "source": [
    "import numpy as np\n",
    "import pandas as pd\n",
    "\n",
    "df = pd.read_csv('ch2_scores_em.csv')\n",
    "\n",
    "en_scores = np.array(df['english'][:10])\n",
    "ma_scores = np.array(df['mathematics'][:10])\n",
    "scores_df = pd.DataFrame({'english': en_scores,\n",
    "                          'math': ma_scores},\n",
    "                          index = pd.Index([i for i in 'ABCDEFGHIJ'], name = 'student'))\n",
    "scores_df"
   ]
  },
  {
   "cell_type": "markdown",
   "id": "38ea1bf7",
   "metadata": {},
   "source": [
    "#### (미리)산점도"
   ]
  },
  {
   "cell_type": "code",
   "execution_count": 295,
   "id": "824986be",
   "metadata": {},
   "outputs": [
    {
     "data": {
      "text/plain": [
       "<matplotlib.collections.PathCollection at 0x27989ecaee0>"
      ]
     },
     "execution_count": 295,
     "metadata": {},
     "output_type": "execute_result"
    },
    {
     "data": {
      "image/png": "[encoded data removed]",
      "text/plain": [
       "<Figure size 432x288 with 1 Axes>"
      ]
     },
     "metadata": {
      "needs_background": "light"
     },
     "output_type": "display_data"
    }
   ],
   "source": [
    "plt.scatter(scores_df['english'], scores_df['math'], color = 'purple')"
   ]
  },
  {
   "cell_type": "markdown",
   "id": "0a67de6e",
   "metadata": {},
   "source": [
    "#### 공분산\n",
    "- Sxy = 1/n* Σ(Xi-Xm)*(Yi-Ym)\n",
    "- np.cov(x, y, ddof = 0) 함수\n",
    "    - 반환값은 행렬\n",
    "    - 공분산: [0,1], [1,0]\n",
    "    - x분산:[0,0], y분산:[1,1]"
   ]
  },
  {
   "cell_type": "code",
   "execution_count": 312,
   "id": "cdf6213a",
   "metadata": {},
   "outputs": [
    {
     "name": "stdout",
     "output_type": "stream",
     "text": [
      "[[86.   62.8 ]\n",
      " [62.8  68.44]]\n",
      "\n",
      "\n",
      "영어 성적의 표본분산: 86.0\n",
      "수학 성적의 표본분산: 68.44\n",
      "영어성적과 수학성적의 공분산: 62.8\n"
     ]
    }
   ],
   "source": [
    "# 공분산 구하기\n",
    "# 방법1\n",
    "\n",
    "cov_map = np.cov(scores_df['english'], scores_df['math'], ddof = 0).round(2)\n",
    "\n",
    "\n",
    "print(cov_map)\n",
    "print('\\n')\n",
    "print(f'영어 성적의 표본분산: {cov_map[0,0]}')\n",
    "print(f'수학 성적의 표본분산: {cov_map[1,1]}')\n",
    "print(f'영어성적과 수학성적의 공분산: {cov_map[0,1]}')"
   ]
  },
  {
   "cell_type": "code",
   "execution_count": 311,
   "id": "b1041431",
   "metadata": {},
   "outputs": [
    {
     "name": "stdout",
     "output_type": "stream",
     "text": [
      "86.0\n",
      "68.44000000000001\n"
     ]
    }
   ],
   "source": [
    "# 분산을 따로 구해보기\n",
    "\n",
    "print(np.var(scores_df['english']))\n",
    "print(np.var(scores_df['math']))"
   ]
  },
  {
   "cell_type": "code",
   "execution_count": 322,
   "id": "6e02ab7b",
   "metadata": {},
   "outputs": [
    {
     "data": {
      "text/html": [
       "<div>\n",
       "<style scoped>\n",
       "    .dataframe tbody tr th:only-of-type {\n",
       "        vertical-align: middle;\n",
       "    }\n",
       "\n",
       "    .dataframe tbody tr th {\n",
       "        vertical-align: top;\n",
       "    }\n",
       "\n",
       "    .dataframe thead th {\n",
       "        text-align: right;\n",
       "    }\n",
       "</style>\n",
       "<table border=\"1\" class=\"dataframe\">\n",
       "  <thead>\n",
       "    <tr style=\"text-align: right;\">\n",
       "      <th></th>\n",
       "      <th>english</th>\n",
       "      <th>math</th>\n",
       "    </tr>\n",
       "  </thead>\n",
       "  <tbody>\n",
       "    <tr>\n",
       "      <th>english</th>\n",
       "      <td>86.0</td>\n",
       "      <td>62.80</td>\n",
       "    </tr>\n",
       "    <tr>\n",
       "      <th>math</th>\n",
       "      <td>62.8</td>\n",
       "      <td>68.44</td>\n",
       "    </tr>\n",
       "  </tbody>\n",
       "</table>\n",
       "</div>"
      ],
      "text/plain": [
       "         english   math\n",
       "english     86.0  62.80\n",
       "math        62.8  68.44"
      ]
     },
     "metadata": {},
     "output_type": "display_data"
    },
    {
     "name": "stdout",
     "output_type": "stream",
     "text": [
      "\n",
      "\n",
      "영어 성적의 표본분산: 86.0\n",
      "수학 성적의 표본분산: 68.4\n",
      "영어성적과 수학성적의 공분산: 62.8\n"
     ]
    }
   ],
   "source": [
    "# 공분산 구하기\n",
    "# 방법2\n",
    "\n",
    "cov_map = scores_df.cov(ddof = 0)\n",
    "display(cov_map)\n",
    "\n",
    "print('\\n')\n",
    "print(f'영어 성적의 표본분산: {cov_map.iloc[0,0].round(1)}')\n",
    "print(f'수학 성적의 표본분산: {cov_map.iloc[1,1].round(1)}')\n",
    "print(f'영어성적과 수학성적의 공분산: {cov_map.iloc[0,1].round(1)}')"
   ]
  },
  {
   "cell_type": "markdown",
   "id": "3beafde2",
   "metadata": {},
   "source": [
    "#### 상관계수\n",
    "- rxy = Sxy / (Sx*Sy)\n",
    "- -1 < rxy < 1\n",
    "- np.corrcoef(x,y) 함수, corr() 함수\n",
    "    - 상관계수: [0,1], [1,0]"
   ]
  },
  {
   "cell_type": "code",
   "execution_count": 332,
   "id": "606a96fc",
   "metadata": {},
   "outputs": [
    {
     "data": {
      "text/plain": [
       "0.82"
      ]
     },
     "execution_count": 332,
     "metadata": {},
     "output_type": "execute_result"
    }
   ],
   "source": [
    "# 방법1: Sxy/(Sx*Sy) 직접 구하기\n",
    "\n",
    "(np.cov(scores_df['english'], scores_df['math'], ddof = 0)[0,1]/(np.std(scores_df['english'])*np.std(scores_df['math']))).round(2)"
   ]
  },
  {
   "cell_type": "code",
   "execution_count": 333,
   "id": "38438ff7",
   "metadata": {},
   "outputs": [
    {
     "data": {
      "text/plain": [
       "array([[1.  , 0.82],\n",
       "       [0.82, 1.  ]])"
      ]
     },
     "execution_count": 333,
     "metadata": {},
     "output_type": "execute_result"
    }
   ],
   "source": [
    "# 방법2: np.corrcoef 함수 사용\n",
    "\n",
    "np.corrcoef(scores_df['english'], scores_df['math']).round(2)"
   ]
  },
  {
   "cell_type": "code",
   "execution_count": 334,
   "id": "985680c4",
   "metadata": {},
   "outputs": [
    {
     "data": {
      "text/html": [
       "<div>\n",
       "<style scoped>\n",
       "    .dataframe tbody tr th:only-of-type {\n",
       "        vertical-align: middle;\n",
       "    }\n",
       "\n",
       "    .dataframe tbody tr th {\n",
       "        vertical-align: top;\n",
       "    }\n",
       "\n",
       "    .dataframe thead th {\n",
       "        text-align: right;\n",
       "    }\n",
       "</style>\n",
       "<table border=\"1\" class=\"dataframe\">\n",
       "  <thead>\n",
       "    <tr style=\"text-align: right;\">\n",
       "      <th></th>\n",
       "      <th>english</th>\n",
       "      <th>math</th>\n",
       "    </tr>\n",
       "  </thead>\n",
       "  <tbody>\n",
       "    <tr>\n",
       "      <th>english</th>\n",
       "      <td>1.00</td>\n",
       "      <td>0.82</td>\n",
       "    </tr>\n",
       "    <tr>\n",
       "      <th>math</th>\n",
       "      <td>0.82</td>\n",
       "      <td>1.00</td>\n",
       "    </tr>\n",
       "  </tbody>\n",
       "</table>\n",
       "</div>"
      ],
      "text/plain": [
       "         english  math\n",
       "english     1.00  0.82\n",
       "math        0.82  1.00"
      ]
     },
     "execution_count": 334,
     "metadata": {},
     "output_type": "execute_result"
    }
   ],
   "source": [
    "# 방법3: corr() 함수 사용\n",
    "\n",
    "scores_df.corr().round(2)"
   ]
  },
  {
   "cell_type": "markdown",
   "id": "8fbf0919",
   "metadata": {},
   "source": [
    "### 2차원 데이터 시각화"
   ]
  },
  {
   "cell_type": "code",
   "execution_count": 342,
   "id": "41c8c80c",
   "metadata": {},
   "outputs": [],
   "source": [
    "df = pd.read_csv('ch2_scores_em.csv')\n",
    "df_english = np.array(df['english'])\n",
    "df_math = np.array(df['mathematics'])"
   ]
  },
  {
   "cell_type": "markdown",
   "id": "af8c298f",
   "metadata": {},
   "source": [
    "#### 산점도"
   ]
  },
  {
   "cell_type": "code",
   "execution_count": 348,
   "id": "13e6db58",
   "metadata": {},
   "outputs": [
    {
     "data": {
      "image/png": "[encoded data removed]",
      "text/plain": [
       "<Figure size 360x360 with 1 Axes>"
      ]
     },
     "metadata": {
      "needs_background": "light"
     },
     "output_type": "display_data"
    }
   ],
   "source": [
    "import matplotlib.pyplot as plt\n",
    "\n",
    "fig = plt.figure(figsize = (5,5))\n",
    "\n",
    "ax = fig.add_subplot(111)\n",
    "\n",
    "#산점도 그리기\n",
    "ax.scatter(df_english, df_math, marker = '^', color = 'purple')\n",
    "\n",
    "ax.set_xlabel('English')\n",
    "ax.set_ylabel('Math')\n",
    "\n",
    "plt.show()"
   ]
  },
  {
   "cell_type": "markdown",
   "id": "6b6c47ac",
   "metadata": {},
   "source": [
    "#### 회귀직선\n",
    "- y  = B0 + B1*x\n",
    "- np.polyfit함수, np.poly1d함수"
   ]
  },
  {
   "cell_type": "code",
   "execution_count": 360,
   "id": "5e4676ac",
   "metadata": {},
   "outputs": [
    {
     "data": {
      "image/png": "[encoded data removed]",
      "text/plain": [
       "<Figure size 576x576 with 1 Axes>"
      ]
     },
     "metadata": {
      "needs_background": "light"
     },
     "output_type": "display_data"
    }
   ],
   "source": [
    "# B0, B1 계수 구하기\n",
    "poly_fit = np.polyfit(df_english, df_math, 1)\n",
    "\n",
    "# B0 + B1*x 반환하는 함수 작성\n",
    "poly_1d = np.poly1d(poly_fit)\n",
    "\n",
    "# 직선 그리기\n",
    "## x축\n",
    "xs = np.linspace(df_english.min(), df_english.max())\n",
    "## y축\n",
    "ys = poly_1d(xs)\n",
    "\n",
    "\n",
    "fig = plt.figure(figsize = (8,8))\n",
    "ax = fig.add_subplot(111)\n",
    "\n",
    "# 산점도 그리기\n",
    "ax.scatter(df_english, df_math, marker = \"o\", label = \"Score\", color = \"purple\")\n",
    "# 회귀직선 그리기\n",
    "ax.plot(xs, ys, color = \"black\", label = f'y = {poly_fit[1]:.2f} + {poly_fit[0]:.2f}x')\n",
    "\n",
    "ax.set_xlabel('English')\n",
    "ax.set_ylabel('Mathematics')\n",
    "\n",
    "# 범례표시\n",
    "ax.legend(loc = \"upper left\")\n",
    "\n",
    "plt.show()"
   ]
  },
  {
   "cell_type": "markdown",
   "id": "5f7c8a58",
   "metadata": {},
   "source": [
    "#### polyfit 함수 사용법\n",
    "- poly(x,y,차수) 형태"
   ]
  },
  {
   "cell_type": "code",
   "execution_count": 48,
   "id": "3d0a663f",
   "metadata": {},
   "outputs": [
    {
     "name": "stdout",
     "output_type": "stream",
     "text": [
      "[ 3.31428571 -3.6       ]\n",
      "y = -3.60 + 3.31*x\n"
     ]
    }
   ],
   "source": [
    "x = [1,2,3,4,5,6]\n",
    "y = [1,3,6,8,11,19]\n",
    "\n",
    "# 1차원 회귀식 계수 생성: Y = B0 + B1X\n",
    "poly = np.polyfit(x,y,1)\n",
    "print(poly)\n",
    "\n",
    "b0 = poly[1]\n",
    "b1 = poly[0]\n",
    "\n",
    "# 회귀식 작성\n",
    "y = f'y = {b0:.2f} + {b1:.2f}*x'\n",
    "print(y)"
   ]
  },
  {
   "cell_type": "markdown",
   "id": "9754cb25",
   "metadata": {},
   "source": [
    "##### 1차원 회귀식\n",
    "np.polyfit(x,y,<span style = 'color:red'>1</span>)"
   ]
  },
  {
   "cell_type": "code",
   "execution_count": 82,
   "id": "f8086160",
   "metadata": {},
   "outputs": [
    {
     "data": {
      "image/png": "[encoded data removed]",
      "text/plain": [
       "<Figure size 432x288 with 1 Axes>"
      ]
     },
     "metadata": {
      "needs_background": "light"
     },
     "output_type": "display_data"
    }
   ],
   "source": [
    "x = [1,2,3,4,5,6]\n",
    "y = [1,3,6,8,11,19]\n",
    "\n",
    "# 1차원 회귀계수 구하기\n",
    "## 회귀식: Y = B0 + B1X\n",
    "poly = np.polyfit(x,y,1)\n",
    "\n",
    "\n",
    "# 회귀계수로 y예측값 만들기\n",
    "y_pred = np.array(x) * poly[0] + poly[1]\n",
    "\n",
    "\n",
    "#시각화\n",
    "plt.plot(x,y_pred, color = 'pink')   # 직선은 예측값으로\n",
    "plt.scatter(x,y,color = 'red')    # 산점도는 실제값으로 \n",
    "plt.show()"
   ]
  },
  {
   "cell_type": "markdown",
   "id": "9918605b",
   "metadata": {},
   "source": [
    "##### 2차원 회귀식\n",
    "np.polyfit(x,y,<span style = 'color:red'>2</span>)"
   ]
  },
  {
   "cell_type": "code",
   "execution_count": 60,
   "id": "ea2d3042",
   "metadata": {
    "scrolled": true
   },
   "outputs": [
    {
     "name": "stdout",
     "output_type": "stream",
     "text": [
      "[ 0.53571429 -0.43571429  1.4       ]\n"
     ]
    },
    {
     "data": {
      "image/png": "[encoded data removed]",
      "text/plain": [
       "<Figure size 432x288 with 1 Axes>"
      ]
     },
     "metadata": {
      "needs_background": "light"
     },
     "output_type": "display_data"
    }
   ],
   "source": [
    "x = [1,2,3,4,5,6]\n",
    "y = [1,3,6,8,11,19]\n",
    "\n",
    "# 2차원 회귀계수 만들기\n",
    "## 회귀식: Y = B0 + B1X + B2X^2\n",
    "poly = np.polyfit(x,y,2)\n",
    "print(poly)   # [B2, B1, B0]\n",
    "\n",
    "\n",
    "# 시각화\n",
    "## 곡선을 완만하게 그리기 위해 X값을 세분화\n",
    "x_line = np.linspace(1,6,100)   \n",
    "y_pred = x_line**2*poly[0] + x_line*poly[1] + poly[2]\n",
    "\n",
    "\n",
    "plt.plot(x_line,y_pred, color = 'pink')   # 예측값은 곡선으로\n",
    "plt.scatter(x, y, color = 'red')       #실제값은 산점도로\n",
    "plt.show()"
   ]
  },
  {
   "cell_type": "markdown",
   "id": "7fc3bcd8",
   "metadata": {},
   "source": [
    "##### 5차원 회귀식\n",
    "np.polyfit(x,y,<span style = 'color:red'>5</span>)"
   ]
  },
  {
   "cell_type": "code",
   "execution_count": 87,
   "id": "bfcd75b5",
   "metadata": {},
   "outputs": [
    {
     "name": "stdout",
     "output_type": "stream",
     "text": [
      "[ -0.01666667   0.41666667  -3.41666667  12.08333333 -16.06666667\n",
      "   8.        ]\n"
     ]
    },
    {
     "data": {
      "text/plain": [
       "<matplotlib.collections.PathCollection at 0x20d76eeb460>"
      ]
     },
     "execution_count": 87,
     "metadata": {},
     "output_type": "execute_result"
    },
    {
     "data": {
      "image/png": "[encoded data removed]",
      "text/plain": [
       "<Figure size 432x288 with 1 Axes>"
      ]
     },
     "metadata": {
      "needs_background": "light"
     },
     "output_type": "display_data"
    }
   ],
   "source": [
    "x = [1,2,3,4,5,6]\n",
    "y = [1,3,6,8,11,19]\n",
    "\n",
    "# 5차원 회귀계수 만들기: Y = B0 + B1X + B2X^2 + B3X^3 + B4X^4 + B5X^5\n",
    "poly = np.polyfit(x,y,5)\n",
    "print(poly)   # [B5, B4, B3, B2, B1, B0]\n",
    "\n",
    "\n",
    "#시각화\n",
    "\n",
    "## 곡선을 완만하게 그리기 위해 X값을 세분화\n",
    "x_line = np.linspace(1,6,100)\n",
    "y_pred = np.zeros_like(x_line)\n",
    "\n",
    "## 배열은 전체값을 알아서 계산해줌. 따로 요소값마다 돌리는 다중 for문 안돌려도됨\n",
    "for i in range(6):\n",
    "    y_pred += x_line**(5-i)*poly[i]  \n",
    "\n",
    "plt.plot(x_line, y_pred, color = 'pink')\n",
    "plt.scatter(x,y, color = 'red')"
   ]
  },
  {
   "cell_type": "markdown",
   "id": "d7193fa2",
   "metadata": {},
   "source": [
    "- <b> <span style = 'color:red'> 차원이 높아질 수록, 예측률을 높아지지만 과적합 문제가 생김.</span></b>\n",
    "- <b> <span style = 'color:red'> 일반화할 수 없어짐.</span></b>"
   ]
  },
  {
   "cell_type": "markdown",
   "id": "6d4adcbc",
   "metadata": {},
   "source": [
    "#### 히트맵"
   ]
  },
  {
   "cell_type": "code",
   "execution_count": 365,
   "id": "6789c6c9",
   "metadata": {},
   "outputs": [
    {
     "data": {
      "text/plain": [
       "(37, 79)"
      ]
     },
     "execution_count": 365,
     "metadata": {},
     "output_type": "execute_result"
    }
   ],
   "source": [
    "df_english.min(), df_english.max()"
   ]
  },
  {
   "cell_type": "code",
   "execution_count": 366,
   "id": "c29562ef",
   "metadata": {},
   "outputs": [
    {
     "data": {
      "text/plain": [
       "(57, 94)"
      ]
     },
     "execution_count": 366,
     "metadata": {},
     "output_type": "execute_result"
    }
   ],
   "source": [
    "df_math.min(), df_math.max()"
   ]
  },
  {
   "cell_type": "code",
   "execution_count": 364,
   "id": "aaae4a09",
   "metadata": {},
   "outputs": [
    {
     "data": {
      "image/png": "[encoded data removed]",
      "text/plain": [
       "<Figure size 720x576 with 2 Axes>"
      ]
     },
     "metadata": {
      "needs_background": "light"
     },
     "output_type": "display_data"
    }
   ],
   "source": [
    "fig = plt.figure(figsize = (10,8))\n",
    "\n",
    "ax = fig.add_subplot(111)\n",
    "\n",
    "\n",
    "## 각 배열의 최소, 최댓값과 가까운 값으로 구간을 정해줌\n",
    "c = ax.hist2d(df_english, df_math,\n",
    "              bins = [9,8], range = [(35,80), (55,95)])    \n",
    "\n",
    "ax.set_xlabel('English')\n",
    "ax.set_ylabel('Mathematics')\n",
    "ax.set_xticks(c[1])\n",
    "ax.set_yticks(c[2])\n",
    "\n",
    "# 컬러바 표시\n",
    "fig.colorbar(c[3], ax = ax)\n",
    "\n",
    "plt.show()"
   ]
  },
  {
   "cell_type": "markdown",
   "id": "10a9cafc",
   "metadata": {},
   "source": [
    "### 과제"
   ]
  },
  {
   "cell_type": "markdown",
   "id": "2fa1b213",
   "metadata": {},
   "source": [
    "#### 일차원 데이터를 생성해서  다음을 수행\n",
    "- 도수분포표를 만들고 히스토그램으로 시각화하세요\n",
    "- 상대도수 및 누적상대도수를 도수분포표에 추가하고 히스토그램과 누적상대도수를 시각화하세요"
   ]
  },
  {
   "cell_type": "code",
   "execution_count": 5,
   "id": "7cf74859",
   "metadata": {},
   "outputs": [
    {
     "data": {
      "text/html": [
       "<div>\n",
       "<style scoped>\n",
       "    .dataframe tbody tr th:only-of-type {\n",
       "        vertical-align: middle;\n",
       "    }\n",
       "\n",
       "    .dataframe tbody tr th {\n",
       "        vertical-align: top;\n",
       "    }\n",
       "\n",
       "    .dataframe thead th {\n",
       "        text-align: right;\n",
       "    }\n",
       "</style>\n",
       "<table border=\"1\" class=\"dataframe\">\n",
       "  <thead>\n",
       "    <tr style=\"text-align: right;\">\n",
       "      <th></th>\n",
       "      <th>freq</th>\n",
       "    </tr>\n",
       "    <tr>\n",
       "      <th>petal length</th>\n",
       "      <th></th>\n",
       "    </tr>\n",
       "  </thead>\n",
       "  <tbody>\n",
       "    <tr>\n",
       "      <th>0 ~ 1 cm</th>\n",
       "      <td>0</td>\n",
       "    </tr>\n",
       "    <tr>\n",
       "      <th>1 ~ 2 cm</th>\n",
       "      <td>50</td>\n",
       "    </tr>\n",
       "    <tr>\n",
       "      <th>2 ~ 3 cm</th>\n",
       "      <td>0</td>\n",
       "    </tr>\n",
       "    <tr>\n",
       "      <th>3 ~ 4 cm</th>\n",
       "      <td>11</td>\n",
       "    </tr>\n",
       "    <tr>\n",
       "      <th>4 ~ 5 cm</th>\n",
       "      <td>43</td>\n",
       "    </tr>\n",
       "    <tr>\n",
       "      <th>5 ~ 6 cm</th>\n",
       "      <td>35</td>\n",
       "    </tr>\n",
       "    <tr>\n",
       "      <th>6 ~ 7 cm</th>\n",
       "      <td>11</td>\n",
       "    </tr>\n",
       "    <tr>\n",
       "      <th>7 ~ 8 cm</th>\n",
       "      <td>0</td>\n",
       "    </tr>\n",
       "  </tbody>\n",
       "</table>\n",
       "</div>"
      ],
      "text/plain": [
       "              freq\n",
       "petal length      \n",
       "0 ~ 1 cm         0\n",
       "1 ~ 2 cm        50\n",
       "2 ~ 3 cm         0\n",
       "3 ~ 4 cm        11\n",
       "4 ~ 5 cm        43\n",
       "5 ~ 6 cm        35\n",
       "6 ~ 7 cm        11\n",
       "7 ~ 8 cm         0"
      ]
     },
     "metadata": {},
     "output_type": "display_data"
    },
    {
     "data": {
      "text/html": [
       "<div>\n",
       "<style scoped>\n",
       "    .dataframe tbody tr th:only-of-type {\n",
       "        vertical-align: middle;\n",
       "    }\n",
       "\n",
       "    .dataframe tbody tr th {\n",
       "        vertical-align: top;\n",
       "    }\n",
       "\n",
       "    .dataframe thead th {\n",
       "        text-align: right;\n",
       "    }\n",
       "</style>\n",
       "<table border=\"1\" class=\"dataframe\">\n",
       "  <thead>\n",
       "    <tr style=\"text-align: right;\">\n",
       "      <th></th>\n",
       "      <th>freq</th>\n",
       "      <th>relative freq</th>\n",
       "      <th>cumulative relative freq</th>\n",
       "    </tr>\n",
       "    <tr>\n",
       "      <th>petal length</th>\n",
       "      <th></th>\n",
       "      <th></th>\n",
       "      <th></th>\n",
       "    </tr>\n",
       "  </thead>\n",
       "  <tbody>\n",
       "    <tr>\n",
       "      <th>0 ~ 1 cm</th>\n",
       "      <td>0</td>\n",
       "      <td>0.000000</td>\n",
       "      <td>0.00</td>\n",
       "    </tr>\n",
       "    <tr>\n",
       "      <th>1 ~ 2 cm</th>\n",
       "      <td>50</td>\n",
       "      <td>0.333333</td>\n",
       "      <td>0.33</td>\n",
       "    </tr>\n",
       "    <tr>\n",
       "      <th>2 ~ 3 cm</th>\n",
       "      <td>0</td>\n",
       "      <td>0.000000</td>\n",
       "      <td>0.33</td>\n",
       "    </tr>\n",
       "    <tr>\n",
       "      <th>3 ~ 4 cm</th>\n",
       "      <td>11</td>\n",
       "      <td>0.073333</td>\n",
       "      <td>0.41</td>\n",
       "    </tr>\n",
       "    <tr>\n",
       "      <th>4 ~ 5 cm</th>\n",
       "      <td>43</td>\n",
       "      <td>0.286667</td>\n",
       "      <td>0.69</td>\n",
       "    </tr>\n",
       "    <tr>\n",
       "      <th>5 ~ 6 cm</th>\n",
       "      <td>35</td>\n",
       "      <td>0.233333</td>\n",
       "      <td>0.93</td>\n",
       "    </tr>\n",
       "    <tr>\n",
       "      <th>6 ~ 7 cm</th>\n",
       "      <td>11</td>\n",
       "      <td>0.073333</td>\n",
       "      <td>1.00</td>\n",
       "    </tr>\n",
       "    <tr>\n",
       "      <th>7 ~ 8 cm</th>\n",
       "      <td>0</td>\n",
       "      <td>0.000000</td>\n",
       "      <td>1.00</td>\n",
       "    </tr>\n",
       "  </tbody>\n",
       "</table>\n",
       "</div>"
      ],
      "text/plain": [
       "              freq  relative freq  cumulative relative freq\n",
       "petal length                                               \n",
       "0 ~ 1 cm         0       0.000000                      0.00\n",
       "1 ~ 2 cm        50       0.333333                      0.33\n",
       "2 ~ 3 cm         0       0.000000                      0.33\n",
       "3 ~ 4 cm        11       0.073333                      0.41\n",
       "4 ~ 5 cm        43       0.286667                      0.69\n",
       "5 ~ 6 cm        35       0.233333                      0.93\n",
       "6 ~ 7 cm        11       0.073333                      1.00\n",
       "7 ~ 8 cm         0       0.000000                      1.00"
      ]
     },
     "metadata": {},
     "output_type": "display_data"
    },
    {
     "data": {
      "image/png": "[encoded data removed]",
      "text/plain": [
       "<Figure size 1080x360 with 3 Axes>"
      ]
     },
     "metadata": {
      "needs_background": "light"
     },
     "output_type": "display_data"
    }
   ],
   "source": [
    "from sklearn.datasets import load_iris # scikit-learn의 샘플 데이터 로드를 위해 import\n",
    "import matplotlib.pyplot as plt\n",
    "import pandas as pd\n",
    "import numpy as np\n",
    "\n",
    "# 꽃잎 길이 데이터 추출\n",
    "iris = load_iris() \n",
    "df = pd.DataFrame(data=iris.data, columns=iris.feature_names)\n",
    "petal_length = df[['petal length (cm)']]\n",
    "# display(petal_length)\n",
    "\n",
    "\n",
    "\n",
    "# 도수분포표 만들기\n",
    "## 계급 설정\n",
    "# print(petal_length.describe().round(2))  # 꽃잎길이 최솟값, 최댓값 확인\n",
    "freq, step = np.histogram(petal_length, bins = 8, range = (0 ,8))\n",
    "step = [f'{i} ~ {i+1} cm' for i in range(0,8)]\n",
    "# print(freq, step)\n",
    "petal_len_df = pd.DataFrame({'freq': freq }, pd.Index( step , name = 'petal length'))\n",
    "display(petal_len_df)\n",
    "\n",
    "\n",
    "# 히스토그램 그리기\n",
    "fig = plt.figure(figsize = (15,5))\n",
    "ax1 = fig.add_subplot(1,2,1)\n",
    "ax1.hist(petal_length, bins = 8, range = (0,8), color = 'skyblue')\n",
    "\n",
    "\n",
    "\n",
    "# 상대도수 만들기\n",
    "petal_len_df['relative freq'] = petal_len_df['freq']/petal_len_df['freq'].sum()\n",
    "\n",
    "# 누적상대도수 만들기\n",
    "petal_len_df['cumulative relative freq'] = petal_len_df['relative freq'].cumsum().round(2)\n",
    "display(petal_len_df)\n",
    "\n",
    "\n",
    "# 히스토그램과 누적상대도수 선그래프 그리기\n",
    "ax2 = fig.add_subplot(1,2,2)\n",
    "ax3 = ax2.twinx()\n",
    "\n",
    "## 히스토그램\n",
    "weights = np.ones_like(petal_length)/len(petal_length)\n",
    "ax2.hist(petal_length, bins = 8, range = (0,8), weights = weights, color = 'pink')\n",
    "\n",
    "### x축값: 계급값\n",
    "class_value = [ (i+(i+1))/2 for i in range(0, 8)]\n",
    "### y축값: 누적상대도수 \n",
    "cumsum = petal_len_df['cumulative relative freq']\n",
    "\n",
    "## 꺾은선 그래프\n",
    "ax3.plot(class_value, cumsum, marker = 's', color = 'red')\n",
    "\n",
    "\n",
    "plt.show()"
   ]
  },
  {
   "cell_type": "markdown",
   "id": "2086665a",
   "metadata": {},
   "source": [
    "\n",
    "#### 이차원 데이터 생성해(1000개) 다음을 수행하세요 \n",
    "- 공분산 및 상관계수를 구하세요.\n",
    "- 이차원 데이터를 산점도, 히트맵으로 시각화한 후 인사이트를 기술하세요. "
   ]
  },
  {
   "cell_type": "code",
   "execution_count": 79,
   "id": "6443a539",
   "metadata": {},
   "outputs": [
    {
     "name": "stdout",
     "output_type": "stream",
     "text": [
      "x,y의 공분산: 244115.3\n",
      "x,y의 상관계수: 0.93\n",
      "\n",
      "\n",
      "B1 계수: 2.93\n",
      "B0 계수: 396.68\n",
      "\n",
      "\n",
      "회귀식: y = 396.68 +  2.93x\n",
      "\n",
      "\n"
     ]
    },
    {
     "data": {
      "image/png": "[encoded data removed]",
      "text/plain": [
       "<Figure size 1080x504 with 2 Axes>"
      ]
     },
     "metadata": {
      "needs_background": "light"
     },
     "output_type": "display_data"
    }
   ],
   "source": [
    "# 랜덤 데이터 생성\n",
    "## 방법1 ============================================================\n",
    "\n",
    "# x = np.arange(1,1001)\n",
    "# y = np.random.randint(1,3000,1000)\n",
    "\n",
    "# # 데이터의 경향성 만들기 (y = 3x에 가깝게..)\n",
    "# for i in np.random.randint(0,300,300):\n",
    "#     y[i]= x[i] * 3 - np.random.randint(1,400,1)    \n",
    "# for i in np.random.randint(0,300,300):\n",
    "#     y[i]= x[i] * 3 + np.random.randint(1,400,1)    \n",
    "# for i in np.random.randint(300,750,300):\n",
    "#     y[i]= x[i] * 3 - np.random.randint(1,800,1)   \n",
    "# for i in np.random.randint(300,750,300):\n",
    "#     y[i]= x[i] * 3 + np.random.randint(1,800,1)\n",
    "# for i in np.random.randint(750,1000,300):\n",
    "#     y[i]= x[i] * 3 - np.random.randint(1,400,1)\n",
    "# for i in np.random.randint(750,1000,300):\n",
    "#     y[i]= x[i] * 3 + np.random.randint(1,400,1)\n",
    "\n",
    "    \n",
    "## 방법2 ============================================================\n",
    "\n",
    "x = np.arange(1,1001)\n",
    "y = x.copy()\n",
    "for i in range(1000):\n",
    "    if i<250 or i>750:\n",
    "        x_move = np.random.uniform(2.5,3.5)\n",
    "        y_move = np.random.randint(0,500)\n",
    "    else: \n",
    "        x_move = np.random.uniform(2.2,3.8)\n",
    "        y_move = np.random.randint(0,1000)\n",
    "    y[i] = x[i]*x_move + y_move\n",
    "\n",
    "\n",
    "    \n",
    "    \n",
    "# 공분산, 상관계수 구하기\n",
    "cov_xy = np.cov(x,y, ddof = 0)[0,1].round(2)\n",
    "r_xy = np.corrcoef(x, y)[0,1].round(2)\n",
    "\n",
    "print(f'x,y의 공분산: {cov_xy}')\n",
    "print(f'x,y의 상관계수: {r_xy}')\n",
    "print('\\n')\n",
    "\n",
    "\n",
    "\n",
    "# 산점도 그리기\n",
    "import matplotlib.pyplot as plt\n",
    "\n",
    "fig = plt.figure(figsize = (15,7))\n",
    "ax1 = fig.add_subplot(1,2,1)\n",
    "ax1.scatter(x, y, color = 'skyblue')\n",
    "ax1.set_xlabel('X')\n",
    "ax1.set_ylabel('Y')\n",
    "\n",
    "\n",
    "\n",
    "# 회귀선 추가\n",
    "## B0, B1 계수 구하기\n",
    "poly_fit = np.polyfit(x, y, 1)\n",
    "print(f'B1 계수: {poly_fit[0]:.2f}')\n",
    "print(f'B0 계수: {poly_fit[1]:.2f}')\n",
    "print('\\n')\n",
    "print(f'회귀식: y = {poly_fit[1]:.2f} +  {poly_fit[0]:.2f}x')\n",
    "print('\\n')\n",
    "\n",
    "## B0 + B1*x 반환하는 함수 작성\n",
    "poly_1d = np.poly1d(poly_fit)\n",
    "\n",
    "## x축\n",
    "xs = np.linspace(x.min(), x.max())\n",
    "## y축\n",
    "ys = poly_1d(xs)\n",
    "ax1.plot(xs, ys, color = 'black' )\n",
    "\n",
    "\n",
    "\n",
    "\n",
    "# 히트맵 그리기\n",
    "ax2 = fig.add_subplot(1,2,2)\n",
    "ax2.hist2d(x, y)\n",
    "ax2.set_xlabel('X')\n",
    "ax2.set_ylabel('Y')\n",
    "\n",
    "\n",
    "\n",
    "plt.show()"
   ]
  },
  {
   "cell_type": "code",
   "execution_count": 37,
   "id": "d45ed1ed",
   "metadata": {},
   "outputs": [],
   "source": [
    "# 데이터 만들기\n",
    "import random\n",
    "# 경향성 만들기 y = 0.8x + 10 이런꼴\n",
    "en_scores = np.random.randn(100)*10 + 70\n",
    "ma_scores = en_scores # 일단 복붙해서 대강 만들기\n",
    "\n",
    "for i in range(100):\n",
    "    x = round(random.uniform(0.5,0.9),2)\n",
    "    y = np.random.randint(10,15)\n",
    "    ma_scores[i] = en_scores[i]*x + y # 경향을 랜덤으로 만들되, 설정한 범위 내에서 만들기"
   ]
  },
  {
   "cell_type": "markdown",
   "id": "fda16082",
   "metadata": {},
   "source": [
    "### 앤스컴의 예"
   ]
  },
  {
   "cell_type": "code",
   "execution_count": 24,
   "id": "ff86a276",
   "metadata": {
    "scrolled": true
   },
   "outputs": [
    {
     "name": "stdout",
     "output_type": "stream",
     "text": [
      "(4, 11, 2)\n",
      "[[[10.    8.04]\n",
      "  [ 8.    6.95]\n",
      "  [13.    7.58]\n",
      "  [ 9.    8.81]\n",
      "  [11.    8.33]\n",
      "  [14.    9.96]\n",
      "  [ 6.    7.24]\n",
      "  [ 4.    4.26]\n",
      "  [12.   10.84]\n",
      "  [ 7.    4.82]\n",
      "  [ 5.    5.68]]\n",
      "\n",
      " [[10.    9.14]\n",
      "  [ 8.    8.14]\n",
      "  [13.    8.74]\n",
      "  [ 9.    8.77]\n",
      "  [11.    9.26]\n",
      "  [14.    8.1 ]\n",
      "  [ 6.    6.13]\n",
      "  [ 4.    3.1 ]\n",
      "  [12.    9.13]\n",
      "  [ 7.    7.26]\n",
      "  [ 5.    4.74]]\n",
      "\n",
      " [[10.    7.46]\n",
      "  [ 8.    6.77]\n",
      "  [13.   12.74]\n",
      "  [ 9.    7.11]\n",
      "  [11.    7.81]\n",
      "  [14.    8.84]\n",
      "  [ 6.    6.08]\n",
      "  [ 4.    5.39]\n",
      "  [12.    8.15]\n",
      "  [ 7.    6.42]\n",
      "  [ 5.    5.73]]\n",
      "\n",
      " [[ 8.    6.58]\n",
      "  [ 8.    5.76]\n",
      "  [ 8.    7.71]\n",
      "  [ 8.    8.84]\n",
      "  [ 8.    8.47]\n",
      "  [ 8.    7.04]\n",
      "  [ 8.    5.25]\n",
      "  [19.   12.5 ]\n",
      "  [ 8.    5.56]\n",
      "  [ 8.    7.91]\n",
      "  [ 8.    6.89]]]\n"
     ]
    }
   ],
   "source": [
    "# npy 형식으로 저장된 Numpy array 불러오기\n",
    "\n",
    "import numpy as np\n",
    "anscombe_data = np.load('ch3_anscombe.npy')\n",
    "\n",
    "print(anscombe_data.shape)  # 11행 2열이 4개\n",
    "print(anscombe_data)"
   ]
  },
  {
   "cell_type": "code",
   "execution_count": 31,
   "id": "fefc412e",
   "metadata": {},
   "outputs": [
    {
     "data": {
      "text/html": [
       "<div>\n",
       "<style scoped>\n",
       "    .dataframe tbody tr th:only-of-type {\n",
       "        vertical-align: middle;\n",
       "    }\n",
       "\n",
       "    .dataframe tbody tr th {\n",
       "        vertical-align: top;\n",
       "    }\n",
       "\n",
       "    .dataframe thead th {\n",
       "        text-align: right;\n",
       "    }\n",
       "</style>\n",
       "<table border=\"1\" class=\"dataframe\">\n",
       "  <thead>\n",
       "    <tr style=\"text-align: right;\">\n",
       "      <th></th>\n",
       "      <th>data1</th>\n",
       "      <th>data2</th>\n",
       "      <th>data3</th>\n",
       "      <th>data4</th>\n",
       "    </tr>\n",
       "  </thead>\n",
       "  <tbody>\n",
       "    <tr>\n",
       "      <th>X_mean</th>\n",
       "      <td>9.00</td>\n",
       "      <td>9.00</td>\n",
       "      <td>9.00</td>\n",
       "      <td>9.00</td>\n",
       "    </tr>\n",
       "    <tr>\n",
       "      <th>X_variance</th>\n",
       "      <td>10.00</td>\n",
       "      <td>10.00</td>\n",
       "      <td>10.00</td>\n",
       "      <td>10.00</td>\n",
       "    </tr>\n",
       "    <tr>\n",
       "      <th>Y_mean</th>\n",
       "      <td>7.50</td>\n",
       "      <td>7.50</td>\n",
       "      <td>7.50</td>\n",
       "      <td>7.50</td>\n",
       "    </tr>\n",
       "    <tr>\n",
       "      <th>Y_variance</th>\n",
       "      <td>3.75</td>\n",
       "      <td>3.75</td>\n",
       "      <td>3.75</td>\n",
       "      <td>3.75</td>\n",
       "    </tr>\n",
       "    <tr>\n",
       "      <th>X&amp;Y_correlation</th>\n",
       "      <td>0.82</td>\n",
       "      <td>0.82</td>\n",
       "      <td>0.82</td>\n",
       "      <td>0.82</td>\n",
       "    </tr>\n",
       "    <tr>\n",
       "      <th>X&amp;Y_regression line</th>\n",
       "      <td>3.00 + 0.50x</td>\n",
       "      <td>3.00 + 0.50x</td>\n",
       "      <td>3.00 + 0.50x</td>\n",
       "      <td>3.00 + 0.50x</td>\n",
       "    </tr>\n",
       "  </tbody>\n",
       "</table>\n",
       "</div>"
      ],
      "text/plain": [
       "                            data1         data2         data3         data4\n",
       "X_mean                       9.00          9.00          9.00          9.00\n",
       "X_variance                  10.00         10.00         10.00         10.00\n",
       "Y_mean                       7.50          7.50          7.50          7.50\n",
       "Y_variance                   3.75          3.75          3.75          3.75\n",
       "X&Y_correlation              0.82          0.82          0.82          0.82\n",
       "X&Y_regression line  3.00 + 0.50x  3.00 + 0.50x  3.00 + 0.50x  3.00 + 0.50x"
      ]
     },
     "execution_count": 31,
     "metadata": {},
     "output_type": "execute_result"
    }
   ],
   "source": [
    "import pandas as pd\n",
    "\n",
    "stats_df = pd.DataFrame(index = ['X_mean', 'X_variance', 'Y_mean','Y_variance', 'X&Y_correlation','X&Y_regression line'])\n",
    "\n",
    "for i, data in enumerate(anscombe_data):\n",
    "    dataX = data[:,0]\n",
    "    dataY = data[:,1]\n",
    "    poly_fit = np.polyfit(dataX, dataY, 1)\n",
    "    \n",
    "    stats_df[f'data{i+1}'] = [f'{np.mean(dataX): .2f}',\n",
    "                              f'{np.var(dataX): .2f}',\n",
    "                              f'{np.mean(dataY): .2f}',\n",
    "                              f'{np.var(dataY): .2f}',\n",
    "                              f'{np.corrcoef(dataX,dataY)[0,1]: .2f}',\n",
    "                              f'{poly_fit[1]:.2f} + {poly_fit[0]:.2f}x']\n",
    "    \n",
    "stats_df"
   ]
  },
  {
   "cell_type": "code",
   "execution_count": 36,
   "id": "4242e8f2",
   "metadata": {},
   "outputs": [
    {
     "data": {
      "image/png": "[encoded data removed]",
      "text/plain": [
       "<Figure size 720x720 with 4 Axes>"
      ]
     },
     "metadata": {
      "needs_background": "light"
     },
     "output_type": "display_data"
    }
   ],
   "source": [
    "import matplotlib.pyplot as plt\n",
    "\n",
    "fig, axes = plt.subplots(nrows = 2, ncols = 2, figsize = (10,10), \n",
    "                         sharex = True, sharey = True)\n",
    "\n",
    "xs = np.linspace(0, 30, 100)\n",
    "\n",
    "for i, data in enumerate(anscombe_data):\n",
    "    poly_fit = np.polyfit(data[:,0], data[:,1], 1)\n",
    "    poly_1d = np.poly1d(poly_fit)\n",
    "    ys = poly_1d(xs)\n",
    "    \n",
    "    ax = axes[i // 2, i % 2]\n",
    "    ax.set_xlim([4,20])\n",
    "    ax.set_ylim([3,13])\n",
    "    \n",
    "    ax.set_title(f'data{i+1}')\n",
    "    ax.scatter(data[:,0], data[:,1], color = 'lightblue')\n",
    "    ax.plot(xs, ys, color = 'purple')\n",
    "    \n",
    "plt.tight_layout()\n",
    "plt.show()"
   ]
  },
  {
   "cell_type": "markdown",
   "id": "11a6dabb",
   "metadata": {},
   "source": [
    "## 추측통계의 기본"
   ]
  },
  {
   "cell_type": "markdown",
   "id": "cdd731b2",
   "metadata": {},
   "source": [
    "### 모집단과 표본"
   ]
  },
  {
   "cell_type": "markdown",
   "id": "902c03bf",
   "metadata": {},
   "source": [
    "- 모집단: 추측하고 싶은 관측 대상 전체\n",
    "- 표본: 추측에 사용하는 관측 대상의 일부분\n",
    "- 표본추출: 모집단에서 표본을 골라내는 일\n",
    "- 모수: 모집단의 평균, 분산, 상관계수 등\n",
    "- 표본통계량: 표본을 바탕으로 계산한 평균이나 분산, 상관계수 등 \n",
    "- 추정량: 표본통계량으로 모수를 추측할 때 표본통계량\n",
    "\n",
    "\n",
    "\n",
    "- 무작위추출: 임의로 표본을 추출하는 방법  \n",
    "    - 복원추출: 여러차례 동일한 표본 선택 가능 -> <b>np.random.choice(list, n)</b>\n",
    "    - 비복원추출: 동일한 표본은 한 번만 선택 가능 -> <b>np.random.choice(list, n, replace = False)</b>\n",
    "    - 반복 무작위추출 시, 통계량이 달라지는 것 방지 -> np.random.seed(0)\n",
    "        - 위치에 따라서 고정되는 값이 달라짐"
   ]
  },
  {
   "cell_type": "code",
   "execution_count": 89,
   "id": "4fdf93bd",
   "metadata": {},
   "outputs": [
    {
     "name": "stdout",
     "output_type": "stream",
     "text": [
      "[2 3]\n",
      "[4 3]\n",
      "[4 1]\n",
      "[5 2]\n",
      "[5 3]\n"
     ]
    }
   ],
   "source": [
    "import numpy as np\n",
    "\n",
    "for i in range(5):\n",
    "    print(np.random.choice([1,2,3,4,5],2))"
   ]
  },
  {
   "cell_type": "code",
   "execution_count": 99,
   "id": "ccd7acaa",
   "metadata": {},
   "outputs": [
    {
     "name": "stdout",
     "output_type": "stream",
     "text": [
      "[5 1]\n",
      "[4 4]\n",
      "[4 2]\n",
      "[4 3]\n",
      "[5 1]\n"
     ]
    }
   ],
   "source": [
    "np.random.seed(0)\n",
    "\n",
    "for i in range(5):\n",
    "    print(np.random.choice([1,2,3,4,5],2))"
   ]
  },
  {
   "cell_type": "code",
   "execution_count": 100,
   "id": "8b0634bc",
   "metadata": {},
   "outputs": [
    {
     "name": "stdout",
     "output_type": "stream",
     "text": [
      "[5 1]\n",
      "[5 1]\n",
      "[5 1]\n",
      "[5 1]\n",
      "[5 1]\n"
     ]
    }
   ],
   "source": [
    "for i in range(5):\n",
    "    np.random.seed(0)\n",
    "    print(np.random.choice([1,2,3,4,5],2))"
   ]
  },
  {
   "cell_type": "code",
   "execution_count": 103,
   "id": "848c1c2c",
   "metadata": {},
   "outputs": [
    {
     "data": {
      "text/html": [
       "<div>\n",
       "<style scoped>\n",
       "    .dataframe tbody tr th:only-of-type {\n",
       "        vertical-align: middle;\n",
       "    }\n",
       "\n",
       "    .dataframe tbody tr th {\n",
       "        vertical-align: top;\n",
       "    }\n",
       "\n",
       "    .dataframe thead th {\n",
       "        text-align: right;\n",
       "    }\n",
       "</style>\n",
       "<table border=\"1\" class=\"dataframe\">\n",
       "  <thead>\n",
       "    <tr style=\"text-align: right;\">\n",
       "      <th></th>\n",
       "      <th>score</th>\n",
       "    </tr>\n",
       "  </thead>\n",
       "  <tbody>\n",
       "    <tr>\n",
       "      <th>0</th>\n",
       "      <td>76</td>\n",
       "    </tr>\n",
       "    <tr>\n",
       "      <th>1</th>\n",
       "      <td>55</td>\n",
       "    </tr>\n",
       "    <tr>\n",
       "      <th>2</th>\n",
       "      <td>80</td>\n",
       "    </tr>\n",
       "    <tr>\n",
       "      <th>3</th>\n",
       "      <td>80</td>\n",
       "    </tr>\n",
       "    <tr>\n",
       "      <th>4</th>\n",
       "      <td>74</td>\n",
       "    </tr>\n",
       "    <tr>\n",
       "      <th>...</th>\n",
       "      <td>...</td>\n",
       "    </tr>\n",
       "    <tr>\n",
       "      <th>395</th>\n",
       "      <td>77</td>\n",
       "    </tr>\n",
       "    <tr>\n",
       "      <th>396</th>\n",
       "      <td>60</td>\n",
       "    </tr>\n",
       "    <tr>\n",
       "      <th>397</th>\n",
       "      <td>83</td>\n",
       "    </tr>\n",
       "    <tr>\n",
       "      <th>398</th>\n",
       "      <td>80</td>\n",
       "    </tr>\n",
       "    <tr>\n",
       "      <th>399</th>\n",
       "      <td>85</td>\n",
       "    </tr>\n",
       "  </tbody>\n",
       "</table>\n",
       "<p>400 rows × 1 columns</p>\n",
       "</div>"
      ],
      "text/plain": [
       "     score\n",
       "0       76\n",
       "1       55\n",
       "2       80\n",
       "3       80\n",
       "4       74\n",
       "..     ...\n",
       "395     77\n",
       "396     60\n",
       "397     83\n",
       "398     80\n",
       "399     85\n",
       "\n",
       "[400 rows x 1 columns]"
      ]
     },
     "execution_count": 103,
     "metadata": {},
     "output_type": "execute_result"
    }
   ],
   "source": [
    "import numpy as np\n",
    "import pandas as pd\n",
    "import matplotlib.pyplot as plt\n",
    "\n",
    "df = pd.read_csv('ch4_scores400.csv')\n",
    "df"
   ]
  },
  {
   "cell_type": "code",
   "execution_count": 123,
   "id": "1e92ce50",
   "metadata": {},
   "outputs": [
    {
     "data": {
      "text/plain": [
       "array([49, 60, 72, 86, 52, 61, 77, 91, 80, 56, 69, 67, 90, 56, 75, 79, 60,\n",
       "       79, 68, 81], dtype=int64)"
      ]
     },
     "execution_count": 123,
     "metadata": {},
     "output_type": "execute_result"
    }
   ],
   "source": [
    "np.random.seed(0)\n",
    "\n",
    "scores = np.array(df['score'])\n",
    "sample = np.random.choice(scores, 20)\n",
    "sample"
   ]
  },
  {
   "cell_type": "code",
   "execution_count": 124,
   "id": "b0e67556",
   "metadata": {},
   "outputs": [
    {
     "data": {
      "text/plain": [
       "70.4"
      ]
     },
     "execution_count": 124,
     "metadata": {},
     "output_type": "execute_result"
    }
   ],
   "source": [
    "sample.mean()"
   ]
  },
  {
   "cell_type": "code",
   "execution_count": 125,
   "id": "436f79b2",
   "metadata": {},
   "outputs": [
    {
     "data": {
      "text/plain": [
       "69.53"
      ]
     },
     "execution_count": 125,
     "metadata": {},
     "output_type": "execute_result"
    }
   ],
   "source": [
    "scores.mean()"
   ]
  },
  {
   "cell_type": "code",
   "execution_count": 155,
   "id": "477876a9",
   "metadata": {},
   "outputs": [
    {
     "data": {
      "text/plain": [
       "array([86, 65, 70, 64, 87, 76, 87, 77, 52, 76, 68, 75, 52, 65, 96, 61, 54,\n",
       "       55, 58, 52], dtype=int64)"
      ]
     },
     "execution_count": 155,
     "metadata": {},
     "output_type": "execute_result"
    }
   ],
   "source": [
    "scores = np.array(df['score'])\n",
    "sample = np.random.choice(scores, 20)\n",
    "sample"
   ]
  },
  {
   "cell_type": "markdown",
   "id": "26f5ead7",
   "metadata": {},
   "source": [
    "### 확률모형\n",
    "- 확률변수: 취하는 값과 그 값이 나올 확률이 결정되어 있는 것\n",
    "    - 사건이 서로 배반이라면, 그 중에 적어도 하나 일어나는 사건은 각 사건의 확률의 합과 같음\n",
    "- 확률분포: 확률변수가 어떻게 움직이는지를 나타냄\n",
    "    - 각 요소의 확률을 지정해주는 함수 np.random.choice(변수, p = 확률정의 변수)"
   ]
  },
  {
   "cell_type": "code",
   "execution_count": 159,
   "id": "2fb96f88",
   "metadata": {},
   "outputs": [],
   "source": [
    "# 주사위 눈과 각 요소가 나올 확률 지정\n",
    "\n",
    "dice = [1, 2, 3, 4, 5, 6]\n",
    "prob = [1/21, 2/21, 3/21, 4/21, 5/21, 6/21]"
   ]
  },
  {
   "cell_type": "code",
   "execution_count": 169,
   "id": "ff0e0fd7",
   "metadata": {},
   "outputs": [
    {
     "data": {
      "text/plain": [
       "array([5, 4, 1, 5, 5, 1, 6, 5, 4, 3, 6, 4, 4, 5, 6, 4, 6, 5, 4, 5, 4, 5,\n",
       "       5, 6, 4, 1, 6, 4, 6, 5, 3, 5, 6, 2, 3, 2, 6, 1, 2, 3, 6, 3, 4, 4,\n",
       "       5, 6, 6, 2, 5, 6, 6, 3, 6, 3, 6, 1, 2, 5, 4, 2, 6, 6, 3, 4, 5, 5,\n",
       "       6, 2, 1, 5, 4, 3, 2, 2, 6, 4, 4, 1, 4, 5, 5, 6, 5, 4, 4, 6, 6, 3,\n",
       "       5, 5, 4, 5, 2, 5, 1, 6, 5, 6, 1, 6])"
      ]
     },
     "execution_count": 169,
     "metadata": {},
     "output_type": "execute_result"
    }
   ],
   "source": [
    "# 100개 랜덤추출\n",
    "\n",
    "num_trial = 100\n",
    "sample = np.random.choice(dice, num_trial, p = prob)\n",
    "sample"
   ]
  },
  {
   "cell_type": "code",
   "execution_count": 170,
   "id": "97fe8b24",
   "metadata": {
    "scrolled": true
   },
   "outputs": [
    {
     "data": {
      "text/html": [
       "<div>\n",
       "<style scoped>\n",
       "    .dataframe tbody tr th:only-of-type {\n",
       "        vertical-align: middle;\n",
       "    }\n",
       "\n",
       "    .dataframe tbody tr th {\n",
       "        vertical-align: top;\n",
       "    }\n",
       "\n",
       "    .dataframe thead th {\n",
       "        text-align: right;\n",
       "    }\n",
       "</style>\n",
       "<table border=\"1\" class=\"dataframe\">\n",
       "  <thead>\n",
       "    <tr style=\"text-align: right;\">\n",
       "      <th></th>\n",
       "      <th>freq</th>\n",
       "      <th>relative freq</th>\n",
       "    </tr>\n",
       "    <tr>\n",
       "      <th>dice</th>\n",
       "      <th></th>\n",
       "      <th></th>\n",
       "    </tr>\n",
       "  </thead>\n",
       "  <tbody>\n",
       "    <tr>\n",
       "      <th>1</th>\n",
       "      <td>9</td>\n",
       "      <td>0.09</td>\n",
       "    </tr>\n",
       "    <tr>\n",
       "      <th>2</th>\n",
       "      <td>10</td>\n",
       "      <td>0.10</td>\n",
       "    </tr>\n",
       "    <tr>\n",
       "      <th>3</th>\n",
       "      <td>10</td>\n",
       "      <td>0.10</td>\n",
       "    </tr>\n",
       "    <tr>\n",
       "      <th>4</th>\n",
       "      <td>20</td>\n",
       "      <td>0.20</td>\n",
       "    </tr>\n",
       "    <tr>\n",
       "      <th>5</th>\n",
       "      <td>25</td>\n",
       "      <td>0.25</td>\n",
       "    </tr>\n",
       "    <tr>\n",
       "      <th>6</th>\n",
       "      <td>26</td>\n",
       "      <td>0.26</td>\n",
       "    </tr>\n",
       "  </tbody>\n",
       "</table>\n",
       "</div>"
      ],
      "text/plain": [
       "      freq  relative freq\n",
       "dice                     \n",
       "1        9           0.09\n",
       "2       10           0.10\n",
       "3       10           0.10\n",
       "4       20           0.20\n",
       "5       25           0.25\n",
       "6       26           0.26"
      ]
     },
     "execution_count": 170,
     "metadata": {},
     "output_type": "execute_result"
    }
   ],
   "source": [
    "# 각 계급별 도수 및 상대도수 측정\n",
    "freq, _ = np.histogram(sample, bins = 6, range = (1,7))\n",
    "\n",
    "pd.DataFrame({'freq': freq, 'relative freq': freq/num_trial}, \n",
    "              pd.Index(list(range(1,7)), name = 'dice'))"
   ]
  },
  {
   "cell_type": "code",
   "execution_count": 192,
   "id": "5b63d2e6",
   "metadata": {},
   "outputs": [
    {
     "data": {
      "image/png": "[encoded data removed]",
      "text/plain": [
       "<Figure size 720x432 with 1 Axes>"
      ]
     },
     "metadata": {
      "needs_background": "light"
     },
     "output_type": "display_data"
    }
   ],
   "source": [
    "# 히스토그램 그리기\n",
    "\n",
    "fig = plt.figure(figsize = (10,6))\n",
    "ax = fig.add_subplot(111)\n",
    "\n",
    "# 히스토그램 그리기\n",
    "ax.hist(sample, bins = 6, range = (1,7), density = True, rwidth = 0.8, color = 'salmon')\n",
    "# ax.hist(sample, bins = 6, range = (1,7), weights = np.ones_like(sample)/len(sample), rwidth = 0.8)\n",
    "\n",
    "# 실제 확률분포 가로선으로 표시\n",
    "ax.hlines(prob, np.arange(1,7), np.arange(2,8), color = 'gray')\n",
    "\n",
    "\n",
    "# 막대그래프의 [1.5,2.5,...,6.5]에 눈금표시하기\n",
    "ax.set_xticks(np.linspace(1.5,6.5,6))  # 눈금 위치\n",
    "ax.set_xticklabels(np.arange(1,7)) # 눈금 내용\n",
    "ax.set_xlabel('Dice')\n",
    "ax.set_ylabel('Relative Frequency')\n",
    "\n",
    "plt.show()"
   ]
  },
  {
   "cell_type": "code",
   "execution_count": 201,
   "id": "aee66711",
   "metadata": {},
   "outputs": [
    {
     "data": {
      "image/png": "[encoded data removed]",
      "text/plain": [
       "<Figure size 720x432 with 1 Axes>"
      ]
     },
     "metadata": {
      "needs_background": "light"
     },
     "output_type": "display_data"
    }
   ],
   "source": [
    "# 10000개 랜덤추출\n",
    "\n",
    "num_trial2 = 10000\n",
    "sample2 = np.random.choice(list(range(1,7)), num_trial2, p = prob)\n",
    "\n",
    "\n",
    "# 시각화\n",
    "fig = plt.figure(figsize = (10,6))\n",
    "ax = fig.add_subplot(111)\n",
    "\n",
    "# 히스토그램 그리기\n",
    "ax.hlines(prob, np.arange(1,7), np.arange(2,8), color = 'gray')\n",
    "ax.set_xticks(np.linspace(1.5, 6.5, 6))\n",
    "ax.set_xticklabels(np.arange(1,7))\n",
    "ax.set_xlabel('Dice')\n",
    "ax.set_ylabel('Relative Frequency')\n",
    "plt.show()"
   ]
  },
  {
   "cell_type": "markdown",
   "id": "f21a9e95",
   "metadata": {},
   "source": [
    "시행횟수를 늘릴 수록 상대도수가 확률분포에 수렴해감"
   ]
  },
  {
   "cell_type": "markdown",
   "id": "31d1f911",
   "metadata": {},
   "source": [
    "### 추측통계의 확률\n",
    "- 무작위추출은 확률분포를 따르는 확률변수의 시행임\n",
    "- 히스토그램의 x 구간(점수)을 세분화하고 y인 상대도수(해당 점수를 얻은 사람 수)를 y축으로 두면, 이 히스토그램을 모집단의 확률분포로 간주할 수 있음 "
   ]
  },
  {
   "cell_type": "code",
   "execution_count": 214,
   "id": "8ee34cd4",
   "metadata": {},
   "outputs": [
    {
     "data": {
      "image/png": "[encoded data removed]",
      "text/plain": [
       "<Figure size 720x432 with 1 Axes>"
      ]
     },
     "metadata": {
      "needs_background": "light"
     },
     "output_type": "display_data"
    }
   ],
   "source": [
    "# 400개의 성적을 가지고 히스토그램(확률분포) 만들기\n",
    "\n",
    "fig = plt.figure(figsize = (10,6))\n",
    "ax = fig.add_subplot(111)\n",
    "\n",
    "# 계급폭을 1로 하는 히스토그램 그리기\n",
    "ax.hist(scores, bins = 100, range = (0,100), density = True, color = 'purple')\n",
    "\n",
    "# x, y축 구간 제한\n",
    "ax.set_xlim(20,110)\n",
    "ax.set_ylim(0,0.042)\n",
    "\n",
    "ax.set_xlabel('Score')\n",
    "ax.set_ylabel('Relative Frequency')\n",
    "\n",
    "plt.show()"
   ]
  },
  {
   "cell_type": "code",
   "execution_count": 221,
   "id": "943eb29e",
   "metadata": {},
   "outputs": [
    {
     "data": {
      "image/png": "[encoded data removed]",
      "text/plain": [
       "<Figure size 720x432 with 1 Axes>"
      ]
     },
     "metadata": {
      "needs_background": "light"
     },
     "output_type": "display_data"
    }
   ],
   "source": [
    "# 점수 표본의 크기를 늘리기\n",
    "\n",
    "sample = np.random.choice(scores, 10000)\n",
    "\n",
    "fig = plt.figure(figsize = (10,6))\n",
    "ax = fig.add_subplot(111)\n",
    "\n",
    "ax.hist(sample, bins = 100, range = (0,100), density = True, color = 'lightgray')\n",
    "\n",
    "ax.set_xlim(20,110)\n",
    "ax.set_ylim(0,0.05)\n",
    "ax.set_xlabel('Score')\n",
    "ax.set_ylabel('Relative Frequency')\n",
    "\n",
    "plt.show()"
   ]
  },
  {
   "cell_type": "markdown",
   "id": "1aa374a7",
   "metadata": {},
   "source": [
    "표본수를 늘려도 히스토그램의 실제 점수 분포에 매우 가까운 형태로 나타남"
   ]
  },
  {
   "cell_type": "code",
   "execution_count": 230,
   "id": "1655dec6",
   "metadata": {},
   "outputs": [
    {
     "data": {
      "image/png": "[encoded data removed]",
      "text/plain": [
       "<Figure size 720x432 with 1 Axes>"
      ]
     },
     "metadata": {
      "needs_background": "light"
     },
     "output_type": "display_data"
    }
   ],
   "source": [
    "# 무작위추출로 표본크기가 20인 표본을 추출하여 표본평균을 계산\n",
    "\n",
    "sample_means = [np.random.choice(scores, 20).mean() for _ in range(10000)]\n",
    "\n",
    "fig = plt.figure(figsize = (10,6))\n",
    "ax = fig.add_subplot(111)\n",
    "ax.hist(sample_means, bins = 100, range = (0,100), density = True, color = 'lightblue')\n",
    "\n",
    "# 모평균을 세로선으로 표시\n",
    "ax.vlines(np.mean(scores),0,1, color ='black')\n",
    "\n",
    "ax.set_xlim(50,90)\n",
    "ax.set_ylim(0,0.15)\n",
    "ax.set_xlabel('Score')\n",
    "ax.set_ylabel('Relative Frequency')\n",
    "\n",
    "plt.show()"
   ]
  },
  {
   "cell_type": "markdown",
   "id": "3f213323",
   "metadata": {},
   "source": [
    "- 표본평균은 산포도 그자체로, 모평균을 중심으로 분포하는 것을 알 수 있음\n",
    "- 무작위추출에 의한 표본평균으로 모평균을 추측할 수 있는 근거가 됨"
   ]
  },
  {
   "cell_type": "markdown",
   "id": "07837a78",
   "metadata": {},
   "source": [
    "### 과제"
   ]
  },
  {
   "cell_type": "markdown",
   "id": "f199d25f",
   "metadata": {},
   "source": [
    "#### 적절한 데이터를 생성하고 polyfit을 이용하여 2,3차 방정식을 만든 후 산점도 및 회귀식을 시각화하여 의미를 해석하기"
   ]
  },
  {
   "cell_type": "code",
   "execution_count": 269,
   "id": "27b514f5",
   "metadata": {},
   "outputs": [
    {
     "name": "stdout",
     "output_type": "stream",
     "text": [
      "=======================================================\n",
      "2차 회귀 방정식 Y = B0 + B1x + B2x^2: \n",
      "\n",
      "Y = 0.68+3.45X+-0.53X^2\n",
      "=======================================================\n",
      "3차 회귀 방정식 Y = B0 + B1x + B2x^2 + B3x^3: \n",
      "\n",
      "Y = 1.15+1.15X+1.71X^2 + -0.58X^3\n",
      "=======================================================\n"
     ]
    },
    {
     "data": {
      "image/png": "[encoded data removed]",
      "text/plain": [
       "<Figure size 1080x504 with 2 Axes>"
      ]
     },
     "metadata": {
      "needs_background": "light"
     },
     "output_type": "display_data"
    }
   ],
   "source": [
    "from sklearn.datasets import load_iris \n",
    "import matplotlib.pyplot as plt\n",
    "import pandas as pd\n",
    "import numpy as np\n",
    "\n",
    "# 꽃잎 길이 데이터 추출\n",
    "iris = load_iris() \n",
    "df = pd.DataFrame(data = iris.data, columns = iris.feature_names)\n",
    "petal = df[['petal length (cm)', 'petal width (cm)']]\n",
    "# display(petal)\n",
    "# print(petal.describe())\n",
    "\n",
    "\n",
    "print('=======================================================')\n",
    "# 2차원 회귀방정식 만들기\n",
    "## 회귀계수 생성\n",
    "poly2d = np.polyfit(petal.iloc[:,1], petal.iloc[:,0], 2)\n",
    "\n",
    "B0, B1, B2 = poly2d[2], poly2d[1], poly2d[0]\n",
    "\n",
    "## 회귀방정식\n",
    "print(f'2차 회귀 방정식 Y = B0 + B1x + B2x^2: \\n')\n",
    "print(f'Y = {B0:.2f}+{B1:.2f}X+{B2:.2f}X^2')\n",
    "\n",
    "\n",
    "# 시각화\n",
    "fig = plt.figure(figsize = (15,7))\n",
    "ax1 = fig.add_subplot(1,2,1)\n",
    "\n",
    "## 산점도 그리기\n",
    "ax1.scatter(petal.iloc[:,1], petal.iloc[:,0], color = 'pink')\n",
    "\n",
    "## 회귀선 그리기\n",
    "x = np.linspace(0,2.5,100)\n",
    "y_pred = B0 + B1 * x + B2 * x**2\n",
    "ax1.plot(x, y_pred, color = 'red')\n",
    "\n",
    "\n",
    "print('=======================================================')\n",
    "# 3차원 회귀방정식 만들기\n",
    "## 회귀계수 생성\n",
    "poly3d = np.polyfit(petal.iloc[:,1],petal.iloc[:,0], 3)\n",
    "\n",
    "B0, B1, B2, B3 = poly3d[2], poly3d[2], poly3d[1], poly3d[0]\n",
    "\n",
    "## 회귀방정식 생성\n",
    "print(f'3차 회귀 방정식 Y = B0 + B1x + B2x^2 + B3x^3: \\n')\n",
    "print(f'Y = {B0:.2f}+{B1:.2f}X+{B2:.2f}X^2 + {B3:.2f}X^3')\n",
    "\n",
    "# 시각화\n",
    "ax2 = fig.add_subplot(1,2,2)\n",
    "\n",
    "## 산점도 그리기\n",
    "ax2.scatter(petal.iloc[:,1], petal.iloc[:,0], color = 'lightblue')\n",
    "\n",
    "## 회귀선 그리기\n",
    "x = np.linspace(0,2.5,100)\n",
    "y_pred = B0 + B1 * x + B2 * x**2 + B3 * x**3\n",
    "ax2.plot(x, y_pred, color = 'blue')\n",
    "\n",
    "print('=======================================================')"
   ]
  },
  {
   "cell_type": "markdown",
   "id": "529ed210",
   "metadata": {},
   "source": [
    "#### 어떤 모집단에서 표본을 랜덤하게 추출하여 표본평균을 구하면 그 표본평균은 모평균을 중심으로 분포한다 라는 주장을 사례를 만들어서 설득력있게 설명하기"
   ]
  },
  {
   "cell_type": "code",
   "execution_count": 306,
   "id": "437658ef",
   "metadata": {},
   "outputs": [
    {
     "data": {
      "image/png": "[encoded data removed]",
      "text/plain": [
       "<Figure size 720x360 with 1 Axes>"
      ]
     },
     "metadata": {
      "needs_background": "light"
     },
     "output_type": "display_data"
    }
   ],
   "source": [
    "np.random.seed(0)\n",
    "\n",
    "scores = np.random.randint(20,100, 400)\n",
    "\n",
    "f'랜덤 생성된 데이터의 평균(모평균):{scores.mean()}'\n",
    "\n",
    "# 10000개의 표본의 평균 생성\n",
    "scores_n = [np.random.choice(scores, 30).mean() for _ in range(10000)]\n",
    "\n",
    "# 시각화\n",
    "fig = plt.figure(figsize = (10,5))\n",
    "ax = fig.add_subplot(111)\n",
    "\n",
    "## 히스토그램\n",
    "ax.hist(scores_n, bins = 80, range = (20,100), density = True, color = 'lightgreen')\n",
    "\n",
    "## 모평균 수직선\n",
    "ax.vlines(scores.mean(), 0,1, color = 'black')\n",
    "\n",
    "ax.set_xlim(40,80)\n",
    "ax.set_ylim(0,0.125)\n",
    "ax.set_xticks(np.arange(40,80,2))\n",
    "\n",
    "plt.show()\n",
    "\n",
    "# - 표본평균은 산포도 그자체로, 모평균을 중심으로 분포하는 것을 알 수 있음\n",
    "# - 무작위추출에 의한 표본평균으로 모평균을 추측할 수 있는 근거가 됨"
   ]
  },
  {
   "cell_type": "code",
   "execution_count": null,
   "id": "275863bc",
   "metadata": {},
   "outputs": [],
   "source": []
  },
  {
   "cell_type": "code",
   "execution_count": null,
   "id": "3e18cd54",
   "metadata": {},
   "outputs": [],
   "source": []
  },
  {
   "cell_type": "code",
   "execution_count": null,
   "id": "0db2a5c5",
   "metadata": {},
   "outputs": [],
   "source": []
  },
  {
   "cell_type": "raw",
   "id": "5e82259c",
   "metadata": {},
   "source": []
  }
 ],
 "metadata": {
  "kernelspec": {
   "display_name": "Python 3 (ipykernel)",
   "language": "python",
   "name": "python3"
  },
  "language_info": {
   "codemirror_mode": {
    "name": "ipython",
    "version": 3
   },
   "file_extension": ".py",
   "mimetype": "text/x-python",
   "name": "python",
   "nbconvert_exporter": "python",
   "pygments_lexer": "ipython3",
   "version": "3.8.13"
  },
  "toc": {
   "base_numbering": 1,
   "nav_menu": {},
   "number_sections": true,
   "sideBar": true,
   "skip_h1_title": false,
   "title_cell": "Table of Contents",
   "title_sidebar": "Contents",
   "toc_cell": false,
   "toc_position": {
    "height": "calc(100% - 180px)",
    "left": "10px",
    "top": "150px",
    "width": "264.02px"
   },
   "toc_section_display": true,
   "toc_window_display": true
  }
 },
 "nbformat": 4,
 "nbformat_minor": 5
}
