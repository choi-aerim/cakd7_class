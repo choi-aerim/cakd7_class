{
 "cells": [
  {
   "cell_type": "code",
   "execution_count": null,
   "id": "cf3c4a13",
   "metadata": {
    "scrolled": true
   },
   "outputs": [],
   "source": [
    "import pandas as pd\n",
    "\n",
    "purchase_minus = pd.read_csv('C:/cakd7/2차 프로젝트/MINUS_CUSTNO_DATA_TABLE.csv', index_col = 0, encoding = 'cp949',engine = 'python')\n",
    "purchase_minus"
   ]
  },
  {
   "cell_type": "code",
   "execution_count": null,
   "id": "08fef1af",
   "metadata": {},
   "outputs": [],
   "source": [
    "cust_year = pd.pivot_table(data = purchase,\n",
    "                           index = '고객번호',\n",
    "                           columns = '구매연도',\n",
    "                           values = '구매금액',\n",
    "                           aggfunc = 'sum')\n",
    "\n",
    "cust_year['2015-2014 차이'] = cust_year[2015] - cust_year[2014]\n",
    "\n",
    "def minus(x):\n",
    "    if x < 0: y = 1\n",
    "    elif x > 0: y = 0\n",
    "    else: y = 2\n",
    "    return y\n",
    "\n",
    "cust_year['감소 여부'] = cust_year['2015-2014 차이'].apply(lambda x: minus(x))"
   ]
  },
  {
   "cell_type": "code",
   "execution_count": null,
   "id": "1fb7d867",
   "metadata": {},
   "outputs": [],
   "source": []
  },
  {
   "cell_type": "code",
   "execution_count": null,
   "id": "dc685ebf",
   "metadata": {},
   "outputs": [],
   "source": []
  },
  {
   "cell_type": "code",
   "execution_count": null,
   "id": "1d6ed36f",
   "metadata": {},
   "outputs": [],
   "source": []
  },
  {
   "cell_type": "code",
   "execution_count": null,
   "id": "5b5590c6",
   "metadata": {},
   "outputs": [],
   "source": []
  },
  {
   "cell_type": "code",
   "execution_count": null,
   "id": "f03e872d",
   "metadata": {},
   "outputs": [],
   "source": []
  }
 ],
 "metadata": {
  "kernelspec": {
   "display_name": "Python 3 (ipykernel)",
   "language": "python",
   "name": "python3"
  },
  "language_info": {
   "codemirror_mode": {
    "name": "ipython",
    "version": 3
   },
   "file_extension": ".py",
   "mimetype": "text/x-python",
   "name": "python",
   "nbconvert_exporter": "python",
   "pygments_lexer": "ipython3",
   "version": "3.8.13"
  },
  "toc": {
   "base_numbering": 1,
   "nav_menu": {},
   "number_sections": true,
   "sideBar": true,
   "skip_h1_title": false,
   "title_cell": "Table of Contents",
   "title_sidebar": "Contents",
   "toc_cell": false,
   "toc_position": {},
   "toc_section_display": true,
   "toc_window_display": false
  }
 },
 "nbformat": 4,
 "nbformat_minor": 5
}
