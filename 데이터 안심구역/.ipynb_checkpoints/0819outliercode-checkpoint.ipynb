{
 "cells": [
  {
   "cell_type": "markdown",
   "id": "c7690f65",
   "metadata": {},
   "source": [
    "##### box plot 의미 해석\n",
    "- IQR(Inter Quatile Range): 제3분위수-제1분위수\n",
    "- lower whisker: Q1-1.5*IQR 이내인 값 중 최솟값\n",
    "- upper whisker: Q3+1.5*IQR 이내인 값 중 최댓값\n",
    "- 이상치: lower whisker, upper whisker를 벗어나는 값"
   ]
  },
  {
   "cell_type": "code",
   "execution_count": 64,
   "id": "0e07b299",
   "metadata": {},
   "outputs": [
    {
     "data": {
      "text/plain": [
       "count       20.000000\n",
       "mean     11662.500000\n",
       "std        927.060294\n",
       "min      10100.000000\n",
       "25%      11087.500000\n",
       "50%      11725.000000\n",
       "75%      11962.500000\n",
       "max      13450.000000\n",
       "Name: Close, dtype: float64"
      ]
     },
     "execution_count": 64,
     "metadata": {},
     "output_type": "execute_result"
    }
   ],
   "source": [
    "df.Close.describe()"
   ]
  },
  {
   "cell_type": "code",
   "execution_count": 65,
   "id": "047fb863",
   "metadata": {},
   "outputs": [],
   "source": [
    "#1,3 분위수 구하기\n",
    "\n",
    "q1=df.Close.describe()['25%']\n",
    "q3=df.Close.describe()['75%']\n",
    "\n",
    "iqr=q3-q1"
   ]
  },
  {
   "cell_type": "code",
   "execution_count": 67,
   "id": "28327067",
   "metadata": {},
   "outputs": [
    {
     "data": {
      "text/plain": [
       "(10100, 13200)"
      ]
     },
     "execution_count": 67,
     "metadata": {},
     "output_type": "execute_result"
    }
   ],
   "source": [
    "#lower,upper whisker 값 구하기\n",
    "\n",
    "lower_wh=min(df.Close[df['Close']>q1-1.5*iqr])\n",
    "upper_wh=max(df.Close[df['Close']<q3+1.5*iqr])\n",
    "\n",
    "lower_wh, upper_wh"
   ]
  },
  {
   "cell_type": "code",
   "execution_count": 69,
   "id": "2f245672",
   "metadata": {
    "scrolled": false
   },
   "outputs": [
    {
     "data": {
      "text/html": [
       "<div>\n",
       "<style scoped>\n",
       "    .dataframe tbody tr th:only-of-type {\n",
       "        vertical-align: middle;\n",
       "    }\n",
       "\n",
       "    .dataframe tbody tr th {\n",
       "        vertical-align: top;\n",
       "    }\n",
       "\n",
       "    .dataframe thead th {\n",
       "        text-align: right;\n",
       "    }\n",
       "</style>\n",
       "<table border=\"1\" class=\"dataframe\">\n",
       "  <thead>\n",
       "    <tr style=\"text-align: right;\">\n",
       "      <th></th>\n",
       "      <th>Date</th>\n",
       "      <th>Close</th>\n",
       "      <th>Start</th>\n",
       "      <th>High</th>\n",
       "      <th>Low</th>\n",
       "      <th>Volume</th>\n",
       "      <th>N_Date</th>\n",
       "    </tr>\n",
       "  </thead>\n",
       "  <tbody>\n",
       "    <tr>\n",
       "      <th>11</th>\n",
       "      <td>2018-06-15</td>\n",
       "      <td>13400</td>\n",
       "      <td>13600</td>\n",
       "      <td>13600</td>\n",
       "      <td>12900</td>\n",
       "      <td>201376</td>\n",
       "      <td>2018-06-15</td>\n",
       "    </tr>\n",
       "    <tr>\n",
       "      <th>12</th>\n",
       "      <td>2018-06-14</td>\n",
       "      <td>13450</td>\n",
       "      <td>13200</td>\n",
       "      <td>13700</td>\n",
       "      <td>13150</td>\n",
       "      <td>347451</td>\n",
       "      <td>2018-06-14</td>\n",
       "    </tr>\n",
       "  </tbody>\n",
       "</table>\n",
       "</div>"
      ],
      "text/plain": [
       "          Date  Close  Start   High    Low  Volume     N_Date\n",
       "11  2018-06-15  13400  13600  13600  12900  201376 2018-06-15\n",
       "12  2018-06-14  13450  13200  13700  13150  347451 2018-06-14"
      ]
     },
     "execution_count": 69,
     "metadata": {},
     "output_type": "execute_result"
    }
   ],
   "source": [
    "#이상값 구하기\n",
    "\n",
    "abv=df[(df['Close']<q1-1.5*iqr)|(df['Close']>q3+1.5*iqr)]\n",
    "abv"
   ]
  },
  {
   "cell_type": "code",
   "execution_count": null,
   "id": "7d5e073f",
   "metadata": {},
   "outputs": [],
   "source": [
    "##### box plot 의미 해석\n",
    "- IQR(Inter Quatile Range): 제3분위수-제1분위수\n",
    "- lower whisker: Q1-1.5*IQR 이내인 값 중 최솟값\n",
    "- upper whisker: Q3+1.5*IQR 이내인 값 중 최댓값\n",
    "- 이상치: lower whisker, upper whisker를 벗어나는 값\n",
    "\n",
    "df.Close.describe()\n",
    "\n",
    "#1,3 분위수 구하기\n",
    "\n",
    "q1=df.Close.describe()['25%']\n",
    "q3=df.Close.describe()['75%']\n",
    "\n",
    "iqr=q3-q1\n",
    "\n",
    "#lower,upper whisker 값 구하기\n",
    "\n",
    "lower_wh=min(df.Close[df['Close']>q1-1.5*iqr])\n",
    "upper_wh=max(df.Close[df['Close']<q3+1.5*iqr])\n",
    "\n",
    "lower_wh, upper_wh\n",
    "\n",
    "#이상값 구하기\n",
    "\n",
    "abv=df[(df['Close']<q1-1.5*iqr)|(df['Close']>q3+1.5*iqr)]\n",
    "abv"
   ]
  }
 ],
 "metadata": {
  "kernelspec": {
   "display_name": "Python 3 (ipykernel)",
   "language": "python",
   "name": "python3"
  },
  "language_info": {
   "codemirror_mode": {
    "name": "ipython",
    "version": 3
   },
   "file_extension": ".py",
   "mimetype": "text/x-python",
   "name": "python",
   "nbconvert_exporter": "python",
   "pygments_lexer": "ipython3",
   "version": "3.8.13"
  },
  "toc": {
   "base_numbering": 1,
   "nav_menu": {},
   "number_sections": true,
   "sideBar": true,
   "skip_h1_title": false,
   "title_cell": "Table of Contents",
   "title_sidebar": "Contents",
   "toc_cell": false,
   "toc_position": {},
   "toc_section_display": true,
   "toc_window_display": false
  }
 },
 "nbformat": 4,
 "nbformat_minor": 5
}
