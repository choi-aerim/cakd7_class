{
 "cells": [
  {
   "cell_type": "markdown",
   "id": "e9e6d989",
   "metadata": {},
   "source": [
    "#### 단축키\n",
    "- ESC  를 눌러 커맨드 모드로 진입하여 ENTER 를 통해 cell 을 수정할 수 있습니다. 아래 커맨드는 커맨드 모드에서 동작합니다. \n",
    "- M 은 Markdown 셀로 변환하며, Y 는 Code 셀로 변환하고  R 은 Raw Cell 로 변환합니다.\n",
    "\n",
    "- A 는 현재 cell 위에 새로운 cell 을 추가합니다.\n",
    "- B 는 현재 cell 밑에 새로운 cell 을 추가합니다.\n",
    "- D + D D를 연속해서 두번 누르면 현재 cell 을 삭제합니다. \n",
    "- 잘못해서 셀을 지운 경우, Edit 클릭 후 undo delete cell 클릭\n",
    "\n",
    "- CTRL + ENTER: 커맨드 모드로 변경\n",
    "- SHIFT + ENTER: 커맨드 모드로 다음셀로 이동\n",
    "- ALT + ENTER: Edit모드로 다음셀로 이동\n",
    "\n",
    "- 까만 동그라미가 계속 있는 경우: Kernel-interrup 클릭-- 안된다면-> restart --안된다면-> shut down\n",
    "- CTRL + B 화면을 더 크게 사용할 수 있습니다. 왼쪽 파일 탐색기가 사라집니다.\n",
    "- SHIFT + M 두 개의 셀을 한개의 셀로 Merge 합니다.\n",
    "- CTRL + SHIFT + – 현재 커서 위치를 기준으로 두 개의 셀로 구분합니다. \n",
    "- SHIFT+J or SHIFT + DOWN 현재 셀에서 아래쪽 위치로 새로운 셀을 같이 선택합니다. \n",
    "- SHIFT + K or SHIFT + UP 현재 셀에서 위쪽 위치로 새로운 셀을 같이 선택합니다. \n",
    "- CTRL + / 선택한 코드를 주석처리합니다."
   ]
  },
  {
   "cell_type": "code",
   "execution_count": 13,
   "id": "ec7416ce",
   "metadata": {
    "scrolled": false
   },
   "outputs": [
    {
     "name": "stdout",
     "output_type": "stream",
     "text": [
      "Pyothon is my favorite language\n"
     ]
    }
   ],
   "source": [
    "print('Pyothon is my favorite language')"
   ]
  },
  {
   "cell_type": "code",
   "execution_count": 12,
   "id": "355b9d9d",
   "metadata": {},
   "outputs": [
    {
     "name": "stdout",
     "output_type": "stream",
     "text": [
      "PYthon\n"
     ]
    }
   ],
   "source": [
    "print('PYthon')"
   ]
  },
  {
   "cell_type": "code",
   "execution_count": null,
   "id": "c8913caa",
   "metadata": {},
   "outputs": [],
   "source": []
  },
  {
   "cell_type": "code",
   "execution_count": null,
   "id": "6e1b073f",
   "metadata": {},
   "outputs": [],
   "source": []
  },
  {
   "cell_type": "code",
   "execution_count": null,
   "id": "8ab8f12b",
   "metadata": {},
   "outputs": [],
   "source": []
  },
  {
   "cell_type": "code",
   "execution_count": null,
   "id": "73c7ebf8",
   "metadata": {},
   "outputs": [],
   "source": []
  },
  {
   "cell_type": "code",
   "execution_count": null,
   "id": "6b407e40",
   "metadata": {},
   "outputs": [],
   "source": []
  }
 ],
 "metadata": {
  "kernelspec": {
   "display_name": "Python 3 (ipykernel)",
   "language": "python",
   "name": "python3"
  },
  "language_info": {
   "codemirror_mode": {
    "name": "ipython",
    "version": 3
   },
   "file_extension": ".py",
   "mimetype": "text/x-python",
   "name": "python",
   "nbconvert_exporter": "python",
   "pygments_lexer": "ipython3",
   "version": "3.8.13"
  }
 },
 "nbformat": 4,
 "nbformat_minor": 5
}
