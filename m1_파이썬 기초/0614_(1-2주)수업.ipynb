{
 "cells": [
  {
   "cell_type": "markdown",
   "id": "94b6fff6-27a4-43f7-8b1c-463c641cc771",
   "metadata": {},
   "source": [
    "# ★나의 첫 파이썬 코드"
   ]
  },
  {
   "cell_type": "markdown",
   "id": "d88db1c7-0b6b-43e8-a299-528268523fca",
   "metadata": {},
   "source": [
    "# 데이터타입(4가지)\n",
    "- 숫자형: 정수  int (integer), 실수(지만 소수에 가까움)  float (floating-point)\n",
    "- 문자형: str (string)\n",
    "- 참/거짓형: bool (boolean)"
   ]
  },
  {
   "cell_type": "code",
   "execution_count": 21,
   "id": "9620bf1b-b864-4151-9920-bc727dbcdc45",
   "metadata": {},
   "outputs": [
    {
     "data": {
      "text/plain": [
       "int"
      ]
     },
     "execution_count": 21,
     "metadata": {},
     "output_type": "execute_result"
    }
   ],
   "source": [
    "type(3)"
   ]
  },
  {
   "cell_type": "code",
   "execution_count": 26,
   "id": "efe80d62-98bc-4ade-820c-6e6c162bd097",
   "metadata": {},
   "outputs": [
    {
     "data": {
      "text/plain": [
       "float"
      ]
     },
     "execution_count": 26,
     "metadata": {},
     "output_type": "execute_result"
    }
   ],
   "source": [
    "b=3.0\n",
    "type(b)"
   ]
  },
  {
   "cell_type": "code",
   "execution_count": 27,
   "id": "1c2f96c2-6c30-4698-9910-19efd41009b4",
   "metadata": {},
   "outputs": [
    {
     "data": {
      "text/plain": [
       "bool"
      ]
     },
     "execution_count": 27,
     "metadata": {},
     "output_type": "execute_result"
    }
   ],
   "source": [
    "a=True\n",
    "type(a)"
   ]
  },
  {
   "cell_type": "markdown",
   "id": "7c99ecfb-c4fb-453b-be81-bf98ef3aa226",
   "metadata": {},
   "source": [
    "## 숫자형"
   ]
  },
  {
   "cell_type": "markdown",
   "id": "2e4b6f66-a6c1-41b7-b03f-6100d3c3000a",
   "metadata": {},
   "source": [
    "### 숫자의 연산\n",
    "- 거듭제곱\n",
    "- 몫과 나머지\n",
    "- 지수, 로그\n",
    "- 삼각함수\n",
    "- 파이값\n",
    "- 반올림"
   ]
  },
  {
   "cell_type": "code",
   "execution_count": 29,
   "id": "dd698587-78cd-444b-bb41-d948d1968355",
   "metadata": {},
   "outputs": [
    {
     "name": "stdout",
     "output_type": "stream",
     "text": [
      "3.141592653589793\n"
     ]
    }
   ],
   "source": [
    "import math\n",
    "print(math.pi)"
   ]
  },
  {
   "cell_type": "code",
   "execution_count": 30,
   "id": "52d51f1f-2499-47be-9cca-dab9b81fdc1c",
   "metadata": {},
   "outputs": [
    {
     "name": "stdout",
     "output_type": "stream",
     "text": [
      "120\n"
     ]
    }
   ],
   "source": [
    "print(math.factorial(5))"
   ]
  },
  {
   "cell_type": "code",
   "execution_count": 31,
   "id": "33e8c2bd-0352-4d4a-b117-053cdcef28ec",
   "metadata": {},
   "outputs": [
    {
     "name": "stdout",
     "output_type": "stream",
     "text": [
      "1.0\n"
     ]
    }
   ],
   "source": [
    "# sin(90도)의 값은?\n",
    "print(math.sin(math.pi/2))"
   ]
  },
  {
   "cell_type": "code",
   "execution_count": 32,
   "id": "88d4660a-8d08-47d4-884e-673ea67bc37d",
   "metadata": {},
   "outputs": [
    {
     "name": "stdout",
     "output_type": "stream",
     "text": [
      "1.633123935319537e+16\n"
     ]
    }
   ],
   "source": [
    "print(math.tan(math.pi/2))"
   ]
  },
  {
   "cell_type": "code",
   "execution_count": 33,
   "id": "ce54965e-748d-4a7e-93cd-82ba3fc2d173",
   "metadata": {},
   "outputs": [
    {
     "name": "stdout",
     "output_type": "stream",
     "text": [
      "6.123233995736766e-17\n"
     ]
    }
   ],
   "source": [
    "print(math.cos(math.pi/2))"
   ]
  },
  {
   "cell_type": "code",
   "execution_count": 34,
   "id": "e703f838-b2b4-44f1-9511-fece4b7187da",
   "metadata": {},
   "outputs": [],
   "source": [
    "import numpy"
   ]
  },
  {
   "cell_type": "code",
   "execution_count": 35,
   "id": "660d8618-0d06-49ea-b0c4-a80d705464c5",
   "metadata": {},
   "outputs": [
    {
     "name": "stdout",
     "output_type": "stream",
     "text": [
      "3.141592653589793\n"
     ]
    }
   ],
   "source": [
    "print(numpy.pi)"
   ]
  },
  {
   "cell_type": "code",
   "execution_count": 36,
   "id": "83186541-5933-4563-9edc-3325edbadee8",
   "metadata": {},
   "outputs": [],
   "source": [
    "import numpy as np"
   ]
  },
  {
   "cell_type": "code",
   "execution_count": 37,
   "id": "b7ba098b-f9cb-4346-87ed-c220cd96b437",
   "metadata": {},
   "outputs": [
    {
     "name": "stdout",
     "output_type": "stream",
     "text": [
      "2.0\n"
     ]
    }
   ],
   "source": [
    "print(math.sqrt(4))"
   ]
  },
  {
   "cell_type": "code",
   "execution_count": 38,
   "id": "c270c796-8eec-4e1d-bf41-3f2939b78103",
   "metadata": {},
   "outputs": [
    {
     "data": {
      "text/plain": [
       "2.0"
      ]
     },
     "execution_count": 38,
     "metadata": {},
     "output_type": "execute_result"
    }
   ],
   "source": [
    "np.sqrt(4)"
   ]
  },
  {
   "cell_type": "code",
   "execution_count": 39,
   "id": "127c898d-d6d7-4af0-a292-61a3ae31fd92",
   "metadata": {},
   "outputs": [
    {
     "data": {
      "text/plain": [
       "2.23606797749979"
      ]
     },
     "execution_count": 39,
     "metadata": {},
     "output_type": "execute_result"
    }
   ],
   "source": [
    "from math import sqrt, pi\n",
    "sqrt(5)"
   ]
  },
  {
   "cell_type": "code",
   "execution_count": null,
   "id": "5cbd558e-909a-438e-b69f-f84a201071c0",
   "metadata": {},
   "outputs": [],
   "source": [
    "from math import sin, pi\n",
    "sin(pi/2)"
   ]
  },
  {
   "cell_type": "code",
   "execution_count": 40,
   "id": "164d5dc1-580f-49a5-aab8-280a42bf5754",
   "metadata": {},
   "outputs": [],
   "source": [
    "#matplotlib 패키지"
   ]
  },
  {
   "cell_type": "code",
   "execution_count": 1,
   "id": "6283bd3f-bcf0-4681-800f-93381d5fbf29",
   "metadata": {},
   "outputs": [],
   "source": [
    "import matplotlib.pyplot as plt\n",
    "import numpy as np"
   ]
  },
  {
   "cell_type": "code",
   "execution_count": 3,
   "id": "505f8398-5725-4576-af9b-6ef0715a38ed",
   "metadata": {},
   "outputs": [
    {
     "data": {
      "text/plain": [
       "array([0.        , 3.14159265, 6.28318531])"
      ]
     },
     "execution_count": 3,
     "metadata": {},
     "output_type": "execute_result"
    }
   ],
   "source": [
    "np.linspace(0,2*np.pi,3)"
   ]
  },
  {
   "cell_type": "code",
   "execution_count": 4,
   "id": "e951bc4e-7756-419f-aa1b-41bda32bc76b",
   "metadata": {},
   "outputs": [],
   "source": [
    "x=np.linspace(0,2*np.pi,3)"
   ]
  },
  {
   "cell_type": "code",
   "execution_count": 5,
   "id": "68be4220-b828-438b-ae63-1987490452e2",
   "metadata": {},
   "outputs": [
    {
     "data": {
      "text/plain": [
       "numpy.ndarray"
      ]
     },
     "execution_count": 5,
     "metadata": {},
     "output_type": "execute_result"
    }
   ],
   "source": [
    "type(x)"
   ]
  },
  {
   "cell_type": "code",
   "execution_count": 6,
   "id": "859ec517-eb8b-4d09-837c-83da6797cf62",
   "metadata": {},
   "outputs": [
    {
     "data": {
      "text/plain": [
       "array([0.        , 1.77245385, 2.50662827])"
      ]
     },
     "execution_count": 6,
     "metadata": {},
     "output_type": "execute_result"
    }
   ],
   "source": [
    "np.sqrt(x)"
   ]
  },
  {
   "cell_type": "code",
   "execution_count": 11,
   "id": "bc1b99ab-3b20-4073-9e60-ac315cb38638",
   "metadata": {},
   "outputs": [
    {
     "data": {
      "text/plain": [
       "array([0.        , 0.83554276, 1.1816359 , 1.44720251, 1.67108552,\n",
       "       1.86833041, 2.04665342, 2.21063835, 2.3632718 , 2.50662827])"
      ]
     },
     "execution_count": 11,
     "metadata": {},
     "output_type": "execute_result"
    }
   ],
   "source": [
    "x=np.linspace(0,2*np.pi,10)\n",
    "np.sqrt(x)"
   ]
  },
  {
   "cell_type": "code",
   "execution_count": 12,
   "id": "5ccd26ff-6301-422f-8af7-529840622003",
   "metadata": {},
   "outputs": [
    {
     "data": {
      "text/plain": [
       "array([ 0.00000000e+00,  6.42787610e-01,  9.84807753e-01,  8.66025404e-01,\n",
       "        3.42020143e-01, -3.42020143e-01, -8.66025404e-01, -9.84807753e-01,\n",
       "       -6.42787610e-01, -2.44929360e-16])"
      ]
     },
     "execution_count": 12,
     "metadata": {},
     "output_type": "execute_result"
    }
   ],
   "source": [
    "np.sin(x)"
   ]
  },
  {
   "cell_type": "code",
   "execution_count": 13,
   "id": "941e3dbe-2c3a-47b8-9d7b-1e9ea17d38d7",
   "metadata": {},
   "outputs": [
    {
     "data": {
      "text/plain": [
       "[<matplotlib.lines.Line2D at 0x1df5ecfb1f0>]"
      ]
     },
     "execution_count": 13,
     "metadata": {},
     "output_type": "execute_result"
    },
    {
     "data": {
      "image/png": "[encoded data removed]",
      "text/plain": [
       "<Figure size 432x288 with 1 Axes>"
      ]
     },
     "metadata": {
      "needs_background": "light"
     },
     "output_type": "display_data"
    }
   ],
   "source": [
    "plt.plot(x,np.sin(x))"
   ]
  },
  {
   "cell_type": "code",
   "execution_count": 14,
   "id": "c4df15bd-141f-4e51-955d-22cf10384966",
   "metadata": {},
   "outputs": [
    {
     "data": {
      "text/plain": [
       "[<matplotlib.lines.Line2D at 0x1df5ede35e0>]"
      ]
     },
     "execution_count": 14,
     "metadata": {},
     "output_type": "execute_result"
    },
    {
     "data": {
      "image/png": "[encoded data removed]",
      "text/plain": [
       "<Figure size 432x288 with 1 Axes>"
      ]
     },
     "metadata": {
      "needs_background": "light"
     },
     "output_type": "display_data"
    }
   ],
   "source": [
    "#0부터 2pi의 cos그래프 그리기\n",
    "import matplotlib.pyplot as plt\n",
    "import numpy as np\n",
    "\n",
    "x=np.linspace(0, 2*np.pi,100)\n",
    "y=np.cos(x)\n",
    "plt.plot(x,y)"
   ]
  },
  {
   "cell_type": "code",
   "execution_count": 42,
   "id": "c8c87e27-3519-463b-8410-7624f885164b",
   "metadata": {},
   "outputs": [
    {
     "data": {
      "text/plain": [
       "[<matplotlib.lines.Line2D at 0x1df5f0ce820>]"
      ]
     },
     "execution_count": 42,
     "metadata": {},
     "output_type": "execute_result"
    },
    {
     "data": {
      "image/png": "[encoded data removed]",
      "text/plain": [
       "<Figure size 432x288 with 1 Axes>"
      ]
     },
     "metadata": {},
     "output_type": "display_data"
    }
   ],
   "source": [
    "#0부터 2pi의 sin, cos 그래프 그리기\n",
    "import matplotlib.pyplot as plt\n",
    "import numpy as np\n",
    "\n",
    "x=np.linspace(0,2*np.pi,100)\n",
    "plt.plot(x,np.sin(x))\n",
    "plt.plot(x,np.cos(x))"
   ]
  },
  {
   "cell_type": "code",
   "execution_count": 16,
   "id": "230a58af-300d-40a4-852c-e89b36d2b1db",
   "metadata": {},
   "outputs": [],
   "source": [
    "plt.style.use('ggplot')"
   ]
  },
  {
   "cell_type": "code",
   "execution_count": 41,
   "id": "7feee419-cc2b-45d0-9302-ba996433b4b6",
   "metadata": {},
   "outputs": [
    {
     "data": {
      "text/plain": [
       "[<matplotlib.lines.Line2D at 0x1df5f05fcd0>]"
      ]
     },
     "execution_count": 41,
     "metadata": {},
     "output_type": "execute_result"
    },
    {
     "data": {
      "image/png": "[encoded data removed]",
      "text/plain": [
       "<Figure size 432x288 with 1 Axes>"
      ]
     },
     "metadata": {},
     "output_type": "display_data"
    }
   ],
   "source": [
    "plt.plot(x,np.sin(x))\n",
    "plt.plot(x,np.cos(x))"
   ]
  },
  {
   "cell_type": "code",
   "execution_count": 45,
   "id": "0f8e2122-d0e3-4586-b09e-542bb89556b7",
   "metadata": {},
   "outputs": [
    {
     "data": {
      "text/plain": [
       "3"
      ]
     },
     "execution_count": 45,
     "metadata": {},
     "output_type": "execute_result"
    }
   ],
   "source": [
    "#반올림\n",
    "round(3.14)"
   ]
  },
  {
   "cell_type": "code",
   "execution_count": 47,
   "id": "6584c6aa-15ce-45ee-a945-de31fa916a85",
   "metadata": {},
   "outputs": [
    {
     "data": {
      "text/plain": [
       "3.1"
      ]
     },
     "execution_count": 47,
     "metadata": {},
     "output_type": "execute_result"
    }
   ],
   "source": [
    "round(3.14, 1)"
   ]
  },
  {
   "cell_type": "code",
   "execution_count": 49,
   "id": "899d9fde-347e-4f94-9e20-d30480a2fa52",
   "metadata": {},
   "outputs": [
    {
     "data": {
      "text/plain": [
       "3.15"
      ]
     },
     "execution_count": 49,
     "metadata": {},
     "output_type": "execute_result"
    }
   ],
   "source": [
    "round(3.154, ndigits=2)"
   ]
  },
  {
   "cell_type": "code",
   "execution_count": 51,
   "id": "94f2ec52-8430-4dcb-851f-a14d55a5763b",
   "metadata": {},
   "outputs": [
    {
     "data": {
      "text/plain": [
       "34500"
      ]
     },
     "execution_count": 51,
     "metadata": {},
     "output_type": "execute_result"
    }
   ],
   "source": [
    "round(34512,ndigits=-2)"
   ]
  },
  {
   "cell_type": "code",
   "execution_count": 58,
   "id": "8cdfcdf9-8650-4b53-9b24-adce09b1b52d",
   "metadata": {},
   "outputs": [
    {
     "name": "stdout",
     "output_type": "stream",
     "text": [
      "3\n",
      "3.1\n",
      "3.15\n",
      "11250\n"
     ]
    }
   ],
   "source": [
    "print(round(3.14))\n",
    "print(round(3.14,1))\n",
    "print(round(3.154,2))\n",
    "print(round(11246,-1))"
   ]
  },
  {
   "cell_type": "code",
   "execution_count": 55,
   "id": "a219b232-7fd3-42b7-b11e-be654e785502",
   "metadata": {},
   "outputs": [
    {
     "data": {
      "text/plain": [
       "4"
      ]
     },
     "execution_count": 55,
     "metadata": {},
     "output_type": "execute_result"
    }
   ],
   "source": [
    "#올림\n",
    "import math\n",
    "math.ceil(3.14)"
   ]
  },
  {
   "cell_type": "code",
   "execution_count": 56,
   "id": "2bee508d-87bc-4823-a8d1-47462f039c41",
   "metadata": {},
   "outputs": [
    {
     "data": {
      "text/plain": [
       "3"
      ]
     },
     "execution_count": 56,
     "metadata": {},
     "output_type": "execute_result"
    }
   ],
   "source": [
    "math.floor(3.14)"
   ]
  },
  {
   "cell_type": "markdown",
   "id": "b804ed6f-6209-4950-9281-500bca9b7a5b",
   "metadata": {},
   "source": [
    "## 문자형"
   ]
  },
  {
   "cell_type": "code",
   "execution_count": 59,
   "id": "7eee3d8b-7177-4286-8bcb-0d236398ec2e",
   "metadata": {},
   "outputs": [
    {
     "name": "stdout",
     "output_type": "stream",
     "text": [
      "hello\n"
     ]
    }
   ],
   "source": [
    "a='hello'\n",
    "print(a)"
   ]
  },
  {
   "cell_type": "code",
   "execution_count": 60,
   "id": "750e1284-d7fc-452e-902b-571599499b70",
   "metadata": {},
   "outputs": [
    {
     "name": "stdout",
     "output_type": "stream",
     "text": [
      "Hello\n"
     ]
    }
   ],
   "source": [
    "a='Hello'\n",
    "print(a)"
   ]
  },
  {
   "cell_type": "code",
   "execution_count": null,
   "id": "c00fabab-4e79-4476-a04e-f4cd332eab32",
   "metadata": {},
   "outputs": [],
   "source": [
    "#따옴표 안의 역슬래시는 이스케이프 합니다.\n",
    "\\n: 줄바꿈\n",
    "\\\": \"입력\n"
   ]
  },
  {
   "cell_type": "code",
   "execution_count": 70,
   "id": "487053ea-77fc-4d81-bf3a-c178b5f970d5",
   "metadata": {},
   "outputs": [
    {
     "name": "stdout",
     "output_type": "stream",
     "text": [
      "그녀는 나에게 \"사랑해요\"라고 말했다\n",
      "그녀는 나에게 \"사랑해요\"라고 말했다\n"
     ]
    }
   ],
   "source": [
    "#중복 따옴표 \n",
    "print('그녀는 나에게 \"사랑해요\"라고 말했다')\n",
    "print('그녀는 나에게 \\\"사랑해요\\\"라고 말했다')"
   ]
  },
  {
   "cell_type": "code",
   "execution_count": 65,
   "id": "3ce9deb7-d7bf-4159-ab75-b519379562f8",
   "metadata": {},
   "outputs": [
    {
     "name": "stdout",
     "output_type": "stream",
     "text": [
      "\n",
      "우리나라 대한민국\n",
      "무궁화 삼천리\n",
      "\n"
     ]
    }
   ],
   "source": [
    "#줄바꿈\n",
    "a=\"\"\"\n",
    "우리나라 대한민국\n",
    "무궁화 삼천리\n",
    "\"\"\"\n",
    "\n",
    "print(a)"
   ]
  },
  {
   "cell_type": "code",
   "execution_count": 66,
   "id": "7de255fc-beec-47ad-85b8-ac1f82638be4",
   "metadata": {},
   "outputs": [
    {
     "name": "stdout",
     "output_type": "stream",
     "text": [
      "우리나라 대한민국\n",
      "무궁화 삼천리\n"
     ]
    }
   ],
   "source": [
    "a=\"\"\"우리나라 대한민국\n",
    "무궁화 삼천리\"\"\"\n",
    "print(a)"
   ]
  },
  {
   "cell_type": "code",
   "execution_count": 73,
   "id": "b9a80d58-8970-46bf-a81e-f853273afdbe",
   "metadata": {},
   "outputs": [
    {
     "name": "stdout",
     "output_type": "stream",
     "text": [
      "우리나라 대한민국\n",
      "무궁화 삼천리\n"
     ]
    }
   ],
   "source": [
    "a=\"우리나라 대한민국\\n무궁화 삼천리\"\n",
    "print(a)"
   ]
  },
  {
   "cell_type": "code",
   "execution_count": 74,
   "id": "b77e2386-6247-4810-92e2-8e691f4c33d4",
   "metadata": {},
   "outputs": [
    {
     "name": "stdout",
     "output_type": "stream",
     "text": [
      "I love \n",
      "ew shoes\n"
     ]
    }
   ],
   "source": [
    "a='I love \\new shoes'\n",
    "print(a)"
   ]
  },
  {
   "cell_type": "code",
   "execution_count": 76,
   "id": "f13efbd4-22b1-449c-87bf-105160ad696a",
   "metadata": {},
   "outputs": [
    {
     "name": "stdout",
     "output_type": "stream",
     "text": [
      "I love \\new shoes\n"
     ]
    }
   ],
   "source": [
    "a='I love \\\\new shoes'\n",
    "print(a)"
   ]
  },
  {
   "cell_type": "code",
   "execution_count": 78,
   "id": "167c6660-f987-480d-b79d-c09c80b484a3",
   "metadata": {},
   "outputs": [
    {
     "name": "stdout",
     "output_type": "stream",
     "text": [
      "I love\tnew shoes\n"
     ]
    }
   ],
   "source": [
    "a='I love\\tnew shoes'\n",
    "print(a)"
   ]
  },
  {
   "cell_type": "markdown",
   "id": "9e58d4d5-8347-4525-be91-d39692306331",
   "metadata": {},
   "source": [
    "### 문자열 연산"
   ]
  },
  {
   "cell_type": "code",
   "execution_count": 79,
   "id": "2220afd1-272e-48a0-b757-c6bd4c0c65ee",
   "metadata": {},
   "outputs": [
    {
     "data": {
      "text/plain": [
       "'아버지가방'"
      ]
     },
     "execution_count": 79,
     "metadata": {},
     "output_type": "execute_result"
    }
   ],
   "source": [
    "a='아버지'\n",
    "b='가방'\n",
    "a+b       #concatenate"
   ]
  },
  {
   "cell_type": "code",
   "execution_count": 80,
   "id": "fe5aea18-36a1-4133-bc3d-7ab0b6ce5212",
   "metadata": {},
   "outputs": [
    {
     "data": {
      "text/plain": [
       "'아버지 가방'"
      ]
     },
     "execution_count": 80,
     "metadata": {},
     "output_type": "execute_result"
    }
   ],
   "source": [
    "a+\" \"+b"
   ]
  },
  {
   "cell_type": "code",
   "execution_count": 83,
   "id": "22aa97bf-8733-498f-ba43-6fbbf7c5d20a",
   "metadata": {},
   "outputs": [
    {
     "data": {
      "text/plain": [
       "'아버지아버지'"
      ]
     },
     "execution_count": 83,
     "metadata": {},
     "output_type": "execute_result"
    }
   ],
   "source": [
    " a*2"
   ]
  },
  {
   "cell_type": "code",
   "execution_count": 84,
   "id": "f2842ee9-f865-4007-a45d-17abd754d2b9",
   "metadata": {},
   "outputs": [
    {
     "name": "stdout",
     "output_type": "stream",
     "text": [
      "아버지 가방\n"
     ]
    }
   ],
   "source": [
    "print(a,b)"
   ]
  },
  {
   "cell_type": "code",
   "execution_count": 85,
   "id": "f09ff715-5ddc-42a4-a168-97b74c52f89f",
   "metadata": {},
   "outputs": [
    {
     "name": "stdout",
     "output_type": "stream",
     "text": [
      "아버지 가방\n"
     ]
    },
    {
     "ename": "TypeError",
     "evalue": "object of type 'NoneType' has no len()",
     "output_type": "error",
     "traceback": [
      "\u001b[1;31m---------------------------------------------------------------------------\u001b[0m",
      "\u001b[1;31mTypeError\u001b[0m                                 Traceback (most recent call last)",
      "\u001b[1;32m<ipython-input-85-4333f3c5c474>\u001b[0m in \u001b[0;36m<module>\u001b[1;34m\u001b[0m\n\u001b[1;32m----> 1\u001b[1;33m \u001b[0mlen\u001b[0m\u001b[1;33m(\u001b[0m\u001b[0mprint\u001b[0m\u001b[1;33m(\u001b[0m\u001b[0ma\u001b[0m\u001b[1;33m,\u001b[0m\u001b[0mb\u001b[0m\u001b[1;33m)\u001b[0m\u001b[1;33m)\u001b[0m\u001b[1;33m\u001b[0m\u001b[1;33m\u001b[0m\u001b[0m\n\u001b[0m",
      "\u001b[1;31mTypeError\u001b[0m: object of type 'NoneType' has no len()"
     ]
    }
   ],
   "source": [
    "len(print(a,b))"
   ]
  },
  {
   "cell_type": "code",
   "execution_count": 86,
   "id": "cc5628c2-3c5e-4535-8f7b-7372b9e4016e",
   "metadata": {
    "tags": []
   },
   "outputs": [
    {
     "data": {
      "text/plain": [
       "3"
      ]
     },
     "execution_count": 86,
     "metadata": {},
     "output_type": "execute_result"
    }
   ],
   "source": [
    "len(a)  #length"
   ]
  },
  {
   "cell_type": "code",
   "execution_count": 89,
   "id": "6823a3f5-c831-433c-a228-039e632ed468",
   "metadata": {},
   "outputs": [
    {
     "name": "stdout",
     "output_type": "stream",
     "text": [
      "5\n"
     ]
    },
    {
     "ename": "TypeError",
     "evalue": "object of type 'int' has no len()",
     "output_type": "error",
     "traceback": [
      "\u001b[1;31m---------------------------------------------------------------------------\u001b[0m",
      "\u001b[1;31mTypeError\u001b[0m                                 Traceback (most recent call last)",
      "\u001b[1;32m<ipython-input-89-5ea2c99319e9>\u001b[0m in \u001b[0;36m<module>\u001b[1;34m\u001b[0m\n\u001b[0;32m      2\u001b[0m \u001b[0mb\u001b[0m\u001b[1;33m=\u001b[0m \u001b[1;36m45612345\u001b[0m\u001b[1;33m\u001b[0m\u001b[1;33m\u001b[0m\u001b[0m\n\u001b[0;32m      3\u001b[0m \u001b[0mprint\u001b[0m\u001b[1;33m(\u001b[0m\u001b[0mlen\u001b[0m\u001b[1;33m(\u001b[0m\u001b[0ma\u001b[0m\u001b[1;33m)\u001b[0m\u001b[1;33m)\u001b[0m\u001b[1;33m\u001b[0m\u001b[1;33m\u001b[0m\u001b[0m\n\u001b[1;32m----> 4\u001b[1;33m \u001b[0mprint\u001b[0m\u001b[1;33m(\u001b[0m\u001b[0mlen\u001b[0m\u001b[1;33m(\u001b[0m\u001b[0mb\u001b[0m\u001b[1;33m)\u001b[0m\u001b[1;33m)\u001b[0m\u001b[1;33m\u001b[0m\u001b[1;33m\u001b[0m\u001b[0m\n\u001b[0m",
      "\u001b[1;31mTypeError\u001b[0m: object of type 'int' has no len()"
     ]
    }
   ],
   "source": [
    "a= 'Hello'\n",
    "print(len(a))"
   ]
  },
  {
   "cell_type": "markdown",
   "id": "cecc2f83-449c-4527-b6d8-65d2704094c1",
   "metadata": {},
   "source": [
    "### 인덱싱 indexing"
   ]
  },
  {
   "cell_type": "code",
   "execution_count": 88,
   "id": "8575b93f-cdda-4e15-a0e7-46f8dfe30f15",
   "metadata": {},
   "outputs": [
    {
     "data": {
      "text/plain": [
       "'Hello'"
      ]
     },
     "execution_count": 88,
     "metadata": {},
     "output_type": "execute_result"
    }
   ],
   "source": [
    "a[0:]"
   ]
  },
  {
   "cell_type": "code",
   "execution_count": 90,
   "id": "189dc154-8cb9-469b-9342-983d26e525a4",
   "metadata": {},
   "outputs": [
    {
     "data": {
      "text/plain": [
       "'l'"
      ]
     },
     "execution_count": 90,
     "metadata": {},
     "output_type": "execute_result"
    }
   ],
   "source": [
    "a[3]"
   ]
  },
  {
   "cell_type": "code",
   "execution_count": 91,
   "id": "f8aef0d5-5eb3-473e-aeac-8170f1d606ac",
   "metadata": {},
   "outputs": [
    {
     "data": {
      "text/plain": [
       "'l'"
      ]
     },
     "execution_count": 91,
     "metadata": {},
     "output_type": "execute_result"
    }
   ],
   "source": [
    "a[2]"
   ]
  },
  {
   "cell_type": "code",
   "execution_count": 92,
   "id": "f78e7b82-8a5c-4186-aff6-9bb21eedab55",
   "metadata": {},
   "outputs": [
    {
     "data": {
      "text/plain": [
       "'H'"
      ]
     },
     "execution_count": 92,
     "metadata": {},
     "output_type": "execute_result"
    }
   ],
   "source": [
    "a[0]"
   ]
  },
  {
   "cell_type": "code",
   "execution_count": 93,
   "id": "2a80c082-9f24-4085-8f1d-52685b272f1b",
   "metadata": {},
   "outputs": [
    {
     "data": {
      "text/plain": [
       "'o'"
      ]
     },
     "execution_count": 93,
     "metadata": {},
     "output_type": "execute_result"
    }
   ],
   "source": [
    "a[-1]"
   ]
  },
  {
   "cell_type": "code",
   "execution_count": 94,
   "id": "16cd9b39-dbd5-47e2-b47e-3db3255c481d",
   "metadata": {},
   "outputs": [
    {
     "data": {
      "text/plain": [
       "'Hell'"
      ]
     },
     "execution_count": 94,
     "metadata": {},
     "output_type": "execute_result"
    }
   ],
   "source": [
    "a[:-1]"
   ]
  },
  {
   "cell_type": "code",
   "execution_count": 95,
   "id": "4b0e03f0-ac1f-499c-9ce3-567e558f86f0",
   "metadata": {},
   "outputs": [
    {
     "data": {
      "text/plain": [
       "''"
      ]
     },
     "execution_count": 95,
     "metadata": {},
     "output_type": "execute_result"
    }
   ],
   "source": [
    "a[:0]"
   ]
  },
  {
   "cell_type": "code",
   "execution_count": 97,
   "id": "031a2aa2-1cc7-44b4-bbef-5fa19861b626",
   "metadata": {},
   "outputs": [
    {
     "data": {
      "text/plain": [
       "'Hell'"
      ]
     },
     "execution_count": 97,
     "metadata": {},
     "output_type": "execute_result"
    }
   ],
   "source": [
    "a[-5:-1]"
   ]
  },
  {
   "cell_type": "code",
   "execution_count": 99,
   "id": "5adeae7f-f47a-4c10-b33b-153bac0ba616",
   "metadata": {},
   "outputs": [
    {
     "data": {
      "text/plain": [
       "13"
      ]
     },
     "execution_count": 99,
     "metadata": {},
     "output_type": "execute_result"
    }
   ],
   "source": [
    "a='life is short'\n",
    "len(a)"
   ]
  },
  {
   "cell_type": "code",
   "execution_count": 100,
   "id": "da7377e6-a99b-4852-a261-fbbe78fac0e1",
   "metadata": {},
   "outputs": [
    {
     "data": {
      "text/plain": [
       "'i'"
      ]
     },
     "execution_count": 100,
     "metadata": {},
     "output_type": "execute_result"
    }
   ],
   "source": [
    "a[5]"
   ]
  },
  {
   "cell_type": "code",
   "execution_count": 101,
   "id": "71565a8e-b982-4ba5-b693-b18f1c778f7d",
   "metadata": {},
   "outputs": [
    {
     "data": {
      "text/plain": [
       "'i'"
      ]
     },
     "execution_count": 101,
     "metadata": {},
     "output_type": "execute_result"
    }
   ],
   "source": [
    "a[-8]"
   ]
  },
  {
   "cell_type": "code",
   "execution_count": 102,
   "id": "86963f59-aec0-4645-94f7-f89a4820573b",
   "metadata": {},
   "outputs": [
    {
     "data": {
      "text/plain": [
       "'r'"
      ]
     },
     "execution_count": 102,
     "metadata": {},
     "output_type": "execute_result"
    }
   ],
   "source": [
    "a[-2]"
   ]
  },
  {
   "cell_type": "code",
   "execution_count": 103,
   "id": "1eed6f3d-e332-49d4-8ce8-981f3b17db4e",
   "metadata": {},
   "outputs": [
    {
     "data": {
      "text/plain": [
       "'is'"
      ]
     },
     "execution_count": 103,
     "metadata": {},
     "output_type": "execute_result"
    }
   ],
   "source": [
    "#인덱싱을 활용하여 is를 출력하라\n",
    "a[5:7]"
   ]
  },
  {
   "cell_type": "code",
   "execution_count": 105,
   "id": "da0f1bb3-b95c-4a02-847b-4d221baeb0a8",
   "metadata": {},
   "outputs": [
    {
     "data": {
      "text/plain": [
       "'is'"
      ]
     },
     "execution_count": 105,
     "metadata": {},
     "output_type": "execute_result"
    }
   ],
   "source": [
    "a[5]+a[6]"
   ]
  },
  {
   "cell_type": "code",
   "execution_count": 106,
   "id": "83dedc7c-73e7-4270-a39d-73b1dd7a33b9",
   "metadata": {},
   "outputs": [
    {
     "name": "stdout",
     "output_type": "stream",
     "text": [
      "is\n"
     ]
    }
   ],
   "source": [
    "print(a[5]+a[6])"
   ]
  },
  {
   "cell_type": "code",
   "execution_count": 1,
   "id": "cdf942da-a18f-4d28-8499-c06121b37710",
   "metadata": {
    "tags": []
   },
   "outputs": [
    {
     "name": "stdout",
     "output_type": "stream",
     "text": [
      "[  1.   2.   3.   4.   5.   6.   7.   8.   9.  10.  11.  12.  13.  14.\n",
      "  15.  16.  17.  18.  19.  20.  21.  22.  23.  24.  25.  26.  27.  28.\n",
      "  29.  30.  31.  32.  33.  34.  35.  36.  37.  38.  39.  40.  41.  42.\n",
      "  43.  44.  45.  46.  47.  48.  49.  50.  51.  52.  53.  54.  55.  56.\n",
      "  57.  58.  59.  60.  61.  62.  63.  64.  65.  66.  67.  68.  69.  70.\n",
      "  71.  72.  73.  74.  75.  76.  77.  78.  79.  80.  81.  82.  83.  84.\n",
      "  85.  86.  87.  88.  89.  90.  91.  92.  93.  94.  95.  96.  97.  98.\n",
      "  99. 100.]\n"
     ]
    }
   ],
   "source": [
    "####################과제#################\n",
    "# 1~100까지 숫자 만들기\n",
    "import numpy as np\n",
    "x=np.linspace(1,100,100)\n",
    "print(x)"
   ]
  },
  {
   "cell_type": "code",
   "execution_count": 122,
   "id": "9d4d9263-c42c-4bc8-8eea-7f85ff9852e5",
   "metadata": {
    "tags": []
   },
   "outputs": [
    {
     "name": "stdout",
     "output_type": "stream",
     "text": [
      "[ 1.          1.41421356  1.73205081  2.          2.23606798  2.44948974\n",
      "  2.64575131  2.82842712  3.          3.16227766  3.31662479  3.46410162\n",
      "  3.60555128  3.74165739  3.87298335  4.          4.12310563  4.24264069\n",
      "  4.35889894  4.47213595  4.58257569  4.69041576  4.79583152  4.89897949\n",
      "  5.          5.09901951  5.19615242  5.29150262  5.38516481  5.47722558\n",
      "  5.56776436  5.65685425  5.74456265  5.83095189  5.91607978  6.\n",
      "  6.08276253  6.164414    6.244998    6.32455532  6.40312424  6.4807407\n",
      "  6.55743852  6.63324958  6.70820393  6.78232998  6.8556546   6.92820323\n",
      "  7.          7.07106781  7.14142843  7.21110255  7.28010989  7.34846923\n",
      "  7.41619849  7.48331477  7.54983444  7.61577311  7.68114575  7.74596669\n",
      "  7.81024968  7.87400787  7.93725393  8.          8.06225775  8.1240384\n",
      "  8.18535277  8.24621125  8.30662386  8.36660027  8.42614977  8.48528137\n",
      "  8.54400375  8.60232527  8.66025404  8.71779789  8.77496439  8.83176087\n",
      "  8.88819442  8.94427191  9.          9.05538514  9.11043358  9.16515139\n",
      "  9.21954446  9.2736185   9.32737905  9.38083152  9.43398113  9.48683298\n",
      "  9.53939201  9.59166305  9.64365076  9.69535971  9.74679434  9.79795897\n",
      "  9.8488578   9.89949494  9.94987437 10.        ]\n"
     ]
    }
   ],
   "source": [
    "# 1~100까지의 제곱근 구하기\n",
    "from numpy import sqrt \n",
    "y=sqrt(x)\n",
    "print(y)"
   ]
  },
  {
   "cell_type": "code",
   "execution_count": 123,
   "id": "b3f729d1-4d57-4d70-b625-8bf9928fd054",
   "metadata": {
    "tags": []
   },
   "outputs": [
    {
     "data": {
      "text/plain": [
       "[<matplotlib.lines.Line2D at 0x1df60218e50>]"
      ]
     },
     "execution_count": 123,
     "metadata": {},
     "output_type": "execute_result"
    },
    {
     "data": {
      "image/png": "[encoded data removed]",
      "text/plain": [
       "<Figure size 432x288 with 1 Axes>"
      ]
     },
     "metadata": {},
     "output_type": "display_data"
    }
   ],
   "source": [
    "#그래프 그리기\n",
    "import matplotlib.pyplot as plt\n",
    "plt.style.use('ggplot')\n",
    "plt.plot(x,y)\n"
   ]
  },
  {
   "cell_type": "markdown",
   "id": "82519aad-3ef7-4aff-b088-bc6206079229",
   "metadata": {},
   "source": [
    "### 슬라이싱 slicing"
   ]
  },
  {
   "cell_type": "code",
   "execution_count": 2,
   "id": "cf176f92-621c-4c2e-af68-47208473d303",
   "metadata": {},
   "outputs": [
    {
     "data": {
      "text/plain": [
       "'Life'"
      ]
     },
     "execution_count": 2,
     "metadata": {},
     "output_type": "execute_result"
    }
   ],
   "source": [
    "a=\"Life is short\"\n",
    "a[0:4]"
   ]
  },
  {
   "cell_type": "code",
   "execution_count": 3,
   "id": "00ae9088-3fea-4eea-bdf9-99bdb063c8cf",
   "metadata": {},
   "outputs": [
    {
     "data": {
      "text/plain": [
       "13"
      ]
     },
     "execution_count": 3,
     "metadata": {},
     "output_type": "execute_result"
    }
   ],
   "source": [
    "len(a)"
   ]
  },
  {
   "cell_type": "code",
   "execution_count": 6,
   "id": "5bc112b8-179a-44a6-afbe-a026d064d370",
   "metadata": {},
   "outputs": [
    {
     "data": {
      "text/plain": [
       "'short'"
      ]
     },
     "execution_count": 6,
     "metadata": {},
     "output_type": "execute_result"
    }
   ],
   "source": [
    "a[len(a)-5:len(a)]"
   ]
  },
  {
   "cell_type": "code",
   "execution_count": 7,
   "id": "409a47f3-b086-49c1-92b0-67277a9f589e",
   "metadata": {},
   "outputs": [
    {
     "data": {
      "text/plain": [
       "'short'"
      ]
     },
     "execution_count": 7,
     "metadata": {},
     "output_type": "execute_result"
    }
   ],
   "source": [
    "a[8:14]"
   ]
  },
  {
   "cell_type": "code",
   "execution_count": 8,
   "id": "7a9eb0bd-4fbf-4eb6-9588-20d86b76b857",
   "metadata": {},
   "outputs": [
    {
     "data": {
      "text/plain": [
       "'short'"
      ]
     },
     "execution_count": 8,
     "metadata": {},
     "output_type": "execute_result"
    }
   ],
   "source": [
    "a[8:]"
   ]
  },
  {
   "cell_type": "code",
   "execution_count": 9,
   "id": "b80aba1c-229e-4f80-a62a-e505268f0692",
   "metadata": {},
   "outputs": [
    {
     "data": {
      "text/plain": [
       "'Life'"
      ]
     },
     "execution_count": 9,
     "metadata": {},
     "output_type": "execute_result"
    }
   ],
   "source": [
    "a[:4]"
   ]
  },
  {
   "cell_type": "code",
   "execution_count": 10,
   "id": "8a17ee02-8661-4b33-8187-f3ed83d191b5",
   "metadata": {},
   "outputs": [
    {
     "data": {
      "text/plain": [
       "'Life is short'"
      ]
     },
     "execution_count": 10,
     "metadata": {},
     "output_type": "execute_result"
    }
   ],
   "source": [
    "a[:]"
   ]
  },
  {
   "cell_type": "code",
   "execution_count": 11,
   "id": "acb27b2b-781c-44d9-aa96-8aa6091d7d32",
   "metadata": {},
   "outputs": [
    {
     "data": {
      "text/plain": [
       "29"
      ]
     },
     "execution_count": 11,
     "metadata": {},
     "output_type": "execute_result"
    }
   ],
   "source": [
    "a=\"Life is short. We need python\"\n",
    "len(a)"
   ]
  },
  {
   "cell_type": "code",
   "execution_count": 12,
   "id": "b091d478-6c1c-4b53-9a7f-894457956111",
   "metadata": {},
   "outputs": [
    {
     "data": {
      "text/plain": [
       "'short'"
      ]
     },
     "execution_count": 12,
     "metadata": {},
     "output_type": "execute_result"
    }
   ],
   "source": [
    "a[8:13]"
   ]
  },
  {
   "cell_type": "code",
   "execution_count": 13,
   "id": "d10d07da-a6ca-4edc-8ab3-559cc1486c44",
   "metadata": {},
   "outputs": [
    {
     "data": {
      "text/plain": [
       "'need'"
      ]
     },
     "execution_count": 13,
     "metadata": {},
     "output_type": "execute_result"
    }
   ],
   "source": [
    "a[18:22]"
   ]
  },
  {
   "cell_type": "code",
   "execution_count": 14,
   "id": "e3521f13-e441-48ea-aa72-31e10724a01b",
   "metadata": {},
   "outputs": [
    {
     "data": {
      "text/plain": [
       "'We need python'"
      ]
     },
     "execution_count": 14,
     "metadata": {},
     "output_type": "execute_result"
    }
   ],
   "source": [
    "a[15:]"
   ]
  },
  {
   "cell_type": "code",
   "execution_count": 22,
   "id": "47e0b4e0-52df-4cc7-b8fb-e85ce7b16230",
   "metadata": {},
   "outputs": [
    {
     "name": "stdout",
     "output_type": "stream",
     "text": [
      "13\n",
      "2022\n",
      "0615\n",
      "rainy\n"
     ]
    }
   ],
   "source": [
    "a=\"20220615rainy\"\n",
    "\n",
    "#모두 몇글자?\n",
    "print(len(a))\n",
    "\n",
    "#연도, 날짜, 날씨 출력\n",
    "print(a[0:4]+\"\\n\"+a[4:8]+\"\\n\"+a[-5:])"
   ]
  },
  {
   "cell_type": "markdown",
   "id": "a6f0682c-e5bd-407e-9f54-856ad1e3ab3c",
   "metadata": {},
   "source": [
    "### 문자열의 메소드(Method)"
   ]
  },
  {
   "cell_type": "code",
   "execution_count": 26,
   "id": "4bcaeff4-e285-4776-8e19-6e7bc75cdff2",
   "metadata": {},
   "outputs": [],
   "source": [
    "#객체:object: car\n",
    "# method 메소드(함수): 동사 run(), back(), turn()-> 뒤에 괄호를 붙임\n",
    "# attribute 속성: 형용사 color"
   ]
  },
  {
   "cell_type": "markdown",
   "id": "8f1954ff-f36a-460b-86fb-2d94131a2f35",
   "metadata": {},
   "source": [
    "#### - upper(), lower(), capitalize(), title(): 대문자, 소문자"
   ]
  },
  {
   "cell_type": "code",
   "execution_count": 33,
   "id": "5ccd6673-c591-40fb-b1f6-0aecb78828d9",
   "metadata": {},
   "outputs": [
    {
     "name": "stdout",
     "output_type": "stream",
     "text": [
      "HELLO\n",
      "hello\n",
      "Hello\n"
     ]
    }
   ],
   "source": [
    "a=\"Hello\"\n",
    "\n",
    "#변수의 대문자화, 소문자화\n",
    "print(a.upper())\n",
    "print(a.lower())\n",
    "print(a.capitalize())"
   ]
  },
  {
   "cell_type": "code",
   "execution_count": 28,
   "id": "cb353201-05a2-41d6-8c53-b70cdfa0b183",
   "metadata": {},
   "outputs": [
    {
     "name": "stdout",
     "output_type": "stream",
     "text": [
      "helloHELLO\n"
     ]
    }
   ],
   "source": [
    "t1=a.upper()\n",
    "t2=a.lower()\n",
    "c=t2+t1\n",
    "print(c)"
   ]
  },
  {
   "cell_type": "code",
   "execution_count": 31,
   "id": "09498bc5-10bc-492d-a4e6-775e2fac7a9e",
   "metadata": {},
   "outputs": [
    {
     "name": "stdout",
     "output_type": "stream",
     "text": [
      "Hello\n"
     ]
    }
   ],
   "source": [
    "print(a.upper().lower().capitalize())"
   ]
  },
  {
   "cell_type": "code",
   "execution_count": 32,
   "id": "1eb5e2c9-4104-4bb3-a86f-e9e0a0387ac6",
   "metadata": {},
   "outputs": [
    {
     "name": "stdout",
     "output_type": "stream",
     "text": [
      "Hello\n"
     ]
    }
   ],
   "source": [
    "print(a.title())"
   ]
  },
  {
   "cell_type": "code",
   "execution_count": 37,
   "id": "f40c98b3-542e-4c94-97e9-48fa799ae58e",
   "metadata": {},
   "outputs": [
    {
     "name": "stdout",
     "output_type": "stream",
     "text": [
      "hello good morning\n",
      "Hello good morning\n",
      "Hello Good Morning\n"
     ]
    }
   ],
   "source": [
    "a='Hello Good Morning'\n",
    "print(a.lower())\n",
    "print(a.lower().capitalize())\n",
    "print(a.lower().title())"
   ]
  },
  {
   "cell_type": "markdown",
   "id": "0c549e94-a1ad-4d6f-8c2f-111bb3fdb213",
   "metadata": {},
   "source": [
    "#### - strip(): 빈칸 제거"
   ]
  },
  {
   "cell_type": "code",
   "execution_count": 62,
   "id": "967b8ca7-8467-4ce0-ba3d-7fa3cb7e3c85",
   "metadata": {},
   "outputs": [
    {
     "name": "stdout",
     "output_type": "stream",
     "text": [
      "    Hello     13\n",
      "Hello 5\n",
      "Hello    \n",
      "    Hello\n"
     ]
    }
   ],
   "source": [
    "a=\"    Hello    \"\n",
    "print(a,len(a))\n",
    "\n",
    "a.strip()\n",
    "print(a.strip(),len(a.strip()))\n",
    "\n",
    "print(a.lstrip())\n",
    "print(a.rstrip())"
   ]
  },
  {
   "cell_type": "markdown",
   "id": "a802ff53-8253-4fc0-a892-5b478bd67fb7",
   "metadata": {},
   "source": [
    "#### - replace(): 글자 대체"
   ]
  },
  {
   "cell_type": "code",
   "execution_count": 44,
   "id": "e14f00b0-b65f-4e4a-b970-1836da27c0d2",
   "metadata": {},
   "outputs": [
    {
     "data": {
      "text/plain": [
       "'    Heooo    '"
      ]
     },
     "execution_count": 44,
     "metadata": {},
     "output_type": "execute_result"
    }
   ],
   "source": [
    "a.replace('l','o')"
   ]
  },
  {
   "cell_type": "markdown",
   "id": "4c2c1a25-0792-4dac-b1d9-2213ffc77b82",
   "metadata": {},
   "source": [
    "#### - count(): 특정 글자 개수"
   ]
  },
  {
   "cell_type": "code",
   "execution_count": 46,
   "id": "0ba4c41c-1b84-4a3e-8364-7f965567af49",
   "metadata": {},
   "outputs": [
    {
     "data": {
      "text/plain": [
       "2"
      ]
     },
     "execution_count": 46,
     "metadata": {},
     "output_type": "execute_result"
    }
   ],
   "source": [
    "a.count('l')"
   ]
  },
  {
   "cell_type": "markdown",
   "id": "bf1086e9-1cd2-4d2b-bc22-238e2adefea5",
   "metadata": {},
   "source": [
    "#### - split(): 문자 쪼개기"
   ]
  },
  {
   "cell_type": "code",
   "execution_count": 48,
   "id": "2b2f14dd-4704-4aff-82cd-38c91d132cb9",
   "metadata": {},
   "outputs": [
    {
     "data": {
      "text/plain": [
       "['Good', 'Morning']"
      ]
     },
     "execution_count": 48,
     "metadata": {},
     "output_type": "execute_result"
    }
   ],
   "source": [
    "b=\"Good Morning\"\n",
    "\n",
    "b.split()   #공백이 디폴트"
   ]
  },
  {
   "cell_type": "code",
   "execution_count": 51,
   "id": "67dc142a-577d-4f7c-b563-7f90deade78e",
   "metadata": {},
   "outputs": [
    {
     "data": {
      "text/plain": [
       "['Good', 'Morning']"
      ]
     },
     "execution_count": 51,
     "metadata": {},
     "output_type": "execute_result"
    }
   ],
   "source": [
    "c=\"Good:Morning\"\n",
    "\n",
    "c.split(\":\")"
   ]
  },
  {
   "cell_type": "markdown",
   "id": "44d65758-0ebf-4e46-94eb-e2fdd130063c",
   "metadata": {},
   "source": [
    "#### - join(): 문자 붙이기"
   ]
  },
  {
   "cell_type": "code",
   "execution_count": 55,
   "id": "e946ae91-49e1-4013-91bc-1d2da5e1d3ee",
   "metadata": {},
   "outputs": [
    {
     "name": "stdout",
     "output_type": "stream",
     "text": [
      "a,b,c,d\n",
      "a b c d\n"
     ]
    }
   ],
   "source": [
    "print(\",\".join(\"abcd\"))\n",
    "print(\" \".join(\"abcd\"))"
   ]
  },
  {
   "cell_type": "markdown",
   "id": "8f502e0e-6e3e-476f-b547-f556592a2492",
   "metadata": {},
   "source": [
    "#### - find(): 특정 문자 찾기"
   ]
  },
  {
   "cell_type": "code",
   "execution_count": 58,
   "id": "d2aabe33-4b53-4bcc-a03c-8cd16e1047ae",
   "metadata": {},
   "outputs": [
    {
     "data": {
      "text/plain": [
       "5"
      ]
     },
     "execution_count": 58,
     "metadata": {},
     "output_type": "execute_result"
    }
   ],
   "source": [
    "a=\"Good MMorning\"\n",
    "a.find(\"M\") b    #lowest index만 찾아줌"
   ]
  },
  {
   "cell_type": "code",
   "execution_count": 60,
   "id": "0f4a1654-a3e0-4e44-8940-90adf52c024c",
   "metadata": {},
   "outputs": [
    {
     "data": {
      "text/plain": [
       "-1"
      ]
     },
     "execution_count": 60,
     "metadata": {},
     "output_type": "execute_result"
    }
   ],
   "source": [
    "a.find('a')   #찾을 수 없는 경우 -14을 출력"
   ]
  },
  {
   "cell_type": "markdown",
   "id": "4503e193-af85-49c0-b4ca-9ed820a2937e",
   "metadata": {},
   "source": [
    "### formatting"
   ]
  },
  {
   "cell_type": "code",
   "execution_count": 64,
   "id": "3ed7366d-d6d6-4ff4-ac05-58df62ba7c51",
   "metadata": {},
   "outputs": [
    {
     "data": {
      "text/plain": [
       "'I ate three apples. So I sicked two days'"
      ]
     },
     "execution_count": 64,
     "metadata": {},
     "output_type": "execute_result"
    }
   ],
   "source": [
    "\"I ate 3 apples. So I sicked two days\""
   ]
  },
  {
   "cell_type": "code",
   "execution_count": 66,
   "id": "9b6dedfa-efa0-41df-a988-54466c8d17af",
   "metadata": {},
   "outputs": [
    {
     "data": {
      "text/plain": [
       "'I ate number apples. So I sicked day days'"
      ]
     },
     "execution_count": 66,
     "metadata": {},
     "output_type": "execute_result"
    }
   ],
   "source": [
    "#잘못된 예시\n",
    "number=3\n",
    "day=\"two\"\n",
    "\n",
    "\"I ate number apples. So I sicked day days\""
   ]
  },
  {
   "cell_type": "markdown",
   "id": "6443c131-61fb-472f-b5d0-a58e6a30fc9e",
   "metadata": {},
   "source": [
    "#### 방법1:  %를 이용하기"
   ]
  },
  {
   "cell_type": "code",
   "execution_count": 69,
   "id": "8066be8a-3d06-47e5-93a0-9b86cfaa0e3b",
   "metadata": {},
   "outputs": [
    {
     "data": {
      "text/plain": [
       "'I ate 3 apples. So I sicked two days'"
      ]
     },
     "execution_count": 69,
     "metadata": {},
     "output_type": "execute_result"
    }
   ],
   "source": [
    "# %를 이용하기\n",
    "\n",
    "number=3\n",
    "day=\"two\"\n",
    "\n",
    "\"I ate %d apples. So I sicked %s days\"%(number, day)  # d=digit 숫자, s=string 문자"
   ]
  },
  {
   "cell_type": "markdown",
   "id": "c5985267-ec6a-46c8-8408-fd91743ab444",
   "metadata": {},
   "source": [
    "#### 방법2: .format 이용하기"
   ]
  },
  {
   "cell_type": "code",
   "execution_count": 70,
   "id": "47ec681b-d1ce-4e69-bae8-0f727967175c",
   "metadata": {},
   "outputs": [
    {
     "data": {
      "text/plain": [
       "'I ate 3 apples. So I sicked two days'"
      ]
     },
     "execution_count": 70,
     "metadata": {},
     "output_type": "execute_result"
    }
   ],
   "source": [
    "# .format 이용하기\n",
    "\n",
    "number=3\n",
    "day=\"two\"\n",
    "\n",
    "\"I ate {} apples. So I sicked {} days\".format(number, day)"
   ]
  },
  {
   "cell_type": "code",
   "execution_count": 76,
   "id": "0f7b6aa5-6cc8-456a-aeba-3eede79bd978",
   "metadata": {},
   "outputs": [
    {
     "name": "stdout",
     "output_type": "stream",
     "text": [
      "I ate 3 apples. So I sicked two days\n",
      "I ate two apples. So I sicked 3 days\n",
      "I ate 3 apples and 3 bananas. So I sicked two days\n"
     ]
    }
   ],
   "source": [
    "print(\"I ate {0} apples. So I sicked {1} days\".format(number, day))   #괄호 안의 인덱스를 적어줌, 인덱스는 0부터 시작\n",
    "print(\"I ate {1} apples. So I sicked {0} days\".format(number, day))\n",
    "print(\"I ate {0} apples and {0} bananas. So I sicked {1} days\".format(number, day))"
   ]
  },
  {
   "cell_type": "markdown",
   "id": "e2ed5dd3-f5f4-4290-841b-0deaef4ca39d",
   "metadata": {},
   "source": [
    "#### 방법3:  f-string 이용하기***"
   ]
  },
  {
   "cell_type": "code",
   "execution_count": 78,
   "id": "b974d532-fc19-4ee7-9f11-e091229addd2",
   "metadata": {},
   "outputs": [
    {
     "data": {
      "text/plain": [
       "'I ate 3 apples. So I sicked two days'"
      ]
     },
     "execution_count": 78,
     "metadata": {},
     "output_type": "execute_result"
    }
   ],
   "source": [
    "# {} 이용하기**\n",
    "\n",
    "number=3\n",
    "day=\"two\"\n",
    "\n",
    "f\"I ate {number} apples. So I sicked {day} days\""
   ]
  },
  {
   "cell_type": "markdown",
   "id": "3470ed13-0a87-46fb-bacf-7af2e780fea7",
   "metadata": {},
   "source": [
    "### input() 함수\n",
    "-사용자로부터 입력을 받음\n",
    "-받은 값은 문자열(string)임"
   ]
  },
  {
   "cell_type": "code",
   "execution_count": 80,
   "id": "92ffbe75-4bee-4da3-b007-8cff3f28846b",
   "metadata": {},
   "outputs": [
    {
     "name": "stdin",
     "output_type": "stream",
     "text": [
      "이름이 무엇입니까? 줸웇취\n"
     ]
    },
    {
     "data": {
      "text/plain": [
       "'줸웇취'"
      ]
     },
     "execution_count": 80,
     "metadata": {},
     "output_type": "execute_result"
    }
   ],
   "source": [
    "input(\"이름이 무엇입니까?\")"
   ]
  },
  {
   "cell_type": "code",
   "execution_count": 81,
   "id": "6a16fd36-35b8-4929-b535-aa8da3bd229d",
   "metadata": {},
   "outputs": [
    {
     "name": "stdin",
     "output_type": "stream",
     "text": [
      "이름이 무엇입니까? 홍긜동\n"
     ]
    }
   ],
   "source": [
    "name=input(\"이름이 무엇입니까?\")"
   ]
  },
  {
   "cell_type": "code",
   "execution_count": 82,
   "id": "8eee7a25-010f-4bc1-842e-33643a556fbf",
   "metadata": {},
   "outputs": [
    {
     "data": {
      "text/plain": [
       "'홍긜동'"
      ]
     },
     "execution_count": 82,
     "metadata": {},
     "output_type": "execute_result"
    }
   ],
   "source": [
    "name"
   ]
  },
  {
   "cell_type": "code",
   "execution_count": 1,
   "id": "d9d9a822-bb9a-4aa8-85bb-e7b74fab0cc7",
   "metadata": {},
   "outputs": [
    {
     "name": "stdin",
     "output_type": "stream",
     "text": [
      "나이는요? 20\n"
     ]
    },
    {
     "data": {
      "text/plain": [
       "'20'"
      ]
     },
     "execution_count": 1,
     "metadata": {},
     "output_type": "execute_result"
    }
   ],
   "source": [
    "age=input(\"나이는요?\")\n",
    "age"
   ]
  },
  {
   "cell_type": "code",
   "execution_count": 2,
   "id": "0e37aacd-9b66-4f56-8ace-f5eca82396c8",
   "metadata": {},
   "outputs": [
    {
     "name": "stdin",
     "output_type": "stream",
     "text": [
      "형 나이는요? 25\n",
      "동생 나이는요? 20\n"
     ]
    },
    {
     "ename": "TypeError",
     "evalue": "unsupported operand type(s) for -: 'str' and 'str'",
     "output_type": "error",
     "traceback": [
      "\u001b[1;31m---------------------------------------------------------------------------\u001b[0m",
      "\u001b[1;31mTypeError\u001b[0m                                 Traceback (most recent call last)",
      "\u001b[1;32m<ipython-input-2-48554dc3fe5d>\u001b[0m in \u001b[0;36m<module>\u001b[1;34m\u001b[0m\n\u001b[0;32m      1\u001b[0m \u001b[0ma\u001b[0m\u001b[1;33m=\u001b[0m \u001b[0minput\u001b[0m\u001b[1;33m(\u001b[0m\u001b[1;34m\"형 나이는요?\"\u001b[0m\u001b[1;33m)\u001b[0m\u001b[1;33m\u001b[0m\u001b[1;33m\u001b[0m\u001b[0m\n\u001b[0;32m      2\u001b[0m \u001b[0mb\u001b[0m\u001b[1;33m=\u001b[0m \u001b[0minput\u001b[0m\u001b[1;33m(\u001b[0m\u001b[1;34m\"동생 나이는요?\"\u001b[0m\u001b[1;33m)\u001b[0m\u001b[1;33m\u001b[0m\u001b[1;33m\u001b[0m\u001b[0m\n\u001b[1;32m----> 3\u001b[1;33m \u001b[0ma\u001b[0m\u001b[1;33m-\u001b[0m\u001b[0mb\u001b[0m\u001b[1;33m\u001b[0m\u001b[1;33m\u001b[0m\u001b[0m\n\u001b[0m",
      "\u001b[1;31mTypeError\u001b[0m: unsupported operand type(s) for -: 'str' and 'str'"
     ]
    }
   ],
   "source": [
    "#잘못된 예시\n",
    "\n",
    "a= input(\"형 나이는요?\")\n",
    "b= input(\"동생 나이는요?\")\n",
    "a-b"
   ]
  },
  {
   "cell_type": "code",
   "execution_count": 3,
   "id": "35fd0151-73f7-4d8d-84f0-9c3c3fad220f",
   "metadata": {},
   "outputs": [
    {
     "data": {
      "text/plain": [
       "False"
      ]
     },
     "execution_count": 3,
     "metadata": {},
     "output_type": "execute_result"
    }
   ],
   "source": [
    "#문자열을 숫자로 바꾸기\n",
    "int()\n",
    "float()\n",
    "str()\n",
    "bool()"
   ]
  },
  {
   "cell_type": "code",
   "execution_count": 4,
   "id": "2941d1b2-1721-40e3-89d0-0ac6c3cc19d1",
   "metadata": {},
   "outputs": [],
   "source": [
    "a=int(a)\n",
    "b=int(b)"
   ]
  },
  {
   "cell_type": "code",
   "execution_count": 5,
   "id": "b5f47c34-ecd0-4278-8919-00e460e73301",
   "metadata": {},
   "outputs": [
    {
     "name": "stdin",
     "output_type": "stream",
     "text": [
      "형 나이는요? 25\n",
      "동생 나이는요? 20\n"
     ]
    },
    {
     "name": "stdout",
     "output_type": "stream",
     "text": [
      "5\n",
      "625\n"
     ]
    }
   ],
   "source": [
    "a=int(input(\"형 나이는요?\"))\n",
    "b=int(input(\"동생 나이는요?\"))\n",
    "print(a-b)\n",
    "print(a**2)"
   ]
  },
  {
   "cell_type": "code",
   "execution_count": 6,
   "id": "fc48caa5-6b98-404e-bf15-0c2720ee02ea",
   "metadata": {},
   "outputs": [
    {
     "name": "stdin",
     "output_type": "stream",
     "text": [
      "형 나이는요? 35\n",
      "동생 나이는요 30\n"
     ]
    },
    {
     "name": "stdout",
     "output_type": "stream",
     "text": [
      "형과 동생의 나이 차이는 5살 입니다.\n"
     ]
    }
   ],
   "source": [
    "# 형과 동생 나이는 oo살 입니다. 라고 출력하기\n",
    "\n",
    "a=int(input(\"형 나이는요?\"))\n",
    "b=int(input(\"동생 나이는요\"))\n",
    "c=a-b\n",
    "print(f\"형과 동생의 나이 차이는 {c}살 입니다.\")"
   ]
  },
  {
   "cell_type": "code",
   "execution_count": 9,
   "id": "807e840c-8987-45dd-ae51-1c61e0cb252b",
   "metadata": {},
   "outputs": [
    {
     "name": "stdin",
     "output_type": "stream",
     "text": [
      "이름을 입력하시오 최애림\n",
      "나이를 입력하시오 28\n"
     ]
    },
    {
     "name": "stdout",
     "output_type": "stream",
     "text": [
      "이름은 최애림이고,나이는 28세 입니다.\n"
     ]
    }
   ],
   "source": [
    "# name, age 두 변수로 입력받아서 \"이름은 ooo이고, 나이는 oo세 입니다.\"\n",
    "\n",
    "name=input(\"이름을 입력하시오\")\n",
    "age=int(input(\"나이를 입력하시오\"))\n",
    "\n",
    "print(f\"이름은 {name}이고, 나이는 {age}세 입니다.\")"
   ]
  },
  {
   "cell_type": "markdown",
   "id": "ae6ddd7f-d3bc-4ea2-9215-92f7c956f463",
   "metadata": {},
   "source": [
    "## 참거짓형\n",
    "- boolean"
   ]
  },
  {
   "cell_type": "code",
   "execution_count": 10,
   "id": "3cfb7c27-adef-4fea-9c3e-587f9c90ef0c",
   "metadata": {},
   "outputs": [
    {
     "data": {
      "text/plain": [
       "True"
      ]
     },
     "execution_count": 10,
     "metadata": {},
     "output_type": "execute_result"
    }
   ],
   "source": [
    "1<2"
   ]
  },
  {
   "cell_type": "code",
   "execution_count": 11,
   "id": "3bc96ede-e067-4cd6-918b-a2b10548fcdc",
   "metadata": {},
   "outputs": [
    {
     "data": {
      "text/plain": [
       "bool"
      ]
     },
     "execution_count": 11,
     "metadata": {},
     "output_type": "execute_result"
    }
   ],
   "source": [
    "type(1<2)"
   ]
  },
  {
   "cell_type": "code",
   "execution_count": 15,
   "id": "9b1334b5-0ad3-459e-a32a-f2e53a9b670e",
   "metadata": {},
   "outputs": [
    {
     "name": "stdout",
     "output_type": "stream",
     "text": [
      "참입니다\n"
     ]
    }
   ],
   "source": [
    "if 1<2:\n",
    "    print('참입니다')"
   ]
  },
  {
   "cell_type": "code",
   "execution_count": 16,
   "id": "97938f77-b538-4acc-a992-dde55360d8e7",
   "metadata": {},
   "outputs": [],
   "source": [
    "if 1>2:\n",
    "    print(\"참입니다\")"
   ]
  },
  {
   "cell_type": "code",
   "execution_count": 17,
   "id": "ac05f850-5e4b-46a3-9918-3eb6ad8eaeb3",
   "metadata": {},
   "outputs": [
    {
     "name": "stdout",
     "output_type": "stream",
     "text": [
      "참입니다\n"
     ]
    }
   ],
   "source": [
    "if 1:\n",
    "    print(\"참입니다\")"
   ]
  },
  {
   "cell_type": "code",
   "execution_count": 19,
   "id": "8f48f9a7-8951-47d4-b02a-8d7c4c8e6631",
   "metadata": {},
   "outputs": [
    {
     "name": "stdout",
     "output_type": "stream",
     "text": [
      "참입니다\n"
     ]
    }
   ],
   "source": [
    "if True:\n",
    "    print(\"참입니다\")"
   ]
  },
  {
   "cell_type": "code",
   "execution_count": 20,
   "id": "ef5f4d39-aae4-4889-97c3-3cba31197c52",
   "metadata": {},
   "outputs": [
    {
     "name": "stdout",
     "output_type": "stream",
     "text": [
      "참입니다\n"
     ]
    }
   ],
   "source": [
    "if 2:\n",
    "    print(\"참입니다\")"
   ]
  },
  {
   "cell_type": "code",
   "execution_count": 21,
   "id": "bf4f53b3-a8fa-4188-9f66-95f70590209a",
   "metadata": {},
   "outputs": [
    {
     "data": {
      "text/plain": [
       "False"
      ]
     },
     "execution_count": 21,
     "metadata": {},
     "output_type": "execute_result"
    }
   ],
   "source": [
    "bool(0)"
   ]
  },
  {
   "cell_type": "code",
   "execution_count": 22,
   "id": "c5033d74-8939-448d-b99f-7db579dd46ed",
   "metadata": {},
   "outputs": [
    {
     "data": {
      "text/plain": [
       "True"
      ]
     },
     "execution_count": 22,
     "metadata": {},
     "output_type": "execute_result"
    }
   ],
   "source": [
    "bool(3)"
   ]
  },
  {
   "cell_type": "code",
   "execution_count": 23,
   "id": "ac8c1f0d-8a24-46ad-a80c-b45843d98a72",
   "metadata": {},
   "outputs": [
    {
     "data": {
      "text/plain": [
       "True"
      ]
     },
     "execution_count": 23,
     "metadata": {},
     "output_type": "execute_result"
    }
   ],
   "source": [
    "bool(-55)"
   ]
  },
  {
   "cell_type": "code",
   "execution_count": 24,
   "id": "ee6de42a-a73a-444d-ad4a-acf3b6ce9f6e",
   "metadata": {},
   "outputs": [
    {
     "name": "stdout",
     "output_type": "stream",
     "text": [
      "참입니다.\n"
     ]
    }
   ],
   "source": [
    "if \"Hello\":\n",
    "    print(\"참입니다.\")"
   ]
  },
  {
   "cell_type": "code",
   "execution_count": 25,
   "id": "9122039f-5190-4064-adfe-8eb4ee1bebb0",
   "metadata": {},
   "outputs": [],
   "source": [
    "if \"\":\n",
    "    print(\"참입니다\")"
   ]
  },
  {
   "cell_type": "markdown",
   "id": "722163cc-fef3-4c42-b323-f224c77ccb8e",
   "metadata": {},
   "source": [
    "# 파이썬의 자료형\n",
    "- 리스트(list)\n",
    "- 튜플(tuple)\n",
    "- 딕셔너리(dictionary)\n",
    "- 세트(set)"
   ]
  },
  {
   "cell_type": "markdown",
   "id": "bbdf9edf-d0e6-447e-925e-d54a94050eac",
   "metadata": {},
   "source": [
    "## 리스트\n",
    "- CRUD\n",
    "```\n",
    "C: Create\n",
    "R: Read\n",
    "U: Update\n",
    "D: Delete\n",
    "```"
   ]
  },
  {
   "cell_type": "markdown",
   "id": "f147a6ff-38a1-406f-9d67-f276973c116c",
   "metadata": {},
   "source": [
    "### -만들기(Create)"
   ]
  },
  {
   "cell_type": "code",
   "execution_count": 30,
   "id": "604ce26e-d942-476d-8d0a-3dec58b335e5",
   "metadata": {},
   "outputs": [
    {
     "data": {
      "text/plain": [
       "list"
      ]
     },
     "execution_count": 30,
     "metadata": {},
     "output_type": "execute_result"
    }
   ],
   "source": [
    "a=[1,2]\n",
    "type(a)"
   ]
  },
  {
   "cell_type": "code",
   "execution_count": 32,
   "id": "864fc590-ec56-4495-b2d2-39d4ef1752b6",
   "metadata": {},
   "outputs": [
    {
     "name": "stdout",
     "output_type": "stream",
     "text": [
      "['졸리다', '너무']\n"
     ]
    }
   ],
   "source": [
    "a=['졸리다', '너무']\n",
    "print(a)"
   ]
  },
  {
   "cell_type": "code",
   "execution_count": 41,
   "id": "41e5e76b-c158-4316-943e-d6c16773630c",
   "metadata": {},
   "outputs": [
    {
     "name": "stdout",
     "output_type": "stream",
     "text": [
      "6\n",
      "7\n"
     ]
    }
   ],
   "source": [
    "#nested list(중첩리스트)\n",
    "a=[1,2,3,\"life\",'is','short']\n",
    "print(len(a))\n",
    "\n",
    "a=[1,2,3,\"life\", \"is\",\"short\",['we','need','python']]\n",
    "print(len(a))"
   ]
  },
  {
   "cell_type": "code",
   "execution_count": 40,
   "id": "ce0a2f92-2eb1-4fdd-8962-4035142ceecc",
   "metadata": {},
   "outputs": [
    {
     "name": "stdout",
     "output_type": "stream",
     "text": [
      "1\n",
      "life\n",
      "['we', 'need', 'python|']\n"
     ]
    }
   ],
   "source": [
    "print(a[0])\n",
    "print(a[3])\n",
    "print(a[6])"
   ]
  },
  {
   "cell_type": "code",
   "execution_count": 43,
   "id": "55ef0497-1201-4b3e-8bba-342092b7188e",
   "metadata": {},
   "outputs": [
    {
     "name": "stdout",
     "output_type": "stream",
     "text": [
      "[1, 2, 3]\n"
     ]
    }
   ],
   "source": [
    "print(a[:3])"
   ]
  },
  {
   "cell_type": "markdown",
   "id": "3c270119-bcfa-496a-9c8f-13c90a914dcb",
   "metadata": {},
   "source": [
    "### -접근, 조회(Read)\n",
    "- 문자열의 조회와 같음"
   ]
  },
  {
   "cell_type": "code",
   "execution_count": 44,
   "id": "80855de1-39af-4c79-9ad1-5a4d114468ab",
   "metadata": {},
   "outputs": [
    {
     "name": "stdout",
     "output_type": "stream",
     "text": [
      "python\n"
     ]
    }
   ],
   "source": [
    "#'python'을 출력하라\n",
    "\n",
    "a=[1,2,3,'life','is','short',['we','need','python']]\n",
    "print(a[-1][-1])"
   ]
  },
  {
   "cell_type": "code",
   "execution_count": 47,
   "id": "9713441d-8efe-406b-b05d-11b69468f23e",
   "metadata": {},
   "outputs": [
    {
     "name": "stdout",
     "output_type": "stream",
     "text": [
      "ee\n"
     ]
    }
   ],
   "source": [
    "#'need'의 ee를 출력하라\n",
    "\n",
    "a=[1,2,3,'life','is','short',['we','need','python']]\n",
    "print(a[-1][1][1:3])"
   ]
  },
  {
   "cell_type": "markdown",
   "id": "c8a06ea9-7699-437d-ac01-787e9298d70d",
   "metadata": {},
   "source": [
    "### -연산"
   ]
  },
  {
   "cell_type": "code",
   "execution_count": 55,
   "id": "ea815979-05ad-491a-8ea8-8c4fa0353fba",
   "metadata": {},
   "outputs": [
    {
     "name": "stdout",
     "output_type": "stream",
     "text": [
      "[1, 2, 3, 4, 5, 6]\n",
      "[1, 2, 3, 1, 2, 3, 1, 2, 3]\n"
     ]
    }
   ],
   "source": [
    "a=[1,2,3]\n",
    "b=[4,5,6]\n",
    "print(a+b)\n",
    "print(a*3)"
   ]
  },
  {
   "cell_type": "code",
   "execution_count": 62,
   "id": "4ed984ea-ef1f-4c61-ac5b-7fcfac3e5a44",
   "metadata": {},
   "outputs": [
    {
     "name": "stdout",
     "output_type": "stream",
     "text": [
      "[5 7 9]\n",
      "[-3 -3 -3]\n",
      "[ 4 10 18]\n",
      "[0.25 0.4  0.5 ]\n"
     ]
    }
   ],
   "source": [
    "import numpy as np\n",
    "a=np.array([1,2,3])\n",
    "b=np.array([4,5,6])\n",
    "print(a+b)\n",
    "print(a-b)\n",
    "print(a*b)\n",
    "print(a/b)"
   ]
  },
  {
   "cell_type": "markdown",
   "id": "8616cd77-93f0-4f87-960b-f4029acc923a",
   "metadata": {},
   "source": [
    "### -수정(Update) - "
   ]
  },
  {
   "cell_type": "code",
   "execution_count": 115,
   "id": "02a01e69-739b-4b06-986a-ced7bec7b3d6",
   "metadata": {},
   "outputs": [
    {
     "name": "stdout",
     "output_type": "stream",
     "text": [
      "5\n",
      "3\n"
     ]
    }
   ],
   "source": [
    "#수정에 대한 예시 및 등호의 의미\n",
    "a=2\n",
    "a=a+3\n",
    "print(a)  #등호는 변수에 숫자를 밀어넣는 개념\n",
    "\n",
    "a=2\n",
    "b=3\n",
    "a=b\n",
    "print(a)"
   ]
  },
  {
   "cell_type": "code",
   "execution_count": 119,
   "id": "7d916401-10a8-4835-bc35-508487ffef84",
   "metadata": {},
   "outputs": [
    {
     "name": "stdout",
     "output_type": "stream",
     "text": [
      "[1, 20, 3]\n"
     ]
    }
   ],
   "source": [
    "a=[1,2,3]\n",
    "a[1]=20\n",
    "print(a)"
   ]
  },
  {
   "cell_type": "markdown",
   "id": "555ef8a4-044b-4622-be3f-cbd20bba0d96",
   "metadata": {},
   "source": [
    "### -추가append, insert, extend"
   ]
  },
  {
   "cell_type": "code",
   "execution_count": 71,
   "id": "40fd3bed-2b2a-4737-aab4-5a21a733e2c3",
   "metadata": {},
   "outputs": [
    {
     "data": {
      "text/plain": [
       "list"
      ]
     },
     "execution_count": 71,
     "metadata": {},
     "output_type": "execute_result"
    }
   ],
   "source": [
    "a=[1,2,3]\n",
    "type(a)"
   ]
  },
  {
   "cell_type": "code",
   "execution_count": 72,
   "id": "e5f4b563-62f7-4a85-bdd5-72bb555e7447",
   "metadata": {},
   "outputs": [
    {
     "name": "stdout",
     "output_type": "stream",
     "text": [
      "[1, 2, 3, 4]\n"
     ]
    }
   ],
   "source": [
    "#append★\n",
    "\n",
    "a.append(4)\n",
    "print(a)"
   ]
  },
  {
   "cell_type": "code",
   "execution_count": 73,
   "id": "4bb8d1d5-2a50-419a-bf18-aad9367b9abb",
   "metadata": {},
   "outputs": [
    {
     "name": "stdout",
     "output_type": "stream",
     "text": [
      "[1, 2, 3, 4, [5, 6, 7]]\n"
     ]
    }
   ],
   "source": [
    "a.append([5,6,7])\n",
    "print(a)"
   ]
  },
  {
   "cell_type": "code",
   "execution_count": 105,
   "id": "fa22bf7d-0b31-4e5b-9a47-e498fcec14f0",
   "metadata": {},
   "outputs": [
    {
     "name": "stdout",
     "output_type": "stream",
     "text": [
      "[7, 5, [1, 2, 3], 4, 3, 1]\n"
     ]
    }
   ],
   "source": [
    "#insert\n",
    "\n",
    "a.insert(2,[1,2,3])\n",
    "print(a)"
   ]
  },
  {
   "cell_type": "code",
   "execution_count": 106,
   "id": "dca4248d-228c-498f-8941-deb1cbef0b1e",
   "metadata": {},
   "outputs": [
    {
     "name": "stdout",
     "output_type": "stream",
     "text": [
      "[1, 2, 3, [4, 5]]\n",
      "[1, 2, 3, 4, 5]\n"
     ]
    }
   ],
   "source": [
    "a=[1,2,3]\n",
    "a.append([4,5])\n",
    "print(a)\n",
    "\n",
    "\n",
    "#extend\n",
    "\n",
    "\n",
    "a=[1,2,3]\n",
    "a.extend([4,5])\n",
    "print(a)"
   ]
  },
  {
   "cell_type": "markdown",
   "id": "7fca2178-55ea-4a90-bbbe-1de110411d3e",
   "metadata": {},
   "source": [
    "### -삭제(Delete)- remove, pop"
   ]
  },
  {
   "cell_type": "code",
   "execution_count": 76,
   "id": "a50797a5-794e-4f0c-b089-06c7a6703f40",
   "metadata": {},
   "outputs": [
    {
     "name": "stdout",
     "output_type": "stream",
     "text": [
      "[1, 3]\n"
     ]
    }
   ],
   "source": [
    "#정해진 데이터 삭제\n",
    "a=[1,2,3]\n",
    "a.remove(2)\n",
    "print(a)"
   ]
  },
  {
   "cell_type": "code",
   "execution_count": 78,
   "id": "cace3a8b-8be8-4b95-b28a-9e7885a721a2",
   "metadata": {},
   "outputs": [
    {
     "name": "stdout",
     "output_type": "stream",
     "text": [
      "[3]\n"
     ]
    }
   ],
   "source": [
    "#인덱스로 데이터 삭제\n",
    "a.pop(0)\n",
    "print(a)"
   ]
  },
  {
   "cell_type": "markdown",
   "id": "fc40b276-fe60-4953-a91c-e1049db84d84",
   "metadata": {},
   "source": [
    "### -정렬 - sort, reverse"
   ]
  },
  {
   "cell_type": "code",
   "execution_count": 82,
   "id": "93c59772-3b15-478f-9507-6d213529e202",
   "metadata": {},
   "outputs": [
    {
     "name": "stdout",
     "output_type": "stream",
     "text": [
      "[1, 2, 3, 4, 5]\n"
     ]
    }
   ],
   "source": [
    "a=[1,3,5,4,2]\n",
    "a.sort()\n",
    "print(a)"
   ]
  },
  {
   "cell_type": "code",
   "execution_count": 91,
   "id": "e2715542-97d5-43c0-9628-d3de7c868af3",
   "metadata": {},
   "outputs": [
    {
     "name": "stdout",
     "output_type": "stream",
     "text": [
      "[1, 2, 4, 3]\n",
      "[1, 2, 3, 4]\n"
     ]
    }
   ],
   "source": [
    "a=[1,2,4,3]\n",
    "\n",
    "b=sorted([1,3,4,2])\n",
    "print(a)\n",
    "print(b)"
   ]
  },
  {
   "cell_type": "code",
   "execution_count": 97,
   "id": "9e2d530f-9efa-4bb4-af07-a202efc5b3f2",
   "metadata": {},
   "outputs": [
    {
     "name": "stdout",
     "output_type": "stream",
     "text": [
      "[4, 3, 2, 1]\n",
      "[4, 5, 1, 2]\n"
     ]
    }
   ],
   "source": [
    "#역정렬\n",
    "\n",
    "a=[1,2,3,4]\n",
    "a.reverse()\n",
    "print(a)\n",
    "\n",
    "b=[2,1,5,4]\n",
    "b.reverse()\n",
    "print(b)"
   ]
  },
  {
   "cell_type": "code",
   "execution_count": 104,
   "id": "0e907557-31fb-4151-a3df-fb6e9e7e8d83",
   "metadata": {},
   "outputs": [
    {
     "name": "stdout",
     "output_type": "stream",
     "text": [
      "[7, 5, 4, 3, 1]\n"
     ]
    }
   ],
   "source": [
    "#a=[3,1,5,7,4] 일 때, a=[7,5,4,3,1]로 줄세우기\n",
    "\n",
    "a=[3,1,5,7,4]\n",
    "a.sort()\n",
    "a.reverse()\n",
    "print(a)"
   ]
  },
  {
   "cell_type": "code",
   "execution_count": 108,
   "id": "7c02628b-2299-4e83-847c-8255dddb7881",
   "metadata": {},
   "outputs": [
    {
     "name": "stdout",
     "output_type": "stream",
     "text": [
      "[0, 3, 6, 9, 12, 15, 18]\n"
     ]
    }
   ],
   "source": [
    "li=[]\n",
    "for i in range(20):\n",
    "    if i%3==0:\n",
    "        li.append(i)\n",
    "print(li)"
   ]
  },
  {
   "cell_type": "markdown",
   "id": "86b909dc-ddb3-4a40-8474-e035e10b829a",
   "metadata": {},
   "source": [
    "## 튜플\n",
    "- 99% 리스트와 같음"
   ]
  },
  {
   "cell_type": "code",
   "execution_count": 120,
   "id": "eccc5300-e90e-43ac-ae75-84ce7b1738dd",
   "metadata": {},
   "outputs": [
    {
     "name": "stdout",
     "output_type": "stream",
     "text": [
      "(1, 2, 3)\n",
      "<class 'tuple'>\n",
      "(1, 2, 3)\n",
      "<class 'tuple'>\n"
     ]
    }
   ],
   "source": [
    "a=(1,2,3)\n",
    "print(a)\n",
    "print(type(a))\n",
    "\n",
    "b=1,2,3\n",
    "print(b)\n",
    "print(type(b))"
   ]
  },
  {
   "cell_type": "code",
   "execution_count": 121,
   "id": "25f4c297-b19a-4d27-a824-d6ed8212bb65",
   "metadata": {},
   "outputs": [
    {
     "name": "stdout",
     "output_type": "stream",
     "text": [
      "1\n",
      "1\n"
     ]
    }
   ],
   "source": [
    "print(a[0])\n",
    "print(b[0])"
   ]
  },
  {
   "cell_type": "code",
   "execution_count": 122,
   "id": "a412c699-5b23-4674-afc6-1076bf519f71",
   "metadata": {},
   "outputs": [
    {
     "name": "stdout",
     "output_type": "stream",
     "text": [
      "(2, 3)\n"
     ]
    }
   ],
   "source": [
    "print(a[1:3])"
   ]
  },
  {
   "cell_type": "code",
   "execution_count": 124,
   "id": "da66ac1a-6b35-42b0-b07e-689372b1b6ac",
   "metadata": {},
   "outputs": [
    {
     "ename": "TypeError",
     "evalue": "'tuple' object does not support item assignment",
     "output_type": "error",
     "traceback": [
      "\u001b[1;31m---------------------------------------------------------------------------\u001b[0m",
      "\u001b[1;31mTypeError\u001b[0m                                 Traceback (most recent call last)",
      "\u001b[1;32m<ipython-input-124-8515edf29494>\u001b[0m in \u001b[0;36m<module>\u001b[1;34m\u001b[0m\n\u001b[0;32m      1\u001b[0m \u001b[1;31m# 리스트와 다른점: 수정(Update)\u001b[0m\u001b[1;33m\u001b[0m\u001b[1;33m\u001b[0m\u001b[1;33m\u001b[0m\u001b[0m\n\u001b[0;32m      2\u001b[0m \u001b[0ma\u001b[0m\u001b[1;33m=\u001b[0m\u001b[1;33m(\u001b[0m\u001b[1;36m1\u001b[0m\u001b[1;33m,\u001b[0m\u001b[1;36m2\u001b[0m\u001b[1;33m,\u001b[0m\u001b[1;36m3\u001b[0m\u001b[1;33m)\u001b[0m\u001b[1;33m\u001b[0m\u001b[1;33m\u001b[0m\u001b[0m\n\u001b[1;32m----> 3\u001b[1;33m \u001b[0ma\u001b[0m\u001b[1;33m[\u001b[0m\u001b[1;36m1\u001b[0m\u001b[1;33m]\u001b[0m\u001b[1;33m=\u001b[0m\u001b[1;36m20\u001b[0m\u001b[1;33m\u001b[0m\u001b[1;33m\u001b[0m\u001b[0m\n\u001b[0m\u001b[0;32m      4\u001b[0m \u001b[0mprint\u001b[0m\u001b[1;33m(\u001b[0m\u001b[0ma\u001b[0m\u001b[1;33m)\u001b[0m\u001b[1;33m\u001b[0m\u001b[1;33m\u001b[0m\u001b[0m\n",
      "\u001b[1;31mTypeError\u001b[0m: 'tuple' object does not support item assignment"
     ]
    }
   ],
   "source": [
    "# 리스트와 다른점: 수정(Update)\n",
    "a=(1,2,3)\n",
    "a[1]=20\n",
    "print(a)"
   ]
  },
  {
   "cell_type": "code",
   "execution_count": 132,
   "id": "bdaffd98-8b26-4f8b-8112-1e18a8e1d43d",
   "metadata": {},
   "outputs": [
    {
     "name": "stdout",
     "output_type": "stream",
     "text": [
      "17을 4로 나눈 값의 몫은 4이고, 나머지는 1이다\n",
      "<class 'int'> <class 'int'>\n"
     ]
    }
   ],
   "source": [
    "#주로 변수 값을 두개 이상 동시에 받을 때 쓰임 \n",
    "a,b=divmod(17,4)\n",
    "print(f'17을 4로 나눈 값의 몫은 {a}이고, 나머지는 {b}이다')\n",
    "print(type(a),type(b)) "
   ]
  },
  {
   "cell_type": "markdown",
   "id": "2d27ca88-424d-4cad-b4a2-407fd5e20654",
   "metadata": {},
   "source": [
    "## 딕셔너리\n",
    "- {key:value}: key와 value의 순서쌍"
   ]
  },
  {
   "cell_type": "markdown",
   "id": "91abbeb2-33d1-4454-ad5c-83ca44cf00a9",
   "metadata": {},
   "source": [
    "### -만들기(Create)"
   ]
  },
  {
   "cell_type": "code",
   "execution_count": 138,
   "id": "013c739d-7a47-4fd9-997e-efdf1f55c807",
   "metadata": {},
   "outputs": [
    {
     "name": "stdout",
     "output_type": "stream",
     "text": [
      "{'apple': '사과', 'banana': '바나나', 'carrot': '당근'}\n",
      "<class 'dict'>\n"
     ]
    }
   ],
   "source": [
    "a={'apple' :\"사과\", 'banana':\"바나나\", 'carrot':\"당근\"}\n",
    "print(a)\n",
    "print(type(a))"
   ]
  },
  {
   "cell_type": "markdown",
   "id": "51b388a8-560f-4c13-8eb5-238472003b33",
   "metadata": {
    "tags": []
   },
   "source": [
    "### -접근, 조회(Read)\n",
    "- key로 읽음"
   ]
  },
  {
   "cell_type": "code",
   "execution_count": 143,
   "id": "4b23996d-df36-4d6c-af26-b603544f9d25",
   "metadata": {},
   "outputs": [
    {
     "name": "stdout",
     "output_type": "stream",
     "text": [
      "사과\n",
      "바나나\n"
     ]
    }
   ],
   "source": [
    "print(a['apple'])\n",
    "print(a['banana'])"
   ]
  },
  {
   "cell_type": "code",
   "execution_count": 145,
   "id": "dd5e2848-d90b-4da0-bfda-382dd9614e2a",
   "metadata": {},
   "outputs": [
    {
     "name": "stdout",
     "output_type": "stream",
     "text": [
      "{'apple': ['사과', '능금', '백설공주 최애 음식'], 'banana': '바나나', 'carrot': '당근'}\n"
     ]
    },
    {
     "data": {
      "text/plain": [
       "['사과', '능금', '백설공주 최애 음식']"
      ]
     },
     "execution_count": 145,
     "metadata": {},
     "output_type": "execute_result"
    }
   ],
   "source": [
    "a={'apple' :[\"사과\",\"능금\",\"백설공주 최애 음식\"], 'banana':\"바나나\", 'carrot':\"당근\"}\n",
    "print(a)\n",
    "a['apple']"
   ]
  },
  {
   "cell_type": "markdown",
   "id": "31ac670a-5e8c-492d-8b76-47fedb6d4474",
   "metadata": {},
   "source": [
    "### -수정(Update)"
   ]
  },
  {
   "cell_type": "code",
   "execution_count": 146,
   "id": "c1abe072-844d-4205-9263-1ab6080ec0d7",
   "metadata": {},
   "outputs": [
    {
     "name": "stdout",
     "output_type": "stream",
     "text": [
      "{'apple': '사과', 'banana': '버내너', 'carrot': '당근'}\n"
     ]
    }
   ],
   "source": [
    "#'바나나'를 '버내너'로 수정\n",
    "a={'apple':'사과', 'banana':'바나나','carrot':'당근'}\n",
    "a['banana']='버내너'\n",
    "print(a)"
   ]
  },
  {
   "cell_type": "markdown",
   "id": "6515dbee-87ea-429c-8fcb-3ebc862f3692",
   "metadata": {},
   "source": [
    "### -추가"
   ]
  },
  {
   "cell_type": "code",
   "execution_count": 147,
   "id": "a81acbb6-940d-4b04-bb16-78537dbd8851",
   "metadata": {},
   "outputs": [
    {
     "name": "stdout",
     "output_type": "stream",
     "text": [
      "{'apple': '사과', 'banana': '버내너', 'carrot': '당근', 'carot': '홍당무'}\n"
     ]
    }
   ],
   "source": [
    "#key가 잘못 입력된 경우, 새로운 key, value가 추가됨\n",
    "a['carot']='홍당무'\n",
    "print(a)"
   ]
  },
  {
   "cell_type": "code",
   "execution_count": 151,
   "id": "2d59f582-9e6b-45a7-a344-7af1d8a21a8c",
   "metadata": {},
   "outputs": [
    {
     "data": {
      "text/plain": [
       "dict_keys(['apple', 'banana', 'carrot', 'carot'])"
      ]
     },
     "execution_count": 151,
     "metadata": {},
     "output_type": "execute_result"
    }
   ],
   "source": [
    "a.keys()"
   ]
  },
  {
   "cell_type": "code",
   "execution_count": 152,
   "id": "4da8aff2-b221-4f98-bbf5-f61b36a3913e",
   "metadata": {},
   "outputs": [
    {
     "data": {
      "text/plain": [
       "dict_values(['사과', '버내너', '당근', '홍당무'])"
      ]
     },
     "execution_count": 152,
     "metadata": {},
     "output_type": "execute_result"
    }
   ],
   "source": [
    "a.values()"
   ]
  },
  {
   "cell_type": "code",
   "execution_count": 153,
   "id": "183dd364-92e3-4028-81f7-37fd4320cb9c",
   "metadata": {},
   "outputs": [
    {
     "data": {
      "text/plain": [
       "dict_items([('apple', '사과'), ('banana', '버내너'), ('carrot', '당근'), ('carot', '홍당무')])"
      ]
     },
     "execution_count": 153,
     "metadata": {},
     "output_type": "execute_result"
    }
   ],
   "source": [
    "a.items()"
   ]
  },
  {
   "cell_type": "code",
   "execution_count": 155,
   "id": "6b68d2cc-b430-4bbc-8afb-882c82eedc4f",
   "metadata": {},
   "outputs": [
    {
     "name": "stdout",
     "output_type": "stream",
     "text": [
      "1\n",
      "끝\n",
      "\n",
      "2\n",
      "끝\n",
      "\n",
      "3\n",
      "끝\n",
      "\n"
     ]
    }
   ],
   "source": [
    "for i in [1,2,3]:\n",
    "    print(i)\n",
    "    print(\"끝\")\n",
    "    print()"
   ]
  },
  {
   "cell_type": "code",
   "execution_count": 157,
   "id": "d2febbba-e2e9-4f02-bcfd-9793bc29848b",
   "metadata": {},
   "outputs": [
    {
     "name": "stdout",
     "output_type": "stream",
     "text": [
      "apple\n",
      "banana\n",
      "carrot\n"
     ]
    }
   ],
   "source": [
    "a={'apple':'사과', 'banana':'바나나','carrot':'당근'}\n",
    "for i in a.keys():\n",
    "    print(i)"
   ]
  },
  {
   "cell_type": "code",
   "execution_count": 159,
   "id": "f23dded8-c565-4570-8420-2d79a0aa5e38",
   "metadata": {
    "tags": []
   },
   "outputs": [
    {
     "name": "stdout",
     "output_type": "stream",
     "text": [
      "('apple', '사과')\n",
      "('banana', '바나나')\n",
      "('carrot', '당근')\n"
     ]
    }
   ],
   "source": [
    "for i in a.items():\n",
    "    print(i)"
   ]
  },
  {
   "cell_type": "code",
   "execution_count": 168,
   "id": "dabfc0a3-7e0e-4574-ad34-329c1b8056df",
   "metadata": {},
   "outputs": [
    {
     "name": "stdout",
     "output_type": "stream",
     "text": [
      "key \"apple\"의 value는 \"사과\"입니다.\n",
      "key \"banana\"의 value는 \"바나나\"입니다.\n",
      "key \"carrot\"의 value는 \"당근\"입니다.\n",
      "key \"apple\"의 value는 \"사과\"입니다.\n",
      "key \"banana\"의 value는 \"바나나\"입니다.\n",
      "key \"carrot\"의 value는 \"당근\"입니다.\n"
     ]
    }
   ],
   "source": [
    "# 지정된 문장으로 key, value값 출력하기\n",
    "\n",
    "for i,p in a.items():\n",
    "    print(f'key \"{i}\"의 value는 \"{p}\"입니다.')\n",
    "    \n",
    "for i in a.items():\n",
    "    print(f'key \"{i[0]}\"의 value는 \"{i[1]}\"입니다.')"
   ]
  },
  {
   "cell_type": "code",
   "execution_count": 211,
   "id": "74e935b7-e061-4e1e-b580-8a485e9a662e",
   "metadata": {},
   "outputs": [
    {
     "name": "stdout",
     "output_type": "stream",
     "text": [
      "{'one': 1, 'two': 2, 'three': 3}\n",
      "숫자를 영어로 읽어보겠습니다.\n",
      "1은 영어로 \"one\"입니다.\n",
      "2은 영어로 \"two\"입니다.\n",
      "3은 영어로 \"three\"입니다.\n"
     ]
    }
   ],
   "source": [
    "# 과제\n",
    " \n",
    "#1~3까지 영어를 key로, 숫자를 value로 딕셔너리로 작성\n",
    "Enumber={'one':1, 'two':2, 'three':3}\n",
    "print(Enumber)\n",
    "\n",
    "#반복문을 통해 숫자를 영어로 읽기\n",
    "print('숫자를 영어로 읽어보겠습니다.')\n",
    "for i in Enumber.items():\n",
    "    print(f'{i[1]}은 영어로 \"{i[0]}\"입니다.')"
   ]
  },
  {
   "cell_type": "markdown",
   "id": "cd569614-8613-40ea-8942-b377921dab9b",
   "metadata": {},
   "source": [
    "## 집합"
   ]
  },
  {
   "cell_type": "markdown",
   "id": "0b928235-65ee-40fb-8ffc-33e6df1ced3c",
   "metadata": {},
   "source": [
    "### -만들기(Create)"
   ]
  },
  {
   "cell_type": "code",
   "execution_count": 6,
   "id": "be7d300f-7e97-418b-9e58-d2d82b1ecf4d",
   "metadata": {},
   "outputs": [
    {
     "name": "stdout",
     "output_type": "stream",
     "text": [
      "{1, 2, 3}\n",
      "<class 'set'>\n"
     ]
    }
   ],
   "source": [
    "a=set([1,1,1,2,3])\n",
    "print(a)\n",
    "print(type(a))"
   ]
  },
  {
   "cell_type": "code",
   "execution_count": 7,
   "id": "3ee1e7b0-60b6-4888-9368-15ec9a10be7e",
   "metadata": {},
   "outputs": [
    {
     "data": {
      "text/plain": [
       "set"
      ]
     },
     "execution_count": 7,
     "metadata": {},
     "output_type": "execute_result"
    }
   ],
   "source": [
    "type({1,1,1,2,3})"
   ]
  },
  {
   "cell_type": "markdown",
   "id": "88f6e3de-ea9a-4f50-a135-e58c5431e0c5",
   "metadata": {},
   "source": [
    "### -연산: 합집합,교집합,차집합,데이터 수정"
   ]
  },
  {
   "cell_type": "code",
   "execution_count": 8,
   "id": "7eec6c73-a0a3-4d83-9548-1785454ef0b3",
   "metadata": {},
   "outputs": [],
   "source": [
    "a={1,2,3,4}\n",
    "b=set([3,4,5,6])"
   ]
  },
  {
   "cell_type": "code",
   "execution_count": 14,
   "id": "3709617d-f5cc-4889-a645-f3c899a3ea9e",
   "metadata": {},
   "outputs": [
    {
     "name": "stdout",
     "output_type": "stream",
     "text": [
      "{1, 2, 3, 4, 5, 6}\n",
      "{1, 2, 3, 4, 5, 6}\n"
     ]
    }
   ],
   "source": [
    "#합집합\n",
    "print(a.union(b))\n",
    "print(a|b)"
   ]
  },
  {
   "cell_type": "code",
   "execution_count": 17,
   "id": "7d1ab924-cbb3-423e-9d71-c7bac7cbd921",
   "metadata": {},
   "outputs": [
    {
     "name": "stdout",
     "output_type": "stream",
     "text": [
      "{3, 4}\n",
      "{3, 4}\n"
     ]
    }
   ],
   "source": [
    "#교집합\n",
    "print(a.intersection(b))\n",
    "print(a & b)"
   ]
  },
  {
   "cell_type": "code",
   "execution_count": 22,
   "id": "cdae11d1-80d6-4e40-9578-c948f2c108c9",
   "metadata": {},
   "outputs": [
    {
     "name": "stdout",
     "output_type": "stream",
     "text": [
      "{1, 2}\n",
      "{1, 2}\n"
     ]
    }
   ],
   "source": [
    "#차집합\n",
    "print(a.difference(b))\n",
    "print(a-b)"
   ]
  },
  {
   "cell_type": "code",
   "execution_count": 24,
   "id": "f7d9b6e4-ca4e-4a24-9bd8-55892eb105d3",
   "metadata": {},
   "outputs": [
    {
     "name": "stdout",
     "output_type": "stream",
     "text": [
      "{1, 2, 3, 4, 5, 6, 7, 8}\n"
     ]
    }
   ],
   "source": [
    "#데이터 추가\n",
    "a.add(5)\n",
    "print(a)\n",
    "\n",
    "a.update([6,7,8])\n",
    "print(a)"
   ]
  },
  {
   "cell_type": "markdown",
   "id": "788ca972-8b65-4d26-a5a5-433bf5489766",
   "metadata": {},
   "source": [
    "## 기타 내용"
   ]
  },
  {
   "cell_type": "code",
   "execution_count": 30,
   "id": "ca1ee3fe-53bc-4dc2-a704-dc7c3ddefe50",
   "metadata": {},
   "outputs": [
    {
     "name": "stdout",
     "output_type": "stream",
     "text": [
      "[1, 2, 3] [1, 2, 3]\n",
      "2268574620608\n",
      "2268574620608\n",
      "[1, 20, 3] [1, 20, 3] 2268574620608\n"
     ]
    }
   ],
   "source": [
    "a=[1,2,3]\n",
    "b=a\n",
    "print(a,b)\n",
    "print(id(a))\n",
    "print(id(b))\n",
    "\n",
    "b[1]=20\n",
    "print(a, b, id(b))    # b의 데이터를 바꾸면 a도 바뀜 "
   ]
  },
  {
   "cell_type": "code",
   "execution_count": 41,
   "id": "1b669ba2-be79-4eab-bba3-5941d14c46c7",
   "metadata": {},
   "outputs": [
    {
     "name": "stdout",
     "output_type": "stream",
     "text": [
      "[1, 2, 3]\n",
      "[1, 200, 3] 2268591490304\n",
      "[1, 2, 3]\n",
      "[1, 2, 3] [1, 200, 3] 2268605615808\n"
     ]
    }
   ],
   "source": [
    "a=[1,2,3]\n",
    "c=a.copy()   # 방법1\n",
    "print(c)\n",
    "c[1]=200\n",
    "print(c,id(c))\n",
    "\n",
    "c=a[:]   # 방법2\n",
    "print(c)\n",
    "c[1]=200\n",
    "print(a,c,id(c))"
   ]
  },
  {
   "cell_type": "code",
   "execution_count": 37,
   "id": "15baf1ab-95da-4c4d-b3e3-4d2e314a4998",
   "metadata": {},
   "outputs": [
    {
     "name": "stdout",
     "output_type": "stream",
     "text": [
      "life python\n",
      "life python\n",
      "life python\n"
     ]
    }
   ],
   "source": [
    "a,b='life','python'\n",
    "print(a,b)\n",
    "(a,b)='life','python'\n",
    "print(a,b)\n",
    "[a,b]=['life','python']\n",
    "print(a,b)"
   ]
  },
  {
   "cell_type": "code",
   "execution_count": 40,
   "id": "894ab313-507c-4eb9-9f3a-e1d38a13bdf6",
   "metadata": {},
   "outputs": [
    {
     "name": "stdout",
     "output_type": "stream",
     "text": [
      "5 3\n",
      "3 5\n"
     ]
    }
   ],
   "source": [
    "a=3\n",
    "b=5\n",
    "a,b=b,a\n",
    "print(a,b)\n",
    "(a,b)=(b,a)\n",
    "print(a,b)"
   ]
  },
  {
   "cell_type": "markdown",
   "id": "bfb86763-6563-47f0-ae27-df325de85ce5",
   "metadata": {},
   "source": [
    "# 제어문"
   ]
  },
  {
   "cell_type": "markdown",
   "id": "95ec3486-d4c3-4b50-9349-7dc824df127f",
   "metadata": {},
   "source": [
    "## 조건문(if)\n",
    "```\n",
    "if 조건 :\n",
    "    실행할 문장\n",
    "else 조건2:\n",
    "    실행할 문장\n",
    "    \n",
    "- if는 여러번 작성 가능, else는 없어도 됨\n",
    "```    "
   ]
  },
  {
   "cell_type": "code",
   "execution_count": 43,
   "id": "24b35549-30ef-4659-ba09-a4454efe2e0b",
   "metadata": {},
   "outputs": [
    {
     "name": "stdout",
     "output_type": "stream",
     "text": [
      "Yes\n"
     ]
    }
   ],
   "source": [
    "if True:\n",
    "    print(\"Yes\")"
   ]
  },
  {
   "cell_type": "code",
   "execution_count": 44,
   "id": "4c1737ff-1b47-4caa-99de-59c03e95eab6",
   "metadata": {},
   "outputs": [
    {
     "name": "stdout",
     "output_type": "stream",
     "text": [
      "Yes\n"
     ]
    }
   ],
   "source": [
    "if 1<2:\n",
    "    print(\"Yes\")"
   ]
  },
  {
   "cell_type": "code",
   "execution_count": 46,
   "id": "7e56373b-94cd-460d-938a-940adaeef6af",
   "metadata": {},
   "outputs": [
    {
     "name": "stdout",
     "output_type": "stream",
     "text": [
      "Yes\n"
     ]
    }
   ],
   "source": [
    "if 1:\n",
    "    print('Yes')\n",
    "else:\n",
    "    print('No')"
   ]
  },
  {
   "cell_type": "code",
   "execution_count": 47,
   "id": "f8be4bdc-46b1-40f0-958b-10e886e151aa",
   "metadata": {},
   "outputs": [
    {
     "name": "stdout",
     "output_type": "stream",
     "text": [
      "No\n"
     ]
    }
   ],
   "source": [
    "if 0:\n",
    "    print('Yes')\n",
    "else:\n",
    "    print('No')"
   ]
  },
  {
   "cell_type": "code",
   "execution_count": 48,
   "id": "7ddb59d1-da2b-4858-9e47-36eae1fe89a4",
   "metadata": {},
   "outputs": [
    {
     "name": "stdout",
     "output_type": "stream",
     "text": [
      "No\n"
     ]
    }
   ],
   "source": [
    "if \"\":\n",
    "    print('Yes')\n",
    "else:\n",
    "    print('No')"
   ]
  },
  {
   "cell_type": "code",
   "execution_count": 50,
   "id": "63af1616-014c-4930-a8d7-9b07cc510a25",
   "metadata": {},
   "outputs": [
    {
     "name": "stdin",
     "output_type": "stream",
     "text": [
      "숫자를 입력하세요 -50\n"
     ]
    },
    {
     "name": "stdout",
     "output_type": "stream",
     "text": [
      "음수입니다.\n"
     ]
    }
   ],
   "source": [
    "#음수,0,양수 구분\n",
    "\n",
    "number=int(input(\"숫자를 입력하세요\"))\n",
    "\n",
    "if number>0:\n",
    "    print(\"양수입니다.\")\n",
    "if number<0:\n",
    "    print(\"음수입니다.\")\n",
    "else:\n",
    "    print(\"0입니다.\")"
   ]
  },
  {
   "cell_type": "code",
   "execution_count": 52,
   "id": "80104461-5f61-43bc-b6e2-cf52d4d231e4",
   "metadata": {},
   "outputs": [
    {
     "name": "stdin",
     "output_type": "stream",
     "text": [
      "숫자를 입력하세요 247\n"
     ]
    },
    {
     "name": "stdout",
     "output_type": "stream",
     "text": [
      "홀수입니다.\n"
     ]
    }
   ],
   "source": [
    "# 홀수, 짝수 구분\n",
    "\n",
    "number= int(input('숫자를 입력하세요'))\n",
    "\n",
    "if number%2==0:\n",
    "    print('짝수입니다.')\n",
    "else:\n",
    "    print('홀수입니다.')"
   ]
  },
  {
   "cell_type": "code",
   "execution_count": 58,
   "id": "1a71fd5c-515d-446b-8504-f8e787a7c013",
   "metadata": {},
   "outputs": [
    {
     "name": "stdin",
     "output_type": "stream",
     "text": [
      "나이를 입력하세요 55\n"
     ]
    },
    {
     "name": "stdout",
     "output_type": "stream",
     "text": [
      "장년입니다.\n"
     ]
    }
   ],
   "source": [
    "# 3의 배수로 나머지 구하기\n",
    "\n",
    "age=int(input('나이를 입력하세요'))\n",
    "\n",
    "if age<30:\n",
    "    print('청년입니다.')\n",
    "elif age<50:\n",
    "    print('중년입니다.')\n",
    "else: \n",
    "    print('장년입니다.')"
   ]
  },
  {
   "cell_type": "code",
   "execution_count": 59,
   "id": "7dde7057-949d-45da-b44d-27cde54f95d5",
   "metadata": {},
   "outputs": [
    {
     "name": "stdin",
     "output_type": "stream",
     "text": [
      "현재 기온을 입력하세요 5\n"
     ]
    },
    {
     "name": "stdout",
     "output_type": "stream",
     "text": [
      "겨울입니다.\n"
     ]
    }
   ],
   "source": [
    "#온도를 입력받아서, 30 이상: 여름, 20 이상: 가을, 10 이상: 봄, 이외는 겨울로 출력\n",
    "\n",
    "temp=int(input(\"현재 기온을 입력하세요\"))\n",
    "\n",
    "if temp>30:\n",
    "    print(\"여름입니다.\")\n",
    "elif temp>20:\n",
    "    print(\"가을입니다.\")\n",
    "elif temp>10:\n",
    "    print(\"봄입니다.\")\n",
    "else:\n",
    "    print(\"겨울입니다.\")\n"
   ]
  },
  {
   "cell_type": "code",
   "execution_count": 63,
   "id": "c0358ea2-84a0-467f-8f6b-fb3187e1d83d",
   "metadata": {},
   "outputs": [
    {
     "name": "stdout",
     "output_type": "stream",
     "text": [
      "택시를 타세요.\n"
     ]
    }
   ],
   "source": [
    "#소지품 리스트 내 소지품을 확인 후 이동수단 출력\n",
    "\n",
    "a=[\"coins\",\"bill\",'phone','card']\n",
    "if \"bills\" in a:\n",
    "    print(\"버스를 타세요.\")\n",
    "elif \"card\" in a:\n",
    "    print(\"택시를 타세요.\")\n",
    "else:\n",
    "    print(\"걸어가세요.\")"
   ]
  },
  {
   "cell_type": "code",
   "execution_count": 67,
   "id": "3d7b369b-5f28-4dcf-ac3f-ef3da515bc26",
   "metadata": {},
   "outputs": [
    {
     "name": "stdin",
     "output_type": "stream",
     "text": [
      "이름을 입력하세요 우치\n"
     ]
    },
    {
     "name": "stdout",
     "output_type": "stream",
     "text": [
      "합격입니다.\n"
     ]
    }
   ],
   "source": [
    "#소지품 리스트 내 소지품을 확인 후 이동수단 출력\n",
    "\n",
    "a=[\"coins\",\"bill\",'phone','card']\n",
    "if \"bills\" in a:\n",
    "    print(\"버스를 타세요.\")\n",
    "elif \"card\" in a:\n",
    "    print(\"택시를 타세요.\")\n",
    "else:\n",
    "    print(\"걸어가세요.\")"
   ]
  },
  {
   "cell_type": "markdown",
   "id": "6be62931-257f-4be8-8425-338b157f0a73",
   "metadata": {},
   "source": [
    "## 반복문(for)\n",
    "```\n",
    "for i in []:\n",
    "    실행될 문장\n",
    "```"
   ]
  },
  {
   "cell_type": "code",
   "execution_count": 68,
   "id": "6384b7c2-2c10-4194-98d0-3878b3fe1cf3",
   "metadata": {},
   "outputs": [
    {
     "name": "stdout",
     "output_type": "stream",
     "text": [
      "1\n",
      "2\n",
      "3\n"
     ]
    }
   ],
   "source": [
    "for i in [1,2,3]:\n",
    "    print(i)"
   ]
  },
  {
   "cell_type": "code",
   "execution_count": 79,
   "id": "01fabfbe-6eb4-4512-964b-c54f913b886c",
   "metadata": {
    "tags": []
   },
   "outputs": [
    {
     "name": "stdout",
     "output_type": "stream",
     "text": [
      "1*10=10\n",
      "2*10=20\n",
      "3*10=30\n",
      "안녕하세요\n",
      "안녕하세요\n",
      "안녕하세요\n",
      "1\n",
      "11\n",
      "Hello\n",
      "2\n",
      "12\n",
      "Hello\n",
      "3\n",
      "13\n",
      "Hello\n",
      "Bye\n"
     ]
    }
   ],
   "source": [
    "for i in [1,2,3]:\n",
    "    print(str(i)+\"*10=\"+str(i*10))\n",
    "    \n",
    "for _ in [1,2,3]:\n",
    "    print(\"안녕하세요\") \n",
    "\n",
    "for i in [1,2,3]:\n",
    "    print(i)\n",
    "    print(i+10)\n",
    "    print('Hello')\n",
    "print('Bye')"
   ]
  },
  {
   "cell_type": "code",
   "execution_count": 85,
   "id": "bfe79d23-28fb-4129-bd9c-59ac608c8b98",
   "metadata": {},
   "outputs": [
    {
     "name": "stdout",
     "output_type": "stream",
     "text": [
      "1\n",
      "2\n",
      "3\n",
      "4\n",
      "5\n",
      "6\n",
      "7\n",
      "8\n",
      "9\n",
      "10\n",
      "1\n",
      "2\n",
      "3\n",
      "4\n",
      "5\n",
      "6\n",
      "7\n",
      "8\n",
      "9\n",
      "10\n",
      "1\n",
      "3\n",
      "5\n",
      "7\n",
      "9\n"
     ]
    }
   ],
   "source": [
    "#1~10까지 출력\n",
    "\n",
    "for i  in [1,2,3,4,5,6,7,8,9,10]:\n",
    "    print(i)\n",
    "\n",
    "for i in range(11):\n",
    "    if i>0:\n",
    "        print(i)\n",
    "\n",
    "for i in range(1,11,2):      #range(끝숫자), range(시작숫자, 끝숫자,[간격])\n",
    "    print(i)\n"
   ]
  },
  {
   "cell_type": "code",
   "execution_count": 87,
   "id": "de4dea45-80dc-454e-be0d-99c5af6941a3",
   "metadata": {},
   "outputs": [
    {
     "name": "stdout",
     "output_type": "stream",
     "text": [
      "range(0, 10)\n",
      "[0, 1, 2, 3, 4, 5, 6, 7, 8, 9]\n"
     ]
    }
   ],
   "source": [
    "print(range(10))\n",
    "print(list(range(10)))"
   ]
  },
  {
   "cell_type": "code",
   "execution_count": 91,
   "id": "3d93b4a6-f0a6-47fc-9b4e-497bce355fdf",
   "metadata": {},
   "outputs": [
    {
     "name": "stdout",
     "output_type": "stream",
     "text": [
      "[1, 2, 3][0, 1, 2, 3, 4, 5, 6, 7, 8, 9]\n",
      "0,   1,   2,   3,   4,   5,   6,   7,   8,   9,   "
     ]
    }
   ],
   "source": [
    "print([1,2,3],list(range(10)),sep=\"\")\n",
    "for i in range(10):\n",
    "    print(i,end=',   ')"
   ]
  },
  {
   "cell_type": "code",
   "execution_count": 101,
   "id": "5edc1312-be45-4758-8a46-3762c11e66c3",
   "metadata": {},
   "outputs": [
    {
     "name": "stdout",
     "output_type": "stream",
     "text": [
      "1, 3, 5, 7, 9, 11, 13, 15, 17, 19, 21, 23, 25, 27, 29, 31, 33, 35, 37, 39, 41, 43, 45, 47, 49, 51, 53, 55, 57, 59, 61, 63, 65, 67, 69, 71, 73, 75, 77, 79, 81, 83, 85, 87, 89, 91, 93, 95, 97, 99, 1 3 5 7 9 11 13 15 17 19 21 23 25 27 29 31 33 35 37 39 41 43 45 47 49 51 53 55 57 59 61 63 65 67 69 71 73 75 77 79 81 83 85 87 89 91 93 95 97 99 2,  4,  6,  8,  10,  12,  14,  16,  18,  20,  22,  24,  26,  28,  30,  32,  34,  36,  38,  40,  42,  44,  46,  48,  50,  52,  54,  56,  58,  60,  62,  64,  66,  68,  70,  72,  74,  76,  78,  80,  82,  84,  86,  88,  90,  92,  94,  96,  98,  100,  2!!4!!6!!8!!10!!12!!14!!16!!18!!20!!22!!24!!26!!28!!30!!32!!34!!36!!38!!40!!42!!44!!46!!48!!50!!52!!54!!56!!58!!60!!62!!64!!66!!68!!70!!72!!74!!76!!78!!80!!82!!84!!86!!88!!90!!92!!94!!96!!98!!100!!"
     ]
    }
   ],
   "source": [
    "#100이하의 모든 홀수 출력\n",
    "for i in range(100):\n",
    "    if i%2==1:\n",
    "        print(i,end=\", \")\n",
    "        \n",
    "for i in range(1,101,2):\n",
    "    print(i,end=\" \")\n",
    "    \n",
    "#100이하의 모든 짝수\n",
    "for i in range(2,101):\n",
    "    if i%2==0:\n",
    "        print(i,end=\",  \")\n",
    "        \n",
    "for i in range(2,101,2):\n",
    "    print(i, end='!!')"
   ]
  },
  {
   "cell_type": "code",
   "execution_count": 105,
   "id": "1cc3eff4-4fbe-4664-b225-87d7a9da37ad",
   "metadata": {},
   "outputs": [
    {
     "name": "stdout",
     "output_type": "stream",
     "text": [
      "1a\n",
      "2b\n",
      "3c\n",
      "1\n",
      "2\n",
      "3\n",
      "[[0, 0], [1, 1], [2, 4], [3, 9], [4, 16], [5, 25], [6, 36], [7, 49], [8, 64], [9, 81]]\n"
     ]
    }
   ],
   "source": [
    "#순서쌍\n",
    "\n",
    "for i,j in [(1,'a'),(2,'b'),(3,'c')]:\n",
    "    print(str(i)+j)\n",
    "    \n",
    "for i in [(1,'a'),(2,'b'),(3,'c')]:\n",
    "    print(i[0])\n",
    "\n",
    "li=[]\n",
    "for i in range(10):\n",
    "    li.append([i,i**2])\n",
    "print(li)"
   ]
  },
  {
   "cell_type": "code",
   "execution_count": 124,
   "id": "f65fe994-044c-481b-8bce-210249b136d4",
   "metadata": {},
   "outputs": [
    {
     "name": "stdout",
     "output_type": "stream",
     "text": [
      "55\n"
     ]
    }
   ],
   "source": [
    "#연속된 정수의 합 구하기\n",
    "\n",
    "sum=0\n",
    "for i in range(1,11):\n",
    "    sum=sum+i\n",
    "print(sum)"
   ]
  },
  {
   "cell_type": "code",
   "execution_count": 129,
   "id": "2dd288c6-c907-4b75-a1e1-d33da340b046",
   "metadata": {},
   "outputs": [
    {
     "name": "stdout",
     "output_type": "stream",
     "text": [
      "5050\n",
      "2500\n"
     ]
    }
   ],
   "source": [
    "#1부터 100까지 합\n",
    "\n",
    "sum=0\n",
    "for i in range(1,101):\n",
    "    sum=sum+i\n",
    "print(sum)    \n",
    "\n",
    "#1부터 100까지 홀수 합\n",
    "sum=0\n",
    "for i in range(1,101):\n",
    "    if i%2==1:\n",
    "        sum=sum+i\n",
    "print(sum)"
   ]
  },
  {
   "cell_type": "code",
   "execution_count": 131,
   "id": "170819bf-6a56-4cc8-a184-346f9101a497",
   "metadata": {},
   "outputs": [
    {
     "name": "stdin",
     "output_type": "stream",
     "text": [
      "숫자를 입력하시오 55\n"
     ]
    },
    {
     "name": "stdout",
     "output_type": "stream",
     "text": [
      "1540\n"
     ]
    }
   ],
   "source": [
    "#숫자를 입력받은 수까지의 합\n",
    "\n",
    "number=int(input(\"숫자를 입력하시오\"))\n",
    "sum=0\n",
    "for i in range(number+1):\n",
    "    sum=sum+i\n",
    "print(sum)"
   ]
  },
  {
   "cell_type": "code",
   "execution_count": 134,
   "id": "4c66942f-623f-4190-8081-544ca38b8e77",
   "metadata": {},
   "outputs": [
    {
     "name": "stdin",
     "output_type": "stream",
     "text": [
      "어디부터 더할까요? 56\n",
      "어디까지 더할까요? 70\n"
     ]
    },
    {
     "name": "stdout",
     "output_type": "stream",
     "text": [
      "945\n"
     ]
    },
    {
     "name": "stdin",
     "output_type": "stream",
     "text": [
      "어디서부터 더할까요? 2\n",
      "어디까지 더할까요? 7\n"
     ]
    },
    {
     "name": "stdout",
     "output_type": "stream",
     "text": [
      "12\n"
     ]
    }
   ],
   "source": [
    "#두 수를 입력받아서 합 구하기\n",
    "number=int(input(\"어디부터 더할까요?\"))\n",
    "number2=int(input(\"어디까지 더할까요?\"))\n",
    "\n",
    "sum=0\n",
    "for i in range(number,number2+1):\n",
    "    sum=sum+i\n",
    "print(sum)\n",
    "    \n",
    "#두 수를 입력받아서 모든 짝수의 합\n",
    "number=int(input(\"어디서부터 더할까요?\"))\n",
    "number2=int(input(\"어디까지 더할까요?\"))\n",
    "sum=0\n",
    "for i in range(number,number2+1):\n",
    "    if i%2==0:\n",
    "        sum=sum+i\n",
    "print(sum)"
   ]
  },
  {
   "cell_type": "code",
   "execution_count": 136,
   "id": "d5336883-133b-4027-b0b6-a4289566ab57",
   "metadata": {},
   "outputs": [
    {
     "name": "stdout",
     "output_type": "stream",
     "text": [
      "56\n"
     ]
    }
   ],
   "source": [
    "#13~123까지 홀수의 개수는?\n",
    "\n",
    "count=0\n",
    "for i in range(13,124):\n",
    "    if i%2==1:\n",
    "        count=count+1\n",
    "    else:\n",
    "        pass\n",
    "print(count)"
   ]
  },
  {
   "cell_type": "code",
   "execution_count": 147,
   "id": "f5f6fe41-e5d2-4f6b-880b-06314b3217c1",
   "metadata": {},
   "outputs": [
    {
     "name": "stdout",
     "output_type": "stream",
     "text": [
      "1\n",
      "2\n",
      "a\n",
      "b\n",
      "c\n",
      "[1, 2, 'a', 'b', 'c']\n",
      "1 a\n",
      "1 b\n",
      "1 c\n",
      "2 a\n",
      "2 b\n",
      "2 c\n"
     ]
    }
   ],
   "source": [
    "#\n",
    "a=[[1,2],['a','b','c']]\n",
    "b=[]\n",
    "\n",
    "for i in a:\n",
    "    for j in i:\n",
    "        print(j)\n",
    "for i in a:\n",
    "    for j in i:\n",
    "        b.append(j)\n",
    "print(b)\n",
    "\n",
    "\n",
    "for num in a[0]:\n",
    "        for char in a[1]:\n",
    "            print(num, char)\n",
    "    \n",
    "    "
   ]
  },
  {
   "cell_type": "code",
   "execution_count": 160,
   "id": "78f07cae-a9c6-4567-8640-5a775990b795",
   "metadata": {},
   "outputs": [
    {
     "name": "stdout",
     "output_type": "stream",
     "text": [
      "1 1\n",
      "1 2\n",
      "1 3\n",
      "1 4\n",
      "1 5\n",
      "1 6\n",
      "2 1\n",
      "2 2\n",
      "2 3\n",
      "2 4\n",
      "2 5\n",
      "2 6\n",
      "<2단>\n",
      "2 * 1 = 2\n",
      "2 * 2 = 4\n",
      "2 * 3 = 6\n",
      "2 * 4 = 8\n",
      "2 * 5 = 10\n",
      "2 * 6 = 12\n",
      "2 * 7 = 14\n",
      "2 * 8 = 16\n",
      "2 * 9 = 18\n",
      "\n",
      "\n",
      "<3단>\n",
      "3 * 1 = 3\n",
      "3 * 2 = 6\n",
      "3 * 3 = 9\n",
      "3 * 4 = 12\n",
      "3 * 5 = 15\n",
      "3 * 6 = 18\n",
      "3 * 7 = 21\n",
      "3 * 8 = 24\n",
      "3 * 9 = 27\n",
      "\n",
      "\n",
      "<4단>\n",
      "4 * 1 = 4\n",
      "4 * 2 = 8\n",
      "4 * 3 = 12\n",
      "4 * 4 = 16\n",
      "4 * 5 = 20\n",
      "4 * 6 = 24\n",
      "4 * 7 = 28\n",
      "4 * 8 = 32\n",
      "4 * 9 = 36\n",
      "\n",
      "\n",
      "<5단>\n",
      "5 * 1 = 5\n",
      "5 * 2 = 10\n",
      "5 * 3 = 15\n",
      "5 * 4 = 20\n",
      "5 * 5 = 25\n",
      "5 * 6 = 30\n",
      "5 * 7 = 35\n",
      "5 * 8 = 40\n",
      "5 * 9 = 45\n",
      "\n",
      "\n",
      "<6단>\n",
      "6 * 1 = 6\n",
      "6 * 2 = 12\n",
      "6 * 3 = 18\n",
      "6 * 4 = 24\n",
      "6 * 5 = 30\n",
      "6 * 6 = 36\n",
      "6 * 7 = 42\n",
      "6 * 8 = 48\n",
      "6 * 9 = 54\n",
      "\n",
      "\n",
      "<7단>\n",
      "7 * 1 = 7\n",
      "7 * 2 = 14\n",
      "7 * 3 = 21\n",
      "7 * 4 = 28\n",
      "7 * 5 = 35\n",
      "7 * 6 = 42\n",
      "7 * 7 = 49\n",
      "7 * 8 = 56\n",
      "7 * 9 = 63\n",
      "\n",
      "\n",
      "<8단>\n",
      "8 * 1 = 8\n",
      "8 * 2 = 16\n",
      "8 * 3 = 24\n",
      "8 * 4 = 32\n",
      "8 * 5 = 40\n",
      "8 * 6 = 48\n",
      "8 * 7 = 56\n",
      "8 * 8 = 64\n",
      "8 * 9 = 72\n",
      "\n",
      "\n",
      "<9단>\n",
      "9 * 1 = 9\n",
      "9 * 2 = 18\n",
      "9 * 3 = 27\n",
      "9 * 4 = 36\n",
      "9 * 5 = 45\n",
      "9 * 6 = 54\n",
      "9 * 7 = 63\n",
      "9 * 8 = 72\n",
      "9 * 9 = 81\n",
      "\n",
      "\n"
     ]
    }
   ],
   "source": [
    "#구구단\n",
    "\n",
    "for i in [1,2]:\n",
    "    for j in [1,2,3,4,5,6]:\n",
    "        print(i,j)\n",
    "\n",
    "        \n",
    "for i in range(2,10):\n",
    "    print(f'<{i}단>')\n",
    "    for j in range(1,10):\n",
    "        print(f'{i} * {j} = {i*j}')\n",
    "    print(\"\\n\")\n",
    "    "
   ]
  },
  {
   "cell_type": "code",
   "execution_count": 180,
   "id": "3dae88b0-34f9-4e7f-a5cf-8d36aace4b97",
   "metadata": {},
   "outputs": [
    {
     "name": "stdout",
     "output_type": "stream",
     "text": [
      "25\n",
      "[1, 3, 5, 7, 9]\n",
      "[2, 4, 6, 8]\n",
      "[2, 4, 6, 8]\n",
      "234168\n",
      "234168\n"
     ]
    }
   ],
   "source": [
    "\n",
    "#1~1000까지 3의 배수 또는 5의 배수의 합\n",
    "\n",
    "sum=0\n",
    "for i in range(1,1001):\n",
    "    if i%3==0 or i%5==0:\n",
    "        sum+=i\n",
    "print(sum)\n",
    "\n",
    "\n",
    "sum1=0\n",
    "for i in range(1,1001):\n",
    "    if i%3==0:\n",
    "        sum1+=i\n",
    "    elif i%5==0:\n",
    "        sum1+=i\n",
    "print(sum1)\n",
    "\n"
   ]
  },
  {
   "cell_type": "markdown",
   "id": "0eb6a02a-8a73-452e-a573-725feb57d4d8",
   "metadata": {},
   "source": [
    "### -간단한 for 반복문(list comprehension)"
   ]
  },
  {
   "cell_type": "code",
   "execution_count": null,
   "id": "8f405551-783d-40d0-824f-2e030138e1f5",
   "metadata": {},
   "outputs": [],
   "source": [
    "#\n",
    "sum=0\n",
    "for i in range(1,10):\n",
    "    if i%2==1:\n",
    "        sum+=i\n",
    "print(sum)\n",
    "\n",
    "li=[]\n",
    "for i in range(1,10):\n",
    "    if i%2==1:\n",
    "        li.append(i)\n",
    "print(li)\n",
    "\n",
    "li=[]\n",
    "a=[1,2,3,4]\n",
    "for i in a:\n",
    "    li.append(i*2)\n",
    "print(li)\n",
    "\n",
    "a=[1,2,3,4]\n",
    "print([i*2 for i in a])"
   ]
  },
  {
   "cell_type": "code",
   "execution_count": 185,
   "id": "5798cc3c-2f76-4831-823c-9f2d2723327b",
   "metadata": {},
   "outputs": [
    {
     "name": "stdout",
     "output_type": "stream",
     "text": [
      "[2, 4]\n",
      "[4, 8]\n"
     ]
    }
   ],
   "source": [
    "#짝수만 두 배로 하는 리스트 만들기\n",
    "a=[1,2,3,4]\n",
    "li=[]\n",
    "for i in a:\n",
    "    if i%2==0:\n",
    "        li.append(i)\n",
    "print(li)\n",
    "\n",
    "a=[1,2,3,4]\n",
    "li=[i*2 for i in a if i%2==0]\n",
    "print(li)"
   ]
  },
  {
   "cell_type": "code",
   "execution_count": 187,
   "id": "7216913e-3a96-4e37-9bfe-2a87c9968ea9",
   "metadata": {},
   "outputs": [
    {
     "name": "stdout",
     "output_type": "stream",
     "text": [
      "79.0\n"
     ]
    }
   ],
   "source": [
    "#A학급 10명의 중간고사 평균 점수\n",
    "\n",
    "score=[70,60,55,75,95,90,80,80,85,100]\n",
    "\n",
    "sumscore=0\n",
    "for i in score:\n",
    "    sumscore+=i\n",
    "\n",
    "average=sumscore/len(score)\n",
    "print(average)"
   ]
  },
  {
   "cell_type": "markdown",
   "id": "3dca83c3-fbc1-4530-a560-219c3301855b",
   "metadata": {},
   "source": [
    "## While문\n",
    "- 조건문 + 반복문\n",
    "- 반복횟수가 정해져 있지 않을 때 사용\n",
    "\n",
    "```\n",
    "while 조건:\n",
    "    반복할 내용\n",
    "```\n"
   ]
  },
  {
   "cell_type": "code",
   "execution_count": 189,
   "id": "901f3db4-9a45-45c5-8093-88ed139e06d7",
   "metadata": {},
   "outputs": [
    {
     "data": {
      "text/plain": [
       "2"
      ]
     },
     "execution_count": 189,
     "metadata": {},
     "output_type": "execute_result"
    }
   ],
   "source": [
    "import random\n",
    "random.randint(1,9)"
   ]
  },
  {
   "cell_type": "code",
   "execution_count": 2,
   "id": "4fadc608-a69e-466e-91cb-8211dd60ab06",
   "metadata": {},
   "outputs": [
    {
     "name": "stdout",
     "output_type": "stream",
     "text": [
      "0\n",
      "10\n",
      "20\n",
      "30\n",
      "40\n",
      "50\n",
      "60\n",
      "0\n",
      "10\n",
      "20\n",
      "30\n",
      "40\n",
      "50\n",
      "60\n"
     ]
    }
   ],
   "source": [
    "a=0\n",
    "while a<7:\n",
    "    print(a*10)\n",
    "    a+=1         # ------> while문에는 꼭 이렇게 변화를 주는 문장이 들어가야함!\n",
    "    \n",
    "for i in range(7):\n",
    "    print(i*10)\n",
    "    \n"
   ]
  },
  {
   "cell_type": "code",
   "execution_count": 11,
   "id": "8a7c7f28-4202-4568-a7c5-c4c0b4c09e5b",
   "metadata": {},
   "outputs": [
    {
     "name": "stdout",
     "output_type": "stream",
     "text": [
      "0\n"
     ]
    }
   ],
   "source": [
    "import random\n",
    "random.randint(1,9)\n",
    "\n",
    "a=0\n",
    "while a<7:\n",
    "    print(a*10)\n",
    "    a=random.randint(0,10)"
   ]
  },
  {
   "cell_type": "code",
   "execution_count": 1,
   "id": "9c370b0c-5e3c-4873-82cd-0bafd688b13e",
   "metadata": {},
   "outputs": [
    {
     "name": "stdout",
     "output_type": "stream",
     "text": [
      "55\n",
      "55\n"
     ]
    }
   ],
   "source": [
    "sum=0\n",
    "for i in range(11):\n",
    "    sum+=i\n",
    "print(sum)\n",
    "\n",
    "sum=0\n",
    "i=0\n",
    "while i<11:\n",
    "    sum+=i\n",
    "    i=i+1\n",
    "print(sum)"
   ]
  },
  {
   "cell_type": "markdown",
   "id": "3a1a5f34-9419-4888-944c-6718dd0e4281",
   "metadata": {
    "tags": []
   },
   "source": [
    "### -break"
   ]
  },
  {
   "cell_type": "code",
   "execution_count": 12,
   "id": "0bc8b753-7516-4250-9408-f47234ef47e8",
   "metadata": {},
   "outputs": [
    {
     "name": "stdout",
     "output_type": "stream",
     "text": [
      "21\n"
     ]
    }
   ],
   "source": [
    "sum=0\n",
    "i=0\n",
    "while i<11:\n",
    "    sum+=i\n",
    "    i+=1\n",
    "    if i%7==0:\n",
    "        break\n",
    "print(sum)"
   ]
  },
  {
   "cell_type": "markdown",
   "id": "7495b581-17c4-4a1b-894c-5a2a5980bc88",
   "metadata": {},
   "source": [
    "### -continue"
   ]
  },
  {
   "cell_type": "markdown",
   "id": "3da0f74e-b078-4bb8-9175-e21d7f2b9f3f",
   "metadata": {},
   "source": [
    "a=0\n",
    "while a<10:\n",
    "    a+=1\n",
    "    #if a%2==0:\n",
    "    #    continue\n",
    "    print(a)\n",
    "    \n",
    "a=0\n",
    "while a<10:\n",
    "    a+=1\n",
    "    if a%2==0:\n",
    "        continue\n",
    "    print(a)\n",
    "\n",
    "a=0\n",
    "while a<10:\n",
    "    a+=1\n",
    "    if a%3==0:\n",
    "        continue\n",
    "    print(a)\n",
    "\n",
    "a=0\n",
    "sum=0\n",
    "while a<10:\n",
    "    a+=1\n",
    "    if a%3==0:\n",
    "        continue\n",
    "    sum+=a\n",
    "print(sum)\n",
    "\n"
   ]
  },
  {
   "cell_type": "code",
   "execution_count": 24,
   "id": "b444bb49-1253-4897-b238-b00307726179",
   "metadata": {},
   "outputs": [
    {
     "name": "stdout",
     "output_type": "stream",
     "text": [
      "1\n",
      "2\n",
      "3\n",
      "4\n",
      "5\n",
      "6\n",
      "7\n",
      "8\n",
      "9\n",
      "10\n"
     ]
    }
   ],
   "source": [
    "import time\n",
    "\n",
    "a=0\n",
    "while a<10:\n",
    "    a+=1\n",
    "    print(a)\n",
    "    time.sleep(2)"
   ]
  },
  {
   "cell_type": "markdown",
   "id": "55dcddf4-9dc5-41e4-bd7c-255955974f86",
   "metadata": {},
   "source": [
    "# 함수 "
   ]
  },
  {
   "cell_type": "markdown",
   "id": "60f81f83-10a9-4d9b-b575-ffd51f4676a8",
   "metadata": {},
   "source": [
    "## 함수 만들기\n",
    "```\n",
    "\n",
    "def 함수이름(매개변수):      -> (매개변수1 ,매개변수2, ....) 등 input 개수에 따라 달라짐\n",
    "    실행될 문장\n",
    "    return 변수              -> output 정해줌\n",
    "    \n",
    "```    "
   ]
  },
  {
   "cell_type": "code",
   "execution_count": 6,
   "id": "a03a5950-9f73-48d5-8cad-791850b12deb",
   "metadata": {},
   "outputs": [
    {
     "data": {
      "text/plain": [
       "10"
      ]
     },
     "execution_count": 6,
     "metadata": {},
     "output_type": "execute_result"
    }
   ],
   "source": [
    "#2배로 내놓는 함수\n",
    "def twice(a):\n",
    "    result=a*2\n",
    "    return(result)\n",
    "\n",
    "def twice(a):\n",
    "    return a*2\n",
    "\n",
    "twice(5)"
   ]
  },
  {
   "cell_type": "code",
   "execution_count": 12,
   "id": "0ecfc911-a6c4-4086-b119-4cfa741ee37f",
   "metadata": {},
   "outputs": [
    {
     "data": {
      "text/plain": [
       "8"
      ]
     },
     "execution_count": 12,
     "metadata": {},
     "output_type": "execute_result"
    }
   ],
   "source": [
    "#변수 두 개를 더해주는 함수 작성\n",
    "\n",
    "def add(a,b):\n",
    "    return a+b\n",
    "\n",
    "add(8,9)\n",
    "\n",
    "#변수 두 개를 빼주는 함수 작성\n",
    "def subtract(a,b):\n",
    "    return a-b\n",
    "\n",
    "#변수 두 개를 뺴서 절대값으로 나타나는 함수 작성\n",
    "def subtract_n(a,b):\n",
    "    if a>=b:\n",
    "        return a-b\n",
    "    else:\n",
    "        return b-a\n",
    "\n",
    "subtract(8,11)\n",
    "subtract(b=3,a=11)\n",
    "subtract_n(3,11)"
   ]
  },
  {
   "cell_type": "code",
   "execution_count": 14,
   "id": "99938d50-1bfd-492f-9dd2-297272ce74f0",
   "metadata": {},
   "outputs": [
    {
     "data": {
      "text/plain": [
       "3"
      ]
     },
     "execution_count": 14,
     "metadata": {},
     "output_type": "execute_result"
    }
   ],
   "source": [
    "#매개변수를 지정하지 않는 함수\n",
    "def test():\n",
    "    a,b=1,2\n",
    "    return a+b\n",
    "\n",
    "test()"
   ]
  },
  {
   "cell_type": "code",
   "execution_count": 22,
   "id": "bbf97b44-d3eb-477b-bcb3-ce5cb7833de3",
   "metadata": {},
   "outputs": [
    {
     "name": "stdout",
     "output_type": "stream",
     "text": [
      "홀수입니다.\n"
     ]
    }
   ],
   "source": [
    "#홀수, 짝수임을 알려주는 함수 \n",
    "def odd_even(i):\n",
    "    if i%2==0:\n",
    "        return (\"짝수입니다.\")\n",
    "    else:\n",
    "        return (\"홀수입니다.\")\n",
    "\n",
    "odd_even(5)"
   ]
  },
  {
   "cell_type": "markdown",
   "id": "2a7473db-ed53-4e83-b00d-2c817ab63536",
   "metadata": {},
   "source": [
    "### - return과 print"
   ]
  },
  {
   "cell_type": "code",
   "execution_count": 26,
   "id": "93352b78-34bf-4217-84a1-9befc5fdb5e0",
   "metadata": {},
   "outputs": [],
   "source": [
    "def func_r(a):\n",
    "    result=a*2\n",
    "    return result\n",
    "\n",
    "def func_p(a):\n",
    "    result=a*2\n",
    "    print(result)\n"
   ]
  },
  {
   "cell_type": "code",
   "execution_count": 24,
   "id": "bdee4b92-b31c-49ba-821b-48b278743054",
   "metadata": {},
   "outputs": [
    {
     "data": {
      "text/plain": [
       "6"
      ]
     },
     "execution_count": 24,
     "metadata": {},
     "output_type": "execute_result"
    }
   ],
   "source": [
    "func_r(3)"
   ]
  },
  {
   "cell_type": "code",
   "execution_count": 25,
   "id": "25ec4bdb-0841-4dd8-8cc6-386a8c7a275b",
   "metadata": {},
   "outputs": [
    {
     "name": "stdout",
     "output_type": "stream",
     "text": [
      "6\n"
     ]
    }
   ],
   "source": [
    "func_p(3)"
   ]
  },
  {
   "cell_type": "code",
   "execution_count": 27,
   "id": "32540cb0-dbd9-44fe-a8f8-bf5d32b3824e",
   "metadata": {},
   "outputs": [
    {
     "data": {
      "text/plain": [
       "12"
      ]
     },
     "execution_count": 27,
     "metadata": {},
     "output_type": "execute_result"
    }
   ],
   "source": [
    "r=func_r(3)\n",
    "r*2"
   ]
  },
  {
   "cell_type": "code",
   "execution_count": 30,
   "id": "d8ee2946-67f0-4fb9-a499-53aaf1ad09d4",
   "metadata": {},
   "outputs": [
    {
     "name": "stdout",
     "output_type": "stream",
     "text": [
      "6\n"
     ]
    },
    {
     "ename": "TypeError",
     "evalue": "unsupported operand type(s) for *: 'NoneType' and 'int'",
     "output_type": "error",
     "traceback": [
      "\u001b[1;31m---------------------------------------------------------------------------\u001b[0m",
      "\u001b[1;31mTypeError\u001b[0m                                 Traceback (most recent call last)",
      "\u001b[1;32m<ipython-input-30-ba1788aaf155>\u001b[0m in \u001b[0;36m<module>\u001b[1;34m\u001b[0m\n\u001b[0;32m      1\u001b[0m \u001b[0mp\u001b[0m\u001b[1;33m=\u001b[0m\u001b[0mfunc_p\u001b[0m\u001b[1;33m(\u001b[0m\u001b[1;36m3\u001b[0m\u001b[1;33m)\u001b[0m\u001b[1;33m\u001b[0m\u001b[1;33m\u001b[0m\u001b[0m\n\u001b[1;32m----> 2\u001b[1;33m \u001b[0mp\u001b[0m\u001b[1;33m*\u001b[0m\u001b[1;36m2\u001b[0m\u001b[1;33m\u001b[0m\u001b[1;33m\u001b[0m\u001b[0m\n\u001b[0m",
      "\u001b[1;31mTypeError\u001b[0m: unsupported operand type(s) for *: 'NoneType' and 'int'"
     ]
    }
   ],
   "source": [
    "p=func_p(3)\n",
    "p*2"
   ]
  },
  {
   "cell_type": "code",
   "execution_count": 32,
   "id": "e066cbde-8fa2-4c37-a9b6-b812323c7f5f",
   "metadata": {},
   "outputs": [
    {
     "name": "stdout",
     "output_type": "stream",
     "text": [
      "None\n"
     ]
    }
   ],
   "source": [
    "print(p)"
   ]
  },
  {
   "cell_type": "code",
   "execution_count": 39,
   "id": "5c14c99a-0a77-4bee-8f46-2b55c51d2fff",
   "metadata": {},
   "outputs": [
    {
     "name": "stdout",
     "output_type": "stream",
     "text": [
      "22\n",
      "13\n",
      "14\n"
     ]
    }
   ],
   "source": [
    "#매개변수의 default값 지정\n",
    "\n",
    "def add(a,b,c=10):\n",
    "    return a+b+c\n",
    "\n",
    "print(add(5,7))\n",
    "print(add(5,7,1))\n",
    "print(add(c=1,a=8,b=5))"
   ]
  },
  {
   "cell_type": "code",
   "execution_count": 95,
   "id": "f5ebe0f2-6e21-4e21-9fb8-72a6bb09eb59",
   "metadata": {},
   "outputs": [
    {
     "name": "stdout",
     "output_type": "stream",
     "text": [
      "나의 이름은 앪입니다.\n",
      "나이는 28살입니다.\n",
      "국적은 한국입니다.\n"
     ]
    }
   ],
   "source": [
    "#연습\n",
    "#say_myself('홍길동', 27) 입력시, 함수 작성\n",
    "#나의 이름은 홍길동입니다.\n",
    "#나이는 27살입니다.\n",
    "#국적은 한국입니다.\n",
    "\n",
    "def say_myself_t(name,age,nation='한국'):\n",
    "    print(f\"나의 이름은 {name}입니다.\\n나이는 {age}살입니다.\\n국적은 {nation}입니다.\")\n",
    "    \n",
    "say_myself_t('앪',28,'한국')"
   ]
  },
  {
   "cell_type": "code",
   "execution_count": 87,
   "id": "eb18c1e5-e312-4a32-bf3d-83e47b747cff",
   "metadata": {},
   "outputs": [
    {
     "data": {
      "text/plain": [
       "'저의 이름은앪입니다.\\n나이는 28살입니다.\\n국적은 한국입니다.'"
      ]
     },
     "execution_count": 87,
     "metadata": {},
     "output_type": "execute_result"
    }
   ],
   "source": [
    "def say_me(name,age,nation='한국'):\n",
    "    a='저의 이름은' + name + '입니다.'+'\\n' +'나이는 ' +  str(age) + '살입니다.'+'\\n' + '국적은 '+ nation + '입니다.'\n",
    "    return a\n",
    "\n",
    "say_me('앪',28)"
   ]
  },
  {
   "cell_type": "code",
   "execution_count": 70,
   "id": "44271b01-6558-4d1a-93b7-ba14d6781744",
   "metadata": {},
   "outputs": [
    {
     "name": "stdout",
     "output_type": "stream",
     "text": [
      "나의 이름은 홍길동입니다.\n",
      "나이는 54살입니다.\n",
      "국적은 한국입니다.\n"
     ]
    }
   ],
   "source": [
    "#가운데 매개변수를 default값을 주지 않음\n",
    "\n",
    "say_myself_t('홍길동',54)"
   ]
  },
  {
   "cell_type": "markdown",
   "id": "7e119cb7-b54a-42c0-97d0-b656934f3044",
   "metadata": {},
   "source": [
    "### -입력값의 개수가 정해지지 않은 경우"
   ]
  },
  {
   "cell_type": "code",
   "execution_count": 76,
   "id": "358a765d-40f7-4419-b83f-7c7ee3edfc18",
   "metadata": {},
   "outputs": [
    {
     "name": "stdout",
     "output_type": "stream",
     "text": [
      "1\n",
      "2\n",
      "3\n",
      "4\n",
      "5\n",
      "6\n",
      "7\n",
      "8\n",
      "9\n",
      "10\n"
     ]
    },
    {
     "data": {
      "text/plain": [
       "55"
      ]
     },
     "execution_count": 76,
     "metadata": {},
     "output_type": "execute_result"
    }
   ],
   "source": [
    "def add_many(*a):\n",
    "    sum=0\n",
    "    for i in a:\n",
    "        print(i)\n",
    "        sum+=i\n",
    "    return sum\n",
    "\n",
    "add_many(1,2,3,4,5,6,7,8,9,10)"
   ]
  },
  {
   "cell_type": "code",
   "execution_count": 79,
   "id": "a027351f-05f5-478d-9a7b-b455d6c6bfd1",
   "metadata": {},
   "outputs": [
    {
     "name": "stdout",
     "output_type": "stream",
     "text": [
      "{'a': 1, 'name': 'foo', 'age': 55}\n"
     ]
    }
   ],
   "source": [
    "def print_kwargs(**kwargs):\n",
    "    print(kwargs)\n",
    "    \n",
    "print_kwargs(a=1, name=\"foo\", age=55)"
   ]
  },
  {
   "cell_type": "code",
   "execution_count": 82,
   "id": "26c3921c-4b87-468a-92ac-cf01d98eb500",
   "metadata": {},
   "outputs": [
    {
     "data": {
      "text/plain": [
       "15"
      ]
     },
     "execution_count": 82,
     "metadata": {},
     "output_type": "execute_result"
    }
   ],
   "source": [
    "def add_mul(choice,*args):\n",
    "    \n",
    "    if choice=='add':\n",
    "        sum=0\n",
    "        for i in args:\n",
    "            sum+=i\n",
    "    \n",
    "    elif choice=='mul':\n",
    "        sum=0\n",
    "        for i in args:\n",
    "            sum*=i\n",
    "    \n",
    "    return sum\n",
    "\n",
    "add_mul('add',1,2,3,4,5)"
   ]
  },
  {
   "cell_type": "code",
   "execution_count": 92,
   "id": "6769870a-9f6a-4440-a10f-6adab3cbbe49",
   "metadata": {},
   "outputs": [
    {
     "data": {
      "text/plain": [
       "(5, 6)"
      ]
     },
     "execution_count": 92,
     "metadata": {},
     "output_type": "execute_result"
    }
   ],
   "source": [
    "def add_and_multi(a,b):\n",
    "    return a+b, a*b\n",
    "\n",
    "add_and_multi(2,3)"
   ]
  },
  {
   "cell_type": "code",
   "execution_count": 99,
   "id": "43fd636b-b85a-483a-8d99-0d274540a9e6",
   "metadata": {},
   "outputs": [
    {
     "name": "stdout",
     "output_type": "stream",
     "text": [
      "5 6\n",
      "5 6\n"
     ]
    }
   ],
   "source": [
    "#unpacking(언패킹)\n",
    "\n",
    "(c,d)=add_and_multi(2,3)\n",
    "print(c,d)\n",
    "c,d=add_and_multi(2,3)\n",
    "print(c,d)"
   ]
  },
  {
   "cell_type": "code",
   "execution_count": 105,
   "id": "af5a1f03-0f63-4dbe-850c-54e6441c9812",
   "metadata": {},
   "outputs": [],
   "source": [
    "#함수 안의 매개변수를 함수 밖에서도 변수로 사용할 때\n",
    "\n",
    "def add_many(*args):\n",
    "    sum=0\n",
    "    for i in args:\n",
    "        sum+=i\n",
    "    return sum"
   ]
  },
  {
   "cell_type": "code",
   "execution_count": 106,
   "id": "20a04490-a783-4ea9-8b6a-e13f09cf9ca4",
   "metadata": {},
   "outputs": [
    {
     "data": {
      "text/plain": [
       "10"
      ]
     },
     "execution_count": 106,
     "metadata": {},
     "output_type": "execute_result"
    }
   ],
   "source": [
    "add_many(1,2,3,4)"
   ]
  },
  {
   "cell_type": "code",
   "execution_count": 112,
   "id": "840aa54b-be89-4d38-9b9b-8cb28b92eb8e",
   "metadata": {},
   "outputs": [
    {
     "name": "stdout",
     "output_type": "stream",
     "text": [
      "1\n",
      "2\n",
      "1\n"
     ]
    }
   ],
   "source": [
    "a=1\n",
    "def vartest(a):\n",
    "    a=a+1\n",
    "    return a\n",
    "\n",
    "print(a)\n",
    "print(vartest(a))\n",
    "print(a)"
   ]
  },
  {
   "cell_type": "code",
   "execution_count": 113,
   "id": "4784a847-0e23-4d84-bcef-a767c18711ed",
   "metadata": {},
   "outputs": [
    {
     "name": "stdout",
     "output_type": "stream",
     "text": [
      "140707953452880\n"
     ]
    }
   ],
   "source": [
    "a=1\n",
    "def vartest(b):\n",
    "    a=b+1\n",
    "    print(id(a))\n",
    "\n",
    "vartest(1)"
   ]
  },
  {
   "cell_type": "code",
   "execution_count": 114,
   "id": "eafe5108-1fdc-4497-90ac-8f5f9a314628",
   "metadata": {},
   "outputs": [
    {
     "data": {
      "text/plain": [
       "140707953452848"
      ]
     },
     "execution_count": 114,
     "metadata": {},
     "output_type": "execute_result"
    }
   ],
   "source": [
    "id(a)"
   ]
  },
  {
   "cell_type": "markdown",
   "id": "6977a112-bad4-4beb-9133-289b7b5a0dea",
   "metadata": {},
   "source": [
    "### - 변수의 적용 범위(scope)"
   ]
  },
  {
   "cell_type": "code",
   "execution_count": 116,
   "id": "4517c00c-6845-4a46-a432-4011f5f0d748",
   "metadata": {},
   "outputs": [
    {
     "name": "stdout",
     "output_type": "stream",
     "text": [
      "1\n",
      "3\n"
     ]
    }
   ],
   "source": [
    "#함수 밖의 변수를 함수 내에서 사용하고 싶을 때\n",
    "\n",
    "a=1\n",
    "def vartest(b):\n",
    "    global a\n",
    "    a=b+1\n",
    "\n",
    "print(a)\n",
    "vartest(2)\n",
    "print(a)"
   ]
  },
  {
   "cell_type": "code",
   "execution_count": 126,
   "id": "eecaa2b9-1e96-4f5d-aa82-612f870d4012",
   "metadata": {},
   "outputs": [
    {
     "name": "stdout",
     "output_type": "stream",
     "text": [
      "1 10\n",
      "2 20\n",
      "3 30\n",
      "10\n",
      "20\n",
      "30\n",
      "(1, '철수')\n",
      "(2, '영희')\n",
      "(3, '금숙')\n"
     ]
    }
   ],
   "source": [
    "d={1:10,2:20,3:30}\n",
    "for i,j in d.items():\n",
    "    print(i,j)\n",
    "    \n",
    "l=[10,20,30]\n",
    "for i in l:\n",
    "    print (i)\n",
    "    \n",
    "    \n",
    "li=['철수','영희','금숙']\n",
    "objs=enumerate(li,start=1)       #range(4) --> range(0,4)로 출력되는 것과 같음\n",
    "\n",
    "for i in objs:\n",
    "    print(i)\n"
   ]
  },
  {
   "cell_type": "markdown",
   "id": "dce666eb-8f24-4ed5-8a30-1faa07fd434b",
   "metadata": {},
   "source": [
    "## 람다함수"
   ]
  },
  {
   "cell_type": "code",
   "execution_count": 128,
   "id": "775056f4-d991-4c2f-b308-cd302e746704",
   "metadata": {},
   "outputs": [
    {
     "data": {
      "text/plain": [
       "6"
      ]
     },
     "execution_count": 128,
     "metadata": {},
     "output_type": "execute_result"
    }
   ],
   "source": [
    "#예시1\n",
    "def twice(x):\n",
    "    return x*2\n",
    "\n",
    "twice(3)"
   ]
  },
  {
   "cell_type": "code",
   "execution_count": 129,
   "id": "a58628a3-bffa-42be-8e25-bb6875feaf59",
   "metadata": {},
   "outputs": [
    {
     "data": {
      "text/plain": [
       "<function __main__.<lambda>(x)>"
      ]
     },
     "execution_count": 129,
     "metadata": {},
     "output_type": "execute_result"
    }
   ],
   "source": [
    "lambda x: x*2"
   ]
  },
  {
   "cell_type": "code",
   "execution_count": 130,
   "id": "29649faf-305f-48e5-a140-781b8af5ad0d",
   "metadata": {},
   "outputs": [
    {
     "data": {
      "text/plain": [
       "6"
      ]
     },
     "execution_count": 130,
     "metadata": {},
     "output_type": "execute_result"
    }
   ],
   "source": [
    "(lambda x: x*2)(3)"
   ]
  },
  {
   "cell_type": "code",
   "execution_count": 131,
   "id": "a1592444-1624-41a2-88ae-eb2f3fcca8de",
   "metadata": {},
   "outputs": [
    {
     "data": {
      "text/plain": [
       "5"
      ]
     },
     "execution_count": 131,
     "metadata": {},
     "output_type": "execute_result"
    }
   ],
   "source": [
    "#예시2\n",
    "def add(a,b):\n",
    "    returna+b\n",
    "    \n",
    "#람다함수화\n",
    "(lambda x,y: x+y) (2,3)"
   ]
  },
  {
   "cell_type": "code",
   "execution_count": 135,
   "id": "f72c1a6c-6d2c-4154-9db5-79d7bdf9bf00",
   "metadata": {},
   "outputs": [
    {
     "data": {
      "text/plain": [
       "6"
      ]
     },
     "execution_count": 135,
     "metadata": {},
     "output_type": "execute_result"
    }
   ],
   "source": [
    "twice= lambda x:x*2\n",
    "twice(3)"
   ]
  },
  {
   "cell_type": "code",
   "execution_count": 136,
   "id": "89d448b1-e409-4485-ad2c-ed592086600f",
   "metadata": {},
   "outputs": [
    {
     "data": {
      "text/plain": [
       "5"
      ]
     },
     "execution_count": 136,
     "metadata": {},
     "output_type": "execute_result"
    }
   ],
   "source": [
    "add=lambda x,y:x+y\n",
    "add(2,3)"
   ]
  },
  {
   "cell_type": "code",
   "execution_count": 138,
   "id": "7abf765a-1f05-48f7-b3d2-48ddd24087c7",
   "metadata": {},
   "outputs": [
    {
     "name": "stdout",
     "output_type": "stream",
     "text": [
      "44\n",
      "64\n",
      "11\n",
      "3\n"
     ]
    }
   ],
   "source": [
    "def twice(num):\n",
    "    return num*2\n",
    "print(twice(22))\n",
    "\n",
    "twice= lambda x: x*2\n",
    "print(twice(32))\n",
    "\n",
    "def add(a,b):\n",
    "    return a+b\n",
    "print(add(5,6))\n",
    "\n",
    "add=lambda x,y: x+y\n",
    "print(add(1,2))"
   ]
  },
  {
   "cell_type": "code",
   "execution_count": 143,
   "id": "97ce9d50-af43-4239-98c9-2334e82759b2",
   "metadata": {},
   "outputs": [
    {
     "data": {
      "text/plain": [
       "'6는 짝수입니다.'"
      ]
     },
     "execution_count": 143,
     "metadata": {},
     "output_type": "execute_result"
    }
   ],
   "source": [
    "#홀수 짝수 함수 만들기\n",
    "def odd_even(a):\n",
    "    if a%2==0:\n",
    "        return f'{a}은/는 짝수입니다.'\n",
    "    else:\n",
    "        return \"홀수\"\n",
    "\n",
    "odd_even(6)"
   ]
  },
  {
   "cell_type": "code",
   "execution_count": 147,
   "id": "a93f4ed3-1d72-4fec-be94-c4250ad27003",
   "metadata": {},
   "outputs": [
    {
     "data": {
      "text/plain": [
       "'노년'"
      ]
     },
     "execution_count": 147,
     "metadata": {},
     "output_type": "execute_result"
    }
   ],
   "source": [
    "#세대 함수 만들기\n",
    "def generation(a):\n",
    "    if a<30:\n",
    "        return \"청년\"\n",
    "    elif a<60:\n",
    "        return \"중년\"\n",
    "    else:\n",
    "        return \"노년\"\n",
    "    \n",
    "generation(65)"
   ]
  },
  {
   "cell_type": "code",
   "execution_count": 148,
   "id": "9c986740-5773-4f7e-9341-543d6b4d44a5",
   "metadata": {},
   "outputs": [
    {
     "data": {
      "text/plain": [
       "'pass'"
      ]
     },
     "execution_count": 148,
     "metadata": {},
     "output_type": "execute_result"
    }
   ],
   "source": [
    "#합격자 불합격자 함수 만들기\n",
    "\n",
    "names=['철수','영희','전우치','홍길동']\n",
    "\n",
    "def passman(name):\n",
    "    if name in names:\n",
    "        return \"pass\"\n",
    "    else:\n",
    "        return \"non-pass\"\n",
    "\n",
    "passman('철수')\n"
   ]
  },
  {
   "cell_type": "code",
   "execution_count": 152,
   "id": "45b14aae-3b65-4c0a-9496-96b2ca8827dc",
   "metadata": {},
   "outputs": [
    {
     "data": {
      "text/plain": [
       "2500"
      ]
     },
     "execution_count": 152,
     "metadata": {},
     "output_type": "execute_result"
    }
   ],
   "source": [
    "#1~100 모든 홀수의 합\n",
    " \n",
    "def total_odd():\n",
    "    sum=0\n",
    "    for i in range(1,101):    \n",
    "        if i%2==1:\n",
    "            sum+=i\n",
    "    return(sum)\n",
    "\n",
    "total_odd()"
   ]
  },
  {
   "cell_type": "code",
   "execution_count": 155,
   "id": "c1946647-dfc1-4417-a16f-9928afcbdf45",
   "metadata": {},
   "outputs": [
    {
     "data": {
      "text/plain": [
       "55"
      ]
     },
     "execution_count": 155,
     "metadata": {},
     "output_type": "execute_result"
    }
   ],
   "source": [
    "#입력받은 수까지 합\n",
    "\n",
    "def total(a):\n",
    "    sum=0\n",
    "    for i in range(0,a+1):\n",
    "        sum+=i\n",
    "    return(sum)\n",
    "\n",
    "total(10)"
   ]
  },
  {
   "cell_type": "code",
   "execution_count": 154,
   "id": "f69ebff7-c22c-4b98-83f3-6d5af0a9d59e",
   "metadata": {},
   "outputs": [
    {
     "data": {
      "text/plain": [
       "10"
      ]
     },
     "execution_count": 154,
     "metadata": {},
     "output_type": "execute_result"
    }
   ],
   "source": [
    "#입력 받은 두 수 내의 합\n",
    "\n",
    "def total_ab(a,b):\n",
    "    sum=0\n",
    "    for i in range(a,b+1):\n",
    "        sum+=i\n",
    "    return(sum)\n",
    "total_ab(1,4)"
   ]
  },
  {
   "cell_type": "code",
   "execution_count": 158,
   "id": "f6597410-0dc1-4160-9df4-58b94d24e230",
   "metadata": {},
   "outputs": [
    {
     "name": "stdout",
     "output_type": "stream",
     "text": [
      "0 1 1 2 3 \n"
     ]
    }
   ],
   "source": [
    "#Fibonacci series\n",
    "\n",
    "def fib(n):\n",
    "    a,b=0,1\n",
    "    while a<n:\n",
    "        print(a,end=\" \")\n",
    "        a,b=b,a+b\n",
    "    print()\n",
    "\n",
    "fib(5)"
   ]
  },
  {
   "cell_type": "markdown",
   "id": "f891610d-ae65-48c1-81a1-754a255b5ad8",
   "metadata": {},
   "source": [
    "## 재귀함수"
   ]
  },
  {
   "cell_type": "code",
   "execution_count": 160,
   "id": "87abdb89-20a9-4ae3-834a-b13b6ee4e10f",
   "metadata": {},
   "outputs": [
    {
     "name": "stdout",
     "output_type": "stream",
     "text": [
      "Hello\n",
      "Hello\n",
      "Hello\n",
      "Hello\n"
     ]
    },
    {
     "ename": "KeyboardInterrupt",
     "evalue": "",
     "output_type": "error",
     "traceback": [
      "\u001b[1;31m---------------------------------------------------------------------------\u001b[0m",
      "\u001b[1;31mKeyboardInterrupt\u001b[0m                         Traceback (most recent call last)",
      "\u001b[1;32m<ipython-input-160-1a304a0e9af2>\u001b[0m in \u001b[0;36m<module>\u001b[1;34m\u001b[0m\n\u001b[0;32m      6\u001b[0m     \u001b[0mHello\u001b[0m\u001b[1;33m(\u001b[0m\u001b[1;33m)\u001b[0m\u001b[1;33m\u001b[0m\u001b[1;33m\u001b[0m\u001b[0m\n\u001b[0;32m      7\u001b[0m \u001b[1;33m\u001b[0m\u001b[0m\n\u001b[1;32m----> 8\u001b[1;33m \u001b[0mHello\u001b[0m\u001b[1;33m(\u001b[0m\u001b[1;33m)\u001b[0m\u001b[1;33m\u001b[0m\u001b[1;33m\u001b[0m\u001b[0m\n\u001b[0m",
      "\u001b[1;32m<ipython-input-160-1a304a0e9af2>\u001b[0m in \u001b[0;36mHello\u001b[1;34m()\u001b[0m\n\u001b[0;32m      4\u001b[0m     \u001b[0mprint\u001b[0m\u001b[1;33m(\u001b[0m\u001b[1;34m\"Hello\"\u001b[0m\u001b[1;33m)\u001b[0m\u001b[1;33m\u001b[0m\u001b[1;33m\u001b[0m\u001b[0m\n\u001b[0;32m      5\u001b[0m     \u001b[0mtime\u001b[0m\u001b[1;33m.\u001b[0m\u001b[0msleep\u001b[0m\u001b[1;33m(\u001b[0m\u001b[1;36m1\u001b[0m\u001b[1;33m)\u001b[0m\u001b[1;33m\u001b[0m\u001b[1;33m\u001b[0m\u001b[0m\n\u001b[1;32m----> 6\u001b[1;33m     \u001b[0mHello\u001b[0m\u001b[1;33m(\u001b[0m\u001b[1;33m)\u001b[0m\u001b[1;33m\u001b[0m\u001b[1;33m\u001b[0m\u001b[0m\n\u001b[0m\u001b[0;32m      7\u001b[0m \u001b[1;33m\u001b[0m\u001b[0m\n\u001b[0;32m      8\u001b[0m \u001b[0mHello\u001b[0m\u001b[1;33m(\u001b[0m\u001b[1;33m)\u001b[0m\u001b[1;33m\u001b[0m\u001b[1;33m\u001b[0m\u001b[0m\n",
      "\u001b[1;32m<ipython-input-160-1a304a0e9af2>\u001b[0m in \u001b[0;36mHello\u001b[1;34m()\u001b[0m\n\u001b[0;32m      4\u001b[0m     \u001b[0mprint\u001b[0m\u001b[1;33m(\u001b[0m\u001b[1;34m\"Hello\"\u001b[0m\u001b[1;33m)\u001b[0m\u001b[1;33m\u001b[0m\u001b[1;33m\u001b[0m\u001b[0m\n\u001b[0;32m      5\u001b[0m     \u001b[0mtime\u001b[0m\u001b[1;33m.\u001b[0m\u001b[0msleep\u001b[0m\u001b[1;33m(\u001b[0m\u001b[1;36m1\u001b[0m\u001b[1;33m)\u001b[0m\u001b[1;33m\u001b[0m\u001b[1;33m\u001b[0m\u001b[0m\n\u001b[1;32m----> 6\u001b[1;33m     \u001b[0mHello\u001b[0m\u001b[1;33m(\u001b[0m\u001b[1;33m)\u001b[0m\u001b[1;33m\u001b[0m\u001b[1;33m\u001b[0m\u001b[0m\n\u001b[0m\u001b[0;32m      7\u001b[0m \u001b[1;33m\u001b[0m\u001b[0m\n\u001b[0;32m      8\u001b[0m \u001b[0mHello\u001b[0m\u001b[1;33m(\u001b[0m\u001b[1;33m)\u001b[0m\u001b[1;33m\u001b[0m\u001b[1;33m\u001b[0m\u001b[0m\n",
      "\u001b[1;32m<ipython-input-160-1a304a0e9af2>\u001b[0m in \u001b[0;36mHello\u001b[1;34m()\u001b[0m\n\u001b[0;32m      4\u001b[0m     \u001b[0mprint\u001b[0m\u001b[1;33m(\u001b[0m\u001b[1;34m\"Hello\"\u001b[0m\u001b[1;33m)\u001b[0m\u001b[1;33m\u001b[0m\u001b[1;33m\u001b[0m\u001b[0m\n\u001b[0;32m      5\u001b[0m     \u001b[0mtime\u001b[0m\u001b[1;33m.\u001b[0m\u001b[0msleep\u001b[0m\u001b[1;33m(\u001b[0m\u001b[1;36m1\u001b[0m\u001b[1;33m)\u001b[0m\u001b[1;33m\u001b[0m\u001b[1;33m\u001b[0m\u001b[0m\n\u001b[1;32m----> 6\u001b[1;33m     \u001b[0mHello\u001b[0m\u001b[1;33m(\u001b[0m\u001b[1;33m)\u001b[0m\u001b[1;33m\u001b[0m\u001b[1;33m\u001b[0m\u001b[0m\n\u001b[0m\u001b[0;32m      7\u001b[0m \u001b[1;33m\u001b[0m\u001b[0m\n\u001b[0;32m      8\u001b[0m \u001b[0mHello\u001b[0m\u001b[1;33m(\u001b[0m\u001b[1;33m)\u001b[0m\u001b[1;33m\u001b[0m\u001b[1;33m\u001b[0m\u001b[0m\n",
      "\u001b[1;32m<ipython-input-160-1a304a0e9af2>\u001b[0m in \u001b[0;36mHello\u001b[1;34m()\u001b[0m\n\u001b[0;32m      3\u001b[0m \u001b[1;32mdef\u001b[0m \u001b[0mHello\u001b[0m\u001b[1;33m(\u001b[0m\u001b[1;33m)\u001b[0m\u001b[1;33m:\u001b[0m\u001b[1;33m\u001b[0m\u001b[1;33m\u001b[0m\u001b[0m\n\u001b[0;32m      4\u001b[0m     \u001b[0mprint\u001b[0m\u001b[1;33m(\u001b[0m\u001b[1;34m\"Hello\"\u001b[0m\u001b[1;33m)\u001b[0m\u001b[1;33m\u001b[0m\u001b[1;33m\u001b[0m\u001b[0m\n\u001b[1;32m----> 5\u001b[1;33m     \u001b[0mtime\u001b[0m\u001b[1;33m.\u001b[0m\u001b[0msleep\u001b[0m\u001b[1;33m(\u001b[0m\u001b[1;36m1\u001b[0m\u001b[1;33m)\u001b[0m\u001b[1;33m\u001b[0m\u001b[1;33m\u001b[0m\u001b[0m\n\u001b[0m\u001b[0;32m      6\u001b[0m     \u001b[0mHello\u001b[0m\u001b[1;33m(\u001b[0m\u001b[1;33m)\u001b[0m\u001b[1;33m\u001b[0m\u001b[1;33m\u001b[0m\u001b[0m\n\u001b[0;32m      7\u001b[0m \u001b[1;33m\u001b[0m\u001b[0m\n",
      "\u001b[1;31mKeyboardInterrupt\u001b[0m: "
     ]
    }
   ],
   "source": [
    "import time\n",
    "\n",
    "def Hello():\n",
    "    print(\"Hello\")\n",
    "    time.sleep(1)    \n",
    "    Hello()\n",
    "\n",
    "Hello()\n"
   ]
  },
  {
   "cell_type": "code",
   "execution_count": 162,
   "id": "b0980d0f-d027-4161-93e1-0e4b9ee4facb",
   "metadata": {},
   "outputs": [
    {
     "name": "stdout",
     "output_type": "stream",
     "text": [
      "Hello\n",
      "Hello\n",
      "Hello\n",
      "Hello\n",
      "Hello\n"
     ]
    }
   ],
   "source": [
    "#중간에 무한루프 끝내기\n",
    "\n",
    "def Hello(count):\n",
    "    if count == 0:\n",
    "        return\n",
    "    print(\"Hello\")\n",
    "    count-=1\n",
    "    time.sleep(1)    \n",
    "    Hello(count)\n",
    "\n",
    "Hello(5)"
   ]
  },
  {
   "cell_type": "code",
   "execution_count": 168,
   "id": "cdd4f7b6-4028-4e6a-9164-f8d82e30b13c",
   "metadata": {},
   "outputs": [
    {
     "data": {
      "text/plain": [
       "120"
      ]
     },
     "execution_count": 168,
     "metadata": {},
     "output_type": "execute_result"
    }
   ],
   "source": [
    "#팩토리얼 함수 만들기\n",
    "#점화식 f(n)=n*f(n-1)\n",
    "\n",
    "def fac(n):\n",
    "    fac_tot=1\n",
    "    for i in range(1,n+1):\n",
    "        fac_tot*=i\n",
    "    return fac_tot\n",
    "\n",
    "fac(4)\n",
    "\n",
    "\n",
    "def f(n):\n",
    "    if n==1:\n",
    "        return 1\n",
    "    return n*f(n-1)\n",
    "\n",
    "f(5)"
   ]
  },
  {
   "cell_type": "code",
   "execution_count": 185,
   "id": "3b905532-9c32-4d26-9ba1-02b8528df9f1",
   "metadata": {},
   "outputs": [
    {
     "name": "stdout",
     "output_type": "stream",
     "text": [
      "1 1 2 3 5 8 13 21 34 55 0 1 1 2 3 5 8 13 21 34 "
     ]
    }
   ],
   "source": [
    "#Fibonacci 수열을 재귀함수를 가지고 만들기\n",
    "#점화식: f(n)=f(n-2)+f(n-1)\n",
    "\n",
    "def fib(n):\n",
    "    if n==1:\n",
    "        return 1\n",
    "    elif n==2:\n",
    "        return 1\n",
    "    return fib(n-2)+fib(n-1)\n",
    "\n",
    "fib(10)\n",
    "\n",
    "for i in range(1,11):\n",
    "    print(fib(i), end=\" \")    \n",
    "    \n",
    "    \n",
    "def fib(n):\n",
    "    if n==1:\n",
    "        return 0\n",
    "    elif n==2:\n",
    "        return 1\n",
    "    return fib(n-2)+fib(n-1)\n",
    "\n",
    "fib(10)\n",
    "\n",
    "for i in range(1,11):\n",
    "    print(fib(i), end=\" \")    "
   ]
  },
  {
   "cell_type": "markdown",
   "id": "7a69b8cd-3926-4807-b33a-bba06f2b0798",
   "metadata": {},
   "source": [
    "# 파일 입출력(File I/O)"
   ]
  },
  {
   "cell_type": "markdown",
   "id": "59bb23dd-51ce-4f19-b253-be26ab7eb60f",
   "metadata": {},
   "source": [
    "## 파일 만들기"
   ]
  },
  {
   "cell_type": "code",
   "execution_count": 186,
   "id": "8f051a59-90fe-45aa-9c77-2560e2814307",
   "metadata": {},
   "outputs": [],
   "source": [
    "#파일 만들기\n",
    "\n",
    "f=open('test.txt','w')     #default 위치: c\\사용자\\admin\n",
    "f.write('안녕하세요^3^')\n",
    "f.close()"
   ]
  },
  {
   "cell_type": "code",
   "execution_count": 193,
   "id": "873cf4e7-e2bd-4509-83d3-9a9bf829524d",
   "metadata": {},
   "outputs": [],
   "source": [
    "f=open('test.txt','w')     #default 위치: c\\사용자\\admin\n",
    "f.write('안녕하세요^3^\\n')\n",
    "f.write('Hello, Are you moomin?')\n",
    "f.close()"
   ]
  },
  {
   "cell_type": "code",
   "execution_count": null,
   "id": "2523db12-1220-4f7f-a338-bbd606c05c8e",
   "metadata": {},
   "outputs": [],
   "source": [
    "f=open('test.txt','w')     #default 위치: c\\사용자\\admin\n",
    "f.write('안녕하세요^3^. \\n')\n",
    "f.write('Hello, Are you moomin? \\n')\n",
    "f.close()"
   ]
  },
  {
   "cell_type": "code",
   "execution_count": 200,
   "id": "cec84e27-944c-46e8-9cac-07b55564314d",
   "metadata": {},
   "outputs": [],
   "source": [
    "#1~10 까지 쓰여있는 텍스트 파일 작성\n",
    "\n",
    "f=open('test.txt','w')\n",
    "for i in range(1,11):\n",
    "    f.write(str(i)+'\\n')\n",
    "f.close()\n",
    "\n",
    "f=open('test.txt','w')\n",
    "for i in range(1,10):\n",
    "    f.write(f'{i}\\n')\n",
    "f.close()"
   ]
  },
  {
   "cell_type": "code",
   "execution_count": 202,
   "id": "13ed8324-d6db-49b7-b443-cdd60ff82d90",
   "metadata": {},
   "outputs": [],
   "source": [
    "#기존 파일에 데이터추가하기\n",
    "\n",
    "f=open('test.txt','a')\n",
    "for i in range(10,15):\n",
    "    f.write(f'{i}\\n')\n",
    "f.close()"
   ]
  },
  {
   "cell_type": "code",
   "execution_count": null,
   "id": "38773156-a18b-48f9-a1fd-141f283c218a",
   "metadata": {},
   "outputs": [],
   "source": [
    "f=open('test.txt','w')\n",
    "for i in range(1,11):\n",
    "    f.write(str(i)+'\\n')\n",
    "f.close()\n",
    "\n",
    "#f.close()를 안쓰는 방법\n",
    "\n",
    "with open('test.txt','w') as f:\n",
    "    f.write('안녕하세요^__^')\n",
    "    "
   ]
  },
  {
   "cell_type": "code",
   "execution_count": 206,
   "id": "d31758d7-e269-42f3-8136-6a4eceff30c5",
   "metadata": {},
   "outputs": [],
   "source": [
    "#f.close() 안쓰는 방법: 연습\n",
    "\n",
    "with open('myfile.txt','w') as f:\n",
    "    f.write('Life is too short\\n')\n",
    "    f.write('We need python')"
   ]
  },
  {
   "cell_type": "markdown",
   "id": "9340049d-c263-47a7-b633-987dfb8ed25b",
   "metadata": {},
   "source": [
    "## 파일 읽기"
   ]
  },
  {
   "cell_type": "code",
   "execution_count": 226,
   "id": "111a2ed1-803d-4a3b-98c5-1e0a9f2f994c",
   "metadata": {},
   "outputs": [
    {
     "name": "stdout",
     "output_type": "stream",
     "text": [
      "Life is too short\n",
      "\n",
      "1\n",
      "\n",
      "1\n",
      "2\n",
      "3\n",
      "4\n",
      "5\n",
      "6\n",
      "7\n",
      "8\n",
      "9\n",
      "11\n",
      "12\n",
      "13\n",
      "14\n",
      "10\n",
      "11\n",
      "12\n",
      "13\n",
      "14\n",
      "1\n",
      "2\n",
      "3\n",
      "4\n",
      "5\n",
      "6\n",
      "7\n",
      "8\n",
      "9\n",
      "11\n",
      "12\n",
      "13\n",
      "14\n",
      "10\n",
      "11\n",
      "12\n",
      "13\n",
      "14\n",
      "1\n",
      "2\n",
      "3\n",
      "4\n",
      "5\n",
      "6\n",
      "7\n",
      "8\n",
      "9\n",
      "11\n",
      "12\n",
      "13\n",
      "14\n",
      "10\n",
      "11\n",
      "12\n",
      "13\n",
      "14\n",
      "\n"
     ]
    }
   ],
   "source": [
    "#중요도 낮음\n",
    "#한 줄 읽기: readline 사용\n",
    "\n",
    "f=open('myfile.txt','r')\n",
    "print(f.readline())\n",
    "f.close\n",
    "\n",
    "f=open('test.txt','r')\n",
    "line=f.readline()\n",
    "print(line)\n",
    "\n",
    "\n",
    "\n",
    "\n",
    "#여러줄 읽기: readlines 사용\n",
    "f=open('test.txt','r')\n",
    "lines=f.readlines()\n",
    "for line in lines:\n",
    "    print(line,end=\"\")\n",
    "    \n",
    "f=open('test.txt','r')\n",
    "lines=f.readlines()\n",
    "for line in lines:\n",
    "    print(line.rstrip())\n",
    "    \n",
    "    \n",
    "    \n",
    "    \n",
    "#전체 읽기: read 사용\n",
    "f=open('test.txt','r')\n",
    "print(f.read())\n",
    "    "
   ]
  },
  {
   "cell_type": "code",
   "execution_count": null,
   "id": "5c219ce2-2450-4a21-a0b2-159eb7eff5d2",
   "metadata": {},
   "outputs": [],
   "source": []
  },
  {
   "cell_type": "code",
   "execution_count": null,
   "id": "e657f66f-4975-4542-bbdf-5d400c6c827f",
   "metadata": {},
   "outputs": [],
   "source": []
  },
  {
   "cell_type": "markdown",
   "id": "6e26d2e8-aa12-4878-b0e3-94683c051d80",
   "metadata": {},
   "source": [
    "# 클래스"
   ]
  },
  {
   "cell_type": "markdown",
   "id": "a40690fd-5960-4b1c-8010-40ab4d7bbd7e",
   "metadata": {},
   "source": [
    "## 클래스가 필요한 이유"
   ]
  },
  {
   "cell_type": "code",
   "execution_count": 4,
   "id": "a0c9eb1b-5b48-46d3-b126-bf6104fd1330",
   "metadata": {},
   "outputs": [
    {
     "data": {
      "text/plain": [
       "3"
      ]
     },
     "execution_count": 4,
     "metadata": {},
     "output_type": "execute_result"
    }
   ],
   "source": [
    "result=0\n",
    "def add(num):\n",
    "    global result\n",
    "    result+=num\n",
    "    return result\n",
    "\n",
    "add(3)"
   ]
  },
  {
   "cell_type": "code",
   "execution_count": 5,
   "id": "616327ec-ffa9-4d38-b40c-35dd432b0c5f",
   "metadata": {},
   "outputs": [
    {
     "data": {
      "text/plain": [
       "7"
      ]
     },
     "execution_count": 5,
     "metadata": {},
     "output_type": "execute_result"
    }
   ],
   "source": [
    "add(4)"
   ]
  },
  {
   "cell_type": "code",
   "execution_count": 6,
   "id": "188f35c8-271d-4734-ada4-804dd439f4a5",
   "metadata": {},
   "outputs": [],
   "source": [
    "result1=0\n",
    "result2=0\n",
    "result3=0\n",
    "\n",
    "def add1(num):\n",
    "    global result1\n",
    "    result1+=num\n",
    "    return result1\n",
    "\n",
    "def add2(num):\n",
    "    global result2\n",
    "    result2+=num\n",
    "    return result2\n",
    "\n",
    "def add3(num):\n",
    "    global result3\n",
    "    result3+=num\n",
    "    return result3"
   ]
  },
  {
   "cell_type": "code",
   "execution_count": 7,
   "id": "0eeb63b2-3567-4a16-b160-cc2bfdc92b51",
   "metadata": {},
   "outputs": [
    {
     "data": {
      "text/plain": [
       "10"
      ]
     },
     "execution_count": 7,
     "metadata": {},
     "output_type": "execute_result"
    }
   ],
   "source": [
    "add2(10)"
   ]
  },
  {
   "cell_type": "code",
   "execution_count": 9,
   "id": "0fabacd7-979d-4ad3-bf55-ebe4f784cb8b",
   "metadata": {},
   "outputs": [
    {
     "data": {
      "text/plain": [
       "23"
      ]
     },
     "execution_count": 9,
     "metadata": {},
     "output_type": "execute_result"
    }
   ],
   "source": [
    "add2(13)"
   ]
  },
  {
   "cell_type": "code",
   "execution_count": 10,
   "id": "9ddcdb89-fe75-4e68-bf24-f430cc76f33c",
   "metadata": {},
   "outputs": [
    {
     "data": {
      "text/plain": [
       "2"
      ]
     },
     "execution_count": 10,
     "metadata": {},
     "output_type": "execute_result"
    }
   ],
   "source": [
    "add1(2)"
   ]
  },
  {
   "cell_type": "code",
   "execution_count": 11,
   "id": "5287de1b-9a03-47b1-ac2b-d8915e709983",
   "metadata": {},
   "outputs": [
    {
     "data": {
      "text/plain": [
       "15"
      ]
     },
     "execution_count": 11,
     "metadata": {},
     "output_type": "execute_result"
    }
   ],
   "source": [
    "add1(13)"
   ]
  },
  {
   "cell_type": "code",
   "execution_count": 21,
   "id": "5517cfd6-ef8e-4066-be5d-7886c36330fd",
   "metadata": {},
   "outputs": [
    {
     "data": {
      "text/plain": [
       "3"
      ]
     },
     "execution_count": 21,
     "metadata": {},
     "output_type": "execute_result"
    }
   ],
   "source": [
    "class Calculator:\n",
    "    def __init__(self):\n",
    "        self.result=0\n",
    "    def add(self,num):\n",
    "        self.result+=num\n",
    "        return self.result\n",
    "    \n",
    "    def subtract(self,num):\n",
    "        self.result-=num\n",
    "        return self.result\n",
    "    \n",
    "cal=Calculator()\n",
    "cal.add(3)\n",
    "        "
   ]
  },
  {
   "cell_type": "code",
   "execution_count": 13,
   "id": "e7a55fa9-9cac-4457-896a-545489d34c22",
   "metadata": {},
   "outputs": [
    {
     "data": {
      "text/plain": [
       "7"
      ]
     },
     "execution_count": 13,
     "metadata": {},
     "output_type": "execute_result"
    }
   ],
   "source": [
    "cal.add(4)"
   ]
  },
  {
   "cell_type": "code",
   "execution_count": 15,
   "id": "6f21869a-ada9-470d-95ec-a521d935926b",
   "metadata": {},
   "outputs": [
    {
     "data": {
      "text/plain": [
       "5"
      ]
     },
     "execution_count": 15,
     "metadata": {},
     "output_type": "execute_result"
    }
   ],
   "source": [
    "cal2=Calculator()\n",
    "cal2.add(5)"
   ]
  },
  {
   "cell_type": "code",
   "execution_count": 16,
   "id": "d4095b10-7999-43c2-bc35-fc7fceef7fdf",
   "metadata": {},
   "outputs": [
    {
     "data": {
      "text/plain": [
       "10"
      ]
     },
     "execution_count": 16,
     "metadata": {},
     "output_type": "execute_result"
    }
   ],
   "source": [
    "cal2.add(5)"
   ]
  },
  {
   "cell_type": "code",
   "execution_count": 23,
   "id": "b8957192-441a-4c19-ad1f-4b95974786b6",
   "metadata": {},
   "outputs": [
    {
     "data": {
      "text/plain": [
       "250"
      ]
     },
     "execution_count": 23,
     "metadata": {},
     "output_type": "execute_result"
    }
   ],
   "source": [
    "cal3=Calculator()\n",
    "cal3.add(100)\n",
    "cal3.add(200)\n",
    "cal3.subtract(50)"
   ]
  },
  {
   "cell_type": "markdown",
   "id": "2e2f3d9c-b34b-498b-ae82-30a0d7fcecbd",
   "metadata": {},
   "source": [
    "## 사칙연산 클래스 만들기"
   ]
  },
  {
   "cell_type": "code",
   "execution_count": 36,
   "id": "cc2ce586-005f-49a7-9fdb-077627bb3d39",
   "metadata": {},
   "outputs": [],
   "source": [
    "class FourCal:\n",
    "    def setdata(self,a,b):\n",
    "        self.first=a\n",
    "        self.second=b\n",
    "         \n",
    "    def add(self):\n",
    "        result=self.first+self.second     \n",
    "        return result\n",
    "    \n",
    "    def sub(self):\n",
    "        result=self.first-self.second\n",
    "        return result\n",
    "    \n",
    "    def div(self):\n",
    "        result=self.first/self.second\n",
    "        return result\n",
    "    \n",
    "    def mul(self):\n",
    "        result=self.first*self.second\n",
    "        return result\n"
   ]
  },
  {
   "cell_type": "code",
   "execution_count": 37,
   "id": "7e13b740-c2ed-4316-8e64-a934ded795eb",
   "metadata": {},
   "outputs": [],
   "source": [
    "fcal=FourCal()\n",
    "fcal.setdata(3,4)"
   ]
  },
  {
   "cell_type": "code",
   "execution_count": 38,
   "id": "41d39a91-98e0-4a1e-8979-8878ec05ffd1",
   "metadata": {},
   "outputs": [
    {
     "data": {
      "text/plain": [
       "3"
      ]
     },
     "execution_count": 38,
     "metadata": {},
     "output_type": "execute_result"
    }
   ],
   "source": [
    "fcal.first"
   ]
  },
  {
   "cell_type": "code",
   "execution_count": 39,
   "id": "c0f0de3a-8df7-4aac-9c20-dbe6a347b6d5",
   "metadata": {},
   "outputs": [
    {
     "data": {
      "text/plain": [
       "4"
      ]
     },
     "execution_count": 39,
     "metadata": {},
     "output_type": "execute_result"
    }
   ],
   "source": [
    "fcal.second"
   ]
  },
  {
   "cell_type": "code",
   "execution_count": 40,
   "id": "75e7f706-e1ca-450f-a67b-4d2773355246",
   "metadata": {},
   "outputs": [
    {
     "data": {
      "text/plain": [
       "7"
      ]
     },
     "execution_count": 40,
     "metadata": {},
     "output_type": "execute_result"
    }
   ],
   "source": [
    "fcal.add()"
   ]
  },
  {
   "cell_type": "code",
   "execution_count": 41,
   "id": "82e6cf98-1e91-401c-8e01-da248ed7b0fd",
   "metadata": {},
   "outputs": [
    {
     "data": {
      "text/plain": [
       "12"
      ]
     },
     "execution_count": 41,
     "metadata": {},
     "output_type": "execute_result"
    }
   ],
   "source": [
    "fcal.mul()"
   ]
  },
  {
   "cell_type": "code",
   "execution_count": 42,
   "id": "6c0b2ae7-4d87-4964-823b-bf8fa1f442ed",
   "metadata": {},
   "outputs": [
    {
     "data": {
      "text/plain": [
       "0.75"
      ]
     },
     "execution_count": 42,
     "metadata": {},
     "output_type": "execute_result"
    }
   ],
   "source": [
    "fcal.div()"
   ]
  },
  {
   "cell_type": "code",
   "execution_count": 43,
   "id": "716e2e3b-25e5-4a80-936f-cb8b91000d0f",
   "metadata": {},
   "outputs": [
    {
     "data": {
      "text/plain": [
       "-1"
      ]
     },
     "execution_count": 43,
     "metadata": {},
     "output_type": "execute_result"
    }
   ],
   "source": [
    "fcal.sub()"
   ]
  },
  {
   "cell_type": "code",
   "execution_count": 53,
   "id": "0c026708-2baa-461f-a869-b9b4721b449d",
   "metadata": {},
   "outputs": [],
   "source": [
    "#cal 객체 만들고 초기값으로 10,20을 주고 곱하기와 나누기의 값을 각각 알아보기\n",
    "\n",
    "class FourCal:\n",
    "    def setdata(self,a,b):\n",
    "        self.first=a\n",
    "        self.second=b\n",
    "    def div(self):\n",
    "        self.result=self.first/self.second\n",
    "        return self.result\n",
    "    def mul(self):\n",
    "        self.result=self.first*self.second\n",
    "        return self.result\n",
    "    def add(self):\n",
    "        result=self.first+self.second     \n",
    "        return result\n",
    "    def sub(self):\n",
    "        result=self.first-self.second\n",
    "        return result"
   ]
  },
  {
   "cell_type": "code",
   "execution_count": 47,
   "id": "72aef989-eb8f-4d4e-9f65-44b8431f0869",
   "metadata": {},
   "outputs": [
    {
     "name": "stdout",
     "output_type": "stream",
     "text": [
      "0.5\n",
      "200\n"
     ]
    }
   ],
   "source": [
    "cal=FourCal()\n",
    "cal.setdata(10,20)\n",
    "print(cal.div())\n",
    "print(cal.mul())"
   ]
  },
  {
   "cell_type": "code",
   "execution_count": 48,
   "id": "c0ade0ce-812d-402a-899c-244a04fb8c39",
   "metadata": {},
   "outputs": [],
   "source": [
    "del cal"
   ]
  },
  {
   "cell_type": "code",
   "execution_count": 54,
   "id": "0e63671a-0f2d-41b7-b7d3-8fe5321e8b80",
   "metadata": {},
   "outputs": [
    {
     "ename": "AttributeError",
     "evalue": "'FourCal' object has no attribute 'first'",
     "output_type": "error",
     "traceback": [
      "\u001b[1;31m---------------------------------------------------------------------------\u001b[0m",
      "\u001b[1;31mAttributeError\u001b[0m                            Traceback (most recent call last)",
      "\u001b[1;32m<ipython-input-54-b768f323d0f2>\u001b[0m in \u001b[0;36m<module>\u001b[1;34m\u001b[0m\n\u001b[0;32m      1\u001b[0m \u001b[0mcal\u001b[0m\u001b[1;33m=\u001b[0m\u001b[0mFourCal\u001b[0m\u001b[1;33m(\u001b[0m\u001b[1;33m)\u001b[0m\u001b[1;33m\u001b[0m\u001b[1;33m\u001b[0m\u001b[0m\n\u001b[1;32m----> 2\u001b[1;33m \u001b[0mcal\u001b[0m\u001b[1;33m.\u001b[0m\u001b[0madd\u001b[0m\u001b[1;33m(\u001b[0m\u001b[1;33m)\u001b[0m\u001b[1;33m\u001b[0m\u001b[1;33m\u001b[0m\u001b[0m\n\u001b[0m",
      "\u001b[1;32m<ipython-input-53-bdde98ba2eaf>\u001b[0m in \u001b[0;36madd\u001b[1;34m(self)\u001b[0m\n\u001b[0;32m     12\u001b[0m         \u001b[1;32mreturn\u001b[0m \u001b[0mself\u001b[0m\u001b[1;33m.\u001b[0m\u001b[0mresult\u001b[0m\u001b[1;33m\u001b[0m\u001b[1;33m\u001b[0m\u001b[0m\n\u001b[0;32m     13\u001b[0m     \u001b[1;32mdef\u001b[0m \u001b[0madd\u001b[0m\u001b[1;33m(\u001b[0m\u001b[0mself\u001b[0m\u001b[1;33m)\u001b[0m\u001b[1;33m:\u001b[0m\u001b[1;33m\u001b[0m\u001b[1;33m\u001b[0m\u001b[0m\n\u001b[1;32m---> 14\u001b[1;33m         \u001b[0mresult\u001b[0m\u001b[1;33m=\u001b[0m\u001b[0mself\u001b[0m\u001b[1;33m.\u001b[0m\u001b[0mfirst\u001b[0m\u001b[1;33m+\u001b[0m\u001b[0mself\u001b[0m\u001b[1;33m.\u001b[0m\u001b[0msecond\u001b[0m\u001b[1;33m\u001b[0m\u001b[1;33m\u001b[0m\u001b[0m\n\u001b[0m\u001b[0;32m     15\u001b[0m         \u001b[1;32mreturn\u001b[0m \u001b[0mresult\u001b[0m\u001b[1;33m\u001b[0m\u001b[1;33m\u001b[0m\u001b[0m\n\u001b[0;32m     16\u001b[0m     \u001b[1;32mdef\u001b[0m \u001b[0msub\u001b[0m\u001b[1;33m(\u001b[0m\u001b[0mself\u001b[0m\u001b[1;33m)\u001b[0m\u001b[1;33m:\u001b[0m\u001b[1;33m\u001b[0m\u001b[1;33m\u001b[0m\u001b[0m\n",
      "\u001b[1;31mAttributeError\u001b[0m: 'FourCal' object has no attribute 'first'"
     ]
    }
   ],
   "source": [
    "cal=FourCal()\n",
    "cal.add()"
   ]
  },
  {
   "cell_type": "markdown",
   "id": "c50c045d-a0fb-49b5-be47-bef665d39ba1",
   "metadata": {},
   "source": [
    "## 생성자(constructor)"
   ]
  },
  {
   "cell_type": "code",
   "execution_count": 59,
   "id": "61ac6a6b-1165-405e-9848-d84242d9ac4d",
   "metadata": {},
   "outputs": [],
   "source": [
    "class FourCal:\n",
    "    def __init__(self,a,b):\n",
    "        self.first=a\n",
    "        self.second=b\n",
    "    def div(self):\n",
    "        self.result=self.first/self.second\n",
    "        return self.result\n",
    "    def mul(self):\n",
    "        self.result=self.first*self.second\n",
    "        return self.result\n",
    "    def add(self):\n",
    "        result=self.first+self.second     \n",
    "        return result\n",
    "    def sub(self):\n",
    "        result=self.first-self.second\n",
    "        return result"
   ]
  },
  {
   "cell_type": "code",
   "execution_count": 56,
   "id": "61c43c64-ed88-4ce8-a6ee-b9581f53b522",
   "metadata": {},
   "outputs": [
    {
     "ename": "TypeError",
     "evalue": "__init__() missing 2 required positional arguments: 'a' and 'b'",
     "output_type": "error",
     "traceback": [
      "\u001b[1;31m---------------------------------------------------------------------------\u001b[0m",
      "\u001b[1;31mTypeError\u001b[0m                                 Traceback (most recent call last)",
      "\u001b[1;32m<ipython-input-56-99e7fef910f1>\u001b[0m in \u001b[0;36m<module>\u001b[1;34m\u001b[0m\n\u001b[1;32m----> 1\u001b[1;33m \u001b[0mcal\u001b[0m\u001b[1;33m=\u001b[0m\u001b[0mFourCal\u001b[0m\u001b[1;33m(\u001b[0m\u001b[1;33m)\u001b[0m\u001b[1;33m\u001b[0m\u001b[1;33m\u001b[0m\u001b[0m\n\u001b[0m",
      "\u001b[1;31mTypeError\u001b[0m: __init__() missing 2 required positional arguments: 'a' and 'b'"
     ]
    }
   ],
   "source": [
    "cal=FourCal()"
   ]
  },
  {
   "cell_type": "code",
   "execution_count": 57,
   "id": "9d3435eb-1ea8-4de2-8748-062165278fcd",
   "metadata": {},
   "outputs": [],
   "source": [
    "cal=FourCal(30,40)"
   ]
  },
  {
   "cell_type": "markdown",
   "id": "8b798489-7c99-4b8c-9558-3eef4cd3d89a",
   "metadata": {},
   "source": [
    "## 상속(Inheritance)"
   ]
  },
  {
   "cell_type": "code",
   "execution_count": 61,
   "id": "853a9174-3456-4e59-b087-4bd86f63520d",
   "metadata": {},
   "outputs": [
    {
     "name": "stdout",
     "output_type": "stream",
     "text": [
      "3\n",
      "2\n"
     ]
    }
   ],
   "source": [
    "a=FourCal(1,2)\n",
    "print(a.add())\n",
    "print(a.mul())"
   ]
  },
  {
   "cell_type": "code",
   "execution_count": 63,
   "id": "a85986cd-d97b-41a3-9fa6-c194d71f3055",
   "metadata": {},
   "outputs": [],
   "source": [
    "class Child(FourCal):\n",
    "    pass"
   ]
  },
  {
   "cell_type": "code",
   "execution_count": 65,
   "id": "fd6e5770-63e4-484a-a755-a22b93d0c59d",
   "metadata": {},
   "outputs": [
    {
     "data": {
      "text/plain": [
       "5"
      ]
     },
     "execution_count": 65,
     "metadata": {},
     "output_type": "execute_result"
    }
   ],
   "source": [
    "b=Child(2,3)\n",
    "b.add()"
   ]
  },
  {
   "cell_type": "code",
   "execution_count": 66,
   "id": "b689aa2d-8b7a-4dfc-b5ed-8a8466e08ab6",
   "metadata": {},
   "outputs": [],
   "source": [
    "class Child(FourCal):\n",
    "    def power(self):\n",
    "        self.result=self.first**self.second\n",
    "        return self.result"
   ]
  },
  {
   "cell_type": "code",
   "execution_count": 69,
   "id": "a3d008e0-94e4-46d9-b002-a54b884b9196",
   "metadata": {},
   "outputs": [],
   "source": [
    "b=Child(5,4)"
   ]
  },
  {
   "cell_type": "code",
   "execution_count": 70,
   "id": "d2d0ce2f-4d83-40e1-9a70-1276b7745a30",
   "metadata": {},
   "outputs": [
    {
     "data": {
      "text/plain": [
       "625"
      ]
     },
     "execution_count": 70,
     "metadata": {},
     "output_type": "execute_result"
    }
   ],
   "source": [
    "b.power()"
   ]
  },
  {
   "cell_type": "code",
   "execution_count": 71,
   "id": "d7df491c-fd5e-46c3-8f24-c8d9607a8551",
   "metadata": {},
   "outputs": [
    {
     "data": {
      "text/plain": [
       "1.25"
      ]
     },
     "execution_count": 71,
     "metadata": {},
     "output_type": "execute_result"
    }
   ],
   "source": [
    "b.div()"
   ]
  },
  {
   "cell_type": "markdown",
   "id": "7fb88716-a3e7-413e-9fa8-652f9e72abbb",
   "metadata": {},
   "source": [
    "## 오버라이딩(Overriding)\n",
    "- 메소드 재정의"
   ]
  },
  {
   "cell_type": "code",
   "execution_count": 72,
   "id": "b4204b6f-1f60-44c4-a691-c80f74c1c2dd",
   "metadata": {},
   "outputs": [],
   "source": [
    "class Child(FourCal):\n",
    "    def div(self):\n",
    "        if self.second==0:\n",
    "            print('0으로 나누셨군요? 그럼 안됩니다!')\n",
    "        else:\n",
    "            result=self.first/self.second\n",
    "            return result\n",
    "    def power(self):\n",
    "        self.result=self.first**self.second\n",
    "        return self.result"
   ]
  },
  {
   "cell_type": "code",
   "execution_count": 74,
   "id": "8b348d5a-df0f-46c8-b20c-7c31c4bada48",
   "metadata": {},
   "outputs": [],
   "source": [
    "b=Child(5,0)"
   ]
  },
  {
   "cell_type": "code",
   "execution_count": 75,
   "id": "2cfe52e3-792c-448f-8e24-f01d5e6089c7",
   "metadata": {},
   "outputs": [
    {
     "name": "stdout",
     "output_type": "stream",
     "text": [
      "0으로 나누셨군요? 그럼 안됩니다!\n"
     ]
    }
   ],
   "source": [
    "b.div()"
   ]
  },
  {
   "cell_type": "markdown",
   "id": "ad55d7c7-a3bb-49b6-aca9-02f0046e86b2",
   "metadata": {},
   "source": [
    "## 클래스 변수"
   ]
  },
  {
   "cell_type": "code",
   "execution_count": 114,
   "id": "62ee75ec-b438-4859-9a92-7c205dc5bd44",
   "metadata": {},
   "outputs": [],
   "source": [
    "class Person:\n",
    "    name= 'Park'         #클래스 변수\n",
    "    def __init__(self,name):\n",
    "        self.name=name   #인스턴스 변수\n",
    "        self.nick='길동' #인스턴스 변수 \n",
    "    def show(self):\n",
    "        print(self.name)\n",
    "        print(self.nick)\n",
    "        print(Person.name)\n",
    "    def lastname(self):\n",
    "        print(f'{self.name}님의 성은 \"{self.name[0]}\"씨 입니다.')"
   ]
  },
  {
   "cell_type": "code",
   "execution_count": 115,
   "id": "2ebc9231-cf66-4b7b-bbc8-221daa67b021",
   "metadata": {},
   "outputs": [],
   "source": [
    "p=Person(\"안유진\")"
   ]
  },
  {
   "cell_type": "code",
   "execution_count": 116,
   "id": "ee0acd02-d5ff-4ec6-894b-1d29a0879cee",
   "metadata": {},
   "outputs": [
    {
     "name": "stdout",
     "output_type": "stream",
     "text": [
      "안유진\n",
      "길동\n",
      "Park\n"
     ]
    }
   ],
   "source": [
    "p.show()"
   ]
  },
  {
   "cell_type": "code",
   "execution_count": 117,
   "id": "3bde3590-5094-43df-a610-282debce9dac",
   "metadata": {},
   "outputs": [
    {
     "data": {
      "text/plain": [
       "'안유진'"
      ]
     },
     "execution_count": 117,
     "metadata": {},
     "output_type": "execute_result"
    }
   ],
   "source": [
    "p.name"
   ]
  },
  {
   "cell_type": "code",
   "execution_count": 118,
   "id": "b97ffb54-5d1a-4c17-9b1a-6482133b58da",
   "metadata": {},
   "outputs": [
    {
     "name": "stdout",
     "output_type": "stream",
     "text": [
      "안유진님의 성은 \"안\"씨 입니다.\n"
     ]
    }
   ],
   "source": [
    "p.lastname()"
   ]
  },
  {
   "cell_type": "code",
   "execution_count": 119,
   "id": "7da02b16-1fc8-43a2-8d3d-0eef4b1431fc",
   "metadata": {},
   "outputs": [],
   "source": [
    "p=Person('홍길동')"
   ]
  },
  {
   "cell_type": "code",
   "execution_count": 120,
   "id": "94d36737-7d81-46d6-8091-c52edc76e411",
   "metadata": {},
   "outputs": [
    {
     "name": "stdout",
     "output_type": "stream",
     "text": [
      "홍길동\n",
      "길동\n",
      "Park\n"
     ]
    }
   ],
   "source": [
    "p.show()"
   ]
  },
  {
   "cell_type": "code",
   "execution_count": 121,
   "id": "ca87962a-3d66-404a-a7f5-8ccd05583542",
   "metadata": {},
   "outputs": [],
   "source": [
    "p2=Person('전우치')"
   ]
  },
  {
   "cell_type": "code",
   "execution_count": 122,
   "id": "c73764f9-b3a1-4933-be32-dfd01bf3cd3e",
   "metadata": {},
   "outputs": [
    {
     "name": "stdout",
     "output_type": "stream",
     "text": [
      "전우치\n",
      "길동\n",
      "Park\n"
     ]
    }
   ],
   "source": [
    "p2.show()"
   ]
  },
  {
   "cell_type": "code",
   "execution_count": 18,
   "id": "30fde9e1-8ea3-4337-8ef8-cc67a9a081ed",
   "metadata": {},
   "outputs": [
    {
     "name": "stdin",
     "output_type": "stream",
     "text": [
      "이름은? dd\n",
      "나이는? 5\n",
      "국적은? dd\n"
     ]
    },
    {
     "name": "stdout",
     "output_type": "stream",
     "text": [
      "저의 이름은 dd이고, 나이는 5세, 국적은 dd입니다.\n"
     ]
    }
   ],
   "source": [
    "#이름, 나이, 국가 입력/출력해주는 클래스 만들기\n",
    "\n",
    "class Person:\n",
    "    def __init__(self):\n",
    "        self.name=input('이름은?')\n",
    "        self.age=int(input('나이는?'))\n",
    "        self.nation=input('국적은?')\n",
    "    def name(self):\n",
    "        print(f'저의 이름은 {self.name}입니다.')\n",
    "    def age(self):\n",
    "        print(f'저의 나이는 {self.age}세 입니다.')\n",
    "    def nation(self):\n",
    "        print(f'저의 국적은 {self.nation}입니다.')\n",
    "    def show(self):\n",
    "        print(f'저의 이름은 {self.name}이고, 나이는 {self.age}세, 국적은 {self.nation}입니다.')\n",
    "\n",
    "me=Person()\n",
    "me.show()"
   ]
  },
  {
   "cell_type": "code",
   "execution_count": 141,
   "id": "de9acab2-553e-40ef-b1df-4980f9616509",
   "metadata": {},
   "outputs": [
    {
     "name": "stdin",
     "output_type": "stream",
     "text": [
      "이름이 무엇입니까? df\n",
      "나이는 어떻게 되십니까? 5\n",
      "이름이 무엇입니까? df\n",
      "나이는 어떻게 되십니까? 45\n",
      "이름이 무엇입니까? d\n",
      "나이는 어떻게 되십니까? 45\n"
     ]
    }
   ],
   "source": [
    "#세명의 인적사항을 리스트로 추가하기\n",
    "\n",
    "class Person:\n",
    "    def __init__(self):\n",
    "        self.name=input(\"이름이 무엇입니까?\")\n",
    "        self.age=input('나이는 어떻게 되십니까?')\n",
    "    def show(self):\n",
    "        return f'이름은 {self.name}이고 나이는 {self.age}살 입니다.'\n",
    "\n",
    "li=[]\n",
    "for i in range(3):\n",
    "    li.append(Person())\n",
    "    "
   ]
  },
  {
   "cell_type": "code",
   "execution_count": 26,
   "id": "b67f8fe2-e9f5-43cc-bca2-a12772d34602",
   "metadata": {},
   "outputs": [
    {
     "name": "stdout",
     "output_type": "stream",
     "text": [
      "이름은 길동이고 나이는 45살 입니다.\n",
      "이름은 우치이고 나이는 44살 입니다.\n",
      "이름은 우태4이고 나이는 5살 입니다.\n"
     ]
    }
   ],
   "source": [
    "for obj in li:\n",
    "    print(obj.show())"
   ]
  },
  {
   "cell_type": "markdown",
   "id": "fb428af9-59ea-4da0-b1b8-5e64e2e8ac6b",
   "metadata": {},
   "source": [
    "## 상속 후 변수 추가하기"
   ]
  },
  {
   "cell_type": "code",
   "execution_count": 47,
   "id": "972b47e6-8801-47d8-8909-47801e19e4c4",
   "metadata": {},
   "outputs": [],
   "source": [
    "#클래스 내 상속 후 변수 추가\n",
    "class Person:\n",
    "    def __init__(self):\n",
    "        self.name='Park'\n",
    "        self.age=25\n",
    "\n",
    "class Korean(Person):\n",
    "    def __init__(self):\n",
    "        self.lang='한국어'\n",
    "        "
   ]
  },
  {
   "cell_type": "code",
   "execution_count": 48,
   "id": "571df474-39e9-441a-87f5-10be1f39d369",
   "metadata": {},
   "outputs": [],
   "source": [
    "p=Korean()"
   ]
  },
  {
   "cell_type": "code",
   "execution_count": 49,
   "id": "fb3d53d3-4b39-4b29-8dfe-770e5a5d5e48",
   "metadata": {},
   "outputs": [
    {
     "name": "stdout",
     "output_type": "stream",
     "text": [
      "한국어\n"
     ]
    },
    {
     "ename": "AttributeError",
     "evalue": "'Korean' object has no attribute 'name'",
     "output_type": "error",
     "traceback": [
      "\u001b[1;31m---------------------------------------------------------------------------\u001b[0m",
      "\u001b[1;31mAttributeError\u001b[0m                            Traceback (most recent call last)",
      "\u001b[1;32m<ipython-input-49-8d023266b146>\u001b[0m in \u001b[0;36m<module>\u001b[1;34m\u001b[0m\n\u001b[0;32m      1\u001b[0m \u001b[0mprint\u001b[0m\u001b[1;33m(\u001b[0m\u001b[0mp\u001b[0m\u001b[1;33m.\u001b[0m\u001b[0mlang\u001b[0m\u001b[1;33m)\u001b[0m\u001b[1;33m\u001b[0m\u001b[1;33m\u001b[0m\u001b[0m\n\u001b[1;32m----> 2\u001b[1;33m \u001b[0mprint\u001b[0m\u001b[1;33m(\u001b[0m\u001b[0mp\u001b[0m\u001b[1;33m.\u001b[0m\u001b[0mname\u001b[0m\u001b[1;33m)\u001b[0m\u001b[1;33m\u001b[0m\u001b[1;33m\u001b[0m\u001b[0m\n\u001b[0m",
      "\u001b[1;31mAttributeError\u001b[0m: 'Korean' object has no attribute 'name'"
     ]
    }
   ],
   "source": [
    "print(p.lang)\n",
    "print(p.name)"
   ]
  },
  {
   "cell_type": "code",
   "execution_count": 50,
   "id": "bb37c754-c2b7-4501-8a32-6fe6d45170c8",
   "metadata": {},
   "outputs": [],
   "source": [
    "#클래스 내 상속 후 변수 추가\n",
    "class Person:\n",
    "    def __init__(self):\n",
    "        self.name='Park'\n",
    "        self.age=25\n",
    "\n",
    "class Korean(Person):\n",
    "    def __init__(self):\n",
    "        super().__init__()     #부모 클래스의 생성자 실행, 괄호 안에 self없음 주의\n",
    "        self.lang='한국어'\n",
    "        "
   ]
  },
  {
   "cell_type": "code",
   "execution_count": 51,
   "id": "2e1a6d21-94ef-44e1-95fc-7da118ad4c5a",
   "metadata": {},
   "outputs": [
    {
     "name": "stdout",
     "output_type": "stream",
     "text": [
      "한국어\n",
      "Park\n"
     ]
    }
   ],
   "source": [
    "p=Korean()\n",
    "print(p.lang)\n",
    "print(p.name)"
   ]
  },
  {
   "cell_type": "code",
   "execution_count": 57,
   "id": "7af2f4d5-04bf-4cf4-98bd-1a44d1ef2d89",
   "metadata": {},
   "outputs": [
    {
     "name": "stdout",
     "output_type": "stream",
     "text": [
      "English\n",
      "Park\n",
      "25\n"
     ]
    }
   ],
   "source": [
    "#American 상속받고, lang은 'English'\n",
    "\n",
    "class American(Korean):\n",
    "    def __init__(self):\n",
    "        super().__init__()\n",
    "        self.lang='English'\n",
    "\n",
    "p2= American()\n",
    "print(p2.lang)\n",
    "print(p2.name)\n",
    "print(p2.age)"
   ]
  },
  {
   "cell_type": "code",
   "execution_count": 70,
   "id": "6f53eda5-cf24-427d-9d99-5acddbde36d8",
   "metadata": {},
   "outputs": [
    {
     "name": "stdout",
     "output_type": "stream",
     "text": [
      "Korean\n"
     ]
    }
   ],
   "source": [
    "#인자 상속\n",
    "class Person:\n",
    "    def __init__(self, name, age):\n",
    "        self.name=name\n",
    "        self.age=age\n",
    "    \n",
    "class Korean(Person):\n",
    "    def __init__(self, name, age, lang):\n",
    "        super().__init__(name,age)\n",
    "        self.lang=lang\n",
    "\n",
    "p1=Korean('길동',15,'Korean')\n",
    "print(p1.lang)"
   ]
  },
  {
   "cell_type": "markdown",
   "id": "272e92d1-c36c-4ba9-8d3b-8ad2b9970aac",
   "metadata": {},
   "source": [
    "# 모듈 \n",
    "- .py로 끝나는 파이썬 파일 하나하나를 모듈이라고 함\n",
    "- 함수나 변수 또는 클래스를 모아 놓은 파일"
   ]
  },
  {
   "cell_type": "code",
   "execution_count": 127,
   "id": "e46c465b-866a-4371-a938-692e8c97dd71",
   "metadata": {},
   "outputs": [
    {
     "data": {
      "text/plain": [
       "3"
      ]
     },
     "execution_count": 127,
     "metadata": {},
     "output_type": "execute_result"
    }
   ],
   "source": [
    "#add함수를 가지는 mod.py 만들고 실행\n",
    "import mod1\n",
    "mod1.add(1,2)"
   ]
  },
  {
   "cell_type": "code",
   "execution_count": 128,
   "id": "f43993c9-53ff-495e-b9b6-257bf8fead69",
   "metadata": {},
   "outputs": [
    {
     "data": {
      "text/plain": [
       "75"
      ]
     },
     "execution_count": 128,
     "metadata": {},
     "output_type": "execute_result"
    }
   ],
   "source": [
    "import mod2\n",
    "mod2.Math().solve(5)"
   ]
  },
  {
   "cell_type": "code",
   "execution_count": null,
   "id": "5cf0daae-3e8c-4329-842e-9e416b016c55",
   "metadata": {},
   "outputs": [],
   "source": [
    "#mod1.py 라는 모듈이 있다고 할 떄, import mod1을 입력했을 떄, if문을 사용해서 Hello가 출력되지 않도록 하기\n",
    "\n",
    "import mod10\n"
   ]
  },
  {
   "cell_type": "markdown",
   "id": "0f664702-69a5-4186-99c5-1d05598bede6",
   "metadata": {},
   "source": [
    "# 예외처리\n",
    "- 예외(exception)란 에러(error)를 말함\n",
    "- try(실행할 문장), except(에러가 났을 때 실행될 문장)"
   ]
  },
  {
   "cell_type": "code",
   "execution_count": 131,
   "id": "af4b5086-3ff5-4c1b-a59b-3b8649f42e02",
   "metadata": {},
   "outputs": [
    {
     "name": "stdout",
     "output_type": "stream",
     "text": [
      "1\n",
      "2\n",
      "3\n"
     ]
    }
   ],
   "source": [
    "li=[1,2,3]\n",
    "for i in range(3):\n",
    "    print(li[i]) "
   ]
  },
  {
   "cell_type": "code",
   "execution_count": 132,
   "id": "b30aead6-84d3-4f1a-a03f-43da9d46da76",
   "metadata": {},
   "outputs": [
    {
     "name": "stdout",
     "output_type": "stream",
     "text": [
      "1\n",
      "2\n",
      "3\n"
     ]
    },
    {
     "ename": "IndexError",
     "evalue": "list index out of range",
     "output_type": "error",
     "traceback": [
      "\u001b[1;31m---------------------------------------------------------------------------\u001b[0m",
      "\u001b[1;31mIndexError\u001b[0m                                Traceback (most recent call last)",
      "\u001b[1;32m<ipython-input-132-63cdc97fb220>\u001b[0m in \u001b[0;36m<module>\u001b[1;34m\u001b[0m\n\u001b[0;32m      1\u001b[0m \u001b[0mli\u001b[0m\u001b[1;33m=\u001b[0m\u001b[1;33m[\u001b[0m\u001b[1;36m1\u001b[0m\u001b[1;33m,\u001b[0m\u001b[1;36m2\u001b[0m\u001b[1;33m,\u001b[0m\u001b[1;36m3\u001b[0m\u001b[1;33m]\u001b[0m\u001b[1;33m\u001b[0m\u001b[1;33m\u001b[0m\u001b[0m\n\u001b[0;32m      2\u001b[0m \u001b[1;32mfor\u001b[0m \u001b[0mi\u001b[0m \u001b[1;32min\u001b[0m \u001b[0mrange\u001b[0m\u001b[1;33m(\u001b[0m\u001b[1;36m4\u001b[0m\u001b[1;33m)\u001b[0m\u001b[1;33m:\u001b[0m\u001b[1;33m\u001b[0m\u001b[1;33m\u001b[0m\u001b[0m\n\u001b[1;32m----> 3\u001b[1;33m     \u001b[0mprint\u001b[0m\u001b[1;33m(\u001b[0m\u001b[0mli\u001b[0m\u001b[1;33m[\u001b[0m\u001b[0mi\u001b[0m\u001b[1;33m]\u001b[0m\u001b[1;33m)\u001b[0m\u001b[1;33m\u001b[0m\u001b[1;33m\u001b[0m\u001b[0m\n\u001b[0m",
      "\u001b[1;31mIndexError\u001b[0m: list index out of range"
     ]
    }
   ],
   "source": [
    "li=[1,2,3]\n",
    "for i in range(4):\n",
    "    print(li[i]) "
   ]
  },
  {
   "cell_type": "code",
   "execution_count": 135,
   "id": "f6bedac4-908c-4f53-8a72-8375bbbede98",
   "metadata": {},
   "outputs": [
    {
     "name": "stdout",
     "output_type": "stream",
     "text": [
      "1\n",
      "2\n",
      "3\n",
      "에러가 생겼습니다.\n"
     ]
    }
   ],
   "source": [
    "li=[1,2,3]\n",
    "try:\n",
    "    for i in range(4):\n",
    "        print(li[i]) \n",
    "except:\n",
    "    print('에러가 생겼습니다.')"
   ]
  },
  {
   "cell_type": "code",
   "execution_count": 138,
   "id": "6ef30515-df02-4144-b354-01285478ff17",
   "metadata": {},
   "outputs": [
    {
     "name": "stdout",
     "output_type": "stream",
     "text": [
      "1\n",
      "2\n",
      "3\n"
     ]
    }
   ],
   "source": [
    "li=[1,2,3]\n",
    "try:\n",
    "    for i in range(4):\n",
    "        print(li[i])\n",
    "except:\n",
    "    pass"
   ]
  },
  {
   "cell_type": "code",
   "execution_count": 141,
   "id": "e75fd46c-709f-40e9-bd7d-b7168d5db36e",
   "metadata": {},
   "outputs": [
    {
     "name": "stdout",
     "output_type": "stream",
     "text": [
      "2.0\n",
      "division by zero\n"
     ]
    }
   ],
   "source": [
    "try:\n",
    "    print(4/2)\n",
    "    4/0\n",
    "except ZeroDivisionError as e:\n",
    "    print(e)\n"
   ]
  },
  {
   "cell_type": "code",
   "execution_count": 151,
   "id": "35277470-dee2-42e1-817c-f6f103a9f249",
   "metadata": {},
   "outputs": [
    {
     "name": "stdout",
     "output_type": "stream",
     "text": [
      "1\n",
      "2\n",
      "3\n",
      "list index out of range\n"
     ]
    }
   ],
   "source": [
    "li=[1,2,3]\n",
    "try:\n",
    "    for i in range(4):\n",
    "        print(li[i])\n",
    "    print(4/0)\n",
    "except IndexError as e:\n",
    "    print(e)\n",
    "except ZeroDivisionError as e:\n",
    "    print(e)\n"
   ]
  },
  {
   "cell_type": "code",
   "execution_count": 154,
   "id": "40dd8745-6076-4e56-89f9-054078eab205",
   "metadata": {},
   "outputs": [
    {
     "name": "stdout",
     "output_type": "stream",
     "text": [
      "1\n",
      "2\n",
      "3\n",
      "list index out of range\n"
     ]
    }
   ],
   "source": [
    "li=[1,2,3]\n",
    "try:\n",
    "    for i in range(4):\n",
    "        print(li[i])\n",
    "    print(4/0)\n",
    "except (IndexError, ZeroDivisionError) as e:\n",
    "    print(e)"
   ]
  },
  {
   "cell_type": "markdown",
   "id": "bc70d672-3564-4f91-91d4-caaca6ccef9b",
   "metadata": {},
   "source": [
    "# 내장함수"
   ]
  },
  {
   "cell_type": "code",
   "execution_count": 1,
   "id": "e9bf0884-5d6f-4896-be12-d0d3aa0b195f",
   "metadata": {},
   "outputs": [
    {
     "data": {
      "text/plain": [
       "58"
      ]
     },
     "execution_count": 1,
     "metadata": {},
     "output_type": "execute_result"
    }
   ],
   "source": [
    "#abs함수\n",
    "abs(-58)"
   ]
  },
  {
   "cell_type": "code",
   "execution_count": 2,
   "id": "fecddaf8-b2ef-452b-8bf9-ad0c98d0397d",
   "metadata": {},
   "outputs": [
    {
     "data": {
      "text/plain": [
       "False"
      ]
     },
     "execution_count": 2,
     "metadata": {},
     "output_type": "execute_result"
    }
   ],
   "source": [
    "#all함수\n",
    "all([1,0,3])"
   ]
  },
  {
   "cell_type": "code",
   "execution_count": 158,
   "id": "52d42870-19fe-415c-9710-6062b1473513",
   "metadata": {},
   "outputs": [
    {
     "data": {
      "text/plain": [
       "False"
      ]
     },
     "execution_count": 158,
     "metadata": {},
     "output_type": "execute_result"
    }
   ],
   "source": [
    "all([''])"
   ]
  },
  {
   "cell_type": "code",
   "execution_count": 3,
   "id": "6f6fc1dd-521b-4c2d-b7d0-ac7e76fd20cd",
   "metadata": {},
   "outputs": [
    {
     "data": {
      "text/plain": [
       "'ϒ'"
      ]
     },
     "execution_count": 3,
     "metadata": {},
     "output_type": "execute_result"
    }
   ],
   "source": [
    "#chr함수\n",
    "chr(978)"
   ]
  },
  {
   "cell_type": "code",
   "execution_count": 4,
   "id": "5afe9d0b-fed0-4770-a01c-e612ad4ab9ff",
   "metadata": {},
   "outputs": [
    {
     "data": {
      "text/plain": [
       "['__add__',\n",
       " '__class__',\n",
       " '__contains__',\n",
       " '__delattr__',\n",
       " '__dir__',\n",
       " '__doc__',\n",
       " '__eq__',\n",
       " '__format__',\n",
       " '__ge__',\n",
       " '__getattribute__',\n",
       " '__getitem__',\n",
       " '__getnewargs__',\n",
       " '__gt__',\n",
       " '__hash__',\n",
       " '__init__',\n",
       " '__init_subclass__',\n",
       " '__iter__',\n",
       " '__le__',\n",
       " '__len__',\n",
       " '__lt__',\n",
       " '__mod__',\n",
       " '__mul__',\n",
       " '__ne__',\n",
       " '__new__',\n",
       " '__reduce__',\n",
       " '__reduce_ex__',\n",
       " '__repr__',\n",
       " '__rmod__',\n",
       " '__rmul__',\n",
       " '__setattr__',\n",
       " '__sizeof__',\n",
       " '__str__',\n",
       " '__subclasshook__',\n",
       " 'capitalize',\n",
       " 'casefold',\n",
       " 'center',\n",
       " 'count',\n",
       " 'encode',\n",
       " 'endswith',\n",
       " 'expandtabs',\n",
       " 'find',\n",
       " 'format',\n",
       " 'format_map',\n",
       " 'index',\n",
       " 'isalnum',\n",
       " 'isalpha',\n",
       " 'isascii',\n",
       " 'isdecimal',\n",
       " 'isdigit',\n",
       " 'isidentifier',\n",
       " 'islower',\n",
       " 'isnumeric',\n",
       " 'isprintable',\n",
       " 'isspace',\n",
       " 'istitle',\n",
       " 'isupper',\n",
       " 'join',\n",
       " 'ljust',\n",
       " 'lower',\n",
       " 'lstrip',\n",
       " 'maketrans',\n",
       " 'partition',\n",
       " 'replace',\n",
       " 'rfind',\n",
       " 'rindex',\n",
       " 'rjust',\n",
       " 'rpartition',\n",
       " 'rsplit',\n",
       " 'rstrip',\n",
       " 'split',\n",
       " 'splitlines',\n",
       " 'startswith',\n",
       " 'strip',\n",
       " 'swapcase',\n",
       " 'title',\n",
       " 'translate',\n",
       " 'upper',\n",
       " 'zfill']"
      ]
     },
     "execution_count": 4,
     "metadata": {},
     "output_type": "execute_result"
    }
   ],
   "source": [
    "#dir함수\n",
    "a='hello'\n",
    "dir(a)"
   ]
  },
  {
   "cell_type": "code",
   "execution_count": 6,
   "id": "c440952f-c00c-4f5f-b13e-0f0c2934fea6",
   "metadata": {},
   "outputs": [
    {
     "data": {
      "text/plain": [
       "(3, 1)"
      ]
     },
     "execution_count": 6,
     "metadata": {},
     "output_type": "execute_result"
    }
   ],
   "source": [
    "#divmod함수\n",
    "divmod(7,2)"
   ]
  },
  {
   "cell_type": "code",
   "execution_count": 165,
   "id": "77546731-2b6f-48a6-bb21-36a873562ba1",
   "metadata": {},
   "outputs": [
    {
     "data": {
      "text/plain": [
       "(3, 1)"
      ]
     },
     "execution_count": 165,
     "metadata": {},
     "output_type": "execute_result"
    }
   ],
   "source": [
    "def mydiv(a,b):\n",
    "    return a//b,a%b\n",
    "mydiv(7,2)"
   ]
  },
  {
   "cell_type": "code",
   "execution_count": 7,
   "id": "983b99d8-6d29-40cb-bfba-fb332f88f0da",
   "metadata": {},
   "outputs": [
    {
     "data": {
      "text/plain": [
       "<enumerate at 0x2c372d2d680>"
      ]
     },
     "execution_count": 7,
     "metadata": {},
     "output_type": "execute_result"
    }
   ],
   "source": [
    "#enumerate함수\n",
    "enumerate(['a','b',3])"
   ]
  },
  {
   "cell_type": "code",
   "execution_count": 178,
   "id": "ce029df5-5ccd-427d-85f8-7592dae813d0",
   "metadata": {},
   "outputs": [
    {
     "name": "stdout",
     "output_type": "stream",
     "text": [
      "{1: 'a', 2: 'b', 3: 'c'}\n"
     ]
    }
   ],
   "source": [
    "diction={}\n",
    "for i in enumerate(['a','b','c'],1):\n",
    "    diction[i[0]]=i[1]\n",
    "print(diction)"
   ]
  },
  {
   "cell_type": "code",
   "execution_count": 8,
   "id": "ed2891b7-dbbb-4026-87c9-8c9b97e78de5",
   "metadata": {},
   "outputs": [
    {
     "data": {
      "text/plain": [
       "[6, 4, -8]"
      ]
     },
     "execution_count": 8,
     "metadata": {},
     "output_type": "execute_result"
    }
   ],
   "source": [
    "#filter함수\n",
    "\n",
    "def is_even(num):\n",
    "    if num%2==0:\n",
    "        return True\n",
    "    else:\n",
    "        return False\n",
    "        \n",
    "list(filter(is_even,[-1,5,6,4,-8]))\n"
   ]
  },
  {
   "cell_type": "code",
   "execution_count": 74,
   "id": "cf86604a-cc2e-43cd-83be-476ceef5ac11",
   "metadata": {},
   "outputs": [
    {
     "data": {
      "text/plain": [
       "[-4, -2, 0, 2, 4]"
      ]
     },
     "execution_count": 74,
     "metadata": {},
     "output_type": "execute_result"
    }
   ],
   "source": [
    "def positive(num):\n",
    "    for i in num:\n",
    "        if i>0:\n",
    "            return True\n",
    "        else:\n",
    "            return False\n",
    "\n",
    "positive([1,-8,-9,-10,2])\n",
    "\n",
    "list(filter(is_even,range(-5,5)))"
   ]
  },
  {
   "cell_type": "code",
   "execution_count": 78,
   "id": "4f8366ec-e168-4601-b677-cb2de5250f21",
   "metadata": {},
   "outputs": [
    {
     "data": {
      "text/plain": [
       "[1, 2, 3, 4]"
      ]
     },
     "execution_count": 78,
     "metadata": {},
     "output_type": "execute_result"
    }
   ],
   "source": [
    "#map함수\n",
    "list(map(int,[1.2,2.9,3.0,4]))"
   ]
  },
  {
   "cell_type": "code",
   "execution_count": 101,
   "id": "097e2f6d-36eb-4762-b2a3-37f7f7250764",
   "metadata": {},
   "outputs": [
    {
     "name": "stdout",
     "output_type": "stream",
     "text": [
      "6\n",
      "[1, 2, 3, 4]\n",
      "[2, 4, 6, 8]\n",
      "[2, 4, 6, 8]\n"
     ]
    }
   ],
   "source": [
    "#두배 함수를 정의하고 map함수 실행\n",
    "#방법1\n",
    "def twice(num):\n",
    "    return num*2\n",
    "print(twice(3))\n",
    "\n",
    "li=list(range(1,5))\n",
    "print(li)\n",
    "\n",
    "print(list(map(twice,li)))\n",
    "\n",
    "#방법2\n",
    "print(list(map(lambda x:x*2,li)))"
   ]
  },
  {
   "cell_type": "code",
   "execution_count": 106,
   "id": "111edd47-25ac-4ba3-95ad-99d73fb5b88c",
   "metadata": {},
   "outputs": [
    {
     "name": "stdout",
     "output_type": "stream",
     "text": [
      "10\n",
      "9\n",
      "8\n",
      "7\n",
      "6\n",
      "5\n",
      "4\n",
      "3\n",
      "2\n",
      "1\n"
     ]
    }
   ],
   "source": [
    "for i in range(10,0,-1):\n",
    "    print(i)"
   ]
  },
  {
   "cell_type": "code",
   "execution_count": 107,
   "id": "4d07f313-83db-490d-ae3f-3636b66c9909",
   "metadata": {},
   "outputs": [
    {
     "name": "stdout",
     "output_type": "stream",
     "text": [
      "3\n",
      "4\n",
      "3\n"
     ]
    }
   ],
   "source": [
    "#round함수\n",
    "\n",
    "print(round(3.14))\n",
    "\n",
    "import math\n",
    "print(math.ceil(3.14))\n",
    "print(math.floor(3.14))"
   ]
  },
  {
   "cell_type": "code",
   "execution_count": 112,
   "id": "78116da9-3243-41ca-874b-fb3c3469524c",
   "metadata": {},
   "outputs": [
    {
     "name": "stdout",
     "output_type": "stream",
     "text": [
      "[1, 2, 3, 4]\n",
      "[1, 2, 3, 4]\n"
     ]
    }
   ],
   "source": [
    "#sort함수\n",
    "li=[2,1,3,4]\n",
    "\n",
    "#방법1\n",
    "print(sorted(li))\n",
    "\n",
    "#방법2\n",
    "li.sort()       #알아서 li안에 sorted되어 저장됨\n",
    "print(li)"
   ]
  },
  {
   "cell_type": "code",
   "execution_count": 116,
   "id": "8eef891d-5623-4f79-a550-586d69c43c0d",
   "metadata": {},
   "outputs": [
    {
     "data": {
      "text/plain": [
       "[(1, 'a', 'A'), (2, 'b', 'B'), (3, 'c', 'C'), (4, 'd', 'D')]"
      ]
     },
     "execution_count": 116,
     "metadata": {},
     "output_type": "execute_result"
    }
   ],
   "source": [
    "#zip함수\n",
    "list(zip([1,2,3,4],['a','b','c','d'],['A','B','C','D']))"
   ]
  },
  {
   "cell_type": "code",
   "execution_count": 123,
   "id": "5d0f8f50-39e0-4b00-a15a-40f6bf1c94e6",
   "metadata": {},
   "outputs": [
    {
     "name": "stdout",
     "output_type": "stream",
     "text": [
      "s\n",
      "t\n",
      "r\n",
      "i\n",
      "n\n",
      "g\n",
      "[20, 2, 3]\n"
     ]
    },
    {
     "ename": "TypeError",
     "evalue": "'tuple' object does not support item assignment",
     "output_type": "error",
     "traceback": [
      "\u001b[1;31m---------------------------------------------------------------------------\u001b[0m",
      "\u001b[1;31mTypeError\u001b[0m                                 Traceback (most recent call last)",
      "\u001b[1;32m<ipython-input-123-13f82c47d80f>\u001b[0m in \u001b[0;36m<module>\u001b[1;34m\u001b[0m\n\u001b[0;32m     16\u001b[0m \u001b[1;31m#    - 튜플, 문자열(string)\u001b[0m\u001b[1;33m\u001b[0m\u001b[1;33m\u001b[0m\u001b[1;33m\u001b[0m\u001b[0m\n\u001b[0;32m     17\u001b[0m \u001b[0mli\u001b[0m\u001b[1;33m=\u001b[0m\u001b[1;33m(\u001b[0m\u001b[1;36m1\u001b[0m\u001b[1;33m,\u001b[0m\u001b[1;36m2\u001b[0m\u001b[1;33m,\u001b[0m\u001b[1;36m3\u001b[0m\u001b[1;33m)\u001b[0m\u001b[1;33m\u001b[0m\u001b[1;33m\u001b[0m\u001b[0m\n\u001b[1;32m---> 18\u001b[1;33m \u001b[0mli\u001b[0m\u001b[1;33m[\u001b[0m\u001b[1;36m0\u001b[0m\u001b[1;33m]\u001b[0m\u001b[1;33m=\u001b[0m\u001b[1;36m20\u001b[0m\u001b[1;33m\u001b[0m\u001b[1;33m\u001b[0m\u001b[0m\n\u001b[0m\u001b[0;32m     19\u001b[0m \u001b[0mprint\u001b[0m\u001b[1;33m(\u001b[0m\u001b[0mli\u001b[0m\u001b[1;33m)\u001b[0m\u001b[1;33m\u001b[0m\u001b[1;33m\u001b[0m\u001b[0m\n",
      "\u001b[1;31mTypeError\u001b[0m: 'tuple' object does not support item assignment"
     ]
    }
   ],
   "source": [
    "# iterable: 순환가능한, 반복가능한\n",
    "#    - 리스트, 튜플, 딕셔너리, 세트, 문자열(string), range\n",
    "\n",
    "for i in 'string':\n",
    "    print(i)\n",
    "    \n",
    "    \n",
    "# mutable: 수정가능한\n",
    "#    - 리스트, 딕셔너리\n",
    "\n",
    "li=[1,2,3]\n",
    "li[0]=20\n",
    "print(li)\n",
    "\n",
    "# inmutable: 수정불가능한\n",
    "#    - 튜플, 문자열(string), 숫자열(integer)\n",
    "li=(1,2,3)\n",
    "li[0]=20\n",
    "print(li)"
   ]
  },
  {
   "cell_type": "code",
   "execution_count": 124,
   "id": "e6e873f2-54e7-443b-a9a4-41d0e117a24f",
   "metadata": {},
   "outputs": [
    {
     "ename": "TypeError",
     "evalue": "'str' object does not support item assignment",
     "output_type": "error",
     "traceback": [
      "\u001b[1;31m---------------------------------------------------------------------------\u001b[0m",
      "\u001b[1;31mTypeError\u001b[0m                                 Traceback (most recent call last)",
      "\u001b[1;32m<ipython-input-124-d02fe472d5c3>\u001b[0m in \u001b[0;36m<module>\u001b[1;34m\u001b[0m\n\u001b[0;32m      1\u001b[0m \u001b[0mstring\u001b[0m\u001b[1;33m=\u001b[0m\u001b[1;34m'hello'\u001b[0m\u001b[1;33m\u001b[0m\u001b[1;33m\u001b[0m\u001b[0m\n\u001b[1;32m----> 2\u001b[1;33m \u001b[0mstring\u001b[0m\u001b[1;33m[\u001b[0m\u001b[1;36m0\u001b[0m\u001b[1;33m]\u001b[0m\u001b[1;33m=\u001b[0m\u001b[1;34m'p'\u001b[0m\u001b[1;33m\u001b[0m\u001b[1;33m\u001b[0m\u001b[0m\n\u001b[0m\u001b[0;32m      3\u001b[0m \u001b[0mprint\u001b[0m\u001b[1;33m(\u001b[0m\u001b[0mstring\u001b[0m\u001b[1;33m)\u001b[0m\u001b[1;33m\u001b[0m\u001b[1;33m\u001b[0m\u001b[0m\n",
      "\u001b[1;31mTypeError\u001b[0m: 'str' object does not support item assignment"
     ]
    }
   ],
   "source": [
    "string='hello'\n",
    "string[0]='p'\n",
    "print(string)"
   ]
  },
  {
   "cell_type": "markdown",
   "id": "71e24917-a6e7-402a-99d6-491c0eeaa8ea",
   "metadata": {},
   "source": [
    "# 외장함수"
   ]
  },
  {
   "cell_type": "markdown",
   "id": "e522e032-4d8a-49d0-ad17-c6b9a19072e8",
   "metadata": {},
   "source": [
    "- sys"
   ]
  },
  {
   "cell_type": "code",
   "execution_count": 127,
   "id": "d47fad0d-7d18-4d8f-a6c9-c69a2cde61e9",
   "metadata": {},
   "outputs": [
    {
     "data": {
      "text/plain": [
       "['C:\\\\Users\\\\admin',\n",
       " 'C:\\\\Users\\\\admin\\\\anaconda3\\\\python38.zip',\n",
       " 'C:\\\\Users\\\\admin\\\\anaconda3\\\\DLLs',\n",
       " 'C:\\\\Users\\\\admin\\\\anaconda3\\\\lib',\n",
       " 'C:\\\\Users\\\\admin\\\\anaconda3',\n",
       " '',\n",
       " 'C:\\\\Users\\\\admin\\\\anaconda3\\\\lib\\\\site-packages',\n",
       " 'C:\\\\Users\\\\admin\\\\anaconda3\\\\lib\\\\site-packages\\\\locket-0.2.1-py3.8.egg',\n",
       " 'C:\\\\Users\\\\admin\\\\anaconda3\\\\lib\\\\site-packages\\\\win32',\n",
       " 'C:\\\\Users\\\\admin\\\\anaconda3\\\\lib\\\\site-packages\\\\win32\\\\lib',\n",
       " 'C:\\\\Users\\\\admin\\\\anaconda3\\\\lib\\\\site-packages\\\\Pythonwin',\n",
       " 'C:\\\\Users\\\\admin\\\\anaconda3\\\\lib\\\\site-packages\\\\IPython\\\\extensions',\n",
       " 'C:\\\\Users\\\\admin\\\\.ipython']"
      ]
     },
     "execution_count": 127,
     "metadata": {},
     "output_type": "execute_result"
    }
   ],
   "source": [
    "import sys\n",
    "sys.argv\n",
    "sys.path"
   ]
  },
  {
   "cell_type": "markdown",
   "id": "9b5ad143-97cb-4eec-b99e-cb1b9019b0c7",
   "metadata": {},
   "source": [
    "- pickle"
   ]
  },
  {
   "cell_type": "code",
   "execution_count": 132,
   "id": "ca691f55-854d-4cad-9b4b-bbbcd20fdbe1",
   "metadata": {},
   "outputs": [
    {
     "name": "stdout",
     "output_type": "stream",
     "text": [
      "['a', 'b', 'c']\n"
     ]
    }
   ],
   "source": [
    "import pickle\n",
    "data=['a','b','c']\n",
    "\n",
    "with open('test.pickle','wb') as f:\n",
    "    pickle.dump(data,f)\n",
    "with open('test.pickle','rb') as f:\n",
    "    read_data=pickle.load(f)\n",
    "\n",
    "print(read_data)"
   ]
  },
  {
   "cell_type": "markdown",
   "id": "903dd5bd-7540-4da2-b839-08af962ba6bc",
   "metadata": {},
   "source": [
    "- os"
   ]
  },
  {
   "cell_type": "code",
   "execution_count": 1,
   "id": "0ac061db-53c7-454a-89e2-44f7f5609410",
   "metadata": {},
   "outputs": [
    {
     "data": {
      "text/plain": [
       "'C:\\\\Users\\\\admin'"
      ]
     },
     "execution_count": 1,
     "metadata": {},
     "output_type": "execute_result"
    }
   ],
   "source": [
    "#working directory 찾기\n",
    "import os\n",
    "os.getcwd()"
   ]
  },
  {
   "cell_type": "code",
   "execution_count": 2,
   "id": "32b38331-35f0-4c4b-ac9f-2d2ecc0369dd",
   "metadata": {},
   "outputs": [],
   "source": [
    "#working directory 변경하기\n",
    "\n",
    "os.chdir('C:\\\\Users')\n",
    "os.getcwd()"
   ]
  },
  {
   "cell_type": "code",
   "execution_count": 6,
   "id": "e3be081b-3c0c-413d-b1f2-e0d4cac726a9",
   "metadata": {},
   "outputs": [],
   "source": [
    "os.chdir('C:\\\\Users\\\\admin')"
   ]
  },
  {
   "cell_type": "code",
   "execution_count": 55,
   "id": "1ebfffcd-2c0d-492a-bec1-1b6c608af67e",
   "metadata": {},
   "outputs": [
    {
     "ename": "TypeError",
     "evalue": "mkdir() missing required argument 'path' (pos 1)",
     "output_type": "error",
     "traceback": [
      "\u001b[1;31m---------------------------------------------------------------------------\u001b[0m",
      "\u001b[1;31mTypeError\u001b[0m                                 Traceback (most recent call last)",
      "\u001b[1;32m<ipython-input-55-b078a6b1df5a>\u001b[0m in \u001b[0;36m<module>\u001b[1;34m\u001b[0m\n\u001b[0;32m      1\u001b[0m \u001b[1;31m#directory 만들기\u001b[0m\u001b[1;33m\u001b[0m\u001b[1;33m\u001b[0m\u001b[1;33m\u001b[0m\u001b[0m\n\u001b[1;32m----> 2\u001b[1;33m \u001b[0mos\u001b[0m\u001b[1;33m.\u001b[0m\u001b[0mmkdir\u001b[0m\u001b[1;33m(\u001b[0m\u001b[1;33m)\u001b[0m\u001b[1;33m\u001b[0m\u001b[1;33m\u001b[0m\u001b[0m\n\u001b[0m\u001b[0;32m      3\u001b[0m \u001b[1;33m\u001b[0m\u001b[0m\n\u001b[0;32m      4\u001b[0m \u001b[1;31m#directory 삭제하기(디렉토리 안이 비어있어야 가능)\u001b[0m\u001b[1;33m\u001b[0m\u001b[1;33m\u001b[0m\u001b[1;33m\u001b[0m\u001b[0m\n\u001b[0;32m      5\u001b[0m \u001b[0mos\u001b[0m\u001b[1;33m.\u001b[0m\u001b[0mrmdir\u001b[0m\u001b[1;33m(\u001b[0m\u001b[1;33m)\u001b[0m\u001b[1;33m\u001b[0m\u001b[1;33m\u001b[0m\u001b[0m\n",
      "\u001b[1;31mTypeError\u001b[0m: mkdir() missing required argument 'path' (pos 1)"
     ]
    }
   ],
   "source": [
    "#directory 만들기\n",
    "os.mkdir()\n",
    "\n",
    "#directory 삭제하기(디렉토리 안이 비어있어야 가능)\n",
    "os.rmdir()"
   ]
  },
  {
   "cell_type": "code",
   "execution_count": 62,
   "id": "33b9f191-1603-4c6d-a53e-d834d511d59b",
   "metadata": {},
   "outputs": [],
   "source": [
    "#실습\n",
    "#py라는 디렉토리 만들기\n",
    "\n",
    "import os\n",
    "os.mkdir('PY')"
   ]
  },
  {
   "cell_type": "code",
   "execution_count": 63,
   "id": "3866563a-c08a-4361-8540-a610d5a68afd",
   "metadata": {},
   "outputs": [
    {
     "name": "stdout",
     "output_type": "stream",
     "text": [
      "C:\\Users\\admin\n"
     ]
    }
   ],
   "source": [
    "#py 디렉토리를 워킹디렉토리로 지정하기\n",
    "\n",
    "print(os.getcwd())\n",
    "os.chdir(os.getcwd()+'/PY')"
   ]
  },
  {
   "cell_type": "code",
   "execution_count": 64,
   "id": "88fdfd3f-56e8-44ac-ab27-047d25450297",
   "metadata": {},
   "outputs": [
    {
     "name": "stdout",
     "output_type": "stream",
     "text": [
      "C:\\Users\\admin\\PY\n"
     ]
    }
   ],
   "source": [
    "#워킹 디렉토리 확인하기\n",
    "print(os.getcwd())"
   ]
  },
  {
   "cell_type": "code",
   "execution_count": 30,
   "id": "2c864178-fc0b-47d8-9e20-224f874d1d6f",
   "metadata": {},
   "outputs": [],
   "source": [
    "#1,2,3,4,5,....10,가 들어있는 number.txt 안에 만들기\n",
    "with open('number.txt', 'w') as f:\n",
    "    for i in range(1,11):\n",
    "        f.write(str(i)+', ')"
   ]
  },
  {
   "cell_type": "code",
   "execution_count": 31,
   "id": "104e8e32-41ea-45d4-be13-9110aab16940",
   "metadata": {},
   "outputs": [],
   "source": [
    "#number.txt 지우기\n",
    "os.remove('number.txt')"
   ]
  },
  {
   "cell_type": "code",
   "execution_count": 66,
   "id": "90a41496-59fa-4150-9d8e-e867e5365a54",
   "metadata": {},
   "outputs": [],
   "source": [
    "#py 디렉토리도 지우기\n",
    "os.rmdir('C:/Users/admin/PY')"
   ]
  },
  {
   "cell_type": "markdown",
   "id": "fa5edcc0-1f9a-404b-b8dd-adaf1d1fd8f1",
   "metadata": {},
   "source": [
    "- shutil: 파일 복사"
   ]
  },
  {
   "cell_type": "code",
   "execution_count": 43,
   "id": "e02c0c83-5450-4489-9744-90fb430d17ee",
   "metadata": {},
   "outputs": [],
   "source": [
    "os.chdir('C:\\\\Users\\\\admin')\n",
    "\n",
    "with open('number.txt','w') as f:\n",
    "    for i in range(1,11):\n",
    "        f.write(str(i)+', ')"
   ]
  },
  {
   "cell_type": "code",
   "execution_count": 44,
   "id": "5f091923-5163-4348-b47c-dc2b6bc84f12",
   "metadata": {},
   "outputs": [
    {
     "data": {
      "text/plain": [
       "'number1.txt'"
      ]
     },
     "execution_count": 44,
     "metadata": {},
     "output_type": "execute_result"
    }
   ],
   "source": [
    "#number.txt를 number1.txt로 복사하기\n",
    "\n",
    "import shutil\n",
    "shutil.copy('number.txt','number1.txt')"
   ]
  },
  {
   "cell_type": "markdown",
   "id": "bb935760-32b6-4369-b846-94af29be9bf2",
   "metadata": {},
   "source": [
    "- glob: 디렉토리 검사"
   ]
  },
  {
   "cell_type": "code",
   "execution_count": 67,
   "id": "aff12cbd-2436-40c1-a882-171e2c2a4c85",
   "metadata": {},
   "outputs": [
    {
     "name": "stdout",
     "output_type": "stream",
     "text": [
      " C 드라이브의 볼륨에는 이름이 없습니다.\n",
      " 볼륨 일련 번호: 980B-9279\n",
      "\n",
      " C:\\Users\\admin 디렉터리\n",
      "\n",
      "2022-06-22  오전 10:57    <DIR>          .\n",
      "2022-06-22  오전 10:57    <DIR>          ..\n",
      "2022-06-14  오후 02:21    <DIR>          .conda\n",
      "2021-11-16  오전 10:09                25 .condarc\n",
      "2021-11-16  오전 10:09    <DIR>          .continuum\n",
      "2022-06-14  오전 11:34    <DIR>          .idlerc\n",
      "2022-06-21  오후 04:23    <DIR>          .ipynb_checkpoints\n",
      "2022-06-14  오후 02:11    <DIR>          .ipython\n",
      "2022-06-14  오후 02:20    <DIR>          .jupyter\n",
      "2022-06-14  오후 03:38    <DIR>          .matplotlib\n",
      "2022-06-20  오후 03:34               164 .python_history\n",
      "2022-06-21  오전 11:14    <DIR>          __pycache__\n",
      "2022-04-26  오전 03:58    <DIR>          3D Objects\n",
      "2021-11-16  오전 09:24    <DIR>          anaconda3\n",
      "2022-04-26  오전 03:58    <DIR>          Contacts\n",
      "2022-06-14  오전 11:27    <DIR>          Desktop\n",
      "2022-04-26  오전 03:58    <DIR>          Documents\n",
      "2022-06-20  오후 02:00    <DIR>          Downloads\n",
      "2022-06-22  오전 10:02               121 facto.py\n",
      "2022-06-22  오전 10:02               119 facto.txt\n",
      "2022-04-26  오전 03:58    <DIR>          Favorites\n",
      "2022-06-17  오후 05:49               922 googoodan.txt\n",
      "2022-04-26  오전 03:58    <DIR>          Links\n",
      "2022-06-20  오후 03:34               101 mod2.py\n",
      "2022-04-26  오전 03:58    <DIR>          Music\n",
      "2022-06-17  오후 04:24                33 myfile.txt\n",
      "2022-06-22  오전 10:38                31 number.txt\n",
      "2022-06-22  오전 10:38                31 number1.txt\n",
      "2021-11-09  오전 11:26    <DIR>          OneDrive\n",
      "2022-04-26  오전 03:58    <DIR>          Pictures\n",
      "2022-06-21  오후 12:19    <DIR>          python\n",
      "2022-06-21  오후 05:52             4,695 python_pandas.ipynb\n",
      "2022-04-26  오전 03:58    <DIR>          Saved Games\n",
      "2022-04-26  오전 03:58    <DIR>          Searches\n",
      "2022-06-22  오전 09:19                28 test.pickle\n",
      "2022-06-20  오전 09:08                14 test.txt\n",
      "2022-06-20  오후 02:13               106 thanks.txt\n",
      "2022-06-17  오후 01:50    <DIR>          Videos\n",
      "2022-06-22  오전 10:05           133,924 복습용.ipynb\n",
      "2022-06-22  오전 10:57           300,647 수업.ipynb\n",
      "              15개 파일             440,961 바이트\n",
      "              25개 디렉터리  955,069,718,528 바이트 남음\n"
     ]
    }
   ],
   "source": [
    "ls"
   ]
  },
  {
   "cell_type": "code",
   "execution_count": 47,
   "id": "4b3bc411-13c1-4ad4-a3c0-e61b59e077d3",
   "metadata": {},
   "outputs": [
    {
     "data": {
      "text/plain": [
       "['C:\\\\Users\\\\admin\\\\facto.txt',\n",
       " 'C:\\\\Users\\\\admin\\\\googoodan.txt',\n",
       " 'C:\\\\Users\\\\admin\\\\myfile.txt',\n",
       " 'C:\\\\Users\\\\admin\\\\number.txt',\n",
       " 'C:\\\\Users\\\\admin\\\\number1.txt',\n",
       " 'C:\\\\Users\\\\admin\\\\test.txt',\n",
       " 'C:\\\\Users\\\\admin\\\\thanks.txt']"
      ]
     },
     "execution_count": 47,
     "metadata": {},
     "output_type": "execute_result"
    }
   ],
   "source": [
    "import glob\n",
    "\n",
    "glob.glob('C:\\\\Users\\\\admin\\\\*')\n",
    "glob.glob('C:\\\\Users\\\\admin\\\\*.txt')"
   ]
  },
  {
   "cell_type": "code",
   "execution_count": 26,
   "id": "4c8be571-a112-4488-81c5-cda289d220e5",
   "metadata": {},
   "outputs": [
    {
     "name": "stdout",
     "output_type": "stream",
     "text": [
      "C:\\Users\\admin\n"
     ]
    },
    {
     "data": {
      "text/plain": [
       "['C:\\\\Users\\\\admin/python\\\\mod1.py',\n",
       " 'C:\\\\Users\\\\admin/python\\\\mod10.py',\n",
       " 'C:\\\\Users\\\\admin/python\\\\mod2.py',\n",
       " 'C:\\\\Users\\\\admin/python\\\\myargv.py',\n",
       " 'C:\\\\Users\\\\admin/python\\\\sys1.py']"
      ]
     },
     "execution_count": 26,
     "metadata": {},
     "output_type": "execute_result"
    }
   ],
   "source": [
    "#실습\n",
    "#glob모듈 사용하여 c:/python디렉토리의 파일 중 확장자가 .py인 파일만 출력하도록 함\n",
    "import glob\n",
    "import os\n",
    "print(os.getcwd())\n",
    "path=os.getcwd()\n",
    "\n",
    "glob.glob(path+'/python/*.py')"
   ]
  },
  {
   "cell_type": "markdown",
   "id": "5d51991b-18f7-4728-a41d-d8a1e8ade8c2",
   "metadata": {},
   "source": [
    "- time"
   ]
  },
  {
   "cell_type": "code",
   "execution_count": 54,
   "id": "4df19749-cc43-4d46-9b2b-505b6e040473",
   "metadata": {},
   "outputs": [
    {
     "name": "stdout",
     "output_type": "stream",
     "text": [
      "1655862357.9500713\n",
      "52.50705092434269\n"
     ]
    }
   ],
   "source": [
    "import time\n",
    "\n",
    "print(time.time())    #1970년 1월 1일 0시 0분 0초를 기준으로 지난시간을 초단위로 돌려줌\n",
    "print(time.time()/60/60/24/365)    #위 시간으로부터 몇년이 지났는지?"
   ]
  },
  {
   "cell_type": "code",
   "execution_count": 51,
   "id": "1e48d27c-2c76-4526-98b0-a4c7422fd8fb",
   "metadata": {},
   "outputs": [
    {
     "data": {
      "text/plain": [
       "time.struct_time(tm_year=2022, tm_mon=6, tm_mday=22, tm_hour=10, tm_min=44, tm_sec=12, tm_wday=2, tm_yday=173, tm_isdst=0)"
      ]
     },
     "execution_count": 51,
     "metadata": {},
     "output_type": "execute_result"
    }
   ],
   "source": [
    "time.localtime(time.time())"
   ]
  },
  {
   "cell_type": "code",
   "execution_count": 52,
   "id": "cb1047f6-210c-4196-958a-7f6029315b92",
   "metadata": {},
   "outputs": [
    {
     "data": {
      "text/plain": [
       "'Wed Jun 22 10:44:52 2022'"
      ]
     },
     "execution_count": 52,
     "metadata": {},
     "output_type": "execute_result"
    }
   ],
   "source": [
    "time.asctime(time.localtime(time.time()))"
   ]
  },
  {
   "cell_type": "code",
   "execution_count": 56,
   "id": "8a572943-ec5f-441a-9091-98d36e20d2e6",
   "metadata": {},
   "outputs": [
    {
     "data": {
      "text/plain": [
       "'Wed Jun 22 10:48:43 2022'"
      ]
     },
     "execution_count": 56,
     "metadata": {},
     "output_type": "execute_result"
    }
   ],
   "source": [
    "time.ctime()"
   ]
  },
  {
   "cell_type": "code",
   "execution_count": 57,
   "id": "3e7e29eb-1efd-4d2b-9664-5bb0b0d3bbf3",
   "metadata": {},
   "outputs": [
    {
     "name": "stdout",
     "output_type": "stream",
     "text": [
      "0\n",
      "1\n",
      "2\n",
      "3\n",
      "4\n"
     ]
    }
   ],
   "source": [
    "for i in range(5):\n",
    "    print(i)\n",
    "    time.sleep(1)"
   ]
  },
  {
   "cell_type": "code",
   "execution_count": 68,
   "id": "0634ec55-e1dc-433a-b9c6-e4e7bd7d17b7",
   "metadata": {},
   "outputs": [
    {
     "data": {
      "text/plain": [
       "'2022'"
      ]
     },
     "execution_count": 68,
     "metadata": {},
     "output_type": "execute_result"
    }
   ],
   "source": [
    "time.strftime('%Y',time.localtime(time.time()))"
   ]
  },
  {
   "cell_type": "code",
   "execution_count": 76,
   "id": "b40f166c-7dd3-4a02-9008-d696c3e93bf3",
   "metadata": {},
   "outputs": [
    {
     "data": {
      "text/plain": [
       "'2022/06/22 Wednesday AM 11:17:44'"
      ]
     },
     "execution_count": 76,
     "metadata": {},
     "output_type": "execute_result"
    }
   ],
   "source": [
    "time.strftime('%Y/%m/%d %A %p %X',time.localtime(time.time()))"
   ]
  },
  {
   "cell_type": "code",
   "execution_count": 29,
   "id": "0d90bf01-68fe-456c-843f-168697d492f4",
   "metadata": {},
   "outputs": [
    {
     "data": {
      "text/plain": [
       "'2022/06/22 11:53:01'"
      ]
     },
     "execution_count": 29,
     "metadata": {},
     "output_type": "execute_result"
    }
   ],
   "source": [
    "#실습\n",
    "#2018/04/03 17:20:32 생성\n",
    "\n",
    "import time\n",
    "time.strftime('%Y/%m/%d %X',time.localtime(time.time()))"
   ]
  },
  {
   "cell_type": "markdown",
   "id": "721abdf5-f69b-4e4d-8da1-7ffb5ee64f9c",
   "metadata": {},
   "source": [
    "- datetime"
   ]
  },
  {
   "cell_type": "code",
   "execution_count": 3,
   "id": "a1f8848d-d800-47df-914f-f6ce54076868",
   "metadata": {},
   "outputs": [],
   "source": [
    "import datetime\n",
    "from datetime import datetime, date, time"
   ]
  },
  {
   "cell_type": "code",
   "execution_count": 11,
   "id": "4c595d16-c41f-4e4d-bab0-b71d422857b0",
   "metadata": {},
   "outputs": [
    {
     "name": "stdout",
     "output_type": "stream",
     "text": [
      "2011-10-29 20:30:21\n",
      "10\n",
      "29\n"
     ]
    }
   ],
   "source": [
    "dt=datetime(2011,10,29,20,30,21)\n",
    "print(dt)\n",
    "\n",
    "print(dt.month)\n",
    "print(dt.day)"
   ]
  },
  {
   "cell_type": "code",
   "execution_count": 21,
   "id": "c0d45336-b159-4793-bed5-51302923b666",
   "metadata": {},
   "outputs": [
    {
     "name": "stdout",
     "output_type": "stream",
     "text": [
      "2022\n",
      "6\n",
      "24\n",
      "16\n",
      "29\n",
      "13\n",
      "2022-06-24\n",
      "16:29:13.678641\n"
     ]
    }
   ],
   "source": [
    "dt=datetime.now()\n",
    "print(dt.year)\n",
    "print(dt.month)\n",
    "print(dt.day)\n",
    "print(dt.hour)\n",
    "print(dt.minute)\n",
    "print(dt.second)\n",
    "\n",
    "print(dt.date())\n",
    "print(dt.time())"
   ]
  },
  {
   "cell_type": "code",
   "execution_count": 26,
   "id": "3e1a7868-32f9-47d1-8092-50e232d5a79d",
   "metadata": {},
   "outputs": [
    {
     "data": {
      "text/plain": [
       "'06/24/2022 16:29'"
      ]
     },
     "execution_count": 26,
     "metadata": {},
     "output_type": "execute_result"
    }
   ],
   "source": [
    "dt.strftime('%m/%d/%Y %H:%M') #데이트타입을 문자열로 바꿔줌"
   ]
  },
  {
   "cell_type": "code",
   "execution_count": 31,
   "id": "e430d7ca-acee-437a-9c87-ff5fb55d0043",
   "metadata": {},
   "outputs": [],
   "source": [
    "dt2=datetime.strptime('2009/10/31','%Y/%m/%d')  #문자열을 데이트타입으로 바꿔줌"
   ]
  },
  {
   "cell_type": "code",
   "execution_count": 39,
   "id": "f3258460-5814-4019-88d1-7b60e39a88f1",
   "metadata": {},
   "outputs": [
    {
     "name": "stdout",
     "output_type": "stream",
     "text": [
      "4619 days, 16:38:22.520005\n"
     ]
    },
    {
     "data": {
      "text/plain": [
       "datetime.datetime(2022, 6, 24, 16, 38, 22, 520005)"
      ]
     },
     "execution_count": 39,
     "metadata": {},
     "output_type": "execute_result"
    }
   ],
   "source": [
    "#시간의 연산\n",
    "\n",
    "dt=datetime.now()\n",
    "\n",
    "dtt=dt-dt2\n",
    "print(dtt)  #time delta 객체가 나옴\n",
    "\n",
    "dt2+dtt"
   ]
  },
  {
   "cell_type": "code",
   "execution_count": 46,
   "id": "331b0fff-0576-4cc1-b33d-5d6f56385d6d",
   "metadata": {},
   "outputs": [
    {
     "name": "stdout",
     "output_type": "stream",
     "text": [
      "오늘부터 종강일까지 남은 D-day는 164 일\n",
      "5.466666666666667\n"
     ]
    }
   ],
   "source": [
    "#문제\n",
    "#종강까지 남은 기간\n",
    "\n",
    "final=datetime.strptime('20221206','%Y%m%d')\n",
    "today=datetime.now()\n",
    "\n",
    "d=final-today\n",
    "\n",
    "print('오늘부터 종강일까지 남은 D-day는',d.days,'일')"
   ]
  },
  {
   "cell_type": "markdown",
   "id": "1c2ee8ec-25b4-4a4d-9fbf-58c483dea7f9",
   "metadata": {},
   "source": [
    "- calendar"
   ]
  },
  {
   "cell_type": "code",
   "execution_count": 80,
   "id": "fb605d2d-66e1-4d9d-ad4f-073d9d4e83c4",
   "metadata": {},
   "outputs": [
    {
     "name": "stdout",
     "output_type": "stream",
     "text": [
      "                                  2022\n",
      "\n",
      "      January                   February                   March\n",
      "Mo Tu We Th Fr Sa Su      Mo Tu We Th Fr Sa Su      Mo Tu We Th Fr Sa Su\n",
      "                1  2          1  2  3  4  5  6          1  2  3  4  5  6\n",
      " 3  4  5  6  7  8  9       7  8  9 10 11 12 13       7  8  9 10 11 12 13\n",
      "10 11 12 13 14 15 16      14 15 16 17 18 19 20      14 15 16 17 18 19 20\n",
      "17 18 19 20 21 22 23      21 22 23 24 25 26 27      21 22 23 24 25 26 27\n",
      "24 25 26 27 28 29 30      28                        28 29 30 31\n",
      "31\n",
      "\n",
      "       April                      May                       June\n",
      "Mo Tu We Th Fr Sa Su      Mo Tu We Th Fr Sa Su      Mo Tu We Th Fr Sa Su\n",
      "             1  2  3                         1             1  2  3  4  5\n",
      " 4  5  6  7  8  9 10       2  3  4  5  6  7  8       6  7  8  9 10 11 12\n",
      "11 12 13 14 15 16 17       9 10 11 12 13 14 15      13 14 15 16 17 18 19\n",
      "18 19 20 21 22 23 24      16 17 18 19 20 21 22      20 21 22 23 24 25 26\n",
      "25 26 27 28 29 30         23 24 25 26 27 28 29      27 28 29 30\n",
      "                          30 31\n",
      "\n",
      "        July                     August                  September\n",
      "Mo Tu We Th Fr Sa Su      Mo Tu We Th Fr Sa Su      Mo Tu We Th Fr Sa Su\n",
      "             1  2  3       1  2  3  4  5  6  7                1  2  3  4\n",
      " 4  5  6  7  8  9 10       8  9 10 11 12 13 14       5  6  7  8  9 10 11\n",
      "11 12 13 14 15 16 17      15 16 17 18 19 20 21      12 13 14 15 16 17 18\n",
      "18 19 20 21 22 23 24      22 23 24 25 26 27 28      19 20 21 22 23 24 25\n",
      "25 26 27 28 29 30 31      29 30 31                  26 27 28 29 30\n",
      "\n",
      "      October                   November                  December\n",
      "Mo Tu We Th Fr Sa Su      Mo Tu We Th Fr Sa Su      Mo Tu We Th Fr Sa Su\n",
      "                1  2          1  2  3  4  5  6                1  2  3  4\n",
      " 3  4  5  6  7  8  9       7  8  9 10 11 12 13       5  6  7  8  9 10 11\n",
      "10 11 12 13 14 15 16      14 15 16 17 18 19 20      12 13 14 15 16 17 18\n",
      "17 18 19 20 21 22 23      21 22 23 24 25 26 27      19 20 21 22 23 24 25\n",
      "24 25 26 27 28 29 30      28 29 30                  26 27 28 29 30 31\n",
      "31\n",
      "\n"
     ]
    }
   ],
   "source": [
    "import calendar\n",
    "\n",
    "print(calendar.calendar(2022))"
   ]
  },
  {
   "cell_type": "code",
   "execution_count": 81,
   "id": "27767391-d519-4537-8228-4e58ffb471a3",
   "metadata": {},
   "outputs": [
    {
     "name": "stdout",
     "output_type": "stream",
     "text": [
      "                                  2015\n",
      "\n",
      "      January                   February                   March\n",
      "Mo Tu We Th Fr Sa Su      Mo Tu We Th Fr Sa Su      Mo Tu We Th Fr Sa Su\n",
      "          1  2  3  4                         1                         1\n",
      " 5  6  7  8  9 10 11       2  3  4  5  6  7  8       2  3  4  5  6  7  8\n",
      "12 13 14 15 16 17 18       9 10 11 12 13 14 15       9 10 11 12 13 14 15\n",
      "19 20 21 22 23 24 25      16 17 18 19 20 21 22      16 17 18 19 20 21 22\n",
      "26 27 28 29 30 31         23 24 25 26 27 28         23 24 25 26 27 28 29\n",
      "                                                    30 31\n",
      "\n",
      "       April                      May                       June\n",
      "Mo Tu We Th Fr Sa Su      Mo Tu We Th Fr Sa Su      Mo Tu We Th Fr Sa Su\n",
      "       1  2  3  4  5                   1  2  3       1  2  3  4  5  6  7\n",
      " 6  7  8  9 10 11 12       4  5  6  7  8  9 10       8  9 10 11 12 13 14\n",
      "13 14 15 16 17 18 19      11 12 13 14 15 16 17      15 16 17 18 19 20 21\n",
      "20 21 22 23 24 25 26      18 19 20 21 22 23 24      22 23 24 25 26 27 28\n",
      "27 28 29 30               25 26 27 28 29 30 31      29 30\n",
      "\n",
      "        July                     August                  September\n",
      "Mo Tu We Th Fr Sa Su      Mo Tu We Th Fr Sa Su      Mo Tu We Th Fr Sa Su\n",
      "       1  2  3  4  5                      1  2          1  2  3  4  5  6\n",
      " 6  7  8  9 10 11 12       3  4  5  6  7  8  9       7  8  9 10 11 12 13\n",
      "13 14 15 16 17 18 19      10 11 12 13 14 15 16      14 15 16 17 18 19 20\n",
      "20 21 22 23 24 25 26      17 18 19 20 21 22 23      21 22 23 24 25 26 27\n",
      "27 28 29 30 31            24 25 26 27 28 29 30      28 29 30\n",
      "                          31\n",
      "\n",
      "      October                   November                  December\n",
      "Mo Tu We Th Fr Sa Su      Mo Tu We Th Fr Sa Su      Mo Tu We Th Fr Sa Su\n",
      "          1  2  3  4                         1          1  2  3  4  5  6\n",
      " 5  6  7  8  9 10 11       2  3  4  5  6  7  8       7  8  9 10 11 12 13\n",
      "12 13 14 15 16 17 18       9 10 11 12 13 14 15      14 15 16 17 18 19 20\n",
      "19 20 21 22 23 24 25      16 17 18 19 20 21 22      21 22 23 24 25 26 27\n",
      "26 27 28 29 30 31         23 24 25 26 27 28 29      28 29 30 31\n",
      "                          30\n"
     ]
    }
   ],
   "source": [
    "calendar.prcal(2015)"
   ]
  },
  {
   "cell_type": "code",
   "execution_count": 84,
   "id": "c888f8b4-bd25-453c-ad23-1fb9e9b7a1e6",
   "metadata": {},
   "outputs": [
    {
     "name": "stdout",
     "output_type": "stream",
     "text": [
      "     June 2022\n",
      "Mo Tu We Th Fr Sa Su\n",
      "       1  2  3  4  5\n",
      " 6  7  8  9 10 11 12\n",
      "13 14 15 16 17 18 19\n",
      "20 21 22 23 24 25 26\n",
      "27 28 29 30\n"
     ]
    }
   ],
   "source": [
    "calendar.prmonth(2022,6)"
   ]
  },
  {
   "cell_type": "code",
   "execution_count": 87,
   "id": "24560690-4f40-4956-8512-7aedc7c32440",
   "metadata": {},
   "outputs": [
    {
     "data": {
      "text/plain": [
       "6"
      ]
     },
     "execution_count": 87,
     "metadata": {},
     "output_type": "execute_result"
    }
   ],
   "source": [
    "calendar.weekday(2022,6,26)          #월요일=0, 화요일=1,.....,일요일=6"
   ]
  },
  {
   "cell_type": "code",
   "execution_count": 89,
   "id": "1e3e3171-a80e-46ed-a074-b9ea0e8f421c",
   "metadata": {},
   "outputs": [
    {
     "data": {
      "text/plain": [
       "(1, 28)"
      ]
     },
     "execution_count": 89,
     "metadata": {},
     "output_type": "execute_result"
    }
   ],
   "source": [
    "calendar.monthrange(2022,2)"
   ]
  },
  {
   "cell_type": "markdown",
   "id": "710cd1da-7ae9-446e-bc5a-374f78deefae",
   "metadata": {},
   "source": [
    "- random"
   ]
  },
  {
   "cell_type": "code",
   "execution_count": 9,
   "id": "a7ab8205-86d1-44de-bf11-d447c1cf5e13",
   "metadata": {},
   "outputs": [
    {
     "name": "stdout",
     "output_type": "stream",
     "text": [
      "0.9306653153946666\n",
      "1.065130159247338\n",
      "0.811164317484113, 0.7953816489459564, 0.4192334664514238, 0.006870682870945943, 0.21922499674008822, 0.9646516346949232, 0.08803620792443301, 0.6847022515229277, 0.20544627874158472, 0.6891897027688867, 0.6055243447569967, 0.03739762462057017, 0.6779597051788925, 0.18612894461013318, 0.3224317382724825, 0.57418125728956, 0.7871733542879062, 0.5066804844145045, 0.29117525083635265, 0.9300559543592232, 0.8766708793124816, 0.6162073328551583, 0.33066528671243645, 0.22014001889020884, 0.14865109592794645, 0.22391476451979475, 0.06406159411235268, 0.1521952246519852, 0.9603314172883554, 0.47390300573913147, 0.5156388741912211, 0.36858037033429036, 0.5474591220694607, 0.44986829023515806, 0.821970106524391, 0.27127760362547604, 0.27260291918273893, 0.34361954973255204, 0.6073270438668573, 0.9542207503321705, 0.3104325739203334, 0.6034890727813033, 0.7997445575045407, 0.6088242293110021, 0.3476775911111354, 0.09925114561571724, 0.8698148700181184, 0.859446808542494, 0.08706201696878546, 0.8510058757077702, 0.7990130670374871, 0.24782876887354366, 0.45939742861176014, 0.9104963880507462, 0.757543010766867, 0.08360044272402678, 0.40958324274323055, 0.91870938620502, 0.5746221038406523, 0.233980459107349, 0.8847983016079368, 0.4642008341372853, 0.2651984916811858, 0.6318210925228316, 0.880140736833619, 0.5610844586380364, 0.5738155581764032, 0.38297939175331464, 0.06014990260508857, 0.6866345265083132, 0.7872390703331527, 0.7524231794545638, 0.69013660148554, 0.6534002514466462, 0.41561600693501743, 0.4846226268870434, 0.5571309689219621, 0.638955838372051, 0.17044357787277054, 0.7548154597785635, 0.7024850136369054, 0.02776006792945729, 0.17874448288606726, 0.447561306473644, 0.8946673412361401, 0.2816442843881598, 0.6674121281494716, 0.2713698657565605, 0.09051188858338077, 0.38551216654152487, 0.3282077301700538, 0.06916202764706048, 0.5168234088568967, 0.3994809897571966, 0.2677380709170646, 0.21163225970979793, 0.5900268196821115, 0.8177455082552743, 0.3152946817096255, 0.7436368620786724, "
     ]
    }
   ],
   "source": [
    "import random\n",
    "\n",
    "#0.0~1.0 사이에 난수 반환\n",
    "print(random.random())\n",
    "\n",
    "#해당 범위 내에서 난수 반환\n",
    "print(random.uniform(1,2))\n",
    "\n",
    "\n",
    "#여러개 난수 반환\n",
    "for i in range(100):\n",
    "    print(random.random(), end=\", \")"
   ]
  },
  {
   "cell_type": "code",
   "execution_count": 7,
   "id": "3a93574b-f660-419a-ac61-4f1183e2293c",
   "metadata": {},
   "outputs": [
    {
     "name": "stdout",
     "output_type": "stream",
     "text": [
      "[223, 208, 5013, 3885, 5079]\n",
      "[2, 7, 2, 3, 9]\n"
     ]
    }
   ],
   "source": [
    "#해당 범위 사이에서 정수 랜덤값 반환\n",
    "random.randint(1,10)     #끝값을 포함함\n",
    "\n",
    "li=[]\n",
    "for i in range(5):\n",
    "    li.append(random.randint(1,5555))\n",
    "print(li)\n",
    "\n",
    "li=[random.randint(1,10) for i in range(5)]\n",
    "print(li)"
   ]
  },
  {
   "cell_type": "code",
   "execution_count": 4,
   "id": "51c73821-32f1-4900-b079-68732ae4068e",
   "metadata": {},
   "outputs": [
    {
     "data": {
      "text/plain": [
       "\u001b[1;31mSignature:\u001b[0m \u001b[0mrandom\u001b[0m\u001b[1;33m.\u001b[0m\u001b[0mrandom\u001b[0m\u001b[1;33m(\u001b[0m\u001b[1;33m)\u001b[0m\u001b[1;33m\u001b[0m\u001b[1;33m\u001b[0m\u001b[0m\n",
       "\u001b[1;31mDocstring:\u001b[0m random() -> x in the interval [0, 1).\n",
       "\u001b[1;31mType:\u001b[0m      builtin_function_or_method\n"
      ]
     },
     "metadata": {},
     "output_type": "display_data"
    }
   ],
   "source": [
    "random.random?"
   ]
  },
  {
   "cell_type": "code",
   "execution_count": 5,
   "id": "d70c1704-a507-404c-9e1a-2e004f018a1e",
   "metadata": {},
   "outputs": [
    {
     "data": {
      "text/plain": [
       "2"
      ]
     },
     "execution_count": 5,
     "metadata": {},
     "output_type": "execute_result"
    }
   ],
   "source": [
    "#리스트 요소 중 무작위로 한 숫자 선택\n",
    "random.choice(list(range(0,10)))"
   ]
  },
  {
   "cell_type": "code",
   "execution_count": 8,
   "id": "17bf9b44-84c6-4e00-9d96-d90ced7db57d",
   "metadata": {},
   "outputs": [
    {
     "name": "stdout",
     "output_type": "stream",
     "text": [
      "[7, 5, 0, 3, 6, 8, 4, 9, 2, 1]\n"
     ]
    }
   ],
   "source": [
    "#리스트 내 무작위 섞기\n",
    "data= list(range(0,10))\n",
    "random.shuffle(data)        #따로 저장하지 않아도 무작위된 상태로 저장됨\n",
    "print(data)"
   ]
  },
  {
   "cell_type": "code",
   "execution_count": 20,
   "id": "519ca87d-f79a-448d-9853-e73606577d83",
   "metadata": {},
   "outputs": [
    {
     "data": {
      "text/plain": [
       "2"
      ]
     },
     "execution_count": 20,
     "metadata": {},
     "output_type": "execute_result"
    }
   ],
   "source": [
    "#seed method는 어떤 세트의 랜덤한 숫자를 생성해두고, seed가 선언된 다음에 발생하는\n",
    "#rand method에서 미리 정해진 세트의 난수를 return하도록 함\n",
    "random.seed(3)\n",
    "random.randint(1,5)"
   ]
  },
  {
   "cell_type": "code",
   "execution_count": 19,
   "id": "01420bfe-af6f-445c-8c5e-1d53ab4c2ba2",
   "metadata": {},
   "outputs": [
    {
     "data": {
      "text/plain": [
       "5"
      ]
     },
     "execution_count": 19,
     "metadata": {},
     "output_type": "execute_result"
    }
   ],
   "source": [
    "random.randint(1,5)"
   ]
  },
  {
   "cell_type": "markdown",
   "id": "698b43d3-f795-4c0b-ad30-da2ef09345f2",
   "metadata": {},
   "source": [
    "- webbrowser"
   ]
  },
  {
   "cell_type": "code",
   "execution_count": 22,
   "id": "31633cd2-c7ab-413c-b716-a293d48b7a2d",
   "metadata": {},
   "outputs": [
    {
     "data": {
      "text/plain": [
       "True"
      ]
     },
     "execution_count": 22,
     "metadata": {},
     "output_type": "execute_result"
    }
   ],
   "source": [
    "#해당 웹브라우저 창을 띄움\n",
    "\n",
    "import webbrowser\n",
    "webbrowser.open('http:/google.com')"
   ]
  },
  {
   "cell_type": "markdown",
   "id": "d895a9e8-3b85-47c5-b3be-0c56127f940c",
   "metadata": {},
   "source": [
    "- threading"
   ]
  },
  {
   "cell_type": "code",
   "execution_count": 122,
   "id": "92cbea32-1414-4769-9368-8b6379e6a31b",
   "metadata": {},
   "outputs": [
    {
     "name": "stdout",
     "output_type": "stream",
     "text": [
      "Start\n",
      "working: 0\n",
      "working: 1\n",
      "working: 2\n",
      "working: 3\n",
      "working: 4\n",
      "working: 0\n",
      "working: 1\n",
      "working: 2\n",
      "working: 3\n",
      "working: 4\n",
      "working: 0\n",
      "working: 1\n",
      "working: 2\n",
      "working: 3\n",
      "working: 4\n",
      "working: 0\n",
      "working: 1\n",
      "working: 2\n",
      "working: 3\n",
      "working: 4\n",
      "working: 0\n",
      "working: 1\n",
      "working: 2\n",
      "working: 3\n",
      "working: 4\n",
      "End\n"
     ]
    }
   ],
   "source": [
    "import time\n",
    "\n",
    "def long_task():\n",
    "    for i in range(5):\n",
    "        time.sleep(1)\n",
    "        print('working: %s' % i)\n",
    "print('Start') \n",
    "\n",
    "for i in range(5):\n",
    "    long_task()\n",
    "print('End')"
   ]
  },
  {
   "cell_type": "code",
   "execution_count": 33,
   "id": "7afd0376-0271-4500-a401-866ea8a11bfe",
   "metadata": {},
   "outputs": [
    {
     "name": "stdout",
     "output_type": "stream",
     "text": [
      "Start\n",
      "End\n",
      "working: 0\n",
      "working: 0\n",
      "working: 0\n",
      "working: 0\n",
      "working: 0\n",
      "working: 1working: 1\n",
      "\n",
      "working: 1working: 1\n",
      "\n",
      "working: 1\n",
      "working: 2working: 2\n",
      "\n",
      "working: 2working: 2\n",
      "\n",
      "working: 2\n",
      "working: 3\n",
      "working: 3\n",
      "working: 3working: 3\n",
      "working: 3\n",
      "\n",
      "working: 4\n",
      "working: 4\n",
      "working: 4\n",
      "working: 4\n",
      "working: 4\n"
     ]
    }
   ],
   "source": [
    "#동시에 진행\n",
    "\n",
    "import time\n",
    "import threading\n",
    "\n",
    "def long_task():\n",
    "    for i in range(5):\n",
    "        time.sleep(1)\n",
    "        print('working: %s' % i)\n",
    "print('Start') \n",
    "\n",
    "threads=[]\n",
    "for i in range(5):\n",
    "    t=threading.Thread(target=long_task)     #스레드 생성\n",
    "    threads.append(t)\n",
    "\n",
    "for t in threads:\n",
    "    t.start()\n",
    "    \n",
    "print('End')"
   ]
  },
  {
   "cell_type": "code",
   "execution_count": 34,
   "id": "7aa37fbd-95c9-455f-8624-b985e196ff5e",
   "metadata": {},
   "outputs": [
    {
     "name": "stdout",
     "output_type": "stream",
     "text": [
      "Start\n",
      "working: 0\n",
      "working: 0\n",
      "working: 0\n",
      "working: 0\n",
      "working: 0\n",
      "working: 1working: 1working: 1\n",
      "\n",
      "\n",
      "working: 1\n",
      "working: 1\n",
      "working: 2working: 2\n",
      "\n",
      "working: 2working: 2\n",
      "\n",
      "working: 2\n",
      "working: 3working: 3\n",
      "\n",
      "working: 3\n",
      "working: 3\n",
      "working: 3\n",
      "working: 4\n",
      "working: 4\n",
      "working: 4working: 4\n",
      "\n",
      "working: 4\n",
      "End\n"
     ]
    }
   ],
   "source": [
    "import time\n",
    "import threading\n",
    "\n",
    "def long_task():\n",
    "    for i in range(5):\n",
    "        time.sleep(1)\n",
    "        print('working: %s' % i)\n",
    "print('Start') \n",
    "\n",
    "threads=[]\n",
    "for i in range(5):\n",
    "    t=threading.Thread(target=long_task)     #스레드 생성\n",
    "    threads.append(t)\n",
    "\n",
    "for t in threads:\n",
    "    t.start()      #스레드 실행\n",
    "for t in threads:\n",
    "    t.join()     #스레드가 진행될때까지 기다리기\n",
    "    \n",
    "print('End')"
   ]
  },
  {
   "cell_type": "markdown",
   "id": "510e51aa-b370-4db7-9cb4-f4ce217e8ceb",
   "metadata": {},
   "source": [
    "# 실습"
   ]
  },
  {
   "cell_type": "code",
   "execution_count": 38,
   "id": "f1f3b8b0-4453-4817-b4f0-2b7895838eb1",
   "metadata": {},
   "outputs": [
    {
     "name": "stdout",
     "output_type": "stream",
     "text": [
      "<3단>\n",
      "3 X 1 = 3\n",
      "3 X 2 = 6\n",
      "3 X 3 = 9\n",
      "3 X 4 = 12\n",
      "3 X 5 = 15\n",
      "3 X 6 = 18\n",
      "3 X 7 = 21\n",
      "3 X 8 = 24\n",
      "3 X 9 = 27\n",
      "\n"
     ]
    }
   ],
   "source": [
    "#입력받은 숫자의 구구단을 만들기\n",
    "\n",
    "def gugu(num):\n",
    "    print(f'<{num}단>')\n",
    "    for i in range(1,10):\n",
    "        print(f'{num} X {i} = {num*i}')\n",
    "    print()\n",
    "\n",
    "gugu(3)"
   ]
  },
  {
   "cell_type": "code",
   "execution_count": 42,
   "id": "1a6e758c-b9cb-426d-bc9e-c7b46ab13406",
   "metadata": {},
   "outputs": [
    {
     "name": "stdout",
     "output_type": "stream",
     "text": [
      "[3, 6, 9, 12, 15, 18, 21, 24, 27]\n"
     ]
    }
   ],
   "source": [
    "def gugu_ans(num):\n",
    "    li=[]\n",
    "    for i in range(1,10):\n",
    "        li.append(num*i)\n",
    "    print(li)\n",
    "    \n",
    "gugu_ans(3)"
   ]
  },
  {
   "cell_type": "code",
   "execution_count": 69,
   "id": "d054795d-1b7b-44ed-bf8a-d46c3d143938",
   "metadata": {},
   "outputs": [
    {
     "name": "stdout",
     "output_type": "stream",
     "text": [
      "2318\n",
      "2318\n"
     ]
    }
   ],
   "source": [
    "#1000미만의 자연수 중 3,5의 배수의 총합을 구하여라\n",
    "\n",
    "def multi(n):\n",
    "    sum=0\n",
    "    for i in range(1,n):\n",
    "        if i%3==0 or i%5==0:\n",
    "            sum+=i\n",
    "    print(sum) \n",
    "\n",
    "multi(100)\n",
    "    \n",
    "def multi_2(num):\n",
    "    n=0\n",
    "    sum=0\n",
    "    t=True\n",
    "    while t:\n",
    "        n+=1\n",
    "        if n%3==0 or n%5==0:\n",
    "            sum+=n\n",
    "        if n==99:\n",
    "            t=False\n",
    "    print(sum)\n",
    "\n",
    "multi_2(100)"
   ]
  },
  {
   "cell_type": "code",
   "execution_count": 75,
   "id": "dcfb528c-8920-4eae-8eb5-dec53a9bdc13",
   "metadata": {},
   "outputs": [
    {
     "name": "stdout",
     "output_type": "stream",
     "text": [
      "11\n",
      "3\n"
     ]
    }
   ],
   "source": [
    "#게시물 수에 따라 총 페이지 수\n",
    "\n",
    "def getTotalPage(n):\n",
    "    m=n//10\n",
    "    if m==0:\n",
    "        return m\n",
    "    else:\n",
    "        return m+1\n",
    "\n",
    "print(getTotalPage(105))\n",
    "\n",
    "\n",
    "#게시물 수와 한 페이지에 들어가는 게시물 수에 따라 필요한 총 페이지 수\n",
    "def getTPage(m,n):\n",
    "    p=m//n\n",
    "    if p==0:\n",
    "        return p\n",
    "    else:\n",
    "        return p+1\n",
    "\n",
    "print(getTPage(29,14))"
   ]
  },
  {
   "cell_type": "code",
   "execution_count": null,
   "id": "6d435251-d590-4f4f-bb2a-6c625a1be065",
   "metadata": {},
   "outputs": [],
   "source": [
    "#옵션에 따라 원하는 메모를 파일에 저장하고 추가/조회가 가능한 메모장을 작성\n",
    "import sys\n",
    "option=sys.argv[1]\n",
    "memo=sys.argv[2:]\n",
    "\n",
    "if option=='-a':\n",
    "    with open('memo.txt','w') as f:\n",
    "        for m in memo:\n",
    "            f.write(memo+'\\n')\n",
    "if option=='-w':\n",
    "    with open('memo.txt','a') as f:\n",
    "        for m in memo:\n",
    "            f.write(memo+'\\n')\n",
    "\n",
    "with open('memo.txt','r') as f:\n",
    "    lines=f.readlines()\n",
    "    for line in lines:\n",
    "        print(line)"
   ]
  },
  {
   "cell_type": "code",
   "execution_count": 14,
   "id": "78f619b9-5b05-4510-b81c-9dace2e2076e",
   "metadata": {},
   "outputs": [
    {
     "name": "stdout",
     "output_type": "stream",
     "text": [
      "Life\tis\ttoo\tshort\n",
      "You\tneed\tpython\n",
      "\n"
     ]
    }
   ],
   "source": [
    "#탭을 4개의 공백으로 바꾸기\n",
    "\n",
    "import os\n",
    "os.getcwd()\n",
    "\n",
    "import glob\n",
    "glob.glob(os.getcwd()+'/*.py')\n",
    "\n",
    "with open('a.txt','r') as f:\n",
    "    lines=f.readlines()\n",
    "    for line in lines:\n",
    "        print(line.strip())\n",
    "\n",
    "with open('tabto4.py','w') as f:\n",
    "    f.write('''\n",
    "import sys\n",
    "args=sys.argv\n",
    "    \n",
    "src=args[1]\n",
    "dst=args[2]\n",
    "    \n",
    "with open(src,'r') as f:\n",
    "    lines=f.readlines()\n",
    "    with open(dst,'a') as fw:\n",
    "        for line in lines:\n",
    "            fw.write(line.replace(\"\\t\",\"    \"))\n",
    "with open(dst,'r') as fr:\n",
    "    lines=fr.readlines()\n",
    "    for line in lines:\n",
    "        print(line.strip())\n",
    "    ''')\n",
    "\n"
   ]
  },
  {
   "cell_type": "code",
   "execution_count": 19,
   "id": "0686e9c4-7910-4356-ad8d-5bdf0a3ff6c0",
   "metadata": {},
   "outputs": [],
   "source": [
    "import os\n",
    "os.getcwd()\n",
    "\n",
    "import glob\n",
    "glob.glob(os.getcwd()+'/*.txt')\n",
    "\n",
    "with open('a.txt','w')as f:\n",
    "    f.write('''\n",
    "Life\\tis\\tshort\n",
    "You\\tnedd\\tpython\n",
    "''')\n",
    "    \n",
    "with open('tabtofour.py','w') as fw:\n",
    "    fw.write('''\n",
    "import sys\n",
    "\n",
    "src=sys.argv[1]\n",
    "dst=sys.argv[2]\n",
    "\n",
    "with open(src,'r') as fr:\n",
    "    lines=fr.readlines()\n",
    "    with open(dst,'w') as fa:\n",
    "        for line in lines:\n",
    "            fa.write(line.replace('\\t','    '))\n",
    "\n",
    "with open(dst,'r') as f:\n",
    "    lines=f.readlines()\n",
    "    for line in lines:\n",
    "        print(line.strip())\n",
    "\n",
    "''')\n",
    "   "
   ]
  },
  {
   "cell_type": "code",
   "execution_count": 31,
   "id": "e7377a3e-5cc4-48e1-96cb-1cc5bff91043",
   "metadata": {},
   "outputs": [],
   "source": [
    "#하위 디렉토리 검색하기\n",
    "\n",
    "with open('sub_dir_search.py','w')as f:\n",
    "    f.write('''\n",
    "import glob\n",
    "import os\n",
    "import sys\n",
    "\n",
    "def search(dirname):\n",
    "    try:\n",
    "        filenames=os.listdir(dirname)       \n",
    "        for filename in filenames:\n",
    "            full_filename=os.path.join(dirname,filename)\n",
    "            if os.path.isdir(full_filename):\n",
    "                search(full_filename)\n",
    "            else:\n",
    "                ext=full_filename[-3:] \n",
    "                if ext=='.py':\n",
    "                    print(full_filename)\n",
    "    except:\n",
    "        pass\n",
    "search('c:/python/')\n",
    "''')\n",
    "    \n"
   ]
  },
  {
   "cell_type": "code",
   "execution_count": 42,
   "id": "2c502cc0-4a61-4f9f-9ce4-c1ac5261c59e",
   "metadata": {},
   "outputs": [],
   "source": [
    "#하위경로 내 파이썬 파일들의 경로+파일이름을 출력하는 함수를 만들어라\n",
    "\n",
    "with open('dirname_2.py','w')as f:\n",
    "    f.write('''\n",
    "import os\n",
    "import sys\n",
    "\n",
    "src=sys.argv[1]\n",
    "\n",
    "def search(path):\n",
    "    try:\n",
    "        filenames=os.listdir(path)\n",
    "        for filename in filenames:\n",
    "            full_filename=os.path.join(path,filename)\n",
    "            if os.path.isdir(full_filename):\n",
    "                search(full_filename)\n",
    "            else:\n",
    "                if full_filename[-3:]=='.py':\n",
    "                    print(full_filename)\n",
    "    except:\n",
    "        pass\n",
    "    finally:\n",
    "        print('끝')\n",
    "search(src)\n",
    "''')\n"
   ]
  },
  {
   "cell_type": "code",
   "execution_count": null,
   "id": "55d730bd-3c01-4bcd-94ee-a6c06637d3a4",
   "metadata": {},
   "outputs": [],
   "source": []
  },
  {
   "cell_type": "markdown",
   "id": "8a875932-6571-475e-b744-5063c8d12a2f",
   "metadata": {},
   "source": [
    "# 정규 표현식\n",
    "- Regular Expressions\n",
    "- 글자를 찾아서 바꾸기, 특정 문자 몇 번 나왔는지 찾기 등"
   ]
  },
  {
   "cell_type": "code",
   "execution_count": 140,
   "id": "ed6d2ce0-0a6c-4922-928b-315d53bf77f3",
   "metadata": {},
   "outputs": [
    {
     "name": "stdout",
     "output_type": "stream",
     "text": [
      "\n",
      "park 800905-1******\n",
      "kim 700905-1******\n",
      "\n",
      "\n",
      "park 800905-*******\n",
      "kim 700905-*******\n",
      "\n"
     ]
    }
   ],
   "source": [
    "#정규 표현식 예시\n",
    "\n",
    "data=\"\"\"\n",
    "park 800905-1049118\n",
    "kim 700905-1059119\n",
    "\"\"\"\n",
    "\n",
    "import re\n",
    "pat=re.compile(\"(\\d{6}[-]\\d{1})\\d{6}\")\n",
    "print(pat.sub(\"\\g<1>******\",data))\n",
    "\n",
    "pat2=re.compile(\"[-]\\d{7}\")\n",
    "print(pat2.sub(\"-*******\",data))"
   ]
  },
  {
   "cell_type": "markdown",
   "id": "1a24e868-8756-4258-b8fb-d235ef43c17e",
   "metadata": {},
   "source": [
    "- re 사용법"
   ]
  },
  {
   "cell_type": "code",
   "execution_count": 78,
   "id": "0ba061bd-2d6f-43f4-a723-ae2112f50dc0",
   "metadata": {},
   "outputs": [
    {
     "name": "stdout",
     "output_type": "stream",
     "text": [
      "['p', 'y', 't']\n",
      "['p', 'y', 't']\n"
     ]
    }
   ],
   "source": [
    "#컴파일 하기\n",
    "import re\n",
    "\n",
    "#방법1  --> 더 자주 쓰는 방법\n",
    "p=re.compile('[p-z]')\n",
    "print(p.findall('python'))\n",
    "\n",
    "#방법2\n",
    "print(re.findall('[p-z]','python'))"
   ]
  },
  {
   "cell_type": "code",
   "execution_count": 94,
   "id": "39b4d19a-288a-4c05-9326-94ebbe55fcbd",
   "metadata": {
    "tags": []
   },
   "outputs": [],
   "source": [
    "#예시\n",
    "import urllib.request as req\n",
    "import re"
   ]
  },
  {
   "cell_type": "code",
   "execution_count": 95,
   "id": "37d3e3b9-ee85-4433-938c-d101ad65b488",
   "metadata": {
    "collapsed": true,
    "jupyter": {
     "outputs_hidden": true
    },
    "tags": []
   },
   "outputs": [
    {
     "name": "stdout",
     "output_type": "stream",
     "text": [
      "<!DOCTYPE html><html lang=\"ko\"> <head> <meta charset=\"utf-8\" /> <title>Daum</title> <meta http-equiv=\"x-ua-compatible\" content=\"IE=edge\" /> <meta property=\"og:url\" content=\"//www.daum.net/\" /> <meta property=\"og:type\" content=\"website\" /> <meta property=\"og:title\" content=\"Daum\" /> <meta http-equiv=\"Pragma\" content=\"no-cache\" /> <meta http-equiv=\"Expires\" content=\"-1\" /> <meta name=\"referrer\" content=\"origin\" /> <meta property=\"og:image\" content=\"https://i1.daumcdn.net/svc/image/U03/common_icon/5587C4E4012FCD0001\" /> <meta property=\"og:description\" content=\"나의 관심 콘텐츠를 가장 즐겁게 볼 수 있는 Daum\" /> <meta name=\"msapplication-task\" content=\"name=Daum;action-uri=//www.daum.net/;icon-uri=/favicon.ico\" /> <meta name=\"msapplication-task\" content=\"name=미디어다음;action-uri=//news.daum.net/;icon-uri=/media_favicon.ico\" /> <meta name=\"msapplication-task\" content=\"name=메일;action-uri=//mail.daum.net;icon-uri=/mail_favicon.ico\" /> <link href=\"https://t1.daumcdn.net/top/favicon.ico\" rel=\"shortcut icon\" /> <meta name=\"referrer\" content=\"origin\" /> <link rel=\"search\" type=\"application/opensearchdescription+xml\" href=\"https://search.daum.net/OpenSearch.xml\" title=\"다음\" /> <link rel=\"stylesheet\" href=\"https://t1.daumcdn.net/top/tiller-pc/h/production/20220616_153208/common.css\" /> <script src=\"https://t1.daumcdn.net/kas/static/na.min.js\"></script> <script type=\"text/javascript\"> window.tillerInitData = {\"header\":{\"timestamp\":1655882564389},\"body\":{\"tabs\":{\"media\":{\"code\":\"media\",\"name\":\"미디어\",\"renderType\":\"NONE\",\"position\":1,\"board\":false,\"morePage\":false,\"page\":\"{\\\"tab\\\":\\\"media\\\",\\\"page\\\":1,\\\"last\\\":true,\\\"token\\\":null,\\\"ts\\\":null}\"},\"katv\":{\"code\":\"katv\",\"name\":\"카카오TV\",\"renderType\":\"NONE\",\"position\":2,\"board\":false,\"morePage\":false,\"page\":\"{\\\"tab\\\":\\\"katv\\\",\\\"page\\\":1,\\\"last\\\":true,\\\"token\\\":null,\\\"ts\\\":null}\"},\"social\":{\"code\":\"social\",\"name\":\"소셜\",\"renderType\":\"NONE\",\"position\":3,\"board\":false,\"morePage\":false,\"page\":\"{\\\"tab\\\":\\\"social\\\",\\\"page\\\":1,\\\"last\\\":true,\\\"token\\\":null,\\\"ts\\\":null}\"},\"channel\":{\"code\":\"channel\",\"name\":\"채널\",\"renderType\":\"NONE\",\"position\":4,\"board\":false,\"morePage\":false,\"page\":\"{\\\"tab\\\":\\\"channel\\\",\\\"page\\\":1,\\\"last\\\":true,\\\"token\\\":null,\\\"ts\\\":null}\"}},\"boxes\":{\"media\":[{\"code\":2372,\"type\":\"PC_MEDIA_NEWS1\",\"items\":{\"op\":{\"tab\":\"news1\",\"title\":\"뉴스\",\"url\":\"https://news.daum.net/\"},\"issue\":{\"title\":\"'코로나19' 현황\",\"isSpecial\":null,\"url\":\"https://news.daum.net/covid19\",\"iconType\":\"ISSUE2\",\"status\":\"on\"},\"breakingNewsOp\":{\"minCount\":\"3\",\"status\":\"on\"},\"footLinkLeft\":{\"foot1\":\"{\\\"title\\\":\\\"포토\\\",\\\"url\\\":\\\"https://news.daum.net/photo/\\\",\\\"tiaraTag\\\":\\\"photo\\\"}\",\"foot0\":\"{\\\"title\\\":\\\"연재\\\",\\\"url\\\":\\\"https://news.daum.net/series/\\\",\\\"tiaraTag\\\":\\\"series\\\"}\",\"foot3\":\"{\\\"title\\\":\\\"\\\",\\\"url\\\":\\\"\\\",\\\"tiaraTag\\\":\\\"\\\"}\",\"footer\":\"{\\\"title\\\":\\\"뉴스홈\\\",\\\"url\\\":\\\"https://news.daum.net/\\\"}\",\"foot2\":\"{\\\"title\\\":\\\"팩트체크\\\",\\\"url\\\":\\\"https://focus.daum.net/ch/news/factcheck\\\",\\\"tiaraTag\\\":\\\"factcheck\\\"}\",\"foot4\":\"{\\\"title\\\":\\\"\\\",\\\"url\\\":\\\"\\\",\\\"tiaraTag\\\":\\\"\\\"}\",\"status\":\"on\"},\"footLinkRight\":{\"foot1\":\"{\\\"title\\\":\\\"환율\\\",\\\"url\\\":\\\"https://search.daum.net/search?w=tot&q=환율&DA=TMZ\\\",\\\"tiaraTag\\\":\\\"exchange\\\"}\",\"foot0\":\"{\\\"title\\\":\\\"코스피\\\",\\\"url\\\":\\\"https://search.daum.net/search?w=tot&q=증시&DA=TMZ\\\",\\\"tiaraTag\\\":\\\"stock\\\"}\",\"foot3\":\"{\\\"title\\\":\\\"TV편성\\\",\\\"url\\\":\\\"https://search.daum.net/search?w=tot&q=편성표&DA=TMZ\\\",\\\"tiaraTag\\\":\\\"tv\\\"}\",\"foot2\":\"{\\\"title\\\":\\\"오늘의운세\\\",\\\"url\\\":\\\"https://search.daum.net/search?w=tot&q=운세&DA=TMZ\\\",\\\"tiaraTag\\\":\\\"fortune\\\"}\",\"status\":\"on\"},\"specialLink\":{\"displayType\":\"specialLink\",\"title\":\"오늘의 KBO리그\",\"url\":\"https://sports.daum.net/schedule/kbo\",\"iconType\":\"LIVE\",\"status\":\"off\"}},\"feeds\":{\"pc_media_breaking_news\":\"[]\"},\"teslas\":{\"p_news_img_1\":[{\"id\":\"hamny-20220622134701572\",\"title\":\"'성상납 증거인멸 의혹' 이준석 \\\"윤리위 출석 요청했지만 거절당해\\\" [뉴시스Pic]\",\"label\":null,\"url\":\"https://v.daum.net/v/20220622134701572\",\"icon\":\"TEXT\",\"imageUrl\":\"https://t1.daumcdn.net/news/202206/22/newsis/20220622134701678cxal.jpg\",\"source\":\"뉴시스\",\"position\":0,\"meta\":{\"impressionId\":\"toros_cloud_alpha\",\"contentUniqueKey\":\"hamny-20220622134701572\",\"mediaName\":\"뉴시스\",\"torosRanking\":1,\"torosScore\":0.081824239,\"poolCode\":\"p_news_img\",\"feedId\":11,\"feedName\":\"하모니\",\"clusterTitle\":\"\"}},{\"id\":\"hamny-20220622160543968\",\"title\":\"백경란 질병청장, '원숭이두창' 국내 첫 확진자 발생 브리핑 [TF사진관]\",\"label\":null,\"url\":\"https://v.daum.net/v/20220622160543968\",\"icon\":\"TEXT\",\"imageUrl\":\"https://t1.daumcdn.net/news/202206/22/THEFACT/20220622160544680gcqt.jpg\",\"source\":\"더팩트\",\"position\":0,\"meta\":{\"impressionId\":\"toros_cloud_alpha\",\"contentUniqueKey\":\"hamny-20220622160543968\",\"mediaName\":\"더팩트\",\"torosRanking\":2,\"torosScore\":0.0527881456,\"poolCode\":\"p_news_img\",\"feedId\":11,\"feedName\":\"하모니\",\"clusterTitle\":\"\"}}],\"p_news_investigative_1\":[{\"id\":\"hamny-20220622094351208\",\"title\":\"모든 기업이 '개발자 사관학교'로 변신해야\",\"label\":null,\"url\":\"https://v.daum.net/v/20220622094351208\",\"icon\":\"TEXT\",\"imageUrl\":\"https://t1.daumcdn.net/news/202206/22/ZDNetKorea/20220622094354182fgst.jpg\",\"source\":\"지디넷코리아\",\"position\":0,\"meta\":{\"impressionId\":\"tromm\",\"contentUniqueKey\":\"hamny-20220622094351208\",\"mediaName\":\"지디넷코리아\",\"torosRanking\":0,\"torosScore\":0.0,\"poolCode\":\"p_news_investigative\",\"feedId\":11,\"feedName\":\"하모니\",\"clusterTitle\":\"\"}},{\"id\":\"hamny-20220622101101428\",\"title\":\"尹정부도 \\\"온실가스 40% 감축\\\"..원전+재생 조합에 달렸다\",\"label\":null,\"url\":\"https://v.daum.net/v/20220622101101428\",\"icon\":\"TEXT\",\"imageUrl\":\"https://t1.daumcdn.net/news/202206/22/moneytoday/20220622114349295skkz.jpg\",\"source\":\"머니투데이\",\"position\":0,\"meta\":{\"impressionId\":\"tromm\",\"contentUniqueKey\":\"hamny-20220622101101428\",\"mediaName\":\"머니투데이\",\"torosRanking\":0,\"torosScore\":0.0,\"poolCode\":\"p_news_investigative\",\"feedId\":11,\"feedName\":\"하모니\",\"clusterTitle\":\"\"}}],\"p_news_auto_txt_1\":[{\"id\":\"hamny-20220622143009316\",\"title\":\"윤 대통령 \\\"지난 5년간 바보짓 안했더라면.. 탈원전 폐기한다\\\"\",\"label\":null,\"url\":\"https://v.daum.net/v/20220622143009316\",\"icon\":\"TEXT\",\"imageUrl\":\"https://t1.daumcdn.net/news/202206/22/ohmynews/20220622143010820fdvb.jpg\",\"source\":\"오마이뉴스\",\"position\":0,\"meta\":{\"impressionId\":\"toros_cloud_alpha\",\"contentUniqueKey\":\"hamny-20220622143009316\",\"mediaName\":\"오마이뉴스\",\"torosRanking\":2,\"torosScore\":0.0291110876,\"poolCode\":\"p_news_auto_txt\",\"feedId\":11,\"feedName\":\"하모니\",\"clusterTitle\":\"\"}},{\"id\":\"hamny-20220622154620086\",\"title\":\"내일부터 전국 장마 돌입..'최대 120mm' 많은 비에 더위 주춤\",\"label\":null,\"url\":\"https://v.daum.net/v/20220622154620086\",\"icon\":\"TEXT\",\"imageUrl\":\"https://t1.daumcdn.net/news/202206/22/joongang/20220622154621974ednv.jpg\",\"source\":\"중앙일보\",\"position\":0,\"meta\":{\"impressionId\":\"toros_cloud_alpha\",\"contentUniqueKey\":\"hamny-20220622154620086\",\"mediaName\":\"중앙일보\",\"torosRanking\":8,\"torosScore\":0.0202688068,\"poolCode\":\"p_news_auto_txt\",\"feedId\":11,\"feedName\":\"하모니\",\"clusterTitle\":\"\"}},{\"id\":\"hamny-20220622151016209\",\"title\":\"전세 끼고 산 주택, '5%룰' 지켜도 상생임대인 아니다\",\"label\":null,\"url\":\"https://v.daum.net/v/20220622151016209\",\"icon\":\"TEXT\",\"imageUrl\":\"https://t1.daumcdn.net/news/202206/22/moneytoday/20220622151017439gqvy.jpg\",\"source\":\"머니투데이\",\"position\":0,\"meta\":{\"impressionId\":\"toros_cloud_alpha\",\"contentUniqueKey\":\"hamny-20220622151016209\",\"mediaName\":\"머니투데이\",\"torosRanking\":9,\"torosScore\":0.019084923,\"poolCode\":\"p_news_auto_txt\",\"feedId\":11,\"feedName\":\"하모니\",\"clusterTitle\":\"\"}},{\"id\":\"hamny-20220622153730565\",\"title\":\"김건희, 尹 나토 순방 동행..대통령실 \\\"배우자 세션 가급적 참여\\\"\",\"label\":null,\"url\":\"https://v.daum.net/v/20220622153730565\",\"icon\":\"TEXT\",\"imageUrl\":\"https://t1.daumcdn.net/news/202206/22/newsis/20220622153730304sixa.jpg\",\"source\":\"뉴시스\",\"position\":0,\"meta\":{\"impressionId\":\"toros_cloud_alpha\",\"contentUniqueKey\":\"hamny-20220622153730565\",\"mediaName\":\"뉴시스\",\"torosRanking\":11,\"torosScore\":0.0180087719,\"poolCode\":\"p_news_auto_txt\",\"feedId\":11,\"feedName\":\"하모니\",\"clusterTitle\":\"\"}},{\"id\":\"hamny-20220622160552978\",\"title\":\"삼성전자, '3나노 파운드리' 세계 첫 양산 눈앞..대만 TSMC 추격 본격화\",\"label\":null,\"url\":\"https://v.daum.net/v/20220622160552978\",\"icon\":\"TEXT\",\"imageUrl\":\"https://t1.daumcdn.net/news/202206/22/hankooki/20220622160555860rwvk.jpg\",\"source\":\"한국일보\",\"position\":0,\"meta\":{\"impressionId\":\"toros_cloud_alpha\",\"contentUniqueKey\":\"hamny-20220622160552978\",\"mediaName\":\"한국일보\",\"torosRanking\":14,\"torosScore\":0.0158747761,\"poolCode\":\"p_news_auto_txt\",\"feedId\":11,\"feedName\":\"하모니\",\"clusterTitle\":\"\"}},{\"id\":\"hamny-20220622161652431\",\"title\":\"김진태 강원지사 당선인 \\\"군 급식제도 수의계약으로 되돌릴 것\\\"\",\"label\":null,\"url\":\"https://v.daum.net/v/20220622161652431\",\"icon\":\"TEXT\",\"imageUrl\":\"https://t1.daumcdn.net/news/202206/22/yonhap/20220622161652924evgi.jpg\",\"source\":\"연합뉴스\",\"position\":0,\"meta\":{\"impressionId\":\"toros_cloud_alpha\",\"contentUniqueKey\":\"hamny-20220622161652431\",\"mediaName\":\"연합뉴스\",\"torosRanking\":13,\"torosScore\":0.0173425618,\"poolCode\":\"p_news_auto_txt\",\"feedId\":11,\"feedName\":\"하모니\",\"clusterTitle\":\"\"}},{\"id\":\"hamny-20220622144638131\",\"title\":\"\\\"결국 물렸네요\\\" 무상증자 호재? 연일 급락에 개미들 '울상'\",\"label\":null,\"url\":\"https://v.daum.net/v/20220622144638131\",\"icon\":\"TEXT\",\"imageUrl\":\"https://t1.daumcdn.net/news/202206/22/akn/20220622144640360yqnk.jpg\",\"source\":\"아시아경제\",\"position\":0,\"meta\":{\"impressionId\":\"toros_cloud_alpha\",\"contentUniqueKey\":\"hamny-20220622144638131\",\"mediaName\":\"아시아경제\",\"torosRanking\":18,\"torosScore\":0.0136753853,\"poolCode\":\"p_news_auto_txt\",\"feedId\":11,\"feedName\":\"하모니\",\"clusterTitle\":\"\"}},{\"id\":\"hamny-20220622160012717\",\"title\":\"가격입력 실수 해고 직원, 2만불 모금해 갚으려 하자 주유소 반응이..\",\"label\":null,\"url\":\"https://v.daum.net/v/20220622160012717\",\"icon\":\"TEXT\",\"imageUrl\":\"https://t1.daumcdn.net/news/202206/22/NEWS1/20220622160013660fvnu.jpg\",\"source\":\"뉴스1\",\"position\":0,\"meta\":{\"impressionId\":\"toros_cloud_alpha\",\"contentUniqueKey\":\"hamny-20220622160012717\",\"mediaName\":\"뉴스1\",\"torosRanking\":19,\"torosScore\":0.0130863661,\"poolCode\":\"p_news_auto_txt\",\"feedId\":11,\"feedName\":\"하모니\",\"clusterTitle\":\"\"}},{\"id\":\"hamny-20220622162012555\",\"title\":\"밤에 기어나와 얼굴 위서 짝짓기하는 모낭충 공생생물로 전환 중\",\"label\":null,\"url\":\"https://v.daum.net/v/20220622162012555\",\"icon\":\"TEXT\",\"imageUrl\":\"https://t1.daumcdn.net/news/202206/22/yonhap/20220622162012246lamk.jpg\",\"source\":\"연합뉴스\",\"position\":0,\"meta\":{\"impressionId\":\"toros_cloud_alpha\",\"contentUniqueKey\":\"hamny-20220622162012555\",\"mediaName\":\"연합뉴스\",\"torosRanking\":15,\"torosScore\":0.0148472363,\"poolCode\":\"p_news_auto_txt\",\"feedId\":11,\"feedName\":\"하모니\",\"clusterTitle\":\"\"}},{\"id\":\"hamny-20220622154053743\",\"title\":\"포항서 60대 여성, 자신의 집에 불지르고 대피하는 주민에 위협 행동까지\",\"label\":null,\"url\":\"https://v.daum.net/v/20220622154053743\",\"icon\":\"TEXT\",\"imageUrl\":\"https://t1.daumcdn.net/news/202206/22/THEFACT/20220622154054760lsil.jpg\",\"source\":\"더팩트\",\"position\":0,\"meta\":{\"impressionId\":\"toros_cloud_alpha\",\"contentUniqueKey\":\"hamny-20220622154053743\",\"mediaName\":\"더팩트\",\"torosRanking\":10,\"torosScore\":0.0189138833,\"poolCode\":\"p_news_auto_txt\",\"feedId\":11,\"feedName\":\"하모니\",\"clusterTitle\":\"\"}},{\"id\":\"hamny-20220622150102813\",\"title\":\"\\\"일본은 이제 극빈사회가 된다..인재 유출, 기반시설 붕괴\\\"..日전문가 진단\",\"label\":null,\"url\":\"https://v.daum.net/v/20220622150102813\",\"icon\":\"TEXT\",\"imageUrl\":\"https://t1.daumcdn.net/news/202206/22/seoul/20220622150103482nvwu.jpg\",\"source\":\"서울신문\",\"position\":0,\"meta\":{\"impressionId\":\"toros_cloud_alpha\",\"contentUniqueKey\":\"hamny-20220622150102813\",\"mediaName\":\"서울신문\",\"torosRanking\":28,\"torosScore\":0.009497411,\"poolCode\":\"p_news_auto_txt\",\"feedId\":11,\"feedName\":\"하모니\",\"clusterTitle\":\"\"}},{\"id\":\"hamny-20220622154833189\",\"title\":\"이재명 보좌진에 김현지 합류..최측근 경기·성남 라인업 포진\",\"label\":null,\"url\":\"https://v.daum.net/v/20220622154833189\",\"icon\":\"TEXT\",\"imageUrl\":\"https://t1.daumcdn.net/news/202206/22/yonhap/20220622154833871yvrj.jpg\",\"source\":\"연합뉴스\",\"position\":0,\"meta\":{\"impressionId\":\"toros_cloud_alpha\",\"contentUniqueKey\":\"hamny-20220622154833189\",\"mediaName\":\"연합뉴스\",\"torosRanking\":27,\"torosScore\":0.009636787,\"poolCode\":\"p_news_auto_txt\",\"feedId\":11,\"feedName\":\"하모니\",\"clusterTitle\":\"\"}},{\"id\":\"hamny-20220622161402333\",\"title\":\"'이준석 징계' 운명의 날..반으로 쪼개진 與\",\"label\":null,\"url\":\"https://v.daum.net/v/20220622161402333\",\"icon\":\"TEXT\",\"imageUrl\":\"https://t1.daumcdn.net/news/202206/22/sisapress/20220622161405406rxkp.jpg\",\"source\":\"시사저널\",\"position\":0,\"meta\":{\"impressionId\":\"toros_cloud_alpha\",\"contentUniqueKey\":\"hamny-20220622161402333\",\"mediaName\":\"시사저널\",\"torosRanking\":24,\"torosScore\":0.0099908604,\"poolCode\":\"p_news_auto_txt\",\"feedId\":11,\"feedName\":\"하모니\",\"clusterTitle\":\"\"}},{\"id\":\"hamny-20220622154506990\",\"title\":\"둔촌주공 25평형 분양가 8억8750만원→9억75만원..중도금 대출 막힐 수도\",\"label\":null,\"url\":\"https://v.daum.net/v/20220622154506990\",\"icon\":\"TEXT\",\"imageUrl\":\"https://t1.daumcdn.net/news/202206/22/mk/20220622154508128aceh.jpg\",\"source\":\"매일경제\",\"position\":0,\"meta\":{\"impressionId\":\"toros_cloud_alpha\",\"contentUniqueKey\":\"hamny-20220622154506990\",\"mediaName\":\"매일경제\",\"torosRanking\":31,\"torosScore\":0.0089284815,\"poolCode\":\"p_news_auto_txt\",\"feedId\":11,\"feedName\":\"하모니\",\"clusterTitle\":\"\"}},{\"id\":\"hamny-20220622155404421\",\"title\":\"청주 빌라 40대 여성 피살사건 '과도한 집착이 불러온 비극?'\",\"label\":null,\"url\":\"https://v.daum.net/v/20220622155404421\",\"icon\":\"TEXT\",\"imageUrl\":\"https://t1.daumcdn.net/news/202206/22/NEWS1/20220622155405451wiug.jpg\",\"source\":\"뉴스1\",\"position\":0,\"meta\":{\"impressionId\":\"toros_cloud_alpha\",\"contentUniqueKey\":\"hamny-20220622155404421\",\"mediaName\":\"뉴스1\",\"torosRanking\":20,\"torosScore\":0.0115592899,\"poolCode\":\"p_news_auto_txt\",\"feedId\":11,\"feedName\":\"하모니\",\"clusterTitle\":\"\"}}],\"p_news_leverage_1\":[{\"id\":\"tv-337459854\",\"title\":\"[선공개] 태범♡사랑 소개팅 세 번째 만남! 사랑이 태범에게 어렵게 꺼낸 말은\",\"label\":null,\"url\":\"https://newslink.media.daum.net/v/429813257\",\"icon\":\"VIDEO\",\"imageUrl\":\"https://thumb.kakaocdn.net/dna/kamp/source/rv4t1xnsygypsat7d3sl4zl07/thumbs/thumb.jpg?credential=TuMuFGKUIcirOSjFzOpncbomGFEIdZWK&expires=33212791105&signature=1bJM4gSswrFxb3yQUIRfbSt93T0%3D\",\"source\":\"요즘남자라이프 신랑수업\",\"position\":0,\"meta\":{\"impressionId\":\"tromm\",\"contentUniqueKey\":\"tv-337459854\",\"mediaName\":\"요즘남자라이프 신랑수업\",\"torosRanking\":0,\"torosScore\":0.0,\"poolCode\":\"p_news_leverage\",\"feedId\":22,\"feedName\":\"카카오TV\",\"clusterTitle\":\"\"}},{\"id\":\"hamny-EjIthdjMPD\",\"title\":\"푸조 408 공개, 잘생기고 매력적인 패스트백 스타일\",\"label\":null,\"url\":\"https://auto.v.daum.net/v/EjIthdjMPD\",\"icon\":\"TEXT\",\"imageUrl\":\"https://t1.daumcdn.net/news/202206/22/TOP-RIDER/20220622155002049fwvy.jpg\",\"source\":\"탑라이더\",\"position\":0,\"meta\":{\"impressionId\":\"tromm\",\"contentUniqueKey\":\"hamny-EjIthdjMPD\",\"mediaName\":\"탑라이더\",\"torosRanking\":0,\"torosScore\":0.0,\"poolCode\":\"p_news_leverage\",\"feedId\":11,\"feedName\":\"하모니\",\"clusterTitle\":\"\"}}]},\"cabinets\":null,\"board\":false},{\"code\":2373,\"type\":\"PC_MEDIA_NEWS2\",\"items\":{\"op\":{\"tab\":\"news2\",\"title\":\"뉴스\",\"url\":\"https://news.daum.net/\"},\"issue\":{\"title\":\"'코로나19' 현황\",\"isSpecial\":\"false\",\"url\":\"https://news.daum.net/covid19\",\"iconType\":\"ISSUE2\",\"status\":\"on\"},\"footLinkLeft\":{\"foot1\":\"{\\\"title\\\":\\\"포토\\\",\\\"url\\\":\\\"https://news.daum.net/photo/\\\",\\\"tiaraTag\\\":\\\"photo\\\"}\",\"foot0\":\"{\\\"title\\\":\\\"연재\\\",\\\"url\\\":\\\"https://news.daum.net/series/\\\",\\\"tiaraTag\\\":\\\"series\\\"}\",\"foot3\":\"{\\\"title\\\":\\\"\\\",\\\"url\\\":\\\"\\\",\\\"tiaraTag\\\":\\\"\\\"}\",\"footer\":\"{\\\"title\\\":\\\"뉴스홈\\\",\\\"url\\\":\\\"https://news.daum.net/\\\"}\",\"foot2\":\"{\\\"title\\\":\\\"팩트체크\\\",\\\"url\\\":\\\"https://focus.daum.net/ch/news/factcheck\\\",\\\"tiaraTag\\\":\\\"factcheck\\\"}\",\"foot4\":\"{\\\"title\\\":\\\"\\\",\\\"url\\\":\\\"\\\",\\\"tiaraTag\\\":\\\"\\\"}\",\"status\":\"on\"},\"footLinkRight\":{\"foot1\":\"{\\\"title\\\":\\\"환율\\\",\\\"url\\\":\\\"https://search.daum.net/search?w=tot&q=환율&DA=TMZ\\\",\\\"tiaraTag\\\":\\\"exchange\\\"}\",\"foot0\":\"{\\\"title\\\":\\\"코스피\\\",\\\"url\\\":\\\"https://search.daum.net/search?w=tot&q=증시&DA=TMZ\\\",\\\"tiaraTag\\\":\\\"stock\\\"}\",\"foot3\":\"{\\\"title\\\":\\\"TV편성\\\",\\\"url\\\":\\\"https://search.daum.net/search?w=tot&q=편성표&DA=TMZ\\\",\\\"tiaraTag\\\":\\\"tv\\\"}\",\"foot2\":\"{\\\"title\\\":\\\"오늘의운세\\\",\\\"url\\\":\\\"https://search.daum.net/search?w=tot&q=운세&DA=TMZ\\\",\\\"tiaraTag\\\":\\\"fortune\\\"}\",\"status\":\"on\"},\"specialLink\":{\"displayType\":\"specialLink\",\"title\":\"'코로나19' 현황\",\"url\":\"https://news.daum.net/covid19\",\"iconType\":\"ISSUE\",\"status\":\"off\"}},\"feeds\":{},\"teslas\":{\"p_news_fact_1\":[{\"id\":\"hamny-20220621105009459\",\"title\":\"서해 공무원 피살 당시 '월북'은 큰 쟁점 아니었다?[팩트체크]\",\"label\":null,\"url\":\"https://v.daum.net/v/20220621105009459\",\"icon\":\"VIDEO\",\"imageUrl\":\"https://t1.daumcdn.net/news/202206/21/yonhap/20220621105009498btot.jpg\",\"source\":\"연합뉴스\",\"position\":0,\"meta\":{\"impressionId\":\"tromm\",\"contentUniqueKey\":\"hamny-20220621105009459\",\"mediaName\":\"연합뉴스\",\"torosRanking\":0,\"torosScore\":0.0,\"poolCode\":\"p_news_fact\",\"feedId\":11,\"feedName\":\"하모니\",\"clusterTitle\":\"팩트체크\"}},{\"id\":\"hamny-20220621093001983\",\"title\":\"\\\"이전 대통령들, 백화점 공개 쇼핑 안 해\\\" 김어준 발언 '대체로 사실' [오마이팩트]\",\"label\":null,\"url\":\"https://v.daum.net/v/20220621093001983\",\"icon\":\"TEXT\",\"imageUrl\":\"https://t1.daumcdn.net/news/202206/21/ohmynews/20220621093004335qhiz.jpg\",\"source\":\"오마이뉴스\",\"position\":0,\"meta\":{\"impressionId\":\"tromm\",\"contentUniqueKey\":\"hamny-20220621093001983\",\"mediaName\":\"오마이뉴스\",\"torosRanking\":0,\"torosScore\":0.0,\"poolCode\":\"p_news_fact\",\"feedId\":11,\"feedName\":\"하모니\",\"clusterTitle\":\"오마이팩트\"}}],\"p_news_img_1\":[{\"id\":\"hamny-20220622142602095\",\"title\":\"하늘서 본 흑해 빨간불..\\\"우크라軍 반격에 가스전 폭발\\\"[포착]\",\"label\":null,\"url\":\"https://v.daum.net/v/20220622142602095\",\"icon\":\"TEXT\",\"imageUrl\":\"https://t1.daumcdn.net/news/202206/22/seoul/20220622142604003xsjd.jpg\",\"source\":\"서울신문\",\"position\":0,\"meta\":{\"impressionId\":\"toros_cloud_alpha\",\"contentUniqueKey\":\"hamny-20220622142602095\",\"mediaName\":\"서울신문\",\"torosRanking\":3,\"torosScore\":0.0398670383,\"poolCode\":\"p_news_img\",\"feedId\":11,\"feedName\":\"하모니\",\"clusterTitle\":\"서울신문 나우뉴스\"}},{\"id\":\"hamny-20220622140726411\",\"title\":\"'집단폭행' FC서울 팬 엄마 격분 \\\"뻔뻔한 거짓말 '피꺼솟'\\\"\",\"label\":null,\"url\":\"https://v.daum.net/v/20220622140726411\",\"icon\":\"TEXT\",\"imageUrl\":\"https://t1.daumcdn.net/news/202206/22/ned/20220622140729635fdud.jpg\",\"source\":\"헤럴드경제\",\"position\":0,\"meta\":{\"impressionId\":\"toros_cloud_alpha\",\"contentUniqueKey\":\"hamny-20220622140726411\",\"mediaName\":\"헤럴드경제\",\"torosRanking\":8,\"torosScore\":0.0329644729,\"poolCode\":\"p_news_img\",\"feedId\":11,\"feedName\":\"하모니\",\"clusterTitle\":\"\"}}],\"p_news_auto_txt_1\":[{\"id\":\"hamny-20220622161918520\",\"title\":\"'저기압 엔진' 단 장마전선 북상..최고 120mm 집중호우\",\"label\":null,\"url\":\"https://v.daum.net/v/20220622161918520\",\"icon\":\"TEXT\",\"imageUrl\":\"https://t1.daumcdn.net/news/202206/22/kbs/20220622161919869mvio.jpg\",\"source\":\"KBS\",\"position\":0,\"meta\":{\"impressionId\":\"toros_cloud_alpha\",\"contentUniqueKey\":\"hamny-20220622161918520\",\"mediaName\":\"KBS\",\"torosRanking\":33,\"torosScore\":0.0086418988,\"poolCode\":\"p_news_auto_txt\",\"feedId\":11,\"feedName\":\"하모니\",\"clusterTitle\":\"\"}},{\"id\":\"hamny-20220622153106212\",\"title\":\"6차 긴급고용안정지원금 지급한다\",\"label\":null,\"url\":\"https://v.daum.net/v/20220622153106212\",\"icon\":\"TEXT\",\"imageUrl\":\"https://t1.daumcdn.net/news/202206/22/seoul/20220622153107058bmys.jpg\",\"source\":\"서울신문\",\"position\":0,\"meta\":{\"impressionId\":\"toros_cloud_alpha\",\"contentUniqueKey\":\"hamny-20220622153106212\",\"mediaName\":\"서울신문\",\"torosRanking\":37,\"torosScore\":0.0082850348,\"poolCode\":\"p_news_auto_txt\",\"feedId\":11,\"feedName\":\"하모니\",\"clusterTitle\":\"\"}},{\"id\":\"hamny-20220622155112312\",\"title\":\"亞증시 일제 하락, 한국증시 2.74% 급락..압도적 낙폭\",\"label\":null,\"url\":\"https://v.daum.net/v/20220622155112312\",\"icon\":\"TEXT\",\"imageUrl\":\"https://t1.daumcdn.net/news/202206/22/NEWS1/20220622155113565njqp.jpg\",\"source\":\"뉴스1\",\"position\":0,\"meta\":{\"impressionId\":\"toros_cloud_alpha\",\"contentUniqueKey\":\"hamny-20220622155112312\",\"mediaName\":\"뉴스1\",\"torosRanking\":39,\"torosScore\":0.0079414333,\"poolCode\":\"p_news_auto_txt\",\"feedId\":11,\"feedName\":\"하모니\",\"clusterTitle\":\"\"}},{\"id\":\"hamny-20220622161843500\",\"title\":\"미국서 '짝퉁'까지.. 할리우드에 깔린 '오겜' 일꾼\",\"label\":null,\"url\":\"https://v.daum.net/v/20220622161843500\",\"icon\":\"TEXT\",\"imageUrl\":\"https://t1.daumcdn.net/news/202206/22/hankooki/20220622161845609ykcf.jpg\",\"source\":\"한국일보\",\"position\":0,\"meta\":{\"impressionId\":\"toros_cloud_alpha\",\"contentUniqueKey\":\"hamny-20220622161843500\",\"mediaName\":\"한국일보\",\"torosRanking\":38,\"torosScore\":0.0080534638,\"poolCode\":\"p_news_auto_txt\",\"feedId\":11,\"feedName\":\"하모니\",\"clusterTitle\":\"\"}},{\"id\":\"hamny-20220622085928504\",\"title\":\"중년의 뱃살 빼는데 좋은 식습관, 그리고 식품 10\",\"label\":null,\"url\":\"https://v.daum.net/v/20220622085928504\",\"icon\":\"TEXT\",\"imageUrl\":\"https://t1.daumcdn.net/news/202206/22/KorMedi/20220622085934856kzmq.jpg\",\"source\":\"코메디닷컴\",\"position\":0,\"meta\":{\"impressionId\":\"toros_cloud_alpha\",\"contentUniqueKey\":\"hamny-20220622085928504\",\"mediaName\":\"코메디닷컴\",\"torosRanking\":34,\"torosScore\":0.0085522489,\"poolCode\":\"p_news_auto_txt\",\"feedId\":11,\"feedName\":\"하모니\",\"clusterTitle\":\"\"}},{\"id\":\"hamny-20220622153007146\",\"title\":\"서철모 화성시장 퇴임직전 타이 휴양지 등 출장..5천만원 세금 '펑펑'\",\"label\":null,\"url\":\"https://v.daum.net/v/20220622153007146\",\"icon\":\"TEXT\",\"imageUrl\":\"https://t1.daumcdn.net/news/202206/22/hani/20220622160007278jtyv.jpg\",\"source\":\"한겨레\",\"position\":0,\"meta\":{\"impressionId\":\"toros_cloud_alpha\",\"contentUniqueKey\":\"hamny-20220622153007146\",\"mediaName\":\"한겨레\",\"torosRanking\":40,\"torosScore\":0.0079215857,\"poolCode\":\"p_news_auto_txt\",\"feedId\":11,\"feedName\":\"하모니\",\"clusterTitle\":\"\"}},{\"id\":\"hamny-20220622122215490\",\"title\":\"증상 숨긴 원숭이두창 의심자, 열 없다고 통과..공항 검역 논란\",\"label\":null,\"url\":\"https://v.daum.net/v/20220622122215490\",\"icon\":\"TEXT\",\"imageUrl\":\"https://t1.daumcdn.net/news/202206/22/joongang/20220622122216483djoh.jpg\",\"source\":\"중앙일보\",\"position\":0,\"meta\":{\"impressionId\":\"toros_cloud_alpha\",\"contentUniqueKey\":\"hamny-20220622122215490\",\"mediaName\":\"중앙일보\",\"torosRanking\":41,\"torosScore\":0.0077102642,\"poolCode\":\"p_news_auto_txt\",\"feedId\":11,\"feedName\":\"하모니\",\"clusterTitle\":\"\"}},{\"id\":\"hamny-20220622151109251\",\"title\":\"강기정 광주시장 당선인, 대통령실에 군 공항 이전 등 지원 요청\",\"label\":null,\"url\":\"https://v.daum.net/v/20220622151109251\",\"icon\":\"TEXT\",\"imageUrl\":\"https://t1.daumcdn.net/news/202206/22/yonhap/20220622151109341xodc.jpg\",\"source\":\"연합뉴스\",\"position\":0,\"meta\":{\"impressionId\":\"toros_cloud_alpha\",\"contentUniqueKey\":\"hamny-20220622151109251\",\"mediaName\":\"연합뉴스\",\"torosRanking\":45,\"torosScore\":0.0074258085,\"poolCode\":\"p_news_auto_txt\",\"feedId\":11,\"feedName\":\"하모니\",\"clusterTitle\":\"\"}},{\"id\":\"hamny-20220622161934527\",\"title\":\"'전교생보다 많이 몰린 학부모'..충주 오석초 3년 만의 공개수업\",\"label\":null,\"url\":\"https://v.daum.net/v/20220622161934527\",\"icon\":\"TEXT\",\"imageUrl\":\"https://t1.daumcdn.net/news/202206/22/NEWS1/20220622161936797etok.jpg\",\"source\":\"뉴스1\",\"position\":0,\"meta\":{\"impressionId\":\"toros_cloud_alpha\",\"contentUniqueKey\":\"hamny-20220622161934527\",\"mediaName\":\"뉴스1\",\"torosRanking\":43,\"torosScore\":0.0075401372,\"poolCode\":\"p_news_auto_txt\",\"feedId\":11,\"feedName\":\"하모니\",\"clusterTitle\":\"\"}},{\"id\":\"hamny-20220622152058712\",\"title\":\"길 물은 이민자, 의식 잃을 때까지 맞았다..英, 증오범죄에 '술렁'[영상]\",\"label\":null,\"url\":\"https://v.daum.net/v/20220622152058712\",\"icon\":\"TEXT\",\"imageUrl\":\"https://t1.daumcdn.net/news/202206/22/moneytoday/20220622153828393kfcm.jpg\",\"source\":\"머니투데이\",\"position\":0,\"meta\":{\"impressionId\":\"toros_cloud_alpha\",\"contentUniqueKey\":\"hamny-20220622152058712\",\"mediaName\":\"머니투데이\",\"torosRanking\":44,\"torosScore\":0.0074916758,\"poolCode\":\"p_news_auto_txt\",\"feedId\":11,\"feedName\":\"하모니\",\"clusterTitle\":\"\"}},{\"id\":\"hamny-20220622161502362\",\"title\":\"원숭이두창, 한국에도 들어왔다..\\\"독일서 입국한 내국인 확진\\\"\",\"label\":null,\"url\":\"https://v.daum.net/v/20220622161502362\",\"icon\":\"TEXT\",\"imageUrl\":\"https://t1.daumcdn.net/news/202206/22/sisapress/20220622161503481kyvl.jpg\",\"source\":\"시사저널\",\"position\":0,\"meta\":{\"impressionId\":\"toros_cloud_alpha\",\"contentUniqueKey\":\"hamny-20220622161502362\",\"mediaName\":\"시사저널\",\"torosRanking\":46,\"torosScore\":0.0073575928,\"poolCode\":\"p_news_auto_txt\",\"feedId\":11,\"feedName\":\"하모니\",\"clusterTitle\":\"\"}},{\"id\":\"hamny-20220622154325875\",\"title\":\"이준석, 4가지 징계별 시나리오..'당원권 정지'땐 대표직 치명타\",\"label\":null,\"url\":\"https://v.daum.net/v/20220622154325875\",\"icon\":\"TEXT\",\"imageUrl\":\"https://t1.daumcdn.net/news/202206/22/NEWS1/20220622154327082jwsj.jpg\",\"source\":\"뉴스1\",\"position\":0,\"meta\":{\"impressionId\":\"toros_cloud_alpha\",\"contentUniqueKey\":\"hamny-20220622154325875\",\"mediaName\":\"뉴스1\",\"torosRanking\":48,\"torosScore\":0.0072965348,\"poolCode\":\"p_news_auto_txt\",\"feedId\":11,\"feedName\":\"하모니\",\"clusterTitle\":\"\"}},{\"id\":\"hamny-20220622152628944\",\"title\":\"계성고 학생들이 '평화의 소녀상' 세운 글렌데일시 시장을 만난 까닭\",\"label\":null,\"url\":\"https://v.daum.net/v/20220622152628944\",\"icon\":\"TEXT\",\"imageUrl\":\"https://t1.daumcdn.net/news/202206/22/khan/20220622152629425nxfd.jpg\",\"source\":\"경향신문\",\"position\":0,\"meta\":{\"impressionId\":\"toros_cloud_alpha\",\"contentUniqueKey\":\"hamny-20220622152628944\",\"mediaName\":\"경향신문\",\"torosRanking\":47,\"torosScore\":0.0072989679,\"poolCode\":\"p_news_auto_txt\",\"feedId\":11,\"feedName\":\"하모니\",\"clusterTitle\":\"\"}},{\"id\":\"hamny-20220622143342487\",\"title\":\"SNS로 만난 우크라軍 남친에..3천만원 보냈다가 벌어진 일\",\"label\":null,\"url\":\"https://v.daum.net/v/20220622143342487\",\"icon\":\"TEXT\",\"imageUrl\":\"https://t1.daumcdn.net/news/202206/22/moneytoday/20220622145524519dyzb.jpg\",\"source\":\"머니투데이\",\"position\":0,\"meta\":{\"impressionId\":\"toros_cloud_alpha\",\"contentUniqueKey\":\"hamny-20220622143342487\",\"mediaName\":\"머니투데이\",\"torosRanking\":53,\"torosScore\":0.0072285064,\"poolCode\":\"p_news_auto_txt\",\"feedId\":11,\"feedName\":\"하모니\",\"clusterTitle\":\"\"}},{\"id\":\"hamny-20220622154603064\",\"title\":\"尹, 한국 대통령 최초 나토 정상회의 참석..\\\"김건희 여사도 동행할 듯\\\"\",\"label\":null,\"url\":\"https://v.daum.net/v/20220622154603064\",\"icon\":\"TEXT\",\"imageUrl\":\"https://t1.daumcdn.net/news/202206/22/seoul/20220622154603578fwwm.jpg\",\"source\":\"서울신문\",\"position\":0,\"meta\":{\"impressionId\":\"toros_cloud_alpha\",\"contentUniqueKey\":\"hamny-20220622154603064\",\"mediaName\":\"서울신문\",\"torosRanking\":56,\"torosScore\":0.0071131413,\"poolCode\":\"p_news_auto_txt\",\"feedId\":11,\"feedName\":\"하모니\",\"clusterTitle\":\"\"}}],\"p_news_leverage_1\":[{\"id\":\"tv-337458904\",\"title\":\"'생애 첫 우승' 흔들림 없는 경기력으로 우승한 최가빈 [드림투어 6차전]\",\"label\":null,\"url\":\"https://newslink.media.daum.net/v/429811702\",\"icon\":\"VIDEO\",\"imageUrl\":\"https://thumb.kakaocdn.net/dna/kamp/source/rv6jkohk4bovcshdetef91ool/thumbs/thumb.jpg?credential=TuMuFGKUIcirOSjFzOpncbomGFEIdZWK&expires=33212786851&signature=m0vTolX9IZmZGEMHJT%2Fp%2F9vDN%2BQ%3D\",\"source\":\"KLPGA 드림·점프·챔피언스투어\",\"position\":0,\"meta\":{\"impressionId\":\"tromm\",\"contentUniqueKey\":\"tv-337458904\",\"mediaName\":\"KLPGA 드림·점프·챔피언스투어\",\"torosRanking\":0,\"torosScore\":0.0,\"poolCode\":\"p_news_leverage\",\"feedId\":22,\"feedName\":\"카카오TV\",\"clusterTitle\":\"\"}},{\"id\":\"tv-337458379\",\"title\":\"[인터뷰] 시크릿 넘버 Secret Number 비하인드 인터뷰 왔다갔디오 / 220616 아이돌 라디오2\",\"label\":null,\"url\":\"https://newslink.media.daum.net/v/429810814\",\"icon\":\"VIDEO\",\"imageUrl\":\"https://thumb.kakaocdn.net/dna/kamp/source/rvs5638sgoqkmk3ozmu2stvjr/thumbs/thumb.jpg?credential=TuMuFGKUIcirOSjFzOpncbomGFEIdZWK&expires=33212784363&signature=BTC6%2Fb8IAd0ghssJ%2Bug1JVKvO7s%3D\",\"source\":\"봉춘라디오 (MBC 라디오)\",\"position\":0,\"meta\":{\"impressionId\":\"tromm\",\"contentUniqueKey\":\"tv-337458379\",\"mediaName\":\"봉춘라디오 (MBC 라디오)\",\"torosRanking\":0,\"torosScore\":0.0,\"poolCode\":\"p_news_leverage\",\"feedId\":22,\"feedName\":\"카카오TV\",\"clusterTitle\":\"\"}}]},\"cabinets\":null,\"board\":false},{\"code\":2399,\"type\":\"PC_MEDIA_ENTER\",\"items\":{\"op\":{\"tab\":\"entertain\",\"title\":\"연예\",\"url\":\"https://entertain.daum.net/\"},\"left_thumbnail_op\":{\"imageUrl\":\"https://t1.daumcdn.net/section/oc/27ffdb3996d24edc9ee2b3fb7c4859f6\",\"label\":\"라벨\",\"title\":\"타이틀\",\"thumbnailType\":\"TESLA\",\"url\":\"https://www.daum.net\",\"status\":\"off\"},\"footLinkLeft\":{\"foot1\":\"{\\\"title\\\":\\\"TV영상\\\",\\\"url\\\":\\\"https://entertain.daum.net/tv\\\",\\\"tiaraTag\\\":\\\"tvnow\\\"}\",\"foot0\":\"{\\\"title\\\":\\\"많이 본 뉴스\\\",\\\"url\\\":\\\"https://entertain.daum.net/ranking/popular\\\",\\\"tiaraTag\\\":\\\"news\\\"}\",\"foot3\":\"{\\\"title\\\":\\\"투표\\\",\\\"url\\\":\\\"https://entertain.daum.net/poll\\\",\\\"tiaraTag\\\":\\\"poll\\\"}\",\"footer\":\"{\\\"title\\\":\\\"연예홈\\\",\\\"url\\\":\\\"https://entertain.daum.net/\\\"}\",\"foot2\":\"{\\\"title\\\":\\\"포토\\\",\\\"url\\\":\\\"https://entertain.daum.net/photo\\\",\\\"tiaraTag\\\":\\\"photo\\\"}\",\"foot4\":\"{\\\"title\\\":\\\"\\\",\\\"url\\\":\\\"\\\",\\\"tiaraTag\\\":\\\"\\\"}\",\"status\":\"on\"},\"footLinkRight\":{\"foot1\":\"{\\\"title\\\":\\\"요일별드라마\\\",\\\"url\\\":\\\"https://search.daum.net/search?w=tot&q=%EC%9A%94%EC%9D%BC%EB%B3%84%20%EB%93%9C%EB%9D%BC%EB%A7%88&DA=TMZ\\\",\\\"tiaraTag\\\":\\\"tvschedule\\\"}\",\"foot0\":\"{\\\"title\\\":\\\"시청률\\\",\\\"url\\\":\\\"https://search.daum.net/search?w=tot&q=%EC%8B%9C%EC%B2%AD%EB%A5%A0&DA=TMZ\\\",\\\"tiaraTag\\\":\\\"tvrating\\\"}\",\"foot2\":\"{\\\"title\\\":\\\"방금그곡\\\",\\\"url\\\":\\\"https://search.daum.net/search?w=tot&q=%EB%B0%A9%EA%B8%88%EA%B7%B8%EA%B3%A1&DA=TMZ\\\",\\\"tiaraTag\\\":\\\"nowsong\\\"}\",\"status\":\"on\"},\"specialLink\":{\"displayType\":\"hashText\",\"title\":\"#라이브 테스트\",\"url\":null,\"iconType\":\"LIVE\",\"status\":\"off\"}},\"feeds\":{},\"teslas\":{\"p_enter_img_1\":[{\"id\":\"tv-337447516\",\"title\":\"38회. [발리왔소유] 발리 가기 전에 빨리 봐야할 영상  인생샷 건지는 숙소, 핫한 비치클럽, 현지 맛집 그리고 소유의 여행 메이크업템까지  여행 VLOG in BALI\",\"label\":null,\"url\":\"https://newslink.media.daum.net/v/429791414\",\"icon\":\"VIDEO\",\"imageUrl\":\"http://t1.kakaocdn.net/kakaotv/ASSET/warhol_asset/vod_thumbnail/3fced1541e1a3e940895685d43b596fd58d3d9b7\",\"source\":\"소유기\",\"position\":0,\"meta\":{\"impressionId\":\"toros_cloud_alpha\",\"contentUniqueKey\":\"tv-337447516\",\"mediaName\":\"소유기\",\"torosRanking\":1,\"torosScore\":0.0509763259,\"poolCode\":\"p_enter_img\",\"feedId\":22,\"feedName\":\"카카오TV\",\"clusterTitle\":\"\"}},{\"id\":\"tv-337451681\",\"title\":\"충격적인 '튼 살'.. 10개월 만에 20kg 이상 증가한 조나단!  KBS 220621 방송\",\"label\":null,\"url\":\"https://newslink.media.daum.net/v/429798877\",\"icon\":\"VIDEO\",\"imageUrl\":\"https://thumb.kakaocdn.net/dna/kamp/source/rv59tfu3ctw0npx20a16nc2no/thumbs/thumb.jpg?credential=TuMuFGKUIcirOSjFzOpncbomGFEIdZWK&expires=33212732277&signature=t1bQUVQtz96VmP9wLNCdYe9A1HU%3D&ts=1655823477\",\"source\":\"갓파더\",\"position\":0,\"meta\":{\"impressionId\":\"toros_cloud_alpha\",\"contentUniqueKey\":\"tv-337451681\",\"mediaName\":\"갓파더\",\"torosRanking\":2,\"torosScore\":0.0479374744,\"poolCode\":\"p_enter_img\",\"feedId\":22,\"feedName\":\"카카오TV\",\"clusterTitle\":\"\"}},{\"id\":\"tv-337450610\",\"title\":\"일촉즉발! 궐을 떠난 박지연을 향해 조용히 활을 겨누는 하도권  KBS 220621 방송\",\"label\":null,\"url\":\"https://newslink.media.daum.net/v/429797005\",\"icon\":\"VIDEO\",\"imageUrl\":\"https://thumb.kakaocdn.net/dna/kamp/source/rvxh6ix824dn91xskke7qj2vj/thumbs/thumb.jpg?credential=TuMuFGKUIcirOSjFzOpncbomGFEIdZWK&expires=33212727237&signature=OMeHorXeZ93IbCt8GarZxEYw4l0%3D\",\"source\":\"붉은 단심\",\"position\":0,\"meta\":{\"impressionId\":\"toros_cloud_alpha\",\"contentUniqueKey\":\"tv-337450610\",\"mediaName\":\"붉은 단심\",\"torosRanking\":3,\"torosScore\":0.0391426846,\"poolCode\":\"p_enter_img\",\"feedId\":22,\"feedName\":\"카카오TV\",\"clusterTitle\":\"\"}},{\"id\":\"tv-337451380\",\"title\":\"신동욱, 임수향과 보내는 행복한 첫날밤♥[해피엔딩]\",\"label\":null,\"url\":\"https://newslink.media.daum.net/v/429798334\",\"icon\":\"VIDEO\",\"imageUrl\":\"https://thumb.kakaocdn.net/dna/kamp/source/rv758yniykd3cdaty1pmc4k8i/thumbs/thumb.jpg?credential=TuMuFGKUIcirOSjFzOpncbomGFEIdZWK&expires=33212729986&signature=h8PLGEdviycht%2Feyt4ohTmbuNMA%3D\",\"source\":\"우리는 오늘부터\",\"position\":0,\"meta\":{\"impressionId\":\"toros_cloud_alpha\",\"contentUniqueKey\":\"tv-337451380\",\"mediaName\":\"우리는 오늘부터\",\"torosRanking\":4,\"torosScore\":0.03157761,\"poolCode\":\"p_enter_img\",\"feedId\":22,\"feedName\":\"카카오TV\",\"clusterTitle\":\"\"}},{\"id\":\"tv-337452277\",\"title\":\"임원희, 게스트 신기루를 상대로 이길 수 있다고 호언장담!\",\"label\":null,\"url\":\"https://newslink.media.daum.net/v/429799925\",\"icon\":\"VIDEO\",\"imageUrl\":\"https://thumb.kakaocdn.net/dna/kamp/source/rvszeak6k4smy755kld7cidst/thumbs/thumb.jpg?credential=TuMuFGKUIcirOSjFzOpncbomGFEIdZWK&expires=33212734589&signature=mlTOpXzV9CkG%2BFNDKlA8kYyPaRs%3D&ts=1655825789\",\"source\":\"신발 벗고 돌싱포맨\",\"position\":0,\"meta\":{\"impressionId\":\"toros_cloud_alpha\",\"contentUniqueKey\":\"tv-337452277\",\"mediaName\":\"신발 벗고 돌싱포맨\",\"torosRanking\":5,\"torosScore\":0.0263158767,\"poolCode\":\"p_enter_img\",\"feedId\":22,\"feedName\":\"카카오TV\",\"clusterTitle\":\"\"}},{\"id\":\"tv-337448799\",\"title\":\"\\\"날 왜 이렇게 비참하게 만들어!\\\"퇴직을 숨기고 공사판에서 일하는 이한위에 눈물을 흘리는 김희정  KBS 220621 방송\",\"label\":null,\"url\":\"https://newslink.media.daum.net/v/429793719\",\"icon\":\"VIDEO\",\"imageUrl\":\"https://thumb.kakaocdn.net/dna/kamp/source/rveb9jz3azgurniby6erk1xns/thumbs/thumb.jpg?credential=TuMuFGKUIcirOSjFzOpncbomGFEIdZWK&expires=33212721805&signature=NI3npC3MlNynIAYibJ40geaj8uo%3D\",\"source\":\"으라차차 내 인생\",\"position\":0,\"meta\":{\"impressionId\":\"toros_cloud_alpha\",\"contentUniqueKey\":\"tv-337448799\",\"mediaName\":\"으라차차 내 인생\",\"torosRanking\":27,\"torosScore\":0.0148744648,\"poolCode\":\"p_enter_img\",\"feedId\":22,\"feedName\":\"카카오TV\",\"clusterTitle\":\"\"}},{\"id\":\"tv-337450768\",\"title\":\"문가영, 여진구가 고백한 '링크 현상' 테스트하다 들킨 두근거림♡  tvN 220621 방송(콩닥콩닥)\",\"label\":null,\"url\":\"https://newslink.media.daum.net/v/429797277\",\"icon\":\"VIDEO\",\"imageUrl\":\"https://thumb.kakaocdn.net/dna/kamp/source/rvlmqr7lzge4hr0cvgbqjlljh/thumbs/thumb.jpg?credential=TuMuFGKUIcirOSjFzOpncbomGFEIdZWK&expires=33212727797&signature=TxryoXNNHchp1cpy9%2Fos%2BmJ%2F2EQ%3D\",\"source\":\"링크\",\"position\":0,\"meta\":{\"impressionId\":\"toros_cloud_alpha\",\"contentUniqueKey\":\"tv-337450768\",\"mediaName\":\"링크\",\"torosRanking\":54,\"torosScore\":0.004956851,\"poolCode\":\"p_enter_img\",\"feedId\":22,\"feedName\":\"카카오TV\",\"clusterTitle\":\"\"}},{\"id\":\"tv-337443391\",\"title\":\"바야바 아니에요 나누면 배가 되는 가발의 고통 제작진에게 선물하는 장난꾸러기 유재석\",\"label\":null,\"url\":\"https://newslink.media.daum.net/v/429784161\",\"icon\":\"VIDEO\",\"imageUrl\":\"https://t1.kakaocdn.net/kakaotv/ASSET/warhol_asset/vod_thumbnail/2897dc99f878242f70c62c360eeba17e2d7c6b68\",\"source\":\"플레이유\",\"position\":0,\"meta\":{\"impressionId\":\"toros_cloud_alpha\",\"contentUniqueKey\":\"tv-337443391\",\"mediaName\":\"플레이유\",\"torosRanking\":65,\"torosScore\":0.0038591813,\"poolCode\":\"p_enter_img\",\"feedId\":22,\"feedName\":\"카카오TV\",\"clusterTitle\":\"\"}}],\"p_enter_auto_txt_1\":[{\"id\":\"hamny-20220622162102586\",\"title\":\"'마녀는 살아있다' 이유리·이민영·윤소이, 첫회부터 다이나믹하게 달린다\",\"label\":null,\"url\":\"https://v.daum.net/v/20220622162102586\",\"icon\":\"TEXT\",\"imageUrl\":\"https://t1.daumcdn.net/news/202206/22/mksports/20220622162105150ofmb.jpg\",\"source\":\"MK스포츠\",\"position\":0,\"meta\":{\"impressionId\":\"toros_cloud_alpha\",\"contentUniqueKey\":\"hamny-20220622162102586\",\"mediaName\":\"MK스포츠\",\"torosRanking\":1,\"torosScore\":0.0226344858,\"poolCode\":\"p_enter_auto_txt\",\"feedId\":11,\"feedName\":\"하모니\",\"clusterTitle\":\"\"}},{\"id\":\"hamny-20220622132137791\",\"title\":\"김민수 \\\"매일 30분 쇼핑..전담 택배기사도 있을 정도\\\"(최파타)\",\"label\":null,\"url\":\"https://v.daum.net/v/20220622132137791\",\"icon\":\"TEXT\",\"imageUrl\":\"https://t1.daumcdn.net/news/202206/22/newsen/20220622132138011dzqq.jpg\",\"source\":\"뉴스엔\",\"position\":0,\"meta\":{\"impressionId\":\"toros_cloud_alpha\",\"contentUniqueKey\":\"hamny-20220622132137791\",\"mediaName\":\"뉴스엔\",\"torosRanking\":5,\"torosScore\":0.0129437117,\"poolCode\":\"p_enter_auto_txt\",\"feedId\":11,\"feedName\":\"하모니\",\"clusterTitle\":\"\"}},{\"id\":\"hamny-20220622135100700\",\"title\":\"'운동선수 방송출연' 부정적 시선에 박세리가 한 말\",\"label\":null,\"url\":\"https://v.daum.net/v/20220622135100700\",\"icon\":\"TEXT\",\"imageUrl\":\"https://t1.daumcdn.net/news/202206/22/ohmynews/20220622135106141jfyt.jpg\",\"source\":\"오마이뉴스\",\"position\":0,\"meta\":{\"impressionId\":\"toros_cloud_alpha\",\"contentUniqueKey\":\"hamny-20220622135100700\",\"mediaName\":\"오마이뉴스\",\"torosRanking\":2,\"torosScore\":0.0153474079,\"poolCode\":\"p_enter_auto_txt\",\"feedId\":11,\"feedName\":\"하모니\",\"clusterTitle\":\"오마이뉴스 TV리뷰\"}},{\"id\":\"hamny-20220622133232076\",\"title\":\"이용주 \\\"옷 잘 입는 이유? 파리 사는 母 옷 사서 보내줘\\\" '최파타'\",\"label\":null,\"url\":\"https://v.daum.net/v/20220622133232076\",\"icon\":\"TEXT\",\"imageUrl\":\"https://t1.daumcdn.net/news/202206/22/newsen/20220622133232726qdfu.jpg\",\"source\":\"뉴스엔\",\"position\":0,\"meta\":{\"impressionId\":\"toros_cloud_alpha\",\"contentUniqueKey\":\"hamny-20220622133232076\",\"mediaName\":\"뉴스엔\",\"torosRanking\":13,\"torosScore\":0.0087495726,\"poolCode\":\"p_enter_auto_txt\",\"feedId\":11,\"feedName\":\"하모니\",\"clusterTitle\":\"\"}},{\"id\":\"hamny-20220622152302801\",\"title\":\"옥주현, \\\"주둥이 놀린\\\" 김호영 고소..'옥장판'이 갈라놓은 우정[TEN피플]\",\"label\":null,\"url\":\"https://v.daum.net/v/20220622152302801\",\"icon\":\"TEXT\",\"imageUrl\":\"https://t1.daumcdn.net/news/202206/22/10asia/20220622152304332jour.jpg\",\"source\":\"텐아시아\",\"position\":0,\"meta\":{\"impressionId\":\"toros_cloud_alpha\",\"contentUniqueKey\":\"hamny-20220622152302801\",\"mediaName\":\"텐아시아\",\"torosRanking\":4,\"torosScore\":0.0132523204,\"poolCode\":\"p_enter_auto_txt\",\"feedId\":11,\"feedName\":\"하모니\",\"clusterTitle\":\"\"}},{\"id\":\"hamny-20220622113036439\",\"title\":\"모태범, ♥임사랑과 차박 데이트..\\\"신혼부부인 줄 알겠네\\\" [신랑수업]\",\"label\":null,\"url\":\"https://v.daum.net/v/20220622113036439\",\"icon\":\"TEXT\",\"imageUrl\":\"https://t1.daumcdn.net/news/202206/22/starnews/20220622113037248fyhl.jpg\",\"source\":\"스타뉴스\",\"position\":0,\"meta\":{\"impressionId\":\"toros_cloud_alpha\",\"contentUniqueKey\":\"hamny-20220622113036439\",\"mediaName\":\"스타뉴스\",\"torosRanking\":38,\"torosScore\":0.0077507985,\"poolCode\":\"p_enter_auto_txt\",\"feedId\":11,\"feedName\":\"하모니\",\"clusterTitle\":\"\"}},{\"id\":\"hamny-20220622135025674\",\"title\":\"싸이, '흠뻑쇼' 방역 논란에 \\\"방수 마스크 1장·KF94 마스크 3장 제공\\\" [전문]\",\"label\":null,\"url\":\"https://v.daum.net/v/20220622135025674\",\"icon\":\"TEXT\",\"imageUrl\":\"https://t1.daumcdn.net/news/202206/22/mydaily/20220622135025885hvtr.jpg\",\"source\":\"마이데일리\",\"position\":0,\"meta\":{\"impressionId\":\"toros_cloud_alpha\",\"contentUniqueKey\":\"hamny-20220622135025674\",\"mediaName\":\"마이데일리\",\"torosRanking\":44,\"torosScore\":0.0076647542,\"poolCode\":\"p_enter_auto_txt\",\"feedId\":11,\"feedName\":\"하모니\",\"clusterTitle\":\"\"}},{\"id\":\"hamny-20220622130301449\",\"title\":\"유덕화, 딸 생일에 650억 썼다..저택+전용기 구입 [룩@차이나]\",\"label\":null,\"url\":\"https://v.daum.net/v/20220622130301449\",\"icon\":\"TEXT\",\"imageUrl\":\"https://t1.daumcdn.net/news/202206/22/tvreport/20220622130303929ikey.jpg\",\"source\":\"TV리포트\",\"position\":0,\"meta\":{\"impressionId\":\"toros_cloud_alpha\",\"contentUniqueKey\":\"hamny-20220622130301449\",\"mediaName\":\"TV리포트\",\"torosRanking\":32,\"torosScore\":0.0078990915,\"poolCode\":\"p_enter_auto_txt\",\"feedId\":11,\"feedName\":\"하모니\",\"clusterTitle\":\"\"}},{\"id\":\"hamny-20220622125649276\",\"title\":\"'종이의 집' 김윤진 \\\"왜 美서 고생했는지, 한국 콘텐츠 열풍 기뻐\\\" [N현장]\",\"label\":null,\"url\":\"https://v.daum.net/v/20220622125649276\",\"icon\":\"TEXT\",\"imageUrl\":\"https://t1.daumcdn.net/news/202206/22/NEWS1/20220622125651017zrwb.jpg\",\"source\":\"뉴스1\",\"position\":0,\"meta\":{\"impressionId\":\"toros_cloud_alpha\",\"contentUniqueKey\":\"hamny-20220622125649276\",\"mediaName\":\"뉴스1\",\"torosRanking\":60,\"torosScore\":0.0074178576,\"poolCode\":\"p_enter_auto_txt\",\"feedId\":11,\"feedName\":\"하모니\",\"clusterTitle\":\"\"}},{\"id\":\"hamny-20220622160631022\",\"title\":\"이유리 \\\"17년만 재회한 이민영 외모 변화無, 앞자리 숫자만 변해\\\"(마녀는)\",\"label\":null,\"url\":\"https://v.daum.net/v/20220622160631022\",\"icon\":\"TEXT\",\"imageUrl\":\"https://t1.daumcdn.net/news/202206/22/newsen/20220622160631273bgjn.jpg\",\"source\":\"뉴스엔\",\"position\":0,\"meta\":{\"impressionId\":\"toros_cloud_alpha\",\"contentUniqueKey\":\"hamny-20220622160631022\",\"mediaName\":\"뉴스엔\",\"torosRanking\":7,\"torosScore\":0.0118529044,\"poolCode\":\"p_enter_auto_txt\",\"feedId\":11,\"feedName\":\"하모니\",\"clusterTitle\":\"\"}}]},\"cabinets\":null,\"board\":false},{\"code\":2376,\"type\":\"PC_MEDIA_SPORTS\",\"items\":{\"op\":{\"tab\":\"sports\",\"title\":\"스포츠\",\"url\":\"https://sports.daum.net/\"},\"left_thumbnail_op\":{\"imageUrl\":\"https://t1.daumcdn.net/section/oc/45850a36411641d09b4754c458e0fa5e\",\"label\":\"#Live\",\"title\":\"돌아온 불타는 그라운드 2021\",\"thumbnailType\":\"TESLA\",\"url\":\"https://tv.kakao.com/channel/2092/livelink/79515bc86a1e4bf2@now\",\"status\":\"off\"},\"scoreboard_op\":{\"scoreboardStatus\":\"on\",\"scoreboardType\":\"general\"},\"footLinkLeft\":{\"foot1\":\"{\\\"title\\\":\\\"해외축구\\\",\\\"url\\\":\\\"https://sports.daum.net/worldsoccer\\\",\\\"tiaraTag\\\":\\\"worldsoccer\\\"}\",\"foot0\":\"{\\\"title\\\":\\\"축구\\\",\\\"url\\\":\\\"https://sports.daum.net/soccer\\\",\\\"tiaraTag\\\":\\\"soccer\\\"}\",\"foot3\":\"{\\\"title\\\":\\\"해외야구\\\",\\\"url\\\":\\\"https://sports.daum.net/worldbaseball\\\",\\\"tiaraTag\\\":\\\"worldbaseball\\\"}\",\"footer\":\"{\\\"title\\\":\\\"스포츠홈\\\",\\\"url\\\":\\\"https://sports.daum.net/\\\"}\",\"foot2\":\"{\\\"title\\\":\\\"야구\\\",\\\"url\\\":\\\"https://sports.daum.net/baseball\\\",\\\"tiaraTag\\\":\\\"baseball\\\"}\",\"foot5\":\"{\\\"title\\\":\\\"농구\\\",\\\"url\\\":\\\"https://sports.daum.net/basketball\\\",\\\"tiaraTag\\\":\\\"basketball\\\"}\",\"foot4\":\"{\\\"title\\\":\\\"골프\\\",\\\"url\\\":\\\"https://sports.daum.net/golf\\\",\\\"tiaraTag\\\":\\\"golf\\\"}\",\"foot7\":\"{\\\"title\\\":\\\"일반\\\",\\\"url\\\":\\\"https://sports.daum.net/general\\\",\\\"tiaraTag\\\":\\\"general\\\"}\",\"foot6\":\"{\\\"title\\\":\\\"배구\\\",\\\"url\\\":\\\"https://sports.daum.net/volleyball\\\",\\\"tiaraTag\\\":\\\"volleyball\\\"}\",\"foot8\":\"{\\\"title\\\":\\\"e스포츠\\\",\\\"url\\\":\\\"https://sports.daum.net/esports\\\",\\\"tiaraTag\\\":\\\"esports\\\"}\",\"status\":\"on\"},\"footLinkRight\":{\"foot1\":\"{\\\"title\\\":\\\"\\\",\\\"url\\\":\\\"\\\",\\\"tiaraTag\\\":\\\"\\\"}\",\"foot0\":\"{\\\"title\\\":\\\"라이브스코어\\\",\\\"url\\\":\\\"https://search.daum.net/search?w=tot&q=%EB%9D%BC%EC%9D%B4%EB%B8%8C%20%EC%8A%A4%EC%BD%94%EC%96%B4&DA=TMZ\\\",\\\"tiaraTag\\\":\\\"livescore\\\"}\",\"foot2\":\"{\\\"title\\\":\\\"\\\",\\\"url\\\":\\\"\\\",\\\"tiaraTag\\\":\\\"\\\"}\",\"status\":\"on\"},\"specialLink\":{\"displayType\":\"specialLink\",\"title\":\"동계 패럴림픽\",\"url\":\"https://tv.kakao.com/channel/3021515/livelink/pn56v1g54yex7pvr@now\",\"iconType\":\"LIVE\",\"status\":\"off\"}},\"feeds\":{\"pc_media_sports_scoreboard\":\"[{\\\"status\\\":\\\"before\\\",\\\"event-code\\\":\\\"BASEBALL\\\",\\\"event-name\\\":\\\"야구\\\",\\\"category\\\":\\\"KBO\\\",\\\"league-name\\\":\\\"KBO\\\",\\\"game-date\\\":\\\"2022-06-22 18:30:00.0\\\",\\\"m-status-text\\\":\\\"분석\\\",\\\"pc-status-text\\\":\\\"분석\\\",\\\"period\\\":\\\"\\\",\\\"cast-type\\\":\\\"video\\\",\\\"game-id\\\":\\\"80055375\\\",\\\"pc-landing-url\\\":\\\"https://sports.daum.net/game/80055375\\\",\\\"m-landing-url\\\":\\\"https://sports.daum.net/game/80055375\\\",\\\"sort-seq\\\":\\\"5\\\",\\\"top-highlight-flag\\\":\\\"false\\\",\\\"top-pin-flag\\\":\\\"false\\\",\\\"home-team-id\\\":\\\"387\\\",\\\"home-team-name\\\":\\\"LG\\\",\\\"home-team-score\\\":\\\"\\\",\\\"home-tk-qty\\\":\\\"\\\",\\\"home-team-logo-url\\\":\\\"https://t1.daumcdn.net/media/img-section/sports13/logo/team/1/LG_300300.png\\\",\\\"away-team-id\\\":\\\"390\\\",\\\"away-team-name\\\":\\\"한화\\\",\\\"away-team-score\\\":\\\"\\\",\\\"away-tk-qty\\\":\\\"\\\",\\\"away-team-logo-url\\\":\\\"https://t1.daumcdn.net/media/img-section/sports13/logo/team/1/HH_300300.png\\\"},{\\\"status\\\":\\\"before\\\",\\\"event-code\\\":\\\"BASEBALL\\\",\\\"event-name\\\":\\\"야구\\\",\\\"category\\\":\\\"KBO\\\",\\\"league-name\\\":\\\"KBO\\\",\\\"game-date\\\":\\\"2022-06-22 18:30:00.0\\\",\\\"m-status-text\\\":\\\"분석\\\",\\\"pc-status-text\\\":\\\"분석\\\",\\\"period\\\":\\\"\\\",\\\"cast-type\\\":\\\"video\\\",\\\"game-id\\\":\\\"80055376\\\",\\\"pc-landing-url\\\":\\\"https://sports.daum.net/game/80055376\\\",\\\"m-landing-url\\\":\\\"https://sports.daum.net/game/80055376\\\",\\\"sort-seq\\\":\\\"5\\\",\\\"top-highlight-flag\\\":\\\"false\\\",\\\"top-pin-flag\\\":\\\"false\\\",\\\"home-team-id\\\":\\\"389\\\",\\\"home-team-name\\\":\\\"KIA\\\",\\\"home-team-score\\\":\\\"\\\",\\\"home-tk-qty\\\":\\\"\\\",\\\"home-team-logo-url\\\":\\\"https://t1.daumcdn.net/media/img-section/sports13/logo/team/1/HT_300300.png\\\",\\\"away-team-id\\\":\\\"386\\\",\\\"away-team-name\\\":\\\"롯데\\\",\\\"away-team-score\\\":\\\"\\\",\\\"away-tk-qty\\\":\\\"\\\",\\\"away-team-logo-url\\\":\\\"https://t1.daumcdn.net/media/img-section/sports13/logo/team/1/LT_300300.png\\\"},{\\\"status\\\":\\\"before\\\",\\\"event-code\\\":\\\"BASEBALL\\\",\\\"event-name\\\":\\\"야구\\\",\\\"category\\\":\\\"KBO\\\",\\\"league-name\\\":\\\"KBO\\\",\\\"game-date\\\":\\\"2022-06-22 18:30:00.0\\\",\\\"m-status-text\\\":\\\"분석\\\",\\\"pc-status-text\\\":\\\"분석\\\",\\\"period\\\":\\\"\\\",\\\"cast-type\\\":\\\"video\\\",\\\"game-id\\\":\\\"80055377\\\",\\\"pc-landing-url\\\":\\\"https://sports.daum.net/game/80055377\\\",\\\"m-landing-url\\\":\\\"https://sports.daum.net/game/80055377\\\",\\\"sort-seq\\\":\\\"5\\\",\\\"top-highlight-flag\\\":\\\"false\\\",\\\"top-pin-flag\\\":\\\"false\\\",\\\"home-team-id\\\":\\\"394601\\\",\\\"home-team-name\\\":\\\"KT\\\",\\\"home-team-score\\\":\\\"\\\",\\\"home-tk-qty\\\":\\\"\\\",\\\"home-team-logo-url\\\":\\\"https://t1.daumcdn.net/media/img-section/sports13/logo/team/1/KT_300300.png\\\",\\\"away-team-id\\\":\\\"172615\\\",\\\"away-team-name\\\":\\\"NC\\\",\\\"away-team-score\\\":\\\"\\\",\\\"away-tk-qty\\\":\\\"\\\",\\\"away-team-logo-url\\\":\\\"https://t1.daumcdn.net/media/img-section/sports13/logo/team/1/NC_300300.png\\\"},{\\\"status\\\":\\\"before\\\",\\\"event-code\\\":\\\"BASEBALL\\\",\\\"event-name\\\":\\\"야구\\\",\\\"category\\\":\\\"KBO\\\",\\\"league-name\\\":\\\"KBO\\\",\\\"game-date\\\":\\\"2022-06-22 18:30:00.0\\\",\\\"m-status-text\\\":\\\"분석\\\",\\\"pc-status-text\\\":\\\"분석\\\",\\\"period\\\":\\\"\\\",\\\"cast-type\\\":\\\"video\\\",\\\"game-id\\\":\\\"80055378\\\",\\\"pc-landing-url\\\":\\\"https://sports.daum.net/game/80055378\\\",\\\"m-landing-url\\\":\\\"https://sports.daum.net/game/80055378\\\",\\\"sort-seq\\\":\\\"5\\\",\\\"top-highlight-flag\\\":\\\"false\\\",\\\"top-pin-flag\\\":\\\"false\\\",\\\"home-team-id\\\":\\\"384\\\",\\\"home-team-name\\\":\\\"SSG\\\",\\\"home-team-score\\\":\\\"\\\",\\\"home-tk-qty\\\":\\\"\\\",\\\"home-team-logo-url\\\":\\\"https://t1.daumcdn.net/media/img-section/sports13/logo/team/1/SK_300300.png\\\",\\\"away-team-id\\\":\\\"385\\\",\\\"away-team-name\\\":\\\"두산\\\",\\\"away-team-score\\\":\\\"\\\",\\\"away-tk-qty\\\":\\\"\\\",\\\"away-team-logo-url\\\":\\\"https://t1.daumcdn.net/media/img-section/sports13/logo/team/1/OB_300300.png\\\"},{\\\"status\\\":\\\"before\\\",\\\"event-code\\\":\\\"BASEBALL\\\",\\\"event-name\\\":\\\"야구\\\",\\\"category\\\":\\\"KBO\\\",\\\"league-name\\\":\\\"KBO\\\",\\\"game-date\\\":\\\"2022-06-22 18:30:00.0\\\",\\\"m-status-text\\\":\\\"분석\\\",\\\"pc-status-text\\\":\\\"분석\\\",\\\"period\\\":\\\"\\\",\\\"cast-type\\\":\\\"video\\\",\\\"game-id\\\":\\\"80055379\\\",\\\"pc-landing-url\\\":\\\"https://sports.daum.net/game/80055379\\\",\\\"m-landing-url\\\":\\\"https://sports.daum.net/game/80055379\\\",\\\"sort-seq\\\":\\\"5\\\",\\\"top-highlight-flag\\\":\\\"false\\\",\\\"top-pin-flag\\\":\\\"false\\\",\\\"home-team-id\\\":\\\"383\\\",\\\"home-team-name\\\":\\\"삼성\\\",\\\"home-team-score\\\":\\\"\\\",\\\"home-tk-qty\\\":\\\"\\\",\\\"home-team-logo-url\\\":\\\"https://t1.daumcdn.net/media/img-section/sports13/logo/team/1/SS_300300.png\\\",\\\"away-team-id\\\":\\\"382\\\",\\\"away-team-name\\\":\\\"키움\\\",\\\"away-team-score\\\":\\\"\\\",\\\"away-tk-qty\\\":\\\"\\\",\\\"away-team-logo-url\\\":\\\"https://t1.daumcdn.net/media/img-section/sports13/logo/team/1/WO_300300.png\\\"},{\\\"status\\\":\\\"before\\\",\\\"event-code\\\":\\\"SOCCER\\\",\\\"event-name\\\":\\\"축구\\\",\\\"category\\\":\\\"KL\\\",\\\"league-name\\\":\\\"K리그1\\\",\\\"game-date\\\":\\\"2022-06-22 19:00:00.0\\\",\\\"m-status-text\\\":\\\"분석\\\",\\\"pc-status-text\\\":\\\"분석\\\",\\\"period\\\":\\\"\\\",\\\"cast-type\\\":\\\"video\\\",\\\"game-id\\\":\\\"80055878\\\",\\\"pc-landing-url\\\":\\\"https://sports.daum.net/game/80055878\\\",\\\"m-landing-url\\\":\\\"https://sports.daum.net/game/80055878\\\",\\\"sort-seq\\\":\\\"5\\\",\\\"top-highlight-flag\\\":\\\"false\\\",\\\"top-pin-flag\\\":\\\"false\\\",\\\"home-team-id\\\":\\\"5\\\",\\\"home-team-name\\\":\\\"전북\\\",\\\"home-team-score\\\":\\\"\\\",\\\"home-tk-qty\\\":\\\"\\\",\\\"home-team-logo-url\\\":\\\"https://t1.daumcdn.net/media/img-section/sports13/logo/team/6/K05_300300.png\\\",\\\"away-team-id\\\":\\\"2\\\",\\\"away-team-name\\\":\\\"수원\\\",\\\"away-team-score\\\":\\\"\\\",\\\"away-tk-qty\\\":\\\"\\\",\\\"away-team-logo-url\\\":\\\"https://t1.daumcdn.net/media/img-section/sports13/logo/team/6/K02_300300.png\\\"},{\\\"status\\\":\\\"before\\\",\\\"event-code\\\":\\\"SOCCER\\\",\\\"event-name\\\":\\\"축구\\\",\\\"category\\\":\\\"KL2\\\",\\\"league-name\\\":\\\"K리그2\\\",\\\"game-date\\\":\\\"2022-06-22 19:00:00.0\\\",\\\"m-status-text\\\":\\\"분석\\\",\\\"pc-status-text\\\":\\\"분석\\\",\\\"period\\\":\\\"\\\",\\\"cast-type\\\":\\\"video\\\",\\\"game-id\\\":\\\"80056124\\\",\\\"pc-landing-url\\\":\\\"https://sports.daum.net/game/80056124\\\",\\\"m-landing-url\\\":\\\"https://sports.daum.net/game/80056124\\\",\\\"sort-seq\\\":\\\"5\\\",\\\"top-highlight-flag\\\":\\\"false\\\",\\\"top-pin-flag\\\":\\\"false\\\",\\\"home-team-id\\\":\\\"19\\\",\\\"home-team-name\\\":\\\"경남\\\",\\\"home-team-score\\\":\\\"\\\",\\\"home-tk-qty\\\":\\\"\\\",\\\"home-team-logo-url\\\":\\\"https://t1.daumcdn.net/media/img-section/sports13/logo/team/6/K20_300300.png\\\",\\\"away-team-id\\\":\\\"600983\\\",\\\"away-team-name\\\":\\\"충남아산\\\",\\\"away-team-score\\\":\\\"\\\",\\\"away-tk-qty\\\":\\\"\\\",\\\"away-team-logo-url\\\":\\\"https://t1.daumcdn.net/media/img-section/sports13/logo/team/6/K34_300300.png\\\"},{\\\"status\\\":\\\"before\\\",\\\"event-code\\\":\\\"SOCCER\\\",\\\"event-name\\\":\\\"축구\\\",\\\"category\\\":\\\"KL\\\",\\\"league-name\\\":\\\"K리그1\\\",\\\"game-date\\\":\\\"2022-06-22 19:30:00.0\\\",\\\"m-status-text\\\":\\\"분석\\\",\\\"pc-status-text\\\":\\\"분석\\\",\\\"period\\\":\\\"\\\",\\\"cast-type\\\":\\\"video\\\",\\\"game-id\\\":\\\"80055879\\\",\\\"pc-landing-url\\\":\\\"https://sports.daum.net/game/80055879\\\",\\\"m-landing-url\\\":\\\"https://sports.daum.net/game/80055879\\\",\\\"sort-seq\\\":\\\"5\\\",\\\"top-highlight-flag\\\":\\\"false\\\",\\\"top-pin-flag\\\":\\\"false\\\",\\\"home-team-id\\\":\\\"9\\\",\\\"home-team-name\\\":\\\"서울\\\",\\\"home-team-score\\\":\\\"\\\",\\\"home-tk-qty\\\":\\\"\\\",\\\"home-team-logo-url\\\":\\\"https://t1.daumcdn.net/media/img-section/sports13/logo/team/6/K09_300300.png\\\",\\\"away-team-id\\\":\\\"1\\\",\\\"away-team-name\\\":\\\"울산\\\",\\\"away-team-score\\\":\\\"\\\",\\\"away-tk-qty\\\":\\\"\\\",\\\"away-team-logo-url\\\":\\\"https://t1.daumcdn.net/media/img-section/sports13/logo/team/6/K01_300300.png\\\"},{\\\"status\\\":\\\"before\\\",\\\"event-code\\\":\\\"SOCCER\\\",\\\"event-name\\\":\\\"축구\\\",\\\"category\\\":\\\"KL\\\",\\\"league-name\\\":\\\"K리그1\\\",\\\"game-date\\\":\\\"2022-06-22 19:30:00.0\\\",\\\"m-status-text\\\":\\\"분석\\\",\\\"pc-status-text\\\":\\\"분석\\\",\\\"period\\\":\\\"\\\",\\\"cast-type\\\":\\\"video\\\",\\\"game-id\\\":\\\"80055880\\\",\\\"pc-landing-url\\\":\\\"https://sports.daum.net/game/80055880\\\",\\\"m-landing-url\\\":\\\"https://sports.daum.net/game/80055880\\\",\\\"sort-seq\\\":\\\"5\\\",\\\"top-highlight-flag\\\":\\\"false\\\",\\\"top-pin-flag\\\":\\\"false\\\",\\\"home-team-id\\\":\\\"18\\\",\\\"home-team-name\\\":\\\"인천\\\",\\\"home-team-score\\\":\\\"\\\",\\\"home-tk-qty\\\":\\\"\\\",\\\"home-team-logo-url\\\":\\\"https://t1.daumcdn.net/media/img-section/sports13/logo/team/6/K18_300300.png\\\",\\\"away-team-id\\\":\\\"20\\\",\\\"away-team-name\\\":\\\"강원\\\",\\\"away-team-score\\\":\\\"\\\",\\\"away-tk-qty\\\":\\\"\\\",\\\"away-team-logo-url\\\":\\\"https://t1.daumcdn.net/media/img-section/sports13/logo/team/6/K21_300300.png\\\"},{\\\"status\\\":\\\"before\\\",\\\"event-code\\\":\\\"SOCCER\\\",\\\"event-name\\\":\\\"축구\\\",\\\"category\\\":\\\"KL2\\\",\\\"league-name\\\":\\\"K리그2\\\",\\\"game-date\\\":\\\"2022-06-22 19:30:00.0\\\",\\\"m-status-text\\\":\\\"분석\\\",\\\"pc-status-text\\\":\\\"분석\\\",\\\"period\\\":\\\"\\\",\\\"cast-type\\\":\\\"video\\\",\\\"game-id\\\":\\\"80056125\\\",\\\"pc-landing-url\\\":\\\"https://sports.daum.net/game/80056125\\\",\\\"m-landing-url\\\":\\\"https://sports.daum.net/game/80056125\\\",\\\"sort-seq\\\":\\\"5\\\",\\\"top-highlight-flag\\\":\\\"false\\\",\\\"top-pin-flag\\\":\\\"false\\\",\\\"home-team-id\\\":\\\"341965\\\",\\\"home-team-name\\\":\\\"서울E\\\",\\\"home-team-score\\\":\\\"\\\",\\\"home-tk-qty\\\":\\\"\\\",\\\"home-team-logo-url\\\":\\\"https://t1.daumcdn.net/media/img-section/sports13/logo/team/6/K31_300300.png\\\",\\\"away-team-id\\\":\\\"546199\\\",\\\"away-team-name\\\":\\\"안산\\\",\\\"away-team-score\\\":\\\"\\\",\\\"away-tk-qty\\\":\\\"\\\",\\\"away-team-logo-url\\\":\\\"https://t1.daumcdn.net/media/img-section/sports13/logo/team/6/K32_300300.png\\\"},{\\\"status\\\":\\\"before\\\",\\\"event-code\\\":\\\"SOCCER\\\",\\\"event-name\\\":\\\"축구\\\",\\\"category\\\":\\\"KL2\\\",\\\"league-name\\\":\\\"K리그2\\\",\\\"game-date\\\":\\\"2022-06-22 19:30:00.0\\\",\\\"m-status-text\\\":\\\"분석\\\",\\\"pc-status-text\\\":\\\"분석\\\",\\\"period\\\":\\\"\\\",\\\"cast-type\\\":\\\"video\\\",\\\"game-id\\\":\\\"80056126\\\",\\\"pc-landing-url\\\":\\\"https://sports.daum.net/game/80056126\\\",\\\"m-landing-url\\\":\\\"https://sports.daum.net/game/80056126\\\",\\\"sort-seq\\\":\\\"5\\\",\\\"top-highlight-flag\\\":\\\"false\\\",\\\"top-pin-flag\\\":\\\"false\\\",\\\"home-team-id\\\":\\\"163983\\\",\\\"home-team-name\\\":\\\"부천\\\",\\\"home-team-score\\\":\\\"\\\",\\\"home-tk-qty\\\":\\\"\\\",\\\"home-team-logo-url\\\":\\\"https://t1.daumcdn.net/media/img-section/sports13/logo/team/6/K26_300300.png\\\",\\\"away-team-id\\\":\\\"163984\\\",\\\"away-team-name\\\":\\\"안양\\\",\\\"away-team-score\\\":\\\"\\\",\\\"away-tk-qty\\\":\\\"\\\",\\\"away-team-logo-url\\\":\\\"https://t1.daumcdn.net/media/img-section/sports13/logo/team/6/K27_300300.png\\\"},{\\\"status\\\":\\\"end\\\",\\\"event-code\\\":\\\"WORLDBASEBALL\\\",\\\"event-name\\\":\\\"해외야구\\\",\\\"category\\\":\\\"MLB\\\",\\\"league-name\\\":\\\"MLB\\\",\\\"game-date\\\":\\\"2022-06-22 10:40:00.0\\\",\\\"m-status-text\\\":\\\"기록\\\",\\\"pc-status-text\\\":\\\"기록\\\",\\\"period\\\":\\\"\\\",\\\"cast-type\\\":\\\"text\\\",\\\"game-id\\\":\\\"80058146\\\",\\\"pc-landing-url\\\":\\\"https://sports.daum.net/game/80058146\\\",\\\"m-landing-url\\\":\\\"https://sports.daum.net/game/80058146\\\",\\\"sort-seq\\\":\\\"8\\\",\\\"top-highlight-flag\\\":\\\"false\\\",\\\"top-pin-flag\\\":\\\"false\\\",\\\"home-team-id\\\":\\\"438\\\",\\\"home-team-name\\\":\\\"샌디에이고\\\",\\\"home-team-score\\\":\\\"3\\\",\\\"home-tk-qty\\\":\\\"\\\",\\\"home-team-logo-url\\\":\\\"https://t1.daumcdn.net/media/img-section/sports13/logo/team/3/SD_300300.png\\\",\\\"away-team-id\\\":\\\"442\\\",\\\"away-team-name\\\":\\\"애리조나\\\",\\\"away-team-score\\\":\\\"2\\\",\\\"away-tk-qty\\\":\\\"\\\",\\\"away-team-logo-url\\\":\\\"https://t1.daumcdn.net/media/img-section/sports13/logo/team/3/AZ_300300.png\\\"}]\"},\"teslas\":{\"p_sports_img_1\":[{\"id\":\"tv-337449465\",\"title\":\"박찬호, 감탄을 안 할래야 안 할 수가 없는 점프 캐치\",\"label\":null,\"url\":\"https://newslink.media.daum.net/v/429794888\",\"icon\":\"VIDEO\",\"imageUrl\":\"http://img1.kakaocdn.net/kakaotv/KAKAOACCOUNT/1749875377/thumb/20220621214224\",\"source\":\"KBO리그\",\"position\":0,\"meta\":{\"impressionId\":\"toros_cloud_alpha\",\"contentUniqueKey\":\"tv-337449465\",\"mediaName\":\"KBO리그\",\"torosRanking\":1,\"torosScore\":0.1020774449,\"poolCode\":\"p_sports_img\",\"feedId\":22,\"feedName\":\"카카오TV\",\"clusterTitle\":\"\"}},{\"id\":\"tv-337448716\",\"title\":\"미쳤다 이승우! 소름돋는 슈퍼골과 환상적인 댄싱\",\"label\":null,\"url\":\"https://newslink.media.daum.net/v/429793569\",\"icon\":\"VIDEO\",\"imageUrl\":\"http://img1.kakaocdn.net/kakaotv/KAKAOACCOUNT/851683045/thumb/20220621205858\",\"source\":\"K리그\",\"position\":0,\"meta\":{\"impressionId\":\"toros_cloud_alpha\",\"contentUniqueKey\":\"tv-337448716\",\"mediaName\":\"K리그\",\"torosRanking\":2,\"torosScore\":0.0778052613,\"poolCode\":\"p_sports_img\",\"feedId\":22,\"feedName\":\"카카오TV\",\"clusterTitle\":\"\"}},{\"id\":\"tv-337458733\",\"title\":\"가까운 파 퍼트 놓치며 선두권에서 멀어지는 최혜진2 [드림투어 6차전]\",\"label\":null,\"url\":\"https://newslink.media.daum.net/v/429811427\",\"icon\":\"VIDEO\",\"imageUrl\":\"https://thumb.kakaocdn.net/dna/kamp/source/rv9wnck9weyrib8qng813bjk0/thumbs/thumb.jpg?credential=TuMuFGKUIcirOSjFzOpncbomGFEIdZWK&expires=33212786107&signature=bTZCCYvVukYlIFt2ZhrD3RYrurE%3D\",\"source\":\"KLPGA 드림·점프·챔피언스투어\",\"position\":0,\"meta\":{\"impressionId\":\"toros_cloud_alpha\",\"contentUniqueKey\":\"tv-337458733\",\"mediaName\":\"KLPGA 드림·점프·챔피언스투어\",\"torosRanking\":4,\"torosScore\":0.0376726598,\"poolCode\":\"p_sports_img\",\"feedId\":22,\"feedName\":\"카카오TV\",\"clusterTitle\":\"\"}},{\"id\":\"tv-337448367\",\"title\":\"'KBO 최초' 박병호, 9년 연속 20홈런을 자축하는 솔로포\",\"label\":null,\"url\":\"https://newslink.media.daum.net/v/429792970\",\"icon\":\"VIDEO\",\"imageUrl\":\"http://img1.kakaocdn.net/kakaotv/KAKAOACCOUNT/1778315624/thumb/20220621203839\",\"source\":\"KBO리그\",\"position\":0,\"meta\":{\"impressionId\":\"toros_cloud_alpha\",\"contentUniqueKey\":\"tv-337448367\",\"mediaName\":\"KBO리그\",\"torosRanking\":19,\"torosScore\":0.0153927515,\"poolCode\":\"p_sports_img\",\"feedId\":22,\"feedName\":\"카카오TV\",\"clusterTitle\":\"\"}},{\"id\":\"tv-337459638\",\"title\":\"빼앗겼던 '2루타' 되찾았다!… 멀티히트 맹활약에 '미소' [스포츠타임]\",\"label\":null,\"url\":\"https://newslink.media.daum.net/v/429812876\",\"icon\":\"VIDEO\",\"imageUrl\":\"http://img1.kakaocdn.net/kakaotv/KAKAOACCOUNT/317529958/thumb/20220622160138\",\"source\":\"스포츠타임_MLB\",\"position\":0,\"meta\":{\"impressionId\":\"toros_cloud_alpha\",\"contentUniqueKey\":\"tv-337459638\",\"mediaName\":\"스포츠타임_MLB\",\"torosRanking\":3,\"torosScore\":0.0489480222,\"poolCode\":\"p_sports_img\",\"feedId\":22,\"feedName\":\"카카오TV\",\"clusterTitle\":\"\"}},{\"id\":\"tv-337458626\",\"title\":\"샷 이글을 만들뻔한 정시우의 날카로운 서드 샷 [드림투어 6차전]\",\"label\":null,\"url\":\"https://newslink.media.daum.net/v/429811241\",\"icon\":\"VIDEO\",\"imageUrl\":\"https://thumb.kakaocdn.net/dna/kamp/source/rvqi4hpd0z7zyntj130i5pdlj/thumbs/thumb.jpg?credential=TuMuFGKUIcirOSjFzOpncbomGFEIdZWK&expires=33212785570&signature=3ZfRAEyzHEwEtBUWaeIrUXK6pS8%3D\",\"source\":\"KLPGA 드림·점프·챔피언스투어\",\"position\":0,\"meta\":{\"impressionId\":\"toros_cloud_alpha\",\"contentUniqueKey\":\"tv-337458626\",\"mediaName\":\"KLPGA 드림·점프·챔피언스투어\",\"torosRanking\":15,\"torosScore\":0.0235832724,\"poolCode\":\"p_sports_img\",\"feedId\":22,\"feedName\":\"카카오TV\",\"clusterTitle\":\"\"}},{\"id\":\"tv-337449419\",\"title\":\"박계범의 홈런성 타구 관련 비디오 판독\",\"label\":null,\"url\":\"https://newslink.media.daum.net/v/429794807\",\"icon\":\"VIDEO\",\"imageUrl\":\"http://img1.kakaocdn.net/kakaotv/KAKAOACCOUNT/567061224/thumb/20220621213909\",\"source\":\"KBO리그\",\"position\":0,\"meta\":{\"impressionId\":\"toros_cloud_alpha\",\"contentUniqueKey\":\"tv-337449419\",\"mediaName\":\"KBO리그\",\"torosRanking\":20,\"torosScore\":0.0148743174,\"poolCode\":\"p_sports_img\",\"feedId\":22,\"feedName\":\"카카오TV\",\"clusterTitle\":\"\"}},{\"id\":\"tv-337458816\",\"title\":\"3연속 득점으로 승기를 잡고 매치포인트 놓치는 강동궁[경주 블루원리조트 PBA 챔피언십]\",\"label\":null,\"url\":\"https://newslink.media.daum.net/v/429811568\",\"icon\":\"VIDEO\",\"imageUrl\":\"http://img1.kakaocdn.net/kakaotv/KAKAOACCOUNT/1534354358/thumb/20220622150038\",\"source\":\"당구 종합\",\"position\":0,\"meta\":{\"impressionId\":\"toros_cloud_alpha\",\"contentUniqueKey\":\"tv-337458816\",\"mediaName\":\"당구 종합\",\"torosRanking\":5,\"torosScore\":0.0361549412,\"poolCode\":\"p_sports_img\",\"feedId\":22,\"feedName\":\"카카오TV\",\"clusterTitle\":\"\"}}],\"p_sports_auto_txt_1\":[{\"id\":\"hamny-20220622114452186\",\"title\":\"'타구속도 163km' 호쾌한 타구 날린 김하성, 2루타 아닌 실책 판정 아쉽네\",\"label\":null,\"url\":\"https://v.daum.net/v/20220622114452186\",\"icon\":\"TEXT\",\"imageUrl\":\"https://t1.daumcdn.net/news/202206/22/poctan/20220622114452316lmva.jpg\",\"source\":\"OSEN\",\"position\":0,\"meta\":{\"impressionId\":\"toros_cloud_alpha\",\"contentUniqueKey\":\"hamny-20220622114452186\",\"mediaName\":\"OSEN\",\"torosRanking\":3,\"torosScore\":0.0191848566,\"poolCode\":\"p_sports_auto_txt\",\"feedId\":11,\"feedName\":\"하모니\",\"clusterTitle\":\"\"}},{\"id\":\"hamny-20220622151008196\",\"title\":\"2군에서도 1할대 추락..42억 FA 타자의 지독한 부진 언제까지\",\"label\":null,\"url\":\"https://v.daum.net/v/20220622151008196\",\"icon\":\"TEXT\",\"imageUrl\":\"https://t1.daumcdn.net/news/202206/22/mydaily/20220622151008777ljmg.jpg\",\"source\":\"마이데일리\",\"position\":0,\"meta\":{\"impressionId\":\"toros_cloud_alpha\",\"contentUniqueKey\":\"hamny-20220622151008196\",\"mediaName\":\"마이데일리\",\"torosRanking\":5,\"torosScore\":0.015481694,\"poolCode\":\"p_sports_auto_txt\",\"feedId\":11,\"feedName\":\"하모니\",\"clusterTitle\":\"\"}},{\"id\":\"hamny-20220622162003543\",\"title\":\"\\\"맨유, 더 용 영입만큼 수비형 MF 확보 중요\\\"..英 매체 조언\",\"label\":null,\"url\":\"https://v.daum.net/v/20220622162003543\",\"icon\":\"TEXT\",\"imageUrl\":\"https://t1.daumcdn.net/news/202206/22/interfootball/20220622162006762rgof.jpg\",\"source\":\"인터풋볼\",\"position\":0,\"meta\":{\"impressionId\":\"toros_cloud_alpha\",\"contentUniqueKey\":\"hamny-20220622162003543\",\"mediaName\":\"인터풋볼\",\"torosRanking\":1,\"torosScore\":0.0288154587,\"poolCode\":\"p_sports_auto_txt\",\"feedId\":11,\"feedName\":\"하모니\",\"clusterTitle\":\"\"}},{\"id\":\"hamny-20220622154241849\",\"title\":\"2002 한일 월드컵 스페인전 주심, 오심 논란에 \\\"내 판정은 훌륭했어\\\"\",\"label\":null,\"url\":\"https://v.daum.net/v/20220622154241849\",\"icon\":\"TEXT\",\"imageUrl\":\"https://t1.daumcdn.net/news/202206/22/sportskhan/20220622154638892utvc.jpg\",\"source\":\"스포츠경향\",\"position\":0,\"meta\":{\"impressionId\":\"toros_cloud_alpha\",\"contentUniqueKey\":\"hamny-20220622154241849\",\"mediaName\":\"스포츠경향\",\"torosRanking\":9,\"torosScore\":0.0127972702,\"poolCode\":\"p_sports_auto_txt\",\"feedId\":11,\"feedName\":\"하모니\",\"clusterTitle\":\"\"}},{\"id\":\"hamny-20220622121735337\",\"title\":\"'꾸준한 불혹' 이대호, 기어이 타율 1위로..4할서 추락한 피렐라 추월\",\"label\":null,\"url\":\"https://v.daum.net/v/20220622121735337\",\"icon\":\"TEXT\",\"imageUrl\":\"https://t1.daumcdn.net/news/202206/22/NEWS1/20220622121736301faip.jpg\",\"source\":\"뉴스1\",\"position\":0,\"meta\":{\"impressionId\":\"toros_cloud_alpha\",\"contentUniqueKey\":\"hamny-20220622121735337\",\"mediaName\":\"뉴스1\",\"torosRanking\":10,\"torosScore\":0.0120599178,\"poolCode\":\"p_sports_auto_txt\",\"feedId\":11,\"feedName\":\"하모니\",\"clusterTitle\":\"\"}},{\"id\":\"hamny-20220622133740286\",\"title\":\"아스널이 다 차린 밥상, 토트넘이 엎어버린다\",\"label\":null,\"url\":\"https://v.daum.net/v/20220622133740286\",\"icon\":\"TEXT\",\"imageUrl\":\"https://t1.daumcdn.net/news/202206/22/SpoChosun/20220622133741004rgfu.jpg\",\"source\":\"스포츠조선\",\"position\":0,\"meta\":{\"impressionId\":\"toros_cloud_alpha\",\"contentUniqueKey\":\"hamny-20220622133740286\",\"mediaName\":\"스포츠조선\",\"torosRanking\":37,\"torosScore\":0.0098393193,\"poolCode\":\"p_sports_auto_txt\",\"feedId\":11,\"feedName\":\"하모니\",\"clusterTitle\":\"\"}},{\"id\":\"hamny-20220622161531382\",\"title\":\"수원 집단폭행 피해자 母 \\\"겁먹은 모습에 눈물만..합의 절대 없다\\\"\",\"label\":null,\"url\":\"https://v.daum.net/v/20220622161531382\",\"icon\":\"TEXT\",\"imageUrl\":\"https://t1.daumcdn.net/news/202206/22/xportsnews/20220622161533308mepk.jpg\",\"source\":\"엑스포츠뉴스\",\"position\":0,\"meta\":{\"impressionId\":\"toros_cloud_alpha\",\"contentUniqueKey\":\"hamny-20220622161531382\",\"mediaName\":\"엑스포츠뉴스\",\"torosRanking\":6,\"torosScore\":0.0146153898,\"poolCode\":\"p_sports_auto_txt\",\"feedId\":11,\"feedName\":\"하모니\",\"clusterTitle\":\"\"}},{\"id\":\"hamny-20220622161619413\",\"title\":\"\\\"이종범 선배 보는 듯..\\\" 박찬호에게서 '바람의 아들'의 향기를 느꼈다\",\"label\":null,\"url\":\"https://v.daum.net/v/20220622161619413\",\"icon\":\"TEXT\",\"imageUrl\":\"https://t1.daumcdn.net/news/202206/22/mydaily/20220622161619488tqvd.jpg\",\"source\":\"마이데일리\",\"position\":0,\"meta\":{\"impressionId\":\"toros_cloud_alpha\",\"contentUniqueKey\":\"hamny-20220622161619413\",\"mediaName\":\"마이데일리\",\"torosRanking\":11,\"torosScore\":0.0120284574,\"poolCode\":\"p_sports_auto_txt\",\"feedId\":11,\"feedName\":\"하모니\",\"clusterTitle\":\"\"}},{\"id\":\"hamny-20220622142844232\",\"title\":\"\\\"네이마르, 팝니다\\\" 새 단장 충격 결단! 이적시장 폭풍 부나\",\"label\":null,\"url\":\"https://v.daum.net/v/20220622142844232\",\"icon\":\"TEXT\",\"imageUrl\":\"https://t1.daumcdn.net/news/202206/22/SpoChosun/20220622144428425hhwl.jpg\",\"source\":\"스포츠조선\",\"position\":0,\"meta\":{\"impressionId\":\"toros_cloud_alpha\",\"contentUniqueKey\":\"hamny-20220622142844232\",\"mediaName\":\"스포츠조선\",\"torosRanking\":7,\"torosScore\":0.0137958443,\"poolCode\":\"p_sports_auto_txt\",\"feedId\":11,\"feedName\":\"하모니\",\"clusterTitle\":\"\"}},{\"id\":\"hamny-20220622155257373\",\"title\":\"'허재 농구단' 데이원, KBL 가입 승인 보류..24일 최종 결정\",\"label\":null,\"url\":\"https://v.daum.net/v/20220622155257373\",\"icon\":\"TEXT\",\"imageUrl\":\"https://t1.daumcdn.net/news/202206/22/kbs/20220622155301096klgg.jpg\",\"source\":\"KBS\",\"position\":0,\"meta\":{\"impressionId\":\"toros_cloud_alpha\",\"contentUniqueKey\":\"hamny-20220622155257373\",\"mediaName\":\"KBS\",\"torosRanking\":41,\"torosScore\":0.009471482,\"poolCode\":\"p_sports_auto_txt\",\"feedId\":11,\"feedName\":\"하모니\",\"clusterTitle\":\"\"}}]},\"cabinets\":null,\"board\":false},{\"code\":2378,\"type\":\"PC_MEDIA_MOVIE\",\"items\":{\"op\":{\"tab\":\"movie\",\"title\":\"영화\",\"url\":\"https://movie.daum.net/\"},\"left_thumbnail_op\":{\"imageUrl\":\"https://t1.daumcdn.net/section/oc/5ac72844323e4650accaf3b8c46cf4fb\",\"copy2\":\"기대평 남기고 예매권 받으러 가자!\",\"label\":\"무비위크\",\"copy1\":\"칸영화제 12분 기립박수 영화 <엘비스>\",\"thumbnailType\":\"A\",\"url\":\"https://movie.daum.net/movieweek/Elvis\",\"status\":\"off\"},\"footLinkLeft\":{\"foot1\":\"{\\\"title\\\":\\\"개봉예정작\\\",\\\"url\\\":\\\"https://movie.daum.net/premovie/theater?flag=C\\\",\\\"tiaraTag\\\":\\\"scheduled\\\"}\",\"foot0\":\"{\\\"title\\\":\\\"현재상영작\\\",\\\"url\\\":\\\"https://movie.daum.net/premovie/theater?flag=Y\\\",\\\"tiaraTag\\\":\\\"released\\\"}\",\"footer\":\"{\\\"title\\\":\\\"영화홈\\\",\\\"url\\\":\\\"https://movie.daum.net/main\\\"}\",\"status\":\"on\"},\"footLinkRight\":{\"foot1\":\"{\\\"title\\\":\\\"실시간예매율\\\",\\\"url\\\":\\\"https://search.daum.net/search?w=tot&q=%EC%98%81%ED%99%94%20%EC%8B%A4%EC%8B%9C%EA%B0%84%20%EC%98%88%EB%A7%A4%EC%9C%A8&DA=TMZ\\\",\\\"tiaraTag\\\":\\\"ticketing\\\"}\",\"foot0\":\"{\\\"title\\\":\\\"영화TV편성\\\",\\\"url\\\":\\\"https://search.daum.net/search?w=tot&q=%EC%98%81%ED%99%94%20tv%20%ED%8E%B8%EC%84%B1%ED%91%9C&DA=TMZ\\\",\\\"tiaraTag\\\":\\\"movietv\\\"}\",\"foot2\":\"{\\\"title\\\":\\\"\\\",\\\"url\\\":\\\"\\\",\\\"tiaraTag\\\":\\\"\\\"}\",\"status\":\"off\"},\"specialLink\":{\"displayType\":\"hashText\",\"title\":\"#안방에서 즐기는 최고의 코믹 액션 어드벤처\",\"url\":\"https://movie.v.daum.net/v/20211105120203430\",\"iconType\":\"EVENT\",\"status\":\"off\"}},\"feeds\":{},\"teslas\":{\"ptop_movie_txt_1\":[{\"id\":\"hamny-20220622145138409\",\"title\":\"한국형 괴담 '오귀택' 다룬 '뒤틀린 집', 하우스 호러 계보 잇는다\",\"label\":null,\"url\":\"https://movie.v.daum.net/v/20220622145138409\",\"icon\":\"TEXT\",\"imageUrl\":\"https://t1.daumcdn.net/news/202206/22/xportsnews/20220622145141538vpmb.jpg\",\"source\":\"엑스포츠뉴스\",\"position\":0,\"meta\":{\"impressionId\":\"tromm\",\"contentUniqueKey\":\"hamny-20220622145138409\",\"mediaName\":\"엑스포츠뉴스\",\"torosRanking\":0,\"torosScore\":0.0,\"poolCode\":\"ptop_movie_txt\",\"feedId\":11,\"feedName\":\"하모니\",\"clusterTitle\":\"\"}},{\"id\":\"hamny-20220622113222543\",\"title\":\"\\\"히어로·빌런·구원자 모두 여성\\\"..'마녀 2', 여성 액션물의 진화[D:영화 뷰]\",\"label\":null,\"url\":\"https://movie.v.daum.net/v/20220622113222543\",\"icon\":\"TEXT\",\"imageUrl\":\"https://t1.daumcdn.net/news/202206/22/dailian/20220622113225298zhcp.jpg\",\"source\":\"데일리안\",\"position\":0,\"meta\":{\"impressionId\":\"tromm\",\"contentUniqueKey\":\"hamny-20220622113222543\",\"mediaName\":\"데일리안\",\"torosRanking\":0,\"torosScore\":0.0,\"poolCode\":\"ptop_movie_txt\",\"feedId\":11,\"feedName\":\"하모니\",\"clusterTitle\":\"D:영화 뷰\"}},{\"id\":\"hamny-20220622111654675\",\"title\":\"\\\"나는 잘생겼다\\\"는 착각에 빠진 신현준 '핸썸', 7월 극장 개봉[공식]\",\"label\":null,\"url\":\"https://movie.v.daum.net/v/20220622111654675\",\"icon\":\"TEXT\",\"imageUrl\":\"https://t1.daumcdn.net/news/202206/22/poctan/20220622111656053erpg.jpg\",\"source\":\"OSEN\",\"position\":0,\"meta\":{\"impressionId\":\"tromm\",\"contentUniqueKey\":\"hamny-20220622111654675\",\"mediaName\":\"OSEN\",\"torosRanking\":0,\"torosScore\":0.0,\"poolCode\":\"ptop_movie_txt\",\"feedId\":11,\"feedName\":\"하모니\",\"clusterTitle\":\"\"}},{\"id\":\"brch-4RXQ-176\",\"title\":\"한국인에게 가장 재미없는 한국영화 <브로커>\",\"label\":null,\"url\":\"https://brunch.co.kr/@@4RXQ/176\",\"icon\":\"TEXT\",\"imageUrl\":\"http://t1.daumcdn.net/brunch/service/user/4RXQ/image/-uP8AmAtG1V84hgabdprEyOcrgA.jpg\",\"source\":\"구삼모델의 브런치\",\"position\":0,\"meta\":{\"impressionId\":\"tromm\",\"contentUniqueKey\":\"brch-4RXQ-176\",\"mediaName\":\"구삼모델의 브런치\",\"torosRanking\":0,\"torosScore\":0.0,\"poolCode\":\"ptop_movie_txt\",\"feedId\":1,\"feedName\":\"브런치\",\"clusterTitle\":\"\"}},{\"id\":\"brch-2ViD-725\",\"title\":\"돌아온 매버릭, <탑건>을 보면 더 깊게 빠져드는 이유\",\"label\":null,\"url\":\"https://brunch.co.kr/@@2ViD/725\",\"icon\":\"TEXT\",\"imageUrl\":\"http://t1.daumcdn.net/brunch/service/user/2ViD/image/VHAggmWrJCulQ4WPWkgxJ7Znbss.jpg\",\"source\":\"가려진 시간의 브런치\",\"position\":0,\"meta\":{\"impressionId\":\"tromm\",\"contentUniqueKey\":\"brch-2ViD-725\",\"mediaName\":\"가려진 시간의 브런치\",\"torosRanking\":0,\"torosScore\":0.0,\"poolCode\":\"ptop_movie_txt\",\"feedId\":1,\"feedName\":\"브런치\",\"clusterTitle\":\"\"}},{\"id\":\"hamny-20220622001725171\",\"title\":\"'태일이'·'각질' 안시 국제애니영화제 수상\",\"label\":null,\"url\":\"https://movie.v.daum.net/v/20220622001725171\",\"icon\":\"TEXT\",\"imageUrl\":\"https://t1.daumcdn.net/news/202206/22/akn/20220622001727031bvfm.jpg\",\"source\":\"아시아경제\",\"position\":0,\"meta\":{\"impressionId\":\"tromm\",\"contentUniqueKey\":\"hamny-20220622001725171\",\"mediaName\":\"아시아경제\",\"torosRanking\":0,\"torosScore\":0.0,\"poolCode\":\"ptop_movie_txt\",\"feedId\":11,\"feedName\":\"하모니\",\"clusterTitle\":\"\"}},{\"id\":\"hamny-20220621112405194\",\"title\":\"'고스트랜드' 니콜라스 케이지, 6월 극장가 마지막 주자\",\"label\":null,\"url\":\"https://movie.v.daum.net/v/20220621112405194\",\"icon\":\"TEXT\",\"imageUrl\":\"https://t1.daumcdn.net/news/202206/21/startoday/20220621112408562taed.png\",\"source\":\"스타투데이\",\"position\":0,\"meta\":{\"impressionId\":\"tromm\",\"contentUniqueKey\":\"hamny-20220621112405194\",\"mediaName\":\"스타투데이\",\"torosRanking\":0,\"torosScore\":0.0,\"poolCode\":\"ptop_movie_txt\",\"feedId\":11,\"feedName\":\"하모니\",\"clusterTitle\":\"\"}},{\"id\":\"hamny-20220621131947641\",\"title\":\"리암 니슨 \\\"지금껏 본 적 없는 안티히어로\\\" 변신, '메모리' 7월 13일 개봉\",\"label\":null,\"url\":\"https://movie.v.daum.net/v/20220621131947641\",\"icon\":\"TEXT\",\"imageUrl\":\"https://t1.daumcdn.net/news/202206/21/mydaily/20220621131947190sihx.jpg\",\"source\":\"마이데일리\",\"position\":0,\"meta\":{\"impressionId\":\"tromm\",\"contentUniqueKey\":\"hamny-20220621131947641\",\"mediaName\":\"마이데일리\",\"torosRanking\":0,\"torosScore\":0.0,\"poolCode\":\"ptop_movie_txt\",\"feedId\":11,\"feedName\":\"하모니\",\"clusterTitle\":\"\"}},{\"id\":\"hamny-20220622063033781\",\"title\":\"'브로커' 이동휘·'헤어질 결심' 김신영..특별출연도 명품!\",\"label\":null,\"url\":\"https://movie.v.daum.net/v/20220622063033781\",\"icon\":\"TEXT\",\"imageUrl\":\"https://t1.daumcdn.net/news/202206/22/sportsdonga/20220622063034945strq.jpg\",\"source\":\"스포츠동아\",\"position\":0,\"meta\":{\"impressionId\":\"tromm\",\"contentUniqueKey\":\"hamny-20220622063033781\",\"mediaName\":\"스포츠동아\",\"torosRanking\":0,\"torosScore\":0.0,\"poolCode\":\"ptop_movie_txt\",\"feedId\":11,\"feedName\":\"하모니\",\"clusterTitle\":\"\"}},{\"id\":\"hamny-20220622063301815\",\"title\":\"신시아 \\\"'카르멘' 보며 배우의 꿈.. 딱 맞더라고요\\\" [쿠키인터뷰]\",\"label\":null,\"url\":\"https://movie.v.daum.net/v/20220622063301815\",\"icon\":\"TEXT\",\"imageUrl\":\"https://t1.daumcdn.net/news/202206/22/kukinews/20220622063303175ouiy.jpg\",\"source\":\"쿠키뉴스\",\"position\":0,\"meta\":{\"impressionId\":\"tromm\",\"contentUniqueKey\":\"hamny-20220622063301815\",\"mediaName\":\"쿠키뉴스\",\"torosRanking\":0,\"torosScore\":0.0,\"poolCode\":\"ptop_movie_txt\",\"feedId\":11,\"feedName\":\"하모니\",\"clusterTitle\":\"\"}}],\"ptop_movie_img_1\":[{\"id\":\"hamny-20220622150439938\",\"title\":\"'탑건: 매버릭' 36년 만의 후속편, 다 이유가 있다[오영이]\",\"label\":null,\"url\":\"https://movie.v.daum.net/v/20220622150439938\",\"icon\":\"TEXT\",\"imageUrl\":\"https://t1.daumcdn.net/section/oc/805cc3600d9448888c672f8a3f8ac4b7\",\"source\":\"서울경제\",\"position\":0,\"meta\":{\"impressionId\":\"tromm\",\"contentUniqueKey\":\"hamny-20220622150439938\",\"mediaName\":\"서울경제\",\"torosRanking\":0,\"torosScore\":0.0,\"poolCode\":\"ptop_movie_img\",\"feedId\":11,\"feedName\":\"하모니\",\"clusterTitle\":\"\"}},{\"id\":\"hamny-EyhcXDDpBl\",\"title\":\"송강호가 진심 사랑한다고 밝힌 이 남자\",\"label\":null,\"url\":\"https://content.v.daum.net/v/EyhcXDDpBl\",\"icon\":\"IMAGE\",\"imageUrl\":\"https://t1.daumcdn.net/news/202206/22/feelthemovie/20220622025509472qa71.jpeg\",\"source\":\"필더무비\",\"position\":0,\"meta\":{\"impressionId\":\"tromm\",\"contentUniqueKey\":\"hamny-EyhcXDDpBl\",\"mediaName\":\"필더무비\",\"torosRanking\":0,\"torosScore\":0.0,\"poolCode\":\"ptop_movie_img\",\"feedId\":11,\"feedName\":\"하모니\",\"clusterTitle\":\"\"}},{\"id\":\"brch-1ibV-1032\",\"title\":\"액정-시점숏에 관해\",\"label\":null,\"url\":\"https://brunch.co.kr/@@1ibV/1032\",\"icon\":\"IMAGE\",\"imageUrl\":\"https://t1.daumcdn.net/section/oc/d3a52abff6c44f8aa6f0ecf3da226fd0\",\"source\":\"영화평론가 박동수의 브런치\",\"position\":0,\"meta\":{\"impressionId\":\"tromm\",\"contentUniqueKey\":\"brch-1ibV-1032\",\"mediaName\":\"영화평론가 박동수의 브런치\",\"torosRanking\":0,\"torosScore\":0.0,\"poolCode\":\"ptop_movie_img\",\"feedId\":1,\"feedName\":\"브런치\",\"clusterTitle\":\"\"}},{\"id\":\"brch-3drv-1196\",\"title\":\"덜 뭉친 떡밥을 물고기는 먹지 않는다.\",\"label\":null,\"url\":\"https://brunch.co.kr/@@3drv/1196\",\"icon\":\"IMAGE\",\"imageUrl\":\"https://t1.daumcdn.net/section/oc/ea48643f50d04f92867d87ac9c3c12e9\",\"source\":\"권씀의 브런치\",\"position\":0,\"meta\":{\"impressionId\":\"tromm\",\"contentUniqueKey\":\"brch-3drv-1196\",\"mediaName\":\"권씀의 브런치\",\"torosRanking\":0,\"torosScore\":0.0,\"poolCode\":\"ptop_movie_img\",\"feedId\":1,\"feedName\":\"브런치\",\"clusterTitle\":\"\"}},{\"id\":\"tv-337443797\",\"title\":\"뽀로로와 친구들의 판타지 액션 어드벤처! '뽀로로 극장판 드래곤캐슬 대모험' 메인 예고편\",\"label\":null,\"url\":\"https://newslink.media.daum.net/v/429784858\",\"icon\":\"VIDEO\",\"imageUrl\":\"https://t1.daumcdn.net/section/oc/f7f20d67fe384165b685163a3a11293b\",\"source\":\"우리 영화 볼래?\",\"position\":0,\"meta\":{\"impressionId\":\"tromm\",\"contentUniqueKey\":\"tv-337443797\",\"mediaName\":\"우리 영화 볼래?\",\"torosRanking\":0,\"torosScore\":0.0,\"poolCode\":\"ptop_movie_img\",\"feedId\":22,\"feedName\":\"카카오TV\",\"clusterTitle\":\"\"}},{\"id\":\"hamny-EyD0DGQ8s4\",\"title\":\"한국 지방 도시까지 내려와 명예시민이 된 월드 스타\",\"label\":null,\"url\":\"https://content.v.daum.net/v/EyD0DGQ8s4\",\"icon\":\"IMAGE\",\"imageUrl\":\"https://t1.daumcdn.net/news/202206/22/feelthemovie/20220622010916386psbc.jpeg\",\"source\":\"필더무비\",\"position\":0,\"meta\":{\"impressionId\":\"tromm\",\"contentUniqueKey\":\"hamny-EyD0DGQ8s4\",\"mediaName\":\"필더무비\",\"torosRanking\":0,\"torosScore\":0.0,\"poolCode\":\"ptop_movie_img\",\"feedId\":11,\"feedName\":\"하모니\",\"clusterTitle\":\"\"}},{\"id\":\"hamny-20220622073009594\",\"title\":\"톰 크루즈, 환갑에 찍은 커리어 하이..반전 없이 감격 '탑건:매버릭'[개봉작 리뷰]\",\"label\":null,\"url\":\"https://movie.v.daum.net/v/20220622073009594\",\"icon\":\"TEXT\",\"imageUrl\":\"https://t1.daumcdn.net/section/oc/8e3df884f45449d79c2886ed34ba0efb\",\"source\":\"뉴스엔\",\"position\":0,\"meta\":{\"impressionId\":\"tromm\",\"contentUniqueKey\":\"hamny-20220622073009594\",\"mediaName\":\"뉴스엔\",\"torosRanking\":0,\"torosScore\":0.0,\"poolCode\":\"ptop_movie_img\",\"feedId\":11,\"feedName\":\"하모니\",\"clusterTitle\":\"\"}},{\"id\":\"hamny-20220622131417619\",\"title\":\"'헤어질 결심' 이정현·박용우·고경표·김신영·박정민, 보는 재미↑ [Oh!쎈 예고]\",\"label\":null,\"url\":\"https://movie.v.daum.net/v/20220622131417619\",\"icon\":\"TEXT\",\"imageUrl\":\"https://t1.daumcdn.net/section/oc/c0fa240b5f5e45628b915cf71a678c95\",\"source\":\"OSEN\",\"position\":0,\"meta\":{\"impressionId\":\"tromm\",\"contentUniqueKey\":\"hamny-20220622131417619\",\"mediaName\":\"OSEN\",\"torosRanking\":0,\"torosScore\":0.0,\"poolCode\":\"ptop_movie_img\",\"feedId\":11,\"feedName\":\"하모니\",\"clusterTitle\":\"\"}}]},\"cabinets\":null,\"board\":false},{\"code\":2379,\"type\":\"PC_MEDIA_AUTO\",\"items\":{\"op\":{\"tab\":\"auto\",\"title\":\"자동차\",\"url\":\"https://auto.daum.net/\"},\"left_thumbnail_op\":{\"imageUrl\":\"https://t1.daumcdn.net/section/oc/5e8c099aa7af4916b4e689d2a9626e9b\",\"copy2\":\"\",\"label\":\"라라클래식 12월호\",\"copy1\":\"토요타 랠리 도전의 상징, 셀리카\",\"thumbnailType\":\"TESLA\",\"url\":\"https://auto.daum.net/cover/lalaclassic/5267494\",\"status\":\"on\"},\"footLinkLeft\":{\"foot1\":\"{\\\"title\\\":\\\"동영상\\\",\\\"url\\\":\\\"https://auto.daum.net/vod\\\",\\\"tiaraTag\\\":\\\"movies\\\"}\",\"foot0\":\"{\\\"title\\\":\\\"시승기\\\",\\\"url\\\":\\\"https://auto.daum.net/news/review\\\",\\\"tiaraTag\\\":\\\"review\\\"}\",\"foot3\":\"{\\\"title\\\":\\\"\\\",\\\"url\\\":\\\"\\\",\\\"tiaraTag\\\":\\\"\\\"}\",\"footer\":\"{\\\"title\\\":\\\"자동차홈\\\",\\\"url\\\":\\\"https://auto.daum.net/\\\"}\",\"foot2\":\"{\\\"title\\\":\\\"신차\\\",\\\"url\\\":\\\"https://auto.daum.net/newcar\\\",\\\"tiaraTag\\\":\\\"newcar\\\"}\",\"status\":\"on\"},\"footLinkRight\":{\"foot1\":\"{\\\"title\\\":\\\"자동차세\\\",\\\"url\\\":\\\"https://search.daum.net/search?w=tot&q=%EC%9E%90%EB%8F%99%EC%B0%A8%EC%84%B8&DA=TMZ\\\",\\\"tiaraTag\\\":\\\"cartax\\\"}\",\"foot0\":\"{\\\"title\\\":\\\"자동차365\\\",\\\"url\\\":\\\"https://search.daum.net/search?w=tot&q=%EC%9E%90%EB%8F%99%EC%B0%A8365&DA=TMZ\\\",\\\"tiaraTag\\\":\\\"car365\\\"}\",\"foot2\":\"{\\\"title\\\":\\\"자동차검사예약\\\",\\\"url\\\":\\\"https://search.daum.net/search?w=tot&q=%EC%9E%90%EB%8F%99%EC%B0%A8%EA%B2%80%EC%82%AC%20%EC%98%88%EC%95%BD&DA=TMZ\\\",\\\"tiaraTag\\\":\\\"inspection\\\"}\",\"status\":\"on\"},\"specialLink\":{\"displayType\":\"specialLink\",\"title\":\"'자동차톡' 채널 추가하기\",\"url\":\"http://pf.kakao.com/_xbLYxbu\",\"iconType\":\"HOT\",\"status\":\"off\"}},\"feeds\":{},\"teslas\":{\"ptop_car_img_1\":[{\"id\":\"hamny-EjIthdjMPD\",\"title\":\"푸조 408 공개, 잘생기고 매력적인 패스트백 스타일\",\"label\":null,\"url\":\"https://auto.v.daum.net/v/EjIthdjMPD\",\"icon\":\"TEXT\",\"imageUrl\":\"https://t1.daumcdn.net/news/202206/22/TOP-RIDER/20220622155002049fwvy.jpg\",\"source\":\"탑라이더\",\"position\":0,\"meta\":{\"impressionId\":\"tromm\",\"contentUniqueKey\":\"hamny-EjIthdjMPD\",\"mediaName\":\"탑라이더\",\"torosRanking\":0,\"torosScore\":0.0,\"poolCode\":\"ptop_car_img\",\"feedId\":11,\"feedName\":\"하모니\",\"clusterTitle\":\"\"}},{\"id\":\"tv-337457985\",\"title\":\"\\\"여보, 2300만원 있는데..\\\" 빚내서 아반떼 vs 아껴서 캐스퍼 ll 본격 세단&라임 부부 시승기\",\"label\":null,\"url\":\"https://newslink.media.daum.net/v/429810137\",\"icon\":\"VIDEO\",\"imageUrl\":\"http://img1.kakaocdn.net/kakaotv/KAKAOACCOUNT/503499777/thumb/20220622135552\",\"source\":\"모터그래프\",\"position\":0,\"meta\":{\"impressionId\":\"tromm\",\"contentUniqueKey\":\"tv-337457985\",\"mediaName\":\"모터그래프\",\"torosRanking\":0,\"torosScore\":0.0,\"poolCode\":\"ptop_car_img\",\"feedId\":22,\"feedName\":\"카카오TV\",\"clusterTitle\":\"\"}},{\"id\":\"hamny-EGn0Beq15q\",\"title\":\"'앞은 밴 뒤는 보트' 신기한 보터홈 등장\",\"label\":null,\"url\":\"https://auto.v.daum.net/v/EGn0Beq15q\",\"icon\":\"TEXT\",\"imageUrl\":\"https://t1.daumcdn.net/news/202206/22/thedrive/20220622050837613woga.jpeg\",\"source\":\"더드라이브\",\"position\":0,\"meta\":{\"impressionId\":\"tromm\",\"contentUniqueKey\":\"hamny-EGn0Beq15q\",\"mediaName\":\"더드라이브\",\"torosRanking\":0,\"torosScore\":0.0,\"poolCode\":\"ptop_car_img\",\"feedId\":11,\"feedName\":\"하모니\",\"clusterTitle\":\"\"}},{\"id\":\"hamny-E0abCFNVrv\",\"title\":\"도로 위 아찔한 구멍들, 포트홀이 발생되는 이유는?\",\"label\":null,\"url\":\"https://content.v.daum.net/v/E0abCFNVrv\",\"icon\":\"IMAGE\",\"imageUrl\":\"https://t1.daumcdn.net/news/202206/22/pickplus/20220622140558784dceu.jpg\",\"source\":\"픽플러스\",\"position\":0,\"meta\":{\"impressionId\":\"tromm\",\"contentUniqueKey\":\"hamny-E0abCFNVrv\",\"mediaName\":\"픽플러스\",\"torosRanking\":0,\"torosScore\":0.0,\"poolCode\":\"ptop_car_img\",\"feedId\":11,\"feedName\":\"하모니\",\"clusterTitle\":\"\"}},{\"id\":\"hamny-EnEcnhAOSi\",\"title\":\"개성있는 스타일의 클래식 스쿠터, 빅토리아 모토라드 니키\",\"label\":null,\"url\":\"https://auto.v.daum.net/v/EnEcnhAOSi\",\"icon\":\"TEXT\",\"imageUrl\":\"https://t1.daumcdn.net/news/202206/22/RideMagazine/20220622135516887luid.jpg\",\"source\":\"라이드매거진\",\"position\":0,\"meta\":{\"impressionId\":\"tromm\",\"contentUniqueKey\":\"hamny-EnEcnhAOSi\",\"mediaName\":\"라이드매거진\",\"torosRanking\":0,\"torosScore\":0.0,\"poolCode\":\"ptop_car_img\",\"feedId\":11,\"feedName\":\"하모니\",\"clusterTitle\":\"\"}},{\"id\":\"hamny-20220622125302186\",\"title\":\"든든한 친구, 랜드로버 이보크 P250[시승]\",\"label\":null,\"url\":\"https://auto.v.daum.net/v/20220622125302186\",\"icon\":\"TEXT\",\"imageUrl\":\"https://t1.daumcdn.net/news/202206/22/autotimes/20220622125304253hckf.jpg\",\"source\":\"오토타임즈\",\"position\":0,\"meta\":{\"impressionId\":\"tromm\",\"contentUniqueKey\":\"hamny-20220622125302186\",\"mediaName\":\"오토타임즈\",\"torosRanking\":0,\"torosScore\":0.0,\"poolCode\":\"ptop_car_img\",\"feedId\":11,\"feedName\":\"하모니\",\"clusterTitle\":\"시승\"}},{\"id\":\"hamny-EwM7xUSqZg\",\"title\":\"'프리미엄 픽업트럭의 전설' GMC 시에라 국내 상륙!\",\"label\":null,\"url\":\"https://auto.v.daum.net/v/EwM7xUSqZg\",\"icon\":\"TEXT\",\"imageUrl\":\"https://t1.daumcdn.net/news/202206/22/thedrive/20220622044541822tqpl.jpeg\",\"source\":\"더드라이브\",\"position\":0,\"meta\":{\"impressionId\":\"tromm\",\"contentUniqueKey\":\"hamny-EwM7xUSqZg\",\"mediaName\":\"더드라이브\",\"torosRanking\":0,\"torosScore\":0.0,\"poolCode\":\"ptop_car_img\",\"feedId\":11,\"feedName\":\"하모니\",\"clusterTitle\":\"\"}},{\"id\":\"tv-337456801\",\"title\":\"렉서스 NX 450h+ \\\"모터와 엔진의 환상 콜라보...스포츠 모드 해 봤나?\\\"\",\"label\":null,\"url\":\"https://newslink.media.daum.net/v/429808042\",\"icon\":\"VIDEO\",\"imageUrl\":\"http://img1.kakaocdn.net/kakaotv/KAKAOACCOUNT/2065658400/thumb/20220622120259\",\"source\":\"오토헤럴드 TV\",\"position\":0,\"meta\":{\"impressionId\":\"tromm\",\"contentUniqueKey\":\"tv-337456801\",\"mediaName\":\"오토헤럴드 TV\",\"torosRanking\":0,\"torosScore\":0.0,\"poolCode\":\"ptop_car_img\",\"feedId\":22,\"feedName\":\"카카오TV\",\"clusterTitle\":\"\"}}],\"ptop_car_txt_1\":[{\"id\":\"hamny-20220622161707439\",\"title\":\"렉서스 NX 타면 안다..하이브리드 여전한 이유\",\"label\":null,\"url\":\"https://v.daum.net/v/20220622161707439\",\"icon\":\"TEXT\",\"imageUrl\":\"https://t1.daumcdn.net/news/202206/22/BUSINESSWATCH/20220622161709997vnpp.jpg\",\"source\":\"비즈니스워치\",\"position\":0,\"meta\":{\"impressionId\":\"tromm\",\"contentUniqueKey\":\"hamny-20220622161707439\",\"mediaName\":\"비즈니스워치\",\"torosRanking\":0,\"torosScore\":0.0,\"poolCode\":\"ptop_car_txt\",\"feedId\":11,\"feedName\":\"하모니\",\"clusterTitle\":\"차알못 시승기\"}},{\"id\":\"hamny-EyD44xg8Tv\",\"title\":\"새로운 디자인의 패스트백, 푸조 뉴 408 공개\",\"label\":null,\"url\":\"https://auto.v.daum.net/v/EyD44xg8Tv\",\"icon\":\"TEXT\",\"imageUrl\":\"https://t1.daumcdn.net/news/202206/22/MOTORTREND/20220622161314632uutv.jpg\",\"source\":\"모터트렌드\",\"position\":0,\"meta\":{\"impressionId\":\"tromm\",\"contentUniqueKey\":\"hamny-EyD44xg8Tv\",\"mediaName\":\"모터트렌드\",\"torosRanking\":0,\"torosScore\":0.0,\"poolCode\":\"ptop_car_txt\",\"feedId\":11,\"feedName\":\"하모니\",\"clusterTitle\":\"모터트렌드 기사\"}},{\"id\":\"hamny-ERGkTMHyb0\",\"title\":\"한국지엠, 수출과 멀티브랜드 전략으로 손익분기 넘는다\",\"label\":null,\"url\":\"https://auto.v.daum.net/v/ERGkTMHyb0\",\"icon\":\"TEXT\",\"imageUrl\":\"https://t1.daumcdn.net/news/202206/22/TOP-RIDER/20220622154700625wclh.jpg\",\"source\":\"탑라이더\",\"position\":0,\"meta\":{\"impressionId\":\"tromm\",\"contentUniqueKey\":\"hamny-ERGkTMHyb0\",\"mediaName\":\"탑라이더\",\"torosRanking\":0,\"torosScore\":0.0,\"poolCode\":\"ptop_car_txt\",\"feedId\":11,\"feedName\":\"하모니\",\"clusterTitle\":\"\"}},{\"id\":\"hamny-ExWLUDIggI\",\"title\":\"GM코리아 로베르토 렘펠사장, \\\"멀티브랜드 전략. 수출 투트랙으로 경영정상화\\\"\",\"label\":null,\"url\":\"https://auto.v.daum.net/v/ExWLUDIggI\",\"icon\":\"TEXT\",\"imageUrl\":\"https://t1.daumcdn.net/news/202206/22/autodaily/20220622151323945nyyv.jpg\",\"source\":\"M투데이\",\"position\":0,\"meta\":{\"impressionId\":\"tromm\",\"contentUniqueKey\":\"hamny-ExWLUDIggI\",\"mediaName\":\"M투데이\",\"torosRanking\":0,\"torosScore\":0.0,\"poolCode\":\"ptop_car_txt\",\"feedId\":11,\"feedName\":\"하모니\",\"clusterTitle\":\"\"}},{\"id\":\"hamny-EpCkukQiaK\",\"title\":\"초절정 인기 1억원대 GMC 허머 EV..8백만원 인상\",\"label\":null,\"url\":\"https://auto.v.daum.net/v/EpCkukQiaK\",\"icon\":\"TEXT\",\"imageUrl\":\"https://t1.daumcdn.net/news/202206/22/carguy/20220622150351811wnpg.jpg\",\"source\":\"카가이\",\"position\":0,\"meta\":{\"impressionId\":\"tromm\",\"contentUniqueKey\":\"hamny-EpCkukQiaK\",\"mediaName\":\"카가이\",\"torosRanking\":0,\"torosScore\":0.0,\"poolCode\":\"ptop_car_txt\",\"feedId\":11,\"feedName\":\"하모니\",\"clusterTitle\":\"\"}},{\"id\":\"hamny-EgDSOl0McH\",\"title\":\"르노그룹, 민트그룹과 전기차용 배터리 케이스 생산한다\",\"label\":null,\"url\":\"https://auto.v.daum.net/v/EgDSOl0McH\",\"icon\":\"TEXT\",\"imageUrl\":\"https://t1.daumcdn.net/news/202206/22/GlobalAutoNews/20220622150008446hejw.jpg\",\"source\":\"글로벌오토뉴스\",\"position\":0,\"meta\":{\"impressionId\":\"tromm\",\"contentUniqueKey\":\"hamny-EgDSOl0McH\",\"mediaName\":\"글로벌오토뉴스\",\"torosRanking\":0,\"torosScore\":0.0,\"poolCode\":\"ptop_car_txt\",\"feedId\":11,\"feedName\":\"하모니\",\"clusterTitle\":\"\"}},{\"id\":\"hamny-Evm8WTjdvT\",\"title\":\"EU, 2035년부터 신규 내연기관차 금지..\\\"독일은 반대\\\"\",\"label\":null,\"url\":\"https://auto.v.daum.net/v/Evm8WTjdvT\",\"icon\":\"TEXT\",\"imageUrl\":\"https://t1.daumcdn.net/news/202206/22/GPKOREA/20220622144819301srav.jpg\",\"source\":\"지피코리아\",\"position\":0,\"meta\":{\"impressionId\":\"tromm\",\"contentUniqueKey\":\"hamny-Evm8WTjdvT\",\"mediaName\":\"지피코리아\",\"torosRanking\":0,\"torosScore\":0.0,\"poolCode\":\"ptop_car_txt\",\"feedId\":11,\"feedName\":\"하모니\",\"clusterTitle\":\"\"}},{\"id\":\"hamny-20220622144715169\",\"title\":\"'사전계약 첫날 1.2만대' 출발 좋은 쌍용차 '토레스'..하반기 경쟁 SUV는?\",\"label\":null,\"url\":\"https://auto.v.daum.net/v/20220622144715169\",\"icon\":\"TEXT\",\"imageUrl\":\"https://t1.daumcdn.net/news/202206/22/NEWS1/20220622144716291orzd.jpg\",\"source\":\"뉴스1\",\"position\":0,\"meta\":{\"impressionId\":\"tromm\",\"contentUniqueKey\":\"hamny-20220622144715169\",\"mediaName\":\"뉴스1\",\"torosRanking\":0,\"torosScore\":0.0,\"poolCode\":\"ptop_car_txt\",\"feedId\":11,\"feedName\":\"하모니\",\"clusterTitle\":\"\"}},{\"id\":\"hamny-ESOewY3fsG\",\"title\":\"마일리지 히어로, 프리우스를 찾아라\",\"label\":null,\"url\":\"https://auto.v.daum.net/v/ESOewY3fsG\",\"icon\":\"TEXT\",\"imageUrl\":\"https://t1.daumcdn.net/news/202206/22/AUTOCARKOREA/20220622143425424vvwj.jpg\",\"source\":\"오토카코리아\",\"position\":0,\"meta\":{\"impressionId\":\"tromm\",\"contentUniqueKey\":\"hamny-ESOewY3fsG\",\"mediaName\":\"오토카코리아\",\"torosRanking\":0,\"torosScore\":0.0,\"poolCode\":\"ptop_car_txt\",\"feedId\":11,\"feedName\":\"하모니\",\"clusterTitle\":\"\"}},{\"id\":\"hamny-EL9yqYMIPr\",\"title\":\"환경부 국유지 최초, 하이넷 환경산업연구단지 수소충전소 준공\",\"label\":null,\"url\":\"https://auto.v.daum.net/v/EL9yqYMIPr\",\"icon\":\"TEXT\",\"imageUrl\":\"https://t1.daumcdn.net/news/202206/22/GlobalAutoNews/20220622143016796jnee.jpg\",\"source\":\"글로벌오토뉴스\",\"position\":0,\"meta\":{\"impressionId\":\"tromm\",\"contentUniqueKey\":\"hamny-EL9yqYMIPr\",\"mediaName\":\"글로벌오토뉴스\",\"torosRanking\":0,\"torosScore\":0.0,\"poolCode\":\"ptop_car_txt\",\"feedId\":11,\"feedName\":\"하모니\",\"clusterTitle\":\"\"}}]},\"cabinets\":null,\"board\":false},{\"code\":2380,\"type\":\"PC_MEDIA_REAL_ESTATE\",\"items\":{\"op\":{\"tab\":\"realestate\",\"title\":\"부동산\",\"url\":\"https://realty.daum.net/\"},\"footLinkLeft\":{\"foot1\":\"{\\\"title\\\":\\\"분양\\\",\\\"url\\\":\\\"https://realty.daum.net/home/apt/map/offer\\\",\\\"tiaraTag\\\":\\\"bunyang\\\"}\",\"foot0\":\"{\\\"title\\\":\\\"주거\\\",\\\"url\\\":\\\"https://realty.daum.net/home/apt/map\\\",\\\"tiaraTag\\\":\\\"map\\\"}\",\"foot3\":\"{\\\"title\\\":\\\"뉴스\\\",\\\"url\\\":\\\"https://realestate.daum.net/news\\\",\\\"tiaraTag\\\":\\\"news\\\"}\",\"footer\":\"{\\\"title\\\":\\\"부동산홈\\\",\\\"url\\\":\\\"https://realty.daum.net/\\\"}\",\"foot2\":\"{\\\"title\\\":\\\"인테리어\\\",\\\"url\\\":\\\"https://interior.realestate.daum.net/\\\",\\\"tiaraTag\\\":\\\"interior\\\"}\",\"foot4\":\"{\\\"title\\\":\\\"커뮤니티\\\",\\\"url\\\":\\\"https://realestate.daum.net/community\\\",\\\"tiaraTag\\\":\\\"community\\\"}\",\"status\":\"on\"},\"footLinkRight\":{\"foot1\":\"{\\\"title\\\":\\\"대출이자계산기\\\",\\\"url\\\":\\\"https://search.daum.net/search?w=tot&q=%EB%8C%80%EC%B6%9C%EC%9D%B4%EC%9E%90%EA%B3%84%EC%82%B0%EA%B8%B0&DA=TMZ\\\",\\\"tiaraTag\\\":\\\"loan\\\"}\",\"foot0\":\"{\\\"title\\\":\\\"아파트실거래가조회\\\",\\\"url\\\":\\\"https://search.daum.net/search?w=tot&q=%EC%95%84%ED%8C%8C%ED%8A%B8%20%EC%8B%A4%EA%B1%B0%EB%9E%98%EA%B0%80%20%EC%A1%B0%ED%9A%8C&DA=TMZ\\\",\\\"tiaraTag\\\":\\\"price\\\"}\",\"foot2\":\"{\\\"title\\\":\\\"\\\",\\\"url\\\":\\\"\\\",\\\"tiaraTag\\\":\\\"\\\"}\",\"status\":\"on\"}},\"feeds\":{\"pc_media_real_estate_operate\":\"{\\\"url\\\":\\\"http://interior.realestate.daum.net/asp/story/View.do?&mngIdx=1583\\\",\\\"title\\\":\\\"TV 없애고 평상홈카페를 들인 35평반포자이\\\",\\\"imageUrl\\\":\\\"https://t1.daumcdn.net/thumb/C308x188/?fname=https%3A%2F%2Ft1.daumcdn.net%2Festate%2Fadministration%2Fd959afc5624f2b9c62dfbd05dbfc4c1669f29968\\\",\\\"icon\\\":\\\"IMAGE\\\"}\"},\"teslas\":{\"ptop_realestate_img_1\":[{\"id\":\"hamny-E8VQ5rEp6C\",\"title\":\"좁은 방, '이것'을 만들어 공간 분리 했더니.. 작업실이 생겼다!!\",\"label\":null,\"url\":\"https://content.v.daum.net/v/E8VQ5rEp6C\",\"icon\":\"IMAGE\",\"imageUrl\":\"https://t1.daumcdn.net/news/202206/22/ohouse/20220622004812290kztb.png\",\"source\":\"오늘의집\",\"position\":0,\"meta\":{\"impressionId\":\"tromm\",\"contentUniqueKey\":\"hamny-E8VQ5rEp6C\",\"mediaName\":\"오늘의집\",\"torosRanking\":0,\"torosScore\":0.0,\"poolCode\":\"ptop_realestate_img\",\"feedId\":11,\"feedName\":\"하모니\",\"clusterTitle\":\"\"}},{\"id\":\"hamny-20220622151016209\",\"title\":\"전세 끼고 산 주택, '5%룰' 지켜도 상생임대인 아니다\",\"label\":null,\"url\":\"http://realestate.daum.net/news/detail/all/20220622151016209\",\"icon\":\"TEXT\",\"imageUrl\":\"https://t1.daumcdn.net/news/202206/22/moneytoday/20220622151017439gqvy.jpg\",\"source\":\"머니투데이\",\"position\":0,\"meta\":{\"impressionId\":\"tromm\",\"contentUniqueKey\":\"hamny-20220622151016209\",\"mediaName\":\"머니투데이\",\"torosRanking\":0,\"torosScore\":0.0,\"poolCode\":\"ptop_realestate_img\",\"feedId\":11,\"feedName\":\"하모니\",\"clusterTitle\":\"\"}},{\"id\":\"hamny-E9KlU7s8F1\",\"title\":\"멀리 휴가 갈 필요 없어요! 도심 속 복층 테라스에 둘만의 '피서지'를 꾸민 신혼집\",\"label\":null,\"url\":\"https://content.v.daum.net/v/E9KlU7s8F1\",\"icon\":\"IMAGE\",\"imageUrl\":\"https://t1.daumcdn.net/news/202206/22/ggumigi/20220622140018364yjku.jpg\",\"source\":\"집꾸미기\",\"position\":0,\"meta\":{\"impressionId\":\"tromm\",\"contentUniqueKey\":\"hamny-E9KlU7s8F1\",\"mediaName\":\"집꾸미기\",\"torosRanking\":0,\"torosScore\":0.0,\"poolCode\":\"ptop_realestate_img\",\"feedId\":11,\"feedName\":\"하모니\",\"clusterTitle\":\"\"}},{\"id\":\"hamny-EHBetOZSF1\",\"title\":\"층간소음 사각지대 441만호의 눈물\",\"label\":null,\"url\":\"https://content.v.daum.net/v/EHBetOZSF1\",\"icon\":\"IMAGE\",\"imageUrl\":\"https://t1.daumcdn.net/news/202206/21/thescoop/20220621034254977xrn0.jpeg\",\"source\":\"더스쿠프\",\"position\":0,\"meta\":{\"impressionId\":\"tromm\",\"contentUniqueKey\":\"hamny-EHBetOZSF1\",\"mediaName\":\"더스쿠프\",\"torosRanking\":0,\"torosScore\":0.0,\"poolCode\":\"ptop_realestate_img\",\"feedId\":11,\"feedName\":\"하모니\",\"clusterTitle\":\"\"}},{\"id\":\"hamny-20220622105114192\",\"title\":\"분양가 상한제 개편안 '반쪽짜리' 평가..\\\"공급 확대 글쎄\\\"\",\"label\":null,\"url\":\"http://realestate.daum.net/news/detail/all/20220622105114192\",\"icon\":\"TEXT\",\"imageUrl\":\"https://t1.daumcdn.net/news/202206/22/THEFACT/20220622105115148bdop.jpg\",\"source\":\"더팩트\",\"position\":0,\"meta\":{\"impressionId\":\"tromm\",\"contentUniqueKey\":\"hamny-20220622105114192\",\"mediaName\":\"더팩트\",\"torosRanking\":0,\"torosScore\":0.0,\"poolCode\":\"ptop_realestate_img\",\"feedId\":11,\"feedName\":\"하모니\",\"clusterTitle\":\"\"}},{\"id\":\"hamny-ETRvpXtAzW\",\"title\":\"'이것' 덕분에.. 운좋게 들어간 'LH 임대주택', 이렇게 살아요\",\"label\":null,\"url\":\"https://content.v.daum.net/v/ETRvpXtAzW\",\"icon\":\"IMAGE\",\"imageUrl\":\"https://t1.daumcdn.net/news/202206/22/harmony/20220622000253203utoo.png\",\"source\":\"오늘의집\",\"position\":0,\"meta\":{\"impressionId\":\"tromm\",\"contentUniqueKey\":\"hamny-ETRvpXtAzW\",\"mediaName\":\"오늘의집\",\"torosRanking\":0,\"torosScore\":0.0,\"poolCode\":\"ptop_realestate_img\",\"feedId\":11,\"feedName\":\"하모니\",\"clusterTitle\":\"\"}},{\"id\":\"hamny-EWfaZqwlcG\",\"title\":\"수익형 부동산 옥석가리기 시작됐다.. 안정성+미래가치 따져야\",\"label\":null,\"url\":\"https://content.v.daum.net/v/EWfaZqwlcG\",\"icon\":\"IMAGE\",\"imageUrl\":\"https://t1.daumcdn.net/news/202206/21/realcast/20220621072744888kv8q.jpeg\",\"source\":\"리얼캐스트\",\"position\":0,\"meta\":{\"impressionId\":\"tromm\",\"contentUniqueKey\":\"hamny-EWfaZqwlcG\",\"mediaName\":\"리얼캐스트\",\"torosRanking\":0,\"torosScore\":0.0,\"poolCode\":\"ptop_realestate_img\",\"feedId\":11,\"feedName\":\"하모니\",\"clusterTitle\":\"\"}}],\"ptop_realestate_txt_1\":[{\"id\":\"hamny-20220622160128789\",\"title\":\"중도금 대출 막아놓고 분양가 올린다고?.. 청약대기자들 '한숨'\",\"label\":null,\"url\":\"http://realestate.daum.net/news/detail/all/20220622160128789\",\"icon\":\"TEXT\",\"imageUrl\":\"https://t1.daumcdn.net/news/202206/22/chosunbiz/20220622160130201rsez.jpg\",\"source\":\"조선비즈\",\"position\":0,\"meta\":{\"impressionId\":\"tromm\",\"contentUniqueKey\":\"hamny-20220622160128789\",\"mediaName\":\"조선비즈\",\"torosRanking\":0,\"torosScore\":0.0,\"poolCode\":\"ptop_realestate_txt\",\"feedId\":11,\"feedName\":\"하모니\",\"clusterTitle\":\"\"}},{\"id\":\"hamny-20220622154506990\",\"title\":\"둔촌주공 25평형 분양가 8억8750만원→9억75만원..중도금 대출 막힐 수도\",\"label\":null,\"url\":\"http://realestate.daum.net/news/detail/all/20220622154506990\",\"icon\":\"TEXT\",\"imageUrl\":\"https://t1.daumcdn.net/news/202206/22/mk/20220622154508128aceh.jpg\",\"source\":\"매일경제\",\"position\":0,\"meta\":{\"impressionId\":\"tromm\",\"contentUniqueKey\":\"hamny-20220622154506990\",\"mediaName\":\"매일경제\",\"torosRanking\":0,\"torosScore\":0.0,\"poolCode\":\"ptop_realestate_txt\",\"feedId\":11,\"feedName\":\"하모니\",\"clusterTitle\":\"\"}},{\"id\":\"hamny-20220622153837616\",\"title\":\"\\\"엄연한 독립기관인데\\\"..건협회장, 공제조합 경영간섭 논란\",\"label\":null,\"url\":\"http://realestate.daum.net/news/detail/all/20220622153837616\",\"icon\":\"TEXT\",\"imageUrl\":\"https://t1.daumcdn.net/news/202206/22/Edaily/20220622153839805uffr.jpg\",\"source\":\"이데일리\",\"position\":0,\"meta\":{\"impressionId\":\"tromm\",\"contentUniqueKey\":\"hamny-20220622153837616\",\"mediaName\":\"이데일리\",\"torosRanking\":0,\"torosScore\":0.0,\"poolCode\":\"ptop_realestate_txt\",\"feedId\":11,\"feedName\":\"하모니\",\"clusterTitle\":\"\"}},{\"id\":\"hamny-20220622153126231\",\"title\":\"실거주 완화에 갭투자 다시 고개드나\",\"label\":null,\"url\":\"http://realestate.daum.net/news/detail/all/20220622153126231\",\"icon\":\"TEXT\",\"imageUrl\":\"https://t1.daumcdn.net/news/202206/22/akn/20220622153127772hlik.jpg\",\"source\":\"아시아경제\",\"position\":0,\"meta\":{\"impressionId\":\"tromm\",\"contentUniqueKey\":\"hamny-20220622153126231\",\"mediaName\":\"아시아경제\",\"torosRanking\":0,\"torosScore\":0.0,\"poolCode\":\"ptop_realestate_txt\",\"feedId\":11,\"feedName\":\"하모니\",\"clusterTitle\":\"\"}},{\"id\":\"hamny-20220622150900127\",\"title\":\"\\\"8월 전세난 한시름 놓았다\\\"..금리 물가 시장불안요인은 여전\",\"label\":null,\"url\":\"http://realestate.daum.net/news/detail/all/20220622150900127\",\"icon\":\"TEXT\",\"imageUrl\":\"https://t1.daumcdn.net/news/202206/22/mk/20220622150903258bsmf.jpg\",\"source\":\"매일경제\",\"position\":0,\"meta\":{\"impressionId\":\"tromm\",\"contentUniqueKey\":\"hamny-20220622150900127\",\"mediaName\":\"매일경제\",\"torosRanking\":0,\"torosScore\":0.0,\"poolCode\":\"ptop_realestate_txt\",\"feedId\":11,\"feedName\":\"하모니\",\"clusterTitle\":\"\"}},{\"id\":\"hamny-20220622150134838\",\"title\":\"오세훈표 공급정책 날개 단다..시, 관련 조직확대 추진\",\"label\":null,\"url\":\"http://realestate.daum.net/news/detail/all/20220622150134838\",\"icon\":\"TEXT\",\"imageUrl\":\"https://t1.daumcdn.net/news/202206/22/Edaily/20220622150512101vsgy.jpg\",\"source\":\"이데일리\",\"position\":0,\"meta\":{\"impressionId\":\"tromm\",\"contentUniqueKey\":\"hamny-20220622150134838\",\"mediaName\":\"이데일리\",\"torosRanking\":0,\"torosScore\":0.0,\"poolCode\":\"ptop_realestate_txt\",\"feedId\":11,\"feedName\":\"하모니\",\"clusterTitle\":\"\"}},{\"id\":\"hamny-20220622142552089\",\"title\":\"시민단체 \\\"6·21 부동산대책은 다주택자 중심..서민 정책 필요\\\"\",\"label\":null,\"url\":\"http://realestate.daum.net/news/detail/all/20220622142552089\",\"icon\":\"TEXT\",\"imageUrl\":\"https://t1.daumcdn.net/news/202206/22/yonhap/20220622142552810mshb.jpg\",\"source\":\"연합뉴스\",\"position\":0,\"meta\":{\"impressionId\":\"tromm\",\"contentUniqueKey\":\"hamny-20220622142552089\",\"mediaName\":\"연합뉴스\",\"torosRanking\":0,\"torosScore\":0.0,\"poolCode\":\"ptop_realestate_txt\",\"feedId\":11,\"feedName\":\"하모니\",\"clusterTitle\":\"\"}},{\"id\":\"hamny-20220622120206975\",\"title\":\"둔촌주공 평당 3700만원까지↑..분상제 개편에 분양 물량 늘어날까\",\"label\":null,\"url\":\"http://realestate.daum.net/news/detail/all/20220622120206975\",\"icon\":\"TEXT\",\"imageUrl\":\"https://t1.daumcdn.net/news/202206/22/NEWS1/20220622120211010ovoj.jpg\",\"source\":\"뉴스1\",\"position\":0,\"meta\":{\"impressionId\":\"tromm\",\"contentUniqueKey\":\"hamny-20220622120206975\",\"mediaName\":\"뉴스1\",\"torosRanking\":0,\"torosScore\":0.0,\"poolCode\":\"ptop_realestate_txt\",\"feedId\":11,\"feedName\":\"하모니\",\"clusterTitle\":\"\"}},{\"id\":\"hamny-20220622113502704\",\"title\":\"\\\"도곡·반포에 밀리다니..\\\" 대치동 집주인들 불만 폭발\",\"label\":null,\"url\":\"http://realestate.daum.net/news/detail/all/20220622113502704\",\"icon\":\"TEXT\",\"imageUrl\":\"https://t1.daumcdn.net/news/202206/22/ked/20220622114303545rerr.jpg\",\"source\":\"한국경제\",\"position\":0,\"meta\":{\"impressionId\":\"tromm\",\"contentUniqueKey\":\"hamny-20220622113502704\",\"mediaName\":\"한국경제\",\"torosRanking\":0,\"torosScore\":0.0,\"poolCode\":\"ptop_realestate_txt\",\"feedId\":11,\"feedName\":\"하모니\",\"clusterTitle\":\"\"}},{\"id\":\"hamny-20220622110026648\",\"title\":\"'그린리모델링 청년인턴십' 24일 최종 선발..7~8월 활동\",\"label\":null,\"url\":\"http://realestate.daum.net/news/detail/all/20220622110026648\",\"icon\":\"TEXT\",\"imageUrl\":\"https://t1.daumcdn.net/news/202206/22/NEWS1/20220622110026953egnj.jpg\",\"source\":\"뉴스1\",\"position\":0,\"meta\":{\"impressionId\":\"tromm\",\"contentUniqueKey\":\"hamny-20220622110026648\",\"mediaName\":\"뉴스1\",\"torosRanking\":0,\"torosScore\":0.0,\"poolCode\":\"ptop_realestate_txt\",\"feedId\":11,\"feedName\":\"하모니\",\"clusterTitle\":\"\"}}]},\"cabinets\":null,\"board\":false},{\"code\":2371,\"type\":\"PC_MEDIA_NEWS_LIVE\",\"items\":{\"op\":{\"moreLink\":\"\",\"moreText\":\"\",\"tabDisplay\":\"off\",\"title\":\"뉴스 생중계\",\"sorting\":\"random\"},\"kakaoTvLive1\":{\"data\":\"{\\\"id\\\":50102927,\\\"channelId\\\":2980223,\\\"liveId\\\":50102927,\\\"displayTitle\\\":\\\"MBC 뉴스데스크\\\",\\\"createTime\\\":\\\"2022-06-21 19:30:25\\\",\\\"updateTime\\\":\\\"2022-06-21 22:19:20\\\",\\\"channel\\\":{\\\"id\\\":2980223,\\\"userId\\\":2378824,\\\"categoryId\\\":null,\\\"name\\\":\\\"MBC NEWS\\\",\\\"description\\\":\\\"\\\",\\\"headPlaylistId\\\":316680,\\\"totalClipCount\\\":104,\\\"openClipCount\\\":0,\\\"subscriberCount\\\":1785,\\\"visitCount\\\":929658,\\\"type\\\":\\\"STANDARD\\\",\\\"isOpen\\\":true,\\\"shouldFeedSearcher\\\":true,\\\"isLegacy\\\":false,\\\"createTime\\\":\\\"2017-12-15 09:42:28\\\",\\\"updateTime\\\":\\\"2019-12-23 20:25:49\\\",\\\"canAutoUploadLiveClip\\\":true,\\\"canLive\\\":true,\\\"canUploadClip\\\":true,\\\"clipCount\\\":0,\\\"linkUrl\\\":\\\"https://tv.kakao.com/channel/2980223\\\"},\\\"live\\\":{\\\"id\\\":50102927,\\\"userId\\\":2378824,\\\"channelId\\\":2980223,\\\"categoryId\\\":52,\\\"livefarmInfoId\\\":\\\"c17221d1e7021e1d\\\",\\\"broadcastId\\\":1655807424,\\\"liveType\\\":\\\"STREAMING\\\",\\\"title\\\":\\\"MBC 뉴스데스크\\\",\\\"description\\\":\\\"kakaoTV 공식 생중계\\\",\\\"status\\\":\\\"FINISHED\\\",\\\"isOpen\\\":true,\\\"canScrap\\\":true,\\\"canLink\\\":true,\\\"shouldGeoBlock\\\":true,\\\"ageLimit\\\":\\\"ALL\\\",\\\"startTime\\\":\\\"2022-06-21 19:30:26\\\",\\\"endTime\\\":\\\"2022-06-21 20:45:47\\\",\\\"reportCount\\\":0,\\\"createTime\\\":\\\"2022-06-21 19:30:25\\\",\\\"updateTime\\\":\\\"2022-06-21 22:19:20\\\",\\\"playCount\\\":1230,\\\"likeCount\\\":8,\\\"service\\\":{\\\"name\\\":\\\"kakao_tv\\\",\\\"vfarmName\\\":\\\"klimt\\\",\\\"description\\\":\\\"\\\",\\\"createTime\\\":\\\"2017-01-05 14:41:53\\\",\\\"updateTime\\\":\\\"2017-01-05 14:41:53\\\"},\\\"liveGeoBlock\\\":{\\\"geoBlockType\\\":\\\"ALLOW\\\",\\\"nations\\\":[\\\"KR\\\"]},\\\"isBlind\\\":false,\\\"adultsOnly\\\":false,\\\"duration\\\":4521},\\\"canDonation\\\":false,\\\"videoType\\\":\\\"LIVE\\\",\\\"linkUrl\\\":\\\"https://tv.kakao.com/l/50102927\\\"}\",\"origin\":\"MBC\",\"imageUrl\":\"https://t1.daumcdn.net/daumtop_deco/images/mtop/2017/m640/station_mbc_v3.png\",\"liveLink\":\"https://tv.kakao.com/channel/2980223/livelink/c17221d1e7021e1d@now\",\"title\":\"뉴스데스크\",\"liveId\":\"c17221d1e7021e1d@now\",\"replayLink\":\"https://focus.kakao.com/ch/focus/newsdeskreplay\",\"liveStatus\":\"FINISHED\"},\"kakaoTvLive2\":{\"data\":\"{\\\"id\\\":50102711,\\\"channelId\\\":3261511,\\\"liveId\\\":50102711,\\\"displayTitle\\\":\\\"SBS 오뉴스\\\",\\\"createTime\\\":\\\"2022-06-21 16:50:51\\\",\\\"updateTime\\\":\\\"2022-06-21 18:25:22\\\",\\\"channel\\\":{\\\"id\\\":3261511,\\\"userId\\\":5135514,\\\"categoryId\\\":null,\\\"name\\\":\\\"SBS 오뉴스\\\",\\\"description\\\":\\\"매주 월~금 오후 5시, 한수진의 오뉴스가 여러분을 찾아갑니다.\\\",\\\"headPlaylistId\\\":null,\\\"totalClipCount\\\":0,\\\"openClipCount\\\":0,\\\"subscriberCount\\\":109,\\\"visitCount\\\":118099,\\\"type\\\":\\\"STANDARD\\\",\\\"isOpen\\\":true,\\\"shouldFeedSearcher\\\":true,\\\"isLegacy\\\":false,\\\"createTime\\\":\\\"2019-02-21 18:14:26\\\",\\\"updateTime\\\":\\\"2019-03-04 17:46:54\\\",\\\"canAutoUploadLiveClip\\\":false,\\\"canLive\\\":true,\\\"canUploadClip\\\":true,\\\"clipCount\\\":0,\\\"linkUrl\\\":\\\"https://tv.kakao.com/channel/3261511\\\"},\\\"live\\\":{\\\"id\\\":50102711,\\\"userId\\\":5135514,\\\"channelId\\\":3261511,\\\"categoryId\\\":52,\\\"livefarmInfoId\\\":\\\"5dd7b94f7cf2283a\\\",\\\"broadcastId\\\":1655797850,\\\"liveType\\\":\\\"STREAMING\\\",\\\"title\\\":\\\"SBS 오뉴스\\\",\\\"description\\\":\\\"kakaoTV 공식 생중계\\\",\\\"status\\\":\\\"FINISHED\\\",\\\"isOpen\\\":true,\\\"canScrap\\\":true,\\\"canLink\\\":true,\\\"shouldGeoBlock\\\":true,\\\"ageLimit\\\":\\\"ALL\\\",\\\"startTime\\\":\\\"2022-06-21 16:50:51\\\",\\\"endTime\\\":\\\"2022-06-21 17:41:03\\\",\\\"reportCount\\\":0,\\\"createTime\\\":\\\"2022-06-21 16:50:51\\\",\\\"updateTime\\\":\\\"2022-06-21 18:25:22\\\",\\\"playCount\\\":1411,\\\"likeCount\\\":0,\\\"service\\\":{\\\"name\\\":\\\"kakao_tv\\\",\\\"vfarmName\\\":\\\"klimt\\\",\\\"description\\\":\\\"\\\",\\\"createTime\\\":\\\"2017-01-05 14:41:53\\\",\\\"updateTime\\\":\\\"2017-01-05 14:41:53\\\"},\\\"liveGeoBlock\\\":{\\\"geoBlockType\\\":\\\"ALLOW\\\",\\\"nations\\\":[\\\"KR\\\"]},\\\"isBlind\\\":false,\\\"adultsOnly\\\":false,\\\"duration\\\":3012},\\\"canDonation\\\":false,\\\"videoType\\\":\\\"LIVE\\\",\\\"linkUrl\\\":\\\"https://tv.kakao.com/l/50102711\\\"}\",\"origin\":\"SBS\",\"imageUrl\":\"https://t1.daumcdn.net/daumtop_deco/images/mtop/2017/m640/station_sbs_v3.png\",\"liveLink\":\"https://tv.kakao.com/channel/3261511/livelink/5dd7b94f7cf2283a@now\",\"title\":\"오 뉴스\",\"liveId\":\"5dd7b94f7cf2283a@now\",\"replayLink\":null,\"liveStatus\":\"FINISHED\"},\"kakaoTvLive3\":{\"data\":\"{\\\"id\\\":50102955,\\\"channelId\\\":3255534,\\\"liveId\\\":50102955,\\\"displayTitle\\\":\\\"SBS 8뉴스\\\",\\\"createTime\\\":\\\"2022-06-21 19:42:55\\\",\\\"updateTime\\\":\\\"2022-06-21 21:08:42\\\",\\\"channel\\\":{\\\"id\\\":3255534,\\\"userId\\\":5135514,\\\"categoryId\\\":null,\\\"name\\\":\\\"SBS 8뉴스\\\",\\\"description\\\":\\\"'모든 순간이 뉴스가 됩니다' 답답하거나 억울한 일이 있나요? 사고 현장 또는 혼자 보기 아까운 작면을 찍으셨다면 SBS뉴스로 제보해주세요! SBS뉴스앱 또는 카카오톡과 페이스북 'SBS뉴스'를 검색해 메시지 전송을 하실 수 있습니다. 이메일: sbs8news@sbs.co.kr / 문자: #6000 / 전화: 02-2113-6000\\\",\\\"headPlaylistId\\\":null,\\\"totalClipCount\\\":0,\\\"openClipCount\\\":0,\\\"subscriberCount\\\":710,\\\"visitCount\\\":422429,\\\"type\\\":\\\"STANDARD\\\",\\\"isOpen\\\":true,\\\"shouldFeedSearcher\\\":true,\\\"isLegacy\\\":false,\\\"createTime\\\":\\\"2019-02-12 13:11:46\\\",\\\"updateTime\\\":\\\"2019-03-21 09:30:30\\\",\\\"canAutoUploadLiveClip\\\":false,\\\"canLive\\\":true,\\\"canUploadClip\\\":true,\\\"clipCount\\\":0,\\\"linkUrl\\\":\\\"https://tv.kakao.com/channel/3255534\\\"},\\\"live\\\":{\\\"id\\\":50102955,\\\"userId\\\":5135514,\\\"channelId\\\":3255534,\\\"categoryId\\\":52,\\\"livefarmInfoId\\\":\\\"3071ae216285710a\\\",\\\"broadcastId\\\":1655808175,\\\"liveType\\\":\\\"STREAMING\\\",\\\"title\\\":\\\"SBS 8뉴스\\\",\\\"description\\\":\\\"kakaoTV 공식 생중계\\\",\\\"status\\\":\\\"FINISHED\\\",\\\"isOpen\\\":true,\\\"canScrap\\\":true,\\\"canLink\\\":true,\\\"shouldGeoBlock\\\":true,\\\"ageLimit\\\":\\\"ALL\\\",\\\"startTime\\\":\\\"2022-06-21 19:42:55\\\",\\\"endTime\\\":\\\"2022-06-21 20:50:14\\\",\\\"reportCount\\\":0,\\\"createTime\\\":\\\"2022-06-21 19:42:55\\\",\\\"updateTime\\\":\\\"2022-06-21 21:08:42\\\",\\\"playCount\\\":1145,\\\"likeCount\\\":3,\\\"service\\\":{\\\"name\\\":\\\"kakao_tv\\\",\\\"vfarmName\\\":\\\"klimt\\\",\\\"description\\\":\\\"\\\",\\\"createTime\\\":\\\"2017-01-05 14:41:53\\\",\\\"updateTime\\\":\\\"2017-01-05 14:41:53\\\"},\\\"liveGeoBlock\\\":{\\\"geoBlockType\\\":\\\"ALLOW\\\",\\\"nations\\\":[\\\"KR\\\"]},\\\"isBlind\\\":false,\\\"adultsOnly\\\":false,\\\"duration\\\":4039},\\\"canDonation\\\":false,\\\"videoType\\\":\\\"LIVE\\\",\\\"linkUrl\\\":\\\"https://tv.kakao.com/l/50102955\\\"}\",\"origin\":\"SBS\",\"imageUrl\":\"https://t1.daumcdn.net/daumtop_deco/images/mtop/2017/m640/station_sbs_v3.png\",\"liveLink\":\"https://tv.kakao.com/channel/3255534/livelink/3071ae216285710a@now\",\"title\":\"8뉴스\",\"liveId\":\"3071ae216285710a@now\",\"replayLink\":\"https://focus.kakao.com/ch/focus/8newsreplay\",\"liveStatus\":\"FINISHED\"},\"kakaoTvLive4\":{\"data\":\"{\\\"id\\\":50102695,\\\"channelId\\\":2663784,\\\"liveId\\\":50102695,\\\"displayTitle\\\":\\\"정치부 회의\\\",\\\"createTime\\\":\\\"2022-06-21 16:30:05\\\",\\\"updateTime\\\":\\\"2022-06-21 18:33:43\\\",\\\"channel\\\":{\\\"id\\\":2663784,\\\"userId\\\":2378824,\\\"categoryId\\\":27,\\\"name\\\":\\\"JTBC 정치부회의\\\",\\\"description\\\":\\\"\\\",\\\"headPlaylistId\\\":316914,\\\"totalClipCount\\\":80,\\\"openClipCount\\\":0,\\\"subscriberCount\\\":2209,\\\"visitCount\\\":776779,\\\"type\\\":\\\"STANDARD\\\",\\\"isOpen\\\":true,\\\"shouldFeedSearcher\\\":true,\\\"isLegacy\\\":false,\\\"createTime\\\":\\\"2017-02-15 16:12:10\\\",\\\"updateTime\\\":\\\"2019-12-24 17:59:54\\\",\\\"canAutoUploadLiveClip\\\":true,\\\"canLive\\\":true,\\\"canUploadClip\\\":true,\\\"clipCount\\\":0,\\\"linkUrl\\\":\\\"https://tv.kakao.com/channel/2663784\\\"},\\\"live\\\":{\\\"id\\\":50102695,\\\"userId\\\":2378824,\\\"channelId\\\":2663784,\\\"categoryId\\\":52,\\\"livefarmInfoId\\\":\\\"1bd9c0f95b99c1d6\\\",\\\"broadcastId\\\":1655796604,\\\"liveType\\\":\\\"STREAMING\\\",\\\"title\\\":\\\"정치부 회의\\\",\\\"description\\\":\\\"kakaoTV 공식 생중계\\\",\\\"status\\\":\\\"FINISHED\\\",\\\"isOpen\\\":true,\\\"canScrap\\\":true,\\\"canLink\\\":true,\\\"shouldGeoBlock\\\":true,\\\"ageLimit\\\":\\\"ALL\\\",\\\"startTime\\\":\\\"2022-06-21 16:30:05\\\",\\\"endTime\\\":\\\"2022-06-21 17:54:13\\\",\\\"reportCount\\\":0,\\\"createTime\\\":\\\"2022-06-21 16:30:05\\\",\\\"updateTime\\\":\\\"2022-06-21 18:33:43\\\",\\\"playCount\\\":1418,\\\"likeCount\\\":4,\\\"service\\\":{\\\"name\\\":\\\"kakao_tv\\\",\\\"vfarmName\\\":\\\"klimt\\\",\\\"description\\\":\\\"\\\",\\\"createTime\\\":\\\"2017-01-05 14:41:53\\\",\\\"updateTime\\\":\\\"2017-01-05 14:41:53\\\"},\\\"liveGeoBlock\\\":{\\\"geoBlockType\\\":\\\"ALLOW\\\",\\\"nations\\\":[\\\"KR\\\"]},\\\"isBlind\\\":false,\\\"adultsOnly\\\":false,\\\"duration\\\":5048},\\\"canDonation\\\":false,\\\"videoType\\\":\\\"LIVE\\\",\\\"linkUrl\\\":\\\"https://tv.kakao.com/l/50102695\\\"}\",\"origin\":\"JTBC\",\"imageUrl\":\"https://t1.daumcdn.net/daumtop_deco/images/mtop/2017/m640/station_jtbc_v3.png\",\"liveLink\":\"https://tv.kakao.com/channel/2663784/livelink/1bd9c0f95b99c1d6@now\",\"title\":\"정치부회의\",\"liveId\":\"1bd9c0f95b99c1d6@now\",\"replayLink\":\"\",\"liveStatus\":\"FINISHED\"},\"kakaoTvLive5\":{\"data\":\"{\\\"id\\\":50102918,\\\"channelId\\\":2663783,\\\"liveId\\\":50102918,\\\"displayTitle\\\":\\\"JTBC 뉴스룸\\\",\\\"createTime\\\":\\\"2022-06-21 19:25:34\\\",\\\"updateTime\\\":\\\"2022-06-21 20:39:40\\\",\\\"channel\\\":{\\\"id\\\":2663783,\\\"userId\\\":2378824,\\\"categoryId\\\":25,\\\"name\\\":\\\"JTBC 뉴스룸\\\",\\\"description\\\":\\\"\\\",\\\"headPlaylistId\\\":316695,\\\"totalClipCount\\\":108,\\\"openClipCount\\\":0,\\\"subscriberCount\\\":5540,\\\"visitCount\\\":2108998,\\\"type\\\":\\\"STANDARD\\\",\\\"isOpen\\\":true,\\\"shouldFeedSearcher\\\":true,\\\"isLegacy\\\":false,\\\"createTime\\\":\\\"2017-02-15 16:11:55\\\",\\\"updateTime\\\":\\\"2021-06-07 09:25:14\\\",\\\"canAutoUploadLiveClip\\\":true,\\\"canLive\\\":true,\\\"canUploadClip\\\":true,\\\"clipCount\\\":0,\\\"linkUrl\\\":\\\"https://tv.kakao.com/channel/2663783\\\"},\\\"live\\\":{\\\"id\\\":50102918,\\\"userId\\\":2378824,\\\"channelId\\\":2663783,\\\"categoryId\\\":52,\\\"livefarmInfoId\\\":\\\"e14ee2b22d82e7c5\\\",\\\"broadcastId\\\":1655807133,\\\"liveType\\\":\\\"STREAMING\\\",\\\"title\\\":\\\"JTBC 뉴스룸\\\",\\\"description\\\":\\\"kakaoTV 공식 생중계\\\",\\\"status\\\":\\\"FINISHED\\\",\\\"isOpen\\\":true,\\\"canScrap\\\":true,\\\"canLink\\\":true,\\\"shouldGeoBlock\\\":true,\\\"ageLimit\\\":\\\"ALL\\\",\\\"startTime\\\":\\\"2022-06-21 19:25:34\\\",\\\"endTime\\\":\\\"2022-06-21 20:38:27\\\",\\\"reportCount\\\":0,\\\"createTime\\\":\\\"2022-06-21 19:25:34\\\",\\\"updateTime\\\":\\\"2022-06-21 20:39:40\\\",\\\"playCount\\\":506,\\\"likeCount\\\":5,\\\"service\\\":{\\\"name\\\":\\\"kakao_tv\\\",\\\"vfarmName\\\":\\\"klimt\\\",\\\"description\\\":\\\"\\\",\\\"createTime\\\":\\\"2017-01-05 14:41:53\\\",\\\"updateTime\\\":\\\"2017-01-05 14:41:53\\\"},\\\"liveGeoBlock\\\":{\\\"geoBlockType\\\":\\\"ALLOW\\\",\\\"nations\\\":[\\\"KR\\\"]},\\\"isBlind\\\":false,\\\"adultsOnly\\\":false,\\\"duration\\\":4373},\\\"canDonation\\\":false,\\\"videoType\\\":\\\"LIVE\\\",\\\"linkUrl\\\":\\\"https://tv.kakao.com/l/50102918\\\"}\",\"origin\":\"JTBC\",\"imageUrl\":\"https://t1.daumcdn.net/daumtop_deco/images/mtop/2017/m640/station_jtbc_v3.png\",\"liveLink\":\"https://tv.kakao.com/channel/2663783/livelink/e14ee2b22d82e7c5@now\",\"title\":\"뉴스룸\",\"liveId\":\"e14ee2b22d82e7c5@now\",\"replayLink\":\"https://focus.kakao.com/ch/focus/newsroomreplay\",\"liveStatus\":\"FINISHED\"},\"kakaoTvLive6\":{\"data\":\"{\\\"id\\\":50103738,\\\"channelId\\\":3172952,\\\"liveId\\\":50103738,\\\"displayTitle\\\":\\\"KBS 사사건건\\\",\\\"createTime\\\":\\\"2022-06-22 15:57:45\\\",\\\"updateTime\\\":\\\"2022-06-22 16:22:17\\\",\\\"channel\\\":{\\\"id\\\":3172952,\\\"userId\\\":2378824,\\\"categoryId\\\":52,\\\"name\\\":\\\"사사건건\\\",\\\"description\\\":\\\"\\\",\\\"headPlaylistId\\\":223865,\\\"totalClipCount\\\":160,\\\"openClipCount\\\":101,\\\"subscriberCount\\\":65,\\\"visitCount\\\":309791,\\\"type\\\":\\\"STANDARD\\\",\\\"isOpen\\\":true,\\\"shouldFeedSearcher\\\":true,\\\"isLegacy\\\":false,\\\"createTime\\\":\\\"2018-10-05 14:38:22\\\",\\\"updateTime\\\":\\\"2018-12-03 13:28:56\\\",\\\"canLive\\\":true,\\\"canAutoUploadLiveClip\\\":true,\\\"canUploadClip\\\":true,\\\"clipCount\\\":101,\\\"linkUrl\\\":\\\"https://tv.kakao.com/channel/3172952\\\"},\\\"live\\\":{\\\"id\\\":50103738,\\\"userId\\\":2378824,\\\"channelId\\\":3172952,\\\"categoryId\\\":52,\\\"livefarmInfoId\\\":\\\"166d4b76ad2c7cf6\\\",\\\"broadcastId\\\":1655881064,\\\"liveType\\\":\\\"STREAMING\\\",\\\"title\\\":\\\"KBS 사사건건\\\",\\\"description\\\":\\\"kakaoTV 공식 생중계\\\",\\\"status\\\":\\\"ONAIR\\\",\\\"isOpen\\\":true,\\\"canScrap\\\":true,\\\"canLink\\\":true,\\\"shouldGeoBlock\\\":true,\\\"ageLimit\\\":\\\"ALL\\\",\\\"startTime\\\":\\\"2022-06-22 15:57:45\\\",\\\"reportCount\\\":0,\\\"createTime\\\":\\\"2022-06-22 15:57:45\\\",\\\"updateTime\\\":\\\"2022-06-22 16:22:17\\\",\\\"playCount\\\":237,\\\"likeCount\\\":0,\\\"service\\\":{\\\"name\\\":\\\"kakao_tv\\\",\\\"vfarmName\\\":\\\"klimt\\\",\\\"description\\\":\\\"\\\",\\\"createTime\\\":\\\"2017-01-05 14:41:53\\\",\\\"updateTime\\\":\\\"2017-01-05 14:41:53\\\"},\\\"liveGeoBlock\\\":{\\\"geoBlockType\\\":\\\"ALLOW\\\",\\\"nations\\\":[\\\"KR\\\"]},\\\"isBlind\\\":false,\\\"adultsOnly\\\":false,\\\"duration\\\":1485},\\\"canDonation\\\":false,\\\"videoType\\\":\\\"LIVE\\\",\\\"linkUrl\\\":\\\"https://tv.kakao.com/l/50103738\\\"}\",\"origin\":\"KBS\",\"imageUrl\":\"https://t1.daumcdn.net/daumtop_deco/images/mtop/2017/m640/station_kbs_v3.png\",\"liveLink\":\"https://tv.kakao.com/channel/3172952/livelink/166d4b76ad2c7cf6@now\",\"title\":\"사사건건\",\"liveId\":\"166d4b76ad2c7cf6@now\",\"replayLink\":null,\"liveStatus\":\"ONAIR\"},\"kakaoTvLive7\":{\"data\":\"{\\\"id\\\":50102878,\\\"channelId\\\":3377825,\\\"liveId\\\":50102878,\\\"displayTitle\\\":\\\"KBS 뉴스 7\\\",\\\"createTime\\\":\\\"2022-06-21 18:59:15\\\",\\\"updateTime\\\":\\\"2022-06-21 19:37:10\\\",\\\"channel\\\":{\\\"id\\\":3377825,\\\"userId\\\":2378824,\\\"categoryId\\\":null,\\\"name\\\":\\\"KBS 뉴스 7\\\",\\\"description\\\":\\\"\\\",\\\"headPlaylistId\\\":316941,\\\"totalClipCount\\\":45,\\\"openClipCount\\\":0,\\\"subscriberCount\\\":75,\\\"visitCount\\\":104216,\\\"type\\\":\\\"STANDARD\\\",\\\"isOpen\\\":true,\\\"shouldFeedSearcher\\\":true,\\\"isLegacy\\\":false,\\\"createTime\\\":\\\"2019-08-19 16:33:02\\\",\\\"updateTime\\\":\\\"2020-02-28 16:22:22\\\",\\\"canAutoUploadLiveClip\\\":true,\\\"canUploadClip\\\":true,\\\"canLive\\\":true,\\\"clipCount\\\":0,\\\"linkUrl\\\":\\\"https://tv.kakao.com/channel/3377825\\\"},\\\"live\\\":{\\\"id\\\":50102878,\\\"userId\\\":2378824,\\\"channelId\\\":3377825,\\\"categoryId\\\":52,\\\"livefarmInfoId\\\":\\\"f53115d3ed72c73e\\\",\\\"broadcastId\\\":1655805554,\\\"liveType\\\":\\\"STREAMING\\\",\\\"title\\\":\\\"KBS 뉴스 7\\\",\\\"description\\\":\\\"kakaoTV 공식 생중계\\\",\\\"status\\\":\\\"FINISHED\\\",\\\"isOpen\\\":true,\\\"canScrap\\\":true,\\\"canLink\\\":true,\\\"shouldGeoBlock\\\":true,\\\"ageLimit\\\":\\\"ALL\\\",\\\"startTime\\\":\\\"2022-06-21 18:59:15\\\",\\\"endTime\\\":\\\"2022-06-21 19:37:10\\\",\\\"reportCount\\\":0,\\\"createTime\\\":\\\"2022-06-21 18:59:15\\\",\\\"updateTime\\\":\\\"2022-06-21 19:37:10\\\",\\\"playCount\\\":350,\\\"likeCount\\\":0,\\\"service\\\":{\\\"name\\\":\\\"kakao_tv\\\",\\\"vfarmName\\\":\\\"klimt\\\",\\\"description\\\":\\\"\\\",\\\"createTime\\\":\\\"2017-01-05 14:41:53\\\",\\\"updateTime\\\":\\\"2017-01-05 14:41:53\\\"},\\\"liveGeoBlock\\\":{\\\"geoBlockType\\\":\\\"ALLOW\\\",\\\"nations\\\":[\\\"KR\\\"]},\\\"isBlind\\\":false,\\\"adultsOnly\\\":false,\\\"duration\\\":2275},\\\"canDonation\\\":false,\\\"videoType\\\":\\\"LIVE\\\",\\\"linkUrl\\\":\\\"https://tv.kakao.com/l/50102878\\\"}\",\"origin\":\"KBS\",\"imageUrl\":\"https://t1.daumcdn.net/daumtop_deco/images/mtop/2017/m640/station_kbs_v3.png\",\"liveLink\":\"https://tv.kakao.com/channel/3377825/livelink/f53115d3ed72c73e@now\",\"title\":\"뉴스7\",\"liveId\":\"f53115d3ed72c73e@now\",\"replayLink\":null,\"liveStatus\":\"FINISHED\"},\"kakaoTvLive8\":{\"data\":\"{\\\"id\\\":50103060,\\\"channelId\\\":2663781,\\\"liveId\\\":50103060,\\\"displayTitle\\\":\\\"KBS 뉴스 9\\\",\\\"createTime\\\":\\\"2022-06-21 20:59:55\\\",\\\"updateTime\\\":\\\"2022-06-21 23:53:23\\\",\\\"channel\\\":{\\\"id\\\":2663781,\\\"userId\\\":2378824,\\\"categoryId\\\":25,\\\"name\\\":\\\"KBS 뉴스 9\\\",\\\"description\\\":\\\"\\\",\\\"headPlaylistId\\\":316708,\\\"totalClipCount\\\":85,\\\"openClipCount\\\":0,\\\"subscriberCount\\\":1276,\\\"visitCount\\\":1468669,\\\"type\\\":\\\"STANDARD\\\",\\\"isOpen\\\":true,\\\"shouldFeedSearcher\\\":true,\\\"isLegacy\\\":false,\\\"createTime\\\":\\\"2017-02-15 16:11:31\\\",\\\"updateTime\\\":\\\"2019-12-23 21:59:59\\\",\\\"canAutoUploadLiveClip\\\":true,\\\"canLive\\\":true,\\\"canUploadClip\\\":true,\\\"clipCount\\\":0,\\\"linkUrl\\\":\\\"https://tv.kakao.com/channel/2663781\\\"},\\\"live\\\":{\\\"id\\\":50103060,\\\"userId\\\":2378824,\\\"channelId\\\":2663781,\\\"categoryId\\\":52,\\\"livefarmInfoId\\\":\\\"018212c097cd101a\\\",\\\"broadcastId\\\":1655812794,\\\"liveType\\\":\\\"STREAMING\\\",\\\"title\\\":\\\"KBS 뉴스 9\\\",\\\"description\\\":\\\"kakaoTV 공식 생중계\\\",\\\"status\\\":\\\"FINISHED\\\",\\\"isOpen\\\":true,\\\"canScrap\\\":true,\\\"canLink\\\":true,\\\"shouldGeoBlock\\\":true,\\\"ageLimit\\\":\\\"ALL\\\",\\\"startTime\\\":\\\"2022-06-21 20:59:55\\\",\\\"endTime\\\":\\\"2022-06-21 21:59:54\\\",\\\"reportCount\\\":0,\\\"createTime\\\":\\\"2022-06-21 20:59:55\\\",\\\"updateTime\\\":\\\"2022-06-21 23:53:23\\\",\\\"playCount\\\":1255,\\\"likeCount\\\":4,\\\"service\\\":{\\\"name\\\":\\\"kakao_tv\\\",\\\"vfarmName\\\":\\\"klimt\\\",\\\"description\\\":\\\"\\\",\\\"createTime\\\":\\\"2017-01-05 14:41:53\\\",\\\"updateTime\\\":\\\"2017-01-05 14:41:53\\\"},\\\"liveGeoBlock\\\":{\\\"geoBlockType\\\":\\\"ALLOW\\\",\\\"nations\\\":[\\\"KR\\\"]},\\\"isBlind\\\":false,\\\"adultsOnly\\\":false,\\\"duration\\\":3599},\\\"canDonation\\\":false,\\\"videoType\\\":\\\"LIVE\\\",\\\"linkUrl\\\":\\\"https://tv.kakao.com/l/50103060\\\"}\",\"origin\":\"KBS\",\"imageUrl\":\"https://t1.daumcdn.net/daumtop_deco/images/mtop/2017/m640/station_kbs_v3.png\",\"liveLink\":\"https://tv.kakao.com/channel/2663781/livelink/018212c097cd101a@now\",\"title\":\"뉴스9\",\"liveId\":\"018212c097cd101a@now\",\"replayLink\":\"https://focus.kakao.com/ch/focus/news9replay\",\"liveStatus\":\"FINISHED\"}},\"feeds\":{},\"teslas\":{},\"cabinets\":null,\"board\":false}],\"katv\":[{\"code\":2364,\"type\":\"PC_KAKAOTV_ORIGINAL\",\"items\":{\"op\":{\"tab\":\"\",\"title\":\"오리지널 콘텐츠\",\"url\":\"\"}},\"feeds\":{\"pc_kakaotv_original\":\"[{\\\"id\\\":\\\"tv-337381296\\\",\\\"title\\\":\\\"엄마에게만 털어놓는 결혼에 대한 진심\\\",\\\"url\\\":\\\"https://tv.kakao.com/v/429671746\\\",\\\"imageUrl\\\":\\\"https://t1.daumcdn.net/daumtop_chanel/tromm/20220622095038212.jpg\\\",\\\"label\\\":\\\"결혼백서\\\"},{\\\"id\\\":\\\"tv-337381288\\\",\\\"title\\\":\\\"\\\\\\\"이렇게 못하겠어\\\\\\\" 마음 불편한 웨딩촬영\\\",\\\"url\\\":\\\"https://tv.kakao.com/v/429671732\\\",\\\"imageUrl\\\":\\\"https://t1.daumcdn.net/daumtop_chanel/tromm/20220621033958715.jpg\\\",\\\"label\\\":\\\"결혼백서\\\"},{\\\"id\\\":\\\"tv-337443388\\\",\\\"title\\\":\\\"유재석이 아내에게도 말하지 않은 비밀?\\\",\\\"url\\\":\\\"https://tv.kakao.com/v/429784156\\\",\\\"imageUrl\\\":\\\"https://t1.daumcdn.net/daumtop_chanel/tromm/20220622100417771.jpg\\\",\\\"label\\\":\\\"플레이유\\\"},{\\\"id\\\":\\\"tv-337443391\\\",\\\"title\\\":\\\"시청자가 생각해 낸 가발 챙기는 방법\\\",\\\"url\\\":\\\"https://tv.kakao.com/v/429784161\\\",\\\"imageUrl\\\":\\\"https://t1.daumcdn.net/daumtop_chanel/tromm/20220622024059781.jpg\\\",\\\"label\\\":\\\"플레이유\\\"},{\\\"id\\\":\\\"tv-337381079\\\",\\\"title\\\":\\\"남친과 대판 싸운 후 받은 한 통의 문자\\\",\\\"url\\\":\\\"https://tv.kakao.com/v/429671349\\\",\\\"imageUrl\\\":\\\"https://t1.daumcdn.net/section/oc/4d0515025c9340d58bc6078300667a15\\\",\\\"label\\\":\\\"결혼백서\\\"},{\\\"id\\\":\\\"tv-337381312\\\",\\\"title\\\":\\\"결혼식 하루 전 딸에게 미안하다는 엄마\\\",\\\"url\\\":\\\"https://tv.kakao.com/v/429671771\\\",\\\"imageUrl\\\":\\\"https://t1.daumcdn.net/daumtop_chanel/tromm/20220622013354325.jpg\\\",\\\"label\\\":\\\"결혼백서\\\"},{\\\"id\\\":\\\"tv-337381307\\\",\\\"title\\\":\\\"부모님이 목격한 예비부부의 싸움\\\",\\\"url\\\":\\\"https://tv.kakao.com/v/429671764\\\",\\\"imageUrl\\\":\\\"https://t1.daumcdn.net/daumtop_chanel/tromm/20220621015850836.jpg\\\",\\\"label\\\":\\\"결혼백서\\\"},{\\\"id\\\":\\\"tv-337443431\\\",\\\"title\\\":\\\"대놓고 방송 조작하려는 유재석\\\",\\\"url\\\":\\\"https://tv.kakao.com/v/429784224\\\",\\\"imageUrl\\\":\\\"https://t1.daumcdn.net/section/oc/f973c40c9e264a0dba7715da3b601435\\\",\\\"label\\\":\\\"플레이유\\\"},{\\\"id\\\":\\\"tv-337421377\\\",\\\"title\\\":\\\"'나 혼자 산다'에 나와 화제였던 이장우 캠핑카\\\",\\\"url\\\":\\\"https://tv.kakao.com/v/429744831\\\",\\\"imageUrl\\\":\\\"https://t1.daumcdn.net/daumtop_chanel/tromm/20220621092652966.jpg\\\",\\\"label\\\":\\\"초아\\\"},{\\\"id\\\":\\\"tv-337443473\\\",\\\"title\\\":\\\"유재석이 1분 동안 침묵하면 생기는 일\\\",\\\"url\\\":\\\"https://tv.kakao.com/v/429784295\\\",\\\"imageUrl\\\":\\\"https://t1.daumcdn.net/daumtop_chanel/tromm/20220622104829183.jpg\\\",\\\"label\\\":\\\"플레이유\\\"},{\\\"id\\\":\\\"tv-337381316\\\",\\\"title\\\":\\\"신부가 너무 예뻐서 더 떨린다는 신랑\\\",\\\"url\\\":\\\"https://tv.kakao.com/v/429671776\\\",\\\"imageUrl\\\":\\\"https://t1.daumcdn.net/daumtop_chanel/tromm/20220622010146445.jpg\\\",\\\"label\\\":\\\"결혼백서\\\"},{\\\"id\\\":\\\"tv-337421191\\\",\\\"title\\\":\\\"누가 봐도 수상해 보이는 물, 가까이 가보니\\\",\\\"url\\\":\\\"https://tv.kakao.com/v/429744481\\\",\\\"imageUrl\\\":\\\"https://t1.daumcdn.net/daumtop_chanel/tromm/20220622091033706.jpg\\\",\\\"label\\\":\\\"플레이유\\\"},{\\\"id\\\":\\\"tv-337383590\\\",\\\"title\\\":\\\"마을에서 발견된 공룡 발자국, 알고 봤더니\\\",\\\"url\\\":\\\"https://tv.kakao.com/v/429675745\\\",\\\"imageUrl\\\":\\\"https://t1.daumcdn.net/section/oc/6a569d6bfa48483ca85d765c90b0f2e7\\\",\\\"label\\\":\\\"죠르디입니다\\\"},{\\\"id\\\":\\\"tv-337447516\\\",\\\"title\\\":\\\"찍기만 해도 인생샷 건질 수 있는 이곳 \\\",\\\"url\\\":\\\"https://tv.kakao.com/v/429791414\\\",\\\"imageUrl\\\":\\\"https://t1.daumcdn.net/daumtop_chanel/tromm/20220622032844005.jpg\\\",\\\"label\\\":\\\"소유기\\\"}]\"},\"teslas\":{},\"cabinets\":null,\"board\":false},{\"code\":2366,\"type\":\"PC_KAKAOTV_CLIP\",\"items\":{\"op\":{\"tab\":null,\"title\":\"TV 주요장면\",\"url\":null}},\"feeds\":{\"pc_kakaotv_clip\":\"[{\\\"id\\\":\\\"tv-337457533\\\",\\\"title\\\":\\\"6·25 전쟁의 판도를 바꾼 춘천 전투! 김일성이 지목한 전쟁 실패의 원인 | tvN 220622 방송\\\",\\\"url\\\":\\\"https://newslink.media.daum.net/v/429809344\\\",\\\"imageUrl\\\":\\\"https://thumb.kakaocdn.net/dna/kamp/source/rvb2g4b5u1kk4rwgn03aoerer/thumbs/thumb.jpg?credential=TuMuFGKUIcirOSjFzOpncbomGFEIdZWK&expires=33212780295&signature=Zl%2FxcazGoV83%2BVF5D1B9LrN17GU%3D\\\",\\\"label\\\":\\\"[tvN] 프리한 닥터W\\\"},{\\\"id\\\":\\\"tv-337456287\\\",\\\"title\\\":\\\"야구장 특별석? 익사이팅존! 스카이박스! 그린존! 특별석 티켓팅 꿀팁까지!ㅣ오픈런 EP.27ㅣSBSPLUSㅣ매주 월-금 오전 9시 방송\\\",\\\"url\\\":\\\"https://newslink.media.daum.net/v/429807176\\\",\\\"imageUrl\\\":\\\"https://thumb.kakaocdn.net/dna/kamp/source/rvs1ihnwpdeqxlgw91m96ao0e/thumbs/thumb.jpg?credential=TuMuFGKUIcirOSjFzOpncbomGFEIdZWK&expires=33212772888&signature=zY1FXthC83dzefksIMB%2Bw7ZEd0w%3D\\\",\\\"label\\\":\\\"오픈런\\\"},{\\\"id\\\":\\\"tv-337457532\\\",\\\"title\\\":\\\"6·25 전쟁 72주년, 우리가 절대 잊지 말아야 하는 것들 | tvN 220622 방송\\\",\\\"url\\\":\\\"https://newslink.media.daum.net/v/429809345\\\",\\\"imageUrl\\\":\\\"https://thumb.kakaocdn.net/dna/kamp/source/rvtppp93gg0jd5tbacuxqd7jr/thumbs/thumb.jpg?credential=TuMuFGKUIcirOSjFzOpncbomGFEIdZWK&expires=33212780290&signature=VwgitOhNgO6dqHoTBiIAWQiComw%3D\\\",\\\"label\\\":\\\"[tvN] 프리한 닥터W\\\"},{\\\"id\\\":\\\"tv-337459779\\\",\\\"title\\\":\\\"＜뿅뿅 지구오락실＞ 팝업 체험존 OPEN!! 지구오락실 태국-강남점으로 커몬╭(･□･)و\\\",\\\"url\\\":\\\"https://newslink.media.daum.net/v/429813124\\\",\\\"imageUrl\\\":\\\"https://thumb.kakaocdn.net/dna/kamp/source/rvmwua78ydd1k9sr39rbfr2to/thumbs/thumb.jpg?credential=TuMuFGKUIcirOSjFzOpncbomGFEIdZWK&expires=33212790785&signature=mY3E6ifC9Xbv3M26QXk7%2BnCHbd8%3D\\\",\\\"label\\\":\\\"뿅뿅 지구오락실\\\"},{\\\"id\\\":\\\"tv-337455521\\\",\\\"title\\\":\\\"동갑 친구 케미! 조유리 X 나나 웹드라마 '미미쿠스' 서로의 연기 평가\\\",\\\"url\\\":\\\"https://newslink.media.daum.net/v/429805908\\\",\\\"imageUrl\\\":\\\"https://thumb.kakaocdn.net/dna/kamp/source/rvj320jxiit6u9y7p6vjou1xr/thumbs/thumb.jpg?credential=TuMuFGKUIcirOSjFzOpncbomGFEIdZWK&expires=33212769105&signature=7%2BwohxtGc2cVhKZhB3LuvCor70Q%3D\\\",\\\"label\\\":\\\"웬디의 영스트리트\\\"},{\\\"id\\\":\\\"tv-337457430\\\",\\\"title\\\":\\\"남침 작전명 '폭풍'의 세부 전략! 한강 이북을 점령하고도 한강을 건너지 못한 북한? | tvN 220622 방송\\\",\\\"url\\\":\\\"https://newslink.media.daum.net/v/429809168\\\",\\\"imageUrl\\\":\\\"https://thumb.kakaocdn.net/dna/kamp/source/rvfycq736ln9yndijzcwom1xr/thumbs/thumb.jpg?credential=TuMuFGKUIcirOSjFzOpncbomGFEIdZWK&expires=33212779693&signature=qB6RtrT%2BT9RVWoyc5RL5o4SHBh0%3D\\\",\\\"label\\\":\\\"[tvN] 프리한 닥터W\\\"},{\\\"id\\\":\\\"tv-337457383\\\",\\\"title\\\":\\\"서울을 사수하라! 서울 시민들이 혼란 속에서 피난조차 갈 수 없었던 이유 | tvN 220622 방송\\\",\\\"url\\\":\\\"https://newslink.media.daum.net/v/429809084\\\",\\\"imageUrl\\\":\\\"https://thumb.kakaocdn.net/dna/kamp/source/rvlc7nki5unwv0nmgtc9ssyy8/thumbs/thumb.jpg?credential=TuMuFGKUIcirOSjFzOpncbomGFEIdZWK&expires=33212779398&signature=0hWGBWOSBfhdckYTtDARNXCjnuk%3D\\\",\\\"label\\\":\\\"[tvN] 프리한 닥터W\\\"},{\\\"id\\\":\\\"tv-337458280\\\",\\\"title\\\":\\\"밴디트(BVNDIT) 정우&송희 - 비밀번호 486 (원곡: 윤하) / 220617 GOT7 영재의 친한 친구 불금의 명곡[라이브]\\\",\\\"url\\\":\\\"https://newslink.media.daum.net/v/429810641\\\",\\\"imageUrl\\\":\\\"https://thumb.kakaocdn.net/dna/kamp/source/rvdkj0zuyhvzcvxqgchlfcoer/thumbs/thumb.jpg?credential=TuMuFGKUIcirOSjFzOpncbomGFEIdZWK&expires=33212783941&signature=BXnPd%2FnR%2BYdnzdNadTVA3Fg%2FMCM%3D\\\",\\\"label\\\":\\\"봉춘라디오 (MBC 라디오)\\\"},{\\\"id\\\":\\\"tv-337458267\\\",\\\"title\\\":\\\"갤럭시 익스프레스 & 윤도현 - 개구쟁이 (원곡 산울림) / 220612 4시엔 윤도현입니다 가든라이브[라이브]\\\",\\\"url\\\":\\\"https://newslink.media.daum.net/v/429810619\\\",\\\"imageUrl\\\":\\\"https://thumb.kakaocdn.net/dna/kamp/source/rvu583yz60fjr207irp6lx3gy/thumbs/thumb.jpg?credential=TuMuFGKUIcirOSjFzOpncbomGFEIdZWK&expires=33212783870&signature=uSDIKlmMKHjsH5p4edgLdx8T1DU%3D\\\",\\\"label\\\":\\\"봉춘라디오 (MBC 라디오)\\\"},{\\\"id\\\":\\\"tv-337452518\\\",\\\"title\\\":\\\"※감동 주의※ 주은이 '초보 맘' 혜림에게 건네는 따듯한 위로 (●ᴗ●)ﾉ♥ | KBS 220621 방송\\\",\\\"url\\\":\\\"https://newslink.media.daum.net/v/429800339\\\",\\\"imageUrl\\\":\\\"https://thumb.kakaocdn.net/dna/kamp/source/rvj4agk4zz66y26q7plg6n0cs/thumbs/thumb.jpg?credential=TuMuFGKUIcirOSjFzOpncbomGFEIdZWK&expires=33212787493&signature=hEJDtTnL6W6uLH1ZWdb5HN1nItE%3D&ts=1655878693\\\",\\\"label\\\":\\\"갓파더\\\"},{\\\"id\\\":\\\"tv-337452517\\\",\\\"title\\\":\\\"'엄마가 된다는 것..' 주은x혜림의 현실 육아 토크! | KBS 220621 방송\\\",\\\"url\\\":\\\"https://newslink.media.daum.net/v/429800338\\\",\\\"imageUrl\\\":\\\"https://thumb.kakaocdn.net/dna/kamp/source/rvx4sn9xz0i9voqbtguask35i/thumbs/thumb.jpg?credential=TuMuFGKUIcirOSjFzOpncbomGFEIdZWK&expires=33212736015&signature=gLdVFSMelKL8fF3roJvpraGX9oM%3D\\\",\\\"label\\\":\\\"갓파더\\\"},{\\\"id\\\":\\\"tv-337458592\\\",\\\"title\\\":\\\"우아 woo!ah! 민서&나나 - 단거 (Danger) / 220614 정오의 희망곡 김신영입니다[왕크왕캠]\\\",\\\"url\\\":\\\"https://newslink.media.daum.net/v/429811184\\\",\\\"imageUrl\\\":\\\"https://thumb.kakaocdn.net/dna/kamp/source/rv3dvlkpr8z7hdnsajlx6ks7y/thumbs/thumb.jpg?credential=TuMuFGKUIcirOSjFzOpncbomGFEIdZWK&expires=33212785454&signature=I3U3TRtwL4Epu0eBS7cEYY%2F6j8A%3D\\\",\\\"label\\\":\\\"봉춘라디오 (MBC 라디오)\\\"},{\\\"id\\\":\\\"tv-337458945\\\",\\\"title\\\":\\\"수지X옥택연의 만남❤️‍ 아버지의 사업 부도로 모든 꿈이 산산조각 나버린 부잣집 공주님 고혜미⚡️ | KBS 방송[EP1-01]\\\",\\\"url\\\":\\\"https://newslink.media.daum.net/v/429811764\\\",\\\"imageUrl\\\":\\\"https://thumb.kakaocdn.net/dna/kamp/source/rvwfeilfjmimb7foco8nl9dv7/thumbs/thumb.jpg?credential=TuMuFGKUIcirOSjFzOpncbomGFEIdZWK&expires=33212787137&signature=nRscDQxm%2FVEk575gjhH%2Bh7OXiM8%3D\\\",\\\"label\\\":\\\"드림하이\\\"},{\\\"id\\\":\\\"tv-337457384\\\",\\\"title\\\":\\\"북한군의 남침, 작전명 '폭풍'! 귀신보다 무서웠던 탱크를 앞세워 시작된 6·25 전쟁 | tvN 220622 방송\\\",\\\"url\\\":\\\"https://newslink.media.daum.net/v/429809085\\\",\\\"imageUrl\\\":\\\"https://thumb.kakaocdn.net/dna/kamp/source/rvy82j71lyak18nb1e1ttwk56/thumbs/thumb.jpg?credential=TuMuFGKUIcirOSjFzOpncbomGFEIdZWK&expires=33212779404&signature=Xtp6r7rhADuYMCr%2BmuG8gIpfnKo%3D\\\",\\\"label\\\":\\\"[tvN] 프리한 닥터W\\\"},{\\\"id\\\":\\\"tv-337458295\\\",\\\"title\\\":\\\"LIGHTSUM(라잇썸) 초원&나영 - 8282 (원곡: 다비치) / 220617 GOT7 영재의 친한 친구 불금의 명곡[라이브]\\\",\\\"url\\\":\\\"https://newslink.media.daum.net/v/429810665\\\",\\\"imageUrl\\\":\\\"https://thumb.kakaocdn.net/dna/kamp/source/rvmpyrp0tpdjq7bpaw3et9cb6/thumbs/thumb.jpg?credential=TuMuFGKUIcirOSjFzOpncbomGFEIdZWK&expires=33212783999&signature=hO76lDWf%2B%2BJYqRaeRBgjbM7AqGI%3D\\\",\\\"label\\\":\\\"봉춘라디오 (MBC 라디오)\\\"},{\\\"id\\\":\\\"tv-337456268\\\",\\\"title\\\":\\\"반전의 연속! 일본 vs 미국 태평양 전쟁[다음이야기]\\\",\\\"url\\\":\\\"https://newslink.media.daum.net/v/429807145\\\",\\\"imageUrl\\\":\\\"https://thumb.kakaocdn.net/dna/kamp/source/rv0yf0ycrrpdeducg9f7yy0lq/thumbs/thumb.jpg?credential=TuMuFGKUIcirOSjFzOpncbomGFEIdZWK&expires=33212772741&signature=C%2ByW51lDaVYhvhMlKb0S9RL9KP8%3D\\\",\\\"label\\\":\\\"벌거벗은 세계사\\\"},{\\\"id\\\":\\\"tv-337456340\\\",\\\"title\\\":\\\"도로 위 특별석! 누워서 가는 프리미엄 고속버스!! 재이용 의사 100%!!ㅣ오픈런 EP.27ㅣSBSPLUSㅣ매주 월-금 오전 9시 방송\\\",\\\"url\\\":\\\"https://newslink.media.daum.net/v/429807258\\\",\\\"imageUrl\\\":\\\"https://thumb.kakaocdn.net/dna/kamp/source/rvruh5fhjxkew8zexiju69p7q/thumbs/thumb.jpg?credential=TuMuFGKUIcirOSjFzOpncbomGFEIdZWK&expires=33212773192&signature=I34Ackv799LsTauwV37opd898uw%3D\\\",\\\"label\\\":\\\"오픈런\\\"},{\\\"id\\\":\\\"tv-337457484\\\",\\\"title\\\":\\\"북한군의 기세를 꺾었던 6사단의 선견지명★ 춘천 옥산포에서의 전투!! | tvN 220622 방송\\\",\\\"url\\\":\\\"https://newslink.media.daum.net/v/429809263\\\",\\\"imageUrl\\\":\\\"https://thumb.kakaocdn.net/dna/kamp/source/rvntcqu0juqud93xuvny48nj6/thumbs/thumb.jpg?credential=TuMuFGKUIcirOSjFzOpncbomGFEIdZWK&expires=33212779988&signature=4jvWsYKOCasgMmhYUhl4btgulIg%3D\\\",\\\"label\\\":\\\"[tvN] 프리한 닥터W\\\"},{\\\"id\\\":\\\"tv-337456504\\\",\\\"title\\\":\\\"누워서 간다! 국내 열차! 한 폭의 그림 같은 해외 열차! 누워서 보는 영화관까지!ㅣ오픈런 EP.27ㅣSBSPLUSㅣ매주 월-금 오전 9시 방송\\\",\\\"url\\\":\\\"https://newslink.media.daum.net/v/429807528\\\",\\\"imageUrl\\\":\\\"https://thumb.kakaocdn.net/dna/kamp/source/rv91ge82dbs0o10e7h5gmqjjb/thumbs/thumb.jpg?credential=TuMuFGKUIcirOSjFzOpncbomGFEIdZWK&expires=33212774255&signature=O%2BYuBLjhsw5QczPyZWsf0rZlVYw%3D\\\",\\\"label\\\":\\\"오픈런\\\"},{\\\"id\\\":\\\"tv-337457609\\\",\\\"title\\\":\\\"6·25 전쟁 중 72시간의 미스터리? 북한이 패했던 결정적 이유 #highlight\\\",\\\"url\\\":\\\"https://newslink.media.daum.net/v/429809477\\\",\\\"imageUrl\\\":\\\"https://thumb.kakaocdn.net/dna/kamp/source/rvegumijpwizv43s9kh1m0yge/thumbs/thumb.jpg?credential=TuMuFGKUIcirOSjFzOpncbomGFEIdZWK&expires=33212780633&signature=SfDRREbQrRMFQ%2Fdq01TOKYeTadM%3D\\\",\\\"label\\\":\\\"[tvN] 프리한 닥터W\\\"}]\"},\"teslas\":{},\"cabinets\":null,\"board\":false},{\"code\":2365,\"type\":\"PC_KAKAOTV_HIGHLIGHT\",\"items\":{\"op\":{\"tab\":null,\"title\":\"많이 본 TV\",\"url\":null}},\"feeds\":{\"pc_kakaotv_highlight\":\"[{\\\"id\\\":\\\"tv-337421191\\\",\\\"title\\\":\\\"11회.  제11장 『 레벨업 (Level Up) 』\\\",\\\"url\\\":\\\"http://entertain.daum.net/tv/5461557/video/429744481\\\",\\\"imageUrl\\\":\\\"https://t1.kakaocdn.net/kakaotv/ASSET/warhol_asset/vod_thumbnail/f8f9309e7609c1d420a95104330847c69a0520c2\\\",\\\"label\\\":\\\"플레이유\\\"},{\\\"id\\\":\\\"tv-337452309\\\",\\\"title\\\":\\\"혜림♥민철 2세 신시우 최초 공개! 지금 만나러 갑니다..(●°u°●) | KBS 220621 방송 \\\",\\\"url\\\":\\\"http://entertain.daum.net/tv/5196372/video/429799979\\\",\\\"imageUrl\\\":\\\"https://thumb.kakaocdn.net/dna/kamp/source/rvviywv4h75aezy94p26k24lb/thumbs/thumb.jpg?credential=TuMuFGKUIcirOSjFzOpncbomGFEIdZWK&expires=33212735623&signature=zw8hP0MB9VQreKm1L8%2BhxUOO4cw%3D&ts=1655826823\\\",\\\"label\\\":\\\"갓파더\\\"},{\\\"id\\\":\\\"tv-337451189\\\",\\\"title\\\":\\\"“아비가 좀 멀리 다녀오려 합니다” 귀양을 떠나게 된 허성태를 막아선 최리.. ‘오열’ | KBS 220621 방송 \\\",\\\"url\\\":\\\"http://entertain.daum.net/tv/5207089/video/429797993\\\",\\\"imageUrl\\\":\\\"https://thumb.kakaocdn.net/dna/kamp/source/rv8830oza1vqcv3mubrjtwwvj/thumbs/thumb.jpg?credential=TuMuFGKUIcirOSjFzOpncbomGFEIdZWK&expires=33212734466&signature=bAmHs1XjQxW4n9o%2FPA6kQdZY6ao%3D&ts=1655825666\\\",\\\"label\\\":\\\"붉은 단심\\\"},{\\\"id\\\":\\\"tv-337447516\\\",\\\"title\\\":\\\"38회. [발리왔소유] 발리 가기 전에 빨리 봐야할 영상 | 인생샷 건지는 숙소, 핫한 비치클럽, 현지 맛집 그리고 소유의 여행 메이크업템까지 | 여행 VLOG in BALI\\\",\\\"url\\\":\\\"http://entertain.daum.net/tv/5410653/video/429791414\\\",\\\"imageUrl\\\":\\\"http://t1.kakaocdn.net/kakaotv/ASSET/warhol_asset/vod_thumbnail/3fced1541e1a3e940895685d43b596fd58d3d9b7\\\",\\\"label\\\":\\\"소유기\\\"}]\"},\"teslas\":{},\"cabinets\":null,\"board\":false}],\"social\":[{\"code\":2367,\"type\":\"PC_SOCIAL_CAFE\",\"items\":{\"op\":{\"tab\":\"cafe\",\"title\":\"카페\",\"url\":\"https://top.cafe.daum.net/\"}},\"feeds\":{\"pc_social_cafe\":\"[{\\\"id\\\":\\\"cafe-humornara/5Y2/748669\\\",\\\"title\\\":\\\"중국에서 아파트 짓는 방법\\\",\\\"url\\\":\\\"https://cafe.daum.net/humornara/5Y2/748669?svc=daumapp\\\",\\\"imageUrl\\\":\\\"https://t1.daumcdn.net/section/oc/4315360d51ba48e49eb8665499453548\\\",\\\"source\\\":\\\"유머나라\\\",\\\"summary\\\":\\\"   \\\"},{\\\"id\\\":\\\"cafe-subdued20club/ReHf/3916767\\\",\\\"title\\\":\\\"오늘같은 날씨에 어울리는 창작시..twt\\\",\\\"url\\\":\\\"https://cafe.daum.net/subdued20club/ReHf/3916767?svc=daumapp\\\",\\\"imageUrl\\\":\\\"https://t1.daumcdn.net/section/oc/7becb4e90b7a456ca2833c8c05b1b815\\\",\\\"source\\\":\\\"여성시대\\\",\\\"summary\\\":\\\"출처 : https://twitter.com/rifabooo/status/1538748569066172422?s=21t=f37EB1ONuhN56iUZDWyfhA오늘 뭔가 찰떡인 시다\\\"},{\\\"id\\\":\\\"cafe-WorldcupLove/Knj/2668757\\\",\\\"title\\\":\\\"영화의 한 장면을 재현하고 싶었던 아저씨\\\",\\\"url\\\":\\\"https://cafe.daum.net/WorldcupLove/Knj/2668757?svc=daumapp\\\",\\\"imageUrl\\\":\\\"https://t1.daumcdn.net/section/oc/869caa7b84924fa389bb54837b82d423\\\",\\\"source\\\":\\\"아이러브사커\\\",\\\"summary\\\":\\\"우리는 왜 와 하면서 종이 던지는거 안해???? ㅠㅠㅠㅠ 얼마나 하고 싶으셨을까 ㅋㅋㅋㅋ 시원하게 그냥 하지\\\"},{\\\"id\\\":\\\"cafe-dotax/Elgq/3964400\\\",\\\"title\\\":\\\"빽다방에서 쫓겨나는 백종원 대표님.gif\\\",\\\"url\\\":\\\"https://cafe.daum.net/dotax/Elgq/3964400?svc=daumapp\\\",\\\"imageUrl\\\":\\\"https://t1.daumcdn.net/daumtop_chanel/tromm/20220622015906776\\\",\\\"source\\\":\\\"도탁스 (DOTAX)\\\",\\\"summary\\\":\\\"아 대표고 나발이고 머그잔 쓰라고여직원들 : 개꿀ㅋㅋㅋㅋㅋㅋㅋㅋㅋㅋㅋㅋㅋㅋㅋㅋ\\\"},{\\\"id\\\":\\\"cafe-subdued20club/ReHf/3916047\\\",\\\"title\\\":\\\"열정적인 과일가게 아저씨\\\",\\\"url\\\":\\\"https://cafe.daum.net/subdued20club/ReHf/3916047?svc=daumapp\\\",\\\"imageUrl\\\":\\\"https://t1.daumcdn.net/daumtop_chanel/tromm/20220622095207769\\\",\\\"source\\\":\\\"여성시대\\\",\\\"summary\\\":\\\"출처 : 여성시대 꺠명 https://ggoorr.net/thisthat/13609082\\\"},{\\\"id\\\":\\\"cafe-dotax/Elgq/3963987\\\",\\\"title\\\":\\\"누리호 발사 순간을 수화로 전달.gif\\\",\\\"url\\\":\\\"https://cafe.daum.net/dotax/Elgq/3963987?svc=daumapp\\\",\\\"imageUrl\\\":\\\"https://t1.daumcdn.net/section/oc/ae528eaeb4634592ac32f3af0516b1f3\\\",\\\"source\\\":\\\"도탁스 (DOTAX)\\\",\\\"summary\\\":\\\"부와 부와 부와아아아앙\\\"},{\\\"id\\\":\\\"cafe-Duckgu/D49M/201890\\\",\\\"title\\\":\\\"현재 사이클 주니어 국가대표로 인도에서 경기중인 배우 라미란 아들 경기결과 근황.jpg\\\",\\\"url\\\":\\\"https://cafe.daum.net/Duckgu/D49M/201890?svc=daumapp\\\",\\\"imageUrl\\\":\\\"https://t1.daumcdn.net/daumtop_chanel/tromm/20220622113107093\\\",\\\"source\\\":\\\"방석 위로 모여라\\\",\\\"summary\\\":\\\"출처 https://theqoo.net/2493962636단체스프린트 (팀)배준형-김근우(라미란아들)-이찬영금메달1km 독주 (개인전 경기) 은메달그와중에 라미란 아들이 1등 못해서 아쉬워하는 인스타 댓글에 엄마 라미란 댓글 \\\"},{\\\"id\\\":\\\"cafe-klovek82/5xRc/327705\\\",\\\"title\\\":\\\"누리호 중계한 MBC 아나운서 정체.jpg\\\",\\\"url\\\":\\\"https://cafe.daum.net/klovek82/5xRc/327705?svc=daumapp\\\",\\\"imageUrl\\\":\\\"https://t1.daumcdn.net/section/oc/f2662bd520fe4534a53bb46af7a2c071\\\",\\\"source\\\":\\\"울트라쇼깅\\\",\\\"summary\\\":\\\"  \\\"},{\\\"id\\\":\\\"cafe-subdued20club/ReHf/3913728\\\",\\\"title\\\":\\\"아빠가 공대생이면 생기는 문제\\\",\\\"url\\\":\\\"https://cafe.daum.net/subdued20club/ReHf/3913728?svc=daumapp\\\",\\\"imageUrl\\\":\\\"https://t1.daumcdn.net/section/oc/40de8ab4903840e9aa02e617133ae044\\\",\\\"source\\\":\\\"여성시대\\\",\\\"summary\\\":\\\"\\\"},{\\\"id\\\":\\\"cafe-subdued20club/ReHf/3916619\\\",\\\"title\\\":\\\"K-곰돌하트 갈기는 탑건 배우들.jpg\\\",\\\"url\\\":\\\"https://cafe.daum.net/subdued20club/ReHf/3916619?svc=daumapp\\\",\\\"imageUrl\\\":\\\"https://t1.daumcdn.net/daumtop_chanel/tromm/20220622114638478\\\",\\\"source\\\":\\\"여성시대\\\",\\\"summary\\\":\\\"출처 : 여성시대 (본인 닉네임).그리고 볼하트 갈기는 톰크루즈\\\"},{\\\"id\\\":\\\"cafe-cs11sz/LG19/430491\\\",\\\"title\\\":\\\"누리호 발사 가장 기쁠 사람들 ㅋㅋㅋ\\\",\\\"url\\\":\\\"https://cafe.daum.net/cs11sz/LG19/430491?svc=daumapp\\\",\\\"imageUrl\\\":\\\"https://t1.daumcdn.net/daumtop_chanel/tromm/20220622093330063\\\",\\\"source\\\":\\\"내가 아는 카페\\\",\\\"summary\\\":\\\"\\\"},{\\\"id\\\":\\\"cafe-dotax/Elgq/3962694\\\",\\\"title\\\":\\\"조나단이 학창시절 다이제 먹던 방법.gif\\\",\\\"url\\\":\\\"https://cafe.daum.net/dotax/Elgq/3962694?svc=daumapp\\\",\\\"imageUrl\\\":\\\"https://t1.daumcdn.net/section/oc/c18dbea88f6c4514bb1d2a3e5fe73271\\\",\\\"source\\\":\\\"도탁스 (DOTAX)\\\",\\\"summary\\\":\\\"\\\"},{\\\"id\\\":\\\"cafe-subdued20club/ReHf/3916536\\\",\\\"title\\\":\\\"자막으로 아무 말 대잔치\\\",\\\"url\\\":\\\"https://cafe.daum.net/subdued20club/ReHf/3916536?svc=daumapp\\\",\\\"imageUrl\\\":\\\"https://t1.daumcdn.net/section/oc/76de617c6afa49b6b4c68b02134bd407\\\",\\\"source\\\":\\\"여성시대\\\",\\\"summary\\\":\\\"출처 : 여성시대 꺠명 https://threppa.com/bbs/board.php?bo_table=0207wr_id=635186\\\"},{\\\"id\\\":\\\"cafe-cs11sz/LG19/430458\\\",\\\"title\\\":\\\"제주에서 오는 비행기에서 누리호 발사 봄.twt\\\",\\\"url\\\":\\\"https://cafe.daum.net/cs11sz/LG19/430458?svc=daumapp\\\",\\\"imageUrl\\\":\\\"https://t1.daumcdn.net/section/oc/3f4f5f2599a54217952647a8acc1522f\\\",\\\"source\\\":\\\"내가 아는 카페\\\",\\\"summary\\\":\\\"소울드레서는 우리가 만들어가는 소중한 공간입니다.댓글 작성 시 타인에 대한 배려와 책임을 다해주세요.   제주에서 오는 뱅기어서 누리호 발사 봤다? pic.twitter.com/q0S6KZTLjD B_블라썸'ㅅ' (@blossom940412) June 21, 2022        기장이 오른쪽으로 누리호가 발사되는 어쩌구 하는 안내방송을 하는 순간 옆을 보는데 하필 내가 오른쪽 창가에 앉았네ㅜ 너무 신기한 경험했다 진짜 pic.twitter.com/LTO4eiPyEs B_블라썸'ㅅ' (@blossom940412) June 21, ...\\\"},{\\\"id\\\":\\\"cafe-rocksoccer/ADs1/846761\\\",\\\"title\\\":\\\"리뷰에 소오름 돋은 사장님.jpg\\\",\\\"url\\\":\\\"https://cafe.daum.net/rocksoccer/ADs1/846761?svc=daumapp\\\",\\\"imageUrl\\\":\\\"https://t1.daumcdn.net/section/oc/373480af8ac540c7ab4aa012e9c05e47\\\",\\\"source\\\":\\\"樂soccer\\\",\\\"summary\\\":\\\"손님이 맛 감별사 ㅋㅋㅋㅋ\\\"},{\\\"id\\\":\\\"cafe-subdued20club/ReHf/3913732\\\",\\\"title\\\":\\\"공대생의 프로포즈\\\",\\\"url\\\":\\\"https://cafe.daum.net/subdued20club/ReHf/3913732?svc=daumapp\\\",\\\"imageUrl\\\":\\\"https://t1.daumcdn.net/section/oc/2534b0ef1b014eef9c706d7267e8c07e\\\",\\\"source\\\":\\\"여성시대\\\",\\\"summary\\\":\\\"\\\"},{\\\"id\\\":\\\"cafe-ok1221/9Zdf/2679897\\\",\\\"title\\\":\\\"베테랑 배우의 NG 이유\\\",\\\"url\\\":\\\"https://cafe.daum.net/ok1221/9Zdf/2679897?svc=daumapp\\\",\\\"imageUrl\\\":\\\"https://t1.daumcdn.net/section/oc/270eef3a36824925bb3f44f5686a1438\\\",\\\"source\\\":\\\"쭉빵카페\\\",\\\"summary\\\":\\\"김해숙 - 성동일 나이차 9살\\\"},{\\\"id\\\":\\\"cafe-subdued20club/ReHf/3916870\\\",\\\"title\\\":\\\"아직도 생각하면 뭉클한거 있어\\\",\\\"url\\\":\\\"https://cafe.daum.net/subdued20club/ReHf/3916870?svc=daumapp\\\",\\\"imageUrl\\\":\\\"https://t1.daumcdn.net/section/oc/1462e0bd25244e0a944a0f573af97a6f\\\",\\\"source\\\":\\\"여성시대\\\",\\\"summary\\\":\\\"출처 : https://m.cafe.daum.net/baemilytory/91cd/586592?svc=cafeapp\\\"},{\\\"id\\\":\\\"cafe-Leeandsung/EjUe/373702\\\",\\\"title\\\":\\\"빽 믿고 설치는 녀석\\\",\\\"url\\\":\\\"https://cafe.daum.net/Leeandsung/EjUe/373702?svc=daumapp\\\",\\\"imageUrl\\\":\\\"https://t1.daumcdn.net/section/oc/940f1c565f474cb5869fcc36147bf4ad\\\",\\\"source\\\":\\\"옆집 언ㄴ1\\\",\\\"summary\\\":\\\"          \\\"},{\\\"id\\\":\\\"cafe-Tlwkftlqkftlldlqkf/8vJr/648209\\\",\\\"title\\\":\\\"예능감 좋은 것 같은 안유진\\\",\\\"url\\\":\\\"https://cafe.daum.net/Tlwkftlqkftlldlqkf/8vJr/648209?svc=daumapp\\\",\\\"imageUrl\\\":\\\"https://t1.daumcdn.net/section/oc/1cf82b810da54c349841be9a83e34ff7\\\",\\\"source\\\":\\\"우리 동네 목욕탕\\\",\\\"summary\\\":\\\"출처 : 여성시대 책찢어버려\\\"}]\"},\"teslas\":{},\"cabinets\":null,\"board\":false},{\"code\":2368,\"type\":\"PC_SOCIAL_BRUNCH\",\"items\":{\"op\":{\"tab\":\"brunch\",\"title\":\"브런치\",\"url\":\"https://brunch.co.kr/\"}},\"feeds\":{\"pc_social_brunch\":\"[{\\\"id\\\":\\\"brch-6OP6-brunchbook_nursegonggong\\\",\\\"title\\\":\\\"퇴사를 꿈꾸는 간호사에게.. 1편\\\",\\\"url\\\":\\\"https://brunch.co.kr/brunchbook/nursegonggong\\\",\\\"imageUrl\\\":\\\"http://t1.daumcdn.net/brunch/service/user/6OP6/image/pAIpyCywJ7f9vISlX99XhVEiS2w.jpg\\\",\\\"source\\\":\\\"by 간호사, 공공기관 뽀개기\\\",\\\"summary\\\":null},{\\\"id\\\":\\\"brch-8vtI-brunchbook_shlockdown22\\\",\\\"title\\\":\\\"나의 봉쇄일지|머릿말 \\\",\\\"url\\\":\\\"https://brunch.co.kr/brunchbook/shlockdown22\\\",\\\"imageUrl\\\":\\\"http://t1.daumcdn.net/brunch/service/user/8vtI/image/p8vs2YstVWW2Njx5mpS4gEm6d9Y.jpg\\\",\\\"source\\\":\\\"by 나의 봉쇄일지, 상하이\\\",\\\"summary\\\":null},{\\\"id\\\":\\\"brch-8um3-brunchbook_iamworkingmom\\\",\\\"title\\\":\\\"싱글 커리어 우먼의 애엄마 관찰기\\\",\\\"url\\\":\\\"https://brunch.co.kr/brunchbook/iamworkingmom\\\",\\\"imageUrl\\\":\\\"http://t1.daumcdn.net/brunch/service/user/8um3/image/M1alMRKEIixrn_lpVE5YZQ25ssI.jpg\\\",\\\"source\\\":\\\"by 워킹맘을 디자인해드립니다.\\\",\\\"summary\\\":null},{\\\"id\\\":\\\"brch-ec8v-brunchbook_miyehppi1\\\",\\\"title\\\":\\\"[이런 날, 저런 날] 1화 파워샷\\\",\\\"url\\\":\\\"https://brunch.co.kr/brunchbook/miyehppi1\\\",\\\"imageUrl\\\":\\\"http://t1.daumcdn.net/brunch/service/user/ec8v/image/FfahXeYnZUzS43-dk_CuePhrgcA.png\\\",\\\"source\\\":\\\"by 이런 날, 저런 날 1\\\",\\\"summary\\\":null}]\"},\"teslas\":{},\"cabinets\":null,\"board\":false},{\"code\":2369,\"type\":\"PC_SOCIAL_TISTORY\",\"items\":{\"op\":{\"tab\":\"tistory\",\"title\":\"티스토리\",\"url\":\"https://www.tistory.com/\"}},\"feeds\":{\"pc_social_tistory\":\"[{\\\"id\\\":\\\"tstory-525858_2037\\\",\\\"title\\\":\\\"서울 근교 간이역 여행, 남양주 자전거길 가볼만한곳 능내역 폐역\\\",\\\"url\\\":\\\"https://shipbest.tistory.com/2037\\\",\\\"imageUrl\\\":\\\"https://t1.daumcdn.net/section/oc/13d33762781e4b1482383814962c6b6d\\\",\\\"source\\\":\\\"by 발길이 이끄는 곳으로의 사진여행\\\",\\\"summary\\\":\\\"서울 근교에 위치한 남양주는 남한강을 따라 자전거길이 잘 되어 있어 주말이나 휴일에 자전거길 코스로 가볼만한곳이기도 한데요. 남양주에는 옛 중앙선 철길이 지나던 능내역 폐역이 자리잡고 있습니다. 지금은 폐역이 되었지만, 능내역 주변으로 자전거 도로가 잘 되어 있기도 하고, 주변에 볼거리들이 많아 자전거를 타거나 드라이브를 다녀오면서 한 번쯤 들릴만한 곳이기\\\"},{\\\"id\\\":\\\"tstory-3561486_252\\\",\\\"title\\\":\\\"[강릉] 현지맛집, 옹심이 전문점 ‘강릉홍가네옹심이’\\\",\\\"url\\\":\\\"https://2nd-daughter.tistory.com/252\\\",\\\"imageUrl\\\":\\\"https://t1.daumcdn.net/section/oc/e99a08e91d824c90a56d41230a29af38\\\",\\\"source\\\":\\\"by 둘째딸의 알쓸신잡\\\",\\\"summary\\\":\\\"안녕하세요. 둘째 딸입니다. 강릉 한달살이 다녀온 거 아니냐구요? 깔깔.. 2박 3일을 너무 알차게 다녀와서.. 소개해드릴 맛집이 많을 뿐입니다. 아쉽지만 드디어 강릉 마지막 맛집! 마지막인 만큼 현지 찐 맛집으로 소개해드릴테니 기대하셔도 좋습니다! [강릉] 강릉홍가네옹심이 영업시간 월-토 : 11:00 ~ 21:00 브레이크 타임 : 15:00 ~ 17:\\\"},{\\\"id\\\":\\\"tstory-971662_888\\\",\\\"title\\\":\\\"제주도 - 수월봉과 신풍풍차해안\\\",\\\"url\\\":\\\"https://bluewindows.tistory.com/888\\\",\\\"imageUrl\\\":\\\"https://t1.daumcdn.net/section/oc/243cc26243f84b62bb93c1354409d1ed\\\",\\\"source\\\":\\\"by 파란창을 통해 보는 세상\\\",\\\"summary\\\":\\\"제주도 - 수월봉과 신풍풍차해안 수월봉은 제주도 서쪽에 위치한 작은 봉우리 입니다. 사실 수월봉 근처는 여러번 가봤는데 실제 이곳을 방문한건 이번이 처음입니다. 수월봉 정상에 오르면 작은 정자가 있습니다. [##_Image|kage@d3yIqY/btrFjXiDynE/27kVHwkACAE8ImyV1oZctK/img.jpg|CDM|1.3|{\\\\\\\"originWidt\\\"},{\\\"id\\\":\\\"tstory-2740055_186\\\",\\\"title\\\":\\\"[경대북문 이층집돈까스] 밥과 스프 무한리필에 가격도 좋은 돈까스! 치즈 쭉쭉 철판치즈돈까스&마늘간장돈까스\\\",\\\"url\\\":\\\"https://mira2017.tistory.com/186\\\",\\\"imageUrl\\\":\\\"https://t1.daumcdn.net/section/oc/169cbfde281b428fbc1c2386b40168f8\\\",\\\"source\\\":\\\"by 아무도 모르게 꼭꼭 숨어라\\\",\\\"summary\\\":\\\"회사에서 점심으로 돈까스를 워낙 자주 먹어서 외식메뉴로 돈까스를 선택하는 일이 잘 없는데 경대북문맛집 찾다가 사진이 괜찮아 보여서 오랜만에 돈까스 외식 하러 방문했다. 경대북문 먹자골목 CU편의점 2층에 있는 '이층집돈까스' 이 일대가 모두 그런것 처럼 주차장은 따로 없기 때문에 공영주차장을 이용하는게 좋다. [##_Image|kage@LeyPm/btrE3\\\"},{\\\"id\\\":\\\"tstory-1954431_460\\\",\\\"title\\\":\\\"부산 동대신동 : 시원하고 맛있는 밀면 맛집, 영남냉면밀면\\\",\\\"url\\\":\\\"https://soraing.tistory.com/460\\\",\\\"imageUrl\\\":\\\"https://t1.daumcdn.net/section/oc/00ad1f1ef79e4630b63be2323bb5110c\\\",\\\"source\\\":\\\"by 탐험하라 꿈꾸라 발견하라\\\",\\\"summary\\\":\\\"점심은 또 무얼 먹을까 고민하다가 시원한 밀면이 먹고 싶었다. 점심을 같이할 동행분께 말씀드렸더니 거리는 좀 있지만, 밀면 맛집이 있다며 데려가 주셨다. 학창 시절 내내 대신동 근처에 살았는데, 영남 밀면은 처음 들었다. 식당의 위치도 내가 잘 다니지 않던 길이기도 했다. 영남냉면밀면 위치와 주차장 정보 영남냉면밀면은 벚꽃 명소로 유명한 대신동 삼익아파트 \\\"},{\\\"id\\\":\\\"tstory-3172495_709\\\",\\\"title\\\":\\\"홈메이드 토마토소스와 생면을 사용한 라자냐 맛집 아우룸\\\",\\\"url\\\":\\\"https://good-maen.tistory.com/709\\\",\\\"imageUrl\\\":\\\"https://t1.daumcdn.net/section/oc/1a0afed91d304212ad1bcdba2fdb959d\\\",\\\"source\\\":\\\"by 오로지 내돈내먹\\\",\\\"summary\\\":\\\"오늘은 라자냐 맛집 아우룸을 소개합니다. [##_Image|kage@GIDo8/btrFpQclWMq/yopKwe9LHYhEKHef5kr4g0/img.jpg|CDM|1.3|{\\\\\\\"originWidth\\\\\\\":2250,\\\\\\\"originHeight\\\\\\\":1690,\\\\\\\"style\\\\\\\":\\\\\\\"alignCenter\\\\\\\",\\\\\\\"filename\\\\\\\":\\\\\\\"아우룸_1.jpg\\\\\\\"}_##] 이곳은 2020년 08월 1\\\"},{\\\"id\\\":\\\"tstory-926178_734\\\",\\\"title\\\":\\\"[라이프] 말리부 인근 숨은 하이킹 명소. 토팽가 캐년 룩아웃\\\",\\\"url\\\":\\\"https://calholic.tistory.com/734\\\",\\\"imageUrl\\\":\\\"https://t1.daumcdn.net/section/oc/02faa14f024c4642918cbe15d91f77de\\\",\\\"source\\\":\\\"by 캘리홀릭\\\",\\\"summary\\\":\\\"TOPANGA CANYON LOOKOUT 콘크리트 그래피티 아트 위에서 즐기는 360도 전경 [##_Image|kage@NN7Kw/btrFkWLaaOK/E9PbjFoG0dyQnBXcKHa511/img.jpg|CDM|1.3|{\\\\\\\"originWidth\\\\\\\":1280,\\\\\\\"originHeight\\\\\\\":721,\\\\\\\"style\\\\\\\":\\\\\\\"alignCenter\\\\\\\",\\\\\\\"filename\\\\\\\":\\\\\\\"Kak\\\"},{\\\"id\\\":\\\"tstory-972237_4884\\\",\\\"title\\\":\\\"잠실역 카페, 노랑노랑 산뜻한 8b 돌체(에잇비돌체)\\\",\\\"url\\\":\\\"https://perfume700.tistory.com/4884\\\",\\\"imageUrl\\\":\\\"https://t1.daumcdn.net/section/oc/4324688bb761483cab88b7673fc982c3\\\",\\\"source\\\":\\\"by 아이리스 PHOTO STORY\\\",\\\"summary\\\":\\\"잠실역 지하 카페 노랑노랑 분위기에 취하게 되는 8b DOLCE [##_Image|kage@BZEB6/btrERnXvBD2/XRyYCJntFSbvf7eg6Z5eXk/img.jpg|CDM|1.3|{\\\\\\\"originWidth\\\\\\\":1220,\\\\\\\"originHeight\\\\\\\":890,\\\\\\\"style\\\\\\\":\\\\\\\"alignCenter\\\\\\\",\\\\\\\"filename\\\\\\\":\\\\\\\"20220510_164549.jpg\\\"},{\\\"id\\\":\\\"tstory-1906081_458\\\",\\\"title\\\":\\\"탁 트인 설악산의 절경과 만나는 속초등대전망대\\\",\\\"url\\\":\\\"https://100mountain.tistory.com/458\\\",\\\"imageUrl\\\":\\\"https://t1.daumcdn.net/section/oc/47010455c4ef4680ab3106c0969c0217\\\",\\\"source\\\":\\\"by 한국 100대 명산 산행기\\\",\\\"summary\\\":\\\"1. 여행 일자 : 2018년 8월 26일 일요일 2. 여행지 : 외옹치해수욕장, 속초해수욕장 + 속초등대전망대 + 영금정 + 설악산 주전골 3. 소재지 외옹치해수욕장(강원도 속초시 대포동), 속초해수욕장(강원도 속초시 조양동, 대포동) + 속초등대전망대(강원 속초시 영금정로5길 8-28(영랑동)) + 영금정(강원도 속초시 영금정로 45(동명동) + 설악산\\\"},{\\\"id\\\":\\\"tstory-535087_272\\\",\\\"title\\\":\\\"이건 데자뷰?? Teddy Santis의 뉴발란스 M990TD2 개봉기, 사이즈 추천\\\",\\\"url\\\":\\\"https://dmwriter.tistory.com/272\\\",\\\"imageUrl\\\":\\\"https://t1.daumcdn.net/section/oc/db143c40b6d94857a5c825aee422c84a\\\",\\\"source\\\":\\\"by Mist\\\",\\\"summary\\\":\\\"코로나 시기를 겪으며 스니커신에 가장 많은 변화는 리셀가의 폭발적인 상승과, 브랜드간 활발한 콜라보를 꼽을 수 있을 것 같습니다. 스니커 브랜드들은 아이덴티티와 디자인의 외연확장을 위해 다른 패션 브랜드와의 협업에 기꺼이 손을 내밀었습니다. 나이키는 아 마 마니에르, 오프 화이트, 트래비스 스캇과의 콜라보가 폭발적인 인기를 끌었었고 [##_ImageGrid\\\"},{\\\"id\\\":\\\"tstory-578345_1243\\\",\\\"title\\\":\\\"2050 ESG 혁명\\\",\\\"url\\\":\\\"https://k50321.tistory.com/1243\\\",\\\"imageUrl\\\":\\\"https://t1.daumcdn.net/section/oc/49d065160d804012b03611c96f4333a2\\\",\\\"source\\\":\\\"by The EconoMic Person\\\",\\\"summary\\\":\\\"ESG가 뭐길래? 각 회사마다 난리다. 언제부터인가 갑자기 ESG라는 단어가 들리기 시작하더니 회사의 미래라고 난리들이 있는데 심지어 내가 다니는 회사는 TF에 부서까지 별도로 만들어 놓은 상태이다. 한편으로는 기업이라는 것이 고용과 성장을 담당하는 것이 주목적이지 않은가 생각을 하기도 했는데 다른 한편으로는 이렇게 환경도 사회도 지배구조까지도 생각을 해야\\\"},{\\\"id\\\":\\\"tstory-1660357_2327\\\",\\\"title\\\":\\\"제주와 맥주의 조합은 못 참지! 제주맥주 양조장 투어\\\",\\\"url\\\":\\\"https://www.dbblog.co.kr/2327\\\",\\\"imageUrl\\\":\\\"https://t1.daumcdn.net/section/oc/857351ed29884d45a424f156f2fd4c23\\\",\\\"source\\\":\\\"by DB 블로그\\\",\\\"summary\\\":\\\"치맥부터 피맥, 책맥, 낮맥, 혼맥까지 지금은 맥주의 전성시대에요. 52년 만에 개정된 주세법, 코로나19 영향으로 확산된 홈술 트렌드, 편의점 수제 캔맥주의 폭발적 성장 등이 복합적으로 영향을 미치면서 국산 수제 맥주는 빠르게 몸집을 키워 왔어요. 우리나라에는 100곳이 넘는 수제 맥주 브루어리가 있는데요. 브루어리 투어를 할 수 있는 곳도 점점 늘고 있\\\"},{\\\"id\\\":\\\"tstory-2966902_792\\\",\\\"title\\\":\\\"남양주 맛집 일호갈비탕 인생 갈비탕집을 만나다!\\\",\\\"url\\\":\\\"https://sesack.tistory.com/792\\\",\\\"imageUrl\\\":\\\"https://t1.daumcdn.net/section/oc/d59ef072decc4a6d93e6c18c3da9ea11\\\",\\\"source\\\":\\\"by 세싹라이프\\\",\\\"summary\\\":\\\"인생 갈비탕 살면서 정말 많은 음식들을 먹지만, 인생 맛집을 발견하는 것은 생각보다 쉽지 않다. 분명 맛있긴 한데 인생 맛집까지는 아닌 것 같고, 때로는 가격이 너무 비싸서 아쉽기도 하도, 뭔가 하나씩은 아쉬운 부분이 있는 경우가 많다. 하지만 이번에 만난 일호갈비탕집은 과연 인생 갈비탕이라고 부를만한 곳이었다. 맛과 가격, 양까지 뭐 하나 아쉬운 부분 없\\\"},{\\\"id\\\":\\\"tstory-2854108_1157\\\",\\\"title\\\":\\\"KFC 스콜쳐버거 베이직/플러스 후기\\\",\\\"url\\\":\\\"https://hse30.tistory.com/1157\\\",\\\"imageUrl\\\":\\\"https://t1.daumcdn.net/section/oc/296657703bf543d6840e40572884f938\\\",\\\"source\\\":\\\"by 정원\\\",\\\"summary\\\":\\\"KFC의 2022.06.21.(화) 신메뉴, 스콜쳐버거를 리뷰합니다. 매운 마요네즈를 넣은 닭다리살 치킨버거입니다. 참고로 scorcher는 매우 덥고 햇볕이 쨍쨍한 날을 의미합니다. 제품 정보를 보고 리뷰합니다. • 구입 당시 정가: 베이직: 단품 5,600원 / 세트 7,600원 플러스: 단품 6,500원 / 세트 8,500원 • 구입 당시 행사: 단품\\\"},{\\\"id\\\":\\\"tstory-2774252_395\\\",\\\"title\\\":\\\"얼음동동 시원한 오이냉국, 5분 뚝딱 황금레시피\\\",\\\"url\\\":\\\"https://uriphin2.tistory.com/395\\\",\\\"imageUrl\\\":\\\"https://t1.daumcdn.net/section/oc/580afe7e7dd64ebb9e8c5e740ff6e96c\\\",\\\"source\\\":\\\"by 오늘이 행복한 말리네공방\\\",\\\"summary\\\":\\\"얼음동동 시원한 오이냉국, 여름에 먹는 5분 뚝딱 황금레시피 더워지기 시작하는 이때쯤이면 싱싱한 오이로 얼음동동 띄워 만드는 오이냉국이 참 맛있습니다. 아삭아삭한 오이는 수분이 많아 갈증을 해소시켜주면서 냉국에 들어가는 짭짤한 양념이 땀이 많이 나는 여름에 부족한 미네랄까지 보충해주니 일석이조인 음식이지요. [##_Image|kage@dnaBQR/btrFm\\\"},{\\\"id\\\":\\\"tstory-826196_3815\\\",\\\"title\\\":\\\"초당옥수수 먹는법, 생으로, 초당옥수수 찌는법 삶는법\\\",\\\"url\\\":\\\"https://ggoms.tistory.com/3815\\\",\\\"imageUrl\\\":\\\"https://t1.daumcdn.net/section/oc/52f4ef7edb10433f9c8405db2d4b3fdc\\\",\\\"source\\\":\\\"by 씽씽 라이프\\\",\\\"summary\\\":\\\"옥수수를 좋아하지만 집에서 삶아 먹기는 귀찮아 삶은 옥수수 사다가 자주 먹는 편입니다. 그런데 이번에는 생으로 먹어도 맛있다는 초당 옥수수를 구입해 봤습니다. 초당옥수수 먹는 방법, 초당옥수수 찌는법, 삶는법 초당 옥수수예요. 처음에는 초당이란 게 지역 이름인가 했어요. 그런데 알고 보니 일반 옥수수에 비해 당도가 높다고 해서 초당이라는 이름이 붙여졌다고 \\\"},{\\\"id\\\":\\\"tstory-457261_2652\\\",\\\"title\\\":\\\"강화도 밀크닉 : 기분 좋아지는 강화 디저트 카페\\\",\\\"url\\\":\\\"https://geniusjw.com/2652\\\",\\\"imageUrl\\\":\\\"https://t1.daumcdn.net/section/oc/02e7c2a238b446f08a31ee2fe29bb749\\\",\\\"source\\\":\\\"by GeniusJW\\\",\\\"summary\\\":\\\"여러분 안녕하세요, GeniusJW 입니다. 오늘은 강화도의 분위기 좋은 디저트 카페 <밀크닉> 리뷰입니다. 강화도 밀크닉은 그린망고(@greenmango_styling) 사장님의 소개로 방문하게 된 가게인데, 깔끔하고 아늑한 인테리어는 기본이고, 카페 사장님이 굉장히 친절하시고 밝은 성격을 지닌 분이라 방문하면 저절로 기분이 좋아지는 카페였습니다. [##\\\"},{\\\"id\\\":\\\"tstory-3796749_248\\\",\\\"title\\\":\\\"건대입구역 해룡마라룽샤 가재꼬리 마파두부 볶음밥 가격 주말 방문 후기\\\",\\\"url\\\":\\\"https://likeapricot.tistory.com/248\\\",\\\"imageUrl\\\":\\\"https://t1.daumcdn.net/section/oc/bcd1b73a28f94bdca3bcf3abcb48078c\\\",\\\"source\\\":\\\"by 살구로그\\\",\\\"summary\\\":\\\"해룡마라룽샤 [##_Image|kage@ciCqZJ/btrFooHTaJt/wF1EuGCF2MMzULGfohG6Fk/img.jpg|CDM|1.3|{\\\\\\\"originWidth\\\\\\\":3024,\\\\\\\"originHeight\\\\\\\":4032,\\\\\\\"style\\\\\\\":\\\\\\\"alignCenter\\\\\\\",\\\\\\\"filename\\\\\\\":\\\\\\\"KakaoTalk_20220621_225532204_02.jpg\\\\\\\"}_##] 진짜 오\\\"},{\\\"id\\\":\\\"tstory-2203350_1935\\\",\\\"title\\\":\\\"더러운 포장용기 '이것' 넣고 흔들었더니 결과는 대박\\\",\\\"url\\\":\\\"https://automobility.tistory.com/1935\\\",\\\"imageUrl\\\":\\\"https://t1.daumcdn.net/section/oc/f365a7a3d7164e138b95682f6e9e67d1\\\",\\\"source\\\":\\\"by 모빌리티 쿡팁(Mobility COOKTIP)\\\",\\\"summary\\\":\\\"안녕하세요. 쿡앤팁 인사드릴게요. 코로나 19는 이젠 위드 코로나로 정착되어 가는 것 같아요. (with Corona) 그래도 배달음식은 여전히 주문을 하게 되는 것 같아요. 배달시 담겨온 포장용기가 배달음식마다 다르지만 튼튼해서 재활용 하고 싶을 때 있죠 막상 주방세제를 활용해 씻어내려고 해도 수세미가 오염이 되어 수세미를 버리게 되더군요. [##_Ima\\\"},{\\\"id\\\":\\\"tstory-293374_802\\\",\\\"title\\\":\\\"역대급 가성비 노트북 - HP 슬림 노트북 14s-fq2020AU\\\",\\\"url\\\":\\\"https://dsct1472.tistory.com/802\\\",\\\"imageUrl\\\":\\\"https://t1.daumcdn.net/section/oc/a59671cfac804441b7f429577a004667\\\",\\\"source\\\":\\\"by Logs Of Life\\\",\\\"summary\\\":\\\"안 살 수가 없다. 매년 때가 되면 행사를 하는 지마켓. 빅스마일데이라는 이름이 무색하게 싸고 좋은 제품을 만나기는 쉽지 않습니다. 올해도 그냥 하나보다 하고 넘기려는데 알뜰 구매 게시판에 노트북이 하나 올라왔는데 구매를 참기가 어려웠습니다. hp에서 나온 14인치 노트북인데 AMD의 라이젠5 CPU/8GB Ram/256GB SSD/1.4Kg이라는 스펙이었\\\"}]\"},\"teslas\":{},\"cabinets\":null,\"board\":false},{\"code\":2370,\"type\":\"PC_SOCIAL_KAKAOSTORY\",\"items\":{\"op\":{\"tab\":\"kakaostory\",\"title\":\"카카오스토리\",\"url\":\"https://story.kakao.com/\"}},\"feeds\":{\"pc_social_kakaostory\":\"[{\\\"id\\\":\\\"story-68884629_108517235772181750\\\",\\\"title\\\":\\\"순식간에 만드는 제육볶음\\\",\\\"url\\\":\\\"https://story.kakao.com/ch/cookpia/f9SMu2UP34A\\\",\\\"imageUrl\\\":\\\"https://t1.daumcdn.net/daumtop_chanel/tromm/20220622114456718\\\",\\\"source\\\":\\\"요리연구가 이보은\\\",\\\"summary\\\":\\\"특별한 일이 없으면 \\\\n거의 매일 제 스튜디오에서 \\\\n점심을 먹습니다.\\\\n메뉴개발한 음식들도 점검차 먹지만\\\\n그냥 한끼 떼우자 할 때 보다는\\\\n뭔가 만들어 먹자 하면서 직원들을 한가지라도 \\\\n배우게 하는 경우가 많지요.\\\\n\\\\n그래서 제육볶음도\\\\n울 직원들 솜씨랍니다.\\\\n\\\\n가끔  #쿡피아유튜브  에 \\\\n올려져 있는\\\\n메뉴들중 하나를 골라서 \\\\n점심 메뉴로 선택해서\\\\n먹기도 합니다.\\\\n\\\\n제육한상 - 바로 제육볶음이지요. \\\\n\\\\n앞다리살과 삼겹살을 섞어서\\\\n기름가 많은 것을 줄이고\\\"},{\\\"id\\\":\\\"story-73850617_108519123347143607\\\",\\\"title\\\":\\\"아빠와의 결혼을 결심하게 되는 순간\\\",\\\"url\\\":\\\"https://story.kakao.com/ch/funnybro/iJSSYh5b55a\\\",\\\"imageUrl\\\":\\\"https://t1.daumcdn.net/daumtop_chanel/tromm/20220622023049438\\\",\\\"source\\\":\\\"웃기는 친구\\\",\\\"summary\\\":\\\"귀요미~ㅎㅎㅎㅎㅎㅎ \\\\n\\\\n\\\\n\\\\n\\\\n #유머   #웃기는친구  \\\\n출처 : 다음카페 이종격투기\\\"},{\\\"id\\\":\\\"story-89532167_108514286775517781\\\",\\\"title\\\":\\\"전전남친 꾸준히 잘 지내냐고 연락오는데\\\",\\\"url\\\":\\\"https://story.kakao.com/ch/today_issue/03n5a4wt120\\\",\\\"imageUrl\\\":\\\"https://t1.daumcdn.net/daumtop_chanel/tromm/20220622102451077\\\",\\\"source\\\":\\\"오늘의이슈\\\",\\\"summary\\\":\\\"잘지내 로봇인가 ㅋㅋㅋㅋㅋㅋㅋ \\\\n\\\\n\\\\n\\\\n\\\\n #유머   #오늘의이슈  \\\\n출처 : 더쿠\\\"},{\\\"id\\\":\\\"story-88692060_108518136749871494\\\",\\\"title\\\":\\\"직장인 도시락, 두부상추샌드위치 만들기\\\",\\\"url\\\":\\\"https://story.kakao.com/duckhee79/eUx8BKQX34A\\\",\\\"imageUrl\\\":\\\"https://t1.daumcdn.net/daumtop_chanel/tromm/20220622114602454\\\",\\\"source\\\":\\\"더키\\\",\\\"summary\\\":\\\"#점심   #점심도시락   #직장인도시락   #저당질도시락   #샌드위치   #상추   #성필립보생태마을   #친환경상추 \\\\n #적양파   #참외 #불볕더위   #대구는이미여름   \\\\n #한국   #korea   #대구   #daegu  \\\\n\\\\n 딩동 딩동 \\\\n\\\\n 우리밀 통밀식빵으로 만든 \\\\n\\\\n 친환경 무농약 상추 가득 ⛰\\\\n\\\\n 욕망의 \\\\n\\\\n 두부상추샌드위치가 \\\\n\\\\n 수요 점심메뉴로 \\\\n\\\\n 도착했습니다 ?‍♀️\\\\n\\\\n 오\\\"},{\\\"id\\\":\\\"story-73850617_108517944230813223\\\",\\\"title\\\":\\\"갈 데 까지 간 동숲.jpg\\\",\\\"url\\\":\\\"https://story.kakao.com/ch/funnybro/jQetFGeW45a\\\",\\\"imageUrl\\\":\\\"https://t1.daumcdn.net/daumtop_chanel/tromm/20220622091607997\\\",\\\"source\\\":\\\"웃기는 친구\\\",\\\"summary\\\":\\\"모여봐요 누룽지백숙의 숲 \\\\n\\\\n\\\\n\\\\n\\\\n #유머   #웃기는친구  \\\\n출처 : cooru58 님의 트위터\\\"},{\\\"id\\\":\\\"story-89532167_108513107260310727\\\",\\\"title\\\":\\\"에어컨 설치했는데 멀티탭 긴게 없어서\\\",\\\"url\\\":\\\"https://story.kakao.com/ch/today_issue/hO0knN0k34a\\\",\\\"imageUrl\\\":\\\"https://t1.daumcdn.net/daumtop_chanel/tromm/20220621013921797\\\",\\\"source\\\":\\\"오늘의이슈\\\",\\\"summary\\\":\\\"?? : 놓지마... 꽉잡아... \\\\n\\\\n\\\\n\\\\n\\\\n #유머   #오늘의이슈  \\\\n출처 : hamjizang_ 님의 트위터\\\"},{\\\"id\\\":\\\"story-72047916_108514166737649892\\\",\\\"title\\\":\\\"풋사과 맞이할 준비 하자~ 풋사과에이드 레시피 \\\",\\\"url\\\":\\\"https://story.kakao.com/ch/cbydpodo/6POHk1sSz19\\\",\\\"imageUrl\\\":\\\"https://t1.daumcdn.net/daumtop_chanel/tromm/20220622095534214\\\",\\\"source\\\":\\\"과일나라영동\\\",\\\"summary\\\":\\\"올여름 풋사과 맞이할 준비 제대로 해줘야쥐 \\\\n상콤 터지는~! #풋사과에이드 레시피 \\\\n\\\\n시원하게 한잔 먹으면 더위 싹 가신다구~~\\\\n미리미리 레시피 익혀두고 꼭 해먹기 약속 \\\\n\\\\n@@ 영동하면 사과! 사과하면 영동! ㅎ_ㅎ\\\\n\\\\n#영동과일 #영동과일나라 #풋사과에이드 #사과청 #풋사과 #과일디저트 #충북영동 #요리스타그램 #맛스타그램 #먹스타그램\\\"},{\\\"id\\\":\\\"story-78980134_108516832302092133\\\",\\\"title\\\":\\\"향긋한 바질페스토 만들기\\\",\\\"url\\\":\\\"https://story.kakao.com/bimil9627/0LDApnqL230\\\",\\\"imageUrl\\\":\\\"https://t1.daumcdn.net/daumtop_chanel/tromm/20220622114409664\\\",\\\"source\\\":\\\"지현이\\\",\\\"summary\\\":\\\"바질페스토 만들기\\\\n\\\\n\\\\n\\\\n\\\\n준비재료 :\\\\n\\\\n바질 : 신선한 무농약\\\\n볶은잣 : 신선한 국내산 프리미엄 파인 유\\\\n파르미지아노치즈 : (원재료:우유) 질 좋은 치즈\\\\n페코리노치즈 : (원재료: 양젖) \\\\n엑스트라버진 올리브오일 : 로렌조 N’3 N’5\\\\n마늘 : 의성 육쪽마늘\\\\n레몬즙\\\\n후추 : 통후추 갈아서 넣음\\\\n소금 : 말돈 소금\\\\n\\\\n\\\\n바질 50그램 기준으로 ~\\\\n잣 : 30g\\\\n파마산치즈 : 50g\\\\n페코리노치즈 : 50g\\\\n올리브오일 : 50g\\\\n마늘 : 2~3\\\"},{\\\"id\\\":\\\"story-88692060_108497665181690774\\\",\\\"title\\\":\\\"신상 참외 샌드위치 만들기\\\",\\\"url\\\":\\\"https://story.kakao.com/duckhee79/FUkEYVD7y3A\\\",\\\"imageUrl\\\":\\\"https://t1.daumcdn.net/daumtop_chanel/tromm/20220621014033796\\\",\\\"source\\\":\\\"더키\\\",\\\"summary\\\":\\\"#참외샐러드   #샐러드   #산딸기   #참외  \\\\n\\\\n 참외 속씨를 제거한 후\\\\n\\\\n 얇게 슬라이스 해준 뒤\\\\n\\\\n  레몬소스 와 올리브유 \\\\n\\\\n 핑크솔트, 후추 약간을 뿌려주세요?\\\\n\\\\n 산딸기도 살짝 올려주면\\\\n\\\\n 요즘 핫한 \\\\n\\\\n 신상 참외샐러드  완성 \\\"},{\\\"id\\\":\\\"story-84589488_108514665820423188\\\",\\\"title\\\":\\\"올여름 인생샷은 목포에서!\\\",\\\"url\\\":\\\"https://story.kakao.com/ch/mokpocity/3NVVeTlwz19\\\",\\\"imageUrl\\\":\\\"https://t1.daumcdn.net/daumtop_chanel/tromm/20220622023738183\\\",\\\"source\\\":\\\"목포시청\\\",\\\"summary\\\":\\\"우와 여름이다\\\\n\\\\n여름하면 바다, 바다하면 목포\\\\n요즘 여름 여행지로 떠오르는\\\\n유달유원지로 놀러오세요\\\\n\\\\n알록달록 포토스팟도 많아 사진도 잘 나오는데요!\\\\n유달유원지에서 사진찍으면 무조건 인생샷\\\\n\\\\n위치 : 유달유원지(목포시 해양대학로 59)\\\\n\\\\n#목포 #목포시 #목포여행 #목포관광\\\\n#목포가볼만한곳 #대반동 #유달유원지\\\"},{\\\"id\\\":\\\"story-68992717_108518772947076407\\\",\\\"title\\\":\\\"송도 주말 핫플! 인천 송도시장\\\",\\\"url\\\":\\\"https://story.kakao.com/ch/icmukbbang/JGiTfYw755a\\\",\\\"imageUrl\\\":\\\"https://t1.daumcdn.net/daumtop_chanel/tromm/20220622023056818\\\",\\\"source\\\":\\\"인천맛집\\\",\\\"summary\\\":\\\"⭐️주말에 송트리를 가야하는EU⭐️\\\\n쫀맛 푸드트럭에 플리마켓까지!! 미춌따링!\\\\n볼거리 먹거리 한번에 충족하러 떠나쟈!!\\\\n@@주말에 같이가실?!!?٩( °ꇴ °)۶\\\\n-\\\\n#송도시장 \\\\n기간: 금토일\\\\n장소: A동 광장, A동 스타벅스 앞\\\\nBㆍC 동 메인스트리트, AB동 지하통로\\\\n\\\\n#푸드트럭\\\\n기간: 토일\\\\n장소: D동 광장\\\\n\\\\n #트리플스트리트   #송도트리플스트리트   #플리마켓   #송도맘   #송도핫플   #인천\\\"},{\\\"id\\\":\\\"story-45483586_108517944320012535\\\",\\\"title\\\":\\\"개운한 오이와 새콤한 양념 오이깍두기\\\",\\\"url\\\":\\\"https://story.kakao.com/ch/ebsstory/hD95gJeW45a\\\",\\\"imageUrl\\\":\\\"https://t1.daumcdn.net/daumtop_chanel/tromm/20220622094401000\\\",\\\"source\\\":\\\"EBS 스토리\\\",\\\"summary\\\":\\\"너무 더워서일까요? 오이 요리가 눈에 자꾸 띄네요. \\\\n여름철 반찬으로 제격인 오이깍두기. 오늘 반찬으로 먹고 싶어요 ^^\\\\n\\\\n■ 주재료: 오이(2개), 소금(1T), 설탕(½T), 영양 부추(15g)\\\\n\\\\n■ 양념재료: 고춧가루(2T), 매실청(1T), 다진 마늘(½T), 깨소금(½T), 새우젓(½T), 멸치액젓(½T)\\\\n\\\\n■ 요리 순서\\\\n1. 오이(2개) 반으로 썰어 4등분한 뒤 씨 제거하고 먹기 좋은 크기로 썰기\\\\n2. 오이에 소금(1T), 설탕(½T\\\"},{\\\"id\\\":\\\"story-86248334_108519672087488884\\\",\\\"title\\\":\\\"동전 양동이 몰카\\\",\\\"url\\\":\\\"https://story.kakao.com/ch/hakuni/2QuDFfQe229\\\",\\\"imageUrl\\\":\\\"https://t1.daumcdn.net/daumtop_chanel/tromm/20220622041916238\\\",\\\"source\\\":\\\"그냥웃자\\\",\\\"summary\\\":\\\"\\\"},{\\\"id\\\":\\\"story-89532167_108512871099164502\\\",\\\"title\\\":\\\"시험 전날이라고 급식에 암기빵 나옴\\\",\\\"url\\\":\\\"https://story.kakao.com/ch/today_issue/F3tgBtZh23A\\\",\\\"imageUrl\\\":\\\"https://t1.daumcdn.net/daumtop_chanel/tromm/20220621014148343\\\",\\\"source\\\":\\\"오늘의이슈\\\",\\\"summary\\\":\\\"귀여워~ㅎㅎㅎㅎㅎㅎ \\\\n\\\\n\\\\n\\\\n\\\\n #유머   #오늘의이슈  \\\\n출처 : 인스티즈\\\"},{\\\"id\\\":\\\"story-70768867_108514600164992519\\\",\\\"title\\\":\\\"태안에서 체험하는 바지락 캐기\\\",\\\"url\\\":\\\"https://story.kakao.com/ch/taeangun/iJ9h6Aix34a\\\",\\\"imageUrl\\\":\\\"https://t1.daumcdn.net/daumtop_chanel/tromm/20220622023832575\\\",\\\"source\\\":\\\"태안군\\\",\\\"summary\\\":\\\"태안 황도 바지락 유어 체험장\\\\n@바지락 캐기 하러 가자!⛏\\\\n⠀\\\\n 블로그에서 자세히 보기 : https://bit.ly/3OrdQrR\\\\n⠀ \\\\n #태안   #태안여행   #국내여행   #황도바지락유어체험장   #물때표보는법 \\\\n⠀\\\\n──────────────\\\\n삶의 희망이 보이지 않을 때 고민말고 연락주세요\\\\n✔자살예방 상담전화 ☎ 1393\\\\n\\\"},{\\\"id\\\":\\\"story-32302513_108509470489485989\\\",\\\"title\\\":\\\"서로 찰떡궁합인 제육볶음과 애호박부침개\\\",\\\"url\\\":\\\"https://story.kakao.com/ddaldulmom/ABARdv6iz20\\\",\\\"imageUrl\\\":\\\"https://t1.daumcdn.net/daumtop_chanel/tromm/20220622114221456\\\",\\\"source\\\":\\\"딸둘맘\\\",\\\"summary\\\":\\\"제육볶음과 애호박부침개.\\\\n\\\\n오늘 저녁반찬.\\\\n\\\\n아침에 고추장양념에 재워둔 돼지고기 뒷다리살.\\\\n살코기라 퍽퍽하지만 기름기가 적어서 애용한다.\\\\n비계가 있어야 부드럽고 고소하다며 애정하는 짝꿍은 불만이지만..?\\\\n\\\\n제육볶음.\\\\n돼지고기뒷다리살+고추장+두반장+맛술+도라지조청+양파+포도씨유+대파.\\\\n인내하며 양파를 카라멜색상이 되도록 볶아준 다음에 고기를 볶아주니 맛있네.\\\\n\\\\n애호박부침개.\\\\n애호박채+부침가루+연두+물.\\\\n동그란 애호박전은 부침옷이 안 벗겨\\\"},{\\\"id\\\":\\\"story-75487576_108517944446406085\\\",\\\"title\\\":\\\"대둔산 수락계곡 여름 명소 탐방\\\",\\\"url\\\":\\\"https://story.kakao.com/ch/nonsancity/CWuGwMdV230\\\",\\\"imageUrl\\\":\\\"https://t1.daumcdn.net/daumtop_chanel/tromm/20220622023354355\\\",\\\"source\\\":\\\"논산시\\\",\\\"summary\\\":\\\"대둔산 속 수락계곡 곳곳에는\\\\n더위를 잊게 하는 여름 명소들이 가득\\\\n\\\\n보기만 해도 시원~~한 대둔산 수락계곡의 명소들✨\\\\n이번 여름, 수락계곡 추천\\\\n\\\\n⭐높은 경사, 물놀이 중 미끄럼과 깊은 수심 주의는 필수❗❗ 아시죠⁉ \\\\n\\\\n #논산   #논산시   #대둔산   #수락계곡   #논산계곡   #계곡추천   #계곡나들이   #논산나들이   #여름여행지  \\\"},{\\\"id\\\":\\\"story-73850617_108514405461174198\\\",\\\"title\\\":\\\"액자는 왔지만 내용물이 아직 안온경우\\\",\\\"url\\\":\\\"https://story.kakao.com/ch/funnybro/FZN1FOzV23A\\\",\\\"imageUrl\\\":\\\"https://story-img.kakaocdn.net/dn/bVySNz/hyOQoJZNG5/gaoDYm0Cky1fNc9k3FTrlk/img.jpg?width=1080&height=993&avg=%2523c6c7c9&v=2\\\",\\\"source\\\":\\\"웃기는 친구\\\",\\\"summary\\\":\\\"왕꾸 ㅋㅋㅋㅋㅋ 이쁘다! \\\\n\\\\n\\\\n\\\\n\\\\n #유머   #웃기는친구  \\\\n출처 : D0___B 님의 트위터\\\"},{\\\"id\\\":\\\"story-12349700_108507415740925892\\\",\\\"title\\\":\\\"신사동 오마카세, 스시키레이 \\\",\\\"url\\\":\\\"https://story.kakao.com/1wns9665/4Ak9mzwuy19\\\",\\\"imageUrl\\\":\\\"https://t1.daumcdn.net/daumtop_chanel/tromm/20220622114747930\\\",\\\"source\\\":\\\"강혁준\\\",\\\"summary\\\":\\\"서울. 강남. 신사동에 위치한  #스시키레이 . since2022. 런치 오마카세(11만원). 돌문어와 전복을 시작으로 모나카 위에 요플레와 섞은 크리미한 아귀간에 다진 참외를 올려 팥앙금같이 부드럽고 달콤. 아귀튀김은 소금에 살짝 찍어 크리스피하면서 육즙이 넘치는 맛. 잡내 1도 없이 달큰 깨끗하게 우려낸 조개미역국. 광어, 참돔, 한치, 줄무늬 전갱이, 참치, 농어, 장어 등 클래식 코스. 기본에 충실한 구성과 맛. 쌀알 하나하나 살아있는 \\\"},{\\\"id\\\":\\\"story-72388652_108519307678074628\\\",\\\"title\\\":\\\"밥 말아먹자! 착한가격업소 국물편\\\",\\\"url\\\":\\\"https://story.kakao.com/ch/banbiraeyo/41HkomDb229\\\",\\\"imageUrl\\\":\\\"https://t1.daumcdn.net/daumtop_chanel/tromm/20220622022721531\\\",\\\"source\\\":\\\"강원도\\\",\\\"summary\\\":\\\"국물에 밥 말아먹어~ 한 끼 뚝딱!\\\\n국물편! 착한가격업소\\\\n\\\\n바쁜 현대인들에게 한 끼 식사로\\\\n국물만 한 게 없지!! \\\\n더운 여름, 모두들 국물요리로  몸보신하세요\\\\n\\\\n✅꺽다리와아줌마\\\\n강원도 강릉시 하슬라로206번길7-1\\\\n갈비탕 : 5,000원\\\\n\\\\n✅바다내음\\\\n강원도 삼척시 남양길 25(남양동)\\\\n동태알탕 : 7,000원\\\\n\\\\n✅가원\\\\n강원도 삼척시 근덕면 교가길 22-13\\\\n사골곰탕 : 8,000원\\\\n\\\\n\\\\n✅안동장터국밥\\\\n강원도 삼척시 정상안1길 \\\"}]\"},\"teslas\":{},\"cabinets\":null,\"board\":false}],\"channel\":[{\"code\":2388,\"type\":\"PC_CHANNEL_HOMECOOKING\",\"items\":{\"op\":{\"title\":\"홈&쿠킹\",\"url\":null}},\"feeds\":{\"pc_channel_homecooking\":\"[{\\\"id\\\":\\\"tstory-2203350_1935\\\",\\\"title\\\":\\\"더러운 포장용기 '이것' 넣고 흔들었더니 결과는 대박\\\",\\\"url\\\":\\\"https://automobility.tistory.com/1935\\\",\\\"imageUrl\\\":\\\"https://t1.daumcdn.net/section/oc/f365a7a3d7164e138b95682f6e9e67d1\\\",\\\"source\\\":\\\"티스토리 · 모빌리티 쿡팁(Mobility COOKTIP)\\\",\\\"desc\\\":\\\"안녕하세요. 쿡앤팁 인사드릴게요. 코로나 19는 이젠 위드 코로나로 정착되어 가는 것 같아요. (with Corona) 그래도 배달음식은 여전히 주문을 하게 되는 것 같아요. 배달시 담겨온 포장용기가 배달음식마다 다르지만 튼튼해서 재활용 하고 싶을 때 있죠 막상 주방세제를 활용해 씻어내려고 해도 수세미가 오염이 되어 수세미를 버리게 되더군요. [##_Ima\\\",\\\"icon\\\":\\\"IMAGE\\\"},{\\\"id\\\":\\\"hamny-E8VQ5rEp6C\\\",\\\"title\\\":\\\"좁은 방, '이것'을 만들어 공간 분리 했더니.. 작업실이 생겼다!!\\\",\\\"url\\\":\\\"https://content.v.daum.net/v/E8VQ5rEp6C\\\",\\\"imageUrl\\\":\\\"https://t1.daumcdn.net/news/202206/22/ohouse/20220622004812290kztb.png\\\",\\\"source\\\":\\\"오늘의집\\\",\\\"desc\\\":\\\"오늘의집 @mi.me_mi 님의 집들이입니다. ✨인테리어 제보는 인스타그램 @todayhouse 안녕하세요! 미메미라고 합니다. 이렇게 만나 뵙게 되어서 반가워요. 저는 방에서 일하고 놀고 자는 진성 집순이입니다(당당) 다섯 마리의 고양이를 키우는 집사이자 바느질로 생계를 이어나가고 있는 프로 삯바느질러이기도 해요. 바느질을 하게 되면서 집을 일터로 삼\\\",\\\"icon\\\":\\\"IMAGE\\\"},{\\\"id\\\":\\\"hamny-EmrBYIdNy7\\\",\\\"title\\\":\\\"이번 여름, 비치 하우스와 어울리는 요리와 오브제 추천\\\",\\\"url\\\":\\\"https://content.v.daum.net/v/EmrBYIdNy7\\\",\\\"imageUrl\\\":\\\"https://t1.daumcdn.net/daumtop_chanel/tromm/20220622035102028\\\",\\\"source\\\":\\\"노블레스\\\",\\\"desc\\\":\\\"Greek Salad and Pita Bread with Hummus 그릭 샐러드와 후무스를 곁들인 피타 브레드 여름과 잘 어울리는 그릭 샐러드. 여름 채소인 토마토와 신선한 올리브, 짭조름한 풍미를 더하는 페타 치즈는 그릭 샐러드에서 빠질 수 없는 재료다. 여기에 포도와 아보카도, 부라타 치즈를 더해 풍성함을 살렸다. 함께 낸 중동식 빵인 둥글 넙적한\\\",\\\"icon\\\":\\\"IMAGE\\\"},{\\\"id\\\":\\\"brch-daFU-24\\\",\\\"title\\\":\\\"내 주방엔 백종원이 사나요?\\\",\\\"url\\\":\\\"https://brunch.co.kr/@@daFU/24\\\",\\\"imageUrl\\\":\\\"https://t1.daumcdn.net/section/oc/e1cdebe04a0a457b9f8a40d9088826c1\\\",\\\"source\\\":\\\"브런치 by 아이스블루\\\",\\\"desc\\\":\\\"나의 주방엔 없는 것이 없었다. 심지어 이름도 생소한 토마토 필러와 레몬 스퀴저까지 구비해놨었으니까... 그런데 난 이 물건들을 구입한 후 딱 한 번 쓴 것을 끝으로 10년간 한 번도 쓰지 않았다. 토마토와 레몬을 요리에 자주 활용하지 않은 이유도 있었지만 토마토 껍질은 끓는 물에 데쳐 벗기면 수월했고, 레몬즙은 마트에서 사다 먹는 게 더 깔끔했기 때문에 \\\",\\\"icon\\\":\\\"IMAGE\\\"},{\\\"id\\\":\\\"hamny-E72TByU37y\\\",\\\"title\\\":\\\"모기에게 잘 물리거나 붓는다면 '이것' 해라\\\",\\\"url\\\":\\\"https://content.v.daum.net/v/E72TByU37y\\\",\\\"imageUrl\\\":\\\"https://t1.daumcdn.net/news/202206/21/dailylife/20220621015301894jqn2.jpeg\\\",\\\"source\\\":\\\"데일리\\\",\\\"desc\\\":\\\"스키터증후군을 아시나요?\\\",\\\"icon\\\":\\\"IMAGE\\\"},{\\\"id\\\":\\\"brch-dba0-68\\\",\\\"title\\\":\\\"태도가 달라지니, '돈'이 생기다니.\\\",\\\"url\\\":\\\"https://brunch.co.kr/@@dba0/68\\\",\\\"imageUrl\\\":\\\"https://t1.daumcdn.net/section/oc/8dd31eaaa70341268645bdb4c78bb56a\\\",\\\"source\\\":\\\"브런치 by 꿈을꾸다\\\",\\\"desc\\\":\\\"미니멀 라이프 도전을 시작하고 난 뒤, 나의 태도가 달라지고 ‘돈’이 생기기 시작했다. 이 돈은 눈에 보이는 실질적인 ‘돈’이 쌓이기도 했지만, 쓰지 않아서 쌓이는 ‘돈’도 있었다. 미니멀 라이프를 한다고 해서 무조건 ‘돈’을 쓰지 않는 것도 아니고, ‘돈’이 생기는 것도 아니다. 그러나 ‘물건’과 ‘일상’에 대한 태도의 변화는 분명히 ‘돈’의 흐름에도 영\\\",\\\"icon\\\":\\\"IMAGE\\\"},{\\\"id\\\":\\\"brch-9Cqs-327\\\",\\\"title\\\":\\\"시험기간에 싸주는 월남쌈\\\",\\\"url\\\":\\\"https://brunch.co.kr/@@9Cqs/327\\\",\\\"imageUrl\\\":\\\"https://t1.daumcdn.net/section/oc/19e2a3b0bf3d409bb894174ca4d345d0\\\",\\\"source\\\":\\\"브런치 by 별님 이민숙\\\",\\\"desc\\\":\\\"필기구덕후, 볼펜, 샤프며 각종 필기구를 꺼내서 하나하나 정리를 하는 딸, 시험기간이어서 그렇다. 안하던 화분에 분갈이를 하는 딸은 지금이 시험기간이어서 그렇다. 안치던 피아노 앞에서 띵똥거리면서 피아노를 치는건 딸이 시험기간이라서 그렇다. 딸은 시험이 다가오면 책상을 정리하고 화장실 수납장의 도구들을 정리하면서 \\\\\\\"엄마 시험이 다가오니 이러고 있네요. 내가\\\",\\\"icon\\\":\\\"IMAGE\\\"},{\\\"id\\\":\\\"hamny-E9KlU7s8F1\\\",\\\"title\\\":\\\"멀리 휴가 갈 필요 없어요! 도심 속 복층 테라스에 둘만의 '피서지'를 꾸민 신혼집\\\",\\\"url\\\":\\\"https://content.v.daum.net/v/E9KlU7s8F1\\\",\\\"imageUrl\\\":\\\"https://t1.daumcdn.net/news/202206/22/ggumigi/20220622140018364yjku.jpg\\\",\\\"source\\\":\\\"집꾸미기\\\",\\\"desc\\\":\\\"@집꾸미기들쑥날쑥4232님의 공간입니다\\\",\\\"icon\\\":\\\"IMAGE\\\"}]\",\"homecooking_best_new_tiara\":\"[{\\\"id\\\":\\\"hamny-EttfGQoGeW\\\",\\\"title\\\":\\\"국내 여행에서 가볼만한 재래시장 1위\\\",\\\"url\\\":\\\"https://content.v.daum.net/v/EttfGQoGeW\\\",\\\"imageUrl\\\":\\\"https://t1.daumcdn.net/news/202206/17/realfood/20220617224704382cgse.jpeg\\\"},{\\\"id\\\":\\\"tstory-1938581_2737\\\",\\\"title\\\":\\\"물을 얼릴 때 100명중 99명이 저지르는 실수!\\\",\\\"url\\\":\\\"https://kokone.co.kr/2737\\\",\\\"imageUrl\\\":\\\"https://t1.daumcdn.net/section/oc/08c54499c2674267a74f6df3d010857d\\\"},{\\\"id\\\":\\\"hamny-EJ1J6uEHnN\\\",\\\"title\\\":\\\"33평에서 23평으로.. 좁은 평수 이사, '이렇게' 했더니.. 대박!\\\",\\\"url\\\":\\\"https://content.v.daum.net/v/EJ1J6uEHnN\\\",\\\"imageUrl\\\":\\\"https://t1.daumcdn.net/news/202206/17/ohouse/20220617040010428ch45.png\\\"},{\\\"id\\\":\\\"brch-6qvt-133\\\",\\\"title\\\":\\\"뱅갈 고무나무에 싹이 나다.\\\",\\\"url\\\":\\\"https://brunch.co.kr/@@6qvt/133\\\",\\\"imageUrl\\\":\\\"https://t1.daumcdn.net/section/oc/dfd7566a255a49f0a6284d8b202bb95f\\\"},{\\\"id\\\":\\\"tstory-2561881_1268\\\",\\\"title\\\":\\\"'테이크아웃 커피컵' 이렇게 유용한데, 한 번 쓰고 버린다고?!\\\",\\\"url\\\":\\\"https://topsecret123.tistory.com/1268\\\",\\\"imageUrl\\\":\\\"https://t1.daumcdn.net/section/oc/150c4a9bdb9441379da78204a1137026\\\"},{\\\"id\\\":\\\"hamny-20220618214630320\\\",\\\"title\\\":\\\"\\\\\\\"동호회 가입한 남편, 막무가내로 황혼이혼 요구합니다\\\\\\\"\\\",\\\"url\\\":\\\"https://v.daum.net/v/20220618214630320\\\",\\\"imageUrl\\\":\\\"https://t1.daumcdn.net/news/202206/18/dailian/20220618214632981wkwi.jpg\\\"},{\\\"id\\\":\\\"hamny-E6OFB0TGUg\\\",\\\"title\\\":\\\"집주인 허락이 떨어지자, 15평 반지하 월세방의 변신이 시작됐다\\\",\\\"url\\\":\\\"https://content.v.daum.net/v/E6OFB0TGUg\\\",\\\"imageUrl\\\":\\\"https://t1.daumcdn.net/news/202105/24/ohouse/20210524022847629ugvp.jpg\\\"},{\\\"id\\\":\\\"tstory-1944847_2309\\\",\\\"title\\\":\\\"수건 냄새 제거 삶지않고 없애는법 | 수건냄새 과탄산소다 사용법\\\",\\\"url\\\":\\\"https://m.tipzum.com/2309\\\",\\\"imageUrl\\\":\\\"https://t1.daumcdn.net/section/oc/5f2ca22cce094f7da1fa109449159a70\\\"},{\\\"id\\\":\\\"hamny-EBnYxqgSjs\\\",\\\"title\\\":\\\"따라하자마자 숨은 키 바로 나타나는 거북목 교정법\\\",\\\"url\\\":\\\"https://content.v.daum.net/v/EBnYxqgSjs\\\",\\\"imageUrl\\\":\\\"https://t1.daumcdn.net/news/202206/17/onehomelife/20220617033228394q8dh.png\\\"},{\\\"id\\\":\\\"hamny-20220619100055247\\\",\\\"title\\\":\\\"염증 가라앉히는 마실 거리 4\\\",\\\"url\\\":\\\"https://v.daum.net/v/20220619100055247\\\",\\\"imageUrl\\\":\\\"https://t1.daumcdn.net/news/202206/19/KorMedi/20220619100102109crat.jpg\\\"}]\"},\"teslas\":{},\"cabinets\":null,\"board\":false},{\"code\":2389,\"type\":\"PC_CHANNEL_MONEY\",\"items\":{\"op\":{\"title\":\"머니\",\"url\":null}},\"feeds\":{\"pc_channel_money\":\"[{\\\"id\\\":\\\"hamny-EV1LaiKoC5\\\",\\\"title\\\":\\\"기대되는 '여름 보너스'.. 금융지주, 배당 더 높인다\\\",\\\"url\\\":\\\"https://content.v.daum.net/v/EV1LaiKoC5\\\",\\\"imageUrl\\\":\\\"https://t1.daumcdn.net/news/202206/22/moneyis/20220622044156723oxam.jpeg\\\",\\\"source\\\":\\\"뭐니\\\",\\\"desc\\\":\\\"국내 금융지주회사 최고 경영자(CEO)들이 직접 비행기를 타고 해외IR(투자설명회) 순방에 나섭니다.\\\",\\\"icon\\\":\\\"IMAGE\\\"},{\\\"id\\\":\\\"hamny-EIQBufUQb0\\\",\\\"title\\\":\\\"글로벌 경기 침체 여파.. 테크 업계 IPO 시계 제로\\\",\\\"url\\\":\\\"https://content.v.daum.net/v/EIQBufUQb0\\\",\\\"imageUrl\\\":\\\"https://t1.daumcdn.net/news/202206/22/tech42/20220622145906734dnrv.png\\\",\\\"source\\\":\\\"테크42\\\",\\\"desc\\\":\\\"[AI요약] 지난 5월 토종 앱마켓 원스토어가 기관투자자 수요예측 실적 부진을 이유로 상장을 철회한 이후로 예정됐던 기업공개(IPO) 일정이 줄줄이 차질을 빚고 있다. 글로벌 경기의 영향을 직접적으로 받고 있는 우리나라의 경우, 제조업 등 수출 대기업에서 시작된 실적 하락의 여파가 중소 스타트업은 물론 상장을 준비하던 기업들까지 미치고 있다.\\\",\\\"icon\\\":\\\"IMAGE\\\"},{\\\"id\\\":\\\"hamny-20220620110518505\\\",\\\"title\\\":\\\"[지구촌 돋보기] '자이언트 스텝' 밟은 美..전 세계 도미노 금리 인상\\\",\\\"url\\\":\\\"https://v.daum.net/v/20220620110518505\\\",\\\"imageUrl\\\":\\\"https://t1.daumcdn.net/news/202206/20/kbs/20220620110520230nmjo.jpg\\\",\\\"source\\\":\\\"KBS\\\",\\\"desc\\\":\\\"[앵커] 지난주 미국 중앙은행인 연방준비제도, 연준이 기준금리를 이례적으로 크게 올린 뒤 각국 증시가 요동쳤는데요. 가파른 물가 상승세에 연준뿐 아니라 유럽 등 세계 각국의 중앙은행이 잇따라 금리를 올리고 있습니다. 금리가 오르면 경제엔 어떤 타격이 있는지, 앞으로 세계 경기 전망은 어떤지, 지구촌 돋보기에서  황경주 기자와 자세히 다뤄보겠습니다. 황 기\\\",\\\"icon\\\":\\\"VIDEO\\\"},{\\\"id\\\":\\\"hamny-E1L6ee4QKd\\\",\\\"title\\\":\\\"18억명의 '할랄' 잡아라..말레이·인니 찾아가는 K떡볶이·K빵\\\",\\\"url\\\":\\\"https://content.v.daum.net/v/E1L6ee4QKd\\\",\\\"imageUrl\\\":\\\"https://t1.daumcdn.net/news/202206/21/ssully/20220621070010068xsvh.jpeg\\\",\\\"source\\\":\\\"썰리\\\",\\\"desc\\\":\\\"국내 식품업체가 ‘할랄’(Halal)에 꽂혔다. 국내 식품업체가 ‘할랄’(Halal)에 꽂혔다. 무슬림(이슬람교도)이 먹고 쓸 수 있는 제품인 할랄을 만들기 위해 인증을 받고 할랄 전용 공장을 세운다. 이미 포화에 이른 국내 식품 시장에서 세계 인구의 24%를 차지하는 할랄 시장으로 눈을 돌리고 있다. 국내 식품업계가 할랄에 공을 들이는 이유는 시장 확대\\\",\\\"icon\\\":\\\"IMAGE\\\"},{\\\"id\\\":\\\"hamny-EEhJBGr6ld\\\",\\\"title\\\":\\\"카카오가 소상공인을 돕는 법..카톡 활용한 디지털 전환\\\",\\\"url\\\":\\\"https://content.v.daum.net/v/EEhJBGr6ld\\\",\\\"imageUrl\\\":\\\"https://t1.daumcdn.net/news/202206/22/bloter/20220622122900616bdwk.png\\\",\\\"source\\\":\\\"블로터\\\",\\\"desc\\\":\\\"카카오가 소상공인과 상생하는 법은 자사의 모바일 플랫폼 카카오톡으로 디지털 전환을 이끄는 방식으로 요약된다. 카카오는 올해 4월 사회의 지속가능성 기여를 위한 카카오 공동체 상생 방안의 일환으로 총 3000억원의 상생기금을 집행하겠다고 발표한 바 있다. 그중 1000억원은 소상공인과 지역 파트너를 대상으로 쓰이며 소상공인들이 카카오톡 채널을 이용해 디지털\\\",\\\"icon\\\":\\\"IMAGE\\\"},{\\\"id\\\":\\\"hamny-EHSBOPfZBE\\\",\\\"title\\\":\\\"유럽 직접 둘러본 신동빈 회장..'새로운 롯데' 만들기 총력\\\",\\\"url\\\":\\\"https://content.v.daum.net/v/EHSBOPfZBE\\\",\\\"imageUrl\\\":\\\"https://t1.daumcdn.net/news/202206/22/bloter/20220622122403302eihi.jpg\\\",\\\"source\\\":\\\"블로터\\\",\\\"desc\\\":\\\"전기차 소재, 바이오 등 미래 핵심 사업에 37조원을 집중 투자하겠다고 밝힌 롯데그룹의 신동빈 회장이 유럽 출장 길에서 전기차 소재 투자를 확대키로 결정했다. 경쟁업체에 비해 전기차 소재 시장에 뒤늦게 뛰어든 만큼 격차를 줄이기 위한 행보로 분석된다. 롯데그룹의 화학 계열사 롯데케미칼은 현재 시장에 매물로 나온 시총 4조원 규모의 동박 제조업체 일진머티리얼\\\",\\\"icon\\\":\\\"IMAGE\\\"},{\\\"id\\\":\\\"hamny-EHBetOZSF1\\\",\\\"title\\\":\\\"층간소음 사각지대 441만호의 눈물\\\",\\\"url\\\":\\\"https://content.v.daum.net/v/EHBetOZSF1\\\",\\\"imageUrl\\\":\\\"https://t1.daumcdn.net/news/202206/21/thescoop/20220621034254977xrn0.jpeg\\\",\\\"source\\\":\\\"더스쿠프\\\",\\\"desc\\\":\\\"공동주택 바닥충격음 사후 검사 도입\\\\n공동주택이 아닌 곳에는 적용 안 해 \\\\n층간소음 문제 여전히 남을까\\\",\\\"icon\\\":\\\"IMAGE\\\"},{\\\"id\\\":\\\"hamny-E4hEKyg3bJ\\\",\\\"title\\\":\\\"③정부 사업만 바라보는 헬스케어..B2B·B2C 확대 해법은?\\\",\\\"url\\\":\\\"https://content.v.daum.net/v/E4hEKyg3bJ\\\",\\\"imageUrl\\\":\\\"https://t1.daumcdn.net/news/202206/22/bloter/20220622115440856nuwm.jpg\\\",\\\"source\\\":\\\"블로터\\\",\\\"desc\\\":\\\"보건복지부가 준비 중인 고독사 방지 중장기 계획에는 정보통신기술(ICT)을 활용한 방안이 담길 전망이다. 준비 상황과 ICT 기업에게 미칠 영향에 대해 진단해본다.\\\",\\\"icon\\\":\\\"IMAGE\\\"}]\",\"money_best_new_tiara\":\"[{\\\"id\\\":\\\"hamny-20220619080029642\\\",\\\"title\\\":\\\"남편 떠나자 \\\\\\\"엄마 외롭다, 20억 아파트 팔자\\\\\\\"..큰딸의 속내\\\",\\\"url\\\":\\\"https://v.daum.net/v/20220619080029642\\\",\\\"imageUrl\\\":\\\"https://t1.daumcdn.net/news/202206/19/joongang/20220619080030928mtvz.jpg\\\"},{\\\"id\\\":\\\"hamny-20220619134004758\\\",\\\"title\\\":\\\"\\\\\\\"0원에 수렴하나\\\\\\\" 비트코인, '패닉셀' 쏟아진다..1.9만달러도 깨져\\\",\\\"url\\\":\\\"https://v.daum.net/v/20220619134004758\\\",\\\"imageUrl\\\":\\\"https://t1.daumcdn.net/news/202206/19/moneytoday/20220619134005716weom.jpg\\\"},{\\\"id\\\":\\\"hamny-EBtISP2d3V\\\",\\\"title\\\":\\\"\\\\\\\"인동선 안 뚫릴 수 있다고?\\\\\\\"..의왕·안양 집값 무서운 추락\\\",\\\"url\\\":\\\"https://content.v.daum.net/v/EBtISP2d3V\\\",\\\"imageUrl\\\":\\\"https://t1.daumcdn.net/news/202206/17/realty/20220617093309669lcnw.jpeg\\\"},{\\\"id\\\":\\\"hamny-20220619171602524\\\",\\\"title\\\":\\\"\\\\\\\"내 재산의 90% 넣어라\\\\\\\"..버핏이 유언장에 남긴 투자처\\\",\\\"url\\\":\\\"https://v.daum.net/v/20220619171602524\\\",\\\"imageUrl\\\":\\\"https://t1.daumcdn.net/news/202206/19/ked/20220619172706943wyzp.jpg\\\"},{\\\"id\\\":\\\"hamny-20220619072501476\\\",\\\"title\\\":\\\"\\\\\\\"금리 4%시대 온다\\\\\\\" 공포감에 '얼음' ..\\\\\\\"더 떨어진다\\\\\\\"[월가시각]\\\",\\\"url\\\":\\\"https://v.daum.net/v/20220619072501476\\\",\\\"imageUrl\\\":\\\"https://t1.daumcdn.net/news/202206/19/moneytoday/20220619072502796rtmf.jpg\\\"},{\\\"id\\\":\\\"hamny-20220619060017564\\\",\\\"title\\\":\\\"원로 경제학자들, 세금 깎는 尹정부 물가정책에 쓴소리..\\\\\\\"수입 증가로 高환율 유발\\\\\\\"\\\",\\\"url\\\":\\\"https://v.daum.net/v/20220619060017564\\\",\\\"imageUrl\\\":\\\"https://t1.daumcdn.net/news/202206/20/chosunbiz/20220620084350124wrlz.jpg\\\"},{\\\"id\\\":\\\"hamny-20220619112350646\\\",\\\"title\\\":\\\"노인연령 '65세→70세' 바꿔야..정년연장 안하면 일 할 사람없다\\\",\\\"url\\\":\\\"https://v.daum.net/v/20220619112350646\\\",\\\"imageUrl\\\":\\\"https://t1.daumcdn.net/news/202206/19/moneytoday/20220619112352094addq.jpg\\\"},{\\\"id\\\":\\\"hamny-20220619133203623\\\",\\\"title\\\":\\\"\\\\\\\"미국서 버스 탈 줄이야..\\\\\\\" 풍요의 나라가 변했다 [i시대 생존전략]\\\",\\\"url\\\":\\\"https://v.daum.net/v/20220619133203623\\\",\\\"imageUrl\\\":\\\"https://t1.daumcdn.net/news/202206/19/moneytoday/20220619133204347evox.jpg\\\"},{\\\"id\\\":\\\"hamny-EWJrOsuSsg\\\",\\\"title\\\":\\\"\\\\\\\"몽땅 하자투성이\\\\\\\" 사전점검 간 입주민들 분노 폭발\\\",\\\"url\\\":\\\"https://content.v.daum.net/v/EWJrOsuSsg\\\",\\\"imageUrl\\\":\\\"https://t1.daumcdn.net/news/202206/17/realty/20220617093040915tjsu.jpeg\\\"},{\\\"id\\\":\\\"hamny-Ej1T3ptP7n\\\",\\\"title\\\":\\\"\\\\\\\"집 나간 소비자를 매장으로..\\\\\\\" 아웃백의 Out-Back 통할까\\\",\\\"url\\\":\\\"https://content.v.daum.net/v/Ej1T3ptP7n\\\",\\\"imageUrl\\\":\\\"https://t1.daumcdn.net/news/202206/18/thescoop/20220618161201883eoot.jpeg\\\"}]\"},\"teslas\":{},\"cabinets\":null,\"board\":false},{\"code\":2390,\"type\":\"PC_CHANNEL_PET\",\"items\":{\"op\":{\"title\":\"동물\",\"url\":null}},\"feeds\":{\"pc_channel_pet\":\"[{\\\"id\\\":\\\"cafe-ok1221/9Zdf/2680140\\\",\\\"title\\\":\\\"양파써는데 괴로워도 곁에 있는주는 의리냥\\\",\\\"url\\\":\\\"https://cafe.daum.net/ok1221/9Zdf/2680140?svc=daumapp\\\",\\\"imageUrl\\\":\\\"https://t1.daumcdn.net/section/oc/4ff76e8cc49f47eaad48c7ed6ffee6f0\\\",\\\"source\\\":\\\"카페 · 쭉빵카페\\\",\\\"desc\\\":\\\"\\\",\\\"icon\\\":\\\"IMAGE\\\"},{\\\"id\\\":\\\"hamny-EcaK5XG80P\\\",\\\"title\\\":\\\"친구들이 안놀아줌.jpg\\\",\\\"url\\\":\\\"https://community.v.daum.net/v/EcaK5XG80P\\\",\\\"imageUrl\\\":\\\"https://t1.daumcdn.net/daumtop_chanel/tromm/20220622034416638\\\",\\\"source\\\":\\\"더쿠\\\",\\\"desc\\\":\\\"\\\",\\\"icon\\\":\\\"IMAGE\\\"},{\\\"id\\\":\\\"hamny-Eh0OD23dP6\\\",\\\"title\\\":\\\"새로 생긴 동생 잘 때도 꼭 껴안고 자는 고양이..'작고 소중해'\\\",\\\"url\\\":\\\"https://content.v.daum.net/v/Eh0OD23dP6\\\",\\\"imageUrl\\\":\\\"https://t1.daumcdn.net/news/202206/22/notepet/20220622012329954nkfe.jpeg\\\",\\\"source\\\":\\\"노트펫\\\",\\\"desc\\\":\\\"[노트펫] 집사가 데려온 막냇동생이 너무 좋았던 고양이는 애착 인형을 안고 자듯 동생을 소중하게 꼭 안고 잠을 잤다. 지난 18일(현지 시간) 대만 연합신문망(UDN)은 새로운 들어온 아기 고양이 '코하루'가 너무 좋아 잘 때도 꼭 껴안고 잔 고양이 '테토'를 소개했다. 일본에 거주 중인 한 트위터 유저는 지난 달 아기 고양이 코하루를 새로운 가족으로\\\",\\\"icon\\\":\\\"IMAGE\\\"},{\\\"id\\\":\\\"hamny-E5RwgT0V7i\\\",\\\"title\\\":\\\"좋은 음식 먹은 강아지가 때깔도 좋다! 강아지 사료 고르는 방법은?\\\",\\\"url\\\":\\\"https://content.v.daum.net/v/E5RwgT0V7i\\\",\\\"imageUrl\\\":\\\"https://t1.daumcdn.net/news/202206/21/bemypet/20220621073756319brwi.jpeg\\\",\\\"source\\\":\\\"비마이펫\\\",\\\"desc\\\":\\\"밥이 보약이라는 말이 있듯이, 음식은 건강에 중요한 역할을 합니다. 그래서 좋은 음식, 제철 음식을 일부러 찾아 먹는 경우도 많죠. 마찬가지로, 강아지 건강에도 음식은 중요한데요. 강아지는 한 종류의 사료를 지속적으로 먹는 만큼 한 번 고를 때 신중히 고를 필요가 있습니다. 강아지 사료, 어떻게 골라야 할까요?\\\",\\\"icon\\\":\\\"IMAGE\\\"},{\\\"id\\\":\\\"hamny-20220622151012203\\\",\\\"title\\\":\\\"포항서 식용견 위기 모면한 강아지 미국 입양돼 '犬生역전'\\\",\\\"url\\\":\\\"https://v.daum.net/v/20220622151012203\\\",\\\"imageUrl\\\":\\\"https://t1.daumcdn.net/news/202206/22/NEWS1/20220622151014003hgwe.jpg\\\",\\\"source\\\":\\\"뉴스1\\\",\\\"desc\\\":\\\"(포항=뉴스1) 최창호 기자 = 농막 주변에 묶여 힘겹게 살아가던 개가 미국으로 입양된 사연이 전해져 가슴을 훈훈하게 하고 있다. 22일 경북 포항시 북구에 사는 50대 여성 A씨에 따르면 지난해 가을 도로 옆 밭에서 목이 묶여있는 흰색 강아지를 발견했다. 동물학대로 판단한 A씨는 개가 있는 농막 가까이 갔다 깜짝 놀랐다. 개가 먹는 물에는 이끼가 끼여\\\",\\\"icon\\\":\\\"TEXT\\\"},{\\\"id\\\":\\\"cafe-bikemania/3JLn/308133\\\",\\\"title\\\":\\\"냥이 그루밍\\\",\\\"url\\\":\\\"https://cafe.daum.net/bikemania/3JLn/308133?svc=daumapp\\\",\\\"imageUrl\\\":\\\"https://t1.daumcdn.net/daumtop_chanel/tromm/20220622024931548\\\",\\\"source\\\":\\\"카페 · 바이크메니아\\\",\\\"desc\\\":\\\"\\\",\\\"icon\\\":\\\"IMAGE\\\"},{\\\"id\\\":\\\"story-64498004_108517983372185127\\\",\\\"title\\\":\\\"맹수의 늠름한 모습\\\",\\\"url\\\":\\\"https://story.kakao.com/ch/smzzal/HSa1c61W45a\\\",\\\"imageUrl\\\":\\\"https://t1.daumcdn.net/daumtop_chanel/tromm/20220622022820956\\\",\\\"source\\\":\\\"세상의 모든 움짤, 세모짤\\\",\\\"desc\\\":\\\"#세모짤   #움짤   #gif   #유머   #정보   #동물   #고양이   #맹수   #모습   #능름   #귀요미  \\\",\\\"icon\\\":\\\"IMAGE\\\"},{\\\"id\\\":\\\"cafe-jeongan22/MMat/17647\\\",\\\"title\\\":\\\"나도 할수있다냥\\\",\\\"url\\\":\\\"https://cafe.daum.net/jeongan22/MMat/17647?svc=daumapp\\\",\\\"imageUrl\\\":\\\"https://t1.daumcdn.net/daumtop_chanel/tromm/20220622014831280\\\",\\\"source\\\":\\\"카페 · 행복한 중년들\\\",\\\"desc\\\":\\\"\\\",\\\"icon\\\":\\\"IMAGE\\\"}]\",\"pet_best_new_tiara\":\"[{\\\"id\\\":\\\"cafe-ssaumjil/LnOm/2831579\\\",\\\"title\\\":\\\"누구도 예상 못한 강아지의 반격\\\",\\\"url\\\":\\\"https://cafe.daum.net/ssaumjil/LnOm/2831579?svc=daumapp\\\",\\\"imageUrl\\\":\\\"https://t1.daumcdn.net/daumtop_chanel/tromm/20220616103423321\\\"},{\\\"id\\\":\\\"hamny-Ew42xuajhW\\\",\\\"title\\\":\\\"'믿을 수 없다옹!!!' 고양이가 거울 앞에서 멈춘 이유\\\",\\\"url\\\":\\\"https://content.v.daum.net/v/Ew42xuajhW\\\",\\\"imageUrl\\\":\\\"https://t1.daumcdn.net/daumtop_chanel/tromm/20220616022857448\\\"},{\\\"id\\\":\\\"story-64498004_108483984484892612\\\",\\\"title\\\":\\\"인형 같은 강아지\\\",\\\"url\\\":\\\"https://story.kakao.com/ch/smzzal/6Ihq9rgav19\\\",\\\"imageUrl\\\":\\\"https://t1.daumcdn.net/daumtop_chanel/tromm/20220616100026048\\\"},{\\\"id\\\":\\\"cafe-ok1221/9Zdf/2678340\\\",\\\"title\\\":\\\"할배 보폭맞춰주는 댕댕이.gif\\\",\\\"url\\\":\\\"https://cafe.daum.net/ok1221/9Zdf/2678340?svc=daumapp\\\",\\\"imageUrl\\\":\\\"https://t1.daumcdn.net/daumtop_chanel/tromm/20220616020021039\\\"},{\\\"id\\\":\\\"cafe-dotax/Elgq/3960844\\\",\\\"title\\\":\\\"목줄을 놓았을 때 댕댕이의 반응\\\",\\\"url\\\":\\\"https://cafe.daum.net/dotax/Elgq/3960844?svc=daumapp\\\",\\\"imageUrl\\\":\\\"https://t1.daumcdn.net/daumtop_chanel/tromm/20220617021330732\\\"},{\\\"id\\\":\\\"cafe-dotax/Elgq/3960503\\\",\\\"title\\\":\\\"대형견들의 아기때 모습\\\",\\\"url\\\":\\\"https://cafe.daum.net/dotax/Elgq/3960503?svc=daumapp\\\",\\\"imageUrl\\\":\\\"https://t1.daumcdn.net/daumtop_chanel/tromm/20220616102746243\\\"},{\\\"id\\\":\\\"cafe-ok1221/9Zdf/2678658\\\",\\\"title\\\":\\\"아기 고양이의 흡입력\\\",\\\"url\\\":\\\"https://cafe.daum.net/ok1221/9Zdf/2678658?svc=daumapp\\\",\\\"imageUrl\\\":\\\"https://t1.daumcdn.net/daumtop_chanel/tromm/20220617020551963\\\"},{\\\"id\\\":\\\"cafe-ssaumjil/LnOm/2830554\\\",\\\"title\\\":\\\"아기진돗개 등장에 질투하는 강쥐\\\",\\\"url\\\":\\\"https://cafe.daum.net/ssaumjil/LnOm/2830554?svc=daumapp\\\",\\\"imageUrl\\\":\\\"https://t1.daumcdn.net/daumtop_chanel/tromm/20220616113558294\\\"},{\\\"id\\\":\\\"cafe-nasamo-cafe/JruA/7488\\\",\\\"title\\\":\\\"언니 앞머리 다시 잘라줘\\\",\\\"url\\\":\\\"https://cafe.daum.net/nasamo-cafe/JruA/7488?svc=daumapp\\\",\\\"imageUrl\\\":\\\"https://t1.daumcdn.net/daumtop_chanel/tromm/20220617013857881\\\"},{\\\"id\\\":\\\"cafe-cs11sz/LG19/430071\\\",\\\"title\\\":\\\"[스크랩] 주사맞는 치와와.gif\\\",\\\"url\\\":\\\"https://cafe.daum.net/cs11sz/LG19/430071?svc=daumapp\\\",\\\"imageUrl\\\":\\\"https://t1.daumcdn.net/daumtop_chanel/tromm/20220617020249887\\\"}]\"},\"teslas\":{},\"cabinets\":null,\"board\":false},{\"code\":2391,\"type\":\"PC_CHANNEL_WOMEN\",\"items\":{\"op\":{\"title\":\"스타일\",\"url\":null}},\"feeds\":{\"pc_channel_women\":\"[{\\\"id\\\":\\\"hamny-EQbXZQq6QI\\\",\\\"title\\\":\\\"애엄마인데 너무 예뻐 압구정에서 헌팅당한 배우,동안 패션\\\",\\\"url\\\":\\\"https://content.v.daum.net/v/EQbXZQq6QI\\\",\\\"imageUrl\\\":\\\"https://t1.daumcdn.net/news/202206/22/harmony/20220622063542220edz5.png\\\",\\\"source\\\":\\\"어썸클\\\",\\\"desc\\\":\\\"배우 한지우씨(35)의 스타일링 살펴볼게요!\\\",\\\"icon\\\":\\\"IMAGE\\\"},{\\\"id\\\":\\\"hamny-EKpPcpBB9h\\\",\\\"title\\\":\\\"'갓세븐' 유겸, 시크한 남친룩 스타일\\\",\\\"url\\\":\\\"https://content.v.daum.net/v/EKpPcpBB9h\\\",\\\"imageUrl\\\":\\\"https://t1.daumcdn.net/news/202206/22/styleade/20220622051033483avbm.jpeg\\\",\\\"source\\\":\\\"디스패치 스타일\\\",\\\"desc\\\":\\\"'갓세븐' 유겸의 패션이 화제입니다. 지난 17일 자신의 인스타그램에 일상을 공유했는데요. 유겸은 블랙 티셔츠와 가디건을 매치했습니다. 유겸이 착용한 제품은 '올라운더'의 티셔츠입니다. 왼쪽 가슴에 브랜드 로고와 백호가 그려져있는데요. 남녀공용으로 누구나 편안하게 착용 가능한 제품입니다. *디스트리뷰트에서만 현재 10% 할인, 10% 추가 쿠폰, 2% 마일\\\",\\\"icon\\\":\\\"IMAGE\\\"},{\\\"id\\\":\\\"hamny-ECU3yXRaAX\\\",\\\"title\\\":\\\"레드벨벳 조이, 즐거운 출근길! 청치마로 뽐낸 핫섬머룩\\\",\\\"url\\\":\\\"https://content.v.daum.net/v/ECU3yXRaAX\\\",\\\"imageUrl\\\":\\\"https://t1.daumcdn.net/news/202206/22/fashionn/20220622063631509qjxm.jpeg\\\",\\\"source\\\":\\\"패션엔\\\",\\\"desc\\\":\\\"그룹 레드벨벳(Red Velvet) 조이(JOY)가 27일 오후 서울 목동SBS에서 열린 ‘동물농장' 녹화 출근길에 데님 미니 스커트로 눈부신 각선미를 뽐냈다. 조이는 이날 데님 미니 스커트와 집업 크롭트 재킷을 매치한  상큼한 출근룩으로 스포트라이트를 받았다. 비율 좋은 몸매와 매끈한 각선미가 눈길을 끈다. 조이가 속한 레드벨벳은 지난 3월 새 미니앨\\\",\\\"icon\\\":\\\"IMAGE\\\"},{\\\"id\\\":\\\"hamny-ElwYuwZYjC\\\",\\\"title\\\":\\\"AOA 설현, 가을엔 요크 백 플랩 트렌치 코트룩 '봐도봐도 러블리'\\\",\\\"url\\\":\\\"https://content.v.daum.net/v/ElwYuwZYjC\\\",\\\"imageUrl\\\":\\\"https://t1.daumcdn.net/news/202206/22/fashionn/20220622054848594lcup.jpeg\\\",\\\"source\\\":\\\"패션엔\\\",\\\"desc\\\":\\\"AOA의 설현이 계절 앞서가는 트렌치 코트룩으로 패셔니스타의 위엄을 뽐냈다. 설현은 22일 자신의 인스타그램에 패션매거진 더블유 코리아와 함께한 비하인드 화보컷 여러장을 게시했다. 공개된 화보 속 설현은 로맨틱한 아일렛 블라우스와 원피스, 요크 백 플랩(Yoke Back Flap) 디자인과 소매 라인의 펀칭 디테일이 돋보이는 컨템포러리 트렌치 코트로 눈\\\",\\\"icon\\\":\\\"IMAGE\\\"},{\\\"id\\\":\\\"hamny-EUxj4WD8sW\\\",\\\"title\\\":\\\"손나은, 명품 각선미 美쳤다..입는옷 마다 바비 인형 '그저 감탄만'\\\",\\\"url\\\":\\\"https://content.v.daum.net/v/EUxj4WD8sW\\\",\\\"imageUrl\\\":\\\"https://t1.daumcdn.net/news/202206/22/fashionn/20220622050024096bom1.jpeg\\\",\\\"source\\\":\\\"패션엔\\\",\\\"desc\\\":\\\"에이핑크 출신의 배우 손나은이 명품 각선미를 뽐냈다. 손나은은 20일 자신의 인스타그램을 통해 공식 앰버서더로 활동하고 있는 브랜드와 함께한 패션매거진 코스모폴리탄 화보를 여러장 게제했다. 공개된 사진 속 손나은은 회오리 문양의 오프숄더 원피스룩부터 블랙 홀터넥 나시와 핑크 미니 스커트로 연출한 투피스룩, 초밀착 원숄더 블랙 미니 원피스, 비즈 장식의\\\",\\\"icon\\\":\\\"IMAGE\\\"},{\\\"id\\\":\\\"hamny-EZyEdQ4MKM\\\",\\\"title\\\":\\\"'에이티즈' 산, 세련된 남자는 안경을 쓴다\\\",\\\"url\\\":\\\"https://content.v.daum.net/v/EZyEdQ4MKM\\\",\\\"imageUrl\\\":\\\"https://t1.daumcdn.net/news/202206/22/styleade/20220622050711353iqqx.jpeg\\\",\\\"source\\\":\\\"디스패치 스타일\\\",\\\"desc\\\":\\\"'에이티즈' 산의 패션이 화제입니다. 지난 14일 에이티즈 공식트위터에 올라온 사진인데요. 산은 블랙 티셔츠에 안경을 착용했습니다. 산이 착용한 제품은 '세미콜론'의 안경입니다. 해외 고가 브랜드에서 주로 사용되는 adjoined dot 디자인의 리벳을 활용하여, 심미적인 요소를 부각시켰습니다. 엔드피스 마감을 안정적인 둥근 곡선으로 디자인하여, 시각적인\\\",\\\"icon\\\":\\\"IMAGE\\\"},{\\\"id\\\":\\\"tstory-535087_272\\\",\\\"title\\\":\\\"이건 데자뷰?? Teddy Santis의 뉴발란스 M990TD2 개봉기, 사이즈 추천\\\",\\\"url\\\":\\\"https://dmwriter.tistory.com/272\\\",\\\"imageUrl\\\":\\\"https://t1.daumcdn.net/section/oc/db143c40b6d94857a5c825aee422c84a\\\",\\\"source\\\":\\\"티스토리 · Mist\\\",\\\"desc\\\":\\\"코로나 시기를 겪으며 스니커신에 가장 많은 변화는 리셀가의 폭발적인 상승과, 브랜드간 활발한 콜라보를 꼽을 수 있을 것 같습니다. 스니커 브랜드들은 아이덴티티와 디자인의 외연확장을 위해 다른 패션 브랜드와의 협업에 기꺼이 손을 내밀었습니다. 나이키는 아 마 마니에르, 오프 화이트, 트래비스 스캇과의 콜라보가 폭발적인 인기를 끌었었고 [##_ImageGrid\\\",\\\"icon\\\":\\\"IMAGE\\\"},{\\\"id\\\":\\\"hamny-EprMxVxVrS\\\",\\\"title\\\":\\\"경리, 몸매가 예쁘니 팬츠도 예쁘네! 꾸안꾸 아침 출근룩\\\",\\\"url\\\":\\\"https://content.v.daum.net/v/EprMxVxVrS\\\",\\\"imageUrl\\\":\\\"https://t1.daumcdn.net/daumtop_chanel/tromm/20220622011443795\\\",\\\"source\\\":\\\"패션엔\\\",\\\"desc\\\":\\\"그룹 나인뮤지스 출신 경리가 꾸안꾸 출근룩으로 예쁜 몸매를 자랑했다. 경리는 22일 자신의 인스타그램에 “굿모닝, 출근 뷰 이뿌지!”라는 글과 함께 촬영장을 배경으로 한 듯한 사진과 동영상을 게재했다. 공개한 사진과 영상에서 경리는 편안한 반팔 티셔츠에 청색 원턱 와이드 팬츠를 입은 꾸안꾸 출근룩을 선보였다. 특히 경리는 또렷한 이목구비와 남다른 비율을\\\",\\\"icon\\\":\\\"IMAGE\\\"}]\",\"women_best_new_tiara\":\"[{\\\"id\\\":\\\"hamny-EH0XeMLwQr\\\",\\\"title\\\":\\\"40세 기념으로 \\\\\\\"80kg→52kg\\\\\\\" 만든 연예인,썸머 감량법 전격 공개 \\\",\\\"url\\\":\\\"https://content.v.daum.net/v/EH0XeMLwQr\\\",\\\"imageUrl\\\":\\\"https://t1.daumcdn.net/daumtop_chanel/tromm/20220617051400055\\\"},{\\\"id\\\":\\\"hamny-EvDpWhNEk3\\\",\\\"title\\\":\\\"\\\\\\\"한달30kg감량\\\\\\\"75→46kg완전 딴사람된 배우의 다이어트법\\\",\\\"url\\\":\\\"https://content.v.daum.net/v/EvDpWhNEk3\\\",\\\"imageUrl\\\":\\\"https://t1.daumcdn.net/news/202206/17/forsnap/20220617093517464eas2.jpeg\\\"},{\\\"id\\\":\\\"hamny-ELfnfsQPLW\\\",\\\"title\\\":\\\"'브레이브걸스' 유정, 날씬한 몸 자랑하는 미니 티셔츠\\\",\\\"url\\\":\\\"https://content.v.daum.net/v/ELfnfsQPLW\\\",\\\"imageUrl\\\":\\\"https://t1.daumcdn.net/news/202206/19/styleade/20220619063200991kyci.jpeg\\\"},{\\\"id\\\":\\\"hamny-EPary83YBX\\\",\\\"title\\\":\\\"황신혜, 60대도 입는 크롭트! 나이를 잊은 과감한 패셔니스타\\\",\\\"url\\\":\\\"https://content.v.daum.net/v/EPary83YBX\\\",\\\"imageUrl\\\":\\\"https://t1.daumcdn.net/news/202206/19/fashionn/20220619073514696stxk.jpeg\\\"},{\\\"id\\\":\\\"hamny-EYAitFycLt\\\",\\\"title\\\":\\\"'5Kg 감량' 박경림, 얼굴에서 드러난 자신감! 오렌지 벨티드 슈트룩\\\",\\\"url\\\":\\\"https://content.v.daum.net/v/EYAitFycLt\\\",\\\"imageUrl\\\":\\\"https://t1.daumcdn.net/news/202206/17/fashionn/20220617235242441gtqy.jpeg\\\"},{\\\"id\\\":\\\"story-65657806_108463915960400692\\\",\\\"title\\\":\\\"나이 상관없이 잘 어울리는 단발머리\\\",\\\"url\\\":\\\"https://story.kakao.com/ch/greed/5K88a35Ks19\\\",\\\"imageUrl\\\":\\\"https://t1.daumcdn.net/daumtop_chanel/tromm/20220613081217719\\\"},{\\\"id\\\":\\\"hamny-EPqBoTSRMU\\\",\\\"title\\\":\\\"반전 외모의 격투기 챔피언이 추천하는 다이어트 운동\\\",\\\"url\\\":\\\"https://content.v.daum.net/v/EPqBoTSRMU\\\",\\\"imageUrl\\\":\\\"https://t1.daumcdn.net/news/202206/17/MAXQ/20220617045212413ahhf.jpeg\\\"},{\\\"id\\\":\\\"hamny-E9NcI21GOo\\\",\\\"title\\\":\\\"다음주에 입기 좋은 '민트색' 코디.jpg\\\",\\\"url\\\":\\\"https://content.v.daum.net/v/E9NcI21GOo\\\",\\\"imageUrl\\\":\\\"https://t1.daumcdn.net/daumtop_chanel/tromm/20220620094209257\\\"}]\"},\"teslas\":{},\"cabinets\":null,\"board\":false},{\"code\":2392,\"type\":\"PC_CHANNEL_MEN\",\"items\":{\"op\":{\"title\":\"M+\",\"url\":null}},\"feeds\":{\"pc_channel_men\":\"[{\\\"id\\\":\\\"hamny-20220622155504472\\\",\\\"title\\\":\\\"윤석열 정부, '플랫폼 규제' 업계 자율로..네·카·쿠·배·당 \\\\\\\"환영\\\\\\\"\\\",\\\"url\\\":\\\"https://v.daum.net/v/20220622155504472\\\",\\\"imageUrl\\\":\\\"https://t1.daumcdn.net/news/202206/22/hani/20220622161514178srfr.jpg\\\",\\\"source\\\":\\\"한겨레\\\",\\\"desc\\\":\\\"이종호 과학기술정보통신부 장관이 취임 뒤 처음으로 주요 온라인 플랫폼 기업 대표들과 만나 “디지털 플랫폼 규제 방식을 혁신적으로 바꾸겠다”고 약속했다. 플랫폼 기업 대표들은 정부의 자율 규제 기조에 반가움을 내비쳤다. 이 장관은 22일 서울 대한상공회의소에서 네이버·카카오·쿠팡 등 국내 주요 온라인 플랫폼 기업 대표들과 만나 윤석열 정부의 플랫폼 자율규제\\\",\\\"icon\\\":\\\"TEXT\\\"},{\\\"id\\\":\\\"tstory-293374_802\\\",\\\"title\\\":\\\"역대급 가성비 노트북 - HP 슬림 노트북 14s-fq2020AU\\\",\\\"url\\\":\\\"https://dsct1472.tistory.com/802\\\",\\\"imageUrl\\\":\\\"https://t1.daumcdn.net/section/oc/a59671cfac804441b7f429577a004667\\\",\\\"source\\\":\\\"티스토리 · Logs Of Life\\\",\\\"desc\\\":\\\"안 살 수가 없다. 매년 때가 되면 행사를 하는 지마켓. 빅스마일데이라는 이름이 무색하게 싸고 좋은 제품을 만나기는 쉽지 않습니다. 올해도 그냥 하나보다 하고 넘기려는데 알뜰 구매 게시판에 노트북이 하나 올라왔는데 구매를 참기가 어려웠습니다. hp에서 나온 14인치 노트북인데 AMD의 라이젠5 CPU/8GB Ram/256GB SSD/1.4Kg이라는 스펙이었\\\",\\\"icon\\\":\\\"IMAGE\\\"},{\\\"id\\\":\\\"hamny-20220622153401393\\\",\\\"title\\\":\\\"네카쿠배당 대표 만난 이종호 장관 \\\\\\\"규제 혁신적으로 바꿔야\\\\\\\"\\\",\\\"url\\\":\\\"https://v.daum.net/v/20220622153401393\\\",\\\"imageUrl\\\":\\\"https://t1.daumcdn.net/news/202206/22/ked/20220622153404349hhqa.jpg\\\",\\\"source\\\":\\\"한국경제\\\",\\\"desc\\\":\\\"정부가 데이터와 인공지능(AI) 알고리즘 등 관련 플랫폼 사업 가이드라인을 마련하기 위해 민·관 합동 태스크포스(TF)를 구성한다. 정부가 주도해 규제를 만드는 대신 사업자들의 목소리를 대폭 반영하고 자율 관리에 방점을 두겠다는 취지다.   '네카쿠배당' 대표들 만난 과기정통부 장관 22일 이종호 과학기술정보통신부 장관은 서울 대한상공회의소에서 디지털 플\\\",\\\"icon\\\":\\\"TEXT\\\"},{\\\"id\\\":\\\"hamny-20220622153427414\\\",\\\"title\\\":\\\"300개 기업 기술 결집..'뉴 스페이스 시대' 진입\\\",\\\"url\\\":\\\"https://v.daum.net/v/20220622153427414\\\",\\\"imageUrl\\\":\\\"https://t1.daumcdn.net/news/202206/22/YTN/20220622153428811tlfr.jpg\\\",\\\"source\\\":\\\"YTN\\\",\\\"desc\\\":\\\"[앵커] 누리호 2차 발사 성공에는 우리나라 300개 기업의 다양한 기술력이 총결집돼 큰 힘을 발휘했습니다. 국가가 아닌 민간 기업이 우주 개발을 주도하는 뉴 스페이스 시대에, 우리도 한층 경쟁력을 갖추게 됐습니다. 김혜은 기자가 보도합니다. [기자] 누리호에 들어간 부품은 무려 37만여 개. 우리나라 기업 300여 곳, 연구진 천여 명이 힘을\\\",\\\"icon\\\":\\\"VIDEO\\\"},{\\\"id\\\":\\\"hamny-20220622152614931\\\",\\\"title\\\":\\\"2차 도전 누리호 발사 성공.. \\\\\\\"한국, 우주강국 발판 마련\\\\\\\"[이광식의 천문학+]\\\",\\\"url\\\":\\\"https://v.daum.net/v/20220622152614931\\\",\\\"imageUrl\\\":\\\"https://t1.daumcdn.net/news/202206/22/seoul/20220622152616177utzq.jpg\\\",\\\"source\\\":\\\"서울신문\\\",\\\"desc\\\":\\\"[서울신문 나우뉴스]국산 우주 발사체 누리호가 두 번의 도전 끝에 21일 발사에 성공함으로써 '우주강국' 도약을 위한 발판을 마련했다.  설계부터 제작, 시험, 인증과 발사까지 전 과정을 국내 독자 기술로 만든 한국형 발사체(KSLV-2) 누리호는 성공적으로 발사된 지 15분 45초 만에 700km 궤도에 위성 모사체(모형 위성)를 목표 궤도에 올려놓는 데\\\",\\\"icon\\\":\\\"TEXT\\\"},{\\\"id\\\":\\\"hamny-20220622151834572\\\",\\\"title\\\":\\\"누리호 성공 숨은 민간 주역들..'맨땅에 헤딩' 무에서 유 창조\\\",\\\"url\\\":\\\"https://v.daum.net/v/20220622151834572\\\",\\\"imageUrl\\\":\\\"https://t1.daumcdn.net/news/202206/22/NEWS1/20220622151834703zhjw.jpg\\\",\\\"source\\\":\\\"뉴스1\\\",\\\"desc\\\":\\\"(서울=뉴스1) 구교운 기자,이장호 기자,김민성 기자 = \\\\\\\"누구도 알려주지 않는 기술을 현장에서 부딪히며 습득해야 했기 때문에 모든 과정이 힘들었습니다.\\\\\\\" 22일 '누리호의 심장'으로 불리는 엔진 제작을 맡은 한화에어로스페이스(이하 한화에어로)의 김종한 추진기관생산기술팀 차장은 제작과정을 이렇게 돌아봤다. 우리나라가 세계에서 7번째로 1500kg급 실용\\\",\\\"icon\\\":\\\"TEXT\\\"},{\\\"id\\\":\\\"hamny-20220622142608102\\\",\\\"title\\\":\\\"일론 머스크의 스타링크 \\\\\\\"2023년 한국진출\\\\\\\"\\\",\\\"url\\\":\\\"https://v.daum.net/v/20220622142608102\\\",\\\"imageUrl\\\":\\\"https://t1.daumcdn.net/news/202206/22/etimesi/20220622151406157srxr.jpg\\\",\\\"source\\\":\\\"전자신문\\\",\\\"desc\\\":\\\"세계 최대 위성통신서비스 스타링크가 2023년 한국 시장에 진입한다. 스타링크는 일론 머스크 테슬라 최고경영자(CEO)가 창업한 우주기업 스페이스X가 제공하는 위성통신 서비스다. 누리호 발사 성공으로 우주 패권경쟁에 관심이 고조된 반면에 국민 생활과 밀접한 첫 위성통신 시장을 외국기업이 선점할 공산이 높아졌다. 스타링크는 홈페이지에 한국을 '커밍 순'(Co\\\",\\\"icon\\\":\\\"TEXT\\\"},{\\\"id\\\":\\\"hamny-20220622140418294\\\",\\\"title\\\":\\\"스마트폰 값 입금했더니 '할인코드' 오류?..'사기 사이트 ' 주의보\\\",\\\"url\\\":\\\"https://v.daum.net/v/20220622140418294\\\",\\\"imageUrl\\\":\\\"https://t1.daumcdn.net/news/202206/22/khan/20220622140420149qxze.png\\\",\\\"source\\\":\\\"경향신문\\\",\\\"desc\\\":\\\"최신 스마트폰을 싸게 판다는 소셜미디어 광고를 본 A씨는 제품 구매를 위해 판매자에게 184만8000원을 입금했다. 하지만 상품은 오지 않았고, 판매자는 할인코드가 제대로 입력되지 않아 오류가 났다며 다시 입금하라고 요구했다. 이에 A씨가 입금 내역이 찍힌 자료를 보내자 연락이 끊겼다. 경찰에 신고했지만 판매 사이트 서버가 해외에 있어 추적은 쉽지 않은 상\\\",\\\"icon\\\":\\\"TEXT\\\"}]\",\"men_best_new_tiara\":\"[{\\\"id\\\":\\\"hamny-20220619084600001\\\",\\\"title\\\":\\\"신형 팰리세이드, 이렇게 좋으면 전 모델 산사람은 어떡해요[차알못시승기]\\\",\\\"url\\\":\\\"https://v.daum.net/v/20220619084600001\\\",\\\"imageUrl\\\":\\\"https://t1.daumcdn.net/news/202206/19/moneytoday/20220619084602258cgyi.jpg\\\"},{\\\"id\\\":\\\"hamny-EBNF6cUZYm\\\",\\\"title\\\":\\\"현대 '갤로퍼' EV로 부활한다면 이런 모습\\\",\\\"url\\\":\\\"https://auto.v.daum.net/v/EBNF6cUZYm\\\",\\\"imageUrl\\\":\\\"https://t1.daumcdn.net/news/202206/19/thedrive/2022061902541247875nc.jpeg\\\"},{\\\"id\\\":\\\"hamny-EGlbBIevpi\\\",\\\"title\\\":\\\"현대차, 스타리아와 전혀 다른 '스타게이저' 티저 공개..간결하고 미래 지향적\\\",\\\"url\\\":\\\"https://auto.v.daum.net/v/EGlbBIevpi\\\",\\\"imageUrl\\\":\\\"https://t1.daumcdn.net/news/202206/18/autoherald/20220618060949202fhqx.png\\\"},{\\\"id\\\":\\\"hamny-20220617201500928\\\",\\\"title\\\":\\\"'대박 예감' 정통 코란도도 '재탄생'..'벼랑탈출' 쌍용차, 흥행 3연타 노려[왜몰랐을카]\\\",\\\"url\\\":\\\"https://v.daum.net/v/20220617201500928\\\",\\\"imageUrl\\\":\\\"https://t1.daumcdn.net/news/202206/17/mk/20220617230905584ekth.jpg\\\"},{\\\"id\\\":\\\"brch-cwOA-1252\\\",\\\"title\\\":\\\"비만 오면 도로 차선 안보이던 이유가 있었습니다\\\",\\\"url\\\":\\\"https://brunch.co.kr/@@cwOA/1252\\\",\\\"imageUrl\\\":\\\"https://t1.daumcdn.net/section/oc/ae165619f8c54193a542c606eebb31c0\\\"},{\\\"id\\\":\\\"hamny-20220618185400271\\\",\\\"title\\\":\\\"'또또또' 테슬라 값질, 모델3 '9000만원' 돌파..벤츠E보다 비싸져 [왜몰랐을카]\\\",\\\"url\\\":\\\"https://v.daum.net/v/20220618185400271\\\",\\\"imageUrl\\\":\\\"https://t1.daumcdn.net/news/202206/18/mk/20220618185402615qpcw.jpg\\\"},{\\\"id\\\":\\\"hamny-20220619134940898\\\",\\\"title\\\":\\\"일론 머스크, 트위터서 \\\\\\\"현대차 '전기차' 잘하네\\\\\\\" 언급\\\",\\\"url\\\":\\\"https://v.daum.net/v/20220619134940898\\\",\\\"imageUrl\\\":\\\"https://t1.daumcdn.net/news/202206/19/Edaily/20220619134944960lccr.jpg\\\"},{\\\"id\\\":\\\"hamny-20220618160101330\\\",\\\"title\\\":\\\"\\\\\\\"차 방전됐나\\\\\\\" 싶을 때..하이브리드카에만 '이 버튼' 있다 [차모저모]\\\",\\\"url\\\":\\\"https://v.daum.net/v/20220618160101330\\\",\\\"imageUrl\\\":\\\"https://t1.daumcdn.net/news/202206/18/ked/20220618191606741isnp.jpg\\\"},{\\\"id\\\":\\\"hamny-20220618125843844\\\",\\\"title\\\":\\\"[단독] \\\\\\\"살 땐 서비스, 이제와 불법이라고?\\\\\\\" 포르쉐 차주들 \\\\\\\"결함 수리 1000만원 날릴 판\\\\\\\"\\\",\\\"url\\\":\\\"https://v.daum.net/v/20220618125843844\\\",\\\"imageUrl\\\":\\\"https://t1.daumcdn.net/news/202206/18/segye/20220618125843366fkxg.jpg\\\"},{\\\"id\\\":\\\"hamny-20220618112901188\\\",\\\"title\\\":\\\"\\\\\\\"토레스가 길 보여줄까\\\\\\\" 쌍용차 바라보는 르노와 한국GM\\\",\\\"url\\\":\\\"https://v.daum.net/v/20220618112901188\\\",\\\"imageUrl\\\":\\\"https://t1.daumcdn.net/news/202206/18/moneytoday/20220618112902898mner.jpg\\\"}]\"},\"teslas\":{},\"cabinets\":null,\"board\":false},{\"code\":2393,\"type\":\"PC_CHANNEL_TRAVEL\",\"items\":{\"op\":{\"title\":\"여행맛집\",\"url\":null}},\"feeds\":{\"pc_channel_travel\":\"[{\\\"id\\\":\\\"tstory-3561486_252\\\",\\\"title\\\":\\\"현지맛집, 옹심이 전문점 '강릉홍가네옹심이'[강릉]\\\",\\\"url\\\":\\\"https://2nd-daughter.tistory.com/252\\\",\\\"imageUrl\\\":\\\"https://t1.daumcdn.net/section/oc/e99a08e91d824c90a56d41230a29af38\\\",\\\"source\\\":\\\"티스토리 · 둘째딸의 알쓸신잡\\\",\\\"desc\\\":\\\"안녕하세요. 둘째 딸입니다. 강릉 한달살이 다녀온 거 아니냐구요? 깔깔.. 2박 3일을 너무 알차게 다녀와서.. 소개해드릴 맛집이 많을 뿐입니다. 아쉽지만 드디어 강릉 마지막 맛집! 마지막인 만큼 현지 찐 맛집으로 소개해드릴테니 기대하셔도 좋습니다! [강릉] 강릉홍가네옹심이 영업시간 월-토 : 11:00 ~ 21:00 브레이크 타임 : 15:00 ~ 17:\\\",\\\"icon\\\":\\\"IMAGE\\\"},{\\\"id\\\":\\\"brch-boc1-47\\\",\\\"title\\\":\\\"네덜란드 벨기에 열차 예약 및 암스테르담 시티카드 소개\\\",\\\"url\\\":\\\"https://brunch.co.kr/@@boc1/47\\\",\\\"imageUrl\\\":\\\"https://t1.daumcdn.net/section/oc/88199b784d3a4cc69f196fed425a41a4\\\",\\\"source\\\":\\\"브런치 by 화이\\\",\\\"desc\\\":\\\"네덜란드의 암스테르담(Amsterdam), 헤이그(덴 하그, The Hague, Den Haag), 로테르담(Rotterdam)과 벨기에의 안트베르펜(앤트워프, Antwerp), 브뤼헤(브뤼허, Bruges), 브뤼셀(Brussels)까지 10일간 6개 도시를 기차로 이동했다.  하루에 한 번꼴로 기차를 이용했는데, 네덜란드와 벨기에 열차 모두 이용이 편리\\\",\\\"icon\\\":\\\"IMAGE\\\"},{\\\"id\\\":\\\"hamny-EfyUC6iJDg\\\",\\\"title\\\":\\\"알아두면 무조건 도움되는 전국 휴게소 맛집 메뉴판\\\",\\\"url\\\":\\\"https://content.v.daum.net/v/EfyUC6iJDg\\\",\\\"imageUrl\\\":\\\"https://t1.daumcdn.net/news/202206/22/onehomelife/20220622023200103wwhv.png\\\",\\\"source\\\":\\\"자취생으로 살아남기\\\",\\\"desc\\\":\\\"\\\",\\\"icon\\\":\\\"IMAGE\\\"},{\\\"id\\\":\\\"brch-dPZ9-23\\\",\\\"title\\\":\\\"승마의 기본기술, 말과의 밀당\\\",\\\"url\\\":\\\"https://brunch.co.kr/@@dPZ9/23\\\",\\\"imageUrl\\\":\\\"https://t1.daumcdn.net/section/oc/dfe8c7d8760f477ebb7832b571e28726\\\",\\\"source\\\":\\\"브런치 by Jina\\\",\\\"desc\\\":\\\"그렇게 파리에서의 세 번째 외승이 급 성사됐다. 충동구매를 해도 이런 충동구매를 다 하다니. 언제부턴가 망설여질 때는 일단 go하자는 주의가 됐지만, 2시간 가량 기승에 30만원이 훌쩍 넘는 돈을 쓴다는 것은 지름신의 은총이 좀 많이 필요한 일이었다. 그것도 이미 하루 말 타는 데만 60만원 이상을 쓴 상태에서. 결제를 마치고 난 후 나는 호텔방 침대에 누\\\",\\\"icon\\\":\\\"IMAGE\\\"},{\\\"id\\\":\\\"brch-73Y6-176\\\",\\\"title\\\":\\\"인생 최악의 패키지여행, 샌프란시스코\\\",\\\"url\\\":\\\"https://brunch.co.kr/@@73Y6/176\\\",\\\"imageUrl\\\":\\\"https://t1.daumcdn.net/section/oc/31e7a6574b7d4710a19d47011a9f93a2\\\",\\\"source\\\":\\\"브런치 by 방구석여행자\\\",\\\"desc\\\":\\\"나는 여행을 좋아하는 사람이다. 여행의 종류에는 크게 자유 여행과 패키지여행이 있는데 처음에는 어떤 여행이든 상관없었다. 그저 내가 새로운 곳에 간다는 것만 해도 만족했었으니까. 그런데, 미국 샌프란시스코 패키지여행을 다녀온 후로 패키지여행이 싫어졌다. 이 여행 이후로 패키지여행은 다시는 하고 싶지 않아 가족들에게도 이제부터 나는 패키지여행은 절대 안 갈 \\\",\\\"icon\\\":\\\"IMAGE\\\"},{\\\"id\\\":\\\"tstory-1954431_460\\\",\\\"title\\\":\\\"부산 동대신동 : 시원하고 맛있는 밀면 맛집, 영남냉면밀면\\\",\\\"url\\\":\\\"https://soraing.tistory.com/460\\\",\\\"imageUrl\\\":\\\"https://t1.daumcdn.net/section/oc/00ad1f1ef79e4630b63be2323bb5110c\\\",\\\"source\\\":\\\"티스토리 · 탐험하라 꿈꾸라 발견하라\\\",\\\"desc\\\":\\\"점심은 또 무얼 먹을까 고민하다가 시원한 밀면이 먹고 싶었다. 점심을 같이할 동행분께 말씀드렸더니 거리는 좀 있지만, 밀면 맛집이 있다며 데려가 주셨다. 학창 시절 내내 대신동 근처에 살았는데, 영남 밀면은 처음 들었다. 식당의 위치도 내가 잘 다니지 않던 길이기도 했다. 영남냉면밀면 위치와 주차장 정보 영남냉면밀면은 벚꽃 명소로 유명한 대신동 삼익아파트 \\\",\\\"icon\\\":\\\"IMAGE\\\"},{\\\"id\\\":\\\"tstory-3796749_248\\\",\\\"title\\\":\\\"건대입구역 해룡마라룽샤 가재꼬리 마파두부 볶음밥 가격 주말 방문 후기\\\",\\\"url\\\":\\\"https://likeapricot.tistory.com/248\\\",\\\"imageUrl\\\":\\\"https://t1.daumcdn.net/section/oc/bcd1b73a28f94bdca3bcf3abcb48078c\\\",\\\"source\\\":\\\"티스토리 · 살구로그\\\",\\\"desc\\\":\\\"해룡마라룽샤 [##_Image|kage@ciCqZJ/btrFooHTaJt/wF1EuGCF2MMzULGfohG6Fk/img.jpg|CDM|1.3|{\\\\\\\"originWidth\\\\\\\":3024,\\\\\\\"originHeight\\\\\\\":4032,\\\\\\\"style\\\\\\\":\\\\\\\"alignCenter\\\\\\\",\\\\\\\"filename\\\\\\\":\\\\\\\"KakaoTalk_20220621_225532204_02.jpg\\\\\\\"}_##] 진짜 오\\\",\\\"icon\\\":\\\"IMAGE\\\"},{\\\"id\\\":\\\"brch-dNFk-5\\\",\\\"title\\\":\\\"Skål! 스웨덴의 음주문화에 관하여\\\",\\\"url\\\":\\\"https://brunch.co.kr/@@dNFk/5\\\",\\\"imageUrl\\\":\\\"https://t1.daumcdn.net/section/oc/e55b7b05154a44618ce6176aaea6832b\\\",\\\"source\\\":\\\"브런치 by Camena\\\",\\\"desc\\\":\\\"스웨덴의 가장 큰 명절이라고 봐도 무방한 미드소마 (Midsommar, 하지) 축제가 머지 않았다. 올해는 6월 25일 토요일이 미드소마 당일이다. 1년중 해가 가장 길어지는 날이자 그에 걸맞게 사람들이 가장 행복해지는 날이기도 하다. 미드소마 기간 동안에는 친구, 혹은 가족들과 시골 별장에 모여서 파티를 한다. 친구나 친척 누군가의 별장일 때도 있고, 에\\\",\\\"icon\\\":\\\"IMAGE\\\"}]\",\"travel_best_new_tiara\":\"[{\\\"id\\\":\\\"hamny-20220619070341168\\\",\\\"title\\\":\\\"\\\\\\\"바다 전망 객실이 100만원\\\\\\\"..부산 특급호텔 숙박비 천정부지\\\",\\\"url\\\":\\\"https://v.daum.net/v/20220619070341168\\\",\\\"imageUrl\\\":\\\"https://t1.daumcdn.net/news/202206/19/yonhap/20220619070341503ljid.jpg\\\"},{\\\"id\\\":\\\"hamny-20220618030407297\\\",\\\"title\\\":\\\"\\\\\\\"경복궁이 '힙'해서\\\\\\\".. 방탄소년단 RM도 실패했다는 '궁케팅'을 아시나요?\\\",\\\"url\\\":\\\"https://v.daum.net/v/20220618030407297\\\",\\\"imageUrl\\\":\\\"https://t1.daumcdn.net/news/202206/18/chosun/20220618124755961ndie.jpg\\\"},{\\\"id\\\":\\\"tstory-2353014_1296\\\",\\\"title\\\":\\\"갈치조림 하나만 주문해도 9가지 찬에 생선구이가 깔리는 집\\\",\\\"url\\\":\\\"https://dyourself.tistory.com/1296\\\",\\\"imageUrl\\\":\\\"https://t1.daumcdn.net/section/oc/9b53e51229c145e3864a23e17fef4165\\\"},{\\\"id\\\":\\\"brch-abn3-33\\\",\\\"title\\\":\\\"주재원 와이프의 세련된 인간관계\\\",\\\"url\\\":\\\"https://brunch.co.kr/@@abn3/33\\\",\\\"imageUrl\\\":\\\"https://t1.daumcdn.net/section/oc/c4f48dc4fdcb4898a1b7012213298d58\\\"},{\\\"id\\\":\\\"hamny-EvOt9NVqPH\\\",\\\"title\\\":\\\"600만원 짜린데 \\\\\\\"감자보다 작은 스테이크에 담요는 없대요\\\\\\\"\\\",\\\"url\\\":\\\"https://content.v.daum.net/v/EvOt9NVqPH\\\",\\\"imageUrl\\\":\\\"https://t1.daumcdn.net/daumtop_chanel/tromm/20220620014653575\\\"},{\\\"id\\\":\\\"tstory-2230493_340\\\",\\\"title\\\":\\\"베트남 하노이 3대 쌀국수 제주 상륙!\\\",\\\"url\\\":\\\"https://wlgp0983.tistory.com/340\\\",\\\"imageUrl\\\":\\\"https://t1.daumcdn.net/section/oc/6acd8b653b0c4b739b0258b012a64bd2\\\"},{\\\"id\\\":\\\"brch-JxX-137\\\",\\\"title\\\":\\\"산티아고 순례길을 아내랑 같이 온다고?!\\\",\\\"url\\\":\\\"https://brunch.co.kr/@@JxX/137\\\",\\\"imageUrl\\\":\\\"https://t1.daumcdn.net/section/oc/404b28c1fa6c49f7a699a63334d1a24f\\\"},{\\\"id\\\":\\\"tstory-1946403_1064\\\",\\\"title\\\":\\\"광장시장 먹거리 추천, 강가네떡볶이 솔직후기\\\",\\\"url\\\":\\\"https://cinmunya.tistory.com/1064\\\",\\\"imageUrl\\\":\\\"https://t1.daumcdn.net/section/oc/8cf20a535e574b0cabe9eb973194fcdd\\\"},{\\\"id\\\":\\\"story-58088428_108468870255064965\\\",\\\"title\\\":\\\"여수 꽃섬다리에서 내려다보는 남해의 절경\\\",\\\"url\\\":\\\"https://story.kakao.com/ch/visitkorea/BLFPxWEXt20\\\",\\\"imageUrl\\\":\\\"https://t1.daumcdn.net/daumtop_chanel/tromm/20220613043520629\\\"}]\"},\"teslas\":{},\"cabinets\":null,\"board\":false},{\"code\":2394,\"type\":\"PC_CHANNEL_BUSINESS\",\"items\":{\"op\":{\"title\":\"직장IN\",\"url\":null}},\"feeds\":{\"pc_channel_business\":\"[{\\\"id\\\":\\\"hamny-20220622094351208\\\",\\\"title\\\":\\\"모든 기업이 '개발자 사관학교'로 변신해야\\\",\\\"url\\\":\\\"https://v.daum.net/v/20220622094351208\\\",\\\"imageUrl\\\":\\\"https://t1.daumcdn.net/news/202206/22/ZDNetKorea/20220622094354182fgst.jpg\\\",\\\"source\\\":\\\"지디넷코리아\\\",\\\"desc\\\":\\\"(지디넷코리아=김윤희  기자)개발자 인력난에 대한 우려가 높지만, 기업이 우수 인재를 끌어오는 것에만 관심을 보일 뿐 내부 인력 육성은 등한시하고 있는 것도 문제를 키우고 있다. 대기업조차 이런 투자에 소극적인 상황이다. 개발자가 절실히 필요한 IT 대기업부터 시니어 인재 배출에 기여해야 주니어에 쏠린 인재 풀이 균형을 찾을 수 있다. 속수무책으로 개발자\\\",\\\"icon\\\":\\\"TEXT\\\"},{\\\"id\\\":\\\"hamny-20220622094407216\\\",\\\"title\\\":\\\"개발자 모시려면 일·비전·문화 다 바꿔라\\\",\\\"url\\\":\\\"https://v.daum.net/v/20220622094407216\\\",\\\"imageUrl\\\":\\\"https://t1.daumcdn.net/news/202206/22/ZDNetKorea/20220622094409154wdhj.jpg\\\",\\\"source\\\":\\\"지디넷코리아\\\",\\\"desc\\\":\\\"(지디넷코리아=김우용  기자)연봉이 개발자를 끌어들이는 절대 무기는 아니다. 적정 수준의 연봉은 당연한 조건이고, 회사에 일하고 싶게 만드는 또다른 무언가를 고민해야 한다. 개발자를 필요로 하는 기업의 유형은 크게 두 그룹으로 나눌 수 있다. 먼저, 태생적으로 IT 기술을 기반으로 한 기업이다. 오늘날 대부분의 스타트업, 빅테크 기업이 여기에 해당한다. 다\\\",\\\"icon\\\":\\\"TEXT\\\"},{\\\"id\\\":\\\"hamny-20220622094457251\\\",\\\"title\\\":\\\"IT 개발자 몸값 더 오를 수밖에 없다\\\",\\\"url\\\":\\\"https://v.daum.net/v/20220622094457251\\\",\\\"imageUrl\\\":\\\"https://t1.daumcdn.net/news/202206/22/ZDNetKorea/20220622094459545vgvc.jpg\\\",\\\"source\\\":\\\"지디넷코리아\\\",\\\"desc\\\":\\\"(지디넷코리아=임유경  기자)개발 인력 확보를 위한 연봉 인상 경쟁이 본격화된 지 1년이 지났다. 그 사이 실력 좋은 개발자를 채용하려면 초임 연봉부터 5천만원~6천만원 수준에 맞춰야 한다는 암묵적인 컨센서스가 IT 인력 채용시장에 자리잡았다. 대형 게임사, 인터넷플랫폼 업체 기준으로도 1천만원 이상 높아진 것이다. 개발자 몸값 상승은 스타트업부터 대형 I\\\",\\\"icon\\\":\\\"TEXT\\\"},{\\\"id\\\":\\\"hamny-20220622141337589\\\",\\\"title\\\":\\\"'종이의 집' 김홍선 감독 \\\\\\\"분단현실 녹여 우리 이야기로 재탄생\\\\\\\"\\\",\\\"url\\\":\\\"https://v.daum.net/v/20220622141337589\\\",\\\"imageUrl\\\":\\\"https://t1.daumcdn.net/news/202206/22/yonhap/20220622141337873lvhm.jpg\\\",\\\"source\\\":\\\"연합뉴스\\\",\\\"desc\\\":\\\"(서울=연합뉴스) 강애란 기자 김우진 인턴기자 = 넷플릭스의 스페인 인기 시리즈를 리메이크한 한국판 '종이의 집'이 이번 주 금요일 베일을 벗는다. 김홍선 감독과 류용재 작가는 22일 서울 강남구 코엑스에서 열린 '종이의 집: 공동경제구역' 제작발표회에서 원작에 남북관계 등 한국만의 이야기를 녹였다고 작품을 소개했다. '종이의 집: 공동경제구역'은 통일을\\\",\\\"icon\\\":\\\"TEXT\\\"},{\\\"id\\\":\\\"brch-azyN-20\\\",\\\"title\\\":\\\"자의식 과잉이었던 나의 20대\\\",\\\"url\\\":\\\"https://brunch.co.kr/@@azyN/20\\\",\\\"imageUrl\\\":\\\"https://t1.daumcdn.net/section/oc/a2bb2a3ee19d4ccbb22aeac89408631c\\\",\\\"source\\\":\\\"브런치 by 기록하는 양양\\\",\\\"desc\\\":\\\"설거지를 하며 유튜브를 보았다. 오은영 박사님이 출연하는 한 프로그램에 배우이면서 국가대표가 되고 싶은 아이의 이야기가 담긴 영상이었다. 인터뷰를 하던 박사님은 찬물을 끼얹어서 미안하다는 말씀으로 조언을 시작하셨다. 어떤 사람으로 살아가고 어떻게 살아가겠다는 것보다 '타이틀'에만 집중하는 것은 굉장히 위험하다며 다소 자의식 과잉으로 보인다고 영상 주인공에게\\\",\\\"icon\\\":\\\"TEXT\\\"},{\\\"id\\\":\\\"hamny-EudlQlKhRe\\\",\\\"title\\\":\\\"코로나 끝나고 '항공 대란' 시작되나? 아수라장 된 영국 공항 실황\\\",\\\"url\\\":\\\"https://content.v.daum.net/v/EudlQlKhRe\\\",\\\"imageUrl\\\":\\\"https://t1.daumcdn.net/news/202206/22/tourplus/20220622101615410sxpm.jpg\\\",\\\"source\\\":\\\"여행+\\\",\\\"desc\\\":\\\"지난 주말 영국 주요 공항 곳곳에서 비행 지연과 결항이 발생해 승객들의 불만이 폭주했다.\\\",\\\"icon\\\":\\\"IMAGE\\\"},{\\\"id\\\":\\\"hamny-EDQ1JCBDDp\\\",\\\"title\\\":\\\"미국에서 두 번째로 큰 미술관에 가면..\\\",\\\"url\\\":\\\"https://content.v.daum.net/v/EDQ1JCBDDp\\\",\\\"imageUrl\\\":\\\"https://t1.daumcdn.net/news/202206/21/weekly/20220621100802316h53l.jpeg\\\",\\\"source\\\":\\\"정책주간지 공감\\\",\\\"desc\\\":\\\"미국 '시카고 현대 미술관'은 '유럽과 미국 미술 외에 동양 미술, 중세미술, 장식 미술, 사진, 판화, 조각, 건축 등 다양한 지역과 시대, 장르를 망라한 작품이 30만여 점에 이를 정도로 방대하다'고 해요. 피카소, 모네, 그랜트 우드, 에드워드 호퍼 등 근현대 거장들의 작품을 한 곳에서 볼 수 있다는데요. 박인권 문화칼럼니스트의 '안방에서 즐기는 세계의 뮤지엄' 글을 통해 '시카고 미술관'으로 함께 가볼까요?\\\",\\\"icon\\\":\\\"IMAGE\\\"},{\\\"id\\\":\\\"hamny-EB1vT2FSNb\\\",\\\"title\\\":\\\"제로 음료 넘쳐나는데 제로 아이스크림은?\\\",\\\"url\\\":\\\"https://content.v.daum.net/v/EB1vT2FSNb\\\",\\\"imageUrl\\\":\\\"https://t1.daumcdn.net/news/202206/22/wngproject/2022062204223043882em.jpeg\\\",\\\"source\\\":\\\"취재대행소 왱\\\",\\\"desc\\\":\\\"이 기호식품들을 보라. 제로 콜라, 제로 레모네이드, 제로 아이스티, 제로 커피 믹스까지…  세상이 온통 제로 음식 투성인데 유난히 보이지 않는 제품군이 하나 있다. 바로 ‘제로 아이스크림’. 유튜브 댓글로 ‘제로 음료수는 있는데 제로 아이스크림은 왜 없는지 취재해 달라’는 의뢰가 들어와 취재했다. 결론부터 말하면 아이스크림 원료 특성 때문에 제로 칼로리는\\\",\\\"icon\\\":\\\"IMAGE\\\"}]\",\"business_best_new_tiara\":\"[{\\\"id\\\":\\\"hamny-EmDqHr3lW1\\\",\\\"title\\\":\\\"\\\\\\\"인생에 남자복이 없어요.\\\\\\\" 외치던 30대 노처녀 결국..\\\",\\\"url\\\":\\\"https://content.v.daum.net/v/EmDqHr3lW1\\\",\\\"imageUrl\\\":\\\"https://t1.daumcdn.net/news/202206/17/1day_1lesson/20220617065632372a0iq.jpeg\\\"},{\\\"id\\\":\\\"hamny-EswHM3cEfW\\\",\\\"title\\\":\\\"우린 일부러 '샤넬' 안사고 이것만 고집한다! 2030세대들의 이유 있는 선택\\\",\\\"url\\\":\\\"https://content.v.daum.net/v/EswHM3cEfW\\\",\\\"imageUrl\\\":\\\"https://t1.daumcdn.net/news/202206/17/mk_cv/20220617051908611tu3o.png\\\"},{\\\"id\\\":\\\"hamny-EPPKdAESIf\\\",\\\"title\\\":\\\"중국 광시에서 발견된 거대 싱크홀.. 192m 지하에 펼쳐진 것은?\\\",\\\"url\\\":\\\"https://content.v.daum.net/v/EPPKdAESIf\\\",\\\"imageUrl\\\":\\\"https://t1.daumcdn.net/news/202206/17/tourplus/20220617102655192jwpx.jpg\\\"},{\\\"id\\\":\\\"brch-95Q7-123\\\",\\\"title\\\":\\\"공무원에서 사기업으로 옮겨보니..\\\",\\\"url\\\":\\\"https://brunch.co.kr/@@95Q7/123\\\",\\\"imageUrl\\\":\\\"https://t1.daumcdn.net/section/oc/ed4ed91ffe864bd9873bd31bf24fd1eb\\\"},{\\\"id\\\":\\\"hamny-EYpxQNrxpU\\\",\\\"title\\\":\\\"\\\\\\\"20년만에 무명 탈출한 배우..\\\\\\\" 그가 결국 포기한 딱 한가지\\\",\\\"url\\\":\\\"https://content.v.daum.net/v/EYpxQNrxpU\\\",\\\"imageUrl\\\":\\\"https://t1.daumcdn.net/news/202206/17/solutionmaker/20220617045911704ziji.jpeg\\\"},{\\\"id\\\":\\\"hamny-Eax3xDBvJS\\\",\\\"title\\\":\\\"해외 취업에선 토익∙컴활∙한국사 대신 '이것' 봅니다\\\",\\\"url\\\":\\\"https://content.v.daum.net/v/Eax3xDBvJS\\\",\\\"imageUrl\\\":\\\"https://t1.daumcdn.net/news/202206/18/jobsN/20220618060016209beqc.jpg\\\"},{\\\"id\\\":\\\"hamny-EXDigSaYx7\\\",\\\"title\\\":\\\"[심리실험] 이 말 자주 하는 사람은 이혼할 가능성이 높다\\\",\\\"url\\\":\\\"https://content.v.daum.net/v/EXDigSaYx7\\\",\\\"imageUrl\\\":\\\"https://t1.daumcdn.net/news/202206/16/theable/20220616054801435ucwm.jpeg\\\"},{\\\"id\\\":\\\"hamny-Em8D0Zsq5P\\\",\\\"title\\\":\\\"전문가들이 경고한 10년 후 한국이 무조건 겪을 재앙\\\",\\\"url\\\":\\\"https://content.v.daum.net/v/Em8D0Zsq5P\\\",\\\"imageUrl\\\":\\\"https://t1.daumcdn.net/news/202206/16/papervore/20220616071922861rlxb.jpeg\\\"}]\"},\"teslas\":{},\"cabinets\":null,\"board\":false},{\"code\":2395,\"type\":\"PC_CHANNEL_MUSIC\",\"items\":{\"op\":{\"title\":\"뮤직\",\"url\":\"https://www.melon.com/\"}},\"feeds\":{\"pc_channel_music\":\"[{\\\"id\\\":\\\"ptop_melon_img_34545071\\\",\\\"title\\\":\\\"적재의 앨범 제작 과정을 내 눈으로 볼 수 있다?! 〈MIXTAPE〉\\\",\\\"url\\\":\\\"http://tktapi.melon.com/kmt/landing.json?type=perf&contId=207001\\\",\\\"imageUrl\\\":\\\"https://t1.daumcdn.net/daumtop_chanel/tromm/20220622112158216.png\\\",\\\"source\\\":\\\"멜론티켓\\\",\\\"icon\\\":\\\"IMAGE\\\"},{\\\"id\\\":\\\"ptop_melon_img_34545027\\\",\\\"title\\\":\\\"전석 30% 할인! 하프타임 오픈으로 돌아온 ‘전리농’\\\",\\\"url\\\":\\\"http://tktapi.melon.com/kmt/landing.json?type=perf&contId=206920\\\",\\\"imageUrl\\\":\\\"https://t1.daumcdn.net/daumtop_chanel/tromm/20220622112127992.png\\\",\\\"source\\\":\\\"멜론티켓\\\",\\\"icon\\\":\\\"IMAGE\\\"},{\\\"id\\\":\\\"melon-10010-12612\\\",\\\"title\\\":\\\"세 번째 웨딩마치를 울린 Britney Spears\\\",\\\"url\\\":\\\"https://www.melon.com/musicstory/inform.htm?mstorySeq=12612\\\",\\\"imageUrl\\\":\\\"https://cdnimg.melon.co.kr/resource/image/cds/musicstory/imgUrl20220620032743070.jpg\\\",\\\"source\\\":\\\"잡스너\\\",\\\"icon\\\":\\\"IMAGE\\\"},{\\\"id\\\":\\\"melon-10010-12609\\\",\\\"title\\\":\\\"전 세계를 향해 또 한 번 신호탄을 쏘아 올릴, TAN [W SERIES '2TAN'(wish ver)]\\\",\\\"url\\\":\\\"https://www.melon.com/musicstory/inform.htm?mstorySeq=12609\\\",\\\"imageUrl\\\":\\\"https://cdnimg.melon.co.kr/resource/image/cds/musicstory/imgUrl20220620105042735.jpg\\\",\\\"source\\\":\\\"멜론매거진\\\",\\\"icon\\\":\\\"VIDEO\\\"},{\\\"id\\\":\\\"melon-10010-12615\\\",\\\"title\\\":\\\"슈퍼스타가 만든 슈퍼스타답지 않은 앨범, Post Malone [Twelve Carat Toothache]\\\",\\\"url\\\":\\\"https://www.melon.com/musicstory/inform.htm?mstorySeq=12615\\\",\\\"imageUrl\\\":\\\"https://cdnimg.melon.co.kr/resource/image/cds/musicstory/imgUrl20220620061114212.jpg\\\",\\\"source\\\":\\\"DJ 멜양\\\",\\\"icon\\\":\\\"IMAGE\\\"},{\\\"id\\\":\\\"melon-10010-12600\\\",\\\"title\\\":\\\"이달의 소녀 추천! '여름에 듣기 좋은 노래 플레이리스트'\\\",\\\"url\\\":\\\"https://www.melon.com/musicstory/inform.htm?mstorySeq=12600\\\",\\\"imageUrl\\\":\\\"https://cdnimg.melon.co.kr/resource/image/cds/musicstory/imgUrl20220617044541253.jpg\\\",\\\"source\\\":\\\"멜론매거진\\\",\\\"icon\\\":\\\"VIDEO\\\"},{\\\"id\\\":\\\"melon-10010-12550\\\",\\\"title\\\":\\\"조명이 책을, 햇살이 음악을 비추는 '진부책방 스튜디오'\\\",\\\"url\\\":\\\"https://www.melon.com/musicstory/inform.htm?mstorySeq=12550\\\",\\\"imageUrl\\\":\\\"https://cdnimg.melon.co.kr/resource/image/cds/musicstory/imgUrl20220603062152155.jpg\\\",\\\"source\\\":\\\"핫플리\\\",\\\"icon\\\":\\\"IMAGE\\\"},{\\\"id\\\":\\\"ptop_melon_img_34545099\\\",\\\"title\\\":\\\"오늘 밤, 당신의 침실로 낯선 방문객이 찾아옵니다. 온라인체험극: 〈ETERNAL〉\\\",\\\"url\\\":\\\"http://tktapi.melon.com/kmt/landing.json?type=perf&contId=206971\\\",\\\"imageUrl\\\":\\\"https://t1.daumcdn.net/daumtop_chanel/tromm/20220622112236771.png\\\",\\\"source\\\":\\\"멜론티켓\\\",\\\"icon\\\":\\\"IMAGE\\\"},{\\\"id\\\":\\\"melon-10010-12484\\\",\\\"title\\\":\\\"예술을 사랑하는 모든 이를 위한 공간, '1984'\\\",\\\"url\\\":\\\"https://www.melon.com/musicstory/inform.htm?mstorySeq=12484\\\",\\\"imageUrl\\\":\\\"https://cdnimg.melon.co.kr/resource/image/cds/musicstory/imgUrl20220517053351225.jpg\\\",\\\"source\\\":\\\"핫플리\\\",\\\"icon\\\":\\\"IMAGE\\\"},{\\\"id\\\":\\\"ptop_melon_img_34545081\\\",\\\"title\\\":\\\"서울, 광주, 부산! 라이브 맛집 ‘스탠딩 에그’ 단독 콘서트\\\",\\\"url\\\":\\\"http://tktapi.melon.com/kmt/landing.json?type=bridge&contId=100323\\\",\\\"imageUrl\\\":\\\"https://t1.daumcdn.net/daumtop_chanel/tromm/20220622112217900.png\\\",\\\"source\\\":\\\"멜론티켓\\\",\\\"icon\\\":\\\"IMAGE\\\"},{\\\"id\\\":\\\"melon-10010-12605\\\",\\\"title\\\":\\\"반짝반짝 빛나는 6개의 보석들, Lapillus(라필루스) [HIT YA!]\\\",\\\"url\\\":\\\"https://www.melon.com/musicstory/inform.htm?mstorySeq=12605\\\",\\\"imageUrl\\\":\\\"https://cdnimg.melon.co.kr/resource/image/cds/musicstory/imgUrl20220617020544320.jpg\\\",\\\"source\\\":\\\"멜론매거진\\\",\\\"icon\\\":\\\"VIDEO\\\"},{\\\"id\\\":\\\"melon-10010-12597\\\",\\\"title\\\":\\\"MZ세대가 주목하는 싱어송라이터, 예빛 [여정]\\\",\\\"url\\\":\\\"https://www.melon.com/musicstory/inform.htm?mstorySeq=12597\\\",\\\"imageUrl\\\":\\\"https://cdnimg.melon.co.kr/resource/image/cds/musicstory/imgUrl20220615061138420.jpg\\\",\\\"source\\\":\\\"멜론매거진\\\",\\\"icon\\\":\\\"IMAGE\\\"},{\\\"id\\\":\\\"melon-10010-12619\\\",\\\"title\\\":\\\"방탄소년단의 쉼표, 새롭게 써 내려갈 이야기\\\",\\\"url\\\":\\\"https://www.melon.com/musicstory/inform.htm?mstorySeq=12619\\\",\\\"imageUrl\\\":\\\"https://cdnimg.melon.co.kr/resource/image/cds/musicstory/imgUrl20220621024005255.jpg\\\",\\\"source\\\":\\\"잡스너\\\",\\\"icon\\\":\\\"IMAGE\\\"}]\",\"pc_channel_melon_TOP100\":\"[{\\\"imageUrl\\\":\\\"http://kkoimg.melon.co.kr/cm2/album/images/109/09/179/10909179_20220405103521_500.jpg\\\",\\\"songName\\\":\\\"LOVE DIVE\\\",\\\"songLinkUrl\\\":\\\"https://m2.melon.com/kakaoGatePage.htm?cType1=content&cType2=song&cId=34847378&ref=\\\",\\\"artistName\\\":\\\"IVE (아이브)\\\",\\\"artistLinkUrl\\\":\\\"https://m2.melon.com/kakaoGatePage.htm?cType1=content&cType2=artist&cId=3055146&ref=\\\"},{\\\"imageUrl\\\":\\\"http://kkoimg.melon.co.kr/cm2/album/images/108/90/384/10890384_20220314111504_500.jpg\\\",\\\"songName\\\":\\\"TOMBOY\\\",\\\"songLinkUrl\\\":\\\"https://m2.melon.com/kakaoGatePage.htm?cType1=content&cType2=song&cId=34754292&ref=\\\",\\\"artistName\\\":\\\"(여자)아이들\\\",\\\"artistLinkUrl\\\":\\\"https://m2.melon.com/kakaoGatePage.htm?cType1=content&cType2=artist&cId=2137482&ref=\\\"},{\\\"imageUrl\\\":\\\"http://kkoimg.melon.co.kr/cm2/album/images/109/37/474/10937474_20220428225312_500.jpg\\\",\\\"songName\\\":\\\"That That (prod. & feat. SUGA of BTS)\\\",\\\"songLinkUrl\\\":\\\"https://m2.melon.com/kakaoGatePage.htm?cType1=content&cType2=song&cId=34997078&ref=\\\",\\\"artistName\\\":\\\"싸이 (PSY)\\\",\\\"artistLinkUrl\\\":\\\"https://m2.melon.com/kakaoGatePage.htm?cType1=content&cType2=artist&cId=3865&ref=\\\"},{\\\"imageUrl\\\":\\\"http://kkoimg.melon.co.kr/cm2/album/images/108/71/162/10871162_20220217162422_500.jpg\\\",\\\"songName\\\":\\\"사랑인가 봐\\\",\\\"songLinkUrl\\\":\\\"https://m2.melon.com/kakaoGatePage.htm?cType1=content&cType2=song&cId=34657844&ref=\\\",\\\"artistName\\\":\\\"멜로망스\\\",\\\"artistLinkUrl\\\":\\\"https://m2.melon.com/kakaoGatePage.htm?cType1=content&cType2=artist&cId=839732&ref=\\\"},{\\\"imageUrl\\\":\\\"http://kkoimg.melon.co.kr/cm2/album/images/109/25/762/10925762_20220419152007_500.jpg\\\",\\\"songName\\\":\\\"정이라고 하자 (Feat. 10CM)\\\",\\\"songLinkUrl\\\":\\\"https://m2.melon.com/kakaoGatePage.htm?cType1=content&cType2=song&cId=34927767&ref=\\\",\\\"artistName\\\":\\\"BIG Naughty (서동현)\\\",\\\"artistLinkUrl\\\":\\\"https://m2.melon.com/kakaoGatePage.htm?cType1=content&cType2=artist&cId=2744750&ref=\\\"},{\\\"imageUrl\\\":\\\"http://kkoimg.melon.co.kr/cm2/album/images/109/23/444/10923444_20220502140600_500.jpg\\\",\\\"songName\\\":\\\"우리들의 블루스\\\",\\\"songLinkUrl\\\":\\\"https://m2.melon.com/kakaoGatePage.htm?cType1=content&cType2=song&cId=34908740&ref=\\\",\\\"artistName\\\":\\\"임영웅\\\",\\\"artistLinkUrl\\\":\\\"https://m2.melon.com/kakaoGatePage.htm?cType1=content&cType2=artist&cId=994944&ref=\\\"}]\"},\"teslas\":{},\"cabinets\":null,\"board\":false},{\"code\":2396,\"type\":\"PC_CHANNEL_WEBTOON\",\"items\":{\"op\":{\"title\":\"웹툰\",\"url\":\"https://webtoon.kakao.com/\"}},\"feeds\":{\"pc_channel_webtoon\":\"[{\\\"id\\\":\\\"p_webtoon_34374114\\\",\\\"title\\\":\\\"모닝 운동을 다짐한 다음 날\\\",\\\"url\\\":\\\"https://webtoon.kakao.com/viewer/%EC%8A%AC%ED%94%84%EA%B2%8C%EB%8F%84-%EC%9D%B4%EA%B2%8C-%EB%82%B4-%EC%9D%B8%EC%83%9D-168/165939\\\",\\\"imageUrl\\\":\\\"https://t1.daumcdn.net/section/oc/4bd1b88c70a741f9a4969ff66bc39d14\\\",\\\"source\\\":\\\"슬프게도 이게 내 인생 \\\",\\\"desc\\\":null,\\\"label\\\":null,\\\"icon\\\":\\\"IMAGE\\\",\\\"position\\\":0},{\\\"id\\\":\\\"p_webtoon_34471880\\\",\\\"title\\\":\\\"선생님은 얼굴 씻을 때 비누 안 쓰세요? \\\",\\\"url\\\":\\\"https://webtoon.kakao.com/viewer/%EB%B9%84%EB%B0%80-%EC%82%AC%EC%9D%B4-093/164470\\\",\\\"imageUrl\\\":\\\"https://t1.daumcdn.net/section/oc/f6cb8106a70d468cbaca9649ac960b24\\\",\\\"source\\\":\\\"비밀 사이\\\",\\\"desc\\\":null,\\\"label\\\":null,\\\"icon\\\":\\\"IMAGE\\\",\\\"position\\\":0},{\\\"id\\\":\\\"p_webtoon_34471181\\\",\\\"title\\\":\\\"사내들끼리 마시고자 하니, 자리를 비켜주시지요\\\",\\\"url\\\":\\\"https://webtoon.kakao.com/viewer/%EC%95%84%EB%B9%84%EB%AC%B4%EC%8C%8D-218/163679\\\",\\\"imageUrl\\\":\\\"https://t1.daumcdn.net/section/oc/5fc1d87051934e7682e9b80fa6a6f120\\\",\\\"source\\\":\\\"아비무쌍\\\",\\\"desc\\\":null,\\\"label\\\":null,\\\"icon\\\":\\\"IMAGE\\\",\\\"position\\\":0},{\\\"id\\\":\\\"p_webtoon_34536695\\\",\\\"title\\\":\\\"그냥 수술하는 게 좋겠어. 아이를 어떻게 낳아\\\",\\\"url\\\":\\\"https://webtoon.kakao.com/viewer/%EA%B3%A4-010/162970\\\",\\\"imageUrl\\\":\\\"https://t1.daumcdn.net/section/oc/ffb34ce87dee4fdebc0285d9a515e5da\\\",\\\"source\\\":\\\"곤\\\",\\\"desc\\\":null,\\\"label\\\":null,\\\"icon\\\":\\\"IMAGE\\\",\\\"position\\\":0},{\\\"id\\\":\\\"p_webtoon_34342459\\\",\\\"title\\\":\\\"아침에 먹는 라면엔 재료 하나가 더 들어가요\\\",\\\"url\\\":\\\"https://webtoon.kakao.com/viewer/%EC%9D%B4%ED%86%A0%EB%A1%9D-%EB%B3%B4%ED%86%B5%EC%9D%98-355/167162\\\",\\\"imageUrl\\\":\\\"https://t1.daumcdn.net/section/oc/c8291719ebd64fe79b25837c98be4097\\\",\\\"source\\\":\\\"이토록 보통의 \\\",\\\"desc\\\":null,\\\"label\\\":null,\\\"icon\\\":\\\"IMAGE\\\",\\\"position\\\":0},{\\\"id\\\":\\\"p_webtoon_34533300\\\",\\\"title\\\":\\\"레전드 웹툰 감상회\\\",\\\"url\\\":\\\"https://webtoon.kakao.com/event?event_id=9509798068\\\",\\\"imageUrl\\\":\\\"https://t1.daumcdn.net/section/oc/8d2bc6527f99428fb0b09bde004c842c\\\",\\\"source\\\":\\\"토이 콤플렉스\\\",\\\"desc\\\":null,\\\"label\\\":\\\"EVENT\\\",\\\"icon\\\":\\\"IMAGE\\\",\\\"position\\\":0},{\\\"id\\\":\\\"p_webtoon_34537171\\\",\\\"title\\\":\\\"왜 덕질을 그만두려는 겁니까?\\\",\\\"url\\\":\\\"https://webtoon.kakao.com/viewer/%EB%8F%84%ED%86%A0%EB%A6%AC-%EB%AC%B8%ED%99%94%EC%84%BC%ED%84%B0-038/167404\\\",\\\"imageUrl\\\":\\\"https://t1.daumcdn.net/section/oc/1c8cec515bba4cb3b498a70cf7ace7f8\\\",\\\"source\\\":\\\"도토리 문화센터\\\",\\\"desc\\\":null,\\\"label\\\":null,\\\"icon\\\":\\\"IMAGE\\\",\\\"position\\\":0},{\\\"id\\\":\\\"p_webtoon_34374121\\\",\\\"title\\\":\\\"대표님은 왜 그런 표정을 지으신 걸까\\\",\\\"url\\\":\\\"https://webtoon.kakao.com/viewer/%EC%A7%88%ED%88%AC%EC%9C%A0%EB%B0%9C%EC%9E%90%EB%93%A4-077/165953\\\",\\\"imageUrl\\\":\\\"https://t1.daumcdn.net/section/oc/93378132f7ba43ed9b1ec38a33e027ff\\\",\\\"source\\\":\\\"질투유발자들 \\\",\\\"desc\\\":null,\\\"label\\\":null,\\\"icon\\\":\\\"IMAGE\\\",\\\"position\\\":0},{\\\"id\\\":\\\"p_webtoon_34374082\\\",\\\"title\\\":\\\"기승전김\\\",\\\"url\\\":\\\"https://webtoon.kakao.com/viewer/%ED%80%B4%ED%80%B4%ED%95%9C-%EC%9D%BC%EA%B8%B0-581/167875\\\",\\\"imageUrl\\\":\\\"https://t1.daumcdn.net/section/oc/2c0762e160b5419881919a0a4ac5d038\\\",\\\"source\\\":\\\"퀴퀴한 일기\\\",\\\"desc\\\":null,\\\"label\\\":null,\\\"icon\\\":\\\"IMAGE\\\",\\\"position\\\":0},{\\\"id\\\":\\\"p_webtoon_34413593\\\",\\\"title\\\":\\\"왜 인수하죠? 필요한 사람만 빼가면 될 텐데\\\",\\\"url\\\":\\\"https://webtoon.kakao.com/viewer/%EB%AF%B8%EC%83%9D-295/169076\\\",\\\"imageUrl\\\":\\\"https://t1.daumcdn.net/section/oc/fc4ff2cbff5b44a9aa82337f2bdce993\\\",\\\"source\\\":\\\"미생 \\\",\\\"desc\\\":null,\\\"label\\\":null,\\\"icon\\\":\\\"IMAGE\\\",\\\"position\\\":0},{\\\"id\\\":\\\"p_webtoon_34413794\\\",\\\"title\\\":\\\"놀이터에서 한 꼬마를 만났다\\\",\\\"url\\\":\\\"https://webtoon.kakao.com/viewer/%EB%82%98%EC%9D%98-%EA%BC%AC%EB%A7%88-%EC%84%A0%EC%83%9D%EB%8B%98-009/165161\\\",\\\"imageUrl\\\":\\\"https://t1.daumcdn.net/section/oc/33105e51560948a78609a3f4886365de\\\",\\\"source\\\":\\\"나의 꼬마 선생님\\\",\\\"desc\\\":null,\\\"label\\\":null,\\\"icon\\\":\\\"IMAGE\\\",\\\"position\\\":0},{\\\"id\\\":\\\"p_webtoon_34533357\\\",\\\"title\\\":\\\"옥황상제시여! 수린당 장녀를 벌하여 주시옵소서!!\\\",\\\"url\\\":\\\"https://webtoon.kakao.com/viewer/%EC%88%98%EB%A6%B0%EB%8B%B9--%EB%B9%84%EB%8A%98-%EA%B3%A0%EC%B9%98%EB%8A%94-%EC%A7%91--065/166173\\\",\\\"imageUrl\\\":\\\"https://t1.daumcdn.net/section/oc/cb216a40e1e242589b54fd03715a7aa2\\\",\\\"source\\\":\\\"수린당 -비늘 고치는 집-\\\",\\\"desc\\\":null,\\\"label\\\":null,\\\"icon\\\":\\\"IMAGE\\\",\\\"position\\\":0},{\\\"id\\\":\\\"p_webtoon_34374116\\\",\\\"title\\\":\\\"다시는 '아무거나'라고 말하지 않겠다\\\",\\\"url\\\":\\\"https://webtoon.kakao.com/viewer/%EB%B0%B0%EA%B3%A0%ED%94%88-%ED%82%AC%EB%9F%AC-020/164353\\\",\\\"imageUrl\\\":\\\"https://t1.daumcdn.net/section/oc/62bf30e0a4454612833709e2714efa41\\\",\\\"source\\\":\\\"배고픈 킬러\\\",\\\"desc\\\":null,\\\"label\\\":null,\\\"icon\\\":\\\"IMAGE\\\",\\\"position\\\":0},{\\\"id\\\":\\\"p_webtoon_34534430\\\",\\\"title\\\":\\\"잊은건 아니지? 작가님 우리 때문에 자살시도한 거\\\",\\\"url\\\":\\\"https://webtoon.kakao.com/viewer/%EC%A7%80%EA%B8%88%EB%B6%80%ED%84%B0-%EC%86%8D%ED%8E%B8%EC%9D%B4-%EC%8B%9C%EC%9E%91%EB%90%A9%EB%8B%88%EB%8B%A4-003/167819\\\",\\\"imageUrl\\\":\\\"https://t1.daumcdn.net/section/oc/73171cb0f0b244e59aa2fdb3f9039061\\\",\\\"source\\\":\\\"지금부터 속편이 시작됩니다\\\",\\\"desc\\\":null,\\\"label\\\":null,\\\"icon\\\":\\\"IMAGE\\\",\\\"position\\\":0},{\\\"id\\\":\\\"p_webtoon_34470347\\\",\\\"title\\\":\\\"맴매 맞자 맴매!\\\",\\\"url\\\":\\\"https://webtoon.kakao.com/viewer/106-008/164067\\\",\\\"imageUrl\\\":\\\"https://t1.daumcdn.net/section/oc/4894b212f6f8470a8ad7505963536b89\\\",\\\"source\\\":\\\"106\\\",\\\"desc\\\":null,\\\"label\\\":null,\\\"icon\\\":\\\"IMAGE\\\",\\\"position\\\":0},{\\\"id\\\":\\\"p_webtoon_34342469\\\",\\\"title\\\":\\\"바람 좀 쐬고 올게요\\\",\\\"url\\\":\\\"https://webtoon.kakao.com/viewer/%EB%A9%B0%EB%8A%90%EB%9D%BC%EA%B8%B0-025/152666\\\",\\\"imageUrl\\\":\\\"https://t1.daumcdn.net/section/oc/a4dd7620fb694cec994948d561e2cb0a\\\",\\\"source\\\":\\\"며느라기\\\",\\\"desc\\\":null,\\\"label\\\":null,\\\"icon\\\":\\\"IMAGE\\\",\\\"position\\\":0},{\\\"id\\\":\\\"p_webtoon_34415049\\\",\\\"title\\\":\\\"이것이 바로 과학의 힘!\\\",\\\"url\\\":\\\"https://webtoon.kakao.com/viewer/%EC%98%A4%EB%AC%B4%EB%9D%BC%EC%9D%B4%EC%8A%A4-%EC%9E%BC%EC%9E%BC-292/96189\\\",\\\"imageUrl\\\":\\\"https://t1.daumcdn.net/section/oc/1996531244464dc78c3693fa790b7a40\\\",\\\"source\\\":\\\"오무라이스 잼잼\\\",\\\"desc\\\":null,\\\"label\\\":null,\\\"icon\\\":\\\"IMAGE\\\",\\\"position\\\":0},{\\\"id\\\":\\\"p_webtoon_34537725\\\",\\\"title\\\":\\\"본사에 오니 더욱 사내의 열기가 뜨겁네요\\\",\\\"url\\\":\\\"https://webtoon.kakao.com/viewer/%EC%B2%9C%EA%B4%91%EB%AA%85%EC%9B%94-050/163002\\\",\\\"imageUrl\\\":\\\"https://t1.daumcdn.net/section/oc/b832b7d47bba46fa8a9cbaaf3bcf36bd\\\",\\\"source\\\":\\\"천광명월\\\",\\\"desc\\\":null,\\\"label\\\":null,\\\"icon\\\":\\\"IMAGE\\\",\\\"position\\\":8},{\\\"id\\\":\\\"p_webtoon_34534847\\\",\\\"title\\\":\\\"어쩌다 내가 여기까지..\\\",\\\"url\\\":\\\"https://webtoon.kakao.com/viewer/%EA%B5%90%ED%99%98-%EB%82%A8%EB%85%80-013/165509\\\",\\\"imageUrl\\\":\\\"https://t1.daumcdn.net/section/oc/115e29eb293d4a248940ffb7c79901b1\\\",\\\"source\\\":\\\"교환 남녀\\\",\\\"desc\\\":null,\\\"label\\\":null,\\\"icon\\\":\\\"IMAGE\\\",\\\"position\\\":0},{\\\"id\\\":\\\"p_webtoon_34342467\\\",\\\"title\\\":\\\"제부가 육성으로 직원을 불렀다\\\",\\\"url\\\":\\\"https://webtoon.kakao.com/viewer/%EB%B0%98%EC%A7%80%ED%95%98%EC%85%8B%EB%B0%A9-279/166394\\\",\\\"imageUrl\\\":\\\"https://t1.daumcdn.net/section/oc/fc2d842d448e48a496e6365d3de00795\\\",\\\"source\\\":\\\"반지하셋방\\\",\\\"desc\\\":null,\\\"label\\\":null,\\\"icon\\\":\\\"IMAGE\\\",\\\"position\\\":0}]\",\"pc_channel_webtoon_serial_ranking\":\"[{\\\"url\\\":\\\"https://webtoon.kakao.com/content/나를-잡아먹지-말아줘/2462\\\",\\\"title\\\":\\\"나를 잡아먹지 말아줘\\\",\\\"imageUrl\\\":\\\"https://kr-a.kakaopagecdn.com/P/C/2462/c1/2x/1b0b04bf-1eb4-442e-8f4d-07292bb04696.png\\\",\\\"source\\\":\\\"백지연\\\"},{\\\"url\\\":\\\"https://webtoon.kakao.com/content/아기-건물주는-이만-은퇴합니다/2904\\\",\\\"title\\\":\\\"아기 건물주는 이만 은퇴합니다\\\",\\\"imageUrl\\\":\\\"https://kr-a.kakaopagecdn.com/P/C/2904/c1/2x/3980bdf5-6bc0-435c-8912-e1d7f197e6d2.png\\\",\\\"source\\\":\\\"토요새\\\"},{\\\"url\\\":\\\"https://webtoon.kakao.com/content/도굴왕/2340\\\",\\\"title\\\":\\\"도굴왕\\\",\\\"imageUrl\\\":\\\"https://kr-a.kakaopagecdn.com/P/C/2340/c1/2x/ede4b5fb-e848-43fc-9ba3-224a584da177.png\\\",\\\"source\\\":\\\"윤쓰(Redice Studio)\\\"},{\\\"url\\\":\\\"https://webtoon.kakao.com/content/비밀-사이/1943\\\",\\\"title\\\":\\\"비밀 사이\\\",\\\"imageUrl\\\":\\\"https://kr-a.kakaopagecdn.com/P/C/1943/c1/2x/1f50e5a0-7f91-4670-adae-a38aadcdcac3.png\\\",\\\"source\\\":\\\"맥퀸스튜디오\\\"},{\\\"url\\\":\\\"https://webtoon.kakao.com/content/징크스의-연인/1339\\\",\\\"title\\\":\\\"징크스의 연인\\\",\\\"imageUrl\\\":\\\"https://kr-a.kakaopagecdn.com/P/C/1339/c1/2x/0802431e-5f83-4a07-9b77-c8bd7c4424fd.png\\\",\\\"source\\\":\\\"한지혜\\\"}]\",\"pc_channel_webtoon_finish_ranking\":\"[{\\\"url\\\":\\\"https://webtoon.kakao.com/content/나-혼자만-레벨업/2320\\\",\\\"title\\\":\\\"나 혼자만 레벨업\\\",\\\"imageUrl\\\":\\\"https://kr-a.kakaopagecdn.com/P/C/2320/c1/2x/88ac0b74-c10e-4cd9-8cf8-8fae2514ad4c.png\\\",\\\"source\\\":\\\"현군\\\"},{\\\"url\\\":\\\"https://webtoon.kakao.com/content/폭군에게는-악녀가-어울린다/2839\\\",\\\"title\\\":\\\"폭군에게는 악녀가 어울린다\\\",\\\"imageUrl\\\":\\\"https://kr-a.kakaopagecdn.com/P/C/2839/c1/2x/d2c30377-3c33-42f3-ba69-a0fb91a51001.png\\\",\\\"source\\\":\\\"나전\\\"},{\\\"url\\\":\\\"https://webtoon.kakao.com/content/어게인-마이-라이프/2530\\\",\\\"title\\\":\\\"어게인 마이 라이프\\\",\\\"imageUrl\\\":\\\"https://kr-a.kakaopagecdn.com/P/C/2530/c1/2x/b888880d-a88b-42be-ad7b-6261d789b8d2.png\\\",\\\"source\\\":\\\"도경\\\"},{\\\"url\\\":\\\"https://webtoon.kakao.com/content/우리-집에-왜-왔니/1308\\\",\\\"title\\\":\\\"우리 집에 왜 왔니\\\",\\\"imageUrl\\\":\\\"https://kr-a.kakaopagecdn.com/P/C/1308/c1/2x/4f843222-65e9-4961-93c5-4852a72a1cc9.png\\\",\\\"source\\\":\\\"이윤희\\\"},{\\\"url\\\":\\\"https://webtoon.kakao.com/content/마왕의-딸로-태어났습니다/2527\\\",\\\"title\\\":\\\"마왕의 딸로 태어났습니다\\\",\\\"imageUrl\\\":\\\"https://kr-a.kakaopagecdn.com/P/C/2527/c1/2x/1350215f-1eb8-4dbe-84c0-5b76aff39b37.png\\\",\\\"source\\\":\\\"은민\\\"}]\"},\"teslas\":{},\"cabinets\":null,\"board\":false},{\"code\":2397,\"type\":\"PC_CHANNEL_GAME\",\"items\":{\"op\":{\"title\":\"게임\",\"url\":\"https://game.daum.net/\"},\"wideImage\":{\"source\":\"오딘\",\"label\":\"NEW\",\"title\":\"업데이트\",\"url\":\"https://cafe.daum.net/odin/DEH7/48\",\"imageUrl\":\"https://t1.daumcdn.net/daumtop_chanel/op/20220608032436112.png\"},\"image1\":{\"source\":\"게임 뉴스\",\"title\":\"우마무스메,  출시 당일 앱스토어 1위 등극\",\"url\":\"https://news.v.daum.net/v/20220621003716654\",\"imageUrl\":\"https://t1.daumcdn.net/daumtop_chanel/op/20220620022151064.png\"},\"image2\":{\"source\":\"게임 뉴스\",\"title\":\"카카오게임즈 '프렌즈팝콘',  기부 이벤트 진행\",\"url\":\"https://news.v.daum.net/v/20220621131009478\",\"imageUrl\":\"https://t1.daumcdn.net/daumtop_chanel/op/20220621061021860.png\"},\"image3\":{\"source\":\"게임 유머\",\"title\":\"큰일날 뻔 했잖아 야옹아...\",\"url\":\"https://cafe.daum.net/ok1221/9Zdf/2658530\",\"imageUrl\":\"https://t1.daumcdn.net/daumtop_chanel/op/20220609070105394.png\"},\"image4\":{\"source\":\"게임 유머\",\"title\":\"허리에 좋은 컴퓨터 자세\",\"url\":\"https://cafe.daum.net/ok1221/9Zdf/2680235\",\"imageUrl\":\"https://t1.daumcdn.net/daumtop_chanel/op/20220621061039541.png\"},\"image5\":{\"source\":\"게임 유머\",\"title\":\"이거 은근 꿀잼\",\"url\":\"https://cafe.daum.net/Tlwkftlqkftlldlqkf/8vJr/322410?q=%EA%B5%AC%EA%B8%80%EB%A7%B5%20%EA%B2%8C%EC%9E%84\",\"imageUrl\":\"https://t1.daumcdn.net/daumtop_chanel/op/20220617054315235.png\"},\"image6\":{\"source\":\"게임 유머\",\"title\":\"소장욕구 뿜뿜하는 컵\",\"url\":\"https://cafe.daum.net/dotax/Elgq/3958470?q=%EA%B2%8C%EC%9E%84\",\"imageUrl\":\"https://t1.daumcdn.net/daumtop_chanel/op/20220614042209100.png\"},\"recommendedGameText1\":{\"source\":\"패스 오브 엑자일\",\"title\":\"이것이 진짜 핵앤슬래시!\",\"url\":\"https://poe.game.daum.net/\"},\"recommendedGameText2\":{\"source\":\"배틀그라운드\",\"title\":\"최후의 순간까지 살아남아라!\",\"url\":\"https://pubg.game.daum.net/\"},\"recommendedGameText3\":{\"source\":\"뮤템페스트\",\"title\":\"MU의 새로운 파란! 뮤 템페스트\",\"url\":\"http://game.daum.net/cn/muignition2?utm_source=daum&utm_medium=display&utm_campaign=201712-1_mutempest_open&utm_content=daum_main_gamestory_banner\"},\"recommendedGameText4\":{\"source\":\"파이널판타지14\",\"title\":\"파이널판타지14! 열광하라!\",\"url\":\"http://game.daum.net/cn/ff14\"},\"recommendedGameText5\":{\"source\":\"엘리온\",\"title\":\"이제 에녹에서 화끈하게 붙어보자\",\"url\":\"https://elyon.game.daum.net/?utm_source=daum&utm_medium=display&utm_campaign=2021-07-22_ER_launch&utm_content=tab_banner\"},\"recommendedGameImage1\":{\"source\":\"이터널 리턴\",\"title\":\"시즌6 진행 중!\",\"url\":\"https://er.game.daum.net/main?utm_source=daum&utm_medium=display&utm_campaign=2022-05-26_er_season6&utm_content=gametab\",\"imageUrl\":\"https://t1.daumcdn.net/daumtop_chanel/op/20220526120015355.png\"},\"recommendedGameImage2\":{\"source\":\"배틀그라운드\",\"title\":\"사녹의 귀환\",\"url\":\"http://pubg.kakaogames.com/\",\"imageUrl\":\"https://t1.daumcdn.net/daumtop_chanel/op/20220413055626519.png\"}},\"feeds\":{},\"teslas\":{},\"cabinets\":null,\"board\":false},{\"code\":2398,\"type\":\"PC_CHANNEL_TOGETHER\",\"items\":{\"op\":{\"title\":\"카카오같이가치\",\"url\":\"https://together.kakao.com/\"},\"image1\":{\"source\":\"온해피\",\"label\":\"\",\"title\":\"세계에서 가장 가난한 나라 '이곳'\",\"url\":\"https://together.kakao.com/fundraisings/96694\",\"imageUrl\":\"https://t1.daumcdn.net/daumtop_chanel/op/20220620110957380.png\"},\"image2\":{\"source\":\"산격종합사회복지관\",\"label\":null,\"title\":\"자전거의 핸들을 자세히 봐주세요\",\"url\":\"https://together.kakao.com/fundraisings/96993\",\"imageUrl\":\"https://t1.daumcdn.net/daumtop_chanel/op/20220620111026537.jpg\"},\"image3\":{\"source\":\"구립종로 노인종합복지관\",\"label\":null,\"title\":\"1인 1닭, 생각보다 어려운 진짜 이유\",\"url\":\"https://together.kakao.com/fundraisings/95775\",\"imageUrl\":\"https://t1.daumcdn.net/daumtop_chanel/op/20220620111052774\"},\"image4\":{\"source\":\"환경교육센터\",\"label\":\"\",\"title\":\"바닷가에 왜 냉장고가 있나요?\",\"url\":\"https://together.kakao.com/fundraisings/96597\",\"imageUrl\":\"https://t1.daumcdn.net/daumtop_chanel/op/20220620111125019.png\"},\"image5\":{\"source\":\"양지노인복지관\",\"label\":null,\"title\":\"어르신이 적어온 글의 놀라운 내용\",\"url\":\"https://together.kakao.com/fundraisings/96921\",\"imageUrl\":\"https://t1.daumcdn.net/daumtop_chanel/op/20220620111202960\"},\"image6\":{\"source\":\"봉화군 노인복지관\",\"label\":null,\"title\":\"계곡 바로 옆 초가집, 비상입니다\",\"url\":\"https://together.kakao.com/fundraisings/96477\",\"imageUrl\":\"https://t1.daumcdn.net/daumtop_chanel/op/20220620111229987.png\"},\"image7\":{\"source\":\"세계교육문화원\",\"label\":\"\",\"title\":\"뻥 뚫린 마스크에 숨겨진 엄청난 중요성\",\"url\":\"https://together.kakao.com/fundraisings/95847\",\"imageUrl\":\"https://t1.daumcdn.net/daumtop_chanel/op/20220620111254262.jpg\"},\"image8\":{\"source\":\"해피피플\",\"label\":\"\",\"title\":\"커피 찌꺼기로 이게 가능하다고요?\",\"url\":\"https://together.kakao.com/fundraisings/95835\",\"imageUrl\":\"https://t1.daumcdn.net/daumtop_chanel/op/20220620111402133.png\"}},\"feeds\":{\"pc_channel_together_recommend\":\"{\\\"link\\\":\\\"https://together.kakao.com/hello/essential/accumulated\\\",\\\"channels\\\":[{\\\"channelName\\\":\\\"고민이 있어요\\\",\\\"link\\\":\\\"https://together.kakao.com/tags/%EA%B3%A0%EB%AF%BC%EC%9D%B4%EC%9E%88%EC%9D%84%EB%95%8C\\\",\\\"image\\\":\\\"https://mk.kakaocdn.net/dn/together/images/daum_home/tag_list/04.png\\\"},{\\\"channelName\\\":\\\"행복해요\\\",\\\"link\\\":\\\"https://together.kakao.com/tags/%ED%96%89%EB%B3%B5\\\",\\\"image\\\":\\\"https://mk.kakaocdn.net/dn/together/images/daum_home/tag_list/11.png\\\"},{\\\"channelName\\\":\\\"불안해요\\\",\\\"link\\\":\\\"https://together.kakao.com/tags/%EB%B6%88%EC%95%88%ED%95%A0%EB%95%8C\\\",\\\"image\\\":\\\"https://mk.kakaocdn.net/dn/together/images/daum_home/tag_list/07.png\\\"},{\\\"channelName\\\":\\\"집중력 UP UP\\\",\\\"link\\\":\\\"https://together.kakao.com/tags/%EC%A3%BC%EC%9D%98%EB%A0%A5%EC%A7%91%EC%A4%91\\\",\\\"image\\\":\\\"https://mk.kakaocdn.net/dn/together/images/daum_home/tag_list/02.png\\\"},{\\\"channelName\\\":\\\"쉬고 싶어요\\\",\\\"link\\\":\\\"https://together.kakao.com/tags/%EC%88%B2%EC%86%8D%EC%97%90%EC%84%9C?from=2\\\",\\\"image\\\":\\\"https://mk.kakaocdn.net/dn/together/images/daum_home/tag_list/09.png\\\"},{\\\"channelName\\\":\\\"스트레스 가득\\\",\\\"link\\\":\\\"https://together.kakao.com/tags/%EC%8A%A4%ED%8A%B8%EB%A0%88%EC%8A%A4\\\",\\\"image\\\":\\\"https://mk.kakaocdn.net/dn/together/images/daum_home/tag_list/05.png\\\"}]}\",\"pc_channel_together_best\":\"{\\\"link\\\":\\\"https://together.kakao.com/mind/sounds\\\",\\\"items\\\":[{\\\"contentTitle\\\":\\\"[힐링사운드] 빗물이 부딪히는 소리\\\",\\\"contentLink\\\":\\\"https://together.kakao.com/mind/44\\\"},{\\\"contentTitle\\\":\\\"[힐링사운드] 공부에 집중되는 시냇물 소리\\\",\\\"contentLink\\\":\\\"https://together.kakao.com/mind/179\\\"},{\\\"contentTitle\\\":\\\"[힐링사운드] 아이들과 함께 물놀이\\\",\\\"contentLink\\\":\\\"https://together.kakao.com/mind/32\\\"},{\\\"contentTitle\\\":\\\"[힐링사운드] 휴식을 안겨주는 파도소리\\\",\\\"contentLink\\\":\\\"https://together.kakao.com/mind/34\\\"},{\\\"contentTitle\\\":\\\"[마음챙김] [코로나] 아이를 돌보느라 지쳐있을 때\\\",\\\"contentLink\\\":\\\"https://together.kakao.com/mind/243\\\"}]}\",\"pc_channel_together_items\":\"[{\\\"imageUrl\\\":\\\"https://mud-kage.kakaocdn.net/dn/bfPKp1/btrAxmaKXe1/1WfAybxAz4e0y3PWMT26Fk/c360.jpg\\\",\\\"label\\\":null,\\\"title\\\":\\\"예방 접종이 어린이의 생명과 안전을 지킵니다\\\",\\\"url\\\":\\\"https://together.kakao.com/fundraisings/96229/story\\\",\\\"source\\\":\\\"유니세프한국위원회\\\"},{\\\"imageUrl\\\":\\\"https://mud-kage.kakaocdn.net/dn/sbk08/btrCtvV8fPT/DkMENDmMZ4DzFSmvZ6U5uk/img.jpg\\\",\\\"label\\\":null,\\\"title\\\":\\\"건강한 여름을 위해서는 아삭한 이 OO김치! \\\",\\\"url\\\":\\\"https://together.kakao.com/fundraisings/96558/story\\\",\\\"source\\\":\\\"전주장애인종합복지관\\\"},{\\\"imageUrl\\\":\\\"https://mud-kage.kakaocdn.net/dn/c6ZoIr/btrCko4g29x/TTK8JViKpUIvkj1tGON2mk/c360.jpg\\\",\\\"label\\\":null,\\\"title\\\":\\\"비대면 시대 속 어르신들, 스마트폰이 어려워\\\",\\\"url\\\":\\\"https://together.kakao.com/fundraisings/96667/story\\\",\\\"source\\\":\\\"광진노인종합복지관\\\"},{\\\"imageUrl\\\":\\\"https://mud-kage.kakaocdn.net/dn/LsaxE/btrAPfVTBAr/fxXK9MtQXw26zeoPaYMel1/c360.jpg\\\",\\\"label\\\":null,\\\"title\\\":\\\"반려동물, 사지 말고 입양해야 하는 이유\\\",\\\"url\\\":\\\"https://together.kakao.com/fundraisings/96287/story\\\",\\\"source\\\":\\\"사단법인 동물권행동 카라\\\"},{\\\"imageUrl\\\":\\\"https://mud-kage.kakaocdn.net/dn/cG74II/btrBR9z0q7Q/f2OEdCVZKRiptEZkZ6N6J0/c360.jpg\\\",\\\"label\\\":null,\\\"title\\\":\\\"바다의 불편한 진실, 알고 있나요?\\\",\\\"url\\\":\\\"https://together.kakao.com/fundraisings/96597/story\\\",\\\"source\\\":\\\"사단법인 환경교육센터\\\"},{\\\"imageUrl\\\":\\\"https://mud-kage.kakaocdn.net/dn/cF392R/btrBUUJ3GvB/KB13kXDcXknVeI0ornE3Xk/img.png\\\",\\\"label\\\":null,\\\"title\\\":\\\"부족한 부모지만, 사랑해 우리 딸\\\",\\\"url\\\":\\\"https://together.kakao.com/fundraisings/96316/story\\\",\\\"source\\\":\\\"인천장애인종합복지관\\\"},{\\\"imageUrl\\\":\\\"https://mud-kage.kakaocdn.net/dn/RtcBY/btrBgb61kpO/jhR0ZBl3HJ3SxuFQuXJKU1/c360.jpg\\\",\\\"label\\\":null,\\\"title\\\":\\\"빛나는 자립준비청년, 너의 꿈을 응원할게!\\\",\\\"url\\\":\\\"https://together.kakao.com/fundraisings/96354/story\\\",\\\"source\\\":\\\"지파운데이션 사회적협동조합\\\"},{\\\"imageUrl\\\":\\\"https://mud-kage.kakaocdn.net/dn/ZqXoi/btrARgF4kNI/b2qf2nHJDMKapSeakKupO0/c360.jpg\\\",\\\"label\\\":null,\\\"title\\\":\\\"특별한 아이 수호의 이야기\\\",\\\"url\\\":\\\"https://together.kakao.com/fundraisings/96292/story\\\",\\\"source\\\":\\\"(사)굿피플\\\"},{\\\"imageUrl\\\":\\\"https://mud-kage.kakaocdn.net/dn/tEIKH/btrBa7C4fpc/0NhWMwPm7Dner5ebpGKmGK/img.png\\\",\\\"label\\\":null,\\\"title\\\":\\\"수달이 돌아온 한강을 위하여\\\",\\\"url\\\":\\\"https://together.kakao.com/fundraisings/95937/story\\\",\\\"source\\\":\\\"사회적협동조합 한강\\\"},{\\\"imageUrl\\\":\\\"https://mud-kage.kakaocdn.net/dn/d9qTV8/btrCib5PtTp/7IuEFbrr1zGXzEPjzBiiD0/c360.jpg\\\",\\\"label\\\":null,\\\"title\\\":\\\"홀로된 어르신들에게 든든한 식사 선물하기\\\",\\\"url\\\":\\\"https://together.kakao.com/fundraisings/96626/story\\\",\\\"source\\\":\\\"중구노인복지관\\\"},{\\\"imageUrl\\\":\\\"https://mud-kage.kakaocdn.net/dn/9fm7K/btrC7AQBlls/kqQ5TfK8uonOHBG0nkaxB1/c360.jpg\\\",\\\"label\\\":null,\\\"title\\\":\\\"보육원에 사는 어느 형제의 소원\\\",\\\"url\\\":\\\"https://together.kakao.com/fundraisings/96918/story\\\",\\\"source\\\":\\\"EBS나눔0700 위원회\\\"},{\\\"imageUrl\\\":\\\"https://mud-kage.kakaocdn.net/dn/btKcV4/btrCwuKrDc0/tELTCQHBvfcHqixkDTLpg0/c360.jpg\\\",\\\"label\\\":null,\\\"title\\\":\\\"내가 심은 나무 한 그루가 모두를 위한 숲으로\\\",\\\"url\\\":\\\"https://together.kakao.com/fundraisings/96761/story\\\",\\\"source\\\":\\\"(사)평화의숲\\\"},{\\\"imageUrl\\\":\\\"https://mud-kage.kakaocdn.net/dn/Tfo8H/btrDfXRYeuv/Fhz5TAMnJkoQjfZL4BU7G0/img.png\\\",\\\"label\\\":null,\\\"title\\\":\\\"쪽방촌 어르신들의 시원한 여름을 위해\\\",\\\"url\\\":\\\"https://together.kakao.com/fundraisings/96665/story\\\",\\\"source\\\":\\\"해피피플\\\"},{\\\"imageUrl\\\":\\\"https://mud-kage.kakaocdn.net/dn/c0aAKD/btrAeJwGOko/ngeNEw5MLQl29CIxbSKp6K/c360.jpg\\\",\\\"label\\\":null,\\\"title\\\":\\\"아이와 함께하는 성장 기록\\\",\\\"url\\\":\\\"https://together.kakao.com/fundraisings/96125/story\\\",\\\"source\\\":\\\"파랑새종합사회복지관\\\"},{\\\"imageUrl\\\":\\\"https://mud-kage.kakaocdn.net/dn/covXfo/btrB5ASUFZ4/TJ1I4S5DAxZgqPS1YRv3f0/c360.jpg\\\",\\\"label\\\":null,\\\"title\\\":\\\"“어르신, 안녕하세요쿠르트”\\\",\\\"url\\\":\\\"https://together.kakao.com/fundraisings/96643/story\\\",\\\"source\\\":\\\"종로노인종합복지관\\\"}]\"},\"teslas\":{},\"cabinets\":null,\"board\":false}]},\"decoration\":{\"PC_PHOTOBOX\":{\"code\":2383,\"type\":\"PC_PHOTOBOX\",\"items\":{\"운영\":{\"title\":\"오늘의 포토\",\"url\":null}},\"feeds\":{\"daumtop_todayphoto_popular\":\"[{\\\"title\\\":\\\"[포토] 유연석, 다정한 미소\\\",\\\"imageUrl\\\":\\\"https://t1.daumcdn.net/news/202206/21/ilgansports/20220621205823825kunl.jpg\\\",\\\"source\\\":\\\"일간스포츠\\\",\\\"url\\\":\\\"https://gallery.v.daum.net/p/viewer/1007/20220621205822342\\\"},{\\\"title\\\":\\\"북한, '누리호' 의식..발사일 맞춰 또 '광명성 4호' 영화 방영\\\",\\\"imageUrl\\\":\\\"https://t1.daumcdn.net/news/202206/22/yonhap/20220622123424874mluz.jpg\\\",\\\"source\\\":\\\"연합뉴스\\\",\\\"url\\\":\\\"https://gallery.v.daum.net/p/viewer/5204870/20220622123424780\\\"},{\\\"title\\\":\\\"[서울포토] 홈스타일링 취향을 찾아보세요 '2022 더 메종'\\\",\\\"imageUrl\\\":\\\"https://t1.daumcdn.net/news/202206/22/seoul/20220622160607339vvlt.jpg\\\",\\\"source\\\":\\\"서울신문\\\",\\\"url\\\":\\\"https://gallery.v.daum.net/p/viewer/674200/20220622160603992\\\"},{\\\"title\\\":\\\"'이광수♥' 이선빈, 파프리카 들고 뭐해?..상큼 과즙미 폭발\\\",\\\"imageUrl\\\":\\\"https://t1.daumcdn.net/news/202206/22/SpoChosun/20220622155612156ycko.jpg\\\",\\\"source\\\":\\\"스포츠조선\\\",\\\"url\\\":\\\"https://gallery.v.daum.net/p/viewer/256/20220622155611523\\\"},{\\\"title\\\":\\\"김빈우, ♥남편 끌어안고 '달달'..\\\\\\\"점심 데이트\\\\\\\" [리포트:컷]\\\",\\\"imageUrl\\\":\\\"https://t1.daumcdn.net/news/202206/22/tvreport/20220622140034137xgfy.jpg\\\",\\\"source\\\":\\\"TV리포트\\\",\\\"url\\\":\\\"https://gallery.v.daum.net/p/viewer/969/20220622140030131\\\"},{\\\"title\\\":\\\"이유리-정상훈 '앙숙 부부' [MK포토]\\\",\\\"imageUrl\\\":\\\"https://t1.daumcdn.net/news/202206/22/mksports/20220622145111210ojqs.jpg\\\",\\\"source\\\":\\\"MK스포츠\\\",\\\"url\\\":\\\"https://gallery.v.daum.net/p/viewer/977/20220622145110380\\\"},{\\\"title\\\":\\\"이동국-이재시 부녀 '이보다 잘 할 수 없다'[포토]\\\",\\\"imageUrl\\\":\\\"https://t1.daumcdn.net/news/202206/20/HockeyNewsKorea/20220620210505013afqz.jpg\\\",\\\"source\\\":\\\"MHN스포츠\\\",\\\"url\\\":\\\"https://gallery.v.daum.net/p/viewer/5038602/20220620210502908\\\"},{\\\"title\\\":\\\"허지웅, 부드러운 인사 [포토엔HD]\\\",\\\"imageUrl\\\":\\\"https://t1.daumcdn.net/news/202206/22/newsen/20220622161358673ksxd.jpg\\\",\\\"source\\\":\\\"뉴스엔\\\",\\\"url\\\":\\\"https://gallery.v.daum.net/p/viewer/987/20220622161358328\\\"},{\\\"title\\\":\\\"김태리, '아가씨' 어린 히데코 만났다..꼭 끌어안고 투샷[스타IN★]\\\",\\\"imageUrl\\\":\\\"https://t1.daumcdn.net/news/202206/22/starnews/20220622154212464lywl.jpg\\\",\\\"source\\\":\\\"스타뉴스\\\",\\\"url\\\":\\\"https://gallery.v.daum.net/p/viewer/251/20220622154211822\\\"},{\\\"title\\\":\\\"공민지, 개성 만점! 러블리+시크 블랙앤화이트 룩\\\",\\\"imageUrl\\\":\\\"https://t1.daumcdn.net/news/202206/22/moneyweek/20220622160206349fbmi.jpg\\\",\\\"source\\\":\\\"머니S\\\",\\\"url\\\":\\\"https://gallery.v.daum.net/p/viewer/246/20220622160205820\\\"},{\\\"title\\\":\\\"'룸쉐어링' 최우성, 훈훈 비주얼에 풋풋 소년미까지 [N화보]\\\",\\\"imageUrl\\\":\\\"https://t1.daumcdn.net/news/202206/22/NEWS1/20220622150108146jeff.jpg\\\",\\\"source\\\":\\\"뉴스1\\\",\\\"url\\\":\\\"https://gallery.v.daum.net/p/viewer/261/20220622150106818\\\"},{\\\"title\\\":\\\"스트레이키즈 아이엔 '상큼한 레몬'[포토엔HD]\\\",\\\"imageUrl\\\":\\\"https://t1.daumcdn.net/news/202206/22/newsen/20220622123824303wtib.jpg\\\",\\\"source\\\":\\\"뉴스엔\\\",\\\"url\\\":\\\"https://gallery.v.daum.net/p/viewer/250/20220622123823836\\\"},{\\\"title\\\":\\\"[포토친구] 천년의 숲 함양 상림공원\\\",\\\"imageUrl\\\":\\\"https://t1.daumcdn.net/news/202206/22/kppa/20220622160023783tdin.jpg\\\",\\\"source\\\":\\\"포토친구\\\",\\\"url\\\":\\\"https://gallery.v.daum.net/p/viewer/379/20220622160022734\\\"},{\\\"title\\\":\\\"수입품목 할당관세 0%, 물가 잡힐까?\\\",\\\"imageUrl\\\":\\\"https://t1.daumcdn.net/news/202206/22/newsis/20220622141746931smam.jpg\\\",\\\"source\\\":\\\"뉴시스\\\",\\\"url\\\":\\\"https://gallery.v.daum.net/p/viewer/321090/20220622141746753\\\"},{\\\"title\\\":\\\"금속노조 \\\\\\\"노동중심 산업전환 정부가 나서라\\\\\\\" [뉴시스Pic]\\\",\\\"imageUrl\\\":\\\"https://t1.daumcdn.net/news/202206/22/newsis/20220622160826398ifst.jpg\\\",\\\"source\\\":\\\"뉴시스\\\",\\\"url\\\":\\\"https://gallery.v.daum.net/p/viewer/5018824/20220622160826128\\\"},{\\\"title\\\":\\\"PM 타고 관광지 순찰\\\",\\\"imageUrl\\\":\\\"https://t1.daumcdn.net/news/202206/22/kookje/20220622030220837yymj.jpg\\\",\\\"source\\\":\\\"국제신문\\\",\\\"url\\\":\\\"https://gallery.v.daum.net/p/viewer/5035065/20220622030219768\\\"},{\\\"title\\\":\\\"백경란 질병청장, '원숭이두창' 국내 첫 확진자 발생 브리핑 [TF사진관]\\\",\\\"imageUrl\\\":\\\"https://t1.daumcdn.net/news/202206/22/THEFACT/20220622160544680gcqt.jpg\\\",\\\"source\\\":\\\"더팩트\\\",\\\"url\\\":\\\"https://gallery.v.daum.net/p/viewer/5024184/20220622160543968\\\"},{\\\"title\\\":\\\"푸틴 대통령 행사 배석한 쇼이구 러시아 국방장관\\\",\\\"imageUrl\\\":\\\"https://t1.daumcdn.net/news/202206/22/yonhap/20220622140313301yzyf.jpg\\\",\\\"source\\\":\\\"연합뉴스\\\",\\\"url\\\":\\\"https://gallery.v.daum.net/p/viewer/2322/20220622140313256\\\"},{\\\"title\\\":\\\"강제 퇴거 유예 연장 요구하는 브라질 시위대\\\",\\\"imageUrl\\\":\\\"https://t1.daumcdn.net/news/202206/22/newsis/20220622115959007glcs.jpg\\\",\\\"source\\\":\\\"뉴시스\\\",\\\"url\\\":\\\"https://gallery.v.daum.net/p/viewer/5031175/20220622115958800\\\"},{\\\"title\\\":\\\"미해군 함정과 대치한 이란 혁명수비대 고속정\\\",\\\"imageUrl\\\":\\\"https://t1.daumcdn.net/news/202206/21/yonhap/20220621225815373dhgk.jpg\\\",\\\"source\\\":\\\"연합뉴스\\\",\\\"url\\\":\\\"https://gallery.v.daum.net/p/viewer/5031013/20220621225815290\\\"},{\\\"title\\\":\\\"경부고속도로서 트럭 추돌 화재..50대 운전자 숨져\\\",\\\"imageUrl\\\":\\\"https://t1.daumcdn.net/news/202206/22/dgmbc/20220622102354474fqzl.jpg\\\",\\\"source\\\":\\\"대구MBC\\\",\\\"url\\\":\\\"https://gallery.v.daum.net/p/viewer/1518/20220622102350978\\\"},{\\\"title\\\":\\\"경부고속도로서 트럭 추돌 화재..50대 운전자 숨져\\\",\\\"imageUrl\\\":\\\"https://t1.daumcdn.net/news/202206/22/dgmbc/20220622102354474fqzl.jpg\\\",\\\"source\\\":\\\"대구MBC\\\",\\\"url\\\":\\\"https://gallery.v.daum.net/p/viewer/1473/20220622102350978\\\"},{\\\"title\\\":\\\"[포토뉴스]최고의 반려견 경쟁..美 '웨스트민스터 켄넬 클럽 도그쇼'\\\",\\\"imageUrl\\\":\\\"https://t1.daumcdn.net/news/202206/22/munhwa/20220622133508549tzgv.jpg\\\",\\\"source\\\":\\\"문화일보\\\",\\\"url\\\":\\\"https://gallery.v.daum.net/p/viewer/1476/20220622133506188\\\"},{\\\"title\\\":\\\"[아하! 우주] 우주전쟁 예고? 러시아 미사일에 국제우주정거장 또 회피 기동\\\",\\\"imageUrl\\\":\\\"https://t1.daumcdn.net/news/202206/21/seoul/20220621152606808babt.jpg\\\",\\\"source\\\":\\\"서울신문\\\",\\\"url\\\":\\\"https://gallery.v.daum.net/p/viewer/1497/20220621152605667\\\"},{\\\"title\\\":\\\"파리 도심서 부산엑스포 알렸다..정부, BIE총회서 홍보 총력전\\\",\\\"imageUrl\\\":\\\"https://t1.daumcdn.net/news/202206/22/yonhap/20220622132936911xaex.jpg\\\",\\\"source\\\":\\\"연합뉴스\\\",\\\"url\\\":\\\"https://gallery.v.daum.net/p/viewer/5029622/20220622132936991\\\"},{\\\"title\\\":\\\"손희원 회장 '6.25 참전용사의 시구' [MK포토]\\\",\\\"imageUrl\\\":\\\"https://t1.daumcdn.net/news/202206/21/mksports/20220621185410050xake.jpg\\\",\\\"source\\\":\\\"MK스포츠\\\",\\\"url\\\":\\\"https://gallery.v.daum.net/p/viewer/5031202/20220621185408347\\\"},{\\\"title\\\":\\\"아스날, 중원 보강 성공! 비에이라 영입 완료..'5년 계약+476억 원' [공식발표]\\\",\\\"imageUrl\\\":\\\"https://t1.daumcdn.net/news/202206/22/poctan/20220622070141276obwi.jpg\\\",\\\"source\\\":\\\"OSEN\\\",\\\"url\\\":\\\"https://gallery.v.daum.net/p/viewer/327349/20220622070140162\\\"},{\\\"title\\\":\\\"세리나 윌리엄스, 1년 만의 복귀전 '복식 승리'\\\",\\\"imageUrl\\\":\\\"https://t1.daumcdn.net/news/202206/22/newsis/20220622082428520vwly.jpg\\\",\\\"source\\\":\\\"뉴시스\\\",\\\"url\\\":\\\"https://gallery.v.daum.net/p/viewer/13132/20220622082428633\\\"},{\\\"title\\\":\\\"세리머니 하는 정해영·박동원 배터리\\\",\\\"imageUrl\\\":\\\"https://t1.daumcdn.net/news/202206/21/yonhap/20220621214935672llcn.jpg\\\",\\\"source\\\":\\\"연합뉴스\\\",\\\"url\\\":\\\"https://gallery.v.daum.net/p/viewer/5030237/20220621214935348\\\"},{\\\"title\\\":\\\"김하성 1타점 적시타, SD 연장 끝 승리\\\",\\\"imageUrl\\\":\\\"https://t1.daumcdn.net/news/202206/22/newsis/20220622144909211fmyk.jpg\\\",\\\"source\\\":\\\"뉴시스\\\",\\\"url\\\":\\\"https://gallery.v.daum.net/p/viewer/5145066/20220622144909262\\\"}]\"}},\"HEADER_WEATHER\":{\"code\":2384,\"type\":\"HEADER_WEATHER\",\"items\":{},\"feeds\":{\"header_weather_json\":\"[{\\\"region\\\":\\\"서울특별시\\\",\\\"temperature\\\":\\\"31\\\",\\\"weatherIconName\\\":\\\"흐림\\\",\\\"weatherIconNightYn\\\":\\\"N\\\",\\\"weatherIconCode\\\":\\\"4\\\"},{\\\"region\\\":\\\"경기도\\\",\\\"temperature\\\":\\\"30\\\",\\\"weatherIconName\\\":\\\"흐림\\\",\\\"weatherIconNightYn\\\":\\\"N\\\",\\\"weatherIconCode\\\":\\\"4\\\"},{\\\"region\\\":\\\"인천광역시\\\",\\\"temperature\\\":\\\"30\\\",\\\"weatherIconName\\\":\\\"흐림\\\",\\\"weatherIconNightYn\\\":\\\"N\\\",\\\"weatherIconCode\\\":\\\"4\\\"},{\\\"region\\\":\\\"대구광역시\\\",\\\"temperature\\\":\\\"36\\\",\\\"weatherIconName\\\":\\\"맑음\\\",\\\"weatherIconNightYn\\\":\\\"N\\\",\\\"weatherIconCode\\\":\\\"1\\\"},{\\\"region\\\":\\\"대전광역시\\\",\\\"temperature\\\":\\\"33\\\",\\\"weatherIconName\\\":\\\"구름많음\\\",\\\"weatherIconNightYn\\\":\\\"N\\\",\\\"weatherIconCode\\\":\\\"3\\\"},{\\\"region\\\":\\\"광주광역시\\\",\\\"temperature\\\":\\\"32\\\",\\\"weatherIconName\\\":\\\"맑음\\\",\\\"weatherIconNightYn\\\":\\\"N\\\",\\\"weatherIconCode\\\":\\\"1\\\"},{\\\"region\\\":\\\"부산광역시\\\",\\\"temperature\\\":\\\"32\\\",\\\"weatherIconName\\\":\\\"맑음\\\",\\\"weatherIconNightYn\\\":\\\"N\\\",\\\"weatherIconCode\\\":\\\"1\\\"},{\\\"region\\\":\\\"울산광역시\\\",\\\"temperature\\\":\\\"30\\\",\\\"weatherIconName\\\":\\\"맑음\\\",\\\"weatherIconNightYn\\\":\\\"N\\\",\\\"weatherIconCode\\\":\\\"1\\\"},{\\\"region\\\":\\\"경상북도\\\",\\\"temperature\\\":\\\"28\\\",\\\"weatherIconName\\\":\\\"맑음\\\",\\\"weatherIconNightYn\\\":\\\"N\\\",\\\"weatherIconCode\\\":\\\"1\\\"},{\\\"region\\\":\\\"강원도\\\",\\\"temperature\\\":\\\"33\\\",\\\"weatherIconName\\\":\\\"흐림\\\",\\\"weatherIconNightYn\\\":\\\"N\\\",\\\"weatherIconCode\\\":\\\"4\\\"},{\\\"region\\\":\\\"강원도\\\",\\\"temperature\\\":\\\"32\\\",\\\"weatherIconName\\\":\\\"흐림\\\",\\\"weatherIconNightYn\\\":\\\"N\\\",\\\"weatherIconCode\\\":\\\"4\\\"},{\\\"region\\\":\\\"인천광역시\\\",\\\"temperature\\\":\\\"22\\\",\\\"weatherIconName\\\":\\\"구름많음\\\",\\\"weatherIconNightYn\\\":\\\"N\\\",\\\"weatherIconCode\\\":\\\"3\\\"},{\\\"region\\\":\\\"충청북도\\\",\\\"temperature\\\":\\\"34\\\",\\\"weatherIconName\\\":\\\"맑음\\\",\\\"weatherIconNightYn\\\":\\\"N\\\",\\\"weatherIconCode\\\":\\\"1\\\"},{\\\"region\\\":\\\"전라북도\\\",\\\"temperature\\\":\\\"31\\\",\\\"weatherIconName\\\":\\\"맑음\\\",\\\"weatherIconNightYn\\\":\\\"N\\\",\\\"weatherIconCode\\\":\\\"1\\\"},{\\\"region\\\":\\\"전라남도\\\",\\\"temperature\\\":\\\"28\\\",\\\"weatherIconName\\\":\\\"맑음\\\",\\\"weatherIconNightYn\\\":\\\"N\\\",\\\"weatherIconCode\\\":\\\"1\\\"},{\\\"region\\\":\\\"전라남도\\\",\\\"temperature\\\":\\\"28\\\",\\\"weatherIconName\\\":\\\"맑음\\\",\\\"weatherIconNightYn\\\":\\\"N\\\",\\\"weatherIconCode\\\":\\\"1\\\"},{\\\"region\\\":\\\"제주특별자치도\\\",\\\"temperature\\\":\\\"26\\\",\\\"weatherIconName\\\":\\\"구름많음\\\",\\\"weatherIconNightYn\\\":\\\"N\\\",\\\"weatherIconCode\\\":\\\"3\\\"},{\\\"region\\\":\\\"경상북도\\\",\\\"temperature\\\":\\\"34\\\",\\\"weatherIconName\\\":\\\"맑음\\\",\\\"weatherIconNightYn\\\":\\\"N\\\",\\\"weatherIconCode\\\":\\\"1\\\"},{\\\"region\\\":\\\"경상남도\\\",\\\"temperature\\\":\\\"32\\\",\\\"weatherIconName\\\":\\\"맑음\\\",\\\"weatherIconNightYn\\\":\\\"N\\\",\\\"weatherIconCode\\\":\\\"1\\\"}]\"}},\"HOT_SEARCHED_WORD\":{\"code\":2385,\"type\":\"HOT_SEARCHED_WORD\",\"items\":{},\"feeds\":{\"hot_searched_word\":\"[[{\\\"keyword\\\":\\\"코로나19 발생현황\\\",\\\"url\\\":\\\"https://search.daum.net/search?w=tot&q=%EC%BD%94%EB%A1%9C%EB%82%9819+%EB%B0%9C%EC%83%9D%ED%98%84%ED%99%A9&DA=NPI\\\"},{\\\"keyword\\\":\\\"아프간 강진\\\",\\\"url\\\":\\\"https://search.daum.net/search?w=tot&q=%EC%95%84%ED%94%84%EA%B0%84+%EA%B0%95%EC%A7%84&DA=NPI&rtmaxcoll=NNS\\\"},{\\\"keyword\\\":\\\"호관원효과\\\",\\\"url\\\":\\\"https://search.daum.net/search?w=tot&q=%ED%98%B8%EA%B4%80%EC%9B%90%ED%9A%A8%EA%B3%BC&DA=NPT\\\"},{\\\"keyword\\\":\\\"박서준 화보\\\",\\\"url\\\":\\\"https://search.daum.net/search?w=tot&q=%EB%B0%95%EC%84%9C%EC%A4%80+%ED%99%94%EB%B3%B4&DA=NPI&rtmaxcoll=NNS\\\"},{\\\"keyword\\\":\\\"제주도렌트카\\\",\\\"url\\\":\\\"https://search.daum.net/search?w=tot&q=%EC%A0%9C%EC%A3%BC%EB%8F%84%EB%A0%8C%ED%8A%B8%EC%B9%B4&DA=NPT\\\"}],[{\\\"keyword\\\":\\\"코스피 지수\\\",\\\"url\\\":\\\"https://search.daum.net/search?w=tot&q=%EC%BD%94%EC%8A%A4%ED%94%BC+%EC%A7%80%EC%88%98&DA=NPI&rtmaxcoll=HSU\\\"},{\\\"keyword\\\":\\\"중국 댓글검열\\\",\\\"url\\\":\\\"https://search.daum.net/search?w=tot&q=%EC%A4%91%EA%B5%AD+%EB%8C%93%EA%B8%80%EA%B2%80%EC%97%B4&DA=NPI&rtmaxcoll=NNS\\\"},{\\\"keyword\\\":\\\"남성바지3종세트\\\",\\\"url\\\":\\\"https://search.daum.net/search?w=tot&q=%EB%82%A8%EC%84%B1%EB%B0%94%EC%A7%803%EC%A2%85%EC%84%B8%ED%8A%B8&DA=NPT\\\"},{\\\"keyword\\\":\\\"성훈 종영소감\\\",\\\"url\\\":\\\"https://search.daum.net/search?w=tot&q=%EC%84%B1%ED%9B%88+%EC%A2%85%EC%98%81%EC%86%8C%EA%B0%90&DA=NPI&rtmaxcoll=NNS\\\"},{\\\"keyword\\\":\\\"각파이프\\\",\\\"url\\\":\\\"https://search.daum.net/search?w=tot&q=%EA%B0%81%ED%8C%8C%EC%9D%B4%ED%94%84&DA=NPT\\\"}],[{\\\"keyword\\\":\\\"싸이 공식입장\\\",\\\"url\\\":\\\"https://search.daum.net/search?w=tot&q=%EC%8B%B8%EC%9D%B4+%EA%B3%B5%EC%8B%9D%EC%9E%85%EC%9E%A5&DA=NPI&rtmaxcoll=NNS\\\"},{\\\"keyword\\\":\\\"조재윤 전속계약\\\",\\\"url\\\":\\\"https://search.daum.net/search?w=tot&q=%EC%A1%B0%EC%9E%AC%EC%9C%A4+%EC%A0%84%EC%86%8D%EA%B3%84%EC%95%BD&DA=NPI&rtmaxcoll=NNS\\\"},{\\\"keyword\\\":\\\"사무실가구\\\",\\\"url\\\":\\\"https://search.daum.net/search?w=tot&q=%EC%82%AC%EB%AC%B4%EC%8B%A4%EA%B0%80%EA%B5%AC&DA=NPT\\\"},{\\\"keyword\\\":\\\"카드 쇼케이스\\\",\\\"url\\\":\\\"https://search.daum.net/search?w=tot&q=%EC%B9%B4%EB%93%9C+%EC%87%BC%EC%BC%80%EC%9D%B4%EC%8A%A4&DA=NPI&rtmaxcoll=NNS\\\"},{\\\"keyword\\\":\\\"우수받이\\\",\\\"url\\\":\\\"https://search.daum.net/search?w=tot&q=%EC%9A%B0%EC%88%98%EB%B0%9B%EC%9D%B4&DA=NPT\\\"}]]\"}},\"PC_FOOTER_NOTICE\":{\"code\":2386,\"type\":\"PC_FOOTER_NOTICE\",\"items\":{\"notice\":{\"notice2\":\"{\\\"title\\\":\\\"\\\",\\\"url\\\":\\\"\\\"}\",\"notice1\":\"{\\\"title\\\":\\\"\\\",\\\"url\\\":\\\"\\\"}\",\"notice0\":\"{\\\"title\\\":\\\"[Daum사전] 단어장 Daum계정 지원종료 안내\\\",\\\"url\\\":\\\"https://magazine.daum.net/daum_notice/62b04a0124835d37470bcdc1?view=embed\\\"}\"}},\"feeds\":{}},\"PC_CHANNEL_NATIVE_AD\":{\"code\":2387,\"type\":\"PC_CHANNEL_NATIVE_AD\",\"items\":{\"op\":{\"status\":\"on\"}},\"feeds\":{}}},\"user\":{\"login\":false,\"integration\":false,\"daumUser\":false,\"talkUser\":false,\"profileImage\":null,\"cafeCount\":0,\"mailCount\":0,\"blogNewIcon\":false,\"nick\":null},\"cabinets\":{}},\"status\":{\"code\":200,\"reason\":\"OK\"}}; </script> </head> <body> <noscript> 이 사이트의 기능을 모두 활용하기 위해서는 자바스크립트를 활성화 시킬 필요가 있습니다. <a href=\"https://www.enable-javascript.com/ko/\"> 브라우저에서 자바스크립트를 활성화하는 방법</a >을 참고 하세요. </noscript> <script src=\"https://t1.daumcdn.net/tiara/js/v1/tiara.min.js\" type=\"text/javascript\"></script> <script src=\"https://t1.daumcdn.net/top/tiller-pc/lib/1636937121956/polyfill.min.js\" type=\"text/javascript\" ></script> <script src=\"https://t1.daumcdn.net/top/tiller-pc/h/production/20220616_153208/index.js\" ></script> <script src=\"https://t1.daumcdn.net/kas/static/ba.min.js\" type=\"text/javascript\" defer></script> <script src=\"https://t1.daumcdn.net/top/tiller-pc/1655174491872/tiller-pc-suggest.js\" type=\"text/javascript\" defer ></script> </body></html>\n"
     ]
    }
   ],
   "source": [
    "#findall()\n",
    "\n",
    "rep=req.urlopen('http://daum.net')\n",
    "data=rep.read().decode('utf-8')    #utf-8 형식으로 디코딩 해라\n",
    "print(data)"
   ]
  },
  {
   "cell_type": "code",
   "execution_count": 84,
   "id": "69122fe7-42f7-46c1-b13c-443ee325de99",
   "metadata": {},
   "outputs": [
    {
     "name": "stdout",
     "output_type": "stream",
     "text": [
      "['.js', '.js', '.js', '.js', '.js', '.js', '.js', '.js', '.js', '.js']\n"
     ]
    }
   ],
   "source": [
    "print(re.findall('[.]js',data))"
   ]
  },
  {
   "cell_type": "code",
   "execution_count": 91,
   "id": "84f822c0-5a83-4561-b931-645d0a0d8ba7",
   "metadata": {},
   "outputs": [
    {
     "name": "stdout",
     "output_type": "stream",
     "text": [
      "['https://t1.daumcdn.net/kas/static/na.min.js', 'http://tktapi.melon.com/kmt/landing.js', 'http://tktapi.melon.com/kmt/landing.js', 'http://tktapi.melon.com/kmt/landing.js', 'http://tktapi.melon.com/kmt/landing.js', 'https://t1.daumcdn.net/tiara/js/v1/tiara.min.js', 'https://t1.daumcdn.net/kas/static/ba.min.js']\n"
     ]
    }
   ],
   "source": [
    "print(re.findall('h[.:/a-zA-Z0-9]*[.]js',data))"
   ]
  },
  {
   "cell_type": "code",
   "execution_count": 92,
   "id": "51429596-e8ae-44ac-9c4a-b4f4032c4f15",
   "metadata": {},
   "outputs": [
    {
     "name": "stdout",
     "output_type": "stream",
     "text": [
      "['https://t1.daumcdn.net/kas/static/na.min.js', 'http://tktapi.melon.com/kmt/landing.js', 'http://tktapi.melon.com/kmt/landing.js', 'http://tktapi.melon.com/kmt/landing.js', 'http://tktapi.melon.com/kmt/landing.js', 'https://t1.daumcdn.net/tiara/js/v1/tiara.min.js', 'https://t1.daumcdn.net/kas/static/ba.min.js']\n"
     ]
    }
   ],
   "source": [
    "print(re.findall('htt[\\w.:/]*[.]js',data))"
   ]
  },
  {
   "cell_type": "code",
   "execution_count": 99,
   "id": "01a9a86f-7011-46cf-9364-8e0f1fd9dfe3",
   "metadata": {},
   "outputs": [
    {
     "name": "stdout",
     "output_type": "stream",
     "text": [
      "None\n"
     ]
    }
   ],
   "source": [
    "#match()\n",
    "\n",
    "p=re.compile('[a-z]+')\n",
    "p.match('12345python12345')\n",
    "print(p.match('12345python12345'))"
   ]
  },
  {
   "cell_type": "code",
   "execution_count": 102,
   "id": "ec50033c-abbe-4734-b1ae-fa2e0f191e40",
   "metadata": {},
   "outputs": [
    {
     "name": "stdout",
     "output_type": "stream",
     "text": [
      "<re.Match object; span=(5, 11), match='python'>\n",
      "<re.Match object; span=(5, 11), match='python'>\n"
     ]
    }
   ],
   "source": [
    "#search()\n",
    "\n",
    "print(p.search('12345python12345'))\n",
    "print(p.search('12345python12345python'))"
   ]
  },
  {
   "cell_type": "code",
   "execution_count": 113,
   "id": "bc002f7e-f3ba-4c6f-964d-0568649fcc41",
   "metadata": {},
   "outputs": [
    {
     "data": {
      "text/plain": [
       "'python'"
      ]
     },
     "execution_count": 113,
     "metadata": {},
     "output_type": "execute_result"
    }
   ],
   "source": [
    "# search().group()\n",
    "\n",
    "match=p.search('12345python12345python')\n",
    "match.group()"
   ]
  },
  {
   "cell_type": "code",
   "execution_count": 103,
   "id": "8f430c65-c167-460e-95d6-0f63009cba6f",
   "metadata": {},
   "outputs": [
    {
     "name": "stdout",
     "output_type": "stream",
     "text": [
      "['python', 'python']\n"
     ]
    }
   ],
   "source": [
    "print(p.findall('12345python12345python'))"
   ]
  },
  {
   "cell_type": "code",
   "execution_count": 2,
   "id": "c5cf3aac-87ca-4a2c-b7f4-c43d605ed163",
   "metadata": {},
   "outputs": [
    {
     "ename": "NameError",
     "evalue": "name 'p' is not defined",
     "output_type": "error",
     "traceback": [
      "\u001b[1;31m---------------------------------------------------------------------------\u001b[0m",
      "\u001b[1;31mNameError\u001b[0m                                 Traceback (most recent call last)",
      "\u001b[1;32m<ipython-input-2-f1c352dcf03d>\u001b[0m in \u001b[0;36m<module>\u001b[1;34m\u001b[0m\n\u001b[0;32m      1\u001b[0m \u001b[1;31m#finditer()\u001b[0m\u001b[1;33m\u001b[0m\u001b[1;33m\u001b[0m\u001b[1;33m\u001b[0m\u001b[0m\n\u001b[0;32m      2\u001b[0m \u001b[1;33m\u001b[0m\u001b[0m\n\u001b[1;32m----> 3\u001b[1;33m \u001b[0mprint\u001b[0m\u001b[1;33m(\u001b[0m\u001b[0mp\u001b[0m\u001b[1;33m.\u001b[0m\u001b[0mfinditer\u001b[0m\u001b[1;33m(\u001b[0m\u001b[1;34m'12345python12345python'\u001b[0m\u001b[1;33m)\u001b[0m\u001b[1;33m)\u001b[0m\u001b[1;33m\u001b[0m\u001b[1;33m\u001b[0m\u001b[0m\n\u001b[0m\u001b[0;32m      4\u001b[0m \u001b[1;32mfor\u001b[0m \u001b[0mi\u001b[0m \u001b[1;32min\u001b[0m \u001b[0mp\u001b[0m\u001b[1;33m.\u001b[0m\u001b[0mfinditer\u001b[0m\u001b[1;33m(\u001b[0m\u001b[1;34m'12345python\\n12345python'\u001b[0m\u001b[1;33m)\u001b[0m\u001b[1;33m:\u001b[0m\u001b[1;33m\u001b[0m\u001b[1;33m\u001b[0m\u001b[0m\n\u001b[0;32m      5\u001b[0m     \u001b[0mprint\u001b[0m\u001b[1;33m(\u001b[0m\u001b[0mi\u001b[0m\u001b[1;33m)\u001b[0m\u001b[1;33m\u001b[0m\u001b[1;33m\u001b[0m\u001b[0m\n",
      "\u001b[1;31mNameError\u001b[0m: name 'p' is not defined"
     ]
    }
   ],
   "source": [
    "#finditer()\n",
    "\n",
    "print(p.finditer('12345python12345python'))\n",
    "for i in p.finditer('12345python12345python'):\n",
    "    print(i)\n",
    "    \n",
    "# finditer().group()\n",
    "# finditer().start()\n",
    "# finditer().end()\n",
    "match=p.finditer('12345python12345python')\n",
    "\n",
    "for i in match:\n",
    "    print(i.group())\n",
    "    print(i.start())\n",
    "    print(i.end())"
   ]
  },
  {
   "cell_type": "code",
   "execution_count": 110,
   "id": "f9138bfd-6de9-47f3-89d0-2a47fe045c7a",
   "metadata": {},
   "outputs": [
    {
     "data": {
      "text/plain": [
       "'12345*****12345*****'"
      ]
     },
     "execution_count": 110,
     "metadata": {},
     "output_type": "execute_result"
    }
   ],
   "source": [
    "#sub()\n",
    "\n",
    "p.sub('*'*5,'12345python12345python')"
   ]
  },
  {
   "cell_type": "code",
   "execution_count": 99,
   "id": "a3ebc189-7784-4161-bb8a-0773179b781a",
   "metadata": {},
   "outputs": [
    {
     "name": "stdout",
     "output_type": "stream",
     "text": [
      "['#giveaway', '#quote', '#win', '#marketing']\n",
      "giveaway\n",
      "quote\n",
      "win\n",
      "marketing\n",
      "\n",
      "giveaway_\n",
      "_travel365\n",
      "quote\n",
      "win\n",
      "marketing\n",
      "\n",
      "giveaway_\n",
      "_travel365\n",
      "quote\n",
      "win\n",
      "marketing\n",
      "1. giveaway\n",
      "2. quote\n",
      "3. win\n",
      "4. marketing\n",
      "\n",
      "1. giveaway\n",
      "2. quote\n",
      "3. win\n",
      "4. marketing\n"
     ]
    }
   ],
   "source": [
    "#문제\n",
    "import re\n",
    "\n",
    "sentence=\"The most popular Twitter hashtags: #giveaway_ #_travel365 #quote #win #marketing\"\n",
    "\n",
    "#방법1\n",
    "p=re.compile('[#][a-z0-9]+')\n",
    "hash=p.findall(sentence)\n",
    "print(hash)\n",
    "for i in hash:\n",
    "    print(i[1:])\n",
    "\n",
    "print()\n",
    "    \n",
    "#방법2\n",
    "p=re.compile('[#]\\w+')\n",
    "hash=p.findall(sentence)\n",
    "for i in hash:\n",
    "    print(i[1:])\n",
    "\n",
    "print()  \n",
    "    \n",
    "#방법3\n",
    "for i in hash:\n",
    "    print(i.lstrip('#'))\n",
    "    \n",
    "\n",
    "    \n",
    "    \n",
    "#등수를 매기고 출력\n",
    "\n",
    "#방법1\n",
    "p=re.compile('[#][a-z0-9]+')\n",
    "hash=p.findall(sentence)\n",
    "n=0\n",
    "for i in hash:\n",
    "    n+=1\n",
    "    print(f'{n}. {i[1:]}')\n",
    "    \n",
    "print()  \n",
    "\n",
    "#방법2\n",
    "for i,j in enumerate(hash,1):\n",
    "#    print(f'{i}. {j[1:]}')\n",
    "    print(str(i)+\". \"+j.lstrip('#'))"
   ]
  },
  {
   "cell_type": "code",
   "execution_count": 105,
   "id": "ff2cff01-eeaf-46ac-b9f1-42c4543ac7ea",
   "metadata": {},
   "outputs": [
    {
     "name": "stdout",
     "output_type": "stream",
     "text": [
      "['makeup', 'yellow', 'shirts', 'lakers', 'layered']\n",
      "makeup, 22, 28\n"
     ]
    }
   ],
   "source": [
    "lyrics = \"있는 그대로 it's more than makeup 그 누구보다도 아름다운걸 yellow shirts 마치 lakers 대화로 꽃을 피워 layered 매일 매일\" \n",
    "\n",
    "\n",
    "#여섯글자 이상의 알파벳 모두 추출\n",
    "import re\n",
    "p=re.compile('[a-zA-Z]{6,}')\n",
    "alpha=p.findall(lyrics)\n",
    "print(alpha)\n",
    "\n",
    "#맨처음 나온 여섯글자의 알파벳과 인덱스번호 출력\n",
    "import re\n",
    "p=re.compile('[a-zA-Z]{6}')\n",
    "search=p.search(lyrics)\n",
    "print(search.group(), search.start(), search.end(),sep=', ')\n"
   ]
  },
  {
   "cell_type": "code",
   "execution_count": 156,
   "id": "e718dc0e-f8fb-44ac-b81a-4ec34c61b275",
   "metadata": {},
   "outputs": [
    {
     "name": "stdout",
     "output_type": "stream",
     "text": [
      "\n",
      "park 010-1234-****\n",
      "kim 010-5678-****\n",
      "lee 010-1111-****\n",
      "\n",
      "\n",
      "park 010-1234-5678\n",
      "kim 010-5678-1234\n",
      "lee 010-1111-****\n",
      "\n",
      "\n",
      "park 010-1234-****\n",
      "kim 010-5678-****\n",
      "lee 010-1111-****\n",
      "\n",
      "\n",
      "**** 010-1234-5678\n",
      "**** 010-5678-1234\n",
      "**** 010-1111-2222\n",
      "\n"
     ]
    }
   ],
   "source": [
    "#뒤의 4자리를 *로 변경\n",
    "data='''\n",
    "park 010-1234-5678\n",
    "kim 010-5678-1234\n",
    "lee 010-1111-2222\n",
    "'''\n",
    "\n",
    "import re\n",
    "\n",
    "#방법1\n",
    "p=re.compile('(\\d{3}[-]\\d{4})[-]\\d{4}')\n",
    "sub=p.sub('\\g<1>-****',data)\n",
    "print(sub)\n",
    "\n",
    "#방법2\n",
    "p2=re.compile('\\d{4}$')          #데이터의 마지막줄 마지막만 인식해서 변경함\n",
    "sub2=p2.sub('****',data)\n",
    "print(sub2)\n",
    "\n",
    "#->\n",
    "p2_2=re.compile('\\d{4}$',re.MULTILINE)\n",
    "sub2_2=p2_2.sub('****',data)\n",
    "print(sub2_2)\n",
    "\n",
    "p=re.compile('[a-zA-Z]+(\\s\\d{3})')\n",
    "sub=p.sub('****\\g<1>',data)\n",
    "print(sub)\n"
   ]
  },
  {
   "cell_type": "code",
   "execution_count": 159,
   "id": "25a282a9-c742-49f8-9178-581cdcda773a",
   "metadata": {},
   "outputs": [
    {
     "data": {
      "text/plain": [
       "['python one', 'python two', 'python tree']"
      ]
     },
     "execution_count": 159,
     "metadata": {},
     "output_type": "execute_result"
    }
   ],
   "source": [
    "data='''\n",
    "python one\n",
    "life is too short\n",
    "python two\n",
    "you need python\n",
    "python tree\n",
    "'''\n",
    "\n",
    "\n",
    "p=re.compile('^python\\s\\w+',re.M)\n",
    "p.findall(data)\n"
   ]
  },
  {
   "cell_type": "code",
   "execution_count": 166,
   "id": "357d0877-d787-47c1-8aa3-d2218495b2ef",
   "metadata": {},
   "outputs": [
    {
     "name": "stdout",
     "output_type": "stream",
     "text": [
      "Hello new shoes nike \\ adidas \\ puma\n"
     ]
    }
   ],
   "source": [
    "print('Hello new shoes nike \\ adidas \\ puma')"
   ]
  },
  {
   "cell_type": "code",
   "execution_count": 170,
   "id": "65227ab7-897e-4c3b-99a6-f26413b17d20",
   "metadata": {},
   "outputs": [
    {
     "name": "stdout",
     "output_type": "stream",
     "text": [
      "[]\n"
     ]
    }
   ],
   "source": [
    "data='''\n",
    "\\section1: nike\n",
    "\\section2: adidas\n",
    "'''\n",
    "\n",
    "p=re.compile('\\\\section')\n",
    "f=p.findall(data)\n",
    "print(f)"
   ]
  },
  {
   "cell_type": "markdown",
   "id": "96e7e84e-2cb3-487e-8707-e470d5723be5",
   "metadata": {},
   "source": [
    "- 바운더리(Boundary)<br>\n",
    "\\b"
   ]
  },
  {
   "cell_type": "code",
   "execution_count": 173,
   "id": "51974911-0209-455d-8f4b-edff0364bcb5",
   "metadata": {},
   "outputs": [
    {
     "name": "stdout",
     "output_type": "stream",
     "text": [
      "['class', 'class']\n"
     ]
    }
   ],
   "source": [
    "p=re.compile(r'class')\n",
    "print(p.findall('no subclass at all class.'))"
   ]
  },
  {
   "cell_type": "markdown",
   "id": "d47a5771-3c21-49fc-bd68-9ca5fcdd90fe",
   "metadata": {},
   "source": [
    "- 그룹"
   ]
  },
  {
   "cell_type": "code",
   "execution_count": 176,
   "id": "0e3ed58c-22ad-4c1d-a0b9-69537cfafa0e",
   "metadata": {},
   "outputs": [
    {
     "name": "stdout",
     "output_type": "stream",
     "text": [
      "<re.Match object; span=(0, 18), match='park 010-1234-1234'>\n"
     ]
    }
   ],
   "source": [
    "p=re.compile(r'\\w+\\s+\\d+[-]\\d+[-]\\d+')\n",
    "m=p.search('park 010-1234-1234')\n",
    "print(m)"
   ]
  },
  {
   "cell_type": "code",
   "execution_count": 183,
   "id": "9f05403c-bffd-481c-bc5a-1a6624e01b03",
   "metadata": {},
   "outputs": [
    {
     "name": "stdout",
     "output_type": "stream",
     "text": [
      "park\n",
      "010-1234-1234\n"
     ]
    }
   ],
   "source": [
    "p=re.compile(r'(\\w+)\\s+(\\d+[-]\\d+[-]\\d+)')\n",
    "m=p.search('park 010-1234-1234')\n",
    "print(m.group(1))\n",
    "print(m.group(2))\n"
   ]
  },
  {
   "cell_type": "code",
   "execution_count": 193,
   "id": "cff23a8d-6b33-4c51-be36-db3627df2e2a",
   "metadata": {},
   "outputs": [
    {
     "name": "stdout",
     "output_type": "stream",
     "text": [
      "park\n",
      "010-1234-5678\n",
      "kim\n",
      "010-5678-1234\n",
      "lee\n",
      "010-1111-2222\n",
      "010\n",
      "010\n",
      "010\n"
     ]
    }
   ],
   "source": [
    "data='''park 010-1234-5678\n",
    "kim 010-5678-1234\n",
    "lee 010-1111-2222'''\n",
    "\n",
    "\n",
    "p=re.compile('(\\w+)\\s+(\\d+[-]\\d+[-]\\d+)')\n",
    "m=p.finditer(data)\n",
    "\n",
    "for i in m:\n",
    "    print(i.group(1))\n",
    "    print(i.group(2))\n",
    "\n",
    "    \n",
    "#괄호 안에 또다른 괄호가 들어가도 됨\n",
    "p=re.compile('(\\w+)\\s+((\\d+)[-]\\d+[-]\\d+)')\n",
    "m=p.finditer(data)\n",
    "\n",
    "for i in m:\n",
    "    print(i.group(3))\n",
    "    \n"
   ]
  },
  {
   "cell_type": "code",
   "execution_count": 199,
   "id": "2c9ced3c-4df5-49c7-86bf-42ea329b5f74",
   "metadata": {},
   "outputs": [
    {
     "name": "stdout",
     "output_type": "stream",
     "text": [
      "park\n",
      "kim\n",
      "lee\n"
     ]
    }
   ],
   "source": [
    "#그룹에 이름 붙이기 --> 괄호 앞에 ?P<그룹 이름>\n",
    "p=re.compile('(?P<이름>\\w+)\\s+((\\d+)[-]\\d+[-]\\d)')\n",
    "m=p.finditer(data)\n",
    "for i in m:\n",
    "    print(i.group('이름'))\n",
    "    \n",
    "    "
   ]
  },
  {
   "cell_type": "code",
   "execution_count": 203,
   "id": "febddcb7-b67a-4f66-9691-7c440d65139a",
   "metadata": {},
   "outputs": [
    {
     "name": "stdout",
     "output_type": "stream",
     "text": [
      "Support for regular expressions (RE).\n",
      "\n",
      "This module provides regular expression matching operations similar to\n",
      "those found in Perl.  It supports both 8-bit and Unicode strings; both\n",
      "the pattern and the strings being processed can contain null bytes and\n",
      "characters outside the US ASCII range.\n",
      "\n",
      "Regular expressions can contain both special and ordinary characters.\n",
      "Most ordinary characters, like \"A\", \"a\", or \"0\", are the simplest\n",
      "regular expressions; they simply match themselves.  You can\n",
      "concatenate ordinary characters, so last matches the string 'last'.\n",
      "\n",
      "The special characters are:\n",
      "    \".\"      Matches any character except a newline.\n",
      "    \"^\"      Matches the start of the string.\n",
      "    \"$\"      Matches the end of the string or just before the newline at\n",
      "             the end of the string.\n",
      "    \"*\"      Matches 0 or more (greedy) repetitions of the preceding RE.\n",
      "             Greedy means that it will match as many repetitions as possible.\n",
      "    \"+\"      Matches 1 or more (greedy) repetitions of the preceding RE.\n",
      "    \"?\"      Matches 0 or 1 (greedy) of the preceding RE.\n",
      "    *?,+?,?? Non-greedy versions of the previous three special characters.\n",
      "    {m,n}    Matches from m to n repetitions of the preceding RE.\n",
      "    {m,n}?   Non-greedy version of the above.\n",
      "    \"\\\\\"     Either escapes special characters or signals a special sequence.\n",
      "    []       Indicates a set of characters.\n",
      "             A \"^\" as the first character indicates a complementing set.\n",
      "    \"|\"      A|B, creates an RE that will match either A or B.\n",
      "    (...)    Matches the RE inside the parentheses.\n",
      "             The contents can be retrieved or matched later in the string.\n",
      "    (?aiLmsux) The letters set the corresponding flags defined below.\n",
      "    (?:...)  Non-grouping version of regular parentheses.\n",
      "    (?P<name>...) The substring matched by the group is accessible by name.\n",
      "    (?P=name)     Matches the text matched earlier by the group named name.\n",
      "    (?#...)  A comment; ignored.\n",
      "    (?=...)  Matches if ... matches next, but doesn't consume the string.\n",
      "    (?!...)  Matches if ... doesn't match next.\n",
      "    (?<=...) Matches if preceded by ... (must be fixed length).\n",
      "    (?<!...) Matches if not preceded by ... (must be fixed length).\n",
      "    (?(id/name)yes|no) Matches yes pattern if the group with id/name matched,\n",
      "                       the (optional) no pattern otherwise.\n",
      "\n",
      "The special sequences consist of \"\\\\\" and a character from the list\n",
      "below.  If the ordinary character is not on the list, then the\n",
      "resulting RE will match the second character.\n",
      "    \\number  Matches the contents of the group of the same number.\n",
      "    \\A       Matches only at the start of the string.\n",
      "    \\Z       Matches only at the end of the string.\n",
      "    \\b       Matches the empty string, but only at the start or end of a word.\n",
      "    \\B       Matches the empty string, but not at the start or end of a word.\n",
      "    \\d       Matches any decimal digit; equivalent to the set [0-9] in\n",
      "             bytes patterns or string patterns with the ASCII flag.\n",
      "             In string patterns without the ASCII flag, it will match the whole\n",
      "             range of Unicode digits.\n",
      "    \\D       Matches any non-digit character; equivalent to [^\\d].\n",
      "    \\s       Matches any whitespace character; equivalent to [ \\t\\n\\r\\f\\v] in\n",
      "             bytes patterns or string patterns with the ASCII flag.\n",
      "             In string patterns without the ASCII flag, it will match the whole\n",
      "             range of Unicode whitespace characters.\n",
      "    \\S       Matches any non-whitespace character; equivalent to [^\\s].\n",
      "    \\w       Matches any alphanumeric character; equivalent to [a-zA-Z0-9_]\n",
      "             in bytes patterns or string patterns with the ASCII flag.\n",
      "             In string patterns without the ASCII flag, it will match the\n",
      "             range of Unicode alphanumeric characters (letters plus digits\n",
      "             plus underscore).\n",
      "             With LOCALE, it will match the set [0-9_] plus characters defined\n",
      "             as letters for the current locale.\n",
      "    \\W       Matches the complement of \\w.\n",
      "    \\\\       Matches a literal backslash.\n",
      "\n",
      "This module exports the following functions:\n",
      "    match     Match a regular expression pattern to the beginning of a string.\n",
      "    fullmatch Match a regular expression pattern to all of a string.\n",
      "    search    Search a string for the presence of a pattern.\n",
      "    sub       Substitute occurrences of a pattern found in a string.\n",
      "    subn      Same as sub, but also return the number of substitutions made.\n",
      "    split     Split a string by the occurrences of a pattern.\n",
      "    findall   Find all occurrences of a pattern in a string.\n",
      "    finditer  Return an iterator yielding a Match object for each match.\n",
      "    compile   Compile a pattern into a Pattern object.\n",
      "    purge     Clear the regular expression cache.\n",
      "    escape    Backslash all non-alphanumerics in a string.\n",
      "\n",
      "Each function other than purge and escape can take an optional 'flags' argument\n",
      "consisting of one or more of the following module constants, joined by \"|\".\n",
      "A, L, and U are mutually exclusive.\n",
      "    A  ASCII       For string patterns, make \\w, \\W, \\b, \\B, \\d, \\D\n",
      "                   match the corresponding ASCII character categories\n",
      "                   (rather than the whole Unicode categories, which is the\n",
      "                   default).\n",
      "                   For bytes patterns, this flag is the only available\n",
      "                   behaviour and needn't be specified.\n",
      "    I  IGNORECASE  Perform case-insensitive matching.\n",
      "    L  LOCALE      Make \\w, \\W, \\b, \\B, dependent on the current locale.\n",
      "    M  MULTILINE   \"^\" matches the beginning of lines (after a newline)\n",
      "                   as well as the string.\n",
      "                   \"$\" matches the end of lines (before a newline) as well\n",
      "                   as the end of the string.\n",
      "    S  DOTALL      \".\" matches any character at all, including the newline.\n",
      "    X  VERBOSE     Ignore whitespace and comments for nicer looking RE's.\n",
      "    U  UNICODE     For compatibility only. Ignored for string patterns (it\n",
      "                   is the default), and forbidden for bytes patterns.\n",
      "\n",
      "This module also defines an exception 'error'.\n",
      "\n",
      "\n"
     ]
    }
   ],
   "source": [
    "#re 라이브러리에 대한 설명이 나와있음\n",
    "\n",
    "print(re.__doc__)"
   ]
  },
  {
   "cell_type": "code",
   "execution_count": 239,
   "id": "e2bfb56d-b16f-406f-89d4-4d4c42ecbd95",
   "metadata": {},
   "outputs": [
    {
     "name": "stdout",
     "output_type": "stream",
     "text": [
      "jung\n",
      "lee\n"
     ]
    }
   ],
   "source": [
    "#문제\n",
    "#주민등록번호 규칙\n",
    "\n",
    "data='''\n",
    "jung 950225-1054875\n",
    "lee 950115-2011478\n",
    "yoon 972151-3054874\n",
    "'''\n",
    "import re\n",
    "\n",
    "p=re.compile('(?P<이름>\\w+)\\s+(?P<앞자리>\\d{6})[-](?P<뒷자리>[1|2]\\d{6})')\n",
    "m=p.finditer(data)\n",
    "\n",
    "for i in m:\n",
    "    print(i.group('이름'))\n",
    "\n",
    "for i in m:\n",
    "    print(i.group('앞자리'))"
   ]
  },
  {
   "cell_type": "code",
   "execution_count": 275,
   "id": "effc41e9-031d-4ab2-87f0-80ad41a0f14d",
   "metadata": {},
   "outputs": [
    {
     "name": "stdout",
     "output_type": "stream",
     "text": [
      "010-4955-2222\n",
      "017-465-8521\n",
      "010-5124-1111\n",
      "01859481234\n",
      "['010-4955-2222', '017-465-8521', '010-5124-1111', '01859481234']\n"
     ]
    }
   ],
   "source": [
    "#핸드폰번호 규칙\n",
    "data='''\n",
    "choi 010-4955-2222\n",
    "lee 017-465-8521\n",
    "park 010-5124-1111\n",
    "kim 018-5948-1234\n",
    "'''\n",
    "p=re.compile(r'\\w+\\s+01[0|1|6|7|8|9]?[-]?[0-9]{3,4}[-]?[0-9]{4}$')\n",
    "num=p.finditer(data)\n",
    "\n",
    "for i in m:\n",
    "    print(i)\n",
    "print(m)\n"
   ]
  },
  {
   "cell_type": "code",
   "execution_count": 280,
   "id": "c1b29acd-008f-4d25-b8ff-6d2a29da2e4d",
   "metadata": {},
   "outputs": [
    {
     "name": "stdout",
     "output_type": "stream",
     "text": [
      "이름: choi\n",
      "핸드폰 번호: 010-4955-2222\n",
      "\n",
      "이름: lee\n",
      "핸드폰 번호: 017-465-8521\n",
      "\n",
      "이름: park\n",
      "핸드폰 번호: 010-5124-1111\n",
      "\n",
      "이름: kim\n",
      "핸드폰 번호: 018-5948-1234\n",
      "\n"
     ]
    }
   ],
   "source": [
    "#과제\n",
    "#다음의 data를 활용하여, 정규표현식으로 name, number등 그룹명을 정하고 각 인적사항을 정리하기\n",
    "data='''\n",
    "choi 010-4955-2222\n",
    "lee 017-465-8521\n",
    "park 010-5124-1111\n",
    "kim 018-5948-1234\n",
    "'''\n",
    "\n",
    "p=re.compile('(?P<name>\\w+)\\s+(?P<number>\\d{3}[-]\\d{3,4}[-]\\d{4})')\n",
    "m=p.finditer(data)\n",
    "for i in m:\n",
    "    print('이름: '+i.group('name'))\n",
    "    print('핸드폰 번호: '+i.group('number'))\n",
    "    print()\n",
    "    \n"
   ]
  },
  {
   "cell_type": "code",
   "execution_count": null,
   "id": "a82a2980-ddbb-43aa-9f95-571f0407527f",
   "metadata": {},
   "outputs": [],
   "source": []
  },
  {
   "cell_type": "code",
   "execution_count": null,
   "id": "527f69ea-6d20-4a57-8b35-468e6ff02362",
   "metadata": {},
   "outputs": [],
   "source": []
  },
  {
   "cell_type": "code",
   "execution_count": null,
   "id": "443c6405-eabf-4c51-95b4-b47076bf5448",
   "metadata": {},
   "outputs": [],
   "source": []
  },
  {
   "cell_type": "code",
   "execution_count": null,
   "id": "80c7c404-33e4-41a1-9907-752c8d22b0fb",
   "metadata": {},
   "outputs": [],
   "source": []
  },
  {
   "cell_type": "code",
   "execution_count": null,
   "id": "690cc05f-be25-4261-abb6-ea8afe763dd6",
   "metadata": {},
   "outputs": [],
   "source": []
  }
 ],
 "metadata": {
  "kernelspec": {
   "display_name": "Python 3 (ipykernel)",
   "language": "python",
   "name": "python3"
  },
  "language_info": {
   "codemirror_mode": {
    "name": "ipython",
    "version": 3
   },
   "file_extension": ".py",
   "mimetype": "text/x-python",
   "name": "python",
   "nbconvert_exporter": "python",
   "pygments_lexer": "ipython3",
   "version": "3.8.13"
  },
  "toc": {
   "base_numbering": 1,
   "nav_menu": {},
   "number_sections": true,
   "sideBar": true,
   "skip_h1_title": false,
   "title_cell": "Table of Contents",
   "title_sidebar": "Contents",
   "toc_cell": false,
   "toc_position": {},
   "toc_section_display": true,
   "toc_window_display": true
  }
 },
 "nbformat": 4,
 "nbformat_minor": 5
}
